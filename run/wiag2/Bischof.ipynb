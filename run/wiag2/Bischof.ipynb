{
 "cells": [
  {
   "cell_type": "markdown",
   "metadata": {},
   "source": [
    "# Wissensaggregator Mittelalter und frühe Neuzeit\n",
    "\n",
    "## Daten für Bischöfe einlesen\n",
    "\n",
    "Übertrage Daten aus Access. Die Daten werden aus Access via ODBC in eine Transfer-Datenbank geschrieben: `bischof.tbl_bischoefe_gatz` und `bischof.tbl_bischoefe_gatzaemter`\n",
    "\n",
    "[Bischöfe](#Bischöfe)\n",
    "- [Einträge in `item`](#Einträge-in-item)\n",
    "- [Daten eintragen](#Daten-eintragen)\n",
    "- [Orden eintragen](#Orden-eintragen)\n",
    "- [Referenzwerke eintragen](#Referenzwerke-eintragen)\n",
    "- [Externe URLs eintragen](#Externe-URLs-eintragen)\n",
    "- [Namensvarianten eintragen](#Namensvarianten-eintragen)\n",
    "- [Suchvarianten eintragen (name_lookup)](#Suchvarianten-eintragen-(name_lookup))"
   ]
  },
  {
   "cell_type": "markdown",
   "metadata": {},
   "source": [
    "Vorspann: Pakete laden; mit der Datenbank verbinden"
   ]
  },
  {
   "cell_type": "code",
   "execution_count": 2,
   "metadata": {},
   "outputs": [
    {
     "data": {
      "text/plain": [
       "\"C:\\\\Users\\\\Georg\\\\Documents\\\\projekte\\\\WiagDataSetup.jl\""
      ]
     },
     "execution_count": 2,
     "metadata": {},
     "output_type": "execute_result"
    }
   ],
   "source": [
    "wds_path=\"C:\\\\Users\\\\Georg\\\\Documents\\\\projekte\\\\WiagDataSetup.jl\""
   ]
  },
  {
   "cell_type": "code",
   "execution_count": 3,
   "metadata": {},
   "outputs": [],
   "source": [
    "cd(wds_path)"
   ]
  },
  {
   "cell_type": "code",
   "execution_count": 4,
   "metadata": {},
   "outputs": [],
   "source": [
    "using Pkg"
   ]
  },
  {
   "cell_type": "code",
   "execution_count": 5,
   "metadata": {},
   "outputs": [
    {
     "name": "stderr",
     "output_type": "stream",
     "text": [
      "\u001b[32m\u001b[1m  Activating\u001b[22m\u001b[39m project at `C:\\Users\\Georg\\Documents\\projekte\\WiagDataSetup.jl`\n"
     ]
    }
   ],
   "source": [
    "Pkg.activate(\".\")"
   ]
  },
  {
   "cell_type": "code",
   "execution_count": 6,
   "metadata": {},
   "outputs": [],
   "source": [
    "using Revise"
   ]
  },
  {
   "cell_type": "code",
   "execution_count": 7,
   "metadata": {},
   "outputs": [],
   "source": [
    "using WiagDataSetup"
   ]
  },
  {
   "cell_type": "code",
   "execution_count": 8,
   "metadata": {},
   "outputs": [],
   "source": [
    "using MySQL, DataFrames"
   ]
  },
  {
   "cell_type": "code",
   "execution_count": 9,
   "metadata": {},
   "outputs": [
    {
     "data": {
      "text/plain": [
       "WiagDataSetup"
      ]
     },
     "execution_count": 9,
     "metadata": {},
     "output_type": "execute_result"
    }
   ],
   "source": [
    "Wds = WiagDataSetup"
   ]
  },
  {
   "cell_type": "code",
   "execution_count": 10,
   "metadata": {},
   "outputs": [
    {
     "name": "stdout",
     "output_type": "stream",
     "text": [
      "Passwort für User georg: ········\n"
     ]
    },
    {
     "data": {
      "text/plain": [
       "MySQL.Connection(host=\"127.0.0.1\", user=\"georg\", port=\"3306\", db=\"wiag2\")"
      ]
     },
     "execution_count": 10,
     "metadata": {},
     "output_type": "execute_result"
    }
   ],
   "source": [
    "Wds.setDBWIAG(user=\"georg\", db=\"wiag2\")"
   ]
  },
  {
   "cell_type": "markdown",
   "metadata": {},
   "source": [
    "## Bischöfe"
   ]
  },
  {
   "cell_type": "code",
   "execution_count": 19,
   "metadata": {},
   "outputs": [],
   "source": [
    "df_episc = DBInterface.execute(Wds.dbwiag, \"SELECT * FROM bischof.tbl_bischoefe_gatz\") |> DataFrame;"
   ]
  },
  {
   "cell_type": "markdown",
   "metadata": {},
   "source": [
    "Leerzeichen bereinigen"
   ]
  },
  {
   "cell_type": "code",
   "execution_count": 20,
   "metadata": {},
   "outputs": [],
   "source": [
    "Wds.clean_up!(df_episc)"
   ]
  },
  {
   "cell_type": "code",
   "execution_count": 17,
   "metadata": {},
   "outputs": [
    {
     "data": {
      "text/html": [
       "<div class=\"data-frame\"><p>5 rows × 30 columns (omitted printing of 26 columns)</p><table class=\"data-frame\"><thead><tr><th></th><th>ID_Bischof</th><th>Eintrag RI OPAC</th><th>Autoren Gatz</th><th>Seite Gatz</th></tr><tr><th></th><th title=\"Union{Missing, Int32}\">Int32?</th><th title=\"Union{Missing, String}\">String?</th><th title=\"Union{Missing, String}\">String?</th><th title=\"Union{Missing, String}\">String?</th></tr></thead><tbody><tr><th>1</th><td>21086</td><td>um 1372, Johannes</td><td><em>missing</em></td><td>137</td></tr><tr><th>2</th><td>21087</td><td>um 1378, Michael, Ep. Sythiensis</td><td><em>missing</em></td><td>137</td></tr><tr><th>3</th><td>21088</td><td>1392-1398, Fr. Dietricus, OFM, Ep. Siginensis</td><td><em>missing</em></td><td>137</td></tr><tr><th>4</th><td>21089</td><td>1406-1408, Bertholdus, OP, Ep. Sewastopolensis</td><td><em>missing</em></td><td>137</td></tr><tr><th>5</th><td>21090</td><td>1411-1418, Conradus Simplicy, OFM, Ep. Siginensis</td><td><em>missing</em></td><td>137</td></tr></tbody></table></div>"
      ],
      "text/latex": [
       "\\begin{tabular}{r|ccccc}\n",
       "\t& ID\\_Bischof & Eintrag RI OPAC & Autoren Gatz & Seite Gatz & \\\\\n",
       "\t\\hline\n",
       "\t& Int32? & String? & String? & String? & \\\\\n",
       "\t\\hline\n",
       "\t1 & 21086 & um 1372, Johannes & \\emph{missing} & 137 & $\\dots$ \\\\\n",
       "\t2 & 21087 & um 1378, Michael, Ep. Sythiensis & \\emph{missing} & 137 & $\\dots$ \\\\\n",
       "\t3 & 21088 & 1392-1398, Fr. Dietricus, OFM, Ep. Siginensis & \\emph{missing} & 137 & $\\dots$ \\\\\n",
       "\t4 & 21089 & 1406-1408, Bertholdus, OP, Ep. Sewastopolensis & \\emph{missing} & 137 & $\\dots$ \\\\\n",
       "\t5 & 21090 & 1411-1418, Conradus Simplicy, OFM, Ep. Siginensis & \\emph{missing} & 137 & $\\dots$ \\\\\n",
       "\\end{tabular}\n"
      ],
      "text/plain": [
       "\u001b[1m5×30 DataFrame\u001b[0m\n",
       "\u001b[1m Row \u001b[0m│\u001b[1m ID_Bischof \u001b[0m\u001b[1m Eintrag RI OPAC                   \u001b[0m\u001b[1m Autoren Gatz \u001b[0m\u001b[1m Seite Gatz\u001b[0m ⋯\n",
       "\u001b[1m     \u001b[0m│\u001b[90m Int32?     \u001b[0m\u001b[90m String?                           \u001b[0m\u001b[90m String?      \u001b[0m\u001b[90m String?   \u001b[0m ⋯\n",
       "─────┼──────────────────────────────────────────────────────────────────────────\n",
       "   1 │      21086  um 1372, Johannes                 \u001b[90m missing      \u001b[0m 137        ⋯\n",
       "   2 │      21087  um 1378, Michael, Ep. Sythiensis  \u001b[90m missing      \u001b[0m 137\n",
       "   3 │      21088  1392-1398, Fr. Dietricus, OFM, E… \u001b[90m missing      \u001b[0m 137\n",
       "   4 │      21089  1406-1408, Bertholdus, OP, Ep. S… \u001b[90m missing      \u001b[0m 137\n",
       "   5 │      21090  1411-1418, Conradus Simplicy, OF… \u001b[90m missing      \u001b[0m 137        ⋯\n",
       "\u001b[36m                                                              26 columns omitted\u001b[0m"
      ]
     },
     "execution_count": 17,
     "metadata": {},
     "output_type": "execute_result"
    }
   ],
   "source": [
    "first(df_episc, 5)"
   ]
  },
  {
   "cell_type": "code",
   "execution_count": 12,
   "metadata": {},
   "outputs": [
    {
     "data": {
      "text/plain": [
       "30-element Vector{String}:\n",
       " \"ID_Bischof\"\n",
       " \"Eintrag RI OPAC\"\n",
       " \"Autoren Gatz\"\n",
       " \"Seite Gatz\"\n",
       " \"Praefix\"\n",
       " \"Vorname\"\n",
       " \"Familienname\"\n",
       " \"Sterbedatum\"\n",
       " \"Geburtsdatum\"\n",
       " \"Orden\"\n",
       " \"URL_Wikipedia\"\n",
       " \"Weitere Angaben\"\n",
       " \"fertig\"\n",
       " ⋮\n",
       " \"Wikidata_ID\"\n",
       " \"GSN_ID\"\n",
       " \"Kommentar_Name\"\n",
       " \"AkademischerTitel\"\n",
       " \"Kommentar_Person\"\n",
       " \"Quelle\"\n",
       " \"QRang_GND\"\n",
       " \"Qualitaet_GND\"\n",
       " \"QRang_GS\"\n",
       " \"Qualitaet_GS\"\n",
       " \"id_bischof_produktiv\"\n",
       " \"id_bischof_lang\""
      ]
     },
     "execution_count": 12,
     "metadata": {},
     "output_type": "execute_result"
    }
   ],
   "source": [
    "names(df_episc)"
   ]
  },
  {
   "cell_type": "markdown",
   "metadata": {},
   "source": [
    "### Einträge in `item`\n",
    "\n",
    "entsprechende Einträge in Tabelle `item` einfügen\n",
    "\n",
    "`id` für 'Bischof' in `item_type`: 4"
   ]
  },
  {
   "cell_type": "code",
   "execution_count": 51,
   "metadata": {},
   "outputs": [],
   "source": [
    "df_item = select(df_episc, :ID_Bischof => :id_in_source, :fertig, Symbol(\"Eintrag RI OPAC\") => :item_in_source);"
   ]
  },
  {
   "cell_type": "code",
   "execution_count": 52,
   "metadata": {},
   "outputs": [],
   "source": [
    "df_item[!, :item_type_id] .= 4;"
   ]
  },
  {
   "cell_type": "code",
   "execution_count": 53,
   "metadata": {},
   "outputs": [
    {
     "data": {
      "text/plain": [
       "map_status (generic function with 1 method)"
      ]
     },
     "execution_count": 53,
     "metadata": {},
     "output_type": "execute_result"
    }
   ],
   "source": [
    "map_status(x) = getproperty(x, :bits) > 0 ? \"fertig\" : missing"
   ]
  },
  {
   "cell_type": "code",
   "execution_count": 54,
   "metadata": {},
   "outputs": [],
   "source": [
    "df_item[!, :edit_status] .= map_status.(df_item[!, :fertig]);"
   ]
  },
  {
   "cell_type": "code",
   "execution_count": 69,
   "metadata": {},
   "outputs": [
    {
     "data": {
      "text/plain": [
       "map_online (generic function with 1 method)"
      ]
     },
     "execution_count": 69,
     "metadata": {},
     "output_type": "execute_result"
    }
   ],
   "source": [
    "map_online(x) = getproperty(x, :bits) > 0 ? 1 : 0"
   ]
  },
  {
   "cell_type": "code",
   "execution_count": 70,
   "metadata": {},
   "outputs": [],
   "source": [
    "df_item[!, :is_online] .= map_online.(df_item[!, :fertig]);"
   ]
  },
  {
   "cell_type": "code",
   "execution_count": 57,
   "metadata": {},
   "outputs": [],
   "source": [
    "df_item[!, :created_by] .= 1;"
   ]
  },
  {
   "cell_type": "code",
   "execution_count": 58,
   "metadata": {},
   "outputs": [],
   "source": [
    "df_item[!, :date_created] .= \"2021-10-14 08:40\";"
   ]
  },
  {
   "cell_type": "code",
   "execution_count": 59,
   "metadata": {},
   "outputs": [],
   "source": [
    "df_item[!, :changed_by] .= 1;"
   ]
  },
  {
   "cell_type": "code",
   "execution_count": 60,
   "metadata": {},
   "outputs": [],
   "source": [
    "df_item[!, :date_changed] .= \"2021-10-14 08:40\";"
   ]
  },
  {
   "cell_type": "code",
   "execution_count": 61,
   "metadata": {},
   "outputs": [
    {
     "data": {
      "text/plain": [
       "make_id_public (generic function with 1 method)"
      ]
     },
     "execution_count": 61,
     "metadata": {},
     "output_type": "execute_result"
    }
   ],
   "source": [
    "function make_id_public(id::Real, num_id_length::Int, id_public_key::AbstractString)\n",
    "    return \"WIAG-\" * id_public_key * \"-\" * lpad(id, num_id_length, '0') * \"-001\"\n",
    "end"
   ]
  },
  {
   "cell_type": "code",
   "execution_count": 62,
   "metadata": {},
   "outputs": [
    {
     "data": {
      "text/plain": [
       "\"WIAG-Pers-EPISCGatz-03650-001\""
      ]
     },
     "execution_count": 62,
     "metadata": {},
     "output_type": "execute_result"
    }
   ],
   "source": [
    "make_id_public(3650, 5, \"Pers-EPISCGatz\")"
   ]
  },
  {
   "cell_type": "markdown",
   "metadata": {},
   "source": [
    "Normdatum/öffentliche ID erzeugen\n",
    "\n",
    "Verwende die ursprüngliche ID. Damit entspricht die ID der bisher veröffentlichten ID (2021-10-13)"
   ]
  },
  {
   "cell_type": "code",
   "execution_count": 64,
   "metadata": {},
   "outputs": [],
   "source": [
    "df_item[!, :id_public] .= ((id) -> make_id_public(id, 5, \"Pers-EPISCGatz\")).(df_item[!, :id_in_source]);"
   ]
  },
  {
   "cell_type": "markdown",
   "metadata": {},
   "source": [
    "`item.is_deleted` ist vorbelegt mit `false`"
   ]
  },
  {
   "cell_type": "markdown",
   "metadata": {},
   "source": [
    "`item.lang` ist vorbelegt mit \"de\""
   ]
  },
  {
   "cell_type": "code",
   "execution_count": 31,
   "metadata": {},
   "outputs": [
    {
     "data": {
      "text/plain": [
       "11-element Vector{String}:\n",
       " \"source_id\"\n",
       " \"fertig\"\n",
       " \"item_in_source\"\n",
       " \"item_type_id\"\n",
       " \"edit_status\"\n",
       " \"is_online\"\n",
       " \"created_by\"\n",
       " \"date_created\"\n",
       " \"changed_by\"\n",
       " \"date_changed\"\n",
       " \"id_public\""
      ]
     },
     "execution_count": 31,
     "metadata": {},
     "output_type": "execute_result"
    }
   ],
   "source": [
    "names(df_item)"
   ]
  },
  {
   "cell_type": "code",
   "execution_count": 71,
   "metadata": {},
   "outputs": [
    {
     "data": {
      "text/html": [
       "<div class=\"data-frame\"><p>8 rows × 7 columns (omitted printing of 2 columns)</p><table class=\"data-frame\"><thead><tr><th></th><th>id_in_source</th><th>item_type_id</th><th>id_public</th><th>edit_status</th><th>is_online</th></tr><tr><th></th><th title=\"Int32\">Int32</th><th title=\"Int64\">Int64</th><th title=\"String\">String</th><th title=\"Union{Missing, String}\">String?</th><th title=\"Int64\">Int64</th></tr></thead><tbody><tr><th>1</th><td>21699</td><td>4</td><td>WIAG-Pers-EPISCGatz-21699-001</td><td>fertig</td><td>1</td></tr><tr><th>2</th><td>21700</td><td>4</td><td>WIAG-Pers-EPISCGatz-21700-001</td><td>fertig</td><td>1</td></tr><tr><th>3</th><td>21701</td><td>4</td><td>WIAG-Pers-EPISCGatz-21701-001</td><td>fertig</td><td>1</td></tr><tr><th>4</th><td>21702</td><td>4</td><td>WIAG-Pers-EPISCGatz-21702-001</td><td>fertig</td><td>1</td></tr><tr><th>5</th><td>21703</td><td>4</td><td>WIAG-Pers-EPISCGatz-21703-001</td><td>fertig</td><td>1</td></tr><tr><th>6</th><td>21704</td><td>4</td><td>WIAG-Pers-EPISCGatz-21704-001</td><td>fertig</td><td>1</td></tr><tr><th>7</th><td>21705</td><td>4</td><td>WIAG-Pers-EPISCGatz-21705-001</td><td><em>missing</em></td><td>0</td></tr><tr><th>8</th><td>21706</td><td>4</td><td>WIAG-Pers-EPISCGatz-21706-001</td><td>fertig</td><td>1</td></tr></tbody></table></div>"
      ],
      "text/latex": [
       "\\begin{tabular}{r|cccccc}\n",
       "\t& id\\_in\\_source & item\\_type\\_id & id\\_public & edit\\_status & is\\_online & \\\\\n",
       "\t\\hline\n",
       "\t& Int32 & Int64 & String & String? & Int64 & \\\\\n",
       "\t\\hline\n",
       "\t1 & 21699 & 4 & WIAG-Pers-EPISCGatz-21699-001 & fertig & 1 & $\\dots$ \\\\\n",
       "\t2 & 21700 & 4 & WIAG-Pers-EPISCGatz-21700-001 & fertig & 1 & $\\dots$ \\\\\n",
       "\t3 & 21701 & 4 & WIAG-Pers-EPISCGatz-21701-001 & fertig & 1 & $\\dots$ \\\\\n",
       "\t4 & 21702 & 4 & WIAG-Pers-EPISCGatz-21702-001 & fertig & 1 & $\\dots$ \\\\\n",
       "\t5 & 21703 & 4 & WIAG-Pers-EPISCGatz-21703-001 & fertig & 1 & $\\dots$ \\\\\n",
       "\t6 & 21704 & 4 & WIAG-Pers-EPISCGatz-21704-001 & fertig & 1 & $\\dots$ \\\\\n",
       "\t7 & 21705 & 4 & WIAG-Pers-EPISCGatz-21705-001 & \\emph{missing} & 0 & $\\dots$ \\\\\n",
       "\t8 & 21706 & 4 & WIAG-Pers-EPISCGatz-21706-001 & fertig & 1 & $\\dots$ \\\\\n",
       "\\end{tabular}\n"
      ],
      "text/plain": [
       "\u001b[1m8×7 DataFrame\u001b[0m\n",
       "\u001b[1m Row \u001b[0m│\u001b[1m id_in_source \u001b[0m\u001b[1m item_type_id \u001b[0m\u001b[1m id_public                     \u001b[0m\u001b[1m edit_status \u001b[0m\u001b[1m\u001b[0m ⋯\n",
       "\u001b[1m     \u001b[0m│\u001b[90m Int32        \u001b[0m\u001b[90m Int64        \u001b[0m\u001b[90m String                        \u001b[0m\u001b[90m String?     \u001b[0m\u001b[90m\u001b[0m ⋯\n",
       "─────┼──────────────────────────────────────────────────────────────────────────\n",
       "   1 │        21699             4  WIAG-Pers-EPISCGatz-21699-001  fertig       ⋯\n",
       "   2 │        21700             4  WIAG-Pers-EPISCGatz-21700-001  fertig\n",
       "   3 │        21701             4  WIAG-Pers-EPISCGatz-21701-001  fertig\n",
       "   4 │        21702             4  WIAG-Pers-EPISCGatz-21702-001  fertig\n",
       "   5 │        21703             4  WIAG-Pers-EPISCGatz-21703-001  fertig       ⋯\n",
       "   6 │        21704             4  WIAG-Pers-EPISCGatz-21704-001  fertig\n",
       "   7 │        21705             4  WIAG-Pers-EPISCGatz-21705-001 \u001b[90m missing     \u001b[0m\n",
       "   8 │        21706             4  WIAG-Pers-EPISCGatz-21706-001  fertig\n",
       "\u001b[36m                                                               3 columns omitted\u001b[0m"
      ]
     },
     "execution_count": 71,
     "metadata": {},
     "output_type": "execute_result"
    }
   ],
   "source": [
    "df_item[5098:5105, [:id_in_source, :item_type_id, :id_public, :edit_status, :is_online, :date_changed, :changed_by]]"
   ]
  },
  {
   "cell_type": "code",
   "execution_count": 72,
   "metadata": {},
   "outputs": [
    {
     "name": "stderr",
     "output_type": "stream",
     "text": [
      "┌ Info: Rows inserted: 5171\n",
      "└ @ WiagDataSetup C:\\Users\\Georg\\Documents\\projekte\\WiagDataSetup.jl\\src\\WiagDataSetup.jl:1171\n"
     ]
    },
    {
     "data": {
      "text/plain": [
       "5171"
      ]
     },
     "execution_count": 72,
     "metadata": {},
     "output_type": "execute_result"
    }
   ],
   "source": [
    "Wds.filltable!(\"item\", select(df_item, Not(:fertig)))"
   ]
  },
  {
   "cell_type": "markdown",
   "metadata": {},
   "source": [
    "### Daten eintragen\n",
    "\n",
    "IDs auslesen"
   ]
  },
  {
   "cell_type": "code",
   "execution_count": 22,
   "metadata": {},
   "outputs": [],
   "source": [
    "item_type_id = 4\n",
    "sql = \"SELECT id, id_in_source FROM ITEM where item_type_id = ($item_type_id)\"\n",
    "df_idx = DBInterface.execute(Wds.dbwiag, sql) |> DataFrame;"
   ]
  },
  {
   "cell_type": "markdown",
   "metadata": {},
   "source": [
    "Spalte für die Zusammenführung befüllen (Typ: String!)"
   ]
  },
  {
   "cell_type": "code",
   "execution_count": 23,
   "metadata": {},
   "outputs": [],
   "source": [
    "df_episc[!, :id_in_source] .= string.(df_episc[!, :ID_Bischof]);"
   ]
  },
  {
   "cell_type": "code",
   "execution_count": 24,
   "metadata": {},
   "outputs": [],
   "source": [
    "df_episc_db = innerjoin(df_idx, df_episc, on = :id_in_source);"
   ]
  },
  {
   "cell_type": "code",
   "execution_count": 85,
   "metadata": {},
   "outputs": [
    {
     "data": {
      "text/plain": [
       "9-element Vector{Any}:\n",
       "                    :id\n",
       "          :Praefix => :prefixname\n",
       "          :Vorname => :givenname\n",
       "     :Familienname => :familyname\n",
       "      :Sterbedatum => :date_death\n",
       "     :Geburtsdatum => :date_birth\n",
       "    :Bemerkung_Red => :comment\n",
       "   :Kommentar_Name => :note_name\n",
       " :Kommentar_Person => :note_person"
      ]
     },
     "execution_count": 85,
     "metadata": {},
     "output_type": "execute_result"
    }
   ],
   "source": [
    "select_cols = [\n",
    "    :id,\n",
    "    :Praefix => :prefixname,\n",
    "    :Vorname => :givenname,\n",
    "    :Familienname => :familyname,\n",
    "    :Sterbedatum => :date_death,\n",
    "    :Geburtsdatum => :date_birth,\n",
    "    :Bemerkung_Red => :comment,\n",
    "    :Kommentar_Name => :note_name,\n",
    "    :Kommentar_Person => :note_person,\n",
    "]"
   ]
  },
  {
   "cell_type": "markdown",
   "metadata": {},
   "source": [
    "Einträge anhand der ID in der Quelle löschen (für den Fall eines Updates)"
   ]
  },
  {
   "cell_type": "code",
   "execution_count": 118,
   "metadata": {},
   "outputs": [],
   "source": [
    "item_type_id = 4\n",
    "idx_string = join(df_idx[!, :id], \",\")\n",
    "# Es wäre eleganter, hier den Mechanismus von SQL-Parametern zu verwenden. Das funktioniert aber nicht wie erwartet.\n",
    "sql=\"DELETE FROM person WHERE id IN ($(idx_string))\"\n",
    "stmt = DBInterface.prepare(Wds.dbwiag, sql);"
   ]
  },
  {
   "cell_type": "code",
   "execution_count": 115,
   "metadata": {},
   "outputs": [],
   "source": [
    "DBInterface.execute(stmt);"
   ]
  },
  {
   "cell_type": "markdown",
   "metadata": {},
   "source": [
    "Daten eintragen"
   ]
  },
  {
   "cell_type": "code",
   "execution_count": 120,
   "metadata": {},
   "outputs": [
    {
     "name": "stderr",
     "output_type": "stream",
     "text": [
      "┌ Info: Rows inserted: 5171\n",
      "└ @ WiagDataSetup C:\\Users\\Georg\\Documents\\projekte\\WiagDataSetup.jl\\src\\WiagDataSetup.jl:1171\n"
     ]
    },
    {
     "data": {
      "text/plain": [
       "5171"
      ]
     },
     "execution_count": 120,
     "metadata": {},
     "output_type": "execute_result"
    }
   ],
   "source": [
    "Wds.filltable!(\"person\", select(df_episc_db, select_cols...); clear_table=true)"
   ]
  },
  {
   "cell_type": "markdown",
   "metadata": {},
   "source": [
    "### Orden eintragen\n",
    "Die Ordenstabelle ist vorläufig 2021-10-14\n"
   ]
  },
  {
   "cell_type": "code",
   "execution_count": 189,
   "metadata": {},
   "outputs": [
    {
     "data": {
      "text/plain": [
       "db_exec (generic function with 1 method)"
      ]
     },
     "execution_count": 189,
     "metadata": {},
     "output_type": "execute_result"
    }
   ],
   "source": [
    "db_exec(sql) = DBInterface.execute(Wds.dbwiag, sql) > DataFrame"
   ]
  },
  {
   "cell_type": "code",
   "execution_count": 145,
   "metadata": {},
   "outputs": [],
   "source": [
    "sql=\"SELECT DISTINCT Orden as abbreviation FROM bischof.tbl_bischoefe_gatz \" *\n",
    "\"WHERE Orden IS NOT NULL AND ORDEN NOT LIKE '1%'\"\n",
    "df_order_col = DBInterface.execute(Wds.dbwiag, sql) |> DataFrame;"
   ]
  },
  {
   "cell_type": "code",
   "execution_count": 225,
   "metadata": {},
   "outputs": [],
   "source": [
    "df_order = DataFrame(abbreviation = [\n",
    "    \"OP\",\n",
    "    \"OFM\",\n",
    "    \"OPraem\",\n",
    "    \"OT\",\n",
    "    \"OSB\",\n",
    "    \"OCist\",\n",
    "    \"OESA\",\n",
    "    \"OCarm\",\n",
    "    \"CanA\",\n",
    "    \"SJ\",\n",
    "    \"OMel\",\n",
    "    \"OSA\",\n",
    "    \"OSM\",\n",
    "    \"OFMObs\",\n",
    "    \"OFMCap\",\n",
    "    \"OFMConv\",\n",
    "    \"OFMRec\",\n",
    "    \"OCart\",\n",
    "    \"OSH\",\n",
    "    \"ORC\",\n",
    "    \"Otheat\",\n",
    "]);"
   ]
  },
  {
   "cell_type": "code",
   "execution_count": 244,
   "metadata": {},
   "outputs": [],
   "source": [
    "df_order[!, :id_in_source] .= string.(1:size(df_order, 1));"
   ]
  },
  {
   "cell_type": "markdown",
   "metadata": {},
   "source": [
    "Einträge in `item`"
   ]
  },
  {
   "cell_type": "code",
   "execution_count": 245,
   "metadata": {},
   "outputs": [],
   "source": [
    "df_item = select(df_order, :id_in_source);"
   ]
  },
  {
   "cell_type": "code",
   "execution_count": 246,
   "metadata": {},
   "outputs": [],
   "source": [
    "df_item[!, :item_type_id] .= 7;"
   ]
  },
  {
   "cell_type": "code",
   "execution_count": 247,
   "metadata": {},
   "outputs": [],
   "source": [
    "df_item[!, :is_online] .= 0;"
   ]
  },
  {
   "cell_type": "code",
   "execution_count": 248,
   "metadata": {},
   "outputs": [],
   "source": [
    "df_item[!, :created_by] .= 7;"
   ]
  },
  {
   "cell_type": "code",
   "execution_count": 249,
   "metadata": {},
   "outputs": [],
   "source": [
    "df_item[!, :date_created] .= \"2021-10-14 13:30\";"
   ]
  },
  {
   "cell_type": "code",
   "execution_count": 250,
   "metadata": {},
   "outputs": [],
   "source": [
    "df_item[!, :changed_by] .= 7;"
   ]
  },
  {
   "cell_type": "code",
   "execution_count": 251,
   "metadata": {},
   "outputs": [],
   "source": [
    "df_item[!, :date_changed] .= \"2021-10-14 13:30\";"
   ]
  },
  {
   "cell_type": "code",
   "execution_count": 252,
   "metadata": {},
   "outputs": [
    {
     "data": {
      "text/plain": [
       "6"
      ]
     },
     "execution_count": 252,
     "metadata": {},
     "output_type": "execute_result"
    }
   ],
   "source": [
    "item_type_id"
   ]
  },
  {
   "cell_type": "code",
   "execution_count": 253,
   "metadata": {},
   "outputs": [],
   "source": [
    "sql = \"DELETE FROM item WHERE item_type_id = $(item_type_id)\";\n",
    "db_exec(sql);"
   ]
  },
  {
   "cell_type": "code",
   "execution_count": 254,
   "metadata": {},
   "outputs": [
    {
     "name": "stderr",
     "output_type": "stream",
     "text": [
      "┌ Info: Rows inserted: 21\n",
      "└ @ WiagDataSetup C:\\Users\\Georg\\Documents\\projekte\\WiagDataSetup.jl\\src\\WiagDataSetup.jl:1171\n"
     ]
    },
    {
     "data": {
      "text/plain": [
       "21"
      ]
     },
     "execution_count": 254,
     "metadata": {},
     "output_type": "execute_result"
    }
   ],
   "source": [
    "Wds.filltable!(\"item\", df_item)"
   ]
  },
  {
   "cell_type": "markdown",
   "metadata": {},
   "source": [
    "Daten eintragen in `religious_order_id`"
   ]
  },
  {
   "cell_type": "markdown",
   "metadata": {},
   "source": [
    "Index-Werte lesen"
   ]
  },
  {
   "cell_type": "code",
   "execution_count": 255,
   "metadata": {},
   "outputs": [],
   "source": [
    "item_type_id = 6\n",
    "sql = \"SELECT id, id_in_source FROM ITEM where item_type_id = ($item_type_id)\"\n",
    "df_idx = DBInterface.execute(Wds.dbwiag, sql) |> DataFrame;"
   ]
  },
  {
   "cell_type": "code",
   "execution_count": 256,
   "metadata": {},
   "outputs": [],
   "source": [
    "df_order_db = innerjoin(df_idx, df_order, on = :id_in_source);"
   ]
  },
  {
   "cell_type": "code",
   "execution_count": 257,
   "metadata": {},
   "outputs": [],
   "source": [
    "Wds.clean_up!(df_order_db)"
   ]
  },
  {
   "cell_type": "code",
   "execution_count": 242,
   "metadata": {},
   "outputs": [
    {
     "data": {
      "text/plain": [
       "3-element Vector{String}:\n",
       " \"id\"\n",
       " \"id_in_source\"\n",
       " \"abbreviation\""
      ]
     },
     "execution_count": 242,
     "metadata": {},
     "output_type": "execute_result"
    }
   ],
   "source": [
    "names(df_order_db)"
   ]
  },
  {
   "cell_type": "code",
   "execution_count": 258,
   "metadata": {},
   "outputs": [
    {
     "name": "stderr",
     "output_type": "stream",
     "text": [
      "┌ Info: Rows inserted: 21\n",
      "└ @ WiagDataSetup C:\\Users\\Georg\\Documents\\projekte\\WiagDataSetup.jl\\src\\WiagDataSetup.jl:1171\n"
     ]
    },
    {
     "data": {
      "text/plain": [
       "21"
      ]
     },
     "execution_count": 258,
     "metadata": {},
     "output_type": "execute_result"
    }
   ],
   "source": [
    "Wds.filltable!(\"religious_order\", select(df_order_db, Not(:id_in_source)); clear_table=true)"
   ]
  },
  {
   "cell_type": "markdown",
   "metadata": {},
   "source": [
    "IDs in Bischofstabelle eintragen\n",
    "\n",
    "*TODO* Ersatzfeld in `item_property` verwenden, falls der Orden nicht eindeutig zugeordnet werden kann?"
   ]
  },
  {
   "cell_type": "code",
   "execution_count": 259,
   "metadata": {},
   "outputs": [],
   "source": [
    "df_episc_order = dropmissing(df_episc_db, :Orden);"
   ]
  },
  {
   "cell_type": "code",
   "execution_count": 260,
   "metadata": {},
   "outputs": [],
   "source": [
    "Wds.clean_up!(df_episc_order)"
   ]
  },
  {
   "cell_type": "code",
   "execution_count": 261,
   "metadata": {},
   "outputs": [
    {
     "data": {
      "text/plain": [
       "(776, 32)"
      ]
     },
     "execution_count": 261,
     "metadata": {},
     "output_type": "execute_result"
    }
   ],
   "source": [
    "size(df_episc_order)"
   ]
  },
  {
   "cell_type": "code",
   "execution_count": 262,
   "metadata": {},
   "outputs": [],
   "source": [
    "df_episc_order[!, :join_field] .= lowercase.(df_episc_order[!, :Orden]);"
   ]
  },
  {
   "cell_type": "code",
   "execution_count": 264,
   "metadata": {},
   "outputs": [],
   "source": [
    "df_order_db[!, :join_field] .= lowercase.(df_order_db[!, :abbreviation]);"
   ]
  },
  {
   "cell_type": "code",
   "execution_count": 266,
   "metadata": {},
   "outputs": [],
   "source": [
    "df_episc_order_id = leftjoin(df_episc_order, \n",
    "    select(df_order_db, :id => :religious_order_id, :join_field), \n",
    "    on = :join_field);"
   ]
  },
  {
   "cell_type": "code",
   "execution_count": 272,
   "metadata": {},
   "outputs": [
    {
     "data": {
      "text/plain": [
       "(776, 34)"
      ]
     },
     "execution_count": 272,
     "metadata": {},
     "output_type": "execute_result"
    }
   ],
   "source": [
    "size(df_episc_order_id)"
   ]
  },
  {
   "cell_type": "code",
   "execution_count": 274,
   "metadata": {},
   "outputs": [],
   "source": [
    "df_episc_order_id = dropmissing(df_episc_order_id, :religious_order_id);"
   ]
  },
  {
   "cell_type": "code",
   "execution_count": 275,
   "metadata": {},
   "outputs": [
    {
     "data": {
      "text/plain": [
       "(756, 34)"
      ]
     },
     "execution_count": 275,
     "metadata": {},
     "output_type": "execute_result"
    }
   ],
   "source": [
    "size(df_episc_order_id)"
   ]
  },
  {
   "cell_type": "code",
   "execution_count": 276,
   "metadata": {},
   "outputs": [
    {
     "data": {
      "text/html": [
       "<div class=\"data-frame\"><p>11 rows × 5 columns</p><table class=\"data-frame\"><thead><tr><th></th><th>id</th><th>id_in_source</th><th>Vorname</th><th>religious_order_id</th><th>Orden</th></tr><tr><th></th><th title=\"Int32\">Int32</th><th title=\"SubString{String}\">SubStri…</th><th title=\"SubString{String}\">SubStri…</th><th title=\"Int32\">Int32</th><th title=\"SubString{String}\">SubStri…</th></tr></thead><tbody><tr><th>1</th><td>1231</td><td>3396</td><td>Ludwig</td><td>5312</td><td>OT</td></tr><tr><th>2</th><td>1230</td><td>3397</td><td>Heinrich</td><td>5310</td><td>OFM</td></tr><tr><th>3</th><td>1229</td><td>3398</td><td>Olav</td><td>5310</td><td>OFM</td></tr><tr><th>4</th><td>1228</td><td>3399</td><td>Johannes</td><td>5312</td><td>OT</td></tr><tr><th>5</th><td>1227</td><td>3400</td><td>Dietrich</td><td>5312</td><td>OT</td></tr><tr><th>6</th><td>1225</td><td>3402</td><td>Arnold</td><td>5312</td><td>OT</td></tr><tr><th>7</th><td>1224</td><td>3403</td><td>Heinrich</td><td>5312</td><td>OT</td></tr><tr><th>8</th><td>1223</td><td>3405</td><td>Bertholt</td><td>5314</td><td>OCist</td></tr><tr><th>9</th><td>1221</td><td>3407</td><td>Albert</td><td>5309</td><td>OP</td></tr><tr><th>10</th><td>1220</td><td>3408</td><td>Nikolaus</td><td>5311</td><td>OPraem</td></tr><tr><th>11</th><td>1218</td><td>3410</td><td>Johannes</td><td>5311</td><td>OPraem</td></tr></tbody></table></div>"
      ],
      "text/latex": [
       "\\begin{tabular}{r|ccccc}\n",
       "\t& id & id\\_in\\_source & Vorname & religious\\_order\\_id & Orden\\\\\n",
       "\t\\hline\n",
       "\t& Int32 & SubStri… & SubStri… & Int32 & SubStri…\\\\\n",
       "\t\\hline\n",
       "\t1 & 1231 & 3396 & Ludwig & 5312 & OT \\\\\n",
       "\t2 & 1230 & 3397 & Heinrich & 5310 & OFM \\\\\n",
       "\t3 & 1229 & 3398 & Olav & 5310 & OFM \\\\\n",
       "\t4 & 1228 & 3399 & Johannes & 5312 & OT \\\\\n",
       "\t5 & 1227 & 3400 & Dietrich & 5312 & OT \\\\\n",
       "\t6 & 1225 & 3402 & Arnold & 5312 & OT \\\\\n",
       "\t7 & 1224 & 3403 & Heinrich & 5312 & OT \\\\\n",
       "\t8 & 1223 & 3405 & Bertholt & 5314 & OCist \\\\\n",
       "\t9 & 1221 & 3407 & Albert & 5309 & OP \\\\\n",
       "\t10 & 1220 & 3408 & Nikolaus & 5311 & OPraem \\\\\n",
       "\t11 & 1218 & 3410 & Johannes & 5311 & OPraem \\\\\n",
       "\\end{tabular}\n"
      ],
      "text/plain": [
       "\u001b[1m11×5 DataFrame\u001b[0m\n",
       "\u001b[1m Row \u001b[0m│\u001b[1m id    \u001b[0m\u001b[1m id_in_source \u001b[0m\u001b[1m Vorname    \u001b[0m\u001b[1m religious_order_id \u001b[0m\u001b[1m Orden      \u001b[0m\n",
       "\u001b[1m     \u001b[0m│\u001b[90m Int32 \u001b[0m\u001b[90m SubString…   \u001b[0m\u001b[90m SubString… \u001b[0m\u001b[90m Int32              \u001b[0m\u001b[90m SubString… \u001b[0m\n",
       "─────┼─────────────────────────────────────────────────────────────────\n",
       "   1 │  1231  3396          Ludwig                    5312  OT\n",
       "   2 │  1230  3397          Heinrich                  5310  OFM\n",
       "   3 │  1229  3398          Olav                      5310  OFM\n",
       "   4 │  1228  3399          Johannes                  5312  OT\n",
       "   5 │  1227  3400          Dietrich                  5312  OT\n",
       "   6 │  1225  3402          Arnold                    5312  OT\n",
       "   7 │  1224  3403          Heinrich                  5312  OT\n",
       "   8 │  1223  3405          Bertholt                  5314  OCist\n",
       "   9 │  1221  3407          Albert                    5309  OP\n",
       "  10 │  1220  3408          Nikolaus                  5311  OPraem\n",
       "  11 │  1218  3410          Johannes                  5311  OPraem"
      ]
     },
     "execution_count": 276,
     "metadata": {},
     "output_type": "execute_result"
    }
   ],
   "source": [
    "df_episc_order_id[300:310, [:id, :id_in_source, :Vorname, :religious_order_id, :Orden]]"
   ]
  },
  {
   "cell_type": "markdown",
   "metadata": {},
   "source": [
    "Im ersten Versuch war Groß-/Kleinschreibung unterschieden worden, dadurch gingen einige Einträge verloren."
   ]
  },
  {
   "cell_type": "code",
   "execution_count": 268,
   "metadata": {},
   "outputs": [
    {
     "data": {
      "text/plain": [
       "fcid (generic function with 1 method)"
      ]
     },
     "execution_count": 268,
     "metadata": {},
     "output_type": "execute_result"
    }
   ],
   "source": [
    "fcid(id) = id in (1070, 211, 951, 4145, 4282, 4689, 5237)"
   ]
  },
  {
   "cell_type": "code",
   "execution_count": 269,
   "metadata": {},
   "outputs": [
    {
     "data": {
      "text/html": [
       "<div class=\"data-frame\"><p>7 rows × 6 columns</p><table class=\"data-frame\"><thead><tr><th></th><th>id</th><th>ID_Bischof</th><th>Vorname</th><th>Familienname</th><th>Orden</th><th>religious_order_id</th></tr><tr><th></th><th title=\"Int32\">Int32</th><th title=\"Int32\">Int32</th><th title=\"SubString{String}\">SubStri…</th><th title=\"Union{Missing, SubString{String}}\">SubStri…?</th><th title=\"SubString{String}\">SubStri…</th><th title=\"Union{Missing, Int32}\">Int32?</th></tr></thead><tbody><tr><th>1</th><td>1070</td><td>21096</td><td>Heinrich</td><td>Ringwirt</td><td>OFM</td><td>5310</td></tr><tr><th>2</th><td>951</td><td>21140</td><td>Kuno</td><td><em>missing</em></td><td>Ocist</td><td>5314</td></tr><tr><th>3</th><td>211</td><td>2804</td><td>Konrad</td><td>Krosigk</td><td>Ocist</td><td>5314</td></tr><tr><th>4</th><td>4689</td><td>20326</td><td>Heinrich</td><td>Hattingen</td><td>Ocarm</td><td>5316</td></tr><tr><th>5</th><td>4282</td><td>21268</td><td>Hartung</td><td><em>missing</em></td><td>OMel</td><td>5319</td></tr><tr><th>6</th><td>4145</td><td>21489</td><td>Jakob</td><td>Denmarcken</td><td>OMel</td><td>5319</td></tr><tr><th>7</th><td>5237</td><td>21761</td><td>Johannes</td><td>Reuther</td><td>Ocarm</td><td>5316</td></tr></tbody></table></div>"
      ],
      "text/latex": [
       "\\begin{tabular}{r|cccccc}\n",
       "\t& id & ID\\_Bischof & Vorname & Familienname & Orden & religious\\_order\\_id\\\\\n",
       "\t\\hline\n",
       "\t& Int32 & Int32 & SubStri… & SubStri…? & SubStri… & Int32?\\\\\n",
       "\t\\hline\n",
       "\t1 & 1070 & 21096 & Heinrich & Ringwirt & OFM & 5310 \\\\\n",
       "\t2 & 951 & 21140 & Kuno & \\emph{missing} & Ocist & 5314 \\\\\n",
       "\t3 & 211 & 2804 & Konrad & Krosigk & Ocist & 5314 \\\\\n",
       "\t4 & 4689 & 20326 & Heinrich & Hattingen & Ocarm & 5316 \\\\\n",
       "\t5 & 4282 & 21268 & Hartung & \\emph{missing} & OMel & 5319 \\\\\n",
       "\t6 & 4145 & 21489 & Jakob & Denmarcken & OMel & 5319 \\\\\n",
       "\t7 & 5237 & 21761 & Johannes & Reuther & Ocarm & 5316 \\\\\n",
       "\\end{tabular}\n"
      ],
      "text/plain": [
       "\u001b[1m7×6 DataFrame\u001b[0m\n",
       "\u001b[1m Row \u001b[0m│\u001b[1m id    \u001b[0m\u001b[1m ID_Bischof \u001b[0m\u001b[1m Vorname   \u001b[0m\u001b[1m Familienname \u001b[0m\u001b[1m Orden     \u001b[0m\u001b[1m religious_order_\u001b[0m ⋯\n",
       "\u001b[1m     \u001b[0m│\u001b[90m Int32 \u001b[0m\u001b[90m Int32      \u001b[0m\u001b[90m SubStrin… \u001b[0m\u001b[90m SubString…?  \u001b[0m\u001b[90m SubStrin… \u001b[0m\u001b[90m Int32?          \u001b[0m ⋯\n",
       "─────┼──────────────────────────────────────────────────────────────────────────\n",
       "   1 │  1070       21096  Heinrich   Ringwirt      OFM                      53 ⋯\n",
       "   2 │   951       21140  Kuno      \u001b[90m missing      \u001b[0m Ocist                    53\n",
       "   3 │   211        2804  Konrad     Krosigk       Ocist                    53\n",
       "   4 │  4689       20326  Heinrich   Hattingen     Ocarm                    53\n",
       "   5 │  4282       21268  Hartung   \u001b[90m missing      \u001b[0m OMel                     53 ⋯\n",
       "   6 │  4145       21489  Jakob      Denmarcken    OMel                     53\n",
       "   7 │  5237       21761  Johannes   Reuther       Ocarm                    53\n",
       "\u001b[36m                                                                1 column omitted\u001b[0m"
      ]
     },
     "execution_count": 269,
     "metadata": {},
     "output_type": "execute_result"
    }
   ],
   "source": [
    "filter(:id => fcid, select(df_episc_order_id, :id, :ID_Bischof, :Vorname, :Familienname, :Orden, :religious_order_id))"
   ]
  },
  {
   "cell_type": "markdown",
   "metadata": {},
   "source": [
    "Tabelle `person` aktualisieren"
   ]
  },
  {
   "cell_type": "code",
   "execution_count": 277,
   "metadata": {},
   "outputs": [],
   "source": [
    "DBInterface.execute(Wds.dbwiag, \"DROP TABLE IF EXISTS person_update\")\n",
    "sql = \"CREATE TEMPORARY TABLE person_update (\" *\n",
    "\"id INT, \" *\n",
    "\"religious_order_id INT)\"\n",
    "DBInterface.execute(Wds.dbwiag, sql);"
   ]
  },
  {
   "cell_type": "code",
   "execution_count": 278,
   "metadata": {},
   "outputs": [
    {
     "name": "stderr",
     "output_type": "stream",
     "text": [
      "┌ Info: Rows inserted: 756\n",
      "└ @ WiagDataSetup C:\\Users\\Georg\\Documents\\projekte\\WiagDataSetup.jl\\src\\WiagDataSetup.jl:1171\n"
     ]
    },
    {
     "data": {
      "text/plain": [
       "756"
      ]
     },
     "execution_count": 278,
     "metadata": {},
     "output_type": "execute_result"
    }
   ],
   "source": [
    "Wds.filltable!(\"person_update\", select(df_episc_order_id, :id, :religious_order_id))"
   ]
  },
  {
   "cell_type": "code",
   "execution_count": 279,
   "metadata": {},
   "outputs": [],
   "source": [
    "sql = \"UPDATE person as p, (SELECT id, religious_order_id FROM person_update) as oid \" *\n",
    "\"SET p.religious_order_id = oid.religious_order_id \" *\n",
    "\"WHERE p.id = oid.id\"\n",
    "DBInterface.execute(Wds.dbwiag, sql);"
   ]
  },
  {
   "cell_type": "markdown",
   "metadata": {},
   "source": [
    "### numerische Daten eintragen"
   ]
  },
  {
   "cell_type": "code",
   "execution_count": 281,
   "metadata": {},
   "outputs": [
    {
     "data": {
      "text/plain": [
       "parse_date_birth (generic function with 1 method)"
      ]
     },
     "execution_count": 281,
     "metadata": {},
     "output_type": "execute_result"
    }
   ],
   "source": [
    "parse_date_birth(s) = Wds.parsemaybe(s, :lower)"
   ]
  },
  {
   "cell_type": "code",
   "execution_count": 284,
   "metadata": {},
   "outputs": [],
   "source": [
    "col_numdate_birth = parse_date_birth.(df_episc_db[!, :Geburtsdatum]);"
   ]
  },
  {
   "cell_type": "code",
   "execution_count": 286,
   "metadata": {},
   "outputs": [
    {
     "data": {
      "text/plain": [
       "parse_date_death (generic function with 1 method)"
      ]
     },
     "execution_count": 286,
     "metadata": {},
     "output_type": "execute_result"
    }
   ],
   "source": [
    "parse_date_death(s) = Wds.parsemaybe(s, :upper)"
   ]
  },
  {
   "cell_type": "code",
   "execution_count": 287,
   "metadata": {},
   "outputs": [],
   "source": [
    "col_numdate_death = parse_date_death.(df_episc_db[!, :Sterbedatum]);"
   ]
  },
  {
   "cell_type": "code",
   "execution_count": 294,
   "metadata": {},
   "outputs": [
    {
     "data": {
      "text/plain": [
       "11-element Vector{Union{Missing, Int64}}:\n",
       "     missing\n",
       "     missing\n",
       "     missing\n",
       " 1315\n",
       "     missing\n",
       " 1335\n",
       " 1355\n",
       " 1345\n",
       "     missing\n",
       "     missing\n",
       "     missing"
      ]
     },
     "execution_count": 294,
     "metadata": {},
     "output_type": "execute_result"
    }
   ],
   "source": [
    "col_numdate_birth[515:525]"
   ]
  },
  {
   "cell_type": "code",
   "execution_count": 308,
   "metadata": {},
   "outputs": [],
   "source": [
    "df_episc_db[!, :num_date_birth] = col_numdate_birth;"
   ]
  },
  {
   "cell_type": "code",
   "execution_count": 309,
   "metadata": {},
   "outputs": [],
   "source": [
    "df_episc_db[!, :num_date_death] = col_numdate_death;"
   ]
  },
  {
   "cell_type": "code",
   "execution_count": 300,
   "metadata": {},
   "outputs": [
    {
     "data": {
      "text/html": [
       "<div class=\"data-frame\"><p>6 rows × 6 columns</p><table class=\"data-frame\"><thead><tr><th></th><th>id</th><th>id_in_source</th><th>ID_Bischof</th><th>Vorname</th><th>numdate_birth</th><th>numdate_death</th></tr><tr><th></th><th title=\"Int32\">Int32</th><th title=\"Union{Missing, String}\">String?</th><th title=\"Int32\">Int32</th><th title=\"SubString{String}\">SubStri…</th><th title=\"Union{Missing, Int64}\">Int64?</th><th title=\"Union{Missing, Int64}\">Int64?</th></tr></thead><tbody><tr><th>1</th><td>550</td><td>3699</td><td>3699</td><td>Gerhard</td><td><em>missing</em></td><td>1278</td></tr><tr><th>2</th><td>549</td><td>3700</td><td>3700</td><td>Robert</td><td><em>missing</em></td><td>1271</td></tr><tr><th>3</th><td>548</td><td>3701</td><td>3701</td><td>Ulrich</td><td><em>missing</em></td><td>1274</td></tr><tr><th>4</th><td>547</td><td>3702</td><td>3702</td><td>Jakob</td><td><em>missing</em></td><td>1297</td></tr><tr><th>5</th><td>546</td><td>3703</td><td>3703</td><td>Heinrich</td><td><em>missing</em></td><td>1286</td></tr><tr><th>6</th><td>545</td><td>3704</td><td>3704</td><td>Nikolaus</td><td><em>missing</em></td><td>1362</td></tr></tbody></table></div>"
      ],
      "text/latex": [
       "\\begin{tabular}{r|cccccc}\n",
       "\t& id & id\\_in\\_source & ID\\_Bischof & Vorname & numdate\\_birth & numdate\\_death\\\\\n",
       "\t\\hline\n",
       "\t& Int32 & String? & Int32 & SubStri… & Int64? & Int64?\\\\\n",
       "\t\\hline\n",
       "\t1 & 550 & 3699 & 3699 & Gerhard & \\emph{missing} & 1278 \\\\\n",
       "\t2 & 549 & 3700 & 3700 & Robert & \\emph{missing} & 1271 \\\\\n",
       "\t3 & 548 & 3701 & 3701 & Ulrich & \\emph{missing} & 1274 \\\\\n",
       "\t4 & 547 & 3702 & 3702 & Jakob & \\emph{missing} & 1297 \\\\\n",
       "\t5 & 546 & 3703 & 3703 & Heinrich & \\emph{missing} & 1286 \\\\\n",
       "\t6 & 545 & 3704 & 3704 & Nikolaus & \\emph{missing} & 1362 \\\\\n",
       "\\end{tabular}\n"
      ],
      "text/plain": [
       "\u001b[1m6×6 DataFrame\u001b[0m\n",
       "\u001b[1m Row \u001b[0m│\u001b[1m id    \u001b[0m\u001b[1m id_in_source \u001b[0m\u001b[1m ID_Bischof \u001b[0m\u001b[1m Vorname   \u001b[0m\u001b[1m numdate_birth \u001b[0m\u001b[1m numdate_deat\u001b[0m ⋯\n",
       "\u001b[1m     \u001b[0m│\u001b[90m Int32 \u001b[0m\u001b[90m String?      \u001b[0m\u001b[90m Int32      \u001b[0m\u001b[90m SubStrin… \u001b[0m\u001b[90m Int64?        \u001b[0m\u001b[90m Int64?      \u001b[0m ⋯\n",
       "─────┼──────────────────────────────────────────────────────────────────────────\n",
       "   1 │   550  3699                3699  Gerhard   \u001b[90m       missing \u001b[0m          127 ⋯\n",
       "   2 │   549  3700                3700  Robert    \u001b[90m       missing \u001b[0m          127\n",
       "   3 │   548  3701                3701  Ulrich    \u001b[90m       missing \u001b[0m          127\n",
       "   4 │   547  3702                3702  Jakob     \u001b[90m       missing \u001b[0m          129\n",
       "   5 │   546  3703                3703  Heinrich  \u001b[90m       missing \u001b[0m          128 ⋯\n",
       "   6 │   545  3704                3704  Nikolaus  \u001b[90m       missing \u001b[0m          136\n",
       "\u001b[36m                                                                1 column omitted\u001b[0m"
      ]
     },
     "execution_count": 300,
     "metadata": {},
     "output_type": "execute_result"
    }
   ],
   "source": [
    "df_episc_db[530:535, [:id, :id_in_source, :ID_Bischof, :Vorname, :numdate_birth, :numdate_death]]"
   ]
  },
  {
   "cell_type": "code",
   "execution_count": 313,
   "metadata": {},
   "outputs": [],
   "source": [
    "update_table = \"person_date_update\"\n",
    "sql = \"DROP TABLE IF EXISTS $(update_table)\"\n",
    "db_exec(sql)\n",
    "sql = \"CREATE TEMPORARY TABLE $(update_table) (\" *\n",
    "\"id INT, \" *\n",
    "\"num_date_birth INT, \" *\n",
    "\"num_date_death INT)\"\n",
    "db_exec(sql);"
   ]
  },
  {
   "cell_type": "code",
   "execution_count": 314,
   "metadata": {},
   "outputs": [
    {
     "name": "stderr",
     "output_type": "stream",
     "text": [
      "┌ Info: Rows inserted: 5171\n",
      "└ @ WiagDataSetup C:\\Users\\Georg\\Documents\\projekte\\WiagDataSetup.jl\\src\\WiagDataSetup.jl:1171\n"
     ]
    },
    {
     "data": {
      "text/plain": [
       "5171"
      ]
     },
     "execution_count": 314,
     "metadata": {},
     "output_type": "execute_result"
    }
   ],
   "source": [
    "Wds.filltable!(update_table, select(df_episc_db, :id, :num_date_birth, :num_date_death))"
   ]
  },
  {
   "cell_type": "code",
   "execution_count": 316,
   "metadata": {},
   "outputs": [],
   "source": [
    "sql = \"UPDATE person as p, (SELECT * FROM $(update_table)) as udt \" *\n",
    "\"SET p.num_date_birth = udt.num_date_birth, p.num_date_death = udt.num_date_death \" *\n",
    "\"WHERE p.id = udt.id\"\n",
    "db_exec(sql);"
   ]
  },
  {
   "cell_type": "markdown",
   "metadata": {},
   "source": [
    "### Referenzwerke eintragen"
   ]
  },
  {
   "cell_type": "markdown",
   "metadata": {},
   "source": [
    "Quelle: Tabelle `wiag.reference`"
   ]
  },
  {
   "cell_type": "code",
   "execution_count": 11,
   "metadata": {},
   "outputs": [],
   "source": [
    "sql = \"SELECT * from wiag.reference WHERE id_ref <= 5\";\n",
    "df_ref_gatz = Wds.sql_df(sql);"
   ]
  },
  {
   "cell_type": "code",
   "execution_count": 12,
   "metadata": {},
   "outputs": [],
   "source": [
    "item_type_id = 4\n",
    "df_ref_gatz[!, :item_type_id] .= 4;"
   ]
  },
  {
   "cell_type": "code",
   "execution_count": 15,
   "metadata": {},
   "outputs": [],
   "source": [
    "columns = [\n",
    "    :item_type_id => :item_type_id,\n",
    "    :id_ref => :reference_id,\n",
    "    :full_citation => :full_citation,\n",
    "    :author_editor => :author_editor,\n",
    "    :onlineressource => :online_resource,\n",
    "    :short_title => :title_short,\n",
    "    :ri_opac_id => :ri_opac_id,\n",
    "    :year_of_publication => :year_publication,\n",
    "    :isbn => :isbn,\n",
    "    :sort => :gs_display_order,\n",
    "];"
   ]
  },
  {
   "cell_type": "code",
   "execution_count": 18,
   "metadata": {},
   "outputs": [
    {
     "name": "stderr",
     "output_type": "stream",
     "text": [
      "┌ Info: Rows inserted: 5\n",
      "└ @ WiagDataSetup C:\\Users\\Georg\\Documents\\projekte\\WiagDataSetup.jl\\src\\WiagDataSetup.jl:1204\n"
     ]
    },
    {
     "data": {
      "text/plain": [
       "5"
      ]
     },
     "execution_count": 18,
     "metadata": {},
     "output_type": "execute_result"
    }
   ],
   "source": [
    "table_name = \"reference_volume\"\n",
    "Wds.filltable!(table_name, select(df_ref_gatz, columns), clear_table=true)"
   ]
  },
  {
   "cell_type": "markdown",
   "metadata": {},
   "source": [
    "### Verweise für die einzelnen Bischöfe"
   ]
  },
  {
   "cell_type": "code",
   "execution_count": 30,
   "metadata": {},
   "outputs": [
    {
     "data": {
      "text/plain": [
       "3-element Vector{Pair{Symbol, Symbol}}:\n",
       "                  :id => :item_id\n",
       " Symbol(\"Seite Gatz\") => :page\n",
       "              :Quelle => :reference_id"
      ]
     },
     "execution_count": 30,
     "metadata": {},
     "output_type": "execute_result"
    }
   ],
   "source": [
    "columns = [\n",
    "    :id => :item_id,\n",
    "    Symbol(\"Seite Gatz\") => :page,\n",
    "    :Quelle => :reference_id\n",
    "]"
   ]
  },
  {
   "cell_type": "code",
   "execution_count": 31,
   "metadata": {},
   "outputs": [],
   "source": [
    "df_episc_ref = select(df_episc_db, columns);"
   ]
  },
  {
   "cell_type": "code",
   "execution_count": 32,
   "metadata": {},
   "outputs": [],
   "source": [
    "df_episc_ref[!, :item_type_id] .= item_type_id;"
   ]
  },
  {
   "cell_type": "markdown",
   "metadata": {},
   "source": [
    "`21576 Ludovico Trevisan` hat keinen Verweis auf eine Quelle"
   ]
  },
  {
   "cell_type": "code",
   "execution_count": 34,
   "metadata": {},
   "outputs": [],
   "source": [
    "dropmissing!(df_episc_ref, :reference_id);"
   ]
  },
  {
   "cell_type": "code",
   "execution_count": 318,
   "metadata": {},
   "outputs": [
    {
     "data": {
      "text/plain": [
       "3-element Vector{String}:\n",
       " \"item_id\"\n",
       " \"page\"\n",
       " \"reference_volume_id\""
      ]
     },
     "execution_count": 318,
     "metadata": {},
     "output_type": "execute_result"
    }
   ],
   "source": [
    "names(df_episc_ref)"
   ]
  },
  {
   "cell_type": "markdown",
   "metadata": {},
   "source": [
    "Einträge löschen im Fall von Korrekturen"
   ]
  },
  {
   "cell_type": "code",
   "execution_count": 328,
   "metadata": {},
   "outputs": [],
   "source": [
    "idx_str = join(df_episc_ref[!, :item_id], \",\")\n",
    "sql = \"DELETE FROM item_reference WHERE item_id in ($(idx_string))\"\n",
    "db_exec(sql);"
   ]
  },
  {
   "cell_type": "markdown",
   "metadata": {},
   "source": [
    "Einträge löschen für einen vollständigen neuen Satz"
   ]
  },
  {
   "cell_type": "code",
   "execution_count": 36,
   "metadata": {},
   "outputs": [
    {
     "data": {
      "text/plain": [
       "MySQL.TextCursor{true}(MySQL.Connection(host=\"127.0.0.1\", user=\"georg\", port=\"3306\", db=\"wiag2\"), \"DELETE FROM item_reference WHERE item_type_id = 4\", 0, -1, 0, MySQL.API.MYSQL_RES(Ptr{Nothing} @0x0000000000000000), Symbol[], Type[], Dict{Symbol, Int64}(), 0, 1, false)"
      ]
     },
     "execution_count": 36,
     "metadata": {},
     "output_type": "execute_result"
    }
   ],
   "source": [
    "sql = \"DELETE FROM item_reference WHERE item_type_id = $(item_type_id)\";\n",
    "DBInterface.execute(Wds.dbwiag, sql)"
   ]
  },
  {
   "cell_type": "code",
   "execution_count": 37,
   "metadata": {},
   "outputs": [
    {
     "name": "stderr",
     "output_type": "stream",
     "text": [
      "┌ Info: Rows inserted: 5170\n",
      "└ @ WiagDataSetup C:\\Users\\Georg\\Documents\\projekte\\WiagDataSetup.jl\\src\\WiagDataSetup.jl:1204\n"
     ]
    },
    {
     "data": {
      "text/plain": [
       "5170"
      ]
     },
     "execution_count": 37,
     "metadata": {},
     "output_type": "execute_result"
    }
   ],
   "source": [
    "Wds.filltable!(\"item_reference\", df_episc_ref, clear_table = false)"
   ]
  },
  {
   "cell_type": "markdown",
   "metadata": {},
   "source": [
    "### Externe URLs eintragen"
   ]
  },
  {
   "cell_type": "code",
   "execution_count": 10,
   "metadata": {},
   "outputs": [],
   "source": [
    "using MySQL, DataFrames"
   ]
  },
  {
   "cell_type": "code",
   "execution_count": 156,
   "metadata": {},
   "outputs": [
    {
     "name": "stdout",
     "output_type": "stream",
     "text": [
      "Passwort für User georg\n",
      "stdin> topf&deckel\n"
     ]
    },
    {
     "data": {
      "text/plain": [
       "MySQL.Connection(host=\"127.0.0.1\", user=\"georg\", port=\"3306\", db=\"wiag2\")"
      ]
     },
     "execution_count": 156,
     "metadata": {},
     "output_type": "execute_result"
    }
   ],
   "source": [
    "Wds.setDBWIAG(user = \"georg\", db = \"wiag2\")"
   ]
  },
  {
   "cell_type": "code",
   "execution_count": 10,
   "metadata": {},
   "outputs": [
    {
     "data": {
      "text/plain": [
       "4"
      ]
     },
     "execution_count": 10,
     "metadata": {},
     "output_type": "execute_result"
    }
   ],
   "source": [
    "item_type_id = 4"
   ]
  },
  {
   "cell_type": "code",
   "execution_count": 11,
   "metadata": {},
   "outputs": [
    {
     "data": {
      "text/plain": [
       "db_exec (generic function with 1 method)"
      ]
     },
     "execution_count": 11,
     "metadata": {},
     "output_type": "execute_result"
    }
   ],
   "source": [
    "db_exec(sql) = DBInterface.execute(Wds.dbwiag, sql) |> DataFrame"
   ]
  },
  {
   "cell_type": "markdown",
   "metadata": {},
   "source": [
    "Einträge löschen (für den Fall eines Fehlers oder für ein Update)"
   ]
  },
  {
   "cell_type": "code",
   "execution_count": 55,
   "metadata": {},
   "outputs": [],
   "source": [
    "sql = \"DELETE FROM id_external \" *\n",
    "\"WHERE item_id IN (SELECT id FROM item WHERE item_type_id = $(item_type_id))\"\n",
    "db_exec(sql);"
   ]
  },
  {
   "cell_type": "code",
   "execution_count": 15,
   "metadata": {},
   "outputs": [
    {
     "data": {
      "text/html": [
       "<div class=\"data-frame\"><p>6 rows × 2 columns</p><table class=\"data-frame\"><thead><tr><th></th><th>id</th><th>url_name_formatter</th></tr><tr><th></th><th title=\"Int32\">Int32</th><th title=\"Union{Missing, String}\">String?</th></tr></thead><tbody><tr><th>1</th><td>1</td><td>Gemeinsame Normdatei (GND) ID</td></tr><tr><th>2</th><td>2</td><td>Wikidata</td></tr><tr><th>3</th><td>3</td><td>Wikipedia-Artikel</td></tr><tr><th>4</th><td>4</td><td>VIAF-ID</td></tr><tr><th>5</th><td>5</td><td>WIAG-ID</td></tr><tr><th>6</th><td>200</td><td>Personendatenbank der Germania Sacra</td></tr></tbody></table></div>"
      ],
      "text/latex": [
       "\\begin{tabular}{r|cc}\n",
       "\t& id & url\\_name\\_formatter\\\\\n",
       "\t\\hline\n",
       "\t& Int32 & String?\\\\\n",
       "\t\\hline\n",
       "\t1 & 1 & Gemeinsame Normdatei (GND) ID \\\\\n",
       "\t2 & 2 & Wikidata \\\\\n",
       "\t3 & 3 & Wikipedia-Artikel \\\\\n",
       "\t4 & 4 & VIAF-ID \\\\\n",
       "\t5 & 5 & WIAG-ID \\\\\n",
       "\t6 & 200 & Personendatenbank der Germania Sacra \\\\\n",
       "\\end{tabular}\n"
      ],
      "text/plain": [
       "\u001b[1m6×2 DataFrame\u001b[0m\n",
       "\u001b[1m Row \u001b[0m│\u001b[1m id    \u001b[0m\u001b[1m url_name_formatter                \u001b[0m\n",
       "\u001b[1m     \u001b[0m│\u001b[90m Int32 \u001b[0m\u001b[90m String?                           \u001b[0m\n",
       "─────┼──────────────────────────────────────────\n",
       "   1 │     1  Gemeinsame Normdatei (GND) ID\n",
       "   2 │     2  Wikidata\n",
       "   3 │     3  Wikipedia-Artikel\n",
       "   4 │     4  VIAF-ID\n",
       "   5 │     5  WIAG-ID\n",
       "   6 │   200  Personendatenbank der Germania S…"
      ]
     },
     "execution_count": 15,
     "metadata": {},
     "output_type": "execute_result"
    }
   ],
   "source": [
    "sql = \"SELECT id, url_name_formatter FROM authority \" *\n",
    "\"WHERE id IN (1, 2, 3, 4, 5, 200)\"\n",
    "db_exec(sql)"
   ]
  },
  {
   "cell_type": "markdown",
   "metadata": {},
   "source": [
    "Index aus `item` lesen"
   ]
  },
  {
   "cell_type": "code",
   "execution_count": 12,
   "metadata": {},
   "outputs": [],
   "source": [
    "sql = \"SELECT id, id_in_source FROM item WHERE item_type_id = $(item_type_id)\"\n",
    "df_idx = db_exec(sql); "
   ]
  },
  {
   "cell_type": "code",
   "execution_count": 13,
   "metadata": {},
   "outputs": [
    {
     "data": {
      "text/plain": [
       "(5171, 2)"
      ]
     },
     "execution_count": 13,
     "metadata": {},
     "output_type": "execute_result"
    }
   ],
   "source": [
    "size(df_idx)"
   ]
  },
  {
   "cell_type": "markdown",
   "metadata": {},
   "source": [
    "Externe Ids aus den Quelldaten lesen  \n",
    "`bischof.tbl_bischoefe_gatz`"
   ]
  },
  {
   "cell_type": "code",
   "execution_count": 14,
   "metadata": {},
   "outputs": [],
   "source": [
    "sql = \"SELECT ID_Bischof, Vorname, Familienname, \" *\n",
    "\"VIAF_ID, GND_ID, Wikidata_ID, GSN_ID, URL_Wikipedia \" *\n",
    "\"FROM bischof.tbl_bischoefe_gatz\"\n",
    "df_src = db_exec(sql);"
   ]
  },
  {
   "cell_type": "code",
   "execution_count": 17,
   "metadata": {},
   "outputs": [],
   "source": [
    "Wds.clean_up!(df_src)"
   ]
  },
  {
   "cell_type": "code",
   "execution_count": 18,
   "metadata": {},
   "outputs": [],
   "source": [
    "df_src[!, :id_in_source] .= string.(df_src[!, :ID_Bischof]);"
   ]
  },
  {
   "cell_type": "markdown",
   "metadata": {},
   "source": [
    "**VIAF**, dann GND, Wikidata, GSN, Wikipedia"
   ]
  },
  {
   "cell_type": "code",
   "execution_count": 20,
   "metadata": {},
   "outputs": [
    {
     "data": {
      "text/plain": [
       "4"
      ]
     },
     "execution_count": 20,
     "metadata": {},
     "output_type": "execute_result"
    }
   ],
   "source": [
    "authority_id_viaf = 4 # siehe oben"
   ]
  },
  {
   "cell_type": "code",
   "execution_count": 48,
   "metadata": {},
   "outputs": [],
   "source": [
    "df_src_viaf = dropmissing(df_src, :VIAF_ID)\n",
    "df_src_viaf[!, :authority_id] .= authority_id_viaf;\n",
    "df_ins_0 = innerjoin(df_idx, df_src_viaf, on = :id_in_source);"
   ]
  },
  {
   "cell_type": "code",
   "execution_count": 50,
   "metadata": {},
   "outputs": [
    {
     "data": {
      "text/plain": [
       "(2971, 11)"
      ]
     },
     "execution_count": 50,
     "metadata": {},
     "output_type": "execute_result"
    }
   ],
   "source": [
    "size(df_ins_0)"
   ]
  },
  {
   "cell_type": "code",
   "execution_count": 51,
   "metadata": {},
   "outputs": [],
   "source": [
    "df_ins = select(df_ins_0, :id => :item_id, :authority_id, :VIAF_ID => :value);"
   ]
  },
  {
   "cell_type": "code",
   "execution_count": 52,
   "metadata": {},
   "outputs": [
    {
     "data": {
      "text/html": [
       "<div class=\"data-frame\"><p>8 rows × 3 columns</p><table class=\"data-frame\"><thead><tr><th></th><th>item_id</th><th>authority_id</th><th>value</th></tr><tr><th></th><th title=\"Int32\">Int32</th><th title=\"Int64\">Int64</th><th title=\"SubString{String}\">SubStri…</th></tr></thead><tbody><tr><th>1</th><td>585</td><td>4</td><td>20437728</td></tr><tr><th>2</th><td>586</td><td>4</td><td>32910366</td></tr><tr><th>3</th><td>587</td><td>4</td><td>120776855</td></tr><tr><th>4</th><td>588</td><td>4</td><td>81533451</td></tr><tr><th>5</th><td>590</td><td>4</td><td>86138524</td></tr><tr><th>6</th><td>591</td><td>4</td><td>2873713</td></tr><tr><th>7</th><td>592</td><td>4</td><td>60150995</td></tr><tr><th>8</th><td>593</td><td>4</td><td>221043719</td></tr></tbody></table></div>"
      ],
      "text/latex": [
       "\\begin{tabular}{r|ccc}\n",
       "\t& item\\_id & authority\\_id & value\\\\\n",
       "\t\\hline\n",
       "\t& Int32 & Int64 & SubStri…\\\\\n",
       "\t\\hline\n",
       "\t1 & 585 & 4 & 20437728 \\\\\n",
       "\t2 & 586 & 4 & 32910366 \\\\\n",
       "\t3 & 587 & 4 & 120776855 \\\\\n",
       "\t4 & 588 & 4 & 81533451 \\\\\n",
       "\t5 & 590 & 4 & 86138524 \\\\\n",
       "\t6 & 591 & 4 & 2873713 \\\\\n",
       "\t7 & 592 & 4 & 60150995 \\\\\n",
       "\t8 & 593 & 4 & 221043719 \\\\\n",
       "\\end{tabular}\n"
      ],
      "text/plain": [
       "\u001b[1m8×3 DataFrame\u001b[0m\n",
       "\u001b[1m Row \u001b[0m│\u001b[1m item_id \u001b[0m\u001b[1m authority_id \u001b[0m\u001b[1m value     \u001b[0m\n",
       "\u001b[1m     \u001b[0m│\u001b[90m Int32   \u001b[0m\u001b[90m Int64        \u001b[0m\u001b[90m SubStrin… \u001b[0m\n",
       "─────┼──────────────────────────────────\n",
       "   1 │     585             4  20437728\n",
       "   2 │     586             4  32910366\n",
       "   3 │     587             4  120776855\n",
       "   4 │     588             4  81533451\n",
       "   5 │     590             4  86138524\n",
       "   6 │     591             4  2873713\n",
       "   7 │     592             4  60150995\n",
       "   8 │     593             4  221043719"
      ]
     },
     "execution_count": 52,
     "metadata": {},
     "output_type": "execute_result"
    }
   ],
   "source": [
    "df_ins[300:307, :]"
   ]
  },
  {
   "cell_type": "code",
   "execution_count": 56,
   "metadata": {},
   "outputs": [
    {
     "name": "stderr",
     "output_type": "stream",
     "text": [
      "┌ Info: Rows inserted: 2971\n",
      "└ @ WiagDataSetup C:\\Users\\Georg\\Documents\\projekte\\WiagDataSetup.jl\\src\\WiagDataSetup.jl:1171\n"
     ]
    },
    {
     "data": {
      "text/plain": [
       "2971"
      ]
     },
     "execution_count": 56,
     "metadata": {},
     "output_type": "execute_result"
    }
   ],
   "source": [
    "Wds.filltable!(\"id_external\", df_ins)"
   ]
  },
  {
   "cell_type": "markdown",
   "metadata": {},
   "source": [
    "**GND**"
   ]
  },
  {
   "cell_type": "code",
   "execution_count": 20,
   "metadata": {},
   "outputs": [
    {
     "data": {
      "text/plain": [
       "1"
      ]
     },
     "execution_count": 20,
     "metadata": {},
     "output_type": "execute_result"
    }
   ],
   "source": [
    "authority_id_gnd = 1 # siehe oben"
   ]
  },
  {
   "cell_type": "code",
   "execution_count": 24,
   "metadata": {},
   "outputs": [],
   "source": [
    "df_src_gnd = dropmissing(df_src, :GND_ID)\n",
    "df_src_gnd[!, :authority_id] .= authority_id_gnd;\n",
    "df_ins_0 = innerjoin(df_idx, df_src_gnd, on = :id_in_source);"
   ]
  },
  {
   "cell_type": "code",
   "execution_count": 25,
   "metadata": {},
   "outputs": [
    {
     "data": {
      "text/plain": [
       "(2866, 11)"
      ]
     },
     "execution_count": 25,
     "metadata": {},
     "output_type": "execute_result"
    }
   ],
   "source": [
    "size(df_ins_0)"
   ]
  },
  {
   "cell_type": "code",
   "execution_count": 26,
   "metadata": {},
   "outputs": [],
   "source": [
    "df_ins = select(df_ins_0, :id => :item_id, :authority_id, :GND_ID => :value);"
   ]
  },
  {
   "cell_type": "code",
   "execution_count": 27,
   "metadata": {},
   "outputs": [
    {
     "data": {
      "text/html": [
       "<div class=\"data-frame\"><p>8 rows × 3 columns</p><table class=\"data-frame\"><thead><tr><th></th><th>item_id</th><th>authority_id</th><th>value</th></tr><tr><th></th><th title=\"Int32\">Int32</th><th title=\"Int64\">Int64</th><th title=\"SubString{String}\">SubStri…</th></tr></thead><tbody><tr><th>1</th><td>588</td><td>1</td><td>137327579</td></tr><tr><th>2</th><td>590</td><td>1</td><td>137980302</td></tr><tr><th>3</th><td>591</td><td>1</td><td>103078711</td></tr><tr><th>4</th><td>592</td><td>1</td><td>129021709</td></tr><tr><th>5</th><td>593</td><td>1</td><td>189543795</td></tr><tr><th>6</th><td>594</td><td>1</td><td>129068225</td></tr><tr><th>7</th><td>595</td><td>1</td><td>129305774</td></tr><tr><th>8</th><td>597</td><td>1</td><td>1024543595</td></tr></tbody></table></div>"
      ],
      "text/latex": [
       "\\begin{tabular}{r|ccc}\n",
       "\t& item\\_id & authority\\_id & value\\\\\n",
       "\t\\hline\n",
       "\t& Int32 & Int64 & SubStri…\\\\\n",
       "\t\\hline\n",
       "\t1 & 588 & 1 & 137327579 \\\\\n",
       "\t2 & 590 & 1 & 137980302 \\\\\n",
       "\t3 & 591 & 1 & 103078711 \\\\\n",
       "\t4 & 592 & 1 & 129021709 \\\\\n",
       "\t5 & 593 & 1 & 189543795 \\\\\n",
       "\t6 & 594 & 1 & 129068225 \\\\\n",
       "\t7 & 595 & 1 & 129305774 \\\\\n",
       "\t8 & 597 & 1 & 1024543595 \\\\\n",
       "\\end{tabular}\n"
      ],
      "text/plain": [
       "\u001b[1m8×3 DataFrame\u001b[0m\n",
       "\u001b[1m Row \u001b[0m│\u001b[1m item_id \u001b[0m\u001b[1m authority_id \u001b[0m\u001b[1m value      \u001b[0m\n",
       "\u001b[1m     \u001b[0m│\u001b[90m Int32   \u001b[0m\u001b[90m Int64        \u001b[0m\u001b[90m SubStrin…  \u001b[0m\n",
       "─────┼───────────────────────────────────\n",
       "   1 │     588             1  137327579\n",
       "   2 │     590             1  137980302\n",
       "   3 │     591             1  103078711\n",
       "   4 │     592             1  129021709\n",
       "   5 │     593             1  189543795\n",
       "   6 │     594             1  129068225\n",
       "   7 │     595             1  129305774\n",
       "   8 │     597             1  1024543595"
      ]
     },
     "execution_count": 27,
     "metadata": {},
     "output_type": "execute_result"
    }
   ],
   "source": [
    "df_ins[300:307, :]"
   ]
  },
  {
   "cell_type": "code",
   "execution_count": 28,
   "metadata": {},
   "outputs": [
    {
     "name": "stderr",
     "output_type": "stream",
     "text": [
      "┌ Info: Rows inserted: 2866\n",
      "└ @ WiagDataSetup C:\\Users\\Georg\\Documents\\projekte\\WiagDataSetup.jl\\src\\WiagDataSetup.jl:1171\n"
     ]
    },
    {
     "data": {
      "text/plain": [
       "2866"
      ]
     },
     "execution_count": 28,
     "metadata": {},
     "output_type": "execute_result"
    }
   ],
   "source": [
    "Wds.filltable!(\"id_external\", df_ins)"
   ]
  },
  {
   "cell_type": "markdown",
   "metadata": {},
   "source": [
    "**Wikidata**"
   ]
  },
  {
   "cell_type": "code",
   "execution_count": 29,
   "metadata": {},
   "outputs": [
    {
     "data": {
      "text/plain": [
       "2"
      ]
     },
     "execution_count": 29,
     "metadata": {},
     "output_type": "execute_result"
    }
   ],
   "source": [
    "authority_id_wd = 2 # siehe oben"
   ]
  },
  {
   "cell_type": "code",
   "execution_count": 30,
   "metadata": {},
   "outputs": [],
   "source": [
    "df_src_wd = dropmissing(df_src, :Wikidata_ID)\n",
    "df_src_wd[!, :authority_id] .= authority_id_wd;\n",
    "df_ins_0 = innerjoin(df_idx, df_src_wd, on = :id_in_source);"
   ]
  },
  {
   "cell_type": "code",
   "execution_count": 31,
   "metadata": {},
   "outputs": [
    {
     "data": {
      "text/plain": [
       "(5171, 11)"
      ]
     },
     "execution_count": 31,
     "metadata": {},
     "output_type": "execute_result"
    }
   ],
   "source": [
    "size(df_ins_0)"
   ]
  },
  {
   "cell_type": "code",
   "execution_count": 34,
   "metadata": {},
   "outputs": [],
   "source": [
    "df_ins = select(df_ins_0, :id => :item_id, :authority_id, :Wikidata_ID => :value);"
   ]
  },
  {
   "cell_type": "code",
   "execution_count": 35,
   "metadata": {},
   "outputs": [
    {
     "data": {
      "text/html": [
       "<div class=\"data-frame\"><p>8 rows × 3 columns</p><table class=\"data-frame\"><thead><tr><th></th><th>item_id</th><th>authority_id</th><th>value</th></tr><tr><th></th><th title=\"Int32\">Int32</th><th title=\"Int64\">Int64</th><th title=\"SubString{String}\">SubStri…</th></tr></thead><tbody><tr><th>1</th><td>780</td><td>2</td><td>Q55810243</td></tr><tr><th>2</th><td>779</td><td>2</td><td>Q55786070</td></tr><tr><th>3</th><td>778</td><td>2</td><td>Q55803565</td></tr><tr><th>4</th><td>777</td><td>2</td><td>Q1696813</td></tr><tr><th>5</th><td>776</td><td>2</td><td>Q1696339</td></tr><tr><th>6</th><td>775</td><td>2</td><td>Q97699216</td></tr><tr><th>7</th><td>774</td><td>2</td><td>Q1549799</td></tr><tr><th>8</th><td>773</td><td>2</td><td>Q55903980</td></tr></tbody></table></div>"
      ],
      "text/latex": [
       "\\begin{tabular}{r|ccc}\n",
       "\t& item\\_id & authority\\_id & value\\\\\n",
       "\t\\hline\n",
       "\t& Int32 & Int64 & SubStri…\\\\\n",
       "\t\\hline\n",
       "\t1 & 780 & 2 & Q55810243 \\\\\n",
       "\t2 & 779 & 2 & Q55786070 \\\\\n",
       "\t3 & 778 & 2 & Q55803565 \\\\\n",
       "\t4 & 777 & 2 & Q1696813 \\\\\n",
       "\t5 & 776 & 2 & Q1696339 \\\\\n",
       "\t6 & 775 & 2 & Q97699216 \\\\\n",
       "\t7 & 774 & 2 & Q1549799 \\\\\n",
       "\t8 & 773 & 2 & Q55903980 \\\\\n",
       "\\end{tabular}\n"
      ],
      "text/plain": [
       "\u001b[1m8×3 DataFrame\u001b[0m\n",
       "\u001b[1m Row \u001b[0m│\u001b[1m item_id \u001b[0m\u001b[1m authority_id \u001b[0m\u001b[1m value     \u001b[0m\n",
       "\u001b[1m     \u001b[0m│\u001b[90m Int32   \u001b[0m\u001b[90m Int64        \u001b[0m\u001b[90m SubStrin… \u001b[0m\n",
       "─────┼──────────────────────────────────\n",
       "   1 │     780             2  Q55810243\n",
       "   2 │     779             2  Q55786070\n",
       "   3 │     778             2  Q55803565\n",
       "   4 │     777             2  Q1696813\n",
       "   5 │     776             2  Q1696339\n",
       "   6 │     775             2  Q97699216\n",
       "   7 │     774             2  Q1549799\n",
       "   8 │     773             2  Q55903980"
      ]
     },
     "execution_count": 35,
     "metadata": {},
     "output_type": "execute_result"
    }
   ],
   "source": [
    "df_ins[300:307, :]"
   ]
  },
  {
   "cell_type": "code",
   "execution_count": 36,
   "metadata": {},
   "outputs": [
    {
     "name": "stderr",
     "output_type": "stream",
     "text": [
      "┌ Info: Rows inserted: 5171\n",
      "└ @ WiagDataSetup C:\\Users\\Georg\\Documents\\projekte\\WiagDataSetup.jl\\src\\WiagDataSetup.jl:1171\n"
     ]
    },
    {
     "data": {
      "text/plain": [
       "5171"
      ]
     },
     "execution_count": 36,
     "metadata": {},
     "output_type": "execute_result"
    }
   ],
   "source": [
    "Wds.filltable!(\"id_external\", df_ins)"
   ]
  },
  {
   "cell_type": "markdown",
   "metadata": {},
   "source": [
    "**GSN**"
   ]
  },
  {
   "cell_type": "code",
   "execution_count": 37,
   "metadata": {},
   "outputs": [
    {
     "data": {
      "text/plain": [
       "200"
      ]
     },
     "execution_count": 37,
     "metadata": {},
     "output_type": "execute_result"
    }
   ],
   "source": [
    "authority_id_gsn = 200 # siehe oben"
   ]
  },
  {
   "cell_type": "code",
   "execution_count": 40,
   "metadata": {},
   "outputs": [],
   "source": [
    "df_src_gsn = dropmissing(df_src, :GSN_ID)\n",
    "df_src_gsn[!, :authority_id] .= authority_id_gsn;\n",
    "df_ins_0 = innerjoin(df_idx, df_src_gsn, on = :id_in_source);"
   ]
  },
  {
   "cell_type": "code",
   "execution_count": 41,
   "metadata": {},
   "outputs": [
    {
     "data": {
      "text/plain": [
       "(2113, 11)"
      ]
     },
     "execution_count": 41,
     "metadata": {},
     "output_type": "execute_result"
    }
   ],
   "source": [
    "size(df_ins_0)"
   ]
  },
  {
   "cell_type": "code",
   "execution_count": 42,
   "metadata": {},
   "outputs": [],
   "source": [
    "df_ins = select(df_ins_0, :id => :item_id, :authority_id, :GSN_ID => :value);"
   ]
  },
  {
   "cell_type": "code",
   "execution_count": 43,
   "metadata": {},
   "outputs": [
    {
     "data": {
      "text/html": [
       "<div class=\"data-frame\"><p>8 rows × 3 columns</p><table class=\"data-frame\"><thead><tr><th></th><th>item_id</th><th>authority_id</th><th>value</th></tr><tr><th></th><th title=\"Int32\">Int32</th><th title=\"Int64\">Int64</th><th title=\"SubString{String}\">SubStri…</th></tr></thead><tbody><tr><th>1</th><td>701</td><td>200</td><td>056-00109-001</td></tr><tr><th>2</th><td>702</td><td>200</td><td>056-01525-001</td></tr><tr><th>3</th><td>703</td><td>200</td><td>056-01303-001</td></tr><tr><th>4</th><td>704</td><td>200</td><td>056-01224-001</td></tr><tr><th>5</th><td>705</td><td>200</td><td>056-01111-001</td></tr><tr><th>6</th><td>706</td><td>200</td><td>056-00830-001</td></tr><tr><th>7</th><td>707</td><td>200</td><td>056-00558-001</td></tr><tr><th>8</th><td>708</td><td>200</td><td>056-01697-001</td></tr></tbody></table></div>"
      ],
      "text/latex": [
       "\\begin{tabular}{r|ccc}\n",
       "\t& item\\_id & authority\\_id & value\\\\\n",
       "\t\\hline\n",
       "\t& Int32 & Int64 & SubStri…\\\\\n",
       "\t\\hline\n",
       "\t1 & 701 & 200 & 056-00109-001 \\\\\n",
       "\t2 & 702 & 200 & 056-01525-001 \\\\\n",
       "\t3 & 703 & 200 & 056-01303-001 \\\\\n",
       "\t4 & 704 & 200 & 056-01224-001 \\\\\n",
       "\t5 & 705 & 200 & 056-01111-001 \\\\\n",
       "\t6 & 706 & 200 & 056-00830-001 \\\\\n",
       "\t7 & 707 & 200 & 056-00558-001 \\\\\n",
       "\t8 & 708 & 200 & 056-01697-001 \\\\\n",
       "\\end{tabular}\n"
      ],
      "text/plain": [
       "\u001b[1m8×3 DataFrame\u001b[0m\n",
       "\u001b[1m Row \u001b[0m│\u001b[1m item_id \u001b[0m\u001b[1m authority_id \u001b[0m\u001b[1m value         \u001b[0m\n",
       "\u001b[1m     \u001b[0m│\u001b[90m Int32   \u001b[0m\u001b[90m Int64        \u001b[0m\u001b[90m SubStrin…     \u001b[0m\n",
       "─────┼──────────────────────────────────────\n",
       "   1 │     701           200  056-00109-001\n",
       "   2 │     702           200  056-01525-001\n",
       "   3 │     703           200  056-01303-001\n",
       "   4 │     704           200  056-01224-001\n",
       "   5 │     705           200  056-01111-001\n",
       "   6 │     706           200  056-00830-001\n",
       "   7 │     707           200  056-00558-001\n",
       "   8 │     708           200  056-01697-001"
      ]
     },
     "execution_count": 43,
     "metadata": {},
     "output_type": "execute_result"
    }
   ],
   "source": [
    "df_ins[300:307, :]"
   ]
  },
  {
   "cell_type": "code",
   "execution_count": 44,
   "metadata": {},
   "outputs": [
    {
     "name": "stderr",
     "output_type": "stream",
     "text": [
      "┌ Info: Rows inserted: 2113\n",
      "└ @ WiagDataSetup C:\\Users\\Georg\\Documents\\projekte\\WiagDataSetup.jl\\src\\WiagDataSetup.jl:1171\n"
     ]
    },
    {
     "data": {
      "text/plain": [
       "2113"
      ]
     },
     "execution_count": 44,
     "metadata": {},
     "output_type": "execute_result"
    }
   ],
   "source": [
    "Wds.filltable!(\"id_external\", df_ins)"
   ]
  },
  {
   "cell_type": "markdown",
   "metadata": {},
   "source": [
    "**Wikipedia**"
   ]
  },
  {
   "cell_type": "code",
   "execution_count": 15,
   "metadata": {},
   "outputs": [
    {
     "data": {
      "text/plain": [
       "3"
      ]
     },
     "execution_count": 15,
     "metadata": {},
     "output_type": "execute_result"
    }
   ],
   "source": [
    "authority_id_wp = 3 # siehe oben"
   ]
  },
  {
   "cell_type": "code",
   "execution_count": 19,
   "metadata": {},
   "outputs": [],
   "source": [
    "df_src_wp = dropmissing(df_src, :URL_Wikipedia)\n",
    "df_src_wp[!, :authority_id] .= authority_id_wp;\n",
    "df_ins_0 = innerjoin(df_idx, df_src_wp, on = :id_in_source);"
   ]
  },
  {
   "cell_type": "code",
   "execution_count": 20,
   "metadata": {},
   "outputs": [
    {
     "data": {
      "text/plain": [
       "(2938, 11)"
      ]
     },
     "execution_count": 20,
     "metadata": {},
     "output_type": "execute_result"
    }
   ],
   "source": [
    "size(df_ins_0)"
   ]
  },
  {
   "cell_type": "code",
   "execution_count": 37,
   "metadata": {},
   "outputs": [],
   "source": [
    "df_ins = select(df_ins_0, :id => :item_id, :authority_id, :URL_Wikipedia => :value);"
   ]
  },
  {
   "cell_type": "markdown",
   "metadata": {},
   "source": [
    "Die Wikipedia-URLs sind teilweise mit '#' versehen und doppelt  \n",
    "#https://de.wikipedia.org/wiki/Ruprecht_von_der_Pfalz_%28Freising%29#https://de.wikipedia.org/wiki/Ruprecht_von_der_Pfalz_%28Freising%29#"
   ]
  },
  {
   "cell_type": "code",
   "execution_count": 22,
   "metadata": {},
   "outputs": [
    {
     "data": {
      "text/plain": [
       "\"Ruprecht_von_der_Pfalz_%28Freising%29\""
      ]
     },
     "execution_count": 22,
     "metadata": {},
     "output_type": "execute_result"
    }
   ],
   "source": [
    "url_m = \"#https://de.wikipedia.org/wiki/Ruprecht_von_der_Pfalz_%28Freising%29#https://de.wikipedia.org/wiki/Ruprecht_von_der_Pfalz_%28Freising%29#\"\n",
    "Wds.fix_Wikipedia_URL(url_m)"
   ]
  },
  {
   "cell_type": "code",
   "execution_count": null,
   "metadata": {},
   "outputs": [],
   "source": [
    "df_ins[!, :value] .= Wds.fix_Wikipedia_URL.(df_ins[!, :value]);"
   ]
  },
  {
   "cell_type": "code",
   "execution_count": 39,
   "metadata": {},
   "outputs": [
    {
     "data": {
      "text/html": [
       "<div class=\"data-frame\"><p>8 rows × 3 columns</p><table class=\"data-frame\"><thead><tr><th></th><th>item_id</th><th>authority_id</th><th>value</th></tr><tr><th></th><th title=\"Int32\">Int32</th><th title=\"Int64\">Int64</th><th title=\"SubString{String}\">SubStri…</th></tr></thead><tbody><tr><th>1</th><td>463</td><td>3</td><td>Timo_(Bamberg)</td></tr><tr><th>2</th><td>464</td><td>3</td><td>Anselm_von_Nenningen</td></tr><tr><th>3</th><td>465</td><td>3</td><td>Friedrich_von_Grafeneck</td></tr><tr><th>4</th><td>467</td><td>3</td><td>Burkhard_von_Ellerbach</td></tr><tr><th>5</th><td>468</td><td>3</td><td>Johann_Schadland</td></tr><tr><th>6</th><td>469</td><td>3</td><td>Walter_II._von_Hochschlitz</td></tr><tr><th>7</th><td>470</td><td>3</td><td>Marquard_I._von_Randeck</td></tr><tr><th>8</th><td>474</td><td>3</td><td>Degenhard_von_Hellenstein</td></tr></tbody></table></div>"
      ],
      "text/latex": [
       "\\begin{tabular}{r|ccc}\n",
       "\t& item\\_id & authority\\_id & value\\\\\n",
       "\t\\hline\n",
       "\t& Int32 & Int64 & SubStri…\\\\\n",
       "\t\\hline\n",
       "\t1 & 463 & 3 & Timo\\_(Bamberg) \\\\\n",
       "\t2 & 464 & 3 & Anselm\\_von\\_Nenningen \\\\\n",
       "\t3 & 465 & 3 & Friedrich\\_von\\_Grafeneck \\\\\n",
       "\t4 & 467 & 3 & Burkhard\\_von\\_Ellerbach \\\\\n",
       "\t5 & 468 & 3 & Johann\\_Schadland \\\\\n",
       "\t6 & 469 & 3 & Walter\\_II.\\_von\\_Hochschlitz \\\\\n",
       "\t7 & 470 & 3 & Marquard\\_I.\\_von\\_Randeck \\\\\n",
       "\t8 & 474 & 3 & Degenhard\\_von\\_Hellenstein \\\\\n",
       "\\end{tabular}\n"
      ],
      "text/plain": [
       "\u001b[1m8×3 DataFrame\u001b[0m\n",
       "\u001b[1m Row \u001b[0m│\u001b[1m item_id \u001b[0m\u001b[1m authority_id \u001b[0m\u001b[1m value                      \u001b[0m\n",
       "\u001b[1m     \u001b[0m│\u001b[90m Int32   \u001b[0m\u001b[90m Int64        \u001b[0m\u001b[90m SubStrin…                  \u001b[0m\n",
       "─────┼───────────────────────────────────────────────────\n",
       "   1 │     463             3  Timo_(Bamberg)\n",
       "   2 │     464             3  Anselm_von_Nenningen\n",
       "   3 │     465             3  Friedrich_von_Grafeneck\n",
       "   4 │     467             3  Burkhard_von_Ellerbach\n",
       "   5 │     468             3  Johann_Schadland\n",
       "   6 │     469             3  Walter_II._von_Hochschlitz\n",
       "   7 │     470             3  Marquard_I._von_Randeck\n",
       "   8 │     474             3  Degenhard_von_Hellenstein"
      ]
     },
     "execution_count": 39,
     "metadata": {},
     "output_type": "execute_result"
    }
   ],
   "source": [
    "df_ins[300:307, :]"
   ]
  },
  {
   "cell_type": "markdown",
   "metadata": {},
   "source": [
    "debug begin"
   ]
  },
  {
   "cell_type": "code",
   "execution_count": 57,
   "metadata": {},
   "outputs": [],
   "source": [
    "using CSV"
   ]
  },
  {
   "cell_type": "code",
   "execution_count": 58,
   "metadata": {},
   "outputs": [
    {
     "data": {
      "text/plain": [
       "\"C:\\\\Users\\\\georg\\\\Documents\\\\tmp\\\\bishops_url_wikidata.csv\""
      ]
     },
     "execution_count": 58,
     "metadata": {},
     "output_type": "execute_result"
    }
   ],
   "source": [
    "file_wp = \"C:\\\\Users\\\\georg\\\\Documents\\\\tmp\\\\bishops_url_wikidata.csv\""
   ]
  },
  {
   "cell_type": "code",
   "execution_count": 59,
   "metadata": {},
   "outputs": [
    {
     "data": {
      "text/plain": [
       "\"C:\\\\Users\\\\georg\\\\Documents\\\\tmp\\\\bishops_url_wikidata.csv\""
      ]
     },
     "execution_count": 59,
     "metadata": {},
     "output_type": "execute_result"
    }
   ],
   "source": [
    "CSV.write(file_wp, df_ins)"
   ]
  },
  {
   "cell_type": "markdown",
   "metadata": {},
   "source": [
    "debug end"
   ]
  },
  {
   "cell_type": "code",
   "execution_count": 40,
   "metadata": {},
   "outputs": [
    {
     "name": "stderr",
     "output_type": "stream",
     "text": [
      "┌ Info: Rows inserted: 2938\n",
      "└ @ WiagDataSetup C:\\Users\\Georg\\Documents\\projekte\\WiagDataSetup.jl\\src\\WiagDataSetup.jl:1171\n"
     ]
    },
    {
     "data": {
      "text/plain": [
       "2938"
      ]
     },
     "execution_count": 40,
     "metadata": {},
     "output_type": "execute_result"
    }
   ],
   "source": [
    "Wds.filltable!(\"id_external\", df_ins)"
   ]
  },
  {
   "cell_type": "markdown",
   "metadata": {},
   "source": [
    "### Namensvarianten eintragen"
   ]
  },
  {
   "cell_type": "code",
   "execution_count": 7,
   "metadata": {},
   "outputs": [],
   "source": [
    "using MySQL, DataFrames"
   ]
  },
  {
   "cell_type": "code",
   "execution_count": 8,
   "metadata": {},
   "outputs": [
    {
     "data": {
      "text/plain": [
       "db_exec (generic function with 1 method)"
      ]
     },
     "execution_count": 8,
     "metadata": {},
     "output_type": "execute_result"
    }
   ],
   "source": [
    "db_exec(sql) = DBInterface.execute(Wds.dbwiag, sql) |> DataFrame"
   ]
  },
  {
   "cell_type": "code",
   "execution_count": 9,
   "metadata": {},
   "outputs": [
    {
     "ename": "LoadError",
     "evalue": "UndefVarError: Wds not defined",
     "output_type": "error",
     "traceback": [
      "UndefVarError: Wds not defined",
      "",
      "Stacktrace:",
      " [1] db_exec(sql::String)",
      "   @ Main .\\In[8]:1",
      " [2] top-level scope",
      "   @ In[9]:4",
      " [3] eval",
      "   @ .\\boot.jl:360 [inlined]",
      " [4] include_string(mapexpr::typeof(REPL.softscope), mod::Module, code::String, filename::String)",
      "   @ Base .\\loading.jl:1094"
     ]
    }
   ],
   "source": [
    "table_src = \"bischof.tbl_bischoefe_gatz\"\n",
    "sql = \"SELECT ID_Bischof, Vorname, Familienname, Vorname_Varianten, Familienname_Variante \" *\n",
    "\"FROM $(table_src)\"\n",
    "df_src = db_exec(sql);"
   ]
  },
  {
   "cell_type": "code",
   "execution_count": 45,
   "metadata": {},
   "outputs": [],
   "source": [
    "Wds.clean_up!(df_src)"
   ]
  },
  {
   "cell_type": "code",
   "execution_count": 65,
   "metadata": {},
   "outputs": [],
   "source": [
    "df_fnv = dropmissing(df_src, :Familienname_Variante);"
   ]
  },
  {
   "cell_type": "code",
   "execution_count": 66,
   "metadata": {},
   "outputs": [
    {
     "data": {
      "text/plain": [
       "(535, 5)"
      ]
     },
     "execution_count": 66,
     "metadata": {},
     "output_type": "execute_result"
    }
   ],
   "source": [
    "size(df_fnv)"
   ]
  },
  {
   "cell_type": "code",
   "execution_count": 67,
   "metadata": {},
   "outputs": [
    {
     "data": {
      "text/html": [
       "<div class=\"data-frame\"><p>8 rows × 5 columns</p><table class=\"data-frame\"><thead><tr><th></th><th>ID_Bischof</th><th>Vorname</th><th>Familienname</th><th>Vorname_Varianten</th><th>Familienname_Variante</th></tr><tr><th></th><th title=\"Int32\">Int32</th><th title=\"SubString{String}\">SubStri…</th><th title=\"Union{Missing, SubString{String}}\">SubStri…?</th><th title=\"Union{Missing, SubString{String}}\">SubStri…?</th><th title=\"SubString{String}\">SubStri…</th></tr></thead><tbody><tr><th>1</th><td>5344</td><td>Barthélemy</td><td>Chuet</td><td>Bartholomaeus</td><td>Chouet, Cueti</td></tr><tr><th>2</th><td>5347</td><td>Judocus</td><td>Dale</td><td><em>missing</em></td><td>de Valle</td></tr><tr><th>3</th><td>5352</td><td>Johannes</td><td>Dieburger</td><td><em>missing</em></td><td>Dieperger</td></tr><tr><th>4</th><td>5357</td><td>Hiob</td><td>Dobeneck</td><td><em>missing</em></td><td>Job</td></tr><tr><th>5</th><td>5364</td><td>Wilhelm</td><td>Enckenvoirt</td><td><em>missing</em></td><td>Enckevort</td></tr><tr><th>6</th><td>5367</td><td>Albert</td><td>Engel</td><td><em>missing</em></td><td>Enghel, Engelen</td></tr><tr><th>7</th><td>5374</td><td>Johannes</td><td>Fabri</td><td><em>missing</em></td><td>Smed</td></tr><tr><th>8</th><td>5425</td><td>Hermann</td><td><em>missing</em></td><td><em>missing</em></td><td>Weise</td></tr></tbody></table></div>"
      ],
      "text/latex": [
       "\\begin{tabular}{r|ccccc}\n",
       "\t& ID\\_Bischof & Vorname & Familienname & Vorname\\_Varianten & Familienname\\_Variante\\\\\n",
       "\t\\hline\n",
       "\t& Int32 & SubStri… & SubStri…? & SubStri…? & SubStri…\\\\\n",
       "\t\\hline\n",
       "\t1 & 5344 & Barthélemy & Chuet & Bartholomaeus & Chouet, Cueti \\\\\n",
       "\t2 & 5347 & Judocus & Dale & \\emph{missing} & de Valle \\\\\n",
       "\t3 & 5352 & Johannes & Dieburger & \\emph{missing} & Dieperger \\\\\n",
       "\t4 & 5357 & Hiob & Dobeneck & \\emph{missing} & Job \\\\\n",
       "\t5 & 5364 & Wilhelm & Enckenvoirt & \\emph{missing} & Enckevort \\\\\n",
       "\t6 & 5367 & Albert & Engel & \\emph{missing} & Enghel, Engelen \\\\\n",
       "\t7 & 5374 & Johannes & Fabri & \\emph{missing} & Smed \\\\\n",
       "\t8 & 5425 & Hermann & \\emph{missing} & \\emph{missing} & Weise \\\\\n",
       "\\end{tabular}\n"
      ],
      "text/plain": [
       "\u001b[1m8×5 DataFrame\u001b[0m\n",
       "\u001b[1m Row \u001b[0m│\u001b[1m ID_Bischof \u001b[0m\u001b[1m Vorname    \u001b[0m\u001b[1m Familienname \u001b[0m\u001b[1m Vorname_Varianten \u001b[0m\u001b[1m Familienname_V\u001b[0m ⋯\n",
       "\u001b[1m     \u001b[0m│\u001b[90m Int32      \u001b[0m\u001b[90m SubStrin…  \u001b[0m\u001b[90m SubString…?  \u001b[0m\u001b[90m SubString…?       \u001b[0m\u001b[90m SubStrin…     \u001b[0m ⋯\n",
       "─────┼──────────────────────────────────────────────────────────────────────────\n",
       "   1 │       5344  Barthélemy  Chuet         Bartholomaeus      Chouet, Cueti  ⋯\n",
       "   2 │       5347  Judocus     Dale         \u001b[90m missing           \u001b[0m de Valle\n",
       "   3 │       5352  Johannes    Dieburger    \u001b[90m missing           \u001b[0m Dieperger\n",
       "   4 │       5357  Hiob        Dobeneck     \u001b[90m missing           \u001b[0m Job\n",
       "   5 │       5364  Wilhelm     Enckenvoirt  \u001b[90m missing           \u001b[0m Enckevort      ⋯\n",
       "   6 │       5367  Albert      Engel        \u001b[90m missing           \u001b[0m Enghel, Engele\n",
       "   7 │       5374  Johannes    Fabri        \u001b[90m missing           \u001b[0m Smed\n",
       "   8 │       5425  Hermann    \u001b[90m missing      \u001b[0m\u001b[90m missing           \u001b[0m Weise\n",
       "\u001b[36m                                                                1 column omitted\u001b[0m"
      ]
     },
     "execution_count": 67,
     "metadata": {},
     "output_type": "execute_result"
    }
   ],
   "source": [
    "df_fnv[200:207, :]"
   ]
  },
  {
   "cell_type": "code",
   "execution_count": 69,
   "metadata": {},
   "outputs": [],
   "source": [
    "df_exp = Wds.expand_column(df_fnv, :Familienname_Variante, delim = \",\");"
   ]
  },
  {
   "cell_type": "code",
   "execution_count": 70,
   "metadata": {},
   "outputs": [
    {
     "data": {
      "text/plain": [
       "(698, 5)"
      ]
     },
     "execution_count": 70,
     "metadata": {},
     "output_type": "execute_result"
    }
   ],
   "source": [
    "size(df_exp)"
   ]
  },
  {
   "cell_type": "code",
   "execution_count": 71,
   "metadata": {},
   "outputs": [
    {
     "data": {
      "text/html": [
       "<div class=\"data-frame\"><p>8 rows × 5 columns</p><table class=\"data-frame\"><thead><tr><th></th><th>ID_Bischof</th><th>Vorname</th><th>Familienname</th><th>Vorname_Varianten</th><th>Familienname_Variante</th></tr><tr><th></th><th title=\"Int32\">Int32</th><th title=\"SubString{String}\">SubStri…</th><th title=\"Union{Missing, SubString{String}}\">SubStri…?</th><th title=\"Union{Missing, SubString{String}}\">SubStri…?</th><th title=\"SubString{String}\">SubStri…</th></tr></thead><tbody><tr><th>1</th><td>3225</td><td>Johannes</td><td>Krouwel</td><td><em>missing</em></td><td>Crowel</td></tr><tr><th>2</th><td>3225</td><td>Johannes</td><td>Krouwel</td><td><em>missing</em></td><td>Creul</td></tr><tr><th>3</th><td>3232</td><td>Bruno</td><td>Schauenburg</td><td><em>missing</em></td><td>Schaumburg</td></tr><tr><th>4</th><td>3234</td><td>Johann</td><td>der Kahle von Wallenstein</td><td><em>missing</em></td><td>Holý von Wallenstein</td></tr><tr><th>5</th><td>3237</td><td>Hynko</td><td>Berka von Duba</td><td>Hynek</td><td>Berka z Dubé</td></tr><tr><th>6</th><td>3241</td><td>Peter</td><td>Wurst</td><td><em>missing</em></td><td>Jelito</td></tr><tr><th>7</th><td>3243</td><td>Latzek</td><td>Krawarn</td><td>Ladislaus</td><td>Kravare</td></tr><tr><th>8</th><td>3244</td><td>Johann</td><td>Frost</td><td><em>missing</em></td><td>Mráz</td></tr></tbody></table></div>"
      ],
      "text/latex": [
       "\\begin{tabular}{r|ccccc}\n",
       "\t& ID\\_Bischof & Vorname & Familienname & Vorname\\_Varianten & Familienname\\_Variante\\\\\n",
       "\t\\hline\n",
       "\t& Int32 & SubStri… & SubStri…? & SubStri…? & SubStri…\\\\\n",
       "\t\\hline\n",
       "\t1 & 3225 & Johannes & Krouwel & \\emph{missing} & Crowel \\\\\n",
       "\t2 & 3225 & Johannes & Krouwel & \\emph{missing} & Creul \\\\\n",
       "\t3 & 3232 & Bruno & Schauenburg & \\emph{missing} & Schaumburg \\\\\n",
       "\t4 & 3234 & Johann & der Kahle von Wallenstein & \\emph{missing} & Holý von Wallenstein \\\\\n",
       "\t5 & 3237 & Hynko & Berka von Duba & Hynek & Berka z Dubé \\\\\n",
       "\t6 & 3241 & Peter & Wurst & \\emph{missing} & Jelito \\\\\n",
       "\t7 & 3243 & Latzek & Krawarn & Ladislaus & Kravare \\\\\n",
       "\t8 & 3244 & Johann & Frost & \\emph{missing} & Mráz \\\\\n",
       "\\end{tabular}\n"
      ],
      "text/plain": [
       "\u001b[1m8×5 DataFrame\u001b[0m\n",
       "\u001b[1m Row \u001b[0m│\u001b[1m ID_Bischof \u001b[0m\u001b[1m Vorname   \u001b[0m\u001b[1m Familienname              \u001b[0m\u001b[1m Vorname_Varianten \u001b[0m\u001b[1m Fa\u001b[0m ⋯\n",
       "\u001b[1m     \u001b[0m│\u001b[90m Int32      \u001b[0m\u001b[90m SubStrin… \u001b[0m\u001b[90m SubString…?               \u001b[0m\u001b[90m SubString…?       \u001b[0m\u001b[90m Su\u001b[0m ⋯\n",
       "─────┼──────────────────────────────────────────────────────────────────────────\n",
       "   1 │       3225  Johannes   Krouwel                   \u001b[90m missing           \u001b[0m Cr ⋯\n",
       "   2 │       3225  Johannes   Krouwel                   \u001b[90m missing           \u001b[0m Cr\n",
       "   3 │       3232  Bruno      Schauenburg               \u001b[90m missing           \u001b[0m Sc\n",
       "   4 │       3234  Johann     der Kahle von Wallenstein \u001b[90m missing           \u001b[0m Ho\n",
       "   5 │       3237  Hynko      Berka von Duba             Hynek              Be ⋯\n",
       "   6 │       3241  Peter      Wurst                     \u001b[90m missing           \u001b[0m Je\n",
       "   7 │       3243  Latzek     Krawarn                    Ladislaus          Kr\n",
       "   8 │       3244  Johann     Frost                     \u001b[90m missing           \u001b[0m Mr\n",
       "\u001b[36m                                                                1 column omitted\u001b[0m"
      ]
     },
     "execution_count": 71,
     "metadata": {},
     "output_type": "execute_result"
    }
   ],
   "source": [
    "df_exp[150:157, :]"
   ]
  },
  {
   "cell_type": "code",
   "execution_count": 72,
   "metadata": {},
   "outputs": [],
   "source": [
    "df_exp[!, :id_in_source] .= string.(df_exp[!, :ID_Bischof]);"
   ]
  },
  {
   "cell_type": "code",
   "execution_count": 73,
   "metadata": {},
   "outputs": [],
   "source": [
    "df_ins = innerjoin(df_idx, df_exp, on = :id_in_source);"
   ]
  },
  {
   "cell_type": "code",
   "execution_count": 74,
   "metadata": {},
   "outputs": [
    {
     "data": {
      "text/plain": [
       "(698, 7)"
      ]
     },
     "execution_count": 74,
     "metadata": {},
     "output_type": "execute_result"
    }
   ],
   "source": [
    "size(df_ins)"
   ]
  },
  {
   "cell_type": "markdown",
   "metadata": {},
   "source": [
    "Spalte `lang` hat den Default-Wert 'de'."
   ]
  },
  {
   "cell_type": "code",
   "execution_count": 76,
   "metadata": {},
   "outputs": [
    {
     "name": "stderr",
     "output_type": "stream",
     "text": [
      "┌ Info: Rows inserted: 698\n",
      "└ @ WiagDataSetup C:\\Users\\Georg\\Documents\\projekte\\WiagDataSetup.jl\\src\\WiagDataSetup.jl:1171\n"
     ]
    },
    {
     "data": {
      "text/plain": [
       "698"
      ]
     },
     "execution_count": 76,
     "metadata": {},
     "output_type": "execute_result"
    }
   ],
   "source": [
    "table_dst = \"familyname_variant\"\n",
    "Wds.filltable!(table_dst, select(df_ins, :id => :person_id, :Familienname_Variante => :name))"
   ]
  },
  {
   "cell_type": "code",
   "execution_count": 46,
   "metadata": {},
   "outputs": [],
   "source": [
    "df_gnv = dropmissing(df_src, :Vorname_Varianten);"
   ]
  },
  {
   "cell_type": "code",
   "execution_count": 52,
   "metadata": {},
   "outputs": [
    {
     "data": {
      "text/plain": [
       "(304, 5)"
      ]
     },
     "execution_count": 52,
     "metadata": {},
     "output_type": "execute_result"
    }
   ],
   "source": [
    "size(df_gnv)"
   ]
  },
  {
   "cell_type": "code",
   "execution_count": 48,
   "metadata": {},
   "outputs": [
    {
     "data": {
      "text/html": [
       "<div class=\"data-frame\"><p>8 rows × 5 columns</p><table class=\"data-frame\"><thead><tr><th></th><th>ID_Bischof</th><th>Vorname</th><th>Familienname</th><th>Vorname_Varianten</th><th>Familienname_Variante</th></tr><tr><th></th><th title=\"Int32\">Int32</th><th title=\"SubString{String}\">SubStri…</th><th title=\"Union{Missing, SubString{String}}\">SubStri…?</th><th title=\"SubString{String}\">SubStri…</th><th title=\"Union{Missing, SubString{String}}\">SubStri…?</th></tr></thead><tbody><tr><th>1</th><td>4501</td><td>Goericus</td><td><em>missing</em></td><td>Abbo</td><td><em>missing</em></td></tr><tr><th>2</th><td>4531</td><td>Erkanbert</td><td><em>missing</em></td><td>Herkumbert</td><td><em>missing</em></td></tr><tr><th>3</th><td>12635</td><td>Georg</td><td>Lock</td><td>Franz Georg</td><td><em>missing</em></td></tr><tr><th>4</th><td>4548</td><td>Eilbert</td><td><em>missing</em></td><td>Egilbert</td><td><em>missing</em></td></tr><tr><th>5</th><td>4551</td><td>Ulrich</td><td><em>missing</em></td><td>Odalrich</td><td><em>missing</em></td></tr><tr><th>6</th><td>4600</td><td>Vercel</td><td><em>missing</em></td><td>Vezel</td><td><em>missing</em></td></tr><tr><th>7</th><td>4608</td><td>Dietleb</td><td><em>missing</em></td><td>Detlef</td><td><em>missing</em></td></tr><tr><th>8</th><td>4645</td><td>Dodo</td><td><em>missing</em></td><td>Udo</td><td><em>missing</em></td></tr></tbody></table></div>"
      ],
      "text/latex": [
       "\\begin{tabular}{r|ccccc}\n",
       "\t& ID\\_Bischof & Vorname & Familienname & Vorname\\_Varianten & Familienname\\_Variante\\\\\n",
       "\t\\hline\n",
       "\t& Int32 & SubStri… & SubStri…? & SubStri… & SubStri…?\\\\\n",
       "\t\\hline\n",
       "\t1 & 4501 & Goericus & \\emph{missing} & Abbo & \\emph{missing} \\\\\n",
       "\t2 & 4531 & Erkanbert & \\emph{missing} & Herkumbert & \\emph{missing} \\\\\n",
       "\t3 & 12635 & Georg & Lock & Franz Georg & \\emph{missing} \\\\\n",
       "\t4 & 4548 & Eilbert & \\emph{missing} & Egilbert & \\emph{missing} \\\\\n",
       "\t5 & 4551 & Ulrich & \\emph{missing} & Odalrich & \\emph{missing} \\\\\n",
       "\t6 & 4600 & Vercel & \\emph{missing} & Vezel & \\emph{missing} \\\\\n",
       "\t7 & 4608 & Dietleb & \\emph{missing} & Detlef & \\emph{missing} \\\\\n",
       "\t8 & 4645 & Dodo & \\emph{missing} & Udo & \\emph{missing} \\\\\n",
       "\\end{tabular}\n"
      ],
      "text/plain": [
       "\u001b[1m8×5 DataFrame\u001b[0m\n",
       "\u001b[1m Row \u001b[0m│\u001b[1m ID_Bischof \u001b[0m\u001b[1m Vorname   \u001b[0m\u001b[1m Familienname \u001b[0m\u001b[1m Vorname_Varianten \u001b[0m\u001b[1m Familienname_Va\u001b[0m ⋯\n",
       "\u001b[1m     \u001b[0m│\u001b[90m Int32      \u001b[0m\u001b[90m SubStrin… \u001b[0m\u001b[90m SubString…?  \u001b[0m\u001b[90m SubStrin…         \u001b[0m\u001b[90m SubString…?    \u001b[0m ⋯\n",
       "─────┼──────────────────────────────────────────────────────────────────────────\n",
       "   1 │       4501  Goericus  \u001b[90m missing      \u001b[0m Abbo              \u001b[90m missing        \u001b[0m ⋯\n",
       "   2 │       4531  Erkanbert \u001b[90m missing      \u001b[0m Herkumbert        \u001b[90m missing\u001b[0m\n",
       "   3 │      12635  Georg      Lock          Franz Georg       \u001b[90m missing\u001b[0m\n",
       "   4 │       4548  Eilbert   \u001b[90m missing      \u001b[0m Egilbert          \u001b[90m missing\u001b[0m\n",
       "   5 │       4551  Ulrich    \u001b[90m missing      \u001b[0m Odalrich          \u001b[90m missing        \u001b[0m ⋯\n",
       "   6 │       4600  Vercel    \u001b[90m missing      \u001b[0m Vezel             \u001b[90m missing\u001b[0m\n",
       "   7 │       4608  Dietleb   \u001b[90m missing      \u001b[0m Detlef            \u001b[90m missing\u001b[0m\n",
       "   8 │       4645  Dodo      \u001b[90m missing      \u001b[0m Udo               \u001b[90m missing\u001b[0m\n",
       "\u001b[36m                                                                1 column omitted\u001b[0m"
      ]
     },
     "execution_count": 48,
     "metadata": {},
     "output_type": "execute_result"
    }
   ],
   "source": [
    "df_gnv[200:207, :]"
   ]
  },
  {
   "cell_type": "code",
   "execution_count": 92,
   "metadata": {},
   "outputs": [],
   "source": [
    "df_exp = Wds.expand_column(df_gnv, :Vorname_Varianten, delim = r\", *\");"
   ]
  },
  {
   "cell_type": "code",
   "execution_count": 93,
   "metadata": {},
   "outputs": [
    {
     "data": {
      "text/plain": [
       "(331, 5)"
      ]
     },
     "execution_count": 93,
     "metadata": {},
     "output_type": "execute_result"
    }
   ],
   "source": [
    "size(df_exp)"
   ]
  },
  {
   "cell_type": "code",
   "execution_count": 94,
   "metadata": {},
   "outputs": [
    {
     "data": {
      "text/html": [
       "<div class=\"data-frame\"><p>8 rows × 5 columns</p><table class=\"data-frame\"><thead><tr><th></th><th>ID_Bischof</th><th>Vorname</th><th>Familienname</th><th>Vorname_Varianten</th><th>Familienname_Variante</th></tr><tr><th></th><th title=\"Int32\">Int32</th><th title=\"SubString{String}\">SubStri…</th><th title=\"Union{Missing, SubString{String}}\">SubStri…?</th><th title=\"SubString{String}\">SubStri…</th><th title=\"Union{Missing, SubString{String}}\">SubStri…?</th></tr></thead><tbody><tr><th>1</th><td>4389</td><td>Sophronius</td><td><em>missing</em></td><td>Suffronius</td><td><em>missing</em></td></tr><tr><th>2</th><td>4395</td><td>Lesio</td><td><em>missing</em></td><td>Leudegasius</td><td><em>missing</em></td></tr><tr><th>3</th><td>4396</td><td>Becilin</td><td><em>missing</em></td><td>Petelinus</td><td><em>missing</em></td></tr><tr><th>4</th><td>4396</td><td>Becilin</td><td><em>missing</em></td><td>Bothadus ?</td><td><em>missing</em></td></tr><tr><th>5</th><td>4397</td><td>Leoboald</td><td><em>missing</em></td><td>Ludoaldus</td><td><em>missing</em></td></tr><tr><th>6</th><td>4398</td><td>Lantwald</td><td><em>missing</em></td><td>Lanwald</td><td><em>missing</em></td></tr><tr><th>7</th><td>4398</td><td>Lantwald</td><td><em>missing</em></td><td>Lantivaldus</td><td><em>missing</em></td></tr><tr><th>8</th><td>4399</td><td>Riuthard</td><td><em>missing</em></td><td>Ruthardus ?</td><td><em>missing</em></td></tr></tbody></table></div>"
      ],
      "text/latex": [
       "\\begin{tabular}{r|ccccc}\n",
       "\t& ID\\_Bischof & Vorname & Familienname & Vorname\\_Varianten & Familienname\\_Variante\\\\\n",
       "\t\\hline\n",
       "\t& Int32 & SubStri… & SubStri…? & SubStri… & SubStri…?\\\\\n",
       "\t\\hline\n",
       "\t1 & 4389 & Sophronius & \\emph{missing} & Suffronius & \\emph{missing} \\\\\n",
       "\t2 & 4395 & Lesio & \\emph{missing} & Leudegasius & \\emph{missing} \\\\\n",
       "\t3 & 4396 & Becilin & \\emph{missing} & Petelinus & \\emph{missing} \\\\\n",
       "\t4 & 4396 & Becilin & \\emph{missing} & Bothadus ? & \\emph{missing} \\\\\n",
       "\t5 & 4397 & Leoboald & \\emph{missing} & Ludoaldus & \\emph{missing} \\\\\n",
       "\t6 & 4398 & Lantwald & \\emph{missing} & Lanwald & \\emph{missing} \\\\\n",
       "\t7 & 4398 & Lantwald & \\emph{missing} & Lantivaldus & \\emph{missing} \\\\\n",
       "\t8 & 4399 & Riuthard & \\emph{missing} & Ruthardus ? & \\emph{missing} \\\\\n",
       "\\end{tabular}\n"
      ],
      "text/plain": [
       "\u001b[1m8×5 DataFrame\u001b[0m\n",
       "\u001b[1m Row \u001b[0m│\u001b[1m ID_Bischof \u001b[0m\u001b[1m Vorname    \u001b[0m\u001b[1m Familienname \u001b[0m\u001b[1m Vorname_Varianten \u001b[0m\u001b[1m Familienname_V\u001b[0m ⋯\n",
       "\u001b[1m     \u001b[0m│\u001b[90m Int32      \u001b[0m\u001b[90m SubStrin…  \u001b[0m\u001b[90m SubString…?  \u001b[0m\u001b[90m SubStrin…         \u001b[0m\u001b[90m SubString…?   \u001b[0m ⋯\n",
       "─────┼──────────────────────────────────────────────────────────────────────────\n",
       "   1 │       4389  Sophronius \u001b[90m missing      \u001b[0m Suffronius        \u001b[90m missing       \u001b[0m ⋯\n",
       "   2 │       4395  Lesio      \u001b[90m missing      \u001b[0m Leudegasius       \u001b[90m missing\u001b[0m\n",
       "   3 │       4396  Becilin    \u001b[90m missing      \u001b[0m Petelinus         \u001b[90m missing\u001b[0m\n",
       "   4 │       4396  Becilin    \u001b[90m missing      \u001b[0m Bothadus ?        \u001b[90m missing\u001b[0m\n",
       "   5 │       4397  Leoboald   \u001b[90m missing      \u001b[0m Ludoaldus         \u001b[90m missing       \u001b[0m ⋯\n",
       "   6 │       4398  Lantwald   \u001b[90m missing      \u001b[0m Lanwald           \u001b[90m missing\u001b[0m\n",
       "   7 │       4398  Lantwald   \u001b[90m missing      \u001b[0m Lantivaldus       \u001b[90m missing\u001b[0m\n",
       "   8 │       4399  Riuthard   \u001b[90m missing      \u001b[0m Ruthardus ?       \u001b[90m missing\u001b[0m\n",
       "\u001b[36m                                                                1 column omitted\u001b[0m"
      ]
     },
     "execution_count": 94,
     "metadata": {},
     "output_type": "execute_result"
    }
   ],
   "source": [
    "df_exp[150:157, :]"
   ]
  },
  {
   "cell_type": "markdown",
   "metadata": {},
   "source": [
    "Manche Namenseinträge enthalten Fragezeichen. Diese bleiben hier erhalten, werden aber für die Tabelle `name_lookup` entfernt."
   ]
  },
  {
   "cell_type": "code",
   "execution_count": 58,
   "metadata": {},
   "outputs": [],
   "source": [
    "df_exp[!, :id_in_source] .= string.(df_exp[!, :ID_Bischof]);"
   ]
  },
  {
   "cell_type": "code",
   "execution_count": 60,
   "metadata": {},
   "outputs": [],
   "source": [
    "df_ins = innerjoin(df_idx, df_exp, on = :id_in_source);"
   ]
  },
  {
   "cell_type": "code",
   "execution_count": 61,
   "metadata": {},
   "outputs": [
    {
     "data": {
      "text/plain": [
       "(331, 7)"
      ]
     },
     "execution_count": 61,
     "metadata": {},
     "output_type": "execute_result"
    }
   ],
   "source": [
    "size(df_ins)"
   ]
  },
  {
   "cell_type": "markdown",
   "metadata": {},
   "source": [
    "Spalte `lang` hat den Default-Wert 'de'."
   ]
  },
  {
   "cell_type": "code",
   "execution_count": 64,
   "metadata": {},
   "outputs": [
    {
     "name": "stderr",
     "output_type": "stream",
     "text": [
      "┌ Info: Rows inserted: 331\n",
      "└ @ WiagDataSetup C:\\Users\\Georg\\Documents\\projekte\\WiagDataSetup.jl\\src\\WiagDataSetup.jl:1171\n"
     ]
    },
    {
     "data": {
      "text/plain": [
       "331"
      ]
     },
     "execution_count": 64,
     "metadata": {},
     "output_type": "execute_result"
    }
   ],
   "source": [
    "table_dst = \"givenname_variant\"\n",
    "Wds.filltable!(table_dst, select(df_ins, :id => :person_id, :Vorname_Varianten => :name))"
   ]
  },
  {
   "cell_type": "markdown",
   "metadata": {},
   "source": [
    "### Suchvarianten eintragen (name_lookup)"
   ]
  },
  {
   "cell_type": "markdown",
   "metadata": {},
   "source": [
    "Test"
   ]
  },
  {
   "cell_type": "code",
   "execution_count": 88,
   "metadata": {
    "scrolled": true
   },
   "outputs": [
    {
     "data": {
      "text/plain": [
       "6-element Vector{Vector{Union{Missing, String}}}:\n",
       " [\"Klaus Walter\", \"von der\", \"Vogelweide\", \"Klaus Walter Vogelweide\", \"Klaus Walter von der Vogelweide\"]\n",
       " [\"Klaus\", \"von der\", \"Vogelweide\", \"Klaus Vogelweide\", \"Klaus von der Vogelweide\"]\n",
       " [\"Klaus Walter\", \"von der\", \"Vollmer\", \"Klaus Walter Vollmer\", \"Klaus Walter von der Vollmer\"]\n",
       " [\"Klaus\", \"von der\", \"Vollmer\", \"Klaus Vollmer\", \"Klaus von der Vollmer\"]\n",
       " [\"Klaus Walter\", \"von der\", \"Liber\", \"Klaus Walter Liber\", \"Klaus Walter von der Liber\"]\n",
       " [\"Klaus\", \"von der\", \"Liber\", \"Klaus Liber\", \"Klaus von der Liber\"]"
      ]
     },
     "execution_count": 88,
     "metadata": {},
     "output_type": "execute_result"
    }
   ],
   "source": [
    "Wds.makevariantsgn(\"Klaus Walter\", \"von der\", \"Vogelweide\", \"Vollmer, Liber\")"
   ]
  },
  {
   "cell_type": "code",
   "execution_count": 29,
   "metadata": {},
   "outputs": [
    {
     "data": {
      "text/html": [
       "<div class=\"data-frame\"><p>7 rows × 6 columns</p><table class=\"data-frame\"><thead><tr><th></th><th>id</th><th>givenname</th><th>prefix_name</th><th>familyname</th><th>givenname_variant</th><th>familyname_variant</th></tr><tr><th></th><th title=\"Int64\">Int64</th><th title=\"String\">String</th><th title=\"Union{Missing, String}\">String?</th><th title=\"Union{Missing, String}\">String?</th><th title=\"Union{Missing, String}\">String?</th><th title=\"Union{Missing, String}\">String?</th></tr></thead><tbody><tr><th>1</th><td>1077</td><td>Dietricus</td><td><em>missing</em></td><td><em>missing</em></td><td><em>missing</em></td><td><em>missing</em></td></tr><tr><th>2</th><td>31</td><td>Albert</td><td>von</td><td>Häusler</td><td><em>missing</em></td><td>Hauser, Schad</td></tr><tr><th>3</th><td>32</td><td>Hans Otto</td><td>zu</td><td>Oberhof</td><td>Johann Otto</td><td><em>missing</em></td></tr><tr><th>4</th><td>33</td><td>Wilhelm</td><td>von</td><td>Berg</td><td>Guido, Guillaume</td><td>Berge</td></tr><tr><th>5</th><td>34</td><td>Kurt Georg</td><td><em>missing</em></td><td><em>missing</em></td><td>Konrad</td><td><em>missing</em></td></tr><tr><th>6</th><td>35</td><td>Otto</td><td>auf der</td><td>Scholle</td><td><em>missing</em></td><td><em>missing</em></td></tr><tr><th>7</th><td>36</td><td>Otto</td><td><em>missing</em></td><td>Weiß</td><td>Odilon</td><td>Blanc</td></tr></tbody></table></div>"
      ],
      "text/latex": [
       "\\begin{tabular}{r|cccccc}\n",
       "\t& id & givenname & prefix\\_name & familyname & givenname\\_variant & familyname\\_variant\\\\\n",
       "\t\\hline\n",
       "\t& Int64 & String & String? & String? & String? & String?\\\\\n",
       "\t\\hline\n",
       "\t1 & 1077 & Dietricus & \\emph{missing} & \\emph{missing} & \\emph{missing} & \\emph{missing} \\\\\n",
       "\t2 & 31 & Albert & von & Häusler & \\emph{missing} & Hauser, Schad \\\\\n",
       "\t3 & 32 & Hans Otto & zu & Oberhof & Johann Otto & \\emph{missing} \\\\\n",
       "\t4 & 33 & Wilhelm & von & Berg & Guido, Guillaume & Berge \\\\\n",
       "\t5 & 34 & Kurt Georg & \\emph{missing} & \\emph{missing} & Konrad & \\emph{missing} \\\\\n",
       "\t6 & 35 & Otto & auf der & Scholle & \\emph{missing} & \\emph{missing} \\\\\n",
       "\t7 & 36 & Otto & \\emph{missing} & Weiß & Odilon & Blanc \\\\\n",
       "\\end{tabular}\n"
      ],
      "text/plain": [
       "\u001b[1m7×6 DataFrame\u001b[0m\n",
       "\u001b[1m Row \u001b[0m│\u001b[1m id    \u001b[0m\u001b[1m givenname  \u001b[0m\u001b[1m prefix_name \u001b[0m\u001b[1m familyname \u001b[0m\u001b[1m givenname_variant \u001b[0m\u001b[1m familyna\u001b[0m ⋯\n",
       "\u001b[1m     \u001b[0m│\u001b[90m Int64 \u001b[0m\u001b[90m String     \u001b[0m\u001b[90m String?     \u001b[0m\u001b[90m String?    \u001b[0m\u001b[90m String?           \u001b[0m\u001b[90m String? \u001b[0m ⋯\n",
       "─────┼──────────────────────────────────────────────────────────────────────────\n",
       "   1 │  1077  Dietricus  \u001b[90m missing     \u001b[0m\u001b[90m missing    \u001b[0m\u001b[90m missing           \u001b[0m\u001b[90m missing \u001b[0m ⋯\n",
       "   2 │    31  Albert      von          Häusler    \u001b[90m missing           \u001b[0m Hauser,\n",
       "   3 │    32  Hans Otto   zu           Oberhof     Johann Otto       \u001b[90m missing\u001b[0m\n",
       "   4 │    33  Wilhelm     von          Berg        Guido, Guillaume   Berge\n",
       "   5 │    34  Kurt Georg \u001b[90m missing     \u001b[0m\u001b[90m missing    \u001b[0m Konrad            \u001b[90m missing \u001b[0m ⋯\n",
       "   6 │    35  Otto        auf der      Scholle    \u001b[90m missing           \u001b[0m\u001b[90m missing\u001b[0m\n",
       "   7 │    36  Otto       \u001b[90m missing     \u001b[0m Weiß        Odilon             Blanc\n",
       "\u001b[36m                                                                1 column omitted\u001b[0m"
      ]
     },
     "execution_count": 29,
     "metadata": {},
     "output_type": "execute_result"
    }
   ],
   "source": [
    "df_src = DataFrame(\n",
    "    id = [1077, 31, 32, 33, 34, 35, 36],\n",
    "    givenname = [\"Dietricus\", \"Albert\", \"Hans Otto\", \"Wilhelm\", \"Kurt Georg\", \"Otto\", \"Otto\"],\n",
    "    prefix_name = [missing, \"von\", \"zu\", \"von\", missing, \"auf der\", missing],\n",
    "    familyname = [missing, \"Häusler\", \"Oberhof\", \"Berg\", missing, \"Scholle\", \"Weiß\"],\n",
    "    givenname_variant = [missing, missing, \"Johann Otto\", \"Guido, Guillaume\", \"Konrad\", missing, \"Odilon\"],\n",
    "    familyname_variant = [missing, \"Hauser, Schad\", missing, \"Berge\", missing, missing, \"Blanc\"]\n",
    "    )"
   ]
  },
  {
   "cell_type": "code",
   "execution_count": 30,
   "metadata": {
    "scrolled": true
   },
   "outputs": [
    {
     "data": {
      "text/html": [
       "<div class=\"data-frame\"><p>22 rows × 3 columns</p><table class=\"data-frame\"><thead><tr><th></th><th>person_id</th><th>gn_fn</th><th>gn_prefix_fn</th></tr><tr><th></th><th title=\"Int64\">Int64</th><th title=\"Union{Missing, String}\">String?</th><th title=\"Union{Missing, String}\">String?</th></tr></thead><tbody><tr><th>1</th><td>1077</td><td>Dietricus</td><td><em>missing</em></td></tr><tr><th>2</th><td>31</td><td>Albert Häusler</td><td>Albert von Häusler</td></tr><tr><th>3</th><td>31</td><td>Albert Hauser</td><td>Albert von Hauser</td></tr><tr><th>4</th><td>31</td><td>Albert Schad</td><td>Albert von Schad</td></tr><tr><th>5</th><td>32</td><td>Hans Otto Oberhof</td><td>Hans Otto zu Oberhof</td></tr><tr><th>6</th><td>32</td><td>Hans Oberhof</td><td>Hans zu Oberhof</td></tr><tr><th>7</th><td>32</td><td>Johann Otto Oberhof</td><td>Johann Otto zu Oberhof</td></tr><tr><th>8</th><td>32</td><td>Johann Oberhof</td><td>Johann zu Oberhof</td></tr><tr><th>9</th><td>33</td><td>Wilhelm Berg</td><td>Wilhelm von Berg</td></tr><tr><th>10</th><td>33</td><td>Wilhelm Berge</td><td>Wilhelm von Berge</td></tr><tr><th>11</th><td>33</td><td>Guido Berg</td><td>Guido von Berg</td></tr><tr><th>12</th><td>33</td><td>Guido Berge</td><td>Guido von Berge</td></tr><tr><th>13</th><td>33</td><td>Guillaume Berg</td><td>Guillaume von Berg</td></tr><tr><th>14</th><td>33</td><td>Guillaume Berge</td><td>Guillaume von Berge</td></tr><tr><th>15</th><td>34</td><td>Kurt Georg</td><td><em>missing</em></td></tr><tr><th>16</th><td>34</td><td>Kurt</td><td><em>missing</em></td></tr><tr><th>17</th><td>34</td><td>Konrad</td><td><em>missing</em></td></tr><tr><th>18</th><td>35</td><td>Otto Scholle</td><td>Otto auf der Scholle</td></tr><tr><th>19</th><td>36</td><td>Otto Weiß</td><td><em>missing</em></td></tr><tr><th>20</th><td>36</td><td>Otto Blanc</td><td><em>missing</em></td></tr><tr><th>21</th><td>36</td><td>Odilon Weiß</td><td><em>missing</em></td></tr><tr><th>22</th><td>36</td><td>Odilon Blanc</td><td><em>missing</em></td></tr></tbody></table></div>"
      ],
      "text/latex": [
       "\\begin{tabular}{r|ccc}\n",
       "\t& person\\_id & gn\\_fn & gn\\_prefix\\_fn\\\\\n",
       "\t\\hline\n",
       "\t& Int64 & String? & String?\\\\\n",
       "\t\\hline\n",
       "\t1 & 1077 & Dietricus & \\emph{missing} \\\\\n",
       "\t2 & 31 & Albert Häusler & Albert von Häusler \\\\\n",
       "\t3 & 31 & Albert Hauser & Albert von Hauser \\\\\n",
       "\t4 & 31 & Albert Schad & Albert von Schad \\\\\n",
       "\t5 & 32 & Hans Otto Oberhof & Hans Otto zu Oberhof \\\\\n",
       "\t6 & 32 & Hans Oberhof & Hans zu Oberhof \\\\\n",
       "\t7 & 32 & Johann Otto Oberhof & Johann Otto zu Oberhof \\\\\n",
       "\t8 & 32 & Johann Oberhof & Johann zu Oberhof \\\\\n",
       "\t9 & 33 & Wilhelm Berg & Wilhelm von Berg \\\\\n",
       "\t10 & 33 & Wilhelm Berge & Wilhelm von Berge \\\\\n",
       "\t11 & 33 & Guido Berg & Guido von Berg \\\\\n",
       "\t12 & 33 & Guido Berge & Guido von Berge \\\\\n",
       "\t13 & 33 & Guillaume Berg & Guillaume von Berg \\\\\n",
       "\t14 & 33 & Guillaume Berge & Guillaume von Berge \\\\\n",
       "\t15 & 34 & Kurt Georg & \\emph{missing} \\\\\n",
       "\t16 & 34 & Kurt & \\emph{missing} \\\\\n",
       "\t17 & 34 & Konrad & \\emph{missing} \\\\\n",
       "\t18 & 35 & Otto Scholle & Otto auf der Scholle \\\\\n",
       "\t19 & 36 & Otto Weiß & \\emph{missing} \\\\\n",
       "\t20 & 36 & Otto Blanc & \\emph{missing} \\\\\n",
       "\t21 & 36 & Odilon Weiß & \\emph{missing} \\\\\n",
       "\t22 & 36 & Odilon Blanc & \\emph{missing} \\\\\n",
       "\\end{tabular}\n"
      ],
      "text/plain": [
       "\u001b[1m22×3 DataFrame\u001b[0m\n",
       "\u001b[1m Row \u001b[0m│\u001b[1m person_id \u001b[0m\u001b[1m gn_fn               \u001b[0m\u001b[1m gn_prefix_fn           \u001b[0m\n",
       "\u001b[1m     \u001b[0m│\u001b[90m Int64     \u001b[0m\u001b[90m String?             \u001b[0m\u001b[90m String?                \u001b[0m\n",
       "─────┼────────────────────────────────────────────────────────\n",
       "   1 │      1077  Dietricus           \u001b[90m missing                \u001b[0m\n",
       "   2 │        31  Albert Häusler       Albert von Häusler\n",
       "   3 │        31  Albert Hauser        Albert von Hauser\n",
       "   4 │        31  Albert Schad         Albert von Schad\n",
       "   5 │        32  Hans Otto Oberhof    Hans Otto zu Oberhof\n",
       "   6 │        32  Hans Oberhof         Hans zu Oberhof\n",
       "   7 │        32  Johann Otto Oberhof  Johann Otto zu Oberhof\n",
       "   8 │        32  Johann Oberhof       Johann zu Oberhof\n",
       "   9 │        33  Wilhelm Berg         Wilhelm von Berg\n",
       "  10 │        33  Wilhelm Berge        Wilhelm von Berge\n",
       "  11 │        33  Guido Berg           Guido von Berg\n",
       "  12 │        33  Guido Berge          Guido von Berge\n",
       "  13 │        33  Guillaume Berg       Guillaume von Berg\n",
       "  14 │        33  Guillaume Berge      Guillaume von Berge\n",
       "  15 │        34  Kurt Georg          \u001b[90m missing                \u001b[0m\n",
       "  16 │        34  Kurt                \u001b[90m missing                \u001b[0m\n",
       "  17 │        34  Konrad              \u001b[90m missing                \u001b[0m\n",
       "  18 │        35  Otto Scholle         Otto auf der Scholle\n",
       "  19 │        36  Otto Weiß           \u001b[90m missing                \u001b[0m\n",
       "  20 │        36  Otto Blanc          \u001b[90m missing                \u001b[0m\n",
       "  21 │        36  Odilon Weiß         \u001b[90m missing                \u001b[0m\n",
       "  22 │        36  Odilon Blanc        \u001b[90m missing                \u001b[0m"
      ]
     },
     "execution_count": 30,
     "metadata": {},
     "output_type": "execute_result"
    }
   ],
   "source": [
    "df_nl = Wds.create_name_lookup(df_src) # schaut gut aus"
   ]
  },
  {
   "cell_type": "code",
   "execution_count": 104,
   "metadata": {},
   "outputs": [],
   "source": [
    "using MySQL, DataFrames"
   ]
  },
  {
   "cell_type": "code",
   "execution_count": null,
   "metadata": {},
   "outputs": [],
   "source": [
    "db_exec(sql) = DBInterface(Wds.dbwiag, sql)"
   ]
  },
  {
   "cell_type": "markdown",
   "metadata": {},
   "source": [
    "ID auslesen"
   ]
  },
  {
   "cell_type": "code",
   "execution_count": 39,
   "metadata": {},
   "outputs": [],
   "source": [
    "item_type_id = 4\n",
    "sql = \"SELECT id, id_in_source FROM ITEM where item_type_id = ($item_type_id)\"\n",
    "df_idx = DBInterface.execute(Wds.dbwiag, sql) |> DataFrame;"
   ]
  },
  {
   "cell_type": "code",
   "execution_count": 37,
   "metadata": {},
   "outputs": [],
   "source": [
    "table_src = \"bischof.tbl_bischoefe_gatz\"\n",
    "sql = \"SELECT concat(ID_Bischof) AS id_in_source, \" *\n",
    "\"Vorname AS givenname, \" *\n",
    "\"Praefix AS prefix_name, \" *\n",
    "\"Familienname AS familyname,\" * \n",
    "\"Vorname_Varianten AS givenname_variant, \" * \n",
    "\"Familienname_Variante AS familyname_variant \" *\n",
    "\"FROM $(table_src)\"\n",
    "df_src = db_exec(sql);"
   ]
  },
  {
   "cell_type": "code",
   "execution_count": 38,
   "metadata": {},
   "outputs": [],
   "source": [
    "Wds.clean_up!(df_src)"
   ]
  },
  {
   "cell_type": "code",
   "execution_count": 21,
   "metadata": {},
   "outputs": [
    {
     "data": {
      "text/plain": [
       "(5171, 6)"
      ]
     },
     "execution_count": 21,
     "metadata": {},
     "output_type": "execute_result"
    }
   ],
   "source": [
    "size(df_src)"
   ]
  },
  {
   "cell_type": "code",
   "execution_count": 40,
   "metadata": {},
   "outputs": [
    {
     "data": {
      "text/plain": [
       "6-element Vector{String}:\n",
       " \"id_in_source\"\n",
       " \"givenname\"\n",
       " \"prefix_name\"\n",
       " \"familyname\"\n",
       " \"givenname_variant\"\n",
       " \"familyname_variant\""
      ]
     },
     "execution_count": 40,
     "metadata": {},
     "output_type": "execute_result"
    }
   ],
   "source": [
    "names(df_src)"
   ]
  },
  {
   "cell_type": "code",
   "execution_count": 41,
   "metadata": {},
   "outputs": [],
   "source": [
    "df_nl_in = innerjoin(df_idx, df_src, on = :id_in_source);"
   ]
  },
  {
   "cell_type": "code",
   "execution_count": 42,
   "metadata": {},
   "outputs": [
    {
     "data": {
      "text/plain": [
       "(5171, 7)"
      ]
     },
     "execution_count": 42,
     "metadata": {},
     "output_type": "execute_result"
    }
   ],
   "source": [
    "size(df_nl_in)"
   ]
  },
  {
   "cell_type": "code",
   "execution_count": 43,
   "metadata": {},
   "outputs": [],
   "source": [
    "df_nl = Wds.create_name_lookup(df_nl_in);"
   ]
  },
  {
   "cell_type": "code",
   "execution_count": 44,
   "metadata": {},
   "outputs": [
    {
     "data": {
      "text/plain": [
       "(7311, 3)"
      ]
     },
     "execution_count": 44,
     "metadata": {},
     "output_type": "execute_result"
    }
   ],
   "source": [
    "size(df_nl)"
   ]
  },
  {
   "cell_type": "code",
   "execution_count": 45,
   "metadata": {},
   "outputs": [],
   "source": [
    "df_nl_empty = filter(:gn_fn => ismissing, df_nl);"
   ]
  },
  {
   "cell_type": "code",
   "execution_count": 47,
   "metadata": {},
   "outputs": [
    {
     "data": {
      "text/plain": [
       "(0, 3)"
      ]
     },
     "execution_count": 47,
     "metadata": {},
     "output_type": "execute_result"
    }
   ],
   "source": [
    "size(df_nl_empty)"
   ]
  },
  {
   "cell_type": "code",
   "execution_count": 48,
   "metadata": {},
   "outputs": [
    {
     "data": {
      "text/html": [
       "<div class=\"data-frame\"><p>13 rows × 3 columns</p><table class=\"data-frame\"><thead><tr><th></th><th>person_id</th><th>gn_fn</th><th>gn_prefix_fn</th></tr><tr><th></th><th title=\"Int64\">Int64</th><th title=\"Union{Missing, String}\">String?</th><th title=\"Union{Missing, String}\">String?</th></tr></thead><tbody><tr><th>1</th><td>1213</td><td>Fromhold Vifhusen</td><td>Fromhold von Vifhusen</td></tr><tr><th>2</th><td>1212</td><td>Johannes Walteri von Sinten</td><td><em>missing</em></td></tr><tr><th>3</th><td>1211</td><td>Siegfried Blomberg</td><td><em>missing</em></td></tr><tr><th>4</th><td>1210</td><td>Johannes Ambundii</td><td><em>missing</em></td></tr><tr><th>5</th><td>1209</td><td>Henning Scharpenberg</td><td><em>missing</em></td></tr><tr><th>6</th><td>1208</td><td>Adalbert Böhmen</td><td>Adalbert von Böhmen</td></tr><tr><th>7</th><td>1207</td><td>Eberhard Regensberg</td><td>Eberhard von Regensberg</td></tr><tr><th>8</th><td>1206</td><td>Burkhard Ziegenhain</td><td>Burkhard von Ziegenhain</td></tr><tr><th>9</th><td>1205</td><td>Ulrich</td><td><em>missing</em></td></tr><tr><th>10</th><td>1204</td><td>Philipp Spanheim</td><td>Philipp von Spanheim</td></tr><tr><th>11</th><td>1203</td><td>Wlodizlaus Schlesien</td><td>Wlodizlaus von Schlesien</td></tr><tr><th>12</th><td>1203</td><td>Ladislaus Schlesien</td><td>Ladislaus von Schlesien</td></tr><tr><th>13</th><td>1202</td><td>Friedrich Walchen</td><td>Friedrich von Walchen</td></tr></tbody></table></div>"
      ],
      "text/latex": [
       "\\begin{tabular}{r|ccc}\n",
       "\t& person\\_id & gn\\_fn & gn\\_prefix\\_fn\\\\\n",
       "\t\\hline\n",
       "\t& Int64 & String? & String?\\\\\n",
       "\t\\hline\n",
       "\t1 & 1213 & Fromhold Vifhusen & Fromhold von Vifhusen \\\\\n",
       "\t2 & 1212 & Johannes Walteri von Sinten & \\emph{missing} \\\\\n",
       "\t3 & 1211 & Siegfried Blomberg & \\emph{missing} \\\\\n",
       "\t4 & 1210 & Johannes Ambundii & \\emph{missing} \\\\\n",
       "\t5 & 1209 & Henning Scharpenberg & \\emph{missing} \\\\\n",
       "\t6 & 1208 & Adalbert Böhmen & Adalbert von Böhmen \\\\\n",
       "\t7 & 1207 & Eberhard Regensberg & Eberhard von Regensberg \\\\\n",
       "\t8 & 1206 & Burkhard Ziegenhain & Burkhard von Ziegenhain \\\\\n",
       "\t9 & 1205 & Ulrich & \\emph{missing} \\\\\n",
       "\t10 & 1204 & Philipp Spanheim & Philipp von Spanheim \\\\\n",
       "\t11 & 1203 & Wlodizlaus Schlesien & Wlodizlaus von Schlesien \\\\\n",
       "\t12 & 1203 & Ladislaus Schlesien & Ladislaus von Schlesien \\\\\n",
       "\t13 & 1202 & Friedrich Walchen & Friedrich von Walchen \\\\\n",
       "\\end{tabular}\n"
      ],
      "text/plain": [
       "\u001b[1m13×3 DataFrame\u001b[0m\n",
       "\u001b[1m Row \u001b[0m│\u001b[1m person_id \u001b[0m\u001b[1m gn_fn                       \u001b[0m\u001b[1m gn_prefix_fn             \u001b[0m\n",
       "\u001b[1m     \u001b[0m│\u001b[90m Int64     \u001b[0m\u001b[90m String?                     \u001b[0m\u001b[90m String?                  \u001b[0m\n",
       "─────┼──────────────────────────────────────────────────────────────────\n",
       "   1 │      1213  Fromhold Vifhusen            Fromhold von Vifhusen\n",
       "   2 │      1212  Johannes Walteri von Sinten \u001b[90m missing                  \u001b[0m\n",
       "   3 │      1211  Siegfried Blomberg          \u001b[90m missing                  \u001b[0m\n",
       "   4 │      1210  Johannes Ambundii           \u001b[90m missing                  \u001b[0m\n",
       "   5 │      1209  Henning Scharpenberg        \u001b[90m missing                  \u001b[0m\n",
       "   6 │      1208  Adalbert Böhmen              Adalbert von Böhmen\n",
       "   7 │      1207  Eberhard Regensberg          Eberhard von Regensberg\n",
       "   8 │      1206  Burkhard Ziegenhain          Burkhard von Ziegenhain\n",
       "   9 │      1205  Ulrich                      \u001b[90m missing                  \u001b[0m\n",
       "  10 │      1204  Philipp Spanheim             Philipp von Spanheim\n",
       "  11 │      1203  Wlodizlaus Schlesien         Wlodizlaus von Schlesien\n",
       "  12 │      1203  Ladislaus Schlesien          Ladislaus von Schlesien\n",
       "  13 │      1202  Friedrich Walchen            Friedrich von Walchen"
      ]
     },
     "execution_count": 48,
     "metadata": {},
     "output_type": "execute_result"
    }
   ],
   "source": [
    "df_nl[2300:2312, :]"
   ]
  },
  {
   "cell_type": "code",
   "execution_count": 49,
   "metadata": {},
   "outputs": [
    {
     "name": "stderr",
     "output_type": "stream",
     "text": [
      "┌ Info: Rows inserted: 7311\n",
      "└ @ WiagDataSetup C:\\Users\\Georg\\Documents\\projekte\\WiagDataSetup.jl\\src\\WiagDataSetup.jl:1169\n"
     ]
    },
    {
     "data": {
      "text/plain": [
       "7311"
      ]
     },
     "execution_count": 49,
     "metadata": {},
     "output_type": "execute_result"
    }
   ],
   "source": [
    "table_dst = \"name_lookup\"\n",
    "Wds.filltable!(table_dst, df_nl)"
   ]
  },
  {
   "cell_type": "code",
   "execution_count": null,
   "metadata": {},
   "outputs": [],
   "source": []
  }
 ],
 "metadata": {
  "kernelspec": {
   "display_name": "Julia 1.7.0",
   "language": "julia",
   "name": "julia-1.7"
  },
  "language_info": {
   "file_extension": ".jl",
   "mimetype": "application/julia",
   "name": "julia",
   "version": "1.7.0"
  }
 },
 "nbformat": 4,
 "nbformat_minor": 4
}
