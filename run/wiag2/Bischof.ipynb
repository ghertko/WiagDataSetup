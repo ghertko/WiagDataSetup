{
 "cells": [
  {
   "cell_type": "markdown",
   "metadata": {},
   "source": [
    "# Wissensaggregator Mittelalter und frühe Neuzeit\n",
    "\n",
    "## Daten für Bischöfe einlesen\n",
    "\n",
    "Übertrage Daten aus Access. Die Daten werden aus Access via ODBC in eine Transfer-Datenbank geschrieben: `bischof.tbl_bischoefe_gatz` und `bischof.tbl_bischoefe_gatzaemter`  \n",
    "Alternativ: Daten als CSV speichern\n",
    "\n",
    "[Literatur](#Literatur)  \n",
    "[Bischöfe](#Bischöfe)\n",
    "- [Einträge in `item`](#Einträge-in-item)\n",
    "- [Daten eintragen](#Daten-eintragen)\n",
    "- [Orden eintragen](#Orden-eintragen)\n",
    "- [Referenzwerke eintragen](#Referenzwerke-eintragen)\n",
    "- [Externe URLs eintragen](#Externe-URLs-eintragen)\n",
    "- [Namensvarianten eintragen](#Namensvarianten-eintragen)\n",
    "- [Suchvarianten eintragen (name_lookup)](#Suchvarianten-eintragen-(name_lookup))"
   ]
  },
  {
   "cell_type": "markdown",
   "metadata": {},
   "source": [
    "*2022-05-19* Quelle: C:\\Users\\georg\\Documents\\projekte-doc\\WIAGweb\\data\\WIAG_Bischoefe.accdb  \n",
    "*2022-07-25* Quelle:\n",
    "    Y:\\WIAG\\WIAG Vokabulare\\Bischöfe\\Gatz Bischoefe\\WIAG-Bischoefe.accdb  \n",
    "    C:\\Users\\georg\\Documents\\projekte-doc\\WIAGweb\\data\\WIAG-Bischoefe.accdb"
   ]
  },
  {
   "cell_type": "markdown",
   "metadata": {},
   "source": [
    "Vorspann: Pakete laden; mit der Datenbank verbinden"
   ]
  },
  {
   "cell_type": "code",
   "execution_count": 1,
   "metadata": {},
   "outputs": [
    {
     "data": {
      "text/plain": [
       "\"C:\\\\Users\\\\Georg\\\\Documents\\\\projekte\\\\WiagDataSetup.jl\""
      ]
     },
     "execution_count": 1,
     "metadata": {},
     "output_type": "execute_result"
    }
   ],
   "source": [
    "wds_path=\"C:\\\\Users\\\\Georg\\\\Documents\\\\projekte\\\\WiagDataSetup.jl\""
   ]
  },
  {
   "cell_type": "code",
   "execution_count": 2,
   "metadata": {},
   "outputs": [],
   "source": [
    "cd(wds_path)"
   ]
  },
  {
   "cell_type": "code",
   "execution_count": 3,
   "metadata": {},
   "outputs": [],
   "source": [
    "using Pkg"
   ]
  },
  {
   "cell_type": "code",
   "execution_count": 4,
   "metadata": {
    "scrolled": true
   },
   "outputs": [
    {
     "name": "stderr",
     "output_type": "stream",
     "text": [
      "\u001b[32m\u001b[1m  Activating\u001b[22m\u001b[39m project at `C:\\Users\\Georg\\Documents\\projekte\\WiagDataSetup.jl`\n"
     ]
    }
   ],
   "source": [
    "Pkg.activate(\".\")"
   ]
  },
  {
   "cell_type": "code",
   "execution_count": 6,
   "metadata": {},
   "outputs": [],
   "source": [
    "using Revise"
   ]
  },
  {
   "cell_type": "code",
   "execution_count": 7,
   "metadata": {},
   "outputs": [],
   "source": [
    "using WiagDataSetup"
   ]
  },
  {
   "cell_type": "code",
   "execution_count": 9,
   "metadata": {},
   "outputs": [],
   "source": [
    "using MySQL, DataFrames"
   ]
  },
  {
   "cell_type": "code",
   "execution_count": 10,
   "metadata": {},
   "outputs": [
    {
     "data": {
      "text/plain": [
       "WiagDataSetup"
      ]
     },
     "execution_count": 10,
     "metadata": {},
     "output_type": "execute_result"
    }
   ],
   "source": [
    "Wds = WiagDataSetup"
   ]
  },
  {
   "cell_type": "markdown",
   "metadata": {},
   "source": [
    "*2022-10-24* `wiag_in` für Test-Zwecke"
   ]
  },
  {
   "cell_type": "code",
   "execution_count": 11,
   "metadata": {},
   "outputs": [
    {
     "name": "stdout",
     "output_type": "stream",
     "text": [
      "Passwort für User georg: ········\n"
     ]
    },
    {
     "data": {
      "text/plain": [
       "MySQL.Connection(host=\"127.0.0.1\", user=\"georg\", port=\"3306\", db=\"wiag_in\")"
      ]
     },
     "execution_count": 11,
     "metadata": {},
     "output_type": "execute_result"
    }
   ],
   "source": [
    "Wds.setDBWIAG(user=\"georg\", db=\"wiag_in\")"
   ]
  },
  {
   "cell_type": "code",
   "execution_count": 12,
   "metadata": {},
   "outputs": [
    {
     "data": {
      "text/plain": [
       "\"C:\\\\Users\\\\georg\\\\Documents\\\\projekte-doc\\\\WIAGweb2\\\\data\\\\bischoefe-2022-10-19\""
      ]
     },
     "execution_count": 12,
     "metadata": {},
     "output_type": "execute_result"
    }
   ],
   "source": [
    "data_path = \"C:\\\\Users\\\\georg\\\\Documents\\\\projekte-doc\\\\WIAGweb2\\\\data\\\\bischoefe-2022-10-19\""
   ]
  },
  {
   "cell_type": "code",
   "execution_count": 13,
   "metadata": {},
   "outputs": [
    {
     "data": {
      "text/plain": [
       "4"
      ]
     },
     "execution_count": 13,
     "metadata": {},
     "output_type": "execute_result"
    }
   ],
   "source": [
    "item_type_id = 4"
   ]
  },
  {
   "cell_type": "code",
   "execution_count": 14,
   "metadata": {},
   "outputs": [
    {
     "data": {
      "text/plain": [
       "120"
      ]
     },
     "execution_count": 14,
     "metadata": {},
     "output_type": "execute_result"
    }
   ],
   "source": [
    "ENV[\"COLUMNS\"] = 120"
   ]
  },
  {
   "cell_type": "markdown",
   "metadata": {},
   "source": [
    "Tabellen löschen für ein Update"
   ]
  },
  {
   "cell_type": "code",
   "execution_count": 13,
   "metadata": {},
   "outputs": [
    {
     "data": {
      "text/plain": [
       "MySQL.TextCursor{true}(MySQL.Connection(host=\"127.0.0.1\", user=\"georg\", port=\"3306\", db=\"wiag2\"), \"DELETE FROM person_role_property WHERE person_id IN\\n(SELECT id FROM item WHERE item_type_id = 4)\", 0, -1, 0, MySQL.API.MYSQL_RES(Ptr{Nothing} @0x0000000000000000), Symbol[], Type[], Dict{Symbol, Int64}(), 0, 1, false)"
      ]
     },
     "execution_count": 13,
     "metadata": {},
     "output_type": "execute_result"
    }
   ],
   "source": [
    "table_name = \"person_role_property\";\n",
    "sql = \"DELETE FROM $(table_name) WHERE person_id IN\n",
    "(SELECT id FROM item WHERE item_type_id = $(item_type_id))\";\n",
    "DBInterface.execute(Wds.dbwiag, sql)"
   ]
  },
  {
   "cell_type": "code",
   "execution_count": 14,
   "metadata": {},
   "outputs": [
    {
     "data": {
      "text/plain": [
       "MySQL.TextCursor{true}(MySQL.Connection(host=\"127.0.0.1\", user=\"georg\", port=\"3306\", db=\"wiag2\"), \"DELETE FROM person_role WHERE person_id IN\\n(SELECT id FROM item WHERE item_type_id = 4)\", 0, -1, 7320, MySQL.API.MYSQL_RES(Ptr{Nothing} @0x0000000000000000), Symbol[], Type[], Dict{Symbol, Int64}(), 0, 1, false)"
      ]
     },
     "execution_count": 14,
     "metadata": {},
     "output_type": "execute_result"
    }
   ],
   "source": [
    "table_name = \"person_role\";\n",
    "sql = \"DELETE FROM $(table_name) WHERE person_id IN\n",
    "(SELECT id FROM item WHERE item_type_id = $(item_type_id))\";\n",
    "DBInterface.execute(Wds.dbwiag, sql)"
   ]
  },
  {
   "cell_type": "code",
   "execution_count": 15,
   "metadata": {},
   "outputs": [
    {
     "data": {
      "text/plain": [
       "MySQL.TextCursor{true}(MySQL.Connection(host=\"127.0.0.1\", user=\"georg\", port=\"3306\", db=\"wiag2\"), \"DELETE FROM name_lookup WHERE person_id IN\\n(SELECT id FROM item WHERE item_type_id = 4)\", 0, -1, 7314, MySQL.API.MYSQL_RES(Ptr{Nothing} @0x0000000000000000), Symbol[], Type[], Dict{Symbol, Int64}(), 0, 1, false)"
      ]
     },
     "execution_count": 15,
     "metadata": {},
     "output_type": "execute_result"
    }
   ],
   "source": [
    "table_name = \"name_lookup\";\n",
    "sql = \"DELETE FROM $(table_name) WHERE person_id IN\n",
    "(SELECT id FROM item WHERE item_type_id = $(item_type_id))\";\n",
    "DBInterface.execute(Wds.dbwiag, sql)"
   ]
  },
  {
   "cell_type": "code",
   "execution_count": 16,
   "metadata": {},
   "outputs": [
    {
     "data": {
      "text/plain": [
       "MySQL.TextCursor{true}(MySQL.Connection(host=\"127.0.0.1\", user=\"georg\", port=\"3306\", db=\"wiag2\"), \"DELETE FROM familyname_variant WHERE person_id IN\\n(SELECT id FROM item WHERE item_type_id = 4)\", 0, -1, 698, MySQL.API.MYSQL_RES(Ptr{Nothing} @0x0000000000000000), Symbol[], Type[], Dict{Symbol, Int64}(), 0, 1, false)"
      ]
     },
     "execution_count": 16,
     "metadata": {},
     "output_type": "execute_result"
    }
   ],
   "source": [
    "table_name = \"familyname_variant\";\n",
    "sql = \"DELETE FROM $(table_name) WHERE person_id IN\n",
    "(SELECT id FROM item WHERE item_type_id = $(item_type_id))\";\n",
    "DBInterface.execute(Wds.dbwiag, sql)"
   ]
  },
  {
   "cell_type": "code",
   "execution_count": 17,
   "metadata": {},
   "outputs": [
    {
     "data": {
      "text/plain": [
       "MySQL.TextCursor{true}(MySQL.Connection(host=\"127.0.0.1\", user=\"georg\", port=\"3306\", db=\"wiag2\"), \"DELETE FROM givenname_variant WHERE person_id IN\\n(SELECT id FROM item WHERE item_type_id = 4)\", 0, -1, 330, MySQL.API.MYSQL_RES(Ptr{Nothing} @0x0000000000000000), Symbol[], Type[], Dict{Symbol, Int64}(), 0, 1, false)"
      ]
     },
     "execution_count": 17,
     "metadata": {},
     "output_type": "execute_result"
    }
   ],
   "source": [
    "table_name = \"givenname_variant\";\n",
    "sql = \"DELETE FROM $(table_name) WHERE person_id IN\n",
    "(SELECT id FROM item WHERE item_type_id = $(item_type_id))\";\n",
    "DBInterface.execute(Wds.dbwiag, sql)"
   ]
  },
  {
   "cell_type": "code",
   "execution_count": 113,
   "metadata": {},
   "outputs": [
    {
     "data": {
      "text/plain": [
       "MySQL.TextCursor{true}(MySQL.Connection(host=\"127.0.0.1\", user=\"georg\", port=\"3306\", db=\"wiag2\"), \"DELETE FROM person WHERE id IN\\n(SELECT id FROM item WHERE item_type_id = 4)\", 0, -1, 0, MySQL.API.MYSQL_RES(Ptr{Nothing} @0x0000000000000000), Symbol[], Type[], Dict{Symbol, Int64}(), 0, 1, false)"
      ]
     },
     "execution_count": 113,
     "metadata": {},
     "output_type": "execute_result"
    }
   ],
   "source": [
    "table_name = \"person\";\n",
    "sql = \"DELETE FROM $(table_name) WHERE id IN\n",
    "(SELECT id FROM item WHERE item_type_id = $(item_type_id))\";\n",
    "DBInterface.execute(Wds.dbwiag, sql)"
   ]
  },
  {
   "cell_type": "code",
   "execution_count": 19,
   "metadata": {},
   "outputs": [
    {
     "data": {
      "text/plain": [
       "MySQL.TextCursor{true}(MySQL.Connection(host=\"127.0.0.1\", user=\"georg\", port=\"3306\", db=\"wiag2\"), \"DELETE FROM item_property WHERE item_id IN\\n(SELECT id FROM item WHERE item_type_id = 4)\", 0, -1, 0, MySQL.API.MYSQL_RES(Ptr{Nothing} @0x0000000000000000), Symbol[], Type[], Dict{Symbol, Int64}(), 0, 1, false)"
      ]
     },
     "execution_count": 19,
     "metadata": {},
     "output_type": "execute_result"
    }
   ],
   "source": [
    "table_name = \"item_property\";\n",
    "sql = \"DELETE FROM $(table_name) WHERE item_id IN\n",
    "(SELECT id FROM item WHERE item_type_id = $(item_type_id))\";\n",
    "DBInterface.execute(Wds.dbwiag, sql)"
   ]
  },
  {
   "cell_type": "code",
   "execution_count": 20,
   "metadata": {},
   "outputs": [
    {
     "data": {
      "text/plain": [
       "MySQL.TextCursor{true}(MySQL.Connection(host=\"127.0.0.1\", user=\"georg\", port=\"3306\", db=\"wiag2\"), \"DELETE FROM id_external WHERE item_id IN\\n(SELECT id FROM item WHERE item_type_id = 4)\", 0, -1, 16066, MySQL.API.MYSQL_RES(Ptr{Nothing} @0x0000000000000000), Symbol[], Type[], Dict{Symbol, Int64}(), 0, 1, false)"
      ]
     },
     "execution_count": 20,
     "metadata": {},
     "output_type": "execute_result"
    }
   ],
   "source": [
    "table_name = \"id_external\";\n",
    "sql = \"DELETE FROM $(table_name) WHERE item_id IN\n",
    "(SELECT id FROM item WHERE item_type_id = $(item_type_id))\";\n",
    "DBInterface.execute(Wds.dbwiag, sql)"
   ]
  },
  {
   "cell_type": "code",
   "execution_count": 21,
   "metadata": {},
   "outputs": [
    {
     "data": {
      "text/plain": [
       "MySQL.TextCursor{true}(MySQL.Connection(host=\"127.0.0.1\", user=\"georg\", port=\"3306\", db=\"wiag2\"), \"DELETE FROM item_reference WHERE item_id IN\\n(SELECT id FROM item WHERE item_type_id = 4)\", 0, -1, 5170, MySQL.API.MYSQL_RES(Ptr{Nothing} @0x0000000000000000), Symbol[], Type[], Dict{Symbol, Int64}(), 0, 1, false)"
      ]
     },
     "execution_count": 21,
     "metadata": {},
     "output_type": "execute_result"
    }
   ],
   "source": [
    "table_name = \"item_reference\";\n",
    "sql = \"DELETE FROM $(table_name) WHERE item_id IN\n",
    "(SELECT id FROM item WHERE item_type_id = $(item_type_id))\";\n",
    "DBInterface.execute(Wds.dbwiag, sql)"
   ]
  },
  {
   "cell_type": "code",
   "execution_count": 22,
   "metadata": {},
   "outputs": [
    {
     "data": {
      "text/plain": [
       "MySQL.TextCursor{true}(MySQL.Connection(host=\"127.0.0.1\", user=\"georg\", port=\"3306\", db=\"wiag2\"), \"DELETE FROM reference_volume WHERE item_type_id = 4\", 0, -1, 7, MySQL.API.MYSQL_RES(Ptr{Nothing} @0x0000000000000000), Symbol[], Type[], Dict{Symbol, Int64}(), 0, 1, false)"
      ]
     },
     "execution_count": 22,
     "metadata": {},
     "output_type": "execute_result"
    }
   ],
   "source": [
    "table_name = \"reference_volume\";\n",
    "sql = \"DELETE FROM $(table_name) WHERE item_type_id = $(item_type_id)\";\n",
    "DBInterface.execute(Wds.dbwiag, sql)"
   ]
  },
  {
   "cell_type": "markdown",
   "metadata": {},
   "source": [
    "Lösche Einträge in `item` erst, wenn keine Verweise mehr gebraucht werden."
   ]
  },
  {
   "cell_type": "code",
   "execution_count": 87,
   "metadata": {},
   "outputs": [
    {
     "data": {
      "text/plain": [
       "4"
      ]
     },
     "execution_count": 87,
     "metadata": {},
     "output_type": "execute_result"
    }
   ],
   "source": [
    "item_type_id"
   ]
  },
  {
   "cell_type": "code",
   "execution_count": 88,
   "metadata": {},
   "outputs": [
    {
     "data": {
      "text/plain": [
       "MySQL.TextCursor{true}(MySQL.Connection(host=\"127.0.0.1\", user=\"georg\", port=\"3306\", db=\"wiag2\"), \"DELETE FROM item WHERE item_type_id = 4\", 0, -1, 10342, MySQL.API.MYSQL_RES(Ptr{Nothing} @0x0000000000000000), Symbol[], Type[], Dict{Symbol, Int64}(), 0, 1, false)"
      ]
     },
     "execution_count": 88,
     "metadata": {},
     "output_type": "execute_result"
    }
   ],
   "source": [
    "table_name = \"item\";\n",
    "sql = \"DELETE FROM $(table_name) WHERE item_type_id = $(item_type_id)\";\n",
    "DBInterface.execute(Wds.dbwiag, sql)"
   ]
  },
  {
   "cell_type": "markdown",
   "metadata": {},
   "source": [
    "## Literatur"
   ]
  },
  {
   "cell_type": "code",
   "execution_count": 23,
   "metadata": {},
   "outputs": [],
   "source": [
    "using CSV, DataFrames"
   ]
  },
  {
   "cell_type": "code",
   "execution_count": 24,
   "metadata": {
    "scrolled": true
   },
   "outputs": [],
   "source": [
    "# Quelle CSV\n",
    "filename = joinpath(data_path, \"tbl_reference.csv\");\n",
    "df_ref_vol = CSV.read(filename, DataFrame);"
   ]
  },
  {
   "cell_type": "code",
   "execution_count": 25,
   "metadata": {},
   "outputs": [
    {
     "data": {
      "text/plain": [
       "10-element Vector{String}:\n",
       " \"ID_Ref\"\n",
       " \"full_citation\"\n",
       " \"author_editor\"\n",
       " \"OnlineRessource\"\n",
       " \"short_title\"\n",
       " \"ri_opac_id\"\n",
       " \"year of publication\"\n",
       " \"full_title\"\n",
       " \"ISBN\"\n",
       " \"gbv\""
      ]
     },
     "execution_count": 25,
     "metadata": {},
     "output_type": "execute_result"
    }
   ],
   "source": [
    "names(df_ref_vol)"
   ]
  },
  {
   "cell_type": "code",
   "execution_count": 26,
   "metadata": {},
   "outputs": [
    {
     "data": {
      "text/html": [
       "<div class=\"data-frame\"><p>5 rows × 10 columns (omitted printing of 8 columns)</p><table class=\"data-frame\"><thead><tr><th></th><th>ID_Ref</th><th>full_citation</th></tr><tr><th></th><th title=\"Int64\">Int64</th><th title=\"String\">String</th></tr></thead><tbody><tr><th>1</th><td>1</td><td>Gatz, Erwin (Hg.)/Brodkorb, Clemens (Bearb.), Die Bischöfe des Heiligen Römischen Reiches 1198 bis 1448. Ein biographisches Lexikon, Berlin 2001.</td></tr><tr><th>2</th><td>2</td><td>Gatz, Erwin (Hg.)/Brodkorb, Clemens/Flachenecker, Helmut (Bearb.), Die Bistümer des Heiligen Römischen Reiches. Von ihren Anfängen bis zur Säkularisation, Freiburg i. Br. 2003.</td></tr><tr><th>3</th><td>3</td><td>Gatz, Erwin (Hg.)/Brodkorb, Clemens (Bearb.), Die Bischöfe des Heiligen Römischen Reiches 1448 bis 1648. Ein biographisches Lexikon, Berlin 1996.</td></tr><tr><th>4</th><td>4</td><td>Gatz, Erwin (Hg.)/Janker, Stephan M. (Bearb.), Die Bischöfe des Heiligen Römischen Reiches 1648 bis 1803. Ein biographisches Lexikon, Berlin 1990.</td></tr><tr><th>5</th><td>5</td><td>Gatz, Erwin (Hg.), Die Bischöfe des Heiligen Römischen Reiches 1785/1803 bis 1945. Ein biographisches Lexikon, Berlin 1983.</td></tr></tbody></table></div>"
      ],
      "text/latex": [
       "\\begin{tabular}{r|ccc}\n",
       "\t& ID\\_Ref & full\\_citation & \\\\\n",
       "\t\\hline\n",
       "\t& Int64 & String & \\\\\n",
       "\t\\hline\n",
       "\t1 & 1 & Gatz, Erwin (Hg.)/Brodkorb, Clemens (Bearb.), Die Bischöfe des Heiligen Römischen Reiches 1198 bis 1448. Ein biographisches Lexikon, Berlin 2001. & $\\dots$ \\\\\n",
       "\t2 & 2 & Gatz, Erwin (Hg.)/Brodkorb, Clemens/Flachenecker, Helmut (Bearb.), Die Bistümer des Heiligen Römischen Reiches. Von ihren Anfängen bis zur Säkularisation, Freiburg i. Br. 2003. & $\\dots$ \\\\\n",
       "\t3 & 3 & Gatz, Erwin (Hg.)/Brodkorb, Clemens (Bearb.), Die Bischöfe des Heiligen Römischen Reiches 1448 bis 1648. Ein biographisches Lexikon, Berlin 1996. & $\\dots$ \\\\\n",
       "\t4 & 4 & Gatz, Erwin (Hg.)/Janker, Stephan M. (Bearb.), Die Bischöfe des Heiligen Römischen Reiches 1648 bis 1803. Ein biographisches Lexikon, Berlin 1990. & $\\dots$ \\\\\n",
       "\t5 & 5 & Gatz, Erwin (Hg.), Die Bischöfe des Heiligen Römischen Reiches 1785/1803 bis 1945. Ein biographisches Lexikon, Berlin 1983. & $\\dots$ \\\\\n",
       "\\end{tabular}\n"
      ],
      "text/plain": [
       "\u001b[1m5×10 DataFrame\u001b[0m\n",
       "\u001b[1m Row \u001b[0m│\u001b[1m ID_Ref \u001b[0m\u001b[1m full_citation                     \u001b[0m\n",
       "\u001b[1m     \u001b[0m│\u001b[90m Int64  \u001b[0m\u001b[90m String                            \u001b[0m\n",
       "─────┼───────────────────────────────────────────────────────────────────\n",
       "   1 │      1  Gatz, Erwin (Hg.)/Brodkorb, Clem…\n",
       "   2 │      2  Gatz, Erwin (Hg.)/Brodkorb, Clem…\n",
       "   3 │      3  Gatz, Erwin (Hg.)/Brodkorb, Clem…\n",
       "   4 │      4  Gatz, Erwin (Hg.)/Janker, Stepha…\n",
       "   5 │      5  Gatz, Erwin (Hg.), Die Bischöfe …\n",
       "\u001b[36m                                                        8 columns omitted\u001b[0m"
      ]
     },
     "execution_count": 26,
     "metadata": {},
     "output_type": "execute_result"
    }
   ],
   "source": [
    "first(df_ref_vol, 5)"
   ]
  },
  {
   "cell_type": "code",
   "execution_count": 27,
   "metadata": {},
   "outputs": [],
   "source": [
    "insertcols!(df_ref_vol,\n",
    "    :item_type_id => item_type_id,\n",
    ");"
   ]
  },
  {
   "cell_type": "code",
   "execution_count": 28,
   "metadata": {},
   "outputs": [],
   "source": [
    "columns = [\n",
    "    :item_type_id => :item_type_id,\n",
    "    Symbol(\"ID_Ref\") => :reference_id,\n",
    "    Symbol(\"full_citation\") => :full_citation,\n",
    "    Symbol(\"author_editor\") => :author_editor,\n",
    "    Symbol(\"OnlineRessource\") => :online_resource,\n",
    "    Symbol(\"short_title\") => :title_short,\n",
    "    Symbol(\"ri_opac_id\") => :ri_opac_id,\n",
    "    Symbol(\"year of publication\") => :year_publication,\n",
    "    Symbol(\"ISBN\") => :isbn,\n",
    "];"
   ]
  },
  {
   "cell_type": "code",
   "execution_count": 33,
   "metadata": {},
   "outputs": [
    {
     "ename": "LoadError",
     "evalue": "UndefVarError: df_ref_vol not defined",
     "output_type": "error",
     "traceback": [
      "UndefVarError: df_ref_vol not defined",
      "",
      "Stacktrace:",
      " [1] top-level scope",
      "   @ In[33]:2",
      " [2] eval",
      "   @ .\\boot.jl:368 [inlined]",
      " [3] include_string(mapexpr::typeof(REPL.softscope), mod::Module, code::String, filename::String)",
      "   @ Base .\\loading.jl:1428"
     ]
    }
   ],
   "source": [
    "table_name = \"reference_volume\";\n",
    "Wds.filltable!(table_name, select(df_ref_vol, columns))"
   ]
  },
  {
   "cell_type": "markdown",
   "metadata": {},
   "source": [
    "## Bischöfe"
   ]
  },
  {
   "cell_type": "code",
   "execution_count": 30,
   "metadata": {},
   "outputs": [],
   "source": [
    "using CSV, DataFrames"
   ]
  },
  {
   "cell_type": "code",
   "execution_count": 93,
   "metadata": {},
   "outputs": [],
   "source": [
    "# Quelle CSV\n",
    "filename = joinpath(data_path, \"tbl_bischoefe_gatz.csv\");\n",
    "df_episc = CSV.read(filename, DataFrame);"
   ]
  },
  {
   "cell_type": "code",
   "execution_count": 32,
   "metadata": {},
   "outputs": [],
   "source": [
    "# Quelle Datenbank\n",
    "df_episc = DBInterface.execute(Wds.dbwiag, \"SELECT * FROM bischof.tbl_bischoefe_gatz\") |> DataFrame;"
   ]
  },
  {
   "cell_type": "markdown",
   "metadata": {},
   "source": [
    "Leerzeichen bereinigen"
   ]
  },
  {
   "cell_type": "code",
   "execution_count": 94,
   "metadata": {},
   "outputs": [],
   "source": [
    "Wds.clean_up!(df_episc)"
   ]
  },
  {
   "cell_type": "code",
   "execution_count": 95,
   "metadata": {},
   "outputs": [
    {
     "data": {
      "text/html": [
       "<div class=\"data-frame\"><p>5 rows × 6 columns</p><table class=\"data-frame\"><thead><tr><th></th><th>ID_Bischof</th><th>Vorname</th><th>Praefix</th><th>Familienname</th><th>Geburtsdatum</th><th>fertig</th></tr><tr><th></th><th title=\"Int64\">Int64</th><th title=\"String\">String</th><th title=\"Union{Missing, String}\">String?</th><th title=\"Union{Missing, String}\">String?</th><th title=\"Union{Missing, String}\">String?</th><th title=\"Int64\">Int64</th></tr></thead><tbody><tr><th>1</th><td>21068</td><td>Gregorio</td><td>di</td><td>Lorenzo</td><td><em>missing</em></td><td>1</td></tr><tr><th>2</th><td>21069</td><td>Franziskus</td><td><em>missing</em></td><td><em>missing</em></td><td><em>missing</em></td><td>1</td></tr><tr><th>3</th><td>21070</td><td>Jacobus</td><td>von</td><td>Höwen</td><td><em>missing</em></td><td>1</td></tr><tr><th>4</th><td>21071</td><td>Johannes</td><td><em>missing</em></td><td><em>missing</em></td><td><em>missing</em></td><td>1</td></tr><tr><th>5</th><td>21072</td><td>Konrad</td><td><em>missing</em></td><td>Eisenhut</td><td><em>missing</em></td><td>1</td></tr></tbody></table></div>"
      ],
      "text/latex": [
       "\\begin{tabular}{r|cccccc}\n",
       "\t& ID\\_Bischof & Vorname & Praefix & Familienname & Geburtsdatum & fertig\\\\\n",
       "\t\\hline\n",
       "\t& Int64 & String & String? & String? & String? & Int64\\\\\n",
       "\t\\hline\n",
       "\t1 & 21068 & Gregorio & di & Lorenzo & \\emph{missing} & 1 \\\\\n",
       "\t2 & 21069 & Franziskus & \\emph{missing} & \\emph{missing} & \\emph{missing} & 1 \\\\\n",
       "\t3 & 21070 & Jacobus & von & Höwen & \\emph{missing} & 1 \\\\\n",
       "\t4 & 21071 & Johannes & \\emph{missing} & \\emph{missing} & \\emph{missing} & 1 \\\\\n",
       "\t5 & 21072 & Konrad & \\emph{missing} & Eisenhut & \\emph{missing} & 1 \\\\\n",
       "\\end{tabular}\n"
      ],
      "text/plain": [
       "\u001b[1m5×6 DataFrame\u001b[0m\n",
       "\u001b[1m Row \u001b[0m│\u001b[1m ID_Bischof \u001b[0m\u001b[1m Vorname    \u001b[0m\u001b[1m Praefix \u001b[0m\u001b[1m Familienname \u001b[0m\u001b[1m Geburtsdatum \u001b[0m\u001b[1m fertig \u001b[0m\n",
       "\u001b[1m     \u001b[0m│\u001b[90m Int64      \u001b[0m\u001b[90m String     \u001b[0m\u001b[90m String? \u001b[0m\u001b[90m String?      \u001b[0m\u001b[90m String?      \u001b[0m\u001b[90m Int64  \u001b[0m\n",
       "─────┼─────────────────────────────────────────────────────────────────────\n",
       "   1 │      21068  Gregorio    di       Lorenzo      \u001b[90m missing      \u001b[0m      1\n",
       "   2 │      21069  Franziskus \u001b[90m missing \u001b[0m\u001b[90m missing      \u001b[0m\u001b[90m missing      \u001b[0m      1\n",
       "   3 │      21070  Jacobus     von      Höwen        \u001b[90m missing      \u001b[0m      1\n",
       "   4 │      21071  Johannes   \u001b[90m missing \u001b[0m\u001b[90m missing      \u001b[0m\u001b[90m missing      \u001b[0m      1\n",
       "   5 │      21072  Konrad     \u001b[90m missing \u001b[0m Eisenhut     \u001b[90m missing      \u001b[0m      1"
      ]
     },
     "execution_count": 95,
     "metadata": {},
     "output_type": "execute_result"
    }
   ],
   "source": [
    "df_episc[101:105, [:ID_Bischof, :Vorname, :Praefix, :Familienname, :Geburtsdatum, :fertig]]"
   ]
  },
  {
   "cell_type": "code",
   "execution_count": 66,
   "metadata": {},
   "outputs": [
    {
     "data": {
      "text/plain": [
       "15-element Vector{String}:\n",
       " \"ID_Bischof\"\n",
       " \"Eintrag RI OPAC\"\n",
       " \"Autoren Gatz\"\n",
       " \"Seite Gatz\"\n",
       " \"Praefix\"\n",
       " \"Vorname\"\n",
       " \"Familienname\"\n",
       " \"Sterbedatum\"\n",
       " \"Geburtsdatum\"\n",
       " \"Orden\"\n",
       " \"URL_Wikipedia\"\n",
       " \"Weitere Angaben\"\n",
       " \"fertig\"\n",
       " \"Bemerkung_Red\"\n",
       " \"Familienname_Variante\""
      ]
     },
     "execution_count": 66,
     "metadata": {},
     "output_type": "execute_result"
    }
   ],
   "source": [
    "names(df_episc)[1:15]"
   ]
  },
  {
   "cell_type": "markdown",
   "metadata": {},
   "source": [
    "### Einträge in `item`\n",
    "\n",
    "entsprechende Einträge in Tabelle `item` einfügen\n",
    "\n",
    "`id` für 'Bischof' in `item_type`: 4"
   ]
  },
  {
   "cell_type": "code",
   "execution_count": 43,
   "metadata": {},
   "outputs": [
    {
     "data": {
      "text/plain": [
       "3-element Vector{Pair{Symbol, Symbol}}:\n",
       "               :ID_Bischof => :id_in_source\n",
       "                   :fertig => :fertig\n",
       " Symbol(\"Eintrag RI OPAC\") => :item_in_source"
      ]
     },
     "execution_count": 43,
     "metadata": {},
     "output_type": "execute_result"
    }
   ],
   "source": [
    "columns = [\n",
    "    :ID_Bischof => :id_in_source, \n",
    "    :fertig => :fertig, \n",
    "    Symbol(\"Eintrag RI OPAC\") => :item_in_source,    \n",
    "]"
   ]
  },
  {
   "cell_type": "code",
   "execution_count": 44,
   "metadata": {},
   "outputs": [],
   "source": [
    "df_item = select(df_episc, columns);"
   ]
  },
  {
   "cell_type": "code",
   "execution_count": 45,
   "metadata": {},
   "outputs": [],
   "source": [
    "df_item[!, :item_type_id] .= 4;"
   ]
  },
  {
   "cell_type": "markdown",
   "metadata": {},
   "source": [
    "Quelle Datenbank"
   ]
  },
  {
   "cell_type": "code",
   "execution_count": 50,
   "metadata": {},
   "outputs": [
    {
     "data": {
      "text/plain": [
       "map_status (generic function with 1 method)"
      ]
     },
     "execution_count": 50,
     "metadata": {},
     "output_type": "execute_result"
    }
   ],
   "source": [
    "map_status(x) = getproperty(x, :bits) > 0 ? \"fertig\" : missing"
   ]
  },
  {
   "cell_type": "code",
   "execution_count": null,
   "metadata": {},
   "outputs": [],
   "source": [
    "df_item[!, :edit_status] .= map_status.(df_item[!, :fertig]);"
   ]
  },
  {
   "cell_type": "code",
   "execution_count": 69,
   "metadata": {},
   "outputs": [
    {
     "data": {
      "text/plain": [
       "map_online (generic function with 1 method)"
      ]
     },
     "execution_count": 69,
     "metadata": {},
     "output_type": "execute_result"
    }
   ],
   "source": [
    "map_online(x) = getproperty(x, :bits) > 0 ? 1 : 0"
   ]
  },
  {
   "cell_type": "code",
   "execution_count": 70,
   "metadata": {},
   "outputs": [],
   "source": [
    "df_item[!, :is_online] .= map_online.(df_item[!, :fertig]);"
   ]
  },
  {
   "cell_type": "markdown",
   "metadata": {},
   "source": [
    "Quelle CSV-Datei"
   ]
  },
  {
   "cell_type": "code",
   "execution_count": 46,
   "metadata": {},
   "outputs": [
    {
     "data": {
      "text/plain": [
       "map_status (generic function with 1 method)"
      ]
     },
     "execution_count": 46,
     "metadata": {},
     "output_type": "execute_result"
    }
   ],
   "source": [
    "map_status(x) = x > 0 ? \"fertig\" : missing"
   ]
  },
  {
   "cell_type": "code",
   "execution_count": 47,
   "metadata": {},
   "outputs": [],
   "source": [
    "transform!(df_item, :fertig => ByRow(map_status) => :edit_status);"
   ]
  },
  {
   "cell_type": "markdown",
   "metadata": {},
   "source": [
    "ID erzeugen"
   ]
  },
  {
   "cell_type": "code",
   "execution_count": 48,
   "metadata": {},
   "outputs": [
    {
     "data": {
      "text/plain": [
       "make_id_public (generic function with 1 method)"
      ]
     },
     "execution_count": 48,
     "metadata": {},
     "output_type": "execute_result"
    }
   ],
   "source": [
    "function make_id_public(id::Real, num_id_length::Int, id_public_key::AbstractString)\n",
    "    return \"WIAG-\" * id_public_key * \"-\" * lpad(id, num_id_length, '0') * \"-001\"\n",
    "end"
   ]
  },
  {
   "cell_type": "code",
   "execution_count": 49,
   "metadata": {},
   "outputs": [
    {
     "data": {
      "text/plain": [
       "\"WIAG-Pers-EPISCGatz-03650-001\""
      ]
     },
     "execution_count": 49,
     "metadata": {},
     "output_type": "execute_result"
    }
   ],
   "source": [
    "make_id_public(3650, 5, \"Pers-EPISCGatz\")"
   ]
  },
  {
   "cell_type": "markdown",
   "metadata": {},
   "source": [
    "Normdatum/öffentliche ID erzeugen\n",
    "\n",
    "Verwende die ursprüngliche ID. Damit entspricht die ID der bisher veröffentlichten ID (2021-10-13)"
   ]
  },
  {
   "cell_type": "code",
   "execution_count": 50,
   "metadata": {},
   "outputs": [
    {
     "data": {
      "text/plain": [
       "make_id_episc (generic function with 1 method)"
      ]
     },
     "execution_count": 50,
     "metadata": {},
     "output_type": "execute_result"
    }
   ],
   "source": [
    "make_id_episc(x) = make_id_public(x, 5, \"Pers-EPISCGatz\")"
   ]
  },
  {
   "cell_type": "code",
   "execution_count": 51,
   "metadata": {},
   "outputs": [],
   "source": [
    "transform!(df_item, :id_in_source => ByRow(make_id_episc) => :id_public);"
   ]
  },
  {
   "cell_type": "code",
   "execution_count": 53,
   "metadata": {},
   "outputs": [
    {
     "data": {
      "text/html": [
       "<div class=\"data-frame\"><p>7 rows × 6 columns</p><table class=\"data-frame\"><thead><tr><th></th><th>id_in_source</th><th>fertig</th><th>item_in_source</th><th>item_type_id</th><th>edit_status</th><th>id_public</th></tr><tr><th></th><th title=\"Int64\">Int64</th><th title=\"Int64\">Int64</th><th title=\"String\">String</th><th title=\"Int64\">Int64</th><th title=\"Union{Missing, String}\">String?</th><th title=\"String\">String</th></tr></thead><tbody><tr><th>1</th><td>21086</td><td>1</td><td>um 1372, Johannes</td><td>4</td><td>fertig</td><td>WIAG-Pers-EPISCGatz-21086-001</td></tr><tr><th>2</th><td>21087</td><td>1</td><td>um 1378, Michael, Ep. Sythiensis</td><td>4</td><td>fertig</td><td>WIAG-Pers-EPISCGatz-21087-001</td></tr><tr><th>3</th><td>21088</td><td>1</td><td>1392-1398, Fr. Dietricus, OFM, Ep. Siginensis</td><td>4</td><td>fertig</td><td>WIAG-Pers-EPISCGatz-21088-001</td></tr><tr><th>4</th><td>21089</td><td>1</td><td>1406-1408, Bertholdus, OP, Ep. Sewastopolensis</td><td>4</td><td>fertig</td><td>WIAG-Pers-EPISCGatz-21089-001</td></tr><tr><th>5</th><td>21090</td><td>1</td><td>1411-1418, Conradus Simplicy, OFM, Ep. Siginensis</td><td>4</td><td>fertig</td><td>WIAG-Pers-EPISCGatz-21090-001</td></tr><tr><th>6</th><td>21091</td><td>1</td><td>1420-1433, Fr. Panthaleon de Zintis de Crema, OFM, Ep. Sichariensis</td><td>4</td><td>fertig</td><td>WIAG-Pers-EPISCGatz-21091-001</td></tr><tr><th>7</th><td>21092</td><td>1</td><td>um 1440, Johannes, Archiep. Caesariensis</td><td>4</td><td>fertig</td><td>WIAG-Pers-EPISCGatz-21092-001</td></tr></tbody></table></div>"
      ],
      "text/latex": [
       "\\begin{tabular}{r|cccccc}\n",
       "\t& id\\_in\\_source & fertig & item\\_in\\_source & item\\_type\\_id & edit\\_status & id\\_public\\\\\n",
       "\t\\hline\n",
       "\t& Int64 & Int64 & String & Int64 & String? & String\\\\\n",
       "\t\\hline\n",
       "\t1 & 21086 & 1 & um 1372, Johannes & 4 & fertig & WIAG-Pers-EPISCGatz-21086-001 \\\\\n",
       "\t2 & 21087 & 1 & um 1378, Michael, Ep. Sythiensis & 4 & fertig & WIAG-Pers-EPISCGatz-21087-001 \\\\\n",
       "\t3 & 21088 & 1 & 1392-1398, Fr. Dietricus, OFM, Ep. Siginensis & 4 & fertig & WIAG-Pers-EPISCGatz-21088-001 \\\\\n",
       "\t4 & 21089 & 1 & 1406-1408, Bertholdus, OP, Ep. Sewastopolensis & 4 & fertig & WIAG-Pers-EPISCGatz-21089-001 \\\\\n",
       "\t5 & 21090 & 1 & 1411-1418, Conradus Simplicy, OFM, Ep. Siginensis & 4 & fertig & WIAG-Pers-EPISCGatz-21090-001 \\\\\n",
       "\t6 & 21091 & 1 & 1420-1433, Fr. Panthaleon de Zintis de Crema, OFM, Ep. Sichariensis & 4 & fertig & WIAG-Pers-EPISCGatz-21091-001 \\\\\n",
       "\t7 & 21092 & 1 & um 1440, Johannes, Archiep. Caesariensis & 4 & fertig & WIAG-Pers-EPISCGatz-21092-001 \\\\\n",
       "\\end{tabular}\n"
      ],
      "text/plain": [
       "\u001b[1m7×6 DataFrame\u001b[0m\n",
       "\u001b[1m Row \u001b[0m│\u001b[1m id_in_source \u001b[0m\u001b[1m fertig \u001b[0m\u001b[1m item_in_source                    \u001b[0m\u001b[1m item_type_id \u001b[0m\u001b[1m edit_status \u001b[0m\u001b[1m id_public                  \u001b[0m ⋯\n",
       "\u001b[1m     \u001b[0m│\u001b[90m Int64        \u001b[0m\u001b[90m Int64  \u001b[0m\u001b[90m String                            \u001b[0m\u001b[90m Int64        \u001b[0m\u001b[90m String?     \u001b[0m\u001b[90m String                     \u001b[0m ⋯\n",
       "─────┼──────────────────────────────────────────────────────────────────────────────────────────────────────────────────\n",
       "   1 │        21086       1  um 1372, Johannes                             4  fertig       WIAG-Pers-EPISCGatz-21086-0 ⋯\n",
       "   2 │        21087       1  um 1378, Michael, Ep. Sythiensis              4  fertig       WIAG-Pers-EPISCGatz-21087-0\n",
       "   3 │        21088       1  1392-1398, Fr. Dietricus, OFM, E…             4  fertig       WIAG-Pers-EPISCGatz-21088-0\n",
       "   4 │        21089       1  1406-1408, Bertholdus, OP, Ep. S…             4  fertig       WIAG-Pers-EPISCGatz-21089-0\n",
       "   5 │        21090       1  1411-1418, Conradus Simplicy, OF…             4  fertig       WIAG-Pers-EPISCGatz-21090-0 ⋯\n",
       "   6 │        21091       1  1420-1433, Fr. Panthaleon de Zin…             4  fertig       WIAG-Pers-EPISCGatz-21091-0\n",
       "   7 │        21092       1  um 1440, Johannes, Archiep. Caes…             4  fertig       WIAG-Pers-EPISCGatz-21092-0\n",
       "\u001b[36m                                                                                                        1 column omitted\u001b[0m"
      ]
     },
     "execution_count": 53,
     "metadata": {},
     "output_type": "execute_result"
    }
   ],
   "source": [
    "first(df_item, 7)"
   ]
  },
  {
   "cell_type": "markdown",
   "metadata": {},
   "source": [
    "Ergänze Spalten"
   ]
  },
  {
   "cell_type": "code",
   "execution_count": 54,
   "metadata": {},
   "outputs": [],
   "source": [
    "using Dates"
   ]
  },
  {
   "cell_type": "code",
   "execution_count": 55,
   "metadata": {},
   "outputs": [
    {
     "data": {
      "text/plain": [
       "\"2022-10-19 14:43\""
      ]
     },
     "execution_count": 55,
     "metadata": {},
     "output_type": "execute_result"
    }
   ],
   "source": [
    "date_time_now = Dates.format(now(), Dates.dateformat\"yyyy-mm-dd HH:MM\")"
   ]
  },
  {
   "cell_type": "code",
   "execution_count": 56,
   "metadata": {},
   "outputs": [],
   "source": [
    "insertcols!(\n",
    "    df_item,\n",
    "    :created_by => 1,\n",
    "    :date_created => date_time_now,\n",
    "    :changed_by => 1,\n",
    "    :date_changed => date_time_now,\n",
    "    :is_online => df_item.fertig,\n",
    ");"
   ]
  },
  {
   "cell_type": "markdown",
   "metadata": {},
   "source": [
    "`item.is_deleted` ist vorbelegt mit `false`"
   ]
  },
  {
   "cell_type": "markdown",
   "metadata": {},
   "source": [
    "`item.lang` ist vorbelegt mit \"de\""
   ]
  },
  {
   "cell_type": "code",
   "execution_count": 57,
   "metadata": {},
   "outputs": [
    {
     "data": {
      "text/plain": [
       "11-element Vector{String}:\n",
       " \"id_in_source\"\n",
       " \"fertig\"\n",
       " \"item_in_source\"\n",
       " \"item_type_id\"\n",
       " \"edit_status\"\n",
       " \"id_public\"\n",
       " \"created_by\"\n",
       " \"date_created\"\n",
       " \"changed_by\"\n",
       " \"date_changed\"\n",
       " \"is_online\""
      ]
     },
     "execution_count": 57,
     "metadata": {},
     "output_type": "execute_result"
    }
   ],
   "source": [
    "names(df_item)"
   ]
  },
  {
   "cell_type": "code",
   "execution_count": 58,
   "metadata": {},
   "outputs": [
    {
     "data": {
      "text/html": [
       "<div class=\"data-frame\"><p>5 rows × 7 columns</p><table class=\"data-frame\"><thead><tr><th></th><th>id_in_source</th><th>item_type_id</th><th>id_public</th><th>edit_status</th><th>is_online</th><th>date_changed</th><th>changed_by</th></tr><tr><th></th><th title=\"Int64\">Int64</th><th title=\"Int64\">Int64</th><th title=\"String\">String</th><th title=\"Union{Missing, String}\">String?</th><th title=\"Int64\">Int64</th><th title=\"String\">String</th><th title=\"Int64\">Int64</th></tr></thead><tbody><tr><th>1</th><td>21702</td><td>4</td><td>WIAG-Pers-EPISCGatz-21702-001</td><td>fertig</td><td>1</td><td>2022-10-19 14:43</td><td>1</td></tr><tr><th>2</th><td>21703</td><td>4</td><td>WIAG-Pers-EPISCGatz-21703-001</td><td>fertig</td><td>1</td><td>2022-10-19 14:43</td><td>1</td></tr><tr><th>3</th><td>21704</td><td>4</td><td>WIAG-Pers-EPISCGatz-21704-001</td><td>fertig</td><td>1</td><td>2022-10-19 14:43</td><td>1</td></tr><tr><th>4</th><td>21705</td><td>4</td><td>WIAG-Pers-EPISCGatz-21705-001</td><td><em>missing</em></td><td>0</td><td>2022-10-19 14:43</td><td>1</td></tr><tr><th>5</th><td>21706</td><td>4</td><td>WIAG-Pers-EPISCGatz-21706-001</td><td>fertig</td><td>1</td><td>2022-10-19 14:43</td><td>1</td></tr></tbody></table></div>"
      ],
      "text/latex": [
       "\\begin{tabular}{r|ccccccc}\n",
       "\t& id\\_in\\_source & item\\_type\\_id & id\\_public & edit\\_status & is\\_online & date\\_changed & changed\\_by\\\\\n",
       "\t\\hline\n",
       "\t& Int64 & Int64 & String & String? & Int64 & String & Int64\\\\\n",
       "\t\\hline\n",
       "\t1 & 21702 & 4 & WIAG-Pers-EPISCGatz-21702-001 & fertig & 1 & 2022-10-19 14:43 & 1 \\\\\n",
       "\t2 & 21703 & 4 & WIAG-Pers-EPISCGatz-21703-001 & fertig & 1 & 2022-10-19 14:43 & 1 \\\\\n",
       "\t3 & 21704 & 4 & WIAG-Pers-EPISCGatz-21704-001 & fertig & 1 & 2022-10-19 14:43 & 1 \\\\\n",
       "\t4 & 21705 & 4 & WIAG-Pers-EPISCGatz-21705-001 & \\emph{missing} & 0 & 2022-10-19 14:43 & 1 \\\\\n",
       "\t5 & 21706 & 4 & WIAG-Pers-EPISCGatz-21706-001 & fertig & 1 & 2022-10-19 14:43 & 1 \\\\\n",
       "\\end{tabular}\n"
      ],
      "text/plain": [
       "\u001b[1m5×7 DataFrame\u001b[0m\n",
       "\u001b[1m Row \u001b[0m│\u001b[1m id_in_source \u001b[0m\u001b[1m item_type_id \u001b[0m\u001b[1m id_public                     \u001b[0m\u001b[1m edit_status \u001b[0m\u001b[1m is_online \u001b[0m\u001b[1m date_changed     \u001b[0m\u001b[1m changed_by\u001b[0m ⋯\n",
       "\u001b[1m     \u001b[0m│\u001b[90m Int64        \u001b[0m\u001b[90m Int64        \u001b[0m\u001b[90m String                        \u001b[0m\u001b[90m String?     \u001b[0m\u001b[90m Int64     \u001b[0m\u001b[90m String           \u001b[0m\u001b[90m Int64     \u001b[0m ⋯\n",
       "─────┼──────────────────────────────────────────────────────────────────────────────────────────────────────────────────\n",
       "   1 │        21702             4  WIAG-Pers-EPISCGatz-21702-001  fertig               1  2022-10-19 14:43           1 ⋯\n",
       "   2 │        21703             4  WIAG-Pers-EPISCGatz-21703-001  fertig               1  2022-10-19 14:43           1\n",
       "   3 │        21704             4  WIAG-Pers-EPISCGatz-21704-001  fertig               1  2022-10-19 14:43           1\n",
       "   4 │        21705             4  WIAG-Pers-EPISCGatz-21705-001 \u001b[90m missing     \u001b[0m         0  2022-10-19 14:43           1\n",
       "   5 │        21706             4  WIAG-Pers-EPISCGatz-21706-001  fertig               1  2022-10-19 14:43           1 ⋯"
      ]
     },
     "execution_count": 58,
     "metadata": {},
     "output_type": "execute_result"
    }
   ],
   "source": [
    "df_item[5101:5105, [:id_in_source, :item_type_id, :id_public, :edit_status, :is_online, :date_changed, :changed_by]]"
   ]
  },
  {
   "cell_type": "code",
   "execution_count": 89,
   "metadata": {},
   "outputs": [
    {
     "name": "stderr",
     "output_type": "stream",
     "text": [
      "┌ Info: Rows inserted: 5171\n",
      "└ @ WiagDataSetup C:\\Users\\georg\\Documents\\projekte\\WiagDataSetup.jl\\src\\WiagDataSetup.jl:1216\n"
     ]
    },
    {
     "data": {
      "text/plain": [
       "5171"
      ]
     },
     "execution_count": 89,
     "metadata": {},
     "output_type": "execute_result"
    }
   ],
   "source": [
    "Wds.filltable!(\"item\", select(df_item, Not(:fertig)))"
   ]
  },
  {
   "cell_type": "markdown",
   "metadata": {},
   "source": [
    "### Orden eintragen\n",
    "Die Ordenstabelle ist vorläufig 2021-10-14\n"
   ]
  },
  {
   "cell_type": "code",
   "execution_count": 189,
   "metadata": {},
   "outputs": [
    {
     "data": {
      "text/plain": [
       "db_exec (generic function with 1 method)"
      ]
     },
     "execution_count": 189,
     "metadata": {},
     "output_type": "execute_result"
    }
   ],
   "source": [
    "db_exec(sql) = DBInterface.execute(Wds.dbwiag, sql) > DataFrame"
   ]
  },
  {
   "cell_type": "code",
   "execution_count": 145,
   "metadata": {},
   "outputs": [],
   "source": [
    "sql=\"SELECT DISTINCT Orden as abbreviation FROM bischof.tbl_bischoefe_gatz \" *\n",
    "\"WHERE Orden IS NOT NULL AND ORDEN NOT LIKE '1%'\"\n",
    "df_order_col = DBInterface.execute(Wds.dbwiag, sql) |> DataFrame;"
   ]
  },
  {
   "cell_type": "code",
   "execution_count": 225,
   "metadata": {},
   "outputs": [],
   "source": [
    "df_order = DataFrame(abbreviation = [\n",
    "    \"OP\",\n",
    "    \"OFM\",\n",
    "    \"OPraem\",\n",
    "    \"OT\",\n",
    "    \"OSB\",\n",
    "    \"OCist\",\n",
    "    \"OESA\",\n",
    "    \"OCarm\",\n",
    "    \"CanA\",\n",
    "    \"SJ\",\n",
    "    \"OMel\",\n",
    "    \"OSA\",\n",
    "    \"OSM\",\n",
    "    \"OFMObs\",\n",
    "    \"OFMCap\",\n",
    "    \"OFMConv\",\n",
    "    \"OFMRec\",\n",
    "    \"OCart\",\n",
    "    \"OSH\",\n",
    "    \"ORC\",\n",
    "    \"Otheat\",\n",
    "]);"
   ]
  },
  {
   "cell_type": "code",
   "execution_count": 244,
   "metadata": {},
   "outputs": [],
   "source": [
    "df_order[!, :id_in_source] .= string.(1:size(df_order, 1));"
   ]
  },
  {
   "cell_type": "markdown",
   "metadata": {},
   "source": [
    "Einträge in `item`"
   ]
  },
  {
   "cell_type": "code",
   "execution_count": 245,
   "metadata": {},
   "outputs": [],
   "source": [
    "df_item = select(df_order, :id_in_source);"
   ]
  },
  {
   "cell_type": "code",
   "execution_count": 246,
   "metadata": {},
   "outputs": [],
   "source": [
    "df_item[!, :item_type_id] .= 7;"
   ]
  },
  {
   "cell_type": "code",
   "execution_count": 247,
   "metadata": {},
   "outputs": [],
   "source": [
    "df_item[!, :is_online] .= 0;"
   ]
  },
  {
   "cell_type": "code",
   "execution_count": 248,
   "metadata": {},
   "outputs": [],
   "source": [
    "df_item[!, :created_by] .= 7;"
   ]
  },
  {
   "cell_type": "code",
   "execution_count": 249,
   "metadata": {},
   "outputs": [],
   "source": [
    "df_item[!, :date_created] .= \"2021-10-14 13:30\";"
   ]
  },
  {
   "cell_type": "code",
   "execution_count": 250,
   "metadata": {},
   "outputs": [],
   "source": [
    "df_item[!, :changed_by] .= 7;"
   ]
  },
  {
   "cell_type": "code",
   "execution_count": 251,
   "metadata": {},
   "outputs": [],
   "source": [
    "df_item[!, :date_changed] .= \"2021-10-14 13:30\";"
   ]
  },
  {
   "cell_type": "code",
   "execution_count": 52,
   "metadata": {},
   "outputs": [
    {
     "data": {
      "text/plain": [
       "7"
      ]
     },
     "execution_count": 52,
     "metadata": {},
     "output_type": "execute_result"
    }
   ],
   "source": [
    "item_type_id_order = 7"
   ]
  },
  {
   "cell_type": "code",
   "execution_count": 253,
   "metadata": {},
   "outputs": [],
   "source": [
    "sql = \"DELETE FROM item WHERE item_type_id = $(item_type_id_order)\";\n",
    "db_exec(sql);"
   ]
  },
  {
   "cell_type": "code",
   "execution_count": 254,
   "metadata": {},
   "outputs": [
    {
     "name": "stderr",
     "output_type": "stream",
     "text": [
      "┌ Info: Rows inserted: 21\n",
      "└ @ WiagDataSetup C:\\Users\\Georg\\Documents\\projekte\\WiagDataSetup.jl\\src\\WiagDataSetup.jl:1171\n"
     ]
    },
    {
     "data": {
      "text/plain": [
       "21"
      ]
     },
     "execution_count": 254,
     "metadata": {},
     "output_type": "execute_result"
    }
   ],
   "source": [
    "Wds.filltable!(\"item\", df_item)"
   ]
  },
  {
   "cell_type": "markdown",
   "metadata": {},
   "source": [
    "Daten eintragen in `religious_order_id`"
   ]
  },
  {
   "cell_type": "markdown",
   "metadata": {},
   "source": [
    "Index-Werte lesen"
   ]
  },
  {
   "cell_type": "code",
   "execution_count": 60,
   "metadata": {},
   "outputs": [],
   "source": [
    "item_type_id = 6\n",
    "sql = \"SELECT id, id_in_source FROM ITEM where item_type_id = ($item_type_id)\"\n",
    "df_idx = DBInterface.execute(Wds.dbwiag, sql) |> DataFrame;"
   ]
  },
  {
   "cell_type": "code",
   "execution_count": 61,
   "metadata": {},
   "outputs": [
    {
     "ename": "LoadError",
     "evalue": "UndefVarError: df_order not defined",
     "output_type": "error",
     "traceback": [
      "UndefVarError: df_order not defined",
      "",
      "Stacktrace:",
      " [1] top-level scope",
      "   @ In[61]:1",
      " [2] eval",
      "   @ .\\boot.jl:373 [inlined]",
      " [3] include_string(mapexpr::typeof(REPL.softscope), mod::Module, code::String, filename::String)",
      "   @ Base .\\loading.jl:1196"
     ]
    }
   ],
   "source": [
    "df_order_db = innerjoin(df_idx, df_order, on = :id_in_source);"
   ]
  },
  {
   "cell_type": "code",
   "execution_count": 257,
   "metadata": {},
   "outputs": [],
   "source": [
    "Wds.clean_up!(df_order_db)"
   ]
  },
  {
   "cell_type": "code",
   "execution_count": 242,
   "metadata": {},
   "outputs": [
    {
     "data": {
      "text/plain": [
       "3-element Vector{String}:\n",
       " \"id\"\n",
       " \"id_in_source\"\n",
       " \"abbreviation\""
      ]
     },
     "execution_count": 242,
     "metadata": {},
     "output_type": "execute_result"
    }
   ],
   "source": [
    "names(df_order_db)"
   ]
  },
  {
   "cell_type": "code",
   "execution_count": 258,
   "metadata": {},
   "outputs": [
    {
     "name": "stderr",
     "output_type": "stream",
     "text": [
      "┌ Info: Rows inserted: 21\n",
      "└ @ WiagDataSetup C:\\Users\\Georg\\Documents\\projekte\\WiagDataSetup.jl\\src\\WiagDataSetup.jl:1171\n"
     ]
    },
    {
     "data": {
      "text/plain": [
       "21"
      ]
     },
     "execution_count": 258,
     "metadata": {},
     "output_type": "execute_result"
    }
   ],
   "source": [
    "Wds.filltable!(\"religious_order\", select(df_order_db, Not(:id_in_source)); clear_table=true)"
   ]
  },
  {
   "cell_type": "markdown",
   "metadata": {},
   "source": [
    "### Daten eintragen\n",
    "\n",
    "IDs auslesen"
   ]
  },
  {
   "cell_type": "code",
   "execution_count": 90,
   "metadata": {},
   "outputs": [],
   "source": [
    "item_type_id = 4\n",
    "sql = \"SELECT id, id_in_source FROM ITEM where item_type_id = ($item_type_id)\"\n",
    "df_idx = DBInterface.execute(Wds.dbwiag, sql) |> DataFrame;"
   ]
  },
  {
   "cell_type": "markdown",
   "metadata": {},
   "source": [
    "Spalte für die Zusammenführung befüllen (Typ: String!)"
   ]
  },
  {
   "cell_type": "code",
   "execution_count": 96,
   "metadata": {},
   "outputs": [],
   "source": [
    "transform!(df_episc, :ID_Bischof => ByRow(string) => :id_in_source);"
   ]
  },
  {
   "cell_type": "code",
   "execution_count": 97,
   "metadata": {},
   "outputs": [],
   "source": [
    "df_episc = innerjoin(df_idx, df_episc, on = :id_in_source);"
   ]
  },
  {
   "cell_type": "markdown",
   "metadata": {},
   "source": [
    "Ordens-ID auslesen und zuordnen"
   ]
  },
  {
   "cell_type": "code",
   "execution_count": 98,
   "metadata": {},
   "outputs": [],
   "source": [
    "sql = \"SELECT id as religious_order_id, abbreviation FROM religious_order\";\n",
    "df_rel_order = Wds.sql_df(sql);"
   ]
  },
  {
   "cell_type": "code",
   "execution_count": 99,
   "metadata": {},
   "outputs": [],
   "source": [
    "df_episc = leftjoin(df_episc, df_rel_order, on = :Orden => :abbreviation, matchmissing = :notequal);"
   ]
  },
  {
   "cell_type": "code",
   "execution_count": 100,
   "metadata": {},
   "outputs": [
    {
     "data": {
      "text/plain": [
       "a_not_b (generic function with 1 method)"
      ]
     },
     "execution_count": 100,
     "metadata": {},
     "output_type": "execute_result"
    }
   ],
   "source": [
    "a_not_b(a, b) = !ismissing(a) && ismissing(b)"
   ]
  },
  {
   "cell_type": "code",
   "execution_count": 101,
   "metadata": {},
   "outputs": [],
   "source": [
    "df_episc_no_match = subset(df_episc, [:Orden, :religious_order_id] => ByRow(a_not_b));"
   ]
  },
  {
   "cell_type": "code",
   "execution_count": 102,
   "metadata": {},
   "outputs": [
    {
     "data": {
      "text/plain": [
       "(25, 33)"
      ]
     },
     "execution_count": 102,
     "metadata": {},
     "output_type": "execute_result"
    }
   ],
   "source": [
    "size(df_episc_no_match)"
   ]
  },
  {
   "cell_type": "code",
   "execution_count": 103,
   "metadata": {},
   "outputs": [
    {
     "data": {
      "text/html": [
       "<div class=\"data-frame\"><p>5 rows × 6 columns</p><table class=\"data-frame\"><thead><tr><th></th><th>id</th><th>ID_Bischof</th><th>Vorname</th><th>Familienname</th><th>Orden</th><th>religious_order_id</th></tr><tr><th></th><th title=\"Int32\">Int32</th><th title=\"Int64\">Int64</th><th title=\"String\">String</th><th title=\"Union{Missing, String}\">String?</th><th title=\"Union{Missing, String}\">String?</th><th title=\"Union{Missing, Int32}\">Int32?</th></tr></thead><tbody><tr><th>1</th><td>476418</td><td>2985</td><td>Herbord</td><td><em>missing</em></td><td>OFM?</td><td><em>missing</em></td></tr><tr><th>2</th><td>476807</td><td>3248</td><td>Adolf</td><td>Tecklenburg</td><td>OCist?</td><td><em>missing</em></td></tr><tr><th>3</th><td>476935</td><td>3391</td><td>Wesselin</td><td><em>missing</em></td><td>OCist?</td><td><em>missing</em></td></tr><tr><th>4</th><td>476960</td><td>3428</td><td>Rudolf</td><td>Hoheneck</td><td>OSB?</td><td><em>missing</em></td></tr><tr><th>5</th><td>476991</td><td>3459</td><td>Eskill</td><td><em>missing</em></td><td>OP?</td><td><em>missing</em></td></tr></tbody></table></div>"
      ],
      "text/latex": [
       "\\begin{tabular}{r|cccccc}\n",
       "\t& id & ID\\_Bischof & Vorname & Familienname & Orden & religious\\_order\\_id\\\\\n",
       "\t\\hline\n",
       "\t& Int32 & Int64 & String & String? & String? & Int32?\\\\\n",
       "\t\\hline\n",
       "\t1 & 476418 & 2985 & Herbord & \\emph{missing} & OFM? & \\emph{missing} \\\\\n",
       "\t2 & 476807 & 3248 & Adolf & Tecklenburg & OCist? & \\emph{missing} \\\\\n",
       "\t3 & 476935 & 3391 & Wesselin & \\emph{missing} & OCist? & \\emph{missing} \\\\\n",
       "\t4 & 476960 & 3428 & Rudolf & Hoheneck & OSB? & \\emph{missing} \\\\\n",
       "\t5 & 476991 & 3459 & Eskill & \\emph{missing} & OP? & \\emph{missing} \\\\\n",
       "\\end{tabular}\n"
      ],
      "text/plain": [
       "\u001b[1m5×6 DataFrame\u001b[0m\n",
       "\u001b[1m Row \u001b[0m│\u001b[1m id     \u001b[0m\u001b[1m ID_Bischof \u001b[0m\u001b[1m Vorname  \u001b[0m\u001b[1m Familienname \u001b[0m\u001b[1m Orden   \u001b[0m\u001b[1m religious_order_id \u001b[0m\n",
       "\u001b[1m     \u001b[0m│\u001b[90m Int32  \u001b[0m\u001b[90m Int64      \u001b[0m\u001b[90m String   \u001b[0m\u001b[90m String?      \u001b[0m\u001b[90m String? \u001b[0m\u001b[90m Int32?             \u001b[0m\n",
       "─────┼─────────────────────────────────────────────────────────────────────────\n",
       "   1 │ 476418        2985  Herbord  \u001b[90m missing      \u001b[0m OFM?    \u001b[90m            missing \u001b[0m\n",
       "   2 │ 476807        3248  Adolf     Tecklenburg   OCist?  \u001b[90m            missing \u001b[0m\n",
       "   3 │ 476935        3391  Wesselin \u001b[90m missing      \u001b[0m OCist?  \u001b[90m            missing \u001b[0m\n",
       "   4 │ 476960        3428  Rudolf    Hoheneck      OSB?    \u001b[90m            missing \u001b[0m\n",
       "   5 │ 476991        3459  Eskill   \u001b[90m missing      \u001b[0m OP?     \u001b[90m            missing \u001b[0m"
      ]
     },
     "execution_count": 103,
     "metadata": {},
     "output_type": "execute_result"
    }
   ],
   "source": [
    "df_episc_no_match[11:15, [:id, :ID_Bischof, :Vorname, :Familienname, :Orden, :religious_order_id]]"
   ]
  },
  {
   "cell_type": "code",
   "execution_count": 104,
   "metadata": {},
   "outputs": [
    {
     "data": {
      "text/plain": [
       "10-element Vector{Any}:\n",
       "                      :id\n",
       "            :Praefix => :prefixname\n",
       "            :Vorname => :givenname\n",
       "       :Familienname => :familyname\n",
       "        :Sterbedatum => :date_death\n",
       "       :Geburtsdatum => :date_birth\n",
       "      :Bemerkung_Red => :comment\n",
       "     :Kommentar_Name => :note_name\n",
       "   :Kommentar_Person => :note_person\n",
       " :religious_order_id => :religious_order_id"
      ]
     },
     "execution_count": 104,
     "metadata": {},
     "output_type": "execute_result"
    }
   ],
   "source": [
    "columns = [\n",
    "    :id,\n",
    "    :Praefix => :prefixname,\n",
    "    :Vorname => :givenname,\n",
    "    :Familienname => :familyname,\n",
    "    :Sterbedatum => :date_death,\n",
    "    :Geburtsdatum => :date_birth,\n",
    "    :Bemerkung_Red => :comment,\n",
    "    :Kommentar_Name => :note_name,\n",
    "    :Kommentar_Person => :note_person,\n",
    "    :religious_order_id => :religious_order_id,\n",
    "]"
   ]
  },
  {
   "cell_type": "markdown",
   "metadata": {},
   "source": [
    "### numerische Daten eintragen"
   ]
  },
  {
   "cell_type": "code",
   "execution_count": 105,
   "metadata": {},
   "outputs": [
    {
     "data": {
      "text/plain": [
       "parse_date_birth (generic function with 1 method)"
      ]
     },
     "execution_count": 105,
     "metadata": {},
     "output_type": "execute_result"
    }
   ],
   "source": [
    "parse_date_birth(s) = Wds.parsemaybe(s, :lower)"
   ]
  },
  {
   "cell_type": "code",
   "execution_count": 106,
   "metadata": {},
   "outputs": [
    {
     "data": {
      "text/plain": [
       "parse_date_death (generic function with 1 method)"
      ]
     },
     "execution_count": 106,
     "metadata": {},
     "output_type": "execute_result"
    }
   ],
   "source": [
    "parse_date_death(s) = Wds.parsemaybe(s, :upper)"
   ]
  },
  {
   "cell_type": "code",
   "execution_count": 107,
   "metadata": {},
   "outputs": [],
   "source": [
    "transform!(df_episc, :Geburtsdatum => ByRow(parse_date_birth) => :num_date_birth);"
   ]
  },
  {
   "cell_type": "code",
   "execution_count": 108,
   "metadata": {},
   "outputs": [],
   "source": [
    "transform!(df_episc, :Sterbedatum => ByRow(parse_date_death) => :num_date_death);"
   ]
  },
  {
   "cell_type": "code",
   "execution_count": 109,
   "metadata": {},
   "outputs": [
    {
     "data": {
      "text/html": [
       "<div class=\"data-frame\"><p>5 rows × 8 columns</p><table class=\"data-frame\"><thead><tr><th></th><th>id</th><th>id_in_source</th><th>ID_Bischof</th><th>Vorname</th><th>Praefix</th><th>Familienname</th><th>num_date_birth</th><th>num_date_death</th></tr><tr><th></th><th title=\"Int32\">Int32</th><th title=\"Union{Missing, String}\">String?</th><th title=\"Int64\">Int64</th><th title=\"String\">String</th><th title=\"Union{Missing, String}\">String?</th><th title=\"Union{Missing, String}\">String?</th><th title=\"Union{Missing, Int64}\">Int64?</th><th title=\"Union{Missing, Int64}\">Int64?</th></tr></thead><tbody><tr><th>1</th><td>479606</td><td>20546</td><td>20546</td><td>Martin</td><td><em>missing</em></td><td>Meurisse</td><td>1584</td><td>1644</td></tr><tr><th>2</th><td>479605</td><td>20548</td><td>20548</td><td>Johannes</td><td><em>missing</em></td><td>Meyer</td><td><em>missing</em></td><td>1522</td></tr><tr><th>3</th><td>479602</td><td>20552</td><td>20552</td><td>Godfried</td><td>van</td><td>Mierlo</td><td>1518</td><td>1587</td></tr><tr><th>4</th><td>479599</td><td>20559</td><td>20559</td><td>Valentin</td><td><em>missing</em></td><td>Mohr</td><td>1560</td><td>1608</td></tr><tr><th>5</th><td>479598</td><td>20561</td><td>20561</td><td>Laurentius Galatino</td><td><em>missing</em></td><td>Mongiojo</td><td><em>missing</em></td><td>1618</td></tr></tbody></table></div>"
      ],
      "text/latex": [
       "\\begin{tabular}{r|cccccccc}\n",
       "\t& id & id\\_in\\_source & ID\\_Bischof & Vorname & Praefix & Familienname & num\\_date\\_birth & num\\_date\\_death\\\\\n",
       "\t\\hline\n",
       "\t& Int32 & String? & Int64 & String & String? & String? & Int64? & Int64?\\\\\n",
       "\t\\hline\n",
       "\t1 & 479606 & 20546 & 20546 & Martin & \\emph{missing} & Meurisse & 1584 & 1644 \\\\\n",
       "\t2 & 479605 & 20548 & 20548 & Johannes & \\emph{missing} & Meyer & \\emph{missing} & 1522 \\\\\n",
       "\t3 & 479602 & 20552 & 20552 & Godfried & van & Mierlo & 1518 & 1587 \\\\\n",
       "\t4 & 479599 & 20559 & 20559 & Valentin & \\emph{missing} & Mohr & 1560 & 1608 \\\\\n",
       "\t5 & 479598 & 20561 & 20561 & Laurentius Galatino & \\emph{missing} & Mongiojo & \\emph{missing} & 1618 \\\\\n",
       "\\end{tabular}\n"
      ],
      "text/plain": [
       "\u001b[1m5×8 DataFrame\u001b[0m\n",
       "\u001b[1m Row \u001b[0m│\u001b[1m id     \u001b[0m\u001b[1m id_in_source \u001b[0m\u001b[1m ID_Bischof \u001b[0m\u001b[1m Vorname             \u001b[0m\u001b[1m Praefix \u001b[0m\u001b[1m Familienname \u001b[0m\u001b[1m num_date_birth \u001b[0m\u001b[1m num_date_death \u001b[0m\n",
       "\u001b[1m     \u001b[0m│\u001b[90m Int32  \u001b[0m\u001b[90m String?      \u001b[0m\u001b[90m Int64      \u001b[0m\u001b[90m String              \u001b[0m\u001b[90m String? \u001b[0m\u001b[90m String?      \u001b[0m\u001b[90m Int64?         \u001b[0m\u001b[90m Int64?         \u001b[0m\n",
       "─────┼──────────────────────────────────────────────────────────────────────────────────────────────────────────────\n",
       "   1 │ 479606  20546              20546  Martin              \u001b[90m missing \u001b[0m Meurisse                1584            1644\n",
       "   2 │ 479605  20548              20548  Johannes            \u001b[90m missing \u001b[0m Meyer        \u001b[90m        missing \u001b[0m           1522\n",
       "   3 │ 479602  20552              20552  Godfried             van      Mierlo                  1518            1587\n",
       "   4 │ 479599  20559              20559  Valentin            \u001b[90m missing \u001b[0m Mohr                    1560            1608\n",
       "   5 │ 479598  20561              20561  Laurentius Galatino \u001b[90m missing \u001b[0m Mongiojo     \u001b[90m        missing \u001b[0m           1618"
      ]
     },
     "execution_count": 109,
     "metadata": {},
     "output_type": "execute_result"
    }
   ],
   "source": [
    "df_episc[531:535, [:id, :id_in_source, :ID_Bischof, :Vorname, :Praefix, :Familienname, :num_date_birth, :num_date_death]]"
   ]
  },
  {
   "cell_type": "code",
   "execution_count": 110,
   "metadata": {},
   "outputs": [
    {
     "data": {
      "text/plain": [
       "20-element Vector{String}:\n",
       " \"id\"\n",
       " \"id_in_source\"\n",
       " \"ID_Bischof\"\n",
       " \"Eintrag RI OPAC\"\n",
       " \"Autoren Gatz\"\n",
       " \"Seite Gatz\"\n",
       " \"Praefix\"\n",
       " \"Vorname\"\n",
       " \"Familienname\"\n",
       " \"Sterbedatum\"\n",
       " \"Geburtsdatum\"\n",
       " \"Orden\"\n",
       " \"URL_Wikipedia\"\n",
       " \"Weitere Angaben\"\n",
       " \"fertig\"\n",
       " \"Bemerkung_Red\"\n",
       " \"Familienname_Variante\"\n",
       " \"Vorname_Varianten\"\n",
       " \"VIAF_ID\"\n",
       " \"GND_ID\""
      ]
     },
     "execution_count": 110,
     "metadata": {},
     "output_type": "execute_result"
    }
   ],
   "source": [
    "names(df_episc)[1:20]"
   ]
  },
  {
   "cell_type": "code",
   "execution_count": 111,
   "metadata": {},
   "outputs": [],
   "source": [
    "insertcols!(df_episc, :item_type_id => item_type_id);"
   ]
  },
  {
   "cell_type": "code",
   "execution_count": 112,
   "metadata": {},
   "outputs": [
    {
     "data": {
      "text/plain": [
       "11-element Vector{Pair{Symbol, Symbol}}:\n",
       "                 :id => :id\n",
       "       :item_type_id => :item_type_id\n",
       "            :Praefix => :prefixname\n",
       "            :Vorname => :givenname\n",
       "       :Familienname => :familyname\n",
       "        :Sterbedatum => :date_death\n",
       "       :Geburtsdatum => :date_birth\n",
       "      :Bemerkung_Red => :comment\n",
       "     :Kommentar_Name => :note_name\n",
       "   :Kommentar_Person => :note_person\n",
       " :religious_order_id => :religious_order_id"
      ]
     },
     "execution_count": 112,
     "metadata": {},
     "output_type": "execute_result"
    }
   ],
   "source": [
    "columns = [\n",
    "    :id => :id,\n",
    "    :item_type_id => :item_type_id,\n",
    "    :Praefix => :prefixname,\n",
    "    :Vorname => :givenname,\n",
    "    :Familienname => :familyname,\n",
    "    :Sterbedatum => :date_death,\n",
    "    :Geburtsdatum => :date_birth,\n",
    "    :Bemerkung_Red => :comment,\n",
    "    :Kommentar_Name => :note_name,\n",
    "    :Kommentar_Person => :note_person,\n",
    "    :religious_order_id => :religious_order_id,\n",
    "]"
   ]
  },
  {
   "cell_type": "code",
   "execution_count": 114,
   "metadata": {},
   "outputs": [
    {
     "name": "stderr",
     "output_type": "stream",
     "text": [
      "┌ Info: Rows inserted: 5171\n",
      "└ @ WiagDataSetup C:\\Users\\georg\\Documents\\projekte\\WiagDataSetup.jl\\src\\WiagDataSetup.jl:1216\n"
     ]
    },
    {
     "data": {
      "text/plain": [
       "5171"
      ]
     },
     "execution_count": 114,
     "metadata": {},
     "output_type": "execute_result"
    }
   ],
   "source": [
    "table_name = \"person\";\n",
    "Wds.filltable!(table_name, select(df_episc, columns))"
   ]
  },
  {
   "cell_type": "markdown",
   "metadata": {},
   "source": [
    "### Verweise für die einzelnen Bischöfe"
   ]
  },
  {
   "cell_type": "code",
   "execution_count": 115,
   "metadata": {},
   "outputs": [
    {
     "data": {
      "text/plain": [
       "4-element Vector{Pair{Symbol, Symbol}}:\n",
       "                  :id => :item_id\n",
       "        :item_type_id => :item_type_id\n",
       " Symbol(\"Seite Gatz\") => :page\n",
       "              :Quelle => :reference_id"
      ]
     },
     "execution_count": 115,
     "metadata": {},
     "output_type": "execute_result"
    }
   ],
   "source": [
    "columns = [\n",
    "    :id => :item_id,\n",
    "    :item_type_id => :item_type_id,\n",
    "    Symbol(\"Seite Gatz\") => :page,\n",
    "    :Quelle => :reference_id\n",
    "]"
   ]
  },
  {
   "cell_type": "code",
   "execution_count": 116,
   "metadata": {},
   "outputs": [],
   "source": [
    "df_episc_ref = select(df_episc, columns);"
   ]
  },
  {
   "cell_type": "code",
   "execution_count": 117,
   "metadata": {},
   "outputs": [
    {
     "data": {
      "text/plain": [
       "(5171, 4)"
      ]
     },
     "execution_count": 117,
     "metadata": {},
     "output_type": "execute_result"
    }
   ],
   "source": [
    "size(df_episc_ref)"
   ]
  },
  {
   "cell_type": "markdown",
   "metadata": {},
   "source": [
    "`21576 Ludovico Trevisan` hat keinen Verweis auf eine Quelle"
   ]
  },
  {
   "cell_type": "code",
   "execution_count": 118,
   "metadata": {},
   "outputs": [],
   "source": [
    "dropmissing!(df_episc_ref, :reference_id);"
   ]
  },
  {
   "cell_type": "code",
   "execution_count": 119,
   "metadata": {},
   "outputs": [
    {
     "data": {
      "text/plain": [
       "(5170, 4)"
      ]
     },
     "execution_count": 119,
     "metadata": {},
     "output_type": "execute_result"
    }
   ],
   "source": [
    "size(df_episc_ref)"
   ]
  },
  {
   "cell_type": "markdown",
   "metadata": {},
   "source": [
    "Einträge löschen im Fall von Korrekturen"
   ]
  },
  {
   "cell_type": "markdown",
   "metadata": {},
   "source": [
    "Einträge löschen für einen vollständigen neuen Satz"
   ]
  },
  {
   "cell_type": "code",
   "execution_count": 120,
   "metadata": {},
   "outputs": [
    {
     "data": {
      "text/plain": [
       "MySQL.TextCursor{true}(MySQL.Connection(host=\"127.0.0.1\", user=\"georg\", port=\"3306\", db=\"wiag2\"), \"DELETE FROM item_reference WHERE item_type_id = 4\", 0, -1, 0, MySQL.API.MYSQL_RES(Ptr{Nothing} @0x0000000000000000), Symbol[], Type[], Dict{Symbol, Int64}(), 0, 1, false)"
      ]
     },
     "execution_count": 120,
     "metadata": {},
     "output_type": "execute_result"
    }
   ],
   "source": [
    "sql = \"DELETE FROM item_reference WHERE item_type_id = $(item_type_id)\";\n",
    "DBInterface.execute(Wds.dbwiag, sql)"
   ]
  },
  {
   "cell_type": "code",
   "execution_count": 121,
   "metadata": {},
   "outputs": [
    {
     "name": "stderr",
     "output_type": "stream",
     "text": [
      "┌ Info: Rows inserted: 5170\n",
      "└ @ WiagDataSetup C:\\Users\\georg\\Documents\\projekte\\WiagDataSetup.jl\\src\\WiagDataSetup.jl:1216\n"
     ]
    },
    {
     "data": {
      "text/plain": [
       "5170"
      ]
     },
     "execution_count": 121,
     "metadata": {},
     "output_type": "execute_result"
    }
   ],
   "source": [
    "Wds.filltable!(\"item_reference\", df_episc_ref, clear_table = false)"
   ]
  },
  {
   "cell_type": "markdown",
   "metadata": {},
   "source": [
    "### Externe URLs eintragen"
   ]
  },
  {
   "cell_type": "code",
   "execution_count": 14,
   "metadata": {},
   "outputs": [],
   "source": [
    "using MySQL, DataFrames"
   ]
  },
  {
   "cell_type": "code",
   "execution_count": 80,
   "metadata": {},
   "outputs": [
    {
     "name": "stdout",
     "output_type": "stream",
     "text": [
      "Passwort für User georg: ········\n"
     ]
    },
    {
     "data": {
      "text/plain": [
       "MySQL.Connection(host=\"127.0.0.1\", user=\"georg\", port=\"3306\", db=\"wiag2\")"
      ]
     },
     "execution_count": 80,
     "metadata": {},
     "output_type": "execute_result"
    }
   ],
   "source": [
    "Wds.setDBWIAG(user = \"georg\", db = \"wiag2\")"
   ]
  },
  {
   "cell_type": "code",
   "execution_count": 81,
   "metadata": {},
   "outputs": [
    {
     "data": {
      "text/plain": [
       "4"
      ]
     },
     "execution_count": 81,
     "metadata": {},
     "output_type": "execute_result"
    }
   ],
   "source": [
    "item_type_id = 4"
   ]
  },
  {
   "cell_type": "markdown",
   "metadata": {},
   "source": [
    "Einträge löschen (für den Fall eines Fehlers oder für ein Update)"
   ]
  },
  {
   "cell_type": "code",
   "execution_count": 122,
   "metadata": {},
   "outputs": [
    {
     "data": {
      "text/plain": [
       "MySQL.TextCursor{true}(MySQL.Connection(host=\"127.0.0.1\", user=\"georg\", port=\"3306\", db=\"wiag2\"), \"DELETE FROM id_external WHERE item_id IN (SELECT id FROM item WHERE item_type_id = 4)\", 0, -1, 0, MySQL.API.MYSQL_RES(Ptr{Nothing} @0x0000000000000000), Symbol[], Type[], Dict{Symbol, Int64}(), 0, 1, false)"
      ]
     },
     "execution_count": 122,
     "metadata": {},
     "output_type": "execute_result"
    }
   ],
   "source": [
    "sql = \"DELETE FROM id_external \" *\n",
    "\"WHERE item_id IN (SELECT id FROM item WHERE item_type_id = $(item_type_id))\"\n",
    "DBInterface.execute(Wds.dbwiag, sql)"
   ]
  },
  {
   "cell_type": "code",
   "execution_count": 123,
   "metadata": {},
   "outputs": [
    {
     "data": {
      "text/html": [
       "<div class=\"data-frame\"><p>6 rows × 2 columns</p><table class=\"data-frame\"><thead><tr><th></th><th>id</th><th>url_name_formatter</th></tr><tr><th></th><th title=\"Int32\">Int32</th><th title=\"Union{Missing, String}\">String?</th></tr></thead><tbody><tr><th>1</th><td>1</td><td>Gemeinsame Normdatei (GND) ID</td></tr><tr><th>2</th><td>2</td><td>Wikidata</td></tr><tr><th>3</th><td>3</td><td>Wikipedia-Artikel</td></tr><tr><th>4</th><td>4</td><td>VIAF-ID</td></tr><tr><th>5</th><td>5</td><td>WIAG-ID</td></tr><tr><th>6</th><td>200</td><td>Personendatenbank der Germania Sacra</td></tr></tbody></table></div>"
      ],
      "text/latex": [
       "\\begin{tabular}{r|cc}\n",
       "\t& id & url\\_name\\_formatter\\\\\n",
       "\t\\hline\n",
       "\t& Int32 & String?\\\\\n",
       "\t\\hline\n",
       "\t1 & 1 & Gemeinsame Normdatei (GND) ID \\\\\n",
       "\t2 & 2 & Wikidata \\\\\n",
       "\t3 & 3 & Wikipedia-Artikel \\\\\n",
       "\t4 & 4 & VIAF-ID \\\\\n",
       "\t5 & 5 & WIAG-ID \\\\\n",
       "\t6 & 200 & Personendatenbank der Germania Sacra \\\\\n",
       "\\end{tabular}\n"
      ],
      "text/plain": [
       "\u001b[1m6×2 DataFrame\u001b[0m\n",
       "\u001b[1m Row \u001b[0m│\u001b[1m id    \u001b[0m\u001b[1m url_name_formatter                \u001b[0m\n",
       "\u001b[1m     \u001b[0m│\u001b[90m Int32 \u001b[0m\u001b[90m String?                           \u001b[0m\n",
       "─────┼──────────────────────────────────────────\n",
       "   1 │     1  Gemeinsame Normdatei (GND) ID\n",
       "   2 │     2  Wikidata\n",
       "   3 │     3  Wikipedia-Artikel\n",
       "   4 │     4  VIAF-ID\n",
       "   5 │     5  WIAG-ID\n",
       "   6 │   200  Personendatenbank der Germania S…"
      ]
     },
     "execution_count": 123,
     "metadata": {},
     "output_type": "execute_result"
    }
   ],
   "source": [
    "sql = \"SELECT id, url_name_formatter FROM authority \" *\n",
    "\"WHERE id IN (1, 2, 3, 4, 5, 200)\"\n",
    "df_auth = Wds.sql_df(sql)"
   ]
  },
  {
   "cell_type": "markdown",
   "metadata": {},
   "source": [
    "Index aus `item` lesen"
   ]
  },
  {
   "cell_type": "code",
   "execution_count": 124,
   "metadata": {},
   "outputs": [],
   "source": [
    "sql = \"SELECT id, id_in_source, is_online FROM item WHERE item_type_id = $(item_type_id)\"\n",
    "df_idx = Wds.sql_df(sql);"
   ]
  },
  {
   "cell_type": "code",
   "execution_count": 125,
   "metadata": {},
   "outputs": [
    {
     "data": {
      "text/plain": [
       "(5171, 3)"
      ]
     },
     "execution_count": 125,
     "metadata": {},
     "output_type": "execute_result"
    }
   ],
   "source": [
    "size(df_idx)"
   ]
  },
  {
   "cell_type": "markdown",
   "metadata": {},
   "source": [
    "Externe Ids aus den Quelldaten lesen  "
   ]
  },
  {
   "cell_type": "code",
   "execution_count": 19,
   "metadata": {},
   "outputs": [],
   "source": [
    "using CSV, DataFrames"
   ]
  },
  {
   "cell_type": "code",
   "execution_count": 126,
   "metadata": {},
   "outputs": [],
   "source": [
    "# Quelle CSV\n",
    "filename = joinpath(data_path, \"tbl_bischoefe_gatz.csv\");\n",
    "df_episc = CSV.read(filename, DataFrame);"
   ]
  },
  {
   "cell_type": "markdown",
   "metadata": {},
   "source": [
    "Spalte für die Zusammenführung befüllen (Typ: String!)"
   ]
  },
  {
   "cell_type": "code",
   "execution_count": 127,
   "metadata": {},
   "outputs": [],
   "source": [
    "transform!(df_episc, :ID_Bischof => ByRow(string) => :id_in_source);"
   ]
  },
  {
   "cell_type": "code",
   "execution_count": 128,
   "metadata": {},
   "outputs": [],
   "source": [
    "df_episc = innerjoin(df_idx, df_episc, on = :id_in_source);"
   ]
  },
  {
   "cell_type": "code",
   "execution_count": 129,
   "metadata": {},
   "outputs": [],
   "source": [
    "df_src = df_episc;"
   ]
  },
  {
   "cell_type": "code",
   "execution_count": 130,
   "metadata": {},
   "outputs": [],
   "source": [
    "Wds.clean_up!(df_src)"
   ]
  },
  {
   "cell_type": "markdown",
   "metadata": {},
   "source": [
    "**VIAF**, dann GND, Wikidata, GSN, Wikipedia"
   ]
  },
  {
   "cell_type": "code",
   "execution_count": 131,
   "metadata": {},
   "outputs": [
    {
     "data": {
      "text/plain": [
       "4"
      ]
     },
     "execution_count": 131,
     "metadata": {},
     "output_type": "execute_result"
    }
   ],
   "source": [
    "authority_id_viaf = 4 # siehe oben"
   ]
  },
  {
   "cell_type": "code",
   "execution_count": 132,
   "metadata": {},
   "outputs": [],
   "source": [
    "df_src_viaf = dropmissing(df_src, :VIAF_ID)\n",
    "df_src_viaf[!, :authority_id] .= authority_id_viaf;"
   ]
  },
  {
   "cell_type": "code",
   "execution_count": 133,
   "metadata": {},
   "outputs": [],
   "source": [
    "transform!(df_src_viaf, :VIAF_ID => ByRow(string) => :value);"
   ]
  },
  {
   "cell_type": "code",
   "execution_count": 134,
   "metadata": {},
   "outputs": [],
   "source": [
    "df_ins = select(df_src_viaf, :id => :item_id, :authority_id, :value);"
   ]
  },
  {
   "cell_type": "code",
   "execution_count": 135,
   "metadata": {},
   "outputs": [
    {
     "data": {
      "text/plain": [
       "(2972, 3)"
      ]
     },
     "execution_count": 135,
     "metadata": {},
     "output_type": "execute_result"
    }
   ],
   "source": [
    "size(df_ins)"
   ]
  },
  {
   "cell_type": "code",
   "execution_count": 136,
   "metadata": {},
   "outputs": [
    {
     "data": {
      "text/html": [
       "<div class=\"data-frame\"><p>5 rows × 3 columns</p><table class=\"data-frame\"><thead><tr><th></th><th>item_id</th><th>authority_id</th><th>value</th></tr><tr><th></th><th title=\"Int32\">Int32</th><th title=\"Int64\">Int64</th><th title=\"String\">String</th></tr></thead><tbody><tr><th>1</th><td>475791</td><td>4</td><td>80662679</td></tr><tr><th>2</th><td>475790</td><td>4</td><td>88289890</td></tr><tr><th>3</th><td>475788</td><td>4</td><td>80381290</td></tr><tr><th>4</th><td>475787</td><td>4</td><td>80644207</td></tr><tr><th>5</th><td>475786</td><td>4</td><td>86115392</td></tr></tbody></table></div>"
      ],
      "text/latex": [
       "\\begin{tabular}{r|ccc}\n",
       "\t& item\\_id & authority\\_id & value\\\\\n",
       "\t\\hline\n",
       "\t& Int32 & Int64 & String\\\\\n",
       "\t\\hline\n",
       "\t1 & 475791 & 4 & 80662679 \\\\\n",
       "\t2 & 475790 & 4 & 88289890 \\\\\n",
       "\t3 & 475788 & 4 & 80381290 \\\\\n",
       "\t4 & 475787 & 4 & 80644207 \\\\\n",
       "\t5 & 475786 & 4 & 86115392 \\\\\n",
       "\\end{tabular}\n"
      ],
      "text/plain": [
       "\u001b[1m5×3 DataFrame\u001b[0m\n",
       "\u001b[1m Row \u001b[0m│\u001b[1m item_id \u001b[0m\u001b[1m authority_id \u001b[0m\u001b[1m value    \u001b[0m\n",
       "\u001b[1m     \u001b[0m│\u001b[90m Int32   \u001b[0m\u001b[90m Int64        \u001b[0m\u001b[90m String   \u001b[0m\n",
       "─────┼─────────────────────────────────\n",
       "   1 │  475791             4  80662679\n",
       "   2 │  475790             4  88289890\n",
       "   3 │  475788             4  80381290\n",
       "   4 │  475787             4  80644207\n",
       "   5 │  475786             4  86115392"
      ]
     },
     "execution_count": 136,
     "metadata": {},
     "output_type": "execute_result"
    }
   ],
   "source": [
    "df_ins[301:305, :]"
   ]
  },
  {
   "cell_type": "code",
   "execution_count": 137,
   "metadata": {},
   "outputs": [
    {
     "name": "stderr",
     "output_type": "stream",
     "text": [
      "┌ Info: Rows inserted: 2972\n",
      "└ @ WiagDataSetup C:\\Users\\georg\\Documents\\projekte\\WiagDataSetup.jl\\src\\WiagDataSetup.jl:1216\n"
     ]
    },
    {
     "data": {
      "text/plain": [
       "2972"
      ]
     },
     "execution_count": 137,
     "metadata": {},
     "output_type": "execute_result"
    }
   ],
   "source": [
    "Wds.filltable!(\"id_external\", df_ins)"
   ]
  },
  {
   "cell_type": "markdown",
   "metadata": {},
   "source": [
    "**GND**"
   ]
  },
  {
   "cell_type": "code",
   "execution_count": 138,
   "metadata": {},
   "outputs": [
    {
     "data": {
      "text/plain": [
       "1"
      ]
     },
     "execution_count": 138,
     "metadata": {},
     "output_type": "execute_result"
    }
   ],
   "source": [
    "authority_id_gnd = 1 # siehe oben"
   ]
  },
  {
   "cell_type": "code",
   "execution_count": 139,
   "metadata": {},
   "outputs": [],
   "source": [
    "df_src_gnd = dropmissing(df_src, :GND_ID)\n",
    "df_src_gnd[!, :authority_id] .= authority_id_gnd;"
   ]
  },
  {
   "cell_type": "code",
   "execution_count": 140,
   "metadata": {},
   "outputs": [],
   "source": [
    "df_ins = select(df_src_gnd, :id => :item_id, :authority_id, :GND_ID => :value);"
   ]
  },
  {
   "cell_type": "code",
   "execution_count": 141,
   "metadata": {},
   "outputs": [
    {
     "data": {
      "text/plain": [
       "(2866, 3)"
      ]
     },
     "execution_count": 141,
     "metadata": {},
     "output_type": "execute_result"
    }
   ],
   "source": [
    "size(df_ins)"
   ]
  },
  {
   "cell_type": "code",
   "execution_count": 142,
   "metadata": {},
   "outputs": [
    {
     "data": {
      "text/html": [
       "<div class=\"data-frame\"><p>5 rows × 3 columns</p><table class=\"data-frame\"><thead><tr><th></th><th>item_id</th><th>authority_id</th><th>value</th></tr><tr><th></th><th title=\"Int32\">Int32</th><th title=\"Int64\">Int64</th><th title=\"String\">String</th></tr></thead><tbody><tr><th>1</th><td>475788</td><td>1</td><td>135952913</td></tr><tr><th>2</th><td>475787</td><td>1</td><td>136270425</td></tr><tr><th>3</th><td>475786</td><td>1</td><td>137954247</td></tr><tr><th>4</th><td>475785</td><td>1</td><td>106337751X</td></tr><tr><th>5</th><td>475784</td><td>1</td><td>138621497</td></tr></tbody></table></div>"
      ],
      "text/latex": [
       "\\begin{tabular}{r|ccc}\n",
       "\t& item\\_id & authority\\_id & value\\\\\n",
       "\t\\hline\n",
       "\t& Int32 & Int64 & String\\\\\n",
       "\t\\hline\n",
       "\t1 & 475788 & 1 & 135952913 \\\\\n",
       "\t2 & 475787 & 1 & 136270425 \\\\\n",
       "\t3 & 475786 & 1 & 137954247 \\\\\n",
       "\t4 & 475785 & 1 & 106337751X \\\\\n",
       "\t5 & 475784 & 1 & 138621497 \\\\\n",
       "\\end{tabular}\n"
      ],
      "text/plain": [
       "\u001b[1m5×3 DataFrame\u001b[0m\n",
       "\u001b[1m Row \u001b[0m│\u001b[1m item_id \u001b[0m\u001b[1m authority_id \u001b[0m\u001b[1m value      \u001b[0m\n",
       "\u001b[1m     \u001b[0m│\u001b[90m Int32   \u001b[0m\u001b[90m Int64        \u001b[0m\u001b[90m String     \u001b[0m\n",
       "─────┼───────────────────────────────────\n",
       "   1 │  475788             1  135952913\n",
       "   2 │  475787             1  136270425\n",
       "   3 │  475786             1  137954247\n",
       "   4 │  475785             1  106337751X\n",
       "   5 │  475784             1  138621497"
      ]
     },
     "execution_count": 142,
     "metadata": {},
     "output_type": "execute_result"
    }
   ],
   "source": [
    "df_ins[301:305, :]"
   ]
  },
  {
   "cell_type": "code",
   "execution_count": 143,
   "metadata": {},
   "outputs": [
    {
     "name": "stderr",
     "output_type": "stream",
     "text": [
      "┌ Info: Rows inserted: 2866\n",
      "└ @ WiagDataSetup C:\\Users\\georg\\Documents\\projekte\\WiagDataSetup.jl\\src\\WiagDataSetup.jl:1216\n"
     ]
    },
    {
     "data": {
      "text/plain": [
       "2866"
      ]
     },
     "execution_count": 143,
     "metadata": {},
     "output_type": "execute_result"
    }
   ],
   "source": [
    "Wds.filltable!(\"id_external\", df_ins)"
   ]
  },
  {
   "cell_type": "markdown",
   "metadata": {},
   "source": [
    "**Wikidata**"
   ]
  },
  {
   "cell_type": "code",
   "execution_count": 144,
   "metadata": {},
   "outputs": [
    {
     "data": {
      "text/plain": [
       "2"
      ]
     },
     "execution_count": 144,
     "metadata": {},
     "output_type": "execute_result"
    }
   ],
   "source": [
    "authority_id_wd = 2 # siehe oben"
   ]
  },
  {
   "cell_type": "code",
   "execution_count": 145,
   "metadata": {},
   "outputs": [],
   "source": [
    "df_src_wd = dropmissing(df_src, :Wikidata_ID)\n",
    "df_src_wd[!, :authority_id] .= authority_id_wd;"
   ]
  },
  {
   "cell_type": "code",
   "execution_count": 146,
   "metadata": {},
   "outputs": [],
   "source": [
    "df_ins = select(df_src_wd, :id => :item_id, :authority_id, :Wikidata_ID => :value);"
   ]
  },
  {
   "cell_type": "code",
   "execution_count": 147,
   "metadata": {},
   "outputs": [
    {
     "data": {
      "text/plain": [
       "(5171, 3)"
      ]
     },
     "execution_count": 147,
     "metadata": {},
     "output_type": "execute_result"
    }
   ],
   "source": [
    "size(df_ins)"
   ]
  },
  {
   "cell_type": "code",
   "execution_count": 148,
   "metadata": {},
   "outputs": [
    {
     "data": {
      "text/html": [
       "<div class=\"data-frame\"><p>5 rows × 3 columns</p><table class=\"data-frame\"><thead><tr><th></th><th>item_id</th><th>authority_id</th><th>value</th></tr><tr><th></th><th title=\"Int32\">Int32</th><th title=\"Int64\">Int64</th><th title=\"String\">String</th></tr></thead><tbody><tr><th>1</th><td>475418</td><td>2</td><td>Q55786070</td></tr><tr><th>2</th><td>475417</td><td>2</td><td>Q55803565</td></tr><tr><th>3</th><td>475416</td><td>2</td><td>Q1696813</td></tr><tr><th>4</th><td>475415</td><td>2</td><td>Q1696339</td></tr><tr><th>5</th><td>475414</td><td>2</td><td>Q97699216</td></tr></tbody></table></div>"
      ],
      "text/latex": [
       "\\begin{tabular}{r|ccc}\n",
       "\t& item\\_id & authority\\_id & value\\\\\n",
       "\t\\hline\n",
       "\t& Int32 & Int64 & String\\\\\n",
       "\t\\hline\n",
       "\t1 & 475418 & 2 & Q55786070 \\\\\n",
       "\t2 & 475417 & 2 & Q55803565 \\\\\n",
       "\t3 & 475416 & 2 & Q1696813 \\\\\n",
       "\t4 & 475415 & 2 & Q1696339 \\\\\n",
       "\t5 & 475414 & 2 & Q97699216 \\\\\n",
       "\\end{tabular}\n"
      ],
      "text/plain": [
       "\u001b[1m5×3 DataFrame\u001b[0m\n",
       "\u001b[1m Row \u001b[0m│\u001b[1m item_id \u001b[0m\u001b[1m authority_id \u001b[0m\u001b[1m value     \u001b[0m\n",
       "\u001b[1m     \u001b[0m│\u001b[90m Int32   \u001b[0m\u001b[90m Int64        \u001b[0m\u001b[90m String    \u001b[0m\n",
       "─────┼──────────────────────────────────\n",
       "   1 │  475418             2  Q55786070\n",
       "   2 │  475417             2  Q55803565\n",
       "   3 │  475416             2  Q1696813\n",
       "   4 │  475415             2  Q1696339\n",
       "   5 │  475414             2  Q97699216"
      ]
     },
     "execution_count": 148,
     "metadata": {},
     "output_type": "execute_result"
    }
   ],
   "source": [
    "df_ins[301:305, :]"
   ]
  },
  {
   "cell_type": "code",
   "execution_count": 149,
   "metadata": {},
   "outputs": [
    {
     "name": "stderr",
     "output_type": "stream",
     "text": [
      "┌ Info: Rows inserted: 5171\n",
      "└ @ WiagDataSetup C:\\Users\\georg\\Documents\\projekte\\WiagDataSetup.jl\\src\\WiagDataSetup.jl:1216\n"
     ]
    },
    {
     "data": {
      "text/plain": [
       "5171"
      ]
     },
     "execution_count": 149,
     "metadata": {},
     "output_type": "execute_result"
    }
   ],
   "source": [
    "Wds.filltable!(\"id_external\", df_ins)"
   ]
  },
  {
   "cell_type": "markdown",
   "metadata": {},
   "source": [
    "**GSN**"
   ]
  },
  {
   "cell_type": "code",
   "execution_count": 150,
   "metadata": {},
   "outputs": [
    {
     "data": {
      "text/plain": [
       "200"
      ]
     },
     "execution_count": 150,
     "metadata": {},
     "output_type": "execute_result"
    }
   ],
   "source": [
    "authority_id_gsn = 200 # siehe oben"
   ]
  },
  {
   "cell_type": "code",
   "execution_count": 151,
   "metadata": {},
   "outputs": [],
   "source": [
    "df_src_gsn = dropmissing(df_src, :GSN_ID)\n",
    "df_src_gsn[!, :authority_id] .= authority_id_gsn;"
   ]
  },
  {
   "cell_type": "code",
   "execution_count": 152,
   "metadata": {},
   "outputs": [
    {
     "data": {
      "text/plain": [
       "34-element Vector{String}:\n",
       " \"id\"\n",
       " \"id_in_source\"\n",
       " \"is_online\"\n",
       " \"ID_Bischof\"\n",
       " \"Eintrag RI OPAC\"\n",
       " \"Autoren Gatz\"\n",
       " \"Seite Gatz\"\n",
       " \"Praefix\"\n",
       " \"Vorname\"\n",
       " \"Familienname\"\n",
       " \"Sterbedatum\"\n",
       " \"Geburtsdatum\"\n",
       " \"Orden\"\n",
       " ⋮\n",
       " \"GSN_ID\"\n",
       " \"Kommentar_Name\"\n",
       " \"AkademischerTitel\"\n",
       " \"Kommentar_Person\"\n",
       " \"Quelle\"\n",
       " \"QRang_GND\"\n",
       " \"Qualitaet_GND\"\n",
       " \"QRang_GS\"\n",
       " \"Qualitaet_GS\"\n",
       " \"id_bischof_5\"\n",
       " \"WIAG_ID\"\n",
       " \"authority_id\""
      ]
     },
     "execution_count": 152,
     "metadata": {},
     "output_type": "execute_result"
    }
   ],
   "source": [
    "names(df_src_gsn)"
   ]
  },
  {
   "cell_type": "code",
   "execution_count": 153,
   "metadata": {},
   "outputs": [],
   "source": [
    "df_ins = select(df_src_gsn, :id => :item_id, :is_online, :id_in_source, :ID_Bischof, :Vorname, :Familienname, :authority_id, :GSN_ID => :GSN_ID);"
   ]
  },
  {
   "cell_type": "code",
   "execution_count": 49,
   "metadata": {},
   "outputs": [
    {
     "data": {
      "text/html": [
       "<div class=\"data-frame\"><p>5 rows × 8 columns</p><table class=\"data-frame\"><thead><tr><th></th><th>item_id</th><th>is_online</th><th>id_in_source</th><th>ID_Bischof</th><th>Vorname</th><th>Familienname</th><th>authority_id</th><th>GSN_ID</th></tr><tr><th></th><th title=\"Int32\">Int32</th><th title=\"Int8\">Int8</th><th title=\"String\">String</th><th title=\"Int64\">Int64</th><th title=\"String\">String</th><th title=\"Union{Missing, String}\">String?</th><th title=\"Int64\">Int64</th><th title=\"String\">String</th></tr></thead><tbody><tr><th>1</th><td>319010</td><td>1</td><td>2682</td><td>2682</td><td>Eckart</td><td>Pernegg</td><td>200</td><td>073-00230-001</td></tr><tr><th>2</th><td>319009</td><td>1</td><td>2683</td><td>2683</td><td>Friedrich</td><td><em>missing</em></td><td>200</td><td>073-00334-001</td></tr><tr><th>3</th><td>319007</td><td>1</td><td>2685</td><td>2685</td><td>Engelmar</td><td>Chrel</td><td>200</td><td>073-00259-001</td></tr><tr><th>4</th><td>319006</td><td>1</td><td>2686</td><td>2686</td><td>Johann</td><td>Ebser</td><td>200</td><td>073-00638-001</td></tr><tr><th>5</th><td>319003</td><td>1</td><td>2690</td><td>2690</td><td>Rudolf</td><td>Güttingen</td><td>200</td><td>023-02585-001</td></tr></tbody></table></div>"
      ],
      "text/latex": [
       "\\begin{tabular}{r|cccccccc}\n",
       "\t& item\\_id & is\\_online & id\\_in\\_source & ID\\_Bischof & Vorname & Familienname & authority\\_id & GSN\\_ID\\\\\n",
       "\t\\hline\n",
       "\t& Int32 & Int8 & String & Int64 & String & String? & Int64 & String\\\\\n",
       "\t\\hline\n",
       "\t1 & 319010 & 1 & 2682 & 2682 & Eckart & Pernegg & 200 & 073-00230-001 \\\\\n",
       "\t2 & 319009 & 1 & 2683 & 2683 & Friedrich & \\emph{missing} & 200 & 073-00334-001 \\\\\n",
       "\t3 & 319007 & 1 & 2685 & 2685 & Engelmar & Chrel & 200 & 073-00259-001 \\\\\n",
       "\t4 & 319006 & 1 & 2686 & 2686 & Johann & Ebser & 200 & 073-00638-001 \\\\\n",
       "\t5 & 319003 & 1 & 2690 & 2690 & Rudolf & Güttingen & 200 & 023-02585-001 \\\\\n",
       "\\end{tabular}\n"
      ],
      "text/plain": [
       "\u001b[1m5×8 DataFrame\u001b[0m\n",
       "\u001b[1m Row \u001b[0m│\u001b[1m item_id \u001b[0m\u001b[1m is_online \u001b[0m\u001b[1m id_in_source \u001b[0m\u001b[1m ID_Bischof \u001b[0m\u001b[1m Vorname   \u001b[0m\u001b[1m Familienname \u001b[0m\u001b[1m authority_id \u001b[0m\u001b[1m GSN_ID        \u001b[0m\n",
       "\u001b[1m     \u001b[0m│\u001b[90m Int32   \u001b[0m\u001b[90m Int8      \u001b[0m\u001b[90m String       \u001b[0m\u001b[90m Int64      \u001b[0m\u001b[90m String    \u001b[0m\u001b[90m String?      \u001b[0m\u001b[90m Int64        \u001b[0m\u001b[90m String        \u001b[0m\n",
       "─────┼────────────────────────────────────────────────────────────────────────────────────────────────────\n",
       "   1 │  319010          1  2682                2682  Eckart     Pernegg                200  073-00230-001\n",
       "   2 │  319009          1  2683                2683  Friedrich \u001b[90m missing      \u001b[0m          200  073-00334-001\n",
       "   3 │  319007          1  2685                2685  Engelmar   Chrel                  200  073-00259-001\n",
       "   4 │  319006          1  2686                2686  Johann     Ebser                  200  073-00638-001\n",
       "   5 │  319003          1  2690                2690  Rudolf     Güttingen              200  023-02585-001"
      ]
     },
     "execution_count": 49,
     "metadata": {},
     "output_type": "execute_result"
    }
   ],
   "source": [
    "df_ins[301:305, :]"
   ]
  },
  {
   "cell_type": "code",
   "execution_count": 154,
   "metadata": {},
   "outputs": [
    {
     "data": {
      "text/plain": [
       "(2143, 8)"
      ]
     },
     "execution_count": 154,
     "metadata": {},
     "output_type": "execute_result"
    }
   ],
   "source": [
    "size(df_ins)"
   ]
  },
  {
   "cell_type": "markdown",
   "metadata": {},
   "source": [
    "Finde die jeweils gültige GSN."
   ]
  },
  {
   "cell_type": "code",
   "execution_count": 155,
   "metadata": {},
   "outputs": [
    {
     "data": {
      "text/plain": [
       "\"gso_in_202210\""
      ]
     },
     "execution_count": 155,
     "metadata": {},
     "output_type": "execute_result"
    }
   ],
   "source": [
    "gso_db = \"gso_in_202210\""
   ]
  },
  {
   "cell_type": "code",
   "execution_count": 156,
   "metadata": {},
   "outputs": [],
   "source": [
    "# gsn_gsn wird erzeugt aus gsn, siehe notebook Domherr-GS\n",
    "sql = \"SELECT id_new AS gs_gsn_id, nummer, nummer_neu\n",
    "FROM $(gso_db).gsn_gsn\";\n",
    "df_gsn_gsn = Wds.sql_df(sql);"
   ]
  },
  {
   "cell_type": "code",
   "execution_count": 157,
   "metadata": {},
   "outputs": [
    {
     "data": {
      "text/plain": [
       "8-element Vector{String}:\n",
       " \"item_id\"\n",
       " \"is_online\"\n",
       " \"id_in_source\"\n",
       " \"ID_Bischof\"\n",
       " \"Vorname\"\n",
       " \"Familienname\"\n",
       " \"authority_id\"\n",
       " \"GSN_ID\""
      ]
     },
     "execution_count": 157,
     "metadata": {},
     "output_type": "execute_result"
    }
   ],
   "source": [
    "names(df_ins)"
   ]
  },
  {
   "cell_type": "code",
   "execution_count": 158,
   "metadata": {},
   "outputs": [],
   "source": [
    "df_ins_gsn = innerjoin(df_ins, df_gsn_gsn, on = :GSN_ID => :nummer);"
   ]
  },
  {
   "cell_type": "code",
   "execution_count": 159,
   "metadata": {},
   "outputs": [],
   "source": [
    "df_new_gsn = subset(df_ins_gsn, [:nummer_new, :GSN_ID] => ByRow(!isequal));"
   ]
  },
  {
   "cell_type": "code",
   "execution_count": 160,
   "metadata": {},
   "outputs": [
    {
     "data": {
      "text/html": [
       "<div class=\"data-frame\"><p>1 rows × 10 columns</p><table class=\"data-frame\"><thead><tr><th></th><th>item_id</th><th>is_online</th><th>id_in_source</th><th>ID_Bischof</th><th>Vorname</th><th>Familienname</th><th>authority_id</th><th>GSN_ID</th><th>gs_gsn_id</th><th>nummer_new</th></tr><tr><th></th><th title=\"Int32\">Int32</th><th title=\"Int8\">Int8</th><th title=\"String\">String</th><th title=\"Int64\">Int64</th><th title=\"String\">String</th><th title=\"Union{Missing, String}\">String?</th><th title=\"Int64\">Int64</th><th title=\"String\">String</th><th title=\"Int32\">Int32</th><th title=\"String\">String</th></tr></thead><tbody><tr><th>1</th><td>479689</td><td>1</td><td>20711</td><td>20711</td><td>Johannes</td><td>Schneider</td><td>200</td><td>026-04306-001</td><td>384710</td><td>066-04915-001</td></tr></tbody></table></div>"
      ],
      "text/latex": [
       "\\begin{tabular}{r|cccccccccc}\n",
       "\t& item\\_id & is\\_online & id\\_in\\_source & ID\\_Bischof & Vorname & Familienname & authority\\_id & GSN\\_ID & gs\\_gsn\\_id & nummer\\_new\\\\\n",
       "\t\\hline\n",
       "\t& Int32 & Int8 & String & Int64 & String & String? & Int64 & String & Int32 & String\\\\\n",
       "\t\\hline\n",
       "\t1 & 479689 & 1 & 20711 & 20711 & Johannes & Schneider & 200 & 026-04306-001 & 384710 & 066-04915-001 \\\\\n",
       "\\end{tabular}\n"
      ],
      "text/plain": [
       "\u001b[1m1×10 DataFrame\u001b[0m\n",
       "\u001b[1m Row \u001b[0m│\u001b[1m item_id \u001b[0m\u001b[1m is_online \u001b[0m\u001b[1m id_in_source \u001b[0m\u001b[1m ID_Bischof \u001b[0m\u001b[1m Vorname  \u001b[0m\u001b[1m Familienname \u001b[0m\u001b[1m authority_id \u001b[0m\u001b[1m GSN_ID        \u001b[0m\u001b[1m gs_gsn_id \u001b[0m\u001b[1m n\u001b[0m ⋯\n",
       "\u001b[1m     \u001b[0m│\u001b[90m Int32   \u001b[0m\u001b[90m Int8      \u001b[0m\u001b[90m String       \u001b[0m\u001b[90m Int64      \u001b[0m\u001b[90m String   \u001b[0m\u001b[90m String?      \u001b[0m\u001b[90m Int64        \u001b[0m\u001b[90m String        \u001b[0m\u001b[90m Int32     \u001b[0m\u001b[90m S\u001b[0m ⋯\n",
       "─────┼──────────────────────────────────────────────────────────────────────────────────────────────────────────────────\n",
       "   1 │  479689          1  20711              20711  Johannes  Schneider              200  026-04306-001     384710  0 ⋯\n",
       "\u001b[36m                                                                                                        1 column omitted\u001b[0m"
      ]
     },
     "execution_count": 160,
     "metadata": {},
     "output_type": "execute_result"
    }
   ],
   "source": [
    "df_new_gsn"
   ]
  },
  {
   "cell_type": "markdown",
   "metadata": {},
   "source": [
    "Ausgabe für die Redaktion"
   ]
  },
  {
   "cell_type": "code",
   "execution_count": 161,
   "metadata": {},
   "outputs": [],
   "source": [
    "df_gsn_new_gsn = subset(df_gsn_gsn, [:nummer, :nummer_new] => ByRow(!isequal));"
   ]
  },
  {
   "cell_type": "code",
   "execution_count": 60,
   "metadata": {},
   "outputs": [
    {
     "data": {
      "text/plain": [
       "\"C:\\\\Users\\\\georg\\\\Documents\\\\projekte-doc\\\\WIAGweb2\\\\data\\\\gso_gsn_neu_2022-07-26.csv\""
      ]
     },
     "execution_count": 60,
     "metadata": {},
     "output_type": "execute_result"
    }
   ],
   "source": [
    "out_path = \"C:\\\\Users\\\\georg\\\\Documents\\\\projekte-doc\\\\WIAGweb2\\\\data\";\n",
    "filename = joinpath(out_path, \"gso_gsn_neu_2022-07-26.csv\");\n",
    "CSV.write(filename, df_gsn_new_gsn, delim = \";\")"
   ]
  },
  {
   "cell_type": "code",
   "execution_count": 162,
   "metadata": {},
   "outputs": [
    {
     "data": {
      "text/plain": [
       "10-element Vector{String}:\n",
       " \"item_id\"\n",
       " \"is_online\"\n",
       " \"id_in_source\"\n",
       " \"ID_Bischof\"\n",
       " \"Vorname\"\n",
       " \"Familienname\"\n",
       " \"authority_id\"\n",
       " \"GSN_ID\"\n",
       " \"gs_gsn_id\"\n",
       " \"nummer_new\""
      ]
     },
     "execution_count": 162,
     "metadata": {},
     "output_type": "execute_result"
    }
   ],
   "source": [
    "names(df_new_gsn)"
   ]
  },
  {
   "cell_type": "code",
   "execution_count": 163,
   "metadata": {
    "scrolled": true
   },
   "outputs": [
    {
     "data": {
      "text/plain": [
       "7-element Vector{Pair{Symbol, Symbol}}:\n",
       "      :item_id => :id\n",
       "    :is_online => :is_online\n",
       "   :ID_Bischof => :ID_Bischof\n",
       "      :Vorname => :Vorname\n",
       " :Familienname => :Familienname\n",
       "       :GSN_ID => :GSN_ID\n",
       "   :nummer_new => :GSN_ID_neu"
      ]
     },
     "execution_count": 163,
     "metadata": {},
     "output_type": "execute_result"
    }
   ],
   "source": [
    "columns = [\n",
    "    :item_id => :id,\n",
    "    :is_online => :is_online,\n",
    "    :ID_Bischof => :ID_Bischof,\n",
    "    :Vorname => :Vorname,\n",
    "    :Familienname => :Familienname,\n",
    "    :GSN_ID => :GSN_ID,\n",
    "    :nummer_new => :GSN_ID_neu,\n",
    "]"
   ]
  },
  {
   "cell_type": "code",
   "execution_count": 63,
   "metadata": {},
   "outputs": [
    {
     "data": {
      "text/plain": [
       "\"C:\\\\Users\\\\georg\\\\Documents\\\\projekte-doc\\\\WIAGweb2\\\\data\\\\bischoefe_gsn_neu_2022-07-26.csv\""
      ]
     },
     "execution_count": 63,
     "metadata": {},
     "output_type": "execute_result"
    }
   ],
   "source": [
    "out_path = \"C:\\\\Users\\\\georg\\\\Documents\\\\projekte-doc\\\\WIAGweb2\\\\data\";\n",
    "filename = joinpath(out_path, \"bischoefe_gsn_neu_2022-07-26.csv\");\n",
    "CSV.write(filename, select(df_new_gsn, columns), delim = \";\")"
   ]
  },
  {
   "cell_type": "markdown",
   "metadata": {},
   "source": [
    "begin Version ohne `gsn_gsn`"
   ]
  },
  {
   "cell_type": "code",
   "execution_count": 107,
   "metadata": {},
   "outputs": [],
   "source": [
    "sql = \"SELECT id AS gs_gsn_id, item_id AS gs_item_id, nummer\n",
    "FROM $(gso_db).gsn WHERE NOT deleted\";\n",
    "df_gsn = Wds.sql_df(sql);"
   ]
  },
  {
   "cell_type": "code",
   "execution_count": 108,
   "metadata": {},
   "outputs": [],
   "source": [
    "df_ins = innerjoin(df_ins, df_gsn, on = :GSN_ID => :nummer);"
   ]
  },
  {
   "cell_type": "code",
   "execution_count": 109,
   "metadata": {},
   "outputs": [
    {
     "data": {
      "text/plain": [
       "(2116, 5)"
      ]
     },
     "execution_count": 109,
     "metadata": {},
     "output_type": "execute_result"
    }
   ],
   "source": [
    "size(df_ins)"
   ]
  },
  {
   "cell_type": "code",
   "execution_count": 110,
   "metadata": {
    "scrolled": true
   },
   "outputs": [
    {
     "data": {
      "text/plain": [
       "5-element Vector{String}:\n",
       " \"item_id\"\n",
       " \"authority_id\"\n",
       " \"GSN_ID\"\n",
       " \"gs_gsn_id\"\n",
       " \"gs_item_id\""
      ]
     },
     "execution_count": 110,
     "metadata": {},
     "output_type": "execute_result"
    }
   ],
   "source": [
    "names(df_ins)"
   ]
  },
  {
   "cell_type": "code",
   "execution_count": 111,
   "metadata": {},
   "outputs": [],
   "source": [
    "sql = \"SELECT id AS gs_gsn_min_id, item_id AS gs_item_id, nummer as nummer_new\n",
    "FROM $(gso_db).gsn WHERE id IN\n",
    "(SELECT min(id) AS id FROM $(gso_db).gsn WHERE NOT deleted GROUP BY item_id)\";\n",
    "df_gsn_min_id = Wds.sql_df(sql);"
   ]
  },
  {
   "cell_type": "code",
   "execution_count": 112,
   "metadata": {},
   "outputs": [],
   "source": [
    "df_ins_gsn = innerjoin(df_ins, df_gsn_min_id, on = :gs_item_id);"
   ]
  },
  {
   "cell_type": "code",
   "execution_count": 113,
   "metadata": {},
   "outputs": [],
   "source": [
    "size(df_ins_gsn);"
   ]
  },
  {
   "cell_type": "code",
   "execution_count": 114,
   "metadata": {},
   "outputs": [
    {
     "data": {
      "text/html": [
       "<div class=\"data-frame\"><p>20 rows × 7 columns</p><table class=\"data-frame\"><thead><tr><th></th><th>item_id</th><th>authority_id</th><th>GSN_ID</th><th>gs_gsn_id</th><th>gs_item_id</th><th>gs_gsn_min_id</th><th>nummer</th></tr><tr><th></th><th title=\"Int32\">Int32</th><th title=\"Int64\">Int64</th><th title=\"String\">String</th><th title=\"Int32\">Int32</th><th title=\"Int32\">Int32</th><th title=\"Int32\">Int32</th><th title=\"String\">String</th></tr></thead><tbody><tr><th>1</th><td>269083</td><td>200</td><td>054-01029-001</td><td>381707</td><td>337203</td><td>381706</td><td>082-01201-001</td></tr><tr><th>2</th><td>266792</td><td>200</td><td>014-00019-001</td><td>374583</td><td>332349</td><td>374582</td><td>074-00028-001</td></tr><tr><th>3</th><td>268543</td><td>200</td><td>054-00081-001</td><td>371253</td><td>331313</td><td>371252</td><td>082-01197-001</td></tr><tr><th>4</th><td>268531</td><td>200</td><td>054-00426-001</td><td>371258</td><td>331314</td><td>371257</td><td>082-01198-001</td></tr><tr><th>5</th><td>268865</td><td>200</td><td>054-00011-001</td><td>371264</td><td>331315</td><td>371263</td><td>082-01199-001</td></tr><tr><th>6</th><td>268464</td><td>200</td><td>054-00903-001</td><td>371271</td><td>331316</td><td>371270</td><td>082-01200-001</td></tr><tr><th>7</th><td>268455</td><td>200</td><td>054-00838-001</td><td>372266</td><td>331444</td><td>372265</td><td>082-00257-001</td></tr><tr><th>8</th><td>269271</td><td>200</td><td>052-01174-001</td><td>372320</td><td>331454</td><td>372319</td><td>082-00567-001</td></tr><tr><th>9</th><td>268607</td><td>200</td><td>072-01045-001</td><td>372339</td><td>331460</td><td>372338</td><td>082-00613-001</td></tr><tr><th>10</th><td>268639</td><td>200</td><td>076-00822-001</td><td>372360</td><td>331467</td><td>372359</td><td>082-00670-001</td></tr><tr><th>11</th><td>267849</td><td>200</td><td>076-00344-001</td><td>372374</td><td>331471</td><td>372373</td><td>082-00713-001</td></tr><tr><th>12</th><td>268671</td><td>200</td><td>054-01558-001</td><td>372400</td><td>331479</td><td>372399</td><td>082-00762-001</td></tr><tr><th>13</th><td>268490</td><td>200</td><td>062-00327-001</td><td>372412</td><td>331482</td><td>372411</td><td>082-00777-001</td></tr><tr><th>14</th><td>267744</td><td>200</td><td>064-01576-001</td><td>372522</td><td>331495</td><td>372521</td><td>082-00921-001</td></tr><tr><th>15</th><td>269085</td><td>200</td><td>062-00689-001</td><td>372587</td><td>331505</td><td>372586</td><td>082-00872-001</td></tr><tr><th>16</th><td>269434</td><td>200</td><td>068-01710-001</td><td>372610</td><td>331507</td><td>372609</td><td>082-00893-001</td></tr><tr><th>17</th><td>268833</td><td>200</td><td>052-01500-001</td><td>372624</td><td>331510</td><td>372623</td><td>082-00902-001</td></tr><tr><th>18</th><td>268816</td><td>200</td><td>072-00980-001</td><td>372638</td><td>331515</td><td>372637</td><td>082-00915-001</td></tr><tr><th>19</th><td>267748</td><td>200</td><td>062-00326-001</td><td>372646</td><td>331517</td><td>372645</td><td>082-00917-001</td></tr><tr><th>20</th><td>269077</td><td>200</td><td>052-02727-001</td><td>372689</td><td>331525</td><td>372688</td><td>054-03037-001</td></tr></tbody></table></div>"
      ],
      "text/latex": [
       "\\begin{tabular}{r|ccccccc}\n",
       "\t& item\\_id & authority\\_id & GSN\\_ID & gs\\_gsn\\_id & gs\\_item\\_id & gs\\_gsn\\_min\\_id & nummer\\\\\n",
       "\t\\hline\n",
       "\t& Int32 & Int64 & String & Int32 & Int32 & Int32 & String\\\\\n",
       "\t\\hline\n",
       "\t1 & 269083 & 200 & 054-01029-001 & 381707 & 337203 & 381706 & 082-01201-001 \\\\\n",
       "\t2 & 266792 & 200 & 014-00019-001 & 374583 & 332349 & 374582 & 074-00028-001 \\\\\n",
       "\t3 & 268543 & 200 & 054-00081-001 & 371253 & 331313 & 371252 & 082-01197-001 \\\\\n",
       "\t4 & 268531 & 200 & 054-00426-001 & 371258 & 331314 & 371257 & 082-01198-001 \\\\\n",
       "\t5 & 268865 & 200 & 054-00011-001 & 371264 & 331315 & 371263 & 082-01199-001 \\\\\n",
       "\t6 & 268464 & 200 & 054-00903-001 & 371271 & 331316 & 371270 & 082-01200-001 \\\\\n",
       "\t7 & 268455 & 200 & 054-00838-001 & 372266 & 331444 & 372265 & 082-00257-001 \\\\\n",
       "\t8 & 269271 & 200 & 052-01174-001 & 372320 & 331454 & 372319 & 082-00567-001 \\\\\n",
       "\t9 & 268607 & 200 & 072-01045-001 & 372339 & 331460 & 372338 & 082-00613-001 \\\\\n",
       "\t10 & 268639 & 200 & 076-00822-001 & 372360 & 331467 & 372359 & 082-00670-001 \\\\\n",
       "\t11 & 267849 & 200 & 076-00344-001 & 372374 & 331471 & 372373 & 082-00713-001 \\\\\n",
       "\t12 & 268671 & 200 & 054-01558-001 & 372400 & 331479 & 372399 & 082-00762-001 \\\\\n",
       "\t13 & 268490 & 200 & 062-00327-001 & 372412 & 331482 & 372411 & 082-00777-001 \\\\\n",
       "\t14 & 267744 & 200 & 064-01576-001 & 372522 & 331495 & 372521 & 082-00921-001 \\\\\n",
       "\t15 & 269085 & 200 & 062-00689-001 & 372587 & 331505 & 372586 & 082-00872-001 \\\\\n",
       "\t16 & 269434 & 200 & 068-01710-001 & 372610 & 331507 & 372609 & 082-00893-001 \\\\\n",
       "\t17 & 268833 & 200 & 052-01500-001 & 372624 & 331510 & 372623 & 082-00902-001 \\\\\n",
       "\t18 & 268816 & 200 & 072-00980-001 & 372638 & 331515 & 372637 & 082-00915-001 \\\\\n",
       "\t19 & 267748 & 200 & 062-00326-001 & 372646 & 331517 & 372645 & 082-00917-001 \\\\\n",
       "\t20 & 269077 & 200 & 052-02727-001 & 372689 & 331525 & 372688 & 054-03037-001 \\\\\n",
       "\\end{tabular}\n"
      ],
      "text/plain": [
       "\u001b[1m20×7 DataFrame\u001b[0m\n",
       "\u001b[1m Row \u001b[0m│\u001b[1m item_id \u001b[0m\u001b[1m authority_id \u001b[0m\u001b[1m GSN_ID        \u001b[0m\u001b[1m gs_gsn_id \u001b[0m\u001b[1m gs_item_id \u001b[0m\u001b[1m gs_gsn_min_id \u001b[0m\u001b[1m nummer        \u001b[0m\n",
       "\u001b[1m     \u001b[0m│\u001b[90m Int32   \u001b[0m\u001b[90m Int64        \u001b[0m\u001b[90m String        \u001b[0m\u001b[90m Int32     \u001b[0m\u001b[90m Int32      \u001b[0m\u001b[90m Int32         \u001b[0m\u001b[90m String        \u001b[0m\n",
       "─────┼───────────────────────────────────────────────────────────────────────────────────────────\n",
       "   1 │  269083           200  054-01029-001     381707      337203         381706  082-01201-001\n",
       "   2 │  266792           200  014-00019-001     374583      332349         374582  074-00028-001\n",
       "   3 │  268543           200  054-00081-001     371253      331313         371252  082-01197-001\n",
       "   4 │  268531           200  054-00426-001     371258      331314         371257  082-01198-001\n",
       "   5 │  268865           200  054-00011-001     371264      331315         371263  082-01199-001\n",
       "   6 │  268464           200  054-00903-001     371271      331316         371270  082-01200-001\n",
       "   7 │  268455           200  054-00838-001     372266      331444         372265  082-00257-001\n",
       "   8 │  269271           200  052-01174-001     372320      331454         372319  082-00567-001\n",
       "   9 │  268607           200  072-01045-001     372339      331460         372338  082-00613-001\n",
       "  10 │  268639           200  076-00822-001     372360      331467         372359  082-00670-001\n",
       "  11 │  267849           200  076-00344-001     372374      331471         372373  082-00713-001\n",
       "  12 │  268671           200  054-01558-001     372400      331479         372399  082-00762-001\n",
       "  13 │  268490           200  062-00327-001     372412      331482         372411  082-00777-001\n",
       "  14 │  267744           200  064-01576-001     372522      331495         372521  082-00921-001\n",
       "  15 │  269085           200  062-00689-001     372587      331505         372586  082-00872-001\n",
       "  16 │  269434           200  068-01710-001     372610      331507         372609  082-00893-001\n",
       "  17 │  268833           200  052-01500-001     372624      331510         372623  082-00902-001\n",
       "  18 │  268816           200  072-00980-001     372638      331515         372637  082-00915-001\n",
       "  19 │  267748           200  062-00326-001     372646      331517         372645  082-00917-001\n",
       "  20 │  269077           200  052-02727-001     372689      331525         372688  054-03037-001"
      ]
     },
     "execution_count": 114,
     "metadata": {},
     "output_type": "execute_result"
    }
   ],
   "source": [
    "df_new_gsn = subset(df_ins_gsn, [:GSN_ID, :nummer_new] => ByRow(!isequal))"
   ]
  },
  {
   "cell_type": "markdown",
   "metadata": {},
   "source": [
    "end Version ohne `gsn_gsn`"
   ]
  },
  {
   "cell_type": "code",
   "execution_count": 164,
   "metadata": {},
   "outputs": [
    {
     "data": {
      "text/plain": [
       "3-element Vector{Pair{Symbol, Symbol}}:\n",
       "      :item_id => :item_id\n",
       " :authority_id => :authority_id\n",
       "   :nummer_new => :value"
      ]
     },
     "execution_count": 164,
     "metadata": {},
     "output_type": "execute_result"
    }
   ],
   "source": [
    "columns = [\n",
    "    :item_id => :item_id,\n",
    "    :authority_id => :authority_id,\n",
    "    :nummer_new => :value\n",
    "]"
   ]
  },
  {
   "cell_type": "code",
   "execution_count": 165,
   "metadata": {},
   "outputs": [
    {
     "name": "stderr",
     "output_type": "stream",
     "text": [
      "┌ Info: Rows inserted: 2143\n",
      "└ @ WiagDataSetup C:\\Users\\georg\\Documents\\projekte\\WiagDataSetup.jl\\src\\WiagDataSetup.jl:1216\n"
     ]
    },
    {
     "data": {
      "text/plain": [
       "2143"
      ]
     },
     "execution_count": 165,
     "metadata": {},
     "output_type": "execute_result"
    }
   ],
   "source": [
    "Wds.filltable!(\"id_external\", select(df_ins_gsn, columns))"
   ]
  },
  {
   "cell_type": "markdown",
   "metadata": {},
   "source": [
    "**Wikipedia**"
   ]
  },
  {
   "cell_type": "code",
   "execution_count": 166,
   "metadata": {},
   "outputs": [
    {
     "data": {
      "text/plain": [
       "3"
      ]
     },
     "execution_count": 166,
     "metadata": {},
     "output_type": "execute_result"
    }
   ],
   "source": [
    "authority_id_wp = 3 # siehe oben"
   ]
  },
  {
   "cell_type": "code",
   "execution_count": 167,
   "metadata": {},
   "outputs": [],
   "source": [
    "df_src_wp = dropmissing(df_src, :URL_Wikipedia)\n",
    "df_src_wp[!, :authority_id] .= authority_id_wp;"
   ]
  },
  {
   "cell_type": "code",
   "execution_count": 168,
   "metadata": {},
   "outputs": [],
   "source": [
    "df_ins = select(df_src_wp, :id => :item_id, :authority_id, :URL_Wikipedia => :value);"
   ]
  },
  {
   "cell_type": "markdown",
   "metadata": {},
   "source": [
    "Die Wikipedia-URLs sind teilweise mit '#' versehen und doppelt  \n",
    "#https://de.wikipedia.org/wiki/Ruprecht_von_der_Pfalz_%28Freising%29#https://de.wikipedia.org/wiki/Ruprecht_von_der_Pfalz_%28Freising%29#"
   ]
  },
  {
   "cell_type": "code",
   "execution_count": 169,
   "metadata": {},
   "outputs": [
    {
     "data": {
      "text/plain": [
       "\"Ruprecht_von_der_Pfalz_%28Freising%29\""
      ]
     },
     "execution_count": 169,
     "metadata": {},
     "output_type": "execute_result"
    }
   ],
   "source": [
    "url_m = \"#https://de.wikipedia.org/wiki/Ruprecht_von_der_Pfalz_%28Freising%29#https://de.wikipedia.org/wiki/Ruprecht_von_der_Pfalz_%28Freising%29#\"\n",
    "Wds.fix_Wikipedia_URL(url_m)"
   ]
  },
  {
   "cell_type": "code",
   "execution_count": 170,
   "metadata": {},
   "outputs": [],
   "source": [
    "df_ins[!, :value] .= Wds.fix_Wikipedia_URL.(df_ins[!, :value]);"
   ]
  },
  {
   "cell_type": "code",
   "execution_count": 171,
   "metadata": {
    "scrolled": true
   },
   "outputs": [
    {
     "data": {
      "text/html": [
       "<div class=\"data-frame\"><p>5 rows × 3 columns</p><table class=\"data-frame\"><thead><tr><th></th><th>item_id</th><th>authority_id</th><th>value</th></tr><tr><th></th><th title=\"Int32\">Int32</th><th title=\"Int64\">Int64</th><th title=\"SubString{String}\">SubStri…</th></tr></thead><tbody><tr><th>1</th><td>475742</td><td>3</td><td>Lamprecht_von_Brunn</td></tr><tr><th>2</th><td>475741</td><td>3</td><td>Albrecht_von_Wertheim</td></tr><tr><th>3</th><td>475740</td><td>3</td><td>Friedrich_III._von_Aufse%C3%9F</td></tr><tr><th>4</th><td>475739</td><td>3</td><td>L%C3%BCthold_II._von_R%C3%B6tteln_(Bischof_von_Basel)</td></tr><tr><th>5</th><td>475738</td><td>3</td><td>L%C3%BCthold_von_Aarburg</td></tr></tbody></table></div>"
      ],
      "text/latex": [
       "\\begin{tabular}{r|ccc}\n",
       "\t& item\\_id & authority\\_id & value\\\\\n",
       "\t\\hline\n",
       "\t& Int32 & Int64 & SubStri…\\\\\n",
       "\t\\hline\n",
       "\t1 & 475742 & 3 & Lamprecht\\_von\\_Brunn \\\\\n",
       "\t2 & 475741 & 3 & Albrecht\\_von\\_Wertheim \\\\\n",
       "\t3 & 475740 & 3 & Friedrich\\_III.\\_von\\_Aufse\\%C3\\%9F \\\\\n",
       "\t4 & 475739 & 3 & L\\%C3\\%BCthold\\_II.\\_von\\_R\\%C3\\%B6tteln\\_(Bischof\\_von\\_Basel) \\\\\n",
       "\t5 & 475738 & 3 & L\\%C3\\%BCthold\\_von\\_Aarburg \\\\\n",
       "\\end{tabular}\n"
      ],
      "text/plain": [
       "\u001b[1m5×3 DataFrame\u001b[0m\n",
       "\u001b[1m Row \u001b[0m│\u001b[1m item_id \u001b[0m\u001b[1m authority_id \u001b[0m\u001b[1m value                             \u001b[0m\n",
       "\u001b[1m     \u001b[0m│\u001b[90m Int32   \u001b[0m\u001b[90m Int64        \u001b[0m\u001b[90m SubStrin…                         \u001b[0m\n",
       "─────┼──────────────────────────────────────────────────────────\n",
       "   1 │  475742             3  Lamprecht_von_Brunn\n",
       "   2 │  475741             3  Albrecht_von_Wertheim\n",
       "   3 │  475740             3  Friedrich_III._von_Aufse%C3%9F\n",
       "   4 │  475739             3  L%C3%BCthold_II._von_R%C3%B6ttel…\n",
       "   5 │  475738             3  L%C3%BCthold_von_Aarburg"
      ]
     },
     "execution_count": 171,
     "metadata": {},
     "output_type": "execute_result"
    }
   ],
   "source": [
    "df_ins[301:305, :]"
   ]
  },
  {
   "cell_type": "markdown",
   "metadata": {},
   "source": [
    "debug begin"
   ]
  },
  {
   "cell_type": "code",
   "execution_count": 57,
   "metadata": {},
   "outputs": [],
   "source": [
    "using CSV"
   ]
  },
  {
   "cell_type": "code",
   "execution_count": 58,
   "metadata": {},
   "outputs": [
    {
     "data": {
      "text/plain": [
       "\"C:\\\\Users\\\\georg\\\\Documents\\\\tmp\\\\bishops_url_wikidata.csv\""
      ]
     },
     "execution_count": 58,
     "metadata": {},
     "output_type": "execute_result"
    }
   ],
   "source": [
    "file_wp = \"C:\\\\Users\\\\georg\\\\Documents\\\\tmp\\\\bishops_url_wikidata.csv\""
   ]
  },
  {
   "cell_type": "code",
   "execution_count": 59,
   "metadata": {},
   "outputs": [
    {
     "data": {
      "text/plain": [
       "\"C:\\\\Users\\\\georg\\\\Documents\\\\tmp\\\\bishops_url_wikidata.csv\""
      ]
     },
     "execution_count": 59,
     "metadata": {},
     "output_type": "execute_result"
    }
   ],
   "source": [
    "CSV.write(file_wp, df_ins)"
   ]
  },
  {
   "cell_type": "markdown",
   "metadata": {},
   "source": [
    "debug end"
   ]
  },
  {
   "cell_type": "code",
   "execution_count": 172,
   "metadata": {},
   "outputs": [
    {
     "name": "stderr",
     "output_type": "stream",
     "text": [
      "┌ Info: Rows inserted: 2940\n",
      "└ @ WiagDataSetup C:\\Users\\georg\\Documents\\projekte\\WiagDataSetup.jl\\src\\WiagDataSetup.jl:1216\n"
     ]
    },
    {
     "data": {
      "text/plain": [
       "2940"
      ]
     },
     "execution_count": 172,
     "metadata": {},
     "output_type": "execute_result"
    }
   ],
   "source": [
    "Wds.filltable!(\"id_external\", df_ins)"
   ]
  },
  {
   "cell_type": "markdown",
   "metadata": {},
   "source": [
    "### Namensvarianten eintragen"
   ]
  },
  {
   "cell_type": "code",
   "execution_count": 7,
   "metadata": {},
   "outputs": [],
   "source": [
    "using MySQL, DataFrames"
   ]
  },
  {
   "cell_type": "code",
   "execution_count": 173,
   "metadata": {},
   "outputs": [],
   "source": [
    "df_src = df_episc; # 2022-05-19"
   ]
  },
  {
   "cell_type": "code",
   "execution_count": 174,
   "metadata": {},
   "outputs": [],
   "source": [
    "Wds.clean_up!(df_src)"
   ]
  },
  {
   "cell_type": "code",
   "execution_count": 175,
   "metadata": {},
   "outputs": [],
   "source": [
    "df_fnv = dropmissing(df_src, :Familienname_Variante);"
   ]
  },
  {
   "cell_type": "code",
   "execution_count": 176,
   "metadata": {},
   "outputs": [
    {
     "data": {
      "text/plain": [
       "(535, 33)"
      ]
     },
     "execution_count": 176,
     "metadata": {},
     "output_type": "execute_result"
    }
   ],
   "source": [
    "size(df_fnv)"
   ]
  },
  {
   "cell_type": "code",
   "execution_count": 177,
   "metadata": {},
   "outputs": [
    {
     "data": {
      "text/html": [
       "<div class=\"data-frame\"><p>5 rows × 33 columns (omitted printing of 28 columns)</p><table class=\"data-frame\"><thead><tr><th></th><th>id</th><th>id_in_source</th><th>is_online</th><th>ID_Bischof</th><th>Eintrag RI OPAC</th></tr><tr><th></th><th title=\"Int32\">Int32</th><th title=\"String\">String</th><th title=\"Int8\">Int8</th><th title=\"Int64\">Int64</th><th title=\"String\">String</th></tr></thead><tbody><tr><th>1</th><td>478290</td><td>5347</td><td>1</td><td>5347</td><td>Dale (de Valle), Judocus van (OP) (†1499 oder 1500). 1495 Ep. tit. Sebastiensis. Seit 1495 Weihbischof in Utrecht</td></tr><tr><th>2</th><td>478286</td><td>5352</td><td>1</td><td>5352</td><td>Dieburger (Dieperger), Johannes (OCist) († nach 1502). 1492 Ep. tit. Aprensis. Seit 1492 Weihbischof in Worms</td></tr><tr><th>3</th><td>478281</td><td>5357</td><td>1</td><td>5357</td><td>Dobeneck, Hiob (Job) von (OT) (um 1450-1521). 1501-1521 Bischof von Pomesanien</td></tr><tr><th>4</th><td>478274</td><td>5364</td><td>1</td><td>5364</td><td>Enckenvoirt (Enckevort), Wilhelm von (1464-1534). 1523-1534 Bischof von Tortosa. 1523 Kardinal. 1529-1534 Bischof von Utrecht</td></tr><tr><th>5</th><td>478271</td><td>5367</td><td>1</td><td>5367</td><td>Engel (Enghel, Engelen), Albert (OFM) († frühestens 1500). 1493 Ep. tit. Thefelicensis. Seit 1493 Weihbischof in Paderborn und Minden</td></tr></tbody></table></div>"
      ],
      "text/latex": [
       "\\begin{tabular}{r|cccccc}\n",
       "\t& id & id\\_in\\_source & is\\_online & ID\\_Bischof & Eintrag RI OPAC & \\\\\n",
       "\t\\hline\n",
       "\t& Int32 & String & Int8 & Int64 & String & \\\\\n",
       "\t\\hline\n",
       "\t1 & 478290 & 5347 & 1 & 5347 & Dale (de Valle), Judocus van (OP) (†1499 oder 1500). 1495 Ep. tit. Sebastiensis. Seit 1495 Weihbischof in Utrecht & $\\dots$ \\\\\n",
       "\t2 & 478286 & 5352 & 1 & 5352 & Dieburger (Dieperger), Johannes (OCist) († nach 1502). 1492 Ep. tit. Aprensis. Seit 1492 Weihbischof in Worms & $\\dots$ \\\\\n",
       "\t3 & 478281 & 5357 & 1 & 5357 & Dobeneck, Hiob (Job) von (OT) (um 1450-1521). 1501-1521 Bischof von Pomesanien & $\\dots$ \\\\\n",
       "\t4 & 478274 & 5364 & 1 & 5364 & Enckenvoirt (Enckevort), Wilhelm von (1464-1534). 1523-1534 Bischof von Tortosa. 1523 Kardinal. 1529-1534 Bischof von Utrecht & $\\dots$ \\\\\n",
       "\t5 & 478271 & 5367 & 1 & 5367 & Engel (Enghel, Engelen), Albert (OFM) († frühestens 1500). 1493 Ep. tit. Thefelicensis. Seit 1493 Weihbischof in Paderborn und Minden & $\\dots$ \\\\\n",
       "\\end{tabular}\n"
      ],
      "text/plain": [
       "\u001b[1m5×33 DataFrame\u001b[0m\n",
       "\u001b[1m Row \u001b[0m│\u001b[1m id     \u001b[0m\u001b[1m id_in_source \u001b[0m\u001b[1m is_online \u001b[0m\u001b[1m ID_Bischof \u001b[0m\u001b[1m Eintrag RI OPAC                   \u001b[0m\n",
       "\u001b[1m     \u001b[0m│\u001b[90m Int32  \u001b[0m\u001b[90m String       \u001b[0m\u001b[90m Int8      \u001b[0m\u001b[90m Int64      \u001b[0m\u001b[90m String                            \u001b[0m\n",
       "─────┼──────────────────────────────────────────────────────────────────────────────────────────────────────────────────\n",
       "   1 │ 478290  5347                  1        5347  Dale (de Valle), Judocus van (OP…\n",
       "   2 │ 478286  5352                  1        5352  Dieburger (Dieperger), Johannes …\n",
       "   3 │ 478281  5357                  1        5357  Dobeneck, Hiob (Job) von (OT) (u…\n",
       "   4 │ 478274  5364                  1        5364  Enckenvoirt (Enckevort), Wilhelm…\n",
       "   5 │ 478271  5367                  1        5367  Engel (Enghel, Engelen), Albert …\n",
       "\u001b[36m                                                                                                      28 columns omitted\u001b[0m"
      ]
     },
     "execution_count": 177,
     "metadata": {},
     "output_type": "execute_result"
    }
   ],
   "source": [
    "df_fnv[201:205, :]"
   ]
  },
  {
   "cell_type": "code",
   "execution_count": 178,
   "metadata": {},
   "outputs": [],
   "source": [
    "df_exp = Wds.expand_column(df_fnv, :Familienname_Variante, delim = \",\");"
   ]
  },
  {
   "cell_type": "code",
   "execution_count": 179,
   "metadata": {},
   "outputs": [
    {
     "data": {
      "text/plain": [
       "(698, 33)"
      ]
     },
     "execution_count": 179,
     "metadata": {},
     "output_type": "execute_result"
    }
   ],
   "source": [
    "size(df_exp)"
   ]
  },
  {
   "cell_type": "markdown",
   "metadata": {},
   "source": [
    "Spalte `lang` hat den Default-Wert 'de'."
   ]
  },
  {
   "cell_type": "code",
   "execution_count": 180,
   "metadata": {},
   "outputs": [
    {
     "name": "stderr",
     "output_type": "stream",
     "text": [
      "┌ Info: Rows inserted: 698\n",
      "└ @ WiagDataSetup C:\\Users\\georg\\Documents\\projekte\\WiagDataSetup.jl\\src\\WiagDataSetup.jl:1216\n"
     ]
    },
    {
     "data": {
      "text/plain": [
       "698"
      ]
     },
     "execution_count": 180,
     "metadata": {},
     "output_type": "execute_result"
    }
   ],
   "source": [
    "table_dst = \"familyname_variant\"\n",
    "Wds.filltable!(table_dst, select(df_exp, :id => :person_id, :Familienname_Variante => :name))"
   ]
  },
  {
   "cell_type": "code",
   "execution_count": 181,
   "metadata": {},
   "outputs": [],
   "source": [
    "df_gnv = dropmissing(df_src, :Vorname_Varianten);"
   ]
  },
  {
   "cell_type": "code",
   "execution_count": 182,
   "metadata": {},
   "outputs": [
    {
     "data": {
      "text/plain": [
       "(303, 33)"
      ]
     },
     "execution_count": 182,
     "metadata": {},
     "output_type": "execute_result"
    }
   ],
   "source": [
    "size(df_gnv)"
   ]
  },
  {
   "cell_type": "code",
   "execution_count": 183,
   "metadata": {},
   "outputs": [],
   "source": [
    "df_exp = Wds.expand_column(df_gnv, :Vorname_Varianten, delim = r\", *\");"
   ]
  },
  {
   "cell_type": "code",
   "execution_count": 184,
   "metadata": {},
   "outputs": [
    {
     "data": {
      "text/plain": [
       "(330, 33)"
      ]
     },
     "execution_count": 184,
     "metadata": {},
     "output_type": "execute_result"
    }
   ],
   "source": [
    "size(df_exp)"
   ]
  },
  {
   "cell_type": "markdown",
   "metadata": {},
   "source": [
    "Manche Namenseinträge enthalten Fragezeichen. Diese bleiben hier erhalten, werden aber für die Tabelle `name_lookup` entfernt."
   ]
  },
  {
   "cell_type": "markdown",
   "metadata": {},
   "source": [
    "Spalte `lang` hat den Default-Wert 'de'."
   ]
  },
  {
   "cell_type": "code",
   "execution_count": 185,
   "metadata": {},
   "outputs": [
    {
     "name": "stderr",
     "output_type": "stream",
     "text": [
      "┌ Info: Rows inserted: 330\n",
      "└ @ WiagDataSetup C:\\Users\\georg\\Documents\\projekte\\WiagDataSetup.jl\\src\\WiagDataSetup.jl:1216\n"
     ]
    },
    {
     "data": {
      "text/plain": [
       "330"
      ]
     },
     "execution_count": 185,
     "metadata": {},
     "output_type": "execute_result"
    }
   ],
   "source": [
    "table_dst = \"givenname_variant\"\n",
    "Wds.filltable!(table_dst, select(df_exp, :id => :person_id, :Vorname_Varianten => :name))"
   ]
  },
  {
   "cell_type": "markdown",
   "metadata": {},
   "source": [
    "### Suchvarianten eintragen (name_lookup)"
   ]
  },
  {
   "cell_type": "markdown",
   "metadata": {},
   "source": [
    "begin test"
   ]
  },
  {
   "cell_type": "code",
   "execution_count": 88,
   "metadata": {
    "scrolled": true
   },
   "outputs": [
    {
     "data": {
      "text/plain": [
       "6-element Vector{Vector{Union{Missing, String}}}:\n",
       " [\"Klaus Walter\", \"von der\", \"Vogelweide\", \"Klaus Walter Vogelweide\", \"Klaus Walter von der Vogelweide\"]\n",
       " [\"Klaus\", \"von der\", \"Vogelweide\", \"Klaus Vogelweide\", \"Klaus von der Vogelweide\"]\n",
       " [\"Klaus Walter\", \"von der\", \"Vollmer\", \"Klaus Walter Vollmer\", \"Klaus Walter von der Vollmer\"]\n",
       " [\"Klaus\", \"von der\", \"Vollmer\", \"Klaus Vollmer\", \"Klaus von der Vollmer\"]\n",
       " [\"Klaus Walter\", \"von der\", \"Liber\", \"Klaus Walter Liber\", \"Klaus Walter von der Liber\"]\n",
       " [\"Klaus\", \"von der\", \"Liber\", \"Klaus Liber\", \"Klaus von der Liber\"]"
      ]
     },
     "execution_count": 88,
     "metadata": {},
     "output_type": "execute_result"
    }
   ],
   "source": [
    "Wds.makevariantsgn(\"Klaus Walter\", \"von der\", \"Vogelweide\", \"Vollmer, Liber\")"
   ]
  },
  {
   "cell_type": "markdown",
   "metadata": {},
   "source": [
    "end test"
   ]
  },
  {
   "cell_type": "code",
   "execution_count": 186,
   "metadata": {},
   "outputs": [
    {
     "data": {
      "text/html": [
       "<div class=\"data-frame\"><p>7 rows × 6 columns</p><table class=\"data-frame\"><thead><tr><th></th><th>id</th><th>givenname</th><th>prefix_name</th><th>familyname</th><th>givenname_variant</th><th>familyname_variant</th></tr><tr><th></th><th title=\"Int64\">Int64</th><th title=\"String\">String</th><th title=\"Union{Missing, String}\">String?</th><th title=\"Union{Missing, String}\">String?</th><th title=\"Union{Missing, String}\">String?</th><th title=\"Union{Missing, String}\">String?</th></tr></thead><tbody><tr><th>1</th><td>1077</td><td>Dietricus</td><td><em>missing</em></td><td><em>missing</em></td><td><em>missing</em></td><td><em>missing</em></td></tr><tr><th>2</th><td>31</td><td>Albert</td><td>von</td><td>Häusler</td><td><em>missing</em></td><td>Hauser, Schad</td></tr><tr><th>3</th><td>32</td><td>Hans Otto</td><td>zu</td><td>Oberhof</td><td>Johann Otto</td><td><em>missing</em></td></tr><tr><th>4</th><td>33</td><td>Wilhelm</td><td>von</td><td>Berg</td><td>Guido, Guillaume</td><td>Berge</td></tr><tr><th>5</th><td>34</td><td>Kurt Georg</td><td><em>missing</em></td><td><em>missing</em></td><td>Konrad</td><td><em>missing</em></td></tr><tr><th>6</th><td>35</td><td>Otto</td><td>auf der</td><td>Scholle</td><td><em>missing</em></td><td><em>missing</em></td></tr><tr><th>7</th><td>36</td><td>Otto</td><td><em>missing</em></td><td>Weiß</td><td>Odilon</td><td>Blanc</td></tr></tbody></table></div>"
      ],
      "text/latex": [
       "\\begin{tabular}{r|cccccc}\n",
       "\t& id & givenname & prefix\\_name & familyname & givenname\\_variant & familyname\\_variant\\\\\n",
       "\t\\hline\n",
       "\t& Int64 & String & String? & String? & String? & String?\\\\\n",
       "\t\\hline\n",
       "\t1 & 1077 & Dietricus & \\emph{missing} & \\emph{missing} & \\emph{missing} & \\emph{missing} \\\\\n",
       "\t2 & 31 & Albert & von & Häusler & \\emph{missing} & Hauser, Schad \\\\\n",
       "\t3 & 32 & Hans Otto & zu & Oberhof & Johann Otto & \\emph{missing} \\\\\n",
       "\t4 & 33 & Wilhelm & von & Berg & Guido, Guillaume & Berge \\\\\n",
       "\t5 & 34 & Kurt Georg & \\emph{missing} & \\emph{missing} & Konrad & \\emph{missing} \\\\\n",
       "\t6 & 35 & Otto & auf der & Scholle & \\emph{missing} & \\emph{missing} \\\\\n",
       "\t7 & 36 & Otto & \\emph{missing} & Weiß & Odilon & Blanc \\\\\n",
       "\\end{tabular}\n"
      ],
      "text/plain": [
       "\u001b[1m7×6 DataFrame\u001b[0m\n",
       "\u001b[1m Row \u001b[0m│\u001b[1m id    \u001b[0m\u001b[1m givenname  \u001b[0m\u001b[1m prefix_name \u001b[0m\u001b[1m familyname \u001b[0m\u001b[1m givenname_variant \u001b[0m\u001b[1m familyname_variant \u001b[0m\n",
       "\u001b[1m     \u001b[0m│\u001b[90m Int64 \u001b[0m\u001b[90m String     \u001b[0m\u001b[90m String?     \u001b[0m\u001b[90m String?    \u001b[0m\u001b[90m String?           \u001b[0m\u001b[90m String?            \u001b[0m\n",
       "─────┼───────────────────────────────────────────────────────────────────────────────────\n",
       "   1 │  1077  Dietricus  \u001b[90m missing     \u001b[0m\u001b[90m missing    \u001b[0m\u001b[90m missing           \u001b[0m\u001b[90m missing            \u001b[0m\n",
       "   2 │    31  Albert      von          Häusler    \u001b[90m missing           \u001b[0m Hauser, Schad\n",
       "   3 │    32  Hans Otto   zu           Oberhof     Johann Otto       \u001b[90m missing            \u001b[0m\n",
       "   4 │    33  Wilhelm     von          Berg        Guido, Guillaume   Berge\n",
       "   5 │    34  Kurt Georg \u001b[90m missing     \u001b[0m\u001b[90m missing    \u001b[0m Konrad            \u001b[90m missing            \u001b[0m\n",
       "   6 │    35  Otto        auf der      Scholle    \u001b[90m missing           \u001b[0m\u001b[90m missing            \u001b[0m\n",
       "   7 │    36  Otto       \u001b[90m missing     \u001b[0m Weiß        Odilon             Blanc"
      ]
     },
     "execution_count": 186,
     "metadata": {},
     "output_type": "execute_result"
    }
   ],
   "source": [
    "df_src = DataFrame(\n",
    "    id = [1077, 31, 32, 33, 34, 35, 36],\n",
    "    givenname = [\"Dietricus\", \"Albert\", \"Hans Otto\", \"Wilhelm\", \"Kurt Georg\", \"Otto\", \"Otto\"],\n",
    "    prefix_name = [missing, \"von\", \"zu\", \"von\", missing, \"auf der\", missing],\n",
    "    familyname = [missing, \"Häusler\", \"Oberhof\", \"Berg\", missing, \"Scholle\", \"Weiß\"],\n",
    "    givenname_variant = [missing, missing, \"Johann Otto\", \"Guido, Guillaume\", \"Konrad\", missing, \"Odilon\"],\n",
    "    familyname_variant = [missing, \"Hauser, Schad\", missing, \"Berge\", missing, missing, \"Blanc\"]\n",
    "    )"
   ]
  },
  {
   "cell_type": "code",
   "execution_count": 187,
   "metadata": {
    "scrolled": true
   },
   "outputs": [
    {
     "data": {
      "text/html": [
       "<div class=\"data-frame\"><p>22 rows × 3 columns</p><table class=\"data-frame\"><thead><tr><th></th><th>person_id</th><th>gn_fn</th><th>gn_prefix_fn</th></tr><tr><th></th><th title=\"Int64\">Int64</th><th title=\"Union{Missing, String}\">String?</th><th title=\"Union{Missing, String}\">String?</th></tr></thead><tbody><tr><th>1</th><td>1077</td><td>Dietricus</td><td><em>missing</em></td></tr><tr><th>2</th><td>31</td><td>Albert Häusler</td><td>Albert von Häusler</td></tr><tr><th>3</th><td>31</td><td>Albert Hauser</td><td>Albert von Hauser</td></tr><tr><th>4</th><td>31</td><td>Albert Schad</td><td>Albert von Schad</td></tr><tr><th>5</th><td>32</td><td>Hans Otto Oberhof</td><td>Hans Otto zu Oberhof</td></tr><tr><th>6</th><td>32</td><td>Hans Oberhof</td><td>Hans zu Oberhof</td></tr><tr><th>7</th><td>32</td><td>Johann Otto Oberhof</td><td>Johann Otto zu Oberhof</td></tr><tr><th>8</th><td>32</td><td>Johann Oberhof</td><td>Johann zu Oberhof</td></tr><tr><th>9</th><td>33</td><td>Wilhelm Berg</td><td>Wilhelm von Berg</td></tr><tr><th>10</th><td>33</td><td>Wilhelm Berge</td><td>Wilhelm von Berge</td></tr><tr><th>11</th><td>33</td><td>Guido Berg</td><td>Guido von Berg</td></tr><tr><th>12</th><td>33</td><td>Guido Berge</td><td>Guido von Berge</td></tr><tr><th>13</th><td>33</td><td>Guillaume Berg</td><td>Guillaume von Berg</td></tr><tr><th>14</th><td>33</td><td>Guillaume Berge</td><td>Guillaume von Berge</td></tr><tr><th>15</th><td>34</td><td>Kurt Georg</td><td><em>missing</em></td></tr><tr><th>16</th><td>34</td><td>Kurt</td><td><em>missing</em></td></tr><tr><th>17</th><td>34</td><td>Konrad</td><td><em>missing</em></td></tr><tr><th>18</th><td>35</td><td>Otto Scholle</td><td>Otto auf der Scholle</td></tr><tr><th>19</th><td>36</td><td>Otto Weiß</td><td><em>missing</em></td></tr><tr><th>20</th><td>36</td><td>Otto Blanc</td><td><em>missing</em></td></tr><tr><th>21</th><td>36</td><td>Odilon Weiß</td><td><em>missing</em></td></tr><tr><th>22</th><td>36</td><td>Odilon Blanc</td><td><em>missing</em></td></tr></tbody></table></div>"
      ],
      "text/latex": [
       "\\begin{tabular}{r|ccc}\n",
       "\t& person\\_id & gn\\_fn & gn\\_prefix\\_fn\\\\\n",
       "\t\\hline\n",
       "\t& Int64 & String? & String?\\\\\n",
       "\t\\hline\n",
       "\t1 & 1077 & Dietricus & \\emph{missing} \\\\\n",
       "\t2 & 31 & Albert Häusler & Albert von Häusler \\\\\n",
       "\t3 & 31 & Albert Hauser & Albert von Hauser \\\\\n",
       "\t4 & 31 & Albert Schad & Albert von Schad \\\\\n",
       "\t5 & 32 & Hans Otto Oberhof & Hans Otto zu Oberhof \\\\\n",
       "\t6 & 32 & Hans Oberhof & Hans zu Oberhof \\\\\n",
       "\t7 & 32 & Johann Otto Oberhof & Johann Otto zu Oberhof \\\\\n",
       "\t8 & 32 & Johann Oberhof & Johann zu Oberhof \\\\\n",
       "\t9 & 33 & Wilhelm Berg & Wilhelm von Berg \\\\\n",
       "\t10 & 33 & Wilhelm Berge & Wilhelm von Berge \\\\\n",
       "\t11 & 33 & Guido Berg & Guido von Berg \\\\\n",
       "\t12 & 33 & Guido Berge & Guido von Berge \\\\\n",
       "\t13 & 33 & Guillaume Berg & Guillaume von Berg \\\\\n",
       "\t14 & 33 & Guillaume Berge & Guillaume von Berge \\\\\n",
       "\t15 & 34 & Kurt Georg & \\emph{missing} \\\\\n",
       "\t16 & 34 & Kurt & \\emph{missing} \\\\\n",
       "\t17 & 34 & Konrad & \\emph{missing} \\\\\n",
       "\t18 & 35 & Otto Scholle & Otto auf der Scholle \\\\\n",
       "\t19 & 36 & Otto Weiß & \\emph{missing} \\\\\n",
       "\t20 & 36 & Otto Blanc & \\emph{missing} \\\\\n",
       "\t21 & 36 & Odilon Weiß & \\emph{missing} \\\\\n",
       "\t22 & 36 & Odilon Blanc & \\emph{missing} \\\\\n",
       "\\end{tabular}\n"
      ],
      "text/plain": [
       "\u001b[1m22×3 DataFrame\u001b[0m\n",
       "\u001b[1m Row \u001b[0m│\u001b[1m person_id \u001b[0m\u001b[1m gn_fn               \u001b[0m\u001b[1m gn_prefix_fn           \u001b[0m\n",
       "\u001b[1m     \u001b[0m│\u001b[90m Int64     \u001b[0m\u001b[90m String?             \u001b[0m\u001b[90m String?                \u001b[0m\n",
       "─────┼────────────────────────────────────────────────────────\n",
       "   1 │      1077  Dietricus           \u001b[90m missing                \u001b[0m\n",
       "   2 │        31  Albert Häusler       Albert von Häusler\n",
       "   3 │        31  Albert Hauser        Albert von Hauser\n",
       "   4 │        31  Albert Schad         Albert von Schad\n",
       "   5 │        32  Hans Otto Oberhof    Hans Otto zu Oberhof\n",
       "   6 │        32  Hans Oberhof         Hans zu Oberhof\n",
       "   7 │        32  Johann Otto Oberhof  Johann Otto zu Oberhof\n",
       "   8 │        32  Johann Oberhof       Johann zu Oberhof\n",
       "   9 │        33  Wilhelm Berg         Wilhelm von Berg\n",
       "  10 │        33  Wilhelm Berge        Wilhelm von Berge\n",
       "  11 │        33  Guido Berg           Guido von Berg\n",
       "  12 │        33  Guido Berge          Guido von Berge\n",
       "  13 │        33  Guillaume Berg       Guillaume von Berg\n",
       "  14 │        33  Guillaume Berge      Guillaume von Berge\n",
       "  15 │        34  Kurt Georg          \u001b[90m missing                \u001b[0m\n",
       "  16 │        34  Kurt                \u001b[90m missing                \u001b[0m\n",
       "  17 │        34  Konrad              \u001b[90m missing                \u001b[0m\n",
       "  18 │        35  Otto Scholle         Otto auf der Scholle\n",
       "  19 │        36  Otto Weiß           \u001b[90m missing                \u001b[0m\n",
       "  20 │        36  Otto Blanc          \u001b[90m missing                \u001b[0m\n",
       "  21 │        36  Odilon Weiß         \u001b[90m missing                \u001b[0m\n",
       "  22 │        36  Odilon Blanc        \u001b[90m missing                \u001b[0m"
      ]
     },
     "execution_count": 187,
     "metadata": {},
     "output_type": "execute_result"
    }
   ],
   "source": [
    "df_nl = Wds.create_name_lookup(df_src) # schaut gut aus"
   ]
  },
  {
   "cell_type": "code",
   "execution_count": 188,
   "metadata": {},
   "outputs": [
    {
     "data": {
      "text/plain": [
       "6-element Vector{Pair{Symbol, Symbol}}:\n",
       "                    :id => :id\n",
       "               :Vorname => :givenname\n",
       "               :Praefix => :prefix_name\n",
       "          :Familienname => :familyname\n",
       "     :Vorname_Varianten => :givenname_variant\n",
       " :Familienname_Variante => :familyname_variant"
      ]
     },
     "execution_count": 188,
     "metadata": {},
     "output_type": "execute_result"
    }
   ],
   "source": [
    "columns = [\n",
    "    :id => :id,\n",
    "    :Vorname => :givenname,\n",
    "    :Praefix => :prefix_name,\n",
    "    :Familienname => :familyname,\n",
    "    :Vorname_Varianten => :givenname_variant,\n",
    "    :Familienname_Variante => :familyname_variant,\n",
    "]"
   ]
  },
  {
   "cell_type": "code",
   "execution_count": 189,
   "metadata": {},
   "outputs": [],
   "source": [
    "df_nl = Wds.create_name_lookup(select(df_episc, columns));"
   ]
  },
  {
   "cell_type": "code",
   "execution_count": 190,
   "metadata": {},
   "outputs": [
    {
     "data": {
      "text/plain": [
       "(7314, 3)"
      ]
     },
     "execution_count": 190,
     "metadata": {},
     "output_type": "execute_result"
    }
   ],
   "source": [
    "size(df_nl)"
   ]
  },
  {
   "cell_type": "code",
   "execution_count": 191,
   "metadata": {},
   "outputs": [
    {
     "data": {
      "text/html": [
       "<div class=\"data-frame\"><p>5 rows × 3 columns</p><table class=\"data-frame\"><thead><tr><th></th><th>person_id</th><th>gn_fn</th><th>gn_prefix_fn</th></tr><tr><th></th><th title=\"Int64\">Int64</th><th title=\"Union{Missing, String}\">String?</th><th title=\"Union{Missing, String}\">String?</th></tr></thead><tbody><tr><th>1</th><td>476985</td><td>Helembert</td><td><em>missing</em></td></tr><tr><th>2</th><td>476984</td><td>Heinrich Warendorp</td><td>Heinrich von Warendorp</td></tr><tr><th>3</th><td>476983</td><td>Nikolaus Bruhn</td><td><em>missing</em></td></tr><tr><th>4</th><td>476982</td><td>Johannes Skondelev</td><td><em>missing</em></td></tr><tr><th>5</th><td>476981</td><td>Nikolaus Petersen</td><td><em>missing</em></td></tr></tbody></table></div>"
      ],
      "text/latex": [
       "\\begin{tabular}{r|ccc}\n",
       "\t& person\\_id & gn\\_fn & gn\\_prefix\\_fn\\\\\n",
       "\t\\hline\n",
       "\t& Int64 & String? & String?\\\\\n",
       "\t\\hline\n",
       "\t1 & 476985 & Helembert & \\emph{missing} \\\\\n",
       "\t2 & 476984 & Heinrich Warendorp & Heinrich von Warendorp \\\\\n",
       "\t3 & 476983 & Nikolaus Bruhn & \\emph{missing} \\\\\n",
       "\t4 & 476982 & Johannes Skondelev & \\emph{missing} \\\\\n",
       "\t5 & 476981 & Nikolaus Petersen & \\emph{missing} \\\\\n",
       "\\end{tabular}\n"
      ],
      "text/plain": [
       "\u001b[1m5×3 DataFrame\u001b[0m\n",
       "\u001b[1m Row \u001b[0m│\u001b[1m person_id \u001b[0m\u001b[1m gn_fn              \u001b[0m\u001b[1m gn_prefix_fn           \u001b[0m\n",
       "\u001b[1m     \u001b[0m│\u001b[90m Int64     \u001b[0m\u001b[90m String?            \u001b[0m\u001b[90m String?                \u001b[0m\n",
       "─────┼───────────────────────────────────────────────────────\n",
       "   1 │    476985  Helembert          \u001b[90m missing                \u001b[0m\n",
       "   2 │    476984  Heinrich Warendorp  Heinrich von Warendorp\n",
       "   3 │    476983  Nikolaus Bruhn     \u001b[90m missing                \u001b[0m\n",
       "   4 │    476982  Johannes Skondelev \u001b[90m missing                \u001b[0m\n",
       "   5 │    476981  Nikolaus Petersen  \u001b[90m missing                \u001b[0m"
      ]
     },
     "execution_count": 191,
     "metadata": {},
     "output_type": "execute_result"
    }
   ],
   "source": [
    "df_nl[2351:2355, :]"
   ]
  },
  {
   "cell_type": "code",
   "execution_count": 192,
   "metadata": {},
   "outputs": [
    {
     "name": "stderr",
     "output_type": "stream",
     "text": [
      "┌ Info: Rows inserted: 7314\n",
      "└ @ WiagDataSetup C:\\Users\\georg\\Documents\\projekte\\WiagDataSetup.jl\\src\\WiagDataSetup.jl:1216\n"
     ]
    },
    {
     "data": {
      "text/plain": [
       "7314"
      ]
     },
     "execution_count": 192,
     "metadata": {},
     "output_type": "execute_result"
    }
   ],
   "source": [
    "table_dst = \"name_lookup\"\n",
    "Wds.filltable!(table_dst, df_nl)"
   ]
  },
  {
   "cell_type": "code",
   "execution_count": null,
   "metadata": {},
   "outputs": [],
   "source": []
  }
 ],
 "metadata": {
  "kernelspec": {
   "display_name": "Julia 1.8.2",
   "language": "julia",
   "name": "julia-1.8"
  },
  "language_info": {
   "file_extension": ".jl",
   "mimetype": "application/julia",
   "name": "julia",
   "version": "1.8.2"
  }
 },
 "nbformat": 4,
 "nbformat_minor": 4
}
