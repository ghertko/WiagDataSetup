{
 "cells": [
  {
   "cell_type": "markdown",
   "metadata": {},
   "source": [
    "# Orte für die Utrechter Priester für WIAG 2"
   ]
  },
  {
   "cell_type": "markdown",
   "metadata": {},
   "source": [
    "[Zuordnung zu Orten in `place`](#Zuordnung-zu-bekannten-Orten-in-Tabelle-place)  \n",
    "[Orte in `place` eintragen](#Orte-in-place-eintragen)"
   ]
  },
  {
   "cell_type": "code",
   "execution_count": null,
   "metadata": {},
   "outputs": [],
   "source": [
    "wds_path = \"C:\\\\Users\\\\georg\\\\Documents\\\\projekte\\\\WiagDataSetup.jl\""
   ]
  },
  {
   "cell_type": "code",
   "execution_count": null,
   "metadata": {},
   "outputs": [],
   "source": [
    "using Pkg"
   ]
  },
  {
   "cell_type": "code",
   "execution_count": null,
   "metadata": {},
   "outputs": [],
   "source": [
    "Pkg.activate(wds_path)"
   ]
  },
  {
   "cell_type": "code",
   "execution_count": null,
   "metadata": {},
   "outputs": [],
   "source": [
    "using JSON, DataFrames, CSV"
   ]
  },
  {
   "cell_type": "code",
   "execution_count": null,
   "metadata": {},
   "outputs": [],
   "source": [
    "using WiagDataSetup"
   ]
  },
  {
   "cell_type": "code",
   "execution_count": null,
   "metadata": {},
   "outputs": [],
   "source": [
    "Wds = WiagDataSetup"
   ]
  },
  {
   "cell_type": "code",
   "execution_count": null,
   "metadata": {},
   "outputs": [],
   "source": [
    "computer = :bkroege_goe\n",
    "computer = :ghertko_kn\n",
    "if computer == :bkroege_goe\n",
    "    data_path = \"../data\"\n",
    "    out_path = \"../data_sql\"\n",
    "else\n",
    "    data_path = \"C:/Users/georg/Documents/projekte-doc/Utrecht-Priester/data\"\n",
    "    out_path = \"C:/Users/georg/Documents/projekte-doc/Utrecht-Priester/data_sql\"\n",
    "end"
   ]
  },
  {
   "cell_type": "code",
   "execution_count": 49,
   "metadata": {},
   "outputs": [
    {
     "data": {
      "text/plain": [
       "\"C:/Users/georg/Documents/projekte-doc/Utrecht-Priester/data\\\\AnonymousUser_ordinations_788_20220329_145955.json\""
      ]
     },
     "execution_count": 49,
     "metadata": {},
     "output_type": "execute_result"
    }
   ],
   "source": [
    "file_name = joinpath(data_path, \"AnonymousUser_ordinations_788_20220329_145955.json\")"
   ]
  },
  {
   "cell_type": "code",
   "execution_count": 50,
   "metadata": {},
   "outputs": [],
   "source": [
    "d_place = JSON.parsefile(file_name);"
   ]
  },
  {
   "cell_type": "code",
   "execution_count": null,
   "metadata": {},
   "outputs": [],
   "source": [
    "keys(d_place)"
   ]
  },
  {
   "cell_type": "code",
   "execution_count": null,
   "metadata": {},
   "outputs": [],
   "source": [
    "features = d_place[\"features\"];"
   ]
  },
  {
   "cell_type": "code",
   "execution_count": null,
   "metadata": {},
   "outputs": [],
   "source": [
    "length(features)"
   ]
  },
  {
   "cell_type": "code",
   "execution_count": null,
   "metadata": {},
   "outputs": [],
   "source": [
    "features[25][\"@id\"]"
   ]
  },
  {
   "cell_type": "code",
   "execution_count": null,
   "metadata": {},
   "outputs": [],
   "source": [
    "features[25][\"links\"][1][\"type\"], features[25][\"links\"][1][\"identifier\"]"
   ]
  },
  {
   "cell_type": "code",
   "execution_count": null,
   "metadata": {},
   "outputs": [],
   "source": [
    "get_whg_id(a) = replace(a, \"http://whgazetteer.org/api/place/\" => \"\")"
   ]
  },
  {
   "cell_type": "code",
   "execution_count": null,
   "metadata": {},
   "outputs": [],
   "source": [
    "make_row(df::AbstractDataFrame) = Dict{Symbol, Any}(a => missing for a in Symbol.(names(df)))"
   ]
  },
  {
   "cell_type": "code",
   "execution_count": 51,
   "metadata": {},
   "outputs": [],
   "source": [
    "df_place = DataFrame(\n",
    "    id = String[],\n",
    "    whg_id = String[],\n",
    "    title = String[],\n",
    "    link_type = Union{String, Missing}[],\n",
    "    link_identifier = Union{String, Missing}[],\n",
    "    type_label = Union{String, Missing}[],\n",
    "    type_identifier = Union{String, Missing}[],\n",
    "    coo_0 = Union{Float64, Missing}[],\n",
    "    coo_1 = Union{Float64, Missing}[],\n",
    ");"
   ]
  },
  {
   "cell_type": "code",
   "execution_count": 18,
   "metadata": {},
   "outputs": [
    {
     "data": {
      "text/plain": [
       "Dict{Symbol, Any} with 9 entries:\n",
       "  :coo_0           => missing\n",
       "  :coo_1           => missing\n",
       "  :link_identifier => missing\n",
       "  :id              => missing\n",
       "  :link_type       => missing\n",
       "  :type_label      => missing\n",
       "  :title           => missing\n",
       "  :whg_id          => missing\n",
       "  :type_identifier => missing"
      ]
     },
     "execution_count": 18,
     "metadata": {},
     "output_type": "execute_result"
    }
   ],
   "source": [
    "make_row(df_place)"
   ]
  },
  {
   "cell_type": "code",
   "execution_count": 19,
   "metadata": {},
   "outputs": [
    {
     "data": {
      "text/plain": [
       "fill_df_dict (generic function with 1 method)"
      ]
     },
     "execution_count": 19,
     "metadata": {},
     "output_type": "execute_result"
    }
   ],
   "source": [
    "function fill_df_dict(df, features)\n",
    "    i = 0\n",
    "    n_max = Inf\n",
    "    for f in features\n",
    "        pr = make_row(df_place)\n",
    "        pr[:id] = f[\"@id\"]\n",
    "        pr[:whg_id] = get_whg_id(f[\"properties\"][\"pid\"])\n",
    "        pr[:title] = f[\"properties\"][\"title\"]\n",
    "        for g in f[\"geometry\"][\"geometries\"]\n",
    "            if g[\"type\"] == \"Point\"\n",
    "                pr[:coo_0] = g[\"coordinates\"][1]\n",
    "                pr[:coo_1] = g[\"coordinates\"][2]\n",
    "            end\n",
    "        end\n",
    "        has_links = false\n",
    "        for l in f[\"links\"]\n",
    "            has_links = true\n",
    "            pr[:link_type] = l[\"type\"]\n",
    "            pr[:link_identifier] = l[\"identifier\"]\n",
    "            pr[:type_label] = missing\n",
    "            pr[:type_identifier] = missing\n",
    "            has_types = false\n",
    "            for t in f[\"types\"]\n",
    "                pr[:type_label] = t[\"label\"]\n",
    "                pr[:type_identifier] = t[\"identifier\"]\n",
    "                push!(df_place, NamedTuple(pr))\n",
    "            end\n",
    "            if !has_types\n",
    "                push!(df_place, NamedTuple(pr))\n",
    "            end        \n",
    "        end\n",
    "        if !has_links\n",
    "            push!(df_place, NamedTuple(pr))\n",
    "        end    \n",
    "        i += 1\n",
    "        if i > n_max\n",
    "            break\n",
    "        end\n",
    "    end\n",
    "end    "
   ]
  },
  {
   "cell_type": "code",
   "execution_count": 52,
   "metadata": {},
   "outputs": [],
   "source": [
    "fill_df_dict(df_place, features)"
   ]
  },
  {
   "cell_type": "code",
   "execution_count": 21,
   "metadata": {},
   "outputs": [
    {
     "data": {
      "text/plain": [
       "9-element Vector{String}:\n",
       " \"id\"\n",
       " \"whg_id\"\n",
       " \"title\"\n",
       " \"link_type\"\n",
       " \"link_identifier\"\n",
       " \"type_label\"\n",
       " \"type_identifier\"\n",
       " \"coo_0\"\n",
       " \"coo_1\""
      ]
     },
     "execution_count": 21,
     "metadata": {},
     "output_type": "execute_result"
    }
   ],
   "source": [
    "names(df_place)"
   ]
  },
  {
   "cell_type": "code",
   "execution_count": 22,
   "metadata": {},
   "outputs": [
    {
     "data": {
      "text/plain": [
       "\"C:/Users/georg/Documents/projekte-doc/Utrecht-Priester/data\\\\priest_utrecht_places_a.csv\""
      ]
     },
     "execution_count": 22,
     "metadata": {},
     "output_type": "execute_result"
    }
   ],
   "source": [
    "file_name = joinpath(data_path, \"priest_utrecht_places_a.csv\")\n",
    "CSV.write(file_name, df_place, delim=\";\")"
   ]
  },
  {
   "cell_type": "code",
   "execution_count": 23,
   "metadata": {},
   "outputs": [
    {
     "data": {
      "text/plain": [
       "(2307, 9)"
      ]
     },
     "execution_count": 23,
     "metadata": {},
     "output_type": "execute_result"
    }
   ],
   "source": [
    "size(df_place)"
   ]
  },
  {
   "cell_type": "code",
   "execution_count": 24,
   "metadata": {},
   "outputs": [
    {
     "data": {
      "text/plain": [
       "788"
      ]
     },
     "execution_count": 24,
     "metadata": {},
     "output_type": "execute_result"
    }
   ],
   "source": [
    "length(unique(df_place.id))"
   ]
  },
  {
   "cell_type": "markdown",
   "metadata": {},
   "source": [
    "## Zuordnung zu bekannten Orten in Tabelle `place`\n",
    "Die Koordinaten sind vermutlich in WGS84 angegeben, wie in `place` auch."
   ]
  },
  {
   "cell_type": "markdown",
   "metadata": {},
   "source": [
    "Die Zuordnung wird zunächst nicht verwendet. Die Orte werden unter einem eigenen Typ entsprechend ihrer Quelle in die Tabelle `place` aufgenommen."
   ]
  },
  {
   "cell_type": "code",
   "execution_count": null,
   "metadata": {},
   "outputs": [],
   "source": [
    "wds_path = \"C:/Users/georg/Documents/projekte/WiagDataSetup.jl\""
   ]
  },
  {
   "cell_type": "code",
   "execution_count": null,
   "metadata": {},
   "outputs": [],
   "source": [
    "cd(wds_path)"
   ]
  },
  {
   "cell_type": "code",
   "execution_count": null,
   "metadata": {},
   "outputs": [],
   "source": [
    "using Pkg"
   ]
  },
  {
   "cell_type": "code",
   "execution_count": null,
   "metadata": {},
   "outputs": [],
   "source": [
    "Pkg.activate(\".\")"
   ]
  },
  {
   "cell_type": "code",
   "execution_count": null,
   "metadata": {},
   "outputs": [],
   "source": [
    "using WiagDataSetup"
   ]
  },
  {
   "cell_type": "code",
   "execution_count": null,
   "metadata": {},
   "outputs": [],
   "source": [
    "Wds = WiagDataSetup"
   ]
  },
  {
   "cell_type": "code",
   "execution_count": 39,
   "metadata": {},
   "outputs": [
    {
     "name": "stdout",
     "output_type": "stream",
     "text": [
      "Passwort für User georg: ········\n"
     ]
    },
    {
     "data": {
      "text/plain": [
       "MySQL.Connection(host=\"127.0.0.1\", user=\"georg\", port=\"3306\", db=\"wiag2\")"
      ]
     },
     "execution_count": 39,
     "metadata": {},
     "output_type": "execute_result"
    }
   ],
   "source": [
    "Wds.setDBWIAG(user = \"georg\", db = \"wiag2\")"
   ]
  },
  {
   "cell_type": "code",
   "execution_count": null,
   "metadata": {},
   "outputs": [],
   "source": [
    "using NearestNeighbors"
   ]
  },
  {
   "cell_type": "code",
   "execution_count": null,
   "metadata": {},
   "outputs": [],
   "source": [
    "sql = \"SELECT id, geonames_id, name, feature_code, latitude, longitude \n",
    "FROM place\";\n",
    "df_place_gn = Wds.sql_df(sql);"
   ]
  },
  {
   "cell_type": "code",
   "execution_count": null,
   "metadata": {},
   "outputs": [],
   "source": [
    "p_data = Float64.(transpose(hcat(df_place_gn.longitude, df_place_gn.latitude)));"
   ]
  },
  {
   "cell_type": "code",
   "execution_count": null,
   "metadata": {},
   "outputs": [],
   "source": [
    "tree = KDTree(p_data)"
   ]
  },
  {
   "cell_type": "code",
   "execution_count": null,
   "metadata": {},
   "outputs": [],
   "source": [
    "df_place[50:55, [:id, :whg_id, :title, :coo_0, :coo_1]]"
   ]
  },
  {
   "cell_type": "code",
   "execution_count": null,
   "metadata": {},
   "outputs": [],
   "source": [
    "p_sample = permutedims(hcat(df_place.coo_0, df_place.coo_1));"
   ]
  },
  {
   "cell_type": "code",
   "execution_count": null,
   "metadata": {},
   "outputs": [],
   "source": [
    "range = 0.01\n",
    "idx = inrange(tree, p_sample, range);"
   ]
  },
  {
   "cell_type": "code",
   "execution_count": null,
   "metadata": {},
   "outputs": [],
   "source": [
    "size(idx)"
   ]
  },
  {
   "cell_type": "code",
   "execution_count": null,
   "metadata": {},
   "outputs": [],
   "source": [
    "idx[100:105]"
   ]
  },
  {
   "cell_type": "code",
   "execution_count": null,
   "metadata": {},
   "outputs": [],
   "source": [
    "count(x -> length(x) >= 2, idx), count(x -> length(x) == 1, idx), count(x -> length(x) == 0, idx)"
   ]
  },
  {
   "cell_type": "code",
   "execution_count": null,
   "metadata": {},
   "outputs": [],
   "source": [
    "df_place[104, [:id, :whg_id, :title, :coo_0, :coo_1]]"
   ]
  },
  {
   "cell_type": "code",
   "execution_count": null,
   "metadata": {},
   "outputs": [],
   "source": [
    "df_place_gn[[86491, 87462], :]"
   ]
  },
  {
   "cell_type": "code",
   "execution_count": null,
   "metadata": {},
   "outputs": [],
   "source": [
    "df_place_gp = groupby(df_place, [:coo_0, :coo_1]);"
   ]
  },
  {
   "cell_type": "markdown",
   "metadata": {},
   "source": [
    "Es gibt einen Ort bezogen auf die Koordinaten, der in der Quelle doppelt vorkommt."
   ]
  },
  {
   "cell_type": "code",
   "execution_count": null,
   "metadata": {},
   "outputs": [],
   "source": [
    "size(df_place_gp)"
   ]
  },
  {
   "cell_type": "code",
   "execution_count": null,
   "metadata": {},
   "outputs": [],
   "source": [
    "for g in df_place_gp\n",
    "    id = unique(g.id)\n",
    "    if length(id) > 1\n",
    "        println(id)\n",
    "    end\n",
    "end"
   ]
  },
  {
   "cell_type": "markdown",
   "metadata": {},
   "source": [
    "Das scheint eine echte Dublette: Hasselt"
   ]
  },
  {
   "cell_type": "markdown",
   "metadata": {},
   "source": [
    "Erstelle die Zuordnungstabelle `df_place_map`  \n",
    "Füge `place_id` ein und verknüpfe mit `df_place_gn`"
   ]
  },
  {
   "cell_type": "code",
   "execution_count": null,
   "metadata": {},
   "outputs": [],
   "source": [
    "df_place_map = similar(df_place, 0);"
   ]
  },
  {
   "cell_type": "code",
   "execution_count": null,
   "metadata": {},
   "outputs": [],
   "source": [
    "df_place_map[!, :place_id] = Vector{Union{Int, Missing}}()\n",
    "df_place_map[!, :n_match] = Vector{Int}()"
   ]
  },
  {
   "cell_type": "code",
   "execution_count": null,
   "metadata": {},
   "outputs": [],
   "source": [
    "for (row, i_nn) in zip(eachrow(df_place), idx)\n",
    "    row_data = collect(row)\n",
    "    row_add = [missing, 0]\n",
    "    n_match = length(i_nn)\n",
    "    if n_match == 0\n",
    "        push!(df_place_map, vcat(row_data, row_add))\n",
    "    else\n",
    "        for id in i_nn\n",
    "            row_add = [df_place_gn[id, :id], n_match]\n",
    "            push!(df_place_map, vcat(row_data, row_add))\n",
    "        end\n",
    "    end\n",
    "end            "
   ]
  },
  {
   "cell_type": "code",
   "execution_count": null,
   "metadata": {},
   "outputs": [],
   "source": [
    "size(df_place_map)"
   ]
  },
  {
   "cell_type": "code",
   "execution_count": null,
   "metadata": {},
   "outputs": [],
   "source": [
    "df_place_map = leftjoin(df_place_map, df_place_gn, on = :place_id => :id, matchmissing = :notequal);"
   ]
  },
  {
   "cell_type": "code",
   "execution_count": null,
   "metadata": {},
   "outputs": [],
   "source": [
    "size(df_place_map)"
   ]
  },
  {
   "cell_type": "code",
   "execution_count": null,
   "metadata": {},
   "outputs": [],
   "source": [
    "sort!(df_place_map, :id);"
   ]
  },
  {
   "cell_type": "code",
   "execution_count": null,
   "metadata": {},
   "outputs": [],
   "source": [
    "file_name = joinpath(data_path, \"priest_utrecht_places_geonames.csv\")\n",
    "CSV.write(file_name, df_place_map, delim=\";\")"
   ]
  },
  {
   "cell_type": "code",
   "execution_count": null,
   "metadata": {},
   "outputs": [],
   "source": [
    "df_place_map_gp = groupby(df_place_map, :n_match);"
   ]
  },
  {
   "cell_type": "code",
   "execution_count": null,
   "metadata": {},
   "outputs": [],
   "source": [
    "typeof(df_place_map_gp[1])"
   ]
  },
  {
   "cell_type": "code",
   "execution_count": null,
   "metadata": {},
   "outputs": [],
   "source": [
    "propertynames(df_place_map_gp)"
   ]
  },
  {
   "cell_type": "code",
   "execution_count": null,
   "metadata": {},
   "outputs": [],
   "source": [
    "df_place_map_gp.keymap"
   ]
  },
  {
   "cell_type": "code",
   "execution_count": null,
   "metadata": {},
   "outputs": [],
   "source": [
    "df_place_map_gp[3][7, [:name, :n_match]]"
   ]
  },
  {
   "cell_type": "code",
   "execution_count": null,
   "metadata": {},
   "outputs": [],
   "source": [
    "combine(df_place_map_gp, :id => (x -> length(unique(x))) => :n_id)"
   ]
  },
  {
   "cell_type": "code",
   "execution_count": null,
   "metadata": {},
   "outputs": [],
   "source": [
    "sum([90, 531, 137, 21, 6, 3])"
   ]
  },
  {
   "cell_type": "markdown",
   "metadata": {},
   "source": [
    "## Orte in `place` eintragen\n",
    "Quelle: `C:\\Users\\georg\\Documents\\projekte-doc\\Utrecht-Priester\\Ordinations of priests (identified place of origin).tsv`  \n",
    "bzw. `data\\AnonymousUser_ordinations_788_20220329_145955.json\n",
    "\n",
    "siehe oben"
   ]
  },
  {
   "cell_type": "code",
   "execution_count": null,
   "metadata": {},
   "outputs": [],
   "source": [
    "names(df_place)"
   ]
  },
  {
   "cell_type": "code",
   "execution_count": null,
   "metadata": {},
   "outputs": [],
   "source": [
    "size(df_place)"
   ]
  },
  {
   "cell_type": "markdown",
   "metadata": {},
   "source": [
    "Manche Einträge enthalten im Feld `link_identifier` einen Verweis auf eine GeoNames ID. Lies sie aus und schreibe sie in das Feld `geonames_id`."
   ]
  },
  {
   "cell_type": "code",
   "execution_count": null,
   "metadata": {},
   "outputs": [],
   "source": [
    "rgx = r\"^gn:([0-9]+)\"\n",
    "function get_id_gn_maybe(s)\n",
    "    if ismissing(s)\n",
    "        return missing\n",
    "    end\n",
    "    rgm = match(rgx, s)\n",
    "    if !isnothing(rgm)\n",
    "        return(parse(Int,rgm[1]))\n",
    "    else\n",
    "        return missing\n",
    "    end\n",
    "end "
   ]
  },
  {
   "cell_type": "code",
   "execution_count": null,
   "metadata": {},
   "outputs": [],
   "source": [
    "transform!(df_place, :link_identifier => ByRow(get_id_gn_maybe) => :geonames_id);"
   ]
  },
  {
   "cell_type": "markdown",
   "metadata": {},
   "source": [
    "In Bezug auf die folgenden Spalten ist jeweils nur ein Eintrag relevant."
   ]
  },
  {
   "cell_type": "code",
   "execution_count": null,
   "metadata": {},
   "outputs": [],
   "source": [
    "columns = [\n",
    "    :id => :id_in_source,\n",
    "    :geonames_id => :geonames_id,\n",
    "    :title => :name,    \n",
    "    :coo_1 => :latitude,\n",
    "    :coo_0 => :longitude,\n",
    "];"
   ]
  },
  {
   "cell_type": "code",
   "execution_count": null,
   "metadata": {},
   "outputs": [],
   "source": [
    "df_place_ut = unique(select(df_place, columns));"
   ]
  },
  {
   "cell_type": "code",
   "execution_count": null,
   "metadata": {},
   "outputs": [],
   "source": [
    "size(df_place_ut)"
   ]
  },
  {
   "cell_type": "code",
   "execution_count": null,
   "metadata": {},
   "outputs": [],
   "source": [
    "df_place_ut_gn = subset(df_place_ut, :geonames_id => ByRow(!ismissing));"
   ]
  },
  {
   "cell_type": "code",
   "execution_count": null,
   "metadata": {},
   "outputs": [],
   "source": [
    "size(df_place_ut_gn, 1), length(unique(df_place_ut_gn.id_in_source)) "
   ]
  },
  {
   "cell_type": "markdown",
   "metadata": {},
   "source": [
    "Einträge mit mehreren Verweisen auf GeoNames"
   ]
  },
  {
   "cell_type": "code",
   "execution_count": null,
   "metadata": {},
   "outputs": [],
   "source": [
    "df_place_ut_gn_by_id = groupby(df_place_ut_gn, :id_in_source);"
   ]
  },
  {
   "cell_type": "code",
   "execution_count": null,
   "metadata": {},
   "outputs": [],
   "source": [
    "df_tmp_count = combine(df_place_ut_gn_by_id, nrow => :n);"
   ]
  },
  {
   "cell_type": "code",
   "execution_count": null,
   "metadata": {},
   "outputs": [],
   "source": [
    "df_place_ut_gn_n = leftjoin(df_place_ut_gn, df_tmp_count, on = :id_in_source);"
   ]
  },
  {
   "cell_type": "code",
   "execution_count": null,
   "metadata": {},
   "outputs": [],
   "source": [
    "subset(df_place_ut_gn_n, :n => ByRow((x) -> (x > 1)))"
   ]
  },
  {
   "cell_type": "code",
   "execution_count": null,
   "metadata": {},
   "outputs": [],
   "source": [
    "df_place_ut_gn_mg = antijoin(df_place_ut, df_place_ut_gn, on = :id_in_source);"
   ]
  },
  {
   "cell_type": "code",
   "execution_count": null,
   "metadata": {},
   "outputs": [],
   "source": [
    "length(unique(df_place_ut_gn_mg.id_in_source))"
   ]
  },
  {
   "cell_type": "code",
   "execution_count": null,
   "metadata": {},
   "outputs": [],
   "source": [
    "df_place_ut_out = vcat(df_place_ut_gn, df_place_ut_gn_mg);"
   ]
  },
  {
   "cell_type": "code",
   "execution_count": null,
   "metadata": {},
   "outputs": [],
   "source": [
    "insertcols!(df_place_ut_out, :place_type_id => 2);"
   ]
  },
  {
   "cell_type": "code",
   "execution_count": null,
   "metadata": {},
   "outputs": [],
   "source": [
    "table_name = \"place\"\n",
    "file_name = joinpath(out_path, \"$(table_name)_ut.sql\")\n",
    "Wds.insert_sql(file_name, table_name, df_place_ut_out);"
   ]
  },
  {
   "cell_type": "code",
   "execution_count": null,
   "metadata": {},
   "outputs": [],
   "source": [
    "insertcols!(df_place_ut_gn_mg, :place_type_id => 2);"
   ]
  },
  {
   "cell_type": "code",
   "execution_count": null,
   "metadata": {},
   "outputs": [],
   "source": [
    "out_path"
   ]
  },
  {
   "cell_type": "markdown",
   "metadata": {},
   "source": [
    "```sql\n",
    "source \"C:/Users/georg/Documents/projekte-doc/Utrecht-Priester/data_sql/place_ut.sql\";\n",
    "```"
   ]
  },
  {
   "cell_type": "markdown",
   "metadata": {},
   "source": [
    "### Ortsnamen eintragen"
   ]
  },
  {
   "cell_type": "markdown",
   "metadata": {},
   "source": [
    "```sql\n",
    "INSERT into place_label (place_id, geonames_id, label, lang, is_historic, is_geonames_name) \n",
    "(SELECT id as place_id, geonames_id, name as label, \"nl\", 1 as is_historic, 0 as is_geonames_name \n",
    " FROM place\n",
    " WHERE place_type_id = 2);\n",
    "```"
   ]
  },
  {
   "cell_type": "markdown",
   "metadata": {},
   "source": [
    "### Geburtsorte zuordnen\n",
    "Stapel hat für eine einen Teil der Geburtsorte Koordinaten angegeben. Sie werden genutzt für eine Zuordnung zu Orten in Tabelle `place`."
   ]
  },
  {
   "cell_type": "code",
   "execution_count": null,
   "metadata": {},
   "outputs": [],
   "source": [
    "file_name = joinpath(data_path, \"..\", \"Ordinations of priests (identified place of origin).tsv\")\n",
    "df_priest_birthplace_in = CSV.read(file_name, DataFrame, delim = \"\\t\");"
   ]
  },
  {
   "cell_type": "code",
   "execution_count": null,
   "metadata": {},
   "outputs": [],
   "source": [
    "size(df_priest_birthplace_in)"
   ]
  },
  {
   "cell_type": "code",
   "execution_count": null,
   "metadata": {},
   "outputs": [],
   "source": [
    "df_priest_birthplace_in[301:303, [:WKT_GEOM, :Priester_ID, :Toponiem, :Voornaam]]"
   ]
  },
  {
   "cell_type": "code",
   "execution_count": null,
   "metadata": {},
   "outputs": [],
   "source": [
    "rgx = r\"Point +\\(([0-9]+\\.[0-9]+) +([0-9]+\\.[0-9]+)\\)\""
   ]
  },
  {
   "cell_type": "code",
   "execution_count": null,
   "metadata": {},
   "outputs": [],
   "source": [
    "rgm = match(rgx, \"Point (6.0937644735630796 52.51259100584277917)\")"
   ]
  },
  {
   "cell_type": "code",
   "execution_count": null,
   "metadata": {},
   "outputs": [],
   "source": [
    "parse(Float64, rgm[1])"
   ]
  },
  {
   "cell_type": "code",
   "execution_count": null,
   "metadata": {},
   "outputs": [],
   "source": [
    "function parse_wkt_point(wkt)\n",
    "    rgx = r\"Point +\\(([0-9]+\\.[0-9]+) +([0-9]+\\.[0-9]+)\\)\"\n",
    "    longitude = missing\n",
    "    latitude = missing\n",
    "    rgm = match(rgx, wkt)\n",
    "    if !isnothing(rgm)\n",
    "        if !isnothing(rgm[1])\n",
    "            longitude = parse(Float64, rgm[1])\n",
    "        end\n",
    "        if !isnothing(rgm[2])\n",
    "            latitude = parse(Float64, rgm[2])\n",
    "        end\n",
    "    end\n",
    "    return longitude, latitude\n",
    "end    "
   ]
  },
  {
   "cell_type": "code",
   "execution_count": null,
   "metadata": {},
   "outputs": [],
   "source": [
    "columns = [\n",
    "    :WKT_GEOM => :WKT_GEOM,\n",
    "    :Priester_ID => :id_in_source,\n",
    "    :Voornaam => :givenname,\n",
    "    :Toponiem => :place_name_in,\n",
    "]"
   ]
  },
  {
   "cell_type": "code",
   "execution_count": null,
   "metadata": {},
   "outputs": [],
   "source": [
    "df_priest_bp = select(df_priest_birthplace_in, columns);"
   ]
  },
  {
   "cell_type": "code",
   "execution_count": null,
   "metadata": {},
   "outputs": [],
   "source": [
    "transform!(df_priest_bp, :WKT_GEOM => ByRow(parse_wkt_point) => [:longitude, :latitude]);"
   ]
  },
  {
   "cell_type": "code",
   "execution_count": null,
   "metadata": {},
   "outputs": [],
   "source": [
    "size(df_priest_bp), length(unique(df_priest_bp.id_in_source))"
   ]
  },
  {
   "cell_type": "code",
   "execution_count": null,
   "metadata": {},
   "outputs": [],
   "source": [
    "df_priest_bp_n = groupby(df_priest_bp, :id_in_source)"
   ]
  },
  {
   "cell_type": "code",
   "execution_count": null,
   "metadata": {},
   "outputs": [],
   "source": [
    "df_priest_bp_count = combine(df_priest_bp_n, nrow);"
   ]
  },
  {
   "cell_type": "code",
   "execution_count": null,
   "metadata": {},
   "outputs": [],
   "source": [
    "df_priest_bp_mult = subset(df_priest_bp_count, :nrow => ByRow((x) -> (x > 1)));"
   ]
  },
  {
   "cell_type": "code",
   "execution_count": null,
   "metadata": {},
   "outputs": [],
   "source": [
    "df_priest_bp_mult[51:55, :]"
   ]
  },
  {
   "cell_type": "markdown",
   "metadata": {},
   "source": [
    "*2022-04-12*: Es ist nicht klar, wie die Zuordnung der Koordinaten zu interpretieren ist. Bei mehrfachen Zuordnungen gibt es einen Faktor. Die Summe der Faktoren ist 1.0.  \n",
    "*2022-04-14*: Interpretiere den Faktor als die 'Wahrscheinlichkeit' für eine zutreffende Zuordnung."
   ]
  },
  {
   "cell_type": "code",
   "execution_count": null,
   "metadata": {},
   "outputs": [],
   "source": []
  },
  {
   "cell_type": "markdown",
   "metadata": {},
   "source": [
    "### Verweis auf World Historical Gazeteer"
   ]
  },
  {
   "cell_type": "code",
   "execution_count": 25,
   "metadata": {},
   "outputs": [
    {
     "data": {
      "text/plain": [
       "54"
      ]
     },
     "execution_count": 25,
     "metadata": {},
     "output_type": "execute_result"
    }
   ],
   "source": [
    "authority_id_whg = 54"
   ]
  },
  {
   "cell_type": "code",
   "execution_count": 28,
   "metadata": {},
   "outputs": [
    {
     "data": {
      "text/html": [
       "<div class=\"data-frame\"><p>0 rows × 0 columns</p><table class=\"data-frame\"><thead><tr><th></th></tr><tr><th></th></tr></thead><tbody></tbody></table></div>"
      ],
      "text/latex": [
       "\\begin{tabular}{r|}\n",
       "\t& \\\\\n",
       "\t\\hline\n",
       "\t& \\\\\n",
       "\t\\hline\n",
       "\\end{tabular}\n"
      ],
      "text/plain": [
       "\u001b[1m0×0 DataFrame\u001b[0m"
      ]
     },
     "execution_count": 28,
     "metadata": {},
     "output_type": "execute_result"
    }
   ],
   "source": [
    "df_auth_whg = DataFrame()"
   ]
  },
  {
   "cell_type": "code",
   "execution_count": 29,
   "metadata": {},
   "outputs": [
    {
     "data": {
      "text/html": [
       "<div class=\"data-frame\"><p>1 rows × 4 columns</p><table class=\"data-frame\"><thead><tr><th></th><th>id</th><th>url_formatter</th><th>url_name_formatter</th><th>url_value_example</th></tr><tr><th></th><th title=\"Int64\">Int64</th><th title=\"String\">String</th><th title=\"String\">String</th><th title=\"String\">String</th></tr></thead><tbody><tr><th>1</th><td>54</td><td>https://whgazetteer.org/places/{id}/detail</td><td>World Historical Gazetteer</td><td>6666407</td></tr></tbody></table></div>"
      ],
      "text/latex": [
       "\\begin{tabular}{r|cccc}\n",
       "\t& id & url\\_formatter & url\\_name\\_formatter & url\\_value\\_example\\\\\n",
       "\t\\hline\n",
       "\t& Int64 & String & String & String\\\\\n",
       "\t\\hline\n",
       "\t1 & 54 & https://whgazetteer.org/places/\\{id\\}/detail & World Historical Gazetteer & 6666407 \\\\\n",
       "\\end{tabular}\n"
      ],
      "text/plain": [
       "\u001b[1m1×4 DataFrame\u001b[0m\n",
       "\u001b[1m Row \u001b[0m│\u001b[1m id    \u001b[0m\u001b[1m url_formatter                     \u001b[0m\u001b[1m url_name_formatter         \u001b[0m\u001b[1m u\u001b[0m ⋯\n",
       "\u001b[1m     \u001b[0m│\u001b[90m Int64 \u001b[0m\u001b[90m String                            \u001b[0m\u001b[90m String                     \u001b[0m\u001b[90m S\u001b[0m ⋯\n",
       "─────┼──────────────────────────────────────────────────────────────────────────\n",
       "   1 │    54  https://whgazetteer.org/places/{…  World Historical Gazetteer  6 ⋯\n",
       "\u001b[36m                                                                1 column omitted\u001b[0m"
      ]
     },
     "execution_count": 29,
     "metadata": {},
     "output_type": "execute_result"
    }
   ],
   "source": [
    "insertcols!(df_auth_whg,\n",
    "    :id => authority_id_whg,\n",
    "    :url_formatter => \"https://whgazetteer.org/places/{id}/detail\",\n",
    "    :url_name_formatter => \"World Historical Gazetteer\",\n",
    "    :url_value_example => \"6666407\"\n",
    ")"
   ]
  },
  {
   "cell_type": "code",
   "execution_count": 30,
   "metadata": {},
   "outputs": [],
   "source": [
    "table_name = \"authority\"\n",
    "file_name = joinpath(out_path, \"$(table_name)_whg.sql\")\n",
    "Wds.insert_sql(file_name, table_name, df_auth_whg);"
   ]
  },
  {
   "cell_type": "markdown",
   "metadata": {},
   "source": [
    "Trage die Orte ein in `place_id_external`"
   ]
  },
  {
   "cell_type": "code",
   "execution_count": 32,
   "metadata": {},
   "outputs": [
    {
     "data": {
      "text/html": [
       "<div class=\"data-frame\"><p>5 rows × 5 columns</p><table class=\"data-frame\"><thead><tr><th></th><th>id</th><th>whg_id</th><th>title</th><th>coo_0</th><th>coo_1</th></tr><tr><th></th><th title=\"String\">String</th><th title=\"String\">String</th><th title=\"String\">String</th><th title=\"Union{Missing, Float64}\">Float64?</th><th title=\"Union{Missing, Float64}\">Float64?</th></tr></thead><tbody><tr><th>1</th><td>brom_1040</td><td>6666419</td><td>Ghoes</td><td>3.88887</td><td>51.5063</td></tr><tr><th>2</th><td>brom_1040</td><td>6666419</td><td>Ghoes</td><td>3.88887</td><td>51.5063</td></tr><tr><th>3</th><td>brom_1040</td><td>6666419</td><td>Ghoes</td><td>3.88887</td><td>51.5063</td></tr><tr><th>4</th><td>brom_1041</td><td>6666420</td><td>Bat</td><td>4.21667</td><td>51.4</td></tr><tr><th>5</th><td>brom_1041</td><td>6666420</td><td>Bat</td><td>4.21667</td><td>51.4</td></tr></tbody></table></div>"
      ],
      "text/latex": [
       "\\begin{tabular}{r|ccccc}\n",
       "\t& id & whg\\_id & title & coo\\_0 & coo\\_1\\\\\n",
       "\t\\hline\n",
       "\t& String & String & String & Float64? & Float64?\\\\\n",
       "\t\\hline\n",
       "\t1 & brom\\_1040 & 6666419 & Ghoes & 3.88887 & 51.5063 \\\\\n",
       "\t2 & brom\\_1040 & 6666419 & Ghoes & 3.88887 & 51.5063 \\\\\n",
       "\t3 & brom\\_1040 & 6666419 & Ghoes & 3.88887 & 51.5063 \\\\\n",
       "\t4 & brom\\_1041 & 6666420 & Bat & 4.21667 & 51.4 \\\\\n",
       "\t5 & brom\\_1041 & 6666420 & Bat & 4.21667 & 51.4 \\\\\n",
       "\\end{tabular}\n"
      ],
      "text/plain": [
       "\u001b[1m5×5 DataFrame\u001b[0m\n",
       "\u001b[1m Row \u001b[0m│\u001b[1m id        \u001b[0m\u001b[1m whg_id  \u001b[0m\u001b[1m title  \u001b[0m\u001b[1m coo_0    \u001b[0m\u001b[1m coo_1    \u001b[0m\n",
       "\u001b[1m     \u001b[0m│\u001b[90m String    \u001b[0m\u001b[90m String  \u001b[0m\u001b[90m String \u001b[0m\u001b[90m Float64? \u001b[0m\u001b[90m Float64? \u001b[0m\n",
       "─────┼────────────────────────────────────────────────\n",
       "   1 │ brom_1040  6666419  Ghoes    3.88887   51.5063\n",
       "   2 │ brom_1040  6666419  Ghoes    3.88887   51.5063\n",
       "   3 │ brom_1040  6666419  Ghoes    3.88887   51.5063\n",
       "   4 │ brom_1041  6666420  Bat      4.21667   51.4\n",
       "   5 │ brom_1041  6666420  Bat      4.21667   51.4"
      ]
     },
     "execution_count": 32,
     "metadata": {},
     "output_type": "execute_result"
    }
   ],
   "source": [
    "df_place[51:55, [:id, :whg_id, :title, :coo_0, :coo_1]]"
   ]
  },
  {
   "cell_type": "code",
   "execution_count": 53,
   "metadata": {},
   "outputs": [],
   "source": [
    "df_place_u = unique(df_place, [:id, :whg_id, :title]);\n",
    "rename!(df_place_u, [:id => :id_in_source]);"
   ]
  },
  {
   "cell_type": "code",
   "execution_count": 37,
   "metadata": {},
   "outputs": [
    {
     "data": {
      "text/plain": [
       "(788, 9)"
      ]
     },
     "execution_count": 37,
     "metadata": {},
     "output_type": "execute_result"
    }
   ],
   "source": [
    "size(df_place_u)"
   ]
  },
  {
   "cell_type": "code",
   "execution_count": 40,
   "metadata": {},
   "outputs": [],
   "source": [
    "sql = \"SELECT id, id_in_source, geonames_id, name from place where place_type_id = 2\";\n",
    "df_place_id = Wds.sql_df(sql);"
   ]
  },
  {
   "cell_type": "code",
   "execution_count": 43,
   "metadata": {},
   "outputs": [
    {
     "data": {
      "text/html": [
       "<div class=\"data-frame\"><p>4 rows × 4 columns</p><table class=\"data-frame\"><thead><tr><th></th><th>id</th><th>id_in_source</th><th>geonames_id</th><th>name</th></tr><tr><th></th><th title=\"Int32\">Int32</th><th title=\"String\">String</th><th title=\"Union{Missing, Int32}\">Int32?</th><th title=\"Union{Missing, String}\">String?</th></tr></thead><tbody><tr><th>1</th><td>943712</td><td>brom_1250</td><td>2751592</td><td>Limmen</td></tr><tr><th>2</th><td>943713</td><td>brom_1268</td><td>2754692</td><td>Heemste</td></tr><tr><th>3</th><td>943714</td><td>brom_1268</td><td>2754691</td><td>Heemste</td></tr><tr><th>4</th><td>943715</td><td>brom_1276</td><td>2759631</td><td>Assendelff</td></tr></tbody></table></div>"
      ],
      "text/latex": [
       "\\begin{tabular}{r|cccc}\n",
       "\t& id & id\\_in\\_source & geonames\\_id & name\\\\\n",
       "\t\\hline\n",
       "\t& Int32 & String & Int32? & String?\\\\\n",
       "\t\\hline\n",
       "\t1 & 943712 & brom\\_1250 & 2751592 & Limmen \\\\\n",
       "\t2 & 943713 & brom\\_1268 & 2754692 & Heemste \\\\\n",
       "\t3 & 943714 & brom\\_1268 & 2754691 & Heemste \\\\\n",
       "\t4 & 943715 & brom\\_1276 & 2759631 & Assendelff \\\\\n",
       "\\end{tabular}\n"
      ],
      "text/plain": [
       "\u001b[1m4×4 DataFrame\u001b[0m\n",
       "\u001b[1m Row \u001b[0m│\u001b[1m id     \u001b[0m\u001b[1m id_in_source \u001b[0m\u001b[1m geonames_id \u001b[0m\u001b[1m name       \u001b[0m\n",
       "\u001b[1m     \u001b[0m│\u001b[90m Int32  \u001b[0m\u001b[90m String       \u001b[0m\u001b[90m Int32?      \u001b[0m\u001b[90m String?    \u001b[0m\n",
       "─────┼───────────────────────────────────────────────\n",
       "   1 │ 943712  brom_1250         2751592  Limmen\n",
       "   2 │ 943713  brom_1268         2754692  Heemste\n",
       "   3 │ 943714  brom_1268         2754691  Heemste\n",
       "   4 │ 943715  brom_1276         2759631  Assendelff"
      ]
     },
     "execution_count": 43,
     "metadata": {},
     "output_type": "execute_result"
    }
   ],
   "source": [
    "df_place_id[31:34, :]"
   ]
  },
  {
   "cell_type": "code",
   "execution_count": 41,
   "metadata": {},
   "outputs": [
    {
     "data": {
      "text/plain": [
       "(796, 4)"
      ]
     },
     "execution_count": 41,
     "metadata": {},
     "output_type": "execute_result"
    }
   ],
   "source": [
    "size(df_place_id)"
   ]
  },
  {
   "cell_type": "code",
   "execution_count": 54,
   "metadata": {},
   "outputs": [],
   "source": [
    "df_place_u_id = innerjoin(df_place_u, df_place_id, on = :id_in_source);"
   ]
  },
  {
   "cell_type": "code",
   "execution_count": 56,
   "metadata": {},
   "outputs": [
    {
     "data": {
      "text/plain": [
       "(796, 12)"
      ]
     },
     "execution_count": 56,
     "metadata": {},
     "output_type": "execute_result"
    }
   ],
   "source": [
    "size(df_place_u_id)"
   ]
  },
  {
   "cell_type": "code",
   "execution_count": 62,
   "metadata": {},
   "outputs": [
    {
     "data": {
      "text/plain": [
       "3-element Vector{Pair{Symbol, Symbol}}:\n",
       "          :id => :place_id\n",
       "      :whg_id => :value\n",
       " :geonames_id => :geonames_id"
      ]
     },
     "execution_count": 62,
     "metadata": {},
     "output_type": "execute_result"
    }
   ],
   "source": [
    "columns = [\n",
    "    :id => :place_id,\n",
    "    :whg_id => :value,\n",
    "    :geonames_id => :geonames_id\n",
    "]"
   ]
  },
  {
   "cell_type": "code",
   "execution_count": 66,
   "metadata": {},
   "outputs": [],
   "source": [
    "df_place_id_external = select(df_place_u_id, columns);"
   ]
  },
  {
   "cell_type": "code",
   "execution_count": 67,
   "metadata": {},
   "outputs": [],
   "source": [
    "insertcols!(df_place_id_external,\n",
    "    :authority_id => authority_id_whg\n",
    ");"
   ]
  },
  {
   "cell_type": "code",
   "execution_count": 69,
   "metadata": {},
   "outputs": [],
   "source": [
    "table_name = \"place_id_external\"\n",
    "file_name = joinpath(out_path, \"$(table_name).sql\")\n",
    "Wds.insert_sql(file_name, table_name, df_place_id_external);"
   ]
  },
  {
   "cell_type": "code",
   "execution_count": null,
   "metadata": {},
   "outputs": [],
   "source": []
  }
 ],
 "metadata": {
  "kernelspec": {
   "display_name": "Julia 1.7.0",
   "language": "julia",
   "name": "julia-1.7"
  },
  "language_info": {
   "file_extension": ".jl",
   "mimetype": "application/julia",
   "name": "julia",
   "version": "1.7.0"
  }
 },
 "nbformat": 4,
 "nbformat_minor": 4
}
