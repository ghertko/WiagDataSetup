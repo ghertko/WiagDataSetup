{
 "cells": [
  {
   "cell_type": "markdown",
   "metadata": {},
   "source": [
    "# Wissensaggregator Mittelalter und frühe Neuzeit\n",
    "\n",
    "## Daten für Diözesen übertragen\n",
    "\n",
    "Lies Daten aus `Kloester und Stifte_neu_2020.accdb`.\n",
    "\n",
    "- [Diözesen](#Diözesen)\n",
    "  - [Einträge in `item`](#Einträge-in-item)\n",
    "  - [Externe URLs eintragen](#Externe-URLs-eintragen)\n",
    "  - [Alternative Namen eintragen](#Alternative-Namen-eintragen)\n",
    "  - [Bischofssitze zuordnen](#Bischofssitze-zuordnen)\n",
    "  - [Literaturverweise](#Literaturverweise)"
   ]
  },
  {
   "cell_type": "markdown",
   "metadata": {},
   "source": [
    "Vorspann: Pakete laden; mit der Datenbank verbinden"
   ]
  },
  {
   "cell_type": "code",
   "execution_count": 1,
   "metadata": {},
   "outputs": [
    {
     "data": {
      "text/plain": [
       "\"../..\""
      ]
     },
     "execution_count": 1,
     "metadata": {},
     "output_type": "execute_result"
    }
   ],
   "source": [
    "wds_path=\"../..\""
   ]
  },
  {
   "cell_type": "code",
   "execution_count": 2,
   "metadata": {},
   "outputs": [],
   "source": [
    "cd(wds_path)"
   ]
  },
  {
   "cell_type": "code",
   "execution_count": 3,
   "metadata": {},
   "outputs": [],
   "source": [
    "using Pkg"
   ]
  },
  {
   "cell_type": "code",
   "execution_count": 4,
   "metadata": {},
   "outputs": [
    {
     "name": "stderr",
     "output_type": "stream",
     "text": [
      "\u001b[32m\u001b[1m  Activating\u001b[22m\u001b[39m project at `C:\\Users\\georg\\Documents\\projekte\\WiagDataSetup.jl`\n"
     ]
    }
   ],
   "source": [
    "Pkg.activate(\".\")"
   ]
  },
  {
   "cell_type": "code",
   "execution_count": 5,
   "metadata": {},
   "outputs": [],
   "source": [
    "using Revise"
   ]
  },
  {
   "cell_type": "code",
   "execution_count": 6,
   "metadata": {},
   "outputs": [],
   "source": [
    "using WiagDataSetup"
   ]
  },
  {
   "cell_type": "code",
   "execution_count": 7,
   "metadata": {},
   "outputs": [],
   "source": [
    "using MySQL, CSV, DataFrames"
   ]
  },
  {
   "cell_type": "code",
   "execution_count": 9,
   "metadata": {},
   "outputs": [],
   "source": [
    "includet(\"src/Bistum.jl\")"
   ]
  },
  {
   "cell_type": "code",
   "execution_count": 10,
   "metadata": {},
   "outputs": [
    {
     "data": {
      "text/plain": [
       "WiagDataSetup"
      ]
     },
     "execution_count": 10,
     "metadata": {},
     "output_type": "execute_result"
    }
   ],
   "source": [
    "Wds = WiagDataSetup"
   ]
  },
  {
   "cell_type": "code",
   "execution_count": 11,
   "metadata": {},
   "outputs": [
    {
     "name": "stdout",
     "output_type": "stream",
     "text": [
      "Passwort für User georg: ········\n"
     ]
    },
    {
     "data": {
      "text/plain": [
       "MySQL.Connection(host=\"127.0.0.1\", user=\"georg\", port=\"3306\", db=\"wiag_in\")"
      ]
     },
     "execution_count": 11,
     "metadata": {},
     "output_type": "execute_result"
    }
   ],
   "source": [
    "Wds.setDBWIAG(user=\"georg\", db=\"wiag_in\")"
   ]
  },
  {
   "cell_type": "markdown",
   "metadata": {},
   "source": [
    "Trage die jeweils aktuelle Datenquelle ein!"
   ]
  },
  {
   "cell_type": "code",
   "execution_count": 12,
   "metadata": {},
   "outputs": [
    {
     "data": {
      "text/plain": [
       "\"C:\\\\Users\\\\georg\\\\Documents\\\\projekte-doc\\\\WIAGweb2\\\\data\\\\bistümer-2022-11-10\""
      ]
     },
     "execution_count": 12,
     "metadata": {},
     "output_type": "execute_result"
    }
   ],
   "source": [
    "data_path = \"C:\\\\Users\\\\georg\\\\Documents\\\\projekte-doc\\\\WIAGweb2\\\\data\\\\bistümer-2022-11-10\""
   ]
  },
  {
   "cell_type": "code",
   "execution_count": 17,
   "metadata": {},
   "outputs": [
    {
     "data": {
      "text/plain": [
       "1"
      ]
     },
     "execution_count": 17,
     "metadata": {},
     "output_type": "execute_result"
    }
   ],
   "source": [
    "item_type_id = 1"
   ]
  },
  {
   "cell_type": "code",
   "execution_count": 18,
   "metadata": {},
   "outputs": [
    {
     "name": "stderr",
     "output_type": "stream",
     "text": [
      "┌ Info: WiagDataSetup\n",
      "└ @ Main C:\\Users\\georg\\Documents\\projekte\\WiagDataSetup.jl\\src\\Bistum.jl:13\n",
      "┌ Info: \n",
      "│   item_type_id = 1\n",
      "└ @ Main C:\\Users\\georg\\Documents\\projekte\\WiagDataSetup.jl\\src\\Bistum.jl:14\n"
     ]
    }
   ],
   "source": [
    "check_globals()"
   ]
  },
  {
   "cell_type": "markdown",
   "metadata": {},
   "source": [
    "## Diözesen"
   ]
  },
  {
   "cell_type": "code",
   "execution_count": 15,
   "metadata": {},
   "outputs": [
    {
     "name": "stderr",
     "output_type": "stream",
     "text": [
      "┌ Info: Zeilen, Spalten: \n",
      "│   size(df_d) = (119, 16)\n",
      "└ @ Main C:\\Users\\georg\\Documents\\projekte\\WiagDataSetup.jl\\src\\Bistum.jl:36\n"
     ]
    }
   ],
   "source": [
    "csv_file = joinpath(data_path, \"gs_dioceses.csv\")\n",
    "df_d = read_diocese(csv_file, :id_diocese);"
   ]
  },
  {
   "cell_type": "markdown",
   "metadata": {},
   "source": [
    "## Bischofssitze\n",
    "*2022-11-10* Bischofssitze neu zuordnen. Die bisherige Zuordnung nutzte die Namen der Orte, die freilich nicht eindeutig sind. Bei manchen Bischofssitzen ist die falsche GeoNames ID eingetragen (feature code \"A\" statt \"P\"). Das ist in der editierten Version korrigiert."
   ]
  },
  {
   "cell_type": "code",
   "execution_count": 88,
   "metadata": {},
   "outputs": [
    {
     "name": "stderr",
     "output_type": "stream",
     "text": [
      "┌ Info: Zeilen, Spalten: \n",
      "│   size(df_p) = (46921, 16)\n",
      "└ @ Main C:\\Users\\georg\\Documents\\projekte\\WiagDataSetup.jl\\src\\Bistum.jl:53\n"
     ]
    }
   ],
   "source": [
    "csv_file = joinpath(data_path, \"gs_places_edit.csv\")\n",
    "df_p = read_place(csv_file);"
   ]
  },
  {
   "cell_type": "markdown",
   "metadata": {},
   "source": [
    "Ergänze `df_d` um `geonames_id`."
   ]
  },
  {
   "cell_type": "code",
   "execution_count": 89,
   "metadata": {},
   "outputs": [],
   "source": [
    "df_d_p = leftjoin(\n",
    "    df_d, \n",
    "    select(df_p, [:id_places => :id_places, :place_name => :bs_name, :geonames_id => :geonames_id]), \n",
    "    on = :bishopric_seat => :id_places, \n",
    "    matchmissing = :notequal);"
   ]
  },
  {
   "cell_type": "markdown",
   "metadata": {},
   "source": [
    "Lies Orte aus WIAG"
   ]
  },
  {
   "cell_type": "code",
   "execution_count": 90,
   "metadata": {},
   "outputs": [],
   "source": [
    "table = \"place\";\n",
    "sql = \"select id, name, geonames_id from $(table)\";\n",
    "df_p_wiag = Wds.sql_df(sql);"
   ]
  },
  {
   "cell_type": "markdown",
   "metadata": {},
   "source": [
    "Ergänze `df_d_p` um `place.id` aus WIAG"
   ]
  },
  {
   "cell_type": "code",
   "execution_count": 91,
   "metadata": {},
   "outputs": [],
   "source": [
    "df_d_p = leftjoin(\n",
    "    df_d_p,\n",
    "    select(df_p_wiag, [:id => :bishopric_seat_id, :name => :wiag_bs_name, :geonames_id => :geonames_id]),\n",
    "    on = :geonames_id,\n",
    "    matchmissing = :notequal);"
   ]
  },
  {
   "cell_type": "code",
   "execution_count": 92,
   "metadata": {},
   "outputs": [
    {
     "data": {
      "text/html": [
       "<div><div style = \"float: left;\"><span>5×6 DataFrame</span></div><div style = \"clear: both;\"></div></div><div class = \"data-frame\" style = \"overflow-x: scroll;\"><table class = \"data-frame\" style = \"margin-bottom: 6px;\"><thead><tr class = \"header\"><th class = \"rowNumber\" style = \"font-weight: bold; text-align: right;\">Row</th><th style = \"text-align: left;\">id_diocese</th><th style = \"text-align: left;\">diocese</th><th style = \"text-align: left;\">bs_name</th><th style = \"text-align: left;\">wiag_bs_name</th><th style = \"text-align: left;\">geonames_id</th><th style = \"text-align: left;\">bishopric_seat_id</th></tr><tr class = \"subheader headerLastRow\"><th class = \"rowNumber\" style = \"font-weight: bold; text-align: right;\"></th><th title = \"String\" style = \"text-align: left;\">String</th><th title = \"String\" style = \"text-align: left;\">String</th><th title = \"Union{Missing, String}\" style = \"text-align: left;\">String?</th><th title = \"Union{Missing, String}\" style = \"text-align: left;\">String?</th><th title = \"Union{Missing, Int64}\" style = \"text-align: left;\">Int64?</th><th title = \"Union{Missing, Int32}\" style = \"text-align: left;\">Int32?</th></tr></thead><tbody><tr><td class = \"rowNumber\" style = \"font-weight: bold; text-align: right;\">1</td><td style = \"text-align: left;\">14</td><td style = \"text-align: left;\">Lübeck</td><td style = \"text-align: left;\">Lübeck</td><td style = \"text-align: left;\">Lübeck</td><td style = \"text-align: right;\">2875601</td><td style = \"text-align: right;\">386543</td></tr><tr><td class = \"rowNumber\" style = \"font-weight: bold; text-align: right;\">2</td><td style = \"text-align: left;\">15</td><td style = \"text-align: left;\">Magdeburg</td><td style = \"text-align: left;\">Magdeburg</td><td style = \"text-align: left;\">Magdeburg</td><td style = \"text-align: right;\">2874545</td><td style = \"text-align: right;\">387084</td></tr><tr><td class = \"rowNumber\" style = \"font-weight: bold; text-align: right;\">3</td><td style = \"text-align: left;\">16</td><td style = \"text-align: left;\">Mainz</td><td style = \"text-align: left;\">Mainz</td><td style = \"text-align: left;\">Mainz</td><td style = \"text-align: right;\">2874225</td><td style = \"text-align: right;\">387241</td></tr><tr><td class = \"rowNumber\" style = \"font-weight: bold; text-align: right;\">4</td><td style = \"text-align: left;\">13</td><td style = \"text-align: left;\">Lebus</td><td style = \"text-align: left;\">Lebus</td><td style = \"text-align: left;\">Lebus</td><td style = \"text-align: right;\">2879795</td><td style = \"text-align: right;\">388462</td></tr><tr><td class = \"rowNumber\" style = \"font-weight: bold; text-align: right;\">5</td><td style = \"text-align: left;\">11</td><td style = \"text-align: left;\">Köln</td><td style = \"text-align: left;\">Köln</td><td style = \"text-align: left;\">Köln</td><td style = \"text-align: right;\">2886242</td><td style = \"text-align: right;\">391607</td></tr></tbody></table></div>"
      ],
      "text/latex": [
       "\\begin{tabular}{r|cccccc}\n",
       "\t& id\\_diocese & diocese & bs\\_name & wiag\\_bs\\_name & geonames\\_id & bishopric\\_seat\\_id\\\\\n",
       "\t\\hline\n",
       "\t& String & String & String? & String? & Int64? & Int32?\\\\\n",
       "\t\\hline\n",
       "\t1 & 14 & Lübeck & Lübeck & Lübeck & 2875601 & 386543 \\\\\n",
       "\t2 & 15 & Magdeburg & Magdeburg & Magdeburg & 2874545 & 387084 \\\\\n",
       "\t3 & 16 & Mainz & Mainz & Mainz & 2874225 & 387241 \\\\\n",
       "\t4 & 13 & Lebus & Lebus & Lebus & 2879795 & 388462 \\\\\n",
       "\t5 & 11 & Köln & Köln & Köln & 2886242 & 391607 \\\\\n",
       "\\end{tabular}\n"
      ],
      "text/plain": [
       "\u001b[1m5×6 DataFrame\u001b[0m\n",
       "\u001b[1m Row \u001b[0m│\u001b[1m id_diocese \u001b[0m\u001b[1m diocese   \u001b[0m\u001b[1m bs_name   \u001b[0m\u001b[1m wiag_bs_name \u001b[0m\u001b[1m geonames_id \u001b[0m\u001b[1m bishopric_\u001b[0m ⋯\n",
       "     │\u001b[90m String     \u001b[0m\u001b[90m String    \u001b[0m\u001b[90m String?   \u001b[0m\u001b[90m String?      \u001b[0m\u001b[90m Int64?      \u001b[0m\u001b[90m Int32?    \u001b[0m ⋯\n",
       "─────┼──────────────────────────────────────────────────────────────────────────\n",
       "   1 │ 14          Lübeck     Lübeck     Lübeck            2875601             ⋯\n",
       "   2 │ 15          Magdeburg  Magdeburg  Magdeburg         2874545\n",
       "   3 │ 16          Mainz      Mainz      Mainz             2874225\n",
       "   4 │ 13          Lebus      Lebus      Lebus             2879795\n",
       "   5 │ 11          Köln       Köln       Köln              2886242             ⋯\n",
       "\u001b[36m                                                                1 column omitted\u001b[0m"
      ]
     },
     "execution_count": 92,
     "metadata": {},
     "output_type": "execute_result"
    }
   ],
   "source": [
    "df_d_p[21:25, [:id_diocese, :diocese, :bs_name, :wiag_bs_name, :geonames_id, :bishopric_seat_id]]"
   ]
  },
  {
   "cell_type": "markdown",
   "metadata": {},
   "source": [
    "Lies Bistümer aus WIAG"
   ]
  },
  {
   "cell_type": "code",
   "execution_count": 93,
   "metadata": {},
   "outputs": [],
   "source": [
    "table = \"diocese\";\n",
    "sql = \"select id, name from $(table)\";\n",
    "df_d_wiag = Wds.sql_df(sql);"
   ]
  },
  {
   "cell_type": "markdown",
   "metadata": {},
   "source": [
    "Ergänze `df_d_wiag` um einen neuen Wert für `bishopric_seat`"
   ]
  },
  {
   "cell_type": "code",
   "execution_count": 94,
   "metadata": {},
   "outputs": [],
   "source": [
    "df_d_wiag = leftjoin(\n",
    "    df_d_wiag,\n",
    "    select(df_d_p, [:diocese, :bs_name, :wiag_bs_name, :geonames_id, :bishopric_seat_id]),\n",
    "    on = :name => :diocese,\n",
    ");"
   ]
  },
  {
   "cell_type": "markdown",
   "metadata": {},
   "source": [
    "Keine Fehlermeldung: Alle Diözesen konnten zugeordnet werden"
   ]
  },
  {
   "cell_type": "code",
   "execution_count": 95,
   "metadata": {},
   "outputs": [
    {
     "data": {
      "text/plain": [
       "(79, 6)"
      ]
     },
     "execution_count": 95,
     "metadata": {},
     "output_type": "execute_result"
    }
   ],
   "source": [
    "size(df_d_wiag)"
   ]
  },
  {
   "cell_type": "code",
   "execution_count": 103,
   "metadata": {},
   "outputs": [
    {
     "data": {
      "text/html": [
       "<div><div style = \"float: left;\"><span>1×6 DataFrame</span></div><div style = \"clear: both;\"></div></div><div class = \"data-frame\" style = \"overflow-x: scroll;\"><table class = \"data-frame\" style = \"margin-bottom: 6px;\"><thead><tr class = \"header\"><th class = \"rowNumber\" style = \"font-weight: bold; text-align: right;\">Row</th><th style = \"text-align: left;\">id</th><th style = \"text-align: left;\">name</th><th style = \"text-align: left;\">bs_name</th><th style = \"text-align: left;\">wiag_bs_name</th><th style = \"text-align: left;\">geonames_id</th><th style = \"text-align: left;\">bishopric_seat_id</th></tr><tr class = \"subheader headerLastRow\"><th class = \"rowNumber\" style = \"font-weight: bold; text-align: right;\"></th><th title = \"Int32\" style = \"text-align: left;\">Int32</th><th title = \"Union{Missing, String}\" style = \"text-align: left;\">String?</th><th title = \"Union{Missing, String}\" style = \"text-align: left;\">String?</th><th title = \"Union{Missing, String}\" style = \"text-align: left;\">String?</th><th title = \"Union{Missing, Int64}\" style = \"text-align: left;\">Int64?</th><th title = \"Union{Missing, Int32}\" style = \"text-align: left;\">Int32?</th></tr></thead><tbody><tr><td class = \"rowNumber\" style = \"font-weight: bold; text-align: right;\">1</td><td style = \"text-align: right;\">55</td><td style = \"text-align: left;\">Nordische Missionen</td><td style = \"font-style: italic; text-align: left;\">missing</td><td style = \"font-style: italic; text-align: left;\">missing</td><td style = \"font-style: italic; text-align: right;\">missing</td><td style = \"font-style: italic; text-align: right;\">missing</td></tr></tbody></table></div>"
      ],
      "text/latex": [
       "\\begin{tabular}{r|cccccc}\n",
       "\t& id & name & bs\\_name & wiag\\_bs\\_name & geonames\\_id & bishopric\\_seat\\_id\\\\\n",
       "\t\\hline\n",
       "\t& Int32 & String? & String? & String? & Int64? & Int32?\\\\\n",
       "\t\\hline\n",
       "\t1 & 55 & Nordische Missionen & \\emph{missing} & \\emph{missing} & \\emph{missing} & \\emph{missing} \\\\\n",
       "\\end{tabular}\n"
      ],
      "text/plain": [
       "\u001b[1m1×6 DataFrame\u001b[0m\n",
       "\u001b[1m Row \u001b[0m│\u001b[1m id    \u001b[0m\u001b[1m name                \u001b[0m\u001b[1m bs_name \u001b[0m\u001b[1m wiag_bs_name \u001b[0m\u001b[1m geonames_id \u001b[0m\u001b[1m bishopr\u001b[0m ⋯\n",
       "     │\u001b[90m Int32 \u001b[0m\u001b[90m String?             \u001b[0m\u001b[90m String? \u001b[0m\u001b[90m String?      \u001b[0m\u001b[90m Int64?      \u001b[0m\u001b[90m Int32? \u001b[0m ⋯\n",
       "─────┼──────────────────────────────────────────────────────────────────────────\n",
       "   1 │    55  Nordische Missionen \u001b[90m missing \u001b[0m\u001b[90m missing      \u001b[0m\u001b[90m     missing \u001b[0m\u001b[90m        \u001b[0m ⋯\n",
       "\u001b[36m                                                                1 column omitted\u001b[0m"
      ]
     },
     "execution_count": 103,
     "metadata": {},
     "output_type": "execute_result"
    }
   ],
   "source": [
    "filter(:geonames_id => ismissing, df_d_wiag)"
   ]
  },
  {
   "cell_type": "code",
   "execution_count": 105,
   "metadata": {},
   "outputs": [],
   "source": [
    "dropmissing!(df_d_wiag, :bs_name);"
   ]
  },
  {
   "cell_type": "code",
   "execution_count": 106,
   "metadata": {},
   "outputs": [
    {
     "data": {
      "text/plain": [
       "MySQL.TextCursor{true}(MySQL.Connection(host=\"127.0.0.1\", user=\"georg\", port=\"3306\", db=\"wiag_in\"), \"DROP TABLE IF EXISTS diocese_update\", 0, -1, 0, MySQL.API.MYSQL_RES(Ptr{Nothing} @0x0000000000000000), Symbol[], Type[], Dict{Symbol, Int64}(), 0, 1, false)"
      ]
     },
     "execution_count": 106,
     "metadata": {},
     "output_type": "execute_result"
    }
   ],
   "source": [
    "table = \"diocese_update\";\n",
    "sql = \"DROP TABLE IF EXISTS $(table)\";\n",
    "DBInterface.execute(Wds.dbwiag, sql)"
   ]
  },
  {
   "cell_type": "code",
   "execution_count": 107,
   "metadata": {},
   "outputs": [
    {
     "data": {
      "text/plain": [
       "MySQL.TextCursor{true}(MySQL.Connection(host=\"127.0.0.1\", user=\"georg\", port=\"3306\", db=\"wiag_in\"), \"CREATE TEMPORARY TABLE diocese_update (id INT, bishopric_seat_id INT) DEFAULT CHARSET=utf8\", 0, -1, 0, MySQL.API.MYSQL_RES(Ptr{Nothing} @0x0000000000000000), Symbol[], Type[], Dict{Symbol, Int64}(), 0, 1, false)"
      ]
     },
     "execution_count": 107,
     "metadata": {},
     "output_type": "execute_result"
    }
   ],
   "source": [
    "table = \"diocese_update\"\n",
    "sql = \"CREATE TEMPORARY TABLE $(table) \" *\n",
    "\"(id INT, bishopric_seat_id INT) \" *\n",
    "\"DEFAULT CHARSET=utf8\";\n",
    "DBInterface.execute(Wds.dbwiag, sql)"
   ]
  },
  {
   "cell_type": "code",
   "execution_count": 108,
   "metadata": {},
   "outputs": [
    {
     "name": "stderr",
     "output_type": "stream",
     "text": [
      "┌ Info: Rows inserted: 78\n",
      "└ @ WiagDataSetup C:\\Users\\georg\\Documents\\projekte\\WiagDataSetup.jl\\src\\WiagDataSetup.jl:1216\n"
     ]
    },
    {
     "data": {
      "text/plain": [
       "78"
      ]
     },
     "execution_count": 108,
     "metadata": {},
     "output_type": "execute_result"
    }
   ],
   "source": [
    "table = \"diocese_update\"\n",
    "Wds.filltable!(table, select(df_d_wiag, [:id, :bishopric_seat_id]))"
   ]
  },
  {
   "cell_type": "code",
   "execution_count": 109,
   "metadata": {},
   "outputs": [
    {
     "data": {
      "text/plain": [
       "MySQL.TextCursor{true}(MySQL.Connection(host=\"127.0.0.1\", user=\"georg\", port=\"3306\", db=\"wiag_in\"), \"UPDATE diocese, (SELECT id, bishopric_seat_id FROM diocese_update) as d_update SET diocese.bishopric_seat_id = d_update.bishopric_seat_id WHERE diocese.id = d_update.id\", 0, -1, 77, MySQL.API.MYSQL_RES(Ptr{Nothing} @0x0000000000000000), Symbol[], Type[], Dict{Symbol, Int64}(), 0, 1, false)"
      ]
     },
     "execution_count": 109,
     "metadata": {},
     "output_type": "execute_result"
    }
   ],
   "source": [
    "sql = \"UPDATE diocese, (SELECT id, bishopric_seat_id FROM diocese_update) as d_update \" *\n",
    "\"SET diocese.bishopric_seat_id = d_update.bishopric_seat_id \" *\n",
    "\"WHERE diocese.id = d_update.id\";\n",
    "DBInterface.execute(Wds.dbwiag, sql)"
   ]
  },
  {
   "cell_type": "code",
   "execution_count": null,
   "metadata": {},
   "outputs": [],
   "source": []
  }
 ],
 "metadata": {
  "kernelspec": {
   "display_name": "Julia 1.8.2",
   "language": "julia",
   "name": "julia-1.8"
  },
  "language_info": {
   "file_extension": ".jl",
   "mimetype": "application/julia",
   "name": "julia",
   "version": "1.8.2"
  }
 },
 "nbformat": 4,
 "nbformat_minor": 4
}
