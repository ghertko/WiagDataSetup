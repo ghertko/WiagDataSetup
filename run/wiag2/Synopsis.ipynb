{
 "cells": [
  {
   "cell_type": "markdown",
   "metadata": {},
   "source": [
    "# Wissensaggregator Mittelalter und frühe Neuzeit\n",
    "WIAGweb2\n",
    "\n",
    "## Daten für Bischöfe und Domherren aus verschiedenen Quellen\n",
    "\n",
    "Übertrage Daten aus Access. Die Daten werden aus Access via ODBC in eine Transfer-Datenbank geschrieben oder als CSV-Datei exportiert. Vergleiche die Daten in Bezug auf GSN, Namen, Lebensdaten\n",
    "\n",
    "[Domherren](#Domherren)  \n",
    "[Bischöfe](#Bischöfe)  \n",
    "[Personendatenbank](#Personendatenbank)"
   ]
  },
  {
   "cell_type": "markdown",
   "metadata": {},
   "source": [
    "Vorspann: Pakete laden; mit der Datenbank verbinden"
   ]
  },
  {
   "cell_type": "code",
   "execution_count": 1,
   "metadata": {},
   "outputs": [
    {
     "data": {
      "text/plain": [
       "\"../..\""
      ]
     },
     "execution_count": 1,
     "metadata": {},
     "output_type": "execute_result"
    }
   ],
   "source": [
    "wds_path=\"../..\""
   ]
  },
  {
   "cell_type": "code",
   "execution_count": 2,
   "metadata": {},
   "outputs": [],
   "source": [
    "cd(wds_path)"
   ]
  },
  {
   "cell_type": "code",
   "execution_count": 83,
   "metadata": {},
   "outputs": [
    {
     "data": {
      "text/plain": [
       "\"C:\\\\Users\\\\georg\\\\Documents\\\\projekte-doc\\\\WIAGweb2\\\\data\""
      ]
     },
     "execution_count": 83,
     "metadata": {},
     "output_type": "execute_result"
    }
   ],
   "source": [
    "out_path = \"C:\\\\Users\\\\georg\\\\Documents\\\\projekte-doc\\\\WIAGweb2\\\\data\""
   ]
  },
  {
   "cell_type": "code",
   "execution_count": 5,
   "metadata": {},
   "outputs": [],
   "source": [
    "using Pkg"
   ]
  },
  {
   "cell_type": "code",
   "execution_count": 6,
   "metadata": {},
   "outputs": [
    {
     "name": "stderr",
     "output_type": "stream",
     "text": [
      "\u001b[32m\u001b[1m  Activating\u001b[22m\u001b[39m project at `C:\\Users\\georg\\Documents\\projekte\\WiagDataSetup.jl`\n"
     ]
    }
   ],
   "source": [
    "Pkg.activate(\".\")"
   ]
  },
  {
   "cell_type": "code",
   "execution_count": 7,
   "metadata": {},
   "outputs": [],
   "source": [
    "using Revise"
   ]
  },
  {
   "cell_type": "code",
   "execution_count": 8,
   "metadata": {},
   "outputs": [],
   "source": [
    "using WiagDataSetup"
   ]
  },
  {
   "cell_type": "code",
   "execution_count": 9,
   "metadata": {},
   "outputs": [],
   "source": [
    "using MySQL, DataFrames"
   ]
  },
  {
   "cell_type": "code",
   "execution_count": 10,
   "metadata": {},
   "outputs": [
    {
     "data": {
      "text/plain": [
       "120"
      ]
     },
     "execution_count": 10,
     "metadata": {},
     "output_type": "execute_result"
    }
   ],
   "source": [
    "ENV[\"COLUMNS\"] = 120"
   ]
  },
  {
   "cell_type": "code",
   "execution_count": 11,
   "metadata": {},
   "outputs": [
    {
     "data": {
      "text/plain": [
       "WiagDataSetup"
      ]
     },
     "execution_count": 11,
     "metadata": {},
     "output_type": "execute_result"
    }
   ],
   "source": [
    "Wds = WiagDataSetup"
   ]
  },
  {
   "cell_type": "code",
   "execution_count": 12,
   "metadata": {},
   "outputs": [
    {
     "name": "stdout",
     "output_type": "stream",
     "text": [
      "Passwort für User georg: ········\n"
     ]
    },
    {
     "data": {
      "text/plain": [
       "MySQL.Connection(host=\"127.0.0.1\", user=\"georg\", port=\"3306\", db=\"wiag2\")"
      ]
     },
     "execution_count": 12,
     "metadata": {},
     "output_type": "execute_result"
    }
   ],
   "source": [
    "Wds.setDBWIAG(user=\"georg\", db=\"wiag2\")"
   ]
  },
  {
   "cell_type": "markdown",
   "metadata": {},
   "source": [
    "Item Type ID"
   ]
  },
  {
   "cell_type": "code",
   "execution_count": 13,
   "metadata": {},
   "outputs": [
    {
     "data": {
      "text/plain": [
       "5"
      ]
     },
     "execution_count": 13,
     "metadata": {},
     "output_type": "execute_result"
    }
   ],
   "source": [
    "item_type_id = 5"
   ]
  },
  {
   "cell_type": "code",
   "execution_count": 25,
   "metadata": {},
   "outputs": [
    {
     "data": {
      "text/plain": [
       "\"C:\\\\Users\\\\georg\\\\Documents\\\\projekte-doc\\\\WIAGweb2\\\\data\\\\domherren-2022-05-18\""
      ]
     },
     "execution_count": 25,
     "metadata": {},
     "output_type": "execute_result"
    }
   ],
   "source": [
    "data_path_dh = \"C:\\\\Users\\\\georg\\\\Documents\\\\projekte-doc\\\\WIAGweb2\\\\data\\\\domherren-2022-05-18\""
   ]
  },
  {
   "cell_type": "code",
   "execution_count": 26,
   "metadata": {},
   "outputs": [
    {
     "data": {
      "text/plain": [
       "\"C:\\\\Users\\\\georg\\\\Documents\\\\projekte-doc\\\\WIAGweb2\\\\data\\\\bischoefe-2022-05-18\""
      ]
     },
     "execution_count": 26,
     "metadata": {},
     "output_type": "execute_result"
    }
   ],
   "source": [
    "data_path_ep = \"C:\\\\Users\\\\georg\\\\Documents\\\\projekte-doc\\\\WIAGweb2\\\\data\\\\bischoefe-2022-05-18\""
   ]
  },
  {
   "cell_type": "markdown",
   "metadata": {},
   "source": [
    "## Domherren"
   ]
  },
  {
   "cell_type": "code",
   "execution_count": 14,
   "metadata": {},
   "outputs": [],
   "source": [
    "using CSV"
   ]
  },
  {
   "cell_type": "code",
   "execution_count": 49,
   "metadata": {},
   "outputs": [],
   "source": [
    "# Quelle CSV-Datei\n",
    "filename = joinpath(data_path_dh, \"tbl_domherren.csv\")\n",
    "df_dh = CSV.read(filename, DataFrame);"
   ]
  },
  {
   "cell_type": "markdown",
   "metadata": {},
   "source": [
    "Leerzeichen bereinigen"
   ]
  },
  {
   "cell_type": "code",
   "execution_count": 50,
   "metadata": {},
   "outputs": [],
   "source": [
    "Wds.clean_up!(df_dh)"
   ]
  },
  {
   "cell_type": "code",
   "execution_count": 51,
   "metadata": {},
   "outputs": [
    {
     "data": {
      "text/html": [
       "<div class=\"data-frame\"><p>5 rows × 48 columns (omitted printing of 39 columns)</p><table class=\"data-frame\"><thead><tr><th></th><th>ID_Domherr</th><th>Eintrag_Quelle</th><th>Seite_Quelle</th><th>Quelle</th><th>Praefix</th><th>Vorname</th><th>Familienname</th><th>Sterbedatum</th><th>Geburtsdatum</th></tr><tr><th></th><th title=\"Int64\">Int64</th><th title=\"Union{Missing, String}\">String?</th><th title=\"Union{Missing, String}\">String?</th><th title=\"Int64\">Int64</th><th title=\"Union{Missing, String}\">String?</th><th title=\"Union{Missing, String}\">String?</th><th title=\"Union{Missing, String}\">String?</th><th title=\"Union{Missing, String}\">String?</th><th title=\"Union{Missing, String}\">String?</th></tr></thead><tbody><tr><th>1</th><td>10000</td><td><em>missing</em></td><td>167, 183</td><td>6</td><td>von</td><td>Friedrich Wilhelm</td><td>Loe</td><td>1689</td><td><em>missing</em></td></tr><tr><th>2</th><td>10001</td><td><em>missing</em></td><td>183</td><td>6</td><td>von</td><td>Johann Heinrich</td><td>Metzenhausen</td><td><em>missing</em></td><td><em>missing</em></td></tr><tr><th>3</th><td>10002</td><td><em>missing</em></td><td>183</td><td>6</td><td>von</td><td>Philipp Friedrich</td><td>Metzenhausen</td><td><em>missing</em></td><td><em>missing</em></td></tr><tr><th>4</th><td>10003</td><td><em>missing</em></td><td>183</td><td>6</td><td>von der</td><td>Damian Friedrich</td><td>Fels</td><td>1684</td><td><em>missing</em></td></tr><tr><th>5</th><td>10004</td><td><em>missing</em></td><td>183, 189</td><td>6</td><td>von</td><td>Friedrich Ernst</td><td>Eltz-Rodendorf</td><td><em>missing</em></td><td><em>missing</em></td></tr></tbody></table></div>"
      ],
      "text/latex": [
       "\\begin{tabular}{r|cccccccccc}\n",
       "\t& ID\\_Domherr & Eintrag\\_Quelle & Seite\\_Quelle & Quelle & Praefix & Vorname & Familienname & Sterbedatum & Geburtsdatum & \\\\\n",
       "\t\\hline\n",
       "\t& Int64 & String? & String? & Int64 & String? & String? & String? & String? & String? & \\\\\n",
       "\t\\hline\n",
       "\t1 & 10000 & \\emph{missing} & 167, 183 & 6 & von & Friedrich Wilhelm & Loe & 1689 & \\emph{missing} & $\\dots$ \\\\\n",
       "\t2 & 10001 & \\emph{missing} & 183 & 6 & von & Johann Heinrich & Metzenhausen & \\emph{missing} & \\emph{missing} & $\\dots$ \\\\\n",
       "\t3 & 10002 & \\emph{missing} & 183 & 6 & von & Philipp Friedrich & Metzenhausen & \\emph{missing} & \\emph{missing} & $\\dots$ \\\\\n",
       "\t4 & 10003 & \\emph{missing} & 183 & 6 & von der & Damian Friedrich & Fels & 1684 & \\emph{missing} & $\\dots$ \\\\\n",
       "\t5 & 10004 & \\emph{missing} & 183, 189 & 6 & von & Friedrich Ernst & Eltz-Rodendorf & \\emph{missing} & \\emph{missing} & $\\dots$ \\\\\n",
       "\\end{tabular}\n"
      ],
      "text/plain": [
       "\u001b[1m5×48 DataFrame\u001b[0m\n",
       "\u001b[1m Row \u001b[0m│\u001b[1m ID_Domherr \u001b[0m\u001b[1m Eintrag_Quelle \u001b[0m\u001b[1m Seite_Quelle \u001b[0m\u001b[1m Quelle \u001b[0m\u001b[1m Praefix \u001b[0m\u001b[1m Vorname           \u001b[0m\u001b[1m Familienname   \u001b[0m\u001b[1m Sterbedatum \u001b[0m\u001b[1m Gebu\u001b[0m ⋯\n",
       "\u001b[1m     \u001b[0m│\u001b[90m Int64      \u001b[0m\u001b[90m String?        \u001b[0m\u001b[90m String?      \u001b[0m\u001b[90m Int64  \u001b[0m\u001b[90m String? \u001b[0m\u001b[90m String?           \u001b[0m\u001b[90m String?        \u001b[0m\u001b[90m String?     \u001b[0m\u001b[90m Stri\u001b[0m ⋯\n",
       "─────┼──────────────────────────────────────────────────────────────────────────────────────────────────────────────────\n",
       "   1 │      10000 \u001b[90m missing        \u001b[0m 167, 183           6  von      Friedrich Wilhelm  Loe             1689        \u001b[90m miss\u001b[0m ⋯\n",
       "   2 │      10001 \u001b[90m missing        \u001b[0m 183                6  von      Johann Heinrich    Metzenhausen   \u001b[90m missing     \u001b[0m\u001b[90m miss\u001b[0m\n",
       "   3 │      10002 \u001b[90m missing        \u001b[0m 183                6  von      Philipp Friedrich  Metzenhausen   \u001b[90m missing     \u001b[0m\u001b[90m miss\u001b[0m\n",
       "   4 │      10003 \u001b[90m missing        \u001b[0m 183                6  von der  Damian Friedrich   Fels            1684        \u001b[90m miss\u001b[0m\n",
       "   5 │      10004 \u001b[90m missing        \u001b[0m 183, 189           6  von      Friedrich Ernst    Eltz-Rodendorf \u001b[90m missing     \u001b[0m\u001b[90m miss\u001b[0m ⋯\n",
       "\u001b[36m                                                                                                      40 columns omitted\u001b[0m"
      ]
     },
     "execution_count": 51,
     "metadata": {},
     "output_type": "execute_result"
    }
   ],
   "source": [
    "first(df_dh, 5)"
   ]
  },
  {
   "cell_type": "markdown",
   "metadata": {},
   "source": [
    "*2022-03-10* prüfe auf unorthodoxe Einräge in `WIAG_ID_Bischof`"
   ]
  },
  {
   "cell_type": "code",
   "execution_count": 52,
   "metadata": {},
   "outputs": [],
   "source": [
    "df_dh_ID_Bischof = dropmissing(df_dh, :WIAG_ID_Bischof);"
   ]
  },
  {
   "cell_type": "code",
   "execution_count": 53,
   "metadata": {},
   "outputs": [
    {
     "data": {
      "text/html": [
       "<div class=\"data-frame\"><p>5 rows × 5 columns</p><table class=\"data-frame\"><thead><tr><th></th><th>ID_Domherr</th><th>Vorname</th><th>Familienname</th><th>WIAG_ID_Bischof</th><th>Status</th></tr><tr><th></th><th title=\"Int64\">Int64</th><th title=\"Union{Missing, String}\">String?</th><th title=\"Union{Missing, String}\">String?</th><th title=\"String\">String</th><th title=\"Union{Missing, String}\">String?</th></tr></thead><tbody><tr><th>1</th><td>14815</td><td>Nikolaus</td><td>Riesenburg</td><td>WIAG-Pers-EPISCGatz-03242-001</td><td>fertig</td></tr><tr><th>2</th><td>14816</td><td>Albrecht</td><td>Blarer</td><td>WIAG-Pers-EPISCGatz-02920-001</td><td>fertig</td></tr><tr><th>3</th><td>14818</td><td>Konrad</td><td>Rechberg zu Hohenrechberg</td><td>WIAG-Pers-EPISCGatz-02704-001</td><td>fertig</td></tr><tr><th>4</th><td>14819</td><td>Thomas</td><td>Berlower</td><td>WIAG-Pers-EPISCGatz-05308-001</td><td>fertig</td></tr><tr><th>5</th><td>14827</td><td>Johann Franz Anton</td><td>Khevenhueller</td><td>WIAG-Pers-EPISCGatz-10370-001</td><td>fertig</td></tr></tbody></table></div>"
      ],
      "text/latex": [
       "\\begin{tabular}{r|ccccc}\n",
       "\t& ID\\_Domherr & Vorname & Familienname & WIAG\\_ID\\_Bischof & Status\\\\\n",
       "\t\\hline\n",
       "\t& Int64 & String? & String? & String & String?\\\\\n",
       "\t\\hline\n",
       "\t1 & 14815 & Nikolaus & Riesenburg & WIAG-Pers-EPISCGatz-03242-001 & fertig \\\\\n",
       "\t2 & 14816 & Albrecht & Blarer & WIAG-Pers-EPISCGatz-02920-001 & fertig \\\\\n",
       "\t3 & 14818 & Konrad & Rechberg zu Hohenrechberg & WIAG-Pers-EPISCGatz-02704-001 & fertig \\\\\n",
       "\t4 & 14819 & Thomas & Berlower & WIAG-Pers-EPISCGatz-05308-001 & fertig \\\\\n",
       "\t5 & 14827 & Johann Franz Anton & Khevenhueller & WIAG-Pers-EPISCGatz-10370-001 & fertig \\\\\n",
       "\\end{tabular}\n"
      ],
      "text/plain": [
       "\u001b[1m5×5 DataFrame\u001b[0m\n",
       "\u001b[1m Row \u001b[0m│\u001b[1m ID_Domherr \u001b[0m\u001b[1m Vorname            \u001b[0m\u001b[1m Familienname              \u001b[0m\u001b[1m WIAG_ID_Bischof               \u001b[0m\u001b[1m Status  \u001b[0m\n",
       "\u001b[1m     \u001b[0m│\u001b[90m Int64      \u001b[0m\u001b[90m String?            \u001b[0m\u001b[90m String?                   \u001b[0m\u001b[90m String                        \u001b[0m\u001b[90m String? \u001b[0m\n",
       "─────┼───────────────────────────────────────────────────────────────────────────────────────────────────\n",
       "   1 │      14815  Nikolaus            Riesenburg                 WIAG-Pers-EPISCGatz-03242-001  fertig\n",
       "   2 │      14816  Albrecht            Blarer                     WIAG-Pers-EPISCGatz-02920-001  fertig\n",
       "   3 │      14818  Konrad              Rechberg zu Hohenrechberg  WIAG-Pers-EPISCGatz-02704-001  fertig\n",
       "   4 │      14819  Thomas              Berlower                   WIAG-Pers-EPISCGatz-05308-001  fertig\n",
       "   5 │      14827  Johann Franz Anton  Khevenhueller              WIAG-Pers-EPISCGatz-10370-001  fertig"
      ]
     },
     "execution_count": 53,
     "metadata": {},
     "output_type": "execute_result"
    }
   ],
   "source": [
    "df_dh_ID_Bischof[201:205, [:ID_Domherr, :Vorname, :Familienname, :WIAG_ID_Bischof, :Status]]"
   ]
  },
  {
   "cell_type": "code",
   "execution_count": 54,
   "metadata": {},
   "outputs": [],
   "source": [
    "find_spurious(a) = !ismissing(a) && occursin(\"http\", a)\n",
    "df_dh_sp = subset(df_dh, :WIAG_ID_Bischof => ByRow(find_spurious));"
   ]
  },
  {
   "cell_type": "code",
   "execution_count": 55,
   "metadata": {},
   "outputs": [
    {
     "data": {
      "text/plain": [
       "(0, 48)"
      ]
     },
     "execution_count": 55,
     "metadata": {},
     "output_type": "execute_result"
    }
   ],
   "source": [
    "# 2022-05-18\n",
    "size(df_cn_sp)"
   ]
  },
  {
   "cell_type": "code",
   "execution_count": 44,
   "metadata": {},
   "outputs": [
    {
     "data": {
      "text/plain": [
       "get_ID_Bischof (generic function with 1 method)"
      ]
     },
     "execution_count": 44,
     "metadata": {},
     "output_type": "execute_result"
    }
   ],
   "source": [
    "function get_ID_Bischof(s)\n",
    "    if ismissing(s)\n",
    "        return s\n",
    "    end\n",
    "    rgx = r\"WIAG-Pers-EPISCGatz-([0-9]+)-00?\"\n",
    "    rgm = match(rgx, s)\n",
    "    if isnothing(rgm)\n",
    "        @warn \"No match in \", s\n",
    "        return missing\n",
    "    end\n",
    "    return parse(Int, rgm[1])\n",
    "end\n"
   ]
  },
  {
   "cell_type": "code",
   "execution_count": 45,
   "metadata": {},
   "outputs": [
    {
     "data": {
      "text/plain": [
       "3242"
      ]
     },
     "execution_count": 45,
     "metadata": {},
     "output_type": "execute_result"
    }
   ],
   "source": [
    "get_ID_Bischof(\"WIAG-Pers-EPISCGatz-03242-001\")"
   ]
  },
  {
   "cell_type": "code",
   "execution_count": 56,
   "metadata": {},
   "outputs": [],
   "source": [
    "transform!(df_dh, :WIAG_ID_Bischof => ByRow(get_ID_Bischof) => :ID_Bischof);"
   ]
  },
  {
   "cell_type": "markdown",
   "metadata": {},
   "source": [
    "## Bischöfe"
   ]
  },
  {
   "cell_type": "code",
   "execution_count": 14,
   "metadata": {},
   "outputs": [],
   "source": [
    "using CSV"
   ]
  },
  {
   "cell_type": "code",
   "execution_count": 28,
   "metadata": {},
   "outputs": [],
   "source": [
    "# Quelle CSV-Datei\n",
    "filename = joinpath(data_path_ep, \"tbl_Bischoefe_Gatz.csv\")\n",
    "df_ep = CSV.read(filename, DataFrame);"
   ]
  },
  {
   "cell_type": "markdown",
   "metadata": {},
   "source": [
    "Leerzeichen bereinigen"
   ]
  },
  {
   "cell_type": "code",
   "execution_count": 29,
   "metadata": {},
   "outputs": [],
   "source": [
    "Wds.clean_up!(df_ep)"
   ]
  },
  {
   "cell_type": "code",
   "execution_count": 30,
   "metadata": {},
   "outputs": [
    {
     "data": {
      "text/html": [
       "<div class=\"data-frame\"><p>5 rows × 30 columns (omitted printing of 23 columns)</p><table class=\"data-frame\"><thead><tr><th></th><th>ID_Bischof</th><th>Eintrag RI OPAC</th><th>Autoren Gatz</th><th>Seite Gatz</th><th>Praefix</th><th>Vorname</th><th>Familienname</th></tr><tr><th></th><th title=\"Int64\">Int64</th><th title=\"String\">String</th><th title=\"Union{Missing, String}\">String?</th><th title=\"String\">String</th><th title=\"Union{Missing, String}\">String?</th><th title=\"String\">String</th><th title=\"Union{Missing, String}\">String?</th></tr></thead><tbody><tr><th>1</th><td>21086</td><td>um 1372, Johannes</td><td><em>missing</em></td><td>137</td><td><em>missing</em></td><td>Johannes</td><td><em>missing</em></td></tr><tr><th>2</th><td>21087</td><td>um 1378, Michael, Ep. Sythiensis</td><td><em>missing</em></td><td>137</td><td><em>missing</em></td><td>Michael</td><td><em>missing</em></td></tr><tr><th>3</th><td>21088</td><td>1392-1398, Fr. Dietricus, OFM, Ep. Siginensis</td><td><em>missing</em></td><td>137</td><td><em>missing</em></td><td>Dietricus</td><td><em>missing</em></td></tr><tr><th>4</th><td>21089</td><td>1406-1408, Bertholdus, OP, Ep. Sewastopolensis</td><td><em>missing</em></td><td>137</td><td><em>missing</em></td><td>Bertholdus</td><td><em>missing</em></td></tr><tr><th>5</th><td>21090</td><td>1411-1418, Conradus Simplicy, OFM, Ep. Siginensis</td><td><em>missing</em></td><td>137</td><td><em>missing</em></td><td>Conradus</td><td>Simplicy</td></tr></tbody></table></div>"
      ],
      "text/latex": [
       "\\begin{tabular}{r|cccccccc}\n",
       "\t& ID\\_Bischof & Eintrag RI OPAC & Autoren Gatz & Seite Gatz & Praefix & Vorname & Familienname & \\\\\n",
       "\t\\hline\n",
       "\t& Int64 & String & String? & String & String? & String & String? & \\\\\n",
       "\t\\hline\n",
       "\t1 & 21086 & um 1372, Johannes & \\emph{missing} & 137 & \\emph{missing} & Johannes & \\emph{missing} & $\\dots$ \\\\\n",
       "\t2 & 21087 & um 1378, Michael, Ep. Sythiensis & \\emph{missing} & 137 & \\emph{missing} & Michael & \\emph{missing} & $\\dots$ \\\\\n",
       "\t3 & 21088 & 1392-1398, Fr. Dietricus, OFM, Ep. Siginensis & \\emph{missing} & 137 & \\emph{missing} & Dietricus & \\emph{missing} & $\\dots$ \\\\\n",
       "\t4 & 21089 & 1406-1408, Bertholdus, OP, Ep. Sewastopolensis & \\emph{missing} & 137 & \\emph{missing} & Bertholdus & \\emph{missing} & $\\dots$ \\\\\n",
       "\t5 & 21090 & 1411-1418, Conradus Simplicy, OFM, Ep. Siginensis & \\emph{missing} & 137 & \\emph{missing} & Conradus & Simplicy & $\\dots$ \\\\\n",
       "\\end{tabular}\n"
      ],
      "text/plain": [
       "\u001b[1m5×30 DataFrame\u001b[0m\n",
       "\u001b[1m Row \u001b[0m│\u001b[1m ID_Bischof \u001b[0m\u001b[1m Eintrag RI OPAC                   \u001b[0m\u001b[1m Autoren Gatz \u001b[0m\u001b[1m Seite Gatz \u001b[0m\u001b[1m Praefix \u001b[0m\u001b[1m Vorname    \u001b[0m\u001b[1m Familienname \u001b[0m\u001b[1m Ste\u001b[0m ⋯\n",
       "\u001b[1m     \u001b[0m│\u001b[90m Int64      \u001b[0m\u001b[90m String                            \u001b[0m\u001b[90m String?      \u001b[0m\u001b[90m String     \u001b[0m\u001b[90m String? \u001b[0m\u001b[90m String     \u001b[0m\u001b[90m String?      \u001b[0m\u001b[90m Str\u001b[0m ⋯\n",
       "─────┼──────────────────────────────────────────────────────────────────────────────────────────────────────────────────\n",
       "   1 │      21086  um 1372, Johannes                 \u001b[90m missing      \u001b[0m 137        \u001b[90m missing \u001b[0m Johannes   \u001b[90m missing      \u001b[0m\u001b[90m mis\u001b[0m ⋯\n",
       "   2 │      21087  um 1378, Michael, Ep. Sythiensis  \u001b[90m missing      \u001b[0m 137        \u001b[90m missing \u001b[0m Michael    \u001b[90m missing      \u001b[0m\u001b[90m mis\u001b[0m\n",
       "   3 │      21088  1392-1398, Fr. Dietricus, OFM, E… \u001b[90m missing      \u001b[0m 137        \u001b[90m missing \u001b[0m Dietricus  \u001b[90m missing      \u001b[0m\u001b[90m mis\u001b[0m\n",
       "   4 │      21089  1406-1408, Bertholdus, OP, Ep. S… \u001b[90m missing      \u001b[0m 137        \u001b[90m missing \u001b[0m Bertholdus \u001b[90m missing      \u001b[0m\u001b[90m mis\u001b[0m\n",
       "   5 │      21090  1411-1418, Conradus Simplicy, OF… \u001b[90m missing      \u001b[0m 137        \u001b[90m missing \u001b[0m Conradus    Simplicy     \u001b[90m mis\u001b[0m ⋯\n",
       "\u001b[36m                                                                                                      23 columns omitted\u001b[0m"
      ]
     },
     "execution_count": 30,
     "metadata": {},
     "output_type": "execute_result"
    }
   ],
   "source": [
    "first(df_ep, 5)"
   ]
  },
  {
   "cell_type": "code",
   "execution_count": 58,
   "metadata": {},
   "outputs": [
    {
     "data": {
      "text/plain": [
       "30-element Vector{String}:\n",
       " \"GSN_ID\"\n",
       " \"VIAF_ID\"\n",
       " \"Wikidata_ID\"\n",
       " \"Autor_Original\"\n",
       " \"Familienname_Variante\"\n",
       " \"Vorname_Variante\"\n",
       " \"Kommentar_Name\"\n",
       " \"Kommentar_Person\"\n",
       " \"QRang_GND\"\n",
       " \"QRang_GS\"\n",
       " \"Qualitaet_GS\"\n",
       " \"Qualitaet_GND\"\n",
       " \"BelegdatumBeginn\"\n",
       " ⋮\n",
       " \"Normdaten recherchiert\"\n",
       " \"URL_Wikipedia\"\n",
       " \"Externe URL\"\n",
       " \"ID_Quelle\"\n",
       " \"ID_Domherr_Jasmin\"\n",
       " \"ID_Fremdschluessel_2\"\n",
       " \"Merged_Into\"\n",
       " \"Identisch_mit\"\n",
       " \"WIAG_ID_Bischof\"\n",
       " \"LOD_Academy\"\n",
       " \"ID_Fremdschlüssel_Num\"\n",
       " \"ID_Bischof\""
      ]
     },
     "execution_count": 58,
     "metadata": {},
     "output_type": "execute_result"
    }
   ],
   "source": [
    "names(df_dh)[20:end]"
   ]
  },
  {
   "cell_type": "code",
   "execution_count": 70,
   "metadata": {},
   "outputs": [],
   "source": [
    "columns_dh = [\n",
    "    :ID_Domherr => :ID_Domherr,\n",
    "    :ID_Bischof => :ID_Bischof,\n",
    "    :Vorname => :Vorname_dh,\n",
    "    :Familienname => :Familienname_dh,\n",
    "    :Sterbedatum => :Sterbedatum_dh,\n",
    "    :Geburtsdatum => :Geburtsdatum_dh,\n",
    "    :Vorname_Variante => :Vorname_Variante_dh,\n",
    "    :Familienname_Variante => :Familienname_Variante_dh,    \n",
    "    :GSN_ID => :GSN_dh\n",
    "];"
   ]
  },
  {
   "cell_type": "code",
   "execution_count": 66,
   "metadata": {},
   "outputs": [],
   "source": [
    "columns_ep = [\n",
    "    :ID_Bischof => :ID_Bischof,\n",
    "    :Vorname => :Vorname_ep,\n",
    "    :Familienname => :Familienname_ep,\n",
    "    :Sterbedatum => :Sterbedatum_ep,\n",
    "    :Geburtsdatum => :Geburtsdatum_ep,\n",
    "    :Vorname_Varianten => :Vorname_Variante_ep,\n",
    "    :Familienname_Variante => :Familienname_Variante_ep,\n",
    "    :GSN_ID => :GSN_ep\n",
    "];"
   ]
  },
  {
   "cell_type": "code",
   "execution_count": 67,
   "metadata": {},
   "outputs": [
    {
     "data": {
      "text/html": [
       "<div class=\"data-frame\"><p>5 rows × 8 columns (omitted printing of 1 columns)</p><table class=\"data-frame\"><thead><tr><th></th><th>ID_Bischof</th><th>Vorname_ep</th><th>Familienname_ep</th><th>Sterbedatum_ep</th><th>Geburtsdatum_ep</th><th>Vorname_Variante_ep</th><th>Familienname_Variante_ep</th></tr><tr><th></th><th title=\"Int64\">Int64</th><th title=\"String\">String</th><th title=\"Union{Missing, String}\">String?</th><th title=\"Union{Missing, String}\">String?</th><th title=\"Union{Missing, String}\">String?</th><th title=\"Union{Missing, String}\">String?</th><th title=\"Union{Missing, String}\">String?</th></tr></thead><tbody><tr><th>1</th><td>21086</td><td>Johannes</td><td><em>missing</em></td><td><em>missing</em></td><td><em>missing</em></td><td><em>missing</em></td><td><em>missing</em></td></tr><tr><th>2</th><td>21087</td><td>Michael</td><td><em>missing</em></td><td><em>missing</em></td><td><em>missing</em></td><td><em>missing</em></td><td><em>missing</em></td></tr><tr><th>3</th><td>21088</td><td>Dietricus</td><td><em>missing</em></td><td><em>missing</em></td><td><em>missing</em></td><td><em>missing</em></td><td><em>missing</em></td></tr><tr><th>4</th><td>21089</td><td>Bertholdus</td><td><em>missing</em></td><td><em>missing</em></td><td><em>missing</em></td><td><em>missing</em></td><td><em>missing</em></td></tr><tr><th>5</th><td>21090</td><td>Conradus</td><td>Simplicy</td><td><em>missing</em></td><td><em>missing</em></td><td><em>missing</em></td><td><em>missing</em></td></tr></tbody></table></div>"
      ],
      "text/latex": [
       "\\begin{tabular}{r|cccccccc}\n",
       "\t& ID\\_Bischof & Vorname\\_ep & Familienname\\_ep & Sterbedatum\\_ep & Geburtsdatum\\_ep & Vorname\\_Variante\\_ep & Familienname\\_Variante\\_ep & \\\\\n",
       "\t\\hline\n",
       "\t& Int64 & String & String? & String? & String? & String? & String? & \\\\\n",
       "\t\\hline\n",
       "\t1 & 21086 & Johannes & \\emph{missing} & \\emph{missing} & \\emph{missing} & \\emph{missing} & \\emph{missing} & $\\dots$ \\\\\n",
       "\t2 & 21087 & Michael & \\emph{missing} & \\emph{missing} & \\emph{missing} & \\emph{missing} & \\emph{missing} & $\\dots$ \\\\\n",
       "\t3 & 21088 & Dietricus & \\emph{missing} & \\emph{missing} & \\emph{missing} & \\emph{missing} & \\emph{missing} & $\\dots$ \\\\\n",
       "\t4 & 21089 & Bertholdus & \\emph{missing} & \\emph{missing} & \\emph{missing} & \\emph{missing} & \\emph{missing} & $\\dots$ \\\\\n",
       "\t5 & 21090 & Conradus & Simplicy & \\emph{missing} & \\emph{missing} & \\emph{missing} & \\emph{missing} & $\\dots$ \\\\\n",
       "\\end{tabular}\n"
      ],
      "text/plain": [
       "\u001b[1m5×8 DataFrame\u001b[0m\n",
       "\u001b[1m Row \u001b[0m│\u001b[1m ID_Bischof \u001b[0m\u001b[1m Vorname_ep \u001b[0m\u001b[1m Familienname_ep \u001b[0m\u001b[1m Sterbedatum_ep \u001b[0m\u001b[1m Geburtsdatum_ep \u001b[0m\u001b[1m Vorname_Variante_ep \u001b[0m\u001b[1m Familienname_Var\u001b[0m ⋯\n",
       "\u001b[1m     \u001b[0m│\u001b[90m Int64      \u001b[0m\u001b[90m String     \u001b[0m\u001b[90m String?         \u001b[0m\u001b[90m String?        \u001b[0m\u001b[90m String?         \u001b[0m\u001b[90m String?             \u001b[0m\u001b[90m String?         \u001b[0m ⋯\n",
       "─────┼──────────────────────────────────────────────────────────────────────────────────────────────────────────────────\n",
       "   1 │      21086  Johannes   \u001b[90m missing         \u001b[0m\u001b[90m missing        \u001b[0m\u001b[90m missing         \u001b[0m\u001b[90m missing             \u001b[0m\u001b[90m missing         \u001b[0m ⋯\n",
       "   2 │      21087  Michael    \u001b[90m missing         \u001b[0m\u001b[90m missing        \u001b[0m\u001b[90m missing         \u001b[0m\u001b[90m missing             \u001b[0m\u001b[90m missing\u001b[0m\n",
       "   3 │      21088  Dietricus  \u001b[90m missing         \u001b[0m\u001b[90m missing        \u001b[0m\u001b[90m missing         \u001b[0m\u001b[90m missing             \u001b[0m\u001b[90m missing\u001b[0m\n",
       "   4 │      21089  Bertholdus \u001b[90m missing         \u001b[0m\u001b[90m missing        \u001b[0m\u001b[90m missing         \u001b[0m\u001b[90m missing             \u001b[0m\u001b[90m missing\u001b[0m\n",
       "   5 │      21090  Conradus    Simplicy        \u001b[90m missing        \u001b[0m\u001b[90m missing         \u001b[0m\u001b[90m missing             \u001b[0m\u001b[90m missing         \u001b[0m ⋯\n",
       "\u001b[36m                                                                                                       2 columns omitted\u001b[0m"
      ]
     },
     "execution_count": 67,
     "metadata": {},
     "output_type": "execute_result"
    }
   ],
   "source": [
    "select(df_ep[1:5, :], columns_ep)"
   ]
  },
  {
   "cell_type": "code",
   "execution_count": 75,
   "metadata": {},
   "outputs": [],
   "source": [
    "df_dh_ep = innerjoin(select(df_dh, columns_dh), select(df_ep, columns_ep), on = :ID_Bischof, matchmissing = :notequal);"
   ]
  },
  {
   "cell_type": "code",
   "execution_count": 76,
   "metadata": {},
   "outputs": [
    {
     "data": {
      "text/plain": [
       "(836, 16)"
      ]
     },
     "execution_count": 76,
     "metadata": {},
     "output_type": "execute_result"
    }
   ],
   "source": [
    "size(df_dh_ep)"
   ]
  },
  {
   "cell_type": "code",
   "execution_count": 78,
   "metadata": {},
   "outputs": [
    {
     "data": {
      "text/plain": [
       "delta (generic function with 1 method)"
      ]
     },
     "execution_count": 78,
     "metadata": {},
     "output_type": "execute_result"
    }
   ],
   "source": [
    "delta(a, b) = (!ismissing(a) && !ismissing(b) && a != b) "
   ]
  },
  {
   "cell_type": "code",
   "execution_count": 82,
   "metadata": {},
   "outputs": [],
   "source": [
    "transform!(df_dh_ep, [:GSN_dh, :GSN_ep] => ByRow(delta) => :delta_GSN);"
   ]
  },
  {
   "cell_type": "code",
   "execution_count": 86,
   "metadata": {},
   "outputs": [],
   "source": [
    "transform!(df_dh_ep, [:Vorname_dh, :Vorname_ep] => ByRow(delta) => :delta_Vorname);"
   ]
  },
  {
   "cell_type": "code",
   "execution_count": 87,
   "metadata": {},
   "outputs": [],
   "source": [
    "transform!(df_dh_ep, [:Familienname_dh, :Familienname_ep] => ByRow(delta) => :delta_Familienname);"
   ]
  },
  {
   "cell_type": "code",
   "execution_count": 102,
   "metadata": {},
   "outputs": [],
   "source": [
    "transform!(df_dh_ep, [:Geburtsdatum_dh, :Geburtsdatum_ep] => ByRow(delta) => :delta_Geburtsdatum);"
   ]
  },
  {
   "cell_type": "code",
   "execution_count": 103,
   "metadata": {},
   "outputs": [],
   "source": [
    "transform!(df_dh_ep, [:Sterbedatum_dh, :Sterbedatum_ep] => ByRow(delta) => :delta_Sterbedatum);"
   ]
  },
  {
   "cell_type": "code",
   "execution_count": 104,
   "metadata": {},
   "outputs": [
    {
     "data": {
      "text/plain": [
       "mult_or (generic function with 2 methods)"
      ]
     },
     "execution_count": 104,
     "metadata": {},
     "output_type": "execute_result"
    }
   ],
   "source": [
    "mult_or(p, q, r, s, t) = p || q || r || s || t"
   ]
  },
  {
   "cell_type": "code",
   "execution_count": 106,
   "metadata": {},
   "outputs": [],
   "source": [
    "transform!(df_dh_ep, [:delta_GSN, :delta_Vorname, :delta_Familienname, :delta_Geburtsdatum, :delta_Sterbedatum] => ByRow(mult_or) => :delta_filter);"
   ]
  },
  {
   "cell_type": "code",
   "execution_count": 107,
   "metadata": {},
   "outputs": [],
   "source": [
    "df_dh_ep_delta = subset(df_dh_ep, :delta_filter);"
   ]
  },
  {
   "cell_type": "code",
   "execution_count": 108,
   "metadata": {},
   "outputs": [
    {
     "data": {
      "text/plain": [
       "(461, 22)"
      ]
     },
     "execution_count": 108,
     "metadata": {},
     "output_type": "execute_result"
    }
   ],
   "source": [
    "size(df_dh_ep_delta)"
   ]
  },
  {
   "cell_type": "code",
   "execution_count": 109,
   "metadata": {},
   "outputs": [
    {
     "data": {
      "text/plain": [
       "\"C:\\\\Users\\\\georg\\\\Documents\\\\projekte-doc\\\\WIAGweb2\\\\data\\\\delta_dh_ep.csv\""
      ]
     },
     "execution_count": 109,
     "metadata": {},
     "output_type": "execute_result"
    }
   ],
   "source": [
    "filename = joinpath(out_path, \"delta_dh_ep.csv\")\n",
    "CSV.write(filename, df_dh_ep_delta, delim = \";\")"
   ]
  },
  {
   "cell_type": "markdown",
   "metadata": {},
   "source": [
    "Sortiere die Spalten nach Inhalt statt nach Quelle"
   ]
  },
  {
   "cell_type": "code",
   "execution_count": 110,
   "metadata": {},
   "outputs": [
    {
     "data": {
      "text/plain": [
       "22-element Vector{String}:\n",
       " \"ID_Domherr\"\n",
       " \"ID_Bischof\"\n",
       " \"Vorname_dh\"\n",
       " \"Familienname_dh\"\n",
       " \"Sterbedatum_dh\"\n",
       " \"Geburtsdatum_dh\"\n",
       " \"Vorname_Variante_dh\"\n",
       " \"Familienname_Variante_dh\"\n",
       " \"GSN_dh\"\n",
       " \"Vorname_ep\"\n",
       " \"Familienname_ep\"\n",
       " \"Sterbedatum_ep\"\n",
       " \"Geburtsdatum_ep\"\n",
       " \"Vorname_Variante_ep\"\n",
       " \"Familienname_Variante_ep\"\n",
       " \"GSN_ep\"\n",
       " \"delta_GSN\"\n",
       " \"delta_Vorname\"\n",
       " \"delta_Familienname\"\n",
       " \"delta_filter\"\n",
       " \"delta_Geburtsdatum\"\n",
       " \"delta_Sterbedatum\""
      ]
     },
     "execution_count": 110,
     "metadata": {},
     "output_type": "execute_result"
    }
   ],
   "source": [
    "names(df_dh_ep_delta)"
   ]
  },
  {
   "cell_type": "code",
   "execution_count": 118,
   "metadata": {},
   "outputs": [],
   "source": [
    "columns_c = [\n",
    "    :delta_filter,\n",
    "    :delta_GSN,\n",
    "    :delta_Vorname,\n",
    "    :delta_Familienname,\n",
    "    :delta_Geburtsdatum,\n",
    "    :delta_Sterbedatum,\n",
    "    :ID_Domherr,\n",
    "    :ID_Bischof,\n",
    "    :GSN_dh,\n",
    "    :GSN_ep,\n",
    "    :Vorname_dh,\n",
    "    :Familienname_dh,\n",
    "    :Vorname_ep,\n",
    "    :Familienname_ep,\n",
    "    :Geburtsdatum_dh,\n",
    "    :Sterbedatum_dh,\n",
    "    :Geburtsdatum_ep,\n",
    "    :Sterbedatum_ep,\n",
    "    :Vorname_Variante_dh,\n",
    "    :Vorname_Variante_ep,\n",
    "    :Familienname_Variante_dh,\n",
    "    :Familienname_Variante_ep,\n",
    "];"
   ]
  },
  {
   "cell_type": "code",
   "execution_count": 119,
   "metadata": {},
   "outputs": [
    {
     "data": {
      "text/plain": [
       "\"C:\\\\Users\\\\georg\\\\Documents\\\\projekte-doc\\\\WIAGweb2\\\\data\\\\delta_dh_ep_cs_1.csv\""
      ]
     },
     "execution_count": 119,
     "metadata": {},
     "output_type": "execute_result"
    }
   ],
   "source": [
    "filename = joinpath(out_path, \"delta_dh_ep_cs_1.csv\")\n",
    "CSV.write(filename, select(df_dh_ep_delta, columns_c), delim = \";\")"
   ]
  },
  {
   "cell_type": "code",
   "execution_count": null,
   "metadata": {},
   "outputs": [],
   "source": []
  },
  {
   "cell_type": "code",
   "execution_count": null,
   "metadata": {},
   "outputs": [],
   "source": []
  },
  {
   "cell_type": "code",
   "execution_count": null,
   "metadata": {},
   "outputs": [],
   "source": []
  }
 ],
 "metadata": {
  "kernelspec": {
   "display_name": "Julia 1.7.0",
   "language": "julia",
   "name": "julia-1.7"
  },
  "language_info": {
   "file_extension": ".jl",
   "mimetype": "application/julia",
   "name": "julia",
   "version": "1.7.0"
  }
 },
 "nbformat": 4,
 "nbformat_minor": 4
}
