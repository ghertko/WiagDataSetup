{
 "cells": [
  {
   "cell_type": "markdown",
   "metadata": {},
   "source": [
    "# Wissensaggregator Mittelalter und frühe Neuzeit\n",
    "\n",
    "## Strukturdaten einlesen/aktualisieren\n",
    "*2022-11-07* Prüfe die feature class für Orte in der Klosterdatenbank, verwende `place_all`"
   ]
  },
  {
   "cell_type": "markdown",
   "metadata": {},
   "source": [
    "Inhalt\n",
    "\n",
    "- [Länder einlesen](#Länder-einlesen)\n",
    "- [Verwaltungsebenen einlesen](#Verwaltungsebenen-einlesen)\n",
    "- [Orte aus GeoNames einlesen](#Orte-aus-GeoNames-einlesen)\n",
    "  - [Fremsprachliche Namen](#Fremdsprachliche-Namen)\n",
    "  - [Deutsche Namen eintragen](#Deutsche-Namen-eintragen)"
   ]
  },
  {
   "cell_type": "markdown",
   "metadata": {},
   "source": [
    "Die Funktionen, welche Daten laden und umwandeln sind im Modul `WiagDataSetup` enthalten. Dieses verwendet seinerseits folgende Module:\n",
    "\n",
    "- MySQL\n",
    "- DataFrames\n",
    "- JSON\n",
    "- Infiltrator\n",
    "\n",
    "Diese werden am besten vorab direkt in einem Julia-Terminal installiert.\n",
    "``` julia\n",
    "cd(\"C:\\\\Users\\\\Georg\\\\Documents\\\\projekte\\\\WiagDataSetup.jl\")\n",
    "Pkg.activate(\".\")\n",
    "Pkg.add(\"MySQL\")\n",
    "Pkg.add(\"DataFrames\")\n",
    "Pkg.add(\"JSON\")\n",
    "Pkg.add(\"Infiltrator\")\n",
    "```\n",
    "\n",
    "Pfad zum Modul `WiagDataSetup`"
   ]
  },
  {
   "cell_type": "code",
   "execution_count": 1,
   "metadata": {},
   "outputs": [
    {
     "data": {
      "text/plain": [
       "\"../..\""
      ]
     },
     "execution_count": 1,
     "metadata": {},
     "output_type": "execute_result"
    }
   ],
   "source": [
    "wds_path=\"../..\""
   ]
  },
  {
   "cell_type": "code",
   "execution_count": 2,
   "metadata": {},
   "outputs": [],
   "source": [
    "cd(wds_path)"
   ]
  },
  {
   "cell_type": "code",
   "execution_count": 3,
   "metadata": {},
   "outputs": [],
   "source": [
    "using Pkg"
   ]
  },
  {
   "cell_type": "code",
   "execution_count": 4,
   "metadata": {},
   "outputs": [
    {
     "name": "stderr",
     "output_type": "stream",
     "text": [
      "\u001b[32m\u001b[1m  Activating\u001b[22m\u001b[39m project at `C:\\Users\\georg\\Documents\\projekte\\WiagDataSetup.jl`\n"
     ]
    }
   ],
   "source": [
    "Pkg.activate(\".\")"
   ]
  },
  {
   "cell_type": "markdown",
   "metadata": {},
   "source": [
    "Nur für die Entwicklung des Moduls relevant."
   ]
  },
  {
   "cell_type": "code",
   "execution_count": 5,
   "metadata": {},
   "outputs": [],
   "source": [
    "using Revise"
   ]
  },
  {
   "cell_type": "markdown",
   "metadata": {},
   "source": [
    "Modul laden"
   ]
  },
  {
   "cell_type": "code",
   "execution_count": 6,
   "metadata": {},
   "outputs": [
    {
     "name": "stderr",
     "output_type": "stream",
     "text": [
      "┌ Info: Precompiling WiagDataSetup [522c5ebb-a018-4020-8ed4-420cb1a9f084]\n",
      "└ @ Base loading.jl:1664\n"
     ]
    },
    {
     "data": {
      "text/plain": [
       "WiagDataSetup"
      ]
     },
     "execution_count": 6,
     "metadata": {},
     "output_type": "execute_result"
    }
   ],
   "source": [
    "using WiagDataSetup; Wds=WiagDataSetup"
   ]
  },
  {
   "cell_type": "markdown",
   "metadata": {},
   "source": [
    "Verbinde die Datenbank.\n",
    "\n",
    "Im Verlauf der Einleseschritte kann die folgende Fehlermeldung erscheinen:\n",
    "*Commands out of sync; you can't run this command now*.\n",
    "In diesem Fall diesen Befehl nochmal absetzen."
   ]
  },
  {
   "cell_type": "code",
   "execution_count": 7,
   "metadata": {},
   "outputs": [
    {
     "name": "stdout",
     "output_type": "stream",
     "text": [
      "Passwort für User georg: ········\n"
     ]
    },
    {
     "data": {
      "text/plain": [
       "MySQL.Connection(host=\"127.0.0.1\", user=\"georg\", port=\"3306\", db=\"wiag_in\")"
      ]
     },
     "execution_count": 7,
     "metadata": {},
     "output_type": "execute_result"
    }
   ],
   "source": [
    "Wds.setDBWIAG(user=\"georg\", db=\"wiag_in\")"
   ]
  },
  {
   "cell_type": "markdown",
   "metadata": {},
   "source": [
    "Verzeichnis für Basisdaten, z.b. SKOS-Schemes, Länder"
   ]
  },
  {
   "cell_type": "code",
   "execution_count": 8,
   "metadata": {},
   "outputs": [
    {
     "data": {
      "text/plain": [
       "\"C:\\\\Users\\\\georg\\\\Documents\\\\projekte-doc\\\\WiagDataSetup\""
      ]
     },
     "execution_count": 8,
     "metadata": {},
     "output_type": "execute_result"
    }
   ],
   "source": [
    "data_path=\"C:\\\\Users\\\\georg\\\\Documents\\\\projekte-doc\\\\WiagDataSetup\""
   ]
  },
  {
   "cell_type": "markdown",
   "metadata": {},
   "source": [
    "## Länder einlesen\n",
    "Die Quelle enthält im Wesentlichen Deutschland und seine Nachbarn. Die numerische ID ist der numerische ISO-Code.\n",
    "\n",
    "Quelle: https://download.geonames.org/export/dump/countryInfo.txt"
   ]
  },
  {
   "cell_type": "code",
   "execution_count": null,
   "metadata": {},
   "outputs": [],
   "source": [
    "using CSV, MySQL, DataFrames"
   ]
  },
  {
   "cell_type": "code",
   "execution_count": null,
   "metadata": {},
   "outputs": [],
   "source": [
    "country_file=joinpath(data_path, \"GeoNames\", \"countryInfo.txt\")"
   ]
  },
  {
   "cell_type": "code",
   "execution_count": null,
   "metadata": {},
   "outputs": [],
   "source": [
    "df_country = CSV.read(country_file, DataFrame);"
   ]
  },
  {
   "cell_type": "code",
   "execution_count": null,
   "metadata": {},
   "outputs": [],
   "source": [
    "first(df_country, 5)"
   ]
  },
  {
   "cell_type": "code",
   "execution_count": null,
   "metadata": {},
   "outputs": [],
   "source": [
    "df_country[end-5:end, [Symbol(\"ISO-Numeric\"), :Country]]"
   ]
  },
  {
   "cell_type": "code",
   "execution_count": null,
   "metadata": {},
   "outputs": [],
   "source": [
    "select_cols = [\n",
    "    Symbol(\"ISO-Numeric\") => :id,\n",
    "    :Country => :name,\n",
    "    :ISO => :country_code,\n",
    "    :Capital => :capital\n",
    "]"
   ]
  },
  {
   "cell_type": "code",
   "execution_count": null,
   "metadata": {},
   "outputs": [],
   "source": [
    "df_country_db = select(df_country, select_cols...);"
   ]
  },
  {
   "cell_type": "code",
   "execution_count": null,
   "metadata": {},
   "outputs": [],
   "source": [
    "Wds.filltable!(\"country\", df_country_db, clear_table = true)"
   ]
  },
  {
   "cell_type": "markdown",
   "metadata": {},
   "source": [
    "GeoNames-IDs ergänzen\n",
    "\n",
    "Quelle: `wiag_bundeslaender_normdaten_lhofman.xls` übertragen in `country.csv`"
   ]
  },
  {
   "cell_type": "code",
   "execution_count": null,
   "metadata": {},
   "outputs": [],
   "source": [
    "using MySQL, DataFrames, CSV"
   ]
  },
  {
   "cell_type": "code",
   "execution_count": null,
   "metadata": {},
   "outputs": [],
   "source": [
    "cy_file=joinpath(data_path, \"csv\", \"country.csv\")"
   ]
  },
  {
   "cell_type": "code",
   "execution_count": null,
   "metadata": {},
   "outputs": [],
   "source": [
    "df_cy=CSV.read(cy_file, DataFrame)"
   ]
  },
  {
   "cell_type": "code",
   "execution_count": null,
   "metadata": {},
   "outputs": [],
   "source": [
    "sql=\"DROP TABLE IF EXISTS country_gn_id\"\n",
    "DBInterface.execute(Wds.dbwiag, sql);"
   ]
  },
  {
   "cell_type": "code",
   "execution_count": null,
   "metadata": {},
   "outputs": [],
   "source": [
    "sql=\"CREATE TEMPORARY TABLE country_gn_id (\" *\n",
    "\"id INT,\" *\n",
    "\"country_code VARCHAR(31),\" *\n",
    "\"country_code_3 VARCHAR(31),\" *\n",
    "\"geonames_id INT)\"\n",
    "DBInterface.execute(Wds.dbwiag, sql);"
   ]
  },
  {
   "cell_type": "code",
   "execution_count": null,
   "metadata": {},
   "outputs": [],
   "source": [
    "Wds.filltable!(\"country_gn_id\", df_cy[!, [:id, :country_code, :country_code_3, :geonames_id]])"
   ]
  },
  {
   "cell_type": "code",
   "execution_count": null,
   "metadata": {},
   "outputs": [],
   "source": [
    "sql=\"UPDATE country AS cy, (SELECT id, country_code, country_code_3, geonames_id FROM country_gn_id) as gn \" *\n",
    "\"SET cy.country_code_3 = gn.country_code_3, cy.geonames_id = gn.geonames_id \" *\n",
    "\"WHERE cy.id = gn.id\"\n",
    "DBInterface.execute(Wds.dbwiag, sql);"
   ]
  },
  {
   "cell_type": "markdown",
   "metadata": {},
   "source": [
    "externe IDs ergänzen  \n",
    "2022-04-08: Es liegen nur externe IDs für Länder vor. Diese werden nicht übernommen; bzw. wieder gelöscht."
   ]
  },
  {
   "cell_type": "code",
   "execution_count": null,
   "metadata": {},
   "outputs": [],
   "source": [
    "cei_file=joinpath(data_path, \"csv\", \"country_id_external.csv\")"
   ]
  },
  {
   "cell_type": "code",
   "execution_count": null,
   "metadata": {},
   "outputs": [],
   "source": [
    "df_cei=CSV.read(cei_file, DataFrame, types=[Int, String, String, String, Int, String]);"
   ]
  },
  {
   "cell_type": "code",
   "execution_count": null,
   "metadata": {},
   "outputs": [],
   "source": [
    "size(df_cei)"
   ]
  },
  {
   "cell_type": "code",
   "execution_count": null,
   "metadata": {},
   "outputs": [],
   "source": [
    "df_cei[1:7, :]"
   ]
  },
  {
   "cell_type": "code",
   "execution_count": null,
   "metadata": {},
   "outputs": [],
   "source": [
    "Wds.filltable!(\"place_id_external\", df_cei[!, [:geonames_id, :authority_id, :value]])"
   ]
  },
  {
   "cell_type": "markdown",
   "metadata": {},
   "source": [
    "externe IDs für Bundesländer ergänzen\n",
    "\n",
    "Quelle: Quelle: `wiag_bundeslaender_normdaten_lhofman.xls` übertragen in `country_level_1_id_external.csv`"
   ]
  },
  {
   "cell_type": "code",
   "execution_count": null,
   "metadata": {},
   "outputs": [],
   "source": [
    "cei_l1_file=joinpath(data_path, \"csv\", \"country_level_1_id_external.csv\")"
   ]
  },
  {
   "cell_type": "code",
   "execution_count": null,
   "metadata": {},
   "outputs": [],
   "source": [
    "df_cei_l1=CSV.read(cei_l1_file, DataFrame, types=[Int, String, String, String, Int, String]);"
   ]
  },
  {
   "cell_type": "code",
   "execution_count": null,
   "metadata": {},
   "outputs": [],
   "source": [
    "df_cei_l1[1:7, :]"
   ]
  },
  {
   "cell_type": "code",
   "execution_count": null,
   "metadata": {},
   "outputs": [],
   "source": [
    "Wds.filltable!(\"place_id_external\", df_cei_l1[!, [:geonames_id, :authority_id, :value]])"
   ]
  },
  {
   "cell_type": "markdown",
   "metadata": {},
   "source": [
    "Kontrolle\n",
    "\n",
    "``` sql\n",
    "SELECT name, country_code, authority_id, value \n",
    "FROM place_id_external AS pei\n",
    "JOIN country_level_1 AS cl1 ON pei.geonames_id = cl1.geonames_id;\n",
    "```"
   ]
  },
  {
   "cell_type": "markdown",
   "metadata": {},
   "source": [
    "Es fehlen Hamburg, Bremen"
   ]
  },
  {
   "cell_type": "markdown",
   "metadata": {},
   "source": [
    "## Verwaltungsebenen einlesen\n",
    "Die Quelle enthält die oberste Verwaltungsebene nach dem Land selbst, also für Deutschland die Bundesländer, für Frankreich die Regionen. Die Quelle umfasst alle Daten in GeoNames und wird daher gefiltert."
   ]
  },
  {
   "cell_type": "code",
   "execution_count": null,
   "metadata": {},
   "outputs": [],
   "source": [
    "using DataFrames; using CSV"
   ]
  },
  {
   "cell_type": "code",
   "execution_count": null,
   "metadata": {},
   "outputs": [],
   "source": [
    "cl1_file=joinpath(data_path, \"Geonames\", \"admin1CodesASCII.txt\")"
   ]
  },
  {
   "cell_type": "code",
   "execution_count": null,
   "metadata": {},
   "outputs": [],
   "source": [
    "df_cl1=CSV.read(cl1_file, DataFrame, header=[\"code\", \"name\", \"ascii_name\", \"geonames_id\"]);"
   ]
  },
  {
   "cell_type": "code",
   "execution_count": null,
   "metadata": {},
   "outputs": [],
   "source": [
    "first(df_cl1, 7)"
   ]
  },
  {
   "cell_type": "markdown",
   "metadata": {},
   "source": [
    "Länder Code extrahieren"
   ]
  },
  {
   "cell_type": "code",
   "execution_count": null,
   "metadata": {},
   "outputs": [],
   "source": [
    "get_country_code(code)=split(code::AbstractString, \".\")[1]"
   ]
  },
  {
   "cell_type": "code",
   "execution_count": null,
   "metadata": {},
   "outputs": [],
   "source": [
    "df_cl1[!, :country_code] .= get_country_code.(df_cl1[!, :code]);"
   ]
  },
  {
   "cell_type": "code",
   "execution_count": null,
   "metadata": {},
   "outputs": [],
   "source": [
    "first(df_cl1, 7)"
   ]
  },
  {
   "cell_type": "markdown",
   "metadata": {},
   "source": [
    "Code der Verwaltungsebene extrahieren"
   ]
  },
  {
   "cell_type": "code",
   "execution_count": null,
   "metadata": {},
   "outputs": [],
   "source": [
    "get_admin1_code(code)=split(code::AbstractString, \".\")[2]"
   ]
  },
  {
   "cell_type": "code",
   "execution_count": null,
   "metadata": {},
   "outputs": [],
   "source": [
    "df_cl1[!, :admin1_code] .= get_admin1_code.(df_cl1[!, :code]);"
   ]
  },
  {
   "cell_type": "markdown",
   "metadata": {},
   "source": [
    "Länder auslesen"
   ]
  },
  {
   "cell_type": "code",
   "execution_count": null,
   "metadata": {},
   "outputs": [],
   "source": [
    "using MySQL"
   ]
  },
  {
   "cell_type": "code",
   "execution_count": null,
   "metadata": {},
   "outputs": [],
   "source": [
    "sql = \"SELECT id as country_id, country_code FROM country \" * \n",
    "\"WHERE country_code in (SELECT distinct(country_code) FROM place)\"\n",
    "df_country_m = DBInterface.execute(Wds.dbwiag, sql) |> DataFrame;"
   ]
  },
  {
   "cell_type": "code",
   "execution_count": null,
   "metadata": {},
   "outputs": [],
   "source": [
    "delete!(df_country_m, 16)"
   ]
  },
  {
   "cell_type": "code",
   "execution_count": null,
   "metadata": {},
   "outputs": [],
   "source": [
    "df_ccl1 = leftjoin(df_country_m, df_cl1, on = :country_code);"
   ]
  },
  {
   "cell_type": "markdown",
   "metadata": {},
   "source": [
    "Index ergänzen"
   ]
  },
  {
   "cell_type": "code",
   "execution_count": null,
   "metadata": {},
   "outputs": [],
   "source": [
    "df_ccl1[!, :id] .= 1:size(df_ccl1, 1);"
   ]
  },
  {
   "cell_type": "code",
   "execution_count": null,
   "metadata": {},
   "outputs": [],
   "source": [
    "first(df_ccl1[!, [:id, :country_id, :country_code, :name]], 5)"
   ]
  },
  {
   "cell_type": "code",
   "execution_count": null,
   "metadata": {},
   "outputs": [],
   "source": [
    "size(df_ccl1)"
   ]
  },
  {
   "cell_type": "code",
   "execution_count": null,
   "metadata": {},
   "outputs": [],
   "source": [
    "import_cols = [:id, :country_id, :country_code, :admin1_code, :name, :ascii_name, :geonames_id]"
   ]
  },
  {
   "cell_type": "code",
   "execution_count": null,
   "metadata": {},
   "outputs": [],
   "source": [
    "names(df_ccl1)"
   ]
  },
  {
   "cell_type": "code",
   "execution_count": null,
   "metadata": {
    "scrolled": true
   },
   "outputs": [],
   "source": [
    "Wds.filltable!(\"country_level_1\", select(df_ccl1, import_cols), clear_table=true)"
   ]
  },
  {
   "cell_type": "markdown",
   "metadata": {},
   "source": [
    "## Orte aus GeoNames einlesen\n",
    "Geonames stellt eine Sammlung aller Objekte (features) zur Verfügung. Alle Objekte eines Landes sind in jeweils einer Datei enthalten.\n",
    "https://download.geonames.org/export/dump/\n",
    "\n",
    "Lies Daten zu \n",
    "- Deutschland\n",
    "- Nachbarländer\n",
    "- Baltikum\n",
    "- Kroatien\n",
    "- Kaliningrad/Königsberg\n",
    "\n",
    "Ländercodes: DE, NL, BE, FR, IT, CH, AT, DK, PL, LU, CZ, LI, LV, LT, HR, EE, RU"
   ]
  },
  {
   "cell_type": "markdown",
   "metadata": {},
   "source": [
    "Pfad zu den Daten"
   ]
  },
  {
   "cell_type": "code",
   "execution_count": 9,
   "metadata": {},
   "outputs": [
    {
     "data": {
      "text/plain": [
       "\"C:\\\\Users\\\\georg\\\\Documents\\\\projekte-doc\\\\WiagDataSetup\\\\GeoNames\""
      ]
     },
     "execution_count": 9,
     "metadata": {},
     "output_type": "execute_result"
    }
   ],
   "source": [
    "gn_path = \"C:\\\\Users\\\\georg\\\\Documents\\\\projekte-doc\\\\WiagDataSetup\\\\GeoNames\""
   ]
  },
  {
   "cell_type": "markdown",
   "metadata": {},
   "source": [
    "Wähle aus den Features in den Daten von GeoNames nur Orte (P) aus, sowie Klöster (MSTY) und Konvente (CVNT).  \n",
    "Wähle wegen der Überprüfung der Orte in der Klosterdatenbank auch Administrative Einheiten aus.  \n",
    "Siehe http://www.geonames.org/export/codes.html.\n",
    "\n",
    "Filterfunktion definieren"
   ]
  },
  {
   "cell_type": "code",
   "execution_count": 10,
   "metadata": {},
   "outputs": [
    {
     "data": {
      "text/plain": [
       "filter_places (generic function with 1 method)"
      ]
     },
     "execution_count": 10,
     "metadata": {},
     "output_type": "execute_result"
    }
   ],
   "source": [
    "function filter_places(feature_class, feature_code)\n",
    "    return ((!ismissing(feature_class) && feature_class in (\"P\", \"A\"))\n",
    "            || (!ismissing(feature_code) && feature_code in (\"MSTY\", \"CVNT\")))\n",
    "end"
   ]
  },
  {
   "cell_type": "markdown",
   "metadata": {},
   "source": [
    "Spaltennamen und Spaltentypen"
   ]
  },
  {
   "cell_type": "markdown",
   "metadata": {},
   "source": [
    "Länder auslesen"
   ]
  },
  {
   "cell_type": "code",
   "execution_count": 11,
   "metadata": {},
   "outputs": [],
   "source": [
    "using MySQL\n",
    "using DataFrames\n",
    "using CSV"
   ]
  },
  {
   "cell_type": "code",
   "execution_count": 12,
   "metadata": {},
   "outputs": [],
   "source": [
    "df_country_m = DBInterface.execute(Wds.dbwiag, \"SELECT id as country_id, country_code FROM country\") |> DataFrame;"
   ]
  },
  {
   "cell_type": "code",
   "execution_count": 13,
   "metadata": {},
   "outputs": [
    {
     "data": {
      "text/html": [
       "<div><div style = \"float: left;\"><span>5×2 DataFrame</span></div><div style = \"clear: both;\"></div></div><div class = \"data-frame\" style = \"overflow-x: scroll;\"><table class = \"data-frame\" style = \"margin-bottom: 6px;\"><thead><tr class = \"header\"><th class = \"rowNumber\" style = \"font-weight: bold; text-align: right;\">Row</th><th style = \"text-align: left;\">country_id</th><th style = \"text-align: left;\">country_code</th></tr><tr class = \"subheader headerLastRow\"><th class = \"rowNumber\" style = \"font-weight: bold; text-align: right;\"></th><th title = \"Int32\" style = \"text-align: left;\">Int32</th><th title = \"Union{Missing, String}\" style = \"text-align: left;\">String?</th></tr></thead><tbody><tr><td class = \"rowNumber\" style = \"font-weight: bold; text-align: right;\">1</td><td style = \"text-align: right;\">0</td><td style = \"text-align: left;\">XK</td></tr><tr><td class = \"rowNumber\" style = \"font-weight: bold; text-align: right;\">2</td><td style = \"text-align: right;\">4</td><td style = \"text-align: left;\">AF</td></tr><tr><td class = \"rowNumber\" style = \"font-weight: bold; text-align: right;\">3</td><td style = \"text-align: right;\">8</td><td style = \"text-align: left;\">AL</td></tr><tr><td class = \"rowNumber\" style = \"font-weight: bold; text-align: right;\">4</td><td style = \"text-align: right;\">10</td><td style = \"text-align: left;\">AQ</td></tr><tr><td class = \"rowNumber\" style = \"font-weight: bold; text-align: right;\">5</td><td style = \"text-align: right;\">12</td><td style = \"text-align: left;\">DZ</td></tr></tbody></table></div>"
      ],
      "text/latex": [
       "\\begin{tabular}{r|cc}\n",
       "\t& country\\_id & country\\_code\\\\\n",
       "\t\\hline\n",
       "\t& Int32 & String?\\\\\n",
       "\t\\hline\n",
       "\t1 & 0 & XK \\\\\n",
       "\t2 & 4 & AF \\\\\n",
       "\t3 & 8 & AL \\\\\n",
       "\t4 & 10 & AQ \\\\\n",
       "\t5 & 12 & DZ \\\\\n",
       "\\end{tabular}\n"
      ],
      "text/plain": [
       "\u001b[1m5×2 DataFrame\u001b[0m\n",
       "\u001b[1m Row \u001b[0m│\u001b[1m country_id \u001b[0m\u001b[1m country_code \u001b[0m\n",
       "     │\u001b[90m Int32      \u001b[0m\u001b[90m String?      \u001b[0m\n",
       "─────┼──────────────────────────\n",
       "   1 │          0  XK\n",
       "   2 │          4  AF\n",
       "   3 │          8  AL\n",
       "   4 │         10  AQ\n",
       "   5 │         12  DZ"
      ]
     },
     "execution_count": 13,
     "metadata": {},
     "output_type": "execute_result"
    }
   ],
   "source": [
    "first(df_country_m, 5)"
   ]
  },
  {
   "cell_type": "code",
   "execution_count": 14,
   "metadata": {},
   "outputs": [],
   "source": [
    "gn_header = [\"geonames_id\", \"name\", \"asciiname\", \"alternatenames\",\n",
    "             \"latitude\", \"longitude\", \"feature_class\", \"feature_code\",\n",
    "             \"country_code\", \"cc2\", \"admin1_code\", \"admin2_code\", \"admin3_code\", \"admin4_code\",\n",
    "             \"population\", \"elevation\", \"dem\", \"timezone\", \"modification_date\"];\n",
    "\n",
    "gn_types = [Int, String, String, String, Float64, Float64,\n",
    "            String, String, String, String,\n",
    "            String, String, String, String,\n",
    "            Int, Int, Int, String, String];"
   ]
  },
  {
   "cell_type": "code",
   "execution_count": 29,
   "metadata": {},
   "outputs": [],
   "source": [
    "place_cols = [\n",
    "    :country_id => :country_id, \n",
    "    :name => :name, \n",
    "    :asciiname => :ascii_name, \n",
    "    :latitude => :latitude, \n",
    "    :longitude => :longitude, \n",
    "    :feature_class => :feature_class, \n",
    "    :feature_code => :feature_code, \n",
    "    :country_code => :country_code, \n",
    "    :cc2 => :cc2, \n",
    "    :admin1_code => :admin1_code,\n",
    "    :population => :population,\n",
    "    :elevation => :elevation, \n",
    "    :dem => :dem, \n",
    "    :timezone => :timezone, \n",
    "    :modification_date => :modification_date, \n",
    "    :geonames_id => :geonames_id,\n",
    "    :geonames_id => :id_in_source,\n",
    "];"
   ]
  },
  {
   "cell_type": "markdown",
   "metadata": {},
   "source": [
    "### Niederlande"
   ]
  },
  {
   "cell_type": "code",
   "execution_count": 16,
   "metadata": {},
   "outputs": [
    {
     "data": {
      "text/plain": [
       "\"C:\\\\Users\\\\georg\\\\Documents\\\\projekte-doc\\\\WiagDataSetup\\\\GeoNames\\\\NL\\\\NL.txt\""
      ]
     },
     "execution_count": 16,
     "metadata": {},
     "output_type": "execute_result"
    }
   ],
   "source": [
    "gn_filename = joinpath(gn_path, \"NL\", \"NL.txt\")"
   ]
  },
  {
   "cell_type": "code",
   "execution_count": 17,
   "metadata": {},
   "outputs": [],
   "source": [
    "gn_df = CSV.read(gn_filename, DataFrame, header=gn_header, types=gn_types);"
   ]
  },
  {
   "cell_type": "markdown",
   "metadata": {},
   "source": [
    "filtern nach Art des Features"
   ]
  },
  {
   "cell_type": "code",
   "execution_count": 18,
   "metadata": {},
   "outputs": [],
   "source": [
    "gn_dff = filter([:feature_class, :feature_code] => filter_places, gn_df);"
   ]
  },
  {
   "cell_type": "code",
   "execution_count": 19,
   "metadata": {},
   "outputs": [
    {
     "data": {
      "text/plain": [
       "(8233, 19)"
      ]
     },
     "execution_count": 19,
     "metadata": {},
     "output_type": "execute_result"
    }
   ],
   "source": [
    "size(gn_dff)"
   ]
  },
  {
   "cell_type": "code",
   "execution_count": 20,
   "metadata": {},
   "outputs": [],
   "source": [
    "gn_dff = rightjoin(df_country_m, gn_dff, on = :country_code);"
   ]
  },
  {
   "cell_type": "code",
   "execution_count": 21,
   "metadata": {},
   "outputs": [
    {
     "data": {
      "text/html": [
       "<div><div style = \"float: left;\"><span>5×7 DataFrame</span></div><div style = \"clear: both;\"></div></div><div class = \"data-frame\" style = \"overflow-x: scroll;\"><table class = \"data-frame\" style = \"margin-bottom: 6px;\"><thead><tr class = \"header\"><th class = \"rowNumber\" style = \"font-weight: bold; text-align: right;\">Row</th><th style = \"text-align: left;\">country_id</th><th style = \"text-align: left;\">name</th><th style = \"text-align: left;\">latitude</th><th style = \"text-align: left;\">longitude</th><th style = \"text-align: left;\">elevation</th><th style = \"text-align: left;\">dem</th><th style = \"text-align: left;\">population</th></tr><tr class = \"subheader headerLastRow\"><th class = \"rowNumber\" style = \"font-weight: bold; text-align: right;\"></th><th title = \"Union{Missing, Int32}\" style = \"text-align: left;\">Int32?</th><th title = \"String\" style = \"text-align: left;\">String</th><th title = \"Float64\" style = \"text-align: left;\">Float64</th><th title = \"Float64\" style = \"text-align: left;\">Float64</th><th title = \"Union{Missing, Int64}\" style = \"text-align: left;\">Int64?</th><th title = \"Int64\" style = \"text-align: left;\">Int64</th><th title = \"Int64\" style = \"text-align: left;\">Int64</th></tr></thead><tbody><tr><td class = \"rowNumber\" style = \"font-weight: bold; text-align: right;\">1</td><td style = \"text-align: right;\">528</td><td style = \"text-align: left;\">Den Oord</td><td style = \"text-align: right;\">51.9708</td><td style = \"text-align: right;\">5.27083</td><td style = \"font-style: italic; text-align: right;\">missing</td><td style = \"text-align: right;\">3</td><td style = \"text-align: right;\">0</td></tr><tr><td class = \"rowNumber\" style = \"font-weight: bold; text-align: right;\">2</td><td style = \"text-align: right;\">528</td><td style = \"text-align: left;\">Gemeente Zwolle</td><td style = \"text-align: right;\">52.5126</td><td style = \"text-align: right;\">6.09359</td><td style = \"font-style: italic; text-align: right;\">missing</td><td style = \"text-align: right;\">9</td><td style = \"text-align: right;\">126116</td></tr><tr><td class = \"rowNumber\" style = \"font-weight: bold; text-align: right;\">3</td><td style = \"text-align: right;\">528</td><td style = \"text-align: left;\">Zwolle</td><td style = \"text-align: right;\">52.5125</td><td style = \"text-align: right;\">6.09444</td><td style = \"font-style: italic; text-align: right;\">missing</td><td style = \"text-align: right;\">9</td><td style = \"text-align: right;\">111805</td></tr><tr><td class = \"rowNumber\" style = \"font-weight: bold; text-align: right;\">4</td><td style = \"text-align: right;\">528</td><td style = \"text-align: left;\">Zwolle</td><td style = \"text-align: right;\">52.0317</td><td style = \"text-align: right;\">6.65556</td><td style = \"font-style: italic; text-align: right;\">missing</td><td style = \"text-align: right;\">30</td><td style = \"text-align: right;\">65</td></tr><tr><td class = \"rowNumber\" style = \"font-weight: bold; text-align: right;\">5</td><td style = \"text-align: right;\">528</td><td style = \"text-align: left;\">Zwingelspaan</td><td style = \"text-align: right;\">51.66</td><td style = \"text-align: right;\">4.49583</td><td style = \"font-style: italic; text-align: right;\">missing</td><td style = \"text-align: right;\">-2</td><td style = \"text-align: right;\">120</td></tr></tbody></table></div>"
      ],
      "text/latex": [
       "\\begin{tabular}{r|ccccccc}\n",
       "\t& country\\_id & name & latitude & longitude & elevation & dem & population\\\\\n",
       "\t\\hline\n",
       "\t& Int32? & String & Float64 & Float64 & Int64? & Int64 & Int64\\\\\n",
       "\t\\hline\n",
       "\t1 & 528 & Den Oord & 51.9708 & 5.27083 & \\emph{missing} & 3 & 0 \\\\\n",
       "\t2 & 528 & Gemeente Zwolle & 52.5126 & 6.09359 & \\emph{missing} & 9 & 126116 \\\\\n",
       "\t3 & 528 & Zwolle & 52.5125 & 6.09444 & \\emph{missing} & 9 & 111805 \\\\\n",
       "\t4 & 528 & Zwolle & 52.0317 & 6.65556 & \\emph{missing} & 30 & 65 \\\\\n",
       "\t5 & 528 & Zwingelspaan & 51.66 & 4.49583 & \\emph{missing} & -2 & 120 \\\\\n",
       "\\end{tabular}\n"
      ],
      "text/plain": [
       "\u001b[1m5×7 DataFrame\u001b[0m\n",
       "\u001b[1m Row \u001b[0m│\u001b[1m country_id \u001b[0m\u001b[1m name            \u001b[0m\u001b[1m latitude \u001b[0m\u001b[1m longitude \u001b[0m\u001b[1m elevation \u001b[0m\u001b[1m dem   \u001b[0m\u001b[1m pop\u001b[0m ⋯\n",
       "     │\u001b[90m Int32?     \u001b[0m\u001b[90m String          \u001b[0m\u001b[90m Float64  \u001b[0m\u001b[90m Float64   \u001b[0m\u001b[90m Int64?    \u001b[0m\u001b[90m Int64 \u001b[0m\u001b[90m Int\u001b[0m ⋯\n",
       "─────┼──────────────────────────────────────────────────────────────────────────\n",
       "   1 │        528  Den Oord          51.9708    5.27083 \u001b[90m   missing \u001b[0m     3      ⋯\n",
       "   2 │        528  Gemeente Zwolle   52.5126    6.09359 \u001b[90m   missing \u001b[0m     9\n",
       "   3 │        528  Zwolle            52.5125    6.09444 \u001b[90m   missing \u001b[0m     9\n",
       "   4 │        528  Zwolle            52.0317    6.65556 \u001b[90m   missing \u001b[0m    30\n",
       "   5 │        528  Zwingelspaan      51.66      4.49583 \u001b[90m   missing \u001b[0m    -2      ⋯\n",
       "\u001b[36m                                                                1 column omitted\u001b[0m"
      ]
     },
     "execution_count": 21,
     "metadata": {},
     "output_type": "execute_result"
    }
   ],
   "source": [
    "gn_dff[1:5, [:country_id, :name, :latitude, :longitude, :elevation, :dem, :population]]"
   ]
  },
  {
   "cell_type": "code",
   "execution_count": 30,
   "metadata": {
    "scrolled": true
   },
   "outputs": [
    {
     "name": "stderr",
     "output_type": "stream",
     "text": [
      "┌ Info: Rows inserted: 8233\n",
      "└ @ WiagDataSetup C:\\Users\\georg\\Documents\\projekte\\WiagDataSetup.jl\\src\\WiagDataSetup.jl:1216\n"
     ]
    },
    {
     "data": {
      "text/plain": [
       "8233"
      ]
     },
     "execution_count": 30,
     "metadata": {},
     "output_type": "execute_result"
    }
   ],
   "source": [
    "Wds.filltable!(\"place_all\", select(gn_dff, place_cols), clear_table = false)"
   ]
  },
  {
   "cell_type": "markdown",
   "metadata": {},
   "source": [
    "### Belgien"
   ]
  },
  {
   "cell_type": "code",
   "execution_count": 31,
   "metadata": {},
   "outputs": [
    {
     "data": {
      "text/plain": [
       "\"C:\\\\Users\\\\georg\\\\Documents\\\\projekte-doc\\\\WiagDataSetup\\\\GeoNames\\\\BE\\\\BE.txt\""
      ]
     },
     "execution_count": 31,
     "metadata": {},
     "output_type": "execute_result"
    }
   ],
   "source": [
    "gn_filename = joinpath(gn_path, \"BE\", \"BE.txt\")"
   ]
  },
  {
   "cell_type": "code",
   "execution_count": 32,
   "metadata": {},
   "outputs": [],
   "source": [
    "gn_df = CSV.read(gn_filename, DataFrame, header=gn_header, types=gn_types);"
   ]
  },
  {
   "cell_type": "markdown",
   "metadata": {},
   "source": [
    "filtern nach Art des Features"
   ]
  },
  {
   "cell_type": "code",
   "execution_count": 33,
   "metadata": {},
   "outputs": [],
   "source": [
    "gn_dff = filter([:feature_class, :feature_code] => filter_places, gn_df);"
   ]
  },
  {
   "cell_type": "code",
   "execution_count": 34,
   "metadata": {},
   "outputs": [
    {
     "data": {
      "text/html": [
       "<div><div style = \"float: left;\"><span>5×4 DataFrame</span></div><div style = \"clear: both;\"></div></div><div class = \"data-frame\" style = \"overflow-x: scroll;\"><table class = \"data-frame\" style = \"margin-bottom: 6px;\"><thead><tr class = \"header\"><th class = \"rowNumber\" style = \"font-weight: bold; text-align: right;\">Row</th><th style = \"text-align: left;\">geonames_id</th><th style = \"text-align: left;\">name</th><th style = \"text-align: left;\">country_code</th><th style = \"text-align: left;\">population</th></tr><tr class = \"subheader headerLastRow\"><th class = \"rowNumber\" style = \"font-weight: bold; text-align: right;\"></th><th title = \"Int64\" style = \"text-align: left;\">Int64</th><th title = \"String\" style = \"text-align: left;\">String</th><th title = \"String\" style = \"text-align: left;\">String</th><th title = \"Int64\" style = \"text-align: left;\">Int64</th></tr></thead><tbody><tr><td class = \"rowNumber\" style = \"font-weight: bold; text-align: right;\">1</td><td style = \"text-align: right;\">2783081</td><td style = \"text-align: left;\">Zwijndrecht</td><td style = \"text-align: left;\">BE</td><td style = \"text-align: right;\">18249</td></tr><tr><td class = \"rowNumber\" style = \"font-weight: bold; text-align: right;\">2</td><td style = \"text-align: right;\">2783082</td><td style = \"text-align: left;\">Zwijndrecht</td><td style = \"text-align: left;\">BE</td><td style = \"text-align: right;\">19056</td></tr><tr><td class = \"rowNumber\" style = \"font-weight: bold; text-align: right;\">3</td><td style = \"text-align: right;\">2783083</td><td style = \"text-align: left;\">Zwijnaardse Dries</td><td style = \"text-align: left;\">BE</td><td style = \"text-align: right;\">0</td></tr><tr><td class = \"rowNumber\" style = \"font-weight: bold; text-align: right;\">4</td><td style = \"text-align: right;\">2783084</td><td style = \"text-align: left;\">Zwijnaarde</td><td style = \"text-align: left;\">BE</td><td style = \"text-align: right;\">7379</td></tr><tr><td class = \"rowNumber\" style = \"font-weight: bold; text-align: right;\">5</td><td style = \"text-align: right;\">2783086</td><td style = \"text-align: left;\">Zwijn</td><td style = \"text-align: left;\">BE</td><td style = \"text-align: right;\">0</td></tr></tbody></table></div>"
      ],
      "text/latex": [
       "\\begin{tabular}{r|cccc}\n",
       "\t& geonames\\_id & name & country\\_code & population\\\\\n",
       "\t\\hline\n",
       "\t& Int64 & String & String & Int64\\\\\n",
       "\t\\hline\n",
       "\t1 & 2783081 & Zwijndrecht & BE & 18249 \\\\\n",
       "\t2 & 2783082 & Zwijndrecht & BE & 19056 \\\\\n",
       "\t3 & 2783083 & Zwijnaardse Dries & BE & 0 \\\\\n",
       "\t4 & 2783084 & Zwijnaarde & BE & 7379 \\\\\n",
       "\t5 & 2783086 & Zwijn & BE & 0 \\\\\n",
       "\\end{tabular}\n"
      ],
      "text/plain": [
       "\u001b[1m5×4 DataFrame\u001b[0m\n",
       "\u001b[1m Row \u001b[0m│\u001b[1m geonames_id \u001b[0m\u001b[1m name              \u001b[0m\u001b[1m country_code \u001b[0m\u001b[1m population \u001b[0m\n",
       "     │\u001b[90m Int64       \u001b[0m\u001b[90m String            \u001b[0m\u001b[90m String       \u001b[0m\u001b[90m Int64      \u001b[0m\n",
       "─────┼──────────────────────────────────────────────────────────\n",
       "   1 │     2783081  Zwijndrecht        BE                 18249\n",
       "   2 │     2783082  Zwijndrecht        BE                 19056\n",
       "   3 │     2783083  Zwijnaardse Dries  BE                     0\n",
       "   4 │     2783084  Zwijnaarde         BE                  7379\n",
       "   5 │     2783086  Zwijn              BE                     0"
      ]
     },
     "execution_count": 34,
     "metadata": {},
     "output_type": "execute_result"
    }
   ],
   "source": [
    "gn_dff[1:5, [:geonames_id, :name, :country_code, :population]]"
   ]
  },
  {
   "cell_type": "code",
   "execution_count": 35,
   "metadata": {},
   "outputs": [
    {
     "data": {
      "text/plain": [
       "(13326, 19)"
      ]
     },
     "execution_count": 35,
     "metadata": {},
     "output_type": "execute_result"
    }
   ],
   "source": [
    "size(gn_dff)"
   ]
  },
  {
   "cell_type": "markdown",
   "metadata": {},
   "source": [
    "Spalte für die Länder_ID einfügen"
   ]
  },
  {
   "cell_type": "code",
   "execution_count": 36,
   "metadata": {},
   "outputs": [],
   "source": [
    "gn_dff = rightjoin(df_country_m, gn_dff, on = :country_code);"
   ]
  },
  {
   "cell_type": "code",
   "execution_count": 37,
   "metadata": {},
   "outputs": [
    {
     "name": "stderr",
     "output_type": "stream",
     "text": [
      "┌ Info: 10000\n",
      "└ @ WiagDataSetup C:\\Users\\georg\\Documents\\projekte\\WiagDataSetup.jl\\src\\WiagDataSetup.jl:1193\n",
      "┌ Info: Rows inserted: 13326\n",
      "└ @ WiagDataSetup C:\\Users\\georg\\Documents\\projekte\\WiagDataSetup.jl\\src\\WiagDataSetup.jl:1216\n"
     ]
    },
    {
     "data": {
      "text/plain": [
       "13326"
      ]
     },
     "execution_count": 37,
     "metadata": {},
     "output_type": "execute_result"
    }
   ],
   "source": [
    "Wds.filltable!(\"place_all\", select(gn_dff, place_cols), clear_table = false)"
   ]
  },
  {
   "cell_type": "markdown",
   "metadata": {},
   "source": [
    "### Frankreich"
   ]
  },
  {
   "cell_type": "code",
   "execution_count": 38,
   "metadata": {},
   "outputs": [
    {
     "data": {
      "text/plain": [
       "\"C:\\\\Users\\\\georg\\\\Documents\\\\projekte-doc\\\\WiagDataSetup\\\\GeoNames\\\\FR\\\\FR.txt\""
      ]
     },
     "execution_count": 38,
     "metadata": {},
     "output_type": "execute_result"
    }
   ],
   "source": [
    "gn_filename = joinpath(gn_path, \"FR\", \"FR.txt\")"
   ]
  },
  {
   "cell_type": "code",
   "execution_count": 39,
   "metadata": {},
   "outputs": [],
   "source": [
    "gn_df = CSV.read(gn_filename, DataFrame, header=gn_header, types=gn_types);"
   ]
  },
  {
   "cell_type": "markdown",
   "metadata": {},
   "source": [
    "filtern nach Art des Features"
   ]
  },
  {
   "cell_type": "code",
   "execution_count": 40,
   "metadata": {},
   "outputs": [],
   "source": [
    "gn_dff = filter([:feature_class, :feature_code] => filter_places, gn_df);"
   ]
  },
  {
   "cell_type": "code",
   "execution_count": 41,
   "metadata": {},
   "outputs": [
    {
     "data": {
      "text/html": [
       "<div><div style = \"float: left;\"><span>5×4 DataFrame</span></div><div style = \"clear: both;\"></div></div><div class = \"data-frame\" style = \"overflow-x: scroll;\"><table class = \"data-frame\" style = \"margin-bottom: 6px;\"><thead><tr class = \"header\"><th class = \"rowNumber\" style = \"font-weight: bold; text-align: right;\">Row</th><th style = \"text-align: left;\">geonames_id</th><th style = \"text-align: left;\">name</th><th style = \"text-align: left;\">country_code</th><th style = \"text-align: left;\">population</th></tr><tr class = \"subheader headerLastRow\"><th class = \"rowNumber\" style = \"font-weight: bold; text-align: right;\"></th><th title = \"Int64\" style = \"text-align: left;\">Int64</th><th title = \"String\" style = \"text-align: left;\">String</th><th title = \"String\" style = \"text-align: left;\">String</th><th title = \"Int64\" style = \"text-align: left;\">Int64</th></tr></thead><tbody><tr><td class = \"rowNumber\" style = \"font-weight: bold; text-align: right;\">1</td><td style = \"text-align: right;\">2967103</td><td style = \"text-align: left;\">Peyrat-le-Château</td><td style = \"text-align: left;\">FR</td><td style = \"text-align: right;\">1140</td></tr><tr><td class = \"rowNumber\" style = \"font-weight: bold; text-align: right;\">2</td><td style = \"text-align: right;\">2967107</td><td style = \"text-align: left;\">Domecy-sur-le-Vault</td><td style = \"text-align: left;\">FR</td><td style = \"text-align: right;\">107</td></tr><tr><td class = \"rowNumber\" style = \"font-weight: bold; text-align: right;\">3</td><td style = \"text-align: right;\">2967108</td><td style = \"text-align: left;\">Blaye</td><td style = \"text-align: left;\">FR</td><td style = \"text-align: right;\">5277</td></tr><tr><td class = \"rowNumber\" style = \"font-weight: bold; text-align: right;\">4</td><td style = \"text-align: right;\">2967109</td><td style = \"text-align: left;\">Zuytpeene</td><td style = \"text-align: left;\">FR</td><td style = \"text-align: right;\">483</td></tr><tr><td class = \"rowNumber\" style = \"font-weight: bold; text-align: right;\">5</td><td style = \"text-align: right;\">2967110</td><td style = \"text-align: left;\">Zuydcoote</td><td style = \"text-align: left;\">FR</td><td style = \"text-align: right;\">1660</td></tr></tbody></table></div>"
      ],
      "text/latex": [
       "\\begin{tabular}{r|cccc}\n",
       "\t& geonames\\_id & name & country\\_code & population\\\\\n",
       "\t\\hline\n",
       "\t& Int64 & String & String & Int64\\\\\n",
       "\t\\hline\n",
       "\t1 & 2967103 & Peyrat-le-Château & FR & 1140 \\\\\n",
       "\t2 & 2967107 & Domecy-sur-le-Vault & FR & 107 \\\\\n",
       "\t3 & 2967108 & Blaye & FR & 5277 \\\\\n",
       "\t4 & 2967109 & Zuytpeene & FR & 483 \\\\\n",
       "\t5 & 2967110 & Zuydcoote & FR & 1660 \\\\\n",
       "\\end{tabular}\n"
      ],
      "text/plain": [
       "\u001b[1m5×4 DataFrame\u001b[0m\n",
       "\u001b[1m Row \u001b[0m│\u001b[1m geonames_id \u001b[0m\u001b[1m name                \u001b[0m\u001b[1m country_code \u001b[0m\u001b[1m population \u001b[0m\n",
       "     │\u001b[90m Int64       \u001b[0m\u001b[90m String              \u001b[0m\u001b[90m String       \u001b[0m\u001b[90m Int64      \u001b[0m\n",
       "─────┼────────────────────────────────────────────────────────────\n",
       "   1 │     2967103  Peyrat-le-Château    FR                  1140\n",
       "   2 │     2967107  Domecy-sur-le-Vault  FR                   107\n",
       "   3 │     2967108  Blaye                FR                  5277\n",
       "   4 │     2967109  Zuytpeene            FR                   483\n",
       "   5 │     2967110  Zuydcoote            FR                  1660"
      ]
     },
     "execution_count": 41,
     "metadata": {},
     "output_type": "execute_result"
    }
   ],
   "source": [
    "gn_dff[1:5, [:geonames_id, :name, :country_code, :population]]"
   ]
  },
  {
   "cell_type": "code",
   "execution_count": 42,
   "metadata": {},
   "outputs": [
    {
     "data": {
      "text/plain": [
       "(118825, 19)"
      ]
     },
     "execution_count": 42,
     "metadata": {},
     "output_type": "execute_result"
    }
   ],
   "source": [
    "size(gn_dff)"
   ]
  },
  {
   "cell_type": "markdown",
   "metadata": {},
   "source": [
    "Spalte für die Länder_ID einfügen"
   ]
  },
  {
   "cell_type": "code",
   "execution_count": 43,
   "metadata": {},
   "outputs": [],
   "source": [
    "gn_dff = rightjoin(df_country_m, gn_dff, on = :country_code);"
   ]
  },
  {
   "cell_type": "code",
   "execution_count": 44,
   "metadata": {},
   "outputs": [
    {
     "name": "stderr",
     "output_type": "stream",
     "text": [
      "┌ Info: 10000\n",
      "└ @ WiagDataSetup C:\\Users\\georg\\Documents\\projekte\\WiagDataSetup.jl\\src\\WiagDataSetup.jl:1193\n",
      "┌ Info: 20000\n",
      "└ @ WiagDataSetup C:\\Users\\georg\\Documents\\projekte\\WiagDataSetup.jl\\src\\WiagDataSetup.jl:1193\n",
      "┌ Info: 30000\n",
      "└ @ WiagDataSetup C:\\Users\\georg\\Documents\\projekte\\WiagDataSetup.jl\\src\\WiagDataSetup.jl:1193\n",
      "┌ Info: 40000\n",
      "└ @ WiagDataSetup C:\\Users\\georg\\Documents\\projekte\\WiagDataSetup.jl\\src\\WiagDataSetup.jl:1193\n",
      "┌ Info: 50000\n",
      "└ @ WiagDataSetup C:\\Users\\georg\\Documents\\projekte\\WiagDataSetup.jl\\src\\WiagDataSetup.jl:1193\n",
      "┌ Info: 60000\n",
      "└ @ WiagDataSetup C:\\Users\\georg\\Documents\\projekte\\WiagDataSetup.jl\\src\\WiagDataSetup.jl:1193\n",
      "┌ Info: 70000\n",
      "└ @ WiagDataSetup C:\\Users\\georg\\Documents\\projekte\\WiagDataSetup.jl\\src\\WiagDataSetup.jl:1193\n",
      "┌ Info: 80000\n",
      "└ @ WiagDataSetup C:\\Users\\georg\\Documents\\projekte\\WiagDataSetup.jl\\src\\WiagDataSetup.jl:1193\n",
      "┌ Info: 90000\n",
      "└ @ WiagDataSetup C:\\Users\\georg\\Documents\\projekte\\WiagDataSetup.jl\\src\\WiagDataSetup.jl:1193\n",
      "┌ Info: 100000\n",
      "└ @ WiagDataSetup C:\\Users\\georg\\Documents\\projekte\\WiagDataSetup.jl\\src\\WiagDataSetup.jl:1193\n",
      "┌ Info: 110000\n",
      "└ @ WiagDataSetup C:\\Users\\georg\\Documents\\projekte\\WiagDataSetup.jl\\src\\WiagDataSetup.jl:1193\n",
      "┌ Info: Rows inserted: 118825\n",
      "└ @ WiagDataSetup C:\\Users\\georg\\Documents\\projekte\\WiagDataSetup.jl\\src\\WiagDataSetup.jl:1216\n"
     ]
    },
    {
     "data": {
      "text/plain": [
       "118825"
      ]
     },
     "execution_count": 44,
     "metadata": {},
     "output_type": "execute_result"
    }
   ],
   "source": [
    "Wds.filltable!(\"place_all\", select(gn_dff, place_cols), clear_table = false)"
   ]
  },
  {
   "cell_type": "markdown",
   "metadata": {},
   "source": [
    "### Italien"
   ]
  },
  {
   "cell_type": "code",
   "execution_count": 45,
   "metadata": {},
   "outputs": [
    {
     "data": {
      "text/plain": [
       "\"C:\\\\Users\\\\georg\\\\Documents\\\\projekte-doc\\\\WiagDataSetup\\\\GeoNames\\\\IT\\\\IT.txt\""
      ]
     },
     "execution_count": 45,
     "metadata": {},
     "output_type": "execute_result"
    }
   ],
   "source": [
    "gn_filename = joinpath(gn_path, \"IT\", \"IT.txt\")"
   ]
  },
  {
   "cell_type": "code",
   "execution_count": 46,
   "metadata": {},
   "outputs": [],
   "source": [
    "gn_df = CSV.read(gn_filename, DataFrame, header=gn_header, types=gn_types);"
   ]
  },
  {
   "cell_type": "markdown",
   "metadata": {},
   "source": [
    "filtern nach Art des Features"
   ]
  },
  {
   "cell_type": "code",
   "execution_count": 47,
   "metadata": {},
   "outputs": [],
   "source": [
    "gn_dff = filter([:feature_class, :feature_code] => filter_places, gn_df);"
   ]
  },
  {
   "cell_type": "code",
   "execution_count": 48,
   "metadata": {},
   "outputs": [
    {
     "data": {
      "text/html": [
       "<div><div style = \"float: left;\"><span>5×4 DataFrame</span></div><div style = \"clear: both;\"></div></div><div class = \"data-frame\" style = \"overflow-x: scroll;\"><table class = \"data-frame\" style = \"margin-bottom: 6px;\"><thead><tr class = \"header\"><th class = \"rowNumber\" style = \"font-weight: bold; text-align: right;\">Row</th><th style = \"text-align: left;\">geonames_id</th><th style = \"text-align: left;\">name</th><th style = \"text-align: left;\">country_code</th><th style = \"text-align: left;\">population</th></tr><tr class = \"subheader headerLastRow\"><th class = \"rowNumber\" style = \"font-weight: bold; text-align: right;\"></th><th title = \"Int64\" style = \"text-align: left;\">Int64</th><th title = \"String\" style = \"text-align: left;\">String</th><th title = \"String\" style = \"text-align: left;\">String</th><th title = \"Int64\" style = \"text-align: left;\">Int64</th></tr></thead><tbody><tr><td class = \"rowNumber\" style = \"font-weight: bold; text-align: right;\">1</td><td style = \"text-align: right;\">781059</td><td style = \"text-align: left;\">Colognole</td><td style = \"text-align: left;\">IT</td><td style = \"text-align: right;\">128</td></tr><tr><td class = \"rowNumber\" style = \"font-weight: bold; text-align: right;\">2</td><td style = \"text-align: right;\">781060</td><td style = \"text-align: left;\">Casale Sant&apos;Antonio</td><td style = \"text-align: left;\">IT</td><td style = \"text-align: right;\">59</td></tr><tr><td class = \"rowNumber\" style = \"font-weight: bold; text-align: right;\">3</td><td style = \"text-align: right;\">2522676</td><td style = \"text-align: left;\">Zungti</td><td style = \"text-align: left;\">IT</td><td style = \"text-align: right;\">0</td></tr><tr><td class = \"rowNumber\" style = \"font-weight: bold; text-align: right;\">4</td><td style = \"text-align: right;\">2522677</td><td style = \"text-align: left;\">Zumpano</td><td style = \"text-align: left;\">IT</td><td style = \"text-align: right;\">343</td></tr><tr><td class = \"rowNumber\" style = \"font-weight: bold; text-align: right;\">5</td><td style = \"text-align: right;\">2522679</td><td style = \"text-align: left;\">Zona</td><td style = \"text-align: left;\">IT</td><td style = \"text-align: right;\">0</td></tr></tbody></table></div>"
      ],
      "text/latex": [
       "\\begin{tabular}{r|cccc}\n",
       "\t& geonames\\_id & name & country\\_code & population\\\\\n",
       "\t\\hline\n",
       "\t& Int64 & String & String & Int64\\\\\n",
       "\t\\hline\n",
       "\t1 & 781059 & Colognole & IT & 128 \\\\\n",
       "\t2 & 781060 & Casale Sant'Antonio & IT & 59 \\\\\n",
       "\t3 & 2522676 & Zungti & IT & 0 \\\\\n",
       "\t4 & 2522677 & Zumpano & IT & 343 \\\\\n",
       "\t5 & 2522679 & Zona & IT & 0 \\\\\n",
       "\\end{tabular}\n"
      ],
      "text/plain": [
       "\u001b[1m5×4 DataFrame\u001b[0m\n",
       "\u001b[1m Row \u001b[0m│\u001b[1m geonames_id \u001b[0m\u001b[1m name                \u001b[0m\u001b[1m country_code \u001b[0m\u001b[1m population \u001b[0m\n",
       "     │\u001b[90m Int64       \u001b[0m\u001b[90m String              \u001b[0m\u001b[90m String       \u001b[0m\u001b[90m Int64      \u001b[0m\n",
       "─────┼────────────────────────────────────────────────────────────\n",
       "   1 │      781059  Colognole            IT                   128\n",
       "   2 │      781060  Casale Sant'Antonio  IT                    59\n",
       "   3 │     2522676  Zungti               IT                     0\n",
       "   4 │     2522677  Zumpano              IT                   343\n",
       "   5 │     2522679  Zona                 IT                     0"
      ]
     },
     "execution_count": 48,
     "metadata": {},
     "output_type": "execute_result"
    }
   ],
   "source": [
    "gn_dff[1:5, [:geonames_id, :name, :country_code, :population]]"
   ]
  },
  {
   "cell_type": "code",
   "execution_count": 49,
   "metadata": {},
   "outputs": [
    {
     "data": {
      "text/plain": [
       "(71378, 19)"
      ]
     },
     "execution_count": 49,
     "metadata": {},
     "output_type": "execute_result"
    }
   ],
   "source": [
    "size(gn_dff)"
   ]
  },
  {
   "cell_type": "markdown",
   "metadata": {},
   "source": [
    "Spalte für die Länder_ID einfügen"
   ]
  },
  {
   "cell_type": "code",
   "execution_count": 50,
   "metadata": {},
   "outputs": [],
   "source": [
    "gn_dff = rightjoin(df_country_m, gn_dff, on = :country_code);"
   ]
  },
  {
   "cell_type": "code",
   "execution_count": 51,
   "metadata": {},
   "outputs": [
    {
     "name": "stderr",
     "output_type": "stream",
     "text": [
      "┌ Info: 10000\n",
      "└ @ WiagDataSetup C:\\Users\\georg\\Documents\\projekte\\WiagDataSetup.jl\\src\\WiagDataSetup.jl:1193\n",
      "┌ Info: 20000\n",
      "└ @ WiagDataSetup C:\\Users\\georg\\Documents\\projekte\\WiagDataSetup.jl\\src\\WiagDataSetup.jl:1193\n",
      "┌ Info: 30000\n",
      "└ @ WiagDataSetup C:\\Users\\georg\\Documents\\projekte\\WiagDataSetup.jl\\src\\WiagDataSetup.jl:1193\n",
      "┌ Info: 40000\n",
      "└ @ WiagDataSetup C:\\Users\\georg\\Documents\\projekte\\WiagDataSetup.jl\\src\\WiagDataSetup.jl:1193\n",
      "┌ Info: 50000\n",
      "└ @ WiagDataSetup C:\\Users\\georg\\Documents\\projekte\\WiagDataSetup.jl\\src\\WiagDataSetup.jl:1193\n",
      "┌ Info: 60000\n",
      "└ @ WiagDataSetup C:\\Users\\georg\\Documents\\projekte\\WiagDataSetup.jl\\src\\WiagDataSetup.jl:1193\n",
      "┌ Info: 70000\n",
      "└ @ WiagDataSetup C:\\Users\\georg\\Documents\\projekte\\WiagDataSetup.jl\\src\\WiagDataSetup.jl:1193\n",
      "┌ Info: Rows inserted: 71378\n",
      "└ @ WiagDataSetup C:\\Users\\georg\\Documents\\projekte\\WiagDataSetup.jl\\src\\WiagDataSetup.jl:1216\n"
     ]
    },
    {
     "data": {
      "text/plain": [
       "71378"
      ]
     },
     "execution_count": 51,
     "metadata": {},
     "output_type": "execute_result"
    }
   ],
   "source": [
    "Wds.filltable!(\"place_all\", select(gn_dff, place_cols), clear_table = false)"
   ]
  },
  {
   "cell_type": "markdown",
   "metadata": {},
   "source": [
    "### Schweiz"
   ]
  },
  {
   "cell_type": "code",
   "execution_count": 52,
   "metadata": {},
   "outputs": [
    {
     "data": {
      "text/plain": [
       "\"C:\\\\Users\\\\georg\\\\Documents\\\\projekte-doc\\\\WiagDataSetup\\\\GeoNames\\\\CH\\\\CH.txt\""
      ]
     },
     "execution_count": 52,
     "metadata": {},
     "output_type": "execute_result"
    }
   ],
   "source": [
    "gn_filename = joinpath(gn_path, \"CH\", \"CH.txt\")"
   ]
  },
  {
   "cell_type": "code",
   "execution_count": 53,
   "metadata": {},
   "outputs": [],
   "source": [
    "gn_df = CSV.read(gn_filename, DataFrame, header=gn_header, types=gn_types);"
   ]
  },
  {
   "cell_type": "markdown",
   "metadata": {},
   "source": [
    "filtern nach Art des Features"
   ]
  },
  {
   "cell_type": "code",
   "execution_count": 54,
   "metadata": {},
   "outputs": [],
   "source": [
    "gn_dff = filter([:feature_class, :feature_code] => filter_places, gn_df);"
   ]
  },
  {
   "cell_type": "code",
   "execution_count": 55,
   "metadata": {},
   "outputs": [
    {
     "data": {
      "text/html": [
       "<div><div style = \"float: left;\"><span>5×4 DataFrame</span></div><div style = \"clear: both;\"></div></div><div class = \"data-frame\" style = \"overflow-x: scroll;\"><table class = \"data-frame\" style = \"margin-bottom: 6px;\"><thead><tr class = \"header\"><th class = \"rowNumber\" style = \"font-weight: bold; text-align: right;\">Row</th><th style = \"text-align: left;\">geonames_id</th><th style = \"text-align: left;\">name</th><th style = \"text-align: left;\">country_code</th><th style = \"text-align: left;\">population</th></tr><tr class = \"subheader headerLastRow\"><th class = \"rowNumber\" style = \"font-weight: bold; text-align: right;\"></th><th title = \"Int64\" style = \"text-align: left;\">Int64</th><th title = \"String\" style = \"text-align: left;\">String</th><th title = \"String\" style = \"text-align: left;\">String</th><th title = \"Int64\" style = \"text-align: left;\">Int64</th></tr></thead><tbody><tr><td class = \"rowNumber\" style = \"font-weight: bold; text-align: right;\">1</td><td style = \"text-align: right;\">2657885</td><td style = \"text-align: left;\">Zwischbergen</td><td style = \"text-align: left;\">CH</td><td style = \"text-align: right;\">127</td></tr><tr><td class = \"rowNumber\" style = \"font-weight: bold; text-align: right;\">2</td><td style = \"text-align: right;\">2657886</td><td style = \"text-align: left;\">Zwingen</td><td style = \"text-align: left;\">CH</td><td style = \"text-align: right;\">2162</td></tr><tr><td class = \"rowNumber\" style = \"font-weight: bold; text-align: right;\">3</td><td style = \"text-align: right;\">2657887</td><td style = \"text-align: left;\">Zweisimmen</td><td style = \"text-align: left;\">CH</td><td style = \"text-align: right;\">2813</td></tr><tr><td class = \"rowNumber\" style = \"font-weight: bold; text-align: right;\">4</td><td style = \"text-align: right;\">2657888</td><td style = \"text-align: left;\">Zweilütschinen</td><td style = \"text-align: left;\">CH</td><td style = \"text-align: right;\">0</td></tr><tr><td class = \"rowNumber\" style = \"font-weight: bold; text-align: right;\">5</td><td style = \"text-align: right;\">2657889</td><td style = \"text-align: left;\">Zuzwil</td><td style = \"text-align: left;\">CH</td><td style = \"text-align: right;\">4226</td></tr></tbody></table></div>"
      ],
      "text/latex": [
       "\\begin{tabular}{r|cccc}\n",
       "\t& geonames\\_id & name & country\\_code & population\\\\\n",
       "\t\\hline\n",
       "\t& Int64 & String & String & Int64\\\\\n",
       "\t\\hline\n",
       "\t1 & 2657885 & Zwischbergen & CH & 127 \\\\\n",
       "\t2 & 2657886 & Zwingen & CH & 2162 \\\\\n",
       "\t3 & 2657887 & Zweisimmen & CH & 2813 \\\\\n",
       "\t4 & 2657888 & Zweilütschinen & CH & 0 \\\\\n",
       "\t5 & 2657889 & Zuzwil & CH & 4226 \\\\\n",
       "\\end{tabular}\n"
      ],
      "text/plain": [
       "\u001b[1m5×4 DataFrame\u001b[0m\n",
       "\u001b[1m Row \u001b[0m│\u001b[1m geonames_id \u001b[0m\u001b[1m name           \u001b[0m\u001b[1m country_code \u001b[0m\u001b[1m population \u001b[0m\n",
       "     │\u001b[90m Int64       \u001b[0m\u001b[90m String         \u001b[0m\u001b[90m String       \u001b[0m\u001b[90m Int64      \u001b[0m\n",
       "─────┼───────────────────────────────────────────────────────\n",
       "   1 │     2657885  Zwischbergen    CH                   127\n",
       "   2 │     2657886  Zwingen         CH                  2162\n",
       "   3 │     2657887  Zweisimmen      CH                  2813\n",
       "   4 │     2657888  Zweilütschinen  CH                     0\n",
       "   5 │     2657889  Zuzwil          CH                  4226"
      ]
     },
     "execution_count": 55,
     "metadata": {},
     "output_type": "execute_result"
    }
   ],
   "source": [
    "gn_dff[1:5, [:geonames_id, :name, :country_code, :population]]"
   ]
  },
  {
   "cell_type": "code",
   "execution_count": 56,
   "metadata": {},
   "outputs": [
    {
     "data": {
      "text/plain": [
       "(16062, 19)"
      ]
     },
     "execution_count": 56,
     "metadata": {},
     "output_type": "execute_result"
    }
   ],
   "source": [
    "size(gn_dff)"
   ]
  },
  {
   "cell_type": "markdown",
   "metadata": {},
   "source": [
    "Spalte für die Länder_ID einfügen"
   ]
  },
  {
   "cell_type": "code",
   "execution_count": 57,
   "metadata": {},
   "outputs": [],
   "source": [
    "gn_dff = rightjoin(df_country_m, gn_dff, on = :country_code);"
   ]
  },
  {
   "cell_type": "code",
   "execution_count": 58,
   "metadata": {},
   "outputs": [
    {
     "name": "stderr",
     "output_type": "stream",
     "text": [
      "┌ Info: 10000\n",
      "└ @ WiagDataSetup C:\\Users\\georg\\Documents\\projekte\\WiagDataSetup.jl\\src\\WiagDataSetup.jl:1193\n",
      "┌ Info: Rows inserted: 16062\n",
      "└ @ WiagDataSetup C:\\Users\\georg\\Documents\\projekte\\WiagDataSetup.jl\\src\\WiagDataSetup.jl:1216\n"
     ]
    },
    {
     "data": {
      "text/plain": [
       "16062"
      ]
     },
     "execution_count": 58,
     "metadata": {},
     "output_type": "execute_result"
    }
   ],
   "source": [
    "Wds.filltable!(\"place_all\", select(gn_dff, place_cols), clear_table = false)"
   ]
  },
  {
   "cell_type": "markdown",
   "metadata": {},
   "source": [
    "### Österreich"
   ]
  },
  {
   "cell_type": "code",
   "execution_count": 59,
   "metadata": {},
   "outputs": [
    {
     "data": {
      "text/plain": [
       "\"C:\\\\Users\\\\georg\\\\Documents\\\\projekte-doc\\\\WiagDataSetup\\\\GeoNames\\\\AT\\\\AT.txt\""
      ]
     },
     "execution_count": 59,
     "metadata": {},
     "output_type": "execute_result"
    }
   ],
   "source": [
    "gn_filename = joinpath(gn_path, \"AT\", \"AT.txt\")"
   ]
  },
  {
   "cell_type": "code",
   "execution_count": 60,
   "metadata": {},
   "outputs": [],
   "source": [
    "gn_df = CSV.read(gn_filename, DataFrame, header=gn_header, types=gn_types);"
   ]
  },
  {
   "cell_type": "markdown",
   "metadata": {},
   "source": [
    "filtern nach Art des Features"
   ]
  },
  {
   "cell_type": "code",
   "execution_count": 61,
   "metadata": {},
   "outputs": [],
   "source": [
    "gn_dff = filter([:feature_class, :feature_code] => filter_places, gn_df);"
   ]
  },
  {
   "cell_type": "code",
   "execution_count": 62,
   "metadata": {},
   "outputs": [
    {
     "data": {
      "text/html": [
       "<div><div style = \"float: left;\"><span>5×4 DataFrame</span></div><div style = \"clear: both;\"></div></div><div class = \"data-frame\" style = \"overflow-x: scroll;\"><table class = \"data-frame\" style = \"margin-bottom: 6px;\"><thead><tr class = \"header\"><th class = \"rowNumber\" style = \"font-weight: bold; text-align: right;\">Row</th><th style = \"text-align: left;\">geonames_id</th><th style = \"text-align: left;\">name</th><th style = \"text-align: left;\">country_code</th><th style = \"text-align: left;\">population</th></tr><tr class = \"subheader headerLastRow\"><th class = \"rowNumber\" style = \"font-weight: bold; text-align: right;\"></th><th title = \"Int64\" style = \"text-align: left;\">Int64</th><th title = \"String\" style = \"text-align: left;\">String</th><th title = \"String\" style = \"text-align: left;\">String</th><th title = \"Int64\" style = \"text-align: left;\">Int64</th></tr></thead><tbody><tr><td class = \"rowNumber\" style = \"font-weight: bold; text-align: right;\">1</td><td style = \"text-align: right;\">2598250</td><td style = \"text-align: left;\">Mooshöhe</td><td style = \"text-align: left;\">AT</td><td style = \"text-align: right;\">0</td></tr><tr><td class = \"rowNumber\" style = \"font-weight: bold; text-align: right;\">2</td><td style = \"text-align: right;\">2598294</td><td style = \"text-align: left;\">Muttling</td><td style = \"text-align: left;\">AT</td><td style = \"text-align: right;\">0</td></tr><tr><td class = \"rowNumber\" style = \"font-weight: bold; text-align: right;\">3</td><td style = \"text-align: right;\">2598296</td><td style = \"text-align: left;\">Kleiner</td><td style = \"text-align: left;\">AT</td><td style = \"text-align: right;\">0</td></tr><tr><td class = \"rowNumber\" style = \"font-weight: bold; text-align: right;\">4</td><td style = \"text-align: right;\">2598303</td><td style = \"text-align: left;\">Dörfl</td><td style = \"text-align: left;\">AT</td><td style = \"text-align: right;\">0</td></tr><tr><td class = \"rowNumber\" style = \"font-weight: bold; text-align: right;\">5</td><td style = \"text-align: right;\">2598321</td><td style = \"text-align: left;\">Zeitschen</td><td style = \"text-align: left;\">AT</td><td style = \"text-align: right;\">0</td></tr></tbody></table></div>"
      ],
      "text/latex": [
       "\\begin{tabular}{r|cccc}\n",
       "\t& geonames\\_id & name & country\\_code & population\\\\\n",
       "\t\\hline\n",
       "\t& Int64 & String & String & Int64\\\\\n",
       "\t\\hline\n",
       "\t1 & 2598250 & Mooshöhe & AT & 0 \\\\\n",
       "\t2 & 2598294 & Muttling & AT & 0 \\\\\n",
       "\t3 & 2598296 & Kleiner & AT & 0 \\\\\n",
       "\t4 & 2598303 & Dörfl & AT & 0 \\\\\n",
       "\t5 & 2598321 & Zeitschen & AT & 0 \\\\\n",
       "\\end{tabular}\n"
      ],
      "text/plain": [
       "\u001b[1m5×4 DataFrame\u001b[0m\n",
       "\u001b[1m Row \u001b[0m│\u001b[1m geonames_id \u001b[0m\u001b[1m name      \u001b[0m\u001b[1m country_code \u001b[0m\u001b[1m population \u001b[0m\n",
       "     │\u001b[90m Int64       \u001b[0m\u001b[90m String    \u001b[0m\u001b[90m String       \u001b[0m\u001b[90m Int64      \u001b[0m\n",
       "─────┼──────────────────────────────────────────────────\n",
       "   1 │     2598250  Mooshöhe   AT                     0\n",
       "   2 │     2598294  Muttling   AT                     0\n",
       "   3 │     2598296  Kleiner    AT                     0\n",
       "   4 │     2598303  Dörfl      AT                     0\n",
       "   5 │     2598321  Zeitschen  AT                     0"
      ]
     },
     "execution_count": 62,
     "metadata": {},
     "output_type": "execute_result"
    }
   ],
   "source": [
    "gn_dff[1:5, [:geonames_id, :name, :country_code, :population]]"
   ]
  },
  {
   "cell_type": "code",
   "execution_count": 63,
   "metadata": {},
   "outputs": [
    {
     "data": {
      "text/plain": [
       "(23597, 19)"
      ]
     },
     "execution_count": 63,
     "metadata": {},
     "output_type": "execute_result"
    }
   ],
   "source": [
    "size(gn_dff)"
   ]
  },
  {
   "cell_type": "markdown",
   "metadata": {},
   "source": [
    "Spalte für die Länder_ID einfügen"
   ]
  },
  {
   "cell_type": "code",
   "execution_count": 64,
   "metadata": {},
   "outputs": [],
   "source": [
    "gn_dff = rightjoin(df_country_m, gn_dff, on = :country_code);"
   ]
  },
  {
   "cell_type": "code",
   "execution_count": 65,
   "metadata": {},
   "outputs": [
    {
     "name": "stderr",
     "output_type": "stream",
     "text": [
      "┌ Info: 10000\n",
      "└ @ WiagDataSetup C:\\Users\\georg\\Documents\\projekte\\WiagDataSetup.jl\\src\\WiagDataSetup.jl:1193\n",
      "┌ Info: 20000\n",
      "└ @ WiagDataSetup C:\\Users\\georg\\Documents\\projekte\\WiagDataSetup.jl\\src\\WiagDataSetup.jl:1193\n",
      "┌ Info: Rows inserted: 23597\n",
      "└ @ WiagDataSetup C:\\Users\\georg\\Documents\\projekte\\WiagDataSetup.jl\\src\\WiagDataSetup.jl:1216\n"
     ]
    },
    {
     "data": {
      "text/plain": [
       "23597"
      ]
     },
     "execution_count": 65,
     "metadata": {},
     "output_type": "execute_result"
    }
   ],
   "source": [
    "Wds.filltable!(\"place_all\", select(gn_dff, place_cols), clear_table = false)"
   ]
  },
  {
   "cell_type": "markdown",
   "metadata": {},
   "source": [
    "### Dänemark"
   ]
  },
  {
   "cell_type": "code",
   "execution_count": 66,
   "metadata": {},
   "outputs": [
    {
     "data": {
      "text/plain": [
       "\"C:\\\\Users\\\\georg\\\\Documents\\\\projekte-doc\\\\WiagDataSetup\\\\GeoNames\\\\DK\\\\DK.txt\""
      ]
     },
     "execution_count": 66,
     "metadata": {},
     "output_type": "execute_result"
    }
   ],
   "source": [
    "gn_filename = joinpath(gn_path, \"DK\", \"DK.txt\")"
   ]
  },
  {
   "cell_type": "code",
   "execution_count": 67,
   "metadata": {},
   "outputs": [],
   "source": [
    "gn_df = CSV.read(gn_filename, DataFrame, header=gn_header, types=gn_types);"
   ]
  },
  {
   "cell_type": "markdown",
   "metadata": {},
   "source": [
    "filtern nach Art des Features"
   ]
  },
  {
   "cell_type": "code",
   "execution_count": 68,
   "metadata": {},
   "outputs": [],
   "source": [
    "gn_dff = filter([:feature_class, :feature_code] => filter_places, gn_df);"
   ]
  },
  {
   "cell_type": "code",
   "execution_count": 69,
   "metadata": {},
   "outputs": [
    {
     "data": {
      "text/html": [
       "<div><div style = \"float: left;\"><span>5×4 DataFrame</span></div><div style = \"clear: both;\"></div></div><div class = \"data-frame\" style = \"overflow-x: scroll;\"><table class = \"data-frame\" style = \"margin-bottom: 6px;\"><thead><tr class = \"header\"><th class = \"rowNumber\" style = \"font-weight: bold; text-align: right;\">Row</th><th style = \"text-align: left;\">geonames_id</th><th style = \"text-align: left;\">name</th><th style = \"text-align: left;\">country_code</th><th style = \"text-align: left;\">population</th></tr><tr class = \"subheader headerLastRow\"><th class = \"rowNumber\" style = \"font-weight: bold; text-align: right;\"></th><th title = \"Int64\" style = \"text-align: left;\">Int64</th><th title = \"String\" style = \"text-align: left;\">String</th><th title = \"String\" style = \"text-align: left;\">String</th><th title = \"Int64\" style = \"text-align: left;\">Int64</th></tr></thead><tbody><tr><td class = \"rowNumber\" style = \"font-weight: bold; text-align: right;\">1</td><td style = \"text-align: right;\">2609911</td><td style = \"text-align: left;\">Yttrup</td><td style = \"text-align: left;\">DK</td><td style = \"text-align: right;\">0</td></tr><tr><td class = \"rowNumber\" style = \"font-weight: bold; text-align: right;\">2</td><td style = \"text-align: right;\">2609915</td><td style = \"text-align: left;\">Yppenbjerg</td><td style = \"text-align: left;\">DK</td><td style = \"text-align: right;\">0</td></tr><tr><td class = \"rowNumber\" style = \"font-weight: bold; text-align: right;\">3</td><td style = \"text-align: right;\">2609916</td><td style = \"text-align: left;\">Ypnested</td><td style = \"text-align: left;\">DK</td><td style = \"text-align: right;\">0</td></tr><tr><td class = \"rowNumber\" style = \"font-weight: bold; text-align: right;\">4</td><td style = \"text-align: right;\">2609922</td><td style = \"text-align: left;\">Yding</td><td style = \"text-align: left;\">DK</td><td style = \"text-align: right;\">0</td></tr><tr><td class = \"rowNumber\" style = \"font-weight: bold; text-align: right;\">5</td><td style = \"text-align: right;\">2609926</td><td style = \"text-align: left;\">Yderik</td><td style = \"text-align: left;\">DK</td><td style = \"text-align: right;\">0</td></tr></tbody></table></div>"
      ],
      "text/latex": [
       "\\begin{tabular}{r|cccc}\n",
       "\t& geonames\\_id & name & country\\_code & population\\\\\n",
       "\t\\hline\n",
       "\t& Int64 & String & String & Int64\\\\\n",
       "\t\\hline\n",
       "\t1 & 2609911 & Yttrup & DK & 0 \\\\\n",
       "\t2 & 2609915 & Yppenbjerg & DK & 0 \\\\\n",
       "\t3 & 2609916 & Ypnested & DK & 0 \\\\\n",
       "\t4 & 2609922 & Yding & DK & 0 \\\\\n",
       "\t5 & 2609926 & Yderik & DK & 0 \\\\\n",
       "\\end{tabular}\n"
      ],
      "text/plain": [
       "\u001b[1m5×4 DataFrame\u001b[0m\n",
       "\u001b[1m Row \u001b[0m│\u001b[1m geonames_id \u001b[0m\u001b[1m name       \u001b[0m\u001b[1m country_code \u001b[0m\u001b[1m population \u001b[0m\n",
       "     │\u001b[90m Int64       \u001b[0m\u001b[90m String     \u001b[0m\u001b[90m String       \u001b[0m\u001b[90m Int64      \u001b[0m\n",
       "─────┼───────────────────────────────────────────────────\n",
       "   1 │     2609911  Yttrup      DK                     0\n",
       "   2 │     2609915  Yppenbjerg  DK                     0\n",
       "   3 │     2609916  Ypnested    DK                     0\n",
       "   4 │     2609922  Yding       DK                     0\n",
       "   5 │     2609926  Yderik      DK                     0"
      ]
     },
     "execution_count": 69,
     "metadata": {},
     "output_type": "execute_result"
    }
   ],
   "source": [
    "gn_dff[1:5, [:geonames_id, :name, :country_code, :population]]"
   ]
  },
  {
   "cell_type": "code",
   "execution_count": 70,
   "metadata": {},
   "outputs": [
    {
     "data": {
      "text/plain": [
       "(7368, 19)"
      ]
     },
     "execution_count": 70,
     "metadata": {},
     "output_type": "execute_result"
    }
   ],
   "source": [
    "size(gn_dff)"
   ]
  },
  {
   "cell_type": "markdown",
   "metadata": {},
   "source": [
    "Spalte für die Länder_ID einfügen"
   ]
  },
  {
   "cell_type": "code",
   "execution_count": 71,
   "metadata": {},
   "outputs": [],
   "source": [
    "gn_dff = rightjoin(df_country_m, gn_dff, on = :country_code);"
   ]
  },
  {
   "cell_type": "code",
   "execution_count": 72,
   "metadata": {},
   "outputs": [
    {
     "name": "stderr",
     "output_type": "stream",
     "text": [
      "┌ Info: Rows inserted: 7368\n",
      "└ @ WiagDataSetup C:\\Users\\georg\\Documents\\projekte\\WiagDataSetup.jl\\src\\WiagDataSetup.jl:1216\n"
     ]
    },
    {
     "data": {
      "text/plain": [
       "7368"
      ]
     },
     "execution_count": 72,
     "metadata": {},
     "output_type": "execute_result"
    }
   ],
   "source": [
    "Wds.filltable!(\"place_all\", select(gn_dff, place_cols), clear_table = false)"
   ]
  },
  {
   "cell_type": "markdown",
   "metadata": {},
   "source": [
    "### Polen"
   ]
  },
  {
   "cell_type": "code",
   "execution_count": 73,
   "metadata": {},
   "outputs": [
    {
     "data": {
      "text/plain": [
       "\"C:\\\\Users\\\\georg\\\\Documents\\\\projekte-doc\\\\WiagDataSetup\\\\GeoNames\\\\PL\\\\PL.txt\""
      ]
     },
     "execution_count": 73,
     "metadata": {},
     "output_type": "execute_result"
    }
   ],
   "source": [
    "gn_filename = joinpath(gn_path, \"PL\", \"PL.txt\")"
   ]
  },
  {
   "cell_type": "code",
   "execution_count": 74,
   "metadata": {},
   "outputs": [],
   "source": [
    "gn_df = CSV.read(gn_filename, DataFrame, header=gn_header, types=gn_types);"
   ]
  },
  {
   "cell_type": "markdown",
   "metadata": {},
   "source": [
    "filtern nach Art des Features"
   ]
  },
  {
   "cell_type": "code",
   "execution_count": 75,
   "metadata": {},
   "outputs": [],
   "source": [
    "gn_dff = filter([:feature_class, :feature_code] => filter_places, gn_df);"
   ]
  },
  {
   "cell_type": "code",
   "execution_count": 76,
   "metadata": {},
   "outputs": [
    {
     "data": {
      "text/html": [
       "<div><div style = \"float: left;\"><span>5×4 DataFrame</span></div><div style = \"clear: both;\"></div></div><div class = \"data-frame\" style = \"overflow-x: scroll;\"><table class = \"data-frame\" style = \"margin-bottom: 6px;\"><thead><tr class = \"header\"><th class = \"rowNumber\" style = \"font-weight: bold; text-align: right;\">Row</th><th style = \"text-align: left;\">geonames_id</th><th style = \"text-align: left;\">name</th><th style = \"text-align: left;\">country_code</th><th style = \"text-align: left;\">population</th></tr><tr class = \"subheader headerLastRow\"><th class = \"rowNumber\" style = \"font-weight: bold; text-align: right;\"></th><th title = \"Int64\" style = \"text-align: left;\">Int64</th><th title = \"String\" style = \"text-align: left;\">String</th><th title = \"String\" style = \"text-align: left;\">String</th><th title = \"Int64\" style = \"text-align: left;\">Int64</th></tr></thead><tbody><tr><td class = \"rowNumber\" style = \"font-weight: bold; text-align: right;\">1</td><td style = \"text-align: right;\">462259</td><td style = \"text-align: left;\">Zodenen</td><td style = \"text-align: left;\">PL</td><td style = \"text-align: right;\">0</td></tr><tr><td class = \"rowNumber\" style = \"font-weight: bold; text-align: right;\">2</td><td style = \"text-align: right;\">620115</td><td style = \"text-align: left;\">Włodawka</td><td style = \"text-align: left;\">PL</td><td style = \"text-align: right;\">0</td></tr><tr><td class = \"rowNumber\" style = \"font-weight: bold; text-align: right;\">3</td><td style = \"text-align: right;\">688812</td><td style = \"text-align: left;\">Vul’ka Ugruska</td><td style = \"text-align: left;\">PL</td><td style = \"text-align: right;\">0</td></tr><tr><td class = \"rowNumber\" style = \"font-weight: bold; text-align: right;\">4</td><td style = \"text-align: right;\">696099</td><td style = \"text-align: left;\">Pshedmes’tse Vel’ke</td><td style = \"text-align: left;\">PL</td><td style = \"text-align: right;\">0</td></tr><tr><td class = \"rowNumber\" style = \"font-weight: bold; text-align: right;\">5</td><td style = \"text-align: right;\">698000</td><td style = \"text-align: left;\">Paportno</td><td style = \"text-align: left;\">PL</td><td style = \"text-align: right;\">0</td></tr></tbody></table></div>"
      ],
      "text/latex": [
       "\\begin{tabular}{r|cccc}\n",
       "\t& geonames\\_id & name & country\\_code & population\\\\\n",
       "\t\\hline\n",
       "\t& Int64 & String & String & Int64\\\\\n",
       "\t\\hline\n",
       "\t1 & 462259 & Zodenen & PL & 0 \\\\\n",
       "\t2 & 620115 & Włodawka & PL & 0 \\\\\n",
       "\t3 & 688812 & Vul’ka Ugruska & PL & 0 \\\\\n",
       "\t4 & 696099 & Pshedmes’tse Vel’ke & PL & 0 \\\\\n",
       "\t5 & 698000 & Paportno & PL & 0 \\\\\n",
       "\\end{tabular}\n"
      ],
      "text/plain": [
       "\u001b[1m5×4 DataFrame\u001b[0m\n",
       "\u001b[1m Row \u001b[0m│\u001b[1m geonames_id \u001b[0m\u001b[1m name                \u001b[0m\u001b[1m country_code \u001b[0m\u001b[1m population \u001b[0m\n",
       "     │\u001b[90m Int64       \u001b[0m\u001b[90m String              \u001b[0m\u001b[90m String       \u001b[0m\u001b[90m Int64      \u001b[0m\n",
       "─────┼────────────────────────────────────────────────────────────\n",
       "   1 │      462259  Zodenen              PL                     0\n",
       "   2 │      620115  Włodawka             PL                     0\n",
       "   3 │      688812  Vul’ka Ugruska       PL                     0\n",
       "   4 │      696099  Pshedmes’tse Vel’ke  PL                     0\n",
       "   5 │      698000  Paportno             PL                     0"
      ]
     },
     "execution_count": 76,
     "metadata": {},
     "output_type": "execute_result"
    }
   ],
   "source": [
    "gn_dff[1:5, [:geonames_id, :name, :country_code, :population]]"
   ]
  },
  {
   "cell_type": "code",
   "execution_count": 77,
   "metadata": {},
   "outputs": [
    {
     "data": {
      "text/plain": [
       "(50395, 19)"
      ]
     },
     "execution_count": 77,
     "metadata": {},
     "output_type": "execute_result"
    }
   ],
   "source": [
    "size(gn_dff)"
   ]
  },
  {
   "cell_type": "markdown",
   "metadata": {},
   "source": [
    "Spalte für die Länder_ID einfügen"
   ]
  },
  {
   "cell_type": "code",
   "execution_count": 78,
   "metadata": {},
   "outputs": [],
   "source": [
    "gn_dff = rightjoin(df_country_m, gn_dff, on = :country_code);"
   ]
  },
  {
   "cell_type": "code",
   "execution_count": 79,
   "metadata": {},
   "outputs": [
    {
     "name": "stderr",
     "output_type": "stream",
     "text": [
      "┌ Info: 10000\n",
      "└ @ WiagDataSetup C:\\Users\\georg\\Documents\\projekte\\WiagDataSetup.jl\\src\\WiagDataSetup.jl:1193\n",
      "┌ Info: 20000\n",
      "└ @ WiagDataSetup C:\\Users\\georg\\Documents\\projekte\\WiagDataSetup.jl\\src\\WiagDataSetup.jl:1193\n",
      "┌ Info: 30000\n",
      "└ @ WiagDataSetup C:\\Users\\georg\\Documents\\projekte\\WiagDataSetup.jl\\src\\WiagDataSetup.jl:1193\n",
      "┌ Info: 40000\n",
      "└ @ WiagDataSetup C:\\Users\\georg\\Documents\\projekte\\WiagDataSetup.jl\\src\\WiagDataSetup.jl:1193\n",
      "┌ Info: 50000\n",
      "└ @ WiagDataSetup C:\\Users\\georg\\Documents\\projekte\\WiagDataSetup.jl\\src\\WiagDataSetup.jl:1193\n",
      "┌ Info: Rows inserted: 50395\n",
      "└ @ WiagDataSetup C:\\Users\\georg\\Documents\\projekte\\WiagDataSetup.jl\\src\\WiagDataSetup.jl:1216\n"
     ]
    },
    {
     "data": {
      "text/plain": [
       "50395"
      ]
     },
     "execution_count": 79,
     "metadata": {},
     "output_type": "execute_result"
    }
   ],
   "source": [
    "Wds.filltable!(\"place_all\", select(gn_dff, place_cols), clear_table = false)"
   ]
  },
  {
   "cell_type": "markdown",
   "metadata": {},
   "source": [
    "### Deutschland"
   ]
  },
  {
   "cell_type": "code",
   "execution_count": 80,
   "metadata": {},
   "outputs": [
    {
     "data": {
      "text/plain": [
       "\"C:\\\\Users\\\\georg\\\\Documents\\\\projekte-doc\\\\WiagDataSetup\\\\GeoNames\\\\DE\\\\DE.txt\""
      ]
     },
     "execution_count": 80,
     "metadata": {},
     "output_type": "execute_result"
    }
   ],
   "source": [
    "gn_filename = joinpath(gn_path, \"DE\", \"DE.txt\")"
   ]
  },
  {
   "cell_type": "code",
   "execution_count": 81,
   "metadata": {},
   "outputs": [],
   "source": [
    "gn_df = CSV.read(gn_filename, DataFrame, header=gn_header, types=gn_types);"
   ]
  },
  {
   "cell_type": "markdown",
   "metadata": {},
   "source": [
    "filtern nach Art des Features"
   ]
  },
  {
   "cell_type": "code",
   "execution_count": 82,
   "metadata": {},
   "outputs": [],
   "source": [
    "gn_dff = filter([:feature_class, :feature_code] => filter_places, gn_df);"
   ]
  },
  {
   "cell_type": "code",
   "execution_count": 83,
   "metadata": {},
   "outputs": [
    {
     "data": {
      "text/html": [
       "<div><div style = \"float: left;\"><span>5×4 DataFrame</span></div><div style = \"clear: both;\"></div></div><div class = \"data-frame\" style = \"overflow-x: scroll;\"><table class = \"data-frame\" style = \"margin-bottom: 6px;\"><thead><tr class = \"header\"><th class = \"rowNumber\" style = \"font-weight: bold; text-align: right;\">Row</th><th style = \"text-align: left;\">geonames_id</th><th style = \"text-align: left;\">name</th><th style = \"text-align: left;\">country_code</th><th style = \"text-align: left;\">population</th></tr><tr class = \"subheader headerLastRow\"><th class = \"rowNumber\" style = \"font-weight: bold; text-align: right;\"></th><th title = \"Int64\" style = \"text-align: left;\">Int64</th><th title = \"String\" style = \"text-align: left;\">String</th><th title = \"String\" style = \"text-align: left;\">String</th><th title = \"Int64\" style = \"text-align: left;\">Int64</th></tr></thead><tbody><tr><td class = \"rowNumber\" style = \"font-weight: bold; text-align: right;\">1</td><td style = \"text-align: right;\">2657946</td><td style = \"text-align: left;\">Wyhlen</td><td style = \"text-align: left;\">DE</td><td style = \"text-align: right;\">0</td></tr><tr><td class = \"rowNumber\" style = \"font-weight: bold; text-align: right;\">2</td><td style = \"text-align: right;\">2803460</td><td style = \"text-align: left;\">Märkischer Kreis</td><td style = \"text-align: left;\">DE</td><td style = \"text-align: right;\">410222</td></tr><tr><td class = \"rowNumber\" style = \"font-weight: bold; text-align: right;\">3</td><td style = \"text-align: right;\">2803461</td><td style = \"text-align: left;\">Landkreis Hildesheim</td><td style = \"text-align: left;\">DE</td><td style = \"text-align: right;\">275817</td></tr><tr><td class = \"rowNumber\" style = \"font-weight: bold; text-align: right;\">4</td><td style = \"text-align: right;\">2803463</td><td style = \"text-align: left;\">Landkreis Aichach-Friedberg</td><td style = \"text-align: left;\">DE</td><td style = \"text-align: right;\">134655</td></tr><tr><td class = \"rowNumber\" style = \"font-weight: bold; text-align: right;\">5</td><td style = \"text-align: right;\">2803468</td><td style = \"text-align: left;\">Zyfflich</td><td style = \"text-align: left;\">DE</td><td style = \"text-align: right;\">0</td></tr></tbody></table></div>"
      ],
      "text/latex": [
       "\\begin{tabular}{r|cccc}\n",
       "\t& geonames\\_id & name & country\\_code & population\\\\\n",
       "\t\\hline\n",
       "\t& Int64 & String & String & Int64\\\\\n",
       "\t\\hline\n",
       "\t1 & 2657946 & Wyhlen & DE & 0 \\\\\n",
       "\t2 & 2803460 & Märkischer Kreis & DE & 410222 \\\\\n",
       "\t3 & 2803461 & Landkreis Hildesheim & DE & 275817 \\\\\n",
       "\t4 & 2803463 & Landkreis Aichach-Friedberg & DE & 134655 \\\\\n",
       "\t5 & 2803468 & Zyfflich & DE & 0 \\\\\n",
       "\\end{tabular}\n"
      ],
      "text/plain": [
       "\u001b[1m5×4 DataFrame\u001b[0m\n",
       "\u001b[1m Row \u001b[0m│\u001b[1m geonames_id \u001b[0m\u001b[1m name                        \u001b[0m\u001b[1m country_code \u001b[0m\u001b[1m population \u001b[0m\n",
       "     │\u001b[90m Int64       \u001b[0m\u001b[90m String                      \u001b[0m\u001b[90m String       \u001b[0m\u001b[90m Int64      \u001b[0m\n",
       "─────┼────────────────────────────────────────────────────────────────────\n",
       "   1 │     2657946  Wyhlen                       DE                     0\n",
       "   2 │     2803460  Märkischer Kreis             DE                410222\n",
       "   3 │     2803461  Landkreis Hildesheim         DE                275817\n",
       "   4 │     2803463  Landkreis Aichach-Friedberg  DE                134655\n",
       "   5 │     2803468  Zyfflich                     DE                     0"
      ]
     },
     "execution_count": 83,
     "metadata": {},
     "output_type": "execute_result"
    }
   ],
   "source": [
    "gn_dff[1:5, [:geonames_id, :name, :country_code, :population]]"
   ]
  },
  {
   "cell_type": "code",
   "execution_count": 84,
   "metadata": {},
   "outputs": [
    {
     "data": {
      "text/plain": [
       "(92536, 19)"
      ]
     },
     "execution_count": 84,
     "metadata": {},
     "output_type": "execute_result"
    }
   ],
   "source": [
    "size(gn_dff)"
   ]
  },
  {
   "cell_type": "markdown",
   "metadata": {},
   "source": [
    "Spalte für die Länder_ID einfügen"
   ]
  },
  {
   "cell_type": "code",
   "execution_count": 85,
   "metadata": {},
   "outputs": [],
   "source": [
    "gn_dff = rightjoin(df_country_m, gn_dff, on = :country_code);"
   ]
  },
  {
   "cell_type": "code",
   "execution_count": 86,
   "metadata": {},
   "outputs": [
    {
     "data": {
      "text/html": [
       "<div><div style = \"float: left;\"><span>5×20 DataFrame</span></div><div style = \"clear: both;\"></div></div><div class = \"data-frame\" style = \"overflow-x: scroll;\"><table class = \"data-frame\" style = \"margin-bottom: 6px;\"><thead><tr class = \"header\"><th class = \"rowNumber\" style = \"font-weight: bold; text-align: right;\">Row</th><th style = \"text-align: left;\">country_id</th><th style = \"text-align: left;\">country_code</th><th style = \"text-align: left;\">geonames_id</th><th style = \"text-align: left;\">name</th><th style = \"text-align: left;\">asciiname</th><th style = \"text-align: left;\">alternatenames</th><th style = \"text-align: left;\">latitude</th><th style = \"text-align: left;\">longitude</th><th style = \"text-align: left;\">feature_class</th><th style = \"text-align: left;\">feature_code</th><th style = \"text-align: left;\">cc2</th><th style = \"text-align: left;\">admin1_code</th><th style = \"text-align: left;\">admin2_code</th><th style = \"text-align: left;\">admin3_code</th><th style = \"text-align: left;\">admin4_code</th><th style = \"text-align: left;\">population</th><th style = \"text-align: left;\">elevation</th><th style = \"text-align: left;\">dem</th><th style = \"text-align: left;\">timezone</th><th style = \"text-align: left;\">modification_date</th></tr><tr class = \"subheader headerLastRow\"><th class = \"rowNumber\" style = \"font-weight: bold; text-align: right;\"></th><th title = \"Union{Missing, Int32}\" style = \"text-align: left;\">Int32?</th><th title = \"String\" style = \"text-align: left;\">String</th><th title = \"Int64\" style = \"text-align: left;\">Int64</th><th title = \"String\" style = \"text-align: left;\">String</th><th title = \"String\" style = \"text-align: left;\">String</th><th title = \"Union{Missing, String}\" style = \"text-align: left;\">String?</th><th title = \"Float64\" style = \"text-align: left;\">Float64</th><th title = \"Float64\" style = \"text-align: left;\">Float64</th><th title = \"String\" style = \"text-align: left;\">String</th><th title = \"Union{Missing, String}\" style = \"text-align: left;\">String?</th><th title = \"Union{Missing, String}\" style = \"text-align: left;\">String?</th><th title = \"Union{Missing, String}\" style = \"text-align: left;\">String?</th><th title = \"Union{Missing, String}\" style = \"text-align: left;\">String?</th><th title = \"Union{Missing, String}\" style = \"text-align: left;\">String?</th><th title = \"Union{Missing, String}\" style = \"text-align: left;\">String?</th><th title = \"Int64\" style = \"text-align: left;\">Int64</th><th title = \"Union{Missing, Int64}\" style = \"text-align: left;\">Int64?</th><th title = \"Int64\" style = \"text-align: left;\">Int64</th><th title = \"Union{Missing, String}\" style = \"text-align: left;\">String?</th><th title = \"String\" style = \"text-align: left;\">String</th></tr></thead><tbody><tr><td class = \"rowNumber\" style = \"font-weight: bold; text-align: right;\">1</td><td style = \"text-align: right;\">276</td><td style = \"text-align: left;\">DE</td><td style = \"text-align: right;\">2657946</td><td style = \"text-align: left;\">Wyhlen</td><td style = \"text-align: left;\">Wyhlen</td><td style = \"text-align: left;\">Wyhlen</td><td style = \"text-align: right;\">47.5473</td><td style = \"text-align: right;\">7.69331</td><td style = \"text-align: left;\">P</td><td style = \"text-align: left;\">PPLX</td><td style = \"font-style: italic; text-align: left;\">missing</td><td style = \"text-align: left;\">01</td><td style = \"text-align: left;\">083</td><td style = \"text-align: left;\">08336</td><td style = \"text-align: left;\">08336105</td><td style = \"text-align: right;\">0</td><td style = \"font-style: italic; text-align: right;\">missing</td><td style = \"text-align: right;\">269</td><td style = \"text-align: left;\">Europe/Berlin</td><td style = \"text-align: left;\">2020-11-12</td></tr><tr><td class = \"rowNumber\" style = \"font-weight: bold; text-align: right;\">2</td><td style = \"text-align: right;\">276</td><td style = \"text-align: left;\">DE</td><td style = \"text-align: right;\">2803460</td><td style = \"text-align: left;\">Märkischer Kreis</td><td style = \"text-align: left;\">Maerkischer Kreis</td><td style = \"text-align: left;\">Iserlohn,Markischer Kreis,Märkischer Kreis</td><td style = \"text-align: right;\">51.2639</td><td style = \"text-align: right;\">7.74167</td><td style = \"text-align: left;\">A</td><td style = \"text-align: left;\">ADM3</td><td style = \"font-style: italic; text-align: left;\">missing</td><td style = \"text-align: left;\">07</td><td style = \"text-align: left;\">059</td><td style = \"text-align: left;\">05962</td><td style = \"font-style: italic; text-align: left;\">missing</td><td style = \"text-align: right;\">410222</td><td style = \"font-style: italic; text-align: right;\">missing</td><td style = \"text-align: right;\">186</td><td style = \"text-align: left;\">Europe/Berlin</td><td style = \"text-align: left;\">2021-04-18</td></tr><tr><td class = \"rowNumber\" style = \"font-weight: bold; text-align: right;\">3</td><td style = \"text-align: right;\">276</td><td style = \"text-align: left;\">DE</td><td style = \"text-align: right;\">2803461</td><td style = \"text-align: left;\">Landkreis Hildesheim</td><td style = \"text-align: left;\">Landkreis Hildesheim</td><td style = \"text-align: left;\">Arrondissement de Hildesheim,Circondario di Hildesheim,Distrikto Hildesheim,Distrito de Hildesheim,HI,Hildesheim,Landkreis Hildesheim,Landkreis Hildesheim-Marienburg,Loundkring Hildesheim,Powiat Hildesheim,xi er de si hai mu xian,希尔德斯海姆县</td><td style = \"text-align: right;\">52.1267</td><td style = \"text-align: right;\">9.965</td><td style = \"text-align: left;\">A</td><td style = \"text-align: left;\">ADM3</td><td style = \"font-style: italic; text-align: left;\">missing</td><td style = \"text-align: left;\">06</td><td style = \"text-align: left;\">00</td><td style = \"text-align: left;\">03254</td><td style = \"font-style: italic; text-align: left;\">missing</td><td style = \"text-align: right;\">275817</td><td style = \"font-style: italic; text-align: right;\">missing</td><td style = \"text-align: right;\">80</td><td style = \"text-align: left;\">Europe/Berlin</td><td style = \"text-align: left;\">2021-04-18</td></tr><tr><td class = \"rowNumber\" style = \"font-weight: bold; text-align: right;\">4</td><td style = \"text-align: right;\">276</td><td style = \"text-align: left;\">DE</td><td style = \"text-align: right;\">2803463</td><td style = \"text-align: left;\">Landkreis Aichach-Friedberg</td><td style = \"text-align: left;\">Landkreis Aichach-Friedberg</td><td style = \"text-align: left;\">Aichach,Aichach-Friedberg,Augsburg-Ost,Friedberg,Landkreis Aichach-Friedberg</td><td style = \"text-align: right;\">48.4172</td><td style = \"text-align: right;\">11.0547</td><td style = \"text-align: left;\">A</td><td style = \"text-align: left;\">ADM3</td><td style = \"font-style: italic; text-align: left;\">missing</td><td style = \"text-align: left;\">02</td><td style = \"text-align: left;\">097</td><td style = \"text-align: left;\">09771</td><td style = \"font-style: italic; text-align: left;\">missing</td><td style = \"text-align: right;\">134655</td><td style = \"font-style: italic; text-align: right;\">missing</td><td style = \"text-align: right;\">483</td><td style = \"text-align: left;\">Europe/Berlin</td><td style = \"text-align: left;\">2021-04-18</td></tr><tr><td class = \"rowNumber\" style = \"font-weight: bold; text-align: right;\">5</td><td style = \"text-align: right;\">276</td><td style = \"text-align: left;\">DE</td><td style = \"text-align: right;\">2803468</td><td style = \"text-align: left;\">Zyfflich</td><td style = \"text-align: left;\">Zyfflich</td><td style = \"text-align: left;\">Zyfflich</td><td style = \"text-align: right;\">51.8234</td><td style = \"text-align: right;\">5.97297</td><td style = \"text-align: left;\">P</td><td style = \"text-align: left;\">PPL</td><td style = \"font-style: italic; text-align: left;\">missing</td><td style = \"text-align: left;\">07</td><td style = \"text-align: left;\">051</td><td style = \"text-align: left;\">05154</td><td style = \"text-align: left;\">05154040</td><td style = \"text-align: right;\">0</td><td style = \"font-style: italic; text-align: right;\">missing</td><td style = \"text-align: right;\">14</td><td style = \"text-align: left;\">Europe/Berlin</td><td style = \"text-align: left;\">2016-03-10</td></tr></tbody></table></div>"
      ],
      "text/latex": [
       "\\begin{tabular}{r|cccccc}\n",
       "\t& country\\_id & country\\_code & geonames\\_id & name & asciiname & \\\\\n",
       "\t\\hline\n",
       "\t& Int32? & String & Int64 & String & String & \\\\\n",
       "\t\\hline\n",
       "\t1 & 276 & DE & 2657946 & Wyhlen & Wyhlen & $\\dots$ \\\\\n",
       "\t2 & 276 & DE & 2803460 & Märkischer Kreis & Maerkischer Kreis & $\\dots$ \\\\\n",
       "\t3 & 276 & DE & 2803461 & Landkreis Hildesheim & Landkreis Hildesheim & $\\dots$ \\\\\n",
       "\t4 & 276 & DE & 2803463 & Landkreis Aichach-Friedberg & Landkreis Aichach-Friedberg & $\\dots$ \\\\\n",
       "\t5 & 276 & DE & 2803468 & Zyfflich & Zyfflich & $\\dots$ \\\\\n",
       "\\end{tabular}\n"
      ],
      "text/plain": [
       "\u001b[1m5×20 DataFrame\u001b[0m\n",
       "\u001b[1m Row \u001b[0m│\u001b[1m country_id \u001b[0m\u001b[1m country_code \u001b[0m\u001b[1m geonames_id \u001b[0m\u001b[1m name                        \u001b[0m\u001b[1m asc\u001b[0m ⋯\n",
       "     │\u001b[90m Int32?     \u001b[0m\u001b[90m String       \u001b[0m\u001b[90m Int64       \u001b[0m\u001b[90m String                      \u001b[0m\u001b[90m Str\u001b[0m ⋯\n",
       "─────┼──────────────────────────────────────────────────────────────────────────\n",
       "   1 │        276  DE                2657946  Wyhlen                       Wyh ⋯\n",
       "   2 │        276  DE                2803460  Märkischer Kreis             Mae\n",
       "   3 │        276  DE                2803461  Landkreis Hildesheim         Lan\n",
       "   4 │        276  DE                2803463  Landkreis Aichach-Friedberg  Lan\n",
       "   5 │        276  DE                2803468  Zyfflich                     Zyf ⋯\n",
       "\u001b[36m                                                              16 columns omitted\u001b[0m"
      ]
     },
     "execution_count": 86,
     "metadata": {},
     "output_type": "execute_result"
    }
   ],
   "source": [
    "gn_dff[1:5, :]"
   ]
  },
  {
   "cell_type": "code",
   "execution_count": 87,
   "metadata": {},
   "outputs": [
    {
     "name": "stderr",
     "output_type": "stream",
     "text": [
      "┌ Info: 10000\n",
      "└ @ WiagDataSetup C:\\Users\\georg\\Documents\\projekte\\WiagDataSetup.jl\\src\\WiagDataSetup.jl:1193\n",
      "┌ Info: 20000\n",
      "└ @ WiagDataSetup C:\\Users\\georg\\Documents\\projekte\\WiagDataSetup.jl\\src\\WiagDataSetup.jl:1193\n",
      "┌ Info: 30000\n",
      "└ @ WiagDataSetup C:\\Users\\georg\\Documents\\projekte\\WiagDataSetup.jl\\src\\WiagDataSetup.jl:1193\n",
      "┌ Info: 40000\n",
      "└ @ WiagDataSetup C:\\Users\\georg\\Documents\\projekte\\WiagDataSetup.jl\\src\\WiagDataSetup.jl:1193\n",
      "┌ Info: 50000\n",
      "└ @ WiagDataSetup C:\\Users\\georg\\Documents\\projekte\\WiagDataSetup.jl\\src\\WiagDataSetup.jl:1193\n",
      "┌ Info: 60000\n",
      "└ @ WiagDataSetup C:\\Users\\georg\\Documents\\projekte\\WiagDataSetup.jl\\src\\WiagDataSetup.jl:1193\n",
      "┌ Info: 70000\n",
      "└ @ WiagDataSetup C:\\Users\\georg\\Documents\\projekte\\WiagDataSetup.jl\\src\\WiagDataSetup.jl:1193\n",
      "┌ Info: 80000\n",
      "└ @ WiagDataSetup C:\\Users\\georg\\Documents\\projekte\\WiagDataSetup.jl\\src\\WiagDataSetup.jl:1193\n",
      "┌ Info: 90000\n",
      "└ @ WiagDataSetup C:\\Users\\georg\\Documents\\projekte\\WiagDataSetup.jl\\src\\WiagDataSetup.jl:1193\n",
      "┌ Info: Rows inserted: 92536\n",
      "└ @ WiagDataSetup C:\\Users\\georg\\Documents\\projekte\\WiagDataSetup.jl\\src\\WiagDataSetup.jl:1216\n"
     ]
    },
    {
     "data": {
      "text/plain": [
       "92536"
      ]
     },
     "execution_count": 87,
     "metadata": {},
     "output_type": "execute_result"
    }
   ],
   "source": [
    "Wds.filltable!(\"place_all\", select(gn_dff, place_cols), clear_table = false)"
   ]
  },
  {
   "cell_type": "markdown",
   "metadata": {},
   "source": [
    "### Luxemburg"
   ]
  },
  {
   "cell_type": "code",
   "execution_count": 88,
   "metadata": {},
   "outputs": [
    {
     "data": {
      "text/plain": [
       "\"C:\\\\Users\\\\georg\\\\Documents\\\\projekte-doc\\\\WiagDataSetup\\\\GeoNames\\\\LU\\\\LU.txt\""
      ]
     },
     "execution_count": 88,
     "metadata": {},
     "output_type": "execute_result"
    }
   ],
   "source": [
    "gn_filename = joinpath(gn_path, \"LU\", \"LU.txt\")"
   ]
  },
  {
   "cell_type": "code",
   "execution_count": 89,
   "metadata": {},
   "outputs": [],
   "source": [
    "gn_df = CSV.read(gn_filename, DataFrame, header=gn_header, types=gn_types);"
   ]
  },
  {
   "cell_type": "markdown",
   "metadata": {},
   "source": [
    "filtern nach Art des Features"
   ]
  },
  {
   "cell_type": "code",
   "execution_count": 90,
   "metadata": {},
   "outputs": [],
   "source": [
    "gn_dff = filter([:feature_class, :feature_code] => filter_places, gn_df);"
   ]
  },
  {
   "cell_type": "code",
   "execution_count": 91,
   "metadata": {},
   "outputs": [
    {
     "data": {
      "text/html": [
       "<div><div style = \"float: left;\"><span>5×4 DataFrame</span></div><div style = \"clear: both;\"></div></div><div class = \"data-frame\" style = \"overflow-x: scroll;\"><table class = \"data-frame\" style = \"margin-bottom: 6px;\"><thead><tr class = \"header\"><th class = \"rowNumber\" style = \"font-weight: bold; text-align: right;\">Row</th><th style = \"text-align: left;\">geonames_id</th><th style = \"text-align: left;\">name</th><th style = \"text-align: left;\">country_code</th><th style = \"text-align: left;\">population</th></tr><tr class = \"subheader headerLastRow\"><th class = \"rowNumber\" style = \"font-weight: bold; text-align: right;\"></th><th title = \"Int64\" style = \"text-align: left;\">Int64</th><th title = \"String\" style = \"text-align: left;\">String</th><th title = \"String\" style = \"text-align: left;\">String</th><th title = \"Int64\" style = \"text-align: left;\">Int64</th></tr></thead><tbody><tr><td class = \"rowNumber\" style = \"font-weight: bold; text-align: right;\">1</td><td style = \"text-align: right;\">2959958</td><td style = \"text-align: left;\">Zittig</td><td style = \"text-align: left;\">LU</td><td style = \"text-align: right;\">38</td></tr><tr><td class = \"rowNumber\" style = \"font-weight: bold; text-align: right;\">2</td><td style = \"text-align: right;\">2959959</td><td style = \"text-align: left;\">Wormeldange</td><td style = \"text-align: left;\">LU</td><td style = \"text-align: right;\">786</td></tr><tr><td class = \"rowNumber\" style = \"font-weight: bold; text-align: right;\">3</td><td style = \"text-align: right;\">2959960</td><td style = \"text-align: left;\">Wues</td><td style = \"text-align: left;\">LU</td><td style = \"text-align: right;\">0</td></tr><tr><td class = \"rowNumber\" style = \"font-weight: bold; text-align: right;\">4</td><td style = \"text-align: right;\">2959961</td><td style = \"text-align: left;\">Wolwelange</td><td style = \"text-align: left;\">LU</td><td style = \"text-align: right;\">358</td></tr><tr><td class = \"rowNumber\" style = \"font-weight: bold; text-align: right;\">5</td><td style = \"text-align: right;\">2959964</td><td style = \"text-align: left;\">Wolpert</td><td style = \"text-align: left;\">LU</td><td style = \"text-align: right;\">0</td></tr></tbody></table></div>"
      ],
      "text/latex": [
       "\\begin{tabular}{r|cccc}\n",
       "\t& geonames\\_id & name & country\\_code & population\\\\\n",
       "\t\\hline\n",
       "\t& Int64 & String & String & Int64\\\\\n",
       "\t\\hline\n",
       "\t1 & 2959958 & Zittig & LU & 38 \\\\\n",
       "\t2 & 2959959 & Wormeldange & LU & 786 \\\\\n",
       "\t3 & 2959960 & Wues & LU & 0 \\\\\n",
       "\t4 & 2959961 & Wolwelange & LU & 358 \\\\\n",
       "\t5 & 2959964 & Wolpert & LU & 0 \\\\\n",
       "\\end{tabular}\n"
      ],
      "text/plain": [
       "\u001b[1m5×4 DataFrame\u001b[0m\n",
       "\u001b[1m Row \u001b[0m│\u001b[1m geonames_id \u001b[0m\u001b[1m name        \u001b[0m\u001b[1m country_code \u001b[0m\u001b[1m population \u001b[0m\n",
       "     │\u001b[90m Int64       \u001b[0m\u001b[90m String      \u001b[0m\u001b[90m String       \u001b[0m\u001b[90m Int64      \u001b[0m\n",
       "─────┼────────────────────────────────────────────────────\n",
       "   1 │     2959958  Zittig       LU                    38\n",
       "   2 │     2959959  Wormeldange  LU                   786\n",
       "   3 │     2959960  Wues         LU                     0\n",
       "   4 │     2959961  Wolwelange   LU                   358\n",
       "   5 │     2959964  Wolpert      LU                     0"
      ]
     },
     "execution_count": 91,
     "metadata": {},
     "output_type": "execute_result"
    }
   ],
   "source": [
    "gn_dff[1:5, [:geonames_id, :name, :country_code, :population]]"
   ]
  },
  {
   "cell_type": "code",
   "execution_count": 92,
   "metadata": {},
   "outputs": [
    {
     "data": {
      "text/plain": [
       "(832, 19)"
      ]
     },
     "execution_count": 92,
     "metadata": {},
     "output_type": "execute_result"
    }
   ],
   "source": [
    "size(gn_dff)"
   ]
  },
  {
   "cell_type": "markdown",
   "metadata": {},
   "source": [
    "Spalte für die Länder_ID einfügen"
   ]
  },
  {
   "cell_type": "code",
   "execution_count": 93,
   "metadata": {},
   "outputs": [],
   "source": [
    "gn_dff = rightjoin(df_country_m, gn_dff, on = :country_code);"
   ]
  },
  {
   "cell_type": "code",
   "execution_count": 95,
   "metadata": {},
   "outputs": [
    {
     "name": "stderr",
     "output_type": "stream",
     "text": [
      "┌ Info: Rows inserted: 832\n",
      "└ @ WiagDataSetup C:\\Users\\georg\\Documents\\projekte\\WiagDataSetup.jl\\src\\WiagDataSetup.jl:1216\n"
     ]
    },
    {
     "data": {
      "text/plain": [
       "832"
      ]
     },
     "execution_count": 95,
     "metadata": {},
     "output_type": "execute_result"
    }
   ],
   "source": [
    "Wds.filltable!(\"place_all\", select(gn_dff, place_cols), clear_table = false)"
   ]
  },
  {
   "cell_type": "markdown",
   "metadata": {},
   "source": [
    "### Tschechien"
   ]
  },
  {
   "cell_type": "code",
   "execution_count": 96,
   "metadata": {},
   "outputs": [
    {
     "data": {
      "text/plain": [
       "\"C:\\\\Users\\\\georg\\\\Documents\\\\projekte-doc\\\\WiagDataSetup\\\\GeoNames\\\\CZ\\\\CZ.txt\""
      ]
     },
     "execution_count": 96,
     "metadata": {},
     "output_type": "execute_result"
    }
   ],
   "source": [
    "gn_filename = joinpath(gn_path, \"CZ\", \"CZ.txt\")"
   ]
  },
  {
   "cell_type": "code",
   "execution_count": 97,
   "metadata": {
    "scrolled": false
   },
   "outputs": [],
   "source": [
    "gn_df = CSV.read(gn_filename, DataFrame, header=gn_header, types=gn_types);"
   ]
  },
  {
   "cell_type": "markdown",
   "metadata": {},
   "source": [
    "filtern nach Art des Features"
   ]
  },
  {
   "cell_type": "code",
   "execution_count": 98,
   "metadata": {},
   "outputs": [],
   "source": [
    "gn_dff = filter([:feature_class, :feature_code] => filter_places, gn_df);"
   ]
  },
  {
   "cell_type": "code",
   "execution_count": 99,
   "metadata": {},
   "outputs": [
    {
     "data": {
      "text/html": [
       "<div><div style = \"float: left;\"><span>5×4 DataFrame</span></div><div style = \"clear: both;\"></div></div><div class = \"data-frame\" style = \"overflow-x: scroll;\"><table class = \"data-frame\" style = \"margin-bottom: 6px;\"><thead><tr class = \"header\"><th class = \"rowNumber\" style = \"font-weight: bold; text-align: right;\">Row</th><th style = \"text-align: left;\">geonames_id</th><th style = \"text-align: left;\">name</th><th style = \"text-align: left;\">country_code</th><th style = \"text-align: left;\">population</th></tr><tr class = \"subheader headerLastRow\"><th class = \"rowNumber\" style = \"font-weight: bold; text-align: right;\"></th><th title = \"Int64\" style = \"text-align: left;\">Int64</th><th title = \"String\" style = \"text-align: left;\">String</th><th title = \"String\" style = \"text-align: left;\">String</th><th title = \"Int64\" style = \"text-align: left;\">Int64</th></tr></thead><tbody><tr><td class = \"rowNumber\" style = \"font-weight: bold; text-align: right;\">1</td><td style = \"text-align: right;\">3059873</td><td style = \"text-align: left;\">Hrčava</td><td style = \"text-align: left;\">CZ</td><td style = \"text-align: right;\">0</td></tr><tr><td class = \"rowNumber\" style = \"font-weight: bold; text-align: right;\">2</td><td style = \"text-align: right;\">3061283</td><td style = \"text-align: left;\">Janská Hut</td><td style = \"text-align: left;\">CZ</td><td style = \"text-align: right;\">0</td></tr><tr><td class = \"rowNumber\" style = \"font-weight: bold; text-align: right;\">3</td><td style = \"text-align: right;\">3061284</td><td style = \"text-align: left;\">Dvůr Králové nad Labem</td><td style = \"text-align: left;\">CZ</td><td style = \"text-align: right;\">16150</td></tr><tr><td class = \"rowNumber\" style = \"font-weight: bold; text-align: right;\">4</td><td style = \"text-align: right;\">3061285</td><td style = \"text-align: left;\">Zvůle</td><td style = \"text-align: left;\">CZ</td><td style = \"text-align: right;\">0</td></tr><tr><td class = \"rowNumber\" style = \"font-weight: bold; text-align: right;\">5</td><td style = \"text-align: right;\">3061286</td><td style = \"text-align: left;\">Zvotoky</td><td style = \"text-align: left;\">CZ</td><td style = \"text-align: right;\">69</td></tr></tbody></table></div>"
      ],
      "text/latex": [
       "\\begin{tabular}{r|cccc}\n",
       "\t& geonames\\_id & name & country\\_code & population\\\\\n",
       "\t\\hline\n",
       "\t& Int64 & String & String & Int64\\\\\n",
       "\t\\hline\n",
       "\t1 & 3059873 & Hrčava & CZ & 0 \\\\\n",
       "\t2 & 3061283 & Janská Hut & CZ & 0 \\\\\n",
       "\t3 & 3061284 & Dvůr Králové nad Labem & CZ & 16150 \\\\\n",
       "\t4 & 3061285 & Zvůle & CZ & 0 \\\\\n",
       "\t5 & 3061286 & Zvotoky & CZ & 69 \\\\\n",
       "\\end{tabular}\n"
      ],
      "text/plain": [
       "\u001b[1m5×4 DataFrame\u001b[0m\n",
       "\u001b[1m Row \u001b[0m│\u001b[1m geonames_id \u001b[0m\u001b[1m name                   \u001b[0m\u001b[1m country_code \u001b[0m\u001b[1m population \u001b[0m\n",
       "     │\u001b[90m Int64       \u001b[0m\u001b[90m String                 \u001b[0m\u001b[90m String       \u001b[0m\u001b[90m Int64      \u001b[0m\n",
       "─────┼───────────────────────────────────────────────────────────────\n",
       "   1 │     3059873  Hrčava                  CZ                     0\n",
       "   2 │     3061283  Janská Hut              CZ                     0\n",
       "   3 │     3061284  Dvůr Králové nad Labem  CZ                 16150\n",
       "   4 │     3061285  Zvůle                   CZ                     0\n",
       "   5 │     3061286  Zvotoky                 CZ                    69"
      ]
     },
     "execution_count": 99,
     "metadata": {},
     "output_type": "execute_result"
    }
   ],
   "source": [
    "gn_dff[1:5, [:geonames_id, :name, :country_code, :population]]"
   ]
  },
  {
   "cell_type": "code",
   "execution_count": 100,
   "metadata": {},
   "outputs": [
    {
     "data": {
      "text/plain": [
       "(22876, 19)"
      ]
     },
     "execution_count": 100,
     "metadata": {},
     "output_type": "execute_result"
    }
   ],
   "source": [
    "size(gn_dff)"
   ]
  },
  {
   "cell_type": "markdown",
   "metadata": {},
   "source": [
    "Spalte für die Länder_ID einfügen"
   ]
  },
  {
   "cell_type": "code",
   "execution_count": 101,
   "metadata": {},
   "outputs": [],
   "source": [
    "gn_dff = rightjoin(df_country_m, gn_dff, on = :country_code);"
   ]
  },
  {
   "cell_type": "code",
   "execution_count": 102,
   "metadata": {},
   "outputs": [
    {
     "name": "stderr",
     "output_type": "stream",
     "text": [
      "┌ Info: 10000\n",
      "└ @ WiagDataSetup C:\\Users\\georg\\Documents\\projekte\\WiagDataSetup.jl\\src\\WiagDataSetup.jl:1193\n",
      "┌ Info: 20000\n",
      "└ @ WiagDataSetup C:\\Users\\georg\\Documents\\projekte\\WiagDataSetup.jl\\src\\WiagDataSetup.jl:1193\n",
      "┌ Info: Rows inserted: 22876\n",
      "└ @ WiagDataSetup C:\\Users\\georg\\Documents\\projekte\\WiagDataSetup.jl\\src\\WiagDataSetup.jl:1216\n"
     ]
    },
    {
     "data": {
      "text/plain": [
       "22876"
      ]
     },
     "execution_count": 102,
     "metadata": {},
     "output_type": "execute_result"
    }
   ],
   "source": [
    "Wds.filltable!(\"place_all\", select(gn_dff, place_cols), clear_table = false)"
   ]
  },
  {
   "cell_type": "markdown",
   "metadata": {},
   "source": [
    "### Liechtenstein"
   ]
  },
  {
   "cell_type": "code",
   "execution_count": 103,
   "metadata": {},
   "outputs": [
    {
     "data": {
      "text/plain": [
       "\"C:\\\\Users\\\\georg\\\\Documents\\\\projekte-doc\\\\WiagDataSetup\\\\GeoNames\\\\LI\\\\LI.txt\""
      ]
     },
     "execution_count": 103,
     "metadata": {},
     "output_type": "execute_result"
    }
   ],
   "source": [
    "gn_filename = joinpath(gn_path, \"LI\", \"LI.txt\")"
   ]
  },
  {
   "cell_type": "code",
   "execution_count": 104,
   "metadata": {},
   "outputs": [],
   "source": [
    "gn_df = CSV.read(gn_filename, DataFrame, header=gn_header, types=gn_types);"
   ]
  },
  {
   "cell_type": "markdown",
   "metadata": {},
   "source": [
    "filtern nach Art des Features"
   ]
  },
  {
   "cell_type": "code",
   "execution_count": 105,
   "metadata": {},
   "outputs": [],
   "source": [
    "gn_dff = filter([:feature_class, :feature_code] => filter_places, gn_df);"
   ]
  },
  {
   "cell_type": "code",
   "execution_count": 106,
   "metadata": {},
   "outputs": [
    {
     "data": {
      "text/html": [
       "<div><div style = \"float: left;\"><span>5×4 DataFrame</span></div><div style = \"clear: both;\"></div></div><div class = \"data-frame\" style = \"overflow-x: scroll;\"><table class = \"data-frame\" style = \"margin-bottom: 6px;\"><thead><tr class = \"header\"><th class = \"rowNumber\" style = \"font-weight: bold; text-align: right;\">Row</th><th style = \"text-align: left;\">geonames_id</th><th style = \"text-align: left;\">name</th><th style = \"text-align: left;\">country_code</th><th style = \"text-align: left;\">population</th></tr><tr class = \"subheader headerLastRow\"><th class = \"rowNumber\" style = \"font-weight: bold; text-align: right;\"></th><th title = \"Int64\" style = \"text-align: left;\">Int64</th><th title = \"String\" style = \"text-align: left;\">String</th><th title = \"String\" style = \"text-align: left;\">String</th><th title = \"Int64\" style = \"text-align: left;\">Int64</th></tr></thead><tbody><tr><td class = \"rowNumber\" style = \"font-weight: bold; text-align: right;\">1</td><td style = \"text-align: right;\">3042029</td><td style = \"text-align: left;\">Vorderer Schellenberg</td><td style = \"text-align: left;\">LI</td><td style = \"text-align: right;\">0</td></tr><tr><td class = \"rowNumber\" style = \"font-weight: bold; text-align: right;\">2</td><td style = \"text-align: right;\">3042030</td><td style = \"text-align: left;\">Vaduz</td><td style = \"text-align: left;\">LI</td><td style = \"text-align: right;\">5197</td></tr><tr><td class = \"rowNumber\" style = \"font-weight: bold; text-align: right;\">3</td><td style = \"text-align: right;\">3042031</td><td style = \"text-align: left;\">Vaduz</td><td style = \"text-align: left;\">LI</td><td style = \"text-align: right;\">5197</td></tr><tr><td class = \"rowNumber\" style = \"font-weight: bold; text-align: right;\">4</td><td style = \"text-align: right;\">3042033</td><td style = \"text-align: left;\">Triesenberg</td><td style = \"text-align: left;\">LI</td><td style = \"text-align: right;\">2689</td></tr><tr><td class = \"rowNumber\" style = \"font-weight: bold; text-align: right;\">5</td><td style = \"text-align: right;\">3042034</td><td style = \"text-align: left;\">Triesenberg</td><td style = \"text-align: left;\">LI</td><td style = \"text-align: right;\">2689</td></tr></tbody></table></div>"
      ],
      "text/latex": [
       "\\begin{tabular}{r|cccc}\n",
       "\t& geonames\\_id & name & country\\_code & population\\\\\n",
       "\t\\hline\n",
       "\t& Int64 & String & String & Int64\\\\\n",
       "\t\\hline\n",
       "\t1 & 3042029 & Vorderer Schellenberg & LI & 0 \\\\\n",
       "\t2 & 3042030 & Vaduz & LI & 5197 \\\\\n",
       "\t3 & 3042031 & Vaduz & LI & 5197 \\\\\n",
       "\t4 & 3042033 & Triesenberg & LI & 2689 \\\\\n",
       "\t5 & 3042034 & Triesenberg & LI & 2689 \\\\\n",
       "\\end{tabular}\n"
      ],
      "text/plain": [
       "\u001b[1m5×4 DataFrame\u001b[0m\n",
       "\u001b[1m Row \u001b[0m│\u001b[1m geonames_id \u001b[0m\u001b[1m name                  \u001b[0m\u001b[1m country_code \u001b[0m\u001b[1m population \u001b[0m\n",
       "     │\u001b[90m Int64       \u001b[0m\u001b[90m String                \u001b[0m\u001b[90m String       \u001b[0m\u001b[90m Int64      \u001b[0m\n",
       "─────┼──────────────────────────────────────────────────────────────\n",
       "   1 │     3042029  Vorderer Schellenberg  LI                     0\n",
       "   2 │     3042030  Vaduz                  LI                  5197\n",
       "   3 │     3042031  Vaduz                  LI                  5197\n",
       "   4 │     3042033  Triesenberg            LI                  2689\n",
       "   5 │     3042034  Triesenberg            LI                  2689"
      ]
     },
     "execution_count": 106,
     "metadata": {},
     "output_type": "execute_result"
    }
   ],
   "source": [
    "gn_dff[1:5, [:geonames_id, :name, :country_code, :population]]"
   ]
  },
  {
   "cell_type": "code",
   "execution_count": 107,
   "metadata": {},
   "outputs": [
    {
     "data": {
      "text/plain": [
       "(378, 19)"
      ]
     },
     "execution_count": 107,
     "metadata": {},
     "output_type": "execute_result"
    }
   ],
   "source": [
    "size(gn_dff)"
   ]
  },
  {
   "cell_type": "markdown",
   "metadata": {},
   "source": [
    "Spalte für die Länder_ID einfügen"
   ]
  },
  {
   "cell_type": "code",
   "execution_count": 108,
   "metadata": {},
   "outputs": [],
   "source": [
    "gn_dff = rightjoin(df_country_m, gn_dff, on = :country_code);"
   ]
  },
  {
   "cell_type": "code",
   "execution_count": 109,
   "metadata": {},
   "outputs": [
    {
     "name": "stderr",
     "output_type": "stream",
     "text": [
      "┌ Info: Rows inserted: 378\n",
      "└ @ WiagDataSetup C:\\Users\\georg\\Documents\\projekte\\WiagDataSetup.jl\\src\\WiagDataSetup.jl:1216\n"
     ]
    },
    {
     "data": {
      "text/plain": [
       "378"
      ]
     },
     "execution_count": 109,
     "metadata": {},
     "output_type": "execute_result"
    }
   ],
   "source": [
    "Wds.filltable!(\"place_all\", select(gn_dff, place_cols), clear_table = false)"
   ]
  },
  {
   "cell_type": "markdown",
   "metadata": {},
   "source": [
    "### Estland\n",
    "\n",
    "Die erste Zeile der Daten kann nicht gelesen werden. Sie wird manuell aus den Quelldaten gelöscht. Das ist unerheblich, weil es sich nicht um ein relevantes Feature handelt."
   ]
  },
  {
   "cell_type": "code",
   "execution_count": 110,
   "metadata": {},
   "outputs": [
    {
     "data": {
      "text/plain": [
       "\"C:\\\\Users\\\\georg\\\\Documents\\\\projekte-doc\\\\WiagDataSetup\\\\GeoNames\\\\EE\\\\EE-x1.txt\""
      ]
     },
     "execution_count": 110,
     "metadata": {},
     "output_type": "execute_result"
    }
   ],
   "source": [
    "gn_filename = joinpath(gn_path, \"EE\", \"EE-x1.txt\")"
   ]
  },
  {
   "cell_type": "code",
   "execution_count": 111,
   "metadata": {},
   "outputs": [],
   "source": [
    "gn_df = CSV.read(gn_filename, DataFrame, header=gn_header, types=gn_types);"
   ]
  },
  {
   "cell_type": "markdown",
   "metadata": {},
   "source": [
    "filtern nach Art des Features"
   ]
  },
  {
   "cell_type": "code",
   "execution_count": 112,
   "metadata": {},
   "outputs": [],
   "source": [
    "gn_dff = filter([:feature_class, :feature_code] => filter_places, gn_df);"
   ]
  },
  {
   "cell_type": "code",
   "execution_count": 113,
   "metadata": {},
   "outputs": [
    {
     "data": {
      "text/plain": [
       "(12098, 19)"
      ]
     },
     "execution_count": 113,
     "metadata": {},
     "output_type": "execute_result"
    }
   ],
   "source": [
    "size(gn_dff)"
   ]
  },
  {
   "cell_type": "code",
   "execution_count": 114,
   "metadata": {},
   "outputs": [
    {
     "data": {
      "text/html": [
       "<div><div style = \"float: left;\"><span>5×4 DataFrame</span></div><div style = \"clear: both;\"></div></div><div class = \"data-frame\" style = \"overflow-x: scroll;\"><table class = \"data-frame\" style = \"margin-bottom: 6px;\"><thead><tr class = \"header\"><th class = \"rowNumber\" style = \"font-weight: bold; text-align: right;\">Row</th><th style = \"text-align: left;\">geonames_id</th><th style = \"text-align: left;\">name</th><th style = \"text-align: left;\">country_code</th><th style = \"text-align: left;\">population</th></tr><tr class = \"subheader headerLastRow\"><th class = \"rowNumber\" style = \"font-weight: bold; text-align: right;\"></th><th title = \"Int64\" style = \"text-align: left;\">Int64</th><th title = \"String\" style = \"text-align: left;\">String</th><th title = \"String\" style = \"text-align: left;\">String</th><th title = \"Int64\" style = \"text-align: left;\">Int64</th></tr></thead><tbody><tr><td class = \"rowNumber\" style = \"font-weight: bold; text-align: right;\">1</td><td style = \"text-align: right;\">453733</td><td style = \"text-align: left;\">Republic of Estonia</td><td style = \"text-align: left;\">EE</td><td style = \"text-align: right;\">1320884</td></tr><tr><td class = \"rowNumber\" style = \"font-weight: bold; text-align: right;\">2</td><td style = \"text-align: right;\">456463</td><td style = \"text-align: left;\">Puijas</td><td style = \"text-align: left;\">EE</td><td style = \"text-align: right;\">0</td></tr><tr><td class = \"rowNumber\" style = \"font-weight: bold; text-align: right;\">3</td><td style = \"text-align: right;\">587436</td><td style = \"text-align: left;\">Nehatu</td><td style = \"text-align: left;\">EE</td><td style = \"text-align: right;\">0</td></tr><tr><td class = \"rowNumber\" style = \"font-weight: bold; text-align: right;\">4</td><td style = \"text-align: right;\">587437</td><td style = \"text-align: left;\">Mereküla</td><td style = \"text-align: left;\">EE</td><td style = \"text-align: right;\">0</td></tr><tr><td class = \"rowNumber\" style = \"font-weight: bold; text-align: right;\">5</td><td style = \"text-align: right;\">587438</td><td style = \"text-align: left;\">Krundiküla</td><td style = \"text-align: left;\">EE</td><td style = \"text-align: right;\">0</td></tr></tbody></table></div>"
      ],
      "text/latex": [
       "\\begin{tabular}{r|cccc}\n",
       "\t& geonames\\_id & name & country\\_code & population\\\\\n",
       "\t\\hline\n",
       "\t& Int64 & String & String & Int64\\\\\n",
       "\t\\hline\n",
       "\t1 & 453733 & Republic of Estonia & EE & 1320884 \\\\\n",
       "\t2 & 456463 & Puijas & EE & 0 \\\\\n",
       "\t3 & 587436 & Nehatu & EE & 0 \\\\\n",
       "\t4 & 587437 & Mereküla & EE & 0 \\\\\n",
       "\t5 & 587438 & Krundiküla & EE & 0 \\\\\n",
       "\\end{tabular}\n"
      ],
      "text/plain": [
       "\u001b[1m5×4 DataFrame\u001b[0m\n",
       "\u001b[1m Row \u001b[0m│\u001b[1m geonames_id \u001b[0m\u001b[1m name                \u001b[0m\u001b[1m country_code \u001b[0m\u001b[1m population \u001b[0m\n",
       "     │\u001b[90m Int64       \u001b[0m\u001b[90m String              \u001b[0m\u001b[90m String       \u001b[0m\u001b[90m Int64      \u001b[0m\n",
       "─────┼────────────────────────────────────────────────────────────\n",
       "   1 │      453733  Republic of Estonia  EE               1320884\n",
       "   2 │      456463  Puijas               EE                     0\n",
       "   3 │      587436  Nehatu               EE                     0\n",
       "   4 │      587437  Mereküla             EE                     0\n",
       "   5 │      587438  Krundiküla           EE                     0"
      ]
     },
     "execution_count": 114,
     "metadata": {},
     "output_type": "execute_result"
    }
   ],
   "source": [
    "gn_dff[1:5, [:geonames_id, :name, :country_code, :population]]"
   ]
  },
  {
   "cell_type": "code",
   "execution_count": 115,
   "metadata": {},
   "outputs": [
    {
     "data": {
      "text/plain": [
       "(12098, 19)"
      ]
     },
     "execution_count": 115,
     "metadata": {},
     "output_type": "execute_result"
    }
   ],
   "source": [
    "size(gn_dff)"
   ]
  },
  {
   "cell_type": "markdown",
   "metadata": {},
   "source": [
    "Spalte für die Länder_ID einfügen"
   ]
  },
  {
   "cell_type": "code",
   "execution_count": 116,
   "metadata": {},
   "outputs": [],
   "source": [
    "gn_dff = rightjoin(df_country_m, gn_dff, on = :country_code);"
   ]
  },
  {
   "cell_type": "code",
   "execution_count": 117,
   "metadata": {},
   "outputs": [
    {
     "name": "stderr",
     "output_type": "stream",
     "text": [
      "┌ Info: 10000\n",
      "└ @ WiagDataSetup C:\\Users\\georg\\Documents\\projekte\\WiagDataSetup.jl\\src\\WiagDataSetup.jl:1193\n",
      "┌ Info: Rows inserted: 12098\n",
      "└ @ WiagDataSetup C:\\Users\\georg\\Documents\\projekte\\WiagDataSetup.jl\\src\\WiagDataSetup.jl:1216\n"
     ]
    },
    {
     "data": {
      "text/plain": [
       "12098"
      ]
     },
     "execution_count": 117,
     "metadata": {},
     "output_type": "execute_result"
    }
   ],
   "source": [
    "Wds.filltable!(\"place_all\", select(gn_dff, place_cols), clear_table = false)"
   ]
  },
  {
   "cell_type": "markdown",
   "metadata": {},
   "source": [
    "### Lettland"
   ]
  },
  {
   "cell_type": "code",
   "execution_count": 118,
   "metadata": {},
   "outputs": [
    {
     "data": {
      "text/plain": [
       "\"C:\\\\Users\\\\georg\\\\Documents\\\\projekte-doc\\\\WiagDataSetup\\\\GeoNames\\\\LV\\\\LV.txt\""
      ]
     },
     "execution_count": 118,
     "metadata": {},
     "output_type": "execute_result"
    }
   ],
   "source": [
    "gn_filename = joinpath(gn_path, \"LV\", \"LV.txt\")"
   ]
  },
  {
   "cell_type": "code",
   "execution_count": 119,
   "metadata": {},
   "outputs": [],
   "source": [
    "gn_df = CSV.read(gn_filename, DataFrame, header=gn_header, types=gn_types);"
   ]
  },
  {
   "cell_type": "markdown",
   "metadata": {},
   "source": [
    "filtern nach Art des Features"
   ]
  },
  {
   "cell_type": "code",
   "execution_count": 120,
   "metadata": {},
   "outputs": [],
   "source": [
    "gn_dff = filter([:feature_class, :feature_code] => filter_places, gn_df);"
   ]
  },
  {
   "cell_type": "code",
   "execution_count": 121,
   "metadata": {},
   "outputs": [
    {
     "data": {
      "text/html": [
       "<div><div style = \"float: left;\"><span>5×4 DataFrame</span></div><div style = \"clear: both;\"></div></div><div class = \"data-frame\" style = \"overflow-x: scroll;\"><table class = \"data-frame\" style = \"margin-bottom: 6px;\"><thead><tr class = \"header\"><th class = \"rowNumber\" style = \"font-weight: bold; text-align: right;\">Row</th><th style = \"text-align: left;\">geonames_id</th><th style = \"text-align: left;\">name</th><th style = \"text-align: left;\">country_code</th><th style = \"text-align: left;\">population</th></tr><tr class = \"subheader headerLastRow\"><th class = \"rowNumber\" style = \"font-weight: bold; text-align: right;\"></th><th title = \"Int64\" style = \"text-align: left;\">Int64</th><th title = \"String\" style = \"text-align: left;\">String</th><th title = \"String\" style = \"text-align: left;\">String</th><th title = \"Int64\" style = \"text-align: left;\">Int64</th></tr></thead><tbody><tr><td class = \"rowNumber\" style = \"font-weight: bold; text-align: right;\">1</td><td style = \"text-align: right;\">453754</td><td style = \"text-align: left;\">Valmiera</td><td style = \"text-align: left;\">LV</td><td style = \"text-align: right;\">26963</td></tr><tr><td class = \"rowNumber\" style = \"font-weight: bold; text-align: right;\">2</td><td style = \"text-align: right;\">453756</td><td style = \"text-align: left;\">Jaunzemji</td><td style = \"text-align: left;\">LV</td><td style = \"text-align: right;\">0</td></tr><tr><td class = \"rowNumber\" style = \"font-weight: bold; text-align: right;\">3</td><td style = \"text-align: right;\">453758</td><td style = \"text-align: left;\">Grīžukrogs</td><td style = \"text-align: left;\">LV</td><td style = \"text-align: right;\">0</td></tr><tr><td class = \"rowNumber\" style = \"font-weight: bold; text-align: right;\">4</td><td style = \"text-align: right;\">453759</td><td style = \"text-align: left;\">Čolēni</td><td style = \"text-align: left;\">LV</td><td style = \"text-align: right;\">0</td></tr><tr><td class = \"rowNumber\" style = \"font-weight: bold; text-align: right;\">5</td><td style = \"text-align: right;\">453764</td><td style = \"text-align: left;\">Zvirgzdene</td><td style = \"text-align: left;\">LV</td><td style = \"text-align: right;\">0</td></tr></tbody></table></div>"
      ],
      "text/latex": [
       "\\begin{tabular}{r|cccc}\n",
       "\t& geonames\\_id & name & country\\_code & population\\\\\n",
       "\t\\hline\n",
       "\t& Int64 & String & String & Int64\\\\\n",
       "\t\\hline\n",
       "\t1 & 453754 & Valmiera & LV & 26963 \\\\\n",
       "\t2 & 453756 & Jaunzemji & LV & 0 \\\\\n",
       "\t3 & 453758 & Grīžukrogs & LV & 0 \\\\\n",
       "\t4 & 453759 & Čolēni & LV & 0 \\\\\n",
       "\t5 & 453764 & Zvirgzdene & LV & 0 \\\\\n",
       "\\end{tabular}\n"
      ],
      "text/plain": [
       "\u001b[1m5×4 DataFrame\u001b[0m\n",
       "\u001b[1m Row \u001b[0m│\u001b[1m geonames_id \u001b[0m\u001b[1m name       \u001b[0m\u001b[1m country_code \u001b[0m\u001b[1m population \u001b[0m\n",
       "     │\u001b[90m Int64       \u001b[0m\u001b[90m String     \u001b[0m\u001b[90m String       \u001b[0m\u001b[90m Int64      \u001b[0m\n",
       "─────┼───────────────────────────────────────────────────\n",
       "   1 │      453754  Valmiera    LV                 26963\n",
       "   2 │      453756  Jaunzemji   LV                     0\n",
       "   3 │      453758  Grīžukrogs  LV                     0\n",
       "   4 │      453759  Čolēni      LV                     0\n",
       "   5 │      453764  Zvirgzdene  LV                     0"
      ]
     },
     "execution_count": 121,
     "metadata": {},
     "output_type": "execute_result"
    }
   ],
   "source": [
    "gn_dff[1:5, [:geonames_id, :name, :country_code, :population]]"
   ]
  },
  {
   "cell_type": "code",
   "execution_count": 122,
   "metadata": {},
   "outputs": [
    {
     "data": {
      "text/plain": [
       "(4802, 19)"
      ]
     },
     "execution_count": 122,
     "metadata": {},
     "output_type": "execute_result"
    }
   ],
   "source": [
    "size(gn_dff)"
   ]
  },
  {
   "cell_type": "markdown",
   "metadata": {},
   "source": [
    "Spalte für die Länder_ID einfügen"
   ]
  },
  {
   "cell_type": "code",
   "execution_count": 123,
   "metadata": {},
   "outputs": [],
   "source": [
    "gn_dff = rightjoin(df_country_m, gn_dff, on = :country_code);"
   ]
  },
  {
   "cell_type": "code",
   "execution_count": 124,
   "metadata": {},
   "outputs": [
    {
     "name": "stderr",
     "output_type": "stream",
     "text": [
      "┌ Info: Rows inserted: 4802\n",
      "└ @ WiagDataSetup C:\\Users\\georg\\Documents\\projekte\\WiagDataSetup.jl\\src\\WiagDataSetup.jl:1216\n"
     ]
    },
    {
     "data": {
      "text/plain": [
       "4802"
      ]
     },
     "execution_count": 124,
     "metadata": {},
     "output_type": "execute_result"
    }
   ],
   "source": [
    "Wds.filltable!(\"place_all\", select(gn_dff, place_cols), clear_table = false)"
   ]
  },
  {
   "cell_type": "markdown",
   "metadata": {},
   "source": [
    "### Litauen"
   ]
  },
  {
   "cell_type": "code",
   "execution_count": 125,
   "metadata": {},
   "outputs": [
    {
     "data": {
      "text/plain": [
       "\"C:\\\\Users\\\\georg\\\\Documents\\\\projekte-doc\\\\WiagDataSetup\\\\GeoNames\\\\LT\\\\LT.txt\""
      ]
     },
     "execution_count": 125,
     "metadata": {},
     "output_type": "execute_result"
    }
   ],
   "source": [
    "gn_filename = joinpath(gn_path, \"LT\", \"LT.txt\")"
   ]
  },
  {
   "cell_type": "code",
   "execution_count": 126,
   "metadata": {},
   "outputs": [],
   "source": [
    "gn_df = CSV.read(gn_filename, DataFrame, header=gn_header, types=gn_types);"
   ]
  },
  {
   "cell_type": "markdown",
   "metadata": {},
   "source": [
    "filtern nach Art des Features"
   ]
  },
  {
   "cell_type": "code",
   "execution_count": 127,
   "metadata": {},
   "outputs": [],
   "source": [
    "gn_dff = filter([:feature_class, :feature_code] => filter_places, gn_df);"
   ]
  },
  {
   "cell_type": "code",
   "execution_count": 128,
   "metadata": {},
   "outputs": [
    {
     "data": {
      "text/html": [
       "<div><div style = \"float: left;\"><span>5×4 DataFrame</span></div><div style = \"clear: both;\"></div></div><div class = \"data-frame\" style = \"overflow-x: scroll;\"><table class = \"data-frame\" style = \"margin-bottom: 6px;\"><thead><tr class = \"header\"><th class = \"rowNumber\" style = \"font-weight: bold; text-align: right;\">Row</th><th style = \"text-align: left;\">geonames_id</th><th style = \"text-align: left;\">name</th><th style = \"text-align: left;\">country_code</th><th style = \"text-align: left;\">population</th></tr><tr class = \"subheader headerLastRow\"><th class = \"rowNumber\" style = \"font-weight: bold; text-align: right;\"></th><th title = \"Int64\" style = \"text-align: left;\">Int64</th><th title = \"String\" style = \"text-align: left;\">String</th><th title = \"String\" style = \"text-align: left;\">String</th><th title = \"Int64\" style = \"text-align: left;\">Int64</th></tr></thead><tbody><tr><td class = \"rowNumber\" style = \"font-weight: bold; text-align: right;\">1</td><td style = \"text-align: right;\">592647</td><td style = \"text-align: left;\">Bileišiai</td><td style = \"text-align: left;\">LT</td><td style = \"text-align: right;\">0</td></tr><tr><td class = \"rowNumber\" style = \"font-weight: bold; text-align: right;\">2</td><td style = \"text-align: right;\">592648</td><td style = \"text-align: left;\">Abakai</td><td style = \"text-align: left;\">LT</td><td style = \"text-align: right;\">0</td></tr><tr><td class = \"rowNumber\" style = \"font-weight: bold; text-align: right;\">3</td><td style = \"text-align: right;\">592650</td><td style = \"text-align: left;\">Zypliai</td><td style = \"text-align: left;\">LT</td><td style = \"text-align: right;\">0</td></tr><tr><td class = \"rowNumber\" style = \"font-weight: bold; text-align: right;\">4</td><td style = \"text-align: right;\">592651</td><td style = \"text-align: left;\">Žyniai</td><td style = \"text-align: left;\">LT</td><td style = \"text-align: right;\">0</td></tr><tr><td class = \"rowNumber\" style = \"font-weight: bold; text-align: right;\">5</td><td style = \"text-align: right;\">592652</td><td style = \"text-align: left;\">Žyniai</td><td style = \"text-align: left;\">LT</td><td style = \"text-align: right;\">0</td></tr></tbody></table></div>"
      ],
      "text/latex": [
       "\\begin{tabular}{r|cccc}\n",
       "\t& geonames\\_id & name & country\\_code & population\\\\\n",
       "\t\\hline\n",
       "\t& Int64 & String & String & Int64\\\\\n",
       "\t\\hline\n",
       "\t1 & 592647 & Bileišiai & LT & 0 \\\\\n",
       "\t2 & 592648 & Abakai & LT & 0 \\\\\n",
       "\t3 & 592650 & Zypliai & LT & 0 \\\\\n",
       "\t4 & 592651 & Žyniai & LT & 0 \\\\\n",
       "\t5 & 592652 & Žyniai & LT & 0 \\\\\n",
       "\\end{tabular}\n"
      ],
      "text/plain": [
       "\u001b[1m5×4 DataFrame\u001b[0m\n",
       "\u001b[1m Row \u001b[0m│\u001b[1m geonames_id \u001b[0m\u001b[1m name      \u001b[0m\u001b[1m country_code \u001b[0m\u001b[1m population \u001b[0m\n",
       "     │\u001b[90m Int64       \u001b[0m\u001b[90m String    \u001b[0m\u001b[90m String       \u001b[0m\u001b[90m Int64      \u001b[0m\n",
       "─────┼──────────────────────────────────────────────────\n",
       "   1 │      592647  Bileišiai  LT                     0\n",
       "   2 │      592648  Abakai     LT                     0\n",
       "   3 │      592650  Zypliai    LT                     0\n",
       "   4 │      592651  Žyniai     LT                     0\n",
       "   5 │      592652  Žyniai     LT                     0"
      ]
     },
     "execution_count": 128,
     "metadata": {},
     "output_type": "execute_result"
    }
   ],
   "source": [
    "gn_dff[1:5, [:geonames_id, :name, :country_code, :population]]"
   ]
  },
  {
   "cell_type": "code",
   "execution_count": 129,
   "metadata": {},
   "outputs": [
    {
     "data": {
      "text/plain": [
       "(20471, 19)"
      ]
     },
     "execution_count": 129,
     "metadata": {},
     "output_type": "execute_result"
    }
   ],
   "source": [
    "size(gn_dff)"
   ]
  },
  {
   "cell_type": "markdown",
   "metadata": {},
   "source": [
    "Spalte für die Länder_ID einfügen"
   ]
  },
  {
   "cell_type": "code",
   "execution_count": 130,
   "metadata": {},
   "outputs": [],
   "source": [
    "gn_dff = rightjoin(df_country_m, gn_dff, on = :country_code);"
   ]
  },
  {
   "cell_type": "code",
   "execution_count": 131,
   "metadata": {},
   "outputs": [
    {
     "name": "stderr",
     "output_type": "stream",
     "text": [
      "┌ Info: 10000\n",
      "└ @ WiagDataSetup C:\\Users\\georg\\Documents\\projekte\\WiagDataSetup.jl\\src\\WiagDataSetup.jl:1193\n",
      "┌ Info: 20000\n",
      "└ @ WiagDataSetup C:\\Users\\georg\\Documents\\projekte\\WiagDataSetup.jl\\src\\WiagDataSetup.jl:1193\n",
      "┌ Info: Rows inserted: 20471\n",
      "└ @ WiagDataSetup C:\\Users\\georg\\Documents\\projekte\\WiagDataSetup.jl\\src\\WiagDataSetup.jl:1216\n"
     ]
    },
    {
     "data": {
      "text/plain": [
       "20471"
      ]
     },
     "execution_count": 131,
     "metadata": {},
     "output_type": "execute_result"
    }
   ],
   "source": [
    "Wds.filltable!(\"place_all\", select(gn_dff, place_cols), clear_table = false)"
   ]
  },
  {
   "cell_type": "markdown",
   "metadata": {},
   "source": [
    "### Kroatien"
   ]
  },
  {
   "cell_type": "code",
   "execution_count": 132,
   "metadata": {},
   "outputs": [
    {
     "data": {
      "text/plain": [
       "\"C:\\\\Users\\\\georg\\\\Documents\\\\projekte-doc\\\\WiagDataSetup\\\\GeoNames\\\\HR\\\\HR.txt\""
      ]
     },
     "execution_count": 132,
     "metadata": {},
     "output_type": "execute_result"
    }
   ],
   "source": [
    "gn_filename = joinpath(gn_path, \"HR\", \"HR.txt\")"
   ]
  },
  {
   "cell_type": "code",
   "execution_count": 133,
   "metadata": {},
   "outputs": [],
   "source": [
    "gn_df = CSV.read(gn_filename, DataFrame, header=gn_header, types=gn_types);"
   ]
  },
  {
   "cell_type": "markdown",
   "metadata": {},
   "source": [
    "filtern nach Art des Features"
   ]
  },
  {
   "cell_type": "code",
   "execution_count": 134,
   "metadata": {},
   "outputs": [],
   "source": [
    "gn_dff = filter([:feature_class, :feature_code] => filter_places, gn_df);"
   ]
  },
  {
   "cell_type": "code",
   "execution_count": 135,
   "metadata": {},
   "outputs": [
    {
     "data": {
      "text/html": [
       "<div><div style = \"float: left;\"><span>5×4 DataFrame</span></div><div style = \"clear: both;\"></div></div><div class = \"data-frame\" style = \"overflow-x: scroll;\"><table class = \"data-frame\" style = \"margin-bottom: 6px;\"><thead><tr class = \"header\"><th class = \"rowNumber\" style = \"font-weight: bold; text-align: right;\">Row</th><th style = \"text-align: left;\">geonames_id</th><th style = \"text-align: left;\">name</th><th style = \"text-align: left;\">country_code</th><th style = \"text-align: left;\">population</th></tr><tr class = \"subheader headerLastRow\"><th class = \"rowNumber\" style = \"font-weight: bold; text-align: right;\"></th><th title = \"Int64\" style = \"text-align: left;\">Int64</th><th title = \"String\" style = \"text-align: left;\">String</th><th title = \"String\" style = \"text-align: left;\">String</th><th title = \"Int64\" style = \"text-align: left;\">Int64</th></tr></thead><tbody><tr><td class = \"rowNumber\" style = \"font-weight: bold; text-align: right;\">1</td><td style = \"text-align: right;\">3186233</td><td style = \"text-align: left;\">Vranjic</td><td style = \"text-align: left;\">HR</td><td style = \"text-align: right;\">1110</td></tr><tr><td class = \"rowNumber\" style = \"font-weight: bold; text-align: right;\">2</td><td style = \"text-align: right;\">3186247</td><td style = \"text-align: left;\">Zvonik</td><td style = \"text-align: left;\">HR</td><td style = \"text-align: right;\">87</td></tr><tr><td class = \"rowNumber\" style = \"font-weight: bold; text-align: right;\">3</td><td style = \"text-align: right;\">3186248</td><td style = \"text-align: left;\">Zvoneća</td><td style = \"text-align: left;\">HR</td><td style = \"text-align: right;\">0</td></tr><tr><td class = \"rowNumber\" style = \"font-weight: bold; text-align: right;\">4</td><td style = \"text-align: right;\">3186263</td><td style = \"text-align: left;\">Zverinac</td><td style = \"text-align: left;\">HR</td><td style = \"text-align: right;\">43</td></tr><tr><td class = \"rowNumber\" style = \"font-weight: bold; text-align: right;\">5</td><td style = \"text-align: right;\">3186265</td><td style = \"text-align: left;\">Zvekovac</td><td style = \"text-align: left;\">HR</td><td style = \"text-align: right;\">193</td></tr></tbody></table></div>"
      ],
      "text/latex": [
       "\\begin{tabular}{r|cccc}\n",
       "\t& geonames\\_id & name & country\\_code & population\\\\\n",
       "\t\\hline\n",
       "\t& Int64 & String & String & Int64\\\\\n",
       "\t\\hline\n",
       "\t1 & 3186233 & Vranjic & HR & 1110 \\\\\n",
       "\t2 & 3186247 & Zvonik & HR & 87 \\\\\n",
       "\t3 & 3186248 & Zvoneća & HR & 0 \\\\\n",
       "\t4 & 3186263 & Zverinac & HR & 43 \\\\\n",
       "\t5 & 3186265 & Zvekovac & HR & 193 \\\\\n",
       "\\end{tabular}\n"
      ],
      "text/plain": [
       "\u001b[1m5×4 DataFrame\u001b[0m\n",
       "\u001b[1m Row \u001b[0m│\u001b[1m geonames_id \u001b[0m\u001b[1m name     \u001b[0m\u001b[1m country_code \u001b[0m\u001b[1m population \u001b[0m\n",
       "     │\u001b[90m Int64       \u001b[0m\u001b[90m String   \u001b[0m\u001b[90m String       \u001b[0m\u001b[90m Int64      \u001b[0m\n",
       "─────┼─────────────────────────────────────────────────\n",
       "   1 │     3186233  Vranjic   HR                  1110\n",
       "   2 │     3186247  Zvonik    HR                    87\n",
       "   3 │     3186248  Zvoneća   HR                     0\n",
       "   4 │     3186263  Zverinac  HR                    43\n",
       "   5 │     3186265  Zvekovac  HR                   193"
      ]
     },
     "execution_count": 135,
     "metadata": {},
     "output_type": "execute_result"
    }
   ],
   "source": [
    "gn_dff[1:5, [:geonames_id, :name, :country_code, :population]]"
   ]
  },
  {
   "cell_type": "code",
   "execution_count": 136,
   "metadata": {},
   "outputs": [
    {
     "data": {
      "text/plain": [
       "(10510, 19)"
      ]
     },
     "execution_count": 136,
     "metadata": {},
     "output_type": "execute_result"
    }
   ],
   "source": [
    "size(gn_dff)"
   ]
  },
  {
   "cell_type": "markdown",
   "metadata": {},
   "source": [
    "Spalte für die Länder_ID einfügen"
   ]
  },
  {
   "cell_type": "code",
   "execution_count": 137,
   "metadata": {},
   "outputs": [],
   "source": [
    "gn_dff = rightjoin(df_country_m, gn_dff, on = :country_code);"
   ]
  },
  {
   "cell_type": "code",
   "execution_count": 138,
   "metadata": {},
   "outputs": [
    {
     "name": "stderr",
     "output_type": "stream",
     "text": [
      "┌ Info: 10000\n",
      "└ @ WiagDataSetup C:\\Users\\georg\\Documents\\projekte\\WiagDataSetup.jl\\src\\WiagDataSetup.jl:1193\n",
      "┌ Info: Rows inserted: 10510\n",
      "└ @ WiagDataSetup C:\\Users\\georg\\Documents\\projekte\\WiagDataSetup.jl\\src\\WiagDataSetup.jl:1216\n"
     ]
    },
    {
     "data": {
      "text/plain": [
       "10510"
      ]
     },
     "execution_count": 138,
     "metadata": {},
     "output_type": "execute_result"
    }
   ],
   "source": [
    "Wds.filltable!(\"place_all\", select(gn_dff, place_cols), clear_table = false)"
   ]
  },
  {
   "cell_type": "markdown",
   "metadata": {},
   "source": [
    "### Orte mit `feature_class` = \"A\""
   ]
  },
  {
   "cell_type": "code",
   "execution_count": 141,
   "metadata": {},
   "outputs": [],
   "source": [
    "sql = \"select gs.id_places, gs.place_name, gs.longitude, gs.latitude,\n",
    "    gs.geonames_id, p.id, feature_class, feature_code, p.country_id\n",
    "    from gs_klosterdatenbank.gs_places as gs\n",
    "    left join wiag_in.place_all as p on p.geonames_id = gs.geonames_id\n",
    "    where feature_class = 'A'\";\n",
    "df_fca = Wds.sql_df(sql);"
   ]
  },
  {
   "cell_type": "code",
   "execution_count": 142,
   "metadata": {},
   "outputs": [
    {
     "data": {
      "text/plain": [
       "(221, 9)"
      ]
     },
     "execution_count": 142,
     "metadata": {},
     "output_type": "execute_result"
    }
   ],
   "source": [
    "size(df_fca)"
   ]
  },
  {
   "cell_type": "code",
   "execution_count": 146,
   "metadata": {},
   "outputs": [
    {
     "data": {
      "text/plain": [
       "\"C:\\\\Users\\\\georg\\\\Documents\\\\projekte-doc\\\\WiagDataSetup\\\\Kloester\\\\places_feature_code_A.csv\""
      ]
     },
     "execution_count": 146,
     "metadata": {},
     "output_type": "execute_result"
    }
   ],
   "source": [
    "fca_file = joinpath(data_path, \"Kloester\", \"places_feature_code_A.csv\");\n",
    "CSV.write(fca_file, df_fca)"
   ]
  },
  {
   "cell_type": "markdown",
   "metadata": {},
   "source": [
    "### Königsberg - Russland"
   ]
  },
  {
   "cell_type": "code",
   "execution_count": null,
   "metadata": {},
   "outputs": [],
   "source": [
    "gn_filename = joinpath(gn_path, \"RU\", \"RU.txt\")"
   ]
  },
  {
   "cell_type": "code",
   "execution_count": null,
   "metadata": {},
   "outputs": [],
   "source": [
    "gn_df = CSV.read(gn_filename, DataFrame, header=gn_header, types=gn_types);"
   ]
  },
  {
   "cell_type": "markdown",
   "metadata": {},
   "source": [
    "filtern nach Art des Features"
   ]
  },
  {
   "cell_type": "code",
   "execution_count": null,
   "metadata": {},
   "outputs": [],
   "source": [
    "gn_dff = filter([:feature_class, :feature_code] => filter_places, gn_df);"
   ]
  },
  {
   "cell_type": "code",
   "execution_count": null,
   "metadata": {},
   "outputs": [],
   "source": [
    "gn_dff[1:5, [:geonames_id, :name, :country_code, :population]]"
   ]
  },
  {
   "cell_type": "code",
   "execution_count": null,
   "metadata": {},
   "outputs": [],
   "source": [
    "size(gn_dff)"
   ]
  },
  {
   "cell_type": "markdown",
   "metadata": {},
   "source": [
    "Extrahiere Königsberg"
   ]
  },
  {
   "cell_type": "code",
   "execution_count": null,
   "metadata": {},
   "outputs": [],
   "source": [
    "gn_dff_kb = filter(:name => isequal(\"Kaliningrad\"), gn_dff)"
   ]
  },
  {
   "cell_type": "markdown",
   "metadata": {},
   "source": [
    "Spalte für die Länder_ID einfügen"
   ]
  },
  {
   "cell_type": "code",
   "execution_count": null,
   "metadata": {},
   "outputs": [],
   "source": [
    "gn_dff_kb = rightjoin(df_country_m, gn_dff_kb, on = :country_code);"
   ]
  },
  {
   "cell_type": "code",
   "execution_count": null,
   "metadata": {},
   "outputs": [],
   "source": [
    "Wds.filltable!(\"place\", gn_dff_kb[!, place_cols], clear_table = false)"
   ]
  },
  {
   "cell_type": "code",
   "execution_count": null,
   "metadata": {},
   "outputs": [],
   "source": [
    "DBInterface.execute(Wds.dbwiag, \"SELECT COUNT(*) FROM place\") |> DataFrame"
   ]
  },
  {
   "cell_type": "markdown",
   "metadata": {},
   "source": [
    "### Fremdsprachliche Namen"
   ]
  },
  {
   "cell_type": "code",
   "execution_count": 17,
   "metadata": {},
   "outputs": [],
   "source": [
    "using CSV, DataFrames, MySQL"
   ]
  },
  {
   "cell_type": "code",
   "execution_count": 18,
   "metadata": {},
   "outputs": [
    {
     "data": {
      "text/plain": [
       "\"C:\\\\Users\\\\georg\\\\Documents\\\\projekte-doc\\\\WiagDataSetup\\\\GeoNames\\\\alternatenames\""
      ]
     },
     "execution_count": 18,
     "metadata": {},
     "output_type": "execute_result"
    }
   ],
   "source": [
    "gnl_path = \"C:\\\\Users\\\\georg\\\\Documents\\\\projekte-doc\\\\WiagDataSetup\\\\GeoNames\\\\alternatenames\""
   ]
  },
  {
   "cell_type": "code",
   "execution_count": 19,
   "metadata": {},
   "outputs": [],
   "source": [
    "gnl_header = [\"id\", \"geonames_id\", \"lang\", \"label\", \n",
    "              \"is_preferred\", \"isShort\", \"isColloquial\", \"is_historic\", \"from\", \"to\"];\n",
    "\n",
    "gnl_types = [Int, Int, String, String,\n",
    "             Int, Int, Int, Int, String, String];"
   ]
  },
  {
   "cell_type": "code",
   "execution_count": 20,
   "metadata": {},
   "outputs": [],
   "source": [
    "lang_codes = [\"la\", \"fr\", \"cz\", \"de\", \"pl\", \"en\", \"nl\", \"it\"];"
   ]
  },
  {
   "cell_type": "code",
   "execution_count": 21,
   "metadata": {},
   "outputs": [
    {
     "data": {
      "text/plain": [
       "filter_lang (generic function with 1 method)"
      ]
     },
     "execution_count": 21,
     "metadata": {},
     "output_type": "execute_result"
    }
   ],
   "source": [
    "filter_lang(lc) = !ismissing(lc) && lc in lang_codes"
   ]
  },
  {
   "cell_type": "code",
   "execution_count": 22,
   "metadata": {},
   "outputs": [],
   "source": [
    "country_codes = [\"DE\", \"NL\", \"BE\", \"FR\", \"IT\", \"CH\", \"AT\", \"DK\",\n",
    "    \"PL\", \"LU\", \"CZ\", \"LI\", \"LV\", \"LT\", \"HR\", \"EE\", \"RU\"];"
   ]
  },
  {
   "cell_type": "markdown",
   "metadata": {},
   "source": [
    "### Schleife über die Länder"
   ]
  },
  {
   "cell_type": "markdown",
   "metadata": {},
   "source": [
    "Orte einlesen, um nur relevante Namen zu übernehmen"
   ]
  },
  {
   "cell_type": "code",
   "execution_count": 287,
   "metadata": {},
   "outputs": [],
   "source": [
    "sql = \"SELECT id as place_id, name, geonames_id \" *\n",
    "      \"FROM place WHERE place_type_id = 1\"\n",
    "p_df = DBInterface.execute(Wds.dbwiag, sql) |> DataFrame;"
   ]
  },
  {
   "cell_type": "code",
   "execution_count": 290,
   "metadata": {},
   "outputs": [
    {
     "data": {
      "text/plain": [
       "(391240, 3)"
      ]
     },
     "execution_count": 290,
     "metadata": {},
     "output_type": "execute_result"
    }
   ],
   "source": [
    "size(p_df)"
   ]
  },
  {
   "cell_type": "code",
   "execution_count": 291,
   "metadata": {},
   "outputs": [
    {
     "data": {
      "text/plain": [
       "labels_by_country (generic function with 1 method)"
      ]
     },
     "execution_count": 291,
     "metadata": {},
     "output_type": "execute_result"
    }
   ],
   "source": [
    "function labels_by_country(cc)\n",
    "    gnl_filename = joinpath(gnl_path, cc, cc * \".txt\")\n",
    "    gnl_df = CSV.read(gnl_filename, DataFrame, header=gnl_header, types=gnl_types);\n",
    "    gnl_df = filter(:lang => filter_lang, gnl_df);\n",
    "    gnl_p_df = innerjoin(gnl_df, p_df, on = :geonames_id);\n",
    "    @info cc\n",
    "    n_cc = Wds.filltable!(\"place_label\", select(gnl_p_df, Not([:isShort, :isColloquial, :from, :to, :name])))    \n",
    "end\n",
    "    "
   ]
  },
  {
   "cell_type": "code",
   "execution_count": 294,
   "metadata": {},
   "outputs": [
    {
     "name": "stderr",
     "output_type": "stream",
     "text": [
      "┌ Info: DE\n",
      "└ @ Main In[291]:6\n",
      "┌ Info: Rows inserted: 4364\n",
      "└ @ WiagDataSetup C:\\Users\\georg\\Documents\\projekte\\WiagDataSetup.jl\\src\\WiagDataSetup.jl:1209\n",
      "┌ Info: NL\n",
      "└ @ Main In[291]:6\n",
      "┌ Info: Rows inserted: 1848\n",
      "└ @ WiagDataSetup C:\\Users\\georg\\Documents\\projekte\\WiagDataSetup.jl\\src\\WiagDataSetup.jl:1209\n",
      "┌ Info: BE\n",
      "└ @ Main In[291]:6\n",
      "┌ Info: Rows inserted: 862\n",
      "└ @ WiagDataSetup C:\\Users\\georg\\Documents\\projekte\\WiagDataSetup.jl\\src\\WiagDataSetup.jl:1209\n",
      "┌ Info: FR\n",
      "└ @ Main In[291]:6\n",
      "┌ Info: 10000\n",
      "└ @ WiagDataSetup C:\\Users\\georg\\Documents\\projekte\\WiagDataSetup.jl\\src\\WiagDataSetup.jl:1186\n",
      "┌ Info: 20000\n",
      "└ @ WiagDataSetup C:\\Users\\georg\\Documents\\projekte\\WiagDataSetup.jl\\src\\WiagDataSetup.jl:1186\n",
      "┌ Info: 30000\n",
      "└ @ WiagDataSetup C:\\Users\\georg\\Documents\\projekte\\WiagDataSetup.jl\\src\\WiagDataSetup.jl:1186\n",
      "┌ Info: Rows inserted: 33108\n",
      "└ @ WiagDataSetup C:\\Users\\georg\\Documents\\projekte\\WiagDataSetup.jl\\src\\WiagDataSetup.jl:1209\n",
      "┌ Info: IT\n",
      "└ @ Main In[291]:6\n",
      "┌ Info: 10000\n",
      "└ @ WiagDataSetup C:\\Users\\georg\\Documents\\projekte\\WiagDataSetup.jl\\src\\WiagDataSetup.jl:1186\n",
      "┌ Info: 20000\n",
      "└ @ WiagDataSetup C:\\Users\\georg\\Documents\\projekte\\WiagDataSetup.jl\\src\\WiagDataSetup.jl:1186\n",
      "┌ Info: 30000\n",
      "└ @ WiagDataSetup C:\\Users\\georg\\Documents\\projekte\\WiagDataSetup.jl\\src\\WiagDataSetup.jl:1186\n",
      "┌ Info: Rows inserted: 32162\n",
      "└ @ WiagDataSetup C:\\Users\\georg\\Documents\\projekte\\WiagDataSetup.jl\\src\\WiagDataSetup.jl:1209\n",
      "┌ Info: CH\n",
      "└ @ Main In[291]:6\n",
      "┌ Info: Rows inserted: 6277\n",
      "└ @ WiagDataSetup C:\\Users\\georg\\Documents\\projekte\\WiagDataSetup.jl\\src\\WiagDataSetup.jl:1209\n",
      "┌ Info: AT\n",
      "└ @ Main In[291]:6\n",
      "┌ Info: Rows inserted: 728\n",
      "└ @ WiagDataSetup C:\\Users\\georg\\Documents\\projekte\\WiagDataSetup.jl\\src\\WiagDataSetup.jl:1209\n",
      "┌ Info: DK\n",
      "└ @ Main In[291]:6\n",
      "┌ Info: Rows inserted: 669\n",
      "└ @ WiagDataSetup C:\\Users\\georg\\Documents\\projekte\\WiagDataSetup.jl\\src\\WiagDataSetup.jl:1209\n",
      "┌ Info: PL\n",
      "└ @ Main In[291]:6\n",
      "┌ Info: Rows inserted: 3859\n",
      "└ @ WiagDataSetup C:\\Users\\georg\\Documents\\projekte\\WiagDataSetup.jl\\src\\WiagDataSetup.jl:1209\n",
      "┌ Info: LU\n",
      "└ @ Main In[291]:6\n",
      "┌ Info: Rows inserted: 203\n",
      "└ @ WiagDataSetup C:\\Users\\georg\\Documents\\projekte\\WiagDataSetup.jl\\src\\WiagDataSetup.jl:1209\n",
      "┌ Info: CZ\n",
      "└ @ Main In[291]:6\n",
      "┌ Info: Rows inserted: 1240\n",
      "└ @ WiagDataSetup C:\\Users\\georg\\Documents\\projekte\\WiagDataSetup.jl\\src\\WiagDataSetup.jl:1209\n",
      "┌ Info: LI\n",
      "└ @ Main In[291]:6\n",
      "┌ Info: Rows inserted: 72\n",
      "└ @ WiagDataSetup C:\\Users\\georg\\Documents\\projekte\\WiagDataSetup.jl\\src\\WiagDataSetup.jl:1209\n",
      "┌ Info: LV\n",
      "└ @ Main In[291]:6\n",
      "┌ Info: Rows inserted: 529\n",
      "└ @ WiagDataSetup C:\\Users\\georg\\Documents\\projekte\\WiagDataSetup.jl\\src\\WiagDataSetup.jl:1209\n",
      "┌ Info: LT\n",
      "└ @ Main In[291]:6\n",
      "┌ Info: Rows inserted: 787\n",
      "└ @ WiagDataSetup C:\\Users\\georg\\Documents\\projekte\\WiagDataSetup.jl\\src\\WiagDataSetup.jl:1209\n",
      "┌ Info: HR\n",
      "└ @ Main In[291]:6\n",
      "┌ Info: Rows inserted: 481\n",
      "└ @ WiagDataSetup C:\\Users\\georg\\Documents\\projekte\\WiagDataSetup.jl\\src\\WiagDataSetup.jl:1209\n",
      "┌ Info: EE\n",
      "└ @ Main In[291]:6\n",
      "┌ Info: Rows inserted: 663\n",
      "└ @ WiagDataSetup C:\\Users\\georg\\Documents\\projekte\\WiagDataSetup.jl\\src\\WiagDataSetup.jl:1209\n",
      "┌ Info: RU\n",
      "└ @ Main In[291]:6\n",
      "┌ Info: Rows inserted: 11\n",
      "└ @ WiagDataSetup C:\\Users\\georg\\Documents\\projekte\\WiagDataSetup.jl\\src\\WiagDataSetup.jl:1209\n"
     ]
    },
    {
     "data": {
      "text/plain": [
       "17-element Vector{Int64}:\n",
       "  4364\n",
       "  1848\n",
       "   862\n",
       " 33108\n",
       " 32162\n",
       "  6277\n",
       "   728\n",
       "   669\n",
       "  3859\n",
       "   203\n",
       "  1240\n",
       "    72\n",
       "   529\n",
       "   787\n",
       "   481\n",
       "   663\n",
       "    11"
      ]
     },
     "execution_count": 294,
     "metadata": {},
     "output_type": "execute_result"
    }
   ],
   "source": [
    "labels_by_country.(country_codes)"
   ]
  },
  {
   "cell_type": "code",
   "execution_count": null,
   "metadata": {},
   "outputs": [],
   "source": []
  },
  {
   "cell_type": "markdown",
   "metadata": {},
   "source": [
    "### Deutsche Namen eintragen\n",
    "\n",
    "Trage in `place` für Orte in Deutschland, Österreich und der Schweiz den deutschen Namen ein."
   ]
  },
  {
   "cell_type": "code",
   "execution_count": null,
   "metadata": {},
   "outputs": [],
   "source": [
    "using MySQL, DataFrames"
   ]
  },
  {
   "cell_type": "code",
   "execution_count": null,
   "metadata": {},
   "outputs": [],
   "source": [
    "db_exec(sql) = DBInterface.execute(Wds.dbwiag, sql) |> DataFrame"
   ]
  },
  {
   "cell_type": "code",
   "execution_count": null,
   "metadata": {},
   "outputs": [],
   "source": [
    "sql = \"SELECT label, p.name FROM place_label AS pl \" *\n",
    "\"JOIN place AS p ON pl.geonames_id = p.geonames_id \" *\n",
    "\"WHERE pl.lang = 'de' AND p.country_code = 'DE' \" *\n",
    "\"AND pl.label <> p.name \" *\n",
    "\"LIMIT 12\"\n",
    "df_name_udt = db_exec(sql)"
   ]
  },
  {
   "cell_type": "code",
   "execution_count": null,
   "metadata": {},
   "outputs": [],
   "source": [
    "sql = \"SELECT count(*) FROM place_label AS pl \" *\n",
    "\"JOIN place AS p ON pl.geonames_id = p.geonames_id \" *\n",
    "\"WHERE pl.lang = 'de' AND p.country_code = 'DE' \" *\n",
    "\"AND pl.label <> p.name \"\n",
    "n = db_exec(sql)"
   ]
  },
  {
   "cell_type": "markdown",
   "metadata": {},
   "source": [
    "Es scheint im Allgemeinen keine gute Idee zu sein, generell den deutschen Eintrag aus `place_label` zu übernehmen. Man wird einzelne Orte evtl. redaktionell bearbeiten müssen, indem man einen deutschen Namen in `place_label` als bevorzugten Namen auszeichnet."
   ]
  },
  {
   "cell_type": "markdown",
   "metadata": {},
   "source": [
    "## Neue Organisation der Orte\n",
    "Unterscheide Orte nach ihren Quellen (analog zu Items) (Tabelle `place_type`)"
   ]
  },
  {
   "cell_type": "markdown",
   "metadata": {},
   "source": [
    "### Tabelle `place_type`\n",
    "über DbSchema"
   ]
  },
  {
   "cell_type": "code",
   "execution_count": null,
   "metadata": {},
   "outputs": [],
   "source": [
    "out_path = \"C:\\\\Users\\\\georg\\\\Documents\\\\projekte-doc\\\\WiagDataSetup\\\\data_sql\""
   ]
  },
  {
   "cell_type": "code",
   "execution_count": 11,
   "metadata": {},
   "outputs": [],
   "source": [
    "using DataFrames, Dates"
   ]
  },
  {
   "cell_type": "code",
   "execution_count": 12,
   "metadata": {},
   "outputs": [],
   "source": [
    "df_place_type = DataFrame();"
   ]
  },
  {
   "cell_type": "code",
   "execution_count": 13,
   "metadata": {},
   "outputs": [
    {
     "data": {
      "text/html": [
       "<div class=\"data-frame\"><p>1 rows × 9 columns (omitted printing of 3 columns)</p><table class=\"data-frame\"><thead><tr><th></th><th>id</th><th>name</th><th>note</th><th>created_by</th><th>date_created</th><th>changed_by</th></tr><tr><th></th><th title=\"Int64\">Int64</th><th title=\"String\">String</th><th title=\"String\">String</th><th title=\"Int64\">Int64</th><th title=\"DateTime\">DateTime</th><th title=\"Int64\">Int64</th></tr></thead><tbody><tr><th>1</th><td>1</td><td>Ort GN</td><td>Orte aus GeoNames</td><td>7</td><td>2022-04-11T09:06:26.483</td><td>7</td></tr></tbody></table></div>"
      ],
      "text/latex": [
       "\\begin{tabular}{r|ccccccc}\n",
       "\t& id & name & note & created\\_by & date\\_created & changed\\_by & \\\\\n",
       "\t\\hline\n",
       "\t& Int64 & String & String & Int64 & DateTime & Int64 & \\\\\n",
       "\t\\hline\n",
       "\t1 & 1 & Ort GN & Orte aus GeoNames & 7 & 2022-04-11T09:06:26.483 & 7 & $\\dots$ \\\\\n",
       "\\end{tabular}\n"
      ],
      "text/plain": [
       "\u001b[1m1×9 DataFrame\u001b[0m\n",
       "\u001b[1m Row \u001b[0m│\u001b[1m id    \u001b[0m\u001b[1m name   \u001b[0m\u001b[1m note              \u001b[0m\u001b[1m created_by \u001b[0m\u001b[1m date_created            \u001b[0m\u001b[1m \u001b[0m ⋯\n",
       "\u001b[1m     \u001b[0m│\u001b[90m Int64 \u001b[0m\u001b[90m String \u001b[0m\u001b[90m String            \u001b[0m\u001b[90m Int64      \u001b[0m\u001b[90m DateTime                \u001b[0m\u001b[90m \u001b[0m ⋯\n",
       "─────┼──────────────────────────────────────────────────────────────────────────\n",
       "   1 │     1  Ort GN  Orte aus GeoNames           7  2022-04-11T09:06:26.483   ⋯\n",
       "\u001b[36m                                                               4 columns omitted\u001b[0m"
      ]
     },
     "execution_count": 13,
     "metadata": {},
     "output_type": "execute_result"
    }
   ],
   "source": [
    "insertcols!(df_place_type,\n",
    "    :id => [1],\n",
    "    :name => [\"Ort GN\"],\n",
    "    :note => [\"Orte aus GeoNames\"],\n",
    "    :created_by => 7,\n",
    "    :date_created => now(),\n",
    "    :changed_by => 7,\n",
    "    :date_changed => now(),\n",
    "    :table_name => \"place\",\n",
    "    :name_app => \"place\",\n",
    ")"
   ]
  },
  {
   "cell_type": "code",
   "execution_count": 14,
   "metadata": {},
   "outputs": [
    {
     "data": {
      "text/plain": [
       "(id = 2, name = \"Ort Utrecht\", note = \"Orte der Priester aus Utrecht\", created_by = 7, date_created = DateTime(\"2022-04-11T09:06:29.865\"), changed_by = 7, date_changed = DateTime(\"2022-04-11T09:06:29.865\"), table_name = \"place\", name_app = \"place_ut\")"
      ]
     },
     "execution_count": 14,
     "metadata": {},
     "output_type": "execute_result"
    }
   ],
   "source": [
    "rec_place_ut = (\n",
    "    id = 2,\n",
    "    name = \"Ort Utrecht\",\n",
    "    note = \"Orte der Priester aus Utrecht\",\n",
    "    created_by = 7,\n",
    "    date_created = now(),\n",
    "    changed_by = 7,\n",
    "    date_changed = now(),\n",
    "    table_name = \"place\",\n",
    "    name_app = \"place_ut\",\n",
    ")"
   ]
  },
  {
   "cell_type": "code",
   "execution_count": 15,
   "metadata": {},
   "outputs": [
    {
     "data": {
      "text/html": [
       "<div class=\"data-frame\"><p>2 rows × 9 columns (omitted printing of 4 columns)</p><table class=\"data-frame\"><thead><tr><th></th><th>id</th><th>name</th><th>note</th><th>created_by</th><th>date_created</th></tr><tr><th></th><th title=\"Int64\">Int64</th><th title=\"String\">String</th><th title=\"String\">String</th><th title=\"Int64\">Int64</th><th title=\"DateTime\">DateTime</th></tr></thead><tbody><tr><th>1</th><td>1</td><td>Ort GN</td><td>Orte aus GeoNames</td><td>7</td><td>2022-04-11T09:06:26.483</td></tr><tr><th>2</th><td>2</td><td>Ort Utrecht</td><td>Orte der Priester aus Utrecht</td><td>7</td><td>2022-04-11T09:06:29.865</td></tr></tbody></table></div>"
      ],
      "text/latex": [
       "\\begin{tabular}{r|cccccc}\n",
       "\t& id & name & note & created\\_by & date\\_created & \\\\\n",
       "\t\\hline\n",
       "\t& Int64 & String & String & Int64 & DateTime & \\\\\n",
       "\t\\hline\n",
       "\t1 & 1 & Ort GN & Orte aus GeoNames & 7 & 2022-04-11T09:06:26.483 & $\\dots$ \\\\\n",
       "\t2 & 2 & Ort Utrecht & Orte der Priester aus Utrecht & 7 & 2022-04-11T09:06:29.865 & $\\dots$ \\\\\n",
       "\\end{tabular}\n"
      ],
      "text/plain": [
       "\u001b[1m2×9 DataFrame\u001b[0m\n",
       "\u001b[1m Row \u001b[0m│\u001b[1m id    \u001b[0m\u001b[1m name        \u001b[0m\u001b[1m note                          \u001b[0m\u001b[1m created_by \u001b[0m\u001b[1m date_cre\u001b[0m ⋯\n",
       "\u001b[1m     \u001b[0m│\u001b[90m Int64 \u001b[0m\u001b[90m String      \u001b[0m\u001b[90m String                        \u001b[0m\u001b[90m Int64      \u001b[0m\u001b[90m DateTime\u001b[0m ⋯\n",
       "─────┼──────────────────────────────────────────────────────────────────────────\n",
       "   1 │     1  Ort GN       Orte aus GeoNames                       7  2022-04- ⋯\n",
       "   2 │     2  Ort Utrecht  Orte der Priester aus Utrecht           7  2022-04-\n",
       "\u001b[36m                                                               5 columns omitted\u001b[0m"
      ]
     },
     "execution_count": 15,
     "metadata": {},
     "output_type": "execute_result"
    }
   ],
   "source": [
    "push!(df_place_type, rec_place_ut)"
   ]
  },
  {
   "cell_type": "code",
   "execution_count": 16,
   "metadata": {},
   "outputs": [
    {
     "name": "stderr",
     "output_type": "stream",
     "text": [
      "┌ Info: Rows inserted: 2\n",
      "└ @ WiagDataSetup C:\\Users\\georg\\Documents\\projekte\\WiagDataSetup.jl\\src\\WiagDataSetup.jl:1209\n"
     ]
    },
    {
     "data": {
      "text/plain": [
       "2"
      ]
     },
     "execution_count": 16,
     "metadata": {},
     "output_type": "execute_result"
    }
   ],
   "source": [
    "table_name = \"place_type\";\n",
    "Wds.filltable!(table_name, df_place_type)"
   ]
  },
  {
   "cell_type": "markdown",
   "metadata": {},
   "source": [
    "`place_type_id` nachtragen\n",
    "```sql\n",
    "UPDATE place SET place_type_id = 1;\n",
    "```"
   ]
  },
  {
   "cell_type": "markdown",
   "metadata": {},
   "source": [
    "`id_in_source` nachtragen\n",
    "```sql\n",
    "UPDATE place SET id_in_source = geonames_id;\n",
    "```"
   ]
  },
  {
   "cell_type": "markdown",
   "metadata": {},
   "source": [
    "`geonames_id` als Index ersetzen durch `place_id`"
   ]
  },
  {
   "cell_type": "markdown",
   "metadata": {},
   "source": [
    "```sql\n",
    "UPDATE place_label AS pll, (SELECT id, geonames_id FROM place) as p\n",
    "SET pll.place_id = p.id\n",
    "WHERE pll.geonames_id = p.geonames_id;\n",
    "```"
   ]
  },
  {
   "cell_type": "markdown",
   "metadata": {},
   "source": [
    "Einträge in `place_label` löschen, die sich auf Länder, Kantone, Bundesländer und also nicht auf Orte beziehen"
   ]
  },
  {
   "cell_type": "markdown",
   "metadata": {},
   "source": [
    "```sql\n",
    "DELETE FROM place_label WHERE place_id IS NULL;\n",
    "```"
   ]
  },
  {
   "cell_type": "markdown",
   "metadata": {},
   "source": [
    "In `place_label` die Namen aus der GeoNames Ortetabelle übernehmen, wie von bk vorgeschlagen.  \n",
    "Die Einträge haben dann keine Angabe für die Sprache, weil die Angaben in der Quelle fehlt."
   ]
  },
  {
   "cell_type": "markdown",
   "metadata": {},
   "source": [
    "```sql\n",
    "UPDATE place_label SET is_geonames_name = false;\n",
    "```"
   ]
  },
  {
   "cell_type": "markdown",
   "metadata": {},
   "source": [
    "```sql\n",
    "INSERT INTO place_label (SELECT NULL, geonames_id, name, NULL, 0, 0, id, 1 FROM place where place_type_id = 1);\n",
    "```"
   ]
  }
 ],
 "metadata": {
  "kernelspec": {
   "display_name": "Julia 1.8.2",
   "language": "julia",
   "name": "julia-1.8"
  },
  "language_info": {
   "file_extension": ".jl",
   "mimetype": "application/julia",
   "name": "julia",
   "version": "1.8.2"
  }
 },
 "nbformat": 4,
 "nbformat_minor": 4
}
