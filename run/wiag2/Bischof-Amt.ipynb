{
 "cells": [
  {
   "cell_type": "markdown",
   "metadata": {},
   "source": [
    "# Wissensaggregator Mittelalter und frühe Neuzeit\n",
    "\n",
    "## Daten für Ämter der Bischöfe einlesen\n",
    "\n",
    "Übertrage Daten aus Access. Die Daten werden aus Access via ODBC in eine Transfer-Datenbank geschrieben: `bischof.tbl_bischoefe_gatz` und `bischof.tbl_bischoefe_gatzaemter`. Alternativ werden die Daten in CSV-Dateien geschrieben und von dort aus hier eingelesen.\n",
    "\n",
    "[Amt](#Amt)  \n",
    "[Amtsperiode](#Amtsperiode)  \n",
    "[Zeitspanne der Person](#Zeitspanne-der-Person)  \n",
    "[Sortierung der Person nach Amt](#Sortierung-der-Person-nach-Amt)\n",
    "\n",
    "\n",
    "\n"
   ]
  },
  {
   "cell_type": "markdown",
   "metadata": {},
   "source": [
    "Vorspann: Pakete laden; mit der Datenbank verbinden"
   ]
  },
  {
   "cell_type": "code",
   "execution_count": 1,
   "metadata": {},
   "outputs": [
    {
     "data": {
      "text/plain": [
       "\"../..\""
      ]
     },
     "execution_count": 1,
     "metadata": {},
     "output_type": "execute_result"
    }
   ],
   "source": [
    "wds_path = \"../..\""
   ]
  },
  {
   "cell_type": "code",
   "execution_count": 2,
   "metadata": {},
   "outputs": [],
   "source": [
    "cd(wds_path)"
   ]
  },
  {
   "cell_type": "code",
   "execution_count": 3,
   "metadata": {},
   "outputs": [],
   "source": [
    "using Pkg"
   ]
  },
  {
   "cell_type": "code",
   "execution_count": 4,
   "metadata": {},
   "outputs": [
    {
     "name": "stderr",
     "output_type": "stream",
     "text": [
      "\u001b[32m\u001b[1m  Activating\u001b[22m\u001b[39m project at `C:\\Users\\georg\\Documents\\projekte\\WiagDataSetup.jl`\n"
     ]
    }
   ],
   "source": [
    "Pkg.activate(\".\")"
   ]
  },
  {
   "cell_type": "code",
   "execution_count": 5,
   "metadata": {},
   "outputs": [],
   "source": [
    "using Revise, MySQL"
   ]
  },
  {
   "cell_type": "code",
   "execution_count": 6,
   "metadata": {},
   "outputs": [],
   "source": [
    "using WiagDataSetup"
   ]
  },
  {
   "cell_type": "code",
   "execution_count": 7,
   "metadata": {},
   "outputs": [],
   "source": [
    "using MySQL, DataFrames, CSV"
   ]
  },
  {
   "cell_type": "code",
   "execution_count": 8,
   "metadata": {},
   "outputs": [
    {
     "data": {
      "text/plain": [
       "WiagDataSetup"
      ]
     },
     "execution_count": 8,
     "metadata": {},
     "output_type": "execute_result"
    }
   ],
   "source": [
    "Wds = WiagDataSetup"
   ]
  },
  {
   "cell_type": "code",
   "execution_count": 9,
   "metadata": {},
   "outputs": [
    {
     "name": "stdout",
     "output_type": "stream",
     "text": [
      "Passwort für User georg: ········\n"
     ]
    },
    {
     "data": {
      "text/plain": [
       "MySQL.Connection(host=\"127.0.0.1\", user=\"georg\", port=\"3306\", db=\"wiag2\")"
      ]
     },
     "execution_count": 9,
     "metadata": {},
     "output_type": "execute_result"
    }
   ],
   "source": [
    "Wds.setDBWIAG(user=\"georg\", db=\"wiag2\")"
   ]
  },
  {
   "cell_type": "code",
   "execution_count": 12,
   "metadata": {},
   "outputs": [
    {
     "data": {
      "text/plain": [
       "\"C:\\\\Users\\\\georg\\\\Documents\\\\projekte-doc\\\\WIAGweb2\\\\data\\\\bischoefe-2022-05-18\""
      ]
     },
     "execution_count": 12,
     "metadata": {},
     "output_type": "execute_result"
    }
   ],
   "source": [
    "data_path = \"C:\\\\Users\\\\georg\\\\Documents\\\\projekte-doc\\\\WIAGweb2\\\\data\\\\bischoefe-2022-05-18\""
   ]
  },
  {
   "cell_type": "code",
   "execution_count": 13,
   "metadata": {},
   "outputs": [
    {
     "data": {
      "text/plain": [
       "4"
      ]
     },
     "execution_count": 13,
     "metadata": {},
     "output_type": "execute_result"
    }
   ],
   "source": [
    "item_type_id = 4"
   ]
  },
  {
   "cell_type": "code",
   "execution_count": 14,
   "metadata": {},
   "outputs": [
    {
     "data": {
      "text/plain": [
       "120"
      ]
     },
     "execution_count": 14,
     "metadata": {},
     "output_type": "execute_result"
    }
   ],
   "source": [
    "ENV[\"COLUMNS\"] = 120"
   ]
  },
  {
   "cell_type": "markdown",
   "metadata": {},
   "source": [
    "*2022-01-13* Für die offizielle Liste der Ämter gibt es inzwischen eine Liste: `domherr.tbl_aemterliste_normiert`. Die Ämter der Bischöfe sind neu zuzuordnen."
   ]
  },
  {
   "cell_type": "markdown",
   "metadata": {},
   "source": [
    "## Amtsperiode"
   ]
  },
  {
   "cell_type": "code",
   "execution_count": 10,
   "metadata": {},
   "outputs": [],
   "source": [
    "# Quelle Datenbank\n",
    "sql = \"SELECT * FROM bischof.tbl_bischoefe_gatzaemter\"\n",
    "df_pr = Wds.sql_df(sql);"
   ]
  },
  {
   "cell_type": "code",
   "execution_count": 10,
   "metadata": {},
   "outputs": [],
   "source": [
    "using CSV, DataFrames"
   ]
  },
  {
   "cell_type": "code",
   "execution_count": 54,
   "metadata": {},
   "outputs": [],
   "source": [
    "# Quelle CSV\n",
    "filename = joinpath(data_path, \"tbl_bischoefe_gatzaemter.csv\");\n",
    "df_pr = CSV.read(filename, DataFrame, stringtype = String);"
   ]
  },
  {
   "cell_type": "code",
   "execution_count": 55,
   "metadata": {},
   "outputs": [
    {
     "data": {
      "text/plain": [
       "(7339, 15)"
      ]
     },
     "execution_count": 55,
     "metadata": {},
     "output_type": "execute_result"
    }
   ],
   "source": [
    "size(df_pr)"
   ]
  },
  {
   "cell_type": "code",
   "execution_count": 56,
   "metadata": {},
   "outputs": [
    {
     "data": {
      "text/plain": [
       "15-element Vector{String}:\n",
       " \"Bistum\"\n",
       " \"Amtsart\"\n",
       " \"Amtsbeginn\"\n",
       " \"Amtsende\"\n",
       " \"ID_Amt\"\n",
       " \"ID_Bischof\"\n",
       " \"Institution\"\n",
       " \"Amt_weltlich\"\n",
       " \"Herrschaftsgebiet\"\n",
       " \"Ort\"\n",
       " \"Amt_Kommentar\"\n",
       " \"Sort\"\n",
       " \"Titularbistum\"\n",
       " \"Profession\"\n",
       " \"id_gsn\""
      ]
     },
     "execution_count": 56,
     "metadata": {},
     "output_type": "execute_result"
    }
   ],
   "source": [
    "names(df_pr)"
   ]
  },
  {
   "cell_type": "markdown",
   "metadata": {},
   "source": [
    "nicht befüllt:\n",
    "- Herrschafsgebiet\n",
    "- Institution\n",
    "- Amt_weltlich\n",
    "- Profession\n",
    "- Ort"
   ]
  },
  {
   "cell_type": "markdown",
   "metadata": {},
   "source": [
    "### Bischöfe zuordnen"
   ]
  },
  {
   "cell_type": "code",
   "execution_count": 57,
   "metadata": {},
   "outputs": [],
   "source": [
    "transform!(df_pr, :ID_Bischof => ByRow(string) => :id_in_source);"
   ]
  },
  {
   "cell_type": "code",
   "execution_count": 58,
   "metadata": {},
   "outputs": [],
   "source": [
    "bishop_item_type = 4;\n",
    "sql = \"SELECT id AS person_id, id_in_source FROM item WHERE item_type_id = $(bishop_item_type)\";\n",
    "df_idx = Wds.sql_df(sql);"
   ]
  },
  {
   "cell_type": "code",
   "execution_count": 59,
   "metadata": {},
   "outputs": [],
   "source": [
    "df_prp = leftjoin(df_pr, df_idx, on = :id_in_source);"
   ]
  },
  {
   "cell_type": "code",
   "execution_count": 60,
   "metadata": {},
   "outputs": [
    {
     "data": {
      "text/plain": [
       "(7339, 17)"
      ]
     },
     "execution_count": 60,
     "metadata": {},
     "output_type": "execute_result"
    }
   ],
   "source": [
    "size(df_prp)"
   ]
  },
  {
   "cell_type": "markdown",
   "metadata": {},
   "source": [
    "Amtsangaben ohne Bezug zu einem Bischof"
   ]
  },
  {
   "cell_type": "code",
   "execution_count": 61,
   "metadata": {},
   "outputs": [
    {
     "data": {
      "text/html": [
       "<div class=\"data-frame\"><p>19 rows × 17 columns (omitted printing of 8 columns)</p><table class=\"data-frame\"><thead><tr><th></th><th>Bistum</th><th>Amtsart</th><th>Amtsbeginn</th><th>Amtsende</th><th>ID_Amt</th><th>ID_Bischof</th><th>Institution</th><th>Amt_weltlich</th><th>Herrschaftsgebiet</th></tr><tr><th></th><th title=\"Union{Missing, String}\">String?</th><th title=\"String\">String</th><th title=\"Union{Missing, String}\">String?</th><th title=\"Union{Missing, String}\">String?</th><th title=\"Int64\">Int64</th><th title=\"Int64\">Int64</th><th title=\"Missing\">Missing</th><th title=\"Missing\">Missing</th><th title=\"Missing\">Missing</th></tr></thead><tbody><tr><th>1</th><td>Brixen</td><td>Weihbischof</td><td>1379</td><td>1387</td><td>22075</td><td>21066</td><td><em>missing</em></td><td><em>missing</em></td><td><em>missing</em></td></tr><tr><th>2</th><td>Chur</td><td>Weihbischof</td><td>um 1289</td><td>1294</td><td>22087</td><td>21078</td><td><em>missing</em></td><td><em>missing</em></td><td><em>missing</em></td></tr><tr><th>3</th><td>Eichstätt</td><td>Weihbischof</td><td>1340</td><td><em>missing</em></td><td>22102</td><td>21093</td><td><em>missing</em></td><td><em>missing</em></td><td><em>missing</em></td></tr><tr><th>4</th><td>Halberstadt</td><td>Weihbischof</td><td>1420</td><td>1436</td><td>22144</td><td>21135</td><td><em>missing</em></td><td><em>missing</em></td><td><em>missing</em></td></tr><tr><th>5</th><td>Köln</td><td>Weihbischof</td><td>1228</td><td><em>missing</em></td><td>22173</td><td>21164</td><td><em>missing</em></td><td><em>missing</em></td><td><em>missing</em></td></tr><tr><th>6</th><td>Köln</td><td>Weihbischof</td><td>1352</td><td>1364</td><td>22184</td><td>21175</td><td><em>missing</em></td><td><em>missing</em></td><td><em>missing</em></td></tr><tr><th>7</th><td>Konstanz</td><td>Weihbischof</td><td>1289</td><td>1294 (1299 ?)</td><td>22198</td><td>21189</td><td><em>missing</em></td><td><em>missing</em></td><td><em>missing</em></td></tr><tr><th>8</th><td>Leitomischl</td><td>Weihbischof</td><td>1361</td><td><em>missing</em></td><td>22238</td><td>21229</td><td><em>missing</em></td><td><em>missing</em></td><td><em>missing</em></td></tr><tr><th>9</th><td>Lüttich</td><td>Weihbischof</td><td>1233</td><td><em>missing</em></td><td>22243</td><td>21234</td><td><em>missing</em></td><td><em>missing</em></td><td><em>missing</em></td></tr><tr><th>10</th><td>Lüttich</td><td>Weihbischof</td><td>1242</td><td>1260</td><td>22244</td><td>21235</td><td><em>missing</em></td><td><em>missing</em></td><td><em>missing</em></td></tr><tr><th>11</th><td>Regensburg</td><td>Weihbischof</td><td>um 1325</td><td><em>missing</em></td><td>22398</td><td>21389</td><td><em>missing</em></td><td><em>missing</em></td><td><em>missing</em></td></tr><tr><th>12</th><td>Regensburg</td><td>Weihbischof</td><td>um 1372</td><td><em>missing</em></td><td>22401</td><td>21392</td><td><em>missing</em></td><td><em>missing</em></td><td><em>missing</em></td></tr><tr><th>13</th><td>Straßburg</td><td>Weihbischof</td><td>1372</td><td>1381</td><td>22438</td><td>21429</td><td><em>missing</em></td><td><em>missing</em></td><td><em>missing</em></td></tr><tr><th>14</th><td>Utrecht</td><td>Weihbischof</td><td>1310</td><td><em>missing</em></td><td>22497</td><td>21488</td><td><em>missing</em></td><td><em>missing</em></td><td><em>missing</em></td></tr><tr><th>15</th><td>Breslau</td><td>Weihbischof</td><td>seit 1442</td><td><em>missing</em></td><td>22801</td><td>21596</td><td><em>missing</em></td><td><em>missing</em></td><td><em>missing</em></td></tr><tr><th>16</th><td>Olmütz</td><td>Weihbischof</td><td>seit 1442</td><td><em>missing</em></td><td>22802</td><td>21596</td><td><em>missing</em></td><td><em>missing</em></td><td><em>missing</em></td></tr><tr><th>17</th><td>Nizza</td><td>Bischof</td><td>1462</td><td><em>missing</em></td><td>22816</td><td>21608</td><td><em>missing</em></td><td><em>missing</em></td><td><em>missing</em></td></tr><tr><th>18</th><td>Toul</td><td>Weihbischof</td><td><em>missing</em></td><td><em>missing</em></td><td>22942</td><td>21679</td><td><em>missing</em></td><td><em>missing</em></td><td><em>missing</em></td></tr><tr><th>19</th><td>Prag</td><td>Generalvikar</td><td>1670</td><td>1674</td><td>23083</td><td>21731</td><td><em>missing</em></td><td><em>missing</em></td><td><em>missing</em></td></tr></tbody></table></div>"
      ],
      "text/latex": [
       "\\begin{tabular}{r|cccccccccc}\n",
       "\t& Bistum & Amtsart & Amtsbeginn & Amtsende & ID\\_Amt & ID\\_Bischof & Institution & Amt\\_weltlich & Herrschaftsgebiet & \\\\\n",
       "\t\\hline\n",
       "\t& String? & String & String? & String? & Int64 & Int64 & Missing & Missing & Missing & \\\\\n",
       "\t\\hline\n",
       "\t1 & Brixen & Weihbischof & 1379 & 1387 & 22075 & 21066 & \\emph{missing} & \\emph{missing} & \\emph{missing} & $\\dots$ \\\\\n",
       "\t2 & Chur & Weihbischof & um 1289 & 1294 & 22087 & 21078 & \\emph{missing} & \\emph{missing} & \\emph{missing} & $\\dots$ \\\\\n",
       "\t3 & Eichstätt & Weihbischof & 1340 & \\emph{missing} & 22102 & 21093 & \\emph{missing} & \\emph{missing} & \\emph{missing} & $\\dots$ \\\\\n",
       "\t4 & Halberstadt & Weihbischof & 1420 & 1436 & 22144 & 21135 & \\emph{missing} & \\emph{missing} & \\emph{missing} & $\\dots$ \\\\\n",
       "\t5 & Köln & Weihbischof & 1228 & \\emph{missing} & 22173 & 21164 & \\emph{missing} & \\emph{missing} & \\emph{missing} & $\\dots$ \\\\\n",
       "\t6 & Köln & Weihbischof & 1352 & 1364 & 22184 & 21175 & \\emph{missing} & \\emph{missing} & \\emph{missing} & $\\dots$ \\\\\n",
       "\t7 & Konstanz & Weihbischof & 1289 & 1294 (1299 ?) & 22198 & 21189 & \\emph{missing} & \\emph{missing} & \\emph{missing} & $\\dots$ \\\\\n",
       "\t8 & Leitomischl & Weihbischof & 1361 & \\emph{missing} & 22238 & 21229 & \\emph{missing} & \\emph{missing} & \\emph{missing} & $\\dots$ \\\\\n",
       "\t9 & Lüttich & Weihbischof & 1233 & \\emph{missing} & 22243 & 21234 & \\emph{missing} & \\emph{missing} & \\emph{missing} & $\\dots$ \\\\\n",
       "\t10 & Lüttich & Weihbischof & 1242 & 1260 & 22244 & 21235 & \\emph{missing} & \\emph{missing} & \\emph{missing} & $\\dots$ \\\\\n",
       "\t11 & Regensburg & Weihbischof & um 1325 & \\emph{missing} & 22398 & 21389 & \\emph{missing} & \\emph{missing} & \\emph{missing} & $\\dots$ \\\\\n",
       "\t12 & Regensburg & Weihbischof & um 1372 & \\emph{missing} & 22401 & 21392 & \\emph{missing} & \\emph{missing} & \\emph{missing} & $\\dots$ \\\\\n",
       "\t13 & Straßburg & Weihbischof & 1372 & 1381 & 22438 & 21429 & \\emph{missing} & \\emph{missing} & \\emph{missing} & $\\dots$ \\\\\n",
       "\t14 & Utrecht & Weihbischof & 1310 & \\emph{missing} & 22497 & 21488 & \\emph{missing} & \\emph{missing} & \\emph{missing} & $\\dots$ \\\\\n",
       "\t15 & Breslau & Weihbischof & seit 1442 & \\emph{missing} & 22801 & 21596 & \\emph{missing} & \\emph{missing} & \\emph{missing} & $\\dots$ \\\\\n",
       "\t16 & Olmütz & Weihbischof & seit 1442 & \\emph{missing} & 22802 & 21596 & \\emph{missing} & \\emph{missing} & \\emph{missing} & $\\dots$ \\\\\n",
       "\t17 & Nizza & Bischof & 1462 & \\emph{missing} & 22816 & 21608 & \\emph{missing} & \\emph{missing} & \\emph{missing} & $\\dots$ \\\\\n",
       "\t18 & Toul & Weihbischof & \\emph{missing} & \\emph{missing} & 22942 & 21679 & \\emph{missing} & \\emph{missing} & \\emph{missing} & $\\dots$ \\\\\n",
       "\t19 & Prag & Generalvikar & 1670 & 1674 & 23083 & 21731 & \\emph{missing} & \\emph{missing} & \\emph{missing} & $\\dots$ \\\\\n",
       "\\end{tabular}\n"
      ],
      "text/plain": [
       "\u001b[1m19×17 DataFrame\u001b[0m\n",
       "\u001b[1m Row \u001b[0m│\u001b[1m Bistum      \u001b[0m\u001b[1m Amtsart      \u001b[0m\u001b[1m Amtsbeginn \u001b[0m\u001b[1m Amtsende      \u001b[0m\u001b[1m ID_Amt \u001b[0m\u001b[1m ID_Bischof \u001b[0m\u001b[1m Institution \u001b[0m\u001b[1m Amt_weltlich \u001b[0m\u001b[1m Herrschaft\u001b[0m ⋯\n",
       "\u001b[1m     \u001b[0m│\u001b[90m String?     \u001b[0m\u001b[90m String       \u001b[0m\u001b[90m String?    \u001b[0m\u001b[90m String?       \u001b[0m\u001b[90m Int64  \u001b[0m\u001b[90m Int64      \u001b[0m\u001b[90m Missing     \u001b[0m\u001b[90m Missing      \u001b[0m\u001b[90m Missing   \u001b[0m ⋯\n",
       "─────┼──────────────────────────────────────────────────────────────────────────────────────────────────────────────────\n",
       "   1 │ Brixen       Weihbischof   1379        1387            22075       21066 \u001b[90m     missing \u001b[0m\u001b[90m      missing \u001b[0m\u001b[90m           \u001b[0m ⋯\n",
       "   2 │ Chur         Weihbischof   um 1289     1294            22087       21078 \u001b[90m     missing \u001b[0m\u001b[90m      missing \u001b[0m\u001b[90m\u001b[0m\n",
       "   3 │ Eichstätt    Weihbischof   1340       \u001b[90m missing       \u001b[0m  22102       21093 \u001b[90m     missing \u001b[0m\u001b[90m      missing \u001b[0m\u001b[90m\u001b[0m\n",
       "   4 │ Halberstadt  Weihbischof   1420        1436            22144       21135 \u001b[90m     missing \u001b[0m\u001b[90m      missing \u001b[0m\u001b[90m\u001b[0m\n",
       "   5 │ Köln         Weihbischof   1228       \u001b[90m missing       \u001b[0m  22173       21164 \u001b[90m     missing \u001b[0m\u001b[90m      missing \u001b[0m\u001b[90m           \u001b[0m ⋯\n",
       "   6 │ Köln         Weihbischof   1352        1364            22184       21175 \u001b[90m     missing \u001b[0m\u001b[90m      missing \u001b[0m\u001b[90m\u001b[0m\n",
       "   7 │ Konstanz     Weihbischof   1289        1294 (1299 ?)   22198       21189 \u001b[90m     missing \u001b[0m\u001b[90m      missing \u001b[0m\u001b[90m\u001b[0m\n",
       "   8 │ Leitomischl  Weihbischof   1361       \u001b[90m missing       \u001b[0m  22238       21229 \u001b[90m     missing \u001b[0m\u001b[90m      missing \u001b[0m\u001b[90m\u001b[0m\n",
       "   9 │ Lüttich      Weihbischof   1233       \u001b[90m missing       \u001b[0m  22243       21234 \u001b[90m     missing \u001b[0m\u001b[90m      missing \u001b[0m\u001b[90m           \u001b[0m ⋯\n",
       "  10 │ Lüttich      Weihbischof   1242        1260            22244       21235 \u001b[90m     missing \u001b[0m\u001b[90m      missing \u001b[0m\u001b[90m\u001b[0m\n",
       "  11 │ Regensburg   Weihbischof   um 1325    \u001b[90m missing       \u001b[0m  22398       21389 \u001b[90m     missing \u001b[0m\u001b[90m      missing \u001b[0m\u001b[90m\u001b[0m\n",
       "  12 │ Regensburg   Weihbischof   um 1372    \u001b[90m missing       \u001b[0m  22401       21392 \u001b[90m     missing \u001b[0m\u001b[90m      missing \u001b[0m\u001b[90m\u001b[0m\n",
       "  13 │ Straßburg    Weihbischof   1372        1381            22438       21429 \u001b[90m     missing \u001b[0m\u001b[90m      missing \u001b[0m\u001b[90m           \u001b[0m ⋯\n",
       "  14 │ Utrecht      Weihbischof   1310       \u001b[90m missing       \u001b[0m  22497       21488 \u001b[90m     missing \u001b[0m\u001b[90m      missing \u001b[0m\u001b[90m\u001b[0m\n",
       "  15 │ Breslau      Weihbischof   seit 1442  \u001b[90m missing       \u001b[0m  22801       21596 \u001b[90m     missing \u001b[0m\u001b[90m      missing \u001b[0m\u001b[90m\u001b[0m\n",
       "  16 │ Olmütz       Weihbischof   seit 1442  \u001b[90m missing       \u001b[0m  22802       21596 \u001b[90m     missing \u001b[0m\u001b[90m      missing \u001b[0m\u001b[90m\u001b[0m\n",
       "  17 │ Nizza        Bischof       1462       \u001b[90m missing       \u001b[0m  22816       21608 \u001b[90m     missing \u001b[0m\u001b[90m      missing \u001b[0m\u001b[90m           \u001b[0m ⋯\n",
       "  18 │ Toul         Weihbischof  \u001b[90m missing    \u001b[0m\u001b[90m missing       \u001b[0m  22942       21679 \u001b[90m     missing \u001b[0m\u001b[90m      missing \u001b[0m\u001b[90m\u001b[0m\n",
       "  19 │ Prag         Generalvikar  1670        1674            23083       21731 \u001b[90m     missing \u001b[0m\u001b[90m      missing \u001b[0m\u001b[90m\u001b[0m\n",
       "\u001b[36m                                                                                                       9 columns omitted\u001b[0m"
      ]
     },
     "execution_count": 61,
     "metadata": {},
     "output_type": "execute_result"
    }
   ],
   "source": [
    "sort_ID_Bischof(df) = sort(df, :ID_Bischof)\n",
    "filter(:person_id => ismissing, df_prp) |> sort_ID_Bischof"
   ]
  },
  {
   "cell_type": "markdown",
   "metadata": {},
   "source": [
    "19 Amtsperioden können keinem Bischof zugeordnet werden?!"
   ]
  },
  {
   "cell_type": "code",
   "execution_count": 62,
   "metadata": {},
   "outputs": [],
   "source": [
    "df_prp = dropmissing(df_prp, :person_id);"
   ]
  },
  {
   "cell_type": "code",
   "execution_count": 63,
   "metadata": {},
   "outputs": [
    {
     "data": {
      "text/plain": [
       "(7320, 17)"
      ]
     },
     "execution_count": 63,
     "metadata": {},
     "output_type": "execute_result"
    }
   ],
   "source": [
    "size(df_prp)"
   ]
  },
  {
   "cell_type": "markdown",
   "metadata": {},
   "source": [
    "Lösche Einträge ohne Amtsbezeichnung"
   ]
  },
  {
   "cell_type": "code",
   "execution_count": 64,
   "metadata": {},
   "outputs": [],
   "source": [
    "df_prp = dropmissing(df_prp, :Amtsart);"
   ]
  },
  {
   "cell_type": "code",
   "execution_count": 65,
   "metadata": {},
   "outputs": [
    {
     "data": {
      "text/plain": [
       "(7320, 17)"
      ]
     },
     "execution_count": 65,
     "metadata": {},
     "output_type": "execute_result"
    }
   ],
   "source": [
    "size(df_prp)"
   ]
  },
  {
   "cell_type": "markdown",
   "metadata": {},
   "source": [
    "### Rollen/Ämter zuordnen"
   ]
  },
  {
   "cell_type": "code",
   "execution_count": 66,
   "metadata": {},
   "outputs": [],
   "source": [
    "sql = \"SELECT name, id FROM role\"\n",
    "df_role = Wds.sql_df(sql);"
   ]
  },
  {
   "cell_type": "code",
   "execution_count": 67,
   "metadata": {},
   "outputs": [],
   "source": [
    "lookup_role = Dict(df_role.name .=> df_role.id);"
   ]
  },
  {
   "cell_type": "code",
   "execution_count": 68,
   "metadata": {},
   "outputs": [
    {
     "data": {
      "text/plain": [
       "get_role_id (generic function with 1 method)"
      ]
     },
     "execution_count": 68,
     "metadata": {},
     "output_type": "execute_result"
    }
   ],
   "source": [
    "get_role_id(name) = get(lookup_role, name, missing)"
   ]
  },
  {
   "cell_type": "code",
   "execution_count": 69,
   "metadata": {},
   "outputs": [
    {
     "data": {
      "text/plain": [
       "249238"
      ]
     },
     "execution_count": 69,
     "metadata": {},
     "output_type": "execute_result"
    }
   ],
   "source": [
    "get_role_id(\"Vikar\")"
   ]
  },
  {
   "cell_type": "markdown",
   "metadata": {},
   "source": [
    "Die Einträge in Tabelle `role` beginnen alle mit einem Großbuchstaben"
   ]
  },
  {
   "cell_type": "code",
   "execution_count": 70,
   "metadata": {},
   "outputs": [],
   "source": [
    "starts_lowercase(s) = islowercase(s[1]);\n",
    "df_prp_sl = filter(:Amtsart => starts_lowercase, df_prp);"
   ]
  },
  {
   "cell_type": "code",
   "execution_count": 71,
   "metadata": {},
   "outputs": [
    {
     "data": {
      "text/html": [
       "<div class=\"data-frame\"><p>5 rows × 4 columns</p><table class=\"data-frame\"><thead><tr><th></th><th>person_id</th><th>id_in_source</th><th>Amtsart</th><th>Bistum</th></tr><tr><th></th><th title=\"Int32\">Int32</th><th title=\"String\">String</th><th title=\"String\">String</th><th title=\"Union{Missing, String}\">String?</th></tr></thead><tbody><tr><th>1</th><td>266924</td><td>10429</td><td>nominierter Bischof</td><td>Lüttich</td></tr><tr><th>2</th><td>267203</td><td>4254</td><td>designierter Bischof</td><td>Konstanz</td></tr><tr><th>3</th><td>269987</td><td>21771</td><td>evangelischer Administrator</td><td>Bremen-Hamburg</td></tr><tr><th>4</th><td>269988</td><td>21772</td><td>evangelischer Administrator</td><td>Bremen-Hamburg</td></tr><tr><th>5</th><td>269989</td><td>21773</td><td>evangelischer Administrator</td><td>Bremen-Hamburg</td></tr></tbody></table></div>"
      ],
      "text/latex": [
       "\\begin{tabular}{r|cccc}\n",
       "\t& person\\_id & id\\_in\\_source & Amtsart & Bistum\\\\\n",
       "\t\\hline\n",
       "\t& Int32 & String & String & String?\\\\\n",
       "\t\\hline\n",
       "\t1 & 266924 & 10429 & nominierter Bischof & Lüttich \\\\\n",
       "\t2 & 267203 & 4254 & designierter Bischof & Konstanz \\\\\n",
       "\t3 & 269987 & 21771 & evangelischer Administrator & Bremen-Hamburg \\\\\n",
       "\t4 & 269988 & 21772 & evangelischer Administrator & Bremen-Hamburg \\\\\n",
       "\t5 & 269989 & 21773 & evangelischer Administrator & Bremen-Hamburg \\\\\n",
       "\\end{tabular}\n"
      ],
      "text/plain": [
       "\u001b[1m5×4 DataFrame\u001b[0m\n",
       "\u001b[1m Row \u001b[0m│\u001b[1m person_id \u001b[0m\u001b[1m id_in_source \u001b[0m\u001b[1m Amtsart                     \u001b[0m\u001b[1m Bistum         \u001b[0m\n",
       "\u001b[1m     \u001b[0m│\u001b[90m Int32     \u001b[0m\u001b[90m String       \u001b[0m\u001b[90m String                      \u001b[0m\u001b[90m String?        \u001b[0m\n",
       "─────┼──────────────────────────────────────────────────────────────────────\n",
       "   1 │    266924  10429         nominierter Bischof          Lüttich\n",
       "   2 │    267203  4254          designierter Bischof         Konstanz\n",
       "   3 │    269987  21771         evangelischer Administrator  Bremen-Hamburg\n",
       "   4 │    269988  21772         evangelischer Administrator  Bremen-Hamburg\n",
       "   5 │    269989  21773         evangelischer Administrator  Bremen-Hamburg"
      ]
     },
     "execution_count": 71,
     "metadata": {},
     "output_type": "execute_result"
    }
   ],
   "source": [
    "select(df_prp_sl, [:person_id, :id_in_source, :Amtsart, :Bistum])"
   ]
  },
  {
   "cell_type": "code",
   "execution_count": 72,
   "metadata": {},
   "outputs": [],
   "source": [
    "transform!(df_prp, :Amtsart => ByRow(uppercasefirst) => :Amtsart);"
   ]
  },
  {
   "cell_type": "markdown",
   "metadata": {},
   "source": [
    "SQL berücksichtigt keine Unterschiede in Groß- und Kleinschreibung"
   ]
  },
  {
   "cell_type": "code",
   "execution_count": 73,
   "metadata": {},
   "outputs": [
    {
     "data": {
      "text/html": [
       "<div class=\"data-frame\"><p>9 rows × 17 columns (omitted printing of 8 columns)</p><table class=\"data-frame\"><thead><tr><th></th><th>Bistum</th><th>Amtsart</th><th>Amtsbeginn</th><th>Amtsende</th><th>ID_Amt</th><th>ID_Bischof</th><th>Institution</th><th>Amt_weltlich</th><th>Herrschaftsgebiet</th></tr><tr><th></th><th title=\"Union{Missing, String}\">String?</th><th title=\"String\">String</th><th title=\"Union{Missing, String}\">String?</th><th title=\"Union{Missing, String}\">String?</th><th title=\"Int64\">Int64</th><th title=\"Int64\">Int64</th><th title=\"Missing\">Missing</th><th title=\"Missing\">Missing</th><th title=\"Missing\">Missing</th></tr></thead><tbody><tr><th>1</th><td>Münster</td><td>Fürstbischof</td><td>1719</td><td>1761</td><td>5609</td><td>10127</td><td><em>missing</em></td><td><em>missing</em></td><td><em>missing</em></td></tr><tr><th>2</th><td>Regensburg</td><td>Fürstbischof</td><td>1717</td><td>1719</td><td>4222</td><td>10127</td><td><em>missing</em></td><td><em>missing</em></td><td><em>missing</em></td></tr><tr><th>3</th><td>Paderborn</td><td>Fürstbischof</td><td>1719</td><td>1761</td><td>4224</td><td>10127</td><td><em>missing</em></td><td><em>missing</em></td><td><em>missing</em></td></tr><tr><th>4</th><td>Köln</td><td>Koadjutor des Erzbischofs</td><td>1722</td><td>1723</td><td>4225</td><td>10127</td><td><em>missing</em></td><td><em>missing</em></td><td><em>missing</em></td></tr><tr><th>5</th><td>Köln</td><td>Kurfürst-Erzbischof</td><td>1723</td><td>1761</td><td>4226</td><td>10127</td><td><em>missing</em></td><td><em>missing</em></td><td><em>missing</em></td></tr><tr><th>6</th><td>Hildesheim</td><td>Fürstbischof</td><td>1724</td><td>1761</td><td>4227</td><td>10127</td><td><em>missing</em></td><td><em>missing</em></td><td><em>missing</em></td></tr><tr><th>7</th><td>Osnabrück</td><td>Fürstbischof</td><td>1728</td><td>1761</td><td>4228</td><td>10127</td><td><em>missing</em></td><td><em>missing</em></td><td><em>missing</em></td></tr><tr><th>8</th><td><em>missing</em></td><td>Fürstpropst</td><td>1723</td><td>1761</td><td>21892</td><td>10127</td><td><em>missing</em></td><td><em>missing</em></td><td><em>missing</em></td></tr><tr><th>9</th><td>Regensburg</td><td>Koadjutor</td><td>1715</td><td>1716</td><td>23084</td><td>10127</td><td><em>missing</em></td><td><em>missing</em></td><td><em>missing</em></td></tr></tbody></table></div>"
      ],
      "text/latex": [
       "\\begin{tabular}{r|cccccccccc}\n",
       "\t& Bistum & Amtsart & Amtsbeginn & Amtsende & ID\\_Amt & ID\\_Bischof & Institution & Amt\\_weltlich & Herrschaftsgebiet & \\\\\n",
       "\t\\hline\n",
       "\t& String? & String & String? & String? & Int64 & Int64 & Missing & Missing & Missing & \\\\\n",
       "\t\\hline\n",
       "\t1 & Münster & Fürstbischof & 1719 & 1761 & 5609 & 10127 & \\emph{missing} & \\emph{missing} & \\emph{missing} & $\\dots$ \\\\\n",
       "\t2 & Regensburg & Fürstbischof & 1717 & 1719 & 4222 & 10127 & \\emph{missing} & \\emph{missing} & \\emph{missing} & $\\dots$ \\\\\n",
       "\t3 & Paderborn & Fürstbischof & 1719 & 1761 & 4224 & 10127 & \\emph{missing} & \\emph{missing} & \\emph{missing} & $\\dots$ \\\\\n",
       "\t4 & Köln & Koadjutor des Erzbischofs & 1722 & 1723 & 4225 & 10127 & \\emph{missing} & \\emph{missing} & \\emph{missing} & $\\dots$ \\\\\n",
       "\t5 & Köln & Kurfürst-Erzbischof & 1723 & 1761 & 4226 & 10127 & \\emph{missing} & \\emph{missing} & \\emph{missing} & $\\dots$ \\\\\n",
       "\t6 & Hildesheim & Fürstbischof & 1724 & 1761 & 4227 & 10127 & \\emph{missing} & \\emph{missing} & \\emph{missing} & $\\dots$ \\\\\n",
       "\t7 & Osnabrück & Fürstbischof & 1728 & 1761 & 4228 & 10127 & \\emph{missing} & \\emph{missing} & \\emph{missing} & $\\dots$ \\\\\n",
       "\t8 & \\emph{missing} & Fürstpropst & 1723 & 1761 & 21892 & 10127 & \\emph{missing} & \\emph{missing} & \\emph{missing} & $\\dots$ \\\\\n",
       "\t9 & Regensburg & Koadjutor & 1715 & 1716 & 23084 & 10127 & \\emph{missing} & \\emph{missing} & \\emph{missing} & $\\dots$ \\\\\n",
       "\\end{tabular}\n"
      ],
      "text/plain": [
       "\u001b[1m9×17 DataFrame\u001b[0m\n",
       "\u001b[1m Row \u001b[0m│\u001b[1m Bistum     \u001b[0m\u001b[1m Amtsart                   \u001b[0m\u001b[1m Amtsbeginn \u001b[0m\u001b[1m Amtsende \u001b[0m\u001b[1m ID_Amt \u001b[0m\u001b[1m ID_Bischof \u001b[0m\u001b[1m Institution \u001b[0m\u001b[1m Amt_weltlich \u001b[0m\u001b[1m Her\u001b[0m ⋯\n",
       "\u001b[1m     \u001b[0m│\u001b[90m String?    \u001b[0m\u001b[90m String                    \u001b[0m\u001b[90m String?    \u001b[0m\u001b[90m String?  \u001b[0m\u001b[90m Int64  \u001b[0m\u001b[90m Int64      \u001b[0m\u001b[90m Missing     \u001b[0m\u001b[90m Missing      \u001b[0m\u001b[90m Mis\u001b[0m ⋯\n",
       "─────┼──────────────────────────────────────────────────────────────────────────────────────────────────────────────────\n",
       "   1 │ Münster     Fürstbischof               1719        1761        5609       10127 \u001b[90m     missing \u001b[0m\u001b[90m      missing \u001b[0m\u001b[90m    \u001b[0m ⋯\n",
       "   2 │ Regensburg  Fürstbischof               1717        1719        4222       10127 \u001b[90m     missing \u001b[0m\u001b[90m      missing \u001b[0m\u001b[90m\u001b[0m\n",
       "   3 │ Paderborn   Fürstbischof               1719        1761        4224       10127 \u001b[90m     missing \u001b[0m\u001b[90m      missing \u001b[0m\u001b[90m\u001b[0m\n",
       "   4 │ Köln        Koadjutor des Erzbischofs  1722        1723        4225       10127 \u001b[90m     missing \u001b[0m\u001b[90m      missing \u001b[0m\u001b[90m\u001b[0m\n",
       "   5 │ Köln        Kurfürst-Erzbischof        1723        1761        4226       10127 \u001b[90m     missing \u001b[0m\u001b[90m      missing \u001b[0m\u001b[90m    \u001b[0m ⋯\n",
       "   6 │ Hildesheim  Fürstbischof               1724        1761        4227       10127 \u001b[90m     missing \u001b[0m\u001b[90m      missing \u001b[0m\u001b[90m\u001b[0m\n",
       "   7 │ Osnabrück   Fürstbischof               1728        1761        4228       10127 \u001b[90m     missing \u001b[0m\u001b[90m      missing \u001b[0m\u001b[90m\u001b[0m\n",
       "   8 │\u001b[90m missing    \u001b[0m Fürstpropst                1723        1761       21892       10127 \u001b[90m     missing \u001b[0m\u001b[90m      missing \u001b[0m\u001b[90m\u001b[0m\n",
       "   9 │ Regensburg  Koadjutor                  1715        1716       23084       10127 \u001b[90m     missing \u001b[0m\u001b[90m      missing \u001b[0m\u001b[90m    \u001b[0m ⋯\n",
       "\u001b[36m                                                                                                       9 columns omitted\u001b[0m"
      ]
     },
     "execution_count": 73,
     "metadata": {},
     "output_type": "execute_result"
    }
   ],
   "source": [
    "df_info = subset(df_prp, :ID_Bischof => ByRow(isequal(10127)))"
   ]
  },
  {
   "cell_type": "markdown",
   "metadata": {},
   "source": [
    "Für Bischof 3807 sind Amtsart und Bistum vertauscht. *2022-05-19* in der Quelle korrigiert."
   ]
  },
  {
   "cell_type": "code",
   "execution_count": 74,
   "metadata": {},
   "outputs": [
    {
     "data": {
      "text/html": [
       "<div class=\"data-frame\"><p>9 rows × 16 columns (omitted printing of 7 columns)</p><table class=\"data-frame\"><thead><tr><th></th><th>Bistum</th><th>Amtsart</th><th>Amtsbeginn</th><th>Amtsende</th><th>ID_Amt</th><th>ID_Bischof</th><th>Institution</th><th>Amt_weltlich</th><th>Herrschaftsgebiet</th></tr><tr><th></th><th title=\"Union{Missing, String}\">String?</th><th title=\"String\">String</th><th title=\"Union{Missing, String}\">String?</th><th title=\"Union{Missing, String}\">String?</th><th title=\"Int64\">Int64</th><th title=\"Int64\">Int64</th><th title=\"Missing\">Missing</th><th title=\"Missing\">Missing</th><th title=\"Missing\">Missing</th></tr></thead><tbody><tr><th>1</th><td>Münster</td><td>Fürstbischof</td><td>1719</td><td>1761</td><td>5609</td><td>10127</td><td><em>missing</em></td><td><em>missing</em></td><td><em>missing</em></td></tr><tr><th>2</th><td>Regensburg</td><td>Fürstbischof</td><td>1717</td><td>1719</td><td>4222</td><td>10127</td><td><em>missing</em></td><td><em>missing</em></td><td><em>missing</em></td></tr><tr><th>3</th><td>Paderborn</td><td>Fürstbischof</td><td>1719</td><td>1761</td><td>4224</td><td>10127</td><td><em>missing</em></td><td><em>missing</em></td><td><em>missing</em></td></tr><tr><th>4</th><td>Köln</td><td>Koadjutor des Erzbischofs</td><td>1722</td><td>1723</td><td>4225</td><td>10127</td><td><em>missing</em></td><td><em>missing</em></td><td><em>missing</em></td></tr><tr><th>5</th><td>Köln</td><td>Kurfürst-Erzbischof</td><td>1723</td><td>1761</td><td>4226</td><td>10127</td><td><em>missing</em></td><td><em>missing</em></td><td><em>missing</em></td></tr><tr><th>6</th><td>Hildesheim</td><td>Fürstbischof</td><td>1724</td><td>1761</td><td>4227</td><td>10127</td><td><em>missing</em></td><td><em>missing</em></td><td><em>missing</em></td></tr><tr><th>7</th><td>Osnabrück</td><td>Fürstbischof</td><td>1728</td><td>1761</td><td>4228</td><td>10127</td><td><em>missing</em></td><td><em>missing</em></td><td><em>missing</em></td></tr><tr><th>8</th><td><em>missing</em></td><td>Fürstpropst</td><td>1723</td><td>1761</td><td>21892</td><td>10127</td><td><em>missing</em></td><td><em>missing</em></td><td><em>missing</em></td></tr><tr><th>9</th><td>Regensburg</td><td>Koadjutor</td><td>1715</td><td>1716</td><td>23084</td><td>10127</td><td><em>missing</em></td><td><em>missing</em></td><td><em>missing</em></td></tr></tbody></table></div>"
      ],
      "text/latex": [
       "\\begin{tabular}{r|cccccccccc}\n",
       "\t& Bistum & Amtsart & Amtsbeginn & Amtsende & ID\\_Amt & ID\\_Bischof & Institution & Amt\\_weltlich & Herrschaftsgebiet & \\\\\n",
       "\t\\hline\n",
       "\t& String? & String & String? & String? & Int64 & Int64 & Missing & Missing & Missing & \\\\\n",
       "\t\\hline\n",
       "\t1 & Münster & Fürstbischof & 1719 & 1761 & 5609 & 10127 & \\emph{missing} & \\emph{missing} & \\emph{missing} & $\\dots$ \\\\\n",
       "\t2 & Regensburg & Fürstbischof & 1717 & 1719 & 4222 & 10127 & \\emph{missing} & \\emph{missing} & \\emph{missing} & $\\dots$ \\\\\n",
       "\t3 & Paderborn & Fürstbischof & 1719 & 1761 & 4224 & 10127 & \\emph{missing} & \\emph{missing} & \\emph{missing} & $\\dots$ \\\\\n",
       "\t4 & Köln & Koadjutor des Erzbischofs & 1722 & 1723 & 4225 & 10127 & \\emph{missing} & \\emph{missing} & \\emph{missing} & $\\dots$ \\\\\n",
       "\t5 & Köln & Kurfürst-Erzbischof & 1723 & 1761 & 4226 & 10127 & \\emph{missing} & \\emph{missing} & \\emph{missing} & $\\dots$ \\\\\n",
       "\t6 & Hildesheim & Fürstbischof & 1724 & 1761 & 4227 & 10127 & \\emph{missing} & \\emph{missing} & \\emph{missing} & $\\dots$ \\\\\n",
       "\t7 & Osnabrück & Fürstbischof & 1728 & 1761 & 4228 & 10127 & \\emph{missing} & \\emph{missing} & \\emph{missing} & $\\dots$ \\\\\n",
       "\t8 & \\emph{missing} & Fürstpropst & 1723 & 1761 & 21892 & 10127 & \\emph{missing} & \\emph{missing} & \\emph{missing} & $\\dots$ \\\\\n",
       "\t9 & Regensburg & Koadjutor & 1715 & 1716 & 23084 & 10127 & \\emph{missing} & \\emph{missing} & \\emph{missing} & $\\dots$ \\\\\n",
       "\\end{tabular}\n"
      ],
      "text/plain": [
       "\u001b[1m9×16 DataFrame\u001b[0m\n",
       "\u001b[1m Row \u001b[0m│\u001b[1m Bistum     \u001b[0m\u001b[1m Amtsart                   \u001b[0m\u001b[1m Amtsbeginn \u001b[0m\u001b[1m Amtsende \u001b[0m\u001b[1m ID_Amt \u001b[0m\u001b[1m ID_Bischof \u001b[0m\u001b[1m Institution \u001b[0m\u001b[1m Amt_weltlich \u001b[0m\u001b[1m Her\u001b[0m ⋯\n",
       "\u001b[1m     \u001b[0m│\u001b[90m String?    \u001b[0m\u001b[90m String                    \u001b[0m\u001b[90m String?    \u001b[0m\u001b[90m String?  \u001b[0m\u001b[90m Int64  \u001b[0m\u001b[90m Int64      \u001b[0m\u001b[90m Missing     \u001b[0m\u001b[90m Missing      \u001b[0m\u001b[90m Mis\u001b[0m ⋯\n",
       "─────┼──────────────────────────────────────────────────────────────────────────────────────────────────────────────────\n",
       "   1 │ Münster     Fürstbischof               1719        1761        5609       10127 \u001b[90m     missing \u001b[0m\u001b[90m      missing \u001b[0m\u001b[90m    \u001b[0m ⋯\n",
       "   2 │ Regensburg  Fürstbischof               1717        1719        4222       10127 \u001b[90m     missing \u001b[0m\u001b[90m      missing \u001b[0m\u001b[90m\u001b[0m\n",
       "   3 │ Paderborn   Fürstbischof               1719        1761        4224       10127 \u001b[90m     missing \u001b[0m\u001b[90m      missing \u001b[0m\u001b[90m\u001b[0m\n",
       "   4 │ Köln        Koadjutor des Erzbischofs  1722        1723        4225       10127 \u001b[90m     missing \u001b[0m\u001b[90m      missing \u001b[0m\u001b[90m\u001b[0m\n",
       "   5 │ Köln        Kurfürst-Erzbischof        1723        1761        4226       10127 \u001b[90m     missing \u001b[0m\u001b[90m      missing \u001b[0m\u001b[90m    \u001b[0m ⋯\n",
       "   6 │ Hildesheim  Fürstbischof               1724        1761        4227       10127 \u001b[90m     missing \u001b[0m\u001b[90m      missing \u001b[0m\u001b[90m\u001b[0m\n",
       "   7 │ Osnabrück   Fürstbischof               1728        1761        4228       10127 \u001b[90m     missing \u001b[0m\u001b[90m      missing \u001b[0m\u001b[90m\u001b[0m\n",
       "   8 │\u001b[90m missing    \u001b[0m Fürstpropst                1723        1761       21892       10127 \u001b[90m     missing \u001b[0m\u001b[90m      missing \u001b[0m\u001b[90m\u001b[0m\n",
       "   9 │ Regensburg  Koadjutor                  1715        1716       23084       10127 \u001b[90m     missing \u001b[0m\u001b[90m      missing \u001b[0m\u001b[90m    \u001b[0m ⋯\n",
       "\u001b[36m                                                                                                       8 columns omitted\u001b[0m"
      ]
     },
     "execution_count": 74,
     "metadata": {},
     "output_type": "execute_result"
    }
   ],
   "source": [
    "subset(df_pr, :ID_Bischof => ByRow(isequal(10127)))"
   ]
  },
  {
   "cell_type": "markdown",
   "metadata": {},
   "source": [
    "Ämter der Ämterliste zuordnen"
   ]
  },
  {
   "cell_type": "code",
   "execution_count": 75,
   "metadata": {},
   "outputs": [],
   "source": [
    "transform!(df_prp, :Amtsart => ByRow(get_role_id) => :role_id);"
   ]
  },
  {
   "cell_type": "code",
   "execution_count": 76,
   "metadata": {},
   "outputs": [],
   "source": [
    "df_role_mg = filter(:role_id => ismissing, df_prp);"
   ]
  },
  {
   "cell_type": "code",
   "execution_count": 77,
   "metadata": {},
   "outputs": [
    {
     "data": {
      "text/plain": [
       "98"
      ]
     },
     "execution_count": 77,
     "metadata": {},
     "output_type": "execute_result"
    }
   ],
   "source": [
    "length(unique(df_role_mg.Amtsart))"
   ]
  },
  {
   "cell_type": "code",
   "execution_count": 78,
   "metadata": {},
   "outputs": [
    {
     "data": {
      "text/plain": [
       "7-element Vector{String}:\n",
       " \"Fürstpropst\"\n",
       " \"Direktor des Konsistoriums\"\n",
       " \"Kurfürst-Erzbischof\"\n",
       " \"Apostolischer Administrator\"\n",
       " \"Fürstbischof\"\n",
       " \"Koadjutor des Bischofs\"\n",
       " \"Koadjutor des Kurfürst-Erzbischofs\""
      ]
     },
     "execution_count": 78,
     "metadata": {},
     "output_type": "execute_result"
    }
   ],
   "source": [
    "unique(df_role_mg[!, :Amtsart])[1:7]"
   ]
  },
  {
   "cell_type": "markdown",
   "metadata": {},
   "source": [
    "In diesen Fällen wird die Amtsart lediglich eingetragen in `person_role.role_name`"
   ]
  },
  {
   "cell_type": "markdown",
   "metadata": {},
   "source": [
    "### Bistümer zuordnen"
   ]
  },
  {
   "cell_type": "code",
   "execution_count": 79,
   "metadata": {},
   "outputs": [],
   "source": [
    "sql = \"SELECT id AS diocese_id, name AS diocese_name FROM diocese\";\n",
    "df_dioc = Wds.sql_df(sql);"
   ]
  },
  {
   "cell_type": "code",
   "execution_count": 80,
   "metadata": {},
   "outputs": [],
   "source": [
    "df_prp = leftjoin(df_prp, df_dioc, on = :Bistum => :diocese_name, matchmissing = :notequal);"
   ]
  },
  {
   "cell_type": "code",
   "execution_count": 81,
   "metadata": {},
   "outputs": [],
   "source": [
    "df_dioc_mg = filter(:diocese_id => ismissing, df_prp);"
   ]
  },
  {
   "cell_type": "code",
   "execution_count": 82,
   "metadata": {},
   "outputs": [
    {
     "data": {
      "text/plain": [
       "(447, 19)"
      ]
     },
     "execution_count": 82,
     "metadata": {},
     "output_type": "execute_result"
    }
   ],
   "source": [
    "size(df_dioc_mg)"
   ]
  },
  {
   "cell_type": "markdown",
   "metadata": {},
   "source": [
    "Numerische Daten eintragen"
   ]
  },
  {
   "cell_type": "code",
   "execution_count": 83,
   "metadata": {},
   "outputs": [
    {
     "data": {
      "text/plain": [
       "num_date_begin (generic function with 1 method)"
      ]
     },
     "execution_count": 83,
     "metadata": {},
     "output_type": "execute_result"
    }
   ],
   "source": [
    "num_date_begin(s_date) = ismissing(s_date) ? s_date : Wds.parsemaybe(String(s_date), :lower)"
   ]
  },
  {
   "cell_type": "code",
   "execution_count": 84,
   "metadata": {},
   "outputs": [
    {
     "data": {
      "text/plain": [
       "num_date_end (generic function with 1 method)"
      ]
     },
     "execution_count": 84,
     "metadata": {},
     "output_type": "execute_result"
    }
   ],
   "source": [
    "num_date_end(s_date) = ismissing(s_date) ? s_date : Wds.parsemaybe(String(s_date), :upper)"
   ]
  },
  {
   "cell_type": "code",
   "execution_count": 86,
   "metadata": {},
   "outputs": [
    {
     "data": {
      "text/html": [
       "<div class=\"data-frame\"><p>5 rows × 19 columns (omitted printing of 10 columns)</p><table class=\"data-frame\"><thead><tr><th></th><th>Bistum</th><th>Amtsart</th><th>Amtsbeginn</th><th>Amtsende</th><th>ID_Amt</th><th>ID_Bischof</th><th>Institution</th><th>Amt_weltlich</th><th>Herrschaftsgebiet</th></tr><tr><th></th><th title=\"Union{Missing, String}\">String?</th><th title=\"String\">String</th><th title=\"Union{Missing, String}\">String?</th><th title=\"Union{Missing, String}\">String?</th><th title=\"Int64\">Int64</th><th title=\"Int64\">Int64</th><th title=\"Missing\">Missing</th><th title=\"Missing\">Missing</th><th title=\"Missing\">Missing</th></tr></thead><tbody><tr><th>1</th><td>Trier</td><td>Kurfürst-Erzbischof</td><td>1756</td><td>1768</td><td>5674</td><td>10860</td><td><em>missing</em></td><td><em>missing</em></td><td><em>missing</em></td></tr><tr><th>2</th><td>Worms</td><td>Fürstbischof</td><td>1763</td><td>1768</td><td>5675</td><td>10860</td><td><em>missing</em></td><td><em>missing</em></td><td><em>missing</em></td></tr><tr><th>3</th><td>Wien</td><td>Administrator</td><td>1476</td><td>1482</td><td>5676</td><td>5302</td><td><em>missing</em></td><td><em>missing</em></td><td><em>missing</em></td></tr><tr><th>4</th><td>Salzburg</td><td>Administrator</td><td>1481</td><td>1487</td><td>5677</td><td>5302</td><td><em>missing</em></td><td><em>missing</em></td><td><em>missing</em></td></tr><tr><th>5</th><td>Magdeburg</td><td>Erzbischof</td><td>1125/1126</td><td><em>missing</em></td><td>5678</td><td>5080</td><td><em>missing</em></td><td><em>missing</em></td><td><em>missing</em></td></tr></tbody></table></div>"
      ],
      "text/latex": [
       "\\begin{tabular}{r|cccccccccc}\n",
       "\t& Bistum & Amtsart & Amtsbeginn & Amtsende & ID\\_Amt & ID\\_Bischof & Institution & Amt\\_weltlich & Herrschaftsgebiet & \\\\\n",
       "\t\\hline\n",
       "\t& String? & String & String? & String? & Int64 & Int64 & Missing & Missing & Missing & \\\\\n",
       "\t\\hline\n",
       "\t1 & Trier & Kurfürst-Erzbischof & 1756 & 1768 & 5674 & 10860 & \\emph{missing} & \\emph{missing} & \\emph{missing} & $\\dots$ \\\\\n",
       "\t2 & Worms & Fürstbischof & 1763 & 1768 & 5675 & 10860 & \\emph{missing} & \\emph{missing} & \\emph{missing} & $\\dots$ \\\\\n",
       "\t3 & Wien & Administrator & 1476 & 1482 & 5676 & 5302 & \\emph{missing} & \\emph{missing} & \\emph{missing} & $\\dots$ \\\\\n",
       "\t4 & Salzburg & Administrator & 1481 & 1487 & 5677 & 5302 & \\emph{missing} & \\emph{missing} & \\emph{missing} & $\\dots$ \\\\\n",
       "\t5 & Magdeburg & Erzbischof & 1125/1126 & \\emph{missing} & 5678 & 5080 & \\emph{missing} & \\emph{missing} & \\emph{missing} & $\\dots$ \\\\\n",
       "\\end{tabular}\n"
      ],
      "text/plain": [
       "\u001b[1m5×19 DataFrame\u001b[0m\n",
       "\u001b[1m Row \u001b[0m│\u001b[1m Bistum    \u001b[0m\u001b[1m Amtsart             \u001b[0m\u001b[1m Amtsbeginn \u001b[0m\u001b[1m Amtsende \u001b[0m\u001b[1m ID_Amt \u001b[0m\u001b[1m ID_Bischof \u001b[0m\u001b[1m Institution \u001b[0m\u001b[1m Amt_weltlich \u001b[0m\u001b[1m Herrschaft\u001b[0m ⋯\n",
       "\u001b[1m     \u001b[0m│\u001b[90m String?   \u001b[0m\u001b[90m String              \u001b[0m\u001b[90m String?    \u001b[0m\u001b[90m String?  \u001b[0m\u001b[90m Int64  \u001b[0m\u001b[90m Int64      \u001b[0m\u001b[90m Missing     \u001b[0m\u001b[90m Missing      \u001b[0m\u001b[90m Missing   \u001b[0m ⋯\n",
       "─────┼──────────────────────────────────────────────────────────────────────────────────────────────────────────────────\n",
       "   1 │ Trier      Kurfürst-Erzbischof  1756        1768        5674       10860 \u001b[90m     missing \u001b[0m\u001b[90m      missing \u001b[0m\u001b[90m           \u001b[0m ⋯\n",
       "   2 │ Worms      Fürstbischof         1763        1768        5675       10860 \u001b[90m     missing \u001b[0m\u001b[90m      missing \u001b[0m\u001b[90m\u001b[0m\n",
       "   3 │ Wien       Administrator        1476        1482        5676        5302 \u001b[90m     missing \u001b[0m\u001b[90m      missing \u001b[0m\u001b[90m\u001b[0m\n",
       "   4 │ Salzburg   Administrator        1481        1487        5677        5302 \u001b[90m     missing \u001b[0m\u001b[90m      missing \u001b[0m\u001b[90m\u001b[0m\n",
       "   5 │ Magdeburg  Erzbischof           1125/1126  \u001b[90m missing  \u001b[0m   5678        5080 \u001b[90m     missing \u001b[0m\u001b[90m      missing \u001b[0m\u001b[90m           \u001b[0m ⋯\n",
       "\u001b[36m                                                                                                      11 columns omitted\u001b[0m"
      ]
     },
     "execution_count": 86,
     "metadata": {},
     "output_type": "execute_result"
    }
   ],
   "source": [
    "df_prp[201:205, :]"
   ]
  },
  {
   "cell_type": "code",
   "execution_count": 87,
   "metadata": {},
   "outputs": [
    {
     "name": "stderr",
     "output_type": "stream",
     "text": [
      "┌ Warning: Could not parse \n",
      "│   s = fränkische Zeit ?\n",
      "└ @ WiagDataSetup C:\\Users\\georg\\Documents\\projekte\\WiagDataSetup.jl\\src\\WiagDataSetup.jl:1118\n"
     ]
    }
   ],
   "source": [
    "transform!(df_prp, :Amtsbeginn => ByRow(num_date_begin) => :num_date_begin);"
   ]
  },
  {
   "cell_type": "code",
   "execution_count": 88,
   "metadata": {},
   "outputs": [],
   "source": [
    "transform!(df_prp, :Amtsende => ByRow(num_date_end) => :num_date_end);"
   ]
  },
  {
   "cell_type": "code",
   "execution_count": 89,
   "metadata": {},
   "outputs": [
    {
     "data": {
      "text/html": [
       "<div class=\"data-frame\"><p>5 rows × 6 columns</p><table class=\"data-frame\"><thead><tr><th></th><th>ID_Bischof</th><th>Amtsart</th><th>Amtsbeginn</th><th>num_date_begin</th><th>Amtsende</th><th>num_date_end</th></tr><tr><th></th><th title=\"Int64\">Int64</th><th title=\"String\">String</th><th title=\"Union{Missing, String}\">String?</th><th title=\"Union{Missing, Int64}\">Int64?</th><th title=\"Union{Missing, String}\">String?</th><th title=\"Union{Missing, Int64}\">Int64?</th></tr></thead><tbody><tr><th>1</th><td>10475</td><td>Kurfürst-Erzbischof</td><td>1784</td><td>1784</td><td>1801</td><td>1801</td></tr><tr><th>2</th><td>10476</td><td>Fürstbischof</td><td>1650</td><td>1650</td><td>1688</td><td>1688</td></tr><tr><th>3</th><td>3302</td><td>Elekt</td><td>1387</td><td>1387</td><td>1389</td><td>1389</td></tr><tr><th>4</th><td>3307</td><td>Weihbischof</td><td>1279</td><td>1279</td><td>1280</td><td>1280</td></tr><tr><th>5</th><td>3307</td><td>Weihbischof</td><td>1279</td><td>1279</td><td>1285</td><td>1285</td></tr></tbody></table></div>"
      ],
      "text/latex": [
       "\\begin{tabular}{r|cccccc}\n",
       "\t& ID\\_Bischof & Amtsart & Amtsbeginn & num\\_date\\_begin & Amtsende & num\\_date\\_end\\\\\n",
       "\t\\hline\n",
       "\t& Int64 & String & String? & Int64? & String? & Int64?\\\\\n",
       "\t\\hline\n",
       "\t1 & 10475 & Kurfürst-Erzbischof & 1784 & 1784 & 1801 & 1801 \\\\\n",
       "\t2 & 10476 & Fürstbischof & 1650 & 1650 & 1688 & 1688 \\\\\n",
       "\t3 & 3302 & Elekt & 1387 & 1387 & 1389 & 1389 \\\\\n",
       "\t4 & 3307 & Weihbischof & 1279 & 1279 & 1280 & 1280 \\\\\n",
       "\t5 & 3307 & Weihbischof & 1279 & 1279 & 1285 & 1285 \\\\\n",
       "\\end{tabular}\n"
      ],
      "text/plain": [
       "\u001b[1m5×6 DataFrame\u001b[0m\n",
       "\u001b[1m Row \u001b[0m│\u001b[1m ID_Bischof \u001b[0m\u001b[1m Amtsart             \u001b[0m\u001b[1m Amtsbeginn \u001b[0m\u001b[1m num_date_begin \u001b[0m\u001b[1m Amtsende \u001b[0m\u001b[1m num_date_end \u001b[0m\n",
       "\u001b[1m     \u001b[0m│\u001b[90m Int64      \u001b[0m\u001b[90m String              \u001b[0m\u001b[90m String?    \u001b[0m\u001b[90m Int64?         \u001b[0m\u001b[90m String?  \u001b[0m\u001b[90m Int64?       \u001b[0m\n",
       "─────┼─────────────────────────────────────────────────────────────────────────────────────\n",
       "   1 │      10475  Kurfürst-Erzbischof  1784                  1784  1801              1801\n",
       "   2 │      10476  Fürstbischof         1650                  1650  1688              1688\n",
       "   3 │       3302  Elekt                1387                  1387  1389              1389\n",
       "   4 │       3307  Weihbischof          1279                  1279  1280              1280\n",
       "   5 │       3307  Weihbischof          1279                  1279  1285              1285"
      ]
     },
     "execution_count": 89,
     "metadata": {},
     "output_type": "execute_result"
    }
   ],
   "source": [
    "df_prp[561:565, [:ID_Bischof, :Amtsart, :Amtsbeginn, :num_date_begin, :Amtsende, :num_date_end]]"
   ]
  },
  {
   "cell_type": "markdown",
   "metadata": {},
   "source": [
    "Schlüssel für eine zeitliche Sortierung eintragen"
   ]
  },
  {
   "cell_type": "code",
   "execution_count": 90,
   "metadata": {},
   "outputs": [
    {
     "name": "stderr",
     "output_type": "stream",
     "text": [
      "┌ Warning: could not parse \n",
      "│   s = (1168) 1180\n",
      "└ @ WiagDataSetup C:\\Users\\georg\\Documents\\projekte\\WiagDataSetup.jl\\src\\WiagDataSetup.jl:1527\n",
      "┌ Warning: could not parse \n",
      "│   s = (1014 ?) 1015\n",
      "└ @ WiagDataSetup C:\\Users\\georg\\Documents\\projekte\\WiagDataSetup.jl\\src\\WiagDataSetup.jl:1527\n",
      "┌ Warning: could not parse \n",
      "│   s = (952)\n",
      "└ @ WiagDataSetup C:\\Users\\georg\\Documents\\projekte\\WiagDataSetup.jl\\src\\WiagDataSetup.jl:1527\n",
      "┌ Warning: could not parse \n",
      "│   s = (972)\n",
      "└ @ WiagDataSetup C:\\Users\\georg\\Documents\\projekte\\WiagDataSetup.jl\\src\\WiagDataSetup.jl:1527\n",
      "┌ Warning: could not parse \n",
      "│   s = (984)\n",
      "└ @ WiagDataSetup C:\\Users\\georg\\Documents\\projekte\\WiagDataSetup.jl\\src\\WiagDataSetup.jl:1527\n",
      "┌ Warning: could not parse \n",
      "│   s = (991)\n",
      "└ @ WiagDataSetup C:\\Users\\georg\\Documents\\projekte\\WiagDataSetup.jl\\src\\WiagDataSetup.jl:1527\n",
      "┌ Warning: could not parse \n",
      "│   s = (996)\n",
      "└ @ WiagDataSetup C:\\Users\\georg\\Documents\\projekte\\WiagDataSetup.jl\\src\\WiagDataSetup.jl:1527\n",
      "┌ Warning: could not parse \n",
      "│   s = (1026)\n",
      "└ @ WiagDataSetup C:\\Users\\georg\\Documents\\projekte\\WiagDataSetup.jl\\src\\WiagDataSetup.jl:1527\n",
      "┌ Warning: could not parse \n",
      "│   s = (1047)\n",
      "└ @ WiagDataSetup C:\\Users\\georg\\Documents\\projekte\\WiagDataSetup.jl\\src\\WiagDataSetup.jl:1527\n",
      "┌ Warning: could not parse \n",
      "│   s = fränkische Zeit ?\n",
      "└ @ WiagDataSetup C:\\Users\\georg\\Documents\\projekte\\WiagDataSetup.jl\\src\\WiagDataSetup.jl:1527\n"
     ]
    }
   ],
   "source": [
    "transform!(df_prp, :Amtsbeginn => ByRow(Wds.parse_year_sort) => :date_sort_key);"
   ]
  },
  {
   "cell_type": "code",
   "execution_count": 91,
   "metadata": {},
   "outputs": [
    {
     "name": "stderr",
     "output_type": "stream",
     "text": [
      "┌ Warning: could not parse \n",
      "│   s = (1014 ?) 1015\n",
      "└ @ WiagDataSetup C:\\Users\\georg\\Documents\\projekte\\WiagDataSetup.jl\\src\\WiagDataSetup.jl:1527\n",
      "┌ Warning: could not parse \n",
      "│   s = (952)\n",
      "└ @ WiagDataSetup C:\\Users\\georg\\Documents\\projekte\\WiagDataSetup.jl\\src\\WiagDataSetup.jl:1527\n",
      "┌ Warning: could not parse \n",
      "│   s = (972)\n",
      "└ @ WiagDataSetup C:\\Users\\georg\\Documents\\projekte\\WiagDataSetup.jl\\src\\WiagDataSetup.jl:1527\n",
      "┌ Warning: could not parse \n",
      "│   s = (984)\n",
      "└ @ WiagDataSetup C:\\Users\\georg\\Documents\\projekte\\WiagDataSetup.jl\\src\\WiagDataSetup.jl:1527\n",
      "┌ Warning: could not parse \n",
      "│   s = (991)\n",
      "└ @ WiagDataSetup C:\\Users\\georg\\Documents\\projekte\\WiagDataSetup.jl\\src\\WiagDataSetup.jl:1527\n",
      "┌ Warning: could not parse \n",
      "│   s = (996)\n",
      "└ @ WiagDataSetup C:\\Users\\georg\\Documents\\projekte\\WiagDataSetup.jl\\src\\WiagDataSetup.jl:1527\n",
      "┌ Warning: could not parse \n",
      "│   s = (1072)\n",
      "└ @ WiagDataSetup C:\\Users\\georg\\Documents\\projekte\\WiagDataSetup.jl\\src\\WiagDataSetup.jl:1527\n",
      "┌ Warning: could not parse \n",
      "│   s = (1121/1125)\n",
      "└ @ WiagDataSetup C:\\Users\\georg\\Documents\\projekte\\WiagDataSetup.jl\\src\\WiagDataSetup.jl:1527\n"
     ]
    }
   ],
   "source": [
    "transform!(df_prp, :Amtsende => ByRow(Wds.parse_year_sort) => :date_sort_key_replace);"
   ]
  },
  {
   "cell_type": "code",
   "execution_count": 92,
   "metadata": {},
   "outputs": [
    {
     "data": {
      "text/plain": [
       "replace_if_missing (generic function with 1 method)"
      ]
     },
     "execution_count": 92,
     "metadata": {},
     "output_type": "execute_result"
    }
   ],
   "source": [
    "replace_if_missing(a, b) = ismissing(a) ? b : a"
   ]
  },
  {
   "cell_type": "code",
   "execution_count": 93,
   "metadata": {},
   "outputs": [],
   "source": [
    "transform!(df_prp, [:date_sort_key, :date_sort_key_replace] => ByRow(replace_if_missing) => :date_sort_key);"
   ]
  },
  {
   "cell_type": "code",
   "execution_count": 94,
   "metadata": {},
   "outputs": [
    {
     "data": {
      "text/plain": [
       "(7320, 0)"
      ]
     },
     "execution_count": 94,
     "metadata": {},
     "output_type": "execute_result"
    }
   ],
   "source": [
    "size(df_prp, 1), count(ismissing, df_prp.date_sort_key)"
   ]
  },
  {
   "cell_type": "markdown",
   "metadata": {},
   "source": [
    "Bestehende Einträge löschen"
   ]
  },
  {
   "cell_type": "code",
   "execution_count": 95,
   "metadata": {},
   "outputs": [
    {
     "data": {
      "text/plain": [
       "MySQL.TextCursor{true}(MySQL.Connection(host=\"127.0.0.1\", user=\"georg\", port=\"3306\", db=\"wiag2\"), \"DELETE FROM person_role WHERE person_id IN (SELECT id FROM item WHERE item_type_id = 4)\", 0, -1, 0, MySQL.API.MYSQL_RES(Ptr{Nothing} @0x0000000000000000), Symbol[], Type[], Dict{Symbol, Int64}(), 0, 1, false)"
      ]
     },
     "execution_count": 95,
     "metadata": {},
     "output_type": "execute_result"
    }
   ],
   "source": [
    "table_name = \"person_role\";\n",
    "item_type_id = 4;\n",
    "sql = \"DELETE FROM $(table_name) WHERE person_id IN (SELECT id FROM item WHERE item_type_id = $(item_type_id))\";\n",
    "DBInterface.execute(Wds.dbwiag, sql)"
   ]
  },
  {
   "cell_type": "markdown",
   "metadata": {},
   "source": [
    "Daten schreiben\n",
    "\n",
    "Schreibe für alle Bistümer, auch für die identifizierten, den Namen des Bistums in die Tabelle.  \n",
    "Schreibe für alle Ämter, auch für die identifizierten, den Namen des Amts in die Tabelle."
   ]
  },
  {
   "cell_type": "code",
   "execution_count": 96,
   "metadata": {},
   "outputs": [],
   "source": [
    "columns = [\n",
    "    :Bistum => :diocese_name,\n",
    "    :Amtsbeginn => :date_begin,\n",
    "    :Amtsende => :date_end,\n",
    "    :Amt_Kommentar => :note,\n",
    "    :Sort => :display_order,\n",
    "    :Amtsart => :role_name,\n",
    "    :person_id => :person_id,\n",
    "    :diocese_id => :diocese_id,\n",
    "    :role_id => :role_id,\n",
    "    :num_date_begin => :num_date_begin,\n",
    "    :num_date_end => :num_date_end,\n",
    "    :date_sort_key => :date_sort_key,\n",
    "];"
   ]
  },
  {
   "cell_type": "code",
   "execution_count": 97,
   "metadata": {},
   "outputs": [
    {
     "name": "stderr",
     "output_type": "stream",
     "text": [
      "┌ Info: Rows inserted: 7320\n",
      "└ @ WiagDataSetup C:\\Users\\georg\\Documents\\projekte\\WiagDataSetup.jl\\src\\WiagDataSetup.jl:1209\n"
     ]
    },
    {
     "data": {
      "text/plain": [
       "7320"
      ]
     },
     "execution_count": 97,
     "metadata": {},
     "output_type": "execute_result"
    }
   ],
   "source": [
    "table_dst = \"person_role\"\n",
    "Wds.filltable!(table_dst, select(df_prp, columns))"
   ]
  },
  {
   "cell_type": "markdown",
   "metadata": {},
   "source": [
    "Titularbistum eintragen\n",
    "\n",
    "Identifikation über `ID_Bischof`, `Amtsart`, `Bistum`\n",
    "\n",
    "Es gibt nur einen Eintrag, der nicht leer ist?!\n",
    "``` sql\n",
    "SELECT ID_Bischof, Amtsart, Bistum, COUNT(*) AS n\n",
    "FROM bischof.tbl_bischoefe_gatzaemter\n",
    "WHERE Titularbistum IS NOT NULL AND Titularbistum <> ''\n",
    "GROUP BY ID_Bischof, Amtsart, Bistum\n",
    "ORDER BY n DESC;\n",
    "```\n",
    "\n",
    "Es gibt nur einen Eintrag für `ID_Bischof` = 21596. Dieser Bischof ist aber nicht in der Bischofsliste."
   ]
  },
  {
   "cell_type": "code",
   "execution_count": 98,
   "metadata": {},
   "outputs": [
    {
     "data": {
      "text/html": [
       "<div class=\"data-frame\"><p>0 rows × 4 columns</p><table class=\"data-frame\"><thead><tr><th></th><th>ID_Bischof</th><th>Bistum</th><th>Amtsart</th><th>Titularbistum</th></tr><tr><th></th><th title=\"Int64\">Int64</th><th title=\"Union{Missing, String}\">String?</th><th title=\"String\">String</th><th title=\"Union{Missing, String}\">String?</th></tr></thead><tbody></tbody></table></div>"
      ],
      "text/latex": [
       "\\begin{tabular}{r|cccc}\n",
       "\t& ID\\_Bischof & Bistum & Amtsart & Titularbistum\\\\\n",
       "\t\\hline\n",
       "\t& Int64 & String? & String & String?\\\\\n",
       "\t\\hline\n",
       "\\end{tabular}\n"
      ],
      "text/plain": [
       "\u001b[1m0×4 DataFrame\u001b[0m"
      ]
     },
     "execution_count": 98,
     "metadata": {},
     "output_type": "execute_result"
    }
   ],
   "source": [
    "filter(:ID_Bischof => isequal(21596), select(df_prp, :ID_Bischof, :Bistum, :Amtsart, :Titularbistum))"
   ]
  },
  {
   "cell_type": "markdown",
   "metadata": {},
   "source": [
    "## Zeitspanne der Person"
   ]
  },
  {
   "cell_type": "code",
   "execution_count": 99,
   "metadata": {},
   "outputs": [],
   "source": [
    "sql = \"SELECT id, num_date_birth, num_date_death\n",
    "FROM person WHERE id in (SELECT id FROM item WHERE item_type_id = $(item_type_id))\"\n",
    "df_date = Wds.sql_df(sql);"
   ]
  },
  {
   "cell_type": "code",
   "execution_count": 100,
   "metadata": {},
   "outputs": [
    {
     "data": {
      "text/plain": [
       "(5171, 3)"
      ]
     },
     "execution_count": 100,
     "metadata": {},
     "output_type": "execute_result"
    }
   ],
   "source": [
    "size(df_date)"
   ]
  },
  {
   "cell_type": "markdown",
   "metadata": {},
   "source": [
    "Zeitspanne der Ämter"
   ]
  },
  {
   "cell_type": "code",
   "execution_count": 101,
   "metadata": {},
   "outputs": [],
   "source": [
    "df_pr_begin_value = dropmissing(df_prp, :num_date_begin);\n",
    "df_pr_begin = groupby(select(df_pr_begin_value, :person_id, :num_date_begin), :person_id);"
   ]
  },
  {
   "cell_type": "code",
   "execution_count": 102,
   "metadata": {},
   "outputs": [],
   "source": [
    "df_pr_date_min = combine(df_pr_begin, :num_date_begin => minimum => :date_min);"
   ]
  },
  {
   "cell_type": "code",
   "execution_count": 103,
   "metadata": {},
   "outputs": [
    {
     "data": {
      "text/plain": [
       "(5025, 2)"
      ]
     },
     "execution_count": 103,
     "metadata": {},
     "output_type": "execute_result"
    }
   ],
   "source": [
    "size(df_pr_date_min)"
   ]
  },
  {
   "cell_type": "code",
   "execution_count": 104,
   "metadata": {},
   "outputs": [
    {
     "data": {
      "text/plain": [
       "2-element Vector{String}:\n",
       " \"person_id\"\n",
       " \"date_min\""
      ]
     },
     "execution_count": 104,
     "metadata": {},
     "output_type": "execute_result"
    }
   ],
   "source": [
    "names(df_pr_date_min)"
   ]
  },
  {
   "cell_type": "code",
   "execution_count": 105,
   "metadata": {},
   "outputs": [],
   "source": [
    "df_pr_end_value = dropmissing(df_prp, :num_date_end);\n",
    "df_pr_end = groupby(select(df_pr_end_value, :person_id, :num_date_end), :person_id);"
   ]
  },
  {
   "cell_type": "code",
   "execution_count": 106,
   "metadata": {},
   "outputs": [],
   "source": [
    "df_pr_date_max = combine(df_pr_end, :num_date_end => maximum => :date_max);"
   ]
  },
  {
   "cell_type": "code",
   "execution_count": 107,
   "metadata": {},
   "outputs": [
    {
     "data": {
      "text/plain": [
       "(4539, 2)"
      ]
     },
     "execution_count": 107,
     "metadata": {},
     "output_type": "execute_result"
    }
   ],
   "source": [
    "size(df_pr_date_max)"
   ]
  },
  {
   "cell_type": "code",
   "execution_count": 108,
   "metadata": {},
   "outputs": [],
   "source": [
    "df_date = leftjoin(df_date, df_pr_date_min, on = :id => :person_id);"
   ]
  },
  {
   "cell_type": "code",
   "execution_count": 109,
   "metadata": {},
   "outputs": [],
   "source": [
    "df_date = leftjoin(df_date, df_pr_date_max, on = :id => :person_id);"
   ]
  },
  {
   "cell_type": "code",
   "execution_count": 110,
   "metadata": {},
   "outputs": [
    {
     "data": {
      "text/plain": [
       "(5171, 5)"
      ]
     },
     "execution_count": 110,
     "metadata": {},
     "output_type": "execute_result"
    }
   ],
   "source": [
    "size(df_date)"
   ]
  },
  {
   "cell_type": "code",
   "execution_count": 111,
   "metadata": {},
   "outputs": [
    {
     "data": {
      "text/plain": [
       "5-element Vector{String}:\n",
       " \"id\"\n",
       " \"num_date_birth\"\n",
       " \"num_date_death\"\n",
       " \"date_min\"\n",
       " \"date_max\""
      ]
     },
     "execution_count": 111,
     "metadata": {},
     "output_type": "execute_result"
    }
   ],
   "source": [
    "names(df_date)"
   ]
  },
  {
   "cell_type": "markdown",
   "metadata": {},
   "source": [
    "Geburts- und Sterbedatum  \n",
    "Geburts- und Sterbedaten - so vorhanden - können die Zeitspanne nur verkürzen!"
   ]
  },
  {
   "cell_type": "code",
   "execution_count": 112,
   "metadata": {},
   "outputs": [],
   "source": [
    "min_may_be(x, y) = ismissing(x) ? y : (ismissing(y) ? x : min(x, y));\n",
    "max_may_be(x, y) = ismissing(x) ? y : (ismissing(y) ? x : max(x, y));"
   ]
  },
  {
   "cell_type": "code",
   "execution_count": 113,
   "metadata": {},
   "outputs": [],
   "source": [
    "transform!(df_date, [:date_min, :num_date_birth] => ByRow(max_may_be) => :date_min); # sic!"
   ]
  },
  {
   "cell_type": "code",
   "execution_count": 114,
   "metadata": {},
   "outputs": [],
   "source": [
    "transform!(df_date, [:date_max, :num_date_death] => ByRow(min_may_be) => :date_max); # sic!"
   ]
  },
  {
   "cell_type": "markdown",
   "metadata": {},
   "source": [
    "Übernimm' den jeweils gültigen Wert für fehlende Daten"
   ]
  },
  {
   "cell_type": "code",
   "execution_count": 115,
   "metadata": {},
   "outputs": [],
   "source": [
    "get_first_not_missing(x, y) = !ismissing(x) ? x : y;"
   ]
  },
  {
   "cell_type": "code",
   "execution_count": 116,
   "metadata": {},
   "outputs": [],
   "source": [
    "transform!(df_date, [:date_min, :date_max] => ByRow(get_first_not_missing) => :date_min);"
   ]
  },
  {
   "cell_type": "code",
   "execution_count": 117,
   "metadata": {},
   "outputs": [],
   "source": [
    "transform!(df_date, [:date_max, :date_min] => ByRow(get_first_not_missing) => :date_max);"
   ]
  },
  {
   "cell_type": "markdown",
   "metadata": {},
   "source": [
    "Damit sind Einträge mit fehlenden Daten entbehrlich"
   ]
  },
  {
   "cell_type": "code",
   "execution_count": 118,
   "metadata": {},
   "outputs": [],
   "source": [
    "dropmissing!(df_date, :date_min);"
   ]
  },
  {
   "cell_type": "markdown",
   "metadata": {},
   "source": [
    "Trage die geänderten Daten ein "
   ]
  },
  {
   "cell_type": "code",
   "execution_count": 119,
   "metadata": {},
   "outputs": [
    {
     "data": {
      "text/plain": [
       "MySQL.TextCursor{true}(MySQL.Connection(host=\"127.0.0.1\", user=\"georg\", port=\"3306\", db=\"wiag2\"), \"CREATE TABLE date_update (id INT, date_min INT, date_max INT) \\nENGINE=InnoDB DEFAULT CHARSET=utf8;\", 0, -1, 0, MySQL.API.MYSQL_RES(Ptr{Nothing} @0x0000000000000000), Symbol[], Type[], Dict{Symbol, Int64}(), 0, 1, false)"
      ]
     },
     "execution_count": 119,
     "metadata": {},
     "output_type": "execute_result"
    }
   ],
   "source": [
    "sql = \"CREATE TABLE date_update (id INT, date_min INT, date_max INT) \n",
    "ENGINE=InnoDB DEFAULT CHARSET=utf8;\";\n",
    "DBInterface.execute(Wds.dbwiag, sql)"
   ]
  },
  {
   "cell_type": "code",
   "execution_count": 121,
   "metadata": {},
   "outputs": [
    {
     "data": {
      "text/plain": [
       "3-element Vector{Symbol}:\n",
       " :id\n",
       " :date_min\n",
       " :date_max"
      ]
     },
     "execution_count": 121,
     "metadata": {},
     "output_type": "execute_result"
    }
   ],
   "source": [
    "columns = [\n",
    "    :id,\n",
    "    :date_min,\n",
    "    :date_max,\n",
    "]"
   ]
  },
  {
   "cell_type": "code",
   "execution_count": 123,
   "metadata": {},
   "outputs": [
    {
     "data": {
      "text/plain": [
       "(5038, 5)"
      ]
     },
     "execution_count": 123,
     "metadata": {},
     "output_type": "execute_result"
    }
   ],
   "source": [
    "size(df_date)"
   ]
  },
  {
   "cell_type": "code",
   "execution_count": null,
   "metadata": {},
   "outputs": [],
   "source": [
    "table_name = \"date_update\"\n",
    "Wds.filltable!(table_name, select(df_date, columns))"
   ]
  },
  {
   "cell_type": "markdown",
   "metadata": {},
   "source": [
    "*2022-01-14* Fehler `UndefRefError: access to undefined reference` mit `Wds.filltable!`  \n",
    "Füge die Zeilen einzeln ein."
   ]
  },
  {
   "cell_type": "code",
   "execution_count": 127,
   "metadata": {},
   "outputs": [
    {
     "name": "stderr",
     "output_type": "stream",
     "text": [
      "┌ Info: 400\n",
      "└ @ Main In[127]:9\n",
      "┌ Info: 800\n",
      "└ @ Main In[127]:9\n",
      "┌ Info: 1200\n",
      "└ @ Main In[127]:9\n",
      "┌ Info: 1600\n",
      "└ @ Main In[127]:9\n",
      "┌ Info: 2000\n",
      "└ @ Main In[127]:9\n",
      "┌ Info: 2400\n",
      "└ @ Main In[127]:9\n",
      "┌ Info: 2800\n",
      "└ @ Main In[127]:9\n",
      "┌ Info: 3200\n",
      "└ @ Main In[127]:9\n",
      "┌ Info: 3600\n",
      "└ @ Main In[127]:9\n",
      "┌ Info: 4000\n",
      "└ @ Main In[127]:9\n",
      "┌ Info: 4400\n",
      "└ @ Main In[127]:9\n",
      "┌ Info: 4800\n",
      "└ @ Main In[127]:9\n"
     ]
    }
   ],
   "source": [
    "table_name = \"date_update\";\n",
    "# Es gibt keine fehlenden Werte\n",
    "delta_msg = 400\n",
    "for (i, row) in enumerate(eachrow(df_date))\n",
    "    (id, date_min, date_max) = row[[:id, :date_min, :date_max]]\n",
    "    sql = \"INSERT INTO $(table_name) VALUES ($(id), $(date_min), $(date_max))\";\n",
    "    DBInterface.execute(Wds.dbwiag, sql)\n",
    "    if i % delta_msg == 0\n",
    "       @info i\n",
    "    end\n",
    "end"
   ]
  },
  {
   "cell_type": "markdown",
   "metadata": {},
   "source": [
    "*2022-01-14* Schleife läuft fehlerfrei durch?!"
   ]
  },
  {
   "cell_type": "code",
   "execution_count": 128,
   "metadata": {},
   "outputs": [
    {
     "data": {
      "text/plain": [
       "MySQL.TextCursor{true}(MySQL.Connection(host=\"127.0.0.1\", user=\"georg\", port=\"3306\", db=\"wiag2\"), \"UPDATE person AS p, \\n(SELECT id, date_min, date_max FROM date_update) AS du\\nSET p.date_min = du.date_min, p.date_max = du.date_max\\nWHERE p.id = du.id\", 0, -1, 5038, MySQL.API.MYSQL_RES(Ptr{Nothing} @0x0000000000000000), Symbol[], Type[], Dict{Symbol, Int64}(), 0, 1, false)"
      ]
     },
     "execution_count": 128,
     "metadata": {},
     "output_type": "execute_result"
    }
   ],
   "source": [
    "sql = \"UPDATE person AS p, \n",
    "(SELECT id, date_min, date_max FROM date_update) AS du\n",
    "SET p.date_min = du.date_min, p.date_max = du.date_max\n",
    "WHERE p.id = du.id\";\n",
    "DBInterface.execute(Wds.dbwiag, sql)"
   ]
  },
  {
   "cell_type": "markdown",
   "metadata": {},
   "source": [
    "## Sortierung der Person nach Amt\n",
    "Die Tabelle `person_display_order` ist eine technische Hilfstabelle, um die Abfragen in Doctrine zu vereinfachen oder überhaupt erst zu ermöglichen. Jede Person erhält für jedes Bistum einen Sortierschlüssel und einen weiteren unabhängig vom Bistum.\n",
    "\n",
    "*2022-01-14* Verzichte zunächst auf diese Tabelle und löse das Problem in der Web-Anwendung. So bleibt das Datenmodell schlanker."
   ]
  },
  {
   "cell_type": "code",
   "execution_count": 45,
   "metadata": {},
   "outputs": [],
   "source": [
    "using MySQL, DataFrames"
   ]
  },
  {
   "cell_type": "markdown",
   "metadata": {},
   "source": [
    "Sortierung unabhängig von einer Diözese. Es werden auch Ämter berücksichtigt, die nicht mit einer Diözese verbunden sind."
   ]
  },
  {
   "cell_type": "code",
   "execution_count": 48,
   "metadata": {},
   "outputs": [],
   "source": [
    "sql = \"SELECT person_id, 'any' as diocese, min(display_order) as display_order \" *\n",
    "\"FROM person_role GROUP BY person_id\";\n",
    "df_do = db_exec(sql);"
   ]
  },
  {
   "cell_type": "code",
   "execution_count": 49,
   "metadata": {},
   "outputs": [
    {
     "data": {
      "text/plain": [
       "(5159, 3)"
      ]
     },
     "execution_count": 49,
     "metadata": {},
     "output_type": "execute_result"
    }
   ],
   "source": [
    "size(df_do)"
   ]
  },
  {
   "cell_type": "markdown",
   "metadata": {},
   "source": [
    "Zwölf Bischöfe haben kein Amt!?"
   ]
  },
  {
   "cell_type": "code",
   "execution_count": 50,
   "metadata": {},
   "outputs": [
    {
     "name": "stderr",
     "output_type": "stream",
     "text": [
      "┌ Info: Rows inserted: 5159\n",
      "└ @ WiagDataSetup C:\\Users\\Georg\\Documents\\projekte\\WiagDataSetup.jl\\src\\WiagDataSetup.jl:1169\n"
     ]
    },
    {
     "data": {
      "text/plain": [
       "5159"
      ]
     },
     "execution_count": 50,
     "metadata": {},
     "output_type": "execute_result"
    }
   ],
   "source": [
    "table_dst = \"person_display_order\"\n",
    "Wds.filltable!(table_dst, df_do)"
   ]
  },
  {
   "cell_type": "markdown",
   "metadata": {},
   "source": [
    "Sortierung nach Diözese"
   ]
  },
  {
   "cell_type": "code",
   "execution_count": 52,
   "metadata": {},
   "outputs": [],
   "source": [
    "sql = \"SELECT person_id, diocese_name as diocese, min(display_order) as display_order \" *\n",
    "\"FROM person_role \" *\n",
    "\"WHERE diocese_name IS NOT NULL \" *\n",
    "\"GROUP BY person_id, diocese_name\";\n",
    "df_do = db_exec(sql);"
   ]
  },
  {
   "cell_type": "code",
   "execution_count": 53,
   "metadata": {},
   "outputs": [
    {
     "data": {
      "text/plain": [
       "(6370, 3)"
      ]
     },
     "execution_count": 53,
     "metadata": {},
     "output_type": "execute_result"
    }
   ],
   "source": [
    "size(df_do)"
   ]
  },
  {
   "cell_type": "code",
   "execution_count": 54,
   "metadata": {},
   "outputs": [
    {
     "name": "stderr",
     "output_type": "stream",
     "text": [
      "┌ Info: Rows inserted: 6370\n",
      "└ @ WiagDataSetup C:\\Users\\Georg\\Documents\\projekte\\WiagDataSetup.jl\\src\\WiagDataSetup.jl:1169\n"
     ]
    },
    {
     "data": {
      "text/plain": [
       "6370"
      ]
     },
     "execution_count": 54,
     "metadata": {},
     "output_type": "execute_result"
    }
   ],
   "source": [
    "table_dst = \"person_display_order\"\n",
    "Wds.filltable!(table_dst, df_do)"
   ]
  },
  {
   "cell_type": "markdown",
   "metadata": {},
   "source": [
    "Bischöfe ohne Ämter"
   ]
  },
  {
   "cell_type": "code",
   "execution_count": 55,
   "metadata": {},
   "outputs": [],
   "source": [
    "sql = \"SELECT id AS person_id, 'any' as diocese, 950000 AS display_order \" *\n",
    "\"FROM person WHERE id NOT IN (SELECT DISTINCT person_id FROM person_role)\"\n",
    "df_do_r = db_exec(sql);"
   ]
  },
  {
   "cell_type": "code",
   "execution_count": 56,
   "metadata": {},
   "outputs": [
    {
     "data": {
      "text/plain": [
       "(12, 3)"
      ]
     },
     "execution_count": 56,
     "metadata": {},
     "output_type": "execute_result"
    }
   ],
   "source": [
    "size(df_do_r)"
   ]
  },
  {
   "cell_type": "code",
   "execution_count": 57,
   "metadata": {},
   "outputs": [
    {
     "name": "stderr",
     "output_type": "stream",
     "text": [
      "┌ Info: Rows inserted: 12\n",
      "└ @ WiagDataSetup C:\\Users\\Georg\\Documents\\projekte\\WiagDataSetup.jl\\src\\WiagDataSetup.jl:1169\n"
     ]
    },
    {
     "data": {
      "text/plain": [
       "12"
      ]
     },
     "execution_count": 57,
     "metadata": {},
     "output_type": "execute_result"
    }
   ],
   "source": [
    "table_dst = \"person_display_order\"\n",
    "Wds.filltable!(table_dst, df_do_r)"
   ]
  },
  {
   "cell_type": "code",
   "execution_count": null,
   "metadata": {},
   "outputs": [],
   "source": []
  },
  {
   "cell_type": "code",
   "execution_count": null,
   "metadata": {},
   "outputs": [],
   "source": []
  },
  {
   "cell_type": "code",
   "execution_count": null,
   "metadata": {},
   "outputs": [],
   "source": []
  }
 ],
 "metadata": {
  "kernelspec": {
   "display_name": "Julia 1.7.0",
   "language": "julia",
   "name": "julia-1.7"
  },
  "language_info": {
   "file_extension": ".jl",
   "mimetype": "application/julia",
   "name": "julia",
   "version": "1.7.0"
  }
 },
 "nbformat": 4,
 "nbformat_minor": 4
}
