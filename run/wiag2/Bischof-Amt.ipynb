{
 "cells": [
  {
   "cell_type": "markdown",
   "metadata": {},
   "source": [
    "# Wissensaggregator Mittelalter und frühe Neuzeit\n",
    "\n",
    "## Daten für Ämter der Bischöfe einlesen\n",
    "\n",
    "Übertrage Daten aus Access. Die Daten werden aus Access via ODBC in eine Transfer-Datenbank geschrieben: `bischof.tbl_bischoefe_gatz` und `bischof.tbl_bischoefe_gatzaemter`. Alternativ werden die Daten in CSV-Dateien geschrieben und von dort aus hier eingelesen.\n",
    "\n",
    "[Amt](#Amt)  \n",
    "[Amtsperiode](#Amtsperiode)  \n",
    "[Zeitspanne der Person](#Zeitspanne-der-Person)  \n",
    "[Sortierung der Person nach Amt](#Sortierung-der-Person-nach-Amt)\n",
    "\n",
    "\n",
    "\n"
   ]
  },
  {
   "cell_type": "markdown",
   "metadata": {},
   "source": [
    "Vorspann: Pakete laden; mit der Datenbank verbinden"
   ]
  },
  {
   "cell_type": "code",
   "execution_count": 1,
   "metadata": {},
   "outputs": [
    {
     "data": {
      "text/plain": [
       "\"../..\""
      ]
     },
     "execution_count": 1,
     "metadata": {},
     "output_type": "execute_result"
    }
   ],
   "source": [
    "wds_path = \"../..\""
   ]
  },
  {
   "cell_type": "code",
   "execution_count": 2,
   "metadata": {},
   "outputs": [],
   "source": [
    "cd(wds_path)"
   ]
  },
  {
   "cell_type": "code",
   "execution_count": 3,
   "metadata": {},
   "outputs": [],
   "source": [
    "using Pkg"
   ]
  },
  {
   "cell_type": "code",
   "execution_count": 4,
   "metadata": {},
   "outputs": [
    {
     "name": "stderr",
     "output_type": "stream",
     "text": [
      "\u001b[32m\u001b[1m  Activating\u001b[22m\u001b[39m project at `C:\\Users\\georg\\Documents\\projekte\\WiagDataSetup.jl`\n"
     ]
    }
   ],
   "source": [
    "Pkg.activate(\".\")"
   ]
  },
  {
   "cell_type": "code",
   "execution_count": 5,
   "metadata": {},
   "outputs": [],
   "source": [
    "using Revise, MySQL"
   ]
  },
  {
   "cell_type": "code",
   "execution_count": 6,
   "metadata": {},
   "outputs": [],
   "source": [
    "using WiagDataSetup"
   ]
  },
  {
   "cell_type": "code",
   "execution_count": 7,
   "metadata": {},
   "outputs": [],
   "source": [
    "using MySQL, DataFrames, CSV"
   ]
  },
  {
   "cell_type": "code",
   "execution_count": 8,
   "metadata": {},
   "outputs": [
    {
     "data": {
      "text/plain": [
       "WiagDataSetup"
      ]
     },
     "execution_count": 8,
     "metadata": {},
     "output_type": "execute_result"
    }
   ],
   "source": [
    "Wds = WiagDataSetup"
   ]
  },
  {
   "cell_type": "markdown",
   "metadata": {},
   "source": [
    "*2022-11-03* Optimiere das Datenupdate. Test mit `wiag_in`  "
   ]
  },
  {
   "cell_type": "code",
   "execution_count": 10,
   "metadata": {},
   "outputs": [
    {
     "name": "stdout",
     "output_type": "stream",
     "text": [
      "Passwort für User georg: ········\n"
     ]
    },
    {
     "data": {
      "text/plain": [
       "MySQL.Connection(host=\"127.0.0.1\", user=\"georg\", port=\"3306\", db=\"wiag_in\")"
      ]
     },
     "execution_count": 10,
     "metadata": {},
     "output_type": "execute_result"
    }
   ],
   "source": [
    "Wds.setDBWIAG(user=\"georg\", db=\"wiag_in\")"
   ]
  },
  {
   "cell_type": "markdown",
   "metadata": {},
   "source": [
    "*2022-10-15* mit Daten vom Juli; Update wegen neuer Ämtertabelle\n",
    "*2022-12-03* neue Daten!"
   ]
  },
  {
   "cell_type": "code",
   "execution_count": 11,
   "metadata": {},
   "outputs": [
    {
     "data": {
      "text/plain": [
       "\"C:\\\\Users\\\\georg\\\\Documents\\\\projekte-doc\\\\WIAGweb2\\\\data\\\\bischoefe-2022-11-03\""
      ]
     },
     "execution_count": 11,
     "metadata": {},
     "output_type": "execute_result"
    }
   ],
   "source": [
    "data_path = \"C:\\\\Users\\\\georg\\\\Documents\\\\projekte-doc\\\\WIAGweb2\\\\data\\\\bischoefe-2022-11-03\""
   ]
  },
  {
   "cell_type": "code",
   "execution_count": 12,
   "metadata": {},
   "outputs": [
    {
     "data": {
      "text/plain": [
       "4"
      ]
     },
     "execution_count": 12,
     "metadata": {},
     "output_type": "execute_result"
    }
   ],
   "source": [
    "item_type_id = 4"
   ]
  },
  {
   "cell_type": "code",
   "execution_count": 13,
   "metadata": {},
   "outputs": [
    {
     "data": {
      "text/plain": [
       "120"
      ]
     },
     "execution_count": 13,
     "metadata": {},
     "output_type": "execute_result"
    }
   ],
   "source": [
    "ENV[\"COLUMNS\"] = 120"
   ]
  },
  {
   "cell_type": "markdown",
   "metadata": {},
   "source": [
    "*2022-01-13* Für die offizielle Liste der Ämter gibt es inzwischen eine Liste: `domherr.tbl_aemterliste_normiert`. Die Ämter der Bischöfe sind neu zuzuordnen."
   ]
  },
  {
   "cell_type": "markdown",
   "metadata": {},
   "source": [
    "## Amtsperiode"
   ]
  },
  {
   "cell_type": "code",
   "execution_count": 10,
   "metadata": {},
   "outputs": [],
   "source": [
    "# Quelle Datenbank\n",
    "sql = \"SELECT * FROM bischof.tbl_bischoefe_gatzaemter\"\n",
    "df_pr = Wds.sql_df(sql);"
   ]
  },
  {
   "cell_type": "code",
   "execution_count": 14,
   "metadata": {},
   "outputs": [],
   "source": [
    "using CSV, DataFrames"
   ]
  },
  {
   "cell_type": "code",
   "execution_count": 15,
   "metadata": {},
   "outputs": [],
   "source": [
    "# Quelle CSV\n",
    "filename = joinpath(data_path, \"tbl_bischoefe_gatzaemter.csv\");\n",
    "df_pr = CSV.read(filename, DataFrame, stringtype = String);"
   ]
  },
  {
   "cell_type": "code",
   "execution_count": 16,
   "metadata": {},
   "outputs": [
    {
     "data": {
      "text/plain": [
       "(7339, 16)"
      ]
     },
     "execution_count": 16,
     "metadata": {},
     "output_type": "execute_result"
    }
   ],
   "source": [
    "size(df_pr)"
   ]
  },
  {
   "cell_type": "code",
   "execution_count": 17,
   "metadata": {},
   "outputs": [
    {
     "data": {
      "text/plain": [
       "16-element Vector{String}:\n",
       " \"Bistum\"\n",
       " \"Amtsart\"\n",
       " \"Amtsbeginn\"\n",
       " \"Amtsende\"\n",
       " \"ID_Amt\"\n",
       " \"ID_Bischof\"\n",
       " \"Institution\"\n",
       " \"Amt_weltlich\"\n",
       " \"Herrschaftsgebiet\"\n",
       " \"Ort\"\n",
       " \"Amt_Kommentar\"\n",
       " \"Sort\"\n",
       " \"Titularbistum\"\n",
       " \"Profession\"\n",
       " \"id_gsn\"\n",
       " \"Amt_normiert\""
      ]
     },
     "execution_count": 17,
     "metadata": {},
     "output_type": "execute_result"
    }
   ],
   "source": [
    "names(df_pr)"
   ]
  },
  {
   "cell_type": "markdown",
   "metadata": {},
   "source": [
    "nicht befüllt:\n",
    "- Herrschafsgebiet\n",
    "- Institution\n",
    "- Amt_weltlich\n",
    "- Profession\n",
    "- Ort"
   ]
  },
  {
   "cell_type": "markdown",
   "metadata": {},
   "source": [
    "### Bischöfe zuordnen"
   ]
  },
  {
   "cell_type": "code",
   "execution_count": 18,
   "metadata": {},
   "outputs": [],
   "source": [
    "transform!(df_pr, :ID_Bischof => ByRow(string) => :id_in_source);"
   ]
  },
  {
   "cell_type": "code",
   "execution_count": 19,
   "metadata": {},
   "outputs": [],
   "source": [
    "bishop_item_type = 4;\n",
    "sql = \"SELECT id AS person_id, id_in_source FROM item WHERE item_type_id = $(bishop_item_type)\";\n",
    "df_idx = Wds.sql_df(sql);"
   ]
  },
  {
   "cell_type": "code",
   "execution_count": 20,
   "metadata": {},
   "outputs": [],
   "source": [
    "df_prp = leftjoin(df_pr, df_idx, on = :id_in_source);"
   ]
  },
  {
   "cell_type": "code",
   "execution_count": 21,
   "metadata": {},
   "outputs": [
    {
     "data": {
      "text/plain": [
       "(7339, 18)"
      ]
     },
     "execution_count": 21,
     "metadata": {},
     "output_type": "execute_result"
    }
   ],
   "source": [
    "size(df_prp)"
   ]
  },
  {
   "cell_type": "markdown",
   "metadata": {},
   "source": [
    "Amtsangaben ohne Bezug zu einem Bischof"
   ]
  },
  {
   "cell_type": "code",
   "execution_count": 22,
   "metadata": {},
   "outputs": [
    {
     "data": {
      "text/html": [
       "<div><div style = \"float: left;\"><span>19×18 DataFrame</span></div><div style = \"clear: both;\"></div></div><div class = \"data-frame\" style = \"overflow-x: scroll;\"><table class = \"data-frame\" style = \"margin-bottom: 6px;\"><thead><tr class = \"header\"><th class = \"rowNumber\" style = \"font-weight: bold; text-align: right;\">Row</th><th style = \"text-align: left;\">Bistum</th><th style = \"text-align: left;\">Amtsart</th><th style = \"text-align: left;\">Amtsbeginn</th><th style = \"text-align: left;\">Amtsende</th><th style = \"text-align: left;\">ID_Amt</th><th style = \"text-align: left;\">ID_Bischof</th><th style = \"text-align: left;\">Institution</th><th style = \"text-align: left;\">Amt_weltlich</th><th style = \"text-align: left;\">Herrschaftsgebiet</th><th style = \"text-align: left;\">Ort</th><th style = \"text-align: left;\">Amt_Kommentar</th><th style = \"text-align: left;\">Sort</th><th style = \"text-align: left;\">Titularbistum</th><th style = \"text-align: left;\">Profession</th><th style = \"text-align: left;\">id_gsn</th><th style = \"text-align: left;\">Amt_normiert</th><th style = \"text-align: left;\">id_in_source</th><th style = \"text-align: left;\">person_id</th></tr><tr class = \"subheader headerLastRow\"><th class = \"rowNumber\" style = \"font-weight: bold; text-align: right;\"></th><th title = \"Union{Missing, String}\" style = \"text-align: left;\">String?</th><th title = \"String\" style = \"text-align: left;\">String</th><th title = \"Union{Missing, String}\" style = \"text-align: left;\">String?</th><th title = \"Union{Missing, String}\" style = \"text-align: left;\">String?</th><th title = \"Int64\" style = \"text-align: left;\">Int64</th><th title = \"Int64\" style = \"text-align: left;\">Int64</th><th title = \"Missing\" style = \"text-align: left;\">Missing</th><th title = \"Missing\" style = \"text-align: left;\">Missing</th><th title = \"Missing\" style = \"text-align: left;\">Missing</th><th title = \"Missing\" style = \"text-align: left;\">Missing</th><th title = \"Union{Missing, String}\" style = \"text-align: left;\">String?</th><th title = \"Int64\" style = \"text-align: left;\">Int64</th><th title = \"Union{Missing, String}\" style = \"text-align: left;\">String?</th><th title = \"Missing\" style = \"text-align: left;\">Missing</th><th title = \"Union{Missing, Int64}\" style = \"text-align: left;\">Int64?</th><th title = \"Union{Missing, String}\" style = \"text-align: left;\">String?</th><th title = \"String\" style = \"text-align: left;\">String</th><th title = \"Union{Missing, Int32}\" style = \"text-align: left;\">Int32?</th></tr></thead><tbody><tr><td class = \"rowNumber\" style = \"font-weight: bold; text-align: right;\">1</td><td style = \"text-align: left;\">Brixen</td><td style = \"text-align: left;\">Weihbischof</td><td style = \"text-align: left;\">1379</td><td style = \"text-align: left;\">1387</td><td style = \"text-align: right;\">22075</td><td style = \"text-align: right;\">21066</td><td style = \"font-style: italic; text-align: right;\">missing</td><td style = \"font-style: italic; text-align: right;\">missing</td><td style = \"font-style: italic; text-align: right;\">missing</td><td style = \"font-style: italic; text-align: right;\">missing</td><td style = \"font-style: italic; text-align: left;\">missing</td><td style = \"text-align: right;\">11400</td><td style = \"font-style: italic; text-align: left;\">missing</td><td style = \"font-style: italic; text-align: right;\">missing</td><td style = \"font-style: italic; text-align: right;\">missing</td><td style = \"text-align: left;\">Weihbischof</td><td style = \"text-align: left;\">21066</td><td style = \"font-style: italic; text-align: right;\">missing</td></tr><tr><td class = \"rowNumber\" style = \"font-weight: bold; text-align: right;\">2</td><td style = \"text-align: left;\">Chur</td><td style = \"text-align: left;\">Weihbischof</td><td style = \"text-align: left;\">um 1289</td><td style = \"text-align: left;\">1294</td><td style = \"text-align: right;\">22087</td><td style = \"text-align: right;\">21078</td><td style = \"font-style: italic; text-align: right;\">missing</td><td style = \"font-style: italic; text-align: right;\">missing</td><td style = \"font-style: italic; text-align: right;\">missing</td><td style = \"font-style: italic; text-align: right;\">missing</td><td style = \"font-style: italic; text-align: left;\">missing</td><td style = \"text-align: right;\">10100</td><td style = \"font-style: italic; text-align: left;\">missing</td><td style = \"font-style: italic; text-align: right;\">missing</td><td style = \"font-style: italic; text-align: right;\">missing</td><td style = \"text-align: left;\">Weihbischof</td><td style = \"text-align: left;\">21078</td><td style = \"font-style: italic; text-align: right;\">missing</td></tr><tr><td class = \"rowNumber\" style = \"font-weight: bold; text-align: right;\">3</td><td style = \"text-align: left;\">Eichstätt</td><td style = \"text-align: left;\">Weihbischof</td><td style = \"text-align: left;\">1340</td><td style = \"font-style: italic; text-align: left;\">missing</td><td style = \"text-align: right;\">22102</td><td style = \"text-align: right;\">21093</td><td style = \"font-style: italic; text-align: right;\">missing</td><td style = \"font-style: italic; text-align: right;\">missing</td><td style = \"font-style: italic; text-align: right;\">missing</td><td style = \"font-style: italic; text-align: right;\">missing</td><td style = \"font-style: italic; text-align: left;\">missing</td><td style = \"text-align: right;\">10000</td><td style = \"font-style: italic; text-align: left;\">missing</td><td style = \"font-style: italic; text-align: right;\">missing</td><td style = \"font-style: italic; text-align: right;\">missing</td><td style = \"text-align: left;\">Weihbischof</td><td style = \"text-align: left;\">21093</td><td style = \"font-style: italic; text-align: right;\">missing</td></tr><tr><td class = \"rowNumber\" style = \"font-weight: bold; text-align: right;\">4</td><td style = \"text-align: left;\">Halberstadt</td><td style = \"text-align: left;\">Weihbischof</td><td style = \"text-align: left;\">1420</td><td style = \"text-align: left;\">1436</td><td style = \"text-align: right;\">22144</td><td style = \"text-align: right;\">21135</td><td style = \"font-style: italic; text-align: right;\">missing</td><td style = \"font-style: italic; text-align: right;\">missing</td><td style = \"font-style: italic; text-align: right;\">missing</td><td style = \"font-style: italic; text-align: right;\">missing</td><td style = \"font-style: italic; text-align: left;\">missing</td><td style = \"text-align: right;\">12000</td><td style = \"font-style: italic; text-align: left;\">missing</td><td style = \"font-style: italic; text-align: right;\">missing</td><td style = \"font-style: italic; text-align: right;\">missing</td><td style = \"text-align: left;\">Weihbischof</td><td style = \"text-align: left;\">21135</td><td style = \"font-style: italic; text-align: right;\">missing</td></tr><tr><td class = \"rowNumber\" style = \"font-weight: bold; text-align: right;\">5</td><td style = \"text-align: left;\">Köln</td><td style = \"text-align: left;\">Weihbischof</td><td style = \"text-align: left;\">1228</td><td style = \"font-style: italic; text-align: left;\">missing</td><td style = \"text-align: right;\">22173</td><td style = \"text-align: right;\">21164</td><td style = \"font-style: italic; text-align: right;\">missing</td><td style = \"font-style: italic; text-align: right;\">missing</td><td style = \"font-style: italic; text-align: right;\">missing</td><td style = \"font-style: italic; text-align: right;\">missing</td><td style = \"font-style: italic; text-align: left;\">missing</td><td style = \"text-align: right;\">10400</td><td style = \"font-style: italic; text-align: left;\">missing</td><td style = \"font-style: italic; text-align: right;\">missing</td><td style = \"font-style: italic; text-align: right;\">missing</td><td style = \"text-align: left;\">Weihbischof</td><td style = \"text-align: left;\">21164</td><td style = \"font-style: italic; text-align: right;\">missing</td></tr><tr><td class = \"rowNumber\" style = \"font-weight: bold; text-align: right;\">6</td><td style = \"text-align: left;\">Köln</td><td style = \"text-align: left;\">Weihbischof</td><td style = \"text-align: left;\">1352</td><td style = \"text-align: left;\">1364</td><td style = \"text-align: right;\">22184</td><td style = \"text-align: right;\">21175</td><td style = \"font-style: italic; text-align: right;\">missing</td><td style = \"font-style: italic; text-align: right;\">missing</td><td style = \"font-style: italic; text-align: right;\">missing</td><td style = \"font-style: italic; text-align: right;\">missing</td><td style = \"font-style: italic; text-align: left;\">missing</td><td style = \"text-align: right;\">11800</td><td style = \"font-style: italic; text-align: left;\">missing</td><td style = \"font-style: italic; text-align: right;\">missing</td><td style = \"font-style: italic; text-align: right;\">missing</td><td style = \"text-align: left;\">Weihbischof</td><td style = \"text-align: left;\">21175</td><td style = \"font-style: italic; text-align: right;\">missing</td></tr><tr><td class = \"rowNumber\" style = \"font-weight: bold; text-align: right;\">7</td><td style = \"text-align: left;\">Konstanz</td><td style = \"text-align: left;\">Weihbischof</td><td style = \"text-align: left;\">1289</td><td style = \"text-align: left;\">1294 (1299 ?)</td><td style = \"text-align: right;\">22198</td><td style = \"text-align: right;\">21189</td><td style = \"font-style: italic; text-align: right;\">missing</td><td style = \"font-style: italic; text-align: right;\">missing</td><td style = \"font-style: italic; text-align: right;\">missing</td><td style = \"font-style: italic; text-align: right;\">missing</td><td style = \"font-style: italic; text-align: left;\">missing</td><td style = \"text-align: right;\">10900</td><td style = \"font-style: italic; text-align: left;\">missing</td><td style = \"font-style: italic; text-align: right;\">missing</td><td style = \"font-style: italic; text-align: right;\">missing</td><td style = \"text-align: left;\">Weihbischof</td><td style = \"text-align: left;\">21189</td><td style = \"font-style: italic; text-align: right;\">missing</td></tr><tr><td class = \"rowNumber\" style = \"font-weight: bold; text-align: right;\">8</td><td style = \"text-align: left;\">Leitomischl</td><td style = \"text-align: left;\">Weihbischof</td><td style = \"text-align: left;\">1361</td><td style = \"font-style: italic; text-align: left;\">missing</td><td style = \"text-align: right;\">22238</td><td style = \"text-align: right;\">21229</td><td style = \"font-style: italic; text-align: right;\">missing</td><td style = \"font-style: italic; text-align: right;\">missing</td><td style = \"font-style: italic; text-align: right;\">missing</td><td style = \"font-style: italic; text-align: right;\">missing</td><td style = \"font-style: italic; text-align: left;\">missing</td><td style = \"text-align: right;\">10000</td><td style = \"font-style: italic; text-align: left;\">missing</td><td style = \"font-style: italic; text-align: right;\">missing</td><td style = \"font-style: italic; text-align: right;\">missing</td><td style = \"text-align: left;\">Weihbischof</td><td style = \"text-align: left;\">21229</td><td style = \"font-style: italic; text-align: right;\">missing</td></tr><tr><td class = \"rowNumber\" style = \"font-weight: bold; text-align: right;\">9</td><td style = \"text-align: left;\">Lüttich</td><td style = \"text-align: left;\">Weihbischof</td><td style = \"text-align: left;\">1233</td><td style = \"font-style: italic; text-align: left;\">missing</td><td style = \"text-align: right;\">22243</td><td style = \"text-align: right;\">21234</td><td style = \"font-style: italic; text-align: right;\">missing</td><td style = \"font-style: italic; text-align: right;\">missing</td><td style = \"font-style: italic; text-align: right;\">missing</td><td style = \"font-style: italic; text-align: right;\">missing</td><td style = \"font-style: italic; text-align: left;\">missing</td><td style = \"text-align: right;\">10700</td><td style = \"font-style: italic; text-align: left;\">missing</td><td style = \"font-style: italic; text-align: right;\">missing</td><td style = \"font-style: italic; text-align: right;\">missing</td><td style = \"text-align: left;\">Weihbischof</td><td style = \"text-align: left;\">21234</td><td style = \"font-style: italic; text-align: right;\">missing</td></tr><tr><td class = \"rowNumber\" style = \"font-weight: bold; text-align: right;\">10</td><td style = \"text-align: left;\">Lüttich</td><td style = \"text-align: left;\">Weihbischof</td><td style = \"text-align: left;\">1242</td><td style = \"text-align: left;\">1260</td><td style = \"text-align: right;\">22244</td><td style = \"text-align: right;\">21235</td><td style = \"font-style: italic; text-align: right;\">missing</td><td style = \"font-style: italic; text-align: right;\">missing</td><td style = \"font-style: italic; text-align: right;\">missing</td><td style = \"font-style: italic; text-align: right;\">missing</td><td style = \"font-style: italic; text-align: left;\">missing</td><td style = \"text-align: right;\">10900</td><td style = \"font-style: italic; text-align: left;\">missing</td><td style = \"font-style: italic; text-align: right;\">missing</td><td style = \"font-style: italic; text-align: right;\">missing</td><td style = \"text-align: left;\">Weihbischof</td><td style = \"text-align: left;\">21235</td><td style = \"font-style: italic; text-align: right;\">missing</td></tr><tr><td class = \"rowNumber\" style = \"font-weight: bold; text-align: right;\">11</td><td style = \"text-align: left;\">Regensburg</td><td style = \"text-align: left;\">Weihbischof</td><td style = \"text-align: left;\">um 1325</td><td style = \"font-style: italic; text-align: left;\">missing</td><td style = \"text-align: right;\">22398</td><td style = \"text-align: right;\">21389</td><td style = \"font-style: italic; text-align: right;\">missing</td><td style = \"font-style: italic; text-align: right;\">missing</td><td style = \"font-style: italic; text-align: right;\">missing</td><td style = \"font-style: italic; text-align: right;\">missing</td><td style = \"font-style: italic; text-align: left;\">missing</td><td style = \"text-align: right;\">10100</td><td style = \"font-style: italic; text-align: left;\">missing</td><td style = \"font-style: italic; text-align: right;\">missing</td><td style = \"font-style: italic; text-align: right;\">missing</td><td style = \"text-align: left;\">Weihbischof</td><td style = \"text-align: left;\">21389</td><td style = \"font-style: italic; text-align: right;\">missing</td></tr><tr><td class = \"rowNumber\" style = \"font-weight: bold; text-align: right;\">12</td><td style = \"text-align: left;\">Regensburg</td><td style = \"text-align: left;\">Weihbischof</td><td style = \"text-align: left;\">um 1372</td><td style = \"font-style: italic; text-align: left;\">missing</td><td style = \"text-align: right;\">22401</td><td style = \"text-align: right;\">21392</td><td style = \"font-style: italic; text-align: right;\">missing</td><td style = \"font-style: italic; text-align: right;\">missing</td><td style = \"font-style: italic; text-align: right;\">missing</td><td style = \"font-style: italic; text-align: right;\">missing</td><td style = \"font-style: italic; text-align: left;\">missing</td><td style = \"text-align: right;\">10320</td><td style = \"font-style: italic; text-align: left;\">missing</td><td style = \"font-style: italic; text-align: right;\">missing</td><td style = \"font-style: italic; text-align: right;\">missing</td><td style = \"text-align: left;\">Weihbischof</td><td style = \"text-align: left;\">21392</td><td style = \"font-style: italic; text-align: right;\">missing</td></tr><tr><td class = \"rowNumber\" style = \"font-weight: bold; text-align: right;\">13</td><td style = \"text-align: left;\">Straßburg</td><td style = \"text-align: left;\">Weihbischof</td><td style = \"text-align: left;\">1372</td><td style = \"text-align: left;\">1381</td><td style = \"text-align: right;\">22438</td><td style = \"text-align: right;\">21429</td><td style = \"font-style: italic; text-align: right;\">missing</td><td style = \"font-style: italic; text-align: right;\">missing</td><td style = \"font-style: italic; text-align: right;\">missing</td><td style = \"font-style: italic; text-align: right;\">missing</td><td style = \"font-style: italic; text-align: left;\">missing</td><td style = \"text-align: right;\">11500</td><td style = \"font-style: italic; text-align: left;\">missing</td><td style = \"font-style: italic; text-align: right;\">missing</td><td style = \"font-style: italic; text-align: right;\">missing</td><td style = \"text-align: left;\">Weihbischof</td><td style = \"text-align: left;\">21429</td><td style = \"font-style: italic; text-align: right;\">missing</td></tr><tr><td class = \"rowNumber\" style = \"font-weight: bold; text-align: right;\">14</td><td style = \"text-align: left;\">Utrecht</td><td style = \"text-align: left;\">Weihbischof</td><td style = \"text-align: left;\">1310</td><td style = \"font-style: italic; text-align: left;\">missing</td><td style = \"text-align: right;\">22497</td><td style = \"text-align: right;\">21488</td><td style = \"font-style: italic; text-align: right;\">missing</td><td style = \"font-style: italic; text-align: right;\">missing</td><td style = \"font-style: italic; text-align: right;\">missing</td><td style = \"font-style: italic; text-align: right;\">missing</td><td style = \"font-style: italic; text-align: left;\">missing</td><td style = \"text-align: right;\">11800</td><td style = \"font-style: italic; text-align: left;\">missing</td><td style = \"font-style: italic; text-align: right;\">missing</td><td style = \"font-style: italic; text-align: right;\">missing</td><td style = \"text-align: left;\">Weihbischof</td><td style = \"text-align: left;\">21488</td><td style = \"font-style: italic; text-align: right;\">missing</td></tr><tr><td class = \"rowNumber\" style = \"font-weight: bold; text-align: right;\">15</td><td style = \"text-align: left;\">Breslau</td><td style = \"text-align: left;\">Weihbischof</td><td style = \"text-align: left;\">seit 1442</td><td style = \"font-style: italic; text-align: left;\">missing</td><td style = \"text-align: right;\">22801</td><td style = \"text-align: right;\">21596</td><td style = \"font-style: italic; text-align: right;\">missing</td><td style = \"font-style: italic; text-align: right;\">missing</td><td style = \"font-style: italic; text-align: right;\">missing</td><td style = \"font-style: italic; text-align: right;\">missing</td><td style = \"font-style: italic; text-align: left;\">missing</td><td style = \"text-align: right;\">0</td><td style = \"text-align: left;\">Ep. tit. Nicopolitan</td><td style = \"font-style: italic; text-align: right;\">missing</td><td style = \"font-style: italic; text-align: right;\">missing</td><td style = \"text-align: left;\">Weihbischof</td><td style = \"text-align: left;\">21596</td><td style = \"font-style: italic; text-align: right;\">missing</td></tr><tr><td class = \"rowNumber\" style = \"font-weight: bold; text-align: right;\">16</td><td style = \"text-align: left;\">Olmütz</td><td style = \"text-align: left;\">Weihbischof</td><td style = \"text-align: left;\">seit 1442</td><td style = \"font-style: italic; text-align: left;\">missing</td><td style = \"text-align: right;\">22802</td><td style = \"text-align: right;\">21596</td><td style = \"font-style: italic; text-align: right;\">missing</td><td style = \"font-style: italic; text-align: right;\">missing</td><td style = \"font-style: italic; text-align: right;\">missing</td><td style = \"font-style: italic; text-align: right;\">missing</td><td style = \"font-style: italic; text-align: left;\">missing</td><td style = \"text-align: right;\">0</td><td style = \"font-style: italic; text-align: left;\">missing</td><td style = \"font-style: italic; text-align: right;\">missing</td><td style = \"font-style: italic; text-align: right;\">missing</td><td style = \"text-align: left;\">Weihbischof</td><td style = \"text-align: left;\">21596</td><td style = \"font-style: italic; text-align: right;\">missing</td></tr><tr><td class = \"rowNumber\" style = \"font-weight: bold; text-align: right;\">17</td><td style = \"text-align: left;\">Nizza</td><td style = \"text-align: left;\">Bischof</td><td style = \"text-align: left;\">1462</td><td style = \"font-style: italic; text-align: left;\">missing</td><td style = \"text-align: right;\">22816</td><td style = \"text-align: right;\">21608</td><td style = \"font-style: italic; text-align: right;\">missing</td><td style = \"font-style: italic; text-align: right;\">missing</td><td style = \"font-style: italic; text-align: right;\">missing</td><td style = \"font-style: italic; text-align: right;\">missing</td><td style = \"font-style: italic; text-align: left;\">missing</td><td style = \"text-align: right;\">0</td><td style = \"font-style: italic; text-align: left;\">missing</td><td style = \"font-style: italic; text-align: right;\">missing</td><td style = \"font-style: italic; text-align: right;\">missing</td><td style = \"text-align: left;\">Bischof</td><td style = \"text-align: left;\">21608</td><td style = \"font-style: italic; text-align: right;\">missing</td></tr><tr><td class = \"rowNumber\" style = \"font-weight: bold; text-align: right;\">18</td><td style = \"text-align: left;\">Toul</td><td style = \"text-align: left;\">Weihbischof</td><td style = \"font-style: italic; text-align: left;\">missing</td><td style = \"font-style: italic; text-align: left;\">missing</td><td style = \"text-align: right;\">22942</td><td style = \"text-align: right;\">21679</td><td style = \"font-style: italic; text-align: right;\">missing</td><td style = \"font-style: italic; text-align: right;\">missing</td><td style = \"font-style: italic; text-align: right;\">missing</td><td style = \"font-style: italic; text-align: right;\">missing</td><td style = \"text-align: left;\">bei Gatz nicht aufgelistet, sondern nur in Fußnote erwähnt</td><td style = \"text-align: right;\">10105</td><td style = \"font-style: italic; text-align: left;\">missing</td><td style = \"font-style: italic; text-align: right;\">missing</td><td style = \"font-style: italic; text-align: right;\">missing</td><td style = \"text-align: left;\">Weihbischof</td><td style = \"text-align: left;\">21679</td><td style = \"font-style: italic; text-align: right;\">missing</td></tr><tr><td class = \"rowNumber\" style = \"font-weight: bold; text-align: right;\">19</td><td style = \"text-align: left;\">Prag</td><td style = \"text-align: left;\">Generalvikar</td><td style = \"text-align: left;\">1670</td><td style = \"text-align: left;\">1674</td><td style = \"text-align: right;\">23083</td><td style = \"text-align: right;\">21731</td><td style = \"font-style: italic; text-align: right;\">missing</td><td style = \"font-style: italic; text-align: right;\">missing</td><td style = \"font-style: italic; text-align: right;\">missing</td><td style = \"font-style: italic; text-align: right;\">missing</td><td style = \"font-style: italic; text-align: left;\">missing</td><td style = \"text-align: right;\">91050</td><td style = \"font-style: italic; text-align: left;\">missing</td><td style = \"font-style: italic; text-align: right;\">missing</td><td style = \"font-style: italic; text-align: right;\">missing</td><td style = \"text-align: left;\">Generalvikar</td><td style = \"text-align: left;\">21731</td><td style = \"font-style: italic; text-align: right;\">missing</td></tr></tbody></table></div>"
      ],
      "text/latex": [
       "\\begin{tabular}{r|cccccccccc}\n",
       "\t& Bistum & Amtsart & Amtsbeginn & Amtsende & ID\\_Amt & ID\\_Bischof & Institution & Amt\\_weltlich & Herrschaftsgebiet & \\\\\n",
       "\t\\hline\n",
       "\t& String? & String & String? & String? & Int64 & Int64 & Missing & Missing & Missing & \\\\\n",
       "\t\\hline\n",
       "\t1 & Brixen & Weihbischof & 1379 & 1387 & 22075 & 21066 & \\emph{missing} & \\emph{missing} & \\emph{missing} & $\\dots$ \\\\\n",
       "\t2 & Chur & Weihbischof & um 1289 & 1294 & 22087 & 21078 & \\emph{missing} & \\emph{missing} & \\emph{missing} & $\\dots$ \\\\\n",
       "\t3 & Eichstätt & Weihbischof & 1340 & \\emph{missing} & 22102 & 21093 & \\emph{missing} & \\emph{missing} & \\emph{missing} & $\\dots$ \\\\\n",
       "\t4 & Halberstadt & Weihbischof & 1420 & 1436 & 22144 & 21135 & \\emph{missing} & \\emph{missing} & \\emph{missing} & $\\dots$ \\\\\n",
       "\t5 & Köln & Weihbischof & 1228 & \\emph{missing} & 22173 & 21164 & \\emph{missing} & \\emph{missing} & \\emph{missing} & $\\dots$ \\\\\n",
       "\t6 & Köln & Weihbischof & 1352 & 1364 & 22184 & 21175 & \\emph{missing} & \\emph{missing} & \\emph{missing} & $\\dots$ \\\\\n",
       "\t7 & Konstanz & Weihbischof & 1289 & 1294 (1299 ?) & 22198 & 21189 & \\emph{missing} & \\emph{missing} & \\emph{missing} & $\\dots$ \\\\\n",
       "\t8 & Leitomischl & Weihbischof & 1361 & \\emph{missing} & 22238 & 21229 & \\emph{missing} & \\emph{missing} & \\emph{missing} & $\\dots$ \\\\\n",
       "\t9 & Lüttich & Weihbischof & 1233 & \\emph{missing} & 22243 & 21234 & \\emph{missing} & \\emph{missing} & \\emph{missing} & $\\dots$ \\\\\n",
       "\t10 & Lüttich & Weihbischof & 1242 & 1260 & 22244 & 21235 & \\emph{missing} & \\emph{missing} & \\emph{missing} & $\\dots$ \\\\\n",
       "\t11 & Regensburg & Weihbischof & um 1325 & \\emph{missing} & 22398 & 21389 & \\emph{missing} & \\emph{missing} & \\emph{missing} & $\\dots$ \\\\\n",
       "\t12 & Regensburg & Weihbischof & um 1372 & \\emph{missing} & 22401 & 21392 & \\emph{missing} & \\emph{missing} & \\emph{missing} & $\\dots$ \\\\\n",
       "\t13 & Straßburg & Weihbischof & 1372 & 1381 & 22438 & 21429 & \\emph{missing} & \\emph{missing} & \\emph{missing} & $\\dots$ \\\\\n",
       "\t14 & Utrecht & Weihbischof & 1310 & \\emph{missing} & 22497 & 21488 & \\emph{missing} & \\emph{missing} & \\emph{missing} & $\\dots$ \\\\\n",
       "\t15 & Breslau & Weihbischof & seit 1442 & \\emph{missing} & 22801 & 21596 & \\emph{missing} & \\emph{missing} & \\emph{missing} & $\\dots$ \\\\\n",
       "\t16 & Olmütz & Weihbischof & seit 1442 & \\emph{missing} & 22802 & 21596 & \\emph{missing} & \\emph{missing} & \\emph{missing} & $\\dots$ \\\\\n",
       "\t17 & Nizza & Bischof & 1462 & \\emph{missing} & 22816 & 21608 & \\emph{missing} & \\emph{missing} & \\emph{missing} & $\\dots$ \\\\\n",
       "\t18 & Toul & Weihbischof & \\emph{missing} & \\emph{missing} & 22942 & 21679 & \\emph{missing} & \\emph{missing} & \\emph{missing} & $\\dots$ \\\\\n",
       "\t19 & Prag & Generalvikar & 1670 & 1674 & 23083 & 21731 & \\emph{missing} & \\emph{missing} & \\emph{missing} & $\\dots$ \\\\\n",
       "\\end{tabular}\n"
      ],
      "text/plain": [
       "\u001b[1m19×18 DataFrame\u001b[0m\n",
       "\u001b[1m Row \u001b[0m│\u001b[1m Bistum      \u001b[0m\u001b[1m Amtsart      \u001b[0m\u001b[1m Amtsbeginn \u001b[0m\u001b[1m Amtsende      \u001b[0m\u001b[1m ID_Amt \u001b[0m\u001b[1m ID_Bischof \u001b[0m\u001b[1m Institution \u001b[0m\u001b[1m Amt_weltlich \u001b[0m\u001b[1m Herrschaft\u001b[0m ⋯\n",
       "     │\u001b[90m String?     \u001b[0m\u001b[90m String       \u001b[0m\u001b[90m String?    \u001b[0m\u001b[90m String?       \u001b[0m\u001b[90m Int64  \u001b[0m\u001b[90m Int64      \u001b[0m\u001b[90m Missing     \u001b[0m\u001b[90m Missing      \u001b[0m\u001b[90m Missing   \u001b[0m ⋯\n",
       "─────┼──────────────────────────────────────────────────────────────────────────────────────────────────────────────────\n",
       "   1 │ Brixen       Weihbischof   1379        1387            22075       21066 \u001b[90m     missing \u001b[0m\u001b[90m      missing \u001b[0m\u001b[90m           \u001b[0m ⋯\n",
       "   2 │ Chur         Weihbischof   um 1289     1294            22087       21078 \u001b[90m     missing \u001b[0m\u001b[90m      missing \u001b[0m\u001b[90m           \u001b[0m\n",
       "   3 │ Eichstätt    Weihbischof   1340       \u001b[90m missing       \u001b[0m  22102       21093 \u001b[90m     missing \u001b[0m\u001b[90m      missing \u001b[0m\u001b[90m           \u001b[0m\n",
       "   4 │ Halberstadt  Weihbischof   1420        1436            22144       21135 \u001b[90m     missing \u001b[0m\u001b[90m      missing \u001b[0m\u001b[90m           \u001b[0m\n",
       "   5 │ Köln         Weihbischof   1228       \u001b[90m missing       \u001b[0m  22173       21164 \u001b[90m     missing \u001b[0m\u001b[90m      missing \u001b[0m\u001b[90m           \u001b[0m ⋯\n",
       "   6 │ Köln         Weihbischof   1352        1364            22184       21175 \u001b[90m     missing \u001b[0m\u001b[90m      missing \u001b[0m\u001b[90m           \u001b[0m\n",
       "   7 │ Konstanz     Weihbischof   1289        1294 (1299 ?)   22198       21189 \u001b[90m     missing \u001b[0m\u001b[90m      missing \u001b[0m\u001b[90m           \u001b[0m\n",
       "   8 │ Leitomischl  Weihbischof   1361       \u001b[90m missing       \u001b[0m  22238       21229 \u001b[90m     missing \u001b[0m\u001b[90m      missing \u001b[0m\u001b[90m           \u001b[0m\n",
       "   9 │ Lüttich      Weihbischof   1233       \u001b[90m missing       \u001b[0m  22243       21234 \u001b[90m     missing \u001b[0m\u001b[90m      missing \u001b[0m\u001b[90m           \u001b[0m ⋯\n",
       "  10 │ Lüttich      Weihbischof   1242        1260            22244       21235 \u001b[90m     missing \u001b[0m\u001b[90m      missing \u001b[0m\u001b[90m           \u001b[0m\n",
       "  11 │ Regensburg   Weihbischof   um 1325    \u001b[90m missing       \u001b[0m  22398       21389 \u001b[90m     missing \u001b[0m\u001b[90m      missing \u001b[0m\u001b[90m           \u001b[0m\n",
       "  12 │ Regensburg   Weihbischof   um 1372    \u001b[90m missing       \u001b[0m  22401       21392 \u001b[90m     missing \u001b[0m\u001b[90m      missing \u001b[0m\u001b[90m           \u001b[0m\n",
       "  13 │ Straßburg    Weihbischof   1372        1381            22438       21429 \u001b[90m     missing \u001b[0m\u001b[90m      missing \u001b[0m\u001b[90m           \u001b[0m ⋯\n",
       "  14 │ Utrecht      Weihbischof   1310       \u001b[90m missing       \u001b[0m  22497       21488 \u001b[90m     missing \u001b[0m\u001b[90m      missing \u001b[0m\u001b[90m           \u001b[0m\n",
       "  15 │ Breslau      Weihbischof   seit 1442  \u001b[90m missing       \u001b[0m  22801       21596 \u001b[90m     missing \u001b[0m\u001b[90m      missing \u001b[0m\u001b[90m           \u001b[0m\n",
       "  16 │ Olmütz       Weihbischof   seit 1442  \u001b[90m missing       \u001b[0m  22802       21596 \u001b[90m     missing \u001b[0m\u001b[90m      missing \u001b[0m\u001b[90m           \u001b[0m\n",
       "  17 │ Nizza        Bischof       1462       \u001b[90m missing       \u001b[0m  22816       21608 \u001b[90m     missing \u001b[0m\u001b[90m      missing \u001b[0m\u001b[90m           \u001b[0m ⋯\n",
       "  18 │ Toul         Weihbischof  \u001b[90m missing    \u001b[0m\u001b[90m missing       \u001b[0m  22942       21679 \u001b[90m     missing \u001b[0m\u001b[90m      missing \u001b[0m\u001b[90m           \u001b[0m\n",
       "  19 │ Prag         Generalvikar  1670        1674            23083       21731 \u001b[90m     missing \u001b[0m\u001b[90m      missing \u001b[0m\u001b[90m           \u001b[0m\n",
       "\u001b[36m                                                                                                      10 columns omitted\u001b[0m"
      ]
     },
     "execution_count": 22,
     "metadata": {},
     "output_type": "execute_result"
    }
   ],
   "source": [
    "sort_ID_Bischof(df) = sort(df, :ID_Bischof)\n",
    "filter(:person_id => ismissing, df_prp) |> sort_ID_Bischof"
   ]
  },
  {
   "cell_type": "markdown",
   "metadata": {},
   "source": [
    "19 Amtsperioden können keinem Bischof zugeordnet werden?!"
   ]
  },
  {
   "cell_type": "code",
   "execution_count": 23,
   "metadata": {},
   "outputs": [],
   "source": [
    "df_prp = dropmissing(df_prp, :person_id);"
   ]
  },
  {
   "cell_type": "code",
   "execution_count": 24,
   "metadata": {},
   "outputs": [
    {
     "data": {
      "text/plain": [
       "(7320, 18)"
      ]
     },
     "execution_count": 24,
     "metadata": {},
     "output_type": "execute_result"
    }
   ],
   "source": [
    "size(df_prp)"
   ]
  },
  {
   "cell_type": "markdown",
   "metadata": {},
   "source": [
    "Lösche Einträge ohne Amtsbezeichnung"
   ]
  },
  {
   "cell_type": "code",
   "execution_count": 25,
   "metadata": {},
   "outputs": [],
   "source": [
    "df_prp = dropmissing(df_prp, :Amtsart);"
   ]
  },
  {
   "cell_type": "code",
   "execution_count": 26,
   "metadata": {},
   "outputs": [
    {
     "data": {
      "text/plain": [
       "(7320, 18)"
      ]
     },
     "execution_count": 26,
     "metadata": {},
     "output_type": "execute_result"
    }
   ],
   "source": [
    "size(df_prp)"
   ]
  },
  {
   "cell_type": "markdown",
   "metadata": {},
   "source": [
    "### Rollen/Ämter zuordnen"
   ]
  },
  {
   "cell_type": "code",
   "execution_count": 27,
   "metadata": {},
   "outputs": [],
   "source": [
    "sql = \"SELECT name, id FROM role\"\n",
    "df_role = Wds.sql_df(sql);"
   ]
  },
  {
   "cell_type": "code",
   "execution_count": 28,
   "metadata": {},
   "outputs": [],
   "source": [
    "lookup_role = Dict(df_role.name .=> df_role.id);"
   ]
  },
  {
   "cell_type": "code",
   "execution_count": 29,
   "metadata": {},
   "outputs": [
    {
     "data": {
      "text/plain": [
       "get_role_id (generic function with 1 method)"
      ]
     },
     "execution_count": 29,
     "metadata": {},
     "output_type": "execute_result"
    }
   ],
   "source": [
    "get_role_id(name) = get(lookup_role, name, missing)"
   ]
  },
  {
   "cell_type": "code",
   "execution_count": 30,
   "metadata": {},
   "outputs": [
    {
     "data": {
      "text/plain": [
       "489680"
      ]
     },
     "execution_count": 30,
     "metadata": {},
     "output_type": "execute_result"
    }
   ],
   "source": [
    "get_role_id(\"Vikar\")"
   ]
  },
  {
   "cell_type": "markdown",
   "metadata": {},
   "source": [
    "Die Einträge in Tabelle `role` beginnen alle mit einem Großbuchstaben"
   ]
  },
  {
   "cell_type": "code",
   "execution_count": 31,
   "metadata": {},
   "outputs": [],
   "source": [
    "starts_lowercase(s) = islowercase(s[1]);\n",
    "df_prp_sl = filter(:Amtsart => starts_lowercase, df_prp);"
   ]
  },
  {
   "cell_type": "code",
   "execution_count": 32,
   "metadata": {},
   "outputs": [
    {
     "data": {
      "text/html": [
       "<div><div style = \"float: left;\"><span>5×4 DataFrame</span></div><div style = \"clear: both;\"></div></div><div class = \"data-frame\" style = \"overflow-x: scroll;\"><table class = \"data-frame\" style = \"margin-bottom: 6px;\"><thead><tr class = \"header\"><th class = \"rowNumber\" style = \"font-weight: bold; text-align: right;\">Row</th><th style = \"text-align: left;\">person_id</th><th style = \"text-align: left;\">id_in_source</th><th style = \"text-align: left;\">Amtsart</th><th style = \"text-align: left;\">Bistum</th></tr><tr class = \"subheader headerLastRow\"><th class = \"rowNumber\" style = \"font-weight: bold; text-align: right;\"></th><th title = \"Int32\" style = \"text-align: left;\">Int32</th><th title = \"String\" style = \"text-align: left;\">String</th><th title = \"String\" style = \"text-align: left;\">String</th><th title = \"Union{Missing, String}\" style = \"text-align: left;\">String?</th></tr></thead><tbody><tr><td class = \"rowNumber\" style = \"font-weight: bold; text-align: right;\">1</td><td style = \"text-align: right;\">560621</td><td style = \"text-align: left;\">10429</td><td style = \"text-align: left;\">nominierter Bischof</td><td style = \"text-align: left;\">Lüttich</td></tr><tr><td class = \"rowNumber\" style = \"font-weight: bold; text-align: right;\">2</td><td style = \"text-align: right;\">560900</td><td style = \"text-align: left;\">4254</td><td style = \"text-align: left;\">designierter Bischof</td><td style = \"text-align: left;\">Konstanz</td></tr><tr><td class = \"rowNumber\" style = \"font-weight: bold; text-align: right;\">3</td><td style = \"text-align: right;\">563684</td><td style = \"text-align: left;\">21771</td><td style = \"text-align: left;\">evangelischer Administrator</td><td style = \"text-align: left;\">Bremen-Hamburg</td></tr><tr><td class = \"rowNumber\" style = \"font-weight: bold; text-align: right;\">4</td><td style = \"text-align: right;\">563685</td><td style = \"text-align: left;\">21772</td><td style = \"text-align: left;\">evangelischer Administrator</td><td style = \"text-align: left;\">Bremen-Hamburg</td></tr><tr><td class = \"rowNumber\" style = \"font-weight: bold; text-align: right;\">5</td><td style = \"text-align: right;\">563686</td><td style = \"text-align: left;\">21773</td><td style = \"text-align: left;\">evangelischer Administrator</td><td style = \"text-align: left;\">Bremen-Hamburg</td></tr></tbody></table></div>"
      ],
      "text/latex": [
       "\\begin{tabular}{r|cccc}\n",
       "\t& person\\_id & id\\_in\\_source & Amtsart & Bistum\\\\\n",
       "\t\\hline\n",
       "\t& Int32 & String & String & String?\\\\\n",
       "\t\\hline\n",
       "\t1 & 560621 & 10429 & nominierter Bischof & Lüttich \\\\\n",
       "\t2 & 560900 & 4254 & designierter Bischof & Konstanz \\\\\n",
       "\t3 & 563684 & 21771 & evangelischer Administrator & Bremen-Hamburg \\\\\n",
       "\t4 & 563685 & 21772 & evangelischer Administrator & Bremen-Hamburg \\\\\n",
       "\t5 & 563686 & 21773 & evangelischer Administrator & Bremen-Hamburg \\\\\n",
       "\\end{tabular}\n"
      ],
      "text/plain": [
       "\u001b[1m5×4 DataFrame\u001b[0m\n",
       "\u001b[1m Row \u001b[0m│\u001b[1m person_id \u001b[0m\u001b[1m id_in_source \u001b[0m\u001b[1m Amtsart                     \u001b[0m\u001b[1m Bistum         \u001b[0m\n",
       "     │\u001b[90m Int32     \u001b[0m\u001b[90m String       \u001b[0m\u001b[90m String                      \u001b[0m\u001b[90m String?        \u001b[0m\n",
       "─────┼──────────────────────────────────────────────────────────────────────\n",
       "   1 │    560621  10429         nominierter Bischof          Lüttich\n",
       "   2 │    560900  4254          designierter Bischof         Konstanz\n",
       "   3 │    563684  21771         evangelischer Administrator  Bremen-Hamburg\n",
       "   4 │    563685  21772         evangelischer Administrator  Bremen-Hamburg\n",
       "   5 │    563686  21773         evangelischer Administrator  Bremen-Hamburg"
      ]
     },
     "execution_count": 32,
     "metadata": {},
     "output_type": "execute_result"
    }
   ],
   "source": [
    "select(df_prp_sl, [:person_id, :id_in_source, :Amtsart, :Bistum])"
   ]
  },
  {
   "cell_type": "code",
   "execution_count": 33,
   "metadata": {},
   "outputs": [],
   "source": [
    "transform!(df_prp, :Amtsart => ByRow(uppercasefirst) => :Amtsart);"
   ]
  },
  {
   "cell_type": "markdown",
   "metadata": {},
   "source": [
    "SQL berücksichtigt keine Unterschiede in Groß- und Kleinschreibung"
   ]
  },
  {
   "cell_type": "code",
   "execution_count": 34,
   "metadata": {},
   "outputs": [
    {
     "data": {
      "text/html": [
       "<div><div style = \"float: left;\"><span>9×18 DataFrame</span></div><div style = \"clear: both;\"></div></div><div class = \"data-frame\" style = \"overflow-x: scroll;\"><table class = \"data-frame\" style = \"margin-bottom: 6px;\"><thead><tr class = \"header\"><th class = \"rowNumber\" style = \"font-weight: bold; text-align: right;\">Row</th><th style = \"text-align: left;\">Bistum</th><th style = \"text-align: left;\">Amtsart</th><th style = \"text-align: left;\">Amtsbeginn</th><th style = \"text-align: left;\">Amtsende</th><th style = \"text-align: left;\">ID_Amt</th><th style = \"text-align: left;\">ID_Bischof</th><th style = \"text-align: left;\">Institution</th><th style = \"text-align: left;\">Amt_weltlich</th><th style = \"text-align: left;\">Herrschaftsgebiet</th><th style = \"text-align: left;\">Ort</th><th style = \"text-align: left;\">Amt_Kommentar</th><th style = \"text-align: left;\">Sort</th><th style = \"text-align: left;\">Titularbistum</th><th style = \"text-align: left;\">Profession</th><th style = \"text-align: left;\">id_gsn</th><th style = \"text-align: left;\">Amt_normiert</th><th style = \"text-align: left;\">id_in_source</th><th style = \"text-align: left;\">person_id</th></tr><tr class = \"subheader headerLastRow\"><th class = \"rowNumber\" style = \"font-weight: bold; text-align: right;\"></th><th title = \"Union{Missing, String}\" style = \"text-align: left;\">String?</th><th title = \"String\" style = \"text-align: left;\">String</th><th title = \"Union{Missing, String}\" style = \"text-align: left;\">String?</th><th title = \"Union{Missing, String}\" style = \"text-align: left;\">String?</th><th title = \"Int64\" style = \"text-align: left;\">Int64</th><th title = \"Int64\" style = \"text-align: left;\">Int64</th><th title = \"Missing\" style = \"text-align: left;\">Missing</th><th title = \"Missing\" style = \"text-align: left;\">Missing</th><th title = \"Missing\" style = \"text-align: left;\">Missing</th><th title = \"Missing\" style = \"text-align: left;\">Missing</th><th title = \"Union{Missing, String}\" style = \"text-align: left;\">String?</th><th title = \"Int64\" style = \"text-align: left;\">Int64</th><th title = \"Union{Missing, String}\" style = \"text-align: left;\">String?</th><th title = \"Missing\" style = \"text-align: left;\">Missing</th><th title = \"Union{Missing, Int64}\" style = \"text-align: left;\">Int64?</th><th title = \"Union{Missing, String}\" style = \"text-align: left;\">String?</th><th title = \"String\" style = \"text-align: left;\">String</th><th title = \"Int32\" style = \"text-align: left;\">Int32</th></tr></thead><tbody><tr><td class = \"rowNumber\" style = \"font-weight: bold; text-align: right;\">1</td><td style = \"text-align: left;\">Münster</td><td style = \"text-align: left;\">Fürstbischof</td><td style = \"text-align: left;\">1719</td><td style = \"text-align: left;\">1761</td><td style = \"text-align: right;\">5609</td><td style = \"text-align: right;\">10127</td><td style = \"font-style: italic; text-align: right;\">missing</td><td style = \"font-style: italic; text-align: right;\">missing</td><td style = \"font-style: italic; text-align: right;\">missing</td><td style = \"font-style: italic; text-align: right;\">missing</td><td style = \"font-style: italic; text-align: left;\">missing</td><td style = \"text-align: right;\">6200</td><td style = \"font-style: italic; text-align: left;\">missing</td><td style = \"font-style: italic; text-align: right;\">missing</td><td style = \"font-style: italic; text-align: right;\">missing</td><td style = \"text-align: left;\">Fürstbischof</td><td style = \"text-align: left;\">10127</td><td style = \"text-align: right;\">561814</td></tr><tr><td class = \"rowNumber\" style = \"font-weight: bold; text-align: right;\">2</td><td style = \"text-align: left;\">Regensburg</td><td style = \"text-align: left;\">Fürstbischof</td><td style = \"text-align: left;\">1717</td><td style = \"text-align: left;\">1719</td><td style = \"text-align: right;\">4222</td><td style = \"text-align: right;\">10127</td><td style = \"font-style: italic; text-align: right;\">missing</td><td style = \"font-style: italic; text-align: right;\">missing</td><td style = \"font-style: italic; text-align: right;\">missing</td><td style = \"font-style: italic; text-align: right;\">missing</td><td style = \"font-style: italic; text-align: left;\">missing</td><td style = \"text-align: right;\">7000</td><td style = \"font-style: italic; text-align: left;\">missing</td><td style = \"font-style: italic; text-align: right;\">missing</td><td style = \"font-style: italic; text-align: right;\">missing</td><td style = \"text-align: left;\">Fürstbischof</td><td style = \"text-align: left;\">10127</td><td style = \"text-align: right;\">561814</td></tr><tr><td class = \"rowNumber\" style = \"font-weight: bold; text-align: right;\">3</td><td style = \"text-align: left;\">Paderborn</td><td style = \"text-align: left;\">Fürstbischof</td><td style = \"text-align: left;\">1719</td><td style = \"text-align: left;\">1761</td><td style = \"text-align: right;\">4224</td><td style = \"text-align: right;\">10127</td><td style = \"font-style: italic; text-align: right;\">missing</td><td style = \"font-style: italic; text-align: right;\">missing</td><td style = \"font-style: italic; text-align: right;\">missing</td><td style = \"font-style: italic; text-align: right;\">missing</td><td style = \"font-style: italic; text-align: left;\">missing</td><td style = \"text-align: right;\">5300</td><td style = \"font-style: italic; text-align: left;\">missing</td><td style = \"font-style: italic; text-align: right;\">missing</td><td style = \"font-style: italic; text-align: right;\">missing</td><td style = \"text-align: left;\">Fürstbischof</td><td style = \"text-align: left;\">10127</td><td style = \"text-align: right;\">561814</td></tr><tr><td class = \"rowNumber\" style = \"font-weight: bold; text-align: right;\">4</td><td style = \"text-align: left;\">Köln</td><td style = \"text-align: left;\">Koadjutor des Erzbischofs</td><td style = \"text-align: left;\">1722</td><td style = \"text-align: left;\">1723</td><td style = \"text-align: right;\">4225</td><td style = \"text-align: right;\">10127</td><td style = \"font-style: italic; text-align: right;\">missing</td><td style = \"font-style: italic; text-align: right;\">missing</td><td style = \"font-style: italic; text-align: right;\">missing</td><td style = \"font-style: italic; text-align: right;\">missing</td><td style = \"font-style: italic; text-align: left;\">missing</td><td style = \"text-align: right;\">8250</td><td style = \"font-style: italic; text-align: left;\">missing</td><td style = \"font-style: italic; text-align: right;\">missing</td><td style = \"font-style: italic; text-align: right;\">missing</td><td style = \"font-style: italic; text-align: left;\">missing</td><td style = \"text-align: left;\">10127</td><td style = \"text-align: right;\">561814</td></tr><tr><td class = \"rowNumber\" style = \"font-weight: bold; text-align: right;\">5</td><td style = \"text-align: left;\">Köln</td><td style = \"text-align: left;\">Kurfürst-Erzbischof</td><td style = \"text-align: left;\">1723</td><td style = \"text-align: left;\">1761</td><td style = \"text-align: right;\">4226</td><td style = \"text-align: right;\">10127</td><td style = \"font-style: italic; text-align: right;\">missing</td><td style = \"font-style: italic; text-align: right;\">missing</td><td style = \"font-style: italic; text-align: right;\">missing</td><td style = \"font-style: italic; text-align: right;\">missing</td><td style = \"font-style: italic; text-align: left;\">missing</td><td style = \"text-align: right;\">8300</td><td style = \"font-style: italic; text-align: left;\">missing</td><td style = \"font-style: italic; text-align: right;\">missing</td><td style = \"font-style: italic; text-align: right;\">missing</td><td style = \"font-style: italic; text-align: left;\">missing</td><td style = \"text-align: left;\">10127</td><td style = \"text-align: right;\">561814</td></tr><tr><td class = \"rowNumber\" style = \"font-weight: bold; text-align: right;\">6</td><td style = \"text-align: left;\">Hildesheim</td><td style = \"text-align: left;\">Fürstbischof</td><td style = \"text-align: left;\">1724</td><td style = \"text-align: left;\">1761</td><td style = \"text-align: right;\">4227</td><td style = \"text-align: right;\">10127</td><td style = \"font-style: italic; text-align: right;\">missing</td><td style = \"font-style: italic; text-align: right;\">missing</td><td style = \"font-style: italic; text-align: right;\">missing</td><td style = \"font-style: italic; text-align: right;\">missing</td><td style = \"font-style: italic; text-align: left;\">missing</td><td style = \"text-align: right;\">6800</td><td style = \"font-style: italic; text-align: left;\">missing</td><td style = \"font-style: italic; text-align: right;\">missing</td><td style = \"font-style: italic; text-align: right;\">missing</td><td style = \"text-align: left;\">Fürstbischof</td><td style = \"text-align: left;\">10127</td><td style = \"text-align: right;\">561814</td></tr><tr><td class = \"rowNumber\" style = \"font-weight: bold; text-align: right;\">7</td><td style = \"text-align: left;\">Osnabrück</td><td style = \"text-align: left;\">Fürstbischof</td><td style = \"text-align: left;\">1728</td><td style = \"text-align: left;\">1761</td><td style = \"text-align: right;\">4228</td><td style = \"text-align: right;\">10127</td><td style = \"font-style: italic; text-align: right;\">missing</td><td style = \"font-style: italic; text-align: right;\">missing</td><td style = \"font-style: italic; text-align: right;\">missing</td><td style = \"font-style: italic; text-align: right;\">missing</td><td style = \"font-style: italic; text-align: left;\">missing</td><td style = \"text-align: right;\">6100</td><td style = \"font-style: italic; text-align: left;\">missing</td><td style = \"font-style: italic; text-align: right;\">missing</td><td style = \"font-style: italic; text-align: right;\">missing</td><td style = \"text-align: left;\">Fürstbischof</td><td style = \"text-align: left;\">10127</td><td style = \"text-align: right;\">561814</td></tr><tr><td class = \"rowNumber\" style = \"font-weight: bold; text-align: right;\">8</td><td style = \"font-style: italic; text-align: left;\">missing</td><td style = \"text-align: left;\">Fürstpropst</td><td style = \"text-align: left;\">1723</td><td style = \"text-align: left;\">1761</td><td style = \"text-align: right;\">21892</td><td style = \"text-align: right;\">10127</td><td style = \"font-style: italic; text-align: right;\">missing</td><td style = \"font-style: italic; text-align: right;\">missing</td><td style = \"font-style: italic; text-align: right;\">missing</td><td style = \"font-style: italic; text-align: right;\">missing</td><td style = \"text-align: left;\">1716-1723 Koadjutor des Fürstpropstes von Berchtesgaden</td><td style = \"text-align: right;\">0</td><td style = \"font-style: italic; text-align: left;\">missing</td><td style = \"font-style: italic; text-align: right;\">missing</td><td style = \"text-align: right;\">30121</td><td style = \"font-style: italic; text-align: left;\">missing</td><td style = \"text-align: left;\">10127</td><td style = \"text-align: right;\">561814</td></tr><tr><td class = \"rowNumber\" style = \"font-weight: bold; text-align: right;\">9</td><td style = \"text-align: left;\">Regensburg</td><td style = \"text-align: left;\">Koadjutor</td><td style = \"text-align: left;\">1715</td><td style = \"text-align: left;\">1716</td><td style = \"text-align: right;\">23084</td><td style = \"text-align: right;\">10127</td><td style = \"font-style: italic; text-align: right;\">missing</td><td style = \"font-style: italic; text-align: right;\">missing</td><td style = \"font-style: italic; text-align: right;\">missing</td><td style = \"font-style: italic; text-align: right;\">missing</td><td style = \"font-style: italic; text-align: left;\">missing</td><td style = \"text-align: right;\">6970</td><td style = \"font-style: italic; text-align: left;\">missing</td><td style = \"font-style: italic; text-align: right;\">missing</td><td style = \"font-style: italic; text-align: right;\">missing</td><td style = \"text-align: left;\">Koadjutor</td><td style = \"text-align: left;\">10127</td><td style = \"text-align: right;\">561814</td></tr></tbody></table></div>"
      ],
      "text/latex": [
       "\\begin{tabular}{r|cccccccccc}\n",
       "\t& Bistum & Amtsart & Amtsbeginn & Amtsende & ID\\_Amt & ID\\_Bischof & Institution & Amt\\_weltlich & Herrschaftsgebiet & \\\\\n",
       "\t\\hline\n",
       "\t& String? & String & String? & String? & Int64 & Int64 & Missing & Missing & Missing & \\\\\n",
       "\t\\hline\n",
       "\t1 & Münster & Fürstbischof & 1719 & 1761 & 5609 & 10127 & \\emph{missing} & \\emph{missing} & \\emph{missing} & $\\dots$ \\\\\n",
       "\t2 & Regensburg & Fürstbischof & 1717 & 1719 & 4222 & 10127 & \\emph{missing} & \\emph{missing} & \\emph{missing} & $\\dots$ \\\\\n",
       "\t3 & Paderborn & Fürstbischof & 1719 & 1761 & 4224 & 10127 & \\emph{missing} & \\emph{missing} & \\emph{missing} & $\\dots$ \\\\\n",
       "\t4 & Köln & Koadjutor des Erzbischofs & 1722 & 1723 & 4225 & 10127 & \\emph{missing} & \\emph{missing} & \\emph{missing} & $\\dots$ \\\\\n",
       "\t5 & Köln & Kurfürst-Erzbischof & 1723 & 1761 & 4226 & 10127 & \\emph{missing} & \\emph{missing} & \\emph{missing} & $\\dots$ \\\\\n",
       "\t6 & Hildesheim & Fürstbischof & 1724 & 1761 & 4227 & 10127 & \\emph{missing} & \\emph{missing} & \\emph{missing} & $\\dots$ \\\\\n",
       "\t7 & Osnabrück & Fürstbischof & 1728 & 1761 & 4228 & 10127 & \\emph{missing} & \\emph{missing} & \\emph{missing} & $\\dots$ \\\\\n",
       "\t8 & \\emph{missing} & Fürstpropst & 1723 & 1761 & 21892 & 10127 & \\emph{missing} & \\emph{missing} & \\emph{missing} & $\\dots$ \\\\\n",
       "\t9 & Regensburg & Koadjutor & 1715 & 1716 & 23084 & 10127 & \\emph{missing} & \\emph{missing} & \\emph{missing} & $\\dots$ \\\\\n",
       "\\end{tabular}\n"
      ],
      "text/plain": [
       "\u001b[1m9×18 DataFrame\u001b[0m\n",
       "\u001b[1m Row \u001b[0m│\u001b[1m Bistum     \u001b[0m\u001b[1m Amtsart                   \u001b[0m\u001b[1m Amtsbeginn \u001b[0m\u001b[1m Amtsende \u001b[0m\u001b[1m ID_Amt \u001b[0m\u001b[1m ID_Bischof \u001b[0m\u001b[1m Institution \u001b[0m\u001b[1m Amt_weltlich \u001b[0m\u001b[1m Her\u001b[0m ⋯\n",
       "     │\u001b[90m String?    \u001b[0m\u001b[90m String                    \u001b[0m\u001b[90m String?    \u001b[0m\u001b[90m String?  \u001b[0m\u001b[90m Int64  \u001b[0m\u001b[90m Int64      \u001b[0m\u001b[90m Missing     \u001b[0m\u001b[90m Missing      \u001b[0m\u001b[90m Mis\u001b[0m ⋯\n",
       "─────┼──────────────────────────────────────────────────────────────────────────────────────────────────────────────────\n",
       "   1 │ Münster     Fürstbischof               1719        1761        5609       10127 \u001b[90m     missing \u001b[0m\u001b[90m      missing \u001b[0m\u001b[90m    \u001b[0m ⋯\n",
       "   2 │ Regensburg  Fürstbischof               1717        1719        4222       10127 \u001b[90m     missing \u001b[0m\u001b[90m      missing \u001b[0m\u001b[90m    \u001b[0m\n",
       "   3 │ Paderborn   Fürstbischof               1719        1761        4224       10127 \u001b[90m     missing \u001b[0m\u001b[90m      missing \u001b[0m\u001b[90m    \u001b[0m\n",
       "   4 │ Köln        Koadjutor des Erzbischofs  1722        1723        4225       10127 \u001b[90m     missing \u001b[0m\u001b[90m      missing \u001b[0m\u001b[90m    \u001b[0m\n",
       "   5 │ Köln        Kurfürst-Erzbischof        1723        1761        4226       10127 \u001b[90m     missing \u001b[0m\u001b[90m      missing \u001b[0m\u001b[90m    \u001b[0m ⋯\n",
       "   6 │ Hildesheim  Fürstbischof               1724        1761        4227       10127 \u001b[90m     missing \u001b[0m\u001b[90m      missing \u001b[0m\u001b[90m    \u001b[0m\n",
       "   7 │ Osnabrück   Fürstbischof               1728        1761        4228       10127 \u001b[90m     missing \u001b[0m\u001b[90m      missing \u001b[0m\u001b[90m    \u001b[0m\n",
       "   8 │\u001b[90m missing    \u001b[0m Fürstpropst                1723        1761       21892       10127 \u001b[90m     missing \u001b[0m\u001b[90m      missing \u001b[0m\u001b[90m    \u001b[0m\n",
       "   9 │ Regensburg  Koadjutor                  1715        1716       23084       10127 \u001b[90m     missing \u001b[0m\u001b[90m      missing \u001b[0m\u001b[90m    \u001b[0m ⋯\n",
       "\u001b[36m                                                                                                      10 columns omitted\u001b[0m"
      ]
     },
     "execution_count": 34,
     "metadata": {},
     "output_type": "execute_result"
    }
   ],
   "source": [
    "df_info = subset(df_prp, :ID_Bischof => ByRow(isequal(10127)))"
   ]
  },
  {
   "cell_type": "markdown",
   "metadata": {},
   "source": [
    "Für Bischof 3807 sind Amtsart und Bistum vertauscht. *2022-05-19* in der Quelle korrigiert."
   ]
  },
  {
   "cell_type": "code",
   "execution_count": 34,
   "metadata": {},
   "outputs": [
    {
     "data": {
      "text/html": [
       "<div class=\"data-frame\"><p>9 rows × 17 columns (omitted printing of 8 columns)</p><table class=\"data-frame\"><thead><tr><th></th><th>Bistum</th><th>Amtsart</th><th>Amtsbeginn</th><th>Amtsende</th><th>ID_Amt</th><th>ID_Bischof</th><th>Institution</th><th>Amt_weltlich</th><th>Herrschaftsgebiet</th></tr><tr><th></th><th title=\"Union{Missing, String}\">String?</th><th title=\"String\">String</th><th title=\"Union{Missing, String}\">String?</th><th title=\"Union{Missing, String}\">String?</th><th title=\"Int64\">Int64</th><th title=\"Int64\">Int64</th><th title=\"Missing\">Missing</th><th title=\"Missing\">Missing</th><th title=\"Missing\">Missing</th></tr></thead><tbody><tr><th>1</th><td>Münster</td><td>Fürstbischof</td><td>1719</td><td>1761</td><td>5609</td><td>10127</td><td><em>missing</em></td><td><em>missing</em></td><td><em>missing</em></td></tr><tr><th>2</th><td>Regensburg</td><td>Fürstbischof</td><td>1717</td><td>1719</td><td>4222</td><td>10127</td><td><em>missing</em></td><td><em>missing</em></td><td><em>missing</em></td></tr><tr><th>3</th><td>Paderborn</td><td>Fürstbischof</td><td>1719</td><td>1761</td><td>4224</td><td>10127</td><td><em>missing</em></td><td><em>missing</em></td><td><em>missing</em></td></tr><tr><th>4</th><td>Köln</td><td>Koadjutor des Erzbischofs</td><td>1722</td><td>1723</td><td>4225</td><td>10127</td><td><em>missing</em></td><td><em>missing</em></td><td><em>missing</em></td></tr><tr><th>5</th><td>Köln</td><td>Kurfürst-Erzbischof</td><td>1723</td><td>1761</td><td>4226</td><td>10127</td><td><em>missing</em></td><td><em>missing</em></td><td><em>missing</em></td></tr><tr><th>6</th><td>Hildesheim</td><td>Fürstbischof</td><td>1724</td><td>1761</td><td>4227</td><td>10127</td><td><em>missing</em></td><td><em>missing</em></td><td><em>missing</em></td></tr><tr><th>7</th><td>Osnabrück</td><td>Fürstbischof</td><td>1728</td><td>1761</td><td>4228</td><td>10127</td><td><em>missing</em></td><td><em>missing</em></td><td><em>missing</em></td></tr><tr><th>8</th><td><em>missing</em></td><td>Fürstpropst</td><td>1723</td><td>1761</td><td>21892</td><td>10127</td><td><em>missing</em></td><td><em>missing</em></td><td><em>missing</em></td></tr><tr><th>9</th><td>Regensburg</td><td>Koadjutor</td><td>1715</td><td>1716</td><td>23084</td><td>10127</td><td><em>missing</em></td><td><em>missing</em></td><td><em>missing</em></td></tr></tbody></table></div>"
      ],
      "text/latex": [
       "\\begin{tabular}{r|cccccccccc}\n",
       "\t& Bistum & Amtsart & Amtsbeginn & Amtsende & ID\\_Amt & ID\\_Bischof & Institution & Amt\\_weltlich & Herrschaftsgebiet & \\\\\n",
       "\t\\hline\n",
       "\t& String? & String & String? & String? & Int64 & Int64 & Missing & Missing & Missing & \\\\\n",
       "\t\\hline\n",
       "\t1 & Münster & Fürstbischof & 1719 & 1761 & 5609 & 10127 & \\emph{missing} & \\emph{missing} & \\emph{missing} & $\\dots$ \\\\\n",
       "\t2 & Regensburg & Fürstbischof & 1717 & 1719 & 4222 & 10127 & \\emph{missing} & \\emph{missing} & \\emph{missing} & $\\dots$ \\\\\n",
       "\t3 & Paderborn & Fürstbischof & 1719 & 1761 & 4224 & 10127 & \\emph{missing} & \\emph{missing} & \\emph{missing} & $\\dots$ \\\\\n",
       "\t4 & Köln & Koadjutor des Erzbischofs & 1722 & 1723 & 4225 & 10127 & \\emph{missing} & \\emph{missing} & \\emph{missing} & $\\dots$ \\\\\n",
       "\t5 & Köln & Kurfürst-Erzbischof & 1723 & 1761 & 4226 & 10127 & \\emph{missing} & \\emph{missing} & \\emph{missing} & $\\dots$ \\\\\n",
       "\t6 & Hildesheim & Fürstbischof & 1724 & 1761 & 4227 & 10127 & \\emph{missing} & \\emph{missing} & \\emph{missing} & $\\dots$ \\\\\n",
       "\t7 & Osnabrück & Fürstbischof & 1728 & 1761 & 4228 & 10127 & \\emph{missing} & \\emph{missing} & \\emph{missing} & $\\dots$ \\\\\n",
       "\t8 & \\emph{missing} & Fürstpropst & 1723 & 1761 & 21892 & 10127 & \\emph{missing} & \\emph{missing} & \\emph{missing} & $\\dots$ \\\\\n",
       "\t9 & Regensburg & Koadjutor & 1715 & 1716 & 23084 & 10127 & \\emph{missing} & \\emph{missing} & \\emph{missing} & $\\dots$ \\\\\n",
       "\\end{tabular}\n"
      ],
      "text/plain": [
       "\u001b[1m9×17 DataFrame\u001b[0m\n",
       "\u001b[1m Row \u001b[0m│\u001b[1m Bistum     \u001b[0m\u001b[1m Amtsart                   \u001b[0m\u001b[1m Amtsbeginn \u001b[0m\u001b[1m Amtsende \u001b[0m\u001b[1m ID_Amt \u001b[0m\u001b[1m ID_Bischof \u001b[0m\u001b[1m Institution \u001b[0m\u001b[1m Amt_weltlich \u001b[0m\u001b[1m Her\u001b[0m ⋯\n",
       "\u001b[1m     \u001b[0m│\u001b[90m String?    \u001b[0m\u001b[90m String                    \u001b[0m\u001b[90m String?    \u001b[0m\u001b[90m String?  \u001b[0m\u001b[90m Int64  \u001b[0m\u001b[90m Int64      \u001b[0m\u001b[90m Missing     \u001b[0m\u001b[90m Missing      \u001b[0m\u001b[90m Mis\u001b[0m ⋯\n",
       "─────┼──────────────────────────────────────────────────────────────────────────────────────────────────────────────────\n",
       "   1 │ Münster     Fürstbischof               1719        1761        5609       10127 \u001b[90m     missing \u001b[0m\u001b[90m      missing \u001b[0m\u001b[90m    \u001b[0m ⋯\n",
       "   2 │ Regensburg  Fürstbischof               1717        1719        4222       10127 \u001b[90m     missing \u001b[0m\u001b[90m      missing \u001b[0m\u001b[90m\u001b[0m\n",
       "   3 │ Paderborn   Fürstbischof               1719        1761        4224       10127 \u001b[90m     missing \u001b[0m\u001b[90m      missing \u001b[0m\u001b[90m\u001b[0m\n",
       "   4 │ Köln        Koadjutor des Erzbischofs  1722        1723        4225       10127 \u001b[90m     missing \u001b[0m\u001b[90m      missing \u001b[0m\u001b[90m\u001b[0m\n",
       "   5 │ Köln        Kurfürst-Erzbischof        1723        1761        4226       10127 \u001b[90m     missing \u001b[0m\u001b[90m      missing \u001b[0m\u001b[90m    \u001b[0m ⋯\n",
       "   6 │ Hildesheim  Fürstbischof               1724        1761        4227       10127 \u001b[90m     missing \u001b[0m\u001b[90m      missing \u001b[0m\u001b[90m\u001b[0m\n",
       "   7 │ Osnabrück   Fürstbischof               1728        1761        4228       10127 \u001b[90m     missing \u001b[0m\u001b[90m      missing \u001b[0m\u001b[90m\u001b[0m\n",
       "   8 │\u001b[90m missing    \u001b[0m Fürstpropst                1723        1761       21892       10127 \u001b[90m     missing \u001b[0m\u001b[90m      missing \u001b[0m\u001b[90m\u001b[0m\n",
       "   9 │ Regensburg  Koadjutor                  1715        1716       23084       10127 \u001b[90m     missing \u001b[0m\u001b[90m      missing \u001b[0m\u001b[90m    \u001b[0m ⋯\n",
       "\u001b[36m                                                                                                       9 columns omitted\u001b[0m"
      ]
     },
     "execution_count": 34,
     "metadata": {},
     "output_type": "execute_result"
    }
   ],
   "source": [
    "subset(df_pr, :ID_Bischof => ByRow(isequal(10127)))"
   ]
  },
  {
   "cell_type": "markdown",
   "metadata": {},
   "source": [
    "Ämter der Ämterliste zuordnen"
   ]
  },
  {
   "cell_type": "code",
   "execution_count": 35,
   "metadata": {},
   "outputs": [],
   "source": [
    "transform!(df_prp, :Amtsart => ByRow(get_role_id) => :role_id);"
   ]
  },
  {
   "cell_type": "code",
   "execution_count": 36,
   "metadata": {},
   "outputs": [],
   "source": [
    "df_role_mg = filter(:role_id => ismissing, df_prp);"
   ]
  },
  {
   "cell_type": "code",
   "execution_count": 37,
   "metadata": {},
   "outputs": [
    {
     "data": {
      "text/plain": [
       "97"
      ]
     },
     "execution_count": 37,
     "metadata": {},
     "output_type": "execute_result"
    }
   ],
   "source": [
    "length(unique(df_role_mg.Amtsart))"
   ]
  },
  {
   "cell_type": "code",
   "execution_count": 38,
   "metadata": {},
   "outputs": [
    {
     "data": {
      "text/plain": [
       "7-element Vector{String}:\n",
       " \"Fürstpropst\"\n",
       " \"Direktor des Konsistoriums\"\n",
       " \"Kurfürst-Erzbischof\"\n",
       " \"Apostolischer Administrator\"\n",
       " \"Fürstbischof\"\n",
       " \"Koadjutor des Bischofs\"\n",
       " \"Koadjutor des Kurfürst-Erzbischofs\""
      ]
     },
     "execution_count": 38,
     "metadata": {},
     "output_type": "execute_result"
    }
   ],
   "source": [
    "unique(df_role_mg[!, :Amtsart])[1:7]"
   ]
  },
  {
   "cell_type": "markdown",
   "metadata": {},
   "source": [
    "In diesen Fällen wird die Amtsart lediglich eingetragen in `person_role.role_name`"
   ]
  },
  {
   "cell_type": "markdown",
   "metadata": {},
   "source": [
    "### Bistümer zuordnen"
   ]
  },
  {
   "cell_type": "code",
   "execution_count": 39,
   "metadata": {},
   "outputs": [],
   "source": [
    "sql = \"SELECT id AS diocese_id, name AS diocese_name FROM diocese\";\n",
    "df_dioc = Wds.sql_df(sql);"
   ]
  },
  {
   "cell_type": "code",
   "execution_count": 40,
   "metadata": {},
   "outputs": [],
   "source": [
    "df_prp = leftjoin(df_prp, df_dioc, on = :Bistum => :diocese_name, matchmissing = :notequal);"
   ]
  },
  {
   "cell_type": "code",
   "execution_count": 41,
   "metadata": {},
   "outputs": [],
   "source": [
    "df_dioc_mg = filter(:diocese_id => ismissing, df_prp);"
   ]
  },
  {
   "cell_type": "code",
   "execution_count": 42,
   "metadata": {},
   "outputs": [
    {
     "data": {
      "text/plain": [
       "(447, 20)"
      ]
     },
     "execution_count": 42,
     "metadata": {},
     "output_type": "execute_result"
    }
   ],
   "source": [
    "size(df_dioc_mg)"
   ]
  },
  {
   "cell_type": "markdown",
   "metadata": {},
   "source": [
    "Numerische Daten eintragen"
   ]
  },
  {
   "cell_type": "code",
   "execution_count": 43,
   "metadata": {},
   "outputs": [
    {
     "data": {
      "text/plain": [
       "num_date_begin (generic function with 1 method)"
      ]
     },
     "execution_count": 43,
     "metadata": {},
     "output_type": "execute_result"
    }
   ],
   "source": [
    "num_date_begin(s_date) = ismissing(s_date) ? s_date : Wds.parsemaybe(String(s_date), :lower)"
   ]
  },
  {
   "cell_type": "code",
   "execution_count": 44,
   "metadata": {},
   "outputs": [
    {
     "data": {
      "text/plain": [
       "num_date_end (generic function with 1 method)"
      ]
     },
     "execution_count": 44,
     "metadata": {},
     "output_type": "execute_result"
    }
   ],
   "source": [
    "num_date_end(s_date) = ismissing(s_date) ? s_date : Wds.parsemaybe(String(s_date), :upper)"
   ]
  },
  {
   "cell_type": "code",
   "execution_count": 45,
   "metadata": {},
   "outputs": [
    {
     "data": {
      "text/html": [
       "<div><div style = \"float: left;\"><span>5×20 DataFrame</span></div><div style = \"clear: both;\"></div></div><div class = \"data-frame\" style = \"overflow-x: scroll;\"><table class = \"data-frame\" style = \"margin-bottom: 6px;\"><thead><tr class = \"header\"><th class = \"rowNumber\" style = \"font-weight: bold; text-align: right;\">Row</th><th style = \"text-align: left;\">Bistum</th><th style = \"text-align: left;\">Amtsart</th><th style = \"text-align: left;\">Amtsbeginn</th><th style = \"text-align: left;\">Amtsende</th><th style = \"text-align: left;\">ID_Amt</th><th style = \"text-align: left;\">ID_Bischof</th><th style = \"text-align: left;\">Institution</th><th style = \"text-align: left;\">Amt_weltlich</th><th style = \"text-align: left;\">Herrschaftsgebiet</th><th style = \"text-align: left;\">Ort</th><th style = \"text-align: left;\">Amt_Kommentar</th><th style = \"text-align: left;\">Sort</th><th style = \"text-align: left;\">Titularbistum</th><th style = \"text-align: left;\">Profession</th><th style = \"text-align: left;\">id_gsn</th><th style = \"text-align: left;\">Amt_normiert</th><th style = \"text-align: left;\">id_in_source</th><th style = \"text-align: left;\">person_id</th><th style = \"text-align: left;\">role_id</th><th style = \"text-align: left;\">diocese_id</th></tr><tr class = \"subheader headerLastRow\"><th class = \"rowNumber\" style = \"font-weight: bold; text-align: right;\"></th><th title = \"Union{Missing, String}\" style = \"text-align: left;\">String?</th><th title = \"String\" style = \"text-align: left;\">String</th><th title = \"Union{Missing, String}\" style = \"text-align: left;\">String?</th><th title = \"Union{Missing, String}\" style = \"text-align: left;\">String?</th><th title = \"Int64\" style = \"text-align: left;\">Int64</th><th title = \"Int64\" style = \"text-align: left;\">Int64</th><th title = \"Missing\" style = \"text-align: left;\">Missing</th><th title = \"Missing\" style = \"text-align: left;\">Missing</th><th title = \"Missing\" style = \"text-align: left;\">Missing</th><th title = \"Missing\" style = \"text-align: left;\">Missing</th><th title = \"Union{Missing, String}\" style = \"text-align: left;\">String?</th><th title = \"Int64\" style = \"text-align: left;\">Int64</th><th title = \"Union{Missing, String}\" style = \"text-align: left;\">String?</th><th title = \"Missing\" style = \"text-align: left;\">Missing</th><th title = \"Union{Missing, Int64}\" style = \"text-align: left;\">Int64?</th><th title = \"Union{Missing, String}\" style = \"text-align: left;\">String?</th><th title = \"String\" style = \"text-align: left;\">String</th><th title = \"Int32\" style = \"text-align: left;\">Int32</th><th title = \"Union{Missing, Int32}\" style = \"text-align: left;\">Int32?</th><th title = \"Union{Missing, Int32}\" style = \"text-align: left;\">Int32?</th></tr></thead><tbody><tr><td class = \"rowNumber\" style = \"font-weight: bold; text-align: right;\">1</td><td style = \"text-align: left;\">Trier</td><td style = \"text-align: left;\">Kurfürst-Erzbischof</td><td style = \"text-align: left;\">1756</td><td style = \"text-align: left;\">1768</td><td style = \"text-align: right;\">5674</td><td style = \"text-align: right;\">10860</td><td style = \"font-style: italic; text-align: right;\">missing</td><td style = \"font-style: italic; text-align: right;\">missing</td><td style = \"font-style: italic; text-align: right;\">missing</td><td style = \"font-style: italic; text-align: right;\">missing</td><td style = \"font-style: italic; text-align: left;\">missing</td><td style = \"text-align: right;\">9000</td><td style = \"font-style: italic; text-align: left;\">missing</td><td style = \"font-style: italic; text-align: right;\">missing</td><td style = \"font-style: italic; text-align: right;\">missing</td><td style = \"font-style: italic; text-align: left;\">missing</td><td style = \"text-align: left;\">10860</td><td style = \"text-align: right;\">562705</td><td style = \"font-style: italic; text-align: right;\">missing</td><td style = \"text-align: right;\">30</td></tr><tr><td class = \"rowNumber\" style = \"font-weight: bold; text-align: right;\">2</td><td style = \"text-align: left;\">Worms</td><td style = \"text-align: left;\">Fürstbischof</td><td style = \"text-align: left;\">1763</td><td style = \"text-align: left;\">1768</td><td style = \"text-align: right;\">5675</td><td style = \"text-align: right;\">10860</td><td style = \"font-style: italic; text-align: right;\">missing</td><td style = \"font-style: italic; text-align: right;\">missing</td><td style = \"font-style: italic; text-align: right;\">missing</td><td style = \"font-style: italic; text-align: right;\">missing</td><td style = \"font-style: italic; text-align: left;\">missing</td><td style = \"text-align: right;\">8100</td><td style = \"font-style: italic; text-align: left;\">missing</td><td style = \"font-style: italic; text-align: right;\">missing</td><td style = \"font-style: italic; text-align: right;\">missing</td><td style = \"text-align: left;\">Fürstbischof</td><td style = \"text-align: left;\">10860</td><td style = \"text-align: right;\">562705</td><td style = \"font-style: italic; text-align: right;\">missing</td><td style = \"text-align: right;\">32</td></tr><tr><td class = \"rowNumber\" style = \"font-weight: bold; text-align: right;\">3</td><td style = \"text-align: left;\">Wien</td><td style = \"text-align: left;\">Administrator</td><td style = \"text-align: left;\">1476</td><td style = \"text-align: left;\">1482</td><td style = \"text-align: right;\">5676</td><td style = \"text-align: right;\">5302</td><td style = \"font-style: italic; text-align: right;\">missing</td><td style = \"font-style: italic; text-align: right;\">missing</td><td style = \"font-style: italic; text-align: right;\">missing</td><td style = \"font-style: italic; text-align: right;\">missing</td><td style = \"font-style: italic; text-align: left;\">missing</td><td style = \"text-align: right;\">300</td><td style = \"font-style: italic; text-align: left;\">missing</td><td style = \"font-style: italic; text-align: right;\">missing</td><td style = \"font-style: italic; text-align: right;\">missing</td><td style = \"text-align: left;\">Administrator</td><td style = \"text-align: left;\">5302</td><td style = \"text-align: right;\">558794</td><td style = \"text-align: right;\">489577</td><td style = \"text-align: right;\">54</td></tr><tr><td class = \"rowNumber\" style = \"font-weight: bold; text-align: right;\">4</td><td style = \"text-align: left;\">Salzburg</td><td style = \"text-align: left;\">Administrator</td><td style = \"text-align: left;\">1481</td><td style = \"text-align: left;\">1487</td><td style = \"text-align: right;\">5677</td><td style = \"text-align: right;\">5302</td><td style = \"font-style: italic; text-align: right;\">missing</td><td style = \"font-style: italic; text-align: right;\">missing</td><td style = \"font-style: italic; text-align: right;\">missing</td><td style = \"font-style: italic; text-align: right;\">missing</td><td style = \"font-style: italic; text-align: left;\">missing</td><td style = \"text-align: right;\">5330</td><td style = \"font-style: italic; text-align: left;\">missing</td><td style = \"font-style: italic; text-align: right;\">missing</td><td style = \"font-style: italic; text-align: right;\">missing</td><td style = \"text-align: left;\">Administrator</td><td style = \"text-align: left;\">5302</td><td style = \"text-align: right;\">558794</td><td style = \"text-align: right;\">489577</td><td style = \"text-align: right;\">35</td></tr><tr><td class = \"rowNumber\" style = \"font-weight: bold; text-align: right;\">5</td><td style = \"text-align: left;\">Magdeburg</td><td style = \"text-align: left;\">Erzbischof</td><td style = \"text-align: left;\">1125/1126</td><td style = \"font-style: italic; text-align: left;\">missing</td><td style = \"text-align: right;\">5678</td><td style = \"text-align: right;\">5080</td><td style = \"font-style: italic; text-align: right;\">missing</td><td style = \"font-style: italic; text-align: right;\">missing</td><td style = \"font-style: italic; text-align: right;\">missing</td><td style = \"font-style: italic; text-align: right;\">missing</td><td style = \"font-style: italic; text-align: left;\">missing</td><td style = \"text-align: right;\">1400</td><td style = \"font-style: italic; text-align: left;\">missing</td><td style = \"font-style: italic; text-align: right;\">missing</td><td style = \"font-style: italic; text-align: right;\">missing</td><td style = \"text-align: left;\">Erzbischof</td><td style = \"text-align: left;\">5080</td><td style = \"text-align: right;\">559502</td><td style = \"text-align: right;\">489594</td><td style = \"text-align: right;\">15</td></tr></tbody></table></div>"
      ],
      "text/latex": [
       "\\begin{tabular}{r|cccccccccc}\n",
       "\t& Bistum & Amtsart & Amtsbeginn & Amtsende & ID\\_Amt & ID\\_Bischof & Institution & Amt\\_weltlich & Herrschaftsgebiet & \\\\\n",
       "\t\\hline\n",
       "\t& String? & String & String? & String? & Int64 & Int64 & Missing & Missing & Missing & \\\\\n",
       "\t\\hline\n",
       "\t1 & Trier & Kurfürst-Erzbischof & 1756 & 1768 & 5674 & 10860 & \\emph{missing} & \\emph{missing} & \\emph{missing} & $\\dots$ \\\\\n",
       "\t2 & Worms & Fürstbischof & 1763 & 1768 & 5675 & 10860 & \\emph{missing} & \\emph{missing} & \\emph{missing} & $\\dots$ \\\\\n",
       "\t3 & Wien & Administrator & 1476 & 1482 & 5676 & 5302 & \\emph{missing} & \\emph{missing} & \\emph{missing} & $\\dots$ \\\\\n",
       "\t4 & Salzburg & Administrator & 1481 & 1487 & 5677 & 5302 & \\emph{missing} & \\emph{missing} & \\emph{missing} & $\\dots$ \\\\\n",
       "\t5 & Magdeburg & Erzbischof & 1125/1126 & \\emph{missing} & 5678 & 5080 & \\emph{missing} & \\emph{missing} & \\emph{missing} & $\\dots$ \\\\\n",
       "\\end{tabular}\n"
      ],
      "text/plain": [
       "\u001b[1m5×20 DataFrame\u001b[0m\n",
       "\u001b[1m Row \u001b[0m│\u001b[1m Bistum    \u001b[0m\u001b[1m Amtsart             \u001b[0m\u001b[1m Amtsbeginn \u001b[0m\u001b[1m Amtsende \u001b[0m\u001b[1m ID_Amt \u001b[0m\u001b[1m ID_Bischof \u001b[0m\u001b[1m Institution \u001b[0m\u001b[1m Amt_weltlich \u001b[0m\u001b[1m Herrschaft\u001b[0m ⋯\n",
       "     │\u001b[90m String?   \u001b[0m\u001b[90m String              \u001b[0m\u001b[90m String?    \u001b[0m\u001b[90m String?  \u001b[0m\u001b[90m Int64  \u001b[0m\u001b[90m Int64      \u001b[0m\u001b[90m Missing     \u001b[0m\u001b[90m Missing      \u001b[0m\u001b[90m Missing   \u001b[0m ⋯\n",
       "─────┼──────────────────────────────────────────────────────────────────────────────────────────────────────────────────\n",
       "   1 │ Trier      Kurfürst-Erzbischof  1756        1768        5674       10860 \u001b[90m     missing \u001b[0m\u001b[90m      missing \u001b[0m\u001b[90m           \u001b[0m ⋯\n",
       "   2 │ Worms      Fürstbischof         1763        1768        5675       10860 \u001b[90m     missing \u001b[0m\u001b[90m      missing \u001b[0m\u001b[90m           \u001b[0m\n",
       "   3 │ Wien       Administrator        1476        1482        5676        5302 \u001b[90m     missing \u001b[0m\u001b[90m      missing \u001b[0m\u001b[90m           \u001b[0m\n",
       "   4 │ Salzburg   Administrator        1481        1487        5677        5302 \u001b[90m     missing \u001b[0m\u001b[90m      missing \u001b[0m\u001b[90m           \u001b[0m\n",
       "   5 │ Magdeburg  Erzbischof           1125/1126  \u001b[90m missing  \u001b[0m   5678        5080 \u001b[90m     missing \u001b[0m\u001b[90m      missing \u001b[0m\u001b[90m           \u001b[0m ⋯\n",
       "\u001b[36m                                                                                                      12 columns omitted\u001b[0m"
      ]
     },
     "execution_count": 45,
     "metadata": {},
     "output_type": "execute_result"
    }
   ],
   "source": [
    "df_prp[201:205, :]"
   ]
  },
  {
   "cell_type": "code",
   "execution_count": 46,
   "metadata": {},
   "outputs": [
    {
     "name": "stderr",
     "output_type": "stream",
     "text": [
      "┌ Warning: Could not parse \n",
      "│   s = fränkische Zeit ?\n",
      "└ @ WiagDataSetup C:\\Users\\Georg\\Documents\\projekte\\WiagDataSetup.jl\\src\\WiagDataSetup.jl:1125\n"
     ]
    }
   ],
   "source": [
    "transform!(df_prp, :Amtsbeginn => ByRow(num_date_begin) => :num_date_begin);"
   ]
  },
  {
   "cell_type": "code",
   "execution_count": 47,
   "metadata": {},
   "outputs": [],
   "source": [
    "transform!(df_prp, :Amtsende => ByRow(num_date_end) => :num_date_end);"
   ]
  },
  {
   "cell_type": "code",
   "execution_count": 48,
   "metadata": {},
   "outputs": [
    {
     "data": {
      "text/html": [
       "<div><div style = \"float: left;\"><span>5×6 DataFrame</span></div><div style = \"clear: both;\"></div></div><div class = \"data-frame\" style = \"overflow-x: scroll;\"><table class = \"data-frame\" style = \"margin-bottom: 6px;\"><thead><tr class = \"header\"><th class = \"rowNumber\" style = \"font-weight: bold; text-align: right;\">Row</th><th style = \"text-align: left;\">ID_Bischof</th><th style = \"text-align: left;\">Amtsart</th><th style = \"text-align: left;\">Amtsbeginn</th><th style = \"text-align: left;\">num_date_begin</th><th style = \"text-align: left;\">Amtsende</th><th style = \"text-align: left;\">num_date_end</th></tr><tr class = \"subheader headerLastRow\"><th class = \"rowNumber\" style = \"font-weight: bold; text-align: right;\"></th><th title = \"Int64\" style = \"text-align: left;\">Int64</th><th title = \"String\" style = \"text-align: left;\">String</th><th title = \"Union{Missing, String}\" style = \"text-align: left;\">String?</th><th title = \"Union{Missing, Int64}\" style = \"text-align: left;\">Int64?</th><th title = \"Union{Missing, String}\" style = \"text-align: left;\">String?</th><th title = \"Union{Missing, Int64}\" style = \"text-align: left;\">Int64?</th></tr></thead><tbody><tr><td class = \"rowNumber\" style = \"font-weight: bold; text-align: right;\">1</td><td style = \"text-align: right;\">10475</td><td style = \"text-align: left;\">Kurfürst-Erzbischof</td><td style = \"text-align: left;\">1784</td><td style = \"text-align: right;\">1784</td><td style = \"text-align: left;\">1801</td><td style = \"text-align: right;\">1801</td></tr><tr><td class = \"rowNumber\" style = \"font-weight: bold; text-align: right;\">2</td><td style = \"text-align: right;\">10476</td><td style = \"text-align: left;\">Fürstbischof</td><td style = \"text-align: left;\">1650</td><td style = \"text-align: right;\">1650</td><td style = \"text-align: left;\">1688</td><td style = \"text-align: right;\">1688</td></tr><tr><td class = \"rowNumber\" style = \"font-weight: bold; text-align: right;\">3</td><td style = \"text-align: right;\">3302</td><td style = \"text-align: left;\">Elekt</td><td style = \"text-align: left;\">1387</td><td style = \"text-align: right;\">1387</td><td style = \"text-align: left;\">1389</td><td style = \"text-align: right;\">1389</td></tr><tr><td class = \"rowNumber\" style = \"font-weight: bold; text-align: right;\">4</td><td style = \"text-align: right;\">3307</td><td style = \"text-align: left;\">Weihbischof</td><td style = \"text-align: left;\">1279</td><td style = \"text-align: right;\">1279</td><td style = \"text-align: left;\">1280</td><td style = \"text-align: right;\">1280</td></tr><tr><td class = \"rowNumber\" style = \"font-weight: bold; text-align: right;\">5</td><td style = \"text-align: right;\">3307</td><td style = \"text-align: left;\">Weihbischof</td><td style = \"text-align: left;\">1279</td><td style = \"text-align: right;\">1279</td><td style = \"text-align: left;\">1285</td><td style = \"text-align: right;\">1285</td></tr></tbody></table></div>"
      ],
      "text/latex": [
       "\\begin{tabular}{r|cccccc}\n",
       "\t& ID\\_Bischof & Amtsart & Amtsbeginn & num\\_date\\_begin & Amtsende & num\\_date\\_end\\\\\n",
       "\t\\hline\n",
       "\t& Int64 & String & String? & Int64? & String? & Int64?\\\\\n",
       "\t\\hline\n",
       "\t1 & 10475 & Kurfürst-Erzbischof & 1784 & 1784 & 1801 & 1801 \\\\\n",
       "\t2 & 10476 & Fürstbischof & 1650 & 1650 & 1688 & 1688 \\\\\n",
       "\t3 & 3302 & Elekt & 1387 & 1387 & 1389 & 1389 \\\\\n",
       "\t4 & 3307 & Weihbischof & 1279 & 1279 & 1280 & 1280 \\\\\n",
       "\t5 & 3307 & Weihbischof & 1279 & 1279 & 1285 & 1285 \\\\\n",
       "\\end{tabular}\n"
      ],
      "text/plain": [
       "\u001b[1m5×6 DataFrame\u001b[0m\n",
       "\u001b[1m Row \u001b[0m│\u001b[1m ID_Bischof \u001b[0m\u001b[1m Amtsart             \u001b[0m\u001b[1m Amtsbeginn \u001b[0m\u001b[1m num_date_begin \u001b[0m\u001b[1m Amtsende \u001b[0m\u001b[1m num_date_end \u001b[0m\n",
       "     │\u001b[90m Int64      \u001b[0m\u001b[90m String              \u001b[0m\u001b[90m String?    \u001b[0m\u001b[90m Int64?         \u001b[0m\u001b[90m String?  \u001b[0m\u001b[90m Int64?       \u001b[0m\n",
       "─────┼─────────────────────────────────────────────────────────────────────────────────────\n",
       "   1 │      10475  Kurfürst-Erzbischof  1784                  1784  1801              1801\n",
       "   2 │      10476  Fürstbischof         1650                  1650  1688              1688\n",
       "   3 │       3302  Elekt                1387                  1387  1389              1389\n",
       "   4 │       3307  Weihbischof          1279                  1279  1280              1280\n",
       "   5 │       3307  Weihbischof          1279                  1279  1285              1285"
      ]
     },
     "execution_count": 48,
     "metadata": {},
     "output_type": "execute_result"
    }
   ],
   "source": [
    "df_prp[561:565, [:ID_Bischof, :Amtsart, :Amtsbeginn, :num_date_begin, :Amtsende, :num_date_end]]"
   ]
  },
  {
   "cell_type": "markdown",
   "metadata": {},
   "source": [
    "Schlüssel für eine zeitliche Sortierung eintragen"
   ]
  },
  {
   "cell_type": "code",
   "execution_count": 49,
   "metadata": {},
   "outputs": [
    {
     "name": "stderr",
     "output_type": "stream",
     "text": [
      "┌ Warning: could not parse \n",
      "│   s = (1168) 1180\n",
      "└ @ WiagDataSetup C:\\Users\\Georg\\Documents\\projekte\\WiagDataSetup.jl\\src\\WiagDataSetup.jl:1539\n",
      "┌ Warning: could not parse \n",
      "│   s = (1014 ?) 1015\n",
      "└ @ WiagDataSetup C:\\Users\\Georg\\Documents\\projekte\\WiagDataSetup.jl\\src\\WiagDataSetup.jl:1539\n",
      "┌ Warning: could not parse \n",
      "│   s = (952)\n",
      "└ @ WiagDataSetup C:\\Users\\Georg\\Documents\\projekte\\WiagDataSetup.jl\\src\\WiagDataSetup.jl:1539\n",
      "┌ Warning: could not parse \n",
      "│   s = (972)\n",
      "└ @ WiagDataSetup C:\\Users\\Georg\\Documents\\projekte\\WiagDataSetup.jl\\src\\WiagDataSetup.jl:1539\n",
      "┌ Warning: could not parse \n",
      "│   s = (984)\n",
      "└ @ WiagDataSetup C:\\Users\\Georg\\Documents\\projekte\\WiagDataSetup.jl\\src\\WiagDataSetup.jl:1539\n",
      "┌ Warning: could not parse \n",
      "│   s = (991)\n",
      "└ @ WiagDataSetup C:\\Users\\Georg\\Documents\\projekte\\WiagDataSetup.jl\\src\\WiagDataSetup.jl:1539\n",
      "┌ Warning: could not parse \n",
      "│   s = (996)\n",
      "└ @ WiagDataSetup C:\\Users\\Georg\\Documents\\projekte\\WiagDataSetup.jl\\src\\WiagDataSetup.jl:1539\n",
      "┌ Warning: could not parse \n",
      "│   s = (1026)\n",
      "└ @ WiagDataSetup C:\\Users\\Georg\\Documents\\projekte\\WiagDataSetup.jl\\src\\WiagDataSetup.jl:1539\n",
      "┌ Warning: could not parse \n",
      "│   s = (1047)\n",
      "└ @ WiagDataSetup C:\\Users\\Georg\\Documents\\projekte\\WiagDataSetup.jl\\src\\WiagDataSetup.jl:1539\n",
      "┌ Warning: could not parse \n",
      "│   s = fränkische Zeit ?\n",
      "└ @ WiagDataSetup C:\\Users\\Georg\\Documents\\projekte\\WiagDataSetup.jl\\src\\WiagDataSetup.jl:1539\n"
     ]
    }
   ],
   "source": [
    "transform!(df_prp, :Amtsbeginn => ByRow(Wds.parse_year_sort) => :date_sort_key);"
   ]
  },
  {
   "cell_type": "code",
   "execution_count": 50,
   "metadata": {},
   "outputs": [
    {
     "name": "stderr",
     "output_type": "stream",
     "text": [
      "┌ Warning: could not parse \n",
      "│   s = (1014 ?) 1015\n",
      "└ @ WiagDataSetup C:\\Users\\Georg\\Documents\\projekte\\WiagDataSetup.jl\\src\\WiagDataSetup.jl:1539\n",
      "┌ Warning: could not parse \n",
      "│   s = (952)\n",
      "└ @ WiagDataSetup C:\\Users\\Georg\\Documents\\projekte\\WiagDataSetup.jl\\src\\WiagDataSetup.jl:1539\n",
      "┌ Warning: could not parse \n",
      "│   s = (972)\n",
      "└ @ WiagDataSetup C:\\Users\\Georg\\Documents\\projekte\\WiagDataSetup.jl\\src\\WiagDataSetup.jl:1539\n",
      "┌ Warning: could not parse \n",
      "│   s = (984)\n",
      "└ @ WiagDataSetup C:\\Users\\Georg\\Documents\\projekte\\WiagDataSetup.jl\\src\\WiagDataSetup.jl:1539\n",
      "┌ Warning: could not parse \n",
      "│   s = (991)\n",
      "└ @ WiagDataSetup C:\\Users\\Georg\\Documents\\projekte\\WiagDataSetup.jl\\src\\WiagDataSetup.jl:1539\n",
      "┌ Warning: could not parse \n",
      "│   s = (996)\n",
      "└ @ WiagDataSetup C:\\Users\\Georg\\Documents\\projekte\\WiagDataSetup.jl\\src\\WiagDataSetup.jl:1539\n",
      "┌ Warning: could not parse \n",
      "│   s = (1072)\n",
      "└ @ WiagDataSetup C:\\Users\\Georg\\Documents\\projekte\\WiagDataSetup.jl\\src\\WiagDataSetup.jl:1539\n",
      "┌ Warning: could not parse \n",
      "│   s = (1121/1125)\n",
      "└ @ WiagDataSetup C:\\Users\\Georg\\Documents\\projekte\\WiagDataSetup.jl\\src\\WiagDataSetup.jl:1539\n"
     ]
    }
   ],
   "source": [
    "transform!(df_prp, :Amtsende => ByRow(Wds.parse_year_sort) => :date_sort_key_replace);"
   ]
  },
  {
   "cell_type": "code",
   "execution_count": 51,
   "metadata": {},
   "outputs": [
    {
     "data": {
      "text/plain": [
       "replace_if_missing (generic function with 1 method)"
      ]
     },
     "execution_count": 51,
     "metadata": {},
     "output_type": "execute_result"
    }
   ],
   "source": [
    "replace_if_missing(a, b) = ismissing(a) || a == 9000900 ? b : a"
   ]
  },
  {
   "cell_type": "code",
   "execution_count": 52,
   "metadata": {},
   "outputs": [],
   "source": [
    "transform!(df_prp, [:date_sort_key, :date_sort_key_replace] => ByRow(replace_if_missing) => :date_sort_key);"
   ]
  },
  {
   "cell_type": "markdown",
   "metadata": {},
   "source": [
    "*2022-09-26* Bei manchen Bischöfen fehlt `date_sort_key` obwohl es eine Angabe zum Amtsende gibt.  \n",
    "begin debug \n",
    "Korrektur: prüfe nicht nur auf `missing` sondern auch auf 9000900"
   ]
  },
  {
   "cell_type": "code",
   "execution_count": 53,
   "metadata": {},
   "outputs": [
    {
     "data": {
      "text/plain": [
       "filter_ids (generic function with 1 method)"
      ]
     },
     "execution_count": 53,
     "metadata": {},
     "output_type": "execute_result"
    }
   ],
   "source": [
    "filter_ids(x) = x in (319350, 319850, 320563, 322960)"
   ]
  },
  {
   "cell_type": "code",
   "execution_count": 54,
   "metadata": {},
   "outputs": [],
   "source": [
    "df_prp_info = filter(:person_id => filter_ids, df_prp);"
   ]
  },
  {
   "cell_type": "code",
   "execution_count": 55,
   "metadata": {},
   "outputs": [
    {
     "data": {
      "text/html": [
       "<div><div style = \"float: left;\"><span>0×9 DataFrame</span></div><div style = \"clear: both;\"></div></div><div class = \"data-frame\" style = \"overflow-x: scroll;\"><table class = \"data-frame\" style = \"margin-bottom: 6px;\"></table></div>"
      ],
      "text/latex": [
       "\\begin{tabular}{r|ccccccccc}\n",
       "\t& person\\_id & Bistum & Amtsart & Amtsbeginn & Amtsende & num\\_date\\_begin & num\\_date\\_end & date\\_sort\\_key & date\\_sort\\_key\\_replace\\\\\n",
       "\t\\hline\n",
       "\t& Int32 & String? & String & String? & String? & Int64? & Int64? & Int64 & Int64\\\\\n",
       "\t\\hline\n",
       "\\end{tabular}\n"
      ],
      "text/plain": [
       "\u001b[1m0×9 DataFrame\u001b[0m"
      ]
     },
     "execution_count": 55,
     "metadata": {},
     "output_type": "execute_result"
    }
   ],
   "source": [
    "df_prp_info[:, [:person_id, :Bistum, :Amtsart, :Amtsbeginn, :Amtsende, :num_date_begin, :num_date_end, :date_sort_key, :date_sort_key_replace]]"
   ]
  },
  {
   "cell_type": "markdown",
   "metadata": {},
   "source": [
    "end debug"
   ]
  },
  {
   "cell_type": "code",
   "execution_count": 56,
   "metadata": {},
   "outputs": [
    {
     "data": {
      "text/plain": [
       "(7320, 0)"
      ]
     },
     "execution_count": 56,
     "metadata": {},
     "output_type": "execute_result"
    }
   ],
   "source": [
    "size(df_prp, 1), count(ismissing, df_prp.date_sort_key)"
   ]
  },
  {
   "cell_type": "markdown",
   "metadata": {},
   "source": [
    "Bestehende Einträge löschen"
   ]
  },
  {
   "cell_type": "code",
   "execution_count": 57,
   "metadata": {},
   "outputs": [
    {
     "data": {
      "text/plain": [
       "MySQL.TextCursor{true}(MySQL.Connection(host=\"127.0.0.1\", user=\"georg\", port=\"3306\", db=\"wiag_in\"), \"DELETE FROM person_role WHERE person_id IN (SELECT id FROM item WHERE item_type_id = 4)\", 0, -1, 0, MySQL.API.MYSQL_RES(Ptr{Nothing} @0x0000000000000000), Symbol[], Type[], Dict{Symbol, Int64}(), 0, 1, false)"
      ]
     },
     "execution_count": 57,
     "metadata": {},
     "output_type": "execute_result"
    }
   ],
   "source": [
    "table_name = \"person_role\";\n",
    "item_type_id = 4;\n",
    "sql = \"DELETE FROM $(table_name) WHERE person_id IN (SELECT id FROM item WHERE item_type_id = $(item_type_id))\";\n",
    "DBInterface.execute(Wds.dbwiag, sql)"
   ]
  },
  {
   "cell_type": "markdown",
   "metadata": {},
   "source": [
    "Daten schreiben\n",
    "\n",
    "Schreibe für alle Bistümer, auch für die identifizierten, den Namen des Bistums in die Tabelle.  \n",
    "Schreibe für alle Ämter, auch für die identifizierten, den Namen des Amts in die Tabelle."
   ]
  },
  {
   "cell_type": "code",
   "execution_count": 59,
   "metadata": {},
   "outputs": [],
   "source": [
    "columns = [\n",
    "    :Bistum => :diocese_name,\n",
    "    :Amtsbeginn => :date_begin,\n",
    "    :Amtsende => :date_end,\n",
    "    :Amt_Kommentar => :note,\n",
    "    :Sort => :display_order,\n",
    "    :Amtsart => :role_name,\n",
    "    :person_id => :person_id,\n",
    "    :diocese_id => :diocese_id,\n",
    "    :role_id => :role_id,\n",
    "    :num_date_begin => :num_date_begin,\n",
    "    :num_date_end => :num_date_end,\n",
    "    :date_sort_key => :date_sort_key,\n",
    "];"
   ]
  },
  {
   "cell_type": "code",
   "execution_count": 60,
   "metadata": {},
   "outputs": [
    {
     "name": "stderr",
     "output_type": "stream",
     "text": [
      "┌ Info: Rows inserted: 7320\n",
      "└ @ WiagDataSetup C:\\Users\\Georg\\Documents\\projekte\\WiagDataSetup.jl\\src\\WiagDataSetup.jl:1216\n"
     ]
    },
    {
     "data": {
      "text/plain": [
       "7320"
      ]
     },
     "execution_count": 60,
     "metadata": {},
     "output_type": "execute_result"
    }
   ],
   "source": [
    "table_dst = \"person_role\"\n",
    "Wds.filltable!(table_dst, select(df_prp, columns))"
   ]
  },
  {
   "cell_type": "markdown",
   "metadata": {},
   "source": [
    "Titularbistum eintragen\n",
    "\n",
    "Identifikation über `ID_Bischof`, `Amtsart`, `Bistum`\n",
    "\n",
    "Es gibt nur einen Eintrag, der nicht leer ist?!\n",
    "``` sql\n",
    "SELECT ID_Bischof, Amtsart, Bistum, COUNT(*) AS n\n",
    "FROM bischof.tbl_bischoefe_gatzaemter\n",
    "WHERE Titularbistum IS NOT NULL AND Titularbistum <> ''\n",
    "GROUP BY ID_Bischof, Amtsart, Bistum\n",
    "ORDER BY n DESC;\n",
    "```\n",
    "\n",
    "Es gibt nur einen Eintrag für `ID_Bischof` = 21596. Dieser Bischof ist aber nicht in der Bischofsliste."
   ]
  },
  {
   "cell_type": "code",
   "execution_count": 60,
   "metadata": {},
   "outputs": [
    {
     "data": {
      "text/html": [
       "<div class=\"data-frame\"><p>0 rows × 4 columns</p><table class=\"data-frame\"><thead><tr><th></th><th>ID_Bischof</th><th>Bistum</th><th>Amtsart</th><th>Titularbistum</th></tr><tr><th></th><th title=\"Int64\">Int64</th><th title=\"Union{Missing, String}\">String?</th><th title=\"String\">String</th><th title=\"Union{Missing, String}\">String?</th></tr></thead><tbody></tbody></table></div>"
      ],
      "text/latex": [
       "\\begin{tabular}{r|cccc}\n",
       "\t& ID\\_Bischof & Bistum & Amtsart & Titularbistum\\\\\n",
       "\t\\hline\n",
       "\t& Int64 & String? & String & String?\\\\\n",
       "\t\\hline\n",
       "\\end{tabular}\n"
      ],
      "text/plain": [
       "\u001b[1m0×4 DataFrame\u001b[0m"
      ]
     },
     "execution_count": 60,
     "metadata": {},
     "output_type": "execute_result"
    }
   ],
   "source": [
    "filter(:ID_Bischof => isequal(21596), select(df_prp, :ID_Bischof, :Bistum, :Amtsart, :Titularbistum))"
   ]
  },
  {
   "cell_type": "markdown",
   "metadata": {},
   "source": [
    "## Zeitspanne der Person"
   ]
  },
  {
   "cell_type": "markdown",
   "metadata": {},
   "source": [
    "Numerische Werte der Lebensdaten"
   ]
  },
  {
   "cell_type": "code",
   "execution_count": 61,
   "metadata": {},
   "outputs": [],
   "source": [
    "sql = \"SELECT id, date_birth, date_death, num_date_birth, num_date_death\n",
    "FROM person WHERE id in (SELECT id FROM item WHERE item_type_id = $(item_type_id))\"\n",
    "df_date = Wds.sql_df(sql);"
   ]
  },
  {
   "cell_type": "code",
   "execution_count": 62,
   "metadata": {},
   "outputs": [
    {
     "data": {
      "text/plain": [
       "parse_date_birth (generic function with 1 method)"
      ]
     },
     "execution_count": 62,
     "metadata": {},
     "output_type": "execute_result"
    }
   ],
   "source": [
    "parse_date_birth(s) = Wds.parsemaybe(s, :lower)"
   ]
  },
  {
   "cell_type": "code",
   "execution_count": 63,
   "metadata": {},
   "outputs": [],
   "source": [
    "transform!(df_date, :date_birth => ByRow(parse_date_birth) => :num_date_birth);"
   ]
  },
  {
   "cell_type": "code",
   "execution_count": 64,
   "metadata": {},
   "outputs": [
    {
     "data": {
      "text/plain": [
       "parse_date_death (generic function with 1 method)"
      ]
     },
     "execution_count": 64,
     "metadata": {},
     "output_type": "execute_result"
    }
   ],
   "source": [
    "parse_date_death(s) = Wds.parsemaybe(s, :upper)"
   ]
  },
  {
   "cell_type": "code",
   "execution_count": 65,
   "metadata": {},
   "outputs": [],
   "source": [
    "transform!(df_date, :date_death => ByRow(parse_date_death) => :num_date_death);"
   ]
  },
  {
   "cell_type": "code",
   "execution_count": 66,
   "metadata": {},
   "outputs": [
    {
     "data": {
      "text/html": [
       "<div><div style = \"float: left;\"><span>10×5 DataFrame</span></div><div style = \"clear: both;\"></div></div><div class = \"data-frame\" style = \"overflow-x: scroll;\"><table class = \"data-frame\" style = \"margin-bottom: 6px;\"><thead><tr class = \"header\"><th class = \"rowNumber\" style = \"font-weight: bold; text-align: right;\">Row</th><th style = \"text-align: left;\">id</th><th style = \"text-align: left;\">date_birth</th><th style = \"text-align: left;\">date_death</th><th style = \"text-align: left;\">num_date_birth</th><th style = \"text-align: left;\">num_date_death</th></tr><tr class = \"subheader headerLastRow\"><th class = \"rowNumber\" style = \"font-weight: bold; text-align: right;\"></th><th title = \"Int32\" style = \"text-align: left;\">Int32</th><th title = \"Union{Missing, String}\" style = \"text-align: left;\">String?</th><th title = \"Union{Missing, String}\" style = \"text-align: left;\">String?</th><th title = \"Union{Missing, Int64}\" style = \"text-align: left;\">Int64?</th><th title = \"Union{Missing, Int64}\" style = \"text-align: left;\">Int64?</th></tr></thead><tbody><tr><td class = \"rowNumber\" style = \"font-weight: bold; text-align: right;\">1</td><td style = \"text-align: right;\">558747</td><td style = \"font-style: italic; text-align: left;\">missing</td><td style = \"text-align: left;\">1404</td><td style = \"font-style: italic; text-align: right;\">missing</td><td style = \"text-align: right;\">1404</td></tr><tr><td class = \"rowNumber\" style = \"font-weight: bold; text-align: right;\">2</td><td style = \"text-align: right;\">558748</td><td style = \"font-style: italic; text-align: left;\">missing</td><td style = \"text-align: left;\">spätestens 1398</td><td style = \"font-style: italic; text-align: right;\">missing</td><td style = \"text-align: right;\">1398</td></tr><tr><td class = \"rowNumber\" style = \"font-weight: bold; text-align: right;\">3</td><td style = \"text-align: right;\">558749</td><td style = \"font-style: italic; text-align: left;\">missing</td><td style = \"text-align: left;\">1386</td><td style = \"font-style: italic; text-align: right;\">missing</td><td style = \"text-align: right;\">1386</td></tr><tr><td class = \"rowNumber\" style = \"font-weight: bold; text-align: right;\">4</td><td style = \"text-align: right;\">558750</td><td style = \"text-align: left;\">1322/24</td><td style = \"text-align: left;\">1395</td><td style = \"text-align: right;\">1322</td><td style = \"text-align: right;\">1395</td></tr><tr><td class = \"rowNumber\" style = \"font-weight: bold; text-align: right;\">5</td><td style = \"text-align: right;\">558751</td><td style = \"font-style: italic; text-align: left;\">missing</td><td style = \"text-align: left;\">frühestens 1400</td><td style = \"font-style: italic; text-align: right;\">missing</td><td style = \"text-align: right;\">1450</td></tr><tr><td class = \"rowNumber\" style = \"font-weight: bold; text-align: right;\">6</td><td style = \"text-align: right;\">558752</td><td style = \"text-align: left;\">1335</td><td style = \"text-align: left;\">1375</td><td style = \"text-align: right;\">1335</td><td style = \"text-align: right;\">1375</td></tr><tr><td class = \"rowNumber\" style = \"font-weight: bold; text-align: right;\">7</td><td style = \"text-align: right;\">558753</td><td style = \"font-style: italic; text-align: left;\">missing</td><td style = \"text-align: left;\">1361</td><td style = \"font-style: italic; text-align: right;\">missing</td><td style = \"text-align: right;\">1361</td></tr><tr><td class = \"rowNumber\" style = \"font-weight: bold; text-align: right;\">8</td><td style = \"text-align: right;\">558754</td><td style = \"font-style: italic; text-align: left;\">missing</td><td style = \"text-align: left;\">1338</td><td style = \"font-style: italic; text-align: right;\">missing</td><td style = \"text-align: right;\">1338</td></tr><tr><td class = \"rowNumber\" style = \"font-weight: bold; text-align: right;\">9</td><td style = \"text-align: right;\">558755</td><td style = \"font-style: italic; text-align: left;\">missing</td><td style = \"text-align: left;\">1308</td><td style = \"font-style: italic; text-align: right;\">missing</td><td style = \"text-align: right;\">1308</td></tr><tr><td class = \"rowNumber\" style = \"font-weight: bold; text-align: right;\">10</td><td style = \"text-align: right;\">558756</td><td style = \"font-style: italic; text-align: left;\">missing</td><td style = \"text-align: left;\">1323</td><td style = \"font-style: italic; text-align: right;\">missing</td><td style = \"text-align: right;\">1323</td></tr></tbody></table></div>"
      ],
      "text/latex": [
       "\\begin{tabular}{r|ccccc}\n",
       "\t& id & date\\_birth & date\\_death & num\\_date\\_birth & num\\_date\\_death\\\\\n",
       "\t\\hline\n",
       "\t& Int32 & String? & String? & Int64? & Int64?\\\\\n",
       "\t\\hline\n",
       "\t1 & 558747 & \\emph{missing} & 1404 & \\emph{missing} & 1404 \\\\\n",
       "\t2 & 558748 & \\emph{missing} & spätestens 1398 & \\emph{missing} & 1398 \\\\\n",
       "\t3 & 558749 & \\emph{missing} & 1386 & \\emph{missing} & 1386 \\\\\n",
       "\t4 & 558750 & 1322/24 & 1395 & 1322 & 1395 \\\\\n",
       "\t5 & 558751 & \\emph{missing} & frühestens 1400 & \\emph{missing} & 1450 \\\\\n",
       "\t6 & 558752 & 1335 & 1375 & 1335 & 1375 \\\\\n",
       "\t7 & 558753 & \\emph{missing} & 1361 & \\emph{missing} & 1361 \\\\\n",
       "\t8 & 558754 & \\emph{missing} & 1338 & \\emph{missing} & 1338 \\\\\n",
       "\t9 & 558755 & \\emph{missing} & 1308 & \\emph{missing} & 1308 \\\\\n",
       "\t10 & 558756 & \\emph{missing} & 1323 & \\emph{missing} & 1323 \\\\\n",
       "\\end{tabular}\n"
      ],
      "text/plain": [
       "\u001b[1m10×5 DataFrame\u001b[0m\n",
       "\u001b[1m Row \u001b[0m│\u001b[1m id     \u001b[0m\u001b[1m date_birth \u001b[0m\u001b[1m date_death      \u001b[0m\u001b[1m num_date_birth \u001b[0m\u001b[1m num_date_death \u001b[0m\n",
       "     │\u001b[90m Int32  \u001b[0m\u001b[90m String?    \u001b[0m\u001b[90m String?         \u001b[0m\u001b[90m Int64?         \u001b[0m\u001b[90m Int64?         \u001b[0m\n",
       "─────┼─────────────────────────────────────────────────────────────────────\n",
       "   1 │ 558747 \u001b[90m missing    \u001b[0m 1404            \u001b[90m        missing \u001b[0m           1404\n",
       "   2 │ 558748 \u001b[90m missing    \u001b[0m spätestens 1398 \u001b[90m        missing \u001b[0m           1398\n",
       "   3 │ 558749 \u001b[90m missing    \u001b[0m 1386            \u001b[90m        missing \u001b[0m           1386\n",
       "   4 │ 558750  1322/24     1395                       1322            1395\n",
       "   5 │ 558751 \u001b[90m missing    \u001b[0m frühestens 1400 \u001b[90m        missing \u001b[0m           1450\n",
       "   6 │ 558752  1335        1375                       1335            1375\n",
       "   7 │ 558753 \u001b[90m missing    \u001b[0m 1361            \u001b[90m        missing \u001b[0m           1361\n",
       "   8 │ 558754 \u001b[90m missing    \u001b[0m 1338            \u001b[90m        missing \u001b[0m           1338\n",
       "   9 │ 558755 \u001b[90m missing    \u001b[0m 1308            \u001b[90m        missing \u001b[0m           1308\n",
       "  10 │ 558756 \u001b[90m missing    \u001b[0m 1323            \u001b[90m        missing \u001b[0m           1323"
      ]
     },
     "execution_count": 66,
     "metadata": {},
     "output_type": "execute_result"
    }
   ],
   "source": [
    "df_date[231:240, :]"
   ]
  },
  {
   "cell_type": "markdown",
   "metadata": {},
   "source": [
    "Update der Datenbank: person.num_date_birth; person.num_date_death"
   ]
  },
  {
   "cell_type": "code",
   "execution_count": 67,
   "metadata": {},
   "outputs": [],
   "source": [
    "for row in eachrow(df_date)\n",
    "    id, num_date_birth, num_date_death = row[[:id, :num_date_birth, :num_date_death]]\n",
    "    if !(ismissing(num_date_birth))\n",
    "        sql = \"UPDATE person SET num_date_birth = $(num_date_birth) WHERE id = $(id)\"\n",
    "        DBInterface.execute(Wds.dbwiag, sql)\n",
    "    end\n",
    "    if !(ismissing(num_date_death))\n",
    "        sql = \"UPDATE person SET num_date_death = $(num_date_death) WHERE id = $(id)\"\n",
    "        DBInterface.execute(Wds.dbwiag, sql)\n",
    "    end\n",
    "end    "
   ]
  },
  {
   "cell_type": "markdown",
   "metadata": {},
   "source": [
    "Zeitspanne der Ämter"
   ]
  },
  {
   "cell_type": "code",
   "execution_count": 68,
   "metadata": {},
   "outputs": [],
   "source": [
    "sql = \"SELECT person_id, role_id, role_name, diocese_id, diocese_name, num_date_begin, num_date_end\n",
    "FROM person_role pr\n",
    "INNER JOIN person p ON p.id = pr.person_id\n",
    "WHERE p.item_type_id = $(item_type_id)\"\n",
    "df_pr_date = Wds.sql_df(sql);"
   ]
  },
  {
   "cell_type": "code",
   "execution_count": 69,
   "metadata": {},
   "outputs": [],
   "source": [
    "df_pr_begin_value = dropmissing(df_pr_date, :num_date_begin);\n",
    "df_pr_begin = groupby(select(df_pr_begin_value, :person_id, :num_date_begin), :person_id);"
   ]
  },
  {
   "cell_type": "code",
   "execution_count": 70,
   "metadata": {},
   "outputs": [],
   "source": [
    "df_pr_date_min = combine(df_pr_begin, :num_date_begin => minimum => :date_min);"
   ]
  },
  {
   "cell_type": "code",
   "execution_count": 71,
   "metadata": {},
   "outputs": [
    {
     "data": {
      "text/plain": [
       "(5025, 2)"
      ]
     },
     "execution_count": 71,
     "metadata": {},
     "output_type": "execute_result"
    }
   ],
   "source": [
    "size(df_pr_date_min)"
   ]
  },
  {
   "cell_type": "code",
   "execution_count": 72,
   "metadata": {},
   "outputs": [
    {
     "data": {
      "text/plain": [
       "2-element Vector{String}:\n",
       " \"person_id\"\n",
       " \"date_min\""
      ]
     },
     "execution_count": 72,
     "metadata": {},
     "output_type": "execute_result"
    }
   ],
   "source": [
    "names(df_pr_date_min)"
   ]
  },
  {
   "cell_type": "code",
   "execution_count": 73,
   "metadata": {},
   "outputs": [],
   "source": [
    "df_pr_end_value = dropmissing(df_pr_date, :num_date_end);\n",
    "df_pr_end = groupby(select(df_pr_end_value, :person_id, :num_date_end), :person_id);"
   ]
  },
  {
   "cell_type": "code",
   "execution_count": 74,
   "metadata": {},
   "outputs": [],
   "source": [
    "df_pr_date_max = combine(df_pr_end, :num_date_end => maximum => :date_max);"
   ]
  },
  {
   "cell_type": "code",
   "execution_count": 75,
   "metadata": {},
   "outputs": [
    {
     "data": {
      "text/plain": [
       "(4539, 2)"
      ]
     },
     "execution_count": 75,
     "metadata": {},
     "output_type": "execute_result"
    }
   ],
   "source": [
    "size(df_pr_date_max)"
   ]
  },
  {
   "cell_type": "code",
   "execution_count": 76,
   "metadata": {},
   "outputs": [],
   "source": [
    "df_date = leftjoin(df_date, df_pr_date_min, on = :id => :person_id);"
   ]
  },
  {
   "cell_type": "code",
   "execution_count": 77,
   "metadata": {},
   "outputs": [],
   "source": [
    "df_date = leftjoin(df_date, df_pr_date_max, on = :id => :person_id);"
   ]
  },
  {
   "cell_type": "code",
   "execution_count": 78,
   "metadata": {},
   "outputs": [
    {
     "data": {
      "text/plain": [
       "(5171, 7)"
      ]
     },
     "execution_count": 78,
     "metadata": {},
     "output_type": "execute_result"
    }
   ],
   "source": [
    "size(df_date)"
   ]
  },
  {
   "cell_type": "code",
   "execution_count": 79,
   "metadata": {},
   "outputs": [
    {
     "data": {
      "text/plain": [
       "7-element Vector{String}:\n",
       " \"id\"\n",
       " \"date_birth\"\n",
       " \"date_death\"\n",
       " \"num_date_birth\"\n",
       " \"num_date_death\"\n",
       " \"date_min\"\n",
       " \"date_max\""
      ]
     },
     "execution_count": 79,
     "metadata": {},
     "output_type": "execute_result"
    }
   ],
   "source": [
    "names(df_date)"
   ]
  },
  {
   "cell_type": "code",
   "execution_count": 80,
   "metadata": {},
   "outputs": [
    {
     "data": {
      "text/html": [
       "<div><div style = \"float: left;\"><span>5×7 DataFrame</span></div><div style = \"clear: both;\"></div></div><div class = \"data-frame\" style = \"overflow-x: scroll;\"><table class = \"data-frame\" style = \"margin-bottom: 6px;\"><thead><tr class = \"header\"><th class = \"rowNumber\" style = \"font-weight: bold; text-align: right;\">Row</th><th style = \"text-align: left;\">id</th><th style = \"text-align: left;\">date_birth</th><th style = \"text-align: left;\">date_death</th><th style = \"text-align: left;\">num_date_birth</th><th style = \"text-align: left;\">num_date_death</th><th style = \"text-align: left;\">date_min</th><th style = \"text-align: left;\">date_max</th></tr><tr class = \"subheader headerLastRow\"><th class = \"rowNumber\" style = \"font-weight: bold; text-align: right;\"></th><th title = \"Int32\" style = \"text-align: left;\">Int32</th><th title = \"Union{Missing, String}\" style = \"text-align: left;\">String?</th><th title = \"Union{Missing, String}\" style = \"text-align: left;\">String?</th><th title = \"Union{Missing, Int64}\" style = \"text-align: left;\">Int64?</th><th title = \"Union{Missing, Int64}\" style = \"text-align: left;\">Int64?</th><th title = \"Union{Missing, Int32}\" style = \"text-align: left;\">Int32?</th><th title = \"Union{Missing, Int32}\" style = \"text-align: left;\">Int32?</th></tr></thead><tbody><tr><td class = \"rowNumber\" style = \"font-weight: bold; text-align: right;\">1</td><td style = \"text-align: right;\">558827</td><td style = \"font-style: italic; text-align: left;\">missing</td><td style = \"text-align: left;\">1359</td><td style = \"font-style: italic; text-align: right;\">missing</td><td style = \"text-align: right;\">1359</td><td style = \"text-align: right;\">1354</td><td style = \"text-align: right;\">1359</td></tr><tr><td class = \"rowNumber\" style = \"font-weight: bold; text-align: right;\">2</td><td style = \"text-align: right;\">558828</td><td style = \"font-style: italic; text-align: left;\">missing</td><td style = \"text-align: left;\">1331/32</td><td style = \"font-style: italic; text-align: right;\">missing</td><td style = \"text-align: right;\">1331</td><td style = \"text-align: right;\">1328</td><td style = \"text-align: right;\">1331</td></tr><tr><td class = \"rowNumber\" style = \"font-weight: bold; text-align: right;\">3</td><td style = \"text-align: right;\">558829</td><td style = \"font-style: italic; text-align: left;\">missing</td><td style = \"text-align: left;\">vor 1332</td><td style = \"font-style: italic; text-align: right;\">missing</td><td style = \"text-align: right;\">1332</td><td style = \"text-align: right;\">1322</td><td style = \"text-align: right;\">1330</td></tr><tr><td class = \"rowNumber\" style = \"font-weight: bold; text-align: right;\">4</td><td style = \"text-align: right;\">558830</td><td style = \"font-style: italic; text-align: left;\">missing</td><td style = \"text-align: left;\">spätestens 1322</td><td style = \"font-style: italic; text-align: right;\">missing</td><td style = \"text-align: right;\">1322</td><td style = \"text-align: right;\">1250</td><td style = \"text-align: right;\">1321</td></tr><tr><td class = \"rowNumber\" style = \"font-weight: bold; text-align: right;\">5</td><td style = \"text-align: right;\">558831</td><td style = \"font-style: italic; text-align: left;\">missing</td><td style = \"text-align: left;\">1292</td><td style = \"font-style: italic; text-align: right;\">missing</td><td style = \"text-align: right;\">1292</td><td style = \"text-align: right;\">1263</td><td style = \"text-align: right;\">1292</td></tr></tbody></table></div>"
      ],
      "text/latex": [
       "\\begin{tabular}{r|ccccccc}\n",
       "\t& id & date\\_birth & date\\_death & num\\_date\\_birth & num\\_date\\_death & date\\_min & date\\_max\\\\\n",
       "\t\\hline\n",
       "\t& Int32 & String? & String? & Int64? & Int64? & Int32? & Int32?\\\\\n",
       "\t\\hline\n",
       "\t1 & 558827 & \\emph{missing} & 1359 & \\emph{missing} & 1359 & 1354 & 1359 \\\\\n",
       "\t2 & 558828 & \\emph{missing} & 1331/32 & \\emph{missing} & 1331 & 1328 & 1331 \\\\\n",
       "\t3 & 558829 & \\emph{missing} & vor 1332 & \\emph{missing} & 1332 & 1322 & 1330 \\\\\n",
       "\t4 & 558830 & \\emph{missing} & spätestens 1322 & \\emph{missing} & 1322 & 1250 & 1321 \\\\\n",
       "\t5 & 558831 & \\emph{missing} & 1292 & \\emph{missing} & 1292 & 1263 & 1292 \\\\\n",
       "\\end{tabular}\n"
      ],
      "text/plain": [
       "\u001b[1m5×7 DataFrame\u001b[0m\n",
       "\u001b[1m Row \u001b[0m│\u001b[1m id     \u001b[0m\u001b[1m date_birth \u001b[0m\u001b[1m date_death      \u001b[0m\u001b[1m num_date_birth \u001b[0m\u001b[1m num_date_death \u001b[0m\u001b[1m date_min \u001b[0m\u001b[1m date_max \u001b[0m\n",
       "     │\u001b[90m Int32  \u001b[0m\u001b[90m String?    \u001b[0m\u001b[90m String?         \u001b[0m\u001b[90m Int64?         \u001b[0m\u001b[90m Int64?         \u001b[0m\u001b[90m Int32?   \u001b[0m\u001b[90m Int32?   \u001b[0m\n",
       "─────┼─────────────────────────────────────────────────────────────────────────────────────────\n",
       "   1 │ 558827 \u001b[90m missing    \u001b[0m 1359            \u001b[90m        missing \u001b[0m           1359      1354      1359\n",
       "   2 │ 558828 \u001b[90m missing    \u001b[0m 1331/32         \u001b[90m        missing \u001b[0m           1331      1328      1331\n",
       "   3 │ 558829 \u001b[90m missing    \u001b[0m vor 1332        \u001b[90m        missing \u001b[0m           1332      1322      1330\n",
       "   4 │ 558830 \u001b[90m missing    \u001b[0m spätestens 1322 \u001b[90m        missing \u001b[0m           1322      1250      1321\n",
       "   5 │ 558831 \u001b[90m missing    \u001b[0m 1292            \u001b[90m        missing \u001b[0m           1292      1263      1292"
      ]
     },
     "execution_count": 80,
     "metadata": {},
     "output_type": "execute_result"
    }
   ],
   "source": [
    "df_date[231:235, :]"
   ]
  },
  {
   "cell_type": "markdown",
   "metadata": {},
   "source": [
    "Geburts- und Sterbedatum  \n",
    "Geburts- und Sterbedaten - so vorhanden - können die Zeitspanne nur verkürzen!"
   ]
  },
  {
   "cell_type": "code",
   "execution_count": 81,
   "metadata": {},
   "outputs": [],
   "source": [
    "min_may_be(x, y) = ismissing(x) ? y : (ismissing(y) ? x : min(x, y));\n",
    "max_may_be(x, y) = ismissing(x) ? y : (ismissing(y) ? x : max(x, y));"
   ]
  },
  {
   "cell_type": "code",
   "execution_count": 82,
   "metadata": {},
   "outputs": [],
   "source": [
    "transform!(df_date, [:date_min, :num_date_birth] => ByRow(max_may_be) => :date_min); # sic!"
   ]
  },
  {
   "cell_type": "code",
   "execution_count": 83,
   "metadata": {},
   "outputs": [],
   "source": [
    "transform!(df_date, [:date_max, :num_date_death] => ByRow(min_may_be) => :date_max); # sic!"
   ]
  },
  {
   "cell_type": "markdown",
   "metadata": {},
   "source": [
    "Übernimm' den jeweils gültigen Wert für fehlende Daten"
   ]
  },
  {
   "cell_type": "code",
   "execution_count": 84,
   "metadata": {},
   "outputs": [],
   "source": [
    "get_first_not_missing(x, y) = !ismissing(x) ? x : y;"
   ]
  },
  {
   "cell_type": "code",
   "execution_count": 85,
   "metadata": {},
   "outputs": [],
   "source": [
    "transform!(df_date, [:date_min, :date_max] => ByRow(get_first_not_missing) => :date_min);"
   ]
  },
  {
   "cell_type": "code",
   "execution_count": 86,
   "metadata": {},
   "outputs": [],
   "source": [
    "transform!(df_date, [:date_max, :date_min] => ByRow(get_first_not_missing) => :date_max);"
   ]
  },
  {
   "cell_type": "markdown",
   "metadata": {},
   "source": [
    "Trage die geänderten Daten in die Tabelle `person` ein"
   ]
  },
  {
   "cell_type": "code",
   "execution_count": 87,
   "metadata": {},
   "outputs": [],
   "source": [
    "for row in eachrow(df_date)\n",
    "    id, date_min, date_max = row[[:id, :date_min, :date_max]]\n",
    "    if !(ismissing(date_min))\n",
    "        sql = \"UPDATE person SET date_min = $(date_min) WHERE id = $(id)\"\n",
    "        DBInterface.execute(Wds.dbwiag, sql)\n",
    "    end\n",
    "    if !(ismissing(date_max))\n",
    "        sql = \"UPDATE person SET date_max = $(date_max) WHERE id = $(id)\"\n",
    "        DBInterface.execute(Wds.dbwiag, sql)\n",
    "    end\n",
    "end"
   ]
  },
  {
   "cell_type": "markdown",
   "metadata": {},
   "source": [
    "## Sortierung der Person nach Amt\n",
    "Die Tabelle `person_display_order` ist eine technische Hilfstabelle, um die Abfragen in Doctrine zu vereinfachen oder überhaupt erst zu ermöglichen. Jede Person erhält für jedes Bistum einen Sortierschlüssel und einen weiteren unabhängig vom Bistum.\n",
    "\n",
    "*2022-01-14* Verzichte zunächst auf diese Tabelle und löse das Problem in der Web-Anwendung. So bleibt das Datenmodell schlanker."
   ]
  },
  {
   "cell_type": "code",
   "execution_count": 45,
   "metadata": {},
   "outputs": [],
   "source": [
    "using MySQL, DataFrames"
   ]
  },
  {
   "cell_type": "markdown",
   "metadata": {},
   "source": [
    "Sortierung unabhängig von einer Diözese. Es werden auch Ämter berücksichtigt, die nicht mit einer Diözese verbunden sind."
   ]
  },
  {
   "cell_type": "code",
   "execution_count": 48,
   "metadata": {},
   "outputs": [],
   "source": [
    "sql = \"SELECT person_id, 'any' as diocese, min(display_order) as display_order \" *\n",
    "\"FROM person_role GROUP BY person_id\";\n",
    "df_do = db_exec(sql);"
   ]
  },
  {
   "cell_type": "code",
   "execution_count": 49,
   "metadata": {},
   "outputs": [
    {
     "data": {
      "text/plain": [
       "(5159, 3)"
      ]
     },
     "execution_count": 49,
     "metadata": {},
     "output_type": "execute_result"
    }
   ],
   "source": [
    "size(df_do)"
   ]
  },
  {
   "cell_type": "markdown",
   "metadata": {},
   "source": [
    "Zwölf Bischöfe haben kein Amt!?"
   ]
  },
  {
   "cell_type": "code",
   "execution_count": 50,
   "metadata": {},
   "outputs": [
    {
     "name": "stderr",
     "output_type": "stream",
     "text": [
      "┌ Info: Rows inserted: 5159\n",
      "└ @ WiagDataSetup C:\\Users\\Georg\\Documents\\projekte\\WiagDataSetup.jl\\src\\WiagDataSetup.jl:1169\n"
     ]
    },
    {
     "data": {
      "text/plain": [
       "5159"
      ]
     },
     "execution_count": 50,
     "metadata": {},
     "output_type": "execute_result"
    }
   ],
   "source": [
    "table_dst = \"person_display_order\"\n",
    "Wds.filltable!(table_dst, df_do)"
   ]
  },
  {
   "cell_type": "markdown",
   "metadata": {},
   "source": [
    "Sortierung nach Diözese"
   ]
  },
  {
   "cell_type": "code",
   "execution_count": 52,
   "metadata": {},
   "outputs": [],
   "source": [
    "sql = \"SELECT person_id, diocese_name as diocese, min(display_order) as display_order \" *\n",
    "\"FROM person_role \" *\n",
    "\"WHERE diocese_name IS NOT NULL \" *\n",
    "\"GROUP BY person_id, diocese_name\";\n",
    "df_do = db_exec(sql);"
   ]
  },
  {
   "cell_type": "code",
   "execution_count": 53,
   "metadata": {},
   "outputs": [
    {
     "data": {
      "text/plain": [
       "(6370, 3)"
      ]
     },
     "execution_count": 53,
     "metadata": {},
     "output_type": "execute_result"
    }
   ],
   "source": [
    "size(df_do)"
   ]
  },
  {
   "cell_type": "code",
   "execution_count": 54,
   "metadata": {},
   "outputs": [
    {
     "name": "stderr",
     "output_type": "stream",
     "text": [
      "┌ Info: Rows inserted: 6370\n",
      "└ @ WiagDataSetup C:\\Users\\Georg\\Documents\\projekte\\WiagDataSetup.jl\\src\\WiagDataSetup.jl:1169\n"
     ]
    },
    {
     "data": {
      "text/plain": [
       "6370"
      ]
     },
     "execution_count": 54,
     "metadata": {},
     "output_type": "execute_result"
    }
   ],
   "source": [
    "table_dst = \"person_display_order\"\n",
    "Wds.filltable!(table_dst, df_do)"
   ]
  },
  {
   "cell_type": "markdown",
   "metadata": {},
   "source": [
    "Bischöfe ohne Ämter"
   ]
  },
  {
   "cell_type": "code",
   "execution_count": 55,
   "metadata": {},
   "outputs": [],
   "source": [
    "sql = \"SELECT id AS person_id, 'any' as diocese, 950000 AS display_order \" *\n",
    "\"FROM person WHERE id NOT IN (SELECT DISTINCT person_id FROM person_role)\"\n",
    "df_do_r = db_exec(sql);"
   ]
  },
  {
   "cell_type": "code",
   "execution_count": 56,
   "metadata": {},
   "outputs": [
    {
     "data": {
      "text/plain": [
       "(12, 3)"
      ]
     },
     "execution_count": 56,
     "metadata": {},
     "output_type": "execute_result"
    }
   ],
   "source": [
    "size(df_do_r)"
   ]
  },
  {
   "cell_type": "code",
   "execution_count": 57,
   "metadata": {},
   "outputs": [
    {
     "name": "stderr",
     "output_type": "stream",
     "text": [
      "┌ Info: Rows inserted: 12\n",
      "└ @ WiagDataSetup C:\\Users\\Georg\\Documents\\projekte\\WiagDataSetup.jl\\src\\WiagDataSetup.jl:1169\n"
     ]
    },
    {
     "data": {
      "text/plain": [
       "12"
      ]
     },
     "execution_count": 57,
     "metadata": {},
     "output_type": "execute_result"
    }
   ],
   "source": [
    "table_dst = \"person_display_order\"\n",
    "Wds.filltable!(table_dst, df_do_r)"
   ]
  },
  {
   "cell_type": "code",
   "execution_count": null,
   "metadata": {},
   "outputs": [],
   "source": []
  },
  {
   "cell_type": "code",
   "execution_count": null,
   "metadata": {},
   "outputs": [],
   "source": []
  },
  {
   "cell_type": "code",
   "execution_count": null,
   "metadata": {},
   "outputs": [],
   "source": []
  }
 ],
 "metadata": {
  "kernelspec": {
   "display_name": "Julia 1.8.2",
   "language": "julia",
   "name": "julia-1.8"
  },
  "language_info": {
   "file_extension": ".jl",
   "mimetype": "application/julia",
   "name": "julia",
   "version": "1.8.2"
  }
 },
 "nbformat": 4,
 "nbformat_minor": 4
}
