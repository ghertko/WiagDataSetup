{
 "cells": [
  {
   "cell_type": "markdown",
   "metadata": {},
   "source": [
    "# Wissensaggregator Mittelalter und frühe Neuzeit\n",
    "### Daten für Klöster und Domstifte einlesen\n",
    "\n",
    "Quelle: Datenbank `gs_klosterdatenbank`, siehe Freigabe https://owncloud.gwdg.de/index.php/s/s4x0TotkZq4Nm2B\n",
    "\n",
    "Die Einträge in der Tabelle `person_role` beziehen sich auf diese Daten.\n",
    "\n",
    "- [Einträge in `item`](#Einträge-in-item)\n",
    "- [Einträge in `institution`](#Einträge-in-institution)\n",
    "- [Einträge in `institution_place`](#Einträge-in-institution_place)"
   ]
  },
  {
   "cell_type": "code",
   "execution_count": 1,
   "metadata": {},
   "outputs": [
    {
     "data": {
      "text/plain": [
       "\"..\\\\..\""
      ]
     },
     "execution_count": 1,
     "metadata": {},
     "output_type": "execute_result"
    }
   ],
   "source": [
    "# wds_path=\"C:\\\\Users\\\\Georg\\\\Documents\\\\projekte\\\\WiagDataSetup.jl\"\n",
    "wds_path=\"..\\\\..\""
   ]
  },
  {
   "cell_type": "code",
   "execution_count": 2,
   "metadata": {},
   "outputs": [],
   "source": [
    "cd(wds_path)"
   ]
  },
  {
   "cell_type": "code",
   "execution_count": 3,
   "metadata": {},
   "outputs": [],
   "source": [
    "using Pkg"
   ]
  },
  {
   "cell_type": "code",
   "execution_count": 4,
   "metadata": {},
   "outputs": [
    {
     "name": "stderr",
     "output_type": "stream",
     "text": [
      "\u001b[32m\u001b[1m  Activating\u001b[22m\u001b[39m project at `C:\\Users\\georg\\Documents\\projekte\\WiagDataSetup.jl`\n"
     ]
    }
   ],
   "source": [
    "Pkg.activate(\".\")"
   ]
  },
  {
   "cell_type": "code",
   "execution_count": 5,
   "metadata": {},
   "outputs": [],
   "source": [
    "using Revise, MySQL"
   ]
  },
  {
   "cell_type": "code",
   "execution_count": 6,
   "metadata": {},
   "outputs": [],
   "source": [
    "using WiagDataSetup"
   ]
  },
  {
   "cell_type": "code",
   "execution_count": 7,
   "metadata": {},
   "outputs": [],
   "source": [
    "using DataFrames"
   ]
  },
  {
   "cell_type": "code",
   "execution_count": 8,
   "metadata": {},
   "outputs": [
    {
     "data": {
      "text/plain": [
       "WiagDataSetup"
      ]
     },
     "execution_count": 8,
     "metadata": {},
     "output_type": "execute_result"
    }
   ],
   "source": [
    "Wds = WiagDataSetup"
   ]
  },
  {
   "cell_type": "markdown",
   "metadata": {},
   "source": [
    "*2022-11-04* Fix für Domstift Verden mit Datenbank `wiag_in`"
   ]
  },
  {
   "cell_type": "code",
   "execution_count": 9,
   "metadata": {},
   "outputs": [
    {
     "name": "stdout",
     "output_type": "stream",
     "text": [
      "Passwort für User georg: ········\n"
     ]
    },
    {
     "data": {
      "text/plain": [
       "MySQL.Connection(host=\"127.0.0.1\", user=\"georg\", port=\"3306\", db=\"wiag_in\")"
      ]
     },
     "execution_count": 9,
     "metadata": {},
     "output_type": "execute_result"
    }
   ],
   "source": [
    "Wds.setDBWIAG(user=\"georg\", db=\"wiag_in\")"
   ]
  },
  {
   "cell_type": "code",
   "execution_count": 10,
   "metadata": {},
   "outputs": [
    {
     "data": {
      "text/plain": [
       "2"
      ]
     },
     "execution_count": 10,
     "metadata": {},
     "output_type": "execute_result"
    }
   ],
   "source": [
    "item_type_id = 2 # Kloster"
   ]
  },
  {
   "cell_type": "markdown",
   "metadata": {},
   "source": [
    "### Einträge in `item`\n",
    "\n",
    "entsprechende Einträge in Tabelle `item` einfügen\n",
    "\n",
    "`id` für 'Kloster' in `item_type`: 2"
   ]
  },
  {
   "cell_type": "markdown",
   "metadata": {},
   "source": [
    "Einträge löschen (Korrektur/Datenupdate)\n",
    "\n"
   ]
  },
  {
   "cell_type": "code",
   "execution_count": 10,
   "metadata": {},
   "outputs": [],
   "source": [
    "item_type_mon = 2; # Kloster\n",
    "item_type_dft = 3; # Domstift"
   ]
  },
  {
   "cell_type": "code",
   "execution_count": 117,
   "metadata": {},
   "outputs": [
    {
     "data": {
      "text/plain": [
       "MySQL.TextCursor{true}(MySQL.Connection(host=\"127.0.0.1\", user=\"georg\", port=\"3306\", db=\"wiag2\"), \"DELETE from institution_place WHERE institution_id in \\n(SELECT id FROM item WHERE item_type_id in (2, 3))\", 0, -1, 0, MySQL.API.MYSQL_RES(Ptr{Nothing} @0x0000000000000000), Symbol[], Type[], Dict{Symbol, Int64}(), 0, 1, false)"
      ]
     },
     "execution_count": 117,
     "metadata": {},
     "output_type": "execute_result"
    }
   ],
   "source": [
    "table_name = \"institution_place\"\n",
    "sql = \"DELETE from $(table_name) WHERE institution_id in \n",
    "(SELECT id FROM item WHERE item_type_id in ($(item_type_mon), $item_type_dft))\"\n",
    "DBInterface.execute(Wds.dbwiag, sql)"
   ]
  },
  {
   "cell_type": "code",
   "execution_count": 62,
   "metadata": {},
   "outputs": [
    {
     "data": {
      "text/plain": [
       "MySQL.TextCursor{true}(MySQL.Connection(host=\"127.0.0.1\", user=\"georg\", port=\"3306\", db=\"wiag2\"), \"DELETE from institution WHERE id in \\n(SELECT id FROM item WHERE item_type_id in (2, 3))\", 0, -1, 0, MySQL.API.MYSQL_RES(Ptr{Nothing} @0x0000000000000000), Symbol[], Type[], Dict{Symbol, Int64}(), 0, 1, false)"
      ]
     },
     "execution_count": 62,
     "metadata": {},
     "output_type": "execute_result"
    }
   ],
   "source": [
    "table_name = \"institution\"\n",
    "sql = \"DELETE from $(table_name) WHERE id in \n",
    "(SELECT id FROM item WHERE item_type_id in ($(item_type_mon), $item_type_dft))\"\n",
    "DBInterface.execute(Wds.dbwiag, sql)"
   ]
  },
  {
   "cell_type": "code",
   "execution_count": 14,
   "metadata": {},
   "outputs": [
    {
     "data": {
      "text/plain": [
       "MySQL.TextCursor{true}(MySQL.Connection(host=\"127.0.0.1\", user=\"georg\", port=\"3306\", db=\"wiag2\"), \"DELETE FROM item WHERE item_type_id in (2, 3)\", 0, -1, 5286, MySQL.API.MYSQL_RES(Ptr{Nothing} @0x0000000000000000), Symbol[], Type[], Dict{Symbol, Int64}(), 0, 1, false)"
      ]
     },
     "execution_count": 14,
     "metadata": {},
     "output_type": "execute_result"
    }
   ],
   "source": [
    "table_name = \"item\"\n",
    "sql = \"DELETE FROM $(table_name) WHERE item_type_id in ($(item_type_mon), $item_type_dft)\"\n",
    "DBInterface.execute(Wds.dbwiag, sql)"
   ]
  },
  {
   "cell_type": "markdown",
   "metadata": {},
   "source": [
    "Beschränkung auf `status = Online`, da die Redaktion außerhalb von WIAG liegt"
   ]
  },
  {
   "cell_type": "code",
   "execution_count": 14,
   "metadata": {},
   "outputs": [],
   "source": [
    "sql = \"SELECT * FROM gs_klosterdatenbank.gs_monastery WHERE status = 'Online'\"\n",
    "df_mon = Wds.sql_df(sql);"
   ]
  },
  {
   "cell_type": "code",
   "execution_count": 15,
   "metadata": {},
   "outputs": [],
   "source": [
    "Wds.clean_up!(df_mon)"
   ]
  },
  {
   "cell_type": "code",
   "execution_count": 16,
   "metadata": {},
   "outputs": [
    {
     "data": {
      "text/plain": [
       "(5286, 15)"
      ]
     },
     "execution_count": 16,
     "metadata": {},
     "output_type": "execute_result"
    }
   ],
   "source": [
    "size(df_mon)"
   ]
  },
  {
   "cell_type": "code",
   "execution_count": 99,
   "metadata": {},
   "outputs": [
    {
     "data": {
      "text/plain": [
       "15-element Vector{String}:\n",
       " \"id_monastery\"\n",
       " \"id_gsn\"\n",
       " \"date_created\"\n",
       " \"created_by_user\"\n",
       " \"status\"\n",
       " \"note\"\n",
       " \"monastery_name\"\n",
       " \"patrocinium\"\n",
       " \"selection\"\n",
       " \"processing_status\"\n",
       " \"gs_persons\"\n",
       " \"selection_criteria\"\n",
       " \"last_change\"\n",
       " \"changed_by_user\"\n",
       " \"founder\""
      ]
     },
     "execution_count": 99,
     "metadata": {},
     "output_type": "execute_result"
    }
   ],
   "source": [
    "names(df_mon)"
   ]
  },
  {
   "cell_type": "code",
   "execution_count": 28,
   "metadata": {},
   "outputs": [
    {
     "data": {
      "text/plain": [
       "2-element Vector{Pair{Symbol, Symbol}}:\n",
       " :id_monastery => :id_in_source\n",
       "       :id_gsn => :id_gsn"
      ]
     },
     "execution_count": 28,
     "metadata": {},
     "output_type": "execute_result"
    }
   ],
   "source": [
    "columns = [\n",
    "    :id_monastery => :id_in_source,\n",
    "    :id_gsn => :id_gsn,\n",
    "]"
   ]
  },
  {
   "cell_type": "code",
   "execution_count": 31,
   "metadata": {},
   "outputs": [],
   "source": [
    "df_item = select(df_mon, columns);"
   ]
  },
  {
   "cell_type": "code",
   "execution_count": 19,
   "metadata": {},
   "outputs": [],
   "source": [
    "using Dates"
   ]
  },
  {
   "cell_type": "code",
   "execution_count": 20,
   "metadata": {},
   "outputs": [],
   "source": [
    "user_wiag_id = 1;\n",
    "time_stamp = Dates.format(now(), dateformat\"yyyy-mm-dd HH:MM\");"
   ]
  },
  {
   "cell_type": "code",
   "execution_count": 32,
   "metadata": {},
   "outputs": [],
   "source": [
    "insertcols!(\n",
    "    df_item, \n",
    "    3,\n",
    "    :item_type_id => item_type_id,\n",
    "    :edit_status => \"importiert\",\n",
    "    :created_by => user_wiag_id,\n",
    "    :date_created => time_stamp,\n",
    "    :changed_by => user_wiag_id,\n",
    "    :date_changed => time_stamp,\n",
    "    :is_online => 1\n",
    ");"
   ]
  },
  {
   "cell_type": "code",
   "execution_count": 33,
   "metadata": {},
   "outputs": [
    {
     "data": {
      "text/html": [
       "<div class=\"data-frame\"><p>8 rows × 4 columns</p><table class=\"data-frame\"><thead><tr><th></th><th>id_in_source</th><th>id_gsn</th><th>date_changed</th><th>item_type_id</th></tr><tr><th></th><th title=\"Int32\">Int32</th><th title=\"Int32\">Int32</th><th title=\"String\">String</th><th title=\"Int64\">Int64</th></tr></thead><tbody><tr><th>1</th><td>21</td><td>75</td><td>2022-01-18 07:57</td><td>2</td></tr><tr><th>2</th><td>22</td><td>78</td><td>2022-01-18 07:57</td><td>2</td></tr><tr><th>3</th><td>23</td><td>81</td><td>2022-01-18 07:57</td><td>2</td></tr><tr><th>4</th><td>24</td><td>82</td><td>2022-01-18 07:57</td><td>2</td></tr><tr><th>5</th><td>25</td><td>84</td><td>2022-01-18 07:57</td><td>2</td></tr><tr><th>6</th><td>26</td><td>85</td><td>2022-01-18 07:57</td><td>2</td></tr><tr><th>7</th><td>27</td><td>86</td><td>2022-01-18 07:57</td><td>2</td></tr><tr><th>8</th><td>28</td><td>87</td><td>2022-01-18 07:57</td><td>2</td></tr></tbody></table></div>"
      ],
      "text/latex": [
       "\\begin{tabular}{r|cccc}\n",
       "\t& id\\_in\\_source & id\\_gsn & date\\_changed & item\\_type\\_id\\\\\n",
       "\t\\hline\n",
       "\t& Int32 & Int32 & String & Int64\\\\\n",
       "\t\\hline\n",
       "\t1 & 21 & 75 & 2022-01-18 07:57 & 2 \\\\\n",
       "\t2 & 22 & 78 & 2022-01-18 07:57 & 2 \\\\\n",
       "\t3 & 23 & 81 & 2022-01-18 07:57 & 2 \\\\\n",
       "\t4 & 24 & 82 & 2022-01-18 07:57 & 2 \\\\\n",
       "\t5 & 25 & 84 & 2022-01-18 07:57 & 2 \\\\\n",
       "\t6 & 26 & 85 & 2022-01-18 07:57 & 2 \\\\\n",
       "\t7 & 27 & 86 & 2022-01-18 07:57 & 2 \\\\\n",
       "\t8 & 28 & 87 & 2022-01-18 07:57 & 2 \\\\\n",
       "\\end{tabular}\n"
      ],
      "text/plain": [
       "\u001b[1m8×4 DataFrame\u001b[0m\n",
       "\u001b[1m Row \u001b[0m│\u001b[1m id_in_source \u001b[0m\u001b[1m id_gsn \u001b[0m\u001b[1m date_changed     \u001b[0m\u001b[1m item_type_id \u001b[0m\n",
       "\u001b[1m     \u001b[0m│\u001b[90m Int32        \u001b[0m\u001b[90m Int32  \u001b[0m\u001b[90m String           \u001b[0m\u001b[90m Int64        \u001b[0m\n",
       "─────┼──────────────────────────────────────────────────────\n",
       "   1 │           21      75  2022-01-18 07:57             2\n",
       "   2 │           22      78  2022-01-18 07:57             2\n",
       "   3 │           23      81  2022-01-18 07:57             2\n",
       "   4 │           24      82  2022-01-18 07:57             2\n",
       "   5 │           25      84  2022-01-18 07:57             2\n",
       "   6 │           26      85  2022-01-18 07:57             2\n",
       "   7 │           27      86  2022-01-18 07:57             2\n",
       "   8 │           28      87  2022-01-18 07:57             2"
      ]
     },
     "execution_count": 33,
     "metadata": {},
     "output_type": "execute_result"
    }
   ],
   "source": [
    "df_item[20:27, [:id_in_source, :id_gsn, :date_changed, :item_type_id]]"
   ]
  },
  {
   "cell_type": "code",
   "execution_count": 26,
   "metadata": {},
   "outputs": [
    {
     "data": {
      "text/plain": [
       "(5286, 8)"
      ]
     },
     "execution_count": 26,
     "metadata": {},
     "output_type": "execute_result"
    }
   ],
   "source": [
    "size(df_item)"
   ]
  },
  {
   "cell_type": "markdown",
   "metadata": {},
   "source": [
    "`item_type.id = 3` für Domstifte"
   ]
  },
  {
   "cell_type": "code",
   "execution_count": 24,
   "metadata": {},
   "outputs": [
    {
     "data": {
      "text/plain": [
       "(226, 343, 616, 628, 675, 676, 679, 701, 736, 739, 783, 792, 794, 803, 832, 953, 2066, 3487, 3488, 3489, 3490, 3491, 3492, 3493, 3494, 3495, 3496, 3498, 3499, 3500, 3501, 3502, 3503, 60130)"
      ]
     },
     "execution_count": 24,
     "metadata": {},
     "output_type": "execute_result"
    }
   ],
   "source": [
    "gs_ids_dft = (\n",
    "    226, 343, 616, 628, 675, 676, 679, 701, 736, 739, 783, 792,\n",
    "    794, 803, 832, 953, 2066, 3487, 3488, 3489, 3490, 3491, 3492, 3493,\n",
    "    3494, 3495, 3496, 3498, 3499, 3500, 3501, 3502, 3503, 60130\n",
    ")"
   ]
  },
  {
   "cell_type": "code",
   "execution_count": 26,
   "metadata": {},
   "outputs": [
    {
     "data": {
      "text/plain": [
       "is_id_dft (generic function with 1 method)"
      ]
     },
     "execution_count": 26,
     "metadata": {},
     "output_type": "execute_result"
    }
   ],
   "source": [
    "is_id_dft(id) = id in gs_ids_dft"
   ]
  },
  {
   "cell_type": "code",
   "execution_count": 35,
   "metadata": {},
   "outputs": [],
   "source": [
    "df_item_dft = filter(:id_gsn => is_id_dft, df_item, view = true);"
   ]
  },
  {
   "cell_type": "code",
   "execution_count": 37,
   "metadata": {},
   "outputs": [],
   "source": [
    "df_item_dft[:, :item_type_id] .= item_type_dft;"
   ]
  },
  {
   "cell_type": "code",
   "execution_count": 39,
   "metadata": {},
   "outputs": [
    {
     "name": "stderr",
     "output_type": "stream",
     "text": [
      "┌ Info: Rows inserted: 5286\n",
      "└ @ WiagDataSetup C:\\Users\\georg\\Documents\\projekte\\WiagDataSetup.jl\\src\\WiagDataSetup.jl:1206\n"
     ]
    },
    {
     "data": {
      "text/plain": [
       "5286"
      ]
     },
     "execution_count": 39,
     "metadata": {},
     "output_type": "execute_result"
    }
   ],
   "source": [
    "table_name = \"item\";\n",
    "Wds.filltable!(table_name, select(df_item, Not(:id_gsn)))"
   ]
  },
  {
   "cell_type": "markdown",
   "metadata": {},
   "source": [
    "Eintrag von `domstift_short` in `item_property`  \n",
    "*2022-03-14* TODO Die Kurzfassung des Namens ist essentiell für Facetten und die Abfrage der Domherren, daher übernehmen wir ihn direkt in die Tabelle `institution`"
   ]
  },
  {
   "cell_type": "markdown",
   "metadata": {},
   "source": [
    "SQL\n",
    "```sql\n",
    "SELECT i.id, id_gsn, name\n",
    "FROM institution as inst\n",
    "JOIN item as i on inst.id = i.id\n",
    "WHERE i.item_type_id = 3;\n",
    "```"
   ]
  },
  {
   "cell_type": "code",
   "execution_count": 11,
   "metadata": {},
   "outputs": [],
   "source": [
    "df_iprop = DataFrame(\n",
    "    item_id = [\n",
    "        79558, 79663, 79825, 79835, 79892, 79908, 79909, 79910, 79921, 79924,\n",
    "        79983, 79989, 79991, 79998, 80025, 80106, 80300, 80633, 80634, 80635,\n",
    "        80636, 80637, 80638, 80639, 80640, 80641, 80642, 80643, 80644, 80645,\n",
    "        80646, 80647, 80648, 82344\n",
    "    ],\n",
    "    name = fill(\"domstift_short\", 34),\n",
    "    value = [\n",
    "        \"Ratzeburg\", \"Bremen\", \"Münster\", \"Minden\", \"Brandenburg\", \"Schleswig\", \"Lübeck\", \"Hamburg\", \"Havelberg\", \"Lebus\",\n",
    "        \"Osnabrück\", \"Merseburg\", \"Meißen\", \"Halberstadt\", \"Hildesheim\", \"Paderborn\", \"Schwerin\", \"Köln\", \"Würzburg\", \"Mainz\",\n",
    "        \"Trier\", \"Konstanz\", \"Augsburg\", \"Freising\", \"Passau\", \"Regensburg\", \"Eichstätt\", \"Bamberg\", \"Naumburg\", \"Worms\",\n",
    "        \"Speyer\", \"Magdeburg\", \"Verden\", \"Chiemsee\"\n",
    "    ]\n",
    ");"
   ]
  },
  {
   "cell_type": "code",
   "execution_count": 13,
   "metadata": {},
   "outputs": [
    {
     "name": "stderr",
     "output_type": "stream",
     "text": [
      "┌ Info: Rows inserted: 34\n",
      "└ @ WiagDataSetup C:\\Users\\georg\\Documents\\projekte\\WiagDataSetup.jl\\src\\WiagDataSetup.jl:1206\n"
     ]
    }
   ],
   "source": [
    "table_name = \"item_property\"\n",
    "Wds.filltable!(table_name, df_iprop, clear_table = false);"
   ]
  },
  {
   "cell_type": "markdown",
   "metadata": {},
   "source": [
    "### Einträge in `institution`"
   ]
  },
  {
   "cell_type": "markdown",
   "metadata": {},
   "source": [
    "Indices auslesen"
   ]
  },
  {
   "cell_type": "code",
   "execution_count": 10,
   "metadata": {},
   "outputs": [],
   "source": [
    "item_type_mon = 2;\n",
    "item_type_dft = 3;"
   ]
  },
  {
   "cell_type": "code",
   "execution_count": 11,
   "metadata": {},
   "outputs": [],
   "source": [
    "table_name = \"item\";\n",
    "sql = \"SELECT id, id_in_source, item_type_id FROM $(table_name)\n",
    "WHERE item_type_id in ($(item_type_mon), $(item_type_dft))\";\n",
    "df_idx = Wds.sql_df(sql);"
   ]
  },
  {
   "cell_type": "code",
   "execution_count": 12,
   "metadata": {},
   "outputs": [
    {
     "data": {
      "text/plain": [
       "4-element Vector{Pair{Symbol, Symbol}}:\n",
       "   :id_monastery => :id_in_source\n",
       "         :id_gsn => :id_gsn\n",
       " :monastery_name => :name\n",
       "           :note => :note"
      ]
     },
     "execution_count": 12,
     "metadata": {},
     "output_type": "execute_result"
    }
   ],
   "source": [
    "columns = [\n",
    "    :id_monastery => :id_in_source,\n",
    "    :id_gsn => :id_gsn,\n",
    "    :monastery_name => :name,\n",
    "    :note => :note\n",
    "]"
   ]
  },
  {
   "cell_type": "code",
   "execution_count": 17,
   "metadata": {},
   "outputs": [],
   "source": [
    "df_mon_db = select(df_mon, columns);"
   ]
  },
  {
   "cell_type": "code",
   "execution_count": 18,
   "metadata": {},
   "outputs": [],
   "source": [
    "transform!(df_mon_db, :id_in_source => ByRow(string) => :id_in_source);"
   ]
  },
  {
   "cell_type": "code",
   "execution_count": 19,
   "metadata": {},
   "outputs": [],
   "source": [
    "df_mon_db = leftjoin(df_mon_db, df_idx, on = :id_in_source);"
   ]
  },
  {
   "cell_type": "code",
   "execution_count": 31,
   "metadata": {},
   "outputs": [
    {
     "data": {
      "text/plain": [
       "(5286, 6)"
      ]
     },
     "execution_count": 31,
     "metadata": {},
     "output_type": "execute_result"
    }
   ],
   "source": [
    "size(df_mon_db)"
   ]
  },
  {
   "cell_type": "markdown",
   "metadata": {},
   "source": [
    "*2022-03-14* TODO Kurzform des Namens zuordnen (siehe oben) und direkt in Tabelle `institution` eintragen."
   ]
  },
  {
   "cell_type": "code",
   "execution_count": 63,
   "metadata": {},
   "outputs": [
    {
     "name": "stderr",
     "output_type": "stream",
     "text": [
      "┌ Info: Rows inserted: 5286\n",
      "└ @ WiagDataSetup C:\\Users\\georg\\Documents\\projekte\\WiagDataSetup.jl\\src\\WiagDataSetup.jl:1206\n"
     ]
    },
    {
     "data": {
      "text/plain": [
       "5286"
      ]
     },
     "execution_count": 63,
     "metadata": {},
     "output_type": "execute_result"
    }
   ],
   "source": [
    "table_name = \"institution\";\n",
    "Wds.filltable!(table_name, select(df_mon_db, Not(:id_in_source)), clear_table = false)"
   ]
  },
  {
   "cell_type": "markdown",
   "metadata": {},
   "source": [
    "### Einträge in `institution_place`"
   ]
  },
  {
   "cell_type": "code",
   "execution_count": 21,
   "metadata": {},
   "outputs": [],
   "source": [
    "table_name = \"gs_klosterdatenbank.gs_monastery_location\";\n",
    "sql = \"SELECT * FROM $(table_name) WHERE place_id IS NOT NULL\";\n",
    "df_inst_place = Wds.sql_df(sql);"
   ]
  },
  {
   "cell_type": "code",
   "execution_count": 22,
   "metadata": {},
   "outputs": [],
   "source": [
    "Wds.clean_up!(df_inst_place)"
   ]
  },
  {
   "cell_type": "markdown",
   "metadata": {},
   "source": [
    "`place.id` zuordnen"
   ]
  },
  {
   "cell_type": "code",
   "execution_count": 23,
   "metadata": {},
   "outputs": [],
   "source": [
    "table_name = \"gs_klosterdatenbank.gs_places\";\n",
    "sql = \"select id_places, geonames_id FROM $(table_name) \n",
    "WHERE geonames_id IS NOT NULL AND id_places IS NOT NULL\";\n",
    "df_geonames = Wds.sql_df(sql);"
   ]
  },
  {
   "cell_type": "code",
   "execution_count": 24,
   "metadata": {},
   "outputs": [],
   "source": [
    "df_inst_place = innerjoin(df_inst_place, df_geonames, on = :place_id => :id_places);"
   ]
  },
  {
   "cell_type": "code",
   "execution_count": 32,
   "metadata": {},
   "outputs": [],
   "source": [
    "table_name = \"place\"\n",
    "sql = \"SELECT id, geonames_id, name as place_name FROM $(table_name)\"\n",
    "df_place = Wds.sql_df(sql);"
   ]
  },
  {
   "cell_type": "code",
   "execution_count": 34,
   "metadata": {},
   "outputs": [],
   "source": [
    "df_inst_place = leftjoin(df_inst_place, df_place, on = :geonames_id, matchmissing = :notequal);"
   ]
  },
  {
   "cell_type": "code",
   "execution_count": 35,
   "metadata": {},
   "outputs": [
    {
     "data": {
      "text/plain": [
       "(6343, 19)"
      ]
     },
     "execution_count": 35,
     "metadata": {},
     "output_type": "execute_result"
    }
   ],
   "source": [
    "size(df_inst_place)"
   ]
  },
  {
   "cell_type": "markdown",
   "metadata": {},
   "source": [
    "*2022-11-04* debug begin Domstift Verden"
   ]
  },
  {
   "cell_type": "code",
   "execution_count": 42,
   "metadata": {},
   "outputs": [
    {
     "data": {
      "text/html": [
       "<div><div style = \"float: left;\"><span>0×3 DataFrame</span></div><div style = \"clear: both;\"></div></div><div class = \"data-frame\" style = \"overflow-x: scroll;\"><table class = \"data-frame\" style = \"margin-bottom: 6px;\"></table></div>"
      ],
      "text/latex": [
       "\\begin{tabular}{r|ccc}\n",
       "\t& id & geonames\\_id & place\\_name\\\\\n",
       "\t\\hline\n",
       "\t& Int32 & Int32? & String?\\\\\n",
       "\t\\hline\n",
       "\\end{tabular}\n"
      ],
      "text/plain": [
       "\u001b[1m0×3 DataFrame\u001b[0m"
      ]
     },
     "execution_count": 42,
     "metadata": {},
     "output_type": "execute_result"
    }
   ],
   "source": [
    "df_place_verden = subset(df_place, :geonames_id => ByRow(isequal(6557457)))"
   ]
  },
  {
   "cell_type": "code",
   "execution_count": 37,
   "metadata": {},
   "outputs": [],
   "source": [
    "df_verden = subset(df_inst_place, :gsn_id => ByRow(isequal(3487)));"
   ]
  },
  {
   "cell_type": "code",
   "execution_count": 40,
   "metadata": {},
   "outputs": [
    {
     "data": {
      "text/html": [
       "<div><div style = \"float: left;\"><span>1×8 DataFrame</span></div><div style = \"clear: both;\"></div></div><div class = \"data-frame\" style = \"overflow-x: scroll;\"><table class = \"data-frame\" style = \"margin-bottom: 6px;\"><thead><tr class = \"header\"><th class = \"rowNumber\" style = \"font-weight: bold; text-align: right;\">Row</th><th style = \"text-align: left;\">id_monastery_location</th><th style = \"text-align: left;\">place_id</th><th style = \"text-align: left;\">gsn_id</th><th style = \"text-align: left;\">location_begin_tpq</th><th style = \"text-align: left;\">location_end_tpq</th><th style = \"text-align: left;\">location_name</th><th style = \"text-align: left;\">geonames_id</th><th style = \"text-align: left;\">place_name</th></tr><tr class = \"subheader headerLastRow\"><th class = \"rowNumber\" style = \"font-weight: bold; text-align: right;\"></th><th title = \"Int32\" style = \"text-align: left;\">Int32</th><th title = \"Int32\" style = \"text-align: left;\">Int32</th><th title = \"Int32\" style = \"text-align: left;\">Int32</th><th title = \"Union{Missing, Int32}\" style = \"text-align: left;\">Int32?</th><th title = \"Union{Missing, Int32}\" style = \"text-align: left;\">Int32?</th><th title = \"Union{Missing, String}\" style = \"text-align: left;\">String?</th><th title = \"Union{Missing, Int32}\" style = \"text-align: left;\">Int32?</th><th title = \"Union{Missing, String}\" style = \"text-align: left;\">String?</th></tr></thead><tbody><tr><td class = \"rowNumber\" style = \"font-weight: bold; text-align: right;\">1</td><td style = \"text-align: right;\">1892</td><td style = \"text-align: right;\">12105</td><td style = \"text-align: right;\">3487</td><td style = \"text-align: right;\">840</td><td style = \"text-align: right;\">1648</td><td style = \"text-align: left;\">Verden</td><td style = \"text-align: right;\">6557457</td><td style = \"font-style: italic; text-align: left;\">missing</td></tr></tbody></table></div>"
      ],
      "text/latex": [
       "\\begin{tabular}{r|ccccccc}\n",
       "\t& id\\_monastery\\_location & place\\_id & gsn\\_id & location\\_begin\\_tpq & location\\_end\\_tpq & location\\_name & \\\\\n",
       "\t\\hline\n",
       "\t& Int32 & Int32 & Int32 & Int32? & Int32? & String? & \\\\\n",
       "\t\\hline\n",
       "\t1 & 1892 & 12105 & 3487 & 840 & 1648 & Verden & $\\dots$ \\\\\n",
       "\\end{tabular}\n"
      ],
      "text/plain": [
       "\u001b[1m1×8 DataFrame\u001b[0m\n",
       "\u001b[1m Row \u001b[0m│\u001b[1m id_monastery_location \u001b[0m\u001b[1m place_id \u001b[0m\u001b[1m gsn_id \u001b[0m\u001b[1m location_begin_tpq \u001b[0m\u001b[1m location_e\u001b[0m ⋯\n",
       "     │\u001b[90m Int32                 \u001b[0m\u001b[90m Int32    \u001b[0m\u001b[90m Int32  \u001b[0m\u001b[90m Int32?             \u001b[0m\u001b[90m Int32?    \u001b[0m ⋯\n",
       "─────┼──────────────────────────────────────────────────────────────────────────\n",
       "   1 │                  1892     12105    3487                 840             ⋯\n",
       "\u001b[36m                                                               4 columns omitted\u001b[0m"
      ]
     },
     "execution_count": 40,
     "metadata": {},
     "output_type": "execute_result"
    }
   ],
   "source": [
    "info_columns = [\n",
    "    :id_monastery_location, \n",
    "    :place_id, \n",
    "    :gsn_id, \n",
    "    :location_begin_tpq, \n",
    "    :location_end_tpq, \n",
    "    :location_name,\n",
    "    :geonames_id,\n",
    "    :place_name\n",
    "];\n",
    "df_verden[:, info_columns]"
   ]
  },
  {
   "cell_type": "markdown",
   "metadata": {},
   "source": [
    "Unter dieser geonames_id haben wir keinen Eintrag in `place`, weil diese geoname_id sich auf den Eintrag mit Geonames Feature Code A, ADM4 bezieht, während wir nur Feature Code P ausgelesen haben."
   ]
  },
  {
   "cell_type": "markdown",
   "metadata": {},
   "source": [
    "debug end"
   ]
  },
  {
   "cell_type": "code",
   "execution_count": 36,
   "metadata": {},
   "outputs": [
    {
     "data": {
      "text/plain": [
       "(5286, 6)"
      ]
     },
     "execution_count": 36,
     "metadata": {},
     "output_type": "execute_result"
    }
   ],
   "source": [
    "size(df_mon_db)"
   ]
  },
  {
   "cell_type": "code",
   "execution_count": 40,
   "metadata": {},
   "outputs": [
    {
     "data": {
      "text/plain": [
       "6-element Vector{String}:\n",
       " \"id_in_source\"\n",
       " \"id_gsn\"\n",
       " \"name\"\n",
       " \"note\"\n",
       " \"id\"\n",
       " \"item_type_id\""
      ]
     },
     "execution_count": 40,
     "metadata": {},
     "output_type": "execute_result"
    }
   ],
   "source": [
    "names(df_mon_db)"
   ]
  },
  {
   "cell_type": "markdown",
   "metadata": {},
   "source": [
    "Den WIAG-Institutionen zuordnen"
   ]
  },
  {
   "cell_type": "code",
   "execution_count": 41,
   "metadata": {},
   "outputs": [
    {
     "data": {
      "text/plain": [
       "is_id_mon (generic function with 1 method)"
      ]
     },
     "execution_count": 41,
     "metadata": {},
     "output_type": "execute_result"
    }
   ],
   "source": [
    "is_id_mon(id) = id in df_mon_db.id_gsn"
   ]
  },
  {
   "cell_type": "code",
   "execution_count": 42,
   "metadata": {},
   "outputs": [
    {
     "data": {
      "text/plain": [
       "2-element Vector{Pair{Symbol, Symbol}}:\n",
       " :id_gsn => :id_gsn\n",
       "     :id => :institution_id"
      ]
     },
     "execution_count": 42,
     "metadata": {},
     "output_type": "execute_result"
    }
   ],
   "source": [
    "columns = [\n",
    "    :id_gsn => :id_gsn,\n",
    "    :id => :institution_id,\n",
    "]"
   ]
  },
  {
   "cell_type": "code",
   "execution_count": 43,
   "metadata": {},
   "outputs": [],
   "source": [
    "df_inst_place_db = \n",
    "rightjoin(df_inst_place, select(df_mon_db, columns), on = :gsn_id => :id_gsn);"
   ]
  },
  {
   "cell_type": "code",
   "execution_count": 44,
   "metadata": {},
   "outputs": [
    {
     "data": {
      "text/plain": [
       "(5701, 20)"
      ]
     },
     "execution_count": 44,
     "metadata": {},
     "output_type": "execute_result"
    }
   ],
   "source": [
    "size(df_inst_place_db)"
   ]
  },
  {
   "cell_type": "code",
   "execution_count": 45,
   "metadata": {},
   "outputs": [
    {
     "data": {
      "text/plain": [
       "20-element Vector{String}:\n",
       " \"id_monastery_location\"\n",
       " \"place_id\"\n",
       " \"relocated\"\n",
       " \"gsn_id\"\n",
       " \"location_begin_tpq\"\n",
       " \"location_begin_taq\"\n",
       " \"location_begin_note\"\n",
       " \"location_end_tpq\"\n",
       " \"location_end_taq\"\n",
       " \"location_end_note\"\n",
       " \"comment\"\n",
       " \"longitude\"\n",
       " \"latitude\"\n",
       " \"location_name\"\n",
       " \"main_location\"\n",
       " \"diocese_id\"\n",
       " \"geonames_id\"\n",
       " \"id\"\n",
       " \"place_name\"\n",
       " \"institution_id\""
      ]
     },
     "execution_count": 45,
     "metadata": {},
     "output_type": "execute_result"
    }
   ],
   "source": [
    "names(df_inst_place_db)"
   ]
  },
  {
   "cell_type": "code",
   "execution_count": 47,
   "metadata": {},
   "outputs": [
    {
     "data": {
      "text/plain": [
       "(333, 12)"
      ]
     },
     "execution_count": 47,
     "metadata": {},
     "output_type": "execute_result"
    }
   ],
   "source": [
    "count(ismissing, df_inst_place_db.place_name), count(ismissing, df_inst_place_db.place_id)"
   ]
  },
  {
   "cell_type": "markdown",
   "metadata": {},
   "source": [
    "Etliche Klöster waren an mehreren Orten!"
   ]
  },
  {
   "cell_type": "code",
   "execution_count": 50,
   "metadata": {},
   "outputs": [
    {
     "data": {
      "text/plain": [
       "9-element Vector{Pair{Symbol, Symbol}}:\n",
       "      :institution_id => :institution_id\n",
       "                  :id => :place_id\n",
       "          :place_name => :place_name\n",
       "  :location_begin_taq => :date_begin_taq\n",
       "  :location_begin_tpq => :date_begin_tpq\n",
       "    :location_end_taq => :date_end_taq\n",
       "    :location_end_tpq => :date_end_tpq\n",
       " :location_begin_note => :note_begin\n",
       "   :location_end_note => :note_end"
      ]
     },
     "execution_count": 50,
     "metadata": {},
     "output_type": "execute_result"
    }
   ],
   "source": [
    "columns = [\n",
    "    :institution_id => :institution_id,\n",
    "    :id => :place_id,\n",
    "    :place_name => :place_name,\n",
    "    :location_begin_taq => :date_begin_taq,\n",
    "    :location_begin_tpq => :date_begin_tpq,\n",
    "    :location_end_taq => :date_end_taq,\n",
    "    :location_end_tpq => :date_end_tpq,\n",
    "    :location_begin_note => :note_begin,\n",
    "    :location_end_note => :note_end\n",
    "]"
   ]
  },
  {
   "cell_type": "code",
   "execution_count": 51,
   "metadata": {},
   "outputs": [
    {
     "name": "stderr",
     "output_type": "stream",
     "text": [
      "┌ Info: Rows inserted: 5701\n",
      "└ @ WiagDataSetup C:\\Users\\georg\\Documents\\projekte\\WiagDataSetup.jl\\src\\WiagDataSetup.jl:1208\n"
     ]
    },
    {
     "data": {
      "text/plain": [
       "5701"
      ]
     },
     "execution_count": 51,
     "metadata": {},
     "output_type": "execute_result"
    }
   ],
   "source": [
    "table_name = \"institution_place\";\n",
    "Wds.filltable!(table_name, select(df_inst_place_db, columns))"
   ]
  },
  {
   "cell_type": "markdown",
   "metadata": {},
   "source": [
    "Für alle Institutionen gibt es mindestens eine Eintrag in `institution_place`\n",
    "``` sql\n",
    "SELECT COUNT(*) FROM institution\n",
    "WHERE id NOT IN (SELECT DISTINCT(institution_id) FROM institution_place);\n",
    "```\n",
    "Zahl der Institutionen für die mindestens eine `place_id` fehlt\n",
    "``` sql\n",
    "select count(distinct(institution_id)) from institution_place where place_id is null;\n",
    "```\n",
    "310"
   ]
  },
  {
   "cell_type": "markdown",
   "metadata": {},
   "source": [
    "*2022-01-26* Es bleiben 152 Einträge ohne jegliche Zuordnung (`place_name`, `place_id`) übrig?!"
   ]
  },
  {
   "cell_type": "markdown",
   "metadata": {},
   "source": [
    "Lege aus den Angaben für TPQ und TAQ einen Start- und Endzeitpunkt fest"
   ]
  },
  {
   "cell_type": "code",
   "execution_count": 10,
   "metadata": {},
   "outputs": [],
   "source": [
    "table_name = \"institution_place\";\n",
    "sql = \"SELECT * FROM $(table_name)\";\n",
    "df_ip = Wds.sql_df(sql);"
   ]
  },
  {
   "cell_type": "code",
   "execution_count": 27,
   "metadata": {},
   "outputs": [
    {
     "data": {
      "text/plain": [
       "estimate_date_begin (generic function with 1 method)"
      ]
     },
     "execution_count": 27,
     "metadata": {},
     "output_type": "execute_result"
    }
   ],
   "source": [
    "function estimate_date_begin(tpq, taq)\n",
    "    margin = 20\n",
    "    if !ismissing(tpq)\n",
    "        return tpq\n",
    "    end\n",
    "    if !ismissing(taq)\n",
    "        return taq - margin\n",
    "    end\n",
    "    return missing    \n",
    "end"
   ]
  },
  {
   "cell_type": "code",
   "execution_count": 26,
   "metadata": {},
   "outputs": [
    {
     "data": {
      "text/plain": [
       "estimate_date_end (generic function with 1 method)"
      ]
     },
     "execution_count": 26,
     "metadata": {},
     "output_type": "execute_result"
    }
   ],
   "source": [
    "function estimate_date_end(tpq, taq)\n",
    "    margin = 20;\n",
    "    if !ismissing(taq)\n",
    "        return taq\n",
    "    end\n",
    "    if !ismissing(tpq)\n",
    "        return tpq + margin\n",
    "    end\n",
    "    return missing    \n",
    "end"
   ]
  },
  {
   "cell_type": "code",
   "execution_count": 25,
   "metadata": {},
   "outputs": [],
   "source": [
    "transform!(df_ip, [:date_begin_tpq, :date_begin_taq] => ByRow(estimate_date_begin) => :num_date_begin);"
   ]
  },
  {
   "cell_type": "code",
   "execution_count": 28,
   "metadata": {},
   "outputs": [],
   "source": [
    "transform!(df_ip, [:date_end_tpq, :date_end_taq] => ByRow(estimate_date_end) => :num_date_end);"
   ]
  },
  {
   "cell_type": "code",
   "execution_count": 39,
   "metadata": {},
   "outputs": [
    {
     "data": {
      "text/plain": [
       "MySQL.TextCursor{true}(MySQL.Connection(host=\"127.0.0.1\", user=\"georg\", port=\"3306\", db=\"wiag2\"), \"DROP TEMPORARY TABLE IF EXISTS ip_update\", 0, -1, 0, MySQL.API.MYSQL_RES(Ptr{Nothing} @0x0000000000000000), Symbol[], Type[], Dict{Symbol, Int64}(), 0, 1, false)"
      ]
     },
     "execution_count": 39,
     "metadata": {},
     "output_type": "execute_result"
    }
   ],
   "source": [
    "table_update = \"ip_update\";\n",
    "sql = \"DROP TEMPORARY TABLE IF EXISTS $(table_update)\";\n",
    "DBInterface.execute(Wds.dbwiag, sql)"
   ]
  },
  {
   "cell_type": "code",
   "execution_count": 32,
   "metadata": {},
   "outputs": [
    {
     "data": {
      "text/plain": [
       "(5701, 13)"
      ]
     },
     "execution_count": 32,
     "metadata": {},
     "output_type": "execute_result"
    }
   ],
   "source": [
    "size(df_ip)"
   ]
  },
  {
   "cell_type": "code",
   "execution_count": 42,
   "metadata": {},
   "outputs": [
    {
     "data": {
      "text/plain": [
       "13-element Vector{String}:\n",
       " \"id\"\n",
       " \"place_id\"\n",
       " \"place_name\"\n",
       " \"date_begin_tpq\"\n",
       " \"date_end_tpq\"\n",
       " \"institution_id\"\n",
       " \"comment\"\n",
       " \"date_begin_taq\"\n",
       " \"date_end_taq\"\n",
       " \"note_begin\"\n",
       " \"note_end\"\n",
       " \"num_date_begin\"\n",
       " \"num_date_end\""
      ]
     },
     "execution_count": 42,
     "metadata": {},
     "output_type": "execute_result"
    }
   ],
   "source": [
    "names(df_ip)"
   ]
  },
  {
   "cell_type": "code",
   "execution_count": 49,
   "metadata": {},
   "outputs": [
    {
     "name": "stderr",
     "output_type": "stream",
     "text": [
      "┌ Info: Datensatz\n",
      "│   i = 800\n",
      "└ @ Main In[49]:11\n",
      "┌ Info: Datensatz\n",
      "│   i = 1600\n",
      "└ @ Main In[49]:11\n",
      "┌ Info: Datensatz\n",
      "│   i = 2400\n",
      "└ @ Main In[49]:11\n",
      "┌ Info: Datensatz\n",
      "│   i = 3200\n",
      "└ @ Main In[49]:11\n",
      "┌ Info: Datensatz\n",
      "│   i = 4000\n",
      "└ @ Main In[49]:11\n",
      "┌ Info: Datensatz\n",
      "│   i = 4800\n",
      "└ @ Main In[49]:11\n",
      "┌ Info: Datensatz\n",
      "│   i = 5600\n",
      "└ @ Main In[49]:11\n"
     ]
    }
   ],
   "source": [
    "table_name = \"institution_place\"\n",
    "step_msg = 800;\n",
    "for (i, row) in enumerate(eachrow(df_ip))\n",
    "    num_date_begin = ismissing(row[:num_date_begin]) ? \"NULL\" : row[:num_date_begin]\n",
    "    num_date_end = ismissing(row[:num_date_end]) ? \"NULL\" : row[:num_date_end]\n",
    "    sql = \"UPDATE $(table_name) AS ip \" *\n",
    "    \"SET  ip.num_date_begin = $(num_date_begin), ip.num_date_end = $(num_date_end)\n",
    "    WHERE ip.id = $(row[:id]);\"\n",
    "    DBInterface.execute(Wds.dbwiag, sql)\n",
    "    if i % step_msg == 0\n",
    "        @info \"Datensatz\" i\n",
    "    end\n",
    "end"
   ]
  },
  {
   "cell_type": "markdown",
   "metadata": {},
   "source": [
    "### Domstifte\n",
    "Trage für die Domstifte einen Kurznamen (Ortsnamen ein)"
   ]
  },
  {
   "cell_type": "code",
   "execution_count": 10,
   "metadata": {},
   "outputs": [],
   "source": [
    "table_name = \"institution\";\n",
    "item_type_id = 3;\n",
    "sql = \"SELECT it.id_gsn, name, name_short\n",
    "FROM $(table_name) AS it\n",
    "JOIN item AS i on it.id = i.id\n",
    "WHERE i.item_type_id = $(item_type_id)\";\n",
    "df_dst_name = Wds.sql_df(sql);"
   ]
  },
  {
   "cell_type": "code",
   "execution_count": 11,
   "metadata": {},
   "outputs": [
    {
     "data": {
      "text/html": [
       "<div class=\"data-frame\"><p>7 rows × 3 columns</p><table class=\"data-frame\"><thead><tr><th></th><th>id_gsn</th><th>name</th><th>name_short</th></tr><tr><th></th><th title=\"Union{Missing, Int32}\">Int32?</th><th title=\"Union{Missing, String}\">String?</th><th title=\"Union{Missing, String}\">String?</th></tr></thead><tbody><tr><th>1</th><td>226</td><td>Domstift Ratzeburg</td><td><em>missing</em></td></tr><tr><th>2</th><td>343</td><td>Domstift Bremen</td><td><em>missing</em></td></tr><tr><th>3</th><td>628</td><td>Domstift Münster</td><td><em>missing</em></td></tr><tr><th>4</th><td>616</td><td>Domstift Minden</td><td><em>missing</em></td></tr><tr><th>5</th><td>701</td><td>Prämonstratenser-Domstift Brandenburg an der Havel</td><td><em>missing</em></td></tr><tr><th>6</th><td>679</td><td>Domstift Schleswig</td><td><em>missing</em></td></tr><tr><th>7</th><td>676</td><td>Domstift Lübeck</td><td><em>missing</em></td></tr></tbody></table></div>"
      ],
      "text/latex": [
       "\\begin{tabular}{r|ccc}\n",
       "\t& id\\_gsn & name & name\\_short\\\\\n",
       "\t\\hline\n",
       "\t& Int32? & String? & String?\\\\\n",
       "\t\\hline\n",
       "\t1 & 226 & Domstift Ratzeburg & \\emph{missing} \\\\\n",
       "\t2 & 343 & Domstift Bremen & \\emph{missing} \\\\\n",
       "\t3 & 628 & Domstift Münster & \\emph{missing} \\\\\n",
       "\t4 & 616 & Domstift Minden & \\emph{missing} \\\\\n",
       "\t5 & 701 & Prämonstratenser-Domstift Brandenburg an der Havel & \\emph{missing} \\\\\n",
       "\t6 & 679 & Domstift Schleswig & \\emph{missing} \\\\\n",
       "\t7 & 676 & Domstift Lübeck & \\emph{missing} \\\\\n",
       "\\end{tabular}\n"
      ],
      "text/plain": [
       "\u001b[1m7×3 DataFrame\u001b[0m\n",
       "\u001b[1m Row \u001b[0m│\u001b[1m id_gsn \u001b[0m\u001b[1m name                              \u001b[0m\u001b[1m name_short \u001b[0m\n",
       "\u001b[1m     \u001b[0m│\u001b[90m Int32? \u001b[0m\u001b[90m String?                           \u001b[0m\u001b[90m String?    \u001b[0m\n",
       "─────┼───────────────────────────────────────────────────────\n",
       "   1 │    226  Domstift Ratzeburg                \u001b[90m missing    \u001b[0m\n",
       "   2 │    343  Domstift Bremen                   \u001b[90m missing    \u001b[0m\n",
       "   3 │    628  Domstift Münster                  \u001b[90m missing    \u001b[0m\n",
       "   4 │    616  Domstift Minden                   \u001b[90m missing    \u001b[0m\n",
       "   5 │    701  Prämonstratenser-Domstift Brande… \u001b[90m missing    \u001b[0m\n",
       "   6 │    679  Domstift Schleswig                \u001b[90m missing    \u001b[0m\n",
       "   7 │    676  Domstift Lübeck                   \u001b[90m missing    \u001b[0m"
      ]
     },
     "execution_count": 11,
     "metadata": {},
     "output_type": "execute_result"
    }
   ],
   "source": [
    "df_dst_name[1:7, :]"
   ]
  },
  {
   "cell_type": "code",
   "execution_count": null,
   "metadata": {},
   "outputs": [],
   "source": [
    "name_short = [\n",
    "    \"Ratzeburg\",\n",
    "    \"Bremen\",\n",
    "    \"Münster\",\n",
    "    \"Minden\",\n",
    "    \"Brandenburg\",\n",
    "    \"\",\n",
    "    \"\",\n",
    "    \"\",\n",
    "    \"\",\n",
    "    \"\",\n",
    "    \"\",\n",
    "    \"\",\n",
    "    \"\",\n",
    "    \"\",\n",
    "]"
   ]
  }
 ],
 "metadata": {
  "kernelspec": {
   "display_name": "Julia 1.8.2",
   "language": "julia",
   "name": "julia-1.8"
  },
  "language_info": {
   "file_extension": ".jl",
   "mimetype": "application/julia",
   "name": "julia",
   "version": "1.8.2"
  }
 },
 "nbformat": 4,
 "nbformat_minor": 4
}
