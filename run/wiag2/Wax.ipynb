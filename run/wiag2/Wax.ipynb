{
 "cells": [
  {
   "cell_type": "markdown",
   "metadata": {},
   "source": [
    "# Wissensaggregator Mittelalter und frühe Neuzeit"
   ]
  },
  {
   "cell_type": "markdown",
   "metadata": {},
   "source": [
    "Vorspann: Pakete laden; mit der Datenbank verbinden"
   ]
  },
  {
   "cell_type": "code",
   "execution_count": 1,
   "metadata": {},
   "outputs": [
    {
     "data": {
      "text/plain": [
       "\"../..\""
      ]
     },
     "execution_count": 1,
     "metadata": {},
     "output_type": "execute_result"
    }
   ],
   "source": [
    "wds_path=\"../..\""
   ]
  },
  {
   "cell_type": "code",
   "execution_count": 2,
   "metadata": {},
   "outputs": [],
   "source": [
    "cd(wds_path)"
   ]
  },
  {
   "cell_type": "code",
   "execution_count": 3,
   "metadata": {},
   "outputs": [],
   "source": [
    "using Pkg"
   ]
  },
  {
   "cell_type": "code",
   "execution_count": 4,
   "metadata": {},
   "outputs": [
    {
     "name": "stderr",
     "output_type": "stream",
     "text": [
      "\u001b[32m\u001b[1m  Activating\u001b[22m\u001b[39m project at `C:\\Users\\georg\\Documents\\projekte\\WiagDataSetup.jl`\n"
     ]
    }
   ],
   "source": [
    "Pkg.activate(\".\")"
   ]
  },
  {
   "cell_type": "code",
   "execution_count": 5,
   "metadata": {},
   "outputs": [],
   "source": [
    "using Revise, MySQL"
   ]
  },
  {
   "cell_type": "code",
   "execution_count": 6,
   "metadata": {},
   "outputs": [],
   "source": [
    "using WiagDataSetup"
   ]
  },
  {
   "cell_type": "code",
   "execution_count": 7,
   "metadata": {},
   "outputs": [],
   "source": [
    "using MySQL, DataFrames, CSV"
   ]
  },
  {
   "cell_type": "code",
   "execution_count": 8,
   "metadata": {},
   "outputs": [
    {
     "data": {
      "text/plain": [
       "WiagDataSetup"
      ]
     },
     "execution_count": 8,
     "metadata": {},
     "output_type": "execute_result"
    }
   ],
   "source": [
    "Wds = WiagDataSetup"
   ]
  },
  {
   "cell_type": "code",
   "execution_count": 9,
   "metadata": {},
   "outputs": [
    {
     "name": "stdout",
     "output_type": "stream",
     "text": [
      "Passwort für User georg: ········\n"
     ]
    },
    {
     "data": {
      "text/plain": [
       "MySQL.Connection(host=\"127.0.0.1\", user=\"georg\", port=\"3306\", db=\"wiag_in\")"
      ]
     },
     "execution_count": 9,
     "metadata": {},
     "output_type": "execute_result"
    }
   ],
   "source": [
    "Wds.setDBWIAG(user=\"georg\", db=\"wiag_in\")"
   ]
  },
  {
   "cell_type": "markdown",
   "metadata": {},
   "source": [
    "##  Finde Orte, die in der Klosterdatenbank mit Feature-Code A statt P eingetragen sind.\n",
    "*2022-12-12*"
   ]
  },
  {
   "cell_type": "markdown",
   "metadata": {},
   "source": [
    "Lies Klosterstandorte der Klosterdatenbank mit Koordinaten und GeoNames ID, deren GeoNames-ID auf einen Eintrag mit Feature A statt P verweist."
   ]
  },
  {
   "cell_type": "code",
   "execution_count": 10,
   "metadata": {},
   "outputs": [
    {
     "data": {
      "text/plain": [
       "\"C:\\\\Users\\\\georg\\\\Documents\\\\projekte-doc\\\\WIAGweb2\\\\data\\\\Klosterort_GeoNames_ID.csv\""
      ]
     },
     "execution_count": 10,
     "metadata": {},
     "output_type": "execute_result"
    }
   ],
   "source": [
    "path_elmts = (\n",
    "    \"C:\\\\\",\n",
    "    \"Users\",\n",
    "    \"georg\",\n",
    "    \"Documents\",\n",
    "    \"projekte-doc\",\n",
    "    \"WIAGweb2\",\n",
    "    \"data\",\n",
    "    \"Klosterort_GeoNames_ID.csv\"\n",
    ")\n",
    "institution_file = joinpath(path_elmts)"
   ]
  },
  {
   "cell_type": "code",
   "execution_count": 11,
   "metadata": {},
   "outputs": [],
   "source": [
    "using CSV, DataFrames"
   ]
  },
  {
   "cell_type": "code",
   "execution_count": 12,
   "metadata": {},
   "outputs": [],
   "source": [
    "df_inst = CSV.read(institution_file, DataFrame);"
   ]
  },
  {
   "cell_type": "code",
   "execution_count": 13,
   "metadata": {},
   "outputs": [
    {
     "data": {
      "text/plain": [
       "(312, 3)"
      ]
     },
     "execution_count": 13,
     "metadata": {},
     "output_type": "execute_result"
    }
   ],
   "source": [
    "size(df_inst)"
   ]
  },
  {
   "cell_type": "code",
   "execution_count": 14,
   "metadata": {},
   "outputs": [
    {
     "data": {
      "text/html": [
       "<div><div style = \"float: left;\"><span>7×3 DataFrame</span></div><div style = \"clear: both;\"></div></div><div class = \"data-frame\" style = \"overflow-x: scroll;\"><table class = \"data-frame\" style = \"margin-bottom: 6px;\"><thead><tr class = \"header\"><th class = \"rowNumber\" style = \"font-weight: bold; text-align: right;\">Row</th><th style = \"text-align: left;\">place_name</th><th style = \"text-align: left;\">gsn</th><th style = \"text-align: left;\">geonames_id</th></tr><tr class = \"subheader headerLastRow\"><th class = \"rowNumber\" style = \"font-weight: bold; text-align: right;\"></th><th title = \"String\" style = \"text-align: left;\">String</th><th title = \"Int64\" style = \"text-align: left;\">Int64</th><th title = \"Int64\" style = \"text-align: left;\">Int64</th></tr></thead><tbody><tr><td class = \"rowNumber\" style = \"font-weight: bold; text-align: right;\">1</td><td style = \"text-align: left;\">Adelberg</td><td style = \"text-align: right;\">20036</td><td style = \"text-align: right;\">6555436</td></tr><tr><td class = \"rowNumber\" style = \"font-weight: bold; text-align: right;\">2</td><td style = \"text-align: left;\">Aichtal</td><td style = \"text-align: right;\">20023</td><td style = \"text-align: right;\">2958914</td></tr><tr><td class = \"rowNumber\" style = \"font-weight: bold; text-align: right;\">3</td><td style = \"text-align: left;\">Aigen-Schlägl</td><td style = \"text-align: right;\">90834</td><td style = \"text-align: right;\">11592639</td></tr><tr><td class = \"rowNumber\" style = \"font-weight: bold; text-align: right;\">4</td><td style = \"text-align: left;\">Almkerk</td><td style = \"text-align: right;\">8156</td><td style = \"text-align: right;\">275987</td></tr><tr><td class = \"rowNumber\" style = \"font-weight: bold; text-align: right;\">5</td><td style = \"text-align: left;\">Almkerk</td><td style = \"text-align: right;\">8156</td><td style = \"text-align: right;\">2750324</td></tr><tr><td class = \"rowNumber\" style = \"font-weight: bold; text-align: right;\">6</td><td style = \"text-align: left;\">Altenmarkt a.d. Alz</td><td style = \"text-align: right;\">60046</td><td style = \"text-align: right;\">6559209</td></tr><tr><td class = \"rowNumber\" style = \"font-weight: bold; text-align: right;\">7</td><td style = \"text-align: left;\">Andenne</td><td style = \"text-align: right;\">1190</td><td style = \"text-align: right;\">2803205</td></tr></tbody></table></div>"
      ],
      "text/latex": [
       "\\begin{tabular}{r|ccc}\n",
       "\t& place\\_name & gsn & geonames\\_id\\\\\n",
       "\t\\hline\n",
       "\t& String & Int64 & Int64\\\\\n",
       "\t\\hline\n",
       "\t1 & Adelberg & 20036 & 6555436 \\\\\n",
       "\t2 & Aichtal & 20023 & 2958914 \\\\\n",
       "\t3 & Aigen-Schlägl & 90834 & 11592639 \\\\\n",
       "\t4 & Almkerk & 8156 & 275987 \\\\\n",
       "\t5 & Almkerk & 8156 & 2750324 \\\\\n",
       "\t6 & Altenmarkt a.d. Alz & 60046 & 6559209 \\\\\n",
       "\t7 & Andenne & 1190 & 2803205 \\\\\n",
       "\\end{tabular}\n"
      ],
      "text/plain": [
       "\u001b[1m7×3 DataFrame\u001b[0m\n",
       "\u001b[1m Row \u001b[0m│\u001b[1m place_name          \u001b[0m\u001b[1m gsn   \u001b[0m\u001b[1m geonames_id \u001b[0m\n",
       "     │\u001b[90m String              \u001b[0m\u001b[90m Int64 \u001b[0m\u001b[90m Int64       \u001b[0m\n",
       "─────┼─────────────────────────────────────────\n",
       "   1 │ Adelberg             20036      6555436\n",
       "   2 │ Aichtal              20023      2958914\n",
       "   3 │ Aigen-Schlägl        90834     11592639\n",
       "   4 │ Almkerk               8156       275987\n",
       "   5 │ Almkerk               8156      2750324\n",
       "   6 │ Altenmarkt a.d. Alz  60046      6559209\n",
       "   7 │ Andenne               1190      2803205"
      ]
     },
     "execution_count": 14,
     "metadata": {},
     "output_type": "execute_result"
    }
   ],
   "source": [
    "first(df_inst, 7)"
   ]
  },
  {
   "cell_type": "markdown",
   "metadata": {},
   "source": [
    "Tabelle aller Orte in GeoNames"
   ]
  },
  {
   "cell_type": "code",
   "execution_count": 15,
   "metadata": {},
   "outputs": [],
   "source": [
    "using MySQL"
   ]
  },
  {
   "cell_type": "code",
   "execution_count": 16,
   "metadata": {},
   "outputs": [],
   "source": [
    "table = \"place_all\"\n",
    "sql = \"SELECT id, geonames_id, name, latitude, longitude, feature_class \" *\n",
    "\"FROM place_all \" *\n",
    "\"WHERE feature_class = 'P'\"\n",
    "df_p_all = Wds.sql_df(sql);"
   ]
  },
  {
   "cell_type": "code",
   "execution_count": 17,
   "metadata": {},
   "outputs": [
    {
     "data": {
      "text/plain": [
       "(390505, 6)"
      ]
     },
     "execution_count": 17,
     "metadata": {},
     "output_type": "execute_result"
    }
   ],
   "source": [
    "size(df_p_all)"
   ]
  },
  {
   "cell_type": "code",
   "execution_count": 18,
   "metadata": {},
   "outputs": [],
   "source": [
    "using HTTP, JSON"
   ]
  },
  {
   "cell_type": "code",
   "execution_count": 167,
   "metadata": {},
   "outputs": [],
   "source": [
    "columns = [\n",
    "    \"monasteryLocationId\" => String[],\n",
    "    \"geonamesId\"          => String[],\n",
    "    \"countryName\"         => String[],\n",
    "    \"diocese\"             => String[],\n",
    "    \"placeName\"           => String[],\n",
    "    \"latitude\"            => String[],\n",
    "    \"longitude\"           => String[],\n",
    "    \"locationName\"        => String[],    \n",
    "    \"beginTPQ\"            => String[],\n",
    "    \"endTPQ\"              => String[],\n",
    "    \"to\"                  => String[],    \n",
    "    \"from\"                => String[],\n",
    "];"
   ]
  },
  {
   "cell_type": "code",
   "execution_count": 168,
   "metadata": {},
   "outputs": [
    {
     "data": {
      "text/html": [
       "<div><div style = \"float: left;\"><span>0×12 DataFrame</span></div><div style = \"clear: both;\"></div></div><div class = \"data-frame\" style = \"overflow-x: scroll;\"><table class = \"data-frame\" style = \"margin-bottom: 6px;\"></table></div>"
      ],
      "text/latex": [
       "\\begin{tabular}{r|cccccccc}\n",
       "\t& monasteryLocationId & geonamesId & countryName & diocese & placeName & latitude & longitude & \\\\\n",
       "\t\\hline\n",
       "\t& String & String & String & String & String & String & String & \\\\\n",
       "\t\\hline\n",
       "\\end{tabular}\n"
      ],
      "text/plain": [
       "\u001b[1m0×12 DataFrame\u001b[0m"
      ]
     },
     "execution_count": 168,
     "metadata": {},
     "output_type": "execute_result"
    }
   ],
   "source": [
    "df_gs_mon = DataFrame(columns)"
   ]
  },
  {
   "cell_type": "code",
   "execution_count": 29,
   "metadata": {},
   "outputs": [
    {
     "data": {
      "text/plain": [
       "\"https://api.gs.sub.uni-goettingen.de/v1/monastery\""
      ]
     },
     "execution_count": 29,
     "metadata": {},
     "output_type": "execute_result"
    }
   ],
   "source": [
    "query_base = \"https://api.gs.sub.uni-goettingen.de/v1/monastery\""
   ]
  },
  {
   "cell_type": "markdown",
   "metadata": {},
   "source": [
    "Test für ein einzelnes Kloster"
   ]
  },
  {
   "cell_type": "code",
   "execution_count": 26,
   "metadata": {},
   "outputs": [
    {
     "data": {
      "text/plain": [
       "3416"
      ]
     },
     "execution_count": 26,
     "metadata": {},
     "output_type": "execute_result"
    }
   ],
   "source": [
    "gsn = 3416"
   ]
  },
  {
   "cell_type": "code",
   "execution_count": 30,
   "metadata": {},
   "outputs": [
    {
     "data": {
      "text/plain": [
       "\"https://api.gs.sub.uni-goettingen.de/v1/monastery/3416\""
      ]
     },
     "execution_count": 30,
     "metadata": {},
     "output_type": "execute_result"
    }
   ],
   "source": [
    "query = join([query_base, gsn], \"/\")"
   ]
  },
  {
   "cell_type": "code",
   "execution_count": 37,
   "metadata": {},
   "outputs": [],
   "source": [
    "response = HTTP.get(query);"
   ]
  },
  {
   "cell_type": "code",
   "execution_count": 38,
   "metadata": {},
   "outputs": [
    {
     "data": {
      "text/plain": [
       "Dict{String, Any} with 18 entries:\n",
       "  \"orders\"         => Any[Dict{String, Any}(\"name\"=>\"Benediktiner\", \"abbreviati…\n",
       "  \"persons\"        => Any[]\n",
       "  \"personsNote\"    => nothing\n",
       "  \"places\"         => Any[]\n",
       "  \"locations\"      => Any[Dict{String, Any}(\"monasteryLocationId\"=>\"1822\", \"end…\n",
       "  \"name\"           => \"Kollegiatstift St. Hadelin, Visé, Belgien\"\n",
       "  \"altLabels\"      => Any[]\n",
       "  \"orderTimeRange\" => Any[]\n",
       "  \"externalUrls\"   => Any[Dict{String, Any}(\"label\"=>\"Wikidata\", \"value\"=>\"Q107…\n",
       "  \"gnd\"            => nothing\n",
       "  \"dioceses\"       => Any[]\n",
       "  \"note\"           => \"1338 von Celles nach Visé (St. Martin) verlegt. Dort wir…\n",
       "  \"monasteryBooks\" => Any[]\n",
       "  \"gsVolumes\"      => Any[]\n",
       "  \"volumeNumber\"   => Any[]\n",
       "  \"gsnId\"          => \"3416\"\n",
       "  \"patrocinium\"    => \"Hadelin\"\n",
       "  \"literature\"     => Any[Dict{String, Any}(\"detail\"=>\"S. 187\", \"fullTitle\"=>\"W…"
      ]
     },
     "execution_count": 38,
     "metadata": {},
     "output_type": "execute_result"
    }
   ],
   "source": [
    "mon = JSON.parse(String(response.body));"
   ]
  },
  {
   "cell_type": "code",
   "execution_count": 41,
   "metadata": {},
   "outputs": [],
   "source": [
    "loc_list = mon[\"locations\"];"
   ]
  },
  {
   "cell_type": "code",
   "execution_count": 42,
   "metadata": {},
   "outputs": [
    {
     "data": {
      "text/plain": [
       "Dict{String, Any} with 12 entries:\n",
       "  \"monasteryLocationId\" => \"1822\"\n",
       "  \"endTPQ\"              => \"1797\"\n",
       "  \"geonamesId\"          => \"2784548\"\n",
       "  \"diocese\"             => \"Lüttich\"\n",
       "  \"placeName\"           => \"Visé\"\n",
       "  \"latitude\"            => \"50.73316\"\n",
       "  \"locationName\"        => nothing\n",
       "  \"longitude\"           => \"5.69606\"\n",
       "  \"beginTPQ\"            => \"1338\"\n",
       "  \"to\"                  => \"1797\"\n",
       "  \"countryName\"         => \"Belgien\"\n",
       "  \"from\"                => \"1338\""
      ]
     },
     "execution_count": 42,
     "metadata": {},
     "output_type": "execute_result"
    }
   ],
   "source": [
    "loc = loc_list[1]"
   ]
  },
  {
   "cell_type": "code",
   "execution_count": 48,
   "metadata": {},
   "outputs": [
    {
     "data": {
      "text/html": [
       "<div><div style = \"float: left;\"><span>1×12 DataFrame</span></div><div style = \"clear: both;\"></div></div><div class = \"data-frame\" style = \"overflow-x: scroll;\"><table class = \"data-frame\" style = \"margin-bottom: 6px;\"><thead><tr class = \"header\"><th class = \"rowNumber\" style = \"font-weight: bold; text-align: right;\">Row</th><th style = \"text-align: left;\">monasteryLocationId</th><th style = \"text-align: left;\">geonamesId</th><th style = \"text-align: left;\">countryName</th><th style = \"text-align: left;\">diocese</th><th style = \"text-align: left;\">placeName</th><th style = \"text-align: left;\">latitude</th><th style = \"text-align: left;\">longitude</th><th style = \"text-align: left;\">locationName</th><th style = \"text-align: left;\">beginTPQ</th><th style = \"text-align: left;\">endTPQ</th><th style = \"text-align: left;\">to</th><th style = \"text-align: left;\">from</th></tr><tr class = \"subheader headerLastRow\"><th class = \"rowNumber\" style = \"font-weight: bold; text-align: right;\"></th><th title = \"Any\" style = \"text-align: left;\">Any</th><th title = \"Any\" style = \"text-align: left;\">Any</th><th title = \"String\" style = \"text-align: left;\">String</th><th title = \"String\" style = \"text-align: left;\">String</th><th title = \"String\" style = \"text-align: left;\">String</th><th title = \"String\" style = \"text-align: left;\">String</th><th title = \"String\" style = \"text-align: left;\">String</th><th title = \"Union{Nothing, String}\" style = \"text-align: left;\">Union…</th><th title = \"String\" style = \"text-align: left;\">String</th><th title = \"String\" style = \"text-align: left;\">String</th><th title = \"String\" style = \"text-align: left;\">String</th><th title = \"String\" style = \"text-align: left;\">String</th></tr></thead><tbody><tr><td class = \"rowNumber\" style = \"font-weight: bold; text-align: right;\">1</td><td style = \"text-align: left;\">1822</td><td style = \"text-align: left;\">2784548</td><td style = \"text-align: left;\">Belgien</td><td style = \"text-align: left;\">Lüttich</td><td style = \"text-align: left;\">Visé</td><td style = \"text-align: left;\">50.73316</td><td style = \"text-align: left;\">5.69606</td><td style = \"font-style: italic; text-align: left;\"></td><td style = \"text-align: left;\">1338</td><td style = \"text-align: left;\">1797</td><td style = \"text-align: left;\">1797</td><td style = \"text-align: left;\">1338</td></tr></tbody></table></div>"
      ],
      "text/latex": [
       "\\begin{tabular}{r|cccccccc}\n",
       "\t& monasteryLocationId & geonamesId & countryName & diocese & placeName & latitude & longitude & \\\\\n",
       "\t\\hline\n",
       "\t& Any & Any & String & String & String & String & String & \\\\\n",
       "\t\\hline\n",
       "\t1 & 1822 & 2784548 & Belgien & Lüttich & Visé & 50.73316 & 5.69606 & $\\dots$ \\\\\n",
       "\\end{tabular}\n"
      ],
      "text/plain": [
       "\u001b[1m1×12 DataFrame\u001b[0m\n",
       "\u001b[1m Row \u001b[0m│\u001b[1m monasteryLocationId \u001b[0m\u001b[1m geonamesId \u001b[0m\u001b[1m countryName \u001b[0m\u001b[1m diocese \u001b[0m\u001b[1m placeName \u001b[0m\u001b[1m latit\u001b[0m ⋯\n",
       "     │\u001b[90m Any                 \u001b[0m\u001b[90m Any        \u001b[0m\u001b[90m String      \u001b[0m\u001b[90m String  \u001b[0m\u001b[90m String    \u001b[0m\u001b[90m Strin\u001b[0m ⋯\n",
       "─────┼──────────────────────────────────────────────────────────────────────────\n",
       "   1 │ 1822                 2784548     Belgien      Lüttich  Visé       50.73 ⋯\n",
       "\u001b[36m                                                               7 columns omitted\u001b[0m"
      ]
     },
     "execution_count": 48,
     "metadata": {},
     "output_type": "execute_result"
    }
   ],
   "source": [
    "push!(df_gs_mon, loc, promote=true)"
   ]
  },
  {
   "cell_type": "markdown",
   "metadata": {},
   "source": [
    "Frage für alle Klöster mit Feature Code A die Klosterdatenbank ab, um die Koordinaten auszulesen."
   ]
  },
  {
   "cell_type": "code",
   "execution_count": 63,
   "metadata": {},
   "outputs": [
    {
     "data": {
      "text/plain": [
       "fill_gs_mon! (generic function with 1 method)"
      ]
     },
     "execution_count": 63,
     "metadata": {},
     "output_type": "execute_result"
    }
   ],
   "source": [
    "function fill_gs_mon!(df_gs_mon, df_A)\n",
    "    n = 0\n",
    "    for r_a in eachrow(df_A)\n",
    "        query = join([query_base, r_a.gsn], \"/\")        \n",
    "        response = HTTP.get(query)\n",
    "        mon = JSON.parse(String(response.body))\n",
    "        for loc in mon[\"locations\"]\n",
    "            push!(df_gs_mon, loc, promote = true)\n",
    "            n += 1\n",
    "            if n % 100 == 0\n",
    "                @info \"\" n\n",
    "            end\n",
    "        end\n",
    "    end\n",
    "    return n\n",
    "end"
   ]
  },
  {
   "cell_type": "code",
   "execution_count": 169,
   "metadata": {},
   "outputs": [
    {
     "name": "stderr",
     "output_type": "stream",
     "text": [
      "┌ Info: \n",
      "│   n = 100\n",
      "└ @ Main In[63]:11\n",
      "┌ Info: \n",
      "│   n = 200\n",
      "└ @ Main In[63]:11\n",
      "┌ Info: \n",
      "│   n = 300\n",
      "└ @ Main In[63]:11\n",
      "┌ Info: \n",
      "│   n = 400\n",
      "└ @ Main In[63]:11\n"
     ]
    },
    {
     "data": {
      "text/plain": [
       "409"
      ]
     },
     "execution_count": 169,
     "metadata": {},
     "output_type": "execute_result"
    }
   ],
   "source": [
    "fill_gs_mon!(df_gs_mon, df_inst)"
   ]
  },
  {
   "cell_type": "code",
   "execution_count": 248,
   "metadata": {},
   "outputs": [],
   "source": [
    "columns = [\n",
    "    :monasteryLocationId,\n",
    "    :geonamesId,\n",
    "    :placeName,\n",
    "    :diocese,\n",
    "    :latitude,\n",
    "    :longitude,    \n",
    "];"
   ]
  },
  {
   "cell_type": "code",
   "execution_count": 249,
   "metadata": {},
   "outputs": [],
   "source": [
    "df_cand = select(df_gs_mon, columns);"
   ]
  },
  {
   "cell_type": "code",
   "execution_count": 250,
   "metadata": {},
   "outputs": [
    {
     "data": {
      "text/html": [
       "<div><div style = \"float: left;\"><span>5×4 DataFrame</span></div><div style = \"clear: both;\"></div></div><div class = \"data-frame\" style = \"overflow-x: scroll;\"><table class = \"data-frame\" style = \"margin-bottom: 6px;\"><thead><tr class = \"header\"><th class = \"rowNumber\" style = \"font-weight: bold; text-align: right;\">Row</th><th style = \"text-align: left;\">geonamesId</th><th style = \"text-align: left;\">placeName</th><th style = \"text-align: left;\">latitude</th><th style = \"text-align: left;\">longitude</th></tr><tr class = \"subheader headerLastRow\"><th class = \"rowNumber\" style = \"font-weight: bold; text-align: right;\"></th><th title = \"String\" style = \"text-align: left;\">String</th><th title = \"String\" style = \"text-align: left;\">String</th><th title = \"String\" style = \"text-align: left;\">String</th><th title = \"String\" style = \"text-align: left;\">String</th></tr></thead><tbody><tr><td class = \"rowNumber\" style = \"font-weight: bold; text-align: right;\">1</td><td style = \"text-align: left;\">2747351</td><td style = \"text-align: left;\">&apos;s-Hertogenbosch</td><td style = \"text-align: left;\">51.6789560440338</td><td style = \"text-align: left;\">5.34561970942765</td></tr><tr><td class = \"rowNumber\" style = \"font-weight: bold; text-align: right;\">2</td><td style = \"text-align: left;\">2758459</td><td style = \"text-align: left;\">Boxtel</td><td style = \"text-align: left;\">51.58305556</td><td style = \"text-align: left;\">5.324166667</td></tr><tr><td class = \"rowNumber\" style = \"font-weight: bold; text-align: right;\">3</td><td style = \"text-align: left;\">2747351</td><td style = \"text-align: left;\">&apos;s-Hertogenbosch</td><td style = \"text-align: left;\">51.68694444</td><td style = \"text-align: left;\">5.31</td></tr><tr><td class = \"rowNumber\" style = \"font-weight: bold; text-align: right;\">4</td><td style = \"text-align: left;\">2758459</td><td style = \"text-align: left;\">Boxtel</td><td style = \"text-align: left;\">51.5891579239149</td><td style = \"text-align: left;\">5.32559784224639</td></tr><tr><td class = \"rowNumber\" style = \"font-weight: bold; text-align: right;\">5</td><td style = \"text-align: left;\">2758459</td><td style = \"text-align: left;\">Boxtel</td><td style = \"text-align: left;\">51.5891579239149</td><td style = \"text-align: left;\">5.32559784224639</td></tr></tbody></table></div>"
      ],
      "text/latex": [
       "\\begin{tabular}{r|cccc}\n",
       "\t& geonamesId & placeName & latitude & longitude\\\\\n",
       "\t\\hline\n",
       "\t& String & String & String & String\\\\\n",
       "\t\\hline\n",
       "\t1 & 2747351 & 's-Hertogenbosch & 51.6789560440338 & 5.34561970942765 \\\\\n",
       "\t2 & 2758459 & Boxtel & 51.58305556 & 5.324166667 \\\\\n",
       "\t3 & 2747351 & 's-Hertogenbosch & 51.68694444 & 5.31 \\\\\n",
       "\t4 & 2758459 & Boxtel & 51.5891579239149 & 5.32559784224639 \\\\\n",
       "\t5 & 2758459 & Boxtel & 51.5891579239149 & 5.32559784224639 \\\\\n",
       "\\end{tabular}\n"
      ],
      "text/plain": [
       "\u001b[1m5×4 DataFrame\u001b[0m\n",
       "\u001b[1m Row \u001b[0m│\u001b[1m geonamesId \u001b[0m\u001b[1m placeName        \u001b[0m\u001b[1m latitude         \u001b[0m\u001b[1m longitude        \u001b[0m\n",
       "     │\u001b[90m String     \u001b[0m\u001b[90m String           \u001b[0m\u001b[90m String           \u001b[0m\u001b[90m String           \u001b[0m\n",
       "─────┼──────────────────────────────────────────────────────────────────\n",
       "   1 │ 2747351     's-Hertogenbosch  51.6789560440338  5.34561970942765\n",
       "   2 │ 2758459     Boxtel            51.58305556       5.324166667\n",
       "   3 │ 2747351     's-Hertogenbosch  51.68694444       5.31\n",
       "   4 │ 2758459     Boxtel            51.5891579239149  5.32559784224639\n",
       "   5 │ 2758459     Boxtel            51.5891579239149  5.32559784224639"
      ]
     },
     "execution_count": 250,
     "metadata": {},
     "output_type": "execute_result"
    }
   ],
   "source": [
    "df_cand[51:55, [:geonamesId, :placeName, :latitude, :longitude]]"
   ]
  },
  {
   "cell_type": "code",
   "execution_count": 251,
   "metadata": {},
   "outputs": [],
   "source": [
    "unique!(df_cand, :geonamesId);"
   ]
  },
  {
   "cell_type": "code",
   "execution_count": 252,
   "metadata": {},
   "outputs": [
    {
     "data": {
      "text/plain": [
       "(208, 6)"
      ]
     },
     "execution_count": 252,
     "metadata": {},
     "output_type": "execute_result"
    }
   ],
   "source": [
    "size(df_cand)"
   ]
  },
  {
   "cell_type": "code",
   "execution_count": 253,
   "metadata": {},
   "outputs": [],
   "source": [
    "transform!(df_cand, :latitude => ByRow(x -> parse(Float64, x)) => :latitude);"
   ]
  },
  {
   "cell_type": "code",
   "execution_count": 254,
   "metadata": {},
   "outputs": [],
   "source": [
    "transform!(df_cand, :longitude => ByRow(x -> parse(Float64, x)) => :longitude);"
   ]
  },
  {
   "cell_type": "markdown",
   "metadata": {},
   "source": [
    "Finde Orte in der Nähe in Tabelle `place_all` mit `feature_code` = `P`"
   ]
  },
  {
   "cell_type": "code",
   "execution_count": 139,
   "metadata": {},
   "outputs": [],
   "source": [
    "using NearestNeighbors, StaticArrays"
   ]
  },
  {
   "cell_type": "code",
   "execution_count": 189,
   "metadata": {},
   "outputs": [
    {
     "data": {
      "text/plain": [
       "KDTree{SVector{2, DecFP.Dec64}, Euclidean, DecFP.Dec64}\n",
       "  Number of points: 390505\n",
       "  Dimensions: 2\n",
       "  Metric: Euclidean(0.0)\n",
       "  Reordered: true"
      ]
     },
     "execution_count": 189,
     "metadata": {},
     "output_type": "execute_result"
    }
   ],
   "source": [
    "tree = KDTree([SVector(d.latitude, d.longitude) for d in eachrow(df_p_all)])"
   ]
  },
  {
   "cell_type": "code",
   "execution_count": 255,
   "metadata": {},
   "outputs": [],
   "source": [
    "points = [SVector(d.latitude, d.longitude) for d in eachrow(df_cand)];"
   ]
  },
  {
   "cell_type": "code",
   "execution_count": 256,
   "metadata": {},
   "outputs": [
    {
     "data": {
      "text/plain": [
       "([329045, 309494, 181063, 2921, 7125, 325100, 20048, 12120, 327198, 102349  …  4014, 1367, 255958, 254734, 253634, 286818, 297682, 253222, 118, 299576], DecFP.Dec64[0.005254895622179379, 0.02063885341193556, 0.002255248323355989, 0.01370885753833707, 0.007482408571946336, 0.0007481310045707236, 0.006093549383566077, 0.007787634107994545, 0.006687622148417179, 47.3505616147559  …  0.006360708202693763, 0.02221790165138363, 0.0006862305418845189, 0.001790634524407479, 0.006328177741941198, 0.0006137165469498114, 0.004800261873064844, 0.0030917103680649, 0.003494129413082352, 0.006343413907353043])"
      ]
     },
     "execution_count": 256,
     "metadata": {},
     "output_type": "execute_result"
    }
   ],
   "source": [
    "idxs, dists = nn(tree, points)"
   ]
  },
  {
   "cell_type": "code",
   "execution_count": 257,
   "metadata": {},
   "outputs": [],
   "source": [
    "insertcols!(\n",
    "    df_cand,\n",
    "    :idx_match => idxs,\n",
    "    :dist => dists,\n",
    ");"
   ]
  },
  {
   "cell_type": "code",
   "execution_count": 258,
   "metadata": {},
   "outputs": [
    {
     "data": {
      "text/plain": [
       "4-element Vector{Pair{Symbol, Symbol}}:\n",
       "            :id => :p_all_id\n",
       "          :name => :name_p\n",
       "   :geonames_id => :geonames_id_p\n",
       " :feature_class => :feature_class"
      ]
     },
     "execution_count": 258,
     "metadata": {},
     "output_type": "execute_result"
    }
   ],
   "source": [
    "columns = [\n",
    "    :id => :p_all_id,\n",
    "    :name => :name_p,\n",
    "    :geonames_id => :geonames_id_p,\n",
    "    :feature_class => :feature_class    \n",
    "]"
   ]
  },
  {
   "cell_type": "code",
   "execution_count": 259,
   "metadata": {},
   "outputs": [],
   "source": [
    "df_match = select(df_p_all[idxs, :], columns);"
   ]
  },
  {
   "cell_type": "code",
   "execution_count": 260,
   "metadata": {},
   "outputs": [],
   "source": [
    "df_cand_p = hcat(df_cand, df_match);"
   ]
  },
  {
   "cell_type": "code",
   "execution_count": 261,
   "metadata": {},
   "outputs": [],
   "source": [
    "df_no_match = subset(df_cand_p, :dist => ByRow(x -> x > 0.02));"
   ]
  },
  {
   "cell_type": "code",
   "execution_count": 262,
   "metadata": {},
   "outputs": [],
   "source": [
    "columns = [    \n",
    "    :geonamesId,\n",
    "    :diocese,\n",
    "    :placeName,\n",
    "    :latitude,\n",
    "    :longitude,\n",
    "    :name_p,\n",
    "    :geonames_id_p,    \n",
    "];"
   ]
  },
  {
   "cell_type": "code",
   "execution_count": 263,
   "metadata": {},
   "outputs": [
    {
     "data": {
      "text/html": [
       "<div><div style = \"float: left;\"><span>11×7 DataFrame</span></div><div style = \"clear: both;\"></div></div><div class = \"data-frame\" style = \"overflow-x: scroll;\"><table class = \"data-frame\" style = \"margin-bottom: 6px;\"><thead><tr class = \"header\"><th class = \"rowNumber\" style = \"font-weight: bold; text-align: right;\">Row</th><th style = \"text-align: left;\">geonamesId</th><th style = \"text-align: left;\">diocese</th><th style = \"text-align: left;\">placeName</th><th style = \"text-align: left;\">latitude</th><th style = \"text-align: left;\">longitude</th><th style = \"text-align: left;\">name_p</th><th style = \"text-align: left;\">geonames_id_p</th></tr><tr class = \"subheader headerLastRow\"><th class = \"rowNumber\" style = \"font-weight: bold; text-align: right;\"></th><th title = \"String\" style = \"text-align: left;\">String</th><th title = \"String\" style = \"text-align: left;\">String</th><th title = \"String\" style = \"text-align: left;\">String</th><th title = \"Float64\" style = \"text-align: left;\">Float64</th><th title = \"Float64\" style = \"text-align: left;\">Float64</th><th title = \"Union{Missing, String}\" style = \"text-align: left;\">String?</th><th title = \"Union{Missing, Int32}\" style = \"text-align: left;\">Int32?</th></tr></thead><tbody><tr><td class = \"rowNumber\" style = \"font-weight: bold; text-align: right;\">1</td><td style = \"text-align: left;\">2958914</td><td style = \"text-align: left;\">Konstanz</td><td style = \"text-align: left;\">Aichtal</td><td style = \"text-align: right;\">48.6204</td><td style = \"text-align: right;\">9.1715</td><td style = \"text-align: left;\">Glashütte</td><td style = \"text-align: right;\">2920107</td></tr><tr><td class = \"rowNumber\" style = \"font-weight: bold; text-align: right;\">2</td><td style = \"text-align: left;\">2803175</td><td style = \"text-align: left;\">Lüttich</td><td style = \"text-align: left;\">Anhée</td><td style = \"text-align: right;\">4.86042</td><td style = \"text-align: right;\">50.3165</td><td style = \"text-align: left;\">Leuca</td><td style = \"text-align: right;\">2524399</td></tr><tr><td class = \"rowNumber\" style = \"font-weight: bold; text-align: right;\">3</td><td style = \"text-align: left;\">6558305</td><td style = \"text-align: left;\">Würzburg</td><td style = \"text-align: left;\">Bad Rodach</td><td style = \"text-align: right;\">50.3289</td><td style = \"text-align: right;\">10.7597</td><td style = \"text-align: left;\">Bad Rodach</td><td style = \"text-align: right;\">2846166</td></tr><tr><td class = \"rowNumber\" style = \"font-weight: bold; text-align: right;\">4</td><td style = \"text-align: left;\">6557834</td><td style = \"text-align: left;\">Mainz</td><td style = \"text-align: left;\">Frankenberg (Eder)</td><td style = \"text-align: right;\">51.1062</td><td style = \"text-align: right;\">8.78296</td><td style = \"text-align: left;\">Sachsenberg</td><td style = \"text-align: right;\">2842556</td></tr><tr><td class = \"rowNumber\" style = \"font-weight: bold; text-align: right;\">5</td><td style = \"text-align: left;\">6553285</td><td style = \"text-align: left;\">Mainz</td><td style = \"text-align: left;\">Haina (Kloster)</td><td style = \"text-align: right;\">51.0634</td><td style = \"text-align: right;\">8.95611</td><td style = \"text-align: left;\">Altenhaina</td><td style = \"text-align: right;\">2957642</td></tr><tr><td class = \"rowNumber\" style = \"font-weight: bold; text-align: right;\">6</td><td style = \"text-align: left;\">6557738</td><td style = \"text-align: left;\">Mainz</td><td style = \"text-align: left;\">Hanau</td><td style = \"text-align: right;\">50.1333</td><td style = \"text-align: right;\">8.99653</td><td style = \"text-align: left;\">Rückingen</td><td style = \"text-align: right;\">2843470</td></tr><tr><td class = \"rowNumber\" style = \"font-weight: bold; text-align: right;\">7</td><td style = \"text-align: left;\">2748254</td><td style = \"text-align: left;\">Utrecht</td><td style = \"text-align: left;\">Reimerswaal</td><td style = \"text-align: right;\">51.5002</td><td style = \"text-align: right;\">4.16699</td><td style = \"text-align: left;\">Strijenham</td><td style = \"text-align: right;\">2746606</td></tr><tr><td class = \"rowNumber\" style = \"font-weight: bold; text-align: right;\">8</td><td style = \"text-align: left;\">6544251</td><td style = \"text-align: left;\">Utrecht</td><td style = \"text-align: left;\">Schouwen-Duiveland</td><td style = \"text-align: right;\">51.6704</td><td style = \"text-align: right;\">3.87866</td><td style = \"text-align: left;\">Kerkwerve</td><td style = \"text-align: right;\">2752918</td></tr><tr><td class = \"rowNumber\" style = \"font-weight: bold; text-align: right;\">9</td><td style = \"text-align: left;\">462322</td><td style = \"text-align: left;\">Samland</td><td style = \"text-align: left;\">Snamensk (Wehlau)</td><td style = \"text-align: right;\">54.614</td><td style = \"text-align: right;\">21.2272</td><td style = \"text-align: left;\">Melejdy</td><td style = \"text-align: right;\">7535921</td></tr><tr><td class = \"rowNumber\" style = \"font-weight: bold; text-align: right;\">10</td><td style = \"text-align: left;\">6557592</td><td style = \"text-align: left;\">Münster</td><td style = \"text-align: left;\">Waltrop</td><td style = \"text-align: right;\">51.6387</td><td style = \"text-align: right;\">7.45887</td><td style = \"text-align: left;\">Bork</td><td style = \"text-align: right;\">2946235</td></tr><tr><td class = \"rowNumber\" style = \"font-weight: bold; text-align: right;\">11</td><td style = \"text-align: left;\">2744826</td><td style = \"text-align: left;\">Utrecht</td><td style = \"text-align: left;\">Werkendam</td><td style = \"text-align: right;\">51.7797</td><td style = \"text-align: right;\">4.86444</td><td style = \"text-align: left;\">Steurgat</td><td style = \"text-align: right;\">2746719</td></tr></tbody></table></div>"
      ],
      "text/latex": [
       "\\begin{tabular}{r|ccccccc}\n",
       "\t& geonamesId & diocese & placeName & latitude & longitude & name\\_p & geonames\\_id\\_p\\\\\n",
       "\t\\hline\n",
       "\t& String & String & String & Float64 & Float64 & String? & Int32?\\\\\n",
       "\t\\hline\n",
       "\t1 & 2958914 & Konstanz & Aichtal & 48.6204 & 9.1715 & Glashütte & 2920107 \\\\\n",
       "\t2 & 2803175 & Lüttich & Anhée & 4.86042 & 50.3165 & Leuca & 2524399 \\\\\n",
       "\t3 & 6558305 & Würzburg & Bad Rodach & 50.3289 & 10.7597 & Bad Rodach & 2846166 \\\\\n",
       "\t4 & 6557834 & Mainz & Frankenberg (Eder) & 51.1062 & 8.78296 & Sachsenberg & 2842556 \\\\\n",
       "\t5 & 6553285 & Mainz & Haina (Kloster) & 51.0634 & 8.95611 & Altenhaina & 2957642 \\\\\n",
       "\t6 & 6557738 & Mainz & Hanau & 50.1333 & 8.99653 & Rückingen & 2843470 \\\\\n",
       "\t7 & 2748254 & Utrecht & Reimerswaal & 51.5002 & 4.16699 & Strijenham & 2746606 \\\\\n",
       "\t8 & 6544251 & Utrecht & Schouwen-Duiveland & 51.6704 & 3.87866 & Kerkwerve & 2752918 \\\\\n",
       "\t9 & 462322 & Samland & Snamensk (Wehlau) & 54.614 & 21.2272 & Melejdy & 7535921 \\\\\n",
       "\t10 & 6557592 & Münster & Waltrop & 51.6387 & 7.45887 & Bork & 2946235 \\\\\n",
       "\t11 & 2744826 & Utrecht & Werkendam & 51.7797 & 4.86444 & Steurgat & 2746719 \\\\\n",
       "\\end{tabular}\n"
      ],
      "text/plain": [
       "\u001b[1m11×7 DataFrame\u001b[0m\n",
       "\u001b[1m Row \u001b[0m│\u001b[1m geonamesId \u001b[0m\u001b[1m diocese  \u001b[0m\u001b[1m placeName          \u001b[0m\u001b[1m latitude \u001b[0m\u001b[1m longitude \u001b[0m\u001b[1m name_p  \u001b[0m ⋯\n",
       "     │\u001b[90m String     \u001b[0m\u001b[90m String   \u001b[0m\u001b[90m String             \u001b[0m\u001b[90m Float64  \u001b[0m\u001b[90m Float64   \u001b[0m\u001b[90m String? \u001b[0m ⋯\n",
       "─────┼──────────────────────────────────────────────────────────────────────────\n",
       "   1 │ 2958914     Konstanz  Aichtal             48.6204     9.1715   Glashütt ⋯\n",
       "   2 │ 2803175     Lüttich   Anhée                4.86042   50.3165   Leuca\n",
       "   3 │ 6558305     Würzburg  Bad Rodach          50.3289    10.7597   Bad Roda\n",
       "   4 │ 6557834     Mainz     Frankenberg (Eder)  51.1062     8.78296  Sachsenb\n",
       "   5 │ 6553285     Mainz     Haina (Kloster)     51.0634     8.95611  Altenhai ⋯\n",
       "   6 │ 6557738     Mainz     Hanau               50.1333     8.99653  Rückinge\n",
       "   7 │ 2748254     Utrecht   Reimerswaal         51.5002     4.16699  Strijenh\n",
       "   8 │ 6544251     Utrecht   Schouwen-Duiveland  51.6704     3.87866  Kerkwerv\n",
       "   9 │ 462322      Samland   Snamensk (Wehlau)   54.614     21.2272   Melejdy  ⋯\n",
       "  10 │ 6557592     Münster   Waltrop             51.6387     7.45887  Bork\n",
       "  11 │ 2744826     Utrecht   Werkendam           51.7797     4.86444  Steurgat\n",
       "\u001b[36m                                                               2 columns omitted\u001b[0m"
      ]
     },
     "execution_count": 263,
     "metadata": {},
     "output_type": "execute_result"
    }
   ],
   "source": [
    "select(df_no_match, columns)"
   ]
  },
  {
   "cell_type": "code",
   "execution_count": 264,
   "metadata": {},
   "outputs": [
    {
     "data": {
      "text/plain": [
       "\"C:\\\\Users\\\\georg\\\\Documents\\\\projekte-doc\\\\WIAGweb2\\\\data\\\\Klosterort_P_check.csv\""
      ]
     },
     "execution_count": 264,
     "metadata": {},
     "output_type": "execute_result"
    }
   ],
   "source": [
    "path_elmts = (\n",
    "    \"C:\\\\\",\n",
    "    \"Users\",\n",
    "    \"georg\",\n",
    "    \"Documents\",\n",
    "    \"projekte-doc\",\n",
    "    \"WIAGweb2\",\n",
    "    \"data\",\n",
    "    \"Klosterort_P_check.csv\"\n",
    ")\n",
    "out_file = joinpath(path_elmts)"
   ]
  },
  {
   "cell_type": "code",
   "execution_count": 265,
   "metadata": {},
   "outputs": [
    {
     "data": {
      "text/plain": [
       "\"C:\\\\Users\\\\georg\\\\Documents\\\\projekte-doc\\\\WIAGweb2\\\\data\\\\Klosterort_P_check.csv\""
      ]
     },
     "execution_count": 265,
     "metadata": {},
     "output_type": "execute_result"
    }
   ],
   "source": [
    "CSV.write(out_file, df_no_match)"
   ]
  },
  {
   "cell_type": "code",
   "execution_count": 266,
   "metadata": {},
   "outputs": [
    {
     "data": {
      "text/plain": [
       "\"C:\\\\Users\\\\georg\\\\Documents\\\\projekte-doc\\\\WIAGweb2\\\\data\\\\Klosterort_P.csv\""
      ]
     },
     "execution_count": 266,
     "metadata": {},
     "output_type": "execute_result"
    }
   ],
   "source": [
    "path_elmts = (\n",
    "    \"C:\\\\\",\n",
    "    \"Users\",\n",
    "    \"georg\",\n",
    "    \"Documents\",\n",
    "    \"projekte-doc\",\n",
    "    \"WIAGweb2\",\n",
    "    \"data\",\n",
    "    \"Klosterort_P.csv\"\n",
    ")\n",
    "out_file = joinpath(path_elmts)"
   ]
  },
  {
   "cell_type": "code",
   "execution_count": 268,
   "metadata": {},
   "outputs": [
    {
     "data": {
      "text/plain": [
       "\"C:\\\\Users\\\\georg\\\\Documents\\\\projekte-doc\\\\WIAGweb2\\\\data\\\\Klosterort_P.csv\""
      ]
     },
     "execution_count": 268,
     "metadata": {},
     "output_type": "execute_result"
    }
   ],
   "source": [
    "CSV.write(out_file, df_cand_p)"
   ]
  },
  {
   "cell_type": "code",
   "execution_count": null,
   "metadata": {},
   "outputs": [],
   "source": []
  }
 ],
 "metadata": {
  "kernelspec": {
   "display_name": "Julia 1.8.2",
   "language": "julia",
   "name": "julia-1.8"
  },
  "language_info": {
   "file_extension": ".jl",
   "mimetype": "application/julia",
   "name": "julia",
   "version": "1.8.2"
  }
 },
 "nbformat": 4,
 "nbformat_minor": 4
}
