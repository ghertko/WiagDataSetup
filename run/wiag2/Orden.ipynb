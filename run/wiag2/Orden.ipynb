{
 "cells": [
  {
   "cell_type": "markdown",
   "metadata": {},
   "source": [
    "# WIAG Ordensbezeichnungen"
   ]
  },
  {
   "cell_type": "markdown",
   "metadata": {},
   "source": [
    "Zuordnung der IDs in der Quelle in Göttingen; vk 2022-03-30"
   ]
  },
  {
   "cell_type": "markdown",
   "metadata": {},
   "source": [
    "## Vorspann\n",
    "\n",
    "Modul laden"
   ]
  },
  {
   "cell_type": "code",
   "execution_count": 1,
   "metadata": {},
   "outputs": [
    {
     "data": {
      "text/plain": [
       "\"../..\""
      ]
     },
     "execution_count": 1,
     "metadata": {},
     "output_type": "execute_result"
    }
   ],
   "source": [
    "wds_path = \"../..\""
   ]
  },
  {
   "cell_type": "code",
   "execution_count": 2,
   "metadata": {},
   "outputs": [],
   "source": [
    "cd(wds_path)"
   ]
  },
  {
   "cell_type": "code",
   "execution_count": 3,
   "metadata": {},
   "outputs": [],
   "source": [
    "using Pkg"
   ]
  },
  {
   "cell_type": "code",
   "execution_count": 4,
   "metadata": {},
   "outputs": [
    {
     "name": "stderr",
     "output_type": "stream",
     "text": [
      "\u001b[32m\u001b[1m  Activating\u001b[22m\u001b[39m project at `C:\\Users\\georg\\Documents\\projekte\\WiagDataSetup.jl`\n"
     ]
    }
   ],
   "source": [
    "Pkg.activate(\".\")"
   ]
  },
  {
   "cell_type": "code",
   "execution_count": 5,
   "metadata": {},
   "outputs": [],
   "source": [
    "using Revise"
   ]
  },
  {
   "cell_type": "code",
   "execution_count": 6,
   "metadata": {},
   "outputs": [],
   "source": [
    "using WiagDataSetup"
   ]
  },
  {
   "cell_type": "code",
   "execution_count": 7,
   "metadata": {},
   "outputs": [
    {
     "data": {
      "text/plain": [
       "WiagDataSetup"
      ]
     },
     "execution_count": 7,
     "metadata": {},
     "output_type": "execute_result"
    }
   ],
   "source": [
    "Wds = WiagDataSetup"
   ]
  },
  {
   "cell_type": "code",
   "execution_count": 8,
   "metadata": {},
   "outputs": [],
   "source": [
    "using DataFrames, CSV, Dates"
   ]
  },
  {
   "cell_type": "code",
   "execution_count": 9,
   "metadata": {},
   "outputs": [
    {
     "data": {
      "text/plain": [
       "\"C:/Users/georg/Documents/projekte-doc/Utrecht-Priester/data\""
      ]
     },
     "execution_count": 9,
     "metadata": {},
     "output_type": "execute_result"
    }
   ],
   "source": [
    "data_path = \"C:/Users/georg/Documents/projekte-doc/Utrecht-Priester/data\""
   ]
  },
  {
   "cell_type": "code",
   "execution_count": 10,
   "metadata": {},
   "outputs": [
    {
     "data": {
      "text/plain": [
       "\"C:/Users/georg/Documents/projekte-doc/Utrecht-Priester/data_sql\""
      ]
     },
     "execution_count": 10,
     "metadata": {},
     "output_type": "execute_result"
    }
   ],
   "source": [
    "out_path = \"C:/Users/georg/Documents/projekte-doc/Utrecht-Priester/data_sql\""
   ]
  },
  {
   "cell_type": "code",
   "execution_count": 11,
   "metadata": {},
   "outputs": [
    {
     "name": "stdout",
     "output_type": "stream",
     "text": [
      "Passwort für User georg: ········\n"
     ]
    },
    {
     "data": {
      "text/plain": [
       "MySQL.Connection(host=\"127.0.0.1\", user=\"georg\", port=\"3306\", db=\"wiag2\")"
      ]
     },
     "execution_count": 11,
     "metadata": {},
     "output_type": "execute_result"
    }
   ],
   "source": [
    "Wds.setDBWIAG(user = \"georg\", db = \"wiag2\")"
   ]
  },
  {
   "cell_type": "markdown",
   "metadata": {},
   "source": [
    "`id_in_source` nachtragen"
   ]
  },
  {
   "cell_type": "code",
   "execution_count": 23,
   "metadata": {},
   "outputs": [],
   "source": [
    "str_map = \"\"\"\n",
    "5309;1;OP;13\n",
    "5310;2;OFM;7\n",
    "5311;3;OPraem;14\n",
    "5312;4;OT;22\n",
    "5313;5;OSB;16\n",
    "5314;6;OCist;5\n",
    "5315;7;OESA;106\n",
    "5316;8;OCarm;3\n",
    "5317;9;CanA;1\n",
    "5318;10;SJ;23\n",
    "5319;11;OMel;12\n",
    "5320;12;OSA;36\n",
    "5321;13;OSM;41\n",
    "5322;14;OFMObs;107\n",
    "5323;15;OFMCap;8\n",
    "5324;16;OFMConv;108\n",
    "5325;17;OFMRec;109\n",
    "5326;18;OCart;4\n",
    "5327;19;OSH;61\n",
    "5328;20;ORC;110\n",
    "5329;21;Otheat;96\n",
    "92259;22;CRVC;46\"\"\";"
   ]
  },
  {
   "cell_type": "code",
   "execution_count": 24,
   "metadata": {},
   "outputs": [],
   "source": [
    "df_map = DataFrame(id = Int[], id_old = Int[], abbreviation = String[], id_new = Int[]);"
   ]
  },
  {
   "cell_type": "code",
   "execution_count": 25,
   "metadata": {},
   "outputs": [],
   "source": [
    "c_map = split(str_map, \"\\n\");\n",
    "for row in c_map\n",
    "    c_row = split(row, \";\")\n",
    "    if length(c_row) > 1\n",
    "        id = parse(Int, c_row[1])\n",
    "        id_old = parse(Int, c_row[2])\n",
    "        abbr = c_row[3]\n",
    "        id_new = parse(Int, c_row[4])\n",
    "        push!(df_map, (id, id_old, abbr, id_new))\n",
    "    end\n",
    "end"
   ]
  },
  {
   "cell_type": "code",
   "execution_count": 19,
   "metadata": {},
   "outputs": [],
   "source": [
    "using MySQL"
   ]
  },
  {
   "cell_type": "code",
   "execution_count": 49,
   "metadata": {},
   "outputs": [],
   "source": [
    "table_name = \"item\";\n",
    "file_name = joinpath(out_path, \"$(table_name)_update.sql\")\n",
    "file = open(file_name, \"w\")\n",
    "for row in eachrow(df_map)\n",
    "    line = \"UPDATE \" * table_name *\n",
    "    \" SET id_in_source = \" * string(row[:id_new]) * \n",
    "    \" WHERE id = \" * string(row[:id]) *\n",
    "    \" AND item_type_id = 7;\"\n",
    "    println(file, line)\n",
    "end\n",
    "close(file)"
   ]
  },
  {
   "cell_type": "markdown",
   "metadata": {},
   "source": [
    "``` SQL\n",
    "source \"C:/Users/georg/Documents/projekte-doc/Utrecht-Priester/data_sql/item_update.sql\"\n",
    "```"
   ]
  },
  {
   "cell_type": "markdown",
   "metadata": {},
   "source": [
    "Zusätzliche Orden aufnehmen"
   ]
  },
  {
   "cell_type": "code",
   "execution_count": 16,
   "metadata": {},
   "outputs": [],
   "source": [
    "using CSV, DataFrames"
   ]
  },
  {
   "cell_type": "code",
   "execution_count": 17,
   "metadata": {},
   "outputs": [],
   "source": [
    "file_name = joinpath(data_path, \"mapping_orden_stapel.csv\")\n",
    "df_map_stapel = CSV.read(file_name, DataFrame, delim = \";\");"
   ]
  },
  {
   "cell_type": "code",
   "execution_count": 18,
   "metadata": {},
   "outputs": [
    {
     "data": {
      "text/html": [
       "<div class=\"data-frame\"><p>6 rows × 3 columns</p><table class=\"data-frame\"><thead><tr><th></th><th>altLabel_abk</th><th>Orde</th><th>id_order</th></tr><tr><th></th><th title=\"Union{Missing, String7}\">String7?</th><th title=\"String63\">String63</th><th title=\"Int64\">Int64</th></tr></thead><tbody><tr><th>1</th><td>OESG</td><td>ordinis Wilhellemitarum</td><td>6</td></tr><tr><th>2</th><td>OMel</td><td>ordinis sancti Johannis</td><td>12</td></tr><tr><th>3</th><td>OP</td><td>ordinis Predicatorum</td><td>13</td></tr><tr><th>4</th><td>OPraem</td><td>ordinis Premonstratencis</td><td>14</td></tr><tr><th>5</th><td>OPraem</td><td>ordinis Premonstratencium</td><td>14</td></tr><tr><th>6</th><td>OPraem</td><td>ordinis Premonstratensis</td><td>14</td></tr></tbody></table></div>"
      ],
      "text/latex": [
       "\\begin{tabular}{r|ccc}\n",
       "\t& altLabel\\_abk & Orde & id\\_order\\\\\n",
       "\t\\hline\n",
       "\t& String7? & String63 & Int64\\\\\n",
       "\t\\hline\n",
       "\t1 & OESG & ordinis Wilhellemitarum & 6 \\\\\n",
       "\t2 & OMel & ordinis sancti Johannis & 12 \\\\\n",
       "\t3 & OP & ordinis Predicatorum & 13 \\\\\n",
       "\t4 & OPraem & ordinis Premonstratencis & 14 \\\\\n",
       "\t5 & OPraem & ordinis Premonstratencium & 14 \\\\\n",
       "\t6 & OPraem & ordinis Premonstratensis & 14 \\\\\n",
       "\\end{tabular}\n"
      ],
      "text/plain": [
       "\u001b[1m6×3 DataFrame\u001b[0m\n",
       "\u001b[1m Row \u001b[0m│\u001b[1m altLabel_abk \u001b[0m\u001b[1m Orde                      \u001b[0m\u001b[1m id_order \u001b[0m\n",
       "\u001b[1m     \u001b[0m│\u001b[90m String7?     \u001b[0m\u001b[90m String63                  \u001b[0m\u001b[90m Int64    \u001b[0m\n",
       "─────┼───────────────────────────────────────────────────\n",
       "   1 │ OESG          ordinis Wilhellemitarum           6\n",
       "   2 │ OMel          ordinis sancti Johannis          12\n",
       "   3 │ OP            ordinis Predicatorum             13\n",
       "   4 │ OPraem        ordinis Premonstratencis         14\n",
       "   5 │ OPraem        ordinis Premonstratencium        14\n",
       "   6 │ OPraem        ordinis Premonstratensis         14"
      ]
     },
     "execution_count": 18,
     "metadata": {},
     "output_type": "execute_result"
    }
   ],
   "source": [
    "df_map_stapel[10:15, :]"
   ]
  },
  {
   "cell_type": "code",
   "execution_count": 19,
   "metadata": {},
   "outputs": [
    {
     "data": {
      "text/html": [
       "<p><b>GroupedDataFrame with 17 groups based on key: id_order</b></p><p><i>First Group (2 rows): id_order = 3</i></p><div class=\"data-frame\"><table class=\"data-frame\"><thead><tr><th></th><th>altLabel_abk</th><th>Orde</th><th>id_order</th></tr><tr><th></th><th title=\"Union{Missing, String7}\">String7?</th><th title=\"String63\">String63</th><th title=\"Int64\">Int64</th></tr></thead><tbody><tr><th>1</th><td>OCarm</td><td>ordinis Carmelitarum</td><td>3</td></tr><tr><th>2</th><td>OCarm</td><td>ordinis Carmellitarum</td><td>3</td></tr></tbody></table></div><p>&vellip;</p><p><i>Last Group (4 rows): id_order = 130</i></p><div class=\"data-frame\"><table class=\"data-frame\"><thead><tr><th></th><th>altLabel_abk</th><th>Orde</th><th>id_order</th></tr><tr><th></th><th title=\"Union{Missing, String7}\">String7?</th><th title=\"String63\">String63</th><th title=\"Int64\">Int64</th></tr></thead><tbody><tr><th>1</th><td><em>missing</em></td><td>ordinis Augustinensium</td><td>130</td></tr><tr><th>2</th><td><em>missing</em></td><td>ordinis Augustini</td><td>130</td></tr><tr><th>3</th><td><em>missing</em></td><td>ordinis sanct Augustini</td><td>130</td></tr><tr><th>4</th><td><em>missing</em></td><td>ordinis sancti Augustini</td><td>130</td></tr></tbody></table></div>"
      ],
      "text/latex": [
       "GroupedDataFrame with 17 groups based on key: id\\_order\n",
       "\n",
       "First Group (2 rows): id\\_order = 3\n",
       "\n",
       "\\begin{tabular}{r|ccc}\n",
       "\t& altLabel\\_abk & Orde & id\\_order\\\\\n",
       "\t\\hline\n",
       "\t& String7? & String63 & Int64\\\\\n",
       "\t\\hline\n",
       "\t1 & OCarm & ordinis Carmelitarum & 3 \\\\\n",
       "\t2 & OCarm & ordinis Carmellitarum & 3 \\\\\n",
       "\\end{tabular}\n",
       "\n",
       "$\\dots$\n",
       "\n",
       "Last Group (4 rows): id\\_order = 130\n",
       "\n",
       "\\begin{tabular}{r|ccc}\n",
       "\t& altLabel\\_abk & Orde & id\\_order\\\\\n",
       "\t\\hline\n",
       "\t& String7? & String63 & Int64\\\\\n",
       "\t\\hline\n",
       "\t1 & \\emph{missing} & ordinis Augustinensium & 130 \\\\\n",
       "\t2 & \\emph{missing} & ordinis Augustini & 130 \\\\\n",
       "\t3 & \\emph{missing} & ordinis sanct Augustini & 130 \\\\\n",
       "\t4 & \\emph{missing} & ordinis sancti Augustini & 130 \\\\\n",
       "\\end{tabular}\n"
      ],
      "text/plain": [
       "GroupedDataFrame with 17 groups based on key: id_order\n",
       "First Group (2 rows): id_order = 3\n",
       "\u001b[1m Row \u001b[0m│\u001b[1m altLabel_abk \u001b[0m\u001b[1m Orde                  \u001b[0m\u001b[1m id_order \u001b[0m\n",
       "\u001b[1m     \u001b[0m│\u001b[90m String7?     \u001b[0m\u001b[90m String63              \u001b[0m\u001b[90m Int64    \u001b[0m\n",
       "─────┼───────────────────────────────────────────────\n",
       "   1 │ OCarm         ordinis Carmelitarum          3\n",
       "   2 │ OCarm         ordinis Carmellitarum         3\n",
       "⋮\n",
       "Last Group (4 rows): id_order = 130\n",
       "\u001b[1m Row \u001b[0m│\u001b[1m altLabel_abk \u001b[0m\u001b[1m Orde                     \u001b[0m\u001b[1m id_order \u001b[0m\n",
       "\u001b[1m     \u001b[0m│\u001b[90m String7?     \u001b[0m\u001b[90m String63                 \u001b[0m\u001b[90m Int64    \u001b[0m\n",
       "─────┼──────────────────────────────────────────────────\n",
       "   1 │\u001b[90m missing      \u001b[0m ordinis Augustinensium         130\n",
       "   2 │\u001b[90m missing      \u001b[0m ordinis Augustini              130\n",
       "   3 │\u001b[90m missing      \u001b[0m ordinis sanct Augustini        130\n",
       "   4 │\u001b[90m missing      \u001b[0m ordinis sancti Augustini       130"
      ]
     },
     "execution_count": 19,
     "metadata": {},
     "output_type": "execute_result"
    }
   ],
   "source": [
    "df_map_stapel_g = groupby(df_map_stapel, :id_order)"
   ]
  },
  {
   "cell_type": "code",
   "execution_count": 20,
   "metadata": {},
   "outputs": [
    {
     "data": {
      "text/html": [
       "<div class=\"data-frame\"><p>0 rows × 3 columns</p><table class=\"data-frame\"><thead><tr><th></th><th>altLabel_abk</th><th>Orde</th><th>id_order</th></tr><tr><th></th><th title=\"Union{Missing, String7}\">String7?</th><th title=\"String63\">String63</th><th title=\"Int64\">Int64</th></tr></thead><tbody></tbody></table></div>"
      ],
      "text/latex": [
       "\\begin{tabular}{r|ccc}\n",
       "\t& altLabel\\_abk & Orde & id\\_order\\\\\n",
       "\t\\hline\n",
       "\t& String7? & String63 & Int64\\\\\n",
       "\t\\hline\n",
       "\\end{tabular}\n"
      ],
      "text/plain": [
       "\u001b[1m0×3 DataFrame\u001b[0m"
      ]
     },
     "execution_count": 20,
     "metadata": {},
     "output_type": "execute_result"
    }
   ],
   "source": [
    "df_item_ro_in = similar(df_map_stapel, 0)"
   ]
  },
  {
   "cell_type": "code",
   "execution_count": 21,
   "metadata": {},
   "outputs": [],
   "source": [
    "for g in df_map_stapel_g\n",
    "    push!(df_item_ro_in, g[1, :])\n",
    "end;"
   ]
  },
  {
   "cell_type": "code",
   "execution_count": 40,
   "metadata": {},
   "outputs": [
    {
     "data": {
      "text/html": [
       "<div class=\"data-frame\"><p>17 rows × 3 columns</p><table class=\"data-frame\"><thead><tr><th></th><th>altLabel_abk</th><th>Orde</th><th>id_order</th></tr><tr><th></th><th title=\"Union{Missing, String7}\">String7?</th><th title=\"String63\">String63</th><th title=\"Int64\">Int64</th></tr></thead><tbody><tr><th>1</th><td>OCarm</td><td>ordinis Carmelitarum</td><td>3</td></tr><tr><th>2</th><td>OCart</td><td>ordinis Carthusiensium</td><td>4</td></tr><tr><th>3</th><td>OCist</td><td>ordinis Cisterciensis</td><td>5</td></tr><tr><th>4</th><td>OESG</td><td>ordinis sancti Wilhelmi</td><td>6</td></tr><tr><th>5</th><td>OMel</td><td>ordinis sancti Johannis</td><td>12</td></tr><tr><th>6</th><td>OP</td><td>ordinis Predicatorum</td><td>13</td></tr><tr><th>7</th><td>OPraem</td><td>ordinis Premonstratencis</td><td>14</td></tr><tr><th>8</th><td>OSB</td><td>Benedictinorum ordinis</td><td>16</td></tr><tr><th>9</th><td>OSBirg</td><td>ordinis sancte Bregitte</td><td>17</td></tr><tr><th>10</th><td>OSC</td><td>ordinis Cruciferorum</td><td>18</td></tr><tr><th>11</th><td>OT</td><td>domus Teutonicalium</td><td>22</td></tr><tr><th>12</th><td>TOF</td><td>ordinis tercii</td><td>24</td></tr><tr><th>13</th><td>OSH</td><td>ordinis Sancti Jheronimi</td><td>61</td></tr><tr><th>14</th><td><em>missing</em></td><td>canonicus Regularis</td><td>113</td></tr><tr><th>15</th><td><em>missing</em></td><td>ordinis fratrum Minorum</td><td>115</td></tr><tr><th>16</th><td><em>missing</em></td><td>canonicus</td><td>116</td></tr><tr><th>17</th><td><em>missing</em></td><td>ordinis Augustinensium</td><td>130</td></tr></tbody></table></div>"
      ],
      "text/latex": [
       "\\begin{tabular}{r|ccc}\n",
       "\t& altLabel\\_abk & Orde & id\\_order\\\\\n",
       "\t\\hline\n",
       "\t& String7? & String63 & Int64\\\\\n",
       "\t\\hline\n",
       "\t1 & OCarm & ordinis Carmelitarum & 3 \\\\\n",
       "\t2 & OCart & ordinis Carthusiensium & 4 \\\\\n",
       "\t3 & OCist & ordinis Cisterciensis & 5 \\\\\n",
       "\t4 & OESG & ordinis sancti Wilhelmi & 6 \\\\\n",
       "\t5 & OMel & ordinis sancti Johannis & 12 \\\\\n",
       "\t6 & OP & ordinis Predicatorum & 13 \\\\\n",
       "\t7 & OPraem & ordinis Premonstratencis & 14 \\\\\n",
       "\t8 & OSB & Benedictinorum ordinis & 16 \\\\\n",
       "\t9 & OSBirg & ordinis sancte Bregitte & 17 \\\\\n",
       "\t10 & OSC & ordinis Cruciferorum & 18 \\\\\n",
       "\t11 & OT & domus Teutonicalium & 22 \\\\\n",
       "\t12 & TOF & ordinis tercii & 24 \\\\\n",
       "\t13 & OSH & ordinis Sancti Jheronimi & 61 \\\\\n",
       "\t14 & \\emph{missing} & canonicus Regularis & 113 \\\\\n",
       "\t15 & \\emph{missing} & ordinis fratrum Minorum & 115 \\\\\n",
       "\t16 & \\emph{missing} & canonicus & 116 \\\\\n",
       "\t17 & \\emph{missing} & ordinis Augustinensium & 130 \\\\\n",
       "\\end{tabular}\n"
      ],
      "text/plain": [
       "\u001b[1m17×3 DataFrame\u001b[0m\n",
       "\u001b[1m Row \u001b[0m│\u001b[1m altLabel_abk \u001b[0m\u001b[1m Orde                     \u001b[0m\u001b[1m id_order \u001b[0m\n",
       "\u001b[1m     \u001b[0m│\u001b[90m String7?     \u001b[0m\u001b[90m String63                 \u001b[0m\u001b[90m Int64    \u001b[0m\n",
       "─────┼──────────────────────────────────────────────────\n",
       "   1 │ OCarm         ordinis Carmelitarum             3\n",
       "   2 │ OCart         ordinis Carthusiensium           4\n",
       "   3 │ OCist         ordinis Cisterciensis            5\n",
       "   4 │ OESG          ordinis sancti Wilhelmi          6\n",
       "   5 │ OMel          ordinis sancti Johannis         12\n",
       "   6 │ OP            ordinis Predicatorum            13\n",
       "   7 │ OPraem        ordinis Premonstratencis        14\n",
       "   8 │ OSB           Benedictinorum ordinis          16\n",
       "   9 │ OSBirg        ordinis sancte Bregitte         17\n",
       "  10 │ OSC           ordinis Cruciferorum            18\n",
       "  11 │ OT            domus Teutonicalium             22\n",
       "  12 │ TOF           ordinis tercii                  24\n",
       "  13 │ OSH           ordinis Sancti Jheronimi        61\n",
       "  14 │\u001b[90m missing      \u001b[0m canonicus Regularis            113\n",
       "  15 │\u001b[90m missing      \u001b[0m ordinis fratrum Minorum        115\n",
       "  16 │\u001b[90m missing      \u001b[0m canonicus                      116\n",
       "  17 │\u001b[90m missing      \u001b[0m ordinis Augustinensium         130"
      ]
     },
     "execution_count": 40,
     "metadata": {},
     "output_type": "execute_result"
    }
   ],
   "source": [
    "df_item_ro_in"
   ]
  },
  {
   "cell_type": "code",
   "execution_count": 26,
   "metadata": {},
   "outputs": [
    {
     "data": {
      "text/html": [
       "<div class=\"data-frame\"><p>8 rows × 3 columns</p><table class=\"data-frame\"><thead><tr><th></th><th>altLabel_abk</th><th>Orde</th><th>id_order</th></tr><tr><th></th><th title=\"Union{Missing, String7}\">String7?</th><th title=\"String63\">String63</th><th title=\"Int64\">Int64</th></tr></thead><tbody><tr><th>1</th><td>OESG</td><td>ordinis sancti Wilhelmi</td><td>6</td></tr><tr><th>2</th><td>OSBirg</td><td>ordinis sancte Bregitte</td><td>17</td></tr><tr><th>3</th><td>OSC</td><td>ordinis Cruciferorum</td><td>18</td></tr><tr><th>4</th><td>TOF</td><td>ordinis tercii</td><td>24</td></tr><tr><th>5</th><td><em>missing</em></td><td>canonicus Regularis</td><td>113</td></tr><tr><th>6</th><td><em>missing</em></td><td>ordinis fratrum Minorum</td><td>115</td></tr><tr><th>7</th><td><em>missing</em></td><td>canonicus</td><td>116</td></tr><tr><th>8</th><td><em>missing</em></td><td>ordinis Augustinensium</td><td>130</td></tr></tbody></table></div>"
      ],
      "text/latex": [
       "\\begin{tabular}{r|ccc}\n",
       "\t& altLabel\\_abk & Orde & id\\_order\\\\\n",
       "\t\\hline\n",
       "\t& String7? & String63 & Int64\\\\\n",
       "\t\\hline\n",
       "\t1 & OESG & ordinis sancti Wilhelmi & 6 \\\\\n",
       "\t2 & OSBirg & ordinis sancte Bregitte & 17 \\\\\n",
       "\t3 & OSC & ordinis Cruciferorum & 18 \\\\\n",
       "\t4 & TOF & ordinis tercii & 24 \\\\\n",
       "\t5 & \\emph{missing} & canonicus Regularis & 113 \\\\\n",
       "\t6 & \\emph{missing} & ordinis fratrum Minorum & 115 \\\\\n",
       "\t7 & \\emph{missing} & canonicus & 116 \\\\\n",
       "\t8 & \\emph{missing} & ordinis Augustinensium & 130 \\\\\n",
       "\\end{tabular}\n"
      ],
      "text/plain": [
       "\u001b[1m8×3 DataFrame\u001b[0m\n",
       "\u001b[1m Row \u001b[0m│\u001b[1m altLabel_abk \u001b[0m\u001b[1m Orde                    \u001b[0m\u001b[1m id_order \u001b[0m\n",
       "\u001b[1m     \u001b[0m│\u001b[90m String7?     \u001b[0m\u001b[90m String63                \u001b[0m\u001b[90m Int64    \u001b[0m\n",
       "─────┼─────────────────────────────────────────────────\n",
       "   1 │ OESG          ordinis sancti Wilhelmi         6\n",
       "   2 │ OSBirg        ordinis sancte Bregitte        17\n",
       "   3 │ OSC           ordinis Cruciferorum           18\n",
       "   4 │ TOF           ordinis tercii                 24\n",
       "   5 │\u001b[90m missing      \u001b[0m canonicus Regularis           113\n",
       "   6 │\u001b[90m missing      \u001b[0m ordinis fratrum Minorum       115\n",
       "   7 │\u001b[90m missing      \u001b[0m canonicus                     116\n",
       "   8 │\u001b[90m missing      \u001b[0m ordinis Augustinensium        130"
      ]
     },
     "execution_count": 26,
     "metadata": {},
     "output_type": "execute_result"
    }
   ],
   "source": [
    "df_item_ro_in = antijoin(df_item_ro_in, df_map, on = :id_order => :id_new)"
   ]
  },
  {
   "cell_type": "markdown",
   "metadata": {},
   "source": [
    "Einträge in `item`"
   ]
  },
  {
   "cell_type": "code",
   "execution_count": 28,
   "metadata": {},
   "outputs": [
    {
     "data": {
      "text/html": [
       "<div class=\"data-frame\"><p>0 rows × 0 columns</p><table class=\"data-frame\"><thead><tr><th></th></tr><tr><th></th></tr></thead><tbody></tbody></table></div>"
      ],
      "text/latex": [
       "\\begin{tabular}{r|}\n",
       "\t& \\\\\n",
       "\t\\hline\n",
       "\t& \\\\\n",
       "\t\\hline\n",
       "\\end{tabular}\n"
      ],
      "text/plain": [
       "\u001b[1m0×0 DataFrame\u001b[0m"
      ]
     },
     "execution_count": 28,
     "metadata": {},
     "output_type": "execute_result"
    }
   ],
   "source": [
    "df_item_ro = DataFrame()"
   ]
  },
  {
   "cell_type": "code",
   "execution_count": 29,
   "metadata": {},
   "outputs": [],
   "source": [
    "insertcols!(df_item_ro,\n",
    "    :item_type_id => 7,\n",
    "    :comment => \"import for Utrecht priests\",\n",
    "    :edit_status => \"import\",\n",
    "    :created_by => 7,\n",
    "    :date_created => now(),\n",
    "    :changed_by => 7,\n",
    "    :date_changed => now(),\n",
    "    :lang => \"de\",\n",
    "    :id_in_source => df_item_ro_in.id_order,\n",
    "    :is_online => 0,\n",
    ");"
   ]
  },
  {
   "cell_type": "code",
   "execution_count": 78,
   "metadata": {},
   "outputs": [
    {
     "data": {
      "text/plain": [
       "8"
      ]
     },
     "execution_count": 78,
     "metadata": {},
     "output_type": "execute_result"
    }
   ],
   "source": [
    "table_name = \"item\"\n",
    "file_name = joinpath(out_path, \"$(table_name)_religious_order.sql\")\n",
    "Wds.insert_sql(file_name, table_name, df_item_ro)"
   ]
  },
  {
   "cell_type": "markdown",
   "metadata": {},
   "source": [
    "``` sql\n",
    "source \"C:\\Users\\georg\\Documents\\projekte-doc\\Utrecht-Priester\\data_sql\\item_religious_order.sql\"\n",
    "```"
   ]
  },
  {
   "cell_type": "markdown",
   "metadata": {},
   "source": [
    "Eintrag in `religious_order`"
   ]
  },
  {
   "cell_type": "markdown",
   "metadata": {},
   "source": [
    "Lies aus `item` die Einträge für Orden aus einer Datei (aus der Datenbank auf vweb)  "
   ]
  },
  {
   "cell_type": "code",
   "execution_count": 13,
   "metadata": {},
   "outputs": [
    {
     "data": {
      "text/plain": [
       "7"
      ]
     },
     "execution_count": 13,
     "metadata": {},
     "output_type": "execute_result"
    }
   ],
   "source": [
    "item_type_id = 7"
   ]
  },
  {
   "cell_type": "code",
   "execution_count": 79,
   "metadata": {},
   "outputs": [],
   "source": [
    "file_name = joinpath(data_path, \"item_religious_order.csv\")\n",
    "df_item = CSV.read(file_name, DataFrame, delim=\";\");"
   ]
  },
  {
   "cell_type": "code",
   "execution_count": 46,
   "metadata": {},
   "outputs": [
    {
     "data": {
      "text/plain": [
       "(47476, 16)"
      ]
     },
     "execution_count": 46,
     "metadata": {},
     "output_type": "execute_result"
    }
   ],
   "source": [
    "size(df_item)"
   ]
  },
  {
   "cell_type": "code",
   "execution_count": 80,
   "metadata": {},
   "outputs": [],
   "source": [
    "df_item_religious_order = subset(df_item, :item_type_id => ByRow(isequal(item_type_id)))\n",
    "df_idx = select(df_item_religious_order, [:id, :id_in_source, :item_type_id]);"
   ]
  },
  {
   "cell_type": "markdown",
   "metadata": {},
   "source": [
    "Alternativ: Lies die Werte für `item.id` aus der lokalen Datenbank"
   ]
  },
  {
   "cell_type": "code",
   "execution_count": 14,
   "metadata": {},
   "outputs": [],
   "source": [
    "sql = \"SELECT id, id_in_source, item_type_id\n",
    "FROM item\n",
    "WHERE item_type_id = $(item_type_id)\";\n",
    "df_idx = Wds.sql_df(sql);"
   ]
  },
  {
   "cell_type": "code",
   "execution_count": 31,
   "metadata": {},
   "outputs": [],
   "source": [
    "transform!(df_item_ro_in, :id_order => ByRow(string) => :id_in_source);"
   ]
  },
  {
   "cell_type": "code",
   "execution_count": 32,
   "metadata": {},
   "outputs": [
    {
     "data": {
      "text/html": [
       "<div class=\"data-frame\"><p>8 rows × 6 columns</p><table class=\"data-frame\"><thead><tr><th></th><th>altLabel_abk</th><th>Orde</th><th>id_order</th><th>id_in_source</th><th>id</th><th>item_type_id</th></tr><tr><th></th><th title=\"Union{Missing, String7}\">String7?</th><th title=\"String63\">String63</th><th title=\"Int64\">Int64</th><th title=\"String\">String</th><th title=\"Int32\">Int32</th><th title=\"Int32\">Int32</th></tr></thead><tbody><tr><th>1</th><td>OESG</td><td>ordinis sancti Wilhelmi</td><td>6</td><td>6</td><td>176167</td><td>7</td></tr><tr><th>2</th><td>OSBirg</td><td>ordinis sancte Bregitte</td><td>17</td><td>17</td><td>176168</td><td>7</td></tr><tr><th>3</th><td>OSC</td><td>ordinis Cruciferorum</td><td>18</td><td>18</td><td>176169</td><td>7</td></tr><tr><th>4</th><td>TOF</td><td>ordinis tercii</td><td>24</td><td>24</td><td>176170</td><td>7</td></tr><tr><th>5</th><td><em>missing</em></td><td>canonicus Regularis</td><td>113</td><td>113</td><td>176171</td><td>7</td></tr><tr><th>6</th><td><em>missing</em></td><td>ordinis fratrum Minorum</td><td>115</td><td>115</td><td>176172</td><td>7</td></tr><tr><th>7</th><td><em>missing</em></td><td>canonicus</td><td>116</td><td>116</td><td>176173</td><td>7</td></tr><tr><th>8</th><td><em>missing</em></td><td>ordinis Augustinensium</td><td>130</td><td>130</td><td>176174</td><td>7</td></tr></tbody></table></div>"
      ],
      "text/latex": [
       "\\begin{tabular}{r|cccccc}\n",
       "\t& altLabel\\_abk & Orde & id\\_order & id\\_in\\_source & id & item\\_type\\_id\\\\\n",
       "\t\\hline\n",
       "\t& String7? & String63 & Int64 & String & Int32 & Int32\\\\\n",
       "\t\\hline\n",
       "\t1 & OESG & ordinis sancti Wilhelmi & 6 & 6 & 176167 & 7 \\\\\n",
       "\t2 & OSBirg & ordinis sancte Bregitte & 17 & 17 & 176168 & 7 \\\\\n",
       "\t3 & OSC & ordinis Cruciferorum & 18 & 18 & 176169 & 7 \\\\\n",
       "\t4 & TOF & ordinis tercii & 24 & 24 & 176170 & 7 \\\\\n",
       "\t5 & \\emph{missing} & canonicus Regularis & 113 & 113 & 176171 & 7 \\\\\n",
       "\t6 & \\emph{missing} & ordinis fratrum Minorum & 115 & 115 & 176172 & 7 \\\\\n",
       "\t7 & \\emph{missing} & canonicus & 116 & 116 & 176173 & 7 \\\\\n",
       "\t8 & \\emph{missing} & ordinis Augustinensium & 130 & 130 & 176174 & 7 \\\\\n",
       "\\end{tabular}\n"
      ],
      "text/plain": [
       "\u001b[1m8×6 DataFrame\u001b[0m\n",
       "\u001b[1m Row \u001b[0m│\u001b[1m altLabel_abk \u001b[0m\u001b[1m Orde                    \u001b[0m\u001b[1m id_order \u001b[0m\u001b[1m id_in_source \u001b[0m\u001b[1m id     \u001b[0m\u001b[1m \u001b[0m ⋯\n",
       "\u001b[1m     \u001b[0m│\u001b[90m String7?     \u001b[0m\u001b[90m String63                \u001b[0m\u001b[90m Int64    \u001b[0m\u001b[90m String       \u001b[0m\u001b[90m Int32  \u001b[0m\u001b[90m \u001b[0m ⋯\n",
       "─────┼──────────────────────────────────────────────────────────────────────────\n",
       "   1 │ OESG          ordinis sancti Wilhelmi         6  6             176167   ⋯\n",
       "   2 │ OSBirg        ordinis sancte Bregitte        17  17            176168\n",
       "   3 │ OSC           ordinis Cruciferorum           18  18            176169\n",
       "   4 │ TOF           ordinis tercii                 24  24            176170\n",
       "   5 │\u001b[90m missing      \u001b[0m canonicus Regularis           113  113           176171   ⋯\n",
       "   6 │\u001b[90m missing      \u001b[0m ordinis fratrum Minorum       115  115           176172\n",
       "   7 │\u001b[90m missing      \u001b[0m canonicus                     116  116           176173\n",
       "   8 │\u001b[90m missing      \u001b[0m ordinis Augustinensium        130  130           176174\n",
       "\u001b[36m                                                                1 column omitted\u001b[0m"
      ]
     },
     "execution_count": 32,
     "metadata": {},
     "output_type": "execute_result"
    }
   ],
   "source": [
    "df_ro_in = innerjoin(df_item_ro_in, df_idx, on = :id_in_source)"
   ]
  },
  {
   "cell_type": "code",
   "execution_count": 33,
   "metadata": {},
   "outputs": [
    {
     "data": {
      "text/plain": [
       "3-element Vector{Pair{Symbol, Symbol}}:\n",
       " :altLabel_abk => :abbreviation\n",
       "         :Orde => :comment\n",
       "           :id => :id"
      ]
     },
     "execution_count": 33,
     "metadata": {},
     "output_type": "execute_result"
    }
   ],
   "source": [
    "columns = [\n",
    "    :altLabel_abk => :abbreviation,\n",
    "    :Orde => :comment,\n",
    "    :id => :id,\n",
    "]"
   ]
  },
  {
   "cell_type": "code",
   "execution_count": 34,
   "metadata": {},
   "outputs": [
    {
     "data": {
      "text/plain": [
       "8"
      ]
     },
     "execution_count": 34,
     "metadata": {},
     "output_type": "execute_result"
    }
   ],
   "source": [
    "table_name = \"religious_order\"\n",
    "file_name = joinpath(out_path, \"$(table_name).sql\")\n",
    "Wds.insert_sql(file_name, table_name, select(df_ro_in, columns))"
   ]
  },
  {
   "cell_type": "code",
   "execution_count": null,
   "metadata": {},
   "outputs": [],
   "source": []
  },
  {
   "cell_type": "code",
   "execution_count": null,
   "metadata": {},
   "outputs": [],
   "source": []
  },
  {
   "cell_type": "code",
   "execution_count": null,
   "metadata": {},
   "outputs": [],
   "source": []
  }
 ],
 "metadata": {
  "kernelspec": {
   "display_name": "Julia 1.7.0",
   "language": "julia",
   "name": "julia-1.7"
  },
  "language_info": {
   "file_extension": ".jl",
   "mimetype": "application/julia",
   "name": "julia",
   "version": "1.7.0"
  }
 },
 "nbformat": 4,
 "nbformat_minor": 4
}
