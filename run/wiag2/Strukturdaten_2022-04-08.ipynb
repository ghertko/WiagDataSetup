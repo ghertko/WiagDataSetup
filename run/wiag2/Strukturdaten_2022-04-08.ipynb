{
 "cells": [
  {
   "cell_type": "markdown",
   "metadata": {},
   "source": [
    "# Wissensaggregator Mittelalter und frühe Neuzeit\n",
    "\n",
    "## Strukturdaten einlesen/aktualisieren"
   ]
  },
  {
   "cell_type": "markdown",
   "metadata": {},
   "source": [
    "Inhalt\n",
    "\n",
    "- [User anlegen](#User-anlegen)\n",
    "- [Typen anlegen](#Typen-anlegen)\n",
    "- [SKOS-Typen einlesen](#SKOS-Typen-einlesen)\n",
    "- [Länder einlesen](#Länder-einlesen)\n",
    "- [Verwaltungsebenen einlesen](#Verwaltungsebenen-einlesen)\n",
    "- [Orte aus GeoNames einlesen](#Orte-aus-GeoNames-einlesen)\n",
    "  - [Fremsprachliche Namen](#Fremdsprachliche-Namen)\n",
    "  - [Deutsche Namen eintragen](#Deutsche-Namen-eintragen)\n",
    "- [Quellen/Institutionen für externe IDs](#Quellen/Institutionen-für-externe-IDs)\n",
    "- [Quellen/Referenzen](#Quellen/Referenzen)\n",
    "- [Ämter](#Ämter)"
   ]
  },
  {
   "cell_type": "markdown",
   "metadata": {},
   "source": [
    "Die Funktionen, welche Daten laden und umwandeln sind im Modul `WiagDataSetup` enthalten. Dieses verwendet seinerseits folgende Module:\n",
    "\n",
    "- MySQL\n",
    "- DataFrames\n",
    "- JSON\n",
    "- Infiltrator\n",
    "\n",
    "Diese werden am besten vorab direkt in einem Julia-Terminal installiert.\n",
    "``` julia\n",
    "cd(\"C:\\\\Users\\\\Georg\\\\Documents\\\\projekte\\\\WiagDataSetup.jl\")\n",
    "Pkg.activate(\".\")\n",
    "Pkg.add(\"MySQL\")\n",
    "Pkg.add(\"DataFrames\")\n",
    "Pkg.add(\"JSON\")\n",
    "Pkg.add(\"Infiltrator\")\n",
    "```\n",
    "\n",
    "Pfad zum Modul `WiagDataSetup`"
   ]
  },
  {
   "cell_type": "code",
   "execution_count": 1,
   "metadata": {},
   "outputs": [
    {
     "data": {
      "text/plain": [
       "\"../..\""
      ]
     },
     "execution_count": 1,
     "metadata": {},
     "output_type": "execute_result"
    }
   ],
   "source": [
    "wds_path=\"../..\""
   ]
  },
  {
   "cell_type": "code",
   "execution_count": 2,
   "metadata": {},
   "outputs": [],
   "source": [
    "cd(wds_path)"
   ]
  },
  {
   "cell_type": "code",
   "execution_count": 3,
   "metadata": {},
   "outputs": [],
   "source": [
    "using Pkg"
   ]
  },
  {
   "cell_type": "code",
   "execution_count": 4,
   "metadata": {},
   "outputs": [
    {
     "name": "stderr",
     "output_type": "stream",
     "text": [
      "\u001b[32m\u001b[1m  Activating\u001b[22m\u001b[39m project at `C:\\Users\\georg\\Documents\\projekte\\WiagDataSetup.jl`\n"
     ]
    }
   ],
   "source": [
    "Pkg.activate(\".\")"
   ]
  },
  {
   "cell_type": "markdown",
   "metadata": {},
   "source": [
    "Nur für die Entwicklung des Moduls relevant."
   ]
  },
  {
   "cell_type": "code",
   "execution_count": 5,
   "metadata": {},
   "outputs": [],
   "source": [
    "using Revise"
   ]
  },
  {
   "cell_type": "markdown",
   "metadata": {},
   "source": [
    "Modul laden"
   ]
  },
  {
   "cell_type": "code",
   "execution_count": 6,
   "metadata": {},
   "outputs": [
    {
     "name": "stderr",
     "output_type": "stream",
     "text": [
      "┌ Info: Precompiling WiagDataSetup [522c5ebb-a018-4020-8ed4-420cb1a9f084]\n",
      "└ @ Base loading.jl:1423\n"
     ]
    },
    {
     "data": {
      "text/plain": [
       "WiagDataSetup"
      ]
     },
     "execution_count": 6,
     "metadata": {},
     "output_type": "execute_result"
    }
   ],
   "source": [
    "using WiagDataSetup; Wds=WiagDataSetup"
   ]
  },
  {
   "cell_type": "markdown",
   "metadata": {},
   "source": [
    "Verbinde die Datenbank.\n",
    "\n",
    "Im Verlauf der Einleseschritte kann die folgende Fehlermeldung erscheinen:\n",
    "*Commands out of sync; you can't run this command now*.\n",
    "In diesem Fall diesen Befehl nochmal absetzen."
   ]
  },
  {
   "cell_type": "code",
   "execution_count": 7,
   "metadata": {},
   "outputs": [
    {
     "name": "stdout",
     "output_type": "stream",
     "text": [
      "Passwort für User georg: ········\n"
     ]
    },
    {
     "data": {
      "text/plain": [
       "MySQL.Connection(host=\"127.0.0.1\", user=\"georg\", port=\"3306\", db=\"wiag2\")"
      ]
     },
     "execution_count": 7,
     "metadata": {},
     "output_type": "execute_result"
    }
   ],
   "source": [
    "Wds.setDBWIAG(user=\"georg\", db=\"wiag2\")"
   ]
  },
  {
   "cell_type": "markdown",
   "metadata": {},
   "source": [
    "Verzeichnis für Basisdaten, z.b. SKOS-Schemes, Länder"
   ]
  },
  {
   "cell_type": "code",
   "execution_count": 9,
   "metadata": {},
   "outputs": [
    {
     "data": {
      "text/plain": [
       "\"C:\\\\Users\\\\georg\\\\Documents\\\\projekte-doc\\\\WiagDataSetup\""
      ]
     },
     "execution_count": 9,
     "metadata": {},
     "output_type": "execute_result"
    }
   ],
   "source": [
    "data_path=\"C:\\\\Users\\\\georg\\\\Documents\\\\projekte-doc\\\\WiagDataSetup\""
   ]
  },
  {
   "cell_type": "markdown",
   "metadata": {},
   "source": [
    "## User anlegen"
   ]
  },
  {
   "cell_type": "code",
   "execution_count": 1,
   "metadata": {},
   "outputs": [],
   "source": [
    "using CSV, DataFrames"
   ]
  },
  {
   "cell_type": "code",
   "execution_count": 20,
   "metadata": {},
   "outputs": [
    {
     "data": {
      "text/plain": [
       "\"C:\\\\Users\\\\georg\\\\Documents\\\\projekte-doc\\\\WiagDataSetup\\\\csv\\\\user_wiag.csv\""
      ]
     },
     "execution_count": 20,
     "metadata": {},
     "output_type": "execute_result"
    }
   ],
   "source": [
    "user_file = joinpath(data_path, \"csv\", \"user_wiag.csv\")"
   ]
  },
  {
   "cell_type": "code",
   "execution_count": 37,
   "metadata": {
    "scrolled": true
   },
   "outputs": [
    {
     "data": {
      "text/html": [
       "<div class=\"data-frame\"><p>4 rows × 11 columns (omitted printing of 6 columns)</p><table class=\"data-frame\"><thead><tr><th></th><th>id</th><th>note</th><th>user_id</th><th>nickname</th><th>givenname</th></tr><tr><th></th><th title=\"Int64\">Int64</th><th title=\"Union{Missing, String}\">String?</th><th title=\"Union{Missing, Int64}\">Int64?</th><th title=\"String7\">String7</th><th title=\"Union{Missing, String15}\">String15?</th></tr></thead><tbody><tr><th>1</th><td>1</td><td>funktionaler User, z.B. für automatisierten Import</td><td><em>missing</em></td><td>wiag</td><td><em>missing</em></td></tr><tr><th>2</th><td>2</td><td><em>missing</em></td><td>11</td><td>bkroege</td><td>Bärbel</td></tr><tr><th>3</th><td>3</td><td><em>missing</em></td><td>12</td><td>cpopp</td><td>Christian</td></tr><tr><th>4</th><td>7</td><td><em>missing</em></td><td>13</td><td>ghertko</td><td>Georg</td></tr></tbody></table></div>"
      ],
      "text/latex": [
       "\\begin{tabular}{r|cccccc}\n",
       "\t& id & note & user\\_id & nickname & givenname & \\\\\n",
       "\t\\hline\n",
       "\t& Int64 & String? & Int64? & String7 & String15? & \\\\\n",
       "\t\\hline\n",
       "\t1 & 1 & funktionaler User, z.B. für automatisierten Import & \\emph{missing} & wiag & \\emph{missing} & $\\dots$ \\\\\n",
       "\t2 & 2 & \\emph{missing} & 11 & bkroege & Bärbel & $\\dots$ \\\\\n",
       "\t3 & 3 & \\emph{missing} & 12 & cpopp & Christian & $\\dots$ \\\\\n",
       "\t4 & 7 & \\emph{missing} & 13 & ghertko & Georg & $\\dots$ \\\\\n",
       "\\end{tabular}\n"
      ],
      "text/plain": [
       "\u001b[1m4×11 DataFrame\u001b[0m\n",
       "\u001b[1m Row \u001b[0m│\u001b[1m id    \u001b[0m\u001b[1m note                              \u001b[0m\u001b[1m user_id \u001b[0m\u001b[1m nickname \u001b[0m\u001b[1m givenname \u001b[0m\u001b[1m\u001b[0m ⋯\n",
       "\u001b[1m     \u001b[0m│\u001b[90m Int64 \u001b[0m\u001b[90m String?                           \u001b[0m\u001b[90m Int64?  \u001b[0m\u001b[90m String7  \u001b[0m\u001b[90m String15? \u001b[0m\u001b[90m\u001b[0m ⋯\n",
       "─────┼──────────────────────────────────────────────────────────────────────────\n",
       "   1 │     1  funktionaler User, z.B. für auto… \u001b[90m missing \u001b[0m wiag     \u001b[90m missing   \u001b[0m\u001b[90m\u001b[0m ⋯\n",
       "   2 │     2 \u001b[90m missing                           \u001b[0m      11  bkroege   Bärbel\n",
       "   3 │     3 \u001b[90m missing                           \u001b[0m      12  cpopp     Christian\n",
       "   4 │     7 \u001b[90m missing                           \u001b[0m      13  ghertko   Georg\n",
       "\u001b[36m                                                               6 columns omitted\u001b[0m"
      ]
     },
     "execution_count": 37,
     "metadata": {},
     "output_type": "execute_result"
    }
   ],
   "source": [
    "df_user = CSV.read(user_file, DataFrame)"
   ]
  },
  {
   "cell_type": "code",
   "execution_count": 38,
   "metadata": {},
   "outputs": [
    {
     "name": "stderr",
     "output_type": "stream",
     "text": [
      "┌ Info: Rows inserted: 4\n",
      "└ @ WiagDataSetup C:\\Users\\Georg\\Documents\\projekte\\WiagDataSetup.jl\\src\\WiagDataSetup.jl:1171\n"
     ]
    },
    {
     "data": {
      "text/plain": [
       "4"
      ]
     },
     "execution_count": 38,
     "metadata": {},
     "output_type": "execute_result"
    }
   ],
   "source": [
    "Wds.filltable!(\"user_wiag\", df_user; clear_table=true)"
   ]
  },
  {
   "cell_type": "markdown",
   "metadata": {},
   "source": [
    "## Typen anlegen\n",
    "\n",
    "Alle Entitäten/items werden einem Typ zugeordnet, z.B. Diözese, Bischof, Domherr, Domherr aus GS. Der Typ bestimmt in welcher Tabelle Daten zu der Entität abgelegt werden. Es kann aber durchaus sein, dass auch unterschiedliche Typen in einer Tabelle versammelt sind, z.B. Bischöfe und Domherren in `person`."
   ]
  },
  {
   "cell_type": "code",
   "execution_count": 9,
   "metadata": {},
   "outputs": [],
   "source": [
    "using CSV, DataFrames"
   ]
  },
  {
   "cell_type": "code",
   "execution_count": 10,
   "metadata": {},
   "outputs": [
    {
     "data": {
      "text/plain": [
       "\"C:\\\\Users\\\\georg\\\\Documents\\\\projekte-doc\\\\WiagDataSetup\\\\csv\\\\item_type.csv\""
      ]
     },
     "execution_count": 10,
     "metadata": {},
     "output_type": "execute_result"
    }
   ],
   "source": [
    "item_type_file = joinpath(data_path, \"csv\", \"item_type.csv\")"
   ]
  },
  {
   "cell_type": "code",
   "execution_count": 11,
   "metadata": {},
   "outputs": [
    {
     "data": {
      "text/html": [
       "<div class=\"data-frame\"><p>8 rows × 11 columns (omitted printing of 8 columns)</p><table class=\"data-frame\"><thead><tr><th></th><th>id</th><th>note</th><th>name</th></tr><tr><th></th><th title=\"Int64\">Int64</th><th title=\"Union{Missing, String}\">String?</th><th title=\"String15\">String15</th></tr></thead><tbody><tr><th>1</th><td>1</td><td>Diözese des Alten Reiches</td><td>Diözese</td></tr><tr><th>2</th><td>2</td><td><em>missing</em></td><td>Kloster</td></tr><tr><th>3</th><td>3</td><td><em>missing</em></td><td>Domstift</td></tr><tr><th>4</th><td>4</td><td>Bischof oder Patriarch des Alten Reiches</td><td>Bischof</td></tr><tr><th>5</th><td>5</td><td>Domherr des Alten Reiches</td><td>Domherr</td></tr><tr><th>6</th><td>6</td><td>Domherr des Alten Reiches aus der Personendatenbank der Germania Sacra</td><td>Domherr GS</td></tr><tr><th>7</th><td>7</td><td>religiöser Orden</td><td>Orden</td></tr><tr><th>8</th><td>8</td><td>Amt, Rolle</td><td>Amt</td></tr></tbody></table></div>"
      ],
      "text/latex": [
       "\\begin{tabular}{r|cccc}\n",
       "\t& id & note & name & \\\\\n",
       "\t\\hline\n",
       "\t& Int64 & String? & String15 & \\\\\n",
       "\t\\hline\n",
       "\t1 & 1 & Diözese des Alten Reiches & Diözese & $\\dots$ \\\\\n",
       "\t2 & 2 & \\emph{missing} & Kloster & $\\dots$ \\\\\n",
       "\t3 & 3 & \\emph{missing} & Domstift & $\\dots$ \\\\\n",
       "\t4 & 4 & Bischof oder Patriarch des Alten Reiches & Bischof & $\\dots$ \\\\\n",
       "\t5 & 5 & Domherr des Alten Reiches & Domherr & $\\dots$ \\\\\n",
       "\t6 & 6 & Domherr des Alten Reiches aus der Personendatenbank der Germania Sacra & Domherr GS & $\\dots$ \\\\\n",
       "\t7 & 7 & religiöser Orden & Orden & $\\dots$ \\\\\n",
       "\t8 & 8 & Amt, Rolle & Amt & $\\dots$ \\\\\n",
       "\\end{tabular}\n"
      ],
      "text/plain": [
       "\u001b[1m8×11 DataFrame\u001b[0m\n",
       "\u001b[1m Row \u001b[0m│\u001b[1m id    \u001b[0m\u001b[1m note                              \u001b[0m\u001b[1m name       \u001b[0m\n",
       "\u001b[1m     \u001b[0m│\u001b[90m Int64 \u001b[0m\u001b[90m String?                           \u001b[0m\u001b[90m String15   \u001b[0m\n",
       "─────┼──────────────────────────────────────────────────────────────────────────\n",
       "   1 │     1  Diözese des Alten Reiches          Diözese\n",
       "   2 │     2 \u001b[90m missing                           \u001b[0m Kloster\n",
       "   3 │     3 \u001b[90m missing                           \u001b[0m Domstift\n",
       "   4 │     4  Bischof oder Patriarch des Alten…  Bischof\n",
       "   5 │     5  Domherr des Alten Reiches          Domherr\n",
       "   6 │     6  Domherr des Alten Reiches aus de…  Domherr GS\n",
       "   7 │     7  religiöser Orden                   Orden\n",
       "   8 │     8  Amt, Rolle                         Amt\n",
       "\u001b[36m                                                               8 columns omitted\u001b[0m"
      ]
     },
     "execution_count": 11,
     "metadata": {},
     "output_type": "execute_result"
    }
   ],
   "source": [
    "df_item_type = CSV.read(item_type_file, DataFrame)"
   ]
  },
  {
   "cell_type": "code",
   "execution_count": 12,
   "metadata": {},
   "outputs": [
    {
     "name": "stderr",
     "output_type": "stream",
     "text": [
      "┌ Info: Rows inserted: 8\n",
      "└ @ WiagDataSetup C:\\Users\\Georg\\Documents\\projekte\\WiagDataSetup.jl\\src\\WiagDataSetup.jl:1184\n"
     ]
    },
    {
     "data": {
      "text/plain": [
       "8"
      ]
     },
     "execution_count": 12,
     "metadata": {},
     "output_type": "execute_result"
    }
   ],
   "source": [
    "Wds.filltable!(\"item_type\", df_item_type; clear_table=true)"
   ]
  },
  {
   "cell_type": "markdown",
   "metadata": {},
   "source": [
    "## SKOS Typen einlesen\n",
    "Für alle Entitäten, die einen SKOS-Typ besitzen, können SKOS-Beziehungen hinterlegt werden. Für diese Entitäten kann ein SKOS-Thesaurus aufgebaut werden und/oder es können Bezeichner *label* in verschiedenen Sprachen hinterlegt werden.\n",
    "\n",
    "Quelle: händisch erstellt"
   ]
  },
  {
   "cell_type": "code",
   "execution_count": 9,
   "metadata": {},
   "outputs": [],
   "source": [
    "using CSV, DataFrames"
   ]
  },
  {
   "cell_type": "code",
   "execution_count": 13,
   "metadata": {},
   "outputs": [
    {
     "data": {
      "text/plain": [
       "\"C:\\\\Users\\\\georg\\\\Documents\\\\projekte-doc\\\\WiagDataSetup\\\\csv\\\\skos_scheme.csv\""
      ]
     },
     "execution_count": 13,
     "metadata": {},
     "output_type": "execute_result"
    }
   ],
   "source": [
    "skos_scheme_file=joinpath(data_path, \"csv\", \"skos_scheme.csv\")"
   ]
  },
  {
   "cell_type": "code",
   "execution_count": 14,
   "metadata": {},
   "outputs": [
    {
     "data": {
      "text/html": [
       "<div class=\"data-frame\"><p>5 rows × 3 columns</p><table class=\"data-frame\"><thead><tr><th></th><th>id</th><th>note</th><th>name</th></tr><tr><th></th><th title=\"Int64\">Int64</th><th title=\"Union{Missing, String63}\">String63?</th><th title=\"String31\">String31</th></tr></thead><tbody><tr><th>1</th><td>1</td><td><em>missing</em></td><td>Diözese</td></tr><tr><th>2</th><td>2</td><td>kirchliche Ämter</td><td>Amt</td></tr><tr><th>3</th><td>3</td><td>religiöser Orden</td><td>Orden</td></tr><tr><th>4</th><td>4</td><td>z.B. Kloster, Domstift</td><td>Einrichtung</td></tr><tr><th>5</th><td>5</td><td>z.B. Bundesländer; genutzt für Übersetzungen</td><td>Verwaltungseinheit</td></tr></tbody></table></div>"
      ],
      "text/latex": [
       "\\begin{tabular}{r|ccc}\n",
       "\t& id & note & name\\\\\n",
       "\t\\hline\n",
       "\t& Int64 & String63? & String31\\\\\n",
       "\t\\hline\n",
       "\t1 & 1 & \\emph{missing} & Diözese \\\\\n",
       "\t2 & 2 & kirchliche Ämter & Amt \\\\\n",
       "\t3 & 3 & religiöser Orden & Orden \\\\\n",
       "\t4 & 4 & z.B. Kloster, Domstift & Einrichtung \\\\\n",
       "\t5 & 5 & z.B. Bundesländer; genutzt für Übersetzungen & Verwaltungseinheit \\\\\n",
       "\\end{tabular}\n"
      ],
      "text/plain": [
       "\u001b[1m5×3 DataFrame\u001b[0m\n",
       "\u001b[1m Row \u001b[0m│\u001b[1m id    \u001b[0m\u001b[1m note                              \u001b[0m\u001b[1m name               \u001b[0m\n",
       "\u001b[1m     \u001b[0m│\u001b[90m Int64 \u001b[0m\u001b[90m String63?                         \u001b[0m\u001b[90m String31           \u001b[0m\n",
       "─────┼──────────────────────────────────────────────────────────────\n",
       "   1 │     1 \u001b[90m missing                           \u001b[0m Diözese\n",
       "   2 │     2  kirchliche Ämter                   Amt\n",
       "   3 │     3  religiöser Orden                   Orden\n",
       "   4 │     4  z.B. Kloster, Domstift             Einrichtung\n",
       "   5 │     5  z.B. Bundesländer; genutzt für Ü…  Verwaltungseinheit"
      ]
     },
     "execution_count": 14,
     "metadata": {},
     "output_type": "execute_result"
    }
   ],
   "source": [
    "df_skos_scheme = CSV.read(skos_scheme_file, DataFrame)"
   ]
  },
  {
   "cell_type": "code",
   "execution_count": 15,
   "metadata": {
    "scrolled": true
   },
   "outputs": [
    {
     "name": "stderr",
     "output_type": "stream",
     "text": [
      "┌ Info: Rows inserted: 5\n",
      "└ @ WiagDataSetup C:\\Users\\Georg\\Documents\\projekte\\WiagDataSetup.jl\\src\\WiagDataSetup.jl:1171\n"
     ]
    },
    {
     "data": {
      "text/plain": [
       "5"
      ]
     },
     "execution_count": 15,
     "metadata": {},
     "output_type": "execute_result"
    }
   ],
   "source": [
    "Wds.filltable!(\"skos_scheme\", df_skos_scheme, clear_table = true)"
   ]
  },
  {
   "cell_type": "markdown",
   "metadata": {},
   "source": [
    "## Länder einlesen\n",
    "Die Quelle enthält im Wesentlichen Deutschland und seine Nachbarn. Die numerische ID ist der numerische ISO-Code.\n",
    "\n",
    "Quelle: https://download.geonames.org/export/dump/countryInfo.txt"
   ]
  },
  {
   "cell_type": "code",
   "execution_count": 14,
   "metadata": {},
   "outputs": [],
   "source": [
    "using CSV, MySQL, DataFrames"
   ]
  },
  {
   "cell_type": "code",
   "execution_count": 16,
   "metadata": {},
   "outputs": [
    {
     "data": {
      "text/plain": [
       "\"C:\\\\Users\\\\georg\\\\Documents\\\\projekte-doc\\\\WiagDataSetup\\\\GeoNames\\\\countryInfo.txt\""
      ]
     },
     "execution_count": 16,
     "metadata": {},
     "output_type": "execute_result"
    }
   ],
   "source": [
    "country_file=joinpath(data_path, \"GeoNames\", \"countryInfo.txt\")"
   ]
  },
  {
   "cell_type": "code",
   "execution_count": 17,
   "metadata": {},
   "outputs": [
    {
     "name": "stderr",
     "output_type": "stream",
     "text": [
      "┌ Warning: thread = 2 warning: only found 18 / 19 columns around data row: 276. Filling remaining columns with `missing`\n",
      "└ @ CSV C:\\Users\\georg\\.julia\\packages\\CSV\\b4GfC\\src\\file.jl:622\n",
      "┌ Warning: thread = 2 warning: only found 18 / 19 columns around data row: 276. Filling remaining columns with `missing`\n",
      "└ @ CSV C:\\Users\\georg\\.julia\\packages\\CSV\\b4GfC\\src\\file.jl:622\n"
     ]
    }
   ],
   "source": [
    "df_country = CSV.read(country_file, DataFrame);"
   ]
  },
  {
   "cell_type": "code",
   "execution_count": 18,
   "metadata": {},
   "outputs": [
    {
     "data": {
      "text/html": [
       "<div class=\"data-frame\"><p>5 rows × 19 columns (omitted printing of 13 columns)</p><table class=\"data-frame\"><thead><tr><th></th><th>ISO</th><th>ISO3</th><th>ISO-Numeric</th><th>fips</th><th>Country</th><th>Capital</th></tr><tr><th></th><th title=\"String3\">String3</th><th title=\"String3\">String3</th><th title=\"Int64\">Int64</th><th title=\"Union{Missing, String3}\">String3?</th><th title=\"String63\">String63</th><th title=\"Union{Missing, String31}\">String31?</th></tr></thead><tbody><tr><th>1</th><td>AD</td><td>AND</td><td>20</td><td>AN</td><td>Andorra</td><td>Andorra la Vella</td></tr><tr><th>2</th><td>AE</td><td>ARE</td><td>784</td><td>AE</td><td>United Arab Emirates</td><td>Abu Dhabi</td></tr><tr><th>3</th><td>AF</td><td>AFG</td><td>4</td><td>AF</td><td>Afghanistan</td><td>Kabul</td></tr><tr><th>4</th><td>AG</td><td>ATG</td><td>28</td><td>AC</td><td>Antigua and Barbuda</td><td>St. John&apos;s</td></tr><tr><th>5</th><td>AI</td><td>AIA</td><td>660</td><td>AV</td><td>Anguilla</td><td>The Valley</td></tr></tbody></table></div>"
      ],
      "text/latex": [
       "\\begin{tabular}{r|ccccccc}\n",
       "\t& ISO & ISO3 & ISO-Numeric & fips & Country & Capital & \\\\\n",
       "\t\\hline\n",
       "\t& String3 & String3 & Int64 & String3? & String63 & String31? & \\\\\n",
       "\t\\hline\n",
       "\t1 & AD & AND & 20 & AN & Andorra & Andorra la Vella & $\\dots$ \\\\\n",
       "\t2 & AE & ARE & 784 & AE & United Arab Emirates & Abu Dhabi & $\\dots$ \\\\\n",
       "\t3 & AF & AFG & 4 & AF & Afghanistan & Kabul & $\\dots$ \\\\\n",
       "\t4 & AG & ATG & 28 & AC & Antigua and Barbuda & St. John's & $\\dots$ \\\\\n",
       "\t5 & AI & AIA & 660 & AV & Anguilla & The Valley & $\\dots$ \\\\\n",
       "\\end{tabular}\n"
      ],
      "text/plain": [
       "\u001b[1m5×19 DataFrame\u001b[0m\n",
       "\u001b[1m Row \u001b[0m│\u001b[1m ISO     \u001b[0m\u001b[1m ISO3    \u001b[0m\u001b[1m ISO-Numeric \u001b[0m\u001b[1m fips     \u001b[0m\u001b[1m Country              \u001b[0m\u001b[1m Capital \u001b[0m ⋯\n",
       "\u001b[1m     \u001b[0m│\u001b[90m String3 \u001b[0m\u001b[90m String3 \u001b[0m\u001b[90m Int64       \u001b[0m\u001b[90m String3? \u001b[0m\u001b[90m String63             \u001b[0m\u001b[90m String31\u001b[0m ⋯\n",
       "─────┼──────────────────────────────────────────────────────────────────────────\n",
       "   1 │ AD       AND               20  AN        Andorra               Andorra  ⋯\n",
       "   2 │ AE       ARE              784  AE        United Arab Emirates  Abu Dhab\n",
       "   3 │ AF       AFG                4  AF        Afghanistan           Kabul\n",
       "   4 │ AG       ATG               28  AC        Antigua and Barbuda   St. John\n",
       "   5 │ AI       AIA              660  AV        Anguilla              The Vall ⋯\n",
       "\u001b[36m                                                              14 columns omitted\u001b[0m"
      ]
     },
     "execution_count": 18,
     "metadata": {},
     "output_type": "execute_result"
    }
   ],
   "source": [
    "first(df_country, 5)"
   ]
  },
  {
   "cell_type": "code",
   "execution_count": 32,
   "metadata": {},
   "outputs": [
    {
     "data": {
      "text/html": [
       "<div class=\"data-frame\"><p>6 rows × 2 columns</p><table class=\"data-frame\"><thead><tr><th></th><th>ISO-Numeric</th><th>Country</th></tr><tr><th></th><th title=\"Int64\">Int64</th><th title=\"String63\">String63</th></tr></thead><tbody><tr><th>1</th><td>175</td><td>Mayotte</td></tr><tr><th>2</th><td>710</td><td>South Africa</td></tr><tr><th>3</th><td>894</td><td>Zambia</td></tr><tr><th>4</th><td>716</td><td>Zimbabwe</td></tr><tr><th>5</th><td>891</td><td>Serbia and Montenegro</td></tr><tr><th>6</th><td>530</td><td>Netherlands Antilles</td></tr></tbody></table></div>"
      ],
      "text/latex": [
       "\\begin{tabular}{r|cc}\n",
       "\t& ISO-Numeric & Country\\\\\n",
       "\t\\hline\n",
       "\t& Int64 & String63\\\\\n",
       "\t\\hline\n",
       "\t1 & 175 & Mayotte \\\\\n",
       "\t2 & 710 & South Africa \\\\\n",
       "\t3 & 894 & Zambia \\\\\n",
       "\t4 & 716 & Zimbabwe \\\\\n",
       "\t5 & 891 & Serbia and Montenegro \\\\\n",
       "\t6 & 530 & Netherlands Antilles \\\\\n",
       "\\end{tabular}\n"
      ],
      "text/plain": [
       "\u001b[1m6×2 DataFrame\u001b[0m\n",
       "\u001b[1m Row \u001b[0m│\u001b[1m ISO-Numeric \u001b[0m\u001b[1m Country               \u001b[0m\n",
       "\u001b[1m     \u001b[0m│\u001b[90m Int64       \u001b[0m\u001b[90m String63              \u001b[0m\n",
       "─────┼────────────────────────────────────\n",
       "   1 │         175  Mayotte\n",
       "   2 │         710  South Africa\n",
       "   3 │         894  Zambia\n",
       "   4 │         716  Zimbabwe\n",
       "   5 │         891  Serbia and Montenegro\n",
       "   6 │         530  Netherlands Antilles"
      ]
     },
     "execution_count": 32,
     "metadata": {},
     "output_type": "execute_result"
    }
   ],
   "source": [
    "df_country[end-5:end, [Symbol(\"ISO-Numeric\"), :Country]]"
   ]
  },
  {
   "cell_type": "code",
   "execution_count": 30,
   "metadata": {},
   "outputs": [
    {
     "data": {
      "text/plain": [
       "4-element Vector{Pair{Symbol, Symbol}}:\n",
       " Symbol(\"ISO-Numeric\") => :id\n",
       "              :Country => :name\n",
       "                  :ISO => :country_code\n",
       "              :Capital => :capital"
      ]
     },
     "execution_count": 30,
     "metadata": {},
     "output_type": "execute_result"
    }
   ],
   "source": [
    "select_cols = [\n",
    "    Symbol(\"ISO-Numeric\") => :id,\n",
    "    :Country => :name,\n",
    "    :ISO => :country_code,\n",
    "    :Capital => :capital\n",
    "]"
   ]
  },
  {
   "cell_type": "code",
   "execution_count": 31,
   "metadata": {},
   "outputs": [],
   "source": [
    "df_country_db = select(df_country, select_cols...);"
   ]
  },
  {
   "cell_type": "code",
   "execution_count": 33,
   "metadata": {},
   "outputs": [
    {
     "name": "stderr",
     "output_type": "stream",
     "text": [
      "┌ Info: Rows inserted: 252\n",
      "└ @ WiagDataSetup C:\\Users\\Georg\\Documents\\projekte\\WiagDataSetup.jl\\src\\WiagDataSetup.jl:1171\n"
     ]
    },
    {
     "data": {
      "text/plain": [
       "252"
      ]
     },
     "execution_count": 33,
     "metadata": {},
     "output_type": "execute_result"
    }
   ],
   "source": [
    "Wds.filltable!(\"country\", df_country_db, clear_table = true)"
   ]
  },
  {
   "cell_type": "markdown",
   "metadata": {},
   "source": [
    "GeoNames-IDs ergänzen\n",
    "\n",
    "Quelle: `wiag_bundeslaender_normdaten_lhofman.xls` übertragen in `country.csv`"
   ]
  },
  {
   "cell_type": "code",
   "execution_count": 12,
   "metadata": {},
   "outputs": [],
   "source": [
    "using MySQL, DataFrames, CSV"
   ]
  },
  {
   "cell_type": "code",
   "execution_count": 11,
   "metadata": {},
   "outputs": [
    {
     "data": {
      "text/plain": [
       "\"C:\\\\Users\\\\georg\\\\Documents\\\\projekte-doc\\\\WiagDataSetup\\\\csv\\\\country.csv\""
      ]
     },
     "execution_count": 11,
     "metadata": {},
     "output_type": "execute_result"
    }
   ],
   "source": [
    "cy_file=joinpath(data_path, \"csv\", \"country.csv\")"
   ]
  },
  {
   "cell_type": "code",
   "execution_count": 17,
   "metadata": {},
   "outputs": [
    {
     "data": {
      "text/html": [
       "<div class=\"data-frame\"><p>13 rows × 7 columns</p><table class=\"data-frame\"><thead><tr><th></th><th>id</th><th>note</th><th>name</th><th>country_code</th><th>country_code_3</th><th>geonames_id</th><th>comment</th></tr><tr><th></th><th title=\"Int64\">Int64</th><th title=\"Missing\">Missing</th><th title=\"String15\">String15</th><th title=\"String3\">String3</th><th title=\"String3\">String3</th><th title=\"Int64\">Int64</th><th title=\"Missing\">Missing</th></tr></thead><tbody><tr><th>1</th><td>528</td><td><em>missing</em></td><td>Niederlande</td><td>NL</td><td>NLD</td><td>2750405</td><td><em>missing</em></td></tr><tr><th>2</th><td>56</td><td><em>missing</em></td><td>Belgien</td><td>BE</td><td>BEL</td><td>2802361</td><td><em>missing</em></td></tr><tr><th>3</th><td>250</td><td><em>missing</em></td><td>Frankreich</td><td>FR</td><td>FRA</td><td>3017382</td><td><em>missing</em></td></tr><tr><th>4</th><td>380</td><td><em>missing</em></td><td>Italien</td><td>IT</td><td>ITA</td><td>3175395</td><td><em>missing</em></td></tr><tr><th>5</th><td>756</td><td><em>missing</em></td><td>Schweiz</td><td>CH</td><td>CHE</td><td>2658434</td><td><em>missing</em></td></tr><tr><th>6</th><td>40</td><td><em>missing</em></td><td>Österreich</td><td>AT</td><td>AUT</td><td>2782113</td><td><em>missing</em></td></tr><tr><th>7</th><td>208</td><td><em>missing</em></td><td>Dänemark</td><td>DK</td><td>DNK</td><td>2623032</td><td><em>missing</em></td></tr><tr><th>8</th><td>616</td><td><em>missing</em></td><td>Polen</td><td>PL</td><td>POL</td><td>798544</td><td><em>missing</em></td></tr><tr><th>9</th><td>276</td><td><em>missing</em></td><td>Deutschland</td><td>DE</td><td>DEU</td><td>2921044</td><td><em>missing</em></td></tr><tr><th>10</th><td>442</td><td><em>missing</em></td><td>Luxemburg</td><td>LU</td><td>LUX</td><td>2960313</td><td><em>missing</em></td></tr><tr><th>11</th><td>203</td><td><em>missing</em></td><td>Tschechien</td><td>CZ</td><td>CZE</td><td>3077311</td><td><em>missing</em></td></tr><tr><th>12</th><td>438</td><td><em>missing</em></td><td>Liechtenstein</td><td>LI</td><td>LIE</td><td>3042058</td><td><em>missing</em></td></tr><tr><th>13</th><td>191</td><td><em>missing</em></td><td>Kroatien</td><td>HR</td><td>HRV</td><td>3202326</td><td><em>missing</em></td></tr></tbody></table></div>"
      ],
      "text/latex": [
       "\\begin{tabular}{r|ccccccc}\n",
       "\t& id & note & name & country\\_code & country\\_code\\_3 & geonames\\_id & comment\\\\\n",
       "\t\\hline\n",
       "\t& Int64 & Missing & String15 & String3 & String3 & Int64 & Missing\\\\\n",
       "\t\\hline\n",
       "\t1 & 528 & \\emph{missing} & Niederlande & NL & NLD & 2750405 & \\emph{missing} \\\\\n",
       "\t2 & 56 & \\emph{missing} & Belgien & BE & BEL & 2802361 & \\emph{missing} \\\\\n",
       "\t3 & 250 & \\emph{missing} & Frankreich & FR & FRA & 3017382 & \\emph{missing} \\\\\n",
       "\t4 & 380 & \\emph{missing} & Italien & IT & ITA & 3175395 & \\emph{missing} \\\\\n",
       "\t5 & 756 & \\emph{missing} & Schweiz & CH & CHE & 2658434 & \\emph{missing} \\\\\n",
       "\t6 & 40 & \\emph{missing} & Österreich & AT & AUT & 2782113 & \\emph{missing} \\\\\n",
       "\t7 & 208 & \\emph{missing} & Dänemark & DK & DNK & 2623032 & \\emph{missing} \\\\\n",
       "\t8 & 616 & \\emph{missing} & Polen & PL & POL & 798544 & \\emph{missing} \\\\\n",
       "\t9 & 276 & \\emph{missing} & Deutschland & DE & DEU & 2921044 & \\emph{missing} \\\\\n",
       "\t10 & 442 & \\emph{missing} & Luxemburg & LU & LUX & 2960313 & \\emph{missing} \\\\\n",
       "\t11 & 203 & \\emph{missing} & Tschechien & CZ & CZE & 3077311 & \\emph{missing} \\\\\n",
       "\t12 & 438 & \\emph{missing} & Liechtenstein & LI & LIE & 3042058 & \\emph{missing} \\\\\n",
       "\t13 & 191 & \\emph{missing} & Kroatien & HR & HRV & 3202326 & \\emph{missing} \\\\\n",
       "\\end{tabular}\n"
      ],
      "text/plain": [
       "\u001b[1m13×7 DataFrame\u001b[0m\n",
       "\u001b[1m Row \u001b[0m│\u001b[1m id    \u001b[0m\u001b[1m note    \u001b[0m\u001b[1m name          \u001b[0m\u001b[1m country_code \u001b[0m\u001b[1m country_code_3 \u001b[0m\u001b[1m geonames_i\u001b[0m ⋯\n",
       "\u001b[1m     \u001b[0m│\u001b[90m Int64 \u001b[0m\u001b[90m Missing \u001b[0m\u001b[90m String15      \u001b[0m\u001b[90m String3      \u001b[0m\u001b[90m String3        \u001b[0m\u001b[90m Int64     \u001b[0m ⋯\n",
       "─────┼──────────────────────────────────────────────────────────────────────────\n",
       "   1 │   528 \u001b[90m missing \u001b[0m Niederlande    NL            NLD                 275040 ⋯\n",
       "   2 │    56 \u001b[90m missing \u001b[0m Belgien        BE            BEL                 280236\n",
       "   3 │   250 \u001b[90m missing \u001b[0m Frankreich     FR            FRA                 301738\n",
       "   4 │   380 \u001b[90m missing \u001b[0m Italien        IT            ITA                 317539\n",
       "   5 │   756 \u001b[90m missing \u001b[0m Schweiz        CH            CHE                 265843 ⋯\n",
       "   6 │    40 \u001b[90m missing \u001b[0m Österreich     AT            AUT                 278211\n",
       "   7 │   208 \u001b[90m missing \u001b[0m Dänemark       DK            DNK                 262303\n",
       "   8 │   616 \u001b[90m missing \u001b[0m Polen          PL            POL                  79854\n",
       "   9 │   276 \u001b[90m missing \u001b[0m Deutschland    DE            DEU                 292104 ⋯\n",
       "  10 │   442 \u001b[90m missing \u001b[0m Luxemburg      LU            LUX                 296031\n",
       "  11 │   203 \u001b[90m missing \u001b[0m Tschechien     CZ            CZE                 307731\n",
       "  12 │   438 \u001b[90m missing \u001b[0m Liechtenstein  LI            LIE                 304205\n",
       "  13 │   191 \u001b[90m missing \u001b[0m Kroatien       HR            HRV                 320232 ⋯\n",
       "\u001b[36m                                                               2 columns omitted\u001b[0m"
      ]
     },
     "execution_count": 17,
     "metadata": {},
     "output_type": "execute_result"
    }
   ],
   "source": [
    "df_cy=CSV.read(cy_file, DataFrame)"
   ]
  },
  {
   "cell_type": "code",
   "execution_count": 21,
   "metadata": {},
   "outputs": [],
   "source": [
    "sql=\"DROP TABLE IF EXISTS country_gn_id\"\n",
    "DBInterface.execute(Wds.dbwiag, sql);"
   ]
  },
  {
   "cell_type": "code",
   "execution_count": 22,
   "metadata": {},
   "outputs": [],
   "source": [
    "sql=\"CREATE TEMPORARY TABLE country_gn_id (\" *\n",
    "\"id INT,\" *\n",
    "\"country_code VARCHAR(31),\" *\n",
    "\"country_code_3 VARCHAR(31),\" *\n",
    "\"geonames_id INT)\"\n",
    "DBInterface.execute(Wds.dbwiag, sql);"
   ]
  },
  {
   "cell_type": "code",
   "execution_count": 23,
   "metadata": {},
   "outputs": [
    {
     "name": "stderr",
     "output_type": "stream",
     "text": [
      "┌ Info: Rows inserted: 13\n",
      "└ @ WiagDataSetup C:\\Users\\Georg\\Documents\\projekte\\WiagDataSetup.jl\\src\\WiagDataSetup.jl:1171\n"
     ]
    },
    {
     "data": {
      "text/plain": [
       "13"
      ]
     },
     "execution_count": 23,
     "metadata": {},
     "output_type": "execute_result"
    }
   ],
   "source": [
    "Wds.filltable!(\"country_gn_id\", df_cy[!, [:id, :country_code, :country_code_3, :geonames_id]])"
   ]
  },
  {
   "cell_type": "code",
   "execution_count": 26,
   "metadata": {},
   "outputs": [],
   "source": [
    "sql=\"UPDATE country AS cy, (SELECT id, country_code, country_code_3, geonames_id FROM country_gn_id) as gn \" *\n",
    "\"SET cy.country_code_3 = gn.country_code_3, cy.geonames_id = gn.geonames_id \" *\n",
    "\"WHERE cy.id = gn.id\"\n",
    "DBInterface.execute(Wds.dbwiag, sql);"
   ]
  },
  {
   "cell_type": "markdown",
   "metadata": {},
   "source": [
    "externe IDs ergänzen"
   ]
  },
  {
   "cell_type": "code",
   "execution_count": 10,
   "metadata": {},
   "outputs": [
    {
     "data": {
      "text/plain": [
       "\"C:\\\\Users\\\\georg\\\\Documents\\\\projekte-doc\\\\WiagDataSetup\\\\csv\\\\country_id_external.csv\""
      ]
     },
     "execution_count": 10,
     "metadata": {},
     "output_type": "execute_result"
    }
   ],
   "source": [
    "cei_file=joinpath(data_path, \"csv\", \"country_id_external.csv\")"
   ]
  },
  {
   "cell_type": "code",
   "execution_count": 13,
   "metadata": {},
   "outputs": [],
   "source": [
    "df_cei=CSV.read(cei_file, DataFrame, types=[Int, String, String, String, Int, String]);"
   ]
  },
  {
   "cell_type": "code",
   "execution_count": 62,
   "metadata": {},
   "outputs": [
    {
     "data": {
      "text/plain": [
       "(18, 6)"
      ]
     },
     "execution_count": 62,
     "metadata": {},
     "output_type": "execute_result"
    }
   ],
   "source": [
    "size(df_cei)"
   ]
  },
  {
   "cell_type": "code",
   "execution_count": 14,
   "metadata": {},
   "outputs": [
    {
     "data": {
      "text/html": [
       "<div class=\"data-frame\"><p>7 rows × 6 columns</p><table class=\"data-frame\"><thead><tr><th></th><th>authority_id</th><th>note</th><th>country_name</th><th>value</th><th>geonames_id</th><th>comment</th></tr><tr><th></th><th title=\"Int64\">Int64</th><th title=\"Union{Missing, String}\">String?</th><th title=\"String\">String</th><th title=\"String\">String</th><th title=\"Int64\">Int64</th><th title=\"Union{Missing, String}\">String?</th></tr></thead><tbody><tr><th>1</th><td>1</td><td><em>missing</em></td><td>Niederlande</td><td>4042203-3</td><td>2750405</td><td><em>missing</em></td></tr><tr><th>2</th><td>1</td><td><em>missing</em></td><td>Belgien</td><td>4005406-8</td><td>2802361</td><td><em>missing</em></td></tr><tr><th>3</th><td>1</td><td><em>missing</em></td><td>Frankreich</td><td>4018145-5</td><td>3017382</td><td><em>missing</em></td></tr><tr><th>4</th><td>1</td><td><em>missing</em></td><td>Italien</td><td>4027833-5</td><td>3175395</td><td><em>missing</em></td></tr><tr><th>5</th><td>1</td><td><em>missing</em></td><td>Dänemark</td><td>4010877-6</td><td>2623032</td><td><em>missing</em></td></tr><tr><th>6</th><td>1</td><td><em>missing</em></td><td>Polen</td><td>4046496-9</td><td>798544</td><td><em>missing</em></td></tr><tr><th>7</th><td>1</td><td><em>missing</em></td><td>Deutschland</td><td>4011882-4</td><td>2921044</td><td><em>missing</em></td></tr></tbody></table></div>"
      ],
      "text/latex": [
       "\\begin{tabular}{r|cccccc}\n",
       "\t& authority\\_id & note & country\\_name & value & geonames\\_id & comment\\\\\n",
       "\t\\hline\n",
       "\t& Int64 & String? & String & String & Int64 & String?\\\\\n",
       "\t\\hline\n",
       "\t1 & 1 & \\emph{missing} & Niederlande & 4042203-3 & 2750405 & \\emph{missing} \\\\\n",
       "\t2 & 1 & \\emph{missing} & Belgien & 4005406-8 & 2802361 & \\emph{missing} \\\\\n",
       "\t3 & 1 & \\emph{missing} & Frankreich & 4018145-5 & 3017382 & \\emph{missing} \\\\\n",
       "\t4 & 1 & \\emph{missing} & Italien & 4027833-5 & 3175395 & \\emph{missing} \\\\\n",
       "\t5 & 1 & \\emph{missing} & Dänemark & 4010877-6 & 2623032 & \\emph{missing} \\\\\n",
       "\t6 & 1 & \\emph{missing} & Polen & 4046496-9 & 798544 & \\emph{missing} \\\\\n",
       "\t7 & 1 & \\emph{missing} & Deutschland & 4011882-4 & 2921044 & \\emph{missing} \\\\\n",
       "\\end{tabular}\n"
      ],
      "text/plain": [
       "\u001b[1m7×6 DataFrame\u001b[0m\n",
       "\u001b[1m Row \u001b[0m│\u001b[1m authority_id \u001b[0m\u001b[1m note    \u001b[0m\u001b[1m country_name \u001b[0m\u001b[1m value     \u001b[0m\u001b[1m geonames_id \u001b[0m\u001b[1m comment \u001b[0m\n",
       "\u001b[1m     \u001b[0m│\u001b[90m Int64        \u001b[0m\u001b[90m String? \u001b[0m\u001b[90m String       \u001b[0m\u001b[90m String    \u001b[0m\u001b[90m Int64       \u001b[0m\u001b[90m String? \u001b[0m\n",
       "─────┼──────────────────────────────────────────────────────────────────────\n",
       "   1 │            1 \u001b[90m missing \u001b[0m Niederlande   4042203-3      2750405 \u001b[90m missing \u001b[0m\n",
       "   2 │            1 \u001b[90m missing \u001b[0m Belgien       4005406-8      2802361 \u001b[90m missing \u001b[0m\n",
       "   3 │            1 \u001b[90m missing \u001b[0m Frankreich    4018145-5      3017382 \u001b[90m missing \u001b[0m\n",
       "   4 │            1 \u001b[90m missing \u001b[0m Italien       4027833-5      3175395 \u001b[90m missing \u001b[0m\n",
       "   5 │            1 \u001b[90m missing \u001b[0m Dänemark      4010877-6      2623032 \u001b[90m missing \u001b[0m\n",
       "   6 │            1 \u001b[90m missing \u001b[0m Polen         4046496-9       798544 \u001b[90m missing \u001b[0m\n",
       "   7 │            1 \u001b[90m missing \u001b[0m Deutschland   4011882-4      2921044 \u001b[90m missing \u001b[0m"
      ]
     },
     "execution_count": 14,
     "metadata": {},
     "output_type": "execute_result"
    }
   ],
   "source": [
    "df_cei[1:7, :]"
   ]
  },
  {
   "cell_type": "code",
   "execution_count": 66,
   "metadata": {},
   "outputs": [
    {
     "name": "stderr",
     "output_type": "stream",
     "text": [
      "┌ Info: Rows inserted: 18\n",
      "└ @ WiagDataSetup C:\\Users\\Georg\\Documents\\projekte\\WiagDataSetup.jl\\src\\WiagDataSetup.jl:1171\n"
     ]
    },
    {
     "data": {
      "text/plain": [
       "18"
      ]
     },
     "execution_count": 66,
     "metadata": {},
     "output_type": "execute_result"
    }
   ],
   "source": [
    "Wds.filltable!(\"place_id_external\", df_cei[!, [:geonames_id, :authority_id, :value]])"
   ]
  },
  {
   "cell_type": "markdown",
   "metadata": {},
   "source": [
    "externe IDs für Bundesländer ergänzen\n",
    "\n",
    "Quelle: Quelle: `wiag_bundeslaender_normdaten_lhofman.xls` übertragen in `country_level_1_id_external.csv`"
   ]
  },
  {
   "cell_type": "code",
   "execution_count": 33,
   "metadata": {},
   "outputs": [
    {
     "data": {
      "text/plain": [
       "\"C:\\\\Users\\\\georg\\\\Documents\\\\projekte-doc\\\\WiagDataSetup\\\\csv\\\\country_level_1_id_external.csv\""
      ]
     },
     "execution_count": 33,
     "metadata": {},
     "output_type": "execute_result"
    }
   ],
   "source": [
    "cei_l1_file=joinpath(data_path, \"csv\", \"country_level_1_id_external.csv\")"
   ]
  },
  {
   "cell_type": "code",
   "execution_count": 67,
   "metadata": {},
   "outputs": [],
   "source": [
    "df_cei_l1=CSV.read(cei_l1_file, DataFrame, types=[Int, String, String, String, Int, String]);"
   ]
  },
  {
   "cell_type": "code",
   "execution_count": 68,
   "metadata": {},
   "outputs": [
    {
     "data": {
      "text/html": [
       "<div class=\"data-frame\"><p>7 rows × 6 columns</p><table class=\"data-frame\"><thead><tr><th></th><th>authority_id</th><th>note</th><th>country_name</th><th>value</th><th>geonames_id</th><th>comment</th></tr><tr><th></th><th title=\"Int64\">Int64</th><th title=\"Union{Missing, String}\">String?</th><th title=\"String\">String</th><th title=\"String\">String</th><th title=\"Int64\">Int64</th><th title=\"Union{Missing, String}\">String?</th></tr></thead><tbody><tr><th>1</th><td>1</td><td><em>missing</em></td><td>Baden-Württemberg</td><td>4004176-1</td><td>2953481</td><td><em>missing</em></td></tr><tr><th>2</th><td>1</td><td><em>missing</em></td><td>Bayern</td><td>4005044-0</td><td>2951839</td><td><em>missing</em></td></tr><tr><th>3</th><td>1</td><td><em>missing</em></td><td>Berlin</td><td>4005728-8</td><td>2950157</td><td><em>missing</em></td></tr><tr><th>4</th><td>1</td><td><em>missing</em></td><td>Brandenburg</td><td>4007955-7</td><td>2945356</td><td><em>missing</em></td></tr><tr><th>5</th><td>1</td><td><em>missing</em></td><td>Bremen</td><td>4008135-7 </td><td>2944387</td><td><em>missing</em></td></tr><tr><th>6</th><td>1</td><td><em>missing</em></td><td>Hamburg</td><td>4023118-5</td><td>2911297</td><td><em>missing</em></td></tr><tr><th>7</th><td>1</td><td><em>missing</em></td><td>Hessen</td><td>4024729-6</td><td>2905330</td><td><em>missing</em></td></tr></tbody></table></div>"
      ],
      "text/latex": [
       "\\begin{tabular}{r|cccccc}\n",
       "\t& authority\\_id & note & country\\_name & value & geonames\\_id & comment\\\\\n",
       "\t\\hline\n",
       "\t& Int64 & String? & String & String & Int64 & String?\\\\\n",
       "\t\\hline\n",
       "\t1 & 1 & \\emph{missing} & Baden-Württemberg & 4004176-1 & 2953481 & \\emph{missing} \\\\\n",
       "\t2 & 1 & \\emph{missing} & Bayern & 4005044-0 & 2951839 & \\emph{missing} \\\\\n",
       "\t3 & 1 & \\emph{missing} & Berlin & 4005728-8 & 2950157 & \\emph{missing} \\\\\n",
       "\t4 & 1 & \\emph{missing} & Brandenburg & 4007955-7 & 2945356 & \\emph{missing} \\\\\n",
       "\t5 & 1 & \\emph{missing} & Bremen & 4008135-7  & 2944387 & \\emph{missing} \\\\\n",
       "\t6 & 1 & \\emph{missing} & Hamburg & 4023118-5 & 2911297 & \\emph{missing} \\\\\n",
       "\t7 & 1 & \\emph{missing} & Hessen & 4024729-6 & 2905330 & \\emph{missing} \\\\\n",
       "\\end{tabular}\n"
      ],
      "text/plain": [
       "\u001b[1m7×6 DataFrame\u001b[0m\n",
       "\u001b[1m Row \u001b[0m│\u001b[1m authority_id \u001b[0m\u001b[1m note    \u001b[0m\u001b[1m country_name      \u001b[0m\u001b[1m value      \u001b[0m\u001b[1m geonames_id \u001b[0m\u001b[1m comm\u001b[0m ⋯\n",
       "\u001b[1m     \u001b[0m│\u001b[90m Int64        \u001b[0m\u001b[90m String? \u001b[0m\u001b[90m String            \u001b[0m\u001b[90m String     \u001b[0m\u001b[90m Int64       \u001b[0m\u001b[90m Stri\u001b[0m ⋯\n",
       "─────┼──────────────────────────────────────────────────────────────────────────\n",
       "   1 │            1 \u001b[90m missing \u001b[0m Baden-Württemberg  4004176-1       2953481 \u001b[90m miss\u001b[0m ⋯\n",
       "   2 │            1 \u001b[90m missing \u001b[0m Bayern             4005044-0       2951839 \u001b[90m miss\u001b[0m\n",
       "   3 │            1 \u001b[90m missing \u001b[0m Berlin             4005728-8       2950157 \u001b[90m miss\u001b[0m\n",
       "   4 │            1 \u001b[90m missing \u001b[0m Brandenburg        4007955-7       2945356 \u001b[90m miss\u001b[0m\n",
       "   5 │            1 \u001b[90m missing \u001b[0m Bremen             4008135-7       2944387 \u001b[90m miss\u001b[0m ⋯\n",
       "   6 │            1 \u001b[90m missing \u001b[0m Hamburg            4023118-5       2911297 \u001b[90m miss\u001b[0m\n",
       "   7 │            1 \u001b[90m missing \u001b[0m Hessen             4024729-6       2905330 \u001b[90m miss\u001b[0m\n",
       "\u001b[36m                                                                1 column omitted\u001b[0m"
      ]
     },
     "execution_count": 68,
     "metadata": {},
     "output_type": "execute_result"
    }
   ],
   "source": [
    "df_cei_l1[1:7, :]"
   ]
  },
  {
   "cell_type": "code",
   "execution_count": 69,
   "metadata": {},
   "outputs": [
    {
     "name": "stderr",
     "output_type": "stream",
     "text": [
      "┌ Info: Rows inserted: 32\n",
      "└ @ WiagDataSetup C:\\Users\\Georg\\Documents\\projekte\\WiagDataSetup.jl\\src\\WiagDataSetup.jl:1171\n"
     ]
    },
    {
     "data": {
      "text/plain": [
       "32"
      ]
     },
     "execution_count": 69,
     "metadata": {},
     "output_type": "execute_result"
    }
   ],
   "source": [
    "Wds.filltable!(\"place_id_external\", df_cei_l1[!, [:geonames_id, :authority_id, :value]])"
   ]
  },
  {
   "cell_type": "markdown",
   "metadata": {},
   "source": [
    "Kontrolle\n",
    "\n",
    "``` sql\n",
    "SELECT name, country_code, authority_id, value \n",
    "FROM place_id_external AS pei\n",
    "JOIN country_level_1 AS cl1 ON pei.geonames_id = cl1.geonames_id;\n",
    "```"
   ]
  },
  {
   "cell_type": "markdown",
   "metadata": {},
   "source": [
    "Es fehlen Hamburg, Bremen"
   ]
  },
  {
   "cell_type": "markdown",
   "metadata": {},
   "source": [
    "## Verwaltungsebenen einlesen\n",
    "Die Quelle enthält die oberste Verwaltungsebene nach dem Land selbst, also für Deutschland die Bundesländer, für Frankreich die Regionen. Die Quelle umfasst alle Daten in GeoNames und wird daher gefiltert."
   ]
  },
  {
   "cell_type": "code",
   "execution_count": 381,
   "metadata": {},
   "outputs": [],
   "source": [
    "using DataFrames; using CSV"
   ]
  },
  {
   "cell_type": "code",
   "execution_count": 382,
   "metadata": {},
   "outputs": [
    {
     "data": {
      "text/plain": [
       "\"C:\\\\Users\\\\georg\\\\Documents\\\\projekte-doc\\\\WiagDataSetup\\\\Geonames\\\\admin1CodesASCII.txt\""
      ]
     },
     "execution_count": 382,
     "metadata": {},
     "output_type": "execute_result"
    }
   ],
   "source": [
    "cl1_file=joinpath(data_path, \"Geonames\", \"admin1CodesASCII.txt\")"
   ]
  },
  {
   "cell_type": "code",
   "execution_count": 383,
   "metadata": {},
   "outputs": [],
   "source": [
    "df_cl1=CSV.read(cl1_file, DataFrame, header=[\"code\", \"name\", \"ascii_name\", \"geonames_id\"]);"
   ]
  },
  {
   "cell_type": "code",
   "execution_count": 384,
   "metadata": {},
   "outputs": [
    {
     "data": {
      "text/html": [
       "<div class=\"data-frame\"><p>7 rows × 4 columns</p><table class=\"data-frame\"><thead><tr><th></th><th>code</th><th>name</th><th>ascii_name</th><th>geonames_id</th></tr><tr><th></th><th title=\"String15\">String15</th><th title=\"String63\">String63</th><th title=\"String63\">String63</th><th title=\"Int64\">Int64</th></tr></thead><tbody><tr><th>1</th><td>AD.06</td><td>Sant Julià de Loria</td><td>Sant Julia de Loria</td><td>3039162</td></tr><tr><th>2</th><td>AD.05</td><td>Ordino</td><td>Ordino</td><td>3039676</td></tr><tr><th>3</th><td>AD.04</td><td>La Massana</td><td>La Massana</td><td>3040131</td></tr><tr><th>4</th><td>AD.03</td><td>Encamp</td><td>Encamp</td><td>3040684</td></tr><tr><th>5</th><td>AD.02</td><td>Canillo</td><td>Canillo</td><td>3041203</td></tr><tr><th>6</th><td>AD.07</td><td>Andorra la Vella</td><td>Andorra la Vella</td><td>3041566</td></tr><tr><th>7</th><td>AD.08</td><td>Escaldes-Engordany</td><td>Escaldes-Engordany</td><td>3338529</td></tr></tbody></table></div>"
      ],
      "text/latex": [
       "\\begin{tabular}{r|cccc}\n",
       "\t& code & name & ascii\\_name & geonames\\_id\\\\\n",
       "\t\\hline\n",
       "\t& String15 & String63 & String63 & Int64\\\\\n",
       "\t\\hline\n",
       "\t1 & AD.06 & Sant Julià de Loria & Sant Julia de Loria & 3039162 \\\\\n",
       "\t2 & AD.05 & Ordino & Ordino & 3039676 \\\\\n",
       "\t3 & AD.04 & La Massana & La Massana & 3040131 \\\\\n",
       "\t4 & AD.03 & Encamp & Encamp & 3040684 \\\\\n",
       "\t5 & AD.02 & Canillo & Canillo & 3041203 \\\\\n",
       "\t6 & AD.07 & Andorra la Vella & Andorra la Vella & 3041566 \\\\\n",
       "\t7 & AD.08 & Escaldes-Engordany & Escaldes-Engordany & 3338529 \\\\\n",
       "\\end{tabular}\n"
      ],
      "text/plain": [
       "\u001b[1m7×4 DataFrame\u001b[0m\n",
       "\u001b[1m Row \u001b[0m│\u001b[1m code     \u001b[0m\u001b[1m name                \u001b[0m\u001b[1m ascii_name          \u001b[0m\u001b[1m geonames_id \u001b[0m\n",
       "\u001b[1m     \u001b[0m│\u001b[90m String15 \u001b[0m\u001b[90m String63            \u001b[0m\u001b[90m String63            \u001b[0m\u001b[90m Int64       \u001b[0m\n",
       "─────┼─────────────────────────────────────────────────────────────────\n",
       "   1 │ AD.06     Sant Julià de Loria  Sant Julia de Loria      3039162\n",
       "   2 │ AD.05     Ordino               Ordino                   3039676\n",
       "   3 │ AD.04     La Massana           La Massana               3040131\n",
       "   4 │ AD.03     Encamp               Encamp                   3040684\n",
       "   5 │ AD.02     Canillo              Canillo                  3041203\n",
       "   6 │ AD.07     Andorra la Vella     Andorra la Vella         3041566\n",
       "   7 │ AD.08     Escaldes-Engordany   Escaldes-Engordany       3338529"
      ]
     },
     "execution_count": 384,
     "metadata": {},
     "output_type": "execute_result"
    }
   ],
   "source": [
    "first(df_cl1, 7)"
   ]
  },
  {
   "cell_type": "markdown",
   "metadata": {},
   "source": [
    "Länder Code extrahieren"
   ]
  },
  {
   "cell_type": "code",
   "execution_count": 385,
   "metadata": {},
   "outputs": [
    {
     "data": {
      "text/plain": [
       "get_country_code (generic function with 1 method)"
      ]
     },
     "execution_count": 385,
     "metadata": {},
     "output_type": "execute_result"
    }
   ],
   "source": [
    "get_country_code(code)=split(code::AbstractString, \".\")[1]"
   ]
  },
  {
   "cell_type": "code",
   "execution_count": 386,
   "metadata": {},
   "outputs": [],
   "source": [
    "df_cl1[!, :country_code] .= get_country_code.(df_cl1[!, :code]);"
   ]
  },
  {
   "cell_type": "code",
   "execution_count": 387,
   "metadata": {},
   "outputs": [
    {
     "data": {
      "text/html": [
       "<div class=\"data-frame\"><p>7 rows × 5 columns</p><table class=\"data-frame\"><thead><tr><th></th><th>code</th><th>name</th><th>ascii_name</th><th>geonames_id</th><th>country_code</th></tr><tr><th></th><th title=\"String15\">String15</th><th title=\"String63\">String63</th><th title=\"String63\">String63</th><th title=\"Int64\">Int64</th><th title=\"SubString{String15}\">SubStri…</th></tr></thead><tbody><tr><th>1</th><td>AD.06</td><td>Sant Julià de Loria</td><td>Sant Julia de Loria</td><td>3039162</td><td>AD</td></tr><tr><th>2</th><td>AD.05</td><td>Ordino</td><td>Ordino</td><td>3039676</td><td>AD</td></tr><tr><th>3</th><td>AD.04</td><td>La Massana</td><td>La Massana</td><td>3040131</td><td>AD</td></tr><tr><th>4</th><td>AD.03</td><td>Encamp</td><td>Encamp</td><td>3040684</td><td>AD</td></tr><tr><th>5</th><td>AD.02</td><td>Canillo</td><td>Canillo</td><td>3041203</td><td>AD</td></tr><tr><th>6</th><td>AD.07</td><td>Andorra la Vella</td><td>Andorra la Vella</td><td>3041566</td><td>AD</td></tr><tr><th>7</th><td>AD.08</td><td>Escaldes-Engordany</td><td>Escaldes-Engordany</td><td>3338529</td><td>AD</td></tr></tbody></table></div>"
      ],
      "text/latex": [
       "\\begin{tabular}{r|ccccc}\n",
       "\t& code & name & ascii\\_name & geonames\\_id & country\\_code\\\\\n",
       "\t\\hline\n",
       "\t& String15 & String63 & String63 & Int64 & SubStri…\\\\\n",
       "\t\\hline\n",
       "\t1 & AD.06 & Sant Julià de Loria & Sant Julia de Loria & 3039162 & AD \\\\\n",
       "\t2 & AD.05 & Ordino & Ordino & 3039676 & AD \\\\\n",
       "\t3 & AD.04 & La Massana & La Massana & 3040131 & AD \\\\\n",
       "\t4 & AD.03 & Encamp & Encamp & 3040684 & AD \\\\\n",
       "\t5 & AD.02 & Canillo & Canillo & 3041203 & AD \\\\\n",
       "\t6 & AD.07 & Andorra la Vella & Andorra la Vella & 3041566 & AD \\\\\n",
       "\t7 & AD.08 & Escaldes-Engordany & Escaldes-Engordany & 3338529 & AD \\\\\n",
       "\\end{tabular}\n"
      ],
      "text/plain": [
       "\u001b[1m7×5 DataFrame\u001b[0m\n",
       "\u001b[1m Row \u001b[0m│\u001b[1m code     \u001b[0m\u001b[1m name                \u001b[0m\u001b[1m ascii_name          \u001b[0m\u001b[1m geonames_id \u001b[0m\u001b[1m countr\u001b[0m ⋯\n",
       "\u001b[1m     \u001b[0m│\u001b[90m String15 \u001b[0m\u001b[90m String63            \u001b[0m\u001b[90m String63            \u001b[0m\u001b[90m Int64       \u001b[0m\u001b[90m SubStr\u001b[0m ⋯\n",
       "─────┼──────────────────────────────────────────────────────────────────────────\n",
       "   1 │ AD.06     Sant Julià de Loria  Sant Julia de Loria      3039162  AD     ⋯\n",
       "   2 │ AD.05     Ordino               Ordino                   3039676  AD\n",
       "   3 │ AD.04     La Massana           La Massana               3040131  AD\n",
       "   4 │ AD.03     Encamp               Encamp                   3040684  AD\n",
       "   5 │ AD.02     Canillo              Canillo                  3041203  AD     ⋯\n",
       "   6 │ AD.07     Andorra la Vella     Andorra la Vella         3041566  AD\n",
       "   7 │ AD.08     Escaldes-Engordany   Escaldes-Engordany       3338529  AD\n",
       "\u001b[36m                                                                1 column omitted\u001b[0m"
      ]
     },
     "execution_count": 387,
     "metadata": {},
     "output_type": "execute_result"
    }
   ],
   "source": [
    "first(df_cl1, 7)"
   ]
  },
  {
   "cell_type": "markdown",
   "metadata": {},
   "source": [
    "Code der Verwaltungsebene extrahieren"
   ]
  },
  {
   "cell_type": "code",
   "execution_count": 388,
   "metadata": {},
   "outputs": [
    {
     "data": {
      "text/plain": [
       "get_admin1_code (generic function with 1 method)"
      ]
     },
     "execution_count": 388,
     "metadata": {},
     "output_type": "execute_result"
    }
   ],
   "source": [
    "get_admin1_code(code)=split(code::AbstractString, \".\")[2]"
   ]
  },
  {
   "cell_type": "code",
   "execution_count": 389,
   "metadata": {},
   "outputs": [],
   "source": [
    "df_cl1[!, :admin1_code] .= get_admin1_code.(df_cl1[!, :code]);"
   ]
  },
  {
   "cell_type": "markdown",
   "metadata": {},
   "source": [
    "Länder auslesen"
   ]
  },
  {
   "cell_type": "code",
   "execution_count": 390,
   "metadata": {},
   "outputs": [],
   "source": [
    "using MySQL"
   ]
  },
  {
   "cell_type": "code",
   "execution_count": 400,
   "metadata": {},
   "outputs": [],
   "source": [
    "sql = \"SELECT id as country_id, country_code FROM country \" * \n",
    "\"WHERE country_code in (SELECT distinct(country_code) FROM place)\"\n",
    "df_country_m = DBInterface.execute(Wds.dbwiag, sql) |> DataFrame;"
   ]
  },
  {
   "cell_type": "code",
   "execution_count": 404,
   "metadata": {},
   "outputs": [
    {
     "data": {
      "text/html": [
       "<div class=\"data-frame\"><p>16 rows × 2 columns</p><table class=\"data-frame\"><thead><tr><th></th><th>country_id</th><th>country_code</th></tr><tr><th></th><th title=\"Int32\">Int32</th><th title=\"Union{Missing, String}\">String?</th></tr></thead><tbody><tr><th>1</th><td>40</td><td>AT</td></tr><tr><th>2</th><td>56</td><td>BE</td></tr><tr><th>3</th><td>191</td><td>HR</td></tr><tr><th>4</th><td>203</td><td>CZ</td></tr><tr><th>5</th><td>208</td><td>DK</td></tr><tr><th>6</th><td>233</td><td>EE</td></tr><tr><th>7</th><td>250</td><td>FR</td></tr><tr><th>8</th><td>276</td><td>DE</td></tr><tr><th>9</th><td>380</td><td>IT</td></tr><tr><th>10</th><td>428</td><td>LV</td></tr><tr><th>11</th><td>438</td><td>LI</td></tr><tr><th>12</th><td>440</td><td>LT</td></tr><tr><th>13</th><td>442</td><td>LU</td></tr><tr><th>14</th><td>528</td><td>NL</td></tr><tr><th>15</th><td>616</td><td>PL</td></tr><tr><th>16</th><td>756</td><td>CH</td></tr></tbody></table></div>"
      ],
      "text/latex": [
       "\\begin{tabular}{r|cc}\n",
       "\t& country\\_id & country\\_code\\\\\n",
       "\t\\hline\n",
       "\t& Int32 & String?\\\\\n",
       "\t\\hline\n",
       "\t1 & 40 & AT \\\\\n",
       "\t2 & 56 & BE \\\\\n",
       "\t3 & 191 & HR \\\\\n",
       "\t4 & 203 & CZ \\\\\n",
       "\t5 & 208 & DK \\\\\n",
       "\t6 & 233 & EE \\\\\n",
       "\t7 & 250 & FR \\\\\n",
       "\t8 & 276 & DE \\\\\n",
       "\t9 & 380 & IT \\\\\n",
       "\t10 & 428 & LV \\\\\n",
       "\t11 & 438 & LI \\\\\n",
       "\t12 & 440 & LT \\\\\n",
       "\t13 & 442 & LU \\\\\n",
       "\t14 & 528 & NL \\\\\n",
       "\t15 & 616 & PL \\\\\n",
       "\t16 & 756 & CH \\\\\n",
       "\\end{tabular}\n"
      ],
      "text/plain": [
       "\u001b[1m16×2 DataFrame\u001b[0m\n",
       "\u001b[1m Row \u001b[0m│\u001b[1m country_id \u001b[0m\u001b[1m country_code \u001b[0m\n",
       "\u001b[1m     \u001b[0m│\u001b[90m Int32      \u001b[0m\u001b[90m String?      \u001b[0m\n",
       "─────┼──────────────────────────\n",
       "   1 │         40  AT\n",
       "   2 │         56  BE\n",
       "   3 │        191  HR\n",
       "   4 │        203  CZ\n",
       "   5 │        208  DK\n",
       "   6 │        233  EE\n",
       "   7 │        250  FR\n",
       "   8 │        276  DE\n",
       "   9 │        380  IT\n",
       "  10 │        428  LV\n",
       "  11 │        438  LI\n",
       "  12 │        440  LT\n",
       "  13 │        442  LU\n",
       "  14 │        528  NL\n",
       "  15 │        616  PL\n",
       "  16 │        756  CH"
      ]
     },
     "execution_count": 404,
     "metadata": {},
     "output_type": "execute_result"
    }
   ],
   "source": [
    "delete!(df_country_m, 16)"
   ]
  },
  {
   "cell_type": "code",
   "execution_count": 405,
   "metadata": {},
   "outputs": [],
   "source": [
    "df_ccl1 = leftjoin(df_country_m, df_cl1, on = :country_code);"
   ]
  },
  {
   "cell_type": "markdown",
   "metadata": {},
   "source": [
    "Index ergänzen"
   ]
  },
  {
   "cell_type": "code",
   "execution_count": 406,
   "metadata": {},
   "outputs": [],
   "source": [
    "df_ccl1[!, :id] .= 1:size(df_ccl1, 1);"
   ]
  },
  {
   "cell_type": "code",
   "execution_count": 407,
   "metadata": {},
   "outputs": [
    {
     "data": {
      "text/html": [
       "<div class=\"data-frame\"><p>5 rows × 4 columns</p><table class=\"data-frame\"><thead><tr><th></th><th>id</th><th>country_id</th><th>country_code</th><th>name</th></tr><tr><th></th><th title=\"Int64\">Int64</th><th title=\"Int32\">Int32</th><th title=\"Union{Missing, String}\">String?</th><th title=\"Union{Missing, String63}\">String63?</th></tr></thead><tbody><tr><th>1</th><td>1</td><td>40</td><td>AT</td><td>Vienna</td></tr><tr><th>2</th><td>2</td><td>40</td><td>AT</td><td>Vorarlberg</td></tr><tr><th>3</th><td>3</td><td>40</td><td>AT</td><td>Tyrol</td></tr><tr><th>4</th><td>4</td><td>40</td><td>AT</td><td>Styria</td></tr><tr><th>5</th><td>5</td><td>40</td><td>AT</td><td>Salzburg</td></tr></tbody></table></div>"
      ],
      "text/latex": [
       "\\begin{tabular}{r|cccc}\n",
       "\t& id & country\\_id & country\\_code & name\\\\\n",
       "\t\\hline\n",
       "\t& Int64 & Int32 & String? & String63?\\\\\n",
       "\t\\hline\n",
       "\t1 & 1 & 40 & AT & Vienna \\\\\n",
       "\t2 & 2 & 40 & AT & Vorarlberg \\\\\n",
       "\t3 & 3 & 40 & AT & Tyrol \\\\\n",
       "\t4 & 4 & 40 & AT & Styria \\\\\n",
       "\t5 & 5 & 40 & AT & Salzburg \\\\\n",
       "\\end{tabular}\n"
      ],
      "text/plain": [
       "\u001b[1m5×4 DataFrame\u001b[0m\n",
       "\u001b[1m Row \u001b[0m│\u001b[1m id    \u001b[0m\u001b[1m country_id \u001b[0m\u001b[1m country_code \u001b[0m\u001b[1m name       \u001b[0m\n",
       "\u001b[1m     \u001b[0m│\u001b[90m Int64 \u001b[0m\u001b[90m Int32      \u001b[0m\u001b[90m String?      \u001b[0m\u001b[90m String63?  \u001b[0m\n",
       "─────┼─────────────────────────────────────────────\n",
       "   1 │     1          40  AT            Vienna\n",
       "   2 │     2          40  AT            Vorarlberg\n",
       "   3 │     3          40  AT            Tyrol\n",
       "   4 │     4          40  AT            Styria\n",
       "   5 │     5          40  AT            Salzburg"
      ]
     },
     "execution_count": 407,
     "metadata": {},
     "output_type": "execute_result"
    }
   ],
   "source": [
    "first(df_ccl1[!, [:id, :country_id, :country_code, :name]], 5)"
   ]
  },
  {
   "cell_type": "code",
   "execution_count": 408,
   "metadata": {},
   "outputs": [
    {
     "data": {
      "text/plain": [
       "(246, 8)"
      ]
     },
     "execution_count": 408,
     "metadata": {},
     "output_type": "execute_result"
    }
   ],
   "source": [
    "size(df_ccl1)"
   ]
  },
  {
   "cell_type": "code",
   "execution_count": 409,
   "metadata": {},
   "outputs": [
    {
     "data": {
      "text/plain": [
       "7-element Vector{Symbol}:\n",
       " :id\n",
       " :country_id\n",
       " :country_code\n",
       " :admin1_code\n",
       " :name\n",
       " :ascii_name\n",
       " :geonames_id"
      ]
     },
     "execution_count": 409,
     "metadata": {},
     "output_type": "execute_result"
    }
   ],
   "source": [
    "import_cols = [:id, :country_id, :country_code, :admin1_code, :name, :ascii_name, :geonames_id]"
   ]
  },
  {
   "cell_type": "code",
   "execution_count": 410,
   "metadata": {},
   "outputs": [
    {
     "data": {
      "text/plain": [
       "8-element Vector{String}:\n",
       " \"country_id\"\n",
       " \"country_code\"\n",
       " \"code\"\n",
       " \"name\"\n",
       " \"ascii_name\"\n",
       " \"geonames_id\"\n",
       " \"admin1_code\"\n",
       " \"id\""
      ]
     },
     "execution_count": 410,
     "metadata": {},
     "output_type": "execute_result"
    }
   ],
   "source": [
    "names(df_ccl1)"
   ]
  },
  {
   "cell_type": "code",
   "execution_count": 411,
   "metadata": {
    "scrolled": true
   },
   "outputs": [
    {
     "name": "stderr",
     "output_type": "stream",
     "text": [
      "┌ Info: Rows inserted: 246\n",
      "└ @ WiagDataSetup C:\\Users\\Georg\\Documents\\projekte\\WiagDataSetup.jl\\src\\WiagDataSetup.jl:1171\n"
     ]
    },
    {
     "data": {
      "text/plain": [
       "246"
      ]
     },
     "execution_count": 411,
     "metadata": {},
     "output_type": "execute_result"
    }
   ],
   "source": [
    "Wds.filltable!(\"country_level_1\", select(df_ccl1, import_cols), clear_table=true)"
   ]
  },
  {
   "cell_type": "markdown",
   "metadata": {},
   "source": [
    "## Orte aus GeoNames einlesen\n",
    "Geonames stellt eine Sammlung aller Objekte (features) zur Verfügung. Alle Objekte eines Landes sind in jeweils einer Datei enthalten.\n",
    "https://download.geonames.org/export/dump/\n",
    "\n",
    "Lies Daten zu \n",
    "- Deutschland\n",
    "- Nachbarländer\n",
    "- Baltikum\n",
    "- Kroatien\n",
    "- Kaliningrad/Königsberg\n",
    "\n",
    "Ländercodes: DE, NL, BE, FR, IT, CH, AT, DK, PL, LU, CZ, LI, LV, LT, HR, EE, RU"
   ]
  },
  {
   "cell_type": "markdown",
   "metadata": {},
   "source": [
    "Pfad zu den Daten"
   ]
  },
  {
   "cell_type": "code",
   "execution_count": 35,
   "metadata": {},
   "outputs": [
    {
     "data": {
      "text/plain": [
       "\"C:\\\\Users\\\\georg\\\\Documents\\\\projekte-doc\\\\WiagDataSetup\\\\GeoNames\""
      ]
     },
     "execution_count": 35,
     "metadata": {},
     "output_type": "execute_result"
    }
   ],
   "source": [
    "gn_path = \"C:\\\\Users\\\\georg\\\\Documents\\\\projekte-doc\\\\WiagDataSetup\\\\GeoNames\""
   ]
  },
  {
   "cell_type": "markdown",
   "metadata": {},
   "source": [
    "Wähle aus den Features in den Daten von GeoNames nur Orte (P) aus, sowie Klöster (MSTY) und Konvente (CVNT).\n",
    "Siehe http://www.geonames.org/export/codes.html.\n",
    "\n",
    "Filterfunktion definieren"
   ]
  },
  {
   "cell_type": "code",
   "execution_count": 46,
   "metadata": {},
   "outputs": [
    {
     "data": {
      "text/plain": [
       "filter_places (generic function with 1 method)"
      ]
     },
     "execution_count": 46,
     "metadata": {},
     "output_type": "execute_result"
    }
   ],
   "source": [
    "function filter_places(feature_class, feature_code)\n",
    "    return ((!ismissing(feature_class) && feature_class == \"P\")\n",
    "            || (!ismissing(feature_code) && feature_code in (\"MSTY\", \"CVNT\")))\n",
    "end"
   ]
  },
  {
   "cell_type": "markdown",
   "metadata": {},
   "source": [
    "Spaltennamen und Spaltentypen"
   ]
  },
  {
   "cell_type": "markdown",
   "metadata": {},
   "source": [
    "Länder auslesen"
   ]
  },
  {
   "cell_type": "code",
   "execution_count": 22,
   "metadata": {},
   "outputs": [],
   "source": [
    "using MySQL\n",
    "using DataFrames\n",
    "using CSV"
   ]
  },
  {
   "cell_type": "code",
   "execution_count": 56,
   "metadata": {},
   "outputs": [],
   "source": [
    "df_country_m = DBInterface.execute(Wds.dbwiag, \"SELECT id as country_id, country_code FROM country\") |> DataFrame;"
   ]
  },
  {
   "cell_type": "code",
   "execution_count": 57,
   "metadata": {},
   "outputs": [
    {
     "data": {
      "text/html": [
       "<div class=\"data-frame\"><p>5 rows × 2 columns</p><table class=\"data-frame\"><thead><tr><th></th><th>country_id</th><th>country_code</th></tr><tr><th></th><th title=\"Int32\">Int32</th><th title=\"Union{Missing, String}\">String?</th></tr></thead><tbody><tr><th>1</th><td>0</td><td>XK</td></tr><tr><th>2</th><td>4</td><td>AF</td></tr><tr><th>3</th><td>8</td><td>AL</td></tr><tr><th>4</th><td>10</td><td>AQ</td></tr><tr><th>5</th><td>12</td><td>DZ</td></tr></tbody></table></div>"
      ],
      "text/latex": [
       "\\begin{tabular}{r|cc}\n",
       "\t& country\\_id & country\\_code\\\\\n",
       "\t\\hline\n",
       "\t& Int32 & String?\\\\\n",
       "\t\\hline\n",
       "\t1 & 0 & XK \\\\\n",
       "\t2 & 4 & AF \\\\\n",
       "\t3 & 8 & AL \\\\\n",
       "\t4 & 10 & AQ \\\\\n",
       "\t5 & 12 & DZ \\\\\n",
       "\\end{tabular}\n"
      ],
      "text/plain": [
       "\u001b[1m5×2 DataFrame\u001b[0m\n",
       "\u001b[1m Row \u001b[0m│\u001b[1m country_id \u001b[0m\u001b[1m country_code \u001b[0m\n",
       "\u001b[1m     \u001b[0m│\u001b[90m Int32      \u001b[0m\u001b[90m String?      \u001b[0m\n",
       "─────┼──────────────────────────\n",
       "   1 │          0  XK\n",
       "   2 │          4  AF\n",
       "   3 │          8  AL\n",
       "   4 │         10  AQ\n",
       "   5 │         12  DZ"
      ]
     },
     "execution_count": 57,
     "metadata": {},
     "output_type": "execute_result"
    }
   ],
   "source": [
    "first(df_country_m, 5)"
   ]
  },
  {
   "cell_type": "code",
   "execution_count": 38,
   "metadata": {},
   "outputs": [],
   "source": [
    "gn_header = [\"geonames_id\", \"name\", \"asciiname\", \"alternatenames\",\n",
    "             \"latitude\", \"longitude\", \"feature_class\", \"feature_code\",\n",
    "             \"country_code\", \"cc2\", \"admin1_code\", \"admin2_code\", \"admin3_code\", \"admin4_code\",\n",
    "             \"population\", \"elevation\", \"dem\", \"timezone\", \"modification_date\"];\n",
    "\n",
    "gn_types = [Int, String, String, String, Float64, Float64,\n",
    "            String, String, String, String,\n",
    "            String, String, String, String,\n",
    "            Int, Int, Int, String, String];"
   ]
  },
  {
   "cell_type": "code",
   "execution_count": 39,
   "metadata": {},
   "outputs": [],
   "source": [
    "place_cols = [:country_id, :name, :asciiname, :latitude, :longitude, \n",
    "        :feature_class, :feature_code, :country_code, :cc2, :admin1_code,\n",
    "        :population, :elevation, :dem, :timezone, :modification_date, :geonames_id];"
   ]
  },
  {
   "cell_type": "markdown",
   "metadata": {},
   "source": [
    "### Niederlande"
   ]
  },
  {
   "cell_type": "code",
   "execution_count": 66,
   "metadata": {},
   "outputs": [
    {
     "data": {
      "text/plain": [
       "\"C:\\\\Users\\\\georg\\\\Documents\\\\projekte-doc\\\\WiagDataSetup\\\\GeoNames\\\\NL\\\\NL.txt\""
      ]
     },
     "execution_count": 66,
     "metadata": {},
     "output_type": "execute_result"
    }
   ],
   "source": [
    "gn_filename = joinpath(gn_path, \"NL\", \"NL.txt\")"
   ]
  },
  {
   "cell_type": "code",
   "execution_count": 67,
   "metadata": {},
   "outputs": [],
   "source": [
    "gn_df = CSV.read(gn_filename, DataFrame, header=gn_header, types=gn_types);"
   ]
  },
  {
   "cell_type": "markdown",
   "metadata": {},
   "source": [
    "filtern nach Art des Features"
   ]
  },
  {
   "cell_type": "code",
   "execution_count": 68,
   "metadata": {},
   "outputs": [],
   "source": [
    "gn_dff = filter([:feature_class, :feature_code] => filter_places, gn_df);"
   ]
  },
  {
   "cell_type": "code",
   "execution_count": 69,
   "metadata": {},
   "outputs": [
    {
     "data": {
      "text/plain": [
       "(7764, 19)"
      ]
     },
     "execution_count": 69,
     "metadata": {},
     "output_type": "execute_result"
    }
   ],
   "source": [
    "size(gn_dff)"
   ]
  },
  {
   "cell_type": "code",
   "execution_count": 70,
   "metadata": {},
   "outputs": [],
   "source": [
    "gn_dff = rightjoin(df_country_m, gn_dff, on = :country_code);"
   ]
  },
  {
   "cell_type": "code",
   "execution_count": 71,
   "metadata": {},
   "outputs": [
    {
     "data": {
      "text/html": [
       "<div class=\"data-frame\"><p>5 rows × 7 columns</p><table class=\"data-frame\"><thead><tr><th></th><th>country_id</th><th>name</th><th>latitude</th><th>longitude</th><th>elevation</th><th>dem</th><th>population</th></tr><tr><th></th><th title=\"Union{Missing, Int32}\">Int32?</th><th title=\"String\">String</th><th title=\"Float64\">Float64</th><th title=\"Float64\">Float64</th><th title=\"Union{Missing, Int64}\">Int64?</th><th title=\"Int64\">Int64</th><th title=\"Int64\">Int64</th></tr></thead><tbody><tr><th>1</th><td>528</td><td>Den Oord</td><td>51.9708</td><td>5.27083</td><td><em>missing</em></td><td>3</td><td>0</td></tr><tr><th>2</th><td>528</td><td>Zwolle</td><td>52.5125</td><td>6.09444</td><td><em>missing</em></td><td>9</td><td>111805</td></tr><tr><th>3</th><td>528</td><td>Zwolle</td><td>52.0317</td><td>6.65556</td><td><em>missing</em></td><td>30</td><td>65</td></tr><tr><th>4</th><td>528</td><td>Zwingelspaan</td><td>51.66</td><td>4.49583</td><td><em>missing</em></td><td>-2</td><td>120</td></tr><tr><th>5</th><td>528</td><td>Zwinderen</td><td>52.7267</td><td>6.67639</td><td><em>missing</em></td><td>17</td><td>260</td></tr></tbody></table></div>"
      ],
      "text/latex": [
       "\\begin{tabular}{r|ccccccc}\n",
       "\t& country\\_id & name & latitude & longitude & elevation & dem & population\\\\\n",
       "\t\\hline\n",
       "\t& Int32? & String & Float64 & Float64 & Int64? & Int64 & Int64\\\\\n",
       "\t\\hline\n",
       "\t1 & 528 & Den Oord & 51.9708 & 5.27083 & \\emph{missing} & 3 & 0 \\\\\n",
       "\t2 & 528 & Zwolle & 52.5125 & 6.09444 & \\emph{missing} & 9 & 111805 \\\\\n",
       "\t3 & 528 & Zwolle & 52.0317 & 6.65556 & \\emph{missing} & 30 & 65 \\\\\n",
       "\t4 & 528 & Zwingelspaan & 51.66 & 4.49583 & \\emph{missing} & -2 & 120 \\\\\n",
       "\t5 & 528 & Zwinderen & 52.7267 & 6.67639 & \\emph{missing} & 17 & 260 \\\\\n",
       "\\end{tabular}\n"
      ],
      "text/plain": [
       "\u001b[1m5×7 DataFrame\u001b[0m\n",
       "\u001b[1m Row \u001b[0m│\u001b[1m country_id \u001b[0m\u001b[1m name         \u001b[0m\u001b[1m latitude \u001b[0m\u001b[1m longitude \u001b[0m\u001b[1m elevation \u001b[0m\u001b[1m dem   \u001b[0m\u001b[1m popula\u001b[0m ⋯\n",
       "\u001b[1m     \u001b[0m│\u001b[90m Int32?     \u001b[0m\u001b[90m String       \u001b[0m\u001b[90m Float64  \u001b[0m\u001b[90m Float64   \u001b[0m\u001b[90m Int64?    \u001b[0m\u001b[90m Int64 \u001b[0m\u001b[90m Int64 \u001b[0m ⋯\n",
       "─────┼──────────────────────────────────────────────────────────────────────────\n",
       "   1 │        528  Den Oord       51.9708    5.27083 \u001b[90m   missing \u001b[0m     3         ⋯\n",
       "   2 │        528  Zwolle         52.5125    6.09444 \u001b[90m   missing \u001b[0m     9      11\n",
       "   3 │        528  Zwolle         52.0317    6.65556 \u001b[90m   missing \u001b[0m    30\n",
       "   4 │        528  Zwingelspaan   51.66      4.49583 \u001b[90m   missing \u001b[0m    -2\n",
       "   5 │        528  Zwinderen      52.7267    6.67639 \u001b[90m   missing \u001b[0m    17         ⋯\n",
       "\u001b[36m                                                                1 column omitted\u001b[0m"
      ]
     },
     "execution_count": 71,
     "metadata": {},
     "output_type": "execute_result"
    }
   ],
   "source": [
    "gn_dff[1:5, [:country_id, :name, :latitude, :longitude, :elevation, :dem, :population]]"
   ]
  },
  {
   "cell_type": "code",
   "execution_count": 72,
   "metadata": {},
   "outputs": [
    {
     "name": "stderr",
     "output_type": "stream",
     "text": [
      "┌ Info: Rows inserted: 7764\n",
      "└ @ WiagDataSetup C:\\Users\\Georg\\Documents\\projekte\\WiagDataSetup.jl\\src\\WiagDataSetup.jl:1171\n"
     ]
    },
    {
     "data": {
      "text/plain": [
       "7764"
      ]
     },
     "execution_count": 72,
     "metadata": {},
     "output_type": "execute_result"
    }
   ],
   "source": [
    "Wds.filltable!(\"place\", gn_dff[!, place_cols], clear_table = false)"
   ]
  },
  {
   "cell_type": "markdown",
   "metadata": {},
   "source": [
    "### Belgien"
   ]
  },
  {
   "cell_type": "code",
   "execution_count": 73,
   "metadata": {},
   "outputs": [
    {
     "data": {
      "text/plain": [
       "\"C:\\\\Users\\\\georg\\\\Documents\\\\projekte-doc\\\\WiagDataSetup\\\\GeoNames\\\\BE\\\\BE.txt\""
      ]
     },
     "execution_count": 73,
     "metadata": {},
     "output_type": "execute_result"
    }
   ],
   "source": [
    "gn_filename = joinpath(gn_path, \"BE\", \"BE.txt\")"
   ]
  },
  {
   "cell_type": "code",
   "execution_count": 74,
   "metadata": {},
   "outputs": [],
   "source": [
    "gn_df = CSV.read(gn_filename, DataFrame, header=gn_header, types=gn_types);"
   ]
  },
  {
   "cell_type": "markdown",
   "metadata": {},
   "source": [
    "filtern nach Art des Features"
   ]
  },
  {
   "cell_type": "code",
   "execution_count": 75,
   "metadata": {},
   "outputs": [],
   "source": [
    "gn_dff = filter([:feature_class, :feature_code] => filter_places, gn_df);"
   ]
  },
  {
   "cell_type": "code",
   "execution_count": 76,
   "metadata": {},
   "outputs": [
    {
     "data": {
      "text/html": [
       "<div class=\"data-frame\"><p>5 rows × 4 columns</p><table class=\"data-frame\"><thead><tr><th></th><th>geonames_id</th><th>name</th><th>country_code</th><th>population</th></tr><tr><th></th><th title=\"Int64\">Int64</th><th title=\"String\">String</th><th title=\"String\">String</th><th title=\"Int64\">Int64</th></tr></thead><tbody><tr><th>1</th><td>2783081</td><td>Zwijndrecht</td><td>BE</td><td>18249</td></tr><tr><th>2</th><td>2783083</td><td>Zwijnaardse Dries</td><td>BE</td><td>0</td></tr><tr><th>3</th><td>2783084</td><td>Zwijnaarde</td><td>BE</td><td>7379</td></tr><tr><th>4</th><td>2783086</td><td>Zwijn</td><td>BE</td><td>0</td></tr><tr><th>5</th><td>2783087</td><td>Zwevezele</td><td>BE</td><td>5873</td></tr></tbody></table></div>"
      ],
      "text/latex": [
       "\\begin{tabular}{r|cccc}\n",
       "\t& geonames\\_id & name & country\\_code & population\\\\\n",
       "\t\\hline\n",
       "\t& Int64 & String & String & Int64\\\\\n",
       "\t\\hline\n",
       "\t1 & 2783081 & Zwijndrecht & BE & 18249 \\\\\n",
       "\t2 & 2783083 & Zwijnaardse Dries & BE & 0 \\\\\n",
       "\t3 & 2783084 & Zwijnaarde & BE & 7379 \\\\\n",
       "\t4 & 2783086 & Zwijn & BE & 0 \\\\\n",
       "\t5 & 2783087 & Zwevezele & BE & 5873 \\\\\n",
       "\\end{tabular}\n"
      ],
      "text/plain": [
       "\u001b[1m5×4 DataFrame\u001b[0m\n",
       "\u001b[1m Row \u001b[0m│\u001b[1m geonames_id \u001b[0m\u001b[1m name              \u001b[0m\u001b[1m country_code \u001b[0m\u001b[1m population \u001b[0m\n",
       "\u001b[1m     \u001b[0m│\u001b[90m Int64       \u001b[0m\u001b[90m String            \u001b[0m\u001b[90m String       \u001b[0m\u001b[90m Int64      \u001b[0m\n",
       "─────┼──────────────────────────────────────────────────────────\n",
       "   1 │     2783081  Zwijndrecht        BE                 18249\n",
       "   2 │     2783083  Zwijnaardse Dries  BE                     0\n",
       "   3 │     2783084  Zwijnaarde         BE                  7379\n",
       "   4 │     2783086  Zwijn              BE                     0\n",
       "   5 │     2783087  Zwevezele          BE                  5873"
      ]
     },
     "execution_count": 76,
     "metadata": {},
     "output_type": "execute_result"
    }
   ],
   "source": [
    "gn_dff[1:5, [:geonames_id, :name, :country_code, :population]]"
   ]
  },
  {
   "cell_type": "code",
   "execution_count": 77,
   "metadata": {},
   "outputs": [
    {
     "data": {
      "text/plain": [
       "(12671, 19)"
      ]
     },
     "execution_count": 77,
     "metadata": {},
     "output_type": "execute_result"
    }
   ],
   "source": [
    "size(gn_dff)"
   ]
  },
  {
   "cell_type": "markdown",
   "metadata": {},
   "source": [
    "Spalte für die Länder_ID einfügen"
   ]
  },
  {
   "cell_type": "code",
   "execution_count": 78,
   "metadata": {},
   "outputs": [],
   "source": [
    "gn_dff = rightjoin(df_country_m, gn_dff, on = :country_code);"
   ]
  },
  {
   "cell_type": "code",
   "execution_count": 79,
   "metadata": {},
   "outputs": [
    {
     "name": "stderr",
     "output_type": "stream",
     "text": [
      "┌ Info: 10000\n",
      "└ @ WiagDataSetup C:\\Users\\Georg\\Documents\\projekte\\WiagDataSetup.jl\\src\\WiagDataSetup.jl:1148\n",
      "┌ Info: Rows inserted: 12671\n",
      "└ @ WiagDataSetup C:\\Users\\Georg\\Documents\\projekte\\WiagDataSetup.jl\\src\\WiagDataSetup.jl:1171\n"
     ]
    },
    {
     "data": {
      "text/plain": [
       "12671"
      ]
     },
     "execution_count": 79,
     "metadata": {},
     "output_type": "execute_result"
    }
   ],
   "source": [
    "Wds.filltable!(\"place\", gn_dff[!, place_cols], clear_table = false)"
   ]
  },
  {
   "cell_type": "markdown",
   "metadata": {},
   "source": [
    "### Frankreich"
   ]
  },
  {
   "cell_type": "code",
   "execution_count": 80,
   "metadata": {},
   "outputs": [
    {
     "data": {
      "text/plain": [
       "\"C:\\\\Users\\\\georg\\\\Documents\\\\projekte-doc\\\\WiagDataSetup\\\\GeoNames\\\\FR\\\\FR.txt\""
      ]
     },
     "execution_count": 80,
     "metadata": {},
     "output_type": "execute_result"
    }
   ],
   "source": [
    "gn_filename = joinpath(gn_path, \"FR\", \"FR.txt\")"
   ]
  },
  {
   "cell_type": "code",
   "execution_count": 81,
   "metadata": {},
   "outputs": [],
   "source": [
    "gn_df = CSV.read(gn_filename, DataFrame, header=gn_header, types=gn_types);"
   ]
  },
  {
   "cell_type": "markdown",
   "metadata": {},
   "source": [
    "filtern nach Art des Features"
   ]
  },
  {
   "cell_type": "code",
   "execution_count": 82,
   "metadata": {},
   "outputs": [],
   "source": [
    "gn_dff = filter([:feature_class, :feature_code] => filter_places, gn_df);"
   ]
  },
  {
   "cell_type": "code",
   "execution_count": 83,
   "metadata": {},
   "outputs": [
    {
     "data": {
      "text/html": [
       "<div class=\"data-frame\"><p>5 rows × 4 columns</p><table class=\"data-frame\"><thead><tr><th></th><th>geonames_id</th><th>name</th><th>country_code</th><th>population</th></tr><tr><th></th><th title=\"Int64\">Int64</th><th title=\"String\">String</th><th title=\"String\">String</th><th title=\"Int64\">Int64</th></tr></thead><tbody><tr><th>1</th><td>2967103</td><td>Peyrat-le-Château</td><td>FR</td><td>1140</td></tr><tr><th>2</th><td>2967107</td><td>Domecy-sur-le-Vault</td><td>FR</td><td>107</td></tr><tr><th>3</th><td>2967108</td><td>Blaye</td><td>FR</td><td>5277</td></tr><tr><th>4</th><td>2967109</td><td>Zuytpeene</td><td>FR</td><td>483</td></tr><tr><th>5</th><td>2967110</td><td>Zuydcoote</td><td>FR</td><td>1660</td></tr></tbody></table></div>"
      ],
      "text/latex": [
       "\\begin{tabular}{r|cccc}\n",
       "\t& geonames\\_id & name & country\\_code & population\\\\\n",
       "\t\\hline\n",
       "\t& Int64 & String & String & Int64\\\\\n",
       "\t\\hline\n",
       "\t1 & 2967103 & Peyrat-le-Château & FR & 1140 \\\\\n",
       "\t2 & 2967107 & Domecy-sur-le-Vault & FR & 107 \\\\\n",
       "\t3 & 2967108 & Blaye & FR & 5277 \\\\\n",
       "\t4 & 2967109 & Zuytpeene & FR & 483 \\\\\n",
       "\t5 & 2967110 & Zuydcoote & FR & 1660 \\\\\n",
       "\\end{tabular}\n"
      ],
      "text/plain": [
       "\u001b[1m5×4 DataFrame\u001b[0m\n",
       "\u001b[1m Row \u001b[0m│\u001b[1m geonames_id \u001b[0m\u001b[1m name                \u001b[0m\u001b[1m country_code \u001b[0m\u001b[1m population \u001b[0m\n",
       "\u001b[1m     \u001b[0m│\u001b[90m Int64       \u001b[0m\u001b[90m String              \u001b[0m\u001b[90m String       \u001b[0m\u001b[90m Int64      \u001b[0m\n",
       "─────┼────────────────────────────────────────────────────────────\n",
       "   1 │     2967103  Peyrat-le-Château    FR                  1140\n",
       "   2 │     2967107  Domecy-sur-le-Vault  FR                   107\n",
       "   3 │     2967108  Blaye                FR                  5277\n",
       "   4 │     2967109  Zuytpeene            FR                   483\n",
       "   5 │     2967110  Zuydcoote            FR                  1660"
      ]
     },
     "execution_count": 83,
     "metadata": {},
     "output_type": "execute_result"
    }
   ],
   "source": [
    "gn_dff[1:5, [:geonames_id, :name, :country_code, :population]]"
   ]
  },
  {
   "cell_type": "code",
   "execution_count": 84,
   "metadata": {},
   "outputs": [
    {
     "data": {
      "text/plain": [
       "(80885, 19)"
      ]
     },
     "execution_count": 84,
     "metadata": {},
     "output_type": "execute_result"
    }
   ],
   "source": [
    "size(gn_dff)"
   ]
  },
  {
   "cell_type": "markdown",
   "metadata": {},
   "source": [
    "Spalte für die Länder_ID einfügen"
   ]
  },
  {
   "cell_type": "code",
   "execution_count": 85,
   "metadata": {},
   "outputs": [],
   "source": [
    "gn_dff = rightjoin(df_country_m, gn_dff, on = :country_code);"
   ]
  },
  {
   "cell_type": "code",
   "execution_count": 86,
   "metadata": {},
   "outputs": [
    {
     "name": "stderr",
     "output_type": "stream",
     "text": [
      "┌ Info: 10000\n",
      "└ @ WiagDataSetup C:\\Users\\Georg\\Documents\\projekte\\WiagDataSetup.jl\\src\\WiagDataSetup.jl:1148\n",
      "┌ Info: 20000\n",
      "└ @ WiagDataSetup C:\\Users\\Georg\\Documents\\projekte\\WiagDataSetup.jl\\src\\WiagDataSetup.jl:1148\n",
      "┌ Info: 30000\n",
      "└ @ WiagDataSetup C:\\Users\\Georg\\Documents\\projekte\\WiagDataSetup.jl\\src\\WiagDataSetup.jl:1148\n",
      "┌ Info: 40000\n",
      "└ @ WiagDataSetup C:\\Users\\Georg\\Documents\\projekte\\WiagDataSetup.jl\\src\\WiagDataSetup.jl:1148\n",
      "┌ Info: 50000\n",
      "└ @ WiagDataSetup C:\\Users\\Georg\\Documents\\projekte\\WiagDataSetup.jl\\src\\WiagDataSetup.jl:1148\n",
      "┌ Info: 60000\n",
      "└ @ WiagDataSetup C:\\Users\\Georg\\Documents\\projekte\\WiagDataSetup.jl\\src\\WiagDataSetup.jl:1148\n",
      "┌ Info: 70000\n",
      "└ @ WiagDataSetup C:\\Users\\Georg\\Documents\\projekte\\WiagDataSetup.jl\\src\\WiagDataSetup.jl:1148\n",
      "┌ Info: 80000\n",
      "└ @ WiagDataSetup C:\\Users\\Georg\\Documents\\projekte\\WiagDataSetup.jl\\src\\WiagDataSetup.jl:1148\n",
      "┌ Info: Rows inserted: 80885\n",
      "└ @ WiagDataSetup C:\\Users\\Georg\\Documents\\projekte\\WiagDataSetup.jl\\src\\WiagDataSetup.jl:1171\n"
     ]
    },
    {
     "data": {
      "text/plain": [
       "80885"
      ]
     },
     "execution_count": 86,
     "metadata": {},
     "output_type": "execute_result"
    }
   ],
   "source": [
    "Wds.filltable!(\"place\", gn_dff[!, place_cols], clear_table = false)"
   ]
  },
  {
   "cell_type": "markdown",
   "metadata": {},
   "source": [
    "### Italien"
   ]
  },
  {
   "cell_type": "code",
   "execution_count": 87,
   "metadata": {},
   "outputs": [
    {
     "data": {
      "text/plain": [
       "\"C:\\\\Users\\\\georg\\\\Documents\\\\projekte-doc\\\\WiagDataSetup\\\\GeoNames\\\\IT\\\\IT.txt\""
      ]
     },
     "execution_count": 87,
     "metadata": {},
     "output_type": "execute_result"
    }
   ],
   "source": [
    "gn_filename = joinpath(gn_path, \"IT\", \"IT.txt\")"
   ]
  },
  {
   "cell_type": "code",
   "execution_count": 88,
   "metadata": {},
   "outputs": [],
   "source": [
    "gn_df = CSV.read(gn_filename, DataFrame, header=gn_header, types=gn_types);"
   ]
  },
  {
   "cell_type": "markdown",
   "metadata": {},
   "source": [
    "filtern nach Art des Features"
   ]
  },
  {
   "cell_type": "code",
   "execution_count": 89,
   "metadata": {},
   "outputs": [],
   "source": [
    "gn_dff = filter([:feature_class, :feature_code] => filter_places, gn_df);"
   ]
  },
  {
   "cell_type": "code",
   "execution_count": 90,
   "metadata": {},
   "outputs": [
    {
     "data": {
      "text/html": [
       "<div class=\"data-frame\"><p>5 rows × 4 columns</p><table class=\"data-frame\"><thead><tr><th></th><th>geonames_id</th><th>name</th><th>country_code</th><th>population</th></tr><tr><th></th><th title=\"Int64\">Int64</th><th title=\"String\">String</th><th title=\"String\">String</th><th title=\"Int64\">Int64</th></tr></thead><tbody><tr><th>1</th><td>781059</td><td>Colognole</td><td>IT</td><td>128</td></tr><tr><th>2</th><td>781060</td><td>Casale Sant&apos;Antonio</td><td>IT</td><td>59</td></tr><tr><th>3</th><td>2522676</td><td>Zungti</td><td>IT</td><td>0</td></tr><tr><th>4</th><td>2522677</td><td>Zumpano</td><td>IT</td><td>343</td></tr><tr><th>5</th><td>2522679</td><td>Zona</td><td>IT</td><td>0</td></tr></tbody></table></div>"
      ],
      "text/latex": [
       "\\begin{tabular}{r|cccc}\n",
       "\t& geonames\\_id & name & country\\_code & population\\\\\n",
       "\t\\hline\n",
       "\t& Int64 & String & String & Int64\\\\\n",
       "\t\\hline\n",
       "\t1 & 781059 & Colognole & IT & 128 \\\\\n",
       "\t2 & 781060 & Casale Sant'Antonio & IT & 59 \\\\\n",
       "\t3 & 2522676 & Zungti & IT & 0 \\\\\n",
       "\t4 & 2522677 & Zumpano & IT & 343 \\\\\n",
       "\t5 & 2522679 & Zona & IT & 0 \\\\\n",
       "\\end{tabular}\n"
      ],
      "text/plain": [
       "\u001b[1m5×4 DataFrame\u001b[0m\n",
       "\u001b[1m Row \u001b[0m│\u001b[1m geonames_id \u001b[0m\u001b[1m name                \u001b[0m\u001b[1m country_code \u001b[0m\u001b[1m population \u001b[0m\n",
       "\u001b[1m     \u001b[0m│\u001b[90m Int64       \u001b[0m\u001b[90m String              \u001b[0m\u001b[90m String       \u001b[0m\u001b[90m Int64      \u001b[0m\n",
       "─────┼────────────────────────────────────────────────────────────\n",
       "   1 │      781059  Colognole            IT                   128\n",
       "   2 │      781060  Casale Sant'Antonio  IT                    59\n",
       "   3 │     2522676  Zungti               IT                     0\n",
       "   4 │     2522677  Zumpano              IT                   343\n",
       "   5 │     2522679  Zona                 IT                     0"
      ]
     },
     "execution_count": 90,
     "metadata": {},
     "output_type": "execute_result"
    }
   ],
   "source": [
    "gn_dff[1:5, [:geonames_id, :name, :country_code, :population]]"
   ]
  },
  {
   "cell_type": "code",
   "execution_count": 91,
   "metadata": {},
   "outputs": [
    {
     "data": {
      "text/plain": [
       "(62844, 19)"
      ]
     },
     "execution_count": 91,
     "metadata": {},
     "output_type": "execute_result"
    }
   ],
   "source": [
    "size(gn_dff)"
   ]
  },
  {
   "cell_type": "markdown",
   "metadata": {},
   "source": [
    "Spalte für die Länder_ID einfügen"
   ]
  },
  {
   "cell_type": "code",
   "execution_count": 92,
   "metadata": {},
   "outputs": [],
   "source": [
    "gn_dff = rightjoin(df_country_m, gn_dff, on = :country_code);"
   ]
  },
  {
   "cell_type": "code",
   "execution_count": 93,
   "metadata": {},
   "outputs": [
    {
     "name": "stderr",
     "output_type": "stream",
     "text": [
      "┌ Info: 10000\n",
      "└ @ WiagDataSetup C:\\Users\\Georg\\Documents\\projekte\\WiagDataSetup.jl\\src\\WiagDataSetup.jl:1148\n",
      "┌ Info: 20000\n",
      "└ @ WiagDataSetup C:\\Users\\Georg\\Documents\\projekte\\WiagDataSetup.jl\\src\\WiagDataSetup.jl:1148\n",
      "┌ Info: 30000\n",
      "└ @ WiagDataSetup C:\\Users\\Georg\\Documents\\projekte\\WiagDataSetup.jl\\src\\WiagDataSetup.jl:1148\n",
      "┌ Info: 40000\n",
      "└ @ WiagDataSetup C:\\Users\\Georg\\Documents\\projekte\\WiagDataSetup.jl\\src\\WiagDataSetup.jl:1148\n",
      "┌ Info: 50000\n",
      "└ @ WiagDataSetup C:\\Users\\Georg\\Documents\\projekte\\WiagDataSetup.jl\\src\\WiagDataSetup.jl:1148\n",
      "┌ Info: 60000\n",
      "└ @ WiagDataSetup C:\\Users\\Georg\\Documents\\projekte\\WiagDataSetup.jl\\src\\WiagDataSetup.jl:1148\n",
      "┌ Info: Rows inserted: 62844\n",
      "└ @ WiagDataSetup C:\\Users\\Georg\\Documents\\projekte\\WiagDataSetup.jl\\src\\WiagDataSetup.jl:1171\n"
     ]
    },
    {
     "data": {
      "text/plain": [
       "62844"
      ]
     },
     "execution_count": 93,
     "metadata": {},
     "output_type": "execute_result"
    }
   ],
   "source": [
    "Wds.filltable!(\"place\", gn_dff[!, place_cols], clear_table = false)"
   ]
  },
  {
   "cell_type": "markdown",
   "metadata": {},
   "source": [
    "### Schweiz"
   ]
  },
  {
   "cell_type": "code",
   "execution_count": 94,
   "metadata": {},
   "outputs": [
    {
     "data": {
      "text/plain": [
       "\"C:\\\\Users\\\\georg\\\\Documents\\\\projekte-doc\\\\WiagDataSetup\\\\GeoNames\\\\CH\\\\CH.txt\""
      ]
     },
     "execution_count": 94,
     "metadata": {},
     "output_type": "execute_result"
    }
   ],
   "source": [
    "gn_filename = joinpath(gn_path, \"CH\", \"CH.txt\")"
   ]
  },
  {
   "cell_type": "code",
   "execution_count": 95,
   "metadata": {},
   "outputs": [],
   "source": [
    "gn_df = CSV.read(gn_filename, DataFrame, header=gn_header, types=gn_types);"
   ]
  },
  {
   "cell_type": "markdown",
   "metadata": {},
   "source": [
    "filtern nach Art des Features"
   ]
  },
  {
   "cell_type": "code",
   "execution_count": 96,
   "metadata": {},
   "outputs": [],
   "source": [
    "gn_dff = filter([:feature_class, :feature_code] => filter_places, gn_df);"
   ]
  },
  {
   "cell_type": "code",
   "execution_count": 97,
   "metadata": {},
   "outputs": [
    {
     "data": {
      "text/html": [
       "<div class=\"data-frame\"><p>5 rows × 4 columns</p><table class=\"data-frame\"><thead><tr><th></th><th>geonames_id</th><th>name</th><th>country_code</th><th>population</th></tr><tr><th></th><th title=\"Int64\">Int64</th><th title=\"String\">String</th><th title=\"String\">String</th><th title=\"Int64\">Int64</th></tr></thead><tbody><tr><th>1</th><td>2657885</td><td>Zwischbergen</td><td>CH</td><td>127</td></tr><tr><th>2</th><td>2657886</td><td>Zwingen</td><td>CH</td><td>2162</td></tr><tr><th>3</th><td>2657887</td><td>Zweisimmen</td><td>CH</td><td>2813</td></tr><tr><th>4</th><td>2657888</td><td>Zweilütschinen</td><td>CH</td><td>0</td></tr><tr><th>5</th><td>2657889</td><td>Zuzwil</td><td>CH</td><td>4226</td></tr></tbody></table></div>"
      ],
      "text/latex": [
       "\\begin{tabular}{r|cccc}\n",
       "\t& geonames\\_id & name & country\\_code & population\\\\\n",
       "\t\\hline\n",
       "\t& Int64 & String & String & Int64\\\\\n",
       "\t\\hline\n",
       "\t1 & 2657885 & Zwischbergen & CH & 127 \\\\\n",
       "\t2 & 2657886 & Zwingen & CH & 2162 \\\\\n",
       "\t3 & 2657887 & Zweisimmen & CH & 2813 \\\\\n",
       "\t4 & 2657888 & Zweilütschinen & CH & 0 \\\\\n",
       "\t5 & 2657889 & Zuzwil & CH & 4226 \\\\\n",
       "\\end{tabular}\n"
      ],
      "text/plain": [
       "\u001b[1m5×4 DataFrame\u001b[0m\n",
       "\u001b[1m Row \u001b[0m│\u001b[1m geonames_id \u001b[0m\u001b[1m name           \u001b[0m\u001b[1m country_code \u001b[0m\u001b[1m population \u001b[0m\n",
       "\u001b[1m     \u001b[0m│\u001b[90m Int64       \u001b[0m\u001b[90m String         \u001b[0m\u001b[90m String       \u001b[0m\u001b[90m Int64      \u001b[0m\n",
       "─────┼───────────────────────────────────────────────────────\n",
       "   1 │     2657885  Zwischbergen    CH                   127\n",
       "   2 │     2657886  Zwingen         CH                  2162\n",
       "   3 │     2657887  Zweisimmen      CH                  2813\n",
       "   4 │     2657888  Zweilütschinen  CH                     0\n",
       "   5 │     2657889  Zuzwil          CH                  4226"
      ]
     },
     "execution_count": 97,
     "metadata": {},
     "output_type": "execute_result"
    }
   ],
   "source": [
    "gn_dff[1:5, [:geonames_id, :name, :country_code, :population]]"
   ]
  },
  {
   "cell_type": "code",
   "execution_count": 98,
   "metadata": {},
   "outputs": [
    {
     "data": {
      "text/plain": [
       "(13265, 19)"
      ]
     },
     "execution_count": 98,
     "metadata": {},
     "output_type": "execute_result"
    }
   ],
   "source": [
    "size(gn_dff)"
   ]
  },
  {
   "cell_type": "markdown",
   "metadata": {},
   "source": [
    "Spalte für die Länder_ID einfügen"
   ]
  },
  {
   "cell_type": "code",
   "execution_count": 99,
   "metadata": {},
   "outputs": [],
   "source": [
    "gn_dff = rightjoin(df_country_m, gn_dff, on = :country_code);"
   ]
  },
  {
   "cell_type": "code",
   "execution_count": 100,
   "metadata": {},
   "outputs": [
    {
     "name": "stderr",
     "output_type": "stream",
     "text": [
      "┌ Info: 10000\n",
      "└ @ WiagDataSetup C:\\Users\\Georg\\Documents\\projekte\\WiagDataSetup.jl\\src\\WiagDataSetup.jl:1148\n",
      "┌ Info: Rows inserted: 13265\n",
      "└ @ WiagDataSetup C:\\Users\\Georg\\Documents\\projekte\\WiagDataSetup.jl\\src\\WiagDataSetup.jl:1171\n"
     ]
    },
    {
     "data": {
      "text/plain": [
       "13265"
      ]
     },
     "execution_count": 100,
     "metadata": {},
     "output_type": "execute_result"
    }
   ],
   "source": [
    "Wds.filltable!(\"place\", gn_dff[!, place_cols], clear_table = false)"
   ]
  },
  {
   "cell_type": "markdown",
   "metadata": {},
   "source": [
    "### Österreich"
   ]
  },
  {
   "cell_type": "code",
   "execution_count": 101,
   "metadata": {},
   "outputs": [
    {
     "data": {
      "text/plain": [
       "\"C:\\\\Users\\\\georg\\\\Documents\\\\projekte-doc\\\\WiagDataSetup\\\\GeoNames\\\\AT\\\\AT.txt\""
      ]
     },
     "execution_count": 101,
     "metadata": {},
     "output_type": "execute_result"
    }
   ],
   "source": [
    "gn_filename = joinpath(gn_path, \"AT\", \"AT.txt\")"
   ]
  },
  {
   "cell_type": "code",
   "execution_count": 102,
   "metadata": {},
   "outputs": [],
   "source": [
    "gn_df = CSV.read(gn_filename, DataFrame, header=gn_header, types=gn_types);"
   ]
  },
  {
   "cell_type": "markdown",
   "metadata": {},
   "source": [
    "filtern nach Art des Features"
   ]
  },
  {
   "cell_type": "code",
   "execution_count": 103,
   "metadata": {},
   "outputs": [],
   "source": [
    "gn_dff = filter([:feature_class, :feature_code] => filter_places, gn_df);"
   ]
  },
  {
   "cell_type": "code",
   "execution_count": 104,
   "metadata": {},
   "outputs": [
    {
     "data": {
      "text/html": [
       "<div class=\"data-frame\"><p>5 rows × 4 columns</p><table class=\"data-frame\"><thead><tr><th></th><th>geonames_id</th><th>name</th><th>country_code</th><th>population</th></tr><tr><th></th><th title=\"Int64\">Int64</th><th title=\"String\">String</th><th title=\"String\">String</th><th title=\"Int64\">Int64</th></tr></thead><tbody><tr><th>1</th><td>2598250</td><td>Mooshöhe</td><td>AT</td><td>0</td></tr><tr><th>2</th><td>2598294</td><td>Muttling</td><td>AT</td><td>0</td></tr><tr><th>3</th><td>2598296</td><td>Kleiner</td><td>AT</td><td>0</td></tr><tr><th>4</th><td>2598303</td><td>Dörfl</td><td>AT</td><td>0</td></tr><tr><th>5</th><td>2598321</td><td>Zeitschen</td><td>AT</td><td>0</td></tr></tbody></table></div>"
      ],
      "text/latex": [
       "\\begin{tabular}{r|cccc}\n",
       "\t& geonames\\_id & name & country\\_code & population\\\\\n",
       "\t\\hline\n",
       "\t& Int64 & String & String & Int64\\\\\n",
       "\t\\hline\n",
       "\t1 & 2598250 & Mooshöhe & AT & 0 \\\\\n",
       "\t2 & 2598294 & Muttling & AT & 0 \\\\\n",
       "\t3 & 2598296 & Kleiner & AT & 0 \\\\\n",
       "\t4 & 2598303 & Dörfl & AT & 0 \\\\\n",
       "\t5 & 2598321 & Zeitschen & AT & 0 \\\\\n",
       "\\end{tabular}\n"
      ],
      "text/plain": [
       "\u001b[1m5×4 DataFrame\u001b[0m\n",
       "\u001b[1m Row \u001b[0m│\u001b[1m geonames_id \u001b[0m\u001b[1m name      \u001b[0m\u001b[1m country_code \u001b[0m\u001b[1m population \u001b[0m\n",
       "\u001b[1m     \u001b[0m│\u001b[90m Int64       \u001b[0m\u001b[90m String    \u001b[0m\u001b[90m String       \u001b[0m\u001b[90m Int64      \u001b[0m\n",
       "─────┼──────────────────────────────────────────────────\n",
       "   1 │     2598250  Mooshöhe   AT                     0\n",
       "   2 │     2598294  Muttling   AT                     0\n",
       "   3 │     2598296  Kleiner    AT                     0\n",
       "   4 │     2598303  Dörfl      AT                     0\n",
       "   5 │     2598321  Zeitschen  AT                     0"
      ]
     },
     "execution_count": 104,
     "metadata": {},
     "output_type": "execute_result"
    }
   ],
   "source": [
    "gn_dff[1:5, [:geonames_id, :name, :country_code, :population]]"
   ]
  },
  {
   "cell_type": "code",
   "execution_count": 105,
   "metadata": {},
   "outputs": [
    {
     "data": {
      "text/plain": [
       "(20924, 19)"
      ]
     },
     "execution_count": 105,
     "metadata": {},
     "output_type": "execute_result"
    }
   ],
   "source": [
    "size(gn_dff)"
   ]
  },
  {
   "cell_type": "markdown",
   "metadata": {},
   "source": [
    "Spalte für die Länder_ID einfügen"
   ]
  },
  {
   "cell_type": "code",
   "execution_count": 106,
   "metadata": {},
   "outputs": [],
   "source": [
    "gn_dff = rightjoin(df_country_m, gn_dff, on = :country_code);"
   ]
  },
  {
   "cell_type": "code",
   "execution_count": 107,
   "metadata": {},
   "outputs": [
    {
     "name": "stderr",
     "output_type": "stream",
     "text": [
      "┌ Info: 10000\n",
      "└ @ WiagDataSetup C:\\Users\\Georg\\Documents\\projekte\\WiagDataSetup.jl\\src\\WiagDataSetup.jl:1148\n",
      "┌ Info: 20000\n",
      "└ @ WiagDataSetup C:\\Users\\Georg\\Documents\\projekte\\WiagDataSetup.jl\\src\\WiagDataSetup.jl:1148\n",
      "┌ Info: Rows inserted: 20924\n",
      "└ @ WiagDataSetup C:\\Users\\Georg\\Documents\\projekte\\WiagDataSetup.jl\\src\\WiagDataSetup.jl:1171\n"
     ]
    },
    {
     "data": {
      "text/plain": [
       "20924"
      ]
     },
     "execution_count": 107,
     "metadata": {},
     "output_type": "execute_result"
    }
   ],
   "source": [
    "Wds.filltable!(\"place\", gn_dff[!, place_cols], clear_table = false)"
   ]
  },
  {
   "cell_type": "markdown",
   "metadata": {},
   "source": [
    "### Dänemark"
   ]
  },
  {
   "cell_type": "code",
   "execution_count": 108,
   "metadata": {},
   "outputs": [
    {
     "data": {
      "text/plain": [
       "\"C:\\\\Users\\\\georg\\\\Documents\\\\projekte-doc\\\\WiagDataSetup\\\\GeoNames\\\\DK\\\\DK.txt\""
      ]
     },
     "execution_count": 108,
     "metadata": {},
     "output_type": "execute_result"
    }
   ],
   "source": [
    "gn_filename = joinpath(gn_path, \"DK\", \"DK.txt\")"
   ]
  },
  {
   "cell_type": "code",
   "execution_count": 109,
   "metadata": {},
   "outputs": [],
   "source": [
    "gn_df = CSV.read(gn_filename, DataFrame, header=gn_header, types=gn_types);"
   ]
  },
  {
   "cell_type": "markdown",
   "metadata": {},
   "source": [
    "filtern nach Art des Features"
   ]
  },
  {
   "cell_type": "code",
   "execution_count": 110,
   "metadata": {},
   "outputs": [],
   "source": [
    "gn_dff = filter([:feature_class, :feature_code] => filter_places, gn_df);"
   ]
  },
  {
   "cell_type": "code",
   "execution_count": 111,
   "metadata": {},
   "outputs": [
    {
     "data": {
      "text/html": [
       "<div class=\"data-frame\"><p>5 rows × 4 columns</p><table class=\"data-frame\"><thead><tr><th></th><th>geonames_id</th><th>name</th><th>country_code</th><th>population</th></tr><tr><th></th><th title=\"Int64\">Int64</th><th title=\"String\">String</th><th title=\"String\">String</th><th title=\"Int64\">Int64</th></tr></thead><tbody><tr><th>1</th><td>2609911</td><td>Yttrup</td><td>DK</td><td>0</td></tr><tr><th>2</th><td>2609915</td><td>Yppenbjerg</td><td>DK</td><td>0</td></tr><tr><th>3</th><td>2609916</td><td>Ypnested</td><td>DK</td><td>0</td></tr><tr><th>4</th><td>2609922</td><td>Yding</td><td>DK</td><td>0</td></tr><tr><th>5</th><td>2609926</td><td>Yderik</td><td>DK</td><td>0</td></tr></tbody></table></div>"
      ],
      "text/latex": [
       "\\begin{tabular}{r|cccc}\n",
       "\t& geonames\\_id & name & country\\_code & population\\\\\n",
       "\t\\hline\n",
       "\t& Int64 & String & String & Int64\\\\\n",
       "\t\\hline\n",
       "\t1 & 2609911 & Yttrup & DK & 0 \\\\\n",
       "\t2 & 2609915 & Yppenbjerg & DK & 0 \\\\\n",
       "\t3 & 2609916 & Ypnested & DK & 0 \\\\\n",
       "\t4 & 2609922 & Yding & DK & 0 \\\\\n",
       "\t5 & 2609926 & Yderik & DK & 0 \\\\\n",
       "\\end{tabular}\n"
      ],
      "text/plain": [
       "\u001b[1m5×4 DataFrame\u001b[0m\n",
       "\u001b[1m Row \u001b[0m│\u001b[1m geonames_id \u001b[0m\u001b[1m name       \u001b[0m\u001b[1m country_code \u001b[0m\u001b[1m population \u001b[0m\n",
       "\u001b[1m     \u001b[0m│\u001b[90m Int64       \u001b[0m\u001b[90m String     \u001b[0m\u001b[90m String       \u001b[0m\u001b[90m Int64      \u001b[0m\n",
       "─────┼───────────────────────────────────────────────────\n",
       "   1 │     2609911  Yttrup      DK                     0\n",
       "   2 │     2609915  Yppenbjerg  DK                     0\n",
       "   3 │     2609916  Ypnested    DK                     0\n",
       "   4 │     2609922  Yding       DK                     0\n",
       "   5 │     2609926  Yderik      DK                     0"
      ]
     },
     "execution_count": 111,
     "metadata": {},
     "output_type": "execute_result"
    }
   ],
   "source": [
    "gn_dff[1:5, [:geonames_id, :name, :country_code, :population]]"
   ]
  },
  {
   "cell_type": "code",
   "execution_count": 112,
   "metadata": {},
   "outputs": [
    {
     "data": {
      "text/plain": [
       "(7261, 19)"
      ]
     },
     "execution_count": 112,
     "metadata": {},
     "output_type": "execute_result"
    }
   ],
   "source": [
    "size(gn_dff)"
   ]
  },
  {
   "cell_type": "markdown",
   "metadata": {},
   "source": [
    "Spalte für die Länder_ID einfügen"
   ]
  },
  {
   "cell_type": "code",
   "execution_count": 113,
   "metadata": {},
   "outputs": [],
   "source": [
    "gn_dff = rightjoin(df_country_m, gn_dff, on = :country_code);"
   ]
  },
  {
   "cell_type": "code",
   "execution_count": 114,
   "metadata": {},
   "outputs": [
    {
     "name": "stderr",
     "output_type": "stream",
     "text": [
      "┌ Info: Rows inserted: 7261\n",
      "└ @ WiagDataSetup C:\\Users\\Georg\\Documents\\projekte\\WiagDataSetup.jl\\src\\WiagDataSetup.jl:1171\n"
     ]
    },
    {
     "data": {
      "text/plain": [
       "7261"
      ]
     },
     "execution_count": 114,
     "metadata": {},
     "output_type": "execute_result"
    }
   ],
   "source": [
    "Wds.filltable!(\"place\", gn_dff[!, place_cols], clear_table = false)"
   ]
  },
  {
   "cell_type": "markdown",
   "metadata": {},
   "source": [
    "### Polen"
   ]
  },
  {
   "cell_type": "code",
   "execution_count": 115,
   "metadata": {},
   "outputs": [
    {
     "data": {
      "text/plain": [
       "\"C:\\\\Users\\\\georg\\\\Documents\\\\projekte-doc\\\\WiagDataSetup\\\\GeoNames\\\\PL\\\\PL.txt\""
      ]
     },
     "execution_count": 115,
     "metadata": {},
     "output_type": "execute_result"
    }
   ],
   "source": [
    "gn_filename = joinpath(gn_path, \"PL\", \"PL.txt\")"
   ]
  },
  {
   "cell_type": "code",
   "execution_count": 116,
   "metadata": {},
   "outputs": [],
   "source": [
    "gn_df = CSV.read(gn_filename, DataFrame, header=gn_header, types=gn_types);"
   ]
  },
  {
   "cell_type": "markdown",
   "metadata": {},
   "source": [
    "filtern nach Art des Features"
   ]
  },
  {
   "cell_type": "code",
   "execution_count": 117,
   "metadata": {},
   "outputs": [],
   "source": [
    "gn_dff = filter([:feature_class, :feature_code] => filter_places, gn_df);"
   ]
  },
  {
   "cell_type": "code",
   "execution_count": 118,
   "metadata": {},
   "outputs": [
    {
     "data": {
      "text/html": [
       "<div class=\"data-frame\"><p>5 rows × 4 columns</p><table class=\"data-frame\"><thead><tr><th></th><th>geonames_id</th><th>name</th><th>country_code</th><th>population</th></tr><tr><th></th><th title=\"Int64\">Int64</th><th title=\"String\">String</th><th title=\"String\">String</th><th title=\"Int64\">Int64</th></tr></thead><tbody><tr><th>1</th><td>462259</td><td>Zodenen</td><td>PL</td><td>0</td></tr><tr><th>2</th><td>620115</td><td>Włodawka</td><td>PL</td><td>0</td></tr><tr><th>3</th><td>688812</td><td>Vul’ka Ugruska</td><td>PL</td><td>0</td></tr><tr><th>4</th><td>696099</td><td>Pshedmes’tse Vel’ke</td><td>PL</td><td>0</td></tr><tr><th>5</th><td>698000</td><td>Paportno</td><td>PL</td><td>0</td></tr></tbody></table></div>"
      ],
      "text/latex": [
       "\\begin{tabular}{r|cccc}\n",
       "\t& geonames\\_id & name & country\\_code & population\\\\\n",
       "\t\\hline\n",
       "\t& Int64 & String & String & Int64\\\\\n",
       "\t\\hline\n",
       "\t1 & 462259 & Zodenen & PL & 0 \\\\\n",
       "\t2 & 620115 & Włodawka & PL & 0 \\\\\n",
       "\t3 & 688812 & Vul’ka Ugruska & PL & 0 \\\\\n",
       "\t4 & 696099 & Pshedmes’tse Vel’ke & PL & 0 \\\\\n",
       "\t5 & 698000 & Paportno & PL & 0 \\\\\n",
       "\\end{tabular}\n"
      ],
      "text/plain": [
       "\u001b[1m5×4 DataFrame\u001b[0m\n",
       "\u001b[1m Row \u001b[0m│\u001b[1m geonames_id \u001b[0m\u001b[1m name                \u001b[0m\u001b[1m country_code \u001b[0m\u001b[1m population \u001b[0m\n",
       "\u001b[1m     \u001b[0m│\u001b[90m Int64       \u001b[0m\u001b[90m String              \u001b[0m\u001b[90m String       \u001b[0m\u001b[90m Int64      \u001b[0m\n",
       "─────┼────────────────────────────────────────────────────────────\n",
       "   1 │      462259  Zodenen              PL                     0\n",
       "   2 │      620115  Włodawka             PL                     0\n",
       "   3 │      688812  Vul’ka Ugruska       PL                     0\n",
       "   4 │      696099  Pshedmes’tse Vel’ke  PL                     0\n",
       "   5 │      698000  Paportno             PL                     0"
      ]
     },
     "execution_count": 118,
     "metadata": {},
     "output_type": "execute_result"
    }
   ],
   "source": [
    "gn_dff[1:5, [:geonames_id, :name, :country_code, :population]]"
   ]
  },
  {
   "cell_type": "code",
   "execution_count": 119,
   "metadata": {},
   "outputs": [
    {
     "data": {
      "text/plain": [
       "(47411, 19)"
      ]
     },
     "execution_count": 119,
     "metadata": {},
     "output_type": "execute_result"
    }
   ],
   "source": [
    "size(gn_dff)"
   ]
  },
  {
   "cell_type": "markdown",
   "metadata": {},
   "source": [
    "Spalte für die Länder_ID einfügen"
   ]
  },
  {
   "cell_type": "code",
   "execution_count": 120,
   "metadata": {},
   "outputs": [],
   "source": [
    "gn_dff = rightjoin(df_country_m, gn_dff, on = :country_code);"
   ]
  },
  {
   "cell_type": "code",
   "execution_count": 121,
   "metadata": {},
   "outputs": [
    {
     "name": "stderr",
     "output_type": "stream",
     "text": [
      "┌ Info: 10000\n",
      "└ @ WiagDataSetup C:\\Users\\Georg\\Documents\\projekte\\WiagDataSetup.jl\\src\\WiagDataSetup.jl:1148\n",
      "┌ Info: 20000\n",
      "└ @ WiagDataSetup C:\\Users\\Georg\\Documents\\projekte\\WiagDataSetup.jl\\src\\WiagDataSetup.jl:1148\n",
      "┌ Info: 30000\n",
      "└ @ WiagDataSetup C:\\Users\\Georg\\Documents\\projekte\\WiagDataSetup.jl\\src\\WiagDataSetup.jl:1148\n",
      "┌ Info: 40000\n",
      "└ @ WiagDataSetup C:\\Users\\Georg\\Documents\\projekte\\WiagDataSetup.jl\\src\\WiagDataSetup.jl:1148\n",
      "┌ Info: Rows inserted: 47411\n",
      "└ @ WiagDataSetup C:\\Users\\Georg\\Documents\\projekte\\WiagDataSetup.jl\\src\\WiagDataSetup.jl:1171\n"
     ]
    },
    {
     "data": {
      "text/plain": [
       "47411"
      ]
     },
     "execution_count": 121,
     "metadata": {},
     "output_type": "execute_result"
    }
   ],
   "source": [
    "Wds.filltable!(\"place\", gn_dff[!, place_cols], clear_table = false)"
   ]
  },
  {
   "cell_type": "markdown",
   "metadata": {},
   "source": [
    "### Deutschland"
   ]
  },
  {
   "cell_type": "code",
   "execution_count": 58,
   "metadata": {},
   "outputs": [
    {
     "data": {
      "text/plain": [
       "\"C:\\\\Users\\\\georg\\\\Documents\\\\projekte-doc\\\\WiagDataSetup\\\\GeoNames\\\\DE\\\\DE.txt\""
      ]
     },
     "execution_count": 58,
     "metadata": {},
     "output_type": "execute_result"
    }
   ],
   "source": [
    "gn_filename = joinpath(gn_path, \"DE\", \"DE.txt\")"
   ]
  },
  {
   "cell_type": "code",
   "execution_count": 59,
   "metadata": {},
   "outputs": [],
   "source": [
    "gn_df = CSV.read(gn_filename, DataFrame, header=gn_header, types=gn_types);"
   ]
  },
  {
   "cell_type": "markdown",
   "metadata": {},
   "source": [
    "filtern nach Art des Features"
   ]
  },
  {
   "cell_type": "code",
   "execution_count": 60,
   "metadata": {},
   "outputs": [],
   "source": [
    "gn_dff = filter([:feature_class, :feature_code] => filter_places, gn_df);"
   ]
  },
  {
   "cell_type": "code",
   "execution_count": 61,
   "metadata": {},
   "outputs": [
    {
     "data": {
      "text/html": [
       "<div class=\"data-frame\"><p>5 rows × 4 columns</p><table class=\"data-frame\"><thead><tr><th></th><th>geonames_id</th><th>name</th><th>country_code</th><th>population</th></tr><tr><th></th><th title=\"Int64\">Int64</th><th title=\"String\">String</th><th title=\"String\">String</th><th title=\"Int64\">Int64</th></tr></thead><tbody><tr><th>1</th><td>2657946</td><td>Wyhlen</td><td>DE</td><td>0</td></tr><tr><th>2</th><td>2803468</td><td>Zyfflich</td><td>DE</td><td>0</td></tr><tr><th>3</th><td>2803469</td><td>Zwuschwitz</td><td>DE</td><td>0</td></tr><tr><th>4</th><td>2803470</td><td>Zwötzen</td><td>DE</td><td>0</td></tr><tr><th>5</th><td>2803472</td><td>Zwotental</td><td>DE</td><td>0</td></tr></tbody></table></div>"
      ],
      "text/latex": [
       "\\begin{tabular}{r|cccc}\n",
       "\t& geonames\\_id & name & country\\_code & population\\\\\n",
       "\t\\hline\n",
       "\t& Int64 & String & String & Int64\\\\\n",
       "\t\\hline\n",
       "\t1 & 2657946 & Wyhlen & DE & 0 \\\\\n",
       "\t2 & 2803468 & Zyfflich & DE & 0 \\\\\n",
       "\t3 & 2803469 & Zwuschwitz & DE & 0 \\\\\n",
       "\t4 & 2803470 & Zwötzen & DE & 0 \\\\\n",
       "\t5 & 2803472 & Zwotental & DE & 0 \\\\\n",
       "\\end{tabular}\n"
      ],
      "text/plain": [
       "\u001b[1m5×4 DataFrame\u001b[0m\n",
       "\u001b[1m Row \u001b[0m│\u001b[1m geonames_id \u001b[0m\u001b[1m name       \u001b[0m\u001b[1m country_code \u001b[0m\u001b[1m population \u001b[0m\n",
       "\u001b[1m     \u001b[0m│\u001b[90m Int64       \u001b[0m\u001b[90m String     \u001b[0m\u001b[90m String       \u001b[0m\u001b[90m Int64      \u001b[0m\n",
       "─────┼───────────────────────────────────────────────────\n",
       "   1 │     2657946  Wyhlen      DE                     0\n",
       "   2 │     2803468  Zyfflich    DE                     0\n",
       "   3 │     2803469  Zwuschwitz  DE                     0\n",
       "   4 │     2803470  Zwötzen     DE                     0\n",
       "   5 │     2803472  Zwotental   DE                     0"
      ]
     },
     "execution_count": 61,
     "metadata": {},
     "output_type": "execute_result"
    }
   ],
   "source": [
    "gn_dff[1:5, [:geonames_id, :name, :country_code, :population]]"
   ]
  },
  {
   "cell_type": "code",
   "execution_count": 62,
   "metadata": {},
   "outputs": [
    {
     "data": {
      "text/plain": [
       "(79810, 19)"
      ]
     },
     "execution_count": 62,
     "metadata": {},
     "output_type": "execute_result"
    }
   ],
   "source": [
    "size(gn_dff)"
   ]
  },
  {
   "cell_type": "markdown",
   "metadata": {},
   "source": [
    "Spalte für die Länder_ID einfügen"
   ]
  },
  {
   "cell_type": "code",
   "execution_count": 63,
   "metadata": {},
   "outputs": [],
   "source": [
    "gn_dff = rightjoin(df_country_m, gn_dff, on = :country_code);"
   ]
  },
  {
   "cell_type": "code",
   "execution_count": 64,
   "metadata": {},
   "outputs": [
    {
     "data": {
      "text/html": [
       "<div class=\"data-frame\"><p>5 rows × 20 columns (omitted printing of 14 columns)</p><table class=\"data-frame\"><thead><tr><th></th><th>country_id</th><th>country_code</th><th>geonames_id</th><th>name</th><th>asciiname</th><th>alternatenames</th></tr><tr><th></th><th title=\"Union{Missing, Int32}\">Int32?</th><th title=\"String\">String</th><th title=\"Int64\">Int64</th><th title=\"String\">String</th><th title=\"String\">String</th><th title=\"Union{Missing, String}\">String?</th></tr></thead><tbody><tr><th>1</th><td>276</td><td>DE</td><td>2657946</td><td>Wyhlen</td><td>Wyhlen</td><td>Wyhlen</td></tr><tr><th>2</th><td>276</td><td>DE</td><td>2803468</td><td>Zyfflich</td><td>Zyfflich</td><td>Zyfflich</td></tr><tr><th>3</th><td>276</td><td>DE</td><td>2803469</td><td>Zwuschwitz</td><td>Zwuschwitz</td><td><em>missing</em></td></tr><tr><th>4</th><td>276</td><td>DE</td><td>2803470</td><td>Zwötzen</td><td>Zwoetzen</td><td>Gera-Zwotzen,Gera-Zwötzen,Zwotzen,Zwötzen</td></tr><tr><th>5</th><td>276</td><td>DE</td><td>2803472</td><td>Zwotental</td><td>Zwotental</td><td><em>missing</em></td></tr></tbody></table></div>"
      ],
      "text/latex": [
       "\\begin{tabular}{r|ccccccc}\n",
       "\t& country\\_id & country\\_code & geonames\\_id & name & asciiname & alternatenames & \\\\\n",
       "\t\\hline\n",
       "\t& Int32? & String & Int64 & String & String & String? & \\\\\n",
       "\t\\hline\n",
       "\t1 & 276 & DE & 2657946 & Wyhlen & Wyhlen & Wyhlen & $\\dots$ \\\\\n",
       "\t2 & 276 & DE & 2803468 & Zyfflich & Zyfflich & Zyfflich & $\\dots$ \\\\\n",
       "\t3 & 276 & DE & 2803469 & Zwuschwitz & Zwuschwitz & \\emph{missing} & $\\dots$ \\\\\n",
       "\t4 & 276 & DE & 2803470 & Zwötzen & Zwoetzen & Gera-Zwotzen,Gera-Zwötzen,Zwotzen,Zwötzen & $\\dots$ \\\\\n",
       "\t5 & 276 & DE & 2803472 & Zwotental & Zwotental & \\emph{missing} & $\\dots$ \\\\\n",
       "\\end{tabular}\n"
      ],
      "text/plain": [
       "\u001b[1m5×20 DataFrame\u001b[0m\n",
       "\u001b[1m Row \u001b[0m│\u001b[1m country_id \u001b[0m\u001b[1m country_code \u001b[0m\u001b[1m geonames_id \u001b[0m\u001b[1m name       \u001b[0m\u001b[1m asciiname  \u001b[0m\u001b[1m alternat\u001b[0m ⋯\n",
       "\u001b[1m     \u001b[0m│\u001b[90m Int32?     \u001b[0m\u001b[90m String       \u001b[0m\u001b[90m Int64       \u001b[0m\u001b[90m String     \u001b[0m\u001b[90m String     \u001b[0m\u001b[90m String? \u001b[0m ⋯\n",
       "─────┼──────────────────────────────────────────────────────────────────────────\n",
       "   1 │        276  DE                2657946  Wyhlen      Wyhlen      Wyhlen   ⋯\n",
       "   2 │        276  DE                2803468  Zyfflich    Zyfflich    Zyfflich\n",
       "   3 │        276  DE                2803469  Zwuschwitz  Zwuschwitz \u001b[90m missing\u001b[0m\n",
       "   4 │        276  DE                2803470  Zwötzen     Zwoetzen    Gera-Zwo\n",
       "   5 │        276  DE                2803472  Zwotental   Zwotental  \u001b[90m missing \u001b[0m ⋯\n",
       "\u001b[36m                                                              15 columns omitted\u001b[0m"
      ]
     },
     "execution_count": 64,
     "metadata": {},
     "output_type": "execute_result"
    }
   ],
   "source": [
    "gn_dff[1:5, :]"
   ]
  },
  {
   "cell_type": "code",
   "execution_count": 65,
   "metadata": {},
   "outputs": [
    {
     "name": "stderr",
     "output_type": "stream",
     "text": [
      "┌ Info: 10000\n",
      "└ @ WiagDataSetup C:\\Users\\Georg\\Documents\\projekte\\WiagDataSetup.jl\\src\\WiagDataSetup.jl:1148\n",
      "┌ Info: 20000\n",
      "└ @ WiagDataSetup C:\\Users\\Georg\\Documents\\projekte\\WiagDataSetup.jl\\src\\WiagDataSetup.jl:1148\n",
      "┌ Info: 30000\n",
      "└ @ WiagDataSetup C:\\Users\\Georg\\Documents\\projekte\\WiagDataSetup.jl\\src\\WiagDataSetup.jl:1148\n",
      "┌ Info: 40000\n",
      "└ @ WiagDataSetup C:\\Users\\Georg\\Documents\\projekte\\WiagDataSetup.jl\\src\\WiagDataSetup.jl:1148\n",
      "┌ Info: 50000\n",
      "└ @ WiagDataSetup C:\\Users\\Georg\\Documents\\projekte\\WiagDataSetup.jl\\src\\WiagDataSetup.jl:1148\n",
      "┌ Info: 60000\n",
      "└ @ WiagDataSetup C:\\Users\\Georg\\Documents\\projekte\\WiagDataSetup.jl\\src\\WiagDataSetup.jl:1148\n",
      "┌ Info: 70000\n",
      "└ @ WiagDataSetup C:\\Users\\Georg\\Documents\\projekte\\WiagDataSetup.jl\\src\\WiagDataSetup.jl:1148\n",
      "┌ Info: Rows inserted: 79810\n",
      "└ @ WiagDataSetup C:\\Users\\Georg\\Documents\\projekte\\WiagDataSetup.jl\\src\\WiagDataSetup.jl:1171\n"
     ]
    },
    {
     "data": {
      "text/plain": [
       "79810"
      ]
     },
     "execution_count": 65,
     "metadata": {},
     "output_type": "execute_result"
    }
   ],
   "source": [
    "Wds.filltable!(\"place\", gn_dff[!, place_cols], clear_table = false)"
   ]
  },
  {
   "cell_type": "markdown",
   "metadata": {},
   "source": [
    "### Luxemburg"
   ]
  },
  {
   "cell_type": "code",
   "execution_count": 122,
   "metadata": {},
   "outputs": [
    {
     "data": {
      "text/plain": [
       "\"C:\\\\Users\\\\georg\\\\Documents\\\\projekte-doc\\\\WiagDataSetup\\\\GeoNames\\\\LU\\\\LU.txt\""
      ]
     },
     "execution_count": 122,
     "metadata": {},
     "output_type": "execute_result"
    }
   ],
   "source": [
    "gn_filename = joinpath(gn_path, \"LU\", \"LU.txt\")"
   ]
  },
  {
   "cell_type": "code",
   "execution_count": 123,
   "metadata": {},
   "outputs": [],
   "source": [
    "gn_df = CSV.read(gn_filename, DataFrame, header=gn_header, types=gn_types);"
   ]
  },
  {
   "cell_type": "markdown",
   "metadata": {},
   "source": [
    "filtern nach Art des Features"
   ]
  },
  {
   "cell_type": "code",
   "execution_count": 124,
   "metadata": {},
   "outputs": [],
   "source": [
    "gn_dff = filter([:feature_class, :feature_code] => filter_places, gn_df);"
   ]
  },
  {
   "cell_type": "code",
   "execution_count": 125,
   "metadata": {},
   "outputs": [
    {
     "data": {
      "text/html": [
       "<div class=\"data-frame\"><p>5 rows × 4 columns</p><table class=\"data-frame\"><thead><tr><th></th><th>geonames_id</th><th>name</th><th>country_code</th><th>population</th></tr><tr><th></th><th title=\"Int64\">Int64</th><th title=\"String\">String</th><th title=\"String\">String</th><th title=\"Int64\">Int64</th></tr></thead><tbody><tr><th>1</th><td>2959958</td><td>Zittig</td><td>LU</td><td>38</td></tr><tr><th>2</th><td>2959959</td><td>Wormeldange</td><td>LU</td><td>786</td></tr><tr><th>3</th><td>2959960</td><td>Wues</td><td>LU</td><td>0</td></tr><tr><th>4</th><td>2959961</td><td>Wolwelange</td><td>LU</td><td>358</td></tr><tr><th>5</th><td>2959964</td><td>Wolpert</td><td>LU</td><td>0</td></tr></tbody></table></div>"
      ],
      "text/latex": [
       "\\begin{tabular}{r|cccc}\n",
       "\t& geonames\\_id & name & country\\_code & population\\\\\n",
       "\t\\hline\n",
       "\t& Int64 & String & String & Int64\\\\\n",
       "\t\\hline\n",
       "\t1 & 2959958 & Zittig & LU & 38 \\\\\n",
       "\t2 & 2959959 & Wormeldange & LU & 786 \\\\\n",
       "\t3 & 2959960 & Wues & LU & 0 \\\\\n",
       "\t4 & 2959961 & Wolwelange & LU & 358 \\\\\n",
       "\t5 & 2959964 & Wolpert & LU & 0 \\\\\n",
       "\\end{tabular}\n"
      ],
      "text/plain": [
       "\u001b[1m5×4 DataFrame\u001b[0m\n",
       "\u001b[1m Row \u001b[0m│\u001b[1m geonames_id \u001b[0m\u001b[1m name        \u001b[0m\u001b[1m country_code \u001b[0m\u001b[1m population \u001b[0m\n",
       "\u001b[1m     \u001b[0m│\u001b[90m Int64       \u001b[0m\u001b[90m String      \u001b[0m\u001b[90m String       \u001b[0m\u001b[90m Int64      \u001b[0m\n",
       "─────┼────────────────────────────────────────────────────\n",
       "   1 │     2959958  Zittig       LU                    38\n",
       "   2 │     2959959  Wormeldange  LU                   786\n",
       "   3 │     2959960  Wues         LU                     0\n",
       "   4 │     2959961  Wolwelange   LU                   358\n",
       "   5 │     2959964  Wolpert      LU                     0"
      ]
     },
     "execution_count": 125,
     "metadata": {},
     "output_type": "execute_result"
    }
   ],
   "source": [
    "gn_dff[1:5, [:geonames_id, :name, :country_code, :population]]"
   ]
  },
  {
   "cell_type": "code",
   "execution_count": 126,
   "metadata": {},
   "outputs": [
    {
     "data": {
      "text/plain": [
       "(692, 19)"
      ]
     },
     "execution_count": 126,
     "metadata": {},
     "output_type": "execute_result"
    }
   ],
   "source": [
    "size(gn_dff)"
   ]
  },
  {
   "cell_type": "markdown",
   "metadata": {},
   "source": [
    "Spalte für die Länder_ID einfügen"
   ]
  },
  {
   "cell_type": "code",
   "execution_count": 127,
   "metadata": {},
   "outputs": [],
   "source": [
    "gn_dff = rightjoin(df_country_m, gn_dff, on = :country_code);"
   ]
  },
  {
   "cell_type": "code",
   "execution_count": 128,
   "metadata": {},
   "outputs": [
    {
     "name": "stderr",
     "output_type": "stream",
     "text": [
      "┌ Info: Rows inserted: 692\n",
      "└ @ WiagDataSetup C:\\Users\\Georg\\Documents\\projekte\\WiagDataSetup.jl\\src\\WiagDataSetup.jl:1171\n"
     ]
    },
    {
     "data": {
      "text/plain": [
       "692"
      ]
     },
     "execution_count": 128,
     "metadata": {},
     "output_type": "execute_result"
    }
   ],
   "source": [
    "Wds.filltable!(\"place\", gn_dff[!, place_cols], clear_table = false)"
   ]
  },
  {
   "cell_type": "markdown",
   "metadata": {},
   "source": [
    "### Tschechien"
   ]
  },
  {
   "cell_type": "code",
   "execution_count": 129,
   "metadata": {},
   "outputs": [
    {
     "data": {
      "text/plain": [
       "\"C:\\\\Users\\\\georg\\\\Documents\\\\projekte-doc\\\\WiagDataSetup\\\\GeoNames\\\\CZ\\\\CZ.txt\""
      ]
     },
     "execution_count": 129,
     "metadata": {},
     "output_type": "execute_result"
    }
   ],
   "source": [
    "gn_filename = joinpath(gn_path, \"CZ\", \"CZ.txt\")"
   ]
  },
  {
   "cell_type": "code",
   "execution_count": 130,
   "metadata": {
    "scrolled": false
   },
   "outputs": [],
   "source": [
    "gn_df = CSV.read(gn_filename, DataFrame, header=gn_header, types=gn_types);"
   ]
  },
  {
   "cell_type": "markdown",
   "metadata": {},
   "source": [
    "filtern nach Art des Features"
   ]
  },
  {
   "cell_type": "code",
   "execution_count": 131,
   "metadata": {},
   "outputs": [],
   "source": [
    "gn_dff = filter([:feature_class, :feature_code] => filter_places, gn_df);"
   ]
  },
  {
   "cell_type": "code",
   "execution_count": 132,
   "metadata": {},
   "outputs": [
    {
     "data": {
      "text/html": [
       "<div class=\"data-frame\"><p>5 rows × 4 columns</p><table class=\"data-frame\"><thead><tr><th></th><th>geonames_id</th><th>name</th><th>country_code</th><th>population</th></tr><tr><th></th><th title=\"Int64\">Int64</th><th title=\"String\">String</th><th title=\"String\">String</th><th title=\"Int64\">Int64</th></tr></thead><tbody><tr><th>1</th><td>3059873</td><td>Hrčava</td><td>CZ</td><td>0</td></tr><tr><th>2</th><td>3061283</td><td>Janská Hut</td><td>CZ</td><td>0</td></tr><tr><th>3</th><td>3061284</td><td>Dvůr Králové nad Labem</td><td>CZ</td><td>16150</td></tr><tr><th>4</th><td>3061285</td><td>Zvůle</td><td>CZ</td><td>0</td></tr><tr><th>5</th><td>3061286</td><td>Zvotoky</td><td>CZ</td><td>69</td></tr></tbody></table></div>"
      ],
      "text/latex": [
       "\\begin{tabular}{r|cccc}\n",
       "\t& geonames\\_id & name & country\\_code & population\\\\\n",
       "\t\\hline\n",
       "\t& Int64 & String & String & Int64\\\\\n",
       "\t\\hline\n",
       "\t1 & 3059873 & Hrčava & CZ & 0 \\\\\n",
       "\t2 & 3061283 & Janská Hut & CZ & 0 \\\\\n",
       "\t3 & 3061284 & Dvůr Králové nad Labem & CZ & 16150 \\\\\n",
       "\t4 & 3061285 & Zvůle & CZ & 0 \\\\\n",
       "\t5 & 3061286 & Zvotoky & CZ & 69 \\\\\n",
       "\\end{tabular}\n"
      ],
      "text/plain": [
       "\u001b[1m5×4 DataFrame\u001b[0m\n",
       "\u001b[1m Row \u001b[0m│\u001b[1m geonames_id \u001b[0m\u001b[1m name                   \u001b[0m\u001b[1m country_code \u001b[0m\u001b[1m population \u001b[0m\n",
       "\u001b[1m     \u001b[0m│\u001b[90m Int64       \u001b[0m\u001b[90m String                 \u001b[0m\u001b[90m String       \u001b[0m\u001b[90m Int64      \u001b[0m\n",
       "─────┼───────────────────────────────────────────────────────────────\n",
       "   1 │     3059873  Hrčava                  CZ                     0\n",
       "   2 │     3061283  Janská Hut              CZ                     0\n",
       "   3 │     3061284  Dvůr Králové nad Labem  CZ                 16150\n",
       "   4 │     3061285  Zvůle                   CZ                     0\n",
       "   5 │     3061286  Zvotoky                 CZ                    69"
      ]
     },
     "execution_count": 132,
     "metadata": {},
     "output_type": "execute_result"
    }
   ],
   "source": [
    "gn_dff[1:5, [:geonames_id, :name, :country_code, :population]]"
   ]
  },
  {
   "cell_type": "code",
   "execution_count": 133,
   "metadata": {},
   "outputs": [
    {
     "data": {
      "text/plain": [
       "(16445, 19)"
      ]
     },
     "execution_count": 133,
     "metadata": {},
     "output_type": "execute_result"
    }
   ],
   "source": [
    "size(gn_dff)"
   ]
  },
  {
   "cell_type": "markdown",
   "metadata": {},
   "source": [
    "Spalte für die Länder_ID einfügen"
   ]
  },
  {
   "cell_type": "code",
   "execution_count": 134,
   "metadata": {},
   "outputs": [],
   "source": [
    "gn_dff = rightjoin(df_country_m, gn_dff, on = :country_code);"
   ]
  },
  {
   "cell_type": "code",
   "execution_count": 135,
   "metadata": {},
   "outputs": [
    {
     "name": "stderr",
     "output_type": "stream",
     "text": [
      "┌ Info: 10000\n",
      "└ @ WiagDataSetup C:\\Users\\Georg\\Documents\\projekte\\WiagDataSetup.jl\\src\\WiagDataSetup.jl:1148\n",
      "┌ Info: Rows inserted: 16445\n",
      "└ @ WiagDataSetup C:\\Users\\Georg\\Documents\\projekte\\WiagDataSetup.jl\\src\\WiagDataSetup.jl:1171\n"
     ]
    },
    {
     "data": {
      "text/plain": [
       "16445"
      ]
     },
     "execution_count": 135,
     "metadata": {},
     "output_type": "execute_result"
    }
   ],
   "source": [
    "Wds.filltable!(\"place\", gn_dff[!, place_cols], clear_table = false)"
   ]
  },
  {
   "cell_type": "markdown",
   "metadata": {},
   "source": [
    "### Liechtenstein"
   ]
  },
  {
   "cell_type": "code",
   "execution_count": 136,
   "metadata": {},
   "outputs": [
    {
     "data": {
      "text/plain": [
       "\"C:\\\\Users\\\\georg\\\\Documents\\\\projekte-doc\\\\WiagDataSetup\\\\GeoNames\\\\LI\\\\LI.txt\""
      ]
     },
     "execution_count": 136,
     "metadata": {},
     "output_type": "execute_result"
    }
   ],
   "source": [
    "gn_filename = joinpath(gn_path, \"LI\", \"LI.txt\")"
   ]
  },
  {
   "cell_type": "code",
   "execution_count": 137,
   "metadata": {},
   "outputs": [],
   "source": [
    "gn_df = CSV.read(gn_filename, DataFrame, header=gn_header, types=gn_types);"
   ]
  },
  {
   "cell_type": "markdown",
   "metadata": {},
   "source": [
    "filtern nach Art des Features"
   ]
  },
  {
   "cell_type": "code",
   "execution_count": 138,
   "metadata": {},
   "outputs": [],
   "source": [
    "gn_dff = filter([:feature_class, :feature_code] => filter_places, gn_df);"
   ]
  },
  {
   "cell_type": "code",
   "execution_count": 139,
   "metadata": {},
   "outputs": [
    {
     "data": {
      "text/html": [
       "<div class=\"data-frame\"><p>5 rows × 4 columns</p><table class=\"data-frame\"><thead><tr><th></th><th>geonames_id</th><th>name</th><th>country_code</th><th>population</th></tr><tr><th></th><th title=\"Int64\">Int64</th><th title=\"String\">String</th><th title=\"String\">String</th><th title=\"Int64\">Int64</th></tr></thead><tbody><tr><th>1</th><td>3042029</td><td>Vorderer Schellenberg</td><td>LI</td><td>0</td></tr><tr><th>2</th><td>3042030</td><td>Vaduz</td><td>LI</td><td>5197</td></tr><tr><th>3</th><td>3042033</td><td>Triesenberg</td><td>LI</td><td>2689</td></tr><tr><th>4</th><td>3042035</td><td>Triesen</td><td>LI</td><td>4701</td></tr><tr><th>5</th><td>3042037</td><td>Schellenberg</td><td>LI</td><td>1004</td></tr></tbody></table></div>"
      ],
      "text/latex": [
       "\\begin{tabular}{r|cccc}\n",
       "\t& geonames\\_id & name & country\\_code & population\\\\\n",
       "\t\\hline\n",
       "\t& Int64 & String & String & Int64\\\\\n",
       "\t\\hline\n",
       "\t1 & 3042029 & Vorderer Schellenberg & LI & 0 \\\\\n",
       "\t2 & 3042030 & Vaduz & LI & 5197 \\\\\n",
       "\t3 & 3042033 & Triesenberg & LI & 2689 \\\\\n",
       "\t4 & 3042035 & Triesen & LI & 4701 \\\\\n",
       "\t5 & 3042037 & Schellenberg & LI & 1004 \\\\\n",
       "\\end{tabular}\n"
      ],
      "text/plain": [
       "\u001b[1m5×4 DataFrame\u001b[0m\n",
       "\u001b[1m Row \u001b[0m│\u001b[1m geonames_id \u001b[0m\u001b[1m name                  \u001b[0m\u001b[1m country_code \u001b[0m\u001b[1m population \u001b[0m\n",
       "\u001b[1m     \u001b[0m│\u001b[90m Int64       \u001b[0m\u001b[90m String                \u001b[0m\u001b[90m String       \u001b[0m\u001b[90m Int64      \u001b[0m\n",
       "─────┼──────────────────────────────────────────────────────────────\n",
       "   1 │     3042029  Vorderer Schellenberg  LI                     0\n",
       "   2 │     3042030  Vaduz                  LI                  5197\n",
       "   3 │     3042033  Triesenberg            LI                  2689\n",
       "   4 │     3042035  Triesen                LI                  4701\n",
       "   5 │     3042037  Schellenberg           LI                  1004"
      ]
     },
     "execution_count": 139,
     "metadata": {},
     "output_type": "execute_result"
    }
   ],
   "source": [
    "gn_dff[1:5, [:geonames_id, :name, :country_code, :population]]"
   ]
  },
  {
   "cell_type": "code",
   "execution_count": 140,
   "metadata": {},
   "outputs": [
    {
     "data": {
      "text/plain": [
       "(361, 19)"
      ]
     },
     "execution_count": 140,
     "metadata": {},
     "output_type": "execute_result"
    }
   ],
   "source": [
    "size(gn_dff)"
   ]
  },
  {
   "cell_type": "markdown",
   "metadata": {},
   "source": [
    "Spalte für die Länder_ID einfügen"
   ]
  },
  {
   "cell_type": "code",
   "execution_count": 141,
   "metadata": {},
   "outputs": [],
   "source": [
    "gn_dff = rightjoin(df_country_m, gn_dff, on = :country_code);"
   ]
  },
  {
   "cell_type": "code",
   "execution_count": 142,
   "metadata": {},
   "outputs": [
    {
     "name": "stderr",
     "output_type": "stream",
     "text": [
      "┌ Info: Rows inserted: 361\n",
      "└ @ WiagDataSetup C:\\Users\\Georg\\Documents\\projekte\\WiagDataSetup.jl\\src\\WiagDataSetup.jl:1171\n"
     ]
    },
    {
     "data": {
      "text/plain": [
       "361"
      ]
     },
     "execution_count": 142,
     "metadata": {},
     "output_type": "execute_result"
    }
   ],
   "source": [
    "Wds.filltable!(\"place\", gn_dff[!, place_cols], clear_table = false)"
   ]
  },
  {
   "cell_type": "markdown",
   "metadata": {},
   "source": [
    "### Estland\n",
    "\n",
    "Die erste Zeile der Daten kann nicht gelesen werden. Sie wird manuell aus den Quelldaten gelöscht. Das ist unerheblich, weil es sich nicht um ein relevantes Feature handelt."
   ]
  },
  {
   "cell_type": "code",
   "execution_count": 168,
   "metadata": {},
   "outputs": [
    {
     "data": {
      "text/plain": [
       "\"C:\\\\Users\\\\georg\\\\Documents\\\\projekte-doc\\\\WiagDataSetup\\\\GeoNames\\\\EE\\\\EE-x1.txt\""
      ]
     },
     "execution_count": 168,
     "metadata": {},
     "output_type": "execute_result"
    }
   ],
   "source": [
    "gn_filename = joinpath(gn_path, \"EE\", \"EE-x1.txt\")"
   ]
  },
  {
   "cell_type": "code",
   "execution_count": 169,
   "metadata": {},
   "outputs": [],
   "source": [
    "gn_df = CSV.read(gn_filename, DataFrame, header=gn_header, types=gn_types);"
   ]
  },
  {
   "cell_type": "markdown",
   "metadata": {},
   "source": [
    "filtern nach Art des Features"
   ]
  },
  {
   "cell_type": "code",
   "execution_count": 170,
   "metadata": {},
   "outputs": [],
   "source": [
    "gn_dff = filter([:feature_class, :feature_code] => filter_places, gn_df);"
   ]
  },
  {
   "cell_type": "code",
   "execution_count": 171,
   "metadata": {},
   "outputs": [
    {
     "data": {
      "text/plain": [
       "(7059, 19)"
      ]
     },
     "execution_count": 171,
     "metadata": {},
     "output_type": "execute_result"
    }
   ],
   "source": [
    "size(gn_dff)"
   ]
  },
  {
   "cell_type": "code",
   "execution_count": 172,
   "metadata": {},
   "outputs": [
    {
     "data": {
      "text/html": [
       "<div class=\"data-frame\"><p>5 rows × 4 columns</p><table class=\"data-frame\"><thead><tr><th></th><th>geonames_id</th><th>name</th><th>country_code</th><th>population</th></tr><tr><th></th><th title=\"Int64\">Int64</th><th title=\"String\">String</th><th title=\"String\">String</th><th title=\"Int64\">Int64</th></tr></thead><tbody><tr><th>1</th><td>456463</td><td>Puijas</td><td>EE</td><td>0</td></tr><tr><th>2</th><td>587436</td><td>Nehatu</td><td>EE</td><td>0</td></tr><tr><th>3</th><td>587437</td><td>Mereküla</td><td>EE</td><td>0</td></tr><tr><th>4</th><td>587438</td><td>Krundiküla</td><td>EE</td><td>0</td></tr><tr><th>5</th><td>587439</td><td>Järve</td><td>EE</td><td>0</td></tr></tbody></table></div>"
      ],
      "text/latex": [
       "\\begin{tabular}{r|cccc}\n",
       "\t& geonames\\_id & name & country\\_code & population\\\\\n",
       "\t\\hline\n",
       "\t& Int64 & String & String & Int64\\\\\n",
       "\t\\hline\n",
       "\t1 & 456463 & Puijas & EE & 0 \\\\\n",
       "\t2 & 587436 & Nehatu & EE & 0 \\\\\n",
       "\t3 & 587437 & Mereküla & EE & 0 \\\\\n",
       "\t4 & 587438 & Krundiküla & EE & 0 \\\\\n",
       "\t5 & 587439 & Järve & EE & 0 \\\\\n",
       "\\end{tabular}\n"
      ],
      "text/plain": [
       "\u001b[1m5×4 DataFrame\u001b[0m\n",
       "\u001b[1m Row \u001b[0m│\u001b[1m geonames_id \u001b[0m\u001b[1m name       \u001b[0m\u001b[1m country_code \u001b[0m\u001b[1m population \u001b[0m\n",
       "\u001b[1m     \u001b[0m│\u001b[90m Int64       \u001b[0m\u001b[90m String     \u001b[0m\u001b[90m String       \u001b[0m\u001b[90m Int64      \u001b[0m\n",
       "─────┼───────────────────────────────────────────────────\n",
       "   1 │      456463  Puijas      EE                     0\n",
       "   2 │      587436  Nehatu      EE                     0\n",
       "   3 │      587437  Mereküla    EE                     0\n",
       "   4 │      587438  Krundiküla  EE                     0\n",
       "   5 │      587439  Järve       EE                     0"
      ]
     },
     "execution_count": 172,
     "metadata": {},
     "output_type": "execute_result"
    }
   ],
   "source": [
    "gn_dff[1:5, [:geonames_id, :name, :country_code, :population]]"
   ]
  },
  {
   "cell_type": "code",
   "execution_count": 173,
   "metadata": {},
   "outputs": [
    {
     "data": {
      "text/plain": [
       "(7059, 19)"
      ]
     },
     "execution_count": 173,
     "metadata": {},
     "output_type": "execute_result"
    }
   ],
   "source": [
    "size(gn_dff)"
   ]
  },
  {
   "cell_type": "markdown",
   "metadata": {},
   "source": [
    "Spalte für die Länder_ID einfügen"
   ]
  },
  {
   "cell_type": "code",
   "execution_count": 174,
   "metadata": {},
   "outputs": [],
   "source": [
    "gn_dff = rightjoin(df_country_m, gn_dff, on = :country_code);"
   ]
  },
  {
   "cell_type": "code",
   "execution_count": 175,
   "metadata": {},
   "outputs": [
    {
     "name": "stderr",
     "output_type": "stream",
     "text": [
      "┌ Info: Rows inserted: 7059\n",
      "└ @ WiagDataSetup C:\\Users\\Georg\\Documents\\projekte\\WiagDataSetup.jl\\src\\WiagDataSetup.jl:1171\n"
     ]
    },
    {
     "data": {
      "text/plain": [
       "7059"
      ]
     },
     "execution_count": 175,
     "metadata": {},
     "output_type": "execute_result"
    }
   ],
   "source": [
    "Wds.filltable!(\"place\", gn_dff[!, place_cols], clear_table = false)"
   ]
  },
  {
   "cell_type": "markdown",
   "metadata": {},
   "source": [
    "### Lettland"
   ]
  },
  {
   "cell_type": "code",
   "execution_count": 143,
   "metadata": {},
   "outputs": [
    {
     "data": {
      "text/plain": [
       "\"C:\\\\Users\\\\georg\\\\Documents\\\\projekte-doc\\\\WiagDataSetup\\\\GeoNames\\\\LV\\\\LV.txt\""
      ]
     },
     "execution_count": 143,
     "metadata": {},
     "output_type": "execute_result"
    }
   ],
   "source": [
    "gn_filename = joinpath(gn_path, \"LV\", \"LV.txt\")"
   ]
  },
  {
   "cell_type": "code",
   "execution_count": 144,
   "metadata": {},
   "outputs": [],
   "source": [
    "gn_df = CSV.read(gn_filename, DataFrame, header=gn_header, types=gn_types);"
   ]
  },
  {
   "cell_type": "markdown",
   "metadata": {},
   "source": [
    "filtern nach Art des Features"
   ]
  },
  {
   "cell_type": "code",
   "execution_count": 145,
   "metadata": {},
   "outputs": [],
   "source": [
    "gn_dff = filter([:feature_class, :feature_code] => filter_places, gn_df);"
   ]
  },
  {
   "cell_type": "code",
   "execution_count": 146,
   "metadata": {},
   "outputs": [
    {
     "data": {
      "text/html": [
       "<div class=\"data-frame\"><p>5 rows × 4 columns</p><table class=\"data-frame\"><thead><tr><th></th><th>geonames_id</th><th>name</th><th>country_code</th><th>population</th></tr><tr><th></th><th title=\"Int64\">Int64</th><th title=\"String\">String</th><th title=\"String\">String</th><th title=\"Int64\">Int64</th></tr></thead><tbody><tr><th>1</th><td>453754</td><td>Valmiera</td><td>LV</td><td>26963</td></tr><tr><th>2</th><td>453756</td><td>Jaunzemji</td><td>LV</td><td>0</td></tr><tr><th>3</th><td>453758</td><td>Grīžukrogs</td><td>LV</td><td>0</td></tr><tr><th>4</th><td>453759</td><td>Čolēni</td><td>LV</td><td>0</td></tr><tr><th>5</th><td>453764</td><td>Zvirgzdene</td><td>LV</td><td>0</td></tr></tbody></table></div>"
      ],
      "text/latex": [
       "\\begin{tabular}{r|cccc}\n",
       "\t& geonames\\_id & name & country\\_code & population\\\\\n",
       "\t\\hline\n",
       "\t& Int64 & String & String & Int64\\\\\n",
       "\t\\hline\n",
       "\t1 & 453754 & Valmiera & LV & 26963 \\\\\n",
       "\t2 & 453756 & Jaunzemji & LV & 0 \\\\\n",
       "\t3 & 453758 & Grīžukrogs & LV & 0 \\\\\n",
       "\t4 & 453759 & Čolēni & LV & 0 \\\\\n",
       "\t5 & 453764 & Zvirgzdene & LV & 0 \\\\\n",
       "\\end{tabular}\n"
      ],
      "text/plain": [
       "\u001b[1m5×4 DataFrame\u001b[0m\n",
       "\u001b[1m Row \u001b[0m│\u001b[1m geonames_id \u001b[0m\u001b[1m name       \u001b[0m\u001b[1m country_code \u001b[0m\u001b[1m population \u001b[0m\n",
       "\u001b[1m     \u001b[0m│\u001b[90m Int64       \u001b[0m\u001b[90m String     \u001b[0m\u001b[90m String       \u001b[0m\u001b[90m Int64      \u001b[0m\n",
       "─────┼───────────────────────────────────────────────────\n",
       "   1 │      453754  Valmiera    LV                 26963\n",
       "   2 │      453756  Jaunzemji   LV                     0\n",
       "   3 │      453758  Grīžukrogs  LV                     0\n",
       "   4 │      453759  Čolēni      LV                     0\n",
       "   5 │      453764  Zvirgzdene  LV                     0"
      ]
     },
     "execution_count": 146,
     "metadata": {},
     "output_type": "execute_result"
    }
   ],
   "source": [
    "gn_dff[1:5, [:geonames_id, :name, :country_code, :population]]"
   ]
  },
  {
   "cell_type": "code",
   "execution_count": 147,
   "metadata": {},
   "outputs": [
    {
     "data": {
      "text/plain": [
       "(4091, 19)"
      ]
     },
     "execution_count": 147,
     "metadata": {},
     "output_type": "execute_result"
    }
   ],
   "source": [
    "size(gn_dff)"
   ]
  },
  {
   "cell_type": "markdown",
   "metadata": {},
   "source": [
    "Spalte für die Länder_ID einfügen"
   ]
  },
  {
   "cell_type": "code",
   "execution_count": 148,
   "metadata": {},
   "outputs": [],
   "source": [
    "gn_dff = rightjoin(df_country_m, gn_dff, on = :country_code);"
   ]
  },
  {
   "cell_type": "code",
   "execution_count": 149,
   "metadata": {},
   "outputs": [
    {
     "name": "stderr",
     "output_type": "stream",
     "text": [
      "┌ Info: Rows inserted: 4091\n",
      "└ @ WiagDataSetup C:\\Users\\Georg\\Documents\\projekte\\WiagDataSetup.jl\\src\\WiagDataSetup.jl:1171\n"
     ]
    },
    {
     "data": {
      "text/plain": [
       "4091"
      ]
     },
     "execution_count": 149,
     "metadata": {},
     "output_type": "execute_result"
    }
   ],
   "source": [
    "Wds.filltable!(\"place\", gn_dff[!, place_cols], clear_table = false)"
   ]
  },
  {
   "cell_type": "markdown",
   "metadata": {},
   "source": [
    "### Litauen"
   ]
  },
  {
   "cell_type": "code",
   "execution_count": 150,
   "metadata": {},
   "outputs": [
    {
     "data": {
      "text/plain": [
       "\"C:\\\\Users\\\\georg\\\\Documents\\\\projekte-doc\\\\WiagDataSetup\\\\GeoNames\\\\LT\\\\LT.txt\""
      ]
     },
     "execution_count": 150,
     "metadata": {},
     "output_type": "execute_result"
    }
   ],
   "source": [
    "gn_filename = joinpath(gn_path, \"LT\", \"LT.txt\")"
   ]
  },
  {
   "cell_type": "code",
   "execution_count": 151,
   "metadata": {},
   "outputs": [],
   "source": [
    "gn_df = CSV.read(gn_filename, DataFrame, header=gn_header, types=gn_types);"
   ]
  },
  {
   "cell_type": "markdown",
   "metadata": {},
   "source": [
    "filtern nach Art des Features"
   ]
  },
  {
   "cell_type": "code",
   "execution_count": 152,
   "metadata": {},
   "outputs": [],
   "source": [
    "gn_dff = filter([:feature_class, :feature_code] => filter_places, gn_df);"
   ]
  },
  {
   "cell_type": "code",
   "execution_count": 153,
   "metadata": {},
   "outputs": [
    {
     "data": {
      "text/html": [
       "<div class=\"data-frame\"><p>5 rows × 4 columns</p><table class=\"data-frame\"><thead><tr><th></th><th>geonames_id</th><th>name</th><th>country_code</th><th>population</th></tr><tr><th></th><th title=\"Int64\">Int64</th><th title=\"String\">String</th><th title=\"String\">String</th><th title=\"Int64\">Int64</th></tr></thead><tbody><tr><th>1</th><td>592647</td><td>Bileišiai</td><td>LT</td><td>0</td></tr><tr><th>2</th><td>592648</td><td>Abakai</td><td>LT</td><td>0</td></tr><tr><th>3</th><td>592650</td><td>Zypliai</td><td>LT</td><td>0</td></tr><tr><th>4</th><td>592651</td><td>Žyniai</td><td>LT</td><td>0</td></tr><tr><th>5</th><td>592652</td><td>Žyniai</td><td>LT</td><td>0</td></tr></tbody></table></div>"
      ],
      "text/latex": [
       "\\begin{tabular}{r|cccc}\n",
       "\t& geonames\\_id & name & country\\_code & population\\\\\n",
       "\t\\hline\n",
       "\t& Int64 & String & String & Int64\\\\\n",
       "\t\\hline\n",
       "\t1 & 592647 & Bileišiai & LT & 0 \\\\\n",
       "\t2 & 592648 & Abakai & LT & 0 \\\\\n",
       "\t3 & 592650 & Zypliai & LT & 0 \\\\\n",
       "\t4 & 592651 & Žyniai & LT & 0 \\\\\n",
       "\t5 & 592652 & Žyniai & LT & 0 \\\\\n",
       "\\end{tabular}\n"
      ],
      "text/plain": [
       "\u001b[1m5×4 DataFrame\u001b[0m\n",
       "\u001b[1m Row \u001b[0m│\u001b[1m geonames_id \u001b[0m\u001b[1m name      \u001b[0m\u001b[1m country_code \u001b[0m\u001b[1m population \u001b[0m\n",
       "\u001b[1m     \u001b[0m│\u001b[90m Int64       \u001b[0m\u001b[90m String    \u001b[0m\u001b[90m String       \u001b[0m\u001b[90m Int64      \u001b[0m\n",
       "─────┼──────────────────────────────────────────────────\n",
       "   1 │      592647  Bileišiai  LT                     0\n",
       "   2 │      592648  Abakai     LT                     0\n",
       "   3 │      592650  Zypliai    LT                     0\n",
       "   4 │      592651  Žyniai     LT                     0\n",
       "   5 │      592652  Žyniai     LT                     0"
      ]
     },
     "execution_count": 153,
     "metadata": {},
     "output_type": "execute_result"
    }
   ],
   "source": [
    "gn_dff[1:5, [:geonames_id, :name, :country_code, :population]]"
   ]
  },
  {
   "cell_type": "code",
   "execution_count": 154,
   "metadata": {},
   "outputs": [
    {
     "data": {
      "text/plain": [
       "(19854, 19)"
      ]
     },
     "execution_count": 154,
     "metadata": {},
     "output_type": "execute_result"
    }
   ],
   "source": [
    "size(gn_dff)"
   ]
  },
  {
   "cell_type": "markdown",
   "metadata": {},
   "source": [
    "Spalte für die Länder_ID einfügen"
   ]
  },
  {
   "cell_type": "code",
   "execution_count": 155,
   "metadata": {},
   "outputs": [],
   "source": [
    "gn_dff = rightjoin(df_country_m, gn_dff, on = :country_code);"
   ]
  },
  {
   "cell_type": "code",
   "execution_count": 156,
   "metadata": {},
   "outputs": [
    {
     "name": "stderr",
     "output_type": "stream",
     "text": [
      "┌ Info: 10000\n",
      "└ @ WiagDataSetup C:\\Users\\Georg\\Documents\\projekte\\WiagDataSetup.jl\\src\\WiagDataSetup.jl:1148\n",
      "┌ Info: Rows inserted: 19854\n",
      "└ @ WiagDataSetup C:\\Users\\Georg\\Documents\\projekte\\WiagDataSetup.jl\\src\\WiagDataSetup.jl:1171\n"
     ]
    },
    {
     "data": {
      "text/plain": [
       "19854"
      ]
     },
     "execution_count": 156,
     "metadata": {},
     "output_type": "execute_result"
    }
   ],
   "source": [
    "Wds.filltable!(\"place\", gn_dff[!, place_cols], clear_table = false)"
   ]
  },
  {
   "cell_type": "markdown",
   "metadata": {},
   "source": [
    "### Kroatien"
   ]
  },
  {
   "cell_type": "code",
   "execution_count": 157,
   "metadata": {},
   "outputs": [
    {
     "data": {
      "text/plain": [
       "\"C:\\\\Users\\\\georg\\\\Documents\\\\projekte-doc\\\\WiagDataSetup\\\\GeoNames\\\\HR\\\\HR.txt\""
      ]
     },
     "execution_count": 157,
     "metadata": {},
     "output_type": "execute_result"
    }
   ],
   "source": [
    "gn_filename = joinpath(gn_path, \"HR\", \"HR.txt\")"
   ]
  },
  {
   "cell_type": "code",
   "execution_count": 158,
   "metadata": {},
   "outputs": [],
   "source": [
    "gn_df = CSV.read(gn_filename, DataFrame, header=gn_header, types=gn_types);"
   ]
  },
  {
   "cell_type": "markdown",
   "metadata": {},
   "source": [
    "filtern nach Art des Features"
   ]
  },
  {
   "cell_type": "code",
   "execution_count": 159,
   "metadata": {},
   "outputs": [],
   "source": [
    "gn_dff = filter([:feature_class, :feature_code] => filter_places, gn_df);"
   ]
  },
  {
   "cell_type": "code",
   "execution_count": 160,
   "metadata": {},
   "outputs": [
    {
     "data": {
      "text/html": [
       "<div class=\"data-frame\"><p>5 rows × 4 columns</p><table class=\"data-frame\"><thead><tr><th></th><th>geonames_id</th><th>name</th><th>country_code</th><th>population</th></tr><tr><th></th><th title=\"Int64\">Int64</th><th title=\"String\">String</th><th title=\"String\">String</th><th title=\"Int64\">Int64</th></tr></thead><tbody><tr><th>1</th><td>3186233</td><td>Vranjic</td><td>HR</td><td>1110</td></tr><tr><th>2</th><td>3186247</td><td>Zvonik</td><td>HR</td><td>87</td></tr><tr><th>3</th><td>3186248</td><td>Zvoneća</td><td>HR</td><td>0</td></tr><tr><th>4</th><td>3186263</td><td>Zverinac</td><td>HR</td><td>43</td></tr><tr><th>5</th><td>3186265</td><td>Zvekovac</td><td>HR</td><td>193</td></tr></tbody></table></div>"
      ],
      "text/latex": [
       "\\begin{tabular}{r|cccc}\n",
       "\t& geonames\\_id & name & country\\_code & population\\\\\n",
       "\t\\hline\n",
       "\t& Int64 & String & String & Int64\\\\\n",
       "\t\\hline\n",
       "\t1 & 3186233 & Vranjic & HR & 1110 \\\\\n",
       "\t2 & 3186247 & Zvonik & HR & 87 \\\\\n",
       "\t3 & 3186248 & Zvoneća & HR & 0 \\\\\n",
       "\t4 & 3186263 & Zverinac & HR & 43 \\\\\n",
       "\t5 & 3186265 & Zvekovac & HR & 193 \\\\\n",
       "\\end{tabular}\n"
      ],
      "text/plain": [
       "\u001b[1m5×4 DataFrame\u001b[0m\n",
       "\u001b[1m Row \u001b[0m│\u001b[1m geonames_id \u001b[0m\u001b[1m name     \u001b[0m\u001b[1m country_code \u001b[0m\u001b[1m population \u001b[0m\n",
       "\u001b[1m     \u001b[0m│\u001b[90m Int64       \u001b[0m\u001b[90m String   \u001b[0m\u001b[90m String       \u001b[0m\u001b[90m Int64      \u001b[0m\n",
       "─────┼─────────────────────────────────────────────────\n",
       "   1 │     3186233  Vranjic   HR                  1110\n",
       "   2 │     3186247  Zvonik    HR                    87\n",
       "   3 │     3186248  Zvoneća   HR                     0\n",
       "   4 │     3186263  Zverinac  HR                    43\n",
       "   5 │     3186265  Zvekovac  HR                   193"
      ]
     },
     "execution_count": 160,
     "metadata": {},
     "output_type": "execute_result"
    }
   ],
   "source": [
    "gn_dff[1:5, [:geonames_id, :name, :country_code, :population]]"
   ]
  },
  {
   "cell_type": "code",
   "execution_count": 161,
   "metadata": {},
   "outputs": [
    {
     "data": {
      "text/plain": [
       "(9902, 19)"
      ]
     },
     "execution_count": 161,
     "metadata": {},
     "output_type": "execute_result"
    }
   ],
   "source": [
    "size(gn_dff)"
   ]
  },
  {
   "cell_type": "markdown",
   "metadata": {},
   "source": [
    "Spalte für die Länder_ID einfügen"
   ]
  },
  {
   "cell_type": "code",
   "execution_count": 162,
   "metadata": {},
   "outputs": [],
   "source": [
    "gn_dff = rightjoin(df_country_m, gn_dff, on = :country_code);"
   ]
  },
  {
   "cell_type": "code",
   "execution_count": 163,
   "metadata": {},
   "outputs": [
    {
     "name": "stderr",
     "output_type": "stream",
     "text": [
      "┌ Info: Rows inserted: 9902\n",
      "└ @ WiagDataSetup C:\\Users\\Georg\\Documents\\projekte\\WiagDataSetup.jl\\src\\WiagDataSetup.jl:1171\n"
     ]
    },
    {
     "data": {
      "text/plain": [
       "9902"
      ]
     },
     "execution_count": 163,
     "metadata": {},
     "output_type": "execute_result"
    }
   ],
   "source": [
    "Wds.filltable!(\"place\", gn_dff[!, place_cols], clear_table = false)"
   ]
  },
  {
   "cell_type": "markdown",
   "metadata": {},
   "source": [
    "### Königsberg - Russland"
   ]
  },
  {
   "cell_type": "code",
   "execution_count": 176,
   "metadata": {},
   "outputs": [
    {
     "data": {
      "text/plain": [
       "\"C:\\\\Users\\\\georg\\\\Documents\\\\projekte-doc\\\\WiagDataSetup\\\\GeoNames\\\\RU\\\\RU.txt\""
      ]
     },
     "execution_count": 176,
     "metadata": {},
     "output_type": "execute_result"
    }
   ],
   "source": [
    "gn_filename = joinpath(gn_path, \"RU\", \"RU.txt\")"
   ]
  },
  {
   "cell_type": "code",
   "execution_count": 177,
   "metadata": {},
   "outputs": [],
   "source": [
    "gn_df = CSV.read(gn_filename, DataFrame, header=gn_header, types=gn_types);"
   ]
  },
  {
   "cell_type": "markdown",
   "metadata": {},
   "source": [
    "filtern nach Art des Features"
   ]
  },
  {
   "cell_type": "code",
   "execution_count": 178,
   "metadata": {},
   "outputs": [],
   "source": [
    "gn_dff = filter([:feature_class, :feature_code] => filter_places, gn_df);"
   ]
  },
  {
   "cell_type": "code",
   "execution_count": 179,
   "metadata": {},
   "outputs": [
    {
     "data": {
      "text/html": [
       "<div class=\"data-frame\"><p>5 rows × 4 columns</p><table class=\"data-frame\"><thead><tr><th></th><th>geonames_id</th><th>name</th><th>country_code</th><th>population</th></tr><tr><th></th><th title=\"Int64\">Int64</th><th title=\"String\">String</th><th title=\"String\">String</th><th title=\"Int64\">Int64</th></tr></thead><tbody><tr><th>1</th><td>451747</td><td>Zyabrikovo</td><td>RU</td><td>0</td></tr><tr><th>2</th><td>451748</td><td>Znamenka</td><td>RU</td><td>0</td></tr><tr><th>3</th><td>451749</td><td>Zhukovo</td><td>RU</td><td>0</td></tr><tr><th>4</th><td>451750</td><td>Zhitovo</td><td>RU</td><td>0</td></tr><tr><th>5</th><td>451751</td><td>Zhitnikovo</td><td>RU</td><td>0</td></tr></tbody></table></div>"
      ],
      "text/latex": [
       "\\begin{tabular}{r|cccc}\n",
       "\t& geonames\\_id & name & country\\_code & population\\\\\n",
       "\t\\hline\n",
       "\t& Int64 & String & String & Int64\\\\\n",
       "\t\\hline\n",
       "\t1 & 451747 & Zyabrikovo & RU & 0 \\\\\n",
       "\t2 & 451748 & Znamenka & RU & 0 \\\\\n",
       "\t3 & 451749 & Zhukovo & RU & 0 \\\\\n",
       "\t4 & 451750 & Zhitovo & RU & 0 \\\\\n",
       "\t5 & 451751 & Zhitnikovo & RU & 0 \\\\\n",
       "\\end{tabular}\n"
      ],
      "text/plain": [
       "\u001b[1m5×4 DataFrame\u001b[0m\n",
       "\u001b[1m Row \u001b[0m│\u001b[1m geonames_id \u001b[0m\u001b[1m name       \u001b[0m\u001b[1m country_code \u001b[0m\u001b[1m population \u001b[0m\n",
       "\u001b[1m     \u001b[0m│\u001b[90m Int64       \u001b[0m\u001b[90m String     \u001b[0m\u001b[90m String       \u001b[0m\u001b[90m Int64      \u001b[0m\n",
       "─────┼───────────────────────────────────────────────────\n",
       "   1 │      451747  Zyabrikovo  RU                     0\n",
       "   2 │      451748  Znamenka    RU                     0\n",
       "   3 │      451749  Zhukovo     RU                     0\n",
       "   4 │      451750  Zhitovo     RU                     0\n",
       "   5 │      451751  Zhitnikovo  RU                     0"
      ]
     },
     "execution_count": 179,
     "metadata": {},
     "output_type": "execute_result"
    }
   ],
   "source": [
    "gn_dff[1:5, [:geonames_id, :name, :country_code, :population]]"
   ]
  },
  {
   "cell_type": "code",
   "execution_count": 180,
   "metadata": {},
   "outputs": [
    {
     "data": {
      "text/plain": [
       "(201312, 19)"
      ]
     },
     "execution_count": 180,
     "metadata": {},
     "output_type": "execute_result"
    }
   ],
   "source": [
    "size(gn_dff)"
   ]
  },
  {
   "cell_type": "markdown",
   "metadata": {},
   "source": [
    "Extrahiere Königsberg"
   ]
  },
  {
   "cell_type": "code",
   "execution_count": 181,
   "metadata": {},
   "outputs": [
    {
     "data": {
      "text/html": [
       "<div class=\"data-frame\"><p>1 rows × 19 columns (omitted printing of 15 columns)</p><table class=\"data-frame\"><thead><tr><th></th><th>geonames_id</th><th>name</th><th>asciiname</th><th>alternatenames</th></tr><tr><th></th><th title=\"Int64\">Int64</th><th title=\"String\">String</th><th title=\"Union{Missing, String}\">String?</th><th title=\"Union{Missing, String}\">String?</th></tr></thead><tbody><tr><th>1</th><td>554234</td><td>Kaliningrad</td><td>Kaliningrad</td><td>Caliningrado,Calininopolis,KGD,Kalinin&apos;nkrant,Kaliningrad,Kaliningrada,Kaliningradas,Kaliningrado,Kaliningradum,Kaliningrau,Kaliningráu,Kalininqrad,Kalinjingrad,Kalinyingrad,Kalinyingrád,Kalińingrad,Kalíníngrad,Karaliaucios,Karaliaucius,Karaliaučios,Karaliaučius,Kaļiņingrada,Kenisberg,Koenigsbarg,Koenigsberg,Koenigsberg in Preussen,Korigsberg,Krolewiec,Królewiec,Kënisberg,Königsbarg,Königsberg,Königsberg in Preußen,Körigsberg,jia li ning ge lei,kalininagrada,kalliningeuladeu,kalynynghrad,kalynyngrad,kariningurado,qlynyngrd,Καλίνινγκραντ,Калининград,Калињинград,Калінінград,Կալինինգրադ,קלינינגרד,كالينينغراد,کالیننگراڈ,کالینینگراد,کیلننگراڈ,कालिनिनग्राद,ಕಲಿನಿನ್\\u200dಗ್ರಾಡ್,კალინინგრადი,カリーニングラード,加里寧格勒,칼리닌그라드</td></tr></tbody></table></div>"
      ],
      "text/latex": [
       "\\begin{tabular}{r|ccccc}\n",
       "\t& geonames\\_id & name & asciiname & alternatenames & \\\\\n",
       "\t\\hline\n",
       "\t& Int64 & String & String? & String? & \\\\\n",
       "\t\\hline\n",
       "\t1 & 554234 & Kaliningrad & Kaliningrad & Caliningrado,Calininopolis,KGD,Kalinin'nkrant,Kaliningrad,Kaliningrada,Kaliningradas,Kaliningrado,Kaliningradum,Kaliningrau,Kaliningráu,Kalininqrad,Kalinjingrad,Kalinyingrad,Kalinyingrád,Kalińingrad,Kalíníngrad,Karaliaucios,Karaliaucius,Karaliaučios,Karaliaučius,Kaļiņingrada,Kenisberg,Koenigsbarg,Koenigsberg,Koenigsberg in Preussen,Korigsberg,Krolewiec,Królewiec,Kënisberg,Königsbarg,Königsberg,Königsberg in Preußen,Körigsberg,jia li ning ge lei,kalininagrada,kalliningeuladeu,kalynynghrad,kalynyngrad,kariningurado,qlynyngrd,Καλίνινγκραντ,Калининград,Калињинград,Калінінград,Կալինինգրադ,קלינינגרד,كالينينغراد,کالیننگراڈ,کالینینگراد,کیلننگراڈ,कालिनिनग्राद,ಕಲಿನಿನ್\\textbackslash{}u200dಗ್ರಾಡ್,კალინინგრადი,カリーニングラード,加里寧格勒,칼리닌그라드 & $\\dots$ \\\\\n",
       "\\end{tabular}\n"
      ],
      "text/plain": [
       "\u001b[1m1×19 DataFrame\u001b[0m\n",
       "\u001b[1m Row \u001b[0m│\u001b[1m geonames_id \u001b[0m\u001b[1m name        \u001b[0m\u001b[1m asciiname   \u001b[0m\u001b[1m alternatenames                  \u001b[0m ⋯\n",
       "\u001b[1m     \u001b[0m│\u001b[90m Int64       \u001b[0m\u001b[90m String      \u001b[0m\u001b[90m String?     \u001b[0m\u001b[90m String?                         \u001b[0m ⋯\n",
       "─────┼──────────────────────────────────────────────────────────────────────────\n",
       "   1 │      554234  Kaliningrad  Kaliningrad  Caliningrado,Calininopolis,KGD,K ⋯\n",
       "\u001b[36m                                                              16 columns omitted\u001b[0m"
      ]
     },
     "execution_count": 181,
     "metadata": {},
     "output_type": "execute_result"
    }
   ],
   "source": [
    "gn_dff_kb = filter(:name => isequal(\"Kaliningrad\"), gn_dff)"
   ]
  },
  {
   "cell_type": "markdown",
   "metadata": {},
   "source": [
    "Spalte für die Länder_ID einfügen"
   ]
  },
  {
   "cell_type": "code",
   "execution_count": 184,
   "metadata": {},
   "outputs": [],
   "source": [
    "gn_dff_kb = rightjoin(df_country_m, gn_dff_kb, on = :country_code);"
   ]
  },
  {
   "cell_type": "code",
   "execution_count": 185,
   "metadata": {},
   "outputs": [
    {
     "name": "stderr",
     "output_type": "stream",
     "text": [
      "┌ Info: Rows inserted: 1\n",
      "└ @ WiagDataSetup C:\\Users\\Georg\\Documents\\projekte\\WiagDataSetup.jl\\src\\WiagDataSetup.jl:1171\n"
     ]
    },
    {
     "data": {
      "text/plain": [
       "1"
      ]
     },
     "execution_count": 185,
     "metadata": {},
     "output_type": "execute_result"
    }
   ],
   "source": [
    "Wds.filltable!(\"place\", gn_dff_kb[!, place_cols], clear_table = false)"
   ]
  },
  {
   "cell_type": "code",
   "execution_count": 186,
   "metadata": {},
   "outputs": [
    {
     "data": {
      "text/html": [
       "<div class=\"data-frame\"><p>1 rows × 1 columns</p><table class=\"data-frame\"><thead><tr><th></th><th>COUNT(*)</th></tr><tr><th></th><th title=\"Int64\">Int64</th></tr></thead><tbody><tr><th>1</th><td>391240</td></tr></tbody></table></div>"
      ],
      "text/latex": [
       "\\begin{tabular}{r|c}\n",
       "\t& COUNT(*)\\\\\n",
       "\t\\hline\n",
       "\t& Int64\\\\\n",
       "\t\\hline\n",
       "\t1 & 391240 \\\\\n",
       "\\end{tabular}\n"
      ],
      "text/plain": [
       "\u001b[1m1×1 DataFrame\u001b[0m\n",
       "\u001b[1m Row \u001b[0m│\u001b[1m COUNT(*) \u001b[0m\n",
       "\u001b[1m     \u001b[0m│\u001b[90m Int64    \u001b[0m\n",
       "─────┼──────────\n",
       "   1 │   391240"
      ]
     },
     "execution_count": 186,
     "metadata": {},
     "output_type": "execute_result"
    }
   ],
   "source": [
    "DBInterface.execute(Wds.dbwiag, \"SELECT COUNT(*) FROM place\") |> DataFrame"
   ]
  },
  {
   "cell_type": "markdown",
   "metadata": {},
   "source": [
    "### Fremdsprachliche Namen"
   ]
  },
  {
   "cell_type": "code",
   "execution_count": 9,
   "metadata": {},
   "outputs": [],
   "source": [
    "using CSV, DataFrames, MySQL"
   ]
  },
  {
   "cell_type": "code",
   "execution_count": 17,
   "metadata": {},
   "outputs": [
    {
     "data": {
      "text/plain": [
       "\"C:\\\\Users\\\\georg\\\\Documents\\\\projekte-doc\\\\WiagDataSetup\\\\GeoNames\\\\alternatenames\""
      ]
     },
     "execution_count": 17,
     "metadata": {},
     "output_type": "execute_result"
    }
   ],
   "source": [
    "gnl_path = \"C:\\\\Users\\\\georg\\\\Documents\\\\projekte-doc\\\\WiagDataSetup\\\\GeoNames\\\\alternatenames\""
   ]
  },
  {
   "cell_type": "code",
   "execution_count": 56,
   "metadata": {},
   "outputs": [],
   "source": [
    "gnl_header = [\"id\", \"geonames_id\", \"lang\", \"label\", \n",
    "              \"is_preferred\", \"isShort\", \"isColloquial\", \"is_historic\", \"from\", \"to\"];\n",
    "\n",
    "gnl_types = [Int, Int, String, String,\n",
    "             Int, Int, Int, Int, String, String];"
   ]
  },
  {
   "cell_type": "code",
   "execution_count": 15,
   "metadata": {},
   "outputs": [],
   "source": [
    "lang_codes = [\"la\", \"fr\", \"cz\", \"de\", \"pl\", \"en\", \"nl\", \"it\"];"
   ]
  },
  {
   "cell_type": "code",
   "execution_count": 48,
   "metadata": {},
   "outputs": [
    {
     "data": {
      "text/plain": [
       "filter_lang (generic function with 1 method)"
      ]
     },
     "execution_count": 48,
     "metadata": {},
     "output_type": "execute_result"
    }
   ],
   "source": [
    "filter_lang(lc) = !ismissing(lc) && lc in lang_codes"
   ]
  },
  {
   "cell_type": "code",
   "execution_count": 24,
   "metadata": {},
   "outputs": [],
   "source": [
    "country_codes = [\"DE\", \"NL\", \"BE\", \"FR\", \"IT\", \"CH\", \"AT\", \"DK\",\n",
    "    \"PL\", \"LU\", \"CZ\", \"LI\", \"LV\", \"LT\", \"HR\", \"EE\", \"RU\"];"
   ]
  },
  {
   "cell_type": "markdown",
   "metadata": {},
   "source": [
    "### Deutschland"
   ]
  },
  {
   "cell_type": "code",
   "execution_count": 229,
   "metadata": {},
   "outputs": [
    {
     "data": {
      "text/plain": [
       "\"DE\""
      ]
     },
     "execution_count": 229,
     "metadata": {},
     "output_type": "execute_result"
    }
   ],
   "source": [
    "cc = \"DE\""
   ]
  },
  {
   "cell_type": "code",
   "execution_count": 230,
   "metadata": {},
   "outputs": [
    {
     "data": {
      "text/plain": [
       "\"C:\\\\Users\\\\georg\\\\Documents\\\\projekte-doc\\\\WiagDataSetup\\\\GeoNames\\\\alternatenames\\\\DE\\\\DE.txt\""
      ]
     },
     "execution_count": 230,
     "metadata": {},
     "output_type": "execute_result"
    }
   ],
   "source": [
    "gnl_filename = joinpath(gnl_path, cc, cc * \".txt\")"
   ]
  },
  {
   "cell_type": "code",
   "execution_count": 231,
   "metadata": {},
   "outputs": [],
   "source": [
    "gnl_df = CSV.read(gnl_filename, DataFrame, header=gnl_header, types=gnl_types);"
   ]
  },
  {
   "cell_type": "code",
   "execution_count": 232,
   "metadata": {},
   "outputs": [
    {
     "data": {
      "text/plain": [
       "(217238, 10)"
      ]
     },
     "execution_count": 232,
     "metadata": {},
     "output_type": "execute_result"
    }
   ],
   "source": [
    "size(gnl_df)"
   ]
  },
  {
   "cell_type": "code",
   "execution_count": 233,
   "metadata": {},
   "outputs": [],
   "source": [
    "gnl_df = filter(:lang => filter_lang, gnl_df);"
   ]
  },
  {
   "cell_type": "code",
   "execution_count": 234,
   "metadata": {},
   "outputs": [
    {
     "data": {
      "text/plain": [
       "(29410, 10)"
      ]
     },
     "execution_count": 234,
     "metadata": {},
     "output_type": "execute_result"
    }
   ],
   "source": [
    "size(gnl_df)"
   ]
  },
  {
   "cell_type": "markdown",
   "metadata": {},
   "source": [
    "Bundesländer/Kantone/Regionen einlesen, um relevante Namen zu übernehmen"
   ]
  },
  {
   "cell_type": "code",
   "execution_count": 235,
   "metadata": {},
   "outputs": [],
   "source": [
    "sql = \"SELECT name, geonames_id \" *\n",
    "      \"FROM country_level_1 WHERE country_code = '\" * cc * \"'\";\n",
    "cl_df = DBInterface.execute(Wds.dbwiag, sql) |> DataFrame;"
   ]
  },
  {
   "cell_type": "code",
   "execution_count": 236,
   "metadata": {},
   "outputs": [],
   "source": [
    "gnl_cl_df = innerjoin(gnl_df, cl_df, on = :geonames_id);"
   ]
  },
  {
   "cell_type": "code",
   "execution_count": 237,
   "metadata": {},
   "outputs": [
    {
     "data": {
      "text/plain": [
       "(117, 11)"
      ]
     },
     "execution_count": 237,
     "metadata": {},
     "output_type": "execute_result"
    }
   ],
   "source": [
    "size(gnl_cl_df)"
   ]
  },
  {
   "cell_type": "code",
   "execution_count": 239,
   "metadata": {},
   "outputs": [
    {
     "name": "stderr",
     "output_type": "stream",
     "text": [
      "┌ Info: Rows inserted: 117\n",
      "└ @ WiagDataSetup C:\\Users\\Georg\\Documents\\projekte\\WiagDataSetup.jl\\src\\WiagDataSetup.jl:1171\n"
     ]
    },
    {
     "data": {
      "text/plain": [
       "117"
      ]
     },
     "execution_count": 239,
     "metadata": {},
     "output_type": "execute_result"
    }
   ],
   "source": [
    "Wds.filltable!(\"place_label\", select(gnl_cl_df, Not([:isShort, :isColloquial, :from, :to, :name])))"
   ]
  },
  {
   "cell_type": "markdown",
   "metadata": {},
   "source": [
    "Orte einlesen, um nur relevante Namen zu übernehmen"
   ]
  },
  {
   "cell_type": "code",
   "execution_count": 40,
   "metadata": {},
   "outputs": [],
   "source": [
    "sql = \"SELECT name, geonames_id \" *\n",
    "      \"FROM place WHERE country_code = '\" * cc * \"'\";\n",
    "p_df = DBInterface.execute(Wds.dbwiag, sql) |> DataFrame;"
   ]
  },
  {
   "cell_type": "code",
   "execution_count": 43,
   "metadata": {},
   "outputs": [
    {
     "data": {
      "text/plain": [
       "(79810, 2)"
      ]
     },
     "execution_count": 43,
     "metadata": {},
     "output_type": "execute_result"
    }
   ],
   "source": [
    "size(p_df)"
   ]
  },
  {
   "cell_type": "code",
   "execution_count": 61,
   "metadata": {},
   "outputs": [],
   "source": [
    "gnl_p_df = innerjoin(gnl_df, p_df, on = :geonames_id);"
   ]
  },
  {
   "cell_type": "code",
   "execution_count": 62,
   "metadata": {},
   "outputs": [
    {
     "name": "stderr",
     "output_type": "stream",
     "text": [
      "┌ Info: Rows inserted: 4364\n",
      "└ @ WiagDataSetup C:\\Users\\Georg\\Documents\\projekte\\WiagDataSetup.jl\\src\\WiagDataSetup.jl:1171\n"
     ]
    },
    {
     "data": {
      "text/plain": [
       "4364"
      ]
     },
     "execution_count": 62,
     "metadata": {},
     "output_type": "execute_result"
    }
   ],
   "source": [
    "Wds.filltable!(\"place_label\", select(gnl_p_df, Not([:isShort, :isColloquial, :from, :to, :name])))"
   ]
  },
  {
   "cell_type": "markdown",
   "metadata": {},
   "source": [
    "### Niederlande"
   ]
  },
  {
   "cell_type": "code",
   "execution_count": 240,
   "metadata": {},
   "outputs": [
    {
     "data": {
      "text/plain": [
       "\"NL\""
      ]
     },
     "execution_count": 240,
     "metadata": {},
     "output_type": "execute_result"
    }
   ],
   "source": [
    "cc = \"NL\""
   ]
  },
  {
   "cell_type": "code",
   "execution_count": 241,
   "metadata": {},
   "outputs": [
    {
     "data": {
      "text/plain": [
       "\"C:\\\\Users\\\\georg\\\\Documents\\\\projekte-doc\\\\WiagDataSetup\\\\GeoNames\\\\alternatenames\\\\NL\\\\NL.txt\""
      ]
     },
     "execution_count": 241,
     "metadata": {},
     "output_type": "execute_result"
    }
   ],
   "source": [
    "gnl_filename = joinpath(gnl_path, cc, cc * \".txt\")"
   ]
  },
  {
   "cell_type": "code",
   "execution_count": 242,
   "metadata": {},
   "outputs": [],
   "source": [
    "gnl_df = CSV.read(gnl_filename, DataFrame, header=gnl_header, types=gnl_types);"
   ]
  },
  {
   "cell_type": "code",
   "execution_count": 243,
   "metadata": {},
   "outputs": [
    {
     "data": {
      "text/plain": [
       "(28157, 10)"
      ]
     },
     "execution_count": 243,
     "metadata": {},
     "output_type": "execute_result"
    }
   ],
   "source": [
    "size(gnl_df)"
   ]
  },
  {
   "cell_type": "code",
   "execution_count": 244,
   "metadata": {},
   "outputs": [],
   "source": [
    "gnl_df = filter(:lang => filter_lang, gnl_df);"
   ]
  },
  {
   "cell_type": "code",
   "execution_count": 245,
   "metadata": {},
   "outputs": [
    {
     "data": {
      "text/plain": [
       "(3262, 10)"
      ]
     },
     "execution_count": 245,
     "metadata": {},
     "output_type": "execute_result"
    }
   ],
   "source": [
    "size(gnl_df)"
   ]
  },
  {
   "cell_type": "markdown",
   "metadata": {},
   "source": [
    "Bundesländer/Kantone/Regionen einlesen, um relevante Namen zu übernehmen"
   ]
  },
  {
   "cell_type": "code",
   "execution_count": 246,
   "metadata": {},
   "outputs": [],
   "source": [
    "sql = \"SELECT name, geonames_id \" *\n",
    "      \"FROM country_level_1 WHERE country_code = '\" * cc * \"'\";\n",
    "cl_df = DBInterface.execute(Wds.dbwiag, sql) |> DataFrame;"
   ]
  },
  {
   "cell_type": "code",
   "execution_count": 247,
   "metadata": {},
   "outputs": [],
   "source": [
    "gnl_cl_df = innerjoin(gnl_df, cl_df, on = :geonames_id);"
   ]
  },
  {
   "cell_type": "code",
   "execution_count": 249,
   "metadata": {},
   "outputs": [
    {
     "data": {
      "text/plain": [
       "(72, 11)"
      ]
     },
     "execution_count": 249,
     "metadata": {},
     "output_type": "execute_result"
    }
   ],
   "source": [
    "size(gnl_cl_df)"
   ]
  },
  {
   "cell_type": "code",
   "execution_count": 250,
   "metadata": {},
   "outputs": [
    {
     "name": "stderr",
     "output_type": "stream",
     "text": [
      "┌ Info: Rows inserted: 72\n",
      "└ @ WiagDataSetup C:\\Users\\Georg\\Documents\\projekte\\WiagDataSetup.jl\\src\\WiagDataSetup.jl:1171\n"
     ]
    },
    {
     "data": {
      "text/plain": [
       "72"
      ]
     },
     "execution_count": 250,
     "metadata": {},
     "output_type": "execute_result"
    }
   ],
   "source": [
    "Wds.filltable!(\"place_label\", select(gnl_cl_df, Not([:isShort, :isColloquial, :from, :to, :name])))"
   ]
  },
  {
   "cell_type": "markdown",
   "metadata": {},
   "source": [
    "Orte einlesen, um nur relevante Namen zu übernehmen"
   ]
  },
  {
   "cell_type": "code",
   "execution_count": 69,
   "metadata": {},
   "outputs": [],
   "source": [
    "sql = \"SELECT name, geonames_id \" *\n",
    "      \"FROM place WHERE country_code = '\" * cc * \"'\";\n",
    "p_df = DBInterface.execute(Wds.dbwiag, sql) |> DataFrame;"
   ]
  },
  {
   "cell_type": "code",
   "execution_count": 70,
   "metadata": {},
   "outputs": [
    {
     "data": {
      "text/plain": [
       "(7764, 2)"
      ]
     },
     "execution_count": 70,
     "metadata": {},
     "output_type": "execute_result"
    }
   ],
   "source": [
    "size(p_df)"
   ]
  },
  {
   "cell_type": "code",
   "execution_count": 71,
   "metadata": {},
   "outputs": [],
   "source": [
    "gnl_p_df = innerjoin(gnl_df, p_df, on = :geonames_id);"
   ]
  },
  {
   "cell_type": "code",
   "execution_count": 72,
   "metadata": {},
   "outputs": [
    {
     "name": "stderr",
     "output_type": "stream",
     "text": [
      "┌ Info: Rows inserted: 1848\n",
      "└ @ WiagDataSetup C:\\Users\\Georg\\Documents\\projekte\\WiagDataSetup.jl\\src\\WiagDataSetup.jl:1171\n"
     ]
    },
    {
     "data": {
      "text/plain": [
       "1848"
      ]
     },
     "execution_count": 72,
     "metadata": {},
     "output_type": "execute_result"
    }
   ],
   "source": [
    "Wds.filltable!(\"place_label\", select(gnl_p_df, Not([:isShort, :isColloquial, :from, :to, :name])))"
   ]
  },
  {
   "cell_type": "markdown",
   "metadata": {},
   "source": [
    "### Belgien"
   ]
  },
  {
   "cell_type": "code",
   "execution_count": 251,
   "metadata": {},
   "outputs": [
    {
     "data": {
      "text/plain": [
       "\"BE\""
      ]
     },
     "execution_count": 251,
     "metadata": {},
     "output_type": "execute_result"
    }
   ],
   "source": [
    "cc = \"BE\""
   ]
  },
  {
   "cell_type": "code",
   "execution_count": 252,
   "metadata": {},
   "outputs": [
    {
     "data": {
      "text/plain": [
       "\"C:\\\\Users\\\\georg\\\\Documents\\\\projekte-doc\\\\WiagDataSetup\\\\GeoNames\\\\alternatenames\\\\BE\\\\BE.txt\""
      ]
     },
     "execution_count": 252,
     "metadata": {},
     "output_type": "execute_result"
    }
   ],
   "source": [
    "gnl_filename = joinpath(gnl_path, cc, cc * \".txt\")"
   ]
  },
  {
   "cell_type": "code",
   "execution_count": 253,
   "metadata": {},
   "outputs": [],
   "source": [
    "gnl_df = CSV.read(gnl_filename, DataFrame, header=gnl_header, types=gnl_types);"
   ]
  },
  {
   "cell_type": "code",
   "execution_count": 254,
   "metadata": {},
   "outputs": [
    {
     "data": {
      "text/plain": [
       "(30448, 10)"
      ]
     },
     "execution_count": 254,
     "metadata": {},
     "output_type": "execute_result"
    }
   ],
   "source": [
    "size(gnl_df)"
   ]
  },
  {
   "cell_type": "code",
   "execution_count": 255,
   "metadata": {},
   "outputs": [],
   "source": [
    "gnl_df = filter(:lang => filter_lang, gnl_df);"
   ]
  },
  {
   "cell_type": "code",
   "execution_count": 256,
   "metadata": {},
   "outputs": [
    {
     "data": {
      "text/plain": [
       "(2825, 10)"
      ]
     },
     "execution_count": 256,
     "metadata": {},
     "output_type": "execute_result"
    }
   ],
   "source": [
    "size(gnl_df)"
   ]
  },
  {
   "cell_type": "markdown",
   "metadata": {},
   "source": [
    "Bundesländer/Kantone/Regionen einlesen, um relevante Namen zu übernehmen"
   ]
  },
  {
   "cell_type": "code",
   "execution_count": 257,
   "metadata": {},
   "outputs": [],
   "source": [
    "sql = \"SELECT name, geonames_id \" *\n",
    "      \"FROM country_level_1 WHERE country_code = '\" * cc * \"'\";\n",
    "cl_df = DBInterface.execute(Wds.dbwiag, sql) |> DataFrame;"
   ]
  },
  {
   "cell_type": "code",
   "execution_count": 258,
   "metadata": {},
   "outputs": [],
   "source": [
    "gnl_cl_df = innerjoin(gnl_df, cl_df, on = :geonames_id);"
   ]
  },
  {
   "cell_type": "code",
   "execution_count": 259,
   "metadata": {},
   "outputs": [
    {
     "data": {
      "text/plain": [
       "(26, 11)"
      ]
     },
     "execution_count": 259,
     "metadata": {},
     "output_type": "execute_result"
    }
   ],
   "source": [
    "size(gnl_cl_df)"
   ]
  },
  {
   "cell_type": "code",
   "execution_count": 260,
   "metadata": {},
   "outputs": [
    {
     "name": "stderr",
     "output_type": "stream",
     "text": [
      "┌ Info: Rows inserted: 26\n",
      "└ @ WiagDataSetup C:\\Users\\Georg\\Documents\\projekte\\WiagDataSetup.jl\\src\\WiagDataSetup.jl:1171\n"
     ]
    },
    {
     "data": {
      "text/plain": [
       "26"
      ]
     },
     "execution_count": 260,
     "metadata": {},
     "output_type": "execute_result"
    }
   ],
   "source": [
    "Wds.filltable!(\"place_label\", select(gnl_cl_df, Not([:isShort, :isColloquial, :from, :to, :name])))"
   ]
  },
  {
   "cell_type": "markdown",
   "metadata": {},
   "source": [
    "Orte einlesen, um nur relevante Namen zu übernehmen"
   ]
  },
  {
   "cell_type": "code",
   "execution_count": 79,
   "metadata": {},
   "outputs": [],
   "source": [
    "sql = \"SELECT name, geonames_id \" *\n",
    "      \"FROM place WHERE country_code = '\" * cc * \"'\";\n",
    "p_df = DBInterface.execute(Wds.dbwiag, sql) |> DataFrame;"
   ]
  },
  {
   "cell_type": "code",
   "execution_count": 80,
   "metadata": {},
   "outputs": [
    {
     "data": {
      "text/plain": [
       "(12671, 2)"
      ]
     },
     "execution_count": 80,
     "metadata": {},
     "output_type": "execute_result"
    }
   ],
   "source": [
    "size(p_df)"
   ]
  },
  {
   "cell_type": "code",
   "execution_count": 81,
   "metadata": {},
   "outputs": [],
   "source": [
    "gnl_p_df = innerjoin(gnl_df, p_df, on = :geonames_id);"
   ]
  },
  {
   "cell_type": "code",
   "execution_count": 82,
   "metadata": {},
   "outputs": [
    {
     "name": "stderr",
     "output_type": "stream",
     "text": [
      "┌ Info: Rows inserted: 862\n",
      "└ @ WiagDataSetup C:\\Users\\Georg\\Documents\\projekte\\WiagDataSetup.jl\\src\\WiagDataSetup.jl:1171\n"
     ]
    },
    {
     "data": {
      "text/plain": [
       "862"
      ]
     },
     "execution_count": 82,
     "metadata": {},
     "output_type": "execute_result"
    }
   ],
   "source": [
    "Wds.filltable!(\"place_label\", select(gnl_p_df, Not([:isShort, :isColloquial, :from, :to, :name])))"
   ]
  },
  {
   "cell_type": "markdown",
   "metadata": {},
   "source": [
    "### Frankreich"
   ]
  },
  {
   "cell_type": "code",
   "execution_count": 261,
   "metadata": {},
   "outputs": [
    {
     "data": {
      "text/plain": [
       "\"FR\""
      ]
     },
     "execution_count": 261,
     "metadata": {},
     "output_type": "execute_result"
    }
   ],
   "source": [
    "cc = \"FR\""
   ]
  },
  {
   "cell_type": "code",
   "execution_count": 262,
   "metadata": {},
   "outputs": [
    {
     "data": {
      "text/plain": [
       "\"C:\\\\Users\\\\georg\\\\Documents\\\\projekte-doc\\\\WiagDataSetup\\\\GeoNames\\\\alternatenames\\\\FR\\\\FR.txt\""
      ]
     },
     "execution_count": 262,
     "metadata": {},
     "output_type": "execute_result"
    }
   ],
   "source": [
    "gnl_filename = joinpath(gnl_path, cc, cc * \".txt\")"
   ]
  },
  {
   "cell_type": "code",
   "execution_count": 263,
   "metadata": {},
   "outputs": [],
   "source": [
    "gnl_df = CSV.read(gnl_filename, DataFrame, header=gnl_header, types=gnl_types);"
   ]
  },
  {
   "cell_type": "code",
   "execution_count": 264,
   "metadata": {},
   "outputs": [
    {
     "data": {
      "text/plain": [
       "(436124, 10)"
      ]
     },
     "execution_count": 264,
     "metadata": {},
     "output_type": "execute_result"
    }
   ],
   "source": [
    "size(gnl_df)"
   ]
  },
  {
   "cell_type": "code",
   "execution_count": 265,
   "metadata": {},
   "outputs": [],
   "source": [
    "gnl_df = filter(:lang => filter_lang, gnl_df);"
   ]
  },
  {
   "cell_type": "code",
   "execution_count": 266,
   "metadata": {},
   "outputs": [
    {
     "data": {
      "text/plain": [
       "(69020, 10)"
      ]
     },
     "execution_count": 266,
     "metadata": {},
     "output_type": "execute_result"
    }
   ],
   "source": [
    "size(gnl_df)"
   ]
  },
  {
   "cell_type": "markdown",
   "metadata": {},
   "source": [
    "Bundesländer/Kantone/Regionen einlesen, um relevante Namen zu übernehmen"
   ]
  },
  {
   "cell_type": "code",
   "execution_count": 267,
   "metadata": {},
   "outputs": [],
   "source": [
    "sql = \"SELECT name, geonames_id \" *\n",
    "      \"FROM country_level_1 WHERE country_code = '\" * cc * \"'\";\n",
    "cl_df = DBInterface.execute(Wds.dbwiag, sql) |> DataFrame;"
   ]
  },
  {
   "cell_type": "code",
   "execution_count": 268,
   "metadata": {},
   "outputs": [],
   "source": [
    "gnl_cl_df = innerjoin(gnl_df, cl_df, on = :geonames_id);"
   ]
  },
  {
   "cell_type": "code",
   "execution_count": 269,
   "metadata": {},
   "outputs": [
    {
     "data": {
      "text/plain": [
       "(75, 11)"
      ]
     },
     "execution_count": 269,
     "metadata": {},
     "output_type": "execute_result"
    }
   ],
   "source": [
    "size(gnl_cl_df)"
   ]
  },
  {
   "cell_type": "code",
   "execution_count": 270,
   "metadata": {},
   "outputs": [
    {
     "name": "stderr",
     "output_type": "stream",
     "text": [
      "┌ Info: Rows inserted: 75\n",
      "└ @ WiagDataSetup C:\\Users\\Georg\\Documents\\projekte\\WiagDataSetup.jl\\src\\WiagDataSetup.jl:1171\n"
     ]
    },
    {
     "data": {
      "text/plain": [
       "75"
      ]
     },
     "execution_count": 270,
     "metadata": {},
     "output_type": "execute_result"
    }
   ],
   "source": [
    "Wds.filltable!(\"place_label\", select(gnl_cl_df, Not([:isShort, :isColloquial, :from, :to, :name])))"
   ]
  },
  {
   "cell_type": "markdown",
   "metadata": {},
   "source": [
    "Orte einlesen, um nur relevante Namen zu übernehmen"
   ]
  },
  {
   "cell_type": "code",
   "execution_count": 89,
   "metadata": {},
   "outputs": [],
   "source": [
    "sql = \"SELECT name, geonames_id \" *\n",
    "      \"FROM place WHERE country_code = '\" * cc * \"'\";\n",
    "p_df = DBInterface.execute(Wds.dbwiag, sql) |> DataFrame;"
   ]
  },
  {
   "cell_type": "code",
   "execution_count": 90,
   "metadata": {},
   "outputs": [
    {
     "data": {
      "text/plain": [
       "(80885, 2)"
      ]
     },
     "execution_count": 90,
     "metadata": {},
     "output_type": "execute_result"
    }
   ],
   "source": [
    "size(p_df)"
   ]
  },
  {
   "cell_type": "code",
   "execution_count": 91,
   "metadata": {},
   "outputs": [],
   "source": [
    "gnl_p_df = innerjoin(gnl_df, p_df, on = :geonames_id);"
   ]
  },
  {
   "cell_type": "code",
   "execution_count": 92,
   "metadata": {},
   "outputs": [
    {
     "name": "stderr",
     "output_type": "stream",
     "text": [
      "┌ Info: 10000\n",
      "└ @ WiagDataSetup C:\\Users\\Georg\\Documents\\projekte\\WiagDataSetup.jl\\src\\WiagDataSetup.jl:1148\n",
      "┌ Info: 20000\n",
      "└ @ WiagDataSetup C:\\Users\\Georg\\Documents\\projekte\\WiagDataSetup.jl\\src\\WiagDataSetup.jl:1148\n",
      "┌ Info: 30000\n",
      "└ @ WiagDataSetup C:\\Users\\Georg\\Documents\\projekte\\WiagDataSetup.jl\\src\\WiagDataSetup.jl:1148\n",
      "┌ Info: Rows inserted: 33108\n",
      "└ @ WiagDataSetup C:\\Users\\Georg\\Documents\\projekte\\WiagDataSetup.jl\\src\\WiagDataSetup.jl:1171\n"
     ]
    },
    {
     "data": {
      "text/plain": [
       "33108"
      ]
     },
     "execution_count": 92,
     "metadata": {},
     "output_type": "execute_result"
    }
   ],
   "source": [
    "Wds.filltable!(\"place_label\", select(gnl_p_df, Not([:isShort, :isColloquial, :from, :to, :name])))"
   ]
  },
  {
   "cell_type": "markdown",
   "metadata": {},
   "source": [
    "### Italien"
   ]
  },
  {
   "cell_type": "code",
   "execution_count": 271,
   "metadata": {},
   "outputs": [
    {
     "data": {
      "text/plain": [
       "\"IT\""
      ]
     },
     "execution_count": 271,
     "metadata": {},
     "output_type": "execute_result"
    }
   ],
   "source": [
    "cc = \"IT\""
   ]
  },
  {
   "cell_type": "code",
   "execution_count": 272,
   "metadata": {},
   "outputs": [
    {
     "data": {
      "text/plain": [
       "\"C:\\\\Users\\\\georg\\\\Documents\\\\projekte-doc\\\\WiagDataSetup\\\\GeoNames\\\\alternatenames\\\\IT\\\\IT.txt\""
      ]
     },
     "execution_count": 272,
     "metadata": {},
     "output_type": "execute_result"
    }
   ],
   "source": [
    "gnl_filename = joinpath(gnl_path, cc, cc * \".txt\")"
   ]
  },
  {
   "cell_type": "code",
   "execution_count": 273,
   "metadata": {},
   "outputs": [],
   "source": [
    "gnl_df = CSV.read(gnl_filename, DataFrame, header=gnl_header, types=gnl_types);"
   ]
  },
  {
   "cell_type": "code",
   "execution_count": 274,
   "metadata": {},
   "outputs": [
    {
     "data": {
      "text/plain": [
       "(235515, 10)"
      ]
     },
     "execution_count": 274,
     "metadata": {},
     "output_type": "execute_result"
    }
   ],
   "source": [
    "size(gnl_df)"
   ]
  },
  {
   "cell_type": "code",
   "execution_count": 275,
   "metadata": {},
   "outputs": [],
   "source": [
    "gnl_df = filter(:lang => filter_lang, gnl_df);"
   ]
  },
  {
   "cell_type": "code",
   "execution_count": 276,
   "metadata": {},
   "outputs": [
    {
     "data": {
      "text/plain": [
       "(55527, 10)"
      ]
     },
     "execution_count": 276,
     "metadata": {},
     "output_type": "execute_result"
    }
   ],
   "source": [
    "size(gnl_df)"
   ]
  },
  {
   "cell_type": "markdown",
   "metadata": {},
   "source": [
    "Bundesländer/Kantone/Regionen einlesen, um relevante Namen zu übernehmen"
   ]
  },
  {
   "cell_type": "code",
   "execution_count": 277,
   "metadata": {},
   "outputs": [],
   "source": [
    "sql = \"SELECT name, geonames_id \" *\n",
    "      \"FROM country_level_1 WHERE country_code = '\" * cc * \"'\";\n",
    "cl_df = DBInterface.execute(Wds.dbwiag, sql) |> DataFrame;"
   ]
  },
  {
   "cell_type": "code",
   "execution_count": 278,
   "metadata": {},
   "outputs": [],
   "source": [
    "gnl_cl_df = innerjoin(gnl_df, cl_df, on = :geonames_id);"
   ]
  },
  {
   "cell_type": "code",
   "execution_count": 279,
   "metadata": {},
   "outputs": [
    {
     "data": {
      "text/plain": [
       "(132, 11)"
      ]
     },
     "execution_count": 279,
     "metadata": {},
     "output_type": "execute_result"
    }
   ],
   "source": [
    "size(gnl_cl_df)"
   ]
  },
  {
   "cell_type": "code",
   "execution_count": 280,
   "metadata": {},
   "outputs": [
    {
     "name": "stderr",
     "output_type": "stream",
     "text": [
      "┌ Info: Rows inserted: 132\n",
      "└ @ WiagDataSetup C:\\Users\\Georg\\Documents\\projekte\\WiagDataSetup.jl\\src\\WiagDataSetup.jl:1171\n"
     ]
    },
    {
     "data": {
      "text/plain": [
       "132"
      ]
     },
     "execution_count": 280,
     "metadata": {},
     "output_type": "execute_result"
    }
   ],
   "source": [
    "Wds.filltable!(\"place_label\", select(gnl_cl_df, Not([:isShort, :isColloquial, :from, :to, :name])))"
   ]
  },
  {
   "cell_type": "markdown",
   "metadata": {},
   "source": [
    "Orte einlesen, um nur relevante Namen zu übernehmen"
   ]
  },
  {
   "cell_type": "code",
   "execution_count": 99,
   "metadata": {},
   "outputs": [],
   "source": [
    "sql = \"SELECT name, geonames_id \" *\n",
    "      \"FROM place WHERE country_code = '\" * cc * \"'\";\n",
    "p_df = DBInterface.execute(Wds.dbwiag, sql) |> DataFrame;"
   ]
  },
  {
   "cell_type": "code",
   "execution_count": 100,
   "metadata": {},
   "outputs": [
    {
     "data": {
      "text/plain": [
       "(62844, 2)"
      ]
     },
     "execution_count": 100,
     "metadata": {},
     "output_type": "execute_result"
    }
   ],
   "source": [
    "size(p_df)"
   ]
  },
  {
   "cell_type": "code",
   "execution_count": 101,
   "metadata": {},
   "outputs": [],
   "source": [
    "gnl_p_df = innerjoin(gnl_df, p_df, on = :geonames_id);"
   ]
  },
  {
   "cell_type": "code",
   "execution_count": 102,
   "metadata": {},
   "outputs": [
    {
     "name": "stderr",
     "output_type": "stream",
     "text": [
      "┌ Info: 10000\n",
      "└ @ WiagDataSetup C:\\Users\\Georg\\Documents\\projekte\\WiagDataSetup.jl\\src\\WiagDataSetup.jl:1148\n",
      "┌ Info: 20000\n",
      "└ @ WiagDataSetup C:\\Users\\Georg\\Documents\\projekte\\WiagDataSetup.jl\\src\\WiagDataSetup.jl:1148\n",
      "┌ Info: 30000\n",
      "└ @ WiagDataSetup C:\\Users\\Georg\\Documents\\projekte\\WiagDataSetup.jl\\src\\WiagDataSetup.jl:1148\n",
      "┌ Info: Rows inserted: 32162\n",
      "└ @ WiagDataSetup C:\\Users\\Georg\\Documents\\projekte\\WiagDataSetup.jl\\src\\WiagDataSetup.jl:1171\n"
     ]
    },
    {
     "data": {
      "text/plain": [
       "32162"
      ]
     },
     "execution_count": 102,
     "metadata": {},
     "output_type": "execute_result"
    }
   ],
   "source": [
    "Wds.filltable!(\"place_label\", select(gnl_p_df, Not([:isShort, :isColloquial, :from, :to, :name])))"
   ]
  },
  {
   "cell_type": "markdown",
   "metadata": {},
   "source": [
    "### Schweiz"
   ]
  },
  {
   "cell_type": "code",
   "execution_count": 281,
   "metadata": {},
   "outputs": [
    {
     "data": {
      "text/plain": [
       "\"CH\""
      ]
     },
     "execution_count": 281,
     "metadata": {},
     "output_type": "execute_result"
    }
   ],
   "source": [
    "cc = \"CH\""
   ]
  },
  {
   "cell_type": "code",
   "execution_count": 282,
   "metadata": {},
   "outputs": [
    {
     "data": {
      "text/plain": [
       "\"C:\\\\Users\\\\georg\\\\Documents\\\\projekte-doc\\\\WiagDataSetup\\\\GeoNames\\\\alternatenames\\\\CH\\\\CH.txt\""
      ]
     },
     "execution_count": 282,
     "metadata": {},
     "output_type": "execute_result"
    }
   ],
   "source": [
    "gnl_filename = joinpath(gnl_path, cc, cc * \".txt\")"
   ]
  },
  {
   "cell_type": "code",
   "execution_count": 283,
   "metadata": {},
   "outputs": [],
   "source": [
    "gnl_df = CSV.read(gnl_filename, DataFrame, header=gnl_header, types=gnl_types);"
   ]
  },
  {
   "cell_type": "code",
   "execution_count": 284,
   "metadata": {},
   "outputs": [
    {
     "data": {
      "text/plain": [
       "(89219, 10)"
      ]
     },
     "execution_count": 284,
     "metadata": {},
     "output_type": "execute_result"
    }
   ],
   "source": [
    "size(gnl_df)"
   ]
  },
  {
   "cell_type": "code",
   "execution_count": 285,
   "metadata": {},
   "outputs": [],
   "source": [
    "gnl_df = filter(:lang => filter_lang, gnl_df);"
   ]
  },
  {
   "cell_type": "code",
   "execution_count": 286,
   "metadata": {},
   "outputs": [
    {
     "data": {
      "text/plain": [
       "(55654, 10)"
      ]
     },
     "execution_count": 286,
     "metadata": {},
     "output_type": "execute_result"
    }
   ],
   "source": [
    "size(gnl_df)"
   ]
  },
  {
   "cell_type": "markdown",
   "metadata": {},
   "source": [
    "Bundesländer/Kantone/Regionen einlesen, um relevante Namen zu übernehmen"
   ]
  },
  {
   "cell_type": "code",
   "execution_count": 287,
   "metadata": {},
   "outputs": [],
   "source": [
    "sql = \"SELECT name, geonames_id \" *\n",
    "      \"FROM country_level_1 WHERE country_code = '\" * cc * \"'\";\n",
    "cl_df = DBInterface.execute(Wds.dbwiag, sql) |> DataFrame;"
   ]
  },
  {
   "cell_type": "code",
   "execution_count": 288,
   "metadata": {},
   "outputs": [],
   "source": [
    "gnl_cl_df = innerjoin(gnl_df, cl_df, on = :geonames_id);"
   ]
  },
  {
   "cell_type": "code",
   "execution_count": 289,
   "metadata": {},
   "outputs": [
    {
     "data": {
      "text/plain": [
       "(260, 11)"
      ]
     },
     "execution_count": 289,
     "metadata": {},
     "output_type": "execute_result"
    }
   ],
   "source": [
    "size(gnl_cl_df)"
   ]
  },
  {
   "cell_type": "code",
   "execution_count": 290,
   "metadata": {},
   "outputs": [
    {
     "name": "stderr",
     "output_type": "stream",
     "text": [
      "┌ Info: Rows inserted: 260\n",
      "└ @ WiagDataSetup C:\\Users\\Georg\\Documents\\projekte\\WiagDataSetup.jl\\src\\WiagDataSetup.jl:1171\n"
     ]
    },
    {
     "data": {
      "text/plain": [
       "260"
      ]
     },
     "execution_count": 290,
     "metadata": {},
     "output_type": "execute_result"
    }
   ],
   "source": [
    "Wds.filltable!(\"place_label\", select(gnl_cl_df, Not([:isShort, :isColloquial, :from, :to, :name])))"
   ]
  },
  {
   "cell_type": "markdown",
   "metadata": {},
   "source": [
    "Orte einlesen, um nur relevante Namen zu übernehmen"
   ]
  },
  {
   "cell_type": "code",
   "execution_count": 109,
   "metadata": {},
   "outputs": [],
   "source": [
    "sql = \"SELECT name, geonames_id \" *\n",
    "      \"FROM place WHERE country_code = '\" * cc * \"'\";\n",
    "p_df = DBInterface.execute(Wds.dbwiag, sql) |> DataFrame;"
   ]
  },
  {
   "cell_type": "code",
   "execution_count": 110,
   "metadata": {},
   "outputs": [
    {
     "data": {
      "text/plain": [
       "(13265, 2)"
      ]
     },
     "execution_count": 110,
     "metadata": {},
     "output_type": "execute_result"
    }
   ],
   "source": [
    "size(p_df)"
   ]
  },
  {
   "cell_type": "code",
   "execution_count": 111,
   "metadata": {},
   "outputs": [],
   "source": [
    "gnl_p_df = innerjoin(gnl_df, p_df, on = :geonames_id);"
   ]
  },
  {
   "cell_type": "code",
   "execution_count": 112,
   "metadata": {},
   "outputs": [
    {
     "name": "stderr",
     "output_type": "stream",
     "text": [
      "┌ Info: Rows inserted: 6277\n",
      "└ @ WiagDataSetup C:\\Users\\Georg\\Documents\\projekte\\WiagDataSetup.jl\\src\\WiagDataSetup.jl:1171\n"
     ]
    },
    {
     "data": {
      "text/plain": [
       "6277"
      ]
     },
     "execution_count": 112,
     "metadata": {},
     "output_type": "execute_result"
    }
   ],
   "source": [
    "Wds.filltable!(\"place_label\", select(gnl_p_df, Not([:isShort, :isColloquial, :from, :to, :name])))"
   ]
  },
  {
   "cell_type": "markdown",
   "metadata": {},
   "source": [
    "### Österreich"
   ]
  },
  {
   "cell_type": "code",
   "execution_count": 291,
   "metadata": {},
   "outputs": [
    {
     "data": {
      "text/plain": [
       "\"AT\""
      ]
     },
     "execution_count": 291,
     "metadata": {},
     "output_type": "execute_result"
    }
   ],
   "source": [
    "cc = \"AT\""
   ]
  },
  {
   "cell_type": "code",
   "execution_count": 292,
   "metadata": {},
   "outputs": [
    {
     "data": {
      "text/plain": [
       "\"C:\\\\Users\\\\georg\\\\Documents\\\\projekte-doc\\\\WiagDataSetup\\\\GeoNames\\\\alternatenames\\\\AT\\\\AT.txt\""
      ]
     },
     "execution_count": 292,
     "metadata": {},
     "output_type": "execute_result"
    }
   ],
   "source": [
    "gnl_filename = joinpath(gnl_path, cc, cc * \".txt\")"
   ]
  },
  {
   "cell_type": "code",
   "execution_count": 293,
   "metadata": {},
   "outputs": [],
   "source": [
    "gnl_df = CSV.read(gnl_filename, DataFrame, header=gnl_header, types=gnl_types);"
   ]
  },
  {
   "cell_type": "code",
   "execution_count": 294,
   "metadata": {},
   "outputs": [
    {
     "data": {
      "text/plain": [
       "(30649, 10)"
      ]
     },
     "execution_count": 294,
     "metadata": {},
     "output_type": "execute_result"
    }
   ],
   "source": [
    "size(gnl_df)"
   ]
  },
  {
   "cell_type": "code",
   "execution_count": 295,
   "metadata": {},
   "outputs": [],
   "source": [
    "gnl_df = filter(:lang => filter_lang, gnl_df);"
   ]
  },
  {
   "cell_type": "code",
   "execution_count": 296,
   "metadata": {},
   "outputs": [
    {
     "data": {
      "text/plain": [
       "(1820, 10)"
      ]
     },
     "execution_count": 296,
     "metadata": {},
     "output_type": "execute_result"
    }
   ],
   "source": [
    "size(gnl_df)"
   ]
  },
  {
   "cell_type": "markdown",
   "metadata": {},
   "source": [
    "Bundesländer/Kantone/Regionen einlesen, um relevante Namen zu übernehmen"
   ]
  },
  {
   "cell_type": "code",
   "execution_count": 297,
   "metadata": {},
   "outputs": [],
   "source": [
    "sql = \"SELECT name, geonames_id \" *\n",
    "      \"FROM country_level_1 WHERE country_code = '\" * cc * \"'\";\n",
    "cl_df = DBInterface.execute(Wds.dbwiag, sql) |> DataFrame;"
   ]
  },
  {
   "cell_type": "code",
   "execution_count": 298,
   "metadata": {},
   "outputs": [],
   "source": [
    "gnl_cl_df = innerjoin(gnl_df, cl_df, on = :geonames_id);"
   ]
  },
  {
   "cell_type": "code",
   "execution_count": 299,
   "metadata": {},
   "outputs": [
    {
     "data": {
      "text/plain": [
       "(56, 11)"
      ]
     },
     "execution_count": 299,
     "metadata": {},
     "output_type": "execute_result"
    }
   ],
   "source": [
    "size(gnl_cl_df)"
   ]
  },
  {
   "cell_type": "code",
   "execution_count": 300,
   "metadata": {},
   "outputs": [
    {
     "name": "stderr",
     "output_type": "stream",
     "text": [
      "┌ Info: Rows inserted: 56\n",
      "└ @ WiagDataSetup C:\\Users\\Georg\\Documents\\projekte\\WiagDataSetup.jl\\src\\WiagDataSetup.jl:1171\n"
     ]
    },
    {
     "data": {
      "text/plain": [
       "56"
      ]
     },
     "execution_count": 300,
     "metadata": {},
     "output_type": "execute_result"
    }
   ],
   "source": [
    "Wds.filltable!(\"place_label\", select(gnl_cl_df, Not([:isShort, :isColloquial, :from, :to, :name])))"
   ]
  },
  {
   "cell_type": "markdown",
   "metadata": {},
   "source": [
    "Orte einlesen, um nur relevante Namen zu übernehmen"
   ]
  },
  {
   "cell_type": "code",
   "execution_count": 125,
   "metadata": {},
   "outputs": [],
   "source": [
    "sql = \"SELECT name, geonames_id \" *\n",
    "      \"FROM place WHERE country_code = '\" * cc * \"'\";\n",
    "p_df = DBInterface.execute(Wds.dbwiag, sql) |> DataFrame;"
   ]
  },
  {
   "cell_type": "code",
   "execution_count": 126,
   "metadata": {},
   "outputs": [
    {
     "data": {
      "text/plain": [
       "(20924, 2)"
      ]
     },
     "execution_count": 126,
     "metadata": {},
     "output_type": "execute_result"
    }
   ],
   "source": [
    "size(p_df)"
   ]
  },
  {
   "cell_type": "code",
   "execution_count": 127,
   "metadata": {},
   "outputs": [],
   "source": [
    "gnl_p_df = innerjoin(gnl_df, p_df, on = :geonames_id);"
   ]
  },
  {
   "cell_type": "code",
   "execution_count": 128,
   "metadata": {},
   "outputs": [
    {
     "name": "stderr",
     "output_type": "stream",
     "text": [
      "┌ Info: Rows inserted: 728\n",
      "└ @ WiagDataSetup C:\\Users\\Georg\\Documents\\projekte\\WiagDataSetup.jl\\src\\WiagDataSetup.jl:1171\n"
     ]
    },
    {
     "data": {
      "text/plain": [
       "728"
      ]
     },
     "execution_count": 128,
     "metadata": {},
     "output_type": "execute_result"
    }
   ],
   "source": [
    "Wds.filltable!(\"place_label\", select(gnl_p_df, Not([:isShort, :isColloquial, :from, :to, :name])))"
   ]
  },
  {
   "cell_type": "markdown",
   "metadata": {},
   "source": [
    "### Dänemark"
   ]
  },
  {
   "cell_type": "code",
   "execution_count": 301,
   "metadata": {},
   "outputs": [
    {
     "data": {
      "text/plain": [
       "\"DK\""
      ]
     },
     "execution_count": 301,
     "metadata": {},
     "output_type": "execute_result"
    }
   ],
   "source": [
    "cc = \"DK\""
   ]
  },
  {
   "cell_type": "code",
   "execution_count": 302,
   "metadata": {},
   "outputs": [
    {
     "data": {
      "text/plain": [
       "\"C:\\\\Users\\\\georg\\\\Documents\\\\projekte-doc\\\\WiagDataSetup\\\\GeoNames\\\\alternatenames\\\\DK\\\\DK.txt\""
      ]
     },
     "execution_count": 302,
     "metadata": {},
     "output_type": "execute_result"
    }
   ],
   "source": [
    "gnl_filename = joinpath(gnl_path, cc, cc * \".txt\")"
   ]
  },
  {
   "cell_type": "code",
   "execution_count": 303,
   "metadata": {},
   "outputs": [],
   "source": [
    "gnl_df = CSV.read(gnl_filename, DataFrame, header=gnl_header, types=gnl_types);"
   ]
  },
  {
   "cell_type": "code",
   "execution_count": 304,
   "metadata": {},
   "outputs": [
    {
     "data": {
      "text/plain": [
       "(19391, 10)"
      ]
     },
     "execution_count": 304,
     "metadata": {},
     "output_type": "execute_result"
    }
   ],
   "source": [
    "size(gnl_df)"
   ]
  },
  {
   "cell_type": "code",
   "execution_count": 305,
   "metadata": {},
   "outputs": [],
   "source": [
    "gnl_df = filter(:lang => filter_lang, gnl_df);"
   ]
  },
  {
   "cell_type": "code",
   "execution_count": 306,
   "metadata": {},
   "outputs": [
    {
     "data": {
      "text/plain": [
       "(1136, 10)"
      ]
     },
     "execution_count": 306,
     "metadata": {},
     "output_type": "execute_result"
    }
   ],
   "source": [
    "size(gnl_df)"
   ]
  },
  {
   "cell_type": "markdown",
   "metadata": {},
   "source": [
    "Bundesländer/Kantone/Regionen einlesen, um relevante Namen zu übernehmen"
   ]
  },
  {
   "cell_type": "code",
   "execution_count": 307,
   "metadata": {},
   "outputs": [],
   "source": [
    "sql = \"SELECT name, geonames_id \" *\n",
    "      \"FROM country_level_1 WHERE country_code = '\" * cc * \"'\";\n",
    "cl_df = DBInterface.execute(Wds.dbwiag, sql) |> DataFrame;"
   ]
  },
  {
   "cell_type": "code",
   "execution_count": 308,
   "metadata": {},
   "outputs": [],
   "source": [
    "gnl_cl_df = innerjoin(gnl_df, cl_df, on = :geonames_id);"
   ]
  },
  {
   "cell_type": "code",
   "execution_count": 309,
   "metadata": {},
   "outputs": [
    {
     "data": {
      "text/plain": [
       "(34, 11)"
      ]
     },
     "execution_count": 309,
     "metadata": {},
     "output_type": "execute_result"
    }
   ],
   "source": [
    "size(gnl_cl_df)"
   ]
  },
  {
   "cell_type": "code",
   "execution_count": 310,
   "metadata": {},
   "outputs": [
    {
     "name": "stderr",
     "output_type": "stream",
     "text": [
      "┌ Info: Rows inserted: 34\n",
      "└ @ WiagDataSetup C:\\Users\\Georg\\Documents\\projekte\\WiagDataSetup.jl\\src\\WiagDataSetup.jl:1171\n"
     ]
    },
    {
     "data": {
      "text/plain": [
       "34"
      ]
     },
     "execution_count": 310,
     "metadata": {},
     "output_type": "execute_result"
    }
   ],
   "source": [
    "Wds.filltable!(\"place_label\", select(gnl_cl_df, Not([:isShort, :isColloquial, :from, :to, :name])))"
   ]
  },
  {
   "cell_type": "markdown",
   "metadata": {},
   "source": [
    "Orte einlesen, um nur relevante Namen zu übernehmen"
   ]
  },
  {
   "cell_type": "code",
   "execution_count": 135,
   "metadata": {},
   "outputs": [],
   "source": [
    "sql = \"SELECT name, geonames_id \" *\n",
    "      \"FROM place WHERE country_code = '\" * cc * \"'\";\n",
    "p_df = DBInterface.execute(Wds.dbwiag, sql) |> DataFrame;"
   ]
  },
  {
   "cell_type": "code",
   "execution_count": 136,
   "metadata": {},
   "outputs": [
    {
     "data": {
      "text/plain": [
       "(7261, 2)"
      ]
     },
     "execution_count": 136,
     "metadata": {},
     "output_type": "execute_result"
    }
   ],
   "source": [
    "size(p_df)"
   ]
  },
  {
   "cell_type": "code",
   "execution_count": 137,
   "metadata": {},
   "outputs": [],
   "source": [
    "gnl_p_df = innerjoin(gnl_df, p_df, on = :geonames_id);"
   ]
  },
  {
   "cell_type": "code",
   "execution_count": 138,
   "metadata": {},
   "outputs": [
    {
     "name": "stderr",
     "output_type": "stream",
     "text": [
      "┌ Info: Rows inserted: 669\n",
      "└ @ WiagDataSetup C:\\Users\\Georg\\Documents\\projekte\\WiagDataSetup.jl\\src\\WiagDataSetup.jl:1171\n"
     ]
    },
    {
     "data": {
      "text/plain": [
       "669"
      ]
     },
     "execution_count": 138,
     "metadata": {},
     "output_type": "execute_result"
    }
   ],
   "source": [
    "Wds.filltable!(\"place_label\", select(gnl_p_df, Not([:isShort, :isColloquial, :from, :to, :name])))"
   ]
  },
  {
   "cell_type": "markdown",
   "metadata": {},
   "source": [
    "### Polen"
   ]
  },
  {
   "cell_type": "code",
   "execution_count": 311,
   "metadata": {},
   "outputs": [
    {
     "data": {
      "text/plain": [
       "\"PL\""
      ]
     },
     "execution_count": 311,
     "metadata": {},
     "output_type": "execute_result"
    }
   ],
   "source": [
    "cc = \"PL\""
   ]
  },
  {
   "cell_type": "code",
   "execution_count": 312,
   "metadata": {},
   "outputs": [
    {
     "data": {
      "text/plain": [
       "\"C:\\\\Users\\\\georg\\\\Documents\\\\projekte-doc\\\\WiagDataSetup\\\\GeoNames\\\\alternatenames\\\\PL\\\\PL.txt\""
      ]
     },
     "execution_count": 312,
     "metadata": {},
     "output_type": "execute_result"
    }
   ],
   "source": [
    "gnl_filename = joinpath(gnl_path, cc, cc * \".txt\")"
   ]
  },
  {
   "cell_type": "code",
   "execution_count": 313,
   "metadata": {},
   "outputs": [],
   "source": [
    "gnl_df = CSV.read(gnl_filename, DataFrame, header=gnl_header, types=gnl_types);"
   ]
  },
  {
   "cell_type": "code",
   "execution_count": 314,
   "metadata": {},
   "outputs": [
    {
     "data": {
      "text/plain": [
       "(113353, 10)"
      ]
     },
     "execution_count": 314,
     "metadata": {},
     "output_type": "execute_result"
    }
   ],
   "source": [
    "size(gnl_df)"
   ]
  },
  {
   "cell_type": "code",
   "execution_count": 315,
   "metadata": {},
   "outputs": [],
   "source": [
    "gnl_df = filter(:lang => filter_lang, gnl_df);"
   ]
  },
  {
   "cell_type": "code",
   "execution_count": 316,
   "metadata": {},
   "outputs": [
    {
     "data": {
      "text/plain": [
       "(8635, 10)"
      ]
     },
     "execution_count": 316,
     "metadata": {},
     "output_type": "execute_result"
    }
   ],
   "source": [
    "size(gnl_df)"
   ]
  },
  {
   "cell_type": "markdown",
   "metadata": {},
   "source": [
    "Bundesländer/Kantone/Regionen einlesen, um relevante Namen zu übernehmen"
   ]
  },
  {
   "cell_type": "code",
   "execution_count": 317,
   "metadata": {},
   "outputs": [],
   "source": [
    "sql = \"SELECT name, geonames_id \" *\n",
    "      \"FROM country_level_1 WHERE country_code = '\" * cc * \"'\";\n",
    "cl_df = DBInterface.execute(Wds.dbwiag, sql) |> DataFrame;"
   ]
  },
  {
   "cell_type": "code",
   "execution_count": 318,
   "metadata": {},
   "outputs": [],
   "source": [
    "gnl_cl_df = innerjoin(gnl_df, cl_df, on = :geonames_id);"
   ]
  },
  {
   "cell_type": "code",
   "execution_count": 319,
   "metadata": {},
   "outputs": [
    {
     "data": {
      "text/plain": [
       "(130, 11)"
      ]
     },
     "execution_count": 319,
     "metadata": {},
     "output_type": "execute_result"
    }
   ],
   "source": [
    "size(gnl_cl_df)"
   ]
  },
  {
   "cell_type": "code",
   "execution_count": 320,
   "metadata": {},
   "outputs": [
    {
     "name": "stderr",
     "output_type": "stream",
     "text": [
      "┌ Info: Rows inserted: 130\n",
      "└ @ WiagDataSetup C:\\Users\\Georg\\Documents\\projekte\\WiagDataSetup.jl\\src\\WiagDataSetup.jl:1171\n"
     ]
    },
    {
     "data": {
      "text/plain": [
       "130"
      ]
     },
     "execution_count": 320,
     "metadata": {},
     "output_type": "execute_result"
    }
   ],
   "source": [
    "Wds.filltable!(\"place_label\", select(gnl_cl_df, Not([:isShort, :isColloquial, :from, :to, :name])))"
   ]
  },
  {
   "cell_type": "markdown",
   "metadata": {},
   "source": [
    "Orte einlesen, um nur relevante Namen zu übernehmen"
   ]
  },
  {
   "cell_type": "code",
   "execution_count": 145,
   "metadata": {},
   "outputs": [],
   "source": [
    "sql = \"SELECT name, geonames_id \" *\n",
    "      \"FROM place WHERE country_code = '\" * cc * \"'\";\n",
    "p_df = DBInterface.execute(Wds.dbwiag, sql) |> DataFrame;"
   ]
  },
  {
   "cell_type": "code",
   "execution_count": 146,
   "metadata": {},
   "outputs": [
    {
     "data": {
      "text/plain": [
       "(47411, 2)"
      ]
     },
     "execution_count": 146,
     "metadata": {},
     "output_type": "execute_result"
    }
   ],
   "source": [
    "size(p_df)"
   ]
  },
  {
   "cell_type": "code",
   "execution_count": 147,
   "metadata": {},
   "outputs": [],
   "source": [
    "gnl_p_df = innerjoin(gnl_df, p_df, on = :geonames_id);"
   ]
  },
  {
   "cell_type": "code",
   "execution_count": 148,
   "metadata": {},
   "outputs": [
    {
     "name": "stderr",
     "output_type": "stream",
     "text": [
      "┌ Info: Rows inserted: 3859\n",
      "└ @ WiagDataSetup C:\\Users\\Georg\\Documents\\projekte\\WiagDataSetup.jl\\src\\WiagDataSetup.jl:1171\n"
     ]
    },
    {
     "data": {
      "text/plain": [
       "3859"
      ]
     },
     "execution_count": 148,
     "metadata": {},
     "output_type": "execute_result"
    }
   ],
   "source": [
    "Wds.filltable!(\"place_label\", select(gnl_p_df, Not([:isShort, :isColloquial, :from, :to, :name])))"
   ]
  },
  {
   "cell_type": "markdown",
   "metadata": {},
   "source": [
    "### Luxemburg"
   ]
  },
  {
   "cell_type": "code",
   "execution_count": 321,
   "metadata": {},
   "outputs": [
    {
     "data": {
      "text/plain": [
       "\"LU\""
      ]
     },
     "execution_count": 321,
     "metadata": {},
     "output_type": "execute_result"
    }
   ],
   "source": [
    "cc = \"LU\""
   ]
  },
  {
   "cell_type": "code",
   "execution_count": 322,
   "metadata": {},
   "outputs": [
    {
     "data": {
      "text/plain": [
       "\"C:\\\\Users\\\\georg\\\\Documents\\\\projekte-doc\\\\WiagDataSetup\\\\GeoNames\\\\alternatenames\\\\LU\\\\LU.txt\""
      ]
     },
     "execution_count": 322,
     "metadata": {},
     "output_type": "execute_result"
    }
   ],
   "source": [
    "gnl_filename = joinpath(gnl_path, cc, cc * \".txt\")"
   ]
  },
  {
   "cell_type": "code",
   "execution_count": 323,
   "metadata": {},
   "outputs": [],
   "source": [
    "gnl_df = CSV.read(gnl_filename, DataFrame, header=gnl_header, types=gnl_types);"
   ]
  },
  {
   "cell_type": "code",
   "execution_count": 324,
   "metadata": {},
   "outputs": [
    {
     "data": {
      "text/plain": [
       "(7785, 10)"
      ]
     },
     "execution_count": 324,
     "metadata": {},
     "output_type": "execute_result"
    }
   ],
   "source": [
    "size(gnl_df)"
   ]
  },
  {
   "cell_type": "code",
   "execution_count": 325,
   "metadata": {},
   "outputs": [],
   "source": [
    "gnl_df = filter(:lang => filter_lang, gnl_df);"
   ]
  },
  {
   "cell_type": "code",
   "execution_count": 326,
   "metadata": {},
   "outputs": [
    {
     "data": {
      "text/plain": [
       "(362, 10)"
      ]
     },
     "execution_count": 326,
     "metadata": {},
     "output_type": "execute_result"
    }
   ],
   "source": [
    "size(gnl_df)"
   ]
  },
  {
   "cell_type": "markdown",
   "metadata": {},
   "source": [
    "Bundesländer/Kantone/Regionen einlesen, um relevante Namen zu übernehmen"
   ]
  },
  {
   "cell_type": "code",
   "execution_count": 327,
   "metadata": {},
   "outputs": [],
   "source": [
    "sql = \"SELECT name, geonames_id \" *\n",
    "      \"FROM country_level_1 WHERE country_code = '\" * cc * \"'\";\n",
    "cl_df = DBInterface.execute(Wds.dbwiag, sql) |> DataFrame;"
   ]
  },
  {
   "cell_type": "code",
   "execution_count": 328,
   "metadata": {},
   "outputs": [],
   "source": [
    "gnl_cl_df = innerjoin(gnl_df, cl_df, on = :geonames_id);"
   ]
  },
  {
   "cell_type": "code",
   "execution_count": 329,
   "metadata": {},
   "outputs": [
    {
     "data": {
      "text/plain": [
       "(29, 11)"
      ]
     },
     "execution_count": 329,
     "metadata": {},
     "output_type": "execute_result"
    }
   ],
   "source": [
    "size(gnl_cl_df)"
   ]
  },
  {
   "cell_type": "code",
   "execution_count": 330,
   "metadata": {},
   "outputs": [
    {
     "name": "stderr",
     "output_type": "stream",
     "text": [
      "┌ Info: Rows inserted: 29\n",
      "└ @ WiagDataSetup C:\\Users\\Georg\\Documents\\projekte\\WiagDataSetup.jl\\src\\WiagDataSetup.jl:1171\n"
     ]
    },
    {
     "data": {
      "text/plain": [
       "29"
      ]
     },
     "execution_count": 330,
     "metadata": {},
     "output_type": "execute_result"
    }
   ],
   "source": [
    "Wds.filltable!(\"place_label\", select(gnl_cl_df, Not([:isShort, :isColloquial, :from, :to, :name])))"
   ]
  },
  {
   "cell_type": "markdown",
   "metadata": {},
   "source": [
    "Orte einlesen, um nur relevante Namen zu übernehmen"
   ]
  },
  {
   "cell_type": "code",
   "execution_count": 155,
   "metadata": {},
   "outputs": [],
   "source": [
    "sql = \"SELECT name, geonames_id \" *\n",
    "      \"FROM place WHERE country_code = '\" * cc * \"'\";\n",
    "p_df = DBInterface.execute(Wds.dbwiag, sql) |> DataFrame;"
   ]
  },
  {
   "cell_type": "code",
   "execution_count": 156,
   "metadata": {},
   "outputs": [
    {
     "data": {
      "text/plain": [
       "(692, 2)"
      ]
     },
     "execution_count": 156,
     "metadata": {},
     "output_type": "execute_result"
    }
   ],
   "source": [
    "size(p_df)"
   ]
  },
  {
   "cell_type": "code",
   "execution_count": 157,
   "metadata": {},
   "outputs": [],
   "source": [
    "gnl_p_df = innerjoin(gnl_df, p_df, on = :geonames_id);"
   ]
  },
  {
   "cell_type": "code",
   "execution_count": 158,
   "metadata": {},
   "outputs": [
    {
     "name": "stderr",
     "output_type": "stream",
     "text": [
      "┌ Info: Rows inserted: 203\n",
      "└ @ WiagDataSetup C:\\Users\\Georg\\Documents\\projekte\\WiagDataSetup.jl\\src\\WiagDataSetup.jl:1171\n"
     ]
    },
    {
     "data": {
      "text/plain": [
       "203"
      ]
     },
     "execution_count": 158,
     "metadata": {},
     "output_type": "execute_result"
    }
   ],
   "source": [
    "Wds.filltable!(\"place_label\", select(gnl_p_df, Not([:isShort, :isColloquial, :from, :to, :name])))"
   ]
  },
  {
   "cell_type": "markdown",
   "metadata": {},
   "source": [
    "### Tschechien"
   ]
  },
  {
   "cell_type": "code",
   "execution_count": 331,
   "metadata": {},
   "outputs": [
    {
     "data": {
      "text/plain": [
       "\"CZ\""
      ]
     },
     "execution_count": 331,
     "metadata": {},
     "output_type": "execute_result"
    }
   ],
   "source": [
    "cc = \"CZ\""
   ]
  },
  {
   "cell_type": "code",
   "execution_count": 332,
   "metadata": {},
   "outputs": [
    {
     "data": {
      "text/plain": [
       "\"C:\\\\Users\\\\georg\\\\Documents\\\\projekte-doc\\\\WiagDataSetup\\\\GeoNames\\\\alternatenames\\\\CZ\\\\CZ.txt\""
      ]
     },
     "execution_count": 332,
     "metadata": {},
     "output_type": "execute_result"
    }
   ],
   "source": [
    "gnl_filename = joinpath(gnl_path, cc, cc * \".txt\")"
   ]
  },
  {
   "cell_type": "code",
   "execution_count": 333,
   "metadata": {},
   "outputs": [],
   "source": [
    "gnl_df = CSV.read(gnl_filename, DataFrame, header=gnl_header, types=gnl_types);"
   ]
  },
  {
   "cell_type": "code",
   "execution_count": 334,
   "metadata": {},
   "outputs": [
    {
     "data": {
      "text/plain": [
       "(34389, 10)"
      ]
     },
     "execution_count": 334,
     "metadata": {},
     "output_type": "execute_result"
    }
   ],
   "source": [
    "size(gnl_df)"
   ]
  },
  {
   "cell_type": "code",
   "execution_count": 335,
   "metadata": {},
   "outputs": [],
   "source": [
    "gnl_df = filter(:lang => filter_lang, gnl_df);"
   ]
  },
  {
   "cell_type": "code",
   "execution_count": 336,
   "metadata": {},
   "outputs": [
    {
     "data": {
      "text/plain": [
       "(1900, 10)"
      ]
     },
     "execution_count": 336,
     "metadata": {},
     "output_type": "execute_result"
    }
   ],
   "source": [
    "size(gnl_df)"
   ]
  },
  {
   "cell_type": "markdown",
   "metadata": {},
   "source": [
    "Bundesländer/Kantone/Regionen einlesen, um relevante Namen zu übernehmen"
   ]
  },
  {
   "cell_type": "code",
   "execution_count": 337,
   "metadata": {},
   "outputs": [],
   "source": [
    "sql = \"SELECT name, geonames_id \" *\n",
    "      \"FROM country_level_1 WHERE country_code = '\" * cc * \"'\";\n",
    "cl_df = DBInterface.execute(Wds.dbwiag, sql) |> DataFrame;"
   ]
  },
  {
   "cell_type": "code",
   "execution_count": 338,
   "metadata": {},
   "outputs": [],
   "source": [
    "gnl_cl_df = innerjoin(gnl_df, cl_df, on = :geonames_id);"
   ]
  },
  {
   "cell_type": "code",
   "execution_count": 339,
   "metadata": {},
   "outputs": [
    {
     "data": {
      "text/plain": [
       "(36, 11)"
      ]
     },
     "execution_count": 339,
     "metadata": {},
     "output_type": "execute_result"
    }
   ],
   "source": [
    "size(gnl_cl_df)"
   ]
  },
  {
   "cell_type": "code",
   "execution_count": 340,
   "metadata": {},
   "outputs": [
    {
     "name": "stderr",
     "output_type": "stream",
     "text": [
      "┌ Info: Rows inserted: 36\n",
      "└ @ WiagDataSetup C:\\Users\\Georg\\Documents\\projekte\\WiagDataSetup.jl\\src\\WiagDataSetup.jl:1171\n"
     ]
    },
    {
     "data": {
      "text/plain": [
       "36"
      ]
     },
     "execution_count": 340,
     "metadata": {},
     "output_type": "execute_result"
    }
   ],
   "source": [
    "Wds.filltable!(\"place_label\", select(gnl_cl_df, Not([:isShort, :isColloquial, :from, :to, :name])))"
   ]
  },
  {
   "cell_type": "markdown",
   "metadata": {},
   "source": [
    "Orte einlesen, um nur relevante Namen zu übernehmen"
   ]
  },
  {
   "cell_type": "code",
   "execution_count": 165,
   "metadata": {},
   "outputs": [],
   "source": [
    "sql = \"SELECT name, geonames_id \" *\n",
    "      \"FROM place WHERE country_code = '\" * cc * \"'\";\n",
    "p_df = DBInterface.execute(Wds.dbwiag, sql) |> DataFrame;"
   ]
  },
  {
   "cell_type": "code",
   "execution_count": 166,
   "metadata": {},
   "outputs": [
    {
     "data": {
      "text/plain": [
       "(16445, 2)"
      ]
     },
     "execution_count": 166,
     "metadata": {},
     "output_type": "execute_result"
    }
   ],
   "source": [
    "size(p_df)"
   ]
  },
  {
   "cell_type": "code",
   "execution_count": 167,
   "metadata": {},
   "outputs": [],
   "source": [
    "gnl_p_df = innerjoin(gnl_df, p_df, on = :geonames_id);"
   ]
  },
  {
   "cell_type": "code",
   "execution_count": 168,
   "metadata": {},
   "outputs": [
    {
     "name": "stderr",
     "output_type": "stream",
     "text": [
      "┌ Info: Rows inserted: 1240\n",
      "└ @ WiagDataSetup C:\\Users\\Georg\\Documents\\projekte\\WiagDataSetup.jl\\src\\WiagDataSetup.jl:1171\n"
     ]
    },
    {
     "data": {
      "text/plain": [
       "1240"
      ]
     },
     "execution_count": 168,
     "metadata": {},
     "output_type": "execute_result"
    }
   ],
   "source": [
    "Wds.filltable!(\"place_label\", select(gnl_p_df, Not([:isShort, :isColloquial, :from, :to, :name])))"
   ]
  },
  {
   "cell_type": "markdown",
   "metadata": {},
   "source": [
    "### Liechtenstein"
   ]
  },
  {
   "cell_type": "code",
   "execution_count": 412,
   "metadata": {},
   "outputs": [
    {
     "data": {
      "text/plain": [
       "\"LI\""
      ]
     },
     "execution_count": 412,
     "metadata": {},
     "output_type": "execute_result"
    }
   ],
   "source": [
    "cc = \"LI\""
   ]
  },
  {
   "cell_type": "code",
   "execution_count": 413,
   "metadata": {},
   "outputs": [
    {
     "data": {
      "text/plain": [
       "\"C:\\\\Users\\\\georg\\\\Documents\\\\projekte-doc\\\\WiagDataSetup\\\\GeoNames\\\\alternatenames\\\\LI\\\\LI.txt\""
      ]
     },
     "execution_count": 413,
     "metadata": {},
     "output_type": "execute_result"
    }
   ],
   "source": [
    "gnl_filename = joinpath(gnl_path, cc, cc * \".txt\")"
   ]
  },
  {
   "cell_type": "code",
   "execution_count": 414,
   "metadata": {},
   "outputs": [],
   "source": [
    "gnl_df = CSV.read(gnl_filename, DataFrame, header=gnl_header, types=gnl_types);"
   ]
  },
  {
   "cell_type": "code",
   "execution_count": 415,
   "metadata": {},
   "outputs": [
    {
     "data": {
      "text/plain": [
       "(906, 10)"
      ]
     },
     "execution_count": 415,
     "metadata": {},
     "output_type": "execute_result"
    }
   ],
   "source": [
    "size(gnl_df)"
   ]
  },
  {
   "cell_type": "code",
   "execution_count": 416,
   "metadata": {},
   "outputs": [],
   "source": [
    "gnl_df = filter(:lang => filter_lang, gnl_df);"
   ]
  },
  {
   "cell_type": "code",
   "execution_count": 417,
   "metadata": {},
   "outputs": [
    {
     "data": {
      "text/plain": [
       "(322, 10)"
      ]
     },
     "execution_count": 417,
     "metadata": {},
     "output_type": "execute_result"
    }
   ],
   "source": [
    "size(gnl_df)"
   ]
  },
  {
   "cell_type": "markdown",
   "metadata": {},
   "source": [
    "Bundesländer/Kantone/Regionen einlesen, um relevante Namen zu übernehmen"
   ]
  },
  {
   "cell_type": "code",
   "execution_count": 418,
   "metadata": {},
   "outputs": [],
   "source": [
    "sql = \"SELECT name, geonames_id \" *\n",
    "      \"FROM country_level_1 WHERE country_code = '\" * cc * \"'\";\n",
    "cl_df = DBInterface.execute(Wds.dbwiag, sql) |> DataFrame;"
   ]
  },
  {
   "cell_type": "code",
   "execution_count": 419,
   "metadata": {},
   "outputs": [],
   "source": [
    "gnl_cl_df = innerjoin(gnl_df, cl_df, on = :geonames_id);"
   ]
  },
  {
   "cell_type": "code",
   "execution_count": 420,
   "metadata": {},
   "outputs": [
    {
     "data": {
      "text/plain": [
       "(0, 11)"
      ]
     },
     "execution_count": 420,
     "metadata": {},
     "output_type": "execute_result"
    }
   ],
   "source": [
    "size(gnl_cl_df)"
   ]
  },
  {
   "cell_type": "code",
   "execution_count": 350,
   "metadata": {},
   "outputs": [
    {
     "name": "stderr",
     "output_type": "stream",
     "text": [
      "┌ Info: Rows inserted: 0\n",
      "└ @ WiagDataSetup C:\\Users\\Georg\\Documents\\projekte\\WiagDataSetup.jl\\src\\WiagDataSetup.jl:1171\n"
     ]
    },
    {
     "data": {
      "text/plain": [
       "0"
      ]
     },
     "execution_count": 350,
     "metadata": {},
     "output_type": "execute_result"
    }
   ],
   "source": [
    "Wds.filltable!(\"place_label\", select(gnl_cl_df, Not([:isShort, :isColloquial, :from, :to, :name])))"
   ]
  },
  {
   "cell_type": "markdown",
   "metadata": {},
   "source": [
    "Orte einlesen, um nur relevante Namen zu übernehmen"
   ]
  },
  {
   "cell_type": "code",
   "execution_count": 175,
   "metadata": {},
   "outputs": [],
   "source": [
    "sql = \"SELECT name, geonames_id \" *\n",
    "      \"FROM place WHERE country_code = '\" * cc * \"'\";\n",
    "p_df = DBInterface.execute(Wds.dbwiag, sql) |> DataFrame;"
   ]
  },
  {
   "cell_type": "code",
   "execution_count": 176,
   "metadata": {},
   "outputs": [
    {
     "data": {
      "text/plain": [
       "(361, 2)"
      ]
     },
     "execution_count": 176,
     "metadata": {},
     "output_type": "execute_result"
    }
   ],
   "source": [
    "size(p_df)"
   ]
  },
  {
   "cell_type": "code",
   "execution_count": 177,
   "metadata": {},
   "outputs": [],
   "source": [
    "gnl_p_df = innerjoin(gnl_df, p_df, on = :geonames_id);"
   ]
  },
  {
   "cell_type": "code",
   "execution_count": 178,
   "metadata": {},
   "outputs": [
    {
     "name": "stderr",
     "output_type": "stream",
     "text": [
      "┌ Info: Rows inserted: 72\n",
      "└ @ WiagDataSetup C:\\Users\\Georg\\Documents\\projekte\\WiagDataSetup.jl\\src\\WiagDataSetup.jl:1171\n"
     ]
    },
    {
     "data": {
      "text/plain": [
       "72"
      ]
     },
     "execution_count": 178,
     "metadata": {},
     "output_type": "execute_result"
    }
   ],
   "source": [
    "Wds.filltable!(\"place_label\", select(gnl_p_df, Not([:isShort, :isColloquial, :from, :to, :name])))"
   ]
  },
  {
   "cell_type": "markdown",
   "metadata": {},
   "source": [
    "### Lettland (LV)"
   ]
  },
  {
   "cell_type": "code",
   "execution_count": 421,
   "metadata": {},
   "outputs": [
    {
     "data": {
      "text/plain": [
       "\"LV\""
      ]
     },
     "execution_count": 421,
     "metadata": {},
     "output_type": "execute_result"
    }
   ],
   "source": [
    "cc = \"LV\""
   ]
  },
  {
   "cell_type": "code",
   "execution_count": 422,
   "metadata": {},
   "outputs": [
    {
     "data": {
      "text/plain": [
       "\"C:\\\\Users\\\\georg\\\\Documents\\\\projekte-doc\\\\WiagDataSetup\\\\GeoNames\\\\alternatenames\\\\LV\\\\LV.txt\""
      ]
     },
     "execution_count": 422,
     "metadata": {},
     "output_type": "execute_result"
    }
   ],
   "source": [
    "gnl_filename = joinpath(gnl_path, cc, cc * \".txt\")"
   ]
  },
  {
   "cell_type": "code",
   "execution_count": 423,
   "metadata": {},
   "outputs": [],
   "source": [
    "gnl_df = CSV.read(gnl_filename, DataFrame, header=gnl_header, types=gnl_types);"
   ]
  },
  {
   "cell_type": "code",
   "execution_count": 424,
   "metadata": {},
   "outputs": [
    {
     "data": {
      "text/plain": [
       "(21074, 10)"
      ]
     },
     "execution_count": 424,
     "metadata": {},
     "output_type": "execute_result"
    }
   ],
   "source": [
    "size(gnl_df)"
   ]
  },
  {
   "cell_type": "code",
   "execution_count": 425,
   "metadata": {},
   "outputs": [],
   "source": [
    "gnl_df = filter(:lang => filter_lang, gnl_df);"
   ]
  },
  {
   "cell_type": "code",
   "execution_count": 426,
   "metadata": {},
   "outputs": [
    {
     "data": {
      "text/plain": [
       "(764, 10)"
      ]
     },
     "execution_count": 426,
     "metadata": {},
     "output_type": "execute_result"
    }
   ],
   "source": [
    "size(gnl_df)"
   ]
  },
  {
   "cell_type": "markdown",
   "metadata": {},
   "source": [
    "Bundesländer/Kantone/Regionen einlesen, um relevante Namen zu übernehmen"
   ]
  },
  {
   "cell_type": "code",
   "execution_count": 427,
   "metadata": {},
   "outputs": [],
   "source": [
    "sql = \"SELECT name, geonames_id \" *\n",
    "      \"FROM country_level_1 WHERE country_code = '\" * cc * \"'\";\n",
    "cl_df = DBInterface.execute(Wds.dbwiag, sql) |> DataFrame;"
   ]
  },
  {
   "cell_type": "code",
   "execution_count": 428,
   "metadata": {},
   "outputs": [],
   "source": [
    "gnl_cl_df = innerjoin(gnl_df, cl_df, on = :geonames_id);"
   ]
  },
  {
   "cell_type": "code",
   "execution_count": 429,
   "metadata": {},
   "outputs": [
    {
     "data": {
      "text/plain": [
       "(29, 11)"
      ]
     },
     "execution_count": 429,
     "metadata": {},
     "output_type": "execute_result"
    }
   ],
   "source": [
    "size(gnl_cl_df)"
   ]
  },
  {
   "cell_type": "code",
   "execution_count": 430,
   "metadata": {},
   "outputs": [
    {
     "name": "stderr",
     "output_type": "stream",
     "text": [
      "┌ Info: Rows inserted: 29\n",
      "└ @ WiagDataSetup C:\\Users\\Georg\\Documents\\projekte\\WiagDataSetup.jl\\src\\WiagDataSetup.jl:1171\n"
     ]
    },
    {
     "data": {
      "text/plain": [
       "29"
      ]
     },
     "execution_count": 430,
     "metadata": {},
     "output_type": "execute_result"
    }
   ],
   "source": [
    "Wds.filltable!(\"place_label\", select(gnl_cl_df, Not([:isShort, :isColloquial, :from, :to, :name])))"
   ]
  },
  {
   "cell_type": "markdown",
   "metadata": {},
   "source": [
    "Orte einlesen, um nur relevante Namen zu übernehmen"
   ]
  },
  {
   "cell_type": "code",
   "execution_count": 185,
   "metadata": {},
   "outputs": [],
   "source": [
    "sql = \"SELECT name, geonames_id \" *\n",
    "      \"FROM place WHERE country_code = '\" * cc * \"'\";\n",
    "p_df = DBInterface.execute(Wds.dbwiag, sql) |> DataFrame;"
   ]
  },
  {
   "cell_type": "code",
   "execution_count": 186,
   "metadata": {},
   "outputs": [
    {
     "data": {
      "text/plain": [
       "(4091, 2)"
      ]
     },
     "execution_count": 186,
     "metadata": {},
     "output_type": "execute_result"
    }
   ],
   "source": [
    "size(p_df)"
   ]
  },
  {
   "cell_type": "code",
   "execution_count": 187,
   "metadata": {},
   "outputs": [],
   "source": [
    "gnl_p_df = innerjoin(gnl_df, p_df, on = :geonames_id);"
   ]
  },
  {
   "cell_type": "code",
   "execution_count": 188,
   "metadata": {},
   "outputs": [
    {
     "name": "stderr",
     "output_type": "stream",
     "text": [
      "┌ Info: Rows inserted: 529\n",
      "└ @ WiagDataSetup C:\\Users\\Georg\\Documents\\projekte\\WiagDataSetup.jl\\src\\WiagDataSetup.jl:1171\n"
     ]
    },
    {
     "data": {
      "text/plain": [
       "529"
      ]
     },
     "execution_count": 188,
     "metadata": {},
     "output_type": "execute_result"
    }
   ],
   "source": [
    "Wds.filltable!(\"place_label\", select(gnl_p_df, Not([:isShort, :isColloquial, :from, :to, :name])))"
   ]
  },
  {
   "cell_type": "markdown",
   "metadata": {},
   "source": [
    "### Littauen (LT)"
   ]
  },
  {
   "cell_type": "code",
   "execution_count": 431,
   "metadata": {},
   "outputs": [
    {
     "data": {
      "text/plain": [
       "\"LT\""
      ]
     },
     "execution_count": 431,
     "metadata": {},
     "output_type": "execute_result"
    }
   ],
   "source": [
    "cc = \"LT\""
   ]
  },
  {
   "cell_type": "code",
   "execution_count": 432,
   "metadata": {},
   "outputs": [
    {
     "data": {
      "text/plain": [
       "\"C:\\\\Users\\\\georg\\\\Documents\\\\projekte-doc\\\\WiagDataSetup\\\\GeoNames\\\\alternatenames\\\\LT\\\\LT.txt\""
      ]
     },
     "execution_count": 432,
     "metadata": {},
     "output_type": "execute_result"
    }
   ],
   "source": [
    "gnl_filename = joinpath(gnl_path, cc, cc * \".txt\")"
   ]
  },
  {
   "cell_type": "code",
   "execution_count": 433,
   "metadata": {},
   "outputs": [],
   "source": [
    "gnl_df = CSV.read(gnl_filename, DataFrame, header=gnl_header, types=gnl_types);"
   ]
  },
  {
   "cell_type": "code",
   "execution_count": 434,
   "metadata": {},
   "outputs": [
    {
     "data": {
      "text/plain": [
       "(51548, 10)"
      ]
     },
     "execution_count": 434,
     "metadata": {},
     "output_type": "execute_result"
    }
   ],
   "source": [
    "size(gnl_df)"
   ]
  },
  {
   "cell_type": "code",
   "execution_count": 435,
   "metadata": {},
   "outputs": [],
   "source": [
    "gnl_df = filter(:lang => filter_lang, gnl_df);"
   ]
  },
  {
   "cell_type": "code",
   "execution_count": 436,
   "metadata": {},
   "outputs": [
    {
     "data": {
      "text/plain": [
       "(971, 10)"
      ]
     },
     "execution_count": 436,
     "metadata": {},
     "output_type": "execute_result"
    }
   ],
   "source": [
    "size(gnl_df)"
   ]
  },
  {
   "cell_type": "markdown",
   "metadata": {},
   "source": [
    "Bundesländer/Kantone/Regionen einlesen, um relevante Namen zu übernehmen"
   ]
  },
  {
   "cell_type": "code",
   "execution_count": 437,
   "metadata": {},
   "outputs": [],
   "source": [
    "sql = \"SELECT name, geonames_id \" *\n",
    "      \"FROM country_level_1 WHERE country_code = '\" * cc * \"'\";\n",
    "cl_df = DBInterface.execute(Wds.dbwiag, sql) |> DataFrame;"
   ]
  },
  {
   "cell_type": "code",
   "execution_count": 438,
   "metadata": {},
   "outputs": [],
   "source": [
    "gnl_cl_df = innerjoin(gnl_df, cl_df, on = :geonames_id);"
   ]
  },
  {
   "cell_type": "code",
   "execution_count": 439,
   "metadata": {},
   "outputs": [
    {
     "data": {
      "text/plain": [
       "(19, 11)"
      ]
     },
     "execution_count": 439,
     "metadata": {},
     "output_type": "execute_result"
    }
   ],
   "source": [
    "size(gnl_cl_df)"
   ]
  },
  {
   "cell_type": "code",
   "execution_count": 440,
   "metadata": {},
   "outputs": [
    {
     "name": "stderr",
     "output_type": "stream",
     "text": [
      "┌ Info: Rows inserted: 19\n",
      "└ @ WiagDataSetup C:\\Users\\Georg\\Documents\\projekte\\WiagDataSetup.jl\\src\\WiagDataSetup.jl:1171\n"
     ]
    },
    {
     "data": {
      "text/plain": [
       "19"
      ]
     },
     "execution_count": 440,
     "metadata": {},
     "output_type": "execute_result"
    }
   ],
   "source": [
    "Wds.filltable!(\"place_label\", select(gnl_cl_df, Not([:isShort, :isColloquial, :from, :to, :name])))"
   ]
  },
  {
   "cell_type": "markdown",
   "metadata": {},
   "source": [
    "Orte einlesen, um nur relevante Namen zu übernehmen"
   ]
  },
  {
   "cell_type": "code",
   "execution_count": 195,
   "metadata": {},
   "outputs": [],
   "source": [
    "sql = \"SELECT name, geonames_id \" *\n",
    "      \"FROM place WHERE country_code = '\" * cc * \"'\";\n",
    "p_df = DBInterface.execute(Wds.dbwiag, sql) |> DataFrame;"
   ]
  },
  {
   "cell_type": "code",
   "execution_count": 196,
   "metadata": {},
   "outputs": [
    {
     "data": {
      "text/plain": [
       "(19854, 2)"
      ]
     },
     "execution_count": 196,
     "metadata": {},
     "output_type": "execute_result"
    }
   ],
   "source": [
    "size(p_df)"
   ]
  },
  {
   "cell_type": "code",
   "execution_count": 197,
   "metadata": {},
   "outputs": [],
   "source": [
    "gnl_p_df = innerjoin(gnl_df, p_df, on = :geonames_id);"
   ]
  },
  {
   "cell_type": "code",
   "execution_count": 198,
   "metadata": {},
   "outputs": [
    {
     "name": "stderr",
     "output_type": "stream",
     "text": [
      "┌ Info: Rows inserted: 787\n",
      "└ @ WiagDataSetup C:\\Users\\Georg\\Documents\\projekte\\WiagDataSetup.jl\\src\\WiagDataSetup.jl:1171\n"
     ]
    },
    {
     "data": {
      "text/plain": [
       "787"
      ]
     },
     "execution_count": 198,
     "metadata": {},
     "output_type": "execute_result"
    }
   ],
   "source": [
    "Wds.filltable!(\"place_label\", select(gnl_p_df, Not([:isShort, :isColloquial, :from, :to, :name])))"
   ]
  },
  {
   "cell_type": "markdown",
   "metadata": {},
   "source": [
    "   ### Kroatien"
   ]
  },
  {
   "cell_type": "code",
   "execution_count": 441,
   "metadata": {},
   "outputs": [
    {
     "data": {
      "text/plain": [
       "\"HR\""
      ]
     },
     "execution_count": 441,
     "metadata": {},
     "output_type": "execute_result"
    }
   ],
   "source": [
    "cc = \"HR\""
   ]
  },
  {
   "cell_type": "code",
   "execution_count": 442,
   "metadata": {},
   "outputs": [
    {
     "data": {
      "text/plain": [
       "\"C:\\\\Users\\\\georg\\\\Documents\\\\projekte-doc\\\\WiagDataSetup\\\\GeoNames\\\\alternatenames\\\\HR\\\\HR.txt\""
      ]
     },
     "execution_count": 442,
     "metadata": {},
     "output_type": "execute_result"
    }
   ],
   "source": [
    "gnl_filename = joinpath(gnl_path, cc, cc * \".txt\")"
   ]
  },
  {
   "cell_type": "code",
   "execution_count": 443,
   "metadata": {},
   "outputs": [],
   "source": [
    "gnl_df = CSV.read(gnl_filename, DataFrame, header=gnl_header, types=gnl_types);"
   ]
  },
  {
   "cell_type": "code",
   "execution_count": 444,
   "metadata": {},
   "outputs": [
    {
     "data": {
      "text/plain": [
       "(24260, 10)"
      ]
     },
     "execution_count": 444,
     "metadata": {},
     "output_type": "execute_result"
    }
   ],
   "source": [
    "size(gnl_df)"
   ]
  },
  {
   "cell_type": "code",
   "execution_count": 445,
   "metadata": {},
   "outputs": [],
   "source": [
    "gnl_df = filter(:lang => filter_lang, gnl_df);"
   ]
  },
  {
   "cell_type": "code",
   "execution_count": 446,
   "metadata": {},
   "outputs": [
    {
     "data": {
      "text/plain": [
       "(1218, 10)"
      ]
     },
     "execution_count": 446,
     "metadata": {},
     "output_type": "execute_result"
    }
   ],
   "source": [
    "size(gnl_df)"
   ]
  },
  {
   "cell_type": "markdown",
   "metadata": {},
   "source": [
    "Bundesländer/Kantone/Regionen einlesen, um relevante Namen zu übernehmen"
   ]
  },
  {
   "cell_type": "code",
   "execution_count": 447,
   "metadata": {},
   "outputs": [],
   "source": [
    "sql = \"SELECT name, geonames_id \" *\n",
    "      \"FROM country_level_1 WHERE country_code = '\" * cc * \"'\";\n",
    "cl_df = DBInterface.execute(Wds.dbwiag, sql) |> DataFrame;"
   ]
  },
  {
   "cell_type": "code",
   "execution_count": 448,
   "metadata": {},
   "outputs": [],
   "source": [
    "gnl_cl_df = innerjoin(gnl_df, cl_df, on = :geonames_id);"
   ]
  },
  {
   "cell_type": "code",
   "execution_count": 449,
   "metadata": {},
   "outputs": [
    {
     "data": {
      "text/plain": [
       "(52, 11)"
      ]
     },
     "execution_count": 449,
     "metadata": {},
     "output_type": "execute_result"
    }
   ],
   "source": [
    "size(gnl_cl_df)"
   ]
  },
  {
   "cell_type": "code",
   "execution_count": 450,
   "metadata": {},
   "outputs": [
    {
     "name": "stderr",
     "output_type": "stream",
     "text": [
      "┌ Info: Rows inserted: 52\n",
      "└ @ WiagDataSetup C:\\Users\\Georg\\Documents\\projekte\\WiagDataSetup.jl\\src\\WiagDataSetup.jl:1171\n"
     ]
    },
    {
     "data": {
      "text/plain": [
       "52"
      ]
     },
     "execution_count": 450,
     "metadata": {},
     "output_type": "execute_result"
    }
   ],
   "source": [
    "Wds.filltable!(\"place_label\", select(gnl_cl_df, Not([:isShort, :isColloquial, :from, :to, :name])))"
   ]
  },
  {
   "cell_type": "markdown",
   "metadata": {},
   "source": [
    "Orte einlesen, um nur relevante Namen zu übernehmen"
   ]
  },
  {
   "cell_type": "code",
   "execution_count": 205,
   "metadata": {},
   "outputs": [],
   "source": [
    "sql = \"SELECT name, geonames_id \" *\n",
    "      \"FROM place WHERE country_code = '\" * cc * \"'\";\n",
    "p_df = DBInterface.execute(Wds.dbwiag, sql) |> DataFrame;"
   ]
  },
  {
   "cell_type": "code",
   "execution_count": 206,
   "metadata": {},
   "outputs": [
    {
     "data": {
      "text/plain": [
       "(9902, 2)"
      ]
     },
     "execution_count": 206,
     "metadata": {},
     "output_type": "execute_result"
    }
   ],
   "source": [
    "size(p_df)"
   ]
  },
  {
   "cell_type": "code",
   "execution_count": 207,
   "metadata": {},
   "outputs": [],
   "source": [
    "gnl_p_df = innerjoin(gnl_df, p_df, on = :geonames_id);"
   ]
  },
  {
   "cell_type": "code",
   "execution_count": 208,
   "metadata": {},
   "outputs": [
    {
     "name": "stderr",
     "output_type": "stream",
     "text": [
      "┌ Info: Rows inserted: 481\n",
      "└ @ WiagDataSetup C:\\Users\\Georg\\Documents\\projekte\\WiagDataSetup.jl\\src\\WiagDataSetup.jl:1171\n"
     ]
    },
    {
     "data": {
      "text/plain": [
       "481"
      ]
     },
     "execution_count": 208,
     "metadata": {},
     "output_type": "execute_result"
    }
   ],
   "source": [
    "Wds.filltable!(\"place_label\", select(gnl_p_df, Not([:isShort, :isColloquial, :from, :to, :name])))"
   ]
  },
  {
   "cell_type": "markdown",
   "metadata": {},
   "source": [
    "### Estland"
   ]
  },
  {
   "cell_type": "code",
   "execution_count": 451,
   "metadata": {},
   "outputs": [
    {
     "data": {
      "text/plain": [
       "\"EE\""
      ]
     },
     "execution_count": 451,
     "metadata": {},
     "output_type": "execute_result"
    }
   ],
   "source": [
    "cc = \"EE\""
   ]
  },
  {
   "cell_type": "code",
   "execution_count": 452,
   "metadata": {},
   "outputs": [
    {
     "data": {
      "text/plain": [
       "\"C:\\\\Users\\\\georg\\\\Documents\\\\projekte-doc\\\\WiagDataSetup\\\\GeoNames\\\\alternatenames\\\\EE\\\\EE.txt\""
      ]
     },
     "execution_count": 452,
     "metadata": {},
     "output_type": "execute_result"
    }
   ],
   "source": [
    "gnl_filename = joinpath(gnl_path, cc, cc * \".txt\")"
   ]
  },
  {
   "cell_type": "code",
   "execution_count": 453,
   "metadata": {},
   "outputs": [],
   "source": [
    "gnl_df = CSV.read(gnl_filename, DataFrame, header=gnl_header, types=gnl_types);"
   ]
  },
  {
   "cell_type": "code",
   "execution_count": 454,
   "metadata": {},
   "outputs": [
    {
     "data": {
      "text/plain": [
       "(28962, 10)"
      ]
     },
     "execution_count": 454,
     "metadata": {},
     "output_type": "execute_result"
    }
   ],
   "source": [
    "size(gnl_df)"
   ]
  },
  {
   "cell_type": "code",
   "execution_count": 455,
   "metadata": {},
   "outputs": [],
   "source": [
    "gnl_df = filter(:lang => filter_lang, gnl_df);"
   ]
  },
  {
   "cell_type": "code",
   "execution_count": 456,
   "metadata": {},
   "outputs": [
    {
     "data": {
      "text/plain": [
       "(978, 10)"
      ]
     },
     "execution_count": 456,
     "metadata": {},
     "output_type": "execute_result"
    }
   ],
   "source": [
    "size(gnl_df)"
   ]
  },
  {
   "cell_type": "markdown",
   "metadata": {},
   "source": [
    "Bundesländer/Kantone/Regionen einlesen, um relevante Namen zu übernehmen"
   ]
  },
  {
   "cell_type": "code",
   "execution_count": 457,
   "metadata": {},
   "outputs": [],
   "source": [
    "sql = \"SELECT name, geonames_id \" *\n",
    "      \"FROM country_level_1 WHERE country_code = '\" * cc * \"'\";\n",
    "cl_df = DBInterface.execute(Wds.dbwiag, sql) |> DataFrame;"
   ]
  },
  {
   "cell_type": "code",
   "execution_count": 458,
   "metadata": {},
   "outputs": [],
   "source": [
    "gnl_cl_df = innerjoin(gnl_df, cl_df, on = :geonames_id);"
   ]
  },
  {
   "cell_type": "code",
   "execution_count": 459,
   "metadata": {},
   "outputs": [
    {
     "data": {
      "text/plain": [
       "(66, 11)"
      ]
     },
     "execution_count": 459,
     "metadata": {},
     "output_type": "execute_result"
    }
   ],
   "source": [
    "size(gnl_cl_df)"
   ]
  },
  {
   "cell_type": "code",
   "execution_count": 460,
   "metadata": {},
   "outputs": [
    {
     "name": "stderr",
     "output_type": "stream",
     "text": [
      "┌ Info: Rows inserted: 66\n",
      "└ @ WiagDataSetup C:\\Users\\Georg\\Documents\\projekte\\WiagDataSetup.jl\\src\\WiagDataSetup.jl:1171\n"
     ]
    },
    {
     "data": {
      "text/plain": [
       "66"
      ]
     },
     "execution_count": 460,
     "metadata": {},
     "output_type": "execute_result"
    }
   ],
   "source": [
    "Wds.filltable!(\"place_label\", select(gnl_cl_df, Not([:isShort, :isColloquial, :from, :to, :name])))"
   ]
  },
  {
   "cell_type": "markdown",
   "metadata": {},
   "source": [
    "Orte einlesen, um nur relevante Namen zu übernehmen"
   ]
  },
  {
   "cell_type": "code",
   "execution_count": 215,
   "metadata": {},
   "outputs": [],
   "source": [
    "sql = \"SELECT name, geonames_id \" *\n",
    "      \"FROM place WHERE country_code = '\" * cc * \"'\";\n",
    "p_df = DBInterface.execute(Wds.dbwiag, sql) |> DataFrame;"
   ]
  },
  {
   "cell_type": "code",
   "execution_count": 216,
   "metadata": {},
   "outputs": [
    {
     "data": {
      "text/plain": [
       "(7059, 2)"
      ]
     },
     "execution_count": 216,
     "metadata": {},
     "output_type": "execute_result"
    }
   ],
   "source": [
    "size(p_df)"
   ]
  },
  {
   "cell_type": "code",
   "execution_count": 217,
   "metadata": {},
   "outputs": [],
   "source": [
    "gnl_p_df = innerjoin(gnl_df, p_df, on = :geonames_id);"
   ]
  },
  {
   "cell_type": "code",
   "execution_count": 218,
   "metadata": {},
   "outputs": [
    {
     "name": "stderr",
     "output_type": "stream",
     "text": [
      "┌ Info: Rows inserted: 663\n",
      "└ @ WiagDataSetup C:\\Users\\Georg\\Documents\\projekte\\WiagDataSetup.jl\\src\\WiagDataSetup.jl:1171\n"
     ]
    },
    {
     "data": {
      "text/plain": [
       "663"
      ]
     },
     "execution_count": 218,
     "metadata": {},
     "output_type": "execute_result"
    }
   ],
   "source": [
    "Wds.filltable!(\"place_label\", select(gnl_p_df, Not([:isShort, :isColloquial, :from, :to, :name])))"
   ]
  },
  {
   "cell_type": "markdown",
   "metadata": {},
   "source": [
    "### Rußland"
   ]
  },
  {
   "cell_type": "code",
   "execution_count": 219,
   "metadata": {},
   "outputs": [
    {
     "data": {
      "text/plain": [
       "\"RU\""
      ]
     },
     "execution_count": 219,
     "metadata": {},
     "output_type": "execute_result"
    }
   ],
   "source": [
    "cc = \"RU\""
   ]
  },
  {
   "cell_type": "code",
   "execution_count": 220,
   "metadata": {},
   "outputs": [
    {
     "data": {
      "text/plain": [
       "\"C:\\\\Users\\\\georg\\\\Documents\\\\projekte-doc\\\\WiagDataSetup\\\\GeoNames\\\\alternatenames\\\\RU\\\\RU.txt\""
      ]
     },
     "execution_count": 220,
     "metadata": {},
     "output_type": "execute_result"
    }
   ],
   "source": [
    "gnl_filename = joinpath(gnl_path, cc, cc * \".txt\")"
   ]
  },
  {
   "cell_type": "code",
   "execution_count": 221,
   "metadata": {},
   "outputs": [],
   "source": [
    "gnl_df = CSV.read(gnl_filename, DataFrame, header=gnl_header, types=gnl_types);"
   ]
  },
  {
   "cell_type": "code",
   "execution_count": 222,
   "metadata": {},
   "outputs": [
    {
     "data": {
      "text/plain": [
       "(1067822, 10)"
      ]
     },
     "execution_count": 222,
     "metadata": {},
     "output_type": "execute_result"
    }
   ],
   "source": [
    "size(gnl_df)"
   ]
  },
  {
   "cell_type": "code",
   "execution_count": 223,
   "metadata": {},
   "outputs": [],
   "source": [
    "gnl_df = filter(:lang => filter_lang, gnl_df);"
   ]
  },
  {
   "cell_type": "code",
   "execution_count": 224,
   "metadata": {},
   "outputs": [
    {
     "data": {
      "text/plain": [
       "(46907, 10)"
      ]
     },
     "execution_count": 224,
     "metadata": {},
     "output_type": "execute_result"
    }
   ],
   "source": [
    "size(gnl_df)"
   ]
  },
  {
   "cell_type": "markdown",
   "metadata": {},
   "source": [
    "Orte einlesen, um nur relevante Namen zu übernehmen"
   ]
  },
  {
   "cell_type": "code",
   "execution_count": 225,
   "metadata": {},
   "outputs": [],
   "source": [
    "sql = \"SELECT name, geonames_id \" *\n",
    "      \"FROM place WHERE country_code = '\" * cc * \"'\";\n",
    "p_df = DBInterface.execute(Wds.dbwiag, sql) |> DataFrame;"
   ]
  },
  {
   "cell_type": "code",
   "execution_count": 226,
   "metadata": {},
   "outputs": [
    {
     "data": {
      "text/plain": [
       "(1, 2)"
      ]
     },
     "execution_count": 226,
     "metadata": {},
     "output_type": "execute_result"
    }
   ],
   "source": [
    "size(p_df)"
   ]
  },
  {
   "cell_type": "code",
   "execution_count": 227,
   "metadata": {},
   "outputs": [],
   "source": [
    "gnl_p_df = innerjoin(gnl_df, p_df, on = :geonames_id);"
   ]
  },
  {
   "cell_type": "code",
   "execution_count": 228,
   "metadata": {},
   "outputs": [
    {
     "name": "stderr",
     "output_type": "stream",
     "text": [
      "┌ Info: Rows inserted: 11\n",
      "└ @ WiagDataSetup C:\\Users\\Georg\\Documents\\projekte\\WiagDataSetup.jl\\src\\WiagDataSetup.jl:1171\n"
     ]
    },
    {
     "data": {
      "text/plain": [
       "11"
      ]
     },
     "execution_count": 228,
     "metadata": {},
     "output_type": "execute_result"
    }
   ],
   "source": [
    "Wds.filltable!(\"place_label\", select(gnl_p_df, Not([:isShort, :isColloquial, :from, :to, :name])))"
   ]
  },
  {
   "cell_type": "markdown",
   "metadata": {},
   "source": [
    "### Deutsche Namen eintragen\n",
    "\n",
    "Trage in `place` für Orte in Deutschland, Österreich und der Schweiz den deutschen Namen ein."
   ]
  },
  {
   "cell_type": "code",
   "execution_count": 8,
   "metadata": {},
   "outputs": [],
   "source": [
    "using MySQL, DataFrames"
   ]
  },
  {
   "cell_type": "code",
   "execution_count": 10,
   "metadata": {},
   "outputs": [
    {
     "data": {
      "text/plain": [
       "db_exec (generic function with 1 method)"
      ]
     },
     "execution_count": 10,
     "metadata": {},
     "output_type": "execute_result"
    }
   ],
   "source": [
    "db_exec(sql) = DBInterface.execute(Wds.dbwiag, sql) |> DataFrame"
   ]
  },
  {
   "cell_type": "code",
   "execution_count": 13,
   "metadata": {},
   "outputs": [
    {
     "data": {
      "text/html": [
       "<div class=\"data-frame\"><p>12 rows × 2 columns</p><table class=\"data-frame\"><thead><tr><th></th><th>label</th><th>name</th></tr><tr><th></th><th title=\"Union{Missing, String}\">String?</th><th title=\"Union{Missing, String}\">String?</th></tr></thead><tbody><tr><th>1</th><td>Kassel-Wahlershausen</td><td>Wahlershausen</td></tr><tr><th>2</th><td>Brandhofen</td><td>Spohla</td></tr><tr><th>3</th><td>Seebad Ahlbeck</td><td>Ahlbeck</td></tr><tr><th>4</th><td>Stadt Schwedt/Oder</td><td>Schwedt (Oder)</td></tr><tr><th>5</th><td>Dreiwerden</td><td>Schönborn-Dreiwerden</td></tr><tr><th>6</th><td>Groß Salze</td><td>Salzelmen</td></tr><tr><th>7</th><td>Bad Salzelmen</td><td>Salzelmen</td></tr><tr><th>8</th><td>Grenzkirch</td><td>Podrosche</td></tr><tr><th>9</th><td>Boltenhagen</td><td>Ostseebad Boltenhagen</td></tr><tr><th>10</th><td>Neugeroburg</td><td>Neu-Byhleguhre</td></tr><tr><th>11</th><td>Berlin-Marzahn</td><td>Marzahn</td></tr><tr><th>12</th><td>Lichtenstein-Callnberg</td><td>Lichtenstein</td></tr></tbody></table></div>"
      ],
      "text/latex": [
       "\\begin{tabular}{r|cc}\n",
       "\t& label & name\\\\\n",
       "\t\\hline\n",
       "\t& String? & String?\\\\\n",
       "\t\\hline\n",
       "\t1 & Kassel-Wahlershausen & Wahlershausen \\\\\n",
       "\t2 & Brandhofen & Spohla \\\\\n",
       "\t3 & Seebad Ahlbeck & Ahlbeck \\\\\n",
       "\t4 & Stadt Schwedt/Oder & Schwedt (Oder) \\\\\n",
       "\t5 & Dreiwerden & Schönborn-Dreiwerden \\\\\n",
       "\t6 & Groß Salze & Salzelmen \\\\\n",
       "\t7 & Bad Salzelmen & Salzelmen \\\\\n",
       "\t8 & Grenzkirch & Podrosche \\\\\n",
       "\t9 & Boltenhagen & Ostseebad Boltenhagen \\\\\n",
       "\t10 & Neugeroburg & Neu-Byhleguhre \\\\\n",
       "\t11 & Berlin-Marzahn & Marzahn \\\\\n",
       "\t12 & Lichtenstein-Callnberg & Lichtenstein \\\\\n",
       "\\end{tabular}\n"
      ],
      "text/plain": [
       "\u001b[1m12×2 DataFrame\u001b[0m\n",
       "\u001b[1m Row \u001b[0m│\u001b[1m label                  \u001b[0m\u001b[1m name                  \u001b[0m\n",
       "\u001b[1m     \u001b[0m│\u001b[90m String?                \u001b[0m\u001b[90m String?               \u001b[0m\n",
       "─────┼───────────────────────────────────────────────\n",
       "   1 │ Kassel-Wahlershausen    Wahlershausen\n",
       "   2 │ Brandhofen              Spohla\n",
       "   3 │ Seebad Ahlbeck          Ahlbeck\n",
       "   4 │ Stadt Schwedt/Oder      Schwedt (Oder)\n",
       "   5 │ Dreiwerden              Schönborn-Dreiwerden\n",
       "   6 │ Groß Salze              Salzelmen\n",
       "   7 │ Bad Salzelmen           Salzelmen\n",
       "   8 │ Grenzkirch              Podrosche\n",
       "   9 │ Boltenhagen             Ostseebad Boltenhagen\n",
       "  10 │ Neugeroburg             Neu-Byhleguhre\n",
       "  11 │ Berlin-Marzahn          Marzahn\n",
       "  12 │ Lichtenstein-Callnberg  Lichtenstein"
      ]
     },
     "execution_count": 13,
     "metadata": {},
     "output_type": "execute_result"
    }
   ],
   "source": [
    "sql = \"SELECT label, p.name FROM place_label AS pl \" *\n",
    "\"JOIN place AS p ON pl.geonames_id = p.geonames_id \" *\n",
    "\"WHERE pl.lang = 'de' AND p.country_code = 'DE' \" *\n",
    "\"AND pl.label <> p.name \" *\n",
    "\"LIMIT 12\"\n",
    "df_name_udt = db_exec(sql)"
   ]
  },
  {
   "cell_type": "code",
   "execution_count": 15,
   "metadata": {},
   "outputs": [
    {
     "data": {
      "text/html": [
       "<div class=\"data-frame\"><p>1 rows × 1 columns</p><table class=\"data-frame\"><thead><tr><th></th><th>count(*)</th></tr><tr><th></th><th title=\"Int64\">Int64</th></tr></thead><tbody><tr><th>1</th><td>747</td></tr></tbody></table></div>"
      ],
      "text/latex": [
       "\\begin{tabular}{r|c}\n",
       "\t& count(*)\\\\\n",
       "\t\\hline\n",
       "\t& Int64\\\\\n",
       "\t\\hline\n",
       "\t1 & 747 \\\\\n",
       "\\end{tabular}\n"
      ],
      "text/plain": [
       "\u001b[1m1×1 DataFrame\u001b[0m\n",
       "\u001b[1m Row \u001b[0m│\u001b[1m count(*) \u001b[0m\n",
       "\u001b[1m     \u001b[0m│\u001b[90m Int64    \u001b[0m\n",
       "─────┼──────────\n",
       "   1 │      747"
      ]
     },
     "execution_count": 15,
     "metadata": {},
     "output_type": "execute_result"
    }
   ],
   "source": [
    "sql = \"SELECT count(*) FROM place_label AS pl \" *\n",
    "\"JOIN place AS p ON pl.geonames_id = p.geonames_id \" *\n",
    "\"WHERE pl.lang = 'de' AND p.country_code = 'DE' \" *\n",
    "\"AND pl.label <> p.name \"\n",
    "n = db_exec(sql)"
   ]
  },
  {
   "cell_type": "markdown",
   "metadata": {},
   "source": [
    "Es scheint im Allgemeinen keine gute Idee zu sein, generell den deutschen Eintrag aus `place_label` zu übernehmen. Man wird einzelne Orte evtl. redaktionell bearbeiten müssen, indem man einen deutschen Namen in `place_label` als bevorzugten Namen auszeichnet."
   ]
  },
  {
   "cell_type": "markdown",
   "metadata": {},
   "source": [
    "## Quellen/Institutionen für externe IDs\n",
    "\n",
    "Quelle: Tabelle `wiag.external_url_type`"
   ]
  },
  {
   "cell_type": "code",
   "execution_count": 9,
   "metadata": {},
   "outputs": [],
   "source": [
    "using CSV, DataFrames, MySQL"
   ]
  },
  {
   "cell_type": "code",
   "execution_count": 10,
   "metadata": {},
   "outputs": [
    {
     "data": {
      "text/plain": [
       "db_exec (generic function with 1 method)"
      ]
     },
     "execution_count": 10,
     "metadata": {},
     "output_type": "execute_result"
    }
   ],
   "source": [
    "db_exec(sql) = DBInterface.execute(Wds.dbwiag, sql)"
   ]
  },
  {
   "cell_type": "code",
   "execution_count": null,
   "metadata": {},
   "outputs": [],
   "source": [
    "sql = \"SELECT id_url_type as id, url_type, url_name_formatter, url_formatter, url_value_example, display_order \" *\n",
    "    \"FROM wiag.external_url_type\"\n",
    "df_authority = DBInterface.execute(Wds.dbwiag, sql) |> DataFrame;"
   ]
  },
  {
   "cell_type": "code",
   "execution_count": null,
   "metadata": {},
   "outputs": [],
   "source": [
    "df_authority[1:5, [:id, :url_type, :url_name_formatter]]"
   ]
  },
  {
   "cell_type": "code",
   "execution_count": null,
   "metadata": {},
   "outputs": [],
   "source": [
    "Wds.filltable!(\"authority\", df_authority, clear_table=true);"
   ]
  },
  {
   "cell_type": "markdown",
   "metadata": {},
   "source": [
    "Gemeinsamen Verbundkatalog (GVK) aufnehmen"
   ]
  },
  {
   "cell_type": "code",
   "execution_count": null,
   "metadata": {},
   "outputs": [],
   "source": [
    "sql_gvk = \"INSERT INTO authority (id, url_name_formatter, url_formatter, url_value_example)\" *\n",
    "    \"VALUES (53, 'GVK - Gemeinsamer Verbundkatalog', 'https://kxp.k10plus.de/DB=2.1/PPNSET?PPN=', '02621539X')\""
   ]
  },
  {
   "cell_type": "code",
   "execution_count": null,
   "metadata": {},
   "outputs": [],
   "source": [
    "DBInterface.execute(Wds.dbwiag, sql_gvk);"
   ]
  },
  {
   "cell_type": "markdown",
   "metadata": {},
   "source": [
    "*TODO* evtl. `url_type` für GVK ergänzen"
   ]
  },
  {
   "cell_type": "markdown",
   "metadata": {},
   "source": [
    "Personendatenbank der Germania Sacra aufnehmen"
   ]
  },
  {
   "cell_type": "code",
   "execution_count": 11,
   "metadata": {},
   "outputs": [],
   "source": [
    "sql = \"INSERT INTO authority (id, url_name_formatter, url_formatter, url_value_example)\" *\n",
    "    \"VALUES (200, 'Personendatenbank der Germania Sacra', 'http://personendatenbank.germania-sacra.de/index/gsn/', '079-00974-001')\"\n",
    "db_exec(sql);"
   ]
  },
  {
   "cell_type": "markdown",
   "metadata": {},
   "source": [
    "## Quellen/Referenzen"
   ]
  },
  {
   "cell_type": "markdown",
   "metadata": {},
   "source": [
    "### Referenzen für Bischöfe und Bistümer\n",
    "Quelle: Tabelle `wiag.reference`"
   ]
  },
  {
   "cell_type": "code",
   "execution_count": null,
   "metadata": {},
   "outputs": [],
   "source": [
    "sql = \"SELECT id_ref as id, \" *\n",
    "    \"full_citation, \" *\n",
    "    \"author_editor, \" *\n",
    "    \"onlineressource as online_resource, \" *\n",
    "    \"short_title as title_short, \" *\n",
    "    \"ri_opac_id, \" *\n",
    "    \"year_of_publication as year_publication, \" *\n",
    "    \"isbn, \" *\n",
    "    \"sort as display_order \" *\n",
    "    \"FROM wiag.reference \" *\n",
    "    \"WHERE id_ref <= 5\"\n",
    "df_ref_gatz = DBInterface.execute(Wds.dbwiag, sql) |> DataFrame;"
   ]
  },
  {
   "cell_type": "code",
   "execution_count": null,
   "metadata": {},
   "outputs": [],
   "source": [
    "df_ref_gatz[:, [:id, :title_short, :isbn]]"
   ]
  },
  {
   "cell_type": "code",
   "execution_count": null,
   "metadata": {},
   "outputs": [],
   "source": [
    "Wds.filltable!(\"reference_volume\", df_ref_gatz)"
   ]
  },
  {
   "cell_type": "markdown",
   "metadata": {},
   "source": [
    "GVK in `ref_id_external` eintragen"
   ]
  },
  {
   "cell_type": "code",
   "execution_count": 10,
   "metadata": {},
   "outputs": [],
   "source": [
    "sql = \"SELECT id_ref as reference_id, \" *\n",
    "    \"53 as authority_id, \" *\n",
    "    \"short_title as title_short, \" *\n",
    "    \"gbv \" *    \n",
    "    \"FROM wiag.reference \" *\n",
    "    \"WHERE id_ref <= 5\"\n",
    "df_ref_ext = DBInterface.execute(Wds.dbwiag, sql) |> DataFrame;"
   ]
  },
  {
   "cell_type": "code",
   "execution_count": 11,
   "metadata": {},
   "outputs": [
    {
     "data": {
      "text/html": [
       "<div class=\"data-frame\"><p>5 rows × 4 columns</p><table class=\"data-frame\"><thead><tr><th></th><th>reference_id</th><th>authority_id</th><th>title_short</th><th>gbv</th></tr><tr><th></th><th title=\"Int32\">Int32</th><th title=\"Int64\">Int64</th><th title=\"Union{Missing, String}\">String?</th><th title=\"Union{Missing, String}\">String?</th></tr></thead><tbody><tr><th>1</th><td>1</td><td>53</td><td>Gatz, Bischöfe 1198 bis 1448</td><td>https://kxp.k10plus.de/DB=2.1/PPNSET?PPN=336676557</td></tr><tr><th>2</th><td>2</td><td>53</td><td>Gatz, Bistümer</td><td>https://kxp.k10plus.de/DB=2.1/PPNSET?PPN=365121304</td></tr><tr><th>3</th><td>3</td><td>53</td><td>Gatz, Bischöfe 1448 bis 1648</td><td>https://kxp.k10plus.de/DB=2.1/PPNSET?PPN=215267079</td></tr><tr><th>4</th><td>4</td><td>53</td><td>Gatz, Bischöfe 1648 bis 1803</td><td>https://kxp.k10plus.de/DB=2.1/PPNSET?PPN=02621539X</td></tr><tr><th>5</th><td>5</td><td>53</td><td>Gatz, Bischöfe 1785/1803 bis 1945</td><td>https://kxp.k10plus.de/DB=2.1/PPNSET?PPN=024331090</td></tr></tbody></table></div>"
      ],
      "text/latex": [
       "\\begin{tabular}{r|cccc}\n",
       "\t& reference\\_id & authority\\_id & title\\_short & gbv\\\\\n",
       "\t\\hline\n",
       "\t& Int32 & Int64 & String? & String?\\\\\n",
       "\t\\hline\n",
       "\t1 & 1 & 53 & Gatz, Bischöfe 1198 bis 1448 & https://kxp.k10plus.de/DB=2.1/PPNSET?PPN=336676557 \\\\\n",
       "\t2 & 2 & 53 & Gatz, Bistümer & https://kxp.k10plus.de/DB=2.1/PPNSET?PPN=365121304 \\\\\n",
       "\t3 & 3 & 53 & Gatz, Bischöfe 1448 bis 1648 & https://kxp.k10plus.de/DB=2.1/PPNSET?PPN=215267079 \\\\\n",
       "\t4 & 4 & 53 & Gatz, Bischöfe 1648 bis 1803 & https://kxp.k10plus.de/DB=2.1/PPNSET?PPN=02621539X \\\\\n",
       "\t5 & 5 & 53 & Gatz, Bischöfe 1785/1803 bis 1945 & https://kxp.k10plus.de/DB=2.1/PPNSET?PPN=024331090 \\\\\n",
       "\\end{tabular}\n"
      ],
      "text/plain": [
       "\u001b[1m5×4 DataFrame\u001b[0m\n",
       "\u001b[1m Row \u001b[0m│\u001b[1m reference_id \u001b[0m\u001b[1m authority_id \u001b[0m\u001b[1m title_short                       \u001b[0m\u001b[1m gbv     \u001b[0m ⋯\n",
       "\u001b[1m     \u001b[0m│\u001b[90m Int32        \u001b[0m\u001b[90m Int64        \u001b[0m\u001b[90m String?                           \u001b[0m\u001b[90m String? \u001b[0m ⋯\n",
       "─────┼──────────────────────────────────────────────────────────────────────────\n",
       "   1 │            1            53  Gatz, Bischöfe 1198 bis 1448       https:// ⋯\n",
       "   2 │            2            53  Gatz, Bistümer                     https://\n",
       "   3 │            3            53  Gatz, Bischöfe 1448 bis 1648       https://\n",
       "   4 │            4            53  Gatz, Bischöfe 1648 bis 1803       https://\n",
       "   5 │            5            53  Gatz, Bischöfe 1785/1803 bis 1945  https:// ⋯\n",
       "\u001b[36m                                                                1 column omitted\u001b[0m"
      ]
     },
     "execution_count": 11,
     "metadata": {},
     "output_type": "execute_result"
    }
   ],
   "source": [
    "filter(:gbv => !ismissing, df_ref_ext)"
   ]
  },
  {
   "cell_type": "code",
   "execution_count": 13,
   "metadata": {},
   "outputs": [
    {
     "data": {
      "text/plain": [
       "extract_ppn (generic function with 1 method)"
      ]
     },
     "execution_count": 13,
     "metadata": {},
     "output_type": "execute_result"
    }
   ],
   "source": [
    "function extract_ppn(s)\n",
    "    rgm = match(r\"PPN=(.+$)\", s)\n",
    "    ppn = nothing\n",
    "    if !isnothing(rgm)\n",
    "        ppn = rgm[1]\n",
    "    end\n",
    "end"
   ]
  },
  {
   "cell_type": "code",
   "execution_count": null,
   "metadata": {},
   "outputs": [],
   "source": [
    "extract_ppn(\"https://kxp.k10plus.de/DB=2.1/PPNSET?PPN=215267079\")"
   ]
  },
  {
   "cell_type": "code",
   "execution_count": 14,
   "metadata": {},
   "outputs": [
    {
     "data": {
      "text/plain": [
       "5-element Vector{SubString{String}}:\n",
       " \"336676557\"\n",
       " \"365121304\"\n",
       " \"215267079\"\n",
       " \"02621539X\"\n",
       " \"024331090\""
      ]
     },
     "execution_count": 14,
     "metadata": {},
     "output_type": "execute_result"
    }
   ],
   "source": [
    "df_ref_ext[!, :value] .= extract_ppn.(df_ref_ext[!, :gbv])"
   ]
  },
  {
   "cell_type": "code",
   "execution_count": null,
   "metadata": {},
   "outputs": [],
   "source": [
    "Wds.filltable!(\"ref_id_external\", df_ref_ext[!, [:reference_id, :authority_id, :value]])"
   ]
  },
  {
   "cell_type": "markdown",
   "metadata": {},
   "source": [
    "### Referenzen für Domherren der Germania Sacra\n",
    "Quelle: Tabelle `gso_in_202202.books`"
   ]
  },
  {
   "cell_type": "code",
   "execution_count": 30,
   "metadata": {},
   "outputs": [],
   "source": [
    "using DataFrames"
   ]
  },
  {
   "cell_type": "code",
   "execution_count": 20,
   "metadata": {},
   "outputs": [],
   "source": [
    "gso_db = \"gso_in_202202\"\n",
    "table_name = \"books\"\n",
    "sql = \"SELECT id, nummer, titel, kurztitel, autoren, jahr, `order` as gs_display_order, uri\n",
    "FROM $(gso_db).$(table_name)\"\n",
    "df_ref_gs = Wds.sql_df(sql);"
   ]
  },
  {
   "cell_type": "code",
   "execution_count": 11,
   "metadata": {},
   "outputs": [
    {
     "data": {
      "text/plain": [
       "87"
      ]
     },
     "execution_count": 11,
     "metadata": {},
     "output_type": "execute_result"
    }
   ],
   "source": [
    "size(df_ref_gs, 1)"
   ]
  },
  {
   "cell_type": "code",
   "execution_count": 14,
   "metadata": {},
   "outputs": [
    {
     "data": {
      "text/html": [
       "<div class=\"data-frame\"><p>6 rows × 4 columns</p><table class=\"data-frame\"><thead><tr><th></th><th>id</th><th>nummer</th><th>kurztitel</th><th>gs_display_order</th></tr><tr><th></th><th title=\"Int32\">Int32</th><th title=\"Union{Missing, String}\">String?</th><th title=\"String\">String</th><th title=\"Union{Missing, Int32}\">Int32?</th></tr></thead><tbody><tr><th>1</th><td>6</td><td>AF II, 1937</td><td>AF II, Bistum Bamberg</td><td>6</td></tr><tr><th>2</th><td>7</td><td>AF II, 1966</td><td>AF II, Bistum Bamberg, Pfarreiorganisation</td><td>7</td></tr><tr><th>3</th><td>8</td><td>AF III, 1938</td><td>AF III, Archidiakonat Xanten</td><td>8</td></tr><tr><th>4</th><td>9</td><td>NF 1</td><td>NF 1, Würzburger Bischöfe bis 1254</td><td>9</td></tr><tr><th>5</th><td>10</td><td>NF 2</td><td>NF 2, Cistercienserabtei Altenberg</td><td>10</td></tr><tr><th>6</th><td>11</td><td>NF 3</td><td>NF 3, Schwesternhäuser Augustinerregel, Münster</td><td>11</td></tr></tbody></table></div>"
      ],
      "text/latex": [
       "\\begin{tabular}{r|cccc}\n",
       "\t& id & nummer & kurztitel & gs\\_display\\_order\\\\\n",
       "\t\\hline\n",
       "\t& Int32 & String? & String & Int32?\\\\\n",
       "\t\\hline\n",
       "\t1 & 6 & AF II, 1937 & AF II, Bistum Bamberg & 6 \\\\\n",
       "\t2 & 7 & AF II, 1966 & AF II, Bistum Bamberg, Pfarreiorganisation & 7 \\\\\n",
       "\t3 & 8 & AF III, 1938 & AF III, Archidiakonat Xanten & 8 \\\\\n",
       "\t4 & 9 & NF 1 & NF 1, Würzburger Bischöfe bis 1254 & 9 \\\\\n",
       "\t5 & 10 & NF 2 & NF 2, Cistercienserabtei Altenberg & 10 \\\\\n",
       "\t6 & 11 & NF 3 & NF 3, Schwesternhäuser Augustinerregel, Münster & 11 \\\\\n",
       "\\end{tabular}\n"
      ],
      "text/plain": [
       "\u001b[1m6×4 DataFrame\u001b[0m\n",
       "\u001b[1m Row \u001b[0m│\u001b[1m id    \u001b[0m\u001b[1m nummer       \u001b[0m\u001b[1m kurztitel                         \u001b[0m\u001b[1m gs_display_orde\u001b[0m ⋯\n",
       "\u001b[1m     \u001b[0m│\u001b[90m Int32 \u001b[0m\u001b[90m String?      \u001b[0m\u001b[90m String                            \u001b[0m\u001b[90m Int32?         \u001b[0m ⋯\n",
       "─────┼──────────────────────────────────────────────────────────────────────────\n",
       "   1 │     6  AF II, 1937   AF II, Bistum Bamberg                              ⋯\n",
       "   2 │     7  AF II, 1966   AF II, Bistum Bamberg, Pfarreior…\n",
       "   3 │     8  AF III, 1938  AF III, Archidiakonat Xanten\n",
       "   4 │     9  NF 1          NF 1, Würzburger Bischöfe bis 12…\n",
       "   5 │    10  NF 2          NF 2, Cistercienserabtei Altenbe…                1 ⋯\n",
       "   6 │    11  NF 3          NF 3, Schwesternhäuser Augustine…                1\n",
       "\u001b[36m                                                                1 column omitted\u001b[0m"
      ]
     },
     "execution_count": 14,
     "metadata": {},
     "output_type": "execute_result"
    }
   ],
   "source": [
    "df_ref_gs[5:10, [:id, :nummer, :kurztitel, :gs_display_order]]"
   ]
  },
  {
   "cell_type": "code",
   "execution_count": 15,
   "metadata": {},
   "outputs": [
    {
     "data": {
      "text/plain": [
       "6"
      ]
     },
     "execution_count": 15,
     "metadata": {},
     "output_type": "execute_result"
    }
   ],
   "source": [
    "item_type_canon_gs = 6"
   ]
  },
  {
   "cell_type": "code",
   "execution_count": 21,
   "metadata": {},
   "outputs": [],
   "source": [
    "df_ref_gs[!, :item_type_id] .= item_type_canon_gs;"
   ]
  },
  {
   "cell_type": "code",
   "execution_count": 32,
   "metadata": {},
   "outputs": [
    {
     "data": {
      "text/plain": [
       "9-element Vector{Pair{Symbol, Symbol}}:\n",
       "            :titel => :full_citation\n",
       "        :kurztitel => :title_short\n",
       "           :nummer => :gs_volume_nr\n",
       "          :autoren => :author_editor\n",
       "             :jahr => :year_publication\n",
       " :gs_display_order => :display_order\n",
       "              :uri => :gs_url\n",
       "               :id => :reference_id\n",
       "     :item_type_id => :item_type_id"
      ]
     },
     "execution_count": 32,
     "metadata": {},
     "output_type": "execute_result"
    }
   ],
   "source": [
    "columns = [\n",
    "    :titel => :full_citation,\n",
    "    :kurztitel => :title_short,\n",
    "    :nummer => :gs_volume_nr,\n",
    "    :autoren => :author_editor,\n",
    "    :jahr => :year_publication,\n",
    "    :gs_display_order => :display_order,\n",
    "    :uri => :gs_url,\n",
    "    :id => :reference_id,\n",
    "    :item_type_id => :item_type_id\n",
    "]"
   ]
  },
  {
   "cell_type": "code",
   "execution_count": 27,
   "metadata": {},
   "outputs": [
    {
     "data": {
      "text/plain": [
       "9-element Vector{String}:\n",
       " \"id\"\n",
       " \"nummer\"\n",
       " \"titel\"\n",
       " \"kurztitel\"\n",
       " \"autoren\"\n",
       " \"jahr\"\n",
       " \"gs_display_order\"\n",
       " \"uri\"\n",
       " \"item_type_id\""
      ]
     },
     "execution_count": 27,
     "metadata": {},
     "output_type": "execute_result"
    }
   ],
   "source": [
    "names(df_ref_gs)"
   ]
  },
  {
   "cell_type": "code",
   "execution_count": 33,
   "metadata": {},
   "outputs": [
    {
     "name": "stderr",
     "output_type": "stream",
     "text": [
      "┌ Info: Rows inserted: 87\n",
      "└ @ WiagDataSetup C:\\Users\\georg\\Documents\\projekte\\WiagDataSetup.jl\\src\\WiagDataSetup.jl:1208\n"
     ]
    },
    {
     "data": {
      "text/plain": [
       "87"
      ]
     },
     "execution_count": 33,
     "metadata": {},
     "output_type": "execute_result"
    }
   ],
   "source": [
    "table_name = \"reference_volume\"\n",
    "Wds.filltable!(table_name, select(df_ref_gs, columns))"
   ]
  },
  {
   "cell_type": "code",
   "execution_count": null,
   "metadata": {},
   "outputs": [],
   "source": []
  },
  {
   "cell_type": "markdown",
   "metadata": {},
   "source": [
    "## Ämter\n",
    "Quelle: Access, `GS_Domherren_DB` - `tbl_aemterliste_normiert`\n",
    "\n",
    "*2022-01-13*"
   ]
  },
  {
   "cell_type": "code",
   "execution_count": 17,
   "metadata": {},
   "outputs": [],
   "source": [
    "using MySQL, DataFrames, Dates"
   ]
  },
  {
   "cell_type": "code",
   "execution_count": 9,
   "metadata": {},
   "outputs": [],
   "source": [
    "item_type_id = 8;"
   ]
  },
  {
   "cell_type": "code",
   "execution_count": 26,
   "metadata": {},
   "outputs": [],
   "source": [
    "sql = \"SELECT id_amt_norm AS id_in_source, AmtNorm AS name, Bemerkung AS note \n",
    "FROM domherr.tbl_aemterliste_normiert\"\n",
    "df_role = Wds.sql_df(sql);"
   ]
  },
  {
   "cell_type": "markdown",
   "metadata": {},
   "source": [
    "Einträge in `item`"
   ]
  },
  {
   "cell_type": "markdown",
   "metadata": {},
   "source": [
    "Bestehende Einträge löschen"
   ]
  },
  {
   "cell_type": "code",
   "execution_count": 13,
   "metadata": {},
   "outputs": [
    {
     "data": {
      "text/plain": [
       "MySQL.TextCursor{true}(MySQL.Connection(host=\"127.0.0.1\", user=\"georg\", port=\"3306\", db=\"wiag2\"), \"DELETE FROM item WHERE item_type_id = 8\", 0, -1, 113, MySQL.API.MYSQL_RES(Ptr{Nothing} @0x0000000000000000), Symbol[], Type[], Dict{Symbol, Int64}(), 0, 1, false)"
      ]
     },
     "execution_count": 13,
     "metadata": {},
     "output_type": "execute_result"
    }
   ],
   "source": [
    "table_name = \"item\";\n",
    "sql = \"DELETE FROM $(table_name) WHERE item_type_id = $(item_type_id)\";\n",
    "DBInterface.execute(Wds.dbwiag, sql)"
   ]
  },
  {
   "cell_type": "code",
   "execution_count": 27,
   "metadata": {},
   "outputs": [
    {
     "data": {
      "text/plain": [
       "3-element Vector{String}:\n",
       " \"id_in_source\"\n",
       " \"name\"\n",
       " \"note\""
      ]
     },
     "execution_count": 27,
     "metadata": {},
     "output_type": "execute_result"
    }
   ],
   "source": [
    "names(df_role)"
   ]
  },
  {
   "cell_type": "code",
   "execution_count": 15,
   "metadata": {},
   "outputs": [
    {
     "data": {
      "text/plain": [
       "2-element Vector{Pair{Symbol, Symbol}}:\n",
       "   :id => :id_in_source\n",
       " :name => :item_in_source"
      ]
     },
     "execution_count": 15,
     "metadata": {},
     "output_type": "execute_result"
    }
   ],
   "source": [
    "columns = [\n",
    "    :id_in_source => :id_in_source,\n",
    "    :name => :item_in_source,\n",
    "]"
   ]
  },
  {
   "cell_type": "code",
   "execution_count": 23,
   "metadata": {},
   "outputs": [],
   "source": [
    "df_item = select(df_role, columns);"
   ]
  },
  {
   "cell_type": "code",
   "execution_count": 18,
   "metadata": {},
   "outputs": [],
   "source": [
    "user_wiag_id = 1;\n",
    "time_stamp = Dates.format(now(), dateformat\"yyyy-mm-dd HH:MM\");"
   ]
  },
  {
   "cell_type": "code",
   "execution_count": 24,
   "metadata": {},
   "outputs": [],
   "source": [
    "insertcols!(\n",
    "    df_item, \n",
    "    3,\n",
    "    :item_type_id => item_type_id,\n",
    "    :edit_status => \"importiert\",\n",
    "    :created_by => user_wiag_id,\n",
    "    :date_created => time_stamp,\n",
    "    :changed_by => user_wiag_id,\n",
    "    :date_changed => time_stamp,\n",
    "    :is_online => 1\n",
    ");"
   ]
  },
  {
   "cell_type": "code",
   "execution_count": 25,
   "metadata": {},
   "outputs": [
    {
     "name": "stderr",
     "output_type": "stream",
     "text": [
      "┌ Info: Rows inserted: 152\n",
      "└ @ WiagDataSetup C:\\Users\\georg\\Documents\\projekte\\WiagDataSetup.jl\\src\\WiagDataSetup.jl:1206\n"
     ]
    },
    {
     "data": {
      "text/plain": [
       "152"
      ]
     },
     "execution_count": 25,
     "metadata": {},
     "output_type": "execute_result"
    }
   ],
   "source": [
    "table_name = \"item\";\n",
    "Wds.filltable!(table_name, df_item, clear_table = false)"
   ]
  },
  {
   "cell_type": "markdown",
   "metadata": {},
   "source": [
    "IDs auslesen"
   ]
  },
  {
   "cell_type": "code",
   "execution_count": 29,
   "metadata": {},
   "outputs": [],
   "source": [
    "table_name = \"item\"\n",
    "sql = \"SELECT id, id_in_source FROM $(table_name) WHERE item_type_id = $(item_type_id)\"\n",
    "dfx = Wds.sql_df(sql);"
   ]
  },
  {
   "cell_type": "code",
   "execution_count": 30,
   "metadata": {},
   "outputs": [],
   "source": [
    "transform!(df_role, :id_in_source => ByRow(string) => :id_in_source);\n",
    "df_role_db = innerjoin(dfx, df_role, on = :id_in_source);"
   ]
  },
  {
   "cell_type": "code",
   "execution_count": 32,
   "metadata": {},
   "outputs": [
    {
     "data": {
      "text/plain": [
       "3-element Vector{Symbol}:\n",
       " :id\n",
       " :note\n",
       " :name"
      ]
     },
     "execution_count": 32,
     "metadata": {},
     "output_type": "execute_result"
    }
   ],
   "source": [
    "columns = [:id, :note, :name]"
   ]
  },
  {
   "cell_type": "code",
   "execution_count": 33,
   "metadata": {},
   "outputs": [
    {
     "name": "stderr",
     "output_type": "stream",
     "text": [
      "┌ Info: Rows inserted: 152\n",
      "└ @ WiagDataSetup C:\\Users\\georg\\Documents\\projekte\\WiagDataSetup.jl\\src\\WiagDataSetup.jl:1206\n"
     ]
    },
    {
     "data": {
      "text/plain": [
       "152"
      ]
     },
     "execution_count": 33,
     "metadata": {},
     "output_type": "execute_result"
    }
   ],
   "source": [
    "table_name = \"role\"\n",
    "Wds.filltable!(table_name, select(df_role_db, columns), clear_table = true)"
   ]
  },
  {
   "cell_type": "code",
   "execution_count": null,
   "metadata": {},
   "outputs": [],
   "source": []
  }
 ],
 "metadata": {
  "kernelspec": {
   "display_name": "Julia 1.7.0",
   "language": "julia",
   "name": "julia-1.7"
  },
  "language_info": {
   "file_extension": ".jl",
   "mimetype": "application/julia",
   "name": "julia",
   "version": "1.7.0"
  }
 },
 "nbformat": 4,
 "nbformat_minor": 4
}
