{
 "cells": [
  {
   "cell_type": "markdown",
   "metadata": {},
   "source": [
    "# Wissensaggregator Mittelalter und frühe Neuzeit\n",
    "WIAGweb2\n",
    "\n",
    "## Daten für Bischöfe aus dem Digitalen Personenregister einlesen\n",
    "\n",
    "Finde Einträge, die von der Bischofsdatenbank referenziert werden (sofern die verweisenden Bischöfe online sind).\n",
    "\n",
    "Übertrage Daten aus der GS-online. Die Daten werden aus der produktiven Datenbank auf eine lokale Datenbank eingelesen: `gso`\n",
    "\n",
    "[Literatur](#Literatur)  \n",
    "[Bischöfe](#Bischöfe)\n",
    "- [Einträge in `item`](#Einträge-in-item)\n",
    "- [Daten eintragen](#Daten-eintragen)\n",
    "- [Orden eintragen](#Orden-eintragen)\n",
    "- [Literaturverweise eintragen](#Literaturverweise-eintragen)\n",
    "- [Externe URLs eintragen](#Externe-URLs-eintragen)\n",
    "- [Namensvarianten eintragen](#Namensvarianten-eintragen)\n",
    "- [Suchvarianten eintragen (`name_lookup`)](#Suchvarianten-eintragen-(name_lookup))\n",
    "\n",
    "[Ämter](#Ämter)"
   ]
  },
  {
   "cell_type": "markdown",
   "metadata": {},
   "source": [
    "Quelle:  \n",
    "*2022-02-25* Datenbank `gso_in_202202`  \n",
    "*2022-05-03* Datenbank `gso_in_202204`  \n",
    "*2022-05-12* Datenbank `gso_in_202205`"
   ]
  },
  {
   "cell_type": "markdown",
   "metadata": {},
   "source": [
    "Vorspann: Pakete laden; mit der Datenbank verbinden"
   ]
  },
  {
   "cell_type": "code",
   "execution_count": 1,
   "metadata": {},
   "outputs": [
    {
     "data": {
      "text/plain": [
       "\"gso_in_202205\""
      ]
     },
     "execution_count": 1,
     "metadata": {},
     "output_type": "execute_result"
    }
   ],
   "source": [
    "gs_db = \"gso_in_202205\""
   ]
  },
  {
   "cell_type": "code",
   "execution_count": 2,
   "metadata": {},
   "outputs": [
    {
     "data": {
      "text/plain": [
       "\"../..\""
      ]
     },
     "execution_count": 2,
     "metadata": {},
     "output_type": "execute_result"
    }
   ],
   "source": [
    "wds_path=\"../..\""
   ]
  },
  {
   "cell_type": "code",
   "execution_count": 3,
   "metadata": {},
   "outputs": [],
   "source": [
    "cd(wds_path)"
   ]
  },
  {
   "cell_type": "code",
   "execution_count": 4,
   "metadata": {},
   "outputs": [],
   "source": [
    "using Pkg"
   ]
  },
  {
   "cell_type": "code",
   "execution_count": 5,
   "metadata": {},
   "outputs": [
    {
     "name": "stderr",
     "output_type": "stream",
     "text": [
      "\u001b[32m\u001b[1m  Activating\u001b[22m\u001b[39m project at `C:\\Users\\georg\\Documents\\projekte\\WiagDataSetup.jl`\n"
     ]
    }
   ],
   "source": [
    "Pkg.activate(\".\")"
   ]
  },
  {
   "cell_type": "code",
   "execution_count": 6,
   "metadata": {},
   "outputs": [],
   "source": [
    "using Revise"
   ]
  },
  {
   "cell_type": "code",
   "execution_count": 7,
   "metadata": {},
   "outputs": [],
   "source": [
    "using WiagDataSetup"
   ]
  },
  {
   "cell_type": "code",
   "execution_count": 8,
   "metadata": {},
   "outputs": [],
   "source": [
    "using MySQL, DataFrames"
   ]
  },
  {
   "cell_type": "code",
   "execution_count": 9,
   "metadata": {},
   "outputs": [
    {
     "data": {
      "text/plain": [
       "WiagDataSetup"
      ]
     },
     "execution_count": 9,
     "metadata": {},
     "output_type": "execute_result"
    }
   ],
   "source": [
    "Wds = WiagDataSetup"
   ]
  },
  {
   "cell_type": "code",
   "execution_count": 10,
   "metadata": {},
   "outputs": [
    {
     "name": "stdout",
     "output_type": "stream",
     "text": [
      "Passwort für User georg: ········\n"
     ]
    },
    {
     "data": {
      "text/plain": [
       "MySQL.Connection(host=\"127.0.0.1\", user=\"georg\", port=\"3306\", db=\"wiag2\")"
      ]
     },
     "execution_count": 10,
     "metadata": {},
     "output_type": "execute_result"
    }
   ],
   "source": [
    "Wds.setDBWIAG(user=\"georg\", db=\"wiag2\")"
   ]
  },
  {
   "cell_type": "code",
   "execution_count": 11,
   "metadata": {},
   "outputs": [
    {
     "data": {
      "text/plain": [
       "9"
      ]
     },
     "execution_count": 11,
     "metadata": {},
     "output_type": "execute_result"
    }
   ],
   "source": [
    "item_type_bishop_gs = 9"
   ]
  },
  {
   "cell_type": "markdown",
   "metadata": {},
   "source": [
    "*2022-03-22* einmalig  \n",
    "Eintrag in `item_type`"
   ]
  },
  {
   "cell_type": "code",
   "execution_count": 12,
   "metadata": {},
   "outputs": [
    {
     "data": {
      "text/html": [
       "<div class=\"data-frame\"><p>0 rows × 11 columns (omitted printing of 3 columns)</p><table class=\"data-frame\"><thead><tr><th></th><th>id</th><th>comment</th><th>name</th><th>note</th><th>created_by</th><th>date_created</th><th>changed_by</th><th>date_changed</th></tr><tr><th></th><th title=\"Int32\">Int32</th><th title=\"Union{Missing, String}\">String?</th><th title=\"Union{Missing, String}\">String?</th><th title=\"Union{Missing, String}\">String?</th><th title=\"Int32\">Int32</th><th title=\"Dates.DateTime\">DateTim…</th><th title=\"Int32\">Int32</th><th title=\"Union{Missing, Dates.DateTime}\">DateTim…?</th></tr></thead><tbody></tbody></table></div>"
      ],
      "text/latex": [
       "\\begin{tabular}{r|ccccccccc}\n",
       "\t& id & comment & name & note & created\\_by & date\\_created & changed\\_by & date\\_changed & \\\\\n",
       "\t\\hline\n",
       "\t& Int32 & String? & String? & String? & Int32 & DateTim… & Int32 & DateTim…? & \\\\\n",
       "\t\\hline\n",
       "\\end{tabular}\n"
      ],
      "text/plain": [
       "\u001b[1m0×11 DataFrame\u001b[0m"
      ]
     },
     "execution_count": 12,
     "metadata": {},
     "output_type": "execute_result"
    }
   ],
   "source": [
    "table_name = \"item_type\";\n",
    "sql = \"SELECT * FROM $(table_name)\n",
    "LIMIT 0\";\n",
    "df_type = Wds.sql_df(sql)"
   ]
  },
  {
   "cell_type": "code",
   "execution_count": 11,
   "metadata": {},
   "outputs": [],
   "source": [
    "using Dates"
   ]
  },
  {
   "cell_type": "code",
   "execution_count": 12,
   "metadata": {},
   "outputs": [
    {
     "ename": "LoadError",
     "evalue": "UndefVarError: df_type not defined",
     "output_type": "error",
     "traceback": [
      "UndefVarError: df_type not defined",
      "",
      "Stacktrace:",
      " [1] top-level scope",
      "   @ In[12]:1",
      " [2] eval",
      "   @ .\\boot.jl:373 [inlined]",
      " [3] include_string(mapexpr::typeof(REPL.softscope), mod::Module, code::String, filename::String)",
      "   @ Base .\\loading.jl:1196"
     ]
    }
   ],
   "source": [
    "names(df_type)"
   ]
  },
  {
   "cell_type": "code",
   "execution_count": 15,
   "metadata": {},
   "outputs": [],
   "source": [
    "user_wiag_id = 1;\n",
    "time_stamp = Dates.format(now(), dateformat\"yyyy-mm-dd HH:MM\");"
   ]
  },
  {
   "cell_type": "code",
   "execution_count": 17,
   "metadata": {},
   "outputs": [],
   "source": [
    "user_id_gh = 7;"
   ]
  },
  {
   "cell_type": "code",
   "execution_count": 22,
   "metadata": {},
   "outputs": [
    {
     "data": {
      "text/plain": [
       "(id = 9, comment = missing, name = \"Bischof GS\", note = \"Bischof des Alten Reiches aus der Personendatenbank der Germania Sacra\", id_public_key = missing, table_name = \"person\", name_app = \"bishop\", created_by = 7, date_created = DateTime(\"2022-03-22T08:05:26.440\"), changed_by = 7, date_changed = DateTime(\"2022-03-22T08:05:26.440\"))"
      ]
     },
     "execution_count": 22,
     "metadata": {},
     "output_type": "execute_result"
    }
   ],
   "source": [
    " rec = (id = item_type_bishop_gs, \n",
    "    comment = missing, \n",
    "    name = \"Bischof GS\", \n",
    "    note = \"Bischof des Alten Reiches aus der Personendatenbank der Germania Sacra\",\n",
    "    id_public_key = missing,\n",
    "    table_name = \"person\",\n",
    "    name_app = \"bishop\",\n",
    "    created_by = user_id_gh,\n",
    "    date_created = Dates.now(),\n",
    "    changed_by = user_id_gh,\n",
    "    date_changed = Dates.now())"
   ]
  },
  {
   "cell_type": "code",
   "execution_count": 23,
   "metadata": {},
   "outputs": [
    {
     "data": {
      "text/html": [
       "<div class=\"data-frame\"><p>1 rows × 11 columns (omitted printing of 7 columns)</p><table class=\"data-frame\"><thead><tr><th></th><th>id</th><th>comment</th><th>name</th><th>note</th></tr><tr><th></th><th title=\"Int32\">Int32</th><th title=\"Union{Missing, String}\">String?</th><th title=\"Union{Missing, String}\">String?</th><th title=\"Union{Missing, String}\">String?</th></tr></thead><tbody><tr><th>1</th><td>9</td><td><em>missing</em></td><td>Bischof GS</td><td>Bischof des Alten Reiches aus der Personendatenbank der Germania Sacra</td></tr></tbody></table></div>"
      ],
      "text/latex": [
       "\\begin{tabular}{r|ccccc}\n",
       "\t& id & comment & name & note & \\\\\n",
       "\t\\hline\n",
       "\t& Int32 & String? & String? & String? & \\\\\n",
       "\t\\hline\n",
       "\t1 & 9 & \\emph{missing} & Bischof GS & Bischof des Alten Reiches aus der Personendatenbank der Germania Sacra & $\\dots$ \\\\\n",
       "\\end{tabular}\n"
      ],
      "text/plain": [
       "\u001b[1m1×11 DataFrame\u001b[0m\n",
       "\u001b[1m Row \u001b[0m│\u001b[1m id    \u001b[0m\u001b[1m comment \u001b[0m\u001b[1m name       \u001b[0m\u001b[1m note                              \u001b[0m\n",
       "\u001b[1m     \u001b[0m│\u001b[90m Int32 \u001b[0m\u001b[90m String? \u001b[0m\u001b[90m String?    \u001b[0m\u001b[90m String?                           \u001b[0m\n",
       "─────┼──────────────────────────────────────────────────────────────────────────\n",
       "   1 │     9 \u001b[90m missing \u001b[0m Bischof GS  Bischof des Alten Reiches aus de…\n",
       "\u001b[36m                                                               7 columns omitted\u001b[0m"
      ]
     },
     "execution_count": 23,
     "metadata": {},
     "output_type": "execute_result"
    }
   ],
   "source": [
    "push!(df_type, rec)"
   ]
  },
  {
   "cell_type": "code",
   "execution_count": 24,
   "metadata": {},
   "outputs": [
    {
     "name": "stderr",
     "output_type": "stream",
     "text": [
      "┌ Info: Rows inserted: 1\n",
      "└ @ WiagDataSetup C:\\Users\\georg\\Documents\\projekte\\WiagDataSetup.jl\\src\\WiagDataSetup.jl:1208\n"
     ]
    },
    {
     "data": {
      "text/plain": [
       "1"
      ]
     },
     "execution_count": 24,
     "metadata": {},
     "output_type": "execute_result"
    }
   ],
   "source": [
    "table_name = \"item_type\"\n",
    "Wds.filltable!(table_name, df_type, clear_table = false)"
   ]
  },
  {
   "cell_type": "markdown",
   "metadata": {},
   "source": [
    "Item Type ID"
   ]
  },
  {
   "cell_type": "code",
   "execution_count": 12,
   "metadata": {},
   "outputs": [
    {
     "data": {
      "text/plain": [
       "9"
      ]
     },
     "execution_count": 12,
     "metadata": {},
     "output_type": "execute_result"
    }
   ],
   "source": [
    "item_type_id = item_type_bishop_gs"
   ]
  },
  {
   "cell_type": "markdown",
   "metadata": {},
   "source": [
    "## Löschungen für umfassendes Update"
   ]
  },
  {
   "cell_type": "code",
   "execution_count": 13,
   "metadata": {},
   "outputs": [
    {
     "data": {
      "text/plain": [
       "MySQL.TextCursor{true}(MySQL.Connection(host=\"127.0.0.1\", user=\"georg\", port=\"3306\", db=\"wiag2\"), \"DELETE FROM id_external\\nWHERE item_id IN\\n(SELECT id FROM item WHERE item_type_id = 9)\", 0, -1, 2503, MySQL.API.MYSQL_RES(Ptr{Nothing} @0x0000000000000000), Symbol[], Type[], Dict{Symbol, Int64}(), 0, 1, false)"
      ]
     },
     "execution_count": 13,
     "metadata": {},
     "output_type": "execute_result"
    }
   ],
   "source": [
    "table_name = \"id_external\";\n",
    "sql = \"DELETE FROM $(table_name)\n",
    "WHERE item_id IN\n",
    "(SELECT id FROM item WHERE item_type_id = $(item_type_id))\";\n",
    "DBInterface.execute(Wds.dbwiag, sql)"
   ]
  },
  {
   "cell_type": "code",
   "execution_count": 14,
   "metadata": {},
   "outputs": [
    {
     "data": {
      "text/plain": [
       "MySQL.TextCursor{true}(MySQL.Connection(host=\"127.0.0.1\", user=\"georg\", port=\"3306\", db=\"wiag2\"), \"DELETE FROM person_role_property\\nWHERE person_role_id IN\\n(SELECT id FROM person_role\\nWHERE person_id in (SELECT id from item WHERE item_type_id = 9))\", 0, -1, 0, MySQL.API.MYSQL_RES(Ptr{Nothing} @0x0000000000000000), Symbol[], Type[], Dict{Symbol, Int64}(), 0, 1, false)"
      ]
     },
     "execution_count": 14,
     "metadata": {},
     "output_type": "execute_result"
    }
   ],
   "source": [
    "table_name = \"person_role_property\";\n",
    "sql = \"DELETE FROM $(table_name)\n",
    "WHERE person_role_id IN\n",
    "(SELECT id FROM person_role\n",
    "WHERE person_id in (SELECT id from item WHERE item_type_id = $(item_type_id)))\";\n",
    "DBInterface.execute(Wds.dbwiag, sql)"
   ]
  },
  {
   "cell_type": "code",
   "execution_count": 15,
   "metadata": {},
   "outputs": [
    {
     "data": {
      "text/plain": [
       "MySQL.TextCursor{true}(MySQL.Connection(host=\"127.0.0.1\", user=\"georg\", port=\"3306\", db=\"wiag2\"), \"DELETE FROM person_role\\nWHERE person_id IN\\n(SELECT id FROM item WHERE item_type_id = 9)\", 0, -1, 2247, MySQL.API.MYSQL_RES(Ptr{Nothing} @0x0000000000000000), Symbol[], Type[], Dict{Symbol, Int64}(), 0, 1, false)"
      ]
     },
     "execution_count": 15,
     "metadata": {},
     "output_type": "execute_result"
    }
   ],
   "source": [
    "table_name = \"person_role\";\n",
    "sql = \"DELETE FROM $(table_name)\n",
    "WHERE person_id IN\n",
    "(SELECT id FROM item WHERE item_type_id = $(item_type_id))\";\n",
    "DBInterface.execute(Wds.dbwiag, sql)"
   ]
  },
  {
   "cell_type": "code",
   "execution_count": 16,
   "metadata": {},
   "outputs": [
    {
     "data": {
      "text/plain": [
       "MySQL.TextCursor{true}(MySQL.Connection(host=\"127.0.0.1\", user=\"georg\", port=\"3306\", db=\"wiag2\"), \"DELETE FROM person\\nWHERE id IN\\n(SELECT id FROM item WHERE item_type_id = 9)\", 0, -1, 1431, MySQL.API.MYSQL_RES(Ptr{Nothing} @0x0000000000000000), Symbol[], Type[], Dict{Symbol, Int64}(), 0, 1, false)"
      ]
     },
     "execution_count": 16,
     "metadata": {},
     "output_type": "execute_result"
    }
   ],
   "source": [
    "table_name = \"person\";\n",
    "sql = \"DELETE FROM $(table_name)\n",
    "WHERE id IN\n",
    "(SELECT id FROM item WHERE item_type_id = $(item_type_id))\";\n",
    "DBInterface.execute(Wds.dbwiag, sql)"
   ]
  },
  {
   "cell_type": "code",
   "execution_count": 17,
   "metadata": {},
   "outputs": [
    {
     "data": {
      "text/plain": [
       "MySQL.TextCursor{true}(MySQL.Connection(host=\"127.0.0.1\", user=\"georg\", port=\"3306\", db=\"wiag2\"), \"DELETE FROM item_reference\\nWHERE item_id IN\\n(SELECT id FROM item WHERE item_type_id = 9)\", 0, -1, 2310, MySQL.API.MYSQL_RES(Ptr{Nothing} @0x0000000000000000), Symbol[], Type[], Dict{Symbol, Int64}(), 0, 1, false)"
      ]
     },
     "execution_count": 17,
     "metadata": {},
     "output_type": "execute_result"
    }
   ],
   "source": [
    "table_name = \"item_reference\";\n",
    "sql = \"DELETE FROM $(table_name)\n",
    "WHERE item_id IN\n",
    "(SELECT id FROM item WHERE item_type_id = $(item_type_id))\";\n",
    "DBInterface.execute(Wds.dbwiag, sql)"
   ]
  },
  {
   "cell_type": "code",
   "execution_count": 18,
   "metadata": {},
   "outputs": [
    {
     "data": {
      "text/plain": [
       "MySQL.TextCursor{true}(MySQL.Connection(host=\"127.0.0.1\", user=\"georg\", port=\"3306\", db=\"wiag2\"), \"DELETE FROM item\\nWHERE item_type_id = 9\", 0, -1, 1431, MySQL.API.MYSQL_RES(Ptr{Nothing} @0x0000000000000000), Symbol[], Type[], Dict{Symbol, Int64}(), 0, 1, false)"
      ]
     },
     "execution_count": 18,
     "metadata": {},
     "output_type": "execute_result"
    }
   ],
   "source": [
    "table_name = \"item\";\n",
    "sql = \"DELETE FROM $(table_name)\n",
    "WHERE item_type_id = $(item_type_id)\";\n",
    "DBInterface.execute(Wds.dbwiag, sql)"
   ]
  },
  {
   "cell_type": "markdown",
   "metadata": {},
   "source": [
    "## Literatur\n",
    "Die Literatur ist dieselbe wie für die Domherren GS, wir brauchen sie aber nochmal mit einem neuen Wert für `item_type_id`."
   ]
  },
  {
   "cell_type": "code",
   "execution_count": 88,
   "metadata": {},
   "outputs": [],
   "source": [
    "table_name = gs_db * \".books\"\n",
    "sql = \"SELECT id, titel AS title, autoren AS author, nummer AS number_vol, \" *\n",
    "\"uri AS online_resource, kurztitel AS shorttitle \" *\n",
    "\"FROM $(table_name)\";\n",
    "df_vol = Wds.sql_df(sql);"
   ]
  },
  {
   "cell_type": "code",
   "execution_count": 89,
   "metadata": {},
   "outputs": [
    {
     "data": {
      "text/plain": [
       "6-element Vector{Pair{Symbol, Symbol}}:\n",
       "              :id => :reference_id\n",
       "           :title => :full_citation\n",
       "          :author => :author_editor\n",
       " :online_resource => :online_resource\n",
       "      :shorttitle => :title_short\n",
       "      :number_vol => :gs_volume_nr"
      ]
     },
     "execution_count": 89,
     "metadata": {},
     "output_type": "execute_result"
    }
   ],
   "source": [
    "columns = [\n",
    "    :id => :reference_id,\n",
    "    :title => :full_citation,\n",
    "    :author => :author_editor,\n",
    "    :online_resource => :online_resource,\n",
    "    :shorttitle => :title_short,\n",
    "    :number_vol => :gs_volume_nr,\n",
    "]"
   ]
  },
  {
   "cell_type": "code",
   "execution_count": 90,
   "metadata": {},
   "outputs": [],
   "source": [
    "df_vol_db = select(df_vol, columns);"
   ]
  },
  {
   "cell_type": "code",
   "execution_count": 92,
   "metadata": {},
   "outputs": [],
   "source": [
    "df_vol_db[!, :item_type_id] .= item_type_bishop_gs;"
   ]
  },
  {
   "cell_type": "markdown",
   "metadata": {},
   "source": [
    "Bestehende Einträge löschen"
   ]
  },
  {
   "cell_type": "code",
   "execution_count": 93,
   "metadata": {},
   "outputs": [
    {
     "data": {
      "text/plain": [
       "MySQL.TextCursor{true}(MySQL.Connection(host=\"127.0.0.1\", user=\"georg\", port=\"3306\", db=\"wiag2\"), \"DELETE FROM reference_volume WHERE item_type_id = 9\", 0, -1, 0, MySQL.API.MYSQL_RES(Ptr{Nothing} @0x0000000000000000), Symbol[], Type[], Dict{Symbol, Int64}(), 0, 1, false)"
      ]
     },
     "execution_count": 93,
     "metadata": {},
     "output_type": "execute_result"
    }
   ],
   "source": [
    "table_name = \"reference_volume\"\n",
    "sql = \"DELETE FROM $(table_name) WHERE item_type_id = $(item_type_bishop_gs)\";\n",
    "DBInterface.execute(Wds.dbwiag, sql)"
   ]
  },
  {
   "cell_type": "markdown",
   "metadata": {},
   "source": [
    "Daten eintragen"
   ]
  },
  {
   "cell_type": "code",
   "execution_count": 94,
   "metadata": {},
   "outputs": [
    {
     "name": "stderr",
     "output_type": "stream",
     "text": [
      "┌ Info: Rows inserted: 87\n",
      "└ @ WiagDataSetup C:\\Users\\georg\\Documents\\projekte\\WiagDataSetup.jl\\src\\WiagDataSetup.jl:1208\n"
     ]
    },
    {
     "data": {
      "text/plain": [
       "87"
      ]
     },
     "execution_count": 94,
     "metadata": {},
     "output_type": "execute_result"
    }
   ],
   "source": [
    "Wds.filltable!(table_name, df_vol_db, clear_table = false)"
   ]
  },
  {
   "cell_type": "markdown",
   "metadata": {},
   "source": [
    "## Bischöfe"
   ]
  },
  {
   "cell_type": "markdown",
   "metadata": {},
   "source": [
    "Betrachte nur Personen, deren Eintrag nicht gelöscht ist und die online sind. Die maßgebliche GSN steht in dem Datensatz mit dem kleinsten Wert der id."
   ]
  },
  {
   "cell_type": "markdown",
   "metadata": {},
   "source": [
    "Finde Einträge, die von der Bischofsdatenbank referenziert werden (sofern die verweisenden Bischöfe online sind!)"
   ]
  },
  {
   "cell_type": "code",
   "execution_count": 19,
   "metadata": {},
   "outputs": [],
   "source": [
    "item_type_bishop = 4\n",
    "table_name = \"item\";\n",
    "sql = \"SELECT item.id as ep_item_id, e.value AS gsn\n",
    "FROM wiag2.item \n",
    "JOIN wiag2.id_external AS e ON item.id = e.item_id\n",
    "WHERE item_type_id = $(item_type_bishop)\n",
    "AND authority_id = 200\n",
    "AND item.is_online\";\n",
    "ep_gsn = Wds.sql_df(sql);"
   ]
  },
  {
   "cell_type": "code",
   "execution_count": 20,
   "metadata": {},
   "outputs": [
    {
     "data": {
      "text/plain": [
       "2116"
      ]
     },
     "execution_count": 20,
     "metadata": {},
     "output_type": "execute_result"
    }
   ],
   "source": [
    "size(ep_gsn, 1)"
   ]
  },
  {
   "cell_type": "markdown",
   "metadata": {},
   "source": [
    "Lies aus `gsn` `item_id`"
   ]
  },
  {
   "cell_type": "code",
   "execution_count": 21,
   "metadata": {},
   "outputs": [],
   "source": [
    "table_name = gs_db * \".gsn\"\n",
    "sql = \"SELECT gsn.id as gsn_id, item_id, gsn.nummer, items.status \n",
    "FROM $(table_name)\n",
    "JOIN $(gs_db).items ON item_id = items.id\n",
    "AND NOT items.deleted AND items.status = 'online';\"\n",
    "item_all = Wds.sql_df(sql);"
   ]
  },
  {
   "cell_type": "code",
   "execution_count": 22,
   "metadata": {},
   "outputs": [],
   "source": [
    "ep_item_gsn = innerjoin(ep_gsn, item_all, on = :gsn => :nummer);"
   ]
  },
  {
   "cell_type": "code",
   "execution_count": 23,
   "metadata": {},
   "outputs": [
    {
     "data": {
      "text/plain": [
       "2116"
      ]
     },
     "execution_count": 23,
     "metadata": {},
     "output_type": "execute_result"
    }
   ],
   "source": [
    "size(ep_item_gsn, 1)"
   ]
  },
  {
   "cell_type": "code",
   "execution_count": 23,
   "metadata": {},
   "outputs": [
    {
     "data": {
      "text/plain": [
       "5-element Vector{String}:\n",
       " \"ep_item_id\"\n",
       " \"gsn\"\n",
       " \"gsn_id\"\n",
       " \"item_id\"\n",
       " \"status\""
      ]
     },
     "execution_count": 23,
     "metadata": {},
     "output_type": "execute_result"
    }
   ],
   "source": [
    "names(ep_item_gsn)"
   ]
  },
  {
   "cell_type": "markdown",
   "metadata": {},
   "source": [
    "`persons`"
   ]
  },
  {
   "cell_type": "code",
   "execution_count": 24,
   "metadata": {},
   "outputs": [],
   "source": [
    "table_name = gs_db * \".persons\"\n",
    "sql = \"SELECT p.id as id_person_gso, item_id, \" *\n",
    "\"namenspraefix, vorname, familienname, \" *\n",
    "\"sterbedatum, geburtsdatum, `orden`, \" *\n",
    "\"anmerkungen, titel, \" * \n",
    "\"gndnummer, viaf, \" *\n",
    "\"familiennamenvarianten, vornamenvarianten, \" *\n",
    "\"namenszusatz, \" *\n",
    "\"zeitraum_von, zeitraum_bis \" *\n",
    "\"FROM $(table_name) as p \" *\n",
    "\"JOIN $gs_db.items ON items.id = p.item_id \" *\n",
    "\"WHERE items.status = 'online' AND NOT items.deleted \" *\n",
    "\"ORDER BY p.id\";\n",
    "df_p = Wds.sql_df(sql);"
   ]
  },
  {
   "cell_type": "code",
   "execution_count": 25,
   "metadata": {},
   "outputs": [],
   "source": [
    "Wds.clean_up!(df_p)"
   ]
  },
  {
   "cell_type": "code",
   "execution_count": 26,
   "metadata": {},
   "outputs": [],
   "source": [
    "one_valid(x, y) = !ismissing(x) | !ismissing(y)\n",
    "subset!(df_p, [:vorname, :familienname] => ByRow(one_valid));"
   ]
  },
  {
   "cell_type": "code",
   "execution_count": 27,
   "metadata": {},
   "outputs": [],
   "source": [
    "df_p_gsn = innerjoin(df_p, ep_item_gsn, on = :item_id);"
   ]
  },
  {
   "cell_type": "code",
   "execution_count": 28,
   "metadata": {},
   "outputs": [
    {
     "data": {
      "text/plain": [
       "2116"
      ]
     },
     "execution_count": 28,
     "metadata": {},
     "output_type": "execute_result"
    }
   ],
   "source": [
    "size(df_p_gsn, 1)"
   ]
  },
  {
   "cell_type": "markdown",
   "metadata": {},
   "source": [
    "Die Bischöfe aus der Personendatenbank erhalten keine WIAG-ID"
   ]
  },
  {
   "cell_type": "markdown",
   "metadata": {},
   "source": [
    "Vermeide Dopplungen. Es werden keine Bischöfe aufgenommen, die schon als Domherren referenziert sind"
   ]
  },
  {
   "cell_type": "code",
   "execution_count": 29,
   "metadata": {},
   "outputs": [],
   "source": [
    "item_type_canon_gs = 6;\n",
    "table_name = \"item\";\n",
    "sql = \"SELECT * FROM $(table_name) WHERE item_type_id = $(item_type_canon_gs)\"\n",
    "df_gs = Wds.sql_df(sql);"
   ]
  },
  {
   "cell_type": "markdown",
   "metadata": {},
   "source": [
    "Wandle `id_person_gso` um in String für den Vergleich"
   ]
  },
  {
   "cell_type": "code",
   "execution_count": 30,
   "metadata": {},
   "outputs": [],
   "source": [
    "transform!(df_p_gsn, :id_person_gso => ByRow(string) => :id_in_source);"
   ]
  },
  {
   "cell_type": "code",
   "execution_count": 31,
   "metadata": {},
   "outputs": [],
   "source": [
    "df_p_gsn = antijoin(df_p_gsn, df_gs, on = :id_in_source);"
   ]
  },
  {
   "cell_type": "code",
   "execution_count": 32,
   "metadata": {},
   "outputs": [
    {
     "data": {
      "text/plain": [
       "1431"
      ]
     },
     "execution_count": 32,
     "metadata": {},
     "output_type": "execute_result"
    }
   ],
   "source": [
    "size(df_p_gsn, 1)"
   ]
  },
  {
   "cell_type": "markdown",
   "metadata": {},
   "source": [
    "### Einträge in `item`\n",
    "\n",
    "entsprechende Einträge in Tabelle `item` einfügen\n",
    "\n",
    "`id` für 'Bischof GS' in `item_type`: 9"
   ]
  },
  {
   "cell_type": "code",
   "execution_count": 33,
   "metadata": {},
   "outputs": [
    {
     "data": {
      "text/html": [
       "<div class=\"data-frame\"><p>6 rows × 5 columns</p><table class=\"data-frame\"><thead><tr><th></th><th>vorname</th><th>familienname</th><th>geburtsdatum</th><th>sterbedatum</th><th>id_in_source</th></tr><tr><th></th><th title=\"Union{Missing, String}\">String?</th><th title=\"Union{Missing, String}\">String?</th><th title=\"Union{Missing, String}\">String?</th><th title=\"Union{Missing, String}\">String?</th><th title=\"String\">String</th></tr></thead><tbody><tr><th>1</th><td>Heinrich</td><td>Hoya</td><td><em>missing</em></td><td>1441</td><td>191241</td></tr><tr><th>2</th><td>Hermann</td><td>Schaumburg</td><td>1545</td><td>1592</td><td>194760</td></tr><tr><th>3</th><td>Adalpero</td><td><em>missing</em></td><td><em>missing</em></td><td>909</td><td>205655</td></tr><tr><th>4</th><td>Albert</td><td>Hiergis</td><td><em>missing</em></td><td>1208</td><td>205839</td></tr><tr><th>5</th><td>Albrecht</td><td>Löwen</td><td>um 1165</td><td>1192</td><td>205846</td></tr><tr><th>6</th><td>Albert</td><td>Cuyk</td><td><em>missing</em></td><td>1200</td><td>205857</td></tr></tbody></table></div>"
      ],
      "text/latex": [
       "\\begin{tabular}{r|ccccc}\n",
       "\t& vorname & familienname & geburtsdatum & sterbedatum & id\\_in\\_source\\\\\n",
       "\t\\hline\n",
       "\t& String? & String? & String? & String? & String\\\\\n",
       "\t\\hline\n",
       "\t1 & Heinrich & Hoya & \\emph{missing} & 1441 & 191241 \\\\\n",
       "\t2 & Hermann & Schaumburg & 1545 & 1592 & 194760 \\\\\n",
       "\t3 & Adalpero & \\emph{missing} & \\emph{missing} & 909 & 205655 \\\\\n",
       "\t4 & Albert & Hiergis & \\emph{missing} & 1208 & 205839 \\\\\n",
       "\t5 & Albrecht & Löwen & um 1165 & 1192 & 205846 \\\\\n",
       "\t6 & Albert & Cuyk & \\emph{missing} & 1200 & 205857 \\\\\n",
       "\\end{tabular}\n"
      ],
      "text/plain": [
       "\u001b[1m6×5 DataFrame\u001b[0m\n",
       "\u001b[1m Row \u001b[0m│\u001b[1m vorname  \u001b[0m\u001b[1m familienname \u001b[0m\u001b[1m geburtsdatum \u001b[0m\u001b[1m sterbedatum \u001b[0m\u001b[1m id_in_source \u001b[0m\n",
       "\u001b[1m     \u001b[0m│\u001b[90m String?  \u001b[0m\u001b[90m String?      \u001b[0m\u001b[90m String?      \u001b[0m\u001b[90m String?     \u001b[0m\u001b[90m String       \u001b[0m\n",
       "─────┼─────────────────────────────────────────────────────────────────\n",
       "   1 │ Heinrich  Hoya         \u001b[90m missing      \u001b[0m 1441         191241\n",
       "   2 │ Hermann   Schaumburg    1545          1592         194760\n",
       "   3 │ Adalpero \u001b[90m missing      \u001b[0m\u001b[90m missing      \u001b[0m 909          205655\n",
       "   4 │ Albert    Hiergis      \u001b[90m missing      \u001b[0m 1208         205839\n",
       "   5 │ Albrecht  Löwen         um 1165       1192         205846\n",
       "   6 │ Albert    Cuyk         \u001b[90m missing      \u001b[0m 1200         205857"
      ]
     },
     "execution_count": 33,
     "metadata": {},
     "output_type": "execute_result"
    }
   ],
   "source": [
    "df_p_gsn[210:215, [:vorname, :familienname, :geburtsdatum, :sterbedatum, :id_in_source]]"
   ]
  },
  {
   "cell_type": "code",
   "execution_count": 38,
   "metadata": {},
   "outputs": [],
   "source": [
    "df_item = select(df_p_gsn, :id_in_source);"
   ]
  },
  {
   "cell_type": "code",
   "execution_count": 39,
   "metadata": {},
   "outputs": [],
   "source": [
    "user_wiag_id = 1; # Georg Hertkorn"
   ]
  },
  {
   "cell_type": "code",
   "execution_count": 40,
   "metadata": {},
   "outputs": [],
   "source": [
    "using Dates"
   ]
  },
  {
   "cell_type": "code",
   "execution_count": 41,
   "metadata": {},
   "outputs": [],
   "source": [
    "insertcols!(\n",
    "    df_item, \n",
    "    1,\n",
    "    :item_type_id => item_type_bishop_gs,\n",
    "    :edit_status => \"importiert\",\n",
    "    :created_by => user_wiag_id,\n",
    "    :date_created => Dates.now(),\n",
    "    :changed_by => user_wiag_id,\n",
    "    :date_changed => Dates.now(),\n",
    "    :id_public => missing,\n",
    "    :is_online => 1\n",
    ");"
   ]
  },
  {
   "cell_type": "code",
   "execution_count": 42,
   "metadata": {},
   "outputs": [
    {
     "data": {
      "text/html": [
       "<p>DataFrameRow (9 columns)</p><div class=\"data-frame\"><table class=\"data-frame\"><thead><tr><th></th><th>item_type_id</th><th>edit_status</th><th>created_by</th><th>date_created</th><th>changed_by</th><th>date_changed</th></tr><tr><th></th><th title=\"Int64\">Int64</th><th title=\"String\">String</th><th title=\"Int64\">Int64</th><th title=\"DateTime\">DateTime</th><th title=\"Int64\">Int64</th><th title=\"DateTime\">DateTime</th></tr></thead><tbody><tr><th>17</th><td>9</td><td>importiert</td><td>1</td><td>2022-06-02T10:41:02.312</td><td>1</td><td>2022-06-02T10:41:02.312</td></tr></tbody></table></div>"
      ],
      "text/latex": [
       "\\begin{tabular}{r|ccccccc}\n",
       "\t& item\\_type\\_id & edit\\_status & created\\_by & date\\_created & changed\\_by & date\\_changed & \\\\\n",
       "\t\\hline\n",
       "\t& Int64 & String & Int64 & DateTime & Int64 & DateTime & \\\\\n",
       "\t\\hline\n",
       "\t17 & 9 & importiert & 1 & 2022-06-02T10:41:02.312 & 1 & 2022-06-02T10:41:02.312 & $\\dots$ \\\\\n",
       "\\end{tabular}\n"
      ],
      "text/plain": [
       "\u001b[1mDataFrameRow\u001b[0m\n",
       "\u001b[1m Row \u001b[0m│\u001b[1m item_type_id \u001b[0m\u001b[1m edit_status \u001b[0m\u001b[1m created_by \u001b[0m\u001b[1m date_created            \u001b[0m\u001b[1m changed\u001b[0m ⋯\n",
       "\u001b[1m     \u001b[0m│\u001b[90m Int64        \u001b[0m\u001b[90m String      \u001b[0m\u001b[90m Int64      \u001b[0m\u001b[90m DateTime                \u001b[0m\u001b[90m Int64  \u001b[0m ⋯\n",
       "─────┼──────────────────────────────────────────────────────────────────────────\n",
       "  17 │            9  importiert            1  2022-06-02T10:41:02.312          ⋯\n",
       "\u001b[36m                                                               5 columns omitted\u001b[0m"
      ]
     },
     "execution_count": 42,
     "metadata": {},
     "output_type": "execute_result"
    }
   ],
   "source": [
    "df_item[17, :]"
   ]
  },
  {
   "cell_type": "code",
   "execution_count": 42,
   "metadata": {},
   "outputs": [
    {
     "data": {
      "text/plain": [
       "9-element Vector{String}:\n",
       " \"item_type_id\"\n",
       " \"edit_status\"\n",
       " \"created_by\"\n",
       " \"date_created\"\n",
       " \"changed_by\"\n",
       " \"date_changed\"\n",
       " \"id_public\"\n",
       " \"is_online\"\n",
       " \"id_in_source\""
      ]
     },
     "execution_count": 42,
     "metadata": {},
     "output_type": "execute_result"
    }
   ],
   "source": [
    "names(df_item)"
   ]
  },
  {
   "cell_type": "markdown",
   "metadata": {},
   "source": [
    "Bestehende Einträge löschen  \n",
    "Die Einträge in `item` sind bei einem Update als letztes zu löschen, da die anderen Tabellen von Tabelle `item` abhängen."
   ]
  },
  {
   "cell_type": "code",
   "execution_count": 43,
   "metadata": {},
   "outputs": [
    {
     "data": {
      "text/plain": [
       "9"
      ]
     },
     "execution_count": 43,
     "metadata": {},
     "output_type": "execute_result"
    }
   ],
   "source": [
    "item_type_bishop_gs"
   ]
  },
  {
   "cell_type": "code",
   "execution_count": 44,
   "metadata": {},
   "outputs": [
    {
     "data": {
      "text/plain": [
       "MySQL.TextCursor{true}(MySQL.Connection(host=\"127.0.0.1\", user=\"georg\", port=\"3306\", db=\"wiag2\"), \"DELETE FROM item WHERE item_type_id = 9\", 0, -1, 0, MySQL.API.MYSQL_RES(Ptr{Nothing} @0x0000000000000000), Symbol[], Type[], Dict{Symbol, Int64}(), 0, 1, false)"
      ]
     },
     "execution_count": 44,
     "metadata": {},
     "output_type": "execute_result"
    }
   ],
   "source": [
    "table_name = \"item\";\n",
    "sql = \"DELETE FROM $(table_name) WHERE item_type_id = $(item_type_bishop_gs)\"\n",
    "DBInterface.execute(Wds.dbwiag, sql)"
   ]
  },
  {
   "cell_type": "code",
   "execution_count": 45,
   "metadata": {},
   "outputs": [
    {
     "name": "stderr",
     "output_type": "stream",
     "text": [
      "┌ Info: Rows inserted: 1431\n",
      "└ @ WiagDataSetup C:\\Users\\georg\\Documents\\projekte\\WiagDataSetup.jl\\src\\WiagDataSetup.jl:1216\n"
     ]
    },
    {
     "data": {
      "text/plain": [
       "1431"
      ]
     },
     "execution_count": 45,
     "metadata": {},
     "output_type": "execute_result"
    }
   ],
   "source": [
    "table_name = \"item\";\n",
    "Wds.filltable!(table_name, df_item, clear_table = false)"
   ]
  },
  {
   "cell_type": "markdown",
   "metadata": {},
   "source": [
    "### Daten eintragen\n",
    "\n",
    "IDs auslesen"
   ]
  },
  {
   "cell_type": "code",
   "execution_count": 46,
   "metadata": {},
   "outputs": [],
   "source": [
    "table_name = \"item\";\n",
    "sql = \"SELECT id, id_in_source, item_type_id FROM $(table_name) where item_type_id = ($item_type_id)\"\n",
    "df_idx = DBInterface.execute(Wds.dbwiag, sql) |> DataFrame;"
   ]
  },
  {
   "cell_type": "code",
   "execution_count": 47,
   "metadata": {},
   "outputs": [
    {
     "data": {
      "text/plain": [
       "(1431, 3)"
      ]
     },
     "execution_count": 47,
     "metadata": {},
     "output_type": "execute_result"
    }
   ],
   "source": [
    "size(df_idx)"
   ]
  },
  {
   "cell_type": "code",
   "execution_count": 48,
   "metadata": {},
   "outputs": [],
   "source": [
    "df_ep_idx = innerjoin(df_idx, df_p_gsn, on = :id_in_source);"
   ]
  },
  {
   "cell_type": "code",
   "execution_count": 49,
   "metadata": {},
   "outputs": [
    {
     "data": {
      "text/plain": [
       "1431"
      ]
     },
     "execution_count": 49,
     "metadata": {},
     "output_type": "execute_result"
    }
   ],
   "source": [
    "size(df_ep_idx, 1)"
   ]
  },
  {
   "cell_type": "markdown",
   "metadata": {},
   "source": [
    "Jahreszahlen ermitteln"
   ]
  },
  {
   "cell_type": "code",
   "execution_count": 50,
   "metadata": {},
   "outputs": [
    {
     "data": {
      "text/plain": [
       "parse_date_birth (generic function with 1 method)"
      ]
     },
     "execution_count": 50,
     "metadata": {},
     "output_type": "execute_result"
    }
   ],
   "source": [
    "parse_date_birth(s) = Wds.parsemaybe(s, :lower)"
   ]
  },
  {
   "cell_type": "code",
   "execution_count": 51,
   "metadata": {},
   "outputs": [
    {
     "data": {
      "text/plain": [
       "parse_date_death (generic function with 1 method)"
      ]
     },
     "execution_count": 51,
     "metadata": {},
     "output_type": "execute_result"
    }
   ],
   "source": [
    "parse_date_death(s) = Wds.parsemaybe(s, :upper)"
   ]
  },
  {
   "cell_type": "code",
   "execution_count": 52,
   "metadata": {},
   "outputs": [],
   "source": [
    "transform!(df_ep_idx, :geburtsdatum => ByRow(parse_date_birth) => :num_date_birth);"
   ]
  },
  {
   "cell_type": "code",
   "execution_count": 53,
   "metadata": {},
   "outputs": [],
   "source": [
    "transform!(df_ep_idx, :sterbedatum => ByRow(parse_date_death) => :num_date_death);"
   ]
  },
  {
   "cell_type": "markdown",
   "metadata": {},
   "source": [
    "Orden zuordnen"
   ]
  },
  {
   "cell_type": "code",
   "execution_count": 54,
   "metadata": {},
   "outputs": [],
   "source": [
    "sql = \"SELECT id as religious_order_id, abbreviation FROM religious_order\";\n",
    "df_rel_order = Wds.sql_df(sql);"
   ]
  },
  {
   "cell_type": "code",
   "execution_count": 55,
   "metadata": {},
   "outputs": [],
   "source": [
    "df_ep_idx = leftjoin(df_ep_idx, df_rel_order, on = :orden => :abbreviation, matchmissing = :notequal);"
   ]
  },
  {
   "cell_type": "code",
   "execution_count": 56,
   "metadata": {},
   "outputs": [
    {
     "data": {
      "text/plain": [
       "a_not_b (generic function with 1 method)"
      ]
     },
     "execution_count": 56,
     "metadata": {},
     "output_type": "execute_result"
    }
   ],
   "source": [
    "a_not_b(a, b) = !ismissing(a) && ismissing(b)"
   ]
  },
  {
   "cell_type": "code",
   "execution_count": 57,
   "metadata": {},
   "outputs": [],
   "source": [
    "df_ep_no_match = subset(df_ep_idx, [:orden, :religious_order_id] => ByRow(a_not_b));"
   ]
  },
  {
   "cell_type": "code",
   "execution_count": 58,
   "metadata": {},
   "outputs": [
    {
     "data": {
      "text/plain": [
       "(1, 27)"
      ]
     },
     "execution_count": 58,
     "metadata": {},
     "output_type": "execute_result"
    }
   ],
   "source": [
    "size(df_ep_no_match)"
   ]
  },
  {
   "cell_type": "code",
   "execution_count": 59,
   "metadata": {},
   "outputs": [
    {
     "data": {
      "text/html": [
       "<div class=\"data-frame\"><p>1 rows × 3 columns</p><table class=\"data-frame\"><thead><tr><th></th><th>id</th><th>id_in_source</th><th>orden</th></tr><tr><th></th><th title=\"Int32\">Int32</th><th title=\"Union{Missing, String}\">String?</th><th title=\"Union{Missing, String}\">String?</th></tr></thead><tbody><tr><th>1</th><td>316872</td><td>84864</td><td>Wilhelmit</td></tr></tbody></table></div>"
      ],
      "text/latex": [
       "\\begin{tabular}{r|ccc}\n",
       "\t& id & id\\_in\\_source & orden\\\\\n",
       "\t\\hline\n",
       "\t& Int32 & String? & String?\\\\\n",
       "\t\\hline\n",
       "\t1 & 316872 & 84864 & Wilhelmit \\\\\n",
       "\\end{tabular}\n"
      ],
      "text/plain": [
       "\u001b[1m1×3 DataFrame\u001b[0m\n",
       "\u001b[1m Row \u001b[0m│\u001b[1m id     \u001b[0m\u001b[1m id_in_source \u001b[0m\u001b[1m orden     \u001b[0m\n",
       "\u001b[1m     \u001b[0m│\u001b[90m Int32  \u001b[0m\u001b[90m String?      \u001b[0m\u001b[90m String?   \u001b[0m\n",
       "─────┼─────────────────────────────────\n",
       "   1 │ 316872  84864         Wilhelmit"
      ]
     },
     "execution_count": 59,
     "metadata": {},
     "output_type": "execute_result"
    }
   ],
   "source": [
    "df_ep_no_match[:, [:id, :id_in_source, :orden]]"
   ]
  },
  {
   "cell_type": "markdown",
   "metadata": {},
   "source": [
    "Der Orden ist nicht in der Liste und es scheint auch keine gängige Abkürzung zu geben."
   ]
  },
  {
   "cell_type": "code",
   "execution_count": 60,
   "metadata": {
    "scrolled": true
   },
   "outputs": [],
   "source": [
    "columns = [\n",
    "    :id => :id,\n",
    "    :item_type_id => :item_type_id,\n",
    "    :namenspraefix => :prefixname,\n",
    "    :vorname => :givenname,\n",
    "    :familienname => :familyname,\n",
    "    :anmerkungen => :comment,\n",
    "    :geburtsdatum => :date_birth,\n",
    "    :sterbedatum => :date_death,\n",
    "    :num_date_birth => :num_date_birth,\n",
    "    :num_date_death => :num_date_death,\n",
    "    :religious_order_id => :religious_order_id,\n",
    "];"
   ]
  },
  {
   "cell_type": "markdown",
   "metadata": {},
   "source": [
    "Einträge löschen (Korrektur/Update)"
   ]
  },
  {
   "cell_type": "code",
   "execution_count": 86,
   "metadata": {},
   "outputs": [
    {
     "data": {
      "text/plain": [
       "MySQL.TextCursor{true}(MySQL.Connection(host=\"127.0.0.1\", user=\"georg\", port=\"3306\", db=\"wiag2\"), \"DELETE FROM person\\nWHERE id IN (SELECT id FROM item WHERE item_type_id = 9)\", 0, -1, 0, MySQL.API.MYSQL_RES(Ptr{Nothing} @0x0000000000000000), Symbol[], Type[], Dict{Symbol, Int64}(), 0, 1, false)"
      ]
     },
     "execution_count": 86,
     "metadata": {},
     "output_type": "execute_result"
    }
   ],
   "source": [
    "table_name = \"person\"\n",
    "sql = \"DELETE FROM $(table_name)\n",
    "WHERE id IN (SELECT id FROM item WHERE item_type_id = $(item_type_bishop_gs))\"\n",
    "DBInterface.execute(Wds.dbwiag, sql)"
   ]
  },
  {
   "cell_type": "code",
   "execution_count": 61,
   "metadata": {},
   "outputs": [
    {
     "name": "stderr",
     "output_type": "stream",
     "text": [
      "┌ Info: Rows inserted: 1431\n",
      "└ @ WiagDataSetup C:\\Users\\georg\\Documents\\projekte\\WiagDataSetup.jl\\src\\WiagDataSetup.jl:1216\n"
     ]
    },
    {
     "data": {
      "text/plain": [
       "1431"
      ]
     },
     "execution_count": 61,
     "metadata": {},
     "output_type": "execute_result"
    }
   ],
   "source": [
    "Wds.filltable!(\"person\", select(df_ep_idx, columns); clear_table=false)"
   ]
  },
  {
   "cell_type": "markdown",
   "metadata": {},
   "source": [
    "### Orden eintragen\n",
    "*2022-01-19* Die (vorläufige) Ordenstabelle basiert auf den Ordensangaben für Bischöfe und auf den Ordensangaben hier."
   ]
  },
  {
   "cell_type": "code",
   "execution_count": 55,
   "metadata": {},
   "outputs": [
    {
     "data": {
      "text/plain": [
       "17-element Vector{Union{Missing, String}}:\n",
       " \"OESA\"\n",
       " \"OP\"\n",
       " missing\n",
       " \"OPraem\"\n",
       " \"OFM\"\n",
       " \"OCist\"\n",
       " \"OSB\"\n",
       " \"Wilhelmit\"\n",
       " \"OCarm\"\n",
       " \"OMel\"\n",
       " \"OCart\"\n",
       " \"OFMConv\"\n",
       " \"OFMCap\"\n",
       " \"OSA\"\n",
       " \"OT\"\n",
       " \"CanA\"\n",
       " \"SJ\""
      ]
     },
     "execution_count": 55,
     "metadata": {},
     "output_type": "execute_result"
    }
   ],
   "source": [
    "unique(df_p_gsn.orden)"
   ]
  },
  {
   "cell_type": "code",
   "execution_count": 177,
   "metadata": {},
   "outputs": [],
   "source": [
    "table_name = \"religious_order\"\n",
    "sql = \"SELECT abbreviation FROM $(table_name)\"\n",
    "df_orders = Wds.sql_df(sql);"
   ]
  },
  {
   "cell_type": "markdown",
   "metadata": {},
   "source": [
    "Eintrag in `item`"
   ]
  },
  {
   "cell_type": "markdown",
   "metadata": {},
   "source": [
    "*2022-02-25* Nur nötig, wenn die Orden neu angelegt werden."
   ]
  },
  {
   "cell_type": "code",
   "execution_count": 141,
   "metadata": {},
   "outputs": [],
   "source": [
    "table_name = \"item\";\n",
    "sql = \"SELECT * FROM $(table_name) LIMIT 0\";\n",
    "df_item = Wds.sql_df(sql);"
   ]
  },
  {
   "cell_type": "code",
   "execution_count": 135,
   "metadata": {},
   "outputs": [],
   "source": [
    "id_next = 22;"
   ]
  },
  {
   "cell_type": "code",
   "execution_count": 136,
   "metadata": {},
   "outputs": [],
   "source": [
    "item_type_order = 7;\n",
    "user_wiag_id = 7; # Georg\n",
    "time_stamp = Dates.format(now(), dateformat\"yyyy-mm-dd HH:MM\");"
   ]
  },
  {
   "cell_type": "code",
   "execution_count": 142,
   "metadata": {},
   "outputs": [],
   "source": [
    "df_item = select(df_item, Not(:id));"
   ]
  },
  {
   "cell_type": "code",
   "execution_count": 156,
   "metadata": {},
   "outputs": [
    {
     "data": {
      "text/plain": [
       "MySQL.TextCursor{true}(MySQL.Connection(host=\"127.0.0.1\", user=\"georg\", port=\"3306\", db=\"wiag2\"), \"INSERT INTO item SET\\n    item_type_id = 7,    \\n    id_in_source = 22,\\n    is_deleted = 0,\\n    is_online = 0,\\n    created_by = 7,\\n    date_created = '2022-01-19 11:11',\\n    changed_by = 7,\\n    date_changed = '2022-01-19 11:11'\", 0, -1, 1, MySQL.API.MYSQL_RES(Ptr{Nothing} @0x0000000000000000), Symbol[], Type[], Dict{Symbol, Int64}(), 0, 1, false)"
      ]
     },
     "execution_count": 156,
     "metadata": {},
     "output_type": "execute_result"
    }
   ],
   "source": [
    "table_name = \"item\"\n",
    "sql = \"INSERT INTO $(table_name) SET\n",
    "    item_type_id = $(item_type_order),    \n",
    "    id_in_source = $(id_next),\n",
    "    is_deleted = 0,\n",
    "    is_online = 0,\n",
    "    created_by = $(user_wiag_id),\n",
    "    date_created = '$(time_stamp)',\n",
    "    changed_by = $(user_wiag_id),\n",
    "    date_changed = '$(time_stamp)'\"\n",
    "DBInterface.execute(Wds.dbwiag, sql)"
   ]
  },
  {
   "cell_type": "markdown",
   "metadata": {},
   "source": [
    "Lies `id_item` für religiöse Orden aus"
   ]
  },
  {
   "cell_type": "code",
   "execution_count": 233,
   "metadata": {},
   "outputs": [
    {
     "ename": "LoadError",
     "evalue": "UndefVarError: id_next not defined",
     "output_type": "error",
     "traceback": [
      "UndefVarError: id_next not defined",
      "",
      "Stacktrace:",
      " [1] top-level scope",
      "   @ In[233]:2",
      " [2] eval",
      "   @ .\\boot.jl:373 [inlined]",
      " [3] include_string(mapexpr::typeof(REPL.softscope), mod::Module, code::String, filename::String)",
      "   @ Base .\\loading.jl:1196"
     ]
    }
   ],
   "source": [
    "table_name = \"item\"\n",
    "sql = \"SELECT id, id_in_source \n",
    "FROM $(table_name) \n",
    "WHERE id_in_source = $(id_next) and item_type_id = $(item_type_order)\"\n",
    "df_idx = Wds.sql_df(sql);"
   ]
  },
  {
   "cell_type": "code",
   "execution_count": 160,
   "metadata": {},
   "outputs": [
    {
     "data": {
      "text/plain": [
       "92259"
      ]
     },
     "execution_count": 160,
     "metadata": {},
     "output_type": "execute_result"
    }
   ],
   "source": [
    "item_id = df_idx[1, :id]"
   ]
  },
  {
   "cell_type": "code",
   "execution_count": 161,
   "metadata": {},
   "outputs": [
    {
     "data": {
      "text/plain": [
       "MySQL.TextCursor{true}(MySQL.Connection(host=\"127.0.0.1\", user=\"georg\", port=\"3306\", db=\"wiag2\"), \"INSERT INTO religious_order SET id = 92259, abbreviation = 'CRVC'\", 0, -1, 1, MySQL.API.MYSQL_RES(Ptr{Nothing} @0x0000000000000000), Symbol[], Type[], Dict{Symbol, Int64}(), 0, 1, false)"
      ]
     },
     "execution_count": 161,
     "metadata": {},
     "output_type": "execute_result"
    }
   ],
   "source": [
    "table_name = \"religious_order\";\n",
    "sql = \"INSERT INTO $(table_name) SET id = $(item_id), abbreviation = 'CRVC'\";\n",
    "DBInterface.execute(Wds.dbwiag, sql)"
   ]
  },
  {
   "cell_type": "markdown",
   "metadata": {},
   "source": [
    "### Literaturverweise eintragen"
   ]
  },
  {
   "cell_type": "markdown",
   "metadata": {},
   "source": [
    "IDs wieder einlesen, falls hier neu gestartet wird."
   ]
  },
  {
   "cell_type": "code",
   "execution_count": 62,
   "metadata": {},
   "outputs": [],
   "source": [
    "table_name = \"item\";\n",
    "sql = \"SELECT id, id_in_source\n",
    "FROM $(table_name)\n",
    "WHERE item_type_id = $(item_type_id)\";\n",
    "df_idx = Wds.sql_df(sql);"
   ]
  },
  {
   "cell_type": "code",
   "execution_count": 63,
   "metadata": {},
   "outputs": [
    {
     "data": {
      "text/plain": [
       "(1431, 1431)"
      ]
     },
     "execution_count": 63,
     "metadata": {},
     "output_type": "execute_result"
    }
   ],
   "source": [
    "size(df_idx, 1), size(df_p_gsn, 1)"
   ]
  },
  {
   "cell_type": "code",
   "execution_count": 64,
   "metadata": {},
   "outputs": [
    {
     "data": {
      "text/html": [
       "<div class=\"data-frame\"><p>5 rows × 2 columns</p><table class=\"data-frame\"><thead><tr><th></th><th>id_person_gso</th><th>vorname</th></tr><tr><th></th><th title=\"Int32\">Int32</th><th title=\"Union{Missing, String}\">String?</th></tr></thead><tbody><tr><th>1</th><td>4918</td><td>Dietrich</td></tr><tr><th>2</th><td>5147</td><td>Gerhard</td></tr><tr><th>3</th><td>5222</td><td>Gottschalk</td></tr><tr><th>4</th><td>5324</td><td>Gumpert</td></tr><tr><th>5</th><td>5382</td><td>Heimo</td></tr></tbody></table></div>"
      ],
      "text/latex": [
       "\\begin{tabular}{r|cc}\n",
       "\t& id\\_person\\_gso & vorname\\\\\n",
       "\t\\hline\n",
       "\t& Int32 & String?\\\\\n",
       "\t\\hline\n",
       "\t1 & 4918 & Dietrich \\\\\n",
       "\t2 & 5147 & Gerhard \\\\\n",
       "\t3 & 5222 & Gottschalk \\\\\n",
       "\t4 & 5324 & Gumpert \\\\\n",
       "\t5 & 5382 & Heimo \\\\\n",
       "\\end{tabular}\n"
      ],
      "text/plain": [
       "\u001b[1m5×2 DataFrame\u001b[0m\n",
       "\u001b[1m Row \u001b[0m│\u001b[1m id_person_gso \u001b[0m\u001b[1m vorname    \u001b[0m\n",
       "\u001b[1m     \u001b[0m│\u001b[90m Int32         \u001b[0m\u001b[90m String?    \u001b[0m\n",
       "─────┼───────────────────────────\n",
       "   1 │          4918  Dietrich\n",
       "   2 │          5147  Gerhard\n",
       "   3 │          5222  Gottschalk\n",
       "   4 │          5324  Gumpert\n",
       "   5 │          5382  Heimo"
      ]
     },
     "execution_count": 64,
     "metadata": {},
     "output_type": "execute_result"
    }
   ],
   "source": [
    "df_p_gsn[1:5, [:id_person_gso, :vorname]]"
   ]
  },
  {
   "cell_type": "code",
   "execution_count": 65,
   "metadata": {},
   "outputs": [],
   "source": [
    "transform!(df_p_gsn, :id_person_gso => ByRow(string) => :id_in_source);"
   ]
  },
  {
   "cell_type": "code",
   "execution_count": 66,
   "metadata": {},
   "outputs": [],
   "source": [
    "df_ep_idx = innerjoin(df_p_gsn, df_idx, on = :id_in_source);"
   ]
  },
  {
   "cell_type": "code",
   "execution_count": 67,
   "metadata": {},
   "outputs": [
    {
     "data": {
      "text/plain": [
       "1431"
      ]
     },
     "execution_count": 67,
     "metadata": {},
     "output_type": "execute_result"
    }
   ],
   "source": [
    "size(df_ep_idx, 1)"
   ]
  },
  {
   "cell_type": "code",
   "execution_count": 68,
   "metadata": {},
   "outputs": [],
   "source": [
    "table_name = gs_db * \".locations\";\n",
    "sql = \"SELECT item_id as item_id_gs, seiten, book_id  FROM $(table_name) \" * \n",
    "\"WHERE item_status = 'online' AND NOT deleted \" *\n",
    "\"GROUP BY item_id, book_id, seiten\"\n",
    "df_p_ref = Wds.sql_df(sql);"
   ]
  },
  {
   "cell_type": "markdown",
   "metadata": {},
   "source": [
    "Verbinde die Literaturangaben mit den relevanten Bischöfen"
   ]
  },
  {
   "cell_type": "code",
   "execution_count": 69,
   "metadata": {},
   "outputs": [
    {
     "data": {
      "text/plain": [
       "2-element Vector{Pair{Symbol, Symbol}}:\n",
       "      :id => :item_id\n",
       " :item_id => :item_id_gs"
      ]
     },
     "execution_count": 69,
     "metadata": {},
     "output_type": "execute_result"
    }
   ],
   "source": [
    "columns = [:id => :item_id, :item_id => :item_id_gs]"
   ]
  },
  {
   "cell_type": "code",
   "execution_count": 70,
   "metadata": {},
   "outputs": [],
   "source": [
    "df_p_ref = innerjoin(df_p_ref, select(df_ep_idx, columns), on = :item_id_gs);"
   ]
  },
  {
   "cell_type": "code",
   "execution_count": 71,
   "metadata": {},
   "outputs": [
    {
     "data": {
      "text/plain": [
       "(4072, 4)"
      ]
     },
     "execution_count": 71,
     "metadata": {},
     "output_type": "execute_result"
    }
   ],
   "source": [
    "size(df_p_ref)"
   ]
  },
  {
   "cell_type": "markdown",
   "metadata": {},
   "source": [
    "Übernimm für Bischöfe mit Kurzbiographie nur Literaturhinweise mit Kurzbiographien (`transfer_gso.sql`: 2021-04-26) Es ist freilich möglich, dass es mehrere Literaturverweise gibt, die eine Kurzbiographie enthalten."
   ]
  },
  {
   "cell_type": "code",
   "execution_count": 72,
   "metadata": {},
   "outputs": [],
   "source": [
    "is_bio(seiten) = contains(seiten, \"<b>\");"
   ]
  },
  {
   "cell_type": "code",
   "execution_count": 73,
   "metadata": {},
   "outputs": [],
   "source": [
    "df_p_ref_bio = subset(df_p_ref, :seiten =>ByRow(is_bio));"
   ]
  },
  {
   "cell_type": "code",
   "execution_count": 74,
   "metadata": {},
   "outputs": [
    {
     "data": {
      "text/plain": [
       "(390, 4)"
      ]
     },
     "execution_count": 74,
     "metadata": {},
     "output_type": "execute_result"
    }
   ],
   "source": [
    "size(df_p_ref_bio)"
   ]
  },
  {
   "cell_type": "markdown",
   "metadata": {},
   "source": [
    "Bilde die Differenzmenge in Bezug auf Domherren, nicht in Bezug auf Literaturverweise"
   ]
  },
  {
   "cell_type": "code",
   "execution_count": 75,
   "metadata": {},
   "outputs": [
    {
     "data": {
      "text/plain": [
       "is_item_bio (generic function with 1 method)"
      ]
     },
     "execution_count": 75,
     "metadata": {},
     "output_type": "execute_result"
    }
   ],
   "source": [
    "is_item_bio(item_id) = item_id in unique(df_p_ref_bio.item_id)"
   ]
  },
  {
   "cell_type": "code",
   "execution_count": 76,
   "metadata": {},
   "outputs": [],
   "source": [
    "df_p_ref_mg_bio = subset(df_p_ref, :item_id => ByRow(!is_item_bio));"
   ]
  },
  {
   "cell_type": "markdown",
   "metadata": {},
   "source": [
    "Einträge löschen für Korrekturen oder ein Update"
   ]
  },
  {
   "cell_type": "code",
   "execution_count": 77,
   "metadata": {},
   "outputs": [
    {
     "data": {
      "text/plain": [
       "9"
      ]
     },
     "execution_count": 77,
     "metadata": {},
     "output_type": "execute_result"
    }
   ],
   "source": [
    "item_type_bishop_gs"
   ]
  },
  {
   "cell_type": "code",
   "execution_count": 78,
   "metadata": {},
   "outputs": [
    {
     "data": {
      "text/plain": [
       "MySQL.TextCursor{true}(MySQL.Connection(host=\"127.0.0.1\", user=\"georg\", port=\"3306\", db=\"wiag2\"), \"DELETE FROM item_reference WHERE item_type_id = 9\", 0, -1, 0, MySQL.API.MYSQL_RES(Ptr{Nothing} @0x0000000000000000), Symbol[], Type[], Dict{Symbol, Int64}(), 0, 1, false)"
      ]
     },
     "execution_count": 78,
     "metadata": {},
     "output_type": "execute_result"
    }
   ],
   "source": [
    "table_name = \"item_reference\";\n",
    "sql = \"DELETE FROM $(table_name) WHERE item_type_id = $(item_type_bishop_gs)\";\n",
    "DBInterface.execute(Wds.dbwiag, sql)"
   ]
  },
  {
   "cell_type": "code",
   "execution_count": 79,
   "metadata": {},
   "outputs": [],
   "source": [
    "insertcols!(df_p_ref_bio, 1, :item_type_id => item_type_bishop_gs);"
   ]
  },
  {
   "cell_type": "code",
   "execution_count": 80,
   "metadata": {},
   "outputs": [],
   "source": [
    "insertcols!(df_p_ref_mg_bio, 1, :item_type_id => item_type_bishop_gs);"
   ]
  },
  {
   "cell_type": "code",
   "execution_count": 81,
   "metadata": {},
   "outputs": [
    {
     "data": {
      "text/plain": [
       "4-element Vector{Pair{Symbol, Symbol}}:\n",
       "      :item_id => :item_id\n",
       "       :seiten => :page\n",
       " :item_type_id => :item_type_id\n",
       "      :book_id => :reference_id"
      ]
     },
     "execution_count": 81,
     "metadata": {},
     "output_type": "execute_result"
    }
   ],
   "source": [
    "columns = [\n",
    "    :item_id => :item_id,\n",
    "    :seiten => :page,\n",
    "    :item_type_id => :item_type_id,\n",
    "    :book_id => :reference_id,\n",
    "]"
   ]
  },
  {
   "cell_type": "code",
   "execution_count": 82,
   "metadata": {},
   "outputs": [
    {
     "name": "stderr",
     "output_type": "stream",
     "text": [
      "┌ Info: Rows inserted: 390\n",
      "└ @ WiagDataSetup C:\\Users\\georg\\Documents\\projekte\\WiagDataSetup.jl\\src\\WiagDataSetup.jl:1216\n"
     ]
    },
    {
     "data": {
      "text/plain": [
       "390"
      ]
     },
     "execution_count": 82,
     "metadata": {},
     "output_type": "execute_result"
    }
   ],
   "source": [
    "table_name = \"item_reference\"\n",
    "Wds.filltable!(table_name, select(df_p_ref_bio, columns))"
   ]
  },
  {
   "cell_type": "code",
   "execution_count": 110,
   "metadata": {},
   "outputs": [
    {
     "data": {
      "text/html": [
       "<div class=\"data-frame\"><p>4 rows × 5 columns</p><table class=\"data-frame\"><thead><tr><th></th><th>item_type_id</th><th>item_id_gs</th><th>seiten</th><th>book_id</th><th>item_id</th></tr><tr><th></th><th title=\"Int64\">Int64</th><th title=\"Int32\">Int32</th><th title=\"String\">String</th><th title=\"Int32\">Int32</th><th title=\"Int32\">Int32</th></tr></thead><tbody><tr><th>1</th><td>9</td><td>147376</td><td>&lt;b&gt;267f.&lt;/b&gt;</td><td>37</td><td>311030</td></tr><tr><th>2</th><td>9</td><td>176247</td><td>127, 385, &lt;b&gt;395f.&lt;/b&gt;, 416, 435</td><td>44</td><td>311053</td></tr><tr><th>3</th><td>9</td><td>179540</td><td>872, &lt;b&gt;1013&lt;/b&gt;</td><td>46</td><td>311048</td></tr><tr><th>4</th><td>9</td><td>180189</td><td>464, &lt;b&gt;1018–1019&lt;/b&gt;</td><td>46</td><td>311046</td></tr></tbody></table></div>"
      ],
      "text/latex": [
       "\\begin{tabular}{r|ccccc}\n",
       "\t& item\\_type\\_id & item\\_id\\_gs & seiten & book\\_id & item\\_id\\\\\n",
       "\t\\hline\n",
       "\t& Int64 & Int32 & String & Int32 & Int32\\\\\n",
       "\t\\hline\n",
       "\t1 & 9 & 147376 & <b>267f.</b> & 37 & 311030 \\\\\n",
       "\t2 & 9 & 176247 & 127, 385, <b>395f.</b>, 416, 435 & 44 & 311053 \\\\\n",
       "\t3 & 9 & 179540 & 872, <b>1013</b> & 46 & 311048 \\\\\n",
       "\t4 & 9 & 180189 & 464, <b>1018–1019</b> & 46 & 311046 \\\\\n",
       "\\end{tabular}\n"
      ],
      "text/plain": [
       "\u001b[1m4×5 DataFrame\u001b[0m\n",
       "\u001b[1m Row \u001b[0m│\u001b[1m item_type_id \u001b[0m\u001b[1m item_id_gs \u001b[0m\u001b[1m seiten                           \u001b[0m\u001b[1m book_id \u001b[0m\u001b[1m it\u001b[0m ⋯\n",
       "\u001b[1m     \u001b[0m│\u001b[90m Int64        \u001b[0m\u001b[90m Int32      \u001b[0m\u001b[90m String                           \u001b[0m\u001b[90m Int32   \u001b[0m\u001b[90m In\u001b[0m ⋯\n",
       "─────┼──────────────────────────────────────────────────────────────────────────\n",
       "   1 │            9      147376  <b>267f.</b>                           37   3 ⋯\n",
       "   2 │            9      176247  127, 385, <b>395f.</b>, 416, 435       44   3\n",
       "   3 │            9      179540  872, <b>1013</b>                       46   3\n",
       "   4 │            9      180189  464, <b>1018–1019</b>                  46   3\n",
       "\u001b[36m                                                                1 column omitted\u001b[0m"
      ]
     },
     "execution_count": 110,
     "metadata": {},
     "output_type": "execute_result"
    }
   ],
   "source": [
    "df_p_ref_bio[19:22, :]"
   ]
  },
  {
   "cell_type": "markdown",
   "metadata": {},
   "source": [
    "*2022-02-25* Es werden nur noch Literaturangaben mit Kurzbiographie berücksichtigt."
   ]
  },
  {
   "cell_type": "code",
   "execution_count": null,
   "metadata": {},
   "outputs": [],
   "source": [
    "len_page = length.(df_p_ref)"
   ]
  },
  {
   "cell_type": "code",
   "execution_count": 114,
   "metadata": {},
   "outputs": [
    {
     "name": "stderr",
     "output_type": "stream",
     "text": [
      "┌ Info: Rows inserted: 390\n",
      "└ @ WiagDataSetup C:\\Users\\georg\\Documents\\projekte\\WiagDataSetup.jl\\src\\WiagDataSetup.jl:1209\n"
     ]
    },
    {
     "data": {
      "text/plain": [
       "390"
      ]
     },
     "execution_count": 114,
     "metadata": {},
     "output_type": "execute_result"
    }
   ],
   "source": [
    "table_name = \"item_reference\"\n",
    "Wds.filltable!(table_name, select(df_p_ref_bio, columns))"
   ]
  },
  {
   "cell_type": "markdown",
   "metadata": {},
   "source": [
    "### Externe URLs eintragen"
   ]
  },
  {
   "cell_type": "code",
   "execution_count": 94,
   "metadata": {},
   "outputs": [],
   "source": [
    "using MySQL, DataFrames"
   ]
  },
  {
   "cell_type": "code",
   "execution_count": 95,
   "metadata": {},
   "outputs": [
    {
     "name": "stdout",
     "output_type": "stream",
     "text": [
      "Passwort für User georg: ········\n"
     ]
    },
    {
     "data": {
      "text/plain": [
       "MySQL.Connection(host=\"127.0.0.1\", user=\"georg\", port=\"3306\", db=\"wiag2\")"
      ]
     },
     "execution_count": 95,
     "metadata": {},
     "output_type": "execute_result"
    }
   ],
   "source": [
    "Wds.setDBWIAG(user = \"georg\", db = \"wiag2\")"
   ]
  },
  {
   "cell_type": "code",
   "execution_count": 115,
   "metadata": {},
   "outputs": [
    {
     "data": {
      "text/plain": [
       "9"
      ]
     },
     "execution_count": 115,
     "metadata": {},
     "output_type": "execute_result"
    }
   ],
   "source": [
    "item_type_bishop_gs"
   ]
  },
  {
   "cell_type": "markdown",
   "metadata": {},
   "source": [
    "Einträge löschen (für den Fall eines Fehlers oder für ein Update)"
   ]
  },
  {
   "cell_type": "code",
   "execution_count": 83,
   "metadata": {},
   "outputs": [
    {
     "data": {
      "text/plain": [
       "MySQL.TextCursor{true}(MySQL.Connection(host=\"127.0.0.1\", user=\"georg\", port=\"3306\", db=\"wiag2\"), \"DELETE FROM id_external WHERE item_id IN (SELECT id FROM item WHERE item_type_id = 9)\", 0, -1, 0, MySQL.API.MYSQL_RES(Ptr{Nothing} @0x0000000000000000), Symbol[], Type[], Dict{Symbol, Int64}(), 0, 1, false)"
      ]
     },
     "execution_count": 83,
     "metadata": {},
     "output_type": "execute_result"
    }
   ],
   "source": [
    "sql = \"DELETE FROM id_external \" *\n",
    "\"WHERE item_id IN (SELECT id FROM item WHERE item_type_id = $(item_type_bishop_gs))\"\n",
    "DBInterface.execute(Wds.dbwiag, sql)"
   ]
  },
  {
   "cell_type": "code",
   "execution_count": 84,
   "metadata": {},
   "outputs": [
    {
     "data": {
      "text/html": [
       "<div class=\"data-frame\"><p>6 rows × 2 columns</p><table class=\"data-frame\"><thead><tr><th></th><th>id</th><th>url_name_formatter</th></tr><tr><th></th><th title=\"Int32\">Int32</th><th title=\"Union{Missing, String}\">String?</th></tr></thead><tbody><tr><th>1</th><td>1</td><td>Gemeinsame Normdatei (GND) ID</td></tr><tr><th>2</th><td>2</td><td>Wikidata</td></tr><tr><th>3</th><td>3</td><td>Wikipedia-Artikel</td></tr><tr><th>4</th><td>4</td><td>VIAF-ID</td></tr><tr><th>5</th><td>5</td><td>WIAG-ID</td></tr><tr><th>6</th><td>200</td><td>Personendatenbank der Germania Sacra</td></tr></tbody></table></div>"
      ],
      "text/latex": [
       "\\begin{tabular}{r|cc}\n",
       "\t& id & url\\_name\\_formatter\\\\\n",
       "\t\\hline\n",
       "\t& Int32 & String?\\\\\n",
       "\t\\hline\n",
       "\t1 & 1 & Gemeinsame Normdatei (GND) ID \\\\\n",
       "\t2 & 2 & Wikidata \\\\\n",
       "\t3 & 3 & Wikipedia-Artikel \\\\\n",
       "\t4 & 4 & VIAF-ID \\\\\n",
       "\t5 & 5 & WIAG-ID \\\\\n",
       "\t6 & 200 & Personendatenbank der Germania Sacra \\\\\n",
       "\\end{tabular}\n"
      ],
      "text/plain": [
       "\u001b[1m6×2 DataFrame\u001b[0m\n",
       "\u001b[1m Row \u001b[0m│\u001b[1m id    \u001b[0m\u001b[1m url_name_formatter                \u001b[0m\n",
       "\u001b[1m     \u001b[0m│\u001b[90m Int32 \u001b[0m\u001b[90m String?                           \u001b[0m\n",
       "─────┼──────────────────────────────────────────\n",
       "   1 │     1  Gemeinsame Normdatei (GND) ID\n",
       "   2 │     2  Wikidata\n",
       "   3 │     3  Wikipedia-Artikel\n",
       "   4 │     4  VIAF-ID\n",
       "   5 │     5  WIAG-ID\n",
       "   6 │   200  Personendatenbank der Germania S…"
      ]
     },
     "execution_count": 84,
     "metadata": {},
     "output_type": "execute_result"
    }
   ],
   "source": [
    "sql = \"SELECT id, url_name_formatter FROM authority \" *\n",
    "\"WHERE id IN (1, 2, 3, 4, 5, 200)\"\n",
    "Wds.sql_df(sql)"
   ]
  },
  {
   "cell_type": "code",
   "execution_count": 206,
   "metadata": {},
   "outputs": [
    {
     "data": {
      "text/html": [
       "<div class=\"data-frame\"><p>8 rows × 6 columns</p><table class=\"data-frame\"><thead><tr><th></th><th>id</th><th>id_in_source</th><th>vorname</th><th>familienname</th><th>gsn_id</th><th>gsn</th></tr><tr><th></th><th title=\"Int32\">Int32</th><th title=\"String\">String</th><th title=\"Union{Missing, String}\">String?</th><th title=\"Union{Missing, String}\">String?</th><th title=\"Int32\">Int32</th><th title=\"Union{Missing, String}\">String?</th></tr></thead><tbody><tr><th>1</th><td>165766</td><td>214434</td><td>Balthasar</td><td>Fannemann</td><td>126888</td><td>051-00659-001</td></tr><tr><th>2</th><td>165767</td><td>231887</td><td>Hatto</td><td><em>missing</em></td><td>134353</td><td>056-00663-001</td></tr><tr><th>3</th><td>165768</td><td>231884</td><td>Hartpert</td><td><em>missing</em></td><td>134350</td><td>056-00660-001</td></tr><tr><th>4</th><td>165769</td><td>231877</td><td>Hartmann I.</td><td><em>missing</em></td><td>134343</td><td>056-00653-001</td></tr><tr><th>5</th><td>165770</td><td>231870</td><td>Haito</td><td><em>missing</em></td><td>134336</td><td>056-00646-001</td></tr><tr><th>6</th><td>165771</td><td>231788</td><td>Gebhard I.</td><td><em>missing</em></td><td>134254</td><td>056-00564-001</td></tr><tr><th>7</th><td>165772</td><td>231785</td><td>Gebhard I.</td><td><em>missing</em></td><td>134251</td><td>056-00561-001</td></tr><tr><th>8</th><td>165773</td><td>231782</td><td>Gaudentius</td><td><em>missing</em></td><td>134248</td><td>056-00558-001</td></tr></tbody></table></div>"
      ],
      "text/latex": [
       "\\begin{tabular}{r|cccccc}\n",
       "\t& id & id\\_in\\_source & vorname & familienname & gsn\\_id & gsn\\\\\n",
       "\t\\hline\n",
       "\t& Int32 & String & String? & String? & Int32 & String?\\\\\n",
       "\t\\hline\n",
       "\t1 & 165766 & 214434 & Balthasar & Fannemann & 126888 & 051-00659-001 \\\\\n",
       "\t2 & 165767 & 231887 & Hatto & \\emph{missing} & 134353 & 056-00663-001 \\\\\n",
       "\t3 & 165768 & 231884 & Hartpert & \\emph{missing} & 134350 & 056-00660-001 \\\\\n",
       "\t4 & 165769 & 231877 & Hartmann I. & \\emph{missing} & 134343 & 056-00653-001 \\\\\n",
       "\t5 & 165770 & 231870 & Haito & \\emph{missing} & 134336 & 056-00646-001 \\\\\n",
       "\t6 & 165771 & 231788 & Gebhard I. & \\emph{missing} & 134254 & 056-00564-001 \\\\\n",
       "\t7 & 165772 & 231785 & Gebhard I. & \\emph{missing} & 134251 & 056-00561-001 \\\\\n",
       "\t8 & 165773 & 231782 & Gaudentius & \\emph{missing} & 134248 & 056-00558-001 \\\\\n",
       "\\end{tabular}\n"
      ],
      "text/plain": [
       "\u001b[1m8×6 DataFrame\u001b[0m\n",
       "\u001b[1m Row \u001b[0m│\u001b[1m id     \u001b[0m\u001b[1m id_in_source \u001b[0m\u001b[1m vorname     \u001b[0m\u001b[1m familienname \u001b[0m\u001b[1m gsn_id \u001b[0m\u001b[1m gsn           \u001b[0m\n",
       "\u001b[1m     \u001b[0m│\u001b[90m Int32  \u001b[0m\u001b[90m String       \u001b[0m\u001b[90m String?     \u001b[0m\u001b[90m String?      \u001b[0m\u001b[90m Int32  \u001b[0m\u001b[90m String?       \u001b[0m\n",
       "─────┼────────────────────────────────────────────────────────────────────────\n",
       "   1 │ 165766  214434        Balthasar    Fannemann     126888  051-00659-001\n",
       "   2 │ 165767  231887        Hatto       \u001b[90m missing      \u001b[0m 134353  056-00663-001\n",
       "   3 │ 165768  231884        Hartpert    \u001b[90m missing      \u001b[0m 134350  056-00660-001\n",
       "   4 │ 165769  231877        Hartmann I. \u001b[90m missing      \u001b[0m 134343  056-00653-001\n",
       "   5 │ 165770  231870        Haito       \u001b[90m missing      \u001b[0m 134336  056-00646-001\n",
       "   6 │ 165771  231788        Gebhard I.  \u001b[90m missing      \u001b[0m 134254  056-00564-001\n",
       "   7 │ 165772  231785        Gebhard I.  \u001b[90m missing      \u001b[0m 134251  056-00561-001\n",
       "   8 │ 165773  231782        Gaudentius  \u001b[90m missing      \u001b[0m 134248  056-00558-001"
      ]
     },
     "execution_count": 206,
     "metadata": {},
     "output_type": "execute_result"
    }
   ],
   "source": [
    "df_ep_idx[300:307, [:id, :id_in_source, :vorname, :familienname, :gsn_id, :gsn]]"
   ]
  },
  {
   "cell_type": "markdown",
   "metadata": {},
   "source": [
    "**VIAF**, dann GND, GSN"
   ]
  },
  {
   "cell_type": "code",
   "execution_count": 85,
   "metadata": {},
   "outputs": [
    {
     "data": {
      "text/plain": [
       "4"
      ]
     },
     "execution_count": 85,
     "metadata": {},
     "output_type": "execute_result"
    }
   ],
   "source": [
    "authority_id = 4 # siehe oben"
   ]
  },
  {
   "cell_type": "code",
   "execution_count": 86,
   "metadata": {},
   "outputs": [],
   "source": [
    "col = :viaf;\n",
    "df_p_auth = dropmissing(df_ep_idx, col);\n",
    "insertcols!(df_p_auth, 1, :authority_id => authority_id);\n",
    "transform!(df_p_auth, col => :value);"
   ]
  },
  {
   "cell_type": "code",
   "execution_count": 87,
   "metadata": {},
   "outputs": [
    {
     "data": {
      "text/plain": [
       "(3, 25)"
      ]
     },
     "execution_count": 87,
     "metadata": {},
     "output_type": "execute_result"
    }
   ],
   "source": [
    "size(df_p_auth)"
   ]
  },
  {
   "cell_type": "code",
   "execution_count": 88,
   "metadata": {},
   "outputs": [
    {
     "data": {
      "text/html": [
       "<div class=\"data-frame\"><p>3 rows × 25 columns (omitted printing of 19 columns)</p><table class=\"data-frame\"><thead><tr><th></th><th>authority_id</th><th>id_person_gso</th><th>item_id</th><th>namenspraefix</th><th>vorname</th><th>familienname</th></tr><tr><th></th><th title=\"Int64\">Int64</th><th title=\"Int32\">Int32</th><th title=\"Int32\">Int32</th><th title=\"Union{Missing, String}\">String?</th><th title=\"Union{Missing, String}\">String?</th><th title=\"Union{Missing, String}\">String?</th></tr></thead><tbody><tr><th>1</th><td>4</td><td>283124</td><td>283111</td><td>von</td><td>Bruno</td><td>Isenberg</td></tr><tr><th>2</th><td>4</td><td>325009</td><td>330999</td><td><em>missing</em></td><td>Johann Andreas</td><td>Seelmann</td></tr><tr><th>3</th><td>4</td><td>324288</td><td>330086</td><td>von</td><td>Joseph Franz Anton</td><td>Auersperg</td></tr></tbody></table></div>"
      ],
      "text/latex": [
       "\\begin{tabular}{r|ccccccc}\n",
       "\t& authority\\_id & id\\_person\\_gso & item\\_id & namenspraefix & vorname & familienname & \\\\\n",
       "\t\\hline\n",
       "\t& Int64 & Int32 & Int32 & String? & String? & String? & \\\\\n",
       "\t\\hline\n",
       "\t1 & 4 & 283124 & 283111 & von & Bruno & Isenberg & $\\dots$ \\\\\n",
       "\t2 & 4 & 325009 & 330999 & \\emph{missing} & Johann Andreas & Seelmann & $\\dots$ \\\\\n",
       "\t3 & 4 & 324288 & 330086 & von & Joseph Franz Anton & Auersperg & $\\dots$ \\\\\n",
       "\\end{tabular}\n"
      ],
      "text/plain": [
       "\u001b[1m3×25 DataFrame\u001b[0m\n",
       "\u001b[1m Row \u001b[0m│\u001b[1m authority_id \u001b[0m\u001b[1m id_person_gso \u001b[0m\u001b[1m item_id \u001b[0m\u001b[1m namenspraefix \u001b[0m\u001b[1m vorname           \u001b[0m ⋯\n",
       "\u001b[1m     \u001b[0m│\u001b[90m Int64        \u001b[0m\u001b[90m Int32         \u001b[0m\u001b[90m Int32   \u001b[0m\u001b[90m String?       \u001b[0m\u001b[90m String?           \u001b[0m ⋯\n",
       "─────┼──────────────────────────────────────────────────────────────────────────\n",
       "   1 │            4         283124   283111  von            Bruno              ⋯\n",
       "   2 │            4         325009   330999 \u001b[90m missing       \u001b[0m Johann Andreas\n",
       "   3 │            4         324288   330086  von            Joseph Franz Anton\n",
       "\u001b[36m                                                              20 columns omitted\u001b[0m"
      ]
     },
     "execution_count": 88,
     "metadata": {},
     "output_type": "execute_result"
    }
   ],
   "source": [
    "df_p_auth"
   ]
  },
  {
   "cell_type": "code",
   "execution_count": 89,
   "metadata": {},
   "outputs": [
    {
     "data": {
      "text/plain": [
       "3-element Vector{Pair{Symbol, Symbol}}:\n",
       "           :id => :item_id\n",
       " :authority_id => :authority_id\n",
       "        :value => :value"
      ]
     },
     "execution_count": 89,
     "metadata": {},
     "output_type": "execute_result"
    }
   ],
   "source": [
    "columns = [\n",
    "    :id => :item_id,\n",
    "    :authority_id => :authority_id,\n",
    "    :value => :value,\n",
    "]"
   ]
  },
  {
   "cell_type": "code",
   "execution_count": 90,
   "metadata": {},
   "outputs": [
    {
     "name": "stderr",
     "output_type": "stream",
     "text": [
      "┌ Info: Rows inserted: 3\n",
      "└ @ WiagDataSetup C:\\Users\\georg\\Documents\\projekte\\WiagDataSetup.jl\\src\\WiagDataSetup.jl:1216\n"
     ]
    },
    {
     "data": {
      "text/plain": [
       "3"
      ]
     },
     "execution_count": 90,
     "metadata": {},
     "output_type": "execute_result"
    }
   ],
   "source": [
    "table_name = \"id_external\"\n",
    "Wds.filltable!(\"id_external\", select(df_p_auth, columns))"
   ]
  },
  {
   "cell_type": "markdown",
   "metadata": {},
   "source": [
    "**GND**"
   ]
  },
  {
   "cell_type": "code",
   "execution_count": 91,
   "metadata": {},
   "outputs": [
    {
     "data": {
      "text/plain": [
       "1"
      ]
     },
     "execution_count": 91,
     "metadata": {},
     "output_type": "execute_result"
    }
   ],
   "source": [
    "authority_id = 1 # siehe oben"
   ]
  },
  {
   "cell_type": "code",
   "execution_count": 92,
   "metadata": {},
   "outputs": [],
   "source": [
    "col = :gndnummer\n",
    "df_p_auth = dropmissing(df_ep_idx, col);\n",
    "insertcols!(df_p_auth, 1, :authority_id => authority_id);\n",
    "transform!(df_p_auth, col => :value);"
   ]
  },
  {
   "cell_type": "code",
   "execution_count": 93,
   "metadata": {},
   "outputs": [
    {
     "data": {
      "text/plain": [
       "(1069, 25)"
      ]
     },
     "execution_count": 93,
     "metadata": {},
     "output_type": "execute_result"
    }
   ],
   "source": [
    "size(df_p_auth)"
   ]
  },
  {
   "cell_type": "code",
   "execution_count": 94,
   "metadata": {},
   "outputs": [
    {
     "name": "stderr",
     "output_type": "stream",
     "text": [
      "┌ Info: Rows inserted: 1069\n",
      "└ @ WiagDataSetup C:\\Users\\georg\\Documents\\projekte\\WiagDataSetup.jl\\src\\WiagDataSetup.jl:1216\n"
     ]
    },
    {
     "data": {
      "text/plain": [
       "1069"
      ]
     },
     "execution_count": 94,
     "metadata": {},
     "output_type": "execute_result"
    }
   ],
   "source": [
    "table_name = \"id_external\"\n",
    "Wds.filltable!(\"id_external\", select(df_p_auth, columns))"
   ]
  },
  {
   "cell_type": "markdown",
   "metadata": {},
   "source": [
    "**GSN**"
   ]
  },
  {
   "cell_type": "code",
   "execution_count": 95,
   "metadata": {},
   "outputs": [
    {
     "data": {
      "text/plain": [
       "200"
      ]
     },
     "execution_count": 95,
     "metadata": {},
     "output_type": "execute_result"
    }
   ],
   "source": [
    "authority_id = 200 # siehe oben"
   ]
  },
  {
   "cell_type": "code",
   "execution_count": 96,
   "metadata": {},
   "outputs": [],
   "source": [
    "col = :gsn\n",
    "df_p_auth = dropmissing(df_ep_idx, col);\n",
    "insertcols!(df_p_auth, 1, :authority_id => authority_id);\n",
    "transform!(df_p_auth, col => :value);"
   ]
  },
  {
   "cell_type": "code",
   "execution_count": 97,
   "metadata": {},
   "outputs": [
    {
     "name": "stderr",
     "output_type": "stream",
     "text": [
      "┌ Info: Rows inserted: 1431\n",
      "└ @ WiagDataSetup C:\\Users\\georg\\Documents\\projekte\\WiagDataSetup.jl\\src\\WiagDataSetup.jl:1216\n"
     ]
    },
    {
     "data": {
      "text/plain": [
       "1431"
      ]
     },
     "execution_count": 97,
     "metadata": {},
     "output_type": "execute_result"
    }
   ],
   "source": [
    "table_name = \"id_external\"\n",
    "Wds.filltable!(\"id_external\", select(df_p_auth, columns))"
   ]
  },
  {
   "cell_type": "markdown",
   "metadata": {},
   "source": [
    "### Namensvarianten eintragen"
   ]
  },
  {
   "cell_type": "code",
   "execution_count": 131,
   "metadata": {},
   "outputs": [],
   "source": [
    "using MySQL, DataFrames"
   ]
  },
  {
   "cell_type": "code",
   "execution_count": 98,
   "metadata": {},
   "outputs": [],
   "source": [
    "col = :familiennamenvarianten;\n",
    "df_fnv = dropmissing(df_ep_idx, col);"
   ]
  },
  {
   "cell_type": "code",
   "execution_count": 99,
   "metadata": {},
   "outputs": [
    {
     "data": {
      "text/plain": [
       "(238, 23)"
      ]
     },
     "execution_count": 99,
     "metadata": {},
     "output_type": "execute_result"
    }
   ],
   "source": [
    "size(df_fnv)"
   ]
  },
  {
   "cell_type": "code",
   "execution_count": 100,
   "metadata": {},
   "outputs": [],
   "source": [
    "df_exp = Wds.expand_column(df_fnv, col, delim = \",\");"
   ]
  },
  {
   "cell_type": "code",
   "execution_count": 101,
   "metadata": {},
   "outputs": [
    {
     "data": {
      "text/plain": [
       "(301, 23)"
      ]
     },
     "execution_count": 101,
     "metadata": {},
     "output_type": "execute_result"
    }
   ],
   "source": [
    "size(df_exp)"
   ]
  },
  {
   "cell_type": "code",
   "execution_count": 102,
   "metadata": {
    "scrolled": true
   },
   "outputs": [
    {
     "data": {
      "text/html": [
       "<div class=\"data-frame\"><p>8 rows × 3 columns</p><table class=\"data-frame\"><thead><tr><th></th><th>vorname</th><th>familienname</th><th>familiennamenvarianten</th></tr><tr><th></th><th title=\"Union{Missing, String}\">String?</th><th title=\"Union{Missing, String}\">String?</th><th title=\"String\">String</th></tr></thead><tbody><tr><th>1</th><td>Johannes</td><td>Goldener</td><td>Rupp</td></tr><tr><th>2</th><td>Konrad I.</td><td>Abenberg</td><td>Abensberg</td></tr><tr><th>3</th><td>Jakob</td><td>Feucht</td><td>Feuchtius</td></tr><tr><th>4</th><td>Nikolaus</td><td>Platow</td><td>Plate</td></tr><tr><th>5</th><td>Adolf</td><td>Schaumburg</td><td>Holstein-Schaumburg; Schauenburg</td></tr><tr><th>6</th><td>Marquard</td><td>Hattstein</td><td>Hattenstein</td></tr><tr><th>7</th><td>Johannes Markus</td><td>Aldringen</td><td>Altringen</td></tr><tr><th>8</th><td>Maximilian Friedrich</td><td>Königsegg-Rothenfels</td><td>Königseck</td></tr></tbody></table></div>"
      ],
      "text/latex": [
       "\\begin{tabular}{r|ccc}\n",
       "\t& vorname & familienname & familiennamenvarianten\\\\\n",
       "\t\\hline\n",
       "\t& String? & String? & String\\\\\n",
       "\t\\hline\n",
       "\t1 & Johannes & Goldener & Rupp \\\\\n",
       "\t2 & Konrad I. & Abenberg & Abensberg \\\\\n",
       "\t3 & Jakob & Feucht & Feuchtius \\\\\n",
       "\t4 & Nikolaus & Platow & Plate \\\\\n",
       "\t5 & Adolf & Schaumburg & Holstein-Schaumburg; Schauenburg \\\\\n",
       "\t6 & Marquard & Hattstein & Hattenstein \\\\\n",
       "\t7 & Johannes Markus & Aldringen & Altringen \\\\\n",
       "\t8 & Maximilian Friedrich & Königsegg-Rothenfels & Königseck \\\\\n",
       "\\end{tabular}\n"
      ],
      "text/plain": [
       "\u001b[1m8×3 DataFrame\u001b[0m\n",
       "\u001b[1m Row \u001b[0m│\u001b[1m vorname              \u001b[0m\u001b[1m familienname         \u001b[0m\u001b[1m familiennamenvarianten     \u001b[0m ⋯\n",
       "\u001b[1m     \u001b[0m│\u001b[90m String?              \u001b[0m\u001b[90m String?              \u001b[0m\u001b[90m String                     \u001b[0m ⋯\n",
       "─────┼──────────────────────────────────────────────────────────────────────────\n",
       "   1 │ Johannes              Goldener              Rupp                        ⋯\n",
       "   2 │ Konrad I.             Abenberg              Abensberg\n",
       "   3 │ Jakob                 Feucht                Feuchtius\n",
       "   4 │ Nikolaus              Platow                Plate\n",
       "   5 │ Adolf                 Schaumburg            Holstein-Schaumburg; Schaue ⋯\n",
       "   6 │ Marquard              Hattstein             Hattenstein\n",
       "   7 │ Johannes Markus       Aldringen             Altringen\n",
       "   8 │ Maximilian Friedrich  Königsegg-Rothenfels  Königseck\n",
       "\u001b[36m                                                                1 column omitted\u001b[0m"
      ]
     },
     "execution_count": 102,
     "metadata": {},
     "output_type": "execute_result"
    }
   ],
   "source": [
    "df_exp[150:157, [:vorname, :familienname, col]]"
   ]
  },
  {
   "cell_type": "markdown",
   "metadata": {},
   "source": [
    "Spalte `lang` hat den Default-Wert 'de'."
   ]
  },
  {
   "cell_type": "code",
   "execution_count": 103,
   "metadata": {},
   "outputs": [
    {
     "data": {
      "text/plain": [
       "2-element Vector{Pair{Symbol, Symbol}}:\n",
       "                     :id => :person_id\n",
       " :familiennamenvarianten => :name"
      ]
     },
     "execution_count": 103,
     "metadata": {},
     "output_type": "execute_result"
    }
   ],
   "source": [
    "columns = [\n",
    "    :id => :person_id,\n",
    "    :familiennamenvarianten => :name,\n",
    "]"
   ]
  },
  {
   "cell_type": "markdown",
   "metadata": {},
   "source": [
    "Einträge löschen (Korrekturen, Daten-Update)"
   ]
  },
  {
   "cell_type": "code",
   "execution_count": 104,
   "metadata": {},
   "outputs": [
    {
     "data": {
      "text/plain": [
       "9"
      ]
     },
     "execution_count": 104,
     "metadata": {},
     "output_type": "execute_result"
    }
   ],
   "source": [
    "item_type_bishop_gs"
   ]
  },
  {
   "cell_type": "code",
   "execution_count": 105,
   "metadata": {},
   "outputs": [
    {
     "data": {
      "text/plain": [
       "MySQL.TextCursor{true}(MySQL.Connection(host=\"127.0.0.1\", user=\"georg\", port=\"3306\", db=\"wiag2\"), \"DELETE FROM familyname_variant\\nWHERE person_id IN\\n(SELECT id FROM item WHERE item_type_id = 9)\", 0, -1, 0, MySQL.API.MYSQL_RES(Ptr{Nothing} @0x0000000000000000), Symbol[], Type[], Dict{Symbol, Int64}(), 0, 1, false)"
      ]
     },
     "execution_count": 105,
     "metadata": {},
     "output_type": "execute_result"
    }
   ],
   "source": [
    "table_name = \"familyname_variant\";\n",
    "sql = \"DELETE FROM $(table_name)\n",
    "WHERE person_id IN\n",
    "(SELECT id FROM item WHERE item_type_id = $(item_type_bishop_gs))\";\n",
    "DBInterface.execute(Wds.dbwiag, sql)"
   ]
  },
  {
   "cell_type": "code",
   "execution_count": 106,
   "metadata": {},
   "outputs": [
    {
     "name": "stderr",
     "output_type": "stream",
     "text": [
      "┌ Info: Rows inserted: 301\n",
      "└ @ WiagDataSetup C:\\Users\\georg\\Documents\\projekte\\WiagDataSetup.jl\\src\\WiagDataSetup.jl:1216\n"
     ]
    },
    {
     "data": {
      "text/plain": [
       "301"
      ]
     },
     "execution_count": 106,
     "metadata": {},
     "output_type": "execute_result"
    }
   ],
   "source": [
    "table_name = \"familyname_variant\"\n",
    "Wds.filltable!(table_name, select(df_exp, columns))"
   ]
  },
  {
   "cell_type": "markdown",
   "metadata": {},
   "source": [
    "Vornamen"
   ]
  },
  {
   "cell_type": "code",
   "execution_count": 107,
   "metadata": {},
   "outputs": [],
   "source": [
    "col = :vornamenvarianten;\n",
    "df_gnv = dropmissing(df_ep_idx, col);"
   ]
  },
  {
   "cell_type": "code",
   "execution_count": 108,
   "metadata": {},
   "outputs": [
    {
     "data": {
      "text/plain": [
       "(448, 23)"
      ]
     },
     "execution_count": 108,
     "metadata": {},
     "output_type": "execute_result"
    }
   ],
   "source": [
    "size(df_gnv)"
   ]
  },
  {
   "cell_type": "code",
   "execution_count": 109,
   "metadata": {},
   "outputs": [],
   "source": [
    "df_exp = Wds.expand_column(df_gnv, col, delim = r\", *\");"
   ]
  },
  {
   "cell_type": "code",
   "execution_count": 110,
   "metadata": {},
   "outputs": [
    {
     "data": {
      "text/plain": [
       "(594, 23)"
      ]
     },
     "execution_count": 110,
     "metadata": {},
     "output_type": "execute_result"
    }
   ],
   "source": [
    "size(df_exp)"
   ]
  },
  {
   "cell_type": "code",
   "execution_count": 111,
   "metadata": {},
   "outputs": [
    {
     "data": {
      "text/html": [
       "<div class=\"data-frame\"><p>8 rows × 3 columns</p><table class=\"data-frame\"><thead><tr><th></th><th>vorname</th><th>familienname</th><th>vornamenvarianten</th></tr><tr><th></th><th title=\"Union{Missing, String}\">String?</th><th title=\"Union{Missing, String}\">String?</th><th title=\"String\">String</th></tr></thead><tbody><tr><th>1</th><td>Adalung</td><td><em>missing</em></td><td>Adalingus</td></tr><tr><th>2</th><td>Adalung</td><td><em>missing</em></td><td>Adalunc</td></tr><tr><th>3</th><td>Cristoforo</td><td>Madruzzo</td><td>Cristofforo</td></tr><tr><th>4</th><td>Thietgaud</td><td><em>missing</em></td><td>Theutgaud</td></tr><tr><th>5</th><td>Walter</td><td>Geroldseck</td><td>Walther</td></tr><tr><th>6</th><td>Marquard</td><td>Jesow</td><td>Markward</td></tr><tr><th>7</th><td>Luder</td><td>Borch</td><td>Lüder</td></tr><tr><th>8</th><td>Konrad</td><td><em>missing</em></td><td>Conrad</td></tr></tbody></table></div>"
      ],
      "text/latex": [
       "\\begin{tabular}{r|ccc}\n",
       "\t& vorname & familienname & vornamenvarianten\\\\\n",
       "\t\\hline\n",
       "\t& String? & String? & String\\\\\n",
       "\t\\hline\n",
       "\t1 & Adalung & \\emph{missing} & Adalingus \\\\\n",
       "\t2 & Adalung & \\emph{missing} & Adalunc \\\\\n",
       "\t3 & Cristoforo & Madruzzo & Cristofforo \\\\\n",
       "\t4 & Thietgaud & \\emph{missing} & Theutgaud \\\\\n",
       "\t5 & Walter & Geroldseck & Walther \\\\\n",
       "\t6 & Marquard & Jesow & Markward \\\\\n",
       "\t7 & Luder & Borch & Lüder \\\\\n",
       "\t8 & Konrad & \\emph{missing} & Conrad \\\\\n",
       "\\end{tabular}\n"
      ],
      "text/plain": [
       "\u001b[1m8×3 DataFrame\u001b[0m\n",
       "\u001b[1m Row \u001b[0m│\u001b[1m vorname    \u001b[0m\u001b[1m familienname \u001b[0m\u001b[1m vornamenvarianten \u001b[0m\n",
       "\u001b[1m     \u001b[0m│\u001b[90m String?    \u001b[0m\u001b[90m String?      \u001b[0m\u001b[90m String            \u001b[0m\n",
       "─────┼─────────────────────────────────────────────\n",
       "   1 │ Adalung    \u001b[90m missing      \u001b[0m Adalingus\n",
       "   2 │ Adalung    \u001b[90m missing      \u001b[0m Adalunc\n",
       "   3 │ Cristoforo  Madruzzo      Cristofforo\n",
       "   4 │ Thietgaud  \u001b[90m missing      \u001b[0m Theutgaud\n",
       "   5 │ Walter      Geroldseck    Walther\n",
       "   6 │ Marquard    Jesow         Markward\n",
       "   7 │ Luder       Borch         Lüder\n",
       "   8 │ Konrad     \u001b[90m missing      \u001b[0m Conrad"
      ]
     },
     "execution_count": 111,
     "metadata": {},
     "output_type": "execute_result"
    }
   ],
   "source": [
    "df_exp[150:157, [:vorname, :familienname, col]]"
   ]
  },
  {
   "cell_type": "code",
   "execution_count": 112,
   "metadata": {},
   "outputs": [
    {
     "data": {
      "text/plain": [
       "2-element Vector{Pair{Symbol, Symbol}}:\n",
       "                :id => :person_id\n",
       " :vornamenvarianten => :name"
      ]
     },
     "execution_count": 112,
     "metadata": {},
     "output_type": "execute_result"
    }
   ],
   "source": [
    "columns = [\n",
    "    :id => :person_id,\n",
    "    col => :name,\n",
    "]"
   ]
  },
  {
   "cell_type": "markdown",
   "metadata": {},
   "source": [
    "Einträge löschen (Korrekturen, Daten-Update)"
   ]
  },
  {
   "cell_type": "code",
   "execution_count": 113,
   "metadata": {},
   "outputs": [
    {
     "data": {
      "text/plain": [
       "9"
      ]
     },
     "execution_count": 113,
     "metadata": {},
     "output_type": "execute_result"
    }
   ],
   "source": [
    "item_type_bishop_gs"
   ]
  },
  {
   "cell_type": "code",
   "execution_count": 114,
   "metadata": {},
   "outputs": [
    {
     "data": {
      "text/plain": [
       "MySQL.TextCursor{true}(MySQL.Connection(host=\"127.0.0.1\", user=\"georg\", port=\"3306\", db=\"wiag2\"), \"DELETE FROM givenname_variant\\nWHERE person_id IN\\n(SELECT id FROM item WHERE item_type_id = 9)\", 0, -1, 0, MySQL.API.MYSQL_RES(Ptr{Nothing} @0x0000000000000000), Symbol[], Type[], Dict{Symbol, Int64}(), 0, 1, false)"
      ]
     },
     "execution_count": 114,
     "metadata": {},
     "output_type": "execute_result"
    }
   ],
   "source": [
    "table_name = \"givenname_variant\";\n",
    "sql = \"DELETE FROM $(table_name)\n",
    "WHERE person_id IN\n",
    "(SELECT id FROM item WHERE item_type_id = $(item_type_bishop_gs))\";\n",
    "DBInterface.execute(Wds.dbwiag, sql)"
   ]
  },
  {
   "cell_type": "code",
   "execution_count": 115,
   "metadata": {},
   "outputs": [
    {
     "name": "stderr",
     "output_type": "stream",
     "text": [
      "┌ Info: Rows inserted: 594\n",
      "└ @ WiagDataSetup C:\\Users\\georg\\Documents\\projekte\\WiagDataSetup.jl\\src\\WiagDataSetup.jl:1216\n"
     ]
    },
    {
     "data": {
      "text/plain": [
       "594"
      ]
     },
     "execution_count": 115,
     "metadata": {},
     "output_type": "execute_result"
    }
   ],
   "source": [
    "table_name = \"givenname_variant\"\n",
    "Wds.filltable!(table_name, select(df_exp, columns))"
   ]
  },
  {
   "cell_type": "markdown",
   "metadata": {},
   "source": [
    "### Suchvarianten eintragen (name_lookup)\n",
    "\n",
    "Nach den Bischöfen aus der Personendatenbank wird nicht gesucht."
   ]
  },
  {
   "cell_type": "markdown",
   "metadata": {},
   "source": [
    "## Ämter"
   ]
  },
  {
   "cell_type": "code",
   "execution_count": 116,
   "metadata": {},
   "outputs": [],
   "source": [
    "table_name = gs_db * \".offices\";\n",
    "sql = \"SELECT * FROM $(table_name)\n",
    "WHERE deleted = 0\";\n",
    "df_pr = Wds.sql_df(sql);"
   ]
  },
  {
   "cell_type": "code",
   "execution_count": 117,
   "metadata": {},
   "outputs": [],
   "source": [
    "Wds.clean_up!(df_pr);"
   ]
  },
  {
   "cell_type": "code",
   "execution_count": 118,
   "metadata": {},
   "outputs": [
    {
     "data": {
      "text/plain": [
       "(72874, 22)"
      ]
     },
     "execution_count": 118,
     "metadata": {},
     "output_type": "execute_result"
    }
   ],
   "source": [
    "size(df_pr)"
   ]
  },
  {
   "cell_type": "markdown",
   "metadata": {},
   "source": [
    "### Bischöfe zuordnen"
   ]
  },
  {
   "cell_type": "code",
   "execution_count": 119,
   "metadata": {},
   "outputs": [],
   "source": [
    "transform!(df_pr, :person_id => ByRow(string) => :id_in_source);"
   ]
  },
  {
   "cell_type": "code",
   "execution_count": 120,
   "metadata": {},
   "outputs": [],
   "source": [
    "table_name = \"item\";\n",
    "sql = \"SELECT id AS item_id, id_in_source FROM $(table_name) WHERE item_type_id = $(item_type_bishop_gs)\";\n",
    "df_idx = Wds.sql_df(sql);"
   ]
  },
  {
   "cell_type": "code",
   "execution_count": 121,
   "metadata": {},
   "outputs": [],
   "source": [
    "df_prp = innerjoin(df_pr, df_idx, on = :id_in_source);"
   ]
  },
  {
   "cell_type": "code",
   "execution_count": 122,
   "metadata": {},
   "outputs": [
    {
     "data": {
      "text/plain": [
       "((2248, 24), (1426,))"
      ]
     },
     "execution_count": 122,
     "metadata": {},
     "output_type": "execute_result"
    }
   ],
   "source": [
    "size(df_prp), size(unique(df_prp.item_id))"
   ]
  },
  {
   "cell_type": "code",
   "execution_count": 123,
   "metadata": {},
   "outputs": [
    {
     "data": {
      "text/plain": [
       "5-element Vector{Int32}:\n",
       " 316861\n",
       " 316948\n",
       " 317244\n",
       " 317447\n",
       " 318176"
      ]
     },
     "execution_count": 123,
     "metadata": {},
     "output_type": "execute_result"
    }
   ],
   "source": [
    "person_id_mg_oc = setdiff(df_idx.item_id, df_prp.item_id)"
   ]
  },
  {
   "cell_type": "code",
   "execution_count": 157,
   "metadata": {},
   "outputs": [],
   "source": [
    "df_mg_bezeichnung = subset(df_prp, :bezeichnung => ByRow(ismissing));"
   ]
  },
  {
   "cell_type": "code",
   "execution_count": 158,
   "metadata": {},
   "outputs": [
    {
     "data": {
      "text/html": [
       "<div class=\"data-frame\"><p>1 rows × 7 columns</p><table class=\"data-frame\"><thead><tr><th></th><th>id</th><th>person_id</th><th>item_id</th><th>art</th><th>ort</th><th>dioezese</th><th>bezeichnung</th></tr><tr><th></th><th title=\"Int32\">Int32</th><th title=\"Int32\">Int32</th><th title=\"Int32\">Int32</th><th title=\"Union{Missing, String}\">String?</th><th title=\"Union{Missing, String}\">String?</th><th title=\"Union{Missing, String}\">String?</th><th title=\"Union{Missing, String}\">String?</th></tr></thead><tbody><tr><th>1</th><td>356143</td><td>317915</td><td>312122</td><td><em>missing</em></td><td><em>missing</em></td><td><em>missing</em></td><td><em>missing</em></td></tr></tbody></table></div>"
      ],
      "text/latex": [
       "\\begin{tabular}{r|ccccccc}\n",
       "\t& id & person\\_id & item\\_id & art & ort & dioezese & bezeichnung\\\\\n",
       "\t\\hline\n",
       "\t& Int32 & Int32 & Int32 & String? & String? & String? & String?\\\\\n",
       "\t\\hline\n",
       "\t1 & 356143 & 317915 & 312122 & \\emph{missing} & \\emph{missing} & \\emph{missing} & \\emph{missing} \\\\\n",
       "\\end{tabular}\n"
      ],
      "text/plain": [
       "\u001b[1m1×7 DataFrame\u001b[0m\n",
       "\u001b[1m Row \u001b[0m│\u001b[1m id     \u001b[0m\u001b[1m person_id \u001b[0m\u001b[1m item_id \u001b[0m\u001b[1m art     \u001b[0m\u001b[1m ort     \u001b[0m\u001b[1m dioezese \u001b[0m\u001b[1m bezeichnung \u001b[0m\n",
       "\u001b[1m     \u001b[0m│\u001b[90m Int32  \u001b[0m\u001b[90m Int32     \u001b[0m\u001b[90m Int32   \u001b[0m\u001b[90m String? \u001b[0m\u001b[90m String? \u001b[0m\u001b[90m String?  \u001b[0m\u001b[90m String?     \u001b[0m\n",
       "─────┼─────────────────────────────────────────────────────────────────────\n",
       "   1 │ 356143     317915   312122 \u001b[90m missing \u001b[0m\u001b[90m missing \u001b[0m\u001b[90m missing  \u001b[0m\u001b[90m missing     \u001b[0m"
      ]
     },
     "execution_count": 158,
     "metadata": {},
     "output_type": "execute_result"
    }
   ],
   "source": [
    "df_mg_bezeichnung[:, [:id, :person_id, :item_id, :art, :ort, :dioezese, :bezeichnung]]"
   ]
  },
  {
   "cell_type": "markdown",
   "metadata": {},
   "source": [
    "Johann Schweikard"
   ]
  },
  {
   "cell_type": "code",
   "execution_count": 159,
   "metadata": {},
   "outputs": [
    {
     "data": {
      "text/html": [
       "<div class=\"data-frame\"><p>2 rows × 7 columns</p><table class=\"data-frame\"><thead><tr><th></th><th>id</th><th>person_id</th><th>item_id</th><th>art</th><th>ort</th><th>dioezese</th><th>bezeichnung</th></tr><tr><th></th><th title=\"Int32\">Int32</th><th title=\"Int32\">Int32</th><th title=\"Int32\">Int32</th><th title=\"Union{Missing, String}\">String?</th><th title=\"Union{Missing, String}\">String?</th><th title=\"Union{Missing, String}\">String?</th><th title=\"Union{Missing, String}\">String?</th></tr></thead><tbody><tr><th>1</th><td>356142</td><td>317915</td><td>312122</td><td>geistlich</td><td><em>missing</em></td><td>Mainz</td><td>Erzbischof</td></tr><tr><th>2</th><td>356143</td><td>317915</td><td>312122</td><td><em>missing</em></td><td><em>missing</em></td><td><em>missing</em></td><td><em>missing</em></td></tr></tbody></table></div>"
      ],
      "text/latex": [
       "\\begin{tabular}{r|ccccccc}\n",
       "\t& id & person\\_id & item\\_id & art & ort & dioezese & bezeichnung\\\\\n",
       "\t\\hline\n",
       "\t& Int32 & Int32 & Int32 & String? & String? & String? & String?\\\\\n",
       "\t\\hline\n",
       "\t1 & 356142 & 317915 & 312122 & geistlich & \\emph{missing} & Mainz & Erzbischof \\\\\n",
       "\t2 & 356143 & 317915 & 312122 & \\emph{missing} & \\emph{missing} & \\emph{missing} & \\emph{missing} \\\\\n",
       "\\end{tabular}\n"
      ],
      "text/plain": [
       "\u001b[1m2×7 DataFrame\u001b[0m\n",
       "\u001b[1m Row \u001b[0m│\u001b[1m id     \u001b[0m\u001b[1m person_id \u001b[0m\u001b[1m item_id \u001b[0m\u001b[1m art       \u001b[0m\u001b[1m ort     \u001b[0m\u001b[1m dioezese \u001b[0m\u001b[1m bezeichnung \u001b[0m\n",
       "\u001b[1m     \u001b[0m│\u001b[90m Int32  \u001b[0m\u001b[90m Int32     \u001b[0m\u001b[90m Int32   \u001b[0m\u001b[90m String?   \u001b[0m\u001b[90m String? \u001b[0m\u001b[90m String?  \u001b[0m\u001b[90m String?     \u001b[0m\n",
       "─────┼───────────────────────────────────────────────────────────────────────\n",
       "   1 │ 356142     317915   312122  geistlich \u001b[90m missing \u001b[0m Mainz     Erzbischof\n",
       "   2 │ 356143     317915   312122 \u001b[90m missing   \u001b[0m\u001b[90m missing \u001b[0m\u001b[90m missing  \u001b[0m\u001b[90m missing     \u001b[0m"
      ]
     },
     "execution_count": 159,
     "metadata": {},
     "output_type": "execute_result"
    }
   ],
   "source": [
    "subset(df_prp, :person_id => ByRow(isequal(317915)))[:, [:id, :person_id, :item_id, :art, :ort, :dioezese, :bezeichnung]]"
   ]
  },
  {
   "cell_type": "code",
   "execution_count": 124,
   "metadata": {},
   "outputs": [],
   "source": [
    "dropmissing!(df_prp, :bezeichnung);"
   ]
  },
  {
   "cell_type": "code",
   "execution_count": 125,
   "metadata": {},
   "outputs": [
    {
     "data": {
      "text/plain": [
       "(2247, 24)"
      ]
     },
     "execution_count": 125,
     "metadata": {},
     "output_type": "execute_result"
    }
   ],
   "source": [
    "size(df_prp)"
   ]
  },
  {
   "cell_type": "markdown",
   "metadata": {},
   "source": [
    "### Rollen/Ämter zuordnen"
   ]
  },
  {
   "cell_type": "code",
   "execution_count": 126,
   "metadata": {},
   "outputs": [],
   "source": [
    "table_name = \"role\"\n",
    "sql = \"SELECT name as role_name, role.id as role_id\n",
    "FROM $(table_name)\"\n",
    "df_role = Wds.sql_df(sql);"
   ]
  },
  {
   "cell_type": "code",
   "execution_count": 127,
   "metadata": {},
   "outputs": [],
   "source": [
    "df_prpr = leftjoin(df_prp, df_role, on = :bezeichnung => :role_name);"
   ]
  },
  {
   "cell_type": "code",
   "execution_count": 128,
   "metadata": {},
   "outputs": [],
   "source": [
    "df_mg_role_id = subset(df_prpr, :role_id => ByRow(ismissing));"
   ]
  },
  {
   "cell_type": "code",
   "execution_count": 129,
   "metadata": {},
   "outputs": [
    {
     "data": {
      "text/plain": [
       "(2247, 159)"
      ]
     },
     "execution_count": 129,
     "metadata": {},
     "output_type": "execute_result"
    }
   ],
   "source": [
    "size(df_prpr, 1), size(df_mg_role_id, 1)"
   ]
  },
  {
   "cell_type": "markdown",
   "metadata": {},
   "source": [
    "Es gibt noch kein vollständiges Mapping von Ämtern auf normierte Ämter. Die Suche der Webanwendung berücksichtigt aber auch die ursprünglichen Bezeichnungen (person_role.role_name)."
   ]
  },
  {
   "cell_type": "markdown",
   "metadata": {},
   "source": [
    "### Bistümer zuordnen"
   ]
  },
  {
   "cell_type": "code",
   "execution_count": 130,
   "metadata": {},
   "outputs": [],
   "source": [
    "sql = \"SELECT id AS diocese_id, name AS diocese_name FROM diocese\"\n",
    "df_dioc = Wds.sql_df(sql);"
   ]
  },
  {
   "cell_type": "code",
   "execution_count": 131,
   "metadata": {},
   "outputs": [],
   "source": [
    "df_prprd = leftjoin(df_prpr, df_dioc, on = :dioezese => :diocese_name, matchmissing = :notequal);"
   ]
  },
  {
   "cell_type": "code",
   "execution_count": 132,
   "metadata": {},
   "outputs": [
    {
     "data": {
      "text/plain": [
       "(2247, 26)"
      ]
     },
     "execution_count": 132,
     "metadata": {},
     "output_type": "execute_result"
    }
   ],
   "source": [
    "size(df_prprd)"
   ]
  },
  {
   "cell_type": "markdown",
   "metadata": {},
   "source": [
    "### Institutionen zuordnen\n",
    "\n",
    "`klosterid` entspricht `institution.id_gsn`"
   ]
  },
  {
   "cell_type": "code",
   "execution_count": 133,
   "metadata": {},
   "outputs": [],
   "source": [
    "sql = \"SELECT id AS institution_id, name as institution_name, id_gsn FROM institution\"\n",
    "df_inst = Wds.sql_df(sql);"
   ]
  },
  {
   "cell_type": "code",
   "execution_count": 134,
   "metadata": {},
   "outputs": [],
   "source": [
    "int_or_missing(x) = ismissing(x) ? missing : parse(Int, x);\n",
    "transform!(df_prp, :klosterid => ByRow(int_or_missing) => :klosterid);"
   ]
  },
  {
   "cell_type": "code",
   "execution_count": 135,
   "metadata": {},
   "outputs": [],
   "source": [
    "df_prpm = leftjoin(df_prprd, df_inst, on = :klosterid => :id_gsn, matchmissing = :notequal);"
   ]
  },
  {
   "cell_type": "code",
   "execution_count": 136,
   "metadata": {},
   "outputs": [
    {
     "data": {
      "text/plain": [
       "(2247, 28)"
      ]
     },
     "execution_count": 136,
     "metadata": {},
     "output_type": "execute_result"
    }
   ],
   "source": [
    "size(df_prpm)"
   ]
  },
  {
   "cell_type": "markdown",
   "metadata": {},
   "source": [
    "### Numerische Daten eintragen"
   ]
  },
  {
   "cell_type": "code",
   "execution_count": 137,
   "metadata": {},
   "outputs": [],
   "source": [
    "num_date_begin(s_date) = Wds.parsemaybe(s_date, :lower)\n",
    "transform!(df_prpm, :von => ByRow(num_date_begin) => :num_date_begin);"
   ]
  },
  {
   "cell_type": "code",
   "execution_count": 138,
   "metadata": {},
   "outputs": [],
   "source": [
    "num_date_end(s_date) = Wds.parsemaybe(s_date, :upper);\n",
    "transform!(df_prpm, :bis => ByRow(num_date_end) => :num_date_end);"
   ]
  },
  {
   "cell_type": "code",
   "execution_count": 139,
   "metadata": {},
   "outputs": [],
   "source": [
    "transform!(df_prpm, :bis => ByRow(Wds.parse_year_sort) => :date_sort_key);"
   ]
  },
  {
   "cell_type": "code",
   "execution_count": 140,
   "metadata": {},
   "outputs": [
    {
     "data": {
      "text/plain": [
       "update_col (generic function with 1 method)"
      ]
     },
     "execution_count": 140,
     "metadata": {},
     "output_type": "execute_result"
    }
   ],
   "source": [
    "function update_col(from, to)\n",
    "    cand = Wds.parse_year_sort(from)\n",
    "    if ismissing(to) || cand < to\n",
    "        return cand\n",
    "    else\n",
    "        return to\n",
    "    end\n",
    "end"
   ]
  },
  {
   "cell_type": "code",
   "execution_count": 141,
   "metadata": {},
   "outputs": [],
   "source": [
    "transform!(df_prpm, [:von, :date_sort_key] => ByRow(update_col) => :date_sort_key);"
   ]
  },
  {
   "cell_type": "code",
   "execution_count": 142,
   "metadata": {},
   "outputs": [
    {
     "data": {
      "text/plain": [
       "9"
      ]
     },
     "execution_count": 142,
     "metadata": {},
     "output_type": "execute_result"
    }
   ],
   "source": [
    "item_type_bishop_gs"
   ]
  },
  {
   "cell_type": "code",
   "execution_count": 143,
   "metadata": {},
   "outputs": [
    {
     "data": {
      "text/plain": [
       "MySQL.TextCursor{true}(MySQL.Connection(host=\"127.0.0.1\", user=\"georg\", port=\"3306\", db=\"wiag2\"), \"DELETE FROM person_role WHERE person_id IN \\n(SELECT id FROM item WHERE item_type_id = 9)\", 0, -1, 0, MySQL.API.MYSQL_RES(Ptr{Nothing} @0x0000000000000000), Symbol[], Type[], Dict{Symbol, Int64}(), 0, 1, false)"
      ]
     },
     "execution_count": 143,
     "metadata": {},
     "output_type": "execute_result"
    }
   ],
   "source": [
    "table_name = \"person_role\"\n",
    "sql = \"DELETE FROM $(table_name) WHERE person_id IN \n",
    "(SELECT id FROM item WHERE item_type_id = $(item_type_bishop_gs))\"\n",
    "DBInterface.execute(Wds.dbwiag, sql)"
   ]
  },
  {
   "cell_type": "code",
   "execution_count": 144,
   "metadata": {},
   "outputs": [],
   "source": [
    "columns = [\n",
    "    :dioezese => :diocese_name,\n",
    "    :von => :date_begin,\n",
    "    :bis => :date_end,\n",
    "    :anmerkung => :note,\n",
    "    :bezeichnung => :role_name,\n",
    "    :item_id => :person_id,\n",
    "    :diocese_id => :diocese_id,\n",
    "    :role_id => :role_id,\n",
    "    :institution_id => :institution_id,\n",
    "    :institution_name => :institution_name,    \n",
    "    :num_date_begin => :num_date_begin,\n",
    "    :num_date_end => :num_date_end,\n",
    "    :date_sort_key => :date_sort_key\n",
    "];"
   ]
  },
  {
   "cell_type": "code",
   "execution_count": 145,
   "metadata": {},
   "outputs": [
    {
     "name": "stderr",
     "output_type": "stream",
     "text": [
      "┌ Info: Rows inserted: 2247\n",
      "└ @ WiagDataSetup C:\\Users\\georg\\Documents\\projekte\\WiagDataSetup.jl\\src\\WiagDataSetup.jl:1216\n"
     ]
    },
    {
     "data": {
      "text/plain": [
       "2247"
      ]
     },
     "execution_count": 145,
     "metadata": {},
     "output_type": "execute_result"
    }
   ],
   "source": [
    "table_name = \"person_role\"\n",
    "Wds.filltable!(table_name, select(df_prpm, columns))"
   ]
  },
  {
   "cell_type": "code",
   "execution_count": null,
   "metadata": {},
   "outputs": [],
   "source": []
  }
 ],
 "metadata": {
  "kernelspec": {
   "display_name": "Julia 1.7.0",
   "language": "julia",
   "name": "julia-1.7"
  },
  "language_info": {
   "file_extension": ".jl",
   "mimetype": "application/julia",
   "name": "julia",
   "version": "1.7.0"
  }
 },
 "nbformat": 4,
 "nbformat_minor": 4
}
