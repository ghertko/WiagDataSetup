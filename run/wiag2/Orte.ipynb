{
 "cells": [
  {
   "cell_type": "markdown",
   "metadata": {},
   "source": [
    "# Wissensaggregator Mittelalter und frühe Neuzeit\n",
    "\n",
    "## Strukturdaten einlesen/aktualisieren"
   ]
  },
  {
   "cell_type": "markdown",
   "metadata": {},
   "source": [
    "Inhalt\n",
    "\n",
    "- [Länder einlesen](#Länder-einlesen)\n",
    "- [Verwaltungsebenen einlesen](#Verwaltungsebenen-einlesen)\n",
    "- [Orte aus GeoNames einlesen](#Orte-aus-GeoNames-einlesen)\n",
    "  - [Fremsprachliche Namen](#Fremdsprachliche-Namen)\n",
    "  - [Deutsche Namen eintragen](#Deutsche-Namen-eintragen)"
   ]
  },
  {
   "cell_type": "markdown",
   "metadata": {},
   "source": [
    "Die Funktionen, welche Daten laden und umwandeln sind im Modul `WiagDataSetup` enthalten. Dieses verwendet seinerseits folgende Module:\n",
    "\n",
    "- MySQL\n",
    "- DataFrames\n",
    "- JSON\n",
    "- Infiltrator\n",
    "\n",
    "Diese werden am besten vorab direkt in einem Julia-Terminal installiert.\n",
    "``` julia\n",
    "cd(\"C:\\\\Users\\\\Georg\\\\Documents\\\\projekte\\\\WiagDataSetup.jl\")\n",
    "Pkg.activate(\".\")\n",
    "Pkg.add(\"MySQL\")\n",
    "Pkg.add(\"DataFrames\")\n",
    "Pkg.add(\"JSON\")\n",
    "Pkg.add(\"Infiltrator\")\n",
    "```\n",
    "\n",
    "Pfad zum Modul `WiagDataSetup`"
   ]
  },
  {
   "cell_type": "code",
   "execution_count": 5,
   "metadata": {},
   "outputs": [
    {
     "data": {
      "text/plain": [
       "\"../..\""
      ]
     },
     "execution_count": 5,
     "metadata": {},
     "output_type": "execute_result"
    }
   ],
   "source": [
    "wds_path=\"../..\""
   ]
  },
  {
   "cell_type": "code",
   "execution_count": 6,
   "metadata": {},
   "outputs": [],
   "source": [
    "cd(wds_path)"
   ]
  },
  {
   "cell_type": "code",
   "execution_count": 7,
   "metadata": {},
   "outputs": [],
   "source": [
    "using Pkg"
   ]
  },
  {
   "cell_type": "code",
   "execution_count": 8,
   "metadata": {},
   "outputs": [
    {
     "name": "stderr",
     "output_type": "stream",
     "text": [
      "\u001b[32m\u001b[1m  Activating\u001b[22m\u001b[39m project at `C:\\Users\\georg\\Documents\\projekte\\WiagDataSetup.jl`\n"
     ]
    }
   ],
   "source": [
    "Pkg.activate(\".\")"
   ]
  },
  {
   "cell_type": "markdown",
   "metadata": {},
   "source": [
    "Nur für die Entwicklung des Moduls relevant."
   ]
  },
  {
   "cell_type": "code",
   "execution_count": 9,
   "metadata": {},
   "outputs": [],
   "source": [
    "using Revise"
   ]
  },
  {
   "cell_type": "markdown",
   "metadata": {},
   "source": [
    "Modul laden"
   ]
  },
  {
   "cell_type": "code",
   "execution_count": 10,
   "metadata": {},
   "outputs": [
    {
     "data": {
      "text/plain": [
       "WiagDataSetup"
      ]
     },
     "execution_count": 10,
     "metadata": {},
     "output_type": "execute_result"
    }
   ],
   "source": [
    "using WiagDataSetup; Wds=WiagDataSetup"
   ]
  },
  {
   "cell_type": "markdown",
   "metadata": {},
   "source": [
    "Verbinde die Datenbank.\n",
    "\n",
    "Im Verlauf der Einleseschritte kann die folgende Fehlermeldung erscheinen:\n",
    "*Commands out of sync; you can't run this command now*.\n",
    "In diesem Fall diesen Befehl nochmal absetzen."
   ]
  },
  {
   "cell_type": "code",
   "execution_count": 11,
   "metadata": {},
   "outputs": [
    {
     "name": "stdout",
     "output_type": "stream",
     "text": [
      "Passwort für User georg: ········\n"
     ]
    },
    {
     "data": {
      "text/plain": [
       "MySQL.Connection(host=\"127.0.0.1\", user=\"georg\", port=\"3306\", db=\"wiag_in\")"
      ]
     },
     "execution_count": 11,
     "metadata": {},
     "output_type": "execute_result"
    }
   ],
   "source": [
    "Wds.setDBWIAG(user=\"georg\", db=\"wiag_in\")"
   ]
  },
  {
   "cell_type": "markdown",
   "metadata": {},
   "source": [
    "Verzeichnis für Basisdaten, z.b. SKOS-Schemes, Länder"
   ]
  },
  {
   "cell_type": "code",
   "execution_count": 12,
   "metadata": {},
   "outputs": [
    {
     "data": {
      "text/plain": [
       "\"C:\\\\Users\\\\georg\\\\Documents\\\\projekte-doc\\\\WiagDataSetup\""
      ]
     },
     "execution_count": 12,
     "metadata": {},
     "output_type": "execute_result"
    }
   ],
   "source": [
    "data_path=\"C:\\\\Users\\\\georg\\\\Documents\\\\projekte-doc\\\\WiagDataSetup\""
   ]
  },
  {
   "cell_type": "markdown",
   "metadata": {},
   "source": [
    "## Länder einlesen\n",
    "Die Quelle enthält im Wesentlichen Deutschland und seine Nachbarn. Die numerische ID ist der numerische ISO-Code.\n",
    "\n",
    "Quelle: https://download.geonames.org/export/dump/countryInfo.txt"
   ]
  },
  {
   "cell_type": "code",
   "execution_count": 9,
   "metadata": {},
   "outputs": [],
   "source": [
    "using CSV, MySQL, DataFrames"
   ]
  },
  {
   "cell_type": "code",
   "execution_count": 10,
   "metadata": {},
   "outputs": [
    {
     "data": {
      "text/plain": [
       "\"C:\\\\Users\\\\georg\\\\Documents\\\\projekte-doc\\\\WiagDataSetup\\\\GeoNames\\\\countryInfo.txt\""
      ]
     },
     "execution_count": 10,
     "metadata": {},
     "output_type": "execute_result"
    }
   ],
   "source": [
    "country_file=joinpath(data_path, \"GeoNames\", \"countryInfo.txt\")"
   ]
  },
  {
   "cell_type": "code",
   "execution_count": 11,
   "metadata": {},
   "outputs": [],
   "source": [
    "df_country = CSV.read(country_file, DataFrame);"
   ]
  },
  {
   "cell_type": "code",
   "execution_count": 12,
   "metadata": {},
   "outputs": [
    {
     "data": {
      "text/html": [
       "<div><div style = \"float: left;\"><span>5×19 DataFrame</span></div><div style = \"clear: both;\"></div></div><div class = \"data-frame\" style = \"overflow-x: scroll;\"><table class = \"data-frame\" style = \"margin-bottom: 6px;\"><thead><tr class = \"header\"><th class = \"rowNumber\" style = \"font-weight: bold; text-align: right;\">Row</th><th style = \"text-align: left;\">ISO</th><th style = \"text-align: left;\">ISO3</th><th style = \"text-align: left;\">ISO-Numeric</th><th style = \"text-align: left;\">fips</th><th style = \"text-align: left;\">Country</th><th style = \"text-align: left;\">Capital</th><th style = \"text-align: left;\">Area(in sq km)</th><th style = \"text-align: left;\">Population</th><th style = \"text-align: left;\">Continent</th><th style = \"text-align: left;\">tld</th><th style = \"text-align: left;\">CurrencyCode</th><th style = \"text-align: left;\">CurrencyName</th><th style = \"text-align: left;\">Phone</th><th style = \"text-align: left;\">Postal Code Format</th><th style = \"text-align: left;\">Postal Code Regex</th><th style = \"text-align: left;\">Languages</th><th style = \"text-align: left;\">geonameid</th><th style = \"text-align: left;\">neighbours</th><th style = \"text-align: left;\">EquivalentFipsCode</th></tr><tr class = \"subheader headerLastRow\"><th class = \"rowNumber\" style = \"font-weight: bold; text-align: right;\"></th><th title = \"String3\" style = \"text-align: left;\">String3</th><th title = \"String3\" style = \"text-align: left;\">String3</th><th title = \"Int64\" style = \"text-align: left;\">Int64</th><th title = \"Union{Missing, String3}\" style = \"text-align: left;\">String3?</th><th title = \"String\" style = \"text-align: left;\">String</th><th title = \"Union{Missing, String31}\" style = \"text-align: left;\">String31?</th><th title = \"Union{Missing, Float64}\" style = \"text-align: left;\">Float64?</th><th title = \"Int64\" style = \"text-align: left;\">Int64</th><th title = \"String3\" style = \"text-align: left;\">String3</th><th title = \"Union{Missing, String3}\" style = \"text-align: left;\">String3?</th><th title = \"Union{Missing, String3}\" style = \"text-align: left;\">String3?</th><th title = \"Union{Missing, String15}\" style = \"text-align: left;\">String15?</th><th title = \"Union{Missing, String31}\" style = \"text-align: left;\">String31?</th><th title = \"Union{Missing, String}\" style = \"text-align: left;\">String?</th><th title = \"Union{Missing, String}\" style = \"text-align: left;\">String?</th><th title = \"Union{Missing, String}\" style = \"text-align: left;\">String?</th><th title = \"Union{Missing, Int64}\" style = \"text-align: left;\">Int64?</th><th title = \"Union{Missing, String}\" style = \"text-align: left;\">String?</th><th title = \"Union{Missing, String3}\" style = \"text-align: left;\">String3?</th></tr></thead><tbody><tr><td class = \"rowNumber\" style = \"font-weight: bold; text-align: right;\">1</td><td style = \"text-align: left;\">AD</td><td style = \"text-align: left;\">AND</td><td style = \"text-align: right;\">20</td><td style = \"text-align: left;\">AN</td><td style = \"text-align: left;\">Andorra</td><td style = \"text-align: left;\">Andorra la Vella</td><td style = \"text-align: right;\">468.0</td><td style = \"text-align: right;\">84000</td><td style = \"text-align: left;\">EU</td><td style = \"text-align: left;\">.ad</td><td style = \"text-align: left;\">EUR</td><td style = \"text-align: left;\">Euro</td><td style = \"text-align: left;\">376</td><td style = \"text-align: left;\">AD###</td><td style = \"text-align: left;\">^(?:AD)*(\\\\d{3})$</td><td style = \"text-align: left;\">ca</td><td style = \"text-align: right;\">3041565</td><td style = \"text-align: left;\">ES,FR</td><td style = \"font-style: italic; text-align: left;\">missing</td></tr><tr><td class = \"rowNumber\" style = \"font-weight: bold; text-align: right;\">2</td><td style = \"text-align: left;\">AE</td><td style = \"text-align: left;\">ARE</td><td style = \"text-align: right;\">784</td><td style = \"text-align: left;\">AE</td><td style = \"text-align: left;\">United Arab Emirates</td><td style = \"text-align: left;\">Abu Dhabi</td><td style = \"text-align: right;\">82880.0</td><td style = \"text-align: right;\">4975593</td><td style = \"text-align: left;\">AS</td><td style = \"text-align: left;\">.ae</td><td style = \"text-align: left;\">AED</td><td style = \"text-align: left;\">Dirham</td><td style = \"text-align: left;\">971</td><td style = \"font-style: italic; text-align: left;\">missing</td><td style = \"font-style: italic; text-align: left;\">missing</td><td style = \"text-align: left;\">ar-AE,fa,en,hi,ur</td><td style = \"text-align: right;\">290557</td><td style = \"text-align: left;\">SA,OM</td><td style = \"font-style: italic; text-align: left;\">missing</td></tr><tr><td class = \"rowNumber\" style = \"font-weight: bold; text-align: right;\">3</td><td style = \"text-align: left;\">AF</td><td style = \"text-align: left;\">AFG</td><td style = \"text-align: right;\">4</td><td style = \"text-align: left;\">AF</td><td style = \"text-align: left;\">Afghanistan</td><td style = \"text-align: left;\">Kabul</td><td style = \"text-align: right;\">647500.0</td><td style = \"text-align: right;\">29121286</td><td style = \"text-align: left;\">AS</td><td style = \"text-align: left;\">.af</td><td style = \"text-align: left;\">AFN</td><td style = \"text-align: left;\">Afghani</td><td style = \"text-align: left;\">93</td><td style = \"font-style: italic; text-align: left;\">missing</td><td style = \"font-style: italic; text-align: left;\">missing</td><td style = \"text-align: left;\">fa-AF,ps,uz-AF,tk</td><td style = \"text-align: right;\">1149361</td><td style = \"text-align: left;\">TM,CN,IR,TJ,PK,UZ</td><td style = \"font-style: italic; text-align: left;\">missing</td></tr><tr><td class = \"rowNumber\" style = \"font-weight: bold; text-align: right;\">4</td><td style = \"text-align: left;\">AG</td><td style = \"text-align: left;\">ATG</td><td style = \"text-align: right;\">28</td><td style = \"text-align: left;\">AC</td><td style = \"text-align: left;\">Antigua and Barbuda</td><td style = \"text-align: left;\">St. John&apos;s</td><td style = \"text-align: right;\">443.0</td><td style = \"text-align: right;\">86754</td><td style = \"text-align: left;\">NA</td><td style = \"text-align: left;\">.ag</td><td style = \"text-align: left;\">XCD</td><td style = \"text-align: left;\">Dollar</td><td style = \"text-align: left;\">+1-268</td><td style = \"font-style: italic; text-align: left;\">missing</td><td style = \"font-style: italic; text-align: left;\">missing</td><td style = \"text-align: left;\">en-AG</td><td style = \"text-align: right;\">3576396</td><td style = \"font-style: italic; text-align: left;\">missing</td><td style = \"font-style: italic; text-align: left;\">missing</td></tr><tr><td class = \"rowNumber\" style = \"font-weight: bold; text-align: right;\">5</td><td style = \"text-align: left;\">AI</td><td style = \"text-align: left;\">AIA</td><td style = \"text-align: right;\">660</td><td style = \"text-align: left;\">AV</td><td style = \"text-align: left;\">Anguilla</td><td style = \"text-align: left;\">The Valley</td><td style = \"text-align: right;\">102.0</td><td style = \"text-align: right;\">13254</td><td style = \"text-align: left;\">NA</td><td style = \"text-align: left;\">.ai</td><td style = \"text-align: left;\">XCD</td><td style = \"text-align: left;\">Dollar</td><td style = \"text-align: left;\">+1-264</td><td style = \"font-style: italic; text-align: left;\">missing</td><td style = \"font-style: italic; text-align: left;\">missing</td><td style = \"text-align: left;\">en-AI</td><td style = \"text-align: right;\">3573511</td><td style = \"font-style: italic; text-align: left;\">missing</td><td style = \"font-style: italic; text-align: left;\">missing</td></tr></tbody></table></div>"
      ],
      "text/latex": [
       "\\begin{tabular}{r|ccccccc}\n",
       "\t& ISO & ISO3 & ISO-Numeric & fips & Country & Capital & \\\\\n",
       "\t\\hline\n",
       "\t& String3 & String3 & Int64 & String3? & String & String31? & \\\\\n",
       "\t\\hline\n",
       "\t1 & AD & AND & 20 & AN & Andorra & Andorra la Vella & $\\dots$ \\\\\n",
       "\t2 & AE & ARE & 784 & AE & United Arab Emirates & Abu Dhabi & $\\dots$ \\\\\n",
       "\t3 & AF & AFG & 4 & AF & Afghanistan & Kabul & $\\dots$ \\\\\n",
       "\t4 & AG & ATG & 28 & AC & Antigua and Barbuda & St. John's & $\\dots$ \\\\\n",
       "\t5 & AI & AIA & 660 & AV & Anguilla & The Valley & $\\dots$ \\\\\n",
       "\\end{tabular}\n"
      ],
      "text/plain": [
       "\u001b[1m5×19 DataFrame\u001b[0m\n",
       "\u001b[1m Row \u001b[0m│\u001b[1m ISO     \u001b[0m\u001b[1m ISO3    \u001b[0m\u001b[1m ISO-Numeric \u001b[0m\u001b[1m fips     \u001b[0m\u001b[1m Country              \u001b[0m\u001b[1m Capital \u001b[0m ⋯\n",
       "     │\u001b[90m String3 \u001b[0m\u001b[90m String3 \u001b[0m\u001b[90m Int64       \u001b[0m\u001b[90m String3? \u001b[0m\u001b[90m String               \u001b[0m\u001b[90m String31\u001b[0m ⋯\n",
       "─────┼──────────────────────────────────────────────────────────────────────────\n",
       "   1 │ AD       AND               20  AN        Andorra               Andorra  ⋯\n",
       "   2 │ AE       ARE              784  AE        United Arab Emirates  Abu Dhab\n",
       "   3 │ AF       AFG                4  AF        Afghanistan           Kabul\n",
       "   4 │ AG       ATG               28  AC        Antigua and Barbuda   St. John\n",
       "   5 │ AI       AIA              660  AV        Anguilla              The Vall ⋯\n",
       "\u001b[36m                                                              14 columns omitted\u001b[0m"
      ]
     },
     "execution_count": 12,
     "metadata": {},
     "output_type": "execute_result"
    }
   ],
   "source": [
    "first(df_country, 5)"
   ]
  },
  {
   "cell_type": "code",
   "execution_count": 13,
   "metadata": {},
   "outputs": [
    {
     "data": {
      "text/html": [
       "<div><div style = \"float: left;\"><span>6×2 DataFrame</span></div><div style = \"clear: both;\"></div></div><div class = \"data-frame\" style = \"overflow-x: scroll;\"><table class = \"data-frame\" style = \"margin-bottom: 6px;\"><thead><tr class = \"header\"><th class = \"rowNumber\" style = \"font-weight: bold; text-align: right;\">Row</th><th style = \"text-align: left;\">ISO-Numeric</th><th style = \"text-align: left;\">Country</th></tr><tr class = \"subheader headerLastRow\"><th class = \"rowNumber\" style = \"font-weight: bold; text-align: right;\"></th><th title = \"Int64\" style = \"text-align: left;\">Int64</th><th title = \"String\" style = \"text-align: left;\">String</th></tr></thead><tbody><tr><td class = \"rowNumber\" style = \"font-weight: bold; text-align: right;\">1</td><td style = \"text-align: right;\">175</td><td style = \"text-align: left;\">Mayotte</td></tr><tr><td class = \"rowNumber\" style = \"font-weight: bold; text-align: right;\">2</td><td style = \"text-align: right;\">710</td><td style = \"text-align: left;\">South Africa</td></tr><tr><td class = \"rowNumber\" style = \"font-weight: bold; text-align: right;\">3</td><td style = \"text-align: right;\">894</td><td style = \"text-align: left;\">Zambia</td></tr><tr><td class = \"rowNumber\" style = \"font-weight: bold; text-align: right;\">4</td><td style = \"text-align: right;\">716</td><td style = \"text-align: left;\">Zimbabwe</td></tr><tr><td class = \"rowNumber\" style = \"font-weight: bold; text-align: right;\">5</td><td style = \"text-align: right;\">891</td><td style = \"text-align: left;\">Serbia and Montenegro</td></tr><tr><td class = \"rowNumber\" style = \"font-weight: bold; text-align: right;\">6</td><td style = \"text-align: right;\">530</td><td style = \"text-align: left;\">Netherlands Antilles</td></tr></tbody></table></div>"
      ],
      "text/latex": [
       "\\begin{tabular}{r|cc}\n",
       "\t& ISO-Numeric & Country\\\\\n",
       "\t\\hline\n",
       "\t& Int64 & String\\\\\n",
       "\t\\hline\n",
       "\t1 & 175 & Mayotte \\\\\n",
       "\t2 & 710 & South Africa \\\\\n",
       "\t3 & 894 & Zambia \\\\\n",
       "\t4 & 716 & Zimbabwe \\\\\n",
       "\t5 & 891 & Serbia and Montenegro \\\\\n",
       "\t6 & 530 & Netherlands Antilles \\\\\n",
       "\\end{tabular}\n"
      ],
      "text/plain": [
       "\u001b[1m6×2 DataFrame\u001b[0m\n",
       "\u001b[1m Row \u001b[0m│\u001b[1m ISO-Numeric \u001b[0m\u001b[1m Country               \u001b[0m\n",
       "     │\u001b[90m Int64       \u001b[0m\u001b[90m String                \u001b[0m\n",
       "─────┼────────────────────────────────────\n",
       "   1 │         175  Mayotte\n",
       "   2 │         710  South Africa\n",
       "   3 │         894  Zambia\n",
       "   4 │         716  Zimbabwe\n",
       "   5 │         891  Serbia and Montenegro\n",
       "   6 │         530  Netherlands Antilles"
      ]
     },
     "execution_count": 13,
     "metadata": {},
     "output_type": "execute_result"
    }
   ],
   "source": [
    "df_country[end-5:end, [Symbol(\"ISO-Numeric\"), :Country]]"
   ]
  },
  {
   "cell_type": "code",
   "execution_count": 14,
   "metadata": {},
   "outputs": [
    {
     "data": {
      "text/plain": [
       "4-element Vector{Pair{Symbol, Symbol}}:\n",
       " Symbol(\"ISO-Numeric\") => :id\n",
       "              :Country => :name\n",
       "                  :ISO => :country_code\n",
       "              :Capital => :capital"
      ]
     },
     "execution_count": 14,
     "metadata": {},
     "output_type": "execute_result"
    }
   ],
   "source": [
    "select_cols = [\n",
    "    Symbol(\"ISO-Numeric\") => :id,\n",
    "    :Country => :name,\n",
    "    :ISO => :country_code,\n",
    "    :Capital => :capital\n",
    "]"
   ]
  },
  {
   "cell_type": "code",
   "execution_count": 15,
   "metadata": {},
   "outputs": [],
   "source": [
    "df_country_db = select(df_country, select_cols...);"
   ]
  },
  {
   "cell_type": "code",
   "execution_count": null,
   "metadata": {},
   "outputs": [],
   "source": [
    "Wds.filltable!(\"country\", df_country_db, clear_table = true)"
   ]
  },
  {
   "cell_type": "markdown",
   "metadata": {},
   "source": [
    "GeoNames-IDs ergänzen\n",
    "\n",
    "Quelle: `wiag_bundeslaender_normdaten_lhofman.xls` übertragen in `country.csv`"
   ]
  },
  {
   "cell_type": "code",
   "execution_count": null,
   "metadata": {},
   "outputs": [],
   "source": [
    "using MySQL, DataFrames, CSV"
   ]
  },
  {
   "cell_type": "code",
   "execution_count": null,
   "metadata": {},
   "outputs": [],
   "source": [
    "cy_file=joinpath(data_path, \"csv\", \"country.csv\")"
   ]
  },
  {
   "cell_type": "code",
   "execution_count": null,
   "metadata": {},
   "outputs": [],
   "source": [
    "df_cy=CSV.read(cy_file, DataFrame)"
   ]
  },
  {
   "cell_type": "code",
   "execution_count": null,
   "metadata": {},
   "outputs": [],
   "source": [
    "sql=\"DROP TABLE IF EXISTS country_gn_id\"\n",
    "DBInterface.execute(Wds.dbwiag, sql);"
   ]
  },
  {
   "cell_type": "code",
   "execution_count": null,
   "metadata": {},
   "outputs": [],
   "source": [
    "sql=\"CREATE TEMPORARY TABLE country_gn_id (\" *\n",
    "\"id INT,\" *\n",
    "\"country_code VARCHAR(31),\" *\n",
    "\"country_code_3 VARCHAR(31),\" *\n",
    "\"geonames_id INT)\"\n",
    "DBInterface.execute(Wds.dbwiag, sql);"
   ]
  },
  {
   "cell_type": "code",
   "execution_count": null,
   "metadata": {},
   "outputs": [],
   "source": [
    "Wds.filltable!(\"country_gn_id\", df_cy[!, [:id, :country_code, :country_code_3, :geonames_id]])"
   ]
  },
  {
   "cell_type": "code",
   "execution_count": null,
   "metadata": {},
   "outputs": [],
   "source": [
    "sql=\"UPDATE country AS cy, (SELECT id, country_code, country_code_3, geonames_id FROM country_gn_id) as gn \" *\n",
    "\"SET cy.country_code_3 = gn.country_code_3, cy.geonames_id = gn.geonames_id \" *\n",
    "\"WHERE cy.id = gn.id\"\n",
    "DBInterface.execute(Wds.dbwiag, sql);"
   ]
  },
  {
   "cell_type": "markdown",
   "metadata": {},
   "source": [
    "externe IDs ergänzen  \n",
    "2022-04-08: Es liegen nur externe IDs für Länder vor. Diese werden nicht übernommen; bzw. wieder gelöscht."
   ]
  },
  {
   "cell_type": "code",
   "execution_count": null,
   "metadata": {},
   "outputs": [],
   "source": [
    "cei_file=joinpath(data_path, \"csv\", \"country_id_external.csv\")"
   ]
  },
  {
   "cell_type": "code",
   "execution_count": null,
   "metadata": {},
   "outputs": [],
   "source": [
    "df_cei=CSV.read(cei_file, DataFrame, types=[Int, String, String, String, Int, String]);"
   ]
  },
  {
   "cell_type": "code",
   "execution_count": null,
   "metadata": {},
   "outputs": [],
   "source": [
    "size(df_cei)"
   ]
  },
  {
   "cell_type": "code",
   "execution_count": null,
   "metadata": {},
   "outputs": [],
   "source": [
    "df_cei[1:7, :]"
   ]
  },
  {
   "cell_type": "code",
   "execution_count": null,
   "metadata": {},
   "outputs": [],
   "source": [
    "Wds.filltable!(\"place_id_external\", df_cei[!, [:geonames_id, :authority_id, :value]])"
   ]
  },
  {
   "cell_type": "markdown",
   "metadata": {},
   "source": [
    "externe IDs für Bundesländer ergänzen\n",
    "\n",
    "Quelle: Quelle: `wiag_bundeslaender_normdaten_lhofman.xls` übertragen in `country_level_1_id_external.csv`"
   ]
  },
  {
   "cell_type": "code",
   "execution_count": null,
   "metadata": {},
   "outputs": [],
   "source": [
    "cei_l1_file=joinpath(data_path, \"csv\", \"country_level_1_id_external.csv\")"
   ]
  },
  {
   "cell_type": "code",
   "execution_count": null,
   "metadata": {},
   "outputs": [],
   "source": [
    "df_cei_l1=CSV.read(cei_l1_file, DataFrame, types=[Int, String, String, String, Int, String]);"
   ]
  },
  {
   "cell_type": "code",
   "execution_count": null,
   "metadata": {},
   "outputs": [],
   "source": [
    "df_cei_l1[1:7, :]"
   ]
  },
  {
   "cell_type": "code",
   "execution_count": null,
   "metadata": {},
   "outputs": [],
   "source": [
    "Wds.filltable!(\"place_id_external\", df_cei_l1[!, [:geonames_id, :authority_id, :value]])"
   ]
  },
  {
   "cell_type": "markdown",
   "metadata": {},
   "source": [
    "Kontrolle\n",
    "\n",
    "``` sql\n",
    "SELECT name, country_code, authority_id, value \n",
    "FROM place_id_external AS pei\n",
    "JOIN country_level_1 AS cl1 ON pei.geonames_id = cl1.geonames_id;\n",
    "```"
   ]
  },
  {
   "cell_type": "markdown",
   "metadata": {},
   "source": [
    "Es fehlen Hamburg, Bremen"
   ]
  },
  {
   "cell_type": "markdown",
   "metadata": {},
   "source": [
    "## Verwaltungsebenen einlesen\n",
    "Die Quelle enthält die oberste Verwaltungsebene nach dem Land selbst, also für Deutschland die Bundesländer, für Frankreich die Regionen. Die Quelle umfasst alle Daten in GeoNames und wird daher gefiltert."
   ]
  },
  {
   "cell_type": "code",
   "execution_count": null,
   "metadata": {},
   "outputs": [],
   "source": [
    "using DataFrames; using CSV"
   ]
  },
  {
   "cell_type": "code",
   "execution_count": null,
   "metadata": {},
   "outputs": [],
   "source": [
    "cl1_file=joinpath(data_path, \"Geonames\", \"admin1CodesASCII.txt\")"
   ]
  },
  {
   "cell_type": "code",
   "execution_count": null,
   "metadata": {},
   "outputs": [],
   "source": [
    "df_cl1=CSV.read(cl1_file, DataFrame, header=[\"code\", \"name\", \"ascii_name\", \"geonames_id\"]);"
   ]
  },
  {
   "cell_type": "code",
   "execution_count": null,
   "metadata": {},
   "outputs": [],
   "source": [
    "first(df_cl1, 7)"
   ]
  },
  {
   "cell_type": "markdown",
   "metadata": {},
   "source": [
    "Länder Code extrahieren"
   ]
  },
  {
   "cell_type": "code",
   "execution_count": null,
   "metadata": {},
   "outputs": [],
   "source": [
    "get_country_code(code)=split(code::AbstractString, \".\")[1]"
   ]
  },
  {
   "cell_type": "code",
   "execution_count": null,
   "metadata": {},
   "outputs": [],
   "source": [
    "df_cl1[!, :country_code] .= get_country_code.(df_cl1[!, :code]);"
   ]
  },
  {
   "cell_type": "code",
   "execution_count": null,
   "metadata": {},
   "outputs": [],
   "source": [
    "first(df_cl1, 7)"
   ]
  },
  {
   "cell_type": "markdown",
   "metadata": {},
   "source": [
    "Code der Verwaltungsebene extrahieren"
   ]
  },
  {
   "cell_type": "code",
   "execution_count": null,
   "metadata": {},
   "outputs": [],
   "source": [
    "get_admin1_code(code)=split(code::AbstractString, \".\")[2]"
   ]
  },
  {
   "cell_type": "code",
   "execution_count": null,
   "metadata": {},
   "outputs": [],
   "source": [
    "df_cl1[!, :admin1_code] .= get_admin1_code.(df_cl1[!, :code]);"
   ]
  },
  {
   "cell_type": "markdown",
   "metadata": {},
   "source": [
    "Länder auslesen"
   ]
  },
  {
   "cell_type": "code",
   "execution_count": null,
   "metadata": {},
   "outputs": [],
   "source": [
    "using MySQL"
   ]
  },
  {
   "cell_type": "code",
   "execution_count": null,
   "metadata": {},
   "outputs": [],
   "source": [
    "sql = \"SELECT id as country_id, country_code FROM country \" * \n",
    "\"WHERE country_code in (SELECT distinct(country_code) FROM place)\"\n",
    "df_country_m = DBInterface.execute(Wds.dbwiag, sql) |> DataFrame;"
   ]
  },
  {
   "cell_type": "code",
   "execution_count": null,
   "metadata": {},
   "outputs": [],
   "source": [
    "delete!(df_country_m, 16)"
   ]
  },
  {
   "cell_type": "code",
   "execution_count": null,
   "metadata": {},
   "outputs": [],
   "source": [
    "df_ccl1 = leftjoin(df_country_m, df_cl1, on = :country_code);"
   ]
  },
  {
   "cell_type": "markdown",
   "metadata": {},
   "source": [
    "Index ergänzen"
   ]
  },
  {
   "cell_type": "code",
   "execution_count": null,
   "metadata": {},
   "outputs": [],
   "source": [
    "df_ccl1[!, :id] .= 1:size(df_ccl1, 1);"
   ]
  },
  {
   "cell_type": "code",
   "execution_count": null,
   "metadata": {},
   "outputs": [],
   "source": [
    "first(df_ccl1[!, [:id, :country_id, :country_code, :name]], 5)"
   ]
  },
  {
   "cell_type": "code",
   "execution_count": null,
   "metadata": {},
   "outputs": [],
   "source": [
    "size(df_ccl1)"
   ]
  },
  {
   "cell_type": "code",
   "execution_count": null,
   "metadata": {},
   "outputs": [],
   "source": [
    "import_cols = [:id, :country_id, :country_code, :admin1_code, :name, :ascii_name, :geonames_id]"
   ]
  },
  {
   "cell_type": "code",
   "execution_count": null,
   "metadata": {},
   "outputs": [],
   "source": [
    "names(df_ccl1)"
   ]
  },
  {
   "cell_type": "code",
   "execution_count": null,
   "metadata": {
    "scrolled": true
   },
   "outputs": [],
   "source": [
    "Wds.filltable!(\"country_level_1\", select(df_ccl1, import_cols), clear_table=true)"
   ]
  },
  {
   "cell_type": "markdown",
   "metadata": {},
   "source": [
    "## Orte aus GeoNames einlesen\n",
    "Geonames stellt eine Sammlung aller Objekte (features) zur Verfügung. Alle Objekte eines Landes sind in jeweils einer Datei enthalten.\n",
    "https://download.geonames.org/export/dump/\n",
    "\n",
    "Lies Daten zu \n",
    "- Deutschland\n",
    "- Nachbarländer\n",
    "- Baltikum\n",
    "- Kroatien\n",
    "- Kaliningrad/Königsberg\n",
    "\n",
    "Ländercodes: DE, NL, BE, FR, IT, CH, AT, DK, PL, LU, CZ, LI, LV, LT, HR, EE, RU"
   ]
  },
  {
   "cell_type": "markdown",
   "metadata": {},
   "source": [
    "Pfad zu den Daten"
   ]
  },
  {
   "cell_type": "code",
   "execution_count": 1,
   "metadata": {},
   "outputs": [
    {
     "data": {
      "text/plain": [
       "\"C:\\\\Users\\\\georg\\\\Documents\\\\projekte-doc\\\\WiagDataSetup\\\\GeoNames\""
      ]
     },
     "execution_count": 1,
     "metadata": {},
     "output_type": "execute_result"
    }
   ],
   "source": [
    "gn_path = \"C:\\\\Users\\\\georg\\\\Documents\\\\projekte-doc\\\\WiagDataSetup\\\\GeoNames\""
   ]
  },
  {
   "cell_type": "markdown",
   "metadata": {},
   "source": [
    "Wähle aus den Features in den Daten von GeoNames nur Orte (P) aus, sowie Klöster (MSTY) und Konvente (CVNT).\n",
    "Siehe http://www.geonames.org/export/codes.html.\n",
    "\n",
    "Filterfunktion definieren"
   ]
  },
  {
   "cell_type": "code",
   "execution_count": 2,
   "metadata": {},
   "outputs": [
    {
     "data": {
      "text/plain": [
       "filter_places (generic function with 1 method)"
      ]
     },
     "execution_count": 2,
     "metadata": {},
     "output_type": "execute_result"
    }
   ],
   "source": [
    "function filter_places(feature_class, feature_code)\n",
    "    return ((!ismissing(feature_class) && feature_class == \"P\")\n",
    "            || (!ismissing(feature_code) && feature_code in (\"MSTY\", \"CVNT\")))\n",
    "end"
   ]
  },
  {
   "cell_type": "markdown",
   "metadata": {},
   "source": [
    "Spaltennamen und Spaltentypen"
   ]
  },
  {
   "cell_type": "markdown",
   "metadata": {},
   "source": [
    "Länder auslesen"
   ]
  },
  {
   "cell_type": "code",
   "execution_count": 3,
   "metadata": {},
   "outputs": [],
   "source": [
    "using MySQL\n",
    "using DataFrames\n",
    "using CSV"
   ]
  },
  {
   "cell_type": "code",
   "execution_count": 13,
   "metadata": {},
   "outputs": [],
   "source": [
    "df_country_m = DBInterface.execute(Wds.dbwiag, \"SELECT id as country_id, country_code FROM country\") |> DataFrame;"
   ]
  },
  {
   "cell_type": "code",
   "execution_count": 14,
   "metadata": {},
   "outputs": [
    {
     "data": {
      "text/html": [
       "<div><div style = \"float: left;\"><span>5×2 DataFrame</span></div><div style = \"clear: both;\"></div></div><div class = \"data-frame\" style = \"overflow-x: scroll;\"><table class = \"data-frame\" style = \"margin-bottom: 6px;\"><thead><tr class = \"header\"><th class = \"rowNumber\" style = \"font-weight: bold; text-align: right;\">Row</th><th style = \"text-align: left;\">country_id</th><th style = \"text-align: left;\">country_code</th></tr><tr class = \"subheader headerLastRow\"><th class = \"rowNumber\" style = \"font-weight: bold; text-align: right;\"></th><th title = \"Int32\" style = \"text-align: left;\">Int32</th><th title = \"Union{Missing, String}\" style = \"text-align: left;\">String?</th></tr></thead><tbody><tr><td class = \"rowNumber\" style = \"font-weight: bold; text-align: right;\">1</td><td style = \"text-align: right;\">0</td><td style = \"text-align: left;\">XK</td></tr><tr><td class = \"rowNumber\" style = \"font-weight: bold; text-align: right;\">2</td><td style = \"text-align: right;\">4</td><td style = \"text-align: left;\">AF</td></tr><tr><td class = \"rowNumber\" style = \"font-weight: bold; text-align: right;\">3</td><td style = \"text-align: right;\">8</td><td style = \"text-align: left;\">AL</td></tr><tr><td class = \"rowNumber\" style = \"font-weight: bold; text-align: right;\">4</td><td style = \"text-align: right;\">10</td><td style = \"text-align: left;\">AQ</td></tr><tr><td class = \"rowNumber\" style = \"font-weight: bold; text-align: right;\">5</td><td style = \"text-align: right;\">12</td><td style = \"text-align: left;\">DZ</td></tr></tbody></table></div>"
      ],
      "text/latex": [
       "\\begin{tabular}{r|cc}\n",
       "\t& country\\_id & country\\_code\\\\\n",
       "\t\\hline\n",
       "\t& Int32 & String?\\\\\n",
       "\t\\hline\n",
       "\t1 & 0 & XK \\\\\n",
       "\t2 & 4 & AF \\\\\n",
       "\t3 & 8 & AL \\\\\n",
       "\t4 & 10 & AQ \\\\\n",
       "\t5 & 12 & DZ \\\\\n",
       "\\end{tabular}\n"
      ],
      "text/plain": [
       "\u001b[1m5×2 DataFrame\u001b[0m\n",
       "\u001b[1m Row \u001b[0m│\u001b[1m country_id \u001b[0m\u001b[1m country_code \u001b[0m\n",
       "     │\u001b[90m Int32      \u001b[0m\u001b[90m String?      \u001b[0m\n",
       "─────┼──────────────────────────\n",
       "   1 │          0  XK\n",
       "   2 │          4  AF\n",
       "   3 │          8  AL\n",
       "   4 │         10  AQ\n",
       "   5 │         12  DZ"
      ]
     },
     "execution_count": 14,
     "metadata": {},
     "output_type": "execute_result"
    }
   ],
   "source": [
    "first(df_country_m, 5)"
   ]
  },
  {
   "cell_type": "code",
   "execution_count": 15,
   "metadata": {},
   "outputs": [],
   "source": [
    "gn_header = [\"geonames_id\", \"name\", \"ascii_name\", \"alternatenames\",\n",
    "             \"latitude\", \"longitude\", \"feature_class\", \"feature_code\",\n",
    "             \"country_code\", \"cc2\", \"admin1_code\", \"admin2_code\", \"admin3_code\", \"admin4_code\",\n",
    "             \"population\", \"elevation\", \"dem\", \"timezone\", \"modification_date\"];\n",
    "\n",
    "gn_types = [Int, String, String, String, Float64, Float64,\n",
    "            String, String, String, String,\n",
    "            String, String, String, String,\n",
    "            Int, Int, Int, String, String];"
   ]
  },
  {
   "cell_type": "code",
   "execution_count": 138,
   "metadata": {},
   "outputs": [],
   "source": [
    "place_cols = [:id_in_source, :country_id, :name, :ascii_name, :latitude, :longitude, \n",
    "        :feature_class, :feature_code, :country_code, :cc2, :admin1_code,\n",
    "        :population, :elevation, :dem, :timezone, :modification_date, :geonames_id, :place_type_id];"
   ]
  },
  {
   "cell_type": "markdown",
   "metadata": {},
   "source": [
    "### Niederlande"
   ]
  },
  {
   "cell_type": "code",
   "execution_count": null,
   "metadata": {},
   "outputs": [],
   "source": [
    "gn_filename = joinpath(gn_path, \"NL\", \"NL.txt\")"
   ]
  },
  {
   "cell_type": "code",
   "execution_count": null,
   "metadata": {},
   "outputs": [],
   "source": [
    "gn_df = CSV.read(gn_filename, DataFrame, header=gn_header, types=gn_types);"
   ]
  },
  {
   "cell_type": "markdown",
   "metadata": {},
   "source": [
    "filtern nach Art des Features"
   ]
  },
  {
   "cell_type": "code",
   "execution_count": null,
   "metadata": {},
   "outputs": [],
   "source": [
    "gn_dff = filter([:feature_class, :feature_code] => filter_places, gn_df);"
   ]
  },
  {
   "cell_type": "code",
   "execution_count": null,
   "metadata": {},
   "outputs": [],
   "source": [
    "size(gn_dff)"
   ]
  },
  {
   "cell_type": "code",
   "execution_count": null,
   "metadata": {},
   "outputs": [],
   "source": [
    "gn_dff = rightjoin(df_country_m, gn_dff, on = :country_code);"
   ]
  },
  {
   "cell_type": "code",
   "execution_count": null,
   "metadata": {},
   "outputs": [],
   "source": [
    "gn_dff[1:5, [:country_id, :name, :latitude, :longitude, :elevation, :dem, :population]]"
   ]
  },
  {
   "cell_type": "code",
   "execution_count": null,
   "metadata": {},
   "outputs": [],
   "source": [
    "Wds.filltable!(\"place\", gn_dff[!, place_cols], clear_table = false)"
   ]
  },
  {
   "cell_type": "markdown",
   "metadata": {},
   "source": [
    "### Belgien"
   ]
  },
  {
   "cell_type": "code",
   "execution_count": null,
   "metadata": {},
   "outputs": [],
   "source": [
    "gn_filename = joinpath(gn_path, \"BE\", \"BE.txt\")"
   ]
  },
  {
   "cell_type": "code",
   "execution_count": null,
   "metadata": {},
   "outputs": [],
   "source": [
    "gn_df = CSV.read(gn_filename, DataFrame, header=gn_header, types=gn_types);"
   ]
  },
  {
   "cell_type": "markdown",
   "metadata": {},
   "source": [
    "filtern nach Art des Features"
   ]
  },
  {
   "cell_type": "code",
   "execution_count": null,
   "metadata": {},
   "outputs": [],
   "source": [
    "gn_dff = filter([:feature_class, :feature_code] => filter_places, gn_df);"
   ]
  },
  {
   "cell_type": "code",
   "execution_count": null,
   "metadata": {},
   "outputs": [],
   "source": [
    "gn_dff[1:5, [:geonames_id, :name, :country_code, :population]]"
   ]
  },
  {
   "cell_type": "code",
   "execution_count": null,
   "metadata": {},
   "outputs": [],
   "source": [
    "size(gn_dff)"
   ]
  },
  {
   "cell_type": "markdown",
   "metadata": {},
   "source": [
    "Spalte für die Länder_ID einfügen"
   ]
  },
  {
   "cell_type": "code",
   "execution_count": null,
   "metadata": {},
   "outputs": [],
   "source": [
    "gn_dff = rightjoin(df_country_m, gn_dff, on = :country_code);"
   ]
  },
  {
   "cell_type": "code",
   "execution_count": null,
   "metadata": {},
   "outputs": [],
   "source": [
    "Wds.filltable!(\"place\", gn_dff[!, place_cols], clear_table = false)"
   ]
  },
  {
   "cell_type": "markdown",
   "metadata": {},
   "source": [
    "### Frankreich"
   ]
  },
  {
   "cell_type": "code",
   "execution_count": null,
   "metadata": {},
   "outputs": [],
   "source": [
    "gn_filename = joinpath(gn_path, \"FR\", \"FR.txt\")"
   ]
  },
  {
   "cell_type": "code",
   "execution_count": null,
   "metadata": {},
   "outputs": [],
   "source": [
    "gn_df = CSV.read(gn_filename, DataFrame, header=gn_header, types=gn_types);"
   ]
  },
  {
   "cell_type": "markdown",
   "metadata": {},
   "source": [
    "filtern nach Art des Features"
   ]
  },
  {
   "cell_type": "code",
   "execution_count": null,
   "metadata": {},
   "outputs": [],
   "source": [
    "gn_dff = filter([:feature_class, :feature_code] => filter_places, gn_df);"
   ]
  },
  {
   "cell_type": "code",
   "execution_count": null,
   "metadata": {},
   "outputs": [],
   "source": [
    "gn_dff[1:5, [:geonames_id, :name, :country_code, :population]]"
   ]
  },
  {
   "cell_type": "code",
   "execution_count": null,
   "metadata": {},
   "outputs": [],
   "source": [
    "size(gn_dff)"
   ]
  },
  {
   "cell_type": "markdown",
   "metadata": {},
   "source": [
    "Spalte für die Länder_ID einfügen"
   ]
  },
  {
   "cell_type": "code",
   "execution_count": null,
   "metadata": {},
   "outputs": [],
   "source": [
    "gn_dff = rightjoin(df_country_m, gn_dff, on = :country_code);"
   ]
  },
  {
   "cell_type": "code",
   "execution_count": null,
   "metadata": {},
   "outputs": [],
   "source": [
    "Wds.filltable!(\"place\", gn_dff[!, place_cols], clear_table = false)"
   ]
  },
  {
   "cell_type": "markdown",
   "metadata": {},
   "source": [
    "### Italien"
   ]
  },
  {
   "cell_type": "code",
   "execution_count": null,
   "metadata": {},
   "outputs": [],
   "source": [
    "gn_filename = joinpath(gn_path, \"IT\", \"IT.txt\")"
   ]
  },
  {
   "cell_type": "code",
   "execution_count": null,
   "metadata": {},
   "outputs": [],
   "source": [
    "gn_df = CSV.read(gn_filename, DataFrame, header=gn_header, types=gn_types);"
   ]
  },
  {
   "cell_type": "markdown",
   "metadata": {},
   "source": [
    "filtern nach Art des Features"
   ]
  },
  {
   "cell_type": "code",
   "execution_count": null,
   "metadata": {},
   "outputs": [],
   "source": [
    "gn_dff = filter([:feature_class, :feature_code] => filter_places, gn_df);"
   ]
  },
  {
   "cell_type": "code",
   "execution_count": null,
   "metadata": {},
   "outputs": [],
   "source": [
    "gn_dff[1:5, [:geonames_id, :name, :country_code, :population]]"
   ]
  },
  {
   "cell_type": "code",
   "execution_count": null,
   "metadata": {},
   "outputs": [],
   "source": [
    "size(gn_dff)"
   ]
  },
  {
   "cell_type": "markdown",
   "metadata": {},
   "source": [
    "Spalte für die Länder_ID einfügen"
   ]
  },
  {
   "cell_type": "code",
   "execution_count": null,
   "metadata": {},
   "outputs": [],
   "source": [
    "gn_dff = rightjoin(df_country_m, gn_dff, on = :country_code);"
   ]
  },
  {
   "cell_type": "code",
   "execution_count": null,
   "metadata": {},
   "outputs": [],
   "source": [
    "Wds.filltable!(\"place\", gn_dff[!, place_cols], clear_table = false)"
   ]
  },
  {
   "cell_type": "markdown",
   "metadata": {},
   "source": [
    "### Schweiz"
   ]
  },
  {
   "cell_type": "code",
   "execution_count": null,
   "metadata": {},
   "outputs": [],
   "source": [
    "gn_filename = joinpath(gn_path, \"CH\", \"CH.txt\")"
   ]
  },
  {
   "cell_type": "code",
   "execution_count": null,
   "metadata": {},
   "outputs": [],
   "source": [
    "gn_df = CSV.read(gn_filename, DataFrame, header=gn_header, types=gn_types);"
   ]
  },
  {
   "cell_type": "markdown",
   "metadata": {},
   "source": [
    "filtern nach Art des Features"
   ]
  },
  {
   "cell_type": "code",
   "execution_count": null,
   "metadata": {},
   "outputs": [],
   "source": [
    "gn_dff = filter([:feature_class, :feature_code] => filter_places, gn_df);"
   ]
  },
  {
   "cell_type": "code",
   "execution_count": null,
   "metadata": {},
   "outputs": [],
   "source": [
    "gn_dff[1:5, [:geonames_id, :name, :country_code, :population]]"
   ]
  },
  {
   "cell_type": "code",
   "execution_count": null,
   "metadata": {},
   "outputs": [],
   "source": [
    "size(gn_dff)"
   ]
  },
  {
   "cell_type": "markdown",
   "metadata": {},
   "source": [
    "Spalte für die Länder_ID einfügen"
   ]
  },
  {
   "cell_type": "code",
   "execution_count": null,
   "metadata": {},
   "outputs": [],
   "source": [
    "gn_dff = rightjoin(df_country_m, gn_dff, on = :country_code);"
   ]
  },
  {
   "cell_type": "code",
   "execution_count": null,
   "metadata": {},
   "outputs": [],
   "source": [
    "Wds.filltable!(\"place\", gn_dff[!, place_cols], clear_table = false)"
   ]
  },
  {
   "cell_type": "markdown",
   "metadata": {},
   "source": [
    "### Österreich"
   ]
  },
  {
   "cell_type": "code",
   "execution_count": null,
   "metadata": {},
   "outputs": [],
   "source": [
    "gn_filename = joinpath(gn_path, \"AT\", \"AT.txt\")"
   ]
  },
  {
   "cell_type": "code",
   "execution_count": null,
   "metadata": {},
   "outputs": [],
   "source": [
    "gn_df = CSV.read(gn_filename, DataFrame, header=gn_header, types=gn_types);"
   ]
  },
  {
   "cell_type": "markdown",
   "metadata": {},
   "source": [
    "filtern nach Art des Features"
   ]
  },
  {
   "cell_type": "code",
   "execution_count": null,
   "metadata": {},
   "outputs": [],
   "source": [
    "gn_dff = filter([:feature_class, :feature_code] => filter_places, gn_df);"
   ]
  },
  {
   "cell_type": "code",
   "execution_count": null,
   "metadata": {},
   "outputs": [],
   "source": [
    "gn_dff[1:5, [:geonames_id, :name, :country_code, :population]]"
   ]
  },
  {
   "cell_type": "code",
   "execution_count": null,
   "metadata": {},
   "outputs": [],
   "source": [
    "size(gn_dff)"
   ]
  },
  {
   "cell_type": "markdown",
   "metadata": {},
   "source": [
    "Spalte für die Länder_ID einfügen"
   ]
  },
  {
   "cell_type": "code",
   "execution_count": null,
   "metadata": {},
   "outputs": [],
   "source": [
    "gn_dff = rightjoin(df_country_m, gn_dff, on = :country_code);"
   ]
  },
  {
   "cell_type": "code",
   "execution_count": null,
   "metadata": {},
   "outputs": [],
   "source": [
    "Wds.filltable!(\"place\", gn_dff[!, place_cols], clear_table = false)"
   ]
  },
  {
   "cell_type": "markdown",
   "metadata": {},
   "source": [
    "### Dänemark"
   ]
  },
  {
   "cell_type": "code",
   "execution_count": null,
   "metadata": {},
   "outputs": [],
   "source": [
    "gn_filename = joinpath(gn_path, \"DK\", \"DK.txt\")"
   ]
  },
  {
   "cell_type": "code",
   "execution_count": null,
   "metadata": {},
   "outputs": [],
   "source": [
    "gn_df = CSV.read(gn_filename, DataFrame, header=gn_header, types=gn_types);"
   ]
  },
  {
   "cell_type": "markdown",
   "metadata": {},
   "source": [
    "filtern nach Art des Features"
   ]
  },
  {
   "cell_type": "code",
   "execution_count": null,
   "metadata": {},
   "outputs": [],
   "source": [
    "gn_dff = filter([:feature_class, :feature_code] => filter_places, gn_df);"
   ]
  },
  {
   "cell_type": "code",
   "execution_count": null,
   "metadata": {},
   "outputs": [],
   "source": [
    "gn_dff[1:5, [:geonames_id, :name, :country_code, :population]]"
   ]
  },
  {
   "cell_type": "code",
   "execution_count": null,
   "metadata": {},
   "outputs": [],
   "source": [
    "size(gn_dff)"
   ]
  },
  {
   "cell_type": "markdown",
   "metadata": {},
   "source": [
    "Spalte für die Länder_ID einfügen"
   ]
  },
  {
   "cell_type": "code",
   "execution_count": null,
   "metadata": {},
   "outputs": [],
   "source": [
    "gn_dff = rightjoin(df_country_m, gn_dff, on = :country_code);"
   ]
  },
  {
   "cell_type": "code",
   "execution_count": null,
   "metadata": {},
   "outputs": [],
   "source": [
    "Wds.filltable!(\"place\", gn_dff[!, place_cols], clear_table = false)"
   ]
  },
  {
   "cell_type": "markdown",
   "metadata": {},
   "source": [
    "### Polen"
   ]
  },
  {
   "cell_type": "code",
   "execution_count": null,
   "metadata": {},
   "outputs": [],
   "source": [
    "gn_filename = joinpath(gn_path, \"PL\", \"PL.txt\")"
   ]
  },
  {
   "cell_type": "code",
   "execution_count": null,
   "metadata": {},
   "outputs": [],
   "source": [
    "gn_df = CSV.read(gn_filename, DataFrame, header=gn_header, types=gn_types);"
   ]
  },
  {
   "cell_type": "markdown",
   "metadata": {},
   "source": [
    "filtern nach Art des Features"
   ]
  },
  {
   "cell_type": "code",
   "execution_count": null,
   "metadata": {},
   "outputs": [],
   "source": [
    "gn_dff = filter([:feature_class, :feature_code] => filter_places, gn_df);"
   ]
  },
  {
   "cell_type": "code",
   "execution_count": null,
   "metadata": {},
   "outputs": [],
   "source": [
    "gn_dff[1:5, [:geonames_id, :name, :country_code, :population]]"
   ]
  },
  {
   "cell_type": "code",
   "execution_count": null,
   "metadata": {},
   "outputs": [],
   "source": [
    "size(gn_dff)"
   ]
  },
  {
   "cell_type": "markdown",
   "metadata": {},
   "source": [
    "Spalte für die Länder_ID einfügen"
   ]
  },
  {
   "cell_type": "code",
   "execution_count": null,
   "metadata": {},
   "outputs": [],
   "source": [
    "gn_dff = rightjoin(df_country_m, gn_dff, on = :country_code);"
   ]
  },
  {
   "cell_type": "code",
   "execution_count": null,
   "metadata": {},
   "outputs": [],
   "source": [
    "Wds.filltable!(\"place\", gn_dff[!, place_cols], clear_table = false)"
   ]
  },
  {
   "cell_type": "markdown",
   "metadata": {},
   "source": [
    "### Deutschland"
   ]
  },
  {
   "cell_type": "code",
   "execution_count": 19,
   "metadata": {},
   "outputs": [
    {
     "data": {
      "text/plain": [
       "\"C:\\\\Users\\\\georg\\\\Documents\\\\projekte-doc\\\\WiagDataSetup\\\\GeoNames\\\\DE\\\\DE.txt\""
      ]
     },
     "execution_count": 19,
     "metadata": {},
     "output_type": "execute_result"
    }
   ],
   "source": [
    "gn_filename = joinpath(gn_path, \"DE\", \"DE.txt\")"
   ]
  },
  {
   "cell_type": "code",
   "execution_count": 20,
   "metadata": {},
   "outputs": [],
   "source": [
    "gn_df = CSV.read(gn_filename, DataFrame, header=gn_header, types=gn_types);"
   ]
  },
  {
   "cell_type": "markdown",
   "metadata": {},
   "source": [
    "filtern nach Art des Features"
   ]
  },
  {
   "cell_type": "code",
   "execution_count": 24,
   "metadata": {},
   "outputs": [],
   "source": [
    "gn_dff = filter([:feature_class, :feature_code] => filter_places, gn_df);"
   ]
  },
  {
   "cell_type": "code",
   "execution_count": null,
   "metadata": {},
   "outputs": [],
   "source": [
    "gn_dff[1:5, [:geonames_id, :name, :country_code, :population]]"
   ]
  },
  {
   "cell_type": "code",
   "execution_count": 25,
   "metadata": {},
   "outputs": [
    {
     "data": {
      "text/plain": [
       "(79810, 19)"
      ]
     },
     "execution_count": 25,
     "metadata": {},
     "output_type": "execute_result"
    }
   ],
   "source": [
    "size(gn_dff)"
   ]
  },
  {
   "cell_type": "markdown",
   "metadata": {},
   "source": [
    "Spalte für die Länder_ID einfügen"
   ]
  },
  {
   "cell_type": "code",
   "execution_count": null,
   "metadata": {},
   "outputs": [],
   "source": [
    "gn_dff = rightjoin(df_country_m, gn_dff, on = :country_code);"
   ]
  },
  {
   "cell_type": "code",
   "execution_count": null,
   "metadata": {},
   "outputs": [],
   "source": [
    "gn_dff[1:5, :]"
   ]
  },
  {
   "cell_type": "code",
   "execution_count": null,
   "metadata": {},
   "outputs": [],
   "source": [
    "Wds.filltable!(\"place\", gn_dff[!, place_cols], clear_table = false)"
   ]
  },
  {
   "cell_type": "markdown",
   "metadata": {},
   "source": [
    "Übernehme auch historische Orte (z.B. Abtei Corvey)"
   ]
  },
  {
   "cell_type": "code",
   "execution_count": 29,
   "metadata": {},
   "outputs": [
    {
     "data": {
      "text/plain": [
       "filter_places_hist (generic function with 1 method)"
      ]
     },
     "execution_count": 29,
     "metadata": {},
     "output_type": "execute_result"
    }
   ],
   "source": [
    "function filter_places_hist(feature_class, feature_code)\n",
    "    return (!ismissing(feature_code) && feature_code in (\"MSTY\", \"CVNT\", \"HSTS\"))\n",
    "end"
   ]
  },
  {
   "cell_type": "code",
   "execution_count": 46,
   "metadata": {},
   "outputs": [],
   "source": [
    "gn_dff_hist = filter([:feature_class, :feature_code] => filter_places_hist, gn_df);"
   ]
  },
  {
   "cell_type": "code",
   "execution_count": 47,
   "metadata": {},
   "outputs": [
    {
     "data": {
      "text/plain": [
       "(267, 19)"
      ]
     },
     "execution_count": 47,
     "metadata": {},
     "output_type": "execute_result"
    }
   ],
   "source": [
    "size(gn_dff_hist)"
   ]
  },
  {
   "cell_type": "code",
   "execution_count": 48,
   "metadata": {},
   "outputs": [],
   "source": [
    "gn_dff_hist = rightjoin(df_country_m, gn_dff_hist, on = :country_code);"
   ]
  },
  {
   "cell_type": "code",
   "execution_count": 49,
   "metadata": {},
   "outputs": [],
   "source": [
    "insertcols!(\n",
    "    gn_dff_hist,\n",
    "    :id_in_source => gn_dff_hist.geonames_id,\n",
    ");"
   ]
  },
  {
   "cell_type": "code",
   "execution_count": 55,
   "metadata": {},
   "outputs": [
    {
     "data": {
      "text/html": [
       "<div><div style = \"float: left;\"><span>7×3 DataFrame</span></div><div style = \"clear: both;\"></div></div><div class = \"data-frame\" style = \"overflow-x: scroll;\"><table class = \"data-frame\" style = \"margin-bottom: 6px;\"><thead><tr class = \"header\"><th class = \"rowNumber\" style = \"font-weight: bold; text-align: right;\">Row</th><th style = \"text-align: left;\">name</th><th style = \"text-align: left;\">geonames_id</th><th style = \"text-align: left;\">id_in_source</th></tr><tr class = \"subheader headerLastRow\"><th class = \"rowNumber\" style = \"font-weight: bold; text-align: right;\"></th><th title = \"String\" style = \"text-align: left;\">String</th><th title = \"Int64\" style = \"text-align: left;\">Int64</th><th title = \"Int64\" style = \"text-align: left;\">Int64</th></tr></thead><tbody><tr><td class = \"rowNumber\" style = \"font-weight: bold; text-align: right;\">1</td><td style = \"text-align: left;\">Freiburg, ehemalige Dominikanerkirche</td><td style = \"text-align: right;\">11428014</td><td style = \"text-align: right;\">11428014</td></tr><tr><td class = \"rowNumber\" style = \"font-weight: bold; text-align: right;\">2</td><td style = \"text-align: left;\">Regensburg, Minoritenkirche</td><td style = \"text-align: right;\">11428015</td><td style = \"text-align: right;\">11428015</td></tr><tr><td class = \"rowNumber\" style = \"font-weight: bold; text-align: right;\">3</td><td style = \"text-align: left;\">Engelthal, Ev. Kirche, Klosterkirche Johannes d. T.</td><td style = \"text-align: right;\">11428017</td><td style = \"text-align: right;\">11428017</td></tr><tr><td class = \"rowNumber\" style = \"font-weight: bold; text-align: right;\">4</td><td style = \"text-align: left;\">Abtei Sayn</td><td style = \"text-align: right;\">11429093</td><td style = \"text-align: right;\">11429093</td></tr><tr><td class = \"rowNumber\" style = \"font-weight: bold; text-align: right;\">5</td><td style = \"text-align: left;\">Seeberg Observatory (1787-1934)</td><td style = \"text-align: right;\">11494732</td><td style = \"text-align: right;\">11494732</td></tr><tr><td class = \"rowNumber\" style = \"font-weight: bold; text-align: right;\">6</td><td style = \"text-align: left;\">Seehofer Wasserspielreservoir</td><td style = \"text-align: right;\">11497107</td><td style = \"text-align: right;\">11497107</td></tr><tr><td class = \"rowNumber\" style = \"font-weight: bold; text-align: right;\">7</td><td style = \"text-align: left;\">Kloster Michelsberg</td><td style = \"text-align: right;\">11497656</td><td style = \"text-align: right;\">11497656</td></tr></tbody></table></div>"
      ],
      "text/latex": [
       "\\begin{tabular}{r|ccc}\n",
       "\t& name & geonames\\_id & id\\_in\\_source\\\\\n",
       "\t\\hline\n",
       "\t& String & Int64 & Int64\\\\\n",
       "\t\\hline\n",
       "\t1 & Freiburg, ehemalige Dominikanerkirche & 11428014 & 11428014 \\\\\n",
       "\t2 & Regensburg, Minoritenkirche & 11428015 & 11428015 \\\\\n",
       "\t3 & Engelthal, Ev. Kirche, Klosterkirche Johannes d. T. & 11428017 & 11428017 \\\\\n",
       "\t4 & Abtei Sayn & 11429093 & 11429093 \\\\\n",
       "\t5 & Seeberg Observatory (1787-1934) & 11494732 & 11494732 \\\\\n",
       "\t6 & Seehofer Wasserspielreservoir & 11497107 & 11497107 \\\\\n",
       "\t7 & Kloster Michelsberg & 11497656 & 11497656 \\\\\n",
       "\\end{tabular}\n"
      ],
      "text/plain": [
       "\u001b[1m7×3 DataFrame\u001b[0m\n",
       "\u001b[1m Row \u001b[0m│\u001b[1m name                              \u001b[0m\u001b[1m geonames_id \u001b[0m\u001b[1m id_in_source \u001b[0m\n",
       "     │\u001b[90m String                            \u001b[0m\u001b[90m Int64       \u001b[0m\u001b[90m Int64        \u001b[0m\n",
       "─────┼──────────────────────────────────────────────────────────────\n",
       "   1 │ Freiburg, ehemalige Dominikanerk…     11428014      11428014\n",
       "   2 │ Regensburg, Minoritenkirche           11428015      11428015\n",
       "   3 │ Engelthal, Ev. Kirche, Klosterki…     11428017      11428017\n",
       "   4 │ Abtei Sayn                            11429093      11429093\n",
       "   5 │ Seeberg Observatory (1787-1934)       11494732      11494732\n",
       "   6 │ Seehofer Wasserspielreservoir         11497107      11497107\n",
       "   7 │ Kloster Michelsberg                   11497656      11497656"
      ]
     },
     "execution_count": 55,
     "metadata": {},
     "output_type": "execute_result"
    }
   ],
   "source": [
    "gn_dff_hist[151:157, [:name, :geonames_id, :id_in_source]]"
   ]
  },
  {
   "cell_type": "code",
   "execution_count": 58,
   "metadata": {},
   "outputs": [
    {
     "name": "stderr",
     "output_type": "stream",
     "text": [
      "┌ Info: Rows inserted: 267\n",
      "└ @ WiagDataSetup C:\\Users\\georg\\Documents\\projekte\\WiagDataSetup.jl\\src\\WiagDataSetup.jl:1216\n"
     ]
    },
    {
     "data": {
      "text/plain": [
       "267"
      ]
     },
     "execution_count": 58,
     "metadata": {},
     "output_type": "execute_result"
    }
   ],
   "source": [
    "table = \"place\"\n",
    "Wds.filltable!(table, gn_dff_hist[!, place_cols], clear_table = false)"
   ]
  },
  {
   "cell_type": "markdown",
   "metadata": {},
   "source": [
    "### Lies auch Orte mit Feature Code A ein\n",
    "Zum Teil wird in der Klosterdatenbank auch diese GeoNames-ID verwendet. Wir beschränken uns auf die Länder, wo das vorkommt."
   ]
  },
  {
   "cell_type": "code",
   "execution_count": 127,
   "metadata": {},
   "outputs": [
    {
     "data": {
      "text/plain": [
       "6-element Vector{String}:\n",
       " \"DE\"\n",
       " \"AT\"\n",
       " \"CH\"\n",
       " \"NL\"\n",
       " \"BE\"\n",
       " \"PL\""
      ]
     },
     "execution_count": 127,
     "metadata": {},
     "output_type": "execute_result"
    }
   ],
   "source": [
    "country_code_list = [\"DE\", \"AT\", \"CH\", \"NL\", \"BE\", \"PL\"]"
   ]
  },
  {
   "cell_type": "code",
   "execution_count": 128,
   "metadata": {},
   "outputs": [
    {
     "name": "stderr",
     "output_type": "stream",
     "text": [
      "┌ Info: DE\n",
      "└ @ Main In[128]:4\n",
      "┌ Info: AT\n",
      "└ @ Main In[128]:4\n",
      "┌ Info: CH\n",
      "└ @ Main In[128]:4\n",
      "┌ Info: NL\n",
      "└ @ Main In[128]:4\n",
      "┌ Info: BE\n",
      "└ @ Main In[128]:4\n",
      "┌ Info: PL\n",
      "└ @ Main In[128]:4\n"
     ]
    }
   ],
   "source": [
    "n = 0\n",
    "gn_df_list = []\n",
    "for country_code in country_code_list\n",
    "    @info country_code\n",
    "    gn_filename = joinpath(gn_path, country_code, country_code * \".txt\")\n",
    "    gn_df_loop = CSV.read(gn_filename, DataFrame, header = gn_header, types = gn_types)\n",
    "    push!(gn_df_list, gn_df_loop)    \n",
    "    n += 1\n",
    "end"
   ]
  },
  {
   "cell_type": "code",
   "execution_count": 129,
   "metadata": {},
   "outputs": [],
   "source": [
    "gn_df = vcat(gn_df_list...);"
   ]
  },
  {
   "cell_type": "code",
   "execution_count": 106,
   "metadata": {},
   "outputs": [
    {
     "data": {
      "text/plain": [
       "filter_places_A (generic function with 1 method)"
      ]
     },
     "execution_count": 106,
     "metadata": {},
     "output_type": "execute_result"
    }
   ],
   "source": [
    "function filter_places_A(feature_class, feature_code)\n",
    "    return ((!ismissing(feature_class) && feature_class in (\"A\",))\n",
    "            || (!ismissing(feature_code) && feature_code in (\"MSTY\", \"CVNT\")))\n",
    "end"
   ]
  },
  {
   "cell_type": "code",
   "execution_count": 143,
   "metadata": {},
   "outputs": [],
   "source": [
    "gn_dff_A = filter([:feature_class, :feature_code] => filter_places_A, gn_df);"
   ]
  },
  {
   "cell_type": "code",
   "execution_count": 144,
   "metadata": {},
   "outputs": [
    {
     "data": {
      "text/plain": [
       "(22657, 19)"
      ]
     },
     "execution_count": 144,
     "metadata": {},
     "output_type": "execute_result"
    }
   ],
   "source": [
    "size(gn_dff_A)"
   ]
  },
  {
   "cell_type": "markdown",
   "metadata": {},
   "source": [
    "Lies die Orte der Klosterdatenbank ein, die Feature-Code A haben, um zu sehen, ob die Orte gefunden werden."
   ]
  },
  {
   "cell_type": "code",
   "execution_count": 109,
   "metadata": {},
   "outputs": [
    {
     "data": {
      "text/plain": [
       "\"C:\\\\Users\\\\georg\\\\Documents\\\\projekte-doc\\\\WIAGweb2\\\\data\\\\Klosterort_Geonames_ID.csv\""
      ]
     },
     "execution_count": 109,
     "metadata": {},
     "output_type": "execute_result"
    }
   ],
   "source": [
    "path_mon_db_A = joinpath(\n",
    "    \"C:\\\\\",\n",
    "    \"Users\",\n",
    "    \"georg\",\n",
    "    \"Documents\",\n",
    "    \"projekte-doc\",\n",
    "    \"WIAGweb2\",\n",
    "    \"data\",\n",
    "    \"Klosterort_Geonames_ID.csv\"\n",
    ")"
   ]
  },
  {
   "cell_type": "code",
   "execution_count": 110,
   "metadata": {},
   "outputs": [],
   "source": [
    "mon_db_A = CSV.read(path_mon_db_A, DataFrame);"
   ]
  },
  {
   "cell_type": "code",
   "execution_count": 111,
   "metadata": {},
   "outputs": [],
   "source": [
    "mon_db_A = unique(mon_db_A, :geonames_id);"
   ]
  },
  {
   "cell_type": "code",
   "execution_count": 112,
   "metadata": {},
   "outputs": [
    {
     "data": {
      "text/plain": [
       "(175, 3)"
      ]
     },
     "execution_count": 112,
     "metadata": {},
     "output_type": "execute_result"
    }
   ],
   "source": [
    "size(mon_db_A)"
   ]
  },
  {
   "cell_type": "code",
   "execution_count": 132,
   "metadata": {},
   "outputs": [],
   "source": [
    "gn_dff_A_sel = innerjoin(gn_dff_A, mon_db_A, on = :geonames_id);"
   ]
  },
  {
   "cell_type": "code",
   "execution_count": 133,
   "metadata": {},
   "outputs": [
    {
     "data": {
      "text/plain": [
       "(167, 21)"
      ]
     },
     "execution_count": 133,
     "metadata": {},
     "output_type": "execute_result"
    }
   ],
   "source": [
    "size(gn_dff_A_sel)"
   ]
  },
  {
   "cell_type": "code",
   "execution_count": 134,
   "metadata": {},
   "outputs": [
    {
     "data": {
      "text/html": [
       "<div><div style = \"float: left;\"><span>8×3 DataFrame</span></div><div style = \"clear: both;\"></div></div><div class = \"data-frame\" style = \"overflow-x: scroll;\"><table class = \"data-frame\" style = \"margin-bottom: 6px;\"><thead><tr class = \"header\"><th class = \"rowNumber\" style = \"font-weight: bold; text-align: right;\">Row</th><th style = \"text-align: left;\">place_name</th><th style = \"text-align: left;\">gsn</th><th style = \"text-align: left;\">geonames_id</th></tr><tr class = \"subheader headerLastRow\"><th class = \"rowNumber\" style = \"font-weight: bold; text-align: right;\"></th><th title = \"String\" style = \"text-align: left;\">String</th><th title = \"Int64\" style = \"text-align: left;\">Int64</th><th title = \"Int64\" style = \"text-align: left;\">Int64</th></tr></thead><tbody><tr><td class = \"rowNumber\" style = \"font-weight: bold; text-align: right;\">1</td><td style = \"text-align: left;\">Almkerk</td><td style = \"text-align: right;\">8156</td><td style = \"text-align: right;\">275987</td></tr><tr><td class = \"rowNumber\" style = \"font-weight: bold; text-align: right;\">2</td><td style = \"text-align: left;\">Insel Lützelau</td><td style = \"text-align: right;\">10006</td><td style = \"text-align: right;\">9609557</td></tr><tr><td class = \"rowNumber\" style = \"font-weight: bold; text-align: right;\">3</td><td style = \"text-align: left;\">Mont Sainte-Odilie (Odilienberg)</td><td style = \"text-align: right;\">99993</td><td style = \"text-align: right;\">11002262</td></tr><tr><td class = \"rowNumber\" style = \"font-weight: bold; text-align: right;\">4</td><td style = \"text-align: left;\">Oestrich-Winkel</td><td style = \"text-align: right;\">30268</td><td style = \"text-align: right;\">3207534</td></tr><tr><td class = \"rowNumber\" style = \"font-weight: bold; text-align: right;\">5</td><td style = \"text-align: left;\">Salenstein</td><td style = \"text-align: right;\">4779</td><td style = \"text-align: right;\">71</td></tr><tr><td class = \"rowNumber\" style = \"font-weight: bold; text-align: right;\">6</td><td style = \"text-align: left;\">Snamensk (Wehlau)</td><td style = \"text-align: right;\">19968</td><td style = \"text-align: right;\">462322</td></tr><tr><td class = \"rowNumber\" style = \"font-weight: bold; text-align: right;\">7</td><td style = \"text-align: left;\">Sovetsk (Tilsit)</td><td style = \"text-align: right;\">19965</td><td style = \"text-align: right;\">490068</td></tr><tr><td class = \"rowNumber\" style = \"font-weight: bold; text-align: right;\">8</td><td style = \"text-align: left;\">Zierikzee</td><td style = \"text-align: right;\">8681</td><td style = \"text-align: right;\">274391</td></tr></tbody></table></div>"
      ],
      "text/latex": [
       "\\begin{tabular}{r|ccc}\n",
       "\t& place\\_name & gsn & geonames\\_id\\\\\n",
       "\t\\hline\n",
       "\t& String & Int64 & Int64\\\\\n",
       "\t\\hline\n",
       "\t1 & Almkerk & 8156 & 275987 \\\\\n",
       "\t2 & Insel Lützelau & 10006 & 9609557 \\\\\n",
       "\t3 & Mont Sainte-Odilie (Odilienberg) & 99993 & 11002262 \\\\\n",
       "\t4 & Oestrich-Winkel & 30268 & 3207534 \\\\\n",
       "\t5 & Salenstein & 4779 & 71 \\\\\n",
       "\t6 & Snamensk (Wehlau) & 19968 & 462322 \\\\\n",
       "\t7 & Sovetsk (Tilsit) & 19965 & 490068 \\\\\n",
       "\t8 & Zierikzee & 8681 & 274391 \\\\\n",
       "\\end{tabular}\n"
      ],
      "text/plain": [
       "\u001b[1m8×3 DataFrame\u001b[0m\n",
       "\u001b[1m Row \u001b[0m│\u001b[1m place_name                       \u001b[0m\u001b[1m gsn   \u001b[0m\u001b[1m geonames_id \u001b[0m\n",
       "     │\u001b[90m String                           \u001b[0m\u001b[90m Int64 \u001b[0m\u001b[90m Int64       \u001b[0m\n",
       "─────┼──────────────────────────────────────────────────────\n",
       "   1 │ Almkerk                            8156       275987\n",
       "   2 │ Insel Lützelau                    10006      9609557\n",
       "   3 │ Mont Sainte-Odilie (Odilienberg)  99993     11002262\n",
       "   4 │ Oestrich-Winkel                   30268      3207534\n",
       "   5 │ Salenstein                         4779           71\n",
       "   6 │ Snamensk (Wehlau)                 19968       462322\n",
       "   7 │ Sovetsk (Tilsit)                  19965       490068\n",
       "   8 │ Zierikzee                          8681       274391"
      ]
     },
     "execution_count": 134,
     "metadata": {},
     "output_type": "execute_result"
    }
   ],
   "source": [
    "mon_db_A_mg = antijoin(mon_db_A, gn_dff_A_sel, on = :geonames_id)"
   ]
  },
  {
   "cell_type": "markdown",
   "metadata": {},
   "source": [
    "Snamensk und Sovetsk sind schon als (ausgewählte) Orte in Russland mit Feature Code P aufgenommen (siehe unten). Sechs der Orte sind händisch nachzupflegen (Tippfehler, anderer Feature Code)  \n",
    "*2023-01-11*"
   ]
  },
  {
   "cell_type": "markdown",
   "metadata": {},
   "source": [
    "Spalte für die Länder_ID einfügen; `id_in_source` ergänzen, `place_type_id` ergänzen"
   ]
  },
  {
   "cell_type": "code",
   "execution_count": 145,
   "metadata": {},
   "outputs": [],
   "source": [
    "gn_dff_A = rightjoin(df_country_m, gn_dff_A, on = :country_code);"
   ]
  },
  {
   "cell_type": "code",
   "execution_count": 146,
   "metadata": {},
   "outputs": [],
   "source": [
    "transform!(gn_dff_A, :geonames_id => ByRow(string) => :id_in_source);"
   ]
  },
  {
   "cell_type": "code",
   "execution_count": 147,
   "metadata": {},
   "outputs": [],
   "source": [
    "place_type_id = 1 # geonames\n",
    "insertcols!(gn_dff_A, :place_type_id => place_type_id);"
   ]
  },
  {
   "cell_type": "code",
   "execution_count": 148,
   "metadata": {},
   "outputs": [
    {
     "data": {
      "text/plain": [
       "(22657, 22)"
      ]
     },
     "execution_count": 148,
     "metadata": {},
     "output_type": "execute_result"
    }
   ],
   "source": [
    "size(gn_dff_A)"
   ]
  },
  {
   "cell_type": "code",
   "execution_count": 150,
   "metadata": {},
   "outputs": [
    {
     "name": "stderr",
     "output_type": "stream",
     "text": [
      "┌ Info: 10000\n",
      "└ @ WiagDataSetup C:\\Users\\georg\\Documents\\projekte\\WiagDataSetup.jl\\src\\WiagDataSetup.jl:1193\n",
      "┌ Info: 20000\n",
      "└ @ WiagDataSetup C:\\Users\\georg\\Documents\\projekte\\WiagDataSetup.jl\\src\\WiagDataSetup.jl:1193\n",
      "┌ Info: Rows inserted: 22657\n",
      "└ @ WiagDataSetup C:\\Users\\georg\\Documents\\projekte\\WiagDataSetup.jl\\src\\WiagDataSetup.jl:1216\n"
     ]
    },
    {
     "data": {
      "text/plain": [
       "22657"
      ]
     },
     "execution_count": 150,
     "metadata": {},
     "output_type": "execute_result"
    }
   ],
   "source": [
    "Wds.filltable!(\"place\", select(gn_dff_A, place_cols), clear_table = false)"
   ]
  },
  {
   "cell_type": "markdown",
   "metadata": {},
   "source": [
    "### Luxemburg"
   ]
  },
  {
   "cell_type": "code",
   "execution_count": null,
   "metadata": {},
   "outputs": [],
   "source": [
    "gn_filename = joinpath(gn_path, \"LU\", \"LU.txt\")"
   ]
  },
  {
   "cell_type": "code",
   "execution_count": null,
   "metadata": {},
   "outputs": [],
   "source": [
    "gn_df = CSV.read(gn_filename, DataFrame, header=gn_header, types=gn_types);"
   ]
  },
  {
   "cell_type": "markdown",
   "metadata": {},
   "source": [
    "filtern nach Art des Features"
   ]
  },
  {
   "cell_type": "code",
   "execution_count": null,
   "metadata": {},
   "outputs": [],
   "source": [
    "gn_dff = filter([:feature_class, :feature_code] => filter_places, gn_df);"
   ]
  },
  {
   "cell_type": "code",
   "execution_count": null,
   "metadata": {},
   "outputs": [],
   "source": [
    "gn_dff[1:5, [:geonames_id, :name, :country_code, :population]]"
   ]
  },
  {
   "cell_type": "code",
   "execution_count": null,
   "metadata": {},
   "outputs": [],
   "source": [
    "size(gn_dff)"
   ]
  },
  {
   "cell_type": "markdown",
   "metadata": {},
   "source": [
    "Spalte für die Länder_ID einfügen"
   ]
  },
  {
   "cell_type": "code",
   "execution_count": null,
   "metadata": {},
   "outputs": [],
   "source": [
    "gn_dff = rightjoin(df_country_m, gn_dff, on = :country_code);"
   ]
  },
  {
   "cell_type": "code",
   "execution_count": null,
   "metadata": {},
   "outputs": [],
   "source": [
    "Wds.filltable!(\"place\", gn_dff[!, place_cols], clear_table = false)"
   ]
  },
  {
   "cell_type": "markdown",
   "metadata": {},
   "source": [
    "### Tschechien"
   ]
  },
  {
   "cell_type": "code",
   "execution_count": null,
   "metadata": {},
   "outputs": [],
   "source": [
    "gn_filename = joinpath(gn_path, \"CZ\", \"CZ.txt\")"
   ]
  },
  {
   "cell_type": "code",
   "execution_count": null,
   "metadata": {
    "scrolled": false
   },
   "outputs": [],
   "source": [
    "gn_df = CSV.read(gn_filename, DataFrame, header=gn_header, types=gn_types);"
   ]
  },
  {
   "cell_type": "markdown",
   "metadata": {},
   "source": [
    "filtern nach Art des Features"
   ]
  },
  {
   "cell_type": "code",
   "execution_count": null,
   "metadata": {},
   "outputs": [],
   "source": [
    "gn_dff = filter([:feature_class, :feature_code] => filter_places, gn_df);"
   ]
  },
  {
   "cell_type": "code",
   "execution_count": null,
   "metadata": {},
   "outputs": [],
   "source": [
    "gn_dff[1:5, [:geonames_id, :name, :country_code, :population]]"
   ]
  },
  {
   "cell_type": "code",
   "execution_count": null,
   "metadata": {},
   "outputs": [],
   "source": [
    "size(gn_dff)"
   ]
  },
  {
   "cell_type": "markdown",
   "metadata": {},
   "source": [
    "Spalte für die Länder_ID einfügen"
   ]
  },
  {
   "cell_type": "code",
   "execution_count": null,
   "metadata": {},
   "outputs": [],
   "source": [
    "gn_dff = rightjoin(df_country_m, gn_dff, on = :country_code);"
   ]
  },
  {
   "cell_type": "code",
   "execution_count": null,
   "metadata": {},
   "outputs": [],
   "source": [
    "Wds.filltable!(\"place\", gn_dff[!, place_cols], clear_table = false)"
   ]
  },
  {
   "cell_type": "markdown",
   "metadata": {},
   "source": [
    "### Liechtenstein"
   ]
  },
  {
   "cell_type": "code",
   "execution_count": null,
   "metadata": {},
   "outputs": [],
   "source": [
    "gn_filename = joinpath(gn_path, \"LI\", \"LI.txt\")"
   ]
  },
  {
   "cell_type": "code",
   "execution_count": null,
   "metadata": {},
   "outputs": [],
   "source": [
    "gn_df = CSV.read(gn_filename, DataFrame, header=gn_header, types=gn_types);"
   ]
  },
  {
   "cell_type": "markdown",
   "metadata": {},
   "source": [
    "filtern nach Art des Features"
   ]
  },
  {
   "cell_type": "code",
   "execution_count": null,
   "metadata": {},
   "outputs": [],
   "source": [
    "gn_dff = filter([:feature_class, :feature_code] => filter_places, gn_df);"
   ]
  },
  {
   "cell_type": "code",
   "execution_count": null,
   "metadata": {},
   "outputs": [],
   "source": [
    "gn_dff[1:5, [:geonames_id, :name, :country_code, :population]]"
   ]
  },
  {
   "cell_type": "code",
   "execution_count": null,
   "metadata": {},
   "outputs": [],
   "source": [
    "size(gn_dff)"
   ]
  },
  {
   "cell_type": "markdown",
   "metadata": {},
   "source": [
    "Spalte für die Länder_ID einfügen"
   ]
  },
  {
   "cell_type": "code",
   "execution_count": null,
   "metadata": {},
   "outputs": [],
   "source": [
    "gn_dff = rightjoin(df_country_m, gn_dff, on = :country_code);"
   ]
  },
  {
   "cell_type": "code",
   "execution_count": null,
   "metadata": {},
   "outputs": [],
   "source": [
    "Wds.filltable!(\"place\", gn_dff[!, place_cols], clear_table = false)"
   ]
  },
  {
   "cell_type": "markdown",
   "metadata": {},
   "source": [
    "### Estland\n",
    "\n",
    "Die erste Zeile der Daten kann nicht gelesen werden. Sie wird manuell aus den Quelldaten gelöscht. Das ist unerheblich, weil es sich nicht um ein relevantes Feature handelt."
   ]
  },
  {
   "cell_type": "code",
   "execution_count": null,
   "metadata": {},
   "outputs": [],
   "source": [
    "gn_filename = joinpath(gn_path, \"EE\", \"EE-x1.txt\")"
   ]
  },
  {
   "cell_type": "code",
   "execution_count": null,
   "metadata": {},
   "outputs": [],
   "source": [
    "gn_df = CSV.read(gn_filename, DataFrame, header=gn_header, types=gn_types);"
   ]
  },
  {
   "cell_type": "markdown",
   "metadata": {},
   "source": [
    "filtern nach Art des Features"
   ]
  },
  {
   "cell_type": "code",
   "execution_count": null,
   "metadata": {},
   "outputs": [],
   "source": [
    "gn_dff = filter([:feature_class, :feature_code] => filter_places, gn_df);"
   ]
  },
  {
   "cell_type": "code",
   "execution_count": null,
   "metadata": {},
   "outputs": [],
   "source": [
    "size(gn_dff)"
   ]
  },
  {
   "cell_type": "code",
   "execution_count": null,
   "metadata": {},
   "outputs": [],
   "source": [
    "gn_dff[1:5, [:geonames_id, :name, :country_code, :population]]"
   ]
  },
  {
   "cell_type": "code",
   "execution_count": null,
   "metadata": {},
   "outputs": [],
   "source": [
    "size(gn_dff)"
   ]
  },
  {
   "cell_type": "markdown",
   "metadata": {},
   "source": [
    "Spalte für die Länder_ID einfügen"
   ]
  },
  {
   "cell_type": "code",
   "execution_count": null,
   "metadata": {},
   "outputs": [],
   "source": [
    "gn_dff = rightjoin(df_country_m, gn_dff, on = :country_code);"
   ]
  },
  {
   "cell_type": "code",
   "execution_count": null,
   "metadata": {},
   "outputs": [],
   "source": [
    "Wds.filltable!(\"place\", gn_dff[!, place_cols], clear_table = false)"
   ]
  },
  {
   "cell_type": "markdown",
   "metadata": {},
   "source": [
    "### Lettland"
   ]
  },
  {
   "cell_type": "code",
   "execution_count": null,
   "metadata": {},
   "outputs": [],
   "source": [
    "gn_filename = joinpath(gn_path, \"LV\", \"LV.txt\")"
   ]
  },
  {
   "cell_type": "code",
   "execution_count": null,
   "metadata": {},
   "outputs": [],
   "source": [
    "gn_df = CSV.read(gn_filename, DataFrame, header=gn_header, types=gn_types);"
   ]
  },
  {
   "cell_type": "markdown",
   "metadata": {},
   "source": [
    "filtern nach Art des Features"
   ]
  },
  {
   "cell_type": "code",
   "execution_count": null,
   "metadata": {},
   "outputs": [],
   "source": [
    "gn_dff = filter([:feature_class, :feature_code] => filter_places, gn_df);"
   ]
  },
  {
   "cell_type": "code",
   "execution_count": null,
   "metadata": {},
   "outputs": [],
   "source": [
    "gn_dff[1:5, [:geonames_id, :name, :country_code, :population]]"
   ]
  },
  {
   "cell_type": "code",
   "execution_count": null,
   "metadata": {},
   "outputs": [],
   "source": [
    "size(gn_dff)"
   ]
  },
  {
   "cell_type": "markdown",
   "metadata": {},
   "source": [
    "Spalte für die Länder_ID einfügen"
   ]
  },
  {
   "cell_type": "code",
   "execution_count": null,
   "metadata": {},
   "outputs": [],
   "source": [
    "gn_dff = rightjoin(df_country_m, gn_dff, on = :country_code);"
   ]
  },
  {
   "cell_type": "code",
   "execution_count": null,
   "metadata": {},
   "outputs": [],
   "source": [
    "Wds.filltable!(\"place\", gn_dff[!, place_cols], clear_table = false)"
   ]
  },
  {
   "cell_type": "markdown",
   "metadata": {},
   "source": [
    "### Litauen"
   ]
  },
  {
   "cell_type": "code",
   "execution_count": null,
   "metadata": {},
   "outputs": [],
   "source": [
    "gn_filename = joinpath(gn_path, \"LT\", \"LT.txt\")"
   ]
  },
  {
   "cell_type": "code",
   "execution_count": null,
   "metadata": {},
   "outputs": [],
   "source": [
    "gn_df = CSV.read(gn_filename, DataFrame, header=gn_header, types=gn_types);"
   ]
  },
  {
   "cell_type": "markdown",
   "metadata": {},
   "source": [
    "filtern nach Art des Features"
   ]
  },
  {
   "cell_type": "code",
   "execution_count": null,
   "metadata": {},
   "outputs": [],
   "source": [
    "gn_dff = filter([:feature_class, :feature_code] => filter_places, gn_df);"
   ]
  },
  {
   "cell_type": "code",
   "execution_count": null,
   "metadata": {},
   "outputs": [],
   "source": [
    "gn_dff[1:5, [:geonames_id, :name, :country_code, :population]]"
   ]
  },
  {
   "cell_type": "code",
   "execution_count": null,
   "metadata": {},
   "outputs": [],
   "source": [
    "size(gn_dff)"
   ]
  },
  {
   "cell_type": "markdown",
   "metadata": {},
   "source": [
    "Spalte für die Länder_ID einfügen"
   ]
  },
  {
   "cell_type": "code",
   "execution_count": null,
   "metadata": {},
   "outputs": [],
   "source": [
    "gn_dff = rightjoin(df_country_m, gn_dff, on = :country_code);"
   ]
  },
  {
   "cell_type": "code",
   "execution_count": null,
   "metadata": {},
   "outputs": [],
   "source": [
    "Wds.filltable!(\"place\", gn_dff[!, place_cols], clear_table = false)"
   ]
  },
  {
   "cell_type": "markdown",
   "metadata": {},
   "source": [
    "### Kroatien"
   ]
  },
  {
   "cell_type": "code",
   "execution_count": null,
   "metadata": {},
   "outputs": [],
   "source": [
    "gn_filename = joinpath(gn_path, \"HR\", \"HR.txt\")"
   ]
  },
  {
   "cell_type": "code",
   "execution_count": null,
   "metadata": {},
   "outputs": [],
   "source": [
    "gn_df = CSV.read(gn_filename, DataFrame, header=gn_header, types=gn_types);"
   ]
  },
  {
   "cell_type": "markdown",
   "metadata": {},
   "source": [
    "filtern nach Art des Features"
   ]
  },
  {
   "cell_type": "code",
   "execution_count": null,
   "metadata": {},
   "outputs": [],
   "source": [
    "gn_dff = filter([:feature_class, :feature_code] => filter_places, gn_df);"
   ]
  },
  {
   "cell_type": "code",
   "execution_count": null,
   "metadata": {},
   "outputs": [],
   "source": [
    "gn_dff[1:5, [:geonames_id, :name, :country_code, :population]]"
   ]
  },
  {
   "cell_type": "code",
   "execution_count": null,
   "metadata": {},
   "outputs": [],
   "source": [
    "size(gn_dff)"
   ]
  },
  {
   "cell_type": "markdown",
   "metadata": {},
   "source": [
    "Spalte für die Länder_ID einfügen"
   ]
  },
  {
   "cell_type": "code",
   "execution_count": null,
   "metadata": {},
   "outputs": [],
   "source": [
    "gn_dff = rightjoin(df_country_m, gn_dff, on = :country_code);"
   ]
  },
  {
   "cell_type": "code",
   "execution_count": null,
   "metadata": {},
   "outputs": [],
   "source": [
    "Wds.filltable!(\"place\", gn_dff[!, place_cols], clear_table = false)"
   ]
  },
  {
   "cell_type": "markdown",
   "metadata": {},
   "source": [
    "### Slovenien"
   ]
  },
  {
   "cell_type": "code",
   "execution_count": 60,
   "metadata": {},
   "outputs": [
    {
     "data": {
      "text/plain": [
       "\"C:\\\\Users\\\\georg\\\\Documents\\\\projekte-doc\\\\WiagDataSetup\\\\GeoNames\\\\SI\\\\SI.txt\""
      ]
     },
     "execution_count": 60,
     "metadata": {},
     "output_type": "execute_result"
    }
   ],
   "source": [
    "gn_filename = joinpath(gn_path, \"SI\", \"SI.txt\")"
   ]
  },
  {
   "cell_type": "code",
   "execution_count": 61,
   "metadata": {},
   "outputs": [],
   "source": [
    "gn_df = CSV.read(gn_filename, DataFrame, header=gn_header, types=gn_types);"
   ]
  },
  {
   "cell_type": "markdown",
   "metadata": {},
   "source": [
    "filtern nach Art des Features"
   ]
  },
  {
   "cell_type": "code",
   "execution_count": 74,
   "metadata": {},
   "outputs": [],
   "source": [
    "gn_dff = filter([:feature_class, :feature_code] => filter_places, gn_df);"
   ]
  },
  {
   "cell_type": "code",
   "execution_count": 75,
   "metadata": {},
   "outputs": [
    {
     "data": {
      "text/plain": [
       "(6659, 19)"
      ]
     },
     "execution_count": 75,
     "metadata": {},
     "output_type": "execute_result"
    }
   ],
   "source": [
    "size(gn_dff)"
   ]
  },
  {
   "cell_type": "markdown",
   "metadata": {},
   "source": [
    "Spalte für die Länder_ID einfügen"
   ]
  },
  {
   "cell_type": "code",
   "execution_count": 76,
   "metadata": {},
   "outputs": [],
   "source": [
    "gn_dff = rightjoin(df_country_m, gn_dff, on = :country_code);"
   ]
  },
  {
   "cell_type": "code",
   "execution_count": 78,
   "metadata": {},
   "outputs": [],
   "source": [
    "insertcols!(\n",
    "    gn_dff,\n",
    "    :id_in_source => gn_dff.geonames_id,\n",
    ");"
   ]
  },
  {
   "cell_type": "code",
   "execution_count": 79,
   "metadata": {},
   "outputs": [
    {
     "data": {
      "text/html": [
       "<div><div style = \"float: left;\"><span>5×5 DataFrame</span></div><div style = \"clear: both;\"></div></div><div class = \"data-frame\" style = \"overflow-x: scroll;\"><table class = \"data-frame\" style = \"margin-bottom: 6px;\"><thead><tr class = \"header\"><th class = \"rowNumber\" style = \"font-weight: bold; text-align: right;\">Row</th><th style = \"text-align: left;\">id_in_source</th><th style = \"text-align: left;\">geonames_id</th><th style = \"text-align: left;\">name</th><th style = \"text-align: left;\">country_code</th><th style = \"text-align: left;\">population</th></tr><tr class = \"subheader headerLastRow\"><th class = \"rowNumber\" style = \"font-weight: bold; text-align: right;\"></th><th title = \"Int64\" style = \"text-align: left;\">Int64</th><th title = \"Int64\" style = \"text-align: left;\">Int64</th><th title = \"String\" style = \"text-align: left;\">String</th><th title = \"String\" style = \"text-align: left;\">String</th><th title = \"Int64\" style = \"text-align: left;\">Int64</th></tr></thead><tbody><tr><td class = \"rowNumber\" style = \"font-weight: bold; text-align: right;\">1</td><td style = \"text-align: right;\">3186234</td><td style = \"text-align: right;\">3186234</td><td style = \"text-align: left;\">Rašica</td><td style = \"text-align: left;\">SI</td><td style = \"text-align: right;\">267</td></tr><tr><td class = \"rowNumber\" style = \"font-weight: bold; text-align: right;\">2</td><td style = \"text-align: right;\">3186239</td><td style = \"text-align: right;\">3186239</td><td style = \"text-align: left;\">Mrše</td><td style = \"text-align: left;\">SI</td><td style = \"text-align: right;\">29</td></tr><tr><td class = \"rowNumber\" style = \"font-weight: bold; text-align: right;\">3</td><td style = \"text-align: right;\">3186254</td><td style = \"text-align: right;\">3186254</td><td style = \"text-align: left;\">Žvirče</td><td style = \"text-align: left;\">SI</td><td style = \"text-align: right;\">125</td></tr><tr><td class = \"rowNumber\" style = \"font-weight: bold; text-align: right;\">4</td><td style = \"text-align: right;\">3186269</td><td style = \"text-align: right;\">3186269</td><td style = \"text-align: left;\">Žvab</td><td style = \"text-align: left;\">SI</td><td style = \"text-align: right;\">89</td></tr><tr><td class = \"rowNumber\" style = \"font-weight: bold; text-align: right;\">5</td><td style = \"text-align: right;\">3186270</td><td style = \"text-align: right;\">3186270</td><td style = \"text-align: left;\">Žužemberk</td><td style = \"text-align: left;\">SI</td><td style = \"text-align: right;\">1053</td></tr></tbody></table></div>"
      ],
      "text/latex": [
       "\\begin{tabular}{r|ccccc}\n",
       "\t& id\\_in\\_source & geonames\\_id & name & country\\_code & population\\\\\n",
       "\t\\hline\n",
       "\t& Int64 & Int64 & String & String & Int64\\\\\n",
       "\t\\hline\n",
       "\t1 & 3186234 & 3186234 & Rašica & SI & 267 \\\\\n",
       "\t2 & 3186239 & 3186239 & Mrše & SI & 29 \\\\\n",
       "\t3 & 3186254 & 3186254 & Žvirče & SI & 125 \\\\\n",
       "\t4 & 3186269 & 3186269 & Žvab & SI & 89 \\\\\n",
       "\t5 & 3186270 & 3186270 & Žužemberk & SI & 1053 \\\\\n",
       "\\end{tabular}\n"
      ],
      "text/plain": [
       "\u001b[1m5×5 DataFrame\u001b[0m\n",
       "\u001b[1m Row \u001b[0m│\u001b[1m id_in_source \u001b[0m\u001b[1m geonames_id \u001b[0m\u001b[1m name      \u001b[0m\u001b[1m country_code \u001b[0m\u001b[1m population \u001b[0m\n",
       "     │\u001b[90m Int64        \u001b[0m\u001b[90m Int64       \u001b[0m\u001b[90m String    \u001b[0m\u001b[90m String       \u001b[0m\u001b[90m Int64      \u001b[0m\n",
       "─────┼────────────────────────────────────────────────────────────────\n",
       "   1 │      3186234      3186234  Rašica     SI                   267\n",
       "   2 │      3186239      3186239  Mrše       SI                    29\n",
       "   3 │      3186254      3186254  Žvirče     SI                   125\n",
       "   4 │      3186269      3186269  Žvab       SI                    89\n",
       "   5 │      3186270      3186270  Žužemberk  SI                  1053"
      ]
     },
     "execution_count": 79,
     "metadata": {},
     "output_type": "execute_result"
    }
   ],
   "source": [
    "gn_dff[1:5, [:id_in_source, :geonames_id, :name, :country_code, :population]]"
   ]
  },
  {
   "cell_type": "code",
   "execution_count": 80,
   "metadata": {},
   "outputs": [
    {
     "name": "stderr",
     "output_type": "stream",
     "text": [
      "┌ Info: Rows inserted: 6659\n",
      "└ @ WiagDataSetup C:\\Users\\georg\\Documents\\projekte\\WiagDataSetup.jl\\src\\WiagDataSetup.jl:1216\n"
     ]
    },
    {
     "data": {
      "text/plain": [
       "6659"
      ]
     },
     "execution_count": 80,
     "metadata": {},
     "output_type": "execute_result"
    }
   ],
   "source": [
    "Wds.filltable!(\"place\", gn_dff[!, place_cols], clear_table = false)"
   ]
  },
  {
   "cell_type": "markdown",
   "metadata": {},
   "source": [
    "### Königsberg - Russland"
   ]
  },
  {
   "cell_type": "code",
   "execution_count": 69,
   "metadata": {},
   "outputs": [
    {
     "data": {
      "text/plain": [
       "\"C:\\\\Users\\\\georg\\\\Documents\\\\projekte-doc\\\\WiagDataSetup\\\\GeoNames\\\\RU\\\\RU.txt\""
      ]
     },
     "execution_count": 69,
     "metadata": {},
     "output_type": "execute_result"
    }
   ],
   "source": [
    "gn_filename = joinpath(gn_path, \"RU\", \"RU.txt\")"
   ]
  },
  {
   "cell_type": "code",
   "execution_count": 70,
   "metadata": {},
   "outputs": [],
   "source": [
    "gn_df = CSV.read(gn_filename, DataFrame, header=gn_header, types=gn_types);"
   ]
  },
  {
   "cell_type": "markdown",
   "metadata": {},
   "source": [
    "filtern nach Art des Features"
   ]
  },
  {
   "cell_type": "code",
   "execution_count": 71,
   "metadata": {},
   "outputs": [],
   "source": [
    "gn_dff = filter([:feature_class, :feature_code] => filter_places, gn_df);"
   ]
  },
  {
   "cell_type": "code",
   "execution_count": 72,
   "metadata": {},
   "outputs": [
    {
     "data": {
      "text/html": [
       "<div><div style = \"float: left;\"><span>5×4 DataFrame</span></div><div style = \"clear: both;\"></div></div><div class = \"data-frame\" style = \"overflow-x: scroll;\"><table class = \"data-frame\" style = \"margin-bottom: 6px;\"><thead><tr class = \"header\"><th class = \"rowNumber\" style = \"font-weight: bold; text-align: right;\">Row</th><th style = \"text-align: left;\">geonames_id</th><th style = \"text-align: left;\">name</th><th style = \"text-align: left;\">country_code</th><th style = \"text-align: left;\">population</th></tr><tr class = \"subheader headerLastRow\"><th class = \"rowNumber\" style = \"font-weight: bold; text-align: right;\"></th><th title = \"Int64\" style = \"text-align: left;\">Int64</th><th title = \"String\" style = \"text-align: left;\">String</th><th title = \"String\" style = \"text-align: left;\">String</th><th title = \"Int64\" style = \"text-align: left;\">Int64</th></tr></thead><tbody><tr><td class = \"rowNumber\" style = \"font-weight: bold; text-align: right;\">1</td><td style = \"text-align: right;\">451747</td><td style = \"text-align: left;\">Zyabrikovo</td><td style = \"text-align: left;\">RU</td><td style = \"text-align: right;\">0</td></tr><tr><td class = \"rowNumber\" style = \"font-weight: bold; text-align: right;\">2</td><td style = \"text-align: right;\">451748</td><td style = \"text-align: left;\">Znamenka</td><td style = \"text-align: left;\">RU</td><td style = \"text-align: right;\">0</td></tr><tr><td class = \"rowNumber\" style = \"font-weight: bold; text-align: right;\">3</td><td style = \"text-align: right;\">451749</td><td style = \"text-align: left;\">Zhukovo</td><td style = \"text-align: left;\">RU</td><td style = \"text-align: right;\">0</td></tr><tr><td class = \"rowNumber\" style = \"font-weight: bold; text-align: right;\">4</td><td style = \"text-align: right;\">451750</td><td style = \"text-align: left;\">Zhitovo</td><td style = \"text-align: left;\">RU</td><td style = \"text-align: right;\">0</td></tr><tr><td class = \"rowNumber\" style = \"font-weight: bold; text-align: right;\">5</td><td style = \"text-align: right;\">451751</td><td style = \"text-align: left;\">Zhitnikovo</td><td style = \"text-align: left;\">RU</td><td style = \"text-align: right;\">0</td></tr></tbody></table></div>"
      ],
      "text/latex": [
       "\\begin{tabular}{r|cccc}\n",
       "\t& geonames\\_id & name & country\\_code & population\\\\\n",
       "\t\\hline\n",
       "\t& Int64 & String & String & Int64\\\\\n",
       "\t\\hline\n",
       "\t1 & 451747 & Zyabrikovo & RU & 0 \\\\\n",
       "\t2 & 451748 & Znamenka & RU & 0 \\\\\n",
       "\t3 & 451749 & Zhukovo & RU & 0 \\\\\n",
       "\t4 & 451750 & Zhitovo & RU & 0 \\\\\n",
       "\t5 & 451751 & Zhitnikovo & RU & 0 \\\\\n",
       "\\end{tabular}\n"
      ],
      "text/plain": [
       "\u001b[1m5×4 DataFrame\u001b[0m\n",
       "\u001b[1m Row \u001b[0m│\u001b[1m geonames_id \u001b[0m\u001b[1m name       \u001b[0m\u001b[1m country_code \u001b[0m\u001b[1m population \u001b[0m\n",
       "     │\u001b[90m Int64       \u001b[0m\u001b[90m String     \u001b[0m\u001b[90m String       \u001b[0m\u001b[90m Int64      \u001b[0m\n",
       "─────┼───────────────────────────────────────────────────\n",
       "   1 │      451747  Zyabrikovo  RU                     0\n",
       "   2 │      451748  Znamenka    RU                     0\n",
       "   3 │      451749  Zhukovo     RU                     0\n",
       "   4 │      451750  Zhitovo     RU                     0\n",
       "   5 │      451751  Zhitnikovo  RU                     0"
      ]
     },
     "execution_count": 72,
     "metadata": {},
     "output_type": "execute_result"
    }
   ],
   "source": [
    "gn_dff[1:5, [:geonames_id, :name, :country_code, :population]]"
   ]
  },
  {
   "cell_type": "code",
   "execution_count": null,
   "metadata": {},
   "outputs": [],
   "source": [
    "size(gn_dff)"
   ]
  },
  {
   "cell_type": "markdown",
   "metadata": {},
   "source": [
    "Extrahiere Königsberg"
   ]
  },
  {
   "cell_type": "code",
   "execution_count": null,
   "metadata": {},
   "outputs": [],
   "source": [
    "gn_dff_kb = filter(:name => isequal(\"Kaliningrad\"), gn_dff)"
   ]
  },
  {
   "cell_type": "markdown",
   "metadata": {},
   "source": [
    "Spalte für die Länder_ID einfügen"
   ]
  },
  {
   "cell_type": "code",
   "execution_count": null,
   "metadata": {},
   "outputs": [],
   "source": [
    "gn_dff_kb = rightjoin(df_country_m, gn_dff_kb, on = :country_code);"
   ]
  },
  {
   "cell_type": "code",
   "execution_count": null,
   "metadata": {},
   "outputs": [],
   "source": [
    "Wds.filltable!(\"place\", gn_dff_kb[!, place_cols], clear_table = false)"
   ]
  },
  {
   "cell_type": "code",
   "execution_count": null,
   "metadata": {},
   "outputs": [],
   "source": [
    "DBInterface.execute(Wds.dbwiag, \"SELECT COUNT(*) FROM place\") |> DataFrame"
   ]
  },
  {
   "cell_type": "markdown",
   "metadata": {},
   "source": [
    "Extrahiere Znamensk, Sovetsk; ergänze um die neue Spalte `id_in_source` mit dem Inhalt von `geonames_id`.\n",
    "*2023-01-11*"
   ]
  },
  {
   "cell_type": "code",
   "execution_count": 82,
   "metadata": {},
   "outputs": [
    {
     "data": {
      "text/plain": [
       "filter_ru2 (generic function with 1 method)"
      ]
     },
     "execution_count": 82,
     "metadata": {},
     "output_type": "execute_result"
    }
   ],
   "source": [
    "filter_ru2(geonames_id) = geonames_id in (462322, 490068)"
   ]
  },
  {
   "cell_type": "code",
   "execution_count": 92,
   "metadata": {},
   "outputs": [],
   "source": [
    "gn_dff_ru2 = subset(gn_dff, :geonames_id => ByRow(filter_ru2));"
   ]
  },
  {
   "cell_type": "markdown",
   "metadata": {},
   "source": [
    "Spalte für die Länder_ID einfügen, sowie `id_in_source` und `place_type_id`"
   ]
  },
  {
   "cell_type": "code",
   "execution_count": 93,
   "metadata": {},
   "outputs": [
    {
     "data": {
      "text/html": [
       "<div><div style = \"float: left;\"><span>2×20 DataFrame</span></div><div style = \"clear: both;\"></div></div><div class = \"data-frame\" style = \"overflow-x: scroll;\"><table class = \"data-frame\" style = \"margin-bottom: 6px;\"><thead><tr class = \"header\"><th class = \"rowNumber\" style = \"font-weight: bold; text-align: right;\">Row</th><th style = \"text-align: left;\">country_id</th><th style = \"text-align: left;\">country_code</th><th style = \"text-align: left;\">geonames_id</th><th style = \"text-align: left;\">name</th><th style = \"text-align: left;\">ascii_name</th><th style = \"text-align: left;\">alternatenames</th><th style = \"text-align: left;\">latitude</th><th style = \"text-align: left;\">longitude</th><th style = \"text-align: left;\">feature_class</th><th style = \"text-align: left;\">feature_code</th><th style = \"text-align: left;\">cc2</th><th style = \"text-align: left;\">admin1_code</th><th style = \"text-align: left;\">admin2_code</th><th style = \"text-align: left;\">admin3_code</th><th style = \"text-align: left;\">admin4_code</th><th style = \"text-align: left;\">population</th><th style = \"text-align: left;\">elevation</th><th style = \"text-align: left;\">dem</th><th style = \"text-align: left;\">timezone</th><th style = \"text-align: left;\">modification_date</th></tr><tr class = \"subheader headerLastRow\"><th class = \"rowNumber\" style = \"font-weight: bold; text-align: right;\"></th><th title = \"Union{Missing, Int32}\" style = \"text-align: left;\">Int32?</th><th title = \"String\" style = \"text-align: left;\">String</th><th title = \"Int64\" style = \"text-align: left;\">Int64</th><th title = \"String\" style = \"text-align: left;\">String</th><th title = \"Union{Missing, String}\" style = \"text-align: left;\">String?</th><th title = \"Union{Missing, String}\" style = \"text-align: left;\">String?</th><th title = \"Float64\" style = \"text-align: left;\">Float64</th><th title = \"Float64\" style = \"text-align: left;\">Float64</th><th title = \"String\" style = \"text-align: left;\">String</th><th title = \"String\" style = \"text-align: left;\">String</th><th title = \"Union{Missing, String}\" style = \"text-align: left;\">String?</th><th title = \"Union{Missing, String}\" style = \"text-align: left;\">String?</th><th title = \"Union{Missing, String}\" style = \"text-align: left;\">String?</th><th title = \"Union{Missing, String}\" style = \"text-align: left;\">String?</th><th title = \"Union{Missing, String}\" style = \"text-align: left;\">String?</th><th title = \"Int64\" style = \"text-align: left;\">Int64</th><th title = \"Union{Missing, Int64}\" style = \"text-align: left;\">Int64?</th><th title = \"Int64\" style = \"text-align: left;\">Int64</th><th title = \"Union{Missing, String}\" style = \"text-align: left;\">String?</th><th title = \"String\" style = \"text-align: left;\">String</th></tr></thead><tbody><tr><td class = \"rowNumber\" style = \"font-weight: bold; text-align: right;\">1</td><td style = \"text-align: right;\">643</td><td style = \"text-align: left;\">RU</td><td style = \"text-align: right;\">462322</td><td style = \"text-align: left;\">Znamensk</td><td style = \"text-align: left;\">Znamensk</td><td style = \"text-align: left;\">Snamensk,Velau,Veluva,Vėluva,Wehlau,Znamensk,Znamenskas,Znamiensk,ci na mian si ke,znamynsk,Знаменск,زنامينسك,兹纳缅斯克</td><td style = \"text-align: right;\">54.614</td><td style = \"text-align: right;\">21.2272</td><td style = \"text-align: left;\">P</td><td style = \"text-align: left;\">PPL</td><td style = \"font-style: italic; text-align: left;\">missing</td><td style = \"text-align: left;\">23</td><td style = \"font-style: italic; text-align: left;\">missing</td><td style = \"font-style: italic; text-align: left;\">missing</td><td style = \"font-style: italic; text-align: left;\">missing</td><td style = \"text-align: right;\">4600</td><td style = \"font-style: italic; text-align: right;\">missing</td><td style = \"text-align: right;\">7</td><td style = \"text-align: left;\">Europe/Kaliningrad</td><td style = \"text-align: left;\">2016-02-26</td></tr><tr><td class = \"rowNumber\" style = \"font-weight: bold; text-align: right;\">2</td><td style = \"text-align: right;\">643</td><td style = \"text-align: left;\">RU</td><td style = \"text-align: right;\">490068</td><td style = \"text-align: left;\">Sovetsk</td><td style = \"text-align: left;\">Sovetsk</td><td style = \"text-align: left;\">Saveck,Sovetk,Sovets&apos;k,Sovetsk,Sovetsk i Kaliningrad oblast,Sovetska,Sovetskas,Sovețk,Sovietsk,Sovjetsk,Sovyetsk,Sowetsk,Sowieck,Sowjetsk,Szovjetszk,Til&apos;zit,Tilsa,Tilsit,Tilze,Tilžė,Til’zit,sobecheukeu,sovuietsuku,su wei ai ci ke,swbtsq,swftsk,swwtsk  kalynyngrad,Савецк,Советск,Совєтськ,Совјетск,סובטסק,سوفتسك,سووتسک، کالینینگراد,ソヴィェツク,苏维埃茨克,소베츠크</td><td style = \"text-align: right;\">55.0839</td><td style = \"text-align: right;\">21.8785</td><td style = \"text-align: left;\">P</td><td style = \"text-align: left;\">PPLA2</td><td style = \"font-style: italic; text-align: left;\">missing</td><td style = \"text-align: left;\">23</td><td style = \"font-style: italic; text-align: left;\">missing</td><td style = \"font-style: italic; text-align: left;\">missing</td><td style = \"font-style: italic; text-align: left;\">missing</td><td style = \"text-align: right;\">43309</td><td style = \"font-style: italic; text-align: right;\">missing</td><td style = \"text-align: right;\">13</td><td style = \"text-align: left;\">Europe/Kaliningrad</td><td style = \"text-align: left;\">2019-09-05</td></tr></tbody></table></div>"
      ],
      "text/latex": [
       "\\begin{tabular}{r|ccccccc}\n",
       "\t& country\\_id & country\\_code & geonames\\_id & name & ascii\\_name & alternatenames & \\\\\n",
       "\t\\hline\n",
       "\t& Int32? & String & Int64 & String & String? & String? & \\\\\n",
       "\t\\hline\n",
       "\t1 & 643 & RU & 462322 & Znamensk & Znamensk & Snamensk,Velau,Veluva,Vėluva,Wehlau,Znamensk,Znamenskas,Znamiensk,ci na mian si ke,znamynsk,Знаменск,زنامينسك,兹纳缅斯克 & $\\dots$ \\\\\n",
       "\t2 & 643 & RU & 490068 & Sovetsk & Sovetsk & Saveck,Sovetk,Sovets'k,Sovetsk,Sovetsk i Kaliningrad oblast,Sovetska,Sovetskas,Sovețk,Sovietsk,Sovjetsk,Sovyetsk,Sowetsk,Sowieck,Sowjetsk,Szovjetszk,Til'zit,Tilsa,Tilsit,Tilze,Tilžė,Til’zit,sobecheukeu,sovuietsuku,su wei ai ci ke,swbtsq,swftsk,swwtsk  kalynyngrad,Савецк,Советск,Совєтськ,Совјетск,סובטסק,سوفتسك,سووتسک، کالینینگراد,ソヴィェツク,苏维埃茨克,소베츠크 & $\\dots$ \\\\\n",
       "\\end{tabular}\n"
      ],
      "text/plain": [
       "\u001b[1m2×20 DataFrame\u001b[0m\n",
       "\u001b[1m Row \u001b[0m│\u001b[1m country_id \u001b[0m\u001b[1m country_code \u001b[0m\u001b[1m geonames_id \u001b[0m\u001b[1m name     \u001b[0m\u001b[1m ascii_name \u001b[0m\u001b[1m alternaten\u001b[0m ⋯\n",
       "     │\u001b[90m Int32?     \u001b[0m\u001b[90m String       \u001b[0m\u001b[90m Int64       \u001b[0m\u001b[90m String   \u001b[0m\u001b[90m String?    \u001b[0m\u001b[90m String?   \u001b[0m ⋯\n",
       "─────┼──────────────────────────────────────────────────────────────────────────\n",
       "   1 │        643  RU                 462322  Znamensk  Znamensk    Snamensk,V ⋯\n",
       "   2 │        643  RU                 490068  Sovetsk   Sovetsk     Saveck,Sov\n",
       "\u001b[36m                                                              15 columns omitted\u001b[0m"
      ]
     },
     "execution_count": 93,
     "metadata": {},
     "output_type": "execute_result"
    }
   ],
   "source": [
    "gn_dff_ru2 = rightjoin(df_country_m, gn_dff_ru2, on = :country_code)"
   ]
  },
  {
   "cell_type": "code",
   "execution_count": 94,
   "metadata": {},
   "outputs": [
    {
     "data": {
      "text/html": [
       "<div><div style = \"float: left;\"><span>2×21 DataFrame</span></div><div style = \"clear: both;\"></div></div><div class = \"data-frame\" style = \"overflow-x: scroll;\"><table class = \"data-frame\" style = \"margin-bottom: 6px;\"><thead><tr class = \"header\"><th class = \"rowNumber\" style = \"font-weight: bold; text-align: right;\">Row</th><th style = \"text-align: left;\">country_id</th><th style = \"text-align: left;\">country_code</th><th style = \"text-align: left;\">geonames_id</th><th style = \"text-align: left;\">name</th><th style = \"text-align: left;\">ascii_name</th><th style = \"text-align: left;\">alternatenames</th><th style = \"text-align: left;\">latitude</th><th style = \"text-align: left;\">longitude</th><th style = \"text-align: left;\">feature_class</th><th style = \"text-align: left;\">feature_code</th><th style = \"text-align: left;\">cc2</th><th style = \"text-align: left;\">admin1_code</th><th style = \"text-align: left;\">admin2_code</th><th style = \"text-align: left;\">admin3_code</th><th style = \"text-align: left;\">admin4_code</th><th style = \"text-align: left;\">population</th><th style = \"text-align: left;\">elevation</th><th style = \"text-align: left;\">dem</th><th style = \"text-align: left;\">timezone</th><th style = \"text-align: left;\">modification_date</th><th style = \"text-align: left;\">id_in_source</th></tr><tr class = \"subheader headerLastRow\"><th class = \"rowNumber\" style = \"font-weight: bold; text-align: right;\"></th><th title = \"Union{Missing, Int32}\" style = \"text-align: left;\">Int32?</th><th title = \"String\" style = \"text-align: left;\">String</th><th title = \"Int64\" style = \"text-align: left;\">Int64</th><th title = \"String\" style = \"text-align: left;\">String</th><th title = \"Union{Missing, String}\" style = \"text-align: left;\">String?</th><th title = \"Union{Missing, String}\" style = \"text-align: left;\">String?</th><th title = \"Float64\" style = \"text-align: left;\">Float64</th><th title = \"Float64\" style = \"text-align: left;\">Float64</th><th title = \"String\" style = \"text-align: left;\">String</th><th title = \"String\" style = \"text-align: left;\">String</th><th title = \"Union{Missing, String}\" style = \"text-align: left;\">String?</th><th title = \"Union{Missing, String}\" style = \"text-align: left;\">String?</th><th title = \"Union{Missing, String}\" style = \"text-align: left;\">String?</th><th title = \"Union{Missing, String}\" style = \"text-align: left;\">String?</th><th title = \"Union{Missing, String}\" style = \"text-align: left;\">String?</th><th title = \"Int64\" style = \"text-align: left;\">Int64</th><th title = \"Union{Missing, Int64}\" style = \"text-align: left;\">Int64?</th><th title = \"Int64\" style = \"text-align: left;\">Int64</th><th title = \"Union{Missing, String}\" style = \"text-align: left;\">String?</th><th title = \"String\" style = \"text-align: left;\">String</th><th title = \"String\" style = \"text-align: left;\">String</th></tr></thead><tbody><tr><td class = \"rowNumber\" style = \"font-weight: bold; text-align: right;\">1</td><td style = \"text-align: right;\">643</td><td style = \"text-align: left;\">RU</td><td style = \"text-align: right;\">462322</td><td style = \"text-align: left;\">Znamensk</td><td style = \"text-align: left;\">Znamensk</td><td style = \"text-align: left;\">Snamensk,Velau,Veluva,Vėluva,Wehlau,Znamensk,Znamenskas,Znamiensk,ci na mian si ke,znamynsk,Знаменск,زنامينسك,兹纳缅斯克</td><td style = \"text-align: right;\">54.614</td><td style = \"text-align: right;\">21.2272</td><td style = \"text-align: left;\">P</td><td style = \"text-align: left;\">PPL</td><td style = \"font-style: italic; text-align: left;\">missing</td><td style = \"text-align: left;\">23</td><td style = \"font-style: italic; text-align: left;\">missing</td><td style = \"font-style: italic; text-align: left;\">missing</td><td style = \"font-style: italic; text-align: left;\">missing</td><td style = \"text-align: right;\">4600</td><td style = \"font-style: italic; text-align: right;\">missing</td><td style = \"text-align: right;\">7</td><td style = \"text-align: left;\">Europe/Kaliningrad</td><td style = \"text-align: left;\">2016-02-26</td><td style = \"text-align: left;\">462322</td></tr><tr><td class = \"rowNumber\" style = \"font-weight: bold; text-align: right;\">2</td><td style = \"text-align: right;\">643</td><td style = \"text-align: left;\">RU</td><td style = \"text-align: right;\">490068</td><td style = \"text-align: left;\">Sovetsk</td><td style = \"text-align: left;\">Sovetsk</td><td style = \"text-align: left;\">Saveck,Sovetk,Sovets&apos;k,Sovetsk,Sovetsk i Kaliningrad oblast,Sovetska,Sovetskas,Sovețk,Sovietsk,Sovjetsk,Sovyetsk,Sowetsk,Sowieck,Sowjetsk,Szovjetszk,Til&apos;zit,Tilsa,Tilsit,Tilze,Tilžė,Til’zit,sobecheukeu,sovuietsuku,su wei ai ci ke,swbtsq,swftsk,swwtsk  kalynyngrad,Савецк,Советск,Совєтськ,Совјетск,סובטסק,سوفتسك,سووتسک، کالینینگراد,ソヴィェツク,苏维埃茨克,소베츠크</td><td style = \"text-align: right;\">55.0839</td><td style = \"text-align: right;\">21.8785</td><td style = \"text-align: left;\">P</td><td style = \"text-align: left;\">PPLA2</td><td style = \"font-style: italic; text-align: left;\">missing</td><td style = \"text-align: left;\">23</td><td style = \"font-style: italic; text-align: left;\">missing</td><td style = \"font-style: italic; text-align: left;\">missing</td><td style = \"font-style: italic; text-align: left;\">missing</td><td style = \"text-align: right;\">43309</td><td style = \"font-style: italic; text-align: right;\">missing</td><td style = \"text-align: right;\">13</td><td style = \"text-align: left;\">Europe/Kaliningrad</td><td style = \"text-align: left;\">2019-09-05</td><td style = \"text-align: left;\">490068</td></tr></tbody></table></div>"
      ],
      "text/latex": [
       "\\begin{tabular}{r|ccccccc}\n",
       "\t& country\\_id & country\\_code & geonames\\_id & name & ascii\\_name & alternatenames & \\\\\n",
       "\t\\hline\n",
       "\t& Int32? & String & Int64 & String & String? & String? & \\\\\n",
       "\t\\hline\n",
       "\t1 & 643 & RU & 462322 & Znamensk & Znamensk & Snamensk,Velau,Veluva,Vėluva,Wehlau,Znamensk,Znamenskas,Znamiensk,ci na mian si ke,znamynsk,Знаменск,زنامينسك,兹纳缅斯克 & $\\dots$ \\\\\n",
       "\t2 & 643 & RU & 490068 & Sovetsk & Sovetsk & Saveck,Sovetk,Sovets'k,Sovetsk,Sovetsk i Kaliningrad oblast,Sovetska,Sovetskas,Sovețk,Sovietsk,Sovjetsk,Sovyetsk,Sowetsk,Sowieck,Sowjetsk,Szovjetszk,Til'zit,Tilsa,Tilsit,Tilze,Tilžė,Til’zit,sobecheukeu,sovuietsuku,su wei ai ci ke,swbtsq,swftsk,swwtsk  kalynyngrad,Савецк,Советск,Совєтськ,Совјетск,סובטסק,سوفتسك,سووتسک، کالینینگراد,ソヴィェツク,苏维埃茨克,소베츠크 & $\\dots$ \\\\\n",
       "\\end{tabular}\n"
      ],
      "text/plain": [
       "\u001b[1m2×21 DataFrame\u001b[0m\n",
       "\u001b[1m Row \u001b[0m│\u001b[1m country_id \u001b[0m\u001b[1m country_code \u001b[0m\u001b[1m geonames_id \u001b[0m\u001b[1m name     \u001b[0m\u001b[1m ascii_name \u001b[0m\u001b[1m alternaten\u001b[0m ⋯\n",
       "     │\u001b[90m Int32?     \u001b[0m\u001b[90m String       \u001b[0m\u001b[90m Int64       \u001b[0m\u001b[90m String   \u001b[0m\u001b[90m String?    \u001b[0m\u001b[90m String?   \u001b[0m ⋯\n",
       "─────┼──────────────────────────────────────────────────────────────────────────\n",
       "   1 │        643  RU                 462322  Znamensk  Znamensk    Snamensk,V ⋯\n",
       "   2 │        643  RU                 490068  Sovetsk   Sovetsk     Saveck,Sov\n",
       "\u001b[36m                                                              16 columns omitted\u001b[0m"
      ]
     },
     "execution_count": 94,
     "metadata": {},
     "output_type": "execute_result"
    }
   ],
   "source": [
    "transform!(gn_dff_ru2, :geonames_id => ByRow(string) => :id_in_source)"
   ]
  },
  {
   "cell_type": "code",
   "execution_count": 136,
   "metadata": {},
   "outputs": [],
   "source": [
    "insertcols!(gn_dff_ru2, :place_type_id => 1);"
   ]
  },
  {
   "cell_type": "code",
   "execution_count": 95,
   "metadata": {},
   "outputs": [
    {
     "name": "stderr",
     "output_type": "stream",
     "text": [
      "┌ Info: Rows inserted: 2\n",
      "└ @ WiagDataSetup C:\\Users\\georg\\Documents\\projekte\\WiagDataSetup.jl\\src\\WiagDataSetup.jl:1216\n"
     ]
    },
    {
     "data": {
      "text/plain": [
       "2"
      ]
     },
     "execution_count": 95,
     "metadata": {},
     "output_type": "execute_result"
    }
   ],
   "source": [
    "Wds.filltable!(\"place\", select(gn_dff_ru2, place_cols), clear_table = false)"
   ]
  },
  {
   "cell_type": "code",
   "execution_count": null,
   "metadata": {},
   "outputs": [],
   "source": [
    "DBInterface.execute(Wds.dbwiag, \"SELECT COUNT(*) FROM place\") |> DataFrame"
   ]
  },
  {
   "cell_type": "markdown",
   "metadata": {},
   "source": [
    "### Fremdsprachliche Namen"
   ]
  },
  {
   "cell_type": "code",
   "execution_count": 17,
   "metadata": {},
   "outputs": [],
   "source": [
    "using CSV, DataFrames, MySQL"
   ]
  },
  {
   "cell_type": "code",
   "execution_count": 18,
   "metadata": {},
   "outputs": [
    {
     "data": {
      "text/plain": [
       "\"C:\\\\Users\\\\georg\\\\Documents\\\\projekte-doc\\\\WiagDataSetup\\\\GeoNames\\\\alternatenames\""
      ]
     },
     "execution_count": 18,
     "metadata": {},
     "output_type": "execute_result"
    }
   ],
   "source": [
    "gnl_path = \"C:\\\\Users\\\\georg\\\\Documents\\\\projekte-doc\\\\WiagDataSetup\\\\GeoNames\\\\alternatenames\""
   ]
  },
  {
   "cell_type": "code",
   "execution_count": 19,
   "metadata": {},
   "outputs": [],
   "source": [
    "gnl_header = [\"id\", \"geonames_id\", \"lang\", \"label\", \n",
    "              \"is_preferred\", \"isShort\", \"isColloquial\", \"is_historic\", \"from\", \"to\"];\n",
    "\n",
    "gnl_types = [Int, Int, String, String,\n",
    "             Int, Int, Int, Int, String, String];"
   ]
  },
  {
   "cell_type": "code",
   "execution_count": 20,
   "metadata": {},
   "outputs": [],
   "source": [
    "lang_codes = [\"la\", \"fr\", \"cz\", \"de\", \"pl\", \"en\", \"nl\", \"it\"];"
   ]
  },
  {
   "cell_type": "code",
   "execution_count": 21,
   "metadata": {},
   "outputs": [
    {
     "data": {
      "text/plain": [
       "filter_lang (generic function with 1 method)"
      ]
     },
     "execution_count": 21,
     "metadata": {},
     "output_type": "execute_result"
    }
   ],
   "source": [
    "filter_lang(lc) = !ismissing(lc) && lc in lang_codes"
   ]
  },
  {
   "cell_type": "code",
   "execution_count": 22,
   "metadata": {},
   "outputs": [],
   "source": [
    "country_codes = [\"DE\", \"NL\", \"BE\", \"FR\", \"IT\", \"CH\", \"AT\", \"DK\",\n",
    "    \"PL\", \"LU\", \"CZ\", \"LI\", \"LV\", \"LT\", \"HR\", \"EE\", \"RU\"];"
   ]
  },
  {
   "cell_type": "markdown",
   "metadata": {},
   "source": [
    "### Schleife über die Länder"
   ]
  },
  {
   "cell_type": "markdown",
   "metadata": {},
   "source": [
    "Orte einlesen, um nur relevante Namen zu übernehmen"
   ]
  },
  {
   "cell_type": "code",
   "execution_count": 287,
   "metadata": {},
   "outputs": [],
   "source": [
    "sql = \"SELECT id as place_id, name, geonames_id \" *\n",
    "      \"FROM place WHERE place_type_id = 1\"\n",
    "p_df = DBInterface.execute(Wds.dbwiag, sql) |> DataFrame;"
   ]
  },
  {
   "cell_type": "code",
   "execution_count": 290,
   "metadata": {},
   "outputs": [
    {
     "data": {
      "text/plain": [
       "(391240, 3)"
      ]
     },
     "execution_count": 290,
     "metadata": {},
     "output_type": "execute_result"
    }
   ],
   "source": [
    "size(p_df)"
   ]
  },
  {
   "cell_type": "code",
   "execution_count": 291,
   "metadata": {},
   "outputs": [
    {
     "data": {
      "text/plain": [
       "labels_by_country (generic function with 1 method)"
      ]
     },
     "execution_count": 291,
     "metadata": {},
     "output_type": "execute_result"
    }
   ],
   "source": [
    "function labels_by_country(cc)\n",
    "    gnl_filename = joinpath(gnl_path, cc, cc * \".txt\")\n",
    "    gnl_df = CSV.read(gnl_filename, DataFrame, header=gnl_header, types=gnl_types);\n",
    "    gnl_df = filter(:lang => filter_lang, gnl_df);\n",
    "    gnl_p_df = innerjoin(gnl_df, p_df, on = :geonames_id);\n",
    "    @info cc\n",
    "    n_cc = Wds.filltable!(\"place_label\", select(gnl_p_df, Not([:isShort, :isColloquial, :from, :to, :name])))    \n",
    "end\n",
    "    "
   ]
  },
  {
   "cell_type": "code",
   "execution_count": 294,
   "metadata": {},
   "outputs": [
    {
     "name": "stderr",
     "output_type": "stream",
     "text": [
      "┌ Info: DE\n",
      "└ @ Main In[291]:6\n",
      "┌ Info: Rows inserted: 4364\n",
      "└ @ WiagDataSetup C:\\Users\\georg\\Documents\\projekte\\WiagDataSetup.jl\\src\\WiagDataSetup.jl:1209\n",
      "┌ Info: NL\n",
      "└ @ Main In[291]:6\n",
      "┌ Info: Rows inserted: 1848\n",
      "└ @ WiagDataSetup C:\\Users\\georg\\Documents\\projekte\\WiagDataSetup.jl\\src\\WiagDataSetup.jl:1209\n",
      "┌ Info: BE\n",
      "└ @ Main In[291]:6\n",
      "┌ Info: Rows inserted: 862\n",
      "└ @ WiagDataSetup C:\\Users\\georg\\Documents\\projekte\\WiagDataSetup.jl\\src\\WiagDataSetup.jl:1209\n",
      "┌ Info: FR\n",
      "└ @ Main In[291]:6\n",
      "┌ Info: 10000\n",
      "└ @ WiagDataSetup C:\\Users\\georg\\Documents\\projekte\\WiagDataSetup.jl\\src\\WiagDataSetup.jl:1186\n",
      "┌ Info: 20000\n",
      "└ @ WiagDataSetup C:\\Users\\georg\\Documents\\projekte\\WiagDataSetup.jl\\src\\WiagDataSetup.jl:1186\n",
      "┌ Info: 30000\n",
      "└ @ WiagDataSetup C:\\Users\\georg\\Documents\\projekte\\WiagDataSetup.jl\\src\\WiagDataSetup.jl:1186\n",
      "┌ Info: Rows inserted: 33108\n",
      "└ @ WiagDataSetup C:\\Users\\georg\\Documents\\projekte\\WiagDataSetup.jl\\src\\WiagDataSetup.jl:1209\n",
      "┌ Info: IT\n",
      "└ @ Main In[291]:6\n",
      "┌ Info: 10000\n",
      "└ @ WiagDataSetup C:\\Users\\georg\\Documents\\projekte\\WiagDataSetup.jl\\src\\WiagDataSetup.jl:1186\n",
      "┌ Info: 20000\n",
      "└ @ WiagDataSetup C:\\Users\\georg\\Documents\\projekte\\WiagDataSetup.jl\\src\\WiagDataSetup.jl:1186\n",
      "┌ Info: 30000\n",
      "└ @ WiagDataSetup C:\\Users\\georg\\Documents\\projekte\\WiagDataSetup.jl\\src\\WiagDataSetup.jl:1186\n",
      "┌ Info: Rows inserted: 32162\n",
      "└ @ WiagDataSetup C:\\Users\\georg\\Documents\\projekte\\WiagDataSetup.jl\\src\\WiagDataSetup.jl:1209\n",
      "┌ Info: CH\n",
      "└ @ Main In[291]:6\n",
      "┌ Info: Rows inserted: 6277\n",
      "└ @ WiagDataSetup C:\\Users\\georg\\Documents\\projekte\\WiagDataSetup.jl\\src\\WiagDataSetup.jl:1209\n",
      "┌ Info: AT\n",
      "└ @ Main In[291]:6\n",
      "┌ Info: Rows inserted: 728\n",
      "└ @ WiagDataSetup C:\\Users\\georg\\Documents\\projekte\\WiagDataSetup.jl\\src\\WiagDataSetup.jl:1209\n",
      "┌ Info: DK\n",
      "└ @ Main In[291]:6\n",
      "┌ Info: Rows inserted: 669\n",
      "└ @ WiagDataSetup C:\\Users\\georg\\Documents\\projekte\\WiagDataSetup.jl\\src\\WiagDataSetup.jl:1209\n",
      "┌ Info: PL\n",
      "└ @ Main In[291]:6\n",
      "┌ Info: Rows inserted: 3859\n",
      "└ @ WiagDataSetup C:\\Users\\georg\\Documents\\projekte\\WiagDataSetup.jl\\src\\WiagDataSetup.jl:1209\n",
      "┌ Info: LU\n",
      "└ @ Main In[291]:6\n",
      "┌ Info: Rows inserted: 203\n",
      "└ @ WiagDataSetup C:\\Users\\georg\\Documents\\projekte\\WiagDataSetup.jl\\src\\WiagDataSetup.jl:1209\n",
      "┌ Info: CZ\n",
      "└ @ Main In[291]:6\n",
      "┌ Info: Rows inserted: 1240\n",
      "└ @ WiagDataSetup C:\\Users\\georg\\Documents\\projekte\\WiagDataSetup.jl\\src\\WiagDataSetup.jl:1209\n",
      "┌ Info: LI\n",
      "└ @ Main In[291]:6\n",
      "┌ Info: Rows inserted: 72\n",
      "└ @ WiagDataSetup C:\\Users\\georg\\Documents\\projekte\\WiagDataSetup.jl\\src\\WiagDataSetup.jl:1209\n",
      "┌ Info: LV\n",
      "└ @ Main In[291]:6\n",
      "┌ Info: Rows inserted: 529\n",
      "└ @ WiagDataSetup C:\\Users\\georg\\Documents\\projekte\\WiagDataSetup.jl\\src\\WiagDataSetup.jl:1209\n",
      "┌ Info: LT\n",
      "└ @ Main In[291]:6\n",
      "┌ Info: Rows inserted: 787\n",
      "└ @ WiagDataSetup C:\\Users\\georg\\Documents\\projekte\\WiagDataSetup.jl\\src\\WiagDataSetup.jl:1209\n",
      "┌ Info: HR\n",
      "└ @ Main In[291]:6\n",
      "┌ Info: Rows inserted: 481\n",
      "└ @ WiagDataSetup C:\\Users\\georg\\Documents\\projekte\\WiagDataSetup.jl\\src\\WiagDataSetup.jl:1209\n",
      "┌ Info: EE\n",
      "└ @ Main In[291]:6\n",
      "┌ Info: Rows inserted: 663\n",
      "└ @ WiagDataSetup C:\\Users\\georg\\Documents\\projekte\\WiagDataSetup.jl\\src\\WiagDataSetup.jl:1209\n",
      "┌ Info: RU\n",
      "└ @ Main In[291]:6\n",
      "┌ Info: Rows inserted: 11\n",
      "└ @ WiagDataSetup C:\\Users\\georg\\Documents\\projekte\\WiagDataSetup.jl\\src\\WiagDataSetup.jl:1209\n"
     ]
    },
    {
     "data": {
      "text/plain": [
       "17-element Vector{Int64}:\n",
       "  4364\n",
       "  1848\n",
       "   862\n",
       " 33108\n",
       " 32162\n",
       "  6277\n",
       "   728\n",
       "   669\n",
       "  3859\n",
       "   203\n",
       "  1240\n",
       "    72\n",
       "   529\n",
       "   787\n",
       "   481\n",
       "   663\n",
       "    11"
      ]
     },
     "execution_count": 294,
     "metadata": {},
     "output_type": "execute_result"
    }
   ],
   "source": [
    "labels_by_country.(country_codes)"
   ]
  },
  {
   "cell_type": "code",
   "execution_count": null,
   "metadata": {},
   "outputs": [],
   "source": []
  },
  {
   "cell_type": "markdown",
   "metadata": {},
   "source": [
    "### Deutsche Namen eintragen\n",
    "\n",
    "Trage in `place` für Orte in Deutschland, Österreich und der Schweiz den deutschen Namen ein."
   ]
  },
  {
   "cell_type": "code",
   "execution_count": null,
   "metadata": {},
   "outputs": [],
   "source": [
    "using MySQL, DataFrames"
   ]
  },
  {
   "cell_type": "code",
   "execution_count": null,
   "metadata": {},
   "outputs": [],
   "source": [
    "db_exec(sql) = DBInterface.execute(Wds.dbwiag, sql) |> DataFrame"
   ]
  },
  {
   "cell_type": "code",
   "execution_count": null,
   "metadata": {},
   "outputs": [],
   "source": [
    "sql = \"SELECT label, p.name FROM place_label AS pl \" *\n",
    "\"JOIN place AS p ON pl.geonames_id = p.geonames_id \" *\n",
    "\"WHERE pl.lang = 'de' AND p.country_code = 'DE' \" *\n",
    "\"AND pl.label <> p.name \" *\n",
    "\"LIMIT 12\"\n",
    "df_name_udt = db_exec(sql)"
   ]
  },
  {
   "cell_type": "code",
   "execution_count": null,
   "metadata": {},
   "outputs": [],
   "source": [
    "sql = \"SELECT count(*) FROM place_label AS pl \" *\n",
    "\"JOIN place AS p ON pl.geonames_id = p.geonames_id \" *\n",
    "\"WHERE pl.lang = 'de' AND p.country_code = 'DE' \" *\n",
    "\"AND pl.label <> p.name \"\n",
    "n = db_exec(sql)"
   ]
  },
  {
   "cell_type": "markdown",
   "metadata": {},
   "source": [
    "Es scheint im Allgemeinen keine gute Idee zu sein, generell den deutschen Eintrag aus `place_label` zu übernehmen. Man wird einzelne Orte evtl. redaktionell bearbeiten müssen, indem man einen deutschen Namen in `place_label` als bevorzugten Namen auszeichnet."
   ]
  },
  {
   "cell_type": "markdown",
   "metadata": {},
   "source": [
    "## Neue Organisation der Orte\n",
    "Unterscheide Orte nach ihren Quellen (analog zu Items) (Tabelle `place_type`)"
   ]
  },
  {
   "cell_type": "markdown",
   "metadata": {},
   "source": [
    "### Tabelle `place_type`\n",
    "über DbSchema"
   ]
  },
  {
   "cell_type": "code",
   "execution_count": null,
   "metadata": {},
   "outputs": [],
   "source": [
    "out_path = \"C:\\\\Users\\\\georg\\\\Documents\\\\projekte-doc\\\\WiagDataSetup\\\\data_sql\""
   ]
  },
  {
   "cell_type": "code",
   "execution_count": 11,
   "metadata": {},
   "outputs": [],
   "source": [
    "using DataFrames, Dates"
   ]
  },
  {
   "cell_type": "code",
   "execution_count": 12,
   "metadata": {},
   "outputs": [],
   "source": [
    "df_place_type = DataFrame();"
   ]
  },
  {
   "cell_type": "code",
   "execution_count": 13,
   "metadata": {},
   "outputs": [
    {
     "data": {
      "text/html": [
       "<div class=\"data-frame\"><p>1 rows × 9 columns (omitted printing of 3 columns)</p><table class=\"data-frame\"><thead><tr><th></th><th>id</th><th>name</th><th>note</th><th>created_by</th><th>date_created</th><th>changed_by</th></tr><tr><th></th><th title=\"Int64\">Int64</th><th title=\"String\">String</th><th title=\"String\">String</th><th title=\"Int64\">Int64</th><th title=\"DateTime\">DateTime</th><th title=\"Int64\">Int64</th></tr></thead><tbody><tr><th>1</th><td>1</td><td>Ort GN</td><td>Orte aus GeoNames</td><td>7</td><td>2022-04-11T09:06:26.483</td><td>7</td></tr></tbody></table></div>"
      ],
      "text/latex": [
       "\\begin{tabular}{r|ccccccc}\n",
       "\t& id & name & note & created\\_by & date\\_created & changed\\_by & \\\\\n",
       "\t\\hline\n",
       "\t& Int64 & String & String & Int64 & DateTime & Int64 & \\\\\n",
       "\t\\hline\n",
       "\t1 & 1 & Ort GN & Orte aus GeoNames & 7 & 2022-04-11T09:06:26.483 & 7 & $\\dots$ \\\\\n",
       "\\end{tabular}\n"
      ],
      "text/plain": [
       "\u001b[1m1×9 DataFrame\u001b[0m\n",
       "\u001b[1m Row \u001b[0m│\u001b[1m id    \u001b[0m\u001b[1m name   \u001b[0m\u001b[1m note              \u001b[0m\u001b[1m created_by \u001b[0m\u001b[1m date_created            \u001b[0m\u001b[1m \u001b[0m ⋯\n",
       "\u001b[1m     \u001b[0m│\u001b[90m Int64 \u001b[0m\u001b[90m String \u001b[0m\u001b[90m String            \u001b[0m\u001b[90m Int64      \u001b[0m\u001b[90m DateTime                \u001b[0m\u001b[90m \u001b[0m ⋯\n",
       "─────┼──────────────────────────────────────────────────────────────────────────\n",
       "   1 │     1  Ort GN  Orte aus GeoNames           7  2022-04-11T09:06:26.483   ⋯\n",
       "\u001b[36m                                                               4 columns omitted\u001b[0m"
      ]
     },
     "execution_count": 13,
     "metadata": {},
     "output_type": "execute_result"
    }
   ],
   "source": [
    "insertcols!(df_place_type,\n",
    "    :id => [1],\n",
    "    :name => [\"Ort GN\"],\n",
    "    :note => [\"Orte aus GeoNames\"],\n",
    "    :created_by => 7,\n",
    "    :date_created => now(),\n",
    "    :changed_by => 7,\n",
    "    :date_changed => now(),\n",
    "    :table_name => \"place\",\n",
    "    :name_app => \"place\",\n",
    ")"
   ]
  },
  {
   "cell_type": "code",
   "execution_count": 14,
   "metadata": {},
   "outputs": [
    {
     "data": {
      "text/plain": [
       "(id = 2, name = \"Ort Utrecht\", note = \"Orte der Priester aus Utrecht\", created_by = 7, date_created = DateTime(\"2022-04-11T09:06:29.865\"), changed_by = 7, date_changed = DateTime(\"2022-04-11T09:06:29.865\"), table_name = \"place\", name_app = \"place_ut\")"
      ]
     },
     "execution_count": 14,
     "metadata": {},
     "output_type": "execute_result"
    }
   ],
   "source": [
    "rec_place_ut = (\n",
    "    id = 2,\n",
    "    name = \"Ort Utrecht\",\n",
    "    note = \"Orte der Priester aus Utrecht\",\n",
    "    created_by = 7,\n",
    "    date_created = now(),\n",
    "    changed_by = 7,\n",
    "    date_changed = now(),\n",
    "    table_name = \"place\",\n",
    "    name_app = \"place_ut\",\n",
    ")"
   ]
  },
  {
   "cell_type": "code",
   "execution_count": 15,
   "metadata": {},
   "outputs": [
    {
     "data": {
      "text/html": [
       "<div class=\"data-frame\"><p>2 rows × 9 columns (omitted printing of 4 columns)</p><table class=\"data-frame\"><thead><tr><th></th><th>id</th><th>name</th><th>note</th><th>created_by</th><th>date_created</th></tr><tr><th></th><th title=\"Int64\">Int64</th><th title=\"String\">String</th><th title=\"String\">String</th><th title=\"Int64\">Int64</th><th title=\"DateTime\">DateTime</th></tr></thead><tbody><tr><th>1</th><td>1</td><td>Ort GN</td><td>Orte aus GeoNames</td><td>7</td><td>2022-04-11T09:06:26.483</td></tr><tr><th>2</th><td>2</td><td>Ort Utrecht</td><td>Orte der Priester aus Utrecht</td><td>7</td><td>2022-04-11T09:06:29.865</td></tr></tbody></table></div>"
      ],
      "text/latex": [
       "\\begin{tabular}{r|cccccc}\n",
       "\t& id & name & note & created\\_by & date\\_created & \\\\\n",
       "\t\\hline\n",
       "\t& Int64 & String & String & Int64 & DateTime & \\\\\n",
       "\t\\hline\n",
       "\t1 & 1 & Ort GN & Orte aus GeoNames & 7 & 2022-04-11T09:06:26.483 & $\\dots$ \\\\\n",
       "\t2 & 2 & Ort Utrecht & Orte der Priester aus Utrecht & 7 & 2022-04-11T09:06:29.865 & $\\dots$ \\\\\n",
       "\\end{tabular}\n"
      ],
      "text/plain": [
       "\u001b[1m2×9 DataFrame\u001b[0m\n",
       "\u001b[1m Row \u001b[0m│\u001b[1m id    \u001b[0m\u001b[1m name        \u001b[0m\u001b[1m note                          \u001b[0m\u001b[1m created_by \u001b[0m\u001b[1m date_cre\u001b[0m ⋯\n",
       "\u001b[1m     \u001b[0m│\u001b[90m Int64 \u001b[0m\u001b[90m String      \u001b[0m\u001b[90m String                        \u001b[0m\u001b[90m Int64      \u001b[0m\u001b[90m DateTime\u001b[0m ⋯\n",
       "─────┼──────────────────────────────────────────────────────────────────────────\n",
       "   1 │     1  Ort GN       Orte aus GeoNames                       7  2022-04- ⋯\n",
       "   2 │     2  Ort Utrecht  Orte der Priester aus Utrecht           7  2022-04-\n",
       "\u001b[36m                                                               5 columns omitted\u001b[0m"
      ]
     },
     "execution_count": 15,
     "metadata": {},
     "output_type": "execute_result"
    }
   ],
   "source": [
    "push!(df_place_type, rec_place_ut)"
   ]
  },
  {
   "cell_type": "code",
   "execution_count": 16,
   "metadata": {},
   "outputs": [
    {
     "name": "stderr",
     "output_type": "stream",
     "text": [
      "┌ Info: Rows inserted: 2\n",
      "└ @ WiagDataSetup C:\\Users\\georg\\Documents\\projekte\\WiagDataSetup.jl\\src\\WiagDataSetup.jl:1209\n"
     ]
    },
    {
     "data": {
      "text/plain": [
       "2"
      ]
     },
     "execution_count": 16,
     "metadata": {},
     "output_type": "execute_result"
    }
   ],
   "source": [
    "table_name = \"place_type\";\n",
    "Wds.filltable!(table_name, df_place_type)"
   ]
  },
  {
   "cell_type": "markdown",
   "metadata": {},
   "source": [
    "`place_type_id` nachtragen\n",
    "```sql\n",
    "UPDATE place SET place_type_id = 1;\n",
    "```"
   ]
  },
  {
   "cell_type": "markdown",
   "metadata": {},
   "source": [
    "`id_in_source` nachtragen\n",
    "```sql\n",
    "UPDATE place SET id_in_source = geonames_id;\n",
    "```"
   ]
  },
  {
   "cell_type": "markdown",
   "metadata": {},
   "source": [
    "`geonames_id` als Index ersetzen durch `place_id`"
   ]
  },
  {
   "cell_type": "markdown",
   "metadata": {},
   "source": [
    "```sql\n",
    "UPDATE place_label AS pll, (SELECT id, geonames_id FROM place) as p\n",
    "SET pll.place_id = p.id\n",
    "WHERE pll.geonames_id = p.geonames_id;\n",
    "```"
   ]
  },
  {
   "cell_type": "markdown",
   "metadata": {},
   "source": [
    "Einträge in `place_label` löschen, die sich auf Länder, Kantone, Bundesländer und also nicht auf Orte beziehen"
   ]
  },
  {
   "cell_type": "markdown",
   "metadata": {},
   "source": [
    "```sql\n",
    "DELETE FROM place_label WHERE place_id IS NULL;\n",
    "```"
   ]
  },
  {
   "cell_type": "markdown",
   "metadata": {},
   "source": [
    "In `place_label` die Namen aus der GeoNames Ortetabelle übernehmen, wie von bk vorgeschlagen.  \n",
    "Die Einträge haben dann keine Angabe für die Sprache, weil die Angaben in der Quelle fehlt."
   ]
  },
  {
   "cell_type": "markdown",
   "metadata": {},
   "source": [
    "```sql\n",
    "UPDATE place_label SET is_geonames_name = false;\n",
    "```"
   ]
  },
  {
   "cell_type": "markdown",
   "metadata": {},
   "source": [
    "```sql\n",
    "INSERT INTO place_label (SELECT NULL, geonames_id, name, NULL, 0, 0, id, 1 FROM place where place_type_id = 1);\n",
    "```"
   ]
  }
 ],
 "metadata": {
  "kernelspec": {
   "display_name": "Julia 1.8.2",
   "language": "julia",
   "name": "julia-1.8"
  },
  "language_info": {
   "file_extension": ".jl",
   "mimetype": "application/julia",
   "name": "julia",
   "version": "1.8.2"
  }
 },
 "nbformat": 4,
 "nbformat_minor": 4
}
