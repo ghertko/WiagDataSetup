{
 "cells": [
  {
   "cell_type": "markdown",
   "metadata": {},
   "source": [
    "# Wissensaggregator Mittelalter und frühe Neuzeit\n",
    "WIAGweb2\n",
    "\n",
    "## Daten für Domherren aus dem Digitalen Personenregister einlesen\n",
    "\n",
    "Übertrage Daten aus der GS-online. Die Daten werden aus der produktiven Datenbank auf eine lokale Datenbank eingelesen: `gso`\n",
    "\n",
    "[Literatur](#Literatur)  \n",
    "[Domherren](#Domherren)\n",
    "- [Einträge in `item`](#Einträge-in-item)\n",
    "- [Daten eintragen](#Daten-eintragen)\n",
    "- [Orden eintragen](#Orden-eintragen)\n",
    "- [Literaturverweise eintragen](#Literaturverweise-eintragen)\n",
    "- [Externe URLs eintragen](#Externe-URLs-eintragen)\n",
    "- [Namensvarianten eintragen](#Namensvarianten-eintragen)\n",
    "- [Suchvarianten eintragen (`name_lookup`)](#Suchvarianten-eintragen-(name_lookup))\n",
    "- [Bezug zu den anderen Quellen (`canon_lookup`)](#Bezug-zu-den-anderen-Quellen)\n",
    "\n",
    "[Nachtrag](#Nachtrag-person.note_name)"
   ]
  },
  {
   "cell_type": "markdown",
   "metadata": {},
   "source": [
    "Quelle: *2022-02-25* Datenbank `gso_in_202202`"
   ]
  },
  {
   "cell_type": "markdown",
   "metadata": {},
   "source": [
    "Vorspann: Pakete laden; mit der Datenbank verbinden"
   ]
  },
  {
   "cell_type": "code",
   "execution_count": 2,
   "metadata": {},
   "outputs": [
    {
     "data": {
      "text/plain": [
       "\"gso_in_202202\""
      ]
     },
     "execution_count": 2,
     "metadata": {},
     "output_type": "execute_result"
    }
   ],
   "source": [
    "gs_db = \"gso_in_202202\""
   ]
  },
  {
   "cell_type": "code",
   "execution_count": 3,
   "metadata": {},
   "outputs": [
    {
     "data": {
      "text/plain": [
       "\"../..\""
      ]
     },
     "execution_count": 3,
     "metadata": {},
     "output_type": "execute_result"
    }
   ],
   "source": [
    "wds_path=\"../..\""
   ]
  },
  {
   "cell_type": "code",
   "execution_count": 4,
   "metadata": {},
   "outputs": [],
   "source": [
    "cd(wds_path)"
   ]
  },
  {
   "cell_type": "code",
   "execution_count": 5,
   "metadata": {},
   "outputs": [],
   "source": [
    "using Pkg"
   ]
  },
  {
   "cell_type": "code",
   "execution_count": 6,
   "metadata": {},
   "outputs": [
    {
     "name": "stderr",
     "output_type": "stream",
     "text": [
      "\u001b[32m\u001b[1m  Activating\u001b[22m\u001b[39m project at `C:\\Users\\georg\\Documents\\projekte\\WiagDataSetup.jl`\n"
     ]
    }
   ],
   "source": [
    "Pkg.activate(\".\")"
   ]
  },
  {
   "cell_type": "code",
   "execution_count": 7,
   "metadata": {},
   "outputs": [],
   "source": [
    "using Revise"
   ]
  },
  {
   "cell_type": "code",
   "execution_count": 8,
   "metadata": {},
   "outputs": [],
   "source": [
    "using WiagDataSetup"
   ]
  },
  {
   "cell_type": "code",
   "execution_count": 9,
   "metadata": {},
   "outputs": [],
   "source": [
    "using MySQL, DataFrames"
   ]
  },
  {
   "cell_type": "code",
   "execution_count": 10,
   "metadata": {},
   "outputs": [
    {
     "data": {
      "text/plain": [
       "WiagDataSetup"
      ]
     },
     "execution_count": 10,
     "metadata": {},
     "output_type": "execute_result"
    }
   ],
   "source": [
    "Wds = WiagDataSetup"
   ]
  },
  {
   "cell_type": "code",
   "execution_count": 11,
   "metadata": {},
   "outputs": [
    {
     "name": "stdout",
     "output_type": "stream",
     "text": [
      "Passwort für User georg: ········\n"
     ]
    },
    {
     "data": {
      "text/plain": [
       "MySQL.Connection(host=\"127.0.0.1\", user=\"georg\", port=\"3306\", db=\"wiag2\")"
      ]
     },
     "execution_count": 11,
     "metadata": {},
     "output_type": "execute_result"
    }
   ],
   "source": [
    "Wds.setDBWIAG(user=\"georg\", db=\"wiag2\")"
   ]
  },
  {
   "cell_type": "markdown",
   "metadata": {},
   "source": [
    "Item Type ID"
   ]
  },
  {
   "cell_type": "code",
   "execution_count": 12,
   "metadata": {},
   "outputs": [
    {
     "data": {
      "text/plain": [
       "6"
      ]
     },
     "execution_count": 12,
     "metadata": {},
     "output_type": "execute_result"
    }
   ],
   "source": [
    "item_type_id = 6"
   ]
  },
  {
   "cell_type": "markdown",
   "metadata": {},
   "source": [
    "## Löschungen für umfassendes Update"
   ]
  },
  {
   "cell_type": "code",
   "execution_count": 158,
   "metadata": {},
   "outputs": [
    {
     "data": {
      "text/plain": [
       "MySQL.TextCursor{true}(MySQL.Connection(host=\"127.0.0.1\", user=\"georg\", port=\"3306\", db=\"wiag2\"), \"DELETE FROM name_lookup\\nWHERE person_id IN\\n(SELECT id FROM item WHERE item_type_id = 6)\", 0, -1, 15749, MySQL.API.MYSQL_RES(Ptr{Nothing} @0x0000000000000000), Symbol[], Type[], Dict{Symbol, Int64}(), 0, 1, false)"
      ]
     },
     "execution_count": 158,
     "metadata": {},
     "output_type": "execute_result"
    }
   ],
   "source": [
    "table_name = \"name_lookup\";\n",
    "sql = \"DELETE FROM $(table_name)\n",
    "WHERE person_id IN\n",
    "(SELECT id FROM item WHERE item_type_id = $(item_type_id))\";\n",
    "DBInterface.execute(Wds.dbwiag, sql)"
   ]
  },
  {
   "cell_type": "code",
   "execution_count": 159,
   "metadata": {},
   "outputs": [
    {
     "data": {
      "text/plain": [
       "MySQL.TextCursor{true}(MySQL.Connection(host=\"127.0.0.1\", user=\"georg\", port=\"3306\", db=\"wiag2\"), \"DELETE FROM familyname_variant\\nWHERE person_id IN\\n(SELECT id FROM item WHERE item_type_id = 6)\", 0, -1, 2739, MySQL.API.MYSQL_RES(Ptr{Nothing} @0x0000000000000000), Symbol[], Type[], Dict{Symbol, Int64}(), 0, 1, false)"
      ]
     },
     "execution_count": 159,
     "metadata": {},
     "output_type": "execute_result"
    }
   ],
   "source": [
    "table_name = \"familyname_variant\";\n",
    "sql = \"DELETE FROM $(table_name)\n",
    "WHERE person_id IN\n",
    "(SELECT id FROM item WHERE item_type_id = $(item_type_id))\";\n",
    "DBInterface.execute(Wds.dbwiag, sql)"
   ]
  },
  {
   "cell_type": "code",
   "execution_count": 160,
   "metadata": {},
   "outputs": [
    {
     "data": {
      "text/plain": [
       "MySQL.TextCursor{true}(MySQL.Connection(host=\"127.0.0.1\", user=\"georg\", port=\"3306\", db=\"wiag2\"), \"DELETE FROM givenname_variant\\nWHERE person_id IN\\n(SELECT id FROM item WHERE item_type_id = 6)\", 0, -1, 1507, MySQL.API.MYSQL_RES(Ptr{Nothing} @0x0000000000000000), Symbol[], Type[], Dict{Symbol, Int64}(), 0, 1, false)"
      ]
     },
     "execution_count": 160,
     "metadata": {},
     "output_type": "execute_result"
    }
   ],
   "source": [
    "table_name = \"givenname_variant\";\n",
    "sql = \"DELETE FROM $(table_name)\n",
    "WHERE person_id IN\n",
    "(SELECT id FROM item WHERE item_type_id = $(item_type_id))\";\n",
    "DBInterface.execute(Wds.dbwiag, sql)"
   ]
  },
  {
   "cell_type": "code",
   "execution_count": 161,
   "metadata": {},
   "outputs": [
    {
     "data": {
      "text/plain": [
       "MySQL.TextCursor{true}(MySQL.Connection(host=\"127.0.0.1\", user=\"georg\", port=\"3306\", db=\"wiag2\"), \"DELETE FROM id_external\\nWHERE item_id IN\\n(SELECT id FROM item WHERE item_type_id = 6)\", 0, -1, 9557, MySQL.API.MYSQL_RES(Ptr{Nothing} @0x0000000000000000), Symbol[], Type[], Dict{Symbol, Int64}(), 0, 1, false)"
      ]
     },
     "execution_count": 161,
     "metadata": {},
     "output_type": "execute_result"
    }
   ],
   "source": [
    "table_name = \"id_external\";\n",
    "sql = \"DELETE FROM $(table_name)\n",
    "WHERE item_id IN\n",
    "(SELECT id FROM item WHERE item_type_id = $(item_type_id))\";\n",
    "DBInterface.execute(Wds.dbwiag, sql)"
   ]
  },
  {
   "cell_type": "code",
   "execution_count": 162,
   "metadata": {},
   "outputs": [
    {
     "data": {
      "text/plain": [
       "MySQL.TextCursor{true}(MySQL.Connection(host=\"127.0.0.1\", user=\"georg\", port=\"3306\", db=\"wiag2\"), \"DELETE FROM person_role_property\\nWHERE person_role_id IN\\n(SELECT id FROM person_role\\nWHERE person_id in (SELECT id from item WHERE item_type_id = 6))\", 0, -1, 0, MySQL.API.MYSQL_RES(Ptr{Nothing} @0x0000000000000000), Symbol[], Type[], Dict{Symbol, Int64}(), 0, 1, false)"
      ]
     },
     "execution_count": 162,
     "metadata": {},
     "output_type": "execute_result"
    }
   ],
   "source": [
    "table_name = \"person_role_property\";\n",
    "sql = \"DELETE FROM $(table_name)\n",
    "WHERE person_role_id IN\n",
    "(SELECT id FROM person_role\n",
    "WHERE person_id in (SELECT id from item WHERE item_type_id = $(item_type_id)))\";\n",
    "DBInterface.execute(Wds.dbwiag, sql)"
   ]
  },
  {
   "cell_type": "code",
   "execution_count": 163,
   "metadata": {},
   "outputs": [
    {
     "data": {
      "text/plain": [
       "MySQL.TextCursor{true}(MySQL.Connection(host=\"127.0.0.1\", user=\"georg\", port=\"3306\", db=\"wiag2\"), \"DELETE FROM person_role\\nWHERE person_id IN\\n(SELECT id FROM item WHERE item_type_id = 6)\", 0, -1, 14994, MySQL.API.MYSQL_RES(Ptr{Nothing} @0x0000000000000000), Symbol[], Type[], Dict{Symbol, Int64}(), 0, 1, false)"
      ]
     },
     "execution_count": 163,
     "metadata": {},
     "output_type": "execute_result"
    }
   ],
   "source": [
    "table_name = \"person_role\";\n",
    "sql = \"DELETE FROM $(table_name)\n",
    "WHERE person_id IN\n",
    "(SELECT id FROM item WHERE item_type_id = $(item_type_id))\";\n",
    "DBInterface.execute(Wds.dbwiag, sql)"
   ]
  },
  {
   "cell_type": "code",
   "execution_count": 164,
   "metadata": {},
   "outputs": [
    {
     "data": {
      "text/plain": [
       "MySQL.TextCursor{true}(MySQL.Connection(host=\"127.0.0.1\", user=\"georg\", port=\"3306\", db=\"wiag2\"), \"DELETE FROM person\\nWHERE id IN\\n(SELECT id FROM item WHERE item_type_id = 6)\", 0, -1, 8503, MySQL.API.MYSQL_RES(Ptr{Nothing} @0x0000000000000000), Symbol[], Type[], Dict{Symbol, Int64}(), 0, 1, false)"
      ]
     },
     "execution_count": 164,
     "metadata": {},
     "output_type": "execute_result"
    }
   ],
   "source": [
    "table_name = \"person\";\n",
    "sql = \"DELETE FROM $(table_name)\n",
    "WHERE id IN\n",
    "(SELECT id FROM item WHERE item_type_id = $(item_type_id))\";\n",
    "DBInterface.execute(Wds.dbwiag, sql)"
   ]
  },
  {
   "cell_type": "code",
   "execution_count": 165,
   "metadata": {},
   "outputs": [
    {
     "data": {
      "text/plain": [
       "MySQL.TextCursor{true}(MySQL.Connection(host=\"127.0.0.1\", user=\"georg\", port=\"3306\", db=\"wiag2\"), \"DELETE FROM item_reference\\nWHERE item_id IN\\n(SELECT id FROM item WHERE item_type_id = 6)\", 0, -1, 7401, MySQL.API.MYSQL_RES(Ptr{Nothing} @0x0000000000000000), Symbol[], Type[], Dict{Symbol, Int64}(), 0, 1, false)"
      ]
     },
     "execution_count": 165,
     "metadata": {},
     "output_type": "execute_result"
    }
   ],
   "source": [
    "table_name = \"item_reference\";\n",
    "sql = \"DELETE FROM $(table_name)\n",
    "WHERE item_id IN\n",
    "(SELECT id FROM item WHERE item_type_id = $(item_type_id))\";\n",
    "DBInterface.execute(Wds.dbwiag, sql)"
   ]
  },
  {
   "cell_type": "code",
   "execution_count": 166,
   "metadata": {},
   "outputs": [
    {
     "data": {
      "text/plain": [
       "MySQL.TextCursor{true}(MySQL.Connection(host=\"127.0.0.1\", user=\"georg\", port=\"3306\", db=\"wiag2\"), \"DELETE FROM item\\nWHERE item_type_id = 6\", 0, -1, 8503, MySQL.API.MYSQL_RES(Ptr{Nothing} @0x0000000000000000), Symbol[], Type[], Dict{Symbol, Int64}(), 0, 1, false)"
      ]
     },
     "execution_count": 166,
     "metadata": {},
     "output_type": "execute_result"
    }
   ],
   "source": [
    "table_name = \"item\";\n",
    "sql = \"DELETE FROM $(table_name)\n",
    "WHERE item_type_id = $(item_type_id)\";\n",
    "DBInterface.execute(Wds.dbwiag, sql)"
   ]
  },
  {
   "cell_type": "markdown",
   "metadata": {},
   "source": [
    "## Literatur"
   ]
  },
  {
   "cell_type": "code",
   "execution_count": 11,
   "metadata": {},
   "outputs": [],
   "source": [
    "table_name = gs_db * \".books\"\n",
    "sql = \"SELECT id, titel AS title, autoren AS author, nummer AS number_vol, \" *\n",
    "\"uri AS online_resource, kurztitel AS shorttitle \" *\n",
    "\"FROM $(table_name)\";\n",
    "df_vol = Wds.sql_df(sql);"
   ]
  },
  {
   "cell_type": "code",
   "execution_count": 12,
   "metadata": {},
   "outputs": [
    {
     "data": {
      "text/plain": [
       "6-element Vector{String}:\n",
       " \"id\"\n",
       " \"title\"\n",
       " \"author\"\n",
       " \"number_vol\"\n",
       " \"online_resource\"\n",
       " \"shorttitle\""
      ]
     },
     "execution_count": 12,
     "metadata": {},
     "output_type": "execute_result"
    }
   ],
   "source": [
    "names(df_vol)"
   ]
  },
  {
   "cell_type": "code",
   "execution_count": 13,
   "metadata": {},
   "outputs": [
    {
     "data": {
      "text/plain": [
       "6-element Vector{Pair{Symbol, Symbol}}:\n",
       "              :id => :reference_id\n",
       "           :title => :full_citation\n",
       "          :author => :author_editor\n",
       " :online_resource => :online_resource\n",
       "      :shorttitle => :title_short\n",
       "      :number_vol => :gs_volume_nr"
      ]
     },
     "execution_count": 13,
     "metadata": {},
     "output_type": "execute_result"
    }
   ],
   "source": [
    "columns = [\n",
    "    :id => :reference_id,\n",
    "    :title => :full_citation,\n",
    "    :author => :author_editor,\n",
    "    :online_resource => :online_resource,\n",
    "    :shorttitle => :title_short,\n",
    "    :number_vol => :gs_volume_nr,\n",
    "]"
   ]
  },
  {
   "cell_type": "code",
   "execution_count": 14,
   "metadata": {},
   "outputs": [],
   "source": [
    "df_vol_db = select(df_vol, columns);"
   ]
  },
  {
   "cell_type": "code",
   "execution_count": 17,
   "metadata": {},
   "outputs": [],
   "source": [
    "df_vol_db[!, :item_type_id] .= item_type_id;"
   ]
  },
  {
   "cell_type": "markdown",
   "metadata": {},
   "source": [
    "Bestehende Einträge löschen"
   ]
  },
  {
   "cell_type": "code",
   "execution_count": 44,
   "metadata": {},
   "outputs": [
    {
     "data": {
      "text/plain": [
       "MySQL.TextCursor{true}(MySQL.Connection(host=\"127.0.0.1\", user=\"georg\", port=\"3306\", db=\"wiag2\"), \"DELETE FROM reference_volume WHERE item_type_id = 6\", 0, -1, 87, MySQL.API.MYSQL_RES(Ptr{Nothing} @0x0000000000000000), Symbol[], Type[], Dict{Symbol, Int64}(), 0, 1, false)"
      ]
     },
     "execution_count": 44,
     "metadata": {},
     "output_type": "execute_result"
    }
   ],
   "source": [
    "table_name = \"reference_volume\"\n",
    "sql = \"DELETE FROM $(table_name) WHERE item_type_id = $(item_type_id)\";\n",
    "DBInterface.execute(Wds.dbwiag, sql)"
   ]
  },
  {
   "cell_type": "markdown",
   "metadata": {},
   "source": [
    "Daten eintragen"
   ]
  },
  {
   "cell_type": "code",
   "execution_count": 19,
   "metadata": {},
   "outputs": [
    {
     "name": "stderr",
     "output_type": "stream",
     "text": [
      "┌ Info: Rows inserted: 87\n",
      "└ @ WiagDataSetup C:\\Users\\georg\\Documents\\projekte\\WiagDataSetup.jl\\src\\WiagDataSetup.jl:1202\n"
     ]
    },
    {
     "data": {
      "text/plain": [
       "87"
      ]
     },
     "execution_count": 19,
     "metadata": {},
     "output_type": "execute_result"
    }
   ],
   "source": [
    "Wds.filltable!(table_name, df_vol_db, clear_table = false)"
   ]
  },
  {
   "cell_type": "markdown",
   "metadata": {},
   "source": [
    "## Domherren"
   ]
  },
  {
   "cell_type": "markdown",
   "metadata": {},
   "source": [
    "Betrachte nur Personen, deren Eintrag nicht gelöscht ist und die online sind. Die maßgebliche GSN steht in dem Datensatz mit dem kleinsten Wert der id.\n",
    "Ergebnisse *2022-02-25*\n",
    "``` sql\n",
    "use gso_in_202202;\n",
    "select gsn.nummer, item_id, gsn.deleted, items.deleted, items.status\n",
    "from gsn join items on gsn.item_id = items.id \n",
    "where items.status = 'online' and not items.deleted limit 12 offset 4000;\n",
    "select count(*) from gsn join items on gsn.item_id = items.id where items.status = 'online' and not items.deleted;\n",
    "```\n",
    "98544\n",
    "``` sql\n",
    "select count(distinct(gsn.nummer)) \n",
    "from gsn join items on gsn.item_id = items.id \n",
    "where items.status = 'online' and not items.deleted;\n",
    "```\n",
    "98543\n",
    "``` sql\n",
    "create temporary table item_online as\n",
    "select min(gsn.id) as gsn_tbl_id, gsn.nummer, item_id, items.deleted, items.status\n",
    "from gsn join items on gsn.item_id = items.id where items.status = 'online'\n",
    "group by items.id;\n",
    "select count(*) from item_online;\n",
    "```\n",
    "87270"
   ]
  },
  {
   "cell_type": "markdown",
   "metadata": {},
   "source": [
    "Finde Einträge, die von der Domherrendatenbank referenziert werden (sofern die verweisenden Domherren online sind!)"
   ]
  },
  {
   "cell_type": "code",
   "execution_count": 167,
   "metadata": {},
   "outputs": [],
   "source": [
    "table_name = \"item\";\n",
    "sql = \"SELECT item.id as dh_item_id, e.value AS gsn\n",
    "FROM wiag2.item \n",
    "JOIN wiag2.id_external AS e ON item.id = e.item_id\n",
    "WHERE item_type_id = 5\n",
    "AND authority_id = 200\n",
    "AND item.is_online\";\n",
    "dh_gsn = Wds.sql_df(sql);"
   ]
  },
  {
   "cell_type": "code",
   "execution_count": 168,
   "metadata": {},
   "outputs": [
    {
     "data": {
      "text/plain": [
       "451"
      ]
     },
     "execution_count": 168,
     "metadata": {},
     "output_type": "execute_result"
    }
   ],
   "source": [
    "size(dh_gsn, 1)"
   ]
  },
  {
   "cell_type": "markdown",
   "metadata": {},
   "source": [
    "Lies aus `gsn` `item_id`"
   ]
  },
  {
   "cell_type": "code",
   "execution_count": 169,
   "metadata": {},
   "outputs": [],
   "source": [
    "table_name = gs_db * \".gsn\"\n",
    "sql = \"SELECT gsn.id as gsn_id, item_id, gsn.nummer, items.status \n",
    "FROM $(table_name)\n",
    "JOIN $(gs_db).items ON item_id = items.id\n",
    "AND NOT items.deleted AND items.status = 'online';\"\n",
    "item_all = Wds.sql_df(sql);"
   ]
  },
  {
   "cell_type": "code",
   "execution_count": 170,
   "metadata": {},
   "outputs": [],
   "source": [
    "dh_item_gsn = innerjoin(dh_gsn, item_all, on = :gsn => :nummer);"
   ]
  },
  {
   "cell_type": "code",
   "execution_count": 171,
   "metadata": {},
   "outputs": [
    {
     "data": {
      "text/plain": [
       "450"
      ]
     },
     "execution_count": 171,
     "metadata": {},
     "output_type": "execute_result"
    }
   ],
   "source": [
    "size(dh_item_gsn, 1)"
   ]
  },
  {
   "cell_type": "markdown",
   "metadata": {},
   "source": [
    "Ermittle die IDs der Domherren anhand der relevanten Stifte."
   ]
  },
  {
   "cell_type": "code",
   "execution_count": 172,
   "metadata": {},
   "outputs": [],
   "source": [
    "sql = \"SELECT id_gsn FROM wiag2.institution AS inst\n",
    "JOIN wiag2.item_property AS prp ON inst.id = prp.item_id\n",
    "WHERE prp.name = 'domstift_short'\"\n",
    "df_dft = Wds.sql_df(sql);"
   ]
  },
  {
   "cell_type": "code",
   "execution_count": 173,
   "metadata": {},
   "outputs": [
    {
     "data": {
      "text/plain": [
       "\"(3490, 3491, 3492, 3493, 3494, 3495, 3496, 3498, 3499, 3500, 3501, 3502, 3503, 2066, 953, 832, 783, 792, 794, 803, 736, 739, 675, 676, 679, 701, 616, 628, 343, 226, 3489, 3488, 3487, 60130)\""
      ]
     },
     "execution_count": 173,
     "metadata": {},
     "output_type": "execute_result"
    }
   ],
   "source": [
    "ids_dft = \"(\" * join(df_dft.id_gsn, \", \") * \")\""
   ]
  },
  {
   "cell_type": "markdown",
   "metadata": {},
   "source": [
    "Betrachte nur gültige Amtseinträge"
   ]
  },
  {
   "cell_type": "code",
   "execution_count": 174,
   "metadata": {},
   "outputs": [],
   "source": [
    "table_name = gs_db * \".offices\";\n",
    "sql = \"SELECT DISTINCT(person_id), item_id \n",
    "FROM $(table_name) \n",
    "JOIN $(gs_db).persons AS p ON p.id = person_id\n",
    "WHERE klosterid in $(ids_dft) AND NOT offices.deleted\"\n",
    "mon_item = Wds.sql_df(sql);"
   ]
  },
  {
   "cell_type": "code",
   "execution_count": 175,
   "metadata": {},
   "outputs": [
    {
     "data": {
      "text/plain": [
       "8769"
      ]
     },
     "execution_count": 175,
     "metadata": {},
     "output_type": "execute_result"
    }
   ],
   "source": [
    "size(mon_item, 1)"
   ]
  },
  {
   "cell_type": "code",
   "execution_count": 176,
   "metadata": {},
   "outputs": [],
   "source": [
    "str_item = \"(\" * join(mon_item.item_id, \", \") * \")\";"
   ]
  },
  {
   "cell_type": "code",
   "execution_count": 177,
   "metadata": {},
   "outputs": [],
   "source": [
    "table_name = gs_db * \".gsn\"\n",
    "sql = \"SELECT min(gsn.id) as id, item_id\n",
    "FROM $(table_name)\n",
    "JOIN $(gs_db).items ON item_id = items.id\n",
    "WHERE item_id IN $(str_item)\n",
    "AND NOT items.deleted AND items.status = 'online'\n",
    "GROUP BY item_id\";\n",
    "mon_gsn_id = Wds.sql_df(sql);"
   ]
  },
  {
   "cell_type": "code",
   "execution_count": 178,
   "metadata": {},
   "outputs": [
    {
     "data": {
      "text/plain": [
       "8439"
      ]
     },
     "execution_count": 178,
     "metadata": {},
     "output_type": "execute_result"
    }
   ],
   "source": [
    "size(mon_gsn_id, 1)"
   ]
  },
  {
   "cell_type": "code",
   "execution_count": 179,
   "metadata": {},
   "outputs": [],
   "source": [
    "str_gsn_id = \"(\" * join(mon_gsn_id.id, \", \") * \")\";"
   ]
  },
  {
   "cell_type": "code",
   "execution_count": 180,
   "metadata": {},
   "outputs": [],
   "source": [
    "table_name = gs_db * \".gsn\"\n",
    "sql = \"SELECT gsn.id as gsn_id, item_id, gsn.nummer as gsn, items.status\n",
    "FROM $(table_name)\n",
    "JOIN $(gs_db).items ON item_id = items.id\n",
    "WHERE gsn.id in $(str_gsn_id)\";\n",
    "mon_item_gsn = Wds.sql_df(sql);"
   ]
  },
  {
   "cell_type": "code",
   "execution_count": 181,
   "metadata": {},
   "outputs": [
    {
     "data": {
      "text/plain": [
       "8439"
      ]
     },
     "execution_count": 181,
     "metadata": {},
     "output_type": "execute_result"
    }
   ],
   "source": [
    "size(mon_item_gsn, 1)"
   ]
  },
  {
   "cell_type": "markdown",
   "metadata": {},
   "source": [
    "Ohne die Einträge, die über die Domherrenbank referenziert werden."
   ]
  },
  {
   "cell_type": "code",
   "execution_count": 182,
   "metadata": {},
   "outputs": [],
   "source": [
    "mon_item_gsn_delta = antijoin(mon_item_gsn, dh_item_gsn, on = :item_id);"
   ]
  },
  {
   "cell_type": "code",
   "execution_count": 183,
   "metadata": {},
   "outputs": [
    {
     "data": {
      "text/plain": [
       "(8074, 4)"
      ]
     },
     "execution_count": 183,
     "metadata": {},
     "output_type": "execute_result"
    }
   ],
   "source": [
    "size(mon_item_gsn_delta)"
   ]
  },
  {
   "cell_type": "code",
   "execution_count": 184,
   "metadata": {},
   "outputs": [],
   "source": [
    "item_gsn = vcat(mon_item_gsn_delta, select(dh_item_gsn, Not(:dh_item_id)));"
   ]
  },
  {
   "cell_type": "code",
   "execution_count": 185,
   "metadata": {},
   "outputs": [
    {
     "data": {
      "text/plain": [
       "8524"
      ]
     },
     "execution_count": 185,
     "metadata": {},
     "output_type": "execute_result"
    }
   ],
   "source": [
    "size(item_gsn, 1)"
   ]
  },
  {
   "cell_type": "markdown",
   "metadata": {},
   "source": [
    "Test"
   ]
  },
  {
   "cell_type": "code",
   "execution_count": 186,
   "metadata": {},
   "outputs": [],
   "source": [
    "df_info = innerjoin(dh_gsn, item_gsn, on = :gsn);"
   ]
  },
  {
   "cell_type": "code",
   "execution_count": 187,
   "metadata": {},
   "outputs": [
    {
     "data": {
      "text/plain": [
       "450"
      ]
     },
     "execution_count": 187,
     "metadata": {},
     "output_type": "execute_result"
    }
   ],
   "source": [
    "size(df_info, 1) # ok!"
   ]
  },
  {
   "cell_type": "markdown",
   "metadata": {},
   "source": [
    "`persons`"
   ]
  },
  {
   "cell_type": "code",
   "execution_count": 188,
   "metadata": {},
   "outputs": [],
   "source": [
    "table_name = gs_db * \".persons\"\n",
    "sql = \"SELECT p.id as id_person_gso, item_id, \" *\n",
    "\"namenspraefix, vorname, familienname, \" *\n",
    "\"sterbedatum, geburtsdatum, `orden`, \" *\n",
    "\"anmerkungen, titel, \" * \n",
    "\"gndnummer, viaf, \" *\n",
    "\"familiennamenvarianten, vornamenvarianten, \" *\n",
    "\"namenszusatz, \" *\n",
    "\"zeitraum_von, zeitraum_bis \" *\n",
    "\"FROM $(table_name) as p \" *\n",
    "\"JOIN $gs_db.items ON items.id = p.item_id \" *\n",
    "\"WHERE items.status = 'online' AND NOT items.deleted \" *\n",
    "\"ORDER BY p.id\";\n",
    "df_p = Wds.sql_df(sql);"
   ]
  },
  {
   "cell_type": "code",
   "execution_count": 189,
   "metadata": {},
   "outputs": [],
   "source": [
    "Wds.clean_up!(df_p)"
   ]
  },
  {
   "cell_type": "code",
   "execution_count": 190,
   "metadata": {},
   "outputs": [],
   "source": [
    "one_valid(x, y) = !ismissing(x) | !ismissing(y)\n",
    "subset!(df_p, [:vorname, :familienname] => ByRow(one_valid));"
   ]
  },
  {
   "cell_type": "code",
   "execution_count": 94,
   "metadata": {},
   "outputs": [
    {
     "data": {
      "text/plain": [
       "4-element Vector{String}:\n",
       " \"gsn_id\"\n",
       " \"item_id\"\n",
       " \"gsn\"\n",
       " \"status\""
      ]
     },
     "execution_count": 94,
     "metadata": {},
     "output_type": "execute_result"
    }
   ],
   "source": [
    "names(item_gsn)"
   ]
  },
  {
   "cell_type": "code",
   "execution_count": 191,
   "metadata": {},
   "outputs": [],
   "source": [
    "df_p_gsn = innerjoin(df_p, item_gsn, on = :item_id);"
   ]
  },
  {
   "cell_type": "code",
   "execution_count": 192,
   "metadata": {},
   "outputs": [
    {
     "data": {
      "text/plain": [
       "8523"
      ]
     },
     "execution_count": 192,
     "metadata": {},
     "output_type": "execute_result"
    }
   ],
   "source": [
    "size(df_p_gsn, 1)"
   ]
  },
  {
   "cell_type": "markdown",
   "metadata": {},
   "source": [
    "### IDs zuordnen\n",
    "Lies bestehende IDs.  \n"
   ]
  },
  {
   "cell_type": "markdown",
   "metadata": {},
   "source": [
    "*2022-01-19* IDs sind von WIAG 1 zu übernehmen, später bei einem Update aus dem jeweils zuletzt verwendeten Datensatz"
   ]
  },
  {
   "cell_type": "code",
   "execution_count": 193,
   "metadata": {},
   "outputs": [],
   "source": [
    "sql = \"SELECT id AS id_wiag, id_person_gso FROM wiag.cn_canon_gs\"\n",
    "df_id_cn_wiag = Wds.sql_df(sql);"
   ]
  },
  {
   "cell_type": "code",
   "execution_count": 194,
   "metadata": {},
   "outputs": [],
   "source": [
    "df_cn_id = leftjoin(df_p_gsn, df_id_cn_wiag, on = :id_person_gso);"
   ]
  },
  {
   "cell_type": "code",
   "execution_count": 195,
   "metadata": {},
   "outputs": [
    {
     "data": {
      "text/plain": [
       "(8523, 21)"
      ]
     },
     "execution_count": 195,
     "metadata": {},
     "output_type": "execute_result"
    }
   ],
   "source": [
    "size(df_cn_id)"
   ]
  },
  {
   "cell_type": "code",
   "execution_count": 196,
   "metadata": {},
   "outputs": [],
   "source": [
    "df_cn_id_id = subset(df_cn_id, :id_wiag => ByRow(!ismissing));\n",
    "df_cn_id_new = subset(df_cn_id, :id_wiag => ByRow(ismissing));"
   ]
  },
  {
   "cell_type": "code",
   "execution_count": 197,
   "metadata": {},
   "outputs": [
    {
     "data": {
      "text/plain": [
       "83"
      ]
     },
     "execution_count": 197,
     "metadata": {},
     "output_type": "execute_result"
    }
   ],
   "source": [
    "size(df_cn_id_new, 1)"
   ]
  },
  {
   "cell_type": "markdown",
   "metadata": {},
   "source": [
    "*2022-03-10* Es sind 83 neue IDs zu vergeben. (zunächst \"nur\" für WIAGweb2)"
   ]
  },
  {
   "cell_type": "code",
   "execution_count": 198,
   "metadata": {},
   "outputs": [
    {
     "data": {
      "text/plain": [
       "90233"
      ]
     },
     "execution_count": 198,
     "metadata": {},
     "output_type": "execute_result"
    }
   ],
   "source": [
    "next_id = maximum(df_cn_id_id.id_wiag) + 1"
   ]
  },
  {
   "cell_type": "code",
   "execution_count": 199,
   "metadata": {},
   "outputs": [],
   "source": [
    "sort!(df_cn_id_new, :item_id);"
   ]
  },
  {
   "cell_type": "code",
   "execution_count": 200,
   "metadata": {},
   "outputs": [],
   "source": [
    "id = next_id\n",
    "for row in eachrow(df_cn_id_new)\n",
    "    row[:id_wiag] = id\n",
    "    id += 1\n",
    "end"
   ]
  },
  {
   "cell_type": "code",
   "execution_count": 201,
   "metadata": {},
   "outputs": [
    {
     "data": {
      "text/html": [
       "<div class=\"data-frame\"><p>6 rows × 5 columns</p><table class=\"data-frame\"><thead><tr><th></th><th>item_id</th><th>gsn_id</th><th>id_wiag</th><th>vorname</th><th>familienname</th></tr><tr><th></th><th title=\"Int32\">Int32</th><th title=\"Int32\">Int32</th><th title=\"Union{Missing, Int32}\">Int32?</th><th title=\"Union{Missing, String}\">String?</th><th title=\"Union{Missing, String}\">String?</th></tr></thead><tbody><tr><th>1</th><td>337302</td><td>381937</td><td>90227</td><td>Lippold</td><td>Alten Markt</td></tr><tr><th>2</th><td>337303</td><td>381938</td><td>90228</td><td>Heinrich</td><td>Koler</td></tr><tr><th>3</th><td>337305</td><td>381940</td><td>90229</td><td>Georg</td><td>Giech</td></tr><tr><th>4</th><td>337306</td><td>381942</td><td>90230</td><td>Matthias</td><td>Meyer</td></tr><tr><th>5</th><td>337308</td><td>381947</td><td>90231</td><td>Wipert</td><td>Grumbach</td></tr><tr><th>6</th><td>337309</td><td>381949</td><td>90232</td><td>Sebastian</td><td>Gruben</td></tr></tbody></table></div>"
      ],
      "text/latex": [
       "\\begin{tabular}{r|ccccc}\n",
       "\t& item\\_id & gsn\\_id & id\\_wiag & vorname & familienname\\\\\n",
       "\t\\hline\n",
       "\t& Int32 & Int32 & Int32? & String? & String?\\\\\n",
       "\t\\hline\n",
       "\t1 & 337302 & 381937 & 90227 & Lippold & Alten Markt \\\\\n",
       "\t2 & 337303 & 381938 & 90228 & Heinrich & Koler \\\\\n",
       "\t3 & 337305 & 381940 & 90229 & Georg & Giech \\\\\n",
       "\t4 & 337306 & 381942 & 90230 & Matthias & Meyer \\\\\n",
       "\t5 & 337308 & 381947 & 90231 & Wipert & Grumbach \\\\\n",
       "\t6 & 337309 & 381949 & 90232 & Sebastian & Gruben \\\\\n",
       "\\end{tabular}\n"
      ],
      "text/plain": [
       "\u001b[1m6×5 DataFrame\u001b[0m\n",
       "\u001b[1m Row \u001b[0m│\u001b[1m item_id \u001b[0m\u001b[1m gsn_id \u001b[0m\u001b[1m id_wiag \u001b[0m\u001b[1m vorname   \u001b[0m\u001b[1m familienname \u001b[0m\n",
       "\u001b[1m     \u001b[0m│\u001b[90m Int32   \u001b[0m\u001b[90m Int32  \u001b[0m\u001b[90m Int32?  \u001b[0m\u001b[90m String?   \u001b[0m\u001b[90m String?      \u001b[0m\n",
       "─────┼───────────────────────────────────────────────────\n",
       "   1 │  337302  381937    90227  Lippold    Alten Markt\n",
       "   2 │  337303  381938    90228  Heinrich   Koler\n",
       "   3 │  337305  381940    90229  Georg      Giech\n",
       "   4 │  337306  381942    90230  Matthias   Meyer\n",
       "   5 │  337308  381947    90231  Wipert     Grumbach\n",
       "   6 │  337309  381949    90232  Sebastian  Gruben"
      ]
     },
     "execution_count": 201,
     "metadata": {},
     "output_type": "execute_result"
    }
   ],
   "source": [
    "df_cn_id_id[end-5:end, [:item_id, :gsn_id, :id_wiag, :vorname, :familienname]]"
   ]
  },
  {
   "cell_type": "code",
   "execution_count": 202,
   "metadata": {},
   "outputs": [
    {
     "data": {
      "text/html": [
       "<div class=\"data-frame\"><p>5 rows × 5 columns</p><table class=\"data-frame\"><thead><tr><th></th><th>item_id</th><th>gsn_id</th><th>id_wiag</th><th>vorname</th><th>familienname</th></tr><tr><th></th><th title=\"Int32\">Int32</th><th title=\"Int32\">Int32</th><th title=\"Union{Missing, Int32}\">Int32?</th><th title=\"Union{Missing, String}\">String?</th><th title=\"Union{Missing, String}\">String?</th></tr></thead><tbody><tr><th>1</th><td>4805</td><td>6633</td><td>90233</td><td>Brunward</td><td><em>missing</em></td></tr><tr><th>2</th><td>26662</td><td>281113</td><td>90234</td><td>Egilwart</td><td><em>missing</em></td></tr><tr><th>3</th><td>50730</td><td>37806</td><td>90235</td><td>Johannes</td><td>Kolkhagen</td></tr><tr><th>4</th><td>101648</td><td>88632</td><td>90236</td><td>Karl Franz</td><td>Nesselrode</td></tr><tr><th>5</th><td>101768</td><td>88752</td><td>90237</td><td>Burchard</td><td>Oberg</td></tr></tbody></table></div>"
      ],
      "text/latex": [
       "\\begin{tabular}{r|ccccc}\n",
       "\t& item\\_id & gsn\\_id & id\\_wiag & vorname & familienname\\\\\n",
       "\t\\hline\n",
       "\t& Int32 & Int32 & Int32? & String? & String?\\\\\n",
       "\t\\hline\n",
       "\t1 & 4805 & 6633 & 90233 & Brunward & \\emph{missing} \\\\\n",
       "\t2 & 26662 & 281113 & 90234 & Egilwart & \\emph{missing} \\\\\n",
       "\t3 & 50730 & 37806 & 90235 & Johannes & Kolkhagen \\\\\n",
       "\t4 & 101648 & 88632 & 90236 & Karl Franz & Nesselrode \\\\\n",
       "\t5 & 101768 & 88752 & 90237 & Burchard & Oberg \\\\\n",
       "\\end{tabular}\n"
      ],
      "text/plain": [
       "\u001b[1m5×5 DataFrame\u001b[0m\n",
       "\u001b[1m Row \u001b[0m│\u001b[1m item_id \u001b[0m\u001b[1m gsn_id \u001b[0m\u001b[1m id_wiag \u001b[0m\u001b[1m vorname    \u001b[0m\u001b[1m familienname \u001b[0m\n",
       "\u001b[1m     \u001b[0m│\u001b[90m Int32   \u001b[0m\u001b[90m Int32  \u001b[0m\u001b[90m Int32?  \u001b[0m\u001b[90m String?    \u001b[0m\u001b[90m String?      \u001b[0m\n",
       "─────┼────────────────────────────────────────────────────\n",
       "   1 │    4805    6633    90233  Brunward   \u001b[90m missing      \u001b[0m\n",
       "   2 │   26662  281113    90234  Egilwart   \u001b[90m missing      \u001b[0m\n",
       "   3 │   50730   37806    90235  Johannes    Kolkhagen\n",
       "   4 │  101648   88632    90236  Karl Franz  Nesselrode\n",
       "   5 │  101768   88752    90237  Burchard    Oberg"
      ]
     },
     "execution_count": 202,
     "metadata": {},
     "output_type": "execute_result"
    }
   ],
   "source": [
    "df_cn_id_new[1:5, [:item_id, :gsn_id, :id_wiag, :vorname, :familienname]]"
   ]
  },
  {
   "cell_type": "code",
   "execution_count": 203,
   "metadata": {},
   "outputs": [],
   "source": [
    "df_cn_all = vcat(df_cn_id_id, df_cn_id_new);"
   ]
  },
  {
   "cell_type": "markdown",
   "metadata": {},
   "source": [
    "### Einträge in `item`\n",
    "\n",
    "entsprechende Einträge in Tabelle `item` einfügen\n",
    "\n",
    "`id` für 'Domherr GS' in `item_type`: 6"
   ]
  },
  {
   "cell_type": "code",
   "execution_count": 204,
   "metadata": {},
   "outputs": [
    {
     "data": {
      "text/html": [
       "<div class=\"data-frame\"><p>6 rows × 5 columns</p><table class=\"data-frame\"><thead><tr><th></th><th>vorname</th><th>familienname</th><th>geburtsdatum</th><th>sterbedatum</th><th>id_wiag</th></tr><tr><th></th><th title=\"Union{Missing, String}\">String?</th><th title=\"Union{Missing, String}\">String?</th><th title=\"Union{Missing, String}\">String?</th><th title=\"Union{Missing, String}\">String?</th><th title=\"Union{Missing, Int32}\">Int32?</th></tr></thead><tbody><tr><th>1</th><td>Burchard</td><td>Steinbeck</td><td><em>missing</em></td><td>1470</td><td>80221</td></tr><tr><th>2</th><td>Burchard</td><td>Warberg</td><td><em>missing</em></td><td>1458</td><td>80222</td></tr><tr><th>3</th><td>Burchardus</td><td><em>missing</em></td><td><em>missing</em></td><td><em>missing</em></td><td>80225</td></tr><tr><th>4</th><td>Busso</td><td>Bartensleben</td><td><em>missing</em></td><td><em>missing</em></td><td>80226</td></tr><tr><th>5</th><td>Busso</td><td>Britzke</td><td>1534</td><td>1572</td><td>80232</td></tr><tr><th>6</th><td>Busso</td><td>Schilt</td><td><em>missing</em></td><td><em>missing</em></td><td>80234</td></tr></tbody></table></div>"
      ],
      "text/latex": [
       "\\begin{tabular}{r|ccccc}\n",
       "\t& vorname & familienname & geburtsdatum & sterbedatum & id\\_wiag\\\\\n",
       "\t\\hline\n",
       "\t& String? & String? & String? & String? & Int32?\\\\\n",
       "\t\\hline\n",
       "\t1 & Burchard & Steinbeck & \\emph{missing} & 1470 & 80221 \\\\\n",
       "\t2 & Burchard & Warberg & \\emph{missing} & 1458 & 80222 \\\\\n",
       "\t3 & Burchardus & \\emph{missing} & \\emph{missing} & \\emph{missing} & 80225 \\\\\n",
       "\t4 & Busso & Bartensleben & \\emph{missing} & \\emph{missing} & 80226 \\\\\n",
       "\t5 & Busso & Britzke & 1534 & 1572 & 80232 \\\\\n",
       "\t6 & Busso & Schilt & \\emph{missing} & \\emph{missing} & 80234 \\\\\n",
       "\\end{tabular}\n"
      ],
      "text/plain": [
       "\u001b[1m6×5 DataFrame\u001b[0m\n",
       "\u001b[1m Row \u001b[0m│\u001b[1m vorname    \u001b[0m\u001b[1m familienname \u001b[0m\u001b[1m geburtsdatum \u001b[0m\u001b[1m sterbedatum \u001b[0m\u001b[1m id_wiag \u001b[0m\n",
       "\u001b[1m     \u001b[0m│\u001b[90m String?    \u001b[0m\u001b[90m String?      \u001b[0m\u001b[90m String?      \u001b[0m\u001b[90m String?     \u001b[0m\u001b[90m Int32?  \u001b[0m\n",
       "─────┼──────────────────────────────────────────────────────────────\n",
       "   1 │ Burchard    Steinbeck    \u001b[90m missing      \u001b[0m 1470           80221\n",
       "   2 │ Burchard    Warberg      \u001b[90m missing      \u001b[0m 1458           80222\n",
       "   3 │ Burchardus \u001b[90m missing      \u001b[0m\u001b[90m missing      \u001b[0m\u001b[90m missing     \u001b[0m   80225\n",
       "   4 │ Busso       Bartensleben \u001b[90m missing      \u001b[0m\u001b[90m missing     \u001b[0m   80226\n",
       "   5 │ Busso       Britzke       1534          1572           80232\n",
       "   6 │ Busso       Schilt       \u001b[90m missing      \u001b[0m\u001b[90m missing     \u001b[0m   80234"
      ]
     },
     "execution_count": 204,
     "metadata": {},
     "output_type": "execute_result"
    }
   ],
   "source": [
    "df_cn_all[210:215, [:vorname, :familienname, :geburtsdatum, :sterbedatum, :id_wiag]]"
   ]
  },
  {
   "cell_type": "code",
   "execution_count": 205,
   "metadata": {},
   "outputs": [
    {
     "data": {
      "text/plain": [
       "2-element Vector{Pair{Symbol, Symbol}}:\n",
       " :id_person_gso => :id_in_source\n",
       "       :id_wiag => :id_wiag"
      ]
     },
     "execution_count": 205,
     "metadata": {},
     "output_type": "execute_result"
    }
   ],
   "source": [
    "columns = [\n",
    "    :id_person_gso => :id_in_source,\n",
    "    :id_wiag => :id_wiag\n",
    "]"
   ]
  },
  {
   "cell_type": "code",
   "execution_count": 206,
   "metadata": {},
   "outputs": [],
   "source": [
    "df_item = select(df_cn_all, columns);"
   ]
  },
  {
   "cell_type": "code",
   "execution_count": 207,
   "metadata": {},
   "outputs": [],
   "source": [
    "using Dates"
   ]
  },
  {
   "cell_type": "code",
   "execution_count": 208,
   "metadata": {},
   "outputs": [],
   "source": [
    "user_wiag_id = 1;\n",
    "time_stamp = Dates.format(now(), dateformat\"yyyy-mm-dd HH:MM\");"
   ]
  },
  {
   "cell_type": "code",
   "execution_count": 209,
   "metadata": {},
   "outputs": [],
   "source": [
    "insertcols!(\n",
    "    df_item, \n",
    "    1,\n",
    "    :item_type_id => item_type_id,\n",
    "    :edit_status => \"importiert\",\n",
    "    :created_by => user_wiag_id,\n",
    "    :date_created => time_stamp,\n",
    "    :changed_by => user_wiag_id,\n",
    "    :date_changed => time_stamp,\n",
    "    :is_online => 1\n",
    ");"
   ]
  },
  {
   "cell_type": "code",
   "execution_count": 210,
   "metadata": {},
   "outputs": [
    {
     "data": {
      "text/html": [
       "<p>DataFrameRow (9 columns)</p><div class=\"data-frame\"><table class=\"data-frame\"><thead><tr><th></th><th>item_type_id</th><th>edit_status</th><th>created_by</th><th>date_created</th><th>changed_by</th><th>date_changed</th></tr><tr><th></th><th title=\"Int64\">Int64</th><th title=\"String\">String</th><th title=\"Int64\">Int64</th><th title=\"String\">String</th><th title=\"Int64\">Int64</th><th title=\"String\">String</th></tr></thead><tbody><tr><th>17</th><td>6</td><td>importiert</td><td>1</td><td>2022-03-10 18:19</td><td>1</td><td>2022-03-10 18:19</td></tr></tbody></table></div>"
      ],
      "text/latex": [
       "\\begin{tabular}{r|ccccccc}\n",
       "\t& item\\_type\\_id & edit\\_status & created\\_by & date\\_created & changed\\_by & date\\_changed & \\\\\n",
       "\t\\hline\n",
       "\t& Int64 & String & Int64 & String & Int64 & String & \\\\\n",
       "\t\\hline\n",
       "\t17 & 6 & importiert & 1 & 2022-03-10 18:19 & 1 & 2022-03-10 18:19 & $\\dots$ \\\\\n",
       "\\end{tabular}\n"
      ],
      "text/plain": [
       "\u001b[1mDataFrameRow\u001b[0m\n",
       "\u001b[1m Row \u001b[0m│\u001b[1m item_type_id \u001b[0m\u001b[1m edit_status \u001b[0m\u001b[1m created_by \u001b[0m\u001b[1m date_created     \u001b[0m\u001b[1m changed_by \u001b[0m\u001b[1m da\u001b[0m ⋯\n",
       "\u001b[1m     \u001b[0m│\u001b[90m Int64        \u001b[0m\u001b[90m String      \u001b[0m\u001b[90m Int64      \u001b[0m\u001b[90m String           \u001b[0m\u001b[90m Int64      \u001b[0m\u001b[90m St\u001b[0m ⋯\n",
       "─────┼──────────────────────────────────────────────────────────────────────────\n",
       "  17 │            6  importiert            1  2022-03-10 18:19           1  20 ⋯\n",
       "\u001b[36m                                                               4 columns omitted\u001b[0m"
      ]
     },
     "execution_count": 210,
     "metadata": {},
     "output_type": "execute_result"
    }
   ],
   "source": [
    "df_item[17, :]"
   ]
  },
  {
   "cell_type": "markdown",
   "metadata": {},
   "source": [
    "Public ID erzeugen"
   ]
  },
  {
   "cell_type": "code",
   "execution_count": 211,
   "metadata": {},
   "outputs": [
    {
     "data": {
      "text/plain": [
       "make_id_public (generic function with 1 method)"
      ]
     },
     "execution_count": 211,
     "metadata": {},
     "output_type": "execute_result"
    }
   ],
   "source": [
    "function make_id_public(id::Real)\n",
    "    id_public_key = \"Pers-CANON\"\n",
    "    num_id_length = 5\n",
    "    return \"WIAG-\" * id_public_key * \"-\" * lpad(id, num_id_length, '0') * \"-001\"\n",
    "end"
   ]
  },
  {
   "cell_type": "code",
   "execution_count": 212,
   "metadata": {},
   "outputs": [],
   "source": [
    "transform!(df_item, :id_wiag => ByRow(make_id_public) => :id_public);"
   ]
  },
  {
   "cell_type": "code",
   "execution_count": 213,
   "metadata": {},
   "outputs": [
    {
     "data": {
      "text/plain": [
       "10-element Vector{String}:\n",
       " \"item_type_id\"\n",
       " \"edit_status\"\n",
       " \"created_by\"\n",
       " \"date_created\"\n",
       " \"changed_by\"\n",
       " \"date_changed\"\n",
       " \"is_online\"\n",
       " \"id_in_source\"\n",
       " \"id_wiag\"\n",
       " \"id_public\""
      ]
     },
     "execution_count": 213,
     "metadata": {},
     "output_type": "execute_result"
    }
   ],
   "source": [
    "names(df_item)"
   ]
  },
  {
   "cell_type": "markdown",
   "metadata": {},
   "source": [
    "Bestehende Einträge löschen  \n",
    "Die Einträge in `item` sind bei einem Update als letztes zu löschen, da die anderen Tabellen von Tabelle `item` abhängen."
   ]
  },
  {
   "cell_type": "code",
   "execution_count": 214,
   "metadata": {},
   "outputs": [
    {
     "data": {
      "text/plain": [
       "6"
      ]
     },
     "execution_count": 214,
     "metadata": {},
     "output_type": "execute_result"
    }
   ],
   "source": [
    "item_type_id"
   ]
  },
  {
   "cell_type": "code",
   "execution_count": 215,
   "metadata": {},
   "outputs": [
    {
     "data": {
      "text/plain": [
       "MySQL.TextCursor{true}(MySQL.Connection(host=\"127.0.0.1\", user=\"georg\", port=\"3306\", db=\"wiag2\"), \"DELETE FROM item WHERE item_type_id = 6\", 0, -1, 0, MySQL.API.MYSQL_RES(Ptr{Nothing} @0x0000000000000000), Symbol[], Type[], Dict{Symbol, Int64}(), 0, 1, false)"
      ]
     },
     "execution_count": 215,
     "metadata": {},
     "output_type": "execute_result"
    }
   ],
   "source": [
    "table_name = \"item\";\n",
    "sql = \"DELETE FROM $(table_name) WHERE item_type_id = $(item_type_id)\"\n",
    "DBInterface.execute(Wds.dbwiag, sql)"
   ]
  },
  {
   "cell_type": "code",
   "execution_count": 216,
   "metadata": {},
   "outputs": [
    {
     "data": {
      "text/plain": [
       "1-element Vector{Symbol}:\n",
       " :id_wiag"
      ]
     },
     "execution_count": 216,
     "metadata": {},
     "output_type": "execute_result"
    }
   ],
   "source": [
    "exclude_cols = [\n",
    "    :id_wiag,    \n",
    "]"
   ]
  },
  {
   "cell_type": "code",
   "execution_count": 217,
   "metadata": {},
   "outputs": [
    {
     "name": "stderr",
     "output_type": "stream",
     "text": [
      "┌ Info: Rows inserted: 8523\n",
      "└ @ WiagDataSetup C:\\Users\\georg\\Documents\\projekte\\WiagDataSetup.jl\\src\\WiagDataSetup.jl:1208\n"
     ]
    },
    {
     "data": {
      "text/plain": [
       "8523"
      ]
     },
     "execution_count": 217,
     "metadata": {},
     "output_type": "execute_result"
    }
   ],
   "source": [
    "table_name = \"item\";\n",
    "Wds.filltable!(table_name, select(df_item, Not(exclude_cols)), clear_table = false)"
   ]
  },
  {
   "cell_type": "markdown",
   "metadata": {},
   "source": [
    "### Daten eintragen\n",
    "\n",
    "IDs auslesen"
   ]
  },
  {
   "cell_type": "code",
   "execution_count": 218,
   "metadata": {},
   "outputs": [],
   "source": [
    "table_name = \"item\";\n",
    "sql = \"SELECT id, id_in_source FROM $(table_name) where item_type_id = ($item_type_id)\"\n",
    "df_idx = DBInterface.execute(Wds.dbwiag, sql) |> DataFrame;"
   ]
  },
  {
   "cell_type": "code",
   "execution_count": 219,
   "metadata": {},
   "outputs": [
    {
     "data": {
      "text/plain": [
       "(8523, 2)"
      ]
     },
     "execution_count": 219,
     "metadata": {},
     "output_type": "execute_result"
    }
   ],
   "source": [
    "size(df_idx)"
   ]
  },
  {
   "cell_type": "markdown",
   "metadata": {},
   "source": [
    "Spalte für die Zusammenführung befüllen (Typ: String!)"
   ]
  },
  {
   "cell_type": "code",
   "execution_count": 220,
   "metadata": {},
   "outputs": [],
   "source": [
    "transform!(df_cn_all, :id_person_gso => ByRow(string) => :id_in_source);"
   ]
  },
  {
   "cell_type": "code",
   "execution_count": 221,
   "metadata": {},
   "outputs": [],
   "source": [
    "df_cn_idx = innerjoin(df_idx, df_cn_all, on = :id_in_source);"
   ]
  },
  {
   "cell_type": "markdown",
   "metadata": {},
   "source": [
    "Jahreszahlen ermitteln"
   ]
  },
  {
   "cell_type": "code",
   "execution_count": 222,
   "metadata": {},
   "outputs": [
    {
     "data": {
      "text/plain": [
       "parse_date_birth (generic function with 1 method)"
      ]
     },
     "execution_count": 222,
     "metadata": {},
     "output_type": "execute_result"
    }
   ],
   "source": [
    "parse_date_birth(s) = Wds.parsemaybe(s, :lower)"
   ]
  },
  {
   "cell_type": "code",
   "execution_count": 223,
   "metadata": {},
   "outputs": [
    {
     "data": {
      "text/plain": [
       "parse_date_death (generic function with 1 method)"
      ]
     },
     "execution_count": 223,
     "metadata": {},
     "output_type": "execute_result"
    }
   ],
   "source": [
    "parse_date_death(s) = Wds.parsemaybe(s, :upper)"
   ]
  },
  {
   "cell_type": "code",
   "execution_count": 224,
   "metadata": {},
   "outputs": [],
   "source": [
    "transform!(df_cn_idx, :geburtsdatum => ByRow(parse_date_birth) => :num_date_birth);"
   ]
  },
  {
   "cell_type": "code",
   "execution_count": 225,
   "metadata": {},
   "outputs": [],
   "source": [
    "transform!(df_cn_idx, :sterbedatum => ByRow(parse_date_death) => :num_date_death);"
   ]
  },
  {
   "cell_type": "markdown",
   "metadata": {},
   "source": [
    "Felder auswählen; Orden folgen später (siehe unten)"
   ]
  },
  {
   "cell_type": "code",
   "execution_count": 251,
   "metadata": {},
   "outputs": [
    {
     "data": {
      "text/plain": [
       "25-element Vector{String}:\n",
       " \"id\"\n",
       " \"id_in_source\"\n",
       " \"id_person_gso\"\n",
       " \"item_id_gs\"\n",
       " \"namenspraefix\"\n",
       " \"vorname\"\n",
       " \"familienname\"\n",
       " \"sterbedatum\"\n",
       " \"geburtsdatum\"\n",
       " \"orden\"\n",
       " \"anmerkungen\"\n",
       " \"titel\"\n",
       " \"gndnummer\"\n",
       " \"viaf\"\n",
       " \"familiennamenvarianten\"\n",
       " \"vornamenvarianten\"\n",
       " \"namenszusatz\"\n",
       " \"zeitraum_von\"\n",
       " \"zeitraum_bis\"\n",
       " \"gsn_tbl_id\"\n",
       " \"gsn_id\"\n",
       " \"status\"\n",
       " \"id_wiag\"\n",
       " \"num_date_birth\"\n",
       " \"num_date_death\""
      ]
     },
     "execution_count": 251,
     "metadata": {},
     "output_type": "execute_result"
    }
   ],
   "source": [
    "names(df_cn_idx)"
   ]
  },
  {
   "cell_type": "code",
   "execution_count": 226,
   "metadata": {
    "scrolled": true
   },
   "outputs": [
    {
     "data": {
      "text/plain": [
       "9-element Vector{Pair{Symbol, Symbol}}:\n",
       "             :id => :id\n",
       "  :namenspraefix => :prefixname\n",
       "        :vorname => :givenname\n",
       "   :familienname => :familyname\n",
       "    :anmerkungen => :comment\n",
       "   :geburtsdatum => :date_birth\n",
       "    :sterbedatum => :date_death\n",
       " :num_date_birth => :num_date_birth\n",
       " :num_date_death => :num_date_death"
      ]
     },
     "execution_count": 226,
     "metadata": {},
     "output_type": "execute_result"
    }
   ],
   "source": [
    "columns = [\n",
    "    :id => :id,\n",
    "    :namenspraefix => :prefixname,\n",
    "    :vorname => :givenname,\n",
    "    :familienname => :familyname,\n",
    "    :anmerkungen => :comment,\n",
    "    :geburtsdatum => :date_birth,\n",
    "    :sterbedatum => :date_death,\n",
    "    :num_date_birth => :num_date_birth,\n",
    "    :num_date_death => :num_date_death,\n",
    "]"
   ]
  },
  {
   "cell_type": "markdown",
   "metadata": {},
   "source": [
    "Einträge löschen (Korrektur/Update)"
   ]
  },
  {
   "cell_type": "code",
   "execution_count": 227,
   "metadata": {},
   "outputs": [
    {
     "data": {
      "text/plain": [
       "MySQL.TextCursor{true}(MySQL.Connection(host=\"127.0.0.1\", user=\"georg\", port=\"3306\", db=\"wiag2\"), \"DELETE FROM person\\nWHERE id IN (SELECT id FROM item WHERE item_type_id = 6)\", 0, -1, 0, MySQL.API.MYSQL_RES(Ptr{Nothing} @0x0000000000000000), Symbol[], Type[], Dict{Symbol, Int64}(), 0, 1, false)"
      ]
     },
     "execution_count": 227,
     "metadata": {},
     "output_type": "execute_result"
    }
   ],
   "source": [
    "table_name = \"person\"\n",
    "sql = \"DELETE FROM $(table_name)\n",
    "WHERE id IN (SELECT id FROM item WHERE item_type_id = $(item_type_id))\"\n",
    "DBInterface.execute(Wds.dbwiag, sql)"
   ]
  },
  {
   "cell_type": "code",
   "execution_count": 228,
   "metadata": {},
   "outputs": [
    {
     "name": "stderr",
     "output_type": "stream",
     "text": [
      "┌ Info: Rows inserted: 8523\n",
      "└ @ WiagDataSetup C:\\Users\\georg\\Documents\\projekte\\WiagDataSetup.jl\\src\\WiagDataSetup.jl:1208\n"
     ]
    },
    {
     "data": {
      "text/plain": [
       "8523"
      ]
     },
     "execution_count": 228,
     "metadata": {},
     "output_type": "execute_result"
    }
   ],
   "source": [
    "Wds.filltable!(\"person\", select(df_cn_idx, columns); clear_table=false)"
   ]
  },
  {
   "cell_type": "markdown",
   "metadata": {},
   "source": [
    "### Orden eintragen\n",
    "*2022-01-19* Die (vorläufige) Ordenstabelle basiert auf den Ordensangaben für Bischöfe und auf den Ordensangaben hier."
   ]
  },
  {
   "cell_type": "code",
   "execution_count": 86,
   "metadata": {},
   "outputs": [
    {
     "data": {
      "text/plain": [
       "10-element Vector{Union{Missing, String}}:\n",
       " missing\n",
       " \"OPraem\"\n",
       " \"SJ\"\n",
       " \"OP\"\n",
       " \"Kapuziner\"\n",
       " \"OFMObs\"\n",
       " \"S. J.\"\n",
       " \"OSB\"\n",
       " \"OT\"\n",
       " \"CRVC\""
      ]
     },
     "execution_count": 86,
     "metadata": {},
     "output_type": "execute_result"
    }
   ],
   "source": [
    "unique(df_cn_all.orden)"
   ]
  },
  {
   "cell_type": "code",
   "execution_count": 229,
   "metadata": {},
   "outputs": [
    {
     "data": {
      "text/plain": [
       "Dict{String, String} with 2 entries:\n",
       "  \"Kapuziner\" => \"OFMCap\"\n",
       "  \"S. J.\"     => \"SJ\""
      ]
     },
     "execution_count": 229,
     "metadata": {},
     "output_type": "execute_result"
    }
   ],
   "source": [
    "lookup_order = Dict(\n",
    "    \"Kapuziner\" => \"OFMCap\",\n",
    "    \"S. J.\" => \"SJ\",\n",
    ")"
   ]
  },
  {
   "cell_type": "code",
   "execution_count": 230,
   "metadata": {},
   "outputs": [
    {
     "data": {
      "text/plain": [
       "normalize_order (generic function with 1 method)"
      ]
     },
     "execution_count": 230,
     "metadata": {},
     "output_type": "execute_result"
    }
   ],
   "source": [
    "normalize_order(order) = get(lookup_order, order, order)"
   ]
  },
  {
   "cell_type": "code",
   "execution_count": 231,
   "metadata": {},
   "outputs": [],
   "source": [
    "transform!(df_cn_idx, :orden => ByRow(normalize_order) => :orden);"
   ]
  },
  {
   "cell_type": "code",
   "execution_count": 232,
   "metadata": {},
   "outputs": [
    {
     "data": {
      "text/plain": [
       "9-element Vector{Union{Missing, String}}:\n",
       " \"OPraem\"\n",
       " \"SJ\"\n",
       " \"OP\"\n",
       " \"OFMCap\"\n",
       " \"OFMObs\"\n",
       " \"OSB\"\n",
       " \"OT\"\n",
       " \"CRVC\"\n",
       " \"OCist\""
      ]
     },
     "execution_count": 232,
     "metadata": {},
     "output_type": "execute_result"
    }
   ],
   "source": [
    "orders_gs = filter(!ismissing, unique(df_cn_idx.orden))"
   ]
  },
  {
   "cell_type": "code",
   "execution_count": 124,
   "metadata": {},
   "outputs": [],
   "source": [
    "table_name = \"religious_order\"\n",
    "sql = \"SELECT abbreviation FROM $(table_name)\"\n",
    "df_orders = Wds.sql_df(sql);"
   ]
  },
  {
   "cell_type": "code",
   "execution_count": 125,
   "metadata": {},
   "outputs": [
    {
     "data": {
      "text/plain": [
       "Union{Missing, String}[]"
      ]
     },
     "execution_count": 125,
     "metadata": {},
     "output_type": "execute_result"
    }
   ],
   "source": [
    "new_orders = setdiff(orders_gs, df_orders.abbreviation)"
   ]
  },
  {
   "cell_type": "markdown",
   "metadata": {},
   "source": [
    "Eintrag in `item`"
   ]
  },
  {
   "cell_type": "markdown",
   "metadata": {},
   "source": [
    "*2022-02-25* Nur nötig, wenn die Orden neu angelegt werden."
   ]
  },
  {
   "cell_type": "code",
   "execution_count": 141,
   "metadata": {},
   "outputs": [],
   "source": [
    "table_name = \"item\";\n",
    "sql = \"SELECT * FROM $(table_name) LIMIT 0\";\n",
    "df_item = Wds.sql_df(sql);"
   ]
  },
  {
   "cell_type": "code",
   "execution_count": 135,
   "metadata": {},
   "outputs": [],
   "source": [
    "id_next = 22;"
   ]
  },
  {
   "cell_type": "code",
   "execution_count": 136,
   "metadata": {},
   "outputs": [],
   "source": [
    "item_type_order = 7;\n",
    "user_wiag_id = 7; # Georg\n",
    "time_stamp = Dates.format(now(), dateformat\"yyyy-mm-dd HH:MM\");"
   ]
  },
  {
   "cell_type": "code",
   "execution_count": 142,
   "metadata": {},
   "outputs": [],
   "source": [
    "df_item = select(df_item, Not(:id));"
   ]
  },
  {
   "cell_type": "code",
   "execution_count": 156,
   "metadata": {},
   "outputs": [
    {
     "data": {
      "text/plain": [
       "MySQL.TextCursor{true}(MySQL.Connection(host=\"127.0.0.1\", user=\"georg\", port=\"3306\", db=\"wiag2\"), \"INSERT INTO item SET\\n    item_type_id = 7,    \\n    id_in_source = 22,\\n    is_deleted = 0,\\n    is_online = 0,\\n    created_by = 7,\\n    date_created = '2022-01-19 11:11',\\n    changed_by = 7,\\n    date_changed = '2022-01-19 11:11'\", 0, -1, 1, MySQL.API.MYSQL_RES(Ptr{Nothing} @0x0000000000000000), Symbol[], Type[], Dict{Symbol, Int64}(), 0, 1, false)"
      ]
     },
     "execution_count": 156,
     "metadata": {},
     "output_type": "execute_result"
    }
   ],
   "source": [
    "table_name = \"item\"\n",
    "sql = \"INSERT INTO $(table_name) SET\n",
    "    item_type_id = $(item_type_order),    \n",
    "    id_in_source = $(id_next),\n",
    "    is_deleted = 0,\n",
    "    is_online = 0,\n",
    "    created_by = $(user_wiag_id),\n",
    "    date_created = '$(time_stamp)',\n",
    "    changed_by = $(user_wiag_id),\n",
    "    date_changed = '$(time_stamp)'\"\n",
    "DBInterface.execute(Wds.dbwiag, sql)"
   ]
  },
  {
   "cell_type": "markdown",
   "metadata": {},
   "source": [
    "Lies `id_item` für religiöse Orden aus"
   ]
  },
  {
   "cell_type": "code",
   "execution_count": 233,
   "metadata": {},
   "outputs": [
    {
     "ename": "LoadError",
     "evalue": "UndefVarError: id_next not defined",
     "output_type": "error",
     "traceback": [
      "UndefVarError: id_next not defined",
      "",
      "Stacktrace:",
      " [1] top-level scope",
      "   @ In[233]:2",
      " [2] eval",
      "   @ .\\boot.jl:373 [inlined]",
      " [3] include_string(mapexpr::typeof(REPL.softscope), mod::Module, code::String, filename::String)",
      "   @ Base .\\loading.jl:1196"
     ]
    }
   ],
   "source": [
    "table_name = \"item\"\n",
    "sql = \"SELECT id, id_in_source \n",
    "FROM $(table_name) \n",
    "WHERE id_in_source = $(id_next) and item_type_id = $(item_type_order)\"\n",
    "df_idx = Wds.sql_df(sql);"
   ]
  },
  {
   "cell_type": "code",
   "execution_count": 160,
   "metadata": {},
   "outputs": [
    {
     "data": {
      "text/plain": [
       "92259"
      ]
     },
     "execution_count": 160,
     "metadata": {},
     "output_type": "execute_result"
    }
   ],
   "source": [
    "item_id = df_idx[1, :id]"
   ]
  },
  {
   "cell_type": "code",
   "execution_count": 161,
   "metadata": {},
   "outputs": [
    {
     "data": {
      "text/plain": [
       "MySQL.TextCursor{true}(MySQL.Connection(host=\"127.0.0.1\", user=\"georg\", port=\"3306\", db=\"wiag2\"), \"INSERT INTO religious_order SET id = 92259, abbreviation = 'CRVC'\", 0, -1, 1, MySQL.API.MYSQL_RES(Ptr{Nothing} @0x0000000000000000), Symbol[], Type[], Dict{Symbol, Int64}(), 0, 1, false)"
      ]
     },
     "execution_count": 161,
     "metadata": {},
     "output_type": "execute_result"
    }
   ],
   "source": [
    "table_name = \"religious_order\";\n",
    "sql = \"INSERT INTO $(table_name) SET id = $(item_id), abbreviation = 'CRVC'\";\n",
    "DBInterface.execute(Wds.dbwiag, sql)"
   ]
  },
  {
   "cell_type": "markdown",
   "metadata": {},
   "source": [
    "Tabelle `person` aktualisieren"
   ]
  },
  {
   "cell_type": "code",
   "execution_count": 234,
   "metadata": {},
   "outputs": [],
   "source": [
    "df_cn_order = dropmissing(df_cn_idx, :orden);"
   ]
  },
  {
   "cell_type": "code",
   "execution_count": 235,
   "metadata": {},
   "outputs": [
    {
     "data": {
      "text/plain": [
       "(56, 25)"
      ]
     },
     "execution_count": 235,
     "metadata": {},
     "output_type": "execute_result"
    }
   ],
   "source": [
    "size(df_cn_order)"
   ]
  },
  {
   "cell_type": "markdown",
   "metadata": {},
   "source": [
    "Lies die ID für die Orden aus."
   ]
  },
  {
   "cell_type": "code",
   "execution_count": 236,
   "metadata": {},
   "outputs": [],
   "source": [
    "table_name = \"religious_order\"\n",
    "sql = \"SELECT id AS religious_order_id, abbreviation AS orden FROM $(table_name)\";\n",
    "df_order_db = Wds.sql_df(sql);"
   ]
  },
  {
   "cell_type": "code",
   "execution_count": 237,
   "metadata": {},
   "outputs": [],
   "source": [
    "df_cn_order = leftjoin(df_cn_order, df_order_db, on = :orden);"
   ]
  },
  {
   "cell_type": "code",
   "execution_count": 238,
   "metadata": {},
   "outputs": [
    {
     "data": {
      "text/plain": [
       "0"
      ]
     },
     "execution_count": 238,
     "metadata": {},
     "output_type": "execute_result"
    }
   ],
   "source": [
    "count(ismissing.(df_cn_order.religious_order_id))"
   ]
  },
  {
   "cell_type": "code",
   "execution_count": 239,
   "metadata": {},
   "outputs": [],
   "source": [
    "DBInterface.execute(Wds.dbwiag, \"DROP TABLE IF EXISTS person_update\");\n",
    "sql = \"CREATE TEMPORARY TABLE person_update (\" *\n",
    "\"id INT, \" *\n",
    "\"religious_order_id INT)\"\n",
    "DBInterface.execute(Wds.dbwiag, sql);"
   ]
  },
  {
   "cell_type": "code",
   "execution_count": 240,
   "metadata": {},
   "outputs": [
    {
     "name": "stderr",
     "output_type": "stream",
     "text": [
      "┌ Info: Rows inserted: 56\n",
      "└ @ WiagDataSetup C:\\Users\\georg\\Documents\\projekte\\WiagDataSetup.jl\\src\\WiagDataSetup.jl:1208\n"
     ]
    },
    {
     "data": {
      "text/plain": [
       "56"
      ]
     },
     "execution_count": 240,
     "metadata": {},
     "output_type": "execute_result"
    }
   ],
   "source": [
    "Wds.filltable!(\"person_update\", select(df_cn_order, :id, :religious_order_id))"
   ]
  },
  {
   "cell_type": "code",
   "execution_count": 241,
   "metadata": {},
   "outputs": [
    {
     "data": {
      "text/plain": [
       "MySQL.TextCursor{true}(MySQL.Connection(host=\"127.0.0.1\", user=\"georg\", port=\"3306\", db=\"wiag2\"), \"UPDATE person as p, (SELECT id, religious_order_id FROM person_update) as oid SET p.religious_order_id = oid.religious_order_id WHERE p.id = oid.id\", 0, -1, 56, MySQL.API.MYSQL_RES(Ptr{Nothing} @0x0000000000000000), Symbol[], Type[], Dict{Symbol, Int64}(), 0, 1, false)"
      ]
     },
     "execution_count": 241,
     "metadata": {},
     "output_type": "execute_result"
    }
   ],
   "source": [
    "table_name = \"person\"\n",
    "table_update_src = \"person_update\"\n",
    "sql = \"UPDATE $(table_name) as p, (SELECT id, religious_order_id FROM $(table_update_src)) as oid \" *\n",
    "\"SET p.religious_order_id = oid.religious_order_id \" *\n",
    "\"WHERE p.id = oid.id\"\n",
    "DBInterface.execute(Wds.dbwiag, sql)"
   ]
  },
  {
   "cell_type": "markdown",
   "metadata": {},
   "source": [
    "### Literaturverweise eintragen"
   ]
  },
  {
   "cell_type": "markdown",
   "metadata": {},
   "source": [
    "IDs wieder einlesen, falls hier neu gestartet wird."
   ]
  },
  {
   "cell_type": "code",
   "execution_count": 73,
   "metadata": {},
   "outputs": [],
   "source": [
    "table_name = \"item\";\n",
    "sql = \"SELECT id, id_in_source\n",
    "FROM $(table_name)\n",
    "WHERE item_type_id = $(item_type_id)\";\n",
    "df_idx = Wds.sql_df(sql);"
   ]
  },
  {
   "cell_type": "code",
   "execution_count": 242,
   "metadata": {},
   "outputs": [
    {
     "data": {
      "text/plain": [
       "(8523, 8523)"
      ]
     },
     "execution_count": 242,
     "metadata": {},
     "output_type": "execute_result"
    }
   ],
   "source": [
    "size(df_idx, 1), size(df_p_gsn, 1)"
   ]
  },
  {
   "cell_type": "code",
   "execution_count": 83,
   "metadata": {},
   "outputs": [
    {
     "data": {
      "text/plain": [
       "find_ids (generic function with 1 method)"
      ]
     },
     "execution_count": 83,
     "metadata": {},
     "output_type": "execute_result"
    }
   ],
   "source": [
    "find_ids(id) = id in (\"4586\", \"4590\", \"4620\", \"4623\")"
   ]
  },
  {
   "cell_type": "code",
   "execution_count": 84,
   "metadata": {},
   "outputs": [
    {
     "data": {
      "text/html": [
       "<div class=\"data-frame\"><p>4 rows × 2 columns</p><table class=\"data-frame\"><thead><tr><th></th><th>id</th><th>id_in_source</th></tr><tr><th></th><th title=\"Int32\">Int32</th><th title=\"Union{Missing, String}\">String?</th></tr></thead><tbody><tr><th>1</th><td>145492</td><td>4623</td></tr><tr><th>2</th><td>145493</td><td>4620</td></tr><tr><th>3</th><td>145494</td><td>4590</td></tr><tr><th>4</th><td>145495</td><td>4586</td></tr></tbody></table></div>"
      ],
      "text/latex": [
       "\\begin{tabular}{r|cc}\n",
       "\t& id & id\\_in\\_source\\\\\n",
       "\t\\hline\n",
       "\t& Int32 & String?\\\\\n",
       "\t\\hline\n",
       "\t1 & 145492 & 4623 \\\\\n",
       "\t2 & 145493 & 4620 \\\\\n",
       "\t3 & 145494 & 4590 \\\\\n",
       "\t4 & 145495 & 4586 \\\\\n",
       "\\end{tabular}\n"
      ],
      "text/plain": [
       "\u001b[1m4×2 DataFrame\u001b[0m\n",
       "\u001b[1m Row \u001b[0m│\u001b[1m id     \u001b[0m\u001b[1m id_in_source \u001b[0m\n",
       "\u001b[1m     \u001b[0m│\u001b[90m Int32  \u001b[0m\u001b[90m String?      \u001b[0m\n",
       "─────┼──────────────────────\n",
       "   1 │ 145492  4623\n",
       "   2 │ 145493  4620\n",
       "   3 │ 145494  4590\n",
       "   4 │ 145495  4586"
      ]
     },
     "execution_count": 84,
     "metadata": {},
     "output_type": "execute_result"
    }
   ],
   "source": [
    "subset(df_idx, :id_in_source => ByRow(find_ids))"
   ]
  },
  {
   "cell_type": "code",
   "execution_count": 100,
   "metadata": {},
   "outputs": [
    {
     "data": {
      "text/html": [
       "<div class=\"data-frame\"><p>5 rows × 2 columns</p><table class=\"data-frame\"><thead><tr><th></th><th>id_person_gso</th><th>vorname</th></tr><tr><th></th><th title=\"Int32\">Int32</th><th title=\"Union{Missing, String}\">String?</th></tr></thead><tbody><tr><th>1</th><td>281468</td><td>Peter</td></tr><tr><th>2</th><td>281436</td><td>Thomas</td></tr><tr><th>3</th><td>281438</td><td>Albrecht</td></tr><tr><th>4</th><td>307203</td><td>Dietrich</td></tr><tr><th>5</th><td>281440</td><td>Peter</td></tr></tbody></table></div>"
      ],
      "text/latex": [
       "\\begin{tabular}{r|cc}\n",
       "\t& id\\_person\\_gso & vorname\\\\\n",
       "\t\\hline\n",
       "\t& Int32 & String?\\\\\n",
       "\t\\hline\n",
       "\t1 & 281468 & Peter \\\\\n",
       "\t2 & 281436 & Thomas \\\\\n",
       "\t3 & 281438 & Albrecht \\\\\n",
       "\t4 & 307203 & Dietrich \\\\\n",
       "\t5 & 281440 & Peter \\\\\n",
       "\\end{tabular}\n"
      ],
      "text/plain": [
       "\u001b[1m5×2 DataFrame\u001b[0m\n",
       "\u001b[1m Row \u001b[0m│\u001b[1m id_person_gso \u001b[0m\u001b[1m vorname  \u001b[0m\n",
       "\u001b[1m     \u001b[0m│\u001b[90m Int32         \u001b[0m\u001b[90m String?  \u001b[0m\n",
       "─────┼─────────────────────────\n",
       "   1 │        281468  Peter\n",
       "   2 │        281436  Thomas\n",
       "   3 │        281438  Albrecht\n",
       "   4 │        307203  Dietrich\n",
       "   5 │        281440  Peter"
      ]
     },
     "execution_count": 100,
     "metadata": {},
     "output_type": "execute_result"
    }
   ],
   "source": [
    "df_p_gsn[1:5, [:id_person_gso, :vorname]]"
   ]
  },
  {
   "cell_type": "code",
   "execution_count": 243,
   "metadata": {},
   "outputs": [],
   "source": [
    "transform!(df_p_gsn, :id_person_gso => ByRow(string) => :id_in_source);"
   ]
  },
  {
   "cell_type": "code",
   "execution_count": 244,
   "metadata": {},
   "outputs": [],
   "source": [
    "df_cn_idx = innerjoin(df_p_gsn, df_idx, on = :id_in_source);"
   ]
  },
  {
   "cell_type": "code",
   "execution_count": 245,
   "metadata": {},
   "outputs": [
    {
     "data": {
      "text/plain": [
       "8523"
      ]
     },
     "execution_count": 245,
     "metadata": {},
     "output_type": "execute_result"
    }
   ],
   "source": [
    "size(df_cn_idx, 1)"
   ]
  },
  {
   "cell_type": "code",
   "execution_count": 246,
   "metadata": {},
   "outputs": [],
   "source": [
    "table_name = gs_db * \".locations\";\n",
    "sql = \"SELECT item_id as item_id_gs, seiten, book_id  FROM $(table_name) \" * \n",
    "\"WHERE item_status = 'online' AND NOT deleted \" *\n",
    "\"GROUP BY item_id, book_id, seiten\"\n",
    "df_p_ref = Wds.sql_df(sql);"
   ]
  },
  {
   "cell_type": "markdown",
   "metadata": {},
   "source": [
    "Verbinde die Literaturangaben mit den relevanten Domherren"
   ]
  },
  {
   "cell_type": "code",
   "execution_count": 247,
   "metadata": {},
   "outputs": [
    {
     "data": {
      "text/plain": [
       "2-element Vector{Pair{Symbol, Symbol}}:\n",
       "      :id => :item_id\n",
       " :item_id => :item_id_gs"
      ]
     },
     "execution_count": 247,
     "metadata": {},
     "output_type": "execute_result"
    }
   ],
   "source": [
    "columns = [:id => :item_id, :item_id => :item_id_gs]"
   ]
  },
  {
   "cell_type": "code",
   "execution_count": 248,
   "metadata": {},
   "outputs": [],
   "source": [
    "df_p_ref = innerjoin(df_p_ref, select(df_cn_idx, columns), on = :item_id_gs);"
   ]
  },
  {
   "cell_type": "code",
   "execution_count": 249,
   "metadata": {},
   "outputs": [
    {
     "data": {
      "text/plain": [
       "(14014, 4)"
      ]
     },
     "execution_count": 249,
     "metadata": {},
     "output_type": "execute_result"
    }
   ],
   "source": [
    "size(df_p_ref)"
   ]
  },
  {
   "cell_type": "markdown",
   "metadata": {},
   "source": [
    "Übernimm für Domherren mit Kurzbiographie nur Literaturhinweise mit Kurzbiographien (`transfer_gso.sql`: 2021-04-26) Es ist freilich möglich, dass es mehrere Literaturverweise gibt, die eine Kurzbiographie enthalten."
   ]
  },
  {
   "cell_type": "code",
   "execution_count": 250,
   "metadata": {},
   "outputs": [],
   "source": [
    "is_bio(seiten) = contains(seiten, \"<b>\");"
   ]
  },
  {
   "cell_type": "code",
   "execution_count": 251,
   "metadata": {},
   "outputs": [],
   "source": [
    "df_p_ref_bio = subset(df_p_ref, :seiten =>ByRow(is_bio));"
   ]
  },
  {
   "cell_type": "code",
   "execution_count": 252,
   "metadata": {},
   "outputs": [
    {
     "data": {
      "text/plain": [
       "(7405, 4)"
      ]
     },
     "execution_count": 252,
     "metadata": {},
     "output_type": "execute_result"
    }
   ],
   "source": [
    "size(df_p_ref_bio)"
   ]
  },
  {
   "cell_type": "markdown",
   "metadata": {},
   "source": [
    "Bilde die Differenzmenge in Bezug auf Domherren, nicht in Bezug auf Literaturverweise"
   ]
  },
  {
   "cell_type": "code",
   "execution_count": 253,
   "metadata": {},
   "outputs": [
    {
     "data": {
      "text/plain": [
       "is_item_bio (generic function with 1 method)"
      ]
     },
     "execution_count": 253,
     "metadata": {},
     "output_type": "execute_result"
    }
   ],
   "source": [
    "is_item_bio(item_id) = item_id in unique(df_p_ref_bio.item_id)"
   ]
  },
  {
   "cell_type": "code",
   "execution_count": 254,
   "metadata": {},
   "outputs": [],
   "source": [
    "df_p_ref_mg_bio = subset(df_p_ref, :item_id => ByRow(!is_item_bio));"
   ]
  },
  {
   "cell_type": "markdown",
   "metadata": {},
   "source": [
    "Einträge löschen für Korrekturen oder ein Update"
   ]
  },
  {
   "cell_type": "code",
   "execution_count": 255,
   "metadata": {},
   "outputs": [
    {
     "data": {
      "text/plain": [
       "6"
      ]
     },
     "execution_count": 255,
     "metadata": {},
     "output_type": "execute_result"
    }
   ],
   "source": [
    "item_type_id"
   ]
  },
  {
   "cell_type": "code",
   "execution_count": 256,
   "metadata": {},
   "outputs": [
    {
     "data": {
      "text/plain": [
       "MySQL.TextCursor{true}(MySQL.Connection(host=\"127.0.0.1\", user=\"georg\", port=\"3306\", db=\"wiag2\"), \"DELETE FROM item_reference WHERE item_type_id = 6\", 0, -1, 0, MySQL.API.MYSQL_RES(Ptr{Nothing} @0x0000000000000000), Symbol[], Type[], Dict{Symbol, Int64}(), 0, 1, false)"
      ]
     },
     "execution_count": 256,
     "metadata": {},
     "output_type": "execute_result"
    }
   ],
   "source": [
    "table_name = \"item_reference\";\n",
    "sql = \"DELETE FROM $(table_name) WHERE item_type_id = $(item_type_id)\";\n",
    "DBInterface.execute(Wds.dbwiag, sql)"
   ]
  },
  {
   "cell_type": "code",
   "execution_count": 257,
   "metadata": {},
   "outputs": [],
   "source": [
    "insertcols!(df_p_ref_bio, 1, :item_type_id => item_type_id);"
   ]
  },
  {
   "cell_type": "code",
   "execution_count": 258,
   "metadata": {},
   "outputs": [],
   "source": [
    "insertcols!(df_p_ref_mg_bio, 1, :item_type_id => item_type_id);"
   ]
  },
  {
   "cell_type": "code",
   "execution_count": 259,
   "metadata": {},
   "outputs": [
    {
     "data": {
      "text/plain": [
       "4-element Vector{Pair{Symbol, Symbol}}:\n",
       "      :item_id => :item_id\n",
       "       :seiten => :page\n",
       " :item_type_id => :item_type_id\n",
       "      :book_id => :reference_id"
      ]
     },
     "execution_count": 259,
     "metadata": {},
     "output_type": "execute_result"
    }
   ],
   "source": [
    "columns = [\n",
    "    :item_id => :item_id,\n",
    "    :seiten => :page,\n",
    "    :item_type_id => :item_type_id,\n",
    "    :book_id => :reference_id,\n",
    "]"
   ]
  },
  {
   "cell_type": "code",
   "execution_count": 260,
   "metadata": {},
   "outputs": [
    {
     "name": "stderr",
     "output_type": "stream",
     "text": [
      "┌ Info: Rows inserted: 7405\n",
      "└ @ WiagDataSetup C:\\Users\\georg\\Documents\\projekte\\WiagDataSetup.jl\\src\\WiagDataSetup.jl:1208\n"
     ]
    },
    {
     "data": {
      "text/plain": [
       "7405"
      ]
     },
     "execution_count": 260,
     "metadata": {},
     "output_type": "execute_result"
    }
   ],
   "source": [
    "table_name = \"item_reference\"\n",
    "Wds.filltable!(table_name, select(df_p_ref_bio, columns))"
   ]
  },
  {
   "cell_type": "markdown",
   "metadata": {},
   "source": [
    "*2022-02-25* Es werden nur noch Literaturangaben mit Kurzbiographie berücksichtigt."
   ]
  },
  {
   "cell_type": "code",
   "execution_count": 156,
   "metadata": {},
   "outputs": [
    {
     "name": "stderr",
     "output_type": "stream",
     "text": [
      "┌ Info: Rows inserted: 2327\n",
      "└ @ WiagDataSetup C:\\Users\\georg\\Documents\\projekte\\WiagDataSetup.jl\\src\\WiagDataSetup.jl:1206\n"
     ]
    },
    {
     "data": {
      "text/plain": [
       "2327"
      ]
     },
     "execution_count": 156,
     "metadata": {},
     "output_type": "execute_result"
    }
   ],
   "source": [
    "table_name = \"item_reference\"\n",
    "Wds.filltable!(table_name, select(df_p_ref_mg_bio, columns))"
   ]
  },
  {
   "cell_type": "markdown",
   "metadata": {},
   "source": [
    "Probe:\n",
    "``` sql\n",
    "select count(distinct(item_id)) from item_reference where item_type_id = 6;\n",
    "```\n",
    "7389\n",
    "\n",
    "Es gibt also für jeden Domherren mindestens einen Literaturverweis"
   ]
  },
  {
   "cell_type": "markdown",
   "metadata": {},
   "source": [
    "### Externe URLs eintragen"
   ]
  },
  {
   "cell_type": "code",
   "execution_count": 157,
   "metadata": {},
   "outputs": [],
   "source": [
    "using MySQL, DataFrames"
   ]
  },
  {
   "cell_type": "code",
   "execution_count": 156,
   "metadata": {},
   "outputs": [
    {
     "name": "stdout",
     "output_type": "stream",
     "text": [
      "Passwort für User georg\n",
      "stdin> topf&deckel\n"
     ]
    },
    {
     "data": {
      "text/plain": [
       "MySQL.Connection(host=\"127.0.0.1\", user=\"georg\", port=\"3306\", db=\"wiag2\")"
      ]
     },
     "execution_count": 156,
     "metadata": {},
     "output_type": "execute_result"
    }
   ],
   "source": [
    "Wds.setDBWIAG(user = \"georg\", db = \"wiag2\")"
   ]
  },
  {
   "cell_type": "code",
   "execution_count": 239,
   "metadata": {},
   "outputs": [
    {
     "data": {
      "text/plain": [
       "6"
      ]
     },
     "execution_count": 239,
     "metadata": {},
     "output_type": "execute_result"
    }
   ],
   "source": [
    "item_type_id = 6"
   ]
  },
  {
   "cell_type": "markdown",
   "metadata": {},
   "source": [
    "Einträge löschen (für den Fall eines Fehlers oder für ein Update)"
   ]
  },
  {
   "cell_type": "code",
   "execution_count": 261,
   "metadata": {},
   "outputs": [
    {
     "data": {
      "text/plain": [
       "MySQL.TextCursor{true}(MySQL.Connection(host=\"127.0.0.1\", user=\"georg\", port=\"3306\", db=\"wiag2\"), \"DELETE FROM id_external WHERE item_id IN (SELECT id FROM item WHERE item_type_id = 6)\", 0, -1, 0, MySQL.API.MYSQL_RES(Ptr{Nothing} @0x0000000000000000), Symbol[], Type[], Dict{Symbol, Int64}(), 0, 1, false)"
      ]
     },
     "execution_count": 261,
     "metadata": {},
     "output_type": "execute_result"
    }
   ],
   "source": [
    "sql = \"DELETE FROM id_external \" *\n",
    "\"WHERE item_id IN (SELECT id FROM item WHERE item_type_id = $(item_type_id))\"\n",
    "DBInterface.execute(Wds.dbwiag, sql)"
   ]
  },
  {
   "cell_type": "code",
   "execution_count": 195,
   "metadata": {},
   "outputs": [
    {
     "data": {
      "text/html": [
       "<div class=\"data-frame\"><p>6 rows × 2 columns</p><table class=\"data-frame\"><thead><tr><th></th><th>id</th><th>url_name_formatter</th></tr><tr><th></th><th title=\"Int32\">Int32</th><th title=\"Union{Missing, String}\">String?</th></tr></thead><tbody><tr><th>1</th><td>1</td><td>Gemeinsame Normdatei (GND) ID</td></tr><tr><th>2</th><td>2</td><td>Wikidata</td></tr><tr><th>3</th><td>3</td><td>Wikipedia-Artikel</td></tr><tr><th>4</th><td>4</td><td>VIAF-ID</td></tr><tr><th>5</th><td>5</td><td>WIAG-ID</td></tr><tr><th>6</th><td>200</td><td>Personendatenbank der Germania Sacra</td></tr></tbody></table></div>"
      ],
      "text/latex": [
       "\\begin{tabular}{r|cc}\n",
       "\t& id & url\\_name\\_formatter\\\\\n",
       "\t\\hline\n",
       "\t& Int32 & String?\\\\\n",
       "\t\\hline\n",
       "\t1 & 1 & Gemeinsame Normdatei (GND) ID \\\\\n",
       "\t2 & 2 & Wikidata \\\\\n",
       "\t3 & 3 & Wikipedia-Artikel \\\\\n",
       "\t4 & 4 & VIAF-ID \\\\\n",
       "\t5 & 5 & WIAG-ID \\\\\n",
       "\t6 & 200 & Personendatenbank der Germania Sacra \\\\\n",
       "\\end{tabular}\n"
      ],
      "text/plain": [
       "\u001b[1m6×2 DataFrame\u001b[0m\n",
       "\u001b[1m Row \u001b[0m│\u001b[1m id    \u001b[0m\u001b[1m url_name_formatter                \u001b[0m\n",
       "\u001b[1m     \u001b[0m│\u001b[90m Int32 \u001b[0m\u001b[90m String?                           \u001b[0m\n",
       "─────┼──────────────────────────────────────────\n",
       "   1 │     1  Gemeinsame Normdatei (GND) ID\n",
       "   2 │     2  Wikidata\n",
       "   3 │     3  Wikipedia-Artikel\n",
       "   4 │     4  VIAF-ID\n",
       "   5 │     5  WIAG-ID\n",
       "   6 │   200  Personendatenbank der Germania S…"
      ]
     },
     "execution_count": 195,
     "metadata": {},
     "output_type": "execute_result"
    }
   ],
   "source": [
    "sql = \"SELECT id, url_name_formatter FROM authority \" *\n",
    "\"WHERE id IN (1, 2, 3, 4, 5, 200)\"\n",
    "Wds.sql_df(sql)"
   ]
  },
  {
   "cell_type": "code",
   "execution_count": 200,
   "metadata": {},
   "outputs": [
    {
     "data": {
      "text/html": [
       "<div class=\"data-frame\"><p>8 rows × 6 columns</p><table class=\"data-frame\"><thead><tr><th></th><th>id</th><th>id_in_source</th><th>givenname</th><th>familyname</th><th>gsn_id</th><th>gsn</th></tr><tr><th></th><th title=\"Int32\">Int32</th><th title=\"String\">String</th><th title=\"Union{Missing, String}\">String?</th><th title=\"Union{Missing, String}\">String?</th><th title=\"Int32\">Int32</th><th title=\"Union{Missing, String}\">String?</th></tr></thead><tbody><tr><th>1</th><td>145765</td><td>9668</td><td>Franz</td><td>Königsmarck</td><td>207575</td><td>005-02559-001</td></tr><tr><th>2</th><td>145766</td><td>10069</td><td>Godeke</td><td>Blumenberg</td><td>207976</td><td>005-02960-001</td></tr><tr><th>3</th><td>145767</td><td>10067</td><td>Godefridus</td><td><em>missing</em></td><td>207974</td><td>005-02958-001</td></tr><tr><th>4</th><td>145768</td><td>10021</td><td>Giselbert</td><td><em>missing</em></td><td>207928</td><td>005-02912-001</td></tr><tr><th>5</th><td>145769</td><td>10004</td><td>Gezo</td><td><em>missing</em></td><td>207911</td><td>005-02895-001</td></tr><tr><th>6</th><td>145770</td><td>9979</td><td>Gero</td><td><em>missing</em></td><td>207886</td><td>005-02870-001</td></tr><tr><th>7</th><td>145771</td><td>9957</td><td>Gerlach</td><td>Hohenfels</td><td>207864</td><td>005-02848-001</td></tr><tr><th>8</th><td>145772</td><td>9947</td><td>Gerhard</td><td>Schulte</td><td>207854</td><td>005-02838-001</td></tr></tbody></table></div>"
      ],
      "text/latex": [
       "\\begin{tabular}{r|cccccc}\n",
       "\t& id & id\\_in\\_source & givenname & familyname & gsn\\_id & gsn\\\\\n",
       "\t\\hline\n",
       "\t& Int32 & String & String? & String? & Int32 & String?\\\\\n",
       "\t\\hline\n",
       "\t1 & 145765 & 9668 & Franz & Königsmarck & 207575 & 005-02559-001 \\\\\n",
       "\t2 & 145766 & 10069 & Godeke & Blumenberg & 207976 & 005-02960-001 \\\\\n",
       "\t3 & 145767 & 10067 & Godefridus & \\emph{missing} & 207974 & 005-02958-001 \\\\\n",
       "\t4 & 145768 & 10021 & Giselbert & \\emph{missing} & 207928 & 005-02912-001 \\\\\n",
       "\t5 & 145769 & 10004 & Gezo & \\emph{missing} & 207911 & 005-02895-001 \\\\\n",
       "\t6 & 145770 & 9979 & Gero & \\emph{missing} & 207886 & 005-02870-001 \\\\\n",
       "\t7 & 145771 & 9957 & Gerlach & Hohenfels & 207864 & 005-02848-001 \\\\\n",
       "\t8 & 145772 & 9947 & Gerhard & Schulte & 207854 & 005-02838-001 \\\\\n",
       "\\end{tabular}\n"
      ],
      "text/plain": [
       "\u001b[1m8×6 DataFrame\u001b[0m\n",
       "\u001b[1m Row \u001b[0m│\u001b[1m id     \u001b[0m\u001b[1m id_in_source \u001b[0m\u001b[1m givenname  \u001b[0m\u001b[1m familyname  \u001b[0m\u001b[1m gsn_id \u001b[0m\u001b[1m gsn           \u001b[0m\n",
       "\u001b[1m     \u001b[0m│\u001b[90m Int32  \u001b[0m\u001b[90m String       \u001b[0m\u001b[90m String?    \u001b[0m\u001b[90m String?     \u001b[0m\u001b[90m Int32  \u001b[0m\u001b[90m String?       \u001b[0m\n",
       "─────┼──────────────────────────────────────────────────────────────────────\n",
       "   1 │ 145765  9668          Franz       Königsmarck  207575  005-02559-001\n",
       "   2 │ 145766  10069         Godeke      Blumenberg   207976  005-02960-001\n",
       "   3 │ 145767  10067         Godefridus \u001b[90m missing     \u001b[0m 207974  005-02958-001\n",
       "   4 │ 145768  10021         Giselbert  \u001b[90m missing     \u001b[0m 207928  005-02912-001\n",
       "   5 │ 145769  10004         Gezo       \u001b[90m missing     \u001b[0m 207911  005-02895-001\n",
       "   6 │ 145770  9979          Gero       \u001b[90m missing     \u001b[0m 207886  005-02870-001\n",
       "   7 │ 145771  9957          Gerlach     Hohenfels    207864  005-02848-001\n",
       "   8 │ 145772  9947          Gerhard     Schulte      207854  005-02838-001"
      ]
     },
     "execution_count": 200,
     "metadata": {},
     "output_type": "execute_result"
    }
   ],
   "source": [
    "df_cn_idx[300:307, [:id, :id_in_source, :givenname, :familyname, :gsn_id, :gsn]]"
   ]
  },
  {
   "cell_type": "markdown",
   "metadata": {},
   "source": [
    "**VIAF**, dann GND, GSN"
   ]
  },
  {
   "cell_type": "code",
   "execution_count": 262,
   "metadata": {},
   "outputs": [
    {
     "data": {
      "text/plain": [
       "4"
      ]
     },
     "execution_count": 262,
     "metadata": {},
     "output_type": "execute_result"
    }
   ],
   "source": [
    "authority_id = 4 # siehe oben"
   ]
  },
  {
   "cell_type": "code",
   "execution_count": 263,
   "metadata": {},
   "outputs": [],
   "source": [
    "col = :viaf;\n",
    "df_p_auth = dropmissing(df_cn_idx, col);\n",
    "insertcols!(df_p_auth, 1, :authority_id => authority_id);\n",
    "transform!(df_p_auth, col => :value);"
   ]
  },
  {
   "cell_type": "code",
   "execution_count": 264,
   "metadata": {},
   "outputs": [
    {
     "data": {
      "text/plain": [
       "(1, 24)"
      ]
     },
     "execution_count": 264,
     "metadata": {},
     "output_type": "execute_result"
    }
   ],
   "source": [
    "size(df_p_auth)"
   ]
  },
  {
   "cell_type": "code",
   "execution_count": 265,
   "metadata": {},
   "outputs": [
    {
     "data": {
      "text/html": [
       "<div class=\"data-frame\"><p>1 rows × 24 columns (omitted printing of 18 columns)</p><table class=\"data-frame\"><thead><tr><th></th><th>authority_id</th><th>id_person_gso</th><th>item_id</th><th>namenspraefix</th><th>vorname</th><th>familienname</th></tr><tr><th></th><th title=\"Int64\">Int64</th><th title=\"Int32\">Int32</th><th title=\"Int32\">Int32</th><th title=\"Union{Missing, String}\">String?</th><th title=\"Union{Missing, String}\">String?</th><th title=\"Union{Missing, String}\">String?</th></tr></thead><tbody><tr><th>1</th><td>4</td><td>325149</td><td>331572</td><td>von</td><td>Joseph Christian</td><td>Hohenlohe-Bartenstein</td></tr></tbody></table></div>"
      ],
      "text/latex": [
       "\\begin{tabular}{r|ccccccc}\n",
       "\t& authority\\_id & id\\_person\\_gso & item\\_id & namenspraefix & vorname & familienname & \\\\\n",
       "\t\\hline\n",
       "\t& Int64 & Int32 & Int32 & String? & String? & String? & \\\\\n",
       "\t\\hline\n",
       "\t1 & 4 & 325149 & 331572 & von & Joseph Christian & Hohenlohe-Bartenstein & $\\dots$ \\\\\n",
       "\\end{tabular}\n"
      ],
      "text/plain": [
       "\u001b[1m1×24 DataFrame\u001b[0m\n",
       "\u001b[1m Row \u001b[0m│\u001b[1m authority_id \u001b[0m\u001b[1m id_person_gso \u001b[0m\u001b[1m item_id \u001b[0m\u001b[1m namenspraefix \u001b[0m\u001b[1m vorname          \u001b[0m\u001b[1m \u001b[0m ⋯\n",
       "\u001b[1m     \u001b[0m│\u001b[90m Int64        \u001b[0m\u001b[90m Int32         \u001b[0m\u001b[90m Int32   \u001b[0m\u001b[90m String?       \u001b[0m\u001b[90m String?          \u001b[0m\u001b[90m \u001b[0m ⋯\n",
       "─────┼──────────────────────────────────────────────────────────────────────────\n",
       "   1 │            4         325149   331572  von            Joseph Christian   ⋯\n",
       "\u001b[36m                                                              19 columns omitted\u001b[0m"
      ]
     },
     "execution_count": 265,
     "metadata": {},
     "output_type": "execute_result"
    }
   ],
   "source": [
    "df_p_auth"
   ]
  },
  {
   "cell_type": "code",
   "execution_count": 266,
   "metadata": {},
   "outputs": [
    {
     "data": {
      "text/plain": [
       "3-element Vector{Pair{Symbol, Symbol}}:\n",
       "           :id => :item_id\n",
       " :authority_id => :authority_id\n",
       "        :value => :value"
      ]
     },
     "execution_count": 266,
     "metadata": {},
     "output_type": "execute_result"
    }
   ],
   "source": [
    "columns = [\n",
    "    :id => :item_id,\n",
    "    :authority_id => :authority_id,\n",
    "    :value => :value,\n",
    "]"
   ]
  },
  {
   "cell_type": "code",
   "execution_count": 267,
   "metadata": {},
   "outputs": [
    {
     "name": "stderr",
     "output_type": "stream",
     "text": [
      "┌ Info: Rows inserted: 1\n",
      "└ @ WiagDataSetup C:\\Users\\georg\\Documents\\projekte\\WiagDataSetup.jl\\src\\WiagDataSetup.jl:1208\n"
     ]
    },
    {
     "data": {
      "text/plain": [
       "1"
      ]
     },
     "execution_count": 267,
     "metadata": {},
     "output_type": "execute_result"
    }
   ],
   "source": [
    "table_name = \"id_external\"\n",
    "Wds.filltable!(\"id_external\", select(df_p_auth, columns))"
   ]
  },
  {
   "cell_type": "markdown",
   "metadata": {},
   "source": [
    "**GND**"
   ]
  },
  {
   "cell_type": "code",
   "execution_count": 268,
   "metadata": {},
   "outputs": [
    {
     "data": {
      "text/plain": [
       "1"
      ]
     },
     "execution_count": 268,
     "metadata": {},
     "output_type": "execute_result"
    }
   ],
   "source": [
    "authority_id = 1 # siehe oben"
   ]
  },
  {
   "cell_type": "code",
   "execution_count": 269,
   "metadata": {},
   "outputs": [],
   "source": [
    "col = :gndnummer\n",
    "df_p_auth = dropmissing(df_cn_idx, col);\n",
    "insertcols!(df_p_auth, 1, :authority_id => authority_id);\n",
    "transform!(df_p_auth, col => :value);"
   ]
  },
  {
   "cell_type": "code",
   "execution_count": 270,
   "metadata": {},
   "outputs": [
    {
     "data": {
      "text/plain": [
       "(1070, 24)"
      ]
     },
     "execution_count": 270,
     "metadata": {},
     "output_type": "execute_result"
    }
   ],
   "source": [
    "size(df_p_auth)"
   ]
  },
  {
   "cell_type": "code",
   "execution_count": 271,
   "metadata": {},
   "outputs": [
    {
     "name": "stderr",
     "output_type": "stream",
     "text": [
      "┌ Info: Rows inserted: 1070\n",
      "└ @ WiagDataSetup C:\\Users\\georg\\Documents\\projekte\\WiagDataSetup.jl\\src\\WiagDataSetup.jl:1208\n"
     ]
    },
    {
     "data": {
      "text/plain": [
       "1070"
      ]
     },
     "execution_count": 271,
     "metadata": {},
     "output_type": "execute_result"
    }
   ],
   "source": [
    "table_name = \"id_external\"\n",
    "Wds.filltable!(\"id_external\", select(df_p_auth, columns))"
   ]
  },
  {
   "cell_type": "markdown",
   "metadata": {},
   "source": [
    "**GSN**"
   ]
  },
  {
   "cell_type": "code",
   "execution_count": 272,
   "metadata": {},
   "outputs": [
    {
     "data": {
      "text/plain": [
       "200"
      ]
     },
     "execution_count": 272,
     "metadata": {},
     "output_type": "execute_result"
    }
   ],
   "source": [
    "authority_id = 200 # siehe oben"
   ]
  },
  {
   "cell_type": "code",
   "execution_count": 273,
   "metadata": {},
   "outputs": [],
   "source": [
    "col = :gsn\n",
    "df_p_auth = dropmissing(df_cn_idx, col);\n",
    "insertcols!(df_p_auth, 1, :authority_id => authority_id);\n",
    "transform!(df_p_auth, col => :value);"
   ]
  },
  {
   "cell_type": "code",
   "execution_count": 274,
   "metadata": {},
   "outputs": [
    {
     "name": "stderr",
     "output_type": "stream",
     "text": [
      "┌ Info: Rows inserted: 8523\n",
      "└ @ WiagDataSetup C:\\Users\\georg\\Documents\\projekte\\WiagDataSetup.jl\\src\\WiagDataSetup.jl:1208\n"
     ]
    },
    {
     "data": {
      "text/plain": [
       "8523"
      ]
     },
     "execution_count": 274,
     "metadata": {},
     "output_type": "execute_result"
    }
   ],
   "source": [
    "table_name = \"id_external\"\n",
    "Wds.filltable!(\"id_external\", select(df_p_auth, columns))"
   ]
  },
  {
   "cell_type": "markdown",
   "metadata": {},
   "source": [
    "### Namensvarianten eintragen"
   ]
  },
  {
   "cell_type": "code",
   "execution_count": 145,
   "metadata": {},
   "outputs": [],
   "source": [
    "using MySQL, DataFrames"
   ]
  },
  {
   "cell_type": "code",
   "execution_count": 275,
   "metadata": {},
   "outputs": [],
   "source": [
    "col = :familiennamenvarianten;\n",
    "df_fnv = dropmissing(df_cn_idx, col);"
   ]
  },
  {
   "cell_type": "code",
   "execution_count": 276,
   "metadata": {},
   "outputs": [
    {
     "data": {
      "text/plain": [
       "(1816, 22)"
      ]
     },
     "execution_count": 276,
     "metadata": {},
     "output_type": "execute_result"
    }
   ],
   "source": [
    "size(df_fnv)"
   ]
  },
  {
   "cell_type": "code",
   "execution_count": 277,
   "metadata": {},
   "outputs": [],
   "source": [
    "df_exp = Wds.expand_column(df_fnv, col, delim = \",\");"
   ]
  },
  {
   "cell_type": "code",
   "execution_count": 278,
   "metadata": {},
   "outputs": [
    {
     "data": {
      "text/plain": [
       "(2744, 22)"
      ]
     },
     "execution_count": 278,
     "metadata": {},
     "output_type": "execute_result"
    }
   ],
   "source": [
    "size(df_exp)"
   ]
  },
  {
   "cell_type": "code",
   "execution_count": 279,
   "metadata": {
    "scrolled": true
   },
   "outputs": [
    {
     "data": {
      "text/html": [
       "<div class=\"data-frame\"><p>8 rows × 3 columns</p><table class=\"data-frame\"><thead><tr><th></th><th>vorname</th><th>familienname</th><th>familiennamenvarianten</th></tr><tr><th></th><th title=\"Union{Missing, String}\">String?</th><th title=\"Union{Missing, String}\">String?</th><th title=\"String\">String</th></tr></thead><tbody><tr><th>1</th><td>Leonhard</td><td>Kalben</td><td>Calven</td></tr><tr><th>2</th><td>Leonhard</td><td>Kalben</td><td>Calvis</td></tr><tr><th>3</th><td>Konrad</td><td>Wellen</td><td>Welle</td></tr><tr><th>4</th><td>Konrad</td><td>Oppen</td><td>Opin</td></tr><tr><th>5</th><td>Konrad</td><td>Oppen</td><td>Uppin</td></tr><tr><th>6</th><td>Konrad</td><td>Oppen</td><td>Upin</td></tr><tr><th>7</th><td>Konrad</td><td>Freyenstein</td><td>Vryenstein</td></tr><tr><th>8</th><td>Ludwig</td><td>Rieda</td><td>Riden</td></tr></tbody></table></div>"
      ],
      "text/latex": [
       "\\begin{tabular}{r|ccc}\n",
       "\t& vorname & familienname & familiennamenvarianten\\\\\n",
       "\t\\hline\n",
       "\t& String? & String? & String\\\\\n",
       "\t\\hline\n",
       "\t1 & Leonhard & Kalben & Calven \\\\\n",
       "\t2 & Leonhard & Kalben & Calvis \\\\\n",
       "\t3 & Konrad & Wellen & Welle \\\\\n",
       "\t4 & Konrad & Oppen & Opin \\\\\n",
       "\t5 & Konrad & Oppen & Uppin \\\\\n",
       "\t6 & Konrad & Oppen & Upin \\\\\n",
       "\t7 & Konrad & Freyenstein & Vryenstein \\\\\n",
       "\t8 & Ludwig & Rieda & Riden \\\\\n",
       "\\end{tabular}\n"
      ],
      "text/plain": [
       "\u001b[1m8×3 DataFrame\u001b[0m\n",
       "\u001b[1m Row \u001b[0m│\u001b[1m vorname  \u001b[0m\u001b[1m familienname \u001b[0m\u001b[1m familiennamenvarianten \u001b[0m\n",
       "\u001b[1m     \u001b[0m│\u001b[90m String?  \u001b[0m\u001b[90m String?      \u001b[0m\u001b[90m String                 \u001b[0m\n",
       "─────┼────────────────────────────────────────────────\n",
       "   1 │ Leonhard  Kalben        Calven\n",
       "   2 │ Leonhard  Kalben        Calvis\n",
       "   3 │ Konrad    Wellen        Welle\n",
       "   4 │ Konrad    Oppen         Opin\n",
       "   5 │ Konrad    Oppen         Uppin\n",
       "   6 │ Konrad    Oppen         Upin\n",
       "   7 │ Konrad    Freyenstein   Vryenstein\n",
       "   8 │ Ludwig    Rieda         Riden"
      ]
     },
     "execution_count": 279,
     "metadata": {},
     "output_type": "execute_result"
    }
   ],
   "source": [
    "df_exp[150:157, [:vorname, :familienname, col]]"
   ]
  },
  {
   "cell_type": "markdown",
   "metadata": {},
   "source": [
    "Spalte `lang` hat den Default-Wert 'de'."
   ]
  },
  {
   "cell_type": "code",
   "execution_count": 280,
   "metadata": {},
   "outputs": [
    {
     "data": {
      "text/plain": [
       "2-element Vector{Pair{Symbol, Symbol}}:\n",
       "                     :id => :person_id\n",
       " :familiennamenvarianten => :name"
      ]
     },
     "execution_count": 280,
     "metadata": {},
     "output_type": "execute_result"
    }
   ],
   "source": [
    "columns = [\n",
    "    :id => :person_id,\n",
    "    :familiennamenvarianten => :name,\n",
    "]"
   ]
  },
  {
   "cell_type": "markdown",
   "metadata": {},
   "source": [
    "Einträge löschen (Korrekturen, Daten-Update)"
   ]
  },
  {
   "cell_type": "code",
   "execution_count": 281,
   "metadata": {},
   "outputs": [
    {
     "data": {
      "text/plain": [
       "6"
      ]
     },
     "execution_count": 281,
     "metadata": {},
     "output_type": "execute_result"
    }
   ],
   "source": [
    "item_type_id"
   ]
  },
  {
   "cell_type": "code",
   "execution_count": 282,
   "metadata": {},
   "outputs": [
    {
     "data": {
      "text/plain": [
       "MySQL.TextCursor{true}(MySQL.Connection(host=\"127.0.0.1\", user=\"georg\", port=\"3306\", db=\"wiag2\"), \"DELETE FROM familyname_variant\\nWHERE person_id IN\\n(SELECT id FROM item WHERE item_type_id = 6)\", 0, -1, 0, MySQL.API.MYSQL_RES(Ptr{Nothing} @0x0000000000000000), Symbol[], Type[], Dict{Symbol, Int64}(), 0, 1, false)"
      ]
     },
     "execution_count": 282,
     "metadata": {},
     "output_type": "execute_result"
    }
   ],
   "source": [
    "table_name = \"familyname_variant\";\n",
    "sql = \"DELETE FROM $(table_name)\n",
    "WHERE person_id IN\n",
    "(SELECT id FROM item WHERE item_type_id = $(item_type_id))\";\n",
    "DBInterface.execute(Wds.dbwiag, sql)"
   ]
  },
  {
   "cell_type": "code",
   "execution_count": 283,
   "metadata": {},
   "outputs": [
    {
     "name": "stderr",
     "output_type": "stream",
     "text": [
      "┌ Info: Rows inserted: 2744\n",
      "└ @ WiagDataSetup C:\\Users\\georg\\Documents\\projekte\\WiagDataSetup.jl\\src\\WiagDataSetup.jl:1208\n"
     ]
    },
    {
     "data": {
      "text/plain": [
       "2744"
      ]
     },
     "execution_count": 283,
     "metadata": {},
     "output_type": "execute_result"
    }
   ],
   "source": [
    "table_name = \"familyname_variant\"\n",
    "Wds.filltable!(table_name, select(df_exp, columns))"
   ]
  },
  {
   "cell_type": "markdown",
   "metadata": {},
   "source": [
    "Vornamen"
   ]
  },
  {
   "cell_type": "code",
   "execution_count": 284,
   "metadata": {},
   "outputs": [],
   "source": [
    "col = :vornamenvarianten;\n",
    "df_gnv = dropmissing(df_cn_idx, col);"
   ]
  },
  {
   "cell_type": "code",
   "execution_count": 285,
   "metadata": {},
   "outputs": [
    {
     "data": {
      "text/plain": [
       "(1141, 22)"
      ]
     },
     "execution_count": 285,
     "metadata": {},
     "output_type": "execute_result"
    }
   ],
   "source": [
    "size(df_gnv)"
   ]
  },
  {
   "cell_type": "code",
   "execution_count": 286,
   "metadata": {},
   "outputs": [],
   "source": [
    "df_exp = Wds.expand_column(df_gnv, col, delim = r\", *\");"
   ]
  },
  {
   "cell_type": "code",
   "execution_count": 287,
   "metadata": {},
   "outputs": [
    {
     "data": {
      "text/plain": [
       "(1513, 22)"
      ]
     },
     "execution_count": 287,
     "metadata": {},
     "output_type": "execute_result"
    }
   ],
   "source": [
    "size(df_exp)"
   ]
  },
  {
   "cell_type": "code",
   "execution_count": 288,
   "metadata": {},
   "outputs": [
    {
     "data": {
      "text/html": [
       "<div class=\"data-frame\"><p>8 rows × 3 columns</p><table class=\"data-frame\"><thead><tr><th></th><th>vorname</th><th>familienname</th><th>vornamenvarianten</th></tr><tr><th></th><th title=\"Union{Missing, String}\">String?</th><th title=\"Union{Missing, String}\">String?</th><th title=\"String\">String</th></tr></thead><tbody><tr><th>1</th><td>Heinrich</td><td>Bork</td><td>Henricus</td></tr><tr><th>2</th><td>Heinrich</td><td>Bork</td><td>Heinricus</td></tr><tr><th>3</th><td>Heinrich</td><td><em>missing</em></td><td>Hinricus</td></tr><tr><th>4</th><td>Heinrich</td><td><em>missing</em></td><td>Heinricus</td></tr><tr><th>5</th><td>Heinrich</td><td><em>missing</em></td><td>Heinrik</td></tr><tr><th>6</th><td>Hermann</td><td>Hövel</td><td>Hermannus</td></tr><tr><th>7</th><td>Hermann</td><td>Hövel</td><td>Herimannus</td></tr><tr><th>8</th><td>Hermann</td><td>Bevern</td><td>Herimannus</td></tr></tbody></table></div>"
      ],
      "text/latex": [
       "\\begin{tabular}{r|ccc}\n",
       "\t& vorname & familienname & vornamenvarianten\\\\\n",
       "\t\\hline\n",
       "\t& String? & String? & String\\\\\n",
       "\t\\hline\n",
       "\t1 & Heinrich & Bork & Henricus \\\\\n",
       "\t2 & Heinrich & Bork & Heinricus \\\\\n",
       "\t3 & Heinrich & \\emph{missing} & Hinricus \\\\\n",
       "\t4 & Heinrich & \\emph{missing} & Heinricus \\\\\n",
       "\t5 & Heinrich & \\emph{missing} & Heinrik \\\\\n",
       "\t6 & Hermann & Hövel & Hermannus \\\\\n",
       "\t7 & Hermann & Hövel & Herimannus \\\\\n",
       "\t8 & Hermann & Bevern & Herimannus \\\\\n",
       "\\end{tabular}\n"
      ],
      "text/plain": [
       "\u001b[1m8×3 DataFrame\u001b[0m\n",
       "\u001b[1m Row \u001b[0m│\u001b[1m vorname  \u001b[0m\u001b[1m familienname \u001b[0m\u001b[1m vornamenvarianten \u001b[0m\n",
       "\u001b[1m     \u001b[0m│\u001b[90m String?  \u001b[0m\u001b[90m String?      \u001b[0m\u001b[90m String            \u001b[0m\n",
       "─────┼───────────────────────────────────────────\n",
       "   1 │ Heinrich  Bork          Henricus\n",
       "   2 │ Heinrich  Bork          Heinricus\n",
       "   3 │ Heinrich \u001b[90m missing      \u001b[0m Hinricus\n",
       "   4 │ Heinrich \u001b[90m missing      \u001b[0m Heinricus\n",
       "   5 │ Heinrich \u001b[90m missing      \u001b[0m Heinrik\n",
       "   6 │ Hermann   Hövel         Hermannus\n",
       "   7 │ Hermann   Hövel         Herimannus\n",
       "   8 │ Hermann   Bevern        Herimannus"
      ]
     },
     "execution_count": 288,
     "metadata": {},
     "output_type": "execute_result"
    }
   ],
   "source": [
    "df_exp[150:157, [:vorname, :familienname, col]]"
   ]
  },
  {
   "cell_type": "code",
   "execution_count": 289,
   "metadata": {},
   "outputs": [
    {
     "data": {
      "text/plain": [
       "2-element Vector{Pair{Symbol, Symbol}}:\n",
       "                :id => :person_id\n",
       " :vornamenvarianten => :name"
      ]
     },
     "execution_count": 289,
     "metadata": {},
     "output_type": "execute_result"
    }
   ],
   "source": [
    "columns = [\n",
    "    :id => :person_id,\n",
    "    col => :name,\n",
    "]"
   ]
  },
  {
   "cell_type": "markdown",
   "metadata": {},
   "source": [
    "Einträge löschen (Korrekturen, Daten-Update)"
   ]
  },
  {
   "cell_type": "code",
   "execution_count": 290,
   "metadata": {},
   "outputs": [
    {
     "data": {
      "text/plain": [
       "6"
      ]
     },
     "execution_count": 290,
     "metadata": {},
     "output_type": "execute_result"
    }
   ],
   "source": [
    "item_type_id"
   ]
  },
  {
   "cell_type": "code",
   "execution_count": 291,
   "metadata": {},
   "outputs": [
    {
     "data": {
      "text/plain": [
       "MySQL.TextCursor{true}(MySQL.Connection(host=\"127.0.0.1\", user=\"georg\", port=\"3306\", db=\"wiag2\"), \"DELETE FROM givenname_variant\\nWHERE person_id IN\\n(SELECT id FROM item WHERE item_type_id = 6)\", 0, -1, 0, MySQL.API.MYSQL_RES(Ptr{Nothing} @0x0000000000000000), Symbol[], Type[], Dict{Symbol, Int64}(), 0, 1, false)"
      ]
     },
     "execution_count": 291,
     "metadata": {},
     "output_type": "execute_result"
    }
   ],
   "source": [
    "table_name = \"givenname_variant\";\n",
    "sql = \"DELETE FROM $(table_name)\n",
    "WHERE person_id IN\n",
    "(SELECT id FROM item WHERE item_type_id = $(item_type_id))\";\n",
    "DBInterface.execute(Wds.dbwiag, sql)"
   ]
  },
  {
   "cell_type": "code",
   "execution_count": 292,
   "metadata": {},
   "outputs": [
    {
     "name": "stderr",
     "output_type": "stream",
     "text": [
      "┌ Info: Rows inserted: 1513\n",
      "└ @ WiagDataSetup C:\\Users\\georg\\Documents\\projekte\\WiagDataSetup.jl\\src\\WiagDataSetup.jl:1208\n"
     ]
    },
    {
     "data": {
      "text/plain": [
       "1513"
      ]
     },
     "execution_count": 292,
     "metadata": {},
     "output_type": "execute_result"
    }
   ],
   "source": [
    "table_name = \"givenname_variant\"\n",
    "Wds.filltable!(table_name, select(df_exp, columns))"
   ]
  },
  {
   "cell_type": "markdown",
   "metadata": {},
   "source": [
    "### Suchvarianten eintragen (name_lookup)"
   ]
  },
  {
   "cell_type": "code",
   "execution_count": 293,
   "metadata": {},
   "outputs": [
    {
     "data": {
      "text/plain": [
       "Dict{Symbol, Symbol} with 5 entries:\n",
       "  :vorname                => :givenname\n",
       "  :namenspraefix          => :prefix_name\n",
       "  :familiennamenvarianten => :familyname_variant\n",
       "  :familienname           => :familyname\n",
       "  :vornamenvarianten      => :givenname_variant"
      ]
     },
     "execution_count": 293,
     "metadata": {},
     "output_type": "execute_result"
    }
   ],
   "source": [
    "columns = [    \n",
    "    :vorname => :givenname,\n",
    "    :vornamenvarianten => :givenname_variant,\n",
    "    :namenspraefix => :prefix_name,\n",
    "    :familienname => :familyname,\n",
    "    :familiennamenvarianten => :familyname_variant,\n",
    "];\n",
    "lookup_columns = Dict(columns)"
   ]
  },
  {
   "cell_type": "code",
   "execution_count": 294,
   "metadata": {},
   "outputs": [],
   "source": [
    "rename!(df_cn_idx, lookup_columns);"
   ]
  },
  {
   "cell_type": "code",
   "execution_count": 295,
   "metadata": {
    "scrolled": true
   },
   "outputs": [],
   "source": [
    "df_nl = Wds.create_name_lookup(df_cn_idx); # schaut gut aus"
   ]
  },
  {
   "cell_type": "code",
   "execution_count": 296,
   "metadata": {},
   "outputs": [
    {
     "data": {
      "text/plain": [
       "3-element Vector{String}:\n",
       " \"person_id\"\n",
       " \"gn_fn\"\n",
       " \"gn_prefix_fn\""
      ]
     },
     "execution_count": 296,
     "metadata": {},
     "output_type": "execute_result"
    }
   ],
   "source": [
    "names(df_nl)"
   ]
  },
  {
   "cell_type": "code",
   "execution_count": 297,
   "metadata": {},
   "outputs": [
    {
     "data": {
      "text/plain": [
       "(8523,)"
      ]
     },
     "execution_count": 297,
     "metadata": {},
     "output_type": "execute_result"
    }
   ],
   "source": [
    "size(unique(df_nl.person_id))"
   ]
  },
  {
   "cell_type": "code",
   "execution_count": 298,
   "metadata": {},
   "outputs": [],
   "source": [
    "df_nl_empty = filter(:gn_fn => ismissing, df_nl);"
   ]
  },
  {
   "cell_type": "code",
   "execution_count": 299,
   "metadata": {},
   "outputs": [
    {
     "data": {
      "text/plain": [
       "(0, 3)"
      ]
     },
     "execution_count": 299,
     "metadata": {},
     "output_type": "execute_result"
    }
   ],
   "source": [
    "size(df_nl_empty)"
   ]
  },
  {
   "cell_type": "code",
   "execution_count": 300,
   "metadata": {},
   "outputs": [
    {
     "data": {
      "text/html": [
       "<div class=\"data-frame\"><p>13 rows × 3 columns</p><table class=\"data-frame\"><thead><tr><th></th><th>person_id</th><th>gn_fn</th><th>gn_prefix_fn</th></tr><tr><th></th><th title=\"Int64\">Int64</th><th title=\"Union{Missing, String}\">String?</th><th title=\"Union{Missing, String}\">String?</th></tr></thead><tbody><tr><th>1</th><td>155599</td><td>Johann Mosbach von Lindenfels</td><td><em>missing</em></td></tr><tr><th>2</th><td>155600</td><td>Franz August Morsey-Piccard</td><td>Franz August von Morsey-Piccard</td></tr><tr><th>3</th><td>155600</td><td>Franz Morsey-Piccard</td><td>Franz von Morsey-Piccard</td></tr><tr><th>4</th><td>155601</td><td>Johann Morrien</td><td><em>missing</em></td></tr><tr><th>5</th><td>155602</td><td>Alexander Morrien</td><td><em>missing</em></td></tr><tr><th>6</th><td>155603</td><td>Alexander Morrien</td><td><em>missing</em></td></tr><tr><th>7</th><td>155604</td><td>Johann Reinhard Metternich</td><td>Johann Reinhard von Metternich</td></tr><tr><th>8</th><td>155604</td><td>Johann Metternich</td><td>Johann von Metternich</td></tr><tr><th>9</th><td>155604</td><td>Johann Rembert Metternich</td><td>Johann Rembert von Metternich</td></tr><tr><th>10</th><td>155604</td><td>Johann Metternich</td><td>Johann von Metternich</td></tr><tr><th>11</th><td>155605</td><td>Christoph Meschede</td><td>Christoph von Meschede</td></tr><tr><th>12</th><td>155606</td><td>Alexander Hermann Joseph Franz Merode</td><td>Alexander Hermann Joseph Franz von Merode</td></tr><tr><th>13</th><td>155606</td><td>Alexander Merode</td><td>Alexander von Merode</td></tr></tbody></table></div>"
      ],
      "text/latex": [
       "\\begin{tabular}{r|ccc}\n",
       "\t& person\\_id & gn\\_fn & gn\\_prefix\\_fn\\\\\n",
       "\t\\hline\n",
       "\t& Int64 & String? & String?\\\\\n",
       "\t\\hline\n",
       "\t1 & 155599 & Johann Mosbach von Lindenfels & \\emph{missing} \\\\\n",
       "\t2 & 155600 & Franz August Morsey-Piccard & Franz August von Morsey-Piccard \\\\\n",
       "\t3 & 155600 & Franz Morsey-Piccard & Franz von Morsey-Piccard \\\\\n",
       "\t4 & 155601 & Johann Morrien & \\emph{missing} \\\\\n",
       "\t5 & 155602 & Alexander Morrien & \\emph{missing} \\\\\n",
       "\t6 & 155603 & Alexander Morrien & \\emph{missing} \\\\\n",
       "\t7 & 155604 & Johann Reinhard Metternich & Johann Reinhard von Metternich \\\\\n",
       "\t8 & 155604 & Johann Metternich & Johann von Metternich \\\\\n",
       "\t9 & 155604 & Johann Rembert Metternich & Johann Rembert von Metternich \\\\\n",
       "\t10 & 155604 & Johann Metternich & Johann von Metternich \\\\\n",
       "\t11 & 155605 & Christoph Meschede & Christoph von Meschede \\\\\n",
       "\t12 & 155606 & Alexander Hermann Joseph Franz Merode & Alexander Hermann Joseph Franz von Merode \\\\\n",
       "\t13 & 155606 & Alexander Merode & Alexander von Merode \\\\\n",
       "\\end{tabular}\n"
      ],
      "text/plain": [
       "\u001b[1m13×3 DataFrame\u001b[0m\n",
       "\u001b[1m Row \u001b[0m│\u001b[1m person_id \u001b[0m\u001b[1m gn_fn                             \u001b[0m\u001b[1m gn_prefix_fn             \u001b[0m ⋯\n",
       "\u001b[1m     \u001b[0m│\u001b[90m Int64     \u001b[0m\u001b[90m String?                           \u001b[0m\u001b[90m String?                  \u001b[0m ⋯\n",
       "─────┼──────────────────────────────────────────────────────────────────────────\n",
       "   1 │    155599  Johann Mosbach von Lindenfels     \u001b[90m missing                  \u001b[0m ⋯\n",
       "   2 │    155600  Franz August Morsey-Piccard        Franz August von Morsey-P\n",
       "   3 │    155600  Franz Morsey-Piccard               Franz von Morsey-Piccard\n",
       "   4 │    155601  Johann Morrien                    \u001b[90m missing\u001b[0m\n",
       "   5 │    155602  Alexander Morrien                 \u001b[90m missing                  \u001b[0m ⋯\n",
       "   6 │    155603  Alexander Morrien                 \u001b[90m missing\u001b[0m\n",
       "   7 │    155604  Johann Reinhard Metternich         Johann Reinhard von Mette\n",
       "   8 │    155604  Johann Metternich                  Johann von Metternich\n",
       "   9 │    155604  Johann Rembert Metternich          Johann Rembert von Metter ⋯\n",
       "  10 │    155604  Johann Metternich                  Johann von Metternich\n",
       "  11 │    155605  Christoph Meschede                 Christoph von Meschede\n",
       "  12 │    155606  Alexander Hermann Joseph Franz M…  Alexander Hermann Joseph\n",
       "  13 │    155606  Alexander Merode                   Alexander von Merode      ⋯\n",
       "\u001b[36m                                                                1 column omitted\u001b[0m"
      ]
     },
     "execution_count": 300,
     "metadata": {},
     "output_type": "execute_result"
    }
   ],
   "source": [
    "df_nl[2300:2312, :]"
   ]
  },
  {
   "cell_type": "markdown",
   "metadata": {},
   "source": [
    "Entferne Einträge für diese Art von Items"
   ]
  },
  {
   "cell_type": "code",
   "execution_count": 301,
   "metadata": {},
   "outputs": [
    {
     "data": {
      "text/plain": [
       "MySQL.TextCursor{true}(MySQL.Connection(host=\"127.0.0.1\", user=\"georg\", port=\"3306\", db=\"wiag2\"), \"DELETE FROM name_lookup \\nWHERE person_id IN (SELECT id FROM item WHERE item_type_id = 6)\", 0, -1, 0, MySQL.API.MYSQL_RES(Ptr{Nothing} @0x0000000000000000), Symbol[], Type[], Dict{Symbol, Int64}(), 0, 1, false)"
      ]
     },
     "execution_count": 301,
     "metadata": {},
     "output_type": "execute_result"
    }
   ],
   "source": [
    "table_name = \"name_lookup\"\n",
    "sql = \"DELETE FROM $(table_name) \n",
    "WHERE person_id IN (SELECT id FROM item WHERE item_type_id = $(item_type_id))\";\n",
    "DBInterface.execute(Wds.dbwiag, sql)"
   ]
  },
  {
   "cell_type": "code",
   "execution_count": 302,
   "metadata": {},
   "outputs": [
    {
     "data": {
      "text/plain": [
       "3-element Vector{String}:\n",
       " \"person_id\"\n",
       " \"gn_fn\"\n",
       " \"gn_prefix_fn\""
      ]
     },
     "execution_count": 302,
     "metadata": {},
     "output_type": "execute_result"
    }
   ],
   "source": [
    "names(df_nl)"
   ]
  },
  {
   "cell_type": "code",
   "execution_count": 303,
   "metadata": {},
   "outputs": [
    {
     "name": "stderr",
     "output_type": "stream",
     "text": [
      "┌ Info: 10000\n",
      "└ @ WiagDataSetup C:\\Users\\georg\\Documents\\projekte\\WiagDataSetup.jl\\src\\WiagDataSetup.jl:1185\n",
      "┌ Info: Rows inserted: 15785\n",
      "└ @ WiagDataSetup C:\\Users\\georg\\Documents\\projekte\\WiagDataSetup.jl\\src\\WiagDataSetup.jl:1208\n"
     ]
    },
    {
     "data": {
      "text/plain": [
       "15785"
      ]
     },
     "execution_count": 303,
     "metadata": {},
     "output_type": "execute_result"
    }
   ],
   "source": [
    "table_name = \"name_lookup\"\n",
    "Wds.filltable!(table_name, df_nl)"
   ]
  },
  {
   "cell_type": "markdown",
   "metadata": {},
   "source": [
    "## Bezug zu den anderen Quellen\n",
    "Siehe **Variante** unten  \n",
    "Zuerst Update der Domherrendatenbank durchführen"
   ]
  },
  {
   "cell_type": "markdown",
   "metadata": {},
   "source": [
    "GS-EP und DH-EP: alle;  \n",
    "GS-DH ohne GS-EP  \n",
    "DH-DH ohne DH-EP  \n",
    "GS-GS ohne GS-DH ohne GS-EP  \n",
    "schließliche EP-EP (sofern EP als Ziel vorkommt)"
   ]
  },
  {
   "cell_type": "code",
   "execution_count": 12,
   "metadata": {},
   "outputs": [
    {
     "data": {
      "text/html": [
       "<div class=\"data-frame\"><p>0 rows × 2 columns</p><table class=\"data-frame\"><thead><tr><th></th><th>person_id</th><th>person_id_canon</th></tr><tr><th></th><th title=\"Int64\">Int64</th><th title=\"Int64\">Int64</th></tr></thead><tbody></tbody></table></div>"
      ],
      "text/latex": [
       "\\begin{tabular}{r|cc}\n",
       "\t& person\\_id & person\\_id\\_canon\\\\\n",
       "\t\\hline\n",
       "\t& Int64 & Int64\\\\\n",
       "\t\\hline\n",
       "\\end{tabular}\n"
      ],
      "text/plain": [
       "\u001b[1m0×2 DataFrame\u001b[0m"
      ]
     },
     "execution_count": 12,
     "metadata": {},
     "output_type": "execute_result"
    }
   ],
   "source": [
    "df_cn_lp = DataFrame(person_id = Int[], person_id_canon = Int[])"
   ]
  },
  {
   "cell_type": "markdown",
   "metadata": {},
   "source": [
    "GS - EP"
   ]
  },
  {
   "cell_type": "code",
   "execution_count": 13,
   "metadata": {},
   "outputs": [],
   "source": [
    "authority_id = 200; # GSN\n",
    "item_type_ep = 4; # Bischof\n",
    "item_type_gs = 6; # Domherr GS\n",
    "sql = \"SELECT gs_gsn.id as person_id, ep_gsn.id as person_id_canon FROM\n",
    "(SELECT i.id, ext.value as id_gsn\n",
    "FROM item as i \n",
    "JOIN id_external AS ext ON i.id = ext.item_id\n",
    "WHERE i.is_online \n",
    "AND i.item_type_id = $(item_type_gs)\n",
    "AND ext.authority_id = $(authority_id)) AS gs_gsn\n",
    "JOIN (SELECT i.id, ext.value as id_gsn\n",
    "FROM item as i \n",
    "JOIN id_external AS ext ON i.id = ext.item_id\n",
    "WHERE i.is_online \n",
    "AND i.item_type_id = $(item_type_ep)\n",
    "AND ext.authority_id = $(authority_id)) AS ep_gsn \n",
    "ON ep_gsn.id_gsn = gs_gsn.id_gsn\"\n",
    "df_gs_ep = Wds.sql_df(sql);"
   ]
  },
  {
   "cell_type": "code",
   "execution_count": 14,
   "metadata": {},
   "outputs": [
    {
     "data": {
      "text/plain": [
       "(556, 2)"
      ]
     },
     "execution_count": 14,
     "metadata": {},
     "output_type": "execute_result"
    }
   ],
   "source": [
    "size(df_gs_ep)"
   ]
  },
  {
   "cell_type": "code",
   "execution_count": 238,
   "metadata": {},
   "outputs": [
    {
     "data": {
      "text/html": [
       "<div class=\"data-frame\"><p>6 rows × 2 columns</p><table class=\"data-frame\"><thead><tr><th></th><th>person_id</th><th>person_id_canon</th></tr><tr><th></th><th title=\"Int32\">Int32</th><th title=\"Int32\">Int32</th></tr></thead><tbody><tr><th>1</th><td>106997</td><td>4915</td></tr><tr><th>2</th><td>107014</td><td>4916</td></tr><tr><th>3</th><td>106819</td><td>4919</td></tr><tr><th>4</th><td>104154</td><td>4934</td></tr><tr><th>5</th><td>107033</td><td>4943</td></tr><tr><th>6</th><td>104347</td><td>4947</td></tr></tbody></table></div>"
      ],
      "text/latex": [
       "\\begin{tabular}{r|cc}\n",
       "\t& person\\_id & person\\_id\\_canon\\\\\n",
       "\t\\hline\n",
       "\t& Int32 & Int32\\\\\n",
       "\t\\hline\n",
       "\t1 & 106997 & 4915 \\\\\n",
       "\t2 & 107014 & 4916 \\\\\n",
       "\t3 & 106819 & 4919 \\\\\n",
       "\t4 & 104154 & 4934 \\\\\n",
       "\t5 & 107033 & 4943 \\\\\n",
       "\t6 & 104347 & 4947 \\\\\n",
       "\\end{tabular}\n"
      ],
      "text/plain": [
       "\u001b[1m6×2 DataFrame\u001b[0m\n",
       "\u001b[1m Row \u001b[0m│\u001b[1m person_id \u001b[0m\u001b[1m person_id_canon \u001b[0m\n",
       "\u001b[1m     \u001b[0m│\u001b[90m Int32     \u001b[0m\u001b[90m Int32           \u001b[0m\n",
       "─────┼────────────────────────────\n",
       "   1 │    106997             4915\n",
       "   2 │    107014             4916\n",
       "   3 │    106819             4919\n",
       "   4 │    104154             4934\n",
       "   5 │    107033             4943\n",
       "   6 │    104347             4947"
      ]
     },
     "execution_count": 238,
     "metadata": {},
     "output_type": "execute_result"
    }
   ],
   "source": [
    "df_gs_ep[530:535, :]"
   ]
  },
  {
   "cell_type": "code",
   "execution_count": 15,
   "metadata": {},
   "outputs": [],
   "source": [
    "append!(df_cn_lp, df_gs_ep);"
   ]
  },
  {
   "cell_type": "markdown",
   "metadata": {},
   "source": [
    "DH - EP"
   ]
  },
  {
   "cell_type": "code",
   "execution_count": 16,
   "metadata": {},
   "outputs": [],
   "source": [
    "authority_id = 5; # WIAG\n",
    "item_type_ep = 4; # Bischof\n",
    "item_type_dh = 5; # Domherr\n",
    "sql = \"SELECT dh.id AS person_id, ep.id AS person_id_canon\n",
    "FROM (SELECT i.id, ext_dh.value AS id_ep_public\n",
    "FROM item as i \n",
    "JOIN id_external as ext_dh ON i.id = ext_dh.item_id\n",
    "WHERE ext_dh.authority_id = $(authority_id)\n",
    "AND i.item_type_id = $(item_type_dh)\n",
    "AND i.is_online) AS dh\n",
    "JOIN (SELECT i.id, i.id_public\n",
    "FROM item AS i\n",
    "WHERE i.item_type_id = $(item_type_ep)) AS ep\n",
    "ON ep.id_public = dh.id_ep_public\";\n",
    "df_dh_ep = Wds.sql_df(sql);"
   ]
  },
  {
   "cell_type": "code",
   "execution_count": 16,
   "metadata": {},
   "outputs": [
    {
     "data": {
      "text/plain": [
       "(149, 2)"
      ]
     },
     "execution_count": 16,
     "metadata": {},
     "output_type": "execute_result"
    }
   ],
   "source": [
    "size(df_dh_ep)"
   ]
  },
  {
   "cell_type": "code",
   "execution_count": 251,
   "metadata": {},
   "outputs": [
    {
     "data": {
      "text/html": [
       "<div class=\"data-frame\"><p>8 rows × 2 columns</p><table class=\"data-frame\"><thead><tr><th></th><th>person_id</th><th>person_canon_id</th></tr><tr><th></th><th title=\"Int32\">Int32</th><th title=\"Int32\">Int32</th></tr></thead><tbody><tr><th>1</th><td>55845</td><td>3251</td></tr><tr><th>2</th><td>55782</td><td>2983</td></tr><tr><th>3</th><td>57510</td><td>2543</td></tr><tr><th>4</th><td>58233</td><td>2544</td></tr><tr><th>5</th><td>58013</td><td>2551</td></tr><tr><th>6</th><td>60205</td><td>1703</td></tr><tr><th>7</th><td>60203</td><td>1375</td></tr><tr><th>8</th><td>60199</td><td>1698</td></tr></tbody></table></div>"
      ],
      "text/latex": [
       "\\begin{tabular}{r|cc}\n",
       "\t& person\\_id & person\\_canon\\_id\\\\\n",
       "\t\\hline\n",
       "\t& Int32 & Int32\\\\\n",
       "\t\\hline\n",
       "\t1 & 55845 & 3251 \\\\\n",
       "\t2 & 55782 & 2983 \\\\\n",
       "\t3 & 57510 & 2543 \\\\\n",
       "\t4 & 58233 & 2544 \\\\\n",
       "\t5 & 58013 & 2551 \\\\\n",
       "\t6 & 60205 & 1703 \\\\\n",
       "\t7 & 60203 & 1375 \\\\\n",
       "\t8 & 60199 & 1698 \\\\\n",
       "\\end{tabular}\n"
      ],
      "text/plain": [
       "\u001b[1m8×2 DataFrame\u001b[0m\n",
       "\u001b[1m Row \u001b[0m│\u001b[1m person_id \u001b[0m\u001b[1m person_canon_id \u001b[0m\n",
       "\u001b[1m     \u001b[0m│\u001b[90m Int32     \u001b[0m\u001b[90m Int32           \u001b[0m\n",
       "─────┼────────────────────────────\n",
       "   1 │     55845             3251\n",
       "   2 │     55782             2983\n",
       "   3 │     57510             2543\n",
       "   4 │     58233             2544\n",
       "   5 │     58013             2551\n",
       "   6 │     60205             1703\n",
       "   7 │     60203             1375\n",
       "   8 │     60199             1698"
      ]
     },
     "execution_count": 251,
     "metadata": {},
     "output_type": "execute_result"
    }
   ],
   "source": [
    "df_dh_ep[50:57, :]"
   ]
  },
  {
   "cell_type": "code",
   "execution_count": 17,
   "metadata": {},
   "outputs": [],
   "source": [
    "append!(df_cn_lp, df_dh_ep);"
   ]
  },
  {
   "cell_type": "markdown",
   "metadata": {},
   "source": [
    "GS - DH ohne GS - EP (nur Neuzugänge)"
   ]
  },
  {
   "cell_type": "code",
   "execution_count": 18,
   "metadata": {},
   "outputs": [],
   "source": [
    "authority_id = 200; # GSN\n",
    "item_type_dh = 5; # Domherr\n",
    "item_type_gs = 6; # Domherr GS\n",
    "sql = \"SELECT gs_gsn.id as person_id, dh_gsn.id as person_id_canon FROM\n",
    "(SELECT i.id, ext.value as id_gsn\n",
    "FROM item as i \n",
    "JOIN id_external AS ext ON i.id = ext.item_id\n",
    "WHERE i.is_online \n",
    "AND i.item_type_id = $(item_type_gs)\n",
    "AND ext.authority_id = $(authority_id)) AS gs_gsn\n",
    "JOIN (SELECT i.id, ext.value as id_gsn\n",
    "FROM item as i \n",
    "JOIN id_external AS ext ON i.id = ext.item_id\n",
    "WHERE i.is_online \n",
    "AND i.item_type_id = $(item_type_dh)\n",
    "AND ext.authority_id = $(authority_id)) AS dh_gsn \n",
    "ON dh_gsn.id_gsn = gs_gsn.id_gsn\"\n",
    "df_gs_dh = Wds.sql_df(sql);"
   ]
  },
  {
   "cell_type": "code",
   "execution_count": 19,
   "metadata": {},
   "outputs": [
    {
     "data": {
      "text/plain": [
       "(332, 2)"
      ]
     },
     "execution_count": 19,
     "metadata": {},
     "output_type": "execute_result"
    }
   ],
   "source": [
    "size(df_gs_dh)"
   ]
  },
  {
   "cell_type": "code",
   "execution_count": 19,
   "metadata": {},
   "outputs": [
    {
     "data": {
      "text/plain": [
       "in_person_id (generic function with 1 method)"
      ]
     },
     "execution_count": 19,
     "metadata": {},
     "output_type": "execute_result"
    }
   ],
   "source": [
    "in_person_id(id) = id in df_cn_lp.person_id"
   ]
  },
  {
   "cell_type": "code",
   "execution_count": 20,
   "metadata": {},
   "outputs": [],
   "source": [
    "df_gs_dh = subset(df_gs_dh, :person_id => ByRow(!in_person_id));"
   ]
  },
  {
   "cell_type": "code",
   "execution_count": 22,
   "metadata": {},
   "outputs": [
    {
     "data": {
      "text/plain": [
       "(287, 2)"
      ]
     },
     "execution_count": 22,
     "metadata": {},
     "output_type": "execute_result"
    }
   ],
   "source": [
    "size(df_gs_dh)"
   ]
  },
  {
   "cell_type": "code",
   "execution_count": 27,
   "metadata": {},
   "outputs": [
    {
     "data": {
      "text/html": [
       "<div class=\"data-frame\"><p>6 rows × 2 columns</p><table class=\"data-frame\"><thead><tr><th></th><th>person_id</th><th>person_id_canon</th></tr><tr><th></th><th title=\"Int32\">Int32</th><th title=\"Int32\">Int32</th></tr></thead><tbody><tr><th>1</th><td>106340</td><td>55419</td></tr><tr><th>2</th><td>106363</td><td>55621</td></tr><tr><th>3</th><td>106372</td><td>60786</td></tr><tr><th>4</th><td>106376</td><td>55611</td></tr><tr><th>5</th><td>106377</td><td>55612</td></tr><tr><th>6</th><td>106378</td><td>55626</td></tr></tbody></table></div>"
      ],
      "text/latex": [
       "\\begin{tabular}{r|cc}\n",
       "\t& person\\_id & person\\_id\\_canon\\\\\n",
       "\t\\hline\n",
       "\t& Int32 & Int32\\\\\n",
       "\t\\hline\n",
       "\t1 & 106340 & 55419 \\\\\n",
       "\t2 & 106363 & 55621 \\\\\n",
       "\t3 & 106372 & 60786 \\\\\n",
       "\t4 & 106376 & 55611 \\\\\n",
       "\t5 & 106377 & 55612 \\\\\n",
       "\t6 & 106378 & 55626 \\\\\n",
       "\\end{tabular}\n"
      ],
      "text/plain": [
       "\u001b[1m6×2 DataFrame\u001b[0m\n",
       "\u001b[1m Row \u001b[0m│\u001b[1m person_id \u001b[0m\u001b[1m person_id_canon \u001b[0m\n",
       "\u001b[1m     \u001b[0m│\u001b[90m Int32     \u001b[0m\u001b[90m Int32           \u001b[0m\n",
       "─────┼────────────────────────────\n",
       "   1 │    106340            55419\n",
       "   2 │    106363            55621\n",
       "   3 │    106372            60786\n",
       "   4 │    106376            55611\n",
       "   5 │    106377            55612\n",
       "   6 │    106378            55626"
      ]
     },
     "execution_count": 27,
     "metadata": {},
     "output_type": "execute_result"
    }
   ],
   "source": [
    "df_gs_dh[250:255, :]"
   ]
  },
  {
   "cell_type": "code",
   "execution_count": 21,
   "metadata": {},
   "outputs": [],
   "source": [
    "append!(df_cn_lp, df_gs_dh);"
   ]
  },
  {
   "cell_type": "markdown",
   "metadata": {},
   "source": [
    "DH - DH und GS - GS ohne DH - EP ohne GS - DH ohne GS - EP: nur Neuzugänge"
   ]
  },
  {
   "cell_type": "code",
   "execution_count": 22,
   "metadata": {},
   "outputs": [],
   "source": [
    "table_name = \"item\";\n",
    "item_type_dh = 5;\n",
    "item_type_gs = 6;\n",
    "sql = \"SELECT id as person_id, id as person_id_canon \n",
    "FROM $(table_name) WHERE item_type_id in ($(item_type_dh), $(item_type_gs)) AND is_online\";\n",
    "df_cn_rx = Wds.sql_df(sql);"
   ]
  },
  {
   "cell_type": "code",
   "execution_count": 24,
   "metadata": {},
   "outputs": [
    {
     "data": {
      "text/plain": [
       "(10002, 2)"
      ]
     },
     "execution_count": 24,
     "metadata": {},
     "output_type": "execute_result"
    }
   ],
   "source": [
    "size(df_cn_rx)"
   ]
  },
  {
   "cell_type": "code",
   "execution_count": 23,
   "metadata": {},
   "outputs": [],
   "source": [
    "df_cn_rx = subset(df_cn_rx, :person_id => ByRow(!in_person_id));"
   ]
  },
  {
   "cell_type": "code",
   "execution_count": 25,
   "metadata": {},
   "outputs": [
    {
     "data": {
      "text/plain": [
       "(10002, 2)"
      ]
     },
     "execution_count": 25,
     "metadata": {},
     "output_type": "execute_result"
    }
   ],
   "source": [
    "size(df_cn_rx)"
   ]
  },
  {
   "cell_type": "code",
   "execution_count": 26,
   "metadata": {},
   "outputs": [],
   "source": [
    "append!(df_cn_lp, df_cn_rx);"
   ]
  },
  {
   "cell_type": "code",
   "execution_count": 29,
   "metadata": {},
   "outputs": [
    {
     "data": {
      "text/plain": [
       "(9822, 2)"
      ]
     },
     "execution_count": 29,
     "metadata": {},
     "output_type": "execute_result"
    }
   ],
   "source": [
    "size(df_cn_lp)"
   ]
  },
  {
   "cell_type": "markdown",
   "metadata": {},
   "source": [
    "EP - EP, sofern sie als Ziel vorkommen"
   ]
  },
  {
   "cell_type": "code",
   "execution_count": 27,
   "metadata": {},
   "outputs": [],
   "source": [
    "table_name = \"item\";\n",
    "item_type_ep = 4;\n",
    "sql = \"SELECT id FROM $(table_name) WHERE item_type_id = $(item_type_ep)\"\n",
    "df_ids_ep = Wds.sql_df(sql);"
   ]
  },
  {
   "cell_type": "code",
   "execution_count": 28,
   "metadata": {},
   "outputs": [],
   "source": [
    "ids_ep_lp = intersect(df_ids_ep.id, df_cn_lp.person_id_canon);"
   ]
  },
  {
   "cell_type": "code",
   "execution_count": 29,
   "metadata": {},
   "outputs": [
    {
     "data": {
      "text/plain": [
       "(667,)"
      ]
     },
     "execution_count": 29,
     "metadata": {},
     "output_type": "execute_result"
    }
   ],
   "source": [
    "size(ids_ep_lp)"
   ]
  },
  {
   "cell_type": "code",
   "execution_count": 30,
   "metadata": {},
   "outputs": [],
   "source": [
    "df_ep_ep = DataFrame(person_id = ids_ep_lp, person_id_canon = ids_ep_lp);"
   ]
  },
  {
   "cell_type": "code",
   "execution_count": 31,
   "metadata": {},
   "outputs": [],
   "source": [
    "append!(df_cn_lp, df_ep_ep);"
   ]
  },
  {
   "cell_type": "code",
   "execution_count": 32,
   "metadata": {},
   "outputs": [
    {
     "data": {
      "text/plain": [
       "(11693, 2)"
      ]
     },
     "execution_count": 32,
     "metadata": {},
     "output_type": "execute_result"
    }
   ],
   "source": [
    "size(df_cn_lp)"
   ]
  },
  {
   "cell_type": "code",
   "execution_count": 33,
   "metadata": {},
   "outputs": [
    {
     "name": "stderr",
     "output_type": "stream",
     "text": [
      "┌ Info: 10000\n",
      "└ @ WiagDataSetup C:\\Users\\georg\\Documents\\projekte\\WiagDataSetup.jl\\src\\WiagDataSetup.jl:1185\n",
      "┌ Info: Rows inserted: 11693\n",
      "└ @ WiagDataSetup C:\\Users\\georg\\Documents\\projekte\\WiagDataSetup.jl\\src\\WiagDataSetup.jl:1208\n"
     ]
    },
    {
     "data": {
      "text/plain": [
       "11693"
      ]
     },
     "execution_count": 33,
     "metadata": {},
     "output_type": "execute_result"
    }
   ],
   "source": [
    "table_name = \"canon_lookup\";\n",
    "Wds.filltable!(table_name, df_cn_lp, clear_table = true)"
   ]
  },
  {
   "cell_type": "markdown",
   "metadata": {},
   "source": [
    "### Bezug zu anderen Quellen (2)\n",
    "Neue Struktur von `canon_online`: Ein Datensatz pro Domherr mit den Feldern `canon`, `canon_gs`, `bishop` "
   ]
  },
  {
   "cell_type": "markdown",
   "metadata": {},
   "source": [
    "Domherrendatenbank"
   ]
  },
  {
   "cell_type": "markdown",
   "metadata": {},
   "source": [
    "IDs der Domherren aus der Domherrendatenbank und die Verweise auf Bischöfe und Domherren aus der Personendatenbank"
   ]
  },
  {
   "cell_type": "code",
   "execution_count": 304,
   "metadata": {},
   "outputs": [],
   "source": [
    "table_name = \"item\";\n",
    "item_type_domherr = 5;\n",
    "sql = \"SELECT i.id as dh, e1.value AS dh_gsn, e2.value AS dh_episc_id\n",
    "FROM $(table_name) AS i\n",
    "LEFT JOIN id_external AS e1 ON e1.item_id = i.id AND e1.authority_id = 200\n",
    "LEFT JOIN id_external AS e2 ON e2.item_id = i.id AND e2.authority_id = 5\n",
    "WHERE i.item_type_id = $(item_type_domherr) AND i.is_online\";\n",
    "df_dh = Wds.sql_df(sql);"
   ]
  },
  {
   "cell_type": "code",
   "execution_count": 305,
   "metadata": {},
   "outputs": [
    {
     "data": {
      "text/plain": [
       "2587"
      ]
     },
     "execution_count": 305,
     "metadata": {},
     "output_type": "execute_result"
    }
   ],
   "source": [
    "size(df_dh, 1)"
   ]
  },
  {
   "cell_type": "code",
   "execution_count": 68,
   "metadata": {},
   "outputs": [],
   "source": [
    "gsn_and_episc_id(x, y) = !(ismissing(x) | ismissing(y))\n",
    "df_all_ids = subset(df_dh, [:dh_gsn, :dh_episc_id] => ByRow(gsn_and_episc_id));"
   ]
  },
  {
   "cell_type": "code",
   "execution_count": 69,
   "metadata": {},
   "outputs": [
    {
     "data": {
      "text/html": [
       "<div class=\"data-frame\"><p>6 rows × 3 columns</p><table class=\"data-frame\"><thead><tr><th></th><th>dh</th><th>dh_gsn</th><th>dh_episc_id</th></tr><tr><th></th><th title=\"Int32\">Int32</th><th title=\"Union{Missing, String}\">String?</th><th title=\"Union{Missing, String}\">String?</th></tr></thead><tbody><tr><th>1</th><td>123644</td><td>068-00445-001</td><td>WIAG-Pers-EPISCGatz-10236-001</td></tr><tr><th>2</th><td>123662</td><td>082-00613-001</td><td>WIAG-Pers-EPISCGatz-10446-001</td></tr><tr><th>3</th><td>123676</td><td>043-04755-001</td><td>WIAG-Pers-EPISCGatz-10824-001</td></tr><tr><th>4</th><td>123721</td><td>051-02773-001</td><td>WIAG-Pers-EPISCGatz-10879-001</td></tr><tr><th>5</th><td>123732</td><td>058-05253-001</td><td>WIAG-Pers-EPISCGatz-10825-001</td></tr><tr><th>6</th><td>123757</td><td>051-02895-001</td><td>WIAG-Pers-EPISCGatz-10905-001</td></tr></tbody></table></div>"
      ],
      "text/latex": [
       "\\begin{tabular}{r|ccc}\n",
       "\t& dh & dh\\_gsn & dh\\_episc\\_id\\\\\n",
       "\t\\hline\n",
       "\t& Int32 & String? & String?\\\\\n",
       "\t\\hline\n",
       "\t1 & 123644 & 068-00445-001 & WIAG-Pers-EPISCGatz-10236-001 \\\\\n",
       "\t2 & 123662 & 082-00613-001 & WIAG-Pers-EPISCGatz-10446-001 \\\\\n",
       "\t3 & 123676 & 043-04755-001 & WIAG-Pers-EPISCGatz-10824-001 \\\\\n",
       "\t4 & 123721 & 051-02773-001 & WIAG-Pers-EPISCGatz-10879-001 \\\\\n",
       "\t5 & 123732 & 058-05253-001 & WIAG-Pers-EPISCGatz-10825-001 \\\\\n",
       "\t6 & 123757 & 051-02895-001 & WIAG-Pers-EPISCGatz-10905-001 \\\\\n",
       "\\end{tabular}\n"
      ],
      "text/plain": [
       "\u001b[1m6×3 DataFrame\u001b[0m\n",
       "\u001b[1m Row \u001b[0m│\u001b[1m dh     \u001b[0m\u001b[1m dh_gsn        \u001b[0m\u001b[1m dh_episc_id                   \u001b[0m\n",
       "\u001b[1m     \u001b[0m│\u001b[90m Int32  \u001b[0m\u001b[90m String?       \u001b[0m\u001b[90m String?                       \u001b[0m\n",
       "─────┼──────────────────────────────────────────────────────\n",
       "   1 │ 123644  068-00445-001  WIAG-Pers-EPISCGatz-10236-001\n",
       "   2 │ 123662  082-00613-001  WIAG-Pers-EPISCGatz-10446-001\n",
       "   3 │ 123676  043-04755-001  WIAG-Pers-EPISCGatz-10824-001\n",
       "   4 │ 123721  051-02773-001  WIAG-Pers-EPISCGatz-10879-001\n",
       "   5 │ 123732  058-05253-001  WIAG-Pers-EPISCGatz-10825-001\n",
       "   6 │ 123757  051-02895-001  WIAG-Pers-EPISCGatz-10905-001"
      ]
     },
     "execution_count": 69,
     "metadata": {},
     "output_type": "execute_result"
    }
   ],
   "source": [
    "df_all_ids[5:10, :]"
   ]
  },
  {
   "cell_type": "code",
   "execution_count": 70,
   "metadata": {},
   "outputs": [
    {
     "data": {
      "text/html": [
       "<div class=\"data-frame\"><p>6 rows × 3 columns</p><table class=\"data-frame\"><thead><tr><th></th><th>dh</th><th>dh_gsn</th><th>dh_episc_id</th></tr><tr><th></th><th title=\"Int32\">Int32</th><th title=\"Union{Missing, String}\">String?</th><th title=\"Union{Missing, String}\">String?</th></tr></thead><tbody><tr><th>1</th><td>123760</td><td><em>missing</em></td><td><em>missing</em></td></tr><tr><th>2</th><td>123761</td><td><em>missing</em></td><td><em>missing</em></td></tr><tr><th>3</th><td>123762</td><td>064-00748-001</td><td>WIAG-Pers-EPISCGatz-10893-001</td></tr><tr><th>4</th><td>123763</td><td>026-07886-001</td><td><em>missing</em></td></tr><tr><th>5</th><td>123764</td><td><em>missing</em></td><td><em>missing</em></td></tr><tr><th>6</th><td>123765</td><td><em>missing</em></td><td>WIAG-Pers-EPISCGatz-10887-001</td></tr></tbody></table></div>"
      ],
      "text/latex": [
       "\\begin{tabular}{r|ccc}\n",
       "\t& dh & dh\\_gsn & dh\\_episc\\_id\\\\\n",
       "\t\\hline\n",
       "\t& Int32 & String? & String?\\\\\n",
       "\t\\hline\n",
       "\t1 & 123760 & \\emph{missing} & \\emph{missing} \\\\\n",
       "\t2 & 123761 & \\emph{missing} & \\emph{missing} \\\\\n",
       "\t3 & 123762 & 064-00748-001 & WIAG-Pers-EPISCGatz-10893-001 \\\\\n",
       "\t4 & 123763 & 026-07886-001 & \\emph{missing} \\\\\n",
       "\t5 & 123764 & \\emph{missing} & \\emph{missing} \\\\\n",
       "\t6 & 123765 & \\emph{missing} & WIAG-Pers-EPISCGatz-10887-001 \\\\\n",
       "\\end{tabular}\n"
      ],
      "text/plain": [
       "\u001b[1m6×3 DataFrame\u001b[0m\n",
       "\u001b[1m Row \u001b[0m│\u001b[1m dh     \u001b[0m\u001b[1m dh_gsn        \u001b[0m\u001b[1m dh_episc_id                   \u001b[0m\n",
       "\u001b[1m     \u001b[0m│\u001b[90m Int32  \u001b[0m\u001b[90m String?       \u001b[0m\u001b[90m String?                       \u001b[0m\n",
       "─────┼──────────────────────────────────────────────────────\n",
       "   1 │ 123760 \u001b[90m missing       \u001b[0m\u001b[90m missing                       \u001b[0m\n",
       "   2 │ 123761 \u001b[90m missing       \u001b[0m\u001b[90m missing                       \u001b[0m\n",
       "   3 │ 123762  064-00748-001  WIAG-Pers-EPISCGatz-10893-001\n",
       "   4 │ 123763  026-07886-001 \u001b[90m missing                       \u001b[0m\n",
       "   5 │ 123764 \u001b[90m missing       \u001b[0m\u001b[90m missing                       \u001b[0m\n",
       "   6 │ 123765 \u001b[90m missing       \u001b[0m WIAG-Pers-EPISCGatz-10887-001"
      ]
     },
     "execution_count": 70,
     "metadata": {},
     "output_type": "execute_result"
    }
   ],
   "source": [
    "df_dh[200:205, :]"
   ]
  },
  {
   "cell_type": "markdown",
   "metadata": {},
   "source": [
    "Alle Bischöfe"
   ]
  },
  {
   "cell_type": "code",
   "execution_count": 306,
   "metadata": {},
   "outputs": [],
   "source": [
    "table_name = \"item\";\n",
    "item_type_bishop = 4;\n",
    "sql = \"SELECT i.id as ep, i.id_public, e1.value AS ep_gsn\n",
    "FROM $(table_name) AS i\n",
    "JOIN id_external AS e1 ON e1.item_id = i.id AND e1.authority_id = 200\n",
    "WHERE i.item_type_id = $(item_type_bishop) AND i.is_online\";\n",
    "df_ep = Wds.sql_df(sql);"
   ]
  },
  {
   "cell_type": "code",
   "execution_count": 307,
   "metadata": {},
   "outputs": [
    {
     "data": {
      "text/html": [
       "<div class=\"data-frame\"><p>9 rows × 3 columns</p><table class=\"data-frame\"><thead><tr><th></th><th>ep</th><th>id_public</th><th>ep_gsn</th></tr><tr><th></th><th title=\"Int32\">Int32</th><th title=\"Union{Missing, String}\">String?</th><th title=\"Union{Missing, String}\">String?</th></tr></thead><tbody><tr><th>1</th><td>115</td><td>WIAG-Pers-EPISCGatz-05080-001</td><td>057-00019-001</td></tr><tr><th>2</th><td>117</td><td>WIAG-Pers-EPISCGatz-05078-001</td><td>056-00592-001</td></tr><tr><th>3</th><td>118</td><td>WIAG-Pers-EPISCGatz-04189-001</td><td>058-03442-001</td></tr><tr><th>4</th><td>119</td><td>WIAG-Pers-EPISCGatz-04188-001</td><td>056-00641-001</td></tr><tr><th>5</th><td>120</td><td>WIAG-Pers-EPISCGatz-04187-001</td><td>056-00745-001</td></tr><tr><th>6</th><td>132</td><td>WIAG-Pers-EPISCGatz-04175-001</td><td>048-04043-001</td></tr><tr><th>7</th><td>139</td><td>WIAG-Pers-EPISCGatz-04168-001</td><td>075-01053-001</td></tr><tr><th>8</th><td>140</td><td>WIAG-Pers-EPISCGatz-04167-001</td><td>063-01291-001</td></tr><tr><th>9</th><td>142</td><td>WIAG-Pers-EPISCGatz-03194-001</td><td>046-04814-001</td></tr></tbody></table></div>"
      ],
      "text/latex": [
       "\\begin{tabular}{r|ccc}\n",
       "\t& ep & id\\_public & ep\\_gsn\\\\\n",
       "\t\\hline\n",
       "\t& Int32 & String? & String?\\\\\n",
       "\t\\hline\n",
       "\t1 & 115 & WIAG-Pers-EPISCGatz-05080-001 & 057-00019-001 \\\\\n",
       "\t2 & 117 & WIAG-Pers-EPISCGatz-05078-001 & 056-00592-001 \\\\\n",
       "\t3 & 118 & WIAG-Pers-EPISCGatz-04189-001 & 058-03442-001 \\\\\n",
       "\t4 & 119 & WIAG-Pers-EPISCGatz-04188-001 & 056-00641-001 \\\\\n",
       "\t5 & 120 & WIAG-Pers-EPISCGatz-04187-001 & 056-00745-001 \\\\\n",
       "\t6 & 132 & WIAG-Pers-EPISCGatz-04175-001 & 048-04043-001 \\\\\n",
       "\t7 & 139 & WIAG-Pers-EPISCGatz-04168-001 & 075-01053-001 \\\\\n",
       "\t8 & 140 & WIAG-Pers-EPISCGatz-04167-001 & 063-01291-001 \\\\\n",
       "\t9 & 142 & WIAG-Pers-EPISCGatz-03194-001 & 046-04814-001 \\\\\n",
       "\\end{tabular}\n"
      ],
      "text/plain": [
       "\u001b[1m9×3 DataFrame\u001b[0m\n",
       "\u001b[1m Row \u001b[0m│\u001b[1m ep    \u001b[0m\u001b[1m id_public                     \u001b[0m\u001b[1m ep_gsn        \u001b[0m\n",
       "\u001b[1m     \u001b[0m│\u001b[90m Int32 \u001b[0m\u001b[90m String?                       \u001b[0m\u001b[90m String?       \u001b[0m\n",
       "─────┼─────────────────────────────────────────────────────\n",
       "   1 │   115  WIAG-Pers-EPISCGatz-05080-001  057-00019-001\n",
       "   2 │   117  WIAG-Pers-EPISCGatz-05078-001  056-00592-001\n",
       "   3 │   118  WIAG-Pers-EPISCGatz-04189-001  058-03442-001\n",
       "   4 │   119  WIAG-Pers-EPISCGatz-04188-001  056-00641-001\n",
       "   5 │   120  WIAG-Pers-EPISCGatz-04187-001  056-00745-001\n",
       "   6 │   132  WIAG-Pers-EPISCGatz-04175-001  048-04043-001\n",
       "   7 │   139  WIAG-Pers-EPISCGatz-04168-001  075-01053-001\n",
       "   8 │   140  WIAG-Pers-EPISCGatz-04167-001  063-01291-001\n",
       "   9 │   142  WIAG-Pers-EPISCGatz-03194-001  046-04814-001"
      ]
     },
     "execution_count": 307,
     "metadata": {},
     "output_type": "execute_result"
    }
   ],
   "source": [
    "df_ep[7:15, :]"
   ]
  },
  {
   "cell_type": "markdown",
   "metadata": {},
   "source": [
    "DH - EP"
   ]
  },
  {
   "cell_type": "code",
   "execution_count": 308,
   "metadata": {},
   "outputs": [],
   "source": [
    "df_dh_ep = leftjoin(df_dh, \n",
    "    select(df_ep, [:ep => :ep1, :id_public => :id_public, :ep_gsn => :ep_gsn]), \n",
    "    on = :dh_episc_id => :id_public, \n",
    "    matchmissing = :notequal);"
   ]
  },
  {
   "cell_type": "code",
   "execution_count": 309,
   "metadata": {},
   "outputs": [
    {
     "data": {
      "text/plain": [
       "2587"
      ]
     },
     "execution_count": 309,
     "metadata": {},
     "output_type": "execute_result"
    }
   ],
   "source": [
    "size(df_dh_ep, 1)"
   ]
  },
  {
   "cell_type": "code",
   "execution_count": 310,
   "metadata": {},
   "outputs": [
    {
     "data": {
      "text/plain": [
       "5-element Vector{String}:\n",
       " \"dh\"\n",
       " \"dh_gsn\"\n",
       " \"dh_episc_id\"\n",
       " \"ep1\"\n",
       " \"ep_gsn\""
      ]
     },
     "execution_count": 310,
     "metadata": {},
     "output_type": "execute_result"
    }
   ],
   "source": [
    "names(df_dh_ep)"
   ]
  },
  {
   "cell_type": "code",
   "execution_count": 311,
   "metadata": {},
   "outputs": [
    {
     "data": {
      "text/plain": [
       "(164, 102)"
      ]
     },
     "execution_count": 311,
     "metadata": {},
     "output_type": "execute_result"
    }
   ],
   "source": [
    "count(!ismissing, df_dh_ep.dh_episc_id), count(!ismissing, df_dh_ep.ep1)"
   ]
  },
  {
   "cell_type": "markdown",
   "metadata": {},
   "source": [
    "Alle Bischöfe werden gefunden."
   ]
  },
  {
   "cell_type": "markdown",
   "metadata": {},
   "source": [
    "Ergänze `dh_gsn` mit `ep_gsn`. Das ist nicht mehr nötig. Die GSN werden beim Einlesen der Daten schon ergänzt und in `id_external` eingetragen."
   ]
  },
  {
   "cell_type": "code",
   "execution_count": 312,
   "metadata": {},
   "outputs": [
    {
     "data": {
      "text/plain": [
       "451"
      ]
     },
     "execution_count": 312,
     "metadata": {},
     "output_type": "execute_result"
    }
   ],
   "source": [
    "count(!ismissing, df_dh_ep.dh_gsn)"
   ]
  },
  {
   "cell_type": "code",
   "execution_count": 313,
   "metadata": {},
   "outputs": [
    {
     "data": {
      "text/plain": [
       "0"
      ]
     },
     "execution_count": 313,
     "metadata": {},
     "output_type": "execute_result"
    }
   ],
   "source": [
    "update = 0\n",
    "for row in eachrow(df_dh_ep)\n",
    "    if ismissing(row[:dh_gsn]) && !ismissing(row[:ep_gsn])\n",
    "        row[:dh_gsn] = row[:ep_gsn]\n",
    "        update += 1\n",
    "    end\n",
    "end\n",
    "update"
   ]
  },
  {
   "cell_type": "code",
   "execution_count": 151,
   "metadata": {},
   "outputs": [
    {
     "data": {
      "text/plain": [
       "451"
      ]
     },
     "execution_count": 151,
     "metadata": {},
     "output_type": "execute_result"
    }
   ],
   "source": [
    "count(!ismissing, df_dh_ep.dh_gsn)"
   ]
  },
  {
   "cell_type": "markdown",
   "metadata": {},
   "source": [
    "GS  \n",
    "ID und GSN der Domherren aus der Personendatenbank"
   ]
  },
  {
   "cell_type": "code",
   "execution_count": 314,
   "metadata": {},
   "outputs": [],
   "source": [
    "table_name = \"item\";\n",
    "item_type_domherr_gs = 6;\n",
    "sql = \"SELECT i.id as gs, e1.value AS gs_gsn\n",
    "FROM $(table_name) AS i\n",
    "JOIN id_external AS e1 ON e1.item_id = i.id AND e1.authority_id = 200\n",
    "WHERE i.item_type_id = $(item_type_domherr_gs) AND i.is_online\";\n",
    "df_gs = Wds.sql_df(sql);"
   ]
  },
  {
   "cell_type": "code",
   "execution_count": 315,
   "metadata": {},
   "outputs": [
    {
     "data": {
      "text/plain": [
       "8523"
      ]
     },
     "execution_count": 315,
     "metadata": {},
     "output_type": "execute_result"
    }
   ],
   "source": [
    "size(df_gs, 1)"
   ]
  },
  {
   "cell_type": "markdown",
   "metadata": {},
   "source": [
    "GS - EP"
   ]
  },
  {
   "cell_type": "code",
   "execution_count": 316,
   "metadata": {},
   "outputs": [],
   "source": [
    "df_gs_ep = leftjoin(df_gs, \n",
    "    select(df_ep, [:ep => :ep2, :ep_gsn => :ep_gsn]),\n",
    "    on = :gs_gsn => :ep_gsn, \n",
    "    matchmissing = :notequal);"
   ]
  },
  {
   "cell_type": "code",
   "execution_count": 317,
   "metadata": {},
   "outputs": [
    {
     "data": {
      "text/plain": [
       "8523"
      ]
     },
     "execution_count": 317,
     "metadata": {},
     "output_type": "execute_result"
    }
   ],
   "source": [
    "size(df_gs_ep, 1)"
   ]
  },
  {
   "cell_type": "code",
   "execution_count": 318,
   "metadata": {},
   "outputs": [
    {
     "data": {
      "text/plain": [
       "(0, 611)"
      ]
     },
     "execution_count": 318,
     "metadata": {},
     "output_type": "execute_result"
    }
   ],
   "source": [
    "count(ismissing, df_gs_ep.gs_gsn), count(!ismissing, df_gs_ep.ep2)"
   ]
  },
  {
   "cell_type": "code",
   "execution_count": 319,
   "metadata": {},
   "outputs": [
    {
     "data": {
      "text/html": [
       "<div class=\"data-frame\"><p>6 rows × 3 columns</p><table class=\"data-frame\"><thead><tr><th></th><th>gs</th><th>gs_gsn</th><th>ep2</th></tr><tr><th></th><th title=\"Int32\">Int32</th><th title=\"Union{Missing, String}\">String?</th><th title=\"Union{Missing, Int32}\">Int32?</th></tr></thead><tbody><tr><th>1</th><td>158654</td><td>051-00997-001</td><td>3580</td></tr><tr><th>2</th><td>158663</td><td>059-01647-001</td><td>3658</td></tr><tr><th>3</th><td>158664</td><td>059-01290-001</td><td>3839</td></tr><tr><th>4</th><td>158665</td><td>059-00644-001</td><td>592</td></tr><tr><th>5</th><td>158666</td><td>006-00029-001</td><td>347</td></tr><tr><th>6</th><td>158706</td><td>060-03429-001</td><td>168</td></tr></tbody></table></div>"
      ],
      "text/latex": [
       "\\begin{tabular}{r|ccc}\n",
       "\t& gs & gs\\_gsn & ep2\\\\\n",
       "\t\\hline\n",
       "\t& Int32 & String? & Int32?\\\\\n",
       "\t\\hline\n",
       "\t1 & 158654 & 051-00997-001 & 3580 \\\\\n",
       "\t2 & 158663 & 059-01647-001 & 3658 \\\\\n",
       "\t3 & 158664 & 059-01290-001 & 3839 \\\\\n",
       "\t4 & 158665 & 059-00644-001 & 592 \\\\\n",
       "\t5 & 158666 & 006-00029-001 & 347 \\\\\n",
       "\t6 & 158706 & 060-03429-001 & 168 \\\\\n",
       "\\end{tabular}\n"
      ],
      "text/plain": [
       "\u001b[1m6×3 DataFrame\u001b[0m\n",
       "\u001b[1m Row \u001b[0m│\u001b[1m gs     \u001b[0m\u001b[1m gs_gsn        \u001b[0m\u001b[1m ep2    \u001b[0m\n",
       "\u001b[1m     \u001b[0m│\u001b[90m Int32  \u001b[0m\u001b[90m String?       \u001b[0m\u001b[90m Int32? \u001b[0m\n",
       "─────┼───────────────────────────────\n",
       "   1 │ 158654  051-00997-001    3580\n",
       "   2 │ 158663  059-01647-001    3658\n",
       "   3 │ 158664  059-01290-001    3839\n",
       "   4 │ 158665  059-00644-001     592\n",
       "   5 │ 158666  006-00029-001     347\n",
       "   6 │ 158706  060-03429-001     168"
      ]
     },
     "execution_count": 319,
     "metadata": {},
     "output_type": "execute_result"
    }
   ],
   "source": [
    "df_gs_ep[200:205, :]"
   ]
  },
  {
   "cell_type": "markdown",
   "metadata": {},
   "source": [
    "Die Domherren aus GS haben alle eine GSN, daher kann `df_gs_ep` ergänzt werden aus `df_cn_lp`."
   ]
  },
  {
   "cell_type": "code",
   "execution_count": 320,
   "metadata": {},
   "outputs": [
    {
     "data": {
      "text/plain": [
       "3-element Vector{String}:\n",
       " \"gs\"\n",
       " \"gs_gsn\"\n",
       " \"ep2\""
      ]
     },
     "execution_count": 320,
     "metadata": {},
     "output_type": "execute_result"
    }
   ],
   "source": [
    "names(df_gs_ep)"
   ]
  },
  {
   "cell_type": "code",
   "execution_count": 321,
   "metadata": {},
   "outputs": [
    {
     "data": {
      "text/plain": [
       "5-element Vector{String}:\n",
       " \"dh\"\n",
       " \"dh_gsn\"\n",
       " \"dh_episc_id\"\n",
       " \"ep1\"\n",
       " \"ep_gsn\""
      ]
     },
     "execution_count": 321,
     "metadata": {},
     "output_type": "execute_result"
    }
   ],
   "source": [
    "names(df_dh_ep)"
   ]
  },
  {
   "cell_type": "code",
   "execution_count": 322,
   "metadata": {},
   "outputs": [],
   "source": [
    "df_cn_lp = outerjoin(df_dh_ep, \n",
    "    df_gs_ep,\n",
    "    on = :dh_gsn => :gs_gsn, \n",
    "    matchmissing = :equal);"
   ]
  },
  {
   "cell_type": "code",
   "execution_count": 323,
   "metadata": {},
   "outputs": [
    {
     "data": {
      "text/plain": [
       "(10660, 450, 451)"
      ]
     },
     "execution_count": 323,
     "metadata": {},
     "output_type": "execute_result"
    }
   ],
   "source": [
    "size(df_cn_lp, 1), size(df_dh_ep, 1) + size(df_gs_ep, 1) - size(df_cn_lp, 1), count(!ismissing, df_dh_ep.dh_gsn)"
   ]
  },
  {
   "cell_type": "markdown",
   "metadata": {},
   "source": [
    "*2022-03-10* eine GSN ist ungültig"
   ]
  },
  {
   "cell_type": "markdown",
   "metadata": {},
   "source": [
    "Führe Verweise auf Bischöfe zusammen"
   ]
  },
  {
   "cell_type": "code",
   "execution_count": 330,
   "metadata": {},
   "outputs": [],
   "source": [
    "df_cn_lp[!, :ep] .= df_cn_lp.ep1;"
   ]
  },
  {
   "cell_type": "code",
   "execution_count": 331,
   "metadata": {},
   "outputs": [
    {
     "data": {
      "text/plain": [
       "510"
      ]
     },
     "execution_count": 331,
     "metadata": {},
     "output_type": "execute_result"
    }
   ],
   "source": [
    "update = 0\n",
    "for row in eachrow(df_cn_lp)\n",
    "    if ismissing(row[:ep]) && !ismissing(row[:ep2])\n",
    "        row[:ep] = row[:ep2]\n",
    "        update += 1\n",
    "    end\n",
    "end\n",
    "update"
   ]
  },
  {
   "cell_type": "markdown",
   "metadata": {},
   "source": [
    "Bringe die Verweise in eine flache Struktur"
   ]
  },
  {
   "cell_type": "code",
   "execution_count": 332,
   "metadata": {},
   "outputs": [
    {
     "data": {
      "text/html": [
       "<div class=\"data-frame\"><p>0 rows × 3 columns</p><table class=\"data-frame\"><thead><tr><th></th><th>person_id_name</th><th>person_id_role</th><th>office_prio</th></tr><tr><th></th><th title=\"Int64\">Int64</th><th title=\"Int64\">Int64</th><th title=\"Int64\">Int64</th></tr></thead><tbody></tbody></table></div>"
      ],
      "text/latex": [
       "\\begin{tabular}{r|ccc}\n",
       "\t& person\\_id\\_name & person\\_id\\_role & office\\_prio\\\\\n",
       "\t\\hline\n",
       "\t& Int64 & Int64 & Int64\\\\\n",
       "\t\\hline\n",
       "\\end{tabular}\n"
      ],
      "text/plain": [
       "\u001b[1m0×3 DataFrame\u001b[0m"
      ]
     },
     "execution_count": 332,
     "metadata": {},
     "output_type": "execute_result"
    }
   ],
   "source": [
    "df_cn_lp_db = DataFrame(person_id_name = Int[], person_id_role = Int[], office_prio = Int[])"
   ]
  },
  {
   "cell_type": "code",
   "execution_count": 333,
   "metadata": {},
   "outputs": [],
   "source": [
    "for row in eachrow(df_cn_lp)\n",
    "    prio = 1\n",
    "    if !ismissing(row[:ep])\n",
    "        name = row[:ep]\n",
    "        if !ismissing(row[:dh])\n",
    "            push!(df_cn_lp_db, (name, row[:dh], prio))\n",
    "            prio += 1\n",
    "        end\n",
    "        if !ismissing(row[:gs])\n",
    "            push!(df_cn_lp_db, (name, row[:gs], prio))\n",
    "            prio += 1\n",
    "        end        \n",
    "        push!(df_cn_lp_db, (name, row[:ep], prio))\n",
    "    elseif !ismissing(row[:dh])\n",
    "        prio = 1\n",
    "        name = row[:dh]\n",
    "        push!(df_cn_lp_db, (name, row[:dh], prio))\n",
    "        prio += 1\n",
    "        if !ismissing(row[:gs])\n",
    "            push!(df_cn_lp_db, (name, row[:gs], prio))\n",
    "        end\n",
    "    else\n",
    "        prio = 1\n",
    "        push!(df_cn_lp_db, (row[:gs], row[:gs], prio))\n",
    "    end\n",
    "end        "
   ]
  },
  {
   "cell_type": "code",
   "execution_count": 334,
   "metadata": {},
   "outputs": [
    {
     "data": {
      "text/html": [
       "<div class=\"data-frame\"><p>6 rows × 3 columns</p><table class=\"data-frame\"><thead><tr><th></th><th>person_id_name</th><th>person_id_role</th><th>office_prio</th></tr><tr><th></th><th title=\"Int64\">Int64</th><th title=\"Int64\">Int64</th><th title=\"Int64\">Int64</th></tr></thead><tbody><tr><th>1</th><td>123574</td><td>123574</td><td>1</td></tr><tr><th>2</th><td>123578</td><td>123578</td><td>1</td></tr><tr><th>3</th><td>123580</td><td>123580</td><td>1</td></tr><tr><th>4</th><td>123581</td><td>123581</td><td>1</td></tr><tr><th>5</th><td>123583</td><td>123583</td><td>1</td></tr><tr><th>6</th><td>123584</td><td>123584</td><td>1</td></tr></tbody></table></div>"
      ],
      "text/latex": [
       "\\begin{tabular}{r|ccc}\n",
       "\t& person\\_id\\_name & person\\_id\\_role & office\\_prio\\\\\n",
       "\t\\hline\n",
       "\t& Int64 & Int64 & Int64\\\\\n",
       "\t\\hline\n",
       "\t1 & 123574 & 123574 & 1 \\\\\n",
       "\t2 & 123578 & 123578 & 1 \\\\\n",
       "\t3 & 123580 & 123580 & 1 \\\\\n",
       "\t4 & 123581 & 123581 & 1 \\\\\n",
       "\t5 & 123583 & 123583 & 1 \\\\\n",
       "\t6 & 123584 & 123584 & 1 \\\\\n",
       "\\end{tabular}\n"
      ],
      "text/plain": [
       "\u001b[1m6×3 DataFrame\u001b[0m\n",
       "\u001b[1m Row \u001b[0m│\u001b[1m person_id_name \u001b[0m\u001b[1m person_id_role \u001b[0m\u001b[1m office_prio \u001b[0m\n",
       "\u001b[1m     \u001b[0m│\u001b[90m Int64          \u001b[0m\u001b[90m Int64          \u001b[0m\u001b[90m Int64       \u001b[0m\n",
       "─────┼─────────────────────────────────────────────\n",
       "   1 │         123574          123574            1\n",
       "   2 │         123578          123578            1\n",
       "   3 │         123580          123580            1\n",
       "   4 │         123581          123581            1\n",
       "   5 │         123583          123583            1\n",
       "   6 │         123584          123584            1"
      ]
     },
     "execution_count": 334,
     "metadata": {},
     "output_type": "execute_result"
    }
   ],
   "source": [
    "df_cn_lp_db[1020:1025, :]"
   ]
  },
  {
   "cell_type": "code",
   "execution_count": 335,
   "metadata": {},
   "outputs": [
    {
     "data": {
      "text/plain": [
       "0"
      ]
     },
     "execution_count": 335,
     "metadata": {},
     "output_type": "execute_result"
    }
   ],
   "source": [
    "count(ismissing, df_cn_lp_db.person_id_name)"
   ]
  },
  {
   "cell_type": "code",
   "execution_count": 336,
   "metadata": {},
   "outputs": [
    {
     "name": "stderr",
     "output_type": "stream",
     "text": [
      "┌ Info: 10000\n",
      "└ @ WiagDataSetup C:\\Users\\georg\\Documents\\projekte\\WiagDataSetup.jl\\src\\WiagDataSetup.jl:1185\n",
      "┌ Info: Rows inserted: 11722\n",
      "└ @ WiagDataSetup C:\\Users\\georg\\Documents\\projekte\\WiagDataSetup.jl\\src\\WiagDataSetup.jl:1208\n"
     ]
    },
    {
     "data": {
      "text/plain": [
       "11722"
      ]
     },
     "execution_count": 336,
     "metadata": {},
     "output_type": "execute_result"
    }
   ],
   "source": [
    "table_name = \"canon_lookup\"\n",
    "Wds.filltable!(table_name, df_cn_lp_db)"
   ]
  },
  {
   "cell_type": "markdown",
   "metadata": {},
   "source": [
    "Version mit paralleler Struktur für `canon_lookup`  \n",
    "*2022-03-10* vermutlich obsolet"
   ]
  },
  {
   "cell_type": "markdown",
   "metadata": {},
   "source": [
    "`id` ist `dh` oder `gs`"
   ]
  },
  {
   "cell_type": "code",
   "execution_count": 91,
   "metadata": {},
   "outputs": [],
   "source": [
    "df_cn_lp_gs[!, :id] = copy(df_cn_lp_gs.dh);"
   ]
  },
  {
   "cell_type": "code",
   "execution_count": 92,
   "metadata": {},
   "outputs": [],
   "source": [
    "for row in eachrow(df_cn_lp_gs)\n",
    "    if ismissing(row[:id])\n",
    "        if !ismissing(row[:gs])\n",
    "            row[:id] = row[:gs]\n",
    "        else\n",
    "            @warn \"missing dh and gs\" row\n",
    "        end\n",
    "    end\n",
    "end          "
   ]
  },
  {
   "cell_type": "markdown",
   "metadata": {},
   "source": [
    "`person_id` ist `ep` oder `dh` oder `gs`"
   ]
  },
  {
   "cell_type": "code",
   "execution_count": 93,
   "metadata": {},
   "outputs": [],
   "source": [
    "df_cn_lp_gs[!, :person_id] = copy(df_cn_lp_gs.ep);"
   ]
  },
  {
   "cell_type": "code",
   "execution_count": 94,
   "metadata": {},
   "outputs": [],
   "source": [
    "for row in eachrow(df_cn_lp_gs)\n",
    "    if ismissing(row[:person_id])\n",
    "        if !ismissing(row[:dh])\n",
    "            row[:person_id] = row[:dh]\n",
    "        elseif !ismissing(row[:gs])\n",
    "            row[:person_id] = row[:gs]\n",
    "        else\n",
    "            @warn \"missing ep and dh and gs\" row\n",
    "        end\n",
    "    end\n",
    "end          "
   ]
  },
  {
   "cell_type": "markdown",
   "metadata": {},
   "source": [
    "Führe die Verweise auf Bischöfe zusammen"
   ]
  },
  {
   "cell_type": "code",
   "execution_count": 95,
   "metadata": {},
   "outputs": [
    {
     "data": {
      "text/plain": [
       "9-element Vector{String}:\n",
       " \"dh\"\n",
       " \"dh_gsn\"\n",
       " \"dh_episc_id\"\n",
       " \"ep1\"\n",
       " \"gs\"\n",
       " \"ep2\"\n",
       " \"ep\"\n",
       " \"id\"\n",
       " \"person_id\""
      ]
     },
     "execution_count": 95,
     "metadata": {},
     "output_type": "execute_result"
    }
   ],
   "source": [
    "names(df_cn_lp_gs)"
   ]
  },
  {
   "cell_type": "code",
   "execution_count": 96,
   "metadata": {},
   "outputs": [],
   "source": [
    "df_cn_lp_gs[!, :ep] = copy(df_cn_lp_gs.ep1);"
   ]
  },
  {
   "cell_type": "code",
   "execution_count": 97,
   "metadata": {},
   "outputs": [],
   "source": [
    "for row in eachrow(df_cn_lp_gs)\n",
    "    if !ismissing(row[:ep2])\n",
    "        if !ismissing(row[:ep])\n",
    "            if row[:ep] != row[:ep2]\n",
    "                println(row)\n",
    "            end\n",
    "        else\n",
    "            row[:ep] = row[:ep2]\n",
    "        end\n",
    "    end\n",
    "end               "
   ]
  },
  {
   "cell_type": "markdown",
   "metadata": {},
   "source": [
    "Keine Ausgabe -> Alle Verweise auf Bischöfe stimmen überein"
   ]
  },
  {
   "cell_type": "code",
   "execution_count": 98,
   "metadata": {},
   "outputs": [
    {
     "data": {
      "text/plain": [
       "(683, 591, 683)"
      ]
     },
     "execution_count": 98,
     "metadata": {},
     "output_type": "execute_result"
    }
   ],
   "source": [
    "count(!ismissing, df_cn_lp_gs.ep1), count(!ismissing, df_cn_lp_gs.ep2), count(!ismissing, df_cn_lp_gs.ep)"
   ]
  },
  {
   "cell_type": "markdown",
   "metadata": {},
   "source": [
    "In der Domherrendatenbank wurden alle Verweise recherchiert."
   ]
  },
  {
   "cell_type": "code",
   "execution_count": 99,
   "metadata": {},
   "outputs": [
    {
     "data": {
      "text/plain": [
       "5-element Vector{Pair{Symbol, Symbol}}:\n",
       "        :id => :id\n",
       " :person_id => :person_id\n",
       "        :dh => :canon\n",
       "        :gs => :canon_gs\n",
       "        :ep => :bishop"
      ]
     },
     "execution_count": 99,
     "metadata": {},
     "output_type": "execute_result"
    }
   ],
   "source": [
    "columns = [\n",
    "    :id => :id,\n",
    "    :person_id => :person_id,\n",
    "    :dh => :canon,\n",
    "    :gs => :canon_gs,\n",
    "    :ep => :bishop\n",
    "]"
   ]
  },
  {
   "cell_type": "code",
   "execution_count": 100,
   "metadata": {},
   "outputs": [
    {
     "name": "stderr",
     "output_type": "stream",
     "text": [
      "┌ Info: 10000\n",
      "└ @ WiagDataSetup C:\\Users\\georg\\Documents\\projekte\\WiagDataSetup.jl\\src\\WiagDataSetup.jl:1185\n",
      "┌ Info: Rows inserted: 10669\n",
      "└ @ WiagDataSetup C:\\Users\\georg\\Documents\\projekte\\WiagDataSetup.jl\\src\\WiagDataSetup.jl:1208\n"
     ]
    },
    {
     "data": {
      "text/plain": [
       "10669"
      ]
     },
     "execution_count": 100,
     "metadata": {},
     "output_type": "execute_result"
    }
   ],
   "source": [
    "table_name = \"canon_lookup\"\n",
    "Wds.filltable!(table_name, select(df_cn_lp_gs, columns))"
   ]
  },
  {
   "cell_type": "markdown",
   "metadata": {},
   "source": [
    "### Nachtrag person.note_name"
   ]
  },
  {
   "cell_type": "code",
   "execution_count": 19,
   "metadata": {},
   "outputs": [],
   "source": [
    "using DataFrames"
   ]
  },
  {
   "cell_type": "code",
   "execution_count": 52,
   "metadata": {},
   "outputs": [],
   "source": [
    "table_name = gs_db * \".\" * \"persons\";\n",
    "sql = \"SELECT id, vorname, familienname, namenszusatz\n",
    "FROM $(table_name)\n",
    "WHERE namenszusatz IS NOT NULL and namenszusatz <> ''\";"
   ]
  },
  {
   "cell_type": "code",
   "execution_count": 17,
   "metadata": {},
   "outputs": [
    {
     "data": {
      "text/plain": [
       "\"SELECT id, vorname, familienname, namenszusatz FROM gso_in_202202.persons WHERE namenszusatz IS NOT NULL and namenszusatz <> ''\""
      ]
     },
     "execution_count": 17,
     "metadata": {},
     "output_type": "execute_result"
    }
   ],
   "source": [
    "sql_db = join(split(sql, \"\\n\"), ' ')"
   ]
  },
  {
   "cell_type": "code",
   "execution_count": 53,
   "metadata": {},
   "outputs": [],
   "source": [
    "df_p_note_gs = Wds.sql_df(sql);"
   ]
  },
  {
   "cell_type": "code",
   "execution_count": 41,
   "metadata": {},
   "outputs": [],
   "source": [
    "Wds.clean_up!(df_p_note_gs);"
   ]
  },
  {
   "cell_type": "code",
   "execution_count": 54,
   "metadata": {},
   "outputs": [],
   "source": [
    "transform!(df_p_note_gs, :id => ByRow(string) => :id_in_source);"
   ]
  },
  {
   "cell_type": "code",
   "execution_count": 55,
   "metadata": {},
   "outputs": [],
   "source": [
    "table_name = \"item\";\n",
    "sql = \"SELECT id as item_id, id_in_source, item_type_id, id_public\n",
    "FROM $(table_name)\n",
    "WHERE item_type_id = $(item_type_id)\";\n",
    "df_item = Wds.sql_df(sql);"
   ]
  },
  {
   "cell_type": "code",
   "execution_count": 44,
   "metadata": {},
   "outputs": [
    {
     "data": {
      "text/plain": [
       "8523"
      ]
     },
     "execution_count": 44,
     "metadata": {},
     "output_type": "execute_result"
    }
   ],
   "source": [
    "size(df_item, 1)"
   ]
  },
  {
   "cell_type": "code",
   "execution_count": 56,
   "metadata": {},
   "outputs": [],
   "source": [
    "df_p_note = innerjoin(df_p_note_gs, df_item, on = :id_in_source);"
   ]
  },
  {
   "cell_type": "code",
   "execution_count": 57,
   "metadata": {},
   "outputs": [
    {
     "data": {
      "text/plain": [
       "720"
      ]
     },
     "execution_count": 57,
     "metadata": {},
     "output_type": "execute_result"
    }
   ],
   "source": [
    "size(df_p_note, 1)"
   ]
  },
  {
   "cell_type": "markdown",
   "metadata": {},
   "source": [
    "Nur ein Teil der Personen aus GS sind Domherren."
   ]
  },
  {
   "cell_type": "code",
   "execution_count": 36,
   "metadata": {
    "scrolled": true
   },
   "outputs": [
    {
     "data": {
      "text/html": [
       "<div class=\"data-frame\"><p>6 rows × 6 columns</p><table class=\"data-frame\"><thead><tr><th></th><th>id</th><th>id_in_source</th><th>item_id</th><th>id_public</th><th>vorname</th><th>familienname</th></tr><tr><th></th><th title=\"Int32\">Int32</th><th title=\"String\">String</th><th title=\"Int32\">Int32</th><th title=\"Union{Missing, String}\">String?</th><th title=\"String\">String</th><th title=\"String\">String</th></tr></thead><tbody><tr><th>1</th><td>108038</td><td>108038</td><td>156529</td><td>WIAG-Pers-CANON-82881-001</td><td>Johannes</td><td>Hertoge</td></tr><tr><th>2</th><td>108039</td><td>108039</td><td>156528</td><td>WIAG-Pers-CANON-82882-001</td><td>Johannes</td><td>Hinxt</td></tr><tr><th>3</th><td>108040</td><td>108040</td><td>156527</td><td>WIAG-Pers-CANON-82883-001</td><td>Johannes</td><td>Hobinck</td></tr><tr><th>4</th><td>108042</td><td>108042</td><td>156526</td><td>WIAG-Pers-CANON-82884-001</td><td>Johannes</td><td>Hodelen</td></tr><tr><th>5</th><td>108054</td><td>108054</td><td>156521</td><td>WIAG-Pers-CANON-82889-001</td><td>Johannes</td><td>Jacobi</td></tr><tr><th>6</th><td>108059</td><td>108059</td><td>156519</td><td>WIAG-Pers-CANON-82891-001</td><td>Johannes</td><td>Lepper</td></tr></tbody></table></div>"
      ],
      "text/latex": [
       "\\begin{tabular}{r|cccccc}\n",
       "\t& id & id\\_in\\_source & item\\_id & id\\_public & vorname & familienname\\\\\n",
       "\t\\hline\n",
       "\t& Int32 & String & Int32 & String? & String & String\\\\\n",
       "\t\\hline\n",
       "\t1 & 108038 & 108038 & 156529 & WIAG-Pers-CANON-82881-001 & Johannes & Hertoge \\\\\n",
       "\t2 & 108039 & 108039 & 156528 & WIAG-Pers-CANON-82882-001 & Johannes & Hinxt \\\\\n",
       "\t3 & 108040 & 108040 & 156527 & WIAG-Pers-CANON-82883-001 & Johannes & Hobinck \\\\\n",
       "\t4 & 108042 & 108042 & 156526 & WIAG-Pers-CANON-82884-001 & Johannes & Hodelen \\\\\n",
       "\t5 & 108054 & 108054 & 156521 & WIAG-Pers-CANON-82889-001 & Johannes & Jacobi \\\\\n",
       "\t6 & 108059 & 108059 & 156519 & WIAG-Pers-CANON-82891-001 & Johannes & Lepper \\\\\n",
       "\\end{tabular}\n"
      ],
      "text/plain": [
       "\u001b[1m6×6 DataFrame\u001b[0m\n",
       "\u001b[1m Row \u001b[0m│\u001b[1m id     \u001b[0m\u001b[1m id_in_source \u001b[0m\u001b[1m item_id \u001b[0m\u001b[1m id_public                 \u001b[0m\u001b[1m vorname  \u001b[0m\u001b[1m fam\u001b[0m ⋯\n",
       "\u001b[1m     \u001b[0m│\u001b[90m Int32  \u001b[0m\u001b[90m String       \u001b[0m\u001b[90m Int32   \u001b[0m\u001b[90m String?                   \u001b[0m\u001b[90m String   \u001b[0m\u001b[90m Str\u001b[0m ⋯\n",
       "─────┼──────────────────────────────────────────────────────────────────────────\n",
       "   1 │ 108038  108038         156529  WIAG-Pers-CANON-82881-001  Johannes  Her ⋯\n",
       "   2 │ 108039  108039         156528  WIAG-Pers-CANON-82882-001  Johannes  Hin\n",
       "   3 │ 108040  108040         156527  WIAG-Pers-CANON-82883-001  Johannes  Hob\n",
       "   4 │ 108042  108042         156526  WIAG-Pers-CANON-82884-001  Johannes  Hod\n",
       "   5 │ 108054  108054         156521  WIAG-Pers-CANON-82889-001  Johannes  Jac ⋯\n",
       "   6 │ 108059  108059         156519  WIAG-Pers-CANON-82891-001  Johannes  Lep\n",
       "\u001b[36m                                                                1 column omitted\u001b[0m"
      ]
     },
     "execution_count": 36,
     "metadata": {},
     "output_type": "execute_result"
    }
   ],
   "source": [
    "df_p_note[200:205, [:id, :id_in_source, :item_id, :id_public, :vorname, :familienname]]"
   ]
  },
  {
   "cell_type": "code",
   "execution_count": 47,
   "metadata": {},
   "outputs": [
    {
     "data": {
      "text/html": [
       "<div class=\"data-frame\"><p>6 rows × 6 columns (omitted printing of 2 columns)</p><table class=\"data-frame\"><thead><tr><th></th><th>id</th><th>id_in_source</th><th>item_id</th><th>namenszusatz</th></tr><tr><th></th><th title=\"Int32\">Int32</th><th title=\"String\">String</th><th title=\"Int32\">Int32</th><th title=\"String\">String</th></tr></thead><tbody><tr><th>1</th><td>108038</td><td>108038</td><td>156529</td><td>von Kamen</td></tr><tr><th>2</th><td>108039</td><td>108039</td><td>156528</td><td>von Hamm</td></tr><tr><th>3</th><td>108040</td><td>108040</td><td>156527</td><td>genannt Lockeleve (Lakeleve) von Coesfeld (de Cosfeldia), der Ältere</td></tr><tr><th>4</th><td>108042</td><td>108042</td><td>156526</td><td>von Dülmen</td></tr><tr><th>5</th><td>108054</td><td>108054</td><td>156521</td><td>von Borken</td></tr><tr><th>6</th><td>108059</td><td>108059</td><td>156519</td><td>von Ahlen, der Ältere</td></tr></tbody></table></div>"
      ],
      "text/latex": [
       "\\begin{tabular}{r|ccccc}\n",
       "\t& id & id\\_in\\_source & item\\_id & namenszusatz & \\\\\n",
       "\t\\hline\n",
       "\t& Int32 & String & Int32 & String & \\\\\n",
       "\t\\hline\n",
       "\t1 & 108038 & 108038 & 156529 & von Kamen & $\\dots$ \\\\\n",
       "\t2 & 108039 & 108039 & 156528 & von Hamm & $\\dots$ \\\\\n",
       "\t3 & 108040 & 108040 & 156527 & genannt Lockeleve (Lakeleve) von Coesfeld (de Cosfeldia), der Ältere & $\\dots$ \\\\\n",
       "\t4 & 108042 & 108042 & 156526 & von Dülmen & $\\dots$ \\\\\n",
       "\t5 & 108054 & 108054 & 156521 & von Borken & $\\dots$ \\\\\n",
       "\t6 & 108059 & 108059 & 156519 & von Ahlen, der Ältere & $\\dots$ \\\\\n",
       "\\end{tabular}\n"
      ],
      "text/plain": [
       "\u001b[1m6×6 DataFrame\u001b[0m\n",
       "\u001b[1m Row \u001b[0m│\u001b[1m id     \u001b[0m\u001b[1m id_in_source \u001b[0m\u001b[1m item_id \u001b[0m\u001b[1m namenszusatz                      \u001b[0m\n",
       "\u001b[1m     \u001b[0m│\u001b[90m Int32  \u001b[0m\u001b[90m String       \u001b[0m\u001b[90m Int32   \u001b[0m\u001b[90m String                            \u001b[0m\n",
       "─────┼────────────────────────────────────────────────────────────────────────\n",
       "   1 │ 108038  108038         156529  von Kamen\n",
       "   2 │ 108039  108039         156528  von Hamm\n",
       "   3 │ 108040  108040         156527  genannt Lockeleve (Lakeleve) von…\n",
       "   4 │ 108042  108042         156526  von Dülmen\n",
       "   5 │ 108054  108054         156521  von Borken\n",
       "   6 │ 108059  108059         156519  von Ahlen, der Ältere\n",
       "\u001b[36m                                                             2 columns omitted\u001b[0m"
      ]
     },
     "execution_count": 47,
     "metadata": {},
     "output_type": "execute_result"
    }
   ],
   "source": [
    "df_p_note[200:205, [:id, :id_in_source, :item_id, :namenszusatz, :vorname, :familienname]]"
   ]
  },
  {
   "cell_type": "code",
   "execution_count": 38,
   "metadata": {},
   "outputs": [
    {
     "data": {
      "text/plain": [
       "8-element Vector{String}:\n",
       " \"id\"\n",
       " \"vorname\"\n",
       " \"familienname\"\n",
       " \"namenszusatz\"\n",
       " \"id_in_source\"\n",
       " \"item_id\"\n",
       " \"item_type_id\"\n",
       " \"id_public\""
      ]
     },
     "execution_count": 38,
     "metadata": {},
     "output_type": "execute_result"
    }
   ],
   "source": [
    "names(df_p_note)"
   ]
  },
  {
   "cell_type": "code",
   "execution_count": 60,
   "metadata": {},
   "outputs": [
    {
     "data": {
      "text/plain": [
       "sql_update (generic function with 1 method)"
      ]
     },
     "execution_count": 60,
     "metadata": {},
     "output_type": "execute_result"
    }
   ],
   "source": [
    "table_name = \"person\";\n",
    "function sql_update(note_name, person_id) \n",
    "    sql = \"UPDATE $(table_name) AS p \" *\n",
    "    \"SET p.note_name = '$(note_name)' \" *\n",
    "    \"WHERE p.id = $(person_id)\"\n",
    "    return sql\n",
    "end"
   ]
  },
  {
   "cell_type": "code",
   "execution_count": 61,
   "metadata": {},
   "outputs": [
    {
     "name": "stderr",
     "output_type": "stream",
     "text": [
      "┌ Info: 200\n",
      "└ @ Main In[61]:8\n",
      "┌ Info: 400\n",
      "└ @ Main In[61]:8\n",
      "┌ Info: 600\n",
      "└ @ Main In[61]:8\n"
     ]
    }
   ],
   "source": [
    "count_loop = 0;\n",
    "count_msg = 200;\n",
    "for row in eachrow(df_p_note)\n",
    "    sql = sql_update(row[:namenszusatz], row[:item_id])\n",
    "    DBInterface.execute(Wds.dbwiag, sql)\n",
    "    count_loop += 1;\n",
    "    if count_loop % count_msg == 0\n",
    "        @info count_loop\n",
    "    end\n",
    "end"
   ]
  },
  {
   "cell_type": "code",
   "execution_count": null,
   "metadata": {},
   "outputs": [],
   "source": []
  },
  {
   "cell_type": "code",
   "execution_count": null,
   "metadata": {},
   "outputs": [],
   "source": []
  },
  {
   "cell_type": "code",
   "execution_count": null,
   "metadata": {},
   "outputs": [],
   "source": []
  },
  {
   "cell_type": "code",
   "execution_count": null,
   "metadata": {},
   "outputs": [],
   "source": []
  },
  {
   "cell_type": "code",
   "execution_count": null,
   "metadata": {},
   "outputs": [],
   "source": []
  },
  {
   "cell_type": "code",
   "execution_count": null,
   "metadata": {},
   "outputs": [],
   "source": []
  }
 ],
 "metadata": {
  "kernelspec": {
   "display_name": "Julia 1.7.0",
   "language": "julia",
   "name": "julia-1.7"
  },
  "language_info": {
   "file_extension": ".jl",
   "mimetype": "application/julia",
   "name": "julia",
   "version": "1.7.0"
  }
 },
 "nbformat": 4,
 "nbformat_minor": 4
}
