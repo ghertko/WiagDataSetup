{
 "cells": [
  {
   "cell_type": "markdown",
   "metadata": {},
   "source": [
    "# Wissensaggregator Mittelalter und frühe Neuzeit\n",
    "WIAGweb2\n",
    "\n",
    "## Daten für Domherren aus dem Digitalen Personenregister einlesen\n",
    "\n",
    "Übertrage Daten aus der GS-online. Die Daten werden aus der produktiven Datenbank auf eine lokale Datenbank eingelesen: `gso`\n",
    "\n",
    "[Literatur](#Literatur)  \n",
    "[Domherren](#Domherren)\n",
    "- [Einträge in `item`](#Einträge-in-item)\n",
    "- [Daten eintragen](#Daten-eintragen)\n",
    "- [Orden eintragen](#Orden-eintragen)\n",
    "- [Literaturverweise eintragen](#Literaturverweise-eintragen)\n",
    "- [Externe URLs eintragen](#Externe-URLs-eintragen)\n",
    "- [Namensvarianten eintragen](#Namensvarianten-eintragen)\n",
    "- [Suchvarianten eintragen (`name_lookup`)](#Suchvarianten-eintragen-(name_lookup))\n",
    "- [Bezug zu den anderen Quellen (`canon_lookup`)](#Bezug-zu-den-anderen-Quellen)\n",
    "\n",
    "[Nachtrag](#Nachtrag-person.note_name)"
   ]
  },
  {
   "cell_type": "markdown",
   "metadata": {},
   "source": [
    "Quelle: https://mysql.gwdg.de  \n",
    "*2022-04-27* Datenbank `gso_in_202204`  \n",
    "*2022-05-12* Datenbank `gso_in_202205`  \n",
    "*2022-06-02* Bischöfe und Domherren verweisen auf die jeweils aktuelle GSN"
   ]
  },
  {
   "cell_type": "markdown",
   "metadata": {},
   "source": [
    "Vorspann: Pakete laden; mit der Datenbank verbinden"
   ]
  },
  {
   "cell_type": "code",
   "execution_count": 1,
   "metadata": {},
   "outputs": [
    {
     "data": {
      "text/plain": [
       "\"gso_in_202205\""
      ]
     },
     "execution_count": 1,
     "metadata": {},
     "output_type": "execute_result"
    }
   ],
   "source": [
    "gs_db = \"gso_in_202205\""
   ]
  },
  {
   "cell_type": "code",
   "execution_count": 2,
   "metadata": {},
   "outputs": [
    {
     "data": {
      "text/plain": [
       "\"../..\""
      ]
     },
     "execution_count": 2,
     "metadata": {},
     "output_type": "execute_result"
    }
   ],
   "source": [
    "wds_path=\"../..\""
   ]
  },
  {
   "cell_type": "code",
   "execution_count": 3,
   "metadata": {},
   "outputs": [],
   "source": [
    "cd(wds_path)"
   ]
  },
  {
   "cell_type": "code",
   "execution_count": 4,
   "metadata": {},
   "outputs": [],
   "source": [
    "using Pkg"
   ]
  },
  {
   "cell_type": "code",
   "execution_count": 5,
   "metadata": {},
   "outputs": [
    {
     "name": "stderr",
     "output_type": "stream",
     "text": [
      "\u001b[32m\u001b[1m  Activating\u001b[22m\u001b[39m project at `C:\\Users\\georg\\Documents\\projekte\\WiagDataSetup.jl`\n"
     ]
    }
   ],
   "source": [
    "Pkg.activate(\".\")"
   ]
  },
  {
   "cell_type": "code",
   "execution_count": 6,
   "metadata": {},
   "outputs": [],
   "source": [
    "using Revise"
   ]
  },
  {
   "cell_type": "code",
   "execution_count": 7,
   "metadata": {},
   "outputs": [],
   "source": [
    "using WiagDataSetup"
   ]
  },
  {
   "cell_type": "code",
   "execution_count": 8,
   "metadata": {},
   "outputs": [],
   "source": [
    "using MySQL, DataFrames"
   ]
  },
  {
   "cell_type": "code",
   "execution_count": 9,
   "metadata": {},
   "outputs": [
    {
     "data": {
      "text/plain": [
       "WiagDataSetup"
      ]
     },
     "execution_count": 9,
     "metadata": {},
     "output_type": "execute_result"
    }
   ],
   "source": [
    "Wds = WiagDataSetup"
   ]
  },
  {
   "cell_type": "code",
   "execution_count": 10,
   "metadata": {},
   "outputs": [
    {
     "name": "stdout",
     "output_type": "stream",
     "text": [
      "Passwort für User georg: ········\n"
     ]
    },
    {
     "data": {
      "text/plain": [
       "MySQL.Connection(host=\"127.0.0.1\", user=\"georg\", port=\"3306\", db=\"wiag2\")"
      ]
     },
     "execution_count": 10,
     "metadata": {},
     "output_type": "execute_result"
    }
   ],
   "source": [
    "Wds.setDBWIAG(user=\"georg\", db=\"wiag2\")"
   ]
  },
  {
   "cell_type": "markdown",
   "metadata": {},
   "source": [
    "Item Type ID"
   ]
  },
  {
   "cell_type": "code",
   "execution_count": 11,
   "metadata": {},
   "outputs": [
    {
     "data": {
      "text/plain": [
       "6"
      ]
     },
     "execution_count": 11,
     "metadata": {},
     "output_type": "execute_result"
    }
   ],
   "source": [
    "item_type_id = 6"
   ]
  },
  {
   "cell_type": "code",
   "execution_count": 12,
   "metadata": {},
   "outputs": [
    {
     "data": {
      "text/plain": [
       "120"
      ]
     },
     "execution_count": 12,
     "metadata": {},
     "output_type": "execute_result"
    }
   ],
   "source": [
    "ENV[\"COLUMNS\"] = 120"
   ]
  },
  {
   "cell_type": "code",
   "execution_count": 13,
   "metadata": {},
   "outputs": [
    {
     "data": {
      "text/plain": [
       "\"C:\\\\Users\\\\georg\\\\Documents\\\\projekte-doc\\\\WIAGweb2\\\\data_sql\""
      ]
     },
     "execution_count": 13,
     "metadata": {},
     "output_type": "execute_result"
    }
   ],
   "source": [
    "out_path = \"C:\\\\Users\\\\georg\\\\Documents\\\\projekte-doc\\\\WIAGweb2\\\\data_sql\""
   ]
  },
  {
   "cell_type": "markdown",
   "metadata": {},
   "source": [
    "## Löschungen für umfassendes Update"
   ]
  },
  {
   "cell_type": "code",
   "execution_count": 14,
   "metadata": {},
   "outputs": [
    {
     "data": {
      "text/plain": [
       "MySQL.TextCursor{true}(MySQL.Connection(host=\"127.0.0.1\", user=\"georg\", port=\"3306\", db=\"wiag2\"), \"DELETE FROM name_lookup\\nWHERE person_id IN\\n(SELECT id FROM item WHERE item_type_id = 6)\", 0, -1, 16640, MySQL.API.MYSQL_RES(Ptr{Nothing} @0x0000000000000000), Symbol[], Type[], Dict{Symbol, Int64}(), 0, 1, false)"
      ]
     },
     "execution_count": 14,
     "metadata": {},
     "output_type": "execute_result"
    }
   ],
   "source": [
    "table_name = \"name_lookup\";\n",
    "sql = \"DELETE FROM $(table_name)\n",
    "WHERE person_id IN\n",
    "(SELECT id FROM item WHERE item_type_id = $(item_type_id))\";\n",
    "DBInterface.execute(Wds.dbwiag, sql)"
   ]
  },
  {
   "cell_type": "code",
   "execution_count": 15,
   "metadata": {},
   "outputs": [
    {
     "data": {
      "text/plain": [
       "MySQL.TextCursor{true}(MySQL.Connection(host=\"127.0.0.1\", user=\"georg\", port=\"3306\", db=\"wiag2\"), \"DELETE FROM familyname_variant\\nWHERE person_id IN\\n(SELECT id FROM item WHERE item_type_id = 6)\", 0, -1, 2850, MySQL.API.MYSQL_RES(Ptr{Nothing} @0x0000000000000000), Symbol[], Type[], Dict{Symbol, Int64}(), 0, 1, false)"
      ]
     },
     "execution_count": 15,
     "metadata": {},
     "output_type": "execute_result"
    }
   ],
   "source": [
    "table_name = \"familyname_variant\";\n",
    "sql = \"DELETE FROM $(table_name)\n",
    "WHERE person_id IN\n",
    "(SELECT id FROM item WHERE item_type_id = $(item_type_id))\";\n",
    "DBInterface.execute(Wds.dbwiag, sql)"
   ]
  },
  {
   "cell_type": "code",
   "execution_count": 16,
   "metadata": {},
   "outputs": [
    {
     "data": {
      "text/plain": [
       "MySQL.TextCursor{true}(MySQL.Connection(host=\"127.0.0.1\", user=\"georg\", port=\"3306\", db=\"wiag2\"), \"DELETE FROM givenname_variant\\nWHERE person_id IN\\n(SELECT id FROM item WHERE item_type_id = 6)\", 0, -1, 1572, MySQL.API.MYSQL_RES(Ptr{Nothing} @0x0000000000000000), Symbol[], Type[], Dict{Symbol, Int64}(), 0, 1, false)"
      ]
     },
     "execution_count": 16,
     "metadata": {},
     "output_type": "execute_result"
    }
   ],
   "source": [
    "table_name = \"givenname_variant\";\n",
    "sql = \"DELETE FROM $(table_name)\n",
    "WHERE person_id IN\n",
    "(SELECT id FROM item WHERE item_type_id = $(item_type_id))\";\n",
    "DBInterface.execute(Wds.dbwiag, sql)"
   ]
  },
  {
   "cell_type": "code",
   "execution_count": 17,
   "metadata": {},
   "outputs": [
    {
     "data": {
      "text/plain": [
       "MySQL.TextCursor{true}(MySQL.Connection(host=\"127.0.0.1\", user=\"georg\", port=\"3306\", db=\"wiag2\"), \"DELETE FROM id_external\\nWHERE item_id IN\\n(SELECT id FROM item WHERE item_type_id = 6)\", 0, -1, 10160, MySQL.API.MYSQL_RES(Ptr{Nothing} @0x0000000000000000), Symbol[], Type[], Dict{Symbol, Int64}(), 0, 1, false)"
      ]
     },
     "execution_count": 17,
     "metadata": {},
     "output_type": "execute_result"
    }
   ],
   "source": [
    "table_name = \"id_external\";\n",
    "sql = \"DELETE FROM $(table_name)\n",
    "WHERE item_id IN\n",
    "(SELECT id FROM item WHERE item_type_id = $(item_type_id))\";\n",
    "DBInterface.execute(Wds.dbwiag, sql)"
   ]
  },
  {
   "cell_type": "code",
   "execution_count": 18,
   "metadata": {},
   "outputs": [
    {
     "data": {
      "text/plain": [
       "MySQL.TextCursor{true}(MySQL.Connection(host=\"127.0.0.1\", user=\"georg\", port=\"3306\", db=\"wiag2\"), \"DELETE FROM person_role_property\\nWHERE person_role_id IN\\n(SELECT id FROM person_role\\nWHERE person_id in (SELECT id from item WHERE item_type_id = 6))\", 0, -1, 0, MySQL.API.MYSQL_RES(Ptr{Nothing} @0x0000000000000000), Symbol[], Type[], Dict{Symbol, Int64}(), 0, 1, false)"
      ]
     },
     "execution_count": 18,
     "metadata": {},
     "output_type": "execute_result"
    }
   ],
   "source": [
    "table_name = \"person_role_property\";\n",
    "sql = \"DELETE FROM $(table_name)\n",
    "WHERE person_role_id IN\n",
    "(SELECT id FROM person_role\n",
    "WHERE person_id in (SELECT id from item WHERE item_type_id = $(item_type_id)))\";\n",
    "DBInterface.execute(Wds.dbwiag, sql)"
   ]
  },
  {
   "cell_type": "code",
   "execution_count": 19,
   "metadata": {},
   "outputs": [
    {
     "data": {
      "text/plain": [
       "MySQL.TextCursor{true}(MySQL.Connection(host=\"127.0.0.1\", user=\"georg\", port=\"3306\", db=\"wiag2\"), \"DELETE FROM person_role\\nWHERE person_id IN\\n(SELECT id FROM item WHERE item_type_id = 6)\", 0, -1, 15755, MySQL.API.MYSQL_RES(Ptr{Nothing} @0x0000000000000000), Symbol[], Type[], Dict{Symbol, Int64}(), 0, 1, false)"
      ]
     },
     "execution_count": 19,
     "metadata": {},
     "output_type": "execute_result"
    }
   ],
   "source": [
    "table_name = \"person_role\";\n",
    "sql = \"DELETE FROM $(table_name)\n",
    "WHERE person_id IN\n",
    "(SELECT id FROM item WHERE item_type_id = $(item_type_id))\";\n",
    "DBInterface.execute(Wds.dbwiag, sql)"
   ]
  },
  {
   "cell_type": "code",
   "execution_count": 20,
   "metadata": {},
   "outputs": [
    {
     "data": {
      "text/plain": [
       "MySQL.TextCursor{true}(MySQL.Connection(host=\"127.0.0.1\", user=\"georg\", port=\"3306\", db=\"wiag2\"), \"DELETE FROM person\\nWHERE id IN\\n(SELECT id FROM item WHERE item_type_id = 6)\", 0, -1, 8957, MySQL.API.MYSQL_RES(Ptr{Nothing} @0x0000000000000000), Symbol[], Type[], Dict{Symbol, Int64}(), 0, 1, false)"
      ]
     },
     "execution_count": 20,
     "metadata": {},
     "output_type": "execute_result"
    }
   ],
   "source": [
    "table_name = \"person\";\n",
    "sql = \"DELETE FROM $(table_name)\n",
    "WHERE id IN\n",
    "(SELECT id FROM item WHERE item_type_id = $(item_type_id))\";\n",
    "DBInterface.execute(Wds.dbwiag, sql)"
   ]
  },
  {
   "cell_type": "code",
   "execution_count": 21,
   "metadata": {},
   "outputs": [
    {
     "data": {
      "text/plain": [
       "MySQL.TextCursor{true}(MySQL.Connection(host=\"127.0.0.1\", user=\"georg\", port=\"3306\", db=\"wiag2\"), \"DELETE FROM item_reference\\nWHERE item_id IN\\n(SELECT id FROM item WHERE item_type_id = 6)\", 0, -1, 7809, MySQL.API.MYSQL_RES(Ptr{Nothing} @0x0000000000000000), Symbol[], Type[], Dict{Symbol, Int64}(), 0, 1, false)"
      ]
     },
     "execution_count": 21,
     "metadata": {},
     "output_type": "execute_result"
    }
   ],
   "source": [
    "table_name = \"item_reference\";\n",
    "sql = \"DELETE FROM $(table_name)\n",
    "WHERE item_id IN\n",
    "(SELECT id FROM item WHERE item_type_id = $(item_type_id))\";\n",
    "DBInterface.execute(Wds.dbwiag, sql)"
   ]
  },
  {
   "cell_type": "markdown",
   "metadata": {},
   "source": [
    "**Vorsicht** Zunächst die IDs (`id_public`) für die Domherren GS sichern, Einträge in `item` evtl. erst später löschen"
   ]
  },
  {
   "cell_type": "code",
   "execution_count": 100,
   "metadata": {},
   "outputs": [
    {
     "data": {
      "text/plain": [
       "MySQL.TextCursor{true}(MySQL.Connection(host=\"127.0.0.1\", user=\"georg\", port=\"3306\", db=\"wiag2\"), \"DELETE FROM item\\nWHERE item_type_id = 6\", 0, -1, 8523, MySQL.API.MYSQL_RES(Ptr{Nothing} @0x0000000000000000), Symbol[], Type[], Dict{Symbol, Int64}(), 0, 1, false)"
      ]
     },
     "execution_count": 100,
     "metadata": {},
     "output_type": "execute_result"
    }
   ],
   "source": [
    "table_name = \"item\";\n",
    "sql = \"DELETE FROM $(table_name)\n",
    "WHERE item_type_id = $(item_type_id)\";\n",
    "DBInterface.execute(Wds.dbwiag, sql)"
   ]
  },
  {
   "cell_type": "markdown",
   "metadata": {},
   "source": [
    "## Vorspann `gsn_gsn`\n",
    "\n",
    "``` sql\n",
    "CREATE TEMPORARY TABLE gsn_new AS\n",
    "SELECT id, item_id, nummer\n",
    "FROM gso_in_202205.gsn\n",
    "WHERE id IN\n",
    "(SELECT min(id) as id from gso_in_202205.gsn where not deleted group by item_id);\n",
    "\n",
    "CREATE TABLE gsn_gsn AS\n",
    "SELECT o.id, o.item_id, o.nummer, n.id as id_new, n.nummer as nummer_new\n",
    "FROM gsn AS o\n",
    "INNER JOIN gsn_new AS n ON o.item_id = n.item_id\n",
    "WHERE NOT o.deleted;\n",
    "```"
   ]
  },
  {
   "cell_type": "markdown",
   "metadata": {},
   "source": [
    "## Literatur"
   ]
  },
  {
   "cell_type": "code",
   "execution_count": 22,
   "metadata": {},
   "outputs": [],
   "source": [
    "table_name = gs_db * \".books\"\n",
    "sql = \"SELECT id, titel AS title, autoren AS author, nummer AS number_vol, \" *\n",
    "\"uri AS online_resource, kurztitel AS shorttitle \" *\n",
    "\"FROM $(table_name)\";\n",
    "df_vol = Wds.sql_df(sql);"
   ]
  },
  {
   "cell_type": "code",
   "execution_count": 23,
   "metadata": {},
   "outputs": [
    {
     "data": {
      "text/plain": [
       "6-element Vector{String}:\n",
       " \"id\"\n",
       " \"title\"\n",
       " \"author\"\n",
       " \"number_vol\"\n",
       " \"online_resource\"\n",
       " \"shorttitle\""
      ]
     },
     "execution_count": 23,
     "metadata": {},
     "output_type": "execute_result"
    }
   ],
   "source": [
    "names(df_vol)"
   ]
  },
  {
   "cell_type": "code",
   "execution_count": 24,
   "metadata": {},
   "outputs": [
    {
     "data": {
      "text/plain": [
       "6-element Vector{Pair{Symbol, Symbol}}:\n",
       "              :id => :reference_id\n",
       "           :title => :full_citation\n",
       "          :author => :author_editor\n",
       " :online_resource => :online_resource\n",
       "      :shorttitle => :title_short\n",
       "      :number_vol => :gs_volume_nr"
      ]
     },
     "execution_count": 24,
     "metadata": {},
     "output_type": "execute_result"
    }
   ],
   "source": [
    "columns = [\n",
    "    :id => :reference_id,\n",
    "    :title => :full_citation,\n",
    "    :author => :author_editor,\n",
    "    :online_resource => :online_resource,\n",
    "    :shorttitle => :title_short,\n",
    "    :number_vol => :gs_volume_nr,\n",
    "]"
   ]
  },
  {
   "cell_type": "code",
   "execution_count": 25,
   "metadata": {},
   "outputs": [],
   "source": [
    "df_vol_db = select(df_vol, columns);"
   ]
  },
  {
   "cell_type": "code",
   "execution_count": 26,
   "metadata": {},
   "outputs": [],
   "source": [
    "df_vol_db[!, :item_type_id] .= item_type_id;"
   ]
  },
  {
   "cell_type": "markdown",
   "metadata": {},
   "source": [
    "Bestehende Einträge löschen"
   ]
  },
  {
   "cell_type": "code",
   "execution_count": 27,
   "metadata": {},
   "outputs": [
    {
     "data": {
      "text/plain": [
       "MySQL.TextCursor{true}(MySQL.Connection(host=\"127.0.0.1\", user=\"georg\", port=\"3306\", db=\"wiag2\"), \"DELETE FROM reference_volume WHERE item_type_id = 6\", 0, -1, 87, MySQL.API.MYSQL_RES(Ptr{Nothing} @0x0000000000000000), Symbol[], Type[], Dict{Symbol, Int64}(), 0, 1, false)"
      ]
     },
     "execution_count": 27,
     "metadata": {},
     "output_type": "execute_result"
    }
   ],
   "source": [
    "table_name = \"reference_volume\"\n",
    "sql = \"DELETE FROM $(table_name) WHERE item_type_id = $(item_type_id)\";\n",
    "DBInterface.execute(Wds.dbwiag, sql)"
   ]
  },
  {
   "cell_type": "markdown",
   "metadata": {},
   "source": [
    "Daten eintragen"
   ]
  },
  {
   "cell_type": "code",
   "execution_count": 28,
   "metadata": {},
   "outputs": [
    {
     "name": "stderr",
     "output_type": "stream",
     "text": [
      "┌ Info: Rows inserted: 87\n",
      "└ @ WiagDataSetup C:\\Users\\Georg\\Documents\\projekte\\WiagDataSetup.jl\\src\\WiagDataSetup.jl:1209\n"
     ]
    },
    {
     "data": {
      "text/plain": [
       "87"
      ]
     },
     "execution_count": 28,
     "metadata": {},
     "output_type": "execute_result"
    }
   ],
   "source": [
    "table_name = \"reference_volume\"\n",
    "Wds.filltable!(table_name, df_vol_db, clear_table = false)"
   ]
  },
  {
   "cell_type": "markdown",
   "metadata": {},
   "source": [
    "## Domherren"
   ]
  },
  {
   "cell_type": "markdown",
   "metadata": {},
   "source": [
    "Betrachte nur Personen, deren Eintrag nicht gelöscht ist und die online sind. Die maßgebliche GSN steht in dem Datensatz mit dem kleinsten Wert der id.\n",
    "Ergebnisse *2022-02-25*\n",
    "``` sql\n",
    "use gso_in_202202;\n",
    "select gsn.nummer, item_id, gsn.deleted, items.deleted, items.status\n",
    "from gsn join items on gsn.item_id = items.id \n",
    "where items.status = 'online' and not items.deleted limit 12 offset 4000;\n",
    "select count(*) from gsn join items on gsn.item_id = items.id where items.status = 'online' and not items.deleted;\n",
    "```\n",
    "98544\n",
    "``` sql\n",
    "select count(distinct(gsn.nummer)) \n",
    "from gsn join items on gsn.item_id = items.id \n",
    "where items.status = 'online' and not items.deleted;\n",
    "```\n",
    "98543\n",
    "``` sql\n",
    "create temporary table item_online as\n",
    "select min(gsn.id) as gsn_tbl_id, gsn.nummer, item_id, items.deleted, items.status\n",
    "from gsn join items on gsn.item_id = items.id where items.status = 'online'\n",
    "group by items.id;\n",
    "select count(*) from item_online;\n",
    "```\n",
    "87270"
   ]
  },
  {
   "cell_type": "markdown",
   "metadata": {},
   "source": [
    "Finde Einträge, die von der Domherrendatenbank referenziert werden (sofern die verweisenden Domherren online sind!)"
   ]
  },
  {
   "cell_type": "code",
   "execution_count": 22,
   "metadata": {},
   "outputs": [],
   "source": [
    "table_name = \"item\";\n",
    "sql = \"SELECT item.id as dh_item_id, e.value AS gsn\n",
    "FROM wiag2.item \n",
    "JOIN wiag2.id_external AS e ON item.id = e.item_id\n",
    "WHERE item_type_id = 5\n",
    "AND authority_id = 200\n",
    "AND item.is_online\";\n",
    "dh_gsn = Wds.sql_df(sql);"
   ]
  },
  {
   "cell_type": "code",
   "execution_count": 23,
   "metadata": {},
   "outputs": [
    {
     "data": {
      "text/plain": [
       "2-element Vector{String}:\n",
       " \"dh_item_id\"\n",
       " \"gsn\""
      ]
     },
     "execution_count": 23,
     "metadata": {},
     "output_type": "execute_result"
    }
   ],
   "source": [
    "names(dh_gsn)"
   ]
  },
  {
   "cell_type": "code",
   "execution_count": 24,
   "metadata": {},
   "outputs": [
    {
     "data": {
      "text/plain": [
       "607"
      ]
     },
     "execution_count": 24,
     "metadata": {},
     "output_type": "execute_result"
    }
   ],
   "source": [
    "size(dh_gsn, 1)"
   ]
  },
  {
   "cell_type": "code",
   "execution_count": 25,
   "metadata": {},
   "outputs": [
    {
     "data": {
      "text/plain": [
       "607"
      ]
     },
     "execution_count": 25,
     "metadata": {},
     "output_type": "execute_result"
    }
   ],
   "source": [
    "length(unique(dh_gsn.gsn))"
   ]
  },
  {
   "cell_type": "markdown",
   "metadata": {},
   "source": [
    "*2022-04-27* Zwei Domherren, die beide online sind, verweisen auf den gleichen Eintrag in der Personendatenbank. Die Redaktion weiß bescheid. Fahre nur mit einem der Einträge fort.  \n",
    "*2022-05-12* die Werte stimmen überein: 606"
   ]
  },
  {
   "cell_type": "code",
   "execution_count": 29,
   "metadata": {},
   "outputs": [],
   "source": [
    "dh_gsn_g = groupby(dh_gsn, :gsn);"
   ]
  },
  {
   "cell_type": "code",
   "execution_count": 30,
   "metadata": {},
   "outputs": [],
   "source": [
    "dh_gsn_gn = combine(dh_gsn_g, nrow);"
   ]
  },
  {
   "cell_type": "code",
   "execution_count": 31,
   "metadata": {},
   "outputs": [
    {
     "data": {
      "text/html": [
       "<div class=\"data-frame\"><p>0 rows × 2 columns</p><table class=\"data-frame\"><thead><tr><th></th><th>gsn</th><th>nrow</th></tr><tr><th></th><th title=\"Union{Missing, String}\">String?</th><th title=\"Int64\">Int64</th></tr></thead><tbody></tbody></table></div>"
      ],
      "text/latex": [
       "\\begin{tabular}{r|cc}\n",
       "\t& gsn & nrow\\\\\n",
       "\t\\hline\n",
       "\t& String? & Int64\\\\\n",
       "\t\\hline\n",
       "\\end{tabular}\n"
      ],
      "text/plain": [
       "\u001b[1m0×2 DataFrame\u001b[0m"
      ]
     },
     "execution_count": 31,
     "metadata": {},
     "output_type": "execute_result"
    }
   ],
   "source": [
    "subset(dh_gsn_gn, :nrow => ByRow(x -> x > 1))"
   ]
  },
  {
   "cell_type": "code",
   "execution_count": 32,
   "metadata": {},
   "outputs": [],
   "source": [
    "dh_gsn_f = combine(dh_gsn_g, first);"
   ]
  },
  {
   "cell_type": "code",
   "execution_count": 33,
   "metadata": {},
   "outputs": [
    {
     "data": {
      "text/html": [
       "<div class=\"data-frame\"><p>5 rows × 2 columns</p><table class=\"data-frame\"><thead><tr><th></th><th>gsn</th><th>dh_item_id</th></tr><tr><th></th><th title=\"Union{Missing, String}\">String?</th><th title=\"Int32\">Int32</th></tr></thead><tbody><tr><th>1</th><td>065-02897-001</td><td>272807</td></tr><tr><th>2</th><td>012-00162-001</td><td>272774</td></tr><tr><th>3</th><td>060-02172-001</td><td>273314</td></tr><tr><th>4</th><td>005-01512-001</td><td>273279</td></tr><tr><th>5</th><td>060-03051-001</td><td>273288</td></tr></tbody></table></div>"
      ],
      "text/latex": [
       "\\begin{tabular}{r|cc}\n",
       "\t& gsn & dh\\_item\\_id\\\\\n",
       "\t\\hline\n",
       "\t& String? & Int32\\\\\n",
       "\t\\hline\n",
       "\t1 & 065-02897-001 & 272807 \\\\\n",
       "\t2 & 012-00162-001 & 272774 \\\\\n",
       "\t3 & 060-02172-001 & 273314 \\\\\n",
       "\t4 & 005-01512-001 & 273279 \\\\\n",
       "\t5 & 060-03051-001 & 273288 \\\\\n",
       "\\end{tabular}\n"
      ],
      "text/plain": [
       "\u001b[1m5×2 DataFrame\u001b[0m\n",
       "\u001b[1m Row \u001b[0m│\u001b[1m gsn           \u001b[0m\u001b[1m dh_item_id \u001b[0m\n",
       "\u001b[1m     \u001b[0m│\u001b[90m String?       \u001b[0m\u001b[90m Int32      \u001b[0m\n",
       "─────┼───────────────────────────\n",
       "   1 │ 065-02897-001      272807\n",
       "   2 │ 012-00162-001      272774\n",
       "   3 │ 060-02172-001      273314\n",
       "   4 │ 005-01512-001      273279\n",
       "   5 │ 060-03051-001      273288"
      ]
     },
     "execution_count": 33,
     "metadata": {},
     "output_type": "execute_result"
    }
   ],
   "source": [
    "dh_gsn_f[51:55, :]"
   ]
  },
  {
   "cell_type": "markdown",
   "metadata": {},
   "source": [
    "Lies aus `gsn` `item_id` (= item der Personendatenbank)"
   ]
  },
  {
   "cell_type": "code",
   "execution_count": 27,
   "metadata": {},
   "outputs": [],
   "source": [
    "table_name = gs_db * \".gsn\"\n",
    "sql = \"SELECT gsn.id as gsn_id, item_id, gsn.nummer, items.status \n",
    "FROM $(table_name)\n",
    "JOIN $(gs_db).items ON item_id = items.id\n",
    "AND NOT items.deleted AND items.status = 'online';\"\n",
    "item_all = Wds.sql_df(sql);"
   ]
  },
  {
   "cell_type": "code",
   "execution_count": 34,
   "metadata": {},
   "outputs": [],
   "source": [
    "dh_item_gsn = innerjoin(dh_gsn_f, item_all, on = :gsn => :nummer);"
   ]
  },
  {
   "cell_type": "code",
   "execution_count": 35,
   "metadata": {},
   "outputs": [
    {
     "data": {
      "text/plain": [
       "606"
      ]
     },
     "execution_count": 35,
     "metadata": {},
     "output_type": "execute_result"
    }
   ],
   "source": [
    "size(dh_item_gsn, 1)"
   ]
  },
  {
   "cell_type": "code",
   "execution_count": 36,
   "metadata": {},
   "outputs": [
    {
     "data": {
      "text/plain": [
       "1-element Vector{Union{Missing, String}}:\n",
       " \"32849854\""
      ]
     },
     "execution_count": 36,
     "metadata": {},
     "output_type": "execute_result"
    }
   ],
   "source": [
    "setdiff(dh_gsn.gsn, item_all.nummer)"
   ]
  },
  {
   "cell_type": "markdown",
   "metadata": {},
   "source": [
    "*2022-04-27* Diese GSN ist ungültig. Sie gehört zu Ägidius von der Lanken. Der Eintrag ist in einem anderen Eintrag aufgegangen."
   ]
  },
  {
   "cell_type": "markdown",
   "metadata": {},
   "source": [
    "Ermittle die IDs weiterer Domherren anhand der relevanten Stifte."
   ]
  },
  {
   "cell_type": "code",
   "execution_count": 37,
   "metadata": {},
   "outputs": [],
   "source": [
    "sql = \"SELECT id_gsn FROM wiag2.institution AS inst\n",
    "JOIN wiag2.item_property AS prp ON inst.id = prp.item_id\n",
    "WHERE prp.name = 'domstift_short'\"\n",
    "df_dft = Wds.sql_df(sql);"
   ]
  },
  {
   "cell_type": "code",
   "execution_count": 38,
   "metadata": {},
   "outputs": [
    {
     "data": {
      "text/plain": [
       "\"(3490, 3491, 3492, 3493, 3494, 3495, 3496, 3498, 3499, 3500, 3501, 3502, 3503, 2066, 953, 832, 783, 792, 794, 803, 736, 739, 675, 676, 679, 701, 616, 628, 343, 226, 3489, 3488, 3487, 60130)\""
      ]
     },
     "execution_count": 38,
     "metadata": {},
     "output_type": "execute_result"
    }
   ],
   "source": [
    "ids_dft = \"(\" * join(df_dft.id_gsn, \", \") * \")\""
   ]
  },
  {
   "cell_type": "markdown",
   "metadata": {},
   "source": [
    "Betrachte nur gültige Amtseinträge"
   ]
  },
  {
   "cell_type": "code",
   "execution_count": 39,
   "metadata": {},
   "outputs": [],
   "source": [
    "table_name = gs_db * \".offices\";\n",
    "sql = \"SELECT DISTINCT(person_id), item_id \n",
    "FROM $(table_name) \n",
    "JOIN $(gs_db).persons AS p ON p.id = person_id\n",
    "WHERE klosterid in $(ids_dft) AND NOT offices.deleted\"\n",
    "mon_item = Wds.sql_df(sql);"
   ]
  },
  {
   "cell_type": "code",
   "execution_count": 40,
   "metadata": {},
   "outputs": [
    {
     "data": {
      "text/plain": [
       "8845"
      ]
     },
     "execution_count": 40,
     "metadata": {},
     "output_type": "execute_result"
    }
   ],
   "source": [
    "size(mon_item, 1)"
   ]
  },
  {
   "cell_type": "code",
   "execution_count": 41,
   "metadata": {},
   "outputs": [],
   "source": [
    "str_item = \"(\" * join(mon_item.item_id, \", \") * \")\";"
   ]
  },
  {
   "cell_type": "code",
   "execution_count": 42,
   "metadata": {},
   "outputs": [],
   "source": [
    "table_name = gs_db * \".gsn\"\n",
    "sql = \"SELECT min(gsn.id) as id, item_id\n",
    "FROM $(table_name)\n",
    "JOIN $(gs_db).items ON item_id = items.id\n",
    "WHERE item_id IN $(str_item)\n",
    "AND NOT items.deleted AND items.status = 'online'\n",
    "GROUP BY item_id\";\n",
    "mon_gsn_id = Wds.sql_df(sql);"
   ]
  },
  {
   "cell_type": "code",
   "execution_count": 43,
   "metadata": {},
   "outputs": [
    {
     "data": {
      "text/plain": [
       "8823"
      ]
     },
     "execution_count": 43,
     "metadata": {},
     "output_type": "execute_result"
    }
   ],
   "source": [
    "size(mon_gsn_id, 1)"
   ]
  },
  {
   "cell_type": "code",
   "execution_count": 44,
   "metadata": {},
   "outputs": [],
   "source": [
    "str_gsn_id = \"(\" * join(mon_gsn_id.id, \", \") * \")\";"
   ]
  },
  {
   "cell_type": "code",
   "execution_count": 45,
   "metadata": {},
   "outputs": [],
   "source": [
    "table_name = gs_db * \".gsn\"\n",
    "sql = \"SELECT gsn.id as gsn_id, item_id, gsn.nummer as gsn, items.status\n",
    "FROM $(table_name)\n",
    "JOIN $(gs_db).items ON item_id = items.id\n",
    "WHERE gsn.id in $(str_gsn_id)\";\n",
    "mon_item_gsn = Wds.sql_df(sql);"
   ]
  },
  {
   "cell_type": "code",
   "execution_count": 46,
   "metadata": {},
   "outputs": [
    {
     "data": {
      "text/plain": [
       "8823"
      ]
     },
     "execution_count": 46,
     "metadata": {},
     "output_type": "execute_result"
    }
   ],
   "source": [
    "size(mon_item_gsn, 1)"
   ]
  },
  {
   "cell_type": "markdown",
   "metadata": {},
   "source": [
    "Ohne die Einträge, die über die Domherrenbank referenziert werden."
   ]
  },
  {
   "cell_type": "code",
   "execution_count": 47,
   "metadata": {},
   "outputs": [],
   "source": [
    "mon_item_gsn_delta = antijoin(mon_item_gsn, dh_item_gsn, on = :item_id);"
   ]
  },
  {
   "cell_type": "code",
   "execution_count": 48,
   "metadata": {},
   "outputs": [
    {
     "data": {
      "text/plain": [
       "(8351, 4)"
      ]
     },
     "execution_count": 48,
     "metadata": {},
     "output_type": "execute_result"
    }
   ],
   "source": [
    "size(mon_item_gsn_delta)"
   ]
  },
  {
   "cell_type": "code",
   "execution_count": 49,
   "metadata": {},
   "outputs": [],
   "source": [
    "item_gsn = vcat(mon_item_gsn_delta, select(dh_item_gsn, Not(:dh_item_id)));"
   ]
  },
  {
   "cell_type": "code",
   "execution_count": 50,
   "metadata": {},
   "outputs": [
    {
     "data": {
      "text/plain": [
       "8957"
      ]
     },
     "execution_count": 50,
     "metadata": {},
     "output_type": "execute_result"
    }
   ],
   "source": [
    "size(item_gsn, 1)"
   ]
  },
  {
   "cell_type": "markdown",
   "metadata": {},
   "source": [
    "`persons`"
   ]
  },
  {
   "cell_type": "code",
   "execution_count": 51,
   "metadata": {},
   "outputs": [],
   "source": [
    "table_name = gs_db * \".persons\"\n",
    "sql = \"SELECT p.id as id_person_gso, item_id, \" *\n",
    "\"namenspraefix, vorname, familienname, \" *\n",
    "\"sterbedatum, geburtsdatum, `orden`, \" *\n",
    "\"anmerkungen, titel, \" * \n",
    "\"gndnummer, viaf, \" *\n",
    "\"familiennamenvarianten, vornamenvarianten, \" *\n",
    "\"namenszusatz, \" *\n",
    "\"zeitraum_von, zeitraum_bis \" *\n",
    "\"FROM $(table_name) as p \" *\n",
    "\"JOIN $gs_db.items ON items.id = p.item_id \" *\n",
    "\"WHERE items.status = 'online' AND NOT items.deleted \" *\n",
    "\"ORDER BY p.id\";\n",
    "df_p = Wds.sql_df(sql);"
   ]
  },
  {
   "cell_type": "code",
   "execution_count": 52,
   "metadata": {},
   "outputs": [],
   "source": [
    "Wds.clean_up!(df_p)"
   ]
  },
  {
   "cell_type": "code",
   "execution_count": 53,
   "metadata": {},
   "outputs": [],
   "source": [
    "one_valid(x, y) = !ismissing(x) | !ismissing(y)\n",
    "subset!(df_p, [:vorname, :familienname] => ByRow(one_valid));"
   ]
  },
  {
   "cell_type": "code",
   "execution_count": 54,
   "metadata": {},
   "outputs": [
    {
     "data": {
      "text/plain": [
       "4-element Vector{String}:\n",
       " \"gsn_id\"\n",
       " \"item_id\"\n",
       " \"gsn\"\n",
       " \"status\""
      ]
     },
     "execution_count": 54,
     "metadata": {},
     "output_type": "execute_result"
    }
   ],
   "source": [
    "names(item_gsn)"
   ]
  },
  {
   "cell_type": "code",
   "execution_count": 55,
   "metadata": {},
   "outputs": [],
   "source": [
    "df_p_gsn = innerjoin(df_p, item_gsn, on = :item_id);"
   ]
  },
  {
   "cell_type": "code",
   "execution_count": 56,
   "metadata": {},
   "outputs": [
    {
     "data": {
      "text/plain": [
       "8957"
      ]
     },
     "execution_count": 56,
     "metadata": {},
     "output_type": "execute_result"
    }
   ],
   "source": [
    "size(df_p_gsn, 1)"
   ]
  },
  {
   "cell_type": "markdown",
   "metadata": {},
   "source": [
    "### IDs zuordnen\n",
    "Lies bestehende IDs.  \n"
   ]
  },
  {
   "cell_type": "markdown",
   "metadata": {},
   "source": [
    "*2022-01-19* IDs sind von WIAG 1 zu übernehmen, später bei einem Update aus dem jeweils zuletzt verwendeten Datensatz (siehe unten)"
   ]
  },
  {
   "cell_type": "code",
   "execution_count": 98,
   "metadata": {},
   "outputs": [],
   "source": [
    "sql = \"SELECT id AS id_wiag, id_person_gso FROM wiag.cn_canon_gs\"\n",
    "df_id_cn_wiag = Wds.sql_df(sql);"
   ]
  },
  {
   "cell_type": "code",
   "execution_count": 84,
   "metadata": {},
   "outputs": [
    {
     "data": {
      "text/html": [
       "<div class=\"data-frame\"><p>5 rows × 2 columns</p><table class=\"data-frame\"><thead><tr><th></th><th>id_public</th><th>id_person_gso</th></tr><tr><th></th><th title=\"Int32\">Int32</th><th title=\"Union{Missing, Int32}\">Int32?</th></tr></thead><tbody><tr><th>1</th><td>80211</td><td>8556</td></tr><tr><th>2</th><td>80212</td><td>8561</td></tr><tr><th>3</th><td>80213</td><td>8606</td></tr><tr><th>4</th><td>80214</td><td>8607</td></tr><tr><th>5</th><td>80215</td><td>8620</td></tr></tbody></table></div>"
      ],
      "text/latex": [
       "\\begin{tabular}{r|cc}\n",
       "\t& id\\_public & id\\_person\\_gso\\\\\n",
       "\t\\hline\n",
       "\t& Int32 & Int32?\\\\\n",
       "\t\\hline\n",
       "\t1 & 80211 & 8556 \\\\\n",
       "\t2 & 80212 & 8561 \\\\\n",
       "\t3 & 80213 & 8606 \\\\\n",
       "\t4 & 80214 & 8607 \\\\\n",
       "\t5 & 80215 & 8620 \\\\\n",
       "\\end{tabular}\n"
      ],
      "text/plain": [
       "\u001b[1m5×2 DataFrame\u001b[0m\n",
       "\u001b[1m Row \u001b[0m│\u001b[1m id_public \u001b[0m\u001b[1m id_person_gso \u001b[0m\n",
       "\u001b[1m     \u001b[0m│\u001b[90m Int32     \u001b[0m\u001b[90m Int32?        \u001b[0m\n",
       "─────┼──────────────────────────\n",
       "   1 │     80211           8556\n",
       "   2 │     80212           8561\n",
       "   3 │     80213           8606\n",
       "   4 │     80214           8607\n",
       "   5 │     80215           8620"
      ]
     },
     "execution_count": 84,
     "metadata": {},
     "output_type": "execute_result"
    }
   ],
   "source": [
    "df_id_cn_wiag[201:205, :]"
   ]
  },
  {
   "cell_type": "markdown",
   "metadata": {},
   "source": [
    "*2022-04-27* IDs aus `wiag2_save`"
   ]
  },
  {
   "cell_type": "code",
   "execution_count": 57,
   "metadata": {},
   "outputs": [],
   "source": [
    "db_save = \"wiag2_save\";\n",
    "table_name = db_save * \".item\";\n",
    "sql = \"SELECT id_public, id_in_source as id_person_gso\n",
    "FROM $(table_name)\n",
    "WHERE item_type_id = $(item_type_id)\";\n",
    "df_id_cn_wiag = Wds.sql_df(sql);"
   ]
  },
  {
   "cell_type": "code",
   "execution_count": 58,
   "metadata": {},
   "outputs": [
    {
     "data": {
      "text/plain": [
       "get_id_wiag (generic function with 1 method)"
      ]
     },
     "execution_count": 58,
     "metadata": {},
     "output_type": "execute_result"
    }
   ],
   "source": [
    "# nur wenn die Quelle wiag2 ist\n",
    "function get_id_wiag(id_public)\n",
    "    rgx = r\"WIAG-Pers-CANON-([0-9]+)-0[0-9][0-9]\"\n",
    "    rgm = match(rgx, id_public)\n",
    "    if isnothing(rgm)\n",
    "        @warn \"no match for\" id_public\n",
    "        return missing\n",
    "    else\n",
    "        return parse(Int, rgm[1])\n",
    "    end\n",
    "end"
   ]
  },
  {
   "cell_type": "code",
   "execution_count": 59,
   "metadata": {},
   "outputs": [
    {
     "data": {
      "text/plain": [
       "80212"
      ]
     },
     "execution_count": 59,
     "metadata": {},
     "output_type": "execute_result"
    }
   ],
   "source": [
    "get_id_wiag(\"WIAG-Pers-CANON-80212-001\")"
   ]
  },
  {
   "cell_type": "code",
   "execution_count": 60,
   "metadata": {},
   "outputs": [],
   "source": [
    "transform!(df_id_cn_wiag, :id_public => ByRow(get_id_wiag) => :id_wiag);"
   ]
  },
  {
   "cell_type": "code",
   "execution_count": 61,
   "metadata": {},
   "outputs": [],
   "source": [
    "# nur wenn die Quelle wiag2 ist\n",
    "transform!(df_p_gsn, :id_person_gso => ByRow(string) => :id_person_gso);"
   ]
  },
  {
   "cell_type": "code",
   "execution_count": 62,
   "metadata": {},
   "outputs": [
    {
     "data": {
      "text/html": [
       "<div class=\"data-frame\"><p>5 rows × 5 columns</p><table class=\"data-frame\"><thead><tr><th></th><th>id_person_gso</th><th>item_id</th><th>vorname</th><th>gsn</th><th>status</th></tr><tr><th></th><th title=\"String\">String</th><th title=\"Int32\">Int32</th><th title=\"Union{Missing, String}\">String?</th><th title=\"Union{Missing, String}\">String?</th><th title=\"String\">String</th></tr></thead><tbody><tr><th>1</th><td>5049</td><td>5049</td><td>Matthäus</td><td>003-00513-001</td><td>online</td></tr><tr><th>2</th><td>5090</td><td>5090</td><td>Joachim</td><td>003-00554-001</td><td>online</td></tr><tr><th>3</th><td>5092</td><td>5092</td><td>Jakob</td><td>003-00556-001</td><td>online</td></tr><tr><th>4</th><td>5096</td><td>5096</td><td>Peter</td><td>003-00560-001</td><td>online</td></tr><tr><th>5</th><td>5135</td><td>5135</td><td>Gebhard</td><td>003-00599-001</td><td>online</td></tr></tbody></table></div>"
      ],
      "text/latex": [
       "\\begin{tabular}{r|ccccc}\n",
       "\t& id\\_person\\_gso & item\\_id & vorname & gsn & status\\\\\n",
       "\t\\hline\n",
       "\t& String & Int32 & String? & String? & String\\\\\n",
       "\t\\hline\n",
       "\t1 & 5049 & 5049 & Matthäus & 003-00513-001 & online \\\\\n",
       "\t2 & 5090 & 5090 & Joachim & 003-00554-001 & online \\\\\n",
       "\t3 & 5092 & 5092 & Jakob & 003-00556-001 & online \\\\\n",
       "\t4 & 5096 & 5096 & Peter & 003-00560-001 & online \\\\\n",
       "\t5 & 5135 & 5135 & Gebhard & 003-00599-001 & online \\\\\n",
       "\\end{tabular}\n"
      ],
      "text/plain": [
       "\u001b[1m5×5 DataFrame\u001b[0m\n",
       "\u001b[1m Row \u001b[0m│\u001b[1m id_person_gso \u001b[0m\u001b[1m item_id \u001b[0m\u001b[1m vorname  \u001b[0m\u001b[1m gsn           \u001b[0m\u001b[1m status \u001b[0m\n",
       "\u001b[1m     \u001b[0m│\u001b[90m String        \u001b[0m\u001b[90m Int32   \u001b[0m\u001b[90m String?  \u001b[0m\u001b[90m String?       \u001b[0m\u001b[90m String \u001b[0m\n",
       "─────┼─────────────────────────────────────────────────────────\n",
       "   1 │ 5049              5049  Matthäus  003-00513-001  online\n",
       "   2 │ 5090              5090  Joachim   003-00554-001  online\n",
       "   3 │ 5092              5092  Jakob     003-00556-001  online\n",
       "   4 │ 5096              5096  Peter     003-00560-001  online\n",
       "   5 │ 5135              5135  Gebhard   003-00599-001  online"
      ]
     },
     "execution_count": 62,
     "metadata": {},
     "output_type": "execute_result"
    }
   ],
   "source": [
    "df_p_gsn[21:25, [:id_person_gso, :item_id, :vorname, :gsn, :status]]"
   ]
  },
  {
   "cell_type": "code",
   "execution_count": 63,
   "metadata": {},
   "outputs": [
    {
     "data": {
      "text/html": [
       "<div class=\"data-frame\"><p>5 rows × 3 columns</p><table class=\"data-frame\"><thead><tr><th></th><th>id_public</th><th>id_person_gso</th><th>id_wiag</th></tr><tr><th></th><th title=\"Union{Missing, String}\">String?</th><th title=\"Union{Missing, String}\">String?</th><th title=\"Int64\">Int64</th></tr></thead><tbody><tr><th>1</th><td>WIAG-Pers-CANON-80010-001</td><td>4749</td><td>80010</td></tr><tr><th>2</th><td>WIAG-Pers-CANON-80009-001</td><td>4719</td><td>80009</td></tr><tr><th>3</th><td>WIAG-Pers-CANON-80008-001</td><td>4705</td><td>80008</td></tr><tr><th>4</th><td>WIAG-Pers-CANON-80007-001</td><td>4698</td><td>80007</td></tr><tr><th>5</th><td>WIAG-Pers-CANON-80006-001</td><td>4684</td><td>80006</td></tr></tbody></table></div>"
      ],
      "text/latex": [
       "\\begin{tabular}{r|ccc}\n",
       "\t& id\\_public & id\\_person\\_gso & id\\_wiag\\\\\n",
       "\t\\hline\n",
       "\t& String? & String? & Int64\\\\\n",
       "\t\\hline\n",
       "\t1 & WIAG-Pers-CANON-80010-001 & 4749 & 80010 \\\\\n",
       "\t2 & WIAG-Pers-CANON-80009-001 & 4719 & 80009 \\\\\n",
       "\t3 & WIAG-Pers-CANON-80008-001 & 4705 & 80008 \\\\\n",
       "\t4 & WIAG-Pers-CANON-80007-001 & 4698 & 80007 \\\\\n",
       "\t5 & WIAG-Pers-CANON-80006-001 & 4684 & 80006 \\\\\n",
       "\\end{tabular}\n"
      ],
      "text/plain": [
       "\u001b[1m5×3 DataFrame\u001b[0m\n",
       "\u001b[1m Row \u001b[0m│\u001b[1m id_public                 \u001b[0m\u001b[1m id_person_gso \u001b[0m\u001b[1m id_wiag \u001b[0m\n",
       "\u001b[1m     \u001b[0m│\u001b[90m String?                   \u001b[0m\u001b[90m String?       \u001b[0m\u001b[90m Int64   \u001b[0m\n",
       "─────┼───────────────────────────────────────────────────\n",
       "   1 │ WIAG-Pers-CANON-80010-001  4749             80010\n",
       "   2 │ WIAG-Pers-CANON-80009-001  4719             80009\n",
       "   3 │ WIAG-Pers-CANON-80008-001  4705             80008\n",
       "   4 │ WIAG-Pers-CANON-80007-001  4698             80007\n",
       "   5 │ WIAG-Pers-CANON-80006-001  4684             80006"
      ]
     },
     "execution_count": 63,
     "metadata": {},
     "output_type": "execute_result"
    }
   ],
   "source": [
    "df_id_cn_wiag[21:25, :]"
   ]
  },
  {
   "cell_type": "code",
   "execution_count": 64,
   "metadata": {},
   "outputs": [],
   "source": [
    "df_cn_id = leftjoin(df_p_gsn, df_id_cn_wiag, on = :id_person_gso);"
   ]
  },
  {
   "cell_type": "code",
   "execution_count": 65,
   "metadata": {},
   "outputs": [
    {
     "data": {
      "text/plain": [
       "(8958, 22)"
      ]
     },
     "execution_count": 65,
     "metadata": {},
     "output_type": "execute_result"
    }
   ],
   "source": [
    "size(df_cn_id)"
   ]
  },
  {
   "cell_type": "code",
   "execution_count": 128,
   "metadata": {},
   "outputs": [
    {
     "data": {
      "text/html": [
       "<div class=\"data-frame\"><p>5 rows × 5 columns</p><table class=\"data-frame\"><thead><tr><th></th><th>id_person_gso</th><th>item_id</th><th>id_wiag</th><th>vorname</th><th>familienname</th></tr><tr><th></th><th title=\"String\">String</th><th title=\"Int32\">Int32</th><th title=\"Union{Missing, Int64}\">Int64?</th><th title=\"Union{Missing, String}\">String?</th><th title=\"Union{Missing, String}\">String?</th></tr></thead><tbody><tr><th>1</th><td>8223</td><td>8223</td><td>80202</td><td>Bonaventura</td><td><em>missing</em></td></tr><tr><th>2</th><td>8161</td><td>8161</td><td>80201</td><td>Bohusch</td><td>Hostýň alias Pardubitz</td></tr><tr><th>3</th><td>8141</td><td>8141</td><td>80200</td><td>Bodo</td><td>Stolberg</td></tr><tr><th>4</th><td>8138</td><td>8138</td><td>80198</td><td>Bodo</td><td>Ileburg</td></tr><tr><th>5</th><td>8133</td><td>8133</td><td>80197</td><td>Bodo</td><td><em>missing</em></td></tr></tbody></table></div>"
      ],
      "text/latex": [
       "\\begin{tabular}{r|ccccc}\n",
       "\t& id\\_person\\_gso & item\\_id & id\\_wiag & vorname & familienname\\\\\n",
       "\t\\hline\n",
       "\t& String & Int32 & Int64? & String? & String?\\\\\n",
       "\t\\hline\n",
       "\t1 & 8223 & 8223 & 80202 & Bonaventura & \\emph{missing} \\\\\n",
       "\t2 & 8161 & 8161 & 80201 & Bohusch & Hostýň alias Pardubitz \\\\\n",
       "\t3 & 8141 & 8141 & 80200 & Bodo & Stolberg \\\\\n",
       "\t4 & 8138 & 8138 & 80198 & Bodo & Ileburg \\\\\n",
       "\t5 & 8133 & 8133 & 80197 & Bodo & \\emph{missing} \\\\\n",
       "\\end{tabular}\n"
      ],
      "text/plain": [
       "\u001b[1m5×5 DataFrame\u001b[0m\n",
       "\u001b[1m Row \u001b[0m│\u001b[1m id_person_gso \u001b[0m\u001b[1m item_id \u001b[0m\u001b[1m id_wiag \u001b[0m\u001b[1m vorname     \u001b[0m\u001b[1m familienname           \u001b[0m\n",
       "\u001b[1m     \u001b[0m│\u001b[90m String        \u001b[0m\u001b[90m Int32   \u001b[0m\u001b[90m Int64?  \u001b[0m\u001b[90m String?     \u001b[0m\u001b[90m String?                \u001b[0m\n",
       "─────┼──────────────────────────────────────────────────────────────────────\n",
       "   1 │ 8223              8223    80202  Bonaventura \u001b[90m missing                \u001b[0m\n",
       "   2 │ 8161              8161    80201  Bohusch      Hostýň alias Pardubitz\n",
       "   3 │ 8141              8141    80200  Bodo         Stolberg\n",
       "   4 │ 8138              8138    80198  Bodo         Ileburg\n",
       "   5 │ 8133              8133    80197  Bodo        \u001b[90m missing                \u001b[0m"
      ]
     },
     "execution_count": 128,
     "metadata": {},
     "output_type": "execute_result"
    }
   ],
   "source": [
    "df_cn_id[201:205, [:id_person_gso, :item_id, :id_wiag, :vorname, :familienname]]"
   ]
  },
  {
   "cell_type": "code",
   "execution_count": 67,
   "metadata": {},
   "outputs": [],
   "source": [
    "df_cn_id_id = subset(df_cn_id, :id_wiag => ByRow(!ismissing));\n",
    "df_cn_id_new = subset(df_cn_id, :id_wiag => ByRow(ismissing));"
   ]
  },
  {
   "cell_type": "code",
   "execution_count": 68,
   "metadata": {},
   "outputs": [
    {
     "data": {
      "text/plain": [
       "1"
      ]
     },
     "execution_count": 68,
     "metadata": {},
     "output_type": "execute_result"
    }
   ],
   "source": [
    "size(df_cn_id_new, 1)"
   ]
  },
  {
   "cell_type": "markdown",
   "metadata": {},
   "source": [
    "*2022-03-10* Es sind 83 neue IDs zu vergeben. (zunächst \"nur\" für WIAGweb2)  \n",
    "*2022-04-27* Es sind 502 neue IDs zu vergeben.\n",
    "*2022-05-12* Es sind 511 neue IDs zu vergeben.\n",
    "*2022-05-20* Es ist 1 neue ID zu vergeben."
   ]
  },
  {
   "cell_type": "code",
   "execution_count": 69,
   "metadata": {},
   "outputs": [
    {
     "data": {
      "text/plain": [
       "90844"
      ]
     },
     "execution_count": 69,
     "metadata": {},
     "output_type": "execute_result"
    }
   ],
   "source": [
    "next_id = maximum(df_cn_id_id.id_wiag) + 1"
   ]
  },
  {
   "cell_type": "code",
   "execution_count": 70,
   "metadata": {},
   "outputs": [],
   "source": [
    "sort!(df_cn_id_new, :item_id);"
   ]
  },
  {
   "cell_type": "code",
   "execution_count": 71,
   "metadata": {},
   "outputs": [],
   "source": [
    "id = next_id\n",
    "for row in eachrow(df_cn_id_new)\n",
    "    row[:id_wiag] = id\n",
    "    id += 1\n",
    "end"
   ]
  },
  {
   "cell_type": "code",
   "execution_count": 72,
   "metadata": {},
   "outputs": [],
   "source": [
    "sort!(df_cn_id_id, :id_wiag);"
   ]
  },
  {
   "cell_type": "code",
   "execution_count": 73,
   "metadata": {},
   "outputs": [
    {
     "data": {
      "text/html": [
       "<div class=\"data-frame\"><p>6 rows × 5 columns</p><table class=\"data-frame\"><thead><tr><th></th><th>item_id</th><th>gsn_id</th><th>id_wiag</th><th>vorname</th><th>familienname</th></tr><tr><th></th><th title=\"Int32\">Int32</th><th title=\"Int32\">Int32</th><th title=\"Union{Missing, Int64}\">Int64?</th><th title=\"Union{Missing, String}\">String?</th><th title=\"Union{Missing, String}\">String?</th></tr></thead><tbody><tr><th>1</th><td>337491</td><td>382368</td><td>90838</td><td>Asswer</td><td>Bevern</td></tr><tr><th>2</th><td>337493</td><td>382373</td><td>90839</td><td>Gerhard</td><td>Vivario</td></tr><tr><th>3</th><td>337503</td><td>382395</td><td>90840</td><td>Konrad</td><td>Schmid</td></tr><tr><th>4</th><td>337504</td><td>382397</td><td>90841</td><td>Johannes</td><td>Zeller</td></tr><tr><th>5</th><td>337506</td><td>382401</td><td>90842</td><td>Adolf</td><td>Quadt</td></tr><tr><th>6</th><td>337507</td><td>382404</td><td>90843</td><td>Bernhard</td><td>Monick</td></tr></tbody></table></div>"
      ],
      "text/latex": [
       "\\begin{tabular}{r|ccccc}\n",
       "\t& item\\_id & gsn\\_id & id\\_wiag & vorname & familienname\\\\\n",
       "\t\\hline\n",
       "\t& Int32 & Int32 & Int64? & String? & String?\\\\\n",
       "\t\\hline\n",
       "\t1 & 337491 & 382368 & 90838 & Asswer & Bevern \\\\\n",
       "\t2 & 337493 & 382373 & 90839 & Gerhard & Vivario \\\\\n",
       "\t3 & 337503 & 382395 & 90840 & Konrad & Schmid \\\\\n",
       "\t4 & 337504 & 382397 & 90841 & Johannes & Zeller \\\\\n",
       "\t5 & 337506 & 382401 & 90842 & Adolf & Quadt \\\\\n",
       "\t6 & 337507 & 382404 & 90843 & Bernhard & Monick \\\\\n",
       "\\end{tabular}\n"
      ],
      "text/plain": [
       "\u001b[1m6×5 DataFrame\u001b[0m\n",
       "\u001b[1m Row \u001b[0m│\u001b[1m item_id \u001b[0m\u001b[1m gsn_id \u001b[0m\u001b[1m id_wiag \u001b[0m\u001b[1m vorname  \u001b[0m\u001b[1m familienname \u001b[0m\n",
       "\u001b[1m     \u001b[0m│\u001b[90m Int32   \u001b[0m\u001b[90m Int32  \u001b[0m\u001b[90m Int64?  \u001b[0m\u001b[90m String?  \u001b[0m\u001b[90m String?      \u001b[0m\n",
       "─────┼──────────────────────────────────────────────────\n",
       "   1 │  337491  382368    90838  Asswer    Bevern\n",
       "   2 │  337493  382373    90839  Gerhard   Vivario\n",
       "   3 │  337503  382395    90840  Konrad    Schmid\n",
       "   4 │  337504  382397    90841  Johannes  Zeller\n",
       "   5 │  337506  382401    90842  Adolf     Quadt\n",
       "   6 │  337507  382404    90843  Bernhard  Monick"
      ]
     },
     "execution_count": 73,
     "metadata": {},
     "output_type": "execute_result"
    }
   ],
   "source": [
    "df_cn_id_id[end-5:end, [:item_id, :gsn_id, :id_wiag, :vorname, :familienname]]"
   ]
  },
  {
   "cell_type": "code",
   "execution_count": 75,
   "metadata": {},
   "outputs": [
    {
     "data": {
      "text/html": [
       "<div class=\"data-frame\"><p>1 rows × 5 columns</p><table class=\"data-frame\"><thead><tr><th></th><th>item_id</th><th>gsn_id</th><th>id_wiag</th><th>vorname</th><th>familienname</th></tr><tr><th></th><th title=\"Int32\">Int32</th><th title=\"Int32\">Int32</th><th title=\"Union{Missing, Int64}\">Int64?</th><th title=\"Union{Missing, String}\">String?</th><th title=\"Union{Missing, String}\">String?</th></tr></thead><tbody><tr><th>1</th><td>116511</td><td>212288</td><td>90844</td><td>Friedrich</td><td>Rhein</td></tr></tbody></table></div>"
      ],
      "text/latex": [
       "\\begin{tabular}{r|ccccc}\n",
       "\t& item\\_id & gsn\\_id & id\\_wiag & vorname & familienname\\\\\n",
       "\t\\hline\n",
       "\t& Int32 & Int32 & Int64? & String? & String?\\\\\n",
       "\t\\hline\n",
       "\t1 & 116511 & 212288 & 90844 & Friedrich & Rhein \\\\\n",
       "\\end{tabular}\n"
      ],
      "text/plain": [
       "\u001b[1m1×5 DataFrame\u001b[0m\n",
       "\u001b[1m Row \u001b[0m│\u001b[1m item_id \u001b[0m\u001b[1m gsn_id \u001b[0m\u001b[1m id_wiag \u001b[0m\u001b[1m vorname   \u001b[0m\u001b[1m familienname \u001b[0m\n",
       "\u001b[1m     \u001b[0m│\u001b[90m Int32   \u001b[0m\u001b[90m Int32  \u001b[0m\u001b[90m Int64?  \u001b[0m\u001b[90m String?   \u001b[0m\u001b[90m String?      \u001b[0m\n",
       "─────┼───────────────────────────────────────────────────\n",
       "   1 │  116511  212288    90844  Friedrich  Rhein"
      ]
     },
     "execution_count": 75,
     "metadata": {},
     "output_type": "execute_result"
    }
   ],
   "source": [
    "df_cn_id_new[1:1, [:item_id, :gsn_id, :id_wiag, :vorname, :familienname]]"
   ]
  },
  {
   "cell_type": "code",
   "execution_count": 76,
   "metadata": {},
   "outputs": [],
   "source": [
    "df_cn_all = vcat(df_cn_id_id, df_cn_id_new);"
   ]
  },
  {
   "cell_type": "code",
   "execution_count": 130,
   "metadata": {},
   "outputs": [
    {
     "data": {
      "text/plain": [
       "(8958, 8957)"
      ]
     },
     "execution_count": 130,
     "metadata": {},
     "output_type": "execute_result"
    }
   ],
   "source": [
    "size(df_cn_all, 1), size(unique(df_cn_all), 1)"
   ]
  },
  {
   "cell_type": "markdown",
   "metadata": {},
   "source": [
    "Otto mit `id_in_source` = \"325778\" ist doppelt. Wir nehmen ihn nur einmal auf. Die schon mal vergebene `id_public` wird nicht vermisst, wenn es schon immer einen Verweis von einem Domherren aus der Domherrendatenbank gab. Denn dann ist dessen `id_public` relevant."
   ]
  },
  {
   "cell_type": "code",
   "execution_count": 131,
   "metadata": {},
   "outputs": [],
   "source": [
    "unique!(df_cn_all);"
   ]
  },
  {
   "cell_type": "markdown",
   "metadata": {},
   "source": [
    "### Einträge in `item`\n",
    "\n",
    "entsprechende Einträge in Tabelle `item` einfügen\n",
    "\n",
    "`id` für 'Domherr GS' in `item_type`: 6"
   ]
  },
  {
   "cell_type": "code",
   "execution_count": 77,
   "metadata": {},
   "outputs": [
    {
     "data": {
      "text/html": [
       "<div class=\"data-frame\"><p>5 rows × 5 columns</p><table class=\"data-frame\"><thead><tr><th></th><th>vorname</th><th>familienname</th><th>geburtsdatum</th><th>sterbedatum</th><th>id_wiag</th></tr><tr><th></th><th title=\"Union{Missing, String}\">String?</th><th title=\"Union{Missing, String}\">String?</th><th title=\"Union{Missing, String}\">String?</th><th title=\"Union{Missing, String}\">String?</th><th title=\"Union{Missing, Int64}\">Int64?</th></tr></thead><tbody><tr><th>1</th><td>Burchardus</td><td><em>missing</em></td><td><em>missing</em></td><td><em>missing</em></td><td>80225</td></tr><tr><th>2</th><td>Busso</td><td>Bartensleben</td><td><em>missing</em></td><td><em>missing</em></td><td>80226</td></tr><tr><th>3</th><td>Busso</td><td>Britzke</td><td>1534</td><td>1572</td><td>80232</td></tr><tr><th>4</th><td>Busso</td><td>Schilt</td><td><em>missing</em></td><td><em>missing</em></td><td>80234</td></tr><tr><th>5</th><td>Busso</td><td>Schraplau</td><td><em>missing</em></td><td><em>missing</em></td><td>80235</td></tr></tbody></table></div>"
      ],
      "text/latex": [
       "\\begin{tabular}{r|ccccc}\n",
       "\t& vorname & familienname & geburtsdatum & sterbedatum & id\\_wiag\\\\\n",
       "\t\\hline\n",
       "\t& String? & String? & String? & String? & Int64?\\\\\n",
       "\t\\hline\n",
       "\t1 & Burchardus & \\emph{missing} & \\emph{missing} & \\emph{missing} & 80225 \\\\\n",
       "\t2 & Busso & Bartensleben & \\emph{missing} & \\emph{missing} & 80226 \\\\\n",
       "\t3 & Busso & Britzke & 1534 & 1572 & 80232 \\\\\n",
       "\t4 & Busso & Schilt & \\emph{missing} & \\emph{missing} & 80234 \\\\\n",
       "\t5 & Busso & Schraplau & \\emph{missing} & \\emph{missing} & 80235 \\\\\n",
       "\\end{tabular}\n"
      ],
      "text/plain": [
       "\u001b[1m5×5 DataFrame\u001b[0m\n",
       "\u001b[1m Row \u001b[0m│\u001b[1m vorname    \u001b[0m\u001b[1m familienname \u001b[0m\u001b[1m geburtsdatum \u001b[0m\u001b[1m sterbedatum \u001b[0m\u001b[1m id_wiag \u001b[0m\n",
       "\u001b[1m     \u001b[0m│\u001b[90m String?    \u001b[0m\u001b[90m String?      \u001b[0m\u001b[90m String?      \u001b[0m\u001b[90m String?     \u001b[0m\u001b[90m Int64?  \u001b[0m\n",
       "─────┼──────────────────────────────────────────────────────────────\n",
       "   1 │ Burchardus \u001b[90m missing      \u001b[0m\u001b[90m missing      \u001b[0m\u001b[90m missing     \u001b[0m   80225\n",
       "   2 │ Busso       Bartensleben \u001b[90m missing      \u001b[0m\u001b[90m missing     \u001b[0m   80226\n",
       "   3 │ Busso       Britzke       1534          1572           80232\n",
       "   4 │ Busso       Schilt       \u001b[90m missing      \u001b[0m\u001b[90m missing     \u001b[0m   80234\n",
       "   5 │ Busso       Schraplau    \u001b[90m missing      \u001b[0m\u001b[90m missing     \u001b[0m   80235"
      ]
     },
     "execution_count": 77,
     "metadata": {},
     "output_type": "execute_result"
    }
   ],
   "source": [
    "df_cn_all[211:215, [:vorname, :familienname, :geburtsdatum, :sterbedatum, :id_wiag]]"
   ]
  },
  {
   "cell_type": "code",
   "execution_count": 132,
   "metadata": {},
   "outputs": [
    {
     "data": {
      "text/plain": [
       "2-element Vector{Pair{Symbol, Symbol}}:\n",
       " :id_person_gso => :id_in_source\n",
       "       :id_wiag => :id_wiag"
      ]
     },
     "execution_count": 132,
     "metadata": {},
     "output_type": "execute_result"
    }
   ],
   "source": [
    "columns = [\n",
    "    :id_person_gso => :id_in_source,\n",
    "    :id_wiag => :id_wiag\n",
    "]"
   ]
  },
  {
   "cell_type": "code",
   "execution_count": 133,
   "metadata": {},
   "outputs": [],
   "source": [
    "df_item = select(df_cn_all, columns);"
   ]
  },
  {
   "cell_type": "code",
   "execution_count": 134,
   "metadata": {},
   "outputs": [],
   "source": [
    "using Dates"
   ]
  },
  {
   "cell_type": "code",
   "execution_count": 135,
   "metadata": {},
   "outputs": [],
   "source": [
    "user_wiag_id = 1;\n",
    "time_stamp = Dates.format(now(), dateformat\"yyyy-mm-dd HH:MM\");"
   ]
  },
  {
   "cell_type": "code",
   "execution_count": 136,
   "metadata": {},
   "outputs": [],
   "source": [
    "insertcols!(\n",
    "    df_item, \n",
    "    1,\n",
    "    :item_type_id => item_type_id,\n",
    "    :edit_status => \"importiert\",\n",
    "    :created_by => user_wiag_id,\n",
    "    :date_created => time_stamp,\n",
    "    :changed_by => user_wiag_id,\n",
    "    :date_changed => time_stamp,\n",
    "    :is_online => 1\n",
    ");"
   ]
  },
  {
   "cell_type": "code",
   "execution_count": 137,
   "metadata": {},
   "outputs": [
    {
     "data": {
      "text/html": [
       "<p>DataFrameRow (9 columns)</p><div class=\"data-frame\"><table class=\"data-frame\"><thead><tr><th></th><th>item_type_id</th><th>edit_status</th><th>created_by</th><th>date_created</th><th>changed_by</th><th>date_changed</th><th>is_online</th><th>id_in_source</th><th>id_wiag</th></tr><tr><th></th><th title=\"Int64\">Int64</th><th title=\"String\">String</th><th title=\"Int64\">Int64</th><th title=\"String\">String</th><th title=\"Int64\">Int64</th><th title=\"String\">String</th><th title=\"Int64\">Int64</th><th title=\"String\">String</th><th title=\"Union{Missing, Int64}\">Int64?</th></tr></thead><tbody><tr><th>17</th><td>6</td><td>importiert</td><td>1</td><td>2022-05-20 14:40</td><td>1</td><td>2022-05-20 14:40</td><td>1</td><td>4904</td><td>80018</td></tr></tbody></table></div>"
      ],
      "text/latex": [
       "\\begin{tabular}{r|ccccccccc}\n",
       "\t& item\\_type\\_id & edit\\_status & created\\_by & date\\_created & changed\\_by & date\\_changed & is\\_online & id\\_in\\_source & id\\_wiag\\\\\n",
       "\t\\hline\n",
       "\t& Int64 & String & Int64 & String & Int64 & String & Int64 & String & Int64?\\\\\n",
       "\t\\hline\n",
       "\t17 & 6 & importiert & 1 & 2022-05-20 14:40 & 1 & 2022-05-20 14:40 & 1 & 4904 & 80018 \\\\\n",
       "\\end{tabular}\n"
      ],
      "text/plain": [
       "\u001b[1mDataFrameRow\u001b[0m\n",
       "\u001b[1m Row \u001b[0m│\u001b[1m item_type_id \u001b[0m\u001b[1m edit_status \u001b[0m\u001b[1m created_by \u001b[0m\u001b[1m date_created     \u001b[0m\u001b[1m changed_by \u001b[0m\u001b[1m date_changed     \u001b[0m\u001b[1m is_online \u001b[0m\u001b[1m id_in_source \u001b[0m\u001b[1m\u001b[0m ⋯\n",
       "\u001b[1m     \u001b[0m│\u001b[90m Int64        \u001b[0m\u001b[90m String      \u001b[0m\u001b[90m Int64      \u001b[0m\u001b[90m String           \u001b[0m\u001b[90m Int64      \u001b[0m\u001b[90m String           \u001b[0m\u001b[90m Int64     \u001b[0m\u001b[90m String       \u001b[0m\u001b[90m\u001b[0m ⋯\n",
       "─────┼──────────────────────────────────────────────────────────────────────────────────────────────────────────────────\n",
       "  17 │            6  importiert            1  2022-05-20 14:40           1  2022-05-20 14:40          1  4904          ⋯\n",
       "\u001b[36m                                                                                                        1 column omitted\u001b[0m"
      ]
     },
     "execution_count": 137,
     "metadata": {},
     "output_type": "execute_result"
    }
   ],
   "source": [
    "df_item[17, :]"
   ]
  },
  {
   "cell_type": "markdown",
   "metadata": {},
   "source": [
    "Public ID erzeugen"
   ]
  },
  {
   "cell_type": "code",
   "execution_count": 138,
   "metadata": {},
   "outputs": [
    {
     "data": {
      "text/plain": [
       "make_id_public (generic function with 1 method)"
      ]
     },
     "execution_count": 138,
     "metadata": {},
     "output_type": "execute_result"
    }
   ],
   "source": [
    "function make_id_public(id::Real)\n",
    "    id_public_key = \"Pers-CANON\"\n",
    "    num_id_length = 5\n",
    "    return \"WIAG-\" * id_public_key * \"-\" * lpad(id, num_id_length, '0') * \"-001\"\n",
    "end"
   ]
  },
  {
   "cell_type": "code",
   "execution_count": 139,
   "metadata": {},
   "outputs": [],
   "source": [
    "transform!(df_item, :id_wiag => ByRow(make_id_public) => :id_public);"
   ]
  },
  {
   "cell_type": "code",
   "execution_count": 140,
   "metadata": {},
   "outputs": [
    {
     "data": {
      "text/plain": [
       "10-element Vector{String}:\n",
       " \"item_type_id\"\n",
       " \"edit_status\"\n",
       " \"created_by\"\n",
       " \"date_created\"\n",
       " \"changed_by\"\n",
       " \"date_changed\"\n",
       " \"is_online\"\n",
       " \"id_in_source\"\n",
       " \"id_wiag\"\n",
       " \"id_public\""
      ]
     },
     "execution_count": 140,
     "metadata": {},
     "output_type": "execute_result"
    }
   ],
   "source": [
    "names(df_item)"
   ]
  },
  {
   "cell_type": "markdown",
   "metadata": {},
   "source": [
    "Bestehende Einträge löschen  \n",
    "Die Einträge in `item` sind bei einem Update als letztes zu löschen, da die anderen Tabellen von Tabelle `item` abhängen."
   ]
  },
  {
   "cell_type": "code",
   "execution_count": 141,
   "metadata": {},
   "outputs": [
    {
     "data": {
      "text/plain": [
       "6"
      ]
     },
     "execution_count": 141,
     "metadata": {},
     "output_type": "execute_result"
    }
   ],
   "source": [
    "item_type_id"
   ]
  },
  {
   "cell_type": "code",
   "execution_count": 142,
   "metadata": {},
   "outputs": [
    {
     "data": {
      "text/plain": [
       "MySQL.TextCursor{true}(MySQL.Connection(host=\"127.0.0.1\", user=\"georg\", port=\"3306\", db=\"wiag2\"), \"DELETE FROM item WHERE item_type_id = 6\", 0, -1, 8958, MySQL.API.MYSQL_RES(Ptr{Nothing} @0x0000000000000000), Symbol[], Type[], Dict{Symbol, Int64}(), 0, 1, false)"
      ]
     },
     "execution_count": 142,
     "metadata": {},
     "output_type": "execute_result"
    }
   ],
   "source": [
    "table_name = \"item\";\n",
    "sql = \"DELETE FROM $(table_name) WHERE item_type_id = $(item_type_id)\"\n",
    "DBInterface.execute(Wds.dbwiag, sql)"
   ]
  },
  {
   "cell_type": "code",
   "execution_count": 143,
   "metadata": {},
   "outputs": [
    {
     "data": {
      "text/plain": [
       "1-element Vector{Symbol}:\n",
       " :id_wiag"
      ]
     },
     "execution_count": 143,
     "metadata": {},
     "output_type": "execute_result"
    }
   ],
   "source": [
    "exclude_cols = [\n",
    "    :id_wiag,    \n",
    "]"
   ]
  },
  {
   "cell_type": "code",
   "execution_count": 144,
   "metadata": {},
   "outputs": [
    {
     "name": "stderr",
     "output_type": "stream",
     "text": [
      "┌ Info: Rows inserted: 8957\n",
      "└ @ WiagDataSetup C:\\Users\\georg\\Documents\\projekte\\WiagDataSetup.jl\\src\\WiagDataSetup.jl:1216\n"
     ]
    },
    {
     "data": {
      "text/plain": [
       "8957"
      ]
     },
     "execution_count": 144,
     "metadata": {},
     "output_type": "execute_result"
    }
   ],
   "source": [
    "table_name = \"item\";\n",
    "Wds.filltable!(table_name, select(df_item, Not(exclude_cols)), clear_table = false)"
   ]
  },
  {
   "cell_type": "markdown",
   "metadata": {},
   "source": [
    "*2022-04-27*: 8936"
   ]
  },
  {
   "cell_type": "markdown",
   "metadata": {},
   "source": [
    "### Daten eintragen\n",
    "\n",
    "IDs auslesen"
   ]
  },
  {
   "cell_type": "code",
   "execution_count": 145,
   "metadata": {},
   "outputs": [],
   "source": [
    "table_name = \"item\";\n",
    "sql = \"SELECT id, id_in_source FROM $(table_name) where item_type_id = ($item_type_id)\"\n",
    "df_idx = DBInterface.execute(Wds.dbwiag, sql) |> DataFrame;"
   ]
  },
  {
   "cell_type": "code",
   "execution_count": 146,
   "metadata": {},
   "outputs": [
    {
     "data": {
      "text/plain": [
       "(8957, 2)"
      ]
     },
     "execution_count": 146,
     "metadata": {},
     "output_type": "execute_result"
    }
   ],
   "source": [
    "size(df_idx)"
   ]
  },
  {
   "cell_type": "markdown",
   "metadata": {},
   "source": [
    "Spalte für die Zusammenführung befüllen (Typ: String!)"
   ]
  },
  {
   "cell_type": "code",
   "execution_count": 147,
   "metadata": {},
   "outputs": [],
   "source": [
    "transform!(df_cn_all, :id_person_gso => ByRow(string) => :id_in_source);"
   ]
  },
  {
   "cell_type": "code",
   "execution_count": 171,
   "metadata": {},
   "outputs": [],
   "source": [
    "df_cn_idx = innerjoin(df_idx, df_cn_all, on = :id_in_source);"
   ]
  },
  {
   "cell_type": "code",
   "execution_count": 172,
   "metadata": {},
   "outputs": [
    {
     "data": {
      "text/plain": [
       "(8957, 8957, 8957)"
      ]
     },
     "execution_count": 172,
     "metadata": {},
     "output_type": "execute_result"
    }
   ],
   "source": [
    "length(unique(df_cn_idx.id_in_source)), size(df_cn_all, 1), size(df_cn_idx, 1)"
   ]
  },
  {
   "cell_type": "markdown",
   "metadata": {},
   "source": [
    "*2022-05-20* doppelter Verweis auf Otto in `item` bereinigt  \n",
    "begin debug"
   ]
  },
  {
   "cell_type": "code",
   "execution_count": 173,
   "metadata": {},
   "outputs": [
    {
     "data": {
      "text/plain": [
       "freq (generic function with 1 method)"
      ]
     },
     "execution_count": 173,
     "metadata": {},
     "output_type": "execute_result"
    }
   ],
   "source": [
    "function freq(v)\n",
    "    f_count = Dict{eltype(v), Int}()\n",
    "    for e in v\n",
    "        f_count[e] = get(f_count, e, 0) + 1\n",
    "    end\n",
    "    return DataFrame(val = collect(keys(f_count)), freq = collect(values(f_count)))\n",
    "end"
   ]
  },
  {
   "cell_type": "code",
   "execution_count": 174,
   "metadata": {},
   "outputs": [],
   "source": [
    "df_info_cn_n = freq(df_cn_idx.id_in_source);"
   ]
  },
  {
   "cell_type": "code",
   "execution_count": 175,
   "metadata": {},
   "outputs": [
    {
     "data": {
      "text/html": [
       "<div class=\"data-frame\"><p>0 rows × 2 columns</p><table class=\"data-frame\"><thead><tr><th></th><th>val</th><th>freq</th></tr><tr><th></th><th title=\"Union{Missing, String}\">String?</th><th title=\"Int64\">Int64</th></tr></thead><tbody></tbody></table></div>"
      ],
      "text/latex": [
       "\\begin{tabular}{r|cc}\n",
       "\t& val & freq\\\\\n",
       "\t\\hline\n",
       "\t& String? & Int64\\\\\n",
       "\t\\hline\n",
       "\\end{tabular}\n"
      ],
      "text/plain": [
       "\u001b[1m0×2 DataFrame\u001b[0m"
      ]
     },
     "execution_count": 175,
     "metadata": {},
     "output_type": "execute_result"
    }
   ],
   "source": [
    "subset(df_info_cn_n, :freq => ByRow((x -> x > 1)))"
   ]
  },
  {
   "cell_type": "code",
   "execution_count": 176,
   "metadata": {},
   "outputs": [
    {
     "data": {
      "text/html": [
       "<div class=\"data-frame\"><p>1 rows × 24 columns (omitted printing of 14 columns)</p><table class=\"data-frame\"><thead><tr><th></th><th>id</th><th>id_in_source</th><th>id_person_gso</th><th>item_id</th><th>namenspraefix</th><th>vorname</th><th>familienname</th><th>sterbedatum</th><th>geburtsdatum</th><th>orden</th></tr><tr><th></th><th title=\"Int32\">Int32</th><th title=\"Union{Missing, String}\">String?</th><th title=\"String\">String</th><th title=\"Int32\">Int32</th><th title=\"Union{Missing, String}\">String?</th><th title=\"Union{Missing, String}\">String?</th><th title=\"Union{Missing, String}\">String?</th><th title=\"Union{Missing, String}\">String?</th><th title=\"Union{Missing, String}\">String?</th><th title=\"Union{Missing, String}\">String?</th></tr></thead><tbody><tr><th>1</th><td>308831</td><td>325778</td><td>325778</td><td>332194</td><td><em>missing</em></td><td>Otto</td><td><em>missing</em></td><td>wohl 1181</td><td><em>missing</em></td><td><em>missing</em></td></tr></tbody></table></div>"
      ],
      "text/latex": [
       "\\begin{tabular}{r|ccccccccccc}\n",
       "\t& id & id\\_in\\_source & id\\_person\\_gso & item\\_id & namenspraefix & vorname & familienname & sterbedatum & geburtsdatum & orden & \\\\\n",
       "\t\\hline\n",
       "\t& Int32 & String? & String & Int32 & String? & String? & String? & String? & String? & String? & \\\\\n",
       "\t\\hline\n",
       "\t1 & 308831 & 325778 & 325778 & 332194 & \\emph{missing} & Otto & \\emph{missing} & wohl 1181 & \\emph{missing} & \\emph{missing} & $\\dots$ \\\\\n",
       "\\end{tabular}\n"
      ],
      "text/plain": [
       "\u001b[1m1×24 DataFrame\u001b[0m\n",
       "\u001b[1m Row \u001b[0m│\u001b[1m id     \u001b[0m\u001b[1m id_in_source \u001b[0m\u001b[1m id_person_gso \u001b[0m\u001b[1m item_id \u001b[0m\u001b[1m namenspraefix \u001b[0m\u001b[1m vorname \u001b[0m\u001b[1m familienname \u001b[0m\u001b[1m sterbedatum \u001b[0m\u001b[1m geburtsdatum \u001b[0m\u001b[1m \u001b[0m ⋯\n",
       "\u001b[1m     \u001b[0m│\u001b[90m Int32  \u001b[0m\u001b[90m String?      \u001b[0m\u001b[90m String        \u001b[0m\u001b[90m Int32   \u001b[0m\u001b[90m String?       \u001b[0m\u001b[90m String? \u001b[0m\u001b[90m String?      \u001b[0m\u001b[90m String?     \u001b[0m\u001b[90m String?      \u001b[0m\u001b[90m \u001b[0m ⋯\n",
       "─────┼──────────────────────────────────────────────────────────────────────────────────────────────────────────────────\n",
       "   1 │ 308831  325778        325778          332194 \u001b[90m missing       \u001b[0m Otto    \u001b[90m missing      \u001b[0m wohl 1181   \u001b[90m missing      \u001b[0m\u001b[90m \u001b[0m ⋯\n",
       "\u001b[36m                                                                                                      15 columns omitted\u001b[0m"
      ]
     },
     "execution_count": 176,
     "metadata": {},
     "output_type": "execute_result"
    }
   ],
   "source": [
    "df_info_mult = subset(df_cn_idx, :id_in_source => ByRow(isequal(\"325778\")))"
   ]
  },
  {
   "cell_type": "code",
   "execution_count": 120,
   "metadata": {},
   "outputs": [
    {
     "data": {
      "text/html": [
       "<div class=\"data-frame\"><p>2 rows × 5 columns</p><table class=\"data-frame\"><thead><tr><th></th><th>id_in_source</th><th>vorname</th><th>familienname</th><th>gsn_id</th><th>gsn</th></tr><tr><th></th><th title=\"String\">String</th><th title=\"Union{Missing, String}\">String?</th><th title=\"Union{Missing, String}\">String?</th><th title=\"Int32\">Int32</th><th title=\"Union{Missing, String}\">String?</th></tr></thead><tbody><tr><th>1</th><td>325778</td><td>Otto</td><td><em>missing</em></td><td>374286</td><td>700-00388-001</td></tr><tr><th>2</th><td>325778</td><td>Otto</td><td><em>missing</em></td><td>374286</td><td>700-00388-001</td></tr></tbody></table></div>"
      ],
      "text/latex": [
       "\\begin{tabular}{r|ccccc}\n",
       "\t& id\\_in\\_source & vorname & familienname & gsn\\_id & gsn\\\\\n",
       "\t\\hline\n",
       "\t& String & String? & String? & Int32 & String?\\\\\n",
       "\t\\hline\n",
       "\t1 & 325778 & Otto & \\emph{missing} & 374286 & 700-00388-001 \\\\\n",
       "\t2 & 325778 & Otto & \\emph{missing} & 374286 & 700-00388-001 \\\\\n",
       "\\end{tabular}\n"
      ],
      "text/plain": [
       "\u001b[1m2×5 DataFrame\u001b[0m\n",
       "\u001b[1m Row \u001b[0m│\u001b[1m id_in_source \u001b[0m\u001b[1m vorname \u001b[0m\u001b[1m familienname \u001b[0m\u001b[1m gsn_id \u001b[0m\u001b[1m gsn           \u001b[0m\n",
       "\u001b[1m     \u001b[0m│\u001b[90m String       \u001b[0m\u001b[90m String? \u001b[0m\u001b[90m String?      \u001b[0m\u001b[90m Int32  \u001b[0m\u001b[90m String?       \u001b[0m\n",
       "─────┼────────────────────────────────────────────────────────────\n",
       "   1 │ 325778        Otto    \u001b[90m missing      \u001b[0m 374286  700-00388-001\n",
       "   2 │ 325778        Otto    \u001b[90m missing      \u001b[0m 374286  700-00388-001"
      ]
     },
     "execution_count": 120,
     "metadata": {},
     "output_type": "execute_result"
    }
   ],
   "source": [
    "df_info_mult[:, [:id_in_source, :vorname, :familienname, :gsn_id, :gsn]]"
   ]
  },
  {
   "cell_type": "code",
   "execution_count": 124,
   "metadata": {},
   "outputs": [],
   "source": [
    "df_cn_all_u = unique(df_cn_all);"
   ]
  },
  {
   "cell_type": "code",
   "execution_count": 125,
   "metadata": {},
   "outputs": [
    {
     "data": {
      "text/plain": [
       "(8957, 23)"
      ]
     },
     "execution_count": 125,
     "metadata": {},
     "output_type": "execute_result"
    }
   ],
   "source": [
    "size(df_cn_all_u)"
   ]
  },
  {
   "cell_type": "markdown",
   "metadata": {},
   "source": [
    "*2022-05-12* Zwei Domherren verweisen über unterschiedliche GSN auf den gleichen Domherren GS\n",
    "*2022-05-20* Die Domherren 13486 und 38149 verweisen beide auf 700-00388-001"
   ]
  },
  {
   "cell_type": "markdown",
   "metadata": {},
   "source": [
    "end debug"
   ]
  },
  {
   "cell_type": "markdown",
   "metadata": {},
   "source": [
    "Jahreszahlen ermitteln"
   ]
  },
  {
   "cell_type": "code",
   "execution_count": 177,
   "metadata": {},
   "outputs": [
    {
     "data": {
      "text/plain": [
       "parse_date_birth (generic function with 1 method)"
      ]
     },
     "execution_count": 177,
     "metadata": {},
     "output_type": "execute_result"
    }
   ],
   "source": [
    "parse_date_birth(s) = Wds.parsemaybe(s, :lower)"
   ]
  },
  {
   "cell_type": "code",
   "execution_count": 178,
   "metadata": {},
   "outputs": [
    {
     "data": {
      "text/plain": [
       "parse_date_death (generic function with 1 method)"
      ]
     },
     "execution_count": 178,
     "metadata": {},
     "output_type": "execute_result"
    }
   ],
   "source": [
    "parse_date_death(s) = Wds.parsemaybe(s, :upper)"
   ]
  },
  {
   "cell_type": "code",
   "execution_count": 179,
   "metadata": {},
   "outputs": [],
   "source": [
    "transform!(df_cn_idx, :geburtsdatum => ByRow(parse_date_birth) => :num_date_birth);"
   ]
  },
  {
   "cell_type": "code",
   "execution_count": 180,
   "metadata": {},
   "outputs": [],
   "source": [
    "transform!(df_cn_idx, :sterbedatum => ByRow(parse_date_death) => :num_date_death);"
   ]
  },
  {
   "cell_type": "code",
   "execution_count": 181,
   "metadata": {},
   "outputs": [],
   "source": [
    "insertcols!(df_cn_idx,\n",
    "    :item_type_id => item_type_id,\n",
    ");"
   ]
  },
  {
   "cell_type": "code",
   "execution_count": 182,
   "metadata": {},
   "outputs": [
    {
     "data": {
      "text/plain": [
       "(8957, 27)"
      ]
     },
     "execution_count": 182,
     "metadata": {},
     "output_type": "execute_result"
    }
   ],
   "source": [
    "size(df_cn_idx)"
   ]
  },
  {
   "cell_type": "markdown",
   "metadata": {},
   "source": [
    "Orden zuordnen"
   ]
  },
  {
   "cell_type": "markdown",
   "metadata": {},
   "source": [
    "Bereinige Einträge"
   ]
  },
  {
   "cell_type": "code",
   "execution_count": 183,
   "metadata": {},
   "outputs": [
    {
     "data": {
      "text/plain": [
       "get_abbreviation (generic function with 1 method)"
      ]
     },
     "execution_count": 183,
     "metadata": {},
     "output_type": "execute_result"
    }
   ],
   "source": [
    "abbrev_dict = Dict(\"Kapuziner\" => \"OFMCap\", \"S. J.\" => \"SJ\")\n",
    "get_abbreviation(order) = get(abbrev_dict, order, order)"
   ]
  },
  {
   "cell_type": "code",
   "execution_count": 184,
   "metadata": {},
   "outputs": [],
   "source": [
    "transform!(df_cn_idx, :orden => ByRow(get_abbreviation) => :orden);"
   ]
  },
  {
   "cell_type": "code",
   "execution_count": 185,
   "metadata": {},
   "outputs": [],
   "source": [
    "sql = \"SELECT id as religious_order_id, abbreviation FROM religious_order\";\n",
    "df_rel_order = Wds.sql_df(sql);"
   ]
  },
  {
   "cell_type": "code",
   "execution_count": 186,
   "metadata": {},
   "outputs": [],
   "source": [
    "df_cn_idx = leftjoin(df_cn_idx, df_rel_order, on = :orden => :abbreviation, matchmissing = :notequal);"
   ]
  },
  {
   "cell_type": "code",
   "execution_count": 187,
   "metadata": {},
   "outputs": [
    {
     "data": {
      "text/plain": [
       "a_not_b (generic function with 1 method)"
      ]
     },
     "execution_count": 187,
     "metadata": {},
     "output_type": "execute_result"
    }
   ],
   "source": [
    "a_not_b(a, b) = !ismissing(a) && ismissing(b)"
   ]
  },
  {
   "cell_type": "code",
   "execution_count": 188,
   "metadata": {},
   "outputs": [],
   "source": [
    "df_cn_no_match = subset(df_cn_idx, [:orden, :religious_order_id] => ByRow(a_not_b));"
   ]
  },
  {
   "cell_type": "code",
   "execution_count": 189,
   "metadata": {},
   "outputs": [
    {
     "data": {
      "text/html": [
       "<div class=\"data-frame\"><p>0 rows × 3 columns</p><table class=\"data-frame\"><thead><tr><th></th><th>id</th><th>id_in_source</th><th>orden</th></tr><tr><th></th><th title=\"Int32\">Int32</th><th title=\"Union{Missing, String}\">String?</th><th title=\"Union{Missing, String}\">String?</th></tr></thead><tbody></tbody></table></div>"
      ],
      "text/latex": [
       "\\begin{tabular}{r|ccc}\n",
       "\t& id & id\\_in\\_source & orden\\\\\n",
       "\t\\hline\n",
       "\t& Int32 & String? & String?\\\\\n",
       "\t\\hline\n",
       "\\end{tabular}\n"
      ],
      "text/plain": [
       "\u001b[1m0×3 DataFrame\u001b[0m"
      ]
     },
     "execution_count": 189,
     "metadata": {},
     "output_type": "execute_result"
    }
   ],
   "source": [
    "df_cn_no_match[:, [:id, :id_in_source, :orden]]"
   ]
  },
  {
   "cell_type": "code",
   "execution_count": 191,
   "metadata": {
    "scrolled": true
   },
   "outputs": [
    {
     "data": {
      "text/plain": [
       "11-element Vector{Pair{Symbol, Symbol}}:\n",
       "                 :id => :id\n",
       "       :item_type_id => :item_type_id\n",
       "      :namenspraefix => :prefixname\n",
       "            :vorname => :givenname\n",
       "       :familienname => :familyname\n",
       "        :anmerkungen => :comment\n",
       "       :geburtsdatum => :date_birth\n",
       "        :sterbedatum => :date_death\n",
       "     :num_date_birth => :num_date_birth\n",
       "     :num_date_death => :num_date_death\n",
       " :religious_order_id => :religious_order_id"
      ]
     },
     "execution_count": 191,
     "metadata": {},
     "output_type": "execute_result"
    }
   ],
   "source": [
    "columns = [\n",
    "    :id => :id,\n",
    "    :item_type_id => :item_type_id,\n",
    "    :namenspraefix => :prefixname,\n",
    "    :vorname => :givenname,\n",
    "    :familienname => :familyname,\n",
    "    :anmerkungen => :comment,\n",
    "    :geburtsdatum => :date_birth,\n",
    "    :sterbedatum => :date_death,\n",
    "    :num_date_birth => :num_date_birth,\n",
    "    :num_date_death => :num_date_death,\n",
    "    :religious_order_id => :religious_order_id,\n",
    "]"
   ]
  },
  {
   "cell_type": "markdown",
   "metadata": {},
   "source": [
    "Einträge löschen (Korrektur/Update)"
   ]
  },
  {
   "cell_type": "code",
   "execution_count": 194,
   "metadata": {},
   "outputs": [],
   "source": [
    "df_cn_db = select(df_cn_idx, columns);"
   ]
  },
  {
   "cell_type": "code",
   "execution_count": 192,
   "metadata": {},
   "outputs": [
    {
     "data": {
      "text/plain": [
       "MySQL.TextCursor{true}(MySQL.Connection(host=\"127.0.0.1\", user=\"georg\", port=\"3306\", db=\"wiag2\"), \"DELETE FROM person\\nWHERE id IN (SELECT id FROM item WHERE item_type_id = 6)\", 0, -1, 0, MySQL.API.MYSQL_RES(Ptr{Nothing} @0x0000000000000000), Symbol[], Type[], Dict{Symbol, Int64}(), 0, 1, false)"
      ]
     },
     "execution_count": 192,
     "metadata": {},
     "output_type": "execute_result"
    }
   ],
   "source": [
    "table_name = \"person\"\n",
    "sql = \"DELETE FROM $(table_name)\n",
    "WHERE id IN (SELECT id FROM item WHERE item_type_id = $(item_type_id))\"\n",
    "DBInterface.execute(Wds.dbwiag, sql)"
   ]
  },
  {
   "cell_type": "code",
   "execution_count": 195,
   "metadata": {},
   "outputs": [
    {
     "name": "stderr",
     "output_type": "stream",
     "text": [
      "┌ Info: Rows inserted: 8957\n",
      "└ @ WiagDataSetup C:\\Users\\georg\\Documents\\projekte\\WiagDataSetup.jl\\src\\WiagDataSetup.jl:1216\n"
     ]
    },
    {
     "data": {
      "text/plain": [
       "8957"
      ]
     },
     "execution_count": 195,
     "metadata": {},
     "output_type": "execute_result"
    }
   ],
   "source": [
    "Wds.filltable!(\"person\", df_cn_db; clear_table=false)"
   ]
  },
  {
   "cell_type": "markdown",
   "metadata": {},
   "source": [
    "### Orden eintragen\n",
    "*2022-01-19* Die (vorläufige) Ordenstabelle basiert auf den Ordensangaben für Bischöfe und auf den Ordensangaben hier."
   ]
  },
  {
   "cell_type": "code",
   "execution_count": 198,
   "metadata": {},
   "outputs": [
    {
     "data": {
      "text/plain": [
       "11-element Vector{Union{Missing, String}}:\n",
       " missing\n",
       " \"OPraem\"\n",
       " \"SJ\"\n",
       " \"OP\"\n",
       " \"Kapuziner\"\n",
       " \"OFMObs\"\n",
       " \"S. J.\"\n",
       " \"OSB\"\n",
       " \"OT\"\n",
       " \"CRVC\"\n",
       " \"OCist\""
      ]
     },
     "execution_count": 198,
     "metadata": {},
     "output_type": "execute_result"
    }
   ],
   "source": [
    "unique(df_cn_all.orden)"
   ]
  },
  {
   "cell_type": "code",
   "execution_count": 199,
   "metadata": {},
   "outputs": [
    {
     "data": {
      "text/plain": [
       "Dict{String, String} with 2 entries:\n",
       "  \"Kapuziner\" => \"OFMCap\"\n",
       "  \"S. J.\"     => \"SJ\""
      ]
     },
     "execution_count": 199,
     "metadata": {},
     "output_type": "execute_result"
    }
   ],
   "source": [
    "lookup_order = Dict(\n",
    "    \"Kapuziner\" => \"OFMCap\",\n",
    "    \"S. J.\" => \"SJ\",\n",
    ")"
   ]
  },
  {
   "cell_type": "code",
   "execution_count": 200,
   "metadata": {},
   "outputs": [
    {
     "data": {
      "text/plain": [
       "normalize_order (generic function with 1 method)"
      ]
     },
     "execution_count": 200,
     "metadata": {},
     "output_type": "execute_result"
    }
   ],
   "source": [
    "normalize_order(order) = get(lookup_order, order, order)"
   ]
  },
  {
   "cell_type": "code",
   "execution_count": 201,
   "metadata": {},
   "outputs": [],
   "source": [
    "transform!(df_cn_idx, :orden => ByRow(normalize_order) => :orden);"
   ]
  },
  {
   "cell_type": "code",
   "execution_count": 202,
   "metadata": {},
   "outputs": [
    {
     "data": {
      "text/plain": [
       "9-element Vector{Union{Missing, String}}:\n",
       " \"OPraem\"\n",
       " \"SJ\"\n",
       " \"OP\"\n",
       " \"OFMCap\"\n",
       " \"OFMObs\"\n",
       " \"OSB\"\n",
       " \"OT\"\n",
       " \"CRVC\"\n",
       " \"OCist\""
      ]
     },
     "execution_count": 202,
     "metadata": {},
     "output_type": "execute_result"
    }
   ],
   "source": [
    "orders_gs = filter(!ismissing, unique(df_cn_idx.orden))"
   ]
  },
  {
   "cell_type": "code",
   "execution_count": 156,
   "metadata": {},
   "outputs": [],
   "source": [
    "table_name = \"religious_order\"\n",
    "sql = \"SELECT abbreviation FROM $(table_name)\"\n",
    "df_orders = Wds.sql_df(sql);"
   ]
  },
  {
   "cell_type": "code",
   "execution_count": 157,
   "metadata": {},
   "outputs": [
    {
     "data": {
      "text/plain": [
       "Union{Missing, String}[]"
      ]
     },
     "execution_count": 157,
     "metadata": {},
     "output_type": "execute_result"
    }
   ],
   "source": [
    "new_orders = setdiff(orders_gs, df_orders.abbreviation)"
   ]
  },
  {
   "cell_type": "markdown",
   "metadata": {},
   "source": [
    "Eintrag in `item`"
   ]
  },
  {
   "cell_type": "markdown",
   "metadata": {},
   "source": [
    "*2022-02-25* Nur nötig, wenn die Orden neu angelegt werden."
   ]
  },
  {
   "cell_type": "code",
   "execution_count": null,
   "metadata": {},
   "outputs": [],
   "source": [
    "table_name = \"item\";\n",
    "sql = \"SELECT * FROM $(table_name) LIMIT 0\";\n",
    "df_item = Wds.sql_df(sql);"
   ]
  },
  {
   "cell_type": "code",
   "execution_count": null,
   "metadata": {},
   "outputs": [],
   "source": [
    "id_next = 22;"
   ]
  },
  {
   "cell_type": "code",
   "execution_count": null,
   "metadata": {},
   "outputs": [],
   "source": [
    "item_type_order = 7;\n",
    "user_wiag_id = 7; # Georg\n",
    "time_stamp = Dates.format(now(), dateformat\"yyyy-mm-dd HH:MM\");"
   ]
  },
  {
   "cell_type": "code",
   "execution_count": null,
   "metadata": {},
   "outputs": [],
   "source": [
    "df_item = select(df_item, Not(:id));"
   ]
  },
  {
   "cell_type": "code",
   "execution_count": null,
   "metadata": {},
   "outputs": [],
   "source": [
    "table_name = \"item\"\n",
    "sql = \"INSERT INTO $(table_name) SET\n",
    "    item_type_id = $(item_type_order),    \n",
    "    id_in_source = $(id_next),\n",
    "    is_deleted = 0,\n",
    "    is_online = 0,\n",
    "    created_by = $(user_wiag_id),\n",
    "    date_created = '$(time_stamp)',\n",
    "    changed_by = $(user_wiag_id),\n",
    "    date_changed = '$(time_stamp)'\"\n",
    "DBInterface.execute(Wds.dbwiag, sql)"
   ]
  },
  {
   "cell_type": "markdown",
   "metadata": {},
   "source": [
    "Lies `item_id` für religiöse Orden aus"
   ]
  },
  {
   "cell_type": "code",
   "execution_count": 144,
   "metadata": {},
   "outputs": [
    {
     "ename": "LoadError",
     "evalue": "UndefVarError: id_next not defined",
     "output_type": "error",
     "traceback": [
      "UndefVarError: id_next not defined",
      "",
      "Stacktrace:",
      " [1] top-level scope",
      "   @ In[144]:2",
      " [2] eval",
      "   @ .\\boot.jl:373 [inlined]",
      " [3] include_string(mapexpr::typeof(REPL.softscope), mod::Module, code::String, filename::String)",
      "   @ Base .\\loading.jl:1196"
     ]
    }
   ],
   "source": [
    "table_name = \"item\"\n",
    "sql = \"SELECT id, id_in_source \n",
    "FROM $(table_name) \n",
    "WHERE id_in_source = $(id_next) and item_type_id = $(item_type_order)\"\n",
    "df_idx = Wds.sql_df(sql);"
   ]
  },
  {
   "cell_type": "code",
   "execution_count": 145,
   "metadata": {},
   "outputs": [
    {
     "data": {
      "text/plain": [
       "249263"
      ]
     },
     "execution_count": 145,
     "metadata": {},
     "output_type": "execute_result"
    }
   ],
   "source": [
    "item_id = df_idx[1, :id]"
   ]
  },
  {
   "cell_type": "code",
   "execution_count": 146,
   "metadata": {},
   "outputs": [
    {
     "data": {
      "text/plain": [
       "MySQL.TextCursor{true}(MySQL.Connection(host=\"127.0.0.1\", user=\"georg\", port=\"3306\", db=\"wiag2\"), \"INSERT INTO religious_order SET id = 249263, abbreviation = 'CRVC'\", 0, -1, 1, MySQL.API.MYSQL_RES(Ptr{Nothing} @0x0000000000000000), Symbol[], Type[], Dict{Symbol, Int64}(), 0, 1, false)"
      ]
     },
     "execution_count": 146,
     "metadata": {},
     "output_type": "execute_result"
    }
   ],
   "source": [
    "table_name = \"religious_order\";\n",
    "sql = \"INSERT INTO $(table_name) SET id = $(item_id), abbreviation = 'CRVC'\";\n",
    "DBInterface.execute(Wds.dbwiag, sql)"
   ]
  },
  {
   "cell_type": "markdown",
   "metadata": {},
   "source": [
    "### Literaturverweise eintragen"
   ]
  },
  {
   "cell_type": "markdown",
   "metadata": {},
   "source": [
    "IDs wieder einlesen, falls hier neu gestartet wird."
   ]
  },
  {
   "cell_type": "code",
   "execution_count": 210,
   "metadata": {},
   "outputs": [],
   "source": [
    "table_name = \"item\";\n",
    "sql = \"SELECT id, id_in_source\n",
    "FROM $(table_name)\n",
    "WHERE item_type_id = $(item_type_id)\";\n",
    "df_idx = Wds.sql_df(sql);"
   ]
  },
  {
   "cell_type": "code",
   "execution_count": 196,
   "metadata": {},
   "outputs": [
    {
     "data": {
      "text/plain": [
       "(8957, 8957)"
      ]
     },
     "execution_count": 196,
     "metadata": {},
     "output_type": "execute_result"
    }
   ],
   "source": [
    "size(df_idx, 1), size(df_p_gsn, 1)"
   ]
  },
  {
   "cell_type": "code",
   "execution_count": null,
   "metadata": {},
   "outputs": [],
   "source": [
    "find_ids(id) = id in (\"4586\", \"4590\", \"4620\", \"4623\")"
   ]
  },
  {
   "cell_type": "code",
   "execution_count": null,
   "metadata": {},
   "outputs": [],
   "source": [
    "subset(df_idx, :id_in_source => ByRow(find_ids))"
   ]
  },
  {
   "cell_type": "code",
   "execution_count": null,
   "metadata": {},
   "outputs": [],
   "source": [
    "df_p_gsn[1:5, [:id_person_gso, :vorname]]"
   ]
  },
  {
   "cell_type": "code",
   "execution_count": 212,
   "metadata": {},
   "outputs": [],
   "source": [
    "transform!(df_p_gsn, :id_person_gso => ByRow(string) => :id_in_source);"
   ]
  },
  {
   "cell_type": "code",
   "execution_count": 213,
   "metadata": {},
   "outputs": [],
   "source": [
    "df_cn_idx = innerjoin(df_p_gsn, df_idx, on = :id_in_source);"
   ]
  },
  {
   "cell_type": "code",
   "execution_count": 197,
   "metadata": {},
   "outputs": [
    {
     "data": {
      "text/plain": [
       "8957"
      ]
     },
     "execution_count": 197,
     "metadata": {},
     "output_type": "execute_result"
    }
   ],
   "source": [
    "size(df_cn_idx, 1)"
   ]
  },
  {
   "cell_type": "code",
   "execution_count": null,
   "metadata": {},
   "outputs": [],
   "source": []
  },
  {
   "cell_type": "code",
   "execution_count": 198,
   "metadata": {},
   "outputs": [],
   "source": [
    "table_name = gs_db * \".locations\";\n",
    "sql = \"SELECT item_id as item_id_gs, seiten, book_id  FROM $(table_name) \" * \n",
    "\"WHERE item_status = 'online' AND NOT deleted \" *\n",
    "\"GROUP BY item_id, book_id, seiten\"\n",
    "df_p_ref = Wds.sql_df(sql);"
   ]
  },
  {
   "cell_type": "markdown",
   "metadata": {},
   "source": [
    "Verbinde die Literaturangaben mit den relevanten Domherren"
   ]
  },
  {
   "cell_type": "code",
   "execution_count": 199,
   "metadata": {},
   "outputs": [
    {
     "data": {
      "text/plain": [
       "2-element Vector{Pair{Symbol, Symbol}}:\n",
       "      :id => :item_id\n",
       " :item_id => :item_id_gs"
      ]
     },
     "execution_count": 199,
     "metadata": {},
     "output_type": "execute_result"
    }
   ],
   "source": [
    "columns = [:id => :item_id, :item_id => :item_id_gs]"
   ]
  },
  {
   "cell_type": "code",
   "execution_count": 200,
   "metadata": {},
   "outputs": [],
   "source": [
    "df_p_ref = innerjoin(df_p_ref, select(df_cn_idx, columns), on = :item_id_gs);"
   ]
  },
  {
   "cell_type": "code",
   "execution_count": 201,
   "metadata": {},
   "outputs": [
    {
     "data": {
      "text/plain": [
       "(14717, 4)"
      ]
     },
     "execution_count": 201,
     "metadata": {},
     "output_type": "execute_result"
    }
   ],
   "source": [
    "size(df_p_ref)"
   ]
  },
  {
   "cell_type": "markdown",
   "metadata": {},
   "source": [
    "Übernimm für Domherren mit Kurzbiographie nur Literaturhinweise mit Kurzbiographien (`transfer_gso.sql`: 2021-04-26) Es ist freilich möglich, dass es mehrere Literaturverweise gibt, die eine Kurzbiographie enthalten."
   ]
  },
  {
   "cell_type": "code",
   "execution_count": 202,
   "metadata": {},
   "outputs": [],
   "source": [
    "is_bio(seiten) = contains(seiten, \"<b>\");"
   ]
  },
  {
   "cell_type": "code",
   "execution_count": 203,
   "metadata": {},
   "outputs": [],
   "source": [
    "df_p_ref_bio = subset(df_p_ref, :seiten =>ByRow(is_bio));"
   ]
  },
  {
   "cell_type": "code",
   "execution_count": 204,
   "metadata": {},
   "outputs": [
    {
     "data": {
      "text/plain": [
       "(7806, 4)"
      ]
     },
     "execution_count": 204,
     "metadata": {},
     "output_type": "execute_result"
    }
   ],
   "source": [
    "size(df_p_ref_bio)"
   ]
  },
  {
   "cell_type": "markdown",
   "metadata": {},
   "source": [
    "Bilde die Differenzmenge in Bezug auf Domherren, nicht in Bezug auf Literaturverweise"
   ]
  },
  {
   "cell_type": "code",
   "execution_count": 205,
   "metadata": {},
   "outputs": [
    {
     "data": {
      "text/plain": [
       "is_item_bio (generic function with 1 method)"
      ]
     },
     "execution_count": 205,
     "metadata": {},
     "output_type": "execute_result"
    }
   ],
   "source": [
    "is_item_bio(item_id) = item_id in unique(df_p_ref_bio.item_id)"
   ]
  },
  {
   "cell_type": "code",
   "execution_count": 206,
   "metadata": {},
   "outputs": [],
   "source": [
    "df_p_ref_mg_bio = subset(df_p_ref, :item_id => ByRow(!is_item_bio));"
   ]
  },
  {
   "cell_type": "markdown",
   "metadata": {},
   "source": [
    "Einträge löschen für Korrekturen oder ein Update"
   ]
  },
  {
   "cell_type": "code",
   "execution_count": 207,
   "metadata": {},
   "outputs": [
    {
     "data": {
      "text/plain": [
       "6"
      ]
     },
     "execution_count": 207,
     "metadata": {},
     "output_type": "execute_result"
    }
   ],
   "source": [
    "item_type_id"
   ]
  },
  {
   "cell_type": "code",
   "execution_count": 208,
   "metadata": {},
   "outputs": [
    {
     "data": {
      "text/plain": [
       "MySQL.TextCursor{true}(MySQL.Connection(host=\"127.0.0.1\", user=\"georg\", port=\"3306\", db=\"wiag2\"), \"DELETE FROM item_reference WHERE item_type_id = 6\", 0, -1, 0, MySQL.API.MYSQL_RES(Ptr{Nothing} @0x0000000000000000), Symbol[], Type[], Dict{Symbol, Int64}(), 0, 1, false)"
      ]
     },
     "execution_count": 208,
     "metadata": {},
     "output_type": "execute_result"
    }
   ],
   "source": [
    "table_name = \"item_reference\";\n",
    "sql = \"DELETE FROM $(table_name) WHERE item_type_id = $(item_type_id)\";\n",
    "DBInterface.execute(Wds.dbwiag, sql)"
   ]
  },
  {
   "cell_type": "code",
   "execution_count": 209,
   "metadata": {},
   "outputs": [],
   "source": [
    "insertcols!(df_p_ref_bio, 1, :item_type_id => item_type_id);"
   ]
  },
  {
   "cell_type": "code",
   "execution_count": 210,
   "metadata": {},
   "outputs": [],
   "source": [
    "insertcols!(df_p_ref_mg_bio, 1, :item_type_id => item_type_id);"
   ]
  },
  {
   "cell_type": "code",
   "execution_count": 211,
   "metadata": {},
   "outputs": [
    {
     "data": {
      "text/plain": [
       "4-element Vector{Pair{Symbol, Symbol}}:\n",
       "      :item_id => :item_id\n",
       "       :seiten => :page\n",
       " :item_type_id => :item_type_id\n",
       "      :book_id => :reference_id"
      ]
     },
     "execution_count": 211,
     "metadata": {},
     "output_type": "execute_result"
    }
   ],
   "source": [
    "columns = [\n",
    "    :item_id => :item_id,\n",
    "    :seiten => :page,\n",
    "    :item_type_id => :item_type_id,\n",
    "    :book_id => :reference_id,\n",
    "]"
   ]
  },
  {
   "cell_type": "code",
   "execution_count": 212,
   "metadata": {},
   "outputs": [
    {
     "name": "stderr",
     "output_type": "stream",
     "text": [
      "┌ Info: Rows inserted: 7806\n",
      "└ @ WiagDataSetup C:\\Users\\georg\\Documents\\projekte\\WiagDataSetup.jl\\src\\WiagDataSetup.jl:1216\n"
     ]
    },
    {
     "data": {
      "text/plain": [
       "7806"
      ]
     },
     "execution_count": 212,
     "metadata": {},
     "output_type": "execute_result"
    }
   ],
   "source": [
    "table_name = \"item_reference\"\n",
    "Wds.filltable!(table_name, select(df_p_ref_bio, columns))"
   ]
  },
  {
   "cell_type": "markdown",
   "metadata": {},
   "source": [
    "*2022-02-25* Es werden nur noch Literaturangaben mit Kurzbiographie berücksichtigt."
   ]
  },
  {
   "cell_type": "code",
   "execution_count": null,
   "metadata": {},
   "outputs": [],
   "source": [
    "table_name = \"item_reference\"\n",
    "Wds.filltable!(table_name, select(df_p_ref_mg_bio, columns))"
   ]
  },
  {
   "cell_type": "markdown",
   "metadata": {},
   "source": [
    "Probe:\n",
    "``` sql\n",
    "select count(distinct(item_id)) from item_reference where item_type_id = 6;\n",
    "```\n",
    "7389\n",
    "\n",
    "Es gibt also für jeden Domherren mindestens einen Literaturverweis"
   ]
  },
  {
   "cell_type": "markdown",
   "metadata": {},
   "source": [
    "### Externe URLs eintragen"
   ]
  },
  {
   "cell_type": "code",
   "execution_count": 194,
   "metadata": {},
   "outputs": [],
   "source": [
    "using MySQL, DataFrames"
   ]
  },
  {
   "cell_type": "code",
   "execution_count": 195,
   "metadata": {},
   "outputs": [
    {
     "name": "stdout",
     "output_type": "stream",
     "text": [
      "Passwort für User georg: ········\n"
     ]
    },
    {
     "data": {
      "text/plain": [
       "MySQL.Connection(host=\"127.0.0.1\", user=\"georg\", port=\"3306\", db=\"wiag2\")"
      ]
     },
     "execution_count": 195,
     "metadata": {},
     "output_type": "execute_result"
    }
   ],
   "source": [
    "Wds.setDBWIAG(user = \"georg\", db = \"wiag2\")"
   ]
  },
  {
   "cell_type": "code",
   "execution_count": 196,
   "metadata": {},
   "outputs": [
    {
     "data": {
      "text/plain": [
       "6"
      ]
     },
     "execution_count": 196,
     "metadata": {},
     "output_type": "execute_result"
    }
   ],
   "source": [
    "item_type_id = 6"
   ]
  },
  {
   "cell_type": "markdown",
   "metadata": {},
   "source": [
    "Einträge löschen (für den Fall eines Fehlers oder für ein Update)"
   ]
  },
  {
   "cell_type": "code",
   "execution_count": 213,
   "metadata": {},
   "outputs": [
    {
     "data": {
      "text/plain": [
       "MySQL.TextCursor{true}(MySQL.Connection(host=\"127.0.0.1\", user=\"georg\", port=\"3306\", db=\"wiag2\"), \"DELETE FROM id_external WHERE item_id IN (SELECT id FROM item WHERE item_type_id = 6)\", 0, -1, 0, MySQL.API.MYSQL_RES(Ptr{Nothing} @0x0000000000000000), Symbol[], Type[], Dict{Symbol, Int64}(), 0, 1, false)"
      ]
     },
     "execution_count": 213,
     "metadata": {},
     "output_type": "execute_result"
    }
   ],
   "source": [
    "sql = \"DELETE FROM id_external \" *\n",
    "\"WHERE item_id IN (SELECT id FROM item WHERE item_type_id = $(item_type_id))\"\n",
    "DBInterface.execute(Wds.dbwiag, sql)"
   ]
  },
  {
   "cell_type": "code",
   "execution_count": 214,
   "metadata": {},
   "outputs": [
    {
     "data": {
      "text/html": [
       "<div class=\"data-frame\"><p>6 rows × 2 columns</p><table class=\"data-frame\"><thead><tr><th></th><th>id</th><th>url_name_formatter</th></tr><tr><th></th><th title=\"Int32\">Int32</th><th title=\"Union{Missing, String}\">String?</th></tr></thead><tbody><tr><th>1</th><td>1</td><td>Gemeinsame Normdatei (GND) ID</td></tr><tr><th>2</th><td>2</td><td>Wikidata</td></tr><tr><th>3</th><td>3</td><td>Wikipedia-Artikel</td></tr><tr><th>4</th><td>4</td><td>VIAF-ID</td></tr><tr><th>5</th><td>5</td><td>WIAG-ID</td></tr><tr><th>6</th><td>200</td><td>Personendatenbank der Germania Sacra</td></tr></tbody></table></div>"
      ],
      "text/latex": [
       "\\begin{tabular}{r|cc}\n",
       "\t& id & url\\_name\\_formatter\\\\\n",
       "\t\\hline\n",
       "\t& Int32 & String?\\\\\n",
       "\t\\hline\n",
       "\t1 & 1 & Gemeinsame Normdatei (GND) ID \\\\\n",
       "\t2 & 2 & Wikidata \\\\\n",
       "\t3 & 3 & Wikipedia-Artikel \\\\\n",
       "\t4 & 4 & VIAF-ID \\\\\n",
       "\t5 & 5 & WIAG-ID \\\\\n",
       "\t6 & 200 & Personendatenbank der Germania Sacra \\\\\n",
       "\\end{tabular}\n"
      ],
      "text/plain": [
       "\u001b[1m6×2 DataFrame\u001b[0m\n",
       "\u001b[1m Row \u001b[0m│\u001b[1m id    \u001b[0m\u001b[1m url_name_formatter                \u001b[0m\n",
       "\u001b[1m     \u001b[0m│\u001b[90m Int32 \u001b[0m\u001b[90m String?                           \u001b[0m\n",
       "─────┼──────────────────────────────────────────\n",
       "   1 │     1  Gemeinsame Normdatei (GND) ID\n",
       "   2 │     2  Wikidata\n",
       "   3 │     3  Wikipedia-Artikel\n",
       "   4 │     4  VIAF-ID\n",
       "   5 │     5  WIAG-ID\n",
       "   6 │   200  Personendatenbank der Germania S…"
      ]
     },
     "execution_count": 214,
     "metadata": {},
     "output_type": "execute_result"
    }
   ],
   "source": [
    "sql = \"SELECT id, url_name_formatter FROM authority \" *\n",
    "\"WHERE id IN (1, 2, 3, 4, 5, 200)\"\n",
    "Wds.sql_df(sql)"
   ]
  },
  {
   "cell_type": "markdown",
   "metadata": {},
   "source": [
    "**VIAF**, dann GND, GSN"
   ]
  },
  {
   "cell_type": "code",
   "execution_count": 215,
   "metadata": {},
   "outputs": [
    {
     "data": {
      "text/plain": [
       "4"
      ]
     },
     "execution_count": 215,
     "metadata": {},
     "output_type": "execute_result"
    }
   ],
   "source": [
    "authority_id = 4 # siehe oben"
   ]
  },
  {
   "cell_type": "code",
   "execution_count": 216,
   "metadata": {},
   "outputs": [],
   "source": [
    "col = :viaf;\n",
    "df_p_auth = dropmissing(df_cn_idx, col);\n",
    "insertcols!(df_p_auth, 1, :authority_id => authority_id);\n",
    "transform!(df_p_auth, col => :value);"
   ]
  },
  {
   "cell_type": "code",
   "execution_count": 217,
   "metadata": {},
   "outputs": [
    {
     "data": {
      "text/plain": [
       "(1, 30)"
      ]
     },
     "execution_count": 217,
     "metadata": {},
     "output_type": "execute_result"
    }
   ],
   "source": [
    "size(df_p_auth)"
   ]
  },
  {
   "cell_type": "code",
   "execution_count": 218,
   "metadata": {},
   "outputs": [
    {
     "data": {
      "text/html": [
       "<div class=\"data-frame\"><p>1 rows × 30 columns (omitted printing of 21 columns)</p><table class=\"data-frame\"><thead><tr><th></th><th>authority_id</th><th>id</th><th>id_in_source</th><th>id_person_gso</th><th>item_id</th><th>namenspraefix</th><th>vorname</th><th>familienname</th><th>sterbedatum</th></tr><tr><th></th><th title=\"Int64\">Int64</th><th title=\"Int32\">Int32</th><th title=\"Union{Missing, String}\">String?</th><th title=\"String\">String</th><th title=\"Int32\">Int32</th><th title=\"Union{Missing, String}\">String?</th><th title=\"Union{Missing, String}\">String?</th><th title=\"Union{Missing, String}\">String?</th><th title=\"Union{Missing, String}\">String?</th></tr></thead><tbody><tr><th>1</th><td>4</td><td>308799</td><td>325149</td><td>325149</td><td>331572</td><td>von</td><td>Joseph Christian</td><td>Hohenlohe-Bartenstein</td><td>1817</td></tr></tbody></table></div>"
      ],
      "text/latex": [
       "\\begin{tabular}{r|cccccccccc}\n",
       "\t& authority\\_id & id & id\\_in\\_source & id\\_person\\_gso & item\\_id & namenspraefix & vorname & familienname & sterbedatum & \\\\\n",
       "\t\\hline\n",
       "\t& Int64 & Int32 & String? & String & Int32 & String? & String? & String? & String? & \\\\\n",
       "\t\\hline\n",
       "\t1 & 4 & 308799 & 325149 & 325149 & 331572 & von & Joseph Christian & Hohenlohe-Bartenstein & 1817 & $\\dots$ \\\\\n",
       "\\end{tabular}\n"
      ],
      "text/plain": [
       "\u001b[1m1×30 DataFrame\u001b[0m\n",
       "\u001b[1m Row \u001b[0m│\u001b[1m authority_id \u001b[0m\u001b[1m id     \u001b[0m\u001b[1m id_in_source \u001b[0m\u001b[1m id_person_gso \u001b[0m\u001b[1m item_id \u001b[0m\u001b[1m namenspraefix \u001b[0m\u001b[1m vorname          \u001b[0m\u001b[1m familienname      \u001b[0m ⋯\n",
       "\u001b[1m     \u001b[0m│\u001b[90m Int64        \u001b[0m\u001b[90m Int32  \u001b[0m\u001b[90m String?      \u001b[0m\u001b[90m String        \u001b[0m\u001b[90m Int32   \u001b[0m\u001b[90m String?       \u001b[0m\u001b[90m String?          \u001b[0m\u001b[90m String?           \u001b[0m ⋯\n",
       "─────┼──────────────────────────────────────────────────────────────────────────────────────────────────────────────────\n",
       "   1 │            4  308799  325149        325149          331572  von            Joseph Christian  Hohenlohe-Bartenst ⋯\n",
       "\u001b[36m                                                                                                      23 columns omitted\u001b[0m"
      ]
     },
     "execution_count": 218,
     "metadata": {},
     "output_type": "execute_result"
    }
   ],
   "source": [
    "df_p_auth"
   ]
  },
  {
   "cell_type": "code",
   "execution_count": 219,
   "metadata": {},
   "outputs": [
    {
     "data": {
      "text/plain": [
       "3-element Vector{Pair{Symbol, Symbol}}:\n",
       "           :id => :item_id\n",
       " :authority_id => :authority_id\n",
       "        :value => :value"
      ]
     },
     "execution_count": 219,
     "metadata": {},
     "output_type": "execute_result"
    }
   ],
   "source": [
    "columns = [\n",
    "    :id => :item_id,\n",
    "    :authority_id => :authority_id,\n",
    "    :value => :value,\n",
    "]"
   ]
  },
  {
   "cell_type": "code",
   "execution_count": 220,
   "metadata": {},
   "outputs": [
    {
     "name": "stderr",
     "output_type": "stream",
     "text": [
      "┌ Info: Rows inserted: 1\n",
      "└ @ WiagDataSetup C:\\Users\\georg\\Documents\\projekte\\WiagDataSetup.jl\\src\\WiagDataSetup.jl:1216\n"
     ]
    },
    {
     "data": {
      "text/plain": [
       "1"
      ]
     },
     "execution_count": 220,
     "metadata": {},
     "output_type": "execute_result"
    }
   ],
   "source": [
    "table_name = \"id_external\"\n",
    "Wds.filltable!(\"id_external\", select(df_p_auth, columns))"
   ]
  },
  {
   "cell_type": "markdown",
   "metadata": {},
   "source": [
    "**GND**"
   ]
  },
  {
   "cell_type": "code",
   "execution_count": 221,
   "metadata": {},
   "outputs": [
    {
     "data": {
      "text/plain": [
       "1"
      ]
     },
     "execution_count": 221,
     "metadata": {},
     "output_type": "execute_result"
    }
   ],
   "source": [
    "authority_id = 1 # siehe oben"
   ]
  },
  {
   "cell_type": "code",
   "execution_count": 222,
   "metadata": {},
   "outputs": [],
   "source": [
    "col = :gndnummer\n",
    "df_p_auth = dropmissing(df_cn_idx, col);\n",
    "insertcols!(df_p_auth, 1, :authority_id => authority_id);\n",
    "transform!(df_p_auth, col => :value);"
   ]
  },
  {
   "cell_type": "code",
   "execution_count": 223,
   "metadata": {},
   "outputs": [
    {
     "data": {
      "text/plain": [
       "(1200, 30)"
      ]
     },
     "execution_count": 223,
     "metadata": {},
     "output_type": "execute_result"
    }
   ],
   "source": [
    "size(df_p_auth)"
   ]
  },
  {
   "cell_type": "code",
   "execution_count": 224,
   "metadata": {},
   "outputs": [
    {
     "name": "stderr",
     "output_type": "stream",
     "text": [
      "┌ Info: Rows inserted: 1200\n",
      "└ @ WiagDataSetup C:\\Users\\georg\\Documents\\projekte\\WiagDataSetup.jl\\src\\WiagDataSetup.jl:1216\n"
     ]
    },
    {
     "data": {
      "text/plain": [
       "1200"
      ]
     },
     "execution_count": 224,
     "metadata": {},
     "output_type": "execute_result"
    }
   ],
   "source": [
    "table_name = \"id_external\"\n",
    "Wds.filltable!(\"id_external\", select(df_p_auth, columns))"
   ]
  },
  {
   "cell_type": "markdown",
   "metadata": {},
   "source": [
    "**GSN**"
   ]
  },
  {
   "cell_type": "code",
   "execution_count": 225,
   "metadata": {},
   "outputs": [
    {
     "data": {
      "text/plain": [
       "200"
      ]
     },
     "execution_count": 225,
     "metadata": {},
     "output_type": "execute_result"
    }
   ],
   "source": [
    "authority_id = 200 # siehe oben"
   ]
  },
  {
   "cell_type": "code",
   "execution_count": 226,
   "metadata": {},
   "outputs": [],
   "source": [
    "col = :gsn\n",
    "df_p_auth = dropmissing(df_cn_idx, col);\n",
    "insertcols!(df_p_auth, 1, :authority_id => authority_id);\n",
    "transform!(df_p_auth, col => :value);"
   ]
  },
  {
   "cell_type": "code",
   "execution_count": 227,
   "metadata": {},
   "outputs": [
    {
     "name": "stderr",
     "output_type": "stream",
     "text": [
      "┌ Info: Rows inserted: 8957\n",
      "└ @ WiagDataSetup C:\\Users\\georg\\Documents\\projekte\\WiagDataSetup.jl\\src\\WiagDataSetup.jl:1216\n"
     ]
    },
    {
     "data": {
      "text/plain": [
       "8957"
      ]
     },
     "execution_count": 227,
     "metadata": {},
     "output_type": "execute_result"
    }
   ],
   "source": [
    "table_name = \"id_external\"\n",
    "Wds.filltable!(\"id_external\", select(df_p_auth, columns))"
   ]
  },
  {
   "cell_type": "markdown",
   "metadata": {},
   "source": [
    "### Namensvarianten eintragen"
   ]
  },
  {
   "cell_type": "code",
   "execution_count": 228,
   "metadata": {},
   "outputs": [],
   "source": [
    "using MySQL, DataFrames"
   ]
  },
  {
   "cell_type": "code",
   "execution_count": 229,
   "metadata": {},
   "outputs": [],
   "source": [
    "col = :familiennamenvarianten;\n",
    "df_fnv = dropmissing(df_cn_idx, col);"
   ]
  },
  {
   "cell_type": "code",
   "execution_count": 230,
   "metadata": {},
   "outputs": [
    {
     "data": {
      "text/plain": [
       "(1893, 28)"
      ]
     },
     "execution_count": 230,
     "metadata": {},
     "output_type": "execute_result"
    }
   ],
   "source": [
    "size(df_fnv)"
   ]
  },
  {
   "cell_type": "code",
   "execution_count": 231,
   "metadata": {},
   "outputs": [],
   "source": [
    "df_exp = Wds.expand_column(df_fnv, col, delim = \",\");"
   ]
  },
  {
   "cell_type": "code",
   "execution_count": 232,
   "metadata": {},
   "outputs": [
    {
     "data": {
      "text/plain": [
       "(2850, 28)"
      ]
     },
     "execution_count": 232,
     "metadata": {},
     "output_type": "execute_result"
    }
   ],
   "source": [
    "size(df_exp)"
   ]
  },
  {
   "cell_type": "code",
   "execution_count": 233,
   "metadata": {
    "scrolled": true
   },
   "outputs": [
    {
     "data": {
      "text/html": [
       "<div class=\"data-frame\"><p>8 rows × 3 columns</p><table class=\"data-frame\"><thead><tr><th></th><th>vorname</th><th>familienname</th><th>familiennamenvarianten</th></tr><tr><th></th><th title=\"Union{Missing, String}\">String?</th><th title=\"Union{Missing, String}\">String?</th><th title=\"String\">String</th></tr></thead><tbody><tr><th>1</th><td>Johann</td><td>Schroder</td><td>Schrader</td></tr><tr><th>2</th><td>Johann</td><td>Schulte</td><td>Schultz</td></tr><tr><th>3</th><td>Johannes</td><td>Schwichelt</td><td>de Swichelte</td></tr><tr><th>4</th><td>Johann</td><td>Sthimer</td><td>Stymer</td></tr><tr><th>5</th><td>Johann</td><td>Sthimer</td><td>Stimer</td></tr><tr><th>6</th><td>Johann</td><td>Went</td><td>Wendt</td></tr><tr><th>7</th><td>Johann</td><td>Witgerber</td><td>Witgerwer</td></tr><tr><th>8</th><td>Kaspar</td><td>Han</td><td>Hahne</td></tr></tbody></table></div>"
      ],
      "text/latex": [
       "\\begin{tabular}{r|ccc}\n",
       "\t& vorname & familienname & familiennamenvarianten\\\\\n",
       "\t\\hline\n",
       "\t& String? & String? & String\\\\\n",
       "\t\\hline\n",
       "\t1 & Johann & Schroder & Schrader \\\\\n",
       "\t2 & Johann & Schulte & Schultz \\\\\n",
       "\t3 & Johannes & Schwichelt & de Swichelte \\\\\n",
       "\t4 & Johann & Sthimer & Stymer \\\\\n",
       "\t5 & Johann & Sthimer & Stimer \\\\\n",
       "\t6 & Johann & Went & Wendt \\\\\n",
       "\t7 & Johann & Witgerber & Witgerwer \\\\\n",
       "\t8 & Kaspar & Han & Hahne \\\\\n",
       "\\end{tabular}\n"
      ],
      "text/plain": [
       "\u001b[1m8×3 DataFrame\u001b[0m\n",
       "\u001b[1m Row \u001b[0m│\u001b[1m vorname  \u001b[0m\u001b[1m familienname \u001b[0m\u001b[1m familiennamenvarianten \u001b[0m\n",
       "\u001b[1m     \u001b[0m│\u001b[90m String?  \u001b[0m\u001b[90m String?      \u001b[0m\u001b[90m String                 \u001b[0m\n",
       "─────┼────────────────────────────────────────────────\n",
       "   1 │ Johann    Schroder      Schrader\n",
       "   2 │ Johann    Schulte       Schultz\n",
       "   3 │ Johannes  Schwichelt    de Swichelte\n",
       "   4 │ Johann    Sthimer       Stymer\n",
       "   5 │ Johann    Sthimer       Stimer\n",
       "   6 │ Johann    Went          Wendt\n",
       "   7 │ Johann    Witgerber     Witgerwer\n",
       "   8 │ Kaspar    Han           Hahne"
      ]
     },
     "execution_count": 233,
     "metadata": {},
     "output_type": "execute_result"
    }
   ],
   "source": [
    "df_exp[150:157, [:vorname, :familienname, col]]"
   ]
  },
  {
   "cell_type": "markdown",
   "metadata": {},
   "source": [
    "Spalte `lang` hat den Default-Wert 'de'."
   ]
  },
  {
   "cell_type": "code",
   "execution_count": 234,
   "metadata": {},
   "outputs": [
    {
     "data": {
      "text/plain": [
       "2-element Vector{Pair{Symbol, Symbol}}:\n",
       "                     :id => :person_id\n",
       " :familiennamenvarianten => :name"
      ]
     },
     "execution_count": 234,
     "metadata": {},
     "output_type": "execute_result"
    }
   ],
   "source": [
    "columns = [\n",
    "    :id => :person_id,\n",
    "    :familiennamenvarianten => :name,\n",
    "]"
   ]
  },
  {
   "cell_type": "markdown",
   "metadata": {},
   "source": [
    "Einträge löschen (Korrekturen, Daten-Update)"
   ]
  },
  {
   "cell_type": "code",
   "execution_count": 235,
   "metadata": {},
   "outputs": [
    {
     "data": {
      "text/plain": [
       "6"
      ]
     },
     "execution_count": 235,
     "metadata": {},
     "output_type": "execute_result"
    }
   ],
   "source": [
    "item_type_id"
   ]
  },
  {
   "cell_type": "code",
   "execution_count": 236,
   "metadata": {},
   "outputs": [
    {
     "data": {
      "text/plain": [
       "MySQL.TextCursor{true}(MySQL.Connection(host=\"127.0.0.1\", user=\"georg\", port=\"3306\", db=\"wiag2\"), \"DELETE FROM familyname_variant\\nWHERE person_id IN\\n(SELECT id FROM item WHERE item_type_id = 6)\", 0, -1, 0, MySQL.API.MYSQL_RES(Ptr{Nothing} @0x0000000000000000), Symbol[], Type[], Dict{Symbol, Int64}(), 0, 1, false)"
      ]
     },
     "execution_count": 236,
     "metadata": {},
     "output_type": "execute_result"
    }
   ],
   "source": [
    "table_name = \"familyname_variant\";\n",
    "sql = \"DELETE FROM $(table_name)\n",
    "WHERE person_id IN\n",
    "(SELECT id FROM item WHERE item_type_id = $(item_type_id))\";\n",
    "DBInterface.execute(Wds.dbwiag, sql)"
   ]
  },
  {
   "cell_type": "code",
   "execution_count": 237,
   "metadata": {},
   "outputs": [
    {
     "name": "stderr",
     "output_type": "stream",
     "text": [
      "┌ Info: Rows inserted: 2850\n",
      "└ @ WiagDataSetup C:\\Users\\georg\\Documents\\projekte\\WiagDataSetup.jl\\src\\WiagDataSetup.jl:1216\n"
     ]
    },
    {
     "data": {
      "text/plain": [
       "2850"
      ]
     },
     "execution_count": 237,
     "metadata": {},
     "output_type": "execute_result"
    }
   ],
   "source": [
    "table_name = \"familyname_variant\"\n",
    "Wds.filltable!(table_name, select(df_exp, columns))"
   ]
  },
  {
   "cell_type": "markdown",
   "metadata": {},
   "source": [
    "Vornamen"
   ]
  },
  {
   "cell_type": "code",
   "execution_count": 238,
   "metadata": {},
   "outputs": [],
   "source": [
    "col = :vornamenvarianten;\n",
    "df_gnv = dropmissing(df_cn_idx, col);"
   ]
  },
  {
   "cell_type": "code",
   "execution_count": 239,
   "metadata": {},
   "outputs": [
    {
     "data": {
      "text/plain": [
       "(1188, 28)"
      ]
     },
     "execution_count": 239,
     "metadata": {},
     "output_type": "execute_result"
    }
   ],
   "source": [
    "size(df_gnv)"
   ]
  },
  {
   "cell_type": "code",
   "execution_count": 240,
   "metadata": {},
   "outputs": [],
   "source": [
    "df_exp = Wds.expand_column(df_gnv, col, delim = r\", *\");"
   ]
  },
  {
   "cell_type": "code",
   "execution_count": 241,
   "metadata": {},
   "outputs": [
    {
     "data": {
      "text/plain": [
       "(1572, 28)"
      ]
     },
     "execution_count": 241,
     "metadata": {},
     "output_type": "execute_result"
    }
   ],
   "source": [
    "size(df_exp)"
   ]
  },
  {
   "cell_type": "code",
   "execution_count": 242,
   "metadata": {},
   "outputs": [
    {
     "data": {
      "text/html": [
       "<div class=\"data-frame\"><p>8 rows × 3 columns</p><table class=\"data-frame\"><thead><tr><th></th><th>vorname</th><th>familienname</th><th>vornamenvarianten</th></tr><tr><th></th><th title=\"Union{Missing, String}\">String?</th><th title=\"Union{Missing, String}\">String?</th><th title=\"String\">String</th></tr></thead><tbody><tr><th>1</th><td>Giselbert</td><td><em>missing</em></td><td>Giselbertus</td></tr><tr><th>2</th><td>Giselbert</td><td>Rump</td><td>Giselbertus</td></tr><tr><th>3</th><td>Giselbert</td><td>Warendorf</td><td>Giselbertus</td></tr><tr><th>4</th><td>Gottfried</td><td><em>missing</em></td><td>Gotfridus</td></tr><tr><th>5</th><td>Godefridus</td><td><em>missing</em></td><td>Gottfried</td></tr><tr><th>6</th><td>Godefridus</td><td><em>missing</em></td><td>Gottfried</td></tr><tr><th>7</th><td>Gottfried</td><td>Paderborn</td><td>Godefridus</td></tr><tr><th>8</th><td>Gottschalk</td><td><em>missing</em></td><td>Godascalcus</td></tr></tbody></table></div>"
      ],
      "text/latex": [
       "\\begin{tabular}{r|ccc}\n",
       "\t& vorname & familienname & vornamenvarianten\\\\\n",
       "\t\\hline\n",
       "\t& String? & String? & String\\\\\n",
       "\t\\hline\n",
       "\t1 & Giselbert & \\emph{missing} & Giselbertus \\\\\n",
       "\t2 & Giselbert & Rump & Giselbertus \\\\\n",
       "\t3 & Giselbert & Warendorf & Giselbertus \\\\\n",
       "\t4 & Gottfried & \\emph{missing} & Gotfridus \\\\\n",
       "\t5 & Godefridus & \\emph{missing} & Gottfried \\\\\n",
       "\t6 & Godefridus & \\emph{missing} & Gottfried \\\\\n",
       "\t7 & Gottfried & Paderborn & Godefridus \\\\\n",
       "\t8 & Gottschalk & \\emph{missing} & Godascalcus \\\\\n",
       "\\end{tabular}\n"
      ],
      "text/plain": [
       "\u001b[1m8×3 DataFrame\u001b[0m\n",
       "\u001b[1m Row \u001b[0m│\u001b[1m vorname    \u001b[0m\u001b[1m familienname \u001b[0m\u001b[1m vornamenvarianten \u001b[0m\n",
       "\u001b[1m     \u001b[0m│\u001b[90m String?    \u001b[0m\u001b[90m String?      \u001b[0m\u001b[90m String            \u001b[0m\n",
       "─────┼─────────────────────────────────────────────\n",
       "   1 │ Giselbert  \u001b[90m missing      \u001b[0m Giselbertus\n",
       "   2 │ Giselbert   Rump          Giselbertus\n",
       "   3 │ Giselbert   Warendorf     Giselbertus\n",
       "   4 │ Gottfried  \u001b[90m missing      \u001b[0m Gotfridus\n",
       "   5 │ Godefridus \u001b[90m missing      \u001b[0m Gottfried\n",
       "   6 │ Godefridus \u001b[90m missing      \u001b[0m Gottfried\n",
       "   7 │ Gottfried   Paderborn     Godefridus\n",
       "   8 │ Gottschalk \u001b[90m missing      \u001b[0m Godascalcus"
      ]
     },
     "execution_count": 242,
     "metadata": {},
     "output_type": "execute_result"
    }
   ],
   "source": [
    "df_exp[150:157, [:vorname, :familienname, col]]"
   ]
  },
  {
   "cell_type": "code",
   "execution_count": 243,
   "metadata": {},
   "outputs": [
    {
     "data": {
      "text/plain": [
       "2-element Vector{Pair{Symbol, Symbol}}:\n",
       "                :id => :person_id\n",
       " :vornamenvarianten => :name"
      ]
     },
     "execution_count": 243,
     "metadata": {},
     "output_type": "execute_result"
    }
   ],
   "source": [
    "columns = [\n",
    "    :id => :person_id,\n",
    "    col => :name,\n",
    "]"
   ]
  },
  {
   "cell_type": "markdown",
   "metadata": {},
   "source": [
    "Einträge löschen (Korrekturen, Daten-Update)"
   ]
  },
  {
   "cell_type": "code",
   "execution_count": 244,
   "metadata": {},
   "outputs": [
    {
     "data": {
      "text/plain": [
       "6"
      ]
     },
     "execution_count": 244,
     "metadata": {},
     "output_type": "execute_result"
    }
   ],
   "source": [
    "item_type_id"
   ]
  },
  {
   "cell_type": "code",
   "execution_count": 245,
   "metadata": {},
   "outputs": [
    {
     "data": {
      "text/plain": [
       "MySQL.TextCursor{true}(MySQL.Connection(host=\"127.0.0.1\", user=\"georg\", port=\"3306\", db=\"wiag2\"), \"DELETE FROM givenname_variant\\nWHERE person_id IN\\n(SELECT id FROM item WHERE item_type_id = 6)\", 0, -1, 0, MySQL.API.MYSQL_RES(Ptr{Nothing} @0x0000000000000000), Symbol[], Type[], Dict{Symbol, Int64}(), 0, 1, false)"
      ]
     },
     "execution_count": 245,
     "metadata": {},
     "output_type": "execute_result"
    }
   ],
   "source": [
    "table_name = \"givenname_variant\";\n",
    "sql = \"DELETE FROM $(table_name)\n",
    "WHERE person_id IN\n",
    "(SELECT id FROM item WHERE item_type_id = $(item_type_id))\";\n",
    "DBInterface.execute(Wds.dbwiag, sql)"
   ]
  },
  {
   "cell_type": "code",
   "execution_count": 246,
   "metadata": {},
   "outputs": [
    {
     "name": "stderr",
     "output_type": "stream",
     "text": [
      "┌ Info: Rows inserted: 1572\n",
      "└ @ WiagDataSetup C:\\Users\\georg\\Documents\\projekte\\WiagDataSetup.jl\\src\\WiagDataSetup.jl:1216\n"
     ]
    },
    {
     "data": {
      "text/plain": [
       "1572"
      ]
     },
     "execution_count": 246,
     "metadata": {},
     "output_type": "execute_result"
    }
   ],
   "source": [
    "table_name = \"givenname_variant\"\n",
    "Wds.filltable!(table_name, select(df_exp, columns))"
   ]
  },
  {
   "cell_type": "markdown",
   "metadata": {},
   "source": [
    "### Suchvarianten eintragen (name_lookup)"
   ]
  },
  {
   "cell_type": "code",
   "execution_count": 247,
   "metadata": {},
   "outputs": [
    {
     "data": {
      "text/plain": [
       "Dict{Symbol, Symbol} with 5 entries:\n",
       "  :vorname                => :givenname\n",
       "  :namenspraefix          => :prefix_name\n",
       "  :familiennamenvarianten => :familyname_variant\n",
       "  :familienname           => :familyname\n",
       "  :vornamenvarianten      => :givenname_variant"
      ]
     },
     "execution_count": 247,
     "metadata": {},
     "output_type": "execute_result"
    }
   ],
   "source": [
    "columns = [    \n",
    "    :vorname => :givenname,\n",
    "    :vornamenvarianten => :givenname_variant,\n",
    "    :namenspraefix => :prefix_name,\n",
    "    :familienname => :familyname,\n",
    "    :familiennamenvarianten => :familyname_variant,\n",
    "];\n",
    "lookup_columns = Dict(columns)"
   ]
  },
  {
   "cell_type": "code",
   "execution_count": 248,
   "metadata": {},
   "outputs": [],
   "source": [
    "rename!(df_cn_idx, lookup_columns);"
   ]
  },
  {
   "cell_type": "code",
   "execution_count": 249,
   "metadata": {
    "scrolled": true
   },
   "outputs": [],
   "source": [
    "df_nl = Wds.create_name_lookup(df_cn_idx); # schaut gut aus"
   ]
  },
  {
   "cell_type": "code",
   "execution_count": 250,
   "metadata": {},
   "outputs": [
    {
     "data": {
      "text/plain": [
       "3-element Vector{String}:\n",
       " \"person_id\"\n",
       " \"gn_fn\"\n",
       " \"gn_prefix_fn\""
      ]
     },
     "execution_count": 250,
     "metadata": {},
     "output_type": "execute_result"
    }
   ],
   "source": [
    "names(df_nl)"
   ]
  },
  {
   "cell_type": "code",
   "execution_count": 251,
   "metadata": {},
   "outputs": [
    {
     "data": {
      "text/plain": [
       "(8957,)"
      ]
     },
     "execution_count": 251,
     "metadata": {},
     "output_type": "execute_result"
    }
   ],
   "source": [
    "size(unique(df_nl.person_id))"
   ]
  },
  {
   "cell_type": "code",
   "execution_count": 252,
   "metadata": {},
   "outputs": [],
   "source": [
    "df_nl_empty = filter(:gn_fn => ismissing, df_nl);"
   ]
  },
  {
   "cell_type": "code",
   "execution_count": 253,
   "metadata": {},
   "outputs": [
    {
     "data": {
      "text/plain": [
       "(0, 3)"
      ]
     },
     "execution_count": 253,
     "metadata": {},
     "output_type": "execute_result"
    }
   ],
   "source": [
    "size(df_nl_empty)"
   ]
  },
  {
   "cell_type": "code",
   "execution_count": 254,
   "metadata": {},
   "outputs": [
    {
     "data": {
      "text/html": [
       "<div class=\"data-frame\"><p>12 rows × 3 columns</p><table class=\"data-frame\"><thead><tr><th></th><th>person_id</th><th>gn_fn</th><th>gn_prefix_fn</th></tr><tr><th></th><th title=\"Int64\">Int64</th><th title=\"Union{Missing, String}\">String?</th><th title=\"Union{Missing, String}\">String?</th></tr></thead><tbody><tr><th>1</th><td>303521</td><td>Johannes Sickenbeck</td><td>Johannes von Sickenbeck</td></tr><tr><th>2</th><td>303520</td><td>Johannes Stael</td><td><em>missing</em></td></tr><tr><th>3</th><td>303519</td><td>Johannes Stael</td><td><em>missing</em></td></tr><tr><th>4</th><td>303518</td><td>Johannes Unna</td><td>Johannes von Unna</td></tr><tr><th>5</th><td>303517</td><td>Johannes Wyse</td><td><em>missing</em></td></tr><tr><th>6</th><td>303516</td><td>Jordanus</td><td><em>missing</em></td></tr><tr><th>7</th><td>303515</td><td>Jordanus Detten</td><td>Jordanus von Detten</td></tr><tr><th>8</th><td>303515</td><td>Jordanus de Thete</td><td>Jordanus von de Thete</td></tr><tr><th>9</th><td>303514</td><td>Lambert</td><td><em>missing</em></td></tr><tr><th>10</th><td>303514</td><td>Lambertus</td><td><em>missing</em></td></tr><tr><th>11</th><td>303513</td><td>Engelbert Landsberg</td><td>Engelbert von Landsberg</td></tr><tr><th>12</th><td>303512</td><td>Ferdinand Franz Adolf Landsberg</td><td>Ferdinand Franz Adolf Freiherr von Landsberg</td></tr></tbody></table></div>"
      ],
      "text/latex": [
       "\\begin{tabular}{r|ccc}\n",
       "\t& person\\_id & gn\\_fn & gn\\_prefix\\_fn\\\\\n",
       "\t\\hline\n",
       "\t& Int64 & String? & String?\\\\\n",
       "\t\\hline\n",
       "\t1 & 303521 & Johannes Sickenbeck & Johannes von Sickenbeck \\\\\n",
       "\t2 & 303520 & Johannes Stael & \\emph{missing} \\\\\n",
       "\t3 & 303519 & Johannes Stael & \\emph{missing} \\\\\n",
       "\t4 & 303518 & Johannes Unna & Johannes von Unna \\\\\n",
       "\t5 & 303517 & Johannes Wyse & \\emph{missing} \\\\\n",
       "\t6 & 303516 & Jordanus & \\emph{missing} \\\\\n",
       "\t7 & 303515 & Jordanus Detten & Jordanus von Detten \\\\\n",
       "\t8 & 303515 & Jordanus de Thete & Jordanus von de Thete \\\\\n",
       "\t9 & 303514 & Lambert & \\emph{missing} \\\\\n",
       "\t10 & 303514 & Lambertus & \\emph{missing} \\\\\n",
       "\t11 & 303513 & Engelbert Landsberg & Engelbert von Landsberg \\\\\n",
       "\t12 & 303512 & Ferdinand Franz Adolf Landsberg & Ferdinand Franz Adolf Freiherr von Landsberg \\\\\n",
       "\\end{tabular}\n"
      ],
      "text/plain": [
       "\u001b[1m12×3 DataFrame\u001b[0m\n",
       "\u001b[1m Row \u001b[0m│\u001b[1m person_id \u001b[0m\u001b[1m gn_fn                           \u001b[0m\u001b[1m gn_prefix_fn                      \u001b[0m\n",
       "\u001b[1m     \u001b[0m│\u001b[90m Int64     \u001b[0m\u001b[90m String?                         \u001b[0m\u001b[90m String?                           \u001b[0m\n",
       "─────┼───────────────────────────────────────────────────────────────────────────────\n",
       "   1 │    303521  Johannes Sickenbeck              Johannes von Sickenbeck\n",
       "   2 │    303520  Johannes Stael                  \u001b[90m missing                           \u001b[0m\n",
       "   3 │    303519  Johannes Stael                  \u001b[90m missing                           \u001b[0m\n",
       "   4 │    303518  Johannes Unna                    Johannes von Unna\n",
       "   5 │    303517  Johannes Wyse                   \u001b[90m missing                           \u001b[0m\n",
       "   6 │    303516  Jordanus                        \u001b[90m missing                           \u001b[0m\n",
       "   7 │    303515  Jordanus Detten                  Jordanus von Detten\n",
       "   8 │    303515  Jordanus de Thete                Jordanus von de Thete\n",
       "   9 │    303514  Lambert                         \u001b[90m missing                           \u001b[0m\n",
       "  10 │    303514  Lambertus                       \u001b[90m missing                           \u001b[0m\n",
       "  11 │    303513  Engelbert Landsberg              Engelbert von Landsberg\n",
       "  12 │    303512  Ferdinand Franz Adolf Landsberg  Ferdinand Franz Adolf Freiherr v…"
      ]
     },
     "execution_count": 254,
     "metadata": {},
     "output_type": "execute_result"
    }
   ],
   "source": [
    "df_nl[2301:2312, :]"
   ]
  },
  {
   "cell_type": "markdown",
   "metadata": {},
   "source": [
    "Entferne Einträge für diese Art von Items"
   ]
  },
  {
   "cell_type": "code",
   "execution_count": 255,
   "metadata": {},
   "outputs": [
    {
     "data": {
      "text/plain": [
       "MySQL.TextCursor{true}(MySQL.Connection(host=\"127.0.0.1\", user=\"georg\", port=\"3306\", db=\"wiag2\"), \"DELETE FROM name_lookup \\nWHERE person_id IN (SELECT id FROM item WHERE item_type_id = 6)\", 0, -1, 0, MySQL.API.MYSQL_RES(Ptr{Nothing} @0x0000000000000000), Symbol[], Type[], Dict{Symbol, Int64}(), 0, 1, false)"
      ]
     },
     "execution_count": 255,
     "metadata": {},
     "output_type": "execute_result"
    }
   ],
   "source": [
    "table_name = \"name_lookup\"\n",
    "sql = \"DELETE FROM $(table_name) \n",
    "WHERE person_id IN (SELECT id FROM item WHERE item_type_id = $(item_type_id))\";\n",
    "DBInterface.execute(Wds.dbwiag, sql)"
   ]
  },
  {
   "cell_type": "code",
   "execution_count": 256,
   "metadata": {},
   "outputs": [
    {
     "data": {
      "text/plain": [
       "3-element Vector{String}:\n",
       " \"person_id\"\n",
       " \"gn_fn\"\n",
       " \"gn_prefix_fn\""
      ]
     },
     "execution_count": 256,
     "metadata": {},
     "output_type": "execute_result"
    }
   ],
   "source": [
    "names(df_nl)"
   ]
  },
  {
   "cell_type": "code",
   "execution_count": 257,
   "metadata": {},
   "outputs": [
    {
     "name": "stderr",
     "output_type": "stream",
     "text": [
      "┌ Info: 10000\n",
      "└ @ WiagDataSetup C:\\Users\\georg\\Documents\\projekte\\WiagDataSetup.jl\\src\\WiagDataSetup.jl:1193\n",
      "┌ Info: Rows inserted: 16638\n",
      "└ @ WiagDataSetup C:\\Users\\georg\\Documents\\projekte\\WiagDataSetup.jl\\src\\WiagDataSetup.jl:1216\n"
     ]
    },
    {
     "data": {
      "text/plain": [
       "16638"
      ]
     },
     "execution_count": 257,
     "metadata": {},
     "output_type": "execute_result"
    }
   ],
   "source": [
    "table_name = \"name_lookup\"\n",
    "Wds.filltable!(table_name, df_nl)"
   ]
  },
  {
   "cell_type": "markdown",
   "metadata": {},
   "source": [
    "## Bezug zu den anderen Quellen\n",
    "Siehe **Variante** unten  \n",
    "Zuerst Update der Domherrendatenbank durchführen"
   ]
  },
  {
   "cell_type": "markdown",
   "metadata": {},
   "source": [
    "GS-EP und DH-EP: alle;  \n",
    "GS-DH ohne GS-EP  \n",
    "DH-DH ohne DH-EP  \n",
    "GS-GS ohne GS-DH ohne GS-EP  \n",
    "schließliche EP-EP (sofern EP als Ziel vorkommt)"
   ]
  },
  {
   "cell_type": "code",
   "execution_count": null,
   "metadata": {},
   "outputs": [],
   "source": [
    "df_cn_lp = DataFrame(person_id = Int[], person_id_canon = Int[])"
   ]
  },
  {
   "cell_type": "markdown",
   "metadata": {},
   "source": [
    "GS - EP"
   ]
  },
  {
   "cell_type": "code",
   "execution_count": null,
   "metadata": {},
   "outputs": [],
   "source": [
    "authority_id = 200; # GSN\n",
    "item_type_ep = 4; # Bischof\n",
    "item_type_gs = 6; # Domherr GS\n",
    "sql = \"SELECT gs_gsn.id as person_id, ep_gsn.id as person_id_canon FROM\n",
    "(SELECT i.id, ext.value as id_gsn\n",
    "FROM item as i \n",
    "JOIN id_external AS ext ON i.id = ext.item_id\n",
    "WHERE i.is_online \n",
    "AND i.item_type_id = $(item_type_gs)\n",
    "AND ext.authority_id = $(authority_id)) AS gs_gsn\n",
    "JOIN (SELECT i.id, ext.value as id_gsn\n",
    "FROM item as i \n",
    "JOIN id_external AS ext ON i.id = ext.item_id\n",
    "WHERE i.is_online \n",
    "AND i.item_type_id = $(item_type_ep)\n",
    "AND ext.authority_id = $(authority_id)) AS ep_gsn \n",
    "ON ep_gsn.id_gsn = gs_gsn.id_gsn\"\n",
    "df_gs_ep = Wds.sql_df(sql);"
   ]
  },
  {
   "cell_type": "code",
   "execution_count": null,
   "metadata": {},
   "outputs": [],
   "source": [
    "size(df_gs_ep)"
   ]
  },
  {
   "cell_type": "code",
   "execution_count": null,
   "metadata": {},
   "outputs": [],
   "source": [
    "df_gs_ep[530:535, :]"
   ]
  },
  {
   "cell_type": "code",
   "execution_count": null,
   "metadata": {},
   "outputs": [],
   "source": [
    "append!(df_cn_lp, df_gs_ep);"
   ]
  },
  {
   "cell_type": "markdown",
   "metadata": {},
   "source": [
    "DH - EP"
   ]
  },
  {
   "cell_type": "code",
   "execution_count": null,
   "metadata": {},
   "outputs": [],
   "source": [
    "authority_id = 5; # WIAG\n",
    "item_type_ep = 4; # Bischof\n",
    "item_type_dh = 5; # Domherr\n",
    "sql = \"SELECT dh.id AS person_id, ep.id AS person_id_canon\n",
    "FROM (SELECT i.id, ext_dh.value AS id_ep_public\n",
    "FROM item as i \n",
    "JOIN id_external as ext_dh ON i.id = ext_dh.item_id\n",
    "WHERE ext_dh.authority_id = $(authority_id)\n",
    "AND i.item_type_id = $(item_type_dh)\n",
    "AND i.is_online) AS dh\n",
    "JOIN (SELECT i.id, i.id_public\n",
    "FROM item AS i\n",
    "WHERE i.item_type_id = $(item_type_ep)) AS ep\n",
    "ON ep.id_public = dh.id_ep_public\";\n",
    "df_dh_ep = Wds.sql_df(sql);"
   ]
  },
  {
   "cell_type": "code",
   "execution_count": null,
   "metadata": {},
   "outputs": [],
   "source": [
    "size(df_dh_ep)"
   ]
  },
  {
   "cell_type": "code",
   "execution_count": null,
   "metadata": {},
   "outputs": [],
   "source": [
    "df_dh_ep[50:57, :]"
   ]
  },
  {
   "cell_type": "code",
   "execution_count": null,
   "metadata": {},
   "outputs": [],
   "source": [
    "append!(df_cn_lp, df_dh_ep);"
   ]
  },
  {
   "cell_type": "markdown",
   "metadata": {},
   "source": [
    "GS - DH ohne GS - EP (nur Neuzugänge)"
   ]
  },
  {
   "cell_type": "code",
   "execution_count": null,
   "metadata": {},
   "outputs": [],
   "source": [
    "authority_id = 200; # GSN\n",
    "item_type_dh = 5; # Domherr\n",
    "item_type_gs = 6; # Domherr GS\n",
    "sql = \"SELECT gs_gsn.id as person_id, dh_gsn.id as person_id_canon FROM\n",
    "(SELECT i.id, ext.value as id_gsn\n",
    "FROM item as i \n",
    "JOIN id_external AS ext ON i.id = ext.item_id\n",
    "WHERE i.is_online \n",
    "AND i.item_type_id = $(item_type_gs)\n",
    "AND ext.authority_id = $(authority_id)) AS gs_gsn\n",
    "JOIN (SELECT i.id, ext.value as id_gsn\n",
    "FROM item as i \n",
    "JOIN id_external AS ext ON i.id = ext.item_id\n",
    "WHERE i.is_online \n",
    "AND i.item_type_id = $(item_type_dh)\n",
    "AND ext.authority_id = $(authority_id)) AS dh_gsn \n",
    "ON dh_gsn.id_gsn = gs_gsn.id_gsn\"\n",
    "df_gs_dh = Wds.sql_df(sql);"
   ]
  },
  {
   "cell_type": "code",
   "execution_count": null,
   "metadata": {},
   "outputs": [],
   "source": [
    "size(df_gs_dh)"
   ]
  },
  {
   "cell_type": "code",
   "execution_count": null,
   "metadata": {},
   "outputs": [],
   "source": [
    "in_person_id(id) = id in df_cn_lp.person_id"
   ]
  },
  {
   "cell_type": "code",
   "execution_count": null,
   "metadata": {},
   "outputs": [],
   "source": [
    "df_gs_dh = subset(df_gs_dh, :person_id => ByRow(!in_person_id));"
   ]
  },
  {
   "cell_type": "code",
   "execution_count": null,
   "metadata": {},
   "outputs": [],
   "source": [
    "size(df_gs_dh)"
   ]
  },
  {
   "cell_type": "code",
   "execution_count": null,
   "metadata": {},
   "outputs": [],
   "source": [
    "df_gs_dh[250:255, :]"
   ]
  },
  {
   "cell_type": "code",
   "execution_count": null,
   "metadata": {},
   "outputs": [],
   "source": [
    "append!(df_cn_lp, df_gs_dh);"
   ]
  },
  {
   "cell_type": "markdown",
   "metadata": {},
   "source": [
    "DH - DH und GS - GS ohne DH - EP ohne GS - DH ohne GS - EP: nur Neuzugänge"
   ]
  },
  {
   "cell_type": "code",
   "execution_count": null,
   "metadata": {},
   "outputs": [],
   "source": [
    "table_name = \"item\";\n",
    "item_type_dh = 5;\n",
    "item_type_gs = 6;\n",
    "sql = \"SELECT id as person_id, id as person_id_canon \n",
    "FROM $(table_name) WHERE item_type_id in ($(item_type_dh), $(item_type_gs)) AND is_online\";\n",
    "df_cn_rx = Wds.sql_df(sql);"
   ]
  },
  {
   "cell_type": "code",
   "execution_count": null,
   "metadata": {},
   "outputs": [],
   "source": [
    "size(df_cn_rx)"
   ]
  },
  {
   "cell_type": "code",
   "execution_count": null,
   "metadata": {},
   "outputs": [],
   "source": [
    "df_cn_rx = subset(df_cn_rx, :person_id => ByRow(!in_person_id));"
   ]
  },
  {
   "cell_type": "code",
   "execution_count": null,
   "metadata": {},
   "outputs": [],
   "source": [
    "size(df_cn_rx)"
   ]
  },
  {
   "cell_type": "code",
   "execution_count": null,
   "metadata": {},
   "outputs": [],
   "source": [
    "append!(df_cn_lp, df_cn_rx);"
   ]
  },
  {
   "cell_type": "code",
   "execution_count": null,
   "metadata": {},
   "outputs": [],
   "source": [
    "size(df_cn_lp)"
   ]
  },
  {
   "cell_type": "markdown",
   "metadata": {},
   "source": [
    "EP - EP, sofern sie als Ziel vorkommen"
   ]
  },
  {
   "cell_type": "code",
   "execution_count": null,
   "metadata": {},
   "outputs": [],
   "source": [
    "table_name = \"item\";\n",
    "item_type_ep = 4;\n",
    "sql = \"SELECT id FROM $(table_name) WHERE item_type_id = $(item_type_ep)\"\n",
    "df_ids_ep = Wds.sql_df(sql);"
   ]
  },
  {
   "cell_type": "code",
   "execution_count": null,
   "metadata": {},
   "outputs": [],
   "source": [
    "ids_ep_lp = intersect(df_ids_ep.id, df_cn_lp.person_id_canon);"
   ]
  },
  {
   "cell_type": "code",
   "execution_count": null,
   "metadata": {},
   "outputs": [],
   "source": [
    "size(ids_ep_lp)"
   ]
  },
  {
   "cell_type": "code",
   "execution_count": null,
   "metadata": {},
   "outputs": [],
   "source": [
    "df_ep_ep = DataFrame(person_id = ids_ep_lp, person_id_canon = ids_ep_lp);"
   ]
  },
  {
   "cell_type": "code",
   "execution_count": null,
   "metadata": {},
   "outputs": [],
   "source": [
    "append!(df_cn_lp, df_ep_ep);"
   ]
  },
  {
   "cell_type": "code",
   "execution_count": null,
   "metadata": {},
   "outputs": [],
   "source": [
    "size(df_cn_lp)"
   ]
  },
  {
   "cell_type": "code",
   "execution_count": null,
   "metadata": {},
   "outputs": [],
   "source": [
    "table_name = \"canon_lookup\";\n",
    "Wds.filltable!(table_name, df_cn_lp, clear_table = true)"
   ]
  },
  {
   "cell_type": "markdown",
   "metadata": {},
   "source": [
    "### Bezug zu anderen Quellen (2)\n",
    "Neue Struktur von `canon_lookup`: Ein Datensatz pro Domherr mit den Feldern\n",
    "\n",
    "`person_id_name`: ID der Person für die Namensdaten (Bischof > Domherr > Domherr GS)  \n",
    "`person_id_role`: ID der Person für Amtsdaten\n",
    "`prio_role`: Priorisierung der Amtsdaten (Domherr > Domherr GS > Bischof)  \n",
    "\n",
    "`person_id_role` ist eindeutig. Für jeden Wert von `person_id_name` gibt es immer auch einen Eintrag, wo `person_id_name` und `person_id_role` übereinstimmen."
   ]
  },
  {
   "cell_type": "markdown",
   "metadata": {},
   "source": [
    "Domherrendatenbank"
   ]
  },
  {
   "cell_type": "markdown",
   "metadata": {},
   "source": [
    "IDs der Domherren aus der Domherrendatenbank und die Verweise auf Bischöfe und Domherren aus der Personendatenbank"
   ]
  },
  {
   "cell_type": "code",
   "execution_count": 14,
   "metadata": {},
   "outputs": [],
   "source": [
    "table_name = \"item\";\n",
    "item_type_domherr = 5;\n",
    "sql = \"SELECT i.id as dh, e1.value AS dh_gsn, e2.value AS dh_episc_id\n",
    "FROM $(table_name) AS i\n",
    "LEFT JOIN id_external AS e1 ON e1.item_id = i.id AND e1.authority_id = 200\n",
    "LEFT JOIN id_external AS e2 ON e2.item_id = i.id AND e2.authority_id = 5\n",
    "WHERE i.item_type_id = $(item_type_domherr) AND i.is_online\";\n",
    "df_dh = Wds.sql_df(sql);"
   ]
  },
  {
   "cell_type": "code",
   "execution_count": 15,
   "metadata": {},
   "outputs": [
    {
     "data": {
      "text/plain": [
       "3233"
      ]
     },
     "execution_count": 15,
     "metadata": {},
     "output_type": "execute_result"
    }
   ],
   "source": [
    "size(df_dh, 1)"
   ]
  },
  {
   "cell_type": "code",
   "execution_count": 16,
   "metadata": {},
   "outputs": [
    {
     "data": {
      "text/plain": [
       "3-element Vector{String}:\n",
       " \"dh\"\n",
       " \"dh_gsn\"\n",
       " \"dh_episc_id\""
      ]
     },
     "execution_count": 16,
     "metadata": {},
     "output_type": "execute_result"
    }
   ],
   "source": [
    "names(df_dh)"
   ]
  },
  {
   "cell_type": "markdown",
   "metadata": {},
   "source": [
    "*2022-04-28* Suche Verweise auf den gleichen Domherrn GS. Mitteilung an die Redaktion siehe oben."
   ]
  },
  {
   "cell_type": "code",
   "execution_count": 17,
   "metadata": {},
   "outputs": [],
   "source": [
    "v_dh_gsn = sort(collect(skipmissing(df_dh.dh_gsn))); v_dh_gsn_u = unique(v_dh_gsn);"
   ]
  },
  {
   "cell_type": "code",
   "execution_count": 18,
   "metadata": {},
   "outputs": [
    {
     "data": {
      "text/plain": [
       "(606, 606)"
      ]
     },
     "execution_count": 18,
     "metadata": {},
     "output_type": "execute_result"
    }
   ],
   "source": [
    "length(v_dh_gsn), length(v_dh_gsn_u)"
   ]
  },
  {
   "cell_type": "code",
   "execution_count": 23,
   "metadata": {},
   "outputs": [
    {
     "data": {
      "text/html": [
       "<div class=\"data-frame\"><p>2 rows × 3 columns</p><table class=\"data-frame\"><thead><tr><th></th><th>dh</th><th>dh_gsn</th><th>dh_episc_id</th></tr><tr><th></th><th title=\"Int32\">Int32</th><th title=\"Union{Missing, String}\">String?</th><th title=\"Union{Missing, String}\">String?</th></tr></thead><tbody><tr><th>1</th><td>200040</td><td>700-00402-001</td><td><em>missing</em></td></tr><tr><th>2</th><td>200193</td><td>700-00402-001</td><td><em>missing</em></td></tr></tbody></table></div>"
      ],
      "text/latex": [
       "\\begin{tabular}{r|ccc}\n",
       "\t& dh & dh\\_gsn & dh\\_episc\\_id\\\\\n",
       "\t\\hline\n",
       "\t& Int32 & String? & String?\\\\\n",
       "\t\\hline\n",
       "\t1 & 200040 & 700-00402-001 & \\emph{missing} \\\\\n",
       "\t2 & 200193 & 700-00402-001 & \\emph{missing} \\\\\n",
       "\\end{tabular}\n"
      ],
      "text/plain": [
       "\u001b[1m2×3 DataFrame\u001b[0m\n",
       "\u001b[1m Row \u001b[0m│\u001b[1m dh     \u001b[0m\u001b[1m dh_gsn        \u001b[0m\u001b[1m dh_episc_id \u001b[0m\n",
       "\u001b[1m     \u001b[0m│\u001b[90m Int32  \u001b[0m\u001b[90m String?       \u001b[0m\u001b[90m String?     \u001b[0m\n",
       "─────┼────────────────────────────────────\n",
       "   1 │ 200040  700-00402-001 \u001b[90m missing     \u001b[0m\n",
       "   2 │ 200193  700-00402-001 \u001b[90m missing     \u001b[0m"
      ]
     },
     "execution_count": 23,
     "metadata": {},
     "output_type": "execute_result"
    }
   ],
   "source": [
    "find_by_id(id) = id in (200040, 200193);\n",
    "df_info = subset(df_dh, :dh => ByRow(find_by_id))"
   ]
  },
  {
   "cell_type": "markdown",
   "metadata": {},
   "source": [
    "Alle Bischöfe"
   ]
  },
  {
   "cell_type": "code",
   "execution_count": 19,
   "metadata": {},
   "outputs": [],
   "source": [
    "table_name = \"item\";\n",
    "item_type_bishop = 4;\n",
    "sql = \"SELECT i.id as ep, i.id_public, e1.value AS ep_gsn\n",
    "FROM $(table_name) AS i\n",
    "LEFT JOIN id_external AS e1 ON e1.item_id = i.id AND e1.authority_id = 200\n",
    "WHERE i.item_type_id = $(item_type_bishop) AND i.is_online\";\n",
    "df_ep = Wds.sql_df(sql);"
   ]
  },
  {
   "cell_type": "code",
   "execution_count": 20,
   "metadata": {},
   "outputs": [
    {
     "data": {
      "text/html": [
       "<div class=\"data-frame\"><p>5 rows × 3 columns</p><table class=\"data-frame\"><thead><tr><th></th><th>ep</th><th>id_public</th><th>ep_gsn</th></tr><tr><th></th><th title=\"Int32\">Int32</th><th title=\"Union{Missing, String}\">String?</th><th title=\"Union{Missing, String}\">String?</th></tr></thead><tbody><tr><th>1</th><td>264830</td><td>WIAG-Pers-EPISCGatz-21107-001</td><td><em>missing</em></td></tr><tr><th>2</th><td>264831</td><td>WIAG-Pers-EPISCGatz-21106-001</td><td><em>missing</em></td></tr><tr><th>3</th><td>264832</td><td>WIAG-Pers-EPISCGatz-21105-001</td><td><em>missing</em></td></tr><tr><th>4</th><td>264833</td><td>WIAG-Pers-EPISCGatz-21103-001</td><td><em>missing</em></td></tr><tr><th>5</th><td>264834</td><td>WIAG-Pers-EPISCGatz-21102-001</td><td><em>missing</em></td></tr></tbody></table></div>"
      ],
      "text/latex": [
       "\\begin{tabular}{r|ccc}\n",
       "\t& ep & id\\_public & ep\\_gsn\\\\\n",
       "\t\\hline\n",
       "\t& Int32 & String? & String?\\\\\n",
       "\t\\hline\n",
       "\t1 & 264830 & WIAG-Pers-EPISCGatz-21107-001 & \\emph{missing} \\\\\n",
       "\t2 & 264831 & WIAG-Pers-EPISCGatz-21106-001 & \\emph{missing} \\\\\n",
       "\t3 & 264832 & WIAG-Pers-EPISCGatz-21105-001 & \\emph{missing} \\\\\n",
       "\t4 & 264833 & WIAG-Pers-EPISCGatz-21103-001 & \\emph{missing} \\\\\n",
       "\t5 & 264834 & WIAG-Pers-EPISCGatz-21102-001 & \\emph{missing} \\\\\n",
       "\\end{tabular}\n"
      ],
      "text/plain": [
       "\u001b[1m5×3 DataFrame\u001b[0m\n",
       "\u001b[1m Row \u001b[0m│\u001b[1m ep     \u001b[0m\u001b[1m id_public                     \u001b[0m\u001b[1m ep_gsn  \u001b[0m\n",
       "\u001b[1m     \u001b[0m│\u001b[90m Int32  \u001b[0m\u001b[90m String?                       \u001b[0m\u001b[90m String? \u001b[0m\n",
       "─────┼────────────────────────────────────────────────\n",
       "   1 │ 264830  WIAG-Pers-EPISCGatz-21107-001 \u001b[90m missing \u001b[0m\n",
       "   2 │ 264831  WIAG-Pers-EPISCGatz-21106-001 \u001b[90m missing \u001b[0m\n",
       "   3 │ 264832  WIAG-Pers-EPISCGatz-21105-001 \u001b[90m missing \u001b[0m\n",
       "   4 │ 264833  WIAG-Pers-EPISCGatz-21103-001 \u001b[90m missing \u001b[0m\n",
       "   5 │ 264834  WIAG-Pers-EPISCGatz-21102-001 \u001b[90m missing \u001b[0m"
      ]
     },
     "execution_count": 20,
     "metadata": {},
     "output_type": "execute_result"
    }
   ],
   "source": [
    "df_ep[11:15, :]"
   ]
  },
  {
   "cell_type": "markdown",
   "metadata": {},
   "source": [
    "DH - EP"
   ]
  },
  {
   "cell_type": "code",
   "execution_count": 21,
   "metadata": {},
   "outputs": [],
   "source": [
    "df_dh_ep = leftjoin(df_dh, \n",
    "    select(df_ep, [:ep => :ep1, :id_public => :id_public, :ep_gsn => :ep_gsn]), \n",
    "    on = :dh_episc_id => :id_public, \n",
    "    matchmissing = :notequal);"
   ]
  },
  {
   "cell_type": "code",
   "execution_count": 22,
   "metadata": {},
   "outputs": [
    {
     "data": {
      "text/plain": [
       "3233"
      ]
     },
     "execution_count": 22,
     "metadata": {},
     "output_type": "execute_result"
    }
   ],
   "source": [
    "size(df_dh_ep, 1)"
   ]
  },
  {
   "cell_type": "code",
   "execution_count": 23,
   "metadata": {},
   "outputs": [
    {
     "data": {
      "text/plain": [
       "5-element Vector{String}:\n",
       " \"dh\"\n",
       " \"dh_gsn\"\n",
       " \"dh_episc_id\"\n",
       " \"ep1\"\n",
       " \"ep_gsn\""
      ]
     },
     "execution_count": 23,
     "metadata": {},
     "output_type": "execute_result"
    }
   ],
   "source": [
    "names(df_dh_ep)"
   ]
  },
  {
   "cell_type": "code",
   "execution_count": 24,
   "metadata": {},
   "outputs": [
    {
     "data": {
      "text/plain": [
       "(235, 235)"
      ]
     },
     "execution_count": 24,
     "metadata": {},
     "output_type": "execute_result"
    }
   ],
   "source": [
    "count(!ismissing, df_dh_ep.dh_episc_id), count(!ismissing, df_dh_ep.ep1)"
   ]
  },
  {
   "cell_type": "markdown",
   "metadata": {},
   "source": [
    "begin debug  \n",
    "*2022-05-12* fixed"
   ]
  },
  {
   "cell_type": "code",
   "execution_count": 285,
   "metadata": {},
   "outputs": [],
   "source": [
    "is_is_not(a, b) = !ismissing(a) && ismissing(b);"
   ]
  },
  {
   "cell_type": "code",
   "execution_count": 288,
   "metadata": {},
   "outputs": [
    {
     "data": {
      "text/html": [
       "<div class=\"data-frame\"><p>2 rows × 5 columns</p><table class=\"data-frame\"><thead><tr><th></th><th>dh</th><th>dh_gsn</th><th>dh_episc_id</th><th>ep1</th><th>ep_gsn</th></tr><tr><th></th><th title=\"Int32\">Int32</th><th title=\"Union{Missing, String}\">String?</th><th title=\"Union{Missing, String}\">String?</th><th title=\"Union{Missing, Int32}\">Int32?</th><th title=\"Union{Missing, String}\">String?</th></tr></thead><tbody><tr><th>1</th><td>241129</td><td>060-02416-001</td><td>https://wiag-stage.uni-goettingen.de/id/WIAG-Pers-EPISCGatz-03741-001</td><td><em>missing</em></td><td><em>missing</em></td></tr><tr><th>2</th><td>242124</td><td>700-00397-001</td><td>https://wiag-vocab.adw-goe.de/id/WIAG-Pers-EPISCGatz-04635-001</td><td><em>missing</em></td><td><em>missing</em></td></tr></tbody></table></div>"
      ],
      "text/latex": [
       "\\begin{tabular}{r|ccccc}\n",
       "\t& dh & dh\\_gsn & dh\\_episc\\_id & ep1 & ep\\_gsn\\\\\n",
       "\t\\hline\n",
       "\t& Int32 & String? & String? & Int32? & String?\\\\\n",
       "\t\\hline\n",
       "\t1 & 241129 & 060-02416-001 & https://wiag-stage.uni-goettingen.de/id/WIAG-Pers-EPISCGatz-03741-001 & \\emph{missing} & \\emph{missing} \\\\\n",
       "\t2 & 242124 & 700-00397-001 & https://wiag-vocab.adw-goe.de/id/WIAG-Pers-EPISCGatz-04635-001 & \\emph{missing} & \\emph{missing} \\\\\n",
       "\\end{tabular}\n"
      ],
      "text/plain": [
       "\u001b[1m2×5 DataFrame\u001b[0m\n",
       "\u001b[1m Row \u001b[0m│\u001b[1m dh     \u001b[0m\u001b[1m dh_gsn        \u001b[0m\u001b[1m dh_episc_id                       \u001b[0m\u001b[1m ep1     \u001b[0m\u001b[1m ep_gsn  \u001b[0m\n",
       "\u001b[1m     \u001b[0m│\u001b[90m Int32  \u001b[0m\u001b[90m String?       \u001b[0m\u001b[90m String?                           \u001b[0m\u001b[90m Int32?  \u001b[0m\u001b[90m String? \u001b[0m\n",
       "─────┼────────────────────────────────────────────────────────────────────────────\n",
       "   1 │ 241129  060-02416-001  https://wiag-stage.uni-goettinge… \u001b[90m missing \u001b[0m\u001b[90m missing \u001b[0m\n",
       "   2 │ 242124  700-00397-001  https://wiag-vocab.adw-goe.de/id… \u001b[90m missing \u001b[0m\u001b[90m missing \u001b[0m"
      ]
     },
     "execution_count": 288,
     "metadata": {},
     "output_type": "execute_result"
    }
   ],
   "source": [
    "subset(df_dh_ep, [:dh_episc_id, :ep1] => ByRow(is_is_not))"
   ]
  },
  {
   "cell_type": "markdown",
   "metadata": {},
   "source": [
    "end debug"
   ]
  },
  {
   "cell_type": "markdown",
   "metadata": {},
   "source": [
    "*2022-04-17* Schließlich werden alle Bischöfe gefunden, nachdem Einträge in `id_external` korrigiert wurden"
   ]
  },
  {
   "cell_type": "markdown",
   "metadata": {},
   "source": [
    "Ergänze `dh_gsn` mit `ep_gsn`.  \n",
    "Das ist nicht mehr nötig. Die GSN werden beim Einlesen der Daten schon ergänzt und in `id_external` eingetragen."
   ]
  },
  {
   "cell_type": "code",
   "execution_count": 25,
   "metadata": {},
   "outputs": [
    {
     "data": {
      "text/plain": [
       "606"
      ]
     },
     "execution_count": 25,
     "metadata": {},
     "output_type": "execute_result"
    }
   ],
   "source": [
    "count(!ismissing, df_dh_ep.dh_gsn)"
   ]
  },
  {
   "cell_type": "code",
   "execution_count": 26,
   "metadata": {},
   "outputs": [
    {
     "data": {
      "text/plain": [
       "0"
      ]
     },
     "execution_count": 26,
     "metadata": {},
     "output_type": "execute_result"
    }
   ],
   "source": [
    "update = 0\n",
    "for row in eachrow(df_dh_ep)\n",
    "    if ismissing(row[:dh_gsn]) && !ismissing(row[:ep_gsn])\n",
    "        row[:dh_gsn] = row[:ep_gsn]\n",
    "        update += 1\n",
    "    end\n",
    "end\n",
    "update"
   ]
  },
  {
   "cell_type": "code",
   "execution_count": 27,
   "metadata": {},
   "outputs": [
    {
     "data": {
      "text/plain": [
       "606"
      ]
     },
     "execution_count": 27,
     "metadata": {},
     "output_type": "execute_result"
    }
   ],
   "source": [
    "count(!ismissing, df_dh_ep.dh_gsn)"
   ]
  },
  {
   "cell_type": "markdown",
   "metadata": {},
   "source": [
    "GS  \n",
    "ID und GSN der Domherren aus der Personendatenbank"
   ]
  },
  {
   "cell_type": "code",
   "execution_count": 28,
   "metadata": {},
   "outputs": [],
   "source": [
    "table_name = \"item\";\n",
    "item_type_domherr_gs = 6;\n",
    "sql = \"SELECT i.id as gs, e1.value AS gs_gsn\n",
    "FROM $(table_name) AS i\n",
    "JOIN id_external AS e1 ON e1.item_id = i.id AND e1.authority_id = 200\n",
    "WHERE i.item_type_id = $(item_type_domherr_gs) AND i.is_online\";\n",
    "df_gs = Wds.sql_df(sql);"
   ]
  },
  {
   "cell_type": "code",
   "execution_count": 29,
   "metadata": {},
   "outputs": [
    {
     "data": {
      "text/plain": [
       "\"SELECT i.id as gs, e1.value AS gs_gsn FROM item AS i JOIN id_external AS e1 ON e1.item_id = i.id AND e1.authority_id = 200 WHERE i.item_type_id = 6 AND i.is_online\""
      ]
     },
     "execution_count": 29,
     "metadata": {},
     "output_type": "execute_result"
    }
   ],
   "source": [
    "replace(sql, '\\n' => ' ')"
   ]
  },
  {
   "cell_type": "code",
   "execution_count": 30,
   "metadata": {},
   "outputs": [
    {
     "data": {
      "text/plain": [
       "8957"
      ]
     },
     "execution_count": 30,
     "metadata": {},
     "output_type": "execute_result"
    }
   ],
   "source": [
    "size(df_gs, 1)"
   ]
  },
  {
   "cell_type": "markdown",
   "metadata": {},
   "source": [
    "GS - EP"
   ]
  },
  {
   "cell_type": "code",
   "execution_count": 31,
   "metadata": {},
   "outputs": [],
   "source": [
    "df_gs_ep = leftjoin(df_gs, \n",
    "    select(df_ep, [:ep => :ep2, :ep_gsn => :ep_gsn]),\n",
    "    on = :gs_gsn => :ep_gsn, \n",
    "    matchmissing = :notequal);"
   ]
  },
  {
   "cell_type": "code",
   "execution_count": 32,
   "metadata": {},
   "outputs": [
    {
     "data": {
      "text/plain": [
       "8957"
      ]
     },
     "execution_count": 32,
     "metadata": {},
     "output_type": "execute_result"
    }
   ],
   "source": [
    "size(df_gs_ep, 1)"
   ]
  },
  {
   "cell_type": "code",
   "execution_count": 33,
   "metadata": {},
   "outputs": [
    {
     "data": {
      "text/plain": [
       "(0, 684)"
      ]
     },
     "execution_count": 33,
     "metadata": {},
     "output_type": "execute_result"
    }
   ],
   "source": [
    "count(ismissing, df_gs_ep.gs_gsn), count(!ismissing, df_gs_ep.ep2)"
   ]
  },
  {
   "cell_type": "code",
   "execution_count": 34,
   "metadata": {},
   "outputs": [
    {
     "data": {
      "text/html": [
       "<div class=\"data-frame\"><p>5 rows × 3 columns</p><table class=\"data-frame\"><thead><tr><th></th><th>gs</th><th>gs_gsn</th><th>ep2</th></tr><tr><th></th><th title=\"Int32\">Int32</th><th title=\"Union{Missing, String}\">String?</th><th title=\"Union{Missing, Int32}\">Int32?</th></tr></thead><tbody><tr><th>1</th><td>306572</td><td>059-01647-001</td><td>268268</td></tr><tr><th>2</th><td>306573</td><td>059-01290-001</td><td>268089</td></tr><tr><th>3</th><td>306574</td><td>059-00644-001</td><td>265322</td></tr><tr><th>4</th><td>306575</td><td>006-00029-001</td><td>265557</td></tr><tr><th>5</th><td>306615</td><td>060-03429-001</td><td>265738</td></tr></tbody></table></div>"
      ],
      "text/latex": [
       "\\begin{tabular}{r|ccc}\n",
       "\t& gs & gs\\_gsn & ep2\\\\\n",
       "\t\\hline\n",
       "\t& Int32 & String? & Int32?\\\\\n",
       "\t\\hline\n",
       "\t1 & 306572 & 059-01647-001 & 268268 \\\\\n",
       "\t2 & 306573 & 059-01290-001 & 268089 \\\\\n",
       "\t3 & 306574 & 059-00644-001 & 265322 \\\\\n",
       "\t4 & 306575 & 006-00029-001 & 265557 \\\\\n",
       "\t5 & 306615 & 060-03429-001 & 265738 \\\\\n",
       "\\end{tabular}\n"
      ],
      "text/plain": [
       "\u001b[1m5×3 DataFrame\u001b[0m\n",
       "\u001b[1m Row \u001b[0m│\u001b[1m gs     \u001b[0m\u001b[1m gs_gsn        \u001b[0m\u001b[1m ep2    \u001b[0m\n",
       "\u001b[1m     \u001b[0m│\u001b[90m Int32  \u001b[0m\u001b[90m String?       \u001b[0m\u001b[90m Int32? \u001b[0m\n",
       "─────┼───────────────────────────────\n",
       "   1 │ 306572  059-01647-001  268268\n",
       "   2 │ 306573  059-01290-001  268089\n",
       "   3 │ 306574  059-00644-001  265322\n",
       "   4 │ 306575  006-00029-001  265557\n",
       "   5 │ 306615  060-03429-001  265738"
      ]
     },
     "execution_count": 34,
     "metadata": {},
     "output_type": "execute_result"
    }
   ],
   "source": [
    "df_gs_ep[201:205, :]"
   ]
  },
  {
   "cell_type": "markdown",
   "metadata": {},
   "source": [
    "Die Domherren aus GS haben alle eine GSN, daher kann `df_gs_ep` ergänzt werden aus `df_cn_lp`."
   ]
  },
  {
   "cell_type": "code",
   "execution_count": 35,
   "metadata": {},
   "outputs": [
    {
     "data": {
      "text/plain": [
       "3-element Vector{String}:\n",
       " \"gs\"\n",
       " \"gs_gsn\"\n",
       " \"ep2\""
      ]
     },
     "execution_count": 35,
     "metadata": {},
     "output_type": "execute_result"
    }
   ],
   "source": [
    "names(df_gs_ep)"
   ]
  },
  {
   "cell_type": "code",
   "execution_count": 36,
   "metadata": {},
   "outputs": [
    {
     "data": {
      "text/plain": [
       "5-element Vector{String}:\n",
       " \"dh\"\n",
       " \"dh_gsn\"\n",
       " \"dh_episc_id\"\n",
       " \"ep1\"\n",
       " \"ep_gsn\""
      ]
     },
     "execution_count": 36,
     "metadata": {},
     "output_type": "execute_result"
    }
   ],
   "source": [
    "names(df_dh_ep)"
   ]
  },
  {
   "cell_type": "code",
   "execution_count": 37,
   "metadata": {},
   "outputs": [],
   "source": [
    "df_cn_lp = outerjoin(df_dh_ep, \n",
    "    df_gs_ep,\n",
    "    on = :dh_gsn => :gs_gsn, \n",
    "    matchmissing = :equal);"
   ]
  },
  {
   "cell_type": "code",
   "execution_count": 38,
   "metadata": {},
   "outputs": [
    {
     "data": {
      "text/plain": [
       "(11586, 604, 606)"
      ]
     },
     "execution_count": 38,
     "metadata": {},
     "output_type": "execute_result"
    }
   ],
   "source": [
    "# gesamt, davon zugeordnet über GSN, Zahl der GSN für Domherren\n",
    "size(df_cn_lp, 1), size(df_dh_ep, 1) + size(df_gs_ep, 1) - size(df_cn_lp, 1), count(!ismissing, df_dh_ep.dh_gsn)"
   ]
  },
  {
   "cell_type": "markdown",
   "metadata": {},
   "source": [
    "Wenn die nicht alle Domherren aus der Domherrendatenbank eine Zuordnung unter den Domherren aus der Personendatenbank finden, sind die Domherren aus der Personendatenbank neu einzulesen."
   ]
  },
  {
   "cell_type": "code",
   "execution_count": 39,
   "metadata": {},
   "outputs": [
    {
     "data": {
      "text/html": [
       "<div class=\"data-frame\"><p>5 rows × 7 columns</p><table class=\"data-frame\"><thead><tr><th></th><th>dh</th><th>dh_gsn</th><th>dh_episc_id</th><th>ep1</th><th>ep_gsn</th><th>gs</th><th>ep2</th></tr><tr><th></th><th title=\"Union{Missing, Int32}\">Int32?</th><th title=\"Union{Missing, String}\">String?</th><th title=\"Union{Missing, String}\">String?</th><th title=\"Union{Missing, Int32}\">Int32?</th><th title=\"Union{Missing, String}\">String?</th><th title=\"Union{Missing, Int32}\">Int32?</th><th title=\"Union{Missing, Int32}\">Int32?</th></tr></thead><tbody><tr><th>1</th><td>278317</td><td>063-00418-001</td><td>WIAG-Pers-EPISCGatz-02602-001</td><td>265491</td><td>063-00418-001</td><td>306370</td><td>265491</td></tr><tr><th>2</th><td>272830</td><td>072-00054-001</td><td>WIAG-Pers-EPISCGatz-02555-001</td><td>265476</td><td>072-00054-001</td><td>306381</td><td>265476</td></tr><tr><th>3</th><td>292084</td><td>060-02187-001</td><td>WIAG-Pers-EPISCGatz-02856-001</td><td>265731</td><td>060-02187-001</td><td>306404</td><td>265731</td></tr><tr><th>4</th><td>271067</td><td>064-00748-001</td><td>WIAG-Pers-EPISCGatz-10893-001</td><td>269038</td><td>064-00748-001</td><td>306405</td><td>269038</td></tr><tr><th>5</th><td>291631</td><td>060-00316-001</td><td>WIAG-Pers-EPISCGatz-03277-001</td><td>266570</td><td>060-00316-001</td><td>306407</td><td>266570</td></tr></tbody></table></div>"
      ],
      "text/latex": [
       "\\begin{tabular}{r|ccccccc}\n",
       "\t& dh & dh\\_gsn & dh\\_episc\\_id & ep1 & ep\\_gsn & gs & ep2\\\\\n",
       "\t\\hline\n",
       "\t& Int32? & String? & String? & Int32? & String? & Int32? & Int32?\\\\\n",
       "\t\\hline\n",
       "\t1 & 278317 & 063-00418-001 & WIAG-Pers-EPISCGatz-02602-001 & 265491 & 063-00418-001 & 306370 & 265491 \\\\\n",
       "\t2 & 272830 & 072-00054-001 & WIAG-Pers-EPISCGatz-02555-001 & 265476 & 072-00054-001 & 306381 & 265476 \\\\\n",
       "\t3 & 292084 & 060-02187-001 & WIAG-Pers-EPISCGatz-02856-001 & 265731 & 060-02187-001 & 306404 & 265731 \\\\\n",
       "\t4 & 271067 & 064-00748-001 & WIAG-Pers-EPISCGatz-10893-001 & 269038 & 064-00748-001 & 306405 & 269038 \\\\\n",
       "\t5 & 291631 & 060-00316-001 & WIAG-Pers-EPISCGatz-03277-001 & 266570 & 060-00316-001 & 306407 & 266570 \\\\\n",
       "\\end{tabular}\n"
      ],
      "text/plain": [
       "\u001b[1m5×7 DataFrame\u001b[0m\n",
       "\u001b[1m Row \u001b[0m│\u001b[1m dh     \u001b[0m\u001b[1m dh_gsn        \u001b[0m\u001b[1m dh_episc_id                   \u001b[0m\u001b[1m ep1    \u001b[0m\u001b[1m ep_gsn        \u001b[0m\u001b[1m gs     \u001b[0m\u001b[1m ep2    \u001b[0m\n",
       "\u001b[1m     \u001b[0m│\u001b[90m Int32? \u001b[0m\u001b[90m String?       \u001b[0m\u001b[90m String?                       \u001b[0m\u001b[90m Int32? \u001b[0m\u001b[90m String?       \u001b[0m\u001b[90m Int32? \u001b[0m\u001b[90m Int32? \u001b[0m\n",
       "─────┼─────────────────────────────────────────────────────────────────────────────────────────────\n",
       "   1 │ 278317  063-00418-001  WIAG-Pers-EPISCGatz-02602-001  265491  063-00418-001  306370  265491\n",
       "   2 │ 272830  072-00054-001  WIAG-Pers-EPISCGatz-02555-001  265476  072-00054-001  306381  265476\n",
       "   3 │ 292084  060-02187-001  WIAG-Pers-EPISCGatz-02856-001  265731  060-02187-001  306404  265731\n",
       "   4 │ 271067  064-00748-001  WIAG-Pers-EPISCGatz-10893-001  269038  064-00748-001  306405  269038\n",
       "   5 │ 291631  060-00316-001  WIAG-Pers-EPISCGatz-03277-001  266570  060-00316-001  306407  266570"
      ]
     },
     "execution_count": 39,
     "metadata": {},
     "output_type": "execute_result"
    }
   ],
   "source": [
    "df_cn_lp[21:25, :]"
   ]
  },
  {
   "cell_type": "markdown",
   "metadata": {},
   "source": [
    "Führe Verweise auf Bischöfe im Feld `ep` zusammen. Übernimm den Verweis aus der Domherrendatenbank und - falls dieser nicht vorhanden ist - den Verweis aus der Personendatenbank."
   ]
  },
  {
   "cell_type": "code",
   "execution_count": 40,
   "metadata": {},
   "outputs": [],
   "source": [
    "df_cn_lp[!, :ep] .= df_cn_lp.ep1;"
   ]
  },
  {
   "cell_type": "code",
   "execution_count": 41,
   "metadata": {},
   "outputs": [
    {
     "data": {
      "text/plain": [
       "527"
      ]
     },
     "execution_count": 41,
     "metadata": {},
     "output_type": "execute_result"
    }
   ],
   "source": [
    "update = 0\n",
    "for row in eachrow(df_cn_lp)\n",
    "    if ismissing(row[:ep]) && !ismissing(row[:ep2])\n",
    "        row[:ep] = row[:ep2]\n",
    "        update += 1\n",
    "    end\n",
    "end\n",
    "update"
   ]
  },
  {
   "cell_type": "markdown",
   "metadata": {},
   "source": [
    "Bringe die Verweise in eine flache Struktur:  \n",
    "Die Personendaten beziehen sich auf den einen der Einträge Bischof > Domherr > Domherr GS.  \n",
    "Die Ämterdaten werden alle eingetragen, so vorhanden: Domherr > Domherr GS > Bischof."
   ]
  },
  {
   "cell_type": "code",
   "execution_count": 42,
   "metadata": {},
   "outputs": [
    {
     "data": {
      "text/html": [
       "<div class=\"data-frame\"><p>0 rows × 3 columns</p><table class=\"data-frame\"><thead><tr><th></th><th>person_id_name</th><th>person_id_role</th><th>prio_role</th></tr><tr><th></th><th title=\"Int64\">Int64</th><th title=\"Int64\">Int64</th><th title=\"Int64\">Int64</th></tr></thead><tbody></tbody></table></div>"
      ],
      "text/latex": [
       "\\begin{tabular}{r|ccc}\n",
       "\t& person\\_id\\_name & person\\_id\\_role & prio\\_role\\\\\n",
       "\t\\hline\n",
       "\t& Int64 & Int64 & Int64\\\\\n",
       "\t\\hline\n",
       "\\end{tabular}\n"
      ],
      "text/plain": [
       "\u001b[1m0×3 DataFrame\u001b[0m"
      ]
     },
     "execution_count": 42,
     "metadata": {},
     "output_type": "execute_result"
    }
   ],
   "source": [
    "df_cn_lp_db = DataFrame(person_id_name = Int[], person_id_role = Int[], prio_role = Int[])"
   ]
  },
  {
   "cell_type": "code",
   "execution_count": 43,
   "metadata": {},
   "outputs": [],
   "source": [
    "for row in eachrow(df_cn_lp)\n",
    "    prio = 1\n",
    "    if !ismissing(row[:ep])\n",
    "        name = row[:ep]\n",
    "        if !ismissing(row[:dh])\n",
    "            push!(df_cn_lp_db, (name, row[:dh], prio))\n",
    "            prio += 1\n",
    "        end\n",
    "        if !ismissing(row[:gs])\n",
    "            push!(df_cn_lp_db, (name, row[:gs], prio))\n",
    "            prio += 1\n",
    "        end        \n",
    "        push!(df_cn_lp_db, (name, row[:ep], prio))\n",
    "    elseif !ismissing(row[:dh])\n",
    "        prio = 1\n",
    "        name = row[:dh]\n",
    "        push!(df_cn_lp_db, (name, row[:dh], prio))\n",
    "        prio += 1\n",
    "        if !ismissing(row[:gs])\n",
    "            push!(df_cn_lp_db, (name, row[:gs], prio))\n",
    "        end\n",
    "    else\n",
    "        prio = 1\n",
    "        push!(df_cn_lp_db, (row[:gs], row[:gs], prio))\n",
    "    end\n",
    "end        "
   ]
  },
  {
   "cell_type": "code",
   "execution_count": 44,
   "metadata": {},
   "outputs": [
    {
     "data": {
      "text/html": [
       "<div class=\"data-frame\"><p>5 rows × 3 columns</p><table class=\"data-frame\"><thead><tr><th></th><th>person_id_name</th><th>person_id_role</th><th>prio_role</th></tr><tr><th></th><th title=\"Int64\">Int64</th><th title=\"Int64\">Int64</th><th title=\"Int64\">Int64</th></tr></thead><tbody><tr><th>1</th><td>274869</td><td>307494</td><td>2</td></tr><tr><th>2</th><td>271006</td><td>271006</td><td>1</td></tr><tr><th>3</th><td>271006</td><td>307496</td><td>2</td></tr><tr><th>4</th><td>271007</td><td>271007</td><td>1</td></tr><tr><th>5</th><td>271007</td><td>307497</td><td>2</td></tr></tbody></table></div>"
      ],
      "text/latex": [
       "\\begin{tabular}{r|ccc}\n",
       "\t& person\\_id\\_name & person\\_id\\_role & prio\\_role\\\\\n",
       "\t\\hline\n",
       "\t& Int64 & Int64 & Int64\\\\\n",
       "\t\\hline\n",
       "\t1 & 274869 & 307494 & 2 \\\\\n",
       "\t2 & 271006 & 271006 & 1 \\\\\n",
       "\t3 & 271006 & 307496 & 2 \\\\\n",
       "\t4 & 271007 & 271007 & 1 \\\\\n",
       "\t5 & 271007 & 307497 & 2 \\\\\n",
       "\\end{tabular}\n"
      ],
      "text/plain": [
       "\u001b[1m5×3 DataFrame\u001b[0m\n",
       "\u001b[1m Row \u001b[0m│\u001b[1m person_id_name \u001b[0m\u001b[1m person_id_role \u001b[0m\u001b[1m prio_role \u001b[0m\n",
       "\u001b[1m     \u001b[0m│\u001b[90m Int64          \u001b[0m\u001b[90m Int64          \u001b[0m\u001b[90m Int64     \u001b[0m\n",
       "─────┼───────────────────────────────────────────\n",
       "   1 │         274869          307494          2\n",
       "   2 │         271006          271006          1\n",
       "   3 │         271006          307496          2\n",
       "   4 │         271007          271007          1\n",
       "   5 │         271007          307497          2"
      ]
     },
     "execution_count": 44,
     "metadata": {},
     "output_type": "execute_result"
    }
   ],
   "source": [
    "df_cn_lp_db[1021:1025, :]"
   ]
  },
  {
   "cell_type": "code",
   "execution_count": 45,
   "metadata": {},
   "outputs": [
    {
     "data": {
      "text/plain": [
       "0"
      ]
     },
     "execution_count": 45,
     "metadata": {},
     "output_type": "execute_result"
    }
   ],
   "source": [
    "count(ismissing, df_cn_lp_db.person_id_name)"
   ]
  },
  {
   "cell_type": "code",
   "execution_count": 46,
   "metadata": {},
   "outputs": [
    {
     "name": "stderr",
     "output_type": "stream",
     "text": [
      "┌ Info: 10000\n",
      "└ @ WiagDataSetup C:\\Users\\georg\\Documents\\projekte\\WiagDataSetup.jl\\src\\WiagDataSetup.jl:1193\n",
      "┌ Info: Rows inserted: 12952\n",
      "└ @ WiagDataSetup C:\\Users\\georg\\Documents\\projekte\\WiagDataSetup.jl\\src\\WiagDataSetup.jl:1216\n"
     ]
    },
    {
     "data": {
      "text/plain": [
       "12952"
      ]
     },
     "execution_count": 46,
     "metadata": {},
     "output_type": "execute_result"
    }
   ],
   "source": [
    "table_name = \"canon_lookup\"\n",
    "Wds.filltable!(table_name, df_cn_lp_db; clear_table = true)"
   ]
  },
  {
   "cell_type": "markdown",
   "metadata": {},
   "source": [
    "Version mit paralleler Struktur für `canon_lookup`  \n",
    "*2022-03-10* vermutlich obsolet"
   ]
  },
  {
   "cell_type": "markdown",
   "metadata": {},
   "source": [
    "`id` ist `dh` oder `gs`"
   ]
  },
  {
   "cell_type": "code",
   "execution_count": null,
   "metadata": {},
   "outputs": [],
   "source": [
    "df_cn_lp_gs[!, :id] = copy(df_cn_lp_gs.dh);"
   ]
  },
  {
   "cell_type": "code",
   "execution_count": null,
   "metadata": {},
   "outputs": [],
   "source": [
    "for row in eachrow(df_cn_lp_gs)\n",
    "    if ismissing(row[:id])\n",
    "        if !ismissing(row[:gs])\n",
    "            row[:id] = row[:gs]\n",
    "        else\n",
    "            @warn \"missing dh and gs\" row\n",
    "        end\n",
    "    end\n",
    "end          "
   ]
  },
  {
   "cell_type": "markdown",
   "metadata": {},
   "source": [
    "`person_id` ist `ep` oder `dh` oder `gs`"
   ]
  },
  {
   "cell_type": "code",
   "execution_count": null,
   "metadata": {},
   "outputs": [],
   "source": [
    "df_cn_lp_gs[!, :person_id] = copy(df_cn_lp_gs.ep);"
   ]
  },
  {
   "cell_type": "code",
   "execution_count": null,
   "metadata": {},
   "outputs": [],
   "source": [
    "for row in eachrow(df_cn_lp_gs)\n",
    "    if ismissing(row[:person_id])\n",
    "        if !ismissing(row[:dh])\n",
    "            row[:person_id] = row[:dh]\n",
    "        elseif !ismissing(row[:gs])\n",
    "            row[:person_id] = row[:gs]\n",
    "        else\n",
    "            @warn \"missing ep and dh and gs\" row\n",
    "        end\n",
    "    end\n",
    "end          "
   ]
  },
  {
   "cell_type": "markdown",
   "metadata": {},
   "source": [
    "Führe die Verweise auf Bischöfe zusammen"
   ]
  },
  {
   "cell_type": "code",
   "execution_count": null,
   "metadata": {},
   "outputs": [],
   "source": [
    "names(df_cn_lp_gs)"
   ]
  },
  {
   "cell_type": "code",
   "execution_count": null,
   "metadata": {},
   "outputs": [],
   "source": [
    "df_cn_lp_gs[!, :ep] = copy(df_cn_lp_gs.ep1);"
   ]
  },
  {
   "cell_type": "code",
   "execution_count": null,
   "metadata": {},
   "outputs": [],
   "source": [
    "for row in eachrow(df_cn_lp_gs)\n",
    "    if !ismissing(row[:ep2])\n",
    "        if !ismissing(row[:ep])\n",
    "            if row[:ep] != row[:ep2]\n",
    "                println(row)\n",
    "            end\n",
    "        else\n",
    "            row[:ep] = row[:ep2]\n",
    "        end\n",
    "    end\n",
    "end               "
   ]
  },
  {
   "cell_type": "markdown",
   "metadata": {},
   "source": [
    "Keine Ausgabe -> Alle Verweise auf Bischöfe stimmen überein"
   ]
  },
  {
   "cell_type": "code",
   "execution_count": null,
   "metadata": {},
   "outputs": [],
   "source": [
    "count(!ismissing, df_cn_lp_gs.ep1), count(!ismissing, df_cn_lp_gs.ep2), count(!ismissing, df_cn_lp_gs.ep)"
   ]
  },
  {
   "cell_type": "markdown",
   "metadata": {},
   "source": [
    "In der Domherrendatenbank wurden alle Verweise recherchiert."
   ]
  },
  {
   "cell_type": "code",
   "execution_count": null,
   "metadata": {},
   "outputs": [],
   "source": [
    "columns = [\n",
    "    :id => :id,\n",
    "    :person_id => :person_id,\n",
    "    :dh => :canon,\n",
    "    :gs => :canon_gs,\n",
    "    :ep => :bishop\n",
    "]"
   ]
  },
  {
   "cell_type": "code",
   "execution_count": null,
   "metadata": {},
   "outputs": [],
   "source": [
    "table_name = \"canon_lookup\"\n",
    "Wds.filltable!(table_name, select(df_cn_lp_gs, columns))"
   ]
  },
  {
   "cell_type": "markdown",
   "metadata": {},
   "source": [
    "### Nachtrag person.note_name"
   ]
  },
  {
   "cell_type": "code",
   "execution_count": 289,
   "metadata": {},
   "outputs": [],
   "source": [
    "using DataFrames"
   ]
  },
  {
   "cell_type": "code",
   "execution_count": 290,
   "metadata": {},
   "outputs": [],
   "source": [
    "table_name = gs_db * \".\" * \"persons\";\n",
    "sql = \"SELECT id, vorname, familienname, namenszusatz\n",
    "FROM $(table_name)\n",
    "WHERE namenszusatz IS NOT NULL and namenszusatz <> ''\";"
   ]
  },
  {
   "cell_type": "code",
   "execution_count": 291,
   "metadata": {},
   "outputs": [
    {
     "data": {
      "text/plain": [
       "\"SELECT id, vorname, familienname, namenszusatz FROM gso_in_202205.persons WHERE namenszusatz IS NOT NULL and namenszusatz <> ''\""
      ]
     },
     "execution_count": 291,
     "metadata": {},
     "output_type": "execute_result"
    }
   ],
   "source": [
    "sql_db = join(split(sql, \"\\n\"), ' ')"
   ]
  },
  {
   "cell_type": "code",
   "execution_count": 292,
   "metadata": {},
   "outputs": [],
   "source": [
    "df_p_note_gs = Wds.sql_df(sql);"
   ]
  },
  {
   "cell_type": "code",
   "execution_count": 293,
   "metadata": {},
   "outputs": [],
   "source": [
    "Wds.clean_up!(df_p_note_gs);"
   ]
  },
  {
   "cell_type": "code",
   "execution_count": 294,
   "metadata": {},
   "outputs": [],
   "source": [
    "transform!(df_p_note_gs, :id => ByRow(string) => :id_in_source);"
   ]
  },
  {
   "cell_type": "code",
   "execution_count": 295,
   "metadata": {},
   "outputs": [],
   "source": [
    "table_name = \"item\";\n",
    "sql = \"SELECT id as item_id, id_in_source, item_type_id, id_public\n",
    "FROM $(table_name)\n",
    "WHERE item_type_id = $(item_type_id)\";\n",
    "df_item = Wds.sql_df(sql);"
   ]
  },
  {
   "cell_type": "code",
   "execution_count": 296,
   "metadata": {},
   "outputs": [
    {
     "data": {
      "text/plain": [
       "8957"
      ]
     },
     "execution_count": 296,
     "metadata": {},
     "output_type": "execute_result"
    }
   ],
   "source": [
    "size(df_item, 1)"
   ]
  },
  {
   "cell_type": "code",
   "execution_count": 297,
   "metadata": {},
   "outputs": [],
   "source": [
    "df_p_note = innerjoin(df_p_note_gs, df_item, on = :id_in_source);"
   ]
  },
  {
   "cell_type": "code",
   "execution_count": 298,
   "metadata": {},
   "outputs": [
    {
     "data": {
      "text/plain": [
       "734"
      ]
     },
     "execution_count": 298,
     "metadata": {},
     "output_type": "execute_result"
    }
   ],
   "source": [
    "size(df_p_note, 1)"
   ]
  },
  {
   "cell_type": "markdown",
   "metadata": {},
   "source": [
    "Nur ein Teil der Personen aus GS sind Domherren."
   ]
  },
  {
   "cell_type": "code",
   "execution_count": 299,
   "metadata": {
    "scrolled": true
   },
   "outputs": [
    {
     "data": {
      "text/html": [
       "<div class=\"data-frame\"><p>6 rows × 6 columns</p><table class=\"data-frame\"><thead><tr><th></th><th>id</th><th>id_in_source</th><th>item_id</th><th>id_public</th><th>vorname</th><th>familienname</th></tr><tr><th></th><th title=\"Int32\">Int32</th><th title=\"String\">String</th><th title=\"Int32\">Int32</th><th title=\"Union{Missing, String}\">String?</th><th title=\"Union{Missing, String}\">String?</th><th title=\"Union{Missing, String}\">String?</th></tr></thead><tbody><tr><th>1</th><td>108023</td><td>108023</td><td>304476</td><td>WIAG-Pers-CANON-82874-001</td><td>Johannes</td><td>Grüter</td></tr><tr><th>2</th><td>108016</td><td>108016</td><td>304479</td><td>WIAG-Pers-CANON-82871-001</td><td>Johannes</td><td>Gebinck</td></tr><tr><th>3</th><td>108007</td><td>108007</td><td>304481</td><td>WIAG-Pers-CANON-82869-001</td><td>Johannes</td><td>Franke</td></tr><tr><th>4</th><td>107985</td><td>107985</td><td>304488</td><td>WIAG-Pers-CANON-82862-001</td><td>Johannes</td><td>Ermen</td></tr><tr><th>5</th><td>108129</td><td>108129</td><td>304491</td><td>WIAG-Pers-CANON-82920-001</td><td>Johannes</td><td>Scholl</td></tr><tr><th>6</th><td>108126</td><td>108126</td><td>304492</td><td>WIAG-Pers-CANON-82919-001</td><td>Johannes</td><td>Scherff</td></tr></tbody></table></div>"
      ],
      "text/latex": [
       "\\begin{tabular}{r|cccccc}\n",
       "\t& id & id\\_in\\_source & item\\_id & id\\_public & vorname & familienname\\\\\n",
       "\t\\hline\n",
       "\t& Int32 & String & Int32 & String? & String? & String?\\\\\n",
       "\t\\hline\n",
       "\t1 & 108023 & 108023 & 304476 & WIAG-Pers-CANON-82874-001 & Johannes & Grüter \\\\\n",
       "\t2 & 108016 & 108016 & 304479 & WIAG-Pers-CANON-82871-001 & Johannes & Gebinck \\\\\n",
       "\t3 & 108007 & 108007 & 304481 & WIAG-Pers-CANON-82869-001 & Johannes & Franke \\\\\n",
       "\t4 & 107985 & 107985 & 304488 & WIAG-Pers-CANON-82862-001 & Johannes & Ermen \\\\\n",
       "\t5 & 108129 & 108129 & 304491 & WIAG-Pers-CANON-82920-001 & Johannes & Scholl \\\\\n",
       "\t6 & 108126 & 108126 & 304492 & WIAG-Pers-CANON-82919-001 & Johannes & Scherff \\\\\n",
       "\\end{tabular}\n"
      ],
      "text/plain": [
       "\u001b[1m6×6 DataFrame\u001b[0m\n",
       "\u001b[1m Row \u001b[0m│\u001b[1m id     \u001b[0m\u001b[1m id_in_source \u001b[0m\u001b[1m item_id \u001b[0m\u001b[1m id_public                 \u001b[0m\u001b[1m vorname  \u001b[0m\u001b[1m familienname \u001b[0m\n",
       "\u001b[1m     \u001b[0m│\u001b[90m Int32  \u001b[0m\u001b[90m String       \u001b[0m\u001b[90m Int32   \u001b[0m\u001b[90m String?                   \u001b[0m\u001b[90m String?  \u001b[0m\u001b[90m String?      \u001b[0m\n",
       "─────┼──────────────────────────────────────────────────────────────────────────────────\n",
       "   1 │ 108023  108023         304476  WIAG-Pers-CANON-82874-001  Johannes  Grüter\n",
       "   2 │ 108016  108016         304479  WIAG-Pers-CANON-82871-001  Johannes  Gebinck\n",
       "   3 │ 108007  108007         304481  WIAG-Pers-CANON-82869-001  Johannes  Franke\n",
       "   4 │ 107985  107985         304488  WIAG-Pers-CANON-82862-001  Johannes  Ermen\n",
       "   5 │ 108129  108129         304491  WIAG-Pers-CANON-82920-001  Johannes  Scholl\n",
       "   6 │ 108126  108126         304492  WIAG-Pers-CANON-82919-001  Johannes  Scherff"
      ]
     },
     "execution_count": 299,
     "metadata": {},
     "output_type": "execute_result"
    }
   ],
   "source": [
    "df_p_note[200:205, [:id, :id_in_source, :item_id, :id_public, :vorname, :familienname]]"
   ]
  },
  {
   "cell_type": "code",
   "execution_count": 300,
   "metadata": {},
   "outputs": [
    {
     "data": {
      "text/html": [
       "<div class=\"data-frame\"><p>6 rows × 6 columns</p><table class=\"data-frame\"><thead><tr><th></th><th>id</th><th>id_in_source</th><th>item_id</th><th>namenszusatz</th><th>vorname</th><th>familienname</th></tr><tr><th></th><th title=\"Int32\">Int32</th><th title=\"String\">String</th><th title=\"Int32\">Int32</th><th title=\"String\">String</th><th title=\"Union{Missing, String}\">String?</th><th title=\"Union{Missing, String}\">String?</th></tr></thead><tbody><tr><th>1</th><td>108023</td><td>108023</td><td>304476</td><td>genannt Lembeck</td><td>Johannes</td><td>Grüter</td></tr><tr><th>2</th><td>108016</td><td>108016</td><td>304479</td><td>genannt Woldeken</td><td>Johannes</td><td>Gebinck</td></tr><tr><th>3</th><td>108007</td><td>108007</td><td>304481</td><td>von Ahlen</td><td>Johannes</td><td>Franke</td></tr><tr><th>4</th><td>107985</td><td>107985</td><td>304488</td><td>der Jüngere</td><td>Johannes</td><td>Ermen</td></tr><tr><th>5</th><td>108129</td><td>108129</td><td>304491</td><td>von Siegen, de Zieghen</td><td>Johannes</td><td>Scholl</td></tr><tr><th>6</th><td>108126</td><td>108126</td><td>304492</td><td>der Jüngere</td><td>Johannes</td><td>Scherff</td></tr></tbody></table></div>"
      ],
      "text/latex": [
       "\\begin{tabular}{r|cccccc}\n",
       "\t& id & id\\_in\\_source & item\\_id & namenszusatz & vorname & familienname\\\\\n",
       "\t\\hline\n",
       "\t& Int32 & String & Int32 & String & String? & String?\\\\\n",
       "\t\\hline\n",
       "\t1 & 108023 & 108023 & 304476 & genannt Lembeck & Johannes & Grüter \\\\\n",
       "\t2 & 108016 & 108016 & 304479 & genannt Woldeken & Johannes & Gebinck \\\\\n",
       "\t3 & 108007 & 108007 & 304481 & von Ahlen & Johannes & Franke \\\\\n",
       "\t4 & 107985 & 107985 & 304488 & der Jüngere & Johannes & Ermen \\\\\n",
       "\t5 & 108129 & 108129 & 304491 & von Siegen, de Zieghen & Johannes & Scholl \\\\\n",
       "\t6 & 108126 & 108126 & 304492 & der Jüngere & Johannes & Scherff \\\\\n",
       "\\end{tabular}\n"
      ],
      "text/plain": [
       "\u001b[1m6×6 DataFrame\u001b[0m\n",
       "\u001b[1m Row \u001b[0m│\u001b[1m id     \u001b[0m\u001b[1m id_in_source \u001b[0m\u001b[1m item_id \u001b[0m\u001b[1m namenszusatz           \u001b[0m\u001b[1m vorname  \u001b[0m\u001b[1m familienname \u001b[0m\n",
       "\u001b[1m     \u001b[0m│\u001b[90m Int32  \u001b[0m\u001b[90m String       \u001b[0m\u001b[90m Int32   \u001b[0m\u001b[90m String                 \u001b[0m\u001b[90m String?  \u001b[0m\u001b[90m String?      \u001b[0m\n",
       "─────┼───────────────────────────────────────────────────────────────────────────────\n",
       "   1 │ 108023  108023         304476  genannt Lembeck         Johannes  Grüter\n",
       "   2 │ 108016  108016         304479  genannt Woldeken        Johannes  Gebinck\n",
       "   3 │ 108007  108007         304481  von Ahlen               Johannes  Franke\n",
       "   4 │ 107985  107985         304488  der Jüngere             Johannes  Ermen\n",
       "   5 │ 108129  108129         304491  von Siegen, de Zieghen  Johannes  Scholl\n",
       "   6 │ 108126  108126         304492  der Jüngere             Johannes  Scherff"
      ]
     },
     "execution_count": 300,
     "metadata": {},
     "output_type": "execute_result"
    }
   ],
   "source": [
    "df_p_note[200:205, [:id, :id_in_source, :item_id, :namenszusatz, :vorname, :familienname]]"
   ]
  },
  {
   "cell_type": "code",
   "execution_count": 328,
   "metadata": {},
   "outputs": [
    {
     "data": {
      "text/plain": [
       "8-element Vector{String}:\n",
       " \"id\"\n",
       " \"vorname\"\n",
       " \"familienname\"\n",
       " \"namenszusatz\"\n",
       " \"id_in_source\"\n",
       " \"item_id\"\n",
       " \"item_type_id\"\n",
       " \"id_public\""
      ]
     },
     "execution_count": 328,
     "metadata": {},
     "output_type": "execute_result"
    }
   ],
   "source": [
    "names(df_p_note)"
   ]
  },
  {
   "cell_type": "code",
   "execution_count": 301,
   "metadata": {},
   "outputs": [
    {
     "data": {
      "text/plain": [
       "sql_update (generic function with 1 method)"
      ]
     },
     "execution_count": 301,
     "metadata": {},
     "output_type": "execute_result"
    }
   ],
   "source": [
    "table_name = \"person\";\n",
    "function sql_update(note_name, person_id) \n",
    "    sql = \"UPDATE $(table_name) AS p \" *\n",
    "    \"SET p.note_name = '$(note_name)' \" *\n",
    "    \"WHERE p.id = $(person_id)\"\n",
    "    return sql\n",
    "end"
   ]
  },
  {
   "cell_type": "code",
   "execution_count": 302,
   "metadata": {},
   "outputs": [
    {
     "name": "stderr",
     "output_type": "stream",
     "text": [
      "┌ Info: 200\n",
      "└ @ Main In[302]:8\n",
      "┌ Info: 400\n",
      "└ @ Main In[302]:8\n",
      "┌ Info: 600\n",
      "└ @ Main In[302]:8\n"
     ]
    }
   ],
   "source": [
    "count_loop = 0;\n",
    "count_msg = 200;\n",
    "for row in eachrow(df_p_note)\n",
    "    sql = sql_update(row[:namenszusatz], row[:item_id])\n",
    "    DBInterface.execute(Wds.dbwiag, sql)\n",
    "    count_loop += 1;\n",
    "    if count_loop % count_msg == 0\n",
    "        @info count_loop\n",
    "    end\n",
    "end"
   ]
  },
  {
   "cell_type": "code",
   "execution_count": null,
   "metadata": {},
   "outputs": [],
   "source": []
  },
  {
   "cell_type": "code",
   "execution_count": null,
   "metadata": {},
   "outputs": [],
   "source": []
  },
  {
   "cell_type": "code",
   "execution_count": null,
   "metadata": {},
   "outputs": [],
   "source": []
  },
  {
   "cell_type": "code",
   "execution_count": null,
   "metadata": {},
   "outputs": [],
   "source": []
  },
  {
   "cell_type": "code",
   "execution_count": null,
   "metadata": {},
   "outputs": [],
   "source": []
  },
  {
   "cell_type": "code",
   "execution_count": null,
   "metadata": {},
   "outputs": [],
   "source": []
  }
 ],
 "metadata": {
  "kernelspec": {
   "display_name": "Julia 1.7.0",
   "language": "julia",
   "name": "julia-1.7"
  },
  "language_info": {
   "file_extension": ".jl",
   "mimetype": "application/julia",
   "name": "julia",
   "version": "1.7.0"
  }
 },
 "nbformat": 4,
 "nbformat_minor": 4
}
