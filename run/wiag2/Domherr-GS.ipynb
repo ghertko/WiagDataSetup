{
 "cells": [
  {
   "cell_type": "markdown",
   "metadata": {},
   "source": [
    "# Wissensaggregator Mittelalter und frühe Neuzeit\n",
    "WIAGweb2\n",
    "\n",
    "## Daten für Domherren aus dem Digitalen Personenregister einlesen\n",
    "\n",
    "Übertrage Daten aus der GS-online. Die Daten werden aus der produktiven Datenbank auf eine lokale Datenbank eingelesen: `gso`\n",
    "\n",
    "[Literatur](#Literatur)  \n",
    "[Domherren](#Domherren)\n",
    "- [Einträge in `item`](#Einträge-in-item)\n",
    "- [Daten eintragen](#Daten-eintragen)\n",
    "- [Orden eintragen](#Orden-eintragen)\n",
    "- [Literaturverweise eintragen](#Literaturverweise-eintragen)\n",
    "- [Externe IDs eintragen](#Externe-IDs-eintragen)\n",
    "- [Namensvarianten eintragen](#Namensvarianten-eintragen)\n",
    "- [Suchvarianten eintragen (`name_lookup`)](#Suchvarianten-eintragen-(name_lookup))\n",
    "- [Bezug zu den anderen Quellen (`canon_lookup`)](#Bezug-zu-den-anderen-Quellen)\n",
    "- [Sortierung (`canon_sort`)](#canon_sort)  \n",
    "\n",
    "[Nachtrag](#Nachtrag-person.note_name)"
   ]
  },
  {
   "cell_type": "markdown",
   "metadata": {},
   "source": [
    "Quelle: https://mysql.gwdg.de  \n",
    "*2022-04-27* Datenbank `gso_in_202204`  \n",
    "*2022-05-12* Datenbank `gso_in_202205`  \n",
    "*2022-06-02* Bischöfe und Domherren verweisen auf die jeweils aktuelle GSN  \n",
    "*2022-07?* Datenbank `gso_in_202207`\n",
    "\n",
    "| Datum | Datenbank |\n",
    "| :---: | ---:      |\n",
    "| 2022-10-17 | gso_in_202210 |\n",
    "| 2022-11-09 | gso_in_202210 |\n",
    "| 2022-11-23 | gso_in_202211 |"
   ]
  },
  {
   "cell_type": "markdown",
   "metadata": {},
   "source": [
    "Vorspann: Pakete laden; mit der Datenbank verbinden"
   ]
  },
  {
   "cell_type": "code",
   "execution_count": 23,
   "metadata": {},
   "outputs": [
    {
     "data": {
      "text/plain": [
       "\"gso_in_202211\""
      ]
     },
     "execution_count": 23,
     "metadata": {},
     "output_type": "execute_result"
    }
   ],
   "source": [
    "gs_db = \"gso_in_202211\""
   ]
  },
  {
   "cell_type": "code",
   "execution_count": 1,
   "metadata": {},
   "outputs": [
    {
     "data": {
      "text/plain": [
       "\"../..\""
      ]
     },
     "execution_count": 1,
     "metadata": {},
     "output_type": "execute_result"
    }
   ],
   "source": [
    "wds_path=\"../..\""
   ]
  },
  {
   "cell_type": "code",
   "execution_count": 2,
   "metadata": {},
   "outputs": [],
   "source": [
    "cd(wds_path)"
   ]
  },
  {
   "cell_type": "code",
   "execution_count": 3,
   "metadata": {},
   "outputs": [],
   "source": [
    "using Pkg"
   ]
  },
  {
   "cell_type": "code",
   "execution_count": 4,
   "metadata": {},
   "outputs": [
    {
     "name": "stderr",
     "output_type": "stream",
     "text": [
      "\u001b[32m\u001b[1m  Activating\u001b[22m\u001b[39m project at `C:\\Users\\georg\\Documents\\projekte\\WiagDataSetup.jl`\n"
     ]
    }
   ],
   "source": [
    "Pkg.activate(\".\")"
   ]
  },
  {
   "cell_type": "code",
   "execution_count": 5,
   "metadata": {},
   "outputs": [],
   "source": [
    "using Revise"
   ]
  },
  {
   "cell_type": "code",
   "execution_count": 6,
   "metadata": {},
   "outputs": [],
   "source": [
    "using WiagDataSetup"
   ]
  },
  {
   "cell_type": "code",
   "execution_count": 7,
   "metadata": {},
   "outputs": [],
   "source": [
    "using MySQL, DataFrames"
   ]
  },
  {
   "cell_type": "code",
   "execution_count": 8,
   "metadata": {},
   "outputs": [
    {
     "data": {
      "text/plain": [
       "WiagDataSetup"
      ]
     },
     "execution_count": 8,
     "metadata": {},
     "output_type": "execute_result"
    }
   ],
   "source": [
    "Wds = WiagDataSetup"
   ]
  },
  {
   "cell_type": "markdown",
   "metadata": {},
   "source": [
    "*2022-11-03* Der Datenimport wird kompakter: teste mit wiag_in"
   ]
  },
  {
   "cell_type": "code",
   "execution_count": 9,
   "metadata": {},
   "outputs": [
    {
     "name": "stdout",
     "output_type": "stream",
     "text": [
      "Passwort für User georg: ········\n"
     ]
    },
    {
     "data": {
      "text/plain": [
       "MySQL.Connection(host=\"127.0.0.1\", user=\"georg\", port=\"3306\", db=\"wiag_in\")"
      ]
     },
     "execution_count": 9,
     "metadata": {},
     "output_type": "execute_result"
    }
   ],
   "source": [
    "Wds.setDBWIAG(user=\"georg\", db=\"wiag_in\")"
   ]
  },
  {
   "cell_type": "markdown",
   "metadata": {},
   "source": [
    "Item Type ID"
   ]
  },
  {
   "cell_type": "code",
   "execution_count": 10,
   "metadata": {},
   "outputs": [
    {
     "data": {
      "text/plain": [
       "6"
      ]
     },
     "execution_count": 10,
     "metadata": {},
     "output_type": "execute_result"
    }
   ],
   "source": [
    "item_type_id = 6"
   ]
  },
  {
   "cell_type": "code",
   "execution_count": 11,
   "metadata": {},
   "outputs": [
    {
     "data": {
      "text/plain": [
       "120"
      ]
     },
     "execution_count": 11,
     "metadata": {},
     "output_type": "execute_result"
    }
   ],
   "source": [
    "ENV[\"COLUMNS\"] = 120"
   ]
  },
  {
   "cell_type": "code",
   "execution_count": 12,
   "metadata": {},
   "outputs": [
    {
     "data": {
      "text/plain": [
       "\"C:\\\\Users\\\\georg\\\\Documents\\\\projekte-doc\\\\WIAGweb2\\\\data\""
      ]
     },
     "execution_count": 12,
     "metadata": {},
     "output_type": "execute_result"
    }
   ],
   "source": [
    "data_path = \"C:\\\\Users\\\\georg\\\\Documents\\\\projekte-doc\\\\WIAGweb2\\\\data\""
   ]
  },
  {
   "cell_type": "code",
   "execution_count": 13,
   "metadata": {},
   "outputs": [
    {
     "data": {
      "text/plain": [
       "\"C:\\\\Users\\\\georg\\\\Documents\\\\projekte-doc\\\\WIAGweb2\\\\data_sql\""
      ]
     },
     "execution_count": 13,
     "metadata": {},
     "output_type": "execute_result"
    }
   ],
   "source": [
    "out_path = \"C:\\\\Users\\\\georg\\\\Documents\\\\projekte-doc\\\\WIAGweb2\\\\data_sql\""
   ]
  },
  {
   "cell_type": "markdown",
   "metadata": {},
   "source": [
    "## Löschungen für umfassendes Update"
   ]
  },
  {
   "cell_type": "code",
   "execution_count": 14,
   "metadata": {},
   "outputs": [
    {
     "data": {
      "text/plain": [
       "MySQL.TextCursor{true}(MySQL.Connection(host=\"127.0.0.1\", user=\"georg\", port=\"3306\", db=\"wiag_in\"), \"DELETE FROM name_lookup\\nWHERE person_id IN\\n(SELECT id FROM item WHERE item_type_id = 6)\", 0, -1, 17260, MySQL.API.MYSQL_RES(Ptr{Nothing} @0x0000000000000000), Symbol[], Type[], Dict{Symbol, Int64}(), 0, 1, false)"
      ]
     },
     "execution_count": 14,
     "metadata": {},
     "output_type": "execute_result"
    }
   ],
   "source": [
    "table_name = \"name_lookup\";\n",
    "sql = \"DELETE FROM $(table_name)\n",
    "WHERE person_id IN\n",
    "(SELECT id FROM item WHERE item_type_id = $(item_type_id))\";\n",
    "DBInterface.execute(Wds.dbwiag, sql)"
   ]
  },
  {
   "cell_type": "code",
   "execution_count": 15,
   "metadata": {},
   "outputs": [
    {
     "data": {
      "text/plain": [
       "MySQL.TextCursor{true}(MySQL.Connection(host=\"127.0.0.1\", user=\"georg\", port=\"3306\", db=\"wiag_in\"), \"DELETE FROM familyname_variant\\nWHERE person_id IN\\n(SELECT id FROM item WHERE item_type_id = 6)\", 0, -1, 2942, MySQL.API.MYSQL_RES(Ptr{Nothing} @0x0000000000000000), Symbol[], Type[], Dict{Symbol, Int64}(), 0, 1, false)"
      ]
     },
     "execution_count": 15,
     "metadata": {},
     "output_type": "execute_result"
    }
   ],
   "source": [
    "table_name = \"familyname_variant\";\n",
    "sql = \"DELETE FROM $(table_name)\n",
    "WHERE person_id IN\n",
    "(SELECT id FROM item WHERE item_type_id = $(item_type_id))\";\n",
    "DBInterface.execute(Wds.dbwiag, sql)"
   ]
  },
  {
   "cell_type": "code",
   "execution_count": 16,
   "metadata": {},
   "outputs": [
    {
     "data": {
      "text/plain": [
       "MySQL.TextCursor{true}(MySQL.Connection(host=\"127.0.0.1\", user=\"georg\", port=\"3306\", db=\"wiag_in\"), \"DELETE FROM givenname_variant\\nWHERE person_id IN\\n(SELECT id FROM item WHERE item_type_id = 6)\", 0, -1, 1635, MySQL.API.MYSQL_RES(Ptr{Nothing} @0x0000000000000000), Symbol[], Type[], Dict{Symbol, Int64}(), 0, 1, false)"
      ]
     },
     "execution_count": 16,
     "metadata": {},
     "output_type": "execute_result"
    }
   ],
   "source": [
    "table_name = \"givenname_variant\";\n",
    "sql = \"DELETE FROM $(table_name)\n",
    "WHERE person_id IN\n",
    "(SELECT id FROM item WHERE item_type_id = $(item_type_id))\";\n",
    "DBInterface.execute(Wds.dbwiag, sql)"
   ]
  },
  {
   "cell_type": "code",
   "execution_count": 17,
   "metadata": {},
   "outputs": [
    {
     "data": {
      "text/plain": [
       "MySQL.TextCursor{true}(MySQL.Connection(host=\"127.0.0.1\", user=\"georg\", port=\"3306\", db=\"wiag_in\"), \"DELETE FROM id_external\\nWHERE item_id IN\\n(SELECT id FROM item WHERE item_type_id = 6)\", 0, -1, 10644, MySQL.API.MYSQL_RES(Ptr{Nothing} @0x0000000000000000), Symbol[], Type[], Dict{Symbol, Int64}(), 0, 1, false)"
      ]
     },
     "execution_count": 17,
     "metadata": {},
     "output_type": "execute_result"
    }
   ],
   "source": [
    "table_name = \"id_external\";\n",
    "sql = \"DELETE FROM $(table_name)\n",
    "WHERE item_id IN\n",
    "(SELECT id FROM item WHERE item_type_id = $(item_type_id))\";\n",
    "DBInterface.execute(Wds.dbwiag, sql)"
   ]
  },
  {
   "cell_type": "code",
   "execution_count": 18,
   "metadata": {},
   "outputs": [
    {
     "data": {
      "text/plain": [
       "MySQL.TextCursor{true}(MySQL.Connection(host=\"127.0.0.1\", user=\"georg\", port=\"3306\", db=\"wiag_in\"), \"DELETE FROM person_role_property\\nWHERE person_role_id IN\\n(SELECT id FROM person_role\\nWHERE person_id in (SELECT id from item WHERE item_type_id = 6))\", 0, -1, 0, MySQL.API.MYSQL_RES(Ptr{Nothing} @0x0000000000000000), Symbol[], Type[], Dict{Symbol, Int64}(), 0, 1, false)"
      ]
     },
     "execution_count": 18,
     "metadata": {},
     "output_type": "execute_result"
    }
   ],
   "source": [
    "table_name = \"person_role_property\";\n",
    "sql = \"DELETE FROM $(table_name)\n",
    "WHERE person_role_id IN\n",
    "(SELECT id FROM person_role\n",
    "WHERE person_id in (SELECT id from item WHERE item_type_id = $(item_type_id)))\";\n",
    "DBInterface.execute(Wds.dbwiag, sql)"
   ]
  },
  {
   "cell_type": "code",
   "execution_count": 19,
   "metadata": {},
   "outputs": [
    {
     "data": {
      "text/plain": [
       "MySQL.TextCursor{true}(MySQL.Connection(host=\"127.0.0.1\", user=\"georg\", port=\"3306\", db=\"wiag_in\"), \"DELETE FROM person_role\\nWHERE person_id IN\\n(SELECT id FROM item WHERE item_type_id = 6)\", 0, -1, 16475, MySQL.API.MYSQL_RES(Ptr{Nothing} @0x0000000000000000), Symbol[], Type[], Dict{Symbol, Int64}(), 0, 1, false)"
      ]
     },
     "execution_count": 19,
     "metadata": {},
     "output_type": "execute_result"
    }
   ],
   "source": [
    "table_name = \"person_role\";\n",
    "sql = \"DELETE FROM $(table_name)\n",
    "WHERE person_id IN\n",
    "(SELECT id FROM item WHERE item_type_id = $(item_type_id))\";\n",
    "DBInterface.execute(Wds.dbwiag, sql)"
   ]
  },
  {
   "cell_type": "code",
   "execution_count": 20,
   "metadata": {},
   "outputs": [
    {
     "data": {
      "text/plain": [
       "MySQL.TextCursor{true}(MySQL.Connection(host=\"127.0.0.1\", user=\"georg\", port=\"3306\", db=\"wiag_in\"), \"DELETE FROM person\\nWHERE id IN\\n(SELECT id FROM item WHERE item_type_id = 6)\", 0, -1, 9308, MySQL.API.MYSQL_RES(Ptr{Nothing} @0x0000000000000000), Symbol[], Type[], Dict{Symbol, Int64}(), 0, 1, false)"
      ]
     },
     "execution_count": 20,
     "metadata": {},
     "output_type": "execute_result"
    }
   ],
   "source": [
    "table_name = \"person\";\n",
    "sql = \"DELETE FROM $(table_name)\n",
    "WHERE id IN\n",
    "(SELECT id FROM item WHERE item_type_id = $(item_type_id))\";\n",
    "DBInterface.execute(Wds.dbwiag, sql)"
   ]
  },
  {
   "cell_type": "code",
   "execution_count": 21,
   "metadata": {},
   "outputs": [
    {
     "data": {
      "text/plain": [
       "MySQL.TextCursor{true}(MySQL.Connection(host=\"127.0.0.1\", user=\"georg\", port=\"3306\", db=\"wiag_in\"), \"DELETE FROM item_reference\\nWHERE item_id IN\\n(SELECT id FROM item WHERE item_type_id = 6)\", 0, -1, 8119, MySQL.API.MYSQL_RES(Ptr{Nothing} @0x0000000000000000), Symbol[], Type[], Dict{Symbol, Int64}(), 0, 1, false)"
      ]
     },
     "execution_count": 21,
     "metadata": {},
     "output_type": "execute_result"
    }
   ],
   "source": [
    "table_name = \"item_reference\";\n",
    "sql = \"DELETE FROM $(table_name)\n",
    "WHERE item_id IN\n",
    "(SELECT id FROM item WHERE item_type_id = $(item_type_id))\";\n",
    "DBInterface.execute(Wds.dbwiag, sql)"
   ]
  },
  {
   "cell_type": "markdown",
   "metadata": {},
   "source": [
    "**Vorsicht** Zunächst die IDs (`id_public`) für die Domherren GS sichern, Einträge in `item` evtl. erst später löschen"
   ]
  },
  {
   "cell_type": "code",
   "execution_count": 100,
   "metadata": {},
   "outputs": [
    {
     "data": {
      "text/plain": [
       "MySQL.TextCursor{true}(MySQL.Connection(host=\"127.0.0.1\", user=\"georg\", port=\"3306\", db=\"wiag2\"), \"DELETE FROM item\\nWHERE item_type_id = 6\", 0, -1, 8523, MySQL.API.MYSQL_RES(Ptr{Nothing} @0x0000000000000000), Symbol[], Type[], Dict{Symbol, Int64}(), 0, 1, false)"
      ]
     },
     "execution_count": 100,
     "metadata": {},
     "output_type": "execute_result"
    }
   ],
   "source": [
    "table_name = \"item\";\n",
    "sql = \"DELETE FROM $(table_name)\n",
    "WHERE item_type_id = $(item_type_id)\";\n",
    "DBInterface.execute(Wds.dbwiag, sql)"
   ]
  },
  {
   "cell_type": "markdown",
   "metadata": {},
   "source": [
    "## Vorspann `gsn_gsn`\n",
    "\n",
    "``` sql\n",
    "use gso_in_202210;\n",
    "\n",
    "CREATE TEMPORARY TABLE gsn_new AS\n",
    "SELECT id, item_id, nummer\n",
    "FROM gsn\n",
    "WHERE id IN\n",
    "(SELECT min(id) as id from gsn where not deleted group by item_id);\n",
    "\n",
    "CREATE TABLE gsn_gsn AS\n",
    "SELECT o.id, o.item_id, o.nummer, n.id as id_new, n.nummer as nummer_neu\n",
    "FROM gsn AS o\n",
    "INNER JOIN gsn_new AS n ON o.item_id = n.item_id\n",
    "WHERE NOT o.deleted;\n",
    "```"
   ]
  },
  {
   "cell_type": "markdown",
   "metadata": {},
   "source": [
    "## Literatur"
   ]
  },
  {
   "cell_type": "code",
   "execution_count": 24,
   "metadata": {},
   "outputs": [],
   "source": [
    "table_name = gs_db * \".books\"\n",
    "sql = \"SELECT id, titel AS title, autoren AS author, `order` as display_order, nummer AS number_vol, \" *\n",
    "\"uri AS online_resource, kurztitel AS shorttitle \" *\n",
    "\"FROM $(table_name)\";\n",
    "df_vol = Wds.sql_df(sql);"
   ]
  },
  {
   "cell_type": "code",
   "execution_count": 25,
   "metadata": {},
   "outputs": [
    {
     "data": {
      "text/plain": [
       "7-element Vector{String}:\n",
       " \"id\"\n",
       " \"title\"\n",
       " \"author\"\n",
       " \"display_order\"\n",
       " \"number_vol\"\n",
       " \"online_resource\"\n",
       " \"shorttitle\""
      ]
     },
     "execution_count": 25,
     "metadata": {},
     "output_type": "execute_result"
    }
   ],
   "source": [
    "names(df_vol)"
   ]
  },
  {
   "cell_type": "code",
   "execution_count": 26,
   "metadata": {},
   "outputs": [
    {
     "data": {
      "text/plain": [
       "7-element Vector{Pair{Symbol, Symbol}}:\n",
       "              :id => :reference_id\n",
       "           :title => :full_citation\n",
       "          :author => :author_editor\n",
       " :online_resource => :online_resource\n",
       "      :shorttitle => :title_short\n",
       "      :number_vol => :gs_volume_nr\n",
       "   :display_order => :display_order"
      ]
     },
     "execution_count": 26,
     "metadata": {},
     "output_type": "execute_result"
    }
   ],
   "source": [
    "columns = [\n",
    "    :id => :reference_id,\n",
    "    :title => :full_citation,\n",
    "    :author => :author_editor,\n",
    "    :online_resource => :online_resource,\n",
    "    :shorttitle => :title_short,\n",
    "    :number_vol => :gs_volume_nr,\n",
    "    :display_order => :display_order,\n",
    "]"
   ]
  },
  {
   "cell_type": "code",
   "execution_count": 27,
   "metadata": {},
   "outputs": [],
   "source": [
    "df_vol_db = select(df_vol, columns);"
   ]
  },
  {
   "cell_type": "code",
   "execution_count": 28,
   "metadata": {},
   "outputs": [],
   "source": [
    "df_vol_db[!, :item_type_id] .= item_type_id;"
   ]
  },
  {
   "cell_type": "markdown",
   "metadata": {},
   "source": [
    "Bestehende Einträge löschen"
   ]
  },
  {
   "cell_type": "code",
   "execution_count": 29,
   "metadata": {},
   "outputs": [
    {
     "data": {
      "text/plain": [
       "MySQL.TextCursor{true}(MySQL.Connection(host=\"127.0.0.1\", user=\"georg\", port=\"3306\", db=\"wiag_in\"), \"DELETE FROM reference_volume WHERE item_type_id = 6\", 0, -1, 89, MySQL.API.MYSQL_RES(Ptr{Nothing} @0x0000000000000000), Symbol[], Type[], Dict{Symbol, Int64}(), 0, 1, false)"
      ]
     },
     "execution_count": 29,
     "metadata": {},
     "output_type": "execute_result"
    }
   ],
   "source": [
    "table_name = \"reference_volume\"\n",
    "sql = \"DELETE FROM $(table_name) WHERE item_type_id = $(item_type_id)\";\n",
    "DBInterface.execute(Wds.dbwiag, sql)"
   ]
  },
  {
   "cell_type": "markdown",
   "metadata": {},
   "source": [
    "Daten eintragen"
   ]
  },
  {
   "cell_type": "code",
   "execution_count": 30,
   "metadata": {},
   "outputs": [
    {
     "name": "stderr",
     "output_type": "stream",
     "text": [
      "┌ Info: Rows inserted: 89\n",
      "└ @ WiagDataSetup C:\\Users\\georg\\Documents\\projekte\\WiagDataSetup.jl\\src\\WiagDataSetup.jl:1216\n"
     ]
    },
    {
     "data": {
      "text/plain": [
       "89"
      ]
     },
     "execution_count": 30,
     "metadata": {},
     "output_type": "execute_result"
    }
   ],
   "source": [
    "table_name = \"reference_volume\"\n",
    "Wds.filltable!(table_name, df_vol_db, clear_table = false)"
   ]
  },
  {
   "cell_type": "markdown",
   "metadata": {},
   "source": [
    "### Literatur GS\n",
    "Feld `gs-citation`"
   ]
  },
  {
   "cell_type": "code",
   "execution_count": 31,
   "metadata": {},
   "outputs": [],
   "source": [
    "using CSV, MySQL, DataFrames"
   ]
  },
  {
   "cell_type": "code",
   "execution_count": 32,
   "metadata": {},
   "outputs": [
    {
     "data": {
      "text/plain": [
       "\"C:\\\\Users\\\\georg\\\\Documents\\\\projekte-doc\\\\WIAGweb2\\\\data\\\\GS_Baende_ZitationGS.csv\""
      ]
     },
     "execution_count": 32,
     "metadata": {},
     "output_type": "execute_result"
    }
   ],
   "source": [
    "filename = joinpath(data_path, \"GS_Baende_ZitationGS.csv\")"
   ]
  },
  {
   "cell_type": "code",
   "execution_count": 33,
   "metadata": {},
   "outputs": [],
   "source": [
    "df_ref_c_gs = CSV.read(filename, DataFrame, delim=\"\\t\");"
   ]
  },
  {
   "cell_type": "code",
   "execution_count": 34,
   "metadata": {},
   "outputs": [
    {
     "data": {
      "text/html": [
       "<div><div style = \"float: left;\"><span>5×2 DataFrame</span></div><div style = \"clear: both;\"></div></div><div class = \"data-frame\" style = \"overflow-x: scroll;\"><table class = \"data-frame\" style = \"margin-bottom: 6px;\"><thead><tr class = \"header\"><th class = \"rowNumber\" style = \"font-weight: bold; text-align: right;\">Row</th><th style = \"text-align: left;\">reference_id</th><th style = \"text-align: left;\">gs_citation</th></tr><tr class = \"subheader headerLastRow\"><th class = \"rowNumber\" style = \"font-weight: bold; text-align: right;\"></th><th title = \"Int64\" style = \"text-align: left;\">Int64</th><th title = \"String\" style = \"text-align: left;\">String</th></tr></thead><tbody><tr><td class = \"rowNumber\" style = \"font-weight: bold; text-align: right;\">1</td><td style = \"text-align: right;\">21</td><td style = \"text-align: left;\">Wendehorst, Alfred, Das Bistum Würzburg 3: Die Bischofsreihe von 1455 bis 1617 (Germania Sacra N. F. 13), Berlin/New York 1978</td></tr><tr><td class = \"rowNumber\" style = \"font-weight: bold; text-align: right;\">2</td><td style = \"text-align: right;\">22</td><td style = \"text-align: left;\">Pauly, Ferdinand, Das Erzbistum Trier 2: Die Stifte St. Severus in Boppard, St. Goar in St. Goar, Liebfrauen in Oberwesel, St. Martin in Oberwesel (Germania Sacra N. F. 14), Berlin/New York 1980</td></tr><tr><td class = \"rowNumber\" style = \"font-weight: bold; text-align: right;\">3</td><td style = \"text-align: right;\">23</td><td style = \"text-align: left;\">Maurer, Helmut, Das Bistum Konstanz 1: Das Stift St. Stephan in Konstanz (Germania Sacra N. F. 15), Berlin/New York 1982</td></tr><tr><td class = \"rowNumber\" style = \"font-weight: bold; text-align: right;\">4</td><td style = \"text-align: right;\">24</td><td style = \"text-align: left;\">Sydow, Jürgen, Das Bistum Konstanz 2: Die Zisterzienserabtei Bebenhausen (Germania Sacra N. F. 16), Berlin/New York 1984</td></tr><tr><td class = \"rowNumber\" style = \"font-weight: bold; text-align: right;\">5</td><td style = \"text-align: right;\">25</td><td style = \"text-align: left;\">Kohl, Wilhelm, Das Bistum Münster 4, 1−3: Das Domstift St. Paulus zu Münster (Germania Sacra N. F. 17,1−3), Berlin/New York 1987/1982/1989</td></tr></tbody></table></div>"
      ],
      "text/latex": [
       "\\begin{tabular}{r|cc}\n",
       "\t& reference\\_id & gs\\_citation\\\\\n",
       "\t\\hline\n",
       "\t& Int64 & String\\\\\n",
       "\t\\hline\n",
       "\t1 & 21 & Wendehorst, Alfred, Das Bistum Würzburg 3: Die Bischofsreihe von 1455 bis 1617 (Germania Sacra N. F. 13), Berlin/New York 1978 \\\\\n",
       "\t2 & 22 & Pauly, Ferdinand, Das Erzbistum Trier 2: Die Stifte St. Severus in Boppard, St. Goar in St. Goar, Liebfrauen in Oberwesel, St. Martin in Oberwesel (Germania Sacra N. F. 14), Berlin/New York 1980 \\\\\n",
       "\t3 & 23 & Maurer, Helmut, Das Bistum Konstanz 1: Das Stift St. Stephan in Konstanz (Germania Sacra N. F. 15), Berlin/New York 1982 \\\\\n",
       "\t4 & 24 & Sydow, Jürgen, Das Bistum Konstanz 2: Die Zisterzienserabtei Bebenhausen (Germania Sacra N. F. 16), Berlin/New York 1984 \\\\\n",
       "\t5 & 25 & Kohl, Wilhelm, Das Bistum Münster 4, 1−3: Das Domstift St. Paulus zu Münster (Germania Sacra N. F. 17,1−3), Berlin/New York 1987/1982/1989 \\\\\n",
       "\\end{tabular}\n"
      ],
      "text/plain": [
       "\u001b[1m5×2 DataFrame\u001b[0m\n",
       "\u001b[1m Row \u001b[0m│\u001b[1m reference_id \u001b[0m\u001b[1m gs_citation                       \u001b[0m\n",
       "     │\u001b[90m Int64        \u001b[0m\u001b[90m String                            \u001b[0m\n",
       "─────┼─────────────────────────────────────────────────\n",
       "   1 │           21  Wendehorst, Alfred, Das Bistum W…\n",
       "   2 │           22  Pauly, Ferdinand, Das Erzbistum …\n",
       "   3 │           23  Maurer, Helmut, Das Bistum Konst…\n",
       "   4 │           24  Sydow, Jürgen, Das Bistum Konsta…\n",
       "   5 │           25  Kohl, Wilhelm, Das Bistum Münste…"
      ]
     },
     "execution_count": 34,
     "metadata": {},
     "output_type": "execute_result"
    }
   ],
   "source": [
    "df_ref_c_gs[21:25, :]"
   ]
  },
  {
   "cell_type": "code",
   "execution_count": 35,
   "metadata": {},
   "outputs": [
    {
     "data": {
      "text/plain": [
       "\"reference_volume\""
      ]
     },
     "execution_count": 35,
     "metadata": {},
     "output_type": "execute_result"
    }
   ],
   "source": [
    "table_name = \"reference_volume\""
   ]
  },
  {
   "cell_type": "code",
   "execution_count": 36,
   "metadata": {},
   "outputs": [],
   "source": [
    "sql = \"UPDATE $(table_name) SET gs_citation = ? WHERE item_type_id = ? AND reference_id = ?\";\n",
    "stmt = DBInterface.prepare(Wds.dbwiag, sql);"
   ]
  },
  {
   "cell_type": "code",
   "execution_count": 26,
   "metadata": {},
   "outputs": [
    {
     "data": {
      "text/plain": [
       "MySQL.Cursor{true}(MySQL.API.MYSQL_STMT(Ptr{Nothing} @0x0000000086eac790), 0, Symbol[], Type[], Dict{Symbol, Int64}(), MySQL.API.BindHelper[], MySQL.API.MYSQL_BIND[], 0, 0, 0)"
      ]
     },
     "execution_count": 26,
     "metadata": {},
     "output_type": "execute_result"
    }
   ],
   "source": [
    "DBInterface.execute(stmt, (\"example_2\", 6, 7))"
   ]
  },
  {
   "cell_type": "code",
   "execution_count": 37,
   "metadata": {},
   "outputs": [],
   "source": [
    "for row in eachrow(df_ref_c_gs)\n",
    "    reference_id, gs_citation = row[[:reference_id, :gs_citation]]\n",
    "    DBInterface.execute(stmt, (gs_citation, item_type_id, reference_id))\n",
    "end\n",
    "DBInterface.close!(stmt)    "
   ]
  },
  {
   "cell_type": "markdown",
   "metadata": {},
   "source": [
    "## Domherren"
   ]
  },
  {
   "cell_type": "markdown",
   "metadata": {},
   "source": [
    "Betrachte nur Personen, deren Eintrag nicht gelöscht ist und die online sind. Die maßgebliche GSN steht in dem Datensatz mit dem kleinsten Wert der id.\n",
    "Ergebnisse *2022-02-25*\n",
    "``` sql\n",
    "use gso_in_202202;\n",
    "select gsn.nummer, item_id, gsn.deleted, items.deleted, items.status\n",
    "from gsn join items on gsn.item_id = items.id \n",
    "where items.status = 'online' and not items.deleted limit 12 offset 4000;\n",
    "select count(*) from gsn join items on gsn.item_id = items.id where items.status = 'online' and not items.deleted;\n",
    "```\n",
    "98544\n",
    "``` sql\n",
    "select count(distinct(gsn.nummer)) \n",
    "from gsn join items on gsn.item_id = items.id \n",
    "where items.status = 'online' and not items.deleted;\n",
    "```\n",
    "98543\n",
    "``` sql\n",
    "create temporary table item_online as\n",
    "select min(gsn.id) as gsn_tbl_id, gsn.nummer, item_id, items.deleted, items.status\n",
    "from gsn join items on gsn.item_id = items.id where items.status = 'online'\n",
    "group by items.id;\n",
    "select count(*) from item_online;\n",
    "```\n",
    "87270"
   ]
  },
  {
   "cell_type": "markdown",
   "metadata": {},
   "source": [
    "Finde Einträge, die von der Domherrendatenbank referenziert werden (sofern die verweisenden Domherren online sind!)"
   ]
  },
  {
   "cell_type": "code",
   "execution_count": 38,
   "metadata": {},
   "outputs": [],
   "source": [
    "db_wiag_ref = \"wiag_in\"\n",
    "table_name = \"item\";\n",
    "sql = \"SELECT item.id as dh_item_id, e.value AS gsn\n",
    "FROM $(db_wiag_ref).item \n",
    "JOIN $(db_wiag_ref).id_external AS e ON item.id = e.item_id\n",
    "WHERE item_type_id = 5\n",
    "AND authority_id = 200\n",
    "AND item.is_online\";\n",
    "dh_gsn = Wds.sql_df(sql);"
   ]
  },
  {
   "cell_type": "code",
   "execution_count": 39,
   "metadata": {},
   "outputs": [
    {
     "data": {
      "text/plain": [
       "2-element Vector{String}:\n",
       " \"dh_item_id\"\n",
       " \"gsn\""
      ]
     },
     "execution_count": 39,
     "metadata": {},
     "output_type": "execute_result"
    }
   ],
   "source": [
    "names(dh_gsn)"
   ]
  },
  {
   "cell_type": "code",
   "execution_count": 40,
   "metadata": {},
   "outputs": [
    {
     "data": {
      "text/plain": [
       "1163"
      ]
     },
     "execution_count": 40,
     "metadata": {},
     "output_type": "execute_result"
    }
   ],
   "source": [
    "size(dh_gsn, 1)"
   ]
  },
  {
   "cell_type": "code",
   "execution_count": 41,
   "metadata": {},
   "outputs": [
    {
     "data": {
      "text/plain": [
       "1163"
      ]
     },
     "execution_count": 41,
     "metadata": {},
     "output_type": "execute_result"
    }
   ],
   "source": [
    "length(unique(dh_gsn.gsn))"
   ]
  },
  {
   "cell_type": "markdown",
   "metadata": {},
   "source": [
    "*2022-04-27* Zwei Domherren, die beide online sind, verweisen auf den gleichen Eintrag in der Personendatenbank. Die Redaktion weiß bescheid. Fahre nur mit einem der Einträge fort.  \n",
    "\n",
    "| Datum | gsn_n | gsn_unique |\n",
    "| :---: | ---:  | ---:       |\n",
    "| 2022-05-12 | 606 | 606 |\n",
    "| 2022-10-15 | 906 | 905 |\n",
    "| 2022-10-19 | 1101 | 1100 |\n",
    "| 2022-11-03 | 1117 | 1116 |\n",
    "| 2022-11-09 | 1147 | 1145 |\n",
    "| 2022-11-23 | 1163 | 1163 |"
   ]
  },
  {
   "cell_type": "code",
   "execution_count": 42,
   "metadata": {},
   "outputs": [],
   "source": [
    "dh_gsn_g = groupby(dh_gsn, :gsn);"
   ]
  },
  {
   "cell_type": "code",
   "execution_count": 43,
   "metadata": {},
   "outputs": [],
   "source": [
    "dh_gsn_gn = combine(dh_gsn_g, nrow);"
   ]
  },
  {
   "cell_type": "code",
   "execution_count": 44,
   "metadata": {
    "scrolled": true
   },
   "outputs": [
    {
     "data": {
      "text/html": [
       "<div><div style = \"float: left;\"><span>0×2 DataFrame</span></div><div style = \"clear: both;\"></div></div><div class = \"data-frame\" style = \"overflow-x: scroll;\"><table class = \"data-frame\" style = \"margin-bottom: 6px;\"></table></div>"
      ],
      "text/latex": [
       "\\begin{tabular}{r|cc}\n",
       "\t& gsn & nrow\\\\\n",
       "\t\\hline\n",
       "\t& String? & Int64\\\\\n",
       "\t\\hline\n",
       "\\end{tabular}\n"
      ],
      "text/plain": [
       "\u001b[1m0×2 DataFrame\u001b[0m"
      ]
     },
     "execution_count": 44,
     "metadata": {},
     "output_type": "execute_result"
    }
   ],
   "source": [
    "subset(dh_gsn_gn, :nrow => ByRow(x -> x > 1))"
   ]
  },
  {
   "cell_type": "code",
   "execution_count": 45,
   "metadata": {},
   "outputs": [],
   "source": [
    "dh_gsn_f = combine(dh_gsn_g, first);"
   ]
  },
  {
   "cell_type": "code",
   "execution_count": 46,
   "metadata": {},
   "outputs": [
    {
     "data": {
      "text/html": [
       "<div><div style = \"float: left;\"><span>5×2 DataFrame</span></div><div style = \"clear: both;\"></div></div><div class = \"data-frame\" style = \"overflow-x: scroll;\"><table class = \"data-frame\" style = \"margin-bottom: 6px;\"><thead><tr class = \"header\"><th class = \"rowNumber\" style = \"font-weight: bold; text-align: right;\">Row</th><th style = \"text-align: left;\">gsn</th><th style = \"text-align: left;\">dh_item_id</th></tr><tr class = \"subheader headerLastRow\"><th class = \"rowNumber\" style = \"font-weight: bold; text-align: right;\"></th><th title = \"Union{Missing, String}\" style = \"text-align: left;\">String?</th><th title = \"Int32\" style = \"text-align: left;\">Int32</th></tr></thead><tbody><tr><td class = \"rowNumber\" style = \"font-weight: bold; text-align: right;\">1</td><td style = \"text-align: left;\">014-02050-001</td><td style = \"text-align: right;\">644565</td></tr><tr><td class = \"rowNumber\" style = \"font-weight: bold; text-align: right;\">2</td><td style = \"text-align: left;\">014-01488-001</td><td style = \"text-align: right;\">639603</td></tr><tr><td class = \"rowNumber\" style = \"font-weight: bold; text-align: right;\">3</td><td style = \"text-align: left;\">015-04122-001</td><td style = \"text-align: right;\">646458</td></tr><tr><td class = \"rowNumber\" style = \"font-weight: bold; text-align: right;\">4</td><td style = \"text-align: left;\">015-06070-001</td><td style = \"text-align: right;\">646510</td></tr><tr><td class = \"rowNumber\" style = \"font-weight: bold; text-align: right;\">5</td><td style = \"text-align: left;\">016-01329-001</td><td style = \"text-align: right;\">646448</td></tr></tbody></table></div>"
      ],
      "text/latex": [
       "\\begin{tabular}{r|cc}\n",
       "\t& gsn & dh\\_item\\_id\\\\\n",
       "\t\\hline\n",
       "\t& String? & Int32\\\\\n",
       "\t\\hline\n",
       "\t1 & 014-02050-001 & 644565 \\\\\n",
       "\t2 & 014-01488-001 & 639603 \\\\\n",
       "\t3 & 015-04122-001 & 646458 \\\\\n",
       "\t4 & 015-06070-001 & 646510 \\\\\n",
       "\t5 & 016-01329-001 & 646448 \\\\\n",
       "\\end{tabular}\n"
      ],
      "text/plain": [
       "\u001b[1m5×2 DataFrame\u001b[0m\n",
       "\u001b[1m Row \u001b[0m│\u001b[1m gsn           \u001b[0m\u001b[1m dh_item_id \u001b[0m\n",
       "     │\u001b[90m String?       \u001b[0m\u001b[90m Int32      \u001b[0m\n",
       "─────┼───────────────────────────\n",
       "   1 │ 014-02050-001      644565\n",
       "   2 │ 014-01488-001      639603\n",
       "   3 │ 015-04122-001      646458\n",
       "   4 │ 015-06070-001      646510\n",
       "   5 │ 016-01329-001      646448"
      ]
     },
     "execution_count": 46,
     "metadata": {},
     "output_type": "execute_result"
    }
   ],
   "source": [
    "dh_gsn_f[51:55, :]"
   ]
  },
  {
   "cell_type": "markdown",
   "metadata": {},
   "source": [
    "Lies aus `gsn` `item_id` (= item der Personendatenbank)"
   ]
  },
  {
   "cell_type": "code",
   "execution_count": 47,
   "metadata": {},
   "outputs": [],
   "source": [
    "table_name = gs_db * \".gsn\"\n",
    "sql = \"SELECT gsn.id as gsn_id, item_id, gsn.nummer, items.status \n",
    "FROM $(table_name)\n",
    "JOIN $(gs_db).items ON item_id = items.id\n",
    "AND NOT items.deleted AND items.status = 'online';\"\n",
    "item_all = Wds.sql_df(sql);"
   ]
  },
  {
   "cell_type": "code",
   "execution_count": 48,
   "metadata": {},
   "outputs": [],
   "source": [
    "dh_item_gsn = innerjoin(dh_gsn_f, item_all, on = :gsn => :nummer);"
   ]
  },
  {
   "cell_type": "code",
   "execution_count": 49,
   "metadata": {},
   "outputs": [
    {
     "data": {
      "text/plain": [
       "1163"
      ]
     },
     "execution_count": 49,
     "metadata": {},
     "output_type": "execute_result"
    }
   ],
   "source": [
    "size(dh_item_gsn, 1)"
   ]
  },
  {
   "cell_type": "markdown",
   "metadata": {},
   "source": [
    "GSN in der Domherrendatenbank ohne Entsprechung in GSO"
   ]
  },
  {
   "cell_type": "code",
   "execution_count": 50,
   "metadata": {},
   "outputs": [
    {
     "data": {
      "text/plain": [
       "Union{Missing, String}[]"
      ]
     },
     "execution_count": 50,
     "metadata": {},
     "output_type": "execute_result"
    }
   ],
   "source": [
    "setdiff(dh_gsn.gsn, item_all.nummer)"
   ]
  },
  {
   "cell_type": "markdown",
   "metadata": {},
   "source": [
    "*2022-04-27* Diese GSN ist ungültig. Sie gehört zu Ägidius von der Lanken. Der Eintrag ist in einem anderen Eintrag aufgegangen.  \n",
    "*2022-11-09* `712-00529-001`"
   ]
  },
  {
   "cell_type": "markdown",
   "metadata": {},
   "source": [
    "Ermittle die IDs weiterer Domherren anhand der relevanten Stifte."
   ]
  },
  {
   "cell_type": "code",
   "execution_count": 51,
   "metadata": {},
   "outputs": [],
   "source": [
    "sql = \"SELECT id_gsn FROM wiag2.institution AS inst\n",
    "JOIN wiag2.item_property AS prp ON inst.id = prp.item_id\n",
    "WHERE prp.name = 'domstift_short'\"\n",
    "df_dft = Wds.sql_df(sql);"
   ]
  },
  {
   "cell_type": "code",
   "execution_count": 52,
   "metadata": {},
   "outputs": [
    {
     "data": {
      "text/plain": [
       "\"(3490, 3491, 3492, 3493, 3494, 3495, 3496, 3498, 3499, 3500, 3501, 3502, 3503, 2066, 953, 832, 783, 792, 794, 803, 736, 739, 675, 676, 679, 701, 616, 628, 343, 226, 3489, 3488, 3487, 60130)\""
      ]
     },
     "execution_count": 52,
     "metadata": {},
     "output_type": "execute_result"
    }
   ],
   "source": [
    "ids_dft = \"(\" * join(df_dft.id_gsn, \", \") * \")\""
   ]
  },
  {
   "cell_type": "markdown",
   "metadata": {},
   "source": [
    "Betrachte nur gültige Amtseinträge"
   ]
  },
  {
   "cell_type": "code",
   "execution_count": 54,
   "metadata": {},
   "outputs": [],
   "source": [
    "table_name = gs_db * \".offices\";\n",
    "sql = \"SELECT DISTINCT(person_id), item_id \n",
    "FROM $(table_name) \n",
    "JOIN $(gs_db).persons AS p ON p.id = person_id\n",
    "WHERE klosterid in $(ids_dft) AND NOT offices.deleted\"\n",
    "mon_item = Wds.sql_df(sql);"
   ]
  },
  {
   "cell_type": "code",
   "execution_count": 55,
   "metadata": {},
   "outputs": [
    {
     "data": {
      "text/plain": [
       "9128"
      ]
     },
     "execution_count": 55,
     "metadata": {},
     "output_type": "execute_result"
    }
   ],
   "source": [
    "size(mon_item, 1)"
   ]
  },
  {
   "cell_type": "code",
   "execution_count": 56,
   "metadata": {},
   "outputs": [],
   "source": [
    "str_item = \"(\" * join(mon_item.item_id, \", \") * \")\";"
   ]
  },
  {
   "cell_type": "code",
   "execution_count": 57,
   "metadata": {},
   "outputs": [],
   "source": [
    "table_name = gs_db * \".gsn\"\n",
    "sql = \"SELECT min(gsn.id) as id, item_id\n",
    "FROM $(table_name)\n",
    "JOIN $(gs_db).items ON item_id = items.id\n",
    "WHERE item_id IN $(str_item)\n",
    "AND NOT items.deleted AND items.status = 'online'\n",
    "GROUP BY item_id\";\n",
    "mon_gsn_id = Wds.sql_df(sql);"
   ]
  },
  {
   "cell_type": "code",
   "execution_count": 58,
   "metadata": {},
   "outputs": [
    {
     "data": {
      "text/plain": [
       "9105"
      ]
     },
     "execution_count": 58,
     "metadata": {},
     "output_type": "execute_result"
    }
   ],
   "source": [
    "size(mon_gsn_id, 1)"
   ]
  },
  {
   "cell_type": "code",
   "execution_count": 59,
   "metadata": {},
   "outputs": [],
   "source": [
    "str_gsn_id = \"(\" * join(mon_gsn_id.id, \", \") * \")\";"
   ]
  },
  {
   "cell_type": "code",
   "execution_count": 60,
   "metadata": {},
   "outputs": [],
   "source": [
    "table_name = gs_db * \".gsn\"\n",
    "sql = \"SELECT gsn.id as gsn_id, item_id, gsn.nummer as gsn, items.status\n",
    "FROM $(table_name)\n",
    "JOIN $(gs_db).items ON item_id = items.id\n",
    "WHERE gsn.id in $(str_gsn_id)\";\n",
    "mon_item_gsn = Wds.sql_df(sql);"
   ]
  },
  {
   "cell_type": "code",
   "execution_count": 61,
   "metadata": {},
   "outputs": [
    {
     "data": {
      "text/plain": [
       "9105"
      ]
     },
     "execution_count": 61,
     "metadata": {},
     "output_type": "execute_result"
    }
   ],
   "source": [
    "size(mon_item_gsn, 1)"
   ]
  },
  {
   "cell_type": "markdown",
   "metadata": {},
   "source": [
    "Ohne die Einträge, die über die Domherrenbank referenziert werden."
   ]
  },
  {
   "cell_type": "code",
   "execution_count": 62,
   "metadata": {},
   "outputs": [],
   "source": [
    "mon_item_gsn_delta = antijoin(mon_item_gsn, dh_item_gsn, on = :item_id);"
   ]
  },
  {
   "cell_type": "code",
   "execution_count": 63,
   "metadata": {},
   "outputs": [
    {
     "data": {
      "text/plain": [
       "(8184, 4)"
      ]
     },
     "execution_count": 63,
     "metadata": {},
     "output_type": "execute_result"
    }
   ],
   "source": [
    "size(mon_item_gsn_delta)"
   ]
  },
  {
   "cell_type": "code",
   "execution_count": 64,
   "metadata": {},
   "outputs": [],
   "source": [
    "item_gsn = vcat(mon_item_gsn_delta, select(dh_item_gsn, Not(:dh_item_id)));"
   ]
  },
  {
   "cell_type": "code",
   "execution_count": 65,
   "metadata": {},
   "outputs": [
    {
     "data": {
      "text/plain": [
       "9347"
      ]
     },
     "execution_count": 65,
     "metadata": {},
     "output_type": "execute_result"
    }
   ],
   "source": [
    "size(item_gsn, 1)"
   ]
  },
  {
   "cell_type": "markdown",
   "metadata": {},
   "source": [
    "`persons`"
   ]
  },
  {
   "cell_type": "code",
   "execution_count": 66,
   "metadata": {},
   "outputs": [],
   "source": [
    "table_name = gs_db * \".persons\"\n",
    "sql = \"SELECT p.id as id_person_gso, item_id, \" *\n",
    "\"namenspraefix, vorname, familienname, \" *\n",
    "\"sterbedatum, geburtsdatum, `orden`, \" *\n",
    "\"anmerkungen, titel, \" * \n",
    "\"gndnummer, viaf, \" *\n",
    "\"familiennamenvarianten, vornamenvarianten, \" *\n",
    "\"namenszusatz, \" *\n",
    "\"zeitraum_von, zeitraum_bis \" *\n",
    "\"FROM $(table_name) as p \" *\n",
    "\"JOIN $gs_db.items ON items.id = p.item_id \" *\n",
    "\"WHERE items.status = 'online' AND NOT items.deleted \" *\n",
    "\"ORDER BY p.id\";\n",
    "df_p = Wds.sql_df(sql);"
   ]
  },
  {
   "cell_type": "code",
   "execution_count": 67,
   "metadata": {},
   "outputs": [],
   "source": [
    "Wds.clean_up!(df_p)"
   ]
  },
  {
   "cell_type": "code",
   "execution_count": 68,
   "metadata": {},
   "outputs": [],
   "source": [
    "one_valid(x, y) = !ismissing(x) | !ismissing(y)\n",
    "subset!(df_p, [:vorname, :familienname] => ByRow(one_valid));"
   ]
  },
  {
   "cell_type": "code",
   "execution_count": 69,
   "metadata": {},
   "outputs": [
    {
     "data": {
      "text/plain": [
       "4-element Vector{String}:\n",
       " \"gsn_id\"\n",
       " \"item_id\"\n",
       " \"gsn\"\n",
       " \"status\""
      ]
     },
     "execution_count": 69,
     "metadata": {},
     "output_type": "execute_result"
    }
   ],
   "source": [
    "names(item_gsn)"
   ]
  },
  {
   "cell_type": "code",
   "execution_count": 70,
   "metadata": {},
   "outputs": [],
   "source": [
    "df_p_gsn = innerjoin(df_p, item_gsn, on = :item_id);"
   ]
  },
  {
   "cell_type": "code",
   "execution_count": 71,
   "metadata": {},
   "outputs": [
    {
     "data": {
      "text/plain": [
       "9347"
      ]
     },
     "execution_count": 71,
     "metadata": {},
     "output_type": "execute_result"
    }
   ],
   "source": [
    "size(df_p_gsn, 1)"
   ]
  },
  {
   "cell_type": "markdown",
   "metadata": {},
   "source": [
    "### IDs zuordnen\n",
    "Lies bestehende IDs.  \n"
   ]
  },
  {
   "cell_type": "markdown",
   "metadata": {},
   "source": [
    "*2022-01-19* IDs sind von WIAG 1 zu übernehmen, später bei einem Update aus dem jeweils zuletzt verwendeten Datensatz (siehe unten)"
   ]
  },
  {
   "cell_type": "code",
   "execution_count": 56,
   "metadata": {},
   "outputs": [
    {
     "ename": "LoadError",
     "evalue": "(1146): Table 'wiag.cn_canon_gs' doesn't exist",
     "output_type": "error",
     "traceback": [
      "(1146): Table 'wiag.cn_canon_gs' doesn't exist",
      "",
      "Stacktrace:",
      " [1] query",
      "   @ C:\\Users\\georg\\.julia\\packages\\MySQL\\EgAUf\\src\\api\\capi.jl:4 [inlined]",
      " [2] execute(conn::MySQL.Connection, sql::String, params::Tuple{}; mysql_store_result::Bool, mysql_date_and_time::Bool)",
      "   @ MySQL C:\\Users\\georg\\.julia\\packages\\MySQL\\EgAUf\\src\\execute.jl:158",
      " [3] execute (repeats 2 times)",
      "   @ C:\\Users\\georg\\.julia\\packages\\MySQL\\EgAUf\\src\\execute.jl:155 [inlined]",
      " [4] sql_df(sql::String)",
      "   @ WiagDataSetup C:\\Users\\georg\\Documents\\projekte\\WiagDataSetup.jl\\src\\WiagDataSetup.jl:39",
      " [5] top-level scope",
      "   @ In[56]:2",
      " [6] eval",
      "   @ .\\boot.jl:373 [inlined]",
      " [7] include_string(mapexpr::typeof(REPL.softscope), mod::Module, code::String, filename::String)",
      "   @ Base .\\loading.jl:1196"
     ]
    }
   ],
   "source": [
    "sql = \"SELECT id AS id_wiag, id_person_gso FROM wiag.cn_canon_gs\"\n",
    "df_id_cn_wiag = Wds.sql_df(sql);"
   ]
  },
  {
   "cell_type": "code",
   "execution_count": 84,
   "metadata": {},
   "outputs": [
    {
     "data": {
      "text/html": [
       "<div class=\"data-frame\"><p>5 rows × 2 columns</p><table class=\"data-frame\"><thead><tr><th></th><th>id_public</th><th>id_person_gso</th></tr><tr><th></th><th title=\"Int32\">Int32</th><th title=\"Union{Missing, Int32}\">Int32?</th></tr></thead><tbody><tr><th>1</th><td>80211</td><td>8556</td></tr><tr><th>2</th><td>80212</td><td>8561</td></tr><tr><th>3</th><td>80213</td><td>8606</td></tr><tr><th>4</th><td>80214</td><td>8607</td></tr><tr><th>5</th><td>80215</td><td>8620</td></tr></tbody></table></div>"
      ],
      "text/latex": [
       "\\begin{tabular}{r|cc}\n",
       "\t& id\\_public & id\\_person\\_gso\\\\\n",
       "\t\\hline\n",
       "\t& Int32 & Int32?\\\\\n",
       "\t\\hline\n",
       "\t1 & 80211 & 8556 \\\\\n",
       "\t2 & 80212 & 8561 \\\\\n",
       "\t3 & 80213 & 8606 \\\\\n",
       "\t4 & 80214 & 8607 \\\\\n",
       "\t5 & 80215 & 8620 \\\\\n",
       "\\end{tabular}\n"
      ],
      "text/plain": [
       "\u001b[1m5×2 DataFrame\u001b[0m\n",
       "\u001b[1m Row \u001b[0m│\u001b[1m id_public \u001b[0m\u001b[1m id_person_gso \u001b[0m\n",
       "\u001b[1m     \u001b[0m│\u001b[90m Int32     \u001b[0m\u001b[90m Int32?        \u001b[0m\n",
       "─────┼──────────────────────────\n",
       "   1 │     80211           8556\n",
       "   2 │     80212           8561\n",
       "   3 │     80213           8606\n",
       "   4 │     80214           8607\n",
       "   5 │     80215           8620"
      ]
     },
     "execution_count": 84,
     "metadata": {},
     "output_type": "execute_result"
    }
   ],
   "source": [
    "df_id_cn_wiag[201:205, :]"
   ]
  },
  {
   "cell_type": "markdown",
   "metadata": {},
   "source": [
    "*2022-04-27* IDs aus `wiag2_save`  \n",
    "*2022-10-15* IDs aus `wiag2.item`  \n",
    "*2022-10-19* IDs aus `wiag2.item`  \n",
    "*2022-11-03* IDs aus `wiag2.item`  \n",
    "*2022-11-09* IDs aus `wiag_in.item`"
   ]
  },
  {
   "cell_type": "code",
   "execution_count": 72,
   "metadata": {},
   "outputs": [],
   "source": [
    "db_save = \"wiag_in\";\n",
    "table_name = db_save * \".item\";\n",
    "sql = \"SELECT id_public, id_in_source as id_person_gso\n",
    "FROM $(table_name)\n",
    "WHERE item_type_id = $(item_type_id)\";\n",
    "df_id_cn_wiag = Wds.sql_df(sql);"
   ]
  },
  {
   "cell_type": "code",
   "execution_count": 73,
   "metadata": {},
   "outputs": [
    {
     "data": {
      "text/plain": [
       "get_id_wiag (generic function with 1 method)"
      ]
     },
     "execution_count": 73,
     "metadata": {},
     "output_type": "execute_result"
    }
   ],
   "source": [
    "# nur wenn die Quelle wiag2 oder wiag_in ist\n",
    "function get_id_wiag(id_public)\n",
    "    rgx = r\"WIAG-Pers-CANON-([0-9]+)-0[0-9][0-9]\"\n",
    "    rgm = match(rgx, id_public)\n",
    "    if isnothing(rgm)\n",
    "        @warn \"no match for\" id_public\n",
    "        return missing\n",
    "    else\n",
    "        return parse(Int, rgm[1])\n",
    "    end\n",
    "end"
   ]
  },
  {
   "cell_type": "code",
   "execution_count": 74,
   "metadata": {},
   "outputs": [
    {
     "data": {
      "text/plain": [
       "80212"
      ]
     },
     "execution_count": 74,
     "metadata": {},
     "output_type": "execute_result"
    }
   ],
   "source": [
    "get_id_wiag(\"WIAG-Pers-CANON-80212-001\")"
   ]
  },
  {
   "cell_type": "code",
   "execution_count": 75,
   "metadata": {},
   "outputs": [],
   "source": [
    "transform!(df_id_cn_wiag, :id_public => ByRow(get_id_wiag) => :id_wiag);"
   ]
  },
  {
   "cell_type": "code",
   "execution_count": 76,
   "metadata": {},
   "outputs": [],
   "source": [
    "# nur wenn die Quelle wiag2 ist\n",
    "transform!(df_p_gsn, :id_person_gso => ByRow(string) => :id_person_gso);"
   ]
  },
  {
   "cell_type": "code",
   "execution_count": 77,
   "metadata": {},
   "outputs": [
    {
     "data": {
      "text/html": [
       "<div><div style = \"float: left;\"><span>5×5 DataFrame</span></div><div style = \"clear: both;\"></div></div><div class = \"data-frame\" style = \"overflow-x: scroll;\"><table class = \"data-frame\" style = \"margin-bottom: 6px;\"><thead><tr class = \"header\"><th class = \"rowNumber\" style = \"font-weight: bold; text-align: right;\">Row</th><th style = \"text-align: left;\">id_person_gso</th><th style = \"text-align: left;\">item_id</th><th style = \"text-align: left;\">vorname</th><th style = \"text-align: left;\">gsn</th><th style = \"text-align: left;\">status</th></tr><tr class = \"subheader headerLastRow\"><th class = \"rowNumber\" style = \"font-weight: bold; text-align: right;\"></th><th title = \"String\" style = \"text-align: left;\">String</th><th title = \"Int32\" style = \"text-align: left;\">Int32</th><th title = \"Union{Missing, String}\" style = \"text-align: left;\">String?</th><th title = \"Union{Missing, String}\" style = \"text-align: left;\">String?</th><th title = \"String\" style = \"text-align: left;\">String</th></tr></thead><tbody><tr><td class = \"rowNumber\" style = \"font-weight: bold; text-align: right;\">1</td><td style = \"text-align: left;\">5049</td><td style = \"text-align: right;\">5049</td><td style = \"text-align: left;\">Matthäus</td><td style = \"text-align: left;\">003-00513-001</td><td style = \"text-align: left;\">online</td></tr><tr><td class = \"rowNumber\" style = \"font-weight: bold; text-align: right;\">2</td><td style = \"text-align: left;\">5090</td><td style = \"text-align: right;\">5090</td><td style = \"text-align: left;\">Joachim</td><td style = \"text-align: left;\">003-00554-001</td><td style = \"text-align: left;\">online</td></tr><tr><td class = \"rowNumber\" style = \"font-weight: bold; text-align: right;\">3</td><td style = \"text-align: left;\">5092</td><td style = \"text-align: right;\">5092</td><td style = \"text-align: left;\">Jakob</td><td style = \"text-align: left;\">003-00556-001</td><td style = \"text-align: left;\">online</td></tr><tr><td class = \"rowNumber\" style = \"font-weight: bold; text-align: right;\">4</td><td style = \"text-align: left;\">5096</td><td style = \"text-align: right;\">5096</td><td style = \"text-align: left;\">Peter</td><td style = \"text-align: left;\">003-00560-001</td><td style = \"text-align: left;\">online</td></tr><tr><td class = \"rowNumber\" style = \"font-weight: bold; text-align: right;\">5</td><td style = \"text-align: left;\">5135</td><td style = \"text-align: right;\">5135</td><td style = \"text-align: left;\">Gebhard</td><td style = \"text-align: left;\">003-00599-001</td><td style = \"text-align: left;\">online</td></tr></tbody></table></div>"
      ],
      "text/latex": [
       "\\begin{tabular}{r|ccccc}\n",
       "\t& id\\_person\\_gso & item\\_id & vorname & gsn & status\\\\\n",
       "\t\\hline\n",
       "\t& String & Int32 & String? & String? & String\\\\\n",
       "\t\\hline\n",
       "\t1 & 5049 & 5049 & Matthäus & 003-00513-001 & online \\\\\n",
       "\t2 & 5090 & 5090 & Joachim & 003-00554-001 & online \\\\\n",
       "\t3 & 5092 & 5092 & Jakob & 003-00556-001 & online \\\\\n",
       "\t4 & 5096 & 5096 & Peter & 003-00560-001 & online \\\\\n",
       "\t5 & 5135 & 5135 & Gebhard & 003-00599-001 & online \\\\\n",
       "\\end{tabular}\n"
      ],
      "text/plain": [
       "\u001b[1m5×5 DataFrame\u001b[0m\n",
       "\u001b[1m Row \u001b[0m│\u001b[1m id_person_gso \u001b[0m\u001b[1m item_id \u001b[0m\u001b[1m vorname  \u001b[0m\u001b[1m gsn           \u001b[0m\u001b[1m status \u001b[0m\n",
       "     │\u001b[90m String        \u001b[0m\u001b[90m Int32   \u001b[0m\u001b[90m String?  \u001b[0m\u001b[90m String?       \u001b[0m\u001b[90m String \u001b[0m\n",
       "─────┼─────────────────────────────────────────────────────────\n",
       "   1 │ 5049              5049  Matthäus  003-00513-001  online\n",
       "   2 │ 5090              5090  Joachim   003-00554-001  online\n",
       "   3 │ 5092              5092  Jakob     003-00556-001  online\n",
       "   4 │ 5096              5096  Peter     003-00560-001  online\n",
       "   5 │ 5135              5135  Gebhard   003-00599-001  online"
      ]
     },
     "execution_count": 77,
     "metadata": {},
     "output_type": "execute_result"
    }
   ],
   "source": [
    "df_p_gsn[21:25, [:id_person_gso, :item_id, :vorname, :gsn, :status]]"
   ]
  },
  {
   "cell_type": "code",
   "execution_count": 78,
   "metadata": {},
   "outputs": [
    {
     "data": {
      "text/html": [
       "<div><div style = \"float: left;\"><span>5×3 DataFrame</span></div><div style = \"clear: both;\"></div></div><div class = \"data-frame\" style = \"overflow-x: scroll;\"><table class = \"data-frame\" style = \"margin-bottom: 6px;\"><thead><tr class = \"header\"><th class = \"rowNumber\" style = \"font-weight: bold; text-align: right;\">Row</th><th style = \"text-align: left;\">id_public</th><th style = \"text-align: left;\">id_person_gso</th><th style = \"text-align: left;\">id_wiag</th></tr><tr class = \"subheader headerLastRow\"><th class = \"rowNumber\" style = \"font-weight: bold; text-align: right;\"></th><th title = \"Union{Missing, String}\" style = \"text-align: left;\">String?</th><th title = \"Union{Missing, String}\" style = \"text-align: left;\">String?</th><th title = \"Int64\" style = \"text-align: left;\">Int64</th></tr></thead><tbody><tr><td class = \"rowNumber\" style = \"font-weight: bold; text-align: right;\">1</td><td style = \"text-align: left;\">WIAG-Pers-CANON-80010-001</td><td style = \"text-align: left;\">4749</td><td style = \"text-align: right;\">80010</td></tr><tr><td class = \"rowNumber\" style = \"font-weight: bold; text-align: right;\">2</td><td style = \"text-align: left;\">WIAG-Pers-CANON-80009-001</td><td style = \"text-align: left;\">4719</td><td style = \"text-align: right;\">80009</td></tr><tr><td class = \"rowNumber\" style = \"font-weight: bold; text-align: right;\">3</td><td style = \"text-align: left;\">WIAG-Pers-CANON-80008-001</td><td style = \"text-align: left;\">4705</td><td style = \"text-align: right;\">80008</td></tr><tr><td class = \"rowNumber\" style = \"font-weight: bold; text-align: right;\">4</td><td style = \"text-align: left;\">WIAG-Pers-CANON-80007-001</td><td style = \"text-align: left;\">4698</td><td style = \"text-align: right;\">80007</td></tr><tr><td class = \"rowNumber\" style = \"font-weight: bold; text-align: right;\">5</td><td style = \"text-align: left;\">WIAG-Pers-CANON-80006-001</td><td style = \"text-align: left;\">4684</td><td style = \"text-align: right;\">80006</td></tr></tbody></table></div>"
      ],
      "text/latex": [
       "\\begin{tabular}{r|ccc}\n",
       "\t& id\\_public & id\\_person\\_gso & id\\_wiag\\\\\n",
       "\t\\hline\n",
       "\t& String? & String? & Int64\\\\\n",
       "\t\\hline\n",
       "\t1 & WIAG-Pers-CANON-80010-001 & 4749 & 80010 \\\\\n",
       "\t2 & WIAG-Pers-CANON-80009-001 & 4719 & 80009 \\\\\n",
       "\t3 & WIAG-Pers-CANON-80008-001 & 4705 & 80008 \\\\\n",
       "\t4 & WIAG-Pers-CANON-80007-001 & 4698 & 80007 \\\\\n",
       "\t5 & WIAG-Pers-CANON-80006-001 & 4684 & 80006 \\\\\n",
       "\\end{tabular}\n"
      ],
      "text/plain": [
       "\u001b[1m5×3 DataFrame\u001b[0m\n",
       "\u001b[1m Row \u001b[0m│\u001b[1m id_public                 \u001b[0m\u001b[1m id_person_gso \u001b[0m\u001b[1m id_wiag \u001b[0m\n",
       "     │\u001b[90m String?                   \u001b[0m\u001b[90m String?       \u001b[0m\u001b[90m Int64   \u001b[0m\n",
       "─────┼───────────────────────────────────────────────────\n",
       "   1 │ WIAG-Pers-CANON-80010-001  4749             80010\n",
       "   2 │ WIAG-Pers-CANON-80009-001  4719             80009\n",
       "   3 │ WIAG-Pers-CANON-80008-001  4705             80008\n",
       "   4 │ WIAG-Pers-CANON-80007-001  4698             80007\n",
       "   5 │ WIAG-Pers-CANON-80006-001  4684             80006"
      ]
     },
     "execution_count": 78,
     "metadata": {},
     "output_type": "execute_result"
    }
   ],
   "source": [
    "df_id_cn_wiag[21:25, :]"
   ]
  },
  {
   "cell_type": "code",
   "execution_count": 79,
   "metadata": {},
   "outputs": [],
   "source": [
    "df_cn_id = leftjoin(df_p_gsn, df_id_cn_wiag, on = :id_person_gso);"
   ]
  },
  {
   "cell_type": "code",
   "execution_count": 80,
   "metadata": {},
   "outputs": [
    {
     "data": {
      "text/plain": [
       "(9347, 22)"
      ]
     },
     "execution_count": 80,
     "metadata": {},
     "output_type": "execute_result"
    }
   ],
   "source": [
    "size(df_cn_id)"
   ]
  },
  {
   "cell_type": "code",
   "execution_count": 81,
   "metadata": {},
   "outputs": [
    {
     "data": {
      "text/html": [
       "<div><div style = \"float: left;\"><span>5×5 DataFrame</span></div><div style = \"clear: both;\"></div></div><div class = \"data-frame\" style = \"overflow-x: scroll;\"><table class = \"data-frame\" style = \"margin-bottom: 6px;\"><thead><tr class = \"header\"><th class = \"rowNumber\" style = \"font-weight: bold; text-align: right;\">Row</th><th style = \"text-align: left;\">id_person_gso</th><th style = \"text-align: left;\">item_id</th><th style = \"text-align: left;\">id_wiag</th><th style = \"text-align: left;\">vorname</th><th style = \"text-align: left;\">familienname</th></tr><tr class = \"subheader headerLastRow\"><th class = \"rowNumber\" style = \"font-weight: bold; text-align: right;\"></th><th title = \"String\" style = \"text-align: left;\">String</th><th title = \"Int32\" style = \"text-align: left;\">Int32</th><th title = \"Union{Missing, Int64}\" style = \"text-align: left;\">Int64?</th><th title = \"Union{Missing, String}\" style = \"text-align: left;\">String?</th><th title = \"Union{Missing, String}\" style = \"text-align: left;\">String?</th></tr></thead><tbody><tr><td class = \"rowNumber\" style = \"font-weight: bold; text-align: right;\">1</td><td style = \"text-align: left;\">8561</td><td style = \"text-align: right;\">8561</td><td style = \"text-align: right;\">80212</td><td style = \"text-align: left;\">Bruno</td><td style = \"text-align: left;\">Querfurt</td></tr><tr><td class = \"rowNumber\" style = \"font-weight: bold; text-align: right;\">2</td><td style = \"text-align: left;\">8606</td><td style = \"text-align: right;\">8606</td><td style = \"text-align: right;\">80213</td><td style = \"text-align: left;\">Burchard</td><td style = \"font-style: italic; text-align: left;\">missing</td></tr><tr><td class = \"rowNumber\" style = \"font-weight: bold; text-align: right;\">3</td><td style = \"text-align: left;\">8607</td><td style = \"text-align: right;\">8607</td><td style = \"text-align: right;\">80214</td><td style = \"text-align: left;\">Burchard</td><td style = \"font-style: italic; text-align: left;\">missing</td></tr><tr><td class = \"rowNumber\" style = \"font-weight: bold; text-align: right;\">4</td><td style = \"text-align: left;\">8620</td><td style = \"text-align: right;\">8620</td><td style = \"text-align: right;\">80215</td><td style = \"text-align: left;\">Burchard</td><td style = \"text-align: left;\">Belich</td></tr><tr><td class = \"rowNumber\" style = \"font-weight: bold; text-align: right;\">5</td><td style = \"text-align: left;\">8623</td><td style = \"text-align: right;\">8623</td><td style = \"text-align: right;\">80216</td><td style = \"text-align: left;\">Burchardt</td><td style = \"text-align: left;\">Bornstedt</td></tr></tbody></table></div>"
      ],
      "text/latex": [
       "\\begin{tabular}{r|ccccc}\n",
       "\t& id\\_person\\_gso & item\\_id & id\\_wiag & vorname & familienname\\\\\n",
       "\t\\hline\n",
       "\t& String & Int32 & Int64? & String? & String?\\\\\n",
       "\t\\hline\n",
       "\t1 & 8561 & 8561 & 80212 & Bruno & Querfurt \\\\\n",
       "\t2 & 8606 & 8606 & 80213 & Burchard & \\emph{missing} \\\\\n",
       "\t3 & 8607 & 8607 & 80214 & Burchard & \\emph{missing} \\\\\n",
       "\t4 & 8620 & 8620 & 80215 & Burchard & Belich \\\\\n",
       "\t5 & 8623 & 8623 & 80216 & Burchardt & Bornstedt \\\\\n",
       "\\end{tabular}\n"
      ],
      "text/plain": [
       "\u001b[1m5×5 DataFrame\u001b[0m\n",
       "\u001b[1m Row \u001b[0m│\u001b[1m id_person_gso \u001b[0m\u001b[1m item_id \u001b[0m\u001b[1m id_wiag \u001b[0m\u001b[1m vorname   \u001b[0m\u001b[1m familienname \u001b[0m\n",
       "     │\u001b[90m String        \u001b[0m\u001b[90m Int32   \u001b[0m\u001b[90m Int64?  \u001b[0m\u001b[90m String?   \u001b[0m\u001b[90m String?      \u001b[0m\n",
       "─────┼──────────────────────────────────────────────────────────\n",
       "   1 │ 8561              8561    80212  Bruno      Querfurt\n",
       "   2 │ 8606              8606    80213  Burchard  \u001b[90m missing      \u001b[0m\n",
       "   3 │ 8607              8607    80214  Burchard  \u001b[90m missing      \u001b[0m\n",
       "   4 │ 8620              8620    80215  Burchard   Belich\n",
       "   5 │ 8623              8623    80216  Burchardt  Bornstedt"
      ]
     },
     "execution_count": 81,
     "metadata": {},
     "output_type": "execute_result"
    }
   ],
   "source": [
    "df_cn_id[201:205, [:id_person_gso, :item_id, :id_wiag, :vorname, :familienname]]"
   ]
  },
  {
   "cell_type": "code",
   "execution_count": 82,
   "metadata": {},
   "outputs": [],
   "source": [
    "df_cn_id_id = subset(df_cn_id, :id_wiag => ByRow(!ismissing));\n",
    "df_cn_id_new = subset(df_cn_id, :id_wiag => ByRow(ismissing));"
   ]
  },
  {
   "cell_type": "code",
   "execution_count": 83,
   "metadata": {},
   "outputs": [
    {
     "data": {
      "text/plain": [
       "50"
      ]
     },
     "execution_count": 83,
     "metadata": {},
     "output_type": "execute_result"
    }
   ],
   "source": [
    "size(df_cn_id_new, 1)"
   ]
  },
  {
   "cell_type": "markdown",
   "metadata": {},
   "source": [
    "| Datum      | Zahl der neuen IDs |\n",
    "|:--         | --:                |\n",
    "| 2022-03-10 | 83                 |\n",
    "| 2022-04-27 | 502                |\n",
    "| 2022-05-12 | 511                |\n",
    "| 2022-05-20 | 1                  |\n",
    "| 2022-07-26 | 132                |\n",
    "| 2022-10-15 | 51                 |\n",
    "| 2022-10-19 | 260                |\n",
    "| 2022-11-03 | 2                  |\n",
    "| 2022-11-09 | 9                  |\n",
    "| 2022-11-23 | 5                  |"
   ]
  },
  {
   "cell_type": "code",
   "execution_count": 84,
   "metadata": {},
   "outputs": [
    {
     "data": {
      "text/plain": [
       "91315"
      ]
     },
     "execution_count": 84,
     "metadata": {},
     "output_type": "execute_result"
    }
   ],
   "source": [
    "next_id = maximum(df_cn_id_id.id_wiag) + 1"
   ]
  },
  {
   "cell_type": "code",
   "execution_count": 85,
   "metadata": {},
   "outputs": [],
   "source": [
    "sort!(df_cn_id_new, :item_id);"
   ]
  },
  {
   "cell_type": "code",
   "execution_count": 86,
   "metadata": {},
   "outputs": [],
   "source": [
    "id = next_id\n",
    "for row in eachrow(df_cn_id_new)\n",
    "    row[:id_wiag] = id\n",
    "    id += 1\n",
    "end"
   ]
  },
  {
   "cell_type": "code",
   "execution_count": 87,
   "metadata": {},
   "outputs": [],
   "source": [
    "sort!(df_cn_id_id, :id_wiag);"
   ]
  },
  {
   "cell_type": "code",
   "execution_count": 88,
   "metadata": {},
   "outputs": [
    {
     "data": {
      "text/html": [
       "<div><div style = \"float: left;\"><span>6×5 DataFrame</span></div><div style = \"clear: both;\"></div></div><div class = \"data-frame\" style = \"overflow-x: scroll;\"><table class = \"data-frame\" style = \"margin-bottom: 6px;\"><thead><tr class = \"header\"><th class = \"rowNumber\" style = \"font-weight: bold; text-align: right;\">Row</th><th style = \"text-align: left;\">item_id</th><th style = \"text-align: left;\">gsn_id</th><th style = \"text-align: left;\">id_wiag</th><th style = \"text-align: left;\">vorname</th><th style = \"text-align: left;\">familienname</th></tr><tr class = \"subheader headerLastRow\"><th class = \"rowNumber\" style = \"font-weight: bold; text-align: right;\"></th><th title = \"Int32\" style = \"text-align: left;\">Int32</th><th title = \"Int32\" style = \"text-align: left;\">Int32</th><th title = \"Union{Missing, Int64}\" style = \"text-align: left;\">Int64?</th><th title = \"Union{Missing, String}\" style = \"text-align: left;\">String?</th><th title = \"Union{Missing, String}\" style = \"text-align: left;\">String?</th></tr></thead><tbody><tr><td class = \"rowNumber\" style = \"font-weight: bold; text-align: right;\">1</td><td style = \"text-align: right;\">339058</td><td style = \"text-align: right;\">385292</td><td style = \"text-align: right;\">91309</td><td style = \"text-align: left;\">Martin V.</td><td style = \"font-style: italic; text-align: left;\">missing</td></tr><tr><td class = \"rowNumber\" style = \"font-weight: bold; text-align: right;\">2</td><td style = \"text-align: right;\">282990</td><td style = \"text-align: right;\">289173</td><td style = \"text-align: right;\">91310</td><td style = \"text-align: left;\">Casimir</td><td style = \"font-style: italic; text-align: left;\">missing</td></tr><tr><td class = \"rowNumber\" style = \"font-weight: bold; text-align: right;\">3</td><td style = \"text-align: right;\">302329</td><td style = \"text-align: right;\">319964</td><td style = \"text-align: right;\">91311</td><td style = \"text-align: left;\">Johann IV. (III.)</td><td style = \"text-align: left;\">Henneberg-Schleusingen</td></tr><tr><td class = \"rowNumber\" style = \"font-weight: bold; text-align: right;\">4</td><td style = \"text-align: right;\">311285</td><td style = \"text-align: right;\">336039</td><td style = \"text-align: right;\">91312</td><td style = \"text-align: left;\">Eitel Friedrich</td><td style = \"text-align: left;\">Hohenzollern-Sigmaringen</td></tr><tr><td class = \"rowNumber\" style = \"font-weight: bold; text-align: right;\">5</td><td style = \"text-align: right;\">328634</td><td style = \"text-align: right;\">367500</td><td style = \"text-align: right;\">91313</td><td style = \"text-align: left;\">Hermann</td><td style = \"text-align: left;\">Rost</td></tr><tr><td class = \"rowNumber\" style = \"font-weight: bold; text-align: right;\">6</td><td style = \"text-align: right;\">339117</td><td style = \"text-align: right;\">385853</td><td style = \"text-align: right;\">91314</td><td style = \"text-align: left;\">Rhaban</td><td style = \"text-align: left;\">Helmstatt</td></tr></tbody></table></div>"
      ],
      "text/latex": [
       "\\begin{tabular}{r|ccccc}\n",
       "\t& item\\_id & gsn\\_id & id\\_wiag & vorname & familienname\\\\\n",
       "\t\\hline\n",
       "\t& Int32 & Int32 & Int64? & String? & String?\\\\\n",
       "\t\\hline\n",
       "\t1 & 339058 & 385292 & 91309 & Martin V. & \\emph{missing} \\\\\n",
       "\t2 & 282990 & 289173 & 91310 & Casimir & \\emph{missing} \\\\\n",
       "\t3 & 302329 & 319964 & 91311 & Johann IV. (III.) & Henneberg-Schleusingen \\\\\n",
       "\t4 & 311285 & 336039 & 91312 & Eitel Friedrich & Hohenzollern-Sigmaringen \\\\\n",
       "\t5 & 328634 & 367500 & 91313 & Hermann & Rost \\\\\n",
       "\t6 & 339117 & 385853 & 91314 & Rhaban & Helmstatt \\\\\n",
       "\\end{tabular}\n"
      ],
      "text/plain": [
       "\u001b[1m6×5 DataFrame\u001b[0m\n",
       "\u001b[1m Row \u001b[0m│\u001b[1m item_id \u001b[0m\u001b[1m gsn_id \u001b[0m\u001b[1m id_wiag \u001b[0m\u001b[1m vorname           \u001b[0m\u001b[1m familienname             \u001b[0m\n",
       "     │\u001b[90m Int32   \u001b[0m\u001b[90m Int32  \u001b[0m\u001b[90m Int64?  \u001b[0m\u001b[90m String?           \u001b[0m\u001b[90m String?                  \u001b[0m\n",
       "─────┼───────────────────────────────────────────────────────────────────────\n",
       "   1 │  339058  385292    91309  Martin V.         \u001b[90m missing                  \u001b[0m\n",
       "   2 │  282990  289173    91310  Casimir           \u001b[90m missing                  \u001b[0m\n",
       "   3 │  302329  319964    91311  Johann IV. (III.)  Henneberg-Schleusingen\n",
       "   4 │  311285  336039    91312  Eitel Friedrich    Hohenzollern-Sigmaringen\n",
       "   5 │  328634  367500    91313  Hermann            Rost\n",
       "   6 │  339117  385853    91314  Rhaban             Helmstatt"
      ]
     },
     "execution_count": 88,
     "metadata": {},
     "output_type": "execute_result"
    }
   ],
   "source": [
    "df_cn_id_id[end-5:end, [:item_id, :gsn_id, :id_wiag, :vorname, :familienname]]"
   ]
  },
  {
   "cell_type": "code",
   "execution_count": 89,
   "metadata": {},
   "outputs": [
    {
     "data": {
      "text/html": [
       "<div><div style = \"float: left;\"><span>1×5 DataFrame</span></div><div style = \"clear: both;\"></div></div><div class = \"data-frame\" style = \"overflow-x: scroll;\"><table class = \"data-frame\" style = \"margin-bottom: 6px;\"><thead><tr class = \"header\"><th class = \"rowNumber\" style = \"font-weight: bold; text-align: right;\">Row</th><th style = \"text-align: left;\">item_id</th><th style = \"text-align: left;\">gsn_id</th><th style = \"text-align: left;\">id_wiag</th><th style = \"text-align: left;\">vorname</th><th style = \"text-align: left;\">familienname</th></tr><tr class = \"subheader headerLastRow\"><th class = \"rowNumber\" style = \"font-weight: bold; text-align: right;\"></th><th title = \"Int32\" style = \"text-align: left;\">Int32</th><th title = \"Int32\" style = \"text-align: left;\">Int32</th><th title = \"Union{Missing, Int64}\" style = \"text-align: left;\">Int64?</th><th title = \"Union{Missing, String}\" style = \"text-align: left;\">String?</th><th title = \"Union{Missing, String}\" style = \"text-align: left;\">String?</th></tr></thead><tbody><tr><td class = \"rowNumber\" style = \"font-weight: bold; text-align: right;\">1</td><td style = \"text-align: right;\">147613</td><td style = \"text-align: right;\">107622</td><td style = \"text-align: right;\">91315</td><td style = \"text-align: left;\">Eberhard</td><td style = \"text-align: left;\">Pfeil von Aulenbach</td></tr></tbody></table></div>"
      ],
      "text/latex": [
       "\\begin{tabular}{r|ccccc}\n",
       "\t& item\\_id & gsn\\_id & id\\_wiag & vorname & familienname\\\\\n",
       "\t\\hline\n",
       "\t& Int32 & Int32 & Int64? & String? & String?\\\\\n",
       "\t\\hline\n",
       "\t1 & 147613 & 107622 & 91315 & Eberhard & Pfeil von Aulenbach \\\\\n",
       "\\end{tabular}\n"
      ],
      "text/plain": [
       "\u001b[1m1×5 DataFrame\u001b[0m\n",
       "\u001b[1m Row \u001b[0m│\u001b[1m item_id \u001b[0m\u001b[1m gsn_id \u001b[0m\u001b[1m id_wiag \u001b[0m\u001b[1m vorname  \u001b[0m\u001b[1m familienname        \u001b[0m\n",
       "     │\u001b[90m Int32   \u001b[0m\u001b[90m Int32  \u001b[0m\u001b[90m Int64?  \u001b[0m\u001b[90m String?  \u001b[0m\u001b[90m String?             \u001b[0m\n",
       "─────┼─────────────────────────────────────────────────────────\n",
       "   1 │  147613  107622    91315  Eberhard  Pfeil von Aulenbach"
      ]
     },
     "execution_count": 89,
     "metadata": {},
     "output_type": "execute_result"
    }
   ],
   "source": [
    "df_cn_id_new[1:1, [:item_id, :gsn_id, :id_wiag, :vorname, :familienname]]"
   ]
  },
  {
   "cell_type": "code",
   "execution_count": 90,
   "metadata": {},
   "outputs": [],
   "source": [
    "df_cn_all = vcat(df_cn_id_id, df_cn_id_new);"
   ]
  },
  {
   "cell_type": "code",
   "execution_count": 91,
   "metadata": {},
   "outputs": [
    {
     "data": {
      "text/plain": [
       "(9347, 9347)"
      ]
     },
     "execution_count": 91,
     "metadata": {},
     "output_type": "execute_result"
    }
   ],
   "source": [
    "size(df_cn_all, 1), size(unique(df_cn_all), 1)"
   ]
  },
  {
   "cell_type": "markdown",
   "metadata": {},
   "source": [
    "Otto mit `id_in_source` = \"325778\" ist doppelt. Wir nehmen ihn nur einmal auf. Die schon mal vergebene `id_public` wird nicht vermisst, wenn es schon immer einen Verweis von einem Domherren aus der Domherrendatenbank gab. Denn dann ist dessen `id_public` relevant."
   ]
  },
  {
   "cell_type": "code",
   "execution_count": 92,
   "metadata": {},
   "outputs": [],
   "source": [
    "unique!(df_cn_all);"
   ]
  },
  {
   "cell_type": "markdown",
   "metadata": {},
   "source": [
    "### Einträge in `item`\n",
    "\n",
    "entsprechende Einträge in Tabelle `item` einfügen\n",
    "\n",
    "`id` für 'Domherr GS' in `item_type`: 6"
   ]
  },
  {
   "cell_type": "code",
   "execution_count": 93,
   "metadata": {},
   "outputs": [
    {
     "data": {
      "text/html": [
       "<div><div style = \"float: left;\"><span>5×5 DataFrame</span></div><div style = \"clear: both;\"></div></div><div class = \"data-frame\" style = \"overflow-x: scroll;\"><table class = \"data-frame\" style = \"margin-bottom: 6px;\"><thead><tr class = \"header\"><th class = \"rowNumber\" style = \"font-weight: bold; text-align: right;\">Row</th><th style = \"text-align: left;\">vorname</th><th style = \"text-align: left;\">familienname</th><th style = \"text-align: left;\">geburtsdatum</th><th style = \"text-align: left;\">sterbedatum</th><th style = \"text-align: left;\">id_wiag</th></tr><tr class = \"subheader headerLastRow\"><th class = \"rowNumber\" style = \"font-weight: bold; text-align: right;\"></th><th title = \"Union{Missing, String}\" style = \"text-align: left;\">String?</th><th title = \"Union{Missing, String}\" style = \"text-align: left;\">String?</th><th title = \"Union{Missing, String}\" style = \"text-align: left;\">String?</th><th title = \"Union{Missing, String}\" style = \"text-align: left;\">String?</th><th title = \"Union{Missing, Int64}\" style = \"text-align: left;\">Int64?</th></tr></thead><tbody><tr><td class = \"rowNumber\" style = \"font-weight: bold; text-align: right;\">1</td><td style = \"text-align: left;\">Burchardus</td><td style = \"font-style: italic; text-align: left;\">missing</td><td style = \"font-style: italic; text-align: left;\">missing</td><td style = \"font-style: italic; text-align: left;\">missing</td><td style = \"text-align: right;\">80225</td></tr><tr><td class = \"rowNumber\" style = \"font-weight: bold; text-align: right;\">2</td><td style = \"text-align: left;\">Busso</td><td style = \"text-align: left;\">Bartensleben</td><td style = \"font-style: italic; text-align: left;\">missing</td><td style = \"font-style: italic; text-align: left;\">missing</td><td style = \"text-align: right;\">80226</td></tr><tr><td class = \"rowNumber\" style = \"font-weight: bold; text-align: right;\">3</td><td style = \"text-align: left;\">Busso</td><td style = \"text-align: left;\">Britzke</td><td style = \"text-align: left;\">1534</td><td style = \"text-align: left;\">1572</td><td style = \"text-align: right;\">80232</td></tr><tr><td class = \"rowNumber\" style = \"font-weight: bold; text-align: right;\">4</td><td style = \"text-align: left;\">Busso</td><td style = \"text-align: left;\">Schilt</td><td style = \"font-style: italic; text-align: left;\">missing</td><td style = \"font-style: italic; text-align: left;\">missing</td><td style = \"text-align: right;\">80234</td></tr><tr><td class = \"rowNumber\" style = \"font-weight: bold; text-align: right;\">5</td><td style = \"text-align: left;\">Busso</td><td style = \"text-align: left;\">Schraplau</td><td style = \"font-style: italic; text-align: left;\">missing</td><td style = \"font-style: italic; text-align: left;\">missing</td><td style = \"text-align: right;\">80235</td></tr></tbody></table></div>"
      ],
      "text/latex": [
       "\\begin{tabular}{r|ccccc}\n",
       "\t& vorname & familienname & geburtsdatum & sterbedatum & id\\_wiag\\\\\n",
       "\t\\hline\n",
       "\t& String? & String? & String? & String? & Int64?\\\\\n",
       "\t\\hline\n",
       "\t1 & Burchardus & \\emph{missing} & \\emph{missing} & \\emph{missing} & 80225 \\\\\n",
       "\t2 & Busso & Bartensleben & \\emph{missing} & \\emph{missing} & 80226 \\\\\n",
       "\t3 & Busso & Britzke & 1534 & 1572 & 80232 \\\\\n",
       "\t4 & Busso & Schilt & \\emph{missing} & \\emph{missing} & 80234 \\\\\n",
       "\t5 & Busso & Schraplau & \\emph{missing} & \\emph{missing} & 80235 \\\\\n",
       "\\end{tabular}\n"
      ],
      "text/plain": [
       "\u001b[1m5×5 DataFrame\u001b[0m\n",
       "\u001b[1m Row \u001b[0m│\u001b[1m vorname    \u001b[0m\u001b[1m familienname \u001b[0m\u001b[1m geburtsdatum \u001b[0m\u001b[1m sterbedatum \u001b[0m\u001b[1m id_wiag \u001b[0m\n",
       "     │\u001b[90m String?    \u001b[0m\u001b[90m String?      \u001b[0m\u001b[90m String?      \u001b[0m\u001b[90m String?     \u001b[0m\u001b[90m Int64?  \u001b[0m\n",
       "─────┼──────────────────────────────────────────────────────────────\n",
       "   1 │ Burchardus \u001b[90m missing      \u001b[0m\u001b[90m missing      \u001b[0m\u001b[90m missing     \u001b[0m   80225\n",
       "   2 │ Busso       Bartensleben \u001b[90m missing      \u001b[0m\u001b[90m missing     \u001b[0m   80226\n",
       "   3 │ Busso       Britzke       1534          1572           80232\n",
       "   4 │ Busso       Schilt       \u001b[90m missing      \u001b[0m\u001b[90m missing     \u001b[0m   80234\n",
       "   5 │ Busso       Schraplau    \u001b[90m missing      \u001b[0m\u001b[90m missing     \u001b[0m   80235"
      ]
     },
     "execution_count": 93,
     "metadata": {},
     "output_type": "execute_result"
    }
   ],
   "source": [
    "df_cn_all[211:215, [:vorname, :familienname, :geburtsdatum, :sterbedatum, :id_wiag]]"
   ]
  },
  {
   "cell_type": "code",
   "execution_count": 94,
   "metadata": {},
   "outputs": [
    {
     "data": {
      "text/plain": [
       "2-element Vector{Pair{Symbol, Symbol}}:\n",
       " :id_person_gso => :id_in_source\n",
       "       :id_wiag => :id_wiag"
      ]
     },
     "execution_count": 94,
     "metadata": {},
     "output_type": "execute_result"
    }
   ],
   "source": [
    "columns = [\n",
    "    :id_person_gso => :id_in_source,\n",
    "    :id_wiag => :id_wiag\n",
    "]"
   ]
  },
  {
   "cell_type": "code",
   "execution_count": 95,
   "metadata": {},
   "outputs": [],
   "source": [
    "df_item = select(df_cn_all, columns);"
   ]
  },
  {
   "cell_type": "code",
   "execution_count": 96,
   "metadata": {},
   "outputs": [],
   "source": [
    "using Dates"
   ]
  },
  {
   "cell_type": "markdown",
   "metadata": {},
   "source": [
    "*2022-10-15 und später*: user wiag hat die ID 40"
   ]
  },
  {
   "cell_type": "code",
   "execution_count": 97,
   "metadata": {},
   "outputs": [],
   "source": [
    "user_wiag_id = 40;\n",
    "time_stamp = Dates.format(now(), dateformat\"yyyy-mm-dd HH:MM\");"
   ]
  },
  {
   "cell_type": "code",
   "execution_count": 98,
   "metadata": {},
   "outputs": [],
   "source": [
    "insertcols!(\n",
    "    df_item, \n",
    "    1,\n",
    "    :item_type_id => item_type_id,\n",
    "    :edit_status => \"importiert\",\n",
    "    :created_by => user_wiag_id,\n",
    "    :date_created => time_stamp,\n",
    "    :changed_by => user_wiag_id,\n",
    "    :date_changed => time_stamp,\n",
    "    :is_online => 1\n",
    ");"
   ]
  },
  {
   "cell_type": "code",
   "execution_count": 99,
   "metadata": {},
   "outputs": [
    {
     "data": {
      "text/html": [
       "<div><div style = \"float: left;\"><span>DataFrameRow (9 columns)</span></div><div style = \"clear: both;\"></div></div><div class = \"data-frame\" style = \"overflow-x: scroll;\"><table class = \"data-frame\" style = \"margin-bottom: 6px;\"><thead><tr class = \"header\"><th class = \"rowLabel\" style = \"font-weight: bold; text-align: right;\">Row</th><th style = \"text-align: left;\">item_type_id</th><th style = \"text-align: left;\">edit_status</th><th style = \"text-align: left;\">created_by</th><th style = \"text-align: left;\">date_created</th><th style = \"text-align: left;\">changed_by</th><th style = \"text-align: left;\">date_changed</th><th style = \"text-align: left;\">is_online</th><th style = \"text-align: left;\">id_in_source</th><th style = \"text-align: left;\">id_wiag</th></tr><tr class = \"subheader headerLastRow\"><th class = \"rowLabel\" style = \"font-weight: bold; text-align: right;\"></th><th title = \"Int64\" style = \"text-align: left;\">Int64</th><th title = \"String\" style = \"text-align: left;\">String</th><th title = \"Int64\" style = \"text-align: left;\">Int64</th><th title = \"String\" style = \"text-align: left;\">String</th><th title = \"Int64\" style = \"text-align: left;\">Int64</th><th title = \"String\" style = \"text-align: left;\">String</th><th title = \"Int64\" style = \"text-align: left;\">Int64</th><th title = \"String\" style = \"text-align: left;\">String</th><th title = \"Union{Missing, Int64}\" style = \"text-align: left;\">Int64?</th></tr></thead><tbody><tr><td class = \"rowLabel\" style = \"font-weight: bold; text-align: right;\">17</td><td style = \"text-align: right;\">6</td><td style = \"text-align: left;\">importiert</td><td style = \"text-align: right;\">40</td><td style = \"text-align: left;\">2022-11-23 15:41</td><td style = \"text-align: right;\">40</td><td style = \"text-align: left;\">2022-11-23 15:41</td><td style = \"text-align: right;\">1</td><td style = \"text-align: left;\">4904</td><td style = \"text-align: right;\">80018</td></tr></tbody></table></div>"
      ],
      "text/latex": [
       "\\begin{tabular}{r|ccccccccc}\n",
       "\t& item\\_type\\_id & edit\\_status & created\\_by & date\\_created & changed\\_by & date\\_changed & is\\_online & id\\_in\\_source & id\\_wiag\\\\\n",
       "\t\\hline\n",
       "\t& Int64 & String & Int64 & String & Int64 & String & Int64 & String & Int64?\\\\\n",
       "\t\\hline\n",
       "\t17 & 6 & importiert & 40 & 2022-11-23 15:41 & 40 & 2022-11-23 15:41 & 1 & 4904 & 80018 \\\\\n",
       "\\end{tabular}\n"
      ],
      "text/plain": [
       "\u001b[1mDataFrameRow\u001b[0m\n",
       "\u001b[1m Row \u001b[0m│\u001b[1m item_type_id \u001b[0m\u001b[1m edit_status \u001b[0m\u001b[1m created_by \u001b[0m\u001b[1m date_created     \u001b[0m\u001b[1m changed_by \u001b[0m\u001b[1m date_changed     \u001b[0m\u001b[1m is_online \u001b[0m\u001b[1m id_in_source \u001b[0m\u001b[1m\u001b[0m ⋯\n",
       "     │\u001b[90m Int64        \u001b[0m\u001b[90m String      \u001b[0m\u001b[90m Int64      \u001b[0m\u001b[90m String           \u001b[0m\u001b[90m Int64      \u001b[0m\u001b[90m String           \u001b[0m\u001b[90m Int64     \u001b[0m\u001b[90m String       \u001b[0m\u001b[90m\u001b[0m ⋯\n",
       "─────┼──────────────────────────────────────────────────────────────────────────────────────────────────────────────────\n",
       "  17 │            6  importiert           40  2022-11-23 15:41          40  2022-11-23 15:41          1  4904          ⋯\n",
       "\u001b[36m                                                                                                        1 column omitted\u001b[0m"
      ]
     },
     "execution_count": 99,
     "metadata": {},
     "output_type": "execute_result"
    }
   ],
   "source": [
    "df_item[17, :]"
   ]
  },
  {
   "cell_type": "markdown",
   "metadata": {},
   "source": [
    "Public ID erzeugen"
   ]
  },
  {
   "cell_type": "code",
   "execution_count": 100,
   "metadata": {},
   "outputs": [
    {
     "data": {
      "text/plain": [
       "make_id_public (generic function with 1 method)"
      ]
     },
     "execution_count": 100,
     "metadata": {},
     "output_type": "execute_result"
    }
   ],
   "source": [
    "function make_id_public(id::Real)\n",
    "    id_public_key = \"Pers-CANON\"\n",
    "    num_id_length = 5\n",
    "    return \"WIAG-\" * id_public_key * \"-\" * lpad(id, num_id_length, '0') * \"-001\"\n",
    "end"
   ]
  },
  {
   "cell_type": "code",
   "execution_count": 101,
   "metadata": {},
   "outputs": [],
   "source": [
    "transform!(df_item, :id_wiag => ByRow(make_id_public) => :id_public);"
   ]
  },
  {
   "cell_type": "code",
   "execution_count": 102,
   "metadata": {},
   "outputs": [
    {
     "data": {
      "text/plain": [
       "10-element Vector{String}:\n",
       " \"item_type_id\"\n",
       " \"edit_status\"\n",
       " \"created_by\"\n",
       " \"date_created\"\n",
       " \"changed_by\"\n",
       " \"date_changed\"\n",
       " \"is_online\"\n",
       " \"id_in_source\"\n",
       " \"id_wiag\"\n",
       " \"id_public\""
      ]
     },
     "execution_count": 102,
     "metadata": {},
     "output_type": "execute_result"
    }
   ],
   "source": [
    "names(df_item)"
   ]
  },
  {
   "cell_type": "markdown",
   "metadata": {},
   "source": [
    "Bestehende Einträge löschen  \n",
    "Die Einträge in `item` sind bei einem Update als letztes zu löschen, da die anderen Tabellen von Tabelle `item` abhängen."
   ]
  },
  {
   "cell_type": "code",
   "execution_count": 103,
   "metadata": {},
   "outputs": [
    {
     "data": {
      "text/plain": [
       "6"
      ]
     },
     "execution_count": 103,
     "metadata": {},
     "output_type": "execute_result"
    }
   ],
   "source": [
    "item_type_id"
   ]
  },
  {
   "cell_type": "code",
   "execution_count": 104,
   "metadata": {},
   "outputs": [
    {
     "data": {
      "text/plain": [
       "MySQL.TextCursor{true}(MySQL.Connection(host=\"127.0.0.1\", user=\"georg\", port=\"3306\", db=\"wiag_in\"), \"DELETE FROM item WHERE item_type_id = 6\", 0, -1, 9308, MySQL.API.MYSQL_RES(Ptr{Nothing} @0x0000000000000000), Symbol[], Type[], Dict{Symbol, Int64}(), 0, 1, false)"
      ]
     },
     "execution_count": 104,
     "metadata": {},
     "output_type": "execute_result"
    }
   ],
   "source": [
    "table_name = \"item\";\n",
    "sql = \"DELETE FROM $(table_name) WHERE item_type_id = $(item_type_id)\"\n",
    "DBInterface.execute(Wds.dbwiag, sql)"
   ]
  },
  {
   "cell_type": "code",
   "execution_count": 105,
   "metadata": {},
   "outputs": [
    {
     "data": {
      "text/plain": [
       "1-element Vector{Symbol}:\n",
       " :id_wiag"
      ]
     },
     "execution_count": 105,
     "metadata": {},
     "output_type": "execute_result"
    }
   ],
   "source": [
    "exclude_cols = [\n",
    "    :id_wiag,    \n",
    "]"
   ]
  },
  {
   "cell_type": "code",
   "execution_count": 106,
   "metadata": {},
   "outputs": [
    {
     "name": "stderr",
     "output_type": "stream",
     "text": [
      "┌ Info: Rows inserted: 9347\n",
      "└ @ WiagDataSetup C:\\Users\\georg\\Documents\\projekte\\WiagDataSetup.jl\\src\\WiagDataSetup.jl:1216\n"
     ]
    },
    {
     "data": {
      "text/plain": [
       "9347"
      ]
     },
     "execution_count": 106,
     "metadata": {},
     "output_type": "execute_result"
    }
   ],
   "source": [
    "table_name = \"item\";\n",
    "Wds.filltable!(table_name, select(df_item, Not(exclude_cols)), clear_table = false)"
   ]
  },
  {
   "cell_type": "markdown",
   "metadata": {},
   "source": [
    "| Datum | Zahl |\n",
    "|:--- |:--- |\n",
    "|*2022-04-27* | 8936 |\n",
    "|*2022-07-26* | 9069 |\n",
    "|*2022-10-15* | 9119 |\n",
    "|*2022-10-19* | 9292 |\n",
    "|*2022-11-03* | 9294 |\n",
    "|*2022-11-09* | 9303 |\n",
    "|*2022-11-23* | 9347 |"
   ]
  },
  {
   "cell_type": "markdown",
   "metadata": {},
   "source": [
    "### Daten eintragen\n",
    "\n",
    "IDs auslesen"
   ]
  },
  {
   "cell_type": "code",
   "execution_count": 107,
   "metadata": {},
   "outputs": [],
   "source": [
    "table_name = \"item\";\n",
    "sql = \"SELECT id, id_in_source FROM $(table_name) where item_type_id = ($item_type_id)\"\n",
    "df_idx = DBInterface.execute(Wds.dbwiag, sql) |> DataFrame;"
   ]
  },
  {
   "cell_type": "code",
   "execution_count": 108,
   "metadata": {},
   "outputs": [
    {
     "data": {
      "text/plain": [
       "(9347, 2)"
      ]
     },
     "execution_count": 108,
     "metadata": {},
     "output_type": "execute_result"
    }
   ],
   "source": [
    "size(df_idx)"
   ]
  },
  {
   "cell_type": "markdown",
   "metadata": {},
   "source": [
    "Spalte für die Zusammenführung befüllen (Typ: String!)"
   ]
  },
  {
   "cell_type": "code",
   "execution_count": 109,
   "metadata": {},
   "outputs": [],
   "source": [
    "transform!(df_cn_all, :id_person_gso => ByRow(string) => :id_in_source);"
   ]
  },
  {
   "cell_type": "code",
   "execution_count": 110,
   "metadata": {},
   "outputs": [],
   "source": [
    "df_cn_idx = innerjoin(df_idx, df_cn_all, on = :id_in_source);"
   ]
  },
  {
   "cell_type": "code",
   "execution_count": 111,
   "metadata": {},
   "outputs": [
    {
     "data": {
      "text/plain": [
       "(9347, 9347, 9347)"
      ]
     },
     "execution_count": 111,
     "metadata": {},
     "output_type": "execute_result"
    }
   ],
   "source": [
    "length(unique(df_cn_idx.id_in_source)), size(df_cn_all, 1), size(df_cn_idx, 1)"
   ]
  },
  {
   "cell_type": "markdown",
   "metadata": {},
   "source": [
    "*2022-05-20* doppelter Verweis auf Otto in `item` bereinigt  \n",
    "begin debug"
   ]
  },
  {
   "cell_type": "code",
   "execution_count": 99,
   "metadata": {},
   "outputs": [
    {
     "data": {
      "text/plain": [
       "freq (generic function with 1 method)"
      ]
     },
     "execution_count": 99,
     "metadata": {},
     "output_type": "execute_result"
    }
   ],
   "source": [
    "function freq(v)\n",
    "    f_count = Dict{eltype(v), Int}()\n",
    "    for e in v\n",
    "        f_count[e] = get(f_count, e, 0) + 1\n",
    "    end\n",
    "    return DataFrame(val = collect(keys(f_count)), freq = collect(values(f_count)))\n",
    "end"
   ]
  },
  {
   "cell_type": "code",
   "execution_count": 100,
   "metadata": {},
   "outputs": [],
   "source": [
    "df_info_cn_n = freq(df_cn_idx.id_in_source);"
   ]
  },
  {
   "cell_type": "code",
   "execution_count": 101,
   "metadata": {},
   "outputs": [
    {
     "data": {
      "text/html": [
       "<div><div style = \"float: left;\"><span>0×2 DataFrame</span></div><div style = \"clear: both;\"></div></div><div class = \"data-frame\" style = \"overflow-x: scroll;\"><table class = \"data-frame\" style = \"margin-bottom: 6px;\"></table></div>"
      ],
      "text/latex": [
       "\\begin{tabular}{r|cc}\n",
       "\t& val & freq\\\\\n",
       "\t\\hline\n",
       "\t& String? & Int64\\\\\n",
       "\t\\hline\n",
       "\\end{tabular}\n"
      ],
      "text/plain": [
       "\u001b[1m0×2 DataFrame\u001b[0m"
      ]
     },
     "execution_count": 101,
     "metadata": {},
     "output_type": "execute_result"
    }
   ],
   "source": [
    "subset(df_info_cn_n, :freq => ByRow((x -> x > 1)))"
   ]
  },
  {
   "cell_type": "code",
   "execution_count": 102,
   "metadata": {},
   "outputs": [
    {
     "data": {
      "text/html": [
       "<div><div style = \"float: left;\"><span>1×24 DataFrame</span></div><div style = \"clear: both;\"></div></div><div class = \"data-frame\" style = \"overflow-x: scroll;\"><table class = \"data-frame\" style = \"margin-bottom: 6px;\"><thead><tr class = \"header\"><th class = \"rowNumber\" style = \"font-weight: bold; text-align: right;\">Row</th><th style = \"text-align: left;\">id</th><th style = \"text-align: left;\">id_in_source</th><th style = \"text-align: left;\">id_person_gso</th><th style = \"text-align: left;\">item_id</th><th style = \"text-align: left;\">namenspraefix</th><th style = \"text-align: left;\">vorname</th><th style = \"text-align: left;\">familienname</th><th style = \"text-align: left;\">sterbedatum</th><th style = \"text-align: left;\">geburtsdatum</th><th style = \"text-align: left;\">orden</th><th style = \"text-align: left;\">anmerkungen</th><th style = \"text-align: left;\">titel</th><th style = \"text-align: left;\">gndnummer</th><th style = \"text-align: left;\">viaf</th><th style = \"text-align: left;\">familiennamenvarianten</th><th style = \"text-align: left;\">vornamenvarianten</th><th style = \"text-align: left;\">namenszusatz</th><th style = \"text-align: left;\">zeitraum_von</th><th style = \"text-align: left;\">zeitraum_bis</th><th style = \"text-align: left;\">gsn_id</th><th style = \"text-align: left;\">gsn</th><th style = \"text-align: left;\">status</th><th style = \"text-align: left;\">id_public</th><th style = \"text-align: left;\">id_wiag</th></tr><tr class = \"subheader headerLastRow\"><th class = \"rowNumber\" style = \"font-weight: bold; text-align: right;\"></th><th title = \"Int32\" style = \"text-align: left;\">Int32</th><th title = \"Union{Missing, String}\" style = \"text-align: left;\">String?</th><th title = \"String\" style = \"text-align: left;\">String</th><th title = \"Int32\" style = \"text-align: left;\">Int32</th><th title = \"Union{Missing, String}\" style = \"text-align: left;\">String?</th><th title = \"Union{Missing, String}\" style = \"text-align: left;\">String?</th><th title = \"Union{Missing, String}\" style = \"text-align: left;\">String?</th><th title = \"Union{Missing, String}\" style = \"text-align: left;\">String?</th><th title = \"Union{Missing, String}\" style = \"text-align: left;\">String?</th><th title = \"Union{Missing, String}\" style = \"text-align: left;\">String?</th><th title = \"Union{Missing, String}\" style = \"text-align: left;\">String?</th><th title = \"Union{Missing, String}\" style = \"text-align: left;\">String?</th><th title = \"Union{Missing, String}\" style = \"text-align: left;\">String?</th><th title = \"Union{Missing, String}\" style = \"text-align: left;\">String?</th><th title = \"Union{Missing, String}\" style = \"text-align: left;\">String?</th><th title = \"Union{Missing, String}\" style = \"text-align: left;\">String?</th><th title = \"Union{Missing, String}\" style = \"text-align: left;\">String?</th><th title = \"Union{Missing, Int32}\" style = \"text-align: left;\">Int32?</th><th title = \"Union{Missing, Int32}\" style = \"text-align: left;\">Int32?</th><th title = \"Int32\" style = \"text-align: left;\">Int32</th><th title = \"Union{Missing, String}\" style = \"text-align: left;\">String?</th><th title = \"String\" style = \"text-align: left;\">String</th><th title = \"Union{Missing, String}\" style = \"text-align: left;\">String?</th><th title = \"Union{Missing, Int64}\" style = \"text-align: left;\">Int64?</th></tr></thead><tbody><tr><td class = \"rowNumber\" style = \"font-weight: bold; text-align: right;\">1</td><td style = \"text-align: right;\">633415</td><td style = \"text-align: left;\">325778</td><td style = \"text-align: left;\">325778</td><td style = \"text-align: right;\">332194</td><td style = \"font-style: italic; text-align: left;\">missing</td><td style = \"text-align: left;\">Otto</td><td style = \"font-style: italic; text-align: left;\">missing</td><td style = \"text-align: left;\">wohl 1181</td><td style = \"font-style: italic; text-align: left;\">missing</td><td style = \"font-style: italic; text-align: left;\">missing</td><td style = \"font-style: italic; text-align: left;\">missing</td><td style = \"font-style: italic; text-align: left;\">missing</td><td style = \"font-style: italic; text-align: left;\">missing</td><td style = \"font-style: italic; text-align: left;\">missing</td><td style = \"font-style: italic; text-align: left;\">missing</td><td style = \"font-style: italic; text-align: left;\">missing</td><td style = \"font-style: italic; text-align: left;\">missing</td><td style = \"text-align: right;\">1175</td><td style = \"text-align: right;\">1181</td><td style = \"text-align: right;\">374286</td><td style = \"text-align: left;\">700-00388-001</td><td style = \"text-align: left;\">online</td><td style = \"text-align: left;\">WIAG-Pers-CANON-88619-001</td><td style = \"text-align: right;\">88619</td></tr></tbody></table></div>"
      ],
      "text/latex": [
       "\\begin{tabular}{r|ccccccccccc}\n",
       "\t& id & id\\_in\\_source & id\\_person\\_gso & item\\_id & namenspraefix & vorname & familienname & sterbedatum & geburtsdatum & orden & \\\\\n",
       "\t\\hline\n",
       "\t& Int32 & String? & String & Int32 & String? & String? & String? & String? & String? & String? & \\\\\n",
       "\t\\hline\n",
       "\t1 & 633415 & 325778 & 325778 & 332194 & \\emph{missing} & Otto & \\emph{missing} & wohl 1181 & \\emph{missing} & \\emph{missing} & $\\dots$ \\\\\n",
       "\\end{tabular}\n"
      ],
      "text/plain": [
       "\u001b[1m1×24 DataFrame\u001b[0m\n",
       "\u001b[1m Row \u001b[0m│\u001b[1m id     \u001b[0m\u001b[1m id_in_source \u001b[0m\u001b[1m id_person_gso \u001b[0m\u001b[1m item_id \u001b[0m\u001b[1m namenspraefix \u001b[0m\u001b[1m vorname \u001b[0m\u001b[1m familienname \u001b[0m\u001b[1m sterbedatum \u001b[0m\u001b[1m geburtsdatum \u001b[0m\u001b[1m \u001b[0m ⋯\n",
       "     │\u001b[90m Int32  \u001b[0m\u001b[90m String?      \u001b[0m\u001b[90m String        \u001b[0m\u001b[90m Int32   \u001b[0m\u001b[90m String?       \u001b[0m\u001b[90m String? \u001b[0m\u001b[90m String?      \u001b[0m\u001b[90m String?     \u001b[0m\u001b[90m String?      \u001b[0m\u001b[90m \u001b[0m ⋯\n",
       "─────┼──────────────────────────────────────────────────────────────────────────────────────────────────────────────────\n",
       "   1 │ 633415  325778        325778          332194 \u001b[90m missing       \u001b[0m Otto    \u001b[90m missing      \u001b[0m wohl 1181   \u001b[90m missing      \u001b[0m\u001b[90m \u001b[0m ⋯\n",
       "\u001b[36m                                                                                                      15 columns omitted\u001b[0m"
      ]
     },
     "execution_count": 102,
     "metadata": {},
     "output_type": "execute_result"
    }
   ],
   "source": [
    "df_info_mult = subset(df_cn_idx, :id_in_source => ByRow(isequal(\"325778\")))"
   ]
  },
  {
   "cell_type": "code",
   "execution_count": 103,
   "metadata": {},
   "outputs": [
    {
     "data": {
      "text/html": [
       "<div><div style = \"float: left;\"><span>1×5 DataFrame</span></div><div style = \"clear: both;\"></div></div><div class = \"data-frame\" style = \"overflow-x: scroll;\"><table class = \"data-frame\" style = \"margin-bottom: 6px;\"><thead><tr class = \"header\"><th class = \"rowNumber\" style = \"font-weight: bold; text-align: right;\">Row</th><th style = \"text-align: left;\">id_in_source</th><th style = \"text-align: left;\">vorname</th><th style = \"text-align: left;\">familienname</th><th style = \"text-align: left;\">gsn_id</th><th style = \"text-align: left;\">gsn</th></tr><tr class = \"subheader headerLastRow\"><th class = \"rowNumber\" style = \"font-weight: bold; text-align: right;\"></th><th title = \"Union{Missing, String}\" style = \"text-align: left;\">String?</th><th title = \"Union{Missing, String}\" style = \"text-align: left;\">String?</th><th title = \"Union{Missing, String}\" style = \"text-align: left;\">String?</th><th title = \"Int32\" style = \"text-align: left;\">Int32</th><th title = \"Union{Missing, String}\" style = \"text-align: left;\">String?</th></tr></thead><tbody><tr><td class = \"rowNumber\" style = \"font-weight: bold; text-align: right;\">1</td><td style = \"text-align: left;\">325778</td><td style = \"text-align: left;\">Otto</td><td style = \"font-style: italic; text-align: left;\">missing</td><td style = \"text-align: right;\">374286</td><td style = \"text-align: left;\">700-00388-001</td></tr></tbody></table></div>"
      ],
      "text/latex": [
       "\\begin{tabular}{r|ccccc}\n",
       "\t& id\\_in\\_source & vorname & familienname & gsn\\_id & gsn\\\\\n",
       "\t\\hline\n",
       "\t& String? & String? & String? & Int32 & String?\\\\\n",
       "\t\\hline\n",
       "\t1 & 325778 & Otto & \\emph{missing} & 374286 & 700-00388-001 \\\\\n",
       "\\end{tabular}\n"
      ],
      "text/plain": [
       "\u001b[1m1×5 DataFrame\u001b[0m\n",
       "\u001b[1m Row \u001b[0m│\u001b[1m id_in_source \u001b[0m\u001b[1m vorname \u001b[0m\u001b[1m familienname \u001b[0m\u001b[1m gsn_id \u001b[0m\u001b[1m gsn           \u001b[0m\n",
       "     │\u001b[90m String?      \u001b[0m\u001b[90m String? \u001b[0m\u001b[90m String?      \u001b[0m\u001b[90m Int32  \u001b[0m\u001b[90m String?       \u001b[0m\n",
       "─────┼────────────────────────────────────────────────────────────\n",
       "   1 │ 325778        Otto    \u001b[90m missing      \u001b[0m 374286  700-00388-001"
      ]
     },
     "execution_count": 103,
     "metadata": {},
     "output_type": "execute_result"
    }
   ],
   "source": [
    "df_info_mult[:, [:id_in_source, :vorname, :familienname, :gsn_id, :gsn]]"
   ]
  },
  {
   "cell_type": "code",
   "execution_count": 104,
   "metadata": {},
   "outputs": [],
   "source": [
    "df_cn_all_u = unique(df_cn_all);"
   ]
  },
  {
   "cell_type": "code",
   "execution_count": 105,
   "metadata": {},
   "outputs": [
    {
     "data": {
      "text/plain": [
       "(9303, 23)"
      ]
     },
     "execution_count": 105,
     "metadata": {},
     "output_type": "execute_result"
    }
   ],
   "source": [
    "size(df_cn_all_u)"
   ]
  },
  {
   "cell_type": "markdown",
   "metadata": {},
   "source": [
    "*2022-05-12* Zwei Domherren verweisen über unterschiedliche GSN auf den gleichen Domherren GS\n",
    "*2022-05-20* Die Domherren 13486 und 38149 verweisen beide auf 700-00388-001"
   ]
  },
  {
   "cell_type": "markdown",
   "metadata": {},
   "source": [
    "end debug"
   ]
  },
  {
   "cell_type": "markdown",
   "metadata": {},
   "source": [
    "Jahreszahlen ermitteln"
   ]
  },
  {
   "cell_type": "code",
   "execution_count": 112,
   "metadata": {},
   "outputs": [
    {
     "data": {
      "text/plain": [
       "parse_date_birth (generic function with 1 method)"
      ]
     },
     "execution_count": 112,
     "metadata": {},
     "output_type": "execute_result"
    }
   ],
   "source": [
    "parse_date_birth(s) = Wds.parsemaybe(s, :lower)"
   ]
  },
  {
   "cell_type": "code",
   "execution_count": 113,
   "metadata": {},
   "outputs": [
    {
     "data": {
      "text/plain": [
       "parse_date_death (generic function with 1 method)"
      ]
     },
     "execution_count": 113,
     "metadata": {},
     "output_type": "execute_result"
    }
   ],
   "source": [
    "parse_date_death(s) = Wds.parsemaybe(s, :upper)"
   ]
  },
  {
   "cell_type": "code",
   "execution_count": 114,
   "metadata": {},
   "outputs": [],
   "source": [
    "transform!(df_cn_idx, :geburtsdatum => ByRow(parse_date_birth) => :num_date_birth);"
   ]
  },
  {
   "cell_type": "code",
   "execution_count": 115,
   "metadata": {},
   "outputs": [],
   "source": [
    "transform!(df_cn_idx, :sterbedatum => ByRow(parse_date_death) => :num_date_death);"
   ]
  },
  {
   "cell_type": "code",
   "execution_count": 116,
   "metadata": {},
   "outputs": [],
   "source": [
    "insertcols!(df_cn_idx,\n",
    "    :item_type_id => item_type_id,\n",
    ");"
   ]
  },
  {
   "cell_type": "code",
   "execution_count": 117,
   "metadata": {},
   "outputs": [
    {
     "data": {
      "text/plain": [
       "(9347, 27)"
      ]
     },
     "execution_count": 117,
     "metadata": {},
     "output_type": "execute_result"
    }
   ],
   "source": [
    "size(df_cn_idx)"
   ]
  },
  {
   "cell_type": "markdown",
   "metadata": {},
   "source": [
    "Orden zuordnen"
   ]
  },
  {
   "cell_type": "markdown",
   "metadata": {},
   "source": [
    "Bereinige Einträge"
   ]
  },
  {
   "cell_type": "code",
   "execution_count": 118,
   "metadata": {},
   "outputs": [
    {
     "data": {
      "text/plain": [
       "get_abbreviation (generic function with 1 method)"
      ]
     },
     "execution_count": 118,
     "metadata": {},
     "output_type": "execute_result"
    }
   ],
   "source": [
    "abbrev_dict = Dict(\"Kapuziner\" => \"OFMCap\", \"S. J.\" => \"SJ\")\n",
    "get_abbreviation(order) = get(abbrev_dict, order, order)"
   ]
  },
  {
   "cell_type": "code",
   "execution_count": 119,
   "metadata": {},
   "outputs": [],
   "source": [
    "transform!(df_cn_idx, :orden => ByRow(get_abbreviation) => :orden);"
   ]
  },
  {
   "cell_type": "code",
   "execution_count": 120,
   "metadata": {},
   "outputs": [],
   "source": [
    "sql = \"SELECT id as religious_order_id, abbreviation FROM religious_order\";\n",
    "df_rel_order = Wds.sql_df(sql);"
   ]
  },
  {
   "cell_type": "code",
   "execution_count": 121,
   "metadata": {},
   "outputs": [],
   "source": [
    "df_cn_idx = leftjoin(df_cn_idx, df_rel_order, on = :orden => :abbreviation, matchmissing = :notequal);"
   ]
  },
  {
   "cell_type": "code",
   "execution_count": 122,
   "metadata": {},
   "outputs": [
    {
     "data": {
      "text/plain": [
       "a_not_b (generic function with 1 method)"
      ]
     },
     "execution_count": 122,
     "metadata": {},
     "output_type": "execute_result"
    }
   ],
   "source": [
    "a_not_b(a, b) = !ismissing(a) && ismissing(b)"
   ]
  },
  {
   "cell_type": "code",
   "execution_count": 123,
   "metadata": {},
   "outputs": [],
   "source": [
    "df_cn_no_match = subset(df_cn_idx, [:orden, :religious_order_id] => ByRow(a_not_b));"
   ]
  },
  {
   "cell_type": "code",
   "execution_count": 124,
   "metadata": {},
   "outputs": [
    {
     "data": {
      "text/html": [
       "<div><div style = \"float: left;\"><span>0×3 DataFrame</span></div><div style = \"clear: both;\"></div></div><div class = \"data-frame\" style = \"overflow-x: scroll;\"><table class = \"data-frame\" style = \"margin-bottom: 6px;\"></table></div>"
      ],
      "text/latex": [
       "\\begin{tabular}{r|ccc}\n",
       "\t& id & id\\_in\\_source & orden\\\\\n",
       "\t\\hline\n",
       "\t& Int32 & String? & String?\\\\\n",
       "\t\\hline\n",
       "\\end{tabular}\n"
      ],
      "text/plain": [
       "\u001b[1m0×3 DataFrame\u001b[0m"
      ]
     },
     "execution_count": 124,
     "metadata": {},
     "output_type": "execute_result"
    }
   ],
   "source": [
    "df_cn_no_match[:, [:id, :id_in_source, :orden]]"
   ]
  },
  {
   "cell_type": "code",
   "execution_count": 126,
   "metadata": {
    "scrolled": true
   },
   "outputs": [
    {
     "data": {
      "text/plain": [
       "11-element Vector{Pair{Symbol, Symbol}}:\n",
       "                 :id => :id\n",
       "       :item_type_id => :item_type_id\n",
       "      :namenspraefix => :prefixname\n",
       "            :vorname => :givenname\n",
       "       :familienname => :familyname\n",
       "        :anmerkungen => :comment\n",
       "       :geburtsdatum => :date_birth\n",
       "        :sterbedatum => :date_death\n",
       "     :num_date_birth => :num_date_birth\n",
       "     :num_date_death => :num_date_death\n",
       " :religious_order_id => :religious_order_id"
      ]
     },
     "execution_count": 126,
     "metadata": {},
     "output_type": "execute_result"
    }
   ],
   "source": [
    "columns = [\n",
    "    :id => :id,\n",
    "    :item_type_id => :item_type_id,\n",
    "    :namenspraefix => :prefixname,\n",
    "    :vorname => :givenname,\n",
    "    :familienname => :familyname,\n",
    "    :anmerkungen => :comment,\n",
    "    :geburtsdatum => :date_birth,\n",
    "    :sterbedatum => :date_death,\n",
    "    :num_date_birth => :num_date_birth,\n",
    "    :num_date_death => :num_date_death,\n",
    "    :religious_order_id => :religious_order_id,\n",
    "]"
   ]
  },
  {
   "cell_type": "markdown",
   "metadata": {},
   "source": [
    "Einträge löschen (Korrektur/Update)"
   ]
  },
  {
   "cell_type": "code",
   "execution_count": 127,
   "metadata": {},
   "outputs": [],
   "source": [
    "df_cn_db = select(df_cn_idx, columns);"
   ]
  },
  {
   "cell_type": "code",
   "execution_count": 128,
   "metadata": {},
   "outputs": [
    {
     "data": {
      "text/plain": [
       "MySQL.TextCursor{true}(MySQL.Connection(host=\"127.0.0.1\", user=\"georg\", port=\"3306\", db=\"wiag_in\"), \"DELETE FROM person\\nWHERE id IN (SELECT id FROM item WHERE item_type_id = 6)\", 0, -1, 0, MySQL.API.MYSQL_RES(Ptr{Nothing} @0x0000000000000000), Symbol[], Type[], Dict{Symbol, Int64}(), 0, 1, false)"
      ]
     },
     "execution_count": 128,
     "metadata": {},
     "output_type": "execute_result"
    }
   ],
   "source": [
    "table_name = \"person\"\n",
    "sql = \"DELETE FROM $(table_name)\n",
    "WHERE id IN (SELECT id FROM item WHERE item_type_id = $(item_type_id))\"\n",
    "DBInterface.execute(Wds.dbwiag, sql)"
   ]
  },
  {
   "cell_type": "code",
   "execution_count": 129,
   "metadata": {},
   "outputs": [
    {
     "name": "stderr",
     "output_type": "stream",
     "text": [
      "┌ Info: Rows inserted: 9347\n",
      "└ @ WiagDataSetup C:\\Users\\georg\\Documents\\projekte\\WiagDataSetup.jl\\src\\WiagDataSetup.jl:1216\n"
     ]
    },
    {
     "data": {
      "text/plain": [
       "9347"
      ]
     },
     "execution_count": 129,
     "metadata": {},
     "output_type": "execute_result"
    }
   ],
   "source": [
    "Wds.filltable!(\"person\", df_cn_db; clear_table=false)"
   ]
  },
  {
   "cell_type": "markdown",
   "metadata": {},
   "source": [
    "### Orden eintragen\n",
    "*2022-01-19* Die (vorläufige) Ordenstabelle basiert auf den Ordensangaben für Bischöfe und auf den Ordensangaben hier.  \n",
    "*2022-07-26, 2022-10-15* Orden sind schon zugeordnet (siehe oben)  "
   ]
  },
  {
   "cell_type": "code",
   "execution_count": 198,
   "metadata": {},
   "outputs": [
    {
     "data": {
      "text/plain": [
       "11-element Vector{Union{Missing, String}}:\n",
       " missing\n",
       " \"OPraem\"\n",
       " \"SJ\"\n",
       " \"OP\"\n",
       " \"Kapuziner\"\n",
       " \"OFMObs\"\n",
       " \"S. J.\"\n",
       " \"OSB\"\n",
       " \"OT\"\n",
       " \"CRVC\"\n",
       " \"OCist\""
      ]
     },
     "execution_count": 198,
     "metadata": {},
     "output_type": "execute_result"
    }
   ],
   "source": [
    "unique(df_cn_all.orden)"
   ]
  },
  {
   "cell_type": "code",
   "execution_count": 199,
   "metadata": {},
   "outputs": [
    {
     "data": {
      "text/plain": [
       "Dict{String, String} with 2 entries:\n",
       "  \"Kapuziner\" => \"OFMCap\"\n",
       "  \"S. J.\"     => \"SJ\""
      ]
     },
     "execution_count": 199,
     "metadata": {},
     "output_type": "execute_result"
    }
   ],
   "source": [
    "lookup_order = Dict(\n",
    "    \"Kapuziner\" => \"OFMCap\",\n",
    "    \"S. J.\" => \"SJ\",\n",
    ")"
   ]
  },
  {
   "cell_type": "code",
   "execution_count": 200,
   "metadata": {},
   "outputs": [
    {
     "data": {
      "text/plain": [
       "normalize_order (generic function with 1 method)"
      ]
     },
     "execution_count": 200,
     "metadata": {},
     "output_type": "execute_result"
    }
   ],
   "source": [
    "normalize_order(order) = get(lookup_order, order, order)"
   ]
  },
  {
   "cell_type": "code",
   "execution_count": 201,
   "metadata": {},
   "outputs": [],
   "source": [
    "transform!(df_cn_idx, :orden => ByRow(normalize_order) => :orden);"
   ]
  },
  {
   "cell_type": "code",
   "execution_count": 202,
   "metadata": {},
   "outputs": [
    {
     "data": {
      "text/plain": [
       "9-element Vector{Union{Missing, String}}:\n",
       " \"OPraem\"\n",
       " \"SJ\"\n",
       " \"OP\"\n",
       " \"OFMCap\"\n",
       " \"OFMObs\"\n",
       " \"OSB\"\n",
       " \"OT\"\n",
       " \"CRVC\"\n",
       " \"OCist\""
      ]
     },
     "execution_count": 202,
     "metadata": {},
     "output_type": "execute_result"
    }
   ],
   "source": [
    "orders_gs = filter(!ismissing, unique(df_cn_idx.orden))"
   ]
  },
  {
   "cell_type": "code",
   "execution_count": 156,
   "metadata": {},
   "outputs": [],
   "source": [
    "table_name = \"religious_order\"\n",
    "sql = \"SELECT abbreviation FROM $(table_name)\"\n",
    "df_orders = Wds.sql_df(sql);"
   ]
  },
  {
   "cell_type": "code",
   "execution_count": 157,
   "metadata": {},
   "outputs": [
    {
     "data": {
      "text/plain": [
       "Union{Missing, String}[]"
      ]
     },
     "execution_count": 157,
     "metadata": {},
     "output_type": "execute_result"
    }
   ],
   "source": [
    "new_orders = setdiff(orders_gs, df_orders.abbreviation)"
   ]
  },
  {
   "cell_type": "markdown",
   "metadata": {},
   "source": [
    "Eintrag in `item`"
   ]
  },
  {
   "cell_type": "markdown",
   "metadata": {},
   "source": [
    "*2022-02-25* Nur nötig, wenn die Orden neu angelegt werden."
   ]
  },
  {
   "cell_type": "code",
   "execution_count": null,
   "metadata": {},
   "outputs": [],
   "source": [
    "table_name = \"item\";\n",
    "sql = \"SELECT * FROM $(table_name) LIMIT 0\";\n",
    "df_item = Wds.sql_df(sql);"
   ]
  },
  {
   "cell_type": "code",
   "execution_count": null,
   "metadata": {},
   "outputs": [],
   "source": [
    "id_next = 22;"
   ]
  },
  {
   "cell_type": "code",
   "execution_count": null,
   "metadata": {},
   "outputs": [],
   "source": [
    "item_type_order = 7;\n",
    "user_wiag_id = 7; # Georg\n",
    "time_stamp = Dates.format(now(), dateformat\"yyyy-mm-dd HH:MM\");"
   ]
  },
  {
   "cell_type": "code",
   "execution_count": null,
   "metadata": {},
   "outputs": [],
   "source": [
    "df_item = select(df_item, Not(:id));"
   ]
  },
  {
   "cell_type": "code",
   "execution_count": null,
   "metadata": {},
   "outputs": [],
   "source": [
    "table_name = \"item\"\n",
    "sql = \"INSERT INTO $(table_name) SET\n",
    "    item_type_id = $(item_type_order),    \n",
    "    id_in_source = $(id_next),\n",
    "    is_deleted = 0,\n",
    "    is_online = 0,\n",
    "    created_by = $(user_wiag_id),\n",
    "    date_created = '$(time_stamp)',\n",
    "    changed_by = $(user_wiag_id),\n",
    "    date_changed = '$(time_stamp)'\"\n",
    "DBInterface.execute(Wds.dbwiag, sql)"
   ]
  },
  {
   "cell_type": "markdown",
   "metadata": {},
   "source": [
    "Lies `item_id` für religiöse Orden aus"
   ]
  },
  {
   "cell_type": "code",
   "execution_count": 144,
   "metadata": {},
   "outputs": [
    {
     "ename": "LoadError",
     "evalue": "UndefVarError: id_next not defined",
     "output_type": "error",
     "traceback": [
      "UndefVarError: id_next not defined",
      "",
      "Stacktrace:",
      " [1] top-level scope",
      "   @ In[144]:2",
      " [2] eval",
      "   @ .\\boot.jl:373 [inlined]",
      " [3] include_string(mapexpr::typeof(REPL.softscope), mod::Module, code::String, filename::String)",
      "   @ Base .\\loading.jl:1196"
     ]
    }
   ],
   "source": [
    "table_name = \"item\"\n",
    "sql = \"SELECT id, id_in_source \n",
    "FROM $(table_name) \n",
    "WHERE id_in_source = $(id_next) and item_type_id = $(item_type_order)\"\n",
    "df_idx = Wds.sql_df(sql);"
   ]
  },
  {
   "cell_type": "code",
   "execution_count": 145,
   "metadata": {},
   "outputs": [
    {
     "data": {
      "text/plain": [
       "249263"
      ]
     },
     "execution_count": 145,
     "metadata": {},
     "output_type": "execute_result"
    }
   ],
   "source": [
    "item_id = df_idx[1, :id]"
   ]
  },
  {
   "cell_type": "code",
   "execution_count": 146,
   "metadata": {},
   "outputs": [
    {
     "data": {
      "text/plain": [
       "MySQL.TextCursor{true}(MySQL.Connection(host=\"127.0.0.1\", user=\"georg\", port=\"3306\", db=\"wiag2\"), \"INSERT INTO religious_order SET id = 249263, abbreviation = 'CRVC'\", 0, -1, 1, MySQL.API.MYSQL_RES(Ptr{Nothing} @0x0000000000000000), Symbol[], Type[], Dict{Symbol, Int64}(), 0, 1, false)"
      ]
     },
     "execution_count": 146,
     "metadata": {},
     "output_type": "execute_result"
    }
   ],
   "source": [
    "table_name = \"religious_order\";\n",
    "sql = \"INSERT INTO $(table_name) SET id = $(item_id), abbreviation = 'CRVC'\";\n",
    "DBInterface.execute(Wds.dbwiag, sql)"
   ]
  },
  {
   "cell_type": "markdown",
   "metadata": {},
   "source": [
    "### Literaturverweise eintragen"
   ]
  },
  {
   "cell_type": "markdown",
   "metadata": {},
   "source": [
    "IDs wieder einlesen, falls hier neu gestartet wird."
   ]
  },
  {
   "cell_type": "code",
   "execution_count": 130,
   "metadata": {},
   "outputs": [],
   "source": [
    "table_name = \"item\";\n",
    "sql = \"SELECT id, id_in_source\n",
    "FROM $(table_name)\n",
    "WHERE item_type_id = $(item_type_id)\";\n",
    "df_idx = Wds.sql_df(sql);"
   ]
  },
  {
   "cell_type": "code",
   "execution_count": 131,
   "metadata": {},
   "outputs": [
    {
     "data": {
      "text/plain": [
       "(9347, 9347)"
      ]
     },
     "execution_count": 131,
     "metadata": {},
     "output_type": "execute_result"
    }
   ],
   "source": [
    "size(df_idx, 1), size(df_p_gsn, 1)"
   ]
  },
  {
   "cell_type": "code",
   "execution_count": 132,
   "metadata": {},
   "outputs": [
    {
     "data": {
      "text/plain": [
       "find_ids (generic function with 1 method)"
      ]
     },
     "execution_count": 132,
     "metadata": {},
     "output_type": "execute_result"
    }
   ],
   "source": [
    "find_ids(id) = id in (\"4586\", \"4590\", \"4620\", \"4623\")"
   ]
  },
  {
   "cell_type": "code",
   "execution_count": 133,
   "metadata": {
    "scrolled": true
   },
   "outputs": [
    {
     "data": {
      "text/html": [
       "<div><div style = \"float: left;\"><span>4×2 DataFrame</span></div><div style = \"clear: both;\"></div></div><div class = \"data-frame\" style = \"overflow-x: scroll;\"><table class = \"data-frame\" style = \"margin-bottom: 6px;\"><thead><tr class = \"header\"><th class = \"rowNumber\" style = \"font-weight: bold; text-align: right;\">Row</th><th style = \"text-align: left;\">id</th><th style = \"text-align: left;\">id_in_source</th></tr><tr class = \"subheader headerLastRow\"><th class = \"rowNumber\" style = \"font-weight: bold; text-align: right;\"></th><th title = \"Int32\" style = \"text-align: left;\">Int32</th><th title = \"Union{Missing, String}\" style = \"text-align: left;\">String?</th></tr></thead><tbody><tr><td class = \"rowNumber\" style = \"font-weight: bold; text-align: right;\">1</td><td style = \"text-align: right;\">672192</td><td style = \"text-align: left;\">4623</td></tr><tr><td class = \"rowNumber\" style = \"font-weight: bold; text-align: right;\">2</td><td style = \"text-align: right;\">672193</td><td style = \"text-align: left;\">4620</td></tr><tr><td class = \"rowNumber\" style = \"font-weight: bold; text-align: right;\">3</td><td style = \"text-align: right;\">672194</td><td style = \"text-align: left;\">4590</td></tr><tr><td class = \"rowNumber\" style = \"font-weight: bold; text-align: right;\">4</td><td style = \"text-align: right;\">672195</td><td style = \"text-align: left;\">4586</td></tr></tbody></table></div>"
      ],
      "text/latex": [
       "\\begin{tabular}{r|cc}\n",
       "\t& id & id\\_in\\_source\\\\\n",
       "\t\\hline\n",
       "\t& Int32 & String?\\\\\n",
       "\t\\hline\n",
       "\t1 & 672192 & 4623 \\\\\n",
       "\t2 & 672193 & 4620 \\\\\n",
       "\t3 & 672194 & 4590 \\\\\n",
       "\t4 & 672195 & 4586 \\\\\n",
       "\\end{tabular}\n"
      ],
      "text/plain": [
       "\u001b[1m4×2 DataFrame\u001b[0m\n",
       "\u001b[1m Row \u001b[0m│\u001b[1m id     \u001b[0m\u001b[1m id_in_source \u001b[0m\n",
       "     │\u001b[90m Int32  \u001b[0m\u001b[90m String?      \u001b[0m\n",
       "─────┼──────────────────────\n",
       "   1 │ 672192  4623\n",
       "   2 │ 672193  4620\n",
       "   3 │ 672194  4590\n",
       "   4 │ 672195  4586"
      ]
     },
     "execution_count": 133,
     "metadata": {},
     "output_type": "execute_result"
    }
   ],
   "source": [
    "subset(df_idx, :id_in_source => ByRow(find_ids))"
   ]
  },
  {
   "cell_type": "code",
   "execution_count": 134,
   "metadata": {},
   "outputs": [
    {
     "data": {
      "text/html": [
       "<div><div style = \"float: left;\"><span>5×2 DataFrame</span></div><div style = \"clear: both;\"></div></div><div class = \"data-frame\" style = \"overflow-x: scroll;\"><table class = \"data-frame\" style = \"margin-bottom: 6px;\"><thead><tr class = \"header\"><th class = \"rowNumber\" style = \"font-weight: bold; text-align: right;\">Row</th><th style = \"text-align: left;\">id_person_gso</th><th style = \"text-align: left;\">vorname</th></tr><tr class = \"subheader headerLastRow\"><th class = \"rowNumber\" style = \"font-weight: bold; text-align: right;\"></th><th title = \"String\" style = \"text-align: left;\">String</th><th title = \"Union{Missing, String}\" style = \"text-align: left;\">String?</th></tr></thead><tbody><tr><td class = \"rowNumber\" style = \"font-weight: bold; text-align: right;\">1</td><td style = \"text-align: left;\">4586</td><td style = \"text-align: left;\">Nikolaus</td></tr><tr><td class = \"rowNumber\" style = \"font-weight: bold; text-align: right;\">2</td><td style = \"text-align: left;\">4590</td><td style = \"text-align: left;\">Johann</td></tr><tr><td class = \"rowNumber\" style = \"font-weight: bold; text-align: right;\">3</td><td style = \"text-align: left;\">4620</td><td style = \"text-align: left;\">Lorenz</td></tr><tr><td class = \"rowNumber\" style = \"font-weight: bold; text-align: right;\">4</td><td style = \"text-align: left;\">4623</td><td style = \"text-align: left;\">Werner</td></tr><tr><td class = \"rowNumber\" style = \"font-weight: bold; text-align: right;\">5</td><td style = \"text-align: left;\">4678</td><td style = \"text-align: left;\">Johannes</td></tr></tbody></table></div>"
      ],
      "text/latex": [
       "\\begin{tabular}{r|cc}\n",
       "\t& id\\_person\\_gso & vorname\\\\\n",
       "\t\\hline\n",
       "\t& String & String?\\\\\n",
       "\t\\hline\n",
       "\t1 & 4586 & Nikolaus \\\\\n",
       "\t2 & 4590 & Johann \\\\\n",
       "\t3 & 4620 & Lorenz \\\\\n",
       "\t4 & 4623 & Werner \\\\\n",
       "\t5 & 4678 & Johannes \\\\\n",
       "\\end{tabular}\n"
      ],
      "text/plain": [
       "\u001b[1m5×2 DataFrame\u001b[0m\n",
       "\u001b[1m Row \u001b[0m│\u001b[1m id_person_gso \u001b[0m\u001b[1m vorname  \u001b[0m\n",
       "     │\u001b[90m String        \u001b[0m\u001b[90m String?  \u001b[0m\n",
       "─────┼─────────────────────────\n",
       "   1 │ 4586           Nikolaus\n",
       "   2 │ 4590           Johann\n",
       "   3 │ 4620           Lorenz\n",
       "   4 │ 4623           Werner\n",
       "   5 │ 4678           Johannes"
      ]
     },
     "execution_count": 134,
     "metadata": {},
     "output_type": "execute_result"
    }
   ],
   "source": [
    "df_p_gsn[1:5, [:id_person_gso, :vorname]]"
   ]
  },
  {
   "cell_type": "code",
   "execution_count": 135,
   "metadata": {},
   "outputs": [],
   "source": [
    "transform!(df_p_gsn, :id_person_gso => ByRow(string) => :id_in_source);"
   ]
  },
  {
   "cell_type": "code",
   "execution_count": 136,
   "metadata": {},
   "outputs": [],
   "source": [
    "df_cn_idx = innerjoin(df_p_gsn, df_idx, on = :id_in_source);"
   ]
  },
  {
   "cell_type": "code",
   "execution_count": 137,
   "metadata": {},
   "outputs": [
    {
     "data": {
      "text/plain": [
       "9347"
      ]
     },
     "execution_count": 137,
     "metadata": {},
     "output_type": "execute_result"
    }
   ],
   "source": [
    "size(df_cn_idx, 1)"
   ]
  },
  {
   "cell_type": "code",
   "execution_count": null,
   "metadata": {},
   "outputs": [],
   "source": []
  },
  {
   "cell_type": "code",
   "execution_count": 138,
   "metadata": {},
   "outputs": [],
   "source": [
    "table_name = gs_db * \".locations\";\n",
    "sql = \"SELECT item_id as item_id_gs, seiten, book_id  FROM $(table_name) \" * \n",
    "\"WHERE item_status = 'online' AND NOT deleted \" *\n",
    "\"GROUP BY item_id, book_id, seiten\"\n",
    "df_p_ref = Wds.sql_df(sql);"
   ]
  },
  {
   "cell_type": "markdown",
   "metadata": {},
   "source": [
    "Verbinde die Literaturangaben mit den relevanten Domherren"
   ]
  },
  {
   "cell_type": "code",
   "execution_count": 139,
   "metadata": {},
   "outputs": [
    {
     "data": {
      "text/plain": [
       "2-element Vector{Pair{Symbol, Symbol}}:\n",
       "      :id => :item_id\n",
       " :item_id => :item_id_gs"
      ]
     },
     "execution_count": 139,
     "metadata": {},
     "output_type": "execute_result"
    }
   ],
   "source": [
    "columns = [:id => :item_id, :item_id => :item_id_gs]"
   ]
  },
  {
   "cell_type": "code",
   "execution_count": 140,
   "metadata": {},
   "outputs": [],
   "source": [
    "df_p_ref = innerjoin(df_p_ref, select(df_cn_idx, columns), on = :item_id_gs);"
   ]
  },
  {
   "cell_type": "code",
   "execution_count": 141,
   "metadata": {},
   "outputs": [
    {
     "data": {
      "text/plain": [
       "(15631, 4)"
      ]
     },
     "execution_count": 141,
     "metadata": {},
     "output_type": "execute_result"
    }
   ],
   "source": [
    "size(df_p_ref)"
   ]
  },
  {
   "cell_type": "markdown",
   "metadata": {},
   "source": [
    "Übernimm für Domherren mit Kurzbiographie nur Literaturhinweise mit Kurzbiographien (`transfer_gso.sql`: 2021-04-26) Es ist freilich möglich, dass es mehrere Literaturverweise gibt, die eine Kurzbiographie enthalten."
   ]
  },
  {
   "cell_type": "code",
   "execution_count": 142,
   "metadata": {},
   "outputs": [],
   "source": [
    "is_bio(seiten) = contains(seiten, \"<b>\");"
   ]
  },
  {
   "cell_type": "code",
   "execution_count": 143,
   "metadata": {},
   "outputs": [],
   "source": [
    "df_p_ref_bio = subset(df_p_ref, :seiten =>ByRow(is_bio));"
   ]
  },
  {
   "cell_type": "code",
   "execution_count": 144,
   "metadata": {},
   "outputs": [
    {
     "data": {
      "text/plain": [
       "(8205, 4)"
      ]
     },
     "execution_count": 144,
     "metadata": {},
     "output_type": "execute_result"
    }
   ],
   "source": [
    "size(df_p_ref_bio)"
   ]
  },
  {
   "cell_type": "markdown",
   "metadata": {},
   "source": [
    "Bilde die Differenzmenge in Bezug auf Domherren, nicht in Bezug auf Literaturverweise"
   ]
  },
  {
   "cell_type": "code",
   "execution_count": 145,
   "metadata": {},
   "outputs": [
    {
     "data": {
      "text/plain": [
       "is_item_bio (generic function with 1 method)"
      ]
     },
     "execution_count": 145,
     "metadata": {},
     "output_type": "execute_result"
    }
   ],
   "source": [
    "is_item_bio(item_id) = item_id in unique(df_p_ref_bio.item_id)"
   ]
  },
  {
   "cell_type": "code",
   "execution_count": 146,
   "metadata": {},
   "outputs": [],
   "source": [
    "df_p_ref_mg_bio = subset(df_p_ref, :item_id => ByRow(!is_item_bio));"
   ]
  },
  {
   "cell_type": "markdown",
   "metadata": {},
   "source": [
    "Einträge löschen für Korrekturen oder ein Update"
   ]
  },
  {
   "cell_type": "code",
   "execution_count": 147,
   "metadata": {},
   "outputs": [
    {
     "data": {
      "text/plain": [
       "6"
      ]
     },
     "execution_count": 147,
     "metadata": {},
     "output_type": "execute_result"
    }
   ],
   "source": [
    "item_type_id"
   ]
  },
  {
   "cell_type": "code",
   "execution_count": 148,
   "metadata": {},
   "outputs": [
    {
     "data": {
      "text/plain": [
       "MySQL.TextCursor{true}(MySQL.Connection(host=\"127.0.0.1\", user=\"georg\", port=\"3306\", db=\"wiag_in\"), \"DELETE FROM item_reference WHERE item_type_id = 6\", 0, -1, 0, MySQL.API.MYSQL_RES(Ptr{Nothing} @0x0000000000000000), Symbol[], Type[], Dict{Symbol, Int64}(), 0, 1, false)"
      ]
     },
     "execution_count": 148,
     "metadata": {},
     "output_type": "execute_result"
    }
   ],
   "source": [
    "table_name = \"item_reference\";\n",
    "sql = \"DELETE FROM $(table_name) WHERE item_type_id = $(item_type_id)\";\n",
    "DBInterface.execute(Wds.dbwiag, sql)"
   ]
  },
  {
   "cell_type": "code",
   "execution_count": 149,
   "metadata": {},
   "outputs": [],
   "source": [
    "insertcols!(df_p_ref_bio, 1, :item_type_id => item_type_id);"
   ]
  },
  {
   "cell_type": "code",
   "execution_count": 150,
   "metadata": {},
   "outputs": [],
   "source": [
    "insertcols!(df_p_ref_mg_bio, 1, :item_type_id => item_type_id);"
   ]
  },
  {
   "cell_type": "code",
   "execution_count": 151,
   "metadata": {},
   "outputs": [
    {
     "data": {
      "text/plain": [
       "4-element Vector{Pair{Symbol, Symbol}}:\n",
       "      :item_id => :item_id\n",
       "       :seiten => :page\n",
       " :item_type_id => :item_type_id\n",
       "      :book_id => :reference_id"
      ]
     },
     "execution_count": 151,
     "metadata": {},
     "output_type": "execute_result"
    }
   ],
   "source": [
    "columns = [\n",
    "    :item_id => :item_id,\n",
    "    :seiten => :page,\n",
    "    :item_type_id => :item_type_id,\n",
    "    :book_id => :reference_id,\n",
    "]"
   ]
  },
  {
   "cell_type": "code",
   "execution_count": 152,
   "metadata": {},
   "outputs": [
    {
     "name": "stderr",
     "output_type": "stream",
     "text": [
      "┌ Info: Rows inserted: 8205\n",
      "└ @ WiagDataSetup C:\\Users\\georg\\Documents\\projekte\\WiagDataSetup.jl\\src\\WiagDataSetup.jl:1216\n"
     ]
    },
    {
     "data": {
      "text/plain": [
       "8205"
      ]
     },
     "execution_count": 152,
     "metadata": {},
     "output_type": "execute_result"
    }
   ],
   "source": [
    "table_name = \"item_reference\"\n",
    "Wds.filltable!(table_name, select(df_p_ref_bio, columns))"
   ]
  },
  {
   "cell_type": "markdown",
   "metadata": {},
   "source": [
    "*2022-02-25* Es werden ab jetzt nur noch Literaturangaben **mit Kurzbiographie** berücksichtigt."
   ]
  },
  {
   "cell_type": "code",
   "execution_count": null,
   "metadata": {},
   "outputs": [],
   "source": [
    "table_name = \"item_reference\"\n",
    "Wds.filltable!(table_name, select(df_p_ref_mg_bio, columns))"
   ]
  },
  {
   "cell_type": "markdown",
   "metadata": {},
   "source": [
    "Probe:\n",
    "``` sql\n",
    "select count(distinct(item_id)) from item_reference where item_type_id = 6;\n",
    "```\n",
    "7389\n",
    "\n",
    "Es gibt also für jeden Domherren mindestens einen Literaturverweis"
   ]
  },
  {
   "cell_type": "markdown",
   "metadata": {},
   "source": [
    "### Externe IDs eintragen"
   ]
  },
  {
   "cell_type": "code",
   "execution_count": 137,
   "metadata": {},
   "outputs": [],
   "source": [
    "using MySQL, DataFrames"
   ]
  },
  {
   "cell_type": "code",
   "execution_count": 162,
   "metadata": {},
   "outputs": [
    {
     "name": "stdout",
     "output_type": "stream",
     "text": [
      "Passwort für User georg: ········\n"
     ]
    },
    {
     "data": {
      "text/plain": [
       "MySQL.Connection(host=\"127.0.0.1\", user=\"georg\", port=\"3306\", db=\"wiag2\")"
      ]
     },
     "execution_count": 162,
     "metadata": {},
     "output_type": "execute_result"
    }
   ],
   "source": [
    "Wds.setDBWIAG(user = \"georg\", db = \"wiag2\")"
   ]
  },
  {
   "cell_type": "code",
   "execution_count": 162,
   "metadata": {},
   "outputs": [
    {
     "data": {
      "text/plain": [
       "6"
      ]
     },
     "execution_count": 162,
     "metadata": {},
     "output_type": "execute_result"
    }
   ],
   "source": [
    "item_type_id = 6"
   ]
  },
  {
   "cell_type": "markdown",
   "metadata": {},
   "source": [
    "Einträge löschen (für den Fall eines Fehlers oder für ein Update)"
   ]
  },
  {
   "cell_type": "code",
   "execution_count": 153,
   "metadata": {},
   "outputs": [
    {
     "data": {
      "text/plain": [
       "MySQL.TextCursor{true}(MySQL.Connection(host=\"127.0.0.1\", user=\"georg\", port=\"3306\", db=\"wiag_in\"), \"DELETE FROM id_external WHERE item_id IN (SELECT id FROM item WHERE item_type_id = 6)\", 0, -1, 0, MySQL.API.MYSQL_RES(Ptr{Nothing} @0x0000000000000000), Symbol[], Type[], Dict{Symbol, Int64}(), 0, 1, false)"
      ]
     },
     "execution_count": 153,
     "metadata": {},
     "output_type": "execute_result"
    }
   ],
   "source": [
    "sql = \"DELETE FROM id_external \" *\n",
    "\"WHERE item_id IN (SELECT id FROM item WHERE item_type_id = $(item_type_id))\"\n",
    "DBInterface.execute(Wds.dbwiag, sql)"
   ]
  },
  {
   "cell_type": "code",
   "execution_count": 154,
   "metadata": {},
   "outputs": [
    {
     "data": {
      "text/html": [
       "<div><div style = \"float: left;\"><span>6×2 DataFrame</span></div><div style = \"clear: both;\"></div></div><div class = \"data-frame\" style = \"overflow-x: scroll;\"><table class = \"data-frame\" style = \"margin-bottom: 6px;\"><thead><tr class = \"header\"><th class = \"rowNumber\" style = \"font-weight: bold; text-align: right;\">Row</th><th style = \"text-align: left;\">id</th><th style = \"text-align: left;\">url_name_formatter</th></tr><tr class = \"subheader headerLastRow\"><th class = \"rowNumber\" style = \"font-weight: bold; text-align: right;\"></th><th title = \"Int32\" style = \"text-align: left;\">Int32</th><th title = \"Union{Missing, String}\" style = \"text-align: left;\">String?</th></tr></thead><tbody><tr><td class = \"rowNumber\" style = \"font-weight: bold; text-align: right;\">1</td><td style = \"text-align: right;\">1</td><td style = \"text-align: left;\">Gemeinsame Normdatei (GND) ID</td></tr><tr><td class = \"rowNumber\" style = \"font-weight: bold; text-align: right;\">2</td><td style = \"text-align: right;\">2</td><td style = \"text-align: left;\">Wikidata</td></tr><tr><td class = \"rowNumber\" style = \"font-weight: bold; text-align: right;\">3</td><td style = \"text-align: right;\">3</td><td style = \"text-align: left;\">Wikipedia-Artikel</td></tr><tr><td class = \"rowNumber\" style = \"font-weight: bold; text-align: right;\">4</td><td style = \"text-align: right;\">4</td><td style = \"text-align: left;\">VIAF-ID</td></tr><tr><td class = \"rowNumber\" style = \"font-weight: bold; text-align: right;\">5</td><td style = \"text-align: right;\">5</td><td style = \"text-align: left;\">WIAG-ID</td></tr><tr><td class = \"rowNumber\" style = \"font-weight: bold; text-align: right;\">6</td><td style = \"text-align: right;\">200</td><td style = \"text-align: left;\">Personendatenbank der Germania Sacra</td></tr></tbody></table></div>"
      ],
      "text/latex": [
       "\\begin{tabular}{r|cc}\n",
       "\t& id & url\\_name\\_formatter\\\\\n",
       "\t\\hline\n",
       "\t& Int32 & String?\\\\\n",
       "\t\\hline\n",
       "\t1 & 1 & Gemeinsame Normdatei (GND) ID \\\\\n",
       "\t2 & 2 & Wikidata \\\\\n",
       "\t3 & 3 & Wikipedia-Artikel \\\\\n",
       "\t4 & 4 & VIAF-ID \\\\\n",
       "\t5 & 5 & WIAG-ID \\\\\n",
       "\t6 & 200 & Personendatenbank der Germania Sacra \\\\\n",
       "\\end{tabular}\n"
      ],
      "text/plain": [
       "\u001b[1m6×2 DataFrame\u001b[0m\n",
       "\u001b[1m Row \u001b[0m│\u001b[1m id    \u001b[0m\u001b[1m url_name_formatter                \u001b[0m\n",
       "     │\u001b[90m Int32 \u001b[0m\u001b[90m String?                           \u001b[0m\n",
       "─────┼──────────────────────────────────────────\n",
       "   1 │     1  Gemeinsame Normdatei (GND) ID\n",
       "   2 │     2  Wikidata\n",
       "   3 │     3  Wikipedia-Artikel\n",
       "   4 │     4  VIAF-ID\n",
       "   5 │     5  WIAG-ID\n",
       "   6 │   200  Personendatenbank der Germania S…"
      ]
     },
     "execution_count": 154,
     "metadata": {},
     "output_type": "execute_result"
    }
   ],
   "source": [
    "sql = \"SELECT id, url_name_formatter FROM authority \" *\n",
    "\"WHERE id IN (1, 2, 3, 4, 5, 200)\"\n",
    "Wds.sql_df(sql)"
   ]
  },
  {
   "cell_type": "markdown",
   "metadata": {},
   "source": [
    "**VIAF**, dann GND, GSN"
   ]
  },
  {
   "cell_type": "code",
   "execution_count": 155,
   "metadata": {},
   "outputs": [
    {
     "data": {
      "text/plain": [
       "4"
      ]
     },
     "execution_count": 155,
     "metadata": {},
     "output_type": "execute_result"
    }
   ],
   "source": [
    "authority_id = 4 # siehe oben"
   ]
  },
  {
   "cell_type": "code",
   "execution_count": 156,
   "metadata": {},
   "outputs": [],
   "source": [
    "col = :viaf;\n",
    "df_p_auth = dropmissing(df_cn_idx, col);\n",
    "insertcols!(df_p_auth, 1, :authority_id => authority_id);\n",
    "transform!(df_p_auth, col => :value);"
   ]
  },
  {
   "cell_type": "code",
   "execution_count": 157,
   "metadata": {},
   "outputs": [
    {
     "data": {
      "text/plain": [
       "(2, 24)"
      ]
     },
     "execution_count": 157,
     "metadata": {},
     "output_type": "execute_result"
    }
   ],
   "source": [
    "size(df_p_auth)"
   ]
  },
  {
   "cell_type": "code",
   "execution_count": 158,
   "metadata": {},
   "outputs": [
    {
     "data": {
      "text/html": [
       "<div><div style = \"float: left;\"><span>2×24 DataFrame</span></div><div style = \"clear: both;\"></div></div><div class = \"data-frame\" style = \"overflow-x: scroll;\"><table class = \"data-frame\" style = \"margin-bottom: 6px;\"><thead><tr class = \"header\"><th class = \"rowNumber\" style = \"font-weight: bold; text-align: right;\">Row</th><th style = \"text-align: left;\">authority_id</th><th style = \"text-align: left;\">id_person_gso</th><th style = \"text-align: left;\">item_id</th><th style = \"text-align: left;\">namenspraefix</th><th style = \"text-align: left;\">vorname</th><th style = \"text-align: left;\">familienname</th><th style = \"text-align: left;\">sterbedatum</th><th style = \"text-align: left;\">geburtsdatum</th><th style = \"text-align: left;\">orden</th><th style = \"text-align: left;\">anmerkungen</th><th style = \"text-align: left;\">titel</th><th style = \"text-align: left;\">gndnummer</th><th style = \"text-align: left;\">viaf</th><th style = \"text-align: left;\">familiennamenvarianten</th><th style = \"text-align: left;\">vornamenvarianten</th><th style = \"text-align: left;\">namenszusatz</th><th style = \"text-align: left;\">zeitraum_von</th><th style = \"text-align: left;\">zeitraum_bis</th><th style = \"text-align: left;\">gsn_id</th><th style = \"text-align: left;\">gsn</th><th style = \"text-align: left;\">status</th><th style = \"text-align: left;\">id_in_source</th><th style = \"text-align: left;\">id</th><th style = \"text-align: left;\">value</th></tr><tr class = \"subheader headerLastRow\"><th class = \"rowNumber\" style = \"font-weight: bold; text-align: right;\"></th><th title = \"Int64\" style = \"text-align: left;\">Int64</th><th title = \"String\" style = \"text-align: left;\">String</th><th title = \"Int32\" style = \"text-align: left;\">Int32</th><th title = \"Union{Missing, String}\" style = \"text-align: left;\">String?</th><th title = \"Union{Missing, String}\" style = \"text-align: left;\">String?</th><th title = \"Union{Missing, String}\" style = \"text-align: left;\">String?</th><th title = \"Union{Missing, String}\" style = \"text-align: left;\">String?</th><th title = \"Union{Missing, String}\" style = \"text-align: left;\">String?</th><th title = \"Union{Missing, String}\" style = \"text-align: left;\">String?</th><th title = \"Union{Missing, String}\" style = \"text-align: left;\">String?</th><th title = \"Union{Missing, String}\" style = \"text-align: left;\">String?</th><th title = \"Union{Missing, String}\" style = \"text-align: left;\">String?</th><th title = \"String\" style = \"text-align: left;\">String</th><th title = \"Union{Missing, String}\" style = \"text-align: left;\">String?</th><th title = \"Union{Missing, String}\" style = \"text-align: left;\">String?</th><th title = \"Union{Missing, String}\" style = \"text-align: left;\">String?</th><th title = \"Union{Missing, Int32}\" style = \"text-align: left;\">Int32?</th><th title = \"Union{Missing, Int32}\" style = \"text-align: left;\">Int32?</th><th title = \"Int32\" style = \"text-align: left;\">Int32</th><th title = \"Union{Missing, String}\" style = \"text-align: left;\">String?</th><th title = \"String\" style = \"text-align: left;\">String</th><th title = \"String\" style = \"text-align: left;\">String</th><th title = \"Int32\" style = \"text-align: left;\">Int32</th><th title = \"String\" style = \"text-align: left;\">String</th></tr></thead><tbody><tr><td class = \"rowNumber\" style = \"font-weight: bold; text-align: right;\">1</td><td style = \"text-align: right;\">4</td><td style = \"text-align: left;\">325149</td><td style = \"text-align: right;\">331572</td><td style = \"text-align: left;\">von</td><td style = \"text-align: left;\">Joseph Christian</td><td style = \"text-align: left;\">Hohenlohe-Bartenstein</td><td style = \"text-align: left;\">1817</td><td style = \"text-align: left;\">1740</td><td style = \"font-style: italic; text-align: left;\">missing</td><td style = \"font-style: italic; text-align: left;\">missing</td><td style = \"font-style: italic; text-align: left;\">missing</td><td style = \"text-align: left;\">119536463</td><td style = \"text-align: left;\">3283116</td><td style = \"font-style: italic; text-align: left;\">missing</td><td style = \"text-align: left;\">Joseph Christian Franz</td><td style = \"font-style: italic; text-align: left;\">missing</td><td style = \"text-align: right;\">1784</td><td style = \"text-align: right;\">1817</td><td style = \"text-align: right;\">372904</td><td style = \"text-align: left;\">048-03097-001</td><td style = \"text-align: left;\">online</td><td style = \"text-align: left;\">325149</td><td style = \"text-align: right;\">678931</td><td style = \"text-align: left;\">3283116</td></tr><tr><td class = \"rowNumber\" style = \"font-weight: bold; text-align: right;\">2</td><td style = \"text-align: right;\">4</td><td style = \"text-align: left;\">283124</td><td style = \"text-align: right;\">283111</td><td style = \"text-align: left;\">von</td><td style = \"text-align: left;\">Bruno</td><td style = \"text-align: left;\">Isenberg</td><td style = \"text-align: left;\">1258</td><td style = \"font-style: italic; text-align: left;\">missing</td><td style = \"font-style: italic; text-align: left;\">missing</td><td style = \"font-style: italic; text-align: left;\">missing</td><td style = \"font-style: italic; text-align: left;\">missing</td><td style = \"text-align: left;\">1033724122</td><td style = \"text-align: left;\">300114807/</td><td style = \"font-style: italic; text-align: left;\">missing</td><td style = \"font-style: italic; text-align: left;\">missing</td><td style = \"font-style: italic; text-align: left;\">missing</td><td style = \"text-align: right;\">1251</td><td style = \"text-align: right;\">1258</td><td style = \"text-align: right;\">289623</td><td style = \"text-align: left;\">066-00809-001</td><td style = \"text-align: left;\">online</td><td style = \"text-align: left;\">283124</td><td style = \"text-align: right;\">681031</td><td style = \"text-align: left;\">300114807/</td></tr></tbody></table></div>"
      ],
      "text/latex": [
       "\\begin{tabular}{r|ccccccccc}\n",
       "\t& authority\\_id & id\\_person\\_gso & item\\_id & namenspraefix & vorname & familienname & sterbedatum & geburtsdatum & \\\\\n",
       "\t\\hline\n",
       "\t& Int64 & String & Int32 & String? & String? & String? & String? & String? & \\\\\n",
       "\t\\hline\n",
       "\t1 & 4 & 325149 & 331572 & von & Joseph Christian & Hohenlohe-Bartenstein & 1817 & 1740 & $\\dots$ \\\\\n",
       "\t2 & 4 & 283124 & 283111 & von & Bruno & Isenberg & 1258 & \\emph{missing} & $\\dots$ \\\\\n",
       "\\end{tabular}\n"
      ],
      "text/plain": [
       "\u001b[1m2×24 DataFrame\u001b[0m\n",
       "\u001b[1m Row \u001b[0m│\u001b[1m authority_id \u001b[0m\u001b[1m id_person_gso \u001b[0m\u001b[1m item_id \u001b[0m\u001b[1m namenspraefix \u001b[0m\u001b[1m vorname          \u001b[0m\u001b[1m familienname          \u001b[0m\u001b[1m sterbedatum \u001b[0m\u001b[1m gebu\u001b[0m ⋯\n",
       "     │\u001b[90m Int64        \u001b[0m\u001b[90m String        \u001b[0m\u001b[90m Int32   \u001b[0m\u001b[90m String?       \u001b[0m\u001b[90m String?          \u001b[0m\u001b[90m String?               \u001b[0m\u001b[90m String?     \u001b[0m\u001b[90m Stri\u001b[0m ⋯\n",
       "─────┼──────────────────────────────────────────────────────────────────────────────────────────────────────────────────\n",
       "   1 │            4  325149          331572  von            Joseph Christian  Hohenlohe-Bartenstein  1817         1740 ⋯\n",
       "   2 │            4  283124          283111  von            Bruno             Isenberg               1258        \u001b[90m miss\u001b[0m\n",
       "\u001b[36m                                                                                                      17 columns omitted\u001b[0m"
      ]
     },
     "execution_count": 158,
     "metadata": {},
     "output_type": "execute_result"
    }
   ],
   "source": [
    "df_p_auth"
   ]
  },
  {
   "cell_type": "code",
   "execution_count": 159,
   "metadata": {},
   "outputs": [
    {
     "data": {
      "text/plain": [
       "3-element Vector{Pair{Symbol, Symbol}}:\n",
       "           :id => :item_id\n",
       " :authority_id => :authority_id\n",
       "        :value => :value"
      ]
     },
     "execution_count": 159,
     "metadata": {},
     "output_type": "execute_result"
    }
   ],
   "source": [
    "columns = [\n",
    "    :id => :item_id,\n",
    "    :authority_id => :authority_id,\n",
    "    :value => :value,\n",
    "]"
   ]
  },
  {
   "cell_type": "code",
   "execution_count": 160,
   "metadata": {},
   "outputs": [
    {
     "name": "stderr",
     "output_type": "stream",
     "text": [
      "┌ Info: Rows inserted: 2\n",
      "└ @ WiagDataSetup C:\\Users\\georg\\Documents\\projekte\\WiagDataSetup.jl\\src\\WiagDataSetup.jl:1216\n"
     ]
    },
    {
     "data": {
      "text/plain": [
       "2"
      ]
     },
     "execution_count": 160,
     "metadata": {},
     "output_type": "execute_result"
    }
   ],
   "source": [
    "table_name = \"id_external\"\n",
    "Wds.filltable!(\"id_external\", select(df_p_auth, columns))"
   ]
  },
  {
   "cell_type": "markdown",
   "metadata": {},
   "source": [
    "**GND**"
   ]
  },
  {
   "cell_type": "code",
   "execution_count": 161,
   "metadata": {},
   "outputs": [
    {
     "data": {
      "text/plain": [
       "1"
      ]
     },
     "execution_count": 161,
     "metadata": {},
     "output_type": "execute_result"
    }
   ],
   "source": [
    "authority_id = 1 # siehe oben"
   ]
  },
  {
   "cell_type": "code",
   "execution_count": 162,
   "metadata": {},
   "outputs": [],
   "source": [
    "col = :gndnummer\n",
    "df_p_auth = dropmissing(df_cn_idx, col);\n",
    "insertcols!(df_p_auth, 1, :authority_id => authority_id);\n",
    "transform!(df_p_auth, col => :value);"
   ]
  },
  {
   "cell_type": "code",
   "execution_count": 163,
   "metadata": {},
   "outputs": [
    {
     "data": {
      "text/plain": [
       "(1335, 24)"
      ]
     },
     "execution_count": 163,
     "metadata": {},
     "output_type": "execute_result"
    }
   ],
   "source": [
    "size(df_p_auth)"
   ]
  },
  {
   "cell_type": "code",
   "execution_count": 164,
   "metadata": {},
   "outputs": [
    {
     "name": "stderr",
     "output_type": "stream",
     "text": [
      "┌ Info: Rows inserted: 1335\n",
      "└ @ WiagDataSetup C:\\Users\\georg\\Documents\\projekte\\WiagDataSetup.jl\\src\\WiagDataSetup.jl:1216\n"
     ]
    },
    {
     "data": {
      "text/plain": [
       "1335"
      ]
     },
     "execution_count": 164,
     "metadata": {},
     "output_type": "execute_result"
    }
   ],
   "source": [
    "table_name = \"id_external\"\n",
    "Wds.filltable!(\"id_external\", select(df_p_auth, columns))"
   ]
  },
  {
   "cell_type": "markdown",
   "metadata": {},
   "source": [
    "**GSN**"
   ]
  },
  {
   "cell_type": "code",
   "execution_count": 165,
   "metadata": {},
   "outputs": [
    {
     "data": {
      "text/plain": [
       "200"
      ]
     },
     "execution_count": 165,
     "metadata": {},
     "output_type": "execute_result"
    }
   ],
   "source": [
    "authority_id = 200 # siehe oben"
   ]
  },
  {
   "cell_type": "code",
   "execution_count": 166,
   "metadata": {},
   "outputs": [],
   "source": [
    "col = :gsn\n",
    "df_p_auth = dropmissing(df_cn_idx, col);\n",
    "insertcols!(df_p_auth, 1, :authority_id => authority_id);\n",
    "transform!(df_p_auth, col => :value);"
   ]
  },
  {
   "cell_type": "code",
   "execution_count": 167,
   "metadata": {},
   "outputs": [
    {
     "name": "stderr",
     "output_type": "stream",
     "text": [
      "┌ Info: Rows inserted: 9347\n",
      "└ @ WiagDataSetup C:\\Users\\georg\\Documents\\projekte\\WiagDataSetup.jl\\src\\WiagDataSetup.jl:1216\n"
     ]
    },
    {
     "data": {
      "text/plain": [
       "9347"
      ]
     },
     "execution_count": 167,
     "metadata": {},
     "output_type": "execute_result"
    }
   ],
   "source": [
    "table_name = \"id_external\"\n",
    "Wds.filltable!(\"id_external\", select(df_p_auth, columns))"
   ]
  },
  {
   "cell_type": "markdown",
   "metadata": {},
   "source": [
    "### Namensvarianten eintragen"
   ]
  },
  {
   "cell_type": "code",
   "execution_count": 168,
   "metadata": {},
   "outputs": [],
   "source": [
    "using MySQL, DataFrames"
   ]
  },
  {
   "cell_type": "code",
   "execution_count": 169,
   "metadata": {},
   "outputs": [],
   "source": [
    "col = :familiennamenvarianten;\n",
    "df_fnv = dropmissing(df_cn_idx, col);"
   ]
  },
  {
   "cell_type": "code",
   "execution_count": 170,
   "metadata": {},
   "outputs": [
    {
     "data": {
      "text/plain": [
       "(1965, 22)"
      ]
     },
     "execution_count": 170,
     "metadata": {},
     "output_type": "execute_result"
    }
   ],
   "source": [
    "size(df_fnv)"
   ]
  },
  {
   "cell_type": "code",
   "execution_count": 171,
   "metadata": {},
   "outputs": [],
   "source": [
    "df_exp = Wds.expand_column(df_fnv, col, delim = \",\");"
   ]
  },
  {
   "cell_type": "code",
   "execution_count": 172,
   "metadata": {},
   "outputs": [
    {
     "data": {
      "text/plain": [
       "(2944, 22)"
      ]
     },
     "execution_count": 172,
     "metadata": {},
     "output_type": "execute_result"
    }
   ],
   "source": [
    "size(df_exp)"
   ]
  },
  {
   "cell_type": "code",
   "execution_count": 173,
   "metadata": {
    "scrolled": true
   },
   "outputs": [
    {
     "data": {
      "text/html": [
       "<div><div style = \"float: left;\"><span>8×3 DataFrame</span></div><div style = \"clear: both;\"></div></div><div class = \"data-frame\" style = \"overflow-x: scroll;\"><table class = \"data-frame\" style = \"margin-bottom: 6px;\"><thead><tr class = \"header\"><th class = \"rowNumber\" style = \"font-weight: bold; text-align: right;\">Row</th><th style = \"text-align: left;\">vorname</th><th style = \"text-align: left;\">familienname</th><th style = \"text-align: left;\">familiennamenvarianten</th></tr><tr class = \"subheader headerLastRow\"><th class = \"rowNumber\" style = \"font-weight: bold; text-align: right;\"></th><th title = \"Union{Missing, String}\" style = \"text-align: left;\">String?</th><th title = \"Union{Missing, String}\" style = \"text-align: left;\">String?</th><th title = \"String\" style = \"text-align: left;\">String</th></tr></thead><tbody><tr><td class = \"rowNumber\" style = \"font-weight: bold; text-align: right;\">1</td><td style = \"text-align: left;\">Liudolf</td><td style = \"text-align: left;\">Werther</td><td style = \"text-align: left;\">Insula</td></tr><tr><td class = \"rowNumber\" style = \"font-weight: bold; text-align: right;\">2</td><td style = \"text-align: left;\">Levin</td><td style = \"text-align: left;\">Doring</td><td style = \"text-align: left;\">Doringer</td></tr><tr><td class = \"rowNumber\" style = \"font-weight: bold; text-align: right;\">3</td><td style = \"text-align: left;\">Leonhard</td><td style = \"text-align: left;\">Kalben</td><td style = \"text-align: left;\">Calven</td></tr><tr><td class = \"rowNumber\" style = \"font-weight: bold; text-align: right;\">4</td><td style = \"text-align: left;\">Leonhard</td><td style = \"text-align: left;\">Kalben</td><td style = \"text-align: left;\">Calvis</td></tr><tr><td class = \"rowNumber\" style = \"font-weight: bold; text-align: right;\">5</td><td style = \"text-align: left;\">Konrad</td><td style = \"text-align: left;\">Wellen</td><td style = \"text-align: left;\">Welle</td></tr><tr><td class = \"rowNumber\" style = \"font-weight: bold; text-align: right;\">6</td><td style = \"text-align: left;\">Konrad</td><td style = \"text-align: left;\">Oppen</td><td style = \"text-align: left;\">Opin</td></tr><tr><td class = \"rowNumber\" style = \"font-weight: bold; text-align: right;\">7</td><td style = \"text-align: left;\">Konrad</td><td style = \"text-align: left;\">Oppen</td><td style = \"text-align: left;\">Uppin</td></tr><tr><td class = \"rowNumber\" style = \"font-weight: bold; text-align: right;\">8</td><td style = \"text-align: left;\">Konrad</td><td style = \"text-align: left;\">Oppen</td><td style = \"text-align: left;\">Upin</td></tr></tbody></table></div>"
      ],
      "text/latex": [
       "\\begin{tabular}{r|ccc}\n",
       "\t& vorname & familienname & familiennamenvarianten\\\\\n",
       "\t\\hline\n",
       "\t& String? & String? & String\\\\\n",
       "\t\\hline\n",
       "\t1 & Liudolf & Werther & Insula \\\\\n",
       "\t2 & Levin & Doring & Doringer \\\\\n",
       "\t3 & Leonhard & Kalben & Calven \\\\\n",
       "\t4 & Leonhard & Kalben & Calvis \\\\\n",
       "\t5 & Konrad & Wellen & Welle \\\\\n",
       "\t6 & Konrad & Oppen & Opin \\\\\n",
       "\t7 & Konrad & Oppen & Uppin \\\\\n",
       "\t8 & Konrad & Oppen & Upin \\\\\n",
       "\\end{tabular}\n"
      ],
      "text/plain": [
       "\u001b[1m8×3 DataFrame\u001b[0m\n",
       "\u001b[1m Row \u001b[0m│\u001b[1m vorname  \u001b[0m\u001b[1m familienname \u001b[0m\u001b[1m familiennamenvarianten \u001b[0m\n",
       "     │\u001b[90m String?  \u001b[0m\u001b[90m String?      \u001b[0m\u001b[90m String                 \u001b[0m\n",
       "─────┼────────────────────────────────────────────────\n",
       "   1 │ Liudolf   Werther       Insula\n",
       "   2 │ Levin     Doring        Doringer\n",
       "   3 │ Leonhard  Kalben        Calven\n",
       "   4 │ Leonhard  Kalben        Calvis\n",
       "   5 │ Konrad    Wellen        Welle\n",
       "   6 │ Konrad    Oppen         Opin\n",
       "   7 │ Konrad    Oppen         Uppin\n",
       "   8 │ Konrad    Oppen         Upin"
      ]
     },
     "execution_count": 173,
     "metadata": {},
     "output_type": "execute_result"
    }
   ],
   "source": [
    "df_exp[150:157, [:vorname, :familienname, col]]"
   ]
  },
  {
   "cell_type": "markdown",
   "metadata": {},
   "source": [
    "Spalte `lang` hat den Default-Wert 'de'."
   ]
  },
  {
   "cell_type": "code",
   "execution_count": 174,
   "metadata": {},
   "outputs": [
    {
     "data": {
      "text/plain": [
       "2-element Vector{Pair{Symbol, Symbol}}:\n",
       "                     :id => :person_id\n",
       " :familiennamenvarianten => :name"
      ]
     },
     "execution_count": 174,
     "metadata": {},
     "output_type": "execute_result"
    }
   ],
   "source": [
    "columns = [\n",
    "    :id => :person_id,\n",
    "    :familiennamenvarianten => :name,\n",
    "]"
   ]
  },
  {
   "cell_type": "markdown",
   "metadata": {},
   "source": [
    "Einträge löschen (Korrekturen, Daten-Update)"
   ]
  },
  {
   "cell_type": "code",
   "execution_count": 175,
   "metadata": {},
   "outputs": [
    {
     "data": {
      "text/plain": [
       "6"
      ]
     },
     "execution_count": 175,
     "metadata": {},
     "output_type": "execute_result"
    }
   ],
   "source": [
    "item_type_id"
   ]
  },
  {
   "cell_type": "code",
   "execution_count": 176,
   "metadata": {},
   "outputs": [
    {
     "data": {
      "text/plain": [
       "MySQL.TextCursor{true}(MySQL.Connection(host=\"127.0.0.1\", user=\"georg\", port=\"3306\", db=\"wiag_in\"), \"DELETE FROM familyname_variant\\nWHERE person_id IN\\n(SELECT id FROM item WHERE item_type_id = 6)\", 0, -1, 0, MySQL.API.MYSQL_RES(Ptr{Nothing} @0x0000000000000000), Symbol[], Type[], Dict{Symbol, Int64}(), 0, 1, false)"
      ]
     },
     "execution_count": 176,
     "metadata": {},
     "output_type": "execute_result"
    }
   ],
   "source": [
    "table_name = \"familyname_variant\";\n",
    "sql = \"DELETE FROM $(table_name)\n",
    "WHERE person_id IN\n",
    "(SELECT id FROM item WHERE item_type_id = $(item_type_id))\";\n",
    "DBInterface.execute(Wds.dbwiag, sql)"
   ]
  },
  {
   "cell_type": "code",
   "execution_count": 177,
   "metadata": {},
   "outputs": [
    {
     "name": "stderr",
     "output_type": "stream",
     "text": [
      "┌ Info: Rows inserted: 2944\n",
      "└ @ WiagDataSetup C:\\Users\\georg\\Documents\\projekte\\WiagDataSetup.jl\\src\\WiagDataSetup.jl:1216\n"
     ]
    },
    {
     "data": {
      "text/plain": [
       "2944"
      ]
     },
     "execution_count": 177,
     "metadata": {},
     "output_type": "execute_result"
    }
   ],
   "source": [
    "table_name = \"familyname_variant\"\n",
    "Wds.filltable!(table_name, select(df_exp, columns))"
   ]
  },
  {
   "cell_type": "markdown",
   "metadata": {},
   "source": [
    "Vornamen"
   ]
  },
  {
   "cell_type": "code",
   "execution_count": 178,
   "metadata": {},
   "outputs": [],
   "source": [
    "col = :vornamenvarianten;\n",
    "df_gnv = dropmissing(df_cn_idx, col);"
   ]
  },
  {
   "cell_type": "code",
   "execution_count": 179,
   "metadata": {},
   "outputs": [
    {
     "data": {
      "text/plain": [
       "(1246, 22)"
      ]
     },
     "execution_count": 179,
     "metadata": {},
     "output_type": "execute_result"
    }
   ],
   "source": [
    "size(df_gnv)"
   ]
  },
  {
   "cell_type": "code",
   "execution_count": 180,
   "metadata": {},
   "outputs": [],
   "source": [
    "df_exp = Wds.expand_column(df_gnv, col, delim = r\", *\");"
   ]
  },
  {
   "cell_type": "code",
   "execution_count": 181,
   "metadata": {},
   "outputs": [
    {
     "data": {
      "text/plain": [
       "(1640, 22)"
      ]
     },
     "execution_count": 181,
     "metadata": {},
     "output_type": "execute_result"
    }
   ],
   "source": [
    "size(df_exp)"
   ]
  },
  {
   "cell_type": "code",
   "execution_count": 182,
   "metadata": {},
   "outputs": [
    {
     "data": {
      "text/html": [
       "<div><div style = \"float: left;\"><span>8×3 DataFrame</span></div><div style = \"clear: both;\"></div></div><div class = \"data-frame\" style = \"overflow-x: scroll;\"><table class = \"data-frame\" style = \"margin-bottom: 6px;\"><thead><tr class = \"header\"><th class = \"rowNumber\" style = \"font-weight: bold; text-align: right;\">Row</th><th style = \"text-align: left;\">vorname</th><th style = \"text-align: left;\">familienname</th><th style = \"text-align: left;\">vornamenvarianten</th></tr><tr class = \"subheader headerLastRow\"><th class = \"rowNumber\" style = \"font-weight: bold; text-align: right;\"></th><th title = \"Union{Missing, String}\" style = \"text-align: left;\">String?</th><th title = \"Union{Missing, String}\" style = \"text-align: left;\">String?</th><th title = \"String\" style = \"text-align: left;\">String</th></tr></thead><tbody><tr><td class = \"rowNumber\" style = \"font-weight: bold; text-align: right;\">1</td><td style = \"text-align: left;\">Heinrich</td><td style = \"text-align: left;\">Bork</td><td style = \"text-align: left;\">Heinricus</td></tr><tr><td class = \"rowNumber\" style = \"font-weight: bold; text-align: right;\">2</td><td style = \"text-align: left;\">Heinrich</td><td style = \"font-style: italic; text-align: left;\">missing</td><td style = \"text-align: left;\">Hinricus</td></tr><tr><td class = \"rowNumber\" style = \"font-weight: bold; text-align: right;\">3</td><td style = \"text-align: left;\">Heinrich</td><td style = \"font-style: italic; text-align: left;\">missing</td><td style = \"text-align: left;\">Heinricus</td></tr><tr><td class = \"rowNumber\" style = \"font-weight: bold; text-align: right;\">4</td><td style = \"text-align: left;\">Heinrich</td><td style = \"font-style: italic; text-align: left;\">missing</td><td style = \"text-align: left;\">Heinrik</td></tr><tr><td class = \"rowNumber\" style = \"font-weight: bold; text-align: right;\">5</td><td style = \"text-align: left;\">Hermannus</td><td style = \"text-align: left;\">Mettinge</td><td style = \"text-align: left;\">Hermann</td></tr><tr><td class = \"rowNumber\" style = \"font-weight: bold; text-align: right;\">6</td><td style = \"text-align: left;\">Hermann</td><td style = \"text-align: left;\">Hövel</td><td style = \"text-align: left;\">Hermannus</td></tr><tr><td class = \"rowNumber\" style = \"font-weight: bold; text-align: right;\">7</td><td style = \"text-align: left;\">Hermann</td><td style = \"text-align: left;\">Hövel</td><td style = \"text-align: left;\">Herimannus</td></tr><tr><td class = \"rowNumber\" style = \"font-weight: bold; text-align: right;\">8</td><td style = \"text-align: left;\">Hermann</td><td style = \"text-align: left;\">Bevern</td><td style = \"text-align: left;\">Herimannus</td></tr></tbody></table></div>"
      ],
      "text/latex": [
       "\\begin{tabular}{r|ccc}\n",
       "\t& vorname & familienname & vornamenvarianten\\\\\n",
       "\t\\hline\n",
       "\t& String? & String? & String\\\\\n",
       "\t\\hline\n",
       "\t1 & Heinrich & Bork & Heinricus \\\\\n",
       "\t2 & Heinrich & \\emph{missing} & Hinricus \\\\\n",
       "\t3 & Heinrich & \\emph{missing} & Heinricus \\\\\n",
       "\t4 & Heinrich & \\emph{missing} & Heinrik \\\\\n",
       "\t5 & Hermannus & Mettinge & Hermann \\\\\n",
       "\t6 & Hermann & Hövel & Hermannus \\\\\n",
       "\t7 & Hermann & Hövel & Herimannus \\\\\n",
       "\t8 & Hermann & Bevern & Herimannus \\\\\n",
       "\\end{tabular}\n"
      ],
      "text/plain": [
       "\u001b[1m8×3 DataFrame\u001b[0m\n",
       "\u001b[1m Row \u001b[0m│\u001b[1m vorname   \u001b[0m\u001b[1m familienname \u001b[0m\u001b[1m vornamenvarianten \u001b[0m\n",
       "     │\u001b[90m String?   \u001b[0m\u001b[90m String?      \u001b[0m\u001b[90m String            \u001b[0m\n",
       "─────┼────────────────────────────────────────────\n",
       "   1 │ Heinrich   Bork          Heinricus\n",
       "   2 │ Heinrich  \u001b[90m missing      \u001b[0m Hinricus\n",
       "   3 │ Heinrich  \u001b[90m missing      \u001b[0m Heinricus\n",
       "   4 │ Heinrich  \u001b[90m missing      \u001b[0m Heinrik\n",
       "   5 │ Hermannus  Mettinge      Hermann\n",
       "   6 │ Hermann    Hövel         Hermannus\n",
       "   7 │ Hermann    Hövel         Herimannus\n",
       "   8 │ Hermann    Bevern        Herimannus"
      ]
     },
     "execution_count": 182,
     "metadata": {},
     "output_type": "execute_result"
    }
   ],
   "source": [
    "df_exp[150:157, [:vorname, :familienname, col]]"
   ]
  },
  {
   "cell_type": "code",
   "execution_count": 183,
   "metadata": {},
   "outputs": [
    {
     "data": {
      "text/plain": [
       "2-element Vector{Pair{Symbol, Symbol}}:\n",
       "                :id => :person_id\n",
       " :vornamenvarianten => :name"
      ]
     },
     "execution_count": 183,
     "metadata": {},
     "output_type": "execute_result"
    }
   ],
   "source": [
    "columns = [\n",
    "    :id => :person_id,\n",
    "    col => :name,\n",
    "]"
   ]
  },
  {
   "cell_type": "markdown",
   "metadata": {},
   "source": [
    "Einträge löschen (Korrekturen, Daten-Update)"
   ]
  },
  {
   "cell_type": "code",
   "execution_count": 184,
   "metadata": {},
   "outputs": [
    {
     "data": {
      "text/plain": [
       "6"
      ]
     },
     "execution_count": 184,
     "metadata": {},
     "output_type": "execute_result"
    }
   ],
   "source": [
    "item_type_id"
   ]
  },
  {
   "cell_type": "code",
   "execution_count": 185,
   "metadata": {},
   "outputs": [
    {
     "data": {
      "text/plain": [
       "MySQL.TextCursor{true}(MySQL.Connection(host=\"127.0.0.1\", user=\"georg\", port=\"3306\", db=\"wiag_in\"), \"DELETE FROM givenname_variant\\nWHERE person_id IN\\n(SELECT id FROM item WHERE item_type_id = 6)\", 0, -1, 0, MySQL.API.MYSQL_RES(Ptr{Nothing} @0x0000000000000000), Symbol[], Type[], Dict{Symbol, Int64}(), 0, 1, false)"
      ]
     },
     "execution_count": 185,
     "metadata": {},
     "output_type": "execute_result"
    }
   ],
   "source": [
    "table_name = \"givenname_variant\";\n",
    "sql = \"DELETE FROM $(table_name)\n",
    "WHERE person_id IN\n",
    "(SELECT id FROM item WHERE item_type_id = $(item_type_id))\";\n",
    "DBInterface.execute(Wds.dbwiag, sql)"
   ]
  },
  {
   "cell_type": "code",
   "execution_count": 186,
   "metadata": {},
   "outputs": [
    {
     "name": "stderr",
     "output_type": "stream",
     "text": [
      "┌ Info: Rows inserted: 1640\n",
      "└ @ WiagDataSetup C:\\Users\\georg\\Documents\\projekte\\WiagDataSetup.jl\\src\\WiagDataSetup.jl:1216\n"
     ]
    },
    {
     "data": {
      "text/plain": [
       "1640"
      ]
     },
     "execution_count": 186,
     "metadata": {},
     "output_type": "execute_result"
    }
   ],
   "source": [
    "table_name = \"givenname_variant\"\n",
    "Wds.filltable!(table_name, select(df_exp, columns))"
   ]
  },
  {
   "cell_type": "markdown",
   "metadata": {},
   "source": [
    "### Suchvarianten eintragen (name_lookup)"
   ]
  },
  {
   "cell_type": "code",
   "execution_count": 187,
   "metadata": {},
   "outputs": [
    {
     "data": {
      "text/plain": [
       "Dict{Symbol, Symbol} with 5 entries:\n",
       "  :vorname                => :givenname\n",
       "  :namenspraefix          => :prefix_name\n",
       "  :familiennamenvarianten => :familyname_variant\n",
       "  :familienname           => :familyname\n",
       "  :vornamenvarianten      => :givenname_variant"
      ]
     },
     "execution_count": 187,
     "metadata": {},
     "output_type": "execute_result"
    }
   ],
   "source": [
    "columns = [    \n",
    "    :vorname => :givenname,\n",
    "    :vornamenvarianten => :givenname_variant,\n",
    "    :namenspraefix => :prefix_name,\n",
    "    :familienname => :familyname,\n",
    "    :familiennamenvarianten => :familyname_variant,\n",
    "];\n",
    "lookup_columns = Dict(columns)"
   ]
  },
  {
   "cell_type": "code",
   "execution_count": 188,
   "metadata": {},
   "outputs": [],
   "source": [
    "rename!(df_cn_idx, lookup_columns);"
   ]
  },
  {
   "cell_type": "code",
   "execution_count": 189,
   "metadata": {
    "scrolled": true
   },
   "outputs": [],
   "source": [
    "df_nl = Wds.create_name_lookup(df_cn_idx); # schaut gut aus"
   ]
  },
  {
   "cell_type": "code",
   "execution_count": 190,
   "metadata": {},
   "outputs": [
    {
     "data": {
      "text/plain": [
       "3-element Vector{String}:\n",
       " \"person_id\"\n",
       " \"gn_fn\"\n",
       " \"gn_prefix_fn\""
      ]
     },
     "execution_count": 190,
     "metadata": {},
     "output_type": "execute_result"
    }
   ],
   "source": [
    "names(df_nl)"
   ]
  },
  {
   "cell_type": "code",
   "execution_count": 191,
   "metadata": {},
   "outputs": [
    {
     "data": {
      "text/plain": [
       "(9347,)"
      ]
     },
     "execution_count": 191,
     "metadata": {},
     "output_type": "execute_result"
    }
   ],
   "source": [
    "size(unique(df_nl.person_id))"
   ]
  },
  {
   "cell_type": "code",
   "execution_count": 192,
   "metadata": {},
   "outputs": [],
   "source": [
    "df_nl_empty = filter(:gn_fn => ismissing, df_nl);"
   ]
  },
  {
   "cell_type": "code",
   "execution_count": 193,
   "metadata": {},
   "outputs": [
    {
     "data": {
      "text/plain": [
       "(0, 3)"
      ]
     },
     "execution_count": 193,
     "metadata": {},
     "output_type": "execute_result"
    }
   ],
   "source": [
    "size(df_nl_empty)"
   ]
  },
  {
   "cell_type": "code",
   "execution_count": 194,
   "metadata": {},
   "outputs": [
    {
     "data": {
      "text/html": [
       "<div><div style = \"float: left;\"><span>12×3 DataFrame</span></div><div style = \"clear: both;\"></div></div><div class = \"data-frame\" style = \"overflow-x: scroll;\"><table class = \"data-frame\" style = \"margin-bottom: 6px;\"><thead><tr class = \"header\"><th class = \"rowNumber\" style = \"font-weight: bold; text-align: right;\">Row</th><th style = \"text-align: left;\">person_id</th><th style = \"text-align: left;\">gn_fn</th><th style = \"text-align: left;\">gn_prefix_fn</th></tr><tr class = \"subheader headerLastRow\"><th class = \"rowNumber\" style = \"font-weight: bold; text-align: right;\"></th><th title = \"Int64\" style = \"text-align: left;\">Int64</th><th title = \"Union{Missing, String}\" style = \"text-align: left;\">String?</th><th title = \"Union{Missing, String}\" style = \"text-align: left;\">String?</th></tr></thead><tbody><tr><td class = \"rowNumber\" style = \"font-weight: bold; text-align: right;\">1</td><td style = \"text-align: right;\">673786</td><td style = \"text-align: left;\">Rudolf Raesfeld</td><td style = \"text-align: left;\">Rudolf von Raesfeld</td></tr><tr><td class = \"rowNumber\" style = \"font-weight: bold; text-align: right;\">2</td><td style = \"text-align: right;\">673787</td><td style = \"text-align: left;\">Rotger Raesfeld</td><td style = \"text-align: left;\">Rotger von Raesfeld</td></tr><tr><td class = \"rowNumber\" style = \"font-weight: bold; text-align: right;\">3</td><td style = \"text-align: right;\">673788</td><td style = \"text-align: left;\">Justinus Raesfeld</td><td style = \"text-align: left;\">Justinus von Raesfeld</td></tr><tr><td class = \"rowNumber\" style = \"font-weight: bold; text-align: right;\">4</td><td style = \"text-align: right;\">673789</td><td style = \"text-align: left;\">Johann Raesfeld</td><td style = \"text-align: left;\">Johann von Raesfeld</td></tr><tr><td class = \"rowNumber\" style = \"font-weight: bold; text-align: right;\">5</td><td style = \"text-align: right;\">673789</td><td style = \"text-align: left;\">Johann Wischel Raesfeld</td><td style = \"text-align: left;\">Johann Wischel von Raesfeld</td></tr><tr><td class = \"rowNumber\" style = \"font-weight: bold; text-align: right;\">6</td><td style = \"text-align: right;\">673789</td><td style = \"text-align: left;\">Johann Raesfeld</td><td style = \"text-align: left;\">Johann von Raesfeld</td></tr><tr><td class = \"rowNumber\" style = \"font-weight: bold; text-align: right;\">7</td><td style = \"text-align: right;\">673790</td><td style = \"text-align: left;\">Johann Franz Anton Raesfeld</td><td style = \"text-align: left;\">Johann Franz Anton von Raesfeld</td></tr><tr><td class = \"rowNumber\" style = \"font-weight: bold; text-align: right;\">8</td><td style = \"text-align: right;\">673790</td><td style = \"text-align: left;\">Johann Raesfeld</td><td style = \"text-align: left;\">Johann von Raesfeld</td></tr><tr><td class = \"rowNumber\" style = \"font-weight: bold; text-align: right;\">9</td><td style = \"text-align: right;\">673791</td><td style = \"text-align: left;\">Goswin Raesfeld</td><td style = \"text-align: left;\">Goswin von Raesfeld</td></tr><tr><td class = \"rowNumber\" style = \"font-weight: bold; text-align: right;\">10</td><td style = \"text-align: right;\">673792</td><td style = \"text-align: left;\">Goswin Raesfeld</td><td style = \"text-align: left;\">Goswin von Raesfeld</td></tr><tr><td class = \"rowNumber\" style = \"font-weight: bold; text-align: right;\">11</td><td style = \"text-align: right;\">673793</td><td style = \"text-align: left;\">Radlef</td><td style = \"font-style: italic; text-align: left;\">missing</td></tr><tr><td class = \"rowNumber\" style = \"font-weight: bold; text-align: right;\">12</td><td style = \"text-align: right;\">673794</td><td style = \"text-align: left;\">Rabodo</td><td style = \"font-style: italic; text-align: left;\">missing</td></tr></tbody></table></div>"
      ],
      "text/latex": [
       "\\begin{tabular}{r|ccc}\n",
       "\t& person\\_id & gn\\_fn & gn\\_prefix\\_fn\\\\\n",
       "\t\\hline\n",
       "\t& Int64 & String? & String?\\\\\n",
       "\t\\hline\n",
       "\t1 & 673786 & Rudolf Raesfeld & Rudolf von Raesfeld \\\\\n",
       "\t2 & 673787 & Rotger Raesfeld & Rotger von Raesfeld \\\\\n",
       "\t3 & 673788 & Justinus Raesfeld & Justinus von Raesfeld \\\\\n",
       "\t4 & 673789 & Johann Raesfeld & Johann von Raesfeld \\\\\n",
       "\t5 & 673789 & Johann Wischel Raesfeld & Johann Wischel von Raesfeld \\\\\n",
       "\t6 & 673789 & Johann Raesfeld & Johann von Raesfeld \\\\\n",
       "\t7 & 673790 & Johann Franz Anton Raesfeld & Johann Franz Anton von Raesfeld \\\\\n",
       "\t8 & 673790 & Johann Raesfeld & Johann von Raesfeld \\\\\n",
       "\t9 & 673791 & Goswin Raesfeld & Goswin von Raesfeld \\\\\n",
       "\t10 & 673792 & Goswin Raesfeld & Goswin von Raesfeld \\\\\n",
       "\t11 & 673793 & Radlef & \\emph{missing} \\\\\n",
       "\t12 & 673794 & Rabodo & \\emph{missing} \\\\\n",
       "\\end{tabular}\n"
      ],
      "text/plain": [
       "\u001b[1m12×3 DataFrame\u001b[0m\n",
       "\u001b[1m Row \u001b[0m│\u001b[1m person_id \u001b[0m\u001b[1m gn_fn                       \u001b[0m\u001b[1m gn_prefix_fn                    \u001b[0m\n",
       "     │\u001b[90m Int64     \u001b[0m\u001b[90m String?                     \u001b[0m\u001b[90m String?                         \u001b[0m\n",
       "─────┼─────────────────────────────────────────────────────────────────────────\n",
       "   1 │    673786  Rudolf Raesfeld              Rudolf von Raesfeld\n",
       "   2 │    673787  Rotger Raesfeld              Rotger von Raesfeld\n",
       "   3 │    673788  Justinus Raesfeld            Justinus von Raesfeld\n",
       "   4 │    673789  Johann Raesfeld              Johann von Raesfeld\n",
       "   5 │    673789  Johann Wischel Raesfeld      Johann Wischel von Raesfeld\n",
       "   6 │    673789  Johann Raesfeld              Johann von Raesfeld\n",
       "   7 │    673790  Johann Franz Anton Raesfeld  Johann Franz Anton von Raesfeld\n",
       "   8 │    673790  Johann Raesfeld              Johann von Raesfeld\n",
       "   9 │    673791  Goswin Raesfeld              Goswin von Raesfeld\n",
       "  10 │    673792  Goswin Raesfeld              Goswin von Raesfeld\n",
       "  11 │    673793  Radlef                      \u001b[90m missing                         \u001b[0m\n",
       "  12 │    673794  Rabodo                      \u001b[90m missing                         \u001b[0m"
      ]
     },
     "execution_count": 194,
     "metadata": {},
     "output_type": "execute_result"
    }
   ],
   "source": [
    "df_nl[2301:2312, :]"
   ]
  },
  {
   "cell_type": "markdown",
   "metadata": {},
   "source": [
    "Entferne Einträge für diese Art von Items"
   ]
  },
  {
   "cell_type": "code",
   "execution_count": 195,
   "metadata": {},
   "outputs": [
    {
     "data": {
      "text/plain": [
       "MySQL.TextCursor{true}(MySQL.Connection(host=\"127.0.0.1\", user=\"georg\", port=\"3306\", db=\"wiag_in\"), \"DELETE FROM name_lookup \\nWHERE person_id IN (SELECT id FROM item WHERE item_type_id = 6)\", 0, -1, 0, MySQL.API.MYSQL_RES(Ptr{Nothing} @0x0000000000000000), Symbol[], Type[], Dict{Symbol, Int64}(), 0, 1, false)"
      ]
     },
     "execution_count": 195,
     "metadata": {},
     "output_type": "execute_result"
    }
   ],
   "source": [
    "table_name = \"name_lookup\"\n",
    "sql = \"DELETE FROM $(table_name) \n",
    "WHERE person_id IN (SELECT id FROM item WHERE item_type_id = $(item_type_id))\";\n",
    "DBInterface.execute(Wds.dbwiag, sql)"
   ]
  },
  {
   "cell_type": "code",
   "execution_count": 196,
   "metadata": {},
   "outputs": [
    {
     "data": {
      "text/plain": [
       "3-element Vector{String}:\n",
       " \"person_id\"\n",
       " \"gn_fn\"\n",
       " \"gn_prefix_fn\""
      ]
     },
     "execution_count": 196,
     "metadata": {},
     "output_type": "execute_result"
    }
   ],
   "source": [
    "names(df_nl)"
   ]
  },
  {
   "cell_type": "code",
   "execution_count": 197,
   "metadata": {},
   "outputs": [
    {
     "name": "stderr",
     "output_type": "stream",
     "text": [
      "┌ Info: 10000\n",
      "└ @ WiagDataSetup C:\\Users\\georg\\Documents\\projekte\\WiagDataSetup.jl\\src\\WiagDataSetup.jl:1193\n",
      "┌ Info: Rows inserted: 17311\n",
      "└ @ WiagDataSetup C:\\Users\\georg\\Documents\\projekte\\WiagDataSetup.jl\\src\\WiagDataSetup.jl:1216\n"
     ]
    },
    {
     "data": {
      "text/plain": [
       "17311"
      ]
     },
     "execution_count": 197,
     "metadata": {},
     "output_type": "execute_result"
    }
   ],
   "source": [
    "table_name = \"name_lookup\"\n",
    "Wds.filltable!(table_name, df_nl)"
   ]
  },
  {
   "cell_type": "markdown",
   "metadata": {},
   "source": [
    "## Bezug zu den anderen Quellen\n",
    "Siehe **Variante** unten  \n",
    "Zuerst Update der Domherrendatenbank durchführen"
   ]
  },
  {
   "cell_type": "markdown",
   "metadata": {},
   "source": [
    "GS-EP und DH-EP: alle;  \n",
    "GS-DH ohne GS-EP  \n",
    "DH-DH ohne DH-EP  \n",
    "GS-GS ohne GS-DH ohne GS-EP  \n",
    "schließliche EP-EP (sofern EP als Ziel vorkommt)"
   ]
  },
  {
   "cell_type": "code",
   "execution_count": null,
   "metadata": {},
   "outputs": [],
   "source": [
    "df_cn_lp = DataFrame(person_id = Int[], person_id_canon = Int[])"
   ]
  },
  {
   "cell_type": "markdown",
   "metadata": {},
   "source": [
    "GS - EP"
   ]
  },
  {
   "cell_type": "code",
   "execution_count": null,
   "metadata": {},
   "outputs": [],
   "source": [
    "authority_id = 200; # GSN\n",
    "item_type_ep = 4; # Bischof\n",
    "item_type_gs = 6; # Domherr GS\n",
    "sql = \"SELECT gs_gsn.id as person_id, ep_gsn.id as person_id_canon FROM\n",
    "(SELECT i.id, ext.value as id_gsn\n",
    "FROM item as i \n",
    "JOIN id_external AS ext ON i.id = ext.item_id\n",
    "WHERE i.is_online \n",
    "AND i.item_type_id = $(item_type_gs)\n",
    "AND ext.authority_id = $(authority_id)) AS gs_gsn\n",
    "JOIN (SELECT i.id, ext.value as id_gsn\n",
    "FROM item as i \n",
    "JOIN id_external AS ext ON i.id = ext.item_id\n",
    "WHERE i.is_online \n",
    "AND i.item_type_id = $(item_type_ep)\n",
    "AND ext.authority_id = $(authority_id)) AS ep_gsn \n",
    "ON ep_gsn.id_gsn = gs_gsn.id_gsn\"\n",
    "df_gs_ep = Wds.sql_df(sql);"
   ]
  },
  {
   "cell_type": "code",
   "execution_count": null,
   "metadata": {},
   "outputs": [],
   "source": [
    "size(df_gs_ep)"
   ]
  },
  {
   "cell_type": "code",
   "execution_count": null,
   "metadata": {},
   "outputs": [],
   "source": [
    "df_gs_ep[530:535, :]"
   ]
  },
  {
   "cell_type": "code",
   "execution_count": null,
   "metadata": {},
   "outputs": [],
   "source": [
    "append!(df_cn_lp, df_gs_ep);"
   ]
  },
  {
   "cell_type": "markdown",
   "metadata": {},
   "source": [
    "DH - EP"
   ]
  },
  {
   "cell_type": "code",
   "execution_count": null,
   "metadata": {},
   "outputs": [],
   "source": [
    "authority_id = 5; # WIAG\n",
    "item_type_ep = 4; # Bischof\n",
    "item_type_dh = 5; # Domherr\n",
    "sql = \"SELECT dh.id AS person_id, ep.id AS person_id_canon\n",
    "FROM (SELECT i.id, ext_dh.value AS id_ep_public\n",
    "FROM item as i \n",
    "JOIN id_external as ext_dh ON i.id = ext_dh.item_id\n",
    "WHERE ext_dh.authority_id = $(authority_id)\n",
    "AND i.item_type_id = $(item_type_dh)\n",
    "AND i.is_online) AS dh\n",
    "JOIN (SELECT i.id, i.id_public\n",
    "FROM item AS i\n",
    "WHERE i.item_type_id = $(item_type_ep)) AS ep\n",
    "ON ep.id_public = dh.id_ep_public\";\n",
    "df_dh_ep = Wds.sql_df(sql);"
   ]
  },
  {
   "cell_type": "code",
   "execution_count": null,
   "metadata": {},
   "outputs": [],
   "source": [
    "size(df_dh_ep)"
   ]
  },
  {
   "cell_type": "code",
   "execution_count": null,
   "metadata": {},
   "outputs": [],
   "source": [
    "df_dh_ep[50:57, :]"
   ]
  },
  {
   "cell_type": "code",
   "execution_count": null,
   "metadata": {},
   "outputs": [],
   "source": [
    "append!(df_cn_lp, df_dh_ep);"
   ]
  },
  {
   "cell_type": "markdown",
   "metadata": {},
   "source": [
    "GS - DH ohne GS - EP (nur Neuzugänge)"
   ]
  },
  {
   "cell_type": "code",
   "execution_count": null,
   "metadata": {},
   "outputs": [],
   "source": [
    "authority_id = 200; # GSN\n",
    "item_type_dh = 5; # Domherr\n",
    "item_type_gs = 6; # Domherr GS\n",
    "sql = \"SELECT gs_gsn.id as person_id, dh_gsn.id as person_id_canon FROM\n",
    "(SELECT i.id, ext.value as id_gsn\n",
    "FROM item as i \n",
    "JOIN id_external AS ext ON i.id = ext.item_id\n",
    "WHERE i.is_online \n",
    "AND i.item_type_id = $(item_type_gs)\n",
    "AND ext.authority_id = $(authority_id)) AS gs_gsn\n",
    "JOIN (SELECT i.id, ext.value as id_gsn\n",
    "FROM item as i \n",
    "JOIN id_external AS ext ON i.id = ext.item_id\n",
    "WHERE i.is_online \n",
    "AND i.item_type_id = $(item_type_dh)\n",
    "AND ext.authority_id = $(authority_id)) AS dh_gsn \n",
    "ON dh_gsn.id_gsn = gs_gsn.id_gsn\"\n",
    "df_gs_dh = Wds.sql_df(sql);"
   ]
  },
  {
   "cell_type": "code",
   "execution_count": null,
   "metadata": {},
   "outputs": [],
   "source": [
    "size(df_gs_dh)"
   ]
  },
  {
   "cell_type": "code",
   "execution_count": null,
   "metadata": {},
   "outputs": [],
   "source": [
    "in_person_id(id) = id in df_cn_lp.person_id"
   ]
  },
  {
   "cell_type": "code",
   "execution_count": null,
   "metadata": {},
   "outputs": [],
   "source": [
    "df_gs_dh = subset(df_gs_dh, :person_id => ByRow(!in_person_id));"
   ]
  },
  {
   "cell_type": "code",
   "execution_count": null,
   "metadata": {},
   "outputs": [],
   "source": [
    "size(df_gs_dh)"
   ]
  },
  {
   "cell_type": "code",
   "execution_count": null,
   "metadata": {},
   "outputs": [],
   "source": [
    "df_gs_dh[250:255, :]"
   ]
  },
  {
   "cell_type": "code",
   "execution_count": null,
   "metadata": {},
   "outputs": [],
   "source": [
    "append!(df_cn_lp, df_gs_dh);"
   ]
  },
  {
   "cell_type": "markdown",
   "metadata": {},
   "source": [
    "DH - DH und GS - GS ohne DH - EP ohne GS - DH ohne GS - EP: nur Neuzugänge"
   ]
  },
  {
   "cell_type": "code",
   "execution_count": null,
   "metadata": {},
   "outputs": [],
   "source": [
    "table_name = \"item\";\n",
    "item_type_dh = 5;\n",
    "item_type_gs = 6;\n",
    "sql = \"SELECT id as person_id, id as person_id_canon \n",
    "FROM $(table_name) WHERE item_type_id in ($(item_type_dh), $(item_type_gs)) AND is_online\";\n",
    "df_cn_rx = Wds.sql_df(sql);"
   ]
  },
  {
   "cell_type": "code",
   "execution_count": null,
   "metadata": {},
   "outputs": [],
   "source": [
    "size(df_cn_rx)"
   ]
  },
  {
   "cell_type": "code",
   "execution_count": null,
   "metadata": {},
   "outputs": [],
   "source": [
    "df_cn_rx = subset(df_cn_rx, :person_id => ByRow(!in_person_id));"
   ]
  },
  {
   "cell_type": "code",
   "execution_count": null,
   "metadata": {},
   "outputs": [],
   "source": [
    "size(df_cn_rx)"
   ]
  },
  {
   "cell_type": "code",
   "execution_count": null,
   "metadata": {},
   "outputs": [],
   "source": [
    "append!(df_cn_lp, df_cn_rx);"
   ]
  },
  {
   "cell_type": "code",
   "execution_count": null,
   "metadata": {},
   "outputs": [],
   "source": [
    "size(df_cn_lp)"
   ]
  },
  {
   "cell_type": "markdown",
   "metadata": {},
   "source": [
    "EP - EP, sofern sie als Ziel vorkommen"
   ]
  },
  {
   "cell_type": "code",
   "execution_count": null,
   "metadata": {},
   "outputs": [],
   "source": [
    "table_name = \"item\";\n",
    "item_type_ep = 4;\n",
    "sql = \"SELECT id FROM $(table_name) WHERE item_type_id = $(item_type_ep)\"\n",
    "df_ids_ep = Wds.sql_df(sql);"
   ]
  },
  {
   "cell_type": "code",
   "execution_count": null,
   "metadata": {},
   "outputs": [],
   "source": [
    "ids_ep_lp = intersect(df_ids_ep.id, df_cn_lp.person_id_canon);"
   ]
  },
  {
   "cell_type": "code",
   "execution_count": null,
   "metadata": {},
   "outputs": [],
   "source": [
    "size(ids_ep_lp)"
   ]
  },
  {
   "cell_type": "code",
   "execution_count": null,
   "metadata": {},
   "outputs": [],
   "source": [
    "df_ep_ep = DataFrame(person_id = ids_ep_lp, person_id_canon = ids_ep_lp);"
   ]
  },
  {
   "cell_type": "code",
   "execution_count": null,
   "metadata": {},
   "outputs": [],
   "source": [
    "append!(df_cn_lp, df_ep_ep);"
   ]
  },
  {
   "cell_type": "code",
   "execution_count": null,
   "metadata": {},
   "outputs": [],
   "source": [
    "size(df_cn_lp)"
   ]
  },
  {
   "cell_type": "code",
   "execution_count": null,
   "metadata": {},
   "outputs": [],
   "source": [
    "table_name = \"canon_lookup\";\n",
    "Wds.filltable!(table_name, df_cn_lp, clear_table = true)"
   ]
  },
  {
   "cell_type": "markdown",
   "metadata": {},
   "source": [
    "### Bezug zu anderen Quellen (2)\n",
    "Neue Struktur von `canon_lookup`: Ein Datensatz pro Domherr mit den Feldern\n",
    "\n",
    "`person_id_name`: ID der Person für die Namensdaten (Bischof > Domherr > Domherr GS)  \n",
    "`person_id_role`: ID der Person für Amtsdaten\n",
    "`prio_role`: Priorisierung der Amtsdaten (Domherr > Domherr GS > Bischof)  \n",
    "\n",
    "`person_id_role` ist eindeutig. Für jeden Wert von `person_id_name` gibt es immer auch einen Eintrag, wo `person_id_name` und `person_id_role` übereinstimmen."
   ]
  },
  {
   "cell_type": "markdown",
   "metadata": {},
   "source": [
    "Domherrendatenbank"
   ]
  },
  {
   "cell_type": "markdown",
   "metadata": {},
   "source": [
    "IDs der Domherren aus der Domherrendatenbank und die Verweise auf Bischöfe und Domherren aus der Personendatenbank"
   ]
  },
  {
   "cell_type": "code",
   "execution_count": 198,
   "metadata": {},
   "outputs": [],
   "source": [
    "table_name = \"item\";\n",
    "item_type_domherr = 5;\n",
    "sql = \"SELECT i.id as dh, e1.value AS dh_gsn, e2.value AS dh_episc_id\n",
    "FROM $(table_name) AS i\n",
    "LEFT JOIN id_external AS e1 ON e1.item_id = i.id AND e1.authority_id = 200\n",
    "LEFT JOIN id_external AS e2 ON e2.item_id = i.id AND e2.authority_id = 5\n",
    "WHERE i.item_type_id = $(item_type_domherr) AND i.is_online\";\n",
    "df_dh = Wds.sql_df(sql);"
   ]
  },
  {
   "cell_type": "code",
   "execution_count": 199,
   "metadata": {},
   "outputs": [
    {
     "data": {
      "text/plain": [
       "5664"
      ]
     },
     "execution_count": 199,
     "metadata": {},
     "output_type": "execute_result"
    }
   ],
   "source": [
    "size(df_dh, 1)"
   ]
  },
  {
   "cell_type": "code",
   "execution_count": 200,
   "metadata": {},
   "outputs": [
    {
     "data": {
      "text/plain": [
       "3-element Vector{String}:\n",
       " \"dh\"\n",
       " \"dh_gsn\"\n",
       " \"dh_episc_id\""
      ]
     },
     "execution_count": 200,
     "metadata": {},
     "output_type": "execute_result"
    }
   ],
   "source": [
    "names(df_dh)"
   ]
  },
  {
   "cell_type": "markdown",
   "metadata": {},
   "source": [
    "*2022-04-28* Suche Verweise auf den gleichen Domherrn GS. Mitteilung an die Redaktion siehe oben."
   ]
  },
  {
   "cell_type": "code",
   "execution_count": 201,
   "metadata": {},
   "outputs": [],
   "source": [
    "v_dh_gsn = sort(collect(skipmissing(df_dh.dh_gsn))); v_dh_gsn_u = unique(v_dh_gsn);"
   ]
  },
  {
   "cell_type": "code",
   "execution_count": 202,
   "metadata": {},
   "outputs": [
    {
     "data": {
      "text/plain": [
       "(1163, 1163)"
      ]
     },
     "execution_count": 202,
     "metadata": {},
     "output_type": "execute_result"
    }
   ],
   "source": [
    "length(v_dh_gsn), length(v_dh_gsn_u)"
   ]
  },
  {
   "cell_type": "code",
   "execution_count": 203,
   "metadata": {},
   "outputs": [
    {
     "data": {
      "text/html": [
       "<div><div style = \"float: left;\"><span>0×3 DataFrame</span></div><div style = \"clear: both;\"></div></div><div class = \"data-frame\" style = \"overflow-x: scroll;\"><table class = \"data-frame\" style = \"margin-bottom: 6px;\"></table></div>"
      ],
      "text/latex": [
       "\\begin{tabular}{r|ccc}\n",
       "\t& dh & dh\\_gsn & dh\\_episc\\_id\\\\\n",
       "\t\\hline\n",
       "\t& Int32 & String? & String?\\\\\n",
       "\t\\hline\n",
       "\\end{tabular}\n"
      ],
      "text/plain": [
       "\u001b[1m0×3 DataFrame\u001b[0m"
      ]
     },
     "execution_count": 203,
     "metadata": {},
     "output_type": "execute_result"
    }
   ],
   "source": [
    "find_by_id(id) = id in (200040, 200193);\n",
    "df_info = subset(df_dh, :dh => ByRow(find_by_id))"
   ]
  },
  {
   "cell_type": "markdown",
   "metadata": {},
   "source": [
    "Alle Bischöfe"
   ]
  },
  {
   "cell_type": "code",
   "execution_count": 204,
   "metadata": {},
   "outputs": [],
   "source": [
    "table_name = \"item\";\n",
    "item_type_bishop = 4;\n",
    "sql = \"SELECT i.id as ep, i.id_public, e1.value AS ep_gsn\n",
    "FROM $(table_name) AS i\n",
    "LEFT JOIN id_external AS e1 ON e1.item_id = i.id AND e1.authority_id = 200\n",
    "WHERE i.item_type_id = $(item_type_bishop) AND i.is_online\";\n",
    "df_ep = Wds.sql_df(sql);"
   ]
  },
  {
   "cell_type": "code",
   "execution_count": 205,
   "metadata": {},
   "outputs": [
    {
     "data": {
      "text/html": [
       "<div><div style = \"float: left;\"><span>5×3 DataFrame</span></div><div style = \"clear: both;\"></div></div><div class = \"data-frame\" style = \"overflow-x: scroll;\"><table class = \"data-frame\" style = \"margin-bottom: 6px;\"><thead><tr class = \"header\"><th class = \"rowNumber\" style = \"font-weight: bold; text-align: right;\">Row</th><th style = \"text-align: left;\">ep</th><th style = \"text-align: left;\">id_public</th><th style = \"text-align: left;\">ep_gsn</th></tr><tr class = \"subheader headerLastRow\"><th class = \"rowNumber\" style = \"font-weight: bold; text-align: right;\"></th><th title = \"Int32\" style = \"text-align: left;\">Int32</th><th title = \"Union{Missing, String}\" style = \"text-align: left;\">String?</th><th title = \"Union{Missing, String}\" style = \"text-align: left;\">String?</th></tr></thead><tbody><tr><td class = \"rowNumber\" style = \"font-weight: bold; text-align: right;\">1</td><td style = \"text-align: right;\">558527</td><td style = \"text-align: left;\">WIAG-Pers-EPISCGatz-21107-001</td><td style = \"font-style: italic; text-align: left;\">missing</td></tr><tr><td class = \"rowNumber\" style = \"font-weight: bold; text-align: right;\">2</td><td style = \"text-align: right;\">558528</td><td style = \"text-align: left;\">WIAG-Pers-EPISCGatz-21106-001</td><td style = \"font-style: italic; text-align: left;\">missing</td></tr><tr><td class = \"rowNumber\" style = \"font-weight: bold; text-align: right;\">3</td><td style = \"text-align: right;\">558529</td><td style = \"text-align: left;\">WIAG-Pers-EPISCGatz-21105-001</td><td style = \"font-style: italic; text-align: left;\">missing</td></tr><tr><td class = \"rowNumber\" style = \"font-weight: bold; text-align: right;\">4</td><td style = \"text-align: right;\">558530</td><td style = \"text-align: left;\">WIAG-Pers-EPISCGatz-21103-001</td><td style = \"font-style: italic; text-align: left;\">missing</td></tr><tr><td class = \"rowNumber\" style = \"font-weight: bold; text-align: right;\">5</td><td style = \"text-align: right;\">558531</td><td style = \"text-align: left;\">WIAG-Pers-EPISCGatz-21102-001</td><td style = \"font-style: italic; text-align: left;\">missing</td></tr></tbody></table></div>"
      ],
      "text/latex": [
       "\\begin{tabular}{r|ccc}\n",
       "\t& ep & id\\_public & ep\\_gsn\\\\\n",
       "\t\\hline\n",
       "\t& Int32 & String? & String?\\\\\n",
       "\t\\hline\n",
       "\t1 & 558527 & WIAG-Pers-EPISCGatz-21107-001 & \\emph{missing} \\\\\n",
       "\t2 & 558528 & WIAG-Pers-EPISCGatz-21106-001 & \\emph{missing} \\\\\n",
       "\t3 & 558529 & WIAG-Pers-EPISCGatz-21105-001 & \\emph{missing} \\\\\n",
       "\t4 & 558530 & WIAG-Pers-EPISCGatz-21103-001 & \\emph{missing} \\\\\n",
       "\t5 & 558531 & WIAG-Pers-EPISCGatz-21102-001 & \\emph{missing} \\\\\n",
       "\\end{tabular}\n"
      ],
      "text/plain": [
       "\u001b[1m5×3 DataFrame\u001b[0m\n",
       "\u001b[1m Row \u001b[0m│\u001b[1m ep     \u001b[0m\u001b[1m id_public                     \u001b[0m\u001b[1m ep_gsn  \u001b[0m\n",
       "     │\u001b[90m Int32  \u001b[0m\u001b[90m String?                       \u001b[0m\u001b[90m String? \u001b[0m\n",
       "─────┼────────────────────────────────────────────────\n",
       "   1 │ 558527  WIAG-Pers-EPISCGatz-21107-001 \u001b[90m missing \u001b[0m\n",
       "   2 │ 558528  WIAG-Pers-EPISCGatz-21106-001 \u001b[90m missing \u001b[0m\n",
       "   3 │ 558529  WIAG-Pers-EPISCGatz-21105-001 \u001b[90m missing \u001b[0m\n",
       "   4 │ 558530  WIAG-Pers-EPISCGatz-21103-001 \u001b[90m missing \u001b[0m\n",
       "   5 │ 558531  WIAG-Pers-EPISCGatz-21102-001 \u001b[90m missing \u001b[0m"
      ]
     },
     "execution_count": 205,
     "metadata": {},
     "output_type": "execute_result"
    }
   ],
   "source": [
    "df_ep[11:15, :]"
   ]
  },
  {
   "cell_type": "markdown",
   "metadata": {},
   "source": [
    "DH - EP"
   ]
  },
  {
   "cell_type": "code",
   "execution_count": 206,
   "metadata": {},
   "outputs": [],
   "source": [
    "df_dh_ep = leftjoin(df_dh, \n",
    "    select(df_ep, [:ep => :ep1, :id_public => :id_public, :ep_gsn => :ep_gsn]), \n",
    "    on = :dh_episc_id => :id_public, \n",
    "    matchmissing = :notequal);"
   ]
  },
  {
   "cell_type": "code",
   "execution_count": 207,
   "metadata": {},
   "outputs": [
    {
     "data": {
      "text/plain": [
       "5664"
      ]
     },
     "execution_count": 207,
     "metadata": {},
     "output_type": "execute_result"
    }
   ],
   "source": [
    "size(df_dh_ep, 1)"
   ]
  },
  {
   "cell_type": "code",
   "execution_count": 208,
   "metadata": {},
   "outputs": [
    {
     "data": {
      "text/plain": [
       "5-element Vector{String}:\n",
       " \"dh\"\n",
       " \"dh_gsn\"\n",
       " \"dh_episc_id\"\n",
       " \"ep1\"\n",
       " \"ep_gsn\""
      ]
     },
     "execution_count": 208,
     "metadata": {},
     "output_type": "execute_result"
    }
   ],
   "source": [
    "names(df_dh_ep)"
   ]
  },
  {
   "cell_type": "code",
   "execution_count": 209,
   "metadata": {},
   "outputs": [
    {
     "data": {
      "text/plain": [
       "(419, 419)"
      ]
     },
     "execution_count": 209,
     "metadata": {},
     "output_type": "execute_result"
    }
   ],
   "source": [
    "count(!ismissing, df_dh_ep.dh_episc_id), count(!ismissing, df_dh_ep.ep1)"
   ]
  },
  {
   "cell_type": "markdown",
   "metadata": {},
   "source": [
    "begin debug  \n",
    "*2022-05-12* fixed  \n",
    "*2022-11-09* fixed"
   ]
  },
  {
   "cell_type": "code",
   "execution_count": 219,
   "metadata": {},
   "outputs": [],
   "source": [
    "is_is_not(a, b) = !ismissing(a) && ismissing(b);"
   ]
  },
  {
   "cell_type": "code",
   "execution_count": 220,
   "metadata": {},
   "outputs": [
    {
     "data": {
      "text/html": [
       "<div><div style = \"float: left;\"><span>1×5 DataFrame</span></div><div style = \"clear: both;\"></div></div><div class = \"data-frame\" style = \"overflow-x: scroll;\"><table class = \"data-frame\" style = \"margin-bottom: 6px;\"><thead><tr class = \"header\"><th class = \"rowNumber\" style = \"font-weight: bold; text-align: right;\">Row</th><th style = \"text-align: left;\">dh</th><th style = \"text-align: left;\">dh_gsn</th><th style = \"text-align: left;\">dh_episc_id</th><th style = \"text-align: left;\">ep1</th><th style = \"text-align: left;\">ep_gsn</th></tr><tr class = \"subheader headerLastRow\"><th class = \"rowNumber\" style = \"font-weight: bold; text-align: right;\"></th><th title = \"Int32\" style = \"text-align: left;\">Int32</th><th title = \"Union{Missing, String}\" style = \"text-align: left;\">String?</th><th title = \"Union{Missing, String}\" style = \"text-align: left;\">String?</th><th title = \"Union{Missing, Int32}\" style = \"text-align: left;\">Int32?</th><th title = \"Union{Missing, String}\" style = \"text-align: left;\">String?</th></tr></thead><tbody><tr><td class = \"rowNumber\" style = \"font-weight: bold; text-align: right;\">1</td><td style = \"text-align: right;\">616390</td><td style = \"text-align: left;\">050-02495-001</td><td style = \"text-align: left;\">https://wiag-vocab.adw-goe.de/id/WIAG-Pers-EPISCGatz-20276-001</td><td style = \"font-style: italic; text-align: right;\">missing</td><td style = \"font-style: italic; text-align: left;\">missing</td></tr></tbody></table></div>"
      ],
      "text/latex": [
       "\\begin{tabular}{r|ccccc}\n",
       "\t& dh & dh\\_gsn & dh\\_episc\\_id & ep1 & ep\\_gsn\\\\\n",
       "\t\\hline\n",
       "\t& Int32 & String? & String? & Int32? & String?\\\\\n",
       "\t\\hline\n",
       "\t1 & 616390 & 050-02495-001 & https://wiag-vocab.adw-goe.de/id/WIAG-Pers-EPISCGatz-20276-001 & \\emph{missing} & \\emph{missing} \\\\\n",
       "\\end{tabular}\n"
      ],
      "text/plain": [
       "\u001b[1m1×5 DataFrame\u001b[0m\n",
       "\u001b[1m Row \u001b[0m│\u001b[1m dh     \u001b[0m\u001b[1m dh_gsn        \u001b[0m\u001b[1m dh_episc_id                       \u001b[0m\u001b[1m ep1     \u001b[0m\u001b[1m ep_gsn  \u001b[0m\n",
       "     │\u001b[90m Int32  \u001b[0m\u001b[90m String?       \u001b[0m\u001b[90m String?                           \u001b[0m\u001b[90m Int32?  \u001b[0m\u001b[90m String? \u001b[0m\n",
       "─────┼────────────────────────────────────────────────────────────────────────────\n",
       "   1 │ 616390  050-02495-001  https://wiag-vocab.adw-goe.de/id… \u001b[90m missing \u001b[0m\u001b[90m missing \u001b[0m"
      ]
     },
     "execution_count": 220,
     "metadata": {},
     "output_type": "execute_result"
    }
   ],
   "source": [
    "subset(df_dh_ep, [:dh_episc_id, :ep1] => ByRow(is_is_not))"
   ]
  },
  {
   "cell_type": "markdown",
   "metadata": {},
   "source": [
    "end debug"
   ]
  },
  {
   "cell_type": "markdown",
   "metadata": {},
   "source": [
    "*2022-04-17* Schließlich werden alle Bischöfe gefunden, nachdem Einträge in `id_external` korrigiert wurden"
   ]
  },
  {
   "cell_type": "markdown",
   "metadata": {},
   "source": [
    "Ergänze `dh_gsn` mit `ep_gsn`.  \n",
    "Das ist nicht mehr nötig. Die GSN werden beim Einlesen der Daten schon ergänzt und in `id_external` eingetragen."
   ]
  },
  {
   "cell_type": "code",
   "execution_count": 210,
   "metadata": {},
   "outputs": [
    {
     "data": {
      "text/plain": [
       "1163"
      ]
     },
     "execution_count": 210,
     "metadata": {},
     "output_type": "execute_result"
    }
   ],
   "source": [
    "count(!ismissing, df_dh_ep.dh_gsn)"
   ]
  },
  {
   "cell_type": "code",
   "execution_count": 211,
   "metadata": {},
   "outputs": [
    {
     "data": {
      "text/plain": [
       "0"
      ]
     },
     "execution_count": 211,
     "metadata": {},
     "output_type": "execute_result"
    }
   ],
   "source": [
    "update = 0\n",
    "for row in eachrow(df_dh_ep)\n",
    "    if ismissing(row[:dh_gsn]) && !ismissing(row[:ep_gsn])\n",
    "        row[:dh_gsn] = row[:ep_gsn]\n",
    "        update += 1\n",
    "    end\n",
    "end\n",
    "update"
   ]
  },
  {
   "cell_type": "code",
   "execution_count": 212,
   "metadata": {},
   "outputs": [
    {
     "data": {
      "text/plain": [
       "1163"
      ]
     },
     "execution_count": 212,
     "metadata": {},
     "output_type": "execute_result"
    }
   ],
   "source": [
    "count(!ismissing, df_dh_ep.dh_gsn)"
   ]
  },
  {
   "cell_type": "markdown",
   "metadata": {},
   "source": [
    "GS  \n",
    "ID und GSN der Domherren aus der Personendatenbank"
   ]
  },
  {
   "cell_type": "code",
   "execution_count": 213,
   "metadata": {},
   "outputs": [],
   "source": [
    "table_name = \"item\";\n",
    "item_type_domherr_gs = 6;\n",
    "sql = \"SELECT i.id as gs, e1.value AS gs_gsn\n",
    "FROM $(table_name) AS i\n",
    "JOIN id_external AS e1 ON e1.item_id = i.id AND e1.authority_id = 200\n",
    "WHERE i.item_type_id = $(item_type_domherr_gs) AND i.is_online\";\n",
    "df_gs = Wds.sql_df(sql);"
   ]
  },
  {
   "cell_type": "code",
   "execution_count": 214,
   "metadata": {},
   "outputs": [
    {
     "data": {
      "text/plain": [
       "\"SELECT i.id as gs, e1.value AS gs_gsn FROM item AS i JOIN id_external AS e1 ON e1.item_id = i.id AND e1.authority_id = 200 WHERE i.item_type_id = 6 AND i.is_online\""
      ]
     },
     "execution_count": 214,
     "metadata": {},
     "output_type": "execute_result"
    }
   ],
   "source": [
    "replace(sql, '\\n' => ' ')"
   ]
  },
  {
   "cell_type": "code",
   "execution_count": 215,
   "metadata": {},
   "outputs": [
    {
     "data": {
      "text/plain": [
       "9347"
      ]
     },
     "execution_count": 215,
     "metadata": {},
     "output_type": "execute_result"
    }
   ],
   "source": [
    "size(df_gs, 1)"
   ]
  },
  {
   "cell_type": "markdown",
   "metadata": {},
   "source": [
    "GS - EP"
   ]
  },
  {
   "cell_type": "code",
   "execution_count": 216,
   "metadata": {},
   "outputs": [],
   "source": [
    "df_gs_ep = leftjoin(df_gs, \n",
    "    select(df_ep, [:ep => :ep2, :ep_gsn => :ep_gsn]),\n",
    "    on = :gs_gsn => :ep_gsn, \n",
    "    matchmissing = :notequal);"
   ]
  },
  {
   "cell_type": "code",
   "execution_count": 217,
   "metadata": {},
   "outputs": [
    {
     "data": {
      "text/plain": [
       "9347"
      ]
     },
     "execution_count": 217,
     "metadata": {},
     "output_type": "execute_result"
    }
   ],
   "source": [
    "size(df_gs_ep, 1)"
   ]
  },
  {
   "cell_type": "code",
   "execution_count": 218,
   "metadata": {},
   "outputs": [
    {
     "data": {
      "text/plain": [
       "(0, 782)"
      ]
     },
     "execution_count": 218,
     "metadata": {},
     "output_type": "execute_result"
    }
   ],
   "source": [
    "count(ismissing, df_gs_ep.gs_gsn), count(!ismissing, df_gs_ep.ep2)"
   ]
  },
  {
   "cell_type": "code",
   "execution_count": 219,
   "metadata": {},
   "outputs": [
    {
     "data": {
      "text/html": [
       "<div><div style = \"float: left;\"><span>5×3 DataFrame</span></div><div style = \"clear: both;\"></div></div><div class = \"data-frame\" style = \"overflow-x: scroll;\"><table class = \"data-frame\" style = \"margin-bottom: 6px;\"><thead><tr class = \"header\"><th class = \"rowNumber\" style = \"font-weight: bold; text-align: right;\">Row</th><th style = \"text-align: left;\">gs</th><th style = \"text-align: left;\">gs_gsn</th><th style = \"text-align: left;\">ep2</th></tr><tr class = \"subheader headerLastRow\"><th class = \"rowNumber\" style = \"font-weight: bold; text-align: right;\"></th><th title = \"Int32\" style = \"text-align: left;\">Int32</th><th title = \"Union{Missing, String}\" style = \"text-align: left;\">String?</th><th title = \"Union{Missing, Int32}\" style = \"text-align: left;\">Int32?</th></tr></thead><tbody><tr><td class = \"rowNumber\" style = \"font-weight: bold; text-align: right;\">1</td><td style = \"text-align: right;\">676821</td><td style = \"text-align: left;\">030-04096-001</td><td style = \"text-align: right;\">560859</td></tr><tr><td class = \"rowNumber\" style = \"font-weight: bold; text-align: right;\">2</td><td style = \"text-align: right;\">676822</td><td style = \"text-align: left;\">030-02017-001</td><td style = \"text-align: right;\">559440</td></tr><tr><td class = \"rowNumber\" style = \"font-weight: bold; text-align: right;\">3</td><td style = \"text-align: right;\">676824</td><td style = \"text-align: left;\">014-00080-001</td><td style = \"text-align: right;\">558943</td></tr><tr><td class = \"rowNumber\" style = \"font-weight: bold; text-align: right;\">4</td><td style = \"text-align: right;\">676827</td><td style = \"text-align: left;\">076-00625-001</td><td style = \"text-align: right;\">560629</td></tr><tr><td class = \"rowNumber\" style = \"font-weight: bold; text-align: right;\">5</td><td style = \"text-align: right;\">676835</td><td style = \"text-align: left;\">077-00339-001</td><td style = \"text-align: right;\">562178</td></tr></tbody></table></div>"
      ],
      "text/latex": [
       "\\begin{tabular}{r|ccc}\n",
       "\t& gs & gs\\_gsn & ep2\\\\\n",
       "\t\\hline\n",
       "\t& Int32 & String? & Int32?\\\\\n",
       "\t\\hline\n",
       "\t1 & 676821 & 030-04096-001 & 560859 \\\\\n",
       "\t2 & 676822 & 030-02017-001 & 559440 \\\\\n",
       "\t3 & 676824 & 014-00080-001 & 558943 \\\\\n",
       "\t4 & 676827 & 076-00625-001 & 560629 \\\\\n",
       "\t5 & 676835 & 077-00339-001 & 562178 \\\\\n",
       "\\end{tabular}\n"
      ],
      "text/plain": [
       "\u001b[1m5×3 DataFrame\u001b[0m\n",
       "\u001b[1m Row \u001b[0m│\u001b[1m gs     \u001b[0m\u001b[1m gs_gsn        \u001b[0m\u001b[1m ep2    \u001b[0m\n",
       "     │\u001b[90m Int32  \u001b[0m\u001b[90m String?       \u001b[0m\u001b[90m Int32? \u001b[0m\n",
       "─────┼───────────────────────────────\n",
       "   1 │ 676821  030-04096-001  560859\n",
       "   2 │ 676822  030-02017-001  559440\n",
       "   3 │ 676824  014-00080-001  558943\n",
       "   4 │ 676827  076-00625-001  560629\n",
       "   5 │ 676835  077-00339-001  562178"
      ]
     },
     "execution_count": 219,
     "metadata": {},
     "output_type": "execute_result"
    }
   ],
   "source": [
    "df_gs_ep[201:205, :]"
   ]
  },
  {
   "cell_type": "markdown",
   "metadata": {},
   "source": [
    "Die Domherren aus GS haben alle eine GSN, daher kann `df_gs_ep` ergänzt werden aus `df_cn_lp`."
   ]
  },
  {
   "cell_type": "code",
   "execution_count": 220,
   "metadata": {},
   "outputs": [
    {
     "data": {
      "text/plain": [
       "3-element Vector{String}:\n",
       " \"gs\"\n",
       " \"gs_gsn\"\n",
       " \"ep2\""
      ]
     },
     "execution_count": 220,
     "metadata": {},
     "output_type": "execute_result"
    }
   ],
   "source": [
    "names(df_gs_ep)"
   ]
  },
  {
   "cell_type": "code",
   "execution_count": 221,
   "metadata": {},
   "outputs": [
    {
     "data": {
      "text/plain": [
       "5-element Vector{String}:\n",
       " \"dh\"\n",
       " \"dh_gsn\"\n",
       " \"dh_episc_id\"\n",
       " \"ep1\"\n",
       " \"ep_gsn\""
      ]
     },
     "execution_count": 221,
     "metadata": {},
     "output_type": "execute_result"
    }
   ],
   "source": [
    "names(df_dh_ep)"
   ]
  },
  {
   "cell_type": "code",
   "execution_count": 222,
   "metadata": {},
   "outputs": [],
   "source": [
    "df_cn_lp = outerjoin(df_dh_ep, \n",
    "    df_gs_ep,\n",
    "    on = :dh_gsn => :gs_gsn, \n",
    "    matchmissing = :equal);"
   ]
  },
  {
   "cell_type": "code",
   "execution_count": 223,
   "metadata": {},
   "outputs": [
    {
     "data": {
      "text/plain": [
       "(13848, 1163, 1163)"
      ]
     },
     "execution_count": 223,
     "metadata": {},
     "output_type": "execute_result"
    }
   ],
   "source": [
    "# gesamt, davon zugeordnet über GSN, Zahl der GSN für Domherren\n",
    "size(df_cn_lp, 1), size(df_dh_ep, 1) + size(df_gs_ep, 1) - size(df_cn_lp, 1), count(!ismissing, df_dh_ep.dh_gsn)"
   ]
  },
  {
   "cell_type": "markdown",
   "metadata": {},
   "source": [
    "Wenn nicht alle Domherren aus der Domherrendatenbank eine Zuordnung unter den Domherren aus der Personendatenbank finden, sind die Domherren aus der Personendatenbank neu einzulesen.  \n",
    "*2022-07-26* `(12013, 739, 742)` Die Differenz wird vorerst toleriert.  \n",
    "*2022-10-15* `(12776, 905, 906)` Eine GSN wurde doppelt verwendet.  \n",
    "*2022-10-19* `(13718, 1100, 1101)` Eine GSN wurde doppelt verwendet.  \n",
    "*2022-11-03* `(13750, 1116, 1117)` Eine GSN wurde doppelt verwendet.  \n",
    "*2022-11-09* `(13780, 1144, 1147)` Zwei GSN wurden doppelt verwendet, wieso ist delta =3 ?  \n",
    "*2022-11-23* `(13848, 1163, 1163)`"
   ]
  },
  {
   "cell_type": "code",
   "execution_count": 224,
   "metadata": {},
   "outputs": [
    {
     "data": {
      "text/html": [
       "<div><div style = \"float: left;\"><span>5×7 DataFrame</span></div><div style = \"clear: both;\"></div></div><div class = \"data-frame\" style = \"overflow-x: scroll;\"><table class = \"data-frame\" style = \"margin-bottom: 6px;\"><thead><tr class = \"header\"><th class = \"rowNumber\" style = \"font-weight: bold; text-align: right;\">Row</th><th style = \"text-align: left;\">dh</th><th style = \"text-align: left;\">dh_gsn</th><th style = \"text-align: left;\">dh_episc_id</th><th style = \"text-align: left;\">ep1</th><th style = \"text-align: left;\">ep_gsn</th><th style = \"text-align: left;\">gs</th><th style = \"text-align: left;\">ep2</th></tr><tr class = \"subheader headerLastRow\"><th class = \"rowNumber\" style = \"font-weight: bold; text-align: right;\"></th><th title = \"Union{Missing, Int32}\" style = \"text-align: left;\">Int32?</th><th title = \"Union{Missing, String}\" style = \"text-align: left;\">String?</th><th title = \"Union{Missing, String}\" style = \"text-align: left;\">String?</th><th title = \"Union{Missing, Int32}\" style = \"text-align: left;\">Int32?</th><th title = \"Union{Missing, String}\" style = \"text-align: left;\">String?</th><th title = \"Union{Missing, Int32}\" style = \"text-align: left;\">Int32?</th><th title = \"Union{Missing, Int32}\" style = \"text-align: left;\">Int32?</th></tr></thead><tbody><tr><td class = \"rowNumber\" style = \"font-weight: bold; text-align: right;\">1</td><td style = \"text-align: right;\">648213</td><td style = \"text-align: left;\">052-01635-001</td><td style = \"text-align: left;\">WIAG-Pers-EPISCGatz-20792-001</td><td style = \"text-align: right;\">563188</td><td style = \"text-align: left;\">052-01635-001</td><td style = \"text-align: right;\">676280</td><td style = \"text-align: right;\">563188</td></tr><tr><td class = \"rowNumber\" style = \"font-weight: bold; text-align: right;\">2</td><td style = \"text-align: right;\">646779</td><td style = \"text-align: left;\">053-01894-001</td><td style = \"text-align: left;\">WIAG-Pers-EPISCGatz-20060-001</td><td style = \"text-align: right;\">561471</td><td style = \"text-align: left;\">053-01894-001</td><td style = \"text-align: right;\">676281</td><td style = \"text-align: right;\">561471</td></tr><tr><td class = \"rowNumber\" style = \"font-weight: bold; text-align: right;\">3</td><td style = \"text-align: right;\">647602</td><td style = \"text-align: left;\">054-00661-001</td><td style = \"text-align: left;\">WIAG-Pers-EPISCGatz-03744-001</td><td style = \"text-align: right;\">560042</td><td style = \"text-align: left;\">054-00661-001</td><td style = \"text-align: right;\">676287</td><td style = \"text-align: right;\">560042</td></tr><tr><td class = \"rowNumber\" style = \"font-weight: bold; text-align: right;\">4</td><td style = \"text-align: right;\">659478</td><td style = \"text-align: left;\">061-01524-001</td><td style = \"text-align: left;\">WIAG-Pers-EPISCGatz-03256-001</td><td style = \"text-align: right;\">560227</td><td style = \"text-align: left;\">061-01524-001</td><td style = \"text-align: right;\">676299</td><td style = \"text-align: right;\">560227</td></tr><tr><td class = \"rowNumber\" style = \"font-weight: bold; text-align: right;\">5</td><td style = \"text-align: right;\">637513</td><td style = \"text-align: left;\">058-02258-001</td><td style = \"text-align: left;\">WIAG-Pers-EPISCGatz-10232-001</td><td style = \"text-align: right;\">561049</td><td style = \"text-align: left;\">058-02258-001</td><td style = \"text-align: right;\">676339</td><td style = \"text-align: right;\">561049</td></tr></tbody></table></div>"
      ],
      "text/latex": [
       "\\begin{tabular}{r|ccccccc}\n",
       "\t& dh & dh\\_gsn & dh\\_episc\\_id & ep1 & ep\\_gsn & gs & ep2\\\\\n",
       "\t\\hline\n",
       "\t& Int32? & String? & String? & Int32? & String? & Int32? & Int32?\\\\\n",
       "\t\\hline\n",
       "\t1 & 648213 & 052-01635-001 & WIAG-Pers-EPISCGatz-20792-001 & 563188 & 052-01635-001 & 676280 & 563188 \\\\\n",
       "\t2 & 646779 & 053-01894-001 & WIAG-Pers-EPISCGatz-20060-001 & 561471 & 053-01894-001 & 676281 & 561471 \\\\\n",
       "\t3 & 647602 & 054-00661-001 & WIAG-Pers-EPISCGatz-03744-001 & 560042 & 054-00661-001 & 676287 & 560042 \\\\\n",
       "\t4 & 659478 & 061-01524-001 & WIAG-Pers-EPISCGatz-03256-001 & 560227 & 061-01524-001 & 676299 & 560227 \\\\\n",
       "\t5 & 637513 & 058-02258-001 & WIAG-Pers-EPISCGatz-10232-001 & 561049 & 058-02258-001 & 676339 & 561049 \\\\\n",
       "\\end{tabular}\n"
      ],
      "text/plain": [
       "\u001b[1m5×7 DataFrame\u001b[0m\n",
       "\u001b[1m Row \u001b[0m│\u001b[1m dh     \u001b[0m\u001b[1m dh_gsn        \u001b[0m\u001b[1m dh_episc_id                   \u001b[0m\u001b[1m ep1    \u001b[0m\u001b[1m ep_gsn        \u001b[0m\u001b[1m gs     \u001b[0m\u001b[1m ep2    \u001b[0m\n",
       "     │\u001b[90m Int32? \u001b[0m\u001b[90m String?       \u001b[0m\u001b[90m String?                       \u001b[0m\u001b[90m Int32? \u001b[0m\u001b[90m String?       \u001b[0m\u001b[90m Int32? \u001b[0m\u001b[90m Int32? \u001b[0m\n",
       "─────┼─────────────────────────────────────────────────────────────────────────────────────────────\n",
       "   1 │ 648213  052-01635-001  WIAG-Pers-EPISCGatz-20792-001  563188  052-01635-001  676280  563188\n",
       "   2 │ 646779  053-01894-001  WIAG-Pers-EPISCGatz-20060-001  561471  053-01894-001  676281  561471\n",
       "   3 │ 647602  054-00661-001  WIAG-Pers-EPISCGatz-03744-001  560042  054-00661-001  676287  560042\n",
       "   4 │ 659478  061-01524-001  WIAG-Pers-EPISCGatz-03256-001  560227  061-01524-001  676299  560227\n",
       "   5 │ 637513  058-02258-001  WIAG-Pers-EPISCGatz-10232-001  561049  058-02258-001  676339  561049"
      ]
     },
     "execution_count": 224,
     "metadata": {},
     "output_type": "execute_result"
    }
   ],
   "source": [
    "df_cn_lp[21:25, :]"
   ]
  },
  {
   "cell_type": "markdown",
   "metadata": {},
   "source": [
    "Führe Verweise auf Bischöfe im Feld `ep` zusammen. Übernimm den Verweis aus der Domherrendatenbank und - falls dieser nicht vorhanden ist - den Verweis aus der Personendatenbank."
   ]
  },
  {
   "cell_type": "code",
   "execution_count": 225,
   "metadata": {},
   "outputs": [],
   "source": [
    "df_cn_lp[!, :ep] .= df_cn_lp.ep1;"
   ]
  },
  {
   "cell_type": "code",
   "execution_count": 226,
   "metadata": {},
   "outputs": [
    {
     "data": {
      "text/plain": [
       "463"
      ]
     },
     "execution_count": 226,
     "metadata": {},
     "output_type": "execute_result"
    }
   ],
   "source": [
    "update = 0\n",
    "for row in eachrow(df_cn_lp)\n",
    "    if ismissing(row[:ep]) && !ismissing(row[:ep2])\n",
    "        row[:ep] = row[:ep2]\n",
    "        update += 1\n",
    "    end\n",
    "end\n",
    "update"
   ]
  },
  {
   "cell_type": "markdown",
   "metadata": {},
   "source": [
    "Bringe die Verweise in eine flache Struktur:  \n",
    "Die Personendaten beziehen sich auf den einen der Einträge Bischof > Domherr > Domherr GS.  \n",
    "Die Ämterdaten werden alle eingetragen, so vorhanden: Domherr > Domherr GS > Bischof."
   ]
  },
  {
   "cell_type": "code",
   "execution_count": 228,
   "metadata": {},
   "outputs": [
    {
     "data": {
      "text/html": [
       "<div><div style = \"float: left;\"><span>0×3 DataFrame</span></div><div style = \"clear: both;\"></div></div><div class = \"data-frame\" style = \"overflow-x: scroll;\"><table class = \"data-frame\" style = \"margin-bottom: 6px;\"></table></div>"
      ],
      "text/latex": [
       "\\begin{tabular}{r|ccc}\n",
       "\t& person\\_id\\_name & person\\_id\\_role & prio\\_role\\\\\n",
       "\t\\hline\n",
       "\t& Int64 & Int64 & Int64\\\\\n",
       "\t\\hline\n",
       "\\end{tabular}\n"
      ],
      "text/plain": [
       "\u001b[1m0×3 DataFrame\u001b[0m"
      ]
     },
     "execution_count": 228,
     "metadata": {},
     "output_type": "execute_result"
    }
   ],
   "source": [
    "df_cn_lp_db = DataFrame(person_id_name = Int[], person_id_role = Int[], prio_role = Int[]);"
   ]
  },
  {
   "cell_type": "code",
   "execution_count": 229,
   "metadata": {},
   "outputs": [],
   "source": [
    "for row in eachrow(df_cn_lp)\n",
    "    prio = 1\n",
    "    if !ismissing(row[:ep])\n",
    "        name = row[:ep]\n",
    "        if !ismissing(row[:dh])\n",
    "            push!(df_cn_lp_db, (name, row[:dh], prio))\n",
    "            prio += 1\n",
    "        end\n",
    "        if !ismissing(row[:gs])\n",
    "            push!(df_cn_lp_db, (name, row[:gs], prio))\n",
    "            prio += 1\n",
    "        end        \n",
    "        push!(df_cn_lp_db, (name, row[:ep], prio))\n",
    "    elseif !ismissing(row[:dh])\n",
    "        prio = 1\n",
    "        name = row[:dh]\n",
    "        push!(df_cn_lp_db, (name, row[:dh], prio))\n",
    "        prio += 1\n",
    "        if !ismissing(row[:gs])\n",
    "            push!(df_cn_lp_db, (name, row[:gs], prio))\n",
    "        end\n",
    "    else\n",
    "        prio = 1\n",
    "        push!(df_cn_lp_db, (row[:gs], row[:gs], prio))\n",
    "    end\n",
    "end        "
   ]
  },
  {
   "cell_type": "code",
   "execution_count": 230,
   "metadata": {},
   "outputs": [
    {
     "data": {
      "text/html": [
       "<div><div style = \"float: left;\"><span>5×3 DataFrame</span></div><div style = \"clear: both;\"></div></div><div class = \"data-frame\" style = \"overflow-x: scroll;\"><table class = \"data-frame\" style = \"margin-bottom: 6px;\"><thead><tr class = \"header\"><th class = \"rowNumber\" style = \"font-weight: bold; text-align: right;\">Row</th><th style = \"text-align: left;\">person_id_name</th><th style = \"text-align: left;\">person_id_role</th><th style = \"text-align: left;\">prio_role</th></tr><tr class = \"subheader headerLastRow\"><th class = \"rowNumber\" style = \"font-weight: bold; text-align: right;\"></th><th title = \"Int64\" style = \"text-align: left;\">Int64</th><th title = \"Int64\" style = \"text-align: left;\">Int64</th><th title = \"Int64\" style = \"text-align: left;\">Int64</th></tr></thead><tbody><tr><td class = \"rowNumber\" style = \"font-weight: bold; text-align: right;\">1</td><td style = \"text-align: right;\">646485</td><td style = \"text-align: right;\">672856</td><td style = \"text-align: right;\">2</td></tr><tr><td class = \"rowNumber\" style = \"font-weight: bold; text-align: right;\">2</td><td style = \"text-align: right;\">646908</td><td style = \"text-align: right;\">646908</td><td style = \"text-align: right;\">1</td></tr><tr><td class = \"rowNumber\" style = \"font-weight: bold; text-align: right;\">3</td><td style = \"text-align: right;\">646908</td><td style = \"text-align: right;\">672960</td><td style = \"text-align: right;\">2</td></tr><tr><td class = \"rowNumber\" style = \"font-weight: bold; text-align: right;\">4</td><td style = \"text-align: right;\">646907</td><td style = \"text-align: right;\">646907</td><td style = \"text-align: right;\">1</td></tr><tr><td class = \"rowNumber\" style = \"font-weight: bold; text-align: right;\">5</td><td style = \"text-align: right;\">646907</td><td style = \"text-align: right;\">672979</td><td style = \"text-align: right;\">2</td></tr></tbody></table></div>"
      ],
      "text/latex": [
       "\\begin{tabular}{r|ccc}\n",
       "\t& person\\_id\\_name & person\\_id\\_role & prio\\_role\\\\\n",
       "\t\\hline\n",
       "\t& Int64 & Int64 & Int64\\\\\n",
       "\t\\hline\n",
       "\t1 & 646485 & 672856 & 2 \\\\\n",
       "\t2 & 646908 & 646908 & 1 \\\\\n",
       "\t3 & 646908 & 672960 & 2 \\\\\n",
       "\t4 & 646907 & 646907 & 1 \\\\\n",
       "\t5 & 646907 & 672979 & 2 \\\\\n",
       "\\end{tabular}\n"
      ],
      "text/plain": [
       "\u001b[1m5×3 DataFrame\u001b[0m\n",
       "\u001b[1m Row \u001b[0m│\u001b[1m person_id_name \u001b[0m\u001b[1m person_id_role \u001b[0m\u001b[1m prio_role \u001b[0m\n",
       "     │\u001b[90m Int64          \u001b[0m\u001b[90m Int64          \u001b[0m\u001b[90m Int64     \u001b[0m\n",
       "─────┼───────────────────────────────────────────\n",
       "   1 │         646485          672856          2\n",
       "   2 │         646908          646908          1\n",
       "   3 │         646908          672960          2\n",
       "   4 │         646907          646907          1\n",
       "   5 │         646907          672979          2"
      ]
     },
     "execution_count": 230,
     "metadata": {},
     "output_type": "execute_result"
    }
   ],
   "source": [
    "df_cn_lp_db[1021:1025, :]"
   ]
  },
  {
   "cell_type": "code",
   "execution_count": 231,
   "metadata": {},
   "outputs": [
    {
     "data": {
      "text/plain": [
       "0"
      ]
     },
     "execution_count": 231,
     "metadata": {},
     "output_type": "execute_result"
    }
   ],
   "source": [
    "count(ismissing, df_cn_lp_db.person_id_name)"
   ]
  },
  {
   "cell_type": "code",
   "execution_count": 232,
   "metadata": {},
   "outputs": [
    {
     "name": "stderr",
     "output_type": "stream",
     "text": [
      "┌ Info: 10000\n",
      "└ @ WiagDataSetup C:\\Users\\georg\\Documents\\projekte\\WiagDataSetup.jl\\src\\WiagDataSetup.jl:1193\n",
      "┌ Info: Rows inserted: 15893\n",
      "└ @ WiagDataSetup C:\\Users\\georg\\Documents\\projekte\\WiagDataSetup.jl\\src\\WiagDataSetup.jl:1216\n"
     ]
    },
    {
     "data": {
      "text/plain": [
       "15893"
      ]
     },
     "execution_count": 232,
     "metadata": {},
     "output_type": "execute_result"
    }
   ],
   "source": [
    "table_name = \"canon_lookup\"\n",
    "Wds.filltable!(table_name, df_cn_lp_db; clear_table = true)"
   ]
  },
  {
   "cell_type": "markdown",
   "metadata": {},
   "source": [
    "Version mit paralleler Struktur für `canon_lookup`  \n",
    "*2022-03-10* vermutlich obsolet"
   ]
  },
  {
   "cell_type": "markdown",
   "metadata": {},
   "source": [
    "`id` ist `dh` oder `gs`"
   ]
  },
  {
   "cell_type": "code",
   "execution_count": null,
   "metadata": {},
   "outputs": [],
   "source": [
    "df_cn_lp_gs[!, :id] = copy(df_cn_lp_gs.dh);"
   ]
  },
  {
   "cell_type": "code",
   "execution_count": null,
   "metadata": {},
   "outputs": [],
   "source": [
    "for row in eachrow(df_cn_lp_gs)\n",
    "    if ismissing(row[:id])\n",
    "        if !ismissing(row[:gs])\n",
    "            row[:id] = row[:gs]\n",
    "        else\n",
    "            @warn \"missing dh and gs\" row\n",
    "        end\n",
    "    end\n",
    "end          "
   ]
  },
  {
   "cell_type": "markdown",
   "metadata": {},
   "source": [
    "`person_id` ist `ep` oder `dh` oder `gs`"
   ]
  },
  {
   "cell_type": "code",
   "execution_count": null,
   "metadata": {},
   "outputs": [],
   "source": [
    "df_cn_lp_gs[!, :person_id] = copy(df_cn_lp_gs.ep);"
   ]
  },
  {
   "cell_type": "code",
   "execution_count": null,
   "metadata": {},
   "outputs": [],
   "source": [
    "for row in eachrow(df_cn_lp_gs)\n",
    "    if ismissing(row[:person_id])\n",
    "        if !ismissing(row[:dh])\n",
    "            row[:person_id] = row[:dh]\n",
    "        elseif !ismissing(row[:gs])\n",
    "            row[:person_id] = row[:gs]\n",
    "        else\n",
    "            @warn \"missing ep and dh and gs\" row\n",
    "        end\n",
    "    end\n",
    "end          "
   ]
  },
  {
   "cell_type": "markdown",
   "metadata": {},
   "source": [
    "Führe die Verweise auf Bischöfe zusammen"
   ]
  },
  {
   "cell_type": "code",
   "execution_count": null,
   "metadata": {},
   "outputs": [],
   "source": [
    "names(df_cn_lp_gs)"
   ]
  },
  {
   "cell_type": "code",
   "execution_count": null,
   "metadata": {},
   "outputs": [],
   "source": [
    "df_cn_lp_gs[!, :ep] = copy(df_cn_lp_gs.ep1);"
   ]
  },
  {
   "cell_type": "code",
   "execution_count": null,
   "metadata": {},
   "outputs": [],
   "source": [
    "for row in eachrow(df_cn_lp_gs)\n",
    "    if !ismissing(row[:ep2])\n",
    "        if !ismissing(row[:ep])\n",
    "            if row[:ep] != row[:ep2]\n",
    "                println(row)\n",
    "            end\n",
    "        else\n",
    "            row[:ep] = row[:ep2]\n",
    "        end\n",
    "    end\n",
    "end               "
   ]
  },
  {
   "cell_type": "markdown",
   "metadata": {},
   "source": [
    "Keine Ausgabe -> Alle Verweise auf Bischöfe stimmen überein"
   ]
  },
  {
   "cell_type": "code",
   "execution_count": null,
   "metadata": {},
   "outputs": [],
   "source": [
    "count(!ismissing, df_cn_lp_gs.ep1), count(!ismissing, df_cn_lp_gs.ep2), count(!ismissing, df_cn_lp_gs.ep)"
   ]
  },
  {
   "cell_type": "markdown",
   "metadata": {},
   "source": [
    "In der Domherrendatenbank wurden alle Verweise recherchiert."
   ]
  },
  {
   "cell_type": "code",
   "execution_count": null,
   "metadata": {},
   "outputs": [],
   "source": [
    "columns = [\n",
    "    :id => :id,\n",
    "    :person_id => :person_id,\n",
    "    :dh => :canon,\n",
    "    :gs => :canon_gs,\n",
    "    :ep => :bishop\n",
    "]"
   ]
  },
  {
   "cell_type": "code",
   "execution_count": null,
   "metadata": {},
   "outputs": [],
   "source": [
    "table_name = \"canon_lookup\"\n",
    "Wds.filltable!(table_name, select(df_cn_lp_gs, columns))"
   ]
  },
  {
   "cell_type": "markdown",
   "metadata": {},
   "source": [
    "### canon_sort\n",
    "*2022-07-26* nicht mehr in Verwendung"
   ]
  },
  {
   "cell_type": "code",
   "execution_count": 43,
   "metadata": {},
   "outputs": [],
   "source": [
    "sql = \"SELECT person_id, role_name, min(name_short) AS domstift_sort\n",
    "FROM person_role AS p\n",
    "JOIN institution AS i ON p.institution_id = i.id\n",
    "JOIN canon_lookup AS c ON c.person_id_role = p.person_id\n",
    "WHERE c.prio_role = 1\n",
    "AND i.item_type_id = 3\n",
    "GROUP BY person_id\";\n",
    "df_sort_i = Wds.sql_df(sql);"
   ]
  },
  {
   "cell_type": "code",
   "execution_count": 44,
   "metadata": {},
   "outputs": [],
   "source": [
    "df_cn_lp_db = leftjoin(df_cn_lp_db, df_sort_i, on = :person_id_role => :person_id);"
   ]
  },
  {
   "cell_type": "code",
   "execution_count": 45,
   "metadata": {},
   "outputs": [
    {
     "data": {
      "text/plain": [
       "(12952, 5)"
      ]
     },
     "execution_count": 45,
     "metadata": {},
     "output_type": "execute_result"
    }
   ],
   "source": [
    "size(df_cn_lp_db)"
   ]
  },
  {
   "cell_type": "code",
   "execution_count": 64,
   "metadata": {},
   "outputs": [],
   "source": [
    "sql = \"SELECT person_id, min(date_sort_key) AS date_sort_key\n",
    "FROM person_role AS p\n",
    "JOIN canon_lookup AS c ON c.person_id_role = p.person_id\n",
    "WHERE c.prio_role = 1\n",
    "GROUP BY person_id\";\n",
    "df_sort_d = Wds.sql_df(sql);"
   ]
  },
  {
   "cell_type": "code",
   "execution_count": 65,
   "metadata": {},
   "outputs": [],
   "source": [
    "df_cn_lp_db = leftjoin(df_cn_lp_db, df_sort_d, on = :person_id_role => :person_id);"
   ]
  },
  {
   "cell_type": "code",
   "execution_count": 66,
   "metadata": {},
   "outputs": [],
   "source": [
    "df_cn_g = groupby(df_cn_lp_db, :person_id_name);"
   ]
  },
  {
   "cell_type": "code",
   "execution_count": 67,
   "metadata": {},
   "outputs": [],
   "source": [
    "df_cn_s = combine(df_cn_g, first);"
   ]
  },
  {
   "cell_type": "code",
   "execution_count": 69,
   "metadata": {},
   "outputs": [
    {
     "data": {
      "text/plain": [
       "(11586, 6)"
      ]
     },
     "execution_count": 69,
     "metadata": {},
     "output_type": "execute_result"
    }
   ],
   "source": [
    "size(df_cn_s)"
   ]
  },
  {
   "cell_type": "code",
   "execution_count": 70,
   "metadata": {},
   "outputs": [
    {
     "data": {
      "text/plain": [
       "3-element Vector{Pair{Symbol, Symbol}}:\n",
       " :person_id_name => :id\n",
       "  :domstift_sort => :domstift_short\n",
       "  :date_sort_key => :date_sort_key"
      ]
     },
     "execution_count": 70,
     "metadata": {},
     "output_type": "execute_result"
    }
   ],
   "source": [
    "columns = [\n",
    "    :person_id_name => :id,\n",
    "    :domstift_sort => :domstift_short,\n",
    "    :date_sort_key => :date_sort_key\n",
    "]"
   ]
  },
  {
   "cell_type": "code",
   "execution_count": 71,
   "metadata": {},
   "outputs": [
    {
     "name": "stderr",
     "output_type": "stream",
     "text": [
      "┌ Info: 10000\n",
      "└ @ WiagDataSetup C:\\Users\\georg\\Documents\\projekte\\WiagDataSetup.jl\\src\\WiagDataSetup.jl:1193\n",
      "┌ Info: Rows inserted: 11586\n",
      "└ @ WiagDataSetup C:\\Users\\georg\\Documents\\projekte\\WiagDataSetup.jl\\src\\WiagDataSetup.jl:1216\n"
     ]
    },
    {
     "data": {
      "text/plain": [
       "11586"
      ]
     },
     "execution_count": 71,
     "metadata": {},
     "output_type": "execute_result"
    }
   ],
   "source": [
    "table_name = \"canon_sort\"\n",
    "Wds.filltable!(table_name, select(df_cn_s, columns); clear_table = true)"
   ]
  },
  {
   "cell_type": "markdown",
   "metadata": {},
   "source": [
    "### Nachtrag person.note_name"
   ]
  },
  {
   "cell_type": "code",
   "execution_count": 244,
   "metadata": {},
   "outputs": [],
   "source": [
    "using DataFrames"
   ]
  },
  {
   "cell_type": "code",
   "execution_count": 233,
   "metadata": {},
   "outputs": [],
   "source": [
    "table_name = gs_db * \".\" * \"persons\";\n",
    "sql = \"SELECT id, vorname, familienname, namenszusatz\n",
    "FROM $(table_name)\n",
    "WHERE namenszusatz IS NOT NULL and namenszusatz <> ''\";"
   ]
  },
  {
   "cell_type": "code",
   "execution_count": 234,
   "metadata": {},
   "outputs": [
    {
     "data": {
      "text/plain": [
       "\"SELECT id, vorname, familienname, namenszusatz FROM gso_in_202211.persons WHERE namenszusatz IS NOT NULL and namenszusatz <> ''\""
      ]
     },
     "execution_count": 234,
     "metadata": {},
     "output_type": "execute_result"
    }
   ],
   "source": [
    "sql_db = join(split(sql, \"\\n\"), ' ')"
   ]
  },
  {
   "cell_type": "code",
   "execution_count": 235,
   "metadata": {},
   "outputs": [],
   "source": [
    "df_p_note_gs = Wds.sql_df(sql);"
   ]
  },
  {
   "cell_type": "code",
   "execution_count": 236,
   "metadata": {},
   "outputs": [],
   "source": [
    "Wds.clean_up!(df_p_note_gs);"
   ]
  },
  {
   "cell_type": "code",
   "execution_count": 237,
   "metadata": {},
   "outputs": [],
   "source": [
    "transform!(df_p_note_gs, :id => ByRow(string) => :id_in_source);"
   ]
  },
  {
   "cell_type": "code",
   "execution_count": 238,
   "metadata": {},
   "outputs": [],
   "source": [
    "table_name = \"item\";\n",
    "sql = \"SELECT id as item_id, id_in_source, item_type_id, id_public\n",
    "FROM $(table_name)\n",
    "WHERE item_type_id = $(item_type_id)\";\n",
    "df_item = Wds.sql_df(sql);"
   ]
  },
  {
   "cell_type": "code",
   "execution_count": 239,
   "metadata": {},
   "outputs": [
    {
     "data": {
      "text/plain": [
       "9347"
      ]
     },
     "execution_count": 239,
     "metadata": {},
     "output_type": "execute_result"
    }
   ],
   "source": [
    "size(df_item, 1)"
   ]
  },
  {
   "cell_type": "code",
   "execution_count": 240,
   "metadata": {},
   "outputs": [],
   "source": [
    "df_p_note = innerjoin(df_p_note_gs, df_item, on = :id_in_source);"
   ]
  },
  {
   "cell_type": "code",
   "execution_count": 241,
   "metadata": {},
   "outputs": [
    {
     "data": {
      "text/plain": [
       "777"
      ]
     },
     "execution_count": 241,
     "metadata": {},
     "output_type": "execute_result"
    }
   ],
   "source": [
    "size(df_p_note, 1)"
   ]
  },
  {
   "cell_type": "markdown",
   "metadata": {},
   "source": [
    "Nur ein Teil der Personen aus GS sind Domherren."
   ]
  },
  {
   "cell_type": "code",
   "execution_count": 242,
   "metadata": {
    "scrolled": true
   },
   "outputs": [
    {
     "data": {
      "text/html": [
       "<div><div style = \"float: left;\"><span>6×6 DataFrame</span></div><div style = \"clear: both;\"></div></div><div class = \"data-frame\" style = \"overflow-x: scroll;\"><table class = \"data-frame\" style = \"margin-bottom: 6px;\"><thead><tr class = \"header\"><th class = \"rowNumber\" style = \"font-weight: bold; text-align: right;\">Row</th><th style = \"text-align: left;\">id</th><th style = \"text-align: left;\">id_in_source</th><th style = \"text-align: left;\">item_id</th><th style = \"text-align: left;\">id_public</th><th style = \"text-align: left;\">vorname</th><th style = \"text-align: left;\">familienname</th></tr><tr class = \"subheader headerLastRow\"><th class = \"rowNumber\" style = \"font-weight: bold; text-align: right;\"></th><th title = \"Int32\" style = \"text-align: left;\">Int32</th><th title = \"String\" style = \"text-align: left;\">String</th><th title = \"Int32\" style = \"text-align: left;\">Int32</th><th title = \"Union{Missing, String}\" style = \"text-align: left;\">String?</th><th title = \"Union{Missing, String}\" style = \"text-align: left;\">String?</th><th title = \"Union{Missing, String}\" style = \"text-align: left;\">String?</th></tr></thead><tbody><tr><td class = \"rowNumber\" style = \"font-weight: bold; text-align: right;\">1</td><td style = \"text-align: right;\">108085</td><td style = \"text-align: left;\">108085</td><td style = \"text-align: right;\">674696</td><td style = \"text-align: left;\">WIAG-Pers-CANON-82904-001</td><td style = \"text-align: left;\">Johannes</td><td style = \"text-align: left;\">Oppermann</td></tr><tr><td class = \"rowNumber\" style = \"font-weight: bold; text-align: right;\">2</td><td style = \"text-align: right;\">108062</td><td style = \"text-align: left;\">108062</td><td style = \"text-align: right;\">674707</td><td style = \"text-align: left;\">WIAG-Pers-CANON-82893-001</td><td style = \"text-align: left;\">Johannes</td><td style = \"text-align: left;\">Liderman</td></tr><tr><td class = \"rowNumber\" style = \"font-weight: bold; text-align: right;\">3</td><td style = \"text-align: right;\">108060</td><td style = \"text-align: left;\">108060</td><td style = \"text-align: right;\">674708</td><td style = \"text-align: left;\">WIAG-Pers-CANON-82892-001</td><td style = \"text-align: left;\">Johannes</td><td style = \"text-align: left;\">Lepper</td></tr><tr><td class = \"rowNumber\" style = \"font-weight: bold; text-align: right;\">4</td><td style = \"text-align: right;\">108059</td><td style = \"text-align: left;\">108059</td><td style = \"text-align: right;\">674709</td><td style = \"text-align: left;\">WIAG-Pers-CANON-82891-001</td><td style = \"text-align: left;\">Johannes</td><td style = \"text-align: left;\">Lepper</td></tr><tr><td class = \"rowNumber\" style = \"font-weight: bold; text-align: right;\">5</td><td style = \"text-align: right;\">108054</td><td style = \"text-align: left;\">108054</td><td style = \"text-align: right;\">674711</td><td style = \"text-align: left;\">WIAG-Pers-CANON-82889-001</td><td style = \"text-align: left;\">Johannes</td><td style = \"text-align: left;\">Jacobi</td></tr><tr><td class = \"rowNumber\" style = \"font-weight: bold; text-align: right;\">6</td><td style = \"text-align: right;\">108157</td><td style = \"text-align: left;\">108157</td><td style = \"text-align: right;\">674721</td><td style = \"text-align: left;\">WIAG-Pers-CANON-82941-001</td><td style = \"text-align: left;\">Johannes</td><td style = \"text-align: left;\">Werne</td></tr></tbody></table></div>"
      ],
      "text/latex": [
       "\\begin{tabular}{r|cccccc}\n",
       "\t& id & id\\_in\\_source & item\\_id & id\\_public & vorname & familienname\\\\\n",
       "\t\\hline\n",
       "\t& Int32 & String & Int32 & String? & String? & String?\\\\\n",
       "\t\\hline\n",
       "\t1 & 108085 & 108085 & 674696 & WIAG-Pers-CANON-82904-001 & Johannes & Oppermann \\\\\n",
       "\t2 & 108062 & 108062 & 674707 & WIAG-Pers-CANON-82893-001 & Johannes & Liderman \\\\\n",
       "\t3 & 108060 & 108060 & 674708 & WIAG-Pers-CANON-82892-001 & Johannes & Lepper \\\\\n",
       "\t4 & 108059 & 108059 & 674709 & WIAG-Pers-CANON-82891-001 & Johannes & Lepper \\\\\n",
       "\t5 & 108054 & 108054 & 674711 & WIAG-Pers-CANON-82889-001 & Johannes & Jacobi \\\\\n",
       "\t6 & 108157 & 108157 & 674721 & WIAG-Pers-CANON-82941-001 & Johannes & Werne \\\\\n",
       "\\end{tabular}\n"
      ],
      "text/plain": [
       "\u001b[1m6×6 DataFrame\u001b[0m\n",
       "\u001b[1m Row \u001b[0m│\u001b[1m id     \u001b[0m\u001b[1m id_in_source \u001b[0m\u001b[1m item_id \u001b[0m\u001b[1m id_public                 \u001b[0m\u001b[1m vorname  \u001b[0m\u001b[1m familienname \u001b[0m\n",
       "     │\u001b[90m Int32  \u001b[0m\u001b[90m String       \u001b[0m\u001b[90m Int32   \u001b[0m\u001b[90m String?                   \u001b[0m\u001b[90m String?  \u001b[0m\u001b[90m String?      \u001b[0m\n",
       "─────┼──────────────────────────────────────────────────────────────────────────────────\n",
       "   1 │ 108085  108085         674696  WIAG-Pers-CANON-82904-001  Johannes  Oppermann\n",
       "   2 │ 108062  108062         674707  WIAG-Pers-CANON-82893-001  Johannes  Liderman\n",
       "   3 │ 108060  108060         674708  WIAG-Pers-CANON-82892-001  Johannes  Lepper\n",
       "   4 │ 108059  108059         674709  WIAG-Pers-CANON-82891-001  Johannes  Lepper\n",
       "   5 │ 108054  108054         674711  WIAG-Pers-CANON-82889-001  Johannes  Jacobi\n",
       "   6 │ 108157  108157         674721  WIAG-Pers-CANON-82941-001  Johannes  Werne"
      ]
     },
     "execution_count": 242,
     "metadata": {},
     "output_type": "execute_result"
    }
   ],
   "source": [
    "df_p_note[200:205, [:id, :id_in_source, :item_id, :id_public, :vorname, :familienname]]"
   ]
  },
  {
   "cell_type": "code",
   "execution_count": 243,
   "metadata": {},
   "outputs": [
    {
     "data": {
      "text/html": [
       "<div><div style = \"float: left;\"><span>6×6 DataFrame</span></div><div style = \"clear: both;\"></div></div><div class = \"data-frame\" style = \"overflow-x: scroll;\"><table class = \"data-frame\" style = \"margin-bottom: 6px;\"><thead><tr class = \"header\"><th class = \"rowNumber\" style = \"font-weight: bold; text-align: right;\">Row</th><th style = \"text-align: left;\">id</th><th style = \"text-align: left;\">id_in_source</th><th style = \"text-align: left;\">item_id</th><th style = \"text-align: left;\">namenszusatz</th><th style = \"text-align: left;\">vorname</th><th style = \"text-align: left;\">familienname</th></tr><tr class = \"subheader headerLastRow\"><th class = \"rowNumber\" style = \"font-weight: bold; text-align: right;\"></th><th title = \"Int32\" style = \"text-align: left;\">Int32</th><th title = \"String\" style = \"text-align: left;\">String</th><th title = \"Int32\" style = \"text-align: left;\">Int32</th><th title = \"String\" style = \"text-align: left;\">String</th><th title = \"Union{Missing, String}\" style = \"text-align: left;\">String?</th><th title = \"Union{Missing, String}\" style = \"text-align: left;\">String?</th></tr></thead><tbody><tr><td class = \"rowNumber\" style = \"font-weight: bold; text-align: right;\">1</td><td style = \"text-align: right;\">108085</td><td style = \"text-align: left;\">108085</td><td style = \"text-align: right;\">674696</td><td style = \"text-align: left;\">genannt Rate</td><td style = \"text-align: left;\">Johannes</td><td style = \"text-align: left;\">Oppermann</td></tr><tr><td class = \"rowNumber\" style = \"font-weight: bold; text-align: right;\">2</td><td style = \"text-align: right;\">108062</td><td style = \"text-align: left;\">108062</td><td style = \"text-align: right;\">674707</td><td style = \"text-align: left;\">genannt Sartoris</td><td style = \"text-align: left;\">Johannes</td><td style = \"text-align: left;\">Liderman</td></tr><tr><td class = \"rowNumber\" style = \"font-weight: bold; text-align: right;\">3</td><td style = \"text-align: right;\">108060</td><td style = \"text-align: left;\">108060</td><td style = \"text-align: right;\">674708</td><td style = \"text-align: left;\">der Jüngere</td><td style = \"text-align: left;\">Johannes</td><td style = \"text-align: left;\">Lepper</td></tr><tr><td class = \"rowNumber\" style = \"font-weight: bold; text-align: right;\">4</td><td style = \"text-align: right;\">108059</td><td style = \"text-align: left;\">108059</td><td style = \"text-align: right;\">674709</td><td style = \"text-align: left;\">von Ahlen, der Ältere</td><td style = \"text-align: left;\">Johannes</td><td style = \"text-align: left;\">Lepper</td></tr><tr><td class = \"rowNumber\" style = \"font-weight: bold; text-align: right;\">5</td><td style = \"text-align: right;\">108054</td><td style = \"text-align: left;\">108054</td><td style = \"text-align: right;\">674711</td><td style = \"text-align: left;\">von Borken</td><td style = \"text-align: left;\">Johannes</td><td style = \"text-align: left;\">Jacobi</td></tr><tr><td class = \"rowNumber\" style = \"font-weight: bold; text-align: right;\">6</td><td style = \"text-align: right;\">108157</td><td style = \"text-align: left;\">108157</td><td style = \"text-align: right;\">674721</td><td style = \"text-align: left;\">der Jüngere</td><td style = \"text-align: left;\">Johannes</td><td style = \"text-align: left;\">Werne</td></tr></tbody></table></div>"
      ],
      "text/latex": [
       "\\begin{tabular}{r|cccccc}\n",
       "\t& id & id\\_in\\_source & item\\_id & namenszusatz & vorname & familienname\\\\\n",
       "\t\\hline\n",
       "\t& Int32 & String & Int32 & String & String? & String?\\\\\n",
       "\t\\hline\n",
       "\t1 & 108085 & 108085 & 674696 & genannt Rate & Johannes & Oppermann \\\\\n",
       "\t2 & 108062 & 108062 & 674707 & genannt Sartoris & Johannes & Liderman \\\\\n",
       "\t3 & 108060 & 108060 & 674708 & der Jüngere & Johannes & Lepper \\\\\n",
       "\t4 & 108059 & 108059 & 674709 & von Ahlen, der Ältere & Johannes & Lepper \\\\\n",
       "\t5 & 108054 & 108054 & 674711 & von Borken & Johannes & Jacobi \\\\\n",
       "\t6 & 108157 & 108157 & 674721 & der Jüngere & Johannes & Werne \\\\\n",
       "\\end{tabular}\n"
      ],
      "text/plain": [
       "\u001b[1m6×6 DataFrame\u001b[0m\n",
       "\u001b[1m Row \u001b[0m│\u001b[1m id     \u001b[0m\u001b[1m id_in_source \u001b[0m\u001b[1m item_id \u001b[0m\u001b[1m namenszusatz          \u001b[0m\u001b[1m vorname  \u001b[0m\u001b[1m familienname \u001b[0m\n",
       "     │\u001b[90m Int32  \u001b[0m\u001b[90m String       \u001b[0m\u001b[90m Int32   \u001b[0m\u001b[90m String                \u001b[0m\u001b[90m String?  \u001b[0m\u001b[90m String?      \u001b[0m\n",
       "─────┼──────────────────────────────────────────────────────────────────────────────\n",
       "   1 │ 108085  108085         674696  genannt Rate           Johannes  Oppermann\n",
       "   2 │ 108062  108062         674707  genannt Sartoris       Johannes  Liderman\n",
       "   3 │ 108060  108060         674708  der Jüngere            Johannes  Lepper\n",
       "   4 │ 108059  108059         674709  von Ahlen, der Ältere  Johannes  Lepper\n",
       "   5 │ 108054  108054         674711  von Borken             Johannes  Jacobi\n",
       "   6 │ 108157  108157         674721  der Jüngere            Johannes  Werne"
      ]
     },
     "execution_count": 243,
     "metadata": {},
     "output_type": "execute_result"
    }
   ],
   "source": [
    "df_p_note[200:205, [:id, :id_in_source, :item_id, :namenszusatz, :vorname, :familienname]]"
   ]
  },
  {
   "cell_type": "code",
   "execution_count": 244,
   "metadata": {},
   "outputs": [
    {
     "data": {
      "text/plain": [
       "8-element Vector{String}:\n",
       " \"id\"\n",
       " \"vorname\"\n",
       " \"familienname\"\n",
       " \"namenszusatz\"\n",
       " \"id_in_source\"\n",
       " \"item_id\"\n",
       " \"item_type_id\"\n",
       " \"id_public\""
      ]
     },
     "execution_count": 244,
     "metadata": {},
     "output_type": "execute_result"
    }
   ],
   "source": [
    "names(df_p_note)"
   ]
  },
  {
   "cell_type": "code",
   "execution_count": 245,
   "metadata": {},
   "outputs": [
    {
     "data": {
      "text/plain": [
       "sql_update (generic function with 1 method)"
      ]
     },
     "execution_count": 245,
     "metadata": {},
     "output_type": "execute_result"
    }
   ],
   "source": [
    "table_name = \"person\";\n",
    "function sql_update(note_name, person_id) \n",
    "    sql = \"UPDATE $(table_name) AS p \" *\n",
    "    \"SET p.note_name = '$(note_name)' \" *\n",
    "    \"WHERE p.id = $(person_id)\"\n",
    "    return sql\n",
    "end"
   ]
  },
  {
   "cell_type": "code",
   "execution_count": 246,
   "metadata": {},
   "outputs": [
    {
     "name": "stderr",
     "output_type": "stream",
     "text": [
      "┌ Info: 200\n",
      "└ @ Main In[246]:8\n",
      "┌ Info: 400\n",
      "└ @ Main In[246]:8\n",
      "┌ Info: 600\n",
      "└ @ Main In[246]:8\n"
     ]
    }
   ],
   "source": [
    "count_loop = 0;\n",
    "count_msg = 200;\n",
    "for row in eachrow(df_p_note)\n",
    "    sql = sql_update(row[:namenszusatz], row[:item_id])\n",
    "    DBInterface.execute(Wds.dbwiag, sql)\n",
    "    count_loop += 1;\n",
    "    if count_loop % count_msg == 0\n",
    "        @info count_loop\n",
    "    end\n",
    "end"
   ]
  },
  {
   "cell_type": "code",
   "execution_count": null,
   "metadata": {},
   "outputs": [],
   "source": []
  }
 ],
 "metadata": {
  "kernelspec": {
   "display_name": "Julia 1.7.0",
   "language": "julia",
   "name": "julia-1.7"
  },
  "language_info": {
   "file_extension": ".jl",
   "mimetype": "application/julia",
   "name": "julia",
   "version": "1.7.0"
  }
 },
 "nbformat": 4,
 "nbformat_minor": 4
}
