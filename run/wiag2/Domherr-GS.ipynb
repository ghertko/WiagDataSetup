{
 "cells": [
  {
   "cell_type": "markdown",
   "metadata": {},
   "source": [
    "# Wissensaggregator Mittelalter und frühe Neuzeit\n",
    "WIAGweb2\n",
    "\n",
    "## Daten für Domherren aus dem Digitalen Personenregister einlesen\n",
    "\n",
    "Übertrage Daten aus der GS-online. Die Daten werden aus der produktiven Datenbank auf eine lokale Datenbank eingelesen: `gso`\n",
    "\n",
    "[Literatur](#Literatur)  \n",
    "[Domherren](#Domherren)\n",
    "- [Einträge in `item`](#Einträge-in-item)\n",
    "- [Daten eintragen](#Daten-eintragen)\n",
    "- [Orden eintragen](#Orden-eintragen)\n",
    "- [Literaturverweise eintragen](#Literaturverweise-eintragen)\n",
    "- [Externe IDs eintragen](#Externe-IDs-eintragen)\n",
    "- [Namensvarianten eintragen](#Namensvarianten-eintragen)\n",
    "- [Suchvarianten eintragen (`name_lookup`)](#Suchvarianten-eintragen-(name_lookup))\n",
    "- [Bezug zu den anderen Quellen (`canon_lookup`)](#Bezug-zu-den-anderen-Quellen)\n",
    "- [Sortierung (`canon_sort`)](#canon_sort)  \n",
    "\n",
    "[Nachtrag](#Nachtrag-person.note_name)"
   ]
  },
  {
   "cell_type": "markdown",
   "metadata": {},
   "source": [
    "Quelle: https://mysql.gwdg.de  \n",
    "*2022-04-27* Datenbank `gso_in_202204`  \n",
    "*2022-05-12* Datenbank `gso_in_202205`  \n",
    "*2022-06-02* Bischöfe und Domherren verweisen auf die jeweils aktuelle GSN  \n",
    "*2022-07?* Datenbank `gso_in_202207`"
   ]
  },
  {
   "cell_type": "markdown",
   "metadata": {},
   "source": [
    "Vorspann: Pakete laden; mit der Datenbank verbinden"
   ]
  },
  {
   "cell_type": "code",
   "execution_count": 13,
   "metadata": {},
   "outputs": [
    {
     "data": {
      "text/plain": [
       "\"gso_in_202210\""
      ]
     },
     "execution_count": 13,
     "metadata": {},
     "output_type": "execute_result"
    }
   ],
   "source": [
    "gs_db = \"gso_in_202210\""
   ]
  },
  {
   "cell_type": "code",
   "execution_count": 14,
   "metadata": {},
   "outputs": [
    {
     "data": {
      "text/plain": [
       "\"../..\""
      ]
     },
     "execution_count": 14,
     "metadata": {},
     "output_type": "execute_result"
    }
   ],
   "source": [
    "wds_path=\"../..\""
   ]
  },
  {
   "cell_type": "code",
   "execution_count": 15,
   "metadata": {},
   "outputs": [],
   "source": [
    "cd(wds_path)"
   ]
  },
  {
   "cell_type": "code",
   "execution_count": 16,
   "metadata": {},
   "outputs": [],
   "source": [
    "using Pkg"
   ]
  },
  {
   "cell_type": "code",
   "execution_count": 17,
   "metadata": {},
   "outputs": [
    {
     "name": "stderr",
     "output_type": "stream",
     "text": [
      "\u001b[32m\u001b[1m  Activating\u001b[22m\u001b[39m new project at `C:\\Users\\georg\\Documents`\n"
     ]
    }
   ],
   "source": [
    "Pkg.activate(\".\")"
   ]
  },
  {
   "cell_type": "code",
   "execution_count": 18,
   "metadata": {},
   "outputs": [],
   "source": [
    "using Revise"
   ]
  },
  {
   "cell_type": "code",
   "execution_count": 19,
   "metadata": {},
   "outputs": [],
   "source": [
    "using WiagDataSetup"
   ]
  },
  {
   "cell_type": "code",
   "execution_count": 20,
   "metadata": {},
   "outputs": [],
   "source": [
    "using MySQL, DataFrames"
   ]
  },
  {
   "cell_type": "code",
   "execution_count": 21,
   "metadata": {},
   "outputs": [
    {
     "data": {
      "text/plain": [
       "WiagDataSetup"
      ]
     },
     "execution_count": 21,
     "metadata": {},
     "output_type": "execute_result"
    }
   ],
   "source": [
    "Wds = WiagDataSetup"
   ]
  },
  {
   "cell_type": "code",
   "execution_count": 22,
   "metadata": {},
   "outputs": [
    {
     "name": "stdout",
     "output_type": "stream",
     "text": [
      "Passwort für User georg: ········\n"
     ]
    },
    {
     "data": {
      "text/plain": [
       "MySQL.Connection(host=\"127.0.0.1\", user=\"georg\", port=\"3306\", db=\"wiag2\")"
      ]
     },
     "execution_count": 22,
     "metadata": {},
     "output_type": "execute_result"
    }
   ],
   "source": [
    "Wds.setDBWIAG(user=\"georg\", db=\"wiag2\")"
   ]
  },
  {
   "cell_type": "markdown",
   "metadata": {},
   "source": [
    "Item Type ID"
   ]
  },
  {
   "cell_type": "code",
   "execution_count": 23,
   "metadata": {},
   "outputs": [
    {
     "data": {
      "text/plain": [
       "6"
      ]
     },
     "execution_count": 23,
     "metadata": {},
     "output_type": "execute_result"
    }
   ],
   "source": [
    "item_type_id = 6"
   ]
  },
  {
   "cell_type": "code",
   "execution_count": 24,
   "metadata": {},
   "outputs": [
    {
     "data": {
      "text/plain": [
       "120"
      ]
     },
     "execution_count": 24,
     "metadata": {},
     "output_type": "execute_result"
    }
   ],
   "source": [
    "ENV[\"COLUMNS\"] = 120"
   ]
  },
  {
   "cell_type": "code",
   "execution_count": 25,
   "metadata": {},
   "outputs": [
    {
     "data": {
      "text/plain": [
       "\"C:\\\\Users\\\\georg\\\\Documents\\\\projekte-doc\\\\WIAGweb2\\\\data\""
      ]
     },
     "execution_count": 25,
     "metadata": {},
     "output_type": "execute_result"
    }
   ],
   "source": [
    "data_path = \"C:\\\\Users\\\\georg\\\\Documents\\\\projekte-doc\\\\WIAGweb2\\\\data\""
   ]
  },
  {
   "cell_type": "code",
   "execution_count": 26,
   "metadata": {},
   "outputs": [
    {
     "data": {
      "text/plain": [
       "\"C:\\\\Users\\\\georg\\\\Documents\\\\projekte-doc\\\\WIAGweb2\\\\data_sql\""
      ]
     },
     "execution_count": 26,
     "metadata": {},
     "output_type": "execute_result"
    }
   ],
   "source": [
    "out_path = \"C:\\\\Users\\\\georg\\\\Documents\\\\projekte-doc\\\\WIAGweb2\\\\data_sql\""
   ]
  },
  {
   "cell_type": "markdown",
   "metadata": {},
   "source": [
    "## Löschungen für umfassendes Update"
   ]
  },
  {
   "cell_type": "code",
   "execution_count": 27,
   "metadata": {},
   "outputs": [
    {
     "data": {
      "text/plain": [
       "MySQL.TextCursor{true}(MySQL.Connection(host=\"127.0.0.1\", user=\"georg\", port=\"3306\", db=\"wiag2\"), \"DELETE FROM name_lookup\\nWHERE person_id IN\\n(SELECT id FROM item WHERE item_type_id = 6)\", 0, -1, 16961, MySQL.API.MYSQL_RES(Ptr{Nothing} @0x0000000000000000), Symbol[], Type[], Dict{Symbol, Int64}(), 0, 1, false)"
      ]
     },
     "execution_count": 27,
     "metadata": {},
     "output_type": "execute_result"
    }
   ],
   "source": [
    "table_name = \"name_lookup\";\n",
    "sql = \"DELETE FROM $(table_name)\n",
    "WHERE person_id IN\n",
    "(SELECT id FROM item WHERE item_type_id = $(item_type_id))\";\n",
    "DBInterface.execute(Wds.dbwiag, sql)"
   ]
  },
  {
   "cell_type": "code",
   "execution_count": 28,
   "metadata": {},
   "outputs": [
    {
     "data": {
      "text/plain": [
       "MySQL.TextCursor{true}(MySQL.Connection(host=\"127.0.0.1\", user=\"georg\", port=\"3306\", db=\"wiag2\"), \"DELETE FROM familyname_variant\\nWHERE person_id IN\\n(SELECT id FROM item WHERE item_type_id = 6)\", 0, -1, 2898, MySQL.API.MYSQL_RES(Ptr{Nothing} @0x0000000000000000), Symbol[], Type[], Dict{Symbol, Int64}(), 0, 1, false)"
      ]
     },
     "execution_count": 28,
     "metadata": {},
     "output_type": "execute_result"
    }
   ],
   "source": [
    "table_name = \"familyname_variant\";\n",
    "sql = \"DELETE FROM $(table_name)\n",
    "WHERE person_id IN\n",
    "(SELECT id FROM item WHERE item_type_id = $(item_type_id))\";\n",
    "DBInterface.execute(Wds.dbwiag, sql)"
   ]
  },
  {
   "cell_type": "code",
   "execution_count": 29,
   "metadata": {},
   "outputs": [
    {
     "data": {
      "text/plain": [
       "MySQL.TextCursor{true}(MySQL.Connection(host=\"127.0.0.1\", user=\"georg\", port=\"3306\", db=\"wiag2\"), \"DELETE FROM givenname_variant\\nWHERE person_id IN\\n(SELECT id FROM item WHERE item_type_id = 6)\", 0, -1, 1613, MySQL.API.MYSQL_RES(Ptr{Nothing} @0x0000000000000000), Symbol[], Type[], Dict{Symbol, Int64}(), 0, 1, false)"
      ]
     },
     "execution_count": 29,
     "metadata": {},
     "output_type": "execute_result"
    }
   ],
   "source": [
    "table_name = \"givenname_variant\";\n",
    "sql = \"DELETE FROM $(table_name)\n",
    "WHERE person_id IN\n",
    "(SELECT id FROM item WHERE item_type_id = $(item_type_id))\";\n",
    "DBInterface.execute(Wds.dbwiag, sql)"
   ]
  },
  {
   "cell_type": "code",
   "execution_count": 30,
   "metadata": {},
   "outputs": [
    {
     "data": {
      "text/plain": [
       "MySQL.TextCursor{true}(MySQL.Connection(host=\"127.0.0.1\", user=\"georg\", port=\"3306\", db=\"wiag2\"), \"DELETE FROM id_external\\nWHERE item_id IN\\n(SELECT id FROM item WHERE item_type_id = 6)\", 0, -1, 10406, MySQL.API.MYSQL_RES(Ptr{Nothing} @0x0000000000000000), Symbol[], Type[], Dict{Symbol, Int64}(), 0, 1, false)"
      ]
     },
     "execution_count": 30,
     "metadata": {},
     "output_type": "execute_result"
    }
   ],
   "source": [
    "table_name = \"id_external\";\n",
    "sql = \"DELETE FROM $(table_name)\n",
    "WHERE item_id IN\n",
    "(SELECT id FROM item WHERE item_type_id = $(item_type_id))\";\n",
    "DBInterface.execute(Wds.dbwiag, sql)"
   ]
  },
  {
   "cell_type": "code",
   "execution_count": 31,
   "metadata": {},
   "outputs": [
    {
     "data": {
      "text/plain": [
       "MySQL.TextCursor{true}(MySQL.Connection(host=\"127.0.0.1\", user=\"georg\", port=\"3306\", db=\"wiag2\"), \"DELETE FROM person_role_property\\nWHERE person_role_id IN\\n(SELECT id FROM person_role\\nWHERE person_id in (SELECT id from item WHERE item_type_id = 6))\", 0, -1, 0, MySQL.API.MYSQL_RES(Ptr{Nothing} @0x0000000000000000), Symbol[], Type[], Dict{Symbol, Int64}(), 0, 1, false)"
      ]
     },
     "execution_count": 31,
     "metadata": {},
     "output_type": "execute_result"
    }
   ],
   "source": [
    "table_name = \"person_role_property\";\n",
    "sql = \"DELETE FROM $(table_name)\n",
    "WHERE person_role_id IN\n",
    "(SELECT id FROM person_role\n",
    "WHERE person_id in (SELECT id from item WHERE item_type_id = $(item_type_id)))\";\n",
    "DBInterface.execute(Wds.dbwiag, sql)"
   ]
  },
  {
   "cell_type": "code",
   "execution_count": 32,
   "metadata": {},
   "outputs": [
    {
     "data": {
      "text/plain": [
       "MySQL.TextCursor{true}(MySQL.Connection(host=\"127.0.0.1\", user=\"georg\", port=\"3306\", db=\"wiag2\"), \"DELETE FROM person_role\\nWHERE person_id IN\\n(SELECT id FROM item WHERE item_type_id = 6)\", 0, -1, 16111, MySQL.API.MYSQL_RES(Ptr{Nothing} @0x0000000000000000), Symbol[], Type[], Dict{Symbol, Int64}(), 0, 1, false)"
      ]
     },
     "execution_count": 32,
     "metadata": {},
     "output_type": "execute_result"
    }
   ],
   "source": [
    "table_name = \"person_role\";\n",
    "sql = \"DELETE FROM $(table_name)\n",
    "WHERE person_id IN\n",
    "(SELECT id FROM item WHERE item_type_id = $(item_type_id))\";\n",
    "DBInterface.execute(Wds.dbwiag, sql)"
   ]
  },
  {
   "cell_type": "code",
   "execution_count": 33,
   "metadata": {},
   "outputs": [
    {
     "data": {
      "text/plain": [
       "MySQL.TextCursor{true}(MySQL.Connection(host=\"127.0.0.1\", user=\"georg\", port=\"3306\", db=\"wiag2\"), \"DELETE FROM person\\nWHERE id IN\\n(SELECT id FROM item WHERE item_type_id = 6)\", 0, -1, 9119, MySQL.API.MYSQL_RES(Ptr{Nothing} @0x0000000000000000), Symbol[], Type[], Dict{Symbol, Int64}(), 0, 1, false)"
      ]
     },
     "execution_count": 33,
     "metadata": {},
     "output_type": "execute_result"
    }
   ],
   "source": [
    "table_name = \"person\";\n",
    "sql = \"DELETE FROM $(table_name)\n",
    "WHERE id IN\n",
    "(SELECT id FROM item WHERE item_type_id = $(item_type_id))\";\n",
    "DBInterface.execute(Wds.dbwiag, sql)"
   ]
  },
  {
   "cell_type": "code",
   "execution_count": 34,
   "metadata": {},
   "outputs": [
    {
     "data": {
      "text/plain": [
       "MySQL.TextCursor{true}(MySQL.Connection(host=\"127.0.0.1\", user=\"georg\", port=\"3306\", db=\"wiag2\"), \"DELETE FROM item_reference\\nWHERE item_id IN\\n(SELECT id FROM item WHERE item_type_id = 6)\", 0, -1, 7900, MySQL.API.MYSQL_RES(Ptr{Nothing} @0x0000000000000000), Symbol[], Type[], Dict{Symbol, Int64}(), 0, 1, false)"
      ]
     },
     "execution_count": 34,
     "metadata": {},
     "output_type": "execute_result"
    }
   ],
   "source": [
    "table_name = \"item_reference\";\n",
    "sql = \"DELETE FROM $(table_name)\n",
    "WHERE item_id IN\n",
    "(SELECT id FROM item WHERE item_type_id = $(item_type_id))\";\n",
    "DBInterface.execute(Wds.dbwiag, sql)"
   ]
  },
  {
   "cell_type": "markdown",
   "metadata": {},
   "source": [
    "**Vorsicht** Zunächst die IDs (`id_public`) für die Domherren GS sichern, Einträge in `item` evtl. erst später löschen"
   ]
  },
  {
   "cell_type": "code",
   "execution_count": 100,
   "metadata": {},
   "outputs": [
    {
     "data": {
      "text/plain": [
       "MySQL.TextCursor{true}(MySQL.Connection(host=\"127.0.0.1\", user=\"georg\", port=\"3306\", db=\"wiag2\"), \"DELETE FROM item\\nWHERE item_type_id = 6\", 0, -1, 8523, MySQL.API.MYSQL_RES(Ptr{Nothing} @0x0000000000000000), Symbol[], Type[], Dict{Symbol, Int64}(), 0, 1, false)"
      ]
     },
     "execution_count": 100,
     "metadata": {},
     "output_type": "execute_result"
    }
   ],
   "source": [
    "table_name = \"item\";\n",
    "sql = \"DELETE FROM $(table_name)\n",
    "WHERE item_type_id = $(item_type_id)\";\n",
    "DBInterface.execute(Wds.dbwiag, sql)"
   ]
  },
  {
   "cell_type": "markdown",
   "metadata": {},
   "source": [
    "## Vorspann `gsn_gsn`\n",
    "\n",
    "``` sql\n",
    "use gso_in_202210;\n",
    "\n",
    "CREATE TEMPORARY TABLE gsn_new AS\n",
    "SELECT id, item_id, nummer\n",
    "FROM gsn\n",
    "WHERE id IN\n",
    "(SELECT min(id) as id from gsn where not deleted group by item_id);\n",
    "\n",
    "CREATE TABLE gsn_gsn AS\n",
    "SELECT o.id, o.item_id, o.nummer, n.id as id_new, n.nummer as nummer_neu\n",
    "FROM gsn AS o\n",
    "INNER JOIN gsn_new AS n ON o.item_id = n.item_id\n",
    "WHERE NOT o.deleted;\n",
    "```"
   ]
  },
  {
   "cell_type": "markdown",
   "metadata": {},
   "source": [
    "## Literatur"
   ]
  },
  {
   "cell_type": "code",
   "execution_count": 35,
   "metadata": {},
   "outputs": [],
   "source": [
    "table_name = gs_db * \".books\"\n",
    "sql = \"SELECT id, titel AS title, autoren AS author, nummer AS number_vol, \" *\n",
    "\"uri AS online_resource, kurztitel AS shorttitle \" *\n",
    "\"FROM $(table_name)\";\n",
    "df_vol = Wds.sql_df(sql);"
   ]
  },
  {
   "cell_type": "code",
   "execution_count": 36,
   "metadata": {},
   "outputs": [
    {
     "data": {
      "text/plain": [
       "6-element Vector{String}:\n",
       " \"id\"\n",
       " \"title\"\n",
       " \"author\"\n",
       " \"number_vol\"\n",
       " \"online_resource\"\n",
       " \"shorttitle\""
      ]
     },
     "execution_count": 36,
     "metadata": {},
     "output_type": "execute_result"
    }
   ],
   "source": [
    "names(df_vol)"
   ]
  },
  {
   "cell_type": "code",
   "execution_count": 37,
   "metadata": {},
   "outputs": [
    {
     "data": {
      "text/plain": [
       "6-element Vector{Pair{Symbol, Symbol}}:\n",
       "              :id => :reference_id\n",
       "           :title => :full_citation\n",
       "          :author => :author_editor\n",
       " :online_resource => :online_resource\n",
       "      :shorttitle => :title_short\n",
       "      :number_vol => :gs_volume_nr"
      ]
     },
     "execution_count": 37,
     "metadata": {},
     "output_type": "execute_result"
    }
   ],
   "source": [
    "columns = [\n",
    "    :id => :reference_id,\n",
    "    :title => :full_citation,\n",
    "    :author => :author_editor,\n",
    "    :online_resource => :online_resource,\n",
    "    :shorttitle => :title_short,\n",
    "    :number_vol => :gs_volume_nr,\n",
    "]"
   ]
  },
  {
   "cell_type": "code",
   "execution_count": 38,
   "metadata": {},
   "outputs": [],
   "source": [
    "df_vol_db = select(df_vol, columns);"
   ]
  },
  {
   "cell_type": "code",
   "execution_count": 39,
   "metadata": {},
   "outputs": [],
   "source": [
    "df_vol_db[!, :item_type_id] .= item_type_id;"
   ]
  },
  {
   "cell_type": "markdown",
   "metadata": {},
   "source": [
    "Bestehende Einträge löschen"
   ]
  },
  {
   "cell_type": "code",
   "execution_count": 40,
   "metadata": {},
   "outputs": [
    {
     "data": {
      "text/plain": [
       "MySQL.TextCursor{true}(MySQL.Connection(host=\"127.0.0.1\", user=\"georg\", port=\"3306\", db=\"wiag2\"), \"DELETE FROM reference_volume WHERE item_type_id = 6\", 0, -1, 88, MySQL.API.MYSQL_RES(Ptr{Nothing} @0x0000000000000000), Symbol[], Type[], Dict{Symbol, Int64}(), 0, 1, false)"
      ]
     },
     "execution_count": 40,
     "metadata": {},
     "output_type": "execute_result"
    }
   ],
   "source": [
    "table_name = \"reference_volume\"\n",
    "sql = \"DELETE FROM $(table_name) WHERE item_type_id = $(item_type_id)\";\n",
    "DBInterface.execute(Wds.dbwiag, sql)"
   ]
  },
  {
   "cell_type": "markdown",
   "metadata": {},
   "source": [
    "Daten eintragen"
   ]
  },
  {
   "cell_type": "code",
   "execution_count": 41,
   "metadata": {},
   "outputs": [
    {
     "name": "stderr",
     "output_type": "stream",
     "text": [
      "┌ Info: Rows inserted: 89\n",
      "└ @ WiagDataSetup C:\\Users\\georg\\Documents\\projekte\\WiagDataSetup.jl\\src\\WiagDataSetup.jl:1216\n"
     ]
    },
    {
     "data": {
      "text/plain": [
       "89"
      ]
     },
     "execution_count": 41,
     "metadata": {},
     "output_type": "execute_result"
    }
   ],
   "source": [
    "table_name = \"reference_volume\"\n",
    "Wds.filltable!(table_name, df_vol_db, clear_table = false)"
   ]
  },
  {
   "cell_type": "markdown",
   "metadata": {},
   "source": [
    "### Literatur GS\n",
    "Feld `gs-citation`"
   ]
  },
  {
   "cell_type": "code",
   "execution_count": 42,
   "metadata": {},
   "outputs": [],
   "source": [
    "using CSV, MySQL, DataFrames"
   ]
  },
  {
   "cell_type": "code",
   "execution_count": 43,
   "metadata": {},
   "outputs": [
    {
     "data": {
      "text/plain": [
       "\"C:\\\\Users\\\\georg\\\\Documents\\\\projekte-doc\\\\WIAGweb2\\\\data\\\\GS_Baende_ZitationGS.csv\""
      ]
     },
     "execution_count": 43,
     "metadata": {},
     "output_type": "execute_result"
    }
   ],
   "source": [
    "filename = joinpath(data_path, \"GS_Baende_ZitationGS.csv\")"
   ]
  },
  {
   "cell_type": "code",
   "execution_count": 44,
   "metadata": {},
   "outputs": [],
   "source": [
    "df_ref_c_gs = CSV.read(filename, DataFrame, delim=\"\\t\");"
   ]
  },
  {
   "cell_type": "code",
   "execution_count": 45,
   "metadata": {},
   "outputs": [
    {
     "data": {
      "text/html": [
       "<div class=\"data-frame\"><p>5 rows × 2 columns</p><table class=\"data-frame\"><thead><tr><th></th><th>reference_id</th><th>gs_citation</th></tr><tr><th></th><th title=\"Int64\">Int64</th><th title=\"String\">String</th></tr></thead><tbody><tr><th>1</th><td>21</td><td>Wendehorst, Alfred, Das Bistum Würzburg 3: Die Bischofsreihe von 1455 bis 1617 (Germania Sacra N. F. 13), Berlin/New York 1978</td></tr><tr><th>2</th><td>22</td><td>Pauly, Ferdinand, Das Erzbistum Trier 2: Die Stifte St. Severus in Boppard, St. Goar in St. Goar, Liebfrauen in Oberwesel, St. Martin in Oberwesel (Germania Sacra N. F. 14), Berlin/New York 1980</td></tr><tr><th>3</th><td>23</td><td>Maurer, Helmut, Das Bistum Konstanz 1: Das Stift St. Stephan in Konstanz (Germania Sacra N. F. 15), Berlin/New York 1982</td></tr><tr><th>4</th><td>24</td><td>Sydow, Jürgen, Das Bistum Konstanz 2: Die Zisterzienserabtei Bebenhausen (Germania Sacra N. F. 16), Berlin/New York 1984</td></tr><tr><th>5</th><td>25</td><td>Kohl, Wilhelm, Das Bistum Münster 4, 1−3: Das Domstift St. Paulus zu Münster (Germania Sacra N. F. 17,1−3), Berlin/New York 1987/1982/1989</td></tr></tbody></table></div>"
      ],
      "text/latex": [
       "\\begin{tabular}{r|cc}\n",
       "\t& reference\\_id & gs\\_citation\\\\\n",
       "\t\\hline\n",
       "\t& Int64 & String\\\\\n",
       "\t\\hline\n",
       "\t1 & 21 & Wendehorst, Alfred, Das Bistum Würzburg 3: Die Bischofsreihe von 1455 bis 1617 (Germania Sacra N. F. 13), Berlin/New York 1978 \\\\\n",
       "\t2 & 22 & Pauly, Ferdinand, Das Erzbistum Trier 2: Die Stifte St. Severus in Boppard, St. Goar in St. Goar, Liebfrauen in Oberwesel, St. Martin in Oberwesel (Germania Sacra N. F. 14), Berlin/New York 1980 \\\\\n",
       "\t3 & 23 & Maurer, Helmut, Das Bistum Konstanz 1: Das Stift St. Stephan in Konstanz (Germania Sacra N. F. 15), Berlin/New York 1982 \\\\\n",
       "\t4 & 24 & Sydow, Jürgen, Das Bistum Konstanz 2: Die Zisterzienserabtei Bebenhausen (Germania Sacra N. F. 16), Berlin/New York 1984 \\\\\n",
       "\t5 & 25 & Kohl, Wilhelm, Das Bistum Münster 4, 1−3: Das Domstift St. Paulus zu Münster (Germania Sacra N. F. 17,1−3), Berlin/New York 1987/1982/1989 \\\\\n",
       "\\end{tabular}\n"
      ],
      "text/plain": [
       "\u001b[1m5×2 DataFrame\u001b[0m\n",
       "\u001b[1m Row \u001b[0m│\u001b[1m reference_id \u001b[0m\u001b[1m gs_citation                       \u001b[0m\n",
       "\u001b[1m     \u001b[0m│\u001b[90m Int64        \u001b[0m\u001b[90m String                            \u001b[0m\n",
       "─────┼─────────────────────────────────────────────────\n",
       "   1 │           21  Wendehorst, Alfred, Das Bistum W…\n",
       "   2 │           22  Pauly, Ferdinand, Das Erzbistum …\n",
       "   3 │           23  Maurer, Helmut, Das Bistum Konst…\n",
       "   4 │           24  Sydow, Jürgen, Das Bistum Konsta…\n",
       "   5 │           25  Kohl, Wilhelm, Das Bistum Münste…"
      ]
     },
     "execution_count": 45,
     "metadata": {},
     "output_type": "execute_result"
    }
   ],
   "source": [
    "df_ref_c_gs[21:25, :]"
   ]
  },
  {
   "cell_type": "code",
   "execution_count": 46,
   "metadata": {},
   "outputs": [
    {
     "data": {
      "text/plain": [
       "\"reference_volume\""
      ]
     },
     "execution_count": 46,
     "metadata": {},
     "output_type": "execute_result"
    }
   ],
   "source": [
    "table_name = \"reference_volume\""
   ]
  },
  {
   "cell_type": "code",
   "execution_count": 47,
   "metadata": {},
   "outputs": [],
   "source": [
    "sql = \"UPDATE $(table_name) SET gs_citation = ? WHERE item_type_id = ? AND reference_id = ?\";\n",
    "stmt = DBInterface.prepare(Wds.dbwiag, sql);"
   ]
  },
  {
   "cell_type": "code",
   "execution_count": 26,
   "metadata": {},
   "outputs": [
    {
     "data": {
      "text/plain": [
       "MySQL.Cursor{true}(MySQL.API.MYSQL_STMT(Ptr{Nothing} @0x0000000086eac790), 0, Symbol[], Type[], Dict{Symbol, Int64}(), MySQL.API.BindHelper[], MySQL.API.MYSQL_BIND[], 0, 0, 0)"
      ]
     },
     "execution_count": 26,
     "metadata": {},
     "output_type": "execute_result"
    }
   ],
   "source": [
    "DBInterface.execute(stmt, (\"example_2\", 6, 7))"
   ]
  },
  {
   "cell_type": "code",
   "execution_count": 48,
   "metadata": {},
   "outputs": [],
   "source": [
    "for row in eachrow(df_ref_c_gs)\n",
    "    reference_id, gs_citation = row[[:reference_id, :gs_citation]]\n",
    "    DBInterface.execute(stmt, (gs_citation, item_type_id, reference_id))\n",
    "end\n",
    "DBInterface.close!(stmt)    "
   ]
  },
  {
   "cell_type": "markdown",
   "metadata": {},
   "source": [
    "## Domherren"
   ]
  },
  {
   "cell_type": "markdown",
   "metadata": {},
   "source": [
    "Betrachte nur Personen, deren Eintrag nicht gelöscht ist und die online sind. Die maßgebliche GSN steht in dem Datensatz mit dem kleinsten Wert der id.\n",
    "Ergebnisse *2022-02-25*\n",
    "``` sql\n",
    "use gso_in_202202;\n",
    "select gsn.nummer, item_id, gsn.deleted, items.deleted, items.status\n",
    "from gsn join items on gsn.item_id = items.id \n",
    "where items.status = 'online' and not items.deleted limit 12 offset 4000;\n",
    "select count(*) from gsn join items on gsn.item_id = items.id where items.status = 'online' and not items.deleted;\n",
    "```\n",
    "98544\n",
    "``` sql\n",
    "select count(distinct(gsn.nummer)) \n",
    "from gsn join items on gsn.item_id = items.id \n",
    "where items.status = 'online' and not items.deleted;\n",
    "```\n",
    "98543\n",
    "``` sql\n",
    "create temporary table item_online as\n",
    "select min(gsn.id) as gsn_tbl_id, gsn.nummer, item_id, items.deleted, items.status\n",
    "from gsn join items on gsn.item_id = items.id where items.status = 'online'\n",
    "group by items.id;\n",
    "select count(*) from item_online;\n",
    "```\n",
    "87270"
   ]
  },
  {
   "cell_type": "markdown",
   "metadata": {},
   "source": [
    "Finde Einträge, die von der Domherrendatenbank referenziert werden (sofern die verweisenden Domherren online sind!)"
   ]
  },
  {
   "cell_type": "code",
   "execution_count": 49,
   "metadata": {},
   "outputs": [],
   "source": [
    "table_name = \"item\";\n",
    "sql = \"SELECT item.id as dh_item_id, e.value AS gsn\n",
    "FROM wiag2.item \n",
    "JOIN wiag2.id_external AS e ON item.id = e.item_id\n",
    "WHERE item_type_id = 5\n",
    "AND authority_id = 200\n",
    "AND item.is_online\";\n",
    "dh_gsn = Wds.sql_df(sql);"
   ]
  },
  {
   "cell_type": "code",
   "execution_count": 50,
   "metadata": {},
   "outputs": [
    {
     "data": {
      "text/plain": [
       "2-element Vector{String}:\n",
       " \"dh_item_id\"\n",
       " \"gsn\""
      ]
     },
     "execution_count": 50,
     "metadata": {},
     "output_type": "execute_result"
    }
   ],
   "source": [
    "names(dh_gsn)"
   ]
  },
  {
   "cell_type": "code",
   "execution_count": 51,
   "metadata": {},
   "outputs": [
    {
     "data": {
      "text/plain": [
       "1101"
      ]
     },
     "execution_count": 51,
     "metadata": {},
     "output_type": "execute_result"
    }
   ],
   "source": [
    "size(dh_gsn, 1)"
   ]
  },
  {
   "cell_type": "code",
   "execution_count": 52,
   "metadata": {},
   "outputs": [
    {
     "data": {
      "text/plain": [
       "1100"
      ]
     },
     "execution_count": 52,
     "metadata": {},
     "output_type": "execute_result"
    }
   ],
   "source": [
    "length(unique(dh_gsn.gsn))"
   ]
  },
  {
   "cell_type": "markdown",
   "metadata": {},
   "source": [
    "*2022-04-27* Zwei Domherren, die beide online sind, verweisen auf den gleichen Eintrag in der Personendatenbank. Die Redaktion weiß bescheid. Fahre nur mit einem der Einträge fort.  \n",
    "*2022-05-12* die Werte stimmen überein: 606  \n",
    "*2022-07-26*\n",
    "*2022-10-15* die Werte stimmen nicht überein: 906, 905  \n",
    "*2022-10-19* die Werte stimmen nicht überein: 1101, 1100"
   ]
  },
  {
   "cell_type": "code",
   "execution_count": 53,
   "metadata": {},
   "outputs": [],
   "source": [
    "dh_gsn_g = groupby(dh_gsn, :gsn);"
   ]
  },
  {
   "cell_type": "code",
   "execution_count": 54,
   "metadata": {},
   "outputs": [],
   "source": [
    "dh_gsn_gn = combine(dh_gsn_g, nrow);"
   ]
  },
  {
   "cell_type": "code",
   "execution_count": 55,
   "metadata": {
    "scrolled": true
   },
   "outputs": [
    {
     "data": {
      "text/html": [
       "<div class=\"data-frame\"><p>1 rows × 2 columns</p><table class=\"data-frame\"><thead><tr><th></th><th>gsn</th><th>nrow</th></tr><tr><th></th><th title=\"Union{Missing, String}\">String?</th><th title=\"Int64\">Int64</th></tr></thead><tbody><tr><th>1</th><td>036-00856-001</td><td>2</td></tr></tbody></table></div>"
      ],
      "text/latex": [
       "\\begin{tabular}{r|cc}\n",
       "\t& gsn & nrow\\\\\n",
       "\t\\hline\n",
       "\t& String? & Int64\\\\\n",
       "\t\\hline\n",
       "\t1 & 036-00856-001 & 2 \\\\\n",
       "\\end{tabular}\n"
      ],
      "text/plain": [
       "\u001b[1m1×2 DataFrame\u001b[0m\n",
       "\u001b[1m Row \u001b[0m│\u001b[1m gsn           \u001b[0m\u001b[1m nrow  \u001b[0m\n",
       "\u001b[1m     \u001b[0m│\u001b[90m String?       \u001b[0m\u001b[90m Int64 \u001b[0m\n",
       "─────┼──────────────────────\n",
       "   1 │ 036-00856-001      2"
      ]
     },
     "execution_count": 55,
     "metadata": {},
     "output_type": "execute_result"
    }
   ],
   "source": [
    "subset(dh_gsn_gn, :nrow => ByRow(x -> x > 1))"
   ]
  },
  {
   "cell_type": "code",
   "execution_count": 56,
   "metadata": {},
   "outputs": [],
   "source": [
    "dh_gsn_f = combine(dh_gsn_g, first);"
   ]
  },
  {
   "cell_type": "code",
   "execution_count": 57,
   "metadata": {},
   "outputs": [
    {
     "data": {
      "text/html": [
       "<div class=\"data-frame\"><p>5 rows × 2 columns</p><table class=\"data-frame\"><thead><tr><th></th><th>gsn</th><th>dh_item_id</th></tr><tr><th></th><th title=\"Union{Missing, String}\">String?</th><th title=\"Int32\">Int32</th></tr></thead><tbody><tr><th>1</th><td>014-02050-001</td><td>451801</td></tr><tr><th>2</th><td>014-01488-001</td><td>446839</td></tr><tr><th>3</th><td>015-04122-001</td><td>453694</td></tr><tr><th>4</th><td>015-06070-001</td><td>453746</td></tr><tr><th>5</th><td>016-01329-001</td><td>453684</td></tr></tbody></table></div>"
      ],
      "text/latex": [
       "\\begin{tabular}{r|cc}\n",
       "\t& gsn & dh\\_item\\_id\\\\\n",
       "\t\\hline\n",
       "\t& String? & Int32\\\\\n",
       "\t\\hline\n",
       "\t1 & 014-02050-001 & 451801 \\\\\n",
       "\t2 & 014-01488-001 & 446839 \\\\\n",
       "\t3 & 015-04122-001 & 453694 \\\\\n",
       "\t4 & 015-06070-001 & 453746 \\\\\n",
       "\t5 & 016-01329-001 & 453684 \\\\\n",
       "\\end{tabular}\n"
      ],
      "text/plain": [
       "\u001b[1m5×2 DataFrame\u001b[0m\n",
       "\u001b[1m Row \u001b[0m│\u001b[1m gsn           \u001b[0m\u001b[1m dh_item_id \u001b[0m\n",
       "\u001b[1m     \u001b[0m│\u001b[90m String?       \u001b[0m\u001b[90m Int32      \u001b[0m\n",
       "─────┼───────────────────────────\n",
       "   1 │ 014-02050-001      451801\n",
       "   2 │ 014-01488-001      446839\n",
       "   3 │ 015-04122-001      453694\n",
       "   4 │ 015-06070-001      453746\n",
       "   5 │ 016-01329-001      453684"
      ]
     },
     "execution_count": 57,
     "metadata": {},
     "output_type": "execute_result"
    }
   ],
   "source": [
    "dh_gsn_f[51:55, :]"
   ]
  },
  {
   "cell_type": "markdown",
   "metadata": {},
   "source": [
    "Lies aus `gsn` `item_id` (= item der Personendatenbank)"
   ]
  },
  {
   "cell_type": "code",
   "execution_count": 58,
   "metadata": {},
   "outputs": [],
   "source": [
    "table_name = gs_db * \".gsn\"\n",
    "sql = \"SELECT gsn.id as gsn_id, item_id, gsn.nummer, items.status \n",
    "FROM $(table_name)\n",
    "JOIN $(gs_db).items ON item_id = items.id\n",
    "AND NOT items.deleted AND items.status = 'online';\"\n",
    "item_all = Wds.sql_df(sql);"
   ]
  },
  {
   "cell_type": "code",
   "execution_count": 59,
   "metadata": {},
   "outputs": [],
   "source": [
    "dh_item_gsn = innerjoin(dh_gsn_f, item_all, on = :gsn => :nummer);"
   ]
  },
  {
   "cell_type": "code",
   "execution_count": 60,
   "metadata": {},
   "outputs": [
    {
     "data": {
      "text/plain": [
       "1100"
      ]
     },
     "execution_count": 60,
     "metadata": {},
     "output_type": "execute_result"
    }
   ],
   "source": [
    "size(dh_item_gsn, 1)"
   ]
  },
  {
   "cell_type": "code",
   "execution_count": 61,
   "metadata": {},
   "outputs": [
    {
     "data": {
      "text/plain": [
       "Union{Missing, String}[]"
      ]
     },
     "execution_count": 61,
     "metadata": {},
     "output_type": "execute_result"
    }
   ],
   "source": [
    "setdiff(dh_gsn.gsn, item_all.nummer)"
   ]
  },
  {
   "cell_type": "markdown",
   "metadata": {},
   "source": [
    "*2022-04-27* Diese GSN ist ungültig. Sie gehört zu Ägidius von der Lanken. Der Eintrag ist in einem anderen Eintrag aufgegangen."
   ]
  },
  {
   "cell_type": "markdown",
   "metadata": {},
   "source": [
    "Ermittle die IDs weiterer Domherren anhand der relevanten Stifte."
   ]
  },
  {
   "cell_type": "code",
   "execution_count": 62,
   "metadata": {},
   "outputs": [],
   "source": [
    "sql = \"SELECT id_gsn FROM wiag2.institution AS inst\n",
    "JOIN wiag2.item_property AS prp ON inst.id = prp.item_id\n",
    "WHERE prp.name = 'domstift_short'\"\n",
    "df_dft = Wds.sql_df(sql);"
   ]
  },
  {
   "cell_type": "code",
   "execution_count": 63,
   "metadata": {},
   "outputs": [
    {
     "data": {
      "text/plain": [
       "\"(3490, 3491, 3492, 3493, 3494, 3495, 3496, 3498, 3499, 3500, 3501, 3502, 3503, 2066, 953, 832, 783, 792, 794, 803, 736, 739, 675, 676, 679, 701, 616, 628, 343, 226, 3489, 3488, 3487, 60130)\""
      ]
     },
     "execution_count": 63,
     "metadata": {},
     "output_type": "execute_result"
    }
   ],
   "source": [
    "ids_dft = \"(\" * join(df_dft.id_gsn, \", \") * \")\""
   ]
  },
  {
   "cell_type": "markdown",
   "metadata": {},
   "source": [
    "Betrachte nur gültige Amtseinträge"
   ]
  },
  {
   "cell_type": "code",
   "execution_count": 64,
   "metadata": {},
   "outputs": [],
   "source": [
    "table_name = gs_db * \".offices\";\n",
    "sql = \"SELECT DISTINCT(person_id), item_id \n",
    "FROM $(table_name) \n",
    "JOIN $(gs_db).persons AS p ON p.id = person_id\n",
    "WHERE klosterid in $(ids_dft) AND NOT offices.deleted\"\n",
    "mon_item = Wds.sql_df(sql);"
   ]
  },
  {
   "cell_type": "code",
   "execution_count": 65,
   "metadata": {},
   "outputs": [
    {
     "data": {
      "text/plain": [
       "9131"
      ]
     },
     "execution_count": 65,
     "metadata": {},
     "output_type": "execute_result"
    }
   ],
   "source": [
    "size(mon_item, 1)"
   ]
  },
  {
   "cell_type": "code",
   "execution_count": 66,
   "metadata": {},
   "outputs": [],
   "source": [
    "str_item = \"(\" * join(mon_item.item_id, \", \") * \")\";"
   ]
  },
  {
   "cell_type": "code",
   "execution_count": 67,
   "metadata": {},
   "outputs": [],
   "source": [
    "table_name = gs_db * \".gsn\"\n",
    "sql = \"SELECT min(gsn.id) as id, item_id\n",
    "FROM $(table_name)\n",
    "JOIN $(gs_db).items ON item_id = items.id\n",
    "WHERE item_id IN $(str_item)\n",
    "AND NOT items.deleted AND items.status = 'online'\n",
    "GROUP BY item_id\";\n",
    "mon_gsn_id = Wds.sql_df(sql);"
   ]
  },
  {
   "cell_type": "code",
   "execution_count": 68,
   "metadata": {},
   "outputs": [
    {
     "data": {
      "text/plain": [
       "9065"
      ]
     },
     "execution_count": 68,
     "metadata": {},
     "output_type": "execute_result"
    }
   ],
   "source": [
    "size(mon_gsn_id, 1)"
   ]
  },
  {
   "cell_type": "code",
   "execution_count": 69,
   "metadata": {},
   "outputs": [],
   "source": [
    "str_gsn_id = \"(\" * join(mon_gsn_id.id, \", \") * \")\";"
   ]
  },
  {
   "cell_type": "code",
   "execution_count": 70,
   "metadata": {},
   "outputs": [],
   "source": [
    "table_name = gs_db * \".gsn\"\n",
    "sql = \"SELECT gsn.id as gsn_id, item_id, gsn.nummer as gsn, items.status\n",
    "FROM $(table_name)\n",
    "JOIN $(gs_db).items ON item_id = items.id\n",
    "WHERE gsn.id in $(str_gsn_id)\";\n",
    "mon_item_gsn = Wds.sql_df(sql);"
   ]
  },
  {
   "cell_type": "code",
   "execution_count": 71,
   "metadata": {},
   "outputs": [
    {
     "data": {
      "text/plain": [
       "9065"
      ]
     },
     "execution_count": 71,
     "metadata": {},
     "output_type": "execute_result"
    }
   ],
   "source": [
    "size(mon_item_gsn, 1)"
   ]
  },
  {
   "cell_type": "markdown",
   "metadata": {},
   "source": [
    "Ohne die Einträge, die über die Domherrenbank referenziert werden."
   ]
  },
  {
   "cell_type": "code",
   "execution_count": 72,
   "metadata": {},
   "outputs": [],
   "source": [
    "mon_item_gsn_delta = antijoin(mon_item_gsn, dh_item_gsn, on = :item_id);"
   ]
  },
  {
   "cell_type": "code",
   "execution_count": 73,
   "metadata": {},
   "outputs": [
    {
     "data": {
      "text/plain": [
       "(8192, 4)"
      ]
     },
     "execution_count": 73,
     "metadata": {},
     "output_type": "execute_result"
    }
   ],
   "source": [
    "size(mon_item_gsn_delta)"
   ]
  },
  {
   "cell_type": "code",
   "execution_count": 74,
   "metadata": {},
   "outputs": [],
   "source": [
    "item_gsn = vcat(mon_item_gsn_delta, select(dh_item_gsn, Not(:dh_item_id)));"
   ]
  },
  {
   "cell_type": "code",
   "execution_count": 75,
   "metadata": {},
   "outputs": [
    {
     "data": {
      "text/plain": [
       "9292"
      ]
     },
     "execution_count": 75,
     "metadata": {},
     "output_type": "execute_result"
    }
   ],
   "source": [
    "size(item_gsn, 1)"
   ]
  },
  {
   "cell_type": "markdown",
   "metadata": {},
   "source": [
    "`persons`"
   ]
  },
  {
   "cell_type": "code",
   "execution_count": 76,
   "metadata": {},
   "outputs": [],
   "source": [
    "table_name = gs_db * \".persons\"\n",
    "sql = \"SELECT p.id as id_person_gso, item_id, \" *\n",
    "\"namenspraefix, vorname, familienname, \" *\n",
    "\"sterbedatum, geburtsdatum, `orden`, \" *\n",
    "\"anmerkungen, titel, \" * \n",
    "\"gndnummer, viaf, \" *\n",
    "\"familiennamenvarianten, vornamenvarianten, \" *\n",
    "\"namenszusatz, \" *\n",
    "\"zeitraum_von, zeitraum_bis \" *\n",
    "\"FROM $(table_name) as p \" *\n",
    "\"JOIN $gs_db.items ON items.id = p.item_id \" *\n",
    "\"WHERE items.status = 'online' AND NOT items.deleted \" *\n",
    "\"ORDER BY p.id\";\n",
    "df_p = Wds.sql_df(sql);"
   ]
  },
  {
   "cell_type": "code",
   "execution_count": 77,
   "metadata": {},
   "outputs": [],
   "source": [
    "Wds.clean_up!(df_p)"
   ]
  },
  {
   "cell_type": "code",
   "execution_count": 78,
   "metadata": {},
   "outputs": [],
   "source": [
    "one_valid(x, y) = !ismissing(x) | !ismissing(y)\n",
    "subset!(df_p, [:vorname, :familienname] => ByRow(one_valid));"
   ]
  },
  {
   "cell_type": "code",
   "execution_count": 79,
   "metadata": {},
   "outputs": [
    {
     "data": {
      "text/plain": [
       "4-element Vector{String}:\n",
       " \"gsn_id\"\n",
       " \"item_id\"\n",
       " \"gsn\"\n",
       " \"status\""
      ]
     },
     "execution_count": 79,
     "metadata": {},
     "output_type": "execute_result"
    }
   ],
   "source": [
    "names(item_gsn)"
   ]
  },
  {
   "cell_type": "code",
   "execution_count": 80,
   "metadata": {},
   "outputs": [],
   "source": [
    "df_p_gsn = innerjoin(df_p, item_gsn, on = :item_id);"
   ]
  },
  {
   "cell_type": "code",
   "execution_count": 81,
   "metadata": {},
   "outputs": [
    {
     "data": {
      "text/plain": [
       "9292"
      ]
     },
     "execution_count": 81,
     "metadata": {},
     "output_type": "execute_result"
    }
   ],
   "source": [
    "size(df_p_gsn, 1)"
   ]
  },
  {
   "cell_type": "markdown",
   "metadata": {},
   "source": [
    "### IDs zuordnen\n",
    "Lies bestehende IDs.  \n"
   ]
  },
  {
   "cell_type": "markdown",
   "metadata": {},
   "source": [
    "*2022-01-19* IDs sind von WIAG 1 zu übernehmen, später bei einem Update aus dem jeweils zuletzt verwendeten Datensatz (siehe unten)"
   ]
  },
  {
   "cell_type": "code",
   "execution_count": 56,
   "metadata": {},
   "outputs": [
    {
     "ename": "LoadError",
     "evalue": "(1146): Table 'wiag.cn_canon_gs' doesn't exist",
     "output_type": "error",
     "traceback": [
      "(1146): Table 'wiag.cn_canon_gs' doesn't exist",
      "",
      "Stacktrace:",
      " [1] query",
      "   @ C:\\Users\\georg\\.julia\\packages\\MySQL\\EgAUf\\src\\api\\capi.jl:4 [inlined]",
      " [2] execute(conn::MySQL.Connection, sql::String, params::Tuple{}; mysql_store_result::Bool, mysql_date_and_time::Bool)",
      "   @ MySQL C:\\Users\\georg\\.julia\\packages\\MySQL\\EgAUf\\src\\execute.jl:158",
      " [3] execute (repeats 2 times)",
      "   @ C:\\Users\\georg\\.julia\\packages\\MySQL\\EgAUf\\src\\execute.jl:155 [inlined]",
      " [4] sql_df(sql::String)",
      "   @ WiagDataSetup C:\\Users\\georg\\Documents\\projekte\\WiagDataSetup.jl\\src\\WiagDataSetup.jl:39",
      " [5] top-level scope",
      "   @ In[56]:2",
      " [6] eval",
      "   @ .\\boot.jl:373 [inlined]",
      " [7] include_string(mapexpr::typeof(REPL.softscope), mod::Module, code::String, filename::String)",
      "   @ Base .\\loading.jl:1196"
     ]
    }
   ],
   "source": [
    "sql = \"SELECT id AS id_wiag, id_person_gso FROM wiag.cn_canon_gs\"\n",
    "df_id_cn_wiag = Wds.sql_df(sql);"
   ]
  },
  {
   "cell_type": "code",
   "execution_count": 84,
   "metadata": {},
   "outputs": [
    {
     "data": {
      "text/html": [
       "<div class=\"data-frame\"><p>5 rows × 2 columns</p><table class=\"data-frame\"><thead><tr><th></th><th>id_public</th><th>id_person_gso</th></tr><tr><th></th><th title=\"Int32\">Int32</th><th title=\"Union{Missing, Int32}\">Int32?</th></tr></thead><tbody><tr><th>1</th><td>80211</td><td>8556</td></tr><tr><th>2</th><td>80212</td><td>8561</td></tr><tr><th>3</th><td>80213</td><td>8606</td></tr><tr><th>4</th><td>80214</td><td>8607</td></tr><tr><th>5</th><td>80215</td><td>8620</td></tr></tbody></table></div>"
      ],
      "text/latex": [
       "\\begin{tabular}{r|cc}\n",
       "\t& id\\_public & id\\_person\\_gso\\\\\n",
       "\t\\hline\n",
       "\t& Int32 & Int32?\\\\\n",
       "\t\\hline\n",
       "\t1 & 80211 & 8556 \\\\\n",
       "\t2 & 80212 & 8561 \\\\\n",
       "\t3 & 80213 & 8606 \\\\\n",
       "\t4 & 80214 & 8607 \\\\\n",
       "\t5 & 80215 & 8620 \\\\\n",
       "\\end{tabular}\n"
      ],
      "text/plain": [
       "\u001b[1m5×2 DataFrame\u001b[0m\n",
       "\u001b[1m Row \u001b[0m│\u001b[1m id_public \u001b[0m\u001b[1m id_person_gso \u001b[0m\n",
       "\u001b[1m     \u001b[0m│\u001b[90m Int32     \u001b[0m\u001b[90m Int32?        \u001b[0m\n",
       "─────┼──────────────────────────\n",
       "   1 │     80211           8556\n",
       "   2 │     80212           8561\n",
       "   3 │     80213           8606\n",
       "   4 │     80214           8607\n",
       "   5 │     80215           8620"
      ]
     },
     "execution_count": 84,
     "metadata": {},
     "output_type": "execute_result"
    }
   ],
   "source": [
    "df_id_cn_wiag[201:205, :]"
   ]
  },
  {
   "cell_type": "markdown",
   "metadata": {},
   "source": [
    "*2022-04-27* IDs aus `wiag2_save`  \n",
    "*2022-10-15* IDs aus `wiag2.item`  \n",
    "*2022-10-19* IDs aus `wiag2.item`"
   ]
  },
  {
   "cell_type": "code",
   "execution_count": 82,
   "metadata": {},
   "outputs": [],
   "source": [
    "db_save = \"wiag2\";\n",
    "table_name = db_save * \".item\";\n",
    "sql = \"SELECT id_public, id_in_source as id_person_gso\n",
    "FROM $(table_name)\n",
    "WHERE item_type_id = $(item_type_id)\";\n",
    "df_id_cn_wiag = Wds.sql_df(sql);"
   ]
  },
  {
   "cell_type": "code",
   "execution_count": 83,
   "metadata": {},
   "outputs": [
    {
     "data": {
      "text/plain": [
       "get_id_wiag (generic function with 1 method)"
      ]
     },
     "execution_count": 83,
     "metadata": {},
     "output_type": "execute_result"
    }
   ],
   "source": [
    "# nur wenn die Quelle wiag2 ist\n",
    "function get_id_wiag(id_public)\n",
    "    rgx = r\"WIAG-Pers-CANON-([0-9]+)-0[0-9][0-9]\"\n",
    "    rgm = match(rgx, id_public)\n",
    "    if isnothing(rgm)\n",
    "        @warn \"no match for\" id_public\n",
    "        return missing\n",
    "    else\n",
    "        return parse(Int, rgm[1])\n",
    "    end\n",
    "end"
   ]
  },
  {
   "cell_type": "code",
   "execution_count": 84,
   "metadata": {},
   "outputs": [
    {
     "data": {
      "text/plain": [
       "80212"
      ]
     },
     "execution_count": 84,
     "metadata": {},
     "output_type": "execute_result"
    }
   ],
   "source": [
    "get_id_wiag(\"WIAG-Pers-CANON-80212-001\")"
   ]
  },
  {
   "cell_type": "code",
   "execution_count": 85,
   "metadata": {},
   "outputs": [],
   "source": [
    "transform!(df_id_cn_wiag, :id_public => ByRow(get_id_wiag) => :id_wiag);"
   ]
  },
  {
   "cell_type": "code",
   "execution_count": 86,
   "metadata": {},
   "outputs": [],
   "source": [
    "# nur wenn die Quelle wiag2 ist\n",
    "transform!(df_p_gsn, :id_person_gso => ByRow(string) => :id_person_gso);"
   ]
  },
  {
   "cell_type": "code",
   "execution_count": 87,
   "metadata": {},
   "outputs": [
    {
     "data": {
      "text/html": [
       "<div class=\"data-frame\"><p>5 rows × 5 columns</p><table class=\"data-frame\"><thead><tr><th></th><th>id_person_gso</th><th>item_id</th><th>vorname</th><th>gsn</th><th>status</th></tr><tr><th></th><th title=\"String\">String</th><th title=\"Int32\">Int32</th><th title=\"Union{Missing, String}\">String?</th><th title=\"Union{Missing, String}\">String?</th><th title=\"String\">String</th></tr></thead><tbody><tr><th>1</th><td>5049</td><td>5049</td><td>Matthäus</td><td>003-00513-001</td><td>online</td></tr><tr><th>2</th><td>5090</td><td>5090</td><td>Joachim</td><td>003-00554-001</td><td>online</td></tr><tr><th>3</th><td>5092</td><td>5092</td><td>Jakob</td><td>003-00556-001</td><td>online</td></tr><tr><th>4</th><td>5096</td><td>5096</td><td>Peter</td><td>003-00560-001</td><td>online</td></tr><tr><th>5</th><td>5135</td><td>5135</td><td>Gebhard</td><td>003-00599-001</td><td>online</td></tr></tbody></table></div>"
      ],
      "text/latex": [
       "\\begin{tabular}{r|ccccc}\n",
       "\t& id\\_person\\_gso & item\\_id & vorname & gsn & status\\\\\n",
       "\t\\hline\n",
       "\t& String & Int32 & String? & String? & String\\\\\n",
       "\t\\hline\n",
       "\t1 & 5049 & 5049 & Matthäus & 003-00513-001 & online \\\\\n",
       "\t2 & 5090 & 5090 & Joachim & 003-00554-001 & online \\\\\n",
       "\t3 & 5092 & 5092 & Jakob & 003-00556-001 & online \\\\\n",
       "\t4 & 5096 & 5096 & Peter & 003-00560-001 & online \\\\\n",
       "\t5 & 5135 & 5135 & Gebhard & 003-00599-001 & online \\\\\n",
       "\\end{tabular}\n"
      ],
      "text/plain": [
       "\u001b[1m5×5 DataFrame\u001b[0m\n",
       "\u001b[1m Row \u001b[0m│\u001b[1m id_person_gso \u001b[0m\u001b[1m item_id \u001b[0m\u001b[1m vorname  \u001b[0m\u001b[1m gsn           \u001b[0m\u001b[1m status \u001b[0m\n",
       "\u001b[1m     \u001b[0m│\u001b[90m String        \u001b[0m\u001b[90m Int32   \u001b[0m\u001b[90m String?  \u001b[0m\u001b[90m String?       \u001b[0m\u001b[90m String \u001b[0m\n",
       "─────┼─────────────────────────────────────────────────────────\n",
       "   1 │ 5049              5049  Matthäus  003-00513-001  online\n",
       "   2 │ 5090              5090  Joachim   003-00554-001  online\n",
       "   3 │ 5092              5092  Jakob     003-00556-001  online\n",
       "   4 │ 5096              5096  Peter     003-00560-001  online\n",
       "   5 │ 5135              5135  Gebhard   003-00599-001  online"
      ]
     },
     "execution_count": 87,
     "metadata": {},
     "output_type": "execute_result"
    }
   ],
   "source": [
    "df_p_gsn[21:25, [:id_person_gso, :item_id, :vorname, :gsn, :status]]"
   ]
  },
  {
   "cell_type": "code",
   "execution_count": 88,
   "metadata": {},
   "outputs": [
    {
     "data": {
      "text/html": [
       "<div class=\"data-frame\"><p>5 rows × 3 columns</p><table class=\"data-frame\"><thead><tr><th></th><th>id_public</th><th>id_person_gso</th><th>id_wiag</th></tr><tr><th></th><th title=\"Union{Missing, String}\">String?</th><th title=\"Union{Missing, String}\">String?</th><th title=\"Int64\">Int64</th></tr></thead><tbody><tr><th>1</th><td>WIAG-Pers-CANON-80010-001</td><td>4749</td><td>80010</td></tr><tr><th>2</th><td>WIAG-Pers-CANON-80009-001</td><td>4719</td><td>80009</td></tr><tr><th>3</th><td>WIAG-Pers-CANON-80008-001</td><td>4705</td><td>80008</td></tr><tr><th>4</th><td>WIAG-Pers-CANON-80007-001</td><td>4698</td><td>80007</td></tr><tr><th>5</th><td>WIAG-Pers-CANON-80006-001</td><td>4684</td><td>80006</td></tr></tbody></table></div>"
      ],
      "text/latex": [
       "\\begin{tabular}{r|ccc}\n",
       "\t& id\\_public & id\\_person\\_gso & id\\_wiag\\\\\n",
       "\t\\hline\n",
       "\t& String? & String? & Int64\\\\\n",
       "\t\\hline\n",
       "\t1 & WIAG-Pers-CANON-80010-001 & 4749 & 80010 \\\\\n",
       "\t2 & WIAG-Pers-CANON-80009-001 & 4719 & 80009 \\\\\n",
       "\t3 & WIAG-Pers-CANON-80008-001 & 4705 & 80008 \\\\\n",
       "\t4 & WIAG-Pers-CANON-80007-001 & 4698 & 80007 \\\\\n",
       "\t5 & WIAG-Pers-CANON-80006-001 & 4684 & 80006 \\\\\n",
       "\\end{tabular}\n"
      ],
      "text/plain": [
       "\u001b[1m5×3 DataFrame\u001b[0m\n",
       "\u001b[1m Row \u001b[0m│\u001b[1m id_public                 \u001b[0m\u001b[1m id_person_gso \u001b[0m\u001b[1m id_wiag \u001b[0m\n",
       "\u001b[1m     \u001b[0m│\u001b[90m String?                   \u001b[0m\u001b[90m String?       \u001b[0m\u001b[90m Int64   \u001b[0m\n",
       "─────┼───────────────────────────────────────────────────\n",
       "   1 │ WIAG-Pers-CANON-80010-001  4749             80010\n",
       "   2 │ WIAG-Pers-CANON-80009-001  4719             80009\n",
       "   3 │ WIAG-Pers-CANON-80008-001  4705             80008\n",
       "   4 │ WIAG-Pers-CANON-80007-001  4698             80007\n",
       "   5 │ WIAG-Pers-CANON-80006-001  4684             80006"
      ]
     },
     "execution_count": 88,
     "metadata": {},
     "output_type": "execute_result"
    }
   ],
   "source": [
    "df_id_cn_wiag[21:25, :]"
   ]
  },
  {
   "cell_type": "code",
   "execution_count": 89,
   "metadata": {},
   "outputs": [],
   "source": [
    "df_cn_id = leftjoin(df_p_gsn, df_id_cn_wiag, on = :id_person_gso);"
   ]
  },
  {
   "cell_type": "code",
   "execution_count": 90,
   "metadata": {},
   "outputs": [
    {
     "data": {
      "text/plain": [
       "(9292, 22)"
      ]
     },
     "execution_count": 90,
     "metadata": {},
     "output_type": "execute_result"
    }
   ],
   "source": [
    "size(df_cn_id)"
   ]
  },
  {
   "cell_type": "code",
   "execution_count": 91,
   "metadata": {},
   "outputs": [
    {
     "data": {
      "text/html": [
       "<div class=\"data-frame\"><p>5 rows × 5 columns</p><table class=\"data-frame\"><thead><tr><th></th><th>id_person_gso</th><th>item_id</th><th>id_wiag</th><th>vorname</th><th>familienname</th></tr><tr><th></th><th title=\"String\">String</th><th title=\"Int32\">Int32</th><th title=\"Union{Missing, Int64}\">Int64?</th><th title=\"Union{Missing, String}\">String?</th><th title=\"Union{Missing, String}\">String?</th></tr></thead><tbody><tr><th>1</th><td>8561</td><td>8561</td><td>80212</td><td>Bruno</td><td>Querfurt</td></tr><tr><th>2</th><td>8606</td><td>8606</td><td>80213</td><td>Burchard</td><td><em>missing</em></td></tr><tr><th>3</th><td>8607</td><td>8607</td><td>80214</td><td>Burchard</td><td><em>missing</em></td></tr><tr><th>4</th><td>8620</td><td>8620</td><td>80215</td><td>Burchard</td><td>Belich</td></tr><tr><th>5</th><td>8623</td><td>8623</td><td>80216</td><td>Burchardt</td><td>Bornstedt</td></tr></tbody></table></div>"
      ],
      "text/latex": [
       "\\begin{tabular}{r|ccccc}\n",
       "\t& id\\_person\\_gso & item\\_id & id\\_wiag & vorname & familienname\\\\\n",
       "\t\\hline\n",
       "\t& String & Int32 & Int64? & String? & String?\\\\\n",
       "\t\\hline\n",
       "\t1 & 8561 & 8561 & 80212 & Bruno & Querfurt \\\\\n",
       "\t2 & 8606 & 8606 & 80213 & Burchard & \\emph{missing} \\\\\n",
       "\t3 & 8607 & 8607 & 80214 & Burchard & \\emph{missing} \\\\\n",
       "\t4 & 8620 & 8620 & 80215 & Burchard & Belich \\\\\n",
       "\t5 & 8623 & 8623 & 80216 & Burchardt & Bornstedt \\\\\n",
       "\\end{tabular}\n"
      ],
      "text/plain": [
       "\u001b[1m5×5 DataFrame\u001b[0m\n",
       "\u001b[1m Row \u001b[0m│\u001b[1m id_person_gso \u001b[0m\u001b[1m item_id \u001b[0m\u001b[1m id_wiag \u001b[0m\u001b[1m vorname   \u001b[0m\u001b[1m familienname \u001b[0m\n",
       "\u001b[1m     \u001b[0m│\u001b[90m String        \u001b[0m\u001b[90m Int32   \u001b[0m\u001b[90m Int64?  \u001b[0m\u001b[90m String?   \u001b[0m\u001b[90m String?      \u001b[0m\n",
       "─────┼──────────────────────────────────────────────────────────\n",
       "   1 │ 8561              8561    80212  Bruno      Querfurt\n",
       "   2 │ 8606              8606    80213  Burchard  \u001b[90m missing      \u001b[0m\n",
       "   3 │ 8607              8607    80214  Burchard  \u001b[90m missing      \u001b[0m\n",
       "   4 │ 8620              8620    80215  Burchard   Belich\n",
       "   5 │ 8623              8623    80216  Burchardt  Bornstedt"
      ]
     },
     "execution_count": 91,
     "metadata": {},
     "output_type": "execute_result"
    }
   ],
   "source": [
    "df_cn_id[201:205, [:id_person_gso, :item_id, :id_wiag, :vorname, :familienname]]"
   ]
  },
  {
   "cell_type": "code",
   "execution_count": 92,
   "metadata": {},
   "outputs": [],
   "source": [
    "df_cn_id_id = subset(df_cn_id, :id_wiag => ByRow(!ismissing));\n",
    "df_cn_id_new = subset(df_cn_id, :id_wiag => ByRow(ismissing));"
   ]
  },
  {
   "cell_type": "code",
   "execution_count": 93,
   "metadata": {},
   "outputs": [
    {
     "data": {
      "text/plain": [
       "260"
      ]
     },
     "execution_count": 93,
     "metadata": {},
     "output_type": "execute_result"
    }
   ],
   "source": [
    "size(df_cn_id_new, 1)"
   ]
  },
  {
   "cell_type": "markdown",
   "metadata": {},
   "source": [
    "*2022-03-10* Es sind 83 neue IDs zu vergeben. (zunächst \"nur\" für WIAGweb2)  \n",
    "*2022-04-27* Es sind 502 neue IDs zu vergeben.\n",
    "*2022-05-12* Es sind 511 neue IDs zu vergeben.  \n",
    "*2022-05-20* Es ist 1 neue IDs zu vergeben.  \n",
    "*2022-07-26* Es sind 132 neue IDs zu vergeben.  \n",
    "*2022-10-15* Es sind 51 neue IDs zu vergeben.  \n",
    "*2022-10-19* Es sind 260 neue IDs zu vergeben."
   ]
  },
  {
   "cell_type": "code",
   "execution_count": 94,
   "metadata": {},
   "outputs": [
    {
     "data": {
      "text/plain": [
       "91039"
      ]
     },
     "execution_count": 94,
     "metadata": {},
     "output_type": "execute_result"
    }
   ],
   "source": [
    "next_id = maximum(df_cn_id_id.id_wiag) + 1"
   ]
  },
  {
   "cell_type": "code",
   "execution_count": 95,
   "metadata": {},
   "outputs": [],
   "source": [
    "sort!(df_cn_id_new, :item_id);"
   ]
  },
  {
   "cell_type": "code",
   "execution_count": 96,
   "metadata": {},
   "outputs": [],
   "source": [
    "id = next_id\n",
    "for row in eachrow(df_cn_id_new)\n",
    "    row[:id_wiag] = id\n",
    "    id += 1\n",
    "end"
   ]
  },
  {
   "cell_type": "code",
   "execution_count": 97,
   "metadata": {},
   "outputs": [],
   "source": [
    "sort!(df_cn_id_id, :id_wiag);"
   ]
  },
  {
   "cell_type": "code",
   "execution_count": 98,
   "metadata": {},
   "outputs": [
    {
     "data": {
      "text/html": [
       "<div class=\"data-frame\"><p>6 rows × 5 columns</p><table class=\"data-frame\"><thead><tr><th></th><th>item_id</th><th>gsn_id</th><th>id_wiag</th><th>vorname</th><th>familienname</th></tr><tr><th></th><th title=\"Int32\">Int32</th><th title=\"Int32\">Int32</th><th title=\"Union{Missing, Int64}\">Int64?</th><th title=\"Union{Missing, String}\">String?</th><th title=\"Union{Missing, String}\">String?</th></tr></thead><tbody><tr><th>1</th><td>331538</td><td>372776</td><td>91033</td><td>Bruno</td><td><em>missing</em></td></tr><tr><th>2</th><td>331553</td><td>372853</td><td>91034</td><td>Heinrich I.</td><td><em>missing</em></td></tr><tr><th>3</th><td>331560</td><td>372877</td><td>91035</td><td>Hugo</td><td><em>missing</em></td></tr><tr><th>4</th><td>336969</td><td>380928</td><td>91036</td><td>Eberhard</td><td><em>missing</em></td></tr><tr><th>5</th><td>337014</td><td>381155</td><td>91037</td><td>Gebhard</td><td>Henneberg</td></tr><tr><th>6</th><td>337237</td><td>381785</td><td>91038</td><td>Hunfried</td><td><em>missing</em></td></tr></tbody></table></div>"
      ],
      "text/latex": [
       "\\begin{tabular}{r|ccccc}\n",
       "\t& item\\_id & gsn\\_id & id\\_wiag & vorname & familienname\\\\\n",
       "\t\\hline\n",
       "\t& Int32 & Int32 & Int64? & String? & String?\\\\\n",
       "\t\\hline\n",
       "\t1 & 331538 & 372776 & 91033 & Bruno & \\emph{missing} \\\\\n",
       "\t2 & 331553 & 372853 & 91034 & Heinrich I. & \\emph{missing} \\\\\n",
       "\t3 & 331560 & 372877 & 91035 & Hugo & \\emph{missing} \\\\\n",
       "\t4 & 336969 & 380928 & 91036 & Eberhard & \\emph{missing} \\\\\n",
       "\t5 & 337014 & 381155 & 91037 & Gebhard & Henneberg \\\\\n",
       "\t6 & 337237 & 381785 & 91038 & Hunfried & \\emph{missing} \\\\\n",
       "\\end{tabular}\n"
      ],
      "text/plain": [
       "\u001b[1m6×5 DataFrame\u001b[0m\n",
       "\u001b[1m Row \u001b[0m│\u001b[1m item_id \u001b[0m\u001b[1m gsn_id \u001b[0m\u001b[1m id_wiag \u001b[0m\u001b[1m vorname     \u001b[0m\u001b[1m familienname \u001b[0m\n",
       "\u001b[1m     \u001b[0m│\u001b[90m Int32   \u001b[0m\u001b[90m Int32  \u001b[0m\u001b[90m Int64?  \u001b[0m\u001b[90m String?     \u001b[0m\u001b[90m String?      \u001b[0m\n",
       "─────┼─────────────────────────────────────────────────────\n",
       "   1 │  331538  372776    91033  Bruno       \u001b[90m missing      \u001b[0m\n",
       "   2 │  331553  372853    91034  Heinrich I. \u001b[90m missing      \u001b[0m\n",
       "   3 │  331560  372877    91035  Hugo        \u001b[90m missing      \u001b[0m\n",
       "   4 │  336969  380928    91036  Eberhard    \u001b[90m missing      \u001b[0m\n",
       "   5 │  337014  381155    91037  Gebhard      Henneberg\n",
       "   6 │  337237  381785    91038  Hunfried    \u001b[90m missing      \u001b[0m"
      ]
     },
     "execution_count": 98,
     "metadata": {},
     "output_type": "execute_result"
    }
   ],
   "source": [
    "df_cn_id_id[end-5:end, [:item_id, :gsn_id, :id_wiag, :vorname, :familienname]]"
   ]
  },
  {
   "cell_type": "code",
   "execution_count": 99,
   "metadata": {},
   "outputs": [
    {
     "data": {
      "text/html": [
       "<div class=\"data-frame\"><p>1 rows × 5 columns</p><table class=\"data-frame\"><thead><tr><th></th><th>item_id</th><th>gsn_id</th><th>id_wiag</th><th>vorname</th><th>familienname</th></tr><tr><th></th><th title=\"Int32\">Int32</th><th title=\"Int32\">Int32</th><th title=\"Union{Missing, Int64}\">Int64?</th><th title=\"Union{Missing, String}\">String?</th><th title=\"Union{Missing, String}\">String?</th></tr></thead><tbody><tr><th>1</th><td>26661</td><td>281112</td><td>91039</td><td>Egilulf</td><td><em>missing</em></td></tr></tbody></table></div>"
      ],
      "text/latex": [
       "\\begin{tabular}{r|ccccc}\n",
       "\t& item\\_id & gsn\\_id & id\\_wiag & vorname & familienname\\\\\n",
       "\t\\hline\n",
       "\t& Int32 & Int32 & Int64? & String? & String?\\\\\n",
       "\t\\hline\n",
       "\t1 & 26661 & 281112 & 91039 & Egilulf & \\emph{missing} \\\\\n",
       "\\end{tabular}\n"
      ],
      "text/plain": [
       "\u001b[1m1×5 DataFrame\u001b[0m\n",
       "\u001b[1m Row \u001b[0m│\u001b[1m item_id \u001b[0m\u001b[1m gsn_id \u001b[0m\u001b[1m id_wiag \u001b[0m\u001b[1m vorname \u001b[0m\u001b[1m familienname \u001b[0m\n",
       "\u001b[1m     \u001b[0m│\u001b[90m Int32   \u001b[0m\u001b[90m Int32  \u001b[0m\u001b[90m Int64?  \u001b[0m\u001b[90m String? \u001b[0m\u001b[90m String?      \u001b[0m\n",
       "─────┼─────────────────────────────────────────────────\n",
       "   1 │   26661  281112    91039  Egilulf \u001b[90m missing      \u001b[0m"
      ]
     },
     "execution_count": 99,
     "metadata": {},
     "output_type": "execute_result"
    }
   ],
   "source": [
    "df_cn_id_new[1:1, [:item_id, :gsn_id, :id_wiag, :vorname, :familienname]]"
   ]
  },
  {
   "cell_type": "code",
   "execution_count": 100,
   "metadata": {},
   "outputs": [],
   "source": [
    "df_cn_all = vcat(df_cn_id_id, df_cn_id_new);"
   ]
  },
  {
   "cell_type": "code",
   "execution_count": 101,
   "metadata": {},
   "outputs": [
    {
     "data": {
      "text/plain": [
       "(9292, 9292)"
      ]
     },
     "execution_count": 101,
     "metadata": {},
     "output_type": "execute_result"
    }
   ],
   "source": [
    "size(df_cn_all, 1), size(unique(df_cn_all), 1)"
   ]
  },
  {
   "cell_type": "markdown",
   "metadata": {},
   "source": [
    "Otto mit `id_in_source` = \"325778\" ist doppelt. Wir nehmen ihn nur einmal auf. Die schon mal vergebene `id_public` wird nicht vermisst, wenn es schon immer einen Verweis von einem Domherren aus der Domherrendatenbank gab. Denn dann ist dessen `id_public` relevant."
   ]
  },
  {
   "cell_type": "code",
   "execution_count": 102,
   "metadata": {},
   "outputs": [],
   "source": [
    "unique!(df_cn_all);"
   ]
  },
  {
   "cell_type": "markdown",
   "metadata": {},
   "source": [
    "### Einträge in `item`\n",
    "\n",
    "entsprechende Einträge in Tabelle `item` einfügen\n",
    "\n",
    "`id` für 'Domherr GS' in `item_type`: 6"
   ]
  },
  {
   "cell_type": "code",
   "execution_count": 103,
   "metadata": {},
   "outputs": [
    {
     "data": {
      "text/html": [
       "<div class=\"data-frame\"><p>5 rows × 5 columns</p><table class=\"data-frame\"><thead><tr><th></th><th>vorname</th><th>familienname</th><th>geburtsdatum</th><th>sterbedatum</th><th>id_wiag</th></tr><tr><th></th><th title=\"Union{Missing, String}\">String?</th><th title=\"Union{Missing, String}\">String?</th><th title=\"Union{Missing, String}\">String?</th><th title=\"Union{Missing, String}\">String?</th><th title=\"Union{Missing, Int64}\">Int64?</th></tr></thead><tbody><tr><th>1</th><td>Burchardus</td><td><em>missing</em></td><td><em>missing</em></td><td><em>missing</em></td><td>80225</td></tr><tr><th>2</th><td>Busso</td><td>Bartensleben</td><td><em>missing</em></td><td><em>missing</em></td><td>80226</td></tr><tr><th>3</th><td>Busso</td><td>Britzke</td><td>1534</td><td>1572</td><td>80232</td></tr><tr><th>4</th><td>Busso</td><td>Schilt</td><td><em>missing</em></td><td><em>missing</em></td><td>80234</td></tr><tr><th>5</th><td>Busso</td><td>Schraplau</td><td><em>missing</em></td><td><em>missing</em></td><td>80235</td></tr></tbody></table></div>"
      ],
      "text/latex": [
       "\\begin{tabular}{r|ccccc}\n",
       "\t& vorname & familienname & geburtsdatum & sterbedatum & id\\_wiag\\\\\n",
       "\t\\hline\n",
       "\t& String? & String? & String? & String? & Int64?\\\\\n",
       "\t\\hline\n",
       "\t1 & Burchardus & \\emph{missing} & \\emph{missing} & \\emph{missing} & 80225 \\\\\n",
       "\t2 & Busso & Bartensleben & \\emph{missing} & \\emph{missing} & 80226 \\\\\n",
       "\t3 & Busso & Britzke & 1534 & 1572 & 80232 \\\\\n",
       "\t4 & Busso & Schilt & \\emph{missing} & \\emph{missing} & 80234 \\\\\n",
       "\t5 & Busso & Schraplau & \\emph{missing} & \\emph{missing} & 80235 \\\\\n",
       "\\end{tabular}\n"
      ],
      "text/plain": [
       "\u001b[1m5×5 DataFrame\u001b[0m\n",
       "\u001b[1m Row \u001b[0m│\u001b[1m vorname    \u001b[0m\u001b[1m familienname \u001b[0m\u001b[1m geburtsdatum \u001b[0m\u001b[1m sterbedatum \u001b[0m\u001b[1m id_wiag \u001b[0m\n",
       "\u001b[1m     \u001b[0m│\u001b[90m String?    \u001b[0m\u001b[90m String?      \u001b[0m\u001b[90m String?      \u001b[0m\u001b[90m String?     \u001b[0m\u001b[90m Int64?  \u001b[0m\n",
       "─────┼──────────────────────────────────────────────────────────────\n",
       "   1 │ Burchardus \u001b[90m missing      \u001b[0m\u001b[90m missing      \u001b[0m\u001b[90m missing     \u001b[0m   80225\n",
       "   2 │ Busso       Bartensleben \u001b[90m missing      \u001b[0m\u001b[90m missing     \u001b[0m   80226\n",
       "   3 │ Busso       Britzke       1534          1572           80232\n",
       "   4 │ Busso       Schilt       \u001b[90m missing      \u001b[0m\u001b[90m missing     \u001b[0m   80234\n",
       "   5 │ Busso       Schraplau    \u001b[90m missing      \u001b[0m\u001b[90m missing     \u001b[0m   80235"
      ]
     },
     "execution_count": 103,
     "metadata": {},
     "output_type": "execute_result"
    }
   ],
   "source": [
    "df_cn_all[211:215, [:vorname, :familienname, :geburtsdatum, :sterbedatum, :id_wiag]]"
   ]
  },
  {
   "cell_type": "code",
   "execution_count": 104,
   "metadata": {},
   "outputs": [
    {
     "data": {
      "text/plain": [
       "2-element Vector{Pair{Symbol, Symbol}}:\n",
       " :id_person_gso => :id_in_source\n",
       "       :id_wiag => :id_wiag"
      ]
     },
     "execution_count": 104,
     "metadata": {},
     "output_type": "execute_result"
    }
   ],
   "source": [
    "columns = [\n",
    "    :id_person_gso => :id_in_source,\n",
    "    :id_wiag => :id_wiag\n",
    "]"
   ]
  },
  {
   "cell_type": "code",
   "execution_count": 105,
   "metadata": {},
   "outputs": [],
   "source": [
    "df_item = select(df_cn_all, columns);"
   ]
  },
  {
   "cell_type": "code",
   "execution_count": 106,
   "metadata": {},
   "outputs": [],
   "source": [
    "using Dates"
   ]
  },
  {
   "cell_type": "markdown",
   "metadata": {},
   "source": [
    "*2022-10-15 und später* user wiag hat die ID 40"
   ]
  },
  {
   "cell_type": "code",
   "execution_count": 107,
   "metadata": {},
   "outputs": [],
   "source": [
    "user_wiag_id = 40;\n",
    "time_stamp = Dates.format(now(), dateformat\"yyyy-mm-dd HH:MM\");"
   ]
  },
  {
   "cell_type": "code",
   "execution_count": 108,
   "metadata": {},
   "outputs": [],
   "source": [
    "insertcols!(\n",
    "    df_item, \n",
    "    1,\n",
    "    :item_type_id => item_type_id,\n",
    "    :edit_status => \"importiert\",\n",
    "    :created_by => user_wiag_id,\n",
    "    :date_created => time_stamp,\n",
    "    :changed_by => user_wiag_id,\n",
    "    :date_changed => time_stamp,\n",
    "    :is_online => 1\n",
    ");"
   ]
  },
  {
   "cell_type": "code",
   "execution_count": 109,
   "metadata": {},
   "outputs": [
    {
     "data": {
      "text/html": [
       "<p>DataFrameRow (9 columns)</p><div class=\"data-frame\"><table class=\"data-frame\"><thead><tr><th></th><th>item_type_id</th><th>edit_status</th><th>created_by</th><th>date_created</th><th>changed_by</th><th>date_changed</th><th>is_online</th><th>id_in_source</th><th>id_wiag</th></tr><tr><th></th><th title=\"Int64\">Int64</th><th title=\"String\">String</th><th title=\"Int64\">Int64</th><th title=\"String\">String</th><th title=\"Int64\">Int64</th><th title=\"String\">String</th><th title=\"Int64\">Int64</th><th title=\"String\">String</th><th title=\"Union{Missing, Int64}\">Int64?</th></tr></thead><tbody><tr><th>17</th><td>6</td><td>importiert</td><td>40</td><td>2022-10-19 15:36</td><td>40</td><td>2022-10-19 15:36</td><td>1</td><td>4904</td><td>80018</td></tr></tbody></table></div>"
      ],
      "text/latex": [
       "\\begin{tabular}{r|ccccccccc}\n",
       "\t& item\\_type\\_id & edit\\_status & created\\_by & date\\_created & changed\\_by & date\\_changed & is\\_online & id\\_in\\_source & id\\_wiag\\\\\n",
       "\t\\hline\n",
       "\t& Int64 & String & Int64 & String & Int64 & String & Int64 & String & Int64?\\\\\n",
       "\t\\hline\n",
       "\t17 & 6 & importiert & 40 & 2022-10-19 15:36 & 40 & 2022-10-19 15:36 & 1 & 4904 & 80018 \\\\\n",
       "\\end{tabular}\n"
      ],
      "text/plain": [
       "\u001b[1mDataFrameRow\u001b[0m\n",
       "\u001b[1m Row \u001b[0m│\u001b[1m item_type_id \u001b[0m\u001b[1m edit_status \u001b[0m\u001b[1m created_by \u001b[0m\u001b[1m date_created     \u001b[0m\u001b[1m changed_by \u001b[0m\u001b[1m date_changed     \u001b[0m\u001b[1m is_online \u001b[0m\u001b[1m id_in_source \u001b[0m\u001b[1m\u001b[0m ⋯\n",
       "\u001b[1m     \u001b[0m│\u001b[90m Int64        \u001b[0m\u001b[90m String      \u001b[0m\u001b[90m Int64      \u001b[0m\u001b[90m String           \u001b[0m\u001b[90m Int64      \u001b[0m\u001b[90m String           \u001b[0m\u001b[90m Int64     \u001b[0m\u001b[90m String       \u001b[0m\u001b[90m\u001b[0m ⋯\n",
       "─────┼──────────────────────────────────────────────────────────────────────────────────────────────────────────────────\n",
       "  17 │            6  importiert           40  2022-10-19 15:36          40  2022-10-19 15:36          1  4904          ⋯\n",
       "\u001b[36m                                                                                                        1 column omitted\u001b[0m"
      ]
     },
     "execution_count": 109,
     "metadata": {},
     "output_type": "execute_result"
    }
   ],
   "source": [
    "df_item[17, :]"
   ]
  },
  {
   "cell_type": "markdown",
   "metadata": {},
   "source": [
    "Public ID erzeugen"
   ]
  },
  {
   "cell_type": "code",
   "execution_count": 110,
   "metadata": {},
   "outputs": [
    {
     "data": {
      "text/plain": [
       "make_id_public (generic function with 1 method)"
      ]
     },
     "execution_count": 110,
     "metadata": {},
     "output_type": "execute_result"
    }
   ],
   "source": [
    "function make_id_public(id::Real)\n",
    "    id_public_key = \"Pers-CANON\"\n",
    "    num_id_length = 5\n",
    "    return \"WIAG-\" * id_public_key * \"-\" * lpad(id, num_id_length, '0') * \"-001\"\n",
    "end"
   ]
  },
  {
   "cell_type": "code",
   "execution_count": 111,
   "metadata": {},
   "outputs": [],
   "source": [
    "transform!(df_item, :id_wiag => ByRow(make_id_public) => :id_public);"
   ]
  },
  {
   "cell_type": "code",
   "execution_count": 112,
   "metadata": {},
   "outputs": [
    {
     "data": {
      "text/plain": [
       "10-element Vector{String}:\n",
       " \"item_type_id\"\n",
       " \"edit_status\"\n",
       " \"created_by\"\n",
       " \"date_created\"\n",
       " \"changed_by\"\n",
       " \"date_changed\"\n",
       " \"is_online\"\n",
       " \"id_in_source\"\n",
       " \"id_wiag\"\n",
       " \"id_public\""
      ]
     },
     "execution_count": 112,
     "metadata": {},
     "output_type": "execute_result"
    }
   ],
   "source": [
    "names(df_item)"
   ]
  },
  {
   "cell_type": "markdown",
   "metadata": {},
   "source": [
    "Bestehende Einträge löschen  \n",
    "Die Einträge in `item` sind bei einem Update als letztes zu löschen, da die anderen Tabellen von Tabelle `item` abhängen."
   ]
  },
  {
   "cell_type": "code",
   "execution_count": 113,
   "metadata": {},
   "outputs": [
    {
     "data": {
      "text/plain": [
       "6"
      ]
     },
     "execution_count": 113,
     "metadata": {},
     "output_type": "execute_result"
    }
   ],
   "source": [
    "item_type_id"
   ]
  },
  {
   "cell_type": "code",
   "execution_count": 114,
   "metadata": {},
   "outputs": [
    {
     "data": {
      "text/plain": [
       "MySQL.TextCursor{true}(MySQL.Connection(host=\"127.0.0.1\", user=\"georg\", port=\"3306\", db=\"wiag2\"), \"DELETE FROM item WHERE item_type_id = 6\", 0, -1, 9119, MySQL.API.MYSQL_RES(Ptr{Nothing} @0x0000000000000000), Symbol[], Type[], Dict{Symbol, Int64}(), 0, 1, false)"
      ]
     },
     "execution_count": 114,
     "metadata": {},
     "output_type": "execute_result"
    }
   ],
   "source": [
    "table_name = \"item\";\n",
    "sql = \"DELETE FROM $(table_name) WHERE item_type_id = $(item_type_id)\"\n",
    "DBInterface.execute(Wds.dbwiag, sql)"
   ]
  },
  {
   "cell_type": "code",
   "execution_count": 115,
   "metadata": {},
   "outputs": [
    {
     "data": {
      "text/plain": [
       "1-element Vector{Symbol}:\n",
       " :id_wiag"
      ]
     },
     "execution_count": 115,
     "metadata": {},
     "output_type": "execute_result"
    }
   ],
   "source": [
    "exclude_cols = [\n",
    "    :id_wiag,    \n",
    "]"
   ]
  },
  {
   "cell_type": "code",
   "execution_count": 116,
   "metadata": {},
   "outputs": [
    {
     "name": "stderr",
     "output_type": "stream",
     "text": [
      "┌ Info: Rows inserted: 9292\n",
      "└ @ WiagDataSetup C:\\Users\\georg\\Documents\\projekte\\WiagDataSetup.jl\\src\\WiagDataSetup.jl:1216\n"
     ]
    },
    {
     "data": {
      "text/plain": [
       "9292"
      ]
     },
     "execution_count": 116,
     "metadata": {},
     "output_type": "execute_result"
    }
   ],
   "source": [
    "table_name = \"item\";\n",
    "Wds.filltable!(table_name, select(df_item, Not(exclude_cols)), clear_table = false)"
   ]
  },
  {
   "cell_type": "markdown",
   "metadata": {},
   "source": [
    "| Datum | Zahl |\n",
    "|:--- |:--- |\n",
    "|*2022-04-27* | 8936 |\n",
    "|*2022-07-26* | 9069 |\n",
    "|*2022-10-15* | 9119 |\n",
    "|*2022-10-19* | 9292 |"
   ]
  },
  {
   "cell_type": "markdown",
   "metadata": {},
   "source": [
    "### Daten eintragen\n",
    "\n",
    "IDs auslesen"
   ]
  },
  {
   "cell_type": "code",
   "execution_count": 117,
   "metadata": {},
   "outputs": [],
   "source": [
    "table_name = \"item\";\n",
    "sql = \"SELECT id, id_in_source FROM $(table_name) where item_type_id = ($item_type_id)\"\n",
    "df_idx = DBInterface.execute(Wds.dbwiag, sql) |> DataFrame;"
   ]
  },
  {
   "cell_type": "code",
   "execution_count": 118,
   "metadata": {},
   "outputs": [
    {
     "data": {
      "text/plain": [
       "(9292, 2)"
      ]
     },
     "execution_count": 118,
     "metadata": {},
     "output_type": "execute_result"
    }
   ],
   "source": [
    "size(df_idx)"
   ]
  },
  {
   "cell_type": "markdown",
   "metadata": {},
   "source": [
    "Spalte für die Zusammenführung befüllen (Typ: String!)"
   ]
  },
  {
   "cell_type": "code",
   "execution_count": 119,
   "metadata": {},
   "outputs": [],
   "source": [
    "transform!(df_cn_all, :id_person_gso => ByRow(string) => :id_in_source);"
   ]
  },
  {
   "cell_type": "code",
   "execution_count": 120,
   "metadata": {},
   "outputs": [],
   "source": [
    "df_cn_idx = innerjoin(df_idx, df_cn_all, on = :id_in_source);"
   ]
  },
  {
   "cell_type": "code",
   "execution_count": 121,
   "metadata": {},
   "outputs": [
    {
     "data": {
      "text/plain": [
       "(9292, 9292, 9292)"
      ]
     },
     "execution_count": 121,
     "metadata": {},
     "output_type": "execute_result"
    }
   ],
   "source": [
    "length(unique(df_cn_idx.id_in_source)), size(df_cn_all, 1), size(df_cn_idx, 1)"
   ]
  },
  {
   "cell_type": "markdown",
   "metadata": {},
   "source": [
    "*2022-05-20* doppelter Verweis auf Otto in `item` bereinigt  \n",
    "begin debug"
   ]
  },
  {
   "cell_type": "code",
   "execution_count": 173,
   "metadata": {},
   "outputs": [
    {
     "data": {
      "text/plain": [
       "freq (generic function with 1 method)"
      ]
     },
     "execution_count": 173,
     "metadata": {},
     "output_type": "execute_result"
    }
   ],
   "source": [
    "function freq(v)\n",
    "    f_count = Dict{eltype(v), Int}()\n",
    "    for e in v\n",
    "        f_count[e] = get(f_count, e, 0) + 1\n",
    "    end\n",
    "    return DataFrame(val = collect(keys(f_count)), freq = collect(values(f_count)))\n",
    "end"
   ]
  },
  {
   "cell_type": "code",
   "execution_count": 174,
   "metadata": {},
   "outputs": [],
   "source": [
    "df_info_cn_n = freq(df_cn_idx.id_in_source);"
   ]
  },
  {
   "cell_type": "code",
   "execution_count": 175,
   "metadata": {},
   "outputs": [
    {
     "data": {
      "text/html": [
       "<div class=\"data-frame\"><p>0 rows × 2 columns</p><table class=\"data-frame\"><thead><tr><th></th><th>val</th><th>freq</th></tr><tr><th></th><th title=\"Union{Missing, String}\">String?</th><th title=\"Int64\">Int64</th></tr></thead><tbody></tbody></table></div>"
      ],
      "text/latex": [
       "\\begin{tabular}{r|cc}\n",
       "\t& val & freq\\\\\n",
       "\t\\hline\n",
       "\t& String? & Int64\\\\\n",
       "\t\\hline\n",
       "\\end{tabular}\n"
      ],
      "text/plain": [
       "\u001b[1m0×2 DataFrame\u001b[0m"
      ]
     },
     "execution_count": 175,
     "metadata": {},
     "output_type": "execute_result"
    }
   ],
   "source": [
    "subset(df_info_cn_n, :freq => ByRow((x -> x > 1)))"
   ]
  },
  {
   "cell_type": "code",
   "execution_count": 176,
   "metadata": {},
   "outputs": [
    {
     "data": {
      "text/html": [
       "<div class=\"data-frame\"><p>1 rows × 24 columns (omitted printing of 14 columns)</p><table class=\"data-frame\"><thead><tr><th></th><th>id</th><th>id_in_source</th><th>id_person_gso</th><th>item_id</th><th>namenspraefix</th><th>vorname</th><th>familienname</th><th>sterbedatum</th><th>geburtsdatum</th><th>orden</th></tr><tr><th></th><th title=\"Int32\">Int32</th><th title=\"Union{Missing, String}\">String?</th><th title=\"String\">String</th><th title=\"Int32\">Int32</th><th title=\"Union{Missing, String}\">String?</th><th title=\"Union{Missing, String}\">String?</th><th title=\"Union{Missing, String}\">String?</th><th title=\"Union{Missing, String}\">String?</th><th title=\"Union{Missing, String}\">String?</th><th title=\"Union{Missing, String}\">String?</th></tr></thead><tbody><tr><th>1</th><td>308831</td><td>325778</td><td>325778</td><td>332194</td><td><em>missing</em></td><td>Otto</td><td><em>missing</em></td><td>wohl 1181</td><td><em>missing</em></td><td><em>missing</em></td></tr></tbody></table></div>"
      ],
      "text/latex": [
       "\\begin{tabular}{r|ccccccccccc}\n",
       "\t& id & id\\_in\\_source & id\\_person\\_gso & item\\_id & namenspraefix & vorname & familienname & sterbedatum & geburtsdatum & orden & \\\\\n",
       "\t\\hline\n",
       "\t& Int32 & String? & String & Int32 & String? & String? & String? & String? & String? & String? & \\\\\n",
       "\t\\hline\n",
       "\t1 & 308831 & 325778 & 325778 & 332194 & \\emph{missing} & Otto & \\emph{missing} & wohl 1181 & \\emph{missing} & \\emph{missing} & $\\dots$ \\\\\n",
       "\\end{tabular}\n"
      ],
      "text/plain": [
       "\u001b[1m1×24 DataFrame\u001b[0m\n",
       "\u001b[1m Row \u001b[0m│\u001b[1m id     \u001b[0m\u001b[1m id_in_source \u001b[0m\u001b[1m id_person_gso \u001b[0m\u001b[1m item_id \u001b[0m\u001b[1m namenspraefix \u001b[0m\u001b[1m vorname \u001b[0m\u001b[1m familienname \u001b[0m\u001b[1m sterbedatum \u001b[0m\u001b[1m geburtsdatum \u001b[0m\u001b[1m \u001b[0m ⋯\n",
       "\u001b[1m     \u001b[0m│\u001b[90m Int32  \u001b[0m\u001b[90m String?      \u001b[0m\u001b[90m String        \u001b[0m\u001b[90m Int32   \u001b[0m\u001b[90m String?       \u001b[0m\u001b[90m String? \u001b[0m\u001b[90m String?      \u001b[0m\u001b[90m String?     \u001b[0m\u001b[90m String?      \u001b[0m\u001b[90m \u001b[0m ⋯\n",
       "─────┼──────────────────────────────────────────────────────────────────────────────────────────────────────────────────\n",
       "   1 │ 308831  325778        325778          332194 \u001b[90m missing       \u001b[0m Otto    \u001b[90m missing      \u001b[0m wohl 1181   \u001b[90m missing      \u001b[0m\u001b[90m \u001b[0m ⋯\n",
       "\u001b[36m                                                                                                      15 columns omitted\u001b[0m"
      ]
     },
     "execution_count": 176,
     "metadata": {},
     "output_type": "execute_result"
    }
   ],
   "source": [
    "df_info_mult = subset(df_cn_idx, :id_in_source => ByRow(isequal(\"325778\")))"
   ]
  },
  {
   "cell_type": "code",
   "execution_count": 120,
   "metadata": {},
   "outputs": [
    {
     "data": {
      "text/html": [
       "<div class=\"data-frame\"><p>2 rows × 5 columns</p><table class=\"data-frame\"><thead><tr><th></th><th>id_in_source</th><th>vorname</th><th>familienname</th><th>gsn_id</th><th>gsn</th></tr><tr><th></th><th title=\"String\">String</th><th title=\"Union{Missing, String}\">String?</th><th title=\"Union{Missing, String}\">String?</th><th title=\"Int32\">Int32</th><th title=\"Union{Missing, String}\">String?</th></tr></thead><tbody><tr><th>1</th><td>325778</td><td>Otto</td><td><em>missing</em></td><td>374286</td><td>700-00388-001</td></tr><tr><th>2</th><td>325778</td><td>Otto</td><td><em>missing</em></td><td>374286</td><td>700-00388-001</td></tr></tbody></table></div>"
      ],
      "text/latex": [
       "\\begin{tabular}{r|ccccc}\n",
       "\t& id\\_in\\_source & vorname & familienname & gsn\\_id & gsn\\\\\n",
       "\t\\hline\n",
       "\t& String & String? & String? & Int32 & String?\\\\\n",
       "\t\\hline\n",
       "\t1 & 325778 & Otto & \\emph{missing} & 374286 & 700-00388-001 \\\\\n",
       "\t2 & 325778 & Otto & \\emph{missing} & 374286 & 700-00388-001 \\\\\n",
       "\\end{tabular}\n"
      ],
      "text/plain": [
       "\u001b[1m2×5 DataFrame\u001b[0m\n",
       "\u001b[1m Row \u001b[0m│\u001b[1m id_in_source \u001b[0m\u001b[1m vorname \u001b[0m\u001b[1m familienname \u001b[0m\u001b[1m gsn_id \u001b[0m\u001b[1m gsn           \u001b[0m\n",
       "\u001b[1m     \u001b[0m│\u001b[90m String       \u001b[0m\u001b[90m String? \u001b[0m\u001b[90m String?      \u001b[0m\u001b[90m Int32  \u001b[0m\u001b[90m String?       \u001b[0m\n",
       "─────┼────────────────────────────────────────────────────────────\n",
       "   1 │ 325778        Otto    \u001b[90m missing      \u001b[0m 374286  700-00388-001\n",
       "   2 │ 325778        Otto    \u001b[90m missing      \u001b[0m 374286  700-00388-001"
      ]
     },
     "execution_count": 120,
     "metadata": {},
     "output_type": "execute_result"
    }
   ],
   "source": [
    "df_info_mult[:, [:id_in_source, :vorname, :familienname, :gsn_id, :gsn]]"
   ]
  },
  {
   "cell_type": "code",
   "execution_count": 124,
   "metadata": {},
   "outputs": [],
   "source": [
    "df_cn_all_u = unique(df_cn_all);"
   ]
  },
  {
   "cell_type": "code",
   "execution_count": 125,
   "metadata": {},
   "outputs": [
    {
     "data": {
      "text/plain": [
       "(8957, 23)"
      ]
     },
     "execution_count": 125,
     "metadata": {},
     "output_type": "execute_result"
    }
   ],
   "source": [
    "size(df_cn_all_u)"
   ]
  },
  {
   "cell_type": "markdown",
   "metadata": {},
   "source": [
    "*2022-05-12* Zwei Domherren verweisen über unterschiedliche GSN auf den gleichen Domherren GS\n",
    "*2022-05-20* Die Domherren 13486 und 38149 verweisen beide auf 700-00388-001"
   ]
  },
  {
   "cell_type": "markdown",
   "metadata": {},
   "source": [
    "end debug"
   ]
  },
  {
   "cell_type": "markdown",
   "metadata": {},
   "source": [
    "Jahreszahlen ermitteln"
   ]
  },
  {
   "cell_type": "code",
   "execution_count": 122,
   "metadata": {},
   "outputs": [
    {
     "data": {
      "text/plain": [
       "parse_date_birth (generic function with 1 method)"
      ]
     },
     "execution_count": 122,
     "metadata": {},
     "output_type": "execute_result"
    }
   ],
   "source": [
    "parse_date_birth(s) = Wds.parsemaybe(s, :lower)"
   ]
  },
  {
   "cell_type": "code",
   "execution_count": 123,
   "metadata": {},
   "outputs": [
    {
     "data": {
      "text/plain": [
       "parse_date_death (generic function with 1 method)"
      ]
     },
     "execution_count": 123,
     "metadata": {},
     "output_type": "execute_result"
    }
   ],
   "source": [
    "parse_date_death(s) = Wds.parsemaybe(s, :upper)"
   ]
  },
  {
   "cell_type": "code",
   "execution_count": 124,
   "metadata": {},
   "outputs": [],
   "source": [
    "transform!(df_cn_idx, :geburtsdatum => ByRow(parse_date_birth) => :num_date_birth);"
   ]
  },
  {
   "cell_type": "code",
   "execution_count": 125,
   "metadata": {},
   "outputs": [],
   "source": [
    "transform!(df_cn_idx, :sterbedatum => ByRow(parse_date_death) => :num_date_death);"
   ]
  },
  {
   "cell_type": "code",
   "execution_count": 126,
   "metadata": {},
   "outputs": [],
   "source": [
    "insertcols!(df_cn_idx,\n",
    "    :item_type_id => item_type_id,\n",
    ");"
   ]
  },
  {
   "cell_type": "code",
   "execution_count": 127,
   "metadata": {},
   "outputs": [
    {
     "data": {
      "text/plain": [
       "(9292, 27)"
      ]
     },
     "execution_count": 127,
     "metadata": {},
     "output_type": "execute_result"
    }
   ],
   "source": [
    "size(df_cn_idx)"
   ]
  },
  {
   "cell_type": "markdown",
   "metadata": {},
   "source": [
    "Orden zuordnen"
   ]
  },
  {
   "cell_type": "markdown",
   "metadata": {},
   "source": [
    "Bereinige Einträge"
   ]
  },
  {
   "cell_type": "code",
   "execution_count": 128,
   "metadata": {},
   "outputs": [
    {
     "data": {
      "text/plain": [
       "get_abbreviation (generic function with 1 method)"
      ]
     },
     "execution_count": 128,
     "metadata": {},
     "output_type": "execute_result"
    }
   ],
   "source": [
    "abbrev_dict = Dict(\"Kapuziner\" => \"OFMCap\", \"S. J.\" => \"SJ\")\n",
    "get_abbreviation(order) = get(abbrev_dict, order, order)"
   ]
  },
  {
   "cell_type": "code",
   "execution_count": 129,
   "metadata": {},
   "outputs": [],
   "source": [
    "transform!(df_cn_idx, :orden => ByRow(get_abbreviation) => :orden);"
   ]
  },
  {
   "cell_type": "code",
   "execution_count": 130,
   "metadata": {},
   "outputs": [],
   "source": [
    "sql = \"SELECT id as religious_order_id, abbreviation FROM religious_order\";\n",
    "df_rel_order = Wds.sql_df(sql);"
   ]
  },
  {
   "cell_type": "code",
   "execution_count": 131,
   "metadata": {},
   "outputs": [],
   "source": [
    "df_cn_idx = leftjoin(df_cn_idx, df_rel_order, on = :orden => :abbreviation, matchmissing = :notequal);"
   ]
  },
  {
   "cell_type": "code",
   "execution_count": 132,
   "metadata": {},
   "outputs": [
    {
     "data": {
      "text/plain": [
       "a_not_b (generic function with 1 method)"
      ]
     },
     "execution_count": 132,
     "metadata": {},
     "output_type": "execute_result"
    }
   ],
   "source": [
    "a_not_b(a, b) = !ismissing(a) && ismissing(b)"
   ]
  },
  {
   "cell_type": "code",
   "execution_count": 133,
   "metadata": {},
   "outputs": [],
   "source": [
    "df_cn_no_match = subset(df_cn_idx, [:orden, :religious_order_id] => ByRow(a_not_b));"
   ]
  },
  {
   "cell_type": "code",
   "execution_count": 134,
   "metadata": {},
   "outputs": [
    {
     "data": {
      "text/html": [
       "<div class=\"data-frame\"><p>0 rows × 3 columns</p><table class=\"data-frame\"><thead><tr><th></th><th>id</th><th>id_in_source</th><th>orden</th></tr><tr><th></th><th title=\"Int32\">Int32</th><th title=\"Union{Missing, String}\">String?</th><th title=\"Union{Missing, String}\">String?</th></tr></thead><tbody></tbody></table></div>"
      ],
      "text/latex": [
       "\\begin{tabular}{r|ccc}\n",
       "\t& id & id\\_in\\_source & orden\\\\\n",
       "\t\\hline\n",
       "\t& Int32 & String? & String?\\\\\n",
       "\t\\hline\n",
       "\\end{tabular}\n"
      ],
      "text/plain": [
       "\u001b[1m0×3 DataFrame\u001b[0m"
      ]
     },
     "execution_count": 134,
     "metadata": {},
     "output_type": "execute_result"
    }
   ],
   "source": [
    "df_cn_no_match[:, [:id, :id_in_source, :orden]]"
   ]
  },
  {
   "cell_type": "code",
   "execution_count": 135,
   "metadata": {
    "scrolled": true
   },
   "outputs": [
    {
     "data": {
      "text/plain": [
       "11-element Vector{Pair{Symbol, Symbol}}:\n",
       "                 :id => :id\n",
       "       :item_type_id => :item_type_id\n",
       "      :namenspraefix => :prefixname\n",
       "            :vorname => :givenname\n",
       "       :familienname => :familyname\n",
       "        :anmerkungen => :comment\n",
       "       :geburtsdatum => :date_birth\n",
       "        :sterbedatum => :date_death\n",
       "     :num_date_birth => :num_date_birth\n",
       "     :num_date_death => :num_date_death\n",
       " :religious_order_id => :religious_order_id"
      ]
     },
     "execution_count": 135,
     "metadata": {},
     "output_type": "execute_result"
    }
   ],
   "source": [
    "columns = [\n",
    "    :id => :id,\n",
    "    :item_type_id => :item_type_id,\n",
    "    :namenspraefix => :prefixname,\n",
    "    :vorname => :givenname,\n",
    "    :familienname => :familyname,\n",
    "    :anmerkungen => :comment,\n",
    "    :geburtsdatum => :date_birth,\n",
    "    :sterbedatum => :date_death,\n",
    "    :num_date_birth => :num_date_birth,\n",
    "    :num_date_death => :num_date_death,\n",
    "    :religious_order_id => :religious_order_id,\n",
    "]"
   ]
  },
  {
   "cell_type": "markdown",
   "metadata": {},
   "source": [
    "Einträge löschen (Korrektur/Update)"
   ]
  },
  {
   "cell_type": "code",
   "execution_count": 136,
   "metadata": {},
   "outputs": [],
   "source": [
    "df_cn_db = select(df_cn_idx, columns);"
   ]
  },
  {
   "cell_type": "code",
   "execution_count": 137,
   "metadata": {},
   "outputs": [
    {
     "data": {
      "text/plain": [
       "MySQL.TextCursor{true}(MySQL.Connection(host=\"127.0.0.1\", user=\"georg\", port=\"3306\", db=\"wiag2\"), \"DELETE FROM person\\nWHERE id IN (SELECT id FROM item WHERE item_type_id = 6)\", 0, -1, 0, MySQL.API.MYSQL_RES(Ptr{Nothing} @0x0000000000000000), Symbol[], Type[], Dict{Symbol, Int64}(), 0, 1, false)"
      ]
     },
     "execution_count": 137,
     "metadata": {},
     "output_type": "execute_result"
    }
   ],
   "source": [
    "table_name = \"person\"\n",
    "sql = \"DELETE FROM $(table_name)\n",
    "WHERE id IN (SELECT id FROM item WHERE item_type_id = $(item_type_id))\"\n",
    "DBInterface.execute(Wds.dbwiag, sql)"
   ]
  },
  {
   "cell_type": "code",
   "execution_count": 138,
   "metadata": {},
   "outputs": [
    {
     "name": "stderr",
     "output_type": "stream",
     "text": [
      "┌ Info: Rows inserted: 9292\n",
      "└ @ WiagDataSetup C:\\Users\\georg\\Documents\\projekte\\WiagDataSetup.jl\\src\\WiagDataSetup.jl:1216\n"
     ]
    },
    {
     "data": {
      "text/plain": [
       "9292"
      ]
     },
     "execution_count": 138,
     "metadata": {},
     "output_type": "execute_result"
    }
   ],
   "source": [
    "Wds.filltable!(\"person\", df_cn_db; clear_table=false)"
   ]
  },
  {
   "cell_type": "markdown",
   "metadata": {},
   "source": [
    "### Orden eintragen\n",
    "*2022-01-19* Die (vorläufige) Ordenstabelle basiert auf den Ordensangaben für Bischöfe und auf den Ordensangaben hier.  \n",
    "*2022-07-26, 2022-10-15* Orden sind schon zugeordnet (siehe oben)  "
   ]
  },
  {
   "cell_type": "code",
   "execution_count": 198,
   "metadata": {},
   "outputs": [
    {
     "data": {
      "text/plain": [
       "11-element Vector{Union{Missing, String}}:\n",
       " missing\n",
       " \"OPraem\"\n",
       " \"SJ\"\n",
       " \"OP\"\n",
       " \"Kapuziner\"\n",
       " \"OFMObs\"\n",
       " \"S. J.\"\n",
       " \"OSB\"\n",
       " \"OT\"\n",
       " \"CRVC\"\n",
       " \"OCist\""
      ]
     },
     "execution_count": 198,
     "metadata": {},
     "output_type": "execute_result"
    }
   ],
   "source": [
    "unique(df_cn_all.orden)"
   ]
  },
  {
   "cell_type": "code",
   "execution_count": 199,
   "metadata": {},
   "outputs": [
    {
     "data": {
      "text/plain": [
       "Dict{String, String} with 2 entries:\n",
       "  \"Kapuziner\" => \"OFMCap\"\n",
       "  \"S. J.\"     => \"SJ\""
      ]
     },
     "execution_count": 199,
     "metadata": {},
     "output_type": "execute_result"
    }
   ],
   "source": [
    "lookup_order = Dict(\n",
    "    \"Kapuziner\" => \"OFMCap\",\n",
    "    \"S. J.\" => \"SJ\",\n",
    ")"
   ]
  },
  {
   "cell_type": "code",
   "execution_count": 200,
   "metadata": {},
   "outputs": [
    {
     "data": {
      "text/plain": [
       "normalize_order (generic function with 1 method)"
      ]
     },
     "execution_count": 200,
     "metadata": {},
     "output_type": "execute_result"
    }
   ],
   "source": [
    "normalize_order(order) = get(lookup_order, order, order)"
   ]
  },
  {
   "cell_type": "code",
   "execution_count": 201,
   "metadata": {},
   "outputs": [],
   "source": [
    "transform!(df_cn_idx, :orden => ByRow(normalize_order) => :orden);"
   ]
  },
  {
   "cell_type": "code",
   "execution_count": 202,
   "metadata": {},
   "outputs": [
    {
     "data": {
      "text/plain": [
       "9-element Vector{Union{Missing, String}}:\n",
       " \"OPraem\"\n",
       " \"SJ\"\n",
       " \"OP\"\n",
       " \"OFMCap\"\n",
       " \"OFMObs\"\n",
       " \"OSB\"\n",
       " \"OT\"\n",
       " \"CRVC\"\n",
       " \"OCist\""
      ]
     },
     "execution_count": 202,
     "metadata": {},
     "output_type": "execute_result"
    }
   ],
   "source": [
    "orders_gs = filter(!ismissing, unique(df_cn_idx.orden))"
   ]
  },
  {
   "cell_type": "code",
   "execution_count": 156,
   "metadata": {},
   "outputs": [],
   "source": [
    "table_name = \"religious_order\"\n",
    "sql = \"SELECT abbreviation FROM $(table_name)\"\n",
    "df_orders = Wds.sql_df(sql);"
   ]
  },
  {
   "cell_type": "code",
   "execution_count": 157,
   "metadata": {},
   "outputs": [
    {
     "data": {
      "text/plain": [
       "Union{Missing, String}[]"
      ]
     },
     "execution_count": 157,
     "metadata": {},
     "output_type": "execute_result"
    }
   ],
   "source": [
    "new_orders = setdiff(orders_gs, df_orders.abbreviation)"
   ]
  },
  {
   "cell_type": "markdown",
   "metadata": {},
   "source": [
    "Eintrag in `item`"
   ]
  },
  {
   "cell_type": "markdown",
   "metadata": {},
   "source": [
    "*2022-02-25* Nur nötig, wenn die Orden neu angelegt werden."
   ]
  },
  {
   "cell_type": "code",
   "execution_count": null,
   "metadata": {},
   "outputs": [],
   "source": [
    "table_name = \"item\";\n",
    "sql = \"SELECT * FROM $(table_name) LIMIT 0\";\n",
    "df_item = Wds.sql_df(sql);"
   ]
  },
  {
   "cell_type": "code",
   "execution_count": null,
   "metadata": {},
   "outputs": [],
   "source": [
    "id_next = 22;"
   ]
  },
  {
   "cell_type": "code",
   "execution_count": null,
   "metadata": {},
   "outputs": [],
   "source": [
    "item_type_order = 7;\n",
    "user_wiag_id = 7; # Georg\n",
    "time_stamp = Dates.format(now(), dateformat\"yyyy-mm-dd HH:MM\");"
   ]
  },
  {
   "cell_type": "code",
   "execution_count": null,
   "metadata": {},
   "outputs": [],
   "source": [
    "df_item = select(df_item, Not(:id));"
   ]
  },
  {
   "cell_type": "code",
   "execution_count": null,
   "metadata": {},
   "outputs": [],
   "source": [
    "table_name = \"item\"\n",
    "sql = \"INSERT INTO $(table_name) SET\n",
    "    item_type_id = $(item_type_order),    \n",
    "    id_in_source = $(id_next),\n",
    "    is_deleted = 0,\n",
    "    is_online = 0,\n",
    "    created_by = $(user_wiag_id),\n",
    "    date_created = '$(time_stamp)',\n",
    "    changed_by = $(user_wiag_id),\n",
    "    date_changed = '$(time_stamp)'\"\n",
    "DBInterface.execute(Wds.dbwiag, sql)"
   ]
  },
  {
   "cell_type": "markdown",
   "metadata": {},
   "source": [
    "Lies `item_id` für religiöse Orden aus"
   ]
  },
  {
   "cell_type": "code",
   "execution_count": 144,
   "metadata": {},
   "outputs": [
    {
     "ename": "LoadError",
     "evalue": "UndefVarError: id_next not defined",
     "output_type": "error",
     "traceback": [
      "UndefVarError: id_next not defined",
      "",
      "Stacktrace:",
      " [1] top-level scope",
      "   @ In[144]:2",
      " [2] eval",
      "   @ .\\boot.jl:373 [inlined]",
      " [3] include_string(mapexpr::typeof(REPL.softscope), mod::Module, code::String, filename::String)",
      "   @ Base .\\loading.jl:1196"
     ]
    }
   ],
   "source": [
    "table_name = \"item\"\n",
    "sql = \"SELECT id, id_in_source \n",
    "FROM $(table_name) \n",
    "WHERE id_in_source = $(id_next) and item_type_id = $(item_type_order)\"\n",
    "df_idx = Wds.sql_df(sql);"
   ]
  },
  {
   "cell_type": "code",
   "execution_count": 145,
   "metadata": {},
   "outputs": [
    {
     "data": {
      "text/plain": [
       "249263"
      ]
     },
     "execution_count": 145,
     "metadata": {},
     "output_type": "execute_result"
    }
   ],
   "source": [
    "item_id = df_idx[1, :id]"
   ]
  },
  {
   "cell_type": "code",
   "execution_count": 146,
   "metadata": {},
   "outputs": [
    {
     "data": {
      "text/plain": [
       "MySQL.TextCursor{true}(MySQL.Connection(host=\"127.0.0.1\", user=\"georg\", port=\"3306\", db=\"wiag2\"), \"INSERT INTO religious_order SET id = 249263, abbreviation = 'CRVC'\", 0, -1, 1, MySQL.API.MYSQL_RES(Ptr{Nothing} @0x0000000000000000), Symbol[], Type[], Dict{Symbol, Int64}(), 0, 1, false)"
      ]
     },
     "execution_count": 146,
     "metadata": {},
     "output_type": "execute_result"
    }
   ],
   "source": [
    "table_name = \"religious_order\";\n",
    "sql = \"INSERT INTO $(table_name) SET id = $(item_id), abbreviation = 'CRVC'\";\n",
    "DBInterface.execute(Wds.dbwiag, sql)"
   ]
  },
  {
   "cell_type": "markdown",
   "metadata": {},
   "source": [
    "### Literaturverweise eintragen"
   ]
  },
  {
   "cell_type": "markdown",
   "metadata": {},
   "source": [
    "IDs wieder einlesen, falls hier neu gestartet wird."
   ]
  },
  {
   "cell_type": "code",
   "execution_count": 139,
   "metadata": {},
   "outputs": [],
   "source": [
    "table_name = \"item\";\n",
    "sql = \"SELECT id, id_in_source\n",
    "FROM $(table_name)\n",
    "WHERE item_type_id = $(item_type_id)\";\n",
    "df_idx = Wds.sql_df(sql);"
   ]
  },
  {
   "cell_type": "code",
   "execution_count": 140,
   "metadata": {},
   "outputs": [
    {
     "data": {
      "text/plain": [
       "(9292, 9292)"
      ]
     },
     "execution_count": 140,
     "metadata": {},
     "output_type": "execute_result"
    }
   ],
   "source": [
    "size(df_idx, 1), size(df_p_gsn, 1)"
   ]
  },
  {
   "cell_type": "code",
   "execution_count": 141,
   "metadata": {},
   "outputs": [
    {
     "data": {
      "text/plain": [
       "find_ids (generic function with 1 method)"
      ]
     },
     "execution_count": 141,
     "metadata": {},
     "output_type": "execute_result"
    }
   ],
   "source": [
    "find_ids(id) = id in (\"4586\", \"4590\", \"4620\", \"4623\")"
   ]
  },
  {
   "cell_type": "code",
   "execution_count": 142,
   "metadata": {},
   "outputs": [
    {
     "data": {
      "text/html": [
       "<div class=\"data-frame\"><p>4 rows × 2 columns</p><table class=\"data-frame\"><thead><tr><th></th><th>id</th><th>id_in_source</th></tr><tr><th></th><th title=\"Int32\">Int32</th><th title=\"Union{Missing, String}\">String?</th></tr></thead><tbody><tr><th>1</th><td>480286</td><td>4623</td></tr><tr><th>2</th><td>480287</td><td>4620</td></tr><tr><th>3</th><td>480288</td><td>4590</td></tr><tr><th>4</th><td>480289</td><td>4586</td></tr></tbody></table></div>"
      ],
      "text/latex": [
       "\\begin{tabular}{r|cc}\n",
       "\t& id & id\\_in\\_source\\\\\n",
       "\t\\hline\n",
       "\t& Int32 & String?\\\\\n",
       "\t\\hline\n",
       "\t1 & 480286 & 4623 \\\\\n",
       "\t2 & 480287 & 4620 \\\\\n",
       "\t3 & 480288 & 4590 \\\\\n",
       "\t4 & 480289 & 4586 \\\\\n",
       "\\end{tabular}\n"
      ],
      "text/plain": [
       "\u001b[1m4×2 DataFrame\u001b[0m\n",
       "\u001b[1m Row \u001b[0m│\u001b[1m id     \u001b[0m\u001b[1m id_in_source \u001b[0m\n",
       "\u001b[1m     \u001b[0m│\u001b[90m Int32  \u001b[0m\u001b[90m String?      \u001b[0m\n",
       "─────┼──────────────────────\n",
       "   1 │ 480286  4623\n",
       "   2 │ 480287  4620\n",
       "   3 │ 480288  4590\n",
       "   4 │ 480289  4586"
      ]
     },
     "execution_count": 142,
     "metadata": {},
     "output_type": "execute_result"
    }
   ],
   "source": [
    "subset(df_idx, :id_in_source => ByRow(find_ids))"
   ]
  },
  {
   "cell_type": "code",
   "execution_count": 143,
   "metadata": {},
   "outputs": [
    {
     "data": {
      "text/html": [
       "<div class=\"data-frame\"><p>5 rows × 2 columns</p><table class=\"data-frame\"><thead><tr><th></th><th>id_person_gso</th><th>vorname</th></tr><tr><th></th><th title=\"String\">String</th><th title=\"Union{Missing, String}\">String?</th></tr></thead><tbody><tr><th>1</th><td>4586</td><td>Nikolaus</td></tr><tr><th>2</th><td>4590</td><td>Johann</td></tr><tr><th>3</th><td>4620</td><td>Lorenz</td></tr><tr><th>4</th><td>4623</td><td>Werner</td></tr><tr><th>5</th><td>4678</td><td>Johannes</td></tr></tbody></table></div>"
      ],
      "text/latex": [
       "\\begin{tabular}{r|cc}\n",
       "\t& id\\_person\\_gso & vorname\\\\\n",
       "\t\\hline\n",
       "\t& String & String?\\\\\n",
       "\t\\hline\n",
       "\t1 & 4586 & Nikolaus \\\\\n",
       "\t2 & 4590 & Johann \\\\\n",
       "\t3 & 4620 & Lorenz \\\\\n",
       "\t4 & 4623 & Werner \\\\\n",
       "\t5 & 4678 & Johannes \\\\\n",
       "\\end{tabular}\n"
      ],
      "text/plain": [
       "\u001b[1m5×2 DataFrame\u001b[0m\n",
       "\u001b[1m Row \u001b[0m│\u001b[1m id_person_gso \u001b[0m\u001b[1m vorname  \u001b[0m\n",
       "\u001b[1m     \u001b[0m│\u001b[90m String        \u001b[0m\u001b[90m String?  \u001b[0m\n",
       "─────┼─────────────────────────\n",
       "   1 │ 4586           Nikolaus\n",
       "   2 │ 4590           Johann\n",
       "   3 │ 4620           Lorenz\n",
       "   4 │ 4623           Werner\n",
       "   5 │ 4678           Johannes"
      ]
     },
     "execution_count": 143,
     "metadata": {},
     "output_type": "execute_result"
    }
   ],
   "source": [
    "df_p_gsn[1:5, [:id_person_gso, :vorname]]"
   ]
  },
  {
   "cell_type": "code",
   "execution_count": 144,
   "metadata": {},
   "outputs": [],
   "source": [
    "transform!(df_p_gsn, :id_person_gso => ByRow(string) => :id_in_source);"
   ]
  },
  {
   "cell_type": "code",
   "execution_count": 145,
   "metadata": {},
   "outputs": [],
   "source": [
    "df_cn_idx = innerjoin(df_p_gsn, df_idx, on = :id_in_source);"
   ]
  },
  {
   "cell_type": "code",
   "execution_count": 146,
   "metadata": {},
   "outputs": [
    {
     "data": {
      "text/plain": [
       "9292"
      ]
     },
     "execution_count": 146,
     "metadata": {},
     "output_type": "execute_result"
    }
   ],
   "source": [
    "size(df_cn_idx, 1)"
   ]
  },
  {
   "cell_type": "code",
   "execution_count": null,
   "metadata": {},
   "outputs": [],
   "source": []
  },
  {
   "cell_type": "code",
   "execution_count": 147,
   "metadata": {},
   "outputs": [],
   "source": [
    "table_name = gs_db * \".locations\";\n",
    "sql = \"SELECT item_id as item_id_gs, seiten, book_id  FROM $(table_name) \" * \n",
    "\"WHERE item_status = 'online' AND NOT deleted \" *\n",
    "\"GROUP BY item_id, book_id, seiten\"\n",
    "df_p_ref = Wds.sql_df(sql);"
   ]
  },
  {
   "cell_type": "markdown",
   "metadata": {},
   "source": [
    "Verbinde die Literaturangaben mit den relevanten Domherren"
   ]
  },
  {
   "cell_type": "code",
   "execution_count": 148,
   "metadata": {},
   "outputs": [
    {
     "data": {
      "text/plain": [
       "2-element Vector{Pair{Symbol, Symbol}}:\n",
       "      :id => :item_id\n",
       " :item_id => :item_id_gs"
      ]
     },
     "execution_count": 148,
     "metadata": {},
     "output_type": "execute_result"
    }
   ],
   "source": [
    "columns = [:id => :item_id, :item_id => :item_id_gs]"
   ]
  },
  {
   "cell_type": "code",
   "execution_count": 149,
   "metadata": {},
   "outputs": [],
   "source": [
    "df_p_ref = innerjoin(df_p_ref, select(df_cn_idx, columns), on = :item_id_gs);"
   ]
  },
  {
   "cell_type": "code",
   "execution_count": 150,
   "metadata": {},
   "outputs": [
    {
     "data": {
      "text/plain": [
       "(15480, 4)"
      ]
     },
     "execution_count": 150,
     "metadata": {},
     "output_type": "execute_result"
    }
   ],
   "source": [
    "size(df_p_ref)"
   ]
  },
  {
   "cell_type": "markdown",
   "metadata": {},
   "source": [
    "Übernimm für Domherren mit Kurzbiographie nur Literaturhinweise mit Kurzbiographien (`transfer_gso.sql`: 2021-04-26) Es ist freilich möglich, dass es mehrere Literaturverweise gibt, die eine Kurzbiographie enthalten."
   ]
  },
  {
   "cell_type": "code",
   "execution_count": 151,
   "metadata": {},
   "outputs": [],
   "source": [
    "is_bio(seiten) = contains(seiten, \"<b>\");"
   ]
  },
  {
   "cell_type": "code",
   "execution_count": 152,
   "metadata": {},
   "outputs": [],
   "source": [
    "df_p_ref_bio = subset(df_p_ref, :seiten =>ByRow(is_bio));"
   ]
  },
  {
   "cell_type": "code",
   "execution_count": 153,
   "metadata": {},
   "outputs": [
    {
     "data": {
      "text/plain": [
       "(8114, 4)"
      ]
     },
     "execution_count": 153,
     "metadata": {},
     "output_type": "execute_result"
    }
   ],
   "source": [
    "size(df_p_ref_bio)"
   ]
  },
  {
   "cell_type": "markdown",
   "metadata": {},
   "source": [
    "Bilde die Differenzmenge in Bezug auf Domherren, nicht in Bezug auf Literaturverweise"
   ]
  },
  {
   "cell_type": "code",
   "execution_count": 154,
   "metadata": {},
   "outputs": [
    {
     "data": {
      "text/plain": [
       "is_item_bio (generic function with 1 method)"
      ]
     },
     "execution_count": 154,
     "metadata": {},
     "output_type": "execute_result"
    }
   ],
   "source": [
    "is_item_bio(item_id) = item_id in unique(df_p_ref_bio.item_id)"
   ]
  },
  {
   "cell_type": "code",
   "execution_count": 155,
   "metadata": {},
   "outputs": [],
   "source": [
    "df_p_ref_mg_bio = subset(df_p_ref, :item_id => ByRow(!is_item_bio));"
   ]
  },
  {
   "cell_type": "markdown",
   "metadata": {},
   "source": [
    "Einträge löschen für Korrekturen oder ein Update"
   ]
  },
  {
   "cell_type": "code",
   "execution_count": 156,
   "metadata": {},
   "outputs": [
    {
     "data": {
      "text/plain": [
       "6"
      ]
     },
     "execution_count": 156,
     "metadata": {},
     "output_type": "execute_result"
    }
   ],
   "source": [
    "item_type_id"
   ]
  },
  {
   "cell_type": "code",
   "execution_count": 157,
   "metadata": {},
   "outputs": [
    {
     "data": {
      "text/plain": [
       "MySQL.TextCursor{true}(MySQL.Connection(host=\"127.0.0.1\", user=\"georg\", port=\"3306\", db=\"wiag2\"), \"DELETE FROM item_reference WHERE item_type_id = 6\", 0, -1, 0, MySQL.API.MYSQL_RES(Ptr{Nothing} @0x0000000000000000), Symbol[], Type[], Dict{Symbol, Int64}(), 0, 1, false)"
      ]
     },
     "execution_count": 157,
     "metadata": {},
     "output_type": "execute_result"
    }
   ],
   "source": [
    "table_name = \"item_reference\";\n",
    "sql = \"DELETE FROM $(table_name) WHERE item_type_id = $(item_type_id)\";\n",
    "DBInterface.execute(Wds.dbwiag, sql)"
   ]
  },
  {
   "cell_type": "code",
   "execution_count": 158,
   "metadata": {},
   "outputs": [],
   "source": [
    "insertcols!(df_p_ref_bio, 1, :item_type_id => item_type_id);"
   ]
  },
  {
   "cell_type": "code",
   "execution_count": 159,
   "metadata": {},
   "outputs": [],
   "source": [
    "insertcols!(df_p_ref_mg_bio, 1, :item_type_id => item_type_id);"
   ]
  },
  {
   "cell_type": "code",
   "execution_count": 160,
   "metadata": {},
   "outputs": [
    {
     "data": {
      "text/plain": [
       "4-element Vector{Pair{Symbol, Symbol}}:\n",
       "      :item_id => :item_id\n",
       "       :seiten => :page\n",
       " :item_type_id => :item_type_id\n",
       "      :book_id => :reference_id"
      ]
     },
     "execution_count": 160,
     "metadata": {},
     "output_type": "execute_result"
    }
   ],
   "source": [
    "columns = [\n",
    "    :item_id => :item_id,\n",
    "    :seiten => :page,\n",
    "    :item_type_id => :item_type_id,\n",
    "    :book_id => :reference_id,\n",
    "]"
   ]
  },
  {
   "cell_type": "code",
   "execution_count": 161,
   "metadata": {},
   "outputs": [
    {
     "name": "stderr",
     "output_type": "stream",
     "text": [
      "┌ Info: Rows inserted: 8114\n",
      "└ @ WiagDataSetup C:\\Users\\georg\\Documents\\projekte\\WiagDataSetup.jl\\src\\WiagDataSetup.jl:1216\n"
     ]
    },
    {
     "data": {
      "text/plain": [
       "8114"
      ]
     },
     "execution_count": 161,
     "metadata": {},
     "output_type": "execute_result"
    }
   ],
   "source": [
    "table_name = \"item_reference\"\n",
    "Wds.filltable!(table_name, select(df_p_ref_bio, columns))"
   ]
  },
  {
   "cell_type": "markdown",
   "metadata": {},
   "source": [
    "*2022-02-25* Es werden nur noch Literaturangaben **mit Kurzbiographie** berücksichtigt."
   ]
  },
  {
   "cell_type": "code",
   "execution_count": null,
   "metadata": {},
   "outputs": [],
   "source": [
    "table_name = \"item_reference\"\n",
    "Wds.filltable!(table_name, select(df_p_ref_mg_bio, columns))"
   ]
  },
  {
   "cell_type": "markdown",
   "metadata": {},
   "source": [
    "Probe:\n",
    "``` sql\n",
    "select count(distinct(item_id)) from item_reference where item_type_id = 6;\n",
    "```\n",
    "7389\n",
    "\n",
    "Es gibt also für jeden Domherren mindestens einen Literaturverweis"
   ]
  },
  {
   "cell_type": "markdown",
   "metadata": {},
   "source": [
    "### Externe IDs eintragen"
   ]
  },
  {
   "cell_type": "code",
   "execution_count": 140,
   "metadata": {},
   "outputs": [],
   "source": [
    "using MySQL, DataFrames"
   ]
  },
  {
   "cell_type": "code",
   "execution_count": 162,
   "metadata": {},
   "outputs": [
    {
     "name": "stdout",
     "output_type": "stream",
     "text": [
      "Passwort für User georg: ········\n"
     ]
    },
    {
     "data": {
      "text/plain": [
       "MySQL.Connection(host=\"127.0.0.1\", user=\"georg\", port=\"3306\", db=\"wiag2\")"
      ]
     },
     "execution_count": 162,
     "metadata": {},
     "output_type": "execute_result"
    }
   ],
   "source": [
    "Wds.setDBWIAG(user = \"georg\", db = \"wiag2\")"
   ]
  },
  {
   "cell_type": "code",
   "execution_count": 162,
   "metadata": {},
   "outputs": [
    {
     "data": {
      "text/plain": [
       "6"
      ]
     },
     "execution_count": 162,
     "metadata": {},
     "output_type": "execute_result"
    }
   ],
   "source": [
    "item_type_id = 6"
   ]
  },
  {
   "cell_type": "markdown",
   "metadata": {},
   "source": [
    "Einträge löschen (für den Fall eines Fehlers oder für ein Update)"
   ]
  },
  {
   "cell_type": "code",
   "execution_count": 163,
   "metadata": {},
   "outputs": [
    {
     "data": {
      "text/plain": [
       "MySQL.TextCursor{true}(MySQL.Connection(host=\"127.0.0.1\", user=\"georg\", port=\"3306\", db=\"wiag2\"), \"DELETE FROM id_external WHERE item_id IN (SELECT id FROM item WHERE item_type_id = 6)\", 0, -1, 0, MySQL.API.MYSQL_RES(Ptr{Nothing} @0x0000000000000000), Symbol[], Type[], Dict{Symbol, Int64}(), 0, 1, false)"
      ]
     },
     "execution_count": 163,
     "metadata": {},
     "output_type": "execute_result"
    }
   ],
   "source": [
    "sql = \"DELETE FROM id_external \" *\n",
    "\"WHERE item_id IN (SELECT id FROM item WHERE item_type_id = $(item_type_id))\"\n",
    "DBInterface.execute(Wds.dbwiag, sql)"
   ]
  },
  {
   "cell_type": "code",
   "execution_count": 164,
   "metadata": {},
   "outputs": [
    {
     "data": {
      "text/html": [
       "<div class=\"data-frame\"><p>6 rows × 2 columns</p><table class=\"data-frame\"><thead><tr><th></th><th>id</th><th>url_name_formatter</th></tr><tr><th></th><th title=\"Int32\">Int32</th><th title=\"Union{Missing, String}\">String?</th></tr></thead><tbody><tr><th>1</th><td>1</td><td>Gemeinsame Normdatei (GND) ID</td></tr><tr><th>2</th><td>2</td><td>Wikidata</td></tr><tr><th>3</th><td>3</td><td>Wikipedia-Artikel</td></tr><tr><th>4</th><td>4</td><td>VIAF-ID</td></tr><tr><th>5</th><td>5</td><td>WIAG-ID</td></tr><tr><th>6</th><td>200</td><td>Personendatenbank der Germania Sacra</td></tr></tbody></table></div>"
      ],
      "text/latex": [
       "\\begin{tabular}{r|cc}\n",
       "\t& id & url\\_name\\_formatter\\\\\n",
       "\t\\hline\n",
       "\t& Int32 & String?\\\\\n",
       "\t\\hline\n",
       "\t1 & 1 & Gemeinsame Normdatei (GND) ID \\\\\n",
       "\t2 & 2 & Wikidata \\\\\n",
       "\t3 & 3 & Wikipedia-Artikel \\\\\n",
       "\t4 & 4 & VIAF-ID \\\\\n",
       "\t5 & 5 & WIAG-ID \\\\\n",
       "\t6 & 200 & Personendatenbank der Germania Sacra \\\\\n",
       "\\end{tabular}\n"
      ],
      "text/plain": [
       "\u001b[1m6×2 DataFrame\u001b[0m\n",
       "\u001b[1m Row \u001b[0m│\u001b[1m id    \u001b[0m\u001b[1m url_name_formatter                \u001b[0m\n",
       "\u001b[1m     \u001b[0m│\u001b[90m Int32 \u001b[0m\u001b[90m String?                           \u001b[0m\n",
       "─────┼──────────────────────────────────────────\n",
       "   1 │     1  Gemeinsame Normdatei (GND) ID\n",
       "   2 │     2  Wikidata\n",
       "   3 │     3  Wikipedia-Artikel\n",
       "   4 │     4  VIAF-ID\n",
       "   5 │     5  WIAG-ID\n",
       "   6 │   200  Personendatenbank der Germania S…"
      ]
     },
     "execution_count": 164,
     "metadata": {},
     "output_type": "execute_result"
    }
   ],
   "source": [
    "sql = \"SELECT id, url_name_formatter FROM authority \" *\n",
    "\"WHERE id IN (1, 2, 3, 4, 5, 200)\"\n",
    "Wds.sql_df(sql)"
   ]
  },
  {
   "cell_type": "markdown",
   "metadata": {},
   "source": [
    "**VIAF**, dann GND, GSN"
   ]
  },
  {
   "cell_type": "code",
   "execution_count": 165,
   "metadata": {},
   "outputs": [
    {
     "data": {
      "text/plain": [
       "4"
      ]
     },
     "execution_count": 165,
     "metadata": {},
     "output_type": "execute_result"
    }
   ],
   "source": [
    "authority_id = 4 # siehe oben"
   ]
  },
  {
   "cell_type": "code",
   "execution_count": 166,
   "metadata": {},
   "outputs": [],
   "source": [
    "col = :viaf;\n",
    "df_p_auth = dropmissing(df_cn_idx, col);\n",
    "insertcols!(df_p_auth, 1, :authority_id => authority_id);\n",
    "transform!(df_p_auth, col => :value);"
   ]
  },
  {
   "cell_type": "code",
   "execution_count": 167,
   "metadata": {},
   "outputs": [
    {
     "data": {
      "text/plain": [
       "(2, 24)"
      ]
     },
     "execution_count": 167,
     "metadata": {},
     "output_type": "execute_result"
    }
   ],
   "source": [
    "size(df_p_auth)"
   ]
  },
  {
   "cell_type": "code",
   "execution_count": 168,
   "metadata": {},
   "outputs": [
    {
     "data": {
      "text/html": [
       "<div class=\"data-frame\"><p>2 rows × 24 columns (omitted printing of 16 columns)</p><table class=\"data-frame\"><thead><tr><th></th><th>authority_id</th><th>id_person_gso</th><th>item_id</th><th>namenspraefix</th><th>vorname</th><th>familienname</th><th>sterbedatum</th><th>geburtsdatum</th></tr><tr><th></th><th title=\"Int64\">Int64</th><th title=\"String\">String</th><th title=\"Int32\">Int32</th><th title=\"Union{Missing, String}\">String?</th><th title=\"Union{Missing, String}\">String?</th><th title=\"Union{Missing, String}\">String?</th><th title=\"Union{Missing, String}\">String?</th><th title=\"Union{Missing, String}\">String?</th></tr></thead><tbody><tr><th>1</th><td>4</td><td>325149</td><td>331572</td><td>von</td><td>Joseph Christian</td><td>Hohenlohe-Bartenstein</td><td>1817</td><td>1740</td></tr><tr><th>2</th><td>4</td><td>283124</td><td>283111</td><td>von</td><td>Bruno</td><td>Isenberg</td><td>1258</td><td><em>missing</em></td></tr></tbody></table></div>"
      ],
      "text/latex": [
       "\\begin{tabular}{r|ccccccccc}\n",
       "\t& authority\\_id & id\\_person\\_gso & item\\_id & namenspraefix & vorname & familienname & sterbedatum & geburtsdatum & \\\\\n",
       "\t\\hline\n",
       "\t& Int64 & String & Int32 & String? & String? & String? & String? & String? & \\\\\n",
       "\t\\hline\n",
       "\t1 & 4 & 325149 & 331572 & von & Joseph Christian & Hohenlohe-Bartenstein & 1817 & 1740 & $\\dots$ \\\\\n",
       "\t2 & 4 & 283124 & 283111 & von & Bruno & Isenberg & 1258 & \\emph{missing} & $\\dots$ \\\\\n",
       "\\end{tabular}\n"
      ],
      "text/plain": [
       "\u001b[1m2×24 DataFrame\u001b[0m\n",
       "\u001b[1m Row \u001b[0m│\u001b[1m authority_id \u001b[0m\u001b[1m id_person_gso \u001b[0m\u001b[1m item_id \u001b[0m\u001b[1m namenspraefix \u001b[0m\u001b[1m vorname          \u001b[0m\u001b[1m familienname          \u001b[0m\u001b[1m sterbedatum \u001b[0m\u001b[1m gebu\u001b[0m ⋯\n",
       "\u001b[1m     \u001b[0m│\u001b[90m Int64        \u001b[0m\u001b[90m String        \u001b[0m\u001b[90m Int32   \u001b[0m\u001b[90m String?       \u001b[0m\u001b[90m String?          \u001b[0m\u001b[90m String?               \u001b[0m\u001b[90m String?     \u001b[0m\u001b[90m Stri\u001b[0m ⋯\n",
       "─────┼──────────────────────────────────────────────────────────────────────────────────────────────────────────────────\n",
       "   1 │            4  325149          331572  von            Joseph Christian  Hohenlohe-Bartenstein  1817         1740 ⋯\n",
       "   2 │            4  283124          283111  von            Bruno             Isenberg               1258        \u001b[90m miss\u001b[0m\n",
       "\u001b[36m                                                                                                      17 columns omitted\u001b[0m"
      ]
     },
     "execution_count": 168,
     "metadata": {},
     "output_type": "execute_result"
    }
   ],
   "source": [
    "df_p_auth"
   ]
  },
  {
   "cell_type": "code",
   "execution_count": 169,
   "metadata": {},
   "outputs": [
    {
     "data": {
      "text/plain": [
       "3-element Vector{Pair{Symbol, Symbol}}:\n",
       "           :id => :item_id\n",
       " :authority_id => :authority_id\n",
       "        :value => :value"
      ]
     },
     "execution_count": 169,
     "metadata": {},
     "output_type": "execute_result"
    }
   ],
   "source": [
    "columns = [\n",
    "    :id => :item_id,\n",
    "    :authority_id => :authority_id,\n",
    "    :value => :value,\n",
    "]"
   ]
  },
  {
   "cell_type": "code",
   "execution_count": 170,
   "metadata": {},
   "outputs": [
    {
     "name": "stderr",
     "output_type": "stream",
     "text": [
      "┌ Info: Rows inserted: 2\n",
      "└ @ WiagDataSetup C:\\Users\\georg\\Documents\\projekte\\WiagDataSetup.jl\\src\\WiagDataSetup.jl:1216\n"
     ]
    },
    {
     "data": {
      "text/plain": [
       "2"
      ]
     },
     "execution_count": 170,
     "metadata": {},
     "output_type": "execute_result"
    }
   ],
   "source": [
    "table_name = \"id_external\"\n",
    "Wds.filltable!(\"id_external\", select(df_p_auth, columns))"
   ]
  },
  {
   "cell_type": "markdown",
   "metadata": {},
   "source": [
    "**GND**"
   ]
  },
  {
   "cell_type": "code",
   "execution_count": 171,
   "metadata": {},
   "outputs": [
    {
     "data": {
      "text/plain": [
       "1"
      ]
     },
     "execution_count": 171,
     "metadata": {},
     "output_type": "execute_result"
    }
   ],
   "source": [
    "authority_id = 1 # siehe oben"
   ]
  },
  {
   "cell_type": "code",
   "execution_count": 172,
   "metadata": {},
   "outputs": [],
   "source": [
    "col = :gndnummer\n",
    "df_p_auth = dropmissing(df_cn_idx, col);\n",
    "insertcols!(df_p_auth, 1, :authority_id => authority_id);\n",
    "transform!(df_p_auth, col => :value);"
   ]
  },
  {
   "cell_type": "code",
   "execution_count": 173,
   "metadata": {},
   "outputs": [
    {
     "data": {
      "text/plain": [
       "(1323, 24)"
      ]
     },
     "execution_count": 173,
     "metadata": {},
     "output_type": "execute_result"
    }
   ],
   "source": [
    "size(df_p_auth)"
   ]
  },
  {
   "cell_type": "code",
   "execution_count": 174,
   "metadata": {},
   "outputs": [
    {
     "name": "stderr",
     "output_type": "stream",
     "text": [
      "┌ Info: Rows inserted: 1323\n",
      "└ @ WiagDataSetup C:\\Users\\georg\\Documents\\projekte\\WiagDataSetup.jl\\src\\WiagDataSetup.jl:1216\n"
     ]
    },
    {
     "data": {
      "text/plain": [
       "1323"
      ]
     },
     "execution_count": 174,
     "metadata": {},
     "output_type": "execute_result"
    }
   ],
   "source": [
    "table_name = \"id_external\"\n",
    "Wds.filltable!(\"id_external\", select(df_p_auth, columns))"
   ]
  },
  {
   "cell_type": "markdown",
   "metadata": {},
   "source": [
    "**GSN**"
   ]
  },
  {
   "cell_type": "code",
   "execution_count": 175,
   "metadata": {},
   "outputs": [
    {
     "data": {
      "text/plain": [
       "200"
      ]
     },
     "execution_count": 175,
     "metadata": {},
     "output_type": "execute_result"
    }
   ],
   "source": [
    "authority_id = 200 # siehe oben"
   ]
  },
  {
   "cell_type": "code",
   "execution_count": 176,
   "metadata": {},
   "outputs": [],
   "source": [
    "col = :gsn\n",
    "df_p_auth = dropmissing(df_cn_idx, col);\n",
    "insertcols!(df_p_auth, 1, :authority_id => authority_id);\n",
    "transform!(df_p_auth, col => :value);"
   ]
  },
  {
   "cell_type": "code",
   "execution_count": 177,
   "metadata": {},
   "outputs": [
    {
     "name": "stderr",
     "output_type": "stream",
     "text": [
      "┌ Info: Rows inserted: 9292\n",
      "└ @ WiagDataSetup C:\\Users\\georg\\Documents\\projekte\\WiagDataSetup.jl\\src\\WiagDataSetup.jl:1216\n"
     ]
    },
    {
     "data": {
      "text/plain": [
       "9292"
      ]
     },
     "execution_count": 177,
     "metadata": {},
     "output_type": "execute_result"
    }
   ],
   "source": [
    "table_name = \"id_external\"\n",
    "Wds.filltable!(\"id_external\", select(df_p_auth, columns))"
   ]
  },
  {
   "cell_type": "markdown",
   "metadata": {},
   "source": [
    "### Namensvarianten eintragen"
   ]
  },
  {
   "cell_type": "code",
   "execution_count": 178,
   "metadata": {},
   "outputs": [],
   "source": [
    "using MySQL, DataFrames"
   ]
  },
  {
   "cell_type": "code",
   "execution_count": 179,
   "metadata": {},
   "outputs": [],
   "source": [
    "col = :familiennamenvarianten;\n",
    "df_fnv = dropmissing(df_cn_idx, col);"
   ]
  },
  {
   "cell_type": "code",
   "execution_count": 180,
   "metadata": {},
   "outputs": [
    {
     "data": {
      "text/plain": [
       "(1959, 22)"
      ]
     },
     "execution_count": 180,
     "metadata": {},
     "output_type": "execute_result"
    }
   ],
   "source": [
    "size(df_fnv)"
   ]
  },
  {
   "cell_type": "code",
   "execution_count": 181,
   "metadata": {},
   "outputs": [],
   "source": [
    "df_exp = Wds.expand_column(df_fnv, col, delim = \",\");"
   ]
  },
  {
   "cell_type": "code",
   "execution_count": 182,
   "metadata": {},
   "outputs": [
    {
     "data": {
      "text/plain": [
       "(2936, 22)"
      ]
     },
     "execution_count": 182,
     "metadata": {},
     "output_type": "execute_result"
    }
   ],
   "source": [
    "size(df_exp)"
   ]
  },
  {
   "cell_type": "code",
   "execution_count": 183,
   "metadata": {
    "scrolled": true
   },
   "outputs": [
    {
     "data": {
      "text/html": [
       "<div class=\"data-frame\"><p>8 rows × 3 columns</p><table class=\"data-frame\"><thead><tr><th></th><th>vorname</th><th>familienname</th><th>familiennamenvarianten</th></tr><tr><th></th><th title=\"Union{Missing, String}\">String?</th><th title=\"Union{Missing, String}\">String?</th><th title=\"String\">String</th></tr></thead><tbody><tr><th>1</th><td>Liudolf</td><td>Werther</td><td>Insula</td></tr><tr><th>2</th><td>Levin</td><td>Doring</td><td>Doringer</td></tr><tr><th>3</th><td>Leonhard</td><td>Kalben</td><td>Calven</td></tr><tr><th>4</th><td>Leonhard</td><td>Kalben</td><td>Calvis</td></tr><tr><th>5</th><td>Konrad</td><td>Wellen</td><td>Welle</td></tr><tr><th>6</th><td>Konrad</td><td>Oppen</td><td>Opin</td></tr><tr><th>7</th><td>Konrad</td><td>Oppen</td><td>Uppin</td></tr><tr><th>8</th><td>Konrad</td><td>Oppen</td><td>Upin</td></tr></tbody></table></div>"
      ],
      "text/latex": [
       "\\begin{tabular}{r|ccc}\n",
       "\t& vorname & familienname & familiennamenvarianten\\\\\n",
       "\t\\hline\n",
       "\t& String? & String? & String\\\\\n",
       "\t\\hline\n",
       "\t1 & Liudolf & Werther & Insula \\\\\n",
       "\t2 & Levin & Doring & Doringer \\\\\n",
       "\t3 & Leonhard & Kalben & Calven \\\\\n",
       "\t4 & Leonhard & Kalben & Calvis \\\\\n",
       "\t5 & Konrad & Wellen & Welle \\\\\n",
       "\t6 & Konrad & Oppen & Opin \\\\\n",
       "\t7 & Konrad & Oppen & Uppin \\\\\n",
       "\t8 & Konrad & Oppen & Upin \\\\\n",
       "\\end{tabular}\n"
      ],
      "text/plain": [
       "\u001b[1m8×3 DataFrame\u001b[0m\n",
       "\u001b[1m Row \u001b[0m│\u001b[1m vorname  \u001b[0m\u001b[1m familienname \u001b[0m\u001b[1m familiennamenvarianten \u001b[0m\n",
       "\u001b[1m     \u001b[0m│\u001b[90m String?  \u001b[0m\u001b[90m String?      \u001b[0m\u001b[90m String                 \u001b[0m\n",
       "─────┼────────────────────────────────────────────────\n",
       "   1 │ Liudolf   Werther       Insula\n",
       "   2 │ Levin     Doring        Doringer\n",
       "   3 │ Leonhard  Kalben        Calven\n",
       "   4 │ Leonhard  Kalben        Calvis\n",
       "   5 │ Konrad    Wellen        Welle\n",
       "   6 │ Konrad    Oppen         Opin\n",
       "   7 │ Konrad    Oppen         Uppin\n",
       "   8 │ Konrad    Oppen         Upin"
      ]
     },
     "execution_count": 183,
     "metadata": {},
     "output_type": "execute_result"
    }
   ],
   "source": [
    "df_exp[150:157, [:vorname, :familienname, col]]"
   ]
  },
  {
   "cell_type": "markdown",
   "metadata": {},
   "source": [
    "Spalte `lang` hat den Default-Wert 'de'."
   ]
  },
  {
   "cell_type": "code",
   "execution_count": 184,
   "metadata": {},
   "outputs": [
    {
     "data": {
      "text/plain": [
       "2-element Vector{Pair{Symbol, Symbol}}:\n",
       "                     :id => :person_id\n",
       " :familiennamenvarianten => :name"
      ]
     },
     "execution_count": 184,
     "metadata": {},
     "output_type": "execute_result"
    }
   ],
   "source": [
    "columns = [\n",
    "    :id => :person_id,\n",
    "    :familiennamenvarianten => :name,\n",
    "]"
   ]
  },
  {
   "cell_type": "markdown",
   "metadata": {},
   "source": [
    "Einträge löschen (Korrekturen, Daten-Update)"
   ]
  },
  {
   "cell_type": "code",
   "execution_count": 185,
   "metadata": {},
   "outputs": [
    {
     "data": {
      "text/plain": [
       "6"
      ]
     },
     "execution_count": 185,
     "metadata": {},
     "output_type": "execute_result"
    }
   ],
   "source": [
    "item_type_id"
   ]
  },
  {
   "cell_type": "code",
   "execution_count": 186,
   "metadata": {},
   "outputs": [
    {
     "data": {
      "text/plain": [
       "MySQL.TextCursor{true}(MySQL.Connection(host=\"127.0.0.1\", user=\"georg\", port=\"3306\", db=\"wiag2\"), \"DELETE FROM familyname_variant\\nWHERE person_id IN\\n(SELECT id FROM item WHERE item_type_id = 6)\", 0, -1, 0, MySQL.API.MYSQL_RES(Ptr{Nothing} @0x0000000000000000), Symbol[], Type[], Dict{Symbol, Int64}(), 0, 1, false)"
      ]
     },
     "execution_count": 186,
     "metadata": {},
     "output_type": "execute_result"
    }
   ],
   "source": [
    "table_name = \"familyname_variant\";\n",
    "sql = \"DELETE FROM $(table_name)\n",
    "WHERE person_id IN\n",
    "(SELECT id FROM item WHERE item_type_id = $(item_type_id))\";\n",
    "DBInterface.execute(Wds.dbwiag, sql)"
   ]
  },
  {
   "cell_type": "code",
   "execution_count": 187,
   "metadata": {},
   "outputs": [
    {
     "name": "stderr",
     "output_type": "stream",
     "text": [
      "┌ Info: Rows inserted: 2936\n",
      "└ @ WiagDataSetup C:\\Users\\georg\\Documents\\projekte\\WiagDataSetup.jl\\src\\WiagDataSetup.jl:1216\n"
     ]
    },
    {
     "data": {
      "text/plain": [
       "2936"
      ]
     },
     "execution_count": 187,
     "metadata": {},
     "output_type": "execute_result"
    }
   ],
   "source": [
    "table_name = \"familyname_variant\"\n",
    "Wds.filltable!(table_name, select(df_exp, columns))"
   ]
  },
  {
   "cell_type": "markdown",
   "metadata": {},
   "source": [
    "Vornamen"
   ]
  },
  {
   "cell_type": "code",
   "execution_count": 188,
   "metadata": {},
   "outputs": [],
   "source": [
    "col = :vornamenvarianten;\n",
    "df_gnv = dropmissing(df_cn_idx, col);"
   ]
  },
  {
   "cell_type": "code",
   "execution_count": 189,
   "metadata": {},
   "outputs": [
    {
     "data": {
      "text/plain": [
       "(1236, 22)"
      ]
     },
     "execution_count": 189,
     "metadata": {},
     "output_type": "execute_result"
    }
   ],
   "source": [
    "size(df_gnv)"
   ]
  },
  {
   "cell_type": "code",
   "execution_count": 190,
   "metadata": {},
   "outputs": [],
   "source": [
    "df_exp = Wds.expand_column(df_gnv, col, delim = r\", *\");"
   ]
  },
  {
   "cell_type": "code",
   "execution_count": 191,
   "metadata": {},
   "outputs": [
    {
     "data": {
      "text/plain": [
       "(1630, 22)"
      ]
     },
     "execution_count": 191,
     "metadata": {},
     "output_type": "execute_result"
    }
   ],
   "source": [
    "size(df_exp)"
   ]
  },
  {
   "cell_type": "code",
   "execution_count": 192,
   "metadata": {},
   "outputs": [
    {
     "data": {
      "text/html": [
       "<div class=\"data-frame\"><p>8 rows × 3 columns</p><table class=\"data-frame\"><thead><tr><th></th><th>vorname</th><th>familienname</th><th>vornamenvarianten</th></tr><tr><th></th><th title=\"Union{Missing, String}\">String?</th><th title=\"Union{Missing, String}\">String?</th><th title=\"String\">String</th></tr></thead><tbody><tr><th>1</th><td>Heinrich</td><td>Bork</td><td>Heinricus</td></tr><tr><th>2</th><td>Heinrich</td><td><em>missing</em></td><td>Hinricus</td></tr><tr><th>3</th><td>Heinrich</td><td><em>missing</em></td><td>Heinricus</td></tr><tr><th>4</th><td>Heinrich</td><td><em>missing</em></td><td>Heinrik</td></tr><tr><th>5</th><td>Hermannus</td><td>Mettinge</td><td>Hermann</td></tr><tr><th>6</th><td>Hermann</td><td>Hövel</td><td>Hermannus</td></tr><tr><th>7</th><td>Hermann</td><td>Hövel</td><td>Herimannus</td></tr><tr><th>8</th><td>Hermann</td><td>Bevern</td><td>Herimannus</td></tr></tbody></table></div>"
      ],
      "text/latex": [
       "\\begin{tabular}{r|ccc}\n",
       "\t& vorname & familienname & vornamenvarianten\\\\\n",
       "\t\\hline\n",
       "\t& String? & String? & String\\\\\n",
       "\t\\hline\n",
       "\t1 & Heinrich & Bork & Heinricus \\\\\n",
       "\t2 & Heinrich & \\emph{missing} & Hinricus \\\\\n",
       "\t3 & Heinrich & \\emph{missing} & Heinricus \\\\\n",
       "\t4 & Heinrich & \\emph{missing} & Heinrik \\\\\n",
       "\t5 & Hermannus & Mettinge & Hermann \\\\\n",
       "\t6 & Hermann & Hövel & Hermannus \\\\\n",
       "\t7 & Hermann & Hövel & Herimannus \\\\\n",
       "\t8 & Hermann & Bevern & Herimannus \\\\\n",
       "\\end{tabular}\n"
      ],
      "text/plain": [
       "\u001b[1m8×3 DataFrame\u001b[0m\n",
       "\u001b[1m Row \u001b[0m│\u001b[1m vorname   \u001b[0m\u001b[1m familienname \u001b[0m\u001b[1m vornamenvarianten \u001b[0m\n",
       "\u001b[1m     \u001b[0m│\u001b[90m String?   \u001b[0m\u001b[90m String?      \u001b[0m\u001b[90m String            \u001b[0m\n",
       "─────┼────────────────────────────────────────────\n",
       "   1 │ Heinrich   Bork          Heinricus\n",
       "   2 │ Heinrich  \u001b[90m missing      \u001b[0m Hinricus\n",
       "   3 │ Heinrich  \u001b[90m missing      \u001b[0m Heinricus\n",
       "   4 │ Heinrich  \u001b[90m missing      \u001b[0m Heinrik\n",
       "   5 │ Hermannus  Mettinge      Hermann\n",
       "   6 │ Hermann    Hövel         Hermannus\n",
       "   7 │ Hermann    Hövel         Herimannus\n",
       "   8 │ Hermann    Bevern        Herimannus"
      ]
     },
     "execution_count": 192,
     "metadata": {},
     "output_type": "execute_result"
    }
   ],
   "source": [
    "df_exp[150:157, [:vorname, :familienname, col]]"
   ]
  },
  {
   "cell_type": "code",
   "execution_count": 193,
   "metadata": {},
   "outputs": [
    {
     "data": {
      "text/plain": [
       "2-element Vector{Pair{Symbol, Symbol}}:\n",
       "                :id => :person_id\n",
       " :vornamenvarianten => :name"
      ]
     },
     "execution_count": 193,
     "metadata": {},
     "output_type": "execute_result"
    }
   ],
   "source": [
    "columns = [\n",
    "    :id => :person_id,\n",
    "    col => :name,\n",
    "]"
   ]
  },
  {
   "cell_type": "markdown",
   "metadata": {},
   "source": [
    "Einträge löschen (Korrekturen, Daten-Update)"
   ]
  },
  {
   "cell_type": "code",
   "execution_count": 194,
   "metadata": {},
   "outputs": [
    {
     "data": {
      "text/plain": [
       "6"
      ]
     },
     "execution_count": 194,
     "metadata": {},
     "output_type": "execute_result"
    }
   ],
   "source": [
    "item_type_id"
   ]
  },
  {
   "cell_type": "code",
   "execution_count": 195,
   "metadata": {},
   "outputs": [
    {
     "data": {
      "text/plain": [
       "MySQL.TextCursor{true}(MySQL.Connection(host=\"127.0.0.1\", user=\"georg\", port=\"3306\", db=\"wiag2\"), \"DELETE FROM givenname_variant\\nWHERE person_id IN\\n(SELECT id FROM item WHERE item_type_id = 6)\", 0, -1, 0, MySQL.API.MYSQL_RES(Ptr{Nothing} @0x0000000000000000), Symbol[], Type[], Dict{Symbol, Int64}(), 0, 1, false)"
      ]
     },
     "execution_count": 195,
     "metadata": {},
     "output_type": "execute_result"
    }
   ],
   "source": [
    "table_name = \"givenname_variant\";\n",
    "sql = \"DELETE FROM $(table_name)\n",
    "WHERE person_id IN\n",
    "(SELECT id FROM item WHERE item_type_id = $(item_type_id))\";\n",
    "DBInterface.execute(Wds.dbwiag, sql)"
   ]
  },
  {
   "cell_type": "code",
   "execution_count": 196,
   "metadata": {},
   "outputs": [
    {
     "name": "stderr",
     "output_type": "stream",
     "text": [
      "┌ Info: Rows inserted: 1630\n",
      "└ @ WiagDataSetup C:\\Users\\georg\\Documents\\projekte\\WiagDataSetup.jl\\src\\WiagDataSetup.jl:1216\n"
     ]
    },
    {
     "data": {
      "text/plain": [
       "1630"
      ]
     },
     "execution_count": 196,
     "metadata": {},
     "output_type": "execute_result"
    }
   ],
   "source": [
    "table_name = \"givenname_variant\"\n",
    "Wds.filltable!(table_name, select(df_exp, columns))"
   ]
  },
  {
   "cell_type": "markdown",
   "metadata": {},
   "source": [
    "### Suchvarianten eintragen (name_lookup)"
   ]
  },
  {
   "cell_type": "code",
   "execution_count": 197,
   "metadata": {},
   "outputs": [
    {
     "data": {
      "text/plain": [
       "Dict{Symbol, Symbol} with 5 entries:\n",
       "  :vorname                => :givenname\n",
       "  :namenspraefix          => :prefix_name\n",
       "  :familiennamenvarianten => :familyname_variant\n",
       "  :familienname           => :familyname\n",
       "  :vornamenvarianten      => :givenname_variant"
      ]
     },
     "execution_count": 197,
     "metadata": {},
     "output_type": "execute_result"
    }
   ],
   "source": [
    "columns = [    \n",
    "    :vorname => :givenname,\n",
    "    :vornamenvarianten => :givenname_variant,\n",
    "    :namenspraefix => :prefix_name,\n",
    "    :familienname => :familyname,\n",
    "    :familiennamenvarianten => :familyname_variant,\n",
    "];\n",
    "lookup_columns = Dict(columns)"
   ]
  },
  {
   "cell_type": "code",
   "execution_count": 198,
   "metadata": {},
   "outputs": [],
   "source": [
    "rename!(df_cn_idx, lookup_columns);"
   ]
  },
  {
   "cell_type": "code",
   "execution_count": 199,
   "metadata": {
    "scrolled": true
   },
   "outputs": [],
   "source": [
    "df_nl = Wds.create_name_lookup(df_cn_idx); # schaut gut aus"
   ]
  },
  {
   "cell_type": "code",
   "execution_count": 200,
   "metadata": {},
   "outputs": [
    {
     "data": {
      "text/plain": [
       "3-element Vector{String}:\n",
       " \"person_id\"\n",
       " \"gn_fn\"\n",
       " \"gn_prefix_fn\""
      ]
     },
     "execution_count": 200,
     "metadata": {},
     "output_type": "execute_result"
    }
   ],
   "source": [
    "names(df_nl)"
   ]
  },
  {
   "cell_type": "code",
   "execution_count": 201,
   "metadata": {},
   "outputs": [
    {
     "data": {
      "text/plain": [
       "(9292,)"
      ]
     },
     "execution_count": 201,
     "metadata": {},
     "output_type": "execute_result"
    }
   ],
   "source": [
    "size(unique(df_nl.person_id))"
   ]
  },
  {
   "cell_type": "code",
   "execution_count": 202,
   "metadata": {},
   "outputs": [],
   "source": [
    "df_nl_empty = filter(:gn_fn => ismissing, df_nl);"
   ]
  },
  {
   "cell_type": "code",
   "execution_count": 203,
   "metadata": {},
   "outputs": [
    {
     "data": {
      "text/plain": [
       "(0, 3)"
      ]
     },
     "execution_count": 203,
     "metadata": {},
     "output_type": "execute_result"
    }
   ],
   "source": [
    "size(df_nl_empty)"
   ]
  },
  {
   "cell_type": "code",
   "execution_count": 204,
   "metadata": {},
   "outputs": [
    {
     "data": {
      "text/html": [
       "<div class=\"data-frame\"><p>12 rows × 3 columns</p><table class=\"data-frame\"><thead><tr><th></th><th>person_id</th><th>gn_fn</th><th>gn_prefix_fn</th></tr><tr><th></th><th title=\"Int64\">Int64</th><th title=\"Union{Missing, String}\">String?</th><th title=\"Union{Missing, String}\">String?</th></tr></thead><tbody><tr><th>1</th><td>481880</td><td>Johann Wischel Raesfeld</td><td>Johann Wischel von Raesfeld</td></tr><tr><th>2</th><td>481880</td><td>Johann Raesfeld</td><td>Johann von Raesfeld</td></tr><tr><th>3</th><td>481881</td><td>Johann Franz Anton Raesfeld</td><td>Johann Franz Anton von Raesfeld</td></tr><tr><th>4</th><td>481881</td><td>Johann Raesfeld</td><td>Johann von Raesfeld</td></tr><tr><th>5</th><td>481882</td><td>Goswin Raesfeld</td><td>Goswin von Raesfeld</td></tr><tr><th>6</th><td>481883</td><td>Goswin Raesfeld</td><td>Goswin von Raesfeld</td></tr><tr><th>7</th><td>481884</td><td>Radlef</td><td><em>missing</em></td></tr><tr><th>8</th><td>481885</td><td>Rabodo</td><td><em>missing</em></td></tr><tr><th>9</th><td>481886</td><td>R.</td><td><em>missing</em></td></tr><tr><th>10</th><td>481887</td><td>Wilhelm Plettenberg</td><td>Wilhelm von Plettenberg</td></tr><tr><th>11</th><td>481888</td><td>Werner Anton Adolf Plettenberg</td><td>Werner Anton Adolf von Plettenberg</td></tr><tr><th>12</th><td>481888</td><td>Werner Plettenberg</td><td>Werner von Plettenberg</td></tr></tbody></table></div>"
      ],
      "text/latex": [
       "\\begin{tabular}{r|ccc}\n",
       "\t& person\\_id & gn\\_fn & gn\\_prefix\\_fn\\\\\n",
       "\t\\hline\n",
       "\t& Int64 & String? & String?\\\\\n",
       "\t\\hline\n",
       "\t1 & 481880 & Johann Wischel Raesfeld & Johann Wischel von Raesfeld \\\\\n",
       "\t2 & 481880 & Johann Raesfeld & Johann von Raesfeld \\\\\n",
       "\t3 & 481881 & Johann Franz Anton Raesfeld & Johann Franz Anton von Raesfeld \\\\\n",
       "\t4 & 481881 & Johann Raesfeld & Johann von Raesfeld \\\\\n",
       "\t5 & 481882 & Goswin Raesfeld & Goswin von Raesfeld \\\\\n",
       "\t6 & 481883 & Goswin Raesfeld & Goswin von Raesfeld \\\\\n",
       "\t7 & 481884 & Radlef & \\emph{missing} \\\\\n",
       "\t8 & 481885 & Rabodo & \\emph{missing} \\\\\n",
       "\t9 & 481886 & R. & \\emph{missing} \\\\\n",
       "\t10 & 481887 & Wilhelm Plettenberg & Wilhelm von Plettenberg \\\\\n",
       "\t11 & 481888 & Werner Anton Adolf Plettenberg & Werner Anton Adolf von Plettenberg \\\\\n",
       "\t12 & 481888 & Werner Plettenberg & Werner von Plettenberg \\\\\n",
       "\\end{tabular}\n"
      ],
      "text/plain": [
       "\u001b[1m12×3 DataFrame\u001b[0m\n",
       "\u001b[1m Row \u001b[0m│\u001b[1m person_id \u001b[0m\u001b[1m gn_fn                          \u001b[0m\u001b[1m gn_prefix_fn                      \u001b[0m\n",
       "\u001b[1m     \u001b[0m│\u001b[90m Int64     \u001b[0m\u001b[90m String?                        \u001b[0m\u001b[90m String?                           \u001b[0m\n",
       "─────┼──────────────────────────────────────────────────────────────────────────────\n",
       "   1 │    481880  Johann Wischel Raesfeld         Johann Wischel von Raesfeld\n",
       "   2 │    481880  Johann Raesfeld                 Johann von Raesfeld\n",
       "   3 │    481881  Johann Franz Anton Raesfeld     Johann Franz Anton von Raesfeld\n",
       "   4 │    481881  Johann Raesfeld                 Johann von Raesfeld\n",
       "   5 │    481882  Goswin Raesfeld                 Goswin von Raesfeld\n",
       "   6 │    481883  Goswin Raesfeld                 Goswin von Raesfeld\n",
       "   7 │    481884  Radlef                         \u001b[90m missing                           \u001b[0m\n",
       "   8 │    481885  Rabodo                         \u001b[90m missing                           \u001b[0m\n",
       "   9 │    481886  R.                             \u001b[90m missing                           \u001b[0m\n",
       "  10 │    481887  Wilhelm Plettenberg             Wilhelm von Plettenberg\n",
       "  11 │    481888  Werner Anton Adolf Plettenberg  Werner Anton Adolf von Plettenbe…\n",
       "  12 │    481888  Werner Plettenberg              Werner von Plettenberg"
      ]
     },
     "execution_count": 204,
     "metadata": {},
     "output_type": "execute_result"
    }
   ],
   "source": [
    "df_nl[2301:2312, :]"
   ]
  },
  {
   "cell_type": "markdown",
   "metadata": {},
   "source": [
    "Entferne Einträge für diese Art von Items"
   ]
  },
  {
   "cell_type": "code",
   "execution_count": 205,
   "metadata": {},
   "outputs": [
    {
     "data": {
      "text/plain": [
       "MySQL.TextCursor{true}(MySQL.Connection(host=\"127.0.0.1\", user=\"georg\", port=\"3306\", db=\"wiag2\"), \"DELETE FROM name_lookup \\nWHERE person_id IN (SELECT id FROM item WHERE item_type_id = 6)\", 0, -1, 0, MySQL.API.MYSQL_RES(Ptr{Nothing} @0x0000000000000000), Symbol[], Type[], Dict{Symbol, Int64}(), 0, 1, false)"
      ]
     },
     "execution_count": 205,
     "metadata": {},
     "output_type": "execute_result"
    }
   ],
   "source": [
    "table_name = \"name_lookup\"\n",
    "sql = \"DELETE FROM $(table_name) \n",
    "WHERE person_id IN (SELECT id FROM item WHERE item_type_id = $(item_type_id))\";\n",
    "DBInterface.execute(Wds.dbwiag, sql)"
   ]
  },
  {
   "cell_type": "code",
   "execution_count": 206,
   "metadata": {},
   "outputs": [
    {
     "data": {
      "text/plain": [
       "3-element Vector{String}:\n",
       " \"person_id\"\n",
       " \"gn_fn\"\n",
       " \"gn_prefix_fn\""
      ]
     },
     "execution_count": 206,
     "metadata": {},
     "output_type": "execute_result"
    }
   ],
   "source": [
    "names(df_nl)"
   ]
  },
  {
   "cell_type": "code",
   "execution_count": 207,
   "metadata": {},
   "outputs": [
    {
     "name": "stderr",
     "output_type": "stream",
     "text": [
      "┌ Info: 10000\n",
      "└ @ WiagDataSetup C:\\Users\\georg\\Documents\\projekte\\WiagDataSetup.jl\\src\\WiagDataSetup.jl:1193\n",
      "┌ Info: Rows inserted: 17217\n",
      "└ @ WiagDataSetup C:\\Users\\georg\\Documents\\projekte\\WiagDataSetup.jl\\src\\WiagDataSetup.jl:1216\n"
     ]
    },
    {
     "data": {
      "text/plain": [
       "17217"
      ]
     },
     "execution_count": 207,
     "metadata": {},
     "output_type": "execute_result"
    }
   ],
   "source": [
    "table_name = \"name_lookup\"\n",
    "Wds.filltable!(table_name, df_nl)"
   ]
  },
  {
   "cell_type": "markdown",
   "metadata": {},
   "source": [
    "## Bezug zu den anderen Quellen\n",
    "Siehe **Variante** unten  \n",
    "Zuerst Update der Domherrendatenbank durchführen"
   ]
  },
  {
   "cell_type": "markdown",
   "metadata": {},
   "source": [
    "GS-EP und DH-EP: alle;  \n",
    "GS-DH ohne GS-EP  \n",
    "DH-DH ohne DH-EP  \n",
    "GS-GS ohne GS-DH ohne GS-EP  \n",
    "schließliche EP-EP (sofern EP als Ziel vorkommt)"
   ]
  },
  {
   "cell_type": "code",
   "execution_count": null,
   "metadata": {},
   "outputs": [],
   "source": [
    "df_cn_lp = DataFrame(person_id = Int[], person_id_canon = Int[])"
   ]
  },
  {
   "cell_type": "markdown",
   "metadata": {},
   "source": [
    "GS - EP"
   ]
  },
  {
   "cell_type": "code",
   "execution_count": null,
   "metadata": {},
   "outputs": [],
   "source": [
    "authority_id = 200; # GSN\n",
    "item_type_ep = 4; # Bischof\n",
    "item_type_gs = 6; # Domherr GS\n",
    "sql = \"SELECT gs_gsn.id as person_id, ep_gsn.id as person_id_canon FROM\n",
    "(SELECT i.id, ext.value as id_gsn\n",
    "FROM item as i \n",
    "JOIN id_external AS ext ON i.id = ext.item_id\n",
    "WHERE i.is_online \n",
    "AND i.item_type_id = $(item_type_gs)\n",
    "AND ext.authority_id = $(authority_id)) AS gs_gsn\n",
    "JOIN (SELECT i.id, ext.value as id_gsn\n",
    "FROM item as i \n",
    "JOIN id_external AS ext ON i.id = ext.item_id\n",
    "WHERE i.is_online \n",
    "AND i.item_type_id = $(item_type_ep)\n",
    "AND ext.authority_id = $(authority_id)) AS ep_gsn \n",
    "ON ep_gsn.id_gsn = gs_gsn.id_gsn\"\n",
    "df_gs_ep = Wds.sql_df(sql);"
   ]
  },
  {
   "cell_type": "code",
   "execution_count": null,
   "metadata": {},
   "outputs": [],
   "source": [
    "size(df_gs_ep)"
   ]
  },
  {
   "cell_type": "code",
   "execution_count": null,
   "metadata": {},
   "outputs": [],
   "source": [
    "df_gs_ep[530:535, :]"
   ]
  },
  {
   "cell_type": "code",
   "execution_count": null,
   "metadata": {},
   "outputs": [],
   "source": [
    "append!(df_cn_lp, df_gs_ep);"
   ]
  },
  {
   "cell_type": "markdown",
   "metadata": {},
   "source": [
    "DH - EP"
   ]
  },
  {
   "cell_type": "code",
   "execution_count": null,
   "metadata": {},
   "outputs": [],
   "source": [
    "authority_id = 5; # WIAG\n",
    "item_type_ep = 4; # Bischof\n",
    "item_type_dh = 5; # Domherr\n",
    "sql = \"SELECT dh.id AS person_id, ep.id AS person_id_canon\n",
    "FROM (SELECT i.id, ext_dh.value AS id_ep_public\n",
    "FROM item as i \n",
    "JOIN id_external as ext_dh ON i.id = ext_dh.item_id\n",
    "WHERE ext_dh.authority_id = $(authority_id)\n",
    "AND i.item_type_id = $(item_type_dh)\n",
    "AND i.is_online) AS dh\n",
    "JOIN (SELECT i.id, i.id_public\n",
    "FROM item AS i\n",
    "WHERE i.item_type_id = $(item_type_ep)) AS ep\n",
    "ON ep.id_public = dh.id_ep_public\";\n",
    "df_dh_ep = Wds.sql_df(sql);"
   ]
  },
  {
   "cell_type": "code",
   "execution_count": null,
   "metadata": {},
   "outputs": [],
   "source": [
    "size(df_dh_ep)"
   ]
  },
  {
   "cell_type": "code",
   "execution_count": null,
   "metadata": {},
   "outputs": [],
   "source": [
    "df_dh_ep[50:57, :]"
   ]
  },
  {
   "cell_type": "code",
   "execution_count": null,
   "metadata": {},
   "outputs": [],
   "source": [
    "append!(df_cn_lp, df_dh_ep);"
   ]
  },
  {
   "cell_type": "markdown",
   "metadata": {},
   "source": [
    "GS - DH ohne GS - EP (nur Neuzugänge)"
   ]
  },
  {
   "cell_type": "code",
   "execution_count": null,
   "metadata": {},
   "outputs": [],
   "source": [
    "authority_id = 200; # GSN\n",
    "item_type_dh = 5; # Domherr\n",
    "item_type_gs = 6; # Domherr GS\n",
    "sql = \"SELECT gs_gsn.id as person_id, dh_gsn.id as person_id_canon FROM\n",
    "(SELECT i.id, ext.value as id_gsn\n",
    "FROM item as i \n",
    "JOIN id_external AS ext ON i.id = ext.item_id\n",
    "WHERE i.is_online \n",
    "AND i.item_type_id = $(item_type_gs)\n",
    "AND ext.authority_id = $(authority_id)) AS gs_gsn\n",
    "JOIN (SELECT i.id, ext.value as id_gsn\n",
    "FROM item as i \n",
    "JOIN id_external AS ext ON i.id = ext.item_id\n",
    "WHERE i.is_online \n",
    "AND i.item_type_id = $(item_type_dh)\n",
    "AND ext.authority_id = $(authority_id)) AS dh_gsn \n",
    "ON dh_gsn.id_gsn = gs_gsn.id_gsn\"\n",
    "df_gs_dh = Wds.sql_df(sql);"
   ]
  },
  {
   "cell_type": "code",
   "execution_count": null,
   "metadata": {},
   "outputs": [],
   "source": [
    "size(df_gs_dh)"
   ]
  },
  {
   "cell_type": "code",
   "execution_count": null,
   "metadata": {},
   "outputs": [],
   "source": [
    "in_person_id(id) = id in df_cn_lp.person_id"
   ]
  },
  {
   "cell_type": "code",
   "execution_count": null,
   "metadata": {},
   "outputs": [],
   "source": [
    "df_gs_dh = subset(df_gs_dh, :person_id => ByRow(!in_person_id));"
   ]
  },
  {
   "cell_type": "code",
   "execution_count": null,
   "metadata": {},
   "outputs": [],
   "source": [
    "size(df_gs_dh)"
   ]
  },
  {
   "cell_type": "code",
   "execution_count": null,
   "metadata": {},
   "outputs": [],
   "source": [
    "df_gs_dh[250:255, :]"
   ]
  },
  {
   "cell_type": "code",
   "execution_count": null,
   "metadata": {},
   "outputs": [],
   "source": [
    "append!(df_cn_lp, df_gs_dh);"
   ]
  },
  {
   "cell_type": "markdown",
   "metadata": {},
   "source": [
    "DH - DH und GS - GS ohne DH - EP ohne GS - DH ohne GS - EP: nur Neuzugänge"
   ]
  },
  {
   "cell_type": "code",
   "execution_count": null,
   "metadata": {},
   "outputs": [],
   "source": [
    "table_name = \"item\";\n",
    "item_type_dh = 5;\n",
    "item_type_gs = 6;\n",
    "sql = \"SELECT id as person_id, id as person_id_canon \n",
    "FROM $(table_name) WHERE item_type_id in ($(item_type_dh), $(item_type_gs)) AND is_online\";\n",
    "df_cn_rx = Wds.sql_df(sql);"
   ]
  },
  {
   "cell_type": "code",
   "execution_count": null,
   "metadata": {},
   "outputs": [],
   "source": [
    "size(df_cn_rx)"
   ]
  },
  {
   "cell_type": "code",
   "execution_count": null,
   "metadata": {},
   "outputs": [],
   "source": [
    "df_cn_rx = subset(df_cn_rx, :person_id => ByRow(!in_person_id));"
   ]
  },
  {
   "cell_type": "code",
   "execution_count": null,
   "metadata": {},
   "outputs": [],
   "source": [
    "size(df_cn_rx)"
   ]
  },
  {
   "cell_type": "code",
   "execution_count": null,
   "metadata": {},
   "outputs": [],
   "source": [
    "append!(df_cn_lp, df_cn_rx);"
   ]
  },
  {
   "cell_type": "code",
   "execution_count": null,
   "metadata": {},
   "outputs": [],
   "source": [
    "size(df_cn_lp)"
   ]
  },
  {
   "cell_type": "markdown",
   "metadata": {},
   "source": [
    "EP - EP, sofern sie als Ziel vorkommen"
   ]
  },
  {
   "cell_type": "code",
   "execution_count": null,
   "metadata": {},
   "outputs": [],
   "source": [
    "table_name = \"item\";\n",
    "item_type_ep = 4;\n",
    "sql = \"SELECT id FROM $(table_name) WHERE item_type_id = $(item_type_ep)\"\n",
    "df_ids_ep = Wds.sql_df(sql);"
   ]
  },
  {
   "cell_type": "code",
   "execution_count": null,
   "metadata": {},
   "outputs": [],
   "source": [
    "ids_ep_lp = intersect(df_ids_ep.id, df_cn_lp.person_id_canon);"
   ]
  },
  {
   "cell_type": "code",
   "execution_count": null,
   "metadata": {},
   "outputs": [],
   "source": [
    "size(ids_ep_lp)"
   ]
  },
  {
   "cell_type": "code",
   "execution_count": null,
   "metadata": {},
   "outputs": [],
   "source": [
    "df_ep_ep = DataFrame(person_id = ids_ep_lp, person_id_canon = ids_ep_lp);"
   ]
  },
  {
   "cell_type": "code",
   "execution_count": null,
   "metadata": {},
   "outputs": [],
   "source": [
    "append!(df_cn_lp, df_ep_ep);"
   ]
  },
  {
   "cell_type": "code",
   "execution_count": null,
   "metadata": {},
   "outputs": [],
   "source": [
    "size(df_cn_lp)"
   ]
  },
  {
   "cell_type": "code",
   "execution_count": null,
   "metadata": {},
   "outputs": [],
   "source": [
    "table_name = \"canon_lookup\";\n",
    "Wds.filltable!(table_name, df_cn_lp, clear_table = true)"
   ]
  },
  {
   "cell_type": "markdown",
   "metadata": {},
   "source": [
    "### Bezug zu anderen Quellen (2)\n",
    "Neue Struktur von `canon_lookup`: Ein Datensatz pro Domherr mit den Feldern\n",
    "\n",
    "`person_id_name`: ID der Person für die Namensdaten (Bischof > Domherr > Domherr GS)  \n",
    "`person_id_role`: ID der Person für Amtsdaten\n",
    "`prio_role`: Priorisierung der Amtsdaten (Domherr > Domherr GS > Bischof)  \n",
    "\n",
    "`person_id_role` ist eindeutig. Für jeden Wert von `person_id_name` gibt es immer auch einen Eintrag, wo `person_id_name` und `person_id_role` übereinstimmen."
   ]
  },
  {
   "cell_type": "markdown",
   "metadata": {},
   "source": [
    "Domherrendatenbank"
   ]
  },
  {
   "cell_type": "markdown",
   "metadata": {},
   "source": [
    "IDs der Domherren aus der Domherrendatenbank und die Verweise auf Bischöfe und Domherren aus der Personendatenbank"
   ]
  },
  {
   "cell_type": "code",
   "execution_count": 208,
   "metadata": {},
   "outputs": [],
   "source": [
    "table_name = \"item\";\n",
    "item_type_domherr = 5;\n",
    "sql = \"SELECT i.id as dh, e1.value AS dh_gsn, e2.value AS dh_episc_id\n",
    "FROM $(table_name) AS i\n",
    "LEFT JOIN id_external AS e1 ON e1.item_id = i.id AND e1.authority_id = 200\n",
    "LEFT JOIN id_external AS e2 ON e2.item_id = i.id AND e2.authority_id = 5\n",
    "WHERE i.item_type_id = $(item_type_domherr) AND i.is_online\";\n",
    "df_dh = Wds.sql_df(sql);"
   ]
  },
  {
   "cell_type": "code",
   "execution_count": 209,
   "metadata": {},
   "outputs": [
    {
     "data": {
      "text/plain": [
       "5526"
      ]
     },
     "execution_count": 209,
     "metadata": {},
     "output_type": "execute_result"
    }
   ],
   "source": [
    "size(df_dh, 1)"
   ]
  },
  {
   "cell_type": "code",
   "execution_count": 210,
   "metadata": {},
   "outputs": [
    {
     "data": {
      "text/plain": [
       "3-element Vector{String}:\n",
       " \"dh\"\n",
       " \"dh_gsn\"\n",
       " \"dh_episc_id\""
      ]
     },
     "execution_count": 210,
     "metadata": {},
     "output_type": "execute_result"
    }
   ],
   "source": [
    "names(df_dh)"
   ]
  },
  {
   "cell_type": "markdown",
   "metadata": {},
   "source": [
    "*2022-04-28* Suche Verweise auf den gleichen Domherrn GS. Mitteilung an die Redaktion siehe oben."
   ]
  },
  {
   "cell_type": "code",
   "execution_count": 211,
   "metadata": {},
   "outputs": [],
   "source": [
    "v_dh_gsn = sort(collect(skipmissing(df_dh.dh_gsn))); v_dh_gsn_u = unique(v_dh_gsn);"
   ]
  },
  {
   "cell_type": "code",
   "execution_count": 212,
   "metadata": {},
   "outputs": [
    {
     "data": {
      "text/plain": [
       "(1101, 1100)"
      ]
     },
     "execution_count": 212,
     "metadata": {},
     "output_type": "execute_result"
    }
   ],
   "source": [
    "length(v_dh_gsn), length(v_dh_gsn_u)"
   ]
  },
  {
   "cell_type": "code",
   "execution_count": 213,
   "metadata": {},
   "outputs": [
    {
     "data": {
      "text/html": [
       "<div class=\"data-frame\"><p>0 rows × 3 columns</p><table class=\"data-frame\"><thead><tr><th></th><th>dh</th><th>dh_gsn</th><th>dh_episc_id</th></tr><tr><th></th><th title=\"Int32\">Int32</th><th title=\"Union{Missing, String}\">String?</th><th title=\"Union{Missing, String}\">String?</th></tr></thead><tbody></tbody></table></div>"
      ],
      "text/latex": [
       "\\begin{tabular}{r|ccc}\n",
       "\t& dh & dh\\_gsn & dh\\_episc\\_id\\\\\n",
       "\t\\hline\n",
       "\t& Int32 & String? & String?\\\\\n",
       "\t\\hline\n",
       "\\end{tabular}\n"
      ],
      "text/plain": [
       "\u001b[1m0×3 DataFrame\u001b[0m"
      ]
     },
     "execution_count": 213,
     "metadata": {},
     "output_type": "execute_result"
    }
   ],
   "source": [
    "find_by_id(id) = id in (200040, 200193);\n",
    "df_info = subset(df_dh, :dh => ByRow(find_by_id))"
   ]
  },
  {
   "cell_type": "markdown",
   "metadata": {},
   "source": [
    "Alle Bischöfe"
   ]
  },
  {
   "cell_type": "code",
   "execution_count": 214,
   "metadata": {},
   "outputs": [],
   "source": [
    "table_name = \"item\";\n",
    "item_type_bishop = 4;\n",
    "sql = \"SELECT i.id as ep, i.id_public, e1.value AS ep_gsn\n",
    "FROM $(table_name) AS i\n",
    "LEFT JOIN id_external AS e1 ON e1.item_id = i.id AND e1.authority_id = 200\n",
    "WHERE i.item_type_id = $(item_type_bishop) AND i.is_online\";\n",
    "df_ep = Wds.sql_df(sql);"
   ]
  },
  {
   "cell_type": "code",
   "execution_count": 215,
   "metadata": {},
   "outputs": [
    {
     "data": {
      "text/html": [
       "<div class=\"data-frame\"><p>5 rows × 3 columns</p><table class=\"data-frame\"><thead><tr><th></th><th>ep</th><th>id_public</th><th>ep_gsn</th></tr><tr><th></th><th title=\"Int32\">Int32</th><th title=\"Union{Missing, String}\">String?</th><th title=\"Union{Missing, String}\">String?</th></tr></thead><tbody><tr><th>1</th><td>475099</td><td>WIAG-Pers-EPISCGatz-21107-001</td><td><em>missing</em></td></tr><tr><th>2</th><td>475100</td><td>WIAG-Pers-EPISCGatz-21106-001</td><td><em>missing</em></td></tr><tr><th>3</th><td>475101</td><td>WIAG-Pers-EPISCGatz-21105-001</td><td><em>missing</em></td></tr><tr><th>4</th><td>475102</td><td>WIAG-Pers-EPISCGatz-21103-001</td><td><em>missing</em></td></tr><tr><th>5</th><td>475103</td><td>WIAG-Pers-EPISCGatz-21102-001</td><td><em>missing</em></td></tr></tbody></table></div>"
      ],
      "text/latex": [
       "\\begin{tabular}{r|ccc}\n",
       "\t& ep & id\\_public & ep\\_gsn\\\\\n",
       "\t\\hline\n",
       "\t& Int32 & String? & String?\\\\\n",
       "\t\\hline\n",
       "\t1 & 475099 & WIAG-Pers-EPISCGatz-21107-001 & \\emph{missing} \\\\\n",
       "\t2 & 475100 & WIAG-Pers-EPISCGatz-21106-001 & \\emph{missing} \\\\\n",
       "\t3 & 475101 & WIAG-Pers-EPISCGatz-21105-001 & \\emph{missing} \\\\\n",
       "\t4 & 475102 & WIAG-Pers-EPISCGatz-21103-001 & \\emph{missing} \\\\\n",
       "\t5 & 475103 & WIAG-Pers-EPISCGatz-21102-001 & \\emph{missing} \\\\\n",
       "\\end{tabular}\n"
      ],
      "text/plain": [
       "\u001b[1m5×3 DataFrame\u001b[0m\n",
       "\u001b[1m Row \u001b[0m│\u001b[1m ep     \u001b[0m\u001b[1m id_public                     \u001b[0m\u001b[1m ep_gsn  \u001b[0m\n",
       "\u001b[1m     \u001b[0m│\u001b[90m Int32  \u001b[0m\u001b[90m String?                       \u001b[0m\u001b[90m String? \u001b[0m\n",
       "─────┼────────────────────────────────────────────────\n",
       "   1 │ 475099  WIAG-Pers-EPISCGatz-21107-001 \u001b[90m missing \u001b[0m\n",
       "   2 │ 475100  WIAG-Pers-EPISCGatz-21106-001 \u001b[90m missing \u001b[0m\n",
       "   3 │ 475101  WIAG-Pers-EPISCGatz-21105-001 \u001b[90m missing \u001b[0m\n",
       "   4 │ 475102  WIAG-Pers-EPISCGatz-21103-001 \u001b[90m missing \u001b[0m\n",
       "   5 │ 475103  WIAG-Pers-EPISCGatz-21102-001 \u001b[90m missing \u001b[0m"
      ]
     },
     "execution_count": 215,
     "metadata": {},
     "output_type": "execute_result"
    }
   ],
   "source": [
    "df_ep[11:15, :]"
   ]
  },
  {
   "cell_type": "markdown",
   "metadata": {},
   "source": [
    "DH - EP"
   ]
  },
  {
   "cell_type": "code",
   "execution_count": 216,
   "metadata": {},
   "outputs": [],
   "source": [
    "df_dh_ep = leftjoin(df_dh, \n",
    "    select(df_ep, [:ep => :ep1, :id_public => :id_public, :ep_gsn => :ep_gsn]), \n",
    "    on = :dh_episc_id => :id_public, \n",
    "    matchmissing = :notequal);"
   ]
  },
  {
   "cell_type": "code",
   "execution_count": 217,
   "metadata": {},
   "outputs": [
    {
     "data": {
      "text/plain": [
       "5526"
      ]
     },
     "execution_count": 217,
     "metadata": {},
     "output_type": "execute_result"
    }
   ],
   "source": [
    "size(df_dh_ep, 1)"
   ]
  },
  {
   "cell_type": "code",
   "execution_count": 218,
   "metadata": {},
   "outputs": [
    {
     "data": {
      "text/plain": [
       "5-element Vector{String}:\n",
       " \"dh\"\n",
       " \"dh_gsn\"\n",
       " \"dh_episc_id\"\n",
       " \"ep1\"\n",
       " \"ep_gsn\""
      ]
     },
     "execution_count": 218,
     "metadata": {},
     "output_type": "execute_result"
    }
   ],
   "source": [
    "names(df_dh_ep)"
   ]
  },
  {
   "cell_type": "code",
   "execution_count": 219,
   "metadata": {},
   "outputs": [
    {
     "data": {
      "text/plain": [
       "(402, 402)"
      ]
     },
     "execution_count": 219,
     "metadata": {},
     "output_type": "execute_result"
    }
   ],
   "source": [
    "count(!ismissing, df_dh_ep.dh_episc_id), count(!ismissing, df_dh_ep.ep1)"
   ]
  },
  {
   "cell_type": "markdown",
   "metadata": {},
   "source": [
    "begin debug  \n",
    "*2022-05-12* fixed"
   ]
  },
  {
   "cell_type": "code",
   "execution_count": 285,
   "metadata": {},
   "outputs": [],
   "source": [
    "is_is_not(a, b) = !ismissing(a) && ismissing(b);"
   ]
  },
  {
   "cell_type": "code",
   "execution_count": 288,
   "metadata": {},
   "outputs": [
    {
     "data": {
      "text/html": [
       "<div class=\"data-frame\"><p>2 rows × 5 columns</p><table class=\"data-frame\"><thead><tr><th></th><th>dh</th><th>dh_gsn</th><th>dh_episc_id</th><th>ep1</th><th>ep_gsn</th></tr><tr><th></th><th title=\"Int32\">Int32</th><th title=\"Union{Missing, String}\">String?</th><th title=\"Union{Missing, String}\">String?</th><th title=\"Union{Missing, Int32}\">Int32?</th><th title=\"Union{Missing, String}\">String?</th></tr></thead><tbody><tr><th>1</th><td>241129</td><td>060-02416-001</td><td>https://wiag-stage.uni-goettingen.de/id/WIAG-Pers-EPISCGatz-03741-001</td><td><em>missing</em></td><td><em>missing</em></td></tr><tr><th>2</th><td>242124</td><td>700-00397-001</td><td>https://wiag-vocab.adw-goe.de/id/WIAG-Pers-EPISCGatz-04635-001</td><td><em>missing</em></td><td><em>missing</em></td></tr></tbody></table></div>"
      ],
      "text/latex": [
       "\\begin{tabular}{r|ccccc}\n",
       "\t& dh & dh\\_gsn & dh\\_episc\\_id & ep1 & ep\\_gsn\\\\\n",
       "\t\\hline\n",
       "\t& Int32 & String? & String? & Int32? & String?\\\\\n",
       "\t\\hline\n",
       "\t1 & 241129 & 060-02416-001 & https://wiag-stage.uni-goettingen.de/id/WIAG-Pers-EPISCGatz-03741-001 & \\emph{missing} & \\emph{missing} \\\\\n",
       "\t2 & 242124 & 700-00397-001 & https://wiag-vocab.adw-goe.de/id/WIAG-Pers-EPISCGatz-04635-001 & \\emph{missing} & \\emph{missing} \\\\\n",
       "\\end{tabular}\n"
      ],
      "text/plain": [
       "\u001b[1m2×5 DataFrame\u001b[0m\n",
       "\u001b[1m Row \u001b[0m│\u001b[1m dh     \u001b[0m\u001b[1m dh_gsn        \u001b[0m\u001b[1m dh_episc_id                       \u001b[0m\u001b[1m ep1     \u001b[0m\u001b[1m ep_gsn  \u001b[0m\n",
       "\u001b[1m     \u001b[0m│\u001b[90m Int32  \u001b[0m\u001b[90m String?       \u001b[0m\u001b[90m String?                           \u001b[0m\u001b[90m Int32?  \u001b[0m\u001b[90m String? \u001b[0m\n",
       "─────┼────────────────────────────────────────────────────────────────────────────\n",
       "   1 │ 241129  060-02416-001  https://wiag-stage.uni-goettinge… \u001b[90m missing \u001b[0m\u001b[90m missing \u001b[0m\n",
       "   2 │ 242124  700-00397-001  https://wiag-vocab.adw-goe.de/id… \u001b[90m missing \u001b[0m\u001b[90m missing \u001b[0m"
      ]
     },
     "execution_count": 288,
     "metadata": {},
     "output_type": "execute_result"
    }
   ],
   "source": [
    "subset(df_dh_ep, [:dh_episc_id, :ep1] => ByRow(is_is_not))"
   ]
  },
  {
   "cell_type": "markdown",
   "metadata": {},
   "source": [
    "end debug"
   ]
  },
  {
   "cell_type": "markdown",
   "metadata": {},
   "source": [
    "*2022-04-17* Schließlich werden alle Bischöfe gefunden, nachdem Einträge in `id_external` korrigiert wurden"
   ]
  },
  {
   "cell_type": "markdown",
   "metadata": {},
   "source": [
    "Ergänze `dh_gsn` mit `ep_gsn`.  \n",
    "Das ist nicht mehr nötig. Die GSN werden beim Einlesen der Daten schon ergänzt und in `id_external` eingetragen."
   ]
  },
  {
   "cell_type": "code",
   "execution_count": 220,
   "metadata": {},
   "outputs": [
    {
     "data": {
      "text/plain": [
       "1101"
      ]
     },
     "execution_count": 220,
     "metadata": {},
     "output_type": "execute_result"
    }
   ],
   "source": [
    "count(!ismissing, df_dh_ep.dh_gsn)"
   ]
  },
  {
   "cell_type": "code",
   "execution_count": 221,
   "metadata": {},
   "outputs": [
    {
     "data": {
      "text/plain": [
       "0"
      ]
     },
     "execution_count": 221,
     "metadata": {},
     "output_type": "execute_result"
    }
   ],
   "source": [
    "update = 0\n",
    "for row in eachrow(df_dh_ep)\n",
    "    if ismissing(row[:dh_gsn]) && !ismissing(row[:ep_gsn])\n",
    "        row[:dh_gsn] = row[:ep_gsn]\n",
    "        update += 1\n",
    "    end\n",
    "end\n",
    "update"
   ]
  },
  {
   "cell_type": "code",
   "execution_count": 222,
   "metadata": {},
   "outputs": [
    {
     "data": {
      "text/plain": [
       "1101"
      ]
     },
     "execution_count": 222,
     "metadata": {},
     "output_type": "execute_result"
    }
   ],
   "source": [
    "count(!ismissing, df_dh_ep.dh_gsn)"
   ]
  },
  {
   "cell_type": "markdown",
   "metadata": {},
   "source": [
    "GS  \n",
    "ID und GSN der Domherren aus der Personendatenbank"
   ]
  },
  {
   "cell_type": "code",
   "execution_count": 223,
   "metadata": {},
   "outputs": [],
   "source": [
    "table_name = \"item\";\n",
    "item_type_domherr_gs = 6;\n",
    "sql = \"SELECT i.id as gs, e1.value AS gs_gsn\n",
    "FROM $(table_name) AS i\n",
    "JOIN id_external AS e1 ON e1.item_id = i.id AND e1.authority_id = 200\n",
    "WHERE i.item_type_id = $(item_type_domherr_gs) AND i.is_online\";\n",
    "df_gs = Wds.sql_df(sql);"
   ]
  },
  {
   "cell_type": "code",
   "execution_count": 224,
   "metadata": {},
   "outputs": [
    {
     "data": {
      "text/plain": [
       "\"SELECT i.id as gs, e1.value AS gs_gsn FROM item AS i JOIN id_external AS e1 ON e1.item_id = i.id AND e1.authority_id = 200 WHERE i.item_type_id = 6 AND i.is_online\""
      ]
     },
     "execution_count": 224,
     "metadata": {},
     "output_type": "execute_result"
    }
   ],
   "source": [
    "replace(sql, '\\n' => ' ')"
   ]
  },
  {
   "cell_type": "code",
   "execution_count": 225,
   "metadata": {},
   "outputs": [
    {
     "data": {
      "text/plain": [
       "9292"
      ]
     },
     "execution_count": 225,
     "metadata": {},
     "output_type": "execute_result"
    }
   ],
   "source": [
    "size(df_gs, 1)"
   ]
  },
  {
   "cell_type": "markdown",
   "metadata": {},
   "source": [
    "GS - EP"
   ]
  },
  {
   "cell_type": "code",
   "execution_count": 226,
   "metadata": {},
   "outputs": [],
   "source": [
    "df_gs_ep = leftjoin(df_gs, \n",
    "    select(df_ep, [:ep => :ep2, :ep_gsn => :ep_gsn]),\n",
    "    on = :gs_gsn => :ep_gsn, \n",
    "    matchmissing = :notequal);"
   ]
  },
  {
   "cell_type": "code",
   "execution_count": 227,
   "metadata": {},
   "outputs": [
    {
     "data": {
      "text/plain": [
       "9292"
      ]
     },
     "execution_count": 227,
     "metadata": {},
     "output_type": "execute_result"
    }
   ],
   "source": [
    "size(df_gs_ep, 1)"
   ]
  },
  {
   "cell_type": "code",
   "execution_count": 228,
   "metadata": {},
   "outputs": [
    {
     "data": {
      "text/plain": [
       "(0, 775)"
      ]
     },
     "execution_count": 228,
     "metadata": {},
     "output_type": "execute_result"
    }
   ],
   "source": [
    "count(ismissing, df_gs_ep.gs_gsn), count(!ismissing, df_gs_ep.ep2)"
   ]
  },
  {
   "cell_type": "code",
   "execution_count": 229,
   "metadata": {},
   "outputs": [
    {
     "data": {
      "text/html": [
       "<div class=\"data-frame\"><p>5 rows × 3 columns</p><table class=\"data-frame\"><thead><tr><th></th><th>gs</th><th>gs_gsn</th><th>ep2</th></tr><tr><th></th><th title=\"Int32\">Int32</th><th title=\"Union{Missing, String}\">String?</th><th title=\"Union{Missing, Int32}\">Int32?</th></tr></thead><tbody><tr><th>1</th><td>484922</td><td>077-00339-001</td><td>478750</td></tr><tr><th>2</th><td>484923</td><td>062-00548-001</td><td>479587</td></tr><tr><th>3</th><td>484931</td><td>077-00859-001</td><td>478702</td></tr><tr><th>4</th><td>484937</td><td>077-00707-001</td><td>478974</td></tr><tr><th>5</th><td>484940</td><td>053-00080-001</td><td>478594</td></tr></tbody></table></div>"
      ],
      "text/latex": [
       "\\begin{tabular}{r|ccc}\n",
       "\t& gs & gs\\_gsn & ep2\\\\\n",
       "\t\\hline\n",
       "\t& Int32 & String? & Int32?\\\\\n",
       "\t\\hline\n",
       "\t1 & 484922 & 077-00339-001 & 478750 \\\\\n",
       "\t2 & 484923 & 062-00548-001 & 479587 \\\\\n",
       "\t3 & 484931 & 077-00859-001 & 478702 \\\\\n",
       "\t4 & 484937 & 077-00707-001 & 478974 \\\\\n",
       "\t5 & 484940 & 053-00080-001 & 478594 \\\\\n",
       "\\end{tabular}\n"
      ],
      "text/plain": [
       "\u001b[1m5×3 DataFrame\u001b[0m\n",
       "\u001b[1m Row \u001b[0m│\u001b[1m gs     \u001b[0m\u001b[1m gs_gsn        \u001b[0m\u001b[1m ep2    \u001b[0m\n",
       "\u001b[1m     \u001b[0m│\u001b[90m Int32  \u001b[0m\u001b[90m String?       \u001b[0m\u001b[90m Int32? \u001b[0m\n",
       "─────┼───────────────────────────────\n",
       "   1 │ 484922  077-00339-001  478750\n",
       "   2 │ 484923  062-00548-001  479587\n",
       "   3 │ 484931  077-00859-001  478702\n",
       "   4 │ 484937  077-00707-001  478974\n",
       "   5 │ 484940  053-00080-001  478594"
      ]
     },
     "execution_count": 229,
     "metadata": {},
     "output_type": "execute_result"
    }
   ],
   "source": [
    "df_gs_ep[201:205, :]"
   ]
  },
  {
   "cell_type": "markdown",
   "metadata": {},
   "source": [
    "Die Domherren aus GS haben alle eine GSN, daher kann `df_gs_ep` ergänzt werden aus `df_cn_lp`."
   ]
  },
  {
   "cell_type": "code",
   "execution_count": 230,
   "metadata": {},
   "outputs": [
    {
     "data": {
      "text/plain": [
       "3-element Vector{String}:\n",
       " \"gs\"\n",
       " \"gs_gsn\"\n",
       " \"ep2\""
      ]
     },
     "execution_count": 230,
     "metadata": {},
     "output_type": "execute_result"
    }
   ],
   "source": [
    "names(df_gs_ep)"
   ]
  },
  {
   "cell_type": "code",
   "execution_count": 231,
   "metadata": {},
   "outputs": [
    {
     "data": {
      "text/plain": [
       "5-element Vector{String}:\n",
       " \"dh\"\n",
       " \"dh_gsn\"\n",
       " \"dh_episc_id\"\n",
       " \"ep1\"\n",
       " \"ep_gsn\""
      ]
     },
     "execution_count": 231,
     "metadata": {},
     "output_type": "execute_result"
    }
   ],
   "source": [
    "names(df_dh_ep)"
   ]
  },
  {
   "cell_type": "code",
   "execution_count": 232,
   "metadata": {},
   "outputs": [],
   "source": [
    "df_cn_lp = outerjoin(df_dh_ep, \n",
    "    df_gs_ep,\n",
    "    on = :dh_gsn => :gs_gsn, \n",
    "    matchmissing = :equal);"
   ]
  },
  {
   "cell_type": "code",
   "execution_count": 233,
   "metadata": {},
   "outputs": [
    {
     "data": {
      "text/plain": [
       "(13718, 1100, 1101)"
      ]
     },
     "execution_count": 233,
     "metadata": {},
     "output_type": "execute_result"
    }
   ],
   "source": [
    "# gesamt, davon zugeordnet über GSN, Zahl der GSN für Domherren\n",
    "size(df_cn_lp, 1), size(df_dh_ep, 1) + size(df_gs_ep, 1) - size(df_cn_lp, 1), count(!ismissing, df_dh_ep.dh_gsn)"
   ]
  },
  {
   "cell_type": "markdown",
   "metadata": {},
   "source": [
    "Wenn nicht alle Domherren aus der Domherrendatenbank eine Zuordnung unter den Domherren aus der Personendatenbank finden, sind die Domherren aus der Personendatenbank neu einzulesen.  \n",
    "*2022-07-26* `(12013, 739, 742)` Die Differenz wird vorerst toleriert.\n",
    "*2022-10-15* `(12776, 905, 906)` Eine GSN wurde doppelt verwendet.  \n",
    "*2022-10-19* `(13718, 1100, 1101)` Eine GSN wurde doppelt verwendet.  "
   ]
  },
  {
   "cell_type": "code",
   "execution_count": 234,
   "metadata": {},
   "outputs": [
    {
     "data": {
      "text/html": [
       "<div class=\"data-frame\"><p>5 rows × 7 columns</p><table class=\"data-frame\"><thead><tr><th></th><th>dh</th><th>dh_gsn</th><th>dh_episc_id</th><th>ep1</th><th>ep_gsn</th><th>gs</th><th>ep2</th></tr><tr><th></th><th title=\"Union{Missing, Int32}\">Int32?</th><th title=\"Union{Missing, String}\">String?</th><th title=\"Union{Missing, String}\">String?</th><th title=\"Union{Missing, Int32}\">Int32?</th><th title=\"Union{Missing, String}\">String?</th><th title=\"Union{Missing, Int32}\">Int32?</th><th title=\"Union{Missing, Int32}\">Int32?</th></tr></thead><tbody><tr><th>1</th><td>454467</td><td>068-01694-001</td><td>WIAG-Pers-EPISCGatz-20975-001</td><td>479837</td><td>068-01694-001</td><td>484423</td><td>479837</td></tr><tr><th>2</th><td>454561</td><td>052-01190-001</td><td>WIAG-Pers-EPISCGatz-20265-001</td><td>479287</td><td>052-01190-001</td><td>484426</td><td>479287</td></tr><tr><th>3</th><td>455449</td><td>052-01635-001</td><td>WIAG-Pers-EPISCGatz-20792-001</td><td>479760</td><td>052-01635-001</td><td>484427</td><td>479760</td></tr><tr><th>4</th><td>444749</td><td>058-02258-001</td><td>WIAG-Pers-EPISCGatz-10232-001</td><td>477621</td><td>058-02258-001</td><td>484486</td><td>477621</td></tr><tr><th>5</th><td>452172</td><td>063-00418-001</td><td>WIAG-Pers-EPISCGatz-02602-001</td><td>475760</td><td>063-00418-001</td><td>484614</td><td>475760</td></tr></tbody></table></div>"
      ],
      "text/latex": [
       "\\begin{tabular}{r|ccccccc}\n",
       "\t& dh & dh\\_gsn & dh\\_episc\\_id & ep1 & ep\\_gsn & gs & ep2\\\\\n",
       "\t\\hline\n",
       "\t& Int32? & String? & String? & Int32? & String? & Int32? & Int32?\\\\\n",
       "\t\\hline\n",
       "\t1 & 454467 & 068-01694-001 & WIAG-Pers-EPISCGatz-20975-001 & 479837 & 068-01694-001 & 484423 & 479837 \\\\\n",
       "\t2 & 454561 & 052-01190-001 & WIAG-Pers-EPISCGatz-20265-001 & 479287 & 052-01190-001 & 484426 & 479287 \\\\\n",
       "\t3 & 455449 & 052-01635-001 & WIAG-Pers-EPISCGatz-20792-001 & 479760 & 052-01635-001 & 484427 & 479760 \\\\\n",
       "\t4 & 444749 & 058-02258-001 & WIAG-Pers-EPISCGatz-10232-001 & 477621 & 058-02258-001 & 484486 & 477621 \\\\\n",
       "\t5 & 452172 & 063-00418-001 & WIAG-Pers-EPISCGatz-02602-001 & 475760 & 063-00418-001 & 484614 & 475760 \\\\\n",
       "\\end{tabular}\n"
      ],
      "text/plain": [
       "\u001b[1m5×7 DataFrame\u001b[0m\n",
       "\u001b[1m Row \u001b[0m│\u001b[1m dh     \u001b[0m\u001b[1m dh_gsn        \u001b[0m\u001b[1m dh_episc_id                   \u001b[0m\u001b[1m ep1    \u001b[0m\u001b[1m ep_gsn        \u001b[0m\u001b[1m gs     \u001b[0m\u001b[1m ep2    \u001b[0m\n",
       "\u001b[1m     \u001b[0m│\u001b[90m Int32? \u001b[0m\u001b[90m String?       \u001b[0m\u001b[90m String?                       \u001b[0m\u001b[90m Int32? \u001b[0m\u001b[90m String?       \u001b[0m\u001b[90m Int32? \u001b[0m\u001b[90m Int32? \u001b[0m\n",
       "─────┼─────────────────────────────────────────────────────────────────────────────────────────────\n",
       "   1 │ 454467  068-01694-001  WIAG-Pers-EPISCGatz-20975-001  479837  068-01694-001  484423  479837\n",
       "   2 │ 454561  052-01190-001  WIAG-Pers-EPISCGatz-20265-001  479287  052-01190-001  484426  479287\n",
       "   3 │ 455449  052-01635-001  WIAG-Pers-EPISCGatz-20792-001  479760  052-01635-001  484427  479760\n",
       "   4 │ 444749  058-02258-001  WIAG-Pers-EPISCGatz-10232-001  477621  058-02258-001  484486  477621\n",
       "   5 │ 452172  063-00418-001  WIAG-Pers-EPISCGatz-02602-001  475760  063-00418-001  484614  475760"
      ]
     },
     "execution_count": 234,
     "metadata": {},
     "output_type": "execute_result"
    }
   ],
   "source": [
    "df_cn_lp[21:25, :]"
   ]
  },
  {
   "cell_type": "markdown",
   "metadata": {},
   "source": [
    "Führe Verweise auf Bischöfe im Feld `ep` zusammen. Übernimm den Verweis aus der Domherrendatenbank und - falls dieser nicht vorhanden ist - den Verweis aus der Personendatenbank."
   ]
  },
  {
   "cell_type": "code",
   "execution_count": 235,
   "metadata": {},
   "outputs": [],
   "source": [
    "df_cn_lp[!, :ep] .= df_cn_lp.ep1;"
   ]
  },
  {
   "cell_type": "code",
   "execution_count": 236,
   "metadata": {},
   "outputs": [
    {
     "data": {
      "text/plain": [
       "470"
      ]
     },
     "execution_count": 236,
     "metadata": {},
     "output_type": "execute_result"
    }
   ],
   "source": [
    "update = 0\n",
    "for row in eachrow(df_cn_lp)\n",
    "    if ismissing(row[:ep]) && !ismissing(row[:ep2])\n",
    "        row[:ep] = row[:ep2]\n",
    "        update += 1\n",
    "    end\n",
    "end\n",
    "update"
   ]
  },
  {
   "cell_type": "markdown",
   "metadata": {},
   "source": [
    "Bringe die Verweise in eine flache Struktur:  \n",
    "Die Personendaten beziehen sich auf den einen der Einträge Bischof > Domherr > Domherr GS.  \n",
    "Die Ämterdaten werden alle eingetragen, so vorhanden: Domherr > Domherr GS > Bischof."
   ]
  },
  {
   "cell_type": "code",
   "execution_count": 237,
   "metadata": {},
   "outputs": [
    {
     "data": {
      "text/html": [
       "<div class=\"data-frame\"><p>0 rows × 3 columns</p><table class=\"data-frame\"><thead><tr><th></th><th>person_id_name</th><th>person_id_role</th><th>prio_role</th></tr><tr><th></th><th title=\"Int64\">Int64</th><th title=\"Int64\">Int64</th><th title=\"Int64\">Int64</th></tr></thead><tbody></tbody></table></div>"
      ],
      "text/latex": [
       "\\begin{tabular}{r|ccc}\n",
       "\t& person\\_id\\_name & person\\_id\\_role & prio\\_role\\\\\n",
       "\t\\hline\n",
       "\t& Int64 & Int64 & Int64\\\\\n",
       "\t\\hline\n",
       "\\end{tabular}\n"
      ],
      "text/plain": [
       "\u001b[1m0×3 DataFrame\u001b[0m"
      ]
     },
     "execution_count": 237,
     "metadata": {},
     "output_type": "execute_result"
    }
   ],
   "source": [
    "df_cn_lp_db = DataFrame(person_id_name = Int[], person_id_role = Int[], prio_role = Int[])"
   ]
  },
  {
   "cell_type": "code",
   "execution_count": 238,
   "metadata": {},
   "outputs": [],
   "source": [
    "for row in eachrow(df_cn_lp)\n",
    "    prio = 1\n",
    "    if !ismissing(row[:ep])\n",
    "        name = row[:ep]\n",
    "        if !ismissing(row[:dh])\n",
    "            push!(df_cn_lp_db, (name, row[:dh], prio))\n",
    "            prio += 1\n",
    "        end\n",
    "        if !ismissing(row[:gs])\n",
    "            push!(df_cn_lp_db, (name, row[:gs], prio))\n",
    "            prio += 1\n",
    "        end        \n",
    "        push!(df_cn_lp_db, (name, row[:ep], prio))\n",
    "    elseif !ismissing(row[:dh])\n",
    "        prio = 1\n",
    "        name = row[:dh]\n",
    "        push!(df_cn_lp_db, (name, row[:dh], prio))\n",
    "        prio += 1\n",
    "        if !ismissing(row[:gs])\n",
    "            push!(df_cn_lp_db, (name, row[:gs], prio))\n",
    "        end\n",
    "    else\n",
    "        prio = 1\n",
    "        push!(df_cn_lp_db, (row[:gs], row[:gs], prio))\n",
    "    end\n",
    "end        "
   ]
  },
  {
   "cell_type": "code",
   "execution_count": 239,
   "metadata": {},
   "outputs": [
    {
     "data": {
      "text/html": [
       "<div class=\"data-frame\"><p>5 rows × 3 columns</p><table class=\"data-frame\"><thead><tr><th></th><th>person_id_name</th><th>person_id_role</th><th>prio_role</th></tr><tr><th></th><th title=\"Int64\">Int64</th><th title=\"Int64\">Int64</th><th title=\"Int64\">Int64</th></tr></thead><tbody><tr><th>1</th><td>455211</td><td>481197</td><td>2</td></tr><tr><th>2</th><td>454643</td><td>454643</td><td>1</td></tr><tr><th>3</th><td>454643</td><td>481199</td><td>2</td></tr><tr><th>4</th><td>454595</td><td>454595</td><td>1</td></tr><tr><th>5</th><td>454595</td><td>481201</td><td>2</td></tr></tbody></table></div>"
      ],
      "text/latex": [
       "\\begin{tabular}{r|ccc}\n",
       "\t& person\\_id\\_name & person\\_id\\_role & prio\\_role\\\\\n",
       "\t\\hline\n",
       "\t& Int64 & Int64 & Int64\\\\\n",
       "\t\\hline\n",
       "\t1 & 455211 & 481197 & 2 \\\\\n",
       "\t2 & 454643 & 454643 & 1 \\\\\n",
       "\t3 & 454643 & 481199 & 2 \\\\\n",
       "\t4 & 454595 & 454595 & 1 \\\\\n",
       "\t5 & 454595 & 481201 & 2 \\\\\n",
       "\\end{tabular}\n"
      ],
      "text/plain": [
       "\u001b[1m5×3 DataFrame\u001b[0m\n",
       "\u001b[1m Row \u001b[0m│\u001b[1m person_id_name \u001b[0m\u001b[1m person_id_role \u001b[0m\u001b[1m prio_role \u001b[0m\n",
       "\u001b[1m     \u001b[0m│\u001b[90m Int64          \u001b[0m\u001b[90m Int64          \u001b[0m\u001b[90m Int64     \u001b[0m\n",
       "─────┼───────────────────────────────────────────\n",
       "   1 │         455211          481197          2\n",
       "   2 │         454643          454643          1\n",
       "   3 │         454643          481199          2\n",
       "   4 │         454595          454595          1\n",
       "   5 │         454595          481201          2"
      ]
     },
     "execution_count": 239,
     "metadata": {},
     "output_type": "execute_result"
    }
   ],
   "source": [
    "df_cn_lp_db[1021:1025, :]"
   ]
  },
  {
   "cell_type": "code",
   "execution_count": 240,
   "metadata": {},
   "outputs": [
    {
     "data": {
      "text/plain": [
       "0"
      ]
     },
     "execution_count": 240,
     "metadata": {},
     "output_type": "execute_result"
    }
   ],
   "source": [
    "count(ismissing, df_cn_lp_db.person_id_name)"
   ]
  },
  {
   "cell_type": "code",
   "execution_count": 241,
   "metadata": {},
   "outputs": [
    {
     "name": "stderr",
     "output_type": "stream",
     "text": [
      "┌ Info: 10000\n",
      "└ @ WiagDataSetup C:\\Users\\georg\\Documents\\projekte\\WiagDataSetup.jl\\src\\WiagDataSetup.jl:1193\n",
      "┌ Info: Rows inserted: 15691\n",
      "└ @ WiagDataSetup C:\\Users\\georg\\Documents\\projekte\\WiagDataSetup.jl\\src\\WiagDataSetup.jl:1216\n"
     ]
    },
    {
     "data": {
      "text/plain": [
       "15691"
      ]
     },
     "execution_count": 241,
     "metadata": {},
     "output_type": "execute_result"
    }
   ],
   "source": [
    "table_name = \"canon_lookup\"\n",
    "Wds.filltable!(table_name, df_cn_lp_db; clear_table = true)"
   ]
  },
  {
   "cell_type": "markdown",
   "metadata": {},
   "source": [
    "Version mit paralleler Struktur für `canon_lookup`  \n",
    "*2022-03-10* vermutlich obsolet"
   ]
  },
  {
   "cell_type": "markdown",
   "metadata": {},
   "source": [
    "`id` ist `dh` oder `gs`"
   ]
  },
  {
   "cell_type": "code",
   "execution_count": null,
   "metadata": {},
   "outputs": [],
   "source": [
    "df_cn_lp_gs[!, :id] = copy(df_cn_lp_gs.dh);"
   ]
  },
  {
   "cell_type": "code",
   "execution_count": null,
   "metadata": {},
   "outputs": [],
   "source": [
    "for row in eachrow(df_cn_lp_gs)\n",
    "    if ismissing(row[:id])\n",
    "        if !ismissing(row[:gs])\n",
    "            row[:id] = row[:gs]\n",
    "        else\n",
    "            @warn \"missing dh and gs\" row\n",
    "        end\n",
    "    end\n",
    "end          "
   ]
  },
  {
   "cell_type": "markdown",
   "metadata": {},
   "source": [
    "`person_id` ist `ep` oder `dh` oder `gs`"
   ]
  },
  {
   "cell_type": "code",
   "execution_count": null,
   "metadata": {},
   "outputs": [],
   "source": [
    "df_cn_lp_gs[!, :person_id] = copy(df_cn_lp_gs.ep);"
   ]
  },
  {
   "cell_type": "code",
   "execution_count": null,
   "metadata": {},
   "outputs": [],
   "source": [
    "for row in eachrow(df_cn_lp_gs)\n",
    "    if ismissing(row[:person_id])\n",
    "        if !ismissing(row[:dh])\n",
    "            row[:person_id] = row[:dh]\n",
    "        elseif !ismissing(row[:gs])\n",
    "            row[:person_id] = row[:gs]\n",
    "        else\n",
    "            @warn \"missing ep and dh and gs\" row\n",
    "        end\n",
    "    end\n",
    "end          "
   ]
  },
  {
   "cell_type": "markdown",
   "metadata": {},
   "source": [
    "Führe die Verweise auf Bischöfe zusammen"
   ]
  },
  {
   "cell_type": "code",
   "execution_count": null,
   "metadata": {},
   "outputs": [],
   "source": [
    "names(df_cn_lp_gs)"
   ]
  },
  {
   "cell_type": "code",
   "execution_count": null,
   "metadata": {},
   "outputs": [],
   "source": [
    "df_cn_lp_gs[!, :ep] = copy(df_cn_lp_gs.ep1);"
   ]
  },
  {
   "cell_type": "code",
   "execution_count": null,
   "metadata": {},
   "outputs": [],
   "source": [
    "for row in eachrow(df_cn_lp_gs)\n",
    "    if !ismissing(row[:ep2])\n",
    "        if !ismissing(row[:ep])\n",
    "            if row[:ep] != row[:ep2]\n",
    "                println(row)\n",
    "            end\n",
    "        else\n",
    "            row[:ep] = row[:ep2]\n",
    "        end\n",
    "    end\n",
    "end               "
   ]
  },
  {
   "cell_type": "markdown",
   "metadata": {},
   "source": [
    "Keine Ausgabe -> Alle Verweise auf Bischöfe stimmen überein"
   ]
  },
  {
   "cell_type": "code",
   "execution_count": null,
   "metadata": {},
   "outputs": [],
   "source": [
    "count(!ismissing, df_cn_lp_gs.ep1), count(!ismissing, df_cn_lp_gs.ep2), count(!ismissing, df_cn_lp_gs.ep)"
   ]
  },
  {
   "cell_type": "markdown",
   "metadata": {},
   "source": [
    "In der Domherrendatenbank wurden alle Verweise recherchiert."
   ]
  },
  {
   "cell_type": "code",
   "execution_count": null,
   "metadata": {},
   "outputs": [],
   "source": [
    "columns = [\n",
    "    :id => :id,\n",
    "    :person_id => :person_id,\n",
    "    :dh => :canon,\n",
    "    :gs => :canon_gs,\n",
    "    :ep => :bishop\n",
    "]"
   ]
  },
  {
   "cell_type": "code",
   "execution_count": null,
   "metadata": {},
   "outputs": [],
   "source": [
    "table_name = \"canon_lookup\"\n",
    "Wds.filltable!(table_name, select(df_cn_lp_gs, columns))"
   ]
  },
  {
   "cell_type": "markdown",
   "metadata": {},
   "source": [
    "### canon_sort\n",
    "*2022-07-26* nicht mehr in Verwendung"
   ]
  },
  {
   "cell_type": "code",
   "execution_count": 43,
   "metadata": {},
   "outputs": [],
   "source": [
    "sql = \"SELECT person_id, role_name, min(name_short) AS domstift_sort\n",
    "FROM person_role AS p\n",
    "JOIN institution AS i ON p.institution_id = i.id\n",
    "JOIN canon_lookup AS c ON c.person_id_role = p.person_id\n",
    "WHERE c.prio_role = 1\n",
    "AND i.item_type_id = 3\n",
    "GROUP BY person_id\";\n",
    "df_sort_i = Wds.sql_df(sql);"
   ]
  },
  {
   "cell_type": "code",
   "execution_count": 44,
   "metadata": {},
   "outputs": [],
   "source": [
    "df_cn_lp_db = leftjoin(df_cn_lp_db, df_sort_i, on = :person_id_role => :person_id);"
   ]
  },
  {
   "cell_type": "code",
   "execution_count": 45,
   "metadata": {},
   "outputs": [
    {
     "data": {
      "text/plain": [
       "(12952, 5)"
      ]
     },
     "execution_count": 45,
     "metadata": {},
     "output_type": "execute_result"
    }
   ],
   "source": [
    "size(df_cn_lp_db)"
   ]
  },
  {
   "cell_type": "code",
   "execution_count": 64,
   "metadata": {},
   "outputs": [],
   "source": [
    "sql = \"SELECT person_id, min(date_sort_key) AS date_sort_key\n",
    "FROM person_role AS p\n",
    "JOIN canon_lookup AS c ON c.person_id_role = p.person_id\n",
    "WHERE c.prio_role = 1\n",
    "GROUP BY person_id\";\n",
    "df_sort_d = Wds.sql_df(sql);"
   ]
  },
  {
   "cell_type": "code",
   "execution_count": 65,
   "metadata": {},
   "outputs": [],
   "source": [
    "df_cn_lp_db = leftjoin(df_cn_lp_db, df_sort_d, on = :person_id_role => :person_id);"
   ]
  },
  {
   "cell_type": "code",
   "execution_count": 66,
   "metadata": {},
   "outputs": [],
   "source": [
    "df_cn_g = groupby(df_cn_lp_db, :person_id_name);"
   ]
  },
  {
   "cell_type": "code",
   "execution_count": 67,
   "metadata": {},
   "outputs": [],
   "source": [
    "df_cn_s = combine(df_cn_g, first);"
   ]
  },
  {
   "cell_type": "code",
   "execution_count": 69,
   "metadata": {},
   "outputs": [
    {
     "data": {
      "text/plain": [
       "(11586, 6)"
      ]
     },
     "execution_count": 69,
     "metadata": {},
     "output_type": "execute_result"
    }
   ],
   "source": [
    "size(df_cn_s)"
   ]
  },
  {
   "cell_type": "code",
   "execution_count": 70,
   "metadata": {},
   "outputs": [
    {
     "data": {
      "text/plain": [
       "3-element Vector{Pair{Symbol, Symbol}}:\n",
       " :person_id_name => :id\n",
       "  :domstift_sort => :domstift_short\n",
       "  :date_sort_key => :date_sort_key"
      ]
     },
     "execution_count": 70,
     "metadata": {},
     "output_type": "execute_result"
    }
   ],
   "source": [
    "columns = [\n",
    "    :person_id_name => :id,\n",
    "    :domstift_sort => :domstift_short,\n",
    "    :date_sort_key => :date_sort_key\n",
    "]"
   ]
  },
  {
   "cell_type": "code",
   "execution_count": 71,
   "metadata": {},
   "outputs": [
    {
     "name": "stderr",
     "output_type": "stream",
     "text": [
      "┌ Info: 10000\n",
      "└ @ WiagDataSetup C:\\Users\\georg\\Documents\\projekte\\WiagDataSetup.jl\\src\\WiagDataSetup.jl:1193\n",
      "┌ Info: Rows inserted: 11586\n",
      "└ @ WiagDataSetup C:\\Users\\georg\\Documents\\projekte\\WiagDataSetup.jl\\src\\WiagDataSetup.jl:1216\n"
     ]
    },
    {
     "data": {
      "text/plain": [
       "11586"
      ]
     },
     "execution_count": 71,
     "metadata": {},
     "output_type": "execute_result"
    }
   ],
   "source": [
    "table_name = \"canon_sort\"\n",
    "Wds.filltable!(table_name, select(df_cn_s, columns); clear_table = true)"
   ]
  },
  {
   "cell_type": "markdown",
   "metadata": {},
   "source": [
    "### Nachtrag person.note_name"
   ]
  },
  {
   "cell_type": "code",
   "execution_count": 242,
   "metadata": {},
   "outputs": [],
   "source": [
    "using DataFrames"
   ]
  },
  {
   "cell_type": "code",
   "execution_count": 243,
   "metadata": {},
   "outputs": [],
   "source": [
    "table_name = gs_db * \".\" * \"persons\";\n",
    "sql = \"SELECT id, vorname, familienname, namenszusatz\n",
    "FROM $(table_name)\n",
    "WHERE namenszusatz IS NOT NULL and namenszusatz <> ''\";"
   ]
  },
  {
   "cell_type": "code",
   "execution_count": 244,
   "metadata": {},
   "outputs": [
    {
     "data": {
      "text/plain": [
       "\"SELECT id, vorname, familienname, namenszusatz FROM gso_in_202210.persons WHERE namenszusatz IS NOT NULL and namenszusatz <> ''\""
      ]
     },
     "execution_count": 244,
     "metadata": {},
     "output_type": "execute_result"
    }
   ],
   "source": [
    "sql_db = join(split(sql, \"\\n\"), ' ')"
   ]
  },
  {
   "cell_type": "code",
   "execution_count": 245,
   "metadata": {},
   "outputs": [],
   "source": [
    "df_p_note_gs = Wds.sql_df(sql);"
   ]
  },
  {
   "cell_type": "code",
   "execution_count": 246,
   "metadata": {},
   "outputs": [],
   "source": [
    "Wds.clean_up!(df_p_note_gs);"
   ]
  },
  {
   "cell_type": "code",
   "execution_count": 247,
   "metadata": {},
   "outputs": [],
   "source": [
    "transform!(df_p_note_gs, :id => ByRow(string) => :id_in_source);"
   ]
  },
  {
   "cell_type": "code",
   "execution_count": 248,
   "metadata": {},
   "outputs": [],
   "source": [
    "table_name = \"item\";\n",
    "sql = \"SELECT id as item_id, id_in_source, item_type_id, id_public\n",
    "FROM $(table_name)\n",
    "WHERE item_type_id = $(item_type_id)\";\n",
    "df_item = Wds.sql_df(sql);"
   ]
  },
  {
   "cell_type": "code",
   "execution_count": 249,
   "metadata": {},
   "outputs": [
    {
     "data": {
      "text/plain": [
       "9292"
      ]
     },
     "execution_count": 249,
     "metadata": {},
     "output_type": "execute_result"
    }
   ],
   "source": [
    "size(df_item, 1)"
   ]
  },
  {
   "cell_type": "code",
   "execution_count": 250,
   "metadata": {},
   "outputs": [],
   "source": [
    "df_p_note = innerjoin(df_p_note_gs, df_item, on = :id_in_source);"
   ]
  },
  {
   "cell_type": "code",
   "execution_count": 251,
   "metadata": {},
   "outputs": [
    {
     "data": {
      "text/plain": [
       "771"
      ]
     },
     "execution_count": 251,
     "metadata": {},
     "output_type": "execute_result"
    }
   ],
   "source": [
    "size(df_p_note, 1)"
   ]
  },
  {
   "cell_type": "markdown",
   "metadata": {},
   "source": [
    "Nur ein Teil der Personen aus GS sind Domherren."
   ]
  },
  {
   "cell_type": "code",
   "execution_count": 252,
   "metadata": {
    "scrolled": true
   },
   "outputs": [
    {
     "data": {
      "text/html": [
       "<div class=\"data-frame\"><p>6 rows × 6 columns</p><table class=\"data-frame\"><thead><tr><th></th><th>id</th><th>id_in_source</th><th>item_id</th><th>id_public</th><th>vorname</th><th>familienname</th></tr><tr><th></th><th title=\"Int32\">Int32</th><th title=\"String\">String</th><th title=\"Int32\">Int32</th><th title=\"Union{Missing, String}\">String?</th><th title=\"Union{Missing, String}\">String?</th><th title=\"Union{Missing, String}\">String?</th></tr></thead><tbody><tr><th>1</th><td>108059</td><td>108059</td><td>482800</td><td>WIAG-Pers-CANON-82891-001</td><td>Johannes</td><td>Lepper</td></tr><tr><th>2</th><td>108054</td><td>108054</td><td>482802</td><td>WIAG-Pers-CANON-82889-001</td><td>Johannes</td><td>Jacobi</td></tr><tr><th>3</th><td>108042</td><td>108042</td><td>482807</td><td>WIAG-Pers-CANON-82884-001</td><td>Johannes</td><td>Hodelen</td></tr><tr><th>4</th><td>108039</td><td>108039</td><td>482808</td><td>WIAG-Pers-CANON-82882-001</td><td>Johannes</td><td>Hinxt</td></tr><tr><th>5</th><td>108038</td><td>108038</td><td>482809</td><td>WIAG-Pers-CANON-82881-001</td><td>Johannes</td><td>Hertoge</td></tr><tr><th>6</th><td>108157</td><td>108157</td><td>482812</td><td>WIAG-Pers-CANON-82941-001</td><td>Johannes</td><td>Werne</td></tr></tbody></table></div>"
      ],
      "text/latex": [
       "\\begin{tabular}{r|cccccc}\n",
       "\t& id & id\\_in\\_source & item\\_id & id\\_public & vorname & familienname\\\\\n",
       "\t\\hline\n",
       "\t& Int32 & String & Int32 & String? & String? & String?\\\\\n",
       "\t\\hline\n",
       "\t1 & 108059 & 108059 & 482800 & WIAG-Pers-CANON-82891-001 & Johannes & Lepper \\\\\n",
       "\t2 & 108054 & 108054 & 482802 & WIAG-Pers-CANON-82889-001 & Johannes & Jacobi \\\\\n",
       "\t3 & 108042 & 108042 & 482807 & WIAG-Pers-CANON-82884-001 & Johannes & Hodelen \\\\\n",
       "\t4 & 108039 & 108039 & 482808 & WIAG-Pers-CANON-82882-001 & Johannes & Hinxt \\\\\n",
       "\t5 & 108038 & 108038 & 482809 & WIAG-Pers-CANON-82881-001 & Johannes & Hertoge \\\\\n",
       "\t6 & 108157 & 108157 & 482812 & WIAG-Pers-CANON-82941-001 & Johannes & Werne \\\\\n",
       "\\end{tabular}\n"
      ],
      "text/plain": [
       "\u001b[1m6×6 DataFrame\u001b[0m\n",
       "\u001b[1m Row \u001b[0m│\u001b[1m id     \u001b[0m\u001b[1m id_in_source \u001b[0m\u001b[1m item_id \u001b[0m\u001b[1m id_public                 \u001b[0m\u001b[1m vorname  \u001b[0m\u001b[1m familienname \u001b[0m\n",
       "\u001b[1m     \u001b[0m│\u001b[90m Int32  \u001b[0m\u001b[90m String       \u001b[0m\u001b[90m Int32   \u001b[0m\u001b[90m String?                   \u001b[0m\u001b[90m String?  \u001b[0m\u001b[90m String?      \u001b[0m\n",
       "─────┼──────────────────────────────────────────────────────────────────────────────────\n",
       "   1 │ 108059  108059         482800  WIAG-Pers-CANON-82891-001  Johannes  Lepper\n",
       "   2 │ 108054  108054         482802  WIAG-Pers-CANON-82889-001  Johannes  Jacobi\n",
       "   3 │ 108042  108042         482807  WIAG-Pers-CANON-82884-001  Johannes  Hodelen\n",
       "   4 │ 108039  108039         482808  WIAG-Pers-CANON-82882-001  Johannes  Hinxt\n",
       "   5 │ 108038  108038         482809  WIAG-Pers-CANON-82881-001  Johannes  Hertoge\n",
       "   6 │ 108157  108157         482812  WIAG-Pers-CANON-82941-001  Johannes  Werne"
      ]
     },
     "execution_count": 252,
     "metadata": {},
     "output_type": "execute_result"
    }
   ],
   "source": [
    "df_p_note[200:205, [:id, :id_in_source, :item_id, :id_public, :vorname, :familienname]]"
   ]
  },
  {
   "cell_type": "code",
   "execution_count": 253,
   "metadata": {},
   "outputs": [
    {
     "data": {
      "text/html": [
       "<div class=\"data-frame\"><p>6 rows × 6 columns</p><table class=\"data-frame\"><thead><tr><th></th><th>id</th><th>id_in_source</th><th>item_id</th><th>namenszusatz</th><th>vorname</th><th>familienname</th></tr><tr><th></th><th title=\"Int32\">Int32</th><th title=\"String\">String</th><th title=\"Int32\">Int32</th><th title=\"String\">String</th><th title=\"Union{Missing, String}\">String?</th><th title=\"Union{Missing, String}\">String?</th></tr></thead><tbody><tr><th>1</th><td>108059</td><td>108059</td><td>482800</td><td>von Ahlen, der Ältere</td><td>Johannes</td><td>Lepper</td></tr><tr><th>2</th><td>108054</td><td>108054</td><td>482802</td><td>von Borken</td><td>Johannes</td><td>Jacobi</td></tr><tr><th>3</th><td>108042</td><td>108042</td><td>482807</td><td>von Dülmen</td><td>Johannes</td><td>Hodelen</td></tr><tr><th>4</th><td>108039</td><td>108039</td><td>482808</td><td>von Hamm</td><td>Johannes</td><td>Hinxt</td></tr><tr><th>5</th><td>108038</td><td>108038</td><td>482809</td><td>von Kamen</td><td>Johannes</td><td>Hertoge</td></tr><tr><th>6</th><td>108157</td><td>108157</td><td>482812</td><td>der Jüngere</td><td>Johannes</td><td>Werne</td></tr></tbody></table></div>"
      ],
      "text/latex": [
       "\\begin{tabular}{r|cccccc}\n",
       "\t& id & id\\_in\\_source & item\\_id & namenszusatz & vorname & familienname\\\\\n",
       "\t\\hline\n",
       "\t& Int32 & String & Int32 & String & String? & String?\\\\\n",
       "\t\\hline\n",
       "\t1 & 108059 & 108059 & 482800 & von Ahlen, der Ältere & Johannes & Lepper \\\\\n",
       "\t2 & 108054 & 108054 & 482802 & von Borken & Johannes & Jacobi \\\\\n",
       "\t3 & 108042 & 108042 & 482807 & von Dülmen & Johannes & Hodelen \\\\\n",
       "\t4 & 108039 & 108039 & 482808 & von Hamm & Johannes & Hinxt \\\\\n",
       "\t5 & 108038 & 108038 & 482809 & von Kamen & Johannes & Hertoge \\\\\n",
       "\t6 & 108157 & 108157 & 482812 & der Jüngere & Johannes & Werne \\\\\n",
       "\\end{tabular}\n"
      ],
      "text/plain": [
       "\u001b[1m6×6 DataFrame\u001b[0m\n",
       "\u001b[1m Row \u001b[0m│\u001b[1m id     \u001b[0m\u001b[1m id_in_source \u001b[0m\u001b[1m item_id \u001b[0m\u001b[1m namenszusatz          \u001b[0m\u001b[1m vorname  \u001b[0m\u001b[1m familienname \u001b[0m\n",
       "\u001b[1m     \u001b[0m│\u001b[90m Int32  \u001b[0m\u001b[90m String       \u001b[0m\u001b[90m Int32   \u001b[0m\u001b[90m String                \u001b[0m\u001b[90m String?  \u001b[0m\u001b[90m String?      \u001b[0m\n",
       "─────┼──────────────────────────────────────────────────────────────────────────────\n",
       "   1 │ 108059  108059         482800  von Ahlen, der Ältere  Johannes  Lepper\n",
       "   2 │ 108054  108054         482802  von Borken             Johannes  Jacobi\n",
       "   3 │ 108042  108042         482807  von Dülmen             Johannes  Hodelen\n",
       "   4 │ 108039  108039         482808  von Hamm               Johannes  Hinxt\n",
       "   5 │ 108038  108038         482809  von Kamen              Johannes  Hertoge\n",
       "   6 │ 108157  108157         482812  der Jüngere            Johannes  Werne"
      ]
     },
     "execution_count": 253,
     "metadata": {},
     "output_type": "execute_result"
    }
   ],
   "source": [
    "df_p_note[200:205, [:id, :id_in_source, :item_id, :namenszusatz, :vorname, :familienname]]"
   ]
  },
  {
   "cell_type": "code",
   "execution_count": 254,
   "metadata": {},
   "outputs": [
    {
     "data": {
      "text/plain": [
       "8-element Vector{String}:\n",
       " \"id\"\n",
       " \"vorname\"\n",
       " \"familienname\"\n",
       " \"namenszusatz\"\n",
       " \"id_in_source\"\n",
       " \"item_id\"\n",
       " \"item_type_id\"\n",
       " \"id_public\""
      ]
     },
     "execution_count": 254,
     "metadata": {},
     "output_type": "execute_result"
    }
   ],
   "source": [
    "names(df_p_note)"
   ]
  },
  {
   "cell_type": "code",
   "execution_count": 255,
   "metadata": {},
   "outputs": [
    {
     "data": {
      "text/plain": [
       "sql_update (generic function with 1 method)"
      ]
     },
     "execution_count": 255,
     "metadata": {},
     "output_type": "execute_result"
    }
   ],
   "source": [
    "table_name = \"person\";\n",
    "function sql_update(note_name, person_id) \n",
    "    sql = \"UPDATE $(table_name) AS p \" *\n",
    "    \"SET p.note_name = '$(note_name)' \" *\n",
    "    \"WHERE p.id = $(person_id)\"\n",
    "    return sql\n",
    "end"
   ]
  },
  {
   "cell_type": "code",
   "execution_count": 256,
   "metadata": {},
   "outputs": [
    {
     "name": "stderr",
     "output_type": "stream",
     "text": [
      "┌ Info: 200\n",
      "└ @ Main In[256]:8\n",
      "┌ Info: 400\n",
      "└ @ Main In[256]:8\n",
      "┌ Info: 600\n",
      "└ @ Main In[256]:8\n"
     ]
    }
   ],
   "source": [
    "count_loop = 0;\n",
    "count_msg = 200;\n",
    "for row in eachrow(df_p_note)\n",
    "    sql = sql_update(row[:namenszusatz], row[:item_id])\n",
    "    DBInterface.execute(Wds.dbwiag, sql)\n",
    "    count_loop += 1;\n",
    "    if count_loop % count_msg == 0\n",
    "        @info count_loop\n",
    "    end\n",
    "end"
   ]
  },
  {
   "cell_type": "code",
   "execution_count": null,
   "metadata": {},
   "outputs": [],
   "source": []
  }
 ],
 "metadata": {
  "kernelspec": {
   "display_name": "Julia 1.7.0",
   "language": "julia",
   "name": "julia-1.7"
  },
  "language_info": {
   "file_extension": ".jl",
   "mimetype": "application/julia",
   "name": "julia",
   "version": "1.7.0"
  }
 },
 "nbformat": 4,
 "nbformat_minor": 4
}
