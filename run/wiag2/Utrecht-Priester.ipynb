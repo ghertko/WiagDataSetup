{
 "cells": [
  {
   "cell_type": "markdown",
   "id": "5bbe5fea",
   "metadata": {},
   "source": [
    "# Wissensaggregator Mittelalter und frühe Neuzeit\n",
    "\n",
    "## Daten für Utrechter Bischöfe einlesen\n",
    "\n",
    "Übertrage Daten aus einer Excel-Tabelle.\n",
    "\n",
    "[Priester](#Priester)\n",
    "- [Item-Typ anlegen](#Item-Typ-anlegen)\n",
    "- [Einträge in `item`](#Einträge-in-item)\n",
    "- [Daten eintragen](#Daten-eintragen)\n",
    "- [Referenzwerke eintragen](#Referenzwerke-eintragen)\n",
    "- [Externe URLs eintragen](#Externe-URLs-eintragen)\n",
    "- [Namensvarianten eintragen](#Namensvarianten-eintragen)\n",
    "- [Suchvarianten eintragen (name_lookup)](#Suchvarianten-eintragen-(name_lookup))"
   ]
  },
  {
   "cell_type": "markdown",
   "id": "0d68a101",
   "metadata": {},
   "source": [
    "### Vorspann\n",
    "Modul und Packages einlesen"
   ]
  },
  {
   "cell_type": "code",
   "execution_count": 1,
   "id": "6ed6c054",
   "metadata": {},
   "outputs": [],
   "source": [
    "using Pkg"
   ]
  },
  {
   "cell_type": "code",
   "execution_count": 6,
   "id": "b4dfecd3",
   "metadata": {},
   "outputs": [],
   "source": [
    "# Pkg.add(\"DataFrames\") braucht es nur einmal?!"
   ]
  },
  {
   "cell_type": "code",
   "execution_count": 7,
   "id": "96e9bfda",
   "metadata": {},
   "outputs": [
    {
     "data": {
      "text/plain": [
       "\"/home/jovyan/WiagDataSetup.jl/run/wiag2\""
      ]
     },
     "execution_count": 7,
     "metadata": {},
     "output_type": "execute_result"
    }
   ],
   "source": [
    "pwd()"
   ]
  },
  {
   "cell_type": "code",
   "execution_count": 2,
   "id": "f7ac6049",
   "metadata": {},
   "outputs": [
    {
     "data": {
      "text/plain": [
       "\"../..\""
      ]
     },
     "execution_count": 2,
     "metadata": {},
     "output_type": "execute_result"
    }
   ],
   "source": [
    "wds_path = (\"../..\")"
   ]
  },
  {
   "cell_type": "code",
   "execution_count": 3,
   "id": "916839bd",
   "metadata": {},
   "outputs": [],
   "source": [
    "cd(wds_path)"
   ]
  },
  {
   "cell_type": "code",
   "execution_count": 4,
   "id": "fe1f6df9",
   "metadata": {},
   "outputs": [
    {
     "name": "stderr",
     "output_type": "stream",
     "text": [
      "\u001b[32m\u001b[1m  Activating\u001b[22m\u001b[39m environment at `~/WiagDataSetup.jl/Project.toml`\n"
     ]
    }
   ],
   "source": [
    "Pkg.activate(\".\")"
   ]
  },
  {
   "cell_type": "code",
   "execution_count": 5,
   "id": "59c9d379",
   "metadata": {},
   "outputs": [],
   "source": [
    "## Pkg.update() braucht es nur einmal?!"
   ]
  },
  {
   "cell_type": "code",
   "execution_count": 8,
   "id": "bdc440ae",
   "metadata": {},
   "outputs": [],
   "source": [
    "using WiagDataSetup"
   ]
  },
  {
   "cell_type": "code",
   "execution_count": 9,
   "id": "85a57359",
   "metadata": {},
   "outputs": [
    {
     "data": {
      "text/plain": [
       "WiagDataSetup"
      ]
     },
     "execution_count": 9,
     "metadata": {},
     "output_type": "execute_result"
    }
   ],
   "source": [
    "Wds = WiagDataSetup"
   ]
  },
  {
   "cell_type": "code",
   "execution_count": null,
   "id": "70157902",
   "metadata": {},
   "outputs": [],
   "source": []
  },
  {
   "cell_type": "code",
   "execution_count": null,
   "id": "55c4be33",
   "metadata": {},
   "outputs": [],
   "source": []
  },
  {
   "cell_type": "code",
   "execution_count": null,
   "id": "86fe444c",
   "metadata": {},
   "outputs": [],
   "source": []
  },
  {
   "cell_type": "code",
   "execution_count": null,
   "id": "ba8d7c60",
   "metadata": {},
   "outputs": [],
   "source": []
  },
  {
   "cell_type": "code",
   "execution_count": null,
   "id": "963f97c7",
   "metadata": {},
   "outputs": [],
   "source": []
  },
  {
   "cell_type": "markdown",
   "id": "6471b855",
   "metadata": {},
   "source": [
    "## Priester"
   ]
  },
  {
   "cell_type": "code",
   "execution_count": null,
   "id": "baf912f8",
   "metadata": {},
   "outputs": [],
   "source": []
  },
  {
   "cell_type": "code",
   "execution_count": null,
   "id": "41d10b30",
   "metadata": {},
   "outputs": [],
   "source": []
  },
  {
   "cell_type": "code",
   "execution_count": null,
   "id": "26a4fee0",
   "metadata": {},
   "outputs": [],
   "source": []
  },
  {
   "cell_type": "code",
   "execution_count": null,
   "id": "f64f9879",
   "metadata": {},
   "outputs": [],
   "source": []
  }
 ],
 "metadata": {
  "kernelspec": {
   "display_name": "Julia 1.6.3",
   "language": "julia",
   "name": "julia-1.6"
  },
  "language_info": {
   "file_extension": ".jl",
   "mimetype": "application/julia",
   "name": "julia",
   "version": "1.6.3"
  }
 },
 "nbformat": 4,
 "nbformat_minor": 5
}
