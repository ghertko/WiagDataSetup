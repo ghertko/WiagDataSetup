{
 "cells": [
  {
   "cell_type": "markdown",
   "metadata": {},
   "source": [
    "# Wissensaggregator Mittelalter und frühe Neuzeit\n",
    "\n",
    "WIAGweb2  \n",
    "Daten für Utrechter Priester aus Excel einlesen\n",
    "\n",
    "[Neuen Typ anlegen](#Neuen-Typ-anlegen)  \n",
    "[Literatur](#Literatur)    \n",
    "Priester  \n",
    "- [Einträge in `item`](#Einträge-in-item)\n",
    "- [Daten eintragen](#Daten-eintragen)\n",
    "- [Freie Attribute](#Freie-Attribute)\n",
    "- [Literaturverweise eintragen](#Literaturverweise-eintragen)\n",
    "- [Namensvarianten eintragen](#Namensvarianten-eintragen)\n",
    "- [Suchvarianten eintragen (`name_lookup`)](#Suchvarianten-eintragen-in-name_lookup)\n",
    "\n",
    "[Ämter](#Ämter)"
   ]
  },
  {
   "cell_type": "markdown",
   "metadata": {},
   "source": [
    "## Vorspann\n",
    "\n",
    "Modul laden"
   ]
  },
  {
   "cell_type": "code",
   "execution_count": 2,
   "metadata": {},
   "outputs": [
    {
     "data": {
      "text/plain": [
       "\"../..\""
      ]
     },
     "execution_count": 2,
     "metadata": {},
     "output_type": "execute_result"
    }
   ],
   "source": [
    "wds_path = \"../..\""
   ]
  },
  {
   "cell_type": "code",
   "execution_count": 3,
   "metadata": {},
   "outputs": [],
   "source": [
    "cd(wds_path)"
   ]
  },
  {
   "cell_type": "code",
   "execution_count": 4,
   "metadata": {},
   "outputs": [],
   "source": [
    "using Pkg"
   ]
  },
  {
   "cell_type": "code",
   "execution_count": 5,
   "metadata": {},
   "outputs": [
    {
     "name": "stderr",
     "output_type": "stream",
     "text": [
      "\u001b[32m\u001b[1m  Activating\u001b[22m\u001b[39m project at `C:\\Users\\georg\\Documents\\projekte\\WiagDataSetup.jl`\n"
     ]
    }
   ],
   "source": [
    "Pkg.activate(\".\")"
   ]
  },
  {
   "cell_type": "code",
   "execution_count": 6,
   "metadata": {},
   "outputs": [],
   "source": [
    "using Revise"
   ]
  },
  {
   "cell_type": "code",
   "execution_count": 7,
   "metadata": {},
   "outputs": [],
   "source": [
    "using WiagDataSetup"
   ]
  },
  {
   "cell_type": "code",
   "execution_count": 8,
   "metadata": {},
   "outputs": [
    {
     "data": {
      "text/plain": [
       "WiagDataSetup"
      ]
     },
     "execution_count": 8,
     "metadata": {},
     "output_type": "execute_result"
    }
   ],
   "source": [
    "Wds = WiagDataSetup"
   ]
  },
  {
   "cell_type": "code",
   "execution_count": 9,
   "metadata": {},
   "outputs": [
    {
     "name": "stdout",
     "output_type": "stream",
     "text": [
      "Passwort für User georg: ········\n"
     ]
    },
    {
     "data": {
      "text/plain": [
       "MySQL.Connection(host=\"127.0.0.1\", user=\"georg\", port=\"3306\", db=\"wiag2\")"
      ]
     },
     "execution_count": 9,
     "metadata": {},
     "output_type": "execute_result"
    }
   ],
   "source": [
    "Wds.setDBWIAG(user = \"georg\", db = \"wiag2\")"
   ]
  },
  {
   "cell_type": "code",
   "execution_count": 10,
   "metadata": {},
   "outputs": [],
   "source": [
    "using DataFrames, CSV, Dates"
   ]
  },
  {
   "cell_type": "code",
   "execution_count": 11,
   "metadata": {},
   "outputs": [
    {
     "data": {
      "text/plain": [
       "120"
      ]
     },
     "execution_count": 11,
     "metadata": {},
     "output_type": "execute_result"
    }
   ],
   "source": [
    "ENV[\"COLUMNS\"] = 120 # Anzeige/Ausgabe für die Inhalte von DataFrames vergrößern"
   ]
  },
  {
   "cell_type": "code",
   "execution_count": 12,
   "metadata": {},
   "outputs": [
    {
     "data": {
      "text/plain": [
       "\"C:/Users/georg/Documents/projekte-doc/Utrecht-Priester/data_sql\""
      ]
     },
     "execution_count": 12,
     "metadata": {},
     "output_type": "execute_result"
    }
   ],
   "source": [
    "computer = :bkroege_goe\n",
    "computer = :ghertko_kn\n",
    "if computer == :bkroege_goe\n",
    "    data_path = \"../data\"\n",
    "    out_path = \"../data_sql\"\n",
    "else\n",
    "    data_path = \"C:/Users/georg/Documents/projekte-doc/Utrecht-Priester/data\"\n",
    "    out_path = \"C:/Users/georg/Documents/projekte-doc/Utrecht-Priester/data_sql\"\n",
    "end"
   ]
  },
  {
   "cell_type": "code",
   "execution_count": 13,
   "metadata": {},
   "outputs": [
    {
     "data": {
      "text/plain": [
       "10"
      ]
     },
     "execution_count": 13,
     "metadata": {},
     "output_type": "execute_result"
    }
   ],
   "source": [
    "item_type_id = 10"
   ]
  },
  {
   "cell_type": "markdown",
   "metadata": {},
   "source": [
    "## Daten löschen\n",
    "z.B. für ein komplettes Update"
   ]
  },
  {
   "cell_type": "code",
   "execution_count": 269,
   "metadata": {},
   "outputs": [],
   "source": [
    "sql_item_ids = \"SELECT ID FROM item WHERE item_type_id = $(item_type_id)\"\n",
    "sql = \"\n",
    "DELETE FROM person_birthplace WHERE person_id in ($(sql_item_ids));\n",
    "DELETE FROM person_role WHERE person_id in ($(sql_item_ids));\n",
    "DELETE FROM name_lookup WHERE person_id in ($(sql_item_ids));\n",
    "DELETE FROM person WHERE id in ($(sql_item_ids));\n",
    "DELETE FROM item_property WHERE item_id in ($(sql_item_ids));\n",
    "DELETE FROM item_reference WHERE item_id in ($(sql_item_ids));\n",
    "DELETE FROM item WHERE item_type_id = $(item_type_id);\"\n",
    "file_name = joinpath(out_path, \"delete_item_type_$(item_type_id).sql\")\n",
    "open(file_name, \"w\") do io\n",
    "    println(io, sql)\n",
    "end"
   ]
  },
  {
   "cell_type": "markdown",
   "metadata": {},
   "source": [
    "## Neuen Typ anlegen\n",
    "\n",
    "(einmalig)"
   ]
  },
  {
   "cell_type": "markdown",
   "metadata": {},
   "source": [
    "einlesen aus CSV"
   ]
  },
  {
   "cell_type": "code",
   "execution_count": 71,
   "metadata": {},
   "outputs": [
    {
     "data": {
      "text/html": [
       "<div class=\"data-frame\"><p>1 rows × 11 columns (omitted printing of 3 columns)</p><table class=\"data-frame\"><thead><tr><th></th><th>id</th><th>comment</th><th>name</th><th>note</th><th>created_by</th><th>date_created</th><th>changed_by</th><th>date_changed</th></tr><tr><th></th><th title=\"Int64\">Int64</th><th title=\"Missing\">Missing</th><th title=\"String31\">String31</th><th title=\"String\">String</th><th title=\"Int64\">Int64</th><th title=\"String31\">String31</th><th title=\"Int64\">Int64</th><th title=\"String31\">String31</th></tr></thead><tbody><tr><th>1</th><td>10</td><td><em>missing</em></td><td>Priester Utrecht</td><td>Priester des Bistums Utrecht nach Stapel</td><td>2</td><td>29.03.2022 14:00</td><td>2</td><td>29.03.2022 14:00</td></tr></tbody></table></div>"
      ],
      "text/latex": [
       "\\begin{tabular}{r|ccccccccc}\n",
       "\t& id & comment & name & note & created\\_by & date\\_created & changed\\_by & date\\_changed & \\\\\n",
       "\t\\hline\n",
       "\t& Int64 & Missing & String31 & String & Int64 & String31 & Int64 & String31 & \\\\\n",
       "\t\\hline\n",
       "\t1 & 10 & \\emph{missing} & Priester Utrecht & Priester des Bistums Utrecht nach Stapel & 2 & 29.03.2022 14:00 & 2 & 29.03.2022 14:00 & $\\dots$ \\\\\n",
       "\\end{tabular}\n"
      ],
      "text/plain": [
       "\u001b[1m1×11 DataFrame\u001b[0m\n",
       "\u001b[1m Row \u001b[0m│\u001b[1m id    \u001b[0m\u001b[1m comment \u001b[0m\u001b[1m name             \u001b[0m\u001b[1m note                              \u001b[0m\u001b[1m created_by \u001b[0m\u001b[1m date_created     \u001b[0m\u001b[1m changed_by \u001b[0m\u001b[1m \u001b[0m ⋯\n",
       "\u001b[1m     \u001b[0m│\u001b[90m Int64 \u001b[0m\u001b[90m Missing \u001b[0m\u001b[90m String31         \u001b[0m\u001b[90m String                            \u001b[0m\u001b[90m Int64      \u001b[0m\u001b[90m String31         \u001b[0m\u001b[90m Int64      \u001b[0m\u001b[90m \u001b[0m ⋯\n",
       "─────┼──────────────────────────────────────────────────────────────────────────────────────────────────────────────────\n",
       "   1 │    10 \u001b[90m missing \u001b[0m Priester Utrecht  Priester des Bistums Utrecht nac…           2  29.03.2022 14:00           2   ⋯\n",
       "\u001b[36m                                                                                                       4 columns omitted\u001b[0m"
      ]
     },
     "execution_count": 71,
     "metadata": {},
     "output_type": "execute_result"
    }
   ],
   "source": [
    "file_name = joinpath(data_path, \"item_type.csv\");\n",
    "df_item_type = CSV.read(file_name, DataFrame, delim = ';')"
   ]
  },
  {
   "cell_type": "code",
   "execution_count": null,
   "metadata": {},
   "outputs": [],
   "source": [
    "create_date(date_time) = typeof(date_time) == DateTime ? date_time : DateTime(date_time, dateformat\"dd.mm.yy HH:MM\")"
   ]
  },
  {
   "cell_type": "code",
   "execution_count": null,
   "metadata": {},
   "outputs": [],
   "source": [
    "transform!(df_item_type, :date_created => ByRow(create_date) => :date_created);"
   ]
  },
  {
   "cell_type": "code",
   "execution_count": null,
   "metadata": {},
   "outputs": [],
   "source": [
    "transform!(df_item_type, :date_changed => ByRow(create_date) => :date_changed);"
   ]
  },
  {
   "cell_type": "code",
   "execution_count": null,
   "metadata": {},
   "outputs": [],
   "source": [
    "names(df_item_type)"
   ]
  },
  {
   "cell_type": "markdown",
   "metadata": {},
   "source": [
    "alternativ: direkt erstellen"
   ]
  },
  {
   "cell_type": "code",
   "execution_count": null,
   "metadata": {},
   "outputs": [],
   "source": [
    "df_item_type = DataFrame();"
   ]
  },
  {
   "cell_type": "code",
   "execution_count": null,
   "metadata": {},
   "outputs": [],
   "source": [
    "insertcols!(df_item_type,\n",
    "    :id => item_type_id,\n",
    "    :comment => missing,\n",
    "    :name => \"Priester Utrecht\",\n",
    "    :note => \"Priester des Bistums Utrecht nach Stapel\",\n",
    "    :table_name => \"person\",\n",
    "    :id_public_key => \"Pers-PRIESTUtrecht\",\n",
    "    :name_app => \"priest_ut\",\n",
    "    :created_by => 2,\n",
    "    :date_created => now(),\n",
    "    :changed_by => 2,\n",
    "    :date_changed => now(),\n",
    ")"
   ]
  },
  {
   "cell_type": "code",
   "execution_count": null,
   "metadata": {},
   "outputs": [],
   "source": [
    "file_name = joinpath(out_path, \"item_type.sql\")\n",
    "Wds.insert_sql(file_name, \"item_type\", df_item_type)"
   ]
  },
  {
   "cell_type": "markdown",
   "metadata": {},
   "source": [
    "## Literatur"
   ]
  },
  {
   "cell_type": "code",
   "execution_count": 14,
   "metadata": {},
   "outputs": [],
   "source": [
    "df_reference_volume = DataFrame();"
   ]
  },
  {
   "cell_type": "code",
   "execution_count": 15,
   "metadata": {},
   "outputs": [
    {
     "data": {
      "text/html": [
       "<div class=\"data-frame\"><p>3 rows × 16 columns (omitted printing of 13 columns)</p><table class=\"data-frame\"><thead><tr><th></th><th>id</th><th>comment</th><th>full_citation</th></tr><tr><th></th><th title=\"Missing\">Missing</th><th title=\"Missing\">Missing</th><th title=\"String\">String</th></tr></thead><tbody><tr><th>1</th><td><em>missing</em></td><td><em>missing</em></td><td>Stapel, R.J. (2020) Ordinations of priests in the medieval diocese of Utrecht (1505-1518). IISH Data Collection.</td></tr><tr><th>2</th><td><em>missing</em></td><td><em>missing</em></td><td>Brom, Gisbert, &apos;&apos;Naamlijst der priesters, die in het bisdom Utrecht gewijd zijn van 1505-1518&apos;&apos;, Archief voor het Aartsbisdom Utrecht 23 (1896), pp. 386-471</td></tr><tr><th>3</th><td><em>missing</em></td><td><em>missing</em></td><td>Brom, Gisbert, &apos;&apos;Naamlijst der priesters, die in het bisdom Utrecht gewijd zijn van 1505-1518 (vervolg)&apos;&apos;, Archief voor het Aartsbisdom Utrecht 24 (1897), pp. 1-85</td></tr></tbody></table></div>"
      ],
      "text/latex": [
       "\\begin{tabular}{r|cccc}\n",
       "\t& id & comment & full\\_citation & \\\\\n",
       "\t\\hline\n",
       "\t& Missing & Missing & String & \\\\\n",
       "\t\\hline\n",
       "\t1 & \\emph{missing} & \\emph{missing} & Stapel, R.J. (2020) Ordinations of priests in the medieval diocese of Utrecht (1505-1518). IISH Data Collection. & $\\dots$ \\\\\n",
       "\t2 & \\emph{missing} & \\emph{missing} & Brom, Gisbert, ''Naamlijst der priesters, die in het bisdom Utrecht gewijd zijn van 1505-1518'', Archief voor het Aartsbisdom Utrecht 23 (1896), pp. 386-471 & $\\dots$ \\\\\n",
       "\t3 & \\emph{missing} & \\emph{missing} & Brom, Gisbert, ''Naamlijst der priesters, die in het bisdom Utrecht gewijd zijn van 1505-1518 (vervolg)'', Archief voor het Aartsbisdom Utrecht 24 (1897), pp. 1-85 & $\\dots$ \\\\\n",
       "\\end{tabular}\n"
      ],
      "text/plain": [
       "\u001b[1m3×16 DataFrame\u001b[0m\n",
       "\u001b[1m Row \u001b[0m│\u001b[1m id      \u001b[0m\u001b[1m comment \u001b[0m\u001b[1m full_citation                     \u001b[0m\n",
       "\u001b[1m     \u001b[0m│\u001b[90m Missing \u001b[0m\u001b[90m Missing \u001b[0m\u001b[90m String                            \u001b[0m\n",
       "─────┼────────────────────────────────────────────────────────────────────────────────────────────\n",
       "   1 │\u001b[90m missing \u001b[0m\u001b[90m missing \u001b[0m Stapel, R.J. (2020) Ordinations …\n",
       "   2 │\u001b[90m missing \u001b[0m\u001b[90m missing \u001b[0m Brom, Gisbert, ''Naamlijst der p…\n",
       "   3 │\u001b[90m missing \u001b[0m\u001b[90m missing \u001b[0m Brom, Gisbert, ''Naamlijst der p…\n",
       "\u001b[36m                                                                                13 columns omitted\u001b[0m"
      ]
     },
     "execution_count": 15,
     "metadata": {},
     "output_type": "execute_result"
    }
   ],
   "source": [
    "insertcols!(df_reference_volume,\n",
    "    :id => missing, # wird automatisch vergeben\n",
    "    :comment => missing,\n",
    "    :full_citation => [\"Stapel, R.J. (2020) Ordinations of priests in the medieval diocese of Utrecht (1505-1518). IISH Data Collection.\",\n",
    "        \"Brom, Gisbert, ''Naamlijst der priesters, die in het bisdom Utrecht gewijd zijn van 1505-1518'', Archief voor het Aartsbisdom Utrecht 23 (1896), pp. 386-471\",\n",
    "        \"Brom, Gisbert, ''Naamlijst der priesters, die in het bisdom Utrecht gewijd zijn van 1505-1518 (vervolg)'', Archief voor het Aartsbisdom Utrecht 24 (1897), pp. 1-85\",\n",
    "        ],\n",
    "    :title_short => [\"Stapel, Ordinations of priests in the medieval diocese of Utrecht (1505-1518)\",\n",
    "        \"G. Brom, ''Naamlijst der priesters…'', AAU 23 (1896)\",\n",
    "        \"G. Brom, ''Naamlijst der priesters…'', AAU 24 (1897)\"],\n",
    "    :author_editor => [\"Rombert Stapel\", \"Gisbert Brom\", \"Gisbert Brom\"],\n",
    "    :note => missing,\n",
    "    :ri_opac_id => missing,\n",
    "    :isbn => missing,\n",
    "    :year_publication => [\"2020\", \"1896\", \"1897\"],\n",
    "    :display_order => [1, 2, 3],\n",
    "    :gs_volume_nr => missing,\n",
    "    :gs_doi => missing,\n",
    "    :gs_url => missing,\n",
    "    :online_resource => [\"https://hdl.handle.net/10622/IEYIUX\", missing, missing],\n",
    "    :reference_id => [1, 2, 3],\n",
    "    :item_type_id => item_type_id\n",
    ")"
   ]
  },
  {
   "cell_type": "code",
   "execution_count": 16,
   "metadata": {},
   "outputs": [
    {
     "data": {
      "text/plain": [
       "3"
      ]
     },
     "execution_count": 16,
     "metadata": {},
     "output_type": "execute_result"
    }
   ],
   "source": [
    "file_name = joinpath(out_path, \"reference_volume.sql\")\n",
    "Wds.insert_sql(file_name, \"reference_volume\", df_reference_volume)"
   ]
  },
  {
   "cell_type": "markdown",
   "metadata": {},
   "source": [
    "## Einträge in `item`"
   ]
  },
  {
   "cell_type": "markdown",
   "metadata": {},
   "source": [
    "Daten für die Priester einlesen.\n",
    "\n",
    "Exportiere die Daten aus Excel über \"Speichern unter\" im Format \"CSV UTF-8\" (Auswahlfeld Dateityp)"
   ]
  },
  {
   "cell_type": "markdown",
   "metadata": {},
   "source": [
    "*2022-05-30* Verwende `Ordinations_of_priests_Stapel.csv` statt `Ordinations_of_priests_Stapel_BK.csv`"
   ]
  },
  {
   "cell_type": "code",
   "execution_count": 251,
   "metadata": {},
   "outputs": [],
   "source": [
    "file_name = joinpath(data_path, \"Ordinations_of_priests_Stapel_cs1.csv\");\n",
    "df_priests = CSV.read(file_name, DataFrame, delim = '\\t', stringtype = String);"
   ]
  },
  {
   "cell_type": "code",
   "execution_count": 252,
   "metadata": {},
   "outputs": [],
   "source": [
    "Wds.clean_up!(df_priests)"
   ]
  },
  {
   "cell_type": "code",
   "execution_count": 253,
   "metadata": {},
   "outputs": [
    {
     "data": {
      "text/plain": [
       "4643"
      ]
     },
     "execution_count": 253,
     "metadata": {},
     "output_type": "execute_result"
    }
   ],
   "source": [
    "size(df_priests, 1)"
   ]
  },
  {
   "cell_type": "code",
   "execution_count": 254,
   "metadata": {},
   "outputs": [
    {
     "data": {
      "text/html": [
       "<div class=\"data-frame\"><p>5 rows × 2 columns</p><table class=\"data-frame\"><thead><tr><th></th><th>Bron</th><th>Transcriptie</th></tr><tr><th></th><th title=\"String\">String</th><th title=\"String\">String</th></tr></thead><tbody><tr><th>1</th><td>G. Brom, &apos;Naamlijst der priesters…&apos;, AAU 23/24 (1896/1897), p. 390</td><td>† Frater Judocus Gerardi ordinis sancti Augustini</td></tr><tr><th>2</th><td>G. Brom, &apos;Naamlijst der priesters…&apos;, AAU 23/24 (1896/1897), p. 390</td><td>Johannes Jacobi de Campis</td></tr><tr><th>3</th><td>G. Brom, &apos;Naamlijst der priesters…&apos;, AAU 23/24 (1896/1897), p. 390</td><td>Amelius Laurencii de Assendelft</td></tr><tr><th>4</th><td>G. Brom, &apos;Naamlijst der priesters…&apos;, AAU 23/24 (1896/1897), p. 390</td><td>Petrus Anthonii de Corthenis</td></tr><tr><th>5</th><td>G. Brom, &apos;Naamlijst der priesters…&apos;, AAU 23/24 (1896/1897), p. 390</td><td>Cornelius Wilhelmi Bloemmert</td></tr></tbody></table></div>"
      ],
      "text/latex": [
       "\\begin{tabular}{r|cc}\n",
       "\t& Bron & Transcriptie\\\\\n",
       "\t\\hline\n",
       "\t& String & String\\\\\n",
       "\t\\hline\n",
       "\t1 & G. Brom, 'Naamlijst der priesters…', AAU 23/24 (1896/1897), p. 390 & † Frater Judocus Gerardi ordinis sancti Augustini \\\\\n",
       "\t2 & G. Brom, 'Naamlijst der priesters…', AAU 23/24 (1896/1897), p. 390 & Johannes Jacobi de Campis \\\\\n",
       "\t3 & G. Brom, 'Naamlijst der priesters…', AAU 23/24 (1896/1897), p. 390 & Amelius Laurencii de Assendelft \\\\\n",
       "\t4 & G. Brom, 'Naamlijst der priesters…', AAU 23/24 (1896/1897), p. 390 & Petrus Anthonii de Corthenis \\\\\n",
       "\t5 & G. Brom, 'Naamlijst der priesters…', AAU 23/24 (1896/1897), p. 390 & Cornelius Wilhelmi Bloemmert \\\\\n",
       "\\end{tabular}\n"
      ],
      "text/plain": [
       "\u001b[1m5×2 DataFrame\u001b[0m\n",
       "\u001b[1m Row \u001b[0m│\u001b[1m Bron                              \u001b[0m\u001b[1m Transcriptie                      \u001b[0m\n",
       "\u001b[1m     \u001b[0m│\u001b[90m String                            \u001b[0m\u001b[90m String                            \u001b[0m\n",
       "─────┼──────────────────────────────────────────────────────────────────────\n",
       "   1 │ G. Brom, 'Naamlijst der priester…  † Frater Judocus Gerardi ordinis…\n",
       "   2 │ G. Brom, 'Naamlijst der priester…  Johannes Jacobi de Campis\n",
       "   3 │ G. Brom, 'Naamlijst der priester…  Amelius Laurencii de Assendelft\n",
       "   4 │ G. Brom, 'Naamlijst der priester…  Petrus Anthonii de Corthenis\n",
       "   5 │ G. Brom, 'Naamlijst der priester…  Cornelius Wilhelmi Bloemmert"
      ]
     },
     "execution_count": 254,
     "metadata": {},
     "output_type": "execute_result"
    }
   ],
   "source": [
    "df_priests[41:45, [:Bron, :Transcriptie]]"
   ]
  },
  {
   "cell_type": "code",
   "execution_count": 255,
   "metadata": {},
   "outputs": [],
   "source": [
    "df_priests = unique(df_priests);"
   ]
  },
  {
   "cell_type": "markdown",
   "metadata": {},
   "source": [
    "Der Datensatz einhält Zeilen, die in allen Feldern übereinstimmen."
   ]
  },
  {
   "cell_type": "code",
   "execution_count": 55,
   "metadata": {},
   "outputs": [],
   "source": [
    "columns = [\n",
    "    :Bron,\n",
    "    :Seite,\n",
    "    Symbol(\"Type record\"),\n",
    "    :Priester_ID,\n",
    "    Symbol(\"Datum (YMD)\"),\n",
    "    :Locatie,\n",
    "    :Transcriptie,\n",
    "    :Voetnoot_bron,\n",
    "    :Bijdrage,\n",
    "    :Titel,\n",
    "    :Voornaam,\n",
    "    :Patroniem,\n",
    "    :Familienaam,\n",
    "    Symbol(\"Familienaam, toponiem\"),\n",
    "    Symbol(\"Familienaam, onzeker\"),\n",
    "    :Toponiem,\n",
    "    :Orde,\n",
    "    :Functie,\n",
    "    :Instelling,\n",
    "];"
   ]
  },
  {
   "cell_type": "code",
   "execution_count": 256,
   "metadata": {},
   "outputs": [],
   "source": [
    "dropmissing!(df_priests, :Priester_ID);"
   ]
  },
  {
   "cell_type": "code",
   "execution_count": 257,
   "metadata": {},
   "outputs": [],
   "source": [
    "df_priests = unique(df_priests);"
   ]
  },
  {
   "cell_type": "code",
   "execution_count": 258,
   "metadata": {},
   "outputs": [
    {
     "data": {
      "text/plain": [
       "(4477, 28)"
      ]
     },
     "execution_count": 258,
     "metadata": {},
     "output_type": "execute_result"
    }
   ],
   "source": [
    "size(df_priests)"
   ]
  },
  {
   "cell_type": "code",
   "execution_count": null,
   "metadata": {},
   "outputs": [],
   "source": [
    "names(df_priests)"
   ]
  },
  {
   "cell_type": "code",
   "execution_count": 62,
   "metadata": {},
   "outputs": [
    {
     "data": {
      "text/plain": [
       "5-element Vector{Symbol}:\n",
       " :Priester_ID\n",
       " Symbol(\"Datum (YMD)\")\n",
       " :Titel\n",
       " :Voornaam\n",
       " :Familienaam"
      ]
     },
     "execution_count": 62,
     "metadata": {},
     "output_type": "execute_result"
    }
   ],
   "source": [
    "columns = [\n",
    "    :Priester_ID, \n",
    "    Symbol(\"Datum (YMD)\"),\n",
    "    :Titel, \n",
    "    :Voornaam,\n",
    "    :Familienaam,    \n",
    "]"
   ]
  },
  {
   "cell_type": "code",
   "execution_count": 63,
   "metadata": {},
   "outputs": [
    {
     "data": {
      "text/html": [
       "<div class=\"data-frame\"><p>6 rows × 5 columns</p><table class=\"data-frame\"><thead><tr><th></th><th>Priester_ID</th><th>Datum (YMD)</th><th>Titel</th><th>Voornaam</th><th>Familienaam</th></tr><tr><th></th><th title=\"String\">String</th><th title=\"Date\">Date</th><th title=\"Union{Missing, String}\">String?</th><th title=\"Union{Missing, String}\">String?</th><th title=\"Union{Missing, String}\">String?</th></tr></thead><tbody><tr><th>1</th><td>id_1505_3_17</td><td>1505-03-22</td><td><em>missing</em></td><td>Martinus</td><td><em>missing</em></td></tr><tr><th>2</th><td>id_1505_3_18</td><td>1505-03-22</td><td><em>missing</em></td><td>Wilhelmus</td><td><em>missing</em></td></tr><tr><th>3</th><td>id_1505_3_19</td><td>1505-03-22</td><td><em>missing</em></td><td>Martinus</td><td><em>missing</em></td></tr><tr><th>4</th><td>id_1505_3_20</td><td>1505-03-22</td><td><em>missing</em></td><td>Jeronimus</td><td><em>missing</em></td></tr><tr><th>5</th><td>id_1505_3_21</td><td>1505-03-22</td><td><em>missing</em></td><td>Wilhelmus</td><td><em>missing</em></td></tr><tr><th>6</th><td>id_1505_3_22</td><td>1505-03-22</td><td><em>missing</em></td><td>Bartoldus</td><td><em>missing</em></td></tr></tbody></table></div>"
      ],
      "text/latex": [
       "\\begin{tabular}{r|ccccc}\n",
       "\t& Priester\\_ID & Datum (YMD) & Titel & Voornaam & Familienaam\\\\\n",
       "\t\\hline\n",
       "\t& String & Date & String? & String? & String?\\\\\n",
       "\t\\hline\n",
       "\t1 & id\\_1505\\_3\\_17 & 1505-03-22 & \\emph{missing} & Martinus & \\emph{missing} \\\\\n",
       "\t2 & id\\_1505\\_3\\_18 & 1505-03-22 & \\emph{missing} & Wilhelmus & \\emph{missing} \\\\\n",
       "\t3 & id\\_1505\\_3\\_19 & 1505-03-22 & \\emph{missing} & Martinus & \\emph{missing} \\\\\n",
       "\t4 & id\\_1505\\_3\\_20 & 1505-03-22 & \\emph{missing} & Jeronimus & \\emph{missing} \\\\\n",
       "\t5 & id\\_1505\\_3\\_21 & 1505-03-22 & \\emph{missing} & Wilhelmus & \\emph{missing} \\\\\n",
       "\t6 & id\\_1505\\_3\\_22 & 1505-03-22 & \\emph{missing} & Bartoldus & \\emph{missing} \\\\\n",
       "\\end{tabular}\n"
      ],
      "text/plain": [
       "\u001b[1m6×5 DataFrame\u001b[0m\n",
       "\u001b[1m Row \u001b[0m│\u001b[1m Priester_ID  \u001b[0m\u001b[1m Datum (YMD) \u001b[0m\u001b[1m Titel   \u001b[0m\u001b[1m Voornaam  \u001b[0m\u001b[1m Familienaam \u001b[0m\n",
       "\u001b[1m     \u001b[0m│\u001b[90m String       \u001b[0m\u001b[90m Date        \u001b[0m\u001b[90m String? \u001b[0m\u001b[90m String?   \u001b[0m\u001b[90m String?     \u001b[0m\n",
       "─────┼────────────────────────────────────────────────────────────\n",
       "   1 │ id_1505_3_17  1505-03-22  \u001b[90m missing \u001b[0m Martinus  \u001b[90m missing     \u001b[0m\n",
       "   2 │ id_1505_3_18  1505-03-22  \u001b[90m missing \u001b[0m Wilhelmus \u001b[90m missing     \u001b[0m\n",
       "   3 │ id_1505_3_19  1505-03-22  \u001b[90m missing \u001b[0m Martinus  \u001b[90m missing     \u001b[0m\n",
       "   4 │ id_1505_3_20  1505-03-22  \u001b[90m missing \u001b[0m Jeronimus \u001b[90m missing     \u001b[0m\n",
       "   5 │ id_1505_3_21  1505-03-22  \u001b[90m missing \u001b[0m Wilhelmus \u001b[90m missing     \u001b[0m\n",
       "   6 │ id_1505_3_22  1505-03-22  \u001b[90m missing \u001b[0m Bartoldus \u001b[90m missing     \u001b[0m"
      ]
     },
     "execution_count": 63,
     "metadata": {},
     "output_type": "execute_result"
    }
   ],
   "source": [
    "df_priests[100:105, columns]"
   ]
  },
  {
   "cell_type": "code",
   "execution_count": 259,
   "metadata": {},
   "outputs": [
    {
     "data": {
      "text/plain": [
       "2-element Vector{Pair{Symbol, Symbol}}:\n",
       "  :Priester_ID => :id_in_source\n",
       " :Transcriptie => :item_in_source"
      ]
     },
     "execution_count": 259,
     "metadata": {},
     "output_type": "execute_result"
    }
   ],
   "source": [
    "columns = [\n",
    "    :Priester_ID => :id_in_source,\n",
    "    :Transcriptie => :item_in_source,\n",
    "]"
   ]
  },
  {
   "cell_type": "code",
   "execution_count": 260,
   "metadata": {},
   "outputs": [],
   "source": [
    "df_item = select(df_priests, columns);"
   ]
  },
  {
   "cell_type": "markdown",
   "metadata": {},
   "source": [
    "Ein vorangestelltes `†` bedeutet, dass ein verringerter Beitrag geleistet wurde. Für den Eintrag in `item_in_source` soll es hier nicht weiter enthalten sein."
   ]
  },
  {
   "cell_type": "code",
   "execution_count": 261,
   "metadata": {},
   "outputs": [
    {
     "data": {
      "text/plain": [
       "lstrip_bijdrage (generic function with 1 method)"
      ]
     },
     "execution_count": 261,
     "metadata": {},
     "output_type": "execute_result"
    }
   ],
   "source": [
    "lstrip_bijdrage(s) = ismissing(s) ? s : lstrip(s, ['†', ' '])"
   ]
  },
  {
   "cell_type": "code",
   "execution_count": 263,
   "metadata": {},
   "outputs": [],
   "source": [
    "transform!(df_item, :item_in_source => ByRow(lstrip_bijdrage) => :item_in_source);"
   ]
  },
  {
   "cell_type": "markdown",
   "metadata": {},
   "source": [
    "Verwende nur den Nummern-Teil der ID für die WIAG-ID"
   ]
  },
  {
   "cell_type": "code",
   "execution_count": 67,
   "metadata": {},
   "outputs": [
    {
     "data": {
      "text/plain": [
       "get_id_num (generic function with 1 method)"
      ]
     },
     "execution_count": 67,
     "metadata": {},
     "output_type": "execute_result"
    }
   ],
   "source": [
    "get_id_num(id_long) = replace(id_long, \"id_\" => \"\")"
   ]
  },
  {
   "cell_type": "code",
   "execution_count": 68,
   "metadata": {},
   "outputs": [],
   "source": [
    "transform!(df_item, :id_in_source => ByRow(get_id_num) => :id_num_in_source);"
   ]
  },
  {
   "cell_type": "code",
   "execution_count": 69,
   "metadata": {},
   "outputs": [
    {
     "data": {
      "text/plain": [
       "10"
      ]
     },
     "execution_count": 69,
     "metadata": {},
     "output_type": "execute_result"
    }
   ],
   "source": [
    "maximum(length.(df_item.id_num_in_source))"
   ]
  },
  {
   "cell_type": "markdown",
   "metadata": {},
   "source": [
    "*2022-05-31* id_public_key = \"Pers-PRIESTUtrecht\""
   ]
  },
  {
   "cell_type": "code",
   "execution_count": 72,
   "metadata": {},
   "outputs": [
    {
     "data": {
      "text/plain": [
       "\"Pers-PRIESTStapel\""
      ]
     },
     "execution_count": 72,
     "metadata": {},
     "output_type": "execute_result"
    }
   ],
   "source": [
    "id_public_key = df_item_type[1, :id_public_key]"
   ]
  },
  {
   "cell_type": "code",
   "execution_count": 73,
   "metadata": {},
   "outputs": [
    {
     "data": {
      "text/plain": [
       "make_id_public (generic function with 1 method)"
      ]
     },
     "execution_count": 73,
     "metadata": {},
     "output_type": "execute_result"
    }
   ],
   "source": [
    "function make_id_public(id)        \n",
    "    num_id_length = 10\n",
    "    return \"WIAG-\" * id_public_key * \"-\" * lpad(id, num_id_length, '0')\n",
    "end"
   ]
  },
  {
   "cell_type": "code",
   "execution_count": 74,
   "metadata": {},
   "outputs": [],
   "source": [
    "transform!(df_item, :id_num_in_source => ByRow(make_id_public) => :id_public);"
   ]
  },
  {
   "cell_type": "code",
   "execution_count": 75,
   "metadata": {},
   "outputs": [
    {
     "data": {
      "text/html": [
       "<div class=\"data-frame\"><p>6 rows × 4 columns</p><table class=\"data-frame\"><thead><tr><th></th><th>id_in_source</th><th>item_in_source</th><th>id_num_in_source</th><th>id_public</th></tr><tr><th></th><th title=\"String\">String</th><th title=\"String\">String</th><th title=\"String\">String</th><th title=\"String\">String</th></tr></thead><tbody><tr><th>1</th><td>id_1505_4_52</td><td>Nanno Petri de Alcmaria</td><td>1505_4_52</td><td>WIAG-Pers-PRIESTStapel-01505_4_52</td></tr><tr><th>2</th><td>id_1505_4_53</td><td>Cornelius Petri de Brouershaven</td><td>1505_4_53</td><td>WIAG-Pers-PRIESTStapel-01505_4_53</td></tr><tr><th>3</th><td>id_1505_4_54</td><td>† Wisso Jacobi</td><td>1505_4_54</td><td>WIAG-Pers-PRIESTStapel-01505_4_54</td></tr><tr><th>4</th><td>id_1505_4_55</td><td>† Wouterus Johannis de Meclinia</td><td>1505_4_55</td><td>WIAG-Pers-PRIESTStapel-01505_4_55</td></tr><tr><th>5</th><td>id_1505_4_56</td><td>Magister Johannes Blessinck de Steenwijck</td><td>1505_4_56</td><td>WIAG-Pers-PRIESTStapel-01505_4_56</td></tr><tr><th>6</th><td>id_1505_4_57</td><td>Johannes Wilhelmi de Wesop</td><td>1505_4_57</td><td>WIAG-Pers-PRIESTStapel-01505_4_57</td></tr></tbody></table></div>"
      ],
      "text/latex": [
       "\\begin{tabular}{r|cccc}\n",
       "\t& id\\_in\\_source & item\\_in\\_source & id\\_num\\_in\\_source & id\\_public\\\\\n",
       "\t\\hline\n",
       "\t& String & String & String & String\\\\\n",
       "\t\\hline\n",
       "\t1 & id\\_1505\\_4\\_52 & Nanno Petri de Alcmaria & 1505\\_4\\_52 & WIAG-Pers-PRIESTStapel-01505\\_4\\_52 \\\\\n",
       "\t2 & id\\_1505\\_4\\_53 & Cornelius Petri de Brouershaven & 1505\\_4\\_53 & WIAG-Pers-PRIESTStapel-01505\\_4\\_53 \\\\\n",
       "\t3 & id\\_1505\\_4\\_54 & † Wisso Jacobi & 1505\\_4\\_54 & WIAG-Pers-PRIESTStapel-01505\\_4\\_54 \\\\\n",
       "\t4 & id\\_1505\\_4\\_55 & † Wouterus Johannis de Meclinia & 1505\\_4\\_55 & WIAG-Pers-PRIESTStapel-01505\\_4\\_55 \\\\\n",
       "\t5 & id\\_1505\\_4\\_56 & Magister Johannes Blessinck de Steenwijck & 1505\\_4\\_56 & WIAG-Pers-PRIESTStapel-01505\\_4\\_56 \\\\\n",
       "\t6 & id\\_1505\\_4\\_57 & Johannes Wilhelmi de Wesop & 1505\\_4\\_57 & WIAG-Pers-PRIESTStapel-01505\\_4\\_57 \\\\\n",
       "\\end{tabular}\n"
      ],
      "text/plain": [
       "\u001b[1m6×4 DataFrame\u001b[0m\n",
       "\u001b[1m Row \u001b[0m│\u001b[1m id_in_source \u001b[0m\u001b[1m item_in_source                    \u001b[0m\u001b[1m id_num_in_source \u001b[0m\u001b[1m id_public                         \u001b[0m\n",
       "\u001b[1m     \u001b[0m│\u001b[90m String       \u001b[0m\u001b[90m String                            \u001b[0m\u001b[90m String           \u001b[0m\u001b[90m String                            \u001b[0m\n",
       "─────┼──────────────────────────────────────────────────────────────────────────────────────────────────────\n",
       "   1 │ id_1505_4_52  Nanno Petri de Alcmaria            1505_4_52         WIAG-Pers-PRIESTStapel-01505_4_52\n",
       "   2 │ id_1505_4_53  Cornelius Petri de Brouershaven    1505_4_53         WIAG-Pers-PRIESTStapel-01505_4_53\n",
       "   3 │ id_1505_4_54  † Wisso Jacobi                     1505_4_54         WIAG-Pers-PRIESTStapel-01505_4_54\n",
       "   4 │ id_1505_4_55  † Wouterus Johannis de Meclinia    1505_4_55         WIAG-Pers-PRIESTStapel-01505_4_55\n",
       "   5 │ id_1505_4_56  Magister Johannes Blessinck de S…  1505_4_56         WIAG-Pers-PRIESTStapel-01505_4_56\n",
       "   6 │ id_1505_4_57  Johannes Wilhelmi de Wesop         1505_4_57         WIAG-Pers-PRIESTStapel-01505_4_57"
      ]
     },
     "execution_count": 75,
     "metadata": {},
     "output_type": "execute_result"
    }
   ],
   "source": [
    "df_item[200:205, :]"
   ]
  },
  {
   "cell_type": "markdown",
   "metadata": {},
   "source": [
    "Der Wert für `lang` ist das Kürzel für die Sprache der Quelle also `nl`?!"
   ]
  },
  {
   "cell_type": "code",
   "execution_count": 76,
   "metadata": {},
   "outputs": [],
   "source": [
    "insertcols!(df_item,\n",
    "    :id => missing,\n",
    "    :item_type_id => item_type_id,\n",
    "    :comment => missing,\n",
    "    :merged_into_id => missing,\n",
    "    :edit_status => \"online\",\n",
    "    :created_by => 2,\n",
    "    :date_created => now(),\n",
    "    :changed_by => 2,\n",
    "    :date_changed => now(),\n",
    "    :is_deleted => 0,\n",
    "    :normdata_edited_by => missing,\n",
    "    :lang => \"nl\",\n",
    "    :is_online => 1\n",
    ");"
   ]
  },
  {
   "cell_type": "code",
   "execution_count": 77,
   "metadata": {
    "scrolled": false
   },
   "outputs": [
    {
     "data": {
      "text/html": [
       "<div class=\"data-frame\"><p>6 rows × 17 columns (omitted printing of 11 columns)</p><table class=\"data-frame\"><thead><tr><th></th><th>id_in_source</th><th>item_in_source</th><th>id_num_in_source</th><th>id_public</th><th>id</th><th>item_type_id</th></tr><tr><th></th><th title=\"String\">String</th><th title=\"String\">String</th><th title=\"String\">String</th><th title=\"String\">String</th><th title=\"Missing\">Missing</th><th title=\"Int64\">Int64</th></tr></thead><tbody><tr><th>1</th><td>id_1505_4_52</td><td>Nanno Petri de Alcmaria</td><td>1505_4_52</td><td>WIAG-Pers-PRIESTStapel-01505_4_52</td><td><em>missing</em></td><td>10</td></tr><tr><th>2</th><td>id_1505_4_53</td><td>Cornelius Petri de Brouershaven</td><td>1505_4_53</td><td>WIAG-Pers-PRIESTStapel-01505_4_53</td><td><em>missing</em></td><td>10</td></tr><tr><th>3</th><td>id_1505_4_54</td><td>† Wisso Jacobi</td><td>1505_4_54</td><td>WIAG-Pers-PRIESTStapel-01505_4_54</td><td><em>missing</em></td><td>10</td></tr><tr><th>4</th><td>id_1505_4_55</td><td>† Wouterus Johannis de Meclinia</td><td>1505_4_55</td><td>WIAG-Pers-PRIESTStapel-01505_4_55</td><td><em>missing</em></td><td>10</td></tr><tr><th>5</th><td>id_1505_4_56</td><td>Magister Johannes Blessinck de Steenwijck</td><td>1505_4_56</td><td>WIAG-Pers-PRIESTStapel-01505_4_56</td><td><em>missing</em></td><td>10</td></tr><tr><th>6</th><td>id_1505_4_57</td><td>Johannes Wilhelmi de Wesop</td><td>1505_4_57</td><td>WIAG-Pers-PRIESTStapel-01505_4_57</td><td><em>missing</em></td><td>10</td></tr></tbody></table></div>"
      ],
      "text/latex": [
       "\\begin{tabular}{r|ccccccc}\n",
       "\t& id\\_in\\_source & item\\_in\\_source & id\\_num\\_in\\_source & id\\_public & id & item\\_type\\_id & \\\\\n",
       "\t\\hline\n",
       "\t& String & String & String & String & Missing & Int64 & \\\\\n",
       "\t\\hline\n",
       "\t1 & id\\_1505\\_4\\_52 & Nanno Petri de Alcmaria & 1505\\_4\\_52 & WIAG-Pers-PRIESTStapel-01505\\_4\\_52 & \\emph{missing} & 10 & $\\dots$ \\\\\n",
       "\t2 & id\\_1505\\_4\\_53 & Cornelius Petri de Brouershaven & 1505\\_4\\_53 & WIAG-Pers-PRIESTStapel-01505\\_4\\_53 & \\emph{missing} & 10 & $\\dots$ \\\\\n",
       "\t3 & id\\_1505\\_4\\_54 & † Wisso Jacobi & 1505\\_4\\_54 & WIAG-Pers-PRIESTStapel-01505\\_4\\_54 & \\emph{missing} & 10 & $\\dots$ \\\\\n",
       "\t4 & id\\_1505\\_4\\_55 & † Wouterus Johannis de Meclinia & 1505\\_4\\_55 & WIAG-Pers-PRIESTStapel-01505\\_4\\_55 & \\emph{missing} & 10 & $\\dots$ \\\\\n",
       "\t5 & id\\_1505\\_4\\_56 & Magister Johannes Blessinck de Steenwijck & 1505\\_4\\_56 & WIAG-Pers-PRIESTStapel-01505\\_4\\_56 & \\emph{missing} & 10 & $\\dots$ \\\\\n",
       "\t6 & id\\_1505\\_4\\_57 & Johannes Wilhelmi de Wesop & 1505\\_4\\_57 & WIAG-Pers-PRIESTStapel-01505\\_4\\_57 & \\emph{missing} & 10 & $\\dots$ \\\\\n",
       "\\end{tabular}\n"
      ],
      "text/plain": [
       "\u001b[1m6×17 DataFrame\u001b[0m\n",
       "\u001b[1m Row \u001b[0m│\u001b[1m id_in_source \u001b[0m\u001b[1m item_in_source                    \u001b[0m\u001b[1m id_num_in_source \u001b[0m\u001b[1m id_public                         \u001b[0m\u001b[1m id      \u001b[0m\u001b[1m \u001b[0m ⋯\n",
       "\u001b[1m     \u001b[0m│\u001b[90m String       \u001b[0m\u001b[90m String                            \u001b[0m\u001b[90m String           \u001b[0m\u001b[90m String                            \u001b[0m\u001b[90m Missing \u001b[0m\u001b[90m \u001b[0m ⋯\n",
       "─────┼──────────────────────────────────────────────────────────────────────────────────────────────────────────────────\n",
       "   1 │ id_1505_4_52  Nanno Petri de Alcmaria            1505_4_52         WIAG-Pers-PRIESTStapel-01505_4_52 \u001b[90m missing \u001b[0m  ⋯\n",
       "   2 │ id_1505_4_53  Cornelius Petri de Brouershaven    1505_4_53         WIAG-Pers-PRIESTStapel-01505_4_53 \u001b[90m missing \u001b[0m\n",
       "   3 │ id_1505_4_54  † Wisso Jacobi                     1505_4_54         WIAG-Pers-PRIESTStapel-01505_4_54 \u001b[90m missing \u001b[0m\n",
       "   4 │ id_1505_4_55  † Wouterus Johannis de Meclinia    1505_4_55         WIAG-Pers-PRIESTStapel-01505_4_55 \u001b[90m missing \u001b[0m\n",
       "   5 │ id_1505_4_56  Magister Johannes Blessinck de S…  1505_4_56         WIAG-Pers-PRIESTStapel-01505_4_56 \u001b[90m missing \u001b[0m  ⋯\n",
       "   6 │ id_1505_4_57  Johannes Wilhelmi de Wesop         1505_4_57         WIAG-Pers-PRIESTStapel-01505_4_57 \u001b[90m missing \u001b[0m\n",
       "\u001b[36m                                                                                                      12 columns omitted\u001b[0m"
      ]
     },
     "execution_count": 77,
     "metadata": {},
     "output_type": "execute_result"
    }
   ],
   "source": [
    "df_item[200:205, :]"
   ]
  },
  {
   "cell_type": "code",
   "execution_count": 78,
   "metadata": {},
   "outputs": [
    {
     "name": "stderr",
     "output_type": "stream",
     "text": [
      "┌ Info: row \n",
      "│   i = 2000\n",
      "└ @ WiagDataSetup C:\\Users\\georg\\Documents\\projekte\\WiagDataSetup.jl\\src\\WiagDataSetup.jl:1603\n",
      "┌ Info: row \n",
      "│   i = 4000\n",
      "└ @ WiagDataSetup C:\\Users\\georg\\Documents\\projekte\\WiagDataSetup.jl\\src\\WiagDataSetup.jl:1603\n"
     ]
    },
    {
     "data": {
      "text/plain": [
       "4477"
      ]
     },
     "execution_count": 78,
     "metadata": {},
     "output_type": "execute_result"
    }
   ],
   "source": [
    "table_name = \"item\"\n",
    "file_name = joinpath(out_path, \"$(table_name).sql\")\n",
    "Wds.insert_sql(file_name, table_name, select(df_item, Not(:id_num_in_source)))"
   ]
  },
  {
   "cell_type": "markdown",
   "metadata": {},
   "source": [
    "begin fix `item_in_source`"
   ]
  },
  {
   "cell_type": "code",
   "execution_count": 264,
   "metadata": {},
   "outputs": [],
   "source": [
    "sql = \"SELECT * FROM item WHERE item_type_id = 10\";\n",
    "df_item = Wds.sql_df(sql);"
   ]
  },
  {
   "cell_type": "code",
   "execution_count": 265,
   "metadata": {},
   "outputs": [
    {
     "data": {
      "text/plain": [
       "lstrip_bijdrage (generic function with 1 method)"
      ]
     },
     "execution_count": 265,
     "metadata": {},
     "output_type": "execute_result"
    }
   ],
   "source": [
    "lstrip_bijdrage(s) = ismissing(s) ? s : lstrip(s, ['†', ' '])"
   ]
  },
  {
   "cell_type": "code",
   "execution_count": 266,
   "metadata": {},
   "outputs": [],
   "source": [
    "transform!(df_item, :item_in_source => ByRow(lstrip_bijdrage) => :item_in_source);"
   ]
  },
  {
   "cell_type": "code",
   "execution_count": 268,
   "metadata": {},
   "outputs": [
    {
     "name": "stderr",
     "output_type": "stream",
     "text": [
      "┌ Info: row \n",
      "│   i = 2000\n",
      "└ @ WiagDataSetup C:\\Users\\georg\\Documents\\projekte\\WiagDataSetup.jl\\src\\WiagDataSetup.jl:1603\n",
      "┌ Info: row \n",
      "│   i = 4000\n",
      "└ @ WiagDataSetup C:\\Users\\georg\\Documents\\projekte\\WiagDataSetup.jl\\src\\WiagDataSetup.jl:1603\n"
     ]
    },
    {
     "data": {
      "text/plain": [
       "4477"
      ]
     },
     "execution_count": 268,
     "metadata": {},
     "output_type": "execute_result"
    }
   ],
   "source": [
    "table_name = \"item\"\n",
    "file_name = joinpath(out_path, \"$(table_name).sql\")\n",
    "Wds.insert_sql(file_name, table_name, df_item)"
   ]
  },
  {
   "cell_type": "markdown",
   "metadata": {},
   "source": [
    "end fix"
   ]
  },
  {
   "cell_type": "code",
   "execution_count": null,
   "metadata": {},
   "outputs": [],
   "source": [
    "begin fix id_public"
   ]
  },
  {
   "cell_type": "code",
   "execution_count": 302,
   "metadata": {},
   "outputs": [],
   "source": [
    "sql = \"SELECT * FROM item WHERE item_type_id = 10\";\n",
    "df_item = Wds.sql_df(sql);"
   ]
  },
  {
   "cell_type": "code",
   "execution_count": 304,
   "metadata": {},
   "outputs": [
    {
     "data": {
      "text/plain": [
       "set_id_public_prefix (generic function with 1 method)"
      ]
     },
     "execution_count": 304,
     "metadata": {},
     "output_type": "execute_result"
    }
   ],
   "source": [
    "set_id_public_prefix(s) = replace(s, \"PRIESTStapel\" => \"PRIESTUtrecht\")"
   ]
  },
  {
   "cell_type": "code",
   "execution_count": 305,
   "metadata": {},
   "outputs": [],
   "source": [
    "transform!(df_item, :id_public => ByRow(set_id_public_prefix) => :id_public);"
   ]
  },
  {
   "cell_type": "code",
   "execution_count": 306,
   "metadata": {},
   "outputs": [
    {
     "data": {
      "text/html": [
       "<div class=\"data-frame\"><p>5 rows × 4 columns</p><table class=\"data-frame\"><thead><tr><th></th><th>id</th><th>id_in_source</th><th>item_in_source</th><th>id_public</th></tr><tr><th></th><th title=\"Int32\">Int32</th><th title=\"Union{Missing, String}\">String?</th><th title=\"Union{Missing, String}\">String?</th><th title=\"String\">String</th></tr></thead><tbody><tr><th>1</th><td>312727</td><td>id_1506_3_43</td><td>Magister Jacobus Ghijsberti de Hoern</td><td>WIAG-Pers-PRIESTUtrecht-01506_3_43</td></tr><tr><th>2</th><td>312728</td><td>id_1506_3_44</td><td>Hermannus Joconis de Scneeckis</td><td>WIAG-Pers-PRIESTUtrecht-01506_3_44</td></tr><tr><th>3</th><td>312729</td><td>id_1506_3_45</td><td>Johannes Florencii de Hoern</td><td>WIAG-Pers-PRIESTUtrecht-01506_3_45</td></tr><tr><th>4</th><td>312730</td><td>id_1506_3_46</td><td>Wolterus Wilhelmi de Harlem</td><td>WIAG-Pers-PRIESTUtrecht-01506_3_46</td></tr><tr><th>5</th><td>312731</td><td>id_1506_3_47</td><td>Johannes Heinrici de Stavenissa</td><td>WIAG-Pers-PRIESTUtrecht-01506_3_47</td></tr></tbody></table></div>"
      ],
      "text/latex": [
       "\\begin{tabular}{r|cccc}\n",
       "\t& id & id\\_in\\_source & item\\_in\\_source & id\\_public\\\\\n",
       "\t\\hline\n",
       "\t& Int32 & String? & String? & String\\\\\n",
       "\t\\hline\n",
       "\t1 & 312727 & id\\_1506\\_3\\_43 & Magister Jacobus Ghijsberti de Hoern & WIAG-Pers-PRIESTUtrecht-01506\\_3\\_43 \\\\\n",
       "\t2 & 312728 & id\\_1506\\_3\\_44 & Hermannus Joconis de Scneeckis & WIAG-Pers-PRIESTUtrecht-01506\\_3\\_44 \\\\\n",
       "\t3 & 312729 & id\\_1506\\_3\\_45 & Johannes Florencii de Hoern & WIAG-Pers-PRIESTUtrecht-01506\\_3\\_45 \\\\\n",
       "\t4 & 312730 & id\\_1506\\_3\\_46 & Wolterus Wilhelmi de Harlem & WIAG-Pers-PRIESTUtrecht-01506\\_3\\_46 \\\\\n",
       "\t5 & 312731 & id\\_1506\\_3\\_47 & Johannes Heinrici de Stavenissa & WIAG-Pers-PRIESTUtrecht-01506\\_3\\_47 \\\\\n",
       "\\end{tabular}\n"
      ],
      "text/plain": [
       "\u001b[1m5×4 DataFrame\u001b[0m\n",
       "\u001b[1m Row \u001b[0m│\u001b[1m id     \u001b[0m\u001b[1m id_in_source \u001b[0m\u001b[1m item_in_source                    \u001b[0m\u001b[1m id_public                         \u001b[0m\n",
       "\u001b[1m     \u001b[0m│\u001b[90m Int32  \u001b[0m\u001b[90m String?      \u001b[0m\u001b[90m String?                           \u001b[0m\u001b[90m String                            \u001b[0m\n",
       "─────┼────────────────────────────────────────────────────────────────────────────────────────────\n",
       "   1 │ 312727  id_1506_3_43  Magister Jacobus Ghijsberti de H…  WIAG-Pers-PRIESTUtrecht-01506_3_…\n",
       "   2 │ 312728  id_1506_3_44  Hermannus Joconis de Scneeckis     WIAG-Pers-PRIESTUtrecht-01506_3_…\n",
       "   3 │ 312729  id_1506_3_45  Johannes Florencii de Hoern        WIAG-Pers-PRIESTUtrecht-01506_3_…\n",
       "   4 │ 312730  id_1506_3_46  Wolterus Wilhelmi de Harlem        WIAG-Pers-PRIESTUtrecht-01506_3_…\n",
       "   5 │ 312731  id_1506_3_47  Johannes Heinrici de Stavenissa    WIAG-Pers-PRIESTUtrecht-01506_3_…"
      ]
     },
     "execution_count": 306,
     "metadata": {},
     "output_type": "execute_result"
    }
   ],
   "source": [
    "df_item[401:405, [:id, :id_in_source, :item_in_source, :id_public]]"
   ]
  },
  {
   "cell_type": "code",
   "execution_count": 307,
   "metadata": {},
   "outputs": [
    {
     "name": "stderr",
     "output_type": "stream",
     "text": [
      "┌ Info: row \n",
      "│   i = 2000\n",
      "└ @ WiagDataSetup C:\\Users\\georg\\Documents\\projekte\\WiagDataSetup.jl\\src\\WiagDataSetup.jl:1603\n",
      "┌ Info: row \n",
      "│   i = 4000\n",
      "└ @ WiagDataSetup C:\\Users\\georg\\Documents\\projekte\\WiagDataSetup.jl\\src\\WiagDataSetup.jl:1603\n"
     ]
    },
    {
     "data": {
      "text/plain": [
       "4477"
      ]
     },
     "execution_count": 307,
     "metadata": {},
     "output_type": "execute_result"
    }
   ],
   "source": [
    "table_name = \"item\"\n",
    "file_name = joinpath(out_path, \"$(table_name).sql\")\n",
    "Wds.insert_sql(file_name, table_name, df_item)"
   ]
  },
  {
   "cell_type": "markdown",
   "metadata": {},
   "source": [
    "end fix"
   ]
  },
  {
   "cell_type": "markdown",
   "metadata": {},
   "source": [
    "Importiere `item.sql` via phpMyAdmin in die Datenbank.  "
   ]
  },
  {
   "cell_type": "markdown",
   "metadata": {},
   "source": [
    "## Daten eintragen"
   ]
  },
  {
   "cell_type": "markdown",
   "metadata": {},
   "source": [
    "Exportiere die Tabelle `item` aus der Datenbank via phpMyAdmin mit den Optionen: \"Spaltennamen in die erste Zeile setzen\" und \"Spalten trennen mit ';'\" als Trennzeichen."
   ]
  },
  {
   "cell_type": "code",
   "execution_count": 12,
   "metadata": {},
   "outputs": [],
   "source": [
    "# Quelle: Server\n",
    "if computer == :bkroege_goe \n",
    "    file_name = joinpath(data_path, \"item.csv\");\n",
    "else\n",
    "    file_name = joinpath(data_path, \"item_local.csv\")\n",
    "end\n",
    "df_item_db = CSV.read(file_name, DataFrame, delim = ';');"
   ]
  },
  {
   "cell_type": "code",
   "execution_count": 17,
   "metadata": {},
   "outputs": [],
   "source": [
    "# Quelle: Datenbank lokal\n",
    "sql = \"SELECT id, id_in_source, item_type_id\n",
    "FROM item \n",
    "WHERE item_type_id = 10\";\n",
    "df_idx = Wds.sql_df(sql);"
   ]
  },
  {
   "cell_type": "code",
   "execution_count": 18,
   "metadata": {},
   "outputs": [
    {
     "data": {
      "text/plain": [
       "(4476, 3)"
      ]
     },
     "execution_count": 18,
     "metadata": {},
     "output_type": "execute_result"
    }
   ],
   "source": [
    "size(df_idx)"
   ]
  },
  {
   "cell_type": "markdown",
   "metadata": {},
   "source": [
    "*2022-05-25* lies Daten aus `Ordinations_of_priests_Stapel.csv` statt `Ordinations_of_priests_Stapel_BK.csv`."
   ]
  },
  {
   "cell_type": "code",
   "execution_count": 19,
   "metadata": {},
   "outputs": [],
   "source": [
    "file_name = joinpath(data_path, \"Ordinations_of_priests_Stapel_cs1.csv\");\n",
    "df_priests = CSV.read(file_name, DataFrame, delim = '\\t', stringtype = String);"
   ]
  },
  {
   "cell_type": "code",
   "execution_count": 20,
   "metadata": {},
   "outputs": [],
   "source": [
    "Wds.clean_up!(df_priests)"
   ]
  },
  {
   "cell_type": "code",
   "execution_count": 21,
   "metadata": {},
   "outputs": [],
   "source": [
    "dropmissing!(df_priests, :Priester_ID);"
   ]
  },
  {
   "cell_type": "code",
   "execution_count": 22,
   "metadata": {},
   "outputs": [],
   "source": [
    "df_priests = unique(df_priests);"
   ]
  },
  {
   "cell_type": "code",
   "execution_count": 23,
   "metadata": {},
   "outputs": [
    {
     "data": {
      "text/plain": [
       "(4477, 28)"
      ]
     },
     "execution_count": 23,
     "metadata": {},
     "output_type": "execute_result"
    }
   ],
   "source": [
    "size(df_priests)"
   ]
  },
  {
   "cell_type": "markdown",
   "metadata": {},
   "source": [
    "ermittle `df_idx` aus der CSV-Datei"
   ]
  },
  {
   "cell_type": "code",
   "execution_count": 283,
   "metadata": {},
   "outputs": [],
   "source": [
    "df_item_utrecht = subset(df_item_db, :item_type_id => ByRow(isequal(item_type_id)));"
   ]
  },
  {
   "cell_type": "code",
   "execution_count": 284,
   "metadata": {},
   "outputs": [
    {
     "data": {
      "text/plain": [
       "3958"
      ]
     },
     "execution_count": 284,
     "metadata": {},
     "output_type": "execute_result"
    }
   ],
   "source": [
    "size(df_item_utrecht, 1)"
   ]
  },
  {
   "cell_type": "code",
   "execution_count": 27,
   "metadata": {},
   "outputs": [],
   "source": [
    "df_idx = df_item_utrecht[:, [:id, :id_in_source, :item_type_id]];"
   ]
  },
  {
   "cell_type": "code",
   "execution_count": 28,
   "metadata": {},
   "outputs": [
    {
     "data": {
      "text/plain": [
       "25-element Vector{String}:\n",
       " \"Bron\"\n",
       " \"Type record\"\n",
       " \"Priester_ID\"\n",
       " \"Datum (YMD)\"\n",
       " \"Locatie\"\n",
       " \"Transcriptie\"\n",
       " \"Voetnoot_bron\"\n",
       " \"Bijdrage\"\n",
       " \"Titel\"\n",
       " \"Voornaam\"\n",
       " \"Patroniem\"\n",
       " \"Familienaam\"\n",
       " \"Familienaam, toponiem\"\n",
       " \"Familienaam, onzeker\"\n",
       " \"Toponiem\"\n",
       " \"Orde\"\n",
       " \"Functie\"\n",
       " \"Instelling\"\n",
       " \"Voornaam_norm\"\n",
       " \"Patroniem_norm\"\n",
       " \"Orde_norm\"\n",
       " \"Opmerkingen\"\n",
       " \"Voornaam_uniciteit\"\n",
       " \"Patroniem_uniciteit\"\n",
       " \"Naam_ARDOU\""
      ]
     },
     "execution_count": 28,
     "metadata": {},
     "output_type": "execute_result"
    }
   ],
   "source": [
    "names(df_priests)"
   ]
  },
  {
   "cell_type": "code",
   "execution_count": 32,
   "metadata": {},
   "outputs": [],
   "source": [
    "columns_bk = [\n",
    "    :Priester_ID => :id_in_source,\n",
    "    Symbol(\"Datum\") => :ordination_date,\n",
    "    Symbol(\"Ort (Locatie)\") => :ordination_place,\n",
    "    :Titel => :title,\n",
    "    Symbol(\"Vorname (Voornaam)\") => :givenname,\n",
    "    Symbol(\"Zweiter Vorname (Patroniem)\") => :patronym,\n",
    "    Symbol(\"(Familienname) Familienaam\") => :familyname,\n",
    "    Symbol(\"Herkunftsort (Toponiem)\") => :place_of_origin,        \n",
    "    Symbol(\"Orden (Orde)\") => :religious_order,\n",
    "    Symbol(\"Amt (Functie)\") => :role_name,\n",
    "    :Instelling => :institution\n",
    "];"
   ]
  },
  {
   "cell_type": "code",
   "execution_count": 22,
   "metadata": {},
   "outputs": [
    {
     "data": {
      "text/plain": [
       "28-element Vector{String}:\n",
       " \"Bron\"\n",
       " \"Seite\"\n",
       " \"Type record\"\n",
       " \"Priester_ID\"\n",
       " \"Datum (YMD)\"\n",
       " \"Locatie\"\n",
       " \"Transcriptie\"\n",
       " \"Voetnoot_bron\"\n",
       " \"Bijdrage\"\n",
       " \"Titel\"\n",
       " \"Voornaam\"\n",
       " \"Patroniem\"\n",
       " \"Familienaam\"\n",
       " ⋮\n",
       " \"Orde\"\n",
       " \"Functie\"\n",
       " \"Instelling\"\n",
       " \"Voornaam_norm\"\n",
       " \"Patroniem_norm\"\n",
       " \"Orde_norm\"\n",
       " \"Opmerkingen\"\n",
       " \"Voornaam_uniciteit\"\n",
       " \"Patroniem_uniciteit\"\n",
       " \"Column26\"\n",
       " \"Column27\"\n",
       " \"Column28\""
      ]
     },
     "execution_count": 22,
     "metadata": {},
     "output_type": "execute_result"
    }
   ],
   "source": [
    "names(df_priests)"
   ]
  },
  {
   "cell_type": "code",
   "execution_count": 26,
   "metadata": {},
   "outputs": [],
   "source": [
    "columns = [\n",
    "    :Priester_ID => :id_in_source,\n",
    "    :Transcriptie => :item_in_source,\n",
    "    :Seite => :page,\n",
    "    Symbol(\"Datum (YMD)\") => :ordination_date,\n",
    "    Symbol(\"Locatie\") => :ordination_place,\n",
    "    :Bijdrage => :contribution,\n",
    "    :Titel => :title,    \n",
    "    Symbol(\"Voornaam\") => :givenname,\n",
    "    Symbol(\"Patroniem\") => :patronym,\n",
    "    Symbol(\"Familienaam\") => :familyname,\n",
    "    Symbol(\"Familienaam, toponiem\") => :familyname_t,\n",
    "    Symbol(\"Familienaam, onzeker\") => :familyname_o,\n",
    "    Symbol(\"Toponiem\") => :place_of_origin,        \n",
    "    Symbol(\"Orde\") => :religious_order,\n",
    "    Symbol(\"Functie\") => :role_name,\n",
    "    :Bron => :reference,\n",
    "    :Instelling => :institution\n",
    "];"
   ]
  },
  {
   "cell_type": "code",
   "execution_count": 27,
   "metadata": {},
   "outputs": [],
   "source": [
    "df_person_in = innerjoin(\n",
    "    select(df_priests, columns),\n",
    "    df_idx,\n",
    "    on = :id_in_source,\n",
    "    matchmissing = :notequal,\n",
    ");"
   ]
  },
  {
   "cell_type": "code",
   "execution_count": 28,
   "metadata": {},
   "outputs": [
    {
     "data": {
      "text/plain": [
       "(4476, 4477, 4476)"
      ]
     },
     "execution_count": 28,
     "metadata": {},
     "output_type": "execute_result"
    }
   ],
   "source": [
    "size(df_person_in, 1), size(df_priests, 1), size(df_idx, 1)"
   ]
  },
  {
   "cell_type": "markdown",
   "metadata": {},
   "source": [
    "### Quellen für Familiennamen"
   ]
  },
  {
   "cell_type": "code",
   "execution_count": 25,
   "metadata": {},
   "outputs": [
    {
     "data": {
      "text/plain": [
       "count_not_missing (generic function with 1 method)"
      ]
     },
     "execution_count": 25,
     "metadata": {},
     "output_type": "execute_result"
    }
   ],
   "source": [
    "count_not_missing(cols...) = count(!ismissing, cols)"
   ]
  },
  {
   "cell_type": "code",
   "execution_count": 37,
   "metadata": {},
   "outputs": [],
   "source": [
    "transform!(df_person_in, [:familyname, :familyname_t, :familyname_o] => ByRow(count_not_missing) => :n_familynames);"
   ]
  },
  {
   "cell_type": "code",
   "execution_count": 38,
   "metadata": {},
   "outputs": [],
   "source": [
    "df_info = subset(df_person_in, :n_familynames => ByRow((x -> x > 1)));"
   ]
  },
  {
   "cell_type": "code",
   "execution_count": 33,
   "metadata": {},
   "outputs": [
    {
     "data": {
      "text/plain": [
       "(0, 19)"
      ]
     },
     "execution_count": 33,
     "metadata": {},
     "output_type": "execute_result"
    }
   ],
   "source": [
    "size(df_info)"
   ]
  },
  {
   "cell_type": "code",
   "execution_count": 34,
   "metadata": {},
   "outputs": [
    {
     "data": {
      "text/plain": [
       "select_not_missing (generic function with 1 method)"
      ]
     },
     "execution_count": 34,
     "metadata": {},
     "output_type": "execute_result"
    }
   ],
   "source": [
    "function select_not_missing(col_list...)\n",
    "    val = missing\n",
    "    for col in col_list\n",
    "        if !ismissing(col)\n",
    "            val = col\n",
    "            break\n",
    "        end\n",
    "    end\n",
    "    return val\n",
    "end"
   ]
  },
  {
   "cell_type": "code",
   "execution_count": 39,
   "metadata": {},
   "outputs": [],
   "source": [
    "transform!(df_person_in, [:familyname, :familyname_t, :familyname_o] => ByRow(select_not_missing) => :familyname);"
   ]
  },
  {
   "cell_type": "markdown",
   "metadata": {},
   "source": [
    "### Identifiziere Orden"
   ]
  },
  {
   "cell_type": "code",
   "execution_count": null,
   "metadata": {},
   "outputs": [],
   "source": [
    "# Quelle: Server\n",
    "file_name = joinpath(data_path, \"religious_order.csv\")\n",
    "df_ro = CSV.read(file_name, DataFrame, delim = \";\");\n",
    "is_type_religious_order(id) = isequal(id, 7)\n",
    "df_idx_ro = subset(df_item_db, :item_type_id => ByRow(is_type_religious_order);"
   ]
  },
  {
   "cell_type": "code",
   "execution_count": 90,
   "metadata": {},
   "outputs": [],
   "source": [
    "# Quelle: lokale Datenbank\n",
    "sql = \"SELECT * FROM religious_order\";\n",
    "df_ro = Wds.sql_df(sql);\n",
    "item_type_religious_order = 7;\n",
    "sql = \"SELECT id, id_in_source, item_type_id\n",
    "FROM item\n",
    "WHERE item_type_id = $(item_type_religious_order)\";\n",
    "df_idx_ro = Wds.sql_df(sql);"
   ]
  },
  {
   "cell_type": "code",
   "execution_count": 91,
   "metadata": {},
   "outputs": [],
   "source": [
    "df_ro_id = innerjoin(df_ro, select(df_idx_ro, [:id, :item_type_id, :id_in_source]), on = :id);"
   ]
  },
  {
   "cell_type": "markdown",
   "metadata": {},
   "source": [
    "Info"
   ]
  },
  {
   "cell_type": "code",
   "execution_count": null,
   "metadata": {},
   "outputs": [],
   "source": [
    "df_ro_id"
   ]
  },
  {
   "cell_type": "code",
   "execution_count": 93,
   "metadata": {},
   "outputs": [],
   "source": [
    "file_name = joinpath(data_path, \"mapping_orden_stapel.csv\")\n",
    "df_map_ro = CSV.read(file_name, DataFrame, delim = \";\");"
   ]
  },
  {
   "cell_type": "code",
   "execution_count": 94,
   "metadata": {},
   "outputs": [],
   "source": [
    "transform!(df_map_ro, :id_order => ByRow(string) => :id_in_source);"
   ]
  },
  {
   "cell_type": "code",
   "execution_count": 95,
   "metadata": {},
   "outputs": [],
   "source": [
    "df_map_ro = innerjoin(df_map_ro, df_ro_id, on = :id_in_source);"
   ]
  },
  {
   "cell_type": "code",
   "execution_count": 96,
   "metadata": {},
   "outputs": [
    {
     "data": {
      "text/plain": [
       "10-element Vector{String}:\n",
       " \"altLabel_abk\"\n",
       " \"Orde\"\n",
       " \"id_order\"\n",
       " \"id_in_source\"\n",
       " \"id\"\n",
       " \"comment\"\n",
       " \"name\"\n",
       " \"abbreviation\"\n",
       " \"note\"\n",
       " \"item_type_id\""
      ]
     },
     "execution_count": 96,
     "metadata": {},
     "output_type": "execute_result"
    }
   ],
   "source": [
    "names(df_map_ro)"
   ]
  },
  {
   "cell_type": "code",
   "execution_count": 98,
   "metadata": {},
   "outputs": [
    {
     "data": {
      "text/plain": [
       "4-element Vector{Pair{Symbol, Symbol}}:\n",
       "           :id => :religious_order_id\n",
       " :id_in_source => :id_in_source_ro\n",
       "         :Orde => :religious_order\n",
       " :abbreviation => :abbreviation"
      ]
     },
     "execution_count": 98,
     "metadata": {},
     "output_type": "execute_result"
    }
   ],
   "source": [
    "columns = [\n",
    "    :id => :religious_order_id,\n",
    "    :id_in_source => :id_in_source_ro,\n",
    "    :Orde => :religious_order,\n",
    "    :abbreviation => :abbreviation,\n",
    "]"
   ]
  },
  {
   "cell_type": "code",
   "execution_count": 99,
   "metadata": {},
   "outputs": [],
   "source": [
    "df_map_ro_join = select(df_map_ro, columns);"
   ]
  },
  {
   "cell_type": "markdown",
   "metadata": {},
   "source": [
    "Die Ordensbezeichnungen variieren in Groß- und Kleinschreibung"
   ]
  },
  {
   "cell_type": "code",
   "execution_count": 100,
   "metadata": {},
   "outputs": [],
   "source": [
    "transform!(df_map_ro_join, :religious_order => ByRow(lowercase) => :religious_order);"
   ]
  },
  {
   "cell_type": "code",
   "execution_count": 101,
   "metadata": {},
   "outputs": [
    {
     "data": {
      "text/html": [
       "<div class=\"data-frame\"><p>6 rows × 4 columns</p><table class=\"data-frame\"><thead><tr><th></th><th>religious_order_id</th><th>id_in_source_ro</th><th>religious_order</th><th>abbreviation</th></tr><tr><th></th><th title=\"Int32\">Int32</th><th title=\"String\">String</th><th title=\"String\">String</th><th title=\"Union{Missing, String}\">String?</th></tr></thead><tbody><tr><th>1</th><td>5314</td><td>5</td><td>ordinis cistericiensis</td><td>OCist</td></tr><tr><th>2</th><td>5314</td><td>5</td><td>ordinis cistersiensium</td><td>OCist</td></tr><tr><th>3</th><td>176167</td><td>6</td><td>ordinis sancti wilhelmi</td><td>OESG</td></tr><tr><th>4</th><td>176167</td><td>6</td><td>ordinis wilhellemitarum</td><td>OESG</td></tr><tr><th>5</th><td>5319</td><td>12</td><td>ordinis sancti johannis</td><td>OMel</td></tr><tr><th>6</th><td>5309</td><td>13</td><td>ordinis predicatorum</td><td>OP</td></tr></tbody></table></div>"
      ],
      "text/latex": [
       "\\begin{tabular}{r|cccc}\n",
       "\t& religious\\_order\\_id & id\\_in\\_source\\_ro & religious\\_order & abbreviation\\\\\n",
       "\t\\hline\n",
       "\t& Int32 & String & String & String?\\\\\n",
       "\t\\hline\n",
       "\t1 & 5314 & 5 & ordinis cistericiensis & OCist \\\\\n",
       "\t2 & 5314 & 5 & ordinis cistersiensium & OCist \\\\\n",
       "\t3 & 176167 & 6 & ordinis sancti wilhelmi & OESG \\\\\n",
       "\t4 & 176167 & 6 & ordinis wilhellemitarum & OESG \\\\\n",
       "\t5 & 5319 & 12 & ordinis sancti johannis & OMel \\\\\n",
       "\t6 & 5309 & 13 & ordinis predicatorum & OP \\\\\n",
       "\\end{tabular}\n"
      ],
      "text/plain": [
       "\u001b[1m6×4 DataFrame\u001b[0m\n",
       "\u001b[1m Row \u001b[0m│\u001b[1m religious_order_id \u001b[0m\u001b[1m id_in_source_ro \u001b[0m\u001b[1m religious_order         \u001b[0m\u001b[1m abbreviation \u001b[0m\n",
       "\u001b[1m     \u001b[0m│\u001b[90m Int32              \u001b[0m\u001b[90m String          \u001b[0m\u001b[90m String                  \u001b[0m\u001b[90m String?      \u001b[0m\n",
       "─────┼────────────────────────────────────────────────────────────────────────────\n",
       "   1 │               5314  5                ordinis cistericiensis   OCist\n",
       "   2 │               5314  5                ordinis cistersiensium   OCist\n",
       "   3 │             176167  6                ordinis sancti wilhelmi  OESG\n",
       "   4 │             176167  6                ordinis wilhellemitarum  OESG\n",
       "   5 │               5319  12               ordinis sancti johannis  OMel\n",
       "   6 │               5309  13               ordinis predicatorum     OP"
      ]
     },
     "execution_count": 101,
     "metadata": {},
     "output_type": "execute_result"
    }
   ],
   "source": [
    "df_map_ro_join[7:12, :]"
   ]
  },
  {
   "cell_type": "markdown",
   "metadata": {},
   "source": [
    "Wandle die Ordensbezeichnungen in Kleinbuchstaben um."
   ]
  },
  {
   "cell_type": "code",
   "execution_count": 102,
   "metadata": {},
   "outputs": [
    {
     "data": {
      "text/plain": [
       "lowercase_maybe (generic function with 1 method)"
      ]
     },
     "execution_count": 102,
     "metadata": {},
     "output_type": "execute_result"
    }
   ],
   "source": [
    "lowercase_maybe(a) = typeof(a) <: AbstractString ? lowercase(a) : a"
   ]
  },
  {
   "cell_type": "code",
   "execution_count": 103,
   "metadata": {},
   "outputs": [],
   "source": [
    "transform!(df_person_in, :religious_order => ByRow(lowercase_maybe) => :religious_order);"
   ]
  },
  {
   "cell_type": "code",
   "execution_count": 104,
   "metadata": {},
   "outputs": [],
   "source": [
    "df_person_in_ro = leftjoin(df_person_in, df_map_ro_join, on = :religious_order, matchmissing = :notequal);"
   ]
  },
  {
   "cell_type": "code",
   "execution_count": 105,
   "metadata": {},
   "outputs": [
    {
     "data": {
      "text/plain": [
       "(4477, 4477)"
      ]
     },
     "execution_count": 105,
     "metadata": {},
     "output_type": "execute_result"
    }
   ],
   "source": [
    "size(df_person_in, 1), size(df_person_in_ro, 1)"
   ]
  },
  {
   "cell_type": "code",
   "execution_count": 106,
   "metadata": {},
   "outputs": [
    {
     "data": {
      "text/plain": [
       "(1359, 1352)"
      ]
     },
     "execution_count": 106,
     "metadata": {},
     "output_type": "execute_result"
    }
   ],
   "source": [
    "count(!ismissing, df_person_in.religious_order), count(!ismissing, df_person_in_ro.religious_order_id)"
   ]
  },
  {
   "cell_type": "code",
   "execution_count": 107,
   "metadata": {},
   "outputs": [
    {
     "data": {
      "text/plain": [
       "delta_msg (generic function with 1 method)"
      ]
     },
     "execution_count": 107,
     "metadata": {},
     "output_type": "execute_result"
    }
   ],
   "source": [
    "delta_msg(a, b) = !ismissing(a) && ismissing(b)"
   ]
  },
  {
   "cell_type": "code",
   "execution_count": 108,
   "metadata": {},
   "outputs": [],
   "source": [
    "df_examine = subset(df_person_in_ro, [:religious_order, :religious_order_id] => ByRow(delta_msg));"
   ]
  },
  {
   "cell_type": "code",
   "execution_count": 109,
   "metadata": {},
   "outputs": [
    {
     "data": {
      "text/plain": [
       "1-element Vector{Union{Missing, String}}:\n",
       " \"ordinis …\""
      ]
     },
     "execution_count": 109,
     "metadata": {},
     "output_type": "execute_result"
    }
   ],
   "source": [
    "unique(df_examine.religious_order)"
   ]
  },
  {
   "cell_type": "markdown",
   "metadata": {},
   "source": [
    "Exportiere Daten für die Tabelle `person`"
   ]
  },
  {
   "cell_type": "code",
   "execution_count": null,
   "metadata": {},
   "outputs": [],
   "source": [
    "names(df_person_in_ro)"
   ]
  },
  {
   "cell_type": "markdown",
   "metadata": {},
   "source": [
    "Verwende das Jahr der Priesterweihe für die zeitliche Einordnung"
   ]
  },
  {
   "cell_type": "code",
   "execution_count": 118,
   "metadata": {},
   "outputs": [
    {
     "data": {
      "text/plain": [
       "parse_date_min (generic function with 1 method)"
      ]
     },
     "execution_count": 118,
     "metadata": {},
     "output_type": "execute_result"
    }
   ],
   "source": [
    "parse_date_min(s) = ismissing(s) ? s : year(s)"
   ]
  },
  {
   "cell_type": "code",
   "execution_count": 123,
   "metadata": {},
   "outputs": [],
   "source": [
    "transform!(df_person_in_ro, :ordination_date => ByRow(parse_date_min) => :date_min);"
   ]
  },
  {
   "cell_type": "code",
   "execution_count": 124,
   "metadata": {},
   "outputs": [],
   "source": [
    "columns = [\n",
    "    :id => :id,\n",
    "    :item_type_id => :item_type_id,\n",
    "    :givenname => :givenname,\n",
    "    :familyname => :familyname,\n",
    "    :religious_order_id => :religious_order_id,\n",
    "    :date_min => :date_min,\n",
    "    :date_min => :date_max,\n",
    "];"
   ]
  },
  {
   "cell_type": "code",
   "execution_count": 127,
   "metadata": {},
   "outputs": [
    {
     "data": {
      "text/plain": [
       "is_test (generic function with 1 method)"
      ]
     },
     "execution_count": 127,
     "metadata": {},
     "output_type": "execute_result"
    }
   ],
   "source": [
    "is_test(id) = id in (314332, 314338)"
   ]
  },
  {
   "cell_type": "code",
   "execution_count": 128,
   "metadata": {},
   "outputs": [
    {
     "data": {
      "text/html": [
       "<div class=\"data-frame\"><p>2 rows × 5 columns</p><table class=\"data-frame\"><thead><tr><th></th><th>id</th><th>givenname</th><th>date_min</th><th>ordination_date</th><th>title</th></tr><tr><th></th><th title=\"Int32\">Int32</th><th title=\"Union{Missing, String}\">String?</th><th title=\"Int64\">Int64</th><th title=\"Date\">Date</th><th title=\"Union{Missing, String}\">String?</th></tr></thead><tbody><tr><th>1</th><td>314332</td><td>Laurencius</td><td>1511</td><td>1511-04-19</td><td><em>missing</em></td></tr><tr><th>2</th><td>314338</td><td>Bernardus</td><td>1511</td><td>1511-04-19</td><td><em>missing</em></td></tr></tbody></table></div>"
      ],
      "text/latex": [
       "\\begin{tabular}{r|ccccc}\n",
       "\t& id & givenname & date\\_min & ordination\\_date & title\\\\\n",
       "\t\\hline\n",
       "\t& Int32 & String? & Int64 & Date & String?\\\\\n",
       "\t\\hline\n",
       "\t1 & 314332 & Laurencius & 1511 & 1511-04-19 & \\emph{missing} \\\\\n",
       "\t2 & 314338 & Bernardus & 1511 & 1511-04-19 & \\emph{missing} \\\\\n",
       "\\end{tabular}\n"
      ],
      "text/plain": [
       "\u001b[1m2×5 DataFrame\u001b[0m\n",
       "\u001b[1m Row \u001b[0m│\u001b[1m id     \u001b[0m\u001b[1m givenname  \u001b[0m\u001b[1m date_min \u001b[0m\u001b[1m ordination_date \u001b[0m\u001b[1m title   \u001b[0m\n",
       "\u001b[1m     \u001b[0m│\u001b[90m Int32  \u001b[0m\u001b[90m String?    \u001b[0m\u001b[90m Int64    \u001b[0m\u001b[90m Date            \u001b[0m\u001b[90m String? \u001b[0m\n",
       "─────┼────────────────────────────────────────────────────────\n",
       "   1 │ 314332  Laurencius      1511  1511-04-19      \u001b[90m missing \u001b[0m\n",
       "   2 │ 314338  Bernardus       1511  1511-04-19      \u001b[90m missing \u001b[0m"
      ]
     },
     "execution_count": 128,
     "metadata": {},
     "output_type": "execute_result"
    }
   ],
   "source": [
    "subset(df_person_in_ro[:, [:id, :givenname, :date_min, :ordination_date, :title]], :id => ByRow(is_test))"
   ]
  },
  {
   "cell_type": "code",
   "execution_count": 129,
   "metadata": {},
   "outputs": [
    {
     "name": "stderr",
     "output_type": "stream",
     "text": [
      "┌ Info: row \n",
      "│   i = 2000\n",
      "└ @ WiagDataSetup C:\\Users\\georg\\Documents\\projekte\\WiagDataSetup.jl\\src\\WiagDataSetup.jl:1603\n",
      "┌ Info: row \n",
      "│   i = 4000\n",
      "└ @ WiagDataSetup C:\\Users\\georg\\Documents\\projekte\\WiagDataSetup.jl\\src\\WiagDataSetup.jl:1603\n"
     ]
    },
    {
     "data": {
      "text/plain": [
       "4477"
      ]
     },
     "execution_count": 129,
     "metadata": {},
     "output_type": "execute_result"
    }
   ],
   "source": [
    "table_name = \"person\"\n",
    "file_name = joinpath(out_path, \"$(table_name).sql\")\n",
    "Wds.insert_sql(file_name, table_name, select(df_person_in_ro, columns))"
   ]
  },
  {
   "cell_type": "markdown",
   "metadata": {},
   "source": [
    "## Freie Attribute"
   ]
  },
  {
   "cell_type": "markdown",
   "metadata": {},
   "source": [
    "### Titel"
   ]
  },
  {
   "cell_type": "code",
   "execution_count": 130,
   "metadata": {},
   "outputs": [],
   "source": [
    "df_title = subset(df_person_in, :title => ByRow(!ismissing));"
   ]
  },
  {
   "cell_type": "code",
   "execution_count": 131,
   "metadata": {},
   "outputs": [
    {
     "data": {
      "text/plain": [
       "(2105, 18)"
      ]
     },
     "execution_count": 131,
     "metadata": {},
     "output_type": "execute_result"
    }
   ],
   "source": [
    "size(df_title)"
   ]
  },
  {
   "cell_type": "code",
   "execution_count": 132,
   "metadata": {},
   "outputs": [],
   "source": [
    "df_item_prop_title = DataFrame();"
   ]
  },
  {
   "cell_type": "code",
   "execution_count": 133,
   "metadata": {},
   "outputs": [],
   "source": [
    "insertcols!(df_item_prop_title,\n",
    "    :item_id => df_title.id,\n",
    "    :name => \"title\",\n",
    "    :value => df_title.title,\n",
    "    :date_value => missing,\n",
    ");"
   ]
  },
  {
   "cell_type": "code",
   "execution_count": 134,
   "metadata": {
    "scrolled": true
   },
   "outputs": [
    {
     "data": {
      "text/html": [
       "<div class=\"data-frame\"><p>6 rows × 4 columns</p><table class=\"data-frame\"><thead><tr><th></th><th>item_id</th><th>name</th><th>value</th><th>date_value</th></tr><tr><th></th><th title=\"Int32\">Int32</th><th title=\"String\">String</th><th title=\"Union{Missing, String}\">String?</th><th title=\"Missing\">Missing</th></tr></thead><tbody><tr><th>1</th><td>312487</td><td>title</td><td>Magister</td><td><em>missing</em></td></tr><tr><th>2</th><td>312489</td><td>title</td><td>Magister</td><td><em>missing</em></td></tr><tr><th>3</th><td>312493</td><td>title</td><td>Magister</td><td><em>missing</em></td></tr><tr><th>4</th><td>312494</td><td>title</td><td>Frater</td><td><em>missing</em></td></tr><tr><th>5</th><td>312495</td><td>title</td><td>Magister</td><td><em>missing</em></td></tr><tr><th>6</th><td>312496</td><td>title</td><td>Magister</td><td><em>missing</em></td></tr></tbody></table></div>"
      ],
      "text/latex": [
       "\\begin{tabular}{r|cccc}\n",
       "\t& item\\_id & name & value & date\\_value\\\\\n",
       "\t\\hline\n",
       "\t& Int32 & String & String? & Missing\\\\\n",
       "\t\\hline\n",
       "\t1 & 312487 & title & Magister & \\emph{missing} \\\\\n",
       "\t2 & 312489 & title & Magister & \\emph{missing} \\\\\n",
       "\t3 & 312493 & title & Magister & \\emph{missing} \\\\\n",
       "\t4 & 312494 & title & Frater & \\emph{missing} \\\\\n",
       "\t5 & 312495 & title & Magister & \\emph{missing} \\\\\n",
       "\t6 & 312496 & title & Magister & \\emph{missing} \\\\\n",
       "\\end{tabular}\n"
      ],
      "text/plain": [
       "\u001b[1m6×4 DataFrame\u001b[0m\n",
       "\u001b[1m Row \u001b[0m│\u001b[1m item_id \u001b[0m\u001b[1m name   \u001b[0m\u001b[1m value    \u001b[0m\u001b[1m date_value \u001b[0m\n",
       "\u001b[1m     \u001b[0m│\u001b[90m Int32   \u001b[0m\u001b[90m String \u001b[0m\u001b[90m String?  \u001b[0m\u001b[90m Missing    \u001b[0m\n",
       "─────┼───────────────────────────────────────\n",
       "   1 │  312487  title   Magister \u001b[90m    missing \u001b[0m\n",
       "   2 │  312489  title   Magister \u001b[90m    missing \u001b[0m\n",
       "   3 │  312493  title   Magister \u001b[90m    missing \u001b[0m\n",
       "   4 │  312494  title   Frater   \u001b[90m    missing \u001b[0m\n",
       "   5 │  312495  title   Magister \u001b[90m    missing \u001b[0m\n",
       "   6 │  312496  title   Magister \u001b[90m    missing \u001b[0m"
      ]
     },
     "execution_count": 134,
     "metadata": {},
     "output_type": "execute_result"
    }
   ],
   "source": [
    "df_item_prop_title[70:75, :]"
   ]
  },
  {
   "cell_type": "markdown",
   "metadata": {},
   "source": [
    "### Weihe Priester"
   ]
  },
  {
   "cell_type": "markdown",
   "metadata": {},
   "source": [
    "Weiheamt"
   ]
  },
  {
   "cell_type": "code",
   "execution_count": 135,
   "metadata": {},
   "outputs": [
    {
     "data": {
      "text/plain": [
       "(4477, 18)"
      ]
     },
     "execution_count": 135,
     "metadata": {},
     "output_type": "execute_result"
    }
   ],
   "source": [
    "df_ordination = subset(df_person_in, :id => ByRow(!ismissing));\n",
    "size(df_ordination)"
   ]
  },
  {
   "cell_type": "code",
   "execution_count": 136,
   "metadata": {},
   "outputs": [],
   "source": [
    "df_item_prop_ord = DataFrame();"
   ]
  },
  {
   "cell_type": "code",
   "execution_count": 137,
   "metadata": {},
   "outputs": [],
   "source": [
    "insertcols!(df_item_prop_ord,\n",
    "    :item_id => df_ordination.id,\n",
    "    :name => \"ordination_priest\",\n",
    "    :value => \"Priester\",\n",
    "    :date_value => Date.(df_ordination.ordination_date)\n",
    ");"
   ]
  },
  {
   "cell_type": "markdown",
   "metadata": {},
   "source": [
    "Ort der Weihe"
   ]
  },
  {
   "cell_type": "code",
   "execution_count": 138,
   "metadata": {},
   "outputs": [
    {
     "data": {
      "text/plain": [
       "(4477, 18)"
      ]
     },
     "execution_count": 138,
     "metadata": {},
     "output_type": "execute_result"
    }
   ],
   "source": [
    "df_ord_place = subset(df_person_in, :ordination_place => ByRow(!ismissing));\n",
    "size(df_ord_place)"
   ]
  },
  {
   "cell_type": "code",
   "execution_count": 139,
   "metadata": {},
   "outputs": [],
   "source": [
    "df_item_prop_ord_place = DataFrame();"
   ]
  },
  {
   "cell_type": "code",
   "execution_count": 140,
   "metadata": {},
   "outputs": [],
   "source": [
    "insertcols!(df_item_prop_ord_place,\n",
    "    :item_id => df_ord_place.id,\n",
    "    :name => \"ordination_priest_place\",\n",
    "    :value => df_ord_place.ordination_place,\n",
    "    :date_value => missing,\n",
    ");"
   ]
  },
  {
   "cell_type": "markdown",
   "metadata": {},
   "source": [
    "Tabelle `item_property` schreiben"
   ]
  },
  {
   "cell_type": "code",
   "execution_count": 141,
   "metadata": {},
   "outputs": [],
   "source": [
    "df_item_prop = vcat(df_item_prop_title, df_item_prop_ord, df_item_prop_ord_place);"
   ]
  },
  {
   "cell_type": "code",
   "execution_count": 142,
   "metadata": {},
   "outputs": [
    {
     "data": {
      "text/html": [
       "<div class=\"data-frame\"><p>3 rows × 4 columns</p><table class=\"data-frame\"><thead><tr><th></th><th>item_id</th><th>name</th><th>value</th><th>date_value</th></tr><tr><th></th><th title=\"Int32\">Int32</th><th title=\"String\">String</th><th title=\"Union{Missing, String}\">String?</th><th title=\"Union{Missing, Date}\">Date?</th></tr></thead><tbody><tr><th>1</th><td>315892</td><td>title</td><td>Frater</td><td><em>missing</em></td></tr><tr><th>2</th><td>315894</td><td>title</td><td>Frater</td><td><em>missing</em></td></tr><tr><th>3</th><td>315895</td><td>title</td><td>Frater</td><td><em>missing</em></td></tr></tbody></table></div>"
      ],
      "text/latex": [
       "\\begin{tabular}{r|cccc}\n",
       "\t& item\\_id & name & value & date\\_value\\\\\n",
       "\t\\hline\n",
       "\t& Int32 & String & String? & Date?\\\\\n",
       "\t\\hline\n",
       "\t1 & 315892 & title & Frater & \\emph{missing} \\\\\n",
       "\t2 & 315894 & title & Frater & \\emph{missing} \\\\\n",
       "\t3 & 315895 & title & Frater & \\emph{missing} \\\\\n",
       "\\end{tabular}\n"
      ],
      "text/plain": [
       "\u001b[1m3×4 DataFrame\u001b[0m\n",
       "\u001b[1m Row \u001b[0m│\u001b[1m item_id \u001b[0m\u001b[1m name   \u001b[0m\u001b[1m value   \u001b[0m\u001b[1m date_value \u001b[0m\n",
       "\u001b[1m     \u001b[0m│\u001b[90m Int32   \u001b[0m\u001b[90m String \u001b[0m\u001b[90m String? \u001b[0m\u001b[90m Date?      \u001b[0m\n",
       "─────┼──────────────────────────────────────\n",
       "   1 │  315892  title   Frater  \u001b[90m missing    \u001b[0m\n",
       "   2 │  315894  title   Frater  \u001b[90m missing    \u001b[0m\n",
       "   3 │  315895  title   Frater  \u001b[90m missing    \u001b[0m"
      ]
     },
     "execution_count": 142,
     "metadata": {},
     "output_type": "execute_result"
    }
   ],
   "source": [
    "df_item_prop[1712:1714, :]"
   ]
  },
  {
   "cell_type": "code",
   "execution_count": 143,
   "metadata": {},
   "outputs": [
    {
     "data": {
      "text/plain": [
       "(11059, 4)"
      ]
     },
     "execution_count": 143,
     "metadata": {},
     "output_type": "execute_result"
    }
   ],
   "source": [
    "size(df_item_prop)"
   ]
  },
  {
   "cell_type": "code",
   "execution_count": 144,
   "metadata": {},
   "outputs": [
    {
     "name": "stderr",
     "output_type": "stream",
     "text": [
      "┌ Info: row \n",
      "│   i = 2000\n",
      "└ @ WiagDataSetup C:\\Users\\georg\\Documents\\projekte\\WiagDataSetup.jl\\src\\WiagDataSetup.jl:1603\n",
      "┌ Info: row \n",
      "│   i = 4000\n",
      "└ @ WiagDataSetup C:\\Users\\georg\\Documents\\projekte\\WiagDataSetup.jl\\src\\WiagDataSetup.jl:1603\n",
      "┌ Info: row \n",
      "│   i = 6000\n",
      "└ @ WiagDataSetup C:\\Users\\georg\\Documents\\projekte\\WiagDataSetup.jl\\src\\WiagDataSetup.jl:1603\n",
      "┌ Info: row \n",
      "│   i = 8000\n",
      "└ @ WiagDataSetup C:\\Users\\georg\\Documents\\projekte\\WiagDataSetup.jl\\src\\WiagDataSetup.jl:1603\n",
      "┌ Info: row \n",
      "│   i = 10000\n",
      "└ @ WiagDataSetup C:\\Users\\georg\\Documents\\projekte\\WiagDataSetup.jl\\src\\WiagDataSetup.jl:1603\n"
     ]
    },
    {
     "data": {
      "text/plain": [
       "11059"
      ]
     },
     "execution_count": 144,
     "metadata": {},
     "output_type": "execute_result"
    }
   ],
   "source": [
    "table_name = \"item_property\"\n",
    "file_name = joinpath(out_path, \"$(table_name).sql\")\n",
    "Wds.insert_sql(file_name, table_name, df_item_prop)"
   ]
  },
  {
   "cell_type": "markdown",
   "metadata": {},
   "source": [
    "### verminderter Beitrag"
   ]
  },
  {
   "cell_type": "code",
   "execution_count": 27,
   "metadata": {},
   "outputs": [],
   "source": [
    "df_item_red_contrib = dropmissing(df_person_in, :contribution);"
   ]
  },
  {
   "cell_type": "code",
   "execution_count": 28,
   "metadata": {},
   "outputs": [
    {
     "data": {
      "text/plain": [
       "(802, 19)"
      ]
     },
     "execution_count": 28,
     "metadata": {},
     "output_type": "execute_result"
    }
   ],
   "source": [
    "size(df_item_red_contrib)"
   ]
  },
  {
   "cell_type": "code",
   "execution_count": 30,
   "metadata": {},
   "outputs": [
    {
     "data": {
      "text/plain": [
       "19-element Vector{String}:\n",
       " \"id_in_source\"\n",
       " \"item_in_source\"\n",
       " \"page\"\n",
       " \"ordination_date\"\n",
       " \"ordination_place\"\n",
       " \"contribution\"\n",
       " \"title\"\n",
       " \"givenname\"\n",
       " \"patronym\"\n",
       " \"familyname\"\n",
       " \"familyname_t\"\n",
       " \"familyname_o\"\n",
       " \"place_of_origin\"\n",
       " \"religious_order\"\n",
       " \"role_name\"\n",
       " \"reference\"\n",
       " \"institution\"\n",
       " \"id\"\n",
       " \"item_type_id\""
      ]
     },
     "execution_count": 30,
     "metadata": {},
     "output_type": "execute_result"
    }
   ],
   "source": [
    "names(df_item_red_contrib)"
   ]
  },
  {
   "cell_type": "code",
   "execution_count": 39,
   "metadata": {},
   "outputs": [],
   "source": [
    "df_item_prop_rc = select(df_item_red_contrib, [:id => :item_id]);"
   ]
  },
  {
   "cell_type": "code",
   "execution_count": 40,
   "metadata": {},
   "outputs": [
    {
     "data": {
      "text/plain": [
       "(802, 1)"
      ]
     },
     "execution_count": 40,
     "metadata": {},
     "output_type": "execute_result"
    }
   ],
   "source": [
    "size(df_item_prop_rc)"
   ]
  },
  {
   "cell_type": "code",
   "execution_count": 41,
   "metadata": {},
   "outputs": [],
   "source": [
    "insertcols!(df_item_prop_rc,\n",
    "    :name => \"contribution\",\n",
    "    :value => \"reduced\"\n",
    ");"
   ]
  },
  {
   "cell_type": "code",
   "execution_count": 42,
   "metadata": {},
   "outputs": [
    {
     "data": {
      "text/plain": [
       "802"
      ]
     },
     "execution_count": 42,
     "metadata": {},
     "output_type": "execute_result"
    }
   ],
   "source": [
    "table_name = \"item_property\"\n",
    "file_name = joinpath(out_path, \"$(table_name)_red_contrib.sql\")\n",
    "Wds.insert_sql(file_name, table_name, df_item_prop_rc)"
   ]
  },
  {
   "cell_type": "code",
   "execution_count": null,
   "metadata": {},
   "outputs": [],
   "source": []
  },
  {
   "cell_type": "markdown",
   "metadata": {},
   "source": [
    "### Geburtsort\n",
    "*2022-04-12*: Trage zunächst nur den Namen ein. Die Zuordnung zu identifizierten Orten ist unklar.  \n",
    "*2022-05-02*: siehe Notebook `Utrecht-Orte`. Es gibt eine eigene Tabelle `person_birthplace`."
   ]
  },
  {
   "cell_type": "code",
   "execution_count": 145,
   "metadata": {},
   "outputs": [
    {
     "data": {
      "text/plain": [
       "18-element Vector{String}:\n",
       " \"id_in_source\"\n",
       " \"item_in_source\"\n",
       " \"ordination_date\"\n",
       " \"ordination_place\"\n",
       " \"title\"\n",
       " \"givenname\"\n",
       " \"patronym\"\n",
       " \"familyname\"\n",
       " \"familyname_t\"\n",
       " \"familyname_o\"\n",
       " \"place_of_origin\"\n",
       " \"religious_order\"\n",
       " \"role_name\"\n",
       " \"reference\"\n",
       " \"institution\"\n",
       " \"id\"\n",
       " \"item_type_id\"\n",
       " \"n_familynames\""
      ]
     },
     "execution_count": 145,
     "metadata": {},
     "output_type": "execute_result"
    }
   ],
   "source": [
    "names(df_person_in)"
   ]
  },
  {
   "cell_type": "code",
   "execution_count": 146,
   "metadata": {},
   "outputs": [
    {
     "data": {
      "text/plain": [
       "(4024, 18)"
      ]
     },
     "execution_count": 146,
     "metadata": {},
     "output_type": "execute_result"
    }
   ],
   "source": [
    "df_birthplace = subset(df_person_in, :place_of_origin => ByRow(!ismissing));\n",
    "size(df_birthplace)"
   ]
  },
  {
   "cell_type": "code",
   "execution_count": 147,
   "metadata": {},
   "outputs": [],
   "source": [
    "df_item_prop_birthplace = DataFrame();"
   ]
  },
  {
   "cell_type": "code",
   "execution_count": 148,
   "metadata": {},
   "outputs": [],
   "source": [
    "insertcols!(df_item_prop_birthplace,\n",
    "    :item_id => df_birthplace.id,\n",
    "    :name => \"birthplace\",\n",
    "    :value => df_birthplace.place_of_origin,\n",
    ");"
   ]
  },
  {
   "cell_type": "code",
   "execution_count": null,
   "metadata": {},
   "outputs": [],
   "source": [
    "table_name = \"item_property\"\n",
    "file_name = joinpath(out_path, \"$(table_name)_birthplace.sql\")\n",
    "Wds.insert_sql(file_name, table_name, df_item_prop_birthplace)"
   ]
  },
  {
   "cell_type": "markdown",
   "metadata": {},
   "source": [
    "## Literaturverweise eintragen\n",
    "*R bk* Befülle `id_in_reference` mit 'id_1509_3_83' ... ?"
   ]
  },
  {
   "cell_type": "code",
   "execution_count": 29,
   "metadata": {},
   "outputs": [],
   "source": [
    "df_item_reference_1 = DataFrame();"
   ]
  },
  {
   "cell_type": "code",
   "execution_count": 30,
   "metadata": {},
   "outputs": [],
   "source": [
    "insertcols!(df_item_reference_1,\n",
    "    :reference_id => 1,\n",
    "    :page => missing,\n",
    "    :id_in_reference => df_person_in.id_in_source,\n",
    "    :item_id => df_person_in.id,\n",
    "    :item_type_id => item_type_id\n",
    ");"
   ]
  },
  {
   "cell_type": "code",
   "execution_count": 31,
   "metadata": {},
   "outputs": [
    {
     "data": {
      "text/html": [
       "<div class=\"data-frame\"><p>6 rows × 5 columns</p><table class=\"data-frame\"><thead><tr><th></th><th>reference_id</th><th>page</th><th>id_in_reference</th><th>item_id</th><th>item_type_id</th></tr><tr><th></th><th title=\"Int64\">Int64</th><th title=\"Missing\">Missing</th><th title=\"String\">String</th><th title=\"Int32\">Int32</th><th title=\"Int64\">Int64</th></tr></thead><tbody><tr><th>1</th><td>1</td><td><em>missing</em></td><td>id_1509_5_64</td><td>313827</td><td>10</td></tr><tr><th>2</th><td>1</td><td><em>missing</em></td><td>id_1509_5_65</td><td>313828</td><td>10</td></tr><tr><th>3</th><td>1</td><td><em>missing</em></td><td>id_1509_5_66</td><td>313829</td><td>10</td></tr><tr><th>4</th><td>1</td><td><em>missing</em></td><td>id_1509_5_67</td><td>313830</td><td>10</td></tr><tr><th>5</th><td>1</td><td><em>missing</em></td><td>id_1509_5_68</td><td>313831</td><td>10</td></tr><tr><th>6</th><td>1</td><td><em>missing</em></td><td>id_1509_5_69</td><td>313832</td><td>10</td></tr></tbody></table></div>"
      ],
      "text/latex": [
       "\\begin{tabular}{r|ccccc}\n",
       "\t& reference\\_id & page & id\\_in\\_reference & item\\_id & item\\_type\\_id\\\\\n",
       "\t\\hline\n",
       "\t& Int64 & Missing & String & Int32 & Int64\\\\\n",
       "\t\\hline\n",
       "\t1 & 1 & \\emph{missing} & id\\_1509\\_5\\_64 & 313827 & 10 \\\\\n",
       "\t2 & 1 & \\emph{missing} & id\\_1509\\_5\\_65 & 313828 & 10 \\\\\n",
       "\t3 & 1 & \\emph{missing} & id\\_1509\\_5\\_66 & 313829 & 10 \\\\\n",
       "\t4 & 1 & \\emph{missing} & id\\_1509\\_5\\_67 & 313830 & 10 \\\\\n",
       "\t5 & 1 & \\emph{missing} & id\\_1509\\_5\\_68 & 313831 & 10 \\\\\n",
       "\t6 & 1 & \\emph{missing} & id\\_1509\\_5\\_69 & 313832 & 10 \\\\\n",
       "\\end{tabular}\n"
      ],
      "text/plain": [
       "\u001b[1m6×5 DataFrame\u001b[0m\n",
       "\u001b[1m Row \u001b[0m│\u001b[1m reference_id \u001b[0m\u001b[1m page    \u001b[0m\u001b[1m id_in_reference \u001b[0m\u001b[1m item_id \u001b[0m\u001b[1m item_type_id \u001b[0m\n",
       "\u001b[1m     \u001b[0m│\u001b[90m Int64        \u001b[0m\u001b[90m Missing \u001b[0m\u001b[90m String          \u001b[0m\u001b[90m Int32   \u001b[0m\u001b[90m Int64        \u001b[0m\n",
       "─────┼───────────────────────────────────────────────────────────────\n",
       "   1 │            1 \u001b[90m missing \u001b[0m id_1509_5_64      313827            10\n",
       "   2 │            1 \u001b[90m missing \u001b[0m id_1509_5_65      313828            10\n",
       "   3 │            1 \u001b[90m missing \u001b[0m id_1509_5_66      313829            10\n",
       "   4 │            1 \u001b[90m missing \u001b[0m id_1509_5_67      313830            10\n",
       "   5 │            1 \u001b[90m missing \u001b[0m id_1509_5_68      313831            10\n",
       "   6 │            1 \u001b[90m missing \u001b[0m id_1509_5_69      313832            10"
      ]
     },
     "execution_count": 31,
     "metadata": {},
     "output_type": "execute_result"
    }
   ],
   "source": [
    "df_item_reference_1[1500:1505, :]"
   ]
  },
  {
   "cell_type": "code",
   "execution_count": 32,
   "metadata": {},
   "outputs": [
    {
     "data": {
      "text/plain": [
       "2-element Vector{Pair{Symbol, Symbol}}:\n",
       "   :id => :item_id\n",
       " :page => :page"
      ]
     },
     "execution_count": 32,
     "metadata": {},
     "output_type": "execute_result"
    }
   ],
   "source": [
    "columns = [\n",
    "    :id => :item_id,\n",
    "    :page => :page,\n",
    "]"
   ]
  },
  {
   "cell_type": "code",
   "execution_count": 33,
   "metadata": {},
   "outputs": [],
   "source": [
    "df_item_reference_2 = select(df_person_in, columns);"
   ]
  },
  {
   "cell_type": "code",
   "execution_count": 35,
   "metadata": {},
   "outputs": [],
   "source": [
    "insertcols!(df_item_reference_2,\n",
    "    :reference_id => missing,\n",
    "    :item_type_id => 10,\n",
    "    :id_in_reference => missing,\n",
    ");"
   ]
  },
  {
   "cell_type": "code",
   "execution_count": 38,
   "metadata": {},
   "outputs": [
    {
     "data": {
      "text/plain": [
       "select_reference (generic function with 1 method)"
      ]
     },
     "execution_count": 38,
     "metadata": {},
     "output_type": "execute_result"
    }
   ],
   "source": [
    "select_reference(page) = ismissing(page) ? missing : (page <= 85 ? 3 : 2)"
   ]
  },
  {
   "cell_type": "code",
   "execution_count": 42,
   "metadata": {},
   "outputs": [],
   "source": [
    "transform!(df_item_reference_2, :page => ByRow(select_reference) => :reference_id);"
   ]
  },
  {
   "cell_type": "code",
   "execution_count": 43,
   "metadata": {},
   "outputs": [],
   "source": [
    "df_item_reference = vcat(df_item_reference_1, df_item_reference_2);"
   ]
  },
  {
   "cell_type": "code",
   "execution_count": 44,
   "metadata": {},
   "outputs": [
    {
     "name": "stderr",
     "output_type": "stream",
     "text": [
      "┌ Info: row \n",
      "│   i = 2000\n",
      "└ @ WiagDataSetup C:\\Users\\georg\\Documents\\projekte\\WiagDataSetup.jl\\src\\WiagDataSetup.jl:1603\n",
      "┌ Info: row \n",
      "│   i = 4000\n",
      "└ @ WiagDataSetup C:\\Users\\georg\\Documents\\projekte\\WiagDataSetup.jl\\src\\WiagDataSetup.jl:1603\n",
      "┌ Info: row \n",
      "│   i = 6000\n",
      "└ @ WiagDataSetup C:\\Users\\georg\\Documents\\projekte\\WiagDataSetup.jl\\src\\WiagDataSetup.jl:1603\n",
      "┌ Info: row \n",
      "│   i = 8000\n",
      "└ @ WiagDataSetup C:\\Users\\georg\\Documents\\projekte\\WiagDataSetup.jl\\src\\WiagDataSetup.jl:1603\n"
     ]
    },
    {
     "data": {
      "text/plain": [
       "8952"
      ]
     },
     "execution_count": 44,
     "metadata": {},
     "output_type": "execute_result"
    }
   ],
   "source": [
    "table_name = \"item_reference\"\n",
    "file_name = joinpath(out_path, \"$(table_name).sql\")\n",
    "Wds.insert_sql(file_name, table_name, df_item_reference)"
   ]
  },
  {
   "cell_type": "markdown",
   "metadata": {},
   "source": [
    "## Namensvarianten eintragen\n",
    "Schreibe Patronym (Vatersnamen) in Tabelle `item_property`"
   ]
  },
  {
   "cell_type": "code",
   "execution_count": 171,
   "metadata": {},
   "outputs": [],
   "source": [
    "df_patronym = subset(df_person_in, :patronym => ByRow(!ismissing));"
   ]
  },
  {
   "cell_type": "code",
   "execution_count": 172,
   "metadata": {},
   "outputs": [
    {
     "data": {
      "text/html": [
       "<div class=\"data-frame\"><p>6 rows × 3 columns</p><table class=\"data-frame\"><thead><tr><th></th><th>id</th><th>givenname</th><th>patronym</th></tr><tr><th></th><th title=\"Int32\">Int32</th><th title=\"Union{Missing, String}\">String?</th><th title=\"Union{Missing, String}\">String?</th></tr></thead><tbody><tr><th>1</th><td>312444</td><td>Franciscus</td><td>Ghysberti</td></tr><tr><th>2</th><td>312445</td><td>Ancelinus</td><td>Johannis</td></tr><tr><th>3</th><td>312446</td><td>Jacobus</td><td>Johannis</td></tr><tr><th>4</th><td>312447</td><td>Johannes</td><td>Hermanni</td></tr><tr><th>5</th><td>312448</td><td>Wilhelmus</td><td>Michaelis</td></tr><tr><th>6</th><td>312449</td><td>Johannes</td><td>Peregrini</td></tr></tbody></table></div>"
      ],
      "text/latex": [
       "\\begin{tabular}{r|ccc}\n",
       "\t& id & givenname & patronym\\\\\n",
       "\t\\hline\n",
       "\t& Int32 & String? & String?\\\\\n",
       "\t\\hline\n",
       "\t1 & 312444 & Franciscus & Ghysberti \\\\\n",
       "\t2 & 312445 & Ancelinus & Johannis \\\\\n",
       "\t3 & 312446 & Jacobus & Johannis \\\\\n",
       "\t4 & 312447 & Johannes & Hermanni \\\\\n",
       "\t5 & 312448 & Wilhelmus & Michaelis \\\\\n",
       "\t6 & 312449 & Johannes & Peregrini \\\\\n",
       "\\end{tabular}\n"
      ],
      "text/plain": [
       "\u001b[1m6×3 DataFrame\u001b[0m\n",
       "\u001b[1m Row \u001b[0m│\u001b[1m id     \u001b[0m\u001b[1m givenname  \u001b[0m\u001b[1m patronym  \u001b[0m\n",
       "\u001b[1m     \u001b[0m│\u001b[90m Int32  \u001b[0m\u001b[90m String?    \u001b[0m\u001b[90m String?   \u001b[0m\n",
       "─────┼───────────────────────────────\n",
       "   1 │ 312444  Franciscus  Ghysberti\n",
       "   2 │ 312445  Ancelinus   Johannis\n",
       "   3 │ 312446  Jacobus     Johannis\n",
       "   4 │ 312447  Johannes    Hermanni\n",
       "   5 │ 312448  Wilhelmus   Michaelis\n",
       "   6 │ 312449  Johannes    Peregrini"
      ]
     },
     "execution_count": 172,
     "metadata": {},
     "output_type": "execute_result"
    }
   ],
   "source": [
    "df_patronym[70:75, [:id, :givenname, :patronym]]"
   ]
  },
  {
   "cell_type": "code",
   "execution_count": 173,
   "metadata": {},
   "outputs": [
    {
     "data": {
      "text/html": [
       "<div class=\"data-frame\"><p>0 rows × 0 columns</p><table class=\"data-frame\"><thead><tr><th></th></tr><tr><th></th></tr></thead><tbody></tbody></table></div>"
      ],
      "text/latex": [
       "\\begin{tabular}{r|}\n",
       "\t& \\\\\n",
       "\t\\hline\n",
       "\t& \\\\\n",
       "\t\\hline\n",
       "\\end{tabular}\n"
      ],
      "text/plain": [
       "\u001b[1m0×0 DataFrame\u001b[0m"
      ]
     },
     "execution_count": 173,
     "metadata": {},
     "output_type": "execute_result"
    }
   ],
   "source": [
    "df_item_prop_pym = DataFrame()"
   ]
  },
  {
   "cell_type": "code",
   "execution_count": 174,
   "metadata": {},
   "outputs": [],
   "source": [
    "insertcols!(df_item_prop_pym,\n",
    "    :item_id => df_patronym.id,\n",
    "    :name => \"patronym\",\n",
    "    :value => df_patronym.patronym\n",
    ");"
   ]
  },
  {
   "cell_type": "code",
   "execution_count": 175,
   "metadata": {},
   "outputs": [
    {
     "data": {
      "text/html": [
       "<div class=\"data-frame\"><p>6 rows × 3 columns</p><table class=\"data-frame\"><thead><tr><th></th><th>item_id</th><th>name</th><th>value</th></tr><tr><th></th><th title=\"Int32\">Int32</th><th title=\"String\">String</th><th title=\"Union{Missing, String}\">String?</th></tr></thead><tbody><tr><th>1</th><td>312444</td><td>patronym</td><td>Ghysberti</td></tr><tr><th>2</th><td>312445</td><td>patronym</td><td>Johannis</td></tr><tr><th>3</th><td>312446</td><td>patronym</td><td>Johannis</td></tr><tr><th>4</th><td>312447</td><td>patronym</td><td>Hermanni</td></tr><tr><th>5</th><td>312448</td><td>patronym</td><td>Michaelis</td></tr><tr><th>6</th><td>312449</td><td>patronym</td><td>Peregrini</td></tr></tbody></table></div>"
      ],
      "text/latex": [
       "\\begin{tabular}{r|ccc}\n",
       "\t& item\\_id & name & value\\\\\n",
       "\t\\hline\n",
       "\t& Int32 & String & String?\\\\\n",
       "\t\\hline\n",
       "\t1 & 312444 & patronym & Ghysberti \\\\\n",
       "\t2 & 312445 & patronym & Johannis \\\\\n",
       "\t3 & 312446 & patronym & Johannis \\\\\n",
       "\t4 & 312447 & patronym & Hermanni \\\\\n",
       "\t5 & 312448 & patronym & Michaelis \\\\\n",
       "\t6 & 312449 & patronym & Peregrini \\\\\n",
       "\\end{tabular}\n"
      ],
      "text/plain": [
       "\u001b[1m6×3 DataFrame\u001b[0m\n",
       "\u001b[1m Row \u001b[0m│\u001b[1m item_id \u001b[0m\u001b[1m name     \u001b[0m\u001b[1m value     \u001b[0m\n",
       "\u001b[1m     \u001b[0m│\u001b[90m Int32   \u001b[0m\u001b[90m String   \u001b[0m\u001b[90m String?   \u001b[0m\n",
       "─────┼──────────────────────────────\n",
       "   1 │  312444  patronym  Ghysberti\n",
       "   2 │  312445  patronym  Johannis\n",
       "   3 │  312446  patronym  Johannis\n",
       "   4 │  312447  patronym  Hermanni\n",
       "   5 │  312448  patronym  Michaelis\n",
       "   6 │  312449  patronym  Peregrini"
      ]
     },
     "execution_count": 175,
     "metadata": {},
     "output_type": "execute_result"
    }
   ],
   "source": [
    "df_item_prop_pym[70:75, :]"
   ]
  },
  {
   "cell_type": "code",
   "execution_count": 176,
   "metadata": {},
   "outputs": [
    {
     "name": "stderr",
     "output_type": "stream",
     "text": [
      "┌ Info: row \n",
      "│   i = 2000\n",
      "└ @ WiagDataSetup C:\\Users\\georg\\Documents\\projekte\\WiagDataSetup.jl\\src\\WiagDataSetup.jl:1603\n"
     ]
    },
    {
     "data": {
      "text/plain": [
       "2984"
      ]
     },
     "execution_count": 176,
     "metadata": {},
     "output_type": "execute_result"
    }
   ],
   "source": [
    "table_name = \"item_property\"\n",
    "file_name = joinpath(out_path, \"$(table_name)_patronym.sql\")\n",
    "Wds.insert_sql(file_name, table_name, df_item_prop_pym)"
   ]
  },
  {
   "cell_type": "markdown",
   "metadata": {},
   "source": [
    "### Suchvarianten eintragen in `name_lookup`\n",
    "Das Patronym entspricht für die Suche am ehesten einem zweiten Vornamen."
   ]
  },
  {
   "cell_type": "code",
   "execution_count": 40,
   "metadata": {},
   "outputs": [],
   "source": [
    "df_person_name = select(df_person_in, [:id, :givenname, :patronym, :familyname]);"
   ]
  },
  {
   "cell_type": "code",
   "execution_count": 41,
   "metadata": {},
   "outputs": [
    {
     "data": {
      "text/plain": [
       "join_space (generic function with 1 method)"
      ]
     },
     "execution_count": 41,
     "metadata": {},
     "output_type": "execute_result"
    }
   ],
   "source": [
    "function join_space(a...)\n",
    "    c_a = filter(!ismissing, collect(a))\n",
    "    return join(c_a, \" \")\n",
    "end"
   ]
  },
  {
   "cell_type": "code",
   "execution_count": 42,
   "metadata": {},
   "outputs": [],
   "source": [
    "df_name_variant = transform(df_person_name, [:givenname, :patronym] => ByRow(join_space) => :givenname);"
   ]
  },
  {
   "cell_type": "code",
   "execution_count": 43,
   "metadata": {},
   "outputs": [
    {
     "data": {
      "text/html": [
       "<div class=\"data-frame\"><p>6 rows × 4 columns</p><table class=\"data-frame\"><thead><tr><th></th><th>id</th><th>givenname</th><th>patronym</th><th>familyname</th></tr><tr><th></th><th title=\"Int32\">Int32</th><th title=\"String\">String</th><th title=\"Union{Missing, String}\">String?</th><th title=\"Union{Missing, String}\">String?</th></tr></thead><tbody><tr><th>1</th><td>312376</td><td>Heinricus Cornelii</td><td>Cornelii</td><td><em>missing</em></td></tr><tr><th>2</th><td>312377</td><td>Nicolaus Petri</td><td>Petri</td><td><em>missing</em></td></tr><tr><th>3</th><td>312378</td><td>Johannes Mathei</td><td>Mathei</td><td><em>missing</em></td></tr><tr><th>4</th><td>312379</td><td>Hermannus</td><td><em>missing</em></td><td><em>missing</em></td></tr><tr><th>5</th><td>312380</td><td>Jordanus</td><td><em>missing</em></td><td><em>missing</em></td></tr><tr><th>6</th><td>312381</td><td>Cornelis Johannes</td><td>Johannes</td><td><em>missing</em></td></tr></tbody></table></div>"
      ],
      "text/latex": [
       "\\begin{tabular}{r|cccc}\n",
       "\t& id & givenname & patronym & familyname\\\\\n",
       "\t\\hline\n",
       "\t& Int32 & String & String? & String?\\\\\n",
       "\t\\hline\n",
       "\t1 & 312376 & Heinricus Cornelii & Cornelii & \\emph{missing} \\\\\n",
       "\t2 & 312377 & Nicolaus Petri & Petri & \\emph{missing} \\\\\n",
       "\t3 & 312378 & Johannes Mathei & Mathei & \\emph{missing} \\\\\n",
       "\t4 & 312379 & Hermannus & \\emph{missing} & \\emph{missing} \\\\\n",
       "\t5 & 312380 & Jordanus & \\emph{missing} & \\emph{missing} \\\\\n",
       "\t6 & 312381 & Cornelis Johannes & Johannes & \\emph{missing} \\\\\n",
       "\\end{tabular}\n"
      ],
      "text/plain": [
       "\u001b[1m6×4 DataFrame\u001b[0m\n",
       "\u001b[1m Row \u001b[0m│\u001b[1m id     \u001b[0m\u001b[1m givenname          \u001b[0m\u001b[1m patronym \u001b[0m\u001b[1m familyname \u001b[0m\n",
       "\u001b[1m     \u001b[0m│\u001b[90m Int32  \u001b[0m\u001b[90m String             \u001b[0m\u001b[90m String?  \u001b[0m\u001b[90m String?    \u001b[0m\n",
       "─────┼──────────────────────────────────────────────────\n",
       "   1 │ 312376  Heinricus Cornelii  Cornelii \u001b[90m missing    \u001b[0m\n",
       "   2 │ 312377  Nicolaus Petri      Petri    \u001b[90m missing    \u001b[0m\n",
       "   3 │ 312378  Johannes Mathei     Mathei   \u001b[90m missing    \u001b[0m\n",
       "   4 │ 312379  Hermannus          \u001b[90m missing  \u001b[0m\u001b[90m missing    \u001b[0m\n",
       "   5 │ 312380  Jordanus           \u001b[90m missing  \u001b[0m\u001b[90m missing    \u001b[0m\n",
       "   6 │ 312381  Cornelis Johannes   Johannes \u001b[90m missing    \u001b[0m"
      ]
     },
     "execution_count": 43,
     "metadata": {},
     "output_type": "execute_result"
    }
   ],
   "source": [
    "df_name_variant[50:55, :]"
   ]
  },
  {
   "cell_type": "markdown",
   "metadata": {},
   "source": [
    "Füge technisch erforderliche Spalten ein. Erzeuge Einträge für `name_lookup`."
   ]
  },
  {
   "cell_type": "code",
   "execution_count": 44,
   "metadata": {},
   "outputs": [],
   "source": [
    "insertcols!(df_name_variant,\n",
    "    :givenname_variant => missing,\n",
    "    :familyname_variant => missing,\n",
    "    :prefix_name => missing,\n",
    "    :lang => \"nl\"\n",
    ");"
   ]
  },
  {
   "cell_type": "code",
   "execution_count": 45,
   "metadata": {},
   "outputs": [],
   "source": [
    "df_nl = Wds.create_name_lookup(df_name_variant);"
   ]
  },
  {
   "cell_type": "code",
   "execution_count": 46,
   "metadata": {
    "scrolled": true
   },
   "outputs": [
    {
     "data": {
      "text/html": [
       "<div class=\"data-frame\"><p>5 rows × 3 columns</p><table class=\"data-frame\"><thead><tr><th></th><th>person_id</th><th>gn_fn</th><th>gn_prefix_fn</th></tr><tr><th></th><th title=\"Int64\">Int64</th><th title=\"Union{Missing, String}\">String?</th><th title=\"Union{Missing, String}\">String?</th></tr></thead><tbody><tr><th>1</th><td>312363</td><td>Judocus Gerardi</td><td><em>missing</em></td></tr><tr><th>2</th><td>312363</td><td>Judocus</td><td><em>missing</em></td></tr><tr><th>3</th><td>312364</td><td>Johannes Jacobi</td><td><em>missing</em></td></tr><tr><th>4</th><td>312364</td><td>Johannes</td><td><em>missing</em></td></tr><tr><th>5</th><td>312365</td><td>Amelius Laurencii</td><td><em>missing</em></td></tr></tbody></table></div>"
      ],
      "text/latex": [
       "\\begin{tabular}{r|ccc}\n",
       "\t& person\\_id & gn\\_fn & gn\\_prefix\\_fn\\\\\n",
       "\t\\hline\n",
       "\t& Int64 & String? & String?\\\\\n",
       "\t\\hline\n",
       "\t1 & 312363 & Judocus Gerardi & \\emph{missing} \\\\\n",
       "\t2 & 312363 & Judocus & \\emph{missing} \\\\\n",
       "\t3 & 312364 & Johannes Jacobi & \\emph{missing} \\\\\n",
       "\t4 & 312364 & Johannes & \\emph{missing} \\\\\n",
       "\t5 & 312365 & Amelius Laurencii & \\emph{missing} \\\\\n",
       "\\end{tabular}\n"
      ],
      "text/plain": [
       "\u001b[1m5×3 DataFrame\u001b[0m\n",
       "\u001b[1m Row \u001b[0m│\u001b[1m person_id \u001b[0m\u001b[1m gn_fn             \u001b[0m\u001b[1m gn_prefix_fn \u001b[0m\n",
       "\u001b[1m     \u001b[0m│\u001b[90m Int64     \u001b[0m\u001b[90m String?           \u001b[0m\u001b[90m String?      \u001b[0m\n",
       "─────┼────────────────────────────────────────────\n",
       "   1 │    312363  Judocus Gerardi   \u001b[90m missing      \u001b[0m\n",
       "   2 │    312363  Judocus           \u001b[90m missing      \u001b[0m\n",
       "   3 │    312364  Johannes Jacobi   \u001b[90m missing      \u001b[0m\n",
       "   4 │    312364  Johannes          \u001b[90m missing      \u001b[0m\n",
       "   5 │    312365  Amelius Laurencii \u001b[90m missing      \u001b[0m"
      ]
     },
     "execution_count": 46,
     "metadata": {},
     "output_type": "execute_result"
    }
   ],
   "source": [
    "df_nl[56:60, :]"
   ]
  },
  {
   "cell_type": "code",
   "execution_count": 186,
   "metadata": {},
   "outputs": [
    {
     "data": {
      "text/plain": [
       "3-element Vector{String}:\n",
       " \"person_id\"\n",
       " \"gn_fn\"\n",
       " \"gn_prefix_fn\""
      ]
     },
     "execution_count": 186,
     "metadata": {},
     "output_type": "execute_result"
    }
   ],
   "source": [
    "names(df_nl)"
   ]
  },
  {
   "cell_type": "code",
   "execution_count": 47,
   "metadata": {},
   "outputs": [
    {
     "name": "stderr",
     "output_type": "stream",
     "text": [
      "┌ Info: row \n",
      "│   i = 2000\n",
      "└ @ WiagDataSetup C:\\Users\\georg\\Documents\\projekte\\WiagDataSetup.jl\\src\\WiagDataSetup.jl:1603\n",
      "┌ Info: row \n",
      "│   i = 4000\n",
      "└ @ WiagDataSetup C:\\Users\\georg\\Documents\\projekte\\WiagDataSetup.jl\\src\\WiagDataSetup.jl:1603\n",
      "┌ Info: row \n",
      "│   i = 6000\n",
      "└ @ WiagDataSetup C:\\Users\\georg\\Documents\\projekte\\WiagDataSetup.jl\\src\\WiagDataSetup.jl:1603\n"
     ]
    },
    {
     "data": {
      "text/plain": [
       "7461"
      ]
     },
     "execution_count": 47,
     "metadata": {},
     "output_type": "execute_result"
    }
   ],
   "source": [
    "table_name = \"name_lookup\"\n",
    "file_name = joinpath(out_path, \"$(table_name).sql\")\n",
    "Wds.insert_sql(file_name, table_name, df_nl)"
   ]
  },
  {
   "cell_type": "markdown",
   "metadata": {},
   "source": [
    "## Ämter"
   ]
  },
  {
   "cell_type": "code",
   "execution_count": 193,
   "metadata": {},
   "outputs": [],
   "source": [
    "# Quelle: Datenbank lokal\n",
    "sql = \"SELECT id, id_in_source, item_type_id\n",
    "FROM item \n",
    "WHERE item_type_id = 10\";\n",
    "df_idx = Wds.sql_df(sql);"
   ]
  },
  {
   "cell_type": "code",
   "execution_count": 194,
   "metadata": {},
   "outputs": [
    {
     "data": {
      "text/plain": [
       "(4477, 3)"
      ]
     },
     "execution_count": 194,
     "metadata": {},
     "output_type": "execute_result"
    }
   ],
   "source": [
    "size(df_idx)"
   ]
  },
  {
   "cell_type": "markdown",
   "metadata": {},
   "source": [
    "*2022-05-25* lies Daten aus `Ordinations_of_priests_Stapel_BK.csv`, weil hier die Ämter übertragen sind"
   ]
  },
  {
   "cell_type": "code",
   "execution_count": 228,
   "metadata": {},
   "outputs": [],
   "source": [
    "file_name = joinpath(data_path, \"Ordinations_of_priests_Stapel_BK.csv\");\n",
    "df_priests = CSV.read(file_name, DataFrame, delim = ';', stringtype = String);"
   ]
  },
  {
   "cell_type": "code",
   "execution_count": 229,
   "metadata": {},
   "outputs": [],
   "source": [
    "Wds.clean_up!(df_priests)"
   ]
  },
  {
   "cell_type": "code",
   "execution_count": 230,
   "metadata": {},
   "outputs": [],
   "source": [
    "dropmissing!(df_priests, :Priester_ID);"
   ]
  },
  {
   "cell_type": "code",
   "execution_count": 231,
   "metadata": {},
   "outputs": [],
   "source": [
    "df_priests = unique(df_priests);"
   ]
  },
  {
   "cell_type": "code",
   "execution_count": 232,
   "metadata": {},
   "outputs": [
    {
     "data": {
      "text/plain": [
       "3958"
      ]
     },
     "execution_count": 232,
     "metadata": {},
     "output_type": "execute_result"
    }
   ],
   "source": [
    "size(df_priests, 1)"
   ]
  },
  {
   "cell_type": "code",
   "execution_count": 234,
   "metadata": {},
   "outputs": [],
   "source": [
    "columns_bk = [\n",
    "    :Priester_ID => :id_in_source,\n",
    "    :Datum => :ordination_date,\n",
    "    Symbol(\"Ort (Locatie)\") => :ordination_place,\n",
    "    :Titel => :title,\n",
    "    Symbol(\"Vorname (Voornaam)\") => :givenname,\n",
    "    Symbol(\"Zweiter Vorname (Patroniem)\") => :patronym,\n",
    "    Symbol(\"(Familienname) Familienaam\") => :familyname,\n",
    "    Symbol(\"Herkunftsort (Toponiem)\") => :place_of_origin,        \n",
    "    Symbol(\"Orden (Orde)\") => :religious_order,\n",
    "    Symbol(\"Amt (Functie)\") => :role_name,\n",
    "    :Instelling => :institution\n",
    "];"
   ]
  },
  {
   "cell_type": "code",
   "execution_count": 235,
   "metadata": {},
   "outputs": [],
   "source": [
    "df_person_in = innerjoin(\n",
    "    select(df_priests, columns_bk),\n",
    "    df_idx,\n",
    "    on = :id_in_source,\n",
    "    matchmissing = :notequal,\n",
    ");"
   ]
  },
  {
   "cell_type": "code",
   "execution_count": 236,
   "metadata": {},
   "outputs": [],
   "source": [
    "df_person_role = dropmissing(df_person_in, :role_name);"
   ]
  },
  {
   "cell_type": "code",
   "execution_count": 188,
   "metadata": {},
   "outputs": [],
   "source": [
    "# Quelle: Server\n",
    "file_name = joinpath(data_path, \"item.csv\");\n",
    "df_item_db = CSV.read(file_name, DataFrame, delim = ';');"
   ]
  },
  {
   "cell_type": "code",
   "execution_count": 189,
   "metadata": {},
   "outputs": [],
   "source": [
    "file_name = joinpath(data_path, \"Ordinations_of_priests_Stapel_BK.csv\");\n",
    "df_priests = CSV.read(file_name, DataFrame, delim = ';', stringtype = String);"
   ]
  },
  {
   "cell_type": "code",
   "execution_count": 190,
   "metadata": {},
   "outputs": [],
   "source": [
    "Wds.clean_up!(df_priests)"
   ]
  },
  {
   "cell_type": "code",
   "execution_count": 191,
   "metadata": {},
   "outputs": [
    {
     "data": {
      "text/plain": [
       "5255"
      ]
     },
     "execution_count": 191,
     "metadata": {},
     "output_type": "execute_result"
    }
   ],
   "source": [
    "size(df_priests, 1)"
   ]
  },
  {
   "cell_type": "code",
   "execution_count": 192,
   "metadata": {},
   "outputs": [],
   "source": [
    "df_priests = unique(df_priests);"
   ]
  },
  {
   "cell_type": "code",
   "execution_count": 22,
   "metadata": {},
   "outputs": [],
   "source": [
    "df_item_utrecht = subset(df_item_db, :item_type_id => ByRow(isequal(10)));"
   ]
  },
  {
   "cell_type": "code",
   "execution_count": 23,
   "metadata": {},
   "outputs": [
    {
     "data": {
      "text/plain": [
       "3958"
      ]
     },
     "execution_count": 23,
     "metadata": {},
     "output_type": "execute_result"
    }
   ],
   "source": [
    "size(df_item_utrecht, 1)"
   ]
  },
  {
   "cell_type": "code",
   "execution_count": 24,
   "metadata": {},
   "outputs": [
    {
     "data": {
      "text/plain": [
       "3-element Vector{Pair{Symbol, Symbol}}:\n",
       "           :id => :person_id\n",
       " :id_in_source => :id_in_source\n",
       " :item_type_id => :item_type_id"
      ]
     },
     "execution_count": 24,
     "metadata": {},
     "output_type": "execute_result"
    }
   ],
   "source": [
    "columns = [\n",
    "    :id => :person_id,\n",
    "    :id_in_source => :id_in_source,\n",
    "    :item_type_id => :item_type_id,\n",
    "]"
   ]
  },
  {
   "cell_type": "code",
   "execution_count": 25,
   "metadata": {},
   "outputs": [],
   "source": [
    "df_idx = select(df_item_utrecht, columns);"
   ]
  },
  {
   "cell_type": "code",
   "execution_count": 212,
   "metadata": {},
   "outputs": [],
   "source": [
    "columns_bk = [\n",
    "    :Priester_ID => :id_in_source,\n",
    "    :Datum => :ordination_date,\n",
    "    Symbol(\"Ort (Locatie)\") => :ordination_place,\n",
    "    :Titel => :title,\n",
    "    Symbol(\"Vorname (Voornaam)\") => :givenname,\n",
    "    Symbol(\"Zweiter Vorname (Patroniem)\") => :patronym,\n",
    "    Symbol(\"(Familienname) Familienaam\") => :familyname,\n",
    "    Symbol(\"Herkunftsort (Toponiem)\") => :place_of_origin,        \n",
    "    Symbol(\"Orden (Orde)\") => :religious_order,\n",
    "    Symbol(\"Amt (Functie)\") => :role_name,\n",
    "    :Instelling => :institution\n",
    "];"
   ]
  },
  {
   "cell_type": "code",
   "execution_count": null,
   "metadata": {},
   "outputs": [],
   "source": [
    "df_priests_with_role = subset(select(df_person_in, columns_bk), :role_name => ByRow(!ismissing));"
   ]
  },
  {
   "cell_type": "code",
   "execution_count": 28,
   "metadata": {},
   "outputs": [],
   "source": [
    "df_person_role = innerjoin(\n",
    "    df_priests_with_role,\n",
    "    df_idx,\n",
    "    on = :id_in_source\n",
    ");"
   ]
  },
  {
   "cell_type": "code",
   "execution_count": 216,
   "metadata": {},
   "outputs": [
    {
     "data": {
      "text/plain": [
       "(57, 4477, 4477)"
      ]
     },
     "execution_count": 216,
     "metadata": {},
     "output_type": "execute_result"
    }
   ],
   "source": [
    "size(df_person_role, 1), size(df_priests, 1), size(df_idx, 1)"
   ]
  },
  {
   "cell_type": "markdown",
   "metadata": {},
   "source": [
    "Setze Diözese 'Utrecht', ID = 53"
   ]
  },
  {
   "cell_type": "code",
   "execution_count": 237,
   "metadata": {},
   "outputs": [],
   "source": [
    "insertcols!(df_person_role, :diocese_id => 53, :diocese_name => \"Utrecht\");"
   ]
  },
  {
   "cell_type": "code",
   "execution_count": 238,
   "metadata": {},
   "outputs": [
    {
     "data": {
      "text/html": [
       "<div class=\"data-frame\"><p>6 rows × 6 columns</p><table class=\"data-frame\"><thead><tr><th></th><th>id_in_source</th><th>givenname</th><th>familyname</th><th>role_name</th><th>diocese_name</th><th>diocese_id</th></tr><tr><th></th><th title=\"String\">String</th><th title=\"String\">String</th><th title=\"Union{Missing, String}\">String?</th><th title=\"String\">String</th><th title=\"String\">String</th><th title=\"Int64\">Int64</th></tr></thead><tbody><tr><th>1</th><td>id_1514_1_2</td><td>Petrus</td><td><em>missing</em></td><td>Vikar</td><td>Utrecht</td><td>53</td></tr><tr><th>2</th><td>id_1514_2_1</td><td>Cornelius</td><td><em>missing</em></td><td>Vikar</td><td>Utrecht</td><td>53</td></tr><tr><th>3</th><td>id_1514_3_1</td><td>Petrus</td><td>Magistri</td><td>Vikar</td><td>Utrecht</td><td>53</td></tr><tr><th>4</th><td>id_1514_3_2</td><td>Johannes</td><td><em>missing</em></td><td>Vikar</td><td>Utrecht</td><td>53</td></tr><tr><th>5</th><td>id_1514_4_1</td><td>Johannes</td><td><em>missing</em></td><td>Kanoniker</td><td>Utrecht</td><td>53</td></tr><tr><th>6</th><td>id_1515_2_1</td><td>Wilhelmus</td><td><em>missing</em></td><td>Vikar</td><td>Utrecht</td><td>53</td></tr></tbody></table></div>"
      ],
      "text/latex": [
       "\\begin{tabular}{r|cccccc}\n",
       "\t& id\\_in\\_source & givenname & familyname & role\\_name & diocese\\_name & diocese\\_id\\\\\n",
       "\t\\hline\n",
       "\t& String & String & String? & String & String & Int64\\\\\n",
       "\t\\hline\n",
       "\t1 & id\\_1514\\_1\\_2 & Petrus & \\emph{missing} & Vikar & Utrecht & 53 \\\\\n",
       "\t2 & id\\_1514\\_2\\_1 & Cornelius & \\emph{missing} & Vikar & Utrecht & 53 \\\\\n",
       "\t3 & id\\_1514\\_3\\_1 & Petrus & Magistri & Vikar & Utrecht & 53 \\\\\n",
       "\t4 & id\\_1514\\_3\\_2 & Johannes & \\emph{missing} & Vikar & Utrecht & 53 \\\\\n",
       "\t5 & id\\_1514\\_4\\_1 & Johannes & \\emph{missing} & Kanoniker & Utrecht & 53 \\\\\n",
       "\t6 & id\\_1515\\_2\\_1 & Wilhelmus & \\emph{missing} & Vikar & Utrecht & 53 \\\\\n",
       "\\end{tabular}\n"
      ],
      "text/plain": [
       "\u001b[1m6×6 DataFrame\u001b[0m\n",
       "\u001b[1m Row \u001b[0m│\u001b[1m id_in_source \u001b[0m\u001b[1m givenname \u001b[0m\u001b[1m familyname \u001b[0m\u001b[1m role_name \u001b[0m\u001b[1m diocese_name \u001b[0m\u001b[1m diocese_id \u001b[0m\n",
       "\u001b[1m     \u001b[0m│\u001b[90m String       \u001b[0m\u001b[90m String    \u001b[0m\u001b[90m String?    \u001b[0m\u001b[90m String    \u001b[0m\u001b[90m String       \u001b[0m\u001b[90m Int64      \u001b[0m\n",
       "─────┼──────────────────────────────────────────────────────────────────────────\n",
       "   1 │ id_1514_1_2   Petrus    \u001b[90m missing    \u001b[0m Vikar      Utrecht               53\n",
       "   2 │ id_1514_2_1   Cornelius \u001b[90m missing    \u001b[0m Vikar      Utrecht               53\n",
       "   3 │ id_1514_3_1   Petrus     Magistri    Vikar      Utrecht               53\n",
       "   4 │ id_1514_3_2   Johannes  \u001b[90m missing    \u001b[0m Vikar      Utrecht               53\n",
       "   5 │ id_1514_4_1   Johannes  \u001b[90m missing    \u001b[0m Kanoniker  Utrecht               53\n",
       "   6 │ id_1515_2_1   Wilhelmus \u001b[90m missing    \u001b[0m Vikar      Utrecht               53"
      ]
     },
     "execution_count": 238,
     "metadata": {},
     "output_type": "execute_result"
    }
   ],
   "source": [
    "df_person_role[30:35, [:id_in_source, :givenname, :familyname, :role_name, :diocese_name, :diocese_id]]"
   ]
  },
  {
   "cell_type": "markdown",
   "metadata": {},
   "source": [
    "### Rollen zuordnen"
   ]
  },
  {
   "cell_type": "code",
   "execution_count": 34,
   "metadata": {},
   "outputs": [
    {
     "name": "stdout",
     "output_type": "stream",
     "text": [
      "Passwort für User georg: ········\n"
     ]
    },
    {
     "data": {
      "text/plain": [
       "MySQL.Connection(host=\"127.0.0.1\", user=\"georg\", port=\"3306\", db=\"wiag2\")"
      ]
     },
     "execution_count": 34,
     "metadata": {},
     "output_type": "execute_result"
    }
   ],
   "source": [
    "Wds.setDBWIAG(user = \"georg\", db = \"wiag2\")"
   ]
  },
  {
   "cell_type": "code",
   "execution_count": 239,
   "metadata": {},
   "outputs": [],
   "source": [
    "# Quelle Datenbank\n",
    "sql = \"SELECT * FROM role\";\n",
    "df_role = Wds.sql_df(sql);"
   ]
  },
  {
   "cell_type": "code",
   "execution_count": 32,
   "metadata": {},
   "outputs": [],
   "source": [
    "# Quelle csv\n",
    "file_name = joinpath(data_path, \"role.csv\");\n",
    "df_role = CSV.read(file_name, DataFrame);"
   ]
  },
  {
   "cell_type": "code",
   "execution_count": 220,
   "metadata": {},
   "outputs": [
    {
     "data": {
      "text/plain": [
       "4-element Vector{String}:\n",
       " \"id\"\n",
       " \"note\"\n",
       " \"name\"\n",
       " \"comment\""
      ]
     },
     "execution_count": 220,
     "metadata": {},
     "output_type": "execute_result"
    }
   ],
   "source": [
    "names(df_role)"
   ]
  },
  {
   "cell_type": "code",
   "execution_count": 240,
   "metadata": {},
   "outputs": [
    {
     "data": {
      "text/html": [
       "<div class=\"data-frame\"><p>5 rows × 6 columns</p><table class=\"data-frame\"><thead><tr><th></th><th>id</th><th>givenname</th><th>institution</th><th>diocese_id</th><th>diocese_name</th><th>role_name</th></tr><tr><th></th><th title=\"Int32\">Int32</th><th title=\"String\">String</th><th title=\"Union{Missing, String}\">String?</th><th title=\"Int64\">Int64</th><th title=\"String\">String</th><th title=\"String\">String</th></tr></thead><tbody><tr><th>1</th><td>313877</td><td>Jacobus</td><td>Verensis</td><td>53</td><td>Utrecht</td><td>Kanoniker</td></tr><tr><th>2</th><td>313957</td><td>Johannes</td><td>Werden</td><td>53</td><td>Utrecht</td><td>familiaris</td></tr><tr><th>3</th><td>314042</td><td>Jacobus</td><td>Trajectensis</td><td>53</td><td>Utrecht</td><td>Vikar</td></tr><tr><th>4</th><td>314093</td><td>Lodewicus</td><td>Wijck</td><td>53</td><td>Utrecht</td><td>Kanoniker</td></tr><tr><th>5</th><td>314279</td><td>Bruno</td><td>ecclesie sancte Marie Trajectensis</td><td>53</td><td>Utrecht</td><td>Vikar</td></tr></tbody></table></div>"
      ],
      "text/latex": [
       "\\begin{tabular}{r|cccccc}\n",
       "\t& id & givenname & institution & diocese\\_id & diocese\\_name & role\\_name\\\\\n",
       "\t\\hline\n",
       "\t& Int32 & String & String? & Int64 & String & String\\\\\n",
       "\t\\hline\n",
       "\t1 & 313877 & Jacobus & Verensis & 53 & Utrecht & Kanoniker \\\\\n",
       "\t2 & 313957 & Johannes & Werden & 53 & Utrecht & familiaris \\\\\n",
       "\t3 & 314042 & Jacobus & Trajectensis & 53 & Utrecht & Vikar \\\\\n",
       "\t4 & 314093 & Lodewicus & Wijck & 53 & Utrecht & Kanoniker \\\\\n",
       "\t5 & 314279 & Bruno & ecclesie sancte Marie Trajectensis & 53 & Utrecht & Vikar \\\\\n",
       "\\end{tabular}\n"
      ],
      "text/plain": [
       "\u001b[1m5×6 DataFrame\u001b[0m\n",
       "\u001b[1m Row \u001b[0m│\u001b[1m id     \u001b[0m\u001b[1m givenname \u001b[0m\u001b[1m institution                       \u001b[0m\u001b[1m diocese_id \u001b[0m\u001b[1m diocese_name \u001b[0m\u001b[1m role_name  \u001b[0m\n",
       "\u001b[1m     \u001b[0m│\u001b[90m Int32  \u001b[0m\u001b[90m String    \u001b[0m\u001b[90m String?                           \u001b[0m\u001b[90m Int64      \u001b[0m\u001b[90m String       \u001b[0m\u001b[90m String     \u001b[0m\n",
       "─────┼────────────────────────────────────────────────────────────────────────────────────────────\n",
       "   1 │ 313877  Jacobus    Verensis                                   53  Utrecht       Kanoniker\n",
       "   2 │ 313957  Johannes   Werden                                     53  Utrecht       familiaris\n",
       "   3 │ 314042  Jacobus    Trajectensis                               53  Utrecht       Vikar\n",
       "   4 │ 314093  Lodewicus  Wijck                                      53  Utrecht       Kanoniker\n",
       "   5 │ 314279  Bruno      ecclesie sancte Marie Trajectens…          53  Utrecht       Vikar"
      ]
     },
     "execution_count": 240,
     "metadata": {},
     "output_type": "execute_result"
    }
   ],
   "source": [
    "df_person_role[21:25, [:id, :givenname, :institution, :diocese_id, :diocese_name, :role_name]]"
   ]
  },
  {
   "cell_type": "code",
   "execution_count": 241,
   "metadata": {},
   "outputs": [],
   "source": [
    "df_person_role = leftjoin(df_person_role, \n",
    "    select(df_role, [:id => :role_id, :name => :role_name_norm]), \n",
    "    on = :role_name => :role_name_norm);"
   ]
  },
  {
   "cell_type": "code",
   "execution_count": 242,
   "metadata": {},
   "outputs": [
    {
     "data": {
      "text/plain": [
       "2"
      ]
     },
     "execution_count": 242,
     "metadata": {},
     "output_type": "execute_result"
    }
   ],
   "source": [
    "count(ismissing, df_person_role.role_id)"
   ]
  },
  {
   "cell_type": "code",
   "execution_count": 39,
   "metadata": {},
   "outputs": [],
   "source": [
    "columns = [\n",
    "    :person_id, :id_in_source, :title, :givenname, :patronym, :familyname, :role_name, :role_id\n",
    "];"
   ]
  },
  {
   "cell_type": "code",
   "execution_count": 40,
   "metadata": {},
   "outputs": [
    {
     "data": {
      "text/html": [
       "<div class=\"data-frame\"><p>2 rows × 8 columns</p><table class=\"data-frame\"><thead><tr><th></th><th>person_id</th><th>id_in_source</th><th>title</th><th>givenname</th><th>patronym</th><th>familyname</th><th>role_name</th><th>role_id</th></tr><tr><th></th><th title=\"Int64\">Int64</th><th title=\"String\">String</th><th title=\"Union{Missing, String}\">String?</th><th title=\"String\">String</th><th title=\"Union{Missing, String}\">String?</th><th title=\"Union{Missing, String}\">String?</th><th title=\"Union{Missing, String}\">String?</th><th title=\"Union{Missing, Int32}\">Int32?</th></tr></thead><tbody><tr><th>1</th><td>180550</td><td>id_1507_3_4</td><td><em>missing</em></td><td>Gerardus</td><td>Jacobi</td><td><em>missing</em></td><td>Vikar etc.</td><td><em>missing</em></td></tr><tr><th>2</th><td>183986</td><td>id_1510_3_1</td><td><em>missing</em></td><td>Johannes</td><td><em>missing</em></td><td>Nayven</td><td>familiaris</td><td><em>missing</em></td></tr></tbody></table></div>"
      ],
      "text/latex": [
       "\\begin{tabular}{r|cccccccc}\n",
       "\t& person\\_id & id\\_in\\_source & title & givenname & patronym & familyname & role\\_name & role\\_id\\\\\n",
       "\t\\hline\n",
       "\t& Int64 & String & String? & String & String? & String? & String? & Int32?\\\\\n",
       "\t\\hline\n",
       "\t1 & 180550 & id\\_1507\\_3\\_4 & \\emph{missing} & Gerardus & Jacobi & \\emph{missing} & Vikar etc. & \\emph{missing} \\\\\n",
       "\t2 & 183986 & id\\_1510\\_3\\_1 & \\emph{missing} & Johannes & \\emph{missing} & Nayven & familiaris & \\emph{missing} \\\\\n",
       "\\end{tabular}\n"
      ],
      "text/plain": [
       "\u001b[1m2×8 DataFrame\u001b[0m\n",
       "\u001b[1m Row \u001b[0m│\u001b[1m person_id \u001b[0m\u001b[1m id_in_source \u001b[0m\u001b[1m title   \u001b[0m\u001b[1m givenname \u001b[0m\u001b[1m patronym \u001b[0m\u001b[1m familyname \u001b[0m\u001b[1m role_name  \u001b[0m\u001b[1m role_id \u001b[0m\n",
       "\u001b[1m     \u001b[0m│\u001b[90m Int64     \u001b[0m\u001b[90m String       \u001b[0m\u001b[90m String? \u001b[0m\u001b[90m String    \u001b[0m\u001b[90m String?  \u001b[0m\u001b[90m String?    \u001b[0m\u001b[90m String?    \u001b[0m\u001b[90m Int32?  \u001b[0m\n",
       "─────┼────────────────────────────────────────────────────────────────────────────────────────\n",
       "   1 │    180550  id_1507_3_4  \u001b[90m missing \u001b[0m Gerardus   Jacobi   \u001b[90m missing    \u001b[0m Vikar etc. \u001b[90m missing \u001b[0m\n",
       "   2 │    183986  id_1510_3_1  \u001b[90m missing \u001b[0m Johannes  \u001b[90m missing  \u001b[0m Nayven      familiaris \u001b[90m missing \u001b[0m"
      ]
     },
     "execution_count": 40,
     "metadata": {},
     "output_type": "execute_result"
    }
   ],
   "source": [
    "subset(select(df_person_role, columns), :role_id => ByRow(ismissing))"
   ]
  },
  {
   "cell_type": "code",
   "execution_count": 246,
   "metadata": {},
   "outputs": [
    {
     "data": {
      "text/html": [
       "<div class=\"data-frame\"><p>5 rows × 5 columns</p><table class=\"data-frame\"><thead><tr><th></th><th>id</th><th>id_in_source</th><th>givenname</th><th>role_name</th><th>role_id</th></tr><tr><th></th><th title=\"Int32\">Int32</th><th title=\"String\">String</th><th title=\"String\">String</th><th title=\"String\">String</th><th title=\"Union{Missing, Int32}\">Int32?</th></tr></thead><tbody><tr><th>1</th><td>314042</td><td>id_1510_4_2</td><td>Jacobus</td><td>Vikar</td><td>249238</td></tr><tr><th>2</th><td>314279</td><td>id_1511_3_1</td><td>Bruno</td><td>Vikar</td><td>249238</td></tr><tr><th>3</th><td>314558</td><td>id_1512_2_1</td><td>Petrus</td><td>Vikar</td><td>249238</td></tr><tr><th>4</th><td>314610</td><td>id_1512_3_1</td><td>Gherlacus</td><td>Vikar</td><td>249238</td></tr><tr><th>5</th><td>314838</td><td>id_1512_6_1</td><td>Ernestus</td><td>Vikar</td><td>249238</td></tr></tbody></table></div>"
      ],
      "text/latex": [
       "\\begin{tabular}{r|ccccc}\n",
       "\t& id & id\\_in\\_source & givenname & role\\_name & role\\_id\\\\\n",
       "\t\\hline\n",
       "\t& Int32 & String & String & String & Int32?\\\\\n",
       "\t\\hline\n",
       "\t1 & 314042 & id\\_1510\\_4\\_2 & Jacobus & Vikar & 249238 \\\\\n",
       "\t2 & 314279 & id\\_1511\\_3\\_1 & Bruno & Vikar & 249238 \\\\\n",
       "\t3 & 314558 & id\\_1512\\_2\\_1 & Petrus & Vikar & 249238 \\\\\n",
       "\t4 & 314610 & id\\_1512\\_3\\_1 & Gherlacus & Vikar & 249238 \\\\\n",
       "\t5 & 314838 & id\\_1512\\_6\\_1 & Ernestus & Vikar & 249238 \\\\\n",
       "\\end{tabular}\n"
      ],
      "text/plain": [
       "\u001b[1m5×5 DataFrame\u001b[0m\n",
       "\u001b[1m Row \u001b[0m│\u001b[1m id     \u001b[0m\u001b[1m id_in_source \u001b[0m\u001b[1m givenname \u001b[0m\u001b[1m role_name \u001b[0m\u001b[1m role_id \u001b[0m\n",
       "\u001b[1m     \u001b[0m│\u001b[90m Int32  \u001b[0m\u001b[90m String       \u001b[0m\u001b[90m String    \u001b[0m\u001b[90m String    \u001b[0m\u001b[90m Int32?  \u001b[0m\n",
       "─────┼─────────────────────────────────────────────────────\n",
       "   1 │ 314042  id_1510_4_2   Jacobus    Vikar       249238\n",
       "   2 │ 314279  id_1511_3_1   Bruno      Vikar       249238\n",
       "   3 │ 314558  id_1512_2_1   Petrus     Vikar       249238\n",
       "   4 │ 314610  id_1512_3_1   Gherlacus  Vikar       249238\n",
       "   5 │ 314838  id_1512_6_1   Ernestus   Vikar       249238"
      ]
     },
     "execution_count": 246,
     "metadata": {},
     "output_type": "execute_result"
    }
   ],
   "source": [
    "df_person_role[26:30, [:id, :id_in_source, :givenname, :role_name, :role_id]]"
   ]
  },
  {
   "cell_type": "code",
   "execution_count": 245,
   "metadata": {},
   "outputs": [
    {
     "data": {
      "text/plain": [
       "16-element Vector{String}:\n",
       " \"id_in_source\"\n",
       " \"ordination_date\"\n",
       " \"ordination_place\"\n",
       " \"title\"\n",
       " \"givenname\"\n",
       " \"patronym\"\n",
       " \"familyname\"\n",
       " \"place_of_origin\"\n",
       " \"religious_order\"\n",
       " \"role_name\"\n",
       " \"institution\"\n",
       " \"id\"\n",
       " \"item_type_id\"\n",
       " \"diocese_id\"\n",
       " \"diocese_name\"\n",
       " \"role_id\""
      ]
     },
     "execution_count": 245,
     "metadata": {},
     "output_type": "execute_result"
    }
   ],
   "source": [
    "names(df_person_role)"
   ]
  },
  {
   "cell_type": "code",
   "execution_count": 247,
   "metadata": {},
   "outputs": [],
   "source": [
    "columns = [\n",
    "    :id => :person_id,\n",
    "    :role_id => :role_id,\n",
    "    :role_name => :role_name,\n",
    "    :diocese_id => :diocese_id,\n",
    "    :diocese_name => :diocese_name,\n",
    "    :institution => :institution_name,\n",
    "];"
   ]
  },
  {
   "cell_type": "code",
   "execution_count": 248,
   "metadata": {},
   "outputs": [],
   "source": [
    "df_person_role_out = select(df_person_role, columns);"
   ]
  },
  {
   "cell_type": "code",
   "execution_count": 249,
   "metadata": {},
   "outputs": [
    {
     "data": {
      "text/plain": [
       "54"
      ]
     },
     "execution_count": 249,
     "metadata": {},
     "output_type": "execute_result"
    }
   ],
   "source": [
    "# Ausgabe in Datei\n",
    "table_name = \"person_role\"\n",
    "file_name = joinpath(out_path, \"$(table_name).sql\")\n",
    "Wds.insert_sql(file_name, table_name, df_person_role_out)"
   ]
  },
  {
   "cell_type": "code",
   "execution_count": 250,
   "metadata": {},
   "outputs": [
    {
     "data": {
      "text/html": [
       "<div class=\"data-frame\"><p>5 rows × 6 columns</p><table class=\"data-frame\"><thead><tr><th></th><th>person_id</th><th>role_id</th><th>role_name</th><th>diocese_id</th><th>diocese_name</th><th>institution_name</th></tr><tr><th></th><th title=\"Int32\">Int32</th><th title=\"Union{Missing, Int32}\">Int32?</th><th title=\"String\">String</th><th title=\"Int64\">Int64</th><th title=\"String\">String</th><th title=\"Union{Missing, String}\">String?</th></tr></thead><tbody><tr><th>1</th><td>313478</td><td>249238</td><td>Vikar</td><td>53</td><td>Utrecht</td><td>ecclesie Trajectensis</td></tr><tr><th>2</th><td>313549</td><td>249238</td><td>Vikar</td><td>53</td><td>Utrecht</td><td>ecclesie sancti Johannis</td></tr><tr><th>3</th><td>313583</td><td>249238</td><td>Vikar</td><td>53</td><td>Utrecht</td><td>ecclesie Trajectensis</td></tr><tr><th>4</th><td>313625</td><td>249238</td><td>Vikar</td><td>53</td><td>Utrecht</td><td>ecclesie sancti Petri</td></tr><tr><th>5</th><td>313685</td><td>249238</td><td>Vikar</td><td>53</td><td>Utrecht</td><td>ecclesie Trajectensis</td></tr></tbody></table></div>"
      ],
      "text/latex": [
       "\\begin{tabular}{r|cccccc}\n",
       "\t& person\\_id & role\\_id & role\\_name & diocese\\_id & diocese\\_name & institution\\_name\\\\\n",
       "\t\\hline\n",
       "\t& Int32 & Int32? & String & Int64 & String & String?\\\\\n",
       "\t\\hline\n",
       "\t1 & 313478 & 249238 & Vikar & 53 & Utrecht & ecclesie Trajectensis \\\\\n",
       "\t2 & 313549 & 249238 & Vikar & 53 & Utrecht & ecclesie sancti Johannis \\\\\n",
       "\t3 & 313583 & 249238 & Vikar & 53 & Utrecht & ecclesie Trajectensis \\\\\n",
       "\t4 & 313625 & 249238 & Vikar & 53 & Utrecht & ecclesie sancti Petri \\\\\n",
       "\t5 & 313685 & 249238 & Vikar & 53 & Utrecht & ecclesie Trajectensis \\\\\n",
       "\\end{tabular}\n"
      ],
      "text/plain": [
       "\u001b[1m5×6 DataFrame\u001b[0m\n",
       "\u001b[1m Row \u001b[0m│\u001b[1m person_id \u001b[0m\u001b[1m role_id \u001b[0m\u001b[1m role_name \u001b[0m\u001b[1m diocese_id \u001b[0m\u001b[1m diocese_name \u001b[0m\u001b[1m institution_name         \u001b[0m\n",
       "\u001b[1m     \u001b[0m│\u001b[90m Int32     \u001b[0m\u001b[90m Int32?  \u001b[0m\u001b[90m String    \u001b[0m\u001b[90m Int64      \u001b[0m\u001b[90m String       \u001b[0m\u001b[90m String?                  \u001b[0m\n",
       "─────┼───────────────────────────────────────────────────────────────────────────────────\n",
       "   1 │    313478   249238  Vikar              53  Utrecht       ecclesie Trajectensis\n",
       "   2 │    313549   249238  Vikar              53  Utrecht       ecclesie sancti Johannis\n",
       "   3 │    313583   249238  Vikar              53  Utrecht       ecclesie Trajectensis\n",
       "   4 │    313625   249238  Vikar              53  Utrecht       ecclesie sancti Petri\n",
       "   5 │    313685   249238  Vikar              53  Utrecht       ecclesie Trajectensis"
      ]
     },
     "execution_count": 250,
     "metadata": {},
     "output_type": "execute_result"
    }
   ],
   "source": [
    "df_person_role_out[21:25, :]"
   ]
  },
  {
   "cell_type": "code",
   "execution_count": 46,
   "metadata": {},
   "outputs": [
    {
     "name": "stderr",
     "output_type": "stream",
     "text": [
      "┌ Info: Rows inserted: 54\n",
      "└ @ WiagDataSetup C:\\Users\\georg\\Documents\\projekte\\WiagDataSetup.jl\\src\\WiagDataSetup.jl:1209\n"
     ]
    },
    {
     "data": {
      "text/plain": [
       "54"
      ]
     },
     "execution_count": 46,
     "metadata": {},
     "output_type": "execute_result"
    }
   ],
   "source": [
    "# Ausgabe in die Datenbank\n",
    "table_name = \"person_role\"\n",
    "Wds.filltable!(table_name, df_person_role_out)"
   ]
  },
  {
   "cell_type": "markdown",
   "metadata": {},
   "source": [
    "Dateien zusammenfügen"
   ]
  },
  {
   "cell_type": "code",
   "execution_count": null,
   "metadata": {},
   "outputs": [],
   "source": [
    "function cat_sql(file_out, file_in...; path = \".\")    \n",
    "    open(joinpath(path, file_out), \"w\") do io_out\n",
    "        for file_loop in file_in            \n",
    "            open(joinpath(path, file_loop)) do io_in\n",
    "                write(io_out, read(io_in))\n",
    "            end\n",
    "        end\n",
    "    end\n",
    "end"
   ]
  },
  {
   "cell_type": "markdown",
   "metadata": {},
   "source": [
    "Inhalte, die unabhängig sind von einzelnen Personen: `item_type.sql`, `reference_volume.sql`"
   ]
  },
  {
   "cell_type": "markdown",
   "metadata": {},
   "source": [
    "Inhalte für die einzelnen Priester. (Tabelle `item` muss schon im Prozess geschrieben und gelesen worden sein)."
   ]
  },
  {
   "cell_type": "code",
   "execution_count": null,
   "metadata": {},
   "outputs": [],
   "source": [
    "file_out = \"item_x.sql\"\n",
    "cat_sql(file_out,\n",
    "    \"item_property.sql\",\n",
    "    \"item_property_patronym.sql\",\n",
    "    \"item_reference.sql\",\n",
    "    path = out_path,\n",
    ")"
   ]
  },
  {
   "cell_type": "code",
   "execution_count": null,
   "metadata": {},
   "outputs": [],
   "source": [
    "file_out = \"person_x.sql\"\n",
    "cat_sql(file_out,\n",
    "    \"person.sql\",\n",
    "    \"person_role.sql\",\n",
    "    \"name_lookup.sql\",\n",
    "    path = out_path,\n",
    ")"
   ]
  }
 ],
 "metadata": {
  "kernelspec": {
   "display_name": "Julia 1.7.0",
   "language": "julia",
   "name": "julia-1.7"
  },
  "language_info": {
   "file_extension": ".jl",
   "mimetype": "application/julia",
   "name": "julia",
   "version": "1.7.0"
  }
 },
 "nbformat": 4,
 "nbformat_minor": 4
}
