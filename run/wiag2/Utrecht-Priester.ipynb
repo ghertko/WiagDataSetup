{
 "cells": [
  {
   "cell_type": "markdown",
   "metadata": {},
   "source": [
    "# Wissensaggregator Mittelalter und frühe Neuzeit\n",
    "\n",
    "WIAGweb2  \n",
    "Daten für Utrechter Priester aus Excel einlesen\n",
    "\n",
    "[Neuen Typ anlegen](#Neuen-Typ-anlegen)  \n",
    "[Literatur](#Literatur)    \n",
    "Priester  \n",
    "- [Einträge in `item`](#Einträge-in-item)\n",
    "- [Daten eintragen](#Daten-eintragen)\n",
    "- [Freie Attribute](#Freie-Attribute)\n",
    "- [Literaturverweise eintragen](#Literaturverweise-eintragen)\n",
    "- [Namensvarianten eintragen](#Namensvarianten-eintragen)\n",
    "- [Suchvarianten eintragen (`name_lookup`)](#Suchvarianten-eintragen-(name_lookup))\n",
    "\n",
    "[Ämter](#Ämter)"
   ]
  },
  {
   "cell_type": "markdown",
   "metadata": {},
   "source": [
    "## Vorspann\n",
    "\n",
    "Modul laden"
   ]
  },
  {
   "cell_type": "code",
   "execution_count": 1,
   "metadata": {},
   "outputs": [
    {
     "data": {
      "text/plain": [
       "\"../..\""
      ]
     },
     "execution_count": 1,
     "metadata": {},
     "output_type": "execute_result"
    }
   ],
   "source": [
    "wds_path = \"../..\""
   ]
  },
  {
   "cell_type": "code",
   "execution_count": 2,
   "metadata": {},
   "outputs": [],
   "source": [
    "cd(wds_path)"
   ]
  },
  {
   "cell_type": "code",
   "execution_count": 3,
   "metadata": {},
   "outputs": [],
   "source": [
    "using Pkg"
   ]
  },
  {
   "cell_type": "code",
   "execution_count": 4,
   "metadata": {},
   "outputs": [
    {
     "name": "stderr",
     "output_type": "stream",
     "text": [
      "\u001b[32m\u001b[1m  Activating\u001b[22m\u001b[39m project at `C:\\Users\\georg\\Documents\\projekte\\WiagDataSetup.jl`\n"
     ]
    }
   ],
   "source": [
    "Pkg.activate(\".\")"
   ]
  },
  {
   "cell_type": "code",
   "execution_count": 5,
   "metadata": {},
   "outputs": [],
   "source": [
    "using Revise"
   ]
  },
  {
   "cell_type": "code",
   "execution_count": 6,
   "metadata": {},
   "outputs": [
    {
     "name": "stderr",
     "output_type": "stream",
     "text": [
      "┌ Info: Precompiling WiagDataSetup [522c5ebb-a018-4020-8ed4-420cb1a9f084]\n",
      "└ @ Base loading.jl:1423\n"
     ]
    }
   ],
   "source": [
    "using WiagDataSetup"
   ]
  },
  {
   "cell_type": "code",
   "execution_count": 7,
   "metadata": {},
   "outputs": [
    {
     "data": {
      "text/plain": [
       "WiagDataSetup"
      ]
     },
     "execution_count": 7,
     "metadata": {},
     "output_type": "execute_result"
    }
   ],
   "source": [
    "Wds = WiagDataSetup"
   ]
  },
  {
   "cell_type": "code",
   "execution_count": 8,
   "metadata": {},
   "outputs": [],
   "source": [
    "using DataFrames, CSV, Dates"
   ]
  },
  {
   "cell_type": "code",
   "execution_count": 9,
   "metadata": {},
   "outputs": [
    {
     "data": {
      "text/plain": [
       "120"
      ]
     },
     "execution_count": 9,
     "metadata": {},
     "output_type": "execute_result"
    }
   ],
   "source": [
    "ENV[\"COLUMNS\"] = 120 # Anzeige/Ausgabe für die Inhalte von DataFrames vergrößern"
   ]
  },
  {
   "cell_type": "code",
   "execution_count": 10,
   "metadata": {},
   "outputs": [
    {
     "data": {
      "text/plain": [
       "\"C:/Users/georg/Documents/projekte-doc/Utrecht-Priester/data_sql\""
      ]
     },
     "execution_count": 10,
     "metadata": {},
     "output_type": "execute_result"
    }
   ],
   "source": [
    "computer = :bkroege_goe\n",
    "computer = :ghertko_kn\n",
    "if computer == :bkroege_goe\n",
    "    data_path = \"../data\"\n",
    "    out_path = \"../data_sql\"\n",
    "else\n",
    "    data_path = \"C:/Users/georg/Documents/projekte-doc/Utrecht-Priester/data\"\n",
    "    out_path = \"C:/Users/georg/Documents/projekte-doc/Utrecht-Priester/data_sql\"\n",
    "end"
   ]
  },
  {
   "cell_type": "code",
   "execution_count": 11,
   "metadata": {},
   "outputs": [
    {
     "data": {
      "text/plain": [
       "10"
      ]
     },
     "execution_count": 11,
     "metadata": {},
     "output_type": "execute_result"
    }
   ],
   "source": [
    "item_type_id = 10"
   ]
  },
  {
   "cell_type": "markdown",
   "metadata": {},
   "source": [
    "## Daten löschen\n",
    "z.B. für ein komplettes Update"
   ]
  },
  {
   "cell_type": "code",
   "execution_count": null,
   "metadata": {},
   "outputs": [],
   "source": [
    "sql_item_ids = \"SELECT ID FROM item WHERE item_type_id = $(item_type_id)\"\n",
    "sql = \"\n",
    "DELETE FROM person_role WHERE person_id in ($(sql_item_ids));\n",
    "DELETE FROM name_lookup WHERE person_id in ($(sql_item_ids));\n",
    "DELETE FROM person WHERE id in ($(sql_item_ids));\n",
    "DELETE FROM item_property WHERE item_id in ($(sql_item_ids));\n",
    "DELETE FROM item_reference WHERE item_id in ($(sql_item_ids));\n",
    "DELETE FROM item WHERE item_type_id = $(item_type_id);\n",
    "\"\n",
    "file_name = joinpath(out_path, \"delete_item_type_$(item_type_id).sql\")\n",
    "open(file_name, \"w\") do io\n",
    "    println(io, sql)\n",
    "end"
   ]
  },
  {
   "cell_type": "markdown",
   "metadata": {},
   "source": [
    "## Neuen Typ anlegen\n",
    "\n",
    "(einmalig)"
   ]
  },
  {
   "cell_type": "markdown",
   "metadata": {},
   "source": [
    "einlesen aus CSV"
   ]
  },
  {
   "cell_type": "code",
   "execution_count": null,
   "metadata": {},
   "outputs": [],
   "source": [
    "file_name = joinpath(data_path, \"item_type.csv\");\n",
    "df_item_type = CSV.read(file_name, DataFrame, delim = ';')"
   ]
  },
  {
   "cell_type": "code",
   "execution_count": null,
   "metadata": {},
   "outputs": [],
   "source": [
    "create_date(date_time) = typeof(date_time) == DateTime ? date_time : DateTime(date_time, dateformat\"dd.mm.yy HH:MM\")"
   ]
  },
  {
   "cell_type": "code",
   "execution_count": null,
   "metadata": {},
   "outputs": [],
   "source": [
    "transform!(df_item_type, :date_created => ByRow(create_date) => :date_created);"
   ]
  },
  {
   "cell_type": "code",
   "execution_count": null,
   "metadata": {},
   "outputs": [],
   "source": [
    "transform!(df_item_type, :date_changed => ByRow(create_date) => :date_changed);"
   ]
  },
  {
   "cell_type": "code",
   "execution_count": null,
   "metadata": {},
   "outputs": [],
   "source": [
    "names(df_item_type)"
   ]
  },
  {
   "cell_type": "markdown",
   "metadata": {},
   "source": [
    "alternativ: direkt erstellen"
   ]
  },
  {
   "cell_type": "code",
   "execution_count": null,
   "metadata": {},
   "outputs": [],
   "source": [
    "df_item_type = DataFrame();"
   ]
  },
  {
   "cell_type": "code",
   "execution_count": null,
   "metadata": {},
   "outputs": [],
   "source": [
    "insertcols!(df_item_type,\n",
    "    :id => item_type_id,\n",
    "    :comment => missing,\n",
    "    :name => \"Priester Utrecht\",\n",
    "    :note => \"Priester des Bistums Utrecht nach Stapel\",\n",
    "    :table_name => \"person\",\n",
    "    :id_public_key => \"Pers-PRIESTUtrecht\",\n",
    "    :name_app => \"priest_ut\",\n",
    "    :created_by => 2,\n",
    "    :date_created => now(),\n",
    "    :changed_by => 2,\n",
    "    :date_changed => now(),\n",
    ")"
   ]
  },
  {
   "cell_type": "code",
   "execution_count": null,
   "metadata": {},
   "outputs": [],
   "source": [
    "file_name = joinpath(out_path, \"item_type.sql\")\n",
    "Wds.insert_sql(file_name, \"item_type\", df_item_type)"
   ]
  },
  {
   "cell_type": "markdown",
   "metadata": {},
   "source": [
    "## Literatur"
   ]
  },
  {
   "cell_type": "code",
   "execution_count": null,
   "metadata": {},
   "outputs": [],
   "source": [
    "df_reference_volume = DataFrame();"
   ]
  },
  {
   "cell_type": "code",
   "execution_count": null,
   "metadata": {},
   "outputs": [],
   "source": [
    "insertcols!(df_reference_volume,\n",
    "    :id => missing, # wird automatisch vergeben\n",
    "    :comment => missing,\n",
    "    :full_citation => \"Stapel, R.J. (2020) Ordinations of priests in the medieval diocese of Utrecht (1505-1518). IISH Data Collection.\",\n",
    "    :title_short => \"Stapel, Ordinations of priests in the medieval diocese of Utrecht (1505-1518)\",\n",
    "    :author_editor => \"Rombert Stapel\",\n",
    "    :note => missing,\n",
    "    :ri_opac_id => missing,\n",
    "    :isbn => missing,\n",
    "    :year_publication => \"2020\",\n",
    "    :display_order => 1,\n",
    "    :gs_volume_nr => missing,\n",
    "    :gs_doi => missing,\n",
    "    :gs_url => missing,\n",
    "    :online_resource => \"https://hdl.handle.net/10622/IEYIUX\",\n",
    "    :reference_id => 1,\n",
    "    :item_type_id => item_type_id\n",
    ")"
   ]
  },
  {
   "cell_type": "code",
   "execution_count": null,
   "metadata": {},
   "outputs": [],
   "source": [
    "file_name = joinpath(out_path, \"reference_volume.sql\")\n",
    "Wds.insert_sql(file_name, \"reference_volume\", df_reference_volume)"
   ]
  },
  {
   "cell_type": "markdown",
   "metadata": {},
   "source": [
    "## Einträge in `item`"
   ]
  },
  {
   "cell_type": "markdown",
   "metadata": {},
   "source": [
    "Daten für die Priester einlesen.\n",
    "\n",
    "Exportiere die Daten aus Excel über \"Speichern unter\" im Format \"CSV UTF-8\" (Auswahlfeld Dateityp)"
   ]
  },
  {
   "cell_type": "code",
   "execution_count": null,
   "metadata": {},
   "outputs": [],
   "source": [
    "file_name = joinpath(data_path, \"Ordinations_of_priests_Stapel_BK.csv\");\n",
    "df_priests = CSV.read(file_name, DataFrame, delim = ';', stringtype = String);"
   ]
  },
  {
   "cell_type": "code",
   "execution_count": null,
   "metadata": {},
   "outputs": [],
   "source": [
    "Wds.clean_up!(df_priests)"
   ]
  },
  {
   "cell_type": "code",
   "execution_count": null,
   "metadata": {},
   "outputs": [],
   "source": [
    "size(df_priests, 1)"
   ]
  },
  {
   "cell_type": "code",
   "execution_count": null,
   "metadata": {},
   "outputs": [],
   "source": [
    "df_priests = unique(df_priests);"
   ]
  },
  {
   "cell_type": "markdown",
   "metadata": {},
   "source": [
    "Der Datensatz einhält Zeilen, die in allen Feldern übereinstimmen."
   ]
  },
  {
   "cell_type": "code",
   "execution_count": null,
   "metadata": {},
   "outputs": [],
   "source": [
    "size(df_priests, 1)"
   ]
  },
  {
   "cell_type": "code",
   "execution_count": null,
   "metadata": {},
   "outputs": [],
   "source": [
    "names(df_priests)"
   ]
  },
  {
   "cell_type": "code",
   "execution_count": null,
   "metadata": {},
   "outputs": [],
   "source": [
    "columns = [\n",
    "    :Priester_ID, \n",
    "    :Datum, \n",
    "    :Titel, \n",
    "    Symbol(\"Vorname (Voornaam)\"), \n",
    "    Symbol(\"(Familienname) Familienaam\")\n",
    "]"
   ]
  },
  {
   "cell_type": "code",
   "execution_count": null,
   "metadata": {},
   "outputs": [],
   "source": [
    "df_priests[100:105, columns]"
   ]
  },
  {
   "cell_type": "code",
   "execution_count": null,
   "metadata": {},
   "outputs": [],
   "source": [
    "columns = [\n",
    "    :Priester_ID => :id_in_source,\n",
    "]"
   ]
  },
  {
   "cell_type": "code",
   "execution_count": null,
   "metadata": {},
   "outputs": [],
   "source": [
    "df_item = select(df_priests, columns);"
   ]
  },
  {
   "cell_type": "markdown",
   "metadata": {},
   "source": [
    "Verwende nur den Nummern-Teil der ID für die WIAG-ID"
   ]
  },
  {
   "cell_type": "code",
   "execution_count": null,
   "metadata": {},
   "outputs": [],
   "source": [
    "get_id_num(id_long) = replace(id_long, \"id_\" => \"\")"
   ]
  },
  {
   "cell_type": "code",
   "execution_count": null,
   "metadata": {},
   "outputs": [],
   "source": [
    "transform!(df_item, :id_in_source => ByRow(get_id_num) => :id_num_in_source);"
   ]
  },
  {
   "cell_type": "code",
   "execution_count": null,
   "metadata": {},
   "outputs": [],
   "source": [
    "maximum(length.(df_item.id_num_in_source))"
   ]
  },
  {
   "cell_type": "code",
   "execution_count": null,
   "metadata": {},
   "outputs": [],
   "source": [
    "id_public_key = df_item_type[1, :id_public_key]"
   ]
  },
  {
   "cell_type": "code",
   "execution_count": null,
   "metadata": {},
   "outputs": [],
   "source": [
    "function make_id_public(id)        \n",
    "    num_id_length = 10\n",
    "    return \"WIAG-\" * id_public_key * \"-\" * lpad(id, num_id_length, '0')\n",
    "end"
   ]
  },
  {
   "cell_type": "code",
   "execution_count": null,
   "metadata": {},
   "outputs": [],
   "source": [
    "transform!(df_item, :id_num_in_source => ByRow(make_id_public) => :id_public);"
   ]
  },
  {
   "cell_type": "code",
   "execution_count": null,
   "metadata": {},
   "outputs": [],
   "source": [
    "df_item[200:205, :]"
   ]
  },
  {
   "cell_type": "markdown",
   "metadata": {},
   "source": [
    "Der Wert für `lang` ist das Kürzel für die Sprache der Quelle also `nl`?!"
   ]
  },
  {
   "cell_type": "code",
   "execution_count": null,
   "metadata": {},
   "outputs": [],
   "source": [
    "insertcols!(df_item,\n",
    "    :id => missing,\n",
    "    :item_type_id => item_type_id,\n",
    "    :comment => missing,\n",
    "    :merged_into_id => missing,\n",
    "    :edit_status => \"online\",\n",
    "    :created_by => 2,\n",
    "    :date_created => now(),\n",
    "    :changed_by => 2,\n",
    "    :date_changed => now(),\n",
    "    :is_deleted => 0,\n",
    "    :normdata_edited_by => missing,\n",
    "    :lang => \"nl\",\n",
    "    :is_online => 1\n",
    ");"
   ]
  },
  {
   "cell_type": "code",
   "execution_count": null,
   "metadata": {
    "scrolled": false
   },
   "outputs": [],
   "source": [
    "df_item[200:205, :]"
   ]
  },
  {
   "cell_type": "code",
   "execution_count": null,
   "metadata": {},
   "outputs": [],
   "source": [
    "table_name = \"item\"\n",
    "file_name = joinpath(out_path, \"$(table_name).sql\")\n",
    "Wds.insert_sql(file_name, table_name, select(df_item, Not(:id_num_in_source)))"
   ]
  },
  {
   "cell_type": "markdown",
   "metadata": {},
   "source": [
    "Importiere `item.sql` via phpMyAdmin in die Datenbank.  "
   ]
  },
  {
   "cell_type": "markdown",
   "metadata": {},
   "source": [
    "## Daten eintragen"
   ]
  },
  {
   "cell_type": "markdown",
   "metadata": {},
   "source": [
    "Exportiere die Tabelle `item` aus der Datenbank via phpMyAdmin mit den Optionen: \"Spaltennamen in die erste Zeile setzen\" und \"Spalten trennen mit ';'\" als Trennzeichen."
   ]
  },
  {
   "cell_type": "code",
   "execution_count": 12,
   "metadata": {},
   "outputs": [],
   "source": [
    "if computer == :bkroege_goe \n",
    "    file_name = joinpath(data_path, \"item.csv\");\n",
    "else\n",
    "    file_name = joinpath(data_path, \"item_local.csv\")\n",
    "end\n",
    "df_item_db = CSV.read(file_name, DataFrame, delim = ';');"
   ]
  },
  {
   "cell_type": "code",
   "execution_count": 13,
   "metadata": {},
   "outputs": [],
   "source": [
    "file_name = joinpath(data_path, \"Ordinations_of_priests_Stapel_BK.csv\");\n",
    "df_priests = CSV.read(file_name, DataFrame, delim = ';', stringtype = String);"
   ]
  },
  {
   "cell_type": "code",
   "execution_count": 14,
   "metadata": {},
   "outputs": [],
   "source": [
    "Wds.clean_up!(df_priests)"
   ]
  },
  {
   "cell_type": "code",
   "execution_count": 15,
   "metadata": {},
   "outputs": [
    {
     "data": {
      "text/plain": [
       "5255"
      ]
     },
     "execution_count": 15,
     "metadata": {},
     "output_type": "execute_result"
    }
   ],
   "source": [
    "size(df_priests, 1)"
   ]
  },
  {
   "cell_type": "code",
   "execution_count": 16,
   "metadata": {},
   "outputs": [],
   "source": [
    "df_priests = unique(df_priests);"
   ]
  },
  {
   "cell_type": "code",
   "execution_count": 17,
   "metadata": {},
   "outputs": [],
   "source": [
    "df_item_utrecht = subset(df_item_db, :item_type_id => ByRow(isequal(item_type_id)));"
   ]
  },
  {
   "cell_type": "code",
   "execution_count": 18,
   "metadata": {},
   "outputs": [
    {
     "data": {
      "text/plain": [
       "3958"
      ]
     },
     "execution_count": 18,
     "metadata": {},
     "output_type": "execute_result"
    }
   ],
   "source": [
    "size(df_item_utrecht, 1)"
   ]
  },
  {
   "cell_type": "code",
   "execution_count": 19,
   "metadata": {},
   "outputs": [],
   "source": [
    "df_idx = df_item_utrecht[:, [:id, :id_in_source, :item_type_id]];"
   ]
  },
  {
   "cell_type": "code",
   "execution_count": 20,
   "metadata": {},
   "outputs": [
    {
     "data": {
      "text/plain": [
       "11-element Vector{String}:\n",
       " \"Priester_ID\"\n",
       " \"Datum\"\n",
       " \"Ort (Locatie)\"\n",
       " \"Titel\"\n",
       " \"Vorname (Voornaam)\"\n",
       " \"Zweiter Vorname (Patroniem)\"\n",
       " \"(Familienname) Familienaam\"\n",
       " \"Herkunftsort (Toponiem)\"\n",
       " \"Orden (Orde)\"\n",
       " \"Amt (Functie)\"\n",
       " \"Instelling\""
      ]
     },
     "execution_count": 20,
     "metadata": {},
     "output_type": "execute_result"
    }
   ],
   "source": [
    "names(df_priests)"
   ]
  },
  {
   "cell_type": "code",
   "execution_count": 21,
   "metadata": {},
   "outputs": [],
   "source": [
    "columns = [\n",
    "    :Priester_ID => :id_in_source,\n",
    "    :Datum => :ordination_date,\n",
    "    Symbol(\"Ort (Locatie)\") => :ordination_place,\n",
    "    :Titel => :title,\n",
    "    Symbol(\"Vorname (Voornaam)\") => :givenname,\n",
    "    Symbol(\"Zweiter Vorname (Patroniem)\") => :patronym,\n",
    "    Symbol(\"(Familienname) Familienaam\") => :familyname,\n",
    "    Symbol(\"Herkunftsort (Toponiem)\") => :place_of_origin,        \n",
    "    Symbol(\"Orden (Orde)\") => :religious_order,\n",
    "    Symbol(\"Amt (Functie)\") => :role_name,\n",
    "    :Instelling => :institution\n",
    "];"
   ]
  },
  {
   "cell_type": "code",
   "execution_count": 22,
   "metadata": {},
   "outputs": [],
   "source": [
    "df_person_in = innerjoin(\n",
    "    select(df_priests, columns),\n",
    "    df_idx,\n",
    "    on = :id_in_source\n",
    ");"
   ]
  },
  {
   "cell_type": "code",
   "execution_count": 23,
   "metadata": {},
   "outputs": [
    {
     "data": {
      "text/plain": [
       "(3958, 3958, 3958)"
      ]
     },
     "execution_count": 23,
     "metadata": {},
     "output_type": "execute_result"
    }
   ],
   "source": [
    "size(df_person_in, 1), size(df_priests, 1), size(df_idx, 1)"
   ]
  },
  {
   "cell_type": "markdown",
   "metadata": {},
   "source": [
    "### Identifiziere Orden"
   ]
  },
  {
   "cell_type": "code",
   "execution_count": null,
   "metadata": {},
   "outputs": [],
   "source": [
    "file_name = joinpath(data_path, \"religious_order.csv\")\n",
    "df_ro = CSV.read(file_name, DataFrame, delim = \";\");"
   ]
  },
  {
   "cell_type": "code",
   "execution_count": null,
   "metadata": {},
   "outputs": [],
   "source": [
    "df_item_ro = subset(df_item_db, :item_type_id => ByRow(isequal(7)));"
   ]
  },
  {
   "cell_type": "code",
   "execution_count": null,
   "metadata": {},
   "outputs": [],
   "source": [
    "df_ro_id = innerjoin(df_ro, select(df_item_db, [:id, :item_type_id, :id_in_source]), on = :id);"
   ]
  },
  {
   "cell_type": "markdown",
   "metadata": {},
   "source": [
    "Info"
   ]
  },
  {
   "cell_type": "code",
   "execution_count": null,
   "metadata": {},
   "outputs": [],
   "source": [
    "df_ro_id"
   ]
  },
  {
   "cell_type": "code",
   "execution_count": null,
   "metadata": {},
   "outputs": [],
   "source": [
    "file_name = joinpath(data_path, \"mapping_orden_stapel.csv\")\n",
    "df_map_ro = CSV.read(file_name, DataFrame, delim = \";\");"
   ]
  },
  {
   "cell_type": "code",
   "execution_count": null,
   "metadata": {},
   "outputs": [],
   "source": [
    "transform!(df_map_ro, :id_order => ByRow(string) => :id_in_source);"
   ]
  },
  {
   "cell_type": "code",
   "execution_count": null,
   "metadata": {},
   "outputs": [],
   "source": [
    "df_map_ro = innerjoin(df_map_ro, df_ro_id, on = :id_in_source);"
   ]
  },
  {
   "cell_type": "code",
   "execution_count": null,
   "metadata": {},
   "outputs": [],
   "source": [
    "names(df_map_ro)"
   ]
  },
  {
   "cell_type": "code",
   "execution_count": null,
   "metadata": {},
   "outputs": [],
   "source": [
    "columns = [\n",
    "    :id => :religious_order_id,\n",
    "    :id_in_source => :id_in_source_ro,\n",
    "    :Orde => :religious_order,\n",
    "    :abbreviation => :abbreviation,\n",
    "]"
   ]
  },
  {
   "cell_type": "code",
   "execution_count": null,
   "metadata": {},
   "outputs": [],
   "source": [
    "df_map_ro_join = select(df_map_ro, columns);"
   ]
  },
  {
   "cell_type": "markdown",
   "metadata": {},
   "source": [
    "Die Ordensbezeichnungen variieren in Groß- und Kleinschreibung"
   ]
  },
  {
   "cell_type": "code",
   "execution_count": null,
   "metadata": {},
   "outputs": [],
   "source": [
    "transform!(df_map_ro_join, :religious_order => ByRow(lowercase) => :religious_order);"
   ]
  },
  {
   "cell_type": "code",
   "execution_count": null,
   "metadata": {},
   "outputs": [],
   "source": [
    "df_map_ro_join[7:12, :]"
   ]
  },
  {
   "cell_type": "code",
   "execution_count": null,
   "metadata": {},
   "outputs": [],
   "source": [
    "lowercase_maybe(a) = typeof(a) <: AbstractString ? lowercase(a) : a"
   ]
  },
  {
   "cell_type": "code",
   "execution_count": null,
   "metadata": {},
   "outputs": [],
   "source": [
    "transform!(df_person_in, :religious_order => ByRow(lowercase_maybe) => :religious_order);"
   ]
  },
  {
   "cell_type": "code",
   "execution_count": null,
   "metadata": {},
   "outputs": [],
   "source": [
    "df_person_in_ro = leftjoin(df_person_in, df_map_ro_join, on = :religious_order, matchmissing = :notequal);"
   ]
  },
  {
   "cell_type": "code",
   "execution_count": null,
   "metadata": {},
   "outputs": [],
   "source": [
    "size(df_person_in, 1), size(df_person_in_ro, 1)"
   ]
  },
  {
   "cell_type": "code",
   "execution_count": null,
   "metadata": {},
   "outputs": [],
   "source": [
    "count(!ismissing, df_person_in.religious_order), count(!ismissing, df_person_in_ro.religious_order_id)"
   ]
  },
  {
   "cell_type": "code",
   "execution_count": null,
   "metadata": {},
   "outputs": [],
   "source": [
    "delta_msg(a, b) = !ismissing(a) && ismissing(b)"
   ]
  },
  {
   "cell_type": "code",
   "execution_count": null,
   "metadata": {},
   "outputs": [],
   "source": [
    "df_examine = subset(df_person_in_ro, [:religious_order, :religious_order_id] => ByRow(delta_msg));"
   ]
  },
  {
   "cell_type": "code",
   "execution_count": null,
   "metadata": {},
   "outputs": [],
   "source": [
    "unique(df_examine.religious_order)"
   ]
  },
  {
   "cell_type": "markdown",
   "metadata": {},
   "source": [
    "Exportiere Daten für die Tabelle `person`"
   ]
  },
  {
   "cell_type": "code",
   "execution_count": null,
   "metadata": {},
   "outputs": [],
   "source": [
    "names(df_person_in_ro)"
   ]
  },
  {
   "cell_type": "markdown",
   "metadata": {},
   "source": [
    "Verwende das Jahr der Priesterweihe für die zeitliche Einordnung"
   ]
  },
  {
   "cell_type": "code",
   "execution_count": null,
   "metadata": {},
   "outputs": [],
   "source": [
    "parse_date_min(s) = ismissing(s) ? s : year(s)"
   ]
  },
  {
   "cell_type": "code",
   "execution_count": null,
   "metadata": {},
   "outputs": [],
   "source": [
    "transform!(df_person_in_ro, :ordination_date => ByRow(parse_date_min) => :date_min);"
   ]
  },
  {
   "cell_type": "code",
   "execution_count": null,
   "metadata": {},
   "outputs": [],
   "source": [
    "columns = [\n",
    "    :id => :id,\n",
    "    :item_type_id => :item_type_id,\n",
    "    :givenname => :givenname,\n",
    "    :familyname => :familyname,\n",
    "    :religious_order_id => :religious_order_id,\n",
    "    :date_min => :date_min,\n",
    "    :date_min => :date_max,\n",
    "];"
   ]
  },
  {
   "cell_type": "code",
   "execution_count": null,
   "metadata": {},
   "outputs": [],
   "source": [
    "is_test(id) = id in (180293, 180301)"
   ]
  },
  {
   "cell_type": "code",
   "execution_count": null,
   "metadata": {},
   "outputs": [],
   "source": [
    "subset(df_person_in_ro[:, [:id, :givenname, :date_min, :ordination_date, :title]], :id => ByRow(is_test))"
   ]
  },
  {
   "cell_type": "code",
   "execution_count": null,
   "metadata": {},
   "outputs": [],
   "source": [
    "table_name = \"person\"\n",
    "file_name = joinpath(out_path, \"$(table_name).sql\")\n",
    "Wds.insert_sql(file_name, table_name, select(df_person_in_ro, columns))"
   ]
  },
  {
   "cell_type": "markdown",
   "metadata": {},
   "source": [
    "## Freie Attribute"
   ]
  },
  {
   "cell_type": "markdown",
   "metadata": {},
   "source": [
    "### Titel"
   ]
  },
  {
   "cell_type": "code",
   "execution_count": 24,
   "metadata": {},
   "outputs": [],
   "source": [
    "df_title = subset(df_person_in, :title => ByRow(!ismissing));"
   ]
  },
  {
   "cell_type": "code",
   "execution_count": 25,
   "metadata": {},
   "outputs": [
    {
     "data": {
      "text/plain": [
       "(1712, 13)"
      ]
     },
     "execution_count": 25,
     "metadata": {},
     "output_type": "execute_result"
    }
   ],
   "source": [
    "size(df_title)"
   ]
  },
  {
   "cell_type": "code",
   "execution_count": 26,
   "metadata": {},
   "outputs": [],
   "source": [
    "df_item_prop_title = DataFrame();"
   ]
  },
  {
   "cell_type": "code",
   "execution_count": 27,
   "metadata": {},
   "outputs": [],
   "source": [
    "insertcols!(df_item_prop_title,\n",
    "    :item_id => df_title.id,\n",
    "    :name => \"title\",\n",
    "    :value => df_title.title,\n",
    "    :date_value => missing,\n",
    ");"
   ]
  },
  {
   "cell_type": "code",
   "execution_count": 28,
   "metadata": {
    "scrolled": true
   },
   "outputs": [
    {
     "data": {
      "text/html": [
       "<div class=\"data-frame\"><p>6 rows × 4 columns</p><table class=\"data-frame\"><thead><tr><th></th><th>item_id</th><th>name</th><th>value</th><th>date_value</th></tr><tr><th></th><th title=\"Int64\">Int64</th><th title=\"String\">String</th><th title=\"Union{Missing, String}\">String?</th><th title=\"Missing\">Missing</th></tr></thead><tbody><tr><th>1</th><td>180293</td><td>title</td><td>Magister</td><td><em>missing</em></td></tr><tr><th>2</th><td>180295</td><td>title</td><td>Frater</td><td><em>missing</em></td></tr><tr><th>3</th><td>180296</td><td>title</td><td>Frater</td><td><em>missing</em></td></tr><tr><th>4</th><td>180297</td><td>title</td><td>Frater</td><td><em>missing</em></td></tr><tr><th>5</th><td>180299</td><td>title</td><td>Frater</td><td><em>missing</em></td></tr><tr><th>6</th><td>180301</td><td>title</td><td>Frater</td><td><em>missing</em></td></tr></tbody></table></div>"
      ],
      "text/latex": [
       "\\begin{tabular}{r|cccc}\n",
       "\t& item\\_id & name & value & date\\_value\\\\\n",
       "\t\\hline\n",
       "\t& Int64 & String & String? & Missing\\\\\n",
       "\t\\hline\n",
       "\t1 & 180293 & title & Magister & \\emph{missing} \\\\\n",
       "\t2 & 180295 & title & Frater & \\emph{missing} \\\\\n",
       "\t3 & 180296 & title & Frater & \\emph{missing} \\\\\n",
       "\t4 & 180297 & title & Frater & \\emph{missing} \\\\\n",
       "\t5 & 180299 & title & Frater & \\emph{missing} \\\\\n",
       "\t6 & 180301 & title & Frater & \\emph{missing} \\\\\n",
       "\\end{tabular}\n"
      ],
      "text/plain": [
       "\u001b[1m6×4 DataFrame\u001b[0m\n",
       "\u001b[1m Row \u001b[0m│\u001b[1m item_id \u001b[0m\u001b[1m name   \u001b[0m\u001b[1m value    \u001b[0m\u001b[1m date_value \u001b[0m\n",
       "\u001b[1m     \u001b[0m│\u001b[90m Int64   \u001b[0m\u001b[90m String \u001b[0m\u001b[90m String?  \u001b[0m\u001b[90m Missing    \u001b[0m\n",
       "─────┼───────────────────────────────────────\n",
       "   1 │  180293  title   Magister \u001b[90m    missing \u001b[0m\n",
       "   2 │  180295  title   Frater   \u001b[90m    missing \u001b[0m\n",
       "   3 │  180296  title   Frater   \u001b[90m    missing \u001b[0m\n",
       "   4 │  180297  title   Frater   \u001b[90m    missing \u001b[0m\n",
       "   5 │  180299  title   Frater   \u001b[90m    missing \u001b[0m\n",
       "   6 │  180301  title   Frater   \u001b[90m    missing \u001b[0m"
      ]
     },
     "execution_count": 28,
     "metadata": {},
     "output_type": "execute_result"
    }
   ],
   "source": [
    "df_item_prop_title[70:75, :]"
   ]
  },
  {
   "cell_type": "markdown",
   "metadata": {},
   "source": [
    "### Weihe Priester"
   ]
  },
  {
   "cell_type": "markdown",
   "metadata": {},
   "source": [
    "Weiheamt"
   ]
  },
  {
   "cell_type": "code",
   "execution_count": 29,
   "metadata": {},
   "outputs": [
    {
     "data": {
      "text/plain": [
       "(3958, 13)"
      ]
     },
     "execution_count": 29,
     "metadata": {},
     "output_type": "execute_result"
    }
   ],
   "source": [
    "df_ordination = subset(df_person_in, :id => ByRow(!ismissing));\n",
    "size(df_ordination)"
   ]
  },
  {
   "cell_type": "code",
   "execution_count": 30,
   "metadata": {},
   "outputs": [],
   "source": [
    "df_item_prop_ord = DataFrame();"
   ]
  },
  {
   "cell_type": "code",
   "execution_count": 31,
   "metadata": {},
   "outputs": [],
   "source": [
    "insertcols!(df_item_prop_ord,\n",
    "    :item_id => df_ordination.id,\n",
    "    :name => \"ordination\",\n",
    "    :value => \"Priester\",\n",
    "    :date_value => Date.(df_ordination.ordination_date)\n",
    ");"
   ]
  },
  {
   "cell_type": "markdown",
   "metadata": {},
   "source": [
    "Ort der Weihe"
   ]
  },
  {
   "cell_type": "code",
   "execution_count": 32,
   "metadata": {},
   "outputs": [
    {
     "data": {
      "text/plain": [
       "(3958, 13)"
      ]
     },
     "execution_count": 32,
     "metadata": {},
     "output_type": "execute_result"
    }
   ],
   "source": [
    "df_ord_place = subset(df_person_in, :ordination_place => ByRow(!ismissing));\n",
    "size(df_ord_place)"
   ]
  },
  {
   "cell_type": "code",
   "execution_count": 33,
   "metadata": {},
   "outputs": [],
   "source": [
    "df_item_prop_ord_place = DataFrame();"
   ]
  },
  {
   "cell_type": "code",
   "execution_count": 34,
   "metadata": {},
   "outputs": [],
   "source": [
    "insertcols!(df_item_prop_ord_place,\n",
    "    :item_id => df_ord_place.id,\n",
    "    :name => \"ordination_place\",\n",
    "    :value => df_ord_place.ordination_place,\n",
    "    :date_value => missing,\n",
    ");"
   ]
  },
  {
   "cell_type": "markdown",
   "metadata": {},
   "source": [
    "Tabelle `item_property` schreiben"
   ]
  },
  {
   "cell_type": "code",
   "execution_count": 35,
   "metadata": {},
   "outputs": [],
   "source": [
    "df_item_prop = vcat(df_item_prop_title, df_item_prop_ord, df_item_prop_ord_place);"
   ]
  },
  {
   "cell_type": "code",
   "execution_count": null,
   "metadata": {},
   "outputs": [],
   "source": [
    "df_item_prop[1712:1714, :]"
   ]
  },
  {
   "cell_type": "code",
   "execution_count": null,
   "metadata": {},
   "outputs": [],
   "source": [
    "size(df_item_prop)"
   ]
  },
  {
   "cell_type": "code",
   "execution_count": 36,
   "metadata": {},
   "outputs": [
    {
     "name": "stderr",
     "output_type": "stream",
     "text": [
      "┌ Info: row \n",
      "│   i = 2000\n",
      "└ @ WiagDataSetup C:\\Users\\georg\\Documents\\projekte\\WiagDataSetup.jl\\src\\WiagDataSetup.jl:1596\n",
      "┌ Info: row \n",
      "│   i = 4000\n",
      "└ @ WiagDataSetup C:\\Users\\georg\\Documents\\projekte\\WiagDataSetup.jl\\src\\WiagDataSetup.jl:1596\n",
      "┌ Info: row \n",
      "│   i = 6000\n",
      "└ @ WiagDataSetup C:\\Users\\georg\\Documents\\projekte\\WiagDataSetup.jl\\src\\WiagDataSetup.jl:1596\n",
      "┌ Info: row \n",
      "│   i = 8000\n",
      "└ @ WiagDataSetup C:\\Users\\georg\\Documents\\projekte\\WiagDataSetup.jl\\src\\WiagDataSetup.jl:1596\n"
     ]
    },
    {
     "data": {
      "text/plain": [
       "9628"
      ]
     },
     "execution_count": 36,
     "metadata": {},
     "output_type": "execute_result"
    }
   ],
   "source": [
    "table_name = \"item_property\"\n",
    "file_name = joinpath(out_path, \"$(table_name).sql\")\n",
    "Wds.insert_sql(file_name, table_name, df_item_prop)"
   ]
  },
  {
   "cell_type": "markdown",
   "metadata": {},
   "source": [
    "### Geburtsort\n",
    "2022-04-12: Trage zunächst nur den Namen ein. Die Zuordnung zu identifizierten Orten ist unklar."
   ]
  },
  {
   "cell_type": "code",
   "execution_count": null,
   "metadata": {},
   "outputs": [],
   "source": [
    "names(df_person_in)"
   ]
  },
  {
   "cell_type": "code",
   "execution_count": null,
   "metadata": {},
   "outputs": [],
   "source": [
    "df_birthplace = subset(df_person_in, :place_of_origin => ByRow(!ismissing));\n",
    "size(df_birthplace)"
   ]
  },
  {
   "cell_type": "code",
   "execution_count": null,
   "metadata": {},
   "outputs": [],
   "source": [
    "df_item_prop_birthplace = DataFrame();"
   ]
  },
  {
   "cell_type": "code",
   "execution_count": null,
   "metadata": {},
   "outputs": [],
   "source": [
    "insertcols!(df_item_prop_birthplace,\n",
    "    :item_id => df_birthplace.id,\n",
    "    :name => \"birthplace\",\n",
    "    :value => df_birthplace.place_of_origin,\n",
    ");"
   ]
  },
  {
   "cell_type": "code",
   "execution_count": null,
   "metadata": {},
   "outputs": [],
   "source": [
    "table_name = \"item_property\"\n",
    "file_name = joinpath(out_path, \"$(table_name)_birthplace.sql\")\n",
    "Wds.insert_sql(file_name, table_name, df_item_prop_birthplace)"
   ]
  },
  {
   "cell_type": "markdown",
   "metadata": {},
   "source": [
    "## Literaturverweise eintragen\n",
    "*R bk* Befülle `id_in_reference` mit 'id_1509_3_83' ... ?"
   ]
  },
  {
   "cell_type": "code",
   "execution_count": null,
   "metadata": {},
   "outputs": [],
   "source": [
    "df_item_reference = DataFrame();"
   ]
  },
  {
   "cell_type": "code",
   "execution_count": null,
   "metadata": {},
   "outputs": [],
   "source": [
    "insertcols!(df_item_reference,\n",
    "    :reference_id => 1,\n",
    "    :id_in_reference => df_person_in.id_in_source,\n",
    "    :item_id => df_person_in.id,\n",
    "    :item_type_id => item_type_id\n",
    ");"
   ]
  },
  {
   "cell_type": "code",
   "execution_count": null,
   "metadata": {},
   "outputs": [],
   "source": [
    "df_item_reference[1500:1505, :]"
   ]
  },
  {
   "cell_type": "code",
   "execution_count": null,
   "metadata": {},
   "outputs": [],
   "source": [
    "table_name = \"item_reference\"\n",
    "file_name = joinpath(out_path, \"$(table_name).sql\")\n",
    "Wds.insert_sql(file_name, table_name, df_item_reference)"
   ]
  },
  {
   "cell_type": "markdown",
   "metadata": {},
   "source": [
    "## Namensvarianten eintragen\n",
    "Schreibe Patronym (Vatersnamen) in Tabelle `item_property`"
   ]
  },
  {
   "cell_type": "code",
   "execution_count": null,
   "metadata": {},
   "outputs": [],
   "source": [
    "df_patronym = subset(df_person_in, :patronym => ByRow(!ismissing));"
   ]
  },
  {
   "cell_type": "code",
   "execution_count": null,
   "metadata": {},
   "outputs": [],
   "source": [
    "df_patronym[70:75, [:id, :givenname, :patronym]]"
   ]
  },
  {
   "cell_type": "code",
   "execution_count": null,
   "metadata": {},
   "outputs": [],
   "source": [
    "df_item_prop_pym = DataFrame()"
   ]
  },
  {
   "cell_type": "code",
   "execution_count": null,
   "metadata": {},
   "outputs": [],
   "source": [
    "insertcols!(df_item_prop_pym,\n",
    "    :item_id => df_patronym.id,\n",
    "    :name => \"patronym\",\n",
    "    :value => df_patronym.patronym\n",
    ");"
   ]
  },
  {
   "cell_type": "code",
   "execution_count": null,
   "metadata": {},
   "outputs": [],
   "source": [
    "df_item_prop_pym[70:75, :]"
   ]
  },
  {
   "cell_type": "code",
   "execution_count": null,
   "metadata": {},
   "outputs": [],
   "source": [
    "table_name = \"item_property\"\n",
    "file_name = joinpath(out_path, \"$(table_name)_patronym.sql\")\n",
    "Wds.insert_sql(file_name, table_name, df_item_prop_pym)"
   ]
  },
  {
   "cell_type": "markdown",
   "metadata": {},
   "source": [
    "### Suchvarianten eintragen in `name_lookup`.\n",
    "Das Patronym entspricht für die Suche am ehesten einem zweiten Vornamen."
   ]
  },
  {
   "cell_type": "code",
   "execution_count": null,
   "metadata": {},
   "outputs": [],
   "source": [
    "df_person_name = select(df_person_in, [:id, :givenname, :patronym, :familyname]);"
   ]
  },
  {
   "cell_type": "code",
   "execution_count": null,
   "metadata": {},
   "outputs": [],
   "source": [
    "function join_space(a...)\n",
    "    c_a = filter(!ismissing, collect(a))\n",
    "    return join(c_a, \" \")\n",
    "end"
   ]
  },
  {
   "cell_type": "code",
   "execution_count": null,
   "metadata": {},
   "outputs": [],
   "source": [
    "df_name_variant = transform(df_person_name, [:givenname, :patronym] => ByRow(join_space) => :givenname);"
   ]
  },
  {
   "cell_type": "code",
   "execution_count": null,
   "metadata": {},
   "outputs": [],
   "source": [
    "df_name_variant[50:55, :]"
   ]
  },
  {
   "cell_type": "markdown",
   "metadata": {},
   "source": [
    "Füge technisch erforderliche Spalten ein. Erzeuge Einträge für `name_lookup`."
   ]
  },
  {
   "cell_type": "code",
   "execution_count": null,
   "metadata": {},
   "outputs": [],
   "source": [
    "insertcols!(df_name_variant,\n",
    "    :givenname_variant => missing,\n",
    "    :familyname_variant => missing,\n",
    "    :prefix_name => missing,\n",
    "    :lang => \"nl\"\n",
    ");"
   ]
  },
  {
   "cell_type": "code",
   "execution_count": null,
   "metadata": {},
   "outputs": [],
   "source": [
    "df_nl = Wds.create_name_lookup(df_name_variant);"
   ]
  },
  {
   "cell_type": "markdown",
   "metadata": {},
   "source": [
    "Info"
   ]
  },
  {
   "cell_type": "code",
   "execution_count": null,
   "metadata": {},
   "outputs": [],
   "source": [
    "df_gerardus = subset(df_name_variant, :id => ByRow(isequal(203857)))"
   ]
  },
  {
   "cell_type": "code",
   "execution_count": null,
   "metadata": {
    "scrolled": true
   },
   "outputs": [],
   "source": [
    "df_nl[55:60, :]"
   ]
  },
  {
   "cell_type": "code",
   "execution_count": null,
   "metadata": {},
   "outputs": [],
   "source": [
    "names(df_nl)"
   ]
  },
  {
   "cell_type": "code",
   "execution_count": null,
   "metadata": {},
   "outputs": [],
   "source": [
    "table_name = \"name_lookup\"\n",
    "file_name = joinpath(out_path, \"$(table_name).sql\")\n",
    "Wds.insert_sql(file_name, table_name, df_nl)"
   ]
  },
  {
   "cell_type": "markdown",
   "metadata": {},
   "source": [
    "## Ämter"
   ]
  },
  {
   "cell_type": "code",
   "execution_count": null,
   "metadata": {},
   "outputs": [],
   "source": [
    "file_name = joinpath(data_path, \"item.csv\");\n",
    "df_item_db = CSV.read(file_name, DataFrame, delim = ';');"
   ]
  },
  {
   "cell_type": "code",
   "execution_count": null,
   "metadata": {},
   "outputs": [],
   "source": [
    "file_name = joinpath(data_path, \"Ordinations_of_priests_Stapel_BK.csv\");\n",
    "df_priests = CSV.read(file_name, DataFrame, delim = ';', stringtype = String);"
   ]
  },
  {
   "cell_type": "code",
   "execution_count": null,
   "metadata": {},
   "outputs": [],
   "source": [
    "Wds.clean_up!(df_priests)"
   ]
  },
  {
   "cell_type": "code",
   "execution_count": null,
   "metadata": {},
   "outputs": [],
   "source": [
    "size(df_priests, 1)"
   ]
  },
  {
   "cell_type": "code",
   "execution_count": null,
   "metadata": {},
   "outputs": [],
   "source": [
    "df_priests = unique(df_priests);"
   ]
  },
  {
   "cell_type": "code",
   "execution_count": null,
   "metadata": {},
   "outputs": [],
   "source": [
    "df_item_utrecht = subset(df_item_db, :item_type_id => ByRow(isequal(10)));"
   ]
  },
  {
   "cell_type": "code",
   "execution_count": null,
   "metadata": {},
   "outputs": [],
   "source": [
    "size(df_item_utrecht, 1)"
   ]
  },
  {
   "cell_type": "code",
   "execution_count": null,
   "metadata": {},
   "outputs": [],
   "source": [
    "columns = [\n",
    "    :id => :person_id,\n",
    "    :id_in_source => :id_in_source,\n",
    "    :item_type_id => :item_type_id,\n",
    "]"
   ]
  },
  {
   "cell_type": "code",
   "execution_count": null,
   "metadata": {},
   "outputs": [],
   "source": [
    "df_idx = select(df_item_utrecht, columns);"
   ]
  },
  {
   "cell_type": "code",
   "execution_count": null,
   "metadata": {},
   "outputs": [],
   "source": [
    "columns = [\n",
    "    :Priester_ID => :id_in_source,\n",
    "    :Datum => :ordination_date,\n",
    "    Symbol(\"Ort (Locatie)\") => :ordination_place,\n",
    "    :Titel => :title,\n",
    "    Symbol(\"Vorname (Voornaam)\") => :givenname,\n",
    "    Symbol(\"Zweiter Vorname (Patroniem)\") => :patronym,\n",
    "    Symbol(\"(Familienname) Familienaam\") => :familyname,\n",
    "    Symbol(\"Herkunftsort (Toponiem)\") => :place_of_origin,        \n",
    "    Symbol(\"Orden (Orde)\") => :religious_order,\n",
    "    Symbol(\"Amt (Functie)\") => :role_name,\n",
    "    :Instelling => :institution\n",
    "];"
   ]
  },
  {
   "cell_type": "code",
   "execution_count": null,
   "metadata": {},
   "outputs": [],
   "source": [
    "names(df_idx)"
   ]
  },
  {
   "cell_type": "code",
   "execution_count": null,
   "metadata": {},
   "outputs": [],
   "source": [
    "df_priests_with_role = subset(select(df_priests, columns), :role_name => ByRow(!ismissing));"
   ]
  },
  {
   "cell_type": "code",
   "execution_count": null,
   "metadata": {},
   "outputs": [],
   "source": [
    "df_person_role = innerjoin(\n",
    "    df_priests_with_role,\n",
    "    df_idx,\n",
    "    on = :id_in_source\n",
    ");"
   ]
  },
  {
   "cell_type": "code",
   "execution_count": null,
   "metadata": {},
   "outputs": [],
   "source": [
    "size(df_person_role, 1), size(df_priests, 1), size(df_idx, 1)"
   ]
  },
  {
   "cell_type": "markdown",
   "metadata": {},
   "source": [
    "Setze Diözese 'Utrecht', ID = 53"
   ]
  },
  {
   "cell_type": "code",
   "execution_count": null,
   "metadata": {},
   "outputs": [],
   "source": [
    "insertcols!(df_person_role, :diocese_id => 53, :diocese_name => \"Utrecht\");"
   ]
  },
  {
   "cell_type": "code",
   "execution_count": null,
   "metadata": {},
   "outputs": [],
   "source": [
    "df_person_role[30:35, [:id_in_source, :givenname, :familyname, :role_name, :diocese_name, :diocese_id]]"
   ]
  },
  {
   "cell_type": "markdown",
   "metadata": {},
   "source": [
    "### Rollen zuordnen"
   ]
  },
  {
   "cell_type": "code",
   "execution_count": null,
   "metadata": {},
   "outputs": [],
   "source": [
    "file_name = joinpath(data_path, \"role.csv\");\n",
    "df_role = CSV.read(file_name, DataFrame);"
   ]
  },
  {
   "cell_type": "code",
   "execution_count": null,
   "metadata": {},
   "outputs": [],
   "source": [
    "names(df_role)"
   ]
  },
  {
   "cell_type": "code",
   "execution_count": null,
   "metadata": {},
   "outputs": [],
   "source": [
    "df_person_role = leftjoin(df_person_role, \n",
    "    select(df_role, [:id => :role_id, :name => :role_name_norm]), \n",
    "    on = :role_name => :role_name_norm);"
   ]
  },
  {
   "cell_type": "code",
   "execution_count": null,
   "metadata": {},
   "outputs": [],
   "source": [
    "count(ismissing, df_person_role.role_id)"
   ]
  },
  {
   "cell_type": "code",
   "execution_count": null,
   "metadata": {},
   "outputs": [],
   "source": [
    "columns = [\n",
    "    :person_id, :id_in_source, :title, :givenname, :patronym, :familyname, :role_name, :role_id\n",
    "];"
   ]
  },
  {
   "cell_type": "code",
   "execution_count": null,
   "metadata": {},
   "outputs": [],
   "source": [
    "subset(select(df_person_role, columns), :role_id => ByRow(ismissing))"
   ]
  },
  {
   "cell_type": "code",
   "execution_count": null,
   "metadata": {},
   "outputs": [],
   "source": [
    "names(df_person_role)"
   ]
  },
  {
   "cell_type": "code",
   "execution_count": null,
   "metadata": {},
   "outputs": [],
   "source": [
    "columns = [\n",
    "    :person_id => :person_id,\n",
    "    :role_id => :role_id,\n",
    "    :role_name => :role_name,\n",
    "    :diocese_id => :diocese_id,\n",
    "    :diocese_name => :diocese_name,\n",
    "    :institution => :institution_name,\n",
    "];"
   ]
  },
  {
   "cell_type": "code",
   "execution_count": null,
   "metadata": {},
   "outputs": [],
   "source": [
    "df_person_role_out = select(df_person_role, columns);"
   ]
  },
  {
   "cell_type": "code",
   "execution_count": null,
   "metadata": {},
   "outputs": [],
   "source": [
    "table_name = \"person_role\"\n",
    "file_name = joinpath(out_path, \"$(table_name).sql\")\n",
    "Wds.insert_sql(file_name, table_name, df_person_role_out)"
   ]
  },
  {
   "cell_type": "markdown",
   "metadata": {},
   "source": [
    "Dateien zusammenfügen"
   ]
  },
  {
   "cell_type": "code",
   "execution_count": null,
   "metadata": {},
   "outputs": [],
   "source": [
    "function cat_sql(file_out, file_in...; path = \".\")    \n",
    "    open(joinpath(path, file_out), \"w\") do io_out\n",
    "        for file_loop in file_in            \n",
    "            open(joinpath(path, file_loop)) do io_in\n",
    "                write(io_out, read(io_in))\n",
    "            end\n",
    "        end\n",
    "    end\n",
    "end"
   ]
  },
  {
   "cell_type": "markdown",
   "metadata": {},
   "source": [
    "Inhalte, die unabhängig sind von einzelnen Personen: `item_type.sql`, `reference_volume.sql`"
   ]
  },
  {
   "cell_type": "markdown",
   "metadata": {},
   "source": [
    "Inhalte für die einzelnen Priester. (Tabelle `item` muss schon im Prozess geschrieben und gelesen worden sein)."
   ]
  },
  {
   "cell_type": "code",
   "execution_count": null,
   "metadata": {},
   "outputs": [],
   "source": [
    "file_out = \"item_x.sql\"\n",
    "cat_sql(file_out,\n",
    "    \"item_property.sql\",\n",
    "    \"item_property_patronym.sql\",\n",
    "    \"item_reference.sql\",\n",
    "    path = out_path,\n",
    ")"
   ]
  },
  {
   "cell_type": "code",
   "execution_count": null,
   "metadata": {},
   "outputs": [],
   "source": [
    "file_out = \"person_x.sql\"\n",
    "cat_sql(file_out,\n",
    "    \"person.sql\",\n",
    "    \"person_role.sql\",\n",
    "    \"name_lookup.sql\",\n",
    "    path = out_path,\n",
    ")"
   ]
  }
 ],
 "metadata": {
  "kernelspec": {
   "display_name": "Julia 1.7.0",
   "language": "julia",
   "name": "julia-1.7"
  },
  "language_info": {
   "file_extension": ".jl",
   "mimetype": "application/julia",
   "name": "julia",
   "version": "1.7.0"
  }
 },
 "nbformat": 4,
 "nbformat_minor": 4
}
