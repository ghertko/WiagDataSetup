{
 "cells": [
  {
   "cell_type": "markdown",
   "metadata": {},
   "source": [
    "# Wissensaggregator Mittelalter und frühe Neuzeit\n",
    "\n",
    "WIAGweb2  \n",
    "Daten für Utrechter Priester aus Excel einlesen\n",
    "\n",
    "[Neuen Typ anlegen](#Neuen-Typ-anlegen)  \n",
    "[Literatur](#Literatur)    \n",
    "Priester  \n",
    "- [Einträge in `item`](#Einträge-in-item)\n",
    "- [Daten eintragen](#Daten-eintragen)\n",
    "- [Freie Attribute](#Freie-Attribute)\n",
    "- [Literaturverweise eintragen](#Literaturverweise-eintragen)\n",
    "- [Namensvarianten eintragen](#Namensvarianten-eintragen)\n",
    "- [Suchvarianten eintragen (`name_lookup`)](#Suchvarianten-eintragen-(name_lookup))\n",
    "\n",
    "[Ämter](#Ämter)"
   ]
  },
  {
   "cell_type": "markdown",
   "metadata": {},
   "source": [
    "## Vorspann\n",
    "\n",
    "Modul laden"
   ]
  },
  {
   "cell_type": "code",
   "execution_count": 1,
   "metadata": {},
   "outputs": [
    {
     "data": {
      "text/plain": [
       "\"../..\""
      ]
     },
     "execution_count": 1,
     "metadata": {},
     "output_type": "execute_result"
    }
   ],
   "source": [
    "wds_path = \"../..\""
   ]
  },
  {
   "cell_type": "code",
   "execution_count": 2,
   "metadata": {},
   "outputs": [],
   "source": [
    "cd(wds_path)"
   ]
  },
  {
   "cell_type": "code",
   "execution_count": 3,
   "metadata": {},
   "outputs": [],
   "source": [
    "using Pkg"
   ]
  },
  {
   "cell_type": "code",
   "execution_count": 4,
   "metadata": {},
   "outputs": [
    {
     "name": "stderr",
     "output_type": "stream",
     "text": [
      "\u001b[32m\u001b[1m  Activating\u001b[22m\u001b[39m project at `C:\\Users\\georg\\Documents\\projekte\\WiagDataSetup.jl`\n"
     ]
    }
   ],
   "source": [
    "Pkg.activate(\".\")"
   ]
  },
  {
   "cell_type": "code",
   "execution_count": 5,
   "metadata": {},
   "outputs": [],
   "source": [
    "# using Revise"
   ]
  },
  {
   "cell_type": "code",
   "execution_count": 6,
   "metadata": {},
   "outputs": [],
   "source": [
    "using WiagDataSetup"
   ]
  },
  {
   "cell_type": "code",
   "execution_count": 7,
   "metadata": {},
   "outputs": [
    {
     "data": {
      "text/plain": [
       "WiagDataSetup"
      ]
     },
     "execution_count": 7,
     "metadata": {},
     "output_type": "execute_result"
    }
   ],
   "source": [
    "Wds = WiagDataSetup"
   ]
  },
  {
   "cell_type": "code",
   "execution_count": 8,
   "metadata": {},
   "outputs": [],
   "source": [
    "using DataFrames, CSV, Dates"
   ]
  },
  {
   "cell_type": "code",
   "execution_count": 9,
   "metadata": {},
   "outputs": [
    {
     "data": {
      "text/plain": [
       "120"
      ]
     },
     "execution_count": 9,
     "metadata": {},
     "output_type": "execute_result"
    }
   ],
   "source": [
    "ENV[\"COLUMNS\"] = 120 # Anzeige/Ausgabe für die Inhalte von DataFrames vergrößern"
   ]
  },
  {
   "cell_type": "code",
   "execution_count": 10,
   "metadata": {},
   "outputs": [
    {
     "data": {
      "text/plain": [
       "\"C:/Users/georg/Documents/projekte-doc/Utrecht-Priester/data_sql\""
      ]
     },
     "execution_count": 10,
     "metadata": {},
     "output_type": "execute_result"
    }
   ],
   "source": [
    "computer = :bkroege_goe\n",
    "computer = :ghertko_kn\n",
    "if computer == :bkroege_goe\n",
    "    data_path = \"../data\"\n",
    "    out_path = \"../data_sql\"\n",
    "else\n",
    "    data_path = \"C:/Users/georg/Documents/projekte-doc/Utrecht-Priester/data\"\n",
    "    out_path = \"C:/Users/georg/Documents/projekte-doc/Utrecht-Priester/data_sql\"\n",
    "end"
   ]
  },
  {
   "cell_type": "code",
   "execution_count": 11,
   "metadata": {},
   "outputs": [
    {
     "data": {
      "text/plain": [
       "10"
      ]
     },
     "execution_count": 11,
     "metadata": {},
     "output_type": "execute_result"
    }
   ],
   "source": [
    "item_type_id = 10"
   ]
  },
  {
   "cell_type": "markdown",
   "metadata": {},
   "source": [
    "## Daten löschen\n",
    "z.B. für ein komplettes Update"
   ]
  },
  {
   "cell_type": "code",
   "execution_count": null,
   "metadata": {},
   "outputs": [],
   "source": [
    "sql_item_ids = \"SELECT ID FROM item WHERE item_type_id = $(item_type_id)\"\n",
    "sql = \"\n",
    "DELETE FROM person_role WHERE person_id in ($(sql_item_ids));\n",
    "DELETE FROM name_lookup WHERE person_id in ($(sql_item_ids));\n",
    "DELETE FROM person WHERE id in ($(sql_item_ids));\n",
    "DELETE FROM item_property WHERE item_id in ($(sql_item_ids));\n",
    "DELETE FROM item_reference WHERE item_id in ($(sql_item_ids));\n",
    "DELETE FROM item WHERE item_type_id = $(item_type_id);\n",
    "\"\n",
    "file_name = joinpath(out_path, \"delete_item_type_$(item_type_id).sql\")\n",
    "open(file_name, \"w\") do io\n",
    "    println(io, sql)\n",
    "end"
   ]
  },
  {
   "cell_type": "markdown",
   "metadata": {},
   "source": [
    "## Neuen Typ anlegen\n",
    "\n",
    "(einmalig)"
   ]
  },
  {
   "cell_type": "markdown",
   "metadata": {},
   "source": [
    "einlesen aus CSV"
   ]
  },
  {
   "cell_type": "code",
   "execution_count": null,
   "metadata": {},
   "outputs": [],
   "source": [
    "file_name = joinpath(data_path, \"item_type.csv\");\n",
    "df_item_type = CSV.read(file_name, DataFrame, delim = ';')"
   ]
  },
  {
   "cell_type": "code",
   "execution_count": null,
   "metadata": {},
   "outputs": [],
   "source": [
    "create_date(date_time) = typeof(date_time) == DateTime ? date_time : DateTime(date_time, dateformat\"dd.mm.yy HH:MM\")"
   ]
  },
  {
   "cell_type": "code",
   "execution_count": null,
   "metadata": {},
   "outputs": [],
   "source": [
    "transform!(df_item_type, :date_created => ByRow(create_date) => :date_created);"
   ]
  },
  {
   "cell_type": "code",
   "execution_count": null,
   "metadata": {},
   "outputs": [],
   "source": [
    "transform!(df_item_type, :date_changed => ByRow(create_date) => :date_changed);"
   ]
  },
  {
   "cell_type": "code",
   "execution_count": null,
   "metadata": {},
   "outputs": [],
   "source": [
    "names(df_item_type)"
   ]
  },
  {
   "cell_type": "markdown",
   "metadata": {},
   "source": [
    "alternativ: direkt erstellen"
   ]
  },
  {
   "cell_type": "code",
   "execution_count": null,
   "metadata": {},
   "outputs": [],
   "source": [
    "df_item_type = DataFrame();"
   ]
  },
  {
   "cell_type": "code",
   "execution_count": null,
   "metadata": {},
   "outputs": [],
   "source": [
    "insertcols!(df_item_type,\n",
    "    :id => item_type_id,\n",
    "    :comment => missing,\n",
    "    :name => \"Priester Utrecht\",\n",
    "    :note => \"Priester des Bistums Utrecht nach Stapel\",\n",
    "    :table_name => \"person\",\n",
    "    :id_public_key => \"Pers-PRIESTUtrecht\",\n",
    "    :name_app => \"priest_ut\",\n",
    "    :created_by => 2,\n",
    "    :date_created => now(),\n",
    "    :changed_by => 2,\n",
    "    :date_changed => now(),\n",
    ")"
   ]
  },
  {
   "cell_type": "code",
   "execution_count": null,
   "metadata": {},
   "outputs": [],
   "source": [
    "file_name = joinpath(out_path, \"item_type.sql\")\n",
    "Wds.insert_sql(file_name, \"item_type\", df_item_type)"
   ]
  },
  {
   "cell_type": "markdown",
   "metadata": {},
   "source": [
    "## Literatur"
   ]
  },
  {
   "cell_type": "code",
   "execution_count": 12,
   "metadata": {},
   "outputs": [],
   "source": [
    "df_reference_volume = DataFrame();"
   ]
  },
  {
   "cell_type": "code",
   "execution_count": 13,
   "metadata": {},
   "outputs": [
    {
     "data": {
      "text/html": [
       "<div class=\"data-frame\"><p>1 rows × 16 columns (omitted printing of 13 columns)</p><table class=\"data-frame\"><thead><tr><th></th><th>id</th><th>comment</th><th>full_citation</th></tr><tr><th></th><th title=\"Missing\">Missing</th><th title=\"Missing\">Missing</th><th title=\"String\">String</th></tr></thead><tbody><tr><th>1</th><td><em>missing</em></td><td><em>missing</em></td><td>Stapel, R.J. (2020) Ordinations of priests in the medieval diocese of Utrecht (1505-1518). IISH Data Collection.</td></tr></tbody></table></div>"
      ],
      "text/latex": [
       "\\begin{tabular}{r|cccc}\n",
       "\t& id & comment & full\\_citation & \\\\\n",
       "\t\\hline\n",
       "\t& Missing & Missing & String & \\\\\n",
       "\t\\hline\n",
       "\t1 & \\emph{missing} & \\emph{missing} & Stapel, R.J. (2020) Ordinations of priests in the medieval diocese of Utrecht (1505-1518). IISH Data Collection. & $\\dots$ \\\\\n",
       "\\end{tabular}\n"
      ],
      "text/plain": [
       "\u001b[1m1×16 DataFrame\u001b[0m\n",
       "\u001b[1m Row \u001b[0m│\u001b[1m id      \u001b[0m\u001b[1m comment \u001b[0m\u001b[1m full_citation                     \u001b[0m\n",
       "\u001b[1m     \u001b[0m│\u001b[90m Missing \u001b[0m\u001b[90m Missing \u001b[0m\u001b[90m String                            \u001b[0m\n",
       "─────┼────────────────────────────────────────────────────────────────────────────────────────────\n",
       "   1 │\u001b[90m missing \u001b[0m\u001b[90m missing \u001b[0m Stapel, R.J. (2020) Ordinations …\n",
       "\u001b[36m                                                                                13 columns omitted\u001b[0m"
      ]
     },
     "execution_count": 13,
     "metadata": {},
     "output_type": "execute_result"
    }
   ],
   "source": [
    "insertcols!(df_reference_volume,\n",
    "    :id => missing, # wird automatisch vergeben\n",
    "    :comment => missing,\n",
    "    :full_citation => \"Stapel, R.J. (2020) Ordinations of priests in the medieval diocese of Utrecht (1505-1518). IISH Data Collection.\",\n",
    "    :title_short => \"Stapel, Ordinations of priests in the medieval diocese of Utrecht (1505-1518)\",\n",
    "    :author_editor => \"Rombert Stapel\",\n",
    "    :note => missing,\n",
    "    :ri_opac_id => missing,\n",
    "    :isbn => missing,\n",
    "    :year_publication => \"2020\",\n",
    "    :display_order => 1,\n",
    "    :gs_volume_nr => missing,\n",
    "    :gs_doi => missing,\n",
    "    :gs_url => missing,\n",
    "    :online_resource => \"https://hdl.handle.net/10622/IEYIUX\",\n",
    "    :reference_id => 1,\n",
    "    :item_type_id => item_type_id\n",
    ")"
   ]
  },
  {
   "cell_type": "code",
   "execution_count": 14,
   "metadata": {},
   "outputs": [
    {
     "data": {
      "text/plain": [
       "1"
      ]
     },
     "execution_count": 14,
     "metadata": {},
     "output_type": "execute_result"
    }
   ],
   "source": [
    "file_name = joinpath(out_path, \"reference_volume.sql\")\n",
    "Wds.insert_sql(file_name, \"reference_volume\", df_reference_volume)"
   ]
  },
  {
   "cell_type": "markdown",
   "metadata": {},
   "source": [
    "## Einträge in `item`"
   ]
  },
  {
   "cell_type": "markdown",
   "metadata": {},
   "source": [
    "Daten für die Priester einlesen.\n",
    "\n",
    "Exportiere die Daten aus Excel über \"Speichern unter\" im Format \"CSV UTF-8\" (Auswahlfeld Dateityp)"
   ]
  },
  {
   "cell_type": "code",
   "execution_count": null,
   "metadata": {},
   "outputs": [],
   "source": [
    "file_name = joinpath(data_path, \"Ordinations_of_priests_Stapel_BK.csv\");\n",
    "df_priests = CSV.read(file_name, DataFrame, delim = ';', stringtype = String);"
   ]
  },
  {
   "cell_type": "code",
   "execution_count": null,
   "metadata": {},
   "outputs": [],
   "source": [
    "Wds.clean_up!(df_priests)"
   ]
  },
  {
   "cell_type": "code",
   "execution_count": null,
   "metadata": {},
   "outputs": [],
   "source": [
    "size(df_priests, 1)"
   ]
  },
  {
   "cell_type": "code",
   "execution_count": null,
   "metadata": {},
   "outputs": [],
   "source": [
    "df_priests = unique(df_priests);"
   ]
  },
  {
   "cell_type": "markdown",
   "metadata": {},
   "source": [
    "Der Datensatz einhält Zeilen, die in allen Feldern übereinstimmen."
   ]
  },
  {
   "cell_type": "code",
   "execution_count": null,
   "metadata": {},
   "outputs": [],
   "source": [
    "size(df_priests, 1)"
   ]
  },
  {
   "cell_type": "code",
   "execution_count": null,
   "metadata": {},
   "outputs": [],
   "source": [
    "names(df_priests)"
   ]
  },
  {
   "cell_type": "code",
   "execution_count": null,
   "metadata": {},
   "outputs": [],
   "source": [
    "columns = [\n",
    "    :Priester_ID, \n",
    "    :Datum, \n",
    "    :Titel, \n",
    "    Symbol(\"Vorname (Voornaam)\"), \n",
    "    Symbol(\"(Familienname) Familienaam\")\n",
    "]"
   ]
  },
  {
   "cell_type": "code",
   "execution_count": null,
   "metadata": {},
   "outputs": [],
   "source": [
    "df_priests[100:105, columns]"
   ]
  },
  {
   "cell_type": "code",
   "execution_count": null,
   "metadata": {},
   "outputs": [],
   "source": [
    "columns = [\n",
    "    :Priester_ID => :id_in_source,\n",
    "]"
   ]
  },
  {
   "cell_type": "code",
   "execution_count": null,
   "metadata": {},
   "outputs": [],
   "source": [
    "df_item = select(df_priests, columns);"
   ]
  },
  {
   "cell_type": "markdown",
   "metadata": {},
   "source": [
    "Verwende nur den Nummern-Teil der ID für die WIAG-ID"
   ]
  },
  {
   "cell_type": "code",
   "execution_count": null,
   "metadata": {},
   "outputs": [],
   "source": [
    "get_id_num(id_long) = replace(id_long, \"id_\" => \"\")"
   ]
  },
  {
   "cell_type": "code",
   "execution_count": null,
   "metadata": {},
   "outputs": [],
   "source": [
    "transform!(df_item, :id_in_source => ByRow(get_id_num) => :id_num_in_source);"
   ]
  },
  {
   "cell_type": "code",
   "execution_count": null,
   "metadata": {},
   "outputs": [],
   "source": [
    "maximum(length.(df_item.id_num_in_source))"
   ]
  },
  {
   "cell_type": "code",
   "execution_count": null,
   "metadata": {},
   "outputs": [],
   "source": [
    "id_public_key = df_item_type[1, :id_public_key]"
   ]
  },
  {
   "cell_type": "code",
   "execution_count": null,
   "metadata": {},
   "outputs": [],
   "source": [
    "function make_id_public(id)        \n",
    "    num_id_length = 10\n",
    "    return \"WIAG-\" * id_public_key * \"-\" * lpad(id, num_id_length, '0')\n",
    "end"
   ]
  },
  {
   "cell_type": "code",
   "execution_count": null,
   "metadata": {},
   "outputs": [],
   "source": [
    "transform!(df_item, :id_num_in_source => ByRow(make_id_public) => :id_public);"
   ]
  },
  {
   "cell_type": "code",
   "execution_count": null,
   "metadata": {},
   "outputs": [],
   "source": [
    "df_item[200:205, :]"
   ]
  },
  {
   "cell_type": "markdown",
   "metadata": {},
   "source": [
    "Der Wert für `lang` ist das Kürzel für die Sprache der Quelle also `nl`?!"
   ]
  },
  {
   "cell_type": "code",
   "execution_count": null,
   "metadata": {},
   "outputs": [],
   "source": [
    "insertcols!(df_item,\n",
    "    :id => missing,\n",
    "    :item_type_id => item_type_id,\n",
    "    :comment => missing,\n",
    "    :merged_into_id => missing,\n",
    "    :edit_status => \"online\",\n",
    "    :created_by => 2,\n",
    "    :date_created => now(),\n",
    "    :changed_by => 2,\n",
    "    :date_changed => now(),\n",
    "    :is_deleted => 0,\n",
    "    :normdata_edited_by => missing,\n",
    "    :lang => \"nl\",\n",
    "    :is_online => 1\n",
    ");"
   ]
  },
  {
   "cell_type": "code",
   "execution_count": null,
   "metadata": {
    "scrolled": false
   },
   "outputs": [],
   "source": [
    "df_item[200:205, :]"
   ]
  },
  {
   "cell_type": "code",
   "execution_count": null,
   "metadata": {},
   "outputs": [],
   "source": [
    "table_name = \"item\"\n",
    "file_name = joinpath(out_path, \"$(table_name).sql\")\n",
    "Wds.insert_sql(file_name, table_name, select(df_item, Not(:id_num_in_source)))"
   ]
  },
  {
   "cell_type": "markdown",
   "metadata": {},
   "source": [
    "Importiere `item.sql` via phpMyAdmin in die Datenbank.  "
   ]
  },
  {
   "cell_type": "markdown",
   "metadata": {},
   "source": [
    "## Daten eintragen"
   ]
  },
  {
   "cell_type": "markdown",
   "metadata": {},
   "source": [
    "Exportiere die Tabelle `item` aus der Datenbank via phpMyAdmin mit den Optionen: \"Spaltennamen in die erste Zeile setzen\" und \"Spalten trennen mit ';'\" als Trennzeichen."
   ]
  },
  {
   "cell_type": "code",
   "execution_count": 12,
   "metadata": {},
   "outputs": [],
   "source": [
    "if computer == :bkroege_goe \n",
    "    file_name = joinpath(data_path, \"item.csv\");\n",
    "else\n",
    "    file_name = joinpath(data_path, \"item_local.csv\")\n",
    "end\n",
    "df_item_db = CSV.read(file_name, DataFrame, delim = ';');"
   ]
  },
  {
   "cell_type": "code",
   "execution_count": 13,
   "metadata": {},
   "outputs": [],
   "source": [
    "file_name = joinpath(data_path, \"Ordinations_of_priests_Stapel_BK.csv\");\n",
    "df_priests = CSV.read(file_name, DataFrame, delim = ';', stringtype = String);"
   ]
  },
  {
   "cell_type": "code",
   "execution_count": 14,
   "metadata": {},
   "outputs": [],
   "source": [
    "Wds.clean_up!(df_priests)"
   ]
  },
  {
   "cell_type": "code",
   "execution_count": 15,
   "metadata": {},
   "outputs": [
    {
     "data": {
      "text/plain": [
       "5255"
      ]
     },
     "execution_count": 15,
     "metadata": {},
     "output_type": "execute_result"
    }
   ],
   "source": [
    "size(df_priests, 1)"
   ]
  },
  {
   "cell_type": "code",
   "execution_count": 16,
   "metadata": {},
   "outputs": [],
   "source": [
    "df_priests = unique(df_priests);"
   ]
  },
  {
   "cell_type": "code",
   "execution_count": 17,
   "metadata": {},
   "outputs": [],
   "source": [
    "df_item_utrecht = subset(df_item_db, :item_type_id => ByRow(isequal(item_type_id)));"
   ]
  },
  {
   "cell_type": "code",
   "execution_count": 18,
   "metadata": {},
   "outputs": [
    {
     "data": {
      "text/plain": [
       "3958"
      ]
     },
     "execution_count": 18,
     "metadata": {},
     "output_type": "execute_result"
    }
   ],
   "source": [
    "size(df_item_utrecht, 1)"
   ]
  },
  {
   "cell_type": "code",
   "execution_count": 19,
   "metadata": {},
   "outputs": [],
   "source": [
    "df_idx = df_item_utrecht[:, [:id, :id_in_source, :item_type_id]];"
   ]
  },
  {
   "cell_type": "code",
   "execution_count": 20,
   "metadata": {},
   "outputs": [
    {
     "data": {
      "text/plain": [
       "11-element Vector{String}:\n",
       " \"Priester_ID\"\n",
       " \"Datum\"\n",
       " \"Ort (Locatie)\"\n",
       " \"Titel\"\n",
       " \"Vorname (Voornaam)\"\n",
       " \"Zweiter Vorname (Patroniem)\"\n",
       " \"(Familienname) Familienaam\"\n",
       " \"Herkunftsort (Toponiem)\"\n",
       " \"Orden (Orde)\"\n",
       " \"Amt (Functie)\"\n",
       " \"Instelling\""
      ]
     },
     "execution_count": 20,
     "metadata": {},
     "output_type": "execute_result"
    }
   ],
   "source": [
    "names(df_priests)"
   ]
  },
  {
   "cell_type": "code",
   "execution_count": 21,
   "metadata": {},
   "outputs": [],
   "source": [
    "columns = [\n",
    "    :Priester_ID => :id_in_source,\n",
    "    :Datum => :ordination_date,\n",
    "    Symbol(\"Ort (Locatie)\") => :ordination_place,\n",
    "    :Titel => :title,\n",
    "    Symbol(\"Vorname (Voornaam)\") => :givenname,\n",
    "    Symbol(\"Zweiter Vorname (Patroniem)\") => :patronym,\n",
    "    Symbol(\"(Familienname) Familienaam\") => :familyname,\n",
    "    Symbol(\"Herkunftsort (Toponiem)\") => :place_of_origin,        \n",
    "    Symbol(\"Orden (Orde)\") => :religious_order,\n",
    "    Symbol(\"Amt (Functie)\") => :role_name,\n",
    "    :Instelling => :institution\n",
    "];"
   ]
  },
  {
   "cell_type": "code",
   "execution_count": 22,
   "metadata": {},
   "outputs": [],
   "source": [
    "df_person_in = innerjoin(\n",
    "    select(df_priests, columns),\n",
    "    df_idx,\n",
    "    on = :id_in_source\n",
    ");"
   ]
  },
  {
   "cell_type": "code",
   "execution_count": 23,
   "metadata": {},
   "outputs": [
    {
     "data": {
      "text/plain": [
       "(3958, 3958, 3958)"
      ]
     },
     "execution_count": 23,
     "metadata": {},
     "output_type": "execute_result"
    }
   ],
   "source": [
    "size(df_person_in, 1), size(df_priests, 1), size(df_idx, 1)"
   ]
  },
  {
   "cell_type": "markdown",
   "metadata": {},
   "source": [
    "### Identifiziere Orden"
   ]
  },
  {
   "cell_type": "code",
   "execution_count": 46,
   "metadata": {},
   "outputs": [],
   "source": [
    "file_name = joinpath(data_path, \"religious_order.csv\")\n",
    "df_ro = CSV.read(file_name, DataFrame, delim = \";\");"
   ]
  },
  {
   "cell_type": "code",
   "execution_count": 47,
   "metadata": {},
   "outputs": [],
   "source": [
    "df_item_ro = subset(df_item_db, :item_type_id => ByRow(isequal(7)));"
   ]
  },
  {
   "cell_type": "code",
   "execution_count": 48,
   "metadata": {},
   "outputs": [],
   "source": [
    "df_ro_id = innerjoin(df_ro, select(df_item_db, [:id, :item_type_id, :id_in_source]), on = :id);"
   ]
  },
  {
   "cell_type": "markdown",
   "metadata": {},
   "source": [
    "Info"
   ]
  },
  {
   "cell_type": "code",
   "execution_count": 49,
   "metadata": {},
   "outputs": [
    {
     "data": {
      "text/html": [
       "<div class=\"data-frame\"><p>30 rows × 7 columns</p><table class=\"data-frame\"><thead><tr><th></th><th>id</th><th>comment</th><th>name</th><th>abbreviation</th><th>note</th><th>item_type_id</th><th>id_in_source</th></tr><tr><th></th><th title=\"Int64\">Int64</th><th title=\"Union{Missing, String31}\">String31?</th><th title=\"Missing\">Missing</th><th title=\"Union{Missing, String7}\">String7?</th><th title=\"Missing\">Missing</th><th title=\"Int64\">Int64</th><th title=\"String15\">String15</th></tr></thead><tbody><tr><th>1</th><td>5309</td><td><em>missing</em></td><td><em>missing</em></td><td>OP</td><td><em>missing</em></td><td>7</td><td>13</td></tr><tr><th>2</th><td>5310</td><td><em>missing</em></td><td><em>missing</em></td><td>OFM</td><td><em>missing</em></td><td>7</td><td>7</td></tr><tr><th>3</th><td>5311</td><td><em>missing</em></td><td><em>missing</em></td><td>OPraem</td><td><em>missing</em></td><td>7</td><td>14</td></tr><tr><th>4</th><td>5312</td><td><em>missing</em></td><td><em>missing</em></td><td>OT</td><td><em>missing</em></td><td>7</td><td>22</td></tr><tr><th>5</th><td>5313</td><td><em>missing</em></td><td><em>missing</em></td><td>OSB</td><td><em>missing</em></td><td>7</td><td>16</td></tr><tr><th>6</th><td>5314</td><td><em>missing</em></td><td><em>missing</em></td><td>OCist</td><td><em>missing</em></td><td>7</td><td>5</td></tr><tr><th>7</th><td>5315</td><td><em>missing</em></td><td><em>missing</em></td><td>OESA</td><td><em>missing</em></td><td>7</td><td>106</td></tr><tr><th>8</th><td>5316</td><td><em>missing</em></td><td><em>missing</em></td><td>OCarm</td><td><em>missing</em></td><td>7</td><td>3</td></tr><tr><th>9</th><td>5317</td><td><em>missing</em></td><td><em>missing</em></td><td>CanA</td><td><em>missing</em></td><td>7</td><td>1</td></tr><tr><th>10</th><td>5318</td><td><em>missing</em></td><td><em>missing</em></td><td>SJ</td><td><em>missing</em></td><td>7</td><td>23</td></tr><tr><th>11</th><td>5319</td><td><em>missing</em></td><td><em>missing</em></td><td>OMel</td><td><em>missing</em></td><td>7</td><td>12</td></tr><tr><th>12</th><td>5320</td><td><em>missing</em></td><td><em>missing</em></td><td>OSA</td><td><em>missing</em></td><td>7</td><td>36</td></tr><tr><th>13</th><td>5321</td><td><em>missing</em></td><td><em>missing</em></td><td>OSM</td><td><em>missing</em></td><td>7</td><td>41</td></tr><tr><th>14</th><td>5322</td><td><em>missing</em></td><td><em>missing</em></td><td>OFMObs</td><td><em>missing</em></td><td>7</td><td>107</td></tr><tr><th>15</th><td>5323</td><td><em>missing</em></td><td><em>missing</em></td><td>OFMCap</td><td><em>missing</em></td><td>7</td><td>8</td></tr><tr><th>16</th><td>5324</td><td><em>missing</em></td><td><em>missing</em></td><td>OFMConv</td><td><em>missing</em></td><td>7</td><td>108</td></tr><tr><th>17</th><td>5325</td><td><em>missing</em></td><td><em>missing</em></td><td>OFMRec</td><td><em>missing</em></td><td>7</td><td>109</td></tr><tr><th>18</th><td>5326</td><td><em>missing</em></td><td><em>missing</em></td><td>OCart</td><td><em>missing</em></td><td>7</td><td>4</td></tr><tr><th>19</th><td>5327</td><td><em>missing</em></td><td><em>missing</em></td><td>OSH</td><td><em>missing</em></td><td>7</td><td>61</td></tr><tr><th>20</th><td>5328</td><td><em>missing</em></td><td><em>missing</em></td><td>ORC</td><td><em>missing</em></td><td>7</td><td>110</td></tr><tr><th>21</th><td>5329</td><td><em>missing</em></td><td><em>missing</em></td><td>Otheat</td><td><em>missing</em></td><td>7</td><td>96</td></tr><tr><th>22</th><td>92259</td><td><em>missing</em></td><td><em>missing</em></td><td>CRVC</td><td><em>missing</em></td><td>7</td><td>46</td></tr><tr><th>23</th><td>176167</td><td>ordinis sancti Wilhelmi</td><td><em>missing</em></td><td>OESG</td><td><em>missing</em></td><td>7</td><td>6</td></tr><tr><th>24</th><td>176168</td><td>ordinis sancte Bregitte</td><td><em>missing</em></td><td>OSBirg</td><td><em>missing</em></td><td>7</td><td>17</td></tr><tr><th>25</th><td>176169</td><td>ordinis Cruciferorum</td><td><em>missing</em></td><td>OSC</td><td><em>missing</em></td><td>7</td><td>18</td></tr><tr><th>26</th><td>176170</td><td>ordinis tercii</td><td><em>missing</em></td><td>TOF</td><td><em>missing</em></td><td>7</td><td>24</td></tr><tr><th>27</th><td>176171</td><td>canonicus Regularis</td><td><em>missing</em></td><td><em>missing</em></td><td><em>missing</em></td><td>7</td><td>113</td></tr><tr><th>28</th><td>176172</td><td>ordinis fratrum Minorum</td><td><em>missing</em></td><td><em>missing</em></td><td><em>missing</em></td><td>7</td><td>115</td></tr><tr><th>29</th><td>176173</td><td>canonicus</td><td><em>missing</em></td><td><em>missing</em></td><td><em>missing</em></td><td>7</td><td>116</td></tr><tr><th>30</th><td>176174</td><td>ordinis Augustinensium</td><td><em>missing</em></td><td><em>missing</em></td><td><em>missing</em></td><td>7</td><td>130</td></tr></tbody></table></div>"
      ],
      "text/latex": [
       "\\begin{tabular}{r|ccccccc}\n",
       "\t& id & comment & name & abbreviation & note & item\\_type\\_id & id\\_in\\_source\\\\\n",
       "\t\\hline\n",
       "\t& Int64 & String31? & Missing & String7? & Missing & Int64 & String15\\\\\n",
       "\t\\hline\n",
       "\t1 & 5309 & \\emph{missing} & \\emph{missing} & OP & \\emph{missing} & 7 & 13 \\\\\n",
       "\t2 & 5310 & \\emph{missing} & \\emph{missing} & OFM & \\emph{missing} & 7 & 7 \\\\\n",
       "\t3 & 5311 & \\emph{missing} & \\emph{missing} & OPraem & \\emph{missing} & 7 & 14 \\\\\n",
       "\t4 & 5312 & \\emph{missing} & \\emph{missing} & OT & \\emph{missing} & 7 & 22 \\\\\n",
       "\t5 & 5313 & \\emph{missing} & \\emph{missing} & OSB & \\emph{missing} & 7 & 16 \\\\\n",
       "\t6 & 5314 & \\emph{missing} & \\emph{missing} & OCist & \\emph{missing} & 7 & 5 \\\\\n",
       "\t7 & 5315 & \\emph{missing} & \\emph{missing} & OESA & \\emph{missing} & 7 & 106 \\\\\n",
       "\t8 & 5316 & \\emph{missing} & \\emph{missing} & OCarm & \\emph{missing} & 7 & 3 \\\\\n",
       "\t9 & 5317 & \\emph{missing} & \\emph{missing} & CanA & \\emph{missing} & 7 & 1 \\\\\n",
       "\t10 & 5318 & \\emph{missing} & \\emph{missing} & SJ & \\emph{missing} & 7 & 23 \\\\\n",
       "\t11 & 5319 & \\emph{missing} & \\emph{missing} & OMel & \\emph{missing} & 7 & 12 \\\\\n",
       "\t12 & 5320 & \\emph{missing} & \\emph{missing} & OSA & \\emph{missing} & 7 & 36 \\\\\n",
       "\t13 & 5321 & \\emph{missing} & \\emph{missing} & OSM & \\emph{missing} & 7 & 41 \\\\\n",
       "\t14 & 5322 & \\emph{missing} & \\emph{missing} & OFMObs & \\emph{missing} & 7 & 107 \\\\\n",
       "\t15 & 5323 & \\emph{missing} & \\emph{missing} & OFMCap & \\emph{missing} & 7 & 8 \\\\\n",
       "\t16 & 5324 & \\emph{missing} & \\emph{missing} & OFMConv & \\emph{missing} & 7 & 108 \\\\\n",
       "\t17 & 5325 & \\emph{missing} & \\emph{missing} & OFMRec & \\emph{missing} & 7 & 109 \\\\\n",
       "\t18 & 5326 & \\emph{missing} & \\emph{missing} & OCart & \\emph{missing} & 7 & 4 \\\\\n",
       "\t19 & 5327 & \\emph{missing} & \\emph{missing} & OSH & \\emph{missing} & 7 & 61 \\\\\n",
       "\t20 & 5328 & \\emph{missing} & \\emph{missing} & ORC & \\emph{missing} & 7 & 110 \\\\\n",
       "\t21 & 5329 & \\emph{missing} & \\emph{missing} & Otheat & \\emph{missing} & 7 & 96 \\\\\n",
       "\t22 & 92259 & \\emph{missing} & \\emph{missing} & CRVC & \\emph{missing} & 7 & 46 \\\\\n",
       "\t23 & 176167 & ordinis sancti Wilhelmi & \\emph{missing} & OESG & \\emph{missing} & 7 & 6 \\\\\n",
       "\t24 & 176168 & ordinis sancte Bregitte & \\emph{missing} & OSBirg & \\emph{missing} & 7 & 17 \\\\\n",
       "\t25 & 176169 & ordinis Cruciferorum & \\emph{missing} & OSC & \\emph{missing} & 7 & 18 \\\\\n",
       "\t26 & 176170 & ordinis tercii & \\emph{missing} & TOF & \\emph{missing} & 7 & 24 \\\\\n",
       "\t27 & 176171 & canonicus Regularis & \\emph{missing} & \\emph{missing} & \\emph{missing} & 7 & 113 \\\\\n",
       "\t28 & 176172 & ordinis fratrum Minorum & \\emph{missing} & \\emph{missing} & \\emph{missing} & 7 & 115 \\\\\n",
       "\t29 & 176173 & canonicus & \\emph{missing} & \\emph{missing} & \\emph{missing} & 7 & 116 \\\\\n",
       "\t30 & 176174 & ordinis Augustinensium & \\emph{missing} & \\emph{missing} & \\emph{missing} & 7 & 130 \\\\\n",
       "\\end{tabular}\n"
      ],
      "text/plain": [
       "\u001b[1m30×7 DataFrame\u001b[0m\n",
       "\u001b[1m Row \u001b[0m│\u001b[1m id     \u001b[0m\u001b[1m comment                 \u001b[0m\u001b[1m name    \u001b[0m\u001b[1m abbreviation \u001b[0m\u001b[1m note    \u001b[0m\u001b[1m item_type_id \u001b[0m\u001b[1m id_in_source \u001b[0m\n",
       "\u001b[1m     \u001b[0m│\u001b[90m Int64  \u001b[0m\u001b[90m String31?               \u001b[0m\u001b[90m Missing \u001b[0m\u001b[90m String7?     \u001b[0m\u001b[90m Missing \u001b[0m\u001b[90m Int64        \u001b[0m\u001b[90m String15     \u001b[0m\n",
       "─────┼─────────────────────────────────────────────────────────────────────────────────────────────\n",
       "   1 │   5309 \u001b[90m missing                 \u001b[0m\u001b[90m missing \u001b[0m OP           \u001b[90m missing \u001b[0m            7  13\n",
       "   2 │   5310 \u001b[90m missing                 \u001b[0m\u001b[90m missing \u001b[0m OFM          \u001b[90m missing \u001b[0m            7  7\n",
       "   3 │   5311 \u001b[90m missing                 \u001b[0m\u001b[90m missing \u001b[0m OPraem       \u001b[90m missing \u001b[0m            7  14\n",
       "   4 │   5312 \u001b[90m missing                 \u001b[0m\u001b[90m missing \u001b[0m OT           \u001b[90m missing \u001b[0m            7  22\n",
       "   5 │   5313 \u001b[90m missing                 \u001b[0m\u001b[90m missing \u001b[0m OSB          \u001b[90m missing \u001b[0m            7  16\n",
       "   6 │   5314 \u001b[90m missing                 \u001b[0m\u001b[90m missing \u001b[0m OCist        \u001b[90m missing \u001b[0m            7  5\n",
       "   7 │   5315 \u001b[90m missing                 \u001b[0m\u001b[90m missing \u001b[0m OESA         \u001b[90m missing \u001b[0m            7  106\n",
       "   8 │   5316 \u001b[90m missing                 \u001b[0m\u001b[90m missing \u001b[0m OCarm        \u001b[90m missing \u001b[0m            7  3\n",
       "   9 │   5317 \u001b[90m missing                 \u001b[0m\u001b[90m missing \u001b[0m CanA         \u001b[90m missing \u001b[0m            7  1\n",
       "  10 │   5318 \u001b[90m missing                 \u001b[0m\u001b[90m missing \u001b[0m SJ           \u001b[90m missing \u001b[0m            7  23\n",
       "  11 │   5319 \u001b[90m missing                 \u001b[0m\u001b[90m missing \u001b[0m OMel         \u001b[90m missing \u001b[0m            7  12\n",
       "  ⋮  │   ⋮                ⋮                ⋮          ⋮           ⋮          ⋮             ⋮\n",
       "  21 │   5329 \u001b[90m missing                 \u001b[0m\u001b[90m missing \u001b[0m Otheat       \u001b[90m missing \u001b[0m            7  96\n",
       "  22 │  92259 \u001b[90m missing                 \u001b[0m\u001b[90m missing \u001b[0m CRVC         \u001b[90m missing \u001b[0m            7  46\n",
       "  23 │ 176167  ordinis sancti Wilhelmi \u001b[90m missing \u001b[0m OESG         \u001b[90m missing \u001b[0m            7  6\n",
       "  24 │ 176168  ordinis sancte Bregitte \u001b[90m missing \u001b[0m OSBirg       \u001b[90m missing \u001b[0m            7  17\n",
       "  25 │ 176169  ordinis Cruciferorum    \u001b[90m missing \u001b[0m OSC          \u001b[90m missing \u001b[0m            7  18\n",
       "  26 │ 176170  ordinis tercii          \u001b[90m missing \u001b[0m TOF          \u001b[90m missing \u001b[0m            7  24\n",
       "  27 │ 176171  canonicus Regularis     \u001b[90m missing \u001b[0m\u001b[90m missing      \u001b[0m\u001b[90m missing \u001b[0m            7  113\n",
       "  28 │ 176172  ordinis fratrum Minorum \u001b[90m missing \u001b[0m\u001b[90m missing      \u001b[0m\u001b[90m missing \u001b[0m            7  115\n",
       "  29 │ 176173  canonicus               \u001b[90m missing \u001b[0m\u001b[90m missing      \u001b[0m\u001b[90m missing \u001b[0m            7  116\n",
       "  30 │ 176174  ordinis Augustinensium  \u001b[90m missing \u001b[0m\u001b[90m missing      \u001b[0m\u001b[90m missing \u001b[0m            7  130\n",
       "\u001b[36m                                                                                     9 rows omitted\u001b[0m"
      ]
     },
     "execution_count": 49,
     "metadata": {},
     "output_type": "execute_result"
    }
   ],
   "source": [
    "df_ro_id"
   ]
  },
  {
   "cell_type": "code",
   "execution_count": 50,
   "metadata": {},
   "outputs": [],
   "source": [
    "file_name = joinpath(data_path, \"mapping_orden_stapel.csv\")\n",
    "df_map_ro = CSV.read(file_name, DataFrame, delim = \";\");"
   ]
  },
  {
   "cell_type": "code",
   "execution_count": 51,
   "metadata": {},
   "outputs": [],
   "source": [
    "transform!(df_map_ro, :id_order => ByRow(string) => :id_in_source);"
   ]
  },
  {
   "cell_type": "code",
   "execution_count": 52,
   "metadata": {},
   "outputs": [],
   "source": [
    "df_map_ro = innerjoin(df_map_ro, df_ro_id, on = :id_in_source);"
   ]
  },
  {
   "cell_type": "code",
   "execution_count": 53,
   "metadata": {},
   "outputs": [
    {
     "data": {
      "text/plain": [
       "10-element Vector{String}:\n",
       " \"altLabel_abk\"\n",
       " \"Orde\"\n",
       " \"id_order\"\n",
       " \"id_in_source\"\n",
       " \"id\"\n",
       " \"comment\"\n",
       " \"name\"\n",
       " \"abbreviation\"\n",
       " \"note\"\n",
       " \"item_type_id\""
      ]
     },
     "execution_count": 53,
     "metadata": {},
     "output_type": "execute_result"
    }
   ],
   "source": [
    "names(df_map_ro)"
   ]
  },
  {
   "cell_type": "code",
   "execution_count": 54,
   "metadata": {},
   "outputs": [
    {
     "data": {
      "text/plain": [
       "4-element Vector{Pair{Symbol, Symbol}}:\n",
       "           :id => :religious_order_id\n",
       " :id_in_source => :id_in_source_ro\n",
       "         :Orde => :religious_order\n",
       " :abbreviation => :abbreviation"
      ]
     },
     "execution_count": 54,
     "metadata": {},
     "output_type": "execute_result"
    }
   ],
   "source": [
    "columns = [\n",
    "    :id => :religious_order_id,\n",
    "    :id_in_source => :id_in_source_ro,\n",
    "    :Orde => :religious_order,\n",
    "    :abbreviation => :abbreviation,\n",
    "]"
   ]
  },
  {
   "cell_type": "code",
   "execution_count": 55,
   "metadata": {},
   "outputs": [],
   "source": [
    "df_map_ro_join = select(df_map_ro, columns);"
   ]
  },
  {
   "cell_type": "markdown",
   "metadata": {},
   "source": [
    "Die Ordensbezeichnungen variieren in Groß- und Kleinschreibung"
   ]
  },
  {
   "cell_type": "code",
   "execution_count": 56,
   "metadata": {},
   "outputs": [],
   "source": [
    "transform!(df_map_ro_join, :religious_order => ByRow(lowercase) => :religious_order);"
   ]
  },
  {
   "cell_type": "code",
   "execution_count": 57,
   "metadata": {},
   "outputs": [
    {
     "data": {
      "text/html": [
       "<div class=\"data-frame\"><p>6 rows × 4 columns</p><table class=\"data-frame\"><thead><tr><th></th><th>religious_order_id</th><th>id_in_source_ro</th><th>religious_order</th><th>abbreviation</th></tr><tr><th></th><th title=\"Int64\">Int64</th><th title=\"String\">String</th><th title=\"String\">String</th><th title=\"Union{Missing, String7}\">String7?</th></tr></thead><tbody><tr><th>1</th><td>5314</td><td>5</td><td>ordinis cistericiensis</td><td>OCist</td></tr><tr><th>2</th><td>5314</td><td>5</td><td>ordinis cistersiensium</td><td>OCist</td></tr><tr><th>3</th><td>176167</td><td>6</td><td>ordinis sancti wilhelmi</td><td>OESG</td></tr><tr><th>4</th><td>176167</td><td>6</td><td>ordinis wilhellemitarum</td><td>OESG</td></tr><tr><th>5</th><td>5319</td><td>12</td><td>ordinis sancti johannis</td><td>OMel</td></tr><tr><th>6</th><td>5309</td><td>13</td><td>ordinis predicatorum</td><td>OP</td></tr></tbody></table></div>"
      ],
      "text/latex": [
       "\\begin{tabular}{r|cccc}\n",
       "\t& religious\\_order\\_id & id\\_in\\_source\\_ro & religious\\_order & abbreviation\\\\\n",
       "\t\\hline\n",
       "\t& Int64 & String & String & String7?\\\\\n",
       "\t\\hline\n",
       "\t1 & 5314 & 5 & ordinis cistericiensis & OCist \\\\\n",
       "\t2 & 5314 & 5 & ordinis cistersiensium & OCist \\\\\n",
       "\t3 & 176167 & 6 & ordinis sancti wilhelmi & OESG \\\\\n",
       "\t4 & 176167 & 6 & ordinis wilhellemitarum & OESG \\\\\n",
       "\t5 & 5319 & 12 & ordinis sancti johannis & OMel \\\\\n",
       "\t6 & 5309 & 13 & ordinis predicatorum & OP \\\\\n",
       "\\end{tabular}\n"
      ],
      "text/plain": [
       "\u001b[1m6×4 DataFrame\u001b[0m\n",
       "\u001b[1m Row \u001b[0m│\u001b[1m religious_order_id \u001b[0m\u001b[1m id_in_source_ro \u001b[0m\u001b[1m religious_order         \u001b[0m\u001b[1m abbreviation \u001b[0m\n",
       "\u001b[1m     \u001b[0m│\u001b[90m Int64              \u001b[0m\u001b[90m String          \u001b[0m\u001b[90m String                  \u001b[0m\u001b[90m String7?     \u001b[0m\n",
       "─────┼────────────────────────────────────────────────────────────────────────────\n",
       "   1 │               5314  5                ordinis cistericiensis   OCist\n",
       "   2 │               5314  5                ordinis cistersiensium   OCist\n",
       "   3 │             176167  6                ordinis sancti wilhelmi  OESG\n",
       "   4 │             176167  6                ordinis wilhellemitarum  OESG\n",
       "   5 │               5319  12               ordinis sancti johannis  OMel\n",
       "   6 │               5309  13               ordinis predicatorum     OP"
      ]
     },
     "execution_count": 57,
     "metadata": {},
     "output_type": "execute_result"
    }
   ],
   "source": [
    "df_map_ro_join[7:12, :]"
   ]
  },
  {
   "cell_type": "code",
   "execution_count": 58,
   "metadata": {},
   "outputs": [
    {
     "data": {
      "text/plain": [
       "lowercase_maybe (generic function with 1 method)"
      ]
     },
     "execution_count": 58,
     "metadata": {},
     "output_type": "execute_result"
    }
   ],
   "source": [
    "lowercase_maybe(a) = typeof(a) <: AbstractString ? lowercase(a) : a"
   ]
  },
  {
   "cell_type": "code",
   "execution_count": 59,
   "metadata": {},
   "outputs": [],
   "source": [
    "transform!(df_person_in, :religious_order => ByRow(lowercase_maybe) => :religious_order);"
   ]
  },
  {
   "cell_type": "code",
   "execution_count": 60,
   "metadata": {},
   "outputs": [],
   "source": [
    "df_person_in_ro = leftjoin(df_person_in, df_map_ro_join, on = :religious_order, matchmissing = :notequal);"
   ]
  },
  {
   "cell_type": "code",
   "execution_count": 61,
   "metadata": {},
   "outputs": [
    {
     "data": {
      "text/plain": [
       "(3958, 3958)"
      ]
     },
     "execution_count": 61,
     "metadata": {},
     "output_type": "execute_result"
    }
   ],
   "source": [
    "size(df_person_in, 1), size(df_person_in_ro, 1)"
   ]
  },
  {
   "cell_type": "code",
   "execution_count": 62,
   "metadata": {},
   "outputs": [
    {
     "data": {
      "text/plain": [
       "(1022, 1007)"
      ]
     },
     "execution_count": 62,
     "metadata": {},
     "output_type": "execute_result"
    }
   ],
   "source": [
    "count(!ismissing, df_person_in.religious_order), count(!ismissing, df_person_in_ro.religious_order_id)"
   ]
  },
  {
   "cell_type": "code",
   "execution_count": 63,
   "metadata": {},
   "outputs": [
    {
     "data": {
      "text/plain": [
       "delta_msg (generic function with 1 method)"
      ]
     },
     "execution_count": 63,
     "metadata": {},
     "output_type": "execute_result"
    }
   ],
   "source": [
    "delta_msg(a, b) = !ismissing(a) && ismissing(b)"
   ]
  },
  {
   "cell_type": "code",
   "execution_count": 64,
   "metadata": {},
   "outputs": [],
   "source": [
    "df_examine = subset(df_person_in_ro, [:religious_order, :religious_order_id] => ByRow(delta_msg));"
   ]
  },
  {
   "cell_type": "code",
   "execution_count": 65,
   "metadata": {},
   "outputs": [
    {
     "data": {
      "text/plain": [
       "3-element Vector{Union{Missing, String}}:\n",
       " \"ordinis …\"\n",
       " \"kanoniker\"\n",
       " \"kanoniker ecclesie\""
      ]
     },
     "execution_count": 65,
     "metadata": {},
     "output_type": "execute_result"
    }
   ],
   "source": [
    "unique(df_examine.religious_order)"
   ]
  },
  {
   "cell_type": "markdown",
   "metadata": {},
   "source": [
    "Exportiere Daten für die Tabelle `person`"
   ]
  },
  {
   "cell_type": "code",
   "execution_count": 66,
   "metadata": {},
   "outputs": [
    {
     "data": {
      "text/plain": [
       "16-element Vector{String}:\n",
       " \"id_in_source\"\n",
       " \"ordination_date\"\n",
       " \"ordination_place\"\n",
       " \"title\"\n",
       " \"givenname\"\n",
       " \"patronym\"\n",
       " \"familyname\"\n",
       " \"place_of_origin\"\n",
       " \"religious_order\"\n",
       " \"role_name\"\n",
       " \"institution\"\n",
       " \"id\"\n",
       " \"item_type_id\"\n",
       " \"religious_order_id\"\n",
       " \"id_in_source_ro\"\n",
       " \"abbreviation\""
      ]
     },
     "execution_count": 66,
     "metadata": {},
     "output_type": "execute_result"
    }
   ],
   "source": [
    "names(df_person_in_ro)"
   ]
  },
  {
   "cell_type": "markdown",
   "metadata": {},
   "source": [
    "Verwende das Jahr der Priesterweihe für die zeitliche Einordnung"
   ]
  },
  {
   "cell_type": "code",
   "execution_count": 67,
   "metadata": {},
   "outputs": [
    {
     "data": {
      "text/plain": [
       "parse_date_min (generic function with 1 method)"
      ]
     },
     "execution_count": 67,
     "metadata": {},
     "output_type": "execute_result"
    }
   ],
   "source": [
    "parse_date_min(s) = ismissing(s) ? s : year(s)"
   ]
  },
  {
   "cell_type": "code",
   "execution_count": 68,
   "metadata": {},
   "outputs": [],
   "source": [
    "transform!(df_person_in_ro, :ordination_date => ByRow(parse_date_min) => :date_min);"
   ]
  },
  {
   "cell_type": "code",
   "execution_count": 69,
   "metadata": {},
   "outputs": [],
   "source": [
    "columns = [\n",
    "    :id => :id,\n",
    "    :item_type_id => :item_type_id,\n",
    "    :givenname => :givenname,\n",
    "    :familyname => :familyname,\n",
    "    :religious_order_id => :religious_order_id,\n",
    "    :date_min => :date_min,\n",
    "    :date_min => :date_max,\n",
    "];"
   ]
  },
  {
   "cell_type": "code",
   "execution_count": 72,
   "metadata": {},
   "outputs": [
    {
     "data": {
      "text/plain": [
       "is_test (generic function with 1 method)"
      ]
     },
     "execution_count": 72,
     "metadata": {},
     "output_type": "execute_result"
    }
   ],
   "source": [
    "is_test(id) = id in (180293, 180301)"
   ]
  },
  {
   "cell_type": "code",
   "execution_count": 73,
   "metadata": {},
   "outputs": [
    {
     "data": {
      "text/html": [
       "<div class=\"data-frame\"><p>2 rows × 5 columns</p><table class=\"data-frame\"><thead><tr><th></th><th>id</th><th>givenname</th><th>date_min</th><th>ordination_date</th><th>title</th></tr><tr><th></th><th title=\"Int64\">Int64</th><th title=\"String\">String</th><th title=\"Int64\">Int64</th><th title=\"Date\">Date</th><th title=\"Union{Missing, String}\">String?</th></tr></thead><tbody><tr><th>1</th><td>180301</td><td>Johannes</td><td>1508</td><td>1508-09-16</td><td>Frater</td></tr><tr><th>2</th><td>180293</td><td>Amelius</td><td>1505</td><td>1505-02-08</td><td>Magister</td></tr></tbody></table></div>"
      ],
      "text/latex": [
       "\\begin{tabular}{r|ccccc}\n",
       "\t& id & givenname & date\\_min & ordination\\_date & title\\\\\n",
       "\t\\hline\n",
       "\t& Int64 & String & Int64 & Date & String?\\\\\n",
       "\t\\hline\n",
       "\t1 & 180301 & Johannes & 1508 & 1508-09-16 & Frater \\\\\n",
       "\t2 & 180293 & Amelius & 1505 & 1505-02-08 & Magister \\\\\n",
       "\\end{tabular}\n"
      ],
      "text/plain": [
       "\u001b[1m2×5 DataFrame\u001b[0m\n",
       "\u001b[1m Row \u001b[0m│\u001b[1m id     \u001b[0m\u001b[1m givenname \u001b[0m\u001b[1m date_min \u001b[0m\u001b[1m ordination_date \u001b[0m\u001b[1m title    \u001b[0m\n",
       "\u001b[1m     \u001b[0m│\u001b[90m Int64  \u001b[0m\u001b[90m String    \u001b[0m\u001b[90m Int64    \u001b[0m\u001b[90m Date            \u001b[0m\u001b[90m String?  \u001b[0m\n",
       "─────┼────────────────────────────────────────────────────────\n",
       "   1 │ 180301  Johannes       1508  1508-09-16       Frater\n",
       "   2 │ 180293  Amelius        1505  1505-02-08       Magister"
      ]
     },
     "execution_count": 73,
     "metadata": {},
     "output_type": "execute_result"
    }
   ],
   "source": [
    "subset(df_person_in_ro[:, [:id, :givenname, :date_min, :ordination_date, :title]], :id => ByRow(is_test))"
   ]
  },
  {
   "cell_type": "code",
   "execution_count": null,
   "metadata": {},
   "outputs": [],
   "source": [
    "table_name = \"person\"\n",
    "file_name = joinpath(out_path, \"$(table_name).sql\")\n",
    "Wds.insert_sql(file_name, table_name, select(df_person_in_ro, columns))"
   ]
  },
  {
   "cell_type": "markdown",
   "metadata": {},
   "source": [
    "## Freie Attribute"
   ]
  },
  {
   "cell_type": "markdown",
   "metadata": {},
   "source": [
    "### Titel"
   ]
  },
  {
   "cell_type": "code",
   "execution_count": 25,
   "metadata": {},
   "outputs": [],
   "source": [
    "df_title = subset(df_person_in, :title => ByRow(!ismissing));"
   ]
  },
  {
   "cell_type": "code",
   "execution_count": 26,
   "metadata": {},
   "outputs": [
    {
     "data": {
      "text/plain": [
       "(1712, 13)"
      ]
     },
     "execution_count": 26,
     "metadata": {},
     "output_type": "execute_result"
    }
   ],
   "source": [
    "size(df_title)"
   ]
  },
  {
   "cell_type": "code",
   "execution_count": 27,
   "metadata": {},
   "outputs": [],
   "source": [
    "df_item_prop_title = DataFrame();"
   ]
  },
  {
   "cell_type": "code",
   "execution_count": 28,
   "metadata": {},
   "outputs": [],
   "source": [
    "insertcols!(df_item_prop_title,\n",
    "    :item_id => df_title.id,\n",
    "    :name => \"title\",\n",
    "    :value => df_title.title\n",
    ");"
   ]
  },
  {
   "cell_type": "code",
   "execution_count": 29,
   "metadata": {
    "scrolled": true
   },
   "outputs": [
    {
     "data": {
      "text/html": [
       "<div class=\"data-frame\"><p>6 rows × 3 columns</p><table class=\"data-frame\"><thead><tr><th></th><th>item_id</th><th>name</th><th>value</th></tr><tr><th></th><th title=\"Int64\">Int64</th><th title=\"String\">String</th><th title=\"Union{Missing, String}\">String?</th></tr></thead><tbody><tr><th>1</th><td>180293</td><td>title</td><td>Magister</td></tr><tr><th>2</th><td>180295</td><td>title</td><td>Frater</td></tr><tr><th>3</th><td>180296</td><td>title</td><td>Frater</td></tr><tr><th>4</th><td>180297</td><td>title</td><td>Frater</td></tr><tr><th>5</th><td>180299</td><td>title</td><td>Frater</td></tr><tr><th>6</th><td>180301</td><td>title</td><td>Frater</td></tr></tbody></table></div>"
      ],
      "text/latex": [
       "\\begin{tabular}{r|ccc}\n",
       "\t& item\\_id & name & value\\\\\n",
       "\t\\hline\n",
       "\t& Int64 & String & String?\\\\\n",
       "\t\\hline\n",
       "\t1 & 180293 & title & Magister \\\\\n",
       "\t2 & 180295 & title & Frater \\\\\n",
       "\t3 & 180296 & title & Frater \\\\\n",
       "\t4 & 180297 & title & Frater \\\\\n",
       "\t5 & 180299 & title & Frater \\\\\n",
       "\t6 & 180301 & title & Frater \\\\\n",
       "\\end{tabular}\n"
      ],
      "text/plain": [
       "\u001b[1m6×3 DataFrame\u001b[0m\n",
       "\u001b[1m Row \u001b[0m│\u001b[1m item_id \u001b[0m\u001b[1m name   \u001b[0m\u001b[1m value    \u001b[0m\n",
       "\u001b[1m     \u001b[0m│\u001b[90m Int64   \u001b[0m\u001b[90m String \u001b[0m\u001b[90m String?  \u001b[0m\n",
       "─────┼───────────────────────────\n",
       "   1 │  180293  title   Magister\n",
       "   2 │  180295  title   Frater\n",
       "   3 │  180296  title   Frater\n",
       "   4 │  180297  title   Frater\n",
       "   5 │  180299  title   Frater\n",
       "   6 │  180301  title   Frater"
      ]
     },
     "execution_count": 29,
     "metadata": {},
     "output_type": "execute_result"
    }
   ],
   "source": [
    "df_item_prop_title[70:75, :]"
   ]
  },
  {
   "cell_type": "markdown",
   "metadata": {},
   "source": [
    "### Weihe Priester"
   ]
  },
  {
   "cell_type": "markdown",
   "metadata": {},
   "source": [
    "Weiheamt"
   ]
  },
  {
   "cell_type": "code",
   "execution_count": 30,
   "metadata": {},
   "outputs": [
    {
     "data": {
      "text/plain": [
       "(3958, 13)"
      ]
     },
     "execution_count": 30,
     "metadata": {},
     "output_type": "execute_result"
    }
   ],
   "source": [
    "df_ordination = subset(df_person_in, :id => ByRow(!ismissing));\n",
    "size(df_ordination)"
   ]
  },
  {
   "cell_type": "code",
   "execution_count": 31,
   "metadata": {},
   "outputs": [],
   "source": [
    "df_item_prop_ord = DataFrame();"
   ]
  },
  {
   "cell_type": "code",
   "execution_count": 32,
   "metadata": {},
   "outputs": [],
   "source": [
    "insertcols!(df_item_prop_ord,\n",
    "    :item_id => df_ordination.id,\n",
    "    :name => \"ordination\",\n",
    "    :value => \"Priester\"\n",
    ");"
   ]
  },
  {
   "cell_type": "markdown",
   "metadata": {},
   "source": [
    "Datum der Weihe"
   ]
  },
  {
   "cell_type": "code",
   "execution_count": 74,
   "metadata": {},
   "outputs": [
    {
     "data": {
      "text/plain": [
       "(3958, 13)"
      ]
     },
     "execution_count": 74,
     "metadata": {},
     "output_type": "execute_result"
    }
   ],
   "source": [
    "df_ord_date = subset(df_person_in, :ordination_date => ByRow(!ismissing));\n",
    "size(df_ord_date)"
   ]
  },
  {
   "cell_type": "code",
   "execution_count": 78,
   "metadata": {},
   "outputs": [],
   "source": [
    "df_item_prop_ord_date = DataFrame();"
   ]
  },
  {
   "cell_type": "code",
   "execution_count": 79,
   "metadata": {},
   "outputs": [],
   "source": [
    "insertcols!(df_item_prop_ord_date,\n",
    "    :item_id => df_ord_date.id,\n",
    "    :name => \"ordination_date\",\n",
    "    :value => string.(df_ord_date.ordination_date),\n",
    ");"
   ]
  },
  {
   "cell_type": "code",
   "execution_count": 80,
   "metadata": {},
   "outputs": [
    {
     "data": {
      "text/html": [
       "<div class=\"data-frame\"><p>2 rows × 3 columns</p><table class=\"data-frame\"><thead><tr><th></th><th>item_id</th><th>name</th><th>value</th></tr><tr><th></th><th title=\"Int64\">Int64</th><th title=\"String\">String</th><th title=\"String\">String</th></tr></thead><tbody><tr><th>1</th><td>180293</td><td>ordination_date</td><td>1505-02-08</td></tr><tr><th>2</th><td>180301</td><td>ordination_date</td><td>1508-09-16</td></tr></tbody></table></div>"
      ],
      "text/latex": [
       "\\begin{tabular}{r|ccc}\n",
       "\t& item\\_id & name & value\\\\\n",
       "\t\\hline\n",
       "\t& Int64 & String & String\\\\\n",
       "\t\\hline\n",
       "\t1 & 180293 & ordination\\_date & 1505-02-08 \\\\\n",
       "\t2 & 180301 & ordination\\_date & 1508-09-16 \\\\\n",
       "\\end{tabular}\n"
      ],
      "text/plain": [
       "\u001b[1m2×3 DataFrame\u001b[0m\n",
       "\u001b[1m Row \u001b[0m│\u001b[1m item_id \u001b[0m\u001b[1m name            \u001b[0m\u001b[1m value      \u001b[0m\n",
       "\u001b[1m     \u001b[0m│\u001b[90m Int64   \u001b[0m\u001b[90m String          \u001b[0m\u001b[90m String     \u001b[0m\n",
       "─────┼──────────────────────────────────────\n",
       "   1 │  180293  ordination_date  1505-02-08\n",
       "   2 │  180301  ordination_date  1508-09-16"
      ]
     },
     "execution_count": 80,
     "metadata": {},
     "output_type": "execute_result"
    }
   ],
   "source": [
    "subset(df_item_prop_ord_date, :item_id => ByRow(is_test))"
   ]
  },
  {
   "cell_type": "markdown",
   "metadata": {},
   "source": [
    "Ort der Weihe"
   ]
  },
  {
   "cell_type": "code",
   "execution_count": 36,
   "metadata": {},
   "outputs": [
    {
     "data": {
      "text/plain": [
       "(3958, 13)"
      ]
     },
     "execution_count": 36,
     "metadata": {},
     "output_type": "execute_result"
    }
   ],
   "source": [
    "df_ord_place = subset(df_person_in, :ordination_place => ByRow(!ismissing));\n",
    "size(df_ord_place)"
   ]
  },
  {
   "cell_type": "code",
   "execution_count": 37,
   "metadata": {},
   "outputs": [],
   "source": [
    "df_item_prop_ord_place = DataFrame();"
   ]
  },
  {
   "cell_type": "code",
   "execution_count": 38,
   "metadata": {},
   "outputs": [],
   "source": [
    "insertcols!(df_item_prop_ord_place,\n",
    "    :item_id => df_ord_place.id,\n",
    "    :name => \"ordination_place\",\n",
    "    :value => df_ord_place.ordination_place,\n",
    ");"
   ]
  },
  {
   "cell_type": "markdown",
   "metadata": {},
   "source": [
    "Tabelle `item_property` schreiben"
   ]
  },
  {
   "cell_type": "code",
   "execution_count": 81,
   "metadata": {},
   "outputs": [],
   "source": [
    "df_item_prop = vcat(df_item_prop_title, df_item_prop_ord, df_item_prop_ord_date, df_item_prop_ord_place);"
   ]
  },
  {
   "cell_type": "code",
   "execution_count": 40,
   "metadata": {},
   "outputs": [
    {
     "data": {
      "text/plain": [
       "(13586, 3)"
      ]
     },
     "execution_count": 40,
     "metadata": {},
     "output_type": "execute_result"
    }
   ],
   "source": [
    "size(df_item_prop)"
   ]
  },
  {
   "cell_type": "code",
   "execution_count": 82,
   "metadata": {},
   "outputs": [
    {
     "name": "stderr",
     "output_type": "stream",
     "text": [
      "┌ Info: row \n",
      "│   i = 2000\n",
      "└ @ WiagDataSetup C:\\Users\\georg\\Documents\\projekte\\WiagDataSetup.jl\\src\\WiagDataSetup.jl:1579\n",
      "┌ Info: row \n",
      "│   i = 4000\n",
      "└ @ WiagDataSetup C:\\Users\\georg\\Documents\\projekte\\WiagDataSetup.jl\\src\\WiagDataSetup.jl:1579\n",
      "┌ Info: row \n",
      "│   i = 6000\n",
      "└ @ WiagDataSetup C:\\Users\\georg\\Documents\\projekte\\WiagDataSetup.jl\\src\\WiagDataSetup.jl:1579\n",
      "┌ Info: row \n",
      "│   i = 8000\n",
      "└ @ WiagDataSetup C:\\Users\\georg\\Documents\\projekte\\WiagDataSetup.jl\\src\\WiagDataSetup.jl:1579\n",
      "┌ Info: row \n",
      "│   i = 10000\n",
      "└ @ WiagDataSetup C:\\Users\\georg\\Documents\\projekte\\WiagDataSetup.jl\\src\\WiagDataSetup.jl:1579\n",
      "┌ Info: row \n",
      "│   i = 12000\n",
      "└ @ WiagDataSetup C:\\Users\\georg\\Documents\\projekte\\WiagDataSetup.jl\\src\\WiagDataSetup.jl:1579\n"
     ]
    },
    {
     "data": {
      "text/plain": [
       "13586"
      ]
     },
     "execution_count": 82,
     "metadata": {},
     "output_type": "execute_result"
    }
   ],
   "source": [
    "table_name = \"item_property\"\n",
    "file_name = joinpath(out_path, \"$(table_name).sql\")\n",
    "Wds.insert_sql(file_name, table_name, df_item_prop)"
   ]
  },
  {
   "cell_type": "markdown",
   "metadata": {},
   "source": [
    "### Geburtsort\n",
    "2022-04-12: Trage zunächst nur den Namen ein. Die Zuordnung zu identifizierten Orten ist unklar."
   ]
  },
  {
   "cell_type": "code",
   "execution_count": 24,
   "metadata": {},
   "outputs": [
    {
     "data": {
      "text/plain": [
       "13-element Vector{String}:\n",
       " \"id_in_source\"\n",
       " \"ordination_date\"\n",
       " \"ordination_place\"\n",
       " \"title\"\n",
       " \"givenname\"\n",
       " \"patronym\"\n",
       " \"familyname\"\n",
       " \"place_of_origin\"\n",
       " \"religious_order\"\n",
       " \"role_name\"\n",
       " \"institution\"\n",
       " \"id\"\n",
       " \"item_type_id\""
      ]
     },
     "execution_count": 24,
     "metadata": {},
     "output_type": "execute_result"
    }
   ],
   "source": [
    "names(df_person_in)"
   ]
  },
  {
   "cell_type": "code",
   "execution_count": 43,
   "metadata": {},
   "outputs": [
    {
     "data": {
      "text/plain": [
       "(3897, 13)"
      ]
     },
     "execution_count": 43,
     "metadata": {},
     "output_type": "execute_result"
    }
   ],
   "source": [
    "df_birthplace = subset(df_person_in, :place_of_origin => ByRow(!ismissing));\n",
    "size(df_birthplace)"
   ]
  },
  {
   "cell_type": "code",
   "execution_count": 45,
   "metadata": {},
   "outputs": [],
   "source": [
    "df_item_prop_birthplace = DataFrame();"
   ]
  },
  {
   "cell_type": "code",
   "execution_count": 46,
   "metadata": {},
   "outputs": [],
   "source": [
    "insertcols!(df_item_prop_birthplace,\n",
    "    :item_id => df_birthplace.id,\n",
    "    :name => \"birthplace\",\n",
    "    :value => df_birthplace.place_of_origin,\n",
    ");"
   ]
  },
  {
   "cell_type": "code",
   "execution_count": 49,
   "metadata": {},
   "outputs": [
    {
     "name": "stderr",
     "output_type": "stream",
     "text": [
      "┌ Info: row \n",
      "│   i = 2000\n",
      "└ @ WiagDataSetup C:\\Users\\georg\\Documents\\projekte\\WiagDataSetup.jl\\src\\WiagDataSetup.jl:1579\n"
     ]
    },
    {
     "data": {
      "text/plain": [
       "3897"
      ]
     },
     "execution_count": 49,
     "metadata": {},
     "output_type": "execute_result"
    }
   ],
   "source": [
    "table_name = \"item_property\"\n",
    "file_name = joinpath(out_path, \"$(table_name)_birthplace.sql\")\n",
    "Wds.insert_sql(file_name, table_name, df_item_prop_birthplace)"
   ]
  },
  {
   "cell_type": "markdown",
   "metadata": {},
   "source": [
    "## Literaturverweise eintragen\n",
    "*R bk* Befülle `id_in_reference` mit 'id_1509_3_83' ... ?"
   ]
  },
  {
   "cell_type": "code",
   "execution_count": null,
   "metadata": {},
   "outputs": [],
   "source": [
    "df_item_reference = DataFrame();"
   ]
  },
  {
   "cell_type": "code",
   "execution_count": null,
   "metadata": {},
   "outputs": [],
   "source": [
    "insertcols!(df_item_reference,\n",
    "    :reference_id => 1,\n",
    "    :id_in_reference => df_person_in.id_in_source,\n",
    "    :item_id => df_person_in.id,\n",
    "    :item_type_id => item_type_id\n",
    ");"
   ]
  },
  {
   "cell_type": "code",
   "execution_count": null,
   "metadata": {},
   "outputs": [],
   "source": [
    "df_item_reference[1500:1505, :]"
   ]
  },
  {
   "cell_type": "code",
   "execution_count": null,
   "metadata": {},
   "outputs": [],
   "source": [
    "table_name = \"item_reference\"\n",
    "file_name = joinpath(out_path, \"$(table_name).sql\")\n",
    "Wds.insert_sql(file_name, table_name, df_item_reference)"
   ]
  },
  {
   "cell_type": "markdown",
   "metadata": {},
   "source": [
    "## Namensvarianten eintragen\n",
    "Schreibe Patronym (Vatersnamen) in Tabelle `item_property`"
   ]
  },
  {
   "cell_type": "code",
   "execution_count": 83,
   "metadata": {},
   "outputs": [],
   "source": [
    "df_patronym = subset(df_person_in, :patronym => ByRow(!ismissing));"
   ]
  },
  {
   "cell_type": "code",
   "execution_count": 84,
   "metadata": {},
   "outputs": [
    {
     "data": {
      "text/html": [
       "<div class=\"data-frame\"><p>6 rows × 3 columns</p><table class=\"data-frame\"><thead><tr><th></th><th>id</th><th>givenname</th><th>patronym</th></tr><tr><th></th><th title=\"Int64\">Int64</th><th title=\"String\">String</th><th title=\"Union{Missing, String}\">String?</th></tr></thead><tbody><tr><th>1</th><td>180242</td><td>Sulfridus</td><td>Hilconis</td></tr><tr><th>2</th><td>180243</td><td>Johannes</td><td>Johannis</td></tr><tr><th>3</th><td>180244</td><td>Aelbertus</td><td>Johannis</td></tr><tr><th>4</th><td>180245</td><td>Judocus</td><td>Theodrici</td></tr><tr><th>5</th><td>180246</td><td>Rodolphus</td><td>Johannis</td></tr><tr><th>6</th><td>180248</td><td>Rodolplms</td><td>Gerardi</td></tr></tbody></table></div>"
      ],
      "text/latex": [
       "\\begin{tabular}{r|ccc}\n",
       "\t& id & givenname & patronym\\\\\n",
       "\t\\hline\n",
       "\t& Int64 & String & String?\\\\\n",
       "\t\\hline\n",
       "\t1 & 180242 & Sulfridus & Hilconis \\\\\n",
       "\t2 & 180243 & Johannes & Johannis \\\\\n",
       "\t3 & 180244 & Aelbertus & Johannis \\\\\n",
       "\t4 & 180245 & Judocus & Theodrici \\\\\n",
       "\t5 & 180246 & Rodolphus & Johannis \\\\\n",
       "\t6 & 180248 & Rodolplms & Gerardi \\\\\n",
       "\\end{tabular}\n"
      ],
      "text/plain": [
       "\u001b[1m6×3 DataFrame\u001b[0m\n",
       "\u001b[1m Row \u001b[0m│\u001b[1m id     \u001b[0m\u001b[1m givenname \u001b[0m\u001b[1m patronym  \u001b[0m\n",
       "\u001b[1m     \u001b[0m│\u001b[90m Int64  \u001b[0m\u001b[90m String    \u001b[0m\u001b[90m String?   \u001b[0m\n",
       "─────┼──────────────────────────────\n",
       "   1 │ 180242  Sulfridus  Hilconis\n",
       "   2 │ 180243  Johannes   Johannis\n",
       "   3 │ 180244  Aelbertus  Johannis\n",
       "   4 │ 180245  Judocus    Theodrici\n",
       "   5 │ 180246  Rodolphus  Johannis\n",
       "   6 │ 180248  Rodolplms  Gerardi"
      ]
     },
     "execution_count": 84,
     "metadata": {},
     "output_type": "execute_result"
    }
   ],
   "source": [
    "df_patronym[70:75, [:id, :givenname, :patronym]]"
   ]
  },
  {
   "cell_type": "code",
   "execution_count": 85,
   "metadata": {},
   "outputs": [
    {
     "data": {
      "text/html": [
       "<div class=\"data-frame\"><p>0 rows × 0 columns</p><table class=\"data-frame\"><thead><tr><th></th></tr><tr><th></th></tr></thead><tbody></tbody></table></div>"
      ],
      "text/latex": [
       "\\begin{tabular}{r|}\n",
       "\t& \\\\\n",
       "\t\\hline\n",
       "\t& \\\\\n",
       "\t\\hline\n",
       "\\end{tabular}\n"
      ],
      "text/plain": [
       "\u001b[1m0×0 DataFrame\u001b[0m"
      ]
     },
     "execution_count": 85,
     "metadata": {},
     "output_type": "execute_result"
    }
   ],
   "source": [
    "df_item_prop_pym = DataFrame()"
   ]
  },
  {
   "cell_type": "code",
   "execution_count": 86,
   "metadata": {},
   "outputs": [],
   "source": [
    "insertcols!(df_item_prop_pym,\n",
    "    :item_id => df_patronym.id,\n",
    "    :name => \"patronym\",\n",
    "    :value => df_patronym.patronym\n",
    ");"
   ]
  },
  {
   "cell_type": "code",
   "execution_count": 87,
   "metadata": {},
   "outputs": [
    {
     "data": {
      "text/html": [
       "<div class=\"data-frame\"><p>6 rows × 3 columns</p><table class=\"data-frame\"><thead><tr><th></th><th>item_id</th><th>name</th><th>value</th></tr><tr><th></th><th title=\"Int64\">Int64</th><th title=\"String\">String</th><th title=\"Union{Missing, String}\">String?</th></tr></thead><tbody><tr><th>1</th><td>180242</td><td>patronym</td><td>Hilconis</td></tr><tr><th>2</th><td>180243</td><td>patronym</td><td>Johannis</td></tr><tr><th>3</th><td>180244</td><td>patronym</td><td>Johannis</td></tr><tr><th>4</th><td>180245</td><td>patronym</td><td>Theodrici</td></tr><tr><th>5</th><td>180246</td><td>patronym</td><td>Johannis</td></tr><tr><th>6</th><td>180248</td><td>patronym</td><td>Gerardi</td></tr></tbody></table></div>"
      ],
      "text/latex": [
       "\\begin{tabular}{r|ccc}\n",
       "\t& item\\_id & name & value\\\\\n",
       "\t\\hline\n",
       "\t& Int64 & String & String?\\\\\n",
       "\t\\hline\n",
       "\t1 & 180242 & patronym & Hilconis \\\\\n",
       "\t2 & 180243 & patronym & Johannis \\\\\n",
       "\t3 & 180244 & patronym & Johannis \\\\\n",
       "\t4 & 180245 & patronym & Theodrici \\\\\n",
       "\t5 & 180246 & patronym & Johannis \\\\\n",
       "\t6 & 180248 & patronym & Gerardi \\\\\n",
       "\\end{tabular}\n"
      ],
      "text/plain": [
       "\u001b[1m6×3 DataFrame\u001b[0m\n",
       "\u001b[1m Row \u001b[0m│\u001b[1m item_id \u001b[0m\u001b[1m name     \u001b[0m\u001b[1m value     \u001b[0m\n",
       "\u001b[1m     \u001b[0m│\u001b[90m Int64   \u001b[0m\u001b[90m String   \u001b[0m\u001b[90m String?   \u001b[0m\n",
       "─────┼──────────────────────────────\n",
       "   1 │  180242  patronym  Hilconis\n",
       "   2 │  180243  patronym  Johannis\n",
       "   3 │  180244  patronym  Johannis\n",
       "   4 │  180245  patronym  Theodrici\n",
       "   5 │  180246  patronym  Johannis\n",
       "   6 │  180248  patronym  Gerardi"
      ]
     },
     "execution_count": 87,
     "metadata": {},
     "output_type": "execute_result"
    }
   ],
   "source": [
    "df_item_prop_pym[70:75, :]"
   ]
  },
  {
   "cell_type": "code",
   "execution_count": 88,
   "metadata": {},
   "outputs": [
    {
     "name": "stderr",
     "output_type": "stream",
     "text": [
      "┌ Info: row \n",
      "│   i = 2000\n",
      "└ @ WiagDataSetup C:\\Users\\georg\\Documents\\projekte\\WiagDataSetup.jl\\src\\WiagDataSetup.jl:1579\n"
     ]
    },
    {
     "data": {
      "text/plain": [
       "2593"
      ]
     },
     "execution_count": 88,
     "metadata": {},
     "output_type": "execute_result"
    }
   ],
   "source": [
    "table_name = \"item_property\"\n",
    "file_name = joinpath(out_path, \"$(table_name)_patronym.sql\")\n",
    "Wds.insert_sql(file_name, table_name, df_item_prop_pym)"
   ]
  },
  {
   "cell_type": "markdown",
   "metadata": {},
   "source": [
    "### Suchvarianten eintragen in `name_lookup`.\n",
    "Das Patronym entspricht für die Suche am ehesten einem zweiten Vornamen."
   ]
  },
  {
   "cell_type": "code",
   "execution_count": null,
   "metadata": {},
   "outputs": [],
   "source": [
    "df_person_name = select(df_person_in, [:id, :givenname, :patronym, :familyname]);"
   ]
  },
  {
   "cell_type": "code",
   "execution_count": null,
   "metadata": {},
   "outputs": [],
   "source": [
    "function join_space(a...)\n",
    "    c_a = filter(!ismissing, collect(a))\n",
    "    return join(c_a, \" \")\n",
    "end"
   ]
  },
  {
   "cell_type": "code",
   "execution_count": null,
   "metadata": {},
   "outputs": [],
   "source": [
    "df_name_variant = transform(df_person_name, [:givenname, :patronym] => ByRow(join_space) => :givenname);"
   ]
  },
  {
   "cell_type": "code",
   "execution_count": null,
   "metadata": {},
   "outputs": [],
   "source": [
    "df_name_variant[50:55, :]"
   ]
  },
  {
   "cell_type": "markdown",
   "metadata": {},
   "source": [
    "Füge technisch erforderliche Spalten ein. Erzeuge Einträge für `name_lookup`."
   ]
  },
  {
   "cell_type": "code",
   "execution_count": null,
   "metadata": {},
   "outputs": [],
   "source": [
    "insertcols!(df_name_variant,\n",
    "    :givenname_variant => missing,\n",
    "    :familyname_variant => missing,\n",
    "    :prefix_name => missing,\n",
    "    :lang => \"nl\"\n",
    ");"
   ]
  },
  {
   "cell_type": "code",
   "execution_count": null,
   "metadata": {},
   "outputs": [],
   "source": [
    "df_nl = Wds.create_name_lookup(df_name_variant);"
   ]
  },
  {
   "cell_type": "markdown",
   "metadata": {},
   "source": [
    "Info"
   ]
  },
  {
   "cell_type": "code",
   "execution_count": null,
   "metadata": {},
   "outputs": [],
   "source": [
    "df_gerardus = subset(df_name_variant, :id => ByRow(isequal(203857)))"
   ]
  },
  {
   "cell_type": "code",
   "execution_count": null,
   "metadata": {
    "scrolled": true
   },
   "outputs": [],
   "source": [
    "df_nl[55:60, :]"
   ]
  },
  {
   "cell_type": "code",
   "execution_count": null,
   "metadata": {},
   "outputs": [],
   "source": [
    "names(df_nl)"
   ]
  },
  {
   "cell_type": "code",
   "execution_count": null,
   "metadata": {},
   "outputs": [],
   "source": [
    "table_name = \"name_lookup\"\n",
    "file_name = joinpath(out_path, \"$(table_name).sql\")\n",
    "Wds.insert_sql(file_name, table_name, df_nl)"
   ]
  },
  {
   "cell_type": "markdown",
   "metadata": {},
   "source": [
    "## Ämter"
   ]
  },
  {
   "cell_type": "code",
   "execution_count": null,
   "metadata": {},
   "outputs": [],
   "source": [
    "file_name = joinpath(data_path, \"item.csv\");\n",
    "df_item_db = CSV.read(file_name, DataFrame, delim = ';');"
   ]
  },
  {
   "cell_type": "code",
   "execution_count": null,
   "metadata": {},
   "outputs": [],
   "source": [
    "file_name = joinpath(data_path, \"Ordinations_of_priests_Stapel_BK.csv\");\n",
    "df_priests = CSV.read(file_name, DataFrame, delim = ';', stringtype = String);"
   ]
  },
  {
   "cell_type": "code",
   "execution_count": null,
   "metadata": {},
   "outputs": [],
   "source": [
    "Wds.clean_up!(df_priests)"
   ]
  },
  {
   "cell_type": "code",
   "execution_count": null,
   "metadata": {},
   "outputs": [],
   "source": [
    "size(df_priests, 1)"
   ]
  },
  {
   "cell_type": "code",
   "execution_count": null,
   "metadata": {},
   "outputs": [],
   "source": [
    "df_priests = unique(df_priests);"
   ]
  },
  {
   "cell_type": "code",
   "execution_count": null,
   "metadata": {},
   "outputs": [],
   "source": [
    "df_item_utrecht = subset(df_item_db, :item_type_id => ByRow(isequal(10)));"
   ]
  },
  {
   "cell_type": "code",
   "execution_count": null,
   "metadata": {},
   "outputs": [],
   "source": [
    "size(df_item_utrecht, 1)"
   ]
  },
  {
   "cell_type": "code",
   "execution_count": null,
   "metadata": {},
   "outputs": [],
   "source": [
    "columns = [\n",
    "    :id => :person_id,\n",
    "    :id_in_source => :id_in_source,\n",
    "    :item_type_id => :item_type_id,\n",
    "]"
   ]
  },
  {
   "cell_type": "code",
   "execution_count": null,
   "metadata": {},
   "outputs": [],
   "source": [
    "df_idx = select(df_item_utrecht, columns);"
   ]
  },
  {
   "cell_type": "code",
   "execution_count": null,
   "metadata": {},
   "outputs": [],
   "source": [
    "columns = [\n",
    "    :Priester_ID => :id_in_source,\n",
    "    :Datum => :ordination_date,\n",
    "    Symbol(\"Ort (Locatie)\") => :ordination_place,\n",
    "    :Titel => :title,\n",
    "    Symbol(\"Vorname (Voornaam)\") => :givenname,\n",
    "    Symbol(\"Zweiter Vorname (Patroniem)\") => :patronym,\n",
    "    Symbol(\"(Familienname) Familienaam\") => :familyname,\n",
    "    Symbol(\"Herkunftsort (Toponiem)\") => :place_of_origin,        \n",
    "    Symbol(\"Orden (Orde)\") => :religious_order,\n",
    "    Symbol(\"Amt (Functie)\") => :role_name,\n",
    "    :Instelling => :institution\n",
    "];"
   ]
  },
  {
   "cell_type": "code",
   "execution_count": null,
   "metadata": {},
   "outputs": [],
   "source": [
    "names(df_idx)"
   ]
  },
  {
   "cell_type": "code",
   "execution_count": null,
   "metadata": {},
   "outputs": [],
   "source": [
    "df_priests_with_role = subset(select(df_priests, columns), :role_name => ByRow(!ismissing));"
   ]
  },
  {
   "cell_type": "code",
   "execution_count": null,
   "metadata": {},
   "outputs": [],
   "source": [
    "df_person_role = innerjoin(\n",
    "    df_priests_with_role,\n",
    "    df_idx,\n",
    "    on = :id_in_source\n",
    ");"
   ]
  },
  {
   "cell_type": "code",
   "execution_count": null,
   "metadata": {},
   "outputs": [],
   "source": [
    "size(df_person_role, 1), size(df_priests, 1), size(df_idx, 1)"
   ]
  },
  {
   "cell_type": "markdown",
   "metadata": {},
   "source": [
    "Setze Diözese 'Utrecht', ID = 53"
   ]
  },
  {
   "cell_type": "code",
   "execution_count": null,
   "metadata": {},
   "outputs": [],
   "source": [
    "insertcols!(df_person_role, :diocese_id => 53, :diocese_name => \"Utrecht\");"
   ]
  },
  {
   "cell_type": "code",
   "execution_count": null,
   "metadata": {},
   "outputs": [],
   "source": [
    "df_person_role[30:35, [:id_in_source, :givenname, :familyname, :role_name, :diocese_name, :diocese_id]]"
   ]
  },
  {
   "cell_type": "markdown",
   "metadata": {},
   "source": [
    "### Rollen zuordnen"
   ]
  },
  {
   "cell_type": "code",
   "execution_count": null,
   "metadata": {},
   "outputs": [],
   "source": [
    "file_name = joinpath(data_path, \"role.csv\");\n",
    "df_role = CSV.read(file_name, DataFrame);"
   ]
  },
  {
   "cell_type": "code",
   "execution_count": null,
   "metadata": {},
   "outputs": [],
   "source": [
    "names(df_role)"
   ]
  },
  {
   "cell_type": "code",
   "execution_count": null,
   "metadata": {},
   "outputs": [],
   "source": [
    "df_person_role = leftjoin(df_person_role, \n",
    "    select(df_role, [:id => :role_id, :name => :role_name_norm]), \n",
    "    on = :role_name => :role_name_norm);"
   ]
  },
  {
   "cell_type": "code",
   "execution_count": null,
   "metadata": {},
   "outputs": [],
   "source": [
    "count(ismissing, df_person_role.role_id)"
   ]
  },
  {
   "cell_type": "code",
   "execution_count": null,
   "metadata": {},
   "outputs": [],
   "source": [
    "columns = [\n",
    "    :person_id, :id_in_source, :title, :givenname, :patronym, :familyname, :role_name, :role_id\n",
    "];"
   ]
  },
  {
   "cell_type": "code",
   "execution_count": null,
   "metadata": {},
   "outputs": [],
   "source": [
    "subset(select(df_person_role, columns), :role_id => ByRow(ismissing))"
   ]
  },
  {
   "cell_type": "code",
   "execution_count": null,
   "metadata": {},
   "outputs": [],
   "source": [
    "names(df_person_role)"
   ]
  },
  {
   "cell_type": "code",
   "execution_count": null,
   "metadata": {},
   "outputs": [],
   "source": [
    "columns = [\n",
    "    :person_id => :person_id,\n",
    "    :role_id => :role_id,\n",
    "    :role_name => :role_name,\n",
    "    :diocese_id => :diocese_id,\n",
    "    :diocese_name => :diocese_name,\n",
    "    :institution => :institution_name,\n",
    "];"
   ]
  },
  {
   "cell_type": "code",
   "execution_count": null,
   "metadata": {},
   "outputs": [],
   "source": [
    "df_person_role_out = select(df_person_role, columns);"
   ]
  },
  {
   "cell_type": "code",
   "execution_count": null,
   "metadata": {},
   "outputs": [],
   "source": [
    "table_name = \"person_role\"\n",
    "file_name = joinpath(out_path, \"$(table_name).sql\")\n",
    "Wds.insert_sql(file_name, table_name, df_person_role_out)"
   ]
  },
  {
   "cell_type": "markdown",
   "metadata": {},
   "source": [
    "Dateien zusammenfügen"
   ]
  },
  {
   "cell_type": "code",
   "execution_count": null,
   "metadata": {},
   "outputs": [],
   "source": [
    "function cat_sql(file_out, file_in...; path = \".\")    \n",
    "    open(joinpath(path, file_out), \"w\") do io_out\n",
    "        for file_loop in file_in            \n",
    "            open(joinpath(path, file_loop)) do io_in\n",
    "                write(io_out, read(io_in))\n",
    "            end\n",
    "        end\n",
    "    end\n",
    "end"
   ]
  },
  {
   "cell_type": "markdown",
   "metadata": {},
   "source": [
    "Inhalte, die unabhängig sind von einzelnen Personen: `item_type.sql`, `reference_volume.sql`"
   ]
  },
  {
   "cell_type": "markdown",
   "metadata": {},
   "source": [
    "Inhalte für die einzelnen Priester. (Tabelle `item` muss schon im Prozess geschrieben und gelesen worden sein)."
   ]
  },
  {
   "cell_type": "code",
   "execution_count": null,
   "metadata": {},
   "outputs": [],
   "source": [
    "file_out = \"item_x.sql\"\n",
    "cat_sql(file_out,\n",
    "    \"item_property.sql\",\n",
    "    \"item_property_patronym.sql\",\n",
    "    \"item_reference.sql\",\n",
    "    path = out_path,\n",
    ")"
   ]
  },
  {
   "cell_type": "code",
   "execution_count": null,
   "metadata": {},
   "outputs": [],
   "source": [
    "file_out = \"person_x.sql\"\n",
    "cat_sql(file_out,\n",
    "    \"person.sql\",\n",
    "    \"person_role.sql\",\n",
    "    \"name_lookup.sql\",\n",
    "    path = out_path,\n",
    ")"
   ]
  }
 ],
 "metadata": {
  "kernelspec": {
   "display_name": "Julia 1.7.0",
   "language": "julia",
   "name": "julia-1.7"
  },
  "language_info": {
   "file_extension": ".jl",
   "mimetype": "application/julia",
   "name": "julia",
   "version": "1.7.0"
  }
 },
 "nbformat": 4,
 "nbformat_minor": 4
}
