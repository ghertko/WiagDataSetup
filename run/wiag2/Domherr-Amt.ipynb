{
 "cells": [
  {
   "cell_type": "markdown",
   "metadata": {},
   "source": [
    "# Wissensaggregator Mittelalter und frühe Neuzeit\n",
    "\n",
    "## Daten für Ämter von Domherren einlesen\n",
    "\n",
    "Übertrage Daten aus Access. Die Daten werden aus Access via ODBC in eine Transfer-Datenbank geschrieben: \n",
    "`domherr.tbl_domherren` und `domherr.tbl_domherren_aemter`\n",
    "\n",
    "[Amtsperiode](#Amtsperiode)  \n",
    "[Zeitspanne der Person](#Zeitspanne-der-Person)  \n",
    "[Archidiakonat](#Archidiakonat)  \n",
    "[Sortierung der Person nach Amt](#Sortierung-der-Person-nach-Amt) (hinfällig?)"
   ]
  },
  {
   "cell_type": "markdown",
   "metadata": {},
   "source": [
    "Vorspann: Pakete laden; mit der Datenbank verbinden"
   ]
  },
  {
   "cell_type": "code",
   "execution_count": 1,
   "metadata": {},
   "outputs": [
    {
     "data": {
      "text/plain": [
       "\"../..\""
      ]
     },
     "execution_count": 1,
     "metadata": {},
     "output_type": "execute_result"
    }
   ],
   "source": [
    "wds_path=\"../..\""
   ]
  },
  {
   "cell_type": "code",
   "execution_count": 2,
   "metadata": {},
   "outputs": [],
   "source": [
    "cd(wds_path)"
   ]
  },
  {
   "cell_type": "code",
   "execution_count": 3,
   "metadata": {},
   "outputs": [],
   "source": [
    "using Pkg"
   ]
  },
  {
   "cell_type": "code",
   "execution_count": 4,
   "metadata": {},
   "outputs": [
    {
     "name": "stderr",
     "output_type": "stream",
     "text": [
      "\u001b[32m\u001b[1m  Activating\u001b[22m\u001b[39m project at `C:\\Users\\georg\\Documents\\projekte\\WiagDataSetup.jl`\n"
     ]
    }
   ],
   "source": [
    "Pkg.activate(\".\")"
   ]
  },
  {
   "cell_type": "code",
   "execution_count": 5,
   "metadata": {},
   "outputs": [],
   "source": [
    "using Revise, MySQL"
   ]
  },
  {
   "cell_type": "code",
   "execution_count": 6,
   "metadata": {},
   "outputs": [],
   "source": [
    "using WiagDataSetup"
   ]
  },
  {
   "cell_type": "code",
   "execution_count": 7,
   "metadata": {},
   "outputs": [],
   "source": [
    "using MySQL, DataFrames, CSV"
   ]
  },
  {
   "cell_type": "code",
   "execution_count": 8,
   "metadata": {},
   "outputs": [
    {
     "data": {
      "text/plain": [
       "WiagDataSetup"
      ]
     },
     "execution_count": 8,
     "metadata": {},
     "output_type": "execute_result"
    }
   ],
   "source": [
    "Wds = WiagDataSetup"
   ]
  },
  {
   "cell_type": "code",
   "execution_count": 10,
   "metadata": {},
   "outputs": [
    {
     "name": "stdout",
     "output_type": "stream",
     "text": [
      "Passwort für User georg: ········\n"
     ]
    },
    {
     "data": {
      "text/plain": [
       "MySQL.Connection(host=\"127.0.0.1\", user=\"georg\", port=\"3306\", db=\"wiag2\")"
      ]
     },
     "execution_count": 10,
     "metadata": {},
     "output_type": "execute_result"
    }
   ],
   "source": [
    "Wds.setDBWIAG(user=\"georg\", db=\"wiag2\")"
   ]
  },
  {
   "cell_type": "code",
   "execution_count": 11,
   "metadata": {},
   "outputs": [
    {
     "data": {
      "text/plain": [
       "5"
      ]
     },
     "execution_count": 11,
     "metadata": {},
     "output_type": "execute_result"
    }
   ],
   "source": [
    "item_type_id = 5"
   ]
  },
  {
   "cell_type": "code",
   "execution_count": 12,
   "metadata": {},
   "outputs": [
    {
     "data": {
      "text/plain": [
       "\"C:\\\\Users\\\\georg\\\\Documents\\\\projekte-doc\\\\WIAGweb2\\\\data\\\\domherren-2022-05-18\""
      ]
     },
     "execution_count": 12,
     "metadata": {},
     "output_type": "execute_result"
    }
   ],
   "source": [
    "data_path = \"C:\\\\Users\\\\georg\\\\Documents\\\\projekte-doc\\\\WIAGweb2\\\\data\\\\domherren-2022-05-18\""
   ]
  },
  {
   "cell_type": "code",
   "execution_count": 13,
   "metadata": {},
   "outputs": [
    {
     "data": {
      "text/plain": [
       "\"C:\\\\Users\\\\georg\\\\Documents\\\\projekte-doc\\\\WIAGweb2\\\\data_sql\""
      ]
     },
     "execution_count": 13,
     "metadata": {},
     "output_type": "execute_result"
    }
   ],
   "source": [
    "out_path = \"C:\\\\Users\\\\georg\\\\Documents\\\\projekte-doc\\\\WIAGweb2\\\\data_sql\""
   ]
  },
  {
   "cell_type": "markdown",
   "metadata": {},
   "source": [
    "Die Ämter in Tabelle `role` werden im Notebook \"Strukturdaten\" eingelesen."
   ]
  },
  {
   "cell_type": "markdown",
   "metadata": {},
   "source": [
    "## Amtsperiode"
   ]
  },
  {
   "cell_type": "code",
   "execution_count": 14,
   "metadata": {},
   "outputs": [],
   "source": [
    "using CSV, DataFrames"
   ]
  },
  {
   "cell_type": "code",
   "execution_count": 15,
   "metadata": {},
   "outputs": [],
   "source": [
    "# Quelle CSV\n",
    "filename = joinpath(data_path, \"tbl_Domherren_Aemter.csv\")\n",
    "df_pr = CSV.read(filename, DataFrame);"
   ]
  },
  {
   "cell_type": "code",
   "execution_count": 11,
   "metadata": {},
   "outputs": [],
   "source": [
    "# Quelle Datenbank\n",
    "sql = \"SELECT * FROM domherr.tbl_domherren_aemter\"\n",
    "df_pr = Wds.sql_df(sql);"
   ]
  },
  {
   "cell_type": "code",
   "execution_count": 16,
   "metadata": {},
   "outputs": [],
   "source": [
    "Wds.clean_up!(df_pr);"
   ]
  },
  {
   "cell_type": "markdown",
   "metadata": {},
   "source": [
    "Ignoriere Einträge ohne Amtsart/ID_Amt_norm"
   ]
  },
  {
   "cell_type": "code",
   "execution_count": 17,
   "metadata": {},
   "outputs": [
    {
     "data": {
      "text/plain": [
       "(33958, 20)"
      ]
     },
     "execution_count": 17,
     "metadata": {},
     "output_type": "execute_result"
    }
   ],
   "source": [
    "size(df_pr)"
   ]
  },
  {
   "cell_type": "code",
   "execution_count": 18,
   "metadata": {},
   "outputs": [
    {
     "data": {
      "text/plain": [
       "one_valid (generic function with 1 method)"
      ]
     },
     "execution_count": 18,
     "metadata": {},
     "output_type": "execute_result"
    }
   ],
   "source": [
    "one_valid(a, b) = !ismissing(a) | !ismissing(b)"
   ]
  },
  {
   "cell_type": "code",
   "execution_count": 19,
   "metadata": {},
   "outputs": [],
   "source": [
    "subset!(df_pr, [:Amtsart, :ID_Amt_norm] => ByRow(one_valid));"
   ]
  },
  {
   "cell_type": "code",
   "execution_count": 20,
   "metadata": {},
   "outputs": [
    {
     "data": {
      "text/html": [
       "<div class=\"data-frame\"><p>5 rows × 5 columns</p><table class=\"data-frame\"><thead><tr><th></th><th>ID_Amt</th><th>Amtsart</th><th>ID_Amt_norm</th><th>Amtsbeginn</th><th>Amtsende</th></tr><tr><th></th><th title=\"Int64\">Int64</th><th title=\"Union{Missing, String}\">String?</th><th title=\"Union{Missing, Int64}\">Int64?</th><th title=\"Union{Missing, String}\">String?</th><th title=\"Union{Missing, String}\">String?</th></tr></thead><tbody><tr><th>1</th><td>84465</td><td>Domherr</td><td>19</td><td>1694</td><td>1739</td></tr><tr><th>2</th><td>84466</td><td>Dekan</td><td>12</td><td>1615</td><td><em>missing</em></td></tr><tr><th>3</th><td>84467</td><td><em>missing</em></td><td>34</td><td>1037/52</td><td><em>missing</em></td></tr><tr><th>4</th><td>84468</td><td><em>missing</em></td><td>34</td><td>1090</td><td><em>missing</em></td></tr><tr><th>5</th><td>84469</td><td><em>missing</em></td><td>34</td><td>1096</td><td>(1101)</td></tr></tbody></table></div>"
      ],
      "text/latex": [
       "\\begin{tabular}{r|ccccc}\n",
       "\t& ID\\_Amt & Amtsart & ID\\_Amt\\_norm & Amtsbeginn & Amtsende\\\\\n",
       "\t\\hline\n",
       "\t& Int64 & String? & Int64? & String? & String?\\\\\n",
       "\t\\hline\n",
       "\t1 & 84465 & Domherr & 19 & 1694 & 1739 \\\\\n",
       "\t2 & 84466 & Dekan & 12 & 1615 & \\emph{missing} \\\\\n",
       "\t3 & 84467 & \\emph{missing} & 34 & 1037/52 & \\emph{missing} \\\\\n",
       "\t4 & 84468 & \\emph{missing} & 34 & 1090 & \\emph{missing} \\\\\n",
       "\t5 & 84469 & \\emph{missing} & 34 & 1096 & (1101) \\\\\n",
       "\\end{tabular}\n"
      ],
      "text/plain": [
       "\u001b[1m5×5 DataFrame\u001b[0m\n",
       "\u001b[1m Row \u001b[0m│\u001b[1m ID_Amt \u001b[0m\u001b[1m Amtsart \u001b[0m\u001b[1m ID_Amt_norm \u001b[0m\u001b[1m Amtsbeginn \u001b[0m\u001b[1m Amtsende \u001b[0m\n",
       "\u001b[1m     \u001b[0m│\u001b[90m Int64  \u001b[0m\u001b[90m String? \u001b[0m\u001b[90m Int64?      \u001b[0m\u001b[90m String?    \u001b[0m\u001b[90m String?  \u001b[0m\n",
       "─────┼────────────────────────────────────────────────────\n",
       "   1 │  84465  Domherr           19  1694        1739\n",
       "   2 │  84466  Dekan             12  1615       \u001b[90m missing  \u001b[0m\n",
       "   3 │  84467 \u001b[90m missing \u001b[0m          34  1037/52    \u001b[90m missing  \u001b[0m\n",
       "   4 │  84468 \u001b[90m missing \u001b[0m          34  1090       \u001b[90m missing  \u001b[0m\n",
       "   5 │  84469 \u001b[90m missing \u001b[0m          34  1096        (1101)"
      ]
     },
     "execution_count": 20,
     "metadata": {},
     "output_type": "execute_result"
    }
   ],
   "source": [
    "df_pr[101:105, [:ID_Amt, :Amtsart, :ID_Amt_norm, :Amtsbeginn, :Amtsende]]"
   ]
  },
  {
   "cell_type": "markdown",
   "metadata": {},
   "source": [
    "### Domherren zuordnen"
   ]
  },
  {
   "cell_type": "code",
   "execution_count": 21,
   "metadata": {},
   "outputs": [],
   "source": [
    "transform!(df_pr, :ID_Domherr => ByRow(string) => :id_in_source);"
   ]
  },
  {
   "cell_type": "code",
   "execution_count": 22,
   "metadata": {},
   "outputs": [],
   "source": [
    "table_name = \"item\";\n",
    "sql = \"SELECT id AS person_id, id_in_source FROM $(table_name) WHERE item_type_id = $(item_type_id)\"\n",
    "df_idx = Wds.sql_df(sql);"
   ]
  },
  {
   "cell_type": "markdown",
   "metadata": {},
   "source": [
    "Lösche Einträge ohne Wert für `ID_Domherr`"
   ]
  },
  {
   "cell_type": "code",
   "execution_count": 28,
   "metadata": {},
   "outputs": [],
   "source": [
    "dropmissing!(df_pr, :ID_Domherr);"
   ]
  },
  {
   "cell_type": "code",
   "execution_count": 29,
   "metadata": {},
   "outputs": [],
   "source": [
    "df_prp = leftjoin(df_pr, df_idx, on = :id_in_source);"
   ]
  },
  {
   "cell_type": "code",
   "execution_count": 30,
   "metadata": {},
   "outputs": [],
   "source": [
    "df_idx_mg = filter(:person_id => ismissing, df_prp);"
   ]
  },
  {
   "cell_type": "code",
   "execution_count": 31,
   "metadata": {},
   "outputs": [
    {
     "data": {
      "text/plain": [
       "(0, 22)"
      ]
     },
     "execution_count": 31,
     "metadata": {},
     "output_type": "execute_result"
    }
   ],
   "source": [
    "size(df_idx_mg)"
   ]
  },
  {
   "cell_type": "code",
   "execution_count": 32,
   "metadata": {},
   "outputs": [
    {
     "data": {
      "text/html": [
       "<div class=\"data-frame\"><p>0 rows × 3 columns</p><table class=\"data-frame\"><thead><tr><th></th><th>ID_Domherr</th><th>ID_Amt</th><th>Amtsart</th></tr><tr><th></th><th title=\"Int64\">Int64</th><th title=\"Int64\">Int64</th><th title=\"Union{Missing, String}\">String?</th></tr></thead><tbody></tbody></table></div>"
      ],
      "text/latex": [
       "\\begin{tabular}{r|ccc}\n",
       "\t& ID\\_Domherr & ID\\_Amt & Amtsart\\\\\n",
       "\t\\hline\n",
       "\t& Int64 & Int64 & String?\\\\\n",
       "\t\\hline\n",
       "\\end{tabular}\n"
      ],
      "text/plain": [
       "\u001b[1m0×3 DataFrame\u001b[0m"
      ]
     },
     "execution_count": 32,
     "metadata": {},
     "output_type": "execute_result"
    }
   ],
   "source": [
    "df_idx_mg[:, [:ID_Domherr, :ID_Amt, :Amtsart]]"
   ]
  },
  {
   "cell_type": "markdown",
   "metadata": {},
   "source": [
    "### Rollen/Ämter zuordnen"
   ]
  },
  {
   "cell_type": "code",
   "execution_count": 33,
   "metadata": {},
   "outputs": [],
   "source": [
    "sql = \"SELECT name as role_name, role.id as role_id, item.id_in_source as role_id_in_source\n",
    "FROM role JOIN item ON item.id = role.id\"\n",
    "df_role = Wds.sql_df(sql);"
   ]
  },
  {
   "cell_type": "markdown",
   "metadata": {},
   "source": [
    "Werden alle Ämter gefunden?"
   ]
  },
  {
   "cell_type": "code",
   "execution_count": 34,
   "metadata": {},
   "outputs": [],
   "source": [
    "role_dh = unique(string.(df_prp.ID_Amt_norm));"
   ]
  },
  {
   "cell_type": "code",
   "execution_count": 35,
   "metadata": {},
   "outputs": [
    {
     "data": {
      "text/plain": [
       "1-element Vector{String}:\n",
       " \"missing\""
      ]
     },
     "execution_count": 35,
     "metadata": {},
     "output_type": "execute_result"
    }
   ],
   "source": [
    "match_mg = setdiff(role_dh, df_role.role_id_in_source)"
   ]
  },
  {
   "cell_type": "code",
   "execution_count": 36,
   "metadata": {},
   "outputs": [
    {
     "data": {
      "text/plain": [
       "to_string_maybe (generic function with 1 method)"
      ]
     },
     "execution_count": 36,
     "metadata": {},
     "output_type": "execute_result"
    }
   ],
   "source": [
    "to_string_maybe(a) = ismissing(a) ? a : string(a)"
   ]
  },
  {
   "cell_type": "code",
   "execution_count": 37,
   "metadata": {},
   "outputs": [],
   "source": [
    "transform!(df_prp, :ID_Amt_norm => ByRow(to_string_maybe) => :match_role_id);"
   ]
  },
  {
   "cell_type": "code",
   "execution_count": 43,
   "metadata": {},
   "outputs": [],
   "source": [
    "df_prp_r = leftjoin(df_prp, df_role, on = :match_role_id => :role_id_in_source, matchmissing = :notequal);"
   ]
  },
  {
   "cell_type": "code",
   "execution_count": 44,
   "metadata": {},
   "outputs": [
    {
     "data": {
      "text/plain": [
       "(1167, 3019)"
      ]
     },
     "execution_count": 44,
     "metadata": {},
     "output_type": "execute_result"
    }
   ],
   "source": [
    "count(ismissing, df_prp_r.role_id), count(ismissing, df_prp_r.Amtsart)"
   ]
  },
  {
   "cell_type": "markdown",
   "metadata": {},
   "source": [
    "*2022-03-16* TODO übernimm die Rollenbezeichnung `person_role.role_name` aus der Tabelle `role`."
   ]
  },
  {
   "cell_type": "markdown",
   "metadata": {},
   "source": [
    "### Bistümer zuordnen"
   ]
  },
  {
   "cell_type": "code",
   "execution_count": 40,
   "metadata": {},
   "outputs": [],
   "source": [
    "sql = \"SELECT id AS diocese_id, name AS diocese_name FROM diocese\"\n",
    "df_dioc = Wds.sql_df(sql);"
   ]
  },
  {
   "cell_type": "markdown",
   "metadata": {},
   "source": [
    "Es sind nicht alle Ämter mit einem Bistum verknüpft, daher ist eine JOIN-Operation auf diesem Feld nicht möglich."
   ]
  },
  {
   "cell_type": "code",
   "execution_count": 45,
   "metadata": {},
   "outputs": [],
   "source": [
    "df_prp_r = leftjoin(df_prp_r, df_dioc, on = :Bistum => :diocese_name, matchmissing = :notequal);"
   ]
  },
  {
   "cell_type": "code",
   "execution_count": 46,
   "metadata": {},
   "outputs": [],
   "source": [
    "idx_diocese = .!ismissing.(df_prp_r[!, :diocese_id]);"
   ]
  },
  {
   "cell_type": "code",
   "execution_count": 47,
   "metadata": {},
   "outputs": [
    {
     "data": {
      "text/plain": [
       "926"
      ]
     },
     "execution_count": 47,
     "metadata": {},
     "output_type": "execute_result"
    }
   ],
   "source": [
    "sum(idx_diocese)"
   ]
  },
  {
   "cell_type": "markdown",
   "metadata": {},
   "source": [
    "### Instutionen zuordnen\n",
    "Klöster, Domstifte"
   ]
  },
  {
   "cell_type": "code",
   "execution_count": 48,
   "metadata": {},
   "outputs": [],
   "source": [
    "table_name = \"institution\";\n",
    "sql = \"SELECT id AS institution_id, name, id_gsn FROM $(table_name)\"\n",
    "df_inst = Wds.sql_df(sql);"
   ]
  },
  {
   "cell_type": "code",
   "execution_count": 50,
   "metadata": {},
   "outputs": [],
   "source": [
    "df_prp_r = leftjoin(df_prp_r, df_inst, on = :ID_Kloster => :id_gsn, matchmissing = :notequal);"
   ]
  },
  {
   "cell_type": "markdown",
   "metadata": {},
   "source": [
    "Version mit eigener lookup-Funktion"
   ]
  },
  {
   "cell_type": "code",
   "execution_count": 43,
   "metadata": {},
   "outputs": [],
   "source": [
    "lookup_inst = Dict(df_inst.id_gsn .=> df_inst.institution_id);"
   ]
  },
  {
   "cell_type": "code",
   "execution_count": 44,
   "metadata": {},
   "outputs": [
    {
     "data": {
      "text/plain": [
       "5286"
      ]
     },
     "execution_count": 44,
     "metadata": {},
     "output_type": "execute_result"
    }
   ],
   "source": [
    "length(lookup_inst)"
   ]
  },
  {
   "cell_type": "code",
   "execution_count": 45,
   "metadata": {},
   "outputs": [
    {
     "data": {
      "text/plain": [
       "get_inst_id (generic function with 1 method)"
      ]
     },
     "execution_count": 45,
     "metadata": {},
     "output_type": "execute_result"
    }
   ],
   "source": [
    "get_inst_id(id_gsn) = get(lookup_inst, id_gsn, missing)"
   ]
  },
  {
   "cell_type": "code",
   "execution_count": 46,
   "metadata": {},
   "outputs": [
    {
     "data": {
      "text/plain": [
       "79619"
      ]
     },
     "execution_count": 46,
     "metadata": {},
     "output_type": "execute_result"
    }
   ],
   "source": [
    "get_inst_id(318)"
   ]
  },
  {
   "cell_type": "code",
   "execution_count": 47,
   "metadata": {},
   "outputs": [],
   "source": [
    "transform!(df_prp_r, :ID_Kloster => ByRow(get_inst_id) => :institution_id);"
   ]
  },
  {
   "cell_type": "code",
   "execution_count": 48,
   "metadata": {},
   "outputs": [],
   "source": [
    "lookup_inst_name = Dict(df_inst.id_gsn .=> df_inst.name);"
   ]
  },
  {
   "cell_type": "code",
   "execution_count": 49,
   "metadata": {},
   "outputs": [
    {
     "data": {
      "text/plain": [
       "get_inst_name (generic function with 1 method)"
      ]
     },
     "execution_count": 49,
     "metadata": {},
     "output_type": "execute_result"
    }
   ],
   "source": [
    "get_inst_name(id_gsn) = get(lookup_inst_name, id_gsn, missing)"
   ]
  },
  {
   "cell_type": "code",
   "execution_count": 50,
   "metadata": {},
   "outputs": [
    {
     "data": {
      "text/plain": [
       "\"Benediktinerinnenkloster Neuenwalde\""
      ]
     },
     "execution_count": 50,
     "metadata": {},
     "output_type": "execute_result"
    }
   ],
   "source": [
    "get_inst_name(318)"
   ]
  },
  {
   "cell_type": "code",
   "execution_count": 51,
   "metadata": {},
   "outputs": [],
   "source": [
    "transform!(df_prp_r, :ID_Kloster => ByRow(get_inst_name) => :institution_name);"
   ]
  },
  {
   "cell_type": "code",
   "execution_count": 51,
   "metadata": {},
   "outputs": [],
   "source": [
    "df_mg_inst_id = subset(df_prp_r, :institution_id => ByRow(ismissing));"
   ]
  },
  {
   "cell_type": "code",
   "execution_count": 52,
   "metadata": {},
   "outputs": [
    {
     "data": {
      "text/plain": [
       "(1119, 33756)"
      ]
     },
     "execution_count": 52,
     "metadata": {},
     "output_type": "execute_result"
    }
   ],
   "source": [
    "size(df_mg_inst_id, 1), size(df_prp_r, 1)"
   ]
  },
  {
   "cell_type": "markdown",
   "metadata": {},
   "source": [
    "### Numerische Daten eintragen"
   ]
  },
  {
   "cell_type": "code",
   "execution_count": 53,
   "metadata": {},
   "outputs": [
    {
     "name": "stderr",
     "output_type": "stream",
     "text": [
      "┌ Warning: Could not parse \n",
      "│   s = unbekannt\n",
      "└ @ WiagDataSetup C:\\Users\\georg\\Documents\\projekte\\WiagDataSetup.jl\\src\\WiagDataSetup.jl:1118\n",
      "┌ Warning: Could not parse \n",
      "│   s = unbekannt\n",
      "└ @ WiagDataSetup C:\\Users\\georg\\Documents\\projekte\\WiagDataSetup.jl\\src\\WiagDataSetup.jl:1118\n",
      "┌ Warning: Could only find year in \n",
      "│   s = t 1567\n",
      "└ @ WiagDataSetup C:\\Users\\georg\\Documents\\projekte\\WiagDataSetup.jl\\src\\WiagDataSetup.jl:1113\n",
      "┌ Warning: Could only find year in \n",
      "│   s = zwischen 1101\n",
      "└ @ WiagDataSetup C:\\Users\\georg\\Documents\\projekte\\WiagDataSetup.jl\\src\\WiagDataSetup.jl:1113\n",
      "┌ Warning: Could only find year in \n",
      "│   s = Bewerbung 1451\n",
      "└ @ WiagDataSetup C:\\Users\\georg\\Documents\\projekte\\WiagDataSetup.jl\\src\\WiagDataSetup.jl:1113\n",
      "┌ Warning: Could only find year in \n",
      "│   s = [1068]\n",
      "└ @ WiagDataSetup C:\\Users\\georg\\Documents\\projekte\\WiagDataSetup.jl\\src\\WiagDataSetup.jl:1113\n",
      "┌ Warning: Could only find year in \n",
      "│   s = [1068]\n",
      "└ @ WiagDataSetup C:\\Users\\georg\\Documents\\projekte\\WiagDataSetup.jl\\src\\WiagDataSetup.jl:1113\n",
      "┌ Warning: Could only find year in \n",
      "│   s = erneut 1239\n",
      "└ @ WiagDataSetup C:\\Users\\georg\\Documents\\projekte\\WiagDataSetup.jl\\src\\WiagDataSetup.jl:1113\n",
      "┌ Warning: Could only find year in \n",
      "│   s = [1068]\n",
      "└ @ WiagDataSetup C:\\Users\\georg\\Documents\\projekte\\WiagDataSetup.jl\\src\\WiagDataSetup.jl:1113\n",
      "┌ Warning: Could not parse \n",
      "│   s = wohl im 9. Jahrhundert\n",
      "└ @ WiagDataSetup C:\\Users\\georg\\Documents\\projekte\\WiagDataSetup.jl\\src\\WiagDataSetup.jl:1118\n",
      "┌ Warning: Could only find year in \n",
      "│   s = [1452] 1467\n",
      "└ @ WiagDataSetup C:\\Users\\georg\\Documents\\projekte\\WiagDataSetup.jl\\src\\WiagDataSetup.jl:1113\n",
      "┌ Warning: Could only find year in \n",
      "│   s = zw. 1123\n",
      "└ @ WiagDataSetup C:\\Users\\georg\\Documents\\projekte\\WiagDataSetup.jl\\src\\WiagDataSetup.jl:1113\n",
      "┌ Warning: Could only find year in \n",
      "│   s = zw. 1180\n",
      "└ @ WiagDataSetup C:\\Users\\georg\\Documents\\projekte\\WiagDataSetup.jl\\src\\WiagDataSetup.jl:1113\n",
      "┌ Warning: Could only find year in \n",
      "│   s = Feb. 1339\n",
      "└ @ WiagDataSetup C:\\Users\\georg\\Documents\\projekte\\WiagDataSetup.jl\\src\\WiagDataSetup.jl:1113\n",
      "┌ Warning: Could only find year in \n",
      "│   s = [1239]\n",
      "└ @ WiagDataSetup C:\\Users\\georg\\Documents\\projekte\\WiagDataSetup.jl\\src\\WiagDataSetup.jl:1113\n",
      "┌ Warning: Could only find year in \n",
      "│   s = [1633?], 1638, 1646\n",
      "└ @ WiagDataSetup C:\\Users\\georg\\Documents\\projekte\\WiagDataSetup.jl\\src\\WiagDataSetup.jl:1113\n",
      "┌ Warning: Could only find year in \n",
      "│   s = [1539?] 1543\n",
      "└ @ WiagDataSetup C:\\Users\\georg\\Documents\\projekte\\WiagDataSetup.jl\\src\\WiagDataSetup.jl:1113\n",
      "┌ Warning: Could only find year in \n",
      "│   s = [1241] 1248\n",
      "└ @ WiagDataSetup C:\\Users\\georg\\Documents\\projekte\\WiagDataSetup.jl\\src\\WiagDataSetup.jl:1113\n",
      "┌ Warning: Could only find year in \n",
      "│   s = [1188]\n",
      "└ @ WiagDataSetup C:\\Users\\georg\\Documents\\projekte\\WiagDataSetup.jl\\src\\WiagDataSetup.jl:1113\n",
      "┌ Warning: Could only find year in \n",
      "│   s = [1178] 1188\n",
      "└ @ WiagDataSetup C:\\Users\\georg\\Documents\\projekte\\WiagDataSetup.jl\\src\\WiagDataSetup.jl:1113\n",
      "┌ Warning: Could only find year in \n",
      "│   s = [1233] 1236\n",
      "└ @ WiagDataSetup C:\\Users\\georg\\Documents\\projekte\\WiagDataSetup.jl\\src\\WiagDataSetup.jl:1113\n",
      "┌ Warning: Could not parse \n",
      "│   s = 14[4]4\n",
      "└ @ WiagDataSetup C:\\Users\\georg\\Documents\\projekte\\WiagDataSetup.jl\\src\\WiagDataSetup.jl:1118\n",
      "┌ Warning: Could only find year in \n",
      "│   s = [1290 ca.]\n",
      "└ @ WiagDataSetup C:\\Users\\georg\\Documents\\projekte\\WiagDataSetup.jl\\src\\WiagDataSetup.jl:1113\n",
      "┌ Warning: Could only find year in \n",
      "│   s = [1235]\n",
      "└ @ WiagDataSetup C:\\Users\\georg\\Documents\\projekte\\WiagDataSetup.jl\\src\\WiagDataSetup.jl:1113\n",
      "┌ Warning: Could only find year in \n",
      "│   s = ab Mai 973\n",
      "└ @ WiagDataSetup C:\\Users\\georg\\Documents\\projekte\\WiagDataSetup.jl\\src\\WiagDataSetup.jl:1113\n",
      "┌ Warning: Could only find year in \n",
      "│   s = vor dem 28. Juni 1314\n",
      "└ @ WiagDataSetup C:\\Users\\georg\\Documents\\projekte\\WiagDataSetup.jl\\src\\WiagDataSetup.jl:1113\n",
      "┌ Warning: Could only find year in \n",
      "│   s = [1406/ 1407?]\n",
      "└ @ WiagDataSetup C:\\Users\\georg\\Documents\\projekte\\WiagDataSetup.jl\\src\\WiagDataSetup.jl:1113\n",
      "┌ Warning: Could only find year in \n",
      "│   s = [1449]\n",
      "└ @ WiagDataSetup C:\\Users\\georg\\Documents\\projekte\\WiagDataSetup.jl\\src\\WiagDataSetup.jl:1113\n",
      "┌ Warning: Could only find year in \n",
      "│   s = zw. 1180\n",
      "└ @ WiagDataSetup C:\\Users\\georg\\Documents\\projekte\\WiagDataSetup.jl\\src\\WiagDataSetup.jl:1113\n",
      "┌ Warning: Could not parse \n",
      "│   s = 1. Hälfte 14 Jahrhundert\n",
      "└ @ WiagDataSetup C:\\Users\\georg\\Documents\\projekte\\WiagDataSetup.jl\\src\\WiagDataSetup.jl:1118\n",
      "┌ Warning: Could not parse \n",
      "│   s = 1. Hälfte 14 Jahrhundert\n",
      "└ @ WiagDataSetup C:\\Users\\georg\\Documents\\projekte\\WiagDataSetup.jl\\src\\WiagDataSetup.jl:1118\n",
      "┌ Warning: Could not parse \n",
      "│   s = 1. Hälfte 14 Jahrhundert\n",
      "└ @ WiagDataSetup C:\\Users\\georg\\Documents\\projekte\\WiagDataSetup.jl\\src\\WiagDataSetup.jl:1118\n",
      "┌ Warning: Could not parse \n",
      "│   s = Zweites Drittel 14. Jahrhundert\n",
      "└ @ WiagDataSetup C:\\Users\\georg\\Documents\\projekte\\WiagDataSetup.jl\\src\\WiagDataSetup.jl:1118\n",
      "┌ Warning: Could not parse \n",
      "│   s = Zweites Drittel 14. Jahrhundert\n",
      "└ @ WiagDataSetup C:\\Users\\georg\\Documents\\projekte\\WiagDataSetup.jl\\src\\WiagDataSetup.jl:1118\n",
      "┌ Warning: Could not parse \n",
      "│   s = Zweites Drittel 14. Jahrhundert\n",
      "└ @ WiagDataSetup C:\\Users\\georg\\Documents\\projekte\\WiagDataSetup.jl\\src\\WiagDataSetup.jl:1118\n",
      "┌ Warning: Could not parse \n",
      "│   s = 1. Drittel 14 Jahrhundert\n",
      "└ @ WiagDataSetup C:\\Users\\georg\\Documents\\projekte\\WiagDataSetup.jl\\src\\WiagDataSetup.jl:1118\n",
      "┌ Warning: Could not parse \n",
      "│   s = 1 Hälfte des 15. Jahrhunderts\n",
      "└ @ WiagDataSetup C:\\Users\\georg\\Documents\\projekte\\WiagDataSetup.jl\\src\\WiagDataSetup.jl:1118\n",
      "┌ Warning: Could not parse \n",
      "│   s = 1. Hälfte 14 Jahrhundert\n",
      "└ @ WiagDataSetup C:\\Users\\georg\\Documents\\projekte\\WiagDataSetup.jl\\src\\WiagDataSetup.jl:1118\n",
      "┌ Warning: Could not parse \n",
      "│   s = Beginn 15. Jahrhundert\n",
      "└ @ WiagDataSetup C:\\Users\\georg\\Documents\\projekte\\WiagDataSetup.jl\\src\\WiagDataSetup.jl:1118\n",
      "┌ Warning: Could not parse \n",
      "│   s = 1. Drittel 16. Jahrhundert\n",
      "└ @ WiagDataSetup C:\\Users\\georg\\Documents\\projekte\\WiagDataSetup.jl\\src\\WiagDataSetup.jl:1118\n",
      "┌ Warning: Could not parse \n",
      "│   s = 1. Drittel 16. Jahrhundert\n",
      "└ @ WiagDataSetup C:\\Users\\georg\\Documents\\projekte\\WiagDataSetup.jl\\src\\WiagDataSetup.jl:1118\n",
      "┌ Warning: Could not parse \n",
      "│   s = Beginn 14. Jahrhundert\n",
      "└ @ WiagDataSetup C:\\Users\\georg\\Documents\\projekte\\WiagDataSetup.jl\\src\\WiagDataSetup.jl:1118\n",
      "┌ Warning: Could not parse \n",
      "│   s = 1. Drittel 14. Jahrhundert\n",
      "└ @ WiagDataSetup C:\\Users\\georg\\Documents\\projekte\\WiagDataSetup.jl\\src\\WiagDataSetup.jl:1118\n",
      "┌ Warning: Could not parse \n",
      "│   s = Beginn 14. Jahrhundert\n",
      "└ @ WiagDataSetup C:\\Users\\georg\\Documents\\projekte\\WiagDataSetup.jl\\src\\WiagDataSetup.jl:1118\n",
      "┌ Warning: Could not parse \n",
      "│   s = 1. Drittel 17. Jahrhunert\n",
      "└ @ WiagDataSetup C:\\Users\\georg\\Documents\\projekte\\WiagDataSetup.jl\\src\\WiagDataSetup.jl:1118\n",
      "┌ Warning: Could not parse \n",
      "│   s = 1. Drittel 16. Jahrhundert\n",
      "└ @ WiagDataSetup C:\\Users\\georg\\Documents\\projekte\\WiagDataSetup.jl\\src\\WiagDataSetup.jl:1118\n",
      "┌ Warning: Could not parse \n",
      "│   s = 1. Drittel 16. Jahrhundert\n",
      "└ @ WiagDataSetup C:\\Users\\georg\\Documents\\projekte\\WiagDataSetup.jl\\src\\WiagDataSetup.jl:1118\n",
      "┌ Warning: Could not parse \n",
      "│   s = Beginn16. Jahrhundert\n",
      "└ @ WiagDataSetup C:\\Users\\georg\\Documents\\projekte\\WiagDataSetup.jl\\src\\WiagDataSetup.jl:1118\n",
      "┌ Warning: Could not parse \n",
      "│   s = Beginn16. Jahrhundert\n",
      "└ @ WiagDataSetup C:\\Users\\georg\\Documents\\projekte\\WiagDataSetup.jl\\src\\WiagDataSetup.jl:1118\n",
      "┌ Warning: Could not parse \n",
      "│   s = Beginn16. Jahrhundert\n",
      "└ @ WiagDataSetup C:\\Users\\georg\\Documents\\projekte\\WiagDataSetup.jl\\src\\WiagDataSetup.jl:1118\n",
      "┌ Warning: Could not parse \n",
      "│   s = Beginn16. Jahrhundert\n",
      "└ @ WiagDataSetup C:\\Users\\georg\\Documents\\projekte\\WiagDataSetup.jl\\src\\WiagDataSetup.jl:1118\n",
      "┌ Warning: Could not parse \n",
      "│   s = Beginn16. Jahrhundert\n",
      "└ @ WiagDataSetup C:\\Users\\georg\\Documents\\projekte\\WiagDataSetup.jl\\src\\WiagDataSetup.jl:1118\n",
      "┌ Warning: Could only find year in \n",
      "│   s = [1284]\n",
      "└ @ WiagDataSetup C:\\Users\\georg\\Documents\\projekte\\WiagDataSetup.jl\\src\\WiagDataSetup.jl:1113\n",
      "┌ Warning: Could only find year in \n",
      "│   s = [1309]\n",
      "└ @ WiagDataSetup C:\\Users\\georg\\Documents\\projekte\\WiagDataSetup.jl\\src\\WiagDataSetup.jl:1113\n",
      "┌ Warning: Could not parse \n",
      "│   s = Beginn 17. Jahrhundert\n",
      "└ @ WiagDataSetup C:\\Users\\georg\\Documents\\projekte\\WiagDataSetup.jl\\src\\WiagDataSetup.jl:1118\n"
     ]
    }
   ],
   "source": [
    "num_date_begin(s_date) = Wds.parsemaybe(s_date, :lower)\n",
    "df_prp_r[!, :num_date_begin] .= num_date_begin.(df_prp_r[!, :Amtsbeginn]);"
   ]
  },
  {
   "cell_type": "code",
   "execution_count": 54,
   "metadata": {},
   "outputs": [
    {
     "name": "stderr",
     "output_type": "stream",
     "text": [
      "┌ Warning: Could only find year in \n",
      "│   s = res. 1399\n",
      "└ @ WiagDataSetup C:\\Users\\georg\\Documents\\projekte\\WiagDataSetup.jl\\src\\WiagDataSetup.jl:1113\n",
      "┌ Warning: Could only find year in \n",
      "│   s = t1529\n",
      "└ @ WiagDataSetup C:\\Users\\georg\\Documents\\projekte\\WiagDataSetup.jl\\src\\WiagDataSetup.jl:1113\n",
      "┌ Warning: Could only find year in \n",
      "│   s = t1547\n",
      "└ @ WiagDataSetup C:\\Users\\georg\\Documents\\projekte\\WiagDataSetup.jl\\src\\WiagDataSetup.jl:1113\n",
      "┌ Warning: Could only find year in \n",
      "│   s = und 1118\n",
      "└ @ WiagDataSetup C:\\Users\\georg\\Documents\\projekte\\WiagDataSetup.jl\\src\\WiagDataSetup.jl:1113\n",
      "┌ Warning: Could only find year in \n",
      "│   s = 1 1320 Aug. 22\n",
      "└ @ WiagDataSetup C:\\Users\\georg\\Documents\\projekte\\WiagDataSetup.jl\\src\\WiagDataSetup.jl:1113\n",
      "┌ Warning: Could not parse \n",
      "│   s = 66\n",
      "└ @ WiagDataSetup C:\\Users\\georg\\Documents\\projekte\\WiagDataSetup.jl\\src\\WiagDataSetup.jl:1118\n",
      "┌ Warning: Could not parse \n",
      "│   s = 86\n",
      "└ @ WiagDataSetup C:\\Users\\georg\\Documents\\projekte\\WiagDataSetup.jl\\src\\WiagDataSetup.jl:1118\n",
      "┌ Warning: Could only find year in \n",
      "│   s = [1223]\n",
      "└ @ WiagDataSetup C:\\Users\\georg\\Documents\\projekte\\WiagDataSetup.jl\\src\\WiagDataSetup.jl:1113\n",
      "┌ Warning: Could only find year in \n",
      "│   s = u. 1148\n",
      "└ @ WiagDataSetup C:\\Users\\georg\\Documents\\projekte\\WiagDataSetup.jl\\src\\WiagDataSetup.jl:1113\n",
      "┌ Warning: Could only find year in \n",
      "│   s = u. 1188\n",
      "└ @ WiagDataSetup C:\\Users\\georg\\Documents\\projekte\\WiagDataSetup.jl\\src\\WiagDataSetup.jl:1113\n",
      "┌ Warning: Could only find year in \n",
      "│   s = [1241]\n",
      "└ @ WiagDataSetup C:\\Users\\georg\\Documents\\projekte\\WiagDataSetup.jl\\src\\WiagDataSetup.jl:1113\n",
      "┌ Warning: Could only find year in \n",
      "│   s = nach Mai 1624\n",
      "└ @ WiagDataSetup C:\\Users\\georg\\Documents\\projekte\\WiagDataSetup.jl\\src\\WiagDataSetup.jl:1113\n",
      "┌ Warning: Could only find year in \n",
      "│   s = [1202]\n",
      "└ @ WiagDataSetup C:\\Users\\georg\\Documents\\projekte\\WiagDataSetup.jl\\src\\WiagDataSetup.jl:1113\n",
      "┌ Warning: Could only find year in \n",
      "│   s = [1801]\n",
      "└ @ WiagDataSetup C:\\Users\\georg\\Documents\\projekte\\WiagDataSetup.jl\\src\\WiagDataSetup.jl:1113\n",
      "┌ Warning: Could only find year in \n",
      "│   s = res. 1399\n",
      "└ @ WiagDataSetup C:\\Users\\georg\\Documents\\projekte\\WiagDataSetup.jl\\src\\WiagDataSetup.jl:1113\n",
      "┌ Warning: Could only find year in \n",
      "│   s = u. 1188\n",
      "└ @ WiagDataSetup C:\\Users\\georg\\Documents\\projekte\\WiagDataSetup.jl\\src\\WiagDataSetup.jl:1113\n",
      "┌ Warning: Could not parse \n",
      "│   s = 1. Drittel 14 Jahrhundert\n",
      "└ @ WiagDataSetup C:\\Users\\georg\\Documents\\projekte\\WiagDataSetup.jl\\src\\WiagDataSetup.jl:1118\n",
      "┌ Warning: Could only find year in \n",
      "│   s = t1568\n",
      "└ @ WiagDataSetup C:\\Users\\georg\\Documents\\projekte\\WiagDataSetup.jl\\src\\WiagDataSetup.jl:1113\n"
     ]
    }
   ],
   "source": [
    "num_date_end(s_date) = Wds.parsemaybe(s_date, :upper)\n",
    "df_prp_r[!, :num_date_end] .= num_date_end.(df_prp_r[!, :Amtsende]);"
   ]
  },
  {
   "cell_type": "code",
   "execution_count": 55,
   "metadata": {},
   "outputs": [],
   "source": [
    "df_info = dropmissing(df_prp_r, :Amtsart);"
   ]
  },
  {
   "cell_type": "code",
   "execution_count": 56,
   "metadata": {},
   "outputs": [
    {
     "data": {
      "text/plain": [
       "30737"
      ]
     },
     "execution_count": 56,
     "metadata": {},
     "output_type": "execute_result"
    }
   ],
   "source": [
    "size(df_info, 1)"
   ]
  },
  {
   "cell_type": "code",
   "execution_count": 57,
   "metadata": {},
   "outputs": [
    {
     "data": {
      "text/html": [
       "<div class=\"data-frame\"><p>8 rows × 6 columns</p><table class=\"data-frame\"><thead><tr><th></th><th>ID_Domherr</th><th>Amtsart</th><th>Amtsbeginn</th><th>num_date_begin</th><th>Amtsende</th><th>num_date_end</th></tr><tr><th></th><th title=\"Int64\">Int64</th><th title=\"String\">String</th><th title=\"Union{Missing, String}\">String?</th><th title=\"Union{Missing, Int64}\">Int64?</th><th title=\"Union{Missing, String}\">String?</th><th title=\"Union{Missing, Int64}\">Int64?</th></tr></thead><tbody><tr><th>1</th><td>14136</td><td>Domkantor</td><td>1460</td><td>1460</td><td>1473</td><td>1473</td></tr><tr><th>2</th><td>14139</td><td>Domkantor</td><td>1474</td><td>1474</td><td>1498</td><td>1498</td></tr><tr><th>3</th><td>14141</td><td>Domkantor</td><td>1510</td><td>1510</td><td>1517</td><td>1517</td></tr><tr><th>4</th><td>14142</td><td>Domkantor</td><td>1530</td><td>1530</td><td>1538</td><td>1538</td></tr><tr><th>5</th><td>14145</td><td>Domkantor</td><td>1541</td><td>1541</td><td>1544</td><td>1544</td></tr><tr><th>6</th><td>14148</td><td>Domkantor</td><td>1553</td><td>1553</td><td>1572</td><td>1572</td></tr><tr><th>7</th><td>14804</td><td>Dompropst</td><td>1159?</td><td>1159</td><td>1174</td><td>1174</td></tr><tr><th>8</th><td>14805</td><td>Dompropst</td><td>1175</td><td>1175</td><td>1183</td><td>1183</td></tr></tbody></table></div>"
      ],
      "text/latex": [
       "\\begin{tabular}{r|cccccc}\n",
       "\t& ID\\_Domherr & Amtsart & Amtsbeginn & num\\_date\\_begin & Amtsende & num\\_date\\_end\\\\\n",
       "\t\\hline\n",
       "\t& Int64 & String & String? & Int64? & String? & Int64?\\\\\n",
       "\t\\hline\n",
       "\t1 & 14136 & Domkantor & 1460 & 1460 & 1473 & 1473 \\\\\n",
       "\t2 & 14139 & Domkantor & 1474 & 1474 & 1498 & 1498 \\\\\n",
       "\t3 & 14141 & Domkantor & 1510 & 1510 & 1517 & 1517 \\\\\n",
       "\t4 & 14142 & Domkantor & 1530 & 1530 & 1538 & 1538 \\\\\n",
       "\t5 & 14145 & Domkantor & 1541 & 1541 & 1544 & 1544 \\\\\n",
       "\t6 & 14148 & Domkantor & 1553 & 1553 & 1572 & 1572 \\\\\n",
       "\t7 & 14804 & Dompropst & 1159? & 1159 & 1174 & 1174 \\\\\n",
       "\t8 & 14805 & Dompropst & 1175 & 1175 & 1183 & 1183 \\\\\n",
       "\\end{tabular}\n"
      ],
      "text/plain": [
       "\u001b[1m8×6 DataFrame\u001b[0m\n",
       "\u001b[1m Row \u001b[0m│\u001b[1m ID_Domherr \u001b[0m\u001b[1m Amtsart   \u001b[0m\u001b[1m Amtsbeginn \u001b[0m\u001b[1m num_date_begin \u001b[0m\u001b[1m Amtsende \u001b[0m\u001b[1m num_date_e\u001b[0m ⋯\n",
       "\u001b[1m     \u001b[0m│\u001b[90m Int64      \u001b[0m\u001b[90m String    \u001b[0m\u001b[90m String?    \u001b[0m\u001b[90m Int64?         \u001b[0m\u001b[90m String?  \u001b[0m\u001b[90m Int64?    \u001b[0m ⋯\n",
       "─────┼──────────────────────────────────────────────────────────────────────────\n",
       "   1 │      14136  Domkantor  1460                  1460  1473              14 ⋯\n",
       "   2 │      14139  Domkantor  1474                  1474  1498              14\n",
       "   3 │      14141  Domkantor  1510                  1510  1517              15\n",
       "   4 │      14142  Domkantor  1530                  1530  1538              15\n",
       "   5 │      14145  Domkantor  1541                  1541  1544              15 ⋯\n",
       "   6 │      14148  Domkantor  1553                  1553  1572              15\n",
       "   7 │      14804  Dompropst  1159?                 1159  1174              11\n",
       "   8 │      14805  Dompropst  1175                  1175  1183              11\n",
       "\u001b[36m                                                                1 column omitted\u001b[0m"
      ]
     },
     "execution_count": 57,
     "metadata": {},
     "output_type": "execute_result"
    }
   ],
   "source": [
    "df_info[60:67, [:ID_Domherr, :Amtsart, :Amtsbeginn, :num_date_begin, :Amtsende, :num_date_end]]"
   ]
  },
  {
   "cell_type": "code",
   "execution_count": 58,
   "metadata": {},
   "outputs": [
    {
     "data": {
      "text/plain": [
       "(33756, 23)"
      ]
     },
     "execution_count": 58,
     "metadata": {},
     "output_type": "execute_result"
    }
   ],
   "source": [
    "size(df_prp)"
   ]
  },
  {
   "cell_type": "markdown",
   "metadata": {},
   "source": [
    "*2022-05-20* Datenfehler in der Quelle korrigiert"
   ]
  },
  {
   "cell_type": "code",
   "execution_count": 94,
   "metadata": {},
   "outputs": [
    {
     "data": {
      "text/plain": [
       "fix_date (generic function with 1 method)"
      ]
     },
     "execution_count": 94,
     "metadata": {},
     "output_type": "execute_result"
    }
   ],
   "source": [
    "function fix_date(s)\n",
    "    if ismissing(s)\n",
    "        return s\n",
    "    end\n",
    "    return replace(s, \"1 Hälfte\" => \"1. Hälfte\", \"14 Jahr\" => \"14. Jahr\", \"Beginn16\" => \"Beginn 16\")\n",
    "end"
   ]
  },
  {
   "cell_type": "code",
   "execution_count": 98,
   "metadata": {},
   "outputs": [],
   "source": [
    "transform!(df_prp_r, :Amtsbeginn => ByRow(fix_date) => :Amtsbeginn);"
   ]
  },
  {
   "cell_type": "code",
   "execution_count": 99,
   "metadata": {},
   "outputs": [],
   "source": [
    "transform!(df_prp_r, :Amtsende => ByRow(fix_date) => :Amtsende);"
   ]
  },
  {
   "cell_type": "code",
   "execution_count": 107,
   "metadata": {},
   "outputs": [
    {
     "name": "stderr",
     "output_type": "stream",
     "text": [
      "┌ Warning: could not parse \n",
      "│   s = (1553) 1560\n",
      "└ @ WiagDataSetup C:\\Users\\georg\\Documents\\projekte\\WiagDataSetup.jl\\src\\WiagDataSetup.jl:1538\n",
      "┌ Warning: could not parse \n",
      "│   s = (1574) 1593\n",
      "└ @ WiagDataSetup C:\\Users\\georg\\Documents\\projekte\\WiagDataSetup.jl\\src\\WiagDataSetup.jl:1538\n",
      "┌ Warning: could not parse \n",
      "│   s = t 1567\n",
      "└ @ WiagDataSetup C:\\Users\\georg\\Documents\\projekte\\WiagDataSetup.jl\\src\\WiagDataSetup.jl:1538\n",
      "┌ Warning: could not parse \n",
      "│   s = zwischen 1101\n",
      "└ @ WiagDataSetup C:\\Users\\georg\\Documents\\projekte\\WiagDataSetup.jl\\src\\WiagDataSetup.jl:1538\n",
      "┌ Warning: could not parse \n",
      "│   s = (Bewerbung 1451)\n",
      "└ @ WiagDataSetup C:\\Users\\georg\\Documents\\projekte\\WiagDataSetup.jl\\src\\WiagDataSetup.jl:1538\n",
      "┌ Warning: could not parse \n",
      "│   s = [1068]\n",
      "└ @ WiagDataSetup C:\\Users\\georg\\Documents\\projekte\\WiagDataSetup.jl\\src\\WiagDataSetup.jl:1538\n",
      "┌ Warning: could not parse \n",
      "│   s = [1068]\n",
      "└ @ WiagDataSetup C:\\Users\\georg\\Documents\\projekte\\WiagDataSetup.jl\\src\\WiagDataSetup.jl:1538\n",
      "┌ Warning: could not parse \n",
      "│   s = erneut 1239\n",
      "└ @ WiagDataSetup C:\\Users\\georg\\Documents\\projekte\\WiagDataSetup.jl\\src\\WiagDataSetup.jl:1538\n",
      "┌ Warning: could not parse \n",
      "│   s = [1068]\n",
      "└ @ WiagDataSetup C:\\Users\\georg\\Documents\\projekte\\WiagDataSetup.jl\\src\\WiagDataSetup.jl:1538\n",
      "┌ Warning: could not parse \n",
      "│   s = (1410 Provision)\n",
      "└ @ WiagDataSetup C:\\Users\\georg\\Documents\\projekte\\WiagDataSetup.jl\\src\\WiagDataSetup.jl:1538\n",
      "┌ Warning: could not parse \n",
      "│   s = (1460 Provision)\n",
      "└ @ WiagDataSetup C:\\Users\\georg\\Documents\\projekte\\WiagDataSetup.jl\\src\\WiagDataSetup.jl:1538\n",
      "┌ Warning: could not parse \n",
      "│   s = (1215) (1235)\n",
      "└ @ WiagDataSetup C:\\Users\\georg\\Documents\\projekte\\WiagDataSetup.jl\\src\\WiagDataSetup.jl:1538\n",
      "┌ Warning: could not parse \n",
      "│   s = (vor) 1515\n",
      "└ @ WiagDataSetup C:\\Users\\georg\\Documents\\projekte\\WiagDataSetup.jl\\src\\WiagDataSetup.jl:1538\n",
      "┌ Warning: could not parse \n",
      "│   s = (vor) 1521\n",
      "└ @ WiagDataSetup C:\\Users\\georg\\Documents\\projekte\\WiagDataSetup.jl\\src\\WiagDataSetup.jl:1538\n",
      "┌ Warning: could not parse \n",
      "│   s = [1452] 1467\n",
      "└ @ WiagDataSetup C:\\Users\\georg\\Documents\\projekte\\WiagDataSetup.jl\\src\\WiagDataSetup.jl:1538\n",
      "┌ Warning: could not parse \n",
      "│   s = zw. 1123\n",
      "└ @ WiagDataSetup C:\\Users\\georg\\Documents\\projekte\\WiagDataSetup.jl\\src\\WiagDataSetup.jl:1538\n",
      "┌ Warning: could not parse \n",
      "│   s = zw. 1180\n",
      "└ @ WiagDataSetup C:\\Users\\georg\\Documents\\projekte\\WiagDataSetup.jl\\src\\WiagDataSetup.jl:1538\n",
      "┌ Warning: could not parse \n",
      "│   s = Feb. 1339\n",
      "└ @ WiagDataSetup C:\\Users\\georg\\Documents\\projekte\\WiagDataSetup.jl\\src\\WiagDataSetup.jl:1538\n",
      "┌ Warning: could not parse \n",
      "│   s = [1239]\n",
      "└ @ WiagDataSetup C:\\Users\\georg\\Documents\\projekte\\WiagDataSetup.jl\\src\\WiagDataSetup.jl:1538\n",
      "┌ Warning: year out of range in \n",
      "│   s = 17681789\n",
      "└ @ WiagDataSetup C:\\Users\\georg\\Documents\\projekte\\WiagDataSetup.jl\\src\\WiagDataSetup.jl:1530\n",
      "┌ Warning: could not parse \n",
      "│   s = [1633?], 1638, 1646\n",
      "└ @ WiagDataSetup C:\\Users\\georg\\Documents\\projekte\\WiagDataSetup.jl\\src\\WiagDataSetup.jl:1538\n",
      "┌ Warning: could not parse \n",
      "│   s = [1539?] 1543\n",
      "└ @ WiagDataSetup C:\\Users\\georg\\Documents\\projekte\\WiagDataSetup.jl\\src\\WiagDataSetup.jl:1538\n",
      "┌ Warning: could not parse \n",
      "│   s = [1241] 1248\n",
      "└ @ WiagDataSetup C:\\Users\\georg\\Documents\\projekte\\WiagDataSetup.jl\\src\\WiagDataSetup.jl:1538\n",
      "┌ Warning: could not parse \n",
      "│   s = [1188]\n",
      "└ @ WiagDataSetup C:\\Users\\georg\\Documents\\projekte\\WiagDataSetup.jl\\src\\WiagDataSetup.jl:1538\n",
      "┌ Warning: could not parse \n",
      "│   s = [1178] 1188\n",
      "└ @ WiagDataSetup C:\\Users\\georg\\Documents\\projekte\\WiagDataSetup.jl\\src\\WiagDataSetup.jl:1538\n",
      "┌ Warning: could not parse \n",
      "│   s = [1233] 1236\n",
      "└ @ WiagDataSetup C:\\Users\\georg\\Documents\\projekte\\WiagDataSetup.jl\\src\\WiagDataSetup.jl:1538\n",
      "┌ Warning: could not parse \n",
      "│   s = [1290 ca.]\n",
      "└ @ WiagDataSetup C:\\Users\\georg\\Documents\\projekte\\WiagDataSetup.jl\\src\\WiagDataSetup.jl:1538\n",
      "┌ Warning: could not parse \n",
      "│   s = [1235]\n",
      "└ @ WiagDataSetup C:\\Users\\georg\\Documents\\projekte\\WiagDataSetup.jl\\src\\WiagDataSetup.jl:1538\n",
      "┌ Warning: could not parse \n",
      "│   s = ab Mai 973\n",
      "└ @ WiagDataSetup C:\\Users\\georg\\Documents\\projekte\\WiagDataSetup.jl\\src\\WiagDataSetup.jl:1538\n",
      "┌ Warning: could not parse \n",
      "│   s = vor dem 28. Juni 1314\n",
      "└ @ WiagDataSetup C:\\Users\\georg\\Documents\\projekte\\WiagDataSetup.jl\\src\\WiagDataSetup.jl:1538\n",
      "┌ Warning: could not parse \n",
      "│   s = (1158), 1177\n",
      "└ @ WiagDataSetup C:\\Users\\georg\\Documents\\projekte\\WiagDataSetup.jl\\src\\WiagDataSetup.jl:1538\n",
      "┌ Warning: could not parse \n",
      "│   s = [1406/ 1407?]\n",
      "└ @ WiagDataSetup C:\\Users\\georg\\Documents\\projekte\\WiagDataSetup.jl\\src\\WiagDataSetup.jl:1538\n",
      "┌ Warning: could not parse \n",
      "│   s = [1449]\n",
      "└ @ WiagDataSetup C:\\Users\\georg\\Documents\\projekte\\WiagDataSetup.jl\\src\\WiagDataSetup.jl:1538\n",
      "┌ Warning: could not parse \n",
      "│   s = zw. 1180\n",
      "└ @ WiagDataSetup C:\\Users\\georg\\Documents\\projekte\\WiagDataSetup.jl\\src\\WiagDataSetup.jl:1538\n",
      "┌ Warning: could not parse \n",
      "│   s = (1178)\n",
      "└ @ WiagDataSetup C:\\Users\\georg\\Documents\\projekte\\WiagDataSetup.jl\\src\\WiagDataSetup.jl:1538\n",
      "┌ Warning: could not parse \n",
      "│   s = [1284]\n",
      "└ @ WiagDataSetup C:\\Users\\georg\\Documents\\projekte\\WiagDataSetup.jl\\src\\WiagDataSetup.jl:1538\n",
      "┌ Warning: could not parse \n",
      "│   s = [1309]\n",
      "└ @ WiagDataSetup C:\\Users\\georg\\Documents\\projekte\\WiagDataSetup.jl\\src\\WiagDataSetup.jl:1538\n",
      "┌ Warning: could not parse \n",
      "│   s = (1553) 1560\n",
      "└ @ WiagDataSetup C:\\Users\\georg\\Documents\\projekte\\WiagDataSetup.jl\\src\\WiagDataSetup.jl:1538\n"
     ]
    }
   ],
   "source": [
    "transform!(df_prp_r, :Amtsbeginn => ByRow(Wds.parse_year_sort) => :date_sort_key);"
   ]
  },
  {
   "cell_type": "markdown",
   "metadata": {},
   "source": [
    "*2022-05-12* In `tbl_Domherren_Aemter` enthalten 200 Einträge ein `†`. Das wird vor dem Parsen entfernt."
   ]
  },
  {
   "cell_type": "code",
   "execution_count": 108,
   "metadata": {},
   "outputs": [
    {
     "name": "stderr",
     "output_type": "stream",
     "text": [
      "┌ Warning: could not parse \n",
      "│   s = (1101)\n",
      "└ @ WiagDataSetup C:\\Users\\georg\\Documents\\projekte\\WiagDataSetup.jl\\src\\WiagDataSetup.jl:1538\n",
      "┌ Warning: year out of range in \n",
      "│   s = 16445\n",
      "└ @ WiagDataSetup C:\\Users\\georg\\Documents\\projekte\\WiagDataSetup.jl\\src\\WiagDataSetup.jl:1530\n",
      "┌ Warning: could not parse \n",
      "│   s = res. 1399\n",
      "└ @ WiagDataSetup C:\\Users\\georg\\Documents\\projekte\\WiagDataSetup.jl\\src\\WiagDataSetup.jl:1538\n",
      "┌ Warning: could not parse \n",
      "│   s = t1529\n",
      "└ @ WiagDataSetup C:\\Users\\georg\\Documents\\projekte\\WiagDataSetup.jl\\src\\WiagDataSetup.jl:1538\n",
      "┌ Warning: could not parse \n",
      "│   s = t1547\n",
      "└ @ WiagDataSetup C:\\Users\\georg\\Documents\\projekte\\WiagDataSetup.jl\\src\\WiagDataSetup.jl:1538\n",
      "┌ Warning: could not parse \n",
      "│   s = und 1118\n",
      "└ @ WiagDataSetup C:\\Users\\georg\\Documents\\projekte\\WiagDataSetup.jl\\src\\WiagDataSetup.jl:1538\n",
      "┌ Warning: could not parse \n",
      "│   s = 1 1320 Aug. 22\n",
      "└ @ WiagDataSetup C:\\Users\\georg\\Documents\\projekte\\WiagDataSetup.jl\\src\\WiagDataSetup.jl:1538\n",
      "┌ Warning: could not parse \n",
      "│   s = [1223]\n",
      "└ @ WiagDataSetup C:\\Users\\georg\\Documents\\projekte\\WiagDataSetup.jl\\src\\WiagDataSetup.jl:1538\n",
      "┌ Warning: could not parse \n",
      "│   s = u. 1148\n",
      "└ @ WiagDataSetup C:\\Users\\georg\\Documents\\projekte\\WiagDataSetup.jl\\src\\WiagDataSetup.jl:1538\n",
      "┌ Warning: could not parse \n",
      "│   s = u. 1188\n",
      "└ @ WiagDataSetup C:\\Users\\georg\\Documents\\projekte\\WiagDataSetup.jl\\src\\WiagDataSetup.jl:1538\n",
      "┌ Warning: could not parse \n",
      "│   s = [1241]\n",
      "└ @ WiagDataSetup C:\\Users\\georg\\Documents\\projekte\\WiagDataSetup.jl\\src\\WiagDataSetup.jl:1538\n",
      "┌ Warning: could not parse \n",
      "│   s = nach Mai 1624\n",
      "└ @ WiagDataSetup C:\\Users\\georg\\Documents\\projekte\\WiagDataSetup.jl\\src\\WiagDataSetup.jl:1538\n",
      "┌ Warning: could not parse \n",
      "│   s = [1202]\n",
      "└ @ WiagDataSetup C:\\Users\\georg\\Documents\\projekte\\WiagDataSetup.jl\\src\\WiagDataSetup.jl:1538\n",
      "┌ Warning: could not parse \n",
      "│   s = [1801]\n",
      "└ @ WiagDataSetup C:\\Users\\georg\\Documents\\projekte\\WiagDataSetup.jl\\src\\WiagDataSetup.jl:1538\n",
      "┌ Warning: could not parse \n",
      "│   s = res. 1399\n",
      "└ @ WiagDataSetup C:\\Users\\georg\\Documents\\projekte\\WiagDataSetup.jl\\src\\WiagDataSetup.jl:1538\n",
      "┌ Warning: could not parse \n",
      "│   s = u. 1188\n",
      "└ @ WiagDataSetup C:\\Users\\georg\\Documents\\projekte\\WiagDataSetup.jl\\src\\WiagDataSetup.jl:1538\n",
      "┌ Warning: could not parse \n",
      "│   s = t1568\n",
      "└ @ WiagDataSetup C:\\Users\\georg\\Documents\\projekte\\WiagDataSetup.jl\\src\\WiagDataSetup.jl:1538\n"
     ]
    }
   ],
   "source": [
    "transform!(df_prp_r, :Amtsende => ByRow(Wds.parse_year_sort) => :date_sort_key_replace);"
   ]
  },
  {
   "cell_type": "code",
   "execution_count": 105,
   "metadata": {},
   "outputs": [
    {
     "data": {
      "text/plain": [
       "9000900"
      ]
     },
     "execution_count": 105,
     "metadata": {},
     "output_type": "execute_result"
    }
   ],
   "source": [
    "maximum(df_prp_r.date_sort_key)"
   ]
  },
  {
   "cell_type": "code",
   "execution_count": 109,
   "metadata": {},
   "outputs": [
    {
     "data": {
      "text/plain": [
       "replace_if_missing (generic function with 1 method)"
      ]
     },
     "execution_count": 109,
     "metadata": {},
     "output_type": "execute_result"
    }
   ],
   "source": [
    "replace_if_missing(a, b) = a == 9000900 ? b : a"
   ]
  },
  {
   "cell_type": "code",
   "execution_count": 110,
   "metadata": {},
   "outputs": [],
   "source": [
    "transform!(df_prp_r, [:date_sort_key, :date_sort_key_replace] => ByRow(replace_if_missing) => :date_sort_key);"
   ]
  },
  {
   "cell_type": "code",
   "execution_count": 111,
   "metadata": {},
   "outputs": [
    {
     "data": {
      "text/plain": [
       "(33756, 1845)"
      ]
     },
     "execution_count": 111,
     "metadata": {},
     "output_type": "execute_result"
    }
   ],
   "source": [
    "size(df_prp_r, 1), count(isequal(9000900), df_prp_r.date_sort_key)"
   ]
  },
  {
   "cell_type": "code",
   "execution_count": 112,
   "metadata": {},
   "outputs": [],
   "source": [
    "df_info = dropmissing(df_prp_r, :Amtsart);"
   ]
  },
  {
   "cell_type": "code",
   "execution_count": 114,
   "metadata": {},
   "outputs": [
    {
     "data": {
      "text/html": [
       "<div class=\"data-frame\"><p>6 rows × 7 columns</p><table class=\"data-frame\"><thead><tr><th></th><th>Amtsart</th><th>ID_Amt_norm</th><th>role_id</th><th>Amtsbeginn</th><th>num_date_begin</th><th>num_date_end</th><th>date_sort_key</th></tr><tr><th></th><th title=\"String\">String</th><th title=\"Union{Missing, Int64}\">Int64?</th><th title=\"Union{Missing, Int32}\">Int32?</th><th title=\"Union{Missing, String}\">String?</th><th title=\"Union{Missing, Int64}\">Int64?</th><th title=\"Union{Missing, Int64}\">Int64?</th><th title=\"Int64\">Int64</th></tr></thead><tbody><tr><th>1</th><td>Domscholaster</td><td>36</td><td>249163</td><td>vor 1328</td><td>1278</td><td><em>missing</em></td><td>1328100</td></tr><tr><th>2</th><td>Domkantor</td><td>26</td><td>249113</td><td>1356</td><td>1356</td><td>1374</td><td>1356150</td></tr><tr><th>3</th><td>Domkantor</td><td>26</td><td>249113</td><td>1376</td><td>1376</td><td>1376</td><td>1376150</td></tr><tr><th>4</th><td>Domkantor</td><td>26</td><td>249113</td><td>1405</td><td>1405</td><td>1419</td><td>1405150</td></tr><tr><th>5</th><td>Domkantor</td><td>26</td><td>249113</td><td>1421</td><td>1421</td><td>1447</td><td>1421150</td></tr><tr><th>6</th><td>Domkantor</td><td>26</td><td>249113</td><td>1452</td><td>1452</td><td>1455</td><td>1452150</td></tr></tbody></table></div>"
      ],
      "text/latex": [
       "\\begin{tabular}{r|ccccccc}\n",
       "\t& Amtsart & ID\\_Amt\\_norm & role\\_id & Amtsbeginn & num\\_date\\_begin & num\\_date\\_end & date\\_sort\\_key\\\\\n",
       "\t\\hline\n",
       "\t& String & Int64? & Int32? & String? & Int64? & Int64? & Int64\\\\\n",
       "\t\\hline\n",
       "\t1 & Domscholaster & 36 & 249163 & vor 1328 & 1278 & \\emph{missing} & 1328100 \\\\\n",
       "\t2 & Domkantor & 26 & 249113 & 1356 & 1356 & 1374 & 1356150 \\\\\n",
       "\t3 & Domkantor & 26 & 249113 & 1376 & 1376 & 1376 & 1376150 \\\\\n",
       "\t4 & Domkantor & 26 & 249113 & 1405 & 1405 & 1419 & 1405150 \\\\\n",
       "\t5 & Domkantor & 26 & 249113 & 1421 & 1421 & 1447 & 1421150 \\\\\n",
       "\t6 & Domkantor & 26 & 249113 & 1452 & 1452 & 1455 & 1452150 \\\\\n",
       "\\end{tabular}\n"
      ],
      "text/plain": [
       "\u001b[1m6×7 DataFrame\u001b[0m\n",
       "\u001b[1m Row \u001b[0m│\u001b[1m Amtsart       \u001b[0m\u001b[1m ID_Amt_norm \u001b[0m\u001b[1m role_id \u001b[0m\u001b[1m Amtsbeginn \u001b[0m\u001b[1m num_date_begin \u001b[0m\u001b[1m num_da\u001b[0m ⋯\n",
       "\u001b[1m     \u001b[0m│\u001b[90m String        \u001b[0m\u001b[90m Int64?      \u001b[0m\u001b[90m Int32?  \u001b[0m\u001b[90m String?    \u001b[0m\u001b[90m Int64?         \u001b[0m\u001b[90m Int64?\u001b[0m ⋯\n",
       "─────┼──────────────────────────────────────────────────────────────────────────\n",
       "   1 │ Domscholaster           36   249163  vor 1328              1278 \u001b[90m      m\u001b[0m ⋯\n",
       "   2 │ Domkantor               26   249113  1356                  1356\n",
       "   3 │ Domkantor               26   249113  1376                  1376\n",
       "   4 │ Domkantor               26   249113  1405                  1405\n",
       "   5 │ Domkantor               26   249113  1421                  1421         ⋯\n",
       "   6 │ Domkantor               26   249113  1452                  1452\n",
       "\u001b[36m                                                               2 columns omitted\u001b[0m"
      ]
     },
     "execution_count": 114,
     "metadata": {},
     "output_type": "execute_result"
    }
   ],
   "source": [
    "df_info[100:105, [:Amtsart, :ID_Amt_norm, :role_id, :Amtsbeginn, :num_date_begin, :num_date_end, :date_sort_key]]"
   ]
  },
  {
   "cell_type": "markdown",
   "metadata": {},
   "source": [
    "Einträge für diesen Item_Typ löschen"
   ]
  },
  {
   "cell_type": "code",
   "execution_count": 115,
   "metadata": {},
   "outputs": [
    {
     "data": {
      "text/plain": [
       "MySQL.TextCursor{true}(MySQL.Connection(host=\"127.0.0.1\", user=\"georg\", port=\"3306\", db=\"wiag2\"), \"DELETE FROM person_role WHERE person_id IN \\n(SELECT id FROM item WHERE item_type_id = 5)\", 0, -1, 33756, MySQL.API.MYSQL_RES(Ptr{Nothing} @0x0000000000000000), Symbol[], Type[], Dict{Symbol, Int64}(), 0, 1, false)"
      ]
     },
     "execution_count": 115,
     "metadata": {},
     "output_type": "execute_result"
    }
   ],
   "source": [
    "table_name = \"person_role\"\n",
    "sql = \"DELETE FROM $(table_name) WHERE person_id IN \n",
    "(SELECT id FROM item WHERE item_type_id = $(item_type_id))\"\n",
    "DBInterface.execute(Wds.dbwiag, sql)"
   ]
  },
  {
   "cell_type": "markdown",
   "metadata": {},
   "source": [
    "Daten schreiben\n",
    "\n",
    "Schreibe für alle Bistümer - auch für die identifizierten - den Namen des Bistums in die Tabelle.  \n",
    "Schreibe für alle Institutionen - auch für die identifizieren - die Bezeichnung in die Tabelle.  \n",
    "Schreibe für alle Ämter - auch für die identifizieren - die Bezeichnung in die Tabelle.\n",
    "\n",
    "Erzeuge die IDs selbst, um sie für `person_role_property` zur Verfügung zu haben."
   ]
  },
  {
   "cell_type": "code",
   "execution_count": 116,
   "metadata": {},
   "outputs": [
    {
     "data": {
      "text/html": [
       "<div class=\"data-frame\"><p>1 rows × 1 columns</p><table class=\"data-frame\"><thead><tr><th></th><th>next_id</th></tr><tr><th></th><th title=\"Union{Missing, Int64}\">Int64?</th></tr></thead><tbody><tr><th>1</th><td>516558</td></tr></tbody></table></div>"
      ],
      "text/latex": [
       "\\begin{tabular}{r|c}\n",
       "\t& next\\_id\\\\\n",
       "\t\\hline\n",
       "\t& Int64?\\\\\n",
       "\t\\hline\n",
       "\t1 & 516558 \\\\\n",
       "\\end{tabular}\n"
      ],
      "text/plain": [
       "\u001b[1m1×1 DataFrame\u001b[0m\n",
       "\u001b[1m Row \u001b[0m│\u001b[1m next_id \u001b[0m\n",
       "\u001b[1m     \u001b[0m│\u001b[90m Int64?  \u001b[0m\n",
       "─────┼─────────\n",
       "   1 │  516558"
      ]
     },
     "execution_count": 116,
     "metadata": {},
     "output_type": "execute_result"
    }
   ],
   "source": [
    "table_name = \"person_role\"\n",
    "sql = \"SELECT MAX(id) + 1 AS next_id FROM $(table_name)\"\n",
    "df_next_id = Wds.sql_df(sql)"
   ]
  },
  {
   "cell_type": "code",
   "execution_count": 117,
   "metadata": {},
   "outputs": [
    {
     "data": {
      "text/plain": [
       "516559"
      ]
     },
     "execution_count": 117,
     "metadata": {},
     "output_type": "execute_result"
    }
   ],
   "source": [
    "next_id = df_next_id[1, :next_id] + 1"
   ]
  },
  {
   "cell_type": "code",
   "execution_count": 118,
   "metadata": {},
   "outputs": [],
   "source": [
    "df_prp_r[!, :id] .= collect(next_id:(next_id + size(df_prp_r, 1) - 1));"
   ]
  },
  {
   "cell_type": "code",
   "execution_count": 119,
   "metadata": {},
   "outputs": [
    {
     "data": {
      "text/html": [
       "<div class=\"data-frame\"><p>7 rows × 5 columns</p><table class=\"data-frame\"><thead><tr><th></th><th>id</th><th>person_id</th><th>ID_Domherr</th><th>Amtsart</th><th>ID_Amt</th></tr><tr><th></th><th title=\"Int64\">Int64</th><th title=\"Union{Missing, Int32}\">Int32?</th><th title=\"Int64\">Int64</th><th title=\"Union{Missing, String}\">String?</th><th title=\"Int64\">Int64</th></tr></thead><tbody><tr><th>1</th><td>517559</td><td>292130</td><td>45146</td><td><em>missing</em></td><td>82350</td></tr><tr><th>2</th><td>517560</td><td>292129</td><td>45147</td><td><em>missing</em></td><td>82351</td></tr><tr><th>3</th><td>517561</td><td>292129</td><td>45147</td><td><em>missing</em></td><td>82352</td></tr><tr><th>4</th><td>517562</td><td>292129</td><td>45147</td><td><em>missing</em></td><td>82353</td></tr><tr><th>5</th><td>517563</td><td>292129</td><td>45147</td><td><em>missing</em></td><td>82354</td></tr><tr><th>6</th><td>517564</td><td>292129</td><td>45147</td><td><em>missing</em></td><td>82355</td></tr><tr><th>7</th><td>517565</td><td>292081</td><td>45135</td><td><em>missing</em></td><td>82356</td></tr></tbody></table></div>"
      ],
      "text/latex": [
       "\\begin{tabular}{r|ccccc}\n",
       "\t& id & person\\_id & ID\\_Domherr & Amtsart & ID\\_Amt\\\\\n",
       "\t\\hline\n",
       "\t& Int64 & Int32? & Int64 & String? & Int64\\\\\n",
       "\t\\hline\n",
       "\t1 & 517559 & 292130 & 45146 & \\emph{missing} & 82350 \\\\\n",
       "\t2 & 517560 & 292129 & 45147 & \\emph{missing} & 82351 \\\\\n",
       "\t3 & 517561 & 292129 & 45147 & \\emph{missing} & 82352 \\\\\n",
       "\t4 & 517562 & 292129 & 45147 & \\emph{missing} & 82353 \\\\\n",
       "\t5 & 517563 & 292129 & 45147 & \\emph{missing} & 82354 \\\\\n",
       "\t6 & 517564 & 292129 & 45147 & \\emph{missing} & 82355 \\\\\n",
       "\t7 & 517565 & 292081 & 45135 & \\emph{missing} & 82356 \\\\\n",
       "\\end{tabular}\n"
      ],
      "text/plain": [
       "\u001b[1m7×5 DataFrame\u001b[0m\n",
       "\u001b[1m Row \u001b[0m│\u001b[1m id     \u001b[0m\u001b[1m person_id \u001b[0m\u001b[1m ID_Domherr \u001b[0m\u001b[1m Amtsart \u001b[0m\u001b[1m ID_Amt \u001b[0m\n",
       "\u001b[1m     \u001b[0m│\u001b[90m Int64  \u001b[0m\u001b[90m Int32?    \u001b[0m\u001b[90m Int64      \u001b[0m\u001b[90m String? \u001b[0m\u001b[90m Int64  \u001b[0m\n",
       "─────┼────────────────────────────────────────────────\n",
       "   1 │ 517559     292130       45146 \u001b[90m missing \u001b[0m  82350\n",
       "   2 │ 517560     292129       45147 \u001b[90m missing \u001b[0m  82351\n",
       "   3 │ 517561     292129       45147 \u001b[90m missing \u001b[0m  82352\n",
       "   4 │ 517562     292129       45147 \u001b[90m missing \u001b[0m  82353\n",
       "   5 │ 517563     292129       45147 \u001b[90m missing \u001b[0m  82354\n",
       "   6 │ 517564     292129       45147 \u001b[90m missing \u001b[0m  82355\n",
       "   7 │ 517565     292081       45135 \u001b[90m missing \u001b[0m  82356"
      ]
     },
     "execution_count": 119,
     "metadata": {},
     "output_type": "execute_result"
    }
   ],
   "source": [
    "df_prp_r[1001:1007, [:id, :person_id, :ID_Domherr, :Amtsart, :ID_Amt]]"
   ]
  },
  {
   "cell_type": "code",
   "execution_count": 120,
   "metadata": {},
   "outputs": [],
   "source": [
    "columns = [\n",
    "    :id => :id,\n",
    "    :Bistum => :diocese_name,\n",
    "    :Amtsbeginn => :date_begin,\n",
    "    :Amtsende => :date_end,\n",
    "    :Amt_Kommentar => :note,\n",
    "    :Sort => :display_order,\n",
    "    :Amtsart => :role_name,\n",
    "    :person_id => :person_id,\n",
    "    :diocese_id => :diocese_id,\n",
    "    :role_id => :role_id,\n",
    "    :institution_id => :institution_id,\n",
    "    :Institution => :institution_name,\n",
    "    :num_date_begin => :num_date_begin,\n",
    "    :num_date_end => :num_date_end,\n",
    "    :date_sort_key => :date_sort_key,\n",
    "];"
   ]
  },
  {
   "cell_type": "code",
   "execution_count": 121,
   "metadata": {},
   "outputs": [
    {
     "name": "stderr",
     "output_type": "stream",
     "text": [
      "┌ Info: 10000\n",
      "└ @ WiagDataSetup C:\\Users\\georg\\Documents\\projekte\\WiagDataSetup.jl\\src\\WiagDataSetup.jl:1186\n",
      "┌ Info: 20000\n",
      "└ @ WiagDataSetup C:\\Users\\georg\\Documents\\projekte\\WiagDataSetup.jl\\src\\WiagDataSetup.jl:1186\n",
      "┌ Info: 30000\n",
      "└ @ WiagDataSetup C:\\Users\\georg\\Documents\\projekte\\WiagDataSetup.jl\\src\\WiagDataSetup.jl:1186\n",
      "┌ Info: Rows inserted: 33756\n",
      "└ @ WiagDataSetup C:\\Users\\georg\\Documents\\projekte\\WiagDataSetup.jl\\src\\WiagDataSetup.jl:1209\n"
     ]
    },
    {
     "data": {
      "text/plain": [
       "33756"
      ]
     },
     "execution_count": 121,
     "metadata": {},
     "output_type": "execute_result"
    }
   ],
   "source": [
    "table_name = \"person_role\"\n",
    "Wds.filltable!(table_name, select(df_prp_r, columns))"
   ]
  },
  {
   "cell_type": "markdown",
   "metadata": {},
   "source": [
    "Titularbistum ist noch nicht eingetragen"
   ]
  },
  {
   "cell_type": "markdown",
   "metadata": {},
   "source": [
    "## Zeitspanne der Person"
   ]
  },
  {
   "cell_type": "code",
   "execution_count": 122,
   "metadata": {},
   "outputs": [],
   "source": [
    "table_name = \"person\"\n",
    "sql = \"SELECT id, num_date_birth, num_date_death\n",
    "FROM $(table_name) WHERE id in (SELECT id FROM item WHERE item_type_id = $(item_type_id))\"\n",
    "df_date = Wds.sql_df(sql);"
   ]
  },
  {
   "cell_type": "code",
   "execution_count": 123,
   "metadata": {},
   "outputs": [
    {
     "data": {
      "text/plain": [
       "(22938, 3)"
      ]
     },
     "execution_count": 123,
     "metadata": {},
     "output_type": "execute_result"
    }
   ],
   "source": [
    "size(df_date)"
   ]
  },
  {
   "cell_type": "markdown",
   "metadata": {},
   "source": [
    "Zeitspanne der Ämter"
   ]
  },
  {
   "cell_type": "code",
   "execution_count": 124,
   "metadata": {},
   "outputs": [
    {
     "data": {
      "text/html": [
       "<p><b>GroupedDataFrame with 22337 groups based on key: person_id</b></p><p><i>First Group (3 rows): person_id = 269991</i></p><div class=\"data-frame\"><table class=\"data-frame\"><thead><tr><th></th><th>person_id</th><th>num_date_begin</th></tr><tr><th></th><th title=\"Union{Missing, Int32}\">Int32?</th><th title=\"Int64\">Int64</th></tr></thead><tbody><tr><th>1</th><td>269991</td><td>1680</td></tr><tr><th>2</th><td>269991</td><td>1678</td></tr><tr><th>3</th><td>269991</td><td>1677</td></tr></tbody></table></div><p>&vellip;</p><p><i>Last Group (1 row): person_id = 292980</i></p><div class=\"data-frame\"><table class=\"data-frame\"><thead><tr><th></th><th>person_id</th><th>num_date_begin</th></tr><tr><th></th><th title=\"Union{Missing, Int32}\">Int32?</th><th title=\"Int64\">Int64</th></tr></thead><tbody><tr><th>1</th><td>292980</td><td>1112</td></tr></tbody></table></div>"
      ],
      "text/latex": [
       "GroupedDataFrame with 22337 groups based on key: person\\_id\n",
       "\n",
       "First Group (3 rows): person\\_id = 269991\n",
       "\n",
       "\\begin{tabular}{r|cc}\n",
       "\t& person\\_id & num\\_date\\_begin\\\\\n",
       "\t\\hline\n",
       "\t& Int32? & Int64\\\\\n",
       "\t\\hline\n",
       "\t1 & 269991 & 1680 \\\\\n",
       "\t2 & 269991 & 1678 \\\\\n",
       "\t3 & 269991 & 1677 \\\\\n",
       "\\end{tabular}\n",
       "\n",
       "$\\dots$\n",
       "\n",
       "Last Group (1 row): person\\_id = 292980\n",
       "\n",
       "\\begin{tabular}{r|cc}\n",
       "\t& person\\_id & num\\_date\\_begin\\\\\n",
       "\t\\hline\n",
       "\t& Int32? & Int64\\\\\n",
       "\t\\hline\n",
       "\t1 & 292980 & 1112 \\\\\n",
       "\\end{tabular}\n"
      ],
      "text/plain": [
       "GroupedDataFrame with 22337 groups based on key: person_id\n",
       "First Group (3 rows): person_id = 269991\n",
       "\u001b[1m Row \u001b[0m│\u001b[1m person_id \u001b[0m\u001b[1m num_date_begin \u001b[0m\n",
       "\u001b[1m     \u001b[0m│\u001b[90m Int32?    \u001b[0m\u001b[90m Int64          \u001b[0m\n",
       "─────┼───────────────────────────\n",
       "   1 │    269991            1680\n",
       "   2 │    269991            1678\n",
       "   3 │    269991            1677\n",
       "⋮\n",
       "Last Group (1 row): person_id = 292980\n",
       "\u001b[1m Row \u001b[0m│\u001b[1m person_id \u001b[0m\u001b[1m num_date_begin \u001b[0m\n",
       "\u001b[1m     \u001b[0m│\u001b[90m Int32?    \u001b[0m\u001b[90m Int64          \u001b[0m\n",
       "─────┼───────────────────────────\n",
       "   1 │    292980            1112"
      ]
     },
     "execution_count": 124,
     "metadata": {},
     "output_type": "execute_result"
    }
   ],
   "source": [
    "df_pr_begin_0 = dropmissing(df_prp_r, :num_date_begin)\n",
    "df_pr_begin = groupby(select(df_pr_begin_0, :person_id, :num_date_begin), :person_id)"
   ]
  },
  {
   "cell_type": "code",
   "execution_count": 125,
   "metadata": {},
   "outputs": [],
   "source": [
    "df_pr_date_min = combine(df_pr_begin, :num_date_begin => minimum => :date_min);"
   ]
  },
  {
   "cell_type": "code",
   "execution_count": 126,
   "metadata": {},
   "outputs": [
    {
     "data": {
      "text/plain": [
       "(22337, 2)"
      ]
     },
     "execution_count": 126,
     "metadata": {},
     "output_type": "execute_result"
    }
   ],
   "source": [
    "size(df_pr_date_min)"
   ]
  },
  {
   "cell_type": "code",
   "execution_count": 127,
   "metadata": {},
   "outputs": [
    {
     "data": {
      "text/html": [
       "<div class=\"data-frame\"><p>7 rows × 2 columns</p><table class=\"data-frame\"><thead><tr><th></th><th>person_id</th><th>date_min</th></tr><tr><th></th><th title=\"Union{Missing, Int32}\">Int32?</th><th title=\"Int64\">Int64</th></tr></thead><tbody><tr><th>1</th><td>273030</td><td>1435</td></tr><tr><th>2</th><td>273031</td><td>1437</td></tr><tr><th>3</th><td>273032</td><td>1435</td></tr><tr><th>4</th><td>273033</td><td>1439</td></tr><tr><th>5</th><td>273034</td><td>1436</td></tr><tr><th>6</th><td>273035</td><td>1428</td></tr><tr><th>7</th><td>273036</td><td>1387</td></tr></tbody></table></div>"
      ],
      "text/latex": [
       "\\begin{tabular}{r|cc}\n",
       "\t& person\\_id & date\\_min\\\\\n",
       "\t\\hline\n",
       "\t& Int32? & Int64\\\\\n",
       "\t\\hline\n",
       "\t1 & 273030 & 1435 \\\\\n",
       "\t2 & 273031 & 1437 \\\\\n",
       "\t3 & 273032 & 1435 \\\\\n",
       "\t4 & 273033 & 1439 \\\\\n",
       "\t5 & 273034 & 1436 \\\\\n",
       "\t6 & 273035 & 1428 \\\\\n",
       "\t7 & 273036 & 1387 \\\\\n",
       "\\end{tabular}\n"
      ],
      "text/plain": [
       "\u001b[1m7×2 DataFrame\u001b[0m\n",
       "\u001b[1m Row \u001b[0m│\u001b[1m person_id \u001b[0m\u001b[1m date_min \u001b[0m\n",
       "\u001b[1m     \u001b[0m│\u001b[90m Int32?    \u001b[0m\u001b[90m Int64    \u001b[0m\n",
       "─────┼─────────────────────\n",
       "   1 │    273030      1435\n",
       "   2 │    273031      1437\n",
       "   3 │    273032      1435\n",
       "   4 │    273033      1439\n",
       "   5 │    273034      1436\n",
       "   6 │    273035      1428\n",
       "   7 │    273036      1387"
      ]
     },
     "execution_count": 127,
     "metadata": {},
     "output_type": "execute_result"
    }
   ],
   "source": [
    "df_pr_date_min[3015:3021, :]"
   ]
  },
  {
   "cell_type": "markdown",
   "metadata": {},
   "source": [
    "`date_max`"
   ]
  },
  {
   "cell_type": "code",
   "execution_count": 128,
   "metadata": {},
   "outputs": [
    {
     "data": {
      "text/html": [
       "<p><b>GroupedDataFrame with 16184 groups based on key: person_id</b></p><p><i>First Group (3 rows): person_id = 269991</i></p><div class=\"data-frame\"><table class=\"data-frame\"><thead><tr><th></th><th>person_id</th><th>num_date_end</th></tr><tr><th></th><th title=\"Union{Missing, Int32}\">Int32?</th><th title=\"Int64\">Int64</th></tr></thead><tbody><tr><th>1</th><td>269991</td><td>1690</td></tr><tr><th>2</th><td>269991</td><td>1690</td></tr><tr><th>3</th><td>269991</td><td>1690</td></tr></tbody></table></div><p>&vellip;</p><p><i>Last Group (1 row): person_id = 292980</i></p><div class=\"data-frame\"><table class=\"data-frame\"><thead><tr><th></th><th>person_id</th><th>num_date_end</th></tr><tr><th></th><th title=\"Union{Missing, Int32}\">Int32?</th><th title=\"Int64\">Int64</th></tr></thead><tbody><tr><th>1</th><td>292980</td><td>1122</td></tr></tbody></table></div>"
      ],
      "text/latex": [
       "GroupedDataFrame with 16184 groups based on key: person\\_id\n",
       "\n",
       "First Group (3 rows): person\\_id = 269991\n",
       "\n",
       "\\begin{tabular}{r|cc}\n",
       "\t& person\\_id & num\\_date\\_end\\\\\n",
       "\t\\hline\n",
       "\t& Int32? & Int64\\\\\n",
       "\t\\hline\n",
       "\t1 & 269991 & 1690 \\\\\n",
       "\t2 & 269991 & 1690 \\\\\n",
       "\t3 & 269991 & 1690 \\\\\n",
       "\\end{tabular}\n",
       "\n",
       "$\\dots$\n",
       "\n",
       "Last Group (1 row): person\\_id = 292980\n",
       "\n",
       "\\begin{tabular}{r|cc}\n",
       "\t& person\\_id & num\\_date\\_end\\\\\n",
       "\t\\hline\n",
       "\t& Int32? & Int64\\\\\n",
       "\t\\hline\n",
       "\t1 & 292980 & 1122 \\\\\n",
       "\\end{tabular}\n"
      ],
      "text/plain": [
       "GroupedDataFrame with 16184 groups based on key: person_id\n",
       "First Group (3 rows): person_id = 269991\n",
       "\u001b[1m Row \u001b[0m│\u001b[1m person_id \u001b[0m\u001b[1m num_date_end \u001b[0m\n",
       "\u001b[1m     \u001b[0m│\u001b[90m Int32?    \u001b[0m\u001b[90m Int64        \u001b[0m\n",
       "─────┼─────────────────────────\n",
       "   1 │    269991          1690\n",
       "   2 │    269991          1690\n",
       "   3 │    269991          1690\n",
       "⋮\n",
       "Last Group (1 row): person_id = 292980\n",
       "\u001b[1m Row \u001b[0m│\u001b[1m person_id \u001b[0m\u001b[1m num_date_end \u001b[0m\n",
       "\u001b[1m     \u001b[0m│\u001b[90m Int32?    \u001b[0m\u001b[90m Int64        \u001b[0m\n",
       "─────┼─────────────────────────\n",
       "   1 │    292980          1122"
      ]
     },
     "execution_count": 128,
     "metadata": {},
     "output_type": "execute_result"
    }
   ],
   "source": [
    "df_pr_end_value = dropmissing(df_prp_r, :num_date_end)\n",
    "df_pr_end = groupby(select(df_pr_end_value, :person_id, :num_date_end), :person_id)"
   ]
  },
  {
   "cell_type": "code",
   "execution_count": 129,
   "metadata": {},
   "outputs": [],
   "source": [
    "df_pr_date_max = combine(df_pr_end, :num_date_end => maximum => :date_max);"
   ]
  },
  {
   "cell_type": "code",
   "execution_count": 130,
   "metadata": {},
   "outputs": [
    {
     "data": {
      "text/plain": [
       "(16184, 2)"
      ]
     },
     "execution_count": 130,
     "metadata": {},
     "output_type": "execute_result"
    }
   ],
   "source": [
    "size(df_pr_date_max)"
   ]
  },
  {
   "cell_type": "code",
   "execution_count": 131,
   "metadata": {},
   "outputs": [
    {
     "data": {
      "text/html": [
       "<div class=\"data-frame\"><p>7 rows × 2 columns</p><table class=\"data-frame\"><thead><tr><th></th><th>person_id</th><th>date_max</th></tr><tr><th></th><th title=\"Union{Missing, Int32}\">Int32?</th><th title=\"Int64\">Int64</th></tr></thead><tbody><tr><th>1</th><td>273936</td><td>1422</td></tr><tr><th>2</th><td>273937</td><td>1411</td></tr><tr><th>3</th><td>273938</td><td>1382</td></tr><tr><th>4</th><td>273939</td><td>1349</td></tr><tr><th>5</th><td>273941</td><td>1344</td></tr><tr><th>6</th><td>273942</td><td>1336</td></tr><tr><th>7</th><td>273943</td><td>1325</td></tr></tbody></table></div>"
      ],
      "text/latex": [
       "\\begin{tabular}{r|cc}\n",
       "\t& person\\_id & date\\_max\\\\\n",
       "\t\\hline\n",
       "\t& Int32? & Int64\\\\\n",
       "\t\\hline\n",
       "\t1 & 273936 & 1422 \\\\\n",
       "\t2 & 273937 & 1411 \\\\\n",
       "\t3 & 273938 & 1382 \\\\\n",
       "\t4 & 273939 & 1349 \\\\\n",
       "\t5 & 273941 & 1344 \\\\\n",
       "\t6 & 273942 & 1336 \\\\\n",
       "\t7 & 273943 & 1325 \\\\\n",
       "\\end{tabular}\n"
      ],
      "text/plain": [
       "\u001b[1m7×2 DataFrame\u001b[0m\n",
       "\u001b[1m Row \u001b[0m│\u001b[1m person_id \u001b[0m\u001b[1m date_max \u001b[0m\n",
       "\u001b[1m     \u001b[0m│\u001b[90m Int32?    \u001b[0m\u001b[90m Int64    \u001b[0m\n",
       "─────┼─────────────────────\n",
       "   1 │    273936      1422\n",
       "   2 │    273937      1411\n",
       "   3 │    273938      1382\n",
       "   4 │    273939      1349\n",
       "   5 │    273941      1344\n",
       "   6 │    273942      1336\n",
       "   7 │    273943      1325"
      ]
     },
     "execution_count": 131,
     "metadata": {},
     "output_type": "execute_result"
    }
   ],
   "source": [
    "df_pr_date_max[3015:3021, :]"
   ]
  },
  {
   "cell_type": "code",
   "execution_count": 132,
   "metadata": {},
   "outputs": [],
   "source": [
    "df_pr_date_min_mng = subset(df_pr_date_min, :person_id => ByRow(ismissing));"
   ]
  },
  {
   "cell_type": "code",
   "execution_count": 133,
   "metadata": {},
   "outputs": [
    {
     "data": {
      "text/plain": [
       "(0, 2)"
      ]
     },
     "execution_count": 133,
     "metadata": {},
     "output_type": "execute_result"
    }
   ],
   "source": [
    "size(df_pr_date_min_mng)"
   ]
  },
  {
   "cell_type": "code",
   "execution_count": 134,
   "metadata": {},
   "outputs": [],
   "source": [
    "subset!(df_pr_date_min, :person_id => ByRow(!ismissing));"
   ]
  },
  {
   "cell_type": "code",
   "execution_count": 135,
   "metadata": {},
   "outputs": [],
   "source": [
    "df_date = leftjoin(df_date, df_pr_date_min, on = :id => :person_id);"
   ]
  },
  {
   "cell_type": "code",
   "execution_count": 136,
   "metadata": {},
   "outputs": [],
   "source": [
    "subset!(df_pr_date_max, :person_id => ByRow(!ismissing));"
   ]
  },
  {
   "cell_type": "code",
   "execution_count": 137,
   "metadata": {},
   "outputs": [],
   "source": [
    "df_date = leftjoin(df_date, df_pr_date_max, on = :id => :person_id);"
   ]
  },
  {
   "cell_type": "markdown",
   "metadata": {},
   "source": [
    "Geburts- und Sterbedatum  \n",
    "Geburts- und Sterbedaten - so vorhanden - können die Zeitspanne nur verkürzen!"
   ]
  },
  {
   "cell_type": "code",
   "execution_count": 138,
   "metadata": {},
   "outputs": [],
   "source": [
    "min_may_be(x, y) = ismissing(x) ? y : (ismissing(y) ? x : min(x, y));\n",
    "max_may_be(x, y) = ismissing(x) ? y : (ismissing(y) ? x : max(x, y));"
   ]
  },
  {
   "cell_type": "code",
   "execution_count": 139,
   "metadata": {},
   "outputs": [],
   "source": [
    "transform!(df_date, [:date_min, :num_date_birth] => ByRow(max_may_be) => :date_min); # sic!"
   ]
  },
  {
   "cell_type": "code",
   "execution_count": 140,
   "metadata": {},
   "outputs": [],
   "source": [
    "transform!(df_date, [:date_max, :num_date_death] => ByRow(min_may_be) => :date_max); # sic!"
   ]
  },
  {
   "cell_type": "markdown",
   "metadata": {},
   "source": [
    "Übernimm' den jeweils gültigen Wert für fehlende Daten"
   ]
  },
  {
   "cell_type": "code",
   "execution_count": 141,
   "metadata": {},
   "outputs": [],
   "source": [
    "get_first_not_missing(x, y) = !ismissing(x) ? x : y;"
   ]
  },
  {
   "cell_type": "code",
   "execution_count": 142,
   "metadata": {},
   "outputs": [],
   "source": [
    "transform!(df_date, [:date_min, :date_max] => ByRow(get_first_not_missing) => :date_min);"
   ]
  },
  {
   "cell_type": "code",
   "execution_count": 143,
   "metadata": {},
   "outputs": [],
   "source": [
    "transform!(df_date, [:date_max, :date_min] => ByRow(get_first_not_missing) => :date_max);"
   ]
  },
  {
   "cell_type": "markdown",
   "metadata": {},
   "source": [
    "Damit sind Einträge mit fehlenden Daten entbehrlich"
   ]
  },
  {
   "cell_type": "code",
   "execution_count": 144,
   "metadata": {},
   "outputs": [],
   "source": [
    "dropmissing!(df_date, :date_min);"
   ]
  },
  {
   "cell_type": "markdown",
   "metadata": {},
   "source": [
    "Trage die geänderten Daten ein"
   ]
  },
  {
   "cell_type": "code",
   "execution_count": 145,
   "metadata": {},
   "outputs": [
    {
     "data": {
      "text/plain": [
       "3-element Vector{Pair{Symbol, Symbol}}:\n",
       "       :id => :id\n",
       " :date_min => :date_min\n",
       " :date_max => :date_max"
      ]
     },
     "execution_count": 145,
     "metadata": {},
     "output_type": "execute_result"
    }
   ],
   "source": [
    "columns = [\n",
    "    :id => :id,\n",
    "    :date_min => :date_min,\n",
    "    :date_max => :date_max\n",
    "]"
   ]
  },
  {
   "cell_type": "code",
   "execution_count": 146,
   "metadata": {},
   "outputs": [
    {
     "name": "stderr",
     "output_type": "stream",
     "text": [
      "┌ Info: row \n",
      "│   i = 2000\n",
      "└ @ WiagDataSetup C:\\Users\\georg\\Documents\\projekte\\WiagDataSetup.jl\\src\\WiagDataSetup.jl:1628\n",
      "┌ Info: row \n",
      "│   i = 4000\n",
      "└ @ WiagDataSetup C:\\Users\\georg\\Documents\\projekte\\WiagDataSetup.jl\\src\\WiagDataSetup.jl:1628\n",
      "┌ Info: row \n",
      "│   i = 6000\n",
      "└ @ WiagDataSetup C:\\Users\\georg\\Documents\\projekte\\WiagDataSetup.jl\\src\\WiagDataSetup.jl:1628\n",
      "┌ Info: row \n",
      "│   i = 8000\n",
      "└ @ WiagDataSetup C:\\Users\\georg\\Documents\\projekte\\WiagDataSetup.jl\\src\\WiagDataSetup.jl:1628\n",
      "┌ Info: row \n",
      "│   i = 10000\n",
      "└ @ WiagDataSetup C:\\Users\\georg\\Documents\\projekte\\WiagDataSetup.jl\\src\\WiagDataSetup.jl:1628\n",
      "┌ Info: row \n",
      "│   i = 12000\n",
      "└ @ WiagDataSetup C:\\Users\\georg\\Documents\\projekte\\WiagDataSetup.jl\\src\\WiagDataSetup.jl:1628\n",
      "┌ Info: row \n",
      "│   i = 14000\n",
      "└ @ WiagDataSetup C:\\Users\\georg\\Documents\\projekte\\WiagDataSetup.jl\\src\\WiagDataSetup.jl:1628\n",
      "┌ Info: row \n",
      "│   i = 16000\n",
      "└ @ WiagDataSetup C:\\Users\\georg\\Documents\\projekte\\WiagDataSetup.jl\\src\\WiagDataSetup.jl:1628\n",
      "┌ Info: row \n",
      "│   i = 18000\n",
      "└ @ WiagDataSetup C:\\Users\\georg\\Documents\\projekte\\WiagDataSetup.jl\\src\\WiagDataSetup.jl:1628\n",
      "┌ Info: row \n",
      "│   i = 20000\n",
      "└ @ WiagDataSetup C:\\Users\\georg\\Documents\\projekte\\WiagDataSetup.jl\\src\\WiagDataSetup.jl:1628\n",
      "┌ Info: row \n",
      "│   i = 22000\n",
      "└ @ WiagDataSetup C:\\Users\\georg\\Documents\\projekte\\WiagDataSetup.jl\\src\\WiagDataSetup.jl:1628\n"
     ]
    }
   ],
   "source": [
    "filename = joinpath(out_path, \"cn_date_person_update.sql\");\n",
    "table_name = \"person\";\n",
    "Wds.update_sql(filename, table_name, select(df_date, columns), on = :id);"
   ]
  },
  {
   "cell_type": "markdown",
   "metadata": {},
   "source": [
    "Alternativ über temporäre Tabelle"
   ]
  },
  {
   "cell_type": "code",
   "execution_count": 100,
   "metadata": {},
   "outputs": [
    {
     "data": {
      "text/plain": [
       "MySQL.TextCursor{true}(MySQL.Connection(host=\"127.0.0.1\", user=\"georg\", port=\"3306\", db=\"wiag2\"), \"CREATE TEMPORARY TABLE date_update (id INT, date_min INT, date_max INT) \\nENGINE=InnoDB DEFAULT CHARSET=utf8;\", 0, -1, 0, MySQL.API.MYSQL_RES(Ptr{Nothing} @0x0000000000000000), Symbol[], Type[], Dict{Symbol, Int64}(), 0, 1, false)"
      ]
     },
     "execution_count": 100,
     "metadata": {},
     "output_type": "execute_result"
    }
   ],
   "source": [
    "sql = \"CREATE TEMPORARY TABLE date_update (id INT, date_min INT, date_max INT) \n",
    "ENGINE=InnoDB DEFAULT CHARSET=utf8;\";\n",
    "DBInterface.execute(Wds.dbwiag, sql)"
   ]
  },
  {
   "cell_type": "code",
   "execution_count": 101,
   "metadata": {},
   "outputs": [
    {
     "data": {
      "text/plain": [
       "5-element Vector{String}:\n",
       " \"id\"\n",
       " \"num_date_birth\"\n",
       " \"num_date_death\"\n",
       " \"date_min\"\n",
       " \"date_max\""
      ]
     },
     "execution_count": 101,
     "metadata": {},
     "output_type": "execute_result"
    }
   ],
   "source": [
    "names(df_date)"
   ]
  },
  {
   "cell_type": "code",
   "execution_count": 102,
   "metadata": {},
   "outputs": [
    {
     "data": {
      "text/plain": [
       "3-element Vector{Pair{Symbol, Symbol}}:\n",
       "       :id => :id\n",
       " :date_min => :date_min\n",
       " :date_max => :date_max"
      ]
     },
     "execution_count": 102,
     "metadata": {},
     "output_type": "execute_result"
    }
   ],
   "source": [
    "columns = [\n",
    "    :id => :id,\n",
    "    :date_min => :date_min,\n",
    "    :date_max => :date_max\n",
    "]"
   ]
  },
  {
   "cell_type": "code",
   "execution_count": 103,
   "metadata": {},
   "outputs": [
    {
     "name": "stderr",
     "output_type": "stream",
     "text": [
      "┌ Info: 10000\n",
      "└ @ WiagDataSetup C:\\Users\\Georg\\Documents\\projekte\\WiagDataSetup.jl\\src\\WiagDataSetup.jl:1186\n",
      "┌ Info: 20000\n",
      "└ @ WiagDataSetup C:\\Users\\Georg\\Documents\\projekte\\WiagDataSetup.jl\\src\\WiagDataSetup.jl:1186\n",
      "┌ Info: Rows inserted: 22278\n",
      "└ @ WiagDataSetup C:\\Users\\Georg\\Documents\\projekte\\WiagDataSetup.jl\\src\\WiagDataSetup.jl:1209\n"
     ]
    }
   ],
   "source": [
    "table_name = \"date_update\"\n",
    "Wds.filltable!(table_name, select(df_date, columns));"
   ]
  },
  {
   "cell_type": "code",
   "execution_count": 104,
   "metadata": {},
   "outputs": [
    {
     "data": {
      "text/plain": [
       "MySQL.TextCursor{true}(MySQL.Connection(host=\"127.0.0.1\", user=\"georg\", port=\"3306\", db=\"wiag2\"), \"UPDATE person AS p, \\n(SELECT id, date_min, date_max FROM date_update) AS du\\nSET p.date_min = du.date_min, p.date_max = du.date_max\\nWHERE p.id = du.id\", 0, -1, 22278, MySQL.API.MYSQL_RES(Ptr{Nothing} @0x0000000000000000), Symbol[], Type[], Dict{Symbol, Int64}(), 0, 1, false)"
      ]
     },
     "execution_count": 104,
     "metadata": {},
     "output_type": "execute_result"
    }
   ],
   "source": [
    "sql = \"UPDATE person AS p, \n",
    "(SELECT id, date_min, date_max FROM date_update) AS du\n",
    "SET p.date_min = du.date_min, p.date_max = du.date_max\n",
    "WHERE p.id = du.id\";\n",
    "DBInterface.execute(Wds.dbwiag, sql)"
   ]
  },
  {
   "cell_type": "markdown",
   "metadata": {},
   "source": [
    "*2022-01-17* Es gibt etliche Einträge für Personen mit Ämtern nach 2000?! \n",
    "```sql\n",
    "select p.id, id_in_source, item_type_id, givenname, familyname, date_min, date_max, edit_status, is_online\n",
    "from person as p join item on item.id = p.id and p.date_max > 2000;\n",
    "```"
   ]
  },
  {
   "cell_type": "markdown",
   "metadata": {},
   "source": [
    "## Archidiakonat"
   ]
  },
  {
   "cell_type": "code",
   "execution_count": 72,
   "metadata": {},
   "outputs": [
    {
     "name": "stdout",
     "output_type": "stream",
     "text": [
      "Bistum\n",
      "Amtsart\n",
      "Amtsbeginn\n",
      "Amtsende\n",
      "ID_Amt\n",
      "Institution\n",
      "Amt_weltlich\n",
      "Herrschaftsgebiet\n",
      "Ort\n",
      "Amt_Kommentar\n",
      "Sort\n",
      "Titularbistum\n",
      "Profession\n",
      "ID_Kloster\n",
      "ID_Fremdschlüssel\n",
      "Dignität\n",
      "ID_Domherr\n",
      "Archidiakonat\n",
      "Hilfsfeld_import\n",
      "ID_Amt_norm\n",
      "id_in_source\n",
      "person_id\n",
      "match_role_id\n",
      "role_name\n",
      "role_id\n",
      "diocese_id\n",
      "institution_id\n",
      "institution_name\n",
      "num_date_begin\n",
      "num_date_end\n",
      "date_sort_key\n",
      "date_sort_key_replace\n",
      "id\n"
     ]
    }
   ],
   "source": [
    "println.(names(df_prp_r));"
   ]
  },
  {
   "cell_type": "code",
   "execution_count": 147,
   "metadata": {},
   "outputs": [
    {
     "data": {
      "text/plain": [
       "3-element Vector{Pair{Symbol, Symbol}}:\n",
       "            :id => :person_role_id\n",
       "     :person_id => :person_id\n",
       " :Archidiakonat => :value"
      ]
     },
     "execution_count": 147,
     "metadata": {},
     "output_type": "execute_result"
    }
   ],
   "source": [
    "columns = [\n",
    "    :id => :person_role_id,\n",
    "    :person_id => :person_id,\n",
    "    :Archidiakonat => :value\n",
    "]"
   ]
  },
  {
   "cell_type": "code",
   "execution_count": 148,
   "metadata": {},
   "outputs": [],
   "source": [
    "df_pr_property = select(df_prp_r, columns);"
   ]
  },
  {
   "cell_type": "code",
   "execution_count": 149,
   "metadata": {},
   "outputs": [],
   "source": [
    "dropmissing!(df_pr_property, :value);"
   ]
  },
  {
   "cell_type": "code",
   "execution_count": 150,
   "metadata": {},
   "outputs": [
    {
     "data": {
      "text/plain": [
       "(511, 3)"
      ]
     },
     "execution_count": 150,
     "metadata": {},
     "output_type": "execute_result"
    }
   ],
   "source": [
    "size(df_pr_property)"
   ]
  },
  {
   "cell_type": "code",
   "execution_count": 151,
   "metadata": {},
   "outputs": [],
   "source": [
    "df_pr_property[!, :name] .= \"Archidiakonat\";"
   ]
  },
  {
   "cell_type": "code",
   "execution_count": 152,
   "metadata": {},
   "outputs": [
    {
     "data": {
      "text/html": [
       "<div class=\"data-frame\"><p>8 rows × 4 columns</p><table class=\"data-frame\"><thead><tr><th></th><th>person_role_id</th><th>person_id</th><th>value</th><th>name</th></tr><tr><th></th><th title=\"Int64\">Int64</th><th title=\"Union{Missing, Int32}\">Int32?</th><th title=\"String\">String</th><th title=\"String\">String</th></tr></thead><tbody><tr><th>1</th><td>549298</td><td>278272</td><td>Plau</td><td>Archidiakonat</td></tr><tr><th>2</th><td>549299</td><td>278253</td><td>Rostock</td><td>Archidiakonat</td></tr><tr><th>3</th><td>549300</td><td>278324</td><td>Parchim</td><td>Archidiakonat</td></tr><tr><th>4</th><td>549301</td><td>278320</td><td>Tribsees</td><td>Archidiakonat</td></tr><tr><th>5</th><td>549302</td><td>278317</td><td>Rostock</td><td>Archidiakonat</td></tr><tr><th>6</th><td>549303</td><td>278313</td><td>Waren</td><td>Archidiakonat</td></tr><tr><th>7</th><td>549304</td><td>278303</td><td>Rostock</td><td>Archidiakonat</td></tr><tr><th>8</th><td>549305</td><td>278302</td><td>Tribsees</td><td>Archidiakonat</td></tr></tbody></table></div>"
      ],
      "text/latex": [
       "\\begin{tabular}{r|cccc}\n",
       "\t& person\\_role\\_id & person\\_id & value & name\\\\\n",
       "\t\\hline\n",
       "\t& Int64 & Int32? & String & String\\\\\n",
       "\t\\hline\n",
       "\t1 & 549298 & 278272 & Plau & Archidiakonat \\\\\n",
       "\t2 & 549299 & 278253 & Rostock & Archidiakonat \\\\\n",
       "\t3 & 549300 & 278324 & Parchim & Archidiakonat \\\\\n",
       "\t4 & 549301 & 278320 & Tribsees & Archidiakonat \\\\\n",
       "\t5 & 549302 & 278317 & Rostock & Archidiakonat \\\\\n",
       "\t6 & 549303 & 278313 & Waren & Archidiakonat \\\\\n",
       "\t7 & 549304 & 278303 & Rostock & Archidiakonat \\\\\n",
       "\t8 & 549305 & 278302 & Tribsees & Archidiakonat \\\\\n",
       "\\end{tabular}\n"
      ],
      "text/plain": [
       "\u001b[1m8×4 DataFrame\u001b[0m\n",
       "\u001b[1m Row \u001b[0m│\u001b[1m person_role_id \u001b[0m\u001b[1m person_id \u001b[0m\u001b[1m value    \u001b[0m\u001b[1m name          \u001b[0m\n",
       "\u001b[1m     \u001b[0m│\u001b[90m Int64          \u001b[0m\u001b[90m Int32?    \u001b[0m\u001b[90m String   \u001b[0m\u001b[90m String        \u001b[0m\n",
       "─────┼────────────────────────────────────────────────────\n",
       "   1 │         549298     278272  Plau      Archidiakonat\n",
       "   2 │         549299     278253  Rostock   Archidiakonat\n",
       "   3 │         549300     278324  Parchim   Archidiakonat\n",
       "   4 │         549301     278320  Tribsees  Archidiakonat\n",
       "   5 │         549302     278317  Rostock   Archidiakonat\n",
       "   6 │         549303     278313  Waren     Archidiakonat\n",
       "   7 │         549304     278303  Rostock   Archidiakonat\n",
       "   8 │         549305     278302  Tribsees  Archidiakonat"
      ]
     },
     "execution_count": 152,
     "metadata": {},
     "output_type": "execute_result"
    }
   ],
   "source": [
    "df_pr_property[407:414, :]"
   ]
  },
  {
   "cell_type": "code",
   "execution_count": 153,
   "metadata": {},
   "outputs": [
    {
     "data": {
      "text/plain": [
       "MySQL.TextCursor{true}(MySQL.Connection(host=\"127.0.0.1\", user=\"georg\", port=\"3306\", db=\"wiag2\"), \"DELETE FROM person_role_property\\nWHERE person_id IN\\n(SELECT id FROM item WHERE item_type_id = 5)\", 0, -1, 0, MySQL.API.MYSQL_RES(Ptr{Nothing} @0x0000000000000000), Symbol[], Type[], Dict{Symbol, Int64}(), 0, 1, false)"
      ]
     },
     "execution_count": 153,
     "metadata": {},
     "output_type": "execute_result"
    }
   ],
   "source": [
    "table_name = \"person_role_property\";\n",
    "sql = \"DELETE FROM $(table_name)\n",
    "WHERE person_id IN\n",
    "(SELECT id FROM item WHERE item_type_id = $(item_type_id))\";\n",
    "DBInterface.execute(Wds.dbwiag, sql)"
   ]
  },
  {
   "cell_type": "code",
   "execution_count": 154,
   "metadata": {},
   "outputs": [
    {
     "name": "stderr",
     "output_type": "stream",
     "text": [
      "┌ Info: Rows inserted: 511\n",
      "└ @ WiagDataSetup C:\\Users\\georg\\Documents\\projekte\\WiagDataSetup.jl\\src\\WiagDataSetup.jl:1209\n"
     ]
    },
    {
     "data": {
      "text/plain": [
       "511"
      ]
     },
     "execution_count": 154,
     "metadata": {},
     "output_type": "execute_result"
    }
   ],
   "source": [
    "table_name = \"person_role_property\"\n",
    "Wds.filltable!(table_name, df_pr_property)"
   ]
  },
  {
   "cell_type": "markdown",
   "metadata": {},
   "source": [
    "## Sortierung der Person nach Amt\n",
    "Die Tabelle `person_display_order` ist eine technische Hilfstabelle, um die Abfragen in Doctrine zu vereinfachen oder überhaupt erst zu ermöglichen. Jede Person erhält für jedes Bistum einen Sortierschlüssel und einen weiteren unabhängig vom Bistum.\n",
    "\n",
    "*2022-01-17* Verzichte zunächst auf diese Tabelle und löse das Problem in der Web-Anwendung. So bleibt das Datenmodell schlanker."
   ]
  },
  {
   "cell_type": "code",
   "execution_count": 45,
   "metadata": {},
   "outputs": [],
   "source": [
    "using MySQL, DataFrames"
   ]
  },
  {
   "cell_type": "markdown",
   "metadata": {},
   "source": [
    "Sortierung unabhängig von einer Diözese. Es werden auch Ämter berücksichtigt, die nicht mit einer Diözese verbunden sind."
   ]
  },
  {
   "cell_type": "code",
   "execution_count": 48,
   "metadata": {},
   "outputs": [],
   "source": [
    "sql = \"SELECT person_id, 'any' as diocese, min(display_order) as display_order \" *\n",
    "\"FROM person_role GROUP BY person_id\";\n",
    "df_do = db_exec(sql);"
   ]
  },
  {
   "cell_type": "code",
   "execution_count": 49,
   "metadata": {},
   "outputs": [
    {
     "data": {
      "text/plain": [
       "(5159, 3)"
      ]
     },
     "execution_count": 49,
     "metadata": {},
     "output_type": "execute_result"
    }
   ],
   "source": [
    "size(df_do)"
   ]
  },
  {
   "cell_type": "markdown",
   "metadata": {},
   "source": [
    "Zwölf Bischöfe haben kein Amt!?"
   ]
  },
  {
   "cell_type": "code",
   "execution_count": 50,
   "metadata": {},
   "outputs": [
    {
     "name": "stderr",
     "output_type": "stream",
     "text": [
      "┌ Info: Rows inserted: 5159\n",
      "└ @ WiagDataSetup C:\\Users\\Georg\\Documents\\projekte\\WiagDataSetup.jl\\src\\WiagDataSetup.jl:1169\n"
     ]
    },
    {
     "data": {
      "text/plain": [
       "5159"
      ]
     },
     "execution_count": 50,
     "metadata": {},
     "output_type": "execute_result"
    }
   ],
   "source": [
    "table_dst = \"person_display_order\"\n",
    "Wds.filltable!(table_dst, df_do)"
   ]
  },
  {
   "cell_type": "markdown",
   "metadata": {},
   "source": [
    "Sortierung nach Diözese"
   ]
  },
  {
   "cell_type": "code",
   "execution_count": 52,
   "metadata": {},
   "outputs": [],
   "source": [
    "sql = \"SELECT person_id, diocese_name as diocese, min(display_order) as display_order \" *\n",
    "\"FROM person_role \" *\n",
    "\"WHERE diocese_name IS NOT NULL \" *\n",
    "\"GROUP BY person_id, diocese_name\";\n",
    "df_do = db_exec(sql);"
   ]
  },
  {
   "cell_type": "code",
   "execution_count": 53,
   "metadata": {},
   "outputs": [
    {
     "data": {
      "text/plain": [
       "(6370, 3)"
      ]
     },
     "execution_count": 53,
     "metadata": {},
     "output_type": "execute_result"
    }
   ],
   "source": [
    "size(df_do)"
   ]
  },
  {
   "cell_type": "code",
   "execution_count": 54,
   "metadata": {},
   "outputs": [
    {
     "name": "stderr",
     "output_type": "stream",
     "text": [
      "┌ Info: Rows inserted: 6370\n",
      "└ @ WiagDataSetup C:\\Users\\Georg\\Documents\\projekte\\WiagDataSetup.jl\\src\\WiagDataSetup.jl:1169\n"
     ]
    },
    {
     "data": {
      "text/plain": [
       "6370"
      ]
     },
     "execution_count": 54,
     "metadata": {},
     "output_type": "execute_result"
    }
   ],
   "source": [
    "table_dst = \"person_display_order\"\n",
    "Wds.filltable!(table_dst, df_do)"
   ]
  },
  {
   "cell_type": "markdown",
   "metadata": {},
   "source": [
    "Bischöfe ohne Ämter"
   ]
  },
  {
   "cell_type": "code",
   "execution_count": 55,
   "metadata": {},
   "outputs": [],
   "source": [
    "sql = \"SELECT id AS person_id, 'any' as diocese, 950000 AS display_order \" *\n",
    "\"FROM person WHERE id NOT IN (SELECT DISTINCT person_id FROM person_role)\"\n",
    "df_do_r = db_exec(sql);"
   ]
  },
  {
   "cell_type": "code",
   "execution_count": 56,
   "metadata": {},
   "outputs": [
    {
     "data": {
      "text/plain": [
       "(12, 3)"
      ]
     },
     "execution_count": 56,
     "metadata": {},
     "output_type": "execute_result"
    }
   ],
   "source": [
    "size(df_do_r)"
   ]
  },
  {
   "cell_type": "code",
   "execution_count": 57,
   "metadata": {},
   "outputs": [
    {
     "name": "stderr",
     "output_type": "stream",
     "text": [
      "┌ Info: Rows inserted: 12\n",
      "└ @ WiagDataSetup C:\\Users\\Georg\\Documents\\projekte\\WiagDataSetup.jl\\src\\WiagDataSetup.jl:1169\n"
     ]
    },
    {
     "data": {
      "text/plain": [
       "12"
      ]
     },
     "execution_count": 57,
     "metadata": {},
     "output_type": "execute_result"
    }
   ],
   "source": [
    "table_dst = \"person_display_order\"\n",
    "Wds.filltable!(table_dst, df_do_r)"
   ]
  },
  {
   "cell_type": "code",
   "execution_count": null,
   "metadata": {},
   "outputs": [],
   "source": []
  },
  {
   "cell_type": "code",
   "execution_count": null,
   "metadata": {},
   "outputs": [],
   "source": []
  },
  {
   "cell_type": "code",
   "execution_count": null,
   "metadata": {},
   "outputs": [],
   "source": []
  }
 ],
 "metadata": {
  "kernelspec": {
   "display_name": "Julia 1.7.0",
   "language": "julia",
   "name": "julia-1.7"
  },
  "language_info": {
   "file_extension": ".jl",
   "mimetype": "application/julia",
   "name": "julia",
   "version": "1.7.0"
  }
 },
 "nbformat": 4,
 "nbformat_minor": 4
}
