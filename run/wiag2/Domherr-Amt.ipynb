{
 "cells": [
  {
   "cell_type": "markdown",
   "metadata": {},
   "source": [
    "# Wissensaggregator Mittelalter und frühe Neuzeit\n",
    "\n",
    "## Daten für Ämter von Domherren einlesen\n",
    "\n",
    "Übertrage Daten aus Access. Die Daten werden aus Access via ODBC in eine Transfer-Datenbank geschrieben: \n",
    "`domherr.tbl_domherren` und `domherr.tbl_domherren_aemter`\n",
    "\n",
    "[Amtsperiode](#Amtsperiode)  \n",
    "[Zeitspanne der Person](#Zeitspanne-der-Person)  \n",
    "[Archidiakonat](#Archidiakonat)  \n",
    "[Sortierung der Person nach Amt](#Sortierung-der-Person-nach-Amt) (hinfällig?)"
   ]
  },
  {
   "cell_type": "markdown",
   "metadata": {},
   "source": [
    "Vorspann: Pakete laden; mit der Datenbank verbinden"
   ]
  },
  {
   "cell_type": "code",
   "execution_count": 1,
   "metadata": {},
   "outputs": [
    {
     "data": {
      "text/plain": [
       "\"../..\""
      ]
     },
     "execution_count": 1,
     "metadata": {},
     "output_type": "execute_result"
    }
   ],
   "source": [
    "wds_path=\"../..\""
   ]
  },
  {
   "cell_type": "code",
   "execution_count": 2,
   "metadata": {},
   "outputs": [],
   "source": [
    "cd(wds_path)"
   ]
  },
  {
   "cell_type": "code",
   "execution_count": 3,
   "metadata": {},
   "outputs": [],
   "source": [
    "using Pkg"
   ]
  },
  {
   "cell_type": "code",
   "execution_count": 4,
   "metadata": {},
   "outputs": [
    {
     "name": "stderr",
     "output_type": "stream",
     "text": [
      "\u001b[32m\u001b[1m  Activating\u001b[22m\u001b[39m project at `C:\\Users\\georg\\Documents\\projekte\\WiagDataSetup.jl`\n"
     ]
    }
   ],
   "source": [
    "Pkg.activate(\".\")"
   ]
  },
  {
   "cell_type": "code",
   "execution_count": 5,
   "metadata": {},
   "outputs": [],
   "source": [
    "using Revise, MySQL"
   ]
  },
  {
   "cell_type": "code",
   "execution_count": 6,
   "metadata": {},
   "outputs": [],
   "source": [
    "using WiagDataSetup"
   ]
  },
  {
   "cell_type": "code",
   "execution_count": 7,
   "metadata": {},
   "outputs": [],
   "source": [
    "using MySQL, DataFrames, CSV"
   ]
  },
  {
   "cell_type": "code",
   "execution_count": 8,
   "metadata": {},
   "outputs": [
    {
     "data": {
      "text/plain": [
       "WiagDataSetup"
      ]
     },
     "execution_count": 8,
     "metadata": {},
     "output_type": "execute_result"
    }
   ],
   "source": [
    "Wds = WiagDataSetup"
   ]
  },
  {
   "cell_type": "markdown",
   "metadata": {},
   "source": [
    "*2022-11-03* optimiere das Datenupdate; Test mit `wiag_in´  "
   ]
  },
  {
   "cell_type": "code",
   "execution_count": 9,
   "metadata": {},
   "outputs": [
    {
     "name": "stdout",
     "output_type": "stream",
     "text": [
      "Passwort für User georg: ········\n"
     ]
    },
    {
     "data": {
      "text/plain": [
       "MySQL.Connection(host=\"127.0.0.1\", user=\"georg\", port=\"3306\", db=\"wiag_in\")"
      ]
     },
     "execution_count": 9,
     "metadata": {},
     "output_type": "execute_result"
    }
   ],
   "source": [
    "Wds.setDBWIAG(user=\"georg\", db=\"wiag_in\")"
   ]
  },
  {
   "cell_type": "code",
   "execution_count": 26,
   "metadata": {},
   "outputs": [
    {
     "data": {
      "text/plain": [
       "5"
      ]
     },
     "execution_count": 26,
     "metadata": {},
     "output_type": "execute_result"
    }
   ],
   "source": [
    "item_type_id = 5"
   ]
  },
  {
   "cell_type": "markdown",
   "metadata": {},
   "source": [
    "Evtl. neue Quellen eintragen!"
   ]
  },
  {
   "cell_type": "code",
   "execution_count": 10,
   "metadata": {},
   "outputs": [
    {
     "data": {
      "text/plain": [
       "\"C:\\\\Users\\\\georg\\\\Documents\\\\projekte-doc\\\\WIAGweb2\\\\data\\\\domherren-2022-11-22\""
      ]
     },
     "execution_count": 10,
     "metadata": {},
     "output_type": "execute_result"
    }
   ],
   "source": [
    "data_path = \"C:\\\\Users\\\\georg\\\\Documents\\\\projekte-doc\\\\WIAGweb2\\\\data\\\\domherren-2022-11-22\""
   ]
  },
  {
   "cell_type": "code",
   "execution_count": 11,
   "metadata": {},
   "outputs": [
    {
     "data": {
      "text/plain": [
       "\"C:\\\\Users\\\\georg\\\\Documents\\\\projekte-doc\\\\WIAGweb2\\\\data_sql\""
      ]
     },
     "execution_count": 11,
     "metadata": {},
     "output_type": "execute_result"
    }
   ],
   "source": [
    "out_path = \"C:\\\\Users\\\\georg\\\\Documents\\\\projekte-doc\\\\WIAGweb2\\\\data_sql\""
   ]
  },
  {
   "cell_type": "markdown",
   "metadata": {},
   "source": [
    "Die Ämter in Tabelle `role` werden im Notebook \"Strukturdaten\" eingelesen."
   ]
  },
  {
   "cell_type": "markdown",
   "metadata": {},
   "source": [
    "## Amtsperiode"
   ]
  },
  {
   "cell_type": "code",
   "execution_count": 12,
   "metadata": {},
   "outputs": [],
   "source": [
    "using CSV, DataFrames"
   ]
  },
  {
   "cell_type": "code",
   "execution_count": 13,
   "metadata": {
    "scrolled": false
   },
   "outputs": [],
   "source": [
    "# Quelle CSV\n",
    "filename = joinpath(data_path, \"tbl_Domherren_Aemter.csv\")\n",
    "df_pr = CSV.read(filename, DataFrame);"
   ]
  },
  {
   "cell_type": "code",
   "execution_count": 11,
   "metadata": {},
   "outputs": [],
   "source": [
    "# Quelle Datenbank\n",
    "sql = \"SELECT * FROM domherr.tbl_domherren_aemter\"\n",
    "df_pr = Wds.sql_df(sql);"
   ]
  },
  {
   "cell_type": "code",
   "execution_count": 14,
   "metadata": {},
   "outputs": [],
   "source": [
    "Wds.clean_up!(df_pr);"
   ]
  },
  {
   "cell_type": "markdown",
   "metadata": {},
   "source": [
    "Ignoriere Einträge wo sowohl Amtsart als auch ID_Amt_norm fehlen."
   ]
  },
  {
   "cell_type": "code",
   "execution_count": 15,
   "metadata": {},
   "outputs": [
    {
     "data": {
      "text/plain": [
       "(40244, 20)"
      ]
     },
     "execution_count": 15,
     "metadata": {},
     "output_type": "execute_result"
    }
   ],
   "source": [
    "size(df_pr)"
   ]
  },
  {
   "cell_type": "code",
   "execution_count": 16,
   "metadata": {},
   "outputs": [
    {
     "data": {
      "text/plain": [
       "one_valid (generic function with 1 method)"
      ]
     },
     "execution_count": 16,
     "metadata": {},
     "output_type": "execute_result"
    }
   ],
   "source": [
    "one_valid(a, b) = !ismissing(a) | !ismissing(b)"
   ]
  },
  {
   "cell_type": "code",
   "execution_count": 17,
   "metadata": {},
   "outputs": [],
   "source": [
    "subset!(df_pr, [:Amtsart, :ID_Amt_norm] => ByRow(one_valid));"
   ]
  },
  {
   "cell_type": "code",
   "execution_count": 18,
   "metadata": {},
   "outputs": [
    {
     "data": {
      "text/html": [
       "<div><div style = \"float: left;\"><span>5×5 DataFrame</span></div><div style = \"clear: both;\"></div></div><div class = \"data-frame\" style = \"overflow-x: scroll;\"><table class = \"data-frame\" style = \"margin-bottom: 6px;\"><thead><tr class = \"header\"><th class = \"rowNumber\" style = \"font-weight: bold; text-align: right;\">Row</th><th style = \"text-align: left;\">ID_Amt</th><th style = \"text-align: left;\">Amtsart</th><th style = \"text-align: left;\">ID_Amt_norm</th><th style = \"text-align: left;\">Amtsbeginn</th><th style = \"text-align: left;\">Amtsende</th></tr><tr class = \"subheader headerLastRow\"><th class = \"rowNumber\" style = \"font-weight: bold; text-align: right;\"></th><th title = \"Int64\" style = \"text-align: left;\">Int64</th><th title = \"Union{Missing, String}\" style = \"text-align: left;\">String?</th><th title = \"Union{Missing, Int64}\" style = \"text-align: left;\">Int64?</th><th title = \"Union{Missing, String}\" style = \"text-align: left;\">String?</th><th title = \"Union{Missing, String}\" style = \"text-align: left;\">String?</th></tr></thead><tbody><tr><td class = \"rowNumber\" style = \"font-weight: bold; text-align: right;\">1</td><td style = \"text-align: right;\">93022</td><td style = \"font-style: italic; text-align: left;\">missing</td><td style = \"text-align: right;\">19</td><td style = \"text-align: left;\">1456/1459</td><td style = \"text-align: left;\">1463</td></tr><tr><td class = \"rowNumber\" style = \"font-weight: bold; text-align: right;\">2</td><td style = \"text-align: right;\">93023</td><td style = \"font-style: italic; text-align: left;\">missing</td><td style = \"text-align: right;\">20</td><td style = \"text-align: left;\">1458</td><td style = \"font-style: italic; text-align: left;\">missing</td></tr><tr><td class = \"rowNumber\" style = \"font-weight: bold; text-align: right;\">3</td><td style = \"text-align: right;\">93024</td><td style = \"font-style: italic; text-align: left;\">missing</td><td style = \"text-align: right;\">20</td><td style = \"text-align: left;\">1458</td><td style = \"font-style: italic; text-align: left;\">missing</td></tr><tr><td class = \"rowNumber\" style = \"font-weight: bold; text-align: right;\">4</td><td style = \"text-align: right;\">93025</td><td style = \"font-style: italic; text-align: left;\">missing</td><td style = \"text-align: right;\">19</td><td style = \"text-align: left;\">1495/1515</td><td style = \"text-align: left;\">1558</td></tr><tr><td class = \"rowNumber\" style = \"font-weight: bold; text-align: right;\">5</td><td style = \"text-align: right;\">93026</td><td style = \"font-style: italic; text-align: left;\">missing</td><td style = \"text-align: right;\">64</td><td style = \"text-align: left;\">1539</td><td style = \"text-align: left;\">1558</td></tr></tbody></table></div>"
      ],
      "text/latex": [
       "\\begin{tabular}{r|ccccc}\n",
       "\t& ID\\_Amt & Amtsart & ID\\_Amt\\_norm & Amtsbeginn & Amtsende\\\\\n",
       "\t\\hline\n",
       "\t& Int64 & String? & Int64? & String? & String?\\\\\n",
       "\t\\hline\n",
       "\t1 & 93022 & \\emph{missing} & 19 & 1456/1459 & 1463 \\\\\n",
       "\t2 & 93023 & \\emph{missing} & 20 & 1458 & \\emph{missing} \\\\\n",
       "\t3 & 93024 & \\emph{missing} & 20 & 1458 & \\emph{missing} \\\\\n",
       "\t4 & 93025 & \\emph{missing} & 19 & 1495/1515 & 1558 \\\\\n",
       "\t5 & 93026 & \\emph{missing} & 64 & 1539 & 1558 \\\\\n",
       "\\end{tabular}\n"
      ],
      "text/plain": [
       "\u001b[1m5×5 DataFrame\u001b[0m\n",
       "\u001b[1m Row \u001b[0m│\u001b[1m ID_Amt \u001b[0m\u001b[1m Amtsart \u001b[0m\u001b[1m ID_Amt_norm \u001b[0m\u001b[1m Amtsbeginn \u001b[0m\u001b[1m Amtsende \u001b[0m\n",
       "     │\u001b[90m Int64  \u001b[0m\u001b[90m String? \u001b[0m\u001b[90m Int64?      \u001b[0m\u001b[90m String?    \u001b[0m\u001b[90m String?  \u001b[0m\n",
       "─────┼────────────────────────────────────────────────────\n",
       "   1 │  93022 \u001b[90m missing \u001b[0m          19  1456/1459   1463\n",
       "   2 │  93023 \u001b[90m missing \u001b[0m          20  1458       \u001b[90m missing  \u001b[0m\n",
       "   3 │  93024 \u001b[90m missing \u001b[0m          20  1458       \u001b[90m missing  \u001b[0m\n",
       "   4 │  93025 \u001b[90m missing \u001b[0m          19  1495/1515   1558\n",
       "   5 │  93026 \u001b[90m missing \u001b[0m          64  1539        1558"
      ]
     },
     "execution_count": 18,
     "metadata": {},
     "output_type": "execute_result"
    }
   ],
   "source": [
    "df_pr[101:105, [:ID_Amt, :Amtsart, :ID_Amt_norm, :Amtsbeginn, :Amtsende]]"
   ]
  },
  {
   "cell_type": "markdown",
   "metadata": {},
   "source": [
    "### Domherren zuordnen"
   ]
  },
  {
   "cell_type": "code",
   "execution_count": 27,
   "metadata": {},
   "outputs": [],
   "source": [
    "transform!(df_pr, :ID_Domherr => ByRow(string) => :id_in_source);"
   ]
  },
  {
   "cell_type": "code",
   "execution_count": 28,
   "metadata": {},
   "outputs": [],
   "source": [
    "table_name = \"item\";\n",
    "sql = \"SELECT id AS person_id, id_in_source FROM $(table_name) WHERE item_type_id = $(item_type_id)\"\n",
    "df_idx = Wds.sql_df(sql);"
   ]
  },
  {
   "cell_type": "markdown",
   "metadata": {},
   "source": [
    "Lösche Einträge ohne Wert für `ID_Domherr`"
   ]
  },
  {
   "cell_type": "code",
   "execution_count": 29,
   "metadata": {},
   "outputs": [],
   "source": [
    "dropmissing!(df_pr, :ID_Domherr);"
   ]
  },
  {
   "cell_type": "code",
   "execution_count": 30,
   "metadata": {},
   "outputs": [],
   "source": [
    "df_prp = leftjoin(df_pr, df_idx, on = :id_in_source);"
   ]
  },
  {
   "cell_type": "code",
   "execution_count": 31,
   "metadata": {},
   "outputs": [],
   "source": [
    "df_idx_mg = filter(:person_id => ismissing, df_prp);"
   ]
  },
  {
   "cell_type": "code",
   "execution_count": 32,
   "metadata": {},
   "outputs": [
    {
     "data": {
      "text/plain": [
       "(0, 22)"
      ]
     },
     "execution_count": 32,
     "metadata": {},
     "output_type": "execute_result"
    }
   ],
   "source": [
    "size(df_idx_mg)"
   ]
  },
  {
   "cell_type": "code",
   "execution_count": 33,
   "metadata": {},
   "outputs": [
    {
     "data": {
      "text/html": [
       "<div><div style = \"float: left;\"><span>0×3 DataFrame</span></div><div style = \"clear: both;\"></div></div><div class = \"data-frame\" style = \"overflow-x: scroll;\"><table class = \"data-frame\" style = \"margin-bottom: 6px;\"></table></div>"
      ],
      "text/latex": [
       "\\begin{tabular}{r|ccc}\n",
       "\t& ID\\_Domherr & ID\\_Amt & Amtsart\\\\\n",
       "\t\\hline\n",
       "\t& Int64 & Int64 & String?\\\\\n",
       "\t\\hline\n",
       "\\end{tabular}\n"
      ],
      "text/plain": [
       "\u001b[1m0×3 DataFrame\u001b[0m"
      ]
     },
     "execution_count": 33,
     "metadata": {},
     "output_type": "execute_result"
    }
   ],
   "source": [
    "df_idx_mg[:, [:ID_Domherr, :ID_Amt, :Amtsart]]"
   ]
  },
  {
   "cell_type": "markdown",
   "metadata": {},
   "source": [
    "### Rollen/Ämter zuordnen"
   ]
  },
  {
   "cell_type": "code",
   "execution_count": 34,
   "metadata": {},
   "outputs": [],
   "source": [
    "sql = \"SELECT name as role_name, role.id as role_id, item.id_in_source as role_id_in_source\n",
    "FROM role JOIN item ON item.id = role.id\"\n",
    "df_role = Wds.sql_df(sql);"
   ]
  },
  {
   "cell_type": "markdown",
   "metadata": {},
   "source": [
    "Werden alle Ämter gefunden?"
   ]
  },
  {
   "cell_type": "code",
   "execution_count": 35,
   "metadata": {},
   "outputs": [],
   "source": [
    "role_dh = unique(string.(df_prp.ID_Amt_norm));"
   ]
  },
  {
   "cell_type": "code",
   "execution_count": 36,
   "metadata": {},
   "outputs": [
    {
     "data": {
      "text/plain": [
       "1-element Vector{Union{Missing, String}}:\n",
       " \"missing\""
      ]
     },
     "execution_count": 36,
     "metadata": {},
     "output_type": "execute_result"
    }
   ],
   "source": [
    "match_mg = setdiff(role_dh, df_role.role_id_in_source)"
   ]
  },
  {
   "cell_type": "code",
   "execution_count": 37,
   "metadata": {},
   "outputs": [
    {
     "data": {
      "text/plain": [
       "to_string_maybe (generic function with 1 method)"
      ]
     },
     "execution_count": 37,
     "metadata": {},
     "output_type": "execute_result"
    }
   ],
   "source": [
    "to_string_maybe(a) = ismissing(a) ? a : string(a)"
   ]
  },
  {
   "cell_type": "code",
   "execution_count": 38,
   "metadata": {},
   "outputs": [],
   "source": [
    "transform!(df_prp, :ID_Amt_norm => ByRow(to_string_maybe) => :match_role_id);"
   ]
  },
  {
   "cell_type": "code",
   "execution_count": 39,
   "metadata": {},
   "outputs": [],
   "source": [
    "df_prp_r = leftjoin(df_prp, df_role, on = :match_role_id => :role_id_in_source, matchmissing = :notequal);"
   ]
  },
  {
   "cell_type": "code",
   "execution_count": 40,
   "metadata": {},
   "outputs": [
    {
     "data": {
      "text/plain": [
       "(1158, 8376)"
      ]
     },
     "execution_count": 40,
     "metadata": {},
     "output_type": "execute_result"
    }
   ],
   "source": [
    "count(ismissing, df_prp_r.role_id), count(ismissing, df_prp_r.Amtsart)"
   ]
  },
  {
   "cell_type": "code",
   "execution_count": 41,
   "metadata": {},
   "outputs": [],
   "source": [
    "df_prp_r_mg_rid = filter(:role_id => ismissing, df_prp_r);"
   ]
  },
  {
   "cell_type": "code",
   "execution_count": 42,
   "metadata": {},
   "outputs": [
    {
     "data": {
      "text/plain": [
       "85-element Vector{Union{Missing, String}}:\n",
       " \"Dombaumeister\"\n",
       " \"Wirtschaftsverwalter\"\n",
       " \"Inhaber der officium minor\"\n",
       " \"officiales\"\n",
       " \"Domprior/seit seit 1504 Dekane\"\n",
       " \"Domprior/seit 1504 Dekan\"\n",
       " \"Mitglied\"\n",
       " \"Ecclesiasticus\"\n",
       " \"Domkustoden/Domthesaurare\"\n",
       " \"Präsenzmeister\"\n",
       " \"Präsenzkeller\"\n",
       " \"Providierter Domherr/Domscholast\"\n",
       " \"Kapellar\"\n",
       " ⋮\n",
       " \"vorwarer\"\n",
       " \"Vorsteher, Amtmann, confessarius, Gemeindepfarrer\"\n",
       " \"vormund\"\n",
       " \"bischöflicher Vogt\"\n",
       " \"Amtsverwalter\"\n",
       " \"Domina bzw. Äbtissin\"\n",
       " \"Drost u. Amtsschreiber\"\n",
       " \"Amtspächter bzw. -verwalter\"\n",
       " \"Lehnpropst\"\n",
       " \"Vorsteher (Ordenskaplan)\"\n",
       " \"Weltgeistlicher\"\n",
       " \"Rectores scholarum\""
      ]
     },
     "execution_count": 42,
     "metadata": {},
     "output_type": "execute_result"
    }
   ],
   "source": [
    "unique(df_prp_r_mg_rid.Amtsart)"
   ]
  },
  {
   "cell_type": "markdown",
   "metadata": {},
   "source": [
    "*2022-10-19* Was machen wir mit diesen Einträgen?"
   ]
  },
  {
   "cell_type": "markdown",
   "metadata": {},
   "source": [
    "*2022-03-16* TODO übernimm die Rollenbezeichnung `person_role.role_name` aus der Tabelle `role`."
   ]
  },
  {
   "cell_type": "markdown",
   "metadata": {},
   "source": [
    "### Bistümer zuordnen"
   ]
  },
  {
   "cell_type": "code",
   "execution_count": 43,
   "metadata": {},
   "outputs": [],
   "source": [
    "sql = \"SELECT id AS diocese_id, name AS diocese_name FROM diocese\"\n",
    "df_dioc = Wds.sql_df(sql);"
   ]
  },
  {
   "cell_type": "code",
   "execution_count": 44,
   "metadata": {},
   "outputs": [],
   "source": [
    "df_prp_r = leftjoin(df_prp_r, df_dioc, on = :Bistum => :diocese_name, matchmissing = :notequal);"
   ]
  },
  {
   "cell_type": "code",
   "execution_count": 45,
   "metadata": {},
   "outputs": [],
   "source": [
    "idx_diocese = .!ismissing.(df_prp_r[!, :diocese_id]);"
   ]
  },
  {
   "cell_type": "code",
   "execution_count": 46,
   "metadata": {},
   "outputs": [
    {
     "data": {
      "text/plain": [
       "1090"
      ]
     },
     "execution_count": 46,
     "metadata": {},
     "output_type": "execute_result"
    }
   ],
   "source": [
    "sum(idx_diocese)"
   ]
  },
  {
   "cell_type": "markdown",
   "metadata": {},
   "source": [
    "### Instutionen zuordnen\n",
    "Klöster, Domstifte"
   ]
  },
  {
   "cell_type": "code",
   "execution_count": 47,
   "metadata": {},
   "outputs": [],
   "source": [
    "table_name = \"institution\";\n",
    "sql = \"SELECT id AS institution_id, name, id_gsn FROM $(table_name)\"\n",
    "df_inst = Wds.sql_df(sql);"
   ]
  },
  {
   "cell_type": "code",
   "execution_count": 48,
   "metadata": {},
   "outputs": [],
   "source": [
    "df_prp_r = leftjoin(df_prp_r, df_inst, on = :ID_Kloster => :id_gsn, matchmissing = :notequal);"
   ]
  },
  {
   "cell_type": "markdown",
   "metadata": {},
   "source": [
    "Version mit eigener lookup-Funktion"
   ]
  },
  {
   "cell_type": "code",
   "execution_count": 49,
   "metadata": {},
   "outputs": [],
   "source": [
    "lookup_inst = Dict(df_inst.id_gsn .=> df_inst.institution_id);"
   ]
  },
  {
   "cell_type": "code",
   "execution_count": 50,
   "metadata": {},
   "outputs": [
    {
     "data": {
      "text/plain": [
       "5966"
      ]
     },
     "execution_count": 50,
     "metadata": {},
     "output_type": "execute_result"
    }
   ],
   "source": [
    "length(lookup_inst)"
   ]
  },
  {
   "cell_type": "code",
   "execution_count": 51,
   "metadata": {},
   "outputs": [
    {
     "data": {
      "text/plain": [
       "get_inst_id (generic function with 1 method)"
      ]
     },
     "execution_count": 51,
     "metadata": {},
     "output_type": "execute_result"
    }
   ],
   "source": [
    "get_inst_id(id_gsn) = get(lookup_inst, id_gsn, missing)"
   ]
  },
  {
   "cell_type": "code",
   "execution_count": 52,
   "metadata": {},
   "outputs": [
    {
     "data": {
      "text/plain": [
       "79619"
      ]
     },
     "execution_count": 52,
     "metadata": {},
     "output_type": "execute_result"
    }
   ],
   "source": [
    "get_inst_id(318)"
   ]
  },
  {
   "cell_type": "code",
   "execution_count": 53,
   "metadata": {},
   "outputs": [],
   "source": [
    "transform!(df_prp_r, :ID_Kloster => ByRow(get_inst_id) => :institution_id);"
   ]
  },
  {
   "cell_type": "code",
   "execution_count": 54,
   "metadata": {},
   "outputs": [],
   "source": [
    "lookup_inst_name = Dict(df_inst.id_gsn .=> df_inst.name);"
   ]
  },
  {
   "cell_type": "code",
   "execution_count": 55,
   "metadata": {},
   "outputs": [
    {
     "data": {
      "text/plain": [
       "get_inst_name (generic function with 1 method)"
      ]
     },
     "execution_count": 55,
     "metadata": {},
     "output_type": "execute_result"
    }
   ],
   "source": [
    "get_inst_name(id_gsn) = get(lookup_inst_name, id_gsn, missing)"
   ]
  },
  {
   "cell_type": "code",
   "execution_count": 56,
   "metadata": {},
   "outputs": [
    {
     "data": {
      "text/plain": [
       "\"Benediktinerinnenkloster Neuenwalde\""
      ]
     },
     "execution_count": 56,
     "metadata": {},
     "output_type": "execute_result"
    }
   ],
   "source": [
    "get_inst_name(318)"
   ]
  },
  {
   "cell_type": "code",
   "execution_count": 57,
   "metadata": {},
   "outputs": [],
   "source": [
    "transform!(df_prp_r, :ID_Kloster => ByRow(get_inst_name) => :institution_name);"
   ]
  },
  {
   "cell_type": "code",
   "execution_count": 58,
   "metadata": {},
   "outputs": [],
   "source": [
    "df_mg_inst_id = subset(df_prp_r, :institution_id => ByRow(ismissing));"
   ]
  },
  {
   "cell_type": "code",
   "execution_count": 59,
   "metadata": {},
   "outputs": [
    {
     "data": {
      "text/plain": [
       "(979, 39454)"
      ]
     },
     "execution_count": 59,
     "metadata": {},
     "output_type": "execute_result"
    }
   ],
   "source": [
    "size(df_mg_inst_id, 1), size(df_prp_r, 1)"
   ]
  },
  {
   "cell_type": "markdown",
   "metadata": {},
   "source": [
    "### Numerische Daten eintragen"
   ]
  },
  {
   "cell_type": "code",
   "execution_count": 60,
   "metadata": {},
   "outputs": [
    {
     "name": "stderr",
     "output_type": "stream",
     "text": [
      "┌ Warning: Could only find year in \n",
      "│   s = zwischen 1101\n",
      "└ @ WiagDataSetup C:\\Users\\Georg\\Documents\\projekte\\WiagDataSetup.jl\\src\\WiagDataSetup.jl:1120\n",
      "┌ Warning: Could not parse \n",
      "│   s = unbekannt\n",
      "└ @ WiagDataSetup C:\\Users\\Georg\\Documents\\projekte\\WiagDataSetup.jl\\src\\WiagDataSetup.jl:1125\n",
      "┌ Warning: Could only find year in \n",
      "│   s = t 1567\n",
      "└ @ WiagDataSetup C:\\Users\\Georg\\Documents\\projekte\\WiagDataSetup.jl\\src\\WiagDataSetup.jl:1120\n",
      "┌ Warning: Could only find year in \n",
      "│   s = zwischen 1101\n",
      "└ @ WiagDataSetup C:\\Users\\Georg\\Documents\\projekte\\WiagDataSetup.jl\\src\\WiagDataSetup.jl:1120\n",
      "┌ Warning: Could only find year in \n",
      "│   s = Bewerbung 1451\n",
      "└ @ WiagDataSetup C:\\Users\\Georg\\Documents\\projekte\\WiagDataSetup.jl\\src\\WiagDataSetup.jl:1120\n",
      "┌ Warning: Could only find year in \n",
      "│   s = [1068]\n",
      "└ @ WiagDataSetup C:\\Users\\Georg\\Documents\\projekte\\WiagDataSetup.jl\\src\\WiagDataSetup.jl:1120\n",
      "┌ Warning: Could only find year in \n",
      "│   s = erneut 1239\n",
      "└ @ WiagDataSetup C:\\Users\\Georg\\Documents\\projekte\\WiagDataSetup.jl\\src\\WiagDataSetup.jl:1120\n",
      "┌ Warning: Could only find year in \n",
      "│   s = [1068]\n",
      "└ @ WiagDataSetup C:\\Users\\Georg\\Documents\\projekte\\WiagDataSetup.jl\\src\\WiagDataSetup.jl:1120\n",
      "┌ Warning: Could only find year in \n",
      "│   s = [1068]\n",
      "└ @ WiagDataSetup C:\\Users\\Georg\\Documents\\projekte\\WiagDataSetup.jl\\src\\WiagDataSetup.jl:1120\n",
      "┌ Warning: Could only find year in \n",
      "│   s = [1452] 1467\n",
      "└ @ WiagDataSetup C:\\Users\\Georg\\Documents\\projekte\\WiagDataSetup.jl\\src\\WiagDataSetup.jl:1120\n",
      "┌ Warning: Could not parse \n",
      "│   s = wohl im 9. Jahrhundert\n",
      "└ @ WiagDataSetup C:\\Users\\Georg\\Documents\\projekte\\WiagDataSetup.jl\\src\\WiagDataSetup.jl:1125\n",
      "┌ Warning: Could only find year in \n",
      "│   s = [1239]\n",
      "└ @ WiagDataSetup C:\\Users\\Georg\\Documents\\projekte\\WiagDataSetup.jl\\src\\WiagDataSetup.jl:1120\n",
      "┌ Warning: Could only find year in \n",
      "│   s = [1633?], 1638, 1646\n",
      "└ @ WiagDataSetup C:\\Users\\Georg\\Documents\\projekte\\WiagDataSetup.jl\\src\\WiagDataSetup.jl:1120\n",
      "┌ Warning: Could only find year in \n",
      "│   s = Feb. 1339\n",
      "└ @ WiagDataSetup C:\\Users\\Georg\\Documents\\projekte\\WiagDataSetup.jl\\src\\WiagDataSetup.jl:1120\n",
      "┌ Warning: Could only find year in \n",
      "│   s = zw. 1123\n",
      "└ @ WiagDataSetup C:\\Users\\Georg\\Documents\\projekte\\WiagDataSetup.jl\\src\\WiagDataSetup.jl:1120\n",
      "┌ Warning: Could only find year in \n",
      "│   s = zw. 1180\n",
      "└ @ WiagDataSetup C:\\Users\\Georg\\Documents\\projekte\\WiagDataSetup.jl\\src\\WiagDataSetup.jl:1120\n",
      "┌ Warning: Could only find year in \n",
      "│   s = [1539?] 1543\n",
      "└ @ WiagDataSetup C:\\Users\\Georg\\Documents\\projekte\\WiagDataSetup.jl\\src\\WiagDataSetup.jl:1120\n",
      "┌ Warning: Could only find year in \n",
      "│   s = [1241] 1248\n",
      "└ @ WiagDataSetup C:\\Users\\Georg\\Documents\\projekte\\WiagDataSetup.jl\\src\\WiagDataSetup.jl:1120\n",
      "┌ Warning: Could only find year in \n",
      "│   s = [1188]\n",
      "└ @ WiagDataSetup C:\\Users\\Georg\\Documents\\projekte\\WiagDataSetup.jl\\src\\WiagDataSetup.jl:1120\n",
      "┌ Warning: Could only find year in \n",
      "│   s = [1178] 1188\n",
      "└ @ WiagDataSetup C:\\Users\\Georg\\Documents\\projekte\\WiagDataSetup.jl\\src\\WiagDataSetup.jl:1120\n",
      "┌ Warning: Could only find year in \n",
      "│   s = [1233] 1236\n",
      "└ @ WiagDataSetup C:\\Users\\Georg\\Documents\\projekte\\WiagDataSetup.jl\\src\\WiagDataSetup.jl:1120\n",
      "┌ Warning: Could not parse \n",
      "│   s = 14[4]4\n",
      "└ @ WiagDataSetup C:\\Users\\Georg\\Documents\\projekte\\WiagDataSetup.jl\\src\\WiagDataSetup.jl:1125\n",
      "┌ Warning: Could only find year in \n",
      "│   s = [1290 ca.]\n",
      "└ @ WiagDataSetup C:\\Users\\Georg\\Documents\\projekte\\WiagDataSetup.jl\\src\\WiagDataSetup.jl:1120\n",
      "┌ Warning: Could only find year in \n",
      "│   s = [1235]\n",
      "└ @ WiagDataSetup C:\\Users\\Georg\\Documents\\projekte\\WiagDataSetup.jl\\src\\WiagDataSetup.jl:1120\n",
      "┌ Warning: Could only find year in \n",
      "│   s = ab Mai 973\n",
      "└ @ WiagDataSetup C:\\Users\\Georg\\Documents\\projekte\\WiagDataSetup.jl\\src\\WiagDataSetup.jl:1120\n",
      "┌ Warning: Could only find year in \n",
      "│   s = vor dem 28. Juni 1314\n",
      "└ @ WiagDataSetup C:\\Users\\Georg\\Documents\\projekte\\WiagDataSetup.jl\\src\\WiagDataSetup.jl:1120\n",
      "┌ Warning: Could only find year in \n",
      "│   s = [1406/ 1407?]\n",
      "└ @ WiagDataSetup C:\\Users\\Georg\\Documents\\projekte\\WiagDataSetup.jl\\src\\WiagDataSetup.jl:1120\n",
      "┌ Warning: Could only find year in \n",
      "│   s = [1449]\n",
      "└ @ WiagDataSetup C:\\Users\\Georg\\Documents\\projekte\\WiagDataSetup.jl\\src\\WiagDataSetup.jl:1120\n",
      "┌ Warning: Could only find year in \n",
      "│   s = zw. 1180\n",
      "└ @ WiagDataSetup C:\\Users\\Georg\\Documents\\projekte\\WiagDataSetup.jl\\src\\WiagDataSetup.jl:1120\n",
      "┌ Warning: Could not parse \n",
      "│   s = keine Angabe\n",
      "└ @ WiagDataSetup C:\\Users\\Georg\\Documents\\projekte\\WiagDataSetup.jl\\src\\WiagDataSetup.jl:1125\n",
      "┌ Warning: Could only find year in \n",
      "│   s = (1193\n",
      "└ @ WiagDataSetup C:\\Users\\Georg\\Documents\\projekte\\WiagDataSetup.jl\\src\\WiagDataSetup.jl:1120\n",
      "┌ Warning: Could not parse \n",
      "│   s = unbekannt\n",
      "└ @ WiagDataSetup C:\\Users\\Georg\\Documents\\projekte\\WiagDataSetup.jl\\src\\WiagDataSetup.jl:1125\n",
      "┌ Warning: Could not parse \n",
      "│   s = unbekannt\n",
      "└ @ WiagDataSetup C:\\Users\\Georg\\Documents\\projekte\\WiagDataSetup.jl\\src\\WiagDataSetup.jl:1125\n",
      "┌ Warning: Could only find year in \n",
      "│   s = erneut 1239\n",
      "└ @ WiagDataSetup C:\\Users\\Georg\\Documents\\projekte\\WiagDataSetup.jl\\src\\WiagDataSetup.jl:1120\n",
      "┌ Warning: Could only find year in \n",
      "│   s = erneut 1239\n",
      "└ @ WiagDataSetup C:\\Users\\Georg\\Documents\\projekte\\WiagDataSetup.jl\\src\\WiagDataSetup.jl:1120\n",
      "┌ Warning: Could only find year in \n",
      "│   s = [1406/ 1407?]\n",
      "└ @ WiagDataSetup C:\\Users\\Georg\\Documents\\projekte\\WiagDataSetup.jl\\src\\WiagDataSetup.jl:1120\n",
      "┌ Warning: Could only find year in \n",
      "│   s = (1193\n",
      "└ @ WiagDataSetup C:\\Users\\Georg\\Documents\\projekte\\WiagDataSetup.jl\\src\\WiagDataSetup.jl:1120\n",
      "┌ Warning: Could only find year in \n",
      "│   s = _1429\n",
      "└ @ WiagDataSetup C:\\Users\\Georg\\Documents\\projekte\\WiagDataSetup.jl\\src\\WiagDataSetup.jl:1120\n",
      "┌ Warning: Could only find year in \n",
      "│   s = ·1209\n",
      "└ @ WiagDataSetup C:\\Users\\Georg\\Documents\\projekte\\WiagDataSetup.jl\\src\\WiagDataSetup.jl:1120\n",
      "┌ Warning: Could not parse \n",
      "│   s = 12\n",
      "└ @ WiagDataSetup C:\\Users\\Georg\\Documents\\projekte\\WiagDataSetup.jl\\src\\WiagDataSetup.jl:1125\n",
      "┌ Warning: Could not parse \n",
      "│   s = 2\n",
      "└ @ WiagDataSetup C:\\Users\\Georg\\Documents\\projekte\\WiagDataSetup.jl\\src\\WiagDataSetup.jl:1125\n",
      "┌ Warning: Could not parse \n",
      "│   s = 6\n",
      "└ @ WiagDataSetup C:\\Users\\Georg\\Documents\\projekte\\WiagDataSetup.jl\\src\\WiagDataSetup.jl:1125\n",
      "┌ Warning: Could not parse \n",
      "│   s = ohne Angabe\n",
      "└ @ WiagDataSetup C:\\Users\\Georg\\Documents\\projekte\\WiagDataSetup.jl\\src\\WiagDataSetup.jl:1125\n",
      "┌ Warning: Could not parse \n",
      "│   s = ohne Angabe\n",
      "└ @ WiagDataSetup C:\\Users\\Georg\\Documents\\projekte\\WiagDataSetup.jl\\src\\WiagDataSetup.jl:1125\n",
      "┌ Warning: Could not parse \n",
      "│   s = ohne Angabe\n",
      "└ @ WiagDataSetup C:\\Users\\Georg\\Documents\\projekte\\WiagDataSetup.jl\\src\\WiagDataSetup.jl:1125\n",
      "┌ Warning: Could not parse \n",
      "│   s = ohne Angabe\n",
      "└ @ WiagDataSetup C:\\Users\\Georg\\Documents\\projekte\\WiagDataSetup.jl\\src\\WiagDataSetup.jl:1125\n",
      "┌ Warning: Could not parse \n",
      "│   s = ohne Angabe\n",
      "└ @ WiagDataSetup C:\\Users\\Georg\\Documents\\projekte\\WiagDataSetup.jl\\src\\WiagDataSetup.jl:1125\n",
      "┌ Warning: Could not parse \n",
      "│   s = ohne Angabe\n",
      "└ @ WiagDataSetup C:\\Users\\Georg\\Documents\\projekte\\WiagDataSetup.jl\\src\\WiagDataSetup.jl:1125\n",
      "┌ Warning: Could not parse \n",
      "│   s = ohne Angabe\n",
      "└ @ WiagDataSetup C:\\Users\\Georg\\Documents\\projekte\\WiagDataSetup.jl\\src\\WiagDataSetup.jl:1125\n",
      "┌ Warning: Could not parse \n",
      "│   s = 13\n",
      "└ @ WiagDataSetup C:\\Users\\Georg\\Documents\\projekte\\WiagDataSetup.jl\\src\\WiagDataSetup.jl:1125\n",
      "┌ Warning: Could not parse \n",
      "│   s = 1\n",
      "└ @ WiagDataSetup C:\\Users\\Georg\\Documents\\projekte\\WiagDataSetup.jl\\src\\WiagDataSetup.jl:1125\n",
      "┌ Warning: Could not parse \n",
      "│   s = ohne Angabe\n",
      "└ @ WiagDataSetup C:\\Users\\Georg\\Documents\\projekte\\WiagDataSetup.jl\\src\\WiagDataSetup.jl:1125\n",
      "┌ Warning: Could not parse \n",
      "│   s = ohne Angabe\n",
      "└ @ WiagDataSetup C:\\Users\\Georg\\Documents\\projekte\\WiagDataSetup.jl\\src\\WiagDataSetup.jl:1125\n",
      "┌ Warning: Could not parse \n",
      "│   s = ohne Angabe\n",
      "└ @ WiagDataSetup C:\\Users\\Georg\\Documents\\projekte\\WiagDataSetup.jl\\src\\WiagDataSetup.jl:1125\n",
      "┌ Warning: Could only find year in \n",
      "│   s = [1309]\n",
      "└ @ WiagDataSetup C:\\Users\\Georg\\Documents\\projekte\\WiagDataSetup.jl\\src\\WiagDataSetup.jl:1120\n",
      "┌ Warning: Could only find year in \n",
      "│   s = [1284]\n",
      "└ @ WiagDataSetup C:\\Users\\Georg\\Documents\\projekte\\WiagDataSetup.jl\\src\\WiagDataSetup.jl:1120\n",
      "┌ Warning: Could not parse \n",
      "│   s = ohne Angabe\n",
      "└ @ WiagDataSetup C:\\Users\\Georg\\Documents\\projekte\\WiagDataSetup.jl\\src\\WiagDataSetup.jl:1125\n"
     ]
    }
   ],
   "source": [
    "num_date_begin(s_date) = Wds.parsemaybe(s_date, :lower)\n",
    "df_prp_r[!, :num_date_begin] .= num_date_begin.(df_prp_r[!, :Amtsbeginn]);"
   ]
  },
  {
   "cell_type": "code",
   "execution_count": 61,
   "metadata": {},
   "outputs": [
    {
     "name": "stderr",
     "output_type": "stream",
     "text": [
      "┌ Warning: Could only find year in \n",
      "│   s = und 1118\n",
      "└ @ WiagDataSetup C:\\Users\\Georg\\Documents\\projekte\\WiagDataSetup.jl\\src\\WiagDataSetup.jl:1120\n",
      "┌ Warning: Could only find year in \n",
      "│   s = res. 1399\n",
      "└ @ WiagDataSetup C:\\Users\\Georg\\Documents\\projekte\\WiagDataSetup.jl\\src\\WiagDataSetup.jl:1120\n",
      "┌ Warning: Could only find year in \n",
      "│   s = t1529\n",
      "└ @ WiagDataSetup C:\\Users\\Georg\\Documents\\projekte\\WiagDataSetup.jl\\src\\WiagDataSetup.jl:1120\n",
      "┌ Warning: Could only find year in \n",
      "│   s = t1547\n",
      "└ @ WiagDataSetup C:\\Users\\Georg\\Documents\\projekte\\WiagDataSetup.jl\\src\\WiagDataSetup.jl:1120\n",
      "┌ Warning: Could only find year in \n",
      "│   s = und 1118\n",
      "└ @ WiagDataSetup C:\\Users\\Georg\\Documents\\projekte\\WiagDataSetup.jl\\src\\WiagDataSetup.jl:1120\n",
      "┌ Warning: Could only find year in \n",
      "│   s = 1 1320 Aug. 22\n",
      "└ @ WiagDataSetup C:\\Users\\Georg\\Documents\\projekte\\WiagDataSetup.jl\\src\\WiagDataSetup.jl:1120\n",
      "┌ Warning: Could not parse \n",
      "│   s = 66\n",
      "└ @ WiagDataSetup C:\\Users\\Georg\\Documents\\projekte\\WiagDataSetup.jl\\src\\WiagDataSetup.jl:1125\n",
      "┌ Warning: Could only find year in \n",
      "│   s = [1241]\n",
      "└ @ WiagDataSetup C:\\Users\\Georg\\Documents\\projekte\\WiagDataSetup.jl\\src\\WiagDataSetup.jl:1120\n",
      "┌ Warning: Could not parse \n",
      "│   s = 86\n",
      "└ @ WiagDataSetup C:\\Users\\Georg\\Documents\\projekte\\WiagDataSetup.jl\\src\\WiagDataSetup.jl:1125\n",
      "┌ Warning: Could only find year in \n",
      "│   s = [1223]\n",
      "└ @ WiagDataSetup C:\\Users\\Georg\\Documents\\projekte\\WiagDataSetup.jl\\src\\WiagDataSetup.jl:1120\n",
      "┌ Warning: Could only find year in \n",
      "│   s = u. 1148\n",
      "└ @ WiagDataSetup C:\\Users\\Georg\\Documents\\projekte\\WiagDataSetup.jl\\src\\WiagDataSetup.jl:1120\n",
      "┌ Warning: Could only find year in \n",
      "│   s = u. 1188\n",
      "└ @ WiagDataSetup C:\\Users\\Georg\\Documents\\projekte\\WiagDataSetup.jl\\src\\WiagDataSetup.jl:1120\n",
      "┌ Warning: Could only find year in \n",
      "│   s = nach Mai 1624\n",
      "└ @ WiagDataSetup C:\\Users\\Georg\\Documents\\projekte\\WiagDataSetup.jl\\src\\WiagDataSetup.jl:1120\n",
      "┌ Warning: Could only find year in \n",
      "│   s = [1202]\n",
      "└ @ WiagDataSetup C:\\Users\\Georg\\Documents\\projekte\\WiagDataSetup.jl\\src\\WiagDataSetup.jl:1120\n",
      "┌ Warning: Could only find year in \n",
      "│   s = [1801]\n",
      "└ @ WiagDataSetup C:\\Users\\Georg\\Documents\\projekte\\WiagDataSetup.jl\\src\\WiagDataSetup.jl:1120\n",
      "┌ Warning: Could only find year in \n",
      "│   s = res. 1399\n",
      "└ @ WiagDataSetup C:\\Users\\Georg\\Documents\\projekte\\WiagDataSetup.jl\\src\\WiagDataSetup.jl:1120\n",
      "┌ Warning: Could only find year in \n",
      "│   s = u. 1188\n",
      "└ @ WiagDataSetup C:\\Users\\Georg\\Documents\\projekte\\WiagDataSetup.jl\\src\\WiagDataSetup.jl:1120\n",
      "┌ Warning: Could not parse \n",
      "│   s = Provision\n",
      "└ @ WiagDataSetup C:\\Users\\Georg\\Documents\\projekte\\WiagDataSetup.jl\\src\\WiagDataSetup.jl:1125\n",
      "┌ Warning: Could only find year in \n",
      "│   s = resigniert 1499\n",
      "└ @ WiagDataSetup C:\\Users\\Georg\\Documents\\projekte\\WiagDataSetup.jl\\src\\WiagDataSetup.jl:1120\n",
      "┌ Warning: Could only find year in \n",
      "│   s = resigniert 1515\n",
      "└ @ WiagDataSetup C:\\Users\\Georg\\Documents\\projekte\\WiagDataSetup.jl\\src\\WiagDataSetup.jl:1120\n",
      "┌ Warning: Could only find year in \n",
      "│   s = resigniert 1459\n",
      "└ @ WiagDataSetup C:\\Users\\Georg\\Documents\\projekte\\WiagDataSetup.jl\\src\\WiagDataSetup.jl:1120\n",
      "┌ Warning: Could only find year in \n",
      "│   s = resigniert 1408\n",
      "└ @ WiagDataSetup C:\\Users\\Georg\\Documents\\projekte\\WiagDataSetup.jl\\src\\WiagDataSetup.jl:1120\n",
      "┌ Warning: Could only find year in \n",
      "│   s = wahrscheinlich resigniert 1399\n",
      "└ @ WiagDataSetup C:\\Users\\Georg\\Documents\\projekte\\WiagDataSetup.jl\\src\\WiagDataSetup.jl:1120\n",
      "┌ Warning: Could only find year in \n",
      "│   s = resigniert 1442\n",
      "└ @ WiagDataSetup C:\\Users\\Georg\\Documents\\projekte\\WiagDataSetup.jl\\src\\WiagDataSetup.jl:1120\n",
      "┌ Warning: Could only find year in \n",
      "│   s = t1568\n",
      "└ @ WiagDataSetup C:\\Users\\Georg\\Documents\\projekte\\WiagDataSetup.jl\\src\\WiagDataSetup.jl:1120\n"
     ]
    }
   ],
   "source": [
    "num_date_end(s_date) = Wds.parsemaybe(s_date, :upper)\n",
    "df_prp_r[!, :num_date_end] .= num_date_end.(df_prp_r[!, :Amtsende]);"
   ]
  },
  {
   "cell_type": "code",
   "execution_count": 62,
   "metadata": {},
   "outputs": [],
   "source": [
    "df_info = dropmissing(df_prp_r, :Amtsart);"
   ]
  },
  {
   "cell_type": "code",
   "execution_count": 63,
   "metadata": {},
   "outputs": [
    {
     "data": {
      "text/plain": [
       "31078"
      ]
     },
     "execution_count": 63,
     "metadata": {},
     "output_type": "execute_result"
    }
   ],
   "source": [
    "size(df_info, 1)"
   ]
  },
  {
   "cell_type": "code",
   "execution_count": 58,
   "metadata": {},
   "outputs": [
    {
     "data": {
      "text/html": [
       "<div><div style = \"float: left;\"><span>8×6 DataFrame</span></div><div style = \"clear: both;\"></div></div><div class = \"data-frame\" style = \"overflow-x: scroll;\"><table class = \"data-frame\" style = \"margin-bottom: 6px;\"><thead><tr class = \"header\"><th class = \"rowNumber\" style = \"font-weight: bold; text-align: right;\">Row</th><th style = \"text-align: left;\">ID_Domherr</th><th style = \"text-align: left;\">Amtsart</th><th style = \"text-align: left;\">Amtsbeginn</th><th style = \"text-align: left;\">num_date_begin</th><th style = \"text-align: left;\">Amtsende</th><th style = \"text-align: left;\">num_date_end</th></tr><tr class = \"subheader headerLastRow\"><th class = \"rowNumber\" style = \"font-weight: bold; text-align: right;\"></th><th title = \"Int64\" style = \"text-align: left;\">Int64</th><th title = \"String\" style = \"text-align: left;\">String</th><th title = \"Union{Missing, String}\" style = \"text-align: left;\">String?</th><th title = \"Union{Missing, Int64}\" style = \"text-align: left;\">Int64?</th><th title = \"Union{Missing, String}\" style = \"text-align: left;\">String?</th><th title = \"Union{Missing, Int64}\" style = \"text-align: left;\">Int64?</th></tr></thead><tbody><tr><td class = \"rowNumber\" style = \"font-weight: bold; text-align: right;\">1</td><td style = \"text-align: right;\">14112</td><td style = \"text-align: left;\">Domkustos (Domthesaurar)</td><td style = \"text-align: left;\">1744</td><td style = \"text-align: right;\">1744</td><td style = \"text-align: left;\">1757</td><td style = \"text-align: right;\">1757</td></tr><tr><td class = \"rowNumber\" style = \"font-weight: bold; text-align: right;\">2</td><td style = \"text-align: right;\">14113</td><td style = \"text-align: left;\">Domkustos (Domthesaurar)</td><td style = \"text-align: left;\">1778</td><td style = \"text-align: right;\">1778</td><td style = \"text-align: left;\">1792</td><td style = \"text-align: right;\">1792</td></tr><tr><td class = \"rowNumber\" style = \"font-weight: bold; text-align: right;\">3</td><td style = \"text-align: right;\">14115</td><td style = \"text-align: left;\">Domkustos (Domthesaurar)</td><td style = \"text-align: left;\">1792</td><td style = \"text-align: right;\">1792</td><td style = \"text-align: left;\">1811</td><td style = \"text-align: right;\">1811</td></tr><tr><td class = \"rowNumber\" style = \"font-weight: bold; text-align: right;\">4</td><td style = \"text-align: right;\">14117</td><td style = \"text-align: left;\">Domkantor</td><td style = \"text-align: left;\">vor 1328</td><td style = \"text-align: right;\">1278</td><td style = \"font-style: italic; text-align: left;\">missing</td><td style = \"font-style: italic; text-align: right;\">missing</td></tr><tr><td class = \"rowNumber\" style = \"font-weight: bold; text-align: right;\">5</td><td style = \"text-align: right;\">14118</td><td style = \"text-align: left;\">Domscholaster</td><td style = \"text-align: left;\">vor 1328</td><td style = \"text-align: right;\">1278</td><td style = \"font-style: italic; text-align: left;\">missing</td><td style = \"font-style: italic; text-align: right;\">missing</td></tr><tr><td class = \"rowNumber\" style = \"font-weight: bold; text-align: right;\">6</td><td style = \"text-align: right;\">14122</td><td style = \"text-align: left;\">Domkantor</td><td style = \"text-align: left;\">1376</td><td style = \"text-align: right;\">1376</td><td style = \"text-align: left;\">1376</td><td style = \"text-align: right;\">1376</td></tr><tr><td class = \"rowNumber\" style = \"font-weight: bold; text-align: right;\">7</td><td style = \"text-align: right;\">14124</td><td style = \"text-align: left;\">Domkantor</td><td style = \"text-align: left;\">1405</td><td style = \"text-align: right;\">1405</td><td style = \"text-align: left;\">1419</td><td style = \"text-align: right;\">1419</td></tr><tr><td class = \"rowNumber\" style = \"font-weight: bold; text-align: right;\">8</td><td style = \"text-align: right;\">14128</td><td style = \"text-align: left;\">Domkantor</td><td style = \"text-align: left;\">1452</td><td style = \"text-align: right;\">1452</td><td style = \"text-align: left;\">1455</td><td style = \"text-align: right;\">1455</td></tr></tbody></table></div>"
      ],
      "text/latex": [
       "\\begin{tabular}{r|cccccc}\n",
       "\t& ID\\_Domherr & Amtsart & Amtsbeginn & num\\_date\\_begin & Amtsende & num\\_date\\_end\\\\\n",
       "\t\\hline\n",
       "\t& Int64 & String & String? & Int64? & String? & Int64?\\\\\n",
       "\t\\hline\n",
       "\t1 & 14112 & Domkustos (Domthesaurar) & 1744 & 1744 & 1757 & 1757 \\\\\n",
       "\t2 & 14113 & Domkustos (Domthesaurar) & 1778 & 1778 & 1792 & 1792 \\\\\n",
       "\t3 & 14115 & Domkustos (Domthesaurar) & 1792 & 1792 & 1811 & 1811 \\\\\n",
       "\t4 & 14117 & Domkantor & vor 1328 & 1278 & \\emph{missing} & \\emph{missing} \\\\\n",
       "\t5 & 14118 & Domscholaster & vor 1328 & 1278 & \\emph{missing} & \\emph{missing} \\\\\n",
       "\t6 & 14122 & Domkantor & 1376 & 1376 & 1376 & 1376 \\\\\n",
       "\t7 & 14124 & Domkantor & 1405 & 1405 & 1419 & 1419 \\\\\n",
       "\t8 & 14128 & Domkantor & 1452 & 1452 & 1455 & 1455 \\\\\n",
       "\\end{tabular}\n"
      ],
      "text/plain": [
       "\u001b[1m8×6 DataFrame\u001b[0m\n",
       "\u001b[1m Row \u001b[0m│\u001b[1m ID_Domherr \u001b[0m\u001b[1m Amtsart                  \u001b[0m\u001b[1m Amtsbeginn \u001b[0m\u001b[1m num_date_begin \u001b[0m\u001b[1m Amtse\u001b[0m ⋯\n",
       "     │\u001b[90m Int64      \u001b[0m\u001b[90m String                   \u001b[0m\u001b[90m String?    \u001b[0m\u001b[90m Int64?         \u001b[0m\u001b[90m Strin\u001b[0m ⋯\n",
       "─────┼──────────────────────────────────────────────────────────────────────────\n",
       "   1 │      14112  Domkustos (Domthesaurar)  1744                  1744  1757  ⋯\n",
       "   2 │      14113  Domkustos (Domthesaurar)  1778                  1778  1792\n",
       "   3 │      14115  Domkustos (Domthesaurar)  1792                  1792  1811\n",
       "   4 │      14117  Domkantor                 vor 1328              1278 \u001b[90m missi\u001b[0m\n",
       "   5 │      14118  Domscholaster             vor 1328              1278 \u001b[90m missi\u001b[0m ⋯\n",
       "   6 │      14122  Domkantor                 1376                  1376  1376\n",
       "   7 │      14124  Domkantor                 1405                  1405  1419\n",
       "   8 │      14128  Domkantor                 1452                  1452  1455\n",
       "\u001b[36m                                                               2 columns omitted\u001b[0m"
      ]
     },
     "execution_count": 58,
     "metadata": {},
     "output_type": "execute_result"
    }
   ],
   "source": [
    "df_info[60:67, [:ID_Domherr, :Amtsart, :Amtsbeginn, :num_date_begin, :Amtsende, :num_date_end]]"
   ]
  },
  {
   "cell_type": "code",
   "execution_count": 64,
   "metadata": {},
   "outputs": [
    {
     "data": {
      "text/plain": [
       "(39454, 23)"
      ]
     },
     "execution_count": 64,
     "metadata": {},
     "output_type": "execute_result"
    }
   ],
   "source": [
    "size(df_prp)"
   ]
  },
  {
   "cell_type": "markdown",
   "metadata": {},
   "source": [
    "*2022-05-20* Datenfehler in der Quelle korrigiert"
   ]
  },
  {
   "cell_type": "code",
   "execution_count": 56,
   "metadata": {},
   "outputs": [
    {
     "data": {
      "text/plain": [
       "fix_date (generic function with 1 method)"
      ]
     },
     "execution_count": 56,
     "metadata": {},
     "output_type": "execute_result"
    }
   ],
   "source": [
    "function fix_date(s)\n",
    "    if ismissing(s)\n",
    "        return s\n",
    "    end\n",
    "    return replace(s, \"1 Hälfte\" => \"1. Hälfte\", \"14 Jahr\" => \"14. Jahr\", \"Beginn16\" => \"Beginn 16\")\n",
    "end"
   ]
  },
  {
   "cell_type": "code",
   "execution_count": 57,
   "metadata": {},
   "outputs": [],
   "source": [
    "transform!(df_prp_r, :Amtsbeginn => ByRow(fix_date) => :Amtsbeginn);"
   ]
  },
  {
   "cell_type": "code",
   "execution_count": 58,
   "metadata": {},
   "outputs": [],
   "source": [
    "transform!(df_prp_r, :Amtsende => ByRow(fix_date) => :Amtsende);"
   ]
  },
  {
   "cell_type": "code",
   "execution_count": 65,
   "metadata": {},
   "outputs": [
    {
     "name": "stderr",
     "output_type": "stream",
     "text": [
      "┌ Warning: could not parse \n",
      "│   s = zwischen 1101\n",
      "└ @ WiagDataSetup C:\\Users\\Georg\\Documents\\projekte\\WiagDataSetup.jl\\src\\WiagDataSetup.jl:1539\n",
      "┌ Warning: could not parse \n",
      "│   s = (1553) 1560\n",
      "└ @ WiagDataSetup C:\\Users\\Georg\\Documents\\projekte\\WiagDataSetup.jl\\src\\WiagDataSetup.jl:1539\n",
      "┌ Warning: could not parse \n",
      "│   s = (1574) 1593\n",
      "└ @ WiagDataSetup C:\\Users\\Georg\\Documents\\projekte\\WiagDataSetup.jl\\src\\WiagDataSetup.jl:1539\n",
      "┌ Warning: could not parse \n",
      "│   s = t 1567\n",
      "└ @ WiagDataSetup C:\\Users\\Georg\\Documents\\projekte\\WiagDataSetup.jl\\src\\WiagDataSetup.jl:1539\n",
      "┌ Warning: could not parse \n",
      "│   s = zwischen 1101\n",
      "└ @ WiagDataSetup C:\\Users\\Georg\\Documents\\projekte\\WiagDataSetup.jl\\src\\WiagDataSetup.jl:1539\n",
      "┌ Warning: could not parse \n",
      "│   s = (Bewerbung 1451)\n",
      "└ @ WiagDataSetup C:\\Users\\Georg\\Documents\\projekte\\WiagDataSetup.jl\\src\\WiagDataSetup.jl:1539\n",
      "┌ Warning: could not parse \n",
      "│   s = [1068]\n",
      "└ @ WiagDataSetup C:\\Users\\Georg\\Documents\\projekte\\WiagDataSetup.jl\\src\\WiagDataSetup.jl:1539\n",
      "┌ Warning: could not parse \n",
      "│   s = erneut 1239\n",
      "└ @ WiagDataSetup C:\\Users\\Georg\\Documents\\projekte\\WiagDataSetup.jl\\src\\WiagDataSetup.jl:1539\n",
      "┌ Warning: could not parse \n",
      "│   s = [1068]\n",
      "└ @ WiagDataSetup C:\\Users\\Georg\\Documents\\projekte\\WiagDataSetup.jl\\src\\WiagDataSetup.jl:1539\n",
      "┌ Warning: could not parse \n",
      "│   s = (1410 Provision)\n",
      "└ @ WiagDataSetup C:\\Users\\Georg\\Documents\\projekte\\WiagDataSetup.jl\\src\\WiagDataSetup.jl:1539\n",
      "┌ Warning: could not parse \n",
      "│   s = [1068]\n",
      "└ @ WiagDataSetup C:\\Users\\Georg\\Documents\\projekte\\WiagDataSetup.jl\\src\\WiagDataSetup.jl:1539\n",
      "┌ Warning: could not parse \n",
      "│   s = [1452] 1467\n",
      "└ @ WiagDataSetup C:\\Users\\Georg\\Documents\\projekte\\WiagDataSetup.jl\\src\\WiagDataSetup.jl:1539\n",
      "┌ Warning: could not parse \n",
      "│   s = (1215) (1235)\n",
      "└ @ WiagDataSetup C:\\Users\\Georg\\Documents\\projekte\\WiagDataSetup.jl\\src\\WiagDataSetup.jl:1539\n",
      "┌ Warning: could not parse \n",
      "│   s = [1239]\n",
      "└ @ WiagDataSetup C:\\Users\\Georg\\Documents\\projekte\\WiagDataSetup.jl\\src\\WiagDataSetup.jl:1539\n",
      "┌ Warning: could not parse \n",
      "│   s = [1633?], 1638, 1646\n",
      "└ @ WiagDataSetup C:\\Users\\Georg\\Documents\\projekte\\WiagDataSetup.jl\\src\\WiagDataSetup.jl:1539\n",
      "┌ Warning: could not parse \n",
      "│   s = (vor) 1515\n",
      "└ @ WiagDataSetup C:\\Users\\Georg\\Documents\\projekte\\WiagDataSetup.jl\\src\\WiagDataSetup.jl:1539\n",
      "┌ Warning: could not parse \n",
      "│   s = (vor) 1521\n",
      "└ @ WiagDataSetup C:\\Users\\Georg\\Documents\\projekte\\WiagDataSetup.jl\\src\\WiagDataSetup.jl:1539\n",
      "┌ Warning: could not parse \n",
      "│   s = Feb. 1339\n",
      "└ @ WiagDataSetup C:\\Users\\Georg\\Documents\\projekte\\WiagDataSetup.jl\\src\\WiagDataSetup.jl:1539\n",
      "┌ Warning: year out of range in \n",
      "│   s = 17681789\n",
      "└ @ WiagDataSetup C:\\Users\\Georg\\Documents\\projekte\\WiagDataSetup.jl\\src\\WiagDataSetup.jl:1531\n",
      "┌ Warning: could not parse \n",
      "│   s = zw. 1123\n",
      "└ @ WiagDataSetup C:\\Users\\Georg\\Documents\\projekte\\WiagDataSetup.jl\\src\\WiagDataSetup.jl:1539\n",
      "┌ Warning: could not parse \n",
      "│   s = zw. 1180\n",
      "└ @ WiagDataSetup C:\\Users\\Georg\\Documents\\projekte\\WiagDataSetup.jl\\src\\WiagDataSetup.jl:1539\n",
      "┌ Warning: could not parse \n",
      "│   s = [1539?] 1543\n",
      "└ @ WiagDataSetup C:\\Users\\Georg\\Documents\\projekte\\WiagDataSetup.jl\\src\\WiagDataSetup.jl:1539\n",
      "┌ Warning: could not parse \n",
      "│   s = [1241] 1248\n",
      "└ @ WiagDataSetup C:\\Users\\Georg\\Documents\\projekte\\WiagDataSetup.jl\\src\\WiagDataSetup.jl:1539\n",
      "┌ Warning: could not parse \n",
      "│   s = [1188]\n",
      "└ @ WiagDataSetup C:\\Users\\Georg\\Documents\\projekte\\WiagDataSetup.jl\\src\\WiagDataSetup.jl:1539\n",
      "┌ Warning: could not parse \n",
      "│   s = [1178] 1188\n",
      "└ @ WiagDataSetup C:\\Users\\Georg\\Documents\\projekte\\WiagDataSetup.jl\\src\\WiagDataSetup.jl:1539\n",
      "┌ Warning: could not parse \n",
      "│   s = [1233] 1236\n",
      "└ @ WiagDataSetup C:\\Users\\Georg\\Documents\\projekte\\WiagDataSetup.jl\\src\\WiagDataSetup.jl:1539\n",
      "┌ Warning: could not parse \n",
      "│   s = [1290 ca.]\n",
      "└ @ WiagDataSetup C:\\Users\\Georg\\Documents\\projekte\\WiagDataSetup.jl\\src\\WiagDataSetup.jl:1539\n",
      "┌ Warning: could not parse \n",
      "│   s = [1235]\n",
      "└ @ WiagDataSetup C:\\Users\\Georg\\Documents\\projekte\\WiagDataSetup.jl\\src\\WiagDataSetup.jl:1539\n",
      "┌ Warning: could not parse \n",
      "│   s = ab Mai 973\n",
      "└ @ WiagDataSetup C:\\Users\\Georg\\Documents\\projekte\\WiagDataSetup.jl\\src\\WiagDataSetup.jl:1539\n",
      "┌ Warning: could not parse \n",
      "│   s = vor dem 28. Juni 1314\n",
      "└ @ WiagDataSetup C:\\Users\\Georg\\Documents\\projekte\\WiagDataSetup.jl\\src\\WiagDataSetup.jl:1539\n",
      "┌ Warning: could not parse \n",
      "│   s = (1158), 1177\n",
      "└ @ WiagDataSetup C:\\Users\\Georg\\Documents\\projekte\\WiagDataSetup.jl\\src\\WiagDataSetup.jl:1539\n",
      "┌ Warning: could not parse \n",
      "│   s = [1406/ 1407?]\n",
      "└ @ WiagDataSetup C:\\Users\\Georg\\Documents\\projekte\\WiagDataSetup.jl\\src\\WiagDataSetup.jl:1539\n",
      "┌ Warning: could not parse \n",
      "│   s = [1449]\n",
      "└ @ WiagDataSetup C:\\Users\\Georg\\Documents\\projekte\\WiagDataSetup.jl\\src\\WiagDataSetup.jl:1539\n",
      "┌ Warning: could not parse \n",
      "│   s = zw. 1180\n",
      "└ @ WiagDataSetup C:\\Users\\Georg\\Documents\\projekte\\WiagDataSetup.jl\\src\\WiagDataSetup.jl:1539\n",
      "┌ Warning: could not parse \n",
      "│   s = (vor) 1411\n",
      "└ @ WiagDataSetup C:\\Users\\Georg\\Documents\\projekte\\WiagDataSetup.jl\\src\\WiagDataSetup.jl:1539\n",
      "┌ Warning: could not parse \n",
      "│   s = (vor) 1398\n",
      "└ @ WiagDataSetup C:\\Users\\Georg\\Documents\\projekte\\WiagDataSetup.jl\\src\\WiagDataSetup.jl:1539\n",
      "┌ Warning: could not parse \n",
      "│   s = (1158), 1177\n",
      "└ @ WiagDataSetup C:\\Users\\Georg\\Documents\\projekte\\WiagDataSetup.jl\\src\\WiagDataSetup.jl:1539\n",
      "┌ Warning: could not parse \n",
      "│   s = keine Angabe\n",
      "└ @ WiagDataSetup C:\\Users\\Georg\\Documents\\projekte\\WiagDataSetup.jl\\src\\WiagDataSetup.jl:1539\n",
      "┌ Warning: could not parse \n",
      "│   s = (1313)\n",
      "└ @ WiagDataSetup C:\\Users\\Georg\\Documents\\projekte\\WiagDataSetup.jl\\src\\WiagDataSetup.jl:1539\n",
      "┌ Warning: could not parse \n",
      "│   s = (1193\n",
      "└ @ WiagDataSetup C:\\Users\\Georg\\Documents\\projekte\\WiagDataSetup.jl\\src\\WiagDataSetup.jl:1539\n",
      "┌ Warning: could not parse \n",
      "│   s = erneut 1239\n",
      "└ @ WiagDataSetup C:\\Users\\Georg\\Documents\\projekte\\WiagDataSetup.jl\\src\\WiagDataSetup.jl:1539\n",
      "┌ Warning: could not parse \n",
      "│   s = erneut 1239\n",
      "└ @ WiagDataSetup C:\\Users\\Georg\\Documents\\projekte\\WiagDataSetup.jl\\src\\WiagDataSetup.jl:1539\n",
      "┌ Warning: could not parse \n",
      "│   s = [1406/ 1407?]\n",
      "└ @ WiagDataSetup C:\\Users\\Georg\\Documents\\projekte\\WiagDataSetup.jl\\src\\WiagDataSetup.jl:1539\n",
      "┌ Warning: could not parse \n",
      "│   s = (1193\n",
      "└ @ WiagDataSetup C:\\Users\\Georg\\Documents\\projekte\\WiagDataSetup.jl\\src\\WiagDataSetup.jl:1539\n",
      "┌ Warning: could not parse \n",
      "│   s = (1196)/1200\n",
      "└ @ WiagDataSetup C:\\Users\\Georg\\Documents\\projekte\\WiagDataSetup.jl\\src\\WiagDataSetup.jl:1539\n",
      "┌ Warning: could not parse \n",
      "│   s = (1197) 1200\n",
      "└ @ WiagDataSetup C:\\Users\\Georg\\Documents\\projekte\\WiagDataSetup.jl\\src\\WiagDataSetup.jl:1539\n",
      "┌ Warning: could not parse \n",
      "│   s = (1211) 1213\n",
      "└ @ WiagDataSetup C:\\Users\\Georg\\Documents\\projekte\\WiagDataSetup.jl\\src\\WiagDataSetup.jl:1539\n",
      "┌ Warning: could not parse \n",
      "│   s = (1223) 1229\n",
      "└ @ WiagDataSetup C:\\Users\\Georg\\Documents\\projekte\\WiagDataSetup.jl\\src\\WiagDataSetup.jl:1539\n",
      "┌ Warning: year out of range in \n",
      "│   s = 11279\n",
      "└ @ WiagDataSetup C:\\Users\\Georg\\Documents\\projekte\\WiagDataSetup.jl\\src\\WiagDataSetup.jl:1531\n",
      "┌ Warning: could not parse \n",
      "│   s = _1429\n",
      "└ @ WiagDataSetup C:\\Users\\Georg\\Documents\\projekte\\WiagDataSetup.jl\\src\\WiagDataSetup.jl:1539\n",
      "┌ Warning: could not parse \n",
      "│   s = (1319) 1341\n",
      "└ @ WiagDataSetup C:\\Users\\Georg\\Documents\\projekte\\WiagDataSetup.jl\\src\\WiagDataSetup.jl:1539\n",
      "┌ Warning: could not parse \n",
      "│   s = ·1209\n",
      "└ @ WiagDataSetup C:\\Users\\Georg\\Documents\\projekte\\WiagDataSetup.jl\\src\\WiagDataSetup.jl:1539\n",
      "┌ Warning: could not parse \n",
      "│   s = 2\n",
      "└ @ WiagDataSetup C:\\Users\\Georg\\Documents\\projekte\\WiagDataSetup.jl\\src\\WiagDataSetup.jl:1539\n",
      "┌ Warning: year out of range in \n",
      "│   s = 301626\n",
      "└ @ WiagDataSetup C:\\Users\\Georg\\Documents\\projekte\\WiagDataSetup.jl\\src\\WiagDataSetup.jl:1531\n",
      "┌ Warning: could not parse \n",
      "│   s = 6\n",
      "└ @ WiagDataSetup C:\\Users\\Georg\\Documents\\projekte\\WiagDataSetup.jl\\src\\WiagDataSetup.jl:1539\n",
      "┌ Warning: could not parse \n",
      "│   s = ohne Angabe\n",
      "└ @ WiagDataSetup C:\\Users\\Georg\\Documents\\projekte\\WiagDataSetup.jl\\src\\WiagDataSetup.jl:1539\n",
      "┌ Warning: could not parse \n",
      "│   s = ohne Angabe\n",
      "└ @ WiagDataSetup C:\\Users\\Georg\\Documents\\projekte\\WiagDataSetup.jl\\src\\WiagDataSetup.jl:1539\n",
      "┌ Warning: could not parse \n",
      "│   s = ohne Angabe\n",
      "└ @ WiagDataSetup C:\\Users\\Georg\\Documents\\projekte\\WiagDataSetup.jl\\src\\WiagDataSetup.jl:1539\n",
      "┌ Warning: could not parse \n",
      "│   s = ohne Angabe\n",
      "└ @ WiagDataSetup C:\\Users\\Georg\\Documents\\projekte\\WiagDataSetup.jl\\src\\WiagDataSetup.jl:1539\n",
      "┌ Warning: could not parse \n",
      "│   s = ohne Angabe\n",
      "└ @ WiagDataSetup C:\\Users\\Georg\\Documents\\projekte\\WiagDataSetup.jl\\src\\WiagDataSetup.jl:1539\n",
      "┌ Warning: could not parse \n",
      "│   s = ohne Angabe\n",
      "└ @ WiagDataSetup C:\\Users\\Georg\\Documents\\projekte\\WiagDataSetup.jl\\src\\WiagDataSetup.jl:1539\n",
      "┌ Warning: could not parse \n",
      "│   s = ohne Angabe\n",
      "└ @ WiagDataSetup C:\\Users\\Georg\\Documents\\projekte\\WiagDataSetup.jl\\src\\WiagDataSetup.jl:1539\n",
      "┌ Warning: year out of range in \n",
      "│   s = 91690\n",
      "└ @ WiagDataSetup C:\\Users\\Georg\\Documents\\projekte\\WiagDataSetup.jl\\src\\WiagDataSetup.jl:1531\n",
      "┌ Warning: could not parse \n",
      "│   s = 1\n",
      "└ @ WiagDataSetup C:\\Users\\Georg\\Documents\\projekte\\WiagDataSetup.jl\\src\\WiagDataSetup.jl:1539\n",
      "┌ Warning: could not parse \n",
      "│   s = ohne Angabe\n",
      "└ @ WiagDataSetup C:\\Users\\Georg\\Documents\\projekte\\WiagDataSetup.jl\\src\\WiagDataSetup.jl:1539\n",
      "┌ Warning: could not parse \n",
      "│   s = ohne Angabe\n",
      "└ @ WiagDataSetup C:\\Users\\Georg\\Documents\\projekte\\WiagDataSetup.jl\\src\\WiagDataSetup.jl:1539\n",
      "┌ Warning: could not parse \n",
      "│   s = ohne Angabe\n",
      "└ @ WiagDataSetup C:\\Users\\Georg\\Documents\\projekte\\WiagDataSetup.jl\\src\\WiagDataSetup.jl:1539\n",
      "┌ Warning: could not parse \n",
      "│   s = [1309]\n",
      "└ @ WiagDataSetup C:\\Users\\Georg\\Documents\\projekte\\WiagDataSetup.jl\\src\\WiagDataSetup.jl:1539\n",
      "┌ Warning: could not parse \n",
      "│   s = [1284]\n",
      "└ @ WiagDataSetup C:\\Users\\Georg\\Documents\\projekte\\WiagDataSetup.jl\\src\\WiagDataSetup.jl:1539\n",
      "┌ Warning: could not parse \n",
      "│   s = ohne Angabe\n",
      "└ @ WiagDataSetup C:\\Users\\Georg\\Documents\\projekte\\WiagDataSetup.jl\\src\\WiagDataSetup.jl:1539\n"
     ]
    },
    {
     "name": "stderr",
     "output_type": "stream",
     "text": [
      "┌ Warning: could not parse \n",
      "│   s = (1553) 1560\n",
      "└ @ WiagDataSetup C:\\Users\\Georg\\Documents\\projekte\\WiagDataSetup.jl\\src\\WiagDataSetup.jl:1539\n"
     ]
    }
   ],
   "source": [
    "transform!(df_prp_r, :Amtsbeginn => ByRow(Wds.parse_year_sort) => :date_sort_key);"
   ]
  },
  {
   "cell_type": "markdown",
   "metadata": {},
   "source": [
    "*2022-05-12* In `tbl_Domherren_Aemter` enthalten 200 Einträge ein `†`. Das wird vor dem Parsen entfernt."
   ]
  },
  {
   "cell_type": "code",
   "execution_count": 66,
   "metadata": {},
   "outputs": [
    {
     "name": "stderr",
     "output_type": "stream",
     "text": [
      "┌ Warning: could not parse \n",
      "│   s = und 1118\n",
      "└ @ WiagDataSetup C:\\Users\\Georg\\Documents\\projekte\\WiagDataSetup.jl\\src\\WiagDataSetup.jl:1539\n",
      "┌ Warning: could not parse \n",
      "│   s = res. 1399\n",
      "└ @ WiagDataSetup C:\\Users\\Georg\\Documents\\projekte\\WiagDataSetup.jl\\src\\WiagDataSetup.jl:1539\n",
      "┌ Warning: could not parse \n",
      "│   s = t1529\n",
      "└ @ WiagDataSetup C:\\Users\\Georg\\Documents\\projekte\\WiagDataSetup.jl\\src\\WiagDataSetup.jl:1539\n",
      "┌ Warning: could not parse \n",
      "│   s = t1547\n",
      "└ @ WiagDataSetup C:\\Users\\Georg\\Documents\\projekte\\WiagDataSetup.jl\\src\\WiagDataSetup.jl:1539\n",
      "┌ Warning: could not parse \n",
      "│   s = und 1118\n",
      "└ @ WiagDataSetup C:\\Users\\Georg\\Documents\\projekte\\WiagDataSetup.jl\\src\\WiagDataSetup.jl:1539\n",
      "┌ Warning: could not parse \n",
      "│   s = 1 1320 Aug. 22\n",
      "└ @ WiagDataSetup C:\\Users\\Georg\\Documents\\projekte\\WiagDataSetup.jl\\src\\WiagDataSetup.jl:1539\n",
      "┌ Warning: could not parse \n",
      "│   s = [1241]\n",
      "└ @ WiagDataSetup C:\\Users\\Georg\\Documents\\projekte\\WiagDataSetup.jl\\src\\WiagDataSetup.jl:1539\n",
      "┌ Warning: could not parse \n",
      "│   s = [1223]\n",
      "└ @ WiagDataSetup C:\\Users\\Georg\\Documents\\projekte\\WiagDataSetup.jl\\src\\WiagDataSetup.jl:1539\n",
      "┌ Warning: could not parse \n",
      "│   s = u. 1148\n",
      "└ @ WiagDataSetup C:\\Users\\Georg\\Documents\\projekte\\WiagDataSetup.jl\\src\\WiagDataSetup.jl:1539\n",
      "┌ Warning: could not parse \n",
      "│   s = u. 1188\n",
      "└ @ WiagDataSetup C:\\Users\\Georg\\Documents\\projekte\\WiagDataSetup.jl\\src\\WiagDataSetup.jl:1539\n",
      "┌ Warning: could not parse \n",
      "│   s = nach Mai 1624\n",
      "└ @ WiagDataSetup C:\\Users\\Georg\\Documents\\projekte\\WiagDataSetup.jl\\src\\WiagDataSetup.jl:1539\n",
      "┌ Warning: could not parse \n",
      "│   s = [1202]\n",
      "└ @ WiagDataSetup C:\\Users\\Georg\\Documents\\projekte\\WiagDataSetup.jl\\src\\WiagDataSetup.jl:1539\n",
      "┌ Warning: could not parse \n",
      "│   s = [1801]\n",
      "└ @ WiagDataSetup C:\\Users\\Georg\\Documents\\projekte\\WiagDataSetup.jl\\src\\WiagDataSetup.jl:1539\n",
      "┌ Warning: could not parse \n",
      "│   s = res. 1399\n",
      "└ @ WiagDataSetup C:\\Users\\Georg\\Documents\\projekte\\WiagDataSetup.jl\\src\\WiagDataSetup.jl:1539\n",
      "┌ Warning: could not parse \n",
      "│   s = u. 1188\n",
      "└ @ WiagDataSetup C:\\Users\\Georg\\Documents\\projekte\\WiagDataSetup.jl\\src\\WiagDataSetup.jl:1539\n",
      "┌ Warning: year out of range in \n",
      "│   s = 11289\n",
      "└ @ WiagDataSetup C:\\Users\\Georg\\Documents\\projekte\\WiagDataSetup.jl\\src\\WiagDataSetup.jl:1531\n",
      "┌ Warning: could not parse \n",
      "│   s = (1038)\n",
      "└ @ WiagDataSetup C:\\Users\\Georg\\Documents\\projekte\\WiagDataSetup.jl\\src\\WiagDataSetup.jl:1539\n",
      "┌ Warning: could not parse \n",
      "│   s = (1146)\n",
      "└ @ WiagDataSetup C:\\Users\\Georg\\Documents\\projekte\\WiagDataSetup.jl\\src\\WiagDataSetup.jl:1539\n",
      "┌ Warning: could not parse \n",
      "│   s = (1176)\n",
      "└ @ WiagDataSetup C:\\Users\\Georg\\Documents\\projekte\\WiagDataSetup.jl\\src\\WiagDataSetup.jl:1539\n",
      "┌ Warning: could not parse \n",
      "│   s = (1146)\n",
      "└ @ WiagDataSetup C:\\Users\\Georg\\Documents\\projekte\\WiagDataSetup.jl\\src\\WiagDataSetup.jl:1539\n",
      "┌ Warning: could not parse \n",
      "│   s = (1183)\n",
      "└ @ WiagDataSetup C:\\Users\\Georg\\Documents\\projekte\\WiagDataSetup.jl\\src\\WiagDataSetup.jl:1539\n",
      "┌ Warning: could not parse \n",
      "│   s = (1183)\n",
      "└ @ WiagDataSetup C:\\Users\\Georg\\Documents\\projekte\\WiagDataSetup.jl\\src\\WiagDataSetup.jl:1539\n",
      "┌ Warning: could not parse \n",
      "│   s = (1177)\n",
      "└ @ WiagDataSetup C:\\Users\\Georg\\Documents\\projekte\\WiagDataSetup.jl\\src\\WiagDataSetup.jl:1539\n",
      "┌ Warning: could not parse \n",
      "│   s = (1177)\n",
      "└ @ WiagDataSetup C:\\Users\\Georg\\Documents\\projekte\\WiagDataSetup.jl\\src\\WiagDataSetup.jl:1539\n",
      "┌ Warning: could not parse \n",
      "│   s = (1225)\n",
      "└ @ WiagDataSetup C:\\Users\\Georg\\Documents\\projekte\\WiagDataSetup.jl\\src\\WiagDataSetup.jl:1539\n",
      "┌ Warning: could not parse \n",
      "│   s = Provision\n",
      "└ @ WiagDataSetup C:\\Users\\Georg\\Documents\\projekte\\WiagDataSetup.jl\\src\\WiagDataSetup.jl:1539\n",
      "┌ Warning: could not parse \n",
      "│   s = resigniert 1499\n",
      "└ @ WiagDataSetup C:\\Users\\Georg\\Documents\\projekte\\WiagDataSetup.jl\\src\\WiagDataSetup.jl:1539\n",
      "┌ Warning: could not parse \n",
      "│   s = resigniert 1515\n",
      "└ @ WiagDataSetup C:\\Users\\Georg\\Documents\\projekte\\WiagDataSetup.jl\\src\\WiagDataSetup.jl:1539\n",
      "┌ Warning: could not parse \n",
      "│   s = resigniert 1459\n",
      "└ @ WiagDataSetup C:\\Users\\Georg\\Documents\\projekte\\WiagDataSetup.jl\\src\\WiagDataSetup.jl:1539\n",
      "┌ Warning: could not parse \n",
      "│   s = resigniert 1408\n",
      "└ @ WiagDataSetup C:\\Users\\Georg\\Documents\\projekte\\WiagDataSetup.jl\\src\\WiagDataSetup.jl:1539\n",
      "┌ Warning: could not parse \n",
      "│   s = wahrscheinlich resigniert 1399\n",
      "└ @ WiagDataSetup C:\\Users\\Georg\\Documents\\projekte\\WiagDataSetup.jl\\src\\WiagDataSetup.jl:1539\n",
      "┌ Warning: could not parse \n",
      "│   s = resigniert 1442\n",
      "└ @ WiagDataSetup C:\\Users\\Georg\\Documents\\projekte\\WiagDataSetup.jl\\src\\WiagDataSetup.jl:1539\n",
      "┌ Warning: could not parse \n",
      "│   s = t1568\n",
      "└ @ WiagDataSetup C:\\Users\\Georg\\Documents\\projekte\\WiagDataSetup.jl\\src\\WiagDataSetup.jl:1539\n"
     ]
    }
   ],
   "source": [
    "transform!(df_prp_r, :Amtsende => ByRow(Wds.parse_year_sort) => :date_sort_key_replace);"
   ]
  },
  {
   "cell_type": "code",
   "execution_count": 67,
   "metadata": {},
   "outputs": [
    {
     "data": {
      "text/plain": [
       "9000900"
      ]
     },
     "execution_count": 67,
     "metadata": {},
     "output_type": "execute_result"
    }
   ],
   "source": [
    "maximum(df_prp_r.date_sort_key)"
   ]
  },
  {
   "cell_type": "code",
   "execution_count": 68,
   "metadata": {},
   "outputs": [
    {
     "data": {
      "text/plain": [
       "replace_if_missing (generic function with 1 method)"
      ]
     },
     "execution_count": 68,
     "metadata": {},
     "output_type": "execute_result"
    }
   ],
   "source": [
    "replace_if_missing(a, b) = a == 9000900 ? b : a"
   ]
  },
  {
   "cell_type": "code",
   "execution_count": 69,
   "metadata": {},
   "outputs": [],
   "source": [
    "transform!(df_prp_r, [:date_sort_key, :date_sort_key_replace] => ByRow(replace_if_missing) => :date_sort_key);"
   ]
  },
  {
   "cell_type": "code",
   "execution_count": 70,
   "metadata": {},
   "outputs": [
    {
     "data": {
      "text/plain": [
       "(39454, 1358)"
      ]
     },
     "execution_count": 70,
     "metadata": {},
     "output_type": "execute_result"
    }
   ],
   "source": [
    "size(df_prp_r, 1), count(isequal(9000900), df_prp_r.date_sort_key)"
   ]
  },
  {
   "cell_type": "code",
   "execution_count": 71,
   "metadata": {},
   "outputs": [],
   "source": [
    "df_info = dropmissing(df_prp_r, :Amtsart);"
   ]
  },
  {
   "cell_type": "code",
   "execution_count": 72,
   "metadata": {},
   "outputs": [
    {
     "data": {
      "text/html": [
       "<div><div style = \"float: left;\"><span>6×7 DataFrame</span></div><div style = \"clear: both;\"></div></div><div class = \"data-frame\" style = \"overflow-x: scroll;\"><table class = \"data-frame\" style = \"margin-bottom: 6px;\"><thead><tr class = \"header\"><th class = \"rowNumber\" style = \"font-weight: bold; text-align: right;\">Row</th><th style = \"text-align: left;\">Amtsart</th><th style = \"text-align: left;\">ID_Amt_norm</th><th style = \"text-align: left;\">role_id</th><th style = \"text-align: left;\">Amtsbeginn</th><th style = \"text-align: left;\">num_date_begin</th><th style = \"text-align: left;\">num_date_end</th><th style = \"text-align: left;\">date_sort_key</th></tr><tr class = \"subheader headerLastRow\"><th class = \"rowNumber\" style = \"font-weight: bold; text-align: right;\"></th><th title = \"String\" style = \"text-align: left;\">String</th><th title = \"Union{Missing, Int64}\" style = \"text-align: left;\">Int64?</th><th title = \"Union{Missing, Int32}\" style = \"text-align: left;\">Int32?</th><th title = \"Union{Missing, String}\" style = \"text-align: left;\">String?</th><th title = \"Union{Missing, Int64}\" style = \"text-align: left;\">Int64?</th><th title = \"Union{Missing, Int64}\" style = \"text-align: left;\">Int64?</th><th title = \"Int64\" style = \"text-align: left;\">Int64</th></tr></thead><tbody><tr><td class = \"rowNumber\" style = \"font-weight: bold; text-align: right;\">1</td><td style = \"text-align: left;\">Archidiakon</td><td style = \"text-align: right;\">5</td><td style = \"text-align: right;\">489576</td><td style = \"text-align: left;\">1727</td><td style = \"text-align: right;\">1727</td><td style = \"text-align: right;\">1742</td><td style = \"text-align: right;\">1727150</td></tr><tr><td class = \"rowNumber\" style = \"font-weight: bold; text-align: right;\">2</td><td style = \"text-align: left;\">Archidiakon</td><td style = \"text-align: right;\">5</td><td style = \"text-align: right;\">489576</td><td style = \"text-align: left;\">vor 1707</td><td style = \"text-align: right;\">1657</td><td style = \"font-style: italic; text-align: right;\">missing</td><td style = \"text-align: right;\">1707100</td></tr><tr><td class = \"rowNumber\" style = \"font-weight: bold; text-align: right;\">3</td><td style = \"text-align: left;\">Archidiakon</td><td style = \"text-align: right;\">5</td><td style = \"text-align: right;\">489576</td><td style = \"text-align: left;\">vor 1755</td><td style = \"text-align: right;\">1705</td><td style = \"font-style: italic; text-align: right;\">missing</td><td style = \"text-align: right;\">1755100</td></tr><tr><td class = \"rowNumber\" style = \"font-weight: bold; text-align: right;\">4</td><td style = \"text-align: left;\">Archidiakon</td><td style = \"text-align: right;\">5</td><td style = \"text-align: right;\">489576</td><td style = \"text-align: left;\">1712</td><td style = \"text-align: right;\">1712</td><td style = \"text-align: right;\">1753</td><td style = \"text-align: right;\">1712150</td></tr><tr><td class = \"rowNumber\" style = \"font-weight: bold; text-align: right;\">5</td><td style = \"text-align: left;\">Archidiakon</td><td style = \"text-align: right;\">5</td><td style = \"text-align: right;\">489576</td><td style = \"text-align: left;\">1784</td><td style = \"text-align: right;\">1784</td><td style = \"text-align: right;\">1791</td><td style = \"text-align: right;\">1784150</td></tr><tr><td class = \"rowNumber\" style = \"font-weight: bold; text-align: right;\">6</td><td style = \"text-align: left;\">Archidiakon</td><td style = \"text-align: right;\">5</td><td style = \"text-align: right;\">489576</td><td style = \"text-align: left;\">1791</td><td style = \"text-align: right;\">1791</td><td style = \"text-align: right;\">1792</td><td style = \"text-align: right;\">1791150</td></tr></tbody></table></div>"
      ],
      "text/latex": [
       "\\begin{tabular}{r|ccccccc}\n",
       "\t& Amtsart & ID\\_Amt\\_norm & role\\_id & Amtsbeginn & num\\_date\\_begin & num\\_date\\_end & date\\_sort\\_key\\\\\n",
       "\t\\hline\n",
       "\t& String & Int64? & Int32? & String? & Int64? & Int64? & Int64\\\\\n",
       "\t\\hline\n",
       "\t1 & Archidiakon & 5 & 489576 & 1727 & 1727 & 1742 & 1727150 \\\\\n",
       "\t2 & Archidiakon & 5 & 489576 & vor 1707 & 1657 & \\emph{missing} & 1707100 \\\\\n",
       "\t3 & Archidiakon & 5 & 489576 & vor 1755 & 1705 & \\emph{missing} & 1755100 \\\\\n",
       "\t4 & Archidiakon & 5 & 489576 & 1712 & 1712 & 1753 & 1712150 \\\\\n",
       "\t5 & Archidiakon & 5 & 489576 & 1784 & 1784 & 1791 & 1784150 \\\\\n",
       "\t6 & Archidiakon & 5 & 489576 & 1791 & 1791 & 1792 & 1791150 \\\\\n",
       "\\end{tabular}\n"
      ],
      "text/plain": [
       "\u001b[1m6×7 DataFrame\u001b[0m\n",
       "\u001b[1m Row \u001b[0m│\u001b[1m Amtsart     \u001b[0m\u001b[1m ID_Amt_norm \u001b[0m\u001b[1m role_id \u001b[0m\u001b[1m Amtsbeginn \u001b[0m\u001b[1m num_date_begin \u001b[0m\u001b[1m num_date\u001b[0m ⋯\n",
       "     │\u001b[90m String      \u001b[0m\u001b[90m Int64?      \u001b[0m\u001b[90m Int32?  \u001b[0m\u001b[90m String?    \u001b[0m\u001b[90m Int64?         \u001b[0m\u001b[90m Int64?  \u001b[0m ⋯\n",
       "─────┼──────────────────────────────────────────────────────────────────────────\n",
       "   1 │ Archidiakon            5   489576  1727                  1727           ⋯\n",
       "   2 │ Archidiakon            5   489576  vor 1707              1657 \u001b[90m      mis\u001b[0m\n",
       "   3 │ Archidiakon            5   489576  vor 1755              1705 \u001b[90m      mis\u001b[0m\n",
       "   4 │ Archidiakon            5   489576  1712                  1712\n",
       "   5 │ Archidiakon            5   489576  1784                  1784           ⋯\n",
       "   6 │ Archidiakon            5   489576  1791                  1791\n",
       "\u001b[36m                                                               2 columns omitted\u001b[0m"
      ]
     },
     "execution_count": 72,
     "metadata": {},
     "output_type": "execute_result"
    }
   ],
   "source": [
    "df_info[100:105, [:Amtsart, :ID_Amt_norm, :role_id, :Amtsbeginn, :num_date_begin, :num_date_end, :date_sort_key]]"
   ]
  },
  {
   "cell_type": "markdown",
   "metadata": {},
   "source": [
    "Einträge für diesen Item_Typ löschen"
   ]
  },
  {
   "cell_type": "code",
   "execution_count": 73,
   "metadata": {},
   "outputs": [
    {
     "data": {
      "text/plain": [
       "MySQL.TextCursor{true}(MySQL.Connection(host=\"127.0.0.1\", user=\"georg\", port=\"3306\", db=\"wiag_in\"), \"DELETE FROM person_role WHERE person_id IN \\n(SELECT id FROM item WHERE item_type_id = 5)\", 0, -1, 39454, MySQL.API.MYSQL_RES(Ptr{Nothing} @0x0000000000000000), Symbol[], Type[], Dict{Symbol, Int64}(), 0, 1, false)"
      ]
     },
     "execution_count": 73,
     "metadata": {},
     "output_type": "execute_result"
    }
   ],
   "source": [
    "table_name = \"person_role\"\n",
    "sql = \"DELETE FROM $(table_name) WHERE person_id IN \n",
    "(SELECT id FROM item WHERE item_type_id = $(item_type_id))\"\n",
    "DBInterface.execute(Wds.dbwiag, sql)"
   ]
  },
  {
   "cell_type": "markdown",
   "metadata": {},
   "source": [
    "Daten schreiben\n",
    "\n",
    "Schreibe für alle Bistümer - auch für die identifizierten - den Namen des Bistums in die Tabelle.  \n",
    "Schreibe für alle Institutionen - auch für die identifizieren - die Bezeichnung in die Tabelle.  \n",
    "Schreibe für alle Ämter - auch für die identifizieren - die Bezeichnung in die Tabelle.\n",
    "\n",
    "Erzeuge die IDs selbst, um sie für `person_role_property` zur Verfügung zu haben."
   ]
  },
  {
   "cell_type": "code",
   "execution_count": 74,
   "metadata": {},
   "outputs": [
    {
     "data": {
      "text/html": [
       "<div><div style = \"float: left;\"><span>1×1 DataFrame</span></div><div style = \"clear: both;\"></div></div><div class = \"data-frame\" style = \"overflow-x: scroll;\"><table class = \"data-frame\" style = \"margin-bottom: 6px;\"><thead><tr class = \"header\"><th class = \"rowNumber\" style = \"font-weight: bold; text-align: right;\">Row</th><th style = \"text-align: left;\">next_id</th></tr><tr class = \"subheader headerLastRow\"><th class = \"rowNumber\" style = \"font-weight: bold; text-align: right;\"></th><th title = \"Union{Missing, Int64}\" style = \"text-align: left;\">Int64?</th></tr></thead><tbody><tr><td class = \"rowNumber\" style = \"font-weight: bold; text-align: right;\">1</td><td style = \"text-align: right;\">1003158</td></tr></tbody></table></div>"
      ],
      "text/latex": [
       "\\begin{tabular}{r|c}\n",
       "\t& next\\_id\\\\\n",
       "\t\\hline\n",
       "\t& Int64?\\\\\n",
       "\t\\hline\n",
       "\t1 & 1003158 \\\\\n",
       "\\end{tabular}\n"
      ],
      "text/plain": [
       "\u001b[1m1×1 DataFrame\u001b[0m\n",
       "\u001b[1m Row \u001b[0m│\u001b[1m next_id \u001b[0m\n",
       "     │\u001b[90m Int64?  \u001b[0m\n",
       "─────┼─────────\n",
       "   1 │ 1003158"
      ]
     },
     "execution_count": 74,
     "metadata": {},
     "output_type": "execute_result"
    }
   ],
   "source": [
    "table_name = \"person_role\"\n",
    "sql = \"SELECT MAX(id) + 1 AS next_id FROM $(table_name)\"\n",
    "df_next_id = Wds.sql_df(sql)"
   ]
  },
  {
   "cell_type": "code",
   "execution_count": 75,
   "metadata": {},
   "outputs": [
    {
     "data": {
      "text/plain": [
       "1003159"
      ]
     },
     "execution_count": 75,
     "metadata": {},
     "output_type": "execute_result"
    }
   ],
   "source": [
    "next_id = df_next_id[1, :next_id] + 1"
   ]
  },
  {
   "cell_type": "code",
   "execution_count": 76,
   "metadata": {},
   "outputs": [],
   "source": [
    "df_prp_r[!, :id] .= collect(next_id:(next_id + size(df_prp_r, 1) - 1));"
   ]
  },
  {
   "cell_type": "code",
   "execution_count": 77,
   "metadata": {},
   "outputs": [
    {
     "data": {
      "text/html": [
       "<div><div style = \"float: left;\"><span>7×5 DataFrame</span></div><div style = \"clear: both;\"></div></div><div class = \"data-frame\" style = \"overflow-x: scroll;\"><table class = \"data-frame\" style = \"margin-bottom: 6px;\"><thead><tr class = \"header\"><th class = \"rowNumber\" style = \"font-weight: bold; text-align: right;\">Row</th><th style = \"text-align: left;\">id</th><th style = \"text-align: left;\">person_id</th><th style = \"text-align: left;\">ID_Domherr</th><th style = \"text-align: left;\">Amtsart</th><th style = \"text-align: left;\">ID_Amt</th></tr><tr class = \"subheader headerLastRow\"><th class = \"rowNumber\" style = \"font-weight: bold; text-align: right;\"></th><th title = \"Int64\" style = \"text-align: left;\">Int64</th><th title = \"Union{Missing, Int32}\" style = \"text-align: left;\">Int32?</th><th title = \"Int64\" style = \"text-align: left;\">Int64</th><th title = \"Union{Missing, String}\" style = \"text-align: left;\">String?</th><th title = \"Int64\" style = \"text-align: left;\">Int64</th></tr></thead><tbody><tr><td class = \"rowNumber\" style = \"font-weight: bold; text-align: right;\">1</td><td style = \"text-align: right;\">1004159</td><td style = \"text-align: right;\">659270</td><td style = \"text-align: right;\">45715</td><td style = \"font-style: italic; text-align: left;\">missing</td><td style = \"text-align: right;\">82794</td></tr><tr><td class = \"rowNumber\" style = \"font-weight: bold; text-align: right;\">2</td><td style = \"text-align: right;\">1004160</td><td style = \"text-align: right;\">659270</td><td style = \"text-align: right;\">45715</td><td style = \"font-style: italic; text-align: left;\">missing</td><td style = \"text-align: right;\">82795</td></tr><tr><td class = \"rowNumber\" style = \"font-weight: bold; text-align: right;\">3</td><td style = \"text-align: right;\">1004161</td><td style = \"text-align: right;\">659269</td><td style = \"text-align: right;\">45716</td><td style = \"font-style: italic; text-align: left;\">missing</td><td style = \"text-align: right;\">82796</td></tr><tr><td class = \"rowNumber\" style = \"font-weight: bold; text-align: right;\">4</td><td style = \"text-align: right;\">1004162</td><td style = \"text-align: right;\">659268</td><td style = \"text-align: right;\">45717</td><td style = \"font-style: italic; text-align: left;\">missing</td><td style = \"text-align: right;\">82797</td></tr><tr><td class = \"rowNumber\" style = \"font-weight: bold; text-align: right;\">5</td><td style = \"text-align: right;\">1004163</td><td style = \"text-align: right;\">659268</td><td style = \"text-align: right;\">45717</td><td style = \"font-style: italic; text-align: left;\">missing</td><td style = \"text-align: right;\">82798</td></tr><tr><td class = \"rowNumber\" style = \"font-weight: bold; text-align: right;\">6</td><td style = \"text-align: right;\">1004164</td><td style = \"text-align: right;\">659267</td><td style = \"text-align: right;\">45718</td><td style = \"font-style: italic; text-align: left;\">missing</td><td style = \"text-align: right;\">82799</td></tr><tr><td class = \"rowNumber\" style = \"font-weight: bold; text-align: right;\">7</td><td style = \"text-align: right;\">1004165</td><td style = \"text-align: right;\">659267</td><td style = \"text-align: right;\">45718</td><td style = \"font-style: italic; text-align: left;\">missing</td><td style = \"text-align: right;\">82800</td></tr></tbody></table></div>"
      ],
      "text/latex": [
       "\\begin{tabular}{r|ccccc}\n",
       "\t& id & person\\_id & ID\\_Domherr & Amtsart & ID\\_Amt\\\\\n",
       "\t\\hline\n",
       "\t& Int64 & Int32? & Int64 & String? & Int64\\\\\n",
       "\t\\hline\n",
       "\t1 & 1004159 & 659270 & 45715 & \\emph{missing} & 82794 \\\\\n",
       "\t2 & 1004160 & 659270 & 45715 & \\emph{missing} & 82795 \\\\\n",
       "\t3 & 1004161 & 659269 & 45716 & \\emph{missing} & 82796 \\\\\n",
       "\t4 & 1004162 & 659268 & 45717 & \\emph{missing} & 82797 \\\\\n",
       "\t5 & 1004163 & 659268 & 45717 & \\emph{missing} & 82798 \\\\\n",
       "\t6 & 1004164 & 659267 & 45718 & \\emph{missing} & 82799 \\\\\n",
       "\t7 & 1004165 & 659267 & 45718 & \\emph{missing} & 82800 \\\\\n",
       "\\end{tabular}\n"
      ],
      "text/plain": [
       "\u001b[1m7×5 DataFrame\u001b[0m\n",
       "\u001b[1m Row \u001b[0m│\u001b[1m id      \u001b[0m\u001b[1m person_id \u001b[0m\u001b[1m ID_Domherr \u001b[0m\u001b[1m Amtsart \u001b[0m\u001b[1m ID_Amt \u001b[0m\n",
       "     │\u001b[90m Int64   \u001b[0m\u001b[90m Int32?    \u001b[0m\u001b[90m Int64      \u001b[0m\u001b[90m String? \u001b[0m\u001b[90m Int64  \u001b[0m\n",
       "─────┼─────────────────────────────────────────────────\n",
       "   1 │ 1004159     659270       45715 \u001b[90m missing \u001b[0m  82794\n",
       "   2 │ 1004160     659270       45715 \u001b[90m missing \u001b[0m  82795\n",
       "   3 │ 1004161     659269       45716 \u001b[90m missing \u001b[0m  82796\n",
       "   4 │ 1004162     659268       45717 \u001b[90m missing \u001b[0m  82797\n",
       "   5 │ 1004163     659268       45717 \u001b[90m missing \u001b[0m  82798\n",
       "   6 │ 1004164     659267       45718 \u001b[90m missing \u001b[0m  82799\n",
       "   7 │ 1004165     659267       45718 \u001b[90m missing \u001b[0m  82800"
      ]
     },
     "execution_count": 77,
     "metadata": {},
     "output_type": "execute_result"
    }
   ],
   "source": [
    "df_prp_r[1001:1007, [:id, :person_id, :ID_Domherr, :Amtsart, :ID_Amt]]"
   ]
  },
  {
   "cell_type": "code",
   "execution_count": 78,
   "metadata": {},
   "outputs": [],
   "source": [
    "columns = [\n",
    "    :id => :id,\n",
    "    :Bistum => :diocese_name,\n",
    "    :Amtsbeginn => :date_begin,\n",
    "    :Amtsende => :date_end,\n",
    "    :Amt_Kommentar => :note,\n",
    "    :Sort => :display_order,\n",
    "    :Amtsart => :role_name,\n",
    "    :person_id => :person_id,\n",
    "    :diocese_id => :diocese_id,\n",
    "    :role_id => :role_id,\n",
    "    :institution_id => :institution_id,\n",
    "    :Institution => :institution_name,\n",
    "    :num_date_begin => :num_date_begin,\n",
    "    :num_date_end => :num_date_end,\n",
    "    :date_sort_key => :date_sort_key,\n",
    "];"
   ]
  },
  {
   "cell_type": "code",
   "execution_count": 79,
   "metadata": {},
   "outputs": [
    {
     "name": "stderr",
     "output_type": "stream",
     "text": [
      "┌ Info: 10000\n",
      "└ @ WiagDataSetup C:\\Users\\Georg\\Documents\\projekte\\WiagDataSetup.jl\\src\\WiagDataSetup.jl:1193\n",
      "┌ Info: 20000\n",
      "└ @ WiagDataSetup C:\\Users\\Georg\\Documents\\projekte\\WiagDataSetup.jl\\src\\WiagDataSetup.jl:1193\n",
      "┌ Info: 30000\n",
      "└ @ WiagDataSetup C:\\Users\\Georg\\Documents\\projekte\\WiagDataSetup.jl\\src\\WiagDataSetup.jl:1193\n",
      "┌ Info: Rows inserted: 39454\n",
      "└ @ WiagDataSetup C:\\Users\\Georg\\Documents\\projekte\\WiagDataSetup.jl\\src\\WiagDataSetup.jl:1216\n"
     ]
    },
    {
     "data": {
      "text/plain": [
       "39454"
      ]
     },
     "execution_count": 79,
     "metadata": {},
     "output_type": "execute_result"
    }
   ],
   "source": [
    "table_name = \"person_role\"\n",
    "Wds.filltable!(table_name, select(df_prp_r, columns))"
   ]
  },
  {
   "cell_type": "markdown",
   "metadata": {},
   "source": [
    "Titularbistum ist noch nicht eingetragen"
   ]
  },
  {
   "cell_type": "markdown",
   "metadata": {},
   "source": [
    "## Zeitspanne der Person"
   ]
  },
  {
   "cell_type": "code",
   "execution_count": 80,
   "metadata": {},
   "outputs": [],
   "source": [
    "table_name = \"person\"\n",
    "sql = \"SELECT id, num_date_birth, num_date_death\n",
    "FROM $(table_name) WHERE id in (SELECT id FROM item WHERE item_type_id = $(item_type_id))\"\n",
    "df_date = Wds.sql_df(sql);"
   ]
  },
  {
   "cell_type": "code",
   "execution_count": 81,
   "metadata": {},
   "outputs": [
    {
     "data": {
      "text/plain": [
       "(26249, 3)"
      ]
     },
     "execution_count": 81,
     "metadata": {},
     "output_type": "execute_result"
    }
   ],
   "source": [
    "size(df_date)"
   ]
  },
  {
   "cell_type": "markdown",
   "metadata": {},
   "source": [
    "Zeitspanne der Ämter"
   ]
  },
  {
   "cell_type": "code",
   "execution_count": 82,
   "metadata": {},
   "outputs": [
    {
     "data": {
      "text/html": [
       "<p><b>GroupedDataFrame with 25332 groups based on key: person_id</b></p><div><div style = \"float: left;\"><span>First Group (3 rows): person_id = 636609</span></div><div style = \"clear: both;\"></div></div><div class = \"data-frame\" style = \"overflow-x: scroll;\"><table class = \"data-frame\" style = \"margin-bottom: 6px;\"><thead><tr class = \"header\"><th class = \"rowNumber\" style = \"font-weight: bold; text-align: right;\">Row</th><th style = \"text-align: left;\">person_id</th><th style = \"text-align: left;\">num_date_begin</th></tr><tr class = \"subheader headerLastRow\"><th class = \"rowNumber\" style = \"font-weight: bold; text-align: right;\"></th><th title = \"Union{Missing, Int32}\" style = \"text-align: left;\">Int32?</th><th title = \"Int64\" style = \"text-align: left;\">Int64</th></tr></thead><tbody><tr><td class = \"rowNumber\" style = \"font-weight: bold; text-align: right;\">1</td><td style = \"text-align: right;\">636609</td><td style = \"text-align: right;\">1680</td></tr><tr><td class = \"rowNumber\" style = \"font-weight: bold; text-align: right;\">2</td><td style = \"text-align: right;\">636609</td><td style = \"text-align: right;\">1678</td></tr><tr><td class = \"rowNumber\" style = \"font-weight: bold; text-align: right;\">3</td><td style = \"text-align: right;\">636609</td><td style = \"text-align: right;\">1677</td></tr></tbody></table></div><p>&vellip;</p><div><div style = \"float: left;\"><span>Last Group (13 rows): person_id = 662857</span></div><div style = \"clear: both;\"></div></div><div class = \"data-frame\" style = \"overflow-x: scroll;\"><table class = \"data-frame\" style = \"margin-bottom: 6px;\"><thead><tr class = \"header\"><th class = \"rowNumber\" style = \"font-weight: bold; text-align: right;\">Row</th><th style = \"text-align: left;\">person_id</th><th style = \"text-align: left;\">num_date_begin</th></tr><tr class = \"subheader headerLastRow\"><th class = \"rowNumber\" style = \"font-weight: bold; text-align: right;\"></th><th title = \"Union{Missing, Int32}\" style = \"text-align: left;\">Int32?</th><th title = \"Int64\" style = \"text-align: left;\">Int64</th></tr></thead><tbody><tr><td class = \"rowNumber\" style = \"font-weight: bold; text-align: right;\">1</td><td style = \"text-align: right;\">662857</td><td style = \"text-align: right;\">1456</td></tr><tr><td class = \"rowNumber\" style = \"font-weight: bold; text-align: right;\">2</td><td style = \"text-align: right;\">662857</td><td style = \"text-align: right;\">1473</td></tr><tr><td class = \"rowNumber\" style = \"font-weight: bold; text-align: right;\">3</td><td style = \"text-align: right;\">662857</td><td style = \"text-align: right;\">1459</td></tr><tr><td class = \"rowNumber\" style = \"font-weight: bold; text-align: right;\">4</td><td style = \"text-align: right;\">662857</td><td style = \"text-align: right;\">1459</td></tr><tr><td class = \"rowNumber\" style = \"font-weight: bold; text-align: right;\">5</td><td style = \"text-align: right;\">662857</td><td style = \"text-align: right;\">1477</td></tr><tr><td class = \"rowNumber\" style = \"font-weight: bold; text-align: right;\">6</td><td style = \"text-align: right;\">662857</td><td style = \"text-align: right;\">1455</td></tr><tr><td class = \"rowNumber\" style = \"font-weight: bold; text-align: right;\">7</td><td style = \"text-align: right;\">662857</td><td style = \"text-align: right;\">1456</td></tr><tr><td class = \"rowNumber\" style = \"font-weight: bold; text-align: right;\">8</td><td style = \"text-align: right;\">662857</td><td style = \"text-align: right;\">1456</td></tr><tr><td class = \"rowNumber\" style = \"font-weight: bold; text-align: right;\">9</td><td style = \"text-align: right;\">662857</td><td style = \"text-align: right;\">1468</td></tr><tr><td class = \"rowNumber\" style = \"font-weight: bold; text-align: right;\">10</td><td style = \"text-align: right;\">662857</td><td style = \"text-align: right;\">1470</td></tr><tr><td class = \"rowNumber\" style = \"font-weight: bold; text-align: right;\">11</td><td style = \"text-align: right;\">662857</td><td style = \"text-align: right;\">1471</td></tr><tr><td class = \"rowNumber\" style = \"font-weight: bold; text-align: right;\">12</td><td style = \"text-align: right;\">662857</td><td style = \"text-align: right;\">1460</td></tr><tr><td class = \"rowNumber\" style = \"font-weight: bold; text-align: right;\">13</td><td style = \"text-align: right;\">662857</td><td style = \"text-align: right;\">1477</td></tr></tbody></table></div>"
      ],
      "text/latex": [
       "GroupedDataFrame with 25332 groups based on key: person\\_id\n",
       "\n",
       "First Group (3 rows): person\\_id = 636609\n",
       "\n",
       "\\begin{tabular}{r|cc}\n",
       "\t& person\\_id & num\\_date\\_begin\\\\\n",
       "\t\\hline\n",
       "\t& Int32? & Int64\\\\\n",
       "\t\\hline\n",
       "\t1 & 636609 & 1680 \\\\\n",
       "\t2 & 636609 & 1678 \\\\\n",
       "\t3 & 636609 & 1677 \\\\\n",
       "\\end{tabular}\n",
       "\n",
       "$\\dots$\n",
       "\n",
       "Last Group (13 rows): person\\_id = 662857\n",
       "\n",
       "\\begin{tabular}{r|cc}\n",
       "\t& person\\_id & num\\_date\\_begin\\\\\n",
       "\t\\hline\n",
       "\t& Int32? & Int64\\\\\n",
       "\t\\hline\n",
       "\t1 & 662857 & 1456 \\\\\n",
       "\t2 & 662857 & 1473 \\\\\n",
       "\t3 & 662857 & 1459 \\\\\n",
       "\t4 & 662857 & 1459 \\\\\n",
       "\t5 & 662857 & 1477 \\\\\n",
       "\t6 & 662857 & 1455 \\\\\n",
       "\t7 & 662857 & 1456 \\\\\n",
       "\t8 & 662857 & 1456 \\\\\n",
       "\t9 & 662857 & 1468 \\\\\n",
       "\t10 & 662857 & 1470 \\\\\n",
       "\t11 & 662857 & 1471 \\\\\n",
       "\t12 & 662857 & 1460 \\\\\n",
       "\t13 & 662857 & 1477 \\\\\n",
       "\\end{tabular}\n"
      ],
      "text/plain": [
       "GroupedDataFrame with 25332 groups based on key: person_id\n",
       "First Group (3 rows): person_id = 636609\n",
       "\u001b[1m Row \u001b[0m│\u001b[1m person_id \u001b[0m\u001b[1m num_date_begin \u001b[0m\n",
       "     │\u001b[90m Int32?    \u001b[0m\u001b[90m Int64          \u001b[0m\n",
       "─────┼───────────────────────────\n",
       "   1 │    636609            1680\n",
       "   2 │    636609            1678\n",
       "   3 │    636609            1677\n",
       "⋮\n",
       "Last Group (13 rows): person_id = 662857\n",
       "\u001b[1m Row \u001b[0m│\u001b[1m person_id \u001b[0m\u001b[1m num_date_begin \u001b[0m\n",
       "     │\u001b[90m Int32?    \u001b[0m\u001b[90m Int64          \u001b[0m\n",
       "─────┼───────────────────────────\n",
       "   1 │    662857            1456\n",
       "   2 │    662857            1473\n",
       "   3 │    662857            1459\n",
       "   4 │    662857            1459\n",
       "   5 │    662857            1477\n",
       "   6 │    662857            1455\n",
       "   7 │    662857            1456\n",
       "   8 │    662857            1456\n",
       "   9 │    662857            1468\n",
       "  10 │    662857            1470\n",
       "  11 │    662857            1471\n",
       "  12 │    662857            1460\n",
       "  13 │    662857            1477"
      ]
     },
     "execution_count": 82,
     "metadata": {},
     "output_type": "execute_result"
    }
   ],
   "source": [
    "df_pr_begin_0 = dropmissing(df_prp_r, :num_date_begin)\n",
    "df_pr_begin = groupby(select(df_pr_begin_0, :person_id, :num_date_begin), :person_id)"
   ]
  },
  {
   "cell_type": "code",
   "execution_count": 83,
   "metadata": {},
   "outputs": [],
   "source": [
    "df_pr_date_min = combine(df_pr_begin, :num_date_begin => minimum => :date_min);"
   ]
  },
  {
   "cell_type": "code",
   "execution_count": 84,
   "metadata": {},
   "outputs": [
    {
     "data": {
      "text/plain": [
       "(25332, 2)"
      ]
     },
     "execution_count": 84,
     "metadata": {},
     "output_type": "execute_result"
    }
   ],
   "source": [
    "size(df_pr_date_min)"
   ]
  },
  {
   "cell_type": "code",
   "execution_count": 85,
   "metadata": {},
   "outputs": [
    {
     "data": {
      "text/html": [
       "<div><div style = \"float: left;\"><span>7×2 DataFrame</span></div><div style = \"clear: both;\"></div></div><div class = \"data-frame\" style = \"overflow-x: scroll;\"><table class = \"data-frame\" style = \"margin-bottom: 6px;\"><thead><tr class = \"header\"><th class = \"rowNumber\" style = \"font-weight: bold; text-align: right;\">Row</th><th style = \"text-align: left;\">person_id</th><th style = \"text-align: left;\">date_min</th></tr><tr class = \"subheader headerLastRow\"><th class = \"rowNumber\" style = \"font-weight: bold; text-align: right;\"></th><th title = \"Union{Missing, Int32}\" style = \"text-align: left;\">Int32?</th><th title = \"Int64\" style = \"text-align: left;\">Int64</th></tr></thead><tbody><tr><td class = \"rowNumber\" style = \"font-weight: bold; text-align: right;\">1</td><td style = \"text-align: right;\">639646</td><td style = \"text-align: right;\">1440</td></tr><tr><td class = \"rowNumber\" style = \"font-weight: bold; text-align: right;\">2</td><td style = \"text-align: right;\">639647</td><td style = \"text-align: right;\">1434</td></tr><tr><td class = \"rowNumber\" style = \"font-weight: bold; text-align: right;\">3</td><td style = \"text-align: right;\">639648</td><td style = \"text-align: right;\">1441</td></tr><tr><td class = \"rowNumber\" style = \"font-weight: bold; text-align: right;\">4</td><td style = \"text-align: right;\">639649</td><td style = \"text-align: right;\">1375</td></tr><tr><td class = \"rowNumber\" style = \"font-weight: bold; text-align: right;\">5</td><td style = \"text-align: right;\">639650</td><td style = \"text-align: right;\">1437</td></tr><tr><td class = \"rowNumber\" style = \"font-weight: bold; text-align: right;\">6</td><td style = \"text-align: right;\">639651</td><td style = \"text-align: right;\">1435</td></tr><tr><td class = \"rowNumber\" style = \"font-weight: bold; text-align: right;\">7</td><td style = \"text-align: right;\">639652</td><td style = \"text-align: right;\">1439</td></tr></tbody></table></div>"
      ],
      "text/latex": [
       "\\begin{tabular}{r|cc}\n",
       "\t& person\\_id & date\\_min\\\\\n",
       "\t\\hline\n",
       "\t& Int32? & Int64\\\\\n",
       "\t\\hline\n",
       "\t1 & 639646 & 1440 \\\\\n",
       "\t2 & 639647 & 1434 \\\\\n",
       "\t3 & 639648 & 1441 \\\\\n",
       "\t4 & 639649 & 1375 \\\\\n",
       "\t5 & 639650 & 1437 \\\\\n",
       "\t6 & 639651 & 1435 \\\\\n",
       "\t7 & 639652 & 1439 \\\\\n",
       "\\end{tabular}\n"
      ],
      "text/plain": [
       "\u001b[1m7×2 DataFrame\u001b[0m\n",
       "\u001b[1m Row \u001b[0m│\u001b[1m person_id \u001b[0m\u001b[1m date_min \u001b[0m\n",
       "     │\u001b[90m Int32?    \u001b[0m\u001b[90m Int64    \u001b[0m\n",
       "─────┼─────────────────────\n",
       "   1 │    639646      1440\n",
       "   2 │    639647      1434\n",
       "   3 │    639648      1441\n",
       "   4 │    639649      1375\n",
       "   5 │    639650      1437\n",
       "   6 │    639651      1435\n",
       "   7 │    639652      1439"
      ]
     },
     "execution_count": 85,
     "metadata": {},
     "output_type": "execute_result"
    }
   ],
   "source": [
    "df_pr_date_min[3015:3021, :]"
   ]
  },
  {
   "cell_type": "markdown",
   "metadata": {},
   "source": [
    "`date_max`"
   ]
  },
  {
   "cell_type": "code",
   "execution_count": 86,
   "metadata": {},
   "outputs": [
    {
     "data": {
      "text/html": [
       "<p><b>GroupedDataFrame with 17810 groups based on key: person_id</b></p><div><div style = \"float: left;\"><span>First Group (3 rows): person_id = 636609</span></div><div style = \"clear: both;\"></div></div><div class = \"data-frame\" style = \"overflow-x: scroll;\"><table class = \"data-frame\" style = \"margin-bottom: 6px;\"><thead><tr class = \"header\"><th class = \"rowNumber\" style = \"font-weight: bold; text-align: right;\">Row</th><th style = \"text-align: left;\">person_id</th><th style = \"text-align: left;\">num_date_end</th></tr><tr class = \"subheader headerLastRow\"><th class = \"rowNumber\" style = \"font-weight: bold; text-align: right;\"></th><th title = \"Union{Missing, Int32}\" style = \"text-align: left;\">Int32?</th><th title = \"Int64\" style = \"text-align: left;\">Int64</th></tr></thead><tbody><tr><td class = \"rowNumber\" style = \"font-weight: bold; text-align: right;\">1</td><td style = \"text-align: right;\">636609</td><td style = \"text-align: right;\">1690</td></tr><tr><td class = \"rowNumber\" style = \"font-weight: bold; text-align: right;\">2</td><td style = \"text-align: right;\">636609</td><td style = \"text-align: right;\">1690</td></tr><tr><td class = \"rowNumber\" style = \"font-weight: bold; text-align: right;\">3</td><td style = \"text-align: right;\">636609</td><td style = \"text-align: right;\">1690</td></tr></tbody></table></div><p>&vellip;</p><div><div style = \"float: left;\"><span>Last Group (13 rows): person_id = 662857</span></div><div style = \"clear: both;\"></div></div><div class = \"data-frame\" style = \"overflow-x: scroll;\"><table class = \"data-frame\" style = \"margin-bottom: 6px;\"><thead><tr class = \"header\"><th class = \"rowNumber\" style = \"font-weight: bold; text-align: right;\">Row</th><th style = \"text-align: left;\">person_id</th><th style = \"text-align: left;\">num_date_end</th></tr><tr class = \"subheader headerLastRow\"><th class = \"rowNumber\" style = \"font-weight: bold; text-align: right;\"></th><th title = \"Union{Missing, Int32}\" style = \"text-align: left;\">Int32?</th><th title = \"Int64\" style = \"text-align: left;\">Int64</th></tr></thead><tbody><tr><td class = \"rowNumber\" style = \"font-weight: bold; text-align: right;\">1</td><td style = \"text-align: right;\">662857</td><td style = \"text-align: right;\">1478</td></tr><tr><td class = \"rowNumber\" style = \"font-weight: bold; text-align: right;\">2</td><td style = \"text-align: right;\">662857</td><td style = \"text-align: right;\">1478</td></tr><tr><td class = \"rowNumber\" style = \"font-weight: bold; text-align: right;\">3</td><td style = \"text-align: right;\">662857</td><td style = \"text-align: right;\">1478</td></tr><tr><td class = \"rowNumber\" style = \"font-weight: bold; text-align: right;\">4</td><td style = \"text-align: right;\">662857</td><td style = \"text-align: right;\">1478</td></tr><tr><td class = \"rowNumber\" style = \"font-weight: bold; text-align: right;\">5</td><td style = \"text-align: right;\">662857</td><td style = \"text-align: right;\">1478</td></tr><tr><td class = \"rowNumber\" style = \"font-weight: bold; text-align: right;\">6</td><td style = \"text-align: right;\">662857</td><td style = \"text-align: right;\">1478</td></tr><tr><td class = \"rowNumber\" style = \"font-weight: bold; text-align: right;\">7</td><td style = \"text-align: right;\">662857</td><td style = \"text-align: right;\">1458</td></tr><tr><td class = \"rowNumber\" style = \"font-weight: bold; text-align: right;\">8</td><td style = \"text-align: right;\">662857</td><td style = \"text-align: right;\">1458</td></tr><tr><td class = \"rowNumber\" style = \"font-weight: bold; text-align: right;\">9</td><td style = \"text-align: right;\">662857</td><td style = \"text-align: right;\">1478</td></tr><tr><td class = \"rowNumber\" style = \"font-weight: bold; text-align: right;\">10</td><td style = \"text-align: right;\">662857</td><td style = \"text-align: right;\">1471</td></tr><tr><td class = \"rowNumber\" style = \"font-weight: bold; text-align: right;\">11</td><td style = \"text-align: right;\">662857</td><td style = \"text-align: right;\">1478</td></tr><tr><td class = \"rowNumber\" style = \"font-weight: bold; text-align: right;\">12</td><td style = \"text-align: right;\">662857</td><td style = \"text-align: right;\">1478</td></tr><tr><td class = \"rowNumber\" style = \"font-weight: bold; text-align: right;\">13</td><td style = \"text-align: right;\">662857</td><td style = \"text-align: right;\">1478</td></tr></tbody></table></div>"
      ],
      "text/latex": [
       "GroupedDataFrame with 17810 groups based on key: person\\_id\n",
       "\n",
       "First Group (3 rows): person\\_id = 636609\n",
       "\n",
       "\\begin{tabular}{r|cc}\n",
       "\t& person\\_id & num\\_date\\_end\\\\\n",
       "\t\\hline\n",
       "\t& Int32? & Int64\\\\\n",
       "\t\\hline\n",
       "\t1 & 636609 & 1690 \\\\\n",
       "\t2 & 636609 & 1690 \\\\\n",
       "\t3 & 636609 & 1690 \\\\\n",
       "\\end{tabular}\n",
       "\n",
       "$\\dots$\n",
       "\n",
       "Last Group (13 rows): person\\_id = 662857\n",
       "\n",
       "\\begin{tabular}{r|cc}\n",
       "\t& person\\_id & num\\_date\\_end\\\\\n",
       "\t\\hline\n",
       "\t& Int32? & Int64\\\\\n",
       "\t\\hline\n",
       "\t1 & 662857 & 1478 \\\\\n",
       "\t2 & 662857 & 1478 \\\\\n",
       "\t3 & 662857 & 1478 \\\\\n",
       "\t4 & 662857 & 1478 \\\\\n",
       "\t5 & 662857 & 1478 \\\\\n",
       "\t6 & 662857 & 1478 \\\\\n",
       "\t7 & 662857 & 1458 \\\\\n",
       "\t8 & 662857 & 1458 \\\\\n",
       "\t9 & 662857 & 1478 \\\\\n",
       "\t10 & 662857 & 1471 \\\\\n",
       "\t11 & 662857 & 1478 \\\\\n",
       "\t12 & 662857 & 1478 \\\\\n",
       "\t13 & 662857 & 1478 \\\\\n",
       "\\end{tabular}\n"
      ],
      "text/plain": [
       "GroupedDataFrame with 17810 groups based on key: person_id\n",
       "First Group (3 rows): person_id = 636609\n",
       "\u001b[1m Row \u001b[0m│\u001b[1m person_id \u001b[0m\u001b[1m num_date_end \u001b[0m\n",
       "     │\u001b[90m Int32?    \u001b[0m\u001b[90m Int64        \u001b[0m\n",
       "─────┼─────────────────────────\n",
       "   1 │    636609          1690\n",
       "   2 │    636609          1690\n",
       "   3 │    636609          1690\n",
       "⋮\n",
       "Last Group (13 rows): person_id = 662857\n",
       "\u001b[1m Row \u001b[0m│\u001b[1m person_id \u001b[0m\u001b[1m num_date_end \u001b[0m\n",
       "     │\u001b[90m Int32?    \u001b[0m\u001b[90m Int64        \u001b[0m\n",
       "─────┼─────────────────────────\n",
       "   1 │    662857          1478\n",
       "   2 │    662857          1478\n",
       "   3 │    662857          1478\n",
       "   4 │    662857          1478\n",
       "   5 │    662857          1478\n",
       "   6 │    662857          1478\n",
       "   7 │    662857          1458\n",
       "   8 │    662857          1458\n",
       "   9 │    662857          1478\n",
       "  10 │    662857          1471\n",
       "  11 │    662857          1478\n",
       "  12 │    662857          1478\n",
       "  13 │    662857          1478"
      ]
     },
     "execution_count": 86,
     "metadata": {},
     "output_type": "execute_result"
    }
   ],
   "source": [
    "df_pr_end_value = dropmissing(df_prp_r, :num_date_end)\n",
    "df_pr_end = groupby(select(df_pr_end_value, :person_id, :num_date_end), :person_id)"
   ]
  },
  {
   "cell_type": "code",
   "execution_count": 87,
   "metadata": {},
   "outputs": [],
   "source": [
    "df_pr_date_max = combine(df_pr_end, :num_date_end => maximum => :date_max);"
   ]
  },
  {
   "cell_type": "code",
   "execution_count": 88,
   "metadata": {},
   "outputs": [
    {
     "data": {
      "text/plain": [
       "(17810, 2)"
      ]
     },
     "execution_count": 88,
     "metadata": {},
     "output_type": "execute_result"
    }
   ],
   "source": [
    "size(df_pr_date_max)"
   ]
  },
  {
   "cell_type": "code",
   "execution_count": 89,
   "metadata": {},
   "outputs": [
    {
     "data": {
      "text/html": [
       "<div><div style = \"float: left;\"><span>7×2 DataFrame</span></div><div style = \"clear: both;\"></div></div><div class = \"data-frame\" style = \"overflow-x: scroll;\"><table class = \"data-frame\" style = \"margin-bottom: 6px;\"><thead><tr class = \"header\"><th class = \"rowNumber\" style = \"font-weight: bold; text-align: right;\">Row</th><th style = \"text-align: left;\">person_id</th><th style = \"text-align: left;\">date_max</th></tr><tr class = \"subheader headerLastRow\"><th class = \"rowNumber\" style = \"font-weight: bold; text-align: right;\"></th><th title = \"Union{Missing, Int32}\" style = \"text-align: left;\">Int32?</th><th title = \"Int64\" style = \"text-align: left;\">Int64</th></tr></thead><tbody><tr><td class = \"rowNumber\" style = \"font-weight: bold; text-align: right;\">1</td><td style = \"text-align: right;\">640541</td><td style = \"text-align: right;\">1382</td></tr><tr><td class = \"rowNumber\" style = \"font-weight: bold; text-align: right;\">2</td><td style = \"text-align: right;\">640542</td><td style = \"text-align: right;\">1376</td></tr><tr><td class = \"rowNumber\" style = \"font-weight: bold; text-align: right;\">3</td><td style = \"text-align: right;\">640543</td><td style = \"text-align: right;\">1360</td></tr><tr><td class = \"rowNumber\" style = \"font-weight: bold; text-align: right;\">4</td><td style = \"text-align: right;\">640545</td><td style = \"text-align: right;\">1327</td></tr><tr><td class = \"rowNumber\" style = \"font-weight: bold; text-align: right;\">5</td><td style = \"text-align: right;\">640546</td><td style = \"text-align: right;\">1316</td></tr><tr><td class = \"rowNumber\" style = \"font-weight: bold; text-align: right;\">6</td><td style = \"text-align: right;\">640547</td><td style = \"text-align: right;\">1320</td></tr><tr><td class = \"rowNumber\" style = \"font-weight: bold; text-align: right;\">7</td><td style = \"text-align: right;\">640548</td><td style = \"text-align: right;\">1314</td></tr></tbody></table></div>"
      ],
      "text/latex": [
       "\\begin{tabular}{r|cc}\n",
       "\t& person\\_id & date\\_max\\\\\n",
       "\t\\hline\n",
       "\t& Int32? & Int64\\\\\n",
       "\t\\hline\n",
       "\t1 & 640541 & 1382 \\\\\n",
       "\t2 & 640542 & 1376 \\\\\n",
       "\t3 & 640543 & 1360 \\\\\n",
       "\t4 & 640545 & 1327 \\\\\n",
       "\t5 & 640546 & 1316 \\\\\n",
       "\t6 & 640547 & 1320 \\\\\n",
       "\t7 & 640548 & 1314 \\\\\n",
       "\\end{tabular}\n"
      ],
      "text/plain": [
       "\u001b[1m7×2 DataFrame\u001b[0m\n",
       "\u001b[1m Row \u001b[0m│\u001b[1m person_id \u001b[0m\u001b[1m date_max \u001b[0m\n",
       "     │\u001b[90m Int32?    \u001b[0m\u001b[90m Int64    \u001b[0m\n",
       "─────┼─────────────────────\n",
       "   1 │    640541      1382\n",
       "   2 │    640542      1376\n",
       "   3 │    640543      1360\n",
       "   4 │    640545      1327\n",
       "   5 │    640546      1316\n",
       "   6 │    640547      1320\n",
       "   7 │    640548      1314"
      ]
     },
     "execution_count": 89,
     "metadata": {},
     "output_type": "execute_result"
    }
   ],
   "source": [
    "df_pr_date_max[3015:3021, :]"
   ]
  },
  {
   "cell_type": "code",
   "execution_count": 90,
   "metadata": {},
   "outputs": [],
   "source": [
    "df_pr_date_min_mng = subset(df_pr_date_min, :person_id => ByRow(ismissing));"
   ]
  },
  {
   "cell_type": "code",
   "execution_count": 91,
   "metadata": {},
   "outputs": [
    {
     "data": {
      "text/plain": [
       "(0, 2)"
      ]
     },
     "execution_count": 91,
     "metadata": {},
     "output_type": "execute_result"
    }
   ],
   "source": [
    "size(df_pr_date_min_mng)"
   ]
  },
  {
   "cell_type": "code",
   "execution_count": 92,
   "metadata": {},
   "outputs": [],
   "source": [
    "subset!(df_pr_date_min, :person_id => ByRow(!ismissing));"
   ]
  },
  {
   "cell_type": "code",
   "execution_count": 93,
   "metadata": {},
   "outputs": [],
   "source": [
    "df_date = leftjoin(df_date, df_pr_date_min, on = :id => :person_id);"
   ]
  },
  {
   "cell_type": "code",
   "execution_count": 94,
   "metadata": {},
   "outputs": [],
   "source": [
    "subset!(df_pr_date_max, :person_id => ByRow(!ismissing));"
   ]
  },
  {
   "cell_type": "code",
   "execution_count": 95,
   "metadata": {},
   "outputs": [],
   "source": [
    "df_date = leftjoin(df_date, df_pr_date_max, on = :id => :person_id);"
   ]
  },
  {
   "cell_type": "markdown",
   "metadata": {},
   "source": [
    "Geburts- und Sterbedatum  \n",
    "Geburts- und Sterbedaten - so vorhanden - können die Zeitspanne nur verkürzen!"
   ]
  },
  {
   "cell_type": "code",
   "execution_count": 96,
   "metadata": {},
   "outputs": [],
   "source": [
    "min_may_be(x, y) = ismissing(x) ? y : (ismissing(y) ? x : min(x, y));\n",
    "max_may_be(x, y) = ismissing(x) ? y : (ismissing(y) ? x : max(x, y));"
   ]
  },
  {
   "cell_type": "code",
   "execution_count": 97,
   "metadata": {},
   "outputs": [],
   "source": [
    "transform!(df_date, [:date_min, :num_date_birth] => ByRow(max_may_be) => :date_min); # sic!"
   ]
  },
  {
   "cell_type": "code",
   "execution_count": 98,
   "metadata": {},
   "outputs": [],
   "source": [
    "transform!(df_date, [:date_max, :num_date_death] => ByRow(min_may_be) => :date_max); # sic!"
   ]
  },
  {
   "cell_type": "markdown",
   "metadata": {},
   "source": [
    "Übernimm' den jeweils gültigen Wert für fehlende Daten"
   ]
  },
  {
   "cell_type": "code",
   "execution_count": 99,
   "metadata": {},
   "outputs": [],
   "source": [
    "get_first_not_missing(x, y) = !ismissing(x) ? x : y;"
   ]
  },
  {
   "cell_type": "code",
   "execution_count": 100,
   "metadata": {},
   "outputs": [],
   "source": [
    "transform!(df_date, [:date_min, :date_max] => ByRow(get_first_not_missing) => :date_min);"
   ]
  },
  {
   "cell_type": "code",
   "execution_count": 101,
   "metadata": {},
   "outputs": [],
   "source": [
    "transform!(df_date, [:date_max, :date_min] => ByRow(get_first_not_missing) => :date_max);"
   ]
  },
  {
   "cell_type": "markdown",
   "metadata": {},
   "source": [
    "Damit sind Einträge mit fehlenden Daten entbehrlich"
   ]
  },
  {
   "cell_type": "code",
   "execution_count": 102,
   "metadata": {},
   "outputs": [],
   "source": [
    "dropmissing!(df_date, :date_min);"
   ]
  },
  {
   "cell_type": "markdown",
   "metadata": {},
   "source": [
    "Trage die geänderten Daten ein"
   ]
  },
  {
   "cell_type": "code",
   "execution_count": 103,
   "metadata": {},
   "outputs": [
    {
     "data": {
      "text/plain": [
       "3-element Vector{Pair{Symbol, Symbol}}:\n",
       "       :id => :id\n",
       " :date_min => :date_min\n",
       " :date_max => :date_max"
      ]
     },
     "execution_count": 103,
     "metadata": {},
     "output_type": "execute_result"
    }
   ],
   "source": [
    "columns = [\n",
    "    :id => :id,\n",
    "    :date_min => :date_min,\n",
    "    :date_max => :date_max\n",
    "]"
   ]
  },
  {
   "cell_type": "code",
   "execution_count": 104,
   "metadata": {},
   "outputs": [],
   "source": [
    "stmt = DBInterface.prepare(Wds.dbwiag, \"UPDATE person SET date_min = ?, date_max = ? WHERE id = ?\");"
   ]
  },
  {
   "cell_type": "code",
   "execution_count": 105,
   "metadata": {},
   "outputs": [
    {
     "data": {
      "text/plain": [
       "25407"
      ]
     },
     "execution_count": 105,
     "metadata": {},
     "output_type": "execute_result"
    }
   ],
   "source": [
    "n_loop = 1\n",
    "for row in eachrow(df_date)\n",
    "    date_min, date_max, id = row[[:date_min, :date_max, :id]]\n",
    "    DBInterface.execute(stmt, (date_min, date_max, id))\n",
    "    n_loop += 1\n",
    "end\n",
    "n_loop"
   ]
  },
  {
   "cell_type": "code",
   "execution_count": 106,
   "metadata": {},
   "outputs": [],
   "source": [
    "DBInterface.close!(stmt)"
   ]
  },
  {
   "cell_type": "markdown",
   "metadata": {},
   "source": [
    "*2022-01-17* Es gibt etliche Einträge für Personen mit Ämtern nach 2000?! \n",
    "```sql\n",
    "select p.id, id_in_source, item_type_id, givenname, familyname, date_min, date_max, edit_status, is_online\n",
    "from person as p join item on item.id = p.id and p.date_max > 2000;\n",
    "```"
   ]
  },
  {
   "cell_type": "markdown",
   "metadata": {},
   "source": [
    "## Archidiakonat"
   ]
  },
  {
   "cell_type": "code",
   "execution_count": 101,
   "metadata": {},
   "outputs": [
    {
     "name": "stdout",
     "output_type": "stream",
     "text": [
      "Bistum\n",
      "Amtsart\n",
      "Amtsbeginn\n",
      "Amtsende\n",
      "ID_Amt\n",
      "Institution\n",
      "Amt_weltlich\n",
      "Herrschaftsgebiet\n",
      "Ort\n",
      "Amt_Kommentar\n",
      "Sort\n",
      "Titularbistum\n",
      "Profession\n",
      "ID_Kloster\n",
      "ID_Fremdschlüssel\n",
      "Dignität\n",
      "ID_Domherr\n",
      "Archidiakonat\n",
      "Hilfsfeld_import\n",
      "ID_Amt_norm\n",
      "id_in_source\n",
      "person_id\n",
      "match_role_id\n",
      "role_name\n",
      "role_id\n",
      "diocese_id\n",
      "institution_id\n",
      "name\n",
      "institution_name\n",
      "num_date_begin\n",
      "num_date_end\n",
      "date_sort_key\n",
      "date_sort_key_replace\n",
      "id\n"
     ]
    }
   ],
   "source": [
    "println.(names(df_prp_r));"
   ]
  },
  {
   "cell_type": "code",
   "execution_count": 107,
   "metadata": {},
   "outputs": [
    {
     "data": {
      "text/plain": [
       "3-element Vector{Pair{Symbol, Symbol}}:\n",
       "            :id => :person_role_id\n",
       "     :person_id => :person_id\n",
       " :Archidiakonat => :value"
      ]
     },
     "execution_count": 107,
     "metadata": {},
     "output_type": "execute_result"
    }
   ],
   "source": [
    "columns = [\n",
    "    :id => :person_role_id,\n",
    "    :person_id => :person_id,\n",
    "    :Archidiakonat => :value\n",
    "]"
   ]
  },
  {
   "cell_type": "code",
   "execution_count": 108,
   "metadata": {},
   "outputs": [],
   "source": [
    "df_pr_property = select(df_prp_r, columns);"
   ]
  },
  {
   "cell_type": "code",
   "execution_count": 109,
   "metadata": {},
   "outputs": [],
   "source": [
    "dropmissing!(df_pr_property, :value);"
   ]
  },
  {
   "cell_type": "code",
   "execution_count": 110,
   "metadata": {},
   "outputs": [
    {
     "data": {
      "text/plain": [
       "(672, 3)"
      ]
     },
     "execution_count": 110,
     "metadata": {},
     "output_type": "execute_result"
    }
   ],
   "source": [
    "size(df_pr_property)"
   ]
  },
  {
   "cell_type": "code",
   "execution_count": 111,
   "metadata": {},
   "outputs": [],
   "source": [
    "df_pr_property[!, :name] .= \"Archidiakonat\";"
   ]
  },
  {
   "cell_type": "code",
   "execution_count": 112,
   "metadata": {},
   "outputs": [
    {
     "data": {
      "text/html": [
       "<div><div style = \"float: left;\"><span>8×4 DataFrame</span></div><div style = \"clear: both;\"></div></div><div class = \"data-frame\" style = \"overflow-x: scroll;\"><table class = \"data-frame\" style = \"margin-bottom: 6px;\"><thead><tr class = \"header\"><th class = \"rowNumber\" style = \"font-weight: bold; text-align: right;\">Row</th><th style = \"text-align: left;\">person_role_id</th><th style = \"text-align: left;\">person_id</th><th style = \"text-align: left;\">value</th><th style = \"text-align: left;\">name</th></tr><tr class = \"subheader headerLastRow\"><th class = \"rowNumber\" style = \"font-weight: bold; text-align: right;\"></th><th title = \"Int64\" style = \"text-align: left;\">Int64</th><th title = \"Union{Missing, Int32}\" style = \"text-align: left;\">Int32?</th><th title = \"String\" style = \"text-align: left;\">String</th><th title = \"String\" style = \"text-align: left;\">String</th></tr></thead><tbody><tr><td class = \"rowNumber\" style = \"font-weight: bold; text-align: right;\">1</td><td style = \"text-align: right;\">1036736</td><td style = \"text-align: right;\">660472</td><td style = \"text-align: left;\">Lemgo</td><td style = \"text-align: left;\">Archidiakonat</td></tr><tr><td class = \"rowNumber\" style = \"font-weight: bold; text-align: right;\">2</td><td style = \"text-align: right;\">1036741</td><td style = \"text-align: right;\">660470</td><td style = \"text-align: left;\">Höxter</td><td style = \"text-align: left;\">Archidiakonat</td></tr><tr><td class = \"rowNumber\" style = \"font-weight: bold; text-align: right;\">3</td><td style = \"text-align: right;\">1039916</td><td style = \"text-align: right;\">646690</td><td style = \"text-align: left;\">Ostgau</td><td style = \"text-align: left;\">Archidiakonat</td></tr><tr><td class = \"rowNumber\" style = \"font-weight: bold; text-align: right;\">4</td><td style = \"text-align: right;\">1039918</td><td style = \"text-align: right;\">646690</td><td style = \"text-align: left;\">Hildesheim</td><td style = \"text-align: left;\">Archidiakonat</td></tr><tr><td class = \"rowNumber\" style = \"font-weight: bold; text-align: right;\">5</td><td style = \"text-align: right;\">1040058</td><td style = \"text-align: right;\">662709</td><td style = \"text-align: left;\">Hildesheim</td><td style = \"text-align: left;\">Archidiakonat</td></tr><tr><td class = \"rowNumber\" style = \"font-weight: bold; text-align: right;\">6</td><td style = \"text-align: right;\">1040061</td><td style = \"text-align: right;\">662709</td><td style = \"text-align: left;\">Ostgau</td><td style = \"text-align: left;\">Archidiakonat</td></tr><tr><td class = \"rowNumber\" style = \"font-weight: bold; text-align: right;\">7</td><td style = \"text-align: right;\">1040168</td><td style = \"text-align: right;\">659313</td><td style = \"text-align: left;\">Merzen</td><td style = \"text-align: left;\">Archidiakonat</td></tr><tr><td class = \"rowNumber\" style = \"font-weight: bold; text-align: right;\">8</td><td style = \"text-align: right;\">1040173</td><td style = \"text-align: right;\">652793</td><td style = \"text-align: left;\">Borsum</td><td style = \"text-align: left;\">Archidiakonat</td></tr></tbody></table></div>"
      ],
      "text/latex": [
       "\\begin{tabular}{r|cccc}\n",
       "\t& person\\_role\\_id & person\\_id & value & name\\\\\n",
       "\t\\hline\n",
       "\t& Int64 & Int32? & String & String\\\\\n",
       "\t\\hline\n",
       "\t1 & 1036736 & 660472 & Lemgo & Archidiakonat \\\\\n",
       "\t2 & 1036741 & 660470 & Höxter & Archidiakonat \\\\\n",
       "\t3 & 1039916 & 646690 & Ostgau & Archidiakonat \\\\\n",
       "\t4 & 1039918 & 646690 & Hildesheim & Archidiakonat \\\\\n",
       "\t5 & 1040058 & 662709 & Hildesheim & Archidiakonat \\\\\n",
       "\t6 & 1040061 & 662709 & Ostgau & Archidiakonat \\\\\n",
       "\t7 & 1040168 & 659313 & Merzen & Archidiakonat \\\\\n",
       "\t8 & 1040173 & 652793 & Borsum & Archidiakonat \\\\\n",
       "\\end{tabular}\n"
      ],
      "text/plain": [
       "\u001b[1m8×4 DataFrame\u001b[0m\n",
       "\u001b[1m Row \u001b[0m│\u001b[1m person_role_id \u001b[0m\u001b[1m person_id \u001b[0m\u001b[1m value      \u001b[0m\u001b[1m name          \u001b[0m\n",
       "     │\u001b[90m Int64          \u001b[0m\u001b[90m Int32?    \u001b[0m\u001b[90m String     \u001b[0m\u001b[90m String        \u001b[0m\n",
       "─────┼──────────────────────────────────────────────────────\n",
       "   1 │        1036736     660472  Lemgo       Archidiakonat\n",
       "   2 │        1036741     660470  Höxter      Archidiakonat\n",
       "   3 │        1039916     646690  Ostgau      Archidiakonat\n",
       "   4 │        1039918     646690  Hildesheim  Archidiakonat\n",
       "   5 │        1040058     662709  Hildesheim  Archidiakonat\n",
       "   6 │        1040061     662709  Ostgau      Archidiakonat\n",
       "   7 │        1040168     659313  Merzen      Archidiakonat\n",
       "   8 │        1040173     652793  Borsum      Archidiakonat"
      ]
     },
     "execution_count": 112,
     "metadata": {},
     "output_type": "execute_result"
    }
   ],
   "source": [
    "df_pr_property[407:414, :]"
   ]
  },
  {
   "cell_type": "code",
   "execution_count": 113,
   "metadata": {},
   "outputs": [],
   "source": [
    "table = \"role_property_type\"\n",
    "sql = \"SELECT * from $(table)\"\n",
    "df_rpt = Wds.sql_df(sql);"
   ]
  },
  {
   "cell_type": "code",
   "execution_count": 114,
   "metadata": {},
   "outputs": [
    {
     "data": {
      "text/html": [
       "<div><div style = \"float: left;\"><span>3×5 DataFrame</span></div><div style = \"clear: both;\"></div></div><div class = \"data-frame\" style = \"overflow-x: scroll;\"><table class = \"data-frame\" style = \"margin-bottom: 6px;\"><thead><tr class = \"header\"><th class = \"rowNumber\" style = \"font-weight: bold; text-align: right;\">Row</th><th style = \"text-align: left;\">id</th><th style = \"text-align: left;\">name</th><th style = \"text-align: left;\">label</th><th style = \"text-align: left;\">comment</th><th style = \"text-align: left;\">item_type_id</th></tr><tr class = \"subheader headerLastRow\"><th class = \"rowNumber\" style = \"font-weight: bold; text-align: right;\"></th><th title = \"Int32\" style = \"text-align: left;\">Int32</th><th title = \"String\" style = \"text-align: left;\">String</th><th title = \"String\" style = \"text-align: left;\">String</th><th title = \"Union{Missing, String}\" style = \"text-align: left;\">String?</th><th title = \"Int32\" style = \"text-align: left;\">Int32</th></tr></thead><tbody><tr><td class = \"rowNumber\" style = \"font-weight: bold; text-align: right;\">1</td><td style = \"text-align: right;\">2</td><td style = \"text-align: left;\">Archidiakonat</td><td style = \"text-align: left;\">Archidiakonat</td><td style = \"font-style: italic; text-align: left;\">missing</td><td style = \"text-align: right;\">5</td></tr><tr><td class = \"rowNumber\" style = \"font-weight: bold; text-align: right;\">2</td><td style = \"text-align: right;\">3</td><td style = \"text-align: left;\">bishpric_seat</td><td style = \"text-align: left;\">Bischofssitz</td><td style = \"font-style: italic; text-align: left;\">missing</td><td style = \"text-align: right;\">4</td></tr><tr><td class = \"rowNumber\" style = \"font-weight: bold; text-align: right;\">3</td><td style = \"text-align: right;\">4</td><td style = \"text-align: left;\">insignia</td><td style = \"text-align: left;\">Insignien</td><td style = \"text-align: left;\">Besonderheiten</td><td style = \"text-align: right;\">4</td></tr></tbody></table></div>"
      ],
      "text/latex": [
       "\\begin{tabular}{r|ccccc}\n",
       "\t& id & name & label & comment & item\\_type\\_id\\\\\n",
       "\t\\hline\n",
       "\t& Int32 & String & String & String? & Int32\\\\\n",
       "\t\\hline\n",
       "\t1 & 2 & Archidiakonat & Archidiakonat & \\emph{missing} & 5 \\\\\n",
       "\t2 & 3 & bishpric\\_seat & Bischofssitz & \\emph{missing} & 4 \\\\\n",
       "\t3 & 4 & insignia & Insignien & Besonderheiten & 4 \\\\\n",
       "\\end{tabular}\n"
      ],
      "text/plain": [
       "\u001b[1m3×5 DataFrame\u001b[0m\n",
       "\u001b[1m Row \u001b[0m│\u001b[1m id    \u001b[0m\u001b[1m name          \u001b[0m\u001b[1m label         \u001b[0m\u001b[1m comment        \u001b[0m\u001b[1m item_type_id \u001b[0m\n",
       "     │\u001b[90m Int32 \u001b[0m\u001b[90m String        \u001b[0m\u001b[90m String        \u001b[0m\u001b[90m String?        \u001b[0m\u001b[90m Int32        \u001b[0m\n",
       "─────┼───────────────────────────────────────────────────────────────────\n",
       "   1 │     2  Archidiakonat  Archidiakonat \u001b[90m missing        \u001b[0m            5\n",
       "   2 │     3  bishpric_seat  Bischofssitz  \u001b[90m missing        \u001b[0m            4\n",
       "   3 │     4  insignia       Insignien      Besonderheiten             4"
      ]
     },
     "execution_count": 114,
     "metadata": {},
     "output_type": "execute_result"
    }
   ],
   "source": [
    "df_rpt"
   ]
  },
  {
   "cell_type": "code",
   "execution_count": 115,
   "metadata": {},
   "outputs": [
    {
     "data": {
      "text/plain": [
       "2"
      ]
     },
     "execution_count": 115,
     "metadata": {},
     "output_type": "execute_result"
    }
   ],
   "source": [
    "rec_archidiakonat = filter(:name => isequal(\"Archidiakonat\"), df_rpt)\n",
    "archidiakonat_id = rec_archidiakonat[1, :id]"
   ]
  },
  {
   "cell_type": "code",
   "execution_count": 116,
   "metadata": {},
   "outputs": [],
   "source": [
    "insertcols!(\n",
    "    df_pr_property,\n",
    "    :property_type_id => archidiakonat_id,\n",
    ");"
   ]
  },
  {
   "cell_type": "code",
   "execution_count": 117,
   "metadata": {},
   "outputs": [
    {
     "data": {
      "text/plain": [
       "MySQL.TextCursor{true}(MySQL.Connection(host=\"127.0.0.1\", user=\"georg\", port=\"3306\", db=\"wiag_in\"), \"DELETE FROM person_role_property\\nWHERE person_id IN\\n(SELECT id FROM item WHERE item_type_id = 5)\", 0, -1, 672, MySQL.API.MYSQL_RES(Ptr{Nothing} @0x0000000000000000), Symbol[], Type[], Dict{Symbol, Int64}(), 0, 1, false)"
      ]
     },
     "execution_count": 117,
     "metadata": {},
     "output_type": "execute_result"
    }
   ],
   "source": [
    "table_name = \"person_role_property\";\n",
    "sql = \"DELETE FROM $(table_name)\n",
    "WHERE person_id IN\n",
    "(SELECT id FROM item WHERE item_type_id = $(item_type_id))\";\n",
    "DBInterface.execute(Wds.dbwiag, sql)"
   ]
  },
  {
   "cell_type": "code",
   "execution_count": 118,
   "metadata": {},
   "outputs": [
    {
     "name": "stderr",
     "output_type": "stream",
     "text": [
      "┌ Info: Rows inserted: 672\n",
      "└ @ WiagDataSetup C:\\Users\\Georg\\Documents\\projekte\\WiagDataSetup.jl\\src\\WiagDataSetup.jl:1216\n"
     ]
    },
    {
     "data": {
      "text/plain": [
       "672"
      ]
     },
     "execution_count": 118,
     "metadata": {},
     "output_type": "execute_result"
    }
   ],
   "source": [
    "table_name = \"person_role_property\"\n",
    "Wds.filltable!(table_name, df_pr_property)"
   ]
  },
  {
   "cell_type": "markdown",
   "metadata": {},
   "source": [
    "## Sortierung der Person nach Amt\n",
    "Die Tabelle `person_display_order` ist eine technische Hilfstabelle, um die Abfragen in Doctrine zu vereinfachen oder überhaupt erst zu ermöglichen. Jede Person erhält für jedes Bistum einen Sortierschlüssel und einen weiteren unabhängig vom Bistum.\n",
    "\n",
    "*2022-01-17* Verzichte zunächst auf diese Tabelle und löse das Problem in der Web-Anwendung. So bleibt das Datenmodell schlanker."
   ]
  },
  {
   "cell_type": "code",
   "execution_count": 45,
   "metadata": {},
   "outputs": [],
   "source": [
    "using MySQL, DataFrames"
   ]
  },
  {
   "cell_type": "markdown",
   "metadata": {},
   "source": [
    "Sortierung unabhängig von einer Diözese. Es werden auch Ämter berücksichtigt, die nicht mit einer Diözese verbunden sind."
   ]
  },
  {
   "cell_type": "code",
   "execution_count": 48,
   "metadata": {},
   "outputs": [],
   "source": [
    "sql = \"SELECT person_id, 'any' as diocese, min(display_order) as display_order \" *\n",
    "\"FROM person_role GROUP BY person_id\";\n",
    "df_do = db_exec(sql);"
   ]
  },
  {
   "cell_type": "code",
   "execution_count": 49,
   "metadata": {},
   "outputs": [
    {
     "data": {
      "text/plain": [
       "(5159, 3)"
      ]
     },
     "execution_count": 49,
     "metadata": {},
     "output_type": "execute_result"
    }
   ],
   "source": [
    "size(df_do)"
   ]
  },
  {
   "cell_type": "markdown",
   "metadata": {},
   "source": [
    "Zwölf Bischöfe haben kein Amt!?"
   ]
  },
  {
   "cell_type": "code",
   "execution_count": 50,
   "metadata": {},
   "outputs": [
    {
     "name": "stderr",
     "output_type": "stream",
     "text": [
      "┌ Info: Rows inserted: 5159\n",
      "└ @ WiagDataSetup C:\\Users\\Georg\\Documents\\projekte\\WiagDataSetup.jl\\src\\WiagDataSetup.jl:1169\n"
     ]
    },
    {
     "data": {
      "text/plain": [
       "5159"
      ]
     },
     "execution_count": 50,
     "metadata": {},
     "output_type": "execute_result"
    }
   ],
   "source": [
    "table_dst = \"person_display_order\"\n",
    "Wds.filltable!(table_dst, df_do)"
   ]
  },
  {
   "cell_type": "markdown",
   "metadata": {},
   "source": [
    "Sortierung nach Diözese"
   ]
  },
  {
   "cell_type": "code",
   "execution_count": 52,
   "metadata": {},
   "outputs": [],
   "source": [
    "sql = \"SELECT person_id, diocese_name as diocese, min(display_order) as display_order \" *\n",
    "\"FROM person_role \" *\n",
    "\"WHERE diocese_name IS NOT NULL \" *\n",
    "\"GROUP BY person_id, diocese_name\";\n",
    "df_do = db_exec(sql);"
   ]
  },
  {
   "cell_type": "code",
   "execution_count": 53,
   "metadata": {},
   "outputs": [
    {
     "data": {
      "text/plain": [
       "(6370, 3)"
      ]
     },
     "execution_count": 53,
     "metadata": {},
     "output_type": "execute_result"
    }
   ],
   "source": [
    "size(df_do)"
   ]
  },
  {
   "cell_type": "code",
   "execution_count": 54,
   "metadata": {},
   "outputs": [
    {
     "name": "stderr",
     "output_type": "stream",
     "text": [
      "┌ Info: Rows inserted: 6370\n",
      "└ @ WiagDataSetup C:\\Users\\Georg\\Documents\\projekte\\WiagDataSetup.jl\\src\\WiagDataSetup.jl:1169\n"
     ]
    },
    {
     "data": {
      "text/plain": [
       "6370"
      ]
     },
     "execution_count": 54,
     "metadata": {},
     "output_type": "execute_result"
    }
   ],
   "source": [
    "table_dst = \"person_display_order\"\n",
    "Wds.filltable!(table_dst, df_do)"
   ]
  },
  {
   "cell_type": "markdown",
   "metadata": {},
   "source": [
    "Bischöfe ohne Ämter"
   ]
  },
  {
   "cell_type": "code",
   "execution_count": 55,
   "metadata": {},
   "outputs": [],
   "source": [
    "sql = \"SELECT id AS person_id, 'any' as diocese, 950000 AS display_order \" *\n",
    "\"FROM person WHERE id NOT IN (SELECT DISTINCT person_id FROM person_role)\"\n",
    "df_do_r = db_exec(sql);"
   ]
  },
  {
   "cell_type": "code",
   "execution_count": 56,
   "metadata": {},
   "outputs": [
    {
     "data": {
      "text/plain": [
       "(12, 3)"
      ]
     },
     "execution_count": 56,
     "metadata": {},
     "output_type": "execute_result"
    }
   ],
   "source": [
    "size(df_do_r)"
   ]
  },
  {
   "cell_type": "code",
   "execution_count": 57,
   "metadata": {},
   "outputs": [
    {
     "name": "stderr",
     "output_type": "stream",
     "text": [
      "┌ Info: Rows inserted: 12\n",
      "└ @ WiagDataSetup C:\\Users\\Georg\\Documents\\projekte\\WiagDataSetup.jl\\src\\WiagDataSetup.jl:1169\n"
     ]
    },
    {
     "data": {
      "text/plain": [
       "12"
      ]
     },
     "execution_count": 57,
     "metadata": {},
     "output_type": "execute_result"
    }
   ],
   "source": [
    "table_dst = \"person_display_order\"\n",
    "Wds.filltable!(table_dst, df_do_r)"
   ]
  },
  {
   "cell_type": "code",
   "execution_count": null,
   "metadata": {},
   "outputs": [],
   "source": []
  },
  {
   "cell_type": "code",
   "execution_count": null,
   "metadata": {},
   "outputs": [],
   "source": []
  },
  {
   "cell_type": "code",
   "execution_count": null,
   "metadata": {},
   "outputs": [],
   "source": []
  }
 ],
 "metadata": {
  "kernelspec": {
   "display_name": "Julia 1.8.2",
   "language": "julia",
   "name": "julia-1.8"
  },
  "language_info": {
   "file_extension": ".jl",
   "mimetype": "application/julia",
   "name": "julia",
   "version": "1.8.2"
  }
 },
 "nbformat": 4,
 "nbformat_minor": 4
}
