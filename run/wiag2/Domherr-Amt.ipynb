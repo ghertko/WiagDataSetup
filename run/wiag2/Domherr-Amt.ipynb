{
 "cells": [
  {
   "cell_type": "markdown",
   "metadata": {},
   "source": [
    "# Wissensaggregator Mittelalter und frühe Neuzeit\n",
    "\n",
    "## Daten für Ämter von Domherren einlesen\n",
    "\n",
    "Übertrage Daten aus Access. Die Daten werden aus Access via ODBC in eine Transfer-Datenbank geschrieben: \n",
    "`domherr.tbl_domherren` und `domherr.tbl_domherren_aemter`\n",
    "\n",
    "[Amtsperiode](#Amtsperiode)  \n",
    "[Zeitspanne der Person](#Zeitspanne-der-Person)  \n",
    "[Archidiakonat](#Archidiakonat)  \n",
    "[Sortierung der Person nach Amt](#Sortierung-der-Person-nach-Amt) (hinfällig?)"
   ]
  },
  {
   "cell_type": "markdown",
   "metadata": {},
   "source": [
    "Vorspann: Pakete laden; mit der Datenbank verbinden"
   ]
  },
  {
   "cell_type": "code",
   "execution_count": 1,
   "metadata": {},
   "outputs": [
    {
     "data": {
      "text/plain": [
       "\"../..\""
      ]
     },
     "execution_count": 1,
     "metadata": {},
     "output_type": "execute_result"
    }
   ],
   "source": [
    "wds_path=\"../..\""
   ]
  },
  {
   "cell_type": "code",
   "execution_count": 2,
   "metadata": {},
   "outputs": [],
   "source": [
    "cd(wds_path)"
   ]
  },
  {
   "cell_type": "code",
   "execution_count": 3,
   "metadata": {},
   "outputs": [],
   "source": [
    "using Pkg"
   ]
  },
  {
   "cell_type": "code",
   "execution_count": 4,
   "metadata": {},
   "outputs": [
    {
     "name": "stderr",
     "output_type": "stream",
     "text": [
      "\u001b[32m\u001b[1m  Activating\u001b[22m\u001b[39m project at `C:\\Users\\georg\\Documents\\projekte\\WiagDataSetup.jl`\n"
     ]
    }
   ],
   "source": [
    "Pkg.activate(\".\")"
   ]
  },
  {
   "cell_type": "code",
   "execution_count": 5,
   "metadata": {},
   "outputs": [],
   "source": [
    "using Revise, MySQL"
   ]
  },
  {
   "cell_type": "code",
   "execution_count": 6,
   "metadata": {},
   "outputs": [],
   "source": [
    "using WiagDataSetup"
   ]
  },
  {
   "cell_type": "code",
   "execution_count": 7,
   "metadata": {},
   "outputs": [],
   "source": [
    "using MySQL, DataFrames, CSV"
   ]
  },
  {
   "cell_type": "code",
   "execution_count": 8,
   "metadata": {},
   "outputs": [
    {
     "data": {
      "text/plain": [
       "WiagDataSetup"
      ]
     },
     "execution_count": 8,
     "metadata": {},
     "output_type": "execute_result"
    }
   ],
   "source": [
    "Wds = WiagDataSetup"
   ]
  },
  {
   "cell_type": "code",
   "execution_count": 9,
   "metadata": {},
   "outputs": [
    {
     "name": "stdout",
     "output_type": "stream",
     "text": [
      "Passwort für User georg: ········\n"
     ]
    },
    {
     "data": {
      "text/plain": [
       "MySQL.Connection(host=\"127.0.0.1\", user=\"georg\", port=\"3306\", db=\"wiag2\")"
      ]
     },
     "execution_count": 9,
     "metadata": {},
     "output_type": "execute_result"
    }
   ],
   "source": [
    "Wds.setDBWIAG(user=\"georg\", db=\"wiag2\")"
   ]
  },
  {
   "cell_type": "code",
   "execution_count": 20,
   "metadata": {},
   "outputs": [
    {
     "data": {
      "text/plain": [
       "5"
      ]
     },
     "execution_count": 20,
     "metadata": {},
     "output_type": "execute_result"
    }
   ],
   "source": [
    "item_type_id = 5"
   ]
  },
  {
   "cell_type": "code",
   "execution_count": 10,
   "metadata": {},
   "outputs": [
    {
     "data": {
      "text/plain": [
       "\"C:\\\\Users\\\\georg\\\\Documents\\\\projekte-doc\\\\WIAGweb2\\\\data\\\\domherren-2022-10-19\""
      ]
     },
     "execution_count": 10,
     "metadata": {},
     "output_type": "execute_result"
    }
   ],
   "source": [
    "data_path = \"C:\\\\Users\\\\georg\\\\Documents\\\\projekte-doc\\\\WIAGweb2\\\\data\\\\domherren-2022-10-19\""
   ]
  },
  {
   "cell_type": "code",
   "execution_count": 11,
   "metadata": {},
   "outputs": [
    {
     "data": {
      "text/plain": [
       "\"C:\\\\Users\\\\georg\\\\Documents\\\\projekte-doc\\\\WIAGweb2\\\\data_sql\""
      ]
     },
     "execution_count": 11,
     "metadata": {},
     "output_type": "execute_result"
    }
   ],
   "source": [
    "out_path = \"C:\\\\Users\\\\georg\\\\Documents\\\\projekte-doc\\\\WIAGweb2\\\\data_sql\""
   ]
  },
  {
   "cell_type": "markdown",
   "metadata": {},
   "source": [
    "Die Ämter in Tabelle `role` werden im Notebook \"Strukturdaten\" eingelesen."
   ]
  },
  {
   "cell_type": "markdown",
   "metadata": {},
   "source": [
    "## Amtsperiode"
   ]
  },
  {
   "cell_type": "code",
   "execution_count": 13,
   "metadata": {},
   "outputs": [],
   "source": [
    "using CSV, DataFrames"
   ]
  },
  {
   "cell_type": "code",
   "execution_count": 12,
   "metadata": {
    "scrolled": false
   },
   "outputs": [],
   "source": [
    "# Quelle CSV\n",
    "filename = joinpath(data_path, \"tbl_Domherren_Aemter.csv\")\n",
    "df_pr = CSV.read(filename, DataFrame);"
   ]
  },
  {
   "cell_type": "code",
   "execution_count": 11,
   "metadata": {},
   "outputs": [],
   "source": [
    "# Quelle Datenbank\n",
    "sql = \"SELECT * FROM domherr.tbl_domherren_aemter\"\n",
    "df_pr = Wds.sql_df(sql);"
   ]
  },
  {
   "cell_type": "code",
   "execution_count": 13,
   "metadata": {},
   "outputs": [],
   "source": [
    "Wds.clean_up!(df_pr);"
   ]
  },
  {
   "cell_type": "markdown",
   "metadata": {},
   "source": [
    "Ignoriere Einträge wo sowohl Amtsart als auch ID_Amt_norm fehlen."
   ]
  },
  {
   "cell_type": "code",
   "execution_count": 14,
   "metadata": {},
   "outputs": [
    {
     "data": {
      "text/plain": [
       "(38919, 20)"
      ]
     },
     "execution_count": 14,
     "metadata": {},
     "output_type": "execute_result"
    }
   ],
   "source": [
    "size(df_pr)"
   ]
  },
  {
   "cell_type": "code",
   "execution_count": 15,
   "metadata": {},
   "outputs": [
    {
     "data": {
      "text/plain": [
       "one_valid (generic function with 1 method)"
      ]
     },
     "execution_count": 15,
     "metadata": {},
     "output_type": "execute_result"
    }
   ],
   "source": [
    "one_valid(a, b) = !ismissing(a) | !ismissing(b)"
   ]
  },
  {
   "cell_type": "code",
   "execution_count": 16,
   "metadata": {},
   "outputs": [],
   "source": [
    "subset!(df_pr, [:Amtsart, :ID_Amt_norm] => ByRow(one_valid));"
   ]
  },
  {
   "cell_type": "code",
   "execution_count": 17,
   "metadata": {},
   "outputs": [
    {
     "data": {
      "text/html": [
       "<div class=\"data-frame\"><p>5 rows × 5 columns</p><table class=\"data-frame\"><thead><tr><th></th><th>ID_Amt</th><th>Amtsart</th><th>ID_Amt_norm</th><th>Amtsbeginn</th><th>Amtsende</th></tr><tr><th></th><th title=\"Int64\">Int64</th><th title=\"Union{Missing, String}\">String?</th><th title=\"Union{Missing, Int64}\">Int64?</th><th title=\"Union{Missing, String}\">String?</th><th title=\"Union{Missing, String}\">String?</th></tr></thead><tbody><tr><th>1</th><td>85693</td><td><em>missing</em></td><td>22</td><td>1551</td><td><em>missing</em></td></tr><tr><th>2</th><td>85694</td><td><em>missing</em></td><td>19</td><td>1552</td><td>1581</td></tr><tr><th>3</th><td>85695</td><td><em>missing</em></td><td>22</td><td>1596</td><td><em>missing</em></td></tr><tr><th>4</th><td>85696</td><td><em>missing</em></td><td>19</td><td>1605</td><td>1629</td></tr><tr><th>5</th><td>85697</td><td><em>missing</em></td><td>19</td><td>1641</td><td>1679</td></tr></tbody></table></div>"
      ],
      "text/latex": [
       "\\begin{tabular}{r|ccccc}\n",
       "\t& ID\\_Amt & Amtsart & ID\\_Amt\\_norm & Amtsbeginn & Amtsende\\\\\n",
       "\t\\hline\n",
       "\t& Int64 & String? & Int64? & String? & String?\\\\\n",
       "\t\\hline\n",
       "\t1 & 85693 & \\emph{missing} & 22 & 1551 & \\emph{missing} \\\\\n",
       "\t2 & 85694 & \\emph{missing} & 19 & 1552 & 1581 \\\\\n",
       "\t3 & 85695 & \\emph{missing} & 22 & 1596 & \\emph{missing} \\\\\n",
       "\t4 & 85696 & \\emph{missing} & 19 & 1605 & 1629 \\\\\n",
       "\t5 & 85697 & \\emph{missing} & 19 & 1641 & 1679 \\\\\n",
       "\\end{tabular}\n"
      ],
      "text/plain": [
       "\u001b[1m5×5 DataFrame\u001b[0m\n",
       "\u001b[1m Row \u001b[0m│\u001b[1m ID_Amt \u001b[0m\u001b[1m Amtsart \u001b[0m\u001b[1m ID_Amt_norm \u001b[0m\u001b[1m Amtsbeginn \u001b[0m\u001b[1m Amtsende \u001b[0m\n",
       "\u001b[1m     \u001b[0m│\u001b[90m Int64  \u001b[0m\u001b[90m String? \u001b[0m\u001b[90m Int64?      \u001b[0m\u001b[90m String?    \u001b[0m\u001b[90m String?  \u001b[0m\n",
       "─────┼────────────────────────────────────────────────────\n",
       "   1 │  85693 \u001b[90m missing \u001b[0m          22  1551       \u001b[90m missing  \u001b[0m\n",
       "   2 │  85694 \u001b[90m missing \u001b[0m          19  1552        1581\n",
       "   3 │  85695 \u001b[90m missing \u001b[0m          22  1596       \u001b[90m missing  \u001b[0m\n",
       "   4 │  85696 \u001b[90m missing \u001b[0m          19  1605        1629\n",
       "   5 │  85697 \u001b[90m missing \u001b[0m          19  1641        1679"
      ]
     },
     "execution_count": 17,
     "metadata": {},
     "output_type": "execute_result"
    }
   ],
   "source": [
    "df_pr[101:105, [:ID_Amt, :Amtsart, :ID_Amt_norm, :Amtsbeginn, :Amtsende]]"
   ]
  },
  {
   "cell_type": "markdown",
   "metadata": {},
   "source": [
    "### Domherren zuordnen"
   ]
  },
  {
   "cell_type": "code",
   "execution_count": 18,
   "metadata": {},
   "outputs": [],
   "source": [
    "transform!(df_pr, :ID_Domherr => ByRow(string) => :id_in_source);"
   ]
  },
  {
   "cell_type": "code",
   "execution_count": 21,
   "metadata": {},
   "outputs": [],
   "source": [
    "table_name = \"item\";\n",
    "sql = \"SELECT id AS person_id, id_in_source FROM $(table_name) WHERE item_type_id = $(item_type_id)\"\n",
    "df_idx = Wds.sql_df(sql);"
   ]
  },
  {
   "cell_type": "markdown",
   "metadata": {},
   "source": [
    "Lösche Einträge ohne Wert für `ID_Domherr`"
   ]
  },
  {
   "cell_type": "code",
   "execution_count": 22,
   "metadata": {},
   "outputs": [],
   "source": [
    "dropmissing!(df_pr, :ID_Domherr);"
   ]
  },
  {
   "cell_type": "code",
   "execution_count": 23,
   "metadata": {},
   "outputs": [],
   "source": [
    "df_prp = leftjoin(df_pr, df_idx, on = :id_in_source);"
   ]
  },
  {
   "cell_type": "code",
   "execution_count": 24,
   "metadata": {},
   "outputs": [],
   "source": [
    "df_idx_mg = filter(:person_id => ismissing, df_prp);"
   ]
  },
  {
   "cell_type": "code",
   "execution_count": 25,
   "metadata": {},
   "outputs": [
    {
     "data": {
      "text/plain": [
       "(0, 22)"
      ]
     },
     "execution_count": 25,
     "metadata": {},
     "output_type": "execute_result"
    }
   ],
   "source": [
    "size(df_idx_mg)"
   ]
  },
  {
   "cell_type": "code",
   "execution_count": 87,
   "metadata": {},
   "outputs": [
    {
     "data": {
      "text/html": [
       "<div class=\"data-frame\"><p>0 rows × 3 columns</p><table class=\"data-frame\"><thead><tr><th></th><th>ID_Domherr</th><th>ID_Amt</th><th>Amtsart</th></tr><tr><th></th><th title=\"Int64\">Int64</th><th title=\"Int64\">Int64</th><th title=\"Union{Missing, String}\">String?</th></tr></thead><tbody></tbody></table></div>"
      ],
      "text/latex": [
       "\\begin{tabular}{r|ccc}\n",
       "\t& ID\\_Domherr & ID\\_Amt & Amtsart\\\\\n",
       "\t\\hline\n",
       "\t& Int64 & Int64 & String?\\\\\n",
       "\t\\hline\n",
       "\\end{tabular}\n"
      ],
      "text/plain": [
       "\u001b[1m0×3 DataFrame\u001b[0m"
      ]
     },
     "execution_count": 87,
     "metadata": {},
     "output_type": "execute_result"
    }
   ],
   "source": [
    "df_idx_mg[:, [:ID_Domherr, :ID_Amt, :Amtsart]]"
   ]
  },
  {
   "cell_type": "markdown",
   "metadata": {},
   "source": [
    "### Rollen/Ämter zuordnen"
   ]
  },
  {
   "cell_type": "code",
   "execution_count": 26,
   "metadata": {},
   "outputs": [],
   "source": [
    "sql = \"SELECT name as role_name, role.id as role_id, item.id_in_source as role_id_in_source\n",
    "FROM role JOIN item ON item.id = role.id\"\n",
    "df_role = Wds.sql_df(sql);"
   ]
  },
  {
   "cell_type": "markdown",
   "metadata": {},
   "source": [
    "Werden alle Ämter gefunden?"
   ]
  },
  {
   "cell_type": "code",
   "execution_count": 27,
   "metadata": {},
   "outputs": [],
   "source": [
    "role_dh = unique(string.(df_prp.ID_Amt_norm));"
   ]
  },
  {
   "cell_type": "code",
   "execution_count": 28,
   "metadata": {},
   "outputs": [
    {
     "data": {
      "text/plain": [
       "1-element Vector{String}:\n",
       " \"missing\""
      ]
     },
     "execution_count": 28,
     "metadata": {},
     "output_type": "execute_result"
    }
   ],
   "source": [
    "match_mg = setdiff(role_dh, df_role.role_id_in_source)"
   ]
  },
  {
   "cell_type": "code",
   "execution_count": 29,
   "metadata": {},
   "outputs": [
    {
     "data": {
      "text/plain": [
       "to_string_maybe (generic function with 1 method)"
      ]
     },
     "execution_count": 29,
     "metadata": {},
     "output_type": "execute_result"
    }
   ],
   "source": [
    "to_string_maybe(a) = ismissing(a) ? a : string(a)"
   ]
  },
  {
   "cell_type": "code",
   "execution_count": 30,
   "metadata": {},
   "outputs": [],
   "source": [
    "transform!(df_prp, :ID_Amt_norm => ByRow(to_string_maybe) => :match_role_id);"
   ]
  },
  {
   "cell_type": "code",
   "execution_count": 31,
   "metadata": {},
   "outputs": [],
   "source": [
    "df_prp_r = leftjoin(df_prp, df_role, on = :match_role_id => :role_id_in_source, matchmissing = :notequal);"
   ]
  },
  {
   "cell_type": "code",
   "execution_count": 32,
   "metadata": {},
   "outputs": [
    {
     "data": {
      "text/plain": [
       "(1161, 6886)"
      ]
     },
     "execution_count": 32,
     "metadata": {},
     "output_type": "execute_result"
    }
   ],
   "source": [
    "count(ismissing, df_prp_r.role_id), count(ismissing, df_prp_r.Amtsart)"
   ]
  },
  {
   "cell_type": "code",
   "execution_count": 33,
   "metadata": {},
   "outputs": [],
   "source": [
    "df_prp_r_mg_rid = filter(:role_id => ismissing, df_prp_r);"
   ]
  },
  {
   "cell_type": "code",
   "execution_count": 37,
   "metadata": {},
   "outputs": [
    {
     "data": {
      "text/plain": [
       "87-element Vector{Union{Missing, String}}:\n",
       " \"Dombaumeister\"\n",
       " \"Wirtschaftsverwalter\"\n",
       " \"Inhaber der officium minor\"\n",
       " \"officiales\"\n",
       " \"Mitglied\"\n",
       " \"Ecclesiasticus\"\n",
       " \"Domprior/seit seit 1504 Dekane\"\n",
       " \"Domprior/seit 1504 Dekan\"\n",
       " \"Domkustoden/Domthesaurare\"\n",
       " \"Präsenzmeister\"\n",
       " \"Präsenzkeller\"\n",
       " \"Koadjutor und Administrator\"\n",
       " \"Providierter Domherr/Domscholast\"\n",
       " ⋮\n",
       " \"vorwarer\"\n",
       " \"Vorsteher, Amtmann, confessarius, Gemeindepfarrer\"\n",
       " \"vormund\"\n",
       " \"bischöflicher Vogt\"\n",
       " \"Amtsverwalter\"\n",
       " \"Domina bzw. Äbtissin\"\n",
       " \"Drost u. Amtsschreiber\"\n",
       " \"Amtspächter bzw. -verwalter\"\n",
       " \"Lehnpropst\"\n",
       " \"Vorsteher (Ordenskaplan)\"\n",
       " \"Weltgeistlicher\"\n",
       " \"Rectores scholarum\""
      ]
     },
     "execution_count": 37,
     "metadata": {},
     "output_type": "execute_result"
    }
   ],
   "source": [
    "unique(df_prp_r_mg_rid.Amtsart)"
   ]
  },
  {
   "cell_type": "markdown",
   "metadata": {},
   "source": [
    "*2022-10-19* Was machen wir mit diesen Einträgen?"
   ]
  },
  {
   "cell_type": "markdown",
   "metadata": {},
   "source": [
    "*2022-03-16* TODO übernimm die Rollenbezeichnung `person_role.role_name` aus der Tabelle `role`."
   ]
  },
  {
   "cell_type": "markdown",
   "metadata": {},
   "source": [
    "### Bistümer zuordnen"
   ]
  },
  {
   "cell_type": "code",
   "execution_count": 33,
   "metadata": {},
   "outputs": [],
   "source": [
    "sql = \"SELECT id AS diocese_id, name AS diocese_name FROM diocese\"\n",
    "df_dioc = Wds.sql_df(sql);"
   ]
  },
  {
   "cell_type": "code",
   "execution_count": 34,
   "metadata": {},
   "outputs": [],
   "source": [
    "df_prp_r = leftjoin(df_prp_r, df_dioc, on = :Bistum => :diocese_name, matchmissing = :notequal);"
   ]
  },
  {
   "cell_type": "code",
   "execution_count": 35,
   "metadata": {},
   "outputs": [],
   "source": [
    "idx_diocese = .!ismissing.(df_prp_r[!, :diocese_id]);"
   ]
  },
  {
   "cell_type": "code",
   "execution_count": 36,
   "metadata": {},
   "outputs": [
    {
     "data": {
      "text/plain": [
       "1042"
      ]
     },
     "execution_count": 36,
     "metadata": {},
     "output_type": "execute_result"
    }
   ],
   "source": [
    "sum(idx_diocese)"
   ]
  },
  {
   "cell_type": "markdown",
   "metadata": {},
   "source": [
    "### Instutionen zuordnen\n",
    "Klöster, Domstifte"
   ]
  },
  {
   "cell_type": "code",
   "execution_count": 37,
   "metadata": {},
   "outputs": [],
   "source": [
    "table_name = \"institution\";\n",
    "sql = \"SELECT id AS institution_id, name, id_gsn FROM $(table_name)\"\n",
    "df_inst = Wds.sql_df(sql);"
   ]
  },
  {
   "cell_type": "code",
   "execution_count": 38,
   "metadata": {},
   "outputs": [],
   "source": [
    "df_prp_r = leftjoin(df_prp_r, df_inst, on = :ID_Kloster => :id_gsn, matchmissing = :notequal);"
   ]
  },
  {
   "cell_type": "markdown",
   "metadata": {},
   "source": [
    "Version mit eigener lookup-Funktion"
   ]
  },
  {
   "cell_type": "code",
   "execution_count": 39,
   "metadata": {},
   "outputs": [],
   "source": [
    "lookup_inst = Dict(df_inst.id_gsn .=> df_inst.institution_id);"
   ]
  },
  {
   "cell_type": "code",
   "execution_count": 40,
   "metadata": {},
   "outputs": [
    {
     "data": {
      "text/plain": [
       "5286"
      ]
     },
     "execution_count": 40,
     "metadata": {},
     "output_type": "execute_result"
    }
   ],
   "source": [
    "length(lookup_inst)"
   ]
  },
  {
   "cell_type": "code",
   "execution_count": 41,
   "metadata": {},
   "outputs": [
    {
     "data": {
      "text/plain": [
       "get_inst_id (generic function with 1 method)"
      ]
     },
     "execution_count": 41,
     "metadata": {},
     "output_type": "execute_result"
    }
   ],
   "source": [
    "get_inst_id(id_gsn) = get(lookup_inst, id_gsn, missing)"
   ]
  },
  {
   "cell_type": "code",
   "execution_count": 42,
   "metadata": {},
   "outputs": [
    {
     "data": {
      "text/plain": [
       "79619"
      ]
     },
     "execution_count": 42,
     "metadata": {},
     "output_type": "execute_result"
    }
   ],
   "source": [
    "get_inst_id(318)"
   ]
  },
  {
   "cell_type": "code",
   "execution_count": 43,
   "metadata": {},
   "outputs": [],
   "source": [
    "transform!(df_prp_r, :ID_Kloster => ByRow(get_inst_id) => :institution_id);"
   ]
  },
  {
   "cell_type": "code",
   "execution_count": 44,
   "metadata": {},
   "outputs": [],
   "source": [
    "lookup_inst_name = Dict(df_inst.id_gsn .=> df_inst.name);"
   ]
  },
  {
   "cell_type": "code",
   "execution_count": 45,
   "metadata": {},
   "outputs": [
    {
     "data": {
      "text/plain": [
       "get_inst_name (generic function with 1 method)"
      ]
     },
     "execution_count": 45,
     "metadata": {},
     "output_type": "execute_result"
    }
   ],
   "source": [
    "get_inst_name(id_gsn) = get(lookup_inst_name, id_gsn, missing)"
   ]
  },
  {
   "cell_type": "code",
   "execution_count": 46,
   "metadata": {},
   "outputs": [
    {
     "data": {
      "text/plain": [
       "\"Benediktinerinnenkloster Neuenwalde\""
      ]
     },
     "execution_count": 46,
     "metadata": {},
     "output_type": "execute_result"
    }
   ],
   "source": [
    "get_inst_name(318)"
   ]
  },
  {
   "cell_type": "code",
   "execution_count": 47,
   "metadata": {},
   "outputs": [],
   "source": [
    "transform!(df_prp_r, :ID_Kloster => ByRow(get_inst_name) => :institution_name);"
   ]
  },
  {
   "cell_type": "code",
   "execution_count": 48,
   "metadata": {},
   "outputs": [],
   "source": [
    "df_mg_inst_id = subset(df_prp_r, :institution_id => ByRow(ismissing));"
   ]
  },
  {
   "cell_type": "code",
   "execution_count": 49,
   "metadata": {},
   "outputs": [
    {
     "data": {
      "text/plain": [
       "(1136, 38067)"
      ]
     },
     "execution_count": 49,
     "metadata": {},
     "output_type": "execute_result"
    }
   ],
   "source": [
    "size(df_mg_inst_id, 1), size(df_prp_r, 1)"
   ]
  },
  {
   "cell_type": "markdown",
   "metadata": {},
   "source": [
    "### Numerische Daten eintragen"
   ]
  },
  {
   "cell_type": "code",
   "execution_count": 50,
   "metadata": {},
   "outputs": [
    {
     "name": "stderr",
     "output_type": "stream",
     "text": [
      "┌ Warning: Could only find year in \n",
      "│   s = zwischen 1101\n",
      "└ @ WiagDataSetup C:\\Users\\georg\\Documents\\projekte\\WiagDataSetup.jl\\src\\WiagDataSetup.jl:1120\n",
      "┌ Warning: Could not parse \n",
      "│   s = unbekannt\n",
      "└ @ WiagDataSetup C:\\Users\\georg\\Documents\\projekte\\WiagDataSetup.jl\\src\\WiagDataSetup.jl:1125\n",
      "┌ Warning: Could only find year in \n",
      "│   s = t 1567\n",
      "└ @ WiagDataSetup C:\\Users\\georg\\Documents\\projekte\\WiagDataSetup.jl\\src\\WiagDataSetup.jl:1120\n",
      "┌ Warning: Could only find year in \n",
      "│   s = zwischen 1101\n",
      "└ @ WiagDataSetup C:\\Users\\georg\\Documents\\projekte\\WiagDataSetup.jl\\src\\WiagDataSetup.jl:1120\n",
      "┌ Warning: Could only find year in \n",
      "│   s = Bewerbung 1451\n",
      "└ @ WiagDataSetup C:\\Users\\georg\\Documents\\projekte\\WiagDataSetup.jl\\src\\WiagDataSetup.jl:1120\n",
      "┌ Warning: Could only find year in \n",
      "│   s = [1068]\n",
      "└ @ WiagDataSetup C:\\Users\\georg\\Documents\\projekte\\WiagDataSetup.jl\\src\\WiagDataSetup.jl:1120\n",
      "┌ Warning: Could only find year in \n",
      "│   s = erneut 1239\n",
      "└ @ WiagDataSetup C:\\Users\\georg\\Documents\\projekte\\WiagDataSetup.jl\\src\\WiagDataSetup.jl:1120\n",
      "┌ Warning: Could only find year in \n",
      "│   s = [1068]\n",
      "└ @ WiagDataSetup C:\\Users\\georg\\Documents\\projekte\\WiagDataSetup.jl\\src\\WiagDataSetup.jl:1120\n",
      "┌ Warning: Could only find year in \n",
      "│   s = [1068]\n",
      "└ @ WiagDataSetup C:\\Users\\georg\\Documents\\projekte\\WiagDataSetup.jl\\src\\WiagDataSetup.jl:1120\n",
      "┌ Warning: Could not parse \n",
      "│   s = wohl im 9. Jahrhundert\n",
      "└ @ WiagDataSetup C:\\Users\\georg\\Documents\\projekte\\WiagDataSetup.jl\\src\\WiagDataSetup.jl:1125\n",
      "┌ Warning: Could only find year in \n",
      "│   s = [1633?], 1638, 1646\n",
      "└ @ WiagDataSetup C:\\Users\\georg\\Documents\\projekte\\WiagDataSetup.jl\\src\\WiagDataSetup.jl:1120\n",
      "┌ Warning: Could only find year in \n",
      "│   s = [1452] 1467\n",
      "└ @ WiagDataSetup C:\\Users\\georg\\Documents\\projekte\\WiagDataSetup.jl\\src\\WiagDataSetup.jl:1120\n",
      "┌ Warning: Could only find year in \n",
      "│   s = [1239]\n",
      "└ @ WiagDataSetup C:\\Users\\georg\\Documents\\projekte\\WiagDataSetup.jl\\src\\WiagDataSetup.jl:1120\n",
      "┌ Warning: Could only find year in \n",
      "│   s = Feb. 1339\n",
      "└ @ WiagDataSetup C:\\Users\\georg\\Documents\\projekte\\WiagDataSetup.jl\\src\\WiagDataSetup.jl:1120\n",
      "┌ Warning: Could only find year in \n",
      "│   s = zw. 1123\n",
      "└ @ WiagDataSetup C:\\Users\\georg\\Documents\\projekte\\WiagDataSetup.jl\\src\\WiagDataSetup.jl:1120\n",
      "┌ Warning: Could only find year in \n",
      "│   s = zw. 1180\n",
      "└ @ WiagDataSetup C:\\Users\\georg\\Documents\\projekte\\WiagDataSetup.jl\\src\\WiagDataSetup.jl:1120\n",
      "┌ Warning: Could only find year in \n",
      "│   s = [1539?] 1543\n",
      "└ @ WiagDataSetup C:\\Users\\georg\\Documents\\projekte\\WiagDataSetup.jl\\src\\WiagDataSetup.jl:1120\n",
      "┌ Warning: Could only find year in \n",
      "│   s = [1241] 1248\n",
      "└ @ WiagDataSetup C:\\Users\\georg\\Documents\\projekte\\WiagDataSetup.jl\\src\\WiagDataSetup.jl:1120\n",
      "┌ Warning: Could only find year in \n",
      "│   s = [1188]\n",
      "└ @ WiagDataSetup C:\\Users\\georg\\Documents\\projekte\\WiagDataSetup.jl\\src\\WiagDataSetup.jl:1120\n",
      "┌ Warning: Could only find year in \n",
      "│   s = [1178] 1188\n",
      "└ @ WiagDataSetup C:\\Users\\georg\\Documents\\projekte\\WiagDataSetup.jl\\src\\WiagDataSetup.jl:1120\n",
      "┌ Warning: Could only find year in \n",
      "│   s = [1233] 1236\n",
      "└ @ WiagDataSetup C:\\Users\\georg\\Documents\\projekte\\WiagDataSetup.jl\\src\\WiagDataSetup.jl:1120\n",
      "┌ Warning: Could not parse \n",
      "│   s = 14[4]4\n",
      "└ @ WiagDataSetup C:\\Users\\georg\\Documents\\projekte\\WiagDataSetup.jl\\src\\WiagDataSetup.jl:1125\n",
      "┌ Warning: Could only find year in \n",
      "│   s = [1290 ca.]\n",
      "└ @ WiagDataSetup C:\\Users\\georg\\Documents\\projekte\\WiagDataSetup.jl\\src\\WiagDataSetup.jl:1120\n",
      "┌ Warning: Could only find year in \n",
      "│   s = [1235]\n",
      "└ @ WiagDataSetup C:\\Users\\georg\\Documents\\projekte\\WiagDataSetup.jl\\src\\WiagDataSetup.jl:1120\n",
      "┌ Warning: Could only find year in \n",
      "│   s = ab Mai 973\n",
      "└ @ WiagDataSetup C:\\Users\\georg\\Documents\\projekte\\WiagDataSetup.jl\\src\\WiagDataSetup.jl:1120\n",
      "┌ Warning: Could only find year in \n",
      "│   s = vor dem 28. Juni 1314\n",
      "└ @ WiagDataSetup C:\\Users\\georg\\Documents\\projekte\\WiagDataSetup.jl\\src\\WiagDataSetup.jl:1120\n",
      "┌ Warning: Could only find year in \n",
      "│   s = [1406/ 1407?]\n",
      "└ @ WiagDataSetup C:\\Users\\georg\\Documents\\projekte\\WiagDataSetup.jl\\src\\WiagDataSetup.jl:1120\n",
      "┌ Warning: Could only find year in \n",
      "│   s = [1449]\n",
      "└ @ WiagDataSetup C:\\Users\\georg\\Documents\\projekte\\WiagDataSetup.jl\\src\\WiagDataSetup.jl:1120\n",
      "┌ Warning: Could only find year in \n",
      "│   s = zw. 1180\n",
      "└ @ WiagDataSetup C:\\Users\\georg\\Documents\\projekte\\WiagDataSetup.jl\\src\\WiagDataSetup.jl:1120\n",
      "┌ Warning: Could not parse \n",
      "│   s = keine Angabe\n",
      "└ @ WiagDataSetup C:\\Users\\georg\\Documents\\projekte\\WiagDataSetup.jl\\src\\WiagDataSetup.jl:1125\n",
      "┌ Warning: Could not parse \n",
      "│   s = unbekannt\n",
      "└ @ WiagDataSetup C:\\Users\\georg\\Documents\\projekte\\WiagDataSetup.jl\\src\\WiagDataSetup.jl:1125\n",
      "┌ Warning: Could not parse \n",
      "│   s = unbekannt\n",
      "└ @ WiagDataSetup C:\\Users\\georg\\Documents\\projekte\\WiagDataSetup.jl\\src\\WiagDataSetup.jl:1125\n",
      "┌ Warning: Could only find year in \n",
      "│   s = erneut 1239\n",
      "└ @ WiagDataSetup C:\\Users\\georg\\Documents\\projekte\\WiagDataSetup.jl\\src\\WiagDataSetup.jl:1120\n",
      "┌ Warning: Could only find year in \n",
      "│   s = erneut 1239\n",
      "└ @ WiagDataSetup C:\\Users\\georg\\Documents\\projekte\\WiagDataSetup.jl\\src\\WiagDataSetup.jl:1120\n",
      "┌ Warning: Could only find year in \n",
      "│   s = [1406/ 1407?]\n",
      "└ @ WiagDataSetup C:\\Users\\georg\\Documents\\projekte\\WiagDataSetup.jl\\src\\WiagDataSetup.jl:1120\n",
      "┌ Warning: Could only find year in \n",
      "│   s = (1193\n",
      "└ @ WiagDataSetup C:\\Users\\georg\\Documents\\projekte\\WiagDataSetup.jl\\src\\WiagDataSetup.jl:1120\n",
      "┌ Warning: Could only find year in \n",
      "│   s = _1429\n",
      "└ @ WiagDataSetup C:\\Users\\georg\\Documents\\projekte\\WiagDataSetup.jl\\src\\WiagDataSetup.jl:1120\n",
      "┌ Warning: Could only find year in \n",
      "│   s = (1193\n",
      "└ @ WiagDataSetup C:\\Users\\georg\\Documents\\projekte\\WiagDataSetup.jl\\src\\WiagDataSetup.jl:1120\n",
      "┌ Warning: Could not parse \n",
      "│   s = ohne Angabe\n",
      "└ @ WiagDataSetup C:\\Users\\georg\\Documents\\projekte\\WiagDataSetup.jl\\src\\WiagDataSetup.jl:1125\n",
      "┌ Warning: Could not parse \n",
      "│   s = ohne Angabe\n",
      "└ @ WiagDataSetup C:\\Users\\georg\\Documents\\projekte\\WiagDataSetup.jl\\src\\WiagDataSetup.jl:1125\n",
      "┌ Warning: Could not parse \n",
      "│   s = keine Angabe\n",
      "└ @ WiagDataSetup C:\\Users\\georg\\Documents\\projekte\\WiagDataSetup.jl\\src\\WiagDataSetup.jl:1125\n",
      "┌ Warning: Could not parse \n",
      "│   s = keine Angabe\n",
      "└ @ WiagDataSetup C:\\Users\\georg\\Documents\\projekte\\WiagDataSetup.jl\\src\\WiagDataSetup.jl:1125\n",
      "┌ Warning: Could not parse \n",
      "│   s = ohne Angabe\n",
      "└ @ WiagDataSetup C:\\Users\\georg\\Documents\\projekte\\WiagDataSetup.jl\\src\\WiagDataSetup.jl:1125\n",
      "┌ Warning: Could not parse \n",
      "│   s = ohne Angabe\n",
      "└ @ WiagDataSetup C:\\Users\\georg\\Documents\\projekte\\WiagDataSetup.jl\\src\\WiagDataSetup.jl:1125\n",
      "┌ Warning: Could not parse \n",
      "│   s = ohne Angabe\n",
      "└ @ WiagDataSetup C:\\Users\\georg\\Documents\\projekte\\WiagDataSetup.jl\\src\\WiagDataSetup.jl:1125\n",
      "┌ Warning: Could not parse \n",
      "│   s = ohne Angabe\n",
      "└ @ WiagDataSetup C:\\Users\\georg\\Documents\\projekte\\WiagDataSetup.jl\\src\\WiagDataSetup.jl:1125\n",
      "┌ Warning: Could not parse \n",
      "│   s = ohne Angabe\n",
      "└ @ WiagDataSetup C:\\Users\\georg\\Documents\\projekte\\WiagDataSetup.jl\\src\\WiagDataSetup.jl:1125\n",
      "┌ Warning: Could not parse \n",
      "│   s = ohne Angabe\n",
      "└ @ WiagDataSetup C:\\Users\\georg\\Documents\\projekte\\WiagDataSetup.jl\\src\\WiagDataSetup.jl:1125\n",
      "┌ Warning: Could not parse \n",
      "│   s = ohne Angabe\n",
      "└ @ WiagDataSetup C:\\Users\\georg\\Documents\\projekte\\WiagDataSetup.jl\\src\\WiagDataSetup.jl:1125\n",
      "┌ Warning: Could not parse \n",
      "│   s = 13\n",
      "└ @ WiagDataSetup C:\\Users\\georg\\Documents\\projekte\\WiagDataSetup.jl\\src\\WiagDataSetup.jl:1125\n",
      "┌ Warning: Could only find year in \n",
      "│   s = ·1209\n",
      "└ @ WiagDataSetup C:\\Users\\georg\\Documents\\projekte\\WiagDataSetup.jl\\src\\WiagDataSetup.jl:1120\n",
      "┌ Warning: Could not parse \n",
      "│   s = 12\n",
      "└ @ WiagDataSetup C:\\Users\\georg\\Documents\\projekte\\WiagDataSetup.jl\\src\\WiagDataSetup.jl:1125\n",
      "┌ Warning: Could not parse \n",
      "│   s = 2\n",
      "└ @ WiagDataSetup C:\\Users\\georg\\Documents\\projekte\\WiagDataSetup.jl\\src\\WiagDataSetup.jl:1125\n",
      "┌ Warning: Could not parse \n",
      "│   s = 6\n",
      "└ @ WiagDataSetup C:\\Users\\georg\\Documents\\projekte\\WiagDataSetup.jl\\src\\WiagDataSetup.jl:1125\n",
      "┌ Warning: Could only find year in \n",
      "│   s = [1447–]1450 Provision\n",
      "└ @ WiagDataSetup C:\\Users\\georg\\Documents\\projekte\\WiagDataSetup.jl\\src\\WiagDataSetup.jl:1120\n",
      "┌ Warning: Could not parse \n",
      "│   s = 1\n",
      "└ @ WiagDataSetup C:\\Users\\georg\\Documents\\projekte\\WiagDataSetup.jl\\src\\WiagDataSetup.jl:1125\n",
      "┌ Warning: Could not parse \n",
      "│   s = ohne Angabe\n",
      "└ @ WiagDataSetup C:\\Users\\georg\\Documents\\projekte\\WiagDataSetup.jl\\src\\WiagDataSetup.jl:1125\n",
      "┌ Warning: Could only find year in \n",
      "│   s = [1284]\n",
      "└ @ WiagDataSetup C:\\Users\\georg\\Documents\\projekte\\WiagDataSetup.jl\\src\\WiagDataSetup.jl:1120\n",
      "┌ Warning: Could only find year in \n",
      "│   s = [1309]\n",
      "└ @ WiagDataSetup C:\\Users\\georg\\Documents\\projekte\\WiagDataSetup.jl\\src\\WiagDataSetup.jl:1120\n",
      "┌ Warning: Could not parse \n",
      "│   s = ohne Angabe\n",
      "└ @ WiagDataSetup C:\\Users\\georg\\Documents\\projekte\\WiagDataSetup.jl\\src\\WiagDataSetup.jl:1125\n"
     ]
    }
   ],
   "source": [
    "num_date_begin(s_date) = Wds.parsemaybe(s_date, :lower)\n",
    "df_prp_r[!, :num_date_begin] .= num_date_begin.(df_prp_r[!, :Amtsbeginn]);"
   ]
  },
  {
   "cell_type": "code",
   "execution_count": 51,
   "metadata": {},
   "outputs": [
    {
     "name": "stderr",
     "output_type": "stream",
     "text": [
      "┌ Warning: Could only find year in \n",
      "│   s = und 1118\n",
      "└ @ WiagDataSetup C:\\Users\\georg\\Documents\\projekte\\WiagDataSetup.jl\\src\\WiagDataSetup.jl:1120\n",
      "┌ Warning: Could only find year in \n",
      "│   s = res. 1399\n",
      "└ @ WiagDataSetup C:\\Users\\georg\\Documents\\projekte\\WiagDataSetup.jl\\src\\WiagDataSetup.jl:1120\n",
      "┌ Warning: Could only find year in \n",
      "│   s = t1529\n",
      "└ @ WiagDataSetup C:\\Users\\georg\\Documents\\projekte\\WiagDataSetup.jl\\src\\WiagDataSetup.jl:1120\n",
      "┌ Warning: Could only find year in \n",
      "│   s = t1547\n",
      "└ @ WiagDataSetup C:\\Users\\georg\\Documents\\projekte\\WiagDataSetup.jl\\src\\WiagDataSetup.jl:1120\n",
      "┌ Warning: Could only find year in \n",
      "│   s = und 1118\n",
      "└ @ WiagDataSetup C:\\Users\\georg\\Documents\\projekte\\WiagDataSetup.jl\\src\\WiagDataSetup.jl:1120\n",
      "┌ Warning: Could only find year in \n",
      "│   s = 1 1320 Aug. 22\n",
      "└ @ WiagDataSetup C:\\Users\\georg\\Documents\\projekte\\WiagDataSetup.jl\\src\\WiagDataSetup.jl:1120\n",
      "┌ Warning: Could not parse \n",
      "│   s = 66\n",
      "└ @ WiagDataSetup C:\\Users\\georg\\Documents\\projekte\\WiagDataSetup.jl\\src\\WiagDataSetup.jl:1125\n",
      "┌ Warning: Could not parse \n",
      "│   s = 86\n",
      "└ @ WiagDataSetup C:\\Users\\georg\\Documents\\projekte\\WiagDataSetup.jl\\src\\WiagDataSetup.jl:1125\n",
      "┌ Warning: Could only find year in \n",
      "│   s = [1223]\n",
      "└ @ WiagDataSetup C:\\Users\\georg\\Documents\\projekte\\WiagDataSetup.jl\\src\\WiagDataSetup.jl:1120\n",
      "┌ Warning: Could only find year in \n",
      "│   s = [1241]\n",
      "└ @ WiagDataSetup C:\\Users\\georg\\Documents\\projekte\\WiagDataSetup.jl\\src\\WiagDataSetup.jl:1120\n",
      "┌ Warning: Could only find year in \n",
      "│   s = u. 1148\n",
      "└ @ WiagDataSetup C:\\Users\\georg\\Documents\\projekte\\WiagDataSetup.jl\\src\\WiagDataSetup.jl:1120\n",
      "┌ Warning: Could only find year in \n",
      "│   s = u. 1188\n",
      "└ @ WiagDataSetup C:\\Users\\georg\\Documents\\projekte\\WiagDataSetup.jl\\src\\WiagDataSetup.jl:1120\n",
      "┌ Warning: Could only find year in \n",
      "│   s = nach Mai 1624\n",
      "└ @ WiagDataSetup C:\\Users\\georg\\Documents\\projekte\\WiagDataSetup.jl\\src\\WiagDataSetup.jl:1120\n",
      "┌ Warning: Could only find year in \n",
      "│   s = [1202]\n",
      "└ @ WiagDataSetup C:\\Users\\georg\\Documents\\projekte\\WiagDataSetup.jl\\src\\WiagDataSetup.jl:1120\n",
      "┌ Warning: Could only find year in \n",
      "│   s = [1801]\n",
      "└ @ WiagDataSetup C:\\Users\\georg\\Documents\\projekte\\WiagDataSetup.jl\\src\\WiagDataSetup.jl:1120\n",
      "┌ Warning: Could only find year in \n",
      "│   s = res. 1399\n",
      "└ @ WiagDataSetup C:\\Users\\georg\\Documents\\projekte\\WiagDataSetup.jl\\src\\WiagDataSetup.jl:1120\n",
      "┌ Warning: Could only find year in \n",
      "│   s = u. 1188\n",
      "└ @ WiagDataSetup C:\\Users\\georg\\Documents\\projekte\\WiagDataSetup.jl\\src\\WiagDataSetup.jl:1120\n",
      "┌ Warning: Could only find year in \n",
      "│   s = resigniert 1336\n",
      "└ @ WiagDataSetup C:\\Users\\georg\\Documents\\projekte\\WiagDataSetup.jl\\src\\WiagDataSetup.jl:1120\n",
      "┌ Warning: Could only find year in \n",
      "│   s = resigniert 1509\n",
      "└ @ WiagDataSetup C:\\Users\\georg\\Documents\\projekte\\WiagDataSetup.jl\\src\\WiagDataSetup.jl:1120\n",
      "┌ Warning: Could only find year in \n",
      "│   s = resigniert 1394?\n",
      "└ @ WiagDataSetup C:\\Users\\georg\\Documents\\projekte\\WiagDataSetup.jl\\src\\WiagDataSetup.jl:1120\n",
      "┌ Warning: Could only find year in \n",
      "│   s = resigniert 1531\n",
      "└ @ WiagDataSetup C:\\Users\\georg\\Documents\\projekte\\WiagDataSetup.jl\\src\\WiagDataSetup.jl:1120\n",
      "┌ Warning: Could only find year in \n",
      "│   s = resigniert 1544\n",
      "└ @ WiagDataSetup C:\\Users\\georg\\Documents\\projekte\\WiagDataSetup.jl\\src\\WiagDataSetup.jl:1120\n",
      "┌ Warning: Could only find year in \n",
      "│   s = resigniert 1529\n",
      "└ @ WiagDataSetup C:\\Users\\georg\\Documents\\projekte\\WiagDataSetup.jl\\src\\WiagDataSetup.jl:1120\n",
      "┌ Warning: Could only find year in \n",
      "│   s = resigniert 1379\n",
      "└ @ WiagDataSetup C:\\Users\\georg\\Documents\\projekte\\WiagDataSetup.jl\\src\\WiagDataSetup.jl:1120\n",
      "┌ Warning: Could only find year in \n",
      "│   s = resigniert 1505\n",
      "└ @ WiagDataSetup C:\\Users\\georg\\Documents\\projekte\\WiagDataSetup.jl\\src\\WiagDataSetup.jl:1120\n",
      "┌ Warning: Could only find year in \n",
      "│   s = resigniert 1432\n",
      "└ @ WiagDataSetup C:\\Users\\georg\\Documents\\projekte\\WiagDataSetup.jl\\src\\WiagDataSetup.jl:1120\n",
      "┌ Warning: Could only find year in \n",
      "│   s = resigniert 1530\n",
      "└ @ WiagDataSetup C:\\Users\\georg\\Documents\\projekte\\WiagDataSetup.jl\\src\\WiagDataSetup.jl:1120\n",
      "┌ Warning: Could only find year in \n",
      "│   s = resigniert 1443\n",
      "└ @ WiagDataSetup C:\\Users\\georg\\Documents\\projekte\\WiagDataSetup.jl\\src\\WiagDataSetup.jl:1120\n",
      "┌ Warning: Could only find year in \n",
      "│   s = resigniert 1531/32\n",
      "└ @ WiagDataSetup C:\\Users\\georg\\Documents\\projekte\\WiagDataSetup.jl\\src\\WiagDataSetup.jl:1120\n",
      "┌ Warning: Could only find year in \n",
      "│   s = resigniert 1547\n",
      "└ @ WiagDataSetup C:\\Users\\georg\\Documents\\projekte\\WiagDataSetup.jl\\src\\WiagDataSetup.jl:1120\n",
      "┌ Warning: Could only find year in \n",
      "│   s = resigniert 1560\n",
      "└ @ WiagDataSetup C:\\Users\\georg\\Documents\\projekte\\WiagDataSetup.jl\\src\\WiagDataSetup.jl:1120\n",
      "┌ Warning: Could only find year in \n",
      "│   s = resigniert 1472\n",
      "└ @ WiagDataSetup C:\\Users\\georg\\Documents\\projekte\\WiagDataSetup.jl\\src\\WiagDataSetup.jl:1120\n",
      "┌ Warning: Could only find year in \n",
      "│   s = resigniert 1424\n",
      "└ @ WiagDataSetup C:\\Users\\georg\\Documents\\projekte\\WiagDataSetup.jl\\src\\WiagDataSetup.jl:1120\n",
      "┌ Warning: Could only find year in \n",
      "│   s = resigniert 1438\n",
      "└ @ WiagDataSetup C:\\Users\\georg\\Documents\\projekte\\WiagDataSetup.jl\\src\\WiagDataSetup.jl:1120\n",
      "┌ Warning: Could only find year in \n",
      "│   s = resigniert 1541\n",
      "└ @ WiagDataSetup C:\\Users\\georg\\Documents\\projekte\\WiagDataSetup.jl\\src\\WiagDataSetup.jl:1120\n",
      "┌ Warning: Could only find year in \n",
      "│   s = resigniert 1529\n",
      "└ @ WiagDataSetup C:\\Users\\georg\\Documents\\projekte\\WiagDataSetup.jl\\src\\WiagDataSetup.jl:1120\n",
      "┌ Warning: Could only find year in \n",
      "│   s = resigniert 1382\n",
      "└ @ WiagDataSetup C:\\Users\\georg\\Documents\\projekte\\WiagDataSetup.jl\\src\\WiagDataSetup.jl:1120\n",
      "┌ Warning: Could only find year in \n",
      "│   s = resigniert 1402\n",
      "└ @ WiagDataSetup C:\\Users\\georg\\Documents\\projekte\\WiagDataSetup.jl\\src\\WiagDataSetup.jl:1120\n",
      "┌ Warning: Could only find year in \n",
      "│   s = resigniert 1469\n",
      "└ @ WiagDataSetup C:\\Users\\georg\\Documents\\projekte\\WiagDataSetup.jl\\src\\WiagDataSetup.jl:1120\n",
      "┌ Warning: Could only find year in \n",
      "│   s = resigniert 1402\n",
      "└ @ WiagDataSetup C:\\Users\\georg\\Documents\\projekte\\WiagDataSetup.jl\\src\\WiagDataSetup.jl:1120\n",
      "┌ Warning: Could only find year in \n",
      "│   s = resigniert 1516\n",
      "└ @ WiagDataSetup C:\\Users\\georg\\Documents\\projekte\\WiagDataSetup.jl\\src\\WiagDataSetup.jl:1120\n",
      "┌ Warning: Could not parse \n",
      "│   s = Provision\n",
      "└ @ WiagDataSetup C:\\Users\\georg\\Documents\\projekte\\WiagDataSetup.jl\\src\\WiagDataSetup.jl:1125\n",
      "┌ Warning: Could only find year in \n",
      "│   s = resigniert 1499\n",
      "└ @ WiagDataSetup C:\\Users\\georg\\Documents\\projekte\\WiagDataSetup.jl\\src\\WiagDataSetup.jl:1120\n",
      "┌ Warning: Could only find year in \n",
      "│   s = resigniert 1568\n",
      "└ @ WiagDataSetup C:\\Users\\georg\\Documents\\projekte\\WiagDataSetup.jl\\src\\WiagDataSetup.jl:1120\n",
      "┌ Warning: Could only find year in \n",
      "│   s = resigniert 1459\n",
      "└ @ WiagDataSetup C:\\Users\\georg\\Documents\\projekte\\WiagDataSetup.jl\\src\\WiagDataSetup.jl:1120\n",
      "┌ Warning: Could only find year in \n",
      "│   s = resigniert 1515\n",
      "└ @ WiagDataSetup C:\\Users\\georg\\Documents\\projekte\\WiagDataSetup.jl\\src\\WiagDataSetup.jl:1120\n",
      "┌ Warning: Could only find year in \n",
      "│   s = resigniert 1524\n",
      "└ @ WiagDataSetup C:\\Users\\georg\\Documents\\projekte\\WiagDataSetup.jl\\src\\WiagDataSetup.jl:1120\n",
      "┌ Warning: Could only find year in \n",
      "│   s = resigniert 1440\n",
      "└ @ WiagDataSetup C:\\Users\\georg\\Documents\\projekte\\WiagDataSetup.jl\\src\\WiagDataSetup.jl:1120\n",
      "┌ Warning: Could only find year in \n",
      "│   s = resigniert 1459\n",
      "└ @ WiagDataSetup C:\\Users\\georg\\Documents\\projekte\\WiagDataSetup.jl\\src\\WiagDataSetup.jl:1120\n",
      "┌ Warning: Could only find year in \n",
      "│   s = resigniert 1553\n",
      "└ @ WiagDataSetup C:\\Users\\georg\\Documents\\projekte\\WiagDataSetup.jl\\src\\WiagDataSetup.jl:1120\n",
      "┌ Warning: Could only find year in \n",
      "│   s = resigniert 1492\n",
      "└ @ WiagDataSetup C:\\Users\\georg\\Documents\\projekte\\WiagDataSetup.jl\\src\\WiagDataSetup.jl:1120\n",
      "┌ Warning: Could only find year in \n",
      "│   s = resigniert 1497\n",
      "└ @ WiagDataSetup C:\\Users\\georg\\Documents\\projekte\\WiagDataSetup.jl\\src\\WiagDataSetup.jl:1120\n",
      "┌ Warning: Could only find year in \n",
      "│   s = resigniert 1521\n",
      "└ @ WiagDataSetup C:\\Users\\georg\\Documents\\projekte\\WiagDataSetup.jl\\src\\WiagDataSetup.jl:1120\n",
      "┌ Warning: Could only find year in \n",
      "│   s = resigniert 1504\n",
      "└ @ WiagDataSetup C:\\Users\\georg\\Documents\\projekte\\WiagDataSetup.jl\\src\\WiagDataSetup.jl:1120\n",
      "┌ Warning: Could only find year in \n",
      "│   s = resigniert 1481\n",
      "└ @ WiagDataSetup C:\\Users\\georg\\Documents\\projekte\\WiagDataSetup.jl\\src\\WiagDataSetup.jl:1120\n",
      "┌ Warning: Could only find year in \n",
      "│   s = resigniert 1455\n",
      "└ @ WiagDataSetup C:\\Users\\georg\\Documents\\projekte\\WiagDataSetup.jl\\src\\WiagDataSetup.jl:1120\n",
      "┌ Warning: Could only find year in \n",
      "│   s = resigniert 1427\n",
      "└ @ WiagDataSetup C:\\Users\\georg\\Documents\\projekte\\WiagDataSetup.jl\\src\\WiagDataSetup.jl:1120\n",
      "┌ Warning: Could only find year in \n",
      "│   s = resigniert 1387\n",
      "└ @ WiagDataSetup C:\\Users\\georg\\Documents\\projekte\\WiagDataSetup.jl\\src\\WiagDataSetup.jl:1120\n",
      "┌ Warning: Could only find year in \n",
      "│   s = resigniert 1408\n",
      "└ @ WiagDataSetup C:\\Users\\georg\\Documents\\projekte\\WiagDataSetup.jl\\src\\WiagDataSetup.jl:1120\n",
      "┌ Warning: Could only find year in \n",
      "│   s = resigniert 1544\n",
      "└ @ WiagDataSetup C:\\Users\\georg\\Documents\\projekte\\WiagDataSetup.jl\\src\\WiagDataSetup.jl:1120\n",
      "┌ Warning: Could only find year in \n",
      "│   s = resigniert 1426\n",
      "└ @ WiagDataSetup C:\\Users\\georg\\Documents\\projekte\\WiagDataSetup.jl\\src\\WiagDataSetup.jl:1120\n",
      "┌ Warning: Could only find year in \n",
      "│   s = resigniert 1468\n",
      "└ @ WiagDataSetup C:\\Users\\georg\\Documents\\projekte\\WiagDataSetup.jl\\src\\WiagDataSetup.jl:1120\n",
      "┌ Warning: Could only find year in \n",
      "│   s = resigniert 1411\n",
      "└ @ WiagDataSetup C:\\Users\\georg\\Documents\\projekte\\WiagDataSetup.jl\\src\\WiagDataSetup.jl:1120\n",
      "┌ Warning: Could only find year in \n",
      "│   s = wahrscheinlich resigniert 1399\n",
      "└ @ WiagDataSetup C:\\Users\\georg\\Documents\\projekte\\WiagDataSetup.jl\\src\\WiagDataSetup.jl:1120\n",
      "┌ Warning: Could only find year in \n",
      "│   s = permutiert 1423\n",
      "└ @ WiagDataSetup C:\\Users\\georg\\Documents\\projekte\\WiagDataSetup.jl\\src\\WiagDataSetup.jl:1120\n"
     ]
    },
    {
     "name": "stderr",
     "output_type": "stream",
     "text": [
      "┌ Warning: Could only find year in \n",
      "│   s = resigniert 1417\n",
      "└ @ WiagDataSetup C:\\Users\\georg\\Documents\\projekte\\WiagDataSetup.jl\\src\\WiagDataSetup.jl:1120\n",
      "┌ Warning: Could only find year in \n",
      "│   s = resigniert 1442\n",
      "└ @ WiagDataSetup C:\\Users\\georg\\Documents\\projekte\\WiagDataSetup.jl\\src\\WiagDataSetup.jl:1120\n",
      "┌ Warning: Could only find year in \n",
      "│   s = resigniert 1519\n",
      "└ @ WiagDataSetup C:\\Users\\georg\\Documents\\projekte\\WiagDataSetup.jl\\src\\WiagDataSetup.jl:1120\n",
      "┌ Warning: Could only find year in \n",
      "│   s = resigniert 1489\n",
      "└ @ WiagDataSetup C:\\Users\\georg\\Documents\\projekte\\WiagDataSetup.jl\\src\\WiagDataSetup.jl:1120\n",
      "┌ Warning: Could only find year in \n",
      "│   s = resigniert 1524\n",
      "└ @ WiagDataSetup C:\\Users\\georg\\Documents\\projekte\\WiagDataSetup.jl\\src\\WiagDataSetup.jl:1120\n",
      "┌ Warning: Could only find year in \n",
      "│   s = resigniert 1568\n",
      "└ @ WiagDataSetup C:\\Users\\georg\\Documents\\projekte\\WiagDataSetup.jl\\src\\WiagDataSetup.jl:1120\n",
      "┌ Warning: Could only find year in \n",
      "│   s = priviert 1398\n",
      "└ @ WiagDataSetup C:\\Users\\georg\\Documents\\projekte\\WiagDataSetup.jl\\src\\WiagDataSetup.jl:1120\n",
      "┌ Warning: Could only find year in \n",
      "│   s = permutiert 1426\n",
      "└ @ WiagDataSetup C:\\Users\\georg\\Documents\\projekte\\WiagDataSetup.jl\\src\\WiagDataSetup.jl:1120\n",
      "┌ Warning: Could only find year in \n",
      "│   s = t1568\n",
      "└ @ WiagDataSetup C:\\Users\\georg\\Documents\\projekte\\WiagDataSetup.jl\\src\\WiagDataSetup.jl:1120\n"
     ]
    }
   ],
   "source": [
    "num_date_end(s_date) = Wds.parsemaybe(s_date, :upper)\n",
    "df_prp_r[!, :num_date_end] .= num_date_end.(df_prp_r[!, :Amtsende]);"
   ]
  },
  {
   "cell_type": "code",
   "execution_count": 52,
   "metadata": {},
   "outputs": [],
   "source": [
    "df_info = dropmissing(df_prp_r, :Amtsart);"
   ]
  },
  {
   "cell_type": "code",
   "execution_count": 53,
   "metadata": {},
   "outputs": [
    {
     "data": {
      "text/plain": [
       "31181"
      ]
     },
     "execution_count": 53,
     "metadata": {},
     "output_type": "execute_result"
    }
   ],
   "source": [
    "size(df_info, 1)"
   ]
  },
  {
   "cell_type": "code",
   "execution_count": 54,
   "metadata": {},
   "outputs": [
    {
     "data": {
      "text/html": [
       "<div class=\"data-frame\"><p>8 rows × 6 columns</p><table class=\"data-frame\"><thead><tr><th></th><th>ID_Domherr</th><th>Amtsart</th><th>Amtsbeginn</th><th>num_date_begin</th><th>Amtsende</th><th>num_date_end</th></tr><tr><th></th><th title=\"Int64\">Int64</th><th title=\"String\">String</th><th title=\"Union{Missing, String}\">String?</th><th title=\"Union{Missing, Int64}\">Int64?</th><th title=\"Union{Missing, String}\">String?</th><th title=\"Union{Missing, Int64}\">Int64?</th></tr></thead><tbody><tr><th>1</th><td>14113</td><td>Domkustos (Domthesaurar)</td><td>1778</td><td>1778</td><td>1792</td><td>1792</td></tr><tr><th>2</th><td>14115</td><td>Domkustos (Domthesaurar)</td><td>1792</td><td>1792</td><td>1811</td><td>1811</td></tr><tr><th>3</th><td>14117</td><td>Domkantor</td><td>vor 1328</td><td>1278</td><td><em>missing</em></td><td><em>missing</em></td></tr><tr><th>4</th><td>14118</td><td>Domscholaster</td><td>vor 1328</td><td>1278</td><td><em>missing</em></td><td><em>missing</em></td></tr><tr><th>5</th><td>14122</td><td>Domkantor</td><td>1376</td><td>1376</td><td>1376</td><td>1376</td></tr><tr><th>6</th><td>14124</td><td>Domkantor</td><td>1405</td><td>1405</td><td>1419</td><td>1419</td></tr><tr><th>7</th><td>14128</td><td>Domkantor</td><td>1452</td><td>1452</td><td>1455</td><td>1455</td></tr><tr><th>8</th><td>13991</td><td>Domherr</td><td>1653</td><td>1653</td><td>1681</td><td>1681</td></tr></tbody></table></div>"
      ],
      "text/latex": [
       "\\begin{tabular}{r|cccccc}\n",
       "\t& ID\\_Domherr & Amtsart & Amtsbeginn & num\\_date\\_begin & Amtsende & num\\_date\\_end\\\\\n",
       "\t\\hline\n",
       "\t& Int64 & String & String? & Int64? & String? & Int64?\\\\\n",
       "\t\\hline\n",
       "\t1 & 14113 & Domkustos (Domthesaurar) & 1778 & 1778 & 1792 & 1792 \\\\\n",
       "\t2 & 14115 & Domkustos (Domthesaurar) & 1792 & 1792 & 1811 & 1811 \\\\\n",
       "\t3 & 14117 & Domkantor & vor 1328 & 1278 & \\emph{missing} & \\emph{missing} \\\\\n",
       "\t4 & 14118 & Domscholaster & vor 1328 & 1278 & \\emph{missing} & \\emph{missing} \\\\\n",
       "\t5 & 14122 & Domkantor & 1376 & 1376 & 1376 & 1376 \\\\\n",
       "\t6 & 14124 & Domkantor & 1405 & 1405 & 1419 & 1419 \\\\\n",
       "\t7 & 14128 & Domkantor & 1452 & 1452 & 1455 & 1455 \\\\\n",
       "\t8 & 13991 & Domherr & 1653 & 1653 & 1681 & 1681 \\\\\n",
       "\\end{tabular}\n"
      ],
      "text/plain": [
       "\u001b[1m8×6 DataFrame\u001b[0m\n",
       "\u001b[1m Row \u001b[0m│\u001b[1m ID_Domherr \u001b[0m\u001b[1m Amtsart                  \u001b[0m\u001b[1m Amtsbeginn \u001b[0m\u001b[1m num_date_begin \u001b[0m\u001b[1m Amtse\u001b[0m ⋯\n",
       "\u001b[1m     \u001b[0m│\u001b[90m Int64      \u001b[0m\u001b[90m String                   \u001b[0m\u001b[90m String?    \u001b[0m\u001b[90m Int64?         \u001b[0m\u001b[90m Strin\u001b[0m ⋯\n",
       "─────┼──────────────────────────────────────────────────────────────────────────\n",
       "   1 │      14113  Domkustos (Domthesaurar)  1778                  1778  1792  ⋯\n",
       "   2 │      14115  Domkustos (Domthesaurar)  1792                  1792  1811\n",
       "   3 │      14117  Domkantor                 vor 1328              1278 \u001b[90m missi\u001b[0m\n",
       "   4 │      14118  Domscholaster             vor 1328              1278 \u001b[90m missi\u001b[0m\n",
       "   5 │      14122  Domkantor                 1376                  1376  1376  ⋯\n",
       "   6 │      14124  Domkantor                 1405                  1405  1419\n",
       "   7 │      14128  Domkantor                 1452                  1452  1455\n",
       "   8 │      13991  Domherr                   1653                  1653  1681\n",
       "\u001b[36m                                                               2 columns omitted\u001b[0m"
      ]
     },
     "execution_count": 54,
     "metadata": {},
     "output_type": "execute_result"
    }
   ],
   "source": [
    "df_info[60:67, [:ID_Domherr, :Amtsart, :Amtsbeginn, :num_date_begin, :Amtsende, :num_date_end]]"
   ]
  },
  {
   "cell_type": "code",
   "execution_count": 55,
   "metadata": {},
   "outputs": [
    {
     "data": {
      "text/plain": [
       "(38067, 23)"
      ]
     },
     "execution_count": 55,
     "metadata": {},
     "output_type": "execute_result"
    }
   ],
   "source": [
    "size(df_prp)"
   ]
  },
  {
   "cell_type": "markdown",
   "metadata": {},
   "source": [
    "*2022-05-20* Datenfehler in der Quelle korrigiert"
   ]
  },
  {
   "cell_type": "code",
   "execution_count": 126,
   "metadata": {},
   "outputs": [
    {
     "data": {
      "text/plain": [
       "fix_date (generic function with 1 method)"
      ]
     },
     "execution_count": 126,
     "metadata": {},
     "output_type": "execute_result"
    }
   ],
   "source": [
    "function fix_date(s)\n",
    "    if ismissing(s)\n",
    "        return s\n",
    "    end\n",
    "    return replace(s, \"1 Hälfte\" => \"1. Hälfte\", \"14 Jahr\" => \"14. Jahr\", \"Beginn16\" => \"Beginn 16\")\n",
    "end"
   ]
  },
  {
   "cell_type": "code",
   "execution_count": 127,
   "metadata": {},
   "outputs": [],
   "source": [
    "transform!(df_prp_r, :Amtsbeginn => ByRow(fix_date) => :Amtsbeginn);"
   ]
  },
  {
   "cell_type": "code",
   "execution_count": 128,
   "metadata": {},
   "outputs": [],
   "source": [
    "transform!(df_prp_r, :Amtsende => ByRow(fix_date) => :Amtsende);"
   ]
  },
  {
   "cell_type": "code",
   "execution_count": 56,
   "metadata": {},
   "outputs": [
    {
     "name": "stderr",
     "output_type": "stream",
     "text": [
      "┌ Warning: could not parse \n",
      "│   s = zwischen 1101\n",
      "└ @ WiagDataSetup C:\\Users\\georg\\Documents\\projekte\\WiagDataSetup.jl\\src\\WiagDataSetup.jl:1539\n",
      "┌ Warning: could not parse \n",
      "│   s = (1553) 1560\n",
      "└ @ WiagDataSetup C:\\Users\\georg\\Documents\\projekte\\WiagDataSetup.jl\\src\\WiagDataSetup.jl:1539\n",
      "┌ Warning: could not parse \n",
      "│   s = (1574) 1593\n",
      "└ @ WiagDataSetup C:\\Users\\georg\\Documents\\projekte\\WiagDataSetup.jl\\src\\WiagDataSetup.jl:1539\n",
      "┌ Warning: could not parse \n",
      "│   s = t 1567\n",
      "└ @ WiagDataSetup C:\\Users\\georg\\Documents\\projekte\\WiagDataSetup.jl\\src\\WiagDataSetup.jl:1539\n",
      "┌ Warning: could not parse \n",
      "│   s = zwischen 1101\n",
      "└ @ WiagDataSetup C:\\Users\\georg\\Documents\\projekte\\WiagDataSetup.jl\\src\\WiagDataSetup.jl:1539\n",
      "┌ Warning: could not parse \n",
      "│   s = (Bewerbung 1451)\n",
      "└ @ WiagDataSetup C:\\Users\\georg\\Documents\\projekte\\WiagDataSetup.jl\\src\\WiagDataSetup.jl:1539\n",
      "┌ Warning: could not parse \n",
      "│   s = [1068]\n",
      "└ @ WiagDataSetup C:\\Users\\georg\\Documents\\projekte\\WiagDataSetup.jl\\src\\WiagDataSetup.jl:1539\n",
      "┌ Warning: could not parse \n",
      "│   s = erneut 1239\n",
      "└ @ WiagDataSetup C:\\Users\\georg\\Documents\\projekte\\WiagDataSetup.jl\\src\\WiagDataSetup.jl:1539\n",
      "┌ Warning: could not parse \n",
      "│   s = [1068]\n",
      "└ @ WiagDataSetup C:\\Users\\georg\\Documents\\projekte\\WiagDataSetup.jl\\src\\WiagDataSetup.jl:1539\n",
      "┌ Warning: could not parse \n",
      "│   s = (1410 Provision)\n",
      "└ @ WiagDataSetup C:\\Users\\georg\\Documents\\projekte\\WiagDataSetup.jl\\src\\WiagDataSetup.jl:1539\n",
      "┌ Warning: could not parse \n",
      "│   s = (1460 Provision)\n",
      "└ @ WiagDataSetup C:\\Users\\georg\\Documents\\projekte\\WiagDataSetup.jl\\src\\WiagDataSetup.jl:1539\n",
      "┌ Warning: could not parse \n",
      "│   s = [1068]\n",
      "└ @ WiagDataSetup C:\\Users\\georg\\Documents\\projekte\\WiagDataSetup.jl\\src\\WiagDataSetup.jl:1539\n",
      "┌ Warning: could not parse \n",
      "│   s = (1215) (1235)\n",
      "└ @ WiagDataSetup C:\\Users\\georg\\Documents\\projekte\\WiagDataSetup.jl\\src\\WiagDataSetup.jl:1539\n",
      "┌ Warning: could not parse \n",
      "│   s = [1633?], 1638, 1646\n",
      "└ @ WiagDataSetup C:\\Users\\georg\\Documents\\projekte\\WiagDataSetup.jl\\src\\WiagDataSetup.jl:1539\n",
      "┌ Warning: could not parse \n",
      "│   s = [1452] 1467\n",
      "└ @ WiagDataSetup C:\\Users\\georg\\Documents\\projekte\\WiagDataSetup.jl\\src\\WiagDataSetup.jl:1539\n",
      "┌ Warning: could not parse \n",
      "│   s = (vor) 1515\n",
      "└ @ WiagDataSetup C:\\Users\\georg\\Documents\\projekte\\WiagDataSetup.jl\\src\\WiagDataSetup.jl:1539\n",
      "┌ Warning: could not parse \n",
      "│   s = (vor) 1521\n",
      "└ @ WiagDataSetup C:\\Users\\georg\\Documents\\projekte\\WiagDataSetup.jl\\src\\WiagDataSetup.jl:1539\n",
      "┌ Warning: could not parse \n",
      "│   s = [1239]\n",
      "└ @ WiagDataSetup C:\\Users\\georg\\Documents\\projekte\\WiagDataSetup.jl\\src\\WiagDataSetup.jl:1539\n",
      "┌ Warning: could not parse \n",
      "│   s = Feb. 1339\n",
      "└ @ WiagDataSetup C:\\Users\\georg\\Documents\\projekte\\WiagDataSetup.jl\\src\\WiagDataSetup.jl:1539\n",
      "┌ Warning: year out of range in \n",
      "│   s = 17681789\n",
      "└ @ WiagDataSetup C:\\Users\\georg\\Documents\\projekte\\WiagDataSetup.jl\\src\\WiagDataSetup.jl:1531\n",
      "┌ Warning: could not parse \n",
      "│   s = zw. 1123\n",
      "└ @ WiagDataSetup C:\\Users\\georg\\Documents\\projekte\\WiagDataSetup.jl\\src\\WiagDataSetup.jl:1539\n",
      "┌ Warning: could not parse \n",
      "│   s = zw. 1180\n",
      "└ @ WiagDataSetup C:\\Users\\georg\\Documents\\projekte\\WiagDataSetup.jl\\src\\WiagDataSetup.jl:1539\n",
      "┌ Warning: could not parse \n",
      "│   s = [1539?] 1543\n",
      "└ @ WiagDataSetup C:\\Users\\georg\\Documents\\projekte\\WiagDataSetup.jl\\src\\WiagDataSetup.jl:1539\n",
      "┌ Warning: could not parse \n",
      "│   s = [1241] 1248\n",
      "└ @ WiagDataSetup C:\\Users\\georg\\Documents\\projekte\\WiagDataSetup.jl\\src\\WiagDataSetup.jl:1539\n",
      "┌ Warning: could not parse \n",
      "│   s = [1188]\n",
      "└ @ WiagDataSetup C:\\Users\\georg\\Documents\\projekte\\WiagDataSetup.jl\\src\\WiagDataSetup.jl:1539\n",
      "┌ Warning: could not parse \n",
      "│   s = [1178] 1188\n",
      "└ @ WiagDataSetup C:\\Users\\georg\\Documents\\projekte\\WiagDataSetup.jl\\src\\WiagDataSetup.jl:1539\n",
      "┌ Warning: could not parse \n",
      "│   s = [1233] 1236\n",
      "└ @ WiagDataSetup C:\\Users\\georg\\Documents\\projekte\\WiagDataSetup.jl\\src\\WiagDataSetup.jl:1539\n",
      "┌ Warning: could not parse \n",
      "│   s = [1290 ca.]\n",
      "└ @ WiagDataSetup C:\\Users\\georg\\Documents\\projekte\\WiagDataSetup.jl\\src\\WiagDataSetup.jl:1539\n",
      "┌ Warning: could not parse \n",
      "│   s = [1235]\n",
      "└ @ WiagDataSetup C:\\Users\\georg\\Documents\\projekte\\WiagDataSetup.jl\\src\\WiagDataSetup.jl:1539\n",
      "┌ Warning: could not parse \n",
      "│   s = ab Mai 973\n",
      "└ @ WiagDataSetup C:\\Users\\georg\\Documents\\projekte\\WiagDataSetup.jl\\src\\WiagDataSetup.jl:1539\n",
      "┌ Warning: could not parse \n",
      "│   s = vor dem 28. Juni 1314\n",
      "└ @ WiagDataSetup C:\\Users\\georg\\Documents\\projekte\\WiagDataSetup.jl\\src\\WiagDataSetup.jl:1539\n",
      "┌ Warning: could not parse \n",
      "│   s = (1158), 1177\n",
      "└ @ WiagDataSetup C:\\Users\\georg\\Documents\\projekte\\WiagDataSetup.jl\\src\\WiagDataSetup.jl:1539\n",
      "┌ Warning: could not parse \n",
      "│   s = [1406/ 1407?]\n",
      "└ @ WiagDataSetup C:\\Users\\georg\\Documents\\projekte\\WiagDataSetup.jl\\src\\WiagDataSetup.jl:1539\n",
      "┌ Warning: could not parse \n",
      "│   s = [1449]\n",
      "└ @ WiagDataSetup C:\\Users\\georg\\Documents\\projekte\\WiagDataSetup.jl\\src\\WiagDataSetup.jl:1539\n",
      "┌ Warning: could not parse \n",
      "│   s = zw. 1180\n",
      "└ @ WiagDataSetup C:\\Users\\georg\\Documents\\projekte\\WiagDataSetup.jl\\src\\WiagDataSetup.jl:1539\n",
      "┌ Warning: could not parse \n",
      "│   s = (vor) 1411\n",
      "└ @ WiagDataSetup C:\\Users\\georg\\Documents\\projekte\\WiagDataSetup.jl\\src\\WiagDataSetup.jl:1539\n",
      "┌ Warning: could not parse \n",
      "│   s = (vor) 1398\n",
      "└ @ WiagDataSetup C:\\Users\\georg\\Documents\\projekte\\WiagDataSetup.jl\\src\\WiagDataSetup.jl:1539\n",
      "┌ Warning: could not parse \n",
      "│   s = (1158), 1177\n",
      "└ @ WiagDataSetup C:\\Users\\georg\\Documents\\projekte\\WiagDataSetup.jl\\src\\WiagDataSetup.jl:1539\n",
      "┌ Warning: could not parse \n",
      "│   s = keine Angabe\n",
      "└ @ WiagDataSetup C:\\Users\\georg\\Documents\\projekte\\WiagDataSetup.jl\\src\\WiagDataSetup.jl:1539\n",
      "┌ Warning: could not parse \n",
      "│   s = erneut 1239\n",
      "└ @ WiagDataSetup C:\\Users\\georg\\Documents\\projekte\\WiagDataSetup.jl\\src\\WiagDataSetup.jl:1539\n",
      "┌ Warning: could not parse \n",
      "│   s = erneut 1239\n",
      "└ @ WiagDataSetup C:\\Users\\georg\\Documents\\projekte\\WiagDataSetup.jl\\src\\WiagDataSetup.jl:1539\n",
      "┌ Warning: could not parse \n",
      "│   s = [1406/ 1407?]\n",
      "└ @ WiagDataSetup C:\\Users\\georg\\Documents\\projekte\\WiagDataSetup.jl\\src\\WiagDataSetup.jl:1539\n",
      "┌ Warning: could not parse \n",
      "│   s = (1313)\n",
      "└ @ WiagDataSetup C:\\Users\\georg\\Documents\\projekte\\WiagDataSetup.jl\\src\\WiagDataSetup.jl:1539\n",
      "┌ Warning: could not parse \n",
      "│   s = (1193\n",
      "└ @ WiagDataSetup C:\\Users\\georg\\Documents\\projekte\\WiagDataSetup.jl\\src\\WiagDataSetup.jl:1539\n",
      "┌ Warning: could not parse \n",
      "│   s = (1196)/1200\n",
      "└ @ WiagDataSetup C:\\Users\\georg\\Documents\\projekte\\WiagDataSetup.jl\\src\\WiagDataSetup.jl:1539\n",
      "┌ Warning: could not parse \n",
      "│   s = (1197) 1200\n",
      "└ @ WiagDataSetup C:\\Users\\georg\\Documents\\projekte\\WiagDataSetup.jl\\src\\WiagDataSetup.jl:1539\n",
      "┌ Warning: could not parse \n",
      "│   s = (1211) 1213\n",
      "└ @ WiagDataSetup C:\\Users\\georg\\Documents\\projekte\\WiagDataSetup.jl\\src\\WiagDataSetup.jl:1539\n",
      "┌ Warning: could not parse \n",
      "│   s = (1223) 1229\n",
      "└ @ WiagDataSetup C:\\Users\\georg\\Documents\\projekte\\WiagDataSetup.jl\\src\\WiagDataSetup.jl:1539\n",
      "┌ Warning: year out of range in \n",
      "│   s = 11279\n",
      "└ @ WiagDataSetup C:\\Users\\georg\\Documents\\projekte\\WiagDataSetup.jl\\src\\WiagDataSetup.jl:1531\n",
      "┌ Warning: could not parse \n",
      "│   s = _1429\n",
      "└ @ WiagDataSetup C:\\Users\\georg\\Documents\\projekte\\WiagDataSetup.jl\\src\\WiagDataSetup.jl:1539\n",
      "┌ Warning: could not parse \n",
      "│   s = (1319) 1341\n",
      "└ @ WiagDataSetup C:\\Users\\georg\\Documents\\projekte\\WiagDataSetup.jl\\src\\WiagDataSetup.jl:1539\n",
      "┌ Warning: could not parse \n",
      "│   s = (1193\n",
      "└ @ WiagDataSetup C:\\Users\\georg\\Documents\\projekte\\WiagDataSetup.jl\\src\\WiagDataSetup.jl:1539\n",
      "┌ Warning: could not parse \n",
      "│   s = ohne Angabe\n",
      "└ @ WiagDataSetup C:\\Users\\georg\\Documents\\projekte\\WiagDataSetup.jl\\src\\WiagDataSetup.jl:1539\n",
      "┌ Warning: could not parse \n",
      "│   s = ohne Angabe\n",
      "└ @ WiagDataSetup C:\\Users\\georg\\Documents\\projekte\\WiagDataSetup.jl\\src\\WiagDataSetup.jl:1539\n",
      "┌ Warning: could not parse \n",
      "│   s = keine Angabe\n",
      "└ @ WiagDataSetup C:\\Users\\georg\\Documents\\projekte\\WiagDataSetup.jl\\src\\WiagDataSetup.jl:1539\n",
      "┌ Warning: could not parse \n",
      "│   s = keine Angabe\n",
      "└ @ WiagDataSetup C:\\Users\\georg\\Documents\\projekte\\WiagDataSetup.jl\\src\\WiagDataSetup.jl:1539\n",
      "┌ Warning: could not parse \n",
      "│   s = ohne Angabe\n",
      "└ @ WiagDataSetup C:\\Users\\georg\\Documents\\projekte\\WiagDataSetup.jl\\src\\WiagDataSetup.jl:1539\n",
      "┌ Warning: could not parse \n",
      "│   s = ohne Angabe\n",
      "└ @ WiagDataSetup C:\\Users\\georg\\Documents\\projekte\\WiagDataSetup.jl\\src\\WiagDataSetup.jl:1539\n",
      "┌ Warning: could not parse \n",
      "│   s = ohne Angabe\n",
      "└ @ WiagDataSetup C:\\Users\\georg\\Documents\\projekte\\WiagDataSetup.jl\\src\\WiagDataSetup.jl:1539\n",
      "┌ Warning: could not parse \n",
      "│   s = ohne Angabe\n",
      "└ @ WiagDataSetup C:\\Users\\georg\\Documents\\projekte\\WiagDataSetup.jl\\src\\WiagDataSetup.jl:1539\n",
      "┌ Warning: could not parse \n",
      "│   s = ohne Angabe\n",
      "└ @ WiagDataSetup C:\\Users\\georg\\Documents\\projekte\\WiagDataSetup.jl\\src\\WiagDataSetup.jl:1539\n",
      "┌ Warning: could not parse \n",
      "│   s = ohne Angabe\n",
      "└ @ WiagDataSetup C:\\Users\\georg\\Documents\\projekte\\WiagDataSetup.jl\\src\\WiagDataSetup.jl:1539\n",
      "┌ Warning: could not parse \n",
      "│   s = ohne Angabe\n",
      "└ @ WiagDataSetup C:\\Users\\georg\\Documents\\projekte\\WiagDataSetup.jl\\src\\WiagDataSetup.jl:1539\n",
      "┌ Warning: could not parse \n",
      "│   s = ·1209\n",
      "└ @ WiagDataSetup C:\\Users\\georg\\Documents\\projekte\\WiagDataSetup.jl\\src\\WiagDataSetup.jl:1539\n",
      "┌ Warning: could not parse \n",
      "│   s = 2\n",
      "└ @ WiagDataSetup C:\\Users\\georg\\Documents\\projekte\\WiagDataSetup.jl\\src\\WiagDataSetup.jl:1539\n",
      "┌ Warning: year out of range in \n",
      "│   s = 301626\n",
      "└ @ WiagDataSetup C:\\Users\\georg\\Documents\\projekte\\WiagDataSetup.jl\\src\\WiagDataSetup.jl:1531\n",
      "┌ Warning: could not parse \n",
      "│   s = 6\n",
      "└ @ WiagDataSetup C:\\Users\\georg\\Documents\\projekte\\WiagDataSetup.jl\\src\\WiagDataSetup.jl:1539\n",
      "┌ Warning: could not parse \n",
      "│   s = [1447–]1450 Provision\n",
      "└ @ WiagDataSetup C:\\Users\\georg\\Documents\\projekte\\WiagDataSetup.jl\\src\\WiagDataSetup.jl:1539\n",
      "┌ Warning: could not parse \n",
      "│   s = (vor) 1465\n",
      "└ @ WiagDataSetup C:\\Users\\georg\\Documents\\projekte\\WiagDataSetup.jl\\src\\WiagDataSetup.jl:1539\n",
      "┌ Warning: year out of range in \n",
      "│   s = 91690\n",
      "└ @ WiagDataSetup C:\\Users\\georg\\Documents\\projekte\\WiagDataSetup.jl\\src\\WiagDataSetup.jl:1531\n"
     ]
    },
    {
     "name": "stderr",
     "output_type": "stream",
     "text": [
      "┌ Warning: could not parse \n",
      "│   s = 1\n",
      "└ @ WiagDataSetup C:\\Users\\georg\\Documents\\projekte\\WiagDataSetup.jl\\src\\WiagDataSetup.jl:1539\n",
      "┌ Warning: could not parse \n",
      "│   s = ohne Angabe\n",
      "└ @ WiagDataSetup C:\\Users\\georg\\Documents\\projekte\\WiagDataSetup.jl\\src\\WiagDataSetup.jl:1539\n",
      "┌ Warning: could not parse \n",
      "│   s = [1284]\n",
      "└ @ WiagDataSetup C:\\Users\\georg\\Documents\\projekte\\WiagDataSetup.jl\\src\\WiagDataSetup.jl:1539\n",
      "┌ Warning: could not parse \n",
      "│   s = [1309]\n",
      "└ @ WiagDataSetup C:\\Users\\georg\\Documents\\projekte\\WiagDataSetup.jl\\src\\WiagDataSetup.jl:1539\n",
      "┌ Warning: could not parse \n",
      "│   s = ohne Angabe\n",
      "└ @ WiagDataSetup C:\\Users\\georg\\Documents\\projekte\\WiagDataSetup.jl\\src\\WiagDataSetup.jl:1539\n",
      "┌ Warning: could not parse \n",
      "│   s = (1553) 1560\n",
      "└ @ WiagDataSetup C:\\Users\\georg\\Documents\\projekte\\WiagDataSetup.jl\\src\\WiagDataSetup.jl:1539\n"
     ]
    }
   ],
   "source": [
    "transform!(df_prp_r, :Amtsbeginn => ByRow(Wds.parse_year_sort) => :date_sort_key);"
   ]
  },
  {
   "cell_type": "markdown",
   "metadata": {},
   "source": [
    "*2022-05-12* In `tbl_Domherren_Aemter` enthalten 200 Einträge ein `†`. Das wird vor dem Parsen entfernt."
   ]
  },
  {
   "cell_type": "code",
   "execution_count": 57,
   "metadata": {},
   "outputs": [
    {
     "name": "stderr",
     "output_type": "stream",
     "text": [
      "┌ Warning: could not parse \n",
      "│   s = und 1118\n",
      "└ @ WiagDataSetup C:\\Users\\georg\\Documents\\projekte\\WiagDataSetup.jl\\src\\WiagDataSetup.jl:1539\n",
      "┌ Warning: could not parse \n",
      "│   s = res. 1399\n",
      "└ @ WiagDataSetup C:\\Users\\georg\\Documents\\projekte\\WiagDataSetup.jl\\src\\WiagDataSetup.jl:1539\n",
      "┌ Warning: could not parse \n",
      "│   s = t1529\n",
      "└ @ WiagDataSetup C:\\Users\\georg\\Documents\\projekte\\WiagDataSetup.jl\\src\\WiagDataSetup.jl:1539\n",
      "┌ Warning: could not parse \n",
      "│   s = t1547\n",
      "└ @ WiagDataSetup C:\\Users\\georg\\Documents\\projekte\\WiagDataSetup.jl\\src\\WiagDataSetup.jl:1539\n",
      "┌ Warning: could not parse \n",
      "│   s = und 1118\n",
      "└ @ WiagDataSetup C:\\Users\\georg\\Documents\\projekte\\WiagDataSetup.jl\\src\\WiagDataSetup.jl:1539\n",
      "┌ Warning: could not parse \n",
      "│   s = 1 1320 Aug. 22\n",
      "└ @ WiagDataSetup C:\\Users\\georg\\Documents\\projekte\\WiagDataSetup.jl\\src\\WiagDataSetup.jl:1539\n",
      "┌ Warning: could not parse \n",
      "│   s = [1223]\n",
      "└ @ WiagDataSetup C:\\Users\\georg\\Documents\\projekte\\WiagDataSetup.jl\\src\\WiagDataSetup.jl:1539\n",
      "┌ Warning: could not parse \n",
      "│   s = [1241]\n",
      "└ @ WiagDataSetup C:\\Users\\georg\\Documents\\projekte\\WiagDataSetup.jl\\src\\WiagDataSetup.jl:1539\n",
      "┌ Warning: could not parse \n",
      "│   s = u. 1148\n",
      "└ @ WiagDataSetup C:\\Users\\georg\\Documents\\projekte\\WiagDataSetup.jl\\src\\WiagDataSetup.jl:1539\n",
      "┌ Warning: could not parse \n",
      "│   s = u. 1188\n",
      "└ @ WiagDataSetup C:\\Users\\georg\\Documents\\projekte\\WiagDataSetup.jl\\src\\WiagDataSetup.jl:1539\n",
      "┌ Warning: could not parse \n",
      "│   s = nach Mai 1624\n",
      "└ @ WiagDataSetup C:\\Users\\georg\\Documents\\projekte\\WiagDataSetup.jl\\src\\WiagDataSetup.jl:1539\n",
      "┌ Warning: could not parse \n",
      "│   s = [1202]\n",
      "└ @ WiagDataSetup C:\\Users\\georg\\Documents\\projekte\\WiagDataSetup.jl\\src\\WiagDataSetup.jl:1539\n",
      "┌ Warning: could not parse \n",
      "│   s = [1801]\n",
      "└ @ WiagDataSetup C:\\Users\\georg\\Documents\\projekte\\WiagDataSetup.jl\\src\\WiagDataSetup.jl:1539\n",
      "┌ Warning: could not parse \n",
      "│   s = res. 1399\n",
      "└ @ WiagDataSetup C:\\Users\\georg\\Documents\\projekte\\WiagDataSetup.jl\\src\\WiagDataSetup.jl:1539\n",
      "┌ Warning: could not parse \n",
      "│   s = u. 1188\n",
      "└ @ WiagDataSetup C:\\Users\\georg\\Documents\\projekte\\WiagDataSetup.jl\\src\\WiagDataSetup.jl:1539\n",
      "┌ Warning: year out of range in \n",
      "│   s = 11289\n",
      "└ @ WiagDataSetup C:\\Users\\georg\\Documents\\projekte\\WiagDataSetup.jl\\src\\WiagDataSetup.jl:1531\n",
      "┌ Warning: could not parse \n",
      "│   s = (1038)\n",
      "└ @ WiagDataSetup C:\\Users\\georg\\Documents\\projekte\\WiagDataSetup.jl\\src\\WiagDataSetup.jl:1539\n",
      "┌ Warning: could not parse \n",
      "│   s = (1146)\n",
      "└ @ WiagDataSetup C:\\Users\\georg\\Documents\\projekte\\WiagDataSetup.jl\\src\\WiagDataSetup.jl:1539\n",
      "┌ Warning: could not parse \n",
      "│   s = (1176)\n",
      "└ @ WiagDataSetup C:\\Users\\georg\\Documents\\projekte\\WiagDataSetup.jl\\src\\WiagDataSetup.jl:1539\n",
      "┌ Warning: could not parse \n",
      "│   s = (1146)\n",
      "└ @ WiagDataSetup C:\\Users\\georg\\Documents\\projekte\\WiagDataSetup.jl\\src\\WiagDataSetup.jl:1539\n",
      "┌ Warning: could not parse \n",
      "│   s = (1183)\n",
      "└ @ WiagDataSetup C:\\Users\\georg\\Documents\\projekte\\WiagDataSetup.jl\\src\\WiagDataSetup.jl:1539\n",
      "┌ Warning: could not parse \n",
      "│   s = (1183)\n",
      "└ @ WiagDataSetup C:\\Users\\georg\\Documents\\projekte\\WiagDataSetup.jl\\src\\WiagDataSetup.jl:1539\n",
      "┌ Warning: could not parse \n",
      "│   s = (1177)\n",
      "└ @ WiagDataSetup C:\\Users\\georg\\Documents\\projekte\\WiagDataSetup.jl\\src\\WiagDataSetup.jl:1539\n",
      "┌ Warning: could not parse \n",
      "│   s = (1177)\n",
      "└ @ WiagDataSetup C:\\Users\\georg\\Documents\\projekte\\WiagDataSetup.jl\\src\\WiagDataSetup.jl:1539\n",
      "┌ Warning: could not parse \n",
      "│   s = (1225)\n",
      "└ @ WiagDataSetup C:\\Users\\georg\\Documents\\projekte\\WiagDataSetup.jl\\src\\WiagDataSetup.jl:1539\n",
      "┌ Warning: could not parse \n",
      "│   s = resigniert 1336\n",
      "└ @ WiagDataSetup C:\\Users\\georg\\Documents\\projekte\\WiagDataSetup.jl\\src\\WiagDataSetup.jl:1539\n",
      "┌ Warning: could not parse \n",
      "│   s = resigniert 1509\n",
      "└ @ WiagDataSetup C:\\Users\\georg\\Documents\\projekte\\WiagDataSetup.jl\\src\\WiagDataSetup.jl:1539\n",
      "┌ Warning: could not parse \n",
      "│   s = resigniert 1394?\n",
      "└ @ WiagDataSetup C:\\Users\\georg\\Documents\\projekte\\WiagDataSetup.jl\\src\\WiagDataSetup.jl:1539\n",
      "┌ Warning: could not parse \n",
      "│   s = resigniert 1531\n",
      "└ @ WiagDataSetup C:\\Users\\georg\\Documents\\projekte\\WiagDataSetup.jl\\src\\WiagDataSetup.jl:1539\n",
      "┌ Warning: could not parse \n",
      "│   s = resigniert 1544\n",
      "└ @ WiagDataSetup C:\\Users\\georg\\Documents\\projekte\\WiagDataSetup.jl\\src\\WiagDataSetup.jl:1539\n",
      "┌ Warning: could not parse \n",
      "│   s = resigniert 1529\n",
      "└ @ WiagDataSetup C:\\Users\\georg\\Documents\\projekte\\WiagDataSetup.jl\\src\\WiagDataSetup.jl:1539\n",
      "┌ Warning: could not parse \n",
      "│   s = resigniert 1379\n",
      "└ @ WiagDataSetup C:\\Users\\georg\\Documents\\projekte\\WiagDataSetup.jl\\src\\WiagDataSetup.jl:1539\n",
      "┌ Warning: could not parse \n",
      "│   s = resigniert 1505\n",
      "└ @ WiagDataSetup C:\\Users\\georg\\Documents\\projekte\\WiagDataSetup.jl\\src\\WiagDataSetup.jl:1539\n",
      "┌ Warning: could not parse \n",
      "│   s = resigniert 1432\n",
      "└ @ WiagDataSetup C:\\Users\\georg\\Documents\\projekte\\WiagDataSetup.jl\\src\\WiagDataSetup.jl:1539\n",
      "┌ Warning: could not parse \n",
      "│   s = resigniert 1530\n",
      "└ @ WiagDataSetup C:\\Users\\georg\\Documents\\projekte\\WiagDataSetup.jl\\src\\WiagDataSetup.jl:1539\n",
      "┌ Warning: could not parse \n",
      "│   s = resigniert 1443\n",
      "└ @ WiagDataSetup C:\\Users\\georg\\Documents\\projekte\\WiagDataSetup.jl\\src\\WiagDataSetup.jl:1539\n",
      "┌ Warning: could not parse \n",
      "│   s = resigniert 1531/32\n",
      "└ @ WiagDataSetup C:\\Users\\georg\\Documents\\projekte\\WiagDataSetup.jl\\src\\WiagDataSetup.jl:1539\n",
      "┌ Warning: could not parse \n",
      "│   s = resigniert 1547\n",
      "└ @ WiagDataSetup C:\\Users\\georg\\Documents\\projekte\\WiagDataSetup.jl\\src\\WiagDataSetup.jl:1539\n",
      "┌ Warning: could not parse \n",
      "│   s = resigniert 1560\n",
      "└ @ WiagDataSetup C:\\Users\\georg\\Documents\\projekte\\WiagDataSetup.jl\\src\\WiagDataSetup.jl:1539\n",
      "┌ Warning: could not parse \n",
      "│   s = resigniert 1472\n",
      "└ @ WiagDataSetup C:\\Users\\georg\\Documents\\projekte\\WiagDataSetup.jl\\src\\WiagDataSetup.jl:1539\n",
      "┌ Warning: could not parse \n",
      "│   s = resigniert 1424\n",
      "└ @ WiagDataSetup C:\\Users\\georg\\Documents\\projekte\\WiagDataSetup.jl\\src\\WiagDataSetup.jl:1539\n",
      "┌ Warning: could not parse \n",
      "│   s = resigniert 1438\n",
      "└ @ WiagDataSetup C:\\Users\\georg\\Documents\\projekte\\WiagDataSetup.jl\\src\\WiagDataSetup.jl:1539\n",
      "┌ Warning: could not parse \n",
      "│   s = resigniert 1541\n",
      "└ @ WiagDataSetup C:\\Users\\georg\\Documents\\projekte\\WiagDataSetup.jl\\src\\WiagDataSetup.jl:1539\n",
      "┌ Warning: could not parse \n",
      "│   s = resigniert 1529\n",
      "└ @ WiagDataSetup C:\\Users\\georg\\Documents\\projekte\\WiagDataSetup.jl\\src\\WiagDataSetup.jl:1539\n",
      "┌ Warning: could not parse \n",
      "│   s = resigniert 1382\n",
      "└ @ WiagDataSetup C:\\Users\\georg\\Documents\\projekte\\WiagDataSetup.jl\\src\\WiagDataSetup.jl:1539\n",
      "┌ Warning: could not parse \n",
      "│   s = resigniert 1402\n",
      "└ @ WiagDataSetup C:\\Users\\georg\\Documents\\projekte\\WiagDataSetup.jl\\src\\WiagDataSetup.jl:1539\n",
      "┌ Warning: could not parse \n",
      "│   s = resigniert 1469\n",
      "└ @ WiagDataSetup C:\\Users\\georg\\Documents\\projekte\\WiagDataSetup.jl\\src\\WiagDataSetup.jl:1539\n",
      "┌ Warning: could not parse \n",
      "│   s = resigniert 1402\n",
      "└ @ WiagDataSetup C:\\Users\\georg\\Documents\\projekte\\WiagDataSetup.jl\\src\\WiagDataSetup.jl:1539\n",
      "┌ Warning: could not parse \n",
      "│   s = resigniert 1516\n",
      "└ @ WiagDataSetup C:\\Users\\georg\\Documents\\projekte\\WiagDataSetup.jl\\src\\WiagDataSetup.jl:1539\n",
      "┌ Warning: could not parse \n",
      "│   s = Provision\n",
      "└ @ WiagDataSetup C:\\Users\\georg\\Documents\\projekte\\WiagDataSetup.jl\\src\\WiagDataSetup.jl:1539\n",
      "┌ Warning: could not parse \n",
      "│   s = resigniert 1499\n",
      "└ @ WiagDataSetup C:\\Users\\georg\\Documents\\projekte\\WiagDataSetup.jl\\src\\WiagDataSetup.jl:1539\n",
      "┌ Warning: could not parse \n",
      "│   s = resigniert 1568\n",
      "└ @ WiagDataSetup C:\\Users\\georg\\Documents\\projekte\\WiagDataSetup.jl\\src\\WiagDataSetup.jl:1539\n",
      "┌ Warning: could not parse \n",
      "│   s = resigniert 1459\n",
      "└ @ WiagDataSetup C:\\Users\\georg\\Documents\\projekte\\WiagDataSetup.jl\\src\\WiagDataSetup.jl:1539\n",
      "┌ Warning: could not parse \n",
      "│   s = resigniert 1515\n",
      "└ @ WiagDataSetup C:\\Users\\georg\\Documents\\projekte\\WiagDataSetup.jl\\src\\WiagDataSetup.jl:1539\n",
      "┌ Warning: could not parse \n",
      "│   s = resigniert 1524\n",
      "└ @ WiagDataSetup C:\\Users\\georg\\Documents\\projekte\\WiagDataSetup.jl\\src\\WiagDataSetup.jl:1539\n",
      "┌ Warning: could not parse \n",
      "│   s = resigniert 1440\n",
      "└ @ WiagDataSetup C:\\Users\\georg\\Documents\\projekte\\WiagDataSetup.jl\\src\\WiagDataSetup.jl:1539\n",
      "┌ Warning: could not parse \n",
      "│   s = resigniert 1459\n",
      "└ @ WiagDataSetup C:\\Users\\georg\\Documents\\projekte\\WiagDataSetup.jl\\src\\WiagDataSetup.jl:1539\n",
      "┌ Warning: could not parse \n",
      "│   s = resigniert 1553\n",
      "└ @ WiagDataSetup C:\\Users\\georg\\Documents\\projekte\\WiagDataSetup.jl\\src\\WiagDataSetup.jl:1539\n",
      "┌ Warning: could not parse \n",
      "│   s = resigniert 1492\n",
      "└ @ WiagDataSetup C:\\Users\\georg\\Documents\\projekte\\WiagDataSetup.jl\\src\\WiagDataSetup.jl:1539\n",
      "┌ Warning: could not parse \n",
      "│   s = resigniert 1497\n",
      "└ @ WiagDataSetup C:\\Users\\georg\\Documents\\projekte\\WiagDataSetup.jl\\src\\WiagDataSetup.jl:1539\n",
      "┌ Warning: could not parse \n",
      "│   s = resigniert 1521\n",
      "└ @ WiagDataSetup C:\\Users\\georg\\Documents\\projekte\\WiagDataSetup.jl\\src\\WiagDataSetup.jl:1539\n",
      "┌ Warning: could not parse \n",
      "│   s = resigniert 1504\n",
      "└ @ WiagDataSetup C:\\Users\\georg\\Documents\\projekte\\WiagDataSetup.jl\\src\\WiagDataSetup.jl:1539\n",
      "┌ Warning: could not parse \n",
      "│   s = resigniert 1481\n",
      "└ @ WiagDataSetup C:\\Users\\georg\\Documents\\projekte\\WiagDataSetup.jl\\src\\WiagDataSetup.jl:1539\n",
      "┌ Warning: could not parse \n",
      "│   s = resigniert 1455\n",
      "└ @ WiagDataSetup C:\\Users\\georg\\Documents\\projekte\\WiagDataSetup.jl\\src\\WiagDataSetup.jl:1539\n",
      "┌ Warning: could not parse \n",
      "│   s = resigniert 1427\n",
      "└ @ WiagDataSetup C:\\Users\\georg\\Documents\\projekte\\WiagDataSetup.jl\\src\\WiagDataSetup.jl:1539\n",
      "┌ Warning: could not parse \n",
      "│   s = resigniert 1387\n",
      "└ @ WiagDataSetup C:\\Users\\georg\\Documents\\projekte\\WiagDataSetup.jl\\src\\WiagDataSetup.jl:1539\n",
      "┌ Warning: could not parse \n",
      "│   s = resigniert 1408\n",
      "└ @ WiagDataSetup C:\\Users\\georg\\Documents\\projekte\\WiagDataSetup.jl\\src\\WiagDataSetup.jl:1539\n",
      "┌ Warning: could not parse \n",
      "│   s = resigniert 1544\n",
      "└ @ WiagDataSetup C:\\Users\\georg\\Documents\\projekte\\WiagDataSetup.jl\\src\\WiagDataSetup.jl:1539\n",
      "┌ Warning: could not parse \n",
      "│   s = resigniert 1426\n",
      "└ @ WiagDataSetup C:\\Users\\georg\\Documents\\projekte\\WiagDataSetup.jl\\src\\WiagDataSetup.jl:1539\n"
     ]
    },
    {
     "name": "stderr",
     "output_type": "stream",
     "text": [
      "┌ Warning: could not parse \n",
      "│   s = resigniert 1468\n",
      "└ @ WiagDataSetup C:\\Users\\georg\\Documents\\projekte\\WiagDataSetup.jl\\src\\WiagDataSetup.jl:1539\n",
      "┌ Warning: could not parse \n",
      "│   s = resigniert 1411\n",
      "└ @ WiagDataSetup C:\\Users\\georg\\Documents\\projekte\\WiagDataSetup.jl\\src\\WiagDataSetup.jl:1539\n",
      "┌ Warning: could not parse \n",
      "│   s = wahrscheinlich resigniert 1399\n",
      "└ @ WiagDataSetup C:\\Users\\georg\\Documents\\projekte\\WiagDataSetup.jl\\src\\WiagDataSetup.jl:1539\n",
      "┌ Warning: could not parse \n",
      "│   s = permutiert 1423\n",
      "└ @ WiagDataSetup C:\\Users\\georg\\Documents\\projekte\\WiagDataSetup.jl\\src\\WiagDataSetup.jl:1539\n",
      "┌ Warning: could not parse \n",
      "│   s = resigniert 1417\n",
      "└ @ WiagDataSetup C:\\Users\\georg\\Documents\\projekte\\WiagDataSetup.jl\\src\\WiagDataSetup.jl:1539\n",
      "┌ Warning: could not parse \n",
      "│   s = resigniert 1442\n",
      "└ @ WiagDataSetup C:\\Users\\georg\\Documents\\projekte\\WiagDataSetup.jl\\src\\WiagDataSetup.jl:1539\n",
      "┌ Warning: could not parse \n",
      "│   s = resigniert 1519\n",
      "└ @ WiagDataSetup C:\\Users\\georg\\Documents\\projekte\\WiagDataSetup.jl\\src\\WiagDataSetup.jl:1539\n",
      "┌ Warning: could not parse \n",
      "│   s = (resigniert 1489)\n",
      "└ @ WiagDataSetup C:\\Users\\georg\\Documents\\projekte\\WiagDataSetup.jl\\src\\WiagDataSetup.jl:1539\n",
      "┌ Warning: could not parse \n",
      "│   s = resigniert 1524\n",
      "└ @ WiagDataSetup C:\\Users\\georg\\Documents\\projekte\\WiagDataSetup.jl\\src\\WiagDataSetup.jl:1539\n",
      "┌ Warning: could not parse \n",
      "│   s = resigniert 1568\n",
      "└ @ WiagDataSetup C:\\Users\\georg\\Documents\\projekte\\WiagDataSetup.jl\\src\\WiagDataSetup.jl:1539\n",
      "┌ Warning: could not parse \n",
      "│   s = priviert 1398\n",
      "└ @ WiagDataSetup C:\\Users\\georg\\Documents\\projekte\\WiagDataSetup.jl\\src\\WiagDataSetup.jl:1539\n",
      "┌ Warning: could not parse \n",
      "│   s = permutiert 1426\n",
      "└ @ WiagDataSetup C:\\Users\\georg\\Documents\\projekte\\WiagDataSetup.jl\\src\\WiagDataSetup.jl:1539\n",
      "┌ Warning: could not parse \n",
      "│   s = t1568\n",
      "└ @ WiagDataSetup C:\\Users\\georg\\Documents\\projekte\\WiagDataSetup.jl\\src\\WiagDataSetup.jl:1539\n"
     ]
    }
   ],
   "source": [
    "transform!(df_prp_r, :Amtsende => ByRow(Wds.parse_year_sort) => :date_sort_key_replace);"
   ]
  },
  {
   "cell_type": "code",
   "execution_count": 63,
   "metadata": {},
   "outputs": [
    {
     "data": {
      "text/plain": [
       "9000900"
      ]
     },
     "execution_count": 63,
     "metadata": {},
     "output_type": "execute_result"
    }
   ],
   "source": [
    "maximum(df_prp_r.date_sort_key)"
   ]
  },
  {
   "cell_type": "code",
   "execution_count": 58,
   "metadata": {},
   "outputs": [
    {
     "data": {
      "text/plain": [
       "replace_if_missing (generic function with 1 method)"
      ]
     },
     "execution_count": 58,
     "metadata": {},
     "output_type": "execute_result"
    }
   ],
   "source": [
    "replace_if_missing(a, b) = a == 9000900 ? b : a"
   ]
  },
  {
   "cell_type": "code",
   "execution_count": 59,
   "metadata": {},
   "outputs": [],
   "source": [
    "transform!(df_prp_r, [:date_sort_key, :date_sort_key_replace] => ByRow(replace_if_missing) => :date_sort_key);"
   ]
  },
  {
   "cell_type": "code",
   "execution_count": 60,
   "metadata": {},
   "outputs": [
    {
     "data": {
      "text/plain": [
       "(38067, 1767)"
      ]
     },
     "execution_count": 60,
     "metadata": {},
     "output_type": "execute_result"
    }
   ],
   "source": [
    "size(df_prp_r, 1), count(isequal(9000900), df_prp_r.date_sort_key)"
   ]
  },
  {
   "cell_type": "code",
   "execution_count": 61,
   "metadata": {},
   "outputs": [],
   "source": [
    "df_info = dropmissing(df_prp_r, :Amtsart);"
   ]
  },
  {
   "cell_type": "code",
   "execution_count": 62,
   "metadata": {},
   "outputs": [
    {
     "data": {
      "text/html": [
       "<div class=\"data-frame\"><p>6 rows × 7 columns</p><table class=\"data-frame\"><thead><tr><th></th><th>Amtsart</th><th>ID_Amt_norm</th><th>role_id</th><th>Amtsbeginn</th><th>num_date_begin</th><th>num_date_end</th><th>date_sort_key</th></tr><tr><th></th><th title=\"String\">String</th><th title=\"Union{Missing, Int64}\">Int64?</th><th title=\"Union{Missing, Int32}\">Int32?</th><th title=\"Union{Missing, String}\">String?</th><th title=\"Union{Missing, Int64}\">Int64?</th><th title=\"Union{Missing, Int64}\">Int64?</th><th title=\"Int64\">Int64</th></tr></thead><tbody><tr><th>1</th><td>Archidiakon</td><td>5</td><td>489576</td><td>vor 1707</td><td>1657</td><td><em>missing</em></td><td>1707100</td></tr><tr><th>2</th><td>Archidiakon</td><td>5</td><td>489576</td><td>vor 1755</td><td>1705</td><td><em>missing</em></td><td>1755100</td></tr><tr><th>3</th><td>Archidiakon</td><td>5</td><td>489576</td><td>1712</td><td>1712</td><td>1753</td><td>1712150</td></tr><tr><th>4</th><td>Archidiakon</td><td>5</td><td>489576</td><td>1784</td><td>1784</td><td>1791</td><td>1784150</td></tr><tr><th>5</th><td>Archidiakon</td><td>5</td><td>489576</td><td>1791</td><td>1791</td><td>1792</td><td>1791150</td></tr><tr><th>6</th><td>Archidiakon</td><td>5</td><td>489576</td><td>1757</td><td>1757</td><td>1771</td><td>1757150</td></tr></tbody></table></div>"
      ],
      "text/latex": [
       "\\begin{tabular}{r|ccccccc}\n",
       "\t& Amtsart & ID\\_Amt\\_norm & role\\_id & Amtsbeginn & num\\_date\\_begin & num\\_date\\_end & date\\_sort\\_key\\\\\n",
       "\t\\hline\n",
       "\t& String & Int64? & Int32? & String? & Int64? & Int64? & Int64\\\\\n",
       "\t\\hline\n",
       "\t1 & Archidiakon & 5 & 489576 & vor 1707 & 1657 & \\emph{missing} & 1707100 \\\\\n",
       "\t2 & Archidiakon & 5 & 489576 & vor 1755 & 1705 & \\emph{missing} & 1755100 \\\\\n",
       "\t3 & Archidiakon & 5 & 489576 & 1712 & 1712 & 1753 & 1712150 \\\\\n",
       "\t4 & Archidiakon & 5 & 489576 & 1784 & 1784 & 1791 & 1784150 \\\\\n",
       "\t5 & Archidiakon & 5 & 489576 & 1791 & 1791 & 1792 & 1791150 \\\\\n",
       "\t6 & Archidiakon & 5 & 489576 & 1757 & 1757 & 1771 & 1757150 \\\\\n",
       "\\end{tabular}\n"
      ],
      "text/plain": [
       "\u001b[1m6×7 DataFrame\u001b[0m\n",
       "\u001b[1m Row \u001b[0m│\u001b[1m Amtsart     \u001b[0m\u001b[1m ID_Amt_norm \u001b[0m\u001b[1m role_id \u001b[0m\u001b[1m Amtsbeginn \u001b[0m\u001b[1m num_date_begin \u001b[0m\u001b[1m num_date\u001b[0m ⋯\n",
       "\u001b[1m     \u001b[0m│\u001b[90m String      \u001b[0m\u001b[90m Int64?      \u001b[0m\u001b[90m Int32?  \u001b[0m\u001b[90m String?    \u001b[0m\u001b[90m Int64?         \u001b[0m\u001b[90m Int64?  \u001b[0m ⋯\n",
       "─────┼──────────────────────────────────────────────────────────────────────────\n",
       "   1 │ Archidiakon            5   489576  vor 1707              1657 \u001b[90m      mis\u001b[0m ⋯\n",
       "   2 │ Archidiakon            5   489576  vor 1755              1705 \u001b[90m      mis\u001b[0m\n",
       "   3 │ Archidiakon            5   489576  1712                  1712\n",
       "   4 │ Archidiakon            5   489576  1784                  1784\n",
       "   5 │ Archidiakon            5   489576  1791                  1791           ⋯\n",
       "   6 │ Archidiakon            5   489576  1757                  1757\n",
       "\u001b[36m                                                               2 columns omitted\u001b[0m"
      ]
     },
     "execution_count": 62,
     "metadata": {},
     "output_type": "execute_result"
    }
   ],
   "source": [
    "df_info[100:105, [:Amtsart, :ID_Amt_norm, :role_id, :Amtsbeginn, :num_date_begin, :num_date_end, :date_sort_key]]"
   ]
  },
  {
   "cell_type": "markdown",
   "metadata": {},
   "source": [
    "Einträge für diesen Item_Typ löschen"
   ]
  },
  {
   "cell_type": "code",
   "execution_count": 63,
   "metadata": {},
   "outputs": [
    {
     "data": {
      "text/plain": [
       "MySQL.TextCursor{true}(MySQL.Connection(host=\"127.0.0.1\", user=\"georg\", port=\"3306\", db=\"wiag2\"), \"DELETE FROM person_role WHERE person_id IN \\n(SELECT id FROM item WHERE item_type_id = 5)\", 0, -1, 38067, MySQL.API.MYSQL_RES(Ptr{Nothing} @0x0000000000000000), Symbol[], Type[], Dict{Symbol, Int64}(), 0, 1, false)"
      ]
     },
     "execution_count": 63,
     "metadata": {},
     "output_type": "execute_result"
    }
   ],
   "source": [
    "table_name = \"person_role\"\n",
    "sql = \"DELETE FROM $(table_name) WHERE person_id IN \n",
    "(SELECT id FROM item WHERE item_type_id = $(item_type_id))\"\n",
    "DBInterface.execute(Wds.dbwiag, sql)"
   ]
  },
  {
   "cell_type": "markdown",
   "metadata": {},
   "source": [
    "Daten schreiben\n",
    "\n",
    "Schreibe für alle Bistümer - auch für die identifizierten - den Namen des Bistums in die Tabelle.  \n",
    "Schreibe für alle Institutionen - auch für die identifizieren - die Bezeichnung in die Tabelle.  \n",
    "Schreibe für alle Ämter - auch für die identifizieren - die Bezeichnung in die Tabelle.\n",
    "\n",
    "Erzeuge die IDs selbst, um sie für `person_role_property` zur Verfügung zu haben."
   ]
  },
  {
   "cell_type": "code",
   "execution_count": 64,
   "metadata": {},
   "outputs": [
    {
     "data": {
      "text/html": [
       "<div class=\"data-frame\"><p>1 rows × 1 columns</p><table class=\"data-frame\"><thead><tr><th></th><th>next_id</th></tr><tr><th></th><th title=\"Union{Missing, Int64}\">Int64?</th></tr></thead><tbody><tr><th>1</th><td>770296</td></tr></tbody></table></div>"
      ],
      "text/latex": [
       "\\begin{tabular}{r|c}\n",
       "\t& next\\_id\\\\\n",
       "\t\\hline\n",
       "\t& Int64?\\\\\n",
       "\t\\hline\n",
       "\t1 & 770296 \\\\\n",
       "\\end{tabular}\n"
      ],
      "text/plain": [
       "\u001b[1m1×1 DataFrame\u001b[0m\n",
       "\u001b[1m Row \u001b[0m│\u001b[1m next_id \u001b[0m\n",
       "\u001b[1m     \u001b[0m│\u001b[90m Int64?  \u001b[0m\n",
       "─────┼─────────\n",
       "   1 │  770296"
      ]
     },
     "execution_count": 64,
     "metadata": {},
     "output_type": "execute_result"
    }
   ],
   "source": [
    "table_name = \"person_role\"\n",
    "sql = \"SELECT MAX(id) + 1 AS next_id FROM $(table_name)\"\n",
    "df_next_id = Wds.sql_df(sql)"
   ]
  },
  {
   "cell_type": "code",
   "execution_count": 65,
   "metadata": {},
   "outputs": [
    {
     "data": {
      "text/plain": [
       "770297"
      ]
     },
     "execution_count": 65,
     "metadata": {},
     "output_type": "execute_result"
    }
   ],
   "source": [
    "next_id = df_next_id[1, :next_id] + 1"
   ]
  },
  {
   "cell_type": "code",
   "execution_count": 66,
   "metadata": {},
   "outputs": [],
   "source": [
    "df_prp_r[!, :id] .= collect(next_id:(next_id + size(df_prp_r, 1) - 1));"
   ]
  },
  {
   "cell_type": "code",
   "execution_count": 67,
   "metadata": {},
   "outputs": [
    {
     "data": {
      "text/html": [
       "<div class=\"data-frame\"><p>7 rows × 5 columns</p><table class=\"data-frame\"><thead><tr><th></th><th>id</th><th>person_id</th><th>ID_Domherr</th><th>Amtsart</th><th>ID_Amt</th></tr><tr><th></th><th title=\"Int64\">Int64</th><th title=\"Union{Missing, Int32}\">Int32?</th><th title=\"Int64\">Int64</th><th title=\"Union{Missing, String}\">String?</th><th title=\"Int64\">Int64</th></tr></thead><tbody><tr><th>1</th><td>771297</td><td>465525</td><td>44124</td><td>Domdekan</td><td>58662</td></tr><tr><th>2</th><td>771298</td><td>465524</td><td>44125</td><td>Domdekan</td><td>58663</td></tr><tr><th>3</th><td>771299</td><td>465523</td><td>44126</td><td>Domdekan</td><td>58664</td></tr><tr><th>4</th><td>771300</td><td>454650</td><td>25444</td><td><em>missing</em></td><td>58665</td></tr><tr><th>5</th><td>771301</td><td>455387</td><td>26250</td><td><em>missing</em></td><td>58666</td></tr><tr><th>6</th><td>771302</td><td>455184</td><td>26008</td><td><em>missing</em></td><td>58667</td></tr><tr><th>7</th><td>771303</td><td>455184</td><td>26008</td><td><em>missing</em></td><td>58668</td></tr></tbody></table></div>"
      ],
      "text/latex": [
       "\\begin{tabular}{r|ccccc}\n",
       "\t& id & person\\_id & ID\\_Domherr & Amtsart & ID\\_Amt\\\\\n",
       "\t\\hline\n",
       "\t& Int64 & Int32? & Int64 & String? & Int64\\\\\n",
       "\t\\hline\n",
       "\t1 & 771297 & 465525 & 44124 & Domdekan & 58662 \\\\\n",
       "\t2 & 771298 & 465524 & 44125 & Domdekan & 58663 \\\\\n",
       "\t3 & 771299 & 465523 & 44126 & Domdekan & 58664 \\\\\n",
       "\t4 & 771300 & 454650 & 25444 & \\emph{missing} & 58665 \\\\\n",
       "\t5 & 771301 & 455387 & 26250 & \\emph{missing} & 58666 \\\\\n",
       "\t6 & 771302 & 455184 & 26008 & \\emph{missing} & 58667 \\\\\n",
       "\t7 & 771303 & 455184 & 26008 & \\emph{missing} & 58668 \\\\\n",
       "\\end{tabular}\n"
      ],
      "text/plain": [
       "\u001b[1m7×5 DataFrame\u001b[0m\n",
       "\u001b[1m Row \u001b[0m│\u001b[1m id     \u001b[0m\u001b[1m person_id \u001b[0m\u001b[1m ID_Domherr \u001b[0m\u001b[1m Amtsart  \u001b[0m\u001b[1m ID_Amt \u001b[0m\n",
       "\u001b[1m     \u001b[0m│\u001b[90m Int64  \u001b[0m\u001b[90m Int32?    \u001b[0m\u001b[90m Int64      \u001b[0m\u001b[90m String?  \u001b[0m\u001b[90m Int64  \u001b[0m\n",
       "─────┼─────────────────────────────────────────────────\n",
       "   1 │ 771297     465525       44124  Domdekan   58662\n",
       "   2 │ 771298     465524       44125  Domdekan   58663\n",
       "   3 │ 771299     465523       44126  Domdekan   58664\n",
       "   4 │ 771300     454650       25444 \u001b[90m missing  \u001b[0m  58665\n",
       "   5 │ 771301     455387       26250 \u001b[90m missing  \u001b[0m  58666\n",
       "   6 │ 771302     455184       26008 \u001b[90m missing  \u001b[0m  58667\n",
       "   7 │ 771303     455184       26008 \u001b[90m missing  \u001b[0m  58668"
      ]
     },
     "execution_count": 67,
     "metadata": {},
     "output_type": "execute_result"
    }
   ],
   "source": [
    "df_prp_r[1001:1007, [:id, :person_id, :ID_Domherr, :Amtsart, :ID_Amt]]"
   ]
  },
  {
   "cell_type": "code",
   "execution_count": 68,
   "metadata": {},
   "outputs": [],
   "source": [
    "columns = [\n",
    "    :id => :id,\n",
    "    :Bistum => :diocese_name,\n",
    "    :Amtsbeginn => :date_begin,\n",
    "    :Amtsende => :date_end,\n",
    "    :Amt_Kommentar => :note,\n",
    "    :Sort => :display_order,\n",
    "    :Amtsart => :role_name,\n",
    "    :person_id => :person_id,\n",
    "    :diocese_id => :diocese_id,\n",
    "    :role_id => :role_id,\n",
    "    :institution_id => :institution_id,\n",
    "    :Institution => :institution_name,\n",
    "    :num_date_begin => :num_date_begin,\n",
    "    :num_date_end => :num_date_end,\n",
    "    :date_sort_key => :date_sort_key,\n",
    "];"
   ]
  },
  {
   "cell_type": "code",
   "execution_count": 69,
   "metadata": {},
   "outputs": [
    {
     "name": "stderr",
     "output_type": "stream",
     "text": [
      "┌ Info: 10000\n",
      "└ @ WiagDataSetup C:\\Users\\georg\\Documents\\projekte\\WiagDataSetup.jl\\src\\WiagDataSetup.jl:1193\n",
      "┌ Info: 20000\n",
      "└ @ WiagDataSetup C:\\Users\\georg\\Documents\\projekte\\WiagDataSetup.jl\\src\\WiagDataSetup.jl:1193\n",
      "┌ Info: 30000\n",
      "└ @ WiagDataSetup C:\\Users\\georg\\Documents\\projekte\\WiagDataSetup.jl\\src\\WiagDataSetup.jl:1193\n",
      "┌ Info: Rows inserted: 38067\n",
      "└ @ WiagDataSetup C:\\Users\\georg\\Documents\\projekte\\WiagDataSetup.jl\\src\\WiagDataSetup.jl:1216\n"
     ]
    },
    {
     "data": {
      "text/plain": [
       "38067"
      ]
     },
     "execution_count": 69,
     "metadata": {},
     "output_type": "execute_result"
    }
   ],
   "source": [
    "table_name = \"person_role\"\n",
    "Wds.filltable!(table_name, select(df_prp_r, columns))"
   ]
  },
  {
   "cell_type": "markdown",
   "metadata": {},
   "source": [
    "Titularbistum ist noch nicht eingetragen"
   ]
  },
  {
   "cell_type": "markdown",
   "metadata": {},
   "source": [
    "## Zeitspanne der Person"
   ]
  },
  {
   "cell_type": "code",
   "execution_count": 76,
   "metadata": {},
   "outputs": [],
   "source": [
    "table_name = \"person\"\n",
    "sql = \"SELECT id, num_date_birth, num_date_death\n",
    "FROM $(table_name) WHERE id in (SELECT id FROM item WHERE item_type_id = $(item_type_id))\"\n",
    "df_date = Wds.sql_df(sql);"
   ]
  },
  {
   "cell_type": "code",
   "execution_count": 77,
   "metadata": {},
   "outputs": [
    {
     "data": {
      "text/plain": [
       "(26023, 3)"
      ]
     },
     "execution_count": 77,
     "metadata": {},
     "output_type": "execute_result"
    }
   ],
   "source": [
    "size(df_date)"
   ]
  },
  {
   "cell_type": "markdown",
   "metadata": {},
   "source": [
    "Zeitspanne der Ämter"
   ]
  },
  {
   "cell_type": "code",
   "execution_count": 78,
   "metadata": {},
   "outputs": [
    {
     "data": {
      "text/html": [
       "<p><b>GroupedDataFrame with 25051 groups based on key: person_id</b></p><p><i>First Group (3 rows): person_id = 443845</i></p><div class=\"data-frame\"><table class=\"data-frame\"><thead><tr><th></th><th>person_id</th><th>num_date_begin</th></tr><tr><th></th><th title=\"Union{Missing, Int32}\">Int32?</th><th title=\"Int64\">Int64</th></tr></thead><tbody><tr><th>1</th><td>443845</td><td>1680</td></tr><tr><th>2</th><td>443845</td><td>1678</td></tr><tr><th>3</th><td>443845</td><td>1677</td></tr></tbody></table></div><p>&vellip;</p><p><i>Last Group (1 row): person_id = 469917</i></p><div class=\"data-frame\"><table class=\"data-frame\"><thead><tr><th></th><th>person_id</th><th>num_date_begin</th></tr><tr><th></th><th title=\"Union{Missing, Int32}\">Int32?</th><th title=\"Int64\">Int64</th></tr></thead><tbody><tr><th>1</th><td>469917</td><td>1475</td></tr></tbody></table></div>"
      ],
      "text/latex": [
       "GroupedDataFrame with 25051 groups based on key: person\\_id\n",
       "\n",
       "First Group (3 rows): person\\_id = 443845\n",
       "\n",
       "\\begin{tabular}{r|cc}\n",
       "\t& person\\_id & num\\_date\\_begin\\\\\n",
       "\t\\hline\n",
       "\t& Int32? & Int64\\\\\n",
       "\t\\hline\n",
       "\t1 & 443845 & 1680 \\\\\n",
       "\t2 & 443845 & 1678 \\\\\n",
       "\t3 & 443845 & 1677 \\\\\n",
       "\\end{tabular}\n",
       "\n",
       "$\\dots$\n",
       "\n",
       "Last Group (1 row): person\\_id = 469917\n",
       "\n",
       "\\begin{tabular}{r|cc}\n",
       "\t& person\\_id & num\\_date\\_begin\\\\\n",
       "\t\\hline\n",
       "\t& Int32? & Int64\\\\\n",
       "\t\\hline\n",
       "\t1 & 469917 & 1475 \\\\\n",
       "\\end{tabular}\n"
      ],
      "text/plain": [
       "GroupedDataFrame with 25051 groups based on key: person_id\n",
       "First Group (3 rows): person_id = 443845\n",
       "\u001b[1m Row \u001b[0m│\u001b[1m person_id \u001b[0m\u001b[1m num_date_begin \u001b[0m\n",
       "\u001b[1m     \u001b[0m│\u001b[90m Int32?    \u001b[0m\u001b[90m Int64          \u001b[0m\n",
       "─────┼───────────────────────────\n",
       "   1 │    443845            1680\n",
       "   2 │    443845            1678\n",
       "   3 │    443845            1677\n",
       "⋮\n",
       "Last Group (1 row): person_id = 469917\n",
       "\u001b[1m Row \u001b[0m│\u001b[1m person_id \u001b[0m\u001b[1m num_date_begin \u001b[0m\n",
       "\u001b[1m     \u001b[0m│\u001b[90m Int32?    \u001b[0m\u001b[90m Int64          \u001b[0m\n",
       "─────┼───────────────────────────\n",
       "   1 │    469917            1475"
      ]
     },
     "execution_count": 78,
     "metadata": {},
     "output_type": "execute_result"
    }
   ],
   "source": [
    "df_pr_begin_0 = dropmissing(df_prp_r, :num_date_begin)\n",
    "df_pr_begin = groupby(select(df_pr_begin_0, :person_id, :num_date_begin), :person_id)"
   ]
  },
  {
   "cell_type": "code",
   "execution_count": 79,
   "metadata": {},
   "outputs": [],
   "source": [
    "df_pr_date_min = combine(df_pr_begin, :num_date_begin => minimum => :date_min);"
   ]
  },
  {
   "cell_type": "code",
   "execution_count": 80,
   "metadata": {},
   "outputs": [
    {
     "data": {
      "text/plain": [
       "(25051, 2)"
      ]
     },
     "execution_count": 80,
     "metadata": {},
     "output_type": "execute_result"
    }
   ],
   "source": [
    "size(df_pr_date_min)"
   ]
  },
  {
   "cell_type": "code",
   "execution_count": 81,
   "metadata": {},
   "outputs": [
    {
     "data": {
      "text/html": [
       "<div class=\"data-frame\"><p>7 rows × 2 columns</p><table class=\"data-frame\"><thead><tr><th></th><th>person_id</th><th>date_min</th></tr><tr><th></th><th title=\"Union{Missing, Int32}\">Int32?</th><th title=\"Int64\">Int64</th></tr></thead><tbody><tr><th>1</th><td>446883</td><td>1434</td></tr><tr><th>2</th><td>446884</td><td>1441</td></tr><tr><th>3</th><td>446885</td><td>1435</td></tr><tr><th>4</th><td>446886</td><td>1437</td></tr><tr><th>5</th><td>446887</td><td>1435</td></tr><tr><th>6</th><td>446888</td><td>1439</td></tr><tr><th>7</th><td>446889</td><td>1436</td></tr></tbody></table></div>"
      ],
      "text/latex": [
       "\\begin{tabular}{r|cc}\n",
       "\t& person\\_id & date\\_min\\\\\n",
       "\t\\hline\n",
       "\t& Int32? & Int64\\\\\n",
       "\t\\hline\n",
       "\t1 & 446883 & 1434 \\\\\n",
       "\t2 & 446884 & 1441 \\\\\n",
       "\t3 & 446885 & 1435 \\\\\n",
       "\t4 & 446886 & 1437 \\\\\n",
       "\t5 & 446887 & 1435 \\\\\n",
       "\t6 & 446888 & 1439 \\\\\n",
       "\t7 & 446889 & 1436 \\\\\n",
       "\\end{tabular}\n"
      ],
      "text/plain": [
       "\u001b[1m7×2 DataFrame\u001b[0m\n",
       "\u001b[1m Row \u001b[0m│\u001b[1m person_id \u001b[0m\u001b[1m date_min \u001b[0m\n",
       "\u001b[1m     \u001b[0m│\u001b[90m Int32?    \u001b[0m\u001b[90m Int64    \u001b[0m\n",
       "─────┼─────────────────────\n",
       "   1 │    446883      1434\n",
       "   2 │    446884      1441\n",
       "   3 │    446885      1435\n",
       "   4 │    446886      1437\n",
       "   5 │    446887      1435\n",
       "   6 │    446888      1439\n",
       "   7 │    446889      1436"
      ]
     },
     "execution_count": 81,
     "metadata": {},
     "output_type": "execute_result"
    }
   ],
   "source": [
    "df_pr_date_min[3015:3021, :]"
   ]
  },
  {
   "cell_type": "markdown",
   "metadata": {},
   "source": [
    "`date_max`"
   ]
  },
  {
   "cell_type": "code",
   "execution_count": 82,
   "metadata": {},
   "outputs": [
    {
     "data": {
      "text/html": [
       "<p><b>GroupedDataFrame with 17703 groups based on key: person_id</b></p><p><i>First Group (3 rows): person_id = 443845</i></p><div class=\"data-frame\"><table class=\"data-frame\"><thead><tr><th></th><th>person_id</th><th>num_date_end</th></tr><tr><th></th><th title=\"Union{Missing, Int32}\">Int32?</th><th title=\"Int64\">Int64</th></tr></thead><tbody><tr><th>1</th><td>443845</td><td>1690</td></tr><tr><th>2</th><td>443845</td><td>1690</td></tr><tr><th>3</th><td>443845</td><td>1690</td></tr></tbody></table></div><p>&vellip;</p><p><i>Last Group (1 row): person_id = 469917</i></p><div class=\"data-frame\"><table class=\"data-frame\"><thead><tr><th></th><th>person_id</th><th>num_date_end</th></tr><tr><th></th><th title=\"Union{Missing, Int32}\">Int32?</th><th title=\"Int64\">Int64</th></tr></thead><tbody><tr><th>1</th><td>469917</td><td>1525</td></tr></tbody></table></div>"
      ],
      "text/latex": [
       "GroupedDataFrame with 17703 groups based on key: person\\_id\n",
       "\n",
       "First Group (3 rows): person\\_id = 443845\n",
       "\n",
       "\\begin{tabular}{r|cc}\n",
       "\t& person\\_id & num\\_date\\_end\\\\\n",
       "\t\\hline\n",
       "\t& Int32? & Int64\\\\\n",
       "\t\\hline\n",
       "\t1 & 443845 & 1690 \\\\\n",
       "\t2 & 443845 & 1690 \\\\\n",
       "\t3 & 443845 & 1690 \\\\\n",
       "\\end{tabular}\n",
       "\n",
       "$\\dots$\n",
       "\n",
       "Last Group (1 row): person\\_id = 469917\n",
       "\n",
       "\\begin{tabular}{r|cc}\n",
       "\t& person\\_id & num\\_date\\_end\\\\\n",
       "\t\\hline\n",
       "\t& Int32? & Int64\\\\\n",
       "\t\\hline\n",
       "\t1 & 469917 & 1525 \\\\\n",
       "\\end{tabular}\n"
      ],
      "text/plain": [
       "GroupedDataFrame with 17703 groups based on key: person_id\n",
       "First Group (3 rows): person_id = 443845\n",
       "\u001b[1m Row \u001b[0m│\u001b[1m person_id \u001b[0m\u001b[1m num_date_end \u001b[0m\n",
       "\u001b[1m     \u001b[0m│\u001b[90m Int32?    \u001b[0m\u001b[90m Int64        \u001b[0m\n",
       "─────┼─────────────────────────\n",
       "   1 │    443845          1690\n",
       "   2 │    443845          1690\n",
       "   3 │    443845          1690\n",
       "⋮\n",
       "Last Group (1 row): person_id = 469917\n",
       "\u001b[1m Row \u001b[0m│\u001b[1m person_id \u001b[0m\u001b[1m num_date_end \u001b[0m\n",
       "\u001b[1m     \u001b[0m│\u001b[90m Int32?    \u001b[0m\u001b[90m Int64        \u001b[0m\n",
       "─────┼─────────────────────────\n",
       "   1 │    469917          1525"
      ]
     },
     "execution_count": 82,
     "metadata": {},
     "output_type": "execute_result"
    }
   ],
   "source": [
    "df_pr_end_value = dropmissing(df_prp_r, :num_date_end)\n",
    "df_pr_end = groupby(select(df_pr_end_value, :person_id, :num_date_end), :person_id)"
   ]
  },
  {
   "cell_type": "code",
   "execution_count": 83,
   "metadata": {},
   "outputs": [],
   "source": [
    "df_pr_date_max = combine(df_pr_end, :num_date_end => maximum => :date_max);"
   ]
  },
  {
   "cell_type": "code",
   "execution_count": 84,
   "metadata": {},
   "outputs": [
    {
     "data": {
      "text/plain": [
       "(17703, 2)"
      ]
     },
     "execution_count": 84,
     "metadata": {},
     "output_type": "execute_result"
    }
   ],
   "source": [
    "size(df_pr_date_max)"
   ]
  },
  {
   "cell_type": "code",
   "execution_count": 85,
   "metadata": {},
   "outputs": [
    {
     "data": {
      "text/html": [
       "<div class=\"data-frame\"><p>7 rows × 2 columns</p><table class=\"data-frame\"><thead><tr><th></th><th>person_id</th><th>date_max</th></tr><tr><th></th><th title=\"Union{Missing, Int32}\">Int32?</th><th title=\"Int64\">Int64</th></tr></thead><tbody><tr><th>1</th><td>447786</td><td>1470</td></tr><tr><th>2</th><td>447787</td><td>1458</td></tr><tr><th>3</th><td>447788</td><td>1445</td></tr><tr><th>4</th><td>447789</td><td>1438</td></tr><tr><th>5</th><td>447790</td><td>1439</td></tr><tr><th>6</th><td>447791</td><td>1422</td></tr><tr><th>7</th><td>447792</td><td>1411</td></tr></tbody></table></div>"
      ],
      "text/latex": [
       "\\begin{tabular}{r|cc}\n",
       "\t& person\\_id & date\\_max\\\\\n",
       "\t\\hline\n",
       "\t& Int32? & Int64\\\\\n",
       "\t\\hline\n",
       "\t1 & 447786 & 1470 \\\\\n",
       "\t2 & 447787 & 1458 \\\\\n",
       "\t3 & 447788 & 1445 \\\\\n",
       "\t4 & 447789 & 1438 \\\\\n",
       "\t5 & 447790 & 1439 \\\\\n",
       "\t6 & 447791 & 1422 \\\\\n",
       "\t7 & 447792 & 1411 \\\\\n",
       "\\end{tabular}\n"
      ],
      "text/plain": [
       "\u001b[1m7×2 DataFrame\u001b[0m\n",
       "\u001b[1m Row \u001b[0m│\u001b[1m person_id \u001b[0m\u001b[1m date_max \u001b[0m\n",
       "\u001b[1m     \u001b[0m│\u001b[90m Int32?    \u001b[0m\u001b[90m Int64    \u001b[0m\n",
       "─────┼─────────────────────\n",
       "   1 │    447786      1470\n",
       "   2 │    447787      1458\n",
       "   3 │    447788      1445\n",
       "   4 │    447789      1438\n",
       "   5 │    447790      1439\n",
       "   6 │    447791      1422\n",
       "   7 │    447792      1411"
      ]
     },
     "execution_count": 85,
     "metadata": {},
     "output_type": "execute_result"
    }
   ],
   "source": [
    "df_pr_date_max[3015:3021, :]"
   ]
  },
  {
   "cell_type": "code",
   "execution_count": 86,
   "metadata": {},
   "outputs": [],
   "source": [
    "df_pr_date_min_mng = subset(df_pr_date_min, :person_id => ByRow(ismissing));"
   ]
  },
  {
   "cell_type": "code",
   "execution_count": 87,
   "metadata": {},
   "outputs": [
    {
     "data": {
      "text/plain": [
       "(0, 2)"
      ]
     },
     "execution_count": 87,
     "metadata": {},
     "output_type": "execute_result"
    }
   ],
   "source": [
    "size(df_pr_date_min_mng)"
   ]
  },
  {
   "cell_type": "code",
   "execution_count": 88,
   "metadata": {},
   "outputs": [],
   "source": [
    "subset!(df_pr_date_min, :person_id => ByRow(!ismissing));"
   ]
  },
  {
   "cell_type": "code",
   "execution_count": 89,
   "metadata": {},
   "outputs": [],
   "source": [
    "df_date = leftjoin(df_date, df_pr_date_min, on = :id => :person_id);"
   ]
  },
  {
   "cell_type": "code",
   "execution_count": 90,
   "metadata": {},
   "outputs": [],
   "source": [
    "subset!(df_pr_date_max, :person_id => ByRow(!ismissing));"
   ]
  },
  {
   "cell_type": "code",
   "execution_count": 91,
   "metadata": {},
   "outputs": [],
   "source": [
    "df_date = leftjoin(df_date, df_pr_date_max, on = :id => :person_id);"
   ]
  },
  {
   "cell_type": "markdown",
   "metadata": {},
   "source": [
    "Geburts- und Sterbedatum  \n",
    "Geburts- und Sterbedaten - so vorhanden - können die Zeitspanne nur verkürzen!"
   ]
  },
  {
   "cell_type": "code",
   "execution_count": 92,
   "metadata": {},
   "outputs": [],
   "source": [
    "min_may_be(x, y) = ismissing(x) ? y : (ismissing(y) ? x : min(x, y));\n",
    "max_may_be(x, y) = ismissing(x) ? y : (ismissing(y) ? x : max(x, y));"
   ]
  },
  {
   "cell_type": "code",
   "execution_count": 93,
   "metadata": {},
   "outputs": [],
   "source": [
    "transform!(df_date, [:date_min, :num_date_birth] => ByRow(max_may_be) => :date_min); # sic!"
   ]
  },
  {
   "cell_type": "code",
   "execution_count": 94,
   "metadata": {},
   "outputs": [],
   "source": [
    "transform!(df_date, [:date_max, :num_date_death] => ByRow(min_may_be) => :date_max); # sic!"
   ]
  },
  {
   "cell_type": "markdown",
   "metadata": {},
   "source": [
    "Übernimm' den jeweils gültigen Wert für fehlende Daten"
   ]
  },
  {
   "cell_type": "code",
   "execution_count": 95,
   "metadata": {},
   "outputs": [],
   "source": [
    "get_first_not_missing(x, y) = !ismissing(x) ? x : y;"
   ]
  },
  {
   "cell_type": "code",
   "execution_count": 96,
   "metadata": {},
   "outputs": [],
   "source": [
    "transform!(df_date, [:date_min, :date_max] => ByRow(get_first_not_missing) => :date_min);"
   ]
  },
  {
   "cell_type": "code",
   "execution_count": 97,
   "metadata": {},
   "outputs": [],
   "source": [
    "transform!(df_date, [:date_max, :date_min] => ByRow(get_first_not_missing) => :date_max);"
   ]
  },
  {
   "cell_type": "markdown",
   "metadata": {},
   "source": [
    "Damit sind Einträge mit fehlenden Daten entbehrlich"
   ]
  },
  {
   "cell_type": "code",
   "execution_count": 98,
   "metadata": {},
   "outputs": [],
   "source": [
    "dropmissing!(df_date, :date_min);"
   ]
  },
  {
   "cell_type": "markdown",
   "metadata": {},
   "source": [
    "Trage die geänderten Daten ein"
   ]
  },
  {
   "cell_type": "code",
   "execution_count": 99,
   "metadata": {},
   "outputs": [
    {
     "data": {
      "text/plain": [
       "3-element Vector{Pair{Symbol, Symbol}}:\n",
       "       :id => :id\n",
       " :date_min => :date_min\n",
       " :date_max => :date_max"
      ]
     },
     "execution_count": 99,
     "metadata": {},
     "output_type": "execute_result"
    }
   ],
   "source": [
    "columns = [\n",
    "    :id => :id,\n",
    "    :date_min => :date_min,\n",
    "    :date_max => :date_max\n",
    "]"
   ]
  },
  {
   "cell_type": "code",
   "execution_count": 100,
   "metadata": {},
   "outputs": [],
   "source": [
    "stmt = DBInterface.prepare(Wds.dbwiag, \"UPDATE person SET date_min = ?, date_max = ? WHERE id = ?\");"
   ]
  },
  {
   "cell_type": "code",
   "execution_count": 101,
   "metadata": {},
   "outputs": [
    {
     "data": {
      "text/plain": [
       "25123"
      ]
     },
     "execution_count": 101,
     "metadata": {},
     "output_type": "execute_result"
    }
   ],
   "source": [
    "n_loop = 1\n",
    "for row in eachrow(df_date)\n",
    "    date_min, date_max, id = row[[:date_min, :date_max, :id]]\n",
    "    DBInterface.execute(stmt, (date_min, date_max, id))\n",
    "    n_loop += 1\n",
    "end\n",
    "n_loop"
   ]
  },
  {
   "cell_type": "code",
   "execution_count": 102,
   "metadata": {},
   "outputs": [],
   "source": [
    "DBInterface.close!(stmt)"
   ]
  },
  {
   "cell_type": "markdown",
   "metadata": {},
   "source": [
    "*2022-01-17* Es gibt etliche Einträge für Personen mit Ämtern nach 2000?! \n",
    "```sql\n",
    "select p.id, id_in_source, item_type_id, givenname, familyname, date_min, date_max, edit_status, is_online\n",
    "from person as p join item on item.id = p.id and p.date_max > 2000;\n",
    "```"
   ]
  },
  {
   "cell_type": "markdown",
   "metadata": {},
   "source": [
    "## Archidiakonat"
   ]
  },
  {
   "cell_type": "code",
   "execution_count": 103,
   "metadata": {},
   "outputs": [
    {
     "name": "stdout",
     "output_type": "stream",
     "text": [
      "Bistum\n",
      "Amtsart\n",
      "Amtsbeginn\n",
      "Amtsende\n",
      "ID_Amt\n",
      "Institution\n",
      "Amt_weltlich\n",
      "Herrschaftsgebiet\n",
      "Ort\n",
      "Amt_Kommentar\n",
      "Sort\n",
      "Titularbistum\n",
      "Profession\n",
      "ID_Kloster\n",
      "ID_Fremdschlüssel\n",
      "Dignität\n",
      "ID_Domherr\n",
      "Archidiakonat\n",
      "Hilfsfeld_import\n",
      "ID_Amt_norm\n",
      "id_in_source\n",
      "person_id\n",
      "match_role_id\n",
      "role_name\n",
      "role_id\n",
      "diocese_id\n",
      "institution_id\n",
      "name\n",
      "institution_name\n",
      "num_date_begin\n",
      "num_date_end\n",
      "date_sort_key\n",
      "date_sort_key_replace\n",
      "id\n"
     ]
    }
   ],
   "source": [
    "println.(names(df_prp_r));"
   ]
  },
  {
   "cell_type": "code",
   "execution_count": 70,
   "metadata": {},
   "outputs": [
    {
     "data": {
      "text/plain": [
       "3-element Vector{Pair{Symbol, Symbol}}:\n",
       "            :id => :person_role_id\n",
       "     :person_id => :person_id\n",
       " :Archidiakonat => :value"
      ]
     },
     "execution_count": 70,
     "metadata": {},
     "output_type": "execute_result"
    }
   ],
   "source": [
    "columns = [\n",
    "    :id => :person_role_id,\n",
    "    :person_id => :person_id,\n",
    "    :Archidiakonat => :value\n",
    "]"
   ]
  },
  {
   "cell_type": "code",
   "execution_count": 71,
   "metadata": {},
   "outputs": [],
   "source": [
    "df_pr_property = select(df_prp_r, columns);"
   ]
  },
  {
   "cell_type": "code",
   "execution_count": 72,
   "metadata": {},
   "outputs": [],
   "source": [
    "dropmissing!(df_pr_property, :value);"
   ]
  },
  {
   "cell_type": "code",
   "execution_count": 73,
   "metadata": {},
   "outputs": [
    {
     "data": {
      "text/plain": [
       "(634, 3)"
      ]
     },
     "execution_count": 73,
     "metadata": {},
     "output_type": "execute_result"
    }
   ],
   "source": [
    "size(df_pr_property)"
   ]
  },
  {
   "cell_type": "code",
   "execution_count": 74,
   "metadata": {},
   "outputs": [],
   "source": [
    "df_pr_property[!, :name] .= \"Archidiakonat\";"
   ]
  },
  {
   "cell_type": "code",
   "execution_count": 75,
   "metadata": {},
   "outputs": [
    {
     "data": {
      "text/html": [
       "<div class=\"data-frame\"><p>8 rows × 4 columns</p><table class=\"data-frame\"><thead><tr><th></th><th>person_role_id</th><th>person_id</th><th>value</th><th>name</th></tr><tr><th></th><th title=\"Int64\">Int64</th><th title=\"Union{Missing, Int32}\">Int32?</th><th title=\"String\">String</th><th title=\"String\">String</th></tr></thead><tbody><tr><th>1</th><td>803591</td><td>467729</td><td>Ostgau</td><td>Archidiakonat</td></tr><tr><th>2</th><td>807228</td><td>447916</td><td>Dietkirchen</td><td>Archidiakonat</td></tr><tr><th>3</th><td>807229</td><td>448279</td><td>Dietkirchen</td><td>Archidiakonat</td></tr><tr><th>4</th><td>807230</td><td>447939</td><td>Karden</td><td>Archidiakonat</td></tr><tr><th>5</th><td>807231</td><td>447700</td><td>Dietkirchen</td><td>Archidiakonat</td></tr><tr><th>6</th><td>807232</td><td>466667</td><td>Schmedenstedt</td><td>Archidiakonat</td></tr><tr><th>7</th><td>807233</td><td>466663</td><td>Bevensen</td><td>Archidiakonat</td></tr><tr><th>8</th><td>807237</td><td>466125</td><td>Ossendorf</td><td>Archidiakonat</td></tr></tbody></table></div>"
      ],
      "text/latex": [
       "\\begin{tabular}{r|cccc}\n",
       "\t& person\\_role\\_id & person\\_id & value & name\\\\\n",
       "\t\\hline\n",
       "\t& Int64 & Int32? & String & String\\\\\n",
       "\t\\hline\n",
       "\t1 & 803591 & 467729 & Ostgau & Archidiakonat \\\\\n",
       "\t2 & 807228 & 447916 & Dietkirchen & Archidiakonat \\\\\n",
       "\t3 & 807229 & 448279 & Dietkirchen & Archidiakonat \\\\\n",
       "\t4 & 807230 & 447939 & Karden & Archidiakonat \\\\\n",
       "\t5 & 807231 & 447700 & Dietkirchen & Archidiakonat \\\\\n",
       "\t6 & 807232 & 466667 & Schmedenstedt & Archidiakonat \\\\\n",
       "\t7 & 807233 & 466663 & Bevensen & Archidiakonat \\\\\n",
       "\t8 & 807237 & 466125 & Ossendorf & Archidiakonat \\\\\n",
       "\\end{tabular}\n"
      ],
      "text/plain": [
       "\u001b[1m8×4 DataFrame\u001b[0m\n",
       "\u001b[1m Row \u001b[0m│\u001b[1m person_role_id \u001b[0m\u001b[1m person_id \u001b[0m\u001b[1m value         \u001b[0m\u001b[1m name          \u001b[0m\n",
       "\u001b[1m     \u001b[0m│\u001b[90m Int64          \u001b[0m\u001b[90m Int32?    \u001b[0m\u001b[90m String        \u001b[0m\u001b[90m String        \u001b[0m\n",
       "─────┼─────────────────────────────────────────────────────────\n",
       "   1 │         803591     467729  Ostgau         Archidiakonat\n",
       "   2 │         807228     447916  Dietkirchen    Archidiakonat\n",
       "   3 │         807229     448279  Dietkirchen    Archidiakonat\n",
       "   4 │         807230     447939  Karden         Archidiakonat\n",
       "   5 │         807231     447700  Dietkirchen    Archidiakonat\n",
       "   6 │         807232     466667  Schmedenstedt  Archidiakonat\n",
       "   7 │         807233     466663  Bevensen       Archidiakonat\n",
       "   8 │         807237     466125  Ossendorf      Archidiakonat"
      ]
     },
     "execution_count": 75,
     "metadata": {},
     "output_type": "execute_result"
    }
   ],
   "source": [
    "df_pr_property[407:414, :]"
   ]
  },
  {
   "cell_type": "code",
   "execution_count": 76,
   "metadata": {},
   "outputs": [],
   "source": [
    "table = \"role_property_type\"\n",
    "sql = \"SELECT * from $(table)\"\n",
    "df_rpt = Wds.sql_df(sql);"
   ]
  },
  {
   "cell_type": "code",
   "execution_count": 77,
   "metadata": {},
   "outputs": [
    {
     "data": {
      "text/html": [
       "<div class=\"data-frame\"><p>1 rows × 5 columns</p><table class=\"data-frame\"><thead><tr><th></th><th>id</th><th>name</th><th>label</th><th>comment</th><th>item_type_id</th></tr><tr><th></th><th title=\"Int32\">Int32</th><th title=\"String\">String</th><th title=\"String\">String</th><th title=\"Union{Missing, String}\">String?</th><th title=\"Int32\">Int32</th></tr></thead><tbody><tr><th>1</th><td>2</td><td>Archidiakonat</td><td>Archidiakonat</td><td><em>missing</em></td><td>5</td></tr></tbody></table></div>"
      ],
      "text/latex": [
       "\\begin{tabular}{r|ccccc}\n",
       "\t& id & name & label & comment & item\\_type\\_id\\\\\n",
       "\t\\hline\n",
       "\t& Int32 & String & String & String? & Int32\\\\\n",
       "\t\\hline\n",
       "\t1 & 2 & Archidiakonat & Archidiakonat & \\emph{missing} & 5 \\\\\n",
       "\\end{tabular}\n"
      ],
      "text/plain": [
       "\u001b[1m1×5 DataFrame\u001b[0m\n",
       "\u001b[1m Row \u001b[0m│\u001b[1m id    \u001b[0m\u001b[1m name          \u001b[0m\u001b[1m label         \u001b[0m\u001b[1m comment \u001b[0m\u001b[1m item_type_id \u001b[0m\n",
       "\u001b[1m     \u001b[0m│\u001b[90m Int32 \u001b[0m\u001b[90m String        \u001b[0m\u001b[90m String        \u001b[0m\u001b[90m String? \u001b[0m\u001b[90m Int32        \u001b[0m\n",
       "─────┼────────────────────────────────────────────────────────────\n",
       "   1 │     2  Archidiakonat  Archidiakonat \u001b[90m missing \u001b[0m            5"
      ]
     },
     "execution_count": 77,
     "metadata": {},
     "output_type": "execute_result"
    }
   ],
   "source": [
    "df_rpt"
   ]
  },
  {
   "cell_type": "code",
   "execution_count": 79,
   "metadata": {},
   "outputs": [
    {
     "data": {
      "text/plain": [
       "2"
      ]
     },
     "execution_count": 79,
     "metadata": {},
     "output_type": "execute_result"
    }
   ],
   "source": [
    "rec_archidiakonat = filter(:name => isequal(\"Archidiakonat\"), df_rpt)\n",
    "archidiakonat_id = rec_archidiakonat[1, :id]"
   ]
  },
  {
   "cell_type": "code",
   "execution_count": 81,
   "metadata": {},
   "outputs": [
    {
     "data": {
      "text/html": [
       "<div class=\"data-frame\"><p>634 rows × 5 columns</p><table class=\"data-frame\"><thead><tr><th></th><th>person_role_id</th><th>person_id</th><th>value</th><th>name</th><th>property_type_id</th></tr><tr><th></th><th title=\"Int64\">Int64</th><th title=\"Union{Missing, Int32}\">Int32?</th><th title=\"String\">String</th><th title=\"String\">String</th><th title=\"Int32\">Int32</th></tr></thead><tbody><tr><th>1</th><td>770298</td><td>465483</td><td>Mandelsloh</td><td>Archidiakonat</td><td>2</td></tr><tr><th>2</th><td>770299</td><td>453656</td><td>Elze</td><td>Archidiakonat</td><td>2</td></tr><tr><th>3</th><td>770300</td><td>453713</td><td>Hildesheim</td><td>Archidiakonat</td><td>2</td></tr><tr><th>4</th><td>770301</td><td>453711</td><td>Modestorpe</td><td>Archidiakonat</td><td>2</td></tr><tr><th>5</th><td>770302</td><td>453706</td><td>Bevensen</td><td>Archidiakonat</td><td>2</td></tr><tr><th>6</th><td>770303</td><td>453699</td><td>Stöckheim</td><td>Archidiakonat</td><td>2</td></tr><tr><th>7</th><td>770304</td><td>453696</td><td>Sarstedt</td><td>Archidiakonat</td><td>2</td></tr><tr><th>8</th><td>770305</td><td>453685</td><td>Alfeld</td><td>Archidiakonat</td><td>2</td></tr><tr><th>9</th><td>770306</td><td>453744</td><td>Elze</td><td>Archidiakonat</td><td>2</td></tr><tr><th>10</th><td>770307</td><td>447057</td><td>Elze</td><td>Archidiakonat</td><td>2</td></tr><tr><th>11</th><td>770308</td><td>447055</td><td>Peine und in der Heide</td><td>Archidiakonat</td><td>2</td></tr><tr><th>12</th><td>770309</td><td>447109</td><td>Sarstedt</td><td>Archidiakonat</td><td>2</td></tr><tr><th>13</th><td>770310</td><td>447108</td><td>Stöckheim</td><td>Archidiakonat</td><td>2</td></tr><tr><th>14</th><td>770313</td><td>444827</td><td>Wallensen</td><td>Archidiakonat</td><td>2</td></tr><tr><th>15</th><td>770314</td><td>444826</td><td>Elze</td><td>Archidiakonat</td><td>2</td></tr><tr><th>16</th><td>770315</td><td>444825</td><td>Nettlingen</td><td>Archidiakonat</td><td>2</td></tr><tr><th>17</th><td>770316</td><td>453654</td><td>Detfurth</td><td>Archidiakonat</td><td>2</td></tr><tr><th>18</th><td>770317</td><td>453654</td><td>Alfeld</td><td>Archidiakonat</td><td>2</td></tr><tr><th>19</th><td>770318</td><td>453648</td><td>Seesen</td><td>Archidiakonat</td><td>2</td></tr><tr><th>20</th><td>770319</td><td>453647</td><td>Elze</td><td>Archidiakonat</td><td>2</td></tr><tr><th>21</th><td>770320</td><td>453643</td><td>Hildesheim</td><td>Archidiakonat</td><td>2</td></tr><tr><th>22</th><td>770321</td><td>453640</td><td>Hildesheim</td><td>Archidiakonat</td><td>2</td></tr><tr><th>23</th><td>770322</td><td>453638</td><td>Borsum</td><td>Archidiakonat</td><td>2</td></tr><tr><th>24</th><td>770323</td><td>453638</td><td>Stöckheim</td><td>Archidiakonat</td><td>2</td></tr><tr><th>25</th><td>770324</td><td>453637</td><td>Sarstedt</td><td>Archidiakonat</td><td>2</td></tr><tr><th>26</th><td>770325</td><td>453635</td><td>Schmedenstedt</td><td>Archidiakonat</td><td>2</td></tr><tr><th>27</th><td>770326</td><td>453635</td><td>Stöckheim</td><td>Archidiakonat</td><td>2</td></tr><tr><th>28</th><td>770327</td><td>453676</td><td>Schmedenstedt</td><td>Archidiakonat</td><td>2</td></tr><tr><th>29</th><td>770328</td><td>453668</td><td>Nettlingen</td><td>Archidiakonat</td><td>2</td></tr><tr><th>30</th><td>770329</td><td>453760</td><td>Densdorf</td><td>Archidiakonat</td><td>2</td></tr><tr><th>&vellip;</th><td>&vellip;</td><td>&vellip;</td><td>&vellip;</td><td>&vellip;</td><td>&vellip;</td></tr></tbody></table></div>"
      ],
      "text/latex": [
       "\\begin{tabular}{r|ccccc}\n",
       "\t& person\\_role\\_id & person\\_id & value & name & property\\_type\\_id\\\\\n",
       "\t\\hline\n",
       "\t& Int64 & Int32? & String & String & Int32\\\\\n",
       "\t\\hline\n",
       "\t1 & 770298 & 465483 & Mandelsloh & Archidiakonat & 2 \\\\\n",
       "\t2 & 770299 & 453656 & Elze & Archidiakonat & 2 \\\\\n",
       "\t3 & 770300 & 453713 & Hildesheim & Archidiakonat & 2 \\\\\n",
       "\t4 & 770301 & 453711 & Modestorpe & Archidiakonat & 2 \\\\\n",
       "\t5 & 770302 & 453706 & Bevensen & Archidiakonat & 2 \\\\\n",
       "\t6 & 770303 & 453699 & Stöckheim & Archidiakonat & 2 \\\\\n",
       "\t7 & 770304 & 453696 & Sarstedt & Archidiakonat & 2 \\\\\n",
       "\t8 & 770305 & 453685 & Alfeld & Archidiakonat & 2 \\\\\n",
       "\t9 & 770306 & 453744 & Elze & Archidiakonat & 2 \\\\\n",
       "\t10 & 770307 & 447057 & Elze & Archidiakonat & 2 \\\\\n",
       "\t11 & 770308 & 447055 & Peine und in der Heide & Archidiakonat & 2 \\\\\n",
       "\t12 & 770309 & 447109 & Sarstedt & Archidiakonat & 2 \\\\\n",
       "\t13 & 770310 & 447108 & Stöckheim & Archidiakonat & 2 \\\\\n",
       "\t14 & 770313 & 444827 & Wallensen & Archidiakonat & 2 \\\\\n",
       "\t15 & 770314 & 444826 & Elze & Archidiakonat & 2 \\\\\n",
       "\t16 & 770315 & 444825 & Nettlingen & Archidiakonat & 2 \\\\\n",
       "\t17 & 770316 & 453654 & Detfurth & Archidiakonat & 2 \\\\\n",
       "\t18 & 770317 & 453654 & Alfeld & Archidiakonat & 2 \\\\\n",
       "\t19 & 770318 & 453648 & Seesen & Archidiakonat & 2 \\\\\n",
       "\t20 & 770319 & 453647 & Elze & Archidiakonat & 2 \\\\\n",
       "\t21 & 770320 & 453643 & Hildesheim & Archidiakonat & 2 \\\\\n",
       "\t22 & 770321 & 453640 & Hildesheim & Archidiakonat & 2 \\\\\n",
       "\t23 & 770322 & 453638 & Borsum & Archidiakonat & 2 \\\\\n",
       "\t24 & 770323 & 453638 & Stöckheim & Archidiakonat & 2 \\\\\n",
       "\t25 & 770324 & 453637 & Sarstedt & Archidiakonat & 2 \\\\\n",
       "\t26 & 770325 & 453635 & Schmedenstedt & Archidiakonat & 2 \\\\\n",
       "\t27 & 770326 & 453635 & Stöckheim & Archidiakonat & 2 \\\\\n",
       "\t28 & 770327 & 453676 & Schmedenstedt & Archidiakonat & 2 \\\\\n",
       "\t29 & 770328 & 453668 & Nettlingen & Archidiakonat & 2 \\\\\n",
       "\t30 & 770329 & 453760 & Densdorf & Archidiakonat & 2 \\\\\n",
       "\t$\\dots$ & $\\dots$ & $\\dots$ & $\\dots$ & $\\dots$ & $\\dots$ \\\\\n",
       "\\end{tabular}\n"
      ],
      "text/plain": [
       "\u001b[1m634×5 DataFrame\u001b[0m\n",
       "\u001b[1m Row \u001b[0m│\u001b[1m person_role_id \u001b[0m\u001b[1m person_id \u001b[0m\u001b[1m value                  \u001b[0m\u001b[1m name          \u001b[0m\u001b[1m prope\u001b[0m ⋯\n",
       "\u001b[1m     \u001b[0m│\u001b[90m Int64          \u001b[0m\u001b[90m Int32?    \u001b[0m\u001b[90m String                 \u001b[0m\u001b[90m String        \u001b[0m\u001b[90m Int32\u001b[0m ⋯\n",
       "─────┼──────────────────────────────────────────────────────────────────────────\n",
       "   1 │         770298     465483  Mandelsloh              Archidiakonat        ⋯\n",
       "   2 │         770299     453656  Elze                    Archidiakonat\n",
       "   3 │         770300     453713  Hildesheim              Archidiakonat\n",
       "   4 │         770301     453711  Modestorpe              Archidiakonat\n",
       "   5 │         770302     453706  Bevensen                Archidiakonat        ⋯\n",
       "   6 │         770303     453699  Stöckheim               Archidiakonat\n",
       "   7 │         770304     453696  Sarstedt                Archidiakonat\n",
       "   8 │         770305     453685  Alfeld                  Archidiakonat\n",
       "   9 │         770306     453744  Elze                    Archidiakonat        ⋯\n",
       "  10 │         770307     447057  Elze                    Archidiakonat\n",
       "  11 │         770308     447055  Peine und in der Heide  Archidiakonat\n",
       "  ⋮  │       ⋮             ⋮                ⋮                   ⋮              ⋱\n",
       " 625 │         807872     454322  Buchen                  Archidiakonat\n",
       " 626 │         808137     446660  St. Martian             Archidiakonat        ⋯\n",
       " 627 │         808138     446657  Bergamo                 Archidiakonat\n",
       " 628 │         808213     446740  Altmünster              Archidiakonat\n",
       " 629 │         808216     446699  Avranches               Archidiakonat\n",
       " 630 │         808242     453094  Halberstadt             Archidiakonat        ⋯\n",
       " 631 │         808246     452877  Rüstringen              Archidiakonat\n",
       " 632 │         808329     455134  Schweinfurt             Archidiakonat\n",
       " 633 │         808340     467156  Aarhus                  Archidiakonat\n",
       " 634 │         808341     467273  Propstei Barwithsyssel  Archidiakonat        ⋯\n",
       "\u001b[36m                                                   1 column and 613 rows omitted\u001b[0m"
      ]
     },
     "execution_count": 81,
     "metadata": {},
     "output_type": "execute_result"
    }
   ],
   "source": [
    "insertcols!(\n",
    "    df_pr_property,\n",
    "    :property_type_id => archidiakonat_id,\n",
    ");"
   ]
  },
  {
   "cell_type": "code",
   "execution_count": 82,
   "metadata": {},
   "outputs": [
    {
     "data": {
      "text/plain": [
       "MySQL.TextCursor{true}(MySQL.Connection(host=\"127.0.0.1\", user=\"georg\", port=\"3306\", db=\"wiag2\"), \"DELETE FROM person_role_property\\nWHERE person_id IN\\n(SELECT id FROM item WHERE item_type_id = 5)\", 0, -1, 634, MySQL.API.MYSQL_RES(Ptr{Nothing} @0x0000000000000000), Symbol[], Type[], Dict{Symbol, Int64}(), 0, 1, false)"
      ]
     },
     "execution_count": 82,
     "metadata": {},
     "output_type": "execute_result"
    }
   ],
   "source": [
    "table_name = \"person_role_property\";\n",
    "sql = \"DELETE FROM $(table_name)\n",
    "WHERE person_id IN\n",
    "(SELECT id FROM item WHERE item_type_id = $(item_type_id))\";\n",
    "DBInterface.execute(Wds.dbwiag, sql)"
   ]
  },
  {
   "cell_type": "code",
   "execution_count": 83,
   "metadata": {},
   "outputs": [
    {
     "name": "stderr",
     "output_type": "stream",
     "text": [
      "┌ Info: Rows inserted: 634\n",
      "└ @ WiagDataSetup C:\\Users\\georg\\Documents\\projekte\\WiagDataSetup.jl\\src\\WiagDataSetup.jl:1216\n"
     ]
    },
    {
     "data": {
      "text/plain": [
       "634"
      ]
     },
     "execution_count": 83,
     "metadata": {},
     "output_type": "execute_result"
    }
   ],
   "source": [
    "table_name = \"person_role_property\"\n",
    "Wds.filltable!(table_name, df_pr_property)"
   ]
  },
  {
   "cell_type": "markdown",
   "metadata": {},
   "source": [
    "## Sortierung der Person nach Amt\n",
    "Die Tabelle `person_display_order` ist eine technische Hilfstabelle, um die Abfragen in Doctrine zu vereinfachen oder überhaupt erst zu ermöglichen. Jede Person erhält für jedes Bistum einen Sortierschlüssel und einen weiteren unabhängig vom Bistum.\n",
    "\n",
    "*2022-01-17* Verzichte zunächst auf diese Tabelle und löse das Problem in der Web-Anwendung. So bleibt das Datenmodell schlanker."
   ]
  },
  {
   "cell_type": "code",
   "execution_count": 45,
   "metadata": {},
   "outputs": [],
   "source": [
    "using MySQL, DataFrames"
   ]
  },
  {
   "cell_type": "markdown",
   "metadata": {},
   "source": [
    "Sortierung unabhängig von einer Diözese. Es werden auch Ämter berücksichtigt, die nicht mit einer Diözese verbunden sind."
   ]
  },
  {
   "cell_type": "code",
   "execution_count": 48,
   "metadata": {},
   "outputs": [],
   "source": [
    "sql = \"SELECT person_id, 'any' as diocese, min(display_order) as display_order \" *\n",
    "\"FROM person_role GROUP BY person_id\";\n",
    "df_do = db_exec(sql);"
   ]
  },
  {
   "cell_type": "code",
   "execution_count": 49,
   "metadata": {},
   "outputs": [
    {
     "data": {
      "text/plain": [
       "(5159, 3)"
      ]
     },
     "execution_count": 49,
     "metadata": {},
     "output_type": "execute_result"
    }
   ],
   "source": [
    "size(df_do)"
   ]
  },
  {
   "cell_type": "markdown",
   "metadata": {},
   "source": [
    "Zwölf Bischöfe haben kein Amt!?"
   ]
  },
  {
   "cell_type": "code",
   "execution_count": 50,
   "metadata": {},
   "outputs": [
    {
     "name": "stderr",
     "output_type": "stream",
     "text": [
      "┌ Info: Rows inserted: 5159\n",
      "└ @ WiagDataSetup C:\\Users\\Georg\\Documents\\projekte\\WiagDataSetup.jl\\src\\WiagDataSetup.jl:1169\n"
     ]
    },
    {
     "data": {
      "text/plain": [
       "5159"
      ]
     },
     "execution_count": 50,
     "metadata": {},
     "output_type": "execute_result"
    }
   ],
   "source": [
    "table_dst = \"person_display_order\"\n",
    "Wds.filltable!(table_dst, df_do)"
   ]
  },
  {
   "cell_type": "markdown",
   "metadata": {},
   "source": [
    "Sortierung nach Diözese"
   ]
  },
  {
   "cell_type": "code",
   "execution_count": 52,
   "metadata": {},
   "outputs": [],
   "source": [
    "sql = \"SELECT person_id, diocese_name as diocese, min(display_order) as display_order \" *\n",
    "\"FROM person_role \" *\n",
    "\"WHERE diocese_name IS NOT NULL \" *\n",
    "\"GROUP BY person_id, diocese_name\";\n",
    "df_do = db_exec(sql);"
   ]
  },
  {
   "cell_type": "code",
   "execution_count": 53,
   "metadata": {},
   "outputs": [
    {
     "data": {
      "text/plain": [
       "(6370, 3)"
      ]
     },
     "execution_count": 53,
     "metadata": {},
     "output_type": "execute_result"
    }
   ],
   "source": [
    "size(df_do)"
   ]
  },
  {
   "cell_type": "code",
   "execution_count": 54,
   "metadata": {},
   "outputs": [
    {
     "name": "stderr",
     "output_type": "stream",
     "text": [
      "┌ Info: Rows inserted: 6370\n",
      "└ @ WiagDataSetup C:\\Users\\Georg\\Documents\\projekte\\WiagDataSetup.jl\\src\\WiagDataSetup.jl:1169\n"
     ]
    },
    {
     "data": {
      "text/plain": [
       "6370"
      ]
     },
     "execution_count": 54,
     "metadata": {},
     "output_type": "execute_result"
    }
   ],
   "source": [
    "table_dst = \"person_display_order\"\n",
    "Wds.filltable!(table_dst, df_do)"
   ]
  },
  {
   "cell_type": "markdown",
   "metadata": {},
   "source": [
    "Bischöfe ohne Ämter"
   ]
  },
  {
   "cell_type": "code",
   "execution_count": 55,
   "metadata": {},
   "outputs": [],
   "source": [
    "sql = \"SELECT id AS person_id, 'any' as diocese, 950000 AS display_order \" *\n",
    "\"FROM person WHERE id NOT IN (SELECT DISTINCT person_id FROM person_role)\"\n",
    "df_do_r = db_exec(sql);"
   ]
  },
  {
   "cell_type": "code",
   "execution_count": 56,
   "metadata": {},
   "outputs": [
    {
     "data": {
      "text/plain": [
       "(12, 3)"
      ]
     },
     "execution_count": 56,
     "metadata": {},
     "output_type": "execute_result"
    }
   ],
   "source": [
    "size(df_do_r)"
   ]
  },
  {
   "cell_type": "code",
   "execution_count": 57,
   "metadata": {},
   "outputs": [
    {
     "name": "stderr",
     "output_type": "stream",
     "text": [
      "┌ Info: Rows inserted: 12\n",
      "└ @ WiagDataSetup C:\\Users\\Georg\\Documents\\projekte\\WiagDataSetup.jl\\src\\WiagDataSetup.jl:1169\n"
     ]
    },
    {
     "data": {
      "text/plain": [
       "12"
      ]
     },
     "execution_count": 57,
     "metadata": {},
     "output_type": "execute_result"
    }
   ],
   "source": [
    "table_dst = \"person_display_order\"\n",
    "Wds.filltable!(table_dst, df_do_r)"
   ]
  },
  {
   "cell_type": "code",
   "execution_count": null,
   "metadata": {},
   "outputs": [],
   "source": []
  },
  {
   "cell_type": "code",
   "execution_count": null,
   "metadata": {},
   "outputs": [],
   "source": []
  },
  {
   "cell_type": "code",
   "execution_count": null,
   "metadata": {},
   "outputs": [],
   "source": []
  }
 ],
 "metadata": {
  "kernelspec": {
   "display_name": "Julia 1.7.0",
   "language": "julia",
   "name": "julia-1.7"
  },
  "language_info": {
   "file_extension": ".jl",
   "mimetype": "application/julia",
   "name": "julia",
   "version": "1.7.0"
  }
 },
 "nbformat": 4,
 "nbformat_minor": 4
}
