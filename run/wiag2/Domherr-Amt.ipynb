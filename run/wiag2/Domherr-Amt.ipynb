{
 "cells": [
  {
   "cell_type": "markdown",
   "metadata": {},
   "source": [
    "# Wissensaggregator Mittelalter und frühe Neuzeit\n",
    "\n",
    "## Daten für Ämter von Domherren einlesen\n",
    "\n",
    "Übertrage Daten aus Access. Die Daten werden aus Access via ODBC in eine Transfer-Datenbank geschrieben: \n",
    "`domherr.tbl_domherren` und `domherr.tbl_domherren_aemter`\n",
    "\n",
    "[Amtsperiode](#Amtsperiode)  \n",
    "[Zeitspanne der Person](#Zeitspanne-der-Person)  \n",
    "[Archidiakonat](#Archidiakonat)  \n",
    "[Sortierung der Person nach Amt](#Sortierung-der-Person-nach-Amt) (hinfällig?)"
   ]
  },
  {
   "cell_type": "markdown",
   "metadata": {},
   "source": [
    "Vorspann: Pakete laden; mit der Datenbank verbinden"
   ]
  },
  {
   "cell_type": "code",
   "execution_count": 1,
   "metadata": {},
   "outputs": [
    {
     "data": {
      "text/plain": [
       "\"../..\""
      ]
     },
     "execution_count": 1,
     "metadata": {},
     "output_type": "execute_result"
    }
   ],
   "source": [
    "wds_path=\"../..\""
   ]
  },
  {
   "cell_type": "code",
   "execution_count": 2,
   "metadata": {},
   "outputs": [],
   "source": [
    "cd(wds_path)"
   ]
  },
  {
   "cell_type": "code",
   "execution_count": 3,
   "metadata": {},
   "outputs": [],
   "source": [
    "using Pkg"
   ]
  },
  {
   "cell_type": "code",
   "execution_count": 4,
   "metadata": {},
   "outputs": [
    {
     "name": "stderr",
     "output_type": "stream",
     "text": [
      "\u001b[32m\u001b[1m  Activating\u001b[22m\u001b[39m project at `C:\\Users\\georg\\Documents\\projekte\\WiagDataSetup.jl`\n"
     ]
    }
   ],
   "source": [
    "Pkg.activate(\".\")"
   ]
  },
  {
   "cell_type": "code",
   "execution_count": 5,
   "metadata": {},
   "outputs": [],
   "source": [
    "using Revise, MySQL"
   ]
  },
  {
   "cell_type": "code",
   "execution_count": 6,
   "metadata": {},
   "outputs": [
    {
     "name": "stderr",
     "output_type": "stream",
     "text": [
      "┌ Info: Precompiling WiagDataSetup [522c5ebb-a018-4020-8ed4-420cb1a9f084]\n",
      "└ @ Base loading.jl:1423\n"
     ]
    }
   ],
   "source": [
    "using WiagDataSetup"
   ]
  },
  {
   "cell_type": "code",
   "execution_count": 7,
   "metadata": {},
   "outputs": [],
   "source": [
    "using MySQL, DataFrames, CSV"
   ]
  },
  {
   "cell_type": "code",
   "execution_count": 8,
   "metadata": {},
   "outputs": [
    {
     "data": {
      "text/plain": [
       "WiagDataSetup"
      ]
     },
     "execution_count": 8,
     "metadata": {},
     "output_type": "execute_result"
    }
   ],
   "source": [
    "Wds = WiagDataSetup"
   ]
  },
  {
   "cell_type": "code",
   "execution_count": 9,
   "metadata": {},
   "outputs": [
    {
     "name": "stdout",
     "output_type": "stream",
     "text": [
      "Passwort für User georg: ········\n"
     ]
    },
    {
     "data": {
      "text/plain": [
       "MySQL.Connection(host=\"127.0.0.1\", user=\"georg\", port=\"3306\", db=\"wiag2\")"
      ]
     },
     "execution_count": 9,
     "metadata": {},
     "output_type": "execute_result"
    }
   ],
   "source": [
    "Wds.setDBWIAG(user=\"georg\", db=\"wiag2\")"
   ]
  },
  {
   "cell_type": "code",
   "execution_count": 10,
   "metadata": {},
   "outputs": [
    {
     "data": {
      "text/plain": [
       "5"
      ]
     },
     "execution_count": 10,
     "metadata": {},
     "output_type": "execute_result"
    }
   ],
   "source": [
    "item_type_id = 5"
   ]
  },
  {
   "cell_type": "markdown",
   "metadata": {},
   "source": [
    "Die Ämter in Tabelle `role` werden im Notebook \"Strukturdaten\" eingelesen."
   ]
  },
  {
   "cell_type": "markdown",
   "metadata": {},
   "source": [
    "## Amtsperiode"
   ]
  },
  {
   "cell_type": "code",
   "execution_count": 11,
   "metadata": {},
   "outputs": [],
   "source": [
    "sql = \"SELECT * FROM domherr.tbl_domherren_aemter\"\n",
    "df_pr = Wds.sql_df(sql);"
   ]
  },
  {
   "cell_type": "code",
   "execution_count": 12,
   "metadata": {},
   "outputs": [],
   "source": [
    "Wds.clean_up!(df_pr);"
   ]
  },
  {
   "cell_type": "markdown",
   "metadata": {},
   "source": [
    "Ignoriere Einträge ohne Amtsart/ID_Amt_norm"
   ]
  },
  {
   "cell_type": "code",
   "execution_count": 13,
   "metadata": {},
   "outputs": [
    {
     "data": {
      "text/plain": [
       "(33189, 20)"
      ]
     },
     "execution_count": 13,
     "metadata": {},
     "output_type": "execute_result"
    }
   ],
   "source": [
    "size(df_pr)"
   ]
  },
  {
   "cell_type": "code",
   "execution_count": 14,
   "metadata": {},
   "outputs": [
    {
     "data": {
      "text/plain": [
       "one_valid (generic function with 1 method)"
      ]
     },
     "execution_count": 14,
     "metadata": {},
     "output_type": "execute_result"
    }
   ],
   "source": [
    "one_valid(a, b) = !ismissing(a) | !ismissing(b)"
   ]
  },
  {
   "cell_type": "code",
   "execution_count": 15,
   "metadata": {},
   "outputs": [],
   "source": [
    "subset!(df_pr, [:Amtsart, :ID_Amt_norm] => ByRow(one_valid));"
   ]
  },
  {
   "cell_type": "code",
   "execution_count": 16,
   "metadata": {},
   "outputs": [
    {
     "data": {
      "text/html": [
       "<div class=\"data-frame\"><p>6 rows × 5 columns</p><table class=\"data-frame\"><thead><tr><th></th><th>ID_Amt</th><th>Amtsart</th><th>ID_Amt_norm</th><th>Amtsbeginn</th><th>Amtsende</th></tr><tr><th></th><th title=\"Int32\">Int32</th><th title=\"Union{Missing, String}\">String?</th><th title=\"Union{Missing, Int32}\">Int32?</th><th title=\"Union{Missing, String}\">String?</th><th title=\"Union{Missing, String}\">String?</th></tr></thead><tbody><tr><th>1</th><td>82183</td><td><em>missing</em></td><td>19</td><td>1324</td><td><em>missing</em></td></tr><tr><th>2</th><td>82184</td><td><em>missing</em></td><td>19</td><td>1324</td><td>1332</td></tr><tr><th>3</th><td>82185</td><td><em>missing</em></td><td>19</td><td>1324</td><td><em>missing</em></td></tr><tr><th>4</th><td>82186</td><td><em>missing</em></td><td>19</td><td>1290</td><td>1345</td></tr><tr><th>5</th><td>82187</td><td><em>missing</em></td><td>19</td><td>1325</td><td>1344</td></tr><tr><th>6</th><td>82188</td><td><em>missing</em></td><td>5</td><td><em>missing</em></td><td><em>missing</em></td></tr></tbody></table></div>"
      ],
      "text/latex": [
       "\\begin{tabular}{r|ccccc}\n",
       "\t& ID\\_Amt & Amtsart & ID\\_Amt\\_norm & Amtsbeginn & Amtsende\\\\\n",
       "\t\\hline\n",
       "\t& Int32 & String? & Int32? & String? & String?\\\\\n",
       "\t\\hline\n",
       "\t1 & 82183 & \\emph{missing} & 19 & 1324 & \\emph{missing} \\\\\n",
       "\t2 & 82184 & \\emph{missing} & 19 & 1324 & 1332 \\\\\n",
       "\t3 & 82185 & \\emph{missing} & 19 & 1324 & \\emph{missing} \\\\\n",
       "\t4 & 82186 & \\emph{missing} & 19 & 1290 & 1345 \\\\\n",
       "\t5 & 82187 & \\emph{missing} & 19 & 1325 & 1344 \\\\\n",
       "\t6 & 82188 & \\emph{missing} & 5 & \\emph{missing} & \\emph{missing} \\\\\n",
       "\\end{tabular}\n"
      ],
      "text/plain": [
       "\u001b[1m6×5 DataFrame\u001b[0m\n",
       "\u001b[1m Row \u001b[0m│\u001b[1m ID_Amt \u001b[0m\u001b[1m Amtsart \u001b[0m\u001b[1m ID_Amt_norm \u001b[0m\u001b[1m Amtsbeginn \u001b[0m\u001b[1m Amtsende \u001b[0m\n",
       "\u001b[1m     \u001b[0m│\u001b[90m Int32  \u001b[0m\u001b[90m String? \u001b[0m\u001b[90m Int32?      \u001b[0m\u001b[90m String?    \u001b[0m\u001b[90m String?  \u001b[0m\n",
       "─────┼────────────────────────────────────────────────────\n",
       "   1 │  82183 \u001b[90m missing \u001b[0m          19  1324       \u001b[90m missing  \u001b[0m\n",
       "   2 │  82184 \u001b[90m missing \u001b[0m          19  1324        1332\n",
       "   3 │  82185 \u001b[90m missing \u001b[0m          19  1324       \u001b[90m missing  \u001b[0m\n",
       "   4 │  82186 \u001b[90m missing \u001b[0m          19  1290        1345\n",
       "   5 │  82187 \u001b[90m missing \u001b[0m          19  1325        1344\n",
       "   6 │  82188 \u001b[90m missing \u001b[0m           5 \u001b[90m missing    \u001b[0m\u001b[90m missing  \u001b[0m"
      ]
     },
     "execution_count": 16,
     "metadata": {},
     "output_type": "execute_result"
    }
   ],
   "source": [
    "df_pr[100:105, [:ID_Amt, :Amtsart, :ID_Amt_norm, :Amtsbeginn, :Amtsende]]"
   ]
  },
  {
   "cell_type": "markdown",
   "metadata": {},
   "source": [
    "### Domherren zuordnen"
   ]
  },
  {
   "cell_type": "code",
   "execution_count": 17,
   "metadata": {},
   "outputs": [],
   "source": [
    "df_pr[!, :id_in_source] .= string.(df_pr[!, :ID_Domherr]);"
   ]
  },
  {
   "cell_type": "code",
   "execution_count": 18,
   "metadata": {},
   "outputs": [],
   "source": [
    "table_name = \"item\";\n",
    "sql = \"SELECT id AS person_id, id_in_source FROM $(table_name) WHERE item_type_id = $(item_type_id)\"\n",
    "df_idx = Wds.sql_df(sql);"
   ]
  },
  {
   "cell_type": "code",
   "execution_count": 19,
   "metadata": {},
   "outputs": [],
   "source": [
    "df_prp = leftjoin(df_pr, df_idx, on = :id_in_source);"
   ]
  },
  {
   "cell_type": "markdown",
   "metadata": {},
   "source": [
    "Berücksichtige Einträge nicht, wenn sie weder `Amtsart` noch `ID_Amt_norm` enthalten"
   ]
  },
  {
   "cell_type": "code",
   "execution_count": 20,
   "metadata": {},
   "outputs": [
    {
     "data": {
      "text/plain": [
       "one_valid (generic function with 1 method)"
      ]
     },
     "execution_count": 20,
     "metadata": {},
     "output_type": "execute_result"
    }
   ],
   "source": [
    "one_valid(x, y) = !ismissing(x) || !ismissing(y)"
   ]
  },
  {
   "cell_type": "code",
   "execution_count": 21,
   "metadata": {},
   "outputs": [],
   "source": [
    "subset!(df_prp, [:Amtsart, :ID_Amt_norm] => ByRow(one_valid));"
   ]
  },
  {
   "cell_type": "code",
   "execution_count": 22,
   "metadata": {},
   "outputs": [
    {
     "data": {
      "text/plain": [
       "(32988, 22)"
      ]
     },
     "execution_count": 22,
     "metadata": {},
     "output_type": "execute_result"
    }
   ],
   "source": [
    "size(df_prp)"
   ]
  },
  {
   "cell_type": "code",
   "execution_count": 23,
   "metadata": {},
   "outputs": [],
   "source": [
    "df_idx_mg = filter(:person_id => ismissing, df_prp);"
   ]
  },
  {
   "cell_type": "code",
   "execution_count": 24,
   "metadata": {},
   "outputs": [
    {
     "data": {
      "text/plain": [
       "(0, 22)"
      ]
     },
     "execution_count": 24,
     "metadata": {},
     "output_type": "execute_result"
    }
   ],
   "source": [
    "size(df_idx_mg)"
   ]
  },
  {
   "cell_type": "markdown",
   "metadata": {},
   "source": [
    "### Rollen/Ämter zuordnen"
   ]
  },
  {
   "cell_type": "code",
   "execution_count": 25,
   "metadata": {},
   "outputs": [],
   "source": [
    "sql = \"SELECT name as role_name, role.id as role_id, item.id_in_source as role_id_in_source\n",
    "FROM role JOIN item ON item.id = role.id\"\n",
    "df_role = Wds.sql_df(sql);"
   ]
  },
  {
   "cell_type": "markdown",
   "metadata": {},
   "source": [
    "Werden alle Ämter gefunden?"
   ]
  },
  {
   "cell_type": "code",
   "execution_count": 26,
   "metadata": {},
   "outputs": [],
   "source": [
    "role_dh = unique(string.(df_prp.ID_Amt_norm));"
   ]
  },
  {
   "cell_type": "code",
   "execution_count": 27,
   "metadata": {},
   "outputs": [
    {
     "data": {
      "text/plain": [
       "1-element Vector{String}:\n",
       " \"missing\""
      ]
     },
     "execution_count": 27,
     "metadata": {},
     "output_type": "execute_result"
    }
   ],
   "source": [
    "match_mg = setdiff(role_dh, df_role.role_id_in_source)"
   ]
  },
  {
   "cell_type": "code",
   "execution_count": 28,
   "metadata": {},
   "outputs": [
    {
     "data": {
      "text/plain": [
       "to_string_maybe (generic function with 1 method)"
      ]
     },
     "execution_count": 28,
     "metadata": {},
     "output_type": "execute_result"
    }
   ],
   "source": [
    "to_string_maybe(a) = ismissing(a) ? a : string(a)"
   ]
  },
  {
   "cell_type": "code",
   "execution_count": 29,
   "metadata": {},
   "outputs": [],
   "source": [
    "transform!(df_prp, :ID_Amt_norm => ByRow(to_string_maybe) => :match_role_id);"
   ]
  },
  {
   "cell_type": "code",
   "execution_count": 30,
   "metadata": {},
   "outputs": [],
   "source": [
    "df_prp_r = leftjoin(df_prp, df_role, on = :match_role_id => :role_id_in_source, matchmissing = :notequal);"
   ]
  },
  {
   "cell_type": "code",
   "execution_count": 31,
   "metadata": {},
   "outputs": [
    {
     "data": {
      "text/plain": [
       "(1216, 891)"
      ]
     },
     "execution_count": 31,
     "metadata": {},
     "output_type": "execute_result"
    }
   ],
   "source": [
    "count(ismissing, df_prp_r.role_id), count(ismissing, df_prp_r.Amtsart)"
   ]
  },
  {
   "cell_type": "markdown",
   "metadata": {},
   "source": [
    "*2022-03-16* TODO übernimm die Rollenbezeichnung `person_role.role_name` aus der Tabelle `role`."
   ]
  },
  {
   "cell_type": "markdown",
   "metadata": {},
   "source": [
    "### Bistümer zuordnen"
   ]
  },
  {
   "cell_type": "code",
   "execution_count": 32,
   "metadata": {},
   "outputs": [],
   "source": [
    "sql = \"SELECT id AS diocese_id, name AS diocese_name FROM diocese\"\n",
    "df_dioc = Wds.sql_df(sql);"
   ]
  },
  {
   "cell_type": "markdown",
   "metadata": {},
   "source": [
    "Es sind nicht alle Ämter mit einem Bistum verknüpft, daher ist eine JOIN-Operation auf diesem Feld nicht möglich."
   ]
  },
  {
   "cell_type": "code",
   "execution_count": 33,
   "metadata": {},
   "outputs": [],
   "source": [
    "lookup_dioc = Dict(df_dioc[!,:diocese_name] .=> df_dioc[!,:diocese_id]);"
   ]
  },
  {
   "cell_type": "code",
   "execution_count": 34,
   "metadata": {},
   "outputs": [
    {
     "data": {
      "text/plain": [
       "30"
      ]
     },
     "execution_count": 34,
     "metadata": {},
     "output_type": "execute_result"
    }
   ],
   "source": [
    "lookup_dioc[\"Trier\"]"
   ]
  },
  {
   "cell_type": "code",
   "execution_count": 35,
   "metadata": {},
   "outputs": [
    {
     "data": {
      "text/plain": [
       "get_dioc_id (generic function with 1 method)"
      ]
     },
     "execution_count": 35,
     "metadata": {},
     "output_type": "execute_result"
    }
   ],
   "source": [
    "get_dioc_id(name) = get(lookup_dioc, name, missing)"
   ]
  },
  {
   "cell_type": "code",
   "execution_count": 36,
   "metadata": {},
   "outputs": [],
   "source": [
    "transform!(df_prp_r, :Bistum => ByRow(get_dioc_id) => :diocese_id);"
   ]
  },
  {
   "cell_type": "code",
   "execution_count": 37,
   "metadata": {},
   "outputs": [],
   "source": [
    "idx_diocese = .!ismissing.(df_prp_r[!, :diocese_id]);"
   ]
  },
  {
   "cell_type": "code",
   "execution_count": 38,
   "metadata": {},
   "outputs": [
    {
     "data": {
      "text/plain": [
       "913"
      ]
     },
     "execution_count": 38,
     "metadata": {},
     "output_type": "execute_result"
    }
   ],
   "source": [
    "sum(idx_diocese)"
   ]
  },
  {
   "cell_type": "markdown",
   "metadata": {},
   "source": [
    "### Instutionen zuordnen\n",
    "Klöster, Domstifte"
   ]
  },
  {
   "cell_type": "code",
   "execution_count": 39,
   "metadata": {},
   "outputs": [],
   "source": [
    "table_name = \"institution\";\n",
    "sql = \"SELECT id AS institution_id, name, id_gsn FROM $(table_name)\"\n",
    "df_inst = Wds.sql_df(sql);"
   ]
  },
  {
   "cell_type": "code",
   "execution_count": 40,
   "metadata": {},
   "outputs": [],
   "source": [
    "lookup_inst = Dict(df_inst.id_gsn .=> df_inst.institution_id);"
   ]
  },
  {
   "cell_type": "code",
   "execution_count": 41,
   "metadata": {},
   "outputs": [
    {
     "data": {
      "text/plain": [
       "5286"
      ]
     },
     "execution_count": 41,
     "metadata": {},
     "output_type": "execute_result"
    }
   ],
   "source": [
    "length(lookup_inst)"
   ]
  },
  {
   "cell_type": "code",
   "execution_count": 42,
   "metadata": {},
   "outputs": [
    {
     "data": {
      "text/plain": [
       "get_inst_id (generic function with 1 method)"
      ]
     },
     "execution_count": 42,
     "metadata": {},
     "output_type": "execute_result"
    }
   ],
   "source": [
    "get_inst_id(id_gsn) = get(lookup_inst, id_gsn, missing)"
   ]
  },
  {
   "cell_type": "code",
   "execution_count": 43,
   "metadata": {},
   "outputs": [
    {
     "data": {
      "text/plain": [
       "79619"
      ]
     },
     "execution_count": 43,
     "metadata": {},
     "output_type": "execute_result"
    }
   ],
   "source": [
    "get_inst_id(318)"
   ]
  },
  {
   "cell_type": "code",
   "execution_count": 44,
   "metadata": {},
   "outputs": [],
   "source": [
    "transform!(df_prp_r, :ID_Kloster => ByRow(get_inst_id) => :institution_id);"
   ]
  },
  {
   "cell_type": "code",
   "execution_count": 45,
   "metadata": {},
   "outputs": [],
   "source": [
    "lookup_inst_name = Dict(df_inst.id_gsn .=> df_inst.name);"
   ]
  },
  {
   "cell_type": "code",
   "execution_count": 46,
   "metadata": {},
   "outputs": [
    {
     "data": {
      "text/plain": [
       "get_inst_name (generic function with 1 method)"
      ]
     },
     "execution_count": 46,
     "metadata": {},
     "output_type": "execute_result"
    }
   ],
   "source": [
    "get_inst_name(id_gsn) = get(lookup_inst_name, id_gsn, missing)"
   ]
  },
  {
   "cell_type": "code",
   "execution_count": 47,
   "metadata": {},
   "outputs": [
    {
     "data": {
      "text/plain": [
       "\"Benediktinerinnenkloster Neuenwalde\""
      ]
     },
     "execution_count": 47,
     "metadata": {},
     "output_type": "execute_result"
    }
   ],
   "source": [
    "get_inst_name(318)"
   ]
  },
  {
   "cell_type": "code",
   "execution_count": 48,
   "metadata": {},
   "outputs": [],
   "source": [
    "transform!(df_prp_r, :ID_Kloster => ByRow(get_inst_name) => :institution_name);"
   ]
  },
  {
   "cell_type": "code",
   "execution_count": 49,
   "metadata": {},
   "outputs": [],
   "source": [
    "df_mg_inst_id = subset(df_prp_r, :institution_id => ByRow(ismissing));"
   ]
  },
  {
   "cell_type": "code",
   "execution_count": 50,
   "metadata": {},
   "outputs": [
    {
     "data": {
      "text/plain": [
       "(1418, 32988)"
      ]
     },
     "execution_count": 50,
     "metadata": {},
     "output_type": "execute_result"
    }
   ],
   "source": [
    "size(df_mg_inst_id, 1), size(df_prp_r, 1)"
   ]
  },
  {
   "cell_type": "markdown",
   "metadata": {},
   "source": [
    "### Numerische Daten eintragen"
   ]
  },
  {
   "cell_type": "code",
   "execution_count": 51,
   "metadata": {},
   "outputs": [
    {
     "name": "stderr",
     "output_type": "stream",
     "text": [
      "┌ Warning: Could only find year in \n",
      "│   s = vo 1147\n",
      "└ @ WiagDataSetup C:\\Users\\georg\\Documents\\projekte\\WiagDataSetup.jl\\src\\WiagDataSetup.jl:1112\n",
      "┌ Warning: Could not parse \n",
      "│   s = unbekannt\n",
      "└ @ WiagDataSetup C:\\Users\\georg\\Documents\\projekte\\WiagDataSetup.jl\\src\\WiagDataSetup.jl:1117\n",
      "┌ Warning: Could not parse \n",
      "│   s = unbekannt\n",
      "└ @ WiagDataSetup C:\\Users\\georg\\Documents\\projekte\\WiagDataSetup.jl\\src\\WiagDataSetup.jl:1117\n",
      "┌ Warning: Could only find year in \n",
      "│   s = t 1567\n",
      "└ @ WiagDataSetup C:\\Users\\georg\\Documents\\projekte\\WiagDataSetup.jl\\src\\WiagDataSetup.jl:1112\n",
      "┌ Warning: Could only find year in \n",
      "│   s = zwischen 1101\n",
      "└ @ WiagDataSetup C:\\Users\\georg\\Documents\\projekte\\WiagDataSetup.jl\\src\\WiagDataSetup.jl:1112\n",
      "┌ Warning: Could only find year in \n",
      "│   s = Bewerbung 1451\n",
      "└ @ WiagDataSetup C:\\Users\\georg\\Documents\\projekte\\WiagDataSetup.jl\\src\\WiagDataSetup.jl:1112\n",
      "┌ Warning: Could only find year in \n",
      "│   s = [1068]\n",
      "└ @ WiagDataSetup C:\\Users\\georg\\Documents\\projekte\\WiagDataSetup.jl\\src\\WiagDataSetup.jl:1112\n",
      "┌ Warning: Could only find year in \n",
      "│   s = erneut 1239\n",
      "└ @ WiagDataSetup C:\\Users\\georg\\Documents\\projekte\\WiagDataSetup.jl\\src\\WiagDataSetup.jl:1112\n",
      "┌ Warning: Could only find year in \n",
      "│   s = [1068]\n",
      "└ @ WiagDataSetup C:\\Users\\georg\\Documents\\projekte\\WiagDataSetup.jl\\src\\WiagDataSetup.jl:1112\n",
      "┌ Warning: Could only find year in \n",
      "│   s = [1068]\n",
      "└ @ WiagDataSetup C:\\Users\\georg\\Documents\\projekte\\WiagDataSetup.jl\\src\\WiagDataSetup.jl:1112\n",
      "┌ Warning: Could only find year in \n",
      "│   s = vor1420\n",
      "└ @ WiagDataSetup C:\\Users\\georg\\Documents\\projekte\\WiagDataSetup.jl\\src\\WiagDataSetup.jl:1112\n",
      "┌ Warning: Could not parse \n",
      "│   s = wohl im 9. Jahrhundert\n",
      "└ @ WiagDataSetup C:\\Users\\georg\\Documents\\projekte\\WiagDataSetup.jl\\src\\WiagDataSetup.jl:1117\n",
      "┌ Warning: Could not parse \n",
      "│   s = 1. D. 14. Jh.\n",
      "└ @ WiagDataSetup C:\\Users\\georg\\Documents\\projekte\\WiagDataSetup.jl\\src\\WiagDataSetup.jl:1117\n",
      "┌ Warning: Could only find year in \n",
      "│   s = zw. 1123\n",
      "└ @ WiagDataSetup C:\\Users\\georg\\Documents\\projekte\\WiagDataSetup.jl\\src\\WiagDataSetup.jl:1112\n",
      "┌ Warning: Could only find year in \n",
      "│   s = zw. 1180\n",
      "└ @ WiagDataSetup C:\\Users\\georg\\Documents\\projekte\\WiagDataSetup.jl\\src\\WiagDataSetup.jl:1112\n",
      "┌ Warning: Could only find year in \n",
      "│   s = [1452] 1467\n",
      "└ @ WiagDataSetup C:\\Users\\georg\\Documents\\projekte\\WiagDataSetup.jl\\src\\WiagDataSetup.jl:1112\n",
      "┌ Warning: Could only find year in \n",
      "│   s = Feb. 1339\n",
      "└ @ WiagDataSetup C:\\Users\\georg\\Documents\\projekte\\WiagDataSetup.jl\\src\\WiagDataSetup.jl:1112\n",
      "┌ Warning: Could only find year in \n",
      "│   s = [1239]\n",
      "└ @ WiagDataSetup C:\\Users\\georg\\Documents\\projekte\\WiagDataSetup.jl\\src\\WiagDataSetup.jl:1112\n",
      "┌ Warning: Could only find year in \n",
      "│   s = [1633?], 1638, 1646\n",
      "└ @ WiagDataSetup C:\\Users\\georg\\Documents\\projekte\\WiagDataSetup.jl\\src\\WiagDataSetup.jl:1112\n",
      "┌ Warning: Could only find year in \n",
      "│   s = [1539?] 1543\n",
      "└ @ WiagDataSetup C:\\Users\\georg\\Documents\\projekte\\WiagDataSetup.jl\\src\\WiagDataSetup.jl:1112\n",
      "┌ Warning: Could only find year in \n",
      "│   s = [1241] 1248\n",
      "└ @ WiagDataSetup C:\\Users\\georg\\Documents\\projekte\\WiagDataSetup.jl\\src\\WiagDataSetup.jl:1112\n",
      "┌ Warning: Could only find year in \n",
      "│   s = [1188]\n",
      "└ @ WiagDataSetup C:\\Users\\georg\\Documents\\projekte\\WiagDataSetup.jl\\src\\WiagDataSetup.jl:1112\n",
      "┌ Warning: Could only find year in \n",
      "│   s = [1178] 1188\n",
      "└ @ WiagDataSetup C:\\Users\\georg\\Documents\\projekte\\WiagDataSetup.jl\\src\\WiagDataSetup.jl:1112\n",
      "┌ Warning: Could only find year in \n",
      "│   s = [1233] 1236\n",
      "└ @ WiagDataSetup C:\\Users\\georg\\Documents\\projekte\\WiagDataSetup.jl\\src\\WiagDataSetup.jl:1112\n",
      "┌ Warning: Could not parse \n",
      "│   s = 14[4]4\n",
      "└ @ WiagDataSetup C:\\Users\\georg\\Documents\\projekte\\WiagDataSetup.jl\\src\\WiagDataSetup.jl:1117\n",
      "┌ Warning: Could only find year in \n",
      "│   s = [1290 ca.]\n",
      "└ @ WiagDataSetup C:\\Users\\georg\\Documents\\projekte\\WiagDataSetup.jl\\src\\WiagDataSetup.jl:1112\n",
      "┌ Warning: Could only find year in \n",
      "│   s = [1235]\n",
      "└ @ WiagDataSetup C:\\Users\\georg\\Documents\\projekte\\WiagDataSetup.jl\\src\\WiagDataSetup.jl:1112\n",
      "┌ Warning: Could only find year in \n",
      "│   s = ab Mai 973\n",
      "└ @ WiagDataSetup C:\\Users\\georg\\Documents\\projekte\\WiagDataSetup.jl\\src\\WiagDataSetup.jl:1112\n",
      "┌ Warning: Could only find year in \n",
      "│   s = vor dem 28. Juni 1314\n",
      "└ @ WiagDataSetup C:\\Users\\georg\\Documents\\projekte\\WiagDataSetup.jl\\src\\WiagDataSetup.jl:1112\n",
      "┌ Warning: Could only find year in \n",
      "│   s = [1406/ 1407?]\n",
      "└ @ WiagDataSetup C:\\Users\\georg\\Documents\\projekte\\WiagDataSetup.jl\\src\\WiagDataSetup.jl:1112\n",
      "┌ Warning: Could only find year in \n",
      "│   s = [1449]\n",
      "└ @ WiagDataSetup C:\\Users\\georg\\Documents\\projekte\\WiagDataSetup.jl\\src\\WiagDataSetup.jl:1112\n",
      "┌ Warning: Could only find year in \n",
      "│   s = nah 1694\n",
      "└ @ WiagDataSetup C:\\Users\\georg\\Documents\\projekte\\WiagDataSetup.jl\\src\\WiagDataSetup.jl:1112\n",
      "┌ Warning: Could only find year in \n",
      "│   s = [1284]\n",
      "└ @ WiagDataSetup C:\\Users\\georg\\Documents\\projekte\\WiagDataSetup.jl\\src\\WiagDataSetup.jl:1112\n",
      "┌ Warning: Could only find year in \n",
      "│   s = [1309]\n",
      "└ @ WiagDataSetup C:\\Users\\georg\\Documents\\projekte\\WiagDataSetup.jl\\src\\WiagDataSetup.jl:1112\n"
     ]
    }
   ],
   "source": [
    "num_date_begin(s_date) = Wds.parsemaybe(s_date, :lower)\n",
    "df_prp_r[!, :num_date_begin] .= num_date_begin.(df_prp_r[!, :Amtsbeginn]);"
   ]
  },
  {
   "cell_type": "code",
   "execution_count": 52,
   "metadata": {},
   "outputs": [
    {
     "name": "stderr",
     "output_type": "stream",
     "text": [
      "┌ Warning: Could only find year in \n",
      "│   s = res. 1399\n",
      "└ @ WiagDataSetup C:\\Users\\georg\\Documents\\projekte\\WiagDataSetup.jl\\src\\WiagDataSetup.jl:1112\n",
      "┌ Warning: Could only find year in \n",
      "│   s = t1529\n",
      "└ @ WiagDataSetup C:\\Users\\georg\\Documents\\projekte\\WiagDataSetup.jl\\src\\WiagDataSetup.jl:1112\n",
      "┌ Warning: Could only find year in \n",
      "│   s = t1547\n",
      "└ @ WiagDataSetup C:\\Users\\georg\\Documents\\projekte\\WiagDataSetup.jl\\src\\WiagDataSetup.jl:1112\n",
      "┌ Warning: Could only find year in \n",
      "│   s = und 1118\n",
      "└ @ WiagDataSetup C:\\Users\\georg\\Documents\\projekte\\WiagDataSetup.jl\\src\\WiagDataSetup.jl:1112\n",
      "┌ Warning: Could only find year in \n",
      "│   s = 1 1320 Aug. 22\n",
      "└ @ WiagDataSetup C:\\Users\\georg\\Documents\\projekte\\WiagDataSetup.jl\\src\\WiagDataSetup.jl:1112\n",
      "┌ Warning: Could not parse \n",
      "│   s = 66\n",
      "└ @ WiagDataSetup C:\\Users\\georg\\Documents\\projekte\\WiagDataSetup.jl\\src\\WiagDataSetup.jl:1117\n",
      "┌ Warning: Could not parse \n",
      "│   s = 86\n",
      "└ @ WiagDataSetup C:\\Users\\georg\\Documents\\projekte\\WiagDataSetup.jl\\src\\WiagDataSetup.jl:1117\n",
      "┌ Warning: Could only find year in \n",
      "│   s = [1223]\n",
      "└ @ WiagDataSetup C:\\Users\\georg\\Documents\\projekte\\WiagDataSetup.jl\\src\\WiagDataSetup.jl:1112\n",
      "┌ Warning: Could only find year in \n",
      "│   s = r 1618\n",
      "└ @ WiagDataSetup C:\\Users\\georg\\Documents\\projekte\\WiagDataSetup.jl\\src\\WiagDataSetup.jl:1112\n",
      "┌ Warning: Could only find year in \n",
      "│   s = u. 1148\n",
      "└ @ WiagDataSetup C:\\Users\\georg\\Documents\\projekte\\WiagDataSetup.jl\\src\\WiagDataSetup.jl:1112\n",
      "┌ Warning: Could only find year in \n",
      "│   s = u. 1188\n",
      "└ @ WiagDataSetup C:\\Users\\georg\\Documents\\projekte\\WiagDataSetup.jl\\src\\WiagDataSetup.jl:1112\n",
      "┌ Warning: Could only find year in \n",
      "│   s = [1241]\n",
      "└ @ WiagDataSetup C:\\Users\\georg\\Documents\\projekte\\WiagDataSetup.jl\\src\\WiagDataSetup.jl:1112\n",
      "┌ Warning: Could only find year in \n",
      "│   s = nach Mai 1624\n",
      "└ @ WiagDataSetup C:\\Users\\georg\\Documents\\projekte\\WiagDataSetup.jl\\src\\WiagDataSetup.jl:1112\n",
      "┌ Warning: Could only find year in \n",
      "│   s = [1202]\n",
      "└ @ WiagDataSetup C:\\Users\\georg\\Documents\\projekte\\WiagDataSetup.jl\\src\\WiagDataSetup.jl:1112\n",
      "┌ Warning: Could only find year in \n",
      "│   s = [1801]\n",
      "└ @ WiagDataSetup C:\\Users\\georg\\Documents\\projekte\\WiagDataSetup.jl\\src\\WiagDataSetup.jl:1112\n",
      "┌ Warning: Could only find year in \n",
      "│   s = vpr 1736\n",
      "└ @ WiagDataSetup C:\\Users\\georg\\Documents\\projekte\\WiagDataSetup.jl\\src\\WiagDataSetup.jl:1112\n",
      "┌ Warning: Could only find year in \n",
      "│   s = t1568\n",
      "└ @ WiagDataSetup C:\\Users\\georg\\Documents\\projekte\\WiagDataSetup.jl\\src\\WiagDataSetup.jl:1112\n"
     ]
    }
   ],
   "source": [
    "num_date_end(s_date) = Wds.parsemaybe(s_date, :upper)\n",
    "df_prp_r[!, :num_date_end] .= num_date_end.(df_prp_r[!, :Amtsende]);"
   ]
  },
  {
   "cell_type": "code",
   "execution_count": 53,
   "metadata": {},
   "outputs": [],
   "source": [
    "df_info = dropmissing(df_prp_r, :Amtsart);"
   ]
  },
  {
   "cell_type": "code",
   "execution_count": 54,
   "metadata": {},
   "outputs": [
    {
     "data": {
      "text/plain": [
       "32097"
      ]
     },
     "execution_count": 54,
     "metadata": {},
     "output_type": "execute_result"
    }
   ],
   "source": [
    "size(df_info, 1)"
   ]
  },
  {
   "cell_type": "code",
   "execution_count": 55,
   "metadata": {},
   "outputs": [
    {
     "data": {
      "text/html": [
       "<div class=\"data-frame\"><p>8 rows × 6 columns</p><table class=\"data-frame\"><thead><tr><th></th><th>ID_Domherr</th><th>Amtsart</th><th>Amtsbeginn</th><th>num_date_begin</th><th>Amtsende</th><th>num_date_end</th></tr><tr><th></th><th title=\"Int32\">Int32</th><th title=\"String\">String</th><th title=\"Union{Missing, String}\">String?</th><th title=\"Union{Missing, Int64}\">Int64?</th><th title=\"Union{Missing, String}\">String?</th><th title=\"Union{Missing, Int64}\">Int64?</th></tr></thead><tbody><tr><th>1</th><td>44969</td><td>Dekan</td><td>1604</td><td>1604</td><td>1605</td><td>1605</td></tr><tr><th>2</th><td>44964</td><td>Dekan</td><td>1605</td><td>1605</td><td>1621</td><td>1621</td></tr><tr><th>3</th><td>44970</td><td>Dekan</td><td>1622</td><td>1622</td><td>1634</td><td>1634</td></tr><tr><th>4</th><td>45034</td><td>Dekan</td><td>1634</td><td>1634</td><td>1638</td><td>1638</td></tr><tr><th>5</th><td>45035</td><td>Dekan</td><td>1638</td><td>1638</td><td>1652</td><td>1652</td></tr><tr><th>6</th><td>44972</td><td>Dekan</td><td>1653</td><td>1653</td><td>1668</td><td>1668</td></tr><tr><th>7</th><td>44973</td><td>Dekan</td><td>1668</td><td>1668</td><td>1679</td><td>1679</td></tr><tr><th>8</th><td>45038</td><td>Dekan</td><td>1679</td><td>1679</td><td>1685</td><td>1685</td></tr></tbody></table></div>"
      ],
      "text/latex": [
       "\\begin{tabular}{r|cccccc}\n",
       "\t& ID\\_Domherr & Amtsart & Amtsbeginn & num\\_date\\_begin & Amtsende & num\\_date\\_end\\\\\n",
       "\t\\hline\n",
       "\t& Int32 & String & String? & Int64? & String? & Int64?\\\\\n",
       "\t\\hline\n",
       "\t1 & 44969 & Dekan & 1604 & 1604 & 1605 & 1605 \\\\\n",
       "\t2 & 44964 & Dekan & 1605 & 1605 & 1621 & 1621 \\\\\n",
       "\t3 & 44970 & Dekan & 1622 & 1622 & 1634 & 1634 \\\\\n",
       "\t4 & 45034 & Dekan & 1634 & 1634 & 1638 & 1638 \\\\\n",
       "\t5 & 45035 & Dekan & 1638 & 1638 & 1652 & 1652 \\\\\n",
       "\t6 & 44972 & Dekan & 1653 & 1653 & 1668 & 1668 \\\\\n",
       "\t7 & 44973 & Dekan & 1668 & 1668 & 1679 & 1679 \\\\\n",
       "\t8 & 45038 & Dekan & 1679 & 1679 & 1685 & 1685 \\\\\n",
       "\\end{tabular}\n"
      ],
      "text/plain": [
       "\u001b[1m8×6 DataFrame\u001b[0m\n",
       "\u001b[1m Row \u001b[0m│\u001b[1m ID_Domherr \u001b[0m\u001b[1m Amtsart \u001b[0m\u001b[1m Amtsbeginn \u001b[0m\u001b[1m num_date_begin \u001b[0m\u001b[1m Amtsende \u001b[0m\u001b[1m num_date_end\u001b[0m ⋯\n",
       "\u001b[1m     \u001b[0m│\u001b[90m Int32      \u001b[0m\u001b[90m String  \u001b[0m\u001b[90m String?    \u001b[0m\u001b[90m Int64?         \u001b[0m\u001b[90m String?  \u001b[0m\u001b[90m Int64?      \u001b[0m ⋯\n",
       "─────┼──────────────────────────────────────────────────────────────────────────\n",
       "   1 │      44969  Dekan    1604                  1604  1605              1605 ⋯\n",
       "   2 │      44964  Dekan    1605                  1605  1621              1621\n",
       "   3 │      44970  Dekan    1622                  1622  1634              1634\n",
       "   4 │      45034  Dekan    1634                  1634  1638              1638\n",
       "   5 │      45035  Dekan    1638                  1638  1652              1652 ⋯\n",
       "   6 │      44972  Dekan    1653                  1653  1668              1668\n",
       "   7 │      44973  Dekan    1668                  1668  1679              1679\n",
       "   8 │      45038  Dekan    1679                  1679  1685              1685"
      ]
     },
     "execution_count": 55,
     "metadata": {},
     "output_type": "execute_result"
    }
   ],
   "source": [
    "df_info[60:67, [:ID_Domherr, :Amtsart, :Amtsbeginn, :num_date_begin, :Amtsende, :num_date_end]]"
   ]
  },
  {
   "cell_type": "code",
   "execution_count": 56,
   "metadata": {},
   "outputs": [
    {
     "data": {
      "text/plain": [
       "(32988, 23)"
      ]
     },
     "execution_count": 56,
     "metadata": {},
     "output_type": "execute_result"
    }
   ],
   "source": [
    "size(df_prp)"
   ]
  },
  {
   "cell_type": "code",
   "execution_count": 57,
   "metadata": {},
   "outputs": [
    {
     "name": "stderr",
     "output_type": "stream",
     "text": [
      "┌ Warning: could not parse \n",
      "│   s = vo 1147\n",
      "└ @ WiagDataSetup C:\\Users\\georg\\Documents\\projekte\\WiagDataSetup.jl\\src\\WiagDataSetup.jl:1514\n",
      "┌ Warning: year out of range in \n",
      "│   s = um 12100\n",
      "└ @ WiagDataSetup C:\\Users\\georg\\Documents\\projekte\\WiagDataSetup.jl\\src\\WiagDataSetup.jl:1506\n",
      "┌ Warning: year out of range in \n",
      "│   s = um 12115\n",
      "└ @ WiagDataSetup C:\\Users\\georg\\Documents\\projekte\\WiagDataSetup.jl\\src\\WiagDataSetup.jl:1506\n",
      "┌ Warning: year out of range in \n",
      "│   s = 12239\n",
      "└ @ WiagDataSetup C:\\Users\\georg\\Documents\\projekte\\WiagDataSetup.jl\\src\\WiagDataSetup.jl:1506\n",
      "┌ Warning: year out of range in \n",
      "│   s = 4563\n",
      "└ @ WiagDataSetup C:\\Users\\georg\\Documents\\projekte\\WiagDataSetup.jl\\src\\WiagDataSetup.jl:1506\n",
      "┌ Warning: could not parse \n",
      "│   s = (1553) 1560\n",
      "└ @ WiagDataSetup C:\\Users\\georg\\Documents\\projekte\\WiagDataSetup.jl\\src\\WiagDataSetup.jl:1514\n",
      "┌ Warning: could not parse \n",
      "│   s = (1574) 1593\n",
      "└ @ WiagDataSetup C:\\Users\\georg\\Documents\\projekte\\WiagDataSetup.jl\\src\\WiagDataSetup.jl:1514\n",
      "┌ Warning: could not parse \n",
      "│   s = t 1567\n",
      "└ @ WiagDataSetup C:\\Users\\georg\\Documents\\projekte\\WiagDataSetup.jl\\src\\WiagDataSetup.jl:1514\n",
      "┌ Warning: could not parse \n",
      "│   s = zwischen 1101\n",
      "└ @ WiagDataSetup C:\\Users\\georg\\Documents\\projekte\\WiagDataSetup.jl\\src\\WiagDataSetup.jl:1514\n",
      "┌ Warning: could not parse \n",
      "│   s = (1553) 1560\n",
      "└ @ WiagDataSetup C:\\Users\\georg\\Documents\\projekte\\WiagDataSetup.jl\\src\\WiagDataSetup.jl:1514\n",
      "┌ Warning: could not parse \n",
      "│   s = (Bewerbung 1451)\n",
      "└ @ WiagDataSetup C:\\Users\\georg\\Documents\\projekte\\WiagDataSetup.jl\\src\\WiagDataSetup.jl:1514\n",
      "┌ Warning: could not parse \n",
      "│   s = [1068]\n",
      "└ @ WiagDataSetup C:\\Users\\georg\\Documents\\projekte\\WiagDataSetup.jl\\src\\WiagDataSetup.jl:1514\n",
      "┌ Warning: could not parse \n",
      "│   s = erneut 1239\n",
      "└ @ WiagDataSetup C:\\Users\\georg\\Documents\\projekte\\WiagDataSetup.jl\\src\\WiagDataSetup.jl:1514\n",
      "┌ Warning: could not parse \n",
      "│   s = [1068]\n",
      "└ @ WiagDataSetup C:\\Users\\georg\\Documents\\projekte\\WiagDataSetup.jl\\src\\WiagDataSetup.jl:1514\n",
      "┌ Warning: could not parse \n",
      "│   s = †1251\n",
      "└ @ WiagDataSetup C:\\Users\\georg\\Documents\\projekte\\WiagDataSetup.jl\\src\\WiagDataSetup.jl:1514\n",
      "┌ Warning: could not parse \n",
      "│   s = [1068]\n",
      "└ @ WiagDataSetup C:\\Users\\georg\\Documents\\projekte\\WiagDataSetup.jl\\src\\WiagDataSetup.jl:1514\n",
      "┌ Warning: could not parse \n",
      "│   s = † 1460\n",
      "└ @ WiagDataSetup C:\\Users\\georg\\Documents\\projekte\\WiagDataSetup.jl\\src\\WiagDataSetup.jl:1514\n",
      "┌ Warning: could not parse \n",
      "│   s = † 1538\n",
      "└ @ WiagDataSetup C:\\Users\\georg\\Documents\\projekte\\WiagDataSetup.jl\\src\\WiagDataSetup.jl:1514\n",
      "┌ Warning: could not parse \n",
      "│   s = (1410 Provision)\n",
      "└ @ WiagDataSetup C:\\Users\\georg\\Documents\\projekte\\WiagDataSetup.jl\\src\\WiagDataSetup.jl:1514\n",
      "┌ Warning: could not parse \n",
      "│   s = (1460 Provision)\n",
      "└ @ WiagDataSetup C:\\Users\\georg\\Documents\\projekte\\WiagDataSetup.jl\\src\\WiagDataSetup.jl:1514\n",
      "┌ Warning: could not parse \n",
      "│   s = vor1420\n",
      "└ @ WiagDataSetup C:\\Users\\georg\\Documents\\projekte\\WiagDataSetup.jl\\src\\WiagDataSetup.jl:1514\n",
      "┌ Warning: could not parse \n",
      "│   s = (1215) (1235)\n",
      "└ @ WiagDataSetup C:\\Users\\georg\\Documents\\projekte\\WiagDataSetup.jl\\src\\WiagDataSetup.jl:1514\n",
      "┌ Warning: could not parse \n",
      "│   s = 1. D. 14. Jh.\n",
      "└ @ WiagDataSetup C:\\Users\\georg\\Documents\\projekte\\WiagDataSetup.jl\\src\\WiagDataSetup.jl:1514\n",
      "┌ Warning: could not parse \n",
      "│   s = (vor) 1515\n",
      "└ @ WiagDataSetup C:\\Users\\georg\\Documents\\projekte\\WiagDataSetup.jl\\src\\WiagDataSetup.jl:1514\n",
      "┌ Warning: could not parse \n",
      "│   s = (vor) 1521\n",
      "└ @ WiagDataSetup C:\\Users\\georg\\Documents\\projekte\\WiagDataSetup.jl\\src\\WiagDataSetup.jl:1514\n",
      "┌ Warning: could not parse \n",
      "│   s = zw. 1123\n",
      "└ @ WiagDataSetup C:\\Users\\georg\\Documents\\projekte\\WiagDataSetup.jl\\src\\WiagDataSetup.jl:1514\n",
      "┌ Warning: could not parse \n",
      "│   s = zw. 1180\n",
      "└ @ WiagDataSetup C:\\Users\\georg\\Documents\\projekte\\WiagDataSetup.jl\\src\\WiagDataSetup.jl:1514\n",
      "┌ Warning: could not parse \n",
      "│   s = [1452] 1467\n",
      "└ @ WiagDataSetup C:\\Users\\georg\\Documents\\projekte\\WiagDataSetup.jl\\src\\WiagDataSetup.jl:1514\n",
      "┌ Warning: could not parse \n",
      "│   s = Feb. 1339\n",
      "└ @ WiagDataSetup C:\\Users\\georg\\Documents\\projekte\\WiagDataSetup.jl\\src\\WiagDataSetup.jl:1514\n",
      "┌ Warning: could not parse \n",
      "│   s = [1239]\n",
      "└ @ WiagDataSetup C:\\Users\\georg\\Documents\\projekte\\WiagDataSetup.jl\\src\\WiagDataSetup.jl:1514\n",
      "┌ Warning: year out of range in \n",
      "│   s = 17681789\n",
      "└ @ WiagDataSetup C:\\Users\\georg\\Documents\\projekte\\WiagDataSetup.jl\\src\\WiagDataSetup.jl:1506\n",
      "┌ Warning: could not parse \n",
      "│   s = [1633?], 1638, 1646\n",
      "└ @ WiagDataSetup C:\\Users\\georg\\Documents\\projekte\\WiagDataSetup.jl\\src\\WiagDataSetup.jl:1514\n",
      "┌ Warning: could not parse \n",
      "│   s = [1539?] 1543\n",
      "└ @ WiagDataSetup C:\\Users\\georg\\Documents\\projekte\\WiagDataSetup.jl\\src\\WiagDataSetup.jl:1514\n",
      "┌ Warning: could not parse \n",
      "│   s = [1241] 1248\n",
      "└ @ WiagDataSetup C:\\Users\\georg\\Documents\\projekte\\WiagDataSetup.jl\\src\\WiagDataSetup.jl:1514\n",
      "┌ Warning: could not parse \n",
      "│   s = [1188]\n",
      "└ @ WiagDataSetup C:\\Users\\georg\\Documents\\projekte\\WiagDataSetup.jl\\src\\WiagDataSetup.jl:1514\n",
      "┌ Warning: could not parse \n",
      "│   s = [1178] 1188\n",
      "└ @ WiagDataSetup C:\\Users\\georg\\Documents\\projekte\\WiagDataSetup.jl\\src\\WiagDataSetup.jl:1514\n",
      "┌ Warning: could not parse \n",
      "│   s = [1233] 1236\n",
      "└ @ WiagDataSetup C:\\Users\\georg\\Documents\\projekte\\WiagDataSetup.jl\\src\\WiagDataSetup.jl:1514\n",
      "┌ Warning: could not parse \n",
      "│   s = 14[4]4\n",
      "└ @ WiagDataSetup C:\\Users\\georg\\Documents\\projekte\\WiagDataSetup.jl\\src\\WiagDataSetup.jl:1514\n",
      "┌ Warning: could not parse \n",
      "│   s = [1290 ca.]\n",
      "└ @ WiagDataSetup C:\\Users\\georg\\Documents\\projekte\\WiagDataSetup.jl\\src\\WiagDataSetup.jl:1514\n",
      "┌ Warning: could not parse \n",
      "│   s = [1235]\n",
      "└ @ WiagDataSetup C:\\Users\\georg\\Documents\\projekte\\WiagDataSetup.jl\\src\\WiagDataSetup.jl:1514\n",
      "┌ Warning: could not parse \n",
      "│   s = ab Mai 973\n",
      "└ @ WiagDataSetup C:\\Users\\georg\\Documents\\projekte\\WiagDataSetup.jl\\src\\WiagDataSetup.jl:1514\n",
      "┌ Warning: could not parse \n",
      "│   s = vor dem 28. Juni 1314\n",
      "└ @ WiagDataSetup C:\\Users\\georg\\Documents\\projekte\\WiagDataSetup.jl\\src\\WiagDataSetup.jl:1514\n",
      "┌ Warning: could not parse \n",
      "│   s = (1158), 1177\n",
      "└ @ WiagDataSetup C:\\Users\\georg\\Documents\\projekte\\WiagDataSetup.jl\\src\\WiagDataSetup.jl:1514\n",
      "┌ Warning: could not parse \n",
      "│   s = [1406/ 1407?]\n",
      "└ @ WiagDataSetup C:\\Users\\georg\\Documents\\projekte\\WiagDataSetup.jl\\src\\WiagDataSetup.jl:1514\n",
      "┌ Warning: could not parse \n",
      "│   s = [1449]\n",
      "└ @ WiagDataSetup C:\\Users\\georg\\Documents\\projekte\\WiagDataSetup.jl\\src\\WiagDataSetup.jl:1514\n",
      "┌ Warning: could not parse \n",
      "│   s = nah 1694\n",
      "└ @ WiagDataSetup C:\\Users\\georg\\Documents\\projekte\\WiagDataSetup.jl\\src\\WiagDataSetup.jl:1514\n",
      "┌ Warning: could not parse \n",
      "│   s = [1284]\n",
      "└ @ WiagDataSetup C:\\Users\\georg\\Documents\\projekte\\WiagDataSetup.jl\\src\\WiagDataSetup.jl:1514\n",
      "┌ Warning: could not parse \n",
      "│   s = [1309]\n",
      "└ @ WiagDataSetup C:\\Users\\georg\\Documents\\projekte\\WiagDataSetup.jl\\src\\WiagDataSetup.jl:1514\n",
      "┌ Warning: could not parse \n",
      "│   s = †1482\n",
      "└ @ WiagDataSetup C:\\Users\\georg\\Documents\\projekte\\WiagDataSetup.jl\\src\\WiagDataSetup.jl:1514\n",
      "┌ Warning: could not parse \n",
      "│   s = †1508\n",
      "└ @ WiagDataSetup C:\\Users\\georg\\Documents\\projekte\\WiagDataSetup.jl\\src\\WiagDataSetup.jl:1514\n",
      "┌ Warning: could not parse \n",
      "│   s = † 1583\n",
      "└ @ WiagDataSetup C:\\Users\\georg\\Documents\\projekte\\WiagDataSetup.jl\\src\\WiagDataSetup.jl:1514\n"
     ]
    }
   ],
   "source": [
    "transform!(df_prp_r, :Amtsbeginn => ByRow(Wds.parse_year_sort) => :date_sort_key);"
   ]
  },
  {
   "cell_type": "code",
   "execution_count": 58,
   "metadata": {},
   "outputs": [
    {
     "name": "stderr",
     "output_type": "stream",
     "text": [
      "┌ Warning: year out of range in \n",
      "│   s = 16445\n",
      "└ @ WiagDataSetup C:\\Users\\georg\\Documents\\projekte\\WiagDataSetup.jl\\src\\WiagDataSetup.jl:1506\n",
      "┌ Warning: could not parse \n",
      "│   s = res. 1399\n",
      "└ @ WiagDataSetup C:\\Users\\georg\\Documents\\projekte\\WiagDataSetup.jl\\src\\WiagDataSetup.jl:1514\n",
      "┌ Warning: could not parse \n",
      "│   s = t1529\n",
      "└ @ WiagDataSetup C:\\Users\\georg\\Documents\\projekte\\WiagDataSetup.jl\\src\\WiagDataSetup.jl:1514\n",
      "┌ Warning: could not parse \n",
      "│   s = t1547\n",
      "└ @ WiagDataSetup C:\\Users\\georg\\Documents\\projekte\\WiagDataSetup.jl\\src\\WiagDataSetup.jl:1514\n",
      "┌ Warning: could not parse \n",
      "│   s = †1259\n",
      "└ @ WiagDataSetup C:\\Users\\georg\\Documents\\projekte\\WiagDataSetup.jl\\src\\WiagDataSetup.jl:1514\n",
      "┌ Warning: could not parse \n",
      "│   s = †1259\n",
      "└ @ WiagDataSetup C:\\Users\\georg\\Documents\\projekte\\WiagDataSetup.jl\\src\\WiagDataSetup.jl:1514\n",
      "┌ Warning: could not parse \n",
      "│   s = †1275\n",
      "└ @ WiagDataSetup C:\\Users\\georg\\Documents\\projekte\\WiagDataSetup.jl\\src\\WiagDataSetup.jl:1514\n",
      "┌ Warning: could not parse \n",
      "│   s = †1314\n",
      "└ @ WiagDataSetup C:\\Users\\georg\\Documents\\projekte\\WiagDataSetup.jl\\src\\WiagDataSetup.jl:1514\n",
      "┌ Warning: could not parse \n",
      "│   s = †1382\n",
      "└ @ WiagDataSetup C:\\Users\\georg\\Documents\\projekte\\WiagDataSetup.jl\\src\\WiagDataSetup.jl:1514\n",
      "┌ Warning: could not parse \n",
      "│   s = †1402\n",
      "└ @ WiagDataSetup C:\\Users\\georg\\Documents\\projekte\\WiagDataSetup.jl\\src\\WiagDataSetup.jl:1514\n",
      "┌ Warning: could not parse \n",
      "│   s = †1408\n",
      "└ @ WiagDataSetup C:\\Users\\georg\\Documents\\projekte\\WiagDataSetup.jl\\src\\WiagDataSetup.jl:1514\n",
      "┌ Warning: could not parse \n",
      "│   s = †1488\n",
      "└ @ WiagDataSetup C:\\Users\\georg\\Documents\\projekte\\WiagDataSetup.jl\\src\\WiagDataSetup.jl:1514\n",
      "┌ Warning: could not parse \n",
      "│   s = †1511\n",
      "└ @ WiagDataSetup C:\\Users\\georg\\Documents\\projekte\\WiagDataSetup.jl\\src\\WiagDataSetup.jl:1514\n",
      "┌ Warning: could not parse \n",
      "│   s = †1523\n",
      "└ @ WiagDataSetup C:\\Users\\georg\\Documents\\projekte\\WiagDataSetup.jl\\src\\WiagDataSetup.jl:1514\n",
      "┌ Warning: could not parse \n",
      "│   s = †1529\n",
      "└ @ WiagDataSetup C:\\Users\\georg\\Documents\\projekte\\WiagDataSetup.jl\\src\\WiagDataSetup.jl:1514\n",
      "┌ Warning: could not parse \n",
      "│   s = †1529\n",
      "└ @ WiagDataSetup C:\\Users\\georg\\Documents\\projekte\\WiagDataSetup.jl\\src\\WiagDataSetup.jl:1514\n",
      "┌ Warning: could not parse \n",
      "│   s = †1544\n",
      "└ @ WiagDataSetup C:\\Users\\georg\\Documents\\projekte\\WiagDataSetup.jl\\src\\WiagDataSetup.jl:1514\n",
      "┌ Warning: could not parse \n",
      "│   s = †1558\n",
      "└ @ WiagDataSetup C:\\Users\\georg\\Documents\\projekte\\WiagDataSetup.jl\\src\\WiagDataSetup.jl:1514\n",
      "┌ Warning: could not parse \n",
      "│   s = †1625\n",
      "└ @ WiagDataSetup C:\\Users\\georg\\Documents\\projekte\\WiagDataSetup.jl\\src\\WiagDataSetup.jl:1514\n",
      "┌ Warning: could not parse \n",
      "│   s = †1636\n",
      "└ @ WiagDataSetup C:\\Users\\georg\\Documents\\projekte\\WiagDataSetup.jl\\src\\WiagDataSetup.jl:1514\n",
      "┌ Warning: could not parse \n",
      "│   s = †1682\n",
      "└ @ WiagDataSetup C:\\Users\\georg\\Documents\\projekte\\WiagDataSetup.jl\\src\\WiagDataSetup.jl:1514\n",
      "┌ Warning: could not parse \n",
      "│   s = †1712\n",
      "└ @ WiagDataSetup C:\\Users\\georg\\Documents\\projekte\\WiagDataSetup.jl\\src\\WiagDataSetup.jl:1514\n",
      "┌ Warning: could not parse \n",
      "│   s = †1772\n",
      "└ @ WiagDataSetup C:\\Users\\georg\\Documents\\projekte\\WiagDataSetup.jl\\src\\WiagDataSetup.jl:1514\n",
      "┌ Warning: could not parse \n",
      "│   s = †1277\n",
      "└ @ WiagDataSetup C:\\Users\\georg\\Documents\\projekte\\WiagDataSetup.jl\\src\\WiagDataSetup.jl:1514\n",
      "┌ Warning: could not parse \n",
      "│   s = †1325\n",
      "└ @ WiagDataSetup C:\\Users\\georg\\Documents\\projekte\\WiagDataSetup.jl\\src\\WiagDataSetup.jl:1514\n",
      "┌ Warning: could not parse \n",
      "│   s = †1340\n",
      "└ @ WiagDataSetup C:\\Users\\georg\\Documents\\projekte\\WiagDataSetup.jl\\src\\WiagDataSetup.jl:1514\n",
      "┌ Warning: could not parse \n",
      "│   s = †1405\n",
      "└ @ WiagDataSetup C:\\Users\\georg\\Documents\\projekte\\WiagDataSetup.jl\\src\\WiagDataSetup.jl:1514\n",
      "┌ Warning: could not parse \n",
      "│   s = †1408\n",
      "└ @ WiagDataSetup C:\\Users\\georg\\Documents\\projekte\\WiagDataSetup.jl\\src\\WiagDataSetup.jl:1514\n",
      "┌ Warning: could not parse \n",
      "│   s = †1443\n",
      "└ @ WiagDataSetup C:\\Users\\georg\\Documents\\projekte\\WiagDataSetup.jl\\src\\WiagDataSetup.jl:1514\n",
      "┌ Warning: could not parse \n",
      "│   s = †1484\n",
      "└ @ WiagDataSetup C:\\Users\\georg\\Documents\\projekte\\WiagDataSetup.jl\\src\\WiagDataSetup.jl:1514\n",
      "┌ Warning: could not parse \n",
      "│   s = †1517\n",
      "└ @ WiagDataSetup C:\\Users\\georg\\Documents\\projekte\\WiagDataSetup.jl\\src\\WiagDataSetup.jl:1514\n",
      "┌ Warning: could not parse \n",
      "│   s = †1523\n",
      "└ @ WiagDataSetup C:\\Users\\georg\\Documents\\projekte\\WiagDataSetup.jl\\src\\WiagDataSetup.jl:1514\n",
      "┌ Warning: could not parse \n",
      "│   s = †1555\n",
      "└ @ WiagDataSetup C:\\Users\\georg\\Documents\\projekte\\WiagDataSetup.jl\\src\\WiagDataSetup.jl:1514\n",
      "┌ Warning: could not parse \n",
      "│   s = †1568\n",
      "└ @ WiagDataSetup C:\\Users\\georg\\Documents\\projekte\\WiagDataSetup.jl\\src\\WiagDataSetup.jl:1514\n",
      "┌ Warning: could not parse \n",
      "│   s = †1603\n",
      "└ @ WiagDataSetup C:\\Users\\georg\\Documents\\projekte\\WiagDataSetup.jl\\src\\WiagDataSetup.jl:1514\n",
      "┌ Warning: could not parse \n",
      "│   s = †1619\n",
      "└ @ WiagDataSetup C:\\Users\\georg\\Documents\\projekte\\WiagDataSetup.jl\\src\\WiagDataSetup.jl:1514\n",
      "┌ Warning: could not parse \n",
      "│   s = † 1419\n",
      "└ @ WiagDataSetup C:\\Users\\georg\\Documents\\projekte\\WiagDataSetup.jl\\src\\WiagDataSetup.jl:1514\n",
      "┌ Warning: could not parse \n",
      "│   s = † 1422\n",
      "└ @ WiagDataSetup C:\\Users\\georg\\Documents\\projekte\\WiagDataSetup.jl\\src\\WiagDataSetup.jl:1514\n",
      "┌ Warning: could not parse \n",
      "│   s = † 1446\n",
      "└ @ WiagDataSetup C:\\Users\\georg\\Documents\\projekte\\WiagDataSetup.jl\\src\\WiagDataSetup.jl:1514\n",
      "┌ Warning: could not parse \n",
      "│   s = † 1491\n",
      "└ @ WiagDataSetup C:\\Users\\georg\\Documents\\projekte\\WiagDataSetup.jl\\src\\WiagDataSetup.jl:1514\n",
      "┌ Warning: could not parse \n",
      "│   s = †1571\n",
      "└ @ WiagDataSetup C:\\Users\\georg\\Documents\\projekte\\WiagDataSetup.jl\\src\\WiagDataSetup.jl:1514\n",
      "┌ Warning: could not parse \n",
      "│   s = † 1595\n",
      "└ @ WiagDataSetup C:\\Users\\georg\\Documents\\projekte\\WiagDataSetup.jl\\src\\WiagDataSetup.jl:1514\n",
      "┌ Warning: could not parse \n",
      "│   s = † 1607\n",
      "└ @ WiagDataSetup C:\\Users\\georg\\Documents\\projekte\\WiagDataSetup.jl\\src\\WiagDataSetup.jl:1514\n",
      "┌ Warning: could not parse \n",
      "│   s = und 1118\n",
      "└ @ WiagDataSetup C:\\Users\\georg\\Documents\\projekte\\WiagDataSetup.jl\\src\\WiagDataSetup.jl:1514\n",
      "┌ Warning: could not parse \n",
      "│   s = †1630\n",
      "└ @ WiagDataSetup C:\\Users\\georg\\Documents\\projekte\\WiagDataSetup.jl\\src\\WiagDataSetup.jl:1514\n",
      "┌ Warning: could not parse \n",
      "│   s = †1635\n",
      "└ @ WiagDataSetup C:\\Users\\georg\\Documents\\projekte\\WiagDataSetup.jl\\src\\WiagDataSetup.jl:1514\n",
      "┌ Warning: could not parse \n",
      "│   s = †1650\n",
      "└ @ WiagDataSetup C:\\Users\\georg\\Documents\\projekte\\WiagDataSetup.jl\\src\\WiagDataSetup.jl:1514\n",
      "┌ Warning: could not parse \n",
      "│   s = †1660\n",
      "└ @ WiagDataSetup C:\\Users\\georg\\Documents\\projekte\\WiagDataSetup.jl\\src\\WiagDataSetup.jl:1514\n",
      "┌ Warning: could not parse \n",
      "│   s = †1717\n",
      "└ @ WiagDataSetup C:\\Users\\georg\\Documents\\projekte\\WiagDataSetup.jl\\src\\WiagDataSetup.jl:1514\n",
      "┌ Warning: could not parse \n",
      "│   s = †1722\n",
      "└ @ WiagDataSetup C:\\Users\\georg\\Documents\\projekte\\WiagDataSetup.jl\\src\\WiagDataSetup.jl:1514\n",
      "┌ Warning: could not parse \n",
      "│   s = †1790\n",
      "└ @ WiagDataSetup C:\\Users\\georg\\Documents\\projekte\\WiagDataSetup.jl\\src\\WiagDataSetup.jl:1514\n",
      "┌ Warning: could not parse \n",
      "│   s = †1335\n",
      "└ @ WiagDataSetup C:\\Users\\georg\\Documents\\projekte\\WiagDataSetup.jl\\src\\WiagDataSetup.jl:1514\n",
      "┌ Warning: could not parse \n",
      "│   s = †1399\n",
      "└ @ WiagDataSetup C:\\Users\\georg\\Documents\\projekte\\WiagDataSetup.jl\\src\\WiagDataSetup.jl:1514\n",
      "┌ Warning: could not parse \n",
      "│   s = †1406\n",
      "└ @ WiagDataSetup C:\\Users\\georg\\Documents\\projekte\\WiagDataSetup.jl\\src\\WiagDataSetup.jl:1514\n",
      "┌ Warning: could not parse \n",
      "│   s = †1419\n",
      "└ @ WiagDataSetup C:\\Users\\georg\\Documents\\projekte\\WiagDataSetup.jl\\src\\WiagDataSetup.jl:1514\n",
      "┌ Warning: could not parse \n",
      "│   s = †1426\n",
      "└ @ WiagDataSetup C:\\Users\\georg\\Documents\\projekte\\WiagDataSetup.jl\\src\\WiagDataSetup.jl:1514\n",
      "┌ Warning: could not parse \n",
      "│   s = †1443\n",
      "└ @ WiagDataSetup C:\\Users\\georg\\Documents\\projekte\\WiagDataSetup.jl\\src\\WiagDataSetup.jl:1514\n",
      "┌ Warning: could not parse \n",
      "│   s = †1480\n",
      "└ @ WiagDataSetup C:\\Users\\georg\\Documents\\projekte\\WiagDataSetup.jl\\src\\WiagDataSetup.jl:1514\n",
      "┌ Warning: could not parse \n",
      "│   s = †1497\n",
      "└ @ WiagDataSetup C:\\Users\\georg\\Documents\\projekte\\WiagDataSetup.jl\\src\\WiagDataSetup.jl:1514\n",
      "┌ Warning: could not parse \n",
      "│   s = †1544\n",
      "└ @ WiagDataSetup C:\\Users\\georg\\Documents\\projekte\\WiagDataSetup.jl\\src\\WiagDataSetup.jl:1514\n",
      "┌ Warning: could not parse \n",
      "│   s = † 1191\n",
      "└ @ WiagDataSetup C:\\Users\\georg\\Documents\\projekte\\WiagDataSetup.jl\\src\\WiagDataSetup.jl:1514\n",
      "┌ Warning: could not parse \n",
      "│   s = † 1215\n",
      "└ @ WiagDataSetup C:\\Users\\georg\\Documents\\projekte\\WiagDataSetup.jl\\src\\WiagDataSetup.jl:1514\n",
      "┌ Warning: could not parse \n",
      "│   s = † 1243\n",
      "└ @ WiagDataSetup C:\\Users\\georg\\Documents\\projekte\\WiagDataSetup.jl\\src\\WiagDataSetup.jl:1514\n",
      "┌ Warning: could not parse \n",
      "│   s = † 1355\n",
      "└ @ WiagDataSetup C:\\Users\\georg\\Documents\\projekte\\WiagDataSetup.jl\\src\\WiagDataSetup.jl:1514\n",
      "┌ Warning: could not parse \n",
      "│   s = †1670\n",
      "└ @ WiagDataSetup C:\\Users\\georg\\Documents\\projekte\\WiagDataSetup.jl\\src\\WiagDataSetup.jl:1514\n",
      "┌ Warning: could not parse \n",
      "│   s = †1676\n",
      "└ @ WiagDataSetup C:\\Users\\georg\\Documents\\projekte\\WiagDataSetup.jl\\src\\WiagDataSetup.jl:1514\n",
      "┌ Warning: could not parse \n",
      "│   s = † 1383/1384\n",
      "└ @ WiagDataSetup C:\\Users\\georg\\Documents\\projekte\\WiagDataSetup.jl\\src\\WiagDataSetup.jl:1514\n",
      "┌ Warning: could not parse \n",
      "│   s = † 1430\n",
      "└ @ WiagDataSetup C:\\Users\\georg\\Documents\\projekte\\WiagDataSetup.jl\\src\\WiagDataSetup.jl:1514\n",
      "┌ Warning: could not parse \n",
      "│   s = † 1435\n",
      "└ @ WiagDataSetup C:\\Users\\georg\\Documents\\projekte\\WiagDataSetup.jl\\src\\WiagDataSetup.jl:1514\n",
      "┌ Warning: could not parse \n",
      "│   s = † 1464\n",
      "└ @ WiagDataSetup C:\\Users\\georg\\Documents\\projekte\\WiagDataSetup.jl\\src\\WiagDataSetup.jl:1514\n",
      "┌ Warning: could not parse \n",
      "│   s = † 1539\n",
      "└ @ WiagDataSetup C:\\Users\\georg\\Documents\\projekte\\WiagDataSetup.jl\\src\\WiagDataSetup.jl:1514\n",
      "┌ Warning: could not parse \n",
      "│   s = † 1547\n",
      "└ @ WiagDataSetup C:\\Users\\georg\\Documents\\projekte\\WiagDataSetup.jl\\src\\WiagDataSetup.jl:1514\n"
     ]
    },
    {
     "name": "stderr",
     "output_type": "stream",
     "text": [
      "┌ Warning: could not parse \n",
      "│   s = † 1579\n",
      "└ @ WiagDataSetup C:\\Users\\georg\\Documents\\projekte\\WiagDataSetup.jl\\src\\WiagDataSetup.jl:1514\n",
      "┌ Warning: could not parse \n",
      "│   s = † 1585\n",
      "└ @ WiagDataSetup C:\\Users\\georg\\Documents\\projekte\\WiagDataSetup.jl\\src\\WiagDataSetup.jl:1514\n",
      "┌ Warning: could not parse \n",
      "│   s = † 1606\n",
      "└ @ WiagDataSetup C:\\Users\\georg\\Documents\\projekte\\WiagDataSetup.jl\\src\\WiagDataSetup.jl:1514\n",
      "┌ Warning: could not parse \n",
      "│   s = † 1614\n",
      "└ @ WiagDataSetup C:\\Users\\georg\\Documents\\projekte\\WiagDataSetup.jl\\src\\WiagDataSetup.jl:1514\n",
      "┌ Warning: could not parse \n",
      "│   s = † 1619\n",
      "└ @ WiagDataSetup C:\\Users\\georg\\Documents\\projekte\\WiagDataSetup.jl\\src\\WiagDataSetup.jl:1514\n",
      "┌ Warning: could not parse \n",
      "│   s = †1356\n",
      "└ @ WiagDataSetup C:\\Users\\georg\\Documents\\projekte\\WiagDataSetup.jl\\src\\WiagDataSetup.jl:1514\n",
      "┌ Warning: could not parse \n",
      "│   s = † 1203\n",
      "└ @ WiagDataSetup C:\\Users\\georg\\Documents\\projekte\\WiagDataSetup.jl\\src\\WiagDataSetup.jl:1514\n",
      "┌ Warning: could not parse \n",
      "│   s = † 1677\n",
      "└ @ WiagDataSetup C:\\Users\\georg\\Documents\\projekte\\WiagDataSetup.jl\\src\\WiagDataSetup.jl:1514\n",
      "┌ Warning: could not parse \n",
      "│   s = † 1731\n",
      "└ @ WiagDataSetup C:\\Users\\georg\\Documents\\projekte\\WiagDataSetup.jl\\src\\WiagDataSetup.jl:1514\n",
      "┌ Warning: could not parse \n",
      "│   s = † 1757\n",
      "└ @ WiagDataSetup C:\\Users\\georg\\Documents\\projekte\\WiagDataSetup.jl\\src\\WiagDataSetup.jl:1514\n",
      "┌ Warning: could not parse \n",
      "│   s = † 1248/52\n",
      "└ @ WiagDataSetup C:\\Users\\georg\\Documents\\projekte\\WiagDataSetup.jl\\src\\WiagDataSetup.jl:1514\n",
      "┌ Warning: could not parse \n",
      "│   s = † 1279/86\n",
      "└ @ WiagDataSetup C:\\Users\\georg\\Documents\\projekte\\WiagDataSetup.jl\\src\\WiagDataSetup.jl:1514\n",
      "┌ Warning: could not parse \n",
      "│   s = †1300/1301\n",
      "└ @ WiagDataSetup C:\\Users\\georg\\Documents\\projekte\\WiagDataSetup.jl\\src\\WiagDataSetup.jl:1514\n",
      "┌ Warning: could not parse \n",
      "│   s = † 1313/1316\n",
      "└ @ WiagDataSetup C:\\Users\\georg\\Documents\\projekte\\WiagDataSetup.jl\\src\\WiagDataSetup.jl:1514\n",
      "┌ Warning: could not parse \n",
      "│   s = † 1346/49\n",
      "└ @ WiagDataSetup C:\\Users\\georg\\Documents\\projekte\\WiagDataSetup.jl\\src\\WiagDataSetup.jl:1514\n",
      "┌ Warning: could not parse \n",
      "│   s = † 1276\n",
      "└ @ WiagDataSetup C:\\Users\\georg\\Documents\\projekte\\WiagDataSetup.jl\\src\\WiagDataSetup.jl:1514\n",
      "┌ Warning: could not parse \n",
      "│   s = †1715\n",
      "└ @ WiagDataSetup C:\\Users\\georg\\Documents\\projekte\\WiagDataSetup.jl\\src\\WiagDataSetup.jl:1514\n",
      "┌ Warning: could not parse \n",
      "│   s = †1761\n",
      "└ @ WiagDataSetup C:\\Users\\georg\\Documents\\projekte\\WiagDataSetup.jl\\src\\WiagDataSetup.jl:1514\n",
      "┌ Warning: could not parse \n",
      "│   s = †1318\n",
      "└ @ WiagDataSetup C:\\Users\\georg\\Documents\\projekte\\WiagDataSetup.jl\\src\\WiagDataSetup.jl:1514\n",
      "┌ Warning: could not parse \n",
      "│   s = †1453\n",
      "└ @ WiagDataSetup C:\\Users\\georg\\Documents\\projekte\\WiagDataSetup.jl\\src\\WiagDataSetup.jl:1514\n",
      "┌ Warning: could not parse \n",
      "│   s = †1459\n",
      "└ @ WiagDataSetup C:\\Users\\georg\\Documents\\projekte\\WiagDataSetup.jl\\src\\WiagDataSetup.jl:1514\n",
      "┌ Warning: could not parse \n",
      "│   s = †1539\n",
      "└ @ WiagDataSetup C:\\Users\\georg\\Documents\\projekte\\WiagDataSetup.jl\\src\\WiagDataSetup.jl:1514\n",
      "┌ Warning: could not parse \n",
      "│   s = †1595\n",
      "└ @ WiagDataSetup C:\\Users\\georg\\Documents\\projekte\\WiagDataSetup.jl\\src\\WiagDataSetup.jl:1514\n",
      "┌ Warning: could not parse \n",
      "│   s = †1614\n",
      "└ @ WiagDataSetup C:\\Users\\georg\\Documents\\projekte\\WiagDataSetup.jl\\src\\WiagDataSetup.jl:1514\n",
      "┌ Warning: could not parse \n",
      "│   s = †1622\n",
      "└ @ WiagDataSetup C:\\Users\\georg\\Documents\\projekte\\WiagDataSetup.jl\\src\\WiagDataSetup.jl:1514\n",
      "┌ Warning: could not parse \n",
      "│   s = †1629\n",
      "└ @ WiagDataSetup C:\\Users\\georg\\Documents\\projekte\\WiagDataSetup.jl\\src\\WiagDataSetup.jl:1514\n",
      "┌ Warning: could not parse \n",
      "│   s = †1633\n",
      "└ @ WiagDataSetup C:\\Users\\georg\\Documents\\projekte\\WiagDataSetup.jl\\src\\WiagDataSetup.jl:1514\n",
      "┌ Warning: could not parse \n",
      "│   s = † 1467\n",
      "└ @ WiagDataSetup C:\\Users\\georg\\Documents\\projekte\\WiagDataSetup.jl\\src\\WiagDataSetup.jl:1514\n",
      "┌ Warning: could not parse \n",
      "│   s = † 1567\n",
      "└ @ WiagDataSetup C:\\Users\\georg\\Documents\\projekte\\WiagDataSetup.jl\\src\\WiagDataSetup.jl:1514\n",
      "┌ Warning: could not parse \n",
      "│   s = † 1315\n",
      "└ @ WiagDataSetup C:\\Users\\georg\\Documents\\projekte\\WiagDataSetup.jl\\src\\WiagDataSetup.jl:1514\n",
      "┌ Warning: could not parse \n",
      "│   s = † 1370\n",
      "└ @ WiagDataSetup C:\\Users\\georg\\Documents\\projekte\\WiagDataSetup.jl\\src\\WiagDataSetup.jl:1514\n",
      "┌ Warning: could not parse \n",
      "│   s = † 1160\n",
      "└ @ WiagDataSetup C:\\Users\\georg\\Documents\\projekte\\WiagDataSetup.jl\\src\\WiagDataSetup.jl:1514\n",
      "┌ Warning: could not parse \n",
      "│   s = † 1716\n",
      "└ @ WiagDataSetup C:\\Users\\georg\\Documents\\projekte\\WiagDataSetup.jl\\src\\WiagDataSetup.jl:1514\n",
      "┌ Warning: could not parse \n",
      "│   s = † 1230/31\n",
      "└ @ WiagDataSetup C:\\Users\\georg\\Documents\\projekte\\WiagDataSetup.jl\\src\\WiagDataSetup.jl:1514\n",
      "┌ Warning: could not parse \n",
      "│   s = † 1400\n",
      "└ @ WiagDataSetup C:\\Users\\georg\\Documents\\projekte\\WiagDataSetup.jl\\src\\WiagDataSetup.jl:1514\n",
      "┌ Warning: could not parse \n",
      "│   s = † 1472\n",
      "└ @ WiagDataSetup C:\\Users\\georg\\Documents\\projekte\\WiagDataSetup.jl\\src\\WiagDataSetup.jl:1514\n",
      "┌ Warning: could not parse \n",
      "│   s = † 1411\n",
      "└ @ WiagDataSetup C:\\Users\\georg\\Documents\\projekte\\WiagDataSetup.jl\\src\\WiagDataSetup.jl:1514\n",
      "┌ Warning: could not parse \n",
      "│   s = † 1422\n",
      "└ @ WiagDataSetup C:\\Users\\georg\\Documents\\projekte\\WiagDataSetup.jl\\src\\WiagDataSetup.jl:1514\n",
      "┌ Warning: could not parse \n",
      "│   s = † 1443\n",
      "└ @ WiagDataSetup C:\\Users\\georg\\Documents\\projekte\\WiagDataSetup.jl\\src\\WiagDataSetup.jl:1514\n",
      "┌ Warning: could not parse \n",
      "│   s = †1461\n",
      "└ @ WiagDataSetup C:\\Users\\georg\\Documents\\projekte\\WiagDataSetup.jl\\src\\WiagDataSetup.jl:1514\n",
      "┌ Warning: could not parse \n",
      "│   s = † 1472\n",
      "└ @ WiagDataSetup C:\\Users\\georg\\Documents\\projekte\\WiagDataSetup.jl\\src\\WiagDataSetup.jl:1514\n",
      "┌ Warning: could not parse \n",
      "│   s = †1486\n",
      "└ @ WiagDataSetup C:\\Users\\georg\\Documents\\projekte\\WiagDataSetup.jl\\src\\WiagDataSetup.jl:1514\n",
      "┌ Warning: could not parse \n",
      "│   s = † 1551\n",
      "└ @ WiagDataSetup C:\\Users\\georg\\Documents\\projekte\\WiagDataSetup.jl\\src\\WiagDataSetup.jl:1514\n",
      "┌ Warning: could not parse \n",
      "│   s = † 1802\n",
      "└ @ WiagDataSetup C:\\Users\\georg\\Documents\\projekte\\WiagDataSetup.jl\\src\\WiagDataSetup.jl:1514\n",
      "┌ Warning: could not parse \n",
      "│   s = †1399\n",
      "└ @ WiagDataSetup C:\\Users\\georg\\Documents\\projekte\\WiagDataSetup.jl\\src\\WiagDataSetup.jl:1514\n",
      "┌ Warning: could not parse \n",
      "│   s = †1425\n",
      "└ @ WiagDataSetup C:\\Users\\georg\\Documents\\projekte\\WiagDataSetup.jl\\src\\WiagDataSetup.jl:1514\n",
      "┌ Warning: could not parse \n",
      "│   s = †1503\n",
      "└ @ WiagDataSetup C:\\Users\\georg\\Documents\\projekte\\WiagDataSetup.jl\\src\\WiagDataSetup.jl:1514\n",
      "┌ Warning: could not parse \n",
      "│   s = †1625\n",
      "└ @ WiagDataSetup C:\\Users\\georg\\Documents\\projekte\\WiagDataSetup.jl\\src\\WiagDataSetup.jl:1514\n",
      "┌ Warning: could not parse \n",
      "│   s = †1683\n",
      "└ @ WiagDataSetup C:\\Users\\georg\\Documents\\projekte\\WiagDataSetup.jl\\src\\WiagDataSetup.jl:1514\n",
      "┌ Warning: could not parse \n",
      "│   s = † 1456?\n",
      "└ @ WiagDataSetup C:\\Users\\georg\\Documents\\projekte\\WiagDataSetup.jl\\src\\WiagDataSetup.jl:1514\n",
      "┌ Warning: could not parse \n",
      "│   s = † 1480\n",
      "└ @ WiagDataSetup C:\\Users\\georg\\Documents\\projekte\\WiagDataSetup.jl\\src\\WiagDataSetup.jl:1514\n",
      "┌ Warning: could not parse \n",
      "│   s = † 1512\n",
      "└ @ WiagDataSetup C:\\Users\\georg\\Documents\\projekte\\WiagDataSetup.jl\\src\\WiagDataSetup.jl:1514\n",
      "┌ Warning: could not parse \n",
      "│   s = † 1622\n",
      "└ @ WiagDataSetup C:\\Users\\georg\\Documents\\projekte\\WiagDataSetup.jl\\src\\WiagDataSetup.jl:1514\n",
      "┌ Warning: could not parse \n",
      "│   s = † 1672\n",
      "└ @ WiagDataSetup C:\\Users\\georg\\Documents\\projekte\\WiagDataSetup.jl\\src\\WiagDataSetup.jl:1514\n",
      "┌ Warning: could not parse \n",
      "│   s = (vor) 1464\n",
      "└ @ WiagDataSetup C:\\Users\\georg\\Documents\\projekte\\WiagDataSetup.jl\\src\\WiagDataSetup.jl:1514\n",
      "┌ Warning: could not parse \n",
      "│   s = 1 1320 Aug. 22\n",
      "└ @ WiagDataSetup C:\\Users\\georg\\Documents\\projekte\\WiagDataSetup.jl\\src\\WiagDataSetup.jl:1514\n",
      "┌ Warning: could not parse \n",
      "│   s = 66\n",
      "└ @ WiagDataSetup C:\\Users\\georg\\Documents\\projekte\\WiagDataSetup.jl\\src\\WiagDataSetup.jl:1514\n",
      "┌ Warning: could not parse \n",
      "│   s = 86\n",
      "└ @ WiagDataSetup C:\\Users\\georg\\Documents\\projekte\\WiagDataSetup.jl\\src\\WiagDataSetup.jl:1514\n",
      "┌ Warning: could not parse \n",
      "│   s = [1223]\n",
      "└ @ WiagDataSetup C:\\Users\\georg\\Documents\\projekte\\WiagDataSetup.jl\\src\\WiagDataSetup.jl:1514\n",
      "┌ Warning: could not parse \n",
      "│   s = r 1618\n",
      "└ @ WiagDataSetup C:\\Users\\georg\\Documents\\projekte\\WiagDataSetup.jl\\src\\WiagDataSetup.jl:1514\n",
      "┌ Warning: could not parse \n",
      "│   s = u. 1148\n",
      "└ @ WiagDataSetup C:\\Users\\georg\\Documents\\projekte\\WiagDataSetup.jl\\src\\WiagDataSetup.jl:1514\n",
      "┌ Warning: could not parse \n",
      "│   s = u. 1188\n",
      "└ @ WiagDataSetup C:\\Users\\georg\\Documents\\projekte\\WiagDataSetup.jl\\src\\WiagDataSetup.jl:1514\n",
      "┌ Warning: could not parse \n",
      "│   s = [1241]\n",
      "└ @ WiagDataSetup C:\\Users\\georg\\Documents\\projekte\\WiagDataSetup.jl\\src\\WiagDataSetup.jl:1514\n",
      "┌ Warning: could not parse \n",
      "│   s = nach Mai 1624\n",
      "└ @ WiagDataSetup C:\\Users\\georg\\Documents\\projekte\\WiagDataSetup.jl\\src\\WiagDataSetup.jl:1514\n",
      "┌ Warning: could not parse \n",
      "│   s = [1202]\n",
      "└ @ WiagDataSetup C:\\Users\\georg\\Documents\\projekte\\WiagDataSetup.jl\\src\\WiagDataSetup.jl:1514\n",
      "┌ Warning: could not parse \n",
      "│   s = [1801]\n",
      "└ @ WiagDataSetup C:\\Users\\georg\\Documents\\projekte\\WiagDataSetup.jl\\src\\WiagDataSetup.jl:1514\n",
      "┌ Warning: could not parse \n",
      "│   s = vpr 1736\n",
      "└ @ WiagDataSetup C:\\Users\\georg\\Documents\\projekte\\WiagDataSetup.jl\\src\\WiagDataSetup.jl:1514\n",
      "┌ Warning: could not parse \n",
      "│   s = †1526\n",
      "└ @ WiagDataSetup C:\\Users\\georg\\Documents\\projekte\\WiagDataSetup.jl\\src\\WiagDataSetup.jl:1514\n",
      "┌ Warning: could not parse \n",
      "│   s = t1568\n",
      "└ @ WiagDataSetup C:\\Users\\georg\\Documents\\projekte\\WiagDataSetup.jl\\src\\WiagDataSetup.jl:1514\n",
      "┌ Warning: could not parse \n",
      "│   s = †1570\n",
      "└ @ WiagDataSetup C:\\Users\\georg\\Documents\\projekte\\WiagDataSetup.jl\\src\\WiagDataSetup.jl:1514\n",
      "┌ Warning: could not parse \n",
      "│   s = † 1484\n",
      "└ @ WiagDataSetup C:\\Users\\georg\\Documents\\projekte\\WiagDataSetup.jl\\src\\WiagDataSetup.jl:1514\n"
     ]
    },
    {
     "name": "stderr",
     "output_type": "stream",
     "text": [
      "┌ Warning: could not parse \n",
      "│   s = † 1301\n",
      "└ @ WiagDataSetup C:\\Users\\georg\\Documents\\projekte\\WiagDataSetup.jl\\src\\WiagDataSetup.jl:1514\n",
      "┌ Warning: could not parse \n",
      "│   s = † 1364\n",
      "└ @ WiagDataSetup C:\\Users\\georg\\Documents\\projekte\\WiagDataSetup.jl\\src\\WiagDataSetup.jl:1514\n",
      "┌ Warning: could not parse \n",
      "│   s = † 1407\n",
      "└ @ WiagDataSetup C:\\Users\\georg\\Documents\\projekte\\WiagDataSetup.jl\\src\\WiagDataSetup.jl:1514\n",
      "┌ Warning: could not parse \n",
      "│   s = † 1506\n",
      "└ @ WiagDataSetup C:\\Users\\georg\\Documents\\projekte\\WiagDataSetup.jl\\src\\WiagDataSetup.jl:1514\n",
      "┌ Warning: could not parse \n",
      "│   s = †1543\n",
      "└ @ WiagDataSetup C:\\Users\\georg\\Documents\\projekte\\WiagDataSetup.jl\\src\\WiagDataSetup.jl:1514\n",
      "┌ Warning: could not parse \n",
      "│   s = † 1571\n",
      "└ @ WiagDataSetup C:\\Users\\georg\\Documents\\projekte\\WiagDataSetup.jl\\src\\WiagDataSetup.jl:1514\n"
     ]
    }
   ],
   "source": [
    "transform!(df_prp_r, :Amtsende => ByRow(Wds.parse_year_sort) => :date_sort_key_replace);"
   ]
  },
  {
   "cell_type": "code",
   "execution_count": 59,
   "metadata": {},
   "outputs": [
    {
     "data": {
      "text/plain": [
       "replace_if_missing (generic function with 1 method)"
      ]
     },
     "execution_count": 59,
     "metadata": {},
     "output_type": "execute_result"
    }
   ],
   "source": [
    "replace_if_missing(a, b) = ismissing(a) ? b : a"
   ]
  },
  {
   "cell_type": "code",
   "execution_count": 60,
   "metadata": {},
   "outputs": [],
   "source": [
    "transform!(df_prp_r, [:date_sort_key, :date_sort_key_replace] => ByRow(replace_if_missing) => :date_sort_key);"
   ]
  },
  {
   "cell_type": "code",
   "execution_count": 61,
   "metadata": {},
   "outputs": [
    {
     "data": {
      "text/plain": [
       "(32988, 0)"
      ]
     },
     "execution_count": 61,
     "metadata": {},
     "output_type": "execute_result"
    }
   ],
   "source": [
    "size(df_prp_r, 1), count(ismissing, df_prp_r.date_sort_key)"
   ]
  },
  {
   "cell_type": "code",
   "execution_count": 62,
   "metadata": {},
   "outputs": [],
   "source": [
    "df_info = dropmissing(df_prp_r, :Amtsart);"
   ]
  },
  {
   "cell_type": "code",
   "execution_count": 63,
   "metadata": {},
   "outputs": [
    {
     "data": {
      "text/html": [
       "<div class=\"data-frame\"><p>6 rows × 6 columns</p><table class=\"data-frame\"><thead><tr><th></th><th>Amtsart</th><th>ID_Amt_norm</th><th>role_id</th><th>num_date_begin</th><th>num_date_end</th><th>date_sort_key</th></tr><tr><th></th><th title=\"String\">String</th><th title=\"Union{Missing, Int32}\">Int32?</th><th title=\"Union{Missing, Int32}\">Int32?</th><th title=\"Union{Missing, Int64}\">Int64?</th><th title=\"Union{Missing, Int64}\">Int64?</th><th title=\"Int64\">Int64</th></tr></thead><tbody><tr><th>1</th><td>Kantor</td><td>66</td><td>74090</td><td>1695</td><td>1699</td><td>1695150</td></tr><tr><th>2</th><td>Kantor</td><td>66</td><td>74090</td><td>1699</td><td>1709</td><td>1699150</td></tr><tr><th>3</th><td>Kantor</td><td>66</td><td>74090</td><td>1710</td><td>1732</td><td>1710150</td></tr><tr><th>4</th><td>Kantor</td><td>66</td><td>74090</td><td>1732</td><td>1738</td><td>1732150</td></tr><tr><th>5</th><td>Kantor</td><td>66</td><td>74090</td><td>1738</td><td>1743</td><td>1738150</td></tr><tr><th>6</th><td>Kantor</td><td>66</td><td>74090</td><td>1743</td><td>1750</td><td>1743150</td></tr></tbody></table></div>"
      ],
      "text/latex": [
       "\\begin{tabular}{r|cccccc}\n",
       "\t& Amtsart & ID\\_Amt\\_norm & role\\_id & num\\_date\\_begin & num\\_date\\_end & date\\_sort\\_key\\\\\n",
       "\t\\hline\n",
       "\t& String & Int32? & Int32? & Int64? & Int64? & Int64\\\\\n",
       "\t\\hline\n",
       "\t1 & Kantor & 66 & 74090 & 1695 & 1699 & 1695150 \\\\\n",
       "\t2 & Kantor & 66 & 74090 & 1699 & 1709 & 1699150 \\\\\n",
       "\t3 & Kantor & 66 & 74090 & 1710 & 1732 & 1710150 \\\\\n",
       "\t4 & Kantor & 66 & 74090 & 1732 & 1738 & 1732150 \\\\\n",
       "\t5 & Kantor & 66 & 74090 & 1738 & 1743 & 1738150 \\\\\n",
       "\t6 & Kantor & 66 & 74090 & 1743 & 1750 & 1743150 \\\\\n",
       "\\end{tabular}\n"
      ],
      "text/plain": [
       "\u001b[1m6×6 DataFrame\u001b[0m\n",
       "\u001b[1m Row \u001b[0m│\u001b[1m Amtsart \u001b[0m\u001b[1m ID_Amt_norm \u001b[0m\u001b[1m role_id \u001b[0m\u001b[1m num_date_begin \u001b[0m\u001b[1m num_date_end \u001b[0m\u001b[1m date_sort_\u001b[0m ⋯\n",
       "\u001b[1m     \u001b[0m│\u001b[90m String  \u001b[0m\u001b[90m Int32?      \u001b[0m\u001b[90m Int32?  \u001b[0m\u001b[90m Int64?         \u001b[0m\u001b[90m Int64?       \u001b[0m\u001b[90m Int64     \u001b[0m ⋯\n",
       "─────┼──────────────────────────────────────────────────────────────────────────\n",
       "   1 │ Kantor            66    74090            1695          1699        1695 ⋯\n",
       "   2 │ Kantor            66    74090            1699          1709        1699\n",
       "   3 │ Kantor            66    74090            1710          1732        1710\n",
       "   4 │ Kantor            66    74090            1732          1738        1732\n",
       "   5 │ Kantor            66    74090            1738          1743        1738 ⋯\n",
       "   6 │ Kantor            66    74090            1743          1750        1743\n",
       "\u001b[36m                                                                1 column omitted\u001b[0m"
      ]
     },
     "execution_count": 63,
     "metadata": {},
     "output_type": "execute_result"
    }
   ],
   "source": [
    "df_info[100:105, [:Amtsart, :ID_Amt_norm, :role_id, :num_date_begin, :num_date_end, :date_sort_key]]"
   ]
  },
  {
   "cell_type": "markdown",
   "metadata": {},
   "source": [
    "Einträge für diesen Item_Typ löschen"
   ]
  },
  {
   "cell_type": "code",
   "execution_count": 64,
   "metadata": {},
   "outputs": [
    {
     "data": {
      "text/plain": [
       "MySQL.TextCursor{true}(MySQL.Connection(host=\"127.0.0.1\", user=\"georg\", port=\"3306\", db=\"wiag2\"), \"DELETE FROM person_role WHERE person_id IN \\n(SELECT id FROM item WHERE item_type_id = 5)\", 0, -1, 0, MySQL.API.MYSQL_RES(Ptr{Nothing} @0x0000000000000000), Symbol[], Type[], Dict{Symbol, Int64}(), 0, 1, false)"
      ]
     },
     "execution_count": 64,
     "metadata": {},
     "output_type": "execute_result"
    }
   ],
   "source": [
    "table_name = \"person_role\"\n",
    "sql = \"DELETE FROM $(table_name) WHERE person_id IN \n",
    "(SELECT id FROM item WHERE item_type_id = $(item_type_id))\"\n",
    "DBInterface.execute(Wds.dbwiag, sql)"
   ]
  },
  {
   "cell_type": "markdown",
   "metadata": {},
   "source": [
    "Daten schreiben\n",
    "\n",
    "Schreibe für alle Bistümer - auch für die identifizierten - den Namen des Bistums in die Tabelle.  \n",
    "Schreibe für alle Institutionen - auch für die identifizieren - die Bezeichnung in die Tabelle.  \n",
    "Schreibe für alle Ämter - auch für die identifizieren - die Bezeichnung in die Tabelle.\n",
    "\n",
    "Erzeuge die IDs selbst, um sie für `person_role_property` zur Verfügung zu haben."
   ]
  },
  {
   "cell_type": "code",
   "execution_count": 65,
   "metadata": {},
   "outputs": [
    {
     "data": {
      "text/html": [
       "<div class=\"data-frame\"><p>1 rows × 1 columns</p><table class=\"data-frame\"><thead><tr><th></th><th>next_id</th></tr><tr><th></th><th title=\"Union{Missing, Int64}\">Int64?</th></tr></thead><tbody><tr><th>1</th><td>348537</td></tr></tbody></table></div>"
      ],
      "text/latex": [
       "\\begin{tabular}{r|c}\n",
       "\t& next\\_id\\\\\n",
       "\t\\hline\n",
       "\t& Int64?\\\\\n",
       "\t\\hline\n",
       "\t1 & 348537 \\\\\n",
       "\\end{tabular}\n"
      ],
      "text/plain": [
       "\u001b[1m1×1 DataFrame\u001b[0m\n",
       "\u001b[1m Row \u001b[0m│\u001b[1m next_id \u001b[0m\n",
       "\u001b[1m     \u001b[0m│\u001b[90m Int64?  \u001b[0m\n",
       "─────┼─────────\n",
       "   1 │  348537"
      ]
     },
     "execution_count": 65,
     "metadata": {},
     "output_type": "execute_result"
    }
   ],
   "source": [
    "table_name = \"person_role\"\n",
    "sql = \"SELECT MAX(id) + 1 AS next_id FROM $(table_name)\"\n",
    "df_next_id = Wds.sql_df(sql)"
   ]
  },
  {
   "cell_type": "code",
   "execution_count": 66,
   "metadata": {},
   "outputs": [
    {
     "data": {
      "text/plain": [
       "348538"
      ]
     },
     "execution_count": 66,
     "metadata": {},
     "output_type": "execute_result"
    }
   ],
   "source": [
    "next_id = df_next_id[1, :next_id] + 1"
   ]
  },
  {
   "cell_type": "code",
   "execution_count": 67,
   "metadata": {},
   "outputs": [],
   "source": [
    "df_prp_r[!, :id] .= collect(next_id:(next_id + size(df_prp_r, 1) - 1));"
   ]
  },
  {
   "cell_type": "code",
   "execution_count": 68,
   "metadata": {},
   "outputs": [
    {
     "data": {
      "text/html": [
       "<div class=\"data-frame\"><p>8 rows × 4 columns</p><table class=\"data-frame\"><thead><tr><th></th><th>id</th><th>person_id</th><th>ID_Domherr</th><th>Amtsart</th></tr><tr><th></th><th title=\"Int64\">Int64</th><th title=\"Union{Missing, Int32}\">Int32?</th><th title=\"Int32\">Int32</th><th title=\"Union{Missing, String}\">String?</th></tr></thead><tbody><tr><th>1</th><td>349537</td><td>130139</td><td>17835</td><td>Domherr</td></tr><tr><th>2</th><td>349538</td><td>130135</td><td>17839</td><td>Domherr</td></tr><tr><th>3</th><td>349539</td><td>123067</td><td>10368</td><td>Domherr</td></tr><tr><th>4</th><td>349540</td><td>130620</td><td>18314</td><td>Domherr</td></tr><tr><th>5</th><td>349541</td><td>130610</td><td>18324</td><td>Domherr</td></tr><tr><th>6</th><td>349542</td><td>130652</td><td>18342</td><td>Domherr</td></tr><tr><th>7</th><td>349543</td><td>122711</td><td>10004</td><td>Domherr</td></tr><tr><th>8</th><td>349544</td><td>122802</td><td>10093</td><td>Domherr</td></tr></tbody></table></div>"
      ],
      "text/latex": [
       "\\begin{tabular}{r|cccc}\n",
       "\t& id & person\\_id & ID\\_Domherr & Amtsart\\\\\n",
       "\t\\hline\n",
       "\t& Int64 & Int32? & Int32 & String?\\\\\n",
       "\t\\hline\n",
       "\t1 & 349537 & 130139 & 17835 & Domherr \\\\\n",
       "\t2 & 349538 & 130135 & 17839 & Domherr \\\\\n",
       "\t3 & 349539 & 123067 & 10368 & Domherr \\\\\n",
       "\t4 & 349540 & 130620 & 18314 & Domherr \\\\\n",
       "\t5 & 349541 & 130610 & 18324 & Domherr \\\\\n",
       "\t6 & 349542 & 130652 & 18342 & Domherr \\\\\n",
       "\t7 & 349543 & 122711 & 10004 & Domherr \\\\\n",
       "\t8 & 349544 & 122802 & 10093 & Domherr \\\\\n",
       "\\end{tabular}\n"
      ],
      "text/plain": [
       "\u001b[1m8×4 DataFrame\u001b[0m\n",
       "\u001b[1m Row \u001b[0m│\u001b[1m id     \u001b[0m\u001b[1m person_id \u001b[0m\u001b[1m ID_Domherr \u001b[0m\u001b[1m Amtsart \u001b[0m\n",
       "\u001b[1m     \u001b[0m│\u001b[90m Int64  \u001b[0m\u001b[90m Int32?    \u001b[0m\u001b[90m Int32      \u001b[0m\u001b[90m String? \u001b[0m\n",
       "─────┼────────────────────────────────────────\n",
       "   1 │ 349537     130139       17835  Domherr\n",
       "   2 │ 349538     130135       17839  Domherr\n",
       "   3 │ 349539     123067       10368  Domherr\n",
       "   4 │ 349540     130620       18314  Domherr\n",
       "   5 │ 349541     130610       18324  Domherr\n",
       "   6 │ 349542     130652       18342  Domherr\n",
       "   7 │ 349543     122711       10004  Domherr\n",
       "   8 │ 349544     122802       10093  Domherr"
      ]
     },
     "execution_count": 68,
     "metadata": {},
     "output_type": "execute_result"
    }
   ],
   "source": [
    "df_prp_r[1000:1007, [:id, :person_id, :ID_Domherr, :Amtsart]]"
   ]
  },
  {
   "cell_type": "code",
   "execution_count": 69,
   "metadata": {},
   "outputs": [],
   "source": [
    "columns = [\n",
    "    :id => :id,\n",
    "    :Bistum => :diocese_name,\n",
    "    :Amtsbeginn => :date_begin,\n",
    "    :Amtsende => :date_end,\n",
    "    :Amt_Kommentar => :note,\n",
    "    :Sort => :display_order,\n",
    "    :Amtsart => :role_name,\n",
    "    :person_id => :person_id,\n",
    "    :diocese_id => :diocese_id,\n",
    "    :role_id => :role_id,\n",
    "    :institution_id => :institution_id,\n",
    "    :institution_name => :institution_name,\n",
    "    :num_date_begin => :num_date_begin,\n",
    "    :num_date_end => :num_date_end,\n",
    "    :date_sort_key => :date_sort_key,\n",
    "];"
   ]
  },
  {
   "cell_type": "code",
   "execution_count": 70,
   "metadata": {},
   "outputs": [
    {
     "data": {
      "text/plain": [
       "9000900"
      ]
     },
     "execution_count": 70,
     "metadata": {},
     "output_type": "execute_result"
    }
   ],
   "source": [
    "maximum(df_prp_r.date_sort_key)"
   ]
  },
  {
   "cell_type": "code",
   "execution_count": 71,
   "metadata": {},
   "outputs": [
    {
     "name": "stderr",
     "output_type": "stream",
     "text": [
      "┌ Info: 10000\n",
      "└ @ WiagDataSetup C:\\Users\\georg\\Documents\\projekte\\WiagDataSetup.jl\\src\\WiagDataSetup.jl:1185\n",
      "┌ Info: 20000\n",
      "└ @ WiagDataSetup C:\\Users\\georg\\Documents\\projekte\\WiagDataSetup.jl\\src\\WiagDataSetup.jl:1185\n",
      "┌ Info: 30000\n",
      "└ @ WiagDataSetup C:\\Users\\georg\\Documents\\projekte\\WiagDataSetup.jl\\src\\WiagDataSetup.jl:1185\n",
      "┌ Info: Rows inserted: 32988\n",
      "└ @ WiagDataSetup C:\\Users\\georg\\Documents\\projekte\\WiagDataSetup.jl\\src\\WiagDataSetup.jl:1208\n"
     ]
    },
    {
     "data": {
      "text/plain": [
       "32988"
      ]
     },
     "execution_count": 71,
     "metadata": {},
     "output_type": "execute_result"
    }
   ],
   "source": [
    "table_name = \"person_role\"\n",
    "Wds.filltable!(table_name, select(df_prp_r, columns))"
   ]
  },
  {
   "cell_type": "markdown",
   "metadata": {},
   "source": [
    "Titularbistum ist noch nicht eingetragen"
   ]
  },
  {
   "cell_type": "markdown",
   "metadata": {},
   "source": [
    "## Zeitspanne der Person"
   ]
  },
  {
   "cell_type": "code",
   "execution_count": 191,
   "metadata": {},
   "outputs": [],
   "source": [
    "table_name = \"person\"\n",
    "sql = \"SELECT id, num_date_birth, num_date_death\n",
    "FROM $(table_name) WHERE id in (SELECT id FROM item WHERE item_type_id = $(item_type_id))\"\n",
    "df_date = Wds.sql_df(sql);"
   ]
  },
  {
   "cell_type": "code",
   "execution_count": 192,
   "metadata": {},
   "outputs": [
    {
     "data": {
      "text/plain": [
       "(22729, 3)"
      ]
     },
     "execution_count": 192,
     "metadata": {},
     "output_type": "execute_result"
    }
   ],
   "source": [
    "size(df_date)"
   ]
  },
  {
   "cell_type": "markdown",
   "metadata": {},
   "source": [
    "Zeitspanne der Ämter"
   ]
  },
  {
   "cell_type": "code",
   "execution_count": 194,
   "metadata": {},
   "outputs": [
    {
     "data": {
      "text/html": [
       "<p><b>GroupedDataFrame with 22018 groups based on key: person_id</b></p><p><i>First Group (3 rows): person_id = 122686</i></p><div class=\"data-frame\"><table class=\"data-frame\"><thead><tr><th></th><th>person_id</th><th>num_date_begin</th></tr><tr><th></th><th title=\"Union{Missing, Int32}\">Int32?</th><th title=\"Int64\">Int64</th></tr></thead><tbody><tr><th>1</th><td>122686</td><td>1680</td></tr><tr><th>2</th><td>122686</td><td>1678</td></tr><tr><th>3</th><td>122686</td><td>1677</td></tr></tbody></table></div><p>&vellip;</p><p><i>Last Group (6 rows): person_id = 145465</i></p><div class=\"data-frame\"><table class=\"data-frame\"><thead><tr><th></th><th>person_id</th><th>num_date_begin</th></tr><tr><th></th><th title=\"Union{Missing, Int32}\">Int32?</th><th title=\"Int64\">Int64</th></tr></thead><tbody><tr><th>1</th><td>145465</td><td>1686</td></tr><tr><th>2</th><td>145465</td><td>1663</td></tr><tr><th>3</th><td>145465</td><td>1663</td></tr><tr><th>4</th><td>145465</td><td>1667</td></tr><tr><th>5</th><td>145465</td><td>1663</td></tr><tr><th>6</th><td>145465</td><td>1663</td></tr></tbody></table></div>"
      ],
      "text/latex": [
       "GroupedDataFrame with 22018 groups based on key: person\\_id\n",
       "\n",
       "First Group (3 rows): person\\_id = 122686\n",
       "\n",
       "\\begin{tabular}{r|cc}\n",
       "\t& person\\_id & num\\_date\\_begin\\\\\n",
       "\t\\hline\n",
       "\t& Int32? & Int64\\\\\n",
       "\t\\hline\n",
       "\t1 & 122686 & 1680 \\\\\n",
       "\t2 & 122686 & 1678 \\\\\n",
       "\t3 & 122686 & 1677 \\\\\n",
       "\\end{tabular}\n",
       "\n",
       "$\\dots$\n",
       "\n",
       "Last Group (6 rows): person\\_id = 145465\n",
       "\n",
       "\\begin{tabular}{r|cc}\n",
       "\t& person\\_id & num\\_date\\_begin\\\\\n",
       "\t\\hline\n",
       "\t& Int32? & Int64\\\\\n",
       "\t\\hline\n",
       "\t1 & 145465 & 1686 \\\\\n",
       "\t2 & 145465 & 1663 \\\\\n",
       "\t3 & 145465 & 1663 \\\\\n",
       "\t4 & 145465 & 1667 \\\\\n",
       "\t5 & 145465 & 1663 \\\\\n",
       "\t6 & 145465 & 1663 \\\\\n",
       "\\end{tabular}\n"
      ],
      "text/plain": [
       "GroupedDataFrame with 22018 groups based on key: person_id\n",
       "First Group (3 rows): person_id = 122686\n",
       "\u001b[1m Row \u001b[0m│\u001b[1m person_id \u001b[0m\u001b[1m num_date_begin \u001b[0m\n",
       "\u001b[1m     \u001b[0m│\u001b[90m Int32?    \u001b[0m\u001b[90m Int64          \u001b[0m\n",
       "─────┼───────────────────────────\n",
       "   1 │    122686            1680\n",
       "   2 │    122686            1678\n",
       "   3 │    122686            1677\n",
       "⋮\n",
       "Last Group (6 rows): person_id = 145465\n",
       "\u001b[1m Row \u001b[0m│\u001b[1m person_id \u001b[0m\u001b[1m num_date_begin \u001b[0m\n",
       "\u001b[1m     \u001b[0m│\u001b[90m Int32?    \u001b[0m\u001b[90m Int64          \u001b[0m\n",
       "─────┼───────────────────────────\n",
       "   1 │    145465            1686\n",
       "   2 │    145465            1663\n",
       "   3 │    145465            1663\n",
       "   4 │    145465            1667\n",
       "   5 │    145465            1663\n",
       "   6 │    145465            1663"
      ]
     },
     "execution_count": 194,
     "metadata": {},
     "output_type": "execute_result"
    }
   ],
   "source": [
    "df_pr_begin_0 = dropmissing(df_prp_r, :num_date_begin)\n",
    "df_pr_begin = groupby(select(df_pr_begin_0, :person_id, :num_date_begin), :person_id)"
   ]
  },
  {
   "cell_type": "code",
   "execution_count": 195,
   "metadata": {},
   "outputs": [],
   "source": [
    "df_pr_date_min = combine(df_pr_begin, :num_date_begin => minimum => :date_min);"
   ]
  },
  {
   "cell_type": "code",
   "execution_count": 196,
   "metadata": {},
   "outputs": [
    {
     "data": {
      "text/plain": [
       "(22018, 2)"
      ]
     },
     "execution_count": 196,
     "metadata": {},
     "output_type": "execute_result"
    }
   ],
   "source": [
    "size(df_pr_date_min)"
   ]
  },
  {
   "cell_type": "code",
   "execution_count": 197,
   "metadata": {},
   "outputs": [
    {
     "data": {
      "text/html": [
       "<div class=\"data-frame\"><p>7 rows × 2 columns</p><table class=\"data-frame\"><thead><tr><th></th><th>person_id</th><th>date_min</th></tr><tr><th></th><th title=\"Union{Missing, Int32}\">Int32?</th><th title=\"Int64\">Int64</th></tr></thead><tbody><tr><th>1</th><td>125728</td><td>1439</td></tr><tr><th>2</th><td>125729</td><td>1436</td></tr><tr><th>3</th><td>125730</td><td>1428</td></tr><tr><th>4</th><td>125731</td><td>1387</td></tr><tr><th>5</th><td>125732</td><td>1434</td></tr><tr><th>6</th><td>125733</td><td>1432</td></tr><tr><th>7</th><td>125734</td><td>1409</td></tr></tbody></table></div>"
      ],
      "text/latex": [
       "\\begin{tabular}{r|cc}\n",
       "\t& person\\_id & date\\_min\\\\\n",
       "\t\\hline\n",
       "\t& Int32? & Int64\\\\\n",
       "\t\\hline\n",
       "\t1 & 125728 & 1439 \\\\\n",
       "\t2 & 125729 & 1436 \\\\\n",
       "\t3 & 125730 & 1428 \\\\\n",
       "\t4 & 125731 & 1387 \\\\\n",
       "\t5 & 125732 & 1434 \\\\\n",
       "\t6 & 125733 & 1432 \\\\\n",
       "\t7 & 125734 & 1409 \\\\\n",
       "\\end{tabular}\n"
      ],
      "text/plain": [
       "\u001b[1m7×2 DataFrame\u001b[0m\n",
       "\u001b[1m Row \u001b[0m│\u001b[1m person_id \u001b[0m\u001b[1m date_min \u001b[0m\n",
       "\u001b[1m     \u001b[0m│\u001b[90m Int32?    \u001b[0m\u001b[90m Int64    \u001b[0m\n",
       "─────┼─────────────────────\n",
       "   1 │    125728      1439\n",
       "   2 │    125729      1436\n",
       "   3 │    125730      1428\n",
       "   4 │    125731      1387\n",
       "   5 │    125732      1434\n",
       "   6 │    125733      1432\n",
       "   7 │    125734      1409"
      ]
     },
     "execution_count": 197,
     "metadata": {},
     "output_type": "execute_result"
    }
   ],
   "source": [
    "df_pr_date_min[3015:3021, :]"
   ]
  },
  {
   "cell_type": "markdown",
   "metadata": {},
   "source": [
    "`date_max`"
   ]
  },
  {
   "cell_type": "code",
   "execution_count": 198,
   "metadata": {},
   "outputs": [
    {
     "data": {
      "text/html": [
       "<p><b>GroupedDataFrame with 15595 groups based on key: person_id</b></p><p><i>First Group (3 rows): person_id = 122686</i></p><div class=\"data-frame\"><table class=\"data-frame\"><thead><tr><th></th><th>person_id</th><th>num_date_end</th></tr><tr><th></th><th title=\"Union{Missing, Int32}\">Int32?</th><th title=\"Int64\">Int64</th></tr></thead><tbody><tr><th>1</th><td>122686</td><td>1690</td></tr><tr><th>2</th><td>122686</td><td>1690</td></tr><tr><th>3</th><td>122686</td><td>1690</td></tr></tbody></table></div><p>&vellip;</p><p><i>Last Group (1 row): person_id = 145465</i></p><div class=\"data-frame\"><table class=\"data-frame\"><thead><tr><th></th><th>person_id</th><th>num_date_end</th></tr><tr><th></th><th title=\"Union{Missing, Int32}\">Int32?</th><th title=\"Int64\">Int64</th></tr></thead><tbody><tr><th>1</th><td>145465</td><td>1688</td></tr></tbody></table></div>"
      ],
      "text/latex": [
       "GroupedDataFrame with 15595 groups based on key: person\\_id\n",
       "\n",
       "First Group (3 rows): person\\_id = 122686\n",
       "\n",
       "\\begin{tabular}{r|cc}\n",
       "\t& person\\_id & num\\_date\\_end\\\\\n",
       "\t\\hline\n",
       "\t& Int32? & Int64\\\\\n",
       "\t\\hline\n",
       "\t1 & 122686 & 1690 \\\\\n",
       "\t2 & 122686 & 1690 \\\\\n",
       "\t3 & 122686 & 1690 \\\\\n",
       "\\end{tabular}\n",
       "\n",
       "$\\dots$\n",
       "\n",
       "Last Group (1 row): person\\_id = 145465\n",
       "\n",
       "\\begin{tabular}{r|cc}\n",
       "\t& person\\_id & num\\_date\\_end\\\\\n",
       "\t\\hline\n",
       "\t& Int32? & Int64\\\\\n",
       "\t\\hline\n",
       "\t1 & 145465 & 1688 \\\\\n",
       "\\end{tabular}\n"
      ],
      "text/plain": [
       "GroupedDataFrame with 15595 groups based on key: person_id\n",
       "First Group (3 rows): person_id = 122686\n",
       "\u001b[1m Row \u001b[0m│\u001b[1m person_id \u001b[0m\u001b[1m num_date_end \u001b[0m\n",
       "\u001b[1m     \u001b[0m│\u001b[90m Int32?    \u001b[0m\u001b[90m Int64        \u001b[0m\n",
       "─────┼─────────────────────────\n",
       "   1 │    122686          1690\n",
       "   2 │    122686          1690\n",
       "   3 │    122686          1690\n",
       "⋮\n",
       "Last Group (1 row): person_id = 145465\n",
       "\u001b[1m Row \u001b[0m│\u001b[1m person_id \u001b[0m\u001b[1m num_date_end \u001b[0m\n",
       "\u001b[1m     \u001b[0m│\u001b[90m Int32?    \u001b[0m\u001b[90m Int64        \u001b[0m\n",
       "─────┼─────────────────────────\n",
       "   1 │    145465          1688"
      ]
     },
     "execution_count": 198,
     "metadata": {},
     "output_type": "execute_result"
    }
   ],
   "source": [
    "df_pr_end_value = dropmissing(df_prp_r, :num_date_end)\n",
    "df_pr_end = groupby(select(df_pr_end_value, :person_id, :num_date_end), :person_id)"
   ]
  },
  {
   "cell_type": "code",
   "execution_count": 199,
   "metadata": {},
   "outputs": [],
   "source": [
    "df_pr_date_max = combine(df_pr_end, :num_date_end => maximum => :date_max);"
   ]
  },
  {
   "cell_type": "code",
   "execution_count": 200,
   "metadata": {},
   "outputs": [
    {
     "data": {
      "text/plain": [
       "(15595, 2)"
      ]
     },
     "execution_count": 200,
     "metadata": {},
     "output_type": "execute_result"
    }
   ],
   "source": [
    "size(df_pr_date_max)"
   ]
  },
  {
   "cell_type": "code",
   "execution_count": 201,
   "metadata": {},
   "outputs": [
    {
     "data": {
      "text/html": [
       "<div class=\"data-frame\"><p>7 rows × 2 columns</p><table class=\"data-frame\"><thead><tr><th></th><th>person_id</th><th>date_max</th></tr><tr><th></th><th title=\"Union{Missing, Int32}\">Int32?</th><th title=\"Int64\">Int64</th></tr></thead><tbody><tr><th>1</th><td>126648</td><td>1368</td></tr><tr><th>2</th><td>126651</td><td>1391</td></tr><tr><th>3</th><td>126652</td><td>1368</td></tr><tr><th>4</th><td>126653</td><td>1389</td></tr><tr><th>5</th><td>126655</td><td>1368</td></tr><tr><th>6</th><td>126657</td><td>1381</td></tr><tr><th>7</th><td>126658</td><td>1377</td></tr></tbody></table></div>"
      ],
      "text/latex": [
       "\\begin{tabular}{r|cc}\n",
       "\t& person\\_id & date\\_max\\\\\n",
       "\t\\hline\n",
       "\t& Int32? & Int64\\\\\n",
       "\t\\hline\n",
       "\t1 & 126648 & 1368 \\\\\n",
       "\t2 & 126651 & 1391 \\\\\n",
       "\t3 & 126652 & 1368 \\\\\n",
       "\t4 & 126653 & 1389 \\\\\n",
       "\t5 & 126655 & 1368 \\\\\n",
       "\t6 & 126657 & 1381 \\\\\n",
       "\t7 & 126658 & 1377 \\\\\n",
       "\\end{tabular}\n"
      ],
      "text/plain": [
       "\u001b[1m7×2 DataFrame\u001b[0m\n",
       "\u001b[1m Row \u001b[0m│\u001b[1m person_id \u001b[0m\u001b[1m date_max \u001b[0m\n",
       "\u001b[1m     \u001b[0m│\u001b[90m Int32?    \u001b[0m\u001b[90m Int64    \u001b[0m\n",
       "─────┼─────────────────────\n",
       "   1 │    126648      1368\n",
       "   2 │    126651      1391\n",
       "   3 │    126652      1368\n",
       "   4 │    126653      1389\n",
       "   5 │    126655      1368\n",
       "   6 │    126657      1381\n",
       "   7 │    126658      1377"
      ]
     },
     "execution_count": 201,
     "metadata": {},
     "output_type": "execute_result"
    }
   ],
   "source": [
    "df_pr_date_max[3015:3021, :]"
   ]
  },
  {
   "cell_type": "code",
   "execution_count": 202,
   "metadata": {},
   "outputs": [],
   "source": [
    "df_pr_date_min_mng = subset(df_pr_date_min, :person_id => ByRow(ismissing));"
   ]
  },
  {
   "cell_type": "code",
   "execution_count": 203,
   "metadata": {},
   "outputs": [
    {
     "data": {
      "text/plain": [
       "(0, 2)"
      ]
     },
     "execution_count": 203,
     "metadata": {},
     "output_type": "execute_result"
    }
   ],
   "source": [
    "size(df_pr_date_min_mng)"
   ]
  },
  {
   "cell_type": "code",
   "execution_count": 204,
   "metadata": {},
   "outputs": [],
   "source": [
    "subset!(df_pr_date_min, :person_id => ByRow(!ismissing));"
   ]
  },
  {
   "cell_type": "code",
   "execution_count": 205,
   "metadata": {},
   "outputs": [],
   "source": [
    "df_date = leftjoin(df_date, df_pr_date_min, on = :id => :person_id);"
   ]
  },
  {
   "cell_type": "code",
   "execution_count": 206,
   "metadata": {},
   "outputs": [],
   "source": [
    "subset!(df_pr_date_max, :person_id => ByRow(!ismissing));"
   ]
  },
  {
   "cell_type": "code",
   "execution_count": 207,
   "metadata": {},
   "outputs": [],
   "source": [
    "df_date = leftjoin(df_date, df_pr_date_max, on = :id => :person_id);"
   ]
  },
  {
   "cell_type": "markdown",
   "metadata": {},
   "source": [
    "Geburts- und Sterbedatum  \n",
    "Geburts- und Sterbedaten - so vorhanden - können die Zeitspanne nur verkürzen!"
   ]
  },
  {
   "cell_type": "code",
   "execution_count": 208,
   "metadata": {},
   "outputs": [],
   "source": [
    "min_may_be(x, y) = ismissing(x) ? y : (ismissing(y) ? x : min(x, y));\n",
    "max_may_be(x, y) = ismissing(x) ? y : (ismissing(y) ? x : max(x, y));"
   ]
  },
  {
   "cell_type": "code",
   "execution_count": 209,
   "metadata": {},
   "outputs": [],
   "source": [
    "transform!(df_date, [:date_min, :num_date_birth] => ByRow(max_may_be) => :date_min); # sic!"
   ]
  },
  {
   "cell_type": "code",
   "execution_count": 210,
   "metadata": {},
   "outputs": [],
   "source": [
    "transform!(df_date, [:date_max, :num_date_death] => ByRow(min_may_be) => :date_max); # sic!"
   ]
  },
  {
   "cell_type": "markdown",
   "metadata": {},
   "source": [
    "Übernimm' den jeweils gültigen Wert für fehlende Daten"
   ]
  },
  {
   "cell_type": "code",
   "execution_count": 211,
   "metadata": {},
   "outputs": [],
   "source": [
    "get_first_not_missing(x, y) = !ismissing(x) ? x : y;"
   ]
  },
  {
   "cell_type": "code",
   "execution_count": 212,
   "metadata": {},
   "outputs": [],
   "source": [
    "transform!(df_date, [:date_min, :date_max] => ByRow(get_first_not_missing) => :date_min);"
   ]
  },
  {
   "cell_type": "code",
   "execution_count": 213,
   "metadata": {},
   "outputs": [],
   "source": [
    "transform!(df_date, [:date_max, :date_min] => ByRow(get_first_not_missing) => :date_max);"
   ]
  },
  {
   "cell_type": "markdown",
   "metadata": {},
   "source": [
    "Damit sind Einträge mit fehlenden Daten entbehrlich"
   ]
  },
  {
   "cell_type": "code",
   "execution_count": 214,
   "metadata": {},
   "outputs": [],
   "source": [
    "dropmissing!(df_date, :date_min);"
   ]
  },
  {
   "cell_type": "markdown",
   "metadata": {},
   "source": [
    "Trage die geänderten Daten ein"
   ]
  },
  {
   "cell_type": "code",
   "execution_count": 215,
   "metadata": {},
   "outputs": [
    {
     "data": {
      "text/plain": [
       "MySQL.TextCursor{true}(MySQL.Connection(host=\"127.0.0.1\", user=\"georg\", port=\"3306\", db=\"wiag2\"), \"CREATE TEMPORARY TABLE date_update (id INT, date_min INT, date_max INT) \\nENGINE=InnoDB DEFAULT CHARSET=utf8;\", 0, -1, 0, MySQL.API.MYSQL_RES(Ptr{Nothing} @0x0000000000000000), Symbol[], Type[], Dict{Symbol, Int64}(), 0, 1, false)"
      ]
     },
     "execution_count": 215,
     "metadata": {},
     "output_type": "execute_result"
    }
   ],
   "source": [
    "sql = \"CREATE TEMPORARY TABLE date_update (id INT, date_min INT, date_max INT) \n",
    "ENGINE=InnoDB DEFAULT CHARSET=utf8;\";\n",
    "DBInterface.execute(Wds.dbwiag, sql)"
   ]
  },
  {
   "cell_type": "code",
   "execution_count": 216,
   "metadata": {},
   "outputs": [
    {
     "data": {
      "text/plain": [
       "5-element Vector{String}:\n",
       " \"id\"\n",
       " \"num_date_birth\"\n",
       " \"num_date_death\"\n",
       " \"date_min\"\n",
       " \"date_max\""
      ]
     },
     "execution_count": 216,
     "metadata": {},
     "output_type": "execute_result"
    }
   ],
   "source": [
    "names(df_date)"
   ]
  },
  {
   "cell_type": "code",
   "execution_count": 217,
   "metadata": {},
   "outputs": [
    {
     "data": {
      "text/plain": [
       "3-element Vector{Pair{Symbol, Symbol}}:\n",
       "       :id => :id\n",
       " :date_min => :date_min\n",
       " :date_max => :date_max"
      ]
     },
     "execution_count": 217,
     "metadata": {},
     "output_type": "execute_result"
    }
   ],
   "source": [
    "columns = [\n",
    "    :id => :id,\n",
    "    :date_min => :date_min,\n",
    "    :date_max => :date_max\n",
    "]"
   ]
  },
  {
   "cell_type": "code",
   "execution_count": 218,
   "metadata": {},
   "outputs": [
    {
     "name": "stderr",
     "output_type": "stream",
     "text": [
      "┌ Info: 10000\n",
      "└ @ WiagDataSetup C:\\Users\\georg\\Documents\\projekte\\WiagDataSetup.jl\\src\\WiagDataSetup.jl:1185\n",
      "┌ Info: 20000\n",
      "└ @ WiagDataSetup C:\\Users\\georg\\Documents\\projekte\\WiagDataSetup.jl\\src\\WiagDataSetup.jl:1185\n",
      "┌ Info: Rows inserted: 22104\n",
      "└ @ WiagDataSetup C:\\Users\\georg\\Documents\\projekte\\WiagDataSetup.jl\\src\\WiagDataSetup.jl:1208\n"
     ]
    }
   ],
   "source": [
    "table_name = \"date_update\"\n",
    "Wds.filltable!(table_name, select(df_date, columns));"
   ]
  },
  {
   "cell_type": "code",
   "execution_count": 219,
   "metadata": {},
   "outputs": [
    {
     "data": {
      "text/plain": [
       "MySQL.TextCursor{true}(MySQL.Connection(host=\"127.0.0.1\", user=\"georg\", port=\"3306\", db=\"wiag2\"), \"UPDATE person AS p, \\n(SELECT id, date_min, date_max FROM date_update) AS du\\nSET p.date_min = du.date_min, p.date_max = du.date_max\\nWHERE p.id = du.id\", 0, -1, 0, MySQL.API.MYSQL_RES(Ptr{Nothing} @0x0000000000000000), Symbol[], Type[], Dict{Symbol, Int64}(), 0, 1, false)"
      ]
     },
     "execution_count": 219,
     "metadata": {},
     "output_type": "execute_result"
    }
   ],
   "source": [
    "sql = \"UPDATE person AS p, \n",
    "(SELECT id, date_min, date_max FROM date_update) AS du\n",
    "SET p.date_min = du.date_min, p.date_max = du.date_max\n",
    "WHERE p.id = du.id\";\n",
    "DBInterface.execute(Wds.dbwiag, sql)"
   ]
  },
  {
   "cell_type": "markdown",
   "metadata": {},
   "source": [
    "*2022-01-17* Es gibt etliche Einträge für Personen mit Ämtern nach 2000?! \n",
    "```sql\n",
    "select p.id, id_in_source, item_type_id, givenname, familyname, date_min, date_max, edit_status, is_online\n",
    "from person as p join item on item.id = p.id and p.date_max > 2000;\n",
    "```"
   ]
  },
  {
   "cell_type": "markdown",
   "metadata": {},
   "source": [
    "## Archidiakonat"
   ]
  },
  {
   "cell_type": "code",
   "execution_count": 72,
   "metadata": {},
   "outputs": [
    {
     "name": "stdout",
     "output_type": "stream",
     "text": [
      "Bistum\n",
      "Amtsart\n",
      "Amtsbeginn\n",
      "Amtsende\n",
      "ID_Amt\n",
      "Institution\n",
      "Amt_weltlich\n",
      "Herrschaftsgebiet\n",
      "Ort\n",
      "Amt_Kommentar\n",
      "Sort\n",
      "Titularbistum\n",
      "Profession\n",
      "ID_Kloster\n",
      "ID_Fremdschlüssel\n",
      "Dignität\n",
      "ID_Domherr\n",
      "Archidiakonat\n",
      "Hilfsfeld_import\n",
      "ID_Amt_norm\n",
      "id_in_source\n",
      "person_id\n",
      "match_role_id\n",
      "role_name\n",
      "role_id\n",
      "diocese_id\n",
      "institution_id\n",
      "institution_name\n",
      "num_date_begin\n",
      "num_date_end\n",
      "date_sort_key\n",
      "date_sort_key_replace\n",
      "id\n"
     ]
    }
   ],
   "source": [
    "println.(names(df_prp_r));"
   ]
  },
  {
   "cell_type": "code",
   "execution_count": 73,
   "metadata": {},
   "outputs": [
    {
     "data": {
      "text/plain": [
       "3-element Vector{Pair{Symbol, Symbol}}:\n",
       "            :id => :person_role_id\n",
       "     :person_id => :person_id\n",
       " :Archidiakonat => :value"
      ]
     },
     "execution_count": 73,
     "metadata": {},
     "output_type": "execute_result"
    }
   ],
   "source": [
    "columns = [\n",
    "    :id => :person_role_id,\n",
    "    :person_id => :person_id,\n",
    "    :Archidiakonat => :value\n",
    "]"
   ]
  },
  {
   "cell_type": "code",
   "execution_count": 74,
   "metadata": {},
   "outputs": [],
   "source": [
    "df_pr_property = select(df_prp_r, columns);"
   ]
  },
  {
   "cell_type": "code",
   "execution_count": 75,
   "metadata": {},
   "outputs": [],
   "source": [
    "dropmissing!(df_pr_property, :value);"
   ]
  },
  {
   "cell_type": "code",
   "execution_count": 76,
   "metadata": {},
   "outputs": [
    {
     "data": {
      "text/plain": [
       "(464, 3)"
      ]
     },
     "execution_count": 76,
     "metadata": {},
     "output_type": "execute_result"
    }
   ],
   "source": [
    "size(df_pr_property)"
   ]
  },
  {
   "cell_type": "code",
   "execution_count": 77,
   "metadata": {},
   "outputs": [],
   "source": [
    "df_pr_property[!, :name] .= \"Archidiakonat\";"
   ]
  },
  {
   "cell_type": "code",
   "execution_count": 78,
   "metadata": {},
   "outputs": [
    {
     "data": {
      "text/html": [
       "<div class=\"data-frame\"><p>8 rows × 4 columns</p><table class=\"data-frame\"><thead><tr><th></th><th>person_role_id</th><th>person_id</th><th>value</th><th>name</th></tr><tr><th></th><th title=\"Int64\">Int64</th><th title=\"Union{Missing, Int32}\">Int32?</th><th title=\"String\">String</th><th title=\"String\">String</th></tr></thead><tbody><tr><th>1</th><td>366150</td><td>132729</td><td>Sarstedt</td><td>Archidiakonat</td></tr><tr><th>2</th><td>366162</td><td>132723</td><td>1359</td><td>Archidiakonat</td></tr><tr><th>3</th><td>366164</td><td>132722</td><td>1489</td><td>Archidiakonat</td></tr><tr><th>4</th><td>366166</td><td>132722</td><td>ca. 1520</td><td>Archidiakonat</td></tr><tr><th>5</th><td>366169</td><td>132720</td><td>Pattensen</td><td>Archidiakonat</td></tr><tr><th>6</th><td>366230</td><td>132761</td><td>Goslar</td><td>Archidiakonat</td></tr><tr><th>7</th><td>366231</td><td>132761</td><td>Bockenem</td><td>Archidiakonat</td></tr><tr><th>8</th><td>366233</td><td>132760</td><td>Goslar</td><td>Archidiakonat</td></tr></tbody></table></div>"
      ],
      "text/latex": [
       "\\begin{tabular}{r|cccc}\n",
       "\t& person\\_role\\_id & person\\_id & value & name\\\\\n",
       "\t\\hline\n",
       "\t& Int64 & Int32? & String & String\\\\\n",
       "\t\\hline\n",
       "\t1 & 366150 & 132729 & Sarstedt & Archidiakonat \\\\\n",
       "\t2 & 366162 & 132723 & 1359 & Archidiakonat \\\\\n",
       "\t3 & 366164 & 132722 & 1489 & Archidiakonat \\\\\n",
       "\t4 & 366166 & 132722 & ca. 1520 & Archidiakonat \\\\\n",
       "\t5 & 366169 & 132720 & Pattensen & Archidiakonat \\\\\n",
       "\t6 & 366230 & 132761 & Goslar & Archidiakonat \\\\\n",
       "\t7 & 366231 & 132761 & Bockenem & Archidiakonat \\\\\n",
       "\t8 & 366233 & 132760 & Goslar & Archidiakonat \\\\\n",
       "\\end{tabular}\n"
      ],
      "text/plain": [
       "\u001b[1m8×4 DataFrame\u001b[0m\n",
       "\u001b[1m Row \u001b[0m│\u001b[1m person_role_id \u001b[0m\u001b[1m person_id \u001b[0m\u001b[1m value     \u001b[0m\u001b[1m name          \u001b[0m\n",
       "\u001b[1m     \u001b[0m│\u001b[90m Int64          \u001b[0m\u001b[90m Int32?    \u001b[0m\u001b[90m String    \u001b[0m\u001b[90m String        \u001b[0m\n",
       "─────┼─────────────────────────────────────────────────────\n",
       "   1 │         366150     132729  Sarstedt   Archidiakonat\n",
       "   2 │         366162     132723  1359       Archidiakonat\n",
       "   3 │         366164     132722  1489       Archidiakonat\n",
       "   4 │         366166     132722  ca. 1520   Archidiakonat\n",
       "   5 │         366169     132720  Pattensen  Archidiakonat\n",
       "   6 │         366230     132761  Goslar     Archidiakonat\n",
       "   7 │         366231     132761  Bockenem   Archidiakonat\n",
       "   8 │         366233     132760  Goslar     Archidiakonat"
      ]
     },
     "execution_count": 78,
     "metadata": {},
     "output_type": "execute_result"
    }
   ],
   "source": [
    "df_pr_property[407:414, :]"
   ]
  },
  {
   "cell_type": "code",
   "execution_count": 83,
   "metadata": {},
   "outputs": [
    {
     "data": {
      "text/plain": [
       "MySQL.TextCursor{true}(MySQL.Connection(host=\"127.0.0.1\", user=\"georg\", port=\"3306\", db=\"wiag2\"), \"DELETE FROM person_role_property\\nWHERE person_id IN\\n(SELECT id FROM item WHERE item_type_id = 5)\", 0, -1, 928, MySQL.API.MYSQL_RES(Ptr{Nothing} @0x0000000000000000), Symbol[], Type[], Dict{Symbol, Int64}(), 0, 1, false)"
      ]
     },
     "execution_count": 83,
     "metadata": {},
     "output_type": "execute_result"
    }
   ],
   "source": [
    "table_name = \"person_role_property\";\n",
    "sql = \"DELETE FROM $(table_name)\n",
    "WHERE person_id IN\n",
    "(SELECT id FROM item WHERE item_type_id = $(item_type_id))\";\n",
    "DBInterface.execute(Wds.dbwiag, sql)"
   ]
  },
  {
   "cell_type": "code",
   "execution_count": 84,
   "metadata": {},
   "outputs": [
    {
     "name": "stderr",
     "output_type": "stream",
     "text": [
      "┌ Info: Rows inserted: 464\n",
      "└ @ WiagDataSetup C:\\Users\\georg\\Documents\\projekte\\WiagDataSetup.jl\\src\\WiagDataSetup.jl:1208\n"
     ]
    },
    {
     "data": {
      "text/plain": [
       "464"
      ]
     },
     "execution_count": 84,
     "metadata": {},
     "output_type": "execute_result"
    }
   ],
   "source": [
    "table_name = \"person_role_property\"\n",
    "Wds.filltable!(table_name, df_pr_property)"
   ]
  },
  {
   "cell_type": "markdown",
   "metadata": {},
   "source": [
    "## Sortierung der Person nach Amt\n",
    "Die Tabelle `person_display_order` ist eine technische Hilfstabelle, um die Abfragen in Doctrine zu vereinfachen oder überhaupt erst zu ermöglichen. Jede Person erhält für jedes Bistum einen Sortierschlüssel und einen weiteren unabhängig vom Bistum.\n",
    "\n",
    "*2022-01-17* Verzichte zunächst auf diese Tabelle und löse das Problem in der Web-Anwendung. So bleibt das Datenmodell schlanker."
   ]
  },
  {
   "cell_type": "code",
   "execution_count": 45,
   "metadata": {},
   "outputs": [],
   "source": [
    "using MySQL, DataFrames"
   ]
  },
  {
   "cell_type": "markdown",
   "metadata": {},
   "source": [
    "Sortierung unabhängig von einer Diözese. Es werden auch Ämter berücksichtigt, die nicht mit einer Diözese verbunden sind."
   ]
  },
  {
   "cell_type": "code",
   "execution_count": 48,
   "metadata": {},
   "outputs": [],
   "source": [
    "sql = \"SELECT person_id, 'any' as diocese, min(display_order) as display_order \" *\n",
    "\"FROM person_role GROUP BY person_id\";\n",
    "df_do = db_exec(sql);"
   ]
  },
  {
   "cell_type": "code",
   "execution_count": 49,
   "metadata": {},
   "outputs": [
    {
     "data": {
      "text/plain": [
       "(5159, 3)"
      ]
     },
     "execution_count": 49,
     "metadata": {},
     "output_type": "execute_result"
    }
   ],
   "source": [
    "size(df_do)"
   ]
  },
  {
   "cell_type": "markdown",
   "metadata": {},
   "source": [
    "Zwölf Bischöfe haben kein Amt!?"
   ]
  },
  {
   "cell_type": "code",
   "execution_count": 50,
   "metadata": {},
   "outputs": [
    {
     "name": "stderr",
     "output_type": "stream",
     "text": [
      "┌ Info: Rows inserted: 5159\n",
      "└ @ WiagDataSetup C:\\Users\\Georg\\Documents\\projekte\\WiagDataSetup.jl\\src\\WiagDataSetup.jl:1169\n"
     ]
    },
    {
     "data": {
      "text/plain": [
       "5159"
      ]
     },
     "execution_count": 50,
     "metadata": {},
     "output_type": "execute_result"
    }
   ],
   "source": [
    "table_dst = \"person_display_order\"\n",
    "Wds.filltable!(table_dst, df_do)"
   ]
  },
  {
   "cell_type": "markdown",
   "metadata": {},
   "source": [
    "Sortierung nach Diözese"
   ]
  },
  {
   "cell_type": "code",
   "execution_count": 52,
   "metadata": {},
   "outputs": [],
   "source": [
    "sql = \"SELECT person_id, diocese_name as diocese, min(display_order) as display_order \" *\n",
    "\"FROM person_role \" *\n",
    "\"WHERE diocese_name IS NOT NULL \" *\n",
    "\"GROUP BY person_id, diocese_name\";\n",
    "df_do = db_exec(sql);"
   ]
  },
  {
   "cell_type": "code",
   "execution_count": 53,
   "metadata": {},
   "outputs": [
    {
     "data": {
      "text/plain": [
       "(6370, 3)"
      ]
     },
     "execution_count": 53,
     "metadata": {},
     "output_type": "execute_result"
    }
   ],
   "source": [
    "size(df_do)"
   ]
  },
  {
   "cell_type": "code",
   "execution_count": 54,
   "metadata": {},
   "outputs": [
    {
     "name": "stderr",
     "output_type": "stream",
     "text": [
      "┌ Info: Rows inserted: 6370\n",
      "└ @ WiagDataSetup C:\\Users\\Georg\\Documents\\projekte\\WiagDataSetup.jl\\src\\WiagDataSetup.jl:1169\n"
     ]
    },
    {
     "data": {
      "text/plain": [
       "6370"
      ]
     },
     "execution_count": 54,
     "metadata": {},
     "output_type": "execute_result"
    }
   ],
   "source": [
    "table_dst = \"person_display_order\"\n",
    "Wds.filltable!(table_dst, df_do)"
   ]
  },
  {
   "cell_type": "markdown",
   "metadata": {},
   "source": [
    "Bischöfe ohne Ämter"
   ]
  },
  {
   "cell_type": "code",
   "execution_count": 55,
   "metadata": {},
   "outputs": [],
   "source": [
    "sql = \"SELECT id AS person_id, 'any' as diocese, 950000 AS display_order \" *\n",
    "\"FROM person WHERE id NOT IN (SELECT DISTINCT person_id FROM person_role)\"\n",
    "df_do_r = db_exec(sql);"
   ]
  },
  {
   "cell_type": "code",
   "execution_count": 56,
   "metadata": {},
   "outputs": [
    {
     "data": {
      "text/plain": [
       "(12, 3)"
      ]
     },
     "execution_count": 56,
     "metadata": {},
     "output_type": "execute_result"
    }
   ],
   "source": [
    "size(df_do_r)"
   ]
  },
  {
   "cell_type": "code",
   "execution_count": 57,
   "metadata": {},
   "outputs": [
    {
     "name": "stderr",
     "output_type": "stream",
     "text": [
      "┌ Info: Rows inserted: 12\n",
      "└ @ WiagDataSetup C:\\Users\\Georg\\Documents\\projekte\\WiagDataSetup.jl\\src\\WiagDataSetup.jl:1169\n"
     ]
    },
    {
     "data": {
      "text/plain": [
       "12"
      ]
     },
     "execution_count": 57,
     "metadata": {},
     "output_type": "execute_result"
    }
   ],
   "source": [
    "table_dst = \"person_display_order\"\n",
    "Wds.filltable!(table_dst, df_do_r)"
   ]
  },
  {
   "cell_type": "code",
   "execution_count": null,
   "metadata": {},
   "outputs": [],
   "source": []
  },
  {
   "cell_type": "code",
   "execution_count": null,
   "metadata": {},
   "outputs": [],
   "source": []
  },
  {
   "cell_type": "code",
   "execution_count": null,
   "metadata": {},
   "outputs": [],
   "source": []
  }
 ],
 "metadata": {
  "kernelspec": {
   "display_name": "Julia 1.7.0",
   "language": "julia",
   "name": "julia-1.7"
  },
  "language_info": {
   "file_extension": ".jl",
   "mimetype": "application/julia",
   "name": "julia",
   "version": "1.7.0"
  }
 },
 "nbformat": 4,
 "nbformat_minor": 4
}
