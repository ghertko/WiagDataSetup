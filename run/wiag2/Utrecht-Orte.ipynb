{
 "cells": [
  {
   "cell_type": "markdown",
   "metadata": {},
   "source": [
    "# Orte für die Utrechter Priester für WIAG 2"
   ]
  },
  {
   "cell_type": "markdown",
   "metadata": {},
   "source": [
    "[Zuordnung zu Orten in `place`](#Zuordnung-zu-bekannten-Orten-in-Tabelle-place)  \n",
    "[Orte in `place` eintragen](#Orte-in-place-eintragen)  \n",
    "[Geburtsorte zuordnen](#Geburtsorte-zuordnen)  \n",
    "[Verweise auf WHG eintragen](#Verweise-auf-WHG-eintragen)  "
   ]
  },
  {
   "cell_type": "code",
   "execution_count": 1,
   "metadata": {},
   "outputs": [
    {
     "data": {
      "text/plain": [
       "120"
      ]
     },
     "execution_count": 1,
     "metadata": {},
     "output_type": "execute_result"
    }
   ],
   "source": [
    "ENV[\"COLUMNS\"] = 120"
   ]
  },
  {
   "cell_type": "code",
   "execution_count": 2,
   "metadata": {},
   "outputs": [
    {
     "data": {
      "text/plain": [
       "\"C:\\\\Users\\\\georg\\\\Documents\\\\projekte\\\\WiagDataSetup.jl\""
      ]
     },
     "execution_count": 2,
     "metadata": {},
     "output_type": "execute_result"
    }
   ],
   "source": [
    "wds_path = \"C:\\\\Users\\\\georg\\\\Documents\\\\projekte\\\\WiagDataSetup.jl\""
   ]
  },
  {
   "cell_type": "code",
   "execution_count": 3,
   "metadata": {},
   "outputs": [],
   "source": [
    "using Pkg"
   ]
  },
  {
   "cell_type": "code",
   "execution_count": 4,
   "metadata": {},
   "outputs": [
    {
     "name": "stderr",
     "output_type": "stream",
     "text": [
      "\u001b[32m\u001b[1m  Activating\u001b[22m\u001b[39m project at `C:\\Users\\georg\\Documents\\projekte\\WiagDataSetup.jl`\n"
     ]
    }
   ],
   "source": [
    "Pkg.activate(wds_path)"
   ]
  },
  {
   "cell_type": "code",
   "execution_count": 5,
   "metadata": {},
   "outputs": [],
   "source": [
    "using JSON, DataFrames, CSV"
   ]
  },
  {
   "cell_type": "code",
   "execution_count": 6,
   "metadata": {},
   "outputs": [],
   "source": [
    "using WiagDataSetup"
   ]
  },
  {
   "cell_type": "code",
   "execution_count": 7,
   "metadata": {},
   "outputs": [
    {
     "data": {
      "text/plain": [
       "WiagDataSetup"
      ]
     },
     "execution_count": 7,
     "metadata": {},
     "output_type": "execute_result"
    }
   ],
   "source": [
    "Wds = WiagDataSetup"
   ]
  },
  {
   "cell_type": "code",
   "execution_count": 8,
   "metadata": {},
   "outputs": [
    {
     "data": {
      "text/plain": [
       "\"C:/Users/georg/Documents/projekte-doc/Utrecht-Priester/data_sql\""
      ]
     },
     "execution_count": 8,
     "metadata": {},
     "output_type": "execute_result"
    }
   ],
   "source": [
    "computer = :bkroege_goe\n",
    "computer = :ghertko_kn\n",
    "if computer == :bkroege_goe\n",
    "    data_path = \"../data\"\n",
    "    out_path = \"../data_sql\"\n",
    "else\n",
    "    data_path = \"C:/Users/georg/Documents/projekte-doc/Utrecht-Priester/data\"\n",
    "    out_path = \"C:/Users/georg/Documents/projekte-doc/Utrecht-Priester/data_sql\"\n",
    "end"
   ]
  },
  {
   "cell_type": "code",
   "execution_count": 9,
   "metadata": {},
   "outputs": [
    {
     "data": {
      "text/plain": [
       "\"C:/Users/georg/Documents/projekte-doc/Utrecht-Priester/data\\\\AnonymousUser_ordinations_788_20220329_145955.json\""
      ]
     },
     "execution_count": 9,
     "metadata": {},
     "output_type": "execute_result"
    }
   ],
   "source": [
    "file_name = joinpath(data_path, \"AnonymousUser_ordinations_788_20220329_145955.json\")"
   ]
  },
  {
   "cell_type": "code",
   "execution_count": 10,
   "metadata": {},
   "outputs": [],
   "source": [
    "d_place = JSON.parsefile(file_name);"
   ]
  },
  {
   "cell_type": "code",
   "execution_count": 11,
   "metadata": {},
   "outputs": [
    {
     "data": {
      "text/plain": [
       "KeySet for a Dict{String, Any} with 4 entries. Keys:\n",
       "  \"@context\"\n",
       "  \"features\"\n",
       "  \"filename\"\n",
       "  \"type\""
      ]
     },
     "execution_count": 11,
     "metadata": {},
     "output_type": "execute_result"
    }
   ],
   "source": [
    "keys(d_place)"
   ]
  },
  {
   "cell_type": "code",
   "execution_count": 12,
   "metadata": {},
   "outputs": [],
   "source": [
    "features = d_place[\"features\"];"
   ]
  },
  {
   "cell_type": "code",
   "execution_count": 13,
   "metadata": {},
   "outputs": [
    {
     "data": {
      "text/plain": [
       "788"
      ]
     },
     "execution_count": 13,
     "metadata": {},
     "output_type": "execute_result"
    }
   ],
   "source": [
    "length(features)"
   ]
  },
  {
   "cell_type": "code",
   "execution_count": 14,
   "metadata": {},
   "outputs": [
    {
     "data": {
      "text/plain": [
       "\"brom_1052\""
      ]
     },
     "execution_count": 14,
     "metadata": {},
     "output_type": "execute_result"
    }
   ],
   "source": [
    "features[25][\"@id\"]"
   ]
  },
  {
   "cell_type": "code",
   "execution_count": 15,
   "metadata": {},
   "outputs": [
    {
     "data": {
      "text/plain": [
       "(\"closeMatch\", \"wd:Q18982898\")"
      ]
     },
     "execution_count": 15,
     "metadata": {},
     "output_type": "execute_result"
    }
   ],
   "source": [
    "features[25][\"links\"][1][\"type\"], features[25][\"links\"][1][\"identifier\"]"
   ]
  },
  {
   "cell_type": "code",
   "execution_count": 15,
   "metadata": {},
   "outputs": [
    {
     "data": {
      "text/plain": [
       "get_whg_id (generic function with 1 method)"
      ]
     },
     "execution_count": 15,
     "metadata": {},
     "output_type": "execute_result"
    }
   ],
   "source": [
    "get_whg_id(a) = replace(a, \"http://whgazetteer.org/api/place/\" => \"\")"
   ]
  },
  {
   "cell_type": "code",
   "execution_count": 16,
   "metadata": {},
   "outputs": [
    {
     "data": {
      "text/plain": [
       "make_row (generic function with 1 method)"
      ]
     },
     "execution_count": 16,
     "metadata": {},
     "output_type": "execute_result"
    }
   ],
   "source": [
    "make_row(df::AbstractDataFrame) = Dict{Symbol, Any}(a => missing for a in Symbol.(names(df)))"
   ]
  },
  {
   "cell_type": "markdown",
   "metadata": {},
   "source": [
    "Schreibe einen Eintrag für jede Namensvariante"
   ]
  },
  {
   "cell_type": "code",
   "execution_count": 198,
   "metadata": {},
   "outputs": [],
   "source": [
    "df_place = DataFrame(\n",
    "    id = String[],\n",
    "    whg_id = String[],\n",
    "    title = String[],    \n",
    "    link_type = Union{String, Missing}[],\n",
    "    link_identifier = Union{String, Missing}[],\n",
    "    type_label = Union{String, Missing}[],\n",
    "    type_identifier = Union{String, Missing}[],\n",
    "    longitude = Union{Float64, Missing}[],\n",
    "    latitude = Union{Float64, Missing}[],\n",
    ");"
   ]
  },
  {
   "cell_type": "code",
   "execution_count": 20,
   "metadata": {},
   "outputs": [
    {
     "data": {
      "text/plain": [
       "Dict{Symbol, Any} with 9 entries:\n",
       "  :coo_0           => missing\n",
       "  :coo_1           => missing\n",
       "  :link_identifier => missing\n",
       "  :id              => missing\n",
       "  :link_type       => missing\n",
       "  :type_label      => missing\n",
       "  :title           => missing\n",
       "  :whg_id          => missing\n",
       "  :type_identifier => missing"
      ]
     },
     "execution_count": 20,
     "metadata": {},
     "output_type": "execute_result"
    }
   ],
   "source": [
    "make_row(df_place)"
   ]
  },
  {
   "cell_type": "markdown",
   "metadata": {},
   "source": [
    "Befülle `df` mit den Daten aus `features` (aus JSON-File)."
   ]
  },
  {
   "cell_type": "code",
   "execution_count": 39,
   "metadata": {},
   "outputs": [
    {
     "data": {
      "text/plain": [
       "6-element Vector{Any}:\n",
       " Dict{String, Any}(\"identifier\" => \"primaryTopicOf: wp:Oudewater (lungsod sa Olandres)\", \"type\" => \"closeMatch\")\n",
       " Dict{String, Any}(\"identifier\" => \"tgn:1048037\", \"type\" => \"closeMatch\")\n",
       " Dict{String, Any}(\"identifier\" => \"wd:Q33470616\", \"type\" => \"closeMatch\")\n",
       " Dict{String, Any}(\"identifier\" => \"loc:n83052580\", \"type\" => \"closeMatch\")\n",
       " Dict{String, Any}(\"identifier\" => \"gn:2748979\", \"type\" => \"closeMatch\")\n",
       " Dict{String, Any}(\"identifier\" => \"viaf:125524894\", \"type\" => \"closeMatch\")"
      ]
     },
     "execution_count": 39,
     "metadata": {},
     "output_type": "execute_result"
    }
   ],
   "source": [
    "features[223][\"links\"]"
   ]
  },
  {
   "cell_type": "markdown",
   "metadata": {},
   "source": [
    "Erzeuge einen Eintrag in `df` für jeden Link"
   ]
  },
  {
   "cell_type": "code",
   "execution_count": 197,
   "metadata": {},
   "outputs": [
    {
     "data": {
      "text/plain": [
       "fill_df_link (generic function with 1 method)"
      ]
     },
     "execution_count": 197,
     "metadata": {},
     "output_type": "execute_result"
    }
   ],
   "source": [
    "function fill_df_link(df_link, features)\n",
    "    i = 0\n",
    "    n_max = Inf\n",
    "    for f in features\n",
    "        pr = make_row(df_link)\n",
    "        pr[:id] = f[\"@id\"]\n",
    "        pr[:whg_id] = get_whg_id(f[\"properties\"][\"pid\"])\n",
    "        pr[:title] = f[\"properties\"][\"title\"]\n",
    "        for g in f[\"geometry\"][\"geometries\"]\n",
    "            if haskey(g, \"citation\")\n",
    "                continue\n",
    "            end\n",
    "            if g[\"type\"] == \"Point\"\n",
    "                pr[:longitude] = g[\"coordinates\"][1]\n",
    "                pr[:latitude] = g[\"coordinates\"][2]\n",
    "            end\n",
    "        end\n",
    "        has_links = false\n",
    "        for l in f[\"links\"]\n",
    "            has_links = true\n",
    "            pr[:link_identifier] = l[\"identifier\"]\n",
    "            push!(df_link, NamedTuple(pr))\n",
    "        end    \n",
    "        if !has_links\n",
    "            push!(df_link, NamedTuple(pr))\n",
    "        end\n",
    "        i += 1\n",
    "        if i > n_max\n",
    "            break\n",
    "        end\n",
    "    end\n",
    "end    "
   ]
  },
  {
   "cell_type": "code",
   "execution_count": 199,
   "metadata": {},
   "outputs": [],
   "source": [
    "fill_df_link(df_place, features)"
   ]
  },
  {
   "cell_type": "code",
   "execution_count": 23,
   "metadata": {},
   "outputs": [
    {
     "data": {
      "text/plain": [
       "9-element Vector{String}:\n",
       " \"id\"\n",
       " \"whg_id\"\n",
       " \"title\"\n",
       " \"link_type\"\n",
       " \"link_identifier\"\n",
       " \"type_label\"\n",
       " \"type_identifier\"\n",
       " \"coo_0\"\n",
       " \"coo_1\""
      ]
     },
     "execution_count": 23,
     "metadata": {},
     "output_type": "execute_result"
    }
   ],
   "source": [
    "names(df_place)"
   ]
  },
  {
   "cell_type": "code",
   "execution_count": 24,
   "metadata": {},
   "outputs": [
    {
     "data": {
      "text/plain": [
       "\"C:/Users/georg/Documents/projekte-doc/Utrecht-Priester/data\\\\priest_utrecht_places_a.csv\""
      ]
     },
     "execution_count": 24,
     "metadata": {},
     "output_type": "execute_result"
    }
   ],
   "source": [
    "file_name = joinpath(data_path, \"priest_utrecht_places_a.csv\")\n",
    "CSV.write(file_name, df_place, delim=\";\")"
   ]
  },
  {
   "cell_type": "code",
   "execution_count": 25,
   "metadata": {},
   "outputs": [
    {
     "data": {
      "text/plain": [
       "(1460, 9)"
      ]
     },
     "execution_count": 25,
     "metadata": {},
     "output_type": "execute_result"
    }
   ],
   "source": [
    "size(df_place)"
   ]
  },
  {
   "cell_type": "code",
   "execution_count": 26,
   "metadata": {},
   "outputs": [
    {
     "data": {
      "text/plain": [
       "788"
      ]
     },
     "execution_count": 26,
     "metadata": {},
     "output_type": "execute_result"
    }
   ],
   "source": [
    "length(unique(df_place.id))"
   ]
  },
  {
   "cell_type": "markdown",
   "metadata": {},
   "source": [
    "## Zuordnung zu bekannten Orten in Tabelle `place`\n",
    "Die Koordinaten sind vermutlich in WGS84 angegeben, wie in `place` auch."
   ]
  },
  {
   "cell_type": "markdown",
   "metadata": {},
   "source": [
    "Die Zuordnung wird zunächst nicht verwendet. Die Orte werden unter einem eigenen Typ entsprechend ihrer Quelle in die Tabelle `place` aufgenommen."
   ]
  },
  {
   "cell_type": "code",
   "execution_count": null,
   "metadata": {},
   "outputs": [],
   "source": [
    "wds_path = \"C:/Users/georg/Documents/projekte/WiagDataSetup.jl\""
   ]
  },
  {
   "cell_type": "code",
   "execution_count": null,
   "metadata": {},
   "outputs": [],
   "source": [
    "cd(wds_path)"
   ]
  },
  {
   "cell_type": "code",
   "execution_count": null,
   "metadata": {},
   "outputs": [],
   "source": [
    "using Pkg"
   ]
  },
  {
   "cell_type": "code",
   "execution_count": null,
   "metadata": {},
   "outputs": [],
   "source": [
    "Pkg.activate(\".\")"
   ]
  },
  {
   "cell_type": "code",
   "execution_count": null,
   "metadata": {},
   "outputs": [],
   "source": [
    "using WiagDataSetup"
   ]
  },
  {
   "cell_type": "code",
   "execution_count": null,
   "metadata": {},
   "outputs": [],
   "source": [
    "Wds = WiagDataSetup"
   ]
  },
  {
   "cell_type": "code",
   "execution_count": 171,
   "metadata": {},
   "outputs": [
    {
     "name": "stdout",
     "output_type": "stream",
     "text": [
      "Passwort für User georg: ········\n"
     ]
    },
    {
     "data": {
      "text/plain": [
       "MySQL.Connection(host=\"127.0.0.1\", user=\"georg\", port=\"3306\", db=\"wiag2\")"
      ]
     },
     "execution_count": 171,
     "metadata": {},
     "output_type": "execute_result"
    }
   ],
   "source": [
    "Wds.setDBWIAG(user = \"georg\", db = \"wiag2\")"
   ]
  },
  {
   "cell_type": "code",
   "execution_count": null,
   "metadata": {},
   "outputs": [],
   "source": [
    "using NearestNeighbors"
   ]
  },
  {
   "cell_type": "code",
   "execution_count": null,
   "metadata": {},
   "outputs": [],
   "source": [
    "sql = \"SELECT id, geonames_id, name, feature_code, latitude, longitude \n",
    "FROM place\";\n",
    "df_place_gn = Wds.sql_df(sql);"
   ]
  },
  {
   "cell_type": "code",
   "execution_count": null,
   "metadata": {},
   "outputs": [],
   "source": [
    "p_data = Float64.(transpose(hcat(df_place_gn.longitude, df_place_gn.latitude)));"
   ]
  },
  {
   "cell_type": "code",
   "execution_count": null,
   "metadata": {},
   "outputs": [],
   "source": [
    "tree = KDTree(p_data)"
   ]
  },
  {
   "cell_type": "code",
   "execution_count": null,
   "metadata": {},
   "outputs": [],
   "source": [
    "df_place[50:55, [:id, :whg_id, :title, :coo_0, :coo_1]]"
   ]
  },
  {
   "cell_type": "code",
   "execution_count": null,
   "metadata": {},
   "outputs": [],
   "source": [
    "p_sample = permutedims(hcat(df_place.coo_0, df_place.coo_1));"
   ]
  },
  {
   "cell_type": "code",
   "execution_count": null,
   "metadata": {},
   "outputs": [],
   "source": [
    "range = 0.01\n",
    "idx = inrange(tree, p_sample, range);"
   ]
  },
  {
   "cell_type": "code",
   "execution_count": null,
   "metadata": {},
   "outputs": [],
   "source": [
    "size(idx)"
   ]
  },
  {
   "cell_type": "code",
   "execution_count": null,
   "metadata": {},
   "outputs": [],
   "source": [
    "idx[100:105]"
   ]
  },
  {
   "cell_type": "code",
   "execution_count": null,
   "metadata": {},
   "outputs": [],
   "source": [
    "count(x -> length(x) >= 2, idx), count(x -> length(x) == 1, idx), count(x -> length(x) == 0, idx)"
   ]
  },
  {
   "cell_type": "code",
   "execution_count": null,
   "metadata": {},
   "outputs": [],
   "source": [
    "df_place[104, [:id, :whg_id, :title, :coo_0, :coo_1]]"
   ]
  },
  {
   "cell_type": "code",
   "execution_count": null,
   "metadata": {},
   "outputs": [],
   "source": [
    "df_place_gn[[86491, 87462], :]"
   ]
  },
  {
   "cell_type": "code",
   "execution_count": null,
   "metadata": {},
   "outputs": [],
   "source": [
    "df_place_gp = groupby(df_place, [:coo_0, :coo_1]);"
   ]
  },
  {
   "cell_type": "markdown",
   "metadata": {},
   "source": [
    "Es gibt einen Ort bezogen auf die Koordinaten, der in der Quelle doppelt vorkommt."
   ]
  },
  {
   "cell_type": "code",
   "execution_count": null,
   "metadata": {},
   "outputs": [],
   "source": [
    "size(df_place_gp)"
   ]
  },
  {
   "cell_type": "code",
   "execution_count": null,
   "metadata": {},
   "outputs": [],
   "source": [
    "for g in df_place_gp\n",
    "    id = unique(g.id)\n",
    "    if length(id) > 1\n",
    "        println(id)\n",
    "    end\n",
    "end"
   ]
  },
  {
   "cell_type": "markdown",
   "metadata": {},
   "source": [
    "Das scheint eine echte Dublette: Hasselt"
   ]
  },
  {
   "cell_type": "markdown",
   "metadata": {},
   "source": [
    "Erstelle die Zuordnungstabelle `df_place_map`  \n",
    "Füge `place_id` ein und verknüpfe mit `df_place_gn`"
   ]
  },
  {
   "cell_type": "code",
   "execution_count": null,
   "metadata": {},
   "outputs": [],
   "source": [
    "df_place_map = similar(df_place, 0);"
   ]
  },
  {
   "cell_type": "code",
   "execution_count": null,
   "metadata": {},
   "outputs": [],
   "source": [
    "df_place_map[!, :place_id] = Vector{Union{Int, Missing}}()\n",
    "df_place_map[!, :n_match] = Vector{Int}()"
   ]
  },
  {
   "cell_type": "code",
   "execution_count": null,
   "metadata": {},
   "outputs": [],
   "source": [
    "for (row, i_nn) in zip(eachrow(df_place), idx)\n",
    "    row_data = collect(row)\n",
    "    row_add = [missing, 0]\n",
    "    n_match = length(i_nn)\n",
    "    if n_match == 0\n",
    "        push!(df_place_map, vcat(row_data, row_add))\n",
    "    else\n",
    "        for id in i_nn\n",
    "            row_add = [df_place_gn[id, :id], n_match]\n",
    "            push!(df_place_map, vcat(row_data, row_add))\n",
    "        end\n",
    "    end\n",
    "end            "
   ]
  },
  {
   "cell_type": "code",
   "execution_count": null,
   "metadata": {},
   "outputs": [],
   "source": [
    "size(df_place_map)"
   ]
  },
  {
   "cell_type": "code",
   "execution_count": null,
   "metadata": {},
   "outputs": [],
   "source": [
    "df_place_map = leftjoin(df_place_map, df_place_gn, on = :place_id => :id, matchmissing = :notequal);"
   ]
  },
  {
   "cell_type": "code",
   "execution_count": null,
   "metadata": {},
   "outputs": [],
   "source": [
    "size(df_place_map)"
   ]
  },
  {
   "cell_type": "code",
   "execution_count": null,
   "metadata": {},
   "outputs": [],
   "source": [
    "sort!(df_place_map, :id);"
   ]
  },
  {
   "cell_type": "code",
   "execution_count": null,
   "metadata": {},
   "outputs": [],
   "source": [
    "file_name = joinpath(data_path, \"priest_utrecht_places_geonames.csv\")\n",
    "CSV.write(file_name, df_place_map, delim=\";\")"
   ]
  },
  {
   "cell_type": "code",
   "execution_count": null,
   "metadata": {},
   "outputs": [],
   "source": [
    "df_place_map_gp = groupby(df_place_map, :n_match);"
   ]
  },
  {
   "cell_type": "code",
   "execution_count": null,
   "metadata": {},
   "outputs": [],
   "source": [
    "typeof(df_place_map_gp[1])"
   ]
  },
  {
   "cell_type": "code",
   "execution_count": null,
   "metadata": {},
   "outputs": [],
   "source": [
    "propertynames(df_place_map_gp)"
   ]
  },
  {
   "cell_type": "code",
   "execution_count": null,
   "metadata": {},
   "outputs": [],
   "source": [
    "df_place_map_gp.keymap"
   ]
  },
  {
   "cell_type": "code",
   "execution_count": null,
   "metadata": {},
   "outputs": [],
   "source": [
    "df_place_map_gp[3][7, [:name, :n_match]]"
   ]
  },
  {
   "cell_type": "code",
   "execution_count": null,
   "metadata": {},
   "outputs": [],
   "source": [
    "combine(df_place_map_gp, :id => (x -> length(unique(x))) => :n_id)"
   ]
  },
  {
   "cell_type": "code",
   "execution_count": null,
   "metadata": {},
   "outputs": [],
   "source": [
    "sum([90, 531, 137, 21, 6, 3])"
   ]
  },
  {
   "cell_type": "markdown",
   "metadata": {},
   "source": [
    "## Orte in `place` eintragen\n",
    "Quelle: `C:\\Users\\georg\\Documents\\projekte-doc\\Utrecht-Priester\\Ordinations of priests (identified place of origin).tsv`  \n",
    "bzw. `data\\AnonymousUser_ordinations_788_20220329_145955.json`\n",
    "\n",
    "siehe oben\n",
    "\n",
    "Variante zwei nur aus `data\\AnonymousUser_ordinations_788_20220329_145955.json` siehe unten"
   ]
  },
  {
   "cell_type": "code",
   "execution_count": null,
   "metadata": {},
   "outputs": [],
   "source": [
    "names(df_place)"
   ]
  },
  {
   "cell_type": "code",
   "execution_count": null,
   "metadata": {},
   "outputs": [],
   "source": [
    "size(df_place)"
   ]
  },
  {
   "cell_type": "markdown",
   "metadata": {},
   "source": [
    "Manche Einträge enthalten im Feld `link_identifier` einen Verweis auf eine GeoNames ID. Lies sie aus und schreibe sie in das Feld `geonames_id`."
   ]
  },
  {
   "cell_type": "code",
   "execution_count": null,
   "metadata": {},
   "outputs": [],
   "source": [
    "rgx = r\"^gn:([0-9]+)\"\n",
    "function get_id_gn_maybe(s)\n",
    "    if ismissing(s)\n",
    "        return missing\n",
    "    end\n",
    "    rgm = match(rgx, s)\n",
    "    if !isnothing(rgm)\n",
    "        return(parse(Int,rgm[1]))\n",
    "    else\n",
    "        return missing\n",
    "    end\n",
    "end "
   ]
  },
  {
   "cell_type": "code",
   "execution_count": null,
   "metadata": {},
   "outputs": [],
   "source": [
    "transform!(df_place, :link_identifier => ByRow(get_id_gn_maybe) => :geonames_id);"
   ]
  },
  {
   "cell_type": "markdown",
   "metadata": {},
   "source": [
    "In Bezug auf die folgenden Spalten ist jeweils nur ein Eintrag relevant."
   ]
  },
  {
   "cell_type": "code",
   "execution_count": 196,
   "metadata": {},
   "outputs": [],
   "source": [
    "columns = [\n",
    "    :id => :id_in_source,\n",
    "    :geonames_id => :geonames_id,\n",
    "    :title => :name,    \n",
    "    :longitude => :longitude,\n",
    "    :latitude => :latitude,\n",
    "];"
   ]
  },
  {
   "cell_type": "code",
   "execution_count": null,
   "metadata": {},
   "outputs": [],
   "source": [
    "df_place_ut = unique(select(df_place, columns));"
   ]
  },
  {
   "cell_type": "code",
   "execution_count": null,
   "metadata": {},
   "outputs": [],
   "source": [
    "size(df_place_ut)"
   ]
  },
  {
   "cell_type": "code",
   "execution_count": null,
   "metadata": {},
   "outputs": [],
   "source": [
    "df_place_ut_gn = subset(df_place_ut, :geonames_id => ByRow(!ismissing));"
   ]
  },
  {
   "cell_type": "code",
   "execution_count": null,
   "metadata": {},
   "outputs": [],
   "source": [
    "size(df_place_ut_gn, 1), length(unique(df_place_ut_gn.id_in_source)) "
   ]
  },
  {
   "cell_type": "markdown",
   "metadata": {},
   "source": [
    "Einträge mit mehreren Verweisen auf GeoNames"
   ]
  },
  {
   "cell_type": "code",
   "execution_count": null,
   "metadata": {},
   "outputs": [],
   "source": [
    "df_place_ut_gn_by_id = groupby(df_place_ut_gn, :id_in_source);"
   ]
  },
  {
   "cell_type": "code",
   "execution_count": null,
   "metadata": {},
   "outputs": [],
   "source": [
    "df_tmp_count = combine(df_place_ut_gn_by_id, nrow => :n);"
   ]
  },
  {
   "cell_type": "code",
   "execution_count": null,
   "metadata": {},
   "outputs": [],
   "source": [
    "df_place_ut_gn_n = leftjoin(df_place_ut_gn, df_tmp_count, on = :id_in_source);"
   ]
  },
  {
   "cell_type": "code",
   "execution_count": null,
   "metadata": {},
   "outputs": [],
   "source": [
    "subset(df_place_ut_gn_n, :n => ByRow((x) -> (x > 1)))"
   ]
  },
  {
   "cell_type": "code",
   "execution_count": null,
   "metadata": {},
   "outputs": [],
   "source": [
    "df_place_ut_gn_mg = antijoin(df_place_ut, df_place_ut_gn, on = :id_in_source);"
   ]
  },
  {
   "cell_type": "code",
   "execution_count": null,
   "metadata": {},
   "outputs": [],
   "source": [
    "length(unique(df_place_ut_gn_mg.id_in_source))"
   ]
  },
  {
   "cell_type": "code",
   "execution_count": null,
   "metadata": {},
   "outputs": [],
   "source": [
    "df_place_ut_out = vcat(df_place_ut_gn, df_place_ut_gn_mg);"
   ]
  },
  {
   "cell_type": "code",
   "execution_count": null,
   "metadata": {},
   "outputs": [],
   "source": [
    "insertcols!(df_place_ut_out, :place_type_id => 2);"
   ]
  },
  {
   "cell_type": "code",
   "execution_count": null,
   "metadata": {},
   "outputs": [],
   "source": [
    "table_name = \"place\"\n",
    "file_name = joinpath(out_path, \"$(table_name)_ut.sql\")\n",
    "Wds.insert_sql(file_name, table_name, df_place_ut_out);"
   ]
  },
  {
   "cell_type": "code",
   "execution_count": null,
   "metadata": {},
   "outputs": [],
   "source": [
    "insertcols!(df_place_ut_gn_mg, :place_type_id => 2);"
   ]
  },
  {
   "cell_type": "code",
   "execution_count": null,
   "metadata": {},
   "outputs": [],
   "source": [
    "out_path"
   ]
  },
  {
   "cell_type": "markdown",
   "metadata": {},
   "source": [
    "```sql\n",
    "source \"C:/Users/georg/Documents/projekte-doc/Utrecht-Priester/data_sql/place_ut.sql\";\n",
    "```"
   ]
  },
  {
   "cell_type": "markdown",
   "metadata": {},
   "source": [
    "#### Variante zwei"
   ]
  },
  {
   "cell_type": "markdown",
   "metadata": {},
   "source": [
    "identifiziere Verweise auf GeoNames"
   ]
  },
  {
   "cell_type": "code",
   "execution_count": 214,
   "metadata": {},
   "outputs": [
    {
     "data": {
      "text/plain": [
       "get_gn_id (generic function with 1 method)"
      ]
     },
     "execution_count": 214,
     "metadata": {},
     "output_type": "execute_result"
    }
   ],
   "source": [
    "function get_gn_id(s)\n",
    "    if !ismissing(s) && s[1:3] == \"gn:\"\n",
    "        return s[4:end]\n",
    "    else\n",
    "        return missing\n",
    "    end\n",
    "end     "
   ]
  },
  {
   "cell_type": "code",
   "execution_count": 216,
   "metadata": {},
   "outputs": [],
   "source": [
    "transform!(df_place, :link_identifier => ByRow(get_gn_id) => :geonames_id);"
   ]
  },
  {
   "cell_type": "code",
   "execution_count": 217,
   "metadata": {},
   "outputs": [],
   "source": [
    "df_place_ug = groupby(df_place, :id);"
   ]
  },
  {
   "cell_type": "code",
   "execution_count": 218,
   "metadata": {
    "scrolled": true
   },
   "outputs": [],
   "source": [
    "df_place_u = combine(df_place_ug, first);"
   ]
  },
  {
   "cell_type": "code",
   "execution_count": 219,
   "metadata": {},
   "outputs": [
    {
     "data": {
      "text/plain": [
       "10-element Vector{String}:\n",
       " \"id\"\n",
       " \"whg_id\"\n",
       " \"title\"\n",
       " \"link_type\"\n",
       " \"link_identifier\"\n",
       " \"type_label\"\n",
       " \"type_identifier\"\n",
       " \"longitude\"\n",
       " \"latitude\"\n",
       " \"geonames_id\""
      ]
     },
     "execution_count": 219,
     "metadata": {},
     "output_type": "execute_result"
    }
   ],
   "source": [
    "names(df_place_u)"
   ]
  },
  {
   "cell_type": "code",
   "execution_count": 220,
   "metadata": {},
   "outputs": [
    {
     "data": {
      "text/plain": [
       "(788, 10)"
      ]
     },
     "execution_count": 220,
     "metadata": {},
     "output_type": "execute_result"
    }
   ],
   "source": [
    "size(df_place_u)"
   ]
  },
  {
   "cell_type": "code",
   "execution_count": 221,
   "metadata": {},
   "outputs": [
    {
     "data": {
      "text/plain": [
       "26"
      ]
     },
     "execution_count": 221,
     "metadata": {},
     "output_type": "execute_result"
    }
   ],
   "source": [
    "count(!ismissing, df_place_u.geonames_id)"
   ]
  },
  {
   "cell_type": "markdown",
   "metadata": {},
   "source": [
    "In der Quelle werden einem Ort bisweilen auch mehrere GeoName-IDs zugewiesen?!"
   ]
  },
  {
   "cell_type": "code",
   "execution_count": 222,
   "metadata": {},
   "outputs": [],
   "source": [
    "insertcols!(df_place_u, :place_type_id => 2);"
   ]
  },
  {
   "cell_type": "code",
   "execution_count": 223,
   "metadata": {},
   "outputs": [
    {
     "data": {
      "text/plain": [
       "11-element Vector{String}:\n",
       " \"id\"\n",
       " \"whg_id\"\n",
       " \"title\"\n",
       " \"link_type\"\n",
       " \"link_identifier\"\n",
       " \"type_label\"\n",
       " \"type_identifier\"\n",
       " \"longitude\"\n",
       " \"latitude\"\n",
       " \"geonames_id\"\n",
       " \"place_type_id\""
      ]
     },
     "execution_count": 223,
     "metadata": {},
     "output_type": "execute_result"
    }
   ],
   "source": [
    "names(df_place_u)"
   ]
  },
  {
   "cell_type": "code",
   "execution_count": 225,
   "metadata": {},
   "outputs": [
    {
     "data": {
      "text/plain": [
       "6-element Vector{Pair{Symbol, Symbol}}:\n",
       "            :id => :id_in_source\n",
       "   :geonames_id => :geonames_id\n",
       " :place_type_id => :place_type_id\n",
       "         :title => :name\n",
       "     :longitude => :longitude\n",
       "      :latitude => :latitude"
      ]
     },
     "execution_count": 225,
     "metadata": {},
     "output_type": "execute_result"
    }
   ],
   "source": [
    "columns = [\n",
    "    :id => :id_in_source,\n",
    "    :geonames_id => :geonames_id,\n",
    "    :place_type_id => :place_type_id,\n",
    "    :title => :name,\n",
    "    :longitude => :longitude,\n",
    "    :latitude => :latitude,\n",
    "]"
   ]
  },
  {
   "cell_type": "code",
   "execution_count": 227,
   "metadata": {},
   "outputs": [],
   "source": [
    "table_name = \"place\"\n",
    "file_name = joinpath(out_path, \"$(table_name)_ut.sql\")\n",
    "Wds.insert_sql(file_name, table_name, select(df_place_u, columns));"
   ]
  },
  {
   "cell_type": "markdown",
   "metadata": {},
   "source": [
    "Spiele IDs zurück"
   ]
  },
  {
   "cell_type": "code",
   "execution_count": 229,
   "metadata": {},
   "outputs": [],
   "source": [
    "sql = \"SELECT id as place_id, id_in_source FROM place WHERE place_type_id = 2\";\n",
    "df_idx = Wds.sql_df(sql);"
   ]
  },
  {
   "cell_type": "code",
   "execution_count": 230,
   "metadata": {},
   "outputs": [],
   "source": [
    "df_place_u = leftjoin(df_place_u, df_idx, on = :id => :id_in_source);"
   ]
  },
  {
   "cell_type": "code",
   "execution_count": 231,
   "metadata": {},
   "outputs": [
    {
     "data": {
      "text/plain": [
       "(788, 12)"
      ]
     },
     "execution_count": 231,
     "metadata": {},
     "output_type": "execute_result"
    }
   ],
   "source": [
    "size(df_place_u)"
   ]
  },
  {
   "cell_type": "markdown",
   "metadata": {},
   "source": [
    "## Verweise auf WHG eintragen"
   ]
  },
  {
   "cell_type": "code",
   "execution_count": 232,
   "metadata": {},
   "outputs": [
    {
     "data": {
      "text/html": [
       "<div class=\"data-frame\"><p>5 rows × 12 columns (omitted printing of 2 columns)</p><table class=\"data-frame\"><thead><tr><th></th><th>id</th><th>whg_id</th><th>title</th><th>link_type</th><th>link_identifier</th><th>type_label</th><th>type_identifier</th><th>longitude</th><th>latitude</th><th>geonames_id</th></tr><tr><th></th><th title=\"String\">String</th><th title=\"String\">String</th><th title=\"String\">String</th><th title=\"Union{Missing, String}\">String?</th><th title=\"Union{Missing, String}\">String?</th><th title=\"Union{Missing, String}\">String?</th><th title=\"Union{Missing, String}\">String?</th><th title=\"Union{Missing, Float64}\">Float64?</th><th title=\"Union{Missing, Float64}\">Float64?</th><th title=\"Union{Missing, String}\">String?</th></tr></thead><tbody><tr><th>1</th><td>brom_1100</td><td>6666457</td><td>Noertwellen</td><td><em>missing</em></td><td><em>missing</em></td><td><em>missing</em></td><td><em>missing</em></td><td>3.7924</td><td>51.718</td><td><em>missing</em></td></tr><tr><th>2</th><td>brom_1102</td><td>6666458</td><td>Ellemaet</td><td><em>missing</em></td><td><em>missing</em></td><td><em>missing</em></td><td><em>missing</em></td><td>3.82961</td><td>51.7136</td><td><em>missing</em></td></tr><tr><th>3</th><td>brom_1103</td><td>6666459</td><td>Elkersee</td><td><em>missing</em></td><td>wd:Q2346411</td><td><em>missing</em></td><td><em>missing</em></td><td>3.84411</td><td>51.7252</td><td><em>missing</em></td></tr><tr><th>4</th><td>brom_1105</td><td>6666460</td><td>Brauvershaven</td><td><em>missing</em></td><td>wd:Q991009</td><td><em>missing</em></td><td><em>missing</em></td><td>3.9122</td><td>51.7254</td><td><em>missing</em></td></tr><tr><th>5</th><td>brom_1106</td><td>6666461</td><td>Nijkerck</td><td><em>missing</em></td><td><em>missing</em></td><td><em>missing</em></td><td><em>missing</em></td><td>3.89086</td><td>51.7006</td><td><em>missing</em></td></tr></tbody></table></div>"
      ],
      "text/latex": [
       "\\begin{tabular}{r|ccccccccccc}\n",
       "\t& id & whg\\_id & title & link\\_type & link\\_identifier & type\\_label & type\\_identifier & longitude & latitude & geonames\\_id & \\\\\n",
       "\t\\hline\n",
       "\t& String & String & String & String? & String? & String? & String? & Float64? & Float64? & String? & \\\\\n",
       "\t\\hline\n",
       "\t1 & brom\\_1100 & 6666457 & Noertwellen & \\emph{missing} & \\emph{missing} & \\emph{missing} & \\emph{missing} & 3.7924 & 51.718 & \\emph{missing} & $\\dots$ \\\\\n",
       "\t2 & brom\\_1102 & 6666458 & Ellemaet & \\emph{missing} & \\emph{missing} & \\emph{missing} & \\emph{missing} & 3.82961 & 51.7136 & \\emph{missing} & $\\dots$ \\\\\n",
       "\t3 & brom\\_1103 & 6666459 & Elkersee & \\emph{missing} & wd:Q2346411 & \\emph{missing} & \\emph{missing} & 3.84411 & 51.7252 & \\emph{missing} & $\\dots$ \\\\\n",
       "\t4 & brom\\_1105 & 6666460 & Brauvershaven & \\emph{missing} & wd:Q991009 & \\emph{missing} & \\emph{missing} & 3.9122 & 51.7254 & \\emph{missing} & $\\dots$ \\\\\n",
       "\t5 & brom\\_1106 & 6666461 & Nijkerck & \\emph{missing} & \\emph{missing} & \\emph{missing} & \\emph{missing} & 3.89086 & 51.7006 & \\emph{missing} & $\\dots$ \\\\\n",
       "\\end{tabular}\n"
      ],
      "text/plain": [
       "\u001b[1m5×12 DataFrame\u001b[0m\n",
       "\u001b[1m Row \u001b[0m│\u001b[1m id        \u001b[0m\u001b[1m whg_id  \u001b[0m\u001b[1m title         \u001b[0m\u001b[1m link_type \u001b[0m\u001b[1m link_identifier \u001b[0m\u001b[1m type_label \u001b[0m\u001b[1m type_identifier \u001b[0m\u001b[1m longitude \u001b[0m\u001b[1m latitude\u001b[0m ⋯\n",
       "\u001b[1m     \u001b[0m│\u001b[90m String    \u001b[0m\u001b[90m String  \u001b[0m\u001b[90m String        \u001b[0m\u001b[90m String?   \u001b[0m\u001b[90m String?         \u001b[0m\u001b[90m String?    \u001b[0m\u001b[90m String?         \u001b[0m\u001b[90m Float64?  \u001b[0m\u001b[90m Float64?\u001b[0m ⋯\n",
       "─────┼──────────────────────────────────────────────────────────────────────────────────────────────────────────────────\n",
       "   1 │ brom_1100  6666457  Noertwellen   \u001b[90m missing   \u001b[0m\u001b[90m missing         \u001b[0m\u001b[90m missing    \u001b[0m\u001b[90m missing         \u001b[0m   3.7924    51.718  ⋯\n",
       "   2 │ brom_1102  6666458  Ellemaet      \u001b[90m missing   \u001b[0m\u001b[90m missing         \u001b[0m\u001b[90m missing    \u001b[0m\u001b[90m missing         \u001b[0m   3.82961   51.7136\n",
       "   3 │ brom_1103  6666459  Elkersee      \u001b[90m missing   \u001b[0m wd:Q2346411     \u001b[90m missing    \u001b[0m\u001b[90m missing         \u001b[0m   3.84411   51.7252\n",
       "   4 │ brom_1105  6666460  Brauvershaven \u001b[90m missing   \u001b[0m wd:Q991009      \u001b[90m missing    \u001b[0m\u001b[90m missing         \u001b[0m   3.9122    51.7254\n",
       "   5 │ brom_1106  6666461  Nijkerck      \u001b[90m missing   \u001b[0m\u001b[90m missing         \u001b[0m\u001b[90m missing    \u001b[0m\u001b[90m missing         \u001b[0m   3.89086   51.7006 ⋯\n",
       "\u001b[36m                                                                                                       3 columns omitted\u001b[0m"
      ]
     },
     "execution_count": 232,
     "metadata": {},
     "output_type": "execute_result"
    }
   ],
   "source": [
    "df_place_u[51:55, :]"
   ]
  },
  {
   "cell_type": "code",
   "execution_count": 233,
   "metadata": {},
   "outputs": [
    {
     "data": {
      "text/plain": [
       "54"
      ]
     },
     "execution_count": 233,
     "metadata": {},
     "output_type": "execute_result"
    }
   ],
   "source": [
    "authority_id_whg = 54"
   ]
  },
  {
   "cell_type": "code",
   "execution_count": 234,
   "metadata": {},
   "outputs": [
    {
     "data": {
      "text/plain": [
       "12-element Vector{String}:\n",
       " \"id\"\n",
       " \"whg_id\"\n",
       " \"title\"\n",
       " \"link_type\"\n",
       " \"link_identifier\"\n",
       " \"type_label\"\n",
       " \"type_identifier\"\n",
       " \"longitude\"\n",
       " \"latitude\"\n",
       " \"geonames_id\"\n",
       " \"place_type_id\"\n",
       " \"place_id\""
      ]
     },
     "execution_count": 234,
     "metadata": {},
     "output_type": "execute_result"
    }
   ],
   "source": [
    "names(df_place_u)"
   ]
  },
  {
   "cell_type": "code",
   "execution_count": 235,
   "metadata": {},
   "outputs": [
    {
     "data": {
      "text/plain": [
       "3-element Vector{Pair{Symbol, Symbol}}:\n",
       " :geonames_id => :geonames_id\n",
       "      :whg_id => :value\n",
       "    :place_id => :place_id"
      ]
     },
     "execution_count": 235,
     "metadata": {},
     "output_type": "execute_result"
    }
   ],
   "source": [
    "columns = [\n",
    "    :geonames_id => :geonames_id,\n",
    "    :whg_id => :value,\n",
    "    :place_id => :place_id\n",
    "]"
   ]
  },
  {
   "cell_type": "code",
   "execution_count": 236,
   "metadata": {},
   "outputs": [],
   "source": [
    "df_id_external = select(df_place_u, columns);"
   ]
  },
  {
   "cell_type": "code",
   "execution_count": 237,
   "metadata": {},
   "outputs": [],
   "source": [
    "insertcols!(df_id_external, :authority_id => authority_id_whg);"
   ]
  },
  {
   "cell_type": "code",
   "execution_count": 238,
   "metadata": {},
   "outputs": [
    {
     "data": {
      "text/plain": [
       "0"
      ]
     },
     "execution_count": 238,
     "metadata": {},
     "output_type": "execute_result"
    }
   ],
   "source": [
    "count(ismissing, df_id_external.value)"
   ]
  },
  {
   "cell_type": "code",
   "execution_count": 239,
   "metadata": {},
   "outputs": [],
   "source": [
    "table_name = \"place_id_external\"\n",
    "file_name = joinpath(out_path, \"$(table_name).sql\")\n",
    "Wds.insert_sql(file_name, table_name, df_id_external);"
   ]
  },
  {
   "cell_type": "markdown",
   "metadata": {},
   "source": [
    "## Ortsnamen eintragen"
   ]
  },
  {
   "cell_type": "code",
   "execution_count": 241,
   "metadata": {},
   "outputs": [
    {
     "data": {
      "text/plain": [
       "KeySet for a Dict{String, Any} with 11 entries. Keys:\n",
       "  \"types\"\n",
       "  \"descriptions\"\n",
       "  \"names\"\n",
       "  \"depictions\"\n",
       "  \"when\"\n",
       "  \"geometry\"\n",
       "  \"@id\"\n",
       "  \"links\"\n",
       "  \"properties\"\n",
       "  \"relations\"\n",
       "  \"type\""
      ]
     },
     "execution_count": 241,
     "metadata": {},
     "output_type": "execute_result"
    }
   ],
   "source": [
    "keys(features[17])"
   ]
  },
  {
   "cell_type": "code",
   "execution_count": 251,
   "metadata": {},
   "outputs": [],
   "source": [
    "df_place_n = DataFrame(\n",
    "    id = String[],\n",
    "    whg_id = String[],\n",
    "    title = String[],    \n",
    "    name = String[],\n",
    "    longitude = Union{Float64, Missing}[],\n",
    "    latitude = Union{Float64, Missing}[],\n",
    ");"
   ]
  },
  {
   "cell_type": "code",
   "execution_count": 244,
   "metadata": {},
   "outputs": [
    {
     "data": {
      "text/plain": [
       "fill_df_name (generic function with 1 method)"
      ]
     },
     "execution_count": 244,
     "metadata": {},
     "output_type": "execute_result"
    }
   ],
   "source": [
    "function fill_df_name(df_name, features)\n",
    "    i = 0\n",
    "    n_max = Inf\n",
    "    for f in features\n",
    "        pr = make_row(df_name)\n",
    "        pr[:id] = f[\"@id\"]\n",
    "        pr[:whg_id] = get_whg_id(f[\"properties\"][\"pid\"])\n",
    "        title = f[\"properties\"][\"title\"]\n",
    "        pr[:title] = title\n",
    "        for g in f[\"geometry\"][\"geometries\"]\n",
    "            if haskey(g, \"citation\")\n",
    "                continue\n",
    "            end\n",
    "            if g[\"type\"] == \"Point\"\n",
    "                pr[:longitude] = g[\"coordinates\"][1]\n",
    "                pr[:latitude] = g[\"coordinates\"][2]\n",
    "            end\n",
    "        end \n",
    "        for name_group in f[\"names\"]\n",
    "            name = name_group[\"toponym\"]\n",
    "            if name == \"\"\n",
    "                name = title\n",
    "            end\n",
    "            pr[:name] = name\n",
    "            push!(df_name, NamedTuple(pr))\n",
    "        end\n",
    "        i += 1\n",
    "        if i > n_max\n",
    "            break\n",
    "        end\n",
    "    end\n",
    "    return i\n",
    "end    "
   ]
  },
  {
   "cell_type": "code",
   "execution_count": 252,
   "metadata": {},
   "outputs": [
    {
     "data": {
      "text/plain": [
       "788"
      ]
     },
     "execution_count": 252,
     "metadata": {},
     "output_type": "execute_result"
    }
   ],
   "source": [
    "fill_df_name(df_place_n, features)"
   ]
  },
  {
   "cell_type": "code",
   "execution_count": 247,
   "metadata": {},
   "outputs": [
    {
     "data": {
      "text/plain": [
       "(1985, 6)"
      ]
     },
     "execution_count": 247,
     "metadata": {},
     "output_type": "execute_result"
    }
   ],
   "source": [
    "size(df_place_n)"
   ]
  },
  {
   "cell_type": "markdown",
   "metadata": {},
   "source": [
    "IDs zuweisen"
   ]
  },
  {
   "cell_type": "code",
   "execution_count": 253,
   "metadata": {},
   "outputs": [],
   "source": [
    "sql = \"SELECT id as place_id, id_in_source, geonames_id FROM place WHERE place_type_id = 2\";\n",
    "df_idx = Wds.sql_df(sql);"
   ]
  },
  {
   "cell_type": "code",
   "execution_count": 254,
   "metadata": {},
   "outputs": [],
   "source": [
    "df_place_n = leftjoin(df_place_n, df_idx, on = :id => :id_in_source);"
   ]
  },
  {
   "cell_type": "code",
   "execution_count": 249,
   "metadata": {},
   "outputs": [
    {
     "data": {
      "text/plain": [
       "(1985, 7)"
      ]
     },
     "execution_count": 249,
     "metadata": {},
     "output_type": "execute_result"
    }
   ],
   "source": [
    "size(df_place_n)"
   ]
  },
  {
   "cell_type": "code",
   "execution_count": 255,
   "metadata": {
    "scrolled": true
   },
   "outputs": [
    {
     "data": {
      "text/plain": [
       "8-element Vector{String}:\n",
       " \"id\"\n",
       " \"whg_id\"\n",
       " \"title\"\n",
       " \"name\"\n",
       " \"longitude\"\n",
       " \"latitude\"\n",
       " \"place_id\"\n",
       " \"geonames_id\""
      ]
     },
     "execution_count": 255,
     "metadata": {},
     "output_type": "execute_result"
    }
   ],
   "source": [
    "names(df_place_n)"
   ]
  },
  {
   "cell_type": "code",
   "execution_count": 256,
   "metadata": {},
   "outputs": [
    {
     "data": {
      "text/plain": [
       "3-element Vector{Pair{Symbol, Symbol}}:\n",
       "    :place_id => :place_id\n",
       " :geonames_id => :geonames_id\n",
       "        :name => :label"
      ]
     },
     "execution_count": 256,
     "metadata": {},
     "output_type": "execute_result"
    }
   ],
   "source": [
    "columns = [\n",
    "    :place_id => :place_id,\n",
    "    :geonames_id => :geonames_id,\n",
    "    :name => :label\n",
    "]"
   ]
  },
  {
   "cell_type": "code",
   "execution_count": 264,
   "metadata": {},
   "outputs": [],
   "source": [
    "df_label = select(df_place_n, columns);"
   ]
  },
  {
   "cell_type": "code",
   "execution_count": 265,
   "metadata": {},
   "outputs": [],
   "source": [
    "insertcols!(df_label,\n",
    "    :is_preferred => 0,\n",
    "    :is_historic => 1,\n",
    "    :is_geonames_name => 0,\n",
    ");"
   ]
  },
  {
   "cell_type": "code",
   "execution_count": 266,
   "metadata": {},
   "outputs": [],
   "source": [
    "table_name = \"place_label\"\n",
    "file_name = joinpath(out_path, \"$(table_name).sql\")\n",
    "Wds.insert_sql(file_name, table_name, df_label);"
   ]
  },
  {
   "cell_type": "markdown",
   "metadata": {},
   "source": [
    "## Geburtsorte zuordnen (erste Version)\n",
    "Stapel hat für einen Teil der Geburtsorte Koordinaten angegeben. Sie werden genutzt für eine Zuordnung zu Orten in Tabelle `place`.  \n",
    "Siehe zweite Version unten."
   ]
  },
  {
   "cell_type": "code",
   "execution_count": 25,
   "metadata": {},
   "outputs": [
    {
     "name": "stderr",
     "output_type": "stream",
     "text": [
      "┌ Warning: thread = 2 warning: only found 25 / 26 columns around data row: 5480. Filling remaining columns with `missing`\n",
      "└ @ CSV C:\\Users\\georg\\.julia\\packages\\CSV\\b4GfC\\src\\file.jl:622\n"
     ]
    }
   ],
   "source": [
    "file_name = joinpath(data_path, \"..\", \"Ordinations of priests (identified place of origin).tsv\")\n",
    "df_priest_bp_in = CSV.read(file_name, DataFrame, delim = \"\\t\");"
   ]
  },
  {
   "cell_type": "code",
   "execution_count": 26,
   "metadata": {},
   "outputs": [
    {
     "data": {
      "text/plain": [
       "(5255, 26)"
      ]
     },
     "execution_count": 26,
     "metadata": {},
     "output_type": "execute_result"
    }
   ],
   "source": [
    "size(df_priest_bp_in)"
   ]
  },
  {
   "cell_type": "code",
   "execution_count": 27,
   "metadata": {},
   "outputs": [
    {
     "data": {
      "text/html": [
       "<div class=\"data-frame\"><p>3 rows × 4 columns</p><table class=\"data-frame\"><thead><tr><th></th><th>WKT_GEOM</th><th>Priester_ID</th><th>Toponiem</th><th>Voornaam</th></tr><tr><th></th><th title=\"String\">String</th><th title=\"String15\">String15</th><th title=\"Union{Missing, String31}\">String31?</th><th title=\"String15\">String15</th></tr></thead><tbody><tr><th>1</th><td>Point (6.0937644735630796 52.51259100584277917)</td><td>id_1513_4_55</td><td>Zvollis</td><td>Hermannus</td></tr><tr><th>2</th><td>Point (6.0937644735630796 52.51259100584277917)</td><td>id_1513_4_57</td><td>Zvollis</td><td>Bernardus</td></tr><tr><th>3</th><td>Point (6.0937644735630796 52.51259100584277917)</td><td>id_1513_6_12</td><td>Zvollis</td><td>Lubbertus</td></tr></tbody></table></div>"
      ],
      "text/latex": [
       "\\begin{tabular}{r|cccc}\n",
       "\t& WKT\\_GEOM & Priester\\_ID & Toponiem & Voornaam\\\\\n",
       "\t\\hline\n",
       "\t& String & String15 & String31? & String15\\\\\n",
       "\t\\hline\n",
       "\t1 & Point (6.0937644735630796 52.51259100584277917) & id\\_1513\\_4\\_55 & Zvollis & Hermannus \\\\\n",
       "\t2 & Point (6.0937644735630796 52.51259100584277917) & id\\_1513\\_4\\_57 & Zvollis & Bernardus \\\\\n",
       "\t3 & Point (6.0937644735630796 52.51259100584277917) & id\\_1513\\_6\\_12 & Zvollis & Lubbertus \\\\\n",
       "\\end{tabular}\n"
      ],
      "text/plain": [
       "\u001b[1m3×4 DataFrame\u001b[0m\n",
       "\u001b[1m Row \u001b[0m│\u001b[1m WKT_GEOM                          \u001b[0m\u001b[1m Priester_ID  \u001b[0m\u001b[1m Toponiem  \u001b[0m\u001b[1m Voornaam  \u001b[0m\n",
       "\u001b[1m     \u001b[0m│\u001b[90m String                            \u001b[0m\u001b[90m String15     \u001b[0m\u001b[90m String31? \u001b[0m\u001b[90m String15  \u001b[0m\n",
       "─────┼───────────────────────────────────────────────────────────────────────\n",
       "   1 │ Point (6.0937644735630796 52.512…  id_1513_4_55  Zvollis    Hermannus\n",
       "   2 │ Point (6.0937644735630796 52.512…  id_1513_4_57  Zvollis    Bernardus\n",
       "   3 │ Point (6.0937644735630796 52.512…  id_1513_6_12  Zvollis    Lubbertus"
      ]
     },
     "execution_count": 27,
     "metadata": {},
     "output_type": "execute_result"
    }
   ],
   "source": [
    "df_priest_bp_in[301:303, [:WKT_GEOM, :Priester_ID, :Toponiem, :Voornaam]]"
   ]
  },
  {
   "cell_type": "code",
   "execution_count": 28,
   "metadata": {},
   "outputs": [
    {
     "data": {
      "text/plain": [
       "r\"Point +\\(([0-9]+\\.[0-9]+) +([0-9]+\\.[0-9]+)\\)\""
      ]
     },
     "execution_count": 28,
     "metadata": {},
     "output_type": "execute_result"
    }
   ],
   "source": [
    "rgx = r\"Point +\\(([0-9]+\\.[0-9]+) +([0-9]+\\.[0-9]+)\\)\""
   ]
  },
  {
   "cell_type": "code",
   "execution_count": 29,
   "metadata": {},
   "outputs": [
    {
     "data": {
      "text/plain": [
       "RegexMatch(\"Point (6.0937644735630796 52.51259100584277917)\", 1=\"6.0937644735630796\", 2=\"52.51259100584277917\")"
      ]
     },
     "execution_count": 29,
     "metadata": {},
     "output_type": "execute_result"
    }
   ],
   "source": [
    "rgm = match(rgx, \"Point (6.0937644735630796 52.51259100584277917)\")"
   ]
  },
  {
   "cell_type": "code",
   "execution_count": 30,
   "metadata": {},
   "outputs": [
    {
     "data": {
      "text/plain": [
       "6.09376447356308"
      ]
     },
     "execution_count": 30,
     "metadata": {},
     "output_type": "execute_result"
    }
   ],
   "source": [
    "parse(Float64, rgm[1])"
   ]
  },
  {
   "cell_type": "code",
   "execution_count": 31,
   "metadata": {},
   "outputs": [
    {
     "data": {
      "text/plain": [
       "parse_wkt_point (generic function with 1 method)"
      ]
     },
     "execution_count": 31,
     "metadata": {},
     "output_type": "execute_result"
    }
   ],
   "source": [
    "function parse_wkt_point(wkt)\n",
    "    rgx = r\"Point +\\(([0-9]+\\.[0-9]+) +([0-9]+\\.[0-9]+)\\)\"\n",
    "    longitude = missing\n",
    "    latitude = missing\n",
    "    rgm = match(rgx, wkt)\n",
    "    if !isnothing(rgm)\n",
    "        if !isnothing(rgm[1])\n",
    "            longitude = parse(Float64, rgm[1])\n",
    "        end\n",
    "        if !isnothing(rgm[2])\n",
    "            latitude = parse(Float64, rgm[2])\n",
    "        end\n",
    "    end\n",
    "    return longitude, latitude\n",
    "end    "
   ]
  },
  {
   "cell_type": "code",
   "execution_count": 32,
   "metadata": {},
   "outputs": [
    {
     "data": {
      "text/plain": [
       "26-element Vector{String}:\n",
       " \"WKT_GEOM\"\n",
       " \"FACTOR\"\n",
       " \"Bron\"\n",
       " \"Priester_ID\"\n",
       " \"Datum\"\n",
       " \"Locatie\"\n",
       " \"Transcriptie\"\n",
       " \"Voetnoot_bron\"\n",
       " \"Bijdrage\"\n",
       " \"Titel\"\n",
       " \"Voornaam\"\n",
       " \"Patroniem\"\n",
       " \"Familienaam\"\n",
       " \"Familienaam, toponiem\"\n",
       " \"Familienaam, onzeker\"\n",
       " \"Toponiem\"\n",
       " \"Orde\"\n",
       " \"Functie\"\n",
       " \"Instelling\"\n",
       " \"Voornaam_norm\"\n",
       " \"Patroniem_norm\"\n",
       " \"Orde_norm\"\n",
       " \"Opmerkingen\"\n",
       " \"Voornaam_uniciteit\"\n",
       " \"Patroniem_uniciteit\"\n",
       " \"Naam_ARDOU\""
      ]
     },
     "execution_count": 32,
     "metadata": {},
     "output_type": "execute_result"
    }
   ],
   "source": [
    "names(df_priest_bp_in)"
   ]
  },
  {
   "cell_type": "code",
   "execution_count": 33,
   "metadata": {},
   "outputs": [
    {
     "data": {
      "text/plain": [
       "6-element Vector{Pair{Symbol, Symbol}}:\n",
       "    :WKT_GEOM => :WKT_GEOM\n",
       " :Priester_ID => :priest_id_in_source\n",
       "    :Voornaam => :givenname\n",
       "   :Patroniem => :patronym\n",
       "    :Toponiem => :place_name_in\n",
       "      :FACTOR => :place_weight"
      ]
     },
     "execution_count": 33,
     "metadata": {},
     "output_type": "execute_result"
    }
   ],
   "source": [
    "columns = [\n",
    "    :WKT_GEOM => :WKT_GEOM,\n",
    "    :Priester_ID => :priest_id_in_source,\n",
    "    :Voornaam => :givenname,\n",
    "    :Patroniem => :patronym,\n",
    "    :Toponiem => :place_name_in,\n",
    "    :FACTOR => :place_weight,\n",
    "]"
   ]
  },
  {
   "cell_type": "code",
   "execution_count": 34,
   "metadata": {},
   "outputs": [],
   "source": [
    "df_priest_bp = select(df_priest_bp_in, columns);"
   ]
  },
  {
   "cell_type": "code",
   "execution_count": 35,
   "metadata": {},
   "outputs": [],
   "source": [
    "transform!(df_priest_bp, :WKT_GEOM => ByRow(parse_wkt_point) => [:longitude, :latitude]);"
   ]
  },
  {
   "cell_type": "code",
   "execution_count": 36,
   "metadata": {},
   "outputs": [
    {
     "data": {
      "text/plain": [
       "((5255, 8), 3958)"
      ]
     },
     "execution_count": 36,
     "metadata": {},
     "output_type": "execute_result"
    }
   ],
   "source": [
    "size(df_priest_bp), length(unique(df_priest_bp.priest_id_in_source))"
   ]
  },
  {
   "cell_type": "code",
   "execution_count": 38,
   "metadata": {},
   "outputs": [
    {
     "data": {
      "text/html": [
       "<p><b>GroupedDataFrame with 3958 groups based on key: priest_id_in_source</b></p><p><i>First Group (2 rows): priest_id_in_source = &quot;id_1516_2_5&quot;</i></p><div class=\"data-frame\"><table class=\"data-frame\"><thead><tr><th></th><th>WKT_GEOM</th><th>priest_id_in_source</th><th>givenname</th><th>patronym</th><th>place_name_in</th><th>place_weight</th></tr><tr><th></th><th title=\"String\">String</th><th title=\"String15\">String15</th><th title=\"String15\">String15</th><th title=\"Union{Missing, String31}\">String31?</th><th title=\"Union{Missing, String31}\">String31?</th><th title=\"Union{Missing, Float64}\">Float64?</th></tr></thead><tbody><tr><th>1</th><td>Point (6.15866341162453335 53.47992598900200534)</td><td>id_1516_2_5</td><td>Johannes</td><td>Nicolai</td><td>Oculo</td><td>0.629069</td></tr><tr><th>2</th><td>Point (4.69987561257871622 52.83752749265433835)</td><td>id_1516_2_5</td><td>Johannes</td><td>Nicolai</td><td>Oculo</td><td>0.370931</td></tr></tbody></table></div><p>&vellip;</p><p><i>Last Group (1 row): priest_id_in_source = &quot;id_1509_3_93&quot;</i></p><div class=\"data-frame\"><table class=\"data-frame\"><thead><tr><th></th><th>WKT_GEOM</th><th>priest_id_in_source</th><th>givenname</th><th>patronym</th><th>place_name_in</th><th>place_weight</th><th>longitude</th></tr><tr><th></th><th title=\"String\">String</th><th title=\"String15\">String15</th><th title=\"String15\">String15</th><th title=\"Union{Missing, String31}\">String31?</th><th title=\"Union{Missing, String31}\">String31?</th><th title=\"Union{Missing, Float64}\">Float64?</th><th title=\"Float64\">Float64</th></tr></thead><tbody><tr><th>1</th><td>Point (6.008826 52.52061400000000191)</td><td>id_1509_3_93</td><td>Gerardus</td><td>Lamberti</td><td>Sallick</td><td>1.0</td><td>6.00883</td></tr></tbody></table></div>"
      ],
      "text/latex": [
       "GroupedDataFrame with 3958 groups based on key: priest\\_id\\_in\\_source\n",
       "\n",
       "First Group (2 rows): priest\\_id\\_in\\_source = \"id\\_1516\\_2\\_5\"\n",
       "\n",
       "\\begin{tabular}{r|ccccccc}\n",
       "\t& WKT\\_GEOM & priest\\_id\\_in\\_source & givenname & patronym & place\\_name\\_in & place\\_weight & \\\\\n",
       "\t\\hline\n",
       "\t& String & String15 & String15 & String31? & String31? & Float64? & \\\\\n",
       "\t\\hline\n",
       "\t1 & Point (6.15866341162453335 53.47992598900200534) & id\\_1516\\_2\\_5 & Johannes & Nicolai & Oculo & 0.629069 & $\\dots$ \\\\\n",
       "\t2 & Point (4.69987561257871622 52.83752749265433835) & id\\_1516\\_2\\_5 & Johannes & Nicolai & Oculo & 0.370931 & $\\dots$ \\\\\n",
       "\\end{tabular}\n",
       "\n",
       "$\\dots$\n",
       "\n",
       "Last Group (1 row): priest\\_id\\_in\\_source = \"id\\_1509\\_3\\_93\"\n",
       "\n",
       "\\begin{tabular}{r|cccccccc}\n",
       "\t& WKT\\_GEOM & priest\\_id\\_in\\_source & givenname & patronym & place\\_name\\_in & place\\_weight & longitude & \\\\\n",
       "\t\\hline\n",
       "\t& String & String15 & String15 & String31? & String31? & Float64? & Float64 & \\\\\n",
       "\t\\hline\n",
       "\t1 & Point (6.008826 52.52061400000000191) & id\\_1509\\_3\\_93 & Gerardus & Lamberti & Sallick & 1.0 & 6.00883 & $\\dots$ \\\\\n",
       "\\end{tabular}\n"
      ],
      "text/plain": [
       "GroupedDataFrame with 3958 groups based on key: priest_id_in_source\n",
       "First Group (2 rows): priest_id_in_source = \"id_1516_2_5\"\n",
       "\u001b[1m Row \u001b[0m│\u001b[1m WKT_GEOM                          \u001b[0m\u001b[1m priest_id_in_source \u001b[0m\u001b[1m givenname \u001b[0m\u001b[1m patronym  \u001b[0m\u001b[1m place_name_in \u001b[0m\u001b[1m place_weight \u001b[0m\u001b[1m long\u001b[0m ⋯\n",
       "\u001b[1m     \u001b[0m│\u001b[90m String                            \u001b[0m\u001b[90m String15            \u001b[0m\u001b[90m String15  \u001b[0m\u001b[90m String31? \u001b[0m\u001b[90m String31?     \u001b[0m\u001b[90m Float64?     \u001b[0m\u001b[90m Floa\u001b[0m ⋯\n",
       "─────┼──────────────────────────────────────────────────────────────────────────────────────────────────────────────────\n",
       "   1 │ Point (6.15866341162453335 53.47…  id_1516_2_5          Johannes   Nicolai    Oculo              0.629069    6. ⋯\n",
       "   2 │ Point (4.69987561257871622 52.83…  id_1516_2_5          Johannes   Nicolai    Oculo              0.370931    4.\n",
       "\u001b[36m                                                                                                       2 columns omitted\u001b[0m\n",
       "⋮\n",
       "Last Group (1 row): priest_id_in_source = \"id_1509_3_93\"\n",
       "\u001b[1m Row \u001b[0m│\u001b[1m WKT_GEOM                          \u001b[0m\u001b[1m priest_id_in_source \u001b[0m\u001b[1m givenname \u001b[0m\u001b[1m patronym  \u001b[0m\u001b[1m place_name_in \u001b[0m\u001b[1m place_weight \u001b[0m\u001b[1m long\u001b[0m ⋯\n",
       "\u001b[1m     \u001b[0m│\u001b[90m String                            \u001b[0m\u001b[90m String15            \u001b[0m\u001b[90m String15  \u001b[0m\u001b[90m String31? \u001b[0m\u001b[90m String31?     \u001b[0m\u001b[90m Float64?     \u001b[0m\u001b[90m Floa\u001b[0m ⋯\n",
       "─────┼──────────────────────────────────────────────────────────────────────────────────────────────────────────────────\n",
       "   1 │ Point (6.008826 52.5206140000000…  id_1509_3_93         Gerardus   Lamberti   Sallick                 1.0    6. ⋯\n",
       "\u001b[36m                                                                                                       2 columns omitted\u001b[0m"
      ]
     },
     "execution_count": 38,
     "metadata": {},
     "output_type": "execute_result"
    }
   ],
   "source": [
    "df_priest_bp_n = groupby(df_priest_bp, :priest_id_in_source)"
   ]
  },
  {
   "cell_type": "code",
   "execution_count": 39,
   "metadata": {},
   "outputs": [],
   "source": [
    "df_priest_bp_count = combine(df_priest_bp_n, nrow);"
   ]
  },
  {
   "cell_type": "code",
   "execution_count": 40,
   "metadata": {},
   "outputs": [],
   "source": [
    "df_priest_bp_mult = subset(df_priest_bp_count, :nrow => ByRow((x) -> (x > 1)));"
   ]
  },
  {
   "cell_type": "code",
   "execution_count": 41,
   "metadata": {},
   "outputs": [
    {
     "data": {
      "text/html": [
       "<div class=\"data-frame\"><p>5 rows × 2 columns</p><table class=\"data-frame\"><thead><tr><th></th><th>priest_id_in_source</th><th>nrow</th></tr><tr><th></th><th title=\"String15\">String15</th><th title=\"Int64\">Int64</th></tr></thead><tbody><tr><th>1</th><td>id_1516_3_104</td><td>6</td></tr><tr><th>2</th><td>id_1516_6_12</td><td>6</td></tr><tr><th>3</th><td>id_1517_4_35</td><td>6</td></tr><tr><th>4</th><td>id_1517_4_54</td><td>6</td></tr><tr><th>5</th><td>id_1516_4_29</td><td>2</td></tr></tbody></table></div>"
      ],
      "text/latex": [
       "\\begin{tabular}{r|cc}\n",
       "\t& priest\\_id\\_in\\_source & nrow\\\\\n",
       "\t\\hline\n",
       "\t& String15 & Int64\\\\\n",
       "\t\\hline\n",
       "\t1 & id\\_1516\\_3\\_104 & 6 \\\\\n",
       "\t2 & id\\_1516\\_6\\_12 & 6 \\\\\n",
       "\t3 & id\\_1517\\_4\\_35 & 6 \\\\\n",
       "\t4 & id\\_1517\\_4\\_54 & 6 \\\\\n",
       "\t5 & id\\_1516\\_4\\_29 & 2 \\\\\n",
       "\\end{tabular}\n"
      ],
      "text/plain": [
       "\u001b[1m5×2 DataFrame\u001b[0m\n",
       "\u001b[1m Row \u001b[0m│\u001b[1m priest_id_in_source \u001b[0m\u001b[1m nrow  \u001b[0m\n",
       "\u001b[1m     \u001b[0m│\u001b[90m String15            \u001b[0m\u001b[90m Int64 \u001b[0m\n",
       "─────┼────────────────────────────\n",
       "   1 │ id_1516_3_104            6\n",
       "   2 │ id_1516_6_12             6\n",
       "   3 │ id_1517_4_35             6\n",
       "   4 │ id_1517_4_54             6\n",
       "   5 │ id_1516_4_29             2"
      ]
     },
     "execution_count": 41,
     "metadata": {},
     "output_type": "execute_result"
    }
   ],
   "source": [
    "df_priest_bp_mult[51:55, :]"
   ]
  },
  {
   "cell_type": "markdown",
   "metadata": {},
   "source": [
    "*2022-04-12*: Es ist nicht klar, wie die Zuordnung der Koordinaten zu interpretieren ist. Bei mehrfachen Zuordnungen gibt es einen Faktor. Die Summe der Faktoren ist 1.0.  \n",
    "*2022-04-14*: Interpretiere den Faktor als eine Gewichtung für eine zutreffende Zuordnung."
   ]
  },
  {
   "cell_type": "code",
   "execution_count": 42,
   "metadata": {},
   "outputs": [
    {
     "name": "stdout",
     "output_type": "stream",
     "text": [
      "Passwort für User georg: ········\n"
     ]
    },
    {
     "data": {
      "text/plain": [
       "MySQL.Connection(host=\"127.0.0.1\", user=\"georg\", port=\"3306\", db=\"wiag2\")"
      ]
     },
     "execution_count": 42,
     "metadata": {},
     "output_type": "execute_result"
    }
   ],
   "source": [
    "Wds.setDBWIAG(user = \"georg\", db = \"wiag2\")"
   ]
  },
  {
   "cell_type": "code",
   "execution_count": 43,
   "metadata": {},
   "outputs": [],
   "source": [
    "using NearestNeighbors"
   ]
  },
  {
   "cell_type": "code",
   "execution_count": 44,
   "metadata": {},
   "outputs": [],
   "source": [
    "sql = \"SELECT id, geonames_id, name, feature_code, latitude, longitude, place_type_id \n",
    "FROM place\";\n",
    "df_place_gn = Wds.sql_df(sql);"
   ]
  },
  {
   "cell_type": "code",
   "execution_count": 45,
   "metadata": {},
   "outputs": [],
   "source": [
    "transform!(df_place_gn, :longitude => ByRow(Float64) => :longitude);\n",
    "transform!(df_place_gn, :latitude => ByRow(Float64) => :latitude);"
   ]
  },
  {
   "cell_type": "code",
   "execution_count": 46,
   "metadata": {},
   "outputs": [],
   "source": [
    "p_data = Float64.(permutedims(hcat(df_place_gn.longitude, df_place_gn.latitude)));"
   ]
  },
  {
   "cell_type": "code",
   "execution_count": 47,
   "metadata": {},
   "outputs": [
    {
     "data": {
      "text/plain": [
       "KDTree{StaticArrays.SVector{2, Float64}, Euclidean, Float64}\n",
       "  Number of points: 392036\n",
       "  Dimensions: 2\n",
       "  Metric: Euclidean(0.0)\n",
       "  Reordered: true"
      ]
     },
     "execution_count": 47,
     "metadata": {},
     "output_type": "execute_result"
    }
   ],
   "source": [
    "tree = KDTree(p_data)"
   ]
  },
  {
   "cell_type": "code",
   "execution_count": 48,
   "metadata": {},
   "outputs": [
    {
     "data": {
      "text/plain": [
       "8-element Vector{String}:\n",
       " \"WKT_GEOM\"\n",
       " \"priest_id_in_source\"\n",
       " \"givenname\"\n",
       " \"patronym\"\n",
       " \"place_name_in\"\n",
       " \"place_weight\"\n",
       " \"longitude\"\n",
       " \"latitude\""
      ]
     },
     "execution_count": 48,
     "metadata": {},
     "output_type": "execute_result"
    }
   ],
   "source": [
    "names(df_priest_bp)"
   ]
  },
  {
   "cell_type": "code",
   "execution_count": 49,
   "metadata": {},
   "outputs": [],
   "source": [
    "p_sample = permutedims(hcat(df_priest_bp.longitude, df_priest_bp.latitude));"
   ]
  },
  {
   "cell_type": "code",
   "execution_count": 50,
   "metadata": {},
   "outputs": [],
   "source": [
    "range = 0.007\n",
    "idx = inrange(tree, p_sample, range);"
   ]
  },
  {
   "cell_type": "code",
   "execution_count": 51,
   "metadata": {},
   "outputs": [
    {
     "data": {
      "text/plain": [
       "(5255,)"
      ]
     },
     "execution_count": 51,
     "metadata": {},
     "output_type": "execute_result"
    }
   ],
   "source": [
    "size(idx)"
   ]
  },
  {
   "cell_type": "code",
   "execution_count": 43,
   "metadata": {},
   "outputs": [
    {
     "data": {
      "text/plain": [
       "6-element Vector{Vector{Int64}}:\n",
       " [391796, 84994, 82162]\n",
       " [391796, 84994, 82162]\n",
       " [391796, 84994, 82162]\n",
       " [87058, 391797]\n",
       " [87058, 391797]\n",
       " [87058, 391797]"
      ]
     },
     "execution_count": 43,
     "metadata": {},
     "output_type": "execute_result"
    }
   ],
   "source": [
    "idx[100:105]"
   ]
  },
  {
   "cell_type": "code",
   "execution_count": 52,
   "metadata": {},
   "outputs": [
    {
     "data": {
      "text/plain": [
       "(3605, 1510, 140)"
      ]
     },
     "execution_count": 52,
     "metadata": {},
     "output_type": "execute_result"
    }
   ],
   "source": [
    "count(x -> length(x) >= 2, idx), count(x -> length(x) == 1, idx), count(x -> length(x) == 0, idx)"
   ]
  },
  {
   "cell_type": "markdown",
   "metadata": {},
   "source": [
    "Beschränke die Suche auf den nächsten Nachbarn"
   ]
  },
  {
   "cell_type": "code",
   "execution_count": 53,
   "metadata": {},
   "outputs": [],
   "source": [
    "idx, dist = nn(tree, p_sample);"
   ]
  },
  {
   "cell_type": "code",
   "execution_count": 54,
   "metadata": {},
   "outputs": [],
   "source": [
    "insertcols!(df_priest_bp,\n",
    "    :idx => idx,\n",
    "    :dist => dist);"
   ]
  },
  {
   "cell_type": "code",
   "execution_count": 55,
   "metadata": {},
   "outputs": [
    {
     "data": {
      "text/plain": [
       "get_place_gn (generic function with 1 method)"
      ]
     },
     "execution_count": 55,
     "metadata": {},
     "output_type": "execute_result"
    }
   ],
   "source": [
    "get_place_gn(idx) = df_place_gn[idx, :id], df_place_gn"
   ]
  },
  {
   "cell_type": "code",
   "execution_count": 56,
   "metadata": {},
   "outputs": [
    {
     "data": {
      "text/plain": [
       "get_place_gn (generic function with 1 method)"
      ]
     },
     "execution_count": 56,
     "metadata": {},
     "output_type": "execute_result"
    }
   ],
   "source": [
    "get_place_gn(idx) = Tuple(df_place_gn[idx, col] for col in (:id, :place_type_id, :name))"
   ]
  },
  {
   "cell_type": "code",
   "execution_count": 57,
   "metadata": {},
   "outputs": [
    {
     "data": {
      "text/plain": [
       "get_place_gn_maybe (generic function with 1 method)"
      ]
     },
     "execution_count": 57,
     "metadata": {},
     "output_type": "execute_result"
    }
   ],
   "source": [
    "th = 0.007\n",
    "get_place_gn_maybe(idx, dist) = dist < 0.007 ? get_place_gn(idx) : (missing, missing, missing)"
   ]
  },
  {
   "cell_type": "code",
   "execution_count": 58,
   "metadata": {},
   "outputs": [
    {
     "data": {
      "text/plain": [
       "(350633, 1, \"Zellerreit\")"
      ]
     },
     "execution_count": 58,
     "metadata": {},
     "output_type": "execute_result"
    }
   ],
   "source": [
    "get_place_gn_maybe(300, 0.1e-3)"
   ]
  },
  {
   "cell_type": "code",
   "execution_count": 59,
   "metadata": {},
   "outputs": [],
   "source": [
    "df_priest_bp_place = transform(df_priest_bp,\n",
    "[:idx, :dist] => ByRow(get_place_gn_maybe) => [:place_id, :place_type_id, :place_name]);"
   ]
  },
  {
   "cell_type": "code",
   "execution_count": 60,
   "metadata": {},
   "outputs": [
    {
     "data": {
      "text/plain": [
       "6-element Vector{Symbol}:\n",
       " :priest_id_in_source\n",
       " :givenname\n",
       " :place_id\n",
       " :place_type_id\n",
       " :place_name_in\n",
       " :place_name"
      ]
     },
     "execution_count": 60,
     "metadata": {},
     "output_type": "execute_result"
    }
   ],
   "source": [
    "columns = [\n",
    "    :priest_id_in_source,\n",
    "    :givenname,\n",
    "    :place_id,\n",
    "    :place_type_id,\n",
    "    :place_name_in,\n",
    "    :place_name\n",
    "]"
   ]
  },
  {
   "cell_type": "code",
   "execution_count": 61,
   "metadata": {},
   "outputs": [
    {
     "data": {
      "text/html": [
       "<div class=\"data-frame\"><p>8 rows × 6 columns</p><table class=\"data-frame\"><thead><tr><th></th><th>priest_id_in_source</th><th>givenname</th><th>place_id</th><th>place_type_id</th><th>place_name_in</th><th>place_name</th></tr><tr><th></th><th title=\"String15\">String15</th><th title=\"String15\">String15</th><th title=\"Union{Missing, Int32}\">Int32?</th><th title=\"Union{Missing, Int32}\">Int32?</th><th title=\"Union{Missing, String31}\">String31?</th><th title=\"Union{Missing, String}\">String?</th></tr></thead><tbody><tr><th>1</th><td>id_1505_2_44</td><td>Heinricus</td><td>944237</td><td>2</td><td>Dieveren</td><td>Dieveren</td></tr><tr><th>2</th><td>id_1512_3_54</td><td>Helpricus</td><td>944237</td><td>2</td><td>Dieveren</td><td>Dieveren</td></tr><tr><th>3</th><td>id_1517_4_4</td><td>Coenrardus</td><td>944237</td><td>2</td><td>Dieveren</td><td>Dieveren</td></tr><tr><th>4</th><td>id_1505_2_44</td><td>Heinricus</td><td>944238</td><td>2</td><td>Dieveren</td><td>Dieveren</td></tr><tr><th>5</th><td>id_1512_3_54</td><td>Helpricus</td><td>944238</td><td>2</td><td>Dieveren</td><td>Dieveren</td></tr><tr><th>6</th><td>id_1517_4_4</td><td>Coenrardus</td><td>944238</td><td>2</td><td>Dieveren</td><td>Dieveren</td></tr><tr><th>7</th><td>id_1517_3_49</td><td>Johannes</td><td>944239</td><td>2</td><td>Wapservenis</td><td>Wapservenis</td></tr><tr><th>8</th><td>id_1511_4_32</td><td>Theodricus</td><td>944240</td><td>2</td><td>Dolre</td><td>Dolre</td></tr></tbody></table></div>"
      ],
      "text/latex": [
       "\\begin{tabular}{r|cccccc}\n",
       "\t& priest\\_id\\_in\\_source & givenname & place\\_id & place\\_type\\_id & place\\_name\\_in & place\\_name\\\\\n",
       "\t\\hline\n",
       "\t& String15 & String15 & Int32? & Int32? & String31? & String?\\\\\n",
       "\t\\hline\n",
       "\t1 & id\\_1505\\_2\\_44 & Heinricus & 944237 & 2 & Dieveren & Dieveren \\\\\n",
       "\t2 & id\\_1512\\_3\\_54 & Helpricus & 944237 & 2 & Dieveren & Dieveren \\\\\n",
       "\t3 & id\\_1517\\_4\\_4 & Coenrardus & 944237 & 2 & Dieveren & Dieveren \\\\\n",
       "\t4 & id\\_1505\\_2\\_44 & Heinricus & 944238 & 2 & Dieveren & Dieveren \\\\\n",
       "\t5 & id\\_1512\\_3\\_54 & Helpricus & 944238 & 2 & Dieveren & Dieveren \\\\\n",
       "\t6 & id\\_1517\\_4\\_4 & Coenrardus & 944238 & 2 & Dieveren & Dieveren \\\\\n",
       "\t7 & id\\_1517\\_3\\_49 & Johannes & 944239 & 2 & Wapservenis & Wapservenis \\\\\n",
       "\t8 & id\\_1511\\_4\\_32 & Theodricus & 944240 & 2 & Dolre & Dolre \\\\\n",
       "\\end{tabular}\n"
      ],
      "text/plain": [
       "\u001b[1m8×6 DataFrame\u001b[0m\n",
       "\u001b[1m Row \u001b[0m│\u001b[1m priest_id_in_source \u001b[0m\u001b[1m givenname  \u001b[0m\u001b[1m place_id \u001b[0m\u001b[1m place_type_id \u001b[0m\u001b[1m place_name_in \u001b[0m\u001b[1m place_name  \u001b[0m\n",
       "\u001b[1m     \u001b[0m│\u001b[90m String15            \u001b[0m\u001b[90m String15   \u001b[0m\u001b[90m Int32?   \u001b[0m\u001b[90m Int32?        \u001b[0m\u001b[90m String31?     \u001b[0m\u001b[90m String?     \u001b[0m\n",
       "─────┼──────────────────────────────────────────────────────────────────────────────────────\n",
       "   1 │ id_1505_2_44         Heinricus     944237              2  Dieveren       Dieveren\n",
       "   2 │ id_1512_3_54         Helpricus     944237              2  Dieveren       Dieveren\n",
       "   3 │ id_1517_4_4          Coenrardus    944237              2  Dieveren       Dieveren\n",
       "   4 │ id_1505_2_44         Heinricus     944238              2  Dieveren       Dieveren\n",
       "   5 │ id_1512_3_54         Helpricus     944238              2  Dieveren       Dieveren\n",
       "   6 │ id_1517_4_4          Coenrardus    944238              2  Dieveren       Dieveren\n",
       "   7 │ id_1517_3_49         Johannes      944239              2  Wapservenis    Wapservenis\n",
       "   8 │ id_1511_4_32         Theodricus    944240              2  Dolre          Dolre"
      ]
     },
     "execution_count": 61,
     "metadata": {},
     "output_type": "execute_result"
    }
   ],
   "source": [
    "df_priest_bp_place[100:107, columns]"
   ]
  },
  {
   "cell_type": "code",
   "execution_count": 62,
   "metadata": {},
   "outputs": [
    {
     "data": {
      "text/plain": [
       "71"
      ]
     },
     "execution_count": 62,
     "metadata": {},
     "output_type": "execute_result"
    }
   ],
   "source": [
    "count(ismissing, df_priest_bp_place.place_weight)"
   ]
  },
  {
   "cell_type": "code",
   "execution_count": 63,
   "metadata": {},
   "outputs": [
    {
     "data": {
      "text/plain": [
       "13-element Vector{String}:\n",
       " \"WKT_GEOM\"\n",
       " \"priest_id_in_source\"\n",
       " \"givenname\"\n",
       " \"patronym\"\n",
       " \"place_name_in\"\n",
       " \"place_weight\"\n",
       " \"longitude\"\n",
       " \"latitude\"\n",
       " \"idx\"\n",
       " \"dist\"\n",
       " \"place_id\"\n",
       " \"place_type_id\"\n",
       " \"place_name\""
      ]
     },
     "execution_count": 63,
     "metadata": {},
     "output_type": "execute_result"
    }
   ],
   "source": [
    "names(df_priest_bp_place)"
   ]
  },
  {
   "cell_type": "code",
   "execution_count": 64,
   "metadata": {},
   "outputs": [],
   "source": [
    "priest_type_id = 10\n",
    "sql = \"SELECT id, id_in_source \n",
    "FROM item\n",
    "WHERE item_type_id = $(priest_type_id)\";\n",
    "df_item = Wds.sql_df(sql);"
   ]
  },
  {
   "cell_type": "code",
   "execution_count": 65,
   "metadata": {},
   "outputs": [
    {
     "data": {
      "text/plain": [
       "4-element Vector{Pair{Symbol, Symbol}}:\n",
       " :priest_id_in_source => :id_in_source\n",
       "       :place_name_in => :place_name\n",
       "        :place_weight => :weight\n",
       "            :place_id => :place_id"
      ]
     },
     "execution_count": 65,
     "metadata": {},
     "output_type": "execute_result"
    }
   ],
   "source": [
    "columns = [\n",
    "    :priest_id_in_source => :id_in_source,\n",
    "    :place_name_in => :place_name,\n",
    "    :place_weight => :weight,\n",
    "    :place_id => :place_id\n",
    "]"
   ]
  },
  {
   "cell_type": "code",
   "execution_count": 66,
   "metadata": {},
   "outputs": [],
   "source": [
    "df_priest_bp_out = leftjoin(select(df_priest_bp_place, columns), df_item, on = :id_in_source);"
   ]
  },
  {
   "cell_type": "code",
   "execution_count": 67,
   "metadata": {},
   "outputs": [
    {
     "data": {
      "text/plain": [
       "0"
      ]
     },
     "execution_count": 67,
     "metadata": {},
     "output_type": "execute_result"
    }
   ],
   "source": [
    "count(ismissing, df_priest_bp_out.id)"
   ]
  },
  {
   "cell_type": "code",
   "execution_count": 68,
   "metadata": {},
   "outputs": [
    {
     "data": {
      "text/plain": [
       "5-element Vector{String}:\n",
       " \"id_in_source\"\n",
       " \"place_name\"\n",
       " \"weight\"\n",
       " \"place_id\"\n",
       " \"id\""
      ]
     },
     "execution_count": 68,
     "metadata": {},
     "output_type": "execute_result"
    }
   ],
   "source": [
    "names(df_priest_bp_out)"
   ]
  },
  {
   "cell_type": "code",
   "execution_count": 69,
   "metadata": {},
   "outputs": [],
   "source": [
    "dropmissing!(df_priest_bp_out, :weight);"
   ]
  },
  {
   "cell_type": "code",
   "execution_count": 70,
   "metadata": {},
   "outputs": [],
   "source": [
    "round6(d) = round(d, digits = 6)\n",
    "transform!(df_priest_bp_out, :weight => ByRow(round6) => :weight6);"
   ]
  },
  {
   "cell_type": "code",
   "execution_count": 71,
   "metadata": {},
   "outputs": [
    {
     "data": {
      "text/plain": [
       "(5184, 6)"
      ]
     },
     "execution_count": 71,
     "metadata": {},
     "output_type": "execute_result"
    }
   ],
   "source": [
    "size(df_priest_bp_out)"
   ]
  },
  {
   "cell_type": "code",
   "execution_count": 72,
   "metadata": {},
   "outputs": [
    {
     "data": {
      "text/html": [
       "<div class=\"data-frame\"><p>8 rows × 6 columns</p><table class=\"data-frame\"><thead><tr><th></th><th>id_in_source</th><th>place_name</th><th>weight</th><th>place_id</th><th>id</th><th>weight6</th></tr><tr><th></th><th title=\"String15\">String15</th><th title=\"Union{Missing, String31}\">String31?</th><th title=\"Float64\">Float64</th><th title=\"Union{Missing, Int32}\">Int32?</th><th title=\"Union{Missing, Int32}\">Int32?</th><th title=\"Float64\">Float64</th></tr></thead><tbody><tr><th>1</th><td>id_1514_4_17</td><td>Campis</td><td>0.631456</td><td>944365</td><td>315383</td><td>0.631456</td></tr><tr><th>2</th><td>id_1514_5_6</td><td>Cempis</td><td>0.631456</td><td>944365</td><td>315464</td><td>0.631456</td></tr><tr><th>3</th><td>id_1514_5_18</td><td>Campis</td><td>0.631456</td><td>944365</td><td>315476</td><td>0.631456</td></tr><tr><th>4</th><td>id_1514_5_32</td><td>Campis</td><td>0.631456</td><td>944365</td><td>315490</td><td>0.631456</td></tr><tr><th>5</th><td>id_1514_5_38</td><td>Kemponis</td><td>1.0</td><td>944365</td><td>315496</td><td>1.0</td></tr><tr><th>6</th><td>id_1514_6_4</td><td>Campis</td><td>0.631456</td><td>944365</td><td>315507</td><td>0.631456</td></tr><tr><th>7</th><td>id_1515_1_14</td><td>Campis</td><td>0.631456</td><td>944365</td><td>315541</td><td>0.631456</td></tr><tr><th>8</th><td>id_1515_4_59</td><td>Campis</td><td>0.631456</td><td>944365</td><td>315758</td><td>0.631456</td></tr></tbody></table></div>"
      ],
      "text/latex": [
       "\\begin{tabular}{r|cccccc}\n",
       "\t& id\\_in\\_source & place\\_name & weight & place\\_id & id & weight6\\\\\n",
       "\t\\hline\n",
       "\t& String15 & String31? & Float64 & Int32? & Int32? & Float64\\\\\n",
       "\t\\hline\n",
       "\t1 & id\\_1514\\_4\\_17 & Campis & 0.631456 & 944365 & 315383 & 0.631456 \\\\\n",
       "\t2 & id\\_1514\\_5\\_6 & Cempis & 0.631456 & 944365 & 315464 & 0.631456 \\\\\n",
       "\t3 & id\\_1514\\_5\\_18 & Campis & 0.631456 & 944365 & 315476 & 0.631456 \\\\\n",
       "\t4 & id\\_1514\\_5\\_32 & Campis & 0.631456 & 944365 & 315490 & 0.631456 \\\\\n",
       "\t5 & id\\_1514\\_5\\_38 & Kemponis & 1.0 & 944365 & 315496 & 1.0 \\\\\n",
       "\t6 & id\\_1514\\_6\\_4 & Campis & 0.631456 & 944365 & 315507 & 0.631456 \\\\\n",
       "\t7 & id\\_1515\\_1\\_14 & Campis & 0.631456 & 944365 & 315541 & 0.631456 \\\\\n",
       "\t8 & id\\_1515\\_4\\_59 & Campis & 0.631456 & 944365 & 315758 & 0.631456 \\\\\n",
       "\\end{tabular}\n"
      ],
      "text/plain": [
       "\u001b[1m8×6 DataFrame\u001b[0m\n",
       "\u001b[1m Row \u001b[0m│\u001b[1m id_in_source \u001b[0m\u001b[1m place_name \u001b[0m\u001b[1m weight   \u001b[0m\u001b[1m place_id \u001b[0m\u001b[1m id     \u001b[0m\u001b[1m weight6  \u001b[0m\n",
       "\u001b[1m     \u001b[0m│\u001b[90m String15     \u001b[0m\u001b[90m String31?  \u001b[0m\u001b[90m Float64  \u001b[0m\u001b[90m Int32?   \u001b[0m\u001b[90m Int32? \u001b[0m\u001b[90m Float64  \u001b[0m\n",
       "─────┼────────────────────────────────────────────────────────────────\n",
       "   1 │ id_1514_4_17  Campis      0.631456    944365  315383  0.631456\n",
       "   2 │ id_1514_5_6   Cempis      0.631456    944365  315464  0.631456\n",
       "   3 │ id_1514_5_18  Campis      0.631456    944365  315476  0.631456\n",
       "   4 │ id_1514_5_32  Campis      0.631456    944365  315490  0.631456\n",
       "   5 │ id_1514_5_38  Kemponis    1.0         944365  315496  1.0\n",
       "   6 │ id_1514_6_4   Campis      0.631456    944365  315507  0.631456\n",
       "   7 │ id_1515_1_14  Campis      0.631456    944365  315541  0.631456\n",
       "   8 │ id_1515_4_59  Campis      0.631456    944365  315758  0.631456"
      ]
     },
     "execution_count": 72,
     "metadata": {},
     "output_type": "execute_result"
    }
   ],
   "source": [
    "df_priest_bp_out[400:407, :]"
   ]
  },
  {
   "cell_type": "code",
   "execution_count": 73,
   "metadata": {},
   "outputs": [
    {
     "data": {
      "text/plain": [
       "4-element Vector{Pair{Symbol, Symbol}}:\n",
       "         :id => :person_id\n",
       "   :place_id => :place_id\n",
       " :place_name => :place_name\n",
       "    :weight6 => :weight"
      ]
     },
     "execution_count": 73,
     "metadata": {},
     "output_type": "execute_result"
    }
   ],
   "source": [
    "columns = [\n",
    "    :id => :person_id,\n",
    "    :place_id => :place_id,\n",
    "    :place_name => :place_name,\n",
    "    :weight6 => :weight\n",
    "]"
   ]
  },
  {
   "cell_type": "code",
   "execution_count": 74,
   "metadata": {},
   "outputs": [
    {
     "name": "stderr",
     "output_type": "stream",
     "text": [
      "┌ Info: row \n",
      "│   i = 2000\n",
      "└ @ WiagDataSetup C:\\Users\\georg\\Documents\\projekte\\WiagDataSetup.jl\\src\\WiagDataSetup.jl:1603\n",
      "┌ Info: row \n",
      "│   i = 4000\n",
      "└ @ WiagDataSetup C:\\Users\\georg\\Documents\\projekte\\WiagDataSetup.jl\\src\\WiagDataSetup.jl:1603\n"
     ]
    },
    {
     "data": {
      "text/plain": [
       "5184"
      ]
     },
     "execution_count": 74,
     "metadata": {},
     "output_type": "execute_result"
    }
   ],
   "source": [
    "table_name = \"person_birthplace\";\n",
    "file_name = joinpath(out_path, \"$(table_name).sql\");\n",
    "Wds.insert_sql(file_name, table_name, select(df_priest_bp_out, columns))"
   ]
  },
  {
   "cell_type": "code",
   "execution_count": 184,
   "metadata": {},
   "outputs": [
    {
     "data": {
      "text/html": [
       "<div class=\"data-frame\"><p>8 rows × 4 columns</p><table class=\"data-frame\"><thead><tr><th></th><th>person_id</th><th>place_id</th><th>place_name</th><th>weight</th></tr><tr><th></th><th title=\"Union{Missing, Int32}\">Int32?</th><th title=\"Union{Missing, Int32}\">Int32?</th><th title=\"Union{Missing, String31}\">String31?</th><th title=\"Float64\">Float64</th></tr></thead><tbody><tr><th>1</th><td>180500</td><td>944365</td><td>Campis</td><td>0.631456</td></tr><tr><th>2</th><td>180501</td><td>944365</td><td>Cempis</td><td>0.631456</td></tr><tr><th>3</th><td>180502</td><td>944365</td><td>Campis</td><td>0.631456</td></tr><tr><th>4</th><td>180503</td><td>944365</td><td>Campis</td><td>0.631456</td></tr><tr><th>5</th><td>180504</td><td>944365</td><td>Kemponis</td><td>1.0</td></tr><tr><th>6</th><td>180505</td><td>944365</td><td>Campis</td><td>0.631456</td></tr><tr><th>7</th><td>180506</td><td>944365</td><td>Campis</td><td>0.631456</td></tr><tr><th>8</th><td>180507</td><td>944365</td><td>Campis</td><td>0.631456</td></tr></tbody></table></div>"
      ],
      "text/latex": [
       "\\begin{tabular}{r|cccc}\n",
       "\t& person\\_id & place\\_id & place\\_name & weight\\\\\n",
       "\t\\hline\n",
       "\t& Int32? & Int32? & String31? & Float64\\\\\n",
       "\t\\hline\n",
       "\t1 & 180500 & 944365 & Campis & 0.631456 \\\\\n",
       "\t2 & 180501 & 944365 & Cempis & 0.631456 \\\\\n",
       "\t3 & 180502 & 944365 & Campis & 0.631456 \\\\\n",
       "\t4 & 180503 & 944365 & Campis & 0.631456 \\\\\n",
       "\t5 & 180504 & 944365 & Kemponis & 1.0 \\\\\n",
       "\t6 & 180505 & 944365 & Campis & 0.631456 \\\\\n",
       "\t7 & 180506 & 944365 & Campis & 0.631456 \\\\\n",
       "\t8 & 180507 & 944365 & Campis & 0.631456 \\\\\n",
       "\\end{tabular}\n"
      ],
      "text/plain": [
       "\u001b[1m8×4 DataFrame\u001b[0m\n",
       "\u001b[1m Row \u001b[0m│\u001b[1m person_id \u001b[0m\u001b[1m place_id \u001b[0m\u001b[1m place_name \u001b[0m\u001b[1m weight   \u001b[0m\n",
       "\u001b[1m     \u001b[0m│\u001b[90m Int32?    \u001b[0m\u001b[90m Int32?   \u001b[0m\u001b[90m String31?  \u001b[0m\u001b[90m Float64  \u001b[0m\n",
       "─────┼───────────────────────────────────────────\n",
       "   1 │    180500    944365  Campis      0.631456\n",
       "   2 │    180501    944365  Cempis      0.631456\n",
       "   3 │    180502    944365  Campis      0.631456\n",
       "   4 │    180503    944365  Campis      0.631456\n",
       "   5 │    180504    944365  Kemponis    1.0\n",
       "   6 │    180505    944365  Campis      0.631456\n",
       "   7 │    180506    944365  Campis      0.631456\n",
       "   8 │    180507    944365  Campis      0.631456"
      ]
     },
     "execution_count": 184,
     "metadata": {},
     "output_type": "execute_result"
    }
   ],
   "source": [
    "select(df_priest_bp_out, columns)[400:407, :]"
   ]
  },
  {
   "cell_type": "markdown",
   "metadata": {},
   "source": [
    "## Geburtsorte zuordnen"
   ]
  },
  {
   "cell_type": "code",
   "execution_count": 267,
   "metadata": {},
   "outputs": [
    {
     "data": {
      "text/plain": [
       "12-element Vector{String}:\n",
       " \"id\"\n",
       " \"whg_id\"\n",
       " \"title\"\n",
       " \"link_type\"\n",
       " \"link_identifier\"\n",
       " \"type_label\"\n",
       " \"type_identifier\"\n",
       " \"longitude\"\n",
       " \"latitude\"\n",
       " \"geonames_id\"\n",
       " \"place_type_id\"\n",
       " \"place_id\""
      ]
     },
     "execution_count": 267,
     "metadata": {},
     "output_type": "execute_result"
    }
   ],
   "source": [
    "names(df_place_u)"
   ]
  },
  {
   "cell_type": "markdown",
   "metadata": {},
   "source": [
    "Tabelle mit Koordinaten, Ortsnamen und Priestern"
   ]
  },
  {
   "cell_type": "code",
   "execution_count": 268,
   "metadata": {},
   "outputs": [
    {
     "name": "stderr",
     "output_type": "stream",
     "text": [
      "┌ Warning: thread = 2 warning: only found 25 / 26 columns around data row: 5480. Filling remaining columns with `missing`\n",
      "└ @ CSV C:\\Users\\georg\\.julia\\packages\\CSV\\b4GfC\\src\\file.jl:622\n"
     ]
    }
   ],
   "source": [
    "file_name = joinpath(data_path, \"..\", \"Ordinations of priests (identified place of origin).tsv\")\n",
    "df_bp_in = CSV.read(file_name, DataFrame, delim = \"\\t\", stringtype = String);"
   ]
  },
  {
   "cell_type": "code",
   "execution_count": 269,
   "metadata": {},
   "outputs": [
    {
     "data": {
      "text/plain": [
       "(5255, 26)"
      ]
     },
     "execution_count": 269,
     "metadata": {},
     "output_type": "execute_result"
    }
   ],
   "source": [
    "size(df_bp_in)"
   ]
  },
  {
   "cell_type": "code",
   "execution_count": 270,
   "metadata": {},
   "outputs": [
    {
     "data": {
      "text/html": [
       "<div class=\"data-frame\"><p>3 rows × 4 columns</p><table class=\"data-frame\"><thead><tr><th></th><th>WKT_GEOM</th><th>Priester_ID</th><th>Toponiem</th><th>Voornaam</th></tr><tr><th></th><th title=\"String\">String</th><th title=\"String\">String</th><th title=\"Union{Missing, String}\">String?</th><th title=\"String\">String</th></tr></thead><tbody><tr><th>1</th><td>Point (6.0937644735630796 52.51259100584277917)</td><td>id_1513_4_55</td><td>Zvollis</td><td>Hermannus</td></tr><tr><th>2</th><td>Point (6.0937644735630796 52.51259100584277917)</td><td>id_1513_4_57</td><td>Zvollis</td><td>Bernardus</td></tr><tr><th>3</th><td>Point (6.0937644735630796 52.51259100584277917)</td><td>id_1513_6_12</td><td>Zvollis</td><td>Lubbertus</td></tr></tbody></table></div>"
      ],
      "text/latex": [
       "\\begin{tabular}{r|cccc}\n",
       "\t& WKT\\_GEOM & Priester\\_ID & Toponiem & Voornaam\\\\\n",
       "\t\\hline\n",
       "\t& String & String & String? & String\\\\\n",
       "\t\\hline\n",
       "\t1 & Point (6.0937644735630796 52.51259100584277917) & id\\_1513\\_4\\_55 & Zvollis & Hermannus \\\\\n",
       "\t2 & Point (6.0937644735630796 52.51259100584277917) & id\\_1513\\_4\\_57 & Zvollis & Bernardus \\\\\n",
       "\t3 & Point (6.0937644735630796 52.51259100584277917) & id\\_1513\\_6\\_12 & Zvollis & Lubbertus \\\\\n",
       "\\end{tabular}\n"
      ],
      "text/plain": [
       "\u001b[1m3×4 DataFrame\u001b[0m\n",
       "\u001b[1m Row \u001b[0m│\u001b[1m WKT_GEOM                          \u001b[0m\u001b[1m Priester_ID  \u001b[0m\u001b[1m Toponiem \u001b[0m\u001b[1m Voornaam  \u001b[0m\n",
       "\u001b[1m     \u001b[0m│\u001b[90m String                            \u001b[0m\u001b[90m String       \u001b[0m\u001b[90m String?  \u001b[0m\u001b[90m String    \u001b[0m\n",
       "─────┼──────────────────────────────────────────────────────────────────────\n",
       "   1 │ Point (6.0937644735630796 52.512…  id_1513_4_55  Zvollis   Hermannus\n",
       "   2 │ Point (6.0937644735630796 52.512…  id_1513_4_57  Zvollis   Bernardus\n",
       "   3 │ Point (6.0937644735630796 52.512…  id_1513_6_12  Zvollis   Lubbertus"
      ]
     },
     "execution_count": 270,
     "metadata": {},
     "output_type": "execute_result"
    }
   ],
   "source": [
    "df_bp_in[301:303, [:WKT_GEOM, :Priester_ID, :Toponiem, :Voornaam]]"
   ]
  },
  {
   "cell_type": "code",
   "execution_count": 151,
   "metadata": {},
   "outputs": [
    {
     "data": {
      "text/plain": [
       "r\"Point +\\(([0-9]+\\.[0-9]+) +([0-9]+\\.[0-9]+)\\)\""
      ]
     },
     "execution_count": 151,
     "metadata": {},
     "output_type": "execute_result"
    }
   ],
   "source": [
    "rgx = r\"Point +\\(([0-9]+\\.[0-9]+) +([0-9]+\\.[0-9]+)\\)\""
   ]
  },
  {
   "cell_type": "code",
   "execution_count": 152,
   "metadata": {},
   "outputs": [
    {
     "data": {
      "text/plain": [
       "RegexMatch(\"Point (6.0937644735630796 52.51259100584277917)\", 1=\"6.0937644735630796\", 2=\"52.51259100584277917\")"
      ]
     },
     "execution_count": 152,
     "metadata": {},
     "output_type": "execute_result"
    }
   ],
   "source": [
    "rgm = match(rgx, \"Point (6.0937644735630796 52.51259100584277917)\")"
   ]
  },
  {
   "cell_type": "code",
   "execution_count": 153,
   "metadata": {},
   "outputs": [
    {
     "data": {
      "text/plain": [
       "6.09376447356308"
      ]
     },
     "execution_count": 153,
     "metadata": {},
     "output_type": "execute_result"
    }
   ],
   "source": [
    "parse(Float64, rgm[1])"
   ]
  },
  {
   "cell_type": "code",
   "execution_count": 271,
   "metadata": {},
   "outputs": [
    {
     "data": {
      "text/plain": [
       "parse_wkt_point (generic function with 1 method)"
      ]
     },
     "execution_count": 271,
     "metadata": {},
     "output_type": "execute_result"
    }
   ],
   "source": [
    "function parse_wkt_point(wkt)\n",
    "    rgx = r\"Point +\\(([0-9]+\\.[0-9]+) +([0-9]+\\.[0-9]+)\\)\"\n",
    "    longitude = missing\n",
    "    latitude = missing\n",
    "    rgm = match(rgx, wkt)\n",
    "    if !isnothing(rgm)\n",
    "        if !isnothing(rgm[1])\n",
    "            longitude = parse(Float64, rgm[1])\n",
    "        end\n",
    "        if !isnothing(rgm[2])\n",
    "            latitude = parse(Float64, rgm[2])\n",
    "        end\n",
    "    end\n",
    "    return longitude, latitude\n",
    "end    "
   ]
  },
  {
   "cell_type": "code",
   "execution_count": 272,
   "metadata": {},
   "outputs": [
    {
     "data": {
      "text/plain": [
       "6-element Vector{Pair{Symbol, Symbol}}:\n",
       "    :WKT_GEOM => :WKT_GEOM\n",
       " :Priester_ID => :priest_id_in_source\n",
       "    :Voornaam => :givenname\n",
       "   :Patroniem => :patronym\n",
       "    :Toponiem => :place_name_in\n",
       "      :FACTOR => :place_weight"
      ]
     },
     "execution_count": 272,
     "metadata": {},
     "output_type": "execute_result"
    }
   ],
   "source": [
    "columns = [\n",
    "    :WKT_GEOM => :WKT_GEOM,\n",
    "    :Priester_ID => :priest_id_in_source,\n",
    "    :Voornaam => :givenname,\n",
    "    :Patroniem => :patronym,\n",
    "    :Toponiem => :place_name_in,\n",
    "    :FACTOR => :place_weight,\n",
    "]"
   ]
  },
  {
   "cell_type": "code",
   "execution_count": 273,
   "metadata": {},
   "outputs": [],
   "source": [
    "df_bp = select(df_bp_in, columns);"
   ]
  },
  {
   "cell_type": "code",
   "execution_count": 274,
   "metadata": {},
   "outputs": [],
   "source": [
    "transform!(df_bp, :WKT_GEOM => ByRow(parse_wkt_point) => [:longitude_bp, :latitude_bp]);"
   ]
  },
  {
   "cell_type": "code",
   "execution_count": 275,
   "metadata": {},
   "outputs": [
    {
     "data": {
      "text/plain": [
       "((5255, 8), 3958)"
      ]
     },
     "execution_count": 275,
     "metadata": {},
     "output_type": "execute_result"
    }
   ],
   "source": [
    "size(df_bp), length(unique(df_bp.priest_id_in_source))"
   ]
  },
  {
   "cell_type": "markdown",
   "metadata": {},
   "source": [
    "Bei Einträgen ohne Ortsnamen fehlt auch immer ein Eintrag in der Spalte `Factor`."
   ]
  },
  {
   "cell_type": "code",
   "execution_count": 96,
   "metadata": {},
   "outputs": [
    {
     "data": {
      "text/plain": [
       "delta_geo (generic function with 1 method)"
      ]
     },
     "execution_count": 96,
     "metadata": {},
     "output_type": "execute_result"
    }
   ],
   "source": [
    "delta_geo(e1, n1, e2, n2) = ismissing(e1 + n1 + e2 + n2) ? 10 : sqrt(abs2(e2 - e1) + abs(n2 - n1))"
   ]
  },
  {
   "cell_type": "markdown",
   "metadata": {},
   "source": [
    "Finde einen passenden Ort"
   ]
  },
  {
   "cell_type": "code",
   "execution_count": 289,
   "metadata": {},
   "outputs": [],
   "source": [
    "df_bp_whg = copy(df_bp);"
   ]
  },
  {
   "cell_type": "code",
   "execution_count": 290,
   "metadata": {},
   "outputs": [
    {
     "data": {
      "text/plain": [
       "5255"
      ]
     },
     "execution_count": 290,
     "metadata": {},
     "output_type": "execute_result"
    }
   ],
   "source": [
    "s1 = size(df_priest_bp_whg, 1)"
   ]
  },
  {
   "cell_type": "code",
   "execution_count": 292,
   "metadata": {},
   "outputs": [],
   "source": [
    "insertcols!(df_bp_whg,\n",
    "    :brom_id => Array{Union{Missing, String}}(missing, s1),\n",
    "    :whg_id => Array{Union{Missing, String}}(missing, s1),\n",
    "    :name_whg => Array{Union{Missing, String}}(missing, s1),\n",
    "    :place_id => Array{Union{Missing, Int}}(missing, s1)\n",
    ");"
   ]
  },
  {
   "cell_type": "code",
   "execution_count": 293,
   "metadata": {},
   "outputs": [
    {
     "data": {
      "text/plain": [
       "delta_geo (generic function with 1 method)"
      ]
     },
     "execution_count": 293,
     "metadata": {},
     "output_type": "execute_result"
    }
   ],
   "source": [
    "delta_geo(e1, n1, e2, n2) = ismissing(e1 + n1 + e2 + n2) ? 10 : sqrt(abs2(e2 - e1) + abs(n2 - n1))"
   ]
  },
  {
   "cell_type": "code",
   "execution_count": 297,
   "metadata": {},
   "outputs": [
    {
     "data": {
      "text/plain": [
       "find_bp (generic function with 2 methods)"
      ]
     },
     "execution_count": 297,
     "metadata": {},
     "output_type": "execute_result"
    }
   ],
   "source": [
    "function find_bp(df_priest, df_place, th = 0.001)\n",
    "    n_mg = 0\n",
    "    for row_p in eachrow(df_priest)\n",
    "        flag_found = false\n",
    "        for row_cand in eachrow(df_place)\n",
    "            delta = delta_geo(row_p.longitude_bp, row_p.latitude_bp, row_cand.longitude, row_cand.latitude)\n",
    "            if delta < th\n",
    "                row_p.brom_id = row_cand.id\n",
    "                row_p.whg_id = row_cand.whg_id\n",
    "                row_p.name_whg = row_cand.title\n",
    "                row_p.place_id = row_cand.place_id\n",
    "                flag_found = true\n",
    "                break\n",
    "            end\n",
    "        end\n",
    "        flag_found ? continue : n_mg += 1\n",
    "    end\n",
    "    return n_mg\n",
    "end"
   ]
  },
  {
   "cell_type": "code",
   "execution_count": 295,
   "metadata": {},
   "outputs": [
    {
     "data": {
      "text/plain": [
       "12-element Vector{String}:\n",
       " \"id\"\n",
       " \"whg_id\"\n",
       " \"title\"\n",
       " \"link_type\"\n",
       " \"link_identifier\"\n",
       " \"type_label\"\n",
       " \"type_identifier\"\n",
       " \"longitude\"\n",
       " \"latitude\"\n",
       " \"geonames_id\"\n",
       " \"place_type_id\"\n",
       " \"place_id\""
      ]
     },
     "execution_count": 295,
     "metadata": {},
     "output_type": "execute_result"
    }
   ],
   "source": [
    "names(df_place_u)"
   ]
  },
  {
   "cell_type": "code",
   "execution_count": 298,
   "metadata": {},
   "outputs": [
    {
     "data": {
      "text/plain": [
       "226"
      ]
     },
     "execution_count": 298,
     "metadata": {},
     "output_type": "execute_result"
    }
   ],
   "source": [
    "find_bp(df_bp_whg, df_place_u)"
   ]
  },
  {
   "cell_type": "markdown",
   "metadata": {},
   "source": [
    "begin info"
   ]
  },
  {
   "cell_type": "code",
   "execution_count": 299,
   "metadata": {},
   "outputs": [],
   "source": [
    "df_new_name = subset(df_bp_whg, [:place_name_in, :name_whg] => ByRow(!isequal));"
   ]
  },
  {
   "cell_type": "code",
   "execution_count": 300,
   "metadata": {},
   "outputs": [
    {
     "data": {
      "text/plain": [
       "(3270, 12)"
      ]
     },
     "execution_count": 300,
     "metadata": {},
     "output_type": "execute_result"
    }
   ],
   "source": [
    "size(df_new_name)"
   ]
  },
  {
   "cell_type": "code",
   "execution_count": 301,
   "metadata": {},
   "outputs": [
    {
     "data": {
      "text/html": [
       "<div class=\"data-frame\"><p>5 rows × 4 columns</p><table class=\"data-frame\"><thead><tr><th></th><th>priest_id_in_source</th><th>brom_id</th><th>place_name_in</th><th>name_whg</th></tr><tr><th></th><th title=\"String\">String</th><th title=\"Union{Missing, String}\">String?</th><th title=\"Union{Missing, String}\">String?</th><th title=\"Union{Missing, String}\">String?</th></tr></thead><tbody><tr><th>1</th><td>id_1513_4_44</td><td>brom_608</td><td>Ghoer</td><td>Goer</td></tr><tr><th>2</th><td>id_1514_1_12</td><td>brom_608</td><td>Ghoer</td><td>Goer</td></tr><tr><th>3</th><td>id_1514_3_36</td><td>brom_608</td><td>Ghoer</td><td>Goer</td></tr><tr><th>4</th><td>id_1516_3_101</td><td>brom_608</td><td>Ghoer</td><td>Goer</td></tr><tr><th>5</th><td>id_1517_3_57</td><td>brom_608</td><td>Ghoer</td><td>Goer</td></tr></tbody></table></div>"
      ],
      "text/latex": [
       "\\begin{tabular}{r|cccc}\n",
       "\t& priest\\_id\\_in\\_source & brom\\_id & place\\_name\\_in & name\\_whg\\\\\n",
       "\t\\hline\n",
       "\t& String & String? & String? & String?\\\\\n",
       "\t\\hline\n",
       "\t1 & id\\_1513\\_4\\_44 & brom\\_608 & Ghoer & Goer \\\\\n",
       "\t2 & id\\_1514\\_1\\_12 & brom\\_608 & Ghoer & Goer \\\\\n",
       "\t3 & id\\_1514\\_3\\_36 & brom\\_608 & Ghoer & Goer \\\\\n",
       "\t4 & id\\_1516\\_3\\_101 & brom\\_608 & Ghoer & Goer \\\\\n",
       "\t5 & id\\_1517\\_3\\_57 & brom\\_608 & Ghoer & Goer \\\\\n",
       "\\end{tabular}\n"
      ],
      "text/plain": [
       "\u001b[1m5×4 DataFrame\u001b[0m\n",
       "\u001b[1m Row \u001b[0m│\u001b[1m priest_id_in_source \u001b[0m\u001b[1m brom_id  \u001b[0m\u001b[1m place_name_in \u001b[0m\u001b[1m name_whg \u001b[0m\n",
       "\u001b[1m     \u001b[0m│\u001b[90m String              \u001b[0m\u001b[90m String?  \u001b[0m\u001b[90m String?       \u001b[0m\u001b[90m String?  \u001b[0m\n",
       "─────┼────────────────────────────────────────────────────────\n",
       "   1 │ id_1513_4_44         brom_608  Ghoer          Goer\n",
       "   2 │ id_1514_1_12         brom_608  Ghoer          Goer\n",
       "   3 │ id_1514_3_36         brom_608  Ghoer          Goer\n",
       "   4 │ id_1516_3_101        brom_608  Ghoer          Goer\n",
       "   5 │ id_1517_3_57         brom_608  Ghoer          Goer"
      ]
     },
     "execution_count": 301,
     "metadata": {},
     "output_type": "execute_result"
    }
   ],
   "source": [
    "df_new_name[301:305, [:priest_id_in_source, :brom_id, :place_name_in, :name_whg]]"
   ]
  },
  {
   "cell_type": "markdown",
   "metadata": {},
   "source": [
    "end info"
   ]
  },
  {
   "cell_type": "markdown",
   "metadata": {},
   "source": [
    "Verknüpfe `item.id` als `person_id`"
   ]
  },
  {
   "cell_type": "code",
   "execution_count": 302,
   "metadata": {},
   "outputs": [],
   "source": [
    "sql = \"SELECT id as person_id, id_in_source FROM item WHERE item_type_id = 10\";\n",
    "df_idx = Wds.sql_df(sql);"
   ]
  },
  {
   "cell_type": "code",
   "execution_count": 304,
   "metadata": {},
   "outputs": [],
   "source": [
    "df_bp_whg = leftjoin(df_bp_whg, df_idx, on = :priest_id_in_source => :id_in_source);"
   ]
  },
  {
   "cell_type": "code",
   "execution_count": 305,
   "metadata": {},
   "outputs": [
    {
     "data": {
      "text/plain": [
       "(5255, 13)"
      ]
     },
     "execution_count": 305,
     "metadata": {},
     "output_type": "execute_result"
    }
   ],
   "source": [
    "size(df_bp_whg)"
   ]
  },
  {
   "cell_type": "code",
   "execution_count": 311,
   "metadata": {},
   "outputs": [
    {
     "data": {
      "text/plain": [
       "(0, 64)"
      ]
     },
     "execution_count": 311,
     "metadata": {},
     "output_type": "execute_result"
    }
   ],
   "source": [
    "count(ismissing, df_bp_whg.person_id), count(ismissing, df_bp_whg.place_name_in)"
   ]
  },
  {
   "cell_type": "code",
   "execution_count": 313,
   "metadata": {},
   "outputs": [],
   "source": [
    "dropmissing!(df_bp_whg, :place_name_in);"
   ]
  },
  {
   "cell_type": "code",
   "execution_count": 307,
   "metadata": {},
   "outputs": [
    {
     "data": {
      "text/plain": [
       "13-element Vector{String}:\n",
       " \"WKT_GEOM\"\n",
       " \"priest_id_in_source\"\n",
       " \"givenname\"\n",
       " \"patronym\"\n",
       " \"place_name_in\"\n",
       " \"place_weight\"\n",
       " \"longitude_bp\"\n",
       " \"latitude_bp\"\n",
       " \"brom_id\"\n",
       " \"whg_id\"\n",
       " \"name_whg\"\n",
       " \"place_id\"\n",
       " \"person_id\""
      ]
     },
     "execution_count": 307,
     "metadata": {},
     "output_type": "execute_result"
    }
   ],
   "source": [
    "names(df_bp_whg)"
   ]
  },
  {
   "cell_type": "code",
   "execution_count": 314,
   "metadata": {},
   "outputs": [
    {
     "data": {
      "text/plain": [
       "4-element Vector{Pair{Symbol, Symbol}}:\n",
       "     :person_id => :person_id\n",
       " :place_name_in => :place_name\n",
       "      :place_id => :place_id\n",
       "  :place_weight => :weight"
      ]
     },
     "execution_count": 314,
     "metadata": {},
     "output_type": "execute_result"
    }
   ],
   "source": [
    "columns = [\n",
    "    :person_id => :person_id,\n",
    "    :place_name_in => :place_name,\n",
    "    :place_id => :place_id,\n",
    "    :place_weight => :weight,\n",
    "]"
   ]
  },
  {
   "cell_type": "code",
   "execution_count": 315,
   "metadata": {},
   "outputs": [
    {
     "name": "stderr",
     "output_type": "stream",
     "text": [
      "┌ Info: row \n",
      "│   i = 2000\n",
      "└ @ WiagDataSetup C:\\Users\\georg\\Documents\\projekte\\WiagDataSetup.jl\\src\\WiagDataSetup.jl:1603\n",
      "┌ Info: row \n",
      "│   i = 4000\n",
      "└ @ WiagDataSetup C:\\Users\\georg\\Documents\\projekte\\WiagDataSetup.jl\\src\\WiagDataSetup.jl:1603\n"
     ]
    },
    {
     "data": {
      "text/plain": [
       "5191"
      ]
     },
     "execution_count": 315,
     "metadata": {},
     "output_type": "execute_result"
    }
   ],
   "source": [
    "table_name = \"person_birthplace\";\n",
    "file_name = joinpath(out_path, \"$(table_name).sql\");\n",
    "Wds.insert_sql(file_name, table_name, select(df_bp_whg, columns))"
   ]
  },
  {
   "cell_type": "code",
   "execution_count": null,
   "metadata": {},
   "outputs": [],
   "source": []
  }
 ],
 "metadata": {
  "kernelspec": {
   "display_name": "Julia 1.7.0",
   "language": "julia",
   "name": "julia-1.7"
  },
  "language_info": {
   "file_extension": ".jl",
   "mimetype": "application/julia",
   "name": "julia",
   "version": "1.7.0"
  }
 },
 "nbformat": 4,
 "nbformat_minor": 4
}
