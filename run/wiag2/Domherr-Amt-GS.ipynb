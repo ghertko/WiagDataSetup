{
 "cells": [
  {
   "cell_type": "markdown",
   "metadata": {},
   "source": [
    "# Wissensaggregator Mittelalter und frühe Neuzeit\n",
    "WIAGweb2\n",
    "\n",
    "## Daten für Domherren aus dem Digitalen Personenregister einlesen\n",
    "\n",
    "Übertrage Daten aus der GS-online. Die Daten werden aus der produktiven Datenbank auf eine lokale Datenbank eingelesen: `gso`\n",
    "\n",
    "[Amtsperiode](#Amtsperiode)  \n",
    "[Zeitspanne der Person](#Zeitspanne-der-Person)  \n",
    "[Sortierung der Person nach Amt](#Sortierung-der-Person-nach-Amt) (hinfällig?)"
   ]
  },
  {
   "cell_type": "markdown",
   "metadata": {},
   "source": [
    "Vorspann: Pakete laden; mit der Datenbank verbinden"
   ]
  },
  {
   "cell_type": "code",
   "execution_count": 1,
   "metadata": {},
   "outputs": [
    {
     "data": {
      "text/plain": [
       "\"../..\""
      ]
     },
     "execution_count": 1,
     "metadata": {},
     "output_type": "execute_result"
    }
   ],
   "source": [
    "wds_path=\"../..\""
   ]
  },
  {
   "cell_type": "code",
   "execution_count": 2,
   "metadata": {},
   "outputs": [],
   "source": [
    "cd(wds_path)"
   ]
  },
  {
   "cell_type": "code",
   "execution_count": 3,
   "metadata": {},
   "outputs": [],
   "source": [
    "using Pkg"
   ]
  },
  {
   "cell_type": "code",
   "execution_count": 4,
   "metadata": {},
   "outputs": [
    {
     "name": "stderr",
     "output_type": "stream",
     "text": [
      "\u001b[32m\u001b[1m  Activating\u001b[22m\u001b[39m project at `C:\\Users\\georg\\Documents\\projekte\\WiagDataSetup.jl`\n"
     ]
    }
   ],
   "source": [
    "Pkg.activate(\".\")"
   ]
  },
  {
   "cell_type": "code",
   "execution_count": 5,
   "metadata": {},
   "outputs": [],
   "source": [
    "using Revise, MySQL"
   ]
  },
  {
   "cell_type": "code",
   "execution_count": 6,
   "metadata": {},
   "outputs": [],
   "source": [
    "using WiagDataSetup"
   ]
  },
  {
   "cell_type": "code",
   "execution_count": 7,
   "metadata": {},
   "outputs": [],
   "source": [
    "using MySQL, DataFrames, CSV"
   ]
  },
  {
   "cell_type": "code",
   "execution_count": 8,
   "metadata": {},
   "outputs": [
    {
     "data": {
      "text/plain": [
       "WiagDataSetup"
      ]
     },
     "execution_count": 8,
     "metadata": {},
     "output_type": "execute_result"
    }
   ],
   "source": [
    "Wds = WiagDataSetup"
   ]
  },
  {
   "cell_type": "code",
   "execution_count": 9,
   "metadata": {},
   "outputs": [
    {
     "name": "stdout",
     "output_type": "stream",
     "text": [
      "Passwort für User georg: ········\n"
     ]
    },
    {
     "data": {
      "text/plain": [
       "MySQL.Connection(host=\"127.0.0.1\", user=\"georg\", port=\"3306\", db=\"wiag_in\")"
      ]
     },
     "execution_count": 9,
     "metadata": {},
     "output_type": "execute_result"
    }
   ],
   "source": [
    "Wds.setDBWIAG(user=\"georg\", db=\"wiag_in\")"
   ]
  },
  {
   "cell_type": "code",
   "execution_count": 10,
   "metadata": {},
   "outputs": [
    {
     "data": {
      "text/plain": [
       "6"
      ]
     },
     "execution_count": 10,
     "metadata": {},
     "output_type": "execute_result"
    }
   ],
   "source": [
    "item_type_id = 6"
   ]
  },
  {
   "cell_type": "code",
   "execution_count": 11,
   "metadata": {},
   "outputs": [
    {
     "data": {
      "text/plain": [
       "\"C:\\\\Users\\\\georg\\\\Documents\\\\projekte-doc\\\\WIAGweb2\\\\data_sql\""
      ]
     },
     "execution_count": 11,
     "metadata": {},
     "output_type": "execute_result"
    }
   ],
   "source": [
    "out_path = \"C:\\\\Users\\\\georg\\\\Documents\\\\projekte-doc\\\\WIAGweb2\\\\data_sql\""
   ]
  },
  {
   "cell_type": "markdown",
   "metadata": {},
   "source": [
    "Evtl. neue Quelle eintragen!\n",
    "\n",
    "| Datum | Quelle|\n",
    "|:---|---|\n",
    "|*2022-02-25*|`gso_in_202202`|\n",
    "|*2022-05-12*|`gso_in_202205`| \n",
    "|*2022-07-26*|`gso_in_202207`| \n",
    "|*2022-10-15*|`gso_in_202207`|\n",
    "|*2022-10-19*|`gso_in_202210`|\n",
    "|*2022-11-03*|`gso_in_202210`|\n",
    "|*2022-11-23*|`gso_in_202211`|"
   ]
  },
  {
   "cell_type": "code",
   "execution_count": 12,
   "metadata": {},
   "outputs": [
    {
     "data": {
      "text/plain": [
       "\"gso_in_202211\""
      ]
     },
     "execution_count": 12,
     "metadata": {},
     "output_type": "execute_result"
    }
   ],
   "source": [
    "gs_db = \"gso_in_202211\""
   ]
  },
  {
   "cell_type": "markdown",
   "metadata": {},
   "source": [
    "Die Ämter in Tabelle `role` werden im Notebook \"Strukturdaten\" eingelesen."
   ]
  },
  {
   "cell_type": "markdown",
   "metadata": {},
   "source": [
    "## Amtsperiode"
   ]
  },
  {
   "cell_type": "code",
   "execution_count": 13,
   "metadata": {},
   "outputs": [],
   "source": [
    "table_name = gs_db * \".offices\";\n",
    "sql = \"SELECT * FROM $(table_name)\n",
    "WHERE deleted = 0\";\n",
    "df_pr = Wds.sql_df(sql);"
   ]
  },
  {
   "cell_type": "code",
   "execution_count": 14,
   "metadata": {},
   "outputs": [],
   "source": [
    "Wds.clean_up!(df_pr);"
   ]
  },
  {
   "cell_type": "code",
   "execution_count": 15,
   "metadata": {},
   "outputs": [
    {
     "data": {
      "text/plain": [
       "(73463, 22)"
      ]
     },
     "execution_count": 15,
     "metadata": {},
     "output_type": "execute_result"
    }
   ],
   "source": [
    "size(df_pr)"
   ]
  },
  {
   "cell_type": "markdown",
   "metadata": {},
   "source": [
    "### Domherren zuordnen"
   ]
  },
  {
   "cell_type": "code",
   "execution_count": 16,
   "metadata": {},
   "outputs": [],
   "source": [
    "transform!(df_pr, :person_id => ByRow(string) => :id_in_source);"
   ]
  },
  {
   "cell_type": "code",
   "execution_count": 17,
   "metadata": {},
   "outputs": [],
   "source": [
    "table_name = \"item\";\n",
    "sql = \"SELECT id AS item_id, id_in_source FROM $(table_name) WHERE item_type_id = $(item_type_id)\";\n",
    "df_idx = Wds.sql_df(sql);"
   ]
  },
  {
   "cell_type": "code",
   "execution_count": 18,
   "metadata": {},
   "outputs": [
    {
     "data": {
      "text/plain": [
       "(9346,)"
      ]
     },
     "execution_count": 18,
     "metadata": {},
     "output_type": "execute_result"
    }
   ],
   "source": [
    "size(unique(df_idx.item_id))"
   ]
  },
  {
   "cell_type": "code",
   "execution_count": 19,
   "metadata": {},
   "outputs": [],
   "source": [
    "df_prp = innerjoin(df_pr, df_idx, on = :id_in_source);"
   ]
  },
  {
   "cell_type": "code",
   "execution_count": 20,
   "metadata": {},
   "outputs": [
    {
     "data": {
      "text/plain": [
       "9319"
      ]
     },
     "execution_count": 20,
     "metadata": {},
     "output_type": "execute_result"
    }
   ],
   "source": [
    "length(unique(df_prp.item_id))"
   ]
  },
  {
   "cell_type": "code",
   "execution_count": 21,
   "metadata": {},
   "outputs": [
    {
     "data": {
      "text/plain": [
       "((16527, 24), (9319,))"
      ]
     },
     "execution_count": 21,
     "metadata": {},
     "output_type": "execute_result"
    }
   ],
   "source": [
    "size(df_prp), size(unique(df_prp.person_id))"
   ]
  },
  {
   "cell_type": "code",
   "execution_count": 22,
   "metadata": {},
   "outputs": [
    {
     "data": {
      "text/plain": [
       "27-element Vector{Int32}:\n",
       " 693128\n",
       " 693862\n",
       " 695499\n",
       " 695656\n",
       " 695658\n",
       " 695716\n",
       " 695771\n",
       " 695772\n",
       " 695982\n",
       " 696030\n",
       " 696110\n",
       " 696151\n",
       " 696186\n",
       "      ⋮\n",
       " 696256\n",
       " 696285\n",
       " 696301\n",
       " 696396\n",
       " 697127\n",
       " 697189\n",
       " 697200\n",
       " 697204\n",
       " 697282\n",
       " 697307\n",
       " 697308\n",
       " 699102"
      ]
     },
     "execution_count": 22,
     "metadata": {},
     "output_type": "execute_result"
    }
   ],
   "source": [
    "person_id_mg_oc = setdiff(df_idx.item_id, df_prp.item_id)"
   ]
  },
  {
   "cell_type": "code",
   "execution_count": 23,
   "metadata": {},
   "outputs": [
    {
     "data": {
      "text/plain": [
       "\"(683782, 684516, 686153, 686310, 686312, 686370, 686425, 686426, 686636, 686684, 686764, 686805, 686840, 686885, 686893, 686910, 686939, 686955, 687050, 687781, 687843, 687854, 687858, 687936, 687961, 687962, 689756)\""
      ]
     },
     "execution_count": 23,
     "metadata": {},
     "output_type": "execute_result"
    }
   ],
   "source": [
    "str_mg = \"(\" * join(person_id_mg_oc, \", \") * \")\""
   ]
  },
  {
   "cell_type": "markdown",
   "metadata": {},
   "source": [
    "Einige Domherren sind ohne Amt. Das ist möglich, weil Domherren ergänzt werden, die referenziert werden von der Domherrendatenbank unabhängig von einem Amt  \n",
    "\n",
    "| Datum | Domherren |\n",
    "| --- | --- |\n",
    "| 2022-03-10 | 14 |\n",
    "| 2022-04-28 | 17 |\n",
    "| 2022-05-12 | 20 |\n",
    "| 2022-07-26 | 20 |\n",
    "| 2022-10-15 | 23 |\n",
    "| 2022-10-19 | 18 |\n",
    "| 2011-11-23 | 27 |"
   ]
  },
  {
   "cell_type": "markdown",
   "metadata": {},
   "source": [
    "### Rollen/Ämter zuordnen"
   ]
  },
  {
   "cell_type": "code",
   "execution_count": 23,
   "metadata": {},
   "outputs": [],
   "source": [
    "table_name = \"role\"\n",
    "sql = \"SELECT name as role_name, role.id as role_id\n",
    "FROM $(table_name)\"\n",
    "df_role = Wds.sql_df(sql);"
   ]
  },
  {
   "cell_type": "code",
   "execution_count": 24,
   "metadata": {},
   "outputs": [],
   "source": [
    "df_prp = leftjoin(df_prp, df_role, on = :bezeichnung => :role_name, matchmissing = :notequal);"
   ]
  },
  {
   "cell_type": "code",
   "execution_count": 25,
   "metadata": {},
   "outputs": [],
   "source": [
    "df_mg_role_id = subset(df_prp, :role_id => ByRow(ismissing));"
   ]
  },
  {
   "cell_type": "code",
   "execution_count": 26,
   "metadata": {},
   "outputs": [
    {
     "data": {
      "text/plain": [
       "(16527, 1274)"
      ]
     },
     "execution_count": 26,
     "metadata": {},
     "output_type": "execute_result"
    }
   ],
   "source": [
    "size(df_prp, 1), size(df_mg_role_id, 1)"
   ]
  },
  {
   "cell_type": "markdown",
   "metadata": {},
   "source": [
    "*2022-01-20* Es gibt noch kein Mapping von Ämtern auf normierte Ämter. Die Suche der Webanwendung berücksichtigt aber auch die ursprünglichen Bezeichnungen (`person_role.role_name`)."
   ]
  },
  {
   "cell_type": "markdown",
   "metadata": {},
   "source": [
    "### Bistümer zuordnen"
   ]
  },
  {
   "cell_type": "code",
   "execution_count": 27,
   "metadata": {},
   "outputs": [],
   "source": [
    "sql = \"SELECT id AS diocese_id, name AS diocese_name FROM diocese\"\n",
    "df_dioc = Wds.sql_df(sql);"
   ]
  },
  {
   "cell_type": "code",
   "execution_count": 28,
   "metadata": {},
   "outputs": [],
   "source": [
    "df_prp = leftjoin(df_prp, df_dioc, on = :dioezese => :diocese_name, matchmissing = :notequal);"
   ]
  },
  {
   "cell_type": "markdown",
   "metadata": {},
   "source": [
    "### Instutionen zuordnen\n",
    "Klöster, Domstifte"
   ]
  },
  {
   "cell_type": "markdown",
   "metadata": {},
   "source": [
    "`klosterid` entspricht `institution.id_gsn`"
   ]
  },
  {
   "cell_type": "code",
   "execution_count": 29,
   "metadata": {},
   "outputs": [],
   "source": [
    "sql = \"SELECT id AS institution_id, name as institution_name, id_gsn FROM institution\"\n",
    "df_inst = Wds.sql_df(sql);"
   ]
  },
  {
   "cell_type": "code",
   "execution_count": 30,
   "metadata": {},
   "outputs": [
    {
     "data": {
      "text/plain": [
       "3-element Vector{String}:\n",
       " \"institution_id\"\n",
       " \"institution_name\"\n",
       " \"id_gsn\""
      ]
     },
     "execution_count": 30,
     "metadata": {},
     "output_type": "execute_result"
    }
   ],
   "source": [
    "names(df_inst)"
   ]
  },
  {
   "cell_type": "code",
   "execution_count": 31,
   "metadata": {},
   "outputs": [
    {
     "data": {
      "text/html": [
       "<div><div style = \"float: left;\"><span>6×3 DataFrame</span></div><div style = \"clear: both;\"></div></div><div class = \"data-frame\" style = \"overflow-x: scroll;\"><table class = \"data-frame\" style = \"margin-bottom: 6px;\"><thead><tr class = \"header\"><th class = \"rowNumber\" style = \"font-weight: bold; text-align: right;\">Row</th><th style = \"text-align: left;\">bezeichnung</th><th style = \"text-align: left;\">klosterid</th><th style = \"text-align: left;\">institution</th></tr><tr class = \"subheader headerLastRow\"><th class = \"rowNumber\" style = \"font-weight: bold; text-align: right;\"></th><th title = \"Union{Missing, String}\" style = \"text-align: left;\">String?</th><th title = \"Union{Missing, String}\" style = \"text-align: left;\">String?</th><th title = \"Union{Missing, String}\" style = \"text-align: left;\">String?</th></tr></thead><tbody><tr><td class = \"rowNumber\" style = \"font-weight: bold; text-align: right;\">1</td><td style = \"text-align: left;\">Domherr</td><td style = \"text-align: left;\">832</td><td style = \"text-align: left;\">Domstift Hildesheim</td></tr><tr><td class = \"rowNumber\" style = \"font-weight: bold; text-align: right;\">2</td><td style = \"text-align: left;\">Domherr</td><td style = \"text-align: left;\">832</td><td style = \"text-align: left;\">Domstift Hildesheim</td></tr><tr><td class = \"rowNumber\" style = \"font-weight: bold; text-align: right;\">3</td><td style = \"text-align: left;\">Domherr</td><td style = \"text-align: left;\">832</td><td style = \"text-align: left;\">Domstift Hildesheim</td></tr><tr><td class = \"rowNumber\" style = \"font-weight: bold; text-align: right;\">4</td><td style = \"text-align: left;\">Domherr</td><td style = \"text-align: left;\">832</td><td style = \"text-align: left;\">Domstift Hildesheim</td></tr><tr><td class = \"rowNumber\" style = \"font-weight: bold; text-align: right;\">5</td><td style = \"text-align: left;\">Domherr</td><td style = \"text-align: left;\">832</td><td style = \"text-align: left;\">Domstift Hildesheim</td></tr><tr><td class = \"rowNumber\" style = \"font-weight: bold; text-align: right;\">6</td><td style = \"text-align: left;\">Domherr</td><td style = \"text-align: left;\">832</td><td style = \"text-align: left;\">Domstift Hildesheim</td></tr></tbody></table></div>"
      ],
      "text/latex": [
       "\\begin{tabular}{r|ccc}\n",
       "\t& bezeichnung & klosterid & institution\\\\\n",
       "\t\\hline\n",
       "\t& String? & String? & String?\\\\\n",
       "\t\\hline\n",
       "\t1 & Domherr & 832 & Domstift Hildesheim \\\\\n",
       "\t2 & Domherr & 832 & Domstift Hildesheim \\\\\n",
       "\t3 & Domherr & 832 & Domstift Hildesheim \\\\\n",
       "\t4 & Domherr & 832 & Domstift Hildesheim \\\\\n",
       "\t5 & Domherr & 832 & Domstift Hildesheim \\\\\n",
       "\t6 & Domherr & 832 & Domstift Hildesheim \\\\\n",
       "\\end{tabular}\n"
      ],
      "text/plain": [
       "\u001b[1m6×3 DataFrame\u001b[0m\n",
       "\u001b[1m Row \u001b[0m│\u001b[1m bezeichnung \u001b[0m\u001b[1m klosterid \u001b[0m\u001b[1m institution         \u001b[0m\n",
       "     │\u001b[90m String?     \u001b[0m\u001b[90m String?   \u001b[0m\u001b[90m String?             \u001b[0m\n",
       "─────┼─────────────────────────────────────────────\n",
       "   1 │ Domherr      832        Domstift Hildesheim\n",
       "   2 │ Domherr      832        Domstift Hildesheim\n",
       "   3 │ Domherr      832        Domstift Hildesheim\n",
       "   4 │ Domherr      832        Domstift Hildesheim\n",
       "   5 │ Domherr      832        Domstift Hildesheim\n",
       "   6 │ Domherr      832        Domstift Hildesheim"
      ]
     },
     "execution_count": 31,
     "metadata": {},
     "output_type": "execute_result"
    }
   ],
   "source": [
    "df_prp[100:105, [:bezeichnung, :klosterid, :institution]]"
   ]
  },
  {
   "cell_type": "code",
   "execution_count": 32,
   "metadata": {},
   "outputs": [],
   "source": [
    "int_or_missing(x) = ismissing(x) ? missing : parse(Int, x);\n",
    "transform!(df_prp, :klosterid => ByRow(int_or_missing) => :klosterid);"
   ]
  },
  {
   "cell_type": "code",
   "execution_count": 33,
   "metadata": {},
   "outputs": [],
   "source": [
    "df_prp = leftjoin(df_prp, df_inst, on = :klosterid => :id_gsn, matchmissing = :notequal);"
   ]
  },
  {
   "cell_type": "code",
   "execution_count": 34,
   "metadata": {},
   "outputs": [
    {
     "data": {
      "text/html": [
       "<div><div style = \"float: left;\"><span>6×4 DataFrame</span></div><div style = \"clear: both;\"></div></div><div class = \"data-frame\" style = \"overflow-x: scroll;\"><table class = \"data-frame\" style = \"margin-bottom: 6px;\"><thead><tr class = \"header\"><th class = \"rowNumber\" style = \"font-weight: bold; text-align: right;\">Row</th><th style = \"text-align: left;\">bezeichnung</th><th style = \"text-align: left;\">klosterid</th><th style = \"text-align: left;\">institution</th><th style = \"text-align: left;\">institution_id</th></tr><tr class = \"subheader headerLastRow\"><th class = \"rowNumber\" style = \"font-weight: bold; text-align: right;\"></th><th title = \"Union{Missing, String}\" style = \"text-align: left;\">String?</th><th title = \"Union{Missing, Int64}\" style = \"text-align: left;\">Int64?</th><th title = \"Union{Missing, String}\" style = \"text-align: left;\">String?</th><th title = \"Union{Missing, Int32}\" style = \"text-align: left;\">Int32?</th></tr></thead><tbody><tr><td class = \"rowNumber\" style = \"font-weight: bold; text-align: right;\">1</td><td style = \"text-align: left;\">Domherr</td><td style = \"text-align: right;\">2066</td><td style = \"text-align: left;\">Domstift Schwerin</td><td style = \"text-align: right;\">80300</td></tr><tr><td class = \"rowNumber\" style = \"font-weight: bold; text-align: right;\">2</td><td style = \"text-align: left;\">Domherr</td><td style = \"text-align: right;\">832</td><td style = \"text-align: left;\">Domstift Hildesheim</td><td style = \"text-align: right;\">80025</td></tr><tr><td class = \"rowNumber\" style = \"font-weight: bold; text-align: right;\">3</td><td style = \"text-align: left;\">Domvikar</td><td style = \"text-align: right;\">803</td><td style = \"text-align: left;\">Domstift Osnabrück</td><td style = \"text-align: right;\">79983</td></tr><tr><td class = \"rowNumber\" style = \"font-weight: bold; text-align: right;\">4</td><td style = \"text-align: left;\">Domvikar</td><td style = \"text-align: right;\">628</td><td style = \"text-align: left;\">Domstift Münster</td><td style = \"text-align: right;\">79825</td></tr><tr><td class = \"rowNumber\" style = \"font-weight: bold; text-align: right;\">5</td><td style = \"text-align: left;\">Kanoniker</td><td style = \"text-align: right;\">175</td><td style = \"text-align: left;\">Stift St. Nikolaus</td><td style = \"text-align: right;\">79532</td></tr><tr><td class = \"rowNumber\" style = \"font-weight: bold; text-align: right;\">6</td><td style = \"text-align: left;\">Kanoniker</td><td style = \"text-align: right;\">175</td><td style = \"text-align: left;\">Stift St. Nikolaus</td><td style = \"text-align: right;\">79532</td></tr></tbody></table></div>"
      ],
      "text/latex": [
       "\\begin{tabular}{r|cccc}\n",
       "\t& bezeichnung & klosterid & institution & institution\\_id\\\\\n",
       "\t\\hline\n",
       "\t& String? & Int64? & String? & Int32?\\\\\n",
       "\t\\hline\n",
       "\t1 & Domherr & 2066 & Domstift Schwerin & 80300 \\\\\n",
       "\t2 & Domherr & 832 & Domstift Hildesheim & 80025 \\\\\n",
       "\t3 & Domvikar & 803 & Domstift Osnabrück & 79983 \\\\\n",
       "\t4 & Domvikar & 628 & Domstift Münster & 79825 \\\\\n",
       "\t5 & Kanoniker & 175 & Stift St. Nikolaus & 79532 \\\\\n",
       "\t6 & Kanoniker & 175 & Stift St. Nikolaus & 79532 \\\\\n",
       "\\end{tabular}\n"
      ],
      "text/plain": [
       "\u001b[1m6×4 DataFrame\u001b[0m\n",
       "\u001b[1m Row \u001b[0m│\u001b[1m bezeichnung \u001b[0m\u001b[1m klosterid \u001b[0m\u001b[1m institution         \u001b[0m\u001b[1m institution_id \u001b[0m\n",
       "     │\u001b[90m String?     \u001b[0m\u001b[90m Int64?    \u001b[0m\u001b[90m String?             \u001b[0m\u001b[90m Int32?         \u001b[0m\n",
       "─────┼─────────────────────────────────────────────────────────────\n",
       "   1 │ Domherr           2066  Domstift Schwerin             80300\n",
       "   2 │ Domherr            832  Domstift Hildesheim           80025\n",
       "   3 │ Domvikar           803  Domstift Osnabrück            79983\n",
       "   4 │ Domvikar           628  Domstift Münster              79825\n",
       "   5 │ Kanoniker          175  Stift St. Nikolaus            79532\n",
       "   6 │ Kanoniker          175  Stift St. Nikolaus            79532"
      ]
     },
     "execution_count": 34,
     "metadata": {},
     "output_type": "execute_result"
    }
   ],
   "source": [
    "df_prp[100:105, [:bezeichnung, :klosterid, :institution, :institution_id]]"
   ]
  },
  {
   "cell_type": "markdown",
   "metadata": {},
   "source": [
    "### Numerische Daten eintragen"
   ]
  },
  {
   "cell_type": "code",
   "execution_count": 35,
   "metadata": {},
   "outputs": [],
   "source": [
    "num_date_begin(s_date) = Wds.parsemaybe(s_date, :lower)\n",
    "transform!(df_prp, :von => ByRow(num_date_begin) => :num_date_begin);"
   ]
  },
  {
   "cell_type": "code",
   "execution_count": 36,
   "metadata": {},
   "outputs": [],
   "source": [
    "num_date_end(s_date) = Wds.parsemaybe(s_date, :upper);\n",
    "transform!(df_prp, :bis => ByRow(num_date_end) => :num_date_end);"
   ]
  },
  {
   "cell_type": "code",
   "execution_count": 37,
   "metadata": {},
   "outputs": [],
   "source": [
    "transform!(df_prp, :bis => ByRow(Wds.parse_year_sort) => :date_sort_key);"
   ]
  },
  {
   "cell_type": "code",
   "execution_count": 38,
   "metadata": {},
   "outputs": [
    {
     "data": {
      "text/plain": [
       "update_col (generic function with 1 method)"
      ]
     },
     "execution_count": 38,
     "metadata": {},
     "output_type": "execute_result"
    }
   ],
   "source": [
    "function update_col(from, to)\n",
    "    cand = Wds.parse_year_sort(from)\n",
    "    if ismissing(to) || cand < to\n",
    "        return cand\n",
    "    else\n",
    "        return to\n",
    "    end\n",
    "end"
   ]
  },
  {
   "cell_type": "code",
   "execution_count": 39,
   "metadata": {},
   "outputs": [],
   "source": [
    "transform!(df_prp, [:von, :date_sort_key] => ByRow(update_col) => :date_sort_key);"
   ]
  },
  {
   "cell_type": "code",
   "execution_count": 40,
   "metadata": {},
   "outputs": [
    {
     "data": {
      "text/html": [
       "<div><div style = \"float: left;\"><span>8×7 DataFrame</span></div><div style = \"clear: both;\"></div></div><div class = \"data-frame\" style = \"overflow-x: scroll;\"><table class = \"data-frame\" style = \"margin-bottom: 6px;\"><thead><tr class = \"header\"><th class = \"rowNumber\" style = \"font-weight: bold; text-align: right;\">Row</th><th style = \"text-align: left;\">person_id</th><th style = \"text-align: left;\">bezeichnung</th><th style = \"text-align: left;\">von</th><th style = \"text-align: left;\">num_date_begin</th><th style = \"text-align: left;\">bis</th><th style = \"text-align: left;\">num_date_end</th><th style = \"text-align: left;\">date_sort_key</th></tr><tr class = \"subheader headerLastRow\"><th class = \"rowNumber\" style = \"font-weight: bold; text-align: right;\"></th><th title = \"Int32\" style = \"text-align: left;\">Int32</th><th title = \"Union{Missing, String}\" style = \"text-align: left;\">String?</th><th title = \"Union{Missing, String}\" style = \"text-align: left;\">String?</th><th title = \"Union{Missing, Int64}\" style = \"text-align: left;\">Int64?</th><th title = \"Union{Missing, String}\" style = \"text-align: left;\">String?</th><th title = \"Union{Missing, Int64}\" style = \"text-align: left;\">Int64?</th><th title = \"Int64\" style = \"text-align: left;\">Int64</th></tr></thead><tbody><tr><td class = \"rowNumber\" style = \"font-weight: bold; text-align: right;\">1</td><td style = \"text-align: right;\">282823</td><td style = \"text-align: left;\">Domvikar</td><td style = \"text-align: left;\">1387</td><td style = \"text-align: right;\">1387</td><td style = \"text-align: left;\">1421</td><td style = \"text-align: right;\">1421</td><td style = \"text-align: right;\">1387150</td></tr><tr><td class = \"rowNumber\" style = \"font-weight: bold; text-align: right;\">2</td><td style = \"text-align: right;\">282823</td><td style = \"text-align: left;\">Domherr</td><td style = \"text-align: left;\">1417</td><td style = \"text-align: right;\">1417</td><td style = \"text-align: left;\">1421</td><td style = \"text-align: right;\">1421</td><td style = \"text-align: right;\">1417150</td></tr><tr><td class = \"rowNumber\" style = \"font-weight: bold; text-align: right;\">3</td><td style = \"text-align: right;\">282827</td><td style = \"text-align: left;\">Kanoniker</td><td style = \"text-align: left;\">1473</td><td style = \"text-align: right;\">1473</td><td style = \"font-style: italic; text-align: left;\">missing</td><td style = \"font-style: italic; text-align: right;\">missing</td><td style = \"text-align: right;\">1473150</td></tr><tr><td class = \"rowNumber\" style = \"font-weight: bold; text-align: right;\">4</td><td style = \"text-align: right;\">282827</td><td style = \"text-align: left;\">Domvikar</td><td style = \"text-align: left;\">1464</td><td style = \"text-align: right;\">1464</td><td style = \"font-style: italic; text-align: left;\">missing</td><td style = \"font-style: italic; text-align: right;\">missing</td><td style = \"text-align: right;\">1464150</td></tr><tr><td class = \"rowNumber\" style = \"font-weight: bold; text-align: right;\">5</td><td style = \"text-align: right;\">223301</td><td style = \"text-align: left;\">Propst</td><td style = \"text-align: left;\">Anfang 13. Jahrhundert</td><td style = \"text-align: right;\">1201</td><td style = \"font-style: italic; text-align: left;\">missing</td><td style = \"font-style: italic; text-align: right;\">missing</td><td style = \"text-align: right;\">1200500</td></tr><tr><td class = \"rowNumber\" style = \"font-weight: bold; text-align: right;\">6</td><td style = \"text-align: right;\">223301</td><td style = \"text-align: left;\">Domherr</td><td style = \"text-align: left;\">Anfang 13. Jahrhundert</td><td style = \"text-align: right;\">1201</td><td style = \"font-style: italic; text-align: left;\">missing</td><td style = \"font-style: italic; text-align: right;\">missing</td><td style = \"text-align: right;\">1200500</td></tr><tr><td class = \"rowNumber\" style = \"font-weight: bold; text-align: right;\">7</td><td style = \"text-align: right;\">223525</td><td style = \"text-align: left;\">Propst</td><td style = \"text-align: left;\">1520</td><td style = \"text-align: right;\">1520</td><td style = \"text-align: left;\">1528</td><td style = \"text-align: right;\">1528</td><td style = \"text-align: right;\">1520150</td></tr><tr><td class = \"rowNumber\" style = \"font-weight: bold; text-align: right;\">8</td><td style = \"text-align: right;\">223525</td><td style = \"text-align: left;\">Domherr</td><td style = \"text-align: left;\">vor 1528</td><td style = \"text-align: right;\">1478</td><td style = \"font-style: italic; text-align: left;\">missing</td><td style = \"font-style: italic; text-align: right;\">missing</td><td style = \"text-align: right;\">1528100</td></tr></tbody></table></div>"
      ],
      "text/latex": [
       "\\begin{tabular}{r|ccccccc}\n",
       "\t& person\\_id & bezeichnung & von & num\\_date\\_begin & bis & num\\_date\\_end & \\\\\n",
       "\t\\hline\n",
       "\t& Int32 & String? & String? & Int64? & String? & Int64? & \\\\\n",
       "\t\\hline\n",
       "\t1 & 282823 & Domvikar & 1387 & 1387 & 1421 & 1421 & $\\dots$ \\\\\n",
       "\t2 & 282823 & Domherr & 1417 & 1417 & 1421 & 1421 & $\\dots$ \\\\\n",
       "\t3 & 282827 & Kanoniker & 1473 & 1473 & \\emph{missing} & \\emph{missing} & $\\dots$ \\\\\n",
       "\t4 & 282827 & Domvikar & 1464 & 1464 & \\emph{missing} & \\emph{missing} & $\\dots$ \\\\\n",
       "\t5 & 223301 & Propst & Anfang 13. Jahrhundert & 1201 & \\emph{missing} & \\emph{missing} & $\\dots$ \\\\\n",
       "\t6 & 223301 & Domherr & Anfang 13. Jahrhundert & 1201 & \\emph{missing} & \\emph{missing} & $\\dots$ \\\\\n",
       "\t7 & 223525 & Propst & 1520 & 1520 & 1528 & 1528 & $\\dots$ \\\\\n",
       "\t8 & 223525 & Domherr & vor 1528 & 1478 & \\emph{missing} & \\emph{missing} & $\\dots$ \\\\\n",
       "\\end{tabular}\n"
      ],
      "text/plain": [
       "\u001b[1m8×7 DataFrame\u001b[0m\n",
       "\u001b[1m Row \u001b[0m│\u001b[1m person_id \u001b[0m\u001b[1m bezeichnung \u001b[0m\u001b[1m von                    \u001b[0m\u001b[1m num_date_begin \u001b[0m\u001b[1m bis    \u001b[0m ⋯\n",
       "     │\u001b[90m Int32     \u001b[0m\u001b[90m String?     \u001b[0m\u001b[90m String?                \u001b[0m\u001b[90m Int64?         \u001b[0m\u001b[90m String?\u001b[0m ⋯\n",
       "─────┼──────────────────────────────────────────────────────────────────────────\n",
       "   1 │    282823  Domvikar     1387                              1387  1421    ⋯\n",
       "   2 │    282823  Domherr      1417                              1417  1421\n",
       "   3 │    282827  Kanoniker    1473                              1473 \u001b[90m missing\u001b[0m\n",
       "   4 │    282827  Domvikar     1464                              1464 \u001b[90m missing\u001b[0m\n",
       "   5 │    223301  Propst       Anfang 13. Jahrhundert            1201 \u001b[90m missing\u001b[0m ⋯\n",
       "   6 │    223301  Domherr      Anfang 13. Jahrhundert            1201 \u001b[90m missing\u001b[0m\n",
       "   7 │    223525  Propst       1520                              1520  1528\n",
       "   8 │    223525  Domherr      vor 1528                          1478 \u001b[90m missing\u001b[0m\n",
       "\u001b[36m                                                               2 columns omitted\u001b[0m"
      ]
     },
     "execution_count": 40,
     "metadata": {},
     "output_type": "execute_result"
    }
   ],
   "source": [
    "df_prp[560:567, [:person_id, :bezeichnung, :von, :num_date_begin, :bis, :num_date_end, :date_sort_key]]"
   ]
  },
  {
   "cell_type": "code",
   "execution_count": 42,
   "metadata": {},
   "outputs": [
    {
     "data": {
      "text/plain": [
       "16027"
      ]
     },
     "execution_count": 42,
     "metadata": {},
     "output_type": "execute_result"
    }
   ],
   "source": [
    "count(!ismissing, df_prp.num_date_begin)"
   ]
  },
  {
   "cell_type": "markdown",
   "metadata": {},
   "source": [
    "Orte zuordnen. Dann sind Daten redundant in der Datenbank, das erleichtert aber die Suche.  \n",
    "*2022-02-28* Verfolge die Idee zunächst nicht weiter, sondern frage die Orte in der Anwendung ab."
   ]
  },
  {
   "cell_type": "markdown",
   "metadata": {},
   "source": [
    "Einträge für diesen Item_Typ löschen"
   ]
  },
  {
   "cell_type": "code",
   "execution_count": 41,
   "metadata": {},
   "outputs": [
    {
     "data": {
      "text/plain": [
       "6"
      ]
     },
     "execution_count": 41,
     "metadata": {},
     "output_type": "execute_result"
    }
   ],
   "source": [
    "item_type_id"
   ]
  },
  {
   "cell_type": "code",
   "execution_count": 45,
   "metadata": {},
   "outputs": [
    {
     "data": {
      "text/plain": [
       "MySQL.TextCursor{true}(MySQL.Connection(host=\"127.0.0.1\", user=\"georg\", port=\"3306\", db=\"wiag_in\"), \"DELETE FROM person_role WHERE person_id IN \\n(SELECT id FROM item WHERE item_type_id = 6)\", 0, -1, 16527, MySQL.API.MYSQL_RES(Ptr{Nothing} @0x0000000000000000), Symbol[], Type[], Dict{Symbol, Int64}(), 0, 1, false)"
      ]
     },
     "execution_count": 45,
     "metadata": {},
     "output_type": "execute_result"
    }
   ],
   "source": [
    "table_name = \"person_role\"\n",
    "sql = \"DELETE FROM $(table_name) WHERE person_id IN \n",
    "(SELECT id FROM item WHERE item_type_id = $(item_type_id))\"\n",
    "DBInterface.execute(Wds.dbwiag, sql)"
   ]
  },
  {
   "cell_type": "markdown",
   "metadata": {},
   "source": [
    "Daten schreiben\n",
    "\n",
    "Schreibe für alle Bistümer - auch für die identifizierten - den Namen des Bistums in die Tabelle.  \n",
    "Schreibe für alle Ämter - auch für die identifizieren - die Bezeichnung in die Tabelle.  \n",
    "Schreibe für alle Institutionen - auch für die identifizieren - die Bezeichnung in die Tabelle.  "
   ]
  },
  {
   "cell_type": "code",
   "execution_count": 46,
   "metadata": {},
   "outputs": [
    {
     "data": {
      "text/plain": [
       "\"DELETE FROM person_role WHERE person_id IN \\n(SELECT id FROM item WHERE item_type_id = 6)\""
      ]
     },
     "execution_count": 46,
     "metadata": {},
     "output_type": "execute_result"
    }
   ],
   "source": [
    "sql"
   ]
  },
  {
   "cell_type": "code",
   "execution_count": 47,
   "metadata": {},
   "outputs": [],
   "source": [
    "columns = [\n",
    "    :dioezese => :diocese_name,\n",
    "    :von => :date_begin,\n",
    "    :bis => :date_end,\n",
    "    :anmerkung => :note,\n",
    "    :bezeichnung => :role_name,\n",
    "    :item_id => :person_id,\n",
    "    :diocese_id => :diocese_id,\n",
    "    :role_id => :role_id,\n",
    "    :institution_id => :institution_id,\n",
    "    :institution_name => :institution_name,    \n",
    "    :num_date_begin => :num_date_begin,\n",
    "    :num_date_end => :num_date_end,\n",
    "    :date_sort_key => :date_sort_key\n",
    "];"
   ]
  },
  {
   "cell_type": "code",
   "execution_count": 48,
   "metadata": {},
   "outputs": [
    {
     "name": "stderr",
     "output_type": "stream",
     "text": [
      "┌ Info: 10000\n",
      "└ @ WiagDataSetup C:\\Users\\Georg\\Documents\\projekte\\WiagDataSetup.jl\\src\\WiagDataSetup.jl:1193\n",
      "┌ Info: Rows inserted: 16527\n",
      "└ @ WiagDataSetup C:\\Users\\Georg\\Documents\\projekte\\WiagDataSetup.jl\\src\\WiagDataSetup.jl:1216\n"
     ]
    },
    {
     "data": {
      "text/plain": [
       "16527"
      ]
     },
     "execution_count": 48,
     "metadata": {},
     "output_type": "execute_result"
    }
   ],
   "source": [
    "table_name = \"person_role\"\n",
    "Wds.filltable!(table_name, select(df_prp, columns))"
   ]
  },
  {
   "cell_type": "markdown",
   "metadata": {},
   "source": [
    "## Zeitspanne der Person"
   ]
  },
  {
   "cell_type": "code",
   "execution_count": 49,
   "metadata": {},
   "outputs": [],
   "source": [
    "table_name = \"item\"\n",
    "sql = \"SELECT id, num_date_birth, num_date_death\n",
    "FROM person WHERE id in (SELECT id FROM $(table_name) WHERE item_type_id = $(item_type_id))\"\n",
    "df_date = Wds.sql_df(sql);"
   ]
  },
  {
   "cell_type": "code",
   "execution_count": 50,
   "metadata": {},
   "outputs": [
    {
     "data": {
      "text/plain": [
       "(9346, 3)"
      ]
     },
     "execution_count": 50,
     "metadata": {},
     "output_type": "execute_result"
    }
   ],
   "source": [
    "size(df_date)"
   ]
  },
  {
   "cell_type": "markdown",
   "metadata": {},
   "source": [
    "Zeitspanne der Ämter"
   ]
  },
  {
   "cell_type": "code",
   "execution_count": 51,
   "metadata": {},
   "outputs": [
    {
     "data": {
      "text/html": [
       "<p><b>GroupedDataFrame with 9148 groups based on key: item_id</b></p><div><div style = \"float: left;\"><span>First Group (1 row): item_id = 692220</span></div><div style = \"clear: both;\"></div></div><div class = \"data-frame\" style = \"overflow-x: scroll;\"><table class = \"data-frame\" style = \"margin-bottom: 6px;\"><thead><tr class = \"header\"><th class = \"rowNumber\" style = \"font-weight: bold; text-align: right;\">Row</th><th style = \"text-align: left;\">item_id</th><th style = \"text-align: left;\">num_date_begin</th></tr><tr class = \"subheader headerLastRow\"><th class = \"rowNumber\" style = \"font-weight: bold; text-align: right;\"></th><th title = \"Int32\" style = \"text-align: left;\">Int32</th><th title = \"Int64\" style = \"text-align: left;\">Int64</th></tr></thead><tbody><tr><td class = \"rowNumber\" style = \"font-weight: bold; text-align: right;\">1</td><td style = \"text-align: right;\">692220</td><td style = \"text-align: right;\">1543</td></tr></tbody></table></div><p>&vellip;</p><div><div style = \"float: left;\"><span>Last Group (6 rows): item_id = 701565</span></div><div style = \"clear: both;\"></div></div><div class = \"data-frame\" style = \"overflow-x: scroll;\"><table class = \"data-frame\" style = \"margin-bottom: 6px;\"><thead><tr class = \"header\"><th class = \"rowNumber\" style = \"font-weight: bold; text-align: right;\">Row</th><th style = \"text-align: left;\">item_id</th><th style = \"text-align: left;\">num_date_begin</th></tr><tr class = \"subheader headerLastRow\"><th class = \"rowNumber\" style = \"font-weight: bold; text-align: right;\"></th><th title = \"Int32\" style = \"text-align: left;\">Int32</th><th title = \"Int64\" style = \"text-align: left;\">Int64</th></tr></thead><tbody><tr><td class = \"rowNumber\" style = \"font-weight: bold; text-align: right;\">1</td><td style = \"text-align: right;\">701565</td><td style = \"text-align: right;\">1370</td></tr><tr><td class = \"rowNumber\" style = \"font-weight: bold; text-align: right;\">2</td><td style = \"text-align: right;\">701565</td><td style = \"text-align: right;\">1370</td></tr><tr><td class = \"rowNumber\" style = \"font-weight: bold; text-align: right;\">3</td><td style = \"text-align: right;\">701565</td><td style = \"text-align: right;\">1370</td></tr><tr><td class = \"rowNumber\" style = \"font-weight: bold; text-align: right;\">4</td><td style = \"text-align: right;\">701565</td><td style = \"text-align: right;\">1371</td></tr><tr><td class = \"rowNumber\" style = \"font-weight: bold; text-align: right;\">5</td><td style = \"text-align: right;\">701565</td><td style = \"text-align: right;\">1384</td></tr><tr><td class = \"rowNumber\" style = \"font-weight: bold; text-align: right;\">6</td><td style = \"text-align: right;\">701565</td><td style = \"text-align: right;\">1371</td></tr></tbody></table></div>"
      ],
      "text/latex": [
       "GroupedDataFrame with 9148 groups based on key: item\\_id\n",
       "\n",
       "First Group (1 row): item\\_id = 692220\n",
       "\n",
       "\\begin{tabular}{r|cc}\n",
       "\t& item\\_id & num\\_date\\_begin\\\\\n",
       "\t\\hline\n",
       "\t& Int32 & Int64\\\\\n",
       "\t\\hline\n",
       "\t1 & 692220 & 1543 \\\\\n",
       "\\end{tabular}\n",
       "\n",
       "$\\dots$\n",
       "\n",
       "Last Group (6 rows): item\\_id = 701565\n",
       "\n",
       "\\begin{tabular}{r|cc}\n",
       "\t& item\\_id & num\\_date\\_begin\\\\\n",
       "\t\\hline\n",
       "\t& Int32 & Int64\\\\\n",
       "\t\\hline\n",
       "\t1 & 701565 & 1370 \\\\\n",
       "\t2 & 701565 & 1370 \\\\\n",
       "\t3 & 701565 & 1370 \\\\\n",
       "\t4 & 701565 & 1371 \\\\\n",
       "\t5 & 701565 & 1384 \\\\\n",
       "\t6 & 701565 & 1371 \\\\\n",
       "\\end{tabular}\n"
      ],
      "text/plain": [
       "GroupedDataFrame with 9148 groups based on key: item_id\n",
       "First Group (1 row): item_id = 692220\n",
       "\u001b[1m Row \u001b[0m│\u001b[1m item_id \u001b[0m\u001b[1m num_date_begin \u001b[0m\n",
       "     │\u001b[90m Int32   \u001b[0m\u001b[90m Int64          \u001b[0m\n",
       "─────┼─────────────────────────\n",
       "   1 │  692220            1543\n",
       "⋮\n",
       "Last Group (6 rows): item_id = 701565\n",
       "\u001b[1m Row \u001b[0m│\u001b[1m item_id \u001b[0m\u001b[1m num_date_begin \u001b[0m\n",
       "     │\u001b[90m Int32   \u001b[0m\u001b[90m Int64          \u001b[0m\n",
       "─────┼─────────────────────────\n",
       "   1 │  701565            1370\n",
       "   2 │  701565            1370\n",
       "   3 │  701565            1370\n",
       "   4 │  701565            1371\n",
       "   5 │  701565            1384\n",
       "   6 │  701565            1371"
      ]
     },
     "execution_count": 51,
     "metadata": {},
     "output_type": "execute_result"
    }
   ],
   "source": [
    "df_pr_begin_0 = dropmissing(df_prp, :num_date_begin)\n",
    "df_pr_begin = groupby(select(df_pr_begin_0, :item_id, :num_date_begin), :item_id)"
   ]
  },
  {
   "cell_type": "code",
   "execution_count": 52,
   "metadata": {},
   "outputs": [],
   "source": [
    "df_pr_date_min = combine(df_pr_begin, :num_date_begin => minimum => :date_min);"
   ]
  },
  {
   "cell_type": "code",
   "execution_count": 53,
   "metadata": {},
   "outputs": [
    {
     "data": {
      "text/plain": [
       "(9148, 2)"
      ]
     },
     "execution_count": 53,
     "metadata": {},
     "output_type": "execute_result"
    }
   ],
   "source": [
    "size(df_pr_date_min)"
   ]
  },
  {
   "cell_type": "code",
   "execution_count": 54,
   "metadata": {},
   "outputs": [
    {
     "data": {
      "text/html": [
       "<div><div style = \"float: left;\"><span>7×2 DataFrame</span></div><div style = \"clear: both;\"></div></div><div class = \"data-frame\" style = \"overflow-x: scroll;\"><table class = \"data-frame\" style = \"margin-bottom: 6px;\"><thead><tr class = \"header\"><th class = \"rowNumber\" style = \"font-weight: bold; text-align: right;\">Row</th><th style = \"text-align: left;\">item_id</th><th style = \"text-align: left;\">date_min</th></tr><tr class = \"subheader headerLastRow\"><th class = \"rowNumber\" style = \"font-weight: bold; text-align: right;\"></th><th title = \"Int32\" style = \"text-align: left;\">Int32</th><th title = \"Int64\" style = \"text-align: left;\">Int64</th></tr></thead><tbody><tr><td class = \"rowNumber\" style = \"font-weight: bold; text-align: right;\">1</td><td style = \"text-align: right;\">695359</td><td style = \"text-align: right;\">1167</td></tr><tr><td class = \"rowNumber\" style = \"font-weight: bold; text-align: right;\">2</td><td style = \"text-align: right;\">695360</td><td style = \"text-align: right;\">1051</td></tr><tr><td class = \"rowNumber\" style = \"font-weight: bold; text-align: right;\">3</td><td style = \"text-align: right;\">695361</td><td style = \"text-align: right;\">1531</td></tr><tr><td class = \"rowNumber\" style = \"font-weight: bold; text-align: right;\">4</td><td style = \"text-align: right;\">695362</td><td style = \"text-align: right;\">1209</td></tr><tr><td class = \"rowNumber\" style = \"font-weight: bold; text-align: right;\">5</td><td style = \"text-align: right;\">695363</td><td style = \"text-align: right;\">963</td></tr><tr><td class = \"rowNumber\" style = \"font-weight: bold; text-align: right;\">6</td><td style = \"text-align: right;\">695364</td><td style = \"text-align: right;\">1101</td></tr><tr><td class = \"rowNumber\" style = \"font-weight: bold; text-align: right;\">7</td><td style = \"text-align: right;\">695365</td><td style = \"text-align: right;\">1200</td></tr></tbody></table></div>"
      ],
      "text/latex": [
       "\\begin{tabular}{r|cc}\n",
       "\t& item\\_id & date\\_min\\\\\n",
       "\t\\hline\n",
       "\t& Int32 & Int64\\\\\n",
       "\t\\hline\n",
       "\t1 & 695359 & 1167 \\\\\n",
       "\t2 & 695360 & 1051 \\\\\n",
       "\t3 & 695361 & 1531 \\\\\n",
       "\t4 & 695362 & 1209 \\\\\n",
       "\t5 & 695363 & 963 \\\\\n",
       "\t6 & 695364 & 1101 \\\\\n",
       "\t7 & 695365 & 1200 \\\\\n",
       "\\end{tabular}\n"
      ],
      "text/plain": [
       "\u001b[1m7×2 DataFrame\u001b[0m\n",
       "\u001b[1m Row \u001b[0m│\u001b[1m item_id \u001b[0m\u001b[1m date_min \u001b[0m\n",
       "     │\u001b[90m Int32   \u001b[0m\u001b[90m Int64    \u001b[0m\n",
       "─────┼───────────────────\n",
       "   1 │  695359      1167\n",
       "   2 │  695360      1051\n",
       "   3 │  695361      1531\n",
       "   4 │  695362      1209\n",
       "   5 │  695363       963\n",
       "   6 │  695364      1101\n",
       "   7 │  695365      1200"
      ]
     },
     "execution_count": 54,
     "metadata": {},
     "output_type": "execute_result"
    }
   ],
   "source": [
    "df_pr_date_min[3015:3021, :]"
   ]
  },
  {
   "cell_type": "markdown",
   "metadata": {},
   "source": [
    "`date_max`"
   ]
  },
  {
   "cell_type": "code",
   "execution_count": 55,
   "metadata": {},
   "outputs": [
    {
     "data": {
      "text/html": [
       "<p><b>GroupedDataFrame with 5987 groups based on key: item_id</b></p><div><div style = \"float: left;\"><span>First Group (1 row): item_id = 692220</span></div><div style = \"clear: both;\"></div></div><div class = \"data-frame\" style = \"overflow-x: scroll;\"><table class = \"data-frame\" style = \"margin-bottom: 6px;\"><thead><tr class = \"header\"><th class = \"rowNumber\" style = \"font-weight: bold; text-align: right;\">Row</th><th style = \"text-align: left;\">item_id</th><th style = \"text-align: left;\">num_date_end</th></tr><tr class = \"subheader headerLastRow\"><th class = \"rowNumber\" style = \"font-weight: bold; text-align: right;\"></th><th title = \"Int32\" style = \"text-align: left;\">Int32</th><th title = \"Int64\" style = \"text-align: left;\">Int64</th></tr></thead><tbody><tr><td class = \"rowNumber\" style = \"font-weight: bold; text-align: right;\">1</td><td style = \"text-align: right;\">692220</td><td style = \"text-align: right;\">1588</td></tr></tbody></table></div><p>&vellip;</p><div><div style = \"float: left;\"><span>Last Group (3 rows): item_id = 701565</span></div><div style = \"clear: both;\"></div></div><div class = \"data-frame\" style = \"overflow-x: scroll;\"><table class = \"data-frame\" style = \"margin-bottom: 6px;\"><thead><tr class = \"header\"><th class = \"rowNumber\" style = \"font-weight: bold; text-align: right;\">Row</th><th style = \"text-align: left;\">item_id</th><th style = \"text-align: left;\">num_date_end</th></tr><tr class = \"subheader headerLastRow\"><th class = \"rowNumber\" style = \"font-weight: bold; text-align: right;\"></th><th title = \"Int32\" style = \"text-align: left;\">Int32</th><th title = \"Int64\" style = \"text-align: left;\">Int64</th></tr></thead><tbody><tr><td class = \"rowNumber\" style = \"font-weight: bold; text-align: right;\">1</td><td style = \"text-align: right;\">701565</td><td style = \"text-align: right;\">1371</td></tr><tr><td class = \"rowNumber\" style = \"font-weight: bold; text-align: right;\">2</td><td style = \"text-align: right;\">701565</td><td style = \"text-align: right;\">1404</td></tr><tr><td class = \"rowNumber\" style = \"font-weight: bold; text-align: right;\">3</td><td style = \"text-align: right;\">701565</td><td style = \"text-align: right;\">1384</td></tr></tbody></table></div>"
      ],
      "text/latex": [
       "GroupedDataFrame with 5987 groups based on key: item\\_id\n",
       "\n",
       "First Group (1 row): item\\_id = 692220\n",
       "\n",
       "\\begin{tabular}{r|cc}\n",
       "\t& item\\_id & num\\_date\\_end\\\\\n",
       "\t\\hline\n",
       "\t& Int32 & Int64\\\\\n",
       "\t\\hline\n",
       "\t1 & 692220 & 1588 \\\\\n",
       "\\end{tabular}\n",
       "\n",
       "$\\dots$\n",
       "\n",
       "Last Group (3 rows): item\\_id = 701565\n",
       "\n",
       "\\begin{tabular}{r|cc}\n",
       "\t& item\\_id & num\\_date\\_end\\\\\n",
       "\t\\hline\n",
       "\t& Int32 & Int64\\\\\n",
       "\t\\hline\n",
       "\t1 & 701565 & 1371 \\\\\n",
       "\t2 & 701565 & 1404 \\\\\n",
       "\t3 & 701565 & 1384 \\\\\n",
       "\\end{tabular}\n"
      ],
      "text/plain": [
       "GroupedDataFrame with 5987 groups based on key: item_id\n",
       "First Group (1 row): item_id = 692220\n",
       "\u001b[1m Row \u001b[0m│\u001b[1m item_id \u001b[0m\u001b[1m num_date_end \u001b[0m\n",
       "     │\u001b[90m Int32   \u001b[0m\u001b[90m Int64        \u001b[0m\n",
       "─────┼───────────────────────\n",
       "   1 │  692220          1588\n",
       "⋮\n",
       "Last Group (3 rows): item_id = 701565\n",
       "\u001b[1m Row \u001b[0m│\u001b[1m item_id \u001b[0m\u001b[1m num_date_end \u001b[0m\n",
       "     │\u001b[90m Int32   \u001b[0m\u001b[90m Int64        \u001b[0m\n",
       "─────┼───────────────────────\n",
       "   1 │  701565          1371\n",
       "   2 │  701565          1404\n",
       "   3 │  701565          1384"
      ]
     },
     "execution_count": 55,
     "metadata": {},
     "output_type": "execute_result"
    }
   ],
   "source": [
    "df_pr_end_value = dropmissing(df_prp, :num_date_end)\n",
    "df_pr_end = groupby(select(df_pr_end_value, :item_id, :num_date_end), :item_id)"
   ]
  },
  {
   "cell_type": "code",
   "execution_count": 56,
   "metadata": {},
   "outputs": [],
   "source": [
    "df_pr_date_max = combine(df_pr_end, :num_date_end => maximum => :date_max);"
   ]
  },
  {
   "cell_type": "code",
   "execution_count": 57,
   "metadata": {},
   "outputs": [
    {
     "data": {
      "text/plain": [
       "(5987, 2)"
      ]
     },
     "execution_count": 57,
     "metadata": {},
     "output_type": "execute_result"
    }
   ],
   "source": [
    "size(df_pr_date_max)"
   ]
  },
  {
   "cell_type": "code",
   "execution_count": 58,
   "metadata": {},
   "outputs": [
    {
     "data": {
      "text/html": [
       "<div><div style = \"float: left;\"><span>7×2 DataFrame</span></div><div style = \"clear: both;\"></div></div><div class = \"data-frame\" style = \"overflow-x: scroll;\"><table class = \"data-frame\" style = \"margin-bottom: 6px;\"><thead><tr class = \"header\"><th class = \"rowNumber\" style = \"font-weight: bold; text-align: right;\">Row</th><th style = \"text-align: left;\">item_id</th><th style = \"text-align: left;\">date_max</th></tr><tr class = \"subheader headerLastRow\"><th class = \"rowNumber\" style = \"font-weight: bold; text-align: right;\"></th><th title = \"Int32\" style = \"text-align: left;\">Int32</th><th title = \"Int64\" style = \"text-align: left;\">Int64</th></tr></thead><tbody><tr><td class = \"rowNumber\" style = \"font-weight: bold; text-align: right;\">1</td><td style = \"text-align: right;\">697523</td><td style = \"text-align: right;\">1369</td></tr><tr><td class = \"rowNumber\" style = \"font-weight: bold; text-align: right;\">2</td><td style = \"text-align: right;\">697524</td><td style = \"text-align: right;\">1611</td></tr><tr><td class = \"rowNumber\" style = \"font-weight: bold; text-align: right;\">3</td><td style = \"text-align: right;\">697525</td><td style = \"text-align: right;\">1625</td></tr><tr><td class = \"rowNumber\" style = \"font-weight: bold; text-align: right;\">4</td><td style = \"text-align: right;\">697526</td><td style = \"text-align: right;\">1811</td></tr><tr><td class = \"rowNumber\" style = \"font-weight: bold; text-align: right;\">5</td><td style = \"text-align: right;\">697527</td><td style = \"text-align: right;\">1361</td></tr><tr><td class = \"rowNumber\" style = \"font-weight: bold; text-align: right;\">6</td><td style = \"text-align: right;\">697528</td><td style = \"text-align: right;\">1305</td></tr><tr><td class = \"rowNumber\" style = \"font-weight: bold; text-align: right;\">7</td><td style = \"text-align: right;\">697529</td><td style = \"text-align: right;\">1356</td></tr></tbody></table></div>"
      ],
      "text/latex": [
       "\\begin{tabular}{r|cc}\n",
       "\t& item\\_id & date\\_max\\\\\n",
       "\t\\hline\n",
       "\t& Int32 & Int64\\\\\n",
       "\t\\hline\n",
       "\t1 & 697523 & 1369 \\\\\n",
       "\t2 & 697524 & 1611 \\\\\n",
       "\t3 & 697525 & 1625 \\\\\n",
       "\t4 & 697526 & 1811 \\\\\n",
       "\t5 & 697527 & 1361 \\\\\n",
       "\t6 & 697528 & 1305 \\\\\n",
       "\t7 & 697529 & 1356 \\\\\n",
       "\\end{tabular}\n"
      ],
      "text/plain": [
       "\u001b[1m7×2 DataFrame\u001b[0m\n",
       "\u001b[1m Row \u001b[0m│\u001b[1m item_id \u001b[0m\u001b[1m date_max \u001b[0m\n",
       "     │\u001b[90m Int32   \u001b[0m\u001b[90m Int64    \u001b[0m\n",
       "─────┼───────────────────\n",
       "   1 │  697523      1369\n",
       "   2 │  697524      1611\n",
       "   3 │  697525      1625\n",
       "   4 │  697526      1811\n",
       "   5 │  697527      1361\n",
       "   6 │  697528      1305\n",
       "   7 │  697529      1356"
      ]
     },
     "execution_count": 58,
     "metadata": {},
     "output_type": "execute_result"
    }
   ],
   "source": [
    "df_pr_date_max[3015:3021, :]"
   ]
  },
  {
   "cell_type": "code",
   "execution_count": 59,
   "metadata": {},
   "outputs": [],
   "source": [
    "df_date = leftjoin(df_date, df_pr_date_min, on = :id => :item_id);"
   ]
  },
  {
   "cell_type": "code",
   "execution_count": 60,
   "metadata": {},
   "outputs": [],
   "source": [
    "df_date = leftjoin(df_date, df_pr_date_max, on = :id => :item_id);"
   ]
  },
  {
   "cell_type": "code",
   "execution_count": 61,
   "metadata": {},
   "outputs": [
    {
     "data": {
      "text/plain": [
       "5-element Vector{String}:\n",
       " \"id\"\n",
       " \"num_date_birth\"\n",
       " \"num_date_death\"\n",
       " \"date_min\"\n",
       " \"date_max\""
      ]
     },
     "execution_count": 61,
     "metadata": {},
     "output_type": "execute_result"
    }
   ],
   "source": [
    "names(df_date)"
   ]
  },
  {
   "cell_type": "code",
   "execution_count": 62,
   "metadata": {},
   "outputs": [
    {
     "data": {
      "text/plain": [
       "((9346, 5), 9148, 5987)"
      ]
     },
     "execution_count": 62,
     "metadata": {},
     "output_type": "execute_result"
    }
   ],
   "source": [
    "size(df_date), count(!ismissing, df_date.date_min), count(!ismissing, df_date.date_max)"
   ]
  },
  {
   "cell_type": "markdown",
   "metadata": {},
   "source": [
    "Geburts- und Sterbedatum  \n",
    "Geburts- und Sterbedaten - so vorhanden - können die Zeitspanne nur verkürzen!"
   ]
  },
  {
   "cell_type": "code",
   "execution_count": 63,
   "metadata": {},
   "outputs": [],
   "source": [
    "min_may_be(x, y) = ismissing(x) ? y : (ismissing(y) ? x : min(x, y));\n",
    "max_may_be(x, y) = ismissing(x) ? y : (ismissing(y) ? x : max(x, y));"
   ]
  },
  {
   "cell_type": "code",
   "execution_count": 64,
   "metadata": {},
   "outputs": [],
   "source": [
    "transform!(df_date, [:date_min, :num_date_birth] => ByRow(max_may_be) => :date_min); # sic!"
   ]
  },
  {
   "cell_type": "code",
   "execution_count": 65,
   "metadata": {},
   "outputs": [],
   "source": [
    "transform!(df_date, [:date_max, :num_date_death] => ByRow(min_may_be) => :date_max); # sic!"
   ]
  },
  {
   "cell_type": "markdown",
   "metadata": {},
   "source": [
    "Übernimm' den jeweils gültigen Wert für fehlende Daten"
   ]
  },
  {
   "cell_type": "code",
   "execution_count": 66,
   "metadata": {},
   "outputs": [],
   "source": [
    "get_first_not_missing(x, y) = !ismissing(x) ? x : y;"
   ]
  },
  {
   "cell_type": "code",
   "execution_count": 67,
   "metadata": {},
   "outputs": [],
   "source": [
    "transform!(df_date, [:date_min, :date_max] => ByRow(get_first_not_missing) => :date_min);"
   ]
  },
  {
   "cell_type": "code",
   "execution_count": 68,
   "metadata": {},
   "outputs": [],
   "source": [
    "transform!(df_date, [:date_max, :date_min] => ByRow(get_first_not_missing) => :date_max);"
   ]
  },
  {
   "cell_type": "markdown",
   "metadata": {},
   "source": [
    "Damit sind Einträge mit fehlenden Daten entbehrlich"
   ]
  },
  {
   "cell_type": "code",
   "execution_count": 69,
   "metadata": {},
   "outputs": [],
   "source": [
    "dropmissing!(df_date, :date_min);"
   ]
  },
  {
   "cell_type": "code",
   "execution_count": 70,
   "metadata": {},
   "outputs": [
    {
     "data": {
      "text/plain": [
       "(9171, 5)"
      ]
     },
     "execution_count": 70,
     "metadata": {},
     "output_type": "execute_result"
    }
   ],
   "source": [
    "size(df_date)"
   ]
  },
  {
   "cell_type": "markdown",
   "metadata": {},
   "source": [
    "Trage die geänderten Daten ein"
   ]
  },
  {
   "cell_type": "code",
   "execution_count": 71,
   "metadata": {},
   "outputs": [
    {
     "data": {
      "text/plain": [
       "5-element Vector{String}:\n",
       " \"id\"\n",
       " \"num_date_birth\"\n",
       " \"num_date_death\"\n",
       " \"date_min\"\n",
       " \"date_max\""
      ]
     },
     "execution_count": 71,
     "metadata": {},
     "output_type": "execute_result"
    }
   ],
   "source": [
    "names(df_date)"
   ]
  },
  {
   "cell_type": "code",
   "execution_count": 72,
   "metadata": {},
   "outputs": [
    {
     "data": {
      "text/html": [
       "<div><div style = \"float: left;\"><span>5×5 DataFrame</span></div><div style = \"clear: both;\"></div></div><div class = \"data-frame\" style = \"overflow-x: scroll;\"><table class = \"data-frame\" style = \"margin-bottom: 6px;\"><thead><tr class = \"header\"><th class = \"rowNumber\" style = \"font-weight: bold; text-align: right;\">Row</th><th style = \"text-align: left;\">id</th><th style = \"text-align: left;\">num_date_birth</th><th style = \"text-align: left;\">num_date_death</th><th style = \"text-align: left;\">date_min</th><th style = \"text-align: left;\">date_max</th></tr><tr class = \"subheader headerLastRow\"><th class = \"rowNumber\" style = \"font-weight: bold; text-align: right;\"></th><th title = \"Int32\" style = \"text-align: left;\">Int32</th><th title = \"Union{Missing, Int32}\" style = \"text-align: left;\">Int32?</th><th title = \"Union{Missing, Int32}\" style = \"text-align: left;\">Int32?</th><th title = \"Signed\" style = \"text-align: left;\">Signed</th><th title = \"Union{Missing, Signed}\" style = \"text-align: left;\">Signed?</th></tr></thead><tbody><tr><td class = \"rowNumber\" style = \"font-weight: bold; text-align: right;\">1</td><td style = \"text-align: right;\">692653</td><td style = \"font-style: italic; text-align: right;\">missing</td><td style = \"font-style: italic; text-align: right;\">missing</td><td style = \"text-align: right;\">1503</td><td style = \"text-align: right;\">1537</td></tr><tr><td class = \"rowNumber\" style = \"font-weight: bold; text-align: right;\">2</td><td style = \"text-align: right;\">692654</td><td style = \"font-style: italic; text-align: right;\">missing</td><td style = \"font-style: italic; text-align: right;\">missing</td><td style = \"text-align: right;\">1196</td><td style = \"text-align: right;\">1200</td></tr><tr><td class = \"rowNumber\" style = \"font-weight: bold; text-align: right;\">3</td><td style = \"text-align: right;\">692658</td><td style = \"font-style: italic; text-align: right;\">missing</td><td style = \"font-style: italic; text-align: right;\">missing</td><td style = \"text-align: right;\">1351</td><td style = \"text-align: right;\">1371</td></tr><tr><td class = \"rowNumber\" style = \"font-weight: bold; text-align: right;\">4</td><td style = \"text-align: right;\">692659</td><td style = \"font-style: italic; text-align: right;\">missing</td><td style = \"font-style: italic; text-align: right;\">missing</td><td style = \"text-align: right;\">968</td><td style = \"text-align: right;\">1005</td></tr><tr><td class = \"rowNumber\" style = \"font-weight: bold; text-align: right;\">5</td><td style = \"text-align: right;\">692660</td><td style = \"font-style: italic; text-align: right;\">missing</td><td style = \"text-align: right;\">1498</td><td style = \"text-align: right;\">1448</td><td style = \"text-align: right;\">1498</td></tr></tbody></table></div>"
      ],
      "text/latex": [
       "\\begin{tabular}{r|ccccc}\n",
       "\t& id & num\\_date\\_birth & num\\_date\\_death & date\\_min & date\\_max\\\\\n",
       "\t\\hline\n",
       "\t& Int32 & Int32? & Int32? & Signed & Signed?\\\\\n",
       "\t\\hline\n",
       "\t1 & 692653 & \\emph{missing} & \\emph{missing} & 1503 & 1537 \\\\\n",
       "\t2 & 692654 & \\emph{missing} & \\emph{missing} & 1196 & 1200 \\\\\n",
       "\t3 & 692658 & \\emph{missing} & \\emph{missing} & 1351 & 1371 \\\\\n",
       "\t4 & 692659 & \\emph{missing} & \\emph{missing} & 968 & 1005 \\\\\n",
       "\t5 & 692660 & \\emph{missing} & 1498 & 1448 & 1498 \\\\\n",
       "\\end{tabular}\n"
      ],
      "text/plain": [
       "\u001b[1m5×5 DataFrame\u001b[0m\n",
       "\u001b[1m Row \u001b[0m│\u001b[1m id     \u001b[0m\u001b[1m num_date_birth \u001b[0m\u001b[1m num_date_death \u001b[0m\u001b[1m date_min \u001b[0m\u001b[1m date_max \u001b[0m\n",
       "     │\u001b[90m Int32  \u001b[0m\u001b[90m Int32?         \u001b[0m\u001b[90m Int32?         \u001b[0m\u001b[90m Signed   \u001b[0m\u001b[90m Signed?  \u001b[0m\n",
       "─────┼────────────────────────────────────────────────────────────\n",
       "   1 │ 692653 \u001b[90m        missing \u001b[0m\u001b[90m        missing \u001b[0m     1503      1537\n",
       "   2 │ 692654 \u001b[90m        missing \u001b[0m\u001b[90m        missing \u001b[0m     1196      1200\n",
       "   3 │ 692658 \u001b[90m        missing \u001b[0m\u001b[90m        missing \u001b[0m     1351      1371\n",
       "   4 │ 692659 \u001b[90m        missing \u001b[0m\u001b[90m        missing \u001b[0m      968      1005\n",
       "   5 │ 692660 \u001b[90m        missing \u001b[0m           1498      1448      1498"
      ]
     },
     "execution_count": 72,
     "metadata": {},
     "output_type": "execute_result"
    }
   ],
   "source": [
    "df_date[206:210, :]"
   ]
  },
  {
   "cell_type": "code",
   "execution_count": 73,
   "metadata": {},
   "outputs": [
    {
     "data": {
      "text/plain": [
       "(0, 0, 0)"
      ]
     },
     "execution_count": 73,
     "metadata": {},
     "output_type": "execute_result"
    }
   ],
   "source": [
    "count(ismissing, df_date.date_min), count(ismissing, df_date.date_max), count(ismissing, df_date.id)"
   ]
  },
  {
   "cell_type": "code",
   "execution_count": 74,
   "metadata": {},
   "outputs": [
    {
     "data": {
      "text/plain": [
       "(692220, 701565)"
      ]
     },
     "execution_count": 74,
     "metadata": {},
     "output_type": "execute_result"
    }
   ],
   "source": [
    "extrema(df_date.id)"
   ]
  },
  {
   "cell_type": "code",
   "execution_count": 75,
   "metadata": {},
   "outputs": [
    {
     "data": {
      "text/html": [
       "<div><div style = \"float: left;\"><span>5×7 DataFrame</span></div><div style = \"clear: both;\"></div></div><div class = \"data-frame\" style = \"overflow-x: scroll;\"><table class = \"data-frame\" style = \"margin-bottom: 6px;\"><thead><tr class = \"header\"><th class = \"rowNumber\" style = \"font-weight: bold; text-align: right;\">Row</th><th style = \"text-align: left;\">variable</th><th style = \"text-align: left;\">mean</th><th style = \"text-align: left;\">min</th><th style = \"text-align: left;\">median</th><th style = \"text-align: left;\">max</th><th style = \"text-align: left;\">nmissing</th><th style = \"text-align: left;\">eltype</th></tr><tr class = \"subheader headerLastRow\"><th class = \"rowNumber\" style = \"font-weight: bold; text-align: right;\"></th><th title = \"Symbol\" style = \"text-align: left;\">Symbol</th><th title = \"Float64\" style = \"text-align: left;\">Float64</th><th title = \"Signed\" style = \"text-align: left;\">Signed</th><th title = \"Float64\" style = \"text-align: left;\">Float64</th><th title = \"Signed\" style = \"text-align: left;\">Signed</th><th title = \"Int64\" style = \"text-align: left;\">Int64</th><th title = \"Type\" style = \"text-align: left;\">Type</th></tr></thead><tbody><tr><td class = \"rowNumber\" style = \"font-weight: bold; text-align: right;\">1</td><td style = \"text-align: left;\">id</td><td style = \"text-align: right;\">6.9694e5</td><td style = \"text-align: right;\">692220</td><td style = \"text-align: right;\">696973.0</td><td style = \"text-align: right;\">701565</td><td style = \"text-align: right;\">0</td><td style = \"text-align: left;\">Int32</td></tr><tr><td class = \"rowNumber\" style = \"font-weight: bold; text-align: right;\">2</td><td style = \"text-align: left;\">num_date_birth</td><td style = \"text-align: right;\">1637.89</td><td style = \"text-align: right;\">925</td><td style = \"text-align: right;\">1678.0</td><td style = \"text-align: right;\">1845</td><td style = \"text-align: right;\">7966</td><td style = \"text-align: left;\">Union{Missing, Int32}</td></tr><tr><td class = \"rowNumber\" style = \"font-weight: bold; text-align: right;\">3</td><td style = \"text-align: left;\">num_date_death</td><td style = \"text-align: right;\">1542.51</td><td style = \"text-align: right;\">794</td><td style = \"text-align: right;\">1551.0</td><td style = \"text-align: right;\">1932</td><td style = \"text-align: right;\">5099</td><td style = \"text-align: left;\">Union{Missing, Int32}</td></tr><tr><td class = \"rowNumber\" style = \"font-weight: bold; text-align: right;\">4</td><td style = \"text-align: left;\">date_min</td><td style = \"text-align: right;\">1459.73</td><td style = \"text-align: right;\">732</td><td style = \"text-align: right;\">1463.0</td><td style = \"text-align: right;\">1882</td><td style = \"text-align: right;\">0</td><td style = \"text-align: left;\">Signed</td></tr><tr><td class = \"rowNumber\" style = \"font-weight: bold; text-align: right;\">5</td><td style = \"text-align: left;\">date_max</td><td style = \"text-align: right;\">1478.7</td><td style = \"text-align: right;\">768</td><td style = \"text-align: right;\">1484.0</td><td style = \"text-align: right;\">1932</td><td style = \"text-align: right;\">0</td><td style = \"text-align: left;\">Union{Missing, Signed}</td></tr></tbody></table></div>"
      ],
      "text/latex": [
       "\\begin{tabular}{r|ccccccc}\n",
       "\t& variable & mean & min & median & max & nmissing & eltype\\\\\n",
       "\t\\hline\n",
       "\t& Symbol & Float64 & Signed & Float64 & Signed & Int64 & Type\\\\\n",
       "\t\\hline\n",
       "\t1 & id & 6.9694e5 & 692220 & 696973.0 & 701565 & 0 & Int32 \\\\\n",
       "\t2 & num\\_date\\_birth & 1637.89 & 925 & 1678.0 & 1845 & 7966 & Union\\{Missing, Int32\\} \\\\\n",
       "\t3 & num\\_date\\_death & 1542.51 & 794 & 1551.0 & 1932 & 5099 & Union\\{Missing, Int32\\} \\\\\n",
       "\t4 & date\\_min & 1459.73 & 732 & 1463.0 & 1882 & 0 & Signed \\\\\n",
       "\t5 & date\\_max & 1478.7 & 768 & 1484.0 & 1932 & 0 & Union\\{Missing, Signed\\} \\\\\n",
       "\\end{tabular}\n"
      ],
      "text/plain": [
       "\u001b[1m5×7 DataFrame\u001b[0m\n",
       "\u001b[1m Row \u001b[0m│\u001b[1m variable       \u001b[0m\u001b[1m mean        \u001b[0m\u001b[1m min    \u001b[0m\u001b[1m median   \u001b[0m\u001b[1m max    \u001b[0m\u001b[1m nmissing \u001b[0m\u001b[1m eltype\u001b[0m ⋯\n",
       "     │\u001b[90m Symbol         \u001b[0m\u001b[90m Float64     \u001b[0m\u001b[90m Signed \u001b[0m\u001b[90m Float64  \u001b[0m\u001b[90m Signed \u001b[0m\u001b[90m Int64    \u001b[0m\u001b[90m Type  \u001b[0m ⋯\n",
       "─────┼──────────────────────────────────────────────────────────────────────────\n",
       "   1 │ id                 6.9694e5  692220  696973.0  701565         0  Int32  ⋯\n",
       "   2 │ num_date_birth  1637.89         925    1678.0    1845      7966  Union{\n",
       "   3 │ num_date_death  1542.51         794    1551.0    1932      5099  Union{\n",
       "   4 │ date_min        1459.73         732    1463.0    1882         0  Signed\n",
       "   5 │ date_max        1478.7          768    1484.0    1932         0  Union{ ⋯\n",
       "\u001b[36m                                                                1 column omitted\u001b[0m"
      ]
     },
     "execution_count": 75,
     "metadata": {},
     "output_type": "execute_result"
    }
   ],
   "source": [
    "describe(df_date)"
   ]
  },
  {
   "cell_type": "code",
   "execution_count": 76,
   "metadata": {},
   "outputs": [],
   "source": [
    "stmt = DBInterface.prepare(Wds.dbwiag, \"UPDATE person SET date_min = ?, date_max = ? WHERE id = ?\");"
   ]
  },
  {
   "cell_type": "code",
   "execution_count": 77,
   "metadata": {},
   "outputs": [
    {
     "data": {
      "text/plain": [
       "9172"
      ]
     },
     "execution_count": 77,
     "metadata": {},
     "output_type": "execute_result"
    }
   ],
   "source": [
    "n_loop = 1\n",
    "for row in eachrow(df_date)\n",
    "    date_min, date_max, id = Int64.(Tuple(row[[:date_min, :date_max, :id]]))\n",
    "    DBInterface.execute(stmt, (date_min, date_max, id))\n",
    "    n_loop += 1\n",
    "end\n",
    "n_loop"
   ]
  },
  {
   "cell_type": "code",
   "execution_count": 78,
   "metadata": {},
   "outputs": [],
   "source": [
    "DBInterface.close!(stmt)"
   ]
  },
  {
   "cell_type": "markdown",
   "metadata": {},
   "source": [
    "Alternativen: Update über eine eigene Tabelle"
   ]
  },
  {
   "cell_type": "code",
   "execution_count": 71,
   "metadata": {},
   "outputs": [
    {
     "data": {
      "text/plain": [
       "MySQL.TextCursor{true}(MySQL.Connection(host=\"127.0.0.1\", user=\"georg\", port=\"3306\", db=\"wiag2\"), \"DROP TABLE IF EXISTS date_update\", 0, -1, 0, MySQL.API.MYSQL_RES(Ptr{Nothing} @0x0000000000000000), Symbol[], Type[], Dict{Symbol, Int64}(), 0, 1, false)"
      ]
     },
     "execution_count": 71,
     "metadata": {},
     "output_type": "execute_result"
    }
   ],
   "source": [
    "sql = \"DROP TABLE IF EXISTS date_update\"\n",
    "DBInterface.execute(Wds.dbwiag, sql)"
   ]
  },
  {
   "cell_type": "code",
   "execution_count": 72,
   "metadata": {},
   "outputs": [
    {
     "data": {
      "text/plain": [
       "MySQL.TextCursor{true}(MySQL.Connection(host=\"127.0.0.1\", user=\"georg\", port=\"3306\", db=\"wiag2\"), \"CREATE TEMPORARY TABLE date_update (id INT, date_min INT, date_max INT) \\nENGINE=InnoDB DEFAULT CHARSET=utf8;\", 0, -1, 0, MySQL.API.MYSQL_RES(Ptr{Nothing} @0x0000000000000000), Symbol[], Type[], Dict{Symbol, Int64}(), 0, 1, false)"
      ]
     },
     "execution_count": 72,
     "metadata": {},
     "output_type": "execute_result"
    }
   ],
   "source": [
    "sql = \"CREATE TEMPORARY TABLE date_update (id INT, date_min INT, date_max INT) \n",
    "ENGINE=InnoDB DEFAULT CHARSET=utf8;\";\n",
    "DBInterface.execute(Wds.dbwiag, sql)"
   ]
  },
  {
   "cell_type": "code",
   "execution_count": 73,
   "metadata": {},
   "outputs": [
    {
     "data": {
      "text/plain": [
       "5-element Vector{String}:\n",
       " \"id\"\n",
       " \"num_date_birth\"\n",
       " \"num_date_death\"\n",
       " \"date_min\"\n",
       " \"date_max\""
      ]
     },
     "execution_count": 73,
     "metadata": {},
     "output_type": "execute_result"
    }
   ],
   "source": [
    "names(df_date)"
   ]
  },
  {
   "cell_type": "code",
   "execution_count": 74,
   "metadata": {},
   "outputs": [
    {
     "data": {
      "text/plain": [
       "3-element Vector{Pair{Symbol, Symbol}}:\n",
       "       :id => :id\n",
       " :date_min => :date_min\n",
       " :date_max => :date_max"
      ]
     },
     "execution_count": 74,
     "metadata": {},
     "output_type": "execute_result"
    }
   ],
   "source": [
    "columns = [\n",
    "    :id => :id,\n",
    "    :date_min => :date_min,\n",
    "    :date_max => :date_max\n",
    "]"
   ]
  },
  {
   "cell_type": "code",
   "execution_count": 75,
   "metadata": {},
   "outputs": [
    {
     "data": {
      "text/html": [
       "<div class=\"data-frame\"><p>10 rows × 5 columns</p><table class=\"data-frame\"><thead><tr><th></th><th>id</th><th>num_date_birth</th><th>num_date_death</th><th>date_min</th><th>date_max</th></tr><tr><th></th><th title=\"Int32\">Int32</th><th title=\"Union{Missing, Int32}\">Int32?</th><th title=\"Union{Missing, Int32}\">Int32?</th><th title=\"Signed\">Signed</th><th title=\"Union{Missing, Signed}\">Signed?</th></tr></thead><tbody><tr><th>1</th><td>301939</td><td><em>missing</em></td><td><em>missing</em></td><td>1410</td><td>1411</td></tr><tr><th>2</th><td>301940</td><td><em>missing</em></td><td><em>missing</em></td><td>1543</td><td>1588</td></tr><tr><th>3</th><td>301950</td><td><em>missing</em></td><td><em>missing</em></td><td>1208</td><td>1209</td></tr><tr><th>4</th><td>301951</td><td><em>missing</em></td><td><em>missing</em></td><td>1233</td><td>1284</td></tr><tr><th>5</th><td>301952</td><td><em>missing</em></td><td>1341</td><td>1324</td><td>1341</td></tr><tr><th>6</th><td>301954</td><td><em>missing</em></td><td><em>missing</em></td><td>1469</td><td>1472</td></tr><tr><th>7</th><td>301958</td><td><em>missing</em></td><td><em>missing</em></td><td>1522</td><td>1535</td></tr><tr><th>8</th><td>301960</td><td><em>missing</em></td><td>1527</td><td>1464</td><td>1527</td></tr><tr><th>9</th><td>301961</td><td><em>missing</em></td><td>1397</td><td>1373</td><td>1397</td></tr><tr><th>10</th><td>301968</td><td><em>missing</em></td><td><em>missing</em></td><td>1503</td><td>1533</td></tr></tbody></table></div>"
      ],
      "text/latex": [
       "\\begin{tabular}{r|ccccc}\n",
       "\t& id & num\\_date\\_birth & num\\_date\\_death & date\\_min & date\\_max\\\\\n",
       "\t\\hline\n",
       "\t& Int32 & Int32? & Int32? & Signed & Signed?\\\\\n",
       "\t\\hline\n",
       "\t1 & 301939 & \\emph{missing} & \\emph{missing} & 1410 & 1411 \\\\\n",
       "\t2 & 301940 & \\emph{missing} & \\emph{missing} & 1543 & 1588 \\\\\n",
       "\t3 & 301950 & \\emph{missing} & \\emph{missing} & 1208 & 1209 \\\\\n",
       "\t4 & 301951 & \\emph{missing} & \\emph{missing} & 1233 & 1284 \\\\\n",
       "\t5 & 301952 & \\emph{missing} & 1341 & 1324 & 1341 \\\\\n",
       "\t6 & 301954 & \\emph{missing} & \\emph{missing} & 1469 & 1472 \\\\\n",
       "\t7 & 301958 & \\emph{missing} & \\emph{missing} & 1522 & 1535 \\\\\n",
       "\t8 & 301960 & \\emph{missing} & 1527 & 1464 & 1527 \\\\\n",
       "\t9 & 301961 & \\emph{missing} & 1397 & 1373 & 1397 \\\\\n",
       "\t10 & 301968 & \\emph{missing} & \\emph{missing} & 1503 & 1533 \\\\\n",
       "\\end{tabular}\n"
      ],
      "text/plain": [
       "\u001b[1m10×5 DataFrame\u001b[0m\n",
       "\u001b[1m Row \u001b[0m│\u001b[1m id     \u001b[0m\u001b[1m num_date_birth \u001b[0m\u001b[1m num_date_death \u001b[0m\u001b[1m date_min \u001b[0m\u001b[1m date_max \u001b[0m\n",
       "\u001b[1m     \u001b[0m│\u001b[90m Int32  \u001b[0m\u001b[90m Int32?         \u001b[0m\u001b[90m Int32?         \u001b[0m\u001b[90m Signed   \u001b[0m\u001b[90m Signed?  \u001b[0m\n",
       "─────┼────────────────────────────────────────────────────────────\n",
       "   1 │ 301939 \u001b[90m        missing \u001b[0m\u001b[90m        missing \u001b[0m     1410      1411\n",
       "   2 │ 301940 \u001b[90m        missing \u001b[0m\u001b[90m        missing \u001b[0m     1543      1588\n",
       "   3 │ 301950 \u001b[90m        missing \u001b[0m\u001b[90m        missing \u001b[0m     1208      1209\n",
       "   4 │ 301951 \u001b[90m        missing \u001b[0m\u001b[90m        missing \u001b[0m     1233      1284\n",
       "   5 │ 301952 \u001b[90m        missing \u001b[0m           1341      1324      1341\n",
       "   6 │ 301954 \u001b[90m        missing \u001b[0m\u001b[90m        missing \u001b[0m     1469      1472\n",
       "   7 │ 301958 \u001b[90m        missing \u001b[0m\u001b[90m        missing \u001b[0m     1522      1535\n",
       "   8 │ 301960 \u001b[90m        missing \u001b[0m           1527      1464      1527\n",
       "   9 │ 301961 \u001b[90m        missing \u001b[0m           1397      1373      1397\n",
       "  10 │ 301968 \u001b[90m        missing \u001b[0m\u001b[90m        missing \u001b[0m     1503      1533"
      ]
     },
     "execution_count": 75,
     "metadata": {},
     "output_type": "execute_result"
    }
   ],
   "source": [
    "df_date[1:10, :]"
   ]
  },
  {
   "cell_type": "markdown",
   "metadata": {},
   "source": [
    "*2022-02-20* nicht zu identifizierender Fehler: UndefRefError: access to undefined reference mit `Wds.filltable!`\n",
    "\n",
    "Alternative, direkte Schleife"
   ]
  },
  {
   "cell_type": "code",
   "execution_count": 76,
   "metadata": {},
   "outputs": [
    {
     "name": "stderr",
     "output_type": "stream",
     "text": [
      "┌ Info: Datensatz\n",
      "│   i = 2000\n",
      "└ @ Main In[76]:8\n",
      "┌ Info: Datensatz\n",
      "│   i = 4000\n",
      "└ @ Main In[76]:8\n",
      "┌ Info: Datensatz\n",
      "│   i = 6000\n",
      "└ @ Main In[76]:8\n",
      "┌ Info: Datensatz\n",
      "│   i = 8000\n",
      "└ @ Main In[76]:8\n"
     ]
    }
   ],
   "source": [
    "table_name = \"date_update\";\n",
    "step_msg = 2000;\n",
    "for (i, row) in enumerate(eachrow(df_date))\n",
    "    sql = \"INSERT INTO $(table_name) \" *\n",
    "    \"VALUES ($(row[:id]), $(row[:date_min]), $(row[:date_max]))\"\n",
    "    DBInterface.execute(Wds.dbwiag, sql)\n",
    "    if i % step_msg == 0\n",
    "        @info \"Datensatz\" i\n",
    "    end\n",
    "end"
   ]
  },
  {
   "cell_type": "code",
   "execution_count": 77,
   "metadata": {},
   "outputs": [
    {
     "data": {
      "text/plain": [
       "MySQL.TextCursor{true}(MySQL.Connection(host=\"127.0.0.1\", user=\"georg\", port=\"3306\", db=\"wiag2\"), \"UPDATE person AS p, \\n(SELECT id, date_min, date_max FROM date_update) AS du\\nSET p.date_min = du.date_min, p.date_max = du.date_max\\nWHERE p.id = du.id\", 0, -1, 8786, MySQL.API.MYSQL_RES(Ptr{Nothing} @0x0000000000000000), Symbol[], Type[], Dict{Symbol, Int64}(), 0, 1, false)"
      ]
     },
     "execution_count": 77,
     "metadata": {},
     "output_type": "execute_result"
    }
   ],
   "source": [
    "sql = \"UPDATE person AS p, \n",
    "(SELECT id, date_min, date_max FROM date_update) AS du\n",
    "SET p.date_min = du.date_min, p.date_max = du.date_max\n",
    "WHERE p.id = du.id\";\n",
    "DBInterface.execute(Wds.dbwiag, sql)"
   ]
  },
  {
   "cell_type": "code",
   "execution_count": null,
   "metadata": {},
   "outputs": [],
   "source": []
  },
  {
   "cell_type": "markdown",
   "metadata": {},
   "source": [
    "## Sortierung der Person nach Amt\n",
    "Die Tabelle `person_display_order` ist eine technische Hilfstabelle, um die Abfragen in Doctrine zu vereinfachen oder überhaupt erst zu ermöglichen. Jede Person erhält für jedes Bistum einen Sortierschlüssel und einen weiteren unabhängig vom Bistum.\n",
    "\n",
    "*2022-01-17* Verzichte zunächst auf diese Tabelle und löse das Problem in der Web-Anwendung. So bleibt das Datenmodell schlanker."
   ]
  },
  {
   "cell_type": "code",
   "execution_count": 45,
   "metadata": {},
   "outputs": [],
   "source": [
    "using MySQL, DataFrames"
   ]
  },
  {
   "cell_type": "markdown",
   "metadata": {},
   "source": [
    "Sortierung unabhängig von einer Diözese. Es werden auch Ämter berücksichtigt, die nicht mit einer Diözese verbunden sind."
   ]
  },
  {
   "cell_type": "code",
   "execution_count": 48,
   "metadata": {},
   "outputs": [],
   "source": [
    "sql = \"SELECT person_id, 'any' as diocese, min(display_order) as display_order \" *\n",
    "\"FROM person_role GROUP BY person_id\";\n",
    "df_do = db_exec(sql);"
   ]
  },
  {
   "cell_type": "code",
   "execution_count": 49,
   "metadata": {},
   "outputs": [
    {
     "data": {
      "text/plain": [
       "(5159, 3)"
      ]
     },
     "execution_count": 49,
     "metadata": {},
     "output_type": "execute_result"
    }
   ],
   "source": [
    "size(df_do)"
   ]
  },
  {
   "cell_type": "markdown",
   "metadata": {},
   "source": [
    "Zwölf Bischöfe haben kein Amt!?"
   ]
  },
  {
   "cell_type": "code",
   "execution_count": 50,
   "metadata": {},
   "outputs": [
    {
     "name": "stderr",
     "output_type": "stream",
     "text": [
      "┌ Info: Rows inserted: 5159\n",
      "└ @ WiagDataSetup C:\\Users\\Georg\\Documents\\projekte\\WiagDataSetup.jl\\src\\WiagDataSetup.jl:1169\n"
     ]
    },
    {
     "data": {
      "text/plain": [
       "5159"
      ]
     },
     "execution_count": 50,
     "metadata": {},
     "output_type": "execute_result"
    }
   ],
   "source": [
    "table_dst = \"person_display_order\"\n",
    "Wds.filltable!(table_dst, df_do)"
   ]
  },
  {
   "cell_type": "markdown",
   "metadata": {},
   "source": [
    "Sortierung nach Diözese"
   ]
  },
  {
   "cell_type": "code",
   "execution_count": 52,
   "metadata": {},
   "outputs": [],
   "source": [
    "sql = \"SELECT person_id, diocese_name as diocese, min(display_order) as display_order \" *\n",
    "\"FROM person_role \" *\n",
    "\"WHERE diocese_name IS NOT NULL \" *\n",
    "\"GROUP BY person_id, diocese_name\";\n",
    "df_do = db_exec(sql);"
   ]
  },
  {
   "cell_type": "code",
   "execution_count": 53,
   "metadata": {},
   "outputs": [
    {
     "data": {
      "text/plain": [
       "(6370, 3)"
      ]
     },
     "execution_count": 53,
     "metadata": {},
     "output_type": "execute_result"
    }
   ],
   "source": [
    "size(df_do)"
   ]
  },
  {
   "cell_type": "code",
   "execution_count": 54,
   "metadata": {},
   "outputs": [
    {
     "name": "stderr",
     "output_type": "stream",
     "text": [
      "┌ Info: Rows inserted: 6370\n",
      "└ @ WiagDataSetup C:\\Users\\Georg\\Documents\\projekte\\WiagDataSetup.jl\\src\\WiagDataSetup.jl:1169\n"
     ]
    },
    {
     "data": {
      "text/plain": [
       "6370"
      ]
     },
     "execution_count": 54,
     "metadata": {},
     "output_type": "execute_result"
    }
   ],
   "source": [
    "table_dst = \"person_display_order\"\n",
    "Wds.filltable!(table_dst, df_do)"
   ]
  },
  {
   "cell_type": "markdown",
   "metadata": {},
   "source": [
    "Bischöfe ohne Ämter"
   ]
  },
  {
   "cell_type": "code",
   "execution_count": 55,
   "metadata": {},
   "outputs": [],
   "source": [
    "sql = \"SELECT id AS person_id, 'any' as diocese, 950000 AS display_order \" *\n",
    "\"FROM person WHERE id NOT IN (SELECT DISTINCT person_id FROM person_role)\"\n",
    "df_do_r = db_exec(sql);"
   ]
  },
  {
   "cell_type": "code",
   "execution_count": 56,
   "metadata": {},
   "outputs": [
    {
     "data": {
      "text/plain": [
       "(12, 3)"
      ]
     },
     "execution_count": 56,
     "metadata": {},
     "output_type": "execute_result"
    }
   ],
   "source": [
    "size(df_do_r)"
   ]
  },
  {
   "cell_type": "code",
   "execution_count": 57,
   "metadata": {},
   "outputs": [
    {
     "name": "stderr",
     "output_type": "stream",
     "text": [
      "┌ Info: Rows inserted: 12\n",
      "└ @ WiagDataSetup C:\\Users\\Georg\\Documents\\projekte\\WiagDataSetup.jl\\src\\WiagDataSetup.jl:1169\n"
     ]
    },
    {
     "data": {
      "text/plain": [
       "12"
      ]
     },
     "execution_count": 57,
     "metadata": {},
     "output_type": "execute_result"
    }
   ],
   "source": [
    "table_dst = \"person_display_order\"\n",
    "Wds.filltable!(table_dst, df_do_r)"
   ]
  },
  {
   "cell_type": "code",
   "execution_count": null,
   "metadata": {},
   "outputs": [],
   "source": []
  },
  {
   "cell_type": "code",
   "execution_count": null,
   "metadata": {},
   "outputs": [],
   "source": []
  },
  {
   "cell_type": "code",
   "execution_count": null,
   "metadata": {},
   "outputs": [],
   "source": []
  }
 ],
 "metadata": {
  "kernelspec": {
   "display_name": "Julia 1.8.2",
   "language": "julia",
   "name": "julia-1.8"
  },
  "language_info": {
   "file_extension": ".jl",
   "mimetype": "application/julia",
   "name": "julia",
   "version": "1.8.2"
  }
 },
 "nbformat": 4,
 "nbformat_minor": 4
}
