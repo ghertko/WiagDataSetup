{
 "cells": [
  {
   "cell_type": "markdown",
   "metadata": {},
   "source": [
    "# Wissensaggregator Mittelalter und frühe Neuzeit\n",
    "WIAGweb2\n",
    "\n",
    "## Daten für Domherren aus dem Digitalen Personenregister einlesen\n",
    "\n",
    "Übertrage Daten aus der GS-online. Die Daten werden aus der produktiven Datenbank auf eine lokale Datenbank eingelesen: `gso`\n",
    "\n",
    "[Amtsperiode](#Amtsperiode)  \n",
    "[Zeitspanne der Person](#Zeitspanne-der-Person)  \n",
    "[Sortierung der Person nach Amt](#Sortierung-der-Person-nach-Amt) (hinfällig?)"
   ]
  },
  {
   "cell_type": "markdown",
   "metadata": {},
   "source": [
    "Vorspann: Pakete laden; mit der Datenbank verbinden"
   ]
  },
  {
   "cell_type": "code",
   "execution_count": 1,
   "metadata": {},
   "outputs": [
    {
     "data": {
      "text/plain": [
       "\"../..\""
      ]
     },
     "execution_count": 1,
     "metadata": {},
     "output_type": "execute_result"
    }
   ],
   "source": [
    "wds_path=\"../..\""
   ]
  },
  {
   "cell_type": "code",
   "execution_count": 2,
   "metadata": {},
   "outputs": [],
   "source": [
    "cd(wds_path)"
   ]
  },
  {
   "cell_type": "code",
   "execution_count": 3,
   "metadata": {},
   "outputs": [],
   "source": [
    "using Pkg"
   ]
  },
  {
   "cell_type": "code",
   "execution_count": 4,
   "metadata": {},
   "outputs": [
    {
     "name": "stderr",
     "output_type": "stream",
     "text": [
      "\u001b[32m\u001b[1m  Activating\u001b[22m\u001b[39m project at `C:\\Users\\georg\\Documents\\projekte\\WiagDataSetup.jl`\n"
     ]
    }
   ],
   "source": [
    "Pkg.activate(\".\")"
   ]
  },
  {
   "cell_type": "code",
   "execution_count": 5,
   "metadata": {},
   "outputs": [],
   "source": [
    "using Revise, MySQL"
   ]
  },
  {
   "cell_type": "code",
   "execution_count": 6,
   "metadata": {},
   "outputs": [],
   "source": [
    "using WiagDataSetup"
   ]
  },
  {
   "cell_type": "code",
   "execution_count": 7,
   "metadata": {},
   "outputs": [],
   "source": [
    "using MySQL, DataFrames, CSV"
   ]
  },
  {
   "cell_type": "code",
   "execution_count": 8,
   "metadata": {},
   "outputs": [
    {
     "data": {
      "text/plain": [
       "WiagDataSetup"
      ]
     },
     "execution_count": 8,
     "metadata": {},
     "output_type": "execute_result"
    }
   ],
   "source": [
    "Wds = WiagDataSetup"
   ]
  },
  {
   "cell_type": "code",
   "execution_count": 9,
   "metadata": {},
   "outputs": [
    {
     "name": "stdout",
     "output_type": "stream",
     "text": [
      "Passwort für User georg: ········\n"
     ]
    },
    {
     "data": {
      "text/plain": [
       "MySQL.Connection(host=\"127.0.0.1\", user=\"georg\", port=\"3306\", db=\"wiag2\")"
      ]
     },
     "execution_count": 9,
     "metadata": {},
     "output_type": "execute_result"
    }
   ],
   "source": [
    "Wds.setDBWIAG(user=\"georg\", db=\"wiag2\")"
   ]
  },
  {
   "cell_type": "code",
   "execution_count": 10,
   "metadata": {},
   "outputs": [
    {
     "data": {
      "text/plain": [
       "6"
      ]
     },
     "execution_count": 10,
     "metadata": {},
     "output_type": "execute_result"
    }
   ],
   "source": [
    "item_type_id = 6"
   ]
  },
  {
   "cell_type": "code",
   "execution_count": 11,
   "metadata": {},
   "outputs": [
    {
     "data": {
      "text/plain": [
       "\"C:\\\\Users\\\\georg\\\\Documents\\\\projekte-doc\\\\WIAGweb2\\\\data_sql\""
      ]
     },
     "execution_count": 11,
     "metadata": {},
     "output_type": "execute_result"
    }
   ],
   "source": [
    "out_path = \"C:\\\\Users\\\\georg\\\\Documents\\\\projekte-doc\\\\WIAGweb2\\\\data_sql\""
   ]
  },
  {
   "cell_type": "markdown",
   "metadata": {},
   "source": [
    "| Datum | Quelle|\n",
    "|:---|---|\n",
    "|*2022-02-25*|`gso_in_202202`|\n",
    "|*2022-05-12*|`gso_in_202205`| \n",
    "|*2022-07-26*|`gso_in_202207`| \n",
    "|*2022-10-15*|`gso_in_202207`|\n",
    "|*2022-10-19*|`gso_in_202210`|"
   ]
  },
  {
   "cell_type": "code",
   "execution_count": 12,
   "metadata": {},
   "outputs": [
    {
     "data": {
      "text/plain": [
       "\"gso_in_202210\""
      ]
     },
     "execution_count": 12,
     "metadata": {},
     "output_type": "execute_result"
    }
   ],
   "source": [
    "gs_db = \"gso_in_202210\""
   ]
  },
  {
   "cell_type": "markdown",
   "metadata": {},
   "source": [
    "Die Ämter in Tabelle `role` werden im Notebook \"Strukturdaten\" eingeladen."
   ]
  },
  {
   "cell_type": "markdown",
   "metadata": {},
   "source": [
    "## Amtsperiode"
   ]
  },
  {
   "cell_type": "code",
   "execution_count": 13,
   "metadata": {},
   "outputs": [],
   "source": [
    "table_name = gs_db * \".offices\";\n",
    "sql = \"SELECT * FROM $(table_name)\n",
    "WHERE deleted = 0\";\n",
    "df_pr = Wds.sql_df(sql);"
   ]
  },
  {
   "cell_type": "code",
   "execution_count": 14,
   "metadata": {},
   "outputs": [],
   "source": [
    "Wds.clean_up!(df_pr);"
   ]
  },
  {
   "cell_type": "code",
   "execution_count": 15,
   "metadata": {},
   "outputs": [
    {
     "data": {
      "text/plain": [
       "(73471, 22)"
      ]
     },
     "execution_count": 15,
     "metadata": {},
     "output_type": "execute_result"
    }
   ],
   "source": [
    "size(df_pr)"
   ]
  },
  {
   "cell_type": "markdown",
   "metadata": {},
   "source": [
    "### Domherren zuordnen"
   ]
  },
  {
   "cell_type": "code",
   "execution_count": 16,
   "metadata": {},
   "outputs": [],
   "source": [
    "transform!(df_pr, :person_id => ByRow(string) => :id_in_source);"
   ]
  },
  {
   "cell_type": "code",
   "execution_count": 17,
   "metadata": {},
   "outputs": [],
   "source": [
    "table_name = \"item\";\n",
    "sql = \"SELECT id AS item_id, id_in_source FROM $(table_name) WHERE item_type_id = $(item_type_id)\";\n",
    "df_idx = Wds.sql_df(sql);"
   ]
  },
  {
   "cell_type": "code",
   "execution_count": 18,
   "metadata": {},
   "outputs": [
    {
     "data": {
      "text/plain": [
       "(9292,)"
      ]
     },
     "execution_count": 18,
     "metadata": {},
     "output_type": "execute_result"
    }
   ],
   "source": [
    "size(unique(df_idx.item_id))"
   ]
  },
  {
   "cell_type": "code",
   "execution_count": 19,
   "metadata": {},
   "outputs": [],
   "source": [
    "df_prp = innerjoin(df_pr, df_idx, on = :id_in_source);"
   ]
  },
  {
   "cell_type": "code",
   "execution_count": 20,
   "metadata": {},
   "outputs": [
    {
     "data": {
      "text/plain": [
       "9264"
      ]
     },
     "execution_count": 20,
     "metadata": {},
     "output_type": "execute_result"
    }
   ],
   "source": [
    "length(unique(df_prp.item_id))"
   ]
  },
  {
   "cell_type": "code",
   "execution_count": 21,
   "metadata": {},
   "outputs": [
    {
     "data": {
      "text/plain": [
       "((16449, 24), (9264,))"
      ]
     },
     "execution_count": 21,
     "metadata": {},
     "output_type": "execute_result"
    }
   ],
   "source": [
    "size(df_prp), size(unique(df_prp.person_id))"
   ]
  },
  {
   "cell_type": "code",
   "execution_count": 22,
   "metadata": {},
   "outputs": [
    {
     "data": {
      "text/plain": [
       "28-element Vector{Int32}:\n",
       " 483406\n",
       " 488530\n",
       " 488571\n",
       " 488572\n",
       " 488578\n",
       " 488580\n",
       " 488581\n",
       " 488583\n",
       " 488590\n",
       " 488591\n",
       " 488595\n",
       " 488597\n",
       " 488598\n",
       "      ⋮\n",
       " 488642\n",
       " 488648\n",
       " 488716\n",
       " 489275\n",
       " 489276\n",
       " 489277\n",
       " 489317\n",
       " 489327\n",
       " 489334\n",
       " 489338\n",
       " 489339\n",
       " 489346"
      ]
     },
     "execution_count": 22,
     "metadata": {},
     "output_type": "execute_result"
    }
   ],
   "source": [
    "person_id_mg_oc = setdiff(df_idx.item_id, df_prp.item_id)"
   ]
  },
  {
   "cell_type": "code",
   "execution_count": 23,
   "metadata": {},
   "outputs": [
    {
     "data": {
      "text/plain": [
       "\"(483406, 488530, 488571, 488572, 488578, 488580, 488581, 488583, 488590, 488591, 488595, 488597, 488598, 488628, 488629, 488630, 488642, 488648, 488716, 489275, 489276, 489277, 489317, 489327, 489334, 489338, 489339, 489346)\""
      ]
     },
     "execution_count": 23,
     "metadata": {},
     "output_type": "execute_result"
    }
   ],
   "source": [
    "str_mg = \"(\" * join(person_id_mg_oc, \", \") * \")\""
   ]
  },
  {
   "cell_type": "markdown",
   "metadata": {},
   "source": [
    "*2022-03-10* 14 Domherren sind ohne Amt. Das ist möglich, weil Domherren ergänzt werden, die referenziert werden von der Domherrendatenbank unabhängig von einem Amt  \n",
    "*2022-04-28* 17 Domherren sind ohne Amt  \n",
    "*2022-05-12* 20 Domherren sind ohne Amt  \n",
    "*2022-07-26* 20 Domherren sind ohne Amt  \n",
    "*2022-10-15* 23 Domherren sind ohne Amt\n",
    "*2022-10-19* 18 Domherren sind ohne Amt"
   ]
  },
  {
   "cell_type": "markdown",
   "metadata": {},
   "source": [
    "### Rollen/Ämter zuordnen"
   ]
  },
  {
   "cell_type": "code",
   "execution_count": 24,
   "metadata": {},
   "outputs": [],
   "source": [
    "table_name = \"role\"\n",
    "sql = \"SELECT name as role_name, role.id as role_id\n",
    "FROM $(table_name)\"\n",
    "df_role = Wds.sql_df(sql);"
   ]
  },
  {
   "cell_type": "code",
   "execution_count": 25,
   "metadata": {},
   "outputs": [],
   "source": [
    "df_prp = leftjoin(df_prp, df_role, on = :bezeichnung => :role_name, matchmissing = :notequal);"
   ]
  },
  {
   "cell_type": "code",
   "execution_count": 26,
   "metadata": {},
   "outputs": [],
   "source": [
    "df_mg_role_id = subset(df_prp, :role_id => ByRow(ismissing));"
   ]
  },
  {
   "cell_type": "code",
   "execution_count": 27,
   "metadata": {},
   "outputs": [
    {
     "data": {
      "text/plain": [
       "(16449, 1272)"
      ]
     },
     "execution_count": 27,
     "metadata": {},
     "output_type": "execute_result"
    }
   ],
   "source": [
    "size(df_prp, 1), size(df_mg_role_id, 1)"
   ]
  },
  {
   "cell_type": "markdown",
   "metadata": {},
   "source": [
    "*2022-01-20* Es gibt noch kein Mapping von Ämtern auf normierte Ämter. Die Suche der Webanwendung berücksichtigt aber auch die ursprünglichen Bezeichnungen (`person_role.role_name`)."
   ]
  },
  {
   "cell_type": "markdown",
   "metadata": {},
   "source": [
    "### Bistümer zuordnen"
   ]
  },
  {
   "cell_type": "code",
   "execution_count": 28,
   "metadata": {},
   "outputs": [],
   "source": [
    "sql = \"SELECT id AS diocese_id, name AS diocese_name FROM diocese\"\n",
    "df_dioc = Wds.sql_df(sql);"
   ]
  },
  {
   "cell_type": "code",
   "execution_count": 29,
   "metadata": {},
   "outputs": [],
   "source": [
    "df_prp = leftjoin(df_prp, df_dioc, on = :dioezese => :diocese_name, matchmissing = :notequal);"
   ]
  },
  {
   "cell_type": "markdown",
   "metadata": {},
   "source": [
    "### Instutionen zuordnen\n",
    "Klöster, Domstifte"
   ]
  },
  {
   "cell_type": "markdown",
   "metadata": {},
   "source": [
    "`klosterid` entspricht `institution.id_gsn`"
   ]
  },
  {
   "cell_type": "code",
   "execution_count": 30,
   "metadata": {},
   "outputs": [],
   "source": [
    "sql = \"SELECT id AS institution_id, name as institution_name, id_gsn FROM institution\"\n",
    "df_inst = Wds.sql_df(sql);"
   ]
  },
  {
   "cell_type": "code",
   "execution_count": 31,
   "metadata": {},
   "outputs": [
    {
     "data": {
      "text/plain": [
       "3-element Vector{String}:\n",
       " \"institution_id\"\n",
       " \"institution_name\"\n",
       " \"id_gsn\""
      ]
     },
     "execution_count": 31,
     "metadata": {},
     "output_type": "execute_result"
    }
   ],
   "source": [
    "names(df_inst)"
   ]
  },
  {
   "cell_type": "code",
   "execution_count": 32,
   "metadata": {},
   "outputs": [
    {
     "data": {
      "text/html": [
       "<div class=\"data-frame\"><p>6 rows × 3 columns</p><table class=\"data-frame\"><thead><tr><th></th><th>bezeichnung</th><th>klosterid</th><th>institution</th></tr><tr><th></th><th title=\"Union{Missing, String}\">String?</th><th title=\"Union{Missing, String}\">String?</th><th title=\"Union{Missing, String}\">String?</th></tr></thead><tbody><tr><th>1</th><td>Domherr</td><td>832</td><td>Domstift Hildesheim</td></tr><tr><th>2</th><td>Domherr</td><td>832</td><td>Domstift Hildesheim</td></tr><tr><th>3</th><td>Domherr</td><td>832</td><td>Domstift Hildesheim</td></tr><tr><th>4</th><td>Domherr</td><td>832</td><td>Domstift Hildesheim</td></tr><tr><th>5</th><td>Domherr</td><td>832</td><td>Domstift Hildesheim</td></tr><tr><th>6</th><td>Domherr</td><td>832</td><td>Domstift Hildesheim</td></tr></tbody></table></div>"
      ],
      "text/latex": [
       "\\begin{tabular}{r|ccc}\n",
       "\t& bezeichnung & klosterid & institution\\\\\n",
       "\t\\hline\n",
       "\t& String? & String? & String?\\\\\n",
       "\t\\hline\n",
       "\t1 & Domherr & 832 & Domstift Hildesheim \\\\\n",
       "\t2 & Domherr & 832 & Domstift Hildesheim \\\\\n",
       "\t3 & Domherr & 832 & Domstift Hildesheim \\\\\n",
       "\t4 & Domherr & 832 & Domstift Hildesheim \\\\\n",
       "\t5 & Domherr & 832 & Domstift Hildesheim \\\\\n",
       "\t6 & Domherr & 832 & Domstift Hildesheim \\\\\n",
       "\\end{tabular}\n"
      ],
      "text/plain": [
       "\u001b[1m6×3 DataFrame\u001b[0m\n",
       "\u001b[1m Row \u001b[0m│\u001b[1m bezeichnung \u001b[0m\u001b[1m klosterid \u001b[0m\u001b[1m institution         \u001b[0m\n",
       "\u001b[1m     \u001b[0m│\u001b[90m String?     \u001b[0m\u001b[90m String?   \u001b[0m\u001b[90m String?             \u001b[0m\n",
       "─────┼─────────────────────────────────────────────\n",
       "   1 │ Domherr      832        Domstift Hildesheim\n",
       "   2 │ Domherr      832        Domstift Hildesheim\n",
       "   3 │ Domherr      832        Domstift Hildesheim\n",
       "   4 │ Domherr      832        Domstift Hildesheim\n",
       "   5 │ Domherr      832        Domstift Hildesheim\n",
       "   6 │ Domherr      832        Domstift Hildesheim"
      ]
     },
     "execution_count": 32,
     "metadata": {},
     "output_type": "execute_result"
    }
   ],
   "source": [
    "df_prp[100:105, [:bezeichnung, :klosterid, :institution]]"
   ]
  },
  {
   "cell_type": "code",
   "execution_count": 33,
   "metadata": {},
   "outputs": [],
   "source": [
    "int_or_missing(x) = ismissing(x) ? missing : parse(Int, x);\n",
    "transform!(df_prp, :klosterid => ByRow(int_or_missing) => :klosterid);"
   ]
  },
  {
   "cell_type": "code",
   "execution_count": 34,
   "metadata": {},
   "outputs": [],
   "source": [
    "df_prp = leftjoin(df_prp, df_inst, on = :klosterid => :id_gsn, matchmissing = :notequal);"
   ]
  },
  {
   "cell_type": "code",
   "execution_count": 35,
   "metadata": {},
   "outputs": [
    {
     "data": {
      "text/html": [
       "<div class=\"data-frame\"><p>6 rows × 4 columns</p><table class=\"data-frame\"><thead><tr><th></th><th>bezeichnung</th><th>klosterid</th><th>institution</th><th>institution_id</th></tr><tr><th></th><th title=\"Union{Missing, String}\">String?</th><th title=\"Union{Missing, Int64}\">Int64?</th><th title=\"Union{Missing, String}\">String?</th><th title=\"Union{Missing, Int32}\">Int32?</th></tr></thead><tbody><tr><th>1</th><td>Domherr</td><td>2066</td><td>Domstift Schwerin</td><td>80300</td></tr><tr><th>2</th><td>Domherr</td><td>832</td><td>Domstift Hildesheim</td><td>80025</td></tr><tr><th>3</th><td>Domvikar</td><td>803</td><td>Domstift Osnabrück</td><td>79983</td></tr><tr><th>4</th><td>Domvikar</td><td>628</td><td>Domstift Münster</td><td>79825</td></tr><tr><th>5</th><td>Kanoniker</td><td>175</td><td>Stift St. Nikolaus</td><td>79532</td></tr><tr><th>6</th><td>Kanoniker</td><td>175</td><td>Stift St. Nikolaus</td><td>79532</td></tr></tbody></table></div>"
      ],
      "text/latex": [
       "\\begin{tabular}{r|cccc}\n",
       "\t& bezeichnung & klosterid & institution & institution\\_id\\\\\n",
       "\t\\hline\n",
       "\t& String? & Int64? & String? & Int32?\\\\\n",
       "\t\\hline\n",
       "\t1 & Domherr & 2066 & Domstift Schwerin & 80300 \\\\\n",
       "\t2 & Domherr & 832 & Domstift Hildesheim & 80025 \\\\\n",
       "\t3 & Domvikar & 803 & Domstift Osnabrück & 79983 \\\\\n",
       "\t4 & Domvikar & 628 & Domstift Münster & 79825 \\\\\n",
       "\t5 & Kanoniker & 175 & Stift St. Nikolaus & 79532 \\\\\n",
       "\t6 & Kanoniker & 175 & Stift St. Nikolaus & 79532 \\\\\n",
       "\\end{tabular}\n"
      ],
      "text/plain": [
       "\u001b[1m6×4 DataFrame\u001b[0m\n",
       "\u001b[1m Row \u001b[0m│\u001b[1m bezeichnung \u001b[0m\u001b[1m klosterid \u001b[0m\u001b[1m institution         \u001b[0m\u001b[1m institution_id \u001b[0m\n",
       "\u001b[1m     \u001b[0m│\u001b[90m String?     \u001b[0m\u001b[90m Int64?    \u001b[0m\u001b[90m String?             \u001b[0m\u001b[90m Int32?         \u001b[0m\n",
       "─────┼─────────────────────────────────────────────────────────────\n",
       "   1 │ Domherr           2066  Domstift Schwerin             80300\n",
       "   2 │ Domherr            832  Domstift Hildesheim           80025\n",
       "   3 │ Domvikar           803  Domstift Osnabrück            79983\n",
       "   4 │ Domvikar           628  Domstift Münster              79825\n",
       "   5 │ Kanoniker          175  Stift St. Nikolaus            79532\n",
       "   6 │ Kanoniker          175  Stift St. Nikolaus            79532"
      ]
     },
     "execution_count": 35,
     "metadata": {},
     "output_type": "execute_result"
    }
   ],
   "source": [
    "df_prp[100:105, [:bezeichnung, :klosterid, :institution, :institution_id]]"
   ]
  },
  {
   "cell_type": "markdown",
   "metadata": {},
   "source": [
    "### Numerische Daten eintragen"
   ]
  },
  {
   "cell_type": "code",
   "execution_count": 36,
   "metadata": {},
   "outputs": [],
   "source": [
    "num_date_begin(s_date) = Wds.parsemaybe(s_date, :lower)\n",
    "transform!(df_prp, :von => ByRow(num_date_begin) => :num_date_begin);"
   ]
  },
  {
   "cell_type": "code",
   "execution_count": 37,
   "metadata": {},
   "outputs": [],
   "source": [
    "num_date_end(s_date) = Wds.parsemaybe(s_date, :upper);\n",
    "transform!(df_prp, :bis => ByRow(num_date_end) => :num_date_end);"
   ]
  },
  {
   "cell_type": "code",
   "execution_count": 38,
   "metadata": {},
   "outputs": [],
   "source": [
    "transform!(df_prp, :bis => ByRow(Wds.parse_year_sort) => :date_sort_key);"
   ]
  },
  {
   "cell_type": "code",
   "execution_count": 39,
   "metadata": {},
   "outputs": [
    {
     "data": {
      "text/plain": [
       "update_col (generic function with 1 method)"
      ]
     },
     "execution_count": 39,
     "metadata": {},
     "output_type": "execute_result"
    }
   ],
   "source": [
    "function update_col(from, to)\n",
    "    cand = Wds.parse_year_sort(from)\n",
    "    if ismissing(to) || cand < to\n",
    "        return cand\n",
    "    else\n",
    "        return to\n",
    "    end\n",
    "end"
   ]
  },
  {
   "cell_type": "code",
   "execution_count": 40,
   "metadata": {},
   "outputs": [],
   "source": [
    "transform!(df_prp, [:von, :date_sort_key] => ByRow(update_col) => :date_sort_key);"
   ]
  },
  {
   "cell_type": "code",
   "execution_count": 41,
   "metadata": {},
   "outputs": [
    {
     "data": {
      "text/html": [
       "<div class=\"data-frame\"><p>8 rows × 7 columns</p><table class=\"data-frame\"><thead><tr><th></th><th>person_id</th><th>bezeichnung</th><th>von</th><th>num_date_begin</th><th>bis</th><th>num_date_end</th><th>date_sort_key</th></tr><tr><th></th><th title=\"Int32\">Int32</th><th title=\"Union{Missing, String}\">String?</th><th title=\"Union{Missing, String}\">String?</th><th title=\"Union{Missing, Int64}\">Int64?</th><th title=\"Union{Missing, String}\">String?</th><th title=\"Union{Missing, Int64}\">Int64?</th><th title=\"Int64\">Int64</th></tr></thead><tbody><tr><th>1</th><td>282802</td><td>Domherr</td><td>vor 1721</td><td>1671</td><td><em>missing</em></td><td><em>missing</em></td><td>1721100</td></tr><tr><th>2</th><td>282820</td><td>Kanoniker</td><td>vor 1797</td><td>1747</td><td><em>missing</em></td><td><em>missing</em></td><td>1797100</td></tr><tr><th>3</th><td>282820</td><td>Kanoniker</td><td>vor 1797</td><td>1747</td><td><em>missing</em></td><td><em>missing</em></td><td>1797100</td></tr><tr><th>4</th><td>228508</td><td>Kanoniker</td><td>1458</td><td>1458</td><td>1469</td><td>1469</td><td>1458150</td></tr><tr><th>5</th><td>282823</td><td>Domvikar</td><td>1387</td><td>1387</td><td>1421</td><td>1421</td><td>1387150</td></tr><tr><th>6</th><td>282823</td><td>Domherr</td><td>1417</td><td>1417</td><td>1421</td><td>1421</td><td>1417150</td></tr><tr><th>7</th><td>282827</td><td>Kanoniker</td><td>1473</td><td>1473</td><td><em>missing</em></td><td><em>missing</em></td><td>1473150</td></tr><tr><th>8</th><td>282827</td><td>Domvikar</td><td>1464</td><td>1464</td><td><em>missing</em></td><td><em>missing</em></td><td>1464150</td></tr></tbody></table></div>"
      ],
      "text/latex": [
       "\\begin{tabular}{r|ccccccc}\n",
       "\t& person\\_id & bezeichnung & von & num\\_date\\_begin & bis & num\\_date\\_end & date\\_sort\\_key\\\\\n",
       "\t\\hline\n",
       "\t& Int32 & String? & String? & Int64? & String? & Int64? & Int64\\\\\n",
       "\t\\hline\n",
       "\t1 & 282802 & Domherr & vor 1721 & 1671 & \\emph{missing} & \\emph{missing} & 1721100 \\\\\n",
       "\t2 & 282820 & Kanoniker & vor 1797 & 1747 & \\emph{missing} & \\emph{missing} & 1797100 \\\\\n",
       "\t3 & 282820 & Kanoniker & vor 1797 & 1747 & \\emph{missing} & \\emph{missing} & 1797100 \\\\\n",
       "\t4 & 228508 & Kanoniker & 1458 & 1458 & 1469 & 1469 & 1458150 \\\\\n",
       "\t5 & 282823 & Domvikar & 1387 & 1387 & 1421 & 1421 & 1387150 \\\\\n",
       "\t6 & 282823 & Domherr & 1417 & 1417 & 1421 & 1421 & 1417150 \\\\\n",
       "\t7 & 282827 & Kanoniker & 1473 & 1473 & \\emph{missing} & \\emph{missing} & 1473150 \\\\\n",
       "\t8 & 282827 & Domvikar & 1464 & 1464 & \\emph{missing} & \\emph{missing} & 1464150 \\\\\n",
       "\\end{tabular}\n"
      ],
      "text/plain": [
       "\u001b[1m8×7 DataFrame\u001b[0m\n",
       "\u001b[1m Row \u001b[0m│\u001b[1m person_id \u001b[0m\u001b[1m bezeichnung \u001b[0m\u001b[1m von      \u001b[0m\u001b[1m num_date_begin \u001b[0m\u001b[1m bis     \u001b[0m\u001b[1m num_date_end\u001b[0m ⋯\n",
       "\u001b[1m     \u001b[0m│\u001b[90m Int32     \u001b[0m\u001b[90m String?     \u001b[0m\u001b[90m String?  \u001b[0m\u001b[90m Int64?         \u001b[0m\u001b[90m String? \u001b[0m\u001b[90m Int64?      \u001b[0m ⋯\n",
       "─────┼──────────────────────────────────────────────────────────────────────────\n",
       "   1 │    282802  Domherr      vor 1721            1671 \u001b[90m missing \u001b[0m\u001b[90m      missing\u001b[0m ⋯\n",
       "   2 │    282820  Kanoniker    vor 1797            1747 \u001b[90m missing \u001b[0m\u001b[90m      missing\u001b[0m\n",
       "   3 │    282820  Kanoniker    vor 1797            1747 \u001b[90m missing \u001b[0m\u001b[90m      missing\u001b[0m\n",
       "   4 │    228508  Kanoniker    1458                1458  1469             1469\n",
       "   5 │    282823  Domvikar     1387                1387  1421             1421 ⋯\n",
       "   6 │    282823  Domherr      1417                1417  1421             1421\n",
       "   7 │    282827  Kanoniker    1473                1473 \u001b[90m missing \u001b[0m\u001b[90m      missing\u001b[0m\n",
       "   8 │    282827  Domvikar     1464                1464 \u001b[90m missing \u001b[0m\u001b[90m      missing\u001b[0m\n",
       "\u001b[36m                                                                1 column omitted\u001b[0m"
      ]
     },
     "execution_count": 41,
     "metadata": {},
     "output_type": "execute_result"
    }
   ],
   "source": [
    "df_prp[560:567, [:person_id, :bezeichnung, :von, :num_date_begin, :bis, :num_date_end, :date_sort_key]]"
   ]
  },
  {
   "cell_type": "code",
   "execution_count": 42,
   "metadata": {},
   "outputs": [
    {
     "data": {
      "text/plain": [
       "15934"
      ]
     },
     "execution_count": 42,
     "metadata": {},
     "output_type": "execute_result"
    }
   ],
   "source": [
    "count(!ismissing, df_prp.num_date_begin)"
   ]
  },
  {
   "cell_type": "markdown",
   "metadata": {},
   "source": [
    "Orte zuordnen. Dann sind Daten redundant in der Datenbank, das erleichtert aber die Suche.  \n",
    "*2022-02-28* Verfolge die Idee zunächst nicht weiter, sondern frage die Orte in der Anwendung ab."
   ]
  },
  {
   "cell_type": "markdown",
   "metadata": {},
   "source": [
    "Einträge für diesen Item_Typ löschen"
   ]
  },
  {
   "cell_type": "code",
   "execution_count": 43,
   "metadata": {},
   "outputs": [
    {
     "data": {
      "text/plain": [
       "6"
      ]
     },
     "execution_count": 43,
     "metadata": {},
     "output_type": "execute_result"
    }
   ],
   "source": [
    "item_type_id"
   ]
  },
  {
   "cell_type": "code",
   "execution_count": 44,
   "metadata": {},
   "outputs": [
    {
     "data": {
      "text/plain": [
       "MySQL.TextCursor{true}(MySQL.Connection(host=\"127.0.0.1\", user=\"georg\", port=\"3306\", db=\"wiag2\"), \"DELETE FROM person_role WHERE person_id IN \\n(SELECT id FROM item WHERE item_type_id = 6)\", 0, -1, 0, MySQL.API.MYSQL_RES(Ptr{Nothing} @0x0000000000000000), Symbol[], Type[], Dict{Symbol, Int64}(), 0, 1, false)"
      ]
     },
     "execution_count": 44,
     "metadata": {},
     "output_type": "execute_result"
    }
   ],
   "source": [
    "table_name = \"person_role\"\n",
    "sql = \"DELETE FROM $(table_name) WHERE person_id IN \n",
    "(SELECT id FROM item WHERE item_type_id = $(item_type_id))\"\n",
    "DBInterface.execute(Wds.dbwiag, sql)"
   ]
  },
  {
   "cell_type": "markdown",
   "metadata": {},
   "source": [
    "Daten schreiben\n",
    "\n",
    "Schreibe für alle Bistümer - auch für die identifizierten - den Namen des Bistums in die Tabelle.  \n",
    "Schreibe für alle Ämter - auch für die identifizieren - die Bezeichnung in die Tabelle.  \n",
    "Schreibe für alle Institutionen - auch für die identifizieren - die Bezeichnung in die Tabelle.  "
   ]
  },
  {
   "cell_type": "code",
   "execution_count": 45,
   "metadata": {},
   "outputs": [],
   "source": [
    "columns = [\n",
    "    :dioezese => :diocese_name,\n",
    "    :von => :date_begin,\n",
    "    :bis => :date_end,\n",
    "    :anmerkung => :note,\n",
    "    :bezeichnung => :role_name,\n",
    "    :item_id => :person_id,\n",
    "    :diocese_id => :diocese_id,\n",
    "    :role_id => :role_id,\n",
    "    :institution_id => :institution_id,\n",
    "    :institution_name => :institution_name,    \n",
    "    :num_date_begin => :num_date_begin,\n",
    "    :num_date_end => :num_date_end,\n",
    "    :date_sort_key => :date_sort_key\n",
    "];"
   ]
  },
  {
   "cell_type": "code",
   "execution_count": 46,
   "metadata": {},
   "outputs": [
    {
     "name": "stderr",
     "output_type": "stream",
     "text": [
      "┌ Info: 10000\n",
      "└ @ WiagDataSetup C:\\Users\\georg\\Documents\\projekte\\WiagDataSetup.jl\\src\\WiagDataSetup.jl:1193\n",
      "┌ Info: Rows inserted: 16449\n",
      "└ @ WiagDataSetup C:\\Users\\georg\\Documents\\projekte\\WiagDataSetup.jl\\src\\WiagDataSetup.jl:1216\n"
     ]
    },
    {
     "data": {
      "text/plain": [
       "16449"
      ]
     },
     "execution_count": 46,
     "metadata": {},
     "output_type": "execute_result"
    }
   ],
   "source": [
    "table_name = \"person_role\"\n",
    "Wds.filltable!(table_name, select(df_prp, columns))"
   ]
  },
  {
   "cell_type": "markdown",
   "metadata": {},
   "source": [
    "## Zeitspanne der Person"
   ]
  },
  {
   "cell_type": "code",
   "execution_count": 47,
   "metadata": {},
   "outputs": [],
   "source": [
    "table_name = \"item\"\n",
    "sql = \"SELECT id, num_date_birth, num_date_death\n",
    "FROM person WHERE id in (SELECT id FROM $(table_name) WHERE item_type_id = $(item_type_id))\"\n",
    "df_date = Wds.sql_df(sql);"
   ]
  },
  {
   "cell_type": "code",
   "execution_count": 48,
   "metadata": {},
   "outputs": [
    {
     "data": {
      "text/plain": [
       "(9292, 3)"
      ]
     },
     "execution_count": 48,
     "metadata": {},
     "output_type": "execute_result"
    }
   ],
   "source": [
    "size(df_date)"
   ]
  },
  {
   "cell_type": "markdown",
   "metadata": {},
   "source": [
    "Zeitspanne der Ämter"
   ]
  },
  {
   "cell_type": "code",
   "execution_count": 49,
   "metadata": {},
   "outputs": [
    {
     "data": {
      "text/html": [
       "<p><b>GroupedDataFrame with 9092 groups based on key: item_id</b></p><p><i>First Group (1 row): item_id = 480260</i></p><div class=\"data-frame\"><table class=\"data-frame\"><thead><tr><th></th><th>item_id</th><th>num_date_begin</th></tr><tr><th></th><th title=\"Int32\">Int32</th><th title=\"Int64\">Int64</th></tr></thead><tbody><tr><th>1</th><td>480260</td><td>1410</td></tr></tbody></table></div><p>&vellip;</p><p><i>Last Group (2 rows): item_id = 489551</i></p><div class=\"data-frame\"><table class=\"data-frame\"><thead><tr><th></th><th>item_id</th><th>num_date_begin</th></tr><tr><th></th><th title=\"Int32\">Int32</th><th title=\"Int64\">Int64</th></tr></thead><tbody><tr><th>1</th><td>489551</td><td>1436</td></tr><tr><th>2</th><td>489551</td><td>1435</td></tr></tbody></table></div>"
      ],
      "text/latex": [
       "GroupedDataFrame with 9092 groups based on key: item\\_id\n",
       "\n",
       "First Group (1 row): item\\_id = 480260\n",
       "\n",
       "\\begin{tabular}{r|cc}\n",
       "\t& item\\_id & num\\_date\\_begin\\\\\n",
       "\t\\hline\n",
       "\t& Int32 & Int64\\\\\n",
       "\t\\hline\n",
       "\t1 & 480260 & 1410 \\\\\n",
       "\\end{tabular}\n",
       "\n",
       "$\\dots$\n",
       "\n",
       "Last Group (2 rows): item\\_id = 489551\n",
       "\n",
       "\\begin{tabular}{r|cc}\n",
       "\t& item\\_id & num\\_date\\_begin\\\\\n",
       "\t\\hline\n",
       "\t& Int32 & Int64\\\\\n",
       "\t\\hline\n",
       "\t1 & 489551 & 1436 \\\\\n",
       "\t2 & 489551 & 1435 \\\\\n",
       "\\end{tabular}\n"
      ],
      "text/plain": [
       "GroupedDataFrame with 9092 groups based on key: item_id\n",
       "First Group (1 row): item_id = 480260\n",
       "\u001b[1m Row \u001b[0m│\u001b[1m item_id \u001b[0m\u001b[1m num_date_begin \u001b[0m\n",
       "\u001b[1m     \u001b[0m│\u001b[90m Int32   \u001b[0m\u001b[90m Int64          \u001b[0m\n",
       "─────┼─────────────────────────\n",
       "   1 │  480260            1410\n",
       "⋮\n",
       "Last Group (2 rows): item_id = 489551\n",
       "\u001b[1m Row \u001b[0m│\u001b[1m item_id \u001b[0m\u001b[1m num_date_begin \u001b[0m\n",
       "\u001b[1m     \u001b[0m│\u001b[90m Int32   \u001b[0m\u001b[90m Int64          \u001b[0m\n",
       "─────┼─────────────────────────\n",
       "   1 │  489551            1436\n",
       "   2 │  489551            1435"
      ]
     },
     "execution_count": 49,
     "metadata": {},
     "output_type": "execute_result"
    }
   ],
   "source": [
    "df_pr_begin_0 = dropmissing(df_prp, :num_date_begin)\n",
    "df_pr_begin = groupby(select(df_pr_begin_0, :item_id, :num_date_begin), :item_id)"
   ]
  },
  {
   "cell_type": "code",
   "execution_count": 50,
   "metadata": {},
   "outputs": [],
   "source": [
    "df_pr_date_min = combine(df_pr_begin, :num_date_begin => minimum => :date_min);"
   ]
  },
  {
   "cell_type": "code",
   "execution_count": 51,
   "metadata": {},
   "outputs": [
    {
     "data": {
      "text/plain": [
       "(9092, 2)"
      ]
     },
     "execution_count": 51,
     "metadata": {},
     "output_type": "execute_result"
    }
   ],
   "source": [
    "size(df_pr_date_min)"
   ]
  },
  {
   "cell_type": "code",
   "execution_count": 52,
   "metadata": {},
   "outputs": [
    {
     "data": {
      "text/html": [
       "<div class=\"data-frame\"><p>7 rows × 2 columns</p><table class=\"data-frame\"><thead><tr><th></th><th>item_id</th><th>date_min</th></tr><tr><th></th><th title=\"Int32\">Int32</th><th title=\"Int64\">Int64</th></tr></thead><tbody><tr><th>1</th><td>483398</td><td>1699</td></tr><tr><th>2</th><td>483399</td><td>1467</td></tr><tr><th>3</th><td>483400</td><td>1520</td></tr><tr><th>4</th><td>483401</td><td>1615</td></tr><tr><th>5</th><td>483402</td><td>1751</td></tr><tr><th>6</th><td>483403</td><td>1308</td></tr><tr><th>7</th><td>483404</td><td>1301</td></tr></tbody></table></div>"
      ],
      "text/latex": [
       "\\begin{tabular}{r|cc}\n",
       "\t& item\\_id & date\\_min\\\\\n",
       "\t\\hline\n",
       "\t& Int32 & Int64\\\\\n",
       "\t\\hline\n",
       "\t1 & 483398 & 1699 \\\\\n",
       "\t2 & 483399 & 1467 \\\\\n",
       "\t3 & 483400 & 1520 \\\\\n",
       "\t4 & 483401 & 1615 \\\\\n",
       "\t5 & 483402 & 1751 \\\\\n",
       "\t6 & 483403 & 1308 \\\\\n",
       "\t7 & 483404 & 1301 \\\\\n",
       "\\end{tabular}\n"
      ],
      "text/plain": [
       "\u001b[1m7×2 DataFrame\u001b[0m\n",
       "\u001b[1m Row \u001b[0m│\u001b[1m item_id \u001b[0m\u001b[1m date_min \u001b[0m\n",
       "\u001b[1m     \u001b[0m│\u001b[90m Int32   \u001b[0m\u001b[90m Int64    \u001b[0m\n",
       "─────┼───────────────────\n",
       "   1 │  483398      1699\n",
       "   2 │  483399      1467\n",
       "   3 │  483400      1520\n",
       "   4 │  483401      1615\n",
       "   5 │  483402      1751\n",
       "   6 │  483403      1308\n",
       "   7 │  483404      1301"
      ]
     },
     "execution_count": 52,
     "metadata": {},
     "output_type": "execute_result"
    }
   ],
   "source": [
    "df_pr_date_min[3015:3021, :]"
   ]
  },
  {
   "cell_type": "markdown",
   "metadata": {},
   "source": [
    "`date_max`"
   ]
  },
  {
   "cell_type": "code",
   "execution_count": 53,
   "metadata": {},
   "outputs": [
    {
     "data": {
      "text/html": [
       "<p><b>GroupedDataFrame with 5940 groups based on key: item_id</b></p><p><i>First Group (1 row): item_id = 480260</i></p><div class=\"data-frame\"><table class=\"data-frame\"><thead><tr><th></th><th>item_id</th><th>num_date_end</th></tr><tr><th></th><th title=\"Int32\">Int32</th><th title=\"Int64\">Int64</th></tr></thead><tbody><tr><th>1</th><td>480260</td><td>1411</td></tr></tbody></table></div><p>&vellip;</p><p><i>Last Group (2 rows): item_id = 489551</i></p><div class=\"data-frame\"><table class=\"data-frame\"><thead><tr><th></th><th>item_id</th><th>num_date_end</th></tr><tr><th></th><th title=\"Int32\">Int32</th><th title=\"Int64\">Int64</th></tr></thead><tbody><tr><th>1</th><td>489551</td><td>1452</td></tr><tr><th>2</th><td>489551</td><td>1452</td></tr></tbody></table></div>"
      ],
      "text/latex": [
       "GroupedDataFrame with 5940 groups based on key: item\\_id\n",
       "\n",
       "First Group (1 row): item\\_id = 480260\n",
       "\n",
       "\\begin{tabular}{r|cc}\n",
       "\t& item\\_id & num\\_date\\_end\\\\\n",
       "\t\\hline\n",
       "\t& Int32 & Int64\\\\\n",
       "\t\\hline\n",
       "\t1 & 480260 & 1411 \\\\\n",
       "\\end{tabular}\n",
       "\n",
       "$\\dots$\n",
       "\n",
       "Last Group (2 rows): item\\_id = 489551\n",
       "\n",
       "\\begin{tabular}{r|cc}\n",
       "\t& item\\_id & num\\_date\\_end\\\\\n",
       "\t\\hline\n",
       "\t& Int32 & Int64\\\\\n",
       "\t\\hline\n",
       "\t1 & 489551 & 1452 \\\\\n",
       "\t2 & 489551 & 1452 \\\\\n",
       "\\end{tabular}\n"
      ],
      "text/plain": [
       "GroupedDataFrame with 5940 groups based on key: item_id\n",
       "First Group (1 row): item_id = 480260\n",
       "\u001b[1m Row \u001b[0m│\u001b[1m item_id \u001b[0m\u001b[1m num_date_end \u001b[0m\n",
       "\u001b[1m     \u001b[0m│\u001b[90m Int32   \u001b[0m\u001b[90m Int64        \u001b[0m\n",
       "─────┼───────────────────────\n",
       "   1 │  480260          1411\n",
       "⋮\n",
       "Last Group (2 rows): item_id = 489551\n",
       "\u001b[1m Row \u001b[0m│\u001b[1m item_id \u001b[0m\u001b[1m num_date_end \u001b[0m\n",
       "\u001b[1m     \u001b[0m│\u001b[90m Int32   \u001b[0m\u001b[90m Int64        \u001b[0m\n",
       "─────┼───────────────────────\n",
       "   1 │  489551          1452\n",
       "   2 │  489551          1452"
      ]
     },
     "execution_count": 53,
     "metadata": {},
     "output_type": "execute_result"
    }
   ],
   "source": [
    "df_pr_end_value = dropmissing(df_prp, :num_date_end)\n",
    "df_pr_end = groupby(select(df_pr_end_value, :item_id, :num_date_end), :item_id)"
   ]
  },
  {
   "cell_type": "code",
   "execution_count": 54,
   "metadata": {},
   "outputs": [],
   "source": [
    "df_pr_date_max = combine(df_pr_end, :num_date_end => maximum => :date_max);"
   ]
  },
  {
   "cell_type": "code",
   "execution_count": 55,
   "metadata": {},
   "outputs": [
    {
     "data": {
      "text/plain": [
       "(5940, 2)"
      ]
     },
     "execution_count": 55,
     "metadata": {},
     "output_type": "execute_result"
    }
   ],
   "source": [
    "size(df_pr_date_max)"
   ]
  },
  {
   "cell_type": "code",
   "execution_count": 56,
   "metadata": {},
   "outputs": [
    {
     "data": {
      "text/html": [
       "<div class=\"data-frame\"><p>7 rows × 2 columns</p><table class=\"data-frame\"><thead><tr><th></th><th>item_id</th><th>date_max</th></tr><tr><th></th><th title=\"Int32\">Int32</th><th title=\"Int64\">Int64</th></tr></thead><tbody><tr><th>1</th><td>485507</td><td>1811</td></tr><tr><th>2</th><td>485508</td><td>1552</td></tr><tr><th>3</th><td>485509</td><td>1505</td></tr><tr><th>4</th><td>485511</td><td>1727</td></tr><tr><th>5</th><td>485512</td><td>1820</td></tr><tr><th>6</th><td>485513</td><td>1367</td></tr><tr><th>7</th><td>485514</td><td>1414</td></tr></tbody></table></div>"
      ],
      "text/latex": [
       "\\begin{tabular}{r|cc}\n",
       "\t& item\\_id & date\\_max\\\\\n",
       "\t\\hline\n",
       "\t& Int32 & Int64\\\\\n",
       "\t\\hline\n",
       "\t1 & 485507 & 1811 \\\\\n",
       "\t2 & 485508 & 1552 \\\\\n",
       "\t3 & 485509 & 1505 \\\\\n",
       "\t4 & 485511 & 1727 \\\\\n",
       "\t5 & 485512 & 1820 \\\\\n",
       "\t6 & 485513 & 1367 \\\\\n",
       "\t7 & 485514 & 1414 \\\\\n",
       "\\end{tabular}\n"
      ],
      "text/plain": [
       "\u001b[1m7×2 DataFrame\u001b[0m\n",
       "\u001b[1m Row \u001b[0m│\u001b[1m item_id \u001b[0m\u001b[1m date_max \u001b[0m\n",
       "\u001b[1m     \u001b[0m│\u001b[90m Int32   \u001b[0m\u001b[90m Int64    \u001b[0m\n",
       "─────┼───────────────────\n",
       "   1 │  485507      1811\n",
       "   2 │  485508      1552\n",
       "   3 │  485509      1505\n",
       "   4 │  485511      1727\n",
       "   5 │  485512      1820\n",
       "   6 │  485513      1367\n",
       "   7 │  485514      1414"
      ]
     },
     "execution_count": 56,
     "metadata": {},
     "output_type": "execute_result"
    }
   ],
   "source": [
    "df_pr_date_max[3015:3021, :]"
   ]
  },
  {
   "cell_type": "code",
   "execution_count": 57,
   "metadata": {},
   "outputs": [],
   "source": [
    "df_date = leftjoin(df_date, df_pr_date_min, on = :id => :item_id);"
   ]
  },
  {
   "cell_type": "code",
   "execution_count": 58,
   "metadata": {},
   "outputs": [],
   "source": [
    "df_date = leftjoin(df_date, df_pr_date_max, on = :id => :item_id);"
   ]
  },
  {
   "cell_type": "code",
   "execution_count": 59,
   "metadata": {},
   "outputs": [
    {
     "data": {
      "text/plain": [
       "5-element Vector{String}:\n",
       " \"id\"\n",
       " \"num_date_birth\"\n",
       " \"num_date_death\"\n",
       " \"date_min\"\n",
       " \"date_max\""
      ]
     },
     "execution_count": 59,
     "metadata": {},
     "output_type": "execute_result"
    }
   ],
   "source": [
    "names(df_date)"
   ]
  },
  {
   "cell_type": "code",
   "execution_count": 60,
   "metadata": {},
   "outputs": [
    {
     "data": {
      "text/plain": [
       "((9292, 5), 9092, 5940)"
      ]
     },
     "execution_count": 60,
     "metadata": {},
     "output_type": "execute_result"
    }
   ],
   "source": [
    "size(df_date), count(!ismissing, df_date.date_min), count(!ismissing, df_date.date_max)"
   ]
  },
  {
   "cell_type": "markdown",
   "metadata": {},
   "source": [
    "Geburts- und Sterbedatum  \n",
    "Geburts- und Sterbedaten - so vorhanden - können die Zeitspanne nur verkürzen!"
   ]
  },
  {
   "cell_type": "code",
   "execution_count": 61,
   "metadata": {},
   "outputs": [],
   "source": [
    "min_may_be(x, y) = ismissing(x) ? y : (ismissing(y) ? x : min(x, y));\n",
    "max_may_be(x, y) = ismissing(x) ? y : (ismissing(y) ? x : max(x, y));"
   ]
  },
  {
   "cell_type": "code",
   "execution_count": 62,
   "metadata": {},
   "outputs": [],
   "source": [
    "transform!(df_date, [:date_min, :num_date_birth] => ByRow(max_may_be) => :date_min); # sic!"
   ]
  },
  {
   "cell_type": "code",
   "execution_count": 63,
   "metadata": {},
   "outputs": [],
   "source": [
    "transform!(df_date, [:date_max, :num_date_death] => ByRow(min_may_be) => :date_max); # sic!"
   ]
  },
  {
   "cell_type": "markdown",
   "metadata": {},
   "source": [
    "Übernimm' den jeweils gültigen Wert für fehlende Daten"
   ]
  },
  {
   "cell_type": "code",
   "execution_count": 64,
   "metadata": {},
   "outputs": [],
   "source": [
    "get_first_not_missing(x, y) = !ismissing(x) ? x : y;"
   ]
  },
  {
   "cell_type": "code",
   "execution_count": 65,
   "metadata": {},
   "outputs": [],
   "source": [
    "transform!(df_date, [:date_min, :date_max] => ByRow(get_first_not_missing) => :date_min);"
   ]
  },
  {
   "cell_type": "code",
   "execution_count": 66,
   "metadata": {},
   "outputs": [],
   "source": [
    "transform!(df_date, [:date_max, :date_min] => ByRow(get_first_not_missing) => :date_max);"
   ]
  },
  {
   "cell_type": "markdown",
   "metadata": {},
   "source": [
    "Damit sind Einträge mit fehlenden Daten entbehrlich"
   ]
  },
  {
   "cell_type": "code",
   "execution_count": 67,
   "metadata": {},
   "outputs": [],
   "source": [
    "dropmissing!(df_date, :date_min);"
   ]
  },
  {
   "cell_type": "code",
   "execution_count": 68,
   "metadata": {},
   "outputs": [
    {
     "data": {
      "text/plain": [
       "(9115, 5)"
      ]
     },
     "execution_count": 68,
     "metadata": {},
     "output_type": "execute_result"
    }
   ],
   "source": [
    "size(df_date)"
   ]
  },
  {
   "cell_type": "markdown",
   "metadata": {},
   "source": [
    "Trage die geänderten Daten ein"
   ]
  },
  {
   "cell_type": "code",
   "execution_count": 69,
   "metadata": {},
   "outputs": [
    {
     "data": {
      "text/plain": [
       "5-element Vector{String}:\n",
       " \"id\"\n",
       " \"num_date_birth\"\n",
       " \"num_date_death\"\n",
       " \"date_min\"\n",
       " \"date_max\""
      ]
     },
     "execution_count": 69,
     "metadata": {},
     "output_type": "execute_result"
    }
   ],
   "source": [
    "names(df_date)"
   ]
  },
  {
   "cell_type": "code",
   "execution_count": 70,
   "metadata": {},
   "outputs": [
    {
     "data": {
      "text/html": [
       "<div class=\"data-frame\"><p>5 rows × 5 columns</p><table class=\"data-frame\"><thead><tr><th></th><th>id</th><th>num_date_birth</th><th>num_date_death</th><th>date_min</th><th>date_max</th></tr><tr><th></th><th title=\"Int32\">Int32</th><th title=\"Union{Missing, Int32}\">Int32?</th><th title=\"Union{Missing, Int32}\">Int32?</th><th title=\"Signed\">Signed</th><th title=\"Union{Missing, Signed}\">Signed?</th></tr></thead><tbody><tr><th>1</th><td>480694</td><td><em>missing</em></td><td><em>missing</em></td><td>1503</td><td>1537</td></tr><tr><th>2</th><td>480695</td><td><em>missing</em></td><td><em>missing</em></td><td>1196</td><td>1200</td></tr><tr><th>3</th><td>480699</td><td><em>missing</em></td><td><em>missing</em></td><td>1351</td><td>1371</td></tr><tr><th>4</th><td>480700</td><td><em>missing</em></td><td><em>missing</em></td><td>968</td><td>1005</td></tr><tr><th>5</th><td>480701</td><td><em>missing</em></td><td>1498</td><td>1448</td><td>1498</td></tr></tbody></table></div>"
      ],
      "text/latex": [
       "\\begin{tabular}{r|ccccc}\n",
       "\t& id & num\\_date\\_birth & num\\_date\\_death & date\\_min & date\\_max\\\\\n",
       "\t\\hline\n",
       "\t& Int32 & Int32? & Int32? & Signed & Signed?\\\\\n",
       "\t\\hline\n",
       "\t1 & 480694 & \\emph{missing} & \\emph{missing} & 1503 & 1537 \\\\\n",
       "\t2 & 480695 & \\emph{missing} & \\emph{missing} & 1196 & 1200 \\\\\n",
       "\t3 & 480699 & \\emph{missing} & \\emph{missing} & 1351 & 1371 \\\\\n",
       "\t4 & 480700 & \\emph{missing} & \\emph{missing} & 968 & 1005 \\\\\n",
       "\t5 & 480701 & \\emph{missing} & 1498 & 1448 & 1498 \\\\\n",
       "\\end{tabular}\n"
      ],
      "text/plain": [
       "\u001b[1m5×5 DataFrame\u001b[0m\n",
       "\u001b[1m Row \u001b[0m│\u001b[1m id     \u001b[0m\u001b[1m num_date_birth \u001b[0m\u001b[1m num_date_death \u001b[0m\u001b[1m date_min \u001b[0m\u001b[1m date_max \u001b[0m\n",
       "\u001b[1m     \u001b[0m│\u001b[90m Int32  \u001b[0m\u001b[90m Int32?         \u001b[0m\u001b[90m Int32?         \u001b[0m\u001b[90m Signed   \u001b[0m\u001b[90m Signed?  \u001b[0m\n",
       "─────┼────────────────────────────────────────────────────────────\n",
       "   1 │ 480694 \u001b[90m        missing \u001b[0m\u001b[90m        missing \u001b[0m     1503      1537\n",
       "   2 │ 480695 \u001b[90m        missing \u001b[0m\u001b[90m        missing \u001b[0m     1196      1200\n",
       "   3 │ 480699 \u001b[90m        missing \u001b[0m\u001b[90m        missing \u001b[0m     1351      1371\n",
       "   4 │ 480700 \u001b[90m        missing \u001b[0m\u001b[90m        missing \u001b[0m      968      1005\n",
       "   5 │ 480701 \u001b[90m        missing \u001b[0m           1498      1448      1498"
      ]
     },
     "execution_count": 70,
     "metadata": {},
     "output_type": "execute_result"
    }
   ],
   "source": [
    "df_date[206:210, :]"
   ]
  },
  {
   "cell_type": "code",
   "execution_count": 71,
   "metadata": {},
   "outputs": [
    {
     "data": {
      "text/plain": [
       "(0, 0, 0)"
      ]
     },
     "execution_count": 71,
     "metadata": {},
     "output_type": "execute_result"
    }
   ],
   "source": [
    "count(ismissing, df_date.date_min), count(ismissing, df_date.date_max), count(ismissing, df_date.id)"
   ]
  },
  {
   "cell_type": "code",
   "execution_count": 72,
   "metadata": {},
   "outputs": [
    {
     "data": {
      "text/plain": [
       "(480260, 489551)"
      ]
     },
     "execution_count": 72,
     "metadata": {},
     "output_type": "execute_result"
    }
   ],
   "source": [
    "extrema(df_date.id)"
   ]
  },
  {
   "cell_type": "code",
   "execution_count": 73,
   "metadata": {},
   "outputs": [
    {
     "data": {
      "text/html": [
       "<div class=\"data-frame\"><p>5 rows × 7 columns</p><table class=\"data-frame\"><thead><tr><th></th><th>variable</th><th>mean</th><th>min</th><th>median</th><th>max</th><th>nmissing</th><th>eltype</th></tr><tr><th></th><th title=\"Symbol\">Symbol</th><th title=\"Float64\">Float64</th><th title=\"Signed\">Signed</th><th title=\"Float64\">Float64</th><th title=\"Signed\">Signed</th><th title=\"Int64\">Int64</th><th title=\"Type\">Type</th></tr></thead><tbody><tr><th>1</th><td>id</td><td>4.84944e5</td><td>480260</td><td>484973.0</td><td>489551</td><td>0</td><td>Int32</td></tr><tr><th>2</th><td>num_date_birth</td><td>1639.68</td><td>925</td><td>1679.0</td><td>1845</td><td>7922</td><td>Union{Missing, Int32}</td></tr><tr><th>3</th><td>num_date_death</td><td>1543.21</td><td>794</td><td>1553.0</td><td>1932</td><td>5082</td><td>Union{Missing, Int32}</td></tr><tr><th>4</th><td>date_min</td><td>1459.96</td><td>732</td><td>1464.0</td><td>1882</td><td>0</td><td>Signed</td></tr><tr><th>5</th><td>date_max</td><td>1478.87</td><td>768</td><td>1485.0</td><td>1932</td><td>0</td><td>Union{Missing, Signed}</td></tr></tbody></table></div>"
      ],
      "text/latex": [
       "\\begin{tabular}{r|ccccccc}\n",
       "\t& variable & mean & min & median & max & nmissing & eltype\\\\\n",
       "\t\\hline\n",
       "\t& Symbol & Float64 & Signed & Float64 & Signed & Int64 & Type\\\\\n",
       "\t\\hline\n",
       "\t1 & id & 4.84944e5 & 480260 & 484973.0 & 489551 & 0 & Int32 \\\\\n",
       "\t2 & num\\_date\\_birth & 1639.68 & 925 & 1679.0 & 1845 & 7922 & Union\\{Missing, Int32\\} \\\\\n",
       "\t3 & num\\_date\\_death & 1543.21 & 794 & 1553.0 & 1932 & 5082 & Union\\{Missing, Int32\\} \\\\\n",
       "\t4 & date\\_min & 1459.96 & 732 & 1464.0 & 1882 & 0 & Signed \\\\\n",
       "\t5 & date\\_max & 1478.87 & 768 & 1485.0 & 1932 & 0 & Union\\{Missing, Signed\\} \\\\\n",
       "\\end{tabular}\n"
      ],
      "text/plain": [
       "\u001b[1m5×7 DataFrame\u001b[0m\n",
       "\u001b[1m Row \u001b[0m│\u001b[1m variable       \u001b[0m\u001b[1m mean         \u001b[0m\u001b[1m min    \u001b[0m\u001b[1m median   \u001b[0m\u001b[1m max    \u001b[0m\u001b[1m nmissing \u001b[0m\u001b[1m eltyp\u001b[0m ⋯\n",
       "\u001b[1m     \u001b[0m│\u001b[90m Symbol         \u001b[0m\u001b[90m Float64      \u001b[0m\u001b[90m Signed \u001b[0m\u001b[90m Float64  \u001b[0m\u001b[90m Signed \u001b[0m\u001b[90m Int64    \u001b[0m\u001b[90m Type \u001b[0m ⋯\n",
       "─────┼──────────────────────────────────────────────────────────────────────────\n",
       "   1 │ id                 4.84944e5  480260  484973.0  489551         0  Int32 ⋯\n",
       "   2 │ num_date_birth  1639.68          925    1679.0    1845      7922  Union\n",
       "   3 │ num_date_death  1543.21          794    1553.0    1932      5082  Union\n",
       "   4 │ date_min        1459.96          732    1464.0    1882         0  Signe\n",
       "   5 │ date_max        1478.87          768    1485.0    1932         0  Union ⋯\n",
       "\u001b[36m                                                                1 column omitted\u001b[0m"
      ]
     },
     "execution_count": 73,
     "metadata": {},
     "output_type": "execute_result"
    }
   ],
   "source": [
    "describe(df_date)"
   ]
  },
  {
   "cell_type": "code",
   "execution_count": 74,
   "metadata": {},
   "outputs": [],
   "source": [
    "stmt = DBInterface.prepare(Wds.dbwiag, \"UPDATE person SET date_min = ?, date_max = ? WHERE id = ?\");"
   ]
  },
  {
   "cell_type": "code",
   "execution_count": 75,
   "metadata": {},
   "outputs": [
    {
     "data": {
      "text/plain": [
       "9116"
      ]
     },
     "execution_count": 75,
     "metadata": {},
     "output_type": "execute_result"
    }
   ],
   "source": [
    "n_loop = 1\n",
    "for row in eachrow(df_date)\n",
    "    date_min, date_max, id = Int64.(Tuple(row[[:date_min, :date_max, :id]]))\n",
    "    DBInterface.execute(stmt, (date_min, date_max, id))\n",
    "    n_loop += 1\n",
    "end\n",
    "n_loop"
   ]
  },
  {
   "cell_type": "code",
   "execution_count": 76,
   "metadata": {},
   "outputs": [],
   "source": [
    "DBInterface.close!(stmt)"
   ]
  },
  {
   "cell_type": "markdown",
   "metadata": {},
   "source": [
    "Alternativen: Update über eine eigene Tabelle"
   ]
  },
  {
   "cell_type": "code",
   "execution_count": 71,
   "metadata": {},
   "outputs": [
    {
     "data": {
      "text/plain": [
       "MySQL.TextCursor{true}(MySQL.Connection(host=\"127.0.0.1\", user=\"georg\", port=\"3306\", db=\"wiag2\"), \"DROP TABLE IF EXISTS date_update\", 0, -1, 0, MySQL.API.MYSQL_RES(Ptr{Nothing} @0x0000000000000000), Symbol[], Type[], Dict{Symbol, Int64}(), 0, 1, false)"
      ]
     },
     "execution_count": 71,
     "metadata": {},
     "output_type": "execute_result"
    }
   ],
   "source": [
    "sql = \"DROP TABLE IF EXISTS date_update\"\n",
    "DBInterface.execute(Wds.dbwiag, sql)"
   ]
  },
  {
   "cell_type": "code",
   "execution_count": 72,
   "metadata": {},
   "outputs": [
    {
     "data": {
      "text/plain": [
       "MySQL.TextCursor{true}(MySQL.Connection(host=\"127.0.0.1\", user=\"georg\", port=\"3306\", db=\"wiag2\"), \"CREATE TEMPORARY TABLE date_update (id INT, date_min INT, date_max INT) \\nENGINE=InnoDB DEFAULT CHARSET=utf8;\", 0, -1, 0, MySQL.API.MYSQL_RES(Ptr{Nothing} @0x0000000000000000), Symbol[], Type[], Dict{Symbol, Int64}(), 0, 1, false)"
      ]
     },
     "execution_count": 72,
     "metadata": {},
     "output_type": "execute_result"
    }
   ],
   "source": [
    "sql = \"CREATE TEMPORARY TABLE date_update (id INT, date_min INT, date_max INT) \n",
    "ENGINE=InnoDB DEFAULT CHARSET=utf8;\";\n",
    "DBInterface.execute(Wds.dbwiag, sql)"
   ]
  },
  {
   "cell_type": "code",
   "execution_count": 73,
   "metadata": {},
   "outputs": [
    {
     "data": {
      "text/plain": [
       "5-element Vector{String}:\n",
       " \"id\"\n",
       " \"num_date_birth\"\n",
       " \"num_date_death\"\n",
       " \"date_min\"\n",
       " \"date_max\""
      ]
     },
     "execution_count": 73,
     "metadata": {},
     "output_type": "execute_result"
    }
   ],
   "source": [
    "names(df_date)"
   ]
  },
  {
   "cell_type": "code",
   "execution_count": 74,
   "metadata": {},
   "outputs": [
    {
     "data": {
      "text/plain": [
       "3-element Vector{Pair{Symbol, Symbol}}:\n",
       "       :id => :id\n",
       " :date_min => :date_min\n",
       " :date_max => :date_max"
      ]
     },
     "execution_count": 74,
     "metadata": {},
     "output_type": "execute_result"
    }
   ],
   "source": [
    "columns = [\n",
    "    :id => :id,\n",
    "    :date_min => :date_min,\n",
    "    :date_max => :date_max\n",
    "]"
   ]
  },
  {
   "cell_type": "code",
   "execution_count": 75,
   "metadata": {},
   "outputs": [
    {
     "data": {
      "text/html": [
       "<div class=\"data-frame\"><p>10 rows × 5 columns</p><table class=\"data-frame\"><thead><tr><th></th><th>id</th><th>num_date_birth</th><th>num_date_death</th><th>date_min</th><th>date_max</th></tr><tr><th></th><th title=\"Int32\">Int32</th><th title=\"Union{Missing, Int32}\">Int32?</th><th title=\"Union{Missing, Int32}\">Int32?</th><th title=\"Signed\">Signed</th><th title=\"Union{Missing, Signed}\">Signed?</th></tr></thead><tbody><tr><th>1</th><td>301939</td><td><em>missing</em></td><td><em>missing</em></td><td>1410</td><td>1411</td></tr><tr><th>2</th><td>301940</td><td><em>missing</em></td><td><em>missing</em></td><td>1543</td><td>1588</td></tr><tr><th>3</th><td>301950</td><td><em>missing</em></td><td><em>missing</em></td><td>1208</td><td>1209</td></tr><tr><th>4</th><td>301951</td><td><em>missing</em></td><td><em>missing</em></td><td>1233</td><td>1284</td></tr><tr><th>5</th><td>301952</td><td><em>missing</em></td><td>1341</td><td>1324</td><td>1341</td></tr><tr><th>6</th><td>301954</td><td><em>missing</em></td><td><em>missing</em></td><td>1469</td><td>1472</td></tr><tr><th>7</th><td>301958</td><td><em>missing</em></td><td><em>missing</em></td><td>1522</td><td>1535</td></tr><tr><th>8</th><td>301960</td><td><em>missing</em></td><td>1527</td><td>1464</td><td>1527</td></tr><tr><th>9</th><td>301961</td><td><em>missing</em></td><td>1397</td><td>1373</td><td>1397</td></tr><tr><th>10</th><td>301968</td><td><em>missing</em></td><td><em>missing</em></td><td>1503</td><td>1533</td></tr></tbody></table></div>"
      ],
      "text/latex": [
       "\\begin{tabular}{r|ccccc}\n",
       "\t& id & num\\_date\\_birth & num\\_date\\_death & date\\_min & date\\_max\\\\\n",
       "\t\\hline\n",
       "\t& Int32 & Int32? & Int32? & Signed & Signed?\\\\\n",
       "\t\\hline\n",
       "\t1 & 301939 & \\emph{missing} & \\emph{missing} & 1410 & 1411 \\\\\n",
       "\t2 & 301940 & \\emph{missing} & \\emph{missing} & 1543 & 1588 \\\\\n",
       "\t3 & 301950 & \\emph{missing} & \\emph{missing} & 1208 & 1209 \\\\\n",
       "\t4 & 301951 & \\emph{missing} & \\emph{missing} & 1233 & 1284 \\\\\n",
       "\t5 & 301952 & \\emph{missing} & 1341 & 1324 & 1341 \\\\\n",
       "\t6 & 301954 & \\emph{missing} & \\emph{missing} & 1469 & 1472 \\\\\n",
       "\t7 & 301958 & \\emph{missing} & \\emph{missing} & 1522 & 1535 \\\\\n",
       "\t8 & 301960 & \\emph{missing} & 1527 & 1464 & 1527 \\\\\n",
       "\t9 & 301961 & \\emph{missing} & 1397 & 1373 & 1397 \\\\\n",
       "\t10 & 301968 & \\emph{missing} & \\emph{missing} & 1503 & 1533 \\\\\n",
       "\\end{tabular}\n"
      ],
      "text/plain": [
       "\u001b[1m10×5 DataFrame\u001b[0m\n",
       "\u001b[1m Row \u001b[0m│\u001b[1m id     \u001b[0m\u001b[1m num_date_birth \u001b[0m\u001b[1m num_date_death \u001b[0m\u001b[1m date_min \u001b[0m\u001b[1m date_max \u001b[0m\n",
       "\u001b[1m     \u001b[0m│\u001b[90m Int32  \u001b[0m\u001b[90m Int32?         \u001b[0m\u001b[90m Int32?         \u001b[0m\u001b[90m Signed   \u001b[0m\u001b[90m Signed?  \u001b[0m\n",
       "─────┼────────────────────────────────────────────────────────────\n",
       "   1 │ 301939 \u001b[90m        missing \u001b[0m\u001b[90m        missing \u001b[0m     1410      1411\n",
       "   2 │ 301940 \u001b[90m        missing \u001b[0m\u001b[90m        missing \u001b[0m     1543      1588\n",
       "   3 │ 301950 \u001b[90m        missing \u001b[0m\u001b[90m        missing \u001b[0m     1208      1209\n",
       "   4 │ 301951 \u001b[90m        missing \u001b[0m\u001b[90m        missing \u001b[0m     1233      1284\n",
       "   5 │ 301952 \u001b[90m        missing \u001b[0m           1341      1324      1341\n",
       "   6 │ 301954 \u001b[90m        missing \u001b[0m\u001b[90m        missing \u001b[0m     1469      1472\n",
       "   7 │ 301958 \u001b[90m        missing \u001b[0m\u001b[90m        missing \u001b[0m     1522      1535\n",
       "   8 │ 301960 \u001b[90m        missing \u001b[0m           1527      1464      1527\n",
       "   9 │ 301961 \u001b[90m        missing \u001b[0m           1397      1373      1397\n",
       "  10 │ 301968 \u001b[90m        missing \u001b[0m\u001b[90m        missing \u001b[0m     1503      1533"
      ]
     },
     "execution_count": 75,
     "metadata": {},
     "output_type": "execute_result"
    }
   ],
   "source": [
    "df_date[1:10, :]"
   ]
  },
  {
   "cell_type": "markdown",
   "metadata": {},
   "source": [
    "*2022-02-20* nicht zu identifizierender Fehler: UndefRefError: access to undefined reference mit `Wds.filltable!`\n",
    "\n",
    "Alternative, direkte Schleife"
   ]
  },
  {
   "cell_type": "code",
   "execution_count": 76,
   "metadata": {},
   "outputs": [
    {
     "name": "stderr",
     "output_type": "stream",
     "text": [
      "┌ Info: Datensatz\n",
      "│   i = 2000\n",
      "└ @ Main In[76]:8\n",
      "┌ Info: Datensatz\n",
      "│   i = 4000\n",
      "└ @ Main In[76]:8\n",
      "┌ Info: Datensatz\n",
      "│   i = 6000\n",
      "└ @ Main In[76]:8\n",
      "┌ Info: Datensatz\n",
      "│   i = 8000\n",
      "└ @ Main In[76]:8\n"
     ]
    }
   ],
   "source": [
    "table_name = \"date_update\";\n",
    "step_msg = 2000;\n",
    "for (i, row) in enumerate(eachrow(df_date))\n",
    "    sql = \"INSERT INTO $(table_name) \" *\n",
    "    \"VALUES ($(row[:id]), $(row[:date_min]), $(row[:date_max]))\"\n",
    "    DBInterface.execute(Wds.dbwiag, sql)\n",
    "    if i % step_msg == 0\n",
    "        @info \"Datensatz\" i\n",
    "    end\n",
    "end"
   ]
  },
  {
   "cell_type": "code",
   "execution_count": 77,
   "metadata": {},
   "outputs": [
    {
     "data": {
      "text/plain": [
       "MySQL.TextCursor{true}(MySQL.Connection(host=\"127.0.0.1\", user=\"georg\", port=\"3306\", db=\"wiag2\"), \"UPDATE person AS p, \\n(SELECT id, date_min, date_max FROM date_update) AS du\\nSET p.date_min = du.date_min, p.date_max = du.date_max\\nWHERE p.id = du.id\", 0, -1, 8786, MySQL.API.MYSQL_RES(Ptr{Nothing} @0x0000000000000000), Symbol[], Type[], Dict{Symbol, Int64}(), 0, 1, false)"
      ]
     },
     "execution_count": 77,
     "metadata": {},
     "output_type": "execute_result"
    }
   ],
   "source": [
    "sql = \"UPDATE person AS p, \n",
    "(SELECT id, date_min, date_max FROM date_update) AS du\n",
    "SET p.date_min = du.date_min, p.date_max = du.date_max\n",
    "WHERE p.id = du.id\";\n",
    "DBInterface.execute(Wds.dbwiag, sql)"
   ]
  },
  {
   "cell_type": "code",
   "execution_count": null,
   "metadata": {},
   "outputs": [],
   "source": []
  },
  {
   "cell_type": "markdown",
   "metadata": {},
   "source": [
    "## Sortierung der Person nach Amt\n",
    "Die Tabelle `person_display_order` ist eine technische Hilfstabelle, um die Abfragen in Doctrine zu vereinfachen oder überhaupt erst zu ermöglichen. Jede Person erhält für jedes Bistum einen Sortierschlüssel und einen weiteren unabhängig vom Bistum.\n",
    "\n",
    "*2022-01-17* Verzichte zunächst auf diese Tabelle und löse das Problem in der Web-Anwendung. So bleibt das Datenmodell schlanker."
   ]
  },
  {
   "cell_type": "code",
   "execution_count": 45,
   "metadata": {},
   "outputs": [],
   "source": [
    "using MySQL, DataFrames"
   ]
  },
  {
   "cell_type": "markdown",
   "metadata": {},
   "source": [
    "Sortierung unabhängig von einer Diözese. Es werden auch Ämter berücksichtigt, die nicht mit einer Diözese verbunden sind."
   ]
  },
  {
   "cell_type": "code",
   "execution_count": 48,
   "metadata": {},
   "outputs": [],
   "source": [
    "sql = \"SELECT person_id, 'any' as diocese, min(display_order) as display_order \" *\n",
    "\"FROM person_role GROUP BY person_id\";\n",
    "df_do = db_exec(sql);"
   ]
  },
  {
   "cell_type": "code",
   "execution_count": 49,
   "metadata": {},
   "outputs": [
    {
     "data": {
      "text/plain": [
       "(5159, 3)"
      ]
     },
     "execution_count": 49,
     "metadata": {},
     "output_type": "execute_result"
    }
   ],
   "source": [
    "size(df_do)"
   ]
  },
  {
   "cell_type": "markdown",
   "metadata": {},
   "source": [
    "Zwölf Bischöfe haben kein Amt!?"
   ]
  },
  {
   "cell_type": "code",
   "execution_count": 50,
   "metadata": {},
   "outputs": [
    {
     "name": "stderr",
     "output_type": "stream",
     "text": [
      "┌ Info: Rows inserted: 5159\n",
      "└ @ WiagDataSetup C:\\Users\\Georg\\Documents\\projekte\\WiagDataSetup.jl\\src\\WiagDataSetup.jl:1169\n"
     ]
    },
    {
     "data": {
      "text/plain": [
       "5159"
      ]
     },
     "execution_count": 50,
     "metadata": {},
     "output_type": "execute_result"
    }
   ],
   "source": [
    "table_dst = \"person_display_order\"\n",
    "Wds.filltable!(table_dst, df_do)"
   ]
  },
  {
   "cell_type": "markdown",
   "metadata": {},
   "source": [
    "Sortierung nach Diözese"
   ]
  },
  {
   "cell_type": "code",
   "execution_count": 52,
   "metadata": {},
   "outputs": [],
   "source": [
    "sql = \"SELECT person_id, diocese_name as diocese, min(display_order) as display_order \" *\n",
    "\"FROM person_role \" *\n",
    "\"WHERE diocese_name IS NOT NULL \" *\n",
    "\"GROUP BY person_id, diocese_name\";\n",
    "df_do = db_exec(sql);"
   ]
  },
  {
   "cell_type": "code",
   "execution_count": 53,
   "metadata": {},
   "outputs": [
    {
     "data": {
      "text/plain": [
       "(6370, 3)"
      ]
     },
     "execution_count": 53,
     "metadata": {},
     "output_type": "execute_result"
    }
   ],
   "source": [
    "size(df_do)"
   ]
  },
  {
   "cell_type": "code",
   "execution_count": 54,
   "metadata": {},
   "outputs": [
    {
     "name": "stderr",
     "output_type": "stream",
     "text": [
      "┌ Info: Rows inserted: 6370\n",
      "└ @ WiagDataSetup C:\\Users\\Georg\\Documents\\projekte\\WiagDataSetup.jl\\src\\WiagDataSetup.jl:1169\n"
     ]
    },
    {
     "data": {
      "text/plain": [
       "6370"
      ]
     },
     "execution_count": 54,
     "metadata": {},
     "output_type": "execute_result"
    }
   ],
   "source": [
    "table_dst = \"person_display_order\"\n",
    "Wds.filltable!(table_dst, df_do)"
   ]
  },
  {
   "cell_type": "markdown",
   "metadata": {},
   "source": [
    "Bischöfe ohne Ämter"
   ]
  },
  {
   "cell_type": "code",
   "execution_count": 55,
   "metadata": {},
   "outputs": [],
   "source": [
    "sql = \"SELECT id AS person_id, 'any' as diocese, 950000 AS display_order \" *\n",
    "\"FROM person WHERE id NOT IN (SELECT DISTINCT person_id FROM person_role)\"\n",
    "df_do_r = db_exec(sql);"
   ]
  },
  {
   "cell_type": "code",
   "execution_count": 56,
   "metadata": {},
   "outputs": [
    {
     "data": {
      "text/plain": [
       "(12, 3)"
      ]
     },
     "execution_count": 56,
     "metadata": {},
     "output_type": "execute_result"
    }
   ],
   "source": [
    "size(df_do_r)"
   ]
  },
  {
   "cell_type": "code",
   "execution_count": 57,
   "metadata": {},
   "outputs": [
    {
     "name": "stderr",
     "output_type": "stream",
     "text": [
      "┌ Info: Rows inserted: 12\n",
      "└ @ WiagDataSetup C:\\Users\\Georg\\Documents\\projekte\\WiagDataSetup.jl\\src\\WiagDataSetup.jl:1169\n"
     ]
    },
    {
     "data": {
      "text/plain": [
       "12"
      ]
     },
     "execution_count": 57,
     "metadata": {},
     "output_type": "execute_result"
    }
   ],
   "source": [
    "table_dst = \"person_display_order\"\n",
    "Wds.filltable!(table_dst, df_do_r)"
   ]
  },
  {
   "cell_type": "code",
   "execution_count": null,
   "metadata": {},
   "outputs": [],
   "source": []
  },
  {
   "cell_type": "code",
   "execution_count": null,
   "metadata": {},
   "outputs": [],
   "source": []
  },
  {
   "cell_type": "code",
   "execution_count": null,
   "metadata": {},
   "outputs": [],
   "source": []
  }
 ],
 "metadata": {
  "kernelspec": {
   "display_name": "Julia 1.7.0",
   "language": "julia",
   "name": "julia-1.7"
  },
  "language_info": {
   "file_extension": ".jl",
   "mimetype": "application/julia",
   "name": "julia",
   "version": "1.7.0"
  }
 },
 "nbformat": 4,
 "nbformat_minor": 4
}
