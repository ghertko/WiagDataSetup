{
 "cells": [
  {
   "cell_type": "markdown",
   "metadata": {},
   "source": [
    "# Wissensaggregator Mittelalter und frühe Neuzeit\n",
    "\n",
    "## Strukturdaten einlesen/aktualisieren"
   ]
  },
  {
   "cell_type": "markdown",
   "metadata": {},
   "source": [
    "Inhalt\n",
    "\n",
    "- [User anlegen](#User-anlegen)\n",
    "- [Typen anlegen](#Typen-anlegen)\n",
    "- [SKOS-Typen einlesen](#SKOS-Typen-einlesen)\n",
    "- [Quellen/Institutionen für externe IDs](#Quellen/Institutionen-für-externe-IDs)\n",
    "- [Quellen/Referenzen](#Quellen/Referenzen)\n",
    "- [Ämter](#Ämter)"
   ]
  },
  {
   "cell_type": "markdown",
   "metadata": {},
   "source": [
    "Die Funktionen, welche Daten laden und umwandeln sind im Modul `WiagDataSetup` enthalten. Dieses verwendet seinerseits folgende Module:\n",
    "\n",
    "- MySQL\n",
    "- DataFrames\n",
    "- JSON\n",
    "- Infiltrator\n",
    "\n",
    "Diese werden am besten vorab direkt in einem Julia-Terminal installiert.\n",
    "``` julia\n",
    "cd(\"C:\\\\Users\\\\Georg\\\\Documents\\\\projekte\\\\WiagDataSetup.jl\")\n",
    "Pkg.activate(\".\")\n",
    "Pkg.add(\"MySQL\")\n",
    "Pkg.add(\"DataFrames\")\n",
    "Pkg.add(\"JSON\")\n",
    "Pkg.add(\"Infiltrator\")\n",
    "```\n",
    "\n",
    "Pfad zum Modul `WiagDataSetup`"
   ]
  },
  {
   "cell_type": "code",
   "execution_count": 1,
   "metadata": {},
   "outputs": [
    {
     "data": {
      "text/plain": [
       "\"../..\""
      ]
     },
     "execution_count": 1,
     "metadata": {},
     "output_type": "execute_result"
    }
   ],
   "source": [
    "wds_path=\"../..\""
   ]
  },
  {
   "cell_type": "code",
   "execution_count": 2,
   "metadata": {},
   "outputs": [],
   "source": [
    "cd(wds_path)"
   ]
  },
  {
   "cell_type": "code",
   "execution_count": 3,
   "metadata": {},
   "outputs": [],
   "source": [
    "using Pkg"
   ]
  },
  {
   "cell_type": "code",
   "execution_count": 4,
   "metadata": {},
   "outputs": [
    {
     "name": "stderr",
     "output_type": "stream",
     "text": [
      "\u001b[32m\u001b[1m  Activating\u001b[22m\u001b[39m project at `C:\\Users\\georg\\Documents\\projekte\\WiagDataSetup.jl`\n"
     ]
    }
   ],
   "source": [
    "Pkg.activate(\".\")"
   ]
  },
  {
   "cell_type": "markdown",
   "metadata": {},
   "source": [
    "Nur für die Entwicklung des Moduls relevant."
   ]
  },
  {
   "cell_type": "code",
   "execution_count": 5,
   "metadata": {},
   "outputs": [],
   "source": [
    "using Revise"
   ]
  },
  {
   "cell_type": "markdown",
   "metadata": {},
   "source": [
    "Modul laden"
   ]
  },
  {
   "cell_type": "code",
   "execution_count": 6,
   "metadata": {},
   "outputs": [
    {
     "data": {
      "text/plain": [
       "WiagDataSetup"
      ]
     },
     "execution_count": 6,
     "metadata": {},
     "output_type": "execute_result"
    }
   ],
   "source": [
    "using WiagDataSetup; Wds=WiagDataSetup"
   ]
  },
  {
   "cell_type": "markdown",
   "metadata": {},
   "source": [
    "Verbinde die Datenbank.\n",
    "\n",
    "Im Verlauf der Einleseschritte kann die folgende Fehlermeldung erscheinen:\n",
    "*Commands out of sync; you can't run this command now*.\n",
    "In diesem Fall diesen Befehl nochmal absetzen."
   ]
  },
  {
   "cell_type": "code",
   "execution_count": 8,
   "metadata": {},
   "outputs": [
    {
     "name": "stdout",
     "output_type": "stream",
     "text": [
      "Passwort für User georg: ········\n"
     ]
    },
    {
     "data": {
      "text/plain": [
       "MySQL.Connection(host=\"127.0.0.1\", user=\"georg\", port=\"3306\", db=\"wiag2\")"
      ]
     },
     "execution_count": 8,
     "metadata": {},
     "output_type": "execute_result"
    }
   ],
   "source": [
    "Wds.setDBWIAG(user=\"georg\", db=\"wiag2\")"
   ]
  },
  {
   "cell_type": "markdown",
   "metadata": {},
   "source": [
    "Verzeichnis für Basisdaten, z.b. SKOS-Schemes, Länder"
   ]
  },
  {
   "cell_type": "code",
   "execution_count": 9,
   "metadata": {},
   "outputs": [
    {
     "data": {
      "text/plain": [
       "\"C:\\\\Users\\\\georg\\\\Documents\\\\projekte-doc\\\\WiagDataSetup\""
      ]
     },
     "execution_count": 9,
     "metadata": {},
     "output_type": "execute_result"
    }
   ],
   "source": [
    "data_path=\"C:\\\\Users\\\\georg\\\\Documents\\\\projekte-doc\\\\WiagDataSetup\""
   ]
  },
  {
   "cell_type": "code",
   "execution_count": 10,
   "metadata": {},
   "outputs": [
    {
     "data": {
      "text/plain": [
       "\"C:\\\\Users\\\\georg\\\\Documents\\\\projekte-doc\\\\WIAGweb2\\\\data\""
      ]
     },
     "execution_count": 10,
     "metadata": {},
     "output_type": "execute_result"
    }
   ],
   "source": [
    "wiag2_data_path=\"C:\\\\Users\\\\georg\\\\Documents\\\\projekte-doc\\\\WIAGweb2\\\\data\""
   ]
  },
  {
   "cell_type": "markdown",
   "metadata": {},
   "source": [
    "## User anlegen"
   ]
  },
  {
   "cell_type": "code",
   "execution_count": 1,
   "metadata": {},
   "outputs": [],
   "source": [
    "using CSV, DataFrames"
   ]
  },
  {
   "cell_type": "code",
   "execution_count": 20,
   "metadata": {},
   "outputs": [
    {
     "data": {
      "text/plain": [
       "\"C:\\\\Users\\\\georg\\\\Documents\\\\projekte-doc\\\\WiagDataSetup\\\\csv\\\\user_wiag.csv\""
      ]
     },
     "execution_count": 20,
     "metadata": {},
     "output_type": "execute_result"
    }
   ],
   "source": [
    "user_file = joinpath(data_path, \"csv\", \"user_wiag.csv\")"
   ]
  },
  {
   "cell_type": "code",
   "execution_count": 37,
   "metadata": {
    "scrolled": true
   },
   "outputs": [
    {
     "data": {
      "text/html": [
       "<div class=\"data-frame\"><p>4 rows × 11 columns (omitted printing of 6 columns)</p><table class=\"data-frame\"><thead><tr><th></th><th>id</th><th>note</th><th>user_id</th><th>nickname</th><th>givenname</th></tr><tr><th></th><th title=\"Int64\">Int64</th><th title=\"Union{Missing, String}\">String?</th><th title=\"Union{Missing, Int64}\">Int64?</th><th title=\"String7\">String7</th><th title=\"Union{Missing, String15}\">String15?</th></tr></thead><tbody><tr><th>1</th><td>1</td><td>funktionaler User, z.B. für automatisierten Import</td><td><em>missing</em></td><td>wiag</td><td><em>missing</em></td></tr><tr><th>2</th><td>2</td><td><em>missing</em></td><td>11</td><td>bkroege</td><td>Bärbel</td></tr><tr><th>3</th><td>3</td><td><em>missing</em></td><td>12</td><td>cpopp</td><td>Christian</td></tr><tr><th>4</th><td>7</td><td><em>missing</em></td><td>13</td><td>ghertko</td><td>Georg</td></tr></tbody></table></div>"
      ],
      "text/latex": [
       "\\begin{tabular}{r|cccccc}\n",
       "\t& id & note & user\\_id & nickname & givenname & \\\\\n",
       "\t\\hline\n",
       "\t& Int64 & String? & Int64? & String7 & String15? & \\\\\n",
       "\t\\hline\n",
       "\t1 & 1 & funktionaler User, z.B. für automatisierten Import & \\emph{missing} & wiag & \\emph{missing} & $\\dots$ \\\\\n",
       "\t2 & 2 & \\emph{missing} & 11 & bkroege & Bärbel & $\\dots$ \\\\\n",
       "\t3 & 3 & \\emph{missing} & 12 & cpopp & Christian & $\\dots$ \\\\\n",
       "\t4 & 7 & \\emph{missing} & 13 & ghertko & Georg & $\\dots$ \\\\\n",
       "\\end{tabular}\n"
      ],
      "text/plain": [
       "\u001b[1m4×11 DataFrame\u001b[0m\n",
       "\u001b[1m Row \u001b[0m│\u001b[1m id    \u001b[0m\u001b[1m note                              \u001b[0m\u001b[1m user_id \u001b[0m\u001b[1m nickname \u001b[0m\u001b[1m givenname \u001b[0m\u001b[1m\u001b[0m ⋯\n",
       "\u001b[1m     \u001b[0m│\u001b[90m Int64 \u001b[0m\u001b[90m String?                           \u001b[0m\u001b[90m Int64?  \u001b[0m\u001b[90m String7  \u001b[0m\u001b[90m String15? \u001b[0m\u001b[90m\u001b[0m ⋯\n",
       "─────┼──────────────────────────────────────────────────────────────────────────\n",
       "   1 │     1  funktionaler User, z.B. für auto… \u001b[90m missing \u001b[0m wiag     \u001b[90m missing   \u001b[0m\u001b[90m\u001b[0m ⋯\n",
       "   2 │     2 \u001b[90m missing                           \u001b[0m      11  bkroege   Bärbel\n",
       "   3 │     3 \u001b[90m missing                           \u001b[0m      12  cpopp     Christian\n",
       "   4 │     7 \u001b[90m missing                           \u001b[0m      13  ghertko   Georg\n",
       "\u001b[36m                                                               6 columns omitted\u001b[0m"
      ]
     },
     "execution_count": 37,
     "metadata": {},
     "output_type": "execute_result"
    }
   ],
   "source": [
    "df_user = CSV.read(user_file, DataFrame)"
   ]
  },
  {
   "cell_type": "code",
   "execution_count": 38,
   "metadata": {},
   "outputs": [
    {
     "name": "stderr",
     "output_type": "stream",
     "text": [
      "┌ Info: Rows inserted: 4\n",
      "└ @ WiagDataSetup C:\\Users\\Georg\\Documents\\projekte\\WiagDataSetup.jl\\src\\WiagDataSetup.jl:1171\n"
     ]
    },
    {
     "data": {
      "text/plain": [
       "4"
      ]
     },
     "execution_count": 38,
     "metadata": {},
     "output_type": "execute_result"
    }
   ],
   "source": [
    "Wds.filltable!(\"user_wiag\", df_user; clear_table=true)"
   ]
  },
  {
   "cell_type": "markdown",
   "metadata": {},
   "source": [
    "## Typen anlegen\n",
    "\n",
    "Alle Entitäten/items werden einem Typ zugeordnet, z.B. Diözese, Bischof, Domherr, Domherr aus GS. Der Typ bestimmt in welcher Tabelle Daten zu der Entität abgelegt werden. Es kann aber durchaus sein, dass auch unterschiedliche Typen in einer Tabelle versammelt sind, z.B. Bischöfe und Domherren in `person`."
   ]
  },
  {
   "cell_type": "code",
   "execution_count": 9,
   "metadata": {},
   "outputs": [],
   "source": [
    "using CSV, DataFrames"
   ]
  },
  {
   "cell_type": "code",
   "execution_count": 10,
   "metadata": {},
   "outputs": [
    {
     "data": {
      "text/plain": [
       "\"C:\\\\Users\\\\georg\\\\Documents\\\\projekte-doc\\\\WiagDataSetup\\\\csv\\\\item_type.csv\""
      ]
     },
     "execution_count": 10,
     "metadata": {},
     "output_type": "execute_result"
    }
   ],
   "source": [
    "item_type_file = joinpath(data_path, \"csv\", \"item_type.csv\")"
   ]
  },
  {
   "cell_type": "code",
   "execution_count": 11,
   "metadata": {},
   "outputs": [
    {
     "data": {
      "text/html": [
       "<div class=\"data-frame\"><p>8 rows × 11 columns (omitted printing of 8 columns)</p><table class=\"data-frame\"><thead><tr><th></th><th>id</th><th>note</th><th>name</th></tr><tr><th></th><th title=\"Int64\">Int64</th><th title=\"Union{Missing, String}\">String?</th><th title=\"String15\">String15</th></tr></thead><tbody><tr><th>1</th><td>1</td><td>Diözese des Alten Reiches</td><td>Diözese</td></tr><tr><th>2</th><td>2</td><td><em>missing</em></td><td>Kloster</td></tr><tr><th>3</th><td>3</td><td><em>missing</em></td><td>Domstift</td></tr><tr><th>4</th><td>4</td><td>Bischof oder Patriarch des Alten Reiches</td><td>Bischof</td></tr><tr><th>5</th><td>5</td><td>Domherr des Alten Reiches</td><td>Domherr</td></tr><tr><th>6</th><td>6</td><td>Domherr des Alten Reiches aus der Personendatenbank der Germania Sacra</td><td>Domherr GS</td></tr><tr><th>7</th><td>7</td><td>religiöser Orden</td><td>Orden</td></tr><tr><th>8</th><td>8</td><td>Amt, Rolle</td><td>Amt</td></tr></tbody></table></div>"
      ],
      "text/latex": [
       "\\begin{tabular}{r|cccc}\n",
       "\t& id & note & name & \\\\\n",
       "\t\\hline\n",
       "\t& Int64 & String? & String15 & \\\\\n",
       "\t\\hline\n",
       "\t1 & 1 & Diözese des Alten Reiches & Diözese & $\\dots$ \\\\\n",
       "\t2 & 2 & \\emph{missing} & Kloster & $\\dots$ \\\\\n",
       "\t3 & 3 & \\emph{missing} & Domstift & $\\dots$ \\\\\n",
       "\t4 & 4 & Bischof oder Patriarch des Alten Reiches & Bischof & $\\dots$ \\\\\n",
       "\t5 & 5 & Domherr des Alten Reiches & Domherr & $\\dots$ \\\\\n",
       "\t6 & 6 & Domherr des Alten Reiches aus der Personendatenbank der Germania Sacra & Domherr GS & $\\dots$ \\\\\n",
       "\t7 & 7 & religiöser Orden & Orden & $\\dots$ \\\\\n",
       "\t8 & 8 & Amt, Rolle & Amt & $\\dots$ \\\\\n",
       "\\end{tabular}\n"
      ],
      "text/plain": [
       "\u001b[1m8×11 DataFrame\u001b[0m\n",
       "\u001b[1m Row \u001b[0m│\u001b[1m id    \u001b[0m\u001b[1m note                              \u001b[0m\u001b[1m name       \u001b[0m\n",
       "\u001b[1m     \u001b[0m│\u001b[90m Int64 \u001b[0m\u001b[90m String?                           \u001b[0m\u001b[90m String15   \u001b[0m\n",
       "─────┼──────────────────────────────────────────────────────────────────────────\n",
       "   1 │     1  Diözese des Alten Reiches          Diözese\n",
       "   2 │     2 \u001b[90m missing                           \u001b[0m Kloster\n",
       "   3 │     3 \u001b[90m missing                           \u001b[0m Domstift\n",
       "   4 │     4  Bischof oder Patriarch des Alten…  Bischof\n",
       "   5 │     5  Domherr des Alten Reiches          Domherr\n",
       "   6 │     6  Domherr des Alten Reiches aus de…  Domherr GS\n",
       "   7 │     7  religiöser Orden                   Orden\n",
       "   8 │     8  Amt, Rolle                         Amt\n",
       "\u001b[36m                                                               8 columns omitted\u001b[0m"
      ]
     },
     "execution_count": 11,
     "metadata": {},
     "output_type": "execute_result"
    }
   ],
   "source": [
    "df_item_type = CSV.read(item_type_file, DataFrame)"
   ]
  },
  {
   "cell_type": "code",
   "execution_count": 12,
   "metadata": {},
   "outputs": [
    {
     "name": "stderr",
     "output_type": "stream",
     "text": [
      "┌ Info: Rows inserted: 8\n",
      "└ @ WiagDataSetup C:\\Users\\Georg\\Documents\\projekte\\WiagDataSetup.jl\\src\\WiagDataSetup.jl:1184\n"
     ]
    },
    {
     "data": {
      "text/plain": [
       "8"
      ]
     },
     "execution_count": 12,
     "metadata": {},
     "output_type": "execute_result"
    }
   ],
   "source": [
    "Wds.filltable!(\"item_type\", df_item_type; clear_table=true)"
   ]
  },
  {
   "cell_type": "markdown",
   "metadata": {},
   "source": [
    "## SKOS Typen einlesen\n",
    "Für alle Entitäten, die einen SKOS-Typ besitzen, können SKOS-Beziehungen hinterlegt werden. Für diese Entitäten kann ein SKOS-Thesaurus aufgebaut werden und/oder es können Bezeichner *label* in verschiedenen Sprachen hinterlegt werden.\n",
    "\n",
    "Quelle: händisch erstellt"
   ]
  },
  {
   "cell_type": "code",
   "execution_count": 9,
   "metadata": {},
   "outputs": [],
   "source": [
    "using CSV, DataFrames"
   ]
  },
  {
   "cell_type": "code",
   "execution_count": 13,
   "metadata": {},
   "outputs": [
    {
     "data": {
      "text/plain": [
       "\"C:\\\\Users\\\\georg\\\\Documents\\\\projekte-doc\\\\WiagDataSetup\\\\csv\\\\skos_scheme.csv\""
      ]
     },
     "execution_count": 13,
     "metadata": {},
     "output_type": "execute_result"
    }
   ],
   "source": [
    "skos_scheme_file=joinpath(data_path, \"csv\", \"skos_scheme.csv\")"
   ]
  },
  {
   "cell_type": "code",
   "execution_count": 14,
   "metadata": {},
   "outputs": [
    {
     "data": {
      "text/html": [
       "<div class=\"data-frame\"><p>5 rows × 3 columns</p><table class=\"data-frame\"><thead><tr><th></th><th>id</th><th>note</th><th>name</th></tr><tr><th></th><th title=\"Int64\">Int64</th><th title=\"Union{Missing, String63}\">String63?</th><th title=\"String31\">String31</th></tr></thead><tbody><tr><th>1</th><td>1</td><td><em>missing</em></td><td>Diözese</td></tr><tr><th>2</th><td>2</td><td>kirchliche Ämter</td><td>Amt</td></tr><tr><th>3</th><td>3</td><td>religiöser Orden</td><td>Orden</td></tr><tr><th>4</th><td>4</td><td>z.B. Kloster, Domstift</td><td>Einrichtung</td></tr><tr><th>5</th><td>5</td><td>z.B. Bundesländer; genutzt für Übersetzungen</td><td>Verwaltungseinheit</td></tr></tbody></table></div>"
      ],
      "text/latex": [
       "\\begin{tabular}{r|ccc}\n",
       "\t& id & note & name\\\\\n",
       "\t\\hline\n",
       "\t& Int64 & String63? & String31\\\\\n",
       "\t\\hline\n",
       "\t1 & 1 & \\emph{missing} & Diözese \\\\\n",
       "\t2 & 2 & kirchliche Ämter & Amt \\\\\n",
       "\t3 & 3 & religiöser Orden & Orden \\\\\n",
       "\t4 & 4 & z.B. Kloster, Domstift & Einrichtung \\\\\n",
       "\t5 & 5 & z.B. Bundesländer; genutzt für Übersetzungen & Verwaltungseinheit \\\\\n",
       "\\end{tabular}\n"
      ],
      "text/plain": [
       "\u001b[1m5×3 DataFrame\u001b[0m\n",
       "\u001b[1m Row \u001b[0m│\u001b[1m id    \u001b[0m\u001b[1m note                              \u001b[0m\u001b[1m name               \u001b[0m\n",
       "\u001b[1m     \u001b[0m│\u001b[90m Int64 \u001b[0m\u001b[90m String63?                         \u001b[0m\u001b[90m String31           \u001b[0m\n",
       "─────┼──────────────────────────────────────────────────────────────\n",
       "   1 │     1 \u001b[90m missing                           \u001b[0m Diözese\n",
       "   2 │     2  kirchliche Ämter                   Amt\n",
       "   3 │     3  religiöser Orden                   Orden\n",
       "   4 │     4  z.B. Kloster, Domstift             Einrichtung\n",
       "   5 │     5  z.B. Bundesländer; genutzt für Ü…  Verwaltungseinheit"
      ]
     },
     "execution_count": 14,
     "metadata": {},
     "output_type": "execute_result"
    }
   ],
   "source": [
    "df_skos_scheme = CSV.read(skos_scheme_file, DataFrame)"
   ]
  },
  {
   "cell_type": "code",
   "execution_count": 15,
   "metadata": {
    "scrolled": true
   },
   "outputs": [
    {
     "name": "stderr",
     "output_type": "stream",
     "text": [
      "┌ Info: Rows inserted: 5\n",
      "└ @ WiagDataSetup C:\\Users\\Georg\\Documents\\projekte\\WiagDataSetup.jl\\src\\WiagDataSetup.jl:1171\n"
     ]
    },
    {
     "data": {
      "text/plain": [
       "5"
      ]
     },
     "execution_count": 15,
     "metadata": {},
     "output_type": "execute_result"
    }
   ],
   "source": [
    "Wds.filltable!(\"skos_scheme\", df_skos_scheme, clear_table = true)"
   ]
  },
  {
   "cell_type": "markdown",
   "metadata": {},
   "source": [
    "## Quellen/Institutionen für externe IDs\n",
    "\n",
    "Quelle: Tabelle `wiag.external_url_type`"
   ]
  },
  {
   "cell_type": "code",
   "execution_count": 10,
   "metadata": {},
   "outputs": [],
   "source": [
    "using CSV, DataFrames, MySQL"
   ]
  },
  {
   "cell_type": "code",
   "execution_count": 10,
   "metadata": {},
   "outputs": [
    {
     "data": {
      "text/plain": [
       "db_exec (generic function with 1 method)"
      ]
     },
     "execution_count": 10,
     "metadata": {},
     "output_type": "execute_result"
    }
   ],
   "source": [
    "db_exec(sql) = DBInterface.execute(Wds.dbwiag, sql)"
   ]
  },
  {
   "cell_type": "code",
   "execution_count": null,
   "metadata": {},
   "outputs": [],
   "source": [
    "sql = \"SELECT id_url_type as id, url_type, url_name_formatter, url_formatter, url_value_example, display_order \" *\n",
    "    \"FROM wiag.external_url_type\"\n",
    "df_authority = DBInterface.execute(Wds.dbwiag, sql) |> DataFrame;"
   ]
  },
  {
   "cell_type": "code",
   "execution_count": null,
   "metadata": {},
   "outputs": [],
   "source": [
    "df_authority[1:5, [:id, :url_type, :url_name_formatter]]"
   ]
  },
  {
   "cell_type": "code",
   "execution_count": null,
   "metadata": {},
   "outputs": [],
   "source": [
    "Wds.filltable!(\"authority\", df_authority, clear_table=true);"
   ]
  },
  {
   "cell_type": "markdown",
   "metadata": {},
   "source": [
    "Gemeinsamen Verbundkatalog (GVK) aufnehmen"
   ]
  },
  {
   "cell_type": "code",
   "execution_count": null,
   "metadata": {},
   "outputs": [],
   "source": [
    "sql_gvk = \"INSERT INTO authority (id, url_name_formatter, url_formatter, url_value_example)\" *\n",
    "    \"VALUES (53, 'GVK - Gemeinsamer Verbundkatalog', 'https://kxp.k10plus.de/DB=2.1/PPNSET?PPN=', '02621539X')\""
   ]
  },
  {
   "cell_type": "code",
   "execution_count": null,
   "metadata": {},
   "outputs": [],
   "source": [
    "DBInterface.execute(Wds.dbwiag, sql_gvk);"
   ]
  },
  {
   "cell_type": "markdown",
   "metadata": {},
   "source": [
    "*TODO* evtl. `url_type` für GVK ergänzen"
   ]
  },
  {
   "cell_type": "markdown",
   "metadata": {},
   "source": [
    "Personendatenbank der Germania Sacra aufnehmen"
   ]
  },
  {
   "cell_type": "code",
   "execution_count": 11,
   "metadata": {},
   "outputs": [],
   "source": [
    "sql = \"INSERT INTO authority (id, url_name_formatter, url_formatter, url_value_example)\" *\n",
    "    \"VALUES (200, 'Personendatenbank der Germania Sacra', 'http://personendatenbank.germania-sacra.de/index/gsn/', '079-00974-001')\"\n",
    "db_exec(sql);"
   ]
  },
  {
   "cell_type": "markdown",
   "metadata": {},
   "source": [
    "Externe URLs  \n",
    "*2022-04-28*"
   ]
  },
  {
   "cell_type": "code",
   "execution_count": 10,
   "metadata": {},
   "outputs": [],
   "source": [
    "using CSV, DataFrames"
   ]
  },
  {
   "cell_type": "code",
   "execution_count": 17,
   "metadata": {},
   "outputs": [],
   "source": [
    "file_name = joinpath(wiag2_data_path, \"tbl_external_url_type.csv\")\n",
    "df_authority_url = CSV.read(file_name, DataFrame, delim=\";\");"
   ]
  },
  {
   "cell_type": "markdown",
   "metadata": {},
   "source": [
    "Addiere zu der ID einen Offset von 1000"
   ]
  },
  {
   "cell_type": "code",
   "execution_count": 12,
   "metadata": {},
   "outputs": [
    {
     "data": {
      "text/plain": [
       "6-element Vector{String}:\n",
       " \"id_url_type\"\n",
       " \"url_type\"\n",
       " \"url_name_formatter\"\n",
       " \"url_formatter\"\n",
       " \"url_value_example\"\n",
       " \"display_order\""
      ]
     },
     "execution_count": 12,
     "metadata": {},
     "output_type": "execute_result"
    }
   ],
   "source": [
    "names(df_authority_url)"
   ]
  },
  {
   "cell_type": "code",
   "execution_count": 18,
   "metadata": {},
   "outputs": [],
   "source": [
    "id_offset = 1000;\n",
    "transform!(df_authority_url, :id_url_type => ByRow(x -> x + id_offset) => :id);"
   ]
  },
  {
   "cell_type": "code",
   "execution_count": 20,
   "metadata": {},
   "outputs": [
    {
     "data": {
      "text/html": [
       "<div class=\"data-frame\"><p>5 rows × 4 columns</p><table class=\"data-frame\"><thead><tr><th></th><th>id</th><th>id_url_type</th><th>url_type</th><th>url_name_formatter</th></tr><tr><th></th><th title=\"Int64\">Int64</th><th title=\"Int64\">Int64</th><th title=\"String31\">String31</th><th title=\"String\">String</th></tr></thead><tbody><tr><th>1</th><td>1026</td><td>26</td><td>Referenzdatenbanken</td><td>Datenbank der Kulturgüter in der Region Trier, ID</td></tr><tr><th>2</th><td>1027</td><td>27</td><td>Referenzdatenbanken</td><td>Digitale Westfälische Urkunden-Datenbank (DWUD), ID</td></tr><tr><th>3</th><td>1029</td><td>29</td><td>Referenzdatenbanken</td><td>Hereditas Monasteriorum Knowledge Portal, Poland</td></tr><tr><th>4</th><td>1031</td><td>31</td><td>Referenzdatenbanken</td><td>Historisches Lexikon Bayerns, Artikel</td></tr><tr><th>5</th><td>1036</td><td>36</td><td>Externe Online-Ressourcen</td><td>Österreichisches Musiklexikon Online</td></tr></tbody></table></div>"
      ],
      "text/latex": [
       "\\begin{tabular}{r|cccc}\n",
       "\t& id & id\\_url\\_type & url\\_type & url\\_name\\_formatter\\\\\n",
       "\t\\hline\n",
       "\t& Int64 & Int64 & String31 & String\\\\\n",
       "\t\\hline\n",
       "\t1 & 1026 & 26 & Referenzdatenbanken & Datenbank der Kulturgüter in der Region Trier, ID \\\\\n",
       "\t2 & 1027 & 27 & Referenzdatenbanken & Digitale Westfälische Urkunden-Datenbank (DWUD), ID \\\\\n",
       "\t3 & 1029 & 29 & Referenzdatenbanken & Hereditas Monasteriorum Knowledge Portal, Poland \\\\\n",
       "\t4 & 1031 & 31 & Referenzdatenbanken & Historisches Lexikon Bayerns, Artikel \\\\\n",
       "\t5 & 1036 & 36 & Externe Online-Ressourcen & Österreichisches Musiklexikon Online \\\\\n",
       "\\end{tabular}\n"
      ],
      "text/plain": [
       "\u001b[1m5×4 DataFrame\u001b[0m\n",
       "\u001b[1m Row \u001b[0m│\u001b[1m id    \u001b[0m\u001b[1m id_url_type \u001b[0m\u001b[1m url_type                  \u001b[0m\u001b[1m url_name_formatter      \u001b[0m ⋯\n",
       "\u001b[1m     \u001b[0m│\u001b[90m Int64 \u001b[0m\u001b[90m Int64       \u001b[0m\u001b[90m String31                  \u001b[0m\u001b[90m String                  \u001b[0m ⋯\n",
       "─────┼──────────────────────────────────────────────────────────────────────────\n",
       "   1 │  1026           26  Referenzdatenbanken        Datenbank der Kulturgüte ⋯\n",
       "   2 │  1027           27  Referenzdatenbanken        Digitale Westfälische Ur\n",
       "   3 │  1029           29  Referenzdatenbanken        Hereditas Monasteriorum\n",
       "   4 │  1031           31  Referenzdatenbanken        Historisches Lexikon Bay\n",
       "   5 │  1036           36  Externe Online-Ressourcen  Österreichisches Musikle ⋯\n",
       "\u001b[36m                                                                1 column omitted\u001b[0m"
      ]
     },
     "execution_count": 20,
     "metadata": {},
     "output_type": "execute_result"
    }
   ],
   "source": [
    "df_authority_url[11:15, [:id, :id_url_type, :url_type, :url_name_formatter]]"
   ]
  },
  {
   "cell_type": "code",
   "execution_count": 21,
   "metadata": {},
   "outputs": [
    {
     "name": "stderr",
     "output_type": "stream",
     "text": [
      "┌ Info: Rows inserted: 41\n",
      "└ @ WiagDataSetup C:\\Users\\Georg\\Documents\\projekte\\WiagDataSetup.jl\\src\\WiagDataSetup.jl:1209\n"
     ]
    }
   ],
   "source": [
    "table_name = \"authority\"\n",
    "Wds.filltable!(table_name, select(df_authority_url, Not(:id_url_type)), clear_table = false);"
   ]
  },
  {
   "cell_type": "markdown",
   "metadata": {},
   "source": [
    "## Quellen/Referenzen"
   ]
  },
  {
   "cell_type": "markdown",
   "metadata": {},
   "source": [
    "### Referenzen für Bischöfe und Bistümer\n",
    "Quelle: Tabelle `wiag.reference`"
   ]
  },
  {
   "cell_type": "code",
   "execution_count": null,
   "metadata": {},
   "outputs": [],
   "source": [
    "sql = \"SELECT id_ref as id, \" *\n",
    "    \"full_citation, \" *\n",
    "    \"author_editor, \" *\n",
    "    \"onlineressource as online_resource, \" *\n",
    "    \"short_title as title_short, \" *\n",
    "    \"ri_opac_id, \" *\n",
    "    \"year_of_publication as year_publication, \" *\n",
    "    \"isbn, \" *\n",
    "    \"sort as display_order \" *\n",
    "    \"FROM wiag.reference \" *\n",
    "    \"WHERE id_ref <= 5\"\n",
    "df_ref_gatz = DBInterface.execute(Wds.dbwiag, sql) |> DataFrame;"
   ]
  },
  {
   "cell_type": "code",
   "execution_count": null,
   "metadata": {},
   "outputs": [],
   "source": [
    "df_ref_gatz[:, [:id, :title_short, :isbn]]"
   ]
  },
  {
   "cell_type": "code",
   "execution_count": null,
   "metadata": {},
   "outputs": [],
   "source": [
    "Wds.filltable!(\"reference_volume\", df_ref_gatz)"
   ]
  },
  {
   "cell_type": "markdown",
   "metadata": {},
   "source": [
    "GVK in `ref_id_external` eintragen"
   ]
  },
  {
   "cell_type": "code",
   "execution_count": 10,
   "metadata": {},
   "outputs": [],
   "source": [
    "sql = \"SELECT id_ref as reference_id, \" *\n",
    "    \"53 as authority_id, \" *\n",
    "    \"short_title as title_short, \" *\n",
    "    \"gbv \" *    \n",
    "    \"FROM wiag.reference \" *\n",
    "    \"WHERE id_ref <= 5\"\n",
    "df_ref_ext = DBInterface.execute(Wds.dbwiag, sql) |> DataFrame;"
   ]
  },
  {
   "cell_type": "code",
   "execution_count": 11,
   "metadata": {},
   "outputs": [
    {
     "data": {
      "text/html": [
       "<div class=\"data-frame\"><p>5 rows × 4 columns</p><table class=\"data-frame\"><thead><tr><th></th><th>reference_id</th><th>authority_id</th><th>title_short</th><th>gbv</th></tr><tr><th></th><th title=\"Int32\">Int32</th><th title=\"Int64\">Int64</th><th title=\"Union{Missing, String}\">String?</th><th title=\"Union{Missing, String}\">String?</th></tr></thead><tbody><tr><th>1</th><td>1</td><td>53</td><td>Gatz, Bischöfe 1198 bis 1448</td><td>https://kxp.k10plus.de/DB=2.1/PPNSET?PPN=336676557</td></tr><tr><th>2</th><td>2</td><td>53</td><td>Gatz, Bistümer</td><td>https://kxp.k10plus.de/DB=2.1/PPNSET?PPN=365121304</td></tr><tr><th>3</th><td>3</td><td>53</td><td>Gatz, Bischöfe 1448 bis 1648</td><td>https://kxp.k10plus.de/DB=2.1/PPNSET?PPN=215267079</td></tr><tr><th>4</th><td>4</td><td>53</td><td>Gatz, Bischöfe 1648 bis 1803</td><td>https://kxp.k10plus.de/DB=2.1/PPNSET?PPN=02621539X</td></tr><tr><th>5</th><td>5</td><td>53</td><td>Gatz, Bischöfe 1785/1803 bis 1945</td><td>https://kxp.k10plus.de/DB=2.1/PPNSET?PPN=024331090</td></tr></tbody></table></div>"
      ],
      "text/latex": [
       "\\begin{tabular}{r|cccc}\n",
       "\t& reference\\_id & authority\\_id & title\\_short & gbv\\\\\n",
       "\t\\hline\n",
       "\t& Int32 & Int64 & String? & String?\\\\\n",
       "\t\\hline\n",
       "\t1 & 1 & 53 & Gatz, Bischöfe 1198 bis 1448 & https://kxp.k10plus.de/DB=2.1/PPNSET?PPN=336676557 \\\\\n",
       "\t2 & 2 & 53 & Gatz, Bistümer & https://kxp.k10plus.de/DB=2.1/PPNSET?PPN=365121304 \\\\\n",
       "\t3 & 3 & 53 & Gatz, Bischöfe 1448 bis 1648 & https://kxp.k10plus.de/DB=2.1/PPNSET?PPN=215267079 \\\\\n",
       "\t4 & 4 & 53 & Gatz, Bischöfe 1648 bis 1803 & https://kxp.k10plus.de/DB=2.1/PPNSET?PPN=02621539X \\\\\n",
       "\t5 & 5 & 53 & Gatz, Bischöfe 1785/1803 bis 1945 & https://kxp.k10plus.de/DB=2.1/PPNSET?PPN=024331090 \\\\\n",
       "\\end{tabular}\n"
      ],
      "text/plain": [
       "\u001b[1m5×4 DataFrame\u001b[0m\n",
       "\u001b[1m Row \u001b[0m│\u001b[1m reference_id \u001b[0m\u001b[1m authority_id \u001b[0m\u001b[1m title_short                       \u001b[0m\u001b[1m gbv     \u001b[0m ⋯\n",
       "\u001b[1m     \u001b[0m│\u001b[90m Int32        \u001b[0m\u001b[90m Int64        \u001b[0m\u001b[90m String?                           \u001b[0m\u001b[90m String? \u001b[0m ⋯\n",
       "─────┼──────────────────────────────────────────────────────────────────────────\n",
       "   1 │            1            53  Gatz, Bischöfe 1198 bis 1448       https:// ⋯\n",
       "   2 │            2            53  Gatz, Bistümer                     https://\n",
       "   3 │            3            53  Gatz, Bischöfe 1448 bis 1648       https://\n",
       "   4 │            4            53  Gatz, Bischöfe 1648 bis 1803       https://\n",
       "   5 │            5            53  Gatz, Bischöfe 1785/1803 bis 1945  https:// ⋯\n",
       "\u001b[36m                                                                1 column omitted\u001b[0m"
      ]
     },
     "execution_count": 11,
     "metadata": {},
     "output_type": "execute_result"
    }
   ],
   "source": [
    "filter(:gbv => !ismissing, df_ref_ext)"
   ]
  },
  {
   "cell_type": "code",
   "execution_count": 13,
   "metadata": {},
   "outputs": [
    {
     "data": {
      "text/plain": [
       "extract_ppn (generic function with 1 method)"
      ]
     },
     "execution_count": 13,
     "metadata": {},
     "output_type": "execute_result"
    }
   ],
   "source": [
    "function extract_ppn(s)\n",
    "    rgm = match(r\"PPN=(.+$)\", s)\n",
    "    ppn = nothing\n",
    "    if !isnothing(rgm)\n",
    "        ppn = rgm[1]\n",
    "    end\n",
    "end"
   ]
  },
  {
   "cell_type": "code",
   "execution_count": null,
   "metadata": {},
   "outputs": [],
   "source": [
    "extract_ppn(\"https://kxp.k10plus.de/DB=2.1/PPNSET?PPN=215267079\")"
   ]
  },
  {
   "cell_type": "code",
   "execution_count": 14,
   "metadata": {},
   "outputs": [
    {
     "data": {
      "text/plain": [
       "5-element Vector{SubString{String}}:\n",
       " \"336676557\"\n",
       " \"365121304\"\n",
       " \"215267079\"\n",
       " \"02621539X\"\n",
       " \"024331090\""
      ]
     },
     "execution_count": 14,
     "metadata": {},
     "output_type": "execute_result"
    }
   ],
   "source": [
    "df_ref_ext[!, :value] .= extract_ppn.(df_ref_ext[!, :gbv])"
   ]
  },
  {
   "cell_type": "code",
   "execution_count": null,
   "metadata": {},
   "outputs": [],
   "source": [
    "Wds.filltable!(\"ref_id_external\", df_ref_ext[!, [:reference_id, :authority_id, :value]])"
   ]
  },
  {
   "cell_type": "markdown",
   "metadata": {},
   "source": [
    "### Referenzen für Domherren der Germania Sacra\n",
    "Quelle: Tabelle `gso_in_202202.books`"
   ]
  },
  {
   "cell_type": "code",
   "execution_count": 30,
   "metadata": {},
   "outputs": [],
   "source": [
    "using DataFrames"
   ]
  },
  {
   "cell_type": "code",
   "execution_count": 20,
   "metadata": {},
   "outputs": [],
   "source": [
    "gso_db = \"gso_in_202202\"\n",
    "table_name = \"books\"\n",
    "sql = \"SELECT id, nummer, titel, kurztitel, autoren, jahr, `order` as gs_display_order, uri\n",
    "FROM $(gso_db).$(table_name)\"\n",
    "df_ref_gs = Wds.sql_df(sql);"
   ]
  },
  {
   "cell_type": "code",
   "execution_count": 11,
   "metadata": {},
   "outputs": [
    {
     "data": {
      "text/plain": [
       "87"
      ]
     },
     "execution_count": 11,
     "metadata": {},
     "output_type": "execute_result"
    }
   ],
   "source": [
    "size(df_ref_gs, 1)"
   ]
  },
  {
   "cell_type": "code",
   "execution_count": 14,
   "metadata": {},
   "outputs": [
    {
     "data": {
      "text/html": [
       "<div class=\"data-frame\"><p>6 rows × 4 columns</p><table class=\"data-frame\"><thead><tr><th></th><th>id</th><th>nummer</th><th>kurztitel</th><th>gs_display_order</th></tr><tr><th></th><th title=\"Int32\">Int32</th><th title=\"Union{Missing, String}\">String?</th><th title=\"String\">String</th><th title=\"Union{Missing, Int32}\">Int32?</th></tr></thead><tbody><tr><th>1</th><td>6</td><td>AF II, 1937</td><td>AF II, Bistum Bamberg</td><td>6</td></tr><tr><th>2</th><td>7</td><td>AF II, 1966</td><td>AF II, Bistum Bamberg, Pfarreiorganisation</td><td>7</td></tr><tr><th>3</th><td>8</td><td>AF III, 1938</td><td>AF III, Archidiakonat Xanten</td><td>8</td></tr><tr><th>4</th><td>9</td><td>NF 1</td><td>NF 1, Würzburger Bischöfe bis 1254</td><td>9</td></tr><tr><th>5</th><td>10</td><td>NF 2</td><td>NF 2, Cistercienserabtei Altenberg</td><td>10</td></tr><tr><th>6</th><td>11</td><td>NF 3</td><td>NF 3, Schwesternhäuser Augustinerregel, Münster</td><td>11</td></tr></tbody></table></div>"
      ],
      "text/latex": [
       "\\begin{tabular}{r|cccc}\n",
       "\t& id & nummer & kurztitel & gs\\_display\\_order\\\\\n",
       "\t\\hline\n",
       "\t& Int32 & String? & String & Int32?\\\\\n",
       "\t\\hline\n",
       "\t1 & 6 & AF II, 1937 & AF II, Bistum Bamberg & 6 \\\\\n",
       "\t2 & 7 & AF II, 1966 & AF II, Bistum Bamberg, Pfarreiorganisation & 7 \\\\\n",
       "\t3 & 8 & AF III, 1938 & AF III, Archidiakonat Xanten & 8 \\\\\n",
       "\t4 & 9 & NF 1 & NF 1, Würzburger Bischöfe bis 1254 & 9 \\\\\n",
       "\t5 & 10 & NF 2 & NF 2, Cistercienserabtei Altenberg & 10 \\\\\n",
       "\t6 & 11 & NF 3 & NF 3, Schwesternhäuser Augustinerregel, Münster & 11 \\\\\n",
       "\\end{tabular}\n"
      ],
      "text/plain": [
       "\u001b[1m6×4 DataFrame\u001b[0m\n",
       "\u001b[1m Row \u001b[0m│\u001b[1m id    \u001b[0m\u001b[1m nummer       \u001b[0m\u001b[1m kurztitel                         \u001b[0m\u001b[1m gs_display_orde\u001b[0m ⋯\n",
       "\u001b[1m     \u001b[0m│\u001b[90m Int32 \u001b[0m\u001b[90m String?      \u001b[0m\u001b[90m String                            \u001b[0m\u001b[90m Int32?         \u001b[0m ⋯\n",
       "─────┼──────────────────────────────────────────────────────────────────────────\n",
       "   1 │     6  AF II, 1937   AF II, Bistum Bamberg                              ⋯\n",
       "   2 │     7  AF II, 1966   AF II, Bistum Bamberg, Pfarreior…\n",
       "   3 │     8  AF III, 1938  AF III, Archidiakonat Xanten\n",
       "   4 │     9  NF 1          NF 1, Würzburger Bischöfe bis 12…\n",
       "   5 │    10  NF 2          NF 2, Cistercienserabtei Altenbe…                1 ⋯\n",
       "   6 │    11  NF 3          NF 3, Schwesternhäuser Augustine…                1\n",
       "\u001b[36m                                                                1 column omitted\u001b[0m"
      ]
     },
     "execution_count": 14,
     "metadata": {},
     "output_type": "execute_result"
    }
   ],
   "source": [
    "df_ref_gs[5:10, [:id, :nummer, :kurztitel, :gs_display_order]]"
   ]
  },
  {
   "cell_type": "code",
   "execution_count": 15,
   "metadata": {},
   "outputs": [
    {
     "data": {
      "text/plain": [
       "6"
      ]
     },
     "execution_count": 15,
     "metadata": {},
     "output_type": "execute_result"
    }
   ],
   "source": [
    "item_type_canon_gs = 6"
   ]
  },
  {
   "cell_type": "code",
   "execution_count": 21,
   "metadata": {},
   "outputs": [],
   "source": [
    "df_ref_gs[!, :item_type_id] .= item_type_canon_gs;"
   ]
  },
  {
   "cell_type": "code",
   "execution_count": 32,
   "metadata": {},
   "outputs": [
    {
     "data": {
      "text/plain": [
       "9-element Vector{Pair{Symbol, Symbol}}:\n",
       "            :titel => :full_citation\n",
       "        :kurztitel => :title_short\n",
       "           :nummer => :gs_volume_nr\n",
       "          :autoren => :author_editor\n",
       "             :jahr => :year_publication\n",
       " :gs_display_order => :display_order\n",
       "              :uri => :gs_url\n",
       "               :id => :reference_id\n",
       "     :item_type_id => :item_type_id"
      ]
     },
     "execution_count": 32,
     "metadata": {},
     "output_type": "execute_result"
    }
   ],
   "source": [
    "columns = [\n",
    "    :titel => :full_citation,\n",
    "    :kurztitel => :title_short,\n",
    "    :nummer => :gs_volume_nr,\n",
    "    :autoren => :author_editor,\n",
    "    :jahr => :year_publication,\n",
    "    :gs_display_order => :display_order,\n",
    "    :uri => :gs_url,\n",
    "    :id => :reference_id,\n",
    "    :item_type_id => :item_type_id\n",
    "]"
   ]
  },
  {
   "cell_type": "code",
   "execution_count": 27,
   "metadata": {},
   "outputs": [
    {
     "data": {
      "text/plain": [
       "9-element Vector{String}:\n",
       " \"id\"\n",
       " \"nummer\"\n",
       " \"titel\"\n",
       " \"kurztitel\"\n",
       " \"autoren\"\n",
       " \"jahr\"\n",
       " \"gs_display_order\"\n",
       " \"uri\"\n",
       " \"item_type_id\""
      ]
     },
     "execution_count": 27,
     "metadata": {},
     "output_type": "execute_result"
    }
   ],
   "source": [
    "names(df_ref_gs)"
   ]
  },
  {
   "cell_type": "code",
   "execution_count": 33,
   "metadata": {},
   "outputs": [
    {
     "name": "stderr",
     "output_type": "stream",
     "text": [
      "┌ Info: Rows inserted: 87\n",
      "└ @ WiagDataSetup C:\\Users\\georg\\Documents\\projekte\\WiagDataSetup.jl\\src\\WiagDataSetup.jl:1208\n"
     ]
    },
    {
     "data": {
      "text/plain": [
       "87"
      ]
     },
     "execution_count": 33,
     "metadata": {},
     "output_type": "execute_result"
    }
   ],
   "source": [
    "table_name = \"reference_volume\"\n",
    "Wds.filltable!(table_name, select(df_ref_gs, columns))"
   ]
  },
  {
   "cell_type": "markdown",
   "metadata": {},
   "source": [
    "## Ämter\n",
    "Quelle: Access, `GS_Domherren_DB` - `tbl_aemterliste_normiert`\n",
    "\n",
    "*2022-01-13*"
   ]
  },
  {
   "cell_type": "code",
   "execution_count": 21,
   "metadata": {},
   "outputs": [],
   "source": [
    "using MySQL, DataFrames, Dates, CSV"
   ]
  },
  {
   "cell_type": "code",
   "execution_count": 19,
   "metadata": {},
   "outputs": [],
   "source": [
    "item_type_id = 8;"
   ]
  },
  {
   "cell_type": "code",
   "execution_count": 16,
   "metadata": {},
   "outputs": [],
   "source": [
    "# Quelle CSV\n",
    "filename = joinpath(wiag2_data_path, \"tbl_Aemterliste_normiert.csv\")\n",
    "df_role = CSV.read(filename, DataFrame);"
   ]
  },
  {
   "cell_type": "code",
   "execution_count": 26,
   "metadata": {},
   "outputs": [],
   "source": [
    "# Quelle Datenbank\n",
    "sql = \"SELECT id_amt_norm AS id_in_source, AmtNorm AS name, Bemerkung AS note \n",
    "FROM domherr.tbl_aemterliste_normiert\"\n",
    "df_role = Wds.sql_df(sql);"
   ]
  },
  {
   "cell_type": "code",
   "execution_count": 17,
   "metadata": {},
   "outputs": [],
   "source": [
    "Wds.clean_up!(df_role);"
   ]
  },
  {
   "cell_type": "markdown",
   "metadata": {},
   "source": [
    "Einträge in `item`"
   ]
  },
  {
   "cell_type": "markdown",
   "metadata": {},
   "source": [
    "Bestehende Einträge löschen"
   ]
  },
  {
   "cell_type": "code",
   "execution_count": 22,
   "metadata": {},
   "outputs": [
    {
     "data": {
      "text/plain": [
       "MySQL.TextCursor{true}(MySQL.Connection(host=\"127.0.0.1\", user=\"georg\", port=\"3306\", db=\"wiag2\"), \"DELETE FROM item WHERE item_type_id = 8\", 0, -1, 153, MySQL.API.MYSQL_RES(Ptr{Nothing} @0x0000000000000000), Symbol[], Type[], Dict{Symbol, Int64}(), 0, 1, false)"
      ]
     },
     "execution_count": 22,
     "metadata": {},
     "output_type": "execute_result"
    }
   ],
   "source": [
    "table_name = \"item\";\n",
    "sql = \"DELETE FROM $(table_name) WHERE item_type_id = $(item_type_id)\";\n",
    "DBInterface.execute(Wds.dbwiag, sql)"
   ]
  },
  {
   "cell_type": "code",
   "execution_count": 27,
   "metadata": {},
   "outputs": [
    {
     "data": {
      "text/plain": [
       "11-element Vector{String}:\n",
       " \"id_amt_norm\"\n",
       " \"AmtNorm\"\n",
       " \"Bemerkung\"\n",
       " \"GSRegID\"\n",
       " \"Synonym\"\n",
       " \"Oberbegriff\"\n",
       " \"Plural\"\n",
       " \"GND\"\n",
       " \"note_intern\"\n",
       " \"definition\"\n",
       " \"domherren_db\""
      ]
     },
     "execution_count": 27,
     "metadata": {},
     "output_type": "execute_result"
    }
   ],
   "source": [
    "names(df_role)"
   ]
  },
  {
   "cell_type": "code",
   "execution_count": 28,
   "metadata": {},
   "outputs": [
    {
     "data": {
      "text/plain": [
       "2-element Vector{Pair{Symbol, Symbol}}:\n",
       " :id_amt_norm => :id_in_source\n",
       "     :AmtNorm => :item_in_source"
      ]
     },
     "execution_count": 28,
     "metadata": {},
     "output_type": "execute_result"
    }
   ],
   "source": [
    "columns = [\n",
    "    :id_amt_norm => :id_in_source,\n",
    "    :AmtNorm => :item_in_source,\n",
    "]"
   ]
  },
  {
   "cell_type": "code",
   "execution_count": 33,
   "metadata": {},
   "outputs": [],
   "source": [
    "df_item = select(df_role, columns);"
   ]
  },
  {
   "cell_type": "code",
   "execution_count": 30,
   "metadata": {},
   "outputs": [],
   "source": [
    "user_wiag_id = 1;\n",
    "time_stamp = Dates.format(now(), dateformat\"yyyy-mm-dd HH:MM\");"
   ]
  },
  {
   "cell_type": "code",
   "execution_count": 34,
   "metadata": {},
   "outputs": [],
   "source": [
    "insertcols!(\n",
    "    df_item, \n",
    "    3,\n",
    "    :item_type_id => item_type_id,\n",
    "    :edit_status => \"importiert\",\n",
    "    :created_by => user_wiag_id,\n",
    "    :date_created => time_stamp,\n",
    "    :changed_by => user_wiag_id,\n",
    "    :date_changed => time_stamp,\n",
    "    :is_online => 1\n",
    ");"
   ]
  },
  {
   "cell_type": "code",
   "execution_count": 35,
   "metadata": {},
   "outputs": [
    {
     "name": "stderr",
     "output_type": "stream",
     "text": [
      "┌ Info: Rows inserted: 153\n",
      "└ @ WiagDataSetup C:\\Users\\Georg\\Documents\\projekte\\WiagDataSetup.jl\\src\\WiagDataSetup.jl:1209\n"
     ]
    },
    {
     "data": {
      "text/plain": [
       "153"
      ]
     },
     "execution_count": 35,
     "metadata": {},
     "output_type": "execute_result"
    }
   ],
   "source": [
    "table_name = \"item\";\n",
    "Wds.filltable!(table_name, df_item, clear_table = false)"
   ]
  },
  {
   "cell_type": "markdown",
   "metadata": {},
   "source": [
    "IDs auslesen"
   ]
  },
  {
   "cell_type": "code",
   "execution_count": 36,
   "metadata": {},
   "outputs": [],
   "source": [
    "table_name = \"item\"\n",
    "sql = \"SELECT id, id_in_source FROM $(table_name) WHERE item_type_id = $(item_type_id)\"\n",
    "dfx = Wds.sql_df(sql);"
   ]
  },
  {
   "cell_type": "code",
   "execution_count": 39,
   "metadata": {},
   "outputs": [],
   "source": [
    "transform!(df_role, :id_amt_norm => ByRow(string) => :id_amt_norm);\n",
    "df_role_db = innerjoin(dfx, df_role, on = :id_in_source => :id_amt_norm);"
   ]
  },
  {
   "cell_type": "code",
   "execution_count": 43,
   "metadata": {},
   "outputs": [
    {
     "data": {
      "text/plain": [
       "12-element Vector{String}:\n",
       " \"id\"\n",
       " \"id_in_source\"\n",
       " \"AmtNorm\"\n",
       " \"Bemerkung\"\n",
       " \"GSRegID\"\n",
       " \"Synonym\"\n",
       " \"Oberbegriff\"\n",
       " \"Plural\"\n",
       " \"GND\"\n",
       " \"note_intern\"\n",
       " \"definition\"\n",
       " \"domherren_db\""
      ]
     },
     "execution_count": 43,
     "metadata": {},
     "output_type": "execute_result"
    }
   ],
   "source": [
    "names(df_role_db)"
   ]
  },
  {
   "cell_type": "code",
   "execution_count": 44,
   "metadata": {},
   "outputs": [
    {
     "data": {
      "text/plain": [
       "3-element Vector{Pair{Symbol, Symbol}}:\n",
       "        :id => :id\n",
       " :Bemerkung => :note\n",
       "   :AmtNorm => :name"
      ]
     },
     "execution_count": 44,
     "metadata": {},
     "output_type": "execute_result"
    }
   ],
   "source": [
    "columns = [\n",
    "    :id => :id, \n",
    "    :Bemerkung => :note, \n",
    "    :AmtNorm => :name]"
   ]
  },
  {
   "cell_type": "code",
   "execution_count": 45,
   "metadata": {},
   "outputs": [
    {
     "name": "stderr",
     "output_type": "stream",
     "text": [
      "┌ Info: Rows inserted: 153\n",
      "└ @ WiagDataSetup C:\\Users\\Georg\\Documents\\projekte\\WiagDataSetup.jl\\src\\WiagDataSetup.jl:1209\n"
     ]
    },
    {
     "data": {
      "text/plain": [
       "153"
      ]
     },
     "execution_count": 45,
     "metadata": {},
     "output_type": "execute_result"
    }
   ],
   "source": [
    "table_name = \"role\"\n",
    "Wds.filltable!(table_name, select(df_role_db, columns), clear_table = true)"
   ]
  },
  {
   "cell_type": "code",
   "execution_count": null,
   "metadata": {},
   "outputs": [],
   "source": []
  }
 ],
 "metadata": {
  "kernelspec": {
   "display_name": "Julia 1.7.0",
   "language": "julia",
   "name": "julia-1.7"
  },
  "language_info": {
   "file_extension": ".jl",
   "mimetype": "application/julia",
   "name": "julia",
   "version": "1.7.0"
  }
 },
 "nbformat": 4,
 "nbformat_minor": 4
}
