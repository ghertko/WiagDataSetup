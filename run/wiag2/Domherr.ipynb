{
 "cells": [
  {
   "cell_type": "markdown",
   "metadata": {},
   "source": [
    "# Wissensaggregator Mittelalter und frühe Neuzeit\n",
    "WIAGweb2\n",
    "\n",
    "## Daten für Domherren einlesen\n",
    "\n",
    "Übertrage Daten aus Access. Die Daten werden aus Access via ODBC in eine Transfer-Datenbank geschrieben oder als CSV-Datei exportiert. `domherr.tbl_domherren`, `tbl_urls` und `domherr.tbl_domherren_aemter`.\n",
    "\n",
    "[Domherren](#Domherren)\n",
    "- [Literatur](#Literatur)  \n",
    "- [Einträge in `item`](#Einträge-in-item)\n",
    "- [Daten eintragen](#Daten-eintragen)\n",
    "- [Orden eintragen](#Orden-eintragen)\n",
    "- [Akademische Titel eintragen](#Akademische-Titel-eintragen)  \n",
    "- [Referenzwerke eintragen](#Referenzwerke-eintragen)\n",
    "- [Externe URLs eintragen](#Externe-URLs-eintragen)\n",
    "- [Externe IDs eintragen](#Externe-IDs-eintragen)\n",
    "- [Namensvarianten eintragen](#Namensvarianten-eintragen)\n",
    "- [Suchvarianten eintragen (`name_lookup`)](#Suchvarianten-eintragen-(name_lookup))\n",
    "- [`canon_lookup`](#canon_lookup)"
   ]
  },
  {
   "cell_type": "markdown",
   "metadata": {},
   "source": [
    "Quelle: Datenbank `domherr`"
   ]
  },
  {
   "cell_type": "markdown",
   "metadata": {},
   "source": [
    "Vorspann: Pakete laden; mit der Datenbank verbinden  \n",
    "Der Vorspann zur Bestimmung des Projekts kann entfallen mit dem Kernel `julia-data-io 1.7.0`"
   ]
  },
  {
   "cell_type": "code",
   "execution_count": 1,
   "metadata": {},
   "outputs": [
    {
     "data": {
      "text/plain": [
       "\"../..\""
      ]
     },
     "execution_count": 1,
     "metadata": {},
     "output_type": "execute_result"
    }
   ],
   "source": [
    "wds_path=\"../..\""
   ]
  },
  {
   "cell_type": "code",
   "execution_count": 2,
   "metadata": {},
   "outputs": [],
   "source": [
    "cd(wds_path)"
   ]
  },
  {
   "cell_type": "code",
   "execution_count": 3,
   "metadata": {},
   "outputs": [
    {
     "data": {
      "text/plain": [
       "\"C:\\\\Users\\\\georg\\\\Documents\\\\projekte\\\\WiagDataSetup.jl\""
      ]
     },
     "execution_count": 3,
     "metadata": {},
     "output_type": "execute_result"
    }
   ],
   "source": [
    "pwd()"
   ]
  },
  {
   "cell_type": "code",
   "execution_count": 4,
   "metadata": {},
   "outputs": [
    {
     "data": {
      "text/plain": [
       "\"C:\\\\Users\\\\georg\\\\Documents\\\\projekte-doc\\\\WIAGweb2\\\\data_sql\""
      ]
     },
     "execution_count": 4,
     "metadata": {},
     "output_type": "execute_result"
    }
   ],
   "source": [
    "out_path = \"C:\\\\Users\\\\georg\\\\Documents\\\\projekte-doc\\\\WIAGweb2\\\\data_sql\""
   ]
  },
  {
   "cell_type": "code",
   "execution_count": 5,
   "metadata": {},
   "outputs": [],
   "source": [
    "using Pkg"
   ]
  },
  {
   "cell_type": "code",
   "execution_count": 6,
   "metadata": {},
   "outputs": [
    {
     "name": "stderr",
     "output_type": "stream",
     "text": [
      "\u001b[32m\u001b[1m  Activating\u001b[22m\u001b[39m project at `C:\\Users\\georg\\Documents\\projekte\\WiagDataSetup.jl`\n"
     ]
    }
   ],
   "source": [
    "Pkg.activate(\".\")"
   ]
  },
  {
   "cell_type": "code",
   "execution_count": 1,
   "metadata": {},
   "outputs": [],
   "source": [
    "using Revise"
   ]
  },
  {
   "cell_type": "code",
   "execution_count": 2,
   "metadata": {},
   "outputs": [],
   "source": [
    "using WiagDataSetup"
   ]
  },
  {
   "cell_type": "code",
   "execution_count": 3,
   "metadata": {},
   "outputs": [],
   "source": [
    "using MySQL, DataFrames"
   ]
  },
  {
   "cell_type": "code",
   "execution_count": 4,
   "metadata": {},
   "outputs": [
    {
     "data": {
      "text/plain": [
       "120"
      ]
     },
     "execution_count": 4,
     "metadata": {},
     "output_type": "execute_result"
    }
   ],
   "source": [
    "ENV[\"COLUMNS\"] = 120"
   ]
  },
  {
   "cell_type": "code",
   "execution_count": 5,
   "metadata": {},
   "outputs": [
    {
     "data": {
      "text/plain": [
       "WiagDataSetup"
      ]
     },
     "execution_count": 5,
     "metadata": {},
     "output_type": "execute_result"
    }
   ],
   "source": [
    "Wds = WiagDataSetup"
   ]
  },
  {
   "cell_type": "code",
   "execution_count": 6,
   "metadata": {},
   "outputs": [
    {
     "name": "stdout",
     "output_type": "stream",
     "text": [
      "Passwort für User georg: ········\n"
     ]
    },
    {
     "data": {
      "text/plain": [
       "MySQL.Connection(host=\"127.0.0.1\", user=\"georg\", port=\"3306\", db=\"wiag2\")"
      ]
     },
     "execution_count": 6,
     "metadata": {},
     "output_type": "execute_result"
    }
   ],
   "source": [
    "Wds.setDBWIAG(user=\"georg\", db=\"wiag2\")"
   ]
  },
  {
   "cell_type": "markdown",
   "metadata": {},
   "source": [
    "Item Type ID"
   ]
  },
  {
   "cell_type": "code",
   "execution_count": 7,
   "metadata": {},
   "outputs": [
    {
     "data": {
      "text/plain": [
       "5"
      ]
     },
     "execution_count": 7,
     "metadata": {},
     "output_type": "execute_result"
    }
   ],
   "source": [
    "item_type_id = 5"
   ]
  },
  {
   "cell_type": "code",
   "execution_count": 256,
   "metadata": {},
   "outputs": [
    {
     "data": {
      "text/plain": [
       "\"C:\\\\Users\\\\georg\\\\Documents\\\\projekte-doc\\\\WIAGweb2\\\\data\\\\domherren-2022-10-19\""
      ]
     },
     "execution_count": 256,
     "metadata": {},
     "output_type": "execute_result"
    }
   ],
   "source": [
    "data_path = \"C:\\\\Users\\\\georg\\\\Documents\\\\projekte-doc\\\\WIAGweb2\\\\data\\\\domherren-2022-10-19\""
   ]
  },
  {
   "cell_type": "markdown",
   "metadata": {},
   "source": [
    "## Lösche Tabellen für ein umfassendes Update"
   ]
  },
  {
   "cell_type": "code",
   "execution_count": 257,
   "metadata": {},
   "outputs": [
    {
     "data": {
      "text/plain": [
       "MySQL.TextCursor{true}(MySQL.Connection(host=\"127.0.0.1\", user=\"georg\", port=\"3306\", db=\"wiag2\"), \"DELETE FROM name_lookup\\nWHERE person_id IN\\n(SELECT id FROM item WHERE item_type_id = 5)\", 0, -1, 37535, MySQL.API.MYSQL_RES(Ptr{Nothing} @0x0000000000000000), Symbol[], Type[], Dict{Symbol, Int64}(), 0, 1, false)"
      ]
     },
     "execution_count": 257,
     "metadata": {},
     "output_type": "execute_result"
    }
   ],
   "source": [
    "table_name = \"name_lookup\";\n",
    "sql = \"DELETE FROM $(table_name)\n",
    "WHERE person_id IN\n",
    "(SELECT id FROM item WHERE item_type_id = $(item_type_id))\";\n",
    "DBInterface.execute(Wds.dbwiag, sql)"
   ]
  },
  {
   "cell_type": "code",
   "execution_count": 258,
   "metadata": {},
   "outputs": [
    {
     "data": {
      "text/plain": [
       "MySQL.TextCursor{true}(MySQL.Connection(host=\"127.0.0.1\", user=\"georg\", port=\"3306\", db=\"wiag2\"), \"DELETE FROM familyname_variant\\nWHERE person_id IN\\n(SELECT id FROM item WHERE item_type_id = 5)\", 0, -1, 2144, MySQL.API.MYSQL_RES(Ptr{Nothing} @0x0000000000000000), Symbol[], Type[], Dict{Symbol, Int64}(), 0, 1, false)"
      ]
     },
     "execution_count": 258,
     "metadata": {},
     "output_type": "execute_result"
    }
   ],
   "source": [
    "table_name = \"familyname_variant\";\n",
    "sql = \"DELETE FROM $(table_name)\n",
    "WHERE person_id IN\n",
    "(SELECT id FROM item WHERE item_type_id = $(item_type_id))\";\n",
    "DBInterface.execute(Wds.dbwiag, sql)"
   ]
  },
  {
   "cell_type": "code",
   "execution_count": 259,
   "metadata": {},
   "outputs": [
    {
     "data": {
      "text/plain": [
       "MySQL.TextCursor{true}(MySQL.Connection(host=\"127.0.0.1\", user=\"georg\", port=\"3306\", db=\"wiag2\"), \"DELETE FROM givenname_variant\\nWHERE person_id IN\\n(SELECT id FROM item WHERE item_type_id = 5)\", 0, -1, 1308, MySQL.API.MYSQL_RES(Ptr{Nothing} @0x0000000000000000), Symbol[], Type[], Dict{Symbol, Int64}(), 0, 1, false)"
      ]
     },
     "execution_count": 259,
     "metadata": {},
     "output_type": "execute_result"
    }
   ],
   "source": [
    "table_name = \"givenname_variant\";\n",
    "sql = \"DELETE FROM $(table_name)\n",
    "WHERE person_id IN\n",
    "(SELECT id FROM item WHERE item_type_id = $(item_type_id))\";\n",
    "DBInterface.execute(Wds.dbwiag, sql)"
   ]
  },
  {
   "cell_type": "code",
   "execution_count": 260,
   "metadata": {},
   "outputs": [
    {
     "data": {
      "text/plain": [
       "MySQL.TextCursor{true}(MySQL.Connection(host=\"127.0.0.1\", user=\"georg\", port=\"3306\", db=\"wiag2\"), \"DELETE FROM url_external\\nWHERE item_id IN\\n(SELECT id FROM item WHERE item_type_id = 5)\", 0, -1, 2079, MySQL.API.MYSQL_RES(Ptr{Nothing} @0x0000000000000000), Symbol[], Type[], Dict{Symbol, Int64}(), 0, 1, false)"
      ]
     },
     "execution_count": 260,
     "metadata": {},
     "output_type": "execute_result"
    }
   ],
   "source": [
    "table_name = \"url_external\";\n",
    "sql = \"DELETE FROM $(table_name)\n",
    "WHERE item_id IN\n",
    "(SELECT id FROM item WHERE item_type_id = $(item_type_id))\";\n",
    "DBInterface.execute(Wds.dbwiag, sql)"
   ]
  },
  {
   "cell_type": "code",
   "execution_count": 261,
   "metadata": {},
   "outputs": [
    {
     "data": {
      "text/plain": [
       "MySQL.TextCursor{true}(MySQL.Connection(host=\"127.0.0.1\", user=\"georg\", port=\"3306\", db=\"wiag2\"), \"DELETE FROM id_external\\nWHERE item_id IN\\n(SELECT id FROM item WHERE item_type_id = 5)\", 0, -1, 13617, MySQL.API.MYSQL_RES(Ptr{Nothing} @0x0000000000000000), Symbol[], Type[], Dict{Symbol, Int64}(), 0, 1, false)"
      ]
     },
     "execution_count": 261,
     "metadata": {},
     "output_type": "execute_result"
    }
   ],
   "source": [
    "table_name = \"id_external\";\n",
    "sql = \"DELETE FROM $(table_name)\n",
    "WHERE item_id IN\n",
    "(SELECT id FROM item WHERE item_type_id = $(item_type_id))\";\n",
    "DBInterface.execute(Wds.dbwiag, sql)"
   ]
  },
  {
   "cell_type": "code",
   "execution_count": 262,
   "metadata": {},
   "outputs": [
    {
     "data": {
      "text/plain": [
       "MySQL.TextCursor{true}(MySQL.Connection(host=\"127.0.0.1\", user=\"georg\", port=\"3306\", db=\"wiag2\"), \"DELETE FROM person_role_property\\nWHERE person_role_id IN\\n(SELECT id FROM person_role\\nWHERE person_id in (SELECT id from item WHERE item_type_id = 5))\", 0, -1, 0, MySQL.API.MYSQL_RES(Ptr{Nothing} @0x0000000000000000), Symbol[], Type[], Dict{Symbol, Int64}(), 0, 1, false)"
      ]
     },
     "execution_count": 262,
     "metadata": {},
     "output_type": "execute_result"
    }
   ],
   "source": [
    "table_name = \"person_role_property\";\n",
    "sql = \"DELETE FROM $(table_name)\n",
    "WHERE person_role_id IN\n",
    "(SELECT id FROM person_role\n",
    "WHERE person_id in (SELECT id from item WHERE item_type_id = $(item_type_id)))\";\n",
    "DBInterface.execute(Wds.dbwiag, sql)"
   ]
  },
  {
   "cell_type": "code",
   "execution_count": 263,
   "metadata": {},
   "outputs": [
    {
     "data": {
      "text/plain": [
       "MySQL.TextCursor{true}(MySQL.Connection(host=\"127.0.0.1\", user=\"georg\", port=\"3306\", db=\"wiag2\"), \"DELETE FROM person_role\\nWHERE person_id IN\\n(SELECT id FROM item WHERE item_type_id = 5)\", 0, -1, 0, MySQL.API.MYSQL_RES(Ptr{Nothing} @0x0000000000000000), Symbol[], Type[], Dict{Symbol, Int64}(), 0, 1, false)"
      ]
     },
     "execution_count": 263,
     "metadata": {},
     "output_type": "execute_result"
    }
   ],
   "source": [
    "table_name = \"person_role\";\n",
    "sql = \"DELETE FROM $(table_name)\n",
    "WHERE person_id IN\n",
    "(SELECT id FROM item WHERE item_type_id = $(item_type_id))\";\n",
    "DBInterface.execute(Wds.dbwiag, sql)"
   ]
  },
  {
   "cell_type": "code",
   "execution_count": 264,
   "metadata": {},
   "outputs": [
    {
     "data": {
      "text/plain": [
       "MySQL.TextCursor{true}(MySQL.Connection(host=\"127.0.0.1\", user=\"georg\", port=\"3306\", db=\"wiag2\"), \"DELETE FROM person\\nWHERE id IN\\n(SELECT id FROM item WHERE item_type_id = 5)\", 0, -1, 25934, MySQL.API.MYSQL_RES(Ptr{Nothing} @0x0000000000000000), Symbol[], Type[], Dict{Symbol, Int64}(), 0, 1, false)"
      ]
     },
     "execution_count": 264,
     "metadata": {},
     "output_type": "execute_result"
    }
   ],
   "source": [
    "table_name = \"person\";\n",
    "sql = \"DELETE FROM $(table_name)\n",
    "WHERE id IN\n",
    "(SELECT id FROM item WHERE item_type_id = $(item_type_id))\";\n",
    "DBInterface.execute(Wds.dbwiag, sql)"
   ]
  },
  {
   "cell_type": "code",
   "execution_count": 265,
   "metadata": {},
   "outputs": [
    {
     "data": {
      "text/plain": [
       "MySQL.TextCursor{true}(MySQL.Connection(host=\"127.0.0.1\", user=\"georg\", port=\"3306\", db=\"wiag2\"), \"DELETE FROM item_reference\\nWHERE item_id IN\\n(SELECT id FROM item WHERE item_type_id = 5)\", 0, -1, 27636, MySQL.API.MYSQL_RES(Ptr{Nothing} @0x0000000000000000), Symbol[], Type[], Dict{Symbol, Int64}(), 0, 1, false)"
      ]
     },
     "execution_count": 265,
     "metadata": {},
     "output_type": "execute_result"
    }
   ],
   "source": [
    "table_name = \"item_reference\";\n",
    "sql = \"DELETE FROM $(table_name)\n",
    "WHERE item_id IN\n",
    "(SELECT id FROM item WHERE item_type_id = $(item_type_id))\";\n",
    "DBInterface.execute(Wds.dbwiag, sql)"
   ]
  },
  {
   "cell_type": "code",
   "execution_count": 44,
   "metadata": {},
   "outputs": [
    {
     "data": {
      "text/plain": [
       "MySQL.TextCursor{true}(MySQL.Connection(host=\"127.0.0.1\", user=\"georg\", port=\"3306\", db=\"wiag2\"), \"DELETE FROM item\\nWHERE item_type_id = 5\", 0, -1, 22780, MySQL.API.MYSQL_RES(Ptr{Nothing} @0x0000000000000000), Symbol[], Type[], Dict{Symbol, Int64}(), 0, 1, false)"
      ]
     },
     "execution_count": 44,
     "metadata": {},
     "output_type": "execute_result"
    }
   ],
   "source": [
    "table_name = \"item\";\n",
    "sql = \"DELETE FROM $(table_name)\n",
    "WHERE item_type_id = $(item_type_id)\";\n",
    "DBInterface.execute(Wds.dbwiag, sql)"
   ]
  },
  {
   "cell_type": "markdown",
   "metadata": {},
   "source": [
    "## Literatur"
   ]
  },
  {
   "cell_type": "code",
   "execution_count": 20,
   "metadata": {},
   "outputs": [],
   "source": [
    "# Quelle Datenbank\n",
    "sql = \"SELECT * FROM domherr.tbl_reference\"\n",
    "df_vol = Wds.sql_df(sql);"
   ]
  },
  {
   "cell_type": "code",
   "execution_count": 18,
   "metadata": {},
   "outputs": [],
   "source": [
    "using CSV"
   ]
  },
  {
   "cell_type": "code",
   "execution_count": 266,
   "metadata": {
    "scrolled": true
   },
   "outputs": [
    {
     "data": {
      "text/plain": [
       "(163, 7)"
      ]
     },
     "execution_count": 266,
     "metadata": {},
     "output_type": "execute_result"
    }
   ],
   "source": [
    "# Quelle CSV-Datei\n",
    "filename = joinpath(data_path, \"tbl_Reference.csv\");\n",
    "df_vol = CSV.read(filename, DataFrame);\n",
    "size(df_vol)"
   ]
  },
  {
   "cell_type": "markdown",
   "metadata": {},
   "source": [
    "Manche Einträge sind unvollständig (2022-10-14 ?!)  \n",
    "*2022-10-14* 8 Neuzugänge"
   ]
  },
  {
   "cell_type": "code",
   "execution_count": 267,
   "metadata": {},
   "outputs": [
    {
     "data": {
      "text/plain": [
       "(163, 7)"
      ]
     },
     "execution_count": 267,
     "metadata": {},
     "output_type": "execute_result"
    }
   ],
   "source": [
    "Wds.clean_up!(df_vol);\n",
    "size(df_vol)"
   ]
  },
  {
   "cell_type": "code",
   "execution_count": 268,
   "metadata": {},
   "outputs": [
    {
     "data": {
      "text/plain": [
       "7-element Vector{String}:\n",
       " \"ID_Ref\"\n",
       " \"Literatur\"\n",
       " \"Verfasser\"\n",
       " \"OnlineRessource\"\n",
       " \"Kurztitel\"\n",
       " \"ZitationGS\"\n",
       " \"Sort\""
      ]
     },
     "execution_count": 268,
     "metadata": {},
     "output_type": "execute_result"
    }
   ],
   "source": [
    "names(df_vol)"
   ]
  },
  {
   "cell_type": "code",
   "execution_count": 269,
   "metadata": {},
   "outputs": [
    {
     "data": {
      "text/plain": [
       "7-element Vector{Pair{Symbol, Symbol}}:\n",
       "          :ID_Ref => :reference_id\n",
       "       :Literatur => :full_citation\n",
       "       :Verfasser => :author_editor\n",
       " :OnlineRessource => :online_resource\n",
       "       :Kurztitel => :title_short\n",
       "            :Sort => :display_order\n",
       "      :ZitationGS => :gs_citation"
      ]
     },
     "execution_count": 269,
     "metadata": {},
     "output_type": "execute_result"
    }
   ],
   "source": [
    "columns = [\n",
    "    :ID_Ref => :reference_id,\n",
    "    :Literatur => :full_citation,\n",
    "    :Verfasser => :author_editor,\n",
    "    :OnlineRessource => :online_resource,\n",
    "    :Kurztitel => :title_short,\n",
    "    :Sort => :display_order,\n",
    "    :ZitationGS => :gs_citation\n",
    "]"
   ]
  },
  {
   "cell_type": "code",
   "execution_count": 270,
   "metadata": {},
   "outputs": [],
   "source": [
    "df_vol_db = select(df_vol, columns);"
   ]
  },
  {
   "cell_type": "code",
   "execution_count": 271,
   "metadata": {},
   "outputs": [],
   "source": [
    "insertcols!(df_vol_db,\n",
    "    :item_type_id => item_type_id);"
   ]
  },
  {
   "cell_type": "markdown",
   "metadata": {},
   "source": [
    "Bestehende Einträge löschen"
   ]
  },
  {
   "cell_type": "code",
   "execution_count": 272,
   "metadata": {},
   "outputs": [
    {
     "data": {
      "text/plain": [
       "MySQL.TextCursor{true}(MySQL.Connection(host=\"127.0.0.1\", user=\"georg\", port=\"3306\", db=\"wiag2\"), \"DELETE FROM reference_volume WHERE item_type_id = 5\", 0, -1, 162, MySQL.API.MYSQL_RES(Ptr{Nothing} @0x0000000000000000), Symbol[], Type[], Dict{Symbol, Int64}(), 0, 1, false)"
      ]
     },
     "execution_count": 272,
     "metadata": {},
     "output_type": "execute_result"
    }
   ],
   "source": [
    "table_name = \"reference_volume\"\n",
    "sql = \"DELETE FROM $(table_name) WHERE item_type_id = $(item_type_id)\";\n",
    "DBInterface.execute(Wds.dbwiag, sql)"
   ]
  },
  {
   "cell_type": "markdown",
   "metadata": {},
   "source": [
    "Daten eintragen"
   ]
  },
  {
   "cell_type": "code",
   "execution_count": 273,
   "metadata": {},
   "outputs": [
    {
     "name": "stderr",
     "output_type": "stream",
     "text": [
      "┌ Info: Rows inserted: 163\n",
      "└ @ WiagDataSetup C:\\Users\\georg\\Documents\\projekte\\WiagDataSetup.jl\\src\\WiagDataSetup.jl:1216\n"
     ]
    },
    {
     "data": {
      "text/plain": [
       "163"
      ]
     },
     "execution_count": 273,
     "metadata": {},
     "output_type": "execute_result"
    }
   ],
   "source": [
    "table_name = \"reference_volume\"\n",
    "Wds.filltable!(table_name, df_vol_db, clear_table = false)"
   ]
  },
  {
   "cell_type": "markdown",
   "metadata": {},
   "source": [
    "## Domherren"
   ]
  },
  {
   "cell_type": "code",
   "execution_count": 47,
   "metadata": {},
   "outputs": [],
   "source": [
    "using CSV"
   ]
  },
  {
   "cell_type": "code",
   "execution_count": 274,
   "metadata": {},
   "outputs": [
    {
     "data": {
      "text/plain": [
       "(26073, 48)"
      ]
     },
     "execution_count": 274,
     "metadata": {},
     "output_type": "execute_result"
    }
   ],
   "source": [
    "# Quelle CSV-Datei\n",
    "filename = joinpath(data_path, \"tbl_domherren.csv\")\n",
    "df_cn = CSV.read(filename, DataFrame, stringtype=String);\n",
    "size(df_cn)"
   ]
  },
  {
   "cell_type": "code",
   "execution_count": null,
   "metadata": {},
   "outputs": [],
   "source": [
    "# Quelle Datenbank\n",
    "sql = \"SELECT * FROM domherr.tbl_domherren\";\n",
    "df_cn = Wds.sql_df(sql); "
   ]
  },
  {
   "cell_type": "markdown",
   "metadata": {},
   "source": [
    "Leerzeichen bereinigen"
   ]
  },
  {
   "cell_type": "code",
   "execution_count": 275,
   "metadata": {},
   "outputs": [],
   "source": [
    "Wds.clean_up!(df_cn)"
   ]
  },
  {
   "cell_type": "code",
   "execution_count": 276,
   "metadata": {},
   "outputs": [
    {
     "data": {
      "text/plain": [
       "18-element Vector{Union{Missing, String}}:\n",
       " \"fertig\"\n",
       " \"Dublette\"\n",
       " \"online\"\n",
       " \"xx\"\n",
       " \"xxN\"\n",
       " \"merged\"\n",
       " \"xxMainz\"\n",
       " \"importiert\"\n",
       " \"xxNN\"\n",
       " \"xxC\"\n",
       " \"zurückgestelltxxN\"\n",
       " \"zurückgestellt\"\n",
       " \"zurückgestellt xxN\"\n",
       " missing\n",
       " \"xxB\"\n",
       " \"xxJ\"\n",
       " \"zurückgestelltXXN\"\n",
       " \"zurückgestellt XXN\""
      ]
     },
     "execution_count": 276,
     "metadata": {},
     "output_type": "execute_result"
    }
   ],
   "source": [
    "unique(df_cn.Status)"
   ]
  },
  {
   "cell_type": "code",
   "execution_count": 31,
   "metadata": {},
   "outputs": [
    {
     "data": {
      "text/html": [
       "<div class=\"data-frame\"><p>5 rows × 48 columns (omitted printing of 39 columns)</p><table class=\"data-frame\"><thead><tr><th></th><th>ID_Domherr</th><th>Eintrag_Quelle</th><th>Seite_Quelle</th><th>Quelle</th><th>Praefix</th><th>Vorname</th><th>Familienname</th><th>Sterbedatum</th><th>Geburtsdatum</th></tr><tr><th></th><th title=\"Int64\">Int64</th><th title=\"Union{Missing, String}\">String?</th><th title=\"Union{Missing, String}\">String?</th><th title=\"Union{Missing, Int64}\">Int64?</th><th title=\"Union{Missing, String}\">String?</th><th title=\"Union{Missing, String}\">String?</th><th title=\"Union{Missing, String}\">String?</th><th title=\"Union{Missing, String}\">String?</th><th title=\"Union{Missing, String}\">String?</th></tr></thead><tbody><tr><th>1</th><td>10000</td><td><em>missing</em></td><td>167, 183</td><td>6</td><td>von</td><td>Friedrich Wilhelm</td><td>Loe</td><td>1689</td><td><em>missing</em></td></tr><tr><th>2</th><td>10001</td><td><em>missing</em></td><td>183</td><td>6</td><td>von</td><td>Johann Heinrich</td><td>Metzenhausen</td><td><em>missing</em></td><td><em>missing</em></td></tr><tr><th>3</th><td>10002</td><td><em>missing</em></td><td>183</td><td>6</td><td>von</td><td>Philipp Friedrich</td><td>Metzenhausen</td><td><em>missing</em></td><td><em>missing</em></td></tr><tr><th>4</th><td>10003</td><td><em>missing</em></td><td>183</td><td>6</td><td>von der</td><td>Damian Friedrich</td><td>Fels</td><td>1684</td><td><em>missing</em></td></tr><tr><th>5</th><td>10004</td><td><em>missing</em></td><td>183, 189</td><td>6</td><td>von</td><td>Friedrich Ernst</td><td>Eltz-Rodendorf</td><td><em>missing</em></td><td><em>missing</em></td></tr></tbody></table></div>"
      ],
      "text/latex": [
       "\\begin{tabular}{r|cccccccccc}\n",
       "\t& ID\\_Domherr & Eintrag\\_Quelle & Seite\\_Quelle & Quelle & Praefix & Vorname & Familienname & Sterbedatum & Geburtsdatum & \\\\\n",
       "\t\\hline\n",
       "\t& Int64 & String? & String? & Int64? & String? & String? & String? & String? & String? & \\\\\n",
       "\t\\hline\n",
       "\t1 & 10000 & \\emph{missing} & 167, 183 & 6 & von & Friedrich Wilhelm & Loe & 1689 & \\emph{missing} & $\\dots$ \\\\\n",
       "\t2 & 10001 & \\emph{missing} & 183 & 6 & von & Johann Heinrich & Metzenhausen & \\emph{missing} & \\emph{missing} & $\\dots$ \\\\\n",
       "\t3 & 10002 & \\emph{missing} & 183 & 6 & von & Philipp Friedrich & Metzenhausen & \\emph{missing} & \\emph{missing} & $\\dots$ \\\\\n",
       "\t4 & 10003 & \\emph{missing} & 183 & 6 & von der & Damian Friedrich & Fels & 1684 & \\emph{missing} & $\\dots$ \\\\\n",
       "\t5 & 10004 & \\emph{missing} & 183, 189 & 6 & von & Friedrich Ernst & Eltz-Rodendorf & \\emph{missing} & \\emph{missing} & $\\dots$ \\\\\n",
       "\\end{tabular}\n"
      ],
      "text/plain": [
       "\u001b[1m5×48 DataFrame\u001b[0m\n",
       "\u001b[1m Row \u001b[0m│\u001b[1m ID_Domherr \u001b[0m\u001b[1m Eintrag_Quelle \u001b[0m\u001b[1m Seite_Quelle \u001b[0m\u001b[1m Quelle \u001b[0m\u001b[1m Praefix \u001b[0m\u001b[1m Vorname           \u001b[0m\u001b[1m Familienname   \u001b[0m\u001b[1m Sterbedatum \u001b[0m\u001b[1m Gebu\u001b[0m ⋯\n",
       "\u001b[1m     \u001b[0m│\u001b[90m Int64      \u001b[0m\u001b[90m String?        \u001b[0m\u001b[90m String?      \u001b[0m\u001b[90m Int64? \u001b[0m\u001b[90m String? \u001b[0m\u001b[90m String?           \u001b[0m\u001b[90m String?        \u001b[0m\u001b[90m String?     \u001b[0m\u001b[90m Stri\u001b[0m ⋯\n",
       "─────┼──────────────────────────────────────────────────────────────────────────────────────────────────────────────────\n",
       "   1 │      10000 \u001b[90m missing        \u001b[0m 167, 183           6  von      Friedrich Wilhelm  Loe             1689        \u001b[90m miss\u001b[0m ⋯\n",
       "   2 │      10001 \u001b[90m missing        \u001b[0m 183                6  von      Johann Heinrich    Metzenhausen   \u001b[90m missing     \u001b[0m\u001b[90m miss\u001b[0m\n",
       "   3 │      10002 \u001b[90m missing        \u001b[0m 183                6  von      Philipp Friedrich  Metzenhausen   \u001b[90m missing     \u001b[0m\u001b[90m miss\u001b[0m\n",
       "   4 │      10003 \u001b[90m missing        \u001b[0m 183                6  von der  Damian Friedrich   Fels            1684        \u001b[90m miss\u001b[0m\n",
       "   5 │      10004 \u001b[90m missing        \u001b[0m 183, 189           6  von      Friedrich Ernst    Eltz-Rodendorf \u001b[90m missing     \u001b[0m\u001b[90m miss\u001b[0m ⋯\n",
       "\u001b[36m                                                                                                      40 columns omitted\u001b[0m"
      ]
     },
     "execution_count": 31,
     "metadata": {},
     "output_type": "execute_result"
    }
   ],
   "source": [
    "first(df_cn, 5)"
   ]
  },
  {
   "cell_type": "markdown",
   "metadata": {},
   "source": [
    "*2022-03-10* prüfe auf unorthodoxe Einräge in `WIAG_ID_Bischof`"
   ]
  },
  {
   "cell_type": "code",
   "execution_count": 277,
   "metadata": {},
   "outputs": [],
   "source": [
    "df_cn_ID_Bischof = dropmissing(df_cn, :WIAG_ID_Bischof);"
   ]
  },
  {
   "cell_type": "code",
   "execution_count": 278,
   "metadata": {},
   "outputs": [
    {
     "data": {
      "text/html": [
       "<div class=\"data-frame\"><p>5 rows × 5 columns</p><table class=\"data-frame\"><thead><tr><th></th><th>ID_Domherr</th><th>Vorname</th><th>Familienname</th><th>WIAG_ID_Bischof</th><th>Status</th></tr><tr><th></th><th title=\"Int64\">Int64</th><th title=\"Union{Missing, String}\">String?</th><th title=\"Union{Missing, String}\">String?</th><th title=\"String\">String</th><th title=\"Union{Missing, String}\">String?</th></tr></thead><tbody><tr><th>1</th><td>13481</td><td>Konrad</td><td>Velber</td><td>WIAG-Pers-EPISCGatz-03251-001</td><td>merged</td></tr><tr><th>2</th><td>13482</td><td>Konrad</td><td>Babenberg</td><td>WIAG-Pers-EPISCGatz-04687-001</td><td>merged</td></tr><tr><th>3</th><td>13484</td><td>Osdag</td><td><em>missing</em></td><td>WIAG-Pers-EPISCGatz-04147-001</td><td>online</td></tr><tr><th>4</th><td>13486</td><td>Rainald</td><td>Dassel</td><td>WIAG-Pers-EPISCGatz-04213-001</td><td>merged</td></tr><tr><th>5</th><td>13488</td><td>Volkward</td><td><em>missing</em></td><td>WIAG-Pers-EPISCGatz-03917-001</td><td>online</td></tr></tbody></table></div>"
      ],
      "text/latex": [
       "\\begin{tabular}{r|ccccc}\n",
       "\t& ID\\_Domherr & Vorname & Familienname & WIAG\\_ID\\_Bischof & Status\\\\\n",
       "\t\\hline\n",
       "\t& Int64 & String? & String? & String & String?\\\\\n",
       "\t\\hline\n",
       "\t1 & 13481 & Konrad & Velber & WIAG-Pers-EPISCGatz-03251-001 & merged \\\\\n",
       "\t2 & 13482 & Konrad & Babenberg & WIAG-Pers-EPISCGatz-04687-001 & merged \\\\\n",
       "\t3 & 13484 & Osdag & \\emph{missing} & WIAG-Pers-EPISCGatz-04147-001 & online \\\\\n",
       "\t4 & 13486 & Rainald & Dassel & WIAG-Pers-EPISCGatz-04213-001 & merged \\\\\n",
       "\t5 & 13488 & Volkward & \\emph{missing} & WIAG-Pers-EPISCGatz-03917-001 & online \\\\\n",
       "\\end{tabular}\n"
      ],
      "text/plain": [
       "\u001b[1m5×5 DataFrame\u001b[0m\n",
       "\u001b[1m Row \u001b[0m│\u001b[1m ID_Domherr \u001b[0m\u001b[1m Vorname  \u001b[0m\u001b[1m Familienname \u001b[0m\u001b[1m WIAG_ID_Bischof               \u001b[0m\u001b[1m Status  \u001b[0m\n",
       "\u001b[1m     \u001b[0m│\u001b[90m Int64      \u001b[0m\u001b[90m String?  \u001b[0m\u001b[90m String?      \u001b[0m\u001b[90m String                        \u001b[0m\u001b[90m String? \u001b[0m\n",
       "─────┼────────────────────────────────────────────────────────────────────────────\n",
       "   1 │      13481  Konrad    Velber        WIAG-Pers-EPISCGatz-03251-001  merged\n",
       "   2 │      13482  Konrad    Babenberg     WIAG-Pers-EPISCGatz-04687-001  merged\n",
       "   3 │      13484  Osdag    \u001b[90m missing      \u001b[0m WIAG-Pers-EPISCGatz-04147-001  online\n",
       "   4 │      13486  Rainald   Dassel        WIAG-Pers-EPISCGatz-04213-001  merged\n",
       "   5 │      13488  Volkward \u001b[90m missing      \u001b[0m WIAG-Pers-EPISCGatz-03917-001  online"
      ]
     },
     "execution_count": 278,
     "metadata": {},
     "output_type": "execute_result"
    }
   ],
   "source": [
    "df_cn_ID_Bischof[201:205, [:ID_Domherr, :Vorname, :Familienname, :WIAG_ID_Bischof, :Status]]"
   ]
  },
  {
   "cell_type": "code",
   "execution_count": 279,
   "metadata": {},
   "outputs": [],
   "source": [
    "find_spurious(a) = !ismissing(a) && occursin(\"http\", a)\n",
    "df_cn_sp = subset(df_cn, :WIAG_ID_Bischof => ByRow(find_spurious));"
   ]
  },
  {
   "cell_type": "code",
   "execution_count": 280,
   "metadata": {},
   "outputs": [
    {
     "data": {
      "text/plain": [
       "(1, 48)"
      ]
     },
     "execution_count": 280,
     "metadata": {},
     "output_type": "execute_result"
    }
   ],
   "source": [
    "# 2022-05-20\n",
    "size(df_cn_sp)"
   ]
  },
  {
   "cell_type": "code",
   "execution_count": 281,
   "metadata": {},
   "outputs": [
    {
     "data": {
      "text/html": [
       "<div class=\"data-frame\"><p>1 rows × 5 columns</p><table class=\"data-frame\"><thead><tr><th></th><th>ID_Domherr</th><th>Vorname</th><th>Familienname</th><th>WIAG_ID_Bischof</th><th>Status</th></tr><tr><th></th><th title=\"Int64\">Int64</th><th title=\"Union{Missing, String}\">String?</th><th title=\"Union{Missing, String}\">String?</th><th title=\"Union{Missing, String}\">String?</th><th title=\"Union{Missing, String}\">String?</th></tr></thead><tbody><tr><th>1</th><td>47065</td><td>Balthasar</td><td>Rantzau</td><td>https://wiag-vocab.adw-goe.de/id/WIAG-Pers-EPISCGatz-20814-001</td><td>merged</td></tr></tbody></table></div>"
      ],
      "text/latex": [
       "\\begin{tabular}{r|ccccc}\n",
       "\t& ID\\_Domherr & Vorname & Familienname & WIAG\\_ID\\_Bischof & Status\\\\\n",
       "\t\\hline\n",
       "\t& Int64 & String? & String? & String? & String?\\\\\n",
       "\t\\hline\n",
       "\t1 & 47065 & Balthasar & Rantzau & https://wiag-vocab.adw-goe.de/id/WIAG-Pers-EPISCGatz-20814-001 & merged \\\\\n",
       "\\end{tabular}\n"
      ],
      "text/plain": [
       "\u001b[1m1×5 DataFrame\u001b[0m\n",
       "\u001b[1m Row \u001b[0m│\u001b[1m ID_Domherr \u001b[0m\u001b[1m Vorname   \u001b[0m\u001b[1m Familienname \u001b[0m\u001b[1m WIAG_ID_Bischof                   \u001b[0m\u001b[1m Status  \u001b[0m\n",
       "\u001b[1m     \u001b[0m│\u001b[90m Int64      \u001b[0m\u001b[90m String?   \u001b[0m\u001b[90m String?      \u001b[0m\u001b[90m String?                           \u001b[0m\u001b[90m String? \u001b[0m\n",
       "─────┼─────────────────────────────────────────────────────────────────────────────────\n",
       "   1 │      47065  Balthasar  Rantzau       https://wiag-vocab.adw-goe.de/id…  merged"
      ]
     },
     "execution_count": 281,
     "metadata": {},
     "output_type": "execute_result"
    }
   ],
   "source": [
    "df_cn_sp[:, [:ID_Domherr, :Vorname, :Familienname, :WIAG_ID_Bischof, :Status]]"
   ]
  },
  {
   "cell_type": "code",
   "execution_count": 57,
   "metadata": {},
   "outputs": [
    {
     "data": {
      "text/plain": [
       "\"C:\\\\Users\\\\georg\\\\Documents\\\\projekte-doc\\\\WIAGweb2\\\\data\\\\WIAG_ID_Bischof_2022-07-26.csv\""
      ]
     },
     "execution_count": 57,
     "metadata": {},
     "output_type": "execute_result"
    }
   ],
   "source": [
    "filename_sp = \"C:\\\\Users\\\\georg\\\\Documents\\\\projekte-doc\\\\WIAGweb2\\\\data\\\\WIAG_ID_Bischof_2022-07-26.csv\"\n",
    "CSV.write(filename_sp, df_cn_sp)"
   ]
  },
  {
   "cell_type": "markdown",
   "metadata": {},
   "source": [
    "Extrahiere die eigentliche ID"
   ]
  },
  {
   "cell_type": "code",
   "execution_count": 282,
   "metadata": {},
   "outputs": [
    {
     "data": {
      "text/plain": [
       "get_WIAG_ID_Bischof (generic function with 1 method)"
      ]
     },
     "execution_count": 282,
     "metadata": {},
     "output_type": "execute_result"
    }
   ],
   "source": [
    "function get_WIAG_ID_Bischof(s)\n",
    "    if ismissing(s)\n",
    "        return s\n",
    "    end\n",
    "    rgx = r\".*(WIAG-Pers-EPISCGatz-[0-9]+-[0-9]+).*\"\n",
    "    rgm = match(rgx, s)\n",
    "    if !isnothing(rgm)\n",
    "        return rgm[1]\n",
    "    else\n",
    "        @warn s\n",
    "    end\n",
    "    return missing\n",
    "end\n",
    "    "
   ]
  },
  {
   "cell_type": "code",
   "execution_count": 283,
   "metadata": {},
   "outputs": [],
   "source": [
    "transform!(df_cn_sp, :WIAG_ID_Bischof => ByRow(get_WIAG_ID_Bischof) => :WIAG_ID_Bischof);"
   ]
  },
  {
   "cell_type": "code",
   "execution_count": 284,
   "metadata": {},
   "outputs": [
    {
     "data": {
      "text/html": [
       "<div class=\"data-frame\"><p>1 rows × 5 columns</p><table class=\"data-frame\"><thead><tr><th></th><th>ID_Domherr</th><th>Vorname</th><th>Familienname</th><th>WIAG_ID_Bischof</th><th>Status</th></tr><tr><th></th><th title=\"Int64\">Int64</th><th title=\"Union{Missing, String}\">String?</th><th title=\"Union{Missing, String}\">String?</th><th title=\"SubString{String}\">SubStri…</th><th title=\"Union{Missing, String}\">String?</th></tr></thead><tbody><tr><th>1</th><td>47065</td><td>Balthasar</td><td>Rantzau</td><td>WIAG-Pers-EPISCGatz-20814-001</td><td>merged</td></tr></tbody></table></div>"
      ],
      "text/latex": [
       "\\begin{tabular}{r|ccccc}\n",
       "\t& ID\\_Domherr & Vorname & Familienname & WIAG\\_ID\\_Bischof & Status\\\\\n",
       "\t\\hline\n",
       "\t& Int64 & String? & String? & SubStri… & String?\\\\\n",
       "\t\\hline\n",
       "\t1 & 47065 & Balthasar & Rantzau & WIAG-Pers-EPISCGatz-20814-001 & merged \\\\\n",
       "\\end{tabular}\n"
      ],
      "text/plain": [
       "\u001b[1m1×5 DataFrame\u001b[0m\n",
       "\u001b[1m Row \u001b[0m│\u001b[1m ID_Domherr \u001b[0m\u001b[1m Vorname   \u001b[0m\u001b[1m Familienname \u001b[0m\u001b[1m WIAG_ID_Bischof               \u001b[0m\u001b[1m Status  \u001b[0m\n",
       "\u001b[1m     \u001b[0m│\u001b[90m Int64      \u001b[0m\u001b[90m String?   \u001b[0m\u001b[90m String?      \u001b[0m\u001b[90m SubString…                    \u001b[0m\u001b[90m String? \u001b[0m\n",
       "─────┼─────────────────────────────────────────────────────────────────────────────\n",
       "   1 │      47065  Balthasar  Rantzau       WIAG-Pers-EPISCGatz-20814-001  merged"
      ]
     },
     "execution_count": 284,
     "metadata": {},
     "output_type": "execute_result"
    }
   ],
   "source": [
    "df_cn_sp[:, [:ID_Domherr, :Vorname, :Familienname, :WIAG_ID_Bischof, :Status]]"
   ]
  },
  {
   "cell_type": "code",
   "execution_count": 285,
   "metadata": {},
   "outputs": [
    {
     "name": "stderr",
     "output_type": "stream",
     "text": [
      "┌ Warning: WIAG-EPISCGatz-03304-001\n",
      "└ @ Main In[282]:10\n"
     ]
    }
   ],
   "source": [
    "transform!(df_cn, :WIAG_ID_Bischof => ByRow(get_WIAG_ID_Bischof) => :WIAG_ID_Bischof);"
   ]
  },
  {
   "cell_type": "markdown",
   "metadata": {},
   "source": [
    "*2022-10-19* Hier fehlt \"Pers\". Der Eintrag hat aber nur den Status \"importiert\""
   ]
  },
  {
   "cell_type": "markdown",
   "metadata": {},
   "source": [
    "### Einträge in `item`\n",
    "\n",
    "entsprechende Einträge in Tabelle `item` einfügen\n",
    "\n",
    "`id` für 'Domherr' in `item_type`: 5"
   ]
  },
  {
   "cell_type": "code",
   "execution_count": 286,
   "metadata": {},
   "outputs": [
    {
     "data": {
      "text/plain": [
       "4-element Vector{Pair{Symbol, Symbol}}:\n",
       "     :ID_Domherr => :id_in_source\n",
       " :Eintrag_Quelle => :item_in_source\n",
       "         :fertig => :fertig\n",
       "         :Status => :Status"
      ]
     },
     "execution_count": 286,
     "metadata": {},
     "output_type": "execute_result"
    }
   ],
   "source": [
    "columns = [\n",
    "    :ID_Domherr => :id_in_source,\n",
    "    :Eintrag_Quelle => :item_in_source,\n",
    "    :fertig => :fertig,\n",
    "    :Status => :Status,    \n",
    "]"
   ]
  },
  {
   "cell_type": "code",
   "execution_count": 287,
   "metadata": {},
   "outputs": [],
   "source": [
    "df_item = select(df_cn, columns);"
   ]
  },
  {
   "cell_type": "code",
   "execution_count": 288,
   "metadata": {},
   "outputs": [],
   "source": [
    "insertcols!(df_item, :item_type_id => item_type_id);"
   ]
  },
  {
   "cell_type": "code",
   "execution_count": 289,
   "metadata": {},
   "outputs": [
    {
     "data": {
      "text/html": [
       "<div class=\"data-frame\"><p>5 rows × 5 columns</p><table class=\"data-frame\"><thead><tr><th></th><th>id_in_source</th><th>item_in_source</th><th>fertig</th><th>Status</th><th>item_type_id</th></tr><tr><th></th><th title=\"Int64\">Int64</th><th title=\"Union{Missing, String}\">String?</th><th title=\"Int64\">Int64</th><th title=\"Union{Missing, String}\">String?</th><th title=\"Int64\">Int64</th></tr></thead><tbody><tr><th>1</th><td>10200</td><td><em>missing</em></td><td>0</td><td>fertig</td><td>5</td></tr><tr><th>2</th><td>10201</td><td><em>missing</em></td><td>0</td><td>fertig</td><td>5</td></tr><tr><th>3</th><td>10202</td><td><em>missing</em></td><td>0</td><td>xx</td><td>5</td></tr><tr><th>4</th><td>10203</td><td><em>missing</em></td><td>0</td><td>Dublette</td><td>5</td></tr><tr><th>5</th><td>10204</td><td><em>missing</em></td><td>0</td><td>fertig</td><td>5</td></tr></tbody></table></div>"
      ],
      "text/latex": [
       "\\begin{tabular}{r|ccccc}\n",
       "\t& id\\_in\\_source & item\\_in\\_source & fertig & Status & item\\_type\\_id\\\\\n",
       "\t\\hline\n",
       "\t& Int64 & String? & Int64 & String? & Int64\\\\\n",
       "\t\\hline\n",
       "\t1 & 10200 & \\emph{missing} & 0 & fertig & 5 \\\\\n",
       "\t2 & 10201 & \\emph{missing} & 0 & fertig & 5 \\\\\n",
       "\t3 & 10202 & \\emph{missing} & 0 & xx & 5 \\\\\n",
       "\t4 & 10203 & \\emph{missing} & 0 & Dublette & 5 \\\\\n",
       "\t5 & 10204 & \\emph{missing} & 0 & fertig & 5 \\\\\n",
       "\\end{tabular}\n"
      ],
      "text/plain": [
       "\u001b[1m5×5 DataFrame\u001b[0m\n",
       "\u001b[1m Row \u001b[0m│\u001b[1m id_in_source \u001b[0m\u001b[1m item_in_source \u001b[0m\u001b[1m fertig \u001b[0m\u001b[1m Status   \u001b[0m\u001b[1m item_type_id \u001b[0m\n",
       "\u001b[1m     \u001b[0m│\u001b[90m Int64        \u001b[0m\u001b[90m String?        \u001b[0m\u001b[90m Int64  \u001b[0m\u001b[90m String?  \u001b[0m\u001b[90m Int64        \u001b[0m\n",
       "─────┼──────────────────────────────────────────────────────────────\n",
       "   1 │        10200 \u001b[90m missing        \u001b[0m      0  fertig               5\n",
       "   2 │        10201 \u001b[90m missing        \u001b[0m      0  fertig               5\n",
       "   3 │        10202 \u001b[90m missing        \u001b[0m      0  xx                   5\n",
       "   4 │        10203 \u001b[90m missing        \u001b[0m      0  Dublette             5\n",
       "   5 │        10204 \u001b[90m missing        \u001b[0m      0  fertig               5"
      ]
     },
     "execution_count": 289,
     "metadata": {},
     "output_type": "execute_result"
    }
   ],
   "source": [
    "df_item[201:205, :]"
   ]
  },
  {
   "cell_type": "markdown",
   "metadata": {},
   "source": [
    "falls die Daten aus der Datenbank eingelesen wurden: `edit_status` bestimmen; Status-Bit in den Eintrag \"fertig\" umwandeln"
   ]
  },
  {
   "cell_type": "code",
   "execution_count": 52,
   "metadata": {},
   "outputs": [
    {
     "data": {
      "text/plain": [
       "map_status (generic function with 1 method)"
      ]
     },
     "execution_count": 52,
     "metadata": {},
     "output_type": "execute_result"
    }
   ],
   "source": [
    "function map_status(x)\n",
    "    if typeof(x) == Int\n",
    "        if x == 1\n",
    "            return \"fertig\"\n",
    "        else\n",
    "            return missing\n",
    "        end\n",
    "    elseif getproperty(x, :bits) > 0\n",
    "        return \"fertig\"\n",
    "    else\n",
    "        return missing\n",
    "    end\n",
    "end\n",
    "        "
   ]
  },
  {
   "cell_type": "code",
   "execution_count": 53,
   "metadata": {},
   "outputs": [],
   "source": [
    "transform!(df_item, :fertig => ByRow(map_status) => :edit_status);"
   ]
  },
  {
   "cell_type": "markdown",
   "metadata": {},
   "source": [
    "Ende von `edit_status` bestimmen."
   ]
  },
  {
   "cell_type": "markdown",
   "metadata": {},
   "source": [
    "Feld `is_online` eintragen.  \n",
    "*2022-10-19* `is_online` ist redundant. Siehe Erstellung von `canon_lookup`."
   ]
  },
  {
   "cell_type": "code",
   "execution_count": 290,
   "metadata": {},
   "outputs": [
    {
     "data": {
      "text/plain": [
       "map_online (generic function with 1 method)"
      ]
     },
     "execution_count": 290,
     "metadata": {},
     "output_type": "execute_result"
    }
   ],
   "source": [
    "map_online(x) = (!ismissing(x) && x == \"online\") ? 1 : 0"
   ]
  },
  {
   "cell_type": "code",
   "execution_count": 291,
   "metadata": {},
   "outputs": [],
   "source": [
    "transform!(df_item, :Status => ByRow(map_online) => :is_online);"
   ]
  },
  {
   "cell_type": "code",
   "execution_count": 292,
   "metadata": {},
   "outputs": [],
   "source": [
    "using Dates"
   ]
  },
  {
   "cell_type": "code",
   "execution_count": 293,
   "metadata": {},
   "outputs": [
    {
     "data": {
      "text/plain": [
       "\"2022-10-19 14:06\""
      ]
     },
     "execution_count": 293,
     "metadata": {},
     "output_type": "execute_result"
    }
   ],
   "source": [
    "date_time_now = Dates.format(now(), Dates.dateformat\"yyyy-mm-dd HH:MM\")"
   ]
  },
  {
   "cell_type": "code",
   "execution_count": 294,
   "metadata": {},
   "outputs": [
    {
     "data": {
      "text/plain": [
       "23"
      ]
     },
     "execution_count": 294,
     "metadata": {},
     "output_type": "execute_result"
    }
   ],
   "source": [
    "user_id_georg = 23"
   ]
  },
  {
   "cell_type": "code",
   "execution_count": 295,
   "metadata": {},
   "outputs": [],
   "source": [
    "insertcols!(df_item,\n",
    "    :created_by => user_id_georg,\n",
    "    :date_created => date_time_now,\n",
    "    :changed_by => user_id_georg,\n",
    "    :date_changed => date_time_now\n",
    ");"
   ]
  },
  {
   "cell_type": "code",
   "execution_count": 296,
   "metadata": {},
   "outputs": [
    {
     "data": {
      "text/plain": [
       "make_id_public (generic function with 1 method)"
      ]
     },
     "execution_count": 296,
     "metadata": {},
     "output_type": "execute_result"
    }
   ],
   "source": [
    "function make_id_public(id::Real)\n",
    "    id_public_key = \"Pers-CANON\"\n",
    "    num_id_length = 5\n",
    "    return \"WIAG-\" * id_public_key * \"-\" * lpad(id, num_id_length, '0') * \"-001\"\n",
    "end"
   ]
  },
  {
   "cell_type": "code",
   "execution_count": 297,
   "metadata": {},
   "outputs": [
    {
     "data": {
      "text/plain": [
       "\"WIAG-Pers-CANON-03650-001\""
      ]
     },
     "execution_count": 297,
     "metadata": {},
     "output_type": "execute_result"
    }
   ],
   "source": [
    "make_id_public(3650)"
   ]
  },
  {
   "cell_type": "markdown",
   "metadata": {},
   "source": [
    "Normdatum/öffentliche ID erzeugen\n",
    "\n",
    "*2022-01-13* Verwende die ursprüngliche ID. Damit entspricht die ID der bisher veröffentlichten ID"
   ]
  },
  {
   "cell_type": "code",
   "execution_count": 298,
   "metadata": {},
   "outputs": [],
   "source": [
    "transform!(df_item, :id_in_source => ByRow(make_id_public) => :id_public);"
   ]
  },
  {
   "cell_type": "markdown",
   "metadata": {},
   "source": [
    "`item.is_deleted` ist vorbelegt mit `false`"
   ]
  },
  {
   "cell_type": "markdown",
   "metadata": {},
   "source": [
    "`item.lang` ist vorbelegt mit \"de\""
   ]
  },
  {
   "cell_type": "code",
   "execution_count": 299,
   "metadata": {},
   "outputs": [
    {
     "data": {
      "text/plain": [
       "11-element Vector{String}:\n",
       " \"id_in_source\"\n",
       " \"item_in_source\"\n",
       " \"fertig\"\n",
       " \"Status\"\n",
       " \"item_type_id\"\n",
       " \"is_online\"\n",
       " \"created_by\"\n",
       " \"date_created\"\n",
       " \"changed_by\"\n",
       " \"date_changed\"\n",
       " \"id_public\""
      ]
     },
     "execution_count": 299,
     "metadata": {},
     "output_type": "execute_result"
    }
   ],
   "source": [
    "names(df_item)"
   ]
  },
  {
   "cell_type": "code",
   "execution_count": 300,
   "metadata": {},
   "outputs": [
    {
     "data": {
      "text/plain": [
       "5526"
      ]
     },
     "execution_count": 300,
     "metadata": {},
     "output_type": "execute_result"
    }
   ],
   "source": [
    "sum(df_item[!, :is_online])"
   ]
  },
  {
   "cell_type": "code",
   "execution_count": 301,
   "metadata": {},
   "outputs": [
    {
     "data": {
      "text/plain": [
       "8"
      ]
     },
     "execution_count": 301,
     "metadata": {},
     "output_type": "execute_result"
    }
   ],
   "source": [
    "findfirst(df_item[!, :is_online] .== 1)"
   ]
  },
  {
   "cell_type": "code",
   "execution_count": 302,
   "metadata": {},
   "outputs": [
    {
     "data": {
      "text/html": [
       "<div class=\"data-frame\"><p>5 rows × 7 columns</p><table class=\"data-frame\"><thead><tr><th></th><th>id_in_source</th><th>item_type_id</th><th>id_public</th><th>Status</th><th>is_online</th><th>date_changed</th><th>changed_by</th></tr><tr><th></th><th title=\"Int64\">Int64</th><th title=\"Int64\">Int64</th><th title=\"String\">String</th><th title=\"Union{Missing, String}\">String?</th><th title=\"Int64\">Int64</th><th title=\"String\">String</th><th title=\"Int64\">Int64</th></tr></thead><tbody><tr><th>1</th><td>10007</td><td>5</td><td>WIAG-Pers-CANON-10007-001</td><td>online</td><td>1</td><td>2022-10-19 14:06</td><td>23</td></tr><tr><th>2</th><td>10008</td><td>5</td><td>WIAG-Pers-CANON-10008-001</td><td>Dublette</td><td>0</td><td>2022-10-19 14:06</td><td>23</td></tr><tr><th>3</th><td>10009</td><td>5</td><td>WIAG-Pers-CANON-10009-001</td><td>fertig</td><td>0</td><td>2022-10-19 14:06</td><td>23</td></tr><tr><th>4</th><td>10010</td><td>5</td><td>WIAG-Pers-CANON-10010-001</td><td>Dublette</td><td>0</td><td>2022-10-19 14:06</td><td>23</td></tr><tr><th>5</th><td>10011</td><td>5</td><td>WIAG-Pers-CANON-10011-001</td><td>Dublette</td><td>0</td><td>2022-10-19 14:06</td><td>23</td></tr></tbody></table></div>"
      ],
      "text/latex": [
       "\\begin{tabular}{r|ccccccc}\n",
       "\t& id\\_in\\_source & item\\_type\\_id & id\\_public & Status & is\\_online & date\\_changed & changed\\_by\\\\\n",
       "\t\\hline\n",
       "\t& Int64 & Int64 & String & String? & Int64 & String & Int64\\\\\n",
       "\t\\hline\n",
       "\t1 & 10007 & 5 & WIAG-Pers-CANON-10007-001 & online & 1 & 2022-10-19 14:06 & 23 \\\\\n",
       "\t2 & 10008 & 5 & WIAG-Pers-CANON-10008-001 & Dublette & 0 & 2022-10-19 14:06 & 23 \\\\\n",
       "\t3 & 10009 & 5 & WIAG-Pers-CANON-10009-001 & fertig & 0 & 2022-10-19 14:06 & 23 \\\\\n",
       "\t4 & 10010 & 5 & WIAG-Pers-CANON-10010-001 & Dublette & 0 & 2022-10-19 14:06 & 23 \\\\\n",
       "\t5 & 10011 & 5 & WIAG-Pers-CANON-10011-001 & Dublette & 0 & 2022-10-19 14:06 & 23 \\\\\n",
       "\\end{tabular}\n"
      ],
      "text/plain": [
       "\u001b[1m5×7 DataFrame\u001b[0m\n",
       "\u001b[1m Row \u001b[0m│\u001b[1m id_in_source \u001b[0m\u001b[1m item_type_id \u001b[0m\u001b[1m id_public                 \u001b[0m\u001b[1m Status   \u001b[0m\u001b[1m is_online \u001b[0m\u001b[1m date_changed     \u001b[0m\u001b[1m changed_by \u001b[0m\n",
       "\u001b[1m     \u001b[0m│\u001b[90m Int64        \u001b[0m\u001b[90m Int64        \u001b[0m\u001b[90m String                    \u001b[0m\u001b[90m String?  \u001b[0m\u001b[90m Int64     \u001b[0m\u001b[90m String           \u001b[0m\u001b[90m Int64      \u001b[0m\n",
       "─────┼──────────────────────────────────────────────────────────────────────────────────────────────────────────\n",
       "   1 │        10007             5  WIAG-Pers-CANON-10007-001  online            1  2022-10-19 14:06          23\n",
       "   2 │        10008             5  WIAG-Pers-CANON-10008-001  Dublette          0  2022-10-19 14:06          23\n",
       "   3 │        10009             5  WIAG-Pers-CANON-10009-001  fertig            0  2022-10-19 14:06          23\n",
       "   4 │        10010             5  WIAG-Pers-CANON-10010-001  Dublette          0  2022-10-19 14:06          23\n",
       "   5 │        10011             5  WIAG-Pers-CANON-10011-001  Dublette          0  2022-10-19 14:06          23"
      ]
     },
     "execution_count": 302,
     "metadata": {},
     "output_type": "execute_result"
    }
   ],
   "source": [
    "df_item[8:12, [:id_in_source, :item_type_id, :id_public, :Status, :is_online, :date_changed, :changed_by]]"
   ]
  },
  {
   "cell_type": "markdown",
   "metadata": {},
   "source": [
    "Bestehende Einträge löschen (evtl. vorher die von `item` abhängigen Tabellen löschen)"
   ]
  },
  {
   "cell_type": "code",
   "execution_count": 305,
   "metadata": {},
   "outputs": [
    {
     "data": {
      "text/plain": [
       "5"
      ]
     },
     "execution_count": 305,
     "metadata": {},
     "output_type": "execute_result"
    }
   ],
   "source": [
    "item_type_id"
   ]
  },
  {
   "cell_type": "code",
   "execution_count": 306,
   "metadata": {},
   "outputs": [
    {
     "data": {
      "text/plain": [
       "MySQL.TextCursor{true}(MySQL.Connection(host=\"127.0.0.1\", user=\"georg\", port=\"3306\", db=\"wiag2\"), \"DELETE FROM item WHERE item_type_id = 5\", 0, -1, 0, MySQL.API.MYSQL_RES(Ptr{Nothing} @0x0000000000000000), Symbol[], Type[], Dict{Symbol, Int64}(), 0, 1, false)"
      ]
     },
     "execution_count": 306,
     "metadata": {},
     "output_type": "execute_result"
    }
   ],
   "source": [
    "table_name = \"item\";\n",
    "sql = \"DELETE FROM $(table_name) WHERE item_type_id = $(item_type_id)\"\n",
    "DBInterface.execute(Wds.dbwiag, sql)"
   ]
  },
  {
   "cell_type": "code",
   "execution_count": 307,
   "metadata": {},
   "outputs": [
    {
     "data": {
      "text/plain": [
       "10-element Vector{Pair{Symbol, Symbol}}:\n",
       "   :id_in_source => :id_in_source\n",
       " :item_in_source => :item_in_source\n",
       "         :Status => :edit_status\n",
       "   :item_type_id => :item_type_id\n",
       "      :is_online => :is_online\n",
       "     :created_by => :created_by\n",
       "   :date_created => :date_created\n",
       "     :changed_by => :changed_by\n",
       "   :date_changed => :date_changed\n",
       "      :id_public => :id_public"
      ]
     },
     "execution_count": 307,
     "metadata": {},
     "output_type": "execute_result"
    }
   ],
   "source": [
    "columns = [\n",
    "    :id_in_source => :id_in_source,\n",
    " :item_in_source => :item_in_source,\n",
    " :Status => :edit_status,\n",
    " :item_type_id => :item_type_id,\n",
    " :is_online => :is_online,\n",
    " :created_by => :created_by,\n",
    " :date_created => :date_created,\n",
    " :changed_by => :changed_by,\n",
    " :date_changed => :date_changed, \n",
    " :id_public => :id_public\n",
    "]"
   ]
  },
  {
   "cell_type": "code",
   "execution_count": 308,
   "metadata": {},
   "outputs": [
    {
     "name": "stderr",
     "output_type": "stream",
     "text": [
      "┌ Info: 10000\n",
      "└ @ WiagDataSetup C:\\Users\\georg\\Documents\\projekte\\WiagDataSetup.jl\\src\\WiagDataSetup.jl:1193\n",
      "┌ Info: 20000\n",
      "└ @ WiagDataSetup C:\\Users\\georg\\Documents\\projekte\\WiagDataSetup.jl\\src\\WiagDataSetup.jl:1193\n",
      "┌ Info: Rows inserted: 26073\n",
      "└ @ WiagDataSetup C:\\Users\\georg\\Documents\\projekte\\WiagDataSetup.jl\\src\\WiagDataSetup.jl:1216\n"
     ]
    },
    {
     "data": {
      "text/plain": [
       "26073"
      ]
     },
     "execution_count": 308,
     "metadata": {},
     "output_type": "execute_result"
    }
   ],
   "source": [
    "table_name = \"item\";\n",
    "Wds.filltable!(table_name, select(df_item, columns), clear_table = false)"
   ]
  },
  {
   "cell_type": "markdown",
   "metadata": {},
   "source": [
    "### Daten eintragen\n",
    "\n",
    "IDs auslesen"
   ]
  },
  {
   "cell_type": "code",
   "execution_count": 309,
   "metadata": {},
   "outputs": [],
   "source": [
    "sql = \"SELECT id, id_in_source FROM ITEM where item_type_id = ($item_type_id)\"\n",
    "df_idx = DBInterface.execute(Wds.dbwiag, sql) |> DataFrame;"
   ]
  },
  {
   "cell_type": "markdown",
   "metadata": {},
   "source": [
    "Spalte für die Zusammenführung befüllen (Typ: String!)"
   ]
  },
  {
   "cell_type": "code",
   "execution_count": 310,
   "metadata": {},
   "outputs": [],
   "source": [
    "transform!(df_cn, :ID_Domherr => ByRow(string) => :id_in_source);"
   ]
  },
  {
   "cell_type": "code",
   "execution_count": 311,
   "metadata": {},
   "outputs": [],
   "source": [
    "df_cn_db = innerjoin(df_idx, df_cn, on = :id_in_source);"
   ]
  },
  {
   "cell_type": "markdown",
   "metadata": {},
   "source": [
    "Daten eintragen"
   ]
  },
  {
   "cell_type": "markdown",
   "metadata": {},
   "source": [
    "Wir übernehmen alle Einträge unabhängig vom Status, da die Daten später Grundlage für die Redaktion sind. Einträge ohne Vor- und Familiennamen werden gelöscht."
   ]
  },
  {
   "cell_type": "code",
   "execution_count": 312,
   "metadata": {},
   "outputs": [
    {
     "data": {
      "text/plain": [
       "one_not_missing (generic function with 1 method)"
      ]
     },
     "execution_count": 312,
     "metadata": {},
     "output_type": "execute_result"
    }
   ],
   "source": [
    "one_not_missing(x, y) = !(ismissing(x) && ismissing(y))"
   ]
  },
  {
   "cell_type": "code",
   "execution_count": 313,
   "metadata": {},
   "outputs": [
    {
     "data": {
      "text/plain": [
       "26073"
      ]
     },
     "execution_count": 313,
     "metadata": {},
     "output_type": "execute_result"
    }
   ],
   "source": [
    "size(df_cn_db, 1)"
   ]
  },
  {
   "cell_type": "code",
   "execution_count": 314,
   "metadata": {},
   "outputs": [],
   "source": [
    "df_cn_db = subset(df_cn_db, [:Vorname, :Familienname] => ByRow(one_not_missing));"
   ]
  },
  {
   "cell_type": "code",
   "execution_count": 315,
   "metadata": {},
   "outputs": [
    {
     "data": {
      "text/plain": [
       "26023"
      ]
     },
     "execution_count": 315,
     "metadata": {},
     "output_type": "execute_result"
    }
   ],
   "source": [
    "size(df_cn_db, 1)"
   ]
  },
  {
   "cell_type": "markdown",
   "metadata": {},
   "source": [
    "Jahreszahlen ermitteln"
   ]
  },
  {
   "cell_type": "code",
   "execution_count": 316,
   "metadata": {},
   "outputs": [
    {
     "data": {
      "text/plain": [
       "parse_date_birth (generic function with 1 method)"
      ]
     },
     "execution_count": 316,
     "metadata": {},
     "output_type": "execute_result"
    }
   ],
   "source": [
    "parse_date_birth(s) = Wds.parsemaybe(s, :lower)"
   ]
  },
  {
   "cell_type": "code",
   "execution_count": 317,
   "metadata": {},
   "outputs": [
    {
     "data": {
      "text/plain": [
       "parse_date_death (generic function with 1 method)"
      ]
     },
     "execution_count": 317,
     "metadata": {},
     "output_type": "execute_result"
    }
   ],
   "source": [
    "parse_date_death(s) = Wds.parsemaybe(s, :upper)"
   ]
  },
  {
   "cell_type": "code",
   "execution_count": 318,
   "metadata": {},
   "outputs": [
    {
     "name": "stderr",
     "output_type": "stream",
     "text": [
      "┌ Warning: Could not parse \n",
      "│   s = Dr. theol.\n",
      "└ @ WiagDataSetup C:\\Users\\georg\\Documents\\projekte\\WiagDataSetup.jl\\src\\WiagDataSetup.jl:1125\n"
     ]
    }
   ],
   "source": [
    "transform!(df_cn_db, :Geburtsdatum => ByRow(parse_date_birth) => :num_date_birth);"
   ]
  },
  {
   "cell_type": "code",
   "execution_count": 319,
   "metadata": {},
   "outputs": [
    {
     "name": "stderr",
     "output_type": "stream",
     "text": [
      "┌ Warning: Could only find year in \n",
      "│   s = Ende 1322?\n",
      "└ @ WiagDataSetup C:\\Users\\georg\\Documents\\projekte\\WiagDataSetup.jl\\src\\WiagDataSetup.jl:1120\n",
      "┌ Warning: Could only find year in \n",
      "│   s = vor Febr. 1503\n",
      "└ @ WiagDataSetup C:\\Users\\georg\\Documents\\projekte\\WiagDataSetup.jl\\src\\WiagDataSetup.jl:1120\n",
      "┌ Warning: Could only find year in \n",
      "│   s = 3. Juni 1511\n",
      "└ @ WiagDataSetup C:\\Users\\georg\\Documents\\projekte\\WiagDataSetup.jl\\src\\WiagDataSetup.jl:1120\n",
      "┌ Warning: Could only find year in \n",
      "│   s = 2. Febr. 1273\n",
      "└ @ WiagDataSetup C:\\Users\\georg\\Documents\\projekte\\WiagDataSetup.jl\\src\\WiagDataSetup.jl:1120\n",
      "┌ Warning: Could only find year in \n",
      "│   s = 8.10.1160\n",
      "└ @ WiagDataSetup C:\\Users\\georg\\Documents\\projekte\\WiagDataSetup.jl\\src\\WiagDataSetup.jl:1120\n",
      "┌ Warning: Could not parse \n",
      "│   s = 3. Dez.\n",
      "└ @ WiagDataSetup C:\\Users\\georg\\Documents\\projekte\\WiagDataSetup.jl\\src\\WiagDataSetup.jl:1125\n",
      "┌ Warning: Could not parse \n",
      "│   s = 5. Okt.\n",
      "└ @ WiagDataSetup C:\\Users\\georg\\Documents\\projekte\\WiagDataSetup.jl\\src\\WiagDataSetup.jl:1125\n",
      "┌ Warning: Could not parse \n",
      "│   s = 31. Okt.\n",
      "└ @ WiagDataSetup C:\\Users\\georg\\Documents\\projekte\\WiagDataSetup.jl\\src\\WiagDataSetup.jl:1125\n",
      "┌ Warning: Could not parse \n",
      "│   s = 18. Nov.\n",
      "└ @ WiagDataSetup C:\\Users\\georg\\Documents\\projekte\\WiagDataSetup.jl\\src\\WiagDataSetup.jl:1125\n",
      "┌ Warning: Could not parse \n",
      "│   s = 13. März?\n",
      "└ @ WiagDataSetup C:\\Users\\georg\\Documents\\projekte\\WiagDataSetup.jl\\src\\WiagDataSetup.jl:1125\n",
      "┌ Warning: Could not parse \n",
      "│   s = 24.Jul\n",
      "└ @ WiagDataSetup C:\\Users\\georg\\Documents\\projekte\\WiagDataSetup.jl\\src\\WiagDataSetup.jl:1125\n",
      "┌ Warning: Could not parse \n",
      "│   s = 18. Dez.\n",
      "└ @ WiagDataSetup C:\\Users\\georg\\Documents\\projekte\\WiagDataSetup.jl\\src\\WiagDataSetup.jl:1125\n",
      "┌ Warning: Could not parse \n",
      "│   s = 05.Jul\n",
      "└ @ WiagDataSetup C:\\Users\\georg\\Documents\\projekte\\WiagDataSetup.jl\\src\\WiagDataSetup.jl:1125\n",
      "┌ Warning: Could not parse \n",
      "│   s = 18.Mai\n",
      "└ @ WiagDataSetup C:\\Users\\georg\\Documents\\projekte\\WiagDataSetup.jl\\src\\WiagDataSetup.jl:1125\n",
      "┌ Warning: Could not parse \n",
      "│   s = 29. Nov.\n",
      "└ @ WiagDataSetup C:\\Users\\georg\\Documents\\projekte\\WiagDataSetup.jl\\src\\WiagDataSetup.jl:1125\n",
      "┌ Warning: Could only find year in \n",
      "│   s = 8. Jan. 1516\n",
      "└ @ WiagDataSetup C:\\Users\\georg\\Documents\\projekte\\WiagDataSetup.jl\\src\\WiagDataSetup.jl:1120\n",
      "┌ Warning: Could not parse \n",
      "│   s = 05.Mrz\n",
      "└ @ WiagDataSetup C:\\Users\\georg\\Documents\\projekte\\WiagDataSetup.jl\\src\\WiagDataSetup.jl:1125\n",
      "┌ Warning: Could not parse \n",
      "│   s = 12. Okt.\n",
      "└ @ WiagDataSetup C:\\Users\\georg\\Documents\\projekte\\WiagDataSetup.jl\\src\\WiagDataSetup.jl:1125\n",
      "┌ Warning: Could only find year in \n",
      "│   s = 1. Sept. 1535\n",
      "└ @ WiagDataSetup C:\\Users\\georg\\Documents\\projekte\\WiagDataSetup.jl\\src\\WiagDataSetup.jl:1120\n",
      "┌ Warning: Could not parse \n",
      "│   s = 19.Mrz\n",
      "└ @ WiagDataSetup C:\\Users\\georg\\Documents\\projekte\\WiagDataSetup.jl\\src\\WiagDataSetup.jl:1125\n",
      "┌ Warning: Could not parse \n",
      "│   s = 11. Jan.\n",
      "└ @ WiagDataSetup C:\\Users\\georg\\Documents\\projekte\\WiagDataSetup.jl\\src\\WiagDataSetup.jl:1125\n",
      "┌ Warning: Could not parse \n",
      "│   s = 14.Jul\n",
      "└ @ WiagDataSetup C:\\Users\\georg\\Documents\\projekte\\WiagDataSetup.jl\\src\\WiagDataSetup.jl:1125\n",
      "┌ Warning: Could not parse \n",
      "│   s = 3. Dez.\n",
      "└ @ WiagDataSetup C:\\Users\\georg\\Documents\\projekte\\WiagDataSetup.jl\\src\\WiagDataSetup.jl:1125\n",
      "┌ Warning: Could only find year in \n",
      "│   s = 13. Oktober 1589\n",
      "└ @ WiagDataSetup C:\\Users\\georg\\Documents\\projekte\\WiagDataSetup.jl\\src\\WiagDataSetup.jl:1120\n",
      "┌ Warning: Could not parse \n",
      "│   s = 25.Apr\n",
      "└ @ WiagDataSetup C:\\Users\\georg\\Documents\\projekte\\WiagDataSetup.jl\\src\\WiagDataSetup.jl:1125\n",
      "┌ Warning: Could not parse \n",
      "│   s = 02.Aug\n",
      "└ @ WiagDataSetup C:\\Users\\georg\\Documents\\projekte\\WiagDataSetup.jl\\src\\WiagDataSetup.jl:1125\n",
      "┌ Warning: Could only find year in \n",
      "│   s = 8. Sept. 1539\n",
      "└ @ WiagDataSetup C:\\Users\\georg\\Documents\\projekte\\WiagDataSetup.jl\\src\\WiagDataSetup.jl:1120\n",
      "┌ Warning: Could not parse \n",
      "│   s = lic. leg.\n",
      "└ @ WiagDataSetup C:\\Users\\georg\\Documents\\projekte\\WiagDataSetup.jl\\src\\WiagDataSetup.jl:1125\n",
      "┌ Warning: Could only find year in \n",
      "│   s = vermutlich 1514\n",
      "└ @ WiagDataSetup C:\\Users\\georg\\Documents\\projekte\\WiagDataSetup.jl\\src\\WiagDataSetup.jl:1120\n",
      "┌ Warning: Could only find year in \n",
      "│   s = nach 12.2.1461\n",
      "└ @ WiagDataSetup C:\\Users\\georg\\Documents\\projekte\\WiagDataSetup.jl\\src\\WiagDataSetup.jl:1120\n",
      "┌ Warning: Could only find year in \n",
      "│   s = vor 1. 5. 1472\n",
      "└ @ WiagDataSetup C:\\Users\\georg\\Documents\\projekte\\WiagDataSetup.jl\\src\\WiagDataSetup.jl:1120\n"
     ]
    }
   ],
   "source": [
    "transform!(df_cn_db, :Sterbedatum => ByRow(parse_date_death) => :num_date_death);"
   ]
  },
  {
   "cell_type": "markdown",
   "metadata": {},
   "source": [
    "Orden zuordnen"
   ]
  },
  {
   "cell_type": "code",
   "execution_count": 320,
   "metadata": {},
   "outputs": [],
   "source": [
    "sql = \"SELECT id as religious_order_id, abbreviation FROM religious_order\";\n",
    "df_rel_order = Wds.sql_df(sql);"
   ]
  },
  {
   "cell_type": "code",
   "execution_count": 321,
   "metadata": {},
   "outputs": [],
   "source": [
    "df_cn_db = leftjoin(df_cn_db, df_rel_order, on = :Orden => :abbreviation, matchmissing = :notequal);"
   ]
  },
  {
   "cell_type": "code",
   "execution_count": 322,
   "metadata": {},
   "outputs": [
    {
     "data": {
      "text/plain": [
       "a_not_b (generic function with 1 method)"
      ]
     },
     "execution_count": 322,
     "metadata": {},
     "output_type": "execute_result"
    }
   ],
   "source": [
    "a_not_b(a, b) = !ismissing(a) && ismissing(b)"
   ]
  },
  {
   "cell_type": "code",
   "execution_count": 323,
   "metadata": {},
   "outputs": [],
   "source": [
    "df_cn_no_match = subset(df_cn_db, [:Orden, :religious_order_id] => ByRow(a_not_b));"
   ]
  },
  {
   "cell_type": "code",
   "execution_count": 324,
   "metadata": {},
   "outputs": [
    {
     "data": {
      "text/plain": [
       "(0, 53)"
      ]
     },
     "execution_count": 324,
     "metadata": {},
     "output_type": "execute_result"
    }
   ],
   "source": [
    "size(df_cn_no_match)"
   ]
  },
  {
   "cell_type": "markdown",
   "metadata": {},
   "source": [
    "Felder auswählen"
   ]
  },
  {
   "cell_type": "code",
   "execution_count": 325,
   "metadata": {},
   "outputs": [],
   "source": [
    "insertcols!(df_cn_db,\n",
    "    :item_type_id => item_type_id,\n",
    ");"
   ]
  },
  {
   "cell_type": "code",
   "execution_count": 326,
   "metadata": {
    "scrolled": true
   },
   "outputs": [
    {
     "data": {
      "text/plain": [
       "11-element Vector{Pair{Symbol, Symbol}}:\n",
       "                 :id => :id\n",
       "       :item_type_id => :item_type_id\n",
       "            :Praefix => :prefixname\n",
       "            :Vorname => :givenname\n",
       "       :Familienname => :familyname\n",
       "        :Sterbedatum => :date_death\n",
       "       :Geburtsdatum => :date_birth\n",
       "      :Bemerkung_Red => :comment\n",
       "     :Kommentar_Name => :note_name\n",
       "   :Kommentar_Person => :note_person\n",
       " :religious_order_id => :religious_order_id"
      ]
     },
     "execution_count": 326,
     "metadata": {},
     "output_type": "execute_result"
    }
   ],
   "source": [
    "columns = [\n",
    "    :id => :id,\n",
    "    :item_type_id => :item_type_id,\n",
    "    :Praefix => :prefixname,\n",
    "    :Vorname => :givenname,\n",
    "    :Familienname => :familyname,\n",
    "    :Sterbedatum => :date_death,\n",
    "    :Geburtsdatum => :date_birth,\n",
    "    :Bemerkung_Red => :comment,\n",
    "    :Kommentar_Name => :note_name,\n",
    "    :Kommentar_Person => :note_person,\n",
    "    :religious_order_id => :religious_order_id,\n",
    "]"
   ]
  },
  {
   "cell_type": "code",
   "execution_count": 327,
   "metadata": {},
   "outputs": [
    {
     "name": "stderr",
     "output_type": "stream",
     "text": [
      "┌ Info: 10000\n",
      "└ @ WiagDataSetup C:\\Users\\georg\\Documents\\projekte\\WiagDataSetup.jl\\src\\WiagDataSetup.jl:1193\n",
      "┌ Info: 20000\n",
      "└ @ WiagDataSetup C:\\Users\\georg\\Documents\\projekte\\WiagDataSetup.jl\\src\\WiagDataSetup.jl:1193\n",
      "┌ Info: Rows inserted: 26023\n",
      "└ @ WiagDataSetup C:\\Users\\georg\\Documents\\projekte\\WiagDataSetup.jl\\src\\WiagDataSetup.jl:1216\n"
     ]
    },
    {
     "data": {
      "text/plain": [
       "26023"
      ]
     },
     "execution_count": 327,
     "metadata": {},
     "output_type": "execute_result"
    }
   ],
   "source": [
    "Wds.filltable!(\"person\", select(df_cn_db, columns); clear_table=false)"
   ]
  },
  {
   "cell_type": "markdown",
   "metadata": {},
   "source": [
    "*2022-05-12* Finde überlangen Eintrag in `Bemerkung_Red`"
   ]
  },
  {
   "cell_type": "code",
   "execution_count": 113,
   "metadata": {},
   "outputs": [],
   "source": [
    "df_cn_db_Bemerkung_Red = dropmissing(df_cn_db, :Bemerkung_Red);"
   ]
  },
  {
   "cell_type": "code",
   "execution_count": 114,
   "metadata": {},
   "outputs": [
    {
     "data": {
      "text/plain": [
       "(3843, 54)"
      ]
     },
     "execution_count": 114,
     "metadata": {},
     "output_type": "execute_result"
    }
   ],
   "source": [
    "size(df_cn_db_Bemerkung_Red)"
   ]
  },
  {
   "cell_type": "code",
   "execution_count": 116,
   "metadata": {},
   "outputs": [
    {
     "data": {
      "text/html": [
       "<div class=\"data-frame\"><p>5 rows × 4 columns</p><table class=\"data-frame\"><thead><tr><th></th><th>id</th><th>Vorname</th><th>Familienname</th><th>Bemerkung_Red</th></tr><tr><th></th><th title=\"Int32\">Int32</th><th title=\"Union{Missing, String}\">String?</th><th title=\"Union{Missing, String}\">String?</th><th title=\"String\">String</th></tr></thead><tbody><tr><th>1</th><td>226452</td><td>Wilhelm Philipp Jos</td><td>Waldenfels</td><td>Vorname unvollständig; Joseph?</td></tr><tr><th>2</th><td>226434</td><td>Joseph Andreas Rich</td><td>Speth von Zwiefalten</td><td>Vorname unvollständig</td></tr><tr><th>3</th><td>226427</td><td>Heinrich Hartard</td><td>Metternich</td><td>laut Hersche auch Domherr in Trier, in der entsprechenden Liste aber nicht aufgeführt (Amtsbeginn liegt wohl vor Untersuchungszeitraum)</td></tr><tr><th>4</th><td>226483</td><td>Hugo Eberhard</td><td>Cratz von Scharffenstein</td><td>http://www.westfaelische-geschichte.de/med1277; http://www.westfaelische-geschichte.de/per5516</td></tr><tr><th>5</th><td>226472</td><td>Johann</td><td>Heppenheim genannt Saal</td><td>Heinrich SCHROHE, Johann von Heppenheim, genannt von Saal. Ein Mainzer Domherr des 17. Jahrhunderts, in: Studien aus Kunst und Geschichte. Friedrich Schneider zum siebzigsten Geburtstage gewidmet von seinen Freunden und Verehrern, Freiburg i. Br. [u.a.] 1906, S. 141–158.</td></tr></tbody></table></div>"
      ],
      "text/latex": [
       "\\begin{tabular}{r|cccc}\n",
       "\t& id & Vorname & Familienname & Bemerkung\\_Red\\\\\n",
       "\t\\hline\n",
       "\t& Int32 & String? & String? & String\\\\\n",
       "\t\\hline\n",
       "\t1 & 226452 & Wilhelm Philipp Jos & Waldenfels & Vorname unvollständig; Joseph? \\\\\n",
       "\t2 & 226434 & Joseph Andreas Rich & Speth von Zwiefalten & Vorname unvollständig \\\\\n",
       "\t3 & 226427 & Heinrich Hartard & Metternich & laut Hersche auch Domherr in Trier, in der entsprechenden Liste aber nicht aufgeführt (Amtsbeginn liegt wohl vor Untersuchungszeitraum) \\\\\n",
       "\t4 & 226483 & Hugo Eberhard & Cratz von Scharffenstein & http://www.westfaelische-geschichte.de/med1277; http://www.westfaelische-geschichte.de/per5516 \\\\\n",
       "\t5 & 226472 & Johann & Heppenheim genannt Saal & Heinrich SCHROHE, Johann von Heppenheim, genannt von Saal. Ein Mainzer Domherr des 17. Jahrhunderts, in: Studien aus Kunst und Geschichte. Friedrich Schneider zum siebzigsten Geburtstage gewidmet von seinen Freunden und Verehrern, Freiburg i. Br. [u.a.] 1906, S. 141–158. \\\\\n",
       "\\end{tabular}\n"
      ],
      "text/plain": [
       "\u001b[1m5×4 DataFrame\u001b[0m\n",
       "\u001b[1m Row \u001b[0m│\u001b[1m id     \u001b[0m\u001b[1m Vorname             \u001b[0m\u001b[1m Familienname             \u001b[0m\u001b[1m Bemerkung_Red                     \u001b[0m\n",
       "\u001b[1m     \u001b[0m│\u001b[90m Int32  \u001b[0m\u001b[90m String?             \u001b[0m\u001b[90m String?                  \u001b[0m\u001b[90m String                            \u001b[0m\n",
       "─────┼──────────────────────────────────────────────────────────────────────────────────────────\n",
       "   1 │ 226452  Wilhelm Philipp Jos  Waldenfels                Vorname unvollständig; Joseph?\n",
       "   2 │ 226434  Joseph Andreas Rich  Speth von Zwiefalten      Vorname unvollständig\n",
       "   3 │ 226427  Heinrich Hartard     Metternich                laut Hersche auch Domherr in Tri…\n",
       "   4 │ 226483  Hugo Eberhard        Cratz von Scharffenstein  http://www.westfaelische-geschic…\n",
       "   5 │ 226472  Johann               Heppenheim genannt Saal   Heinrich SCHROHE, Johann von Hep…"
      ]
     },
     "execution_count": 116,
     "metadata": {},
     "output_type": "execute_result"
    }
   ],
   "source": [
    "df_cn_db_Bemerkung_Red[16:20, [:id, :Vorname, :Familienname, :Bemerkung_Red]]"
   ]
  },
  {
   "cell_type": "code",
   "execution_count": 118,
   "metadata": {},
   "outputs": [],
   "source": [
    "df_cn_db.len_bem = (x -> ismissing(x) ? 0 : length(x)).(df_cn_db.Bemerkung_Red);"
   ]
  },
  {
   "cell_type": "code",
   "execution_count": 119,
   "metadata": {},
   "outputs": [
    {
     "data": {
      "text/plain": [
       "(1450, 22362)"
      ]
     },
     "execution_count": 119,
     "metadata": {},
     "output_type": "execute_result"
    }
   ],
   "source": [
    "findmax(identity, df_cn_db.len_bem)"
   ]
  },
  {
   "cell_type": "code",
   "execution_count": 124,
   "metadata": {},
   "outputs": [
    {
     "data": {
      "text/plain": [
       "(22812, 54)"
      ]
     },
     "execution_count": 124,
     "metadata": {},
     "output_type": "execute_result"
    }
   ],
   "source": [
    "size(df_cn_db)"
   ]
  },
  {
   "cell_type": "code",
   "execution_count": 126,
   "metadata": {},
   "outputs": [
    {
     "data": {
      "text/html": [
       "<p>DataFrameRow (5 columns)</p><div class=\"data-frame\"><table class=\"data-frame\"><thead><tr><th></th><th>id</th><th>Vorname</th><th>Familienname</th><th>Bemerkung_Red</th></tr><tr><th></th><th title=\"Int32\">Int32</th><th title=\"Union{Missing, String}\">String?</th><th title=\"Union{Missing, String}\">String?</th><th title=\"Union{Missing, String}\">String?</th></tr></thead><tbody><tr><th>22362</th><td>248684</td><td>Balthasar</td><td>Neuenstadt</td><td>folgende Links evtl. löschen (? dann auch entsprechende Nummer aus dem Feld ID_Quelle rausnehmen): \\r\\n- &quot;Schlußsteine des Neuen Kapitelsaals, Halberstädter Dom, 1514-1516&quot; = laut Kommentar ist eines der Wappen wahrscheinlich Balthasar von Neuenstadt zuzuordnen\\r\\n- die beiden Glocken tragen eine Inschrift mit der Bitte um Fürbitte für Balthasar von Neuenstadt, er gilt auch als ihr Stifter (das scheint aber nicht sicher zu sein)\\r\\n- &quot;Tafelbild mit der Darstellung des Heiligen Christophorus, Halberstädter Dom, Neuer Kapitelsaal, um 1510&quot; = laut Anm. 4 besaß Balthasar von Neuenstadt wohl eine Tüchleinmalerei mit der Darstellung des Heiligen Christophorus (ist mit dem Tafelbild aber wohl nicht in Verbindung zu bringen)\\r\\n-&quot;Lettnerhalle, Halberstädter Dom, Anfang 16. Jahrhundert, 1510&quot; = Objekt hat keinen Bezug zu Balthasar von Neuenstadt; dieser soll laut Kommentar lediglich 1484 die Kommende der Heiligen Cosmas und Damian eingerichtet haben\\r\\n- &quot;Wandteppich, sog. Marienteppich, Halberstädter Dom, Teppichsaal, Anfang 16. Jahrhundert&quot; = im Kommentar steht: &quot;Die Vermutung Gynz-Rekowskis, daß der Teppich eine Stiftung des Halberstädter Dompropstes Balthasar von Neuenstadt für die von ihm erbaute Marienkapelle im Kreuzgang gewesen sei, ist nachzuvollziehen.&quot;\\r\\n- &quot;Gewölbeschlußstein, Halberstädter Dom, 1486&quot; = im Kommentar des DIO-Eintrags wird auch ein anderer Gewölbeschlußstein mit dem Wappen des Dompropstes Balthasar von Neuenstadt erwähnt</td></tr></tbody></table></div>"
      ],
      "text/latex": [
       "\\begin{tabular}{r|ccccc}\n",
       "\t& id & Vorname & Familienname & Bemerkung\\_Red & \\\\\n",
       "\t\\hline\n",
       "\t& Int32 & String? & String? & String? & \\\\\n",
       "\t\\hline\n",
       "\t22362 & 248684 & Balthasar & Neuenstadt & folgende Links evtl. löschen (? dann auch entsprechende Nummer aus dem Feld ID\\_Quelle rausnehmen): \\textbackslash{}r\\textbackslash{}n- \"Schlußsteine des Neuen Kapitelsaals, Halberstädter Dom, 1514-1516\" = laut Kommentar ist eines der Wappen wahrscheinlich Balthasar von Neuenstadt zuzuordnen\\textbackslash{}r\\textbackslash{}n- die beiden Glocken tragen eine Inschrift mit der Bitte um Fürbitte für Balthasar von Neuenstadt, er gilt auch als ihr Stifter (das scheint aber nicht sicher zu sein)\\textbackslash{}r\\textbackslash{}n- \"Tafelbild mit der Darstellung des Heiligen Christophorus, Halberstädter Dom, Neuer Kapitelsaal, um 1510\" = laut Anm. 4 besaß Balthasar von Neuenstadt wohl eine Tüchleinmalerei mit der Darstellung des Heiligen Christophorus (ist mit dem Tafelbild aber wohl nicht in Verbindung zu bringen)\\textbackslash{}r\\textbackslash{}n-\"Lettnerhalle, Halberstädter Dom, Anfang 16. Jahrhundert, 1510\" = Objekt hat keinen Bezug zu Balthasar von Neuenstadt; dieser soll laut Kommentar lediglich 1484 die Kommende der Heiligen Cosmas und Damian eingerichtet haben\\textbackslash{}r\\textbackslash{}n- \"Wandteppich, sog. Marienteppich, Halberstädter Dom, Teppichsaal, Anfang 16. Jahrhundert\" = im Kommentar steht: \"Die Vermutung Gynz-Rekowskis, daß der Teppich eine Stiftung des Halberstädter Dompropstes Balthasar von Neuenstadt für die von ihm erbaute Marienkapelle im Kreuzgang gewesen sei, ist nachzuvollziehen.\"\\textbackslash{}r\\textbackslash{}n- \"Gewölbeschlußstein, Halberstädter Dom, 1486\" = im Kommentar des DIO-Eintrags wird auch ein anderer Gewölbeschlußstein mit dem Wappen des Dompropstes Balthasar von Neuenstadt erwähnt & $\\dots$ \\\\\n",
       "\\end{tabular}\n"
      ],
      "text/plain": [
       "\u001b[1mDataFrameRow\u001b[0m\n",
       "\u001b[1m   Row \u001b[0m│\u001b[1m id     \u001b[0m\u001b[1m Vorname   \u001b[0m\u001b[1m Familienname \u001b[0m\u001b[1m Bemerkung_Red                     \u001b[0m\n",
       "\u001b[1m       \u001b[0m│\u001b[90m Int32  \u001b[0m\u001b[90m String?   \u001b[0m\u001b[90m String?      \u001b[0m\u001b[90m String?                           \u001b[0m\n",
       "───────┼───────────────────────────────────────────────────────────────────────\n",
       " 22362 │ 248684  Balthasar  Neuenstadt    folgende Links evtl. löschen (? …\n",
       "\u001b[36m                                                               1 column omitted\u001b[0m"
      ]
     },
     "execution_count": 126,
     "metadata": {},
     "output_type": "execute_result"
    }
   ],
   "source": [
    "df_cn_db[22362, [:id, :Vorname, :Familienname, :Bemerkung_Red, :len_bem]]"
   ]
  },
  {
   "cell_type": "markdown",
   "metadata": {},
   "source": [
    "Ende: Finde überlangen Eintrag in `Bemerkung_Red`"
   ]
  },
  {
   "cell_type": "markdown",
   "metadata": {},
   "source": [
    "### Orden eintragen\n",
    "*2021-10-14* Die Ordenstabelle ist vorläufig und basiert auf den Ordensangaben für Bischöfe  \n",
    "*2022-01-13* Einträge mit Ordensangabe: 2  \n",
    "*2022-07-26* siehe oben (schon erledigt)  \n",
    "*2022-10-14* Einträge mit Ordensangabe: 18; siehe oben (schon erledigt)"
   ]
  },
  {
   "cell_type": "markdown",
   "metadata": {},
   "source": [
    "ID der Orden in Personentabelle eintragen"
   ]
  },
  {
   "cell_type": "code",
   "execution_count": 102,
   "metadata": {},
   "outputs": [],
   "source": [
    "df_cn_order = dropmissing(df_cn_db, :Orden);"
   ]
  },
  {
   "cell_type": "code",
   "execution_count": 103,
   "metadata": {},
   "outputs": [
    {
     "data": {
      "text/plain": [
       "(12, 54)"
      ]
     },
     "execution_count": 103,
     "metadata": {},
     "output_type": "execute_result"
    }
   ],
   "source": [
    "size(df_cn_order)"
   ]
  },
  {
   "cell_type": "code",
   "execution_count": 109,
   "metadata": {},
   "outputs": [
    {
     "data": {
      "text/plain": [
       "55-element Vector{String}:\n",
       " \"id\"\n",
       " \"id_in_source\"\n",
       " \"ID_Domherr\"\n",
       " \"Eintrag_Quelle\"\n",
       " \"Seite_Quelle\"\n",
       " \"Quelle\"\n",
       " \"Praefix\"\n",
       " \"Vorname\"\n",
       " \"Familienname\"\n",
       " \"Sterbedatum\"\n",
       " \"Geburtsdatum\"\n",
       " \"Orden\"\n",
       " \"fertig\"\n",
       " ⋮\n",
       " \"ID_Domherr_Jasmin\"\n",
       " \"ID_Fremdschluessel_2\"\n",
       " \"Merged_Into\"\n",
       " \"Identisch_mit\"\n",
       " \"WIAG_ID_Bischof\"\n",
       " \"LOD_Academy\"\n",
       " \"ID_Fremdschlüssel_Num\"\n",
       " \"num_date_birth\"\n",
       " \"num_date_death\"\n",
       " \"religious_order_id\"\n",
       " \"item_type_id\"\n",
       " \"join_field\""
      ]
     },
     "execution_count": 109,
     "metadata": {},
     "output_type": "execute_result"
    }
   ],
   "source": [
    "names(df_cn_order)"
   ]
  },
  {
   "cell_type": "code",
   "execution_count": 104,
   "metadata": {},
   "outputs": [],
   "source": [
    "df_cn_order[!, :join_field] .= lowercase.(df_cn_order[!, :Orden]);"
   ]
  },
  {
   "cell_type": "code",
   "execution_count": 105,
   "metadata": {},
   "outputs": [],
   "source": [
    "sql = \"SELECT * FROM religious_order WHERE abbreviation IS NOT NULL\";\n",
    "df_order_db = Wds.sql_df(sql);"
   ]
  },
  {
   "cell_type": "code",
   "execution_count": 106,
   "metadata": {},
   "outputs": [],
   "source": [
    "df_order_db[!, :join_field] .= lowercase.(df_order_db[!, :abbreviation]);"
   ]
  },
  {
   "cell_type": "code",
   "execution_count": 107,
   "metadata": {},
   "outputs": [
    {
     "ename": "LoadError",
     "evalue": "ArgumentError: Duplicate variable names: :religious_order_id. Pass makeunique=true to make them unique using a suffix automatically.",
     "output_type": "error",
     "traceback": [
      "ArgumentError: Duplicate variable names: :religious_order_id. Pass makeunique=true to make them unique using a suffix automatically.",
      "",
      "Stacktrace:",
      " [1] make_unique!(names::Vector{Symbol}, src::Vector{Symbol}; makeunique::Bool)",
      "   @ DataFrames C:\\Users\\georg\\.julia\\packages\\DataFrames\\vuMM8\\src\\other\\utils.jl:35",
      " [2] #make_unique#2",
      "   @ C:\\Users\\georg\\.julia\\packages\\DataFrames\\vuMM8\\src\\other\\utils.jl:57 [inlined]",
      " [3] #Index#5",
      "   @ C:\\Users\\georg\\.julia\\packages\\DataFrames\\vuMM8\\src\\other\\index.jl:27 [inlined]",
      " [4] DataFrame(columns::Vector{AbstractVector}, cnames::Vector{Symbol}; makeunique::Bool, copycols::Bool)",
      "   @ DataFrames C:\\Users\\georg\\.julia\\packages\\DataFrames\\vuMM8\\src\\dataframe\\dataframe.jl:329"
     ]
    }
   ],
   "source": [
    "df_cn_order_id = leftjoin(df_cn_order, \n",
    "    select(df_order_db, :id => :religious_order_id, :join_field), \n",
    "    on = :join_field);"
   ]
  },
  {
   "cell_type": "code",
   "execution_count": 108,
   "metadata": {},
   "outputs": [
    {
     "ename": "LoadError",
     "evalue": "UndefVarError: df_cn_order_id not defined",
     "output_type": "error",
     "traceback": [
      "UndefVarError: df_cn_order_id not defined",
      "",
      "Stacktrace:",
      " [1] top-level scope",
      "   @ In[108]:1",
      " [2] eval",
      "   @ .\\boot.jl:373 [inlined]",
      " [3] include_string(mapexpr::typeof(REPL.softscope), mod::Module, code::String, filename::String)",
      "   @ Base .\\loading.jl:1196"
     ]
    }
   ],
   "source": [
    "size(df_cn_order_id)"
   ]
  },
  {
   "cell_type": "markdown",
   "metadata": {},
   "source": [
    "Tabelle `person` aktualisieren"
   ]
  },
  {
   "cell_type": "code",
   "execution_count": 138,
   "metadata": {},
   "outputs": [],
   "source": [
    "filename = joinpath(out_path, \"cn_person_update.sql\");\n",
    "table_name = \"person\";\n",
    "Wds.update_sql(filename, table_name, select(df_cn_order_id, :id, :religious_order_id), on = :id);"
   ]
  },
  {
   "cell_type": "markdown",
   "metadata": {},
   "source": [
    "SQL\n",
    "```sql\n",
    "source C:\\Users\\georg\\Documents\\projekte-doc\\WIAGweb2\\data_sql\\cn_person_update.sql\n",
    "```"
   ]
  },
  {
   "cell_type": "markdown",
   "metadata": {},
   "source": [
    "### Akademische Titel eintragen"
   ]
  },
  {
   "cell_type": "code",
   "execution_count": 328,
   "metadata": {},
   "outputs": [],
   "source": [
    "table = \"item_property_type\"\n",
    "sql = \"SELECT * from $(table)\"\n",
    "df_ipt = Wds.sql_df(sql);"
   ]
  },
  {
   "cell_type": "code",
   "execution_count": 329,
   "metadata": {},
   "outputs": [
    {
     "data": {
      "text/html": [
       "<div class=\"data-frame\"><p>7 rows × 5 columns</p><table class=\"data-frame\"><thead><tr><th></th><th>id</th><th>name</th><th>label</th><th>comment</th><th>item_type_id</th></tr><tr><th></th><th title=\"Int32\">Int32</th><th title=\"String\">String</th><th title=\"String\">String</th><th title=\"Union{Missing, String}\">String?</th><th title=\"Int32\">Int32</th></tr></thead><tbody><tr><th>1</th><td>8</td><td>academic_title</td><td>academic_title</td><td><em>missing</em></td><td>5</td></tr><tr><th>2</th><td>9</td><td>contribution</td><td>contribution</td><td><em>missing</em></td><td>10</td></tr><tr><th>3</th><td>10</td><td>domstift_short</td><td>domstift_short</td><td><em>missing</em></td><td>3</td></tr><tr><th>4</th><td>11</td><td>ordination_priest</td><td>ordination_priest</td><td><em>missing</em></td><td>10</td></tr><tr><th>5</th><td>12</td><td>ordination_priest_place</td><td>ordination_priest_place</td><td><em>missing</em></td><td>10</td></tr><tr><th>6</th><td>13</td><td>patronym</td><td>patronym</td><td><em>missing</em></td><td>10</td></tr><tr><th>7</th><td>14</td><td>title</td><td>title</td><td><em>missing</em></td><td>10</td></tr></tbody></table></div>"
      ],
      "text/latex": [
       "\\begin{tabular}{r|ccccc}\n",
       "\t& id & name & label & comment & item\\_type\\_id\\\\\n",
       "\t\\hline\n",
       "\t& Int32 & String & String & String? & Int32\\\\\n",
       "\t\\hline\n",
       "\t1 & 8 & academic\\_title & academic\\_title & \\emph{missing} & 5 \\\\\n",
       "\t2 & 9 & contribution & contribution & \\emph{missing} & 10 \\\\\n",
       "\t3 & 10 & domstift\\_short & domstift\\_short & \\emph{missing} & 3 \\\\\n",
       "\t4 & 11 & ordination\\_priest & ordination\\_priest & \\emph{missing} & 10 \\\\\n",
       "\t5 & 12 & ordination\\_priest\\_place & ordination\\_priest\\_place & \\emph{missing} & 10 \\\\\n",
       "\t6 & 13 & patronym & patronym & \\emph{missing} & 10 \\\\\n",
       "\t7 & 14 & title & title & \\emph{missing} & 10 \\\\\n",
       "\\end{tabular}\n"
      ],
      "text/plain": [
       "\u001b[1m7×5 DataFrame\u001b[0m\n",
       "\u001b[1m Row \u001b[0m│\u001b[1m id    \u001b[0m\u001b[1m name                    \u001b[0m\u001b[1m label                   \u001b[0m\u001b[1m comment \u001b[0m\u001b[1m item_type_id \u001b[0m\n",
       "\u001b[1m     \u001b[0m│\u001b[90m Int32 \u001b[0m\u001b[90m String                  \u001b[0m\u001b[90m String                  \u001b[0m\u001b[90m String? \u001b[0m\u001b[90m Int32        \u001b[0m\n",
       "─────┼────────────────────────────────────────────────────────────────────────────────\n",
       "   1 │     8  academic_title           academic_title          \u001b[90m missing \u001b[0m            5\n",
       "   2 │     9  contribution             contribution            \u001b[90m missing \u001b[0m           10\n",
       "   3 │    10  domstift_short           domstift_short          \u001b[90m missing \u001b[0m            3\n",
       "   4 │    11  ordination_priest        ordination_priest       \u001b[90m missing \u001b[0m           10\n",
       "   5 │    12  ordination_priest_place  ordination_priest_place \u001b[90m missing \u001b[0m           10\n",
       "   6 │    13  patronym                 patronym                \u001b[90m missing \u001b[0m           10\n",
       "   7 │    14  title                    title                   \u001b[90m missing \u001b[0m           10"
      ]
     },
     "execution_count": 329,
     "metadata": {},
     "output_type": "execute_result"
    }
   ],
   "source": [
    "df_ipt"
   ]
  },
  {
   "cell_type": "code",
   "execution_count": 487,
   "metadata": {},
   "outputs": [
    {
     "data": {
      "text/html": [
       "<div class=\"data-frame\"><p>5 rows × 5 columns</p><table class=\"data-frame\"><thead><tr><th></th><th>id</th><th>id_in_source</th><th>Vorname</th><th>Familienname</th><th>AkademischerTitel</th></tr><tr><th></th><th title=\"Int32\">Int32</th><th title=\"Union{Missing, String}\">String?</th><th title=\"Union{Missing, String}\">String?</th><th title=\"Union{Missing, String}\">String?</th><th title=\"Union{Missing, String}\">String?</th></tr></thead><tbody><tr><th>1</th><td>443890</td><td>10044</td><td>Johann Sigmund</td><td>Reuschenberg</td><td><em>missing</em></td></tr><tr><th>2</th><td>443889</td><td>10045</td><td>Franz Eckembert</td><td>Dalberg</td><td><em>missing</em></td></tr><tr><th>3</th><td>443888</td><td>10046</td><td>Ferdinand Damian</td><td>Breidbach-Bürresheim</td><td><em>missing</em></td></tr><tr><th>4</th><td>443887</td><td>10047</td><td>Karl Kaspar Emmerich</td><td>Quadt-Buschfeld</td><td><em>missing</em></td></tr><tr><th>5</th><td>443886</td><td>10048</td><td>Damian Heinrich</td><td>Eltz-Uettingen</td><td><em>missing</em></td></tr></tbody></table></div>"
      ],
      "text/latex": [
       "\\begin{tabular}{r|ccccc}\n",
       "\t& id & id\\_in\\_source & Vorname & Familienname & AkademischerTitel\\\\\n",
       "\t\\hline\n",
       "\t& Int32 & String? & String? & String? & String?\\\\\n",
       "\t\\hline\n",
       "\t1 & 443890 & 10044 & Johann Sigmund & Reuschenberg & \\emph{missing} \\\\\n",
       "\t2 & 443889 & 10045 & Franz Eckembert & Dalberg & \\emph{missing} \\\\\n",
       "\t3 & 443888 & 10046 & Ferdinand Damian & Breidbach-Bürresheim & \\emph{missing} \\\\\n",
       "\t4 & 443887 & 10047 & Karl Kaspar Emmerich & Quadt-Buschfeld & \\emph{missing} \\\\\n",
       "\t5 & 443886 & 10048 & Damian Heinrich & Eltz-Uettingen & \\emph{missing} \\\\\n",
       "\\end{tabular}\n"
      ],
      "text/plain": [
       "\u001b[1m5×5 DataFrame\u001b[0m\n",
       "\u001b[1m Row \u001b[0m│\u001b[1m id     \u001b[0m\u001b[1m id_in_source \u001b[0m\u001b[1m Vorname              \u001b[0m\u001b[1m Familienname         \u001b[0m\u001b[1m AkademischerTitel \u001b[0m\n",
       "\u001b[1m     \u001b[0m│\u001b[90m Int32  \u001b[0m\u001b[90m String?      \u001b[0m\u001b[90m String?              \u001b[0m\u001b[90m String?              \u001b[0m\u001b[90m String?           \u001b[0m\n",
       "─────┼─────────────────────────────────────────────────────────────────────────────────────\n",
       "   1 │ 443890  10044         Johann Sigmund        Reuschenberg         \u001b[90m missing           \u001b[0m\n",
       "   2 │ 443889  10045         Franz Eckembert       Dalberg              \u001b[90m missing           \u001b[0m\n",
       "   3 │ 443888  10046         Ferdinand Damian      Breidbach-Bürresheim \u001b[90m missing           \u001b[0m\n",
       "   4 │ 443887  10047         Karl Kaspar Emmerich  Quadt-Buschfeld      \u001b[90m missing           \u001b[0m\n",
       "   5 │ 443886  10048         Damian Heinrich       Eltz-Uettingen       \u001b[90m missing           \u001b[0m"
      ]
     },
     "execution_count": 487,
     "metadata": {},
     "output_type": "execute_result"
    }
   ],
   "source": [
    "df_cn_db[51:55, [:id, :id_in_source, :Vorname, :Familienname, :AkademischerTitel]]"
   ]
  },
  {
   "cell_type": "code",
   "execution_count": 488,
   "metadata": {},
   "outputs": [
    {
     "data": {
      "text/plain": [
       "4-element Vector{Pair{Symbol, Symbol}}:\n",
       "                :id => :id\n",
       "           :Vorname => :givenname\n",
       "      :Familienname => :familyname\n",
       " :AkademischerTitel => :academic_title"
      ]
     },
     "execution_count": 488,
     "metadata": {},
     "output_type": "execute_result"
    }
   ],
   "source": [
    "columns = [\n",
    "    :id => :id,\n",
    "    :Vorname => :givenname,\n",
    "    :Familienname => :familyname,\n",
    "    :AkademischerTitel => :academic_title\n",
    "]"
   ]
  },
  {
   "cell_type": "code",
   "execution_count": 489,
   "metadata": {},
   "outputs": [],
   "source": [
    "df_academic_title = dropmissing(select(df_cn_db, columns), :academic_title);"
   ]
  },
  {
   "cell_type": "code",
   "execution_count": 490,
   "metadata": {},
   "outputs": [
    {
     "data": {
      "text/plain": [
       "(1695, 4)"
      ]
     },
     "execution_count": 490,
     "metadata": {},
     "output_type": "execute_result"
    }
   ],
   "source": [
    "size(df_academic_title)"
   ]
  },
  {
   "cell_type": "code",
   "execution_count": 491,
   "metadata": {},
   "outputs": [
    {
     "data": {
      "text/plain": [
       "8"
      ]
     },
     "execution_count": 491,
     "metadata": {},
     "output_type": "execute_result"
    }
   ],
   "source": [
    "rec_academic_title = filter(:name => isequal(\"academic_title\"), df_ipt)\n",
    "academic_title_id = rec_academic_title[1, :id]"
   ]
  },
  {
   "cell_type": "code",
   "execution_count": 492,
   "metadata": {},
   "outputs": [],
   "source": [
    "insertcols!(df_academic_title, :name => \"academic_title\", :property_type_id => academic_title_id);"
   ]
  },
  {
   "cell_type": "code",
   "execution_count": 494,
   "metadata": {},
   "outputs": [
    {
     "data": {
      "text/plain": [
       "MySQL.TextCursor{true}(MySQL.Connection(host=\"127.0.0.1\", user=\"georg\", port=\"3306\", db=\"wiag2\"), \"DELETE FROM item_property\\nWHERE item_id IN\\n(SELECT id FROM item WHERE item_type_id = 5)\", 0, -1, 1695, MySQL.API.MYSQL_RES(Ptr{Nothing} @0x0000000000000000), Symbol[], Type[], Dict{Symbol, Int64}(), 0, 1, false)"
      ]
     },
     "execution_count": 494,
     "metadata": {},
     "output_type": "execute_result"
    }
   ],
   "source": [
    "table_name = \"item_property\";\n",
    "sql = \"DELETE FROM $(table_name)\n",
    "WHERE item_id IN\n",
    "(SELECT id FROM item WHERE item_type_id = $(item_type_id))\";\n",
    "DBInterface.execute(Wds.dbwiag, sql)"
   ]
  },
  {
   "cell_type": "code",
   "execution_count": 495,
   "metadata": {},
   "outputs": [
    {
     "data": {
      "text/plain": [
       "4-element Vector{Pair{Symbol, Symbol}}:\n",
       "               :id => :item_id\n",
       "             :name => :name\n",
       "   :academic_title => :value\n",
       " :property_type_id => :property_type_id"
      ]
     },
     "execution_count": 495,
     "metadata": {},
     "output_type": "execute_result"
    }
   ],
   "source": [
    "columns = [\n",
    "    :id => :item_id,\n",
    "    :name => :name, # redundant\n",
    "    :academic_title => :value,\n",
    "    :property_type_id => :property_type_id\n",
    "]"
   ]
  },
  {
   "cell_type": "code",
   "execution_count": 496,
   "metadata": {},
   "outputs": [
    {
     "name": "stderr",
     "output_type": "stream",
     "text": [
      "┌ Info: Rows inserted: 1695\n",
      "└ @ WiagDataSetup C:\\Users\\georg\\Documents\\projekte\\WiagDataSetup.jl\\src\\WiagDataSetup.jl:1216\n"
     ]
    },
    {
     "data": {
      "text/plain": [
       "1695"
      ]
     },
     "execution_count": 496,
     "metadata": {},
     "output_type": "execute_result"
    }
   ],
   "source": [
    "table_name = \"item_property\"\n",
    "Wds.filltable!(table_name, select(df_academic_title, columns))"
   ]
  },
  {
   "cell_type": "markdown",
   "metadata": {},
   "source": [
    "### Referenzwerke eintragen"
   ]
  },
  {
   "cell_type": "code",
   "execution_count": 338,
   "metadata": {},
   "outputs": [
    {
     "data": {
      "text/plain": [
       "6-element Vector{Pair{Symbol, Symbol}}:\n",
       "           :id => :item_id\n",
       " :Seite_Quelle => :page\n",
       "    :ID_Quelle => :id_in_reference\n",
       "       :Quelle => :reference_id\n",
       "  :Merged_Into => :merged_into_id\n",
       "       :Status => :status"
      ]
     },
     "execution_count": 338,
     "metadata": {},
     "output_type": "execute_result"
    }
   ],
   "source": [
    "columns = [\n",
    "    :id => :item_id,\n",
    "    :Seite_Quelle => :page,\n",
    "    :ID_Quelle => :id_in_reference,\n",
    "    :Quelle => :reference_id,\n",
    "    :Merged_Into => :merged_into_id,\n",
    "    :Status => :status,\n",
    "]"
   ]
  },
  {
   "cell_type": "code",
   "execution_count": 339,
   "metadata": {},
   "outputs": [],
   "source": [
    "df_cn_ref = select(df_cn_db, columns);"
   ]
  },
  {
   "cell_type": "code",
   "execution_count": 340,
   "metadata": {},
   "outputs": [],
   "source": [
    "df_cn_ref[!, :item_type_id] .= item_type_id;"
   ]
  },
  {
   "cell_type": "code",
   "execution_count": 341,
   "metadata": {},
   "outputs": [
    {
     "data": {
      "text/plain": [
       "26023"
      ]
     },
     "execution_count": 341,
     "metadata": {},
     "output_type": "execute_result"
    }
   ],
   "source": [
    "size(df_cn_ref, 1)"
   ]
  },
  {
   "cell_type": "code",
   "execution_count": 342,
   "metadata": {},
   "outputs": [],
   "source": [
    "dropmissing!(df_cn_ref, :reference_id);"
   ]
  },
  {
   "cell_type": "code",
   "execution_count": 343,
   "metadata": {},
   "outputs": [
    {
     "data": {
      "text/plain": [
       "(26023, 7)"
      ]
     },
     "execution_count": 343,
     "metadata": {},
     "output_type": "execute_result"
    }
   ],
   "source": [
    "size(df_cn_ref)"
   ]
  },
  {
   "cell_type": "markdown",
   "metadata": {},
   "source": [
    "Einträge löschen (im Fall von Korrekturen)"
   ]
  },
  {
   "cell_type": "code",
   "execution_count": 344,
   "metadata": {},
   "outputs": [
    {
     "data": {
      "text/plain": [
       "MySQL.TextCursor{true}(MySQL.Connection(host=\"127.0.0.1\", user=\"georg\", port=\"3306\", db=\"wiag2\"), \"DELETE FROM item_reference WHERE item_type_id = 5\", 0, -1, 0, MySQL.API.MYSQL_RES(Ptr{Nothing} @0x0000000000000000), Symbol[], Type[], Dict{Symbol, Int64}(), 0, 1, false)"
      ]
     },
     "execution_count": 344,
     "metadata": {},
     "output_type": "execute_result"
    }
   ],
   "source": [
    "sql = \"DELETE FROM item_reference WHERE item_type_id = $(item_type_id)\"\n",
    "DBInterface.execute(Wds.dbwiag, sql)"
   ]
  },
  {
   "cell_type": "code",
   "execution_count": 345,
   "metadata": {},
   "outputs": [
    {
     "data": {
      "text/plain": [
       "5-element Vector{Pair{Symbol, Symbol}}:\n",
       "         :item_id => :item_id\n",
       "            :page => :page\n",
       " :id_in_reference => :id_in_reference\n",
       "    :item_type_id => :item_type_id\n",
       "    :reference_id => :reference_id"
      ]
     },
     "execution_count": 345,
     "metadata": {},
     "output_type": "execute_result"
    }
   ],
   "source": [
    "columns = [\n",
    "    :item_id => :item_id,\n",
    "    :page => :page,\n",
    "    :id_in_reference => :id_in_reference,\n",
    "    :item_type_id => :item_type_id,\n",
    "    :reference_id => :reference_id,\n",
    "]"
   ]
  },
  {
   "cell_type": "code",
   "execution_count": 346,
   "metadata": {},
   "outputs": [
    {
     "name": "stderr",
     "output_type": "stream",
     "text": [
      "┌ Info: 10000\n",
      "└ @ WiagDataSetup C:\\Users\\georg\\Documents\\projekte\\WiagDataSetup.jl\\src\\WiagDataSetup.jl:1193\n",
      "┌ Info: 20000\n",
      "└ @ WiagDataSetup C:\\Users\\georg\\Documents\\projekte\\WiagDataSetup.jl\\src\\WiagDataSetup.jl:1193\n",
      "┌ Info: Rows inserted: 26023\n",
      "└ @ WiagDataSetup C:\\Users\\georg\\Documents\\projekte\\WiagDataSetup.jl\\src\\WiagDataSetup.jl:1216\n"
     ]
    },
    {
     "data": {
      "text/plain": [
       "26023"
      ]
     },
     "execution_count": 346,
     "metadata": {},
     "output_type": "execute_result"
    }
   ],
   "source": [
    "table_name = \"item_reference\";\n",
    "Wds.filltable!(table_name, select(df_cn_ref, columns), clear_table = false)"
   ]
  },
  {
   "cell_type": "markdown",
   "metadata": {},
   "source": [
    "Trage Referenzen ein von Einträgen, die mit anderen zusammengezogen wurden."
   ]
  },
  {
   "cell_type": "code",
   "execution_count": 347,
   "metadata": {},
   "outputs": [
    {
     "data": {
      "text/plain": [
       "is_ref2 (generic function with 1 method)"
      ]
     },
     "execution_count": 347,
     "metadata": {},
     "output_type": "execute_result"
    }
   ],
   "source": [
    "is_ref2(merged_into_id, status) = !ismissing(merged_into_id) && isequal(status, \"merged\")"
   ]
  },
  {
   "cell_type": "code",
   "execution_count": 348,
   "metadata": {},
   "outputs": [],
   "source": [
    "df_cn_ref2 = subset(df_cn_ref, [:merged_into_id, :status] => ByRow(is_ref2));"
   ]
  },
  {
   "cell_type": "code",
   "execution_count": 349,
   "metadata": {},
   "outputs": [],
   "source": [
    "lookupItemId = Dict(Pair.(df_cn_db.id_in_source ,df_cn_db.id));"
   ]
  },
  {
   "cell_type": "code",
   "execution_count": 350,
   "metadata": {},
   "outputs": [
    {
     "data": {
      "text/plain": [
       "getItemId (generic function with 1 method)"
      ]
     },
     "execution_count": 350,
     "metadata": {},
     "output_type": "execute_result"
    }
   ],
   "source": [
    "getItemId(id_in_source) = get(lookupItemId, string(id_in_source), missing)"
   ]
  },
  {
   "cell_type": "code",
   "execution_count": 351,
   "metadata": {},
   "outputs": [],
   "source": [
    "transform!(df_cn_ref2, :merged_into_id => ByRow(getItemId) => :item_id);"
   ]
  },
  {
   "cell_type": "code",
   "execution_count": 352,
   "metadata": {},
   "outputs": [
    {
     "data": {
      "text/plain": [
       "1810"
      ]
     },
     "execution_count": 352,
     "metadata": {},
     "output_type": "execute_result"
    }
   ],
   "source": [
    "size(df_cn_ref2, 1)"
   ]
  },
  {
   "cell_type": "code",
   "execution_count": 353,
   "metadata": {},
   "outputs": [
    {
     "data": {
      "text/plain": [
       "0"
      ]
     },
     "execution_count": 353,
     "metadata": {},
     "output_type": "execute_result"
    }
   ],
   "source": [
    "count(ismissing, df_cn_ref.item_id)"
   ]
  },
  {
   "cell_type": "code",
   "execution_count": 354,
   "metadata": {},
   "outputs": [
    {
     "data": {
      "text/plain": [
       "5-element Vector{Symbol}:\n",
       " :item_id\n",
       " :page\n",
       " :id_in_reference\n",
       " :item_type_id\n",
       " :reference_id"
      ]
     },
     "execution_count": 354,
     "metadata": {},
     "output_type": "execute_result"
    }
   ],
   "source": [
    "columns = [\n",
    "    :item_id,\n",
    "    :page,\n",
    "    :id_in_reference,\n",
    "    :item_type_id,\n",
    "    :reference_id,\n",
    "]"
   ]
  },
  {
   "cell_type": "code",
   "execution_count": 355,
   "metadata": {},
   "outputs": [
    {
     "name": "stderr",
     "output_type": "stream",
     "text": [
      "┌ Info: Rows inserted: 1810\n",
      "└ @ WiagDataSetup C:\\Users\\georg\\Documents\\projekte\\WiagDataSetup.jl\\src\\WiagDataSetup.jl:1216\n"
     ]
    },
    {
     "data": {
      "text/plain": [
       "1810"
      ]
     },
     "execution_count": 355,
     "metadata": {},
     "output_type": "execute_result"
    }
   ],
   "source": [
    "table_name = \"item_reference\";\n",
    "Wds.filltable!(table_name, select(df_cn_ref2, columns), clear_table = false)"
   ]
  },
  {
   "cell_type": "code",
   "execution_count": 172,
   "metadata": {},
   "outputs": [
    {
     "data": {
      "text/html": [
       "<div class=\"data-frame\"><p>1 rows × 7 columns</p><table class=\"data-frame\"><thead><tr><th></th><th>item_id</th><th>page</th><th>id_in_reference</th><th>reference_id</th><th>merged_into_id</th><th>status</th><th>item_type_id</th></tr><tr><th></th><th title=\"Int32\">Int32</th><th title=\"Union{Missing, String}\">String?</th><th title=\"Union{Missing, String}\">String?</th><th title=\"Int64\">Int64</th><th title=\"Union{Missing, Int64}\">Int64?</th><th title=\"Union{Missing, String}\">String?</th><th title=\"Int64\">Int64</th></tr></thead><tbody><tr><th>1</th><td>184999</td><td>100, 136, 148, 201</td><td>HA999, HI170, MS168, PB120</td><td>6</td><td>10939</td><td>merged</td><td>5</td></tr></tbody></table></div>"
      ],
      "text/latex": [
       "\\begin{tabular}{r|ccccccc}\n",
       "\t& item\\_id & page & id\\_in\\_reference & reference\\_id & merged\\_into\\_id & status & item\\_type\\_id\\\\\n",
       "\t\\hline\n",
       "\t& Int32 & String? & String? & Int64 & Int64? & String? & Int64\\\\\n",
       "\t\\hline\n",
       "\t1 & 184999 & 100, 136, 148, 201 & HA999, HI170, MS168, PB120 & 6 & 10939 & merged & 5 \\\\\n",
       "\\end{tabular}\n"
      ],
      "text/plain": [
       "\u001b[1m1×7 DataFrame\u001b[0m\n",
       "\u001b[1m Row \u001b[0m│\u001b[1m item_id \u001b[0m\u001b[1m page               \u001b[0m\u001b[1m id_in_reference            \u001b[0m\u001b[1m reference_id \u001b[0m\u001b[1m merged_into_id \u001b[0m\u001b[1m status  \u001b[0m\u001b[1m item_type_id \u001b[0m\n",
       "\u001b[1m     \u001b[0m│\u001b[90m Int32   \u001b[0m\u001b[90m String?            \u001b[0m\u001b[90m String?                    \u001b[0m\u001b[90m Int64        \u001b[0m\u001b[90m Int64?         \u001b[0m\u001b[90m String? \u001b[0m\u001b[90m Int64        \u001b[0m\n",
       "─────┼──────────────────────────────────────────────────────────────────────────────────────────────────────────────\n",
       "   1 │  184999  100, 136, 148, 201  HA999, HI170, MS168, PB120             6           10939  merged              5"
      ]
     },
     "execution_count": 172,
     "metadata": {},
     "output_type": "execute_result"
    }
   ],
   "source": [
    "subset(df_cn_ref2, :merged_into_id => ByRow(isequal(10939)))"
   ]
  },
  {
   "cell_type": "markdown",
   "metadata": {},
   "source": [
    "### Externe URLs eintragen\n",
    "siehe auch Notebook `Strukturdaten.ipynb` Externe URLs"
   ]
  },
  {
   "cell_type": "code",
   "execution_count": 356,
   "metadata": {},
   "outputs": [],
   "source": [
    "using CSV, DataFrames"
   ]
  },
  {
   "cell_type": "code",
   "execution_count": 362,
   "metadata": {
    "scrolled": false
   },
   "outputs": [],
   "source": [
    "file_name = joinpath(data_path, \"tbl_urls.csv\")\n",
    "df_url = CSV.read(file_name, DataFrame, delim=\";\");"
   ]
  },
  {
   "cell_type": "code",
   "execution_count": 363,
   "metadata": {},
   "outputs": [],
   "source": [
    "Wds.clean_up!(df_url);"
   ]
  },
  {
   "cell_type": "code",
   "execution_count": 364,
   "metadata": {},
   "outputs": [
    {
     "data": {
      "text/plain": [
       "7-element Vector{String}:\n",
       " \"ID_url\"\n",
       " \"domherr_id\"\n",
       " \"url_value\"\n",
       " \"url_link\"\n",
       " \"note\"\n",
       " \"description\"\n",
       " \"url_type\""
      ]
     },
     "execution_count": 364,
     "metadata": {},
     "output_type": "execute_result"
    }
   ],
   "source": [
    "names(df_url)"
   ]
  },
  {
   "cell_type": "markdown",
   "metadata": {},
   "source": [
    "Die IDs in `authority` sind für externe URLs mit einem Offset von 1000 versehen, denn sie betreffen den gleichen Datentyp"
   ]
  },
  {
   "cell_type": "code",
   "execution_count": 365,
   "metadata": {},
   "outputs": [],
   "source": [
    "id_offset = 1000;\n",
    "transform!(df_url, :url_type => ByRow(x -> x + id_offset) => :authority_id);"
   ]
  },
  {
   "cell_type": "markdown",
   "metadata": {},
   "source": [
    "Zuordnung zu IDs "
   ]
  },
  {
   "cell_type": "code",
   "execution_count": 366,
   "metadata": {},
   "outputs": [],
   "source": [
    "sql = \"SELECT id, id_in_source \n",
    "FROM item \n",
    "WHERE item_type_id = $(item_type_id)\"\n",
    "df_idx = Wds.sql_df(sql);"
   ]
  },
  {
   "cell_type": "code",
   "execution_count": 367,
   "metadata": {},
   "outputs": [],
   "source": [
    "transform!(df_url, :domherr_id => ByRow(string) => :id_in_source);"
   ]
  },
  {
   "cell_type": "code",
   "execution_count": 368,
   "metadata": {
    "scrolled": true
   },
   "outputs": [],
   "source": [
    "df_url_idx = leftjoin(df_url, df_idx, on = :id_in_source);"
   ]
  },
  {
   "cell_type": "code",
   "execution_count": 369,
   "metadata": {},
   "outputs": [
    {
     "data": {
      "text/plain": [
       "(2086, 2)"
      ]
     },
     "execution_count": 369,
     "metadata": {},
     "output_type": "execute_result"
    }
   ],
   "source": [
    "size(df_url_idx, 1), count(ismissing, df_url_idx.id)"
   ]
  },
  {
   "cell_type": "code",
   "execution_count": 370,
   "metadata": {},
   "outputs": [],
   "source": [
    "df_url_idx_mg = subset(df_url_idx, :id => ByRow(ismissing));"
   ]
  },
  {
   "cell_type": "code",
   "execution_count": 371,
   "metadata": {},
   "outputs": [
    {
     "data": {
      "text/plain": [
       "(2, 10)"
      ]
     },
     "execution_count": 371,
     "metadata": {},
     "output_type": "execute_result"
    }
   ],
   "source": [
    "size(df_url_idx_mg)"
   ]
  },
  {
   "cell_type": "code",
   "execution_count": 372,
   "metadata": {},
   "outputs": [
    {
     "data": {
      "text/html": [
       "<div class=\"data-frame\"><p>2 rows × 4 columns</p><table class=\"data-frame\"><thead><tr><th></th><th>id</th><th>id_in_source</th><th>url_type</th><th>url_value</th></tr><tr><th></th><th title=\"Union{Missing, Int32}\">Int32?</th><th title=\"String\">String</th><th title=\"Union{Missing, Int64}\">Int64?</th><th title=\"Union{Missing, String}\">String?</th></tr></thead><tbody><tr><th>1</th><td><em>missing</em></td><td>missing</td><td>75</td><td>ngAQ3R971BI71pwyuAJpmYmD</td></tr><tr><th>2</th><td><em>missing</em></td><td>2036900</td><td>75</td><td>ngIY9Z971Hg7txeMcIhxsGuT9JV</td></tr></tbody></table></div>"
      ],
      "text/latex": [
       "\\begin{tabular}{r|cccc}\n",
       "\t& id & id\\_in\\_source & url\\_type & url\\_value\\\\\n",
       "\t\\hline\n",
       "\t& Int32? & String & Int64? & String?\\\\\n",
       "\t\\hline\n",
       "\t1 & \\emph{missing} & missing & 75 & ngAQ3R971BI71pwyuAJpmYmD \\\\\n",
       "\t2 & \\emph{missing} & 2036900 & 75 & ngIY9Z971Hg7txeMcIhxsGuT9JV \\\\\n",
       "\\end{tabular}\n"
      ],
      "text/plain": [
       "\u001b[1m2×4 DataFrame\u001b[0m\n",
       "\u001b[1m Row \u001b[0m│\u001b[1m id      \u001b[0m\u001b[1m id_in_source \u001b[0m\u001b[1m url_type \u001b[0m\u001b[1m url_value                   \u001b[0m\n",
       "\u001b[1m     \u001b[0m│\u001b[90m Int32?  \u001b[0m\u001b[90m String       \u001b[0m\u001b[90m Int64?   \u001b[0m\u001b[90m String?                     \u001b[0m\n",
       "─────┼──────────────────────────────────────────────────────────────\n",
       "   1 │\u001b[90m missing \u001b[0m missing             75  ngAQ3R971BI71pwyuAJpmYmD\n",
       "   2 │\u001b[90m missing \u001b[0m 2036900             75  ngIY9Z971Hg7txeMcIhxsGuT9JV"
      ]
     },
     "execution_count": 372,
     "metadata": {},
     "output_type": "execute_result"
    }
   ],
   "source": [
    "df_url_idx_mg[:, [:id, :id_in_source, :url_type, :url_value]]"
   ]
  },
  {
   "cell_type": "markdown",
   "metadata": {},
   "source": [
    "*2022-04-29* Tabelle ist noch in Arbeit"
   ]
  },
  {
   "cell_type": "code",
   "execution_count": 373,
   "metadata": {},
   "outputs": [],
   "source": [
    "dropmissing!(df_url_idx, :id);"
   ]
  },
  {
   "cell_type": "code",
   "execution_count": 374,
   "metadata": {},
   "outputs": [],
   "source": [
    "dropmissing!(df_url_idx, :url_value);"
   ]
  },
  {
   "cell_type": "code",
   "execution_count": 375,
   "metadata": {},
   "outputs": [
    {
     "data": {
      "text/plain": [
       "26-element Vector{Union{Missing, Int64}}:\n",
       " 22\n",
       " 72\n",
       " 70\n",
       " 78\n",
       " 79\n",
       " 75\n",
       " 54\n",
       " 68\n",
       " 73\n",
       " 80\n",
       " 27\n",
       " 69\n",
       " 77\n",
       " 76\n",
       " 85\n",
       " 14\n",
       " 86\n",
       " 81\n",
       " 71\n",
       " 84\n",
       " 46\n",
       " 82\n",
       " 83\n",
       " 87\n",
       "  3\n",
       " 88"
      ]
     },
     "execution_count": 375,
     "metadata": {},
     "output_type": "execute_result"
    }
   ],
   "source": [
    "unique(df_url_idx.url_type)"
   ]
  },
  {
   "cell_type": "code",
   "execution_count": 376,
   "metadata": {},
   "outputs": [
    {
     "data": {
      "text/plain": [
       "MySQL.TextCursor{true}(MySQL.Connection(host=\"127.0.0.1\", user=\"georg\", port=\"3306\", db=\"wiag2\"), \"DELETE FROM url_external\\nWHERE item_id IN (SELECT id FROM item WHERE item_type_id = 5)\", 0, -1, 0, MySQL.API.MYSQL_RES(Ptr{Nothing} @0x0000000000000000), Symbol[], Type[], Dict{Symbol, Int64}(), 0, 1, false)"
      ]
     },
     "execution_count": 376,
     "metadata": {},
     "output_type": "execute_result"
    }
   ],
   "source": [
    "table_name = \"url_external\";\n",
    "sql = \"DELETE FROM $(table_name)\n",
    "WHERE item_id IN (SELECT id FROM item WHERE item_type_id = $(item_type_id))\";\n",
    "DBInterface.execute(Wds.dbwiag, sql)"
   ]
  },
  {
   "cell_type": "code",
   "execution_count": 377,
   "metadata": {},
   "outputs": [
    {
     "data": {
      "text/plain": [
       "4-element Vector{Pair{Symbol, Symbol}}:\n",
       "           :id => :item_id\n",
       " :authority_id => :authority_id\n",
       "    :url_value => :value\n",
       "         :note => :note"
      ]
     },
     "execution_count": 377,
     "metadata": {},
     "output_type": "execute_result"
    }
   ],
   "source": [
    "columns = [\n",
    "    :id => :item_id,\n",
    "    :authority_id => :authority_id,\n",
    "    :url_value => :value,\n",
    "    :note => :note,\n",
    "]"
   ]
  },
  {
   "cell_type": "code",
   "execution_count": 378,
   "metadata": {},
   "outputs": [
    {
     "name": "stderr",
     "output_type": "stream",
     "text": [
      "┌ Info: Rows inserted: 2083\n",
      "└ @ WiagDataSetup C:\\Users\\georg\\Documents\\projekte\\WiagDataSetup.jl\\src\\WiagDataSetup.jl:1216\n"
     ]
    },
    {
     "data": {
      "text/plain": [
       "2083"
      ]
     },
     "execution_count": 378,
     "metadata": {},
     "output_type": "execute_result"
    }
   ],
   "source": [
    "table_name = \"url_external\"\n",
    "Wds.filltable!(table_name, select(df_url_idx, columns))"
   ]
  },
  {
   "cell_type": "markdown",
   "metadata": {},
   "source": [
    "### Externe IDs eintragen"
   ]
  },
  {
   "cell_type": "code",
   "execution_count": 379,
   "metadata": {},
   "outputs": [
    {
     "data": {
      "text/plain": [
       "5"
      ]
     },
     "execution_count": 379,
     "metadata": {},
     "output_type": "execute_result"
    }
   ],
   "source": [
    "item_type_id = 5"
   ]
  },
  {
   "cell_type": "markdown",
   "metadata": {},
   "source": [
    "Einträge löschen (für den Fall eines Fehlers oder für ein Update)"
   ]
  },
  {
   "cell_type": "code",
   "execution_count": 380,
   "metadata": {},
   "outputs": [
    {
     "data": {
      "text/plain": [
       "MySQL.TextCursor{true}(MySQL.Connection(host=\"127.0.0.1\", user=\"georg\", port=\"3306\", db=\"wiag2\"), \"DELETE FROM id_external WHERE item_id IN (SELECT id FROM item WHERE item_type_id = 5)\", 0, -1, 0, MySQL.API.MYSQL_RES(Ptr{Nothing} @0x0000000000000000), Symbol[], Type[], Dict{Symbol, Int64}(), 0, 1, false)"
      ]
     },
     "execution_count": 380,
     "metadata": {},
     "output_type": "execute_result"
    }
   ],
   "source": [
    "sql = \"DELETE FROM id_external \" *\n",
    "\"WHERE item_id IN (SELECT id FROM item WHERE item_type_id = $(item_type_id))\"\n",
    "DBInterface.execute(Wds.dbwiag, sql)"
   ]
  },
  {
   "cell_type": "code",
   "execution_count": 381,
   "metadata": {},
   "outputs": [
    {
     "data": {
      "text/plain": [
       "\"DELETE FROM id_external WHERE item_id IN (SELECT id FROM item WHERE item_type_id = 5)\""
      ]
     },
     "execution_count": 381,
     "metadata": {},
     "output_type": "execute_result"
    }
   ],
   "source": [
    "sql"
   ]
  },
  {
   "cell_type": "code",
   "execution_count": 382,
   "metadata": {},
   "outputs": [
    {
     "data": {
      "text/html": [
       "<div class=\"data-frame\"><p>6 rows × 2 columns</p><table class=\"data-frame\"><thead><tr><th></th><th>id</th><th>url_name_formatter</th></tr><tr><th></th><th title=\"Int32\">Int32</th><th title=\"Union{Missing, String}\">String?</th></tr></thead><tbody><tr><th>1</th><td>1</td><td>Gemeinsame Normdatei (GND) ID</td></tr><tr><th>2</th><td>2</td><td>Wikidata</td></tr><tr><th>3</th><td>3</td><td>Wikipedia-Artikel</td></tr><tr><th>4</th><td>4</td><td>VIAF-ID</td></tr><tr><th>5</th><td>5</td><td>WIAG-ID</td></tr><tr><th>6</th><td>200</td><td>Personendatenbank der Germania Sacra</td></tr></tbody></table></div>"
      ],
      "text/latex": [
       "\\begin{tabular}{r|cc}\n",
       "\t& id & url\\_name\\_formatter\\\\\n",
       "\t\\hline\n",
       "\t& Int32 & String?\\\\\n",
       "\t\\hline\n",
       "\t1 & 1 & Gemeinsame Normdatei (GND) ID \\\\\n",
       "\t2 & 2 & Wikidata \\\\\n",
       "\t3 & 3 & Wikipedia-Artikel \\\\\n",
       "\t4 & 4 & VIAF-ID \\\\\n",
       "\t5 & 5 & WIAG-ID \\\\\n",
       "\t6 & 200 & Personendatenbank der Germania Sacra \\\\\n",
       "\\end{tabular}\n"
      ],
      "text/plain": [
       "\u001b[1m6×2 DataFrame\u001b[0m\n",
       "\u001b[1m Row \u001b[0m│\u001b[1m id    \u001b[0m\u001b[1m url_name_formatter                \u001b[0m\n",
       "\u001b[1m     \u001b[0m│\u001b[90m Int32 \u001b[0m\u001b[90m String?                           \u001b[0m\n",
       "─────┼──────────────────────────────────────────\n",
       "   1 │     1  Gemeinsame Normdatei (GND) ID\n",
       "   2 │     2  Wikidata\n",
       "   3 │     3  Wikipedia-Artikel\n",
       "   4 │     4  VIAF-ID\n",
       "   5 │     5  WIAG-ID\n",
       "   6 │   200  Personendatenbank der Germania S…"
      ]
     },
     "execution_count": 382,
     "metadata": {},
     "output_type": "execute_result"
    }
   ],
   "source": [
    "sql = \"SELECT id, url_name_formatter FROM authority \" *\n",
    "\"WHERE id IN (1, 2, 3, 4, 5, 200)\";\n",
    "Wds.sql_df(sql)"
   ]
  },
  {
   "cell_type": "markdown",
   "metadata": {},
   "source": [
    "Index aus `item` lesen"
   ]
  },
  {
   "cell_type": "code",
   "execution_count": 383,
   "metadata": {},
   "outputs": [],
   "source": [
    "sql = \"SELECT id, is_online, id_in_source FROM item WHERE item_type_id = $(item_type_id)\"\n",
    "df_idx = Wds.sql_df(sql);"
   ]
  },
  {
   "cell_type": "code",
   "execution_count": 384,
   "metadata": {},
   "outputs": [
    {
     "data": {
      "text/plain": [
       "26073"
      ]
     },
     "execution_count": 384,
     "metadata": {},
     "output_type": "execute_result"
    }
   ],
   "source": [
    "size(df_idx, 1)"
   ]
  },
  {
   "cell_type": "markdown",
   "metadata": {},
   "source": [
    "Externe Ids aus den Quelldaten lesen"
   ]
  },
  {
   "cell_type": "code",
   "execution_count": 385,
   "metadata": {},
   "outputs": [],
   "source": [
    "using CSV"
   ]
  },
  {
   "cell_type": "code",
   "execution_count": 386,
   "metadata": {},
   "outputs": [
    {
     "data": {
      "text/plain": [
       "Dict{Symbol, DataType} with 5 entries:\n",
       "  :VIAF_ID       => String\n",
       "  :GND_ID        => String\n",
       "  :GSN_ID        => String\n",
       "  :URL_Wikipedia => String\n",
       "  :Wikidata_ID   => String"
      ]
     },
     "execution_count": 386,
     "metadata": {},
     "output_type": "execute_result"
    }
   ],
   "source": [
    "col_types = Dict(\n",
    "    :GND_ID => String,\n",
    "    :GSN_ID => String,\n",
    "    :VIAF_ID => String,\n",
    "    :Wikidata_ID => String,\n",
    "    :URL_Wikipedia => String,\n",
    ")"
   ]
  },
  {
   "cell_type": "code",
   "execution_count": 387,
   "metadata": {},
   "outputs": [],
   "source": [
    "# Quelle CSV-Datei\n",
    "filename = joinpath(data_path, \"tbl_domherren.csv\")\n",
    "df_cn = CSV.read(filename, DataFrame, types=col_types);"
   ]
  },
  {
   "cell_type": "markdown",
   "metadata": {},
   "source": [
    "Alternativ: Lies die Daten aus der Datenbank, wenn der Export aus Access in die Datenbank klappt."
   ]
  },
  {
   "cell_type": "code",
   "execution_count": null,
   "metadata": {},
   "outputs": [],
   "source": [
    "# Quelle: Datenbank\n",
    "table_name = \"domherr.tbl_domherren\";\n",
    "sql = \"SELECT ID_Domherr, Vorname, Familienname, \" *\n",
    "\"VIAF_ID, GND_ID, Wikidata_ID, GSN_ID, WIAG_ID_Bischof, URL_Wikipedia \" *\n",
    "\"FROM $(table_name)\"\n",
    "df_cn = Wds.sql_df(sql);"
   ]
  },
  {
   "cell_type": "code",
   "execution_count": 388,
   "metadata": {},
   "outputs": [],
   "source": [
    "Wds.clean_up!(df_cn)"
   ]
  },
  {
   "cell_type": "code",
   "execution_count": 389,
   "metadata": {},
   "outputs": [],
   "source": [
    "transform!(df_cn, :ID_Domherr => ByRow(string) => :id_in_source);"
   ]
  },
  {
   "cell_type": "code",
   "execution_count": 390,
   "metadata": {},
   "outputs": [],
   "source": [
    "df_cn = innerjoin(df_idx, df_cn, on = :id_in_source);"
   ]
  },
  {
   "cell_type": "code",
   "execution_count": 391,
   "metadata": {},
   "outputs": [
    {
     "data": {
      "text/plain": [
       "51-element Vector{String}:\n",
       " \"id\"\n",
       " \"is_online\"\n",
       " \"id_in_source\"\n",
       " \"ID_Domherr\"\n",
       " \"Eintrag_Quelle\"\n",
       " \"Seite_Quelle\"\n",
       " \"Quelle\"\n",
       " \"Praefix\"\n",
       " \"Vorname\"\n",
       " \"Familienname\"\n",
       " \"Sterbedatum\"\n",
       " \"Geburtsdatum\"\n",
       " \"Orden\"\n",
       " ⋮\n",
       " \"Status\"\n",
       " \"Normdaten recherchiert\"\n",
       " \"URL_Wikipedia\"\n",
       " \"Externe URL\"\n",
       " \"ID_Quelle\"\n",
       " \"ID_Domherr_Jasmin\"\n",
       " \"ID_Fremdschluessel_2\"\n",
       " \"Merged_Into\"\n",
       " \"Identisch_mit\"\n",
       " \"WIAG_ID_Bischof\"\n",
       " \"LOD_Academy\"\n",
       " \"ID_Fremdschlüssel_Num\""
      ]
     },
     "execution_count": 391,
     "metadata": {},
     "output_type": "execute_result"
    }
   ],
   "source": [
    "names(df_cn)"
   ]
  },
  {
   "cell_type": "markdown",
   "metadata": {},
   "source": [
    "**VIAF**, dann GND, Wikidata, GSN, Wikipedia"
   ]
  },
  {
   "cell_type": "code",
   "execution_count": 392,
   "metadata": {},
   "outputs": [
    {
     "data": {
      "text/plain": [
       "4"
      ]
     },
     "execution_count": 392,
     "metadata": {},
     "output_type": "execute_result"
    }
   ],
   "source": [
    "authority_id_viaf = 4 # siehe oben"
   ]
  },
  {
   "cell_type": "code",
   "execution_count": 393,
   "metadata": {},
   "outputs": [],
   "source": [
    "df_cn_viaf = dropmissing(df_cn, :VIAF_ID)\n",
    "df_cn_viaf[!, :authority_id] .= authority_id_viaf;"
   ]
  },
  {
   "cell_type": "code",
   "execution_count": 394,
   "metadata": {},
   "outputs": [
    {
     "data": {
      "text/plain": [
       "3-element Vector{Pair{Symbol, Symbol}}:\n",
       "           :id => :item_id\n",
       " :authority_id => :authority_id\n",
       "      :VIAF_ID => :value"
      ]
     },
     "execution_count": 394,
     "metadata": {},
     "output_type": "execute_result"
    }
   ],
   "source": [
    "columns = [\n",
    "    :id => :item_id,\n",
    "    :authority_id => :authority_id,\n",
    "    :VIAF_ID => :value,\n",
    "]"
   ]
  },
  {
   "cell_type": "code",
   "execution_count": 395,
   "metadata": {},
   "outputs": [],
   "source": [
    "df_ins = select(df_cn_viaf, columns);"
   ]
  },
  {
   "cell_type": "code",
   "execution_count": 396,
   "metadata": {},
   "outputs": [],
   "source": [
    "transform!(df_ins, :value => ByRow(string) => :value);"
   ]
  },
  {
   "cell_type": "code",
   "execution_count": 397,
   "metadata": {},
   "outputs": [
    {
     "data": {
      "text/html": [
       "<div class=\"data-frame\"><p>5 rows × 3 columns</p><table class=\"data-frame\"><thead><tr><th></th><th>item_id</th><th>authority_id</th><th>value</th></tr><tr><th></th><th title=\"Int32\">Int32</th><th title=\"Int64\">Int64</th><th title=\"String\">String</th></tr></thead><tbody><tr><th>1</th><td>446928</td><td>4</td><td>155145542421596641395</td></tr><tr><th>2</th><td>446922</td><td>4</td><td>99942788</td></tr><tr><th>3</th><td>446916</td><td>4</td><td>171875175</td></tr><tr><th>4</th><td>446911</td><td>4</td><td>117145664256105170002</td></tr><tr><th>5</th><td>446958</td><td>4</td><td>15563142</td></tr></tbody></table></div>"
      ],
      "text/latex": [
       "\\begin{tabular}{r|ccc}\n",
       "\t& item\\_id & authority\\_id & value\\\\\n",
       "\t\\hline\n",
       "\t& Int32 & Int64 & String\\\\\n",
       "\t\\hline\n",
       "\t1 & 446928 & 4 & 155145542421596641395 \\\\\n",
       "\t2 & 446922 & 4 & 99942788 \\\\\n",
       "\t3 & 446916 & 4 & 171875175 \\\\\n",
       "\t4 & 446911 & 4 & 117145664256105170002 \\\\\n",
       "\t5 & 446958 & 4 & 15563142 \\\\\n",
       "\\end{tabular}\n"
      ],
      "text/plain": [
       "\u001b[1m5×3 DataFrame\u001b[0m\n",
       "\u001b[1m Row \u001b[0m│\u001b[1m item_id \u001b[0m\u001b[1m authority_id \u001b[0m\u001b[1m value                 \u001b[0m\n",
       "\u001b[1m     \u001b[0m│\u001b[90m Int32   \u001b[0m\u001b[90m Int64        \u001b[0m\u001b[90m String                \u001b[0m\n",
       "─────┼──────────────────────────────────────────────\n",
       "   1 │  446928             4  155145542421596641395\n",
       "   2 │  446922             4  99942788\n",
       "   3 │  446916             4  171875175\n",
       "   4 │  446911             4  117145664256105170002\n",
       "   5 │  446958             4  15563142"
      ]
     },
     "execution_count": 397,
     "metadata": {},
     "output_type": "execute_result"
    }
   ],
   "source": [
    "df_ins[303:307, :]"
   ]
  },
  {
   "cell_type": "code",
   "execution_count": 398,
   "metadata": {},
   "outputs": [
    {
     "name": "stderr",
     "output_type": "stream",
     "text": [
      "┌ Info: Rows inserted: 1911\n",
      "└ @ WiagDataSetup C:\\Users\\georg\\Documents\\projekte\\WiagDataSetup.jl\\src\\WiagDataSetup.jl:1216\n"
     ]
    },
    {
     "data": {
      "text/plain": [
       "1911"
      ]
     },
     "execution_count": 398,
     "metadata": {},
     "output_type": "execute_result"
    }
   ],
   "source": [
    "Wds.filltable!(\"id_external\", df_ins)"
   ]
  },
  {
   "cell_type": "markdown",
   "metadata": {},
   "source": [
    "**GND**"
   ]
  },
  {
   "cell_type": "code",
   "execution_count": 399,
   "metadata": {},
   "outputs": [
    {
     "data": {
      "text/plain": [
       "1"
      ]
     },
     "execution_count": 399,
     "metadata": {},
     "output_type": "execute_result"
    }
   ],
   "source": [
    "authority_id_gnd = 1 # siehe oben"
   ]
  },
  {
   "cell_type": "code",
   "execution_count": 400,
   "metadata": {},
   "outputs": [],
   "source": [
    "df_cn_gnd = dropmissing(df_cn, :GND_ID)\n",
    "df_cn_gnd[!, :authority_id] .= authority_id_gnd;"
   ]
  },
  {
   "cell_type": "code",
   "execution_count": 401,
   "metadata": {},
   "outputs": [],
   "source": [
    "df_ins = select(df_cn_gnd, :id => :item_id, :authority_id, :GND_ID => :value);"
   ]
  },
  {
   "cell_type": "code",
   "execution_count": 402,
   "metadata": {},
   "outputs": [
    {
     "data": {
      "text/html": [
       "<div class=\"data-frame\"><p>5 rows × 3 columns</p><table class=\"data-frame\"><thead><tr><th></th><th>item_id</th><th>authority_id</th><th>value</th></tr><tr><th></th><th title=\"Int32\">Int32</th><th title=\"Int64\">Int64</th><th title=\"String\">String</th></tr></thead><tbody><tr><th>1</th><td>446101</td><td>1</td><td>11850049X</td></tr><tr><th>2</th><td>446149</td><td>1</td><td>1255245271</td></tr><tr><th>3</th><td>446145</td><td>1</td><td>118594702</td></tr><tr><th>4</th><td>446144</td><td>1</td><td>120732890</td></tr><tr><th>5</th><td>446139</td><td>1</td><td>137946392</td></tr></tbody></table></div>"
      ],
      "text/latex": [
       "\\begin{tabular}{r|ccc}\n",
       "\t& item\\_id & authority\\_id & value\\\\\n",
       "\t\\hline\n",
       "\t& Int32 & Int64 & String\\\\\n",
       "\t\\hline\n",
       "\t1 & 446101 & 1 & 11850049X \\\\\n",
       "\t2 & 446149 & 1 & 1255245271 \\\\\n",
       "\t3 & 446145 & 1 & 118594702 \\\\\n",
       "\t4 & 446144 & 1 & 120732890 \\\\\n",
       "\t5 & 446139 & 1 & 137946392 \\\\\n",
       "\\end{tabular}\n"
      ],
      "text/plain": [
       "\u001b[1m5×3 DataFrame\u001b[0m\n",
       "\u001b[1m Row \u001b[0m│\u001b[1m item_id \u001b[0m\u001b[1m authority_id \u001b[0m\u001b[1m value      \u001b[0m\n",
       "\u001b[1m     \u001b[0m│\u001b[90m Int32   \u001b[0m\u001b[90m Int64        \u001b[0m\u001b[90m String     \u001b[0m\n",
       "─────┼───────────────────────────────────\n",
       "   1 │  446101             1  11850049X\n",
       "   2 │  446149             1  1255245271\n",
       "   3 │  446145             1  118594702\n",
       "   4 │  446144             1  120732890\n",
       "   5 │  446139             1  137946392"
      ]
     },
     "execution_count": 402,
     "metadata": {},
     "output_type": "execute_result"
    }
   ],
   "source": [
    "df_ins[303:307, :]"
   ]
  },
  {
   "cell_type": "code",
   "execution_count": 403,
   "metadata": {},
   "outputs": [
    {
     "name": "stderr",
     "output_type": "stream",
     "text": [
      "┌ Info: Rows inserted: 2333\n",
      "└ @ WiagDataSetup C:\\Users\\georg\\Documents\\projekte\\WiagDataSetup.jl\\src\\WiagDataSetup.jl:1216\n"
     ]
    },
    {
     "data": {
      "text/plain": [
       "2333"
      ]
     },
     "execution_count": 403,
     "metadata": {},
     "output_type": "execute_result"
    }
   ],
   "source": [
    "Wds.filltable!(\"id_external\", df_ins)"
   ]
  },
  {
   "cell_type": "markdown",
   "metadata": {},
   "source": [
    "**Wikidata**"
   ]
  },
  {
   "cell_type": "code",
   "execution_count": 404,
   "metadata": {},
   "outputs": [
    {
     "data": {
      "text/plain": [
       "2"
      ]
     },
     "execution_count": 404,
     "metadata": {},
     "output_type": "execute_result"
    }
   ],
   "source": [
    "authority_id_wd = 2 # siehe oben"
   ]
  },
  {
   "cell_type": "markdown",
   "metadata": {},
   "source": [
    "In vielen Datensätzen ist `Wikidata_ID` befüllt mit `ergaenzen`"
   ]
  },
  {
   "cell_type": "code",
   "execution_count": 405,
   "metadata": {},
   "outputs": [],
   "source": [
    "df_cn_wd = dropmissing(df_cn, :Wikidata_ID)\n",
    "filter!(:Wikidata_ID => !isequal(\"ergaenzen\"), df_cn_wd);"
   ]
  },
  {
   "cell_type": "code",
   "execution_count": 406,
   "metadata": {},
   "outputs": [],
   "source": [
    "df_cn_wd[!, :authority_id] .= authority_id_wd;"
   ]
  },
  {
   "cell_type": "code",
   "execution_count": 407,
   "metadata": {},
   "outputs": [],
   "source": [
    "df_ins = select(df_cn_wd, :id => :item_id, :authority_id, :Wikidata_ID => :value);"
   ]
  },
  {
   "cell_type": "code",
   "execution_count": 408,
   "metadata": {},
   "outputs": [
    {
     "data": {
      "text/html": [
       "<div class=\"data-frame\"><p>8 rows × 3 columns</p><table class=\"data-frame\"><thead><tr><th></th><th>item_id</th><th>authority_id</th><th>value</th></tr><tr><th></th><th title=\"Int32\">Int32</th><th title=\"Int64\">Int64</th><th title=\"String\">String</th></tr></thead><tbody><tr><th>1</th><td>445441</td><td>2</td><td>Q16318409</td></tr><tr><th>2</th><td>445440</td><td>2</td><td>Q1223645</td></tr><tr><th>3</th><td>445437</td><td>2</td><td>Q73123085</td></tr><tr><th>4</th><td>445436</td><td>2</td><td>Q1613052</td></tr><tr><th>5</th><td>445435</td><td>2</td><td>Q1406011</td></tr><tr><th>6</th><td>445494</td><td>2</td><td>Q2573206</td></tr><tr><th>7</th><td>445492</td><td>2</td><td>Q67762626</td></tr><tr><th>8</th><td>445490</td><td>2</td><td>Q67079892</td></tr></tbody></table></div>"
      ],
      "text/latex": [
       "\\begin{tabular}{r|ccc}\n",
       "\t& item\\_id & authority\\_id & value\\\\\n",
       "\t\\hline\n",
       "\t& Int32 & Int64 & String\\\\\n",
       "\t\\hline\n",
       "\t1 & 445441 & 2 & Q16318409 \\\\\n",
       "\t2 & 445440 & 2 & Q1223645 \\\\\n",
       "\t3 & 445437 & 2 & Q73123085 \\\\\n",
       "\t4 & 445436 & 2 & Q1613052 \\\\\n",
       "\t5 & 445435 & 2 & Q1406011 \\\\\n",
       "\t6 & 445494 & 2 & Q2573206 \\\\\n",
       "\t7 & 445492 & 2 & Q67762626 \\\\\n",
       "\t8 & 445490 & 2 & Q67079892 \\\\\n",
       "\\end{tabular}\n"
      ],
      "text/plain": [
       "\u001b[1m8×3 DataFrame\u001b[0m\n",
       "\u001b[1m Row \u001b[0m│\u001b[1m item_id \u001b[0m\u001b[1m authority_id \u001b[0m\u001b[1m value     \u001b[0m\n",
       "\u001b[1m     \u001b[0m│\u001b[90m Int32   \u001b[0m\u001b[90m Int64        \u001b[0m\u001b[90m String    \u001b[0m\n",
       "─────┼──────────────────────────────────\n",
       "   1 │  445441             2  Q16318409\n",
       "   2 │  445440             2  Q1223645\n",
       "   3 │  445437             2  Q73123085\n",
       "   4 │  445436             2  Q1613052\n",
       "   5 │  445435             2  Q1406011\n",
       "   6 │  445494             2  Q2573206\n",
       "   7 │  445492             2  Q67762626\n",
       "   8 │  445490             2  Q67079892"
      ]
     },
     "execution_count": 408,
     "metadata": {},
     "output_type": "execute_result"
    }
   ],
   "source": [
    "df_ins[300:307, :]"
   ]
  },
  {
   "cell_type": "code",
   "execution_count": 409,
   "metadata": {},
   "outputs": [
    {
     "name": "stderr",
     "output_type": "stream",
     "text": [
      "┌ Info: Rows inserted: 2379\n",
      "└ @ WiagDataSetup C:\\Users\\georg\\Documents\\projekte\\WiagDataSetup.jl\\src\\WiagDataSetup.jl:1216\n"
     ]
    },
    {
     "data": {
      "text/plain": [
       "2379"
      ]
     },
     "execution_count": 409,
     "metadata": {},
     "output_type": "execute_result"
    }
   ],
   "source": [
    "Wds.filltable!(\"id_external\", df_ins)"
   ]
  },
  {
   "cell_type": "markdown",
   "metadata": {},
   "source": [
    "**GSN**"
   ]
  },
  {
   "cell_type": "markdown",
   "metadata": {},
   "source": [
    "*2022-05-12* manche Einträge sind fehlerhaft  \n",
    "*2022-05-20* behoben  \n",
    "*2022-06-02* neu: finde die jeweils aktuelle GSN"
   ]
  },
  {
   "cell_type": "markdown",
   "metadata": {},
   "source": [
    "begin fix"
   ]
  },
  {
   "cell_type": "code",
   "execution_count": 176,
   "metadata": {},
   "outputs": [
    {
     "data": {
      "text/plain": [
       "is_incomplete (generic function with 1 method)"
      ]
     },
     "execution_count": 176,
     "metadata": {},
     "output_type": "execute_result"
    }
   ],
   "source": [
    "is_incomplete(s) = !ismissing(s) && occursin(r\".*-00$\", s)"
   ]
  },
  {
   "cell_type": "code",
   "execution_count": 177,
   "metadata": {},
   "outputs": [
    {
     "data": {
      "text/plain": [
       "Int64[]"
      ]
     },
     "execution_count": 177,
     "metadata": {},
     "output_type": "execute_result"
    }
   ],
   "source": [
    "idx_b = findall(is_incomplete, df_cn.GSN_ID)"
   ]
  },
  {
   "cell_type": "code",
   "execution_count": 178,
   "metadata": {},
   "outputs": [
    {
     "data": {
      "text/html": [
       "<div class=\"data-frame\"><p>0 rows × 4 columns</p><table class=\"data-frame\"><thead><tr><th></th><th>ID_Domherr</th><th>Vorname</th><th>Familienname</th><th>GSN_ID</th></tr><tr><th></th><th title=\"Int64\">Int64</th><th title=\"Union{Missing, String}\">String?</th><th title=\"Union{Missing, String}\">String?</th><th title=\"Union{Missing, String}\">String?</th></tr></thead><tbody></tbody></table></div>"
      ],
      "text/latex": [
       "\\begin{tabular}{r|cccc}\n",
       "\t& ID\\_Domherr & Vorname & Familienname & GSN\\_ID\\\\\n",
       "\t\\hline\n",
       "\t& Int64 & String? & String? & String?\\\\\n",
       "\t\\hline\n",
       "\\end{tabular}\n"
      ],
      "text/plain": [
       "\u001b[1m0×4 DataFrame\u001b[0m"
      ]
     },
     "execution_count": 178,
     "metadata": {},
     "output_type": "execute_result"
    }
   ],
   "source": [
    "df_cn[idx_b, [:ID_Domherr, :Vorname, :Familienname, :GSN_ID]]"
   ]
  },
  {
   "cell_type": "code",
   "execution_count": 44,
   "metadata": {},
   "outputs": [
    {
     "data": {
      "text/plain": [
       "fix_gsn_id (generic function with 1 method)"
      ]
     },
     "execution_count": 44,
     "metadata": {},
     "output_type": "execute_result"
    }
   ],
   "source": [
    "fix_gsn_id(s) = ismissing(s) ? s : replace(s, r\"-00$\" =>\"-001\")"
   ]
  },
  {
   "cell_type": "code",
   "execution_count": 45,
   "metadata": {},
   "outputs": [],
   "source": [
    "transform!(df_cn, :GSN_ID => ByRow(fix_gsn_id) => :GSN_ID);"
   ]
  },
  {
   "cell_type": "markdown",
   "metadata": {},
   "source": [
    "bereinige komplette URLs in `WIAG_ID_Bischof` (siehe oben)"
   ]
  },
  {
   "cell_type": "code",
   "execution_count": 46,
   "metadata": {},
   "outputs": [
    {
     "ename": "LoadError",
     "evalue": "UndefVarError: get_WIAG_ID_Bischof not defined",
     "output_type": "error",
     "traceback": [
      "UndefVarError: get_WIAG_ID_Bischof not defined",
      "",
      "Stacktrace:",
      " [1] top-level scope",
      "   @ In[46]:1",
      " [2] eval",
      "   @ .\\boot.jl:373 [inlined]",
      " [3] include_string(mapexpr::typeof(REPL.softscope), mod::Module, code::String, filename::String)",
      "   @ Base .\\loading.jl:1196"
     ]
    }
   ],
   "source": [
    "transform!(df_cn, :WIAG_ID_Bischof => ByRow(get_WIAG_ID_Bischof) => :WIAG_ID_Bischof);"
   ]
  },
  {
   "cell_type": "markdown",
   "metadata": {},
   "source": [
    "end fix"
   ]
  },
  {
   "cell_type": "markdown",
   "metadata": {},
   "source": [
    "Ergänze auch mittelbare GSN über Verweise auf Bischöfe, d.h. Domherren verweisen auf Bischöfe, die ihrerseits auf die Personendatenbank verweisen. Dazu müssen zuerst die Bischöfe aktualisiert sein, falls es hier neue Daten gibt."
   ]
  },
  {
   "cell_type": "code",
   "execution_count": 412,
   "metadata": {},
   "outputs": [],
   "source": [
    "table_name = \"item\";\n",
    "item_type_bishop = 4;\n",
    "sql = \"SELECT i.id as ep, i.id_public, e1.value AS ep_gsn\n",
    "FROM $(table_name) AS i\n",
    "JOIN id_external AS e1 ON e1.item_id = i.id AND e1.authority_id = 200\n",
    "WHERE i.item_type_id = $(item_type_bishop) AND i.is_online\";\n",
    "df_ep = Wds.sql_df(sql);"
   ]
  },
  {
   "cell_type": "code",
   "execution_count": 413,
   "metadata": {},
   "outputs": [
    {
     "data": {
      "text/html": [
       "<div class=\"data-frame\"><p>5 rows × 3 columns</p><table class=\"data-frame\"><thead><tr><th></th><th>ep</th><th>id_public</th><th>ep_gsn</th></tr><tr><th></th><th title=\"Int32\">Int32</th><th title=\"Union{Missing, String}\">String?</th><th title=\"Union{Missing, String}\">String?</th></tr></thead><tbody><tr><th>1</th><td>475333</td><td>WIAG-Pers-EPISCGatz-04852-001</td><td>009-00155-001</td></tr><tr><th>2</th><td>475338</td><td>WIAG-Pers-EPISCGatz-04847-001</td><td>075-00857-001</td></tr><tr><th>3</th><td>475361</td><td>WIAG-Pers-EPISCGatz-05308-001</td><td>024-02496-001</td></tr><tr><th>4</th><td>475364</td><td>WIAG-Pers-EPISCGatz-05304-001</td><td>005-02622-001</td></tr><tr><th>5</th><td>475367</td><td>WIAG-Pers-EPISCGatz-05301-001</td><td>044-00720-001</td></tr></tbody></table></div>"
      ],
      "text/latex": [
       "\\begin{tabular}{r|ccc}\n",
       "\t& ep & id\\_public & ep\\_gsn\\\\\n",
       "\t\\hline\n",
       "\t& Int32 & String? & String?\\\\\n",
       "\t\\hline\n",
       "\t1 & 475333 & WIAG-Pers-EPISCGatz-04852-001 & 009-00155-001 \\\\\n",
       "\t2 & 475338 & WIAG-Pers-EPISCGatz-04847-001 & 075-00857-001 \\\\\n",
       "\t3 & 475361 & WIAG-Pers-EPISCGatz-05308-001 & 024-02496-001 \\\\\n",
       "\t4 & 475364 & WIAG-Pers-EPISCGatz-05304-001 & 005-02622-001 \\\\\n",
       "\t5 & 475367 & WIAG-Pers-EPISCGatz-05301-001 & 044-00720-001 \\\\\n",
       "\\end{tabular}\n"
      ],
      "text/plain": [
       "\u001b[1m5×3 DataFrame\u001b[0m\n",
       "\u001b[1m Row \u001b[0m│\u001b[1m ep     \u001b[0m\u001b[1m id_public                     \u001b[0m\u001b[1m ep_gsn        \u001b[0m\n",
       "\u001b[1m     \u001b[0m│\u001b[90m Int32  \u001b[0m\u001b[90m String?                       \u001b[0m\u001b[90m String?       \u001b[0m\n",
       "─────┼──────────────────────────────────────────────────────\n",
       "   1 │ 475333  WIAG-Pers-EPISCGatz-04852-001  009-00155-001\n",
       "   2 │ 475338  WIAG-Pers-EPISCGatz-04847-001  075-00857-001\n",
       "   3 │ 475361  WIAG-Pers-EPISCGatz-05308-001  024-02496-001\n",
       "   4 │ 475364  WIAG-Pers-EPISCGatz-05304-001  005-02622-001\n",
       "   5 │ 475367  WIAG-Pers-EPISCGatz-05301-001  044-00720-001"
      ]
     },
     "execution_count": 413,
     "metadata": {},
     "output_type": "execute_result"
    }
   ],
   "source": [
    "df_ep[71:75, :]"
   ]
  },
  {
   "cell_type": "code",
   "execution_count": 414,
   "metadata": {},
   "outputs": [
    {
     "data": {
      "text/html": [
       "<div class=\"data-frame\"><p>5 rows × 4 columns</p><table class=\"data-frame\"><thead><tr><th></th><th>ID_Domherr</th><th>Vorname</th><th>Familienname</th><th>GSN_ID</th></tr><tr><th></th><th title=\"Int64\">Int64</th><th title=\"Union{Missing, String}\">String?</th><th title=\"Union{Missing, String}\">String?</th><th title=\"Union{Missing, String}\">String?</th></tr></thead><tbody><tr><th>1</th><td>10090</td><td>Anselm Kasimir Franz</td><td>Eltz-Kempenich</td><td><em>missing</em></td></tr><tr><th>2</th><td>10091</td><td>Johann Friedrich Arnold</td><td>Hoensbroech</td><td>029-02124-001</td></tr><tr><th>3</th><td>10092</td><td>Lothar Ferdinand</td><td>Metternich-Müllenark</td><td><em>missing</em></td></tr><tr><th>4</th><td>10093</td><td>Franz Arnold Bernhard</td><td>Recke</td><td>026-06481-001</td></tr><tr><th>5</th><td>10094</td><td>Franz Bertram</td><td>Harff</td><td><em>missing</em></td></tr></tbody></table></div>"
      ],
      "text/latex": [
       "\\begin{tabular}{r|cccc}\n",
       "\t& ID\\_Domherr & Vorname & Familienname & GSN\\_ID\\\\\n",
       "\t\\hline\n",
       "\t& Int64 & String? & String? & String?\\\\\n",
       "\t\\hline\n",
       "\t1 & 10090 & Anselm Kasimir Franz & Eltz-Kempenich & \\emph{missing} \\\\\n",
       "\t2 & 10091 & Johann Friedrich Arnold & Hoensbroech & 029-02124-001 \\\\\n",
       "\t3 & 10092 & Lothar Ferdinand & Metternich-Müllenark & \\emph{missing} \\\\\n",
       "\t4 & 10093 & Franz Arnold Bernhard & Recke & 026-06481-001 \\\\\n",
       "\t5 & 10094 & Franz Bertram & Harff & \\emph{missing} \\\\\n",
       "\\end{tabular}\n"
      ],
      "text/plain": [
       "\u001b[1m5×4 DataFrame\u001b[0m\n",
       "\u001b[1m Row \u001b[0m│\u001b[1m ID_Domherr \u001b[0m\u001b[1m Vorname                 \u001b[0m\u001b[1m Familienname         \u001b[0m\u001b[1m GSN_ID        \u001b[0m\n",
       "\u001b[1m     \u001b[0m│\u001b[90m Int64      \u001b[0m\u001b[90m String?                 \u001b[0m\u001b[90m String?              \u001b[0m\u001b[90m String?       \u001b[0m\n",
       "─────┼──────────────────────────────────────────────────────────────────────────\n",
       "   1 │      10090  Anselm Kasimir Franz     Eltz-Kempenich       \u001b[90m missing       \u001b[0m\n",
       "   2 │      10091  Johann Friedrich Arnold  Hoensbroech           029-02124-001\n",
       "   3 │      10092  Lothar Ferdinand         Metternich-Müllenark \u001b[90m missing       \u001b[0m\n",
       "   4 │      10093  Franz Arnold Bernhard    Recke                 026-06481-001\n",
       "   5 │      10094  Franz Bertram            Harff                \u001b[90m missing       \u001b[0m"
      ]
     },
     "execution_count": 414,
     "metadata": {},
     "output_type": "execute_result"
    }
   ],
   "source": [
    "df_cn[91:95, [:ID_Domherr, :Vorname, :Familienname, :GSN_ID]]"
   ]
  },
  {
   "cell_type": "code",
   "execution_count": 415,
   "metadata": {},
   "outputs": [
    {
     "data": {
      "text/plain": [
       "(26073, 3591)"
      ]
     },
     "execution_count": 415,
     "metadata": {},
     "output_type": "execute_result"
    }
   ],
   "source": [
    "size(df_cn, 1), count(!ismissing, df_cn.GSN_ID)"
   ]
  },
  {
   "cell_type": "code",
   "execution_count": 416,
   "metadata": {},
   "outputs": [],
   "source": [
    "df_cn_ep = leftjoin(df_cn, df_ep, on = :WIAG_ID_Bischof => :id_public, matchmissing = :notequal);"
   ]
  },
  {
   "cell_type": "code",
   "execution_count": 417,
   "metadata": {},
   "outputs": [],
   "source": [
    "for row in eachrow(df_cn_ep)\n",
    "    if ismissing(row[:GSN_ID]) && !ismissing(row[:ep_gsn])\n",
    "        row[:GSN_ID] = row[:ep_gsn]\n",
    "    end\n",
    "end"
   ]
  },
  {
   "cell_type": "code",
   "execution_count": 418,
   "metadata": {},
   "outputs": [
    {
     "data": {
      "text/plain": [
       "(26073, 3908)"
      ]
     },
     "execution_count": 418,
     "metadata": {},
     "output_type": "execute_result"
    }
   ],
   "source": [
    "size(df_cn_ep, 1), count(!ismissing, df_cn_ep.GSN_ID)"
   ]
  },
  {
   "cell_type": "code",
   "execution_count": 419,
   "metadata": {},
   "outputs": [
    {
     "data": {
      "text/plain": [
       "200"
      ]
     },
     "execution_count": 419,
     "metadata": {},
     "output_type": "execute_result"
    }
   ],
   "source": [
    "authority_id_gsn = 200 # siehe oben"
   ]
  },
  {
   "cell_type": "code",
   "execution_count": 420,
   "metadata": {},
   "outputs": [],
   "source": [
    "df_cn_gsn = dropmissing(df_cn_ep, :GSN_ID)\n",
    "df_cn_gsn[!, :authority_id] .= authority_id_gsn;"
   ]
  },
  {
   "cell_type": "markdown",
   "metadata": {},
   "source": [
    "Finde die jeweils aktuell gültige GSN"
   ]
  },
  {
   "cell_type": "code",
   "execution_count": 421,
   "metadata": {},
   "outputs": [
    {
     "data": {
      "text/plain": [
       "\"gso_in_202210\""
      ]
     },
     "execution_count": 421,
     "metadata": {},
     "output_type": "execute_result"
    }
   ],
   "source": [
    "gso_db = \"gso_in_202210\""
   ]
  },
  {
   "cell_type": "code",
   "execution_count": 422,
   "metadata": {},
   "outputs": [],
   "source": [
    "# gsn_gsn wird erzeugt aus gsn, siehe notebook Domherr-GS\n",
    "sql = \"SELECT id_new AS gs_gsn_id, nummer, nummer_new\n",
    "FROM $(gso_db).gsn_gsn\";\n",
    "df_gsn_gsn = Wds.sql_df(sql);"
   ]
  },
  {
   "cell_type": "code",
   "execution_count": 423,
   "metadata": {},
   "outputs": [],
   "source": [
    "df_ins_gsn = innerjoin(df_cn_gsn, df_gsn_gsn, on = :GSN_ID => :nummer);"
   ]
  },
  {
   "cell_type": "code",
   "execution_count": 424,
   "metadata": {},
   "outputs": [],
   "source": [
    "df_new_gsn = subset(df_ins_gsn, [:nummer_new, :GSN_ID] => ByRow(!isequal));"
   ]
  },
  {
   "cell_type": "code",
   "execution_count": 425,
   "metadata": {},
   "outputs": [
    {
     "data": {
      "text/plain": [
       "(1, 56)"
      ]
     },
     "execution_count": 425,
     "metadata": {},
     "output_type": "execute_result"
    }
   ],
   "source": [
    "size(df_new_gsn)"
   ]
  },
  {
   "cell_type": "code",
   "execution_count": 426,
   "metadata": {},
   "outputs": [
    {
     "data": {
      "text/html": [
       "<div class=\"data-frame\"><p>1 rows × 7 columns</p><table class=\"data-frame\"><thead><tr><th></th><th>id</th><th>ID_Domherr</th><th>Vorname</th><th>Familienname</th><th>GSN_ID</th><th>nummer_new</th><th>Status</th></tr><tr><th></th><th title=\"Int32\">Int32</th><th title=\"Int64\">Int64</th><th title=\"Union{Missing, String}\">String?</th><th title=\"Union{Missing, String}\">String?</th><th title=\"String\">String</th><th title=\"String\">String</th><th title=\"Union{Missing, String}\">String?</th></tr></thead><tbody><tr><th>1</th><td>447656</td><td>14210</td><td>Thilmann I.</td><td>Hagen</td><td>074-04812-001</td><td>055-00542-001</td><td>merged</td></tr></tbody></table></div>"
      ],
      "text/latex": [
       "\\begin{tabular}{r|ccccccc}\n",
       "\t& id & ID\\_Domherr & Vorname & Familienname & GSN\\_ID & nummer\\_new & Status\\\\\n",
       "\t\\hline\n",
       "\t& Int32 & Int64 & String? & String? & String & String & String?\\\\\n",
       "\t\\hline\n",
       "\t1 & 447656 & 14210 & Thilmann I. & Hagen & 074-04812-001 & 055-00542-001 & merged \\\\\n",
       "\\end{tabular}\n"
      ],
      "text/plain": [
       "\u001b[1m1×7 DataFrame\u001b[0m\n",
       "\u001b[1m Row \u001b[0m│\u001b[1m id     \u001b[0m\u001b[1m ID_Domherr \u001b[0m\u001b[1m Vorname     \u001b[0m\u001b[1m Familienname \u001b[0m\u001b[1m GSN_ID        \u001b[0m\u001b[1m nummer_new    \u001b[0m\u001b[1m Status  \u001b[0m\n",
       "\u001b[1m     \u001b[0m│\u001b[90m Int32  \u001b[0m\u001b[90m Int64      \u001b[0m\u001b[90m String?     \u001b[0m\u001b[90m String?      \u001b[0m\u001b[90m String        \u001b[0m\u001b[90m String        \u001b[0m\u001b[90m String? \u001b[0m\n",
       "─────┼──────────────────────────────────────────────────────────────────────────────────────\n",
       "   1 │ 447656       14210  Thilmann I.  Hagen         074-04812-001  055-00542-001  merged"
      ]
     },
     "execution_count": 426,
     "metadata": {},
     "output_type": "execute_result"
    }
   ],
   "source": [
    "df_new_gsn[:, [:id, :ID_Domherr, :Vorname, :Familienname, :GSN_ID, :nummer_new, :Status]]"
   ]
  },
  {
   "cell_type": "markdown",
   "metadata": {},
   "source": [
    "Ausgabe für die Redaktion"
   ]
  },
  {
   "cell_type": "code",
   "execution_count": 226,
   "metadata": {},
   "outputs": [
    {
     "data": {
      "text/plain": [
       "7-element Vector{Pair{Symbol, Symbol}}:\n",
       "           :id => :id\n",
       "    :is_online => :is_online\n",
       "   :ID_Domherr => :ID_Domherr\n",
       "      :Vorname => :Vorname\n",
       " :Familienname => :Familienname\n",
       "       :GSN_ID => :GSN_ID\n",
       "   :nummer_new => :GSN_ID_neu"
      ]
     },
     "execution_count": 226,
     "metadata": {},
     "output_type": "execute_result"
    }
   ],
   "source": [
    "columns = [\n",
    "    :id => :id,\n",
    "    :is_online => :is_online,\n",
    "    :ID_Domherr => :ID_Domherr,\n",
    "    :Vorname => :Vorname,\n",
    "    :Familienname => :Familienname,\n",
    "    :GSN_ID => :GSN_ID,\n",
    "    :nummer_new => :GSN_ID_neu,\n",
    "]"
   ]
  },
  {
   "cell_type": "code",
   "execution_count": 227,
   "metadata": {},
   "outputs": [
    {
     "data": {
      "text/plain": [
       "\"C:\\\\Users\\\\georg\\\\Documents\\\\projekte-doc\\\\WIAGweb2\\\\data\\\\domherren_gsn_neu_2022-07-26.csv\""
      ]
     },
     "execution_count": 227,
     "metadata": {},
     "output_type": "execute_result"
    }
   ],
   "source": [
    "out_path = \"C:\\\\Users\\\\georg\\\\Documents\\\\projekte-doc\\\\WIAGweb2\\\\data\";\n",
    "filename = joinpath(out_path, \"domherren_gsn_neu_2022-07-26.csv\");\n",
    "CSV.write(filename, select(df_new_gsn, columns), delim = \";\")"
   ]
  },
  {
   "cell_type": "markdown",
   "metadata": {},
   "source": [
    "Ende: Ausgabe für die Redaktion"
   ]
  },
  {
   "cell_type": "code",
   "execution_count": 427,
   "metadata": {},
   "outputs": [],
   "source": [
    "df_ins = select(df_ins_gsn, :id => :item_id, :authority_id, :nummer_new => :value);"
   ]
  },
  {
   "cell_type": "code",
   "execution_count": 428,
   "metadata": {
    "scrolled": true
   },
   "outputs": [
    {
     "data": {
      "text/html": [
       "<div class=\"data-frame\"><p>5 rows × 3 columns</p><table class=\"data-frame\"><thead><tr><th></th><th>item_id</th><th>authority_id</th><th>value</th></tr><tr><th></th><th title=\"Int32\">Int32</th><th title=\"Int64\">Int64</th><th title=\"String\">String</th></tr></thead><tbody><tr><th>1</th><td>457365</td><td>200</td><td>016-03487-001</td></tr><tr><th>2</th><td>458548</td><td>200</td><td>016-03513-001</td></tr><tr><th>3</th><td>457400</td><td>200</td><td>016-03519-001</td></tr><tr><th>4</th><td>458602</td><td>200</td><td>016-03568-001</td></tr><tr><th>5</th><td>458603</td><td>200</td><td>016-03599-001</td></tr></tbody></table></div>"
      ],
      "text/latex": [
       "\\begin{tabular}{r|ccc}\n",
       "\t& item\\_id & authority\\_id & value\\\\\n",
       "\t\\hline\n",
       "\t& Int32 & Int64 & String\\\\\n",
       "\t\\hline\n",
       "\t1 & 457365 & 200 & 016-03487-001 \\\\\n",
       "\t2 & 458548 & 200 & 016-03513-001 \\\\\n",
       "\t3 & 457400 & 200 & 016-03519-001 \\\\\n",
       "\t4 & 458602 & 200 & 016-03568-001 \\\\\n",
       "\t5 & 458603 & 200 & 016-03599-001 \\\\\n",
       "\\end{tabular}\n"
      ],
      "text/plain": [
       "\u001b[1m5×3 DataFrame\u001b[0m\n",
       "\u001b[1m Row \u001b[0m│\u001b[1m item_id \u001b[0m\u001b[1m authority_id \u001b[0m\u001b[1m value         \u001b[0m\n",
       "\u001b[1m     \u001b[0m│\u001b[90m Int32   \u001b[0m\u001b[90m Int64        \u001b[0m\u001b[90m String        \u001b[0m\n",
       "─────┼──────────────────────────────────────\n",
       "   1 │  457365           200  016-03487-001\n",
       "   2 │  458548           200  016-03513-001\n",
       "   3 │  457400           200  016-03519-001\n",
       "   4 │  458602           200  016-03568-001\n",
       "   5 │  458603           200  016-03599-001"
      ]
     },
     "execution_count": 428,
     "metadata": {},
     "output_type": "execute_result"
    }
   ],
   "source": [
    "df_ins[321:325, :]"
   ]
  },
  {
   "cell_type": "code",
   "execution_count": 429,
   "metadata": {},
   "outputs": [
    {
     "name": "stderr",
     "output_type": "stream",
     "text": [
      "┌ Info: Rows inserted: 3900\n",
      "└ @ WiagDataSetup C:\\Users\\georg\\Documents\\projekte\\WiagDataSetup.jl\\src\\WiagDataSetup.jl:1216\n"
     ]
    },
    {
     "data": {
      "text/plain": [
       "3900"
      ]
     },
     "execution_count": 429,
     "metadata": {},
     "output_type": "execute_result"
    }
   ],
   "source": [
    "Wds.filltable!(\"id_external\", df_ins)"
   ]
  },
  {
   "cell_type": "markdown",
   "metadata": {},
   "source": [
    "**WIAG-ID**"
   ]
  },
  {
   "cell_type": "code",
   "execution_count": 430,
   "metadata": {},
   "outputs": [
    {
     "data": {
      "text/plain": [
       "5"
      ]
     },
     "execution_count": 430,
     "metadata": {},
     "output_type": "execute_result"
    }
   ],
   "source": [
    "authority_id_wiag = 5 # siehe oben"
   ]
  },
  {
   "cell_type": "code",
   "execution_count": 431,
   "metadata": {},
   "outputs": [],
   "source": [
    "df_cn_wiag = dropmissing(df_cn, :WIAG_ID_Bischof)\n",
    "df_cn_wiag[!, :authority_id] .= authority_id_wiag;"
   ]
  },
  {
   "cell_type": "code",
   "execution_count": 432,
   "metadata": {},
   "outputs": [],
   "source": [
    "df_ins = select(df_cn_wiag, :id => :item_id, :authority_id, :WIAG_ID_Bischof => :value);"
   ]
  },
  {
   "cell_type": "code",
   "execution_count": 433,
   "metadata": {},
   "outputs": [
    {
     "data": {
      "text/plain": [
       "(1233, 3)"
      ]
     },
     "execution_count": 433,
     "metadata": {},
     "output_type": "execute_result"
    }
   ],
   "source": [
    "size(df_ins)"
   ]
  },
  {
   "cell_type": "code",
   "execution_count": 434,
   "metadata": {},
   "outputs": [
    {
     "name": "stderr",
     "output_type": "stream",
     "text": [
      "┌ Info: Rows inserted: 1233\n",
      "└ @ WiagDataSetup C:\\Users\\georg\\Documents\\projekte\\WiagDataSetup.jl\\src\\WiagDataSetup.jl:1216\n"
     ]
    },
    {
     "data": {
      "text/plain": [
       "1233"
      ]
     },
     "execution_count": 434,
     "metadata": {},
     "output_type": "execute_result"
    }
   ],
   "source": [
    "Wds.filltable!(\"id_external\", df_ins)"
   ]
  },
  {
   "cell_type": "markdown",
   "metadata": {},
   "source": [
    "**Wikipedia**"
   ]
  },
  {
   "cell_type": "code",
   "execution_count": 435,
   "metadata": {},
   "outputs": [
    {
     "data": {
      "text/plain": [
       "3"
      ]
     },
     "execution_count": 435,
     "metadata": {},
     "output_type": "execute_result"
    }
   ],
   "source": [
    "authority_id_wp = 3 # siehe oben"
   ]
  },
  {
   "cell_type": "code",
   "execution_count": 436,
   "metadata": {},
   "outputs": [],
   "source": [
    "df_cn_wp = dropmissing(df_cn, :URL_Wikipedia)\n",
    "df_cn_wp[!, :authority_id] .= authority_id_wp;"
   ]
  },
  {
   "cell_type": "code",
   "execution_count": 437,
   "metadata": {},
   "outputs": [],
   "source": [
    "df_ins = select(df_cn_wp, :id => :item_id, :authority_id, :URL_Wikipedia => :value);"
   ]
  },
  {
   "cell_type": "markdown",
   "metadata": {},
   "source": [
    "Die Wikipedia-URLs sind teilweise mit '#' versehen und doppelt  \n",
    "#https://de.wikipedia.org/wiki/Ruprecht_von_der_Pfalz_%28Freising%29#https://de.wikipedia.org/wiki/Ruprecht_von_der_Pfalz_%28Freising%29#"
   ]
  },
  {
   "cell_type": "code",
   "execution_count": 438,
   "metadata": {},
   "outputs": [
    {
     "data": {
      "text/plain": [
       "\"Ruprecht_von_der_Pfalz_%28Freising%29\""
      ]
     },
     "execution_count": 438,
     "metadata": {},
     "output_type": "execute_result"
    }
   ],
   "source": [
    "url_m = \"#https://de.wikipedia.org/wiki/Ruprecht_von_der_Pfalz_%28Freising%29#https://de.wikipedia.org/wiki/Ruprecht_von_der_Pfalz_%28Freising%29#\"\n",
    "Wds.fix_Wikipedia_URL(url_m)"
   ]
  },
  {
   "cell_type": "code",
   "execution_count": 439,
   "metadata": {},
   "outputs": [],
   "source": [
    "transform!(df_ins, :value => ByRow(Wds.fix_Wikipedia_URL) => :value);"
   ]
  },
  {
   "cell_type": "code",
   "execution_count": 440,
   "metadata": {
    "scrolled": true
   },
   "outputs": [
    {
     "data": {
      "text/html": [
       "<div class=\"data-frame\"><p>5 rows × 3 columns</p><table class=\"data-frame\"><thead><tr><th></th><th>item_id</th><th>authority_id</th><th>value</th></tr><tr><th></th><th title=\"Int32\">Int32</th><th title=\"Int64\">Int64</th><th title=\"SubString{String}\">SubStri…</th></tr></thead><tbody><tr><th>1</th><td>446882</td><td>3</td><td>Stephan_von_Pfalz-Simmern</td></tr><tr><th>2</th><td>446922</td><td>3</td><td>Bernhard_von_Breidenbach</td></tr><tr><th>3</th><td>446916</td><td>3</td><td>Hertnid_von_Stein</td></tr><tr><th>4</th><td>446911</td><td>3</td><td>Johann_II._(Henneberg-Schleusingen)</td></tr><tr><th>5</th><td>446961</td><td>3</td><td>https://en.wikipedia.org/wiki/Teodoro_Paleologo_di_Montferrato</td></tr></tbody></table></div>"
      ],
      "text/latex": [
       "\\begin{tabular}{r|ccc}\n",
       "\t& item\\_id & authority\\_id & value\\\\\n",
       "\t\\hline\n",
       "\t& Int32 & Int64 & SubStri…\\\\\n",
       "\t\\hline\n",
       "\t1 & 446882 & 3 & Stephan\\_von\\_Pfalz-Simmern \\\\\n",
       "\t2 & 446922 & 3 & Bernhard\\_von\\_Breidenbach \\\\\n",
       "\t3 & 446916 & 3 & Hertnid\\_von\\_Stein \\\\\n",
       "\t4 & 446911 & 3 & Johann\\_II.\\_(Henneberg-Schleusingen) \\\\\n",
       "\t5 & 446961 & 3 & https://en.wikipedia.org/wiki/Teodoro\\_Paleologo\\_di\\_Montferrato \\\\\n",
       "\\end{tabular}\n"
      ],
      "text/plain": [
       "\u001b[1m5×3 DataFrame\u001b[0m\n",
       "\u001b[1m Row \u001b[0m│\u001b[1m item_id \u001b[0m\u001b[1m authority_id \u001b[0m\u001b[1m value                             \u001b[0m\n",
       "\u001b[1m     \u001b[0m│\u001b[90m Int32   \u001b[0m\u001b[90m Int64        \u001b[0m\u001b[90m SubStrin…                         \u001b[0m\n",
       "─────┼──────────────────────────────────────────────────────────\n",
       "   1 │  446882             3  Stephan_von_Pfalz-Simmern\n",
       "   2 │  446922             3  Bernhard_von_Breidenbach\n",
       "   3 │  446916             3  Hertnid_von_Stein\n",
       "   4 │  446911             3  Johann_II._(Henneberg-Schleusing…\n",
       "   5 │  446961             3  https://en.wikipedia.org/wiki/Te…"
      ]
     },
     "execution_count": 440,
     "metadata": {},
     "output_type": "execute_result"
    }
   ],
   "source": [
    "df_ins[300:304, :]"
   ]
  },
  {
   "cell_type": "markdown",
   "metadata": {},
   "source": [
    "*debug begin*"
   ]
  },
  {
   "cell_type": "code",
   "execution_count": 91,
   "metadata": {},
   "outputs": [],
   "source": [
    "using CSV"
   ]
  },
  {
   "cell_type": "code",
   "execution_count": 92,
   "metadata": {},
   "outputs": [
    {
     "data": {
      "text/plain": [
       "\"C:\\\\Users\\\\georg\\\\Documents\\\\tmp\\\\bishops_url_wikidata.csv\""
      ]
     },
     "execution_count": 92,
     "metadata": {},
     "output_type": "execute_result"
    }
   ],
   "source": [
    "file_wp = \"C:\\\\Users\\\\georg\\\\Documents\\\\tmp\\\\bishops_url_wikidata.csv\""
   ]
  },
  {
   "cell_type": "code",
   "execution_count": 93,
   "metadata": {},
   "outputs": [
    {
     "data": {
      "text/plain": [
       "\"C:\\\\Users\\\\georg\\\\Documents\\\\tmp\\\\bishops_url_wikidata.csv\""
      ]
     },
     "execution_count": 93,
     "metadata": {},
     "output_type": "execute_result"
    }
   ],
   "source": [
    "CSV.write(file_wp, df_ins)"
   ]
  },
  {
   "cell_type": "markdown",
   "metadata": {},
   "source": [
    "*debug end*"
   ]
  },
  {
   "cell_type": "code",
   "execution_count": 441,
   "metadata": {},
   "outputs": [
    {
     "name": "stderr",
     "output_type": "stream",
     "text": [
      "┌ Info: Rows inserted: 1905\n",
      "└ @ WiagDataSetup C:\\Users\\georg\\Documents\\projekte\\WiagDataSetup.jl\\src\\WiagDataSetup.jl:1216\n"
     ]
    },
    {
     "data": {
      "text/plain": [
       "1905"
      ]
     },
     "execution_count": 441,
     "metadata": {},
     "output_type": "execute_result"
    }
   ],
   "source": [
    "Wds.filltable!(\"id_external\", df_ins)"
   ]
  },
  {
   "cell_type": "markdown",
   "metadata": {},
   "source": [
    "### Namensvarianten eintragen"
   ]
  },
  {
   "cell_type": "code",
   "execution_count": 442,
   "metadata": {},
   "outputs": [],
   "source": [
    "using MySQL, DataFrames"
   ]
  },
  {
   "cell_type": "code",
   "execution_count": 443,
   "metadata": {},
   "outputs": [],
   "source": [
    "# Quelle CSV-Datei\n",
    "filename = joinpath(data_path, \"tbl_domherren.csv\");\n",
    "df_cn = CSV.read(filename, DataFrame);"
   ]
  },
  {
   "cell_type": "code",
   "execution_count": null,
   "metadata": {},
   "outputs": [],
   "source": [
    "# Quelle Datenbank\n",
    "table_name = \"domherr.tbl_domherren\"\n",
    "sql = \"SELECT ID_Domherr, Vorname, Familienname, Vorname_Variante, Familienname_Variante \" *\n",
    "\"FROM $(table_name)\"\n",
    "df_cn = Wds.sql_df(sql);"
   ]
  },
  {
   "cell_type": "code",
   "execution_count": 444,
   "metadata": {},
   "outputs": [],
   "source": [
    "Wds.clean_up!(df_cn)"
   ]
  },
  {
   "cell_type": "code",
   "execution_count": 445,
   "metadata": {},
   "outputs": [],
   "source": [
    "df_fnv = dropmissing(df_cn, :Familienname_Variante);"
   ]
  },
  {
   "cell_type": "code",
   "execution_count": 446,
   "metadata": {},
   "outputs": [
    {
     "data": {
      "text/plain": [
       "1722"
      ]
     },
     "execution_count": 446,
     "metadata": {},
     "output_type": "execute_result"
    }
   ],
   "source": [
    "size(df_fnv, 1)"
   ]
  },
  {
   "cell_type": "code",
   "execution_count": 447,
   "metadata": {},
   "outputs": [
    {
     "data": {
      "text/html": [
       "<div class=\"data-frame\"><p>7 rows × 48 columns (omitted printing of 41 columns)</p><table class=\"data-frame\"><thead><tr><th></th><th>ID_Domherr</th><th>Eintrag_Quelle</th><th>Seite_Quelle</th><th>Quelle</th><th>Praefix</th><th>Vorname</th><th>Familienname</th></tr><tr><th></th><th title=\"Int64\">Int64</th><th title=\"Union{Missing, String}\">String?</th><th title=\"Union{Missing, String}\">String?</th><th title=\"Int64\">Int64</th><th title=\"Union{Missing, String}\">String?</th><th title=\"Union{Missing, String}\">String?</th><th title=\"Union{Missing, String}\">String?</th></tr></thead><tbody><tr><th>1</th><td>13500</td><td><em>missing</em></td><td>680</td><td>27</td><td>von</td><td>Arnold</td><td>Hoensbroch</td></tr><tr><th>2</th><td>13520</td><td><em>missing</em></td><td>680</td><td>27</td><td>von</td><td>Engelbert Dietrich Theodor Ludewig</td><td>Droste-Erwitte</td></tr><tr><th>3</th><td>13525</td><td><em>missing</em></td><td>680</td><td>27</td><td>von</td><td>Franz Egon</td><td>Fürstenberg</td></tr><tr><th>4</th><td>13526</td><td><em>missing</em></td><td>680</td><td>27</td><td>von</td><td>Franz Theodor Joseph</td><td>Landsberg</td></tr><tr><th>5</th><td>13528</td><td><em>missing</em></td><td>680</td><td>27</td><td>von</td><td>Gerhard</td><td>Berge</td></tr><tr><th>6</th><td>13538</td><td><em>missing</em></td><td>680</td><td>27</td><td>Graf zu</td><td>Heinrich</td><td>Schwarzburg-Sondershausen</td></tr><tr><th>7</th><td>13551</td><td><em>missing</em></td><td>680</td><td>27</td><td><em>missing</em></td><td>Johann</td><td>Castellar</td></tr></tbody></table></div>"
      ],
      "text/latex": [
       "\\begin{tabular}{r|cccccccc}\n",
       "\t& ID\\_Domherr & Eintrag\\_Quelle & Seite\\_Quelle & Quelle & Praefix & Vorname & Familienname & \\\\\n",
       "\t\\hline\n",
       "\t& Int64 & String? & String? & Int64 & String? & String? & String? & \\\\\n",
       "\t\\hline\n",
       "\t1 & 13500 & \\emph{missing} & 680 & 27 & von & Arnold & Hoensbroch & $\\dots$ \\\\\n",
       "\t2 & 13520 & \\emph{missing} & 680 & 27 & von & Engelbert Dietrich Theodor Ludewig & Droste-Erwitte & $\\dots$ \\\\\n",
       "\t3 & 13525 & \\emph{missing} & 680 & 27 & von & Franz Egon & Fürstenberg & $\\dots$ \\\\\n",
       "\t4 & 13526 & \\emph{missing} & 680 & 27 & von & Franz Theodor Joseph & Landsberg & $\\dots$ \\\\\n",
       "\t5 & 13528 & \\emph{missing} & 680 & 27 & von & Gerhard & Berge & $\\dots$ \\\\\n",
       "\t6 & 13538 & \\emph{missing} & 680 & 27 & Graf zu & Heinrich & Schwarzburg-Sondershausen & $\\dots$ \\\\\n",
       "\t7 & 13551 & \\emph{missing} & 680 & 27 & \\emph{missing} & Johann & Castellar & $\\dots$ \\\\\n",
       "\\end{tabular}\n"
      ],
      "text/plain": [
       "\u001b[1m7×48 DataFrame\u001b[0m\n",
       "\u001b[1m Row \u001b[0m│\u001b[1m ID_Domherr \u001b[0m\u001b[1m Eintrag_Quelle \u001b[0m\u001b[1m Seite_Quelle \u001b[0m\u001b[1m Quelle \u001b[0m\u001b[1m Praefix \u001b[0m\u001b[1m Vorname                           \u001b[0m\u001b[1m Familienname     \u001b[0m ⋯\n",
       "\u001b[1m     \u001b[0m│\u001b[90m Int64      \u001b[0m\u001b[90m String?        \u001b[0m\u001b[90m String?      \u001b[0m\u001b[90m Int64  \u001b[0m\u001b[90m String? \u001b[0m\u001b[90m String?                           \u001b[0m\u001b[90m String?          \u001b[0m ⋯\n",
       "─────┼──────────────────────────────────────────────────────────────────────────────────────────────────────────────────\n",
       "   1 │      13500 \u001b[90m missing        \u001b[0m 680               27  von      Arnold                             Hoensbroch        ⋯\n",
       "   2 │      13520 \u001b[90m missing        \u001b[0m 680               27  von      Engelbert Dietrich Theodor Ludew…  Droste-Erwitte\n",
       "   3 │      13525 \u001b[90m missing        \u001b[0m 680               27  von      Franz Egon                         Fürstenberg\n",
       "   4 │      13526 \u001b[90m missing        \u001b[0m 680               27  von      Franz Theodor Joseph               Landsberg\n",
       "   5 │      13528 \u001b[90m missing        \u001b[0m 680               27  von      Gerhard                            Berge             ⋯\n",
       "   6 │      13538 \u001b[90m missing        \u001b[0m 680               27  Graf zu  Heinrich                           Schwarzburg-Sonde\n",
       "   7 │      13551 \u001b[90m missing        \u001b[0m 680               27 \u001b[90m missing \u001b[0m Johann                             Castellar\n",
       "\u001b[36m                                                                                                      42 columns omitted\u001b[0m"
      ]
     },
     "execution_count": 447,
     "metadata": {},
     "output_type": "execute_result"
    }
   ],
   "source": [
    "df_fnv[201:207, :]"
   ]
  },
  {
   "cell_type": "code",
   "execution_count": 448,
   "metadata": {},
   "outputs": [],
   "source": [
    "df_exp = Wds.expand_column(df_fnv, :Familienname_Variante, delim = \",\");"
   ]
  },
  {
   "cell_type": "code",
   "execution_count": 449,
   "metadata": {},
   "outputs": [
    {
     "data": {
      "text/plain": [
       "2167"
      ]
     },
     "execution_count": 449,
     "metadata": {},
     "output_type": "execute_result"
    }
   ],
   "source": [
    "size(df_exp, 1)"
   ]
  },
  {
   "cell_type": "code",
   "execution_count": 450,
   "metadata": {},
   "outputs": [
    {
     "data": {
      "text/html": [
       "<div class=\"data-frame\"><p>7 rows × 48 columns (omitted printing of 38 columns)</p><table class=\"data-frame\"><thead><tr><th></th><th>ID_Domherr</th><th>Eintrag_Quelle</th><th>Seite_Quelle</th><th>Quelle</th><th>Praefix</th><th>Vorname</th><th>Familienname</th><th>Sterbedatum</th><th>Geburtsdatum</th><th>Orden</th></tr><tr><th></th><th title=\"Int64\">Int64</th><th title=\"Union{Missing, String}\">String?</th><th title=\"Union{Missing, String}\">String?</th><th title=\"Int64\">Int64</th><th title=\"Union{Missing, String}\">String?</th><th title=\"Union{Missing, String}\">String?</th><th title=\"Union{Missing, String}\">String?</th><th title=\"Union{Missing, String}\">String?</th><th title=\"Union{Missing, String}\">String?</th><th title=\"Union{Missing, String}\">String?</th></tr></thead><tbody><tr><th>1</th><td>12735</td><td><em>missing</em></td><td>489</td><td>15</td><td><em>missing</em></td><td>Johann</td><td>Perper</td><td><em>missing</em></td><td><em>missing</em></td><td><em>missing</em></td></tr><tr><th>2</th><td>12738</td><td><em>missing</em></td><td>489</td><td>15</td><td><em>missing</em></td><td>Christoph</td><td>Hugewitz</td><td><em>missing</em></td><td><em>missing</em></td><td><em>missing</em></td></tr><tr><th>3</th><td>12740</td><td><em>missing</em></td><td>489</td><td>15</td><td><em>missing</em></td><td>Kaspar</td><td>Krüger</td><td><em>missing</em></td><td><em>missing</em></td><td><em>missing</em></td></tr><tr><th>4</th><td>12742</td><td><em>missing</em></td><td>489</td><td>15</td><td><em>missing</em></td><td>Nicolaus</td><td>Schmidt</td><td><em>missing</em></td><td><em>missing</em></td><td><em>missing</em></td></tr><tr><th>5</th><td>12745</td><td><em>missing</em></td><td>489</td><td>15</td><td><em>missing</em></td><td>Martin</td><td>Schulze</td><td><em>missing</em></td><td><em>missing</em></td><td><em>missing</em></td></tr><tr><th>6</th><td>12751</td><td><em>missing</em></td><td>489</td><td>15</td><td><em>missing</em></td><td>Johann</td><td>Welsdorf</td><td><em>missing</em></td><td><em>missing</em></td><td><em>missing</em></td></tr><tr><th>7</th><td>12751</td><td><em>missing</em></td><td>489</td><td>15</td><td><em>missing</em></td><td>Johann</td><td>Welsdorf</td><td><em>missing</em></td><td><em>missing</em></td><td><em>missing</em></td></tr></tbody></table></div>"
      ],
      "text/latex": [
       "\\begin{tabular}{r|ccccccccccc}\n",
       "\t& ID\\_Domherr & Eintrag\\_Quelle & Seite\\_Quelle & Quelle & Praefix & Vorname & Familienname & Sterbedatum & Geburtsdatum & Orden & \\\\\n",
       "\t\\hline\n",
       "\t& Int64 & String? & String? & Int64 & String? & String? & String? & String? & String? & String? & \\\\\n",
       "\t\\hline\n",
       "\t1 & 12735 & \\emph{missing} & 489 & 15 & \\emph{missing} & Johann & Perper & \\emph{missing} & \\emph{missing} & \\emph{missing} & $\\dots$ \\\\\n",
       "\t2 & 12738 & \\emph{missing} & 489 & 15 & \\emph{missing} & Christoph & Hugewitz & \\emph{missing} & \\emph{missing} & \\emph{missing} & $\\dots$ \\\\\n",
       "\t3 & 12740 & \\emph{missing} & 489 & 15 & \\emph{missing} & Kaspar & Krüger & \\emph{missing} & \\emph{missing} & \\emph{missing} & $\\dots$ \\\\\n",
       "\t4 & 12742 & \\emph{missing} & 489 & 15 & \\emph{missing} & Nicolaus & Schmidt & \\emph{missing} & \\emph{missing} & \\emph{missing} & $\\dots$ \\\\\n",
       "\t5 & 12745 & \\emph{missing} & 489 & 15 & \\emph{missing} & Martin & Schulze & \\emph{missing} & \\emph{missing} & \\emph{missing} & $\\dots$ \\\\\n",
       "\t6 & 12751 & \\emph{missing} & 489 & 15 & \\emph{missing} & Johann & Welsdorf & \\emph{missing} & \\emph{missing} & \\emph{missing} & $\\dots$ \\\\\n",
       "\t7 & 12751 & \\emph{missing} & 489 & 15 & \\emph{missing} & Johann & Welsdorf & \\emph{missing} & \\emph{missing} & \\emph{missing} & $\\dots$ \\\\\n",
       "\\end{tabular}\n"
      ],
      "text/plain": [
       "\u001b[1m7×48 DataFrame\u001b[0m\n",
       "\u001b[1m Row \u001b[0m│\u001b[1m ID_Domherr \u001b[0m\u001b[1m Eintrag_Quelle \u001b[0m\u001b[1m Seite_Quelle \u001b[0m\u001b[1m Quelle \u001b[0m\u001b[1m Praefix \u001b[0m\u001b[1m Vorname   \u001b[0m\u001b[1m Familienname \u001b[0m\u001b[1m Sterbedatum \u001b[0m\u001b[1m Geburtsdatum \u001b[0m\u001b[1m \u001b[0m ⋯\n",
       "\u001b[1m     \u001b[0m│\u001b[90m Int64      \u001b[0m\u001b[90m String?        \u001b[0m\u001b[90m String?      \u001b[0m\u001b[90m Int64  \u001b[0m\u001b[90m String? \u001b[0m\u001b[90m String?   \u001b[0m\u001b[90m String?      \u001b[0m\u001b[90m String?     \u001b[0m\u001b[90m String?      \u001b[0m\u001b[90m \u001b[0m ⋯\n",
       "─────┼──────────────────────────────────────────────────────────────────────────────────────────────────────────────────\n",
       "   1 │      12735 \u001b[90m missing        \u001b[0m 489               15 \u001b[90m missing \u001b[0m Johann     Perper       \u001b[90m missing     \u001b[0m\u001b[90m missing      \u001b[0m\u001b[90m \u001b[0m ⋯\n",
       "   2 │      12738 \u001b[90m missing        \u001b[0m 489               15 \u001b[90m missing \u001b[0m Christoph  Hugewitz     \u001b[90m missing     \u001b[0m\u001b[90m missing      \u001b[0m\u001b[90m\u001b[0m\n",
       "   3 │      12740 \u001b[90m missing        \u001b[0m 489               15 \u001b[90m missing \u001b[0m Kaspar     Krüger       \u001b[90m missing     \u001b[0m\u001b[90m missing      \u001b[0m\u001b[90m\u001b[0m\n",
       "   4 │      12742 \u001b[90m missing        \u001b[0m 489               15 \u001b[90m missing \u001b[0m Nicolaus   Schmidt      \u001b[90m missing     \u001b[0m\u001b[90m missing      \u001b[0m\u001b[90m\u001b[0m\n",
       "   5 │      12745 \u001b[90m missing        \u001b[0m 489               15 \u001b[90m missing \u001b[0m Martin     Schulze      \u001b[90m missing     \u001b[0m\u001b[90m missing      \u001b[0m\u001b[90m \u001b[0m ⋯\n",
       "   6 │      12751 \u001b[90m missing        \u001b[0m 489               15 \u001b[90m missing \u001b[0m Johann     Welsdorf     \u001b[90m missing     \u001b[0m\u001b[90m missing      \u001b[0m\u001b[90m\u001b[0m\n",
       "   7 │      12751 \u001b[90m missing        \u001b[0m 489               15 \u001b[90m missing \u001b[0m Johann     Welsdorf     \u001b[90m missing     \u001b[0m\u001b[90m missing      \u001b[0m\u001b[90m\u001b[0m\n",
       "\u001b[36m                                                                                                      39 columns omitted\u001b[0m"
      ]
     },
     "execution_count": 450,
     "metadata": {},
     "output_type": "execute_result"
    }
   ],
   "source": [
    "df_exp[151:157, :]"
   ]
  },
  {
   "cell_type": "code",
   "execution_count": 451,
   "metadata": {},
   "outputs": [],
   "source": [
    "transform!(df_exp, :ID_Domherr => ByRow(string) => :id_in_source);"
   ]
  },
  {
   "cell_type": "code",
   "execution_count": 452,
   "metadata": {},
   "outputs": [],
   "source": [
    "df_ins = innerjoin(df_idx, df_exp, on = :id_in_source);"
   ]
  },
  {
   "cell_type": "code",
   "execution_count": 453,
   "metadata": {},
   "outputs": [
    {
     "data": {
      "text/plain": [
       "2167"
      ]
     },
     "execution_count": 453,
     "metadata": {},
     "output_type": "execute_result"
    }
   ],
   "source": [
    "size(df_ins, 1)"
   ]
  },
  {
   "cell_type": "markdown",
   "metadata": {},
   "source": [
    "Spalte `lang` hat den Default-Wert 'de'."
   ]
  },
  {
   "cell_type": "code",
   "execution_count": 454,
   "metadata": {},
   "outputs": [
    {
     "name": "stderr",
     "output_type": "stream",
     "text": [
      "┌ Info: Rows inserted: 2167\n",
      "└ @ WiagDataSetup C:\\Users\\georg\\Documents\\projekte\\WiagDataSetup.jl\\src\\WiagDataSetup.jl:1216\n"
     ]
    },
    {
     "data": {
      "text/plain": [
       "2167"
      ]
     },
     "execution_count": 454,
     "metadata": {},
     "output_type": "execute_result"
    }
   ],
   "source": [
    "table_name = \"familyname_variant\"\n",
    "Wds.filltable!(table_name, select(df_ins, :id => :person_id, :Familienname_Variante => :name))"
   ]
  },
  {
   "cell_type": "code",
   "execution_count": 455,
   "metadata": {},
   "outputs": [],
   "source": [
    "df_gnv = dropmissing(df_cn, :Vorname_Variante);"
   ]
  },
  {
   "cell_type": "code",
   "execution_count": 456,
   "metadata": {},
   "outputs": [
    {
     "data": {
      "text/plain": [
       "1138"
      ]
     },
     "execution_count": 456,
     "metadata": {},
     "output_type": "execute_result"
    }
   ],
   "source": [
    "size(df_gnv, 1)"
   ]
  },
  {
   "cell_type": "code",
   "execution_count": 457,
   "metadata": {},
   "outputs": [
    {
     "data": {
      "text/html": [
       "<div class=\"data-frame\"><p>7 rows × 48 columns (omitted printing of 40 columns)</p><table class=\"data-frame\"><thead><tr><th></th><th>ID_Domherr</th><th>Eintrag_Quelle</th><th>Seite_Quelle</th><th>Quelle</th><th>Praefix</th><th>Vorname</th><th>Familienname</th><th>Sterbedatum</th></tr><tr><th></th><th title=\"Int64\">Int64</th><th title=\"Union{Missing, String}\">String?</th><th title=\"Union{Missing, String}\">String?</th><th title=\"Int64\">Int64</th><th title=\"Union{Missing, String}\">String?</th><th title=\"Union{Missing, String}\">String?</th><th title=\"Union{Missing, String}\">String?</th><th title=\"Union{Missing, String}\">String?</th></tr></thead><tbody><tr><th>1</th><td>15128</td><td><em>missing</em></td><td>75, 197</td><td>6</td><td>von</td><td>Karl Dietrich Joseph</td><td>Guttenberg</td><td>1794</td></tr><tr><th>2</th><td>15176</td><td><em>missing</em></td><td>76</td><td>6</td><td>von</td><td>Karl Dietrich</td><td>Schaumberg</td><td><em>missing</em></td></tr><tr><th>3</th><td>15187</td><td><em>missing</em></td><td>76, 131, 185, 197</td><td>6</td><td>von</td><td>Georg Karl Franz</td><td>Fechenbach</td><td>1808</td></tr><tr><th>4</th><td>15296</td><td><em>missing</em></td><td>99</td><td>6</td><td>von</td><td>Wilhelm Kaspar</td><td>Schorlemmer</td><td><em>missing</em></td></tr><tr><th>5</th><td>15332</td><td><em>missing</em></td><td>99</td><td>6</td><td>von</td><td>Maximilian Heinrich</td><td>Weichs-Roesberg</td><td>1723</td></tr><tr><th>6</th><td>15380</td><td><em>missing</em></td><td>100, 137, 201</td><td>6</td><td>von</td><td>Johann Matthias Friedrich</td><td>Westerholt</td><td>1729</td></tr><tr><th>7</th><td>15399</td><td><em>missing</em></td><td>100, 149, 201</td><td>6</td><td>von</td><td>Gottfried Konrad Gaudenz</td><td>Bocholtz</td><td>1753</td></tr></tbody></table></div>"
      ],
      "text/latex": [
       "\\begin{tabular}{r|ccccccccc}\n",
       "\t& ID\\_Domherr & Eintrag\\_Quelle & Seite\\_Quelle & Quelle & Praefix & Vorname & Familienname & Sterbedatum & \\\\\n",
       "\t\\hline\n",
       "\t& Int64 & String? & String? & Int64 & String? & String? & String? & String? & \\\\\n",
       "\t\\hline\n",
       "\t1 & 15128 & \\emph{missing} & 75, 197 & 6 & von & Karl Dietrich Joseph & Guttenberg & 1794 & $\\dots$ \\\\\n",
       "\t2 & 15176 & \\emph{missing} & 76 & 6 & von & Karl Dietrich & Schaumberg & \\emph{missing} & $\\dots$ \\\\\n",
       "\t3 & 15187 & \\emph{missing} & 76, 131, 185, 197 & 6 & von & Georg Karl Franz & Fechenbach & 1808 & $\\dots$ \\\\\n",
       "\t4 & 15296 & \\emph{missing} & 99 & 6 & von & Wilhelm Kaspar & Schorlemmer & \\emph{missing} & $\\dots$ \\\\\n",
       "\t5 & 15332 & \\emph{missing} & 99 & 6 & von & Maximilian Heinrich & Weichs-Roesberg & 1723 & $\\dots$ \\\\\n",
       "\t6 & 15380 & \\emph{missing} & 100, 137, 201 & 6 & von & Johann Matthias Friedrich & Westerholt & 1729 & $\\dots$ \\\\\n",
       "\t7 & 15399 & \\emph{missing} & 100, 149, 201 & 6 & von & Gottfried Konrad Gaudenz & Bocholtz & 1753 & $\\dots$ \\\\\n",
       "\\end{tabular}\n"
      ],
      "text/plain": [
       "\u001b[1m7×48 DataFrame\u001b[0m\n",
       "\u001b[1m Row \u001b[0m│\u001b[1m ID_Domherr \u001b[0m\u001b[1m Eintrag_Quelle \u001b[0m\u001b[1m Seite_Quelle      \u001b[0m\u001b[1m Quelle \u001b[0m\u001b[1m Praefix \u001b[0m\u001b[1m Vorname                   \u001b[0m\u001b[1m Familienname    \u001b[0m\u001b[1m Ste\u001b[0m ⋯\n",
       "\u001b[1m     \u001b[0m│\u001b[90m Int64      \u001b[0m\u001b[90m String?        \u001b[0m\u001b[90m String?           \u001b[0m\u001b[90m Int64  \u001b[0m\u001b[90m String? \u001b[0m\u001b[90m String?                   \u001b[0m\u001b[90m String?         \u001b[0m\u001b[90m Str\u001b[0m ⋯\n",
       "─────┼──────────────────────────────────────────────────────────────────────────────────────────────────────────────────\n",
       "   1 │      15128 \u001b[90m missing        \u001b[0m 75, 197                 6  von      Karl Dietrich Joseph       Guttenberg       179 ⋯\n",
       "   2 │      15176 \u001b[90m missing        \u001b[0m 76                      6  von      Karl Dietrich              Schaumberg      \u001b[90m mis\u001b[0m\n",
       "   3 │      15187 \u001b[90m missing        \u001b[0m 76, 131, 185, 197       6  von      Georg Karl Franz           Fechenbach       180\n",
       "   4 │      15296 \u001b[90m missing        \u001b[0m 99                      6  von      Wilhelm Kaspar             Schorlemmer     \u001b[90m mis\u001b[0m\n",
       "   5 │      15332 \u001b[90m missing        \u001b[0m 99                      6  von      Maximilian Heinrich        Weichs-Roesberg  172 ⋯\n",
       "   6 │      15380 \u001b[90m missing        \u001b[0m 100, 137, 201           6  von      Johann Matthias Friedrich  Westerholt       172\n",
       "   7 │      15399 \u001b[90m missing        \u001b[0m 100, 149, 201           6  von      Gottfried Konrad Gaudenz   Bocholtz         175\n",
       "\u001b[36m                                                                                                      41 columns omitted\u001b[0m"
      ]
     },
     "execution_count": 457,
     "metadata": {},
     "output_type": "execute_result"
    }
   ],
   "source": [
    "df_gnv[201:207, :]"
   ]
  },
  {
   "cell_type": "code",
   "execution_count": 458,
   "metadata": {},
   "outputs": [],
   "source": [
    "df_exp = Wds.expand_column(df_gnv, :Vorname_Variante, delim = r\", *\");"
   ]
  },
  {
   "cell_type": "code",
   "execution_count": 459,
   "metadata": {},
   "outputs": [
    {
     "data": {
      "text/plain": [
       "1319"
      ]
     },
     "execution_count": 459,
     "metadata": {},
     "output_type": "execute_result"
    }
   ],
   "source": [
    "size(df_exp, 1)"
   ]
  },
  {
   "cell_type": "code",
   "execution_count": 460,
   "metadata": {},
   "outputs": [
    {
     "data": {
      "text/html": [
       "<div class=\"data-frame\"><p>7 rows × 48 columns (omitted printing of 38 columns)</p><table class=\"data-frame\"><thead><tr><th></th><th>ID_Domherr</th><th>Eintrag_Quelle</th><th>Seite_Quelle</th><th>Quelle</th><th>Praefix</th><th>Vorname</th><th>Familienname</th><th>Sterbedatum</th><th>Geburtsdatum</th><th>Orden</th></tr><tr><th></th><th title=\"Int64\">Int64</th><th title=\"Union{Missing, String}\">String?</th><th title=\"Union{Missing, String}\">String?</th><th title=\"Int64\">Int64</th><th title=\"Union{Missing, String}\">String?</th><th title=\"Union{Missing, String}\">String?</th><th title=\"Union{Missing, String}\">String?</th><th title=\"Union{Missing, String}\">String?</th><th title=\"Union{Missing, String}\">String?</th><th title=\"Union{Missing, String}\">String?</th></tr></thead><tbody><tr><th>1</th><td>13185</td><td><em>missing</em></td><td>436</td><td>24</td><td>von</td><td>Albrecht</td><td>Sachsen</td><td>1342</td><td><em>missing</em></td><td><em>missing</em></td></tr><tr><th>2</th><td>13191</td><td><em>missing</em></td><td>373</td><td>24</td><td>von</td><td>Johann</td><td>Göttingen</td><td>1349</td><td><em>missing</em></td><td><em>missing</em></td></tr><tr><th>3</th><td>13194</td><td><em>missing</em></td><td>399</td><td>24</td><td><em>missing</em></td><td>Johann</td><td>Colonna</td><td>1348</td><td><em>missing</em></td><td><em>missing</em></td></tr><tr><th>4</th><td>13239</td><td><em>missing</em></td><td>361</td><td>24</td><td><em>missing</em></td><td>Johann</td><td>Schenk von Erbach</td><td>1383</td><td>1309</td><td><em>missing</em></td></tr><tr><th>5</th><td>13248</td><td><em>missing</em></td><td>463 f.</td><td>24</td><td>von</td><td>Gerhard</td><td>Vivario</td><td>vor 1364</td><td><em>missing</em></td><td><em>missing</em></td></tr><tr><th>6</th><td>13252</td><td><em>missing</em></td><td>391</td><td>24</td><td>de</td><td>Raimund</td><td>Canilhac</td><td>1373</td><td><em>missing</em></td><td><em>missing</em></td></tr><tr><th>7</th><td>13266</td><td><em>missing</em></td><td>457</td><td>24</td><td>von</td><td>Ulrich</td><td>Stein-Steinkallenfels</td><td><em>missing</em></td><td><em>missing</em></td><td><em>missing</em></td></tr></tbody></table></div>"
      ],
      "text/latex": [
       "\\begin{tabular}{r|ccccccccccc}\n",
       "\t& ID\\_Domherr & Eintrag\\_Quelle & Seite\\_Quelle & Quelle & Praefix & Vorname & Familienname & Sterbedatum & Geburtsdatum & Orden & \\\\\n",
       "\t\\hline\n",
       "\t& Int64 & String? & String? & Int64 & String? & String? & String? & String? & String? & String? & \\\\\n",
       "\t\\hline\n",
       "\t1 & 13185 & \\emph{missing} & 436 & 24 & von & Albrecht & Sachsen & 1342 & \\emph{missing} & \\emph{missing} & $\\dots$ \\\\\n",
       "\t2 & 13191 & \\emph{missing} & 373 & 24 & von & Johann & Göttingen & 1349 & \\emph{missing} & \\emph{missing} & $\\dots$ \\\\\n",
       "\t3 & 13194 & \\emph{missing} & 399 & 24 & \\emph{missing} & Johann & Colonna & 1348 & \\emph{missing} & \\emph{missing} & $\\dots$ \\\\\n",
       "\t4 & 13239 & \\emph{missing} & 361 & 24 & \\emph{missing} & Johann & Schenk von Erbach & 1383 & 1309 & \\emph{missing} & $\\dots$ \\\\\n",
       "\t5 & 13248 & \\emph{missing} & 463 f. & 24 & von & Gerhard & Vivario & vor 1364 & \\emph{missing} & \\emph{missing} & $\\dots$ \\\\\n",
       "\t6 & 13252 & \\emph{missing} & 391 & 24 & de & Raimund & Canilhac & 1373 & \\emph{missing} & \\emph{missing} & $\\dots$ \\\\\n",
       "\t7 & 13266 & \\emph{missing} & 457 & 24 & von & Ulrich & Stein-Steinkallenfels & \\emph{missing} & \\emph{missing} & \\emph{missing} & $\\dots$ \\\\\n",
       "\\end{tabular}\n"
      ],
      "text/plain": [
       "\u001b[1m7×48 DataFrame\u001b[0m\n",
       "\u001b[1m Row \u001b[0m│\u001b[1m ID_Domherr \u001b[0m\u001b[1m Eintrag_Quelle \u001b[0m\u001b[1m Seite_Quelle \u001b[0m\u001b[1m Quelle \u001b[0m\u001b[1m Praefix \u001b[0m\u001b[1m Vorname  \u001b[0m\u001b[1m Familienname          \u001b[0m\u001b[1m Sterbedatum \u001b[0m\u001b[1m Geburt\u001b[0m ⋯\n",
       "\u001b[1m     \u001b[0m│\u001b[90m Int64      \u001b[0m\u001b[90m String?        \u001b[0m\u001b[90m String?      \u001b[0m\u001b[90m Int64  \u001b[0m\u001b[90m String? \u001b[0m\u001b[90m String?  \u001b[0m\u001b[90m String?               \u001b[0m\u001b[90m String?     \u001b[0m\u001b[90m String\u001b[0m ⋯\n",
       "─────┼──────────────────────────────────────────────────────────────────────────────────────────────────────────────────\n",
       "   1 │      13185 \u001b[90m missing        \u001b[0m 436               24  von      Albrecht  Sachsen                1342        \u001b[90m missin\u001b[0m ⋯\n",
       "   2 │      13191 \u001b[90m missing        \u001b[0m 373               24  von      Johann    Göttingen              1349        \u001b[90m missin\u001b[0m\n",
       "   3 │      13194 \u001b[90m missing        \u001b[0m 399               24 \u001b[90m missing \u001b[0m Johann    Colonna                1348        \u001b[90m missin\u001b[0m\n",
       "   4 │      13239 \u001b[90m missing        \u001b[0m 361               24 \u001b[90m missing \u001b[0m Johann    Schenk von Erbach      1383         1309\n",
       "   5 │      13248 \u001b[90m missing        \u001b[0m 463 f.            24  von      Gerhard   Vivario                vor 1364    \u001b[90m missin\u001b[0m ⋯\n",
       "   6 │      13252 \u001b[90m missing        \u001b[0m 391               24  de       Raimund   Canilhac               1373        \u001b[90m missin\u001b[0m\n",
       "   7 │      13266 \u001b[90m missing        \u001b[0m 457               24  von      Ulrich    Stein-Steinkallenfels \u001b[90m missing     \u001b[0m\u001b[90m missin\u001b[0m\n",
       "\u001b[36m                                                                                                      40 columns omitted\u001b[0m"
      ]
     },
     "execution_count": 460,
     "metadata": {},
     "output_type": "execute_result"
    }
   ],
   "source": [
    "df_exp[151:157, :]"
   ]
  },
  {
   "cell_type": "code",
   "execution_count": 461,
   "metadata": {},
   "outputs": [],
   "source": [
    "transform!(df_exp, :ID_Domherr => ByRow(string) => :id_in_source);"
   ]
  },
  {
   "cell_type": "code",
   "execution_count": 462,
   "metadata": {},
   "outputs": [],
   "source": [
    "df_ins = innerjoin(df_idx, df_exp, on = :id_in_source);"
   ]
  },
  {
   "cell_type": "code",
   "execution_count": 463,
   "metadata": {},
   "outputs": [
    {
     "data": {
      "text/plain": [
       "1319"
      ]
     },
     "execution_count": 463,
     "metadata": {},
     "output_type": "execute_result"
    }
   ],
   "source": [
    "size(df_ins, 1)"
   ]
  },
  {
   "cell_type": "markdown",
   "metadata": {},
   "source": [
    "Spalte `lang` hat den Default-Wert 'de'."
   ]
  },
  {
   "cell_type": "code",
   "execution_count": 464,
   "metadata": {},
   "outputs": [
    {
     "name": "stderr",
     "output_type": "stream",
     "text": [
      "┌ Info: Rows inserted: 1319\n",
      "└ @ WiagDataSetup C:\\Users\\georg\\Documents\\projekte\\WiagDataSetup.jl\\src\\WiagDataSetup.jl:1216\n"
     ]
    },
    {
     "data": {
      "text/plain": [
       "1319"
      ]
     },
     "execution_count": 464,
     "metadata": {},
     "output_type": "execute_result"
    }
   ],
   "source": [
    "table_dst = \"givenname_variant\"\n",
    "Wds.filltable!(table_dst, select(df_ins, :id => :person_id, :Vorname_Variante => :name))"
   ]
  },
  {
   "cell_type": "markdown",
   "metadata": {},
   "source": [
    "### Suchvarianten eintragen (name_lookup)"
   ]
  },
  {
   "cell_type": "markdown",
   "metadata": {},
   "source": [
    "Test"
   ]
  },
  {
   "cell_type": "code",
   "execution_count": 365,
   "metadata": {
    "scrolled": true
   },
   "outputs": [
    {
     "data": {
      "text/plain": [
       "6-element Vector{Vector{Union{Missing, String}}}:\n",
       " [\"Klaus Walter\", \"von der\", \"Vogelweide\", \"Klaus Walter Vogelweide\", \"Klaus Walter von der Vogelweide\"]\n",
       " [\"Klaus\", \"von der\", \"Vogelweide\", \"Klaus Vogelweide\", \"Klaus von der Vogelweide\"]\n",
       " [\"Klaus Walter\", \"von der\", \"Vollmer\", \"Klaus Walter Vollmer\", \"Klaus Walter von der Vollmer\"]\n",
       " [\"Klaus\", \"von der\", \"Vollmer\", \"Klaus Vollmer\", \"Klaus von der Vollmer\"]\n",
       " [\"Klaus Walter\", \"von der\", \"Liber\", \"Klaus Walter Liber\", \"Klaus Walter von der Liber\"]\n",
       " [\"Klaus\", \"von der\", \"Liber\", \"Klaus Liber\", \"Klaus von der Liber\"]"
      ]
     },
     "execution_count": 365,
     "metadata": {},
     "output_type": "execute_result"
    }
   ],
   "source": [
    "Wds.makevariantsgn(\"Klaus Walter\", \"von der\", \"Vogelweide\", \"Vollmer, Liber\")"
   ]
  },
  {
   "cell_type": "code",
   "execution_count": 366,
   "metadata": {},
   "outputs": [
    {
     "data": {
      "text/html": [
       "<div class=\"data-frame\"><p>7 rows × 6 columns</p><table class=\"data-frame\"><thead><tr><th></th><th>id</th><th>givenname</th><th>prefix_name</th><th>familyname</th><th>givenname_variant</th><th>familyname_variant</th></tr><tr><th></th><th title=\"Int64\">Int64</th><th title=\"String\">String</th><th title=\"Union{Missing, String}\">String?</th><th title=\"Union{Missing, String}\">String?</th><th title=\"Union{Missing, String}\">String?</th><th title=\"Union{Missing, String}\">String?</th></tr></thead><tbody><tr><th>1</th><td>1077</td><td>Dietricus</td><td><em>missing</em></td><td><em>missing</em></td><td><em>missing</em></td><td><em>missing</em></td></tr><tr><th>2</th><td>31</td><td>Albert</td><td>von</td><td>Häusler</td><td><em>missing</em></td><td>Hauser, Schad</td></tr><tr><th>3</th><td>32</td><td>Hans Otto</td><td>zu</td><td>Oberhof</td><td>Johann Otto</td><td><em>missing</em></td></tr><tr><th>4</th><td>33</td><td>Wilhelm</td><td>von</td><td>Berg</td><td>Guido, Guillaume</td><td>Berge</td></tr><tr><th>5</th><td>34</td><td>Kurt Georg</td><td><em>missing</em></td><td><em>missing</em></td><td>Konrad</td><td><em>missing</em></td></tr><tr><th>6</th><td>35</td><td>Otto</td><td>auf der</td><td>Scholle</td><td><em>missing</em></td><td><em>missing</em></td></tr><tr><th>7</th><td>36</td><td>Otto</td><td><em>missing</em></td><td>Weiß</td><td>Odilon</td><td>Blanc</td></tr></tbody></table></div>"
      ],
      "text/latex": [
       "\\begin{tabular}{r|cccccc}\n",
       "\t& id & givenname & prefix\\_name & familyname & givenname\\_variant & familyname\\_variant\\\\\n",
       "\t\\hline\n",
       "\t& Int64 & String & String? & String? & String? & String?\\\\\n",
       "\t\\hline\n",
       "\t1 & 1077 & Dietricus & \\emph{missing} & \\emph{missing} & \\emph{missing} & \\emph{missing} \\\\\n",
       "\t2 & 31 & Albert & von & Häusler & \\emph{missing} & Hauser, Schad \\\\\n",
       "\t3 & 32 & Hans Otto & zu & Oberhof & Johann Otto & \\emph{missing} \\\\\n",
       "\t4 & 33 & Wilhelm & von & Berg & Guido, Guillaume & Berge \\\\\n",
       "\t5 & 34 & Kurt Georg & \\emph{missing} & \\emph{missing} & Konrad & \\emph{missing} \\\\\n",
       "\t6 & 35 & Otto & auf der & Scholle & \\emph{missing} & \\emph{missing} \\\\\n",
       "\t7 & 36 & Otto & \\emph{missing} & Weiß & Odilon & Blanc \\\\\n",
       "\\end{tabular}\n"
      ],
      "text/plain": [
       "\u001b[1m7×6 DataFrame\u001b[0m\n",
       "\u001b[1m Row \u001b[0m│\u001b[1m id    \u001b[0m\u001b[1m givenname  \u001b[0m\u001b[1m prefix_name \u001b[0m\u001b[1m familyname \u001b[0m\u001b[1m givenname_variant \u001b[0m\u001b[1m familyname_variant \u001b[0m\n",
       "\u001b[1m     \u001b[0m│\u001b[90m Int64 \u001b[0m\u001b[90m String     \u001b[0m\u001b[90m String?     \u001b[0m\u001b[90m String?    \u001b[0m\u001b[90m String?           \u001b[0m\u001b[90m String?            \u001b[0m\n",
       "─────┼───────────────────────────────────────────────────────────────────────────────────\n",
       "   1 │  1077  Dietricus  \u001b[90m missing     \u001b[0m\u001b[90m missing    \u001b[0m\u001b[90m missing           \u001b[0m\u001b[90m missing            \u001b[0m\n",
       "   2 │    31  Albert      von          Häusler    \u001b[90m missing           \u001b[0m Hauser, Schad\n",
       "   3 │    32  Hans Otto   zu           Oberhof     Johann Otto       \u001b[90m missing            \u001b[0m\n",
       "   4 │    33  Wilhelm     von          Berg        Guido, Guillaume   Berge\n",
       "   5 │    34  Kurt Georg \u001b[90m missing     \u001b[0m\u001b[90m missing    \u001b[0m Konrad            \u001b[90m missing            \u001b[0m\n",
       "   6 │    35  Otto        auf der      Scholle    \u001b[90m missing           \u001b[0m\u001b[90m missing            \u001b[0m\n",
       "   7 │    36  Otto       \u001b[90m missing     \u001b[0m Weiß        Odilon             Blanc"
      ]
     },
     "execution_count": 366,
     "metadata": {},
     "output_type": "execute_result"
    }
   ],
   "source": [
    "df_src = DataFrame(\n",
    "    id = [1077, 31, 32, 33, 34, 35, 36],\n",
    "    givenname = [\"Dietricus\", \"Albert\", \"Hans Otto\", \"Wilhelm\", \"Kurt Georg\", \"Otto\", \"Otto\"],\n",
    "    prefix_name = [missing, \"von\", \"zu\", \"von\", missing, \"auf der\", missing],\n",
    "    familyname = [missing, \"Häusler\", \"Oberhof\", \"Berg\", missing, \"Scholle\", \"Weiß\"],\n",
    "    givenname_variant = [missing, missing, \"Johann Otto\", \"Guido, Guillaume\", \"Konrad\", missing, \"Odilon\"],\n",
    "    familyname_variant = [missing, \"Hauser, Schad\", missing, \"Berge\", missing, missing, \"Blanc\"]\n",
    "    )"
   ]
  },
  {
   "cell_type": "code",
   "execution_count": 234,
   "metadata": {
    "scrolled": true
   },
   "outputs": [
    {
     "ename": "LoadError",
     "evalue": "UndefVarError: df_src not defined",
     "output_type": "error",
     "traceback": [
      "UndefVarError: df_src not defined",
      "",
      "Stacktrace:",
      " [1] top-level scope",
      "   @ In[234]:1",
      " [2] eval",
      "   @ .\\boot.jl:373 [inlined]",
      " [3] include_string(mapexpr::typeof(REPL.softscope), mod::Module, code::String, filename::String)",
      "   @ Base .\\loading.jl:1196"
     ]
    }
   ],
   "source": [
    "df_nl = Wds.create_name_lookup(df_src) # schaut gut aus"
   ]
  },
  {
   "cell_type": "markdown",
   "metadata": {},
   "source": [
    "ID auslesen"
   ]
  },
  {
   "cell_type": "code",
   "execution_count": 465,
   "metadata": {},
   "outputs": [],
   "source": [
    "table_name = \"item\"\n",
    "sql = \"SELECT id, id_in_source FROM $(table_name) where item_type_id = ($item_type_id)\"\n",
    "df_idx = Wds.sql_df(sql);"
   ]
  },
  {
   "cell_type": "code",
   "execution_count": 466,
   "metadata": {},
   "outputs": [],
   "source": [
    "filename = joinpath(data_path, \"tbl_domherren.csv\")\n",
    "df_src = CSV.read(filename, DataFrame);"
   ]
  },
  {
   "cell_type": "code",
   "execution_count": 467,
   "metadata": {},
   "outputs": [],
   "source": [
    "Wds.clean_up!(df_src);"
   ]
  },
  {
   "cell_type": "code",
   "execution_count": 468,
   "metadata": {},
   "outputs": [
    {
     "data": {
      "text/plain": [
       "6-element Vector{Pair{Symbol, Symbol}}:\n",
       "            :ID_Domherr => :ID_Domherr\n",
       "               :Vorname => :givenname\n",
       "               :Praefix => :prefix_name\n",
       "          :Familienname => :familyname\n",
       "      :Vorname_Variante => :givenname_variant\n",
       " :Familienname_Variante => :familyname_variant"
      ]
     },
     "execution_count": 468,
     "metadata": {},
     "output_type": "execute_result"
    }
   ],
   "source": [
    "columns = [\n",
    "    :ID_Domherr => :ID_Domherr,\n",
    "    :Vorname => :givenname,\n",
    "    :Praefix => :prefix_name,\n",
    "    :Familienname => :familyname,\n",
    "    :Vorname_Variante => :givenname_variant,\n",
    "    :Familienname_Variante => :familyname_variant\n",
    "]"
   ]
  },
  {
   "cell_type": "code",
   "execution_count": 469,
   "metadata": {},
   "outputs": [],
   "source": [
    "select!(df_src, columns);"
   ]
  },
  {
   "cell_type": "code",
   "execution_count": null,
   "metadata": {},
   "outputs": [],
   "source": [
    "# Alternativ: Daten aus der Datenbank auslesen, wenn sie sich von Access aus dahin exportieren lassen.\n",
    "table_src = \"domherr.tbl_domherren\"\n",
    "sql = \"SELECT ID_Domherr, \" *\n",
    "\"Vorname AS givenname, \" *\n",
    "\"Praefix AS prefix_name, \" *\n",
    "\"Familienname AS familyname,\" * \n",
    "\"Vorname_Variante AS givenname_variant, \" * \n",
    "\"Familienname_Variante AS familyname_variant \" *\n",
    "\"FROM $(table_src)\"\n",
    "df_src = Wds.sql_df(sql);"
   ]
  },
  {
   "cell_type": "code",
   "execution_count": 470,
   "metadata": {},
   "outputs": [],
   "source": [
    "Wds.clean_up!(df_src)"
   ]
  },
  {
   "cell_type": "code",
   "execution_count": 471,
   "metadata": {},
   "outputs": [
    {
     "data": {
      "text/plain": [
       "one_not_missing (generic function with 1 method)"
      ]
     },
     "execution_count": 471,
     "metadata": {},
     "output_type": "execute_result"
    }
   ],
   "source": [
    "one_not_missing(x, y) = !(ismissing(x) && ismissing(y))"
   ]
  },
  {
   "cell_type": "code",
   "execution_count": 472,
   "metadata": {},
   "outputs": [],
   "source": [
    "filter!([:givenname, :familyname] => one_not_missing, df_src);"
   ]
  },
  {
   "cell_type": "code",
   "execution_count": 473,
   "metadata": {},
   "outputs": [],
   "source": [
    "transform!(df_src, :ID_Domherr => ByRow(string) => :id_in_source);"
   ]
  },
  {
   "cell_type": "code",
   "execution_count": 474,
   "metadata": {},
   "outputs": [
    {
     "data": {
      "text/plain": [
       "(26023, 7)"
      ]
     },
     "execution_count": 474,
     "metadata": {},
     "output_type": "execute_result"
    }
   ],
   "source": [
    "size(df_src)"
   ]
  },
  {
   "cell_type": "code",
   "execution_count": 475,
   "metadata": {},
   "outputs": [
    {
     "data": {
      "text/plain": [
       "7-element Vector{String}:\n",
       " \"ID_Domherr\"\n",
       " \"givenname\"\n",
       " \"prefix_name\"\n",
       " \"familyname\"\n",
       " \"givenname_variant\"\n",
       " \"familyname_variant\"\n",
       " \"id_in_source\""
      ]
     },
     "execution_count": 475,
     "metadata": {},
     "output_type": "execute_result"
    }
   ],
   "source": [
    "names(df_src)"
   ]
  },
  {
   "cell_type": "code",
   "execution_count": 476,
   "metadata": {},
   "outputs": [
    {
     "data": {
      "text/html": [
       "<div class=\"data-frame\"><p>5 rows × 2 columns</p><table class=\"data-frame\"><thead><tr><th></th><th>id</th><th>id_in_source</th></tr><tr><th></th><th title=\"Int32\">Int32</th><th title=\"Union{Missing, String}\">String?</th></tr></thead><tbody><tr><th>1</th><td>443945</td><td>10109</td></tr><tr><th>2</th><td>443946</td><td>10108</td></tr><tr><th>3</th><td>443947</td><td>10107</td></tr><tr><th>4</th><td>443948</td><td>10106</td></tr><tr><th>5</th><td>443949</td><td>10105</td></tr></tbody></table></div>"
      ],
      "text/latex": [
       "\\begin{tabular}{r|cc}\n",
       "\t& id & id\\_in\\_source\\\\\n",
       "\t\\hline\n",
       "\t& Int32 & String?\\\\\n",
       "\t\\hline\n",
       "\t1 & 443945 & 10109 \\\\\n",
       "\t2 & 443946 & 10108 \\\\\n",
       "\t3 & 443947 & 10107 \\\\\n",
       "\t4 & 443948 & 10106 \\\\\n",
       "\t5 & 443949 & 10105 \\\\\n",
       "\\end{tabular}\n"
      ],
      "text/plain": [
       "\u001b[1m5×2 DataFrame\u001b[0m\n",
       "\u001b[1m Row \u001b[0m│\u001b[1m id     \u001b[0m\u001b[1m id_in_source \u001b[0m\n",
       "\u001b[1m     \u001b[0m│\u001b[90m Int32  \u001b[0m\u001b[90m String?      \u001b[0m\n",
       "─────┼──────────────────────\n",
       "   1 │ 443945  10109\n",
       "   2 │ 443946  10108\n",
       "   3 │ 443947  10107\n",
       "   4 │ 443948  10106\n",
       "   5 │ 443949  10105"
      ]
     },
     "execution_count": 476,
     "metadata": {},
     "output_type": "execute_result"
    }
   ],
   "source": [
    "df_idx[101:105, :]"
   ]
  },
  {
   "cell_type": "code",
   "execution_count": 477,
   "metadata": {},
   "outputs": [],
   "source": [
    "df_nl_in = innerjoin(df_idx, df_src, on = :id_in_source);"
   ]
  },
  {
   "cell_type": "code",
   "execution_count": 478,
   "metadata": {},
   "outputs": [
    {
     "data": {
      "text/plain": [
       "(26023, 8)"
      ]
     },
     "execution_count": 478,
     "metadata": {},
     "output_type": "execute_result"
    }
   ],
   "source": [
    "size(df_nl_in)"
   ]
  },
  {
   "cell_type": "code",
   "execution_count": 479,
   "metadata": {},
   "outputs": [],
   "source": [
    "df_nl = Wds.create_name_lookup(df_nl_in);"
   ]
  },
  {
   "cell_type": "code",
   "execution_count": 480,
   "metadata": {},
   "outputs": [
    {
     "data": {
      "text/plain": [
       "(37700, 3)"
      ]
     },
     "execution_count": 480,
     "metadata": {},
     "output_type": "execute_result"
    }
   ],
   "source": [
    "size(df_nl)"
   ]
  },
  {
   "cell_type": "code",
   "execution_count": 481,
   "metadata": {},
   "outputs": [],
   "source": [
    "df_nl_empty = filter(:gn_fn => ismissing, df_nl);"
   ]
  },
  {
   "cell_type": "code",
   "execution_count": 482,
   "metadata": {},
   "outputs": [
    {
     "data": {
      "text/plain": [
       "(0, 3)"
      ]
     },
     "execution_count": 482,
     "metadata": {},
     "output_type": "execute_result"
    }
   ],
   "source": [
    "size(df_nl_empty)"
   ]
  },
  {
   "cell_type": "code",
   "execution_count": 483,
   "metadata": {},
   "outputs": [
    {
     "data": {
      "text/html": [
       "<div class=\"data-frame\"><p>12 rows × 3 columns</p><table class=\"data-frame\"><thead><tr><th></th><th>person_id</th><th>gn_fn</th><th>gn_prefix_fn</th></tr><tr><th></th><th title=\"Int64\">Int64</th><th title=\"Union{Missing, String}\">String?</th><th title=\"Union{Missing, String}\">String?</th></tr></thead><tbody><tr><th>1</th><td>444877</td><td>Franz Adam Anton Weichs-Sarstedt</td><td>Franz Adam Anton von Weichs-Sarstedt</td></tr><tr><th>2</th><td>444877</td><td>Franz Weichs-Sarstedt</td><td>Franz von Weichs-Sarstedt</td></tr><tr><th>3</th><td>444878</td><td>Engelbert August Weichs-Sarstedt</td><td>Engelbert August von Weichs-Sarstedt</td></tr><tr><th>4</th><td>444878</td><td>Engelbert Weichs-Sarstedt</td><td>Engelbert von Weichs-Sarstedt</td></tr><tr><th>5</th><td>444878</td><td>Engelbert August Maria Weichs-Sarstedt</td><td>Engelbert August Maria von Weichs-Sarstedt</td></tr><tr><th>6</th><td>444878</td><td>Engelbert Weichs-Sarstedt</td><td>Engelbert von Weichs-Sarstedt</td></tr><tr><th>7</th><td>444879</td><td>Maximilian Heinrich Weichs-Roesberg</td><td>Maximilian Heinrich von Weichs-Roesberg</td></tr><tr><th>8</th><td>444879</td><td>Maximilian Weichs-Roesberg</td><td>Maximilian von Weichs-Roesberg</td></tr><tr><th>9</th><td>444880</td><td>Maximilian Heinrich Joseph Weichs-Roesberg</td><td>Maximilian Heinrich Joseph von Weichs-Roesberg</td></tr><tr><th>10</th><td>444880</td><td>Maximilian Weichs-Roesberg</td><td>Maximilian von Weichs-Roesberg</td></tr><tr><th>11</th><td>444880</td><td>Maximilian Heinrich Weichs-Roesberg</td><td>Maximilian Heinrich von Weichs-Roesberg</td></tr><tr><th>12</th><td>444880</td><td>Maximilian Weichs-Roesberg</td><td>Maximilian von Weichs-Roesberg</td></tr></tbody></table></div>"
      ],
      "text/latex": [
       "\\begin{tabular}{r|ccc}\n",
       "\t& person\\_id & gn\\_fn & gn\\_prefix\\_fn\\\\\n",
       "\t\\hline\n",
       "\t& Int64 & String? & String?\\\\\n",
       "\t\\hline\n",
       "\t1 & 444877 & Franz Adam Anton Weichs-Sarstedt & Franz Adam Anton von Weichs-Sarstedt \\\\\n",
       "\t2 & 444877 & Franz Weichs-Sarstedt & Franz von Weichs-Sarstedt \\\\\n",
       "\t3 & 444878 & Engelbert August Weichs-Sarstedt & Engelbert August von Weichs-Sarstedt \\\\\n",
       "\t4 & 444878 & Engelbert Weichs-Sarstedt & Engelbert von Weichs-Sarstedt \\\\\n",
       "\t5 & 444878 & Engelbert August Maria Weichs-Sarstedt & Engelbert August Maria von Weichs-Sarstedt \\\\\n",
       "\t6 & 444878 & Engelbert Weichs-Sarstedt & Engelbert von Weichs-Sarstedt \\\\\n",
       "\t7 & 444879 & Maximilian Heinrich Weichs-Roesberg & Maximilian Heinrich von Weichs-Roesberg \\\\\n",
       "\t8 & 444879 & Maximilian Weichs-Roesberg & Maximilian von Weichs-Roesberg \\\\\n",
       "\t9 & 444880 & Maximilian Heinrich Joseph Weichs-Roesberg & Maximilian Heinrich Joseph von Weichs-Roesberg \\\\\n",
       "\t10 & 444880 & Maximilian Weichs-Roesberg & Maximilian von Weichs-Roesberg \\\\\n",
       "\t11 & 444880 & Maximilian Heinrich Weichs-Roesberg & Maximilian Heinrich von Weichs-Roesberg \\\\\n",
       "\t12 & 444880 & Maximilian Weichs-Roesberg & Maximilian von Weichs-Roesberg \\\\\n",
       "\\end{tabular}\n"
      ],
      "text/plain": [
       "\u001b[1m12×3 DataFrame\u001b[0m\n",
       "\u001b[1m Row \u001b[0m│\u001b[1m person_id \u001b[0m\u001b[1m gn_fn                             \u001b[0m\u001b[1m gn_prefix_fn                      \u001b[0m\n",
       "\u001b[1m     \u001b[0m│\u001b[90m Int64     \u001b[0m\u001b[90m String?                           \u001b[0m\u001b[90m String?                           \u001b[0m\n",
       "─────┼─────────────────────────────────────────────────────────────────────────────────\n",
       "   1 │    444877  Franz Adam Anton Weichs-Sarstedt   Franz Adam Anton von Weichs-Sars…\n",
       "   2 │    444877  Franz Weichs-Sarstedt              Franz von Weichs-Sarstedt\n",
       "   3 │    444878  Engelbert August Weichs-Sarstedt   Engelbert August von Weichs-Sars…\n",
       "   4 │    444878  Engelbert Weichs-Sarstedt          Engelbert von Weichs-Sarstedt\n",
       "   5 │    444878  Engelbert August Maria Weichs-Sa…  Engelbert August Maria von Weich…\n",
       "   6 │    444878  Engelbert Weichs-Sarstedt          Engelbert von Weichs-Sarstedt\n",
       "   7 │    444879  Maximilian Heinrich Weichs-Roesb…  Maximilian Heinrich von Weichs-R…\n",
       "   8 │    444879  Maximilian Weichs-Roesberg         Maximilian von Weichs-Roesberg\n",
       "   9 │    444880  Maximilian Heinrich Joseph Weich…  Maximilian Heinrich Joseph von W…\n",
       "  10 │    444880  Maximilian Weichs-Roesberg         Maximilian von Weichs-Roesberg\n",
       "  11 │    444880  Maximilian Heinrich Weichs-Roesb…  Maximilian Heinrich von Weichs-R…\n",
       "  12 │    444880  Maximilian Weichs-Roesberg         Maximilian von Weichs-Roesberg"
      ]
     },
     "execution_count": 483,
     "metadata": {},
     "output_type": "execute_result"
    }
   ],
   "source": [
    "df_nl[2301:2312, :]"
   ]
  },
  {
   "cell_type": "markdown",
   "metadata": {},
   "source": [
    "Entferne Einträge für diese Art von Items"
   ]
  },
  {
   "cell_type": "code",
   "execution_count": 484,
   "metadata": {},
   "outputs": [
    {
     "data": {
      "text/plain": [
       "MySQL.TextCursor{true}(MySQL.Connection(host=\"127.0.0.1\", user=\"georg\", port=\"3306\", db=\"wiag2\"), \"DELETE FROM name_lookup \\nWHERE person_id IN (SELECT id FROM item WHERE item_type_id = 5)\", 0, -1, 0, MySQL.API.MYSQL_RES(Ptr{Nothing} @0x0000000000000000), Symbol[], Type[], Dict{Symbol, Int64}(), 0, 1, false)"
      ]
     },
     "execution_count": 484,
     "metadata": {},
     "output_type": "execute_result"
    }
   ],
   "source": [
    "table_name = \"name_lookup\"\n",
    "sql = \"DELETE FROM $(table_name) \n",
    "WHERE person_id IN (SELECT id FROM item WHERE item_type_id = $(item_type_id))\";\n",
    "DBInterface.execute(Wds.dbwiag, sql)"
   ]
  },
  {
   "cell_type": "code",
   "execution_count": 485,
   "metadata": {},
   "outputs": [
    {
     "name": "stderr",
     "output_type": "stream",
     "text": [
      "┌ Info: 10000\n",
      "└ @ WiagDataSetup C:\\Users\\georg\\Documents\\projekte\\WiagDataSetup.jl\\src\\WiagDataSetup.jl:1193\n",
      "┌ Info: 20000\n",
      "└ @ WiagDataSetup C:\\Users\\georg\\Documents\\projekte\\WiagDataSetup.jl\\src\\WiagDataSetup.jl:1193\n",
      "┌ Info: 30000\n",
      "└ @ WiagDataSetup C:\\Users\\georg\\Documents\\projekte\\WiagDataSetup.jl\\src\\WiagDataSetup.jl:1193\n",
      "┌ Info: Rows inserted: 37700\n",
      "└ @ WiagDataSetup C:\\Users\\georg\\Documents\\projekte\\WiagDataSetup.jl\\src\\WiagDataSetup.jl:1216\n"
     ]
    },
    {
     "data": {
      "text/plain": [
       "37700"
      ]
     },
     "execution_count": 485,
     "metadata": {},
     "output_type": "execute_result"
    }
   ],
   "source": [
    "table_name = \"name_lookup\"\n",
    "Wds.filltable!(table_name, df_nl)"
   ]
  },
  {
   "cell_type": "markdown",
   "metadata": {},
   "source": [
    "### `canon_lookup_line`\n",
    "*2022-02-07* Obsolet: Siehe Domherren GS: dort werden alle Verweise angelegt."
   ]
  },
  {
   "cell_type": "markdown",
   "metadata": {},
   "source": [
    "Verweise auf sich selbst"
   ]
  },
  {
   "cell_type": "code",
   "execution_count": 195,
   "metadata": {},
   "outputs": [],
   "source": [
    "table_name = \"item\";\n",
    "item_type_dh = 5;\n",
    "sql = \"SELECT id as person_id, id as person_id_canon \n",
    "FROM $(table_name) WHERE item_type_id = $(item_type_dh) AND is_online\";\n",
    "df_item_cn_dh = Wds.sql_df(sql);"
   ]
  },
  {
   "cell_type": "code",
   "execution_count": 196,
   "metadata": {},
   "outputs": [
    {
     "data": {
      "text/plain": [
       "(2587, 2)"
      ]
     },
     "execution_count": 196,
     "metadata": {},
     "output_type": "execute_result"
    }
   ],
   "source": [
    "size(df_item_cn_dh)"
   ]
  },
  {
   "cell_type": "code",
   "execution_count": 197,
   "metadata": {},
   "outputs": [
    {
     "name": "stderr",
     "output_type": "stream",
     "text": [
      "┌ Info: Rows inserted: 2587\n",
      "└ @ WiagDataSetup C:\\Users\\georg\\Documents\\projekte\\WiagDataSetup.jl\\src\\WiagDataSetup.jl:1208\n"
     ]
    }
   ],
   "source": [
    "table_name = \"canon_lookup\";\n",
    "Wds.filltable!(table_name, df_item_cn_dh);"
   ]
  },
  {
   "cell_type": "markdown",
   "metadata": {},
   "source": [
    "Verweise auf Bischöfe"
   ]
  },
  {
   "cell_type": "code",
   "execution_count": 208,
   "metadata": {},
   "outputs": [],
   "source": [
    "sql = \"SELECT p.id as person_id, givenname, familyname, e.value AS id_external, i.item_type_id\n",
    "FROM person AS p\n",
    "JOIN item AS i ON p.id = i.id\n",
    "JOIN id_external AS e ON i.id = e.item_id\n",
    "JOIN authority AS a ON e.authority_id = a.id\n",
    "WHERE a.id = 5\n",
    "AND i.is_online\";\n",
    "df_cn_episc = Wds.sql_df(sql);"
   ]
  },
  {
   "cell_type": "code",
   "execution_count": 209,
   "metadata": {},
   "outputs": [
    {
     "data": {
      "text/plain": [
       "(164, 5)"
      ]
     },
     "execution_count": 209,
     "metadata": {},
     "output_type": "execute_result"
    }
   ],
   "source": [
    "size(df_cn_episc)"
   ]
  },
  {
   "cell_type": "code",
   "execution_count": 210,
   "metadata": {},
   "outputs": [
    {
     "data": {
      "text/plain": [
       "5-element Vector{String}:\n",
       " \"person_id\"\n",
       " \"givenname\"\n",
       " \"familyname\"\n",
       " \"id_external\"\n",
       " \"item_type_id\""
      ]
     },
     "execution_count": 210,
     "metadata": {},
     "output_type": "execute_result"
    }
   ],
   "source": [
    "names(df_cn_episc)"
   ]
  },
  {
   "cell_type": "markdown",
   "metadata": {},
   "source": [
    "`item_id` für WIAG_ID finden"
   ]
  },
  {
   "cell_type": "code",
   "execution_count": 211,
   "metadata": {},
   "outputs": [],
   "source": [
    "table_name = \"item\";\n",
    "type_id_episc = 4;\n",
    "sql = \"SELECT id as id_ep, id_public FROM $(table_name) WHERE item_type_id = $(type_id_episc)\";\n",
    "df_item_episc = Wds.sql_df(sql);"
   ]
  },
  {
   "cell_type": "code",
   "execution_count": 212,
   "metadata": {},
   "outputs": [],
   "source": [
    "df_cn_episc = innerjoin(df_cn_episc, df_item_episc, on = :id_external => :id_public);"
   ]
  },
  {
   "cell_type": "code",
   "execution_count": 213,
   "metadata": {},
   "outputs": [
    {
     "data": {
      "text/plain": [
       "(163, 6)"
      ]
     },
     "execution_count": 213,
     "metadata": {},
     "output_type": "execute_result"
    }
   ],
   "source": [
    "size(df_cn_episc)"
   ]
  },
  {
   "cell_type": "code",
   "execution_count": 202,
   "metadata": {},
   "outputs": [
    {
     "data": {
      "text/plain": [
       "6-element Vector{String}:\n",
       " \"person_id\"\n",
       " \"givenname\"\n",
       " \"familyname\"\n",
       " \"id_external\"\n",
       " \"item_type_id\"\n",
       " \"id_ep\""
      ]
     },
     "execution_count": 202,
     "metadata": {},
     "output_type": "execute_result"
    }
   ],
   "source": [
    "names(df_cn_episc)"
   ]
  },
  {
   "cell_type": "code",
   "execution_count": 214,
   "metadata": {},
   "outputs": [
    {
     "data": {
      "text/plain": [
       "2-element Vector{Pair{Symbol, Symbol}}:\n",
       " :person_id => :person_id\n",
       "     :id_ep => :person_id_canon"
      ]
     },
     "execution_count": 214,
     "metadata": {},
     "output_type": "execute_result"
    }
   ],
   "source": [
    "columns = [\n",
    "    :person_id => :person_id,\n",
    "    :id_ep => :person_id_canon\n",
    "]"
   ]
  },
  {
   "cell_type": "code",
   "execution_count": 215,
   "metadata": {},
   "outputs": [
    {
     "name": "stderr",
     "output_type": "stream",
     "text": [
      "┌ Info: Rows inserted: 163\n",
      "└ @ WiagDataSetup C:\\Users\\georg\\Documents\\projekte\\WiagDataSetup.jl\\src\\WiagDataSetup.jl:1208\n"
     ]
    },
    {
     "data": {
      "text/plain": [
       "163"
      ]
     },
     "execution_count": 215,
     "metadata": {},
     "output_type": "execute_result"
    }
   ],
   "source": [
    "table_name = \"canon_lookup\"\n",
    "Wds.filltable!(table_name, select(df_cn_episc, columns))"
   ]
  },
  {
   "cell_type": "markdown",
   "metadata": {},
   "source": [
    "Überflüssige Verweise bereinigen"
   ]
  },
  {
   "cell_type": "code",
   "execution_count": 216,
   "metadata": {},
   "outputs": [],
   "source": [
    "id_src = \"(\" * join(df_cn_episc.person_id, \",\") * \")\";"
   ]
  },
  {
   "cell_type": "code",
   "execution_count": 217,
   "metadata": {},
   "outputs": [
    {
     "data": {
      "text/plain": [
       "MySQL.TextCursor{true}(MySQL.Connection(host=\"127.0.0.1\", user=\"georg\", port=\"3306\", db=\"wiag2\"), \"DELETE FROM canon_lookup \\nWHERE person_id = person_id_canon \\nAND person_id in (125502,126086,125984,134479,126004,134480,126007,126009,132577,126034,125943,132668,131042,125532,131056,126083,125936,131012,125527,125525,131071,132499,131830,126032,125820,125816,125797,125796,126087,131068,132686,125835,131036,131029,131608,131567,130950,130997,130947,130957,130982,131005,130986,130981,132678,130940,132227,131373,131045,131220,131014,125478,132788,132313,132779,132153,131904,131225,125983,132206,132502,132683,125536,125469,125474,125632,125556,125470,132687,125974,134483,131241,131410,131319,131356,131083,132145,131732,131571,131221,131341,132306,131227,123910,123912,125937,125639,125287,131761,134614,131692,125827,125828,132067,125798,123644,123590,127932,129175,129435,125290,131249,125733,125779,123732,123676,127664,126006,132550,132644,127547,123656,123658,123662,123585,123622,131722,131727,126322,132033,131464,131986,132771,131846,131857,131859,125774,132548,131832,125758,131248,132501,131797,131725,133190,133879,131785,132705,125644,132045,134568,131459,131915,134572,134593,131932,125869,125815,134596,134584,132521,123707,123589,123757,123758,123762,123765,123721,123715,131687,125991,134683,134513)\", 0, -1, 163, MySQL.API.MYSQL_RES(Ptr{Nothing} @0x0000000000000000), Symbol[], Type[], Dict{Symbol, Int64}(), 0, 1, false)"
      ]
     },
     "execution_count": 217,
     "metadata": {},
     "output_type": "execute_result"
    }
   ],
   "source": [
    "sql = \"DELETE FROM canon_lookup \n",
    "WHERE person_id = person_id_canon \n",
    "AND person_id in $(id_src)\";\n",
    "DBInterface.execute(Wds.dbwiag, sql)"
   ]
  }
 ],
 "metadata": {
  "kernelspec": {
   "display_name": "julia-data-io 1.7.0",
   "language": "julia",
   "name": "julia-data-io-1.7"
  },
  "language_info": {
   "file_extension": ".jl",
   "mimetype": "application/julia",
   "name": "julia",
   "version": "1.7.0"
  }
 },
 "nbformat": 4,
 "nbformat_minor": 4
}
