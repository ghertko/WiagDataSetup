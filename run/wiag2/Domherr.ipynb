{
 "cells": [
  {
   "cell_type": "markdown",
   "metadata": {},
   "source": [
    "# Wissensaggregator Mittelalter und frühe Neuzeit\n",
    "WIAGweb2\n",
    "\n",
    "## Daten für Domherren einlesen\n",
    "\n",
    "Übertrage Daten aus Access. Die Daten werden aus Access via ODBC in eine Transfer-Datenbank geschrieben oder als CSV-Datei exportiert. `domherr.tbl_domherren`, `tbl_urls` und `domherr.tbl_domherren_aemter`.\n",
    "\n",
    "[Domherren](#Domherren)\n",
    "- [Einträge in `item`](#Einträge-in-item)\n",
    "- [Daten eintragen](#Daten-eintragen)\n",
    "- [Orden eintragen](#Orden-eintragen)\n",
    "- [Referenzwerke eintragen](#Referenzwerke-eintragen)\n",
    "- [Externe URLs eintragen](#Externe-URLs-eintragen)\n",
    "- [Externe IDs eintragen](#Externe-IDs-eintragen)\n",
    "- [Namensvarianten eintragen](#Namensvarianten-eintragen)\n",
    "- [Suchvarianten eintragen (`name_lookup`)](#Suchvarianten-eintragen-(name_lookup))\n",
    "- [`canon_lookup`](#canon_lookup)"
   ]
  },
  {
   "cell_type": "markdown",
   "metadata": {},
   "source": [
    "Quelle: Datenbank `domherr`"
   ]
  },
  {
   "cell_type": "markdown",
   "metadata": {},
   "source": [
    "Vorspann: Pakete laden; mit der Datenbank verbinden  \n",
    "Der Vorspann zur Bestimmung des Projekts kann entfallen mit dem Kernel `julia-data-io 1.7.0`"
   ]
  },
  {
   "cell_type": "code",
   "execution_count": 1,
   "metadata": {},
   "outputs": [
    {
     "data": {
      "text/plain": [
       "\"../..\""
      ]
     },
     "execution_count": 1,
     "metadata": {},
     "output_type": "execute_result"
    }
   ],
   "source": [
    "wds_path=\"../..\""
   ]
  },
  {
   "cell_type": "code",
   "execution_count": 2,
   "metadata": {},
   "outputs": [],
   "source": [
    "cd(wds_path)"
   ]
  },
  {
   "cell_type": "code",
   "execution_count": 3,
   "metadata": {},
   "outputs": [
    {
     "data": {
      "text/plain": [
       "\"C:\\\\Users\\\\georg\\\\Documents\\\\projekte\\\\WiagDataSetup.jl\""
      ]
     },
     "execution_count": 3,
     "metadata": {},
     "output_type": "execute_result"
    }
   ],
   "source": [
    "pwd()"
   ]
  },
  {
   "cell_type": "code",
   "execution_count": 4,
   "metadata": {},
   "outputs": [
    {
     "data": {
      "text/plain": [
       "\"C:\\\\Users\\\\georg\\\\Documents\\\\projekte-doc\\\\WIAGweb2\\\\data_sql\""
      ]
     },
     "execution_count": 4,
     "metadata": {},
     "output_type": "execute_result"
    }
   ],
   "source": [
    "out_path = \"C:\\\\Users\\\\georg\\\\Documents\\\\projekte-doc\\\\WIAGweb2\\\\data_sql\""
   ]
  },
  {
   "cell_type": "code",
   "execution_count": 5,
   "metadata": {},
   "outputs": [],
   "source": [
    "using Pkg"
   ]
  },
  {
   "cell_type": "code",
   "execution_count": 6,
   "metadata": {},
   "outputs": [
    {
     "name": "stderr",
     "output_type": "stream",
     "text": [
      "\u001b[32m\u001b[1m  Activating\u001b[22m\u001b[39m project at `C:\\Users\\georg\\Documents\\projekte\\WiagDataSetup.jl`\n"
     ]
    }
   ],
   "source": [
    "Pkg.activate(\".\")"
   ]
  },
  {
   "cell_type": "code",
   "execution_count": 7,
   "metadata": {},
   "outputs": [],
   "source": [
    "using Revise"
   ]
  },
  {
   "cell_type": "code",
   "execution_count": 8,
   "metadata": {},
   "outputs": [],
   "source": [
    "using WiagDataSetup"
   ]
  },
  {
   "cell_type": "code",
   "execution_count": 9,
   "metadata": {},
   "outputs": [],
   "source": [
    "using MySQL, DataFrames"
   ]
  },
  {
   "cell_type": "code",
   "execution_count": 10,
   "metadata": {},
   "outputs": [
    {
     "data": {
      "text/plain": [
       "120"
      ]
     },
     "execution_count": 10,
     "metadata": {},
     "output_type": "execute_result"
    }
   ],
   "source": [
    "ENV[\"COLUMNS\"] = 120"
   ]
  },
  {
   "cell_type": "code",
   "execution_count": 11,
   "metadata": {},
   "outputs": [
    {
     "data": {
      "text/plain": [
       "WiagDataSetup"
      ]
     },
     "execution_count": 11,
     "metadata": {},
     "output_type": "execute_result"
    }
   ],
   "source": [
    "Wds = WiagDataSetup"
   ]
  },
  {
   "cell_type": "code",
   "execution_count": 12,
   "metadata": {},
   "outputs": [
    {
     "name": "stdout",
     "output_type": "stream",
     "text": [
      "Passwort für User georg: ········\n"
     ]
    },
    {
     "data": {
      "text/plain": [
       "MySQL.Connection(host=\"127.0.0.1\", user=\"georg\", port=\"3306\", db=\"wiag2\")"
      ]
     },
     "execution_count": 12,
     "metadata": {},
     "output_type": "execute_result"
    }
   ],
   "source": [
    "Wds.setDBWIAG(user=\"georg\", db=\"wiag2\")"
   ]
  },
  {
   "cell_type": "markdown",
   "metadata": {},
   "source": [
    "Item Type ID"
   ]
  },
  {
   "cell_type": "code",
   "execution_count": 13,
   "metadata": {},
   "outputs": [
    {
     "data": {
      "text/plain": [
       "5"
      ]
     },
     "execution_count": 13,
     "metadata": {},
     "output_type": "execute_result"
    }
   ],
   "source": [
    "item_type_id = 5"
   ]
  },
  {
   "cell_type": "code",
   "execution_count": 14,
   "metadata": {},
   "outputs": [
    {
     "data": {
      "text/plain": [
       "\"C:\\\\Users\\\\georg\\\\Documents\\\\projekte-doc\\\\WIAGweb2\\\\data\\\\domherren-2022-05-18\""
      ]
     },
     "execution_count": 14,
     "metadata": {},
     "output_type": "execute_result"
    }
   ],
   "source": [
    "data_path = \"C:\\\\Users\\\\georg\\\\Documents\\\\projekte-doc\\\\WIAGweb2\\\\data\\\\domherren-2022-05-18\""
   ]
  },
  {
   "cell_type": "markdown",
   "metadata": {},
   "source": [
    "## Lösche Tabellen für ein umfassendes Update"
   ]
  },
  {
   "cell_type": "code",
   "execution_count": 15,
   "metadata": {},
   "outputs": [
    {
     "data": {
      "text/plain": [
       "MySQL.TextCursor{true}(MySQL.Connection(host=\"127.0.0.1\", user=\"georg\", port=\"3306\", db=\"wiag2\"), \"DELETE FROM name_lookup\\nWHERE person_id IN\\n(SELECT id FROM item WHERE item_type_id = 5)\", 0, -1, 33351, MySQL.API.MYSQL_RES(Ptr{Nothing} @0x0000000000000000), Symbol[], Type[], Dict{Symbol, Int64}(), 0, 1, false)"
      ]
     },
     "execution_count": 15,
     "metadata": {},
     "output_type": "execute_result"
    }
   ],
   "source": [
    "table_name = \"name_lookup\";\n",
    "sql = \"DELETE FROM $(table_name)\n",
    "WHERE person_id IN\n",
    "(SELECT id FROM item WHERE item_type_id = $(item_type_id))\";\n",
    "DBInterface.execute(Wds.dbwiag, sql)"
   ]
  },
  {
   "cell_type": "code",
   "execution_count": 16,
   "metadata": {},
   "outputs": [
    {
     "data": {
      "text/plain": [
       "MySQL.TextCursor{true}(MySQL.Connection(host=\"127.0.0.1\", user=\"georg\", port=\"3306\", db=\"wiag2\"), \"DELETE FROM familyname_variant\\nWHERE person_id IN\\n(SELECT id FROM item WHERE item_type_id = 5)\", 0, -1, 1544, MySQL.API.MYSQL_RES(Ptr{Nothing} @0x0000000000000000), Symbol[], Type[], Dict{Symbol, Int64}(), 0, 1, false)"
      ]
     },
     "execution_count": 16,
     "metadata": {},
     "output_type": "execute_result"
    }
   ],
   "source": [
    "table_name = \"familyname_variant\";\n",
    "sql = \"DELETE FROM $(table_name)\n",
    "WHERE person_id IN\n",
    "(SELECT id FROM item WHERE item_type_id = $(item_type_id))\";\n",
    "DBInterface.execute(Wds.dbwiag, sql)"
   ]
  },
  {
   "cell_type": "code",
   "execution_count": 17,
   "metadata": {},
   "outputs": [
    {
     "data": {
      "text/plain": [
       "MySQL.TextCursor{true}(MySQL.Connection(host=\"127.0.0.1\", user=\"georg\", port=\"3306\", db=\"wiag2\"), \"DELETE FROM givenname_variant\\nWHERE person_id IN\\n(SELECT id FROM item WHERE item_type_id = 5)\", 0, -1, 1036, MySQL.API.MYSQL_RES(Ptr{Nothing} @0x0000000000000000), Symbol[], Type[], Dict{Symbol, Int64}(), 0, 1, false)"
      ]
     },
     "execution_count": 17,
     "metadata": {},
     "output_type": "execute_result"
    }
   ],
   "source": [
    "table_name = \"givenname_variant\";\n",
    "sql = \"DELETE FROM $(table_name)\n",
    "WHERE person_id IN\n",
    "(SELECT id FROM item WHERE item_type_id = $(item_type_id))\";\n",
    "DBInterface.execute(Wds.dbwiag, sql)"
   ]
  },
  {
   "cell_type": "code",
   "execution_count": 18,
   "metadata": {},
   "outputs": [
    {
     "data": {
      "text/plain": [
       "MySQL.TextCursor{true}(MySQL.Connection(host=\"127.0.0.1\", user=\"georg\", port=\"3306\", db=\"wiag2\"), \"DELETE FROM url_external\\nWHERE item_id IN\\n(SELECT id FROM item WHERE item_type_id = 5)\", 0, -1, 1729, MySQL.API.MYSQL_RES(Ptr{Nothing} @0x0000000000000000), Symbol[], Type[], Dict{Symbol, Int64}(), 0, 1, false)"
      ]
     },
     "execution_count": 18,
     "metadata": {},
     "output_type": "execute_result"
    }
   ],
   "source": [
    "table_name = \"url_external\";\n",
    "sql = \"DELETE FROM $(table_name)\n",
    "WHERE item_id IN\n",
    "(SELECT id FROM item WHERE item_type_id = $(item_type_id))\";\n",
    "DBInterface.execute(Wds.dbwiag, sql)"
   ]
  },
  {
   "cell_type": "code",
   "execution_count": 19,
   "metadata": {},
   "outputs": [
    {
     "data": {
      "text/plain": [
       "MySQL.TextCursor{true}(MySQL.Connection(host=\"127.0.0.1\", user=\"georg\", port=\"3306\", db=\"wiag2\"), \"DELETE FROM id_external\\nWHERE item_id IN\\n(SELECT id FROM item WHERE item_type_id = 5)\", 0, -1, 11390, MySQL.API.MYSQL_RES(Ptr{Nothing} @0x0000000000000000), Symbol[], Type[], Dict{Symbol, Int64}(), 0, 1, false)"
      ]
     },
     "execution_count": 19,
     "metadata": {},
     "output_type": "execute_result"
    }
   ],
   "source": [
    "table_name = \"id_external\";\n",
    "sql = \"DELETE FROM $(table_name)\n",
    "WHERE item_id IN\n",
    "(SELECT id FROM item WHERE item_type_id = $(item_type_id))\";\n",
    "DBInterface.execute(Wds.dbwiag, sql)"
   ]
  },
  {
   "cell_type": "code",
   "execution_count": 20,
   "metadata": {},
   "outputs": [
    {
     "data": {
      "text/plain": [
       "MySQL.TextCursor{true}(MySQL.Connection(host=\"127.0.0.1\", user=\"georg\", port=\"3306\", db=\"wiag2\"), \"DELETE FROM person_role_property\\nWHERE person_role_id IN\\n(SELECT id FROM person_role\\nWHERE person_id in (SELECT id from item WHERE item_type_id = 5))\", 0, -1, 500, MySQL.API.MYSQL_RES(Ptr{Nothing} @0x0000000000000000), Symbol[], Type[], Dict{Symbol, Int64}(), 0, 1, false)"
      ]
     },
     "execution_count": 20,
     "metadata": {},
     "output_type": "execute_result"
    }
   ],
   "source": [
    "table_name = \"person_role_property\";\n",
    "sql = \"DELETE FROM $(table_name)\n",
    "WHERE person_role_id IN\n",
    "(SELECT id FROM person_role\n",
    "WHERE person_id in (SELECT id from item WHERE item_type_id = $(item_type_id)))\";\n",
    "DBInterface.execute(Wds.dbwiag, sql)"
   ]
  },
  {
   "cell_type": "code",
   "execution_count": 21,
   "metadata": {},
   "outputs": [
    {
     "data": {
      "text/plain": [
       "MySQL.TextCursor{true}(MySQL.Connection(host=\"127.0.0.1\", user=\"georg\", port=\"3306\", db=\"wiag2\"), \"DELETE FROM person_role\\nWHERE person_id IN\\n(SELECT id FROM item WHERE item_type_id = 5)\", 0, -1, 33535, MySQL.API.MYSQL_RES(Ptr{Nothing} @0x0000000000000000), Symbol[], Type[], Dict{Symbol, Int64}(), 0, 1, false)"
      ]
     },
     "execution_count": 21,
     "metadata": {},
     "output_type": "execute_result"
    }
   ],
   "source": [
    "table_name = \"person_role\";\n",
    "sql = \"DELETE FROM $(table_name)\n",
    "WHERE person_id IN\n",
    "(SELECT id FROM item WHERE item_type_id = $(item_type_id))\";\n",
    "DBInterface.execute(Wds.dbwiag, sql)"
   ]
  },
  {
   "cell_type": "code",
   "execution_count": 22,
   "metadata": {},
   "outputs": [
    {
     "data": {
      "text/plain": [
       "MySQL.TextCursor{true}(MySQL.Connection(host=\"127.0.0.1\", user=\"georg\", port=\"3306\", db=\"wiag2\"), \"DELETE FROM person\\nWHERE id IN\\n(SELECT id FROM item WHERE item_type_id = 5)\", 0, -1, 22812, MySQL.API.MYSQL_RES(Ptr{Nothing} @0x0000000000000000), Symbol[], Type[], Dict{Symbol, Int64}(), 0, 1, false)"
      ]
     },
     "execution_count": 22,
     "metadata": {},
     "output_type": "execute_result"
    }
   ],
   "source": [
    "table_name = \"person\";\n",
    "sql = \"DELETE FROM $(table_name)\n",
    "WHERE id IN\n",
    "(SELECT id FROM item WHERE item_type_id = $(item_type_id))\";\n",
    "DBInterface.execute(Wds.dbwiag, sql)"
   ]
  },
  {
   "cell_type": "code",
   "execution_count": 23,
   "metadata": {},
   "outputs": [
    {
     "data": {
      "text/plain": [
       "MySQL.TextCursor{true}(MySQL.Connection(host=\"127.0.0.1\", user=\"georg\", port=\"3306\", db=\"wiag2\"), \"DELETE FROM item_reference\\nWHERE item_id IN\\n(SELECT id FROM item WHERE item_type_id = 5)\", 0, -1, 23925, MySQL.API.MYSQL_RES(Ptr{Nothing} @0x0000000000000000), Symbol[], Type[], Dict{Symbol, Int64}(), 0, 1, false)"
      ]
     },
     "execution_count": 23,
     "metadata": {},
     "output_type": "execute_result"
    }
   ],
   "source": [
    "table_name = \"item_reference\";\n",
    "sql = \"DELETE FROM $(table_name)\n",
    "WHERE item_id IN\n",
    "(SELECT id FROM item WHERE item_type_id = $(item_type_id))\";\n",
    "DBInterface.execute(Wds.dbwiag, sql)"
   ]
  },
  {
   "cell_type": "code",
   "execution_count": 44,
   "metadata": {},
   "outputs": [
    {
     "data": {
      "text/plain": [
       "MySQL.TextCursor{true}(MySQL.Connection(host=\"127.0.0.1\", user=\"georg\", port=\"3306\", db=\"wiag2\"), \"DELETE FROM item\\nWHERE item_type_id = 5\", 0, -1, 22780, MySQL.API.MYSQL_RES(Ptr{Nothing} @0x0000000000000000), Symbol[], Type[], Dict{Symbol, Int64}(), 0, 1, false)"
      ]
     },
     "execution_count": 44,
     "metadata": {},
     "output_type": "execute_result"
    }
   ],
   "source": [
    "table_name = \"item\";\n",
    "sql = \"DELETE FROM $(table_name)\n",
    "WHERE item_type_id = $(item_type_id)\";\n",
    "DBInterface.execute(Wds.dbwiag, sql)"
   ]
  },
  {
   "cell_type": "markdown",
   "metadata": {},
   "source": [
    "## Literatur"
   ]
  },
  {
   "cell_type": "code",
   "execution_count": 24,
   "metadata": {},
   "outputs": [],
   "source": [
    "# Quelle Datenbank\n",
    "sql = \"SELECT * FROM domherr.tbl_reference\"\n",
    "df_vol = Wds.sql_df(sql);"
   ]
  },
  {
   "cell_type": "code",
   "execution_count": 25,
   "metadata": {},
   "outputs": [],
   "source": [
    "using CSV"
   ]
  },
  {
   "cell_type": "code",
   "execution_count": 26,
   "metadata": {
    "scrolled": true
   },
   "outputs": [],
   "source": [
    "# Quelle CSV-Datei\n",
    "filename = joinpath(data_path, \"tbl_Reference.csv\");\n",
    "df_vol = CSV.read(filename, DataFrame);"
   ]
  },
  {
   "cell_type": "markdown",
   "metadata": {},
   "source": [
    "Manche Einträge sind unvollständig"
   ]
  },
  {
   "cell_type": "code",
   "execution_count": 27,
   "metadata": {},
   "outputs": [],
   "source": [
    "Wds.clean_up!(df_vol);"
   ]
  },
  {
   "cell_type": "code",
   "execution_count": 28,
   "metadata": {},
   "outputs": [],
   "source": [
    "dropmissing!(df_vol, :Literatur);"
   ]
  },
  {
   "cell_type": "code",
   "execution_count": 29,
   "metadata": {},
   "outputs": [
    {
     "data": {
      "text/plain": [
       "5-element Vector{Pair{Symbol, Symbol}}:\n",
       "          :ID_Ref => :reference_id\n",
       "       :Literatur => :full_citation\n",
       "       :Verfasser => :author_editor\n",
       " :OnlineRessource => :online_resource\n",
       "       :Kurztitel => :title_short"
      ]
     },
     "execution_count": 29,
     "metadata": {},
     "output_type": "execute_result"
    }
   ],
   "source": [
    "columns = [\n",
    "    :ID_Ref => :reference_id,\n",
    "    :Literatur => :full_citation,\n",
    "    :Verfasser => :author_editor,\n",
    "    :OnlineRessource => :online_resource,\n",
    "    :Kurztitel => :title_short,\n",
    "]"
   ]
  },
  {
   "cell_type": "code",
   "execution_count": 30,
   "metadata": {},
   "outputs": [],
   "source": [
    "df_vol_db = select(df_vol, columns);"
   ]
  },
  {
   "cell_type": "code",
   "execution_count": 31,
   "metadata": {},
   "outputs": [],
   "source": [
    "insertcols!(df_vol_db,\n",
    "    :item_type_id => item_type_id);"
   ]
  },
  {
   "cell_type": "markdown",
   "metadata": {},
   "source": [
    "Bestehende Einträge löschen"
   ]
  },
  {
   "cell_type": "code",
   "execution_count": 34,
   "metadata": {},
   "outputs": [
    {
     "data": {
      "text/plain": [
       "MySQL.TextCursor{true}(MySQL.Connection(host=\"127.0.0.1\", user=\"georg\", port=\"3306\", db=\"wiag2\"), \"DELETE FROM reference_volume WHERE item_type_id = 5\", 0, -1, 147, MySQL.API.MYSQL_RES(Ptr{Nothing} @0x0000000000000000), Symbol[], Type[], Dict{Symbol, Int64}(), 0, 1, false)"
      ]
     },
     "execution_count": 34,
     "metadata": {},
     "output_type": "execute_result"
    }
   ],
   "source": [
    "table_name = \"reference_volume\"\n",
    "sql = \"DELETE FROM $(table_name) WHERE item_type_id = $(item_type_id)\";\n",
    "DBInterface.execute(Wds.dbwiag, sql)"
   ]
  },
  {
   "cell_type": "markdown",
   "metadata": {},
   "source": [
    "Daten eintragen"
   ]
  },
  {
   "cell_type": "code",
   "execution_count": 35,
   "metadata": {},
   "outputs": [
    {
     "name": "stderr",
     "output_type": "stream",
     "text": [
      "┌ Info: Rows inserted: 152\n",
      "└ @ WiagDataSetup C:\\Users\\georg\\Documents\\projekte\\WiagDataSetup.jl\\src\\WiagDataSetup.jl:1209\n"
     ]
    },
    {
     "data": {
      "text/plain": [
       "152"
      ]
     },
     "execution_count": 35,
     "metadata": {},
     "output_type": "execute_result"
    }
   ],
   "source": [
    "table_name = \"reference_volume\"\n",
    "Wds.filltable!(table_name, df_vol_db, clear_table = false)"
   ]
  },
  {
   "cell_type": "markdown",
   "metadata": {},
   "source": [
    "## Domherren"
   ]
  },
  {
   "cell_type": "code",
   "execution_count": 36,
   "metadata": {},
   "outputs": [],
   "source": [
    "using CSV"
   ]
  },
  {
   "cell_type": "code",
   "execution_count": 37,
   "metadata": {},
   "outputs": [],
   "source": [
    "# Quelle CSV-Datei\n",
    "filename = joinpath(data_path, \"tbl_domherren.csv\")\n",
    "df_cn = CSV.read(filename, DataFrame);"
   ]
  },
  {
   "cell_type": "code",
   "execution_count": null,
   "metadata": {},
   "outputs": [],
   "source": [
    "# Quelle Datenbank\n",
    "sql = \"SELECT * FROM domherr.tbl_domherren\";\n",
    "df_cn = Wds.sql_df(sql); "
   ]
  },
  {
   "cell_type": "markdown",
   "metadata": {},
   "source": [
    "Leerzeichen bereinigen"
   ]
  },
  {
   "cell_type": "code",
   "execution_count": 38,
   "metadata": {},
   "outputs": [],
   "source": [
    "Wds.clean_up!(df_cn)"
   ]
  },
  {
   "cell_type": "code",
   "execution_count": 39,
   "metadata": {},
   "outputs": [
    {
     "data": {
      "text/html": [
       "<div class=\"data-frame\"><p>5 rows × 48 columns (omitted printing of 39 columns)</p><table class=\"data-frame\"><thead><tr><th></th><th>ID_Domherr</th><th>Eintrag_Quelle</th><th>Seite_Quelle</th><th>Quelle</th><th>Praefix</th><th>Vorname</th><th>Familienname</th><th>Sterbedatum</th><th>Geburtsdatum</th></tr><tr><th></th><th title=\"Int64\">Int64</th><th title=\"Union{Missing, String}\">String?</th><th title=\"Union{Missing, String}\">String?</th><th title=\"Int64\">Int64</th><th title=\"Union{Missing, String}\">String?</th><th title=\"Union{Missing, String}\">String?</th><th title=\"Union{Missing, String}\">String?</th><th title=\"Union{Missing, String}\">String?</th><th title=\"Union{Missing, String}\">String?</th></tr></thead><tbody><tr><th>1</th><td>10000</td><td><em>missing</em></td><td>167, 183</td><td>6</td><td>von</td><td>Friedrich Wilhelm</td><td>Loe</td><td>1689</td><td><em>missing</em></td></tr><tr><th>2</th><td>10001</td><td><em>missing</em></td><td>183</td><td>6</td><td>von</td><td>Johann Heinrich</td><td>Metzenhausen</td><td><em>missing</em></td><td><em>missing</em></td></tr><tr><th>3</th><td>10002</td><td><em>missing</em></td><td>183</td><td>6</td><td>von</td><td>Philipp Friedrich</td><td>Metzenhausen</td><td><em>missing</em></td><td><em>missing</em></td></tr><tr><th>4</th><td>10003</td><td><em>missing</em></td><td>183</td><td>6</td><td>von der</td><td>Damian Friedrich</td><td>Fels</td><td>1684</td><td><em>missing</em></td></tr><tr><th>5</th><td>10004</td><td><em>missing</em></td><td>183, 189</td><td>6</td><td>von</td><td>Friedrich Ernst</td><td>Eltz-Rodendorf</td><td><em>missing</em></td><td><em>missing</em></td></tr></tbody></table></div>"
      ],
      "text/latex": [
       "\\begin{tabular}{r|cccccccccc}\n",
       "\t& ID\\_Domherr & Eintrag\\_Quelle & Seite\\_Quelle & Quelle & Praefix & Vorname & Familienname & Sterbedatum & Geburtsdatum & \\\\\n",
       "\t\\hline\n",
       "\t& Int64 & String? & String? & Int64 & String? & String? & String? & String? & String? & \\\\\n",
       "\t\\hline\n",
       "\t1 & 10000 & \\emph{missing} & 167, 183 & 6 & von & Friedrich Wilhelm & Loe & 1689 & \\emph{missing} & $\\dots$ \\\\\n",
       "\t2 & 10001 & \\emph{missing} & 183 & 6 & von & Johann Heinrich & Metzenhausen & \\emph{missing} & \\emph{missing} & $\\dots$ \\\\\n",
       "\t3 & 10002 & \\emph{missing} & 183 & 6 & von & Philipp Friedrich & Metzenhausen & \\emph{missing} & \\emph{missing} & $\\dots$ \\\\\n",
       "\t4 & 10003 & \\emph{missing} & 183 & 6 & von der & Damian Friedrich & Fels & 1684 & \\emph{missing} & $\\dots$ \\\\\n",
       "\t5 & 10004 & \\emph{missing} & 183, 189 & 6 & von & Friedrich Ernst & Eltz-Rodendorf & \\emph{missing} & \\emph{missing} & $\\dots$ \\\\\n",
       "\\end{tabular}\n"
      ],
      "text/plain": [
       "\u001b[1m5×48 DataFrame\u001b[0m\n",
       "\u001b[1m Row \u001b[0m│\u001b[1m ID_Domherr \u001b[0m\u001b[1m Eintrag_Quelle \u001b[0m\u001b[1m Seite_Quelle \u001b[0m\u001b[1m Quelle \u001b[0m\u001b[1m Praefix \u001b[0m\u001b[1m Vorname           \u001b[0m\u001b[1m Familienname   \u001b[0m\u001b[1m Sterbedatum \u001b[0m\u001b[1m Gebu\u001b[0m ⋯\n",
       "\u001b[1m     \u001b[0m│\u001b[90m Int64      \u001b[0m\u001b[90m String?        \u001b[0m\u001b[90m String?      \u001b[0m\u001b[90m Int64  \u001b[0m\u001b[90m String? \u001b[0m\u001b[90m String?           \u001b[0m\u001b[90m String?        \u001b[0m\u001b[90m String?     \u001b[0m\u001b[90m Stri\u001b[0m ⋯\n",
       "─────┼──────────────────────────────────────────────────────────────────────────────────────────────────────────────────\n",
       "   1 │      10000 \u001b[90m missing        \u001b[0m 167, 183           6  von      Friedrich Wilhelm  Loe             1689        \u001b[90m miss\u001b[0m ⋯\n",
       "   2 │      10001 \u001b[90m missing        \u001b[0m 183                6  von      Johann Heinrich    Metzenhausen   \u001b[90m missing     \u001b[0m\u001b[90m miss\u001b[0m\n",
       "   3 │      10002 \u001b[90m missing        \u001b[0m 183                6  von      Philipp Friedrich  Metzenhausen   \u001b[90m missing     \u001b[0m\u001b[90m miss\u001b[0m\n",
       "   4 │      10003 \u001b[90m missing        \u001b[0m 183                6  von der  Damian Friedrich   Fels            1684        \u001b[90m miss\u001b[0m\n",
       "   5 │      10004 \u001b[90m missing        \u001b[0m 183, 189           6  von      Friedrich Ernst    Eltz-Rodendorf \u001b[90m missing     \u001b[0m\u001b[90m miss\u001b[0m ⋯\n",
       "\u001b[36m                                                                                                      40 columns omitted\u001b[0m"
      ]
     },
     "execution_count": 39,
     "metadata": {},
     "output_type": "execute_result"
    }
   ],
   "source": [
    "first(df_cn, 5)"
   ]
  },
  {
   "cell_type": "markdown",
   "metadata": {},
   "source": [
    "*2022-03-10* prüfe auf unorthodoxe Einräge in `WIAG_ID_Bischof`"
   ]
  },
  {
   "cell_type": "code",
   "execution_count": 40,
   "metadata": {},
   "outputs": [],
   "source": [
    "df_cn_ID_Bischof = dropmissing(df_cn, :WIAG_ID_Bischof);"
   ]
  },
  {
   "cell_type": "code",
   "execution_count": 41,
   "metadata": {},
   "outputs": [
    {
     "data": {
      "text/html": [
       "<div class=\"data-frame\"><p>5 rows × 5 columns</p><table class=\"data-frame\"><thead><tr><th></th><th>ID_Domherr</th><th>Vorname</th><th>Familienname</th><th>WIAG_ID_Bischof</th><th>Status</th></tr><tr><th></th><th title=\"Int64\">Int64</th><th title=\"Union{Missing, String}\">String?</th><th title=\"Union{Missing, String}\">String?</th><th title=\"String\">String</th><th title=\"Union{Missing, String}\">String?</th></tr></thead><tbody><tr><th>1</th><td>14815</td><td>Nikolaus</td><td>Riesenburg</td><td>WIAG-Pers-EPISCGatz-03242-001</td><td>fertig</td></tr><tr><th>2</th><td>14816</td><td>Albrecht</td><td>Blarer</td><td>WIAG-Pers-EPISCGatz-02920-001</td><td>fertig</td></tr><tr><th>3</th><td>14818</td><td>Konrad</td><td>Rechberg zu Hohenrechberg</td><td>WIAG-Pers-EPISCGatz-02704-001</td><td>fertig</td></tr><tr><th>4</th><td>14819</td><td>Thomas</td><td>Berlower</td><td>WIAG-Pers-EPISCGatz-05308-001</td><td>fertig</td></tr><tr><th>5</th><td>14827</td><td>Johann Franz Anton</td><td>Khevenhueller</td><td>WIAG-Pers-EPISCGatz-10370-001</td><td>fertig</td></tr></tbody></table></div>"
      ],
      "text/latex": [
       "\\begin{tabular}{r|ccccc}\n",
       "\t& ID\\_Domherr & Vorname & Familienname & WIAG\\_ID\\_Bischof & Status\\\\\n",
       "\t\\hline\n",
       "\t& Int64 & String? & String? & String & String?\\\\\n",
       "\t\\hline\n",
       "\t1 & 14815 & Nikolaus & Riesenburg & WIAG-Pers-EPISCGatz-03242-001 & fertig \\\\\n",
       "\t2 & 14816 & Albrecht & Blarer & WIAG-Pers-EPISCGatz-02920-001 & fertig \\\\\n",
       "\t3 & 14818 & Konrad & Rechberg zu Hohenrechberg & WIAG-Pers-EPISCGatz-02704-001 & fertig \\\\\n",
       "\t4 & 14819 & Thomas & Berlower & WIAG-Pers-EPISCGatz-05308-001 & fertig \\\\\n",
       "\t5 & 14827 & Johann Franz Anton & Khevenhueller & WIAG-Pers-EPISCGatz-10370-001 & fertig \\\\\n",
       "\\end{tabular}\n"
      ],
      "text/plain": [
       "\u001b[1m5×5 DataFrame\u001b[0m\n",
       "\u001b[1m Row \u001b[0m│\u001b[1m ID_Domherr \u001b[0m\u001b[1m Vorname            \u001b[0m\u001b[1m Familienname              \u001b[0m\u001b[1m WIAG_ID_Bischof               \u001b[0m\u001b[1m Status  \u001b[0m\n",
       "\u001b[1m     \u001b[0m│\u001b[90m Int64      \u001b[0m\u001b[90m String?            \u001b[0m\u001b[90m String?                   \u001b[0m\u001b[90m String                        \u001b[0m\u001b[90m String? \u001b[0m\n",
       "─────┼───────────────────────────────────────────────────────────────────────────────────────────────────\n",
       "   1 │      14815  Nikolaus            Riesenburg                 WIAG-Pers-EPISCGatz-03242-001  fertig\n",
       "   2 │      14816  Albrecht            Blarer                     WIAG-Pers-EPISCGatz-02920-001  fertig\n",
       "   3 │      14818  Konrad              Rechberg zu Hohenrechberg  WIAG-Pers-EPISCGatz-02704-001  fertig\n",
       "   4 │      14819  Thomas              Berlower                   WIAG-Pers-EPISCGatz-05308-001  fertig\n",
       "   5 │      14827  Johann Franz Anton  Khevenhueller              WIAG-Pers-EPISCGatz-10370-001  fertig"
      ]
     },
     "execution_count": 41,
     "metadata": {},
     "output_type": "execute_result"
    }
   ],
   "source": [
    "df_cn_ID_Bischof[201:205, [:ID_Domherr, :Vorname, :Familienname, :WIAG_ID_Bischof, :Status]]"
   ]
  },
  {
   "cell_type": "code",
   "execution_count": 42,
   "metadata": {},
   "outputs": [],
   "source": [
    "find_spurious(a) = !ismissing(a) && occursin(\"http\", a)\n",
    "df_cn_sp = subset(df_cn, :WIAG_ID_Bischof => ByRow(find_spurious));"
   ]
  },
  {
   "cell_type": "code",
   "execution_count": 43,
   "metadata": {},
   "outputs": [
    {
     "data": {
      "text/plain": [
       "(0, 48)"
      ]
     },
     "execution_count": 43,
     "metadata": {},
     "output_type": "execute_result"
    }
   ],
   "source": [
    "# 2022-05-20\n",
    "size(df_cn_sp)"
   ]
  },
  {
   "cell_type": "code",
   "execution_count": 44,
   "metadata": {},
   "outputs": [
    {
     "data": {
      "text/html": [
       "<div class=\"data-frame\"><p>0 rows × 5 columns</p><table class=\"data-frame\"><thead><tr><th></th><th>ID_Domherr</th><th>Vorname</th><th>Familienname</th><th>WIAG_ID_Bischof</th><th>Status</th></tr><tr><th></th><th title=\"Int64\">Int64</th><th title=\"Union{Missing, String}\">String?</th><th title=\"Union{Missing, String}\">String?</th><th title=\"Union{Missing, String}\">String?</th><th title=\"Union{Missing, String}\">String?</th></tr></thead><tbody></tbody></table></div>"
      ],
      "text/latex": [
       "\\begin{tabular}{r|ccccc}\n",
       "\t& ID\\_Domherr & Vorname & Familienname & WIAG\\_ID\\_Bischof & Status\\\\\n",
       "\t\\hline\n",
       "\t& Int64 & String? & String? & String? & String?\\\\\n",
       "\t\\hline\n",
       "\\end{tabular}\n"
      ],
      "text/plain": [
       "\u001b[1m0×5 DataFrame\u001b[0m"
      ]
     },
     "execution_count": 44,
     "metadata": {},
     "output_type": "execute_result"
    }
   ],
   "source": [
    "df_cn_sp[:, [:ID_Domherr, :Vorname, :Familienname, :WIAG_ID_Bischof, :Status]]"
   ]
  },
  {
   "cell_type": "code",
   "execution_count": 25,
   "metadata": {},
   "outputs": [
    {
     "data": {
      "text/plain": [
       "\"C:\\\\Users\\\\georg\\\\Documents\\\\projekte-doc\\\\WIAGweb2\\\\data\\\\WIAG_ID_Bischof_2022-03-10.csv\""
      ]
     },
     "execution_count": 25,
     "metadata": {},
     "output_type": "execute_result"
    }
   ],
   "source": [
    "filename_sp = \"C:\\\\Users\\\\georg\\\\Documents\\\\projekte-doc\\\\WIAGweb2\\\\data\\\\WIAG_ID_Bischof_2022-03-10.csv\"\n",
    "CSV.write(filename_sp, df_cn_sp)"
   ]
  },
  {
   "cell_type": "markdown",
   "metadata": {},
   "source": [
    "Extrahiere die eigentliche ID"
   ]
  },
  {
   "cell_type": "code",
   "execution_count": 45,
   "metadata": {},
   "outputs": [
    {
     "data": {
      "text/plain": [
       "get_WIAG_ID_Bischof (generic function with 1 method)"
      ]
     },
     "execution_count": 45,
     "metadata": {},
     "output_type": "execute_result"
    }
   ],
   "source": [
    "function get_WIAG_ID_Bischof(s)\n",
    "    if ismissing(s)\n",
    "        return s\n",
    "    end\n",
    "    rgx = r\".*(WIAG-Pers-EPISCGatz-[0-9]+-[0-9]+).*\"\n",
    "    rgm = match(rgx, s)\n",
    "    if !isnothing(rgm)\n",
    "        return rgm[1]\n",
    "    else\n",
    "        @warn s\n",
    "    end\n",
    "    return missing\n",
    "end\n",
    "    "
   ]
  },
  {
   "cell_type": "code",
   "execution_count": 46,
   "metadata": {},
   "outputs": [],
   "source": [
    "transform!(df_cn_sp, :WIAG_ID_Bischof => ByRow(get_WIAG_ID_Bischof) => :WIAG_ID_Bischof);"
   ]
  },
  {
   "cell_type": "code",
   "execution_count": 47,
   "metadata": {},
   "outputs": [],
   "source": [
    "transform!(df_cn, :WIAG_ID_Bischof => ByRow(get_WIAG_ID_Bischof) => :WIAG_ID_Bischof);"
   ]
  },
  {
   "cell_type": "markdown",
   "metadata": {},
   "source": [
    "### Einträge in `item`\n",
    "\n",
    "entsprechende Einträge in Tabelle `item` einfügen\n",
    "\n",
    "`id` für 'Domherr' in `item_type`: 5"
   ]
  },
  {
   "cell_type": "code",
   "execution_count": 48,
   "metadata": {},
   "outputs": [
    {
     "data": {
      "text/plain": [
       "4-element Vector{Pair{Symbol, Symbol}}:\n",
       "     :ID_Domherr => :id_in_source\n",
       " :Eintrag_Quelle => :item_in_source\n",
       "         :fertig => :fertig\n",
       "         :Status => :Status"
      ]
     },
     "execution_count": 48,
     "metadata": {},
     "output_type": "execute_result"
    }
   ],
   "source": [
    "columns = [\n",
    "    :ID_Domherr => :id_in_source,\n",
    "    :Eintrag_Quelle => :item_in_source,\n",
    "    :fertig => :fertig,\n",
    "    :Status => :Status,    \n",
    "]"
   ]
  },
  {
   "cell_type": "code",
   "execution_count": 49,
   "metadata": {},
   "outputs": [],
   "source": [
    "df_item = select(df_cn, columns);"
   ]
  },
  {
   "cell_type": "code",
   "execution_count": 50,
   "metadata": {},
   "outputs": [],
   "source": [
    "insertcols!(df_item, :item_type_id => item_type_id);"
   ]
  },
  {
   "cell_type": "code",
   "execution_count": 51,
   "metadata": {},
   "outputs": [
    {
     "data": {
      "text/html": [
       "<div class=\"data-frame\"><p>5 rows × 5 columns</p><table class=\"data-frame\"><thead><tr><th></th><th>id_in_source</th><th>item_in_source</th><th>fertig</th><th>Status</th><th>item_type_id</th></tr><tr><th></th><th title=\"Int64\">Int64</th><th title=\"Union{Missing, String}\">String?</th><th title=\"Int64\">Int64</th><th title=\"Union{Missing, String}\">String?</th><th title=\"Int64\">Int64</th></tr></thead><tbody><tr><th>1</th><td>10200</td><td><em>missing</em></td><td>0</td><td>fertig</td><td>5</td></tr><tr><th>2</th><td>10201</td><td><em>missing</em></td><td>0</td><td>fertig</td><td>5</td></tr><tr><th>3</th><td>10202</td><td><em>missing</em></td><td>0</td><td>xx</td><td>5</td></tr><tr><th>4</th><td>10203</td><td><em>missing</em></td><td>0</td><td>Dublette</td><td>5</td></tr><tr><th>5</th><td>10204</td><td><em>missing</em></td><td>0</td><td>fertig</td><td>5</td></tr></tbody></table></div>"
      ],
      "text/latex": [
       "\\begin{tabular}{r|ccccc}\n",
       "\t& id\\_in\\_source & item\\_in\\_source & fertig & Status & item\\_type\\_id\\\\\n",
       "\t\\hline\n",
       "\t& Int64 & String? & Int64 & String? & Int64\\\\\n",
       "\t\\hline\n",
       "\t1 & 10200 & \\emph{missing} & 0 & fertig & 5 \\\\\n",
       "\t2 & 10201 & \\emph{missing} & 0 & fertig & 5 \\\\\n",
       "\t3 & 10202 & \\emph{missing} & 0 & xx & 5 \\\\\n",
       "\t4 & 10203 & \\emph{missing} & 0 & Dublette & 5 \\\\\n",
       "\t5 & 10204 & \\emph{missing} & 0 & fertig & 5 \\\\\n",
       "\\end{tabular}\n"
      ],
      "text/plain": [
       "\u001b[1m5×5 DataFrame\u001b[0m\n",
       "\u001b[1m Row \u001b[0m│\u001b[1m id_in_source \u001b[0m\u001b[1m item_in_source \u001b[0m\u001b[1m fertig \u001b[0m\u001b[1m Status   \u001b[0m\u001b[1m item_type_id \u001b[0m\n",
       "\u001b[1m     \u001b[0m│\u001b[90m Int64        \u001b[0m\u001b[90m String?        \u001b[0m\u001b[90m Int64  \u001b[0m\u001b[90m String?  \u001b[0m\u001b[90m Int64        \u001b[0m\n",
       "─────┼──────────────────────────────────────────────────────────────\n",
       "   1 │        10200 \u001b[90m missing        \u001b[0m      0  fertig               5\n",
       "   2 │        10201 \u001b[90m missing        \u001b[0m      0  fertig               5\n",
       "   3 │        10202 \u001b[90m missing        \u001b[0m      0  xx                   5\n",
       "   4 │        10203 \u001b[90m missing        \u001b[0m      0  Dublette             5\n",
       "   5 │        10204 \u001b[90m missing        \u001b[0m      0  fertig               5"
      ]
     },
     "execution_count": 51,
     "metadata": {},
     "output_type": "execute_result"
    }
   ],
   "source": [
    "df_item[201:205, :]"
   ]
  },
  {
   "cell_type": "markdown",
   "metadata": {},
   "source": [
    "`edit_status` bestimmen; Status-Bit in den Eintrag \"fertig\" umwandeln (nur falls die Daten aus der Datenbank eingelesen wurden)"
   ]
  },
  {
   "cell_type": "code",
   "execution_count": 52,
   "metadata": {},
   "outputs": [
    {
     "data": {
      "text/plain": [
       "map_status (generic function with 1 method)"
      ]
     },
     "execution_count": 52,
     "metadata": {},
     "output_type": "execute_result"
    }
   ],
   "source": [
    "function map_status(x)\n",
    "    if typeof(x) == Int\n",
    "        if x == 1\n",
    "            return \"fertig\"\n",
    "        else\n",
    "            return missing\n",
    "        end\n",
    "    elseif getproperty(x, :bits) > 0\n",
    "        return \"fertig\"\n",
    "    else\n",
    "        return missing\n",
    "    end\n",
    "end\n",
    "        "
   ]
  },
  {
   "cell_type": "code",
   "execution_count": 53,
   "metadata": {},
   "outputs": [],
   "source": [
    "transform!(df_item, :fertig => ByRow(map_status) => :edit_status);"
   ]
  },
  {
   "cell_type": "markdown",
   "metadata": {},
   "source": [
    "Feld `is_online` eintragen"
   ]
  },
  {
   "cell_type": "code",
   "execution_count": 54,
   "metadata": {},
   "outputs": [
    {
     "data": {
      "text/plain": [
       "map_online (generic function with 1 method)"
      ]
     },
     "execution_count": 54,
     "metadata": {},
     "output_type": "execute_result"
    }
   ],
   "source": [
    "map_online(x) = (!ismissing(x) && x == \"online\") ? 1 : 0"
   ]
  },
  {
   "cell_type": "code",
   "execution_count": 55,
   "metadata": {},
   "outputs": [],
   "source": [
    "transform!(df_item, :Status => ByRow(map_online) => :is_online);"
   ]
  },
  {
   "cell_type": "code",
   "execution_count": 56,
   "metadata": {},
   "outputs": [],
   "source": [
    "using Dates"
   ]
  },
  {
   "cell_type": "code",
   "execution_count": 57,
   "metadata": {},
   "outputs": [
    {
     "data": {
      "text/plain": [
       "\"2022-05-20 08:30\""
      ]
     },
     "execution_count": 57,
     "metadata": {},
     "output_type": "execute_result"
    }
   ],
   "source": [
    "date_time_now = Dates.format(now(), Dates.dateformat\"yyyy-mm-dd HH:MM\")"
   ]
  },
  {
   "cell_type": "code",
   "execution_count": 58,
   "metadata": {},
   "outputs": [
    {
     "data": {
      "text/plain": [
       "7"
      ]
     },
     "execution_count": 58,
     "metadata": {},
     "output_type": "execute_result"
    }
   ],
   "source": [
    "user_id_georg = 7"
   ]
  },
  {
   "cell_type": "code",
   "execution_count": 59,
   "metadata": {},
   "outputs": [],
   "source": [
    "insertcols!(df_item,\n",
    "    :created_by => user_id_georg,\n",
    "    :date_created => date_time_now,\n",
    "    :changed_by => user_id_georg,\n",
    "    :date_changed => date_time_now\n",
    ");"
   ]
  },
  {
   "cell_type": "code",
   "execution_count": 60,
   "metadata": {},
   "outputs": [
    {
     "data": {
      "text/plain": [
       "make_id_public (generic function with 1 method)"
      ]
     },
     "execution_count": 60,
     "metadata": {},
     "output_type": "execute_result"
    }
   ],
   "source": [
    "function make_id_public(id::Real)\n",
    "    id_public_key = \"Pers-CANON\"\n",
    "    num_id_length = 5\n",
    "    return \"WIAG-\" * id_public_key * \"-\" * lpad(id, num_id_length, '0') * \"-001\"\n",
    "end"
   ]
  },
  {
   "cell_type": "code",
   "execution_count": 61,
   "metadata": {},
   "outputs": [
    {
     "data": {
      "text/plain": [
       "\"WIAG-Pers-CANON-03650-001\""
      ]
     },
     "execution_count": 61,
     "metadata": {},
     "output_type": "execute_result"
    }
   ],
   "source": [
    "make_id_public(3650)"
   ]
  },
  {
   "cell_type": "markdown",
   "metadata": {},
   "source": [
    "Normdatum/öffentliche ID erzeugen\n",
    "\n",
    "*2022-01-13* Verwende die ursprüngliche ID. Damit entspricht die ID der bisher veröffentlichten ID"
   ]
  },
  {
   "cell_type": "code",
   "execution_count": 62,
   "metadata": {},
   "outputs": [],
   "source": [
    "transform!(df_item, :id_in_source => ByRow(make_id_public) => :id_public);"
   ]
  },
  {
   "cell_type": "markdown",
   "metadata": {},
   "source": [
    "`item.is_deleted` ist vorbelegt mit `false`"
   ]
  },
  {
   "cell_type": "markdown",
   "metadata": {},
   "source": [
    "`item.lang` ist vorbelegt mit \"de\""
   ]
  },
  {
   "cell_type": "code",
   "execution_count": 63,
   "metadata": {},
   "outputs": [
    {
     "data": {
      "text/plain": [
       "12-element Vector{String}:\n",
       " \"id_in_source\"\n",
       " \"item_in_source\"\n",
       " \"fertig\"\n",
       " \"Status\"\n",
       " \"item_type_id\"\n",
       " \"edit_status\"\n",
       " \"is_online\"\n",
       " \"created_by\"\n",
       " \"date_created\"\n",
       " \"changed_by\"\n",
       " \"date_changed\"\n",
       " \"id_public\""
      ]
     },
     "execution_count": 63,
     "metadata": {},
     "output_type": "execute_result"
    }
   ],
   "source": [
    "names(df_item)"
   ]
  },
  {
   "cell_type": "code",
   "execution_count": 64,
   "metadata": {},
   "outputs": [
    {
     "data": {
      "text/plain": [
       "3233"
      ]
     },
     "execution_count": 64,
     "metadata": {},
     "output_type": "execute_result"
    }
   ],
   "source": [
    "sum(df_item[!, :is_online])"
   ]
  },
  {
   "cell_type": "code",
   "execution_count": 65,
   "metadata": {},
   "outputs": [
    {
     "data": {
      "text/plain": [
       "8"
      ]
     },
     "execution_count": 65,
     "metadata": {},
     "output_type": "execute_result"
    }
   ],
   "source": [
    "findfirst(df_item[!, :is_online] .== 1)"
   ]
  },
  {
   "cell_type": "code",
   "execution_count": 67,
   "metadata": {},
   "outputs": [
    {
     "data": {
      "text/html": [
       "<div class=\"data-frame\"><p>5 rows × 7 columns</p><table class=\"data-frame\"><thead><tr><th></th><th>id_in_source</th><th>item_type_id</th><th>id_public</th><th>edit_status</th><th>is_online</th><th>date_changed</th><th>changed_by</th></tr><tr><th></th><th title=\"Int64\">Int64</th><th title=\"Int64\">Int64</th><th title=\"String\">String</th><th title=\"Union{Missing, String}\">String?</th><th title=\"Int64\">Int64</th><th title=\"String\">String</th><th title=\"Int64\">Int64</th></tr></thead><tbody><tr><th>1</th><td>10007</td><td>5</td><td>WIAG-Pers-CANON-10007-001</td><td>fertig</td><td>1</td><td>2022-05-20 08:30</td><td>7</td></tr><tr><th>2</th><td>10008</td><td>5</td><td>WIAG-Pers-CANON-10008-001</td><td><em>missing</em></td><td>0</td><td>2022-05-20 08:30</td><td>7</td></tr><tr><th>3</th><td>10009</td><td>5</td><td>WIAG-Pers-CANON-10009-001</td><td>fertig</td><td>0</td><td>2022-05-20 08:30</td><td>7</td></tr><tr><th>4</th><td>10010</td><td>5</td><td>WIAG-Pers-CANON-10010-001</td><td>fertig</td><td>0</td><td>2022-05-20 08:30</td><td>7</td></tr><tr><th>5</th><td>10011</td><td>5</td><td>WIAG-Pers-CANON-10011-001</td><td>fertig</td><td>0</td><td>2022-05-20 08:30</td><td>7</td></tr></tbody></table></div>"
      ],
      "text/latex": [
       "\\begin{tabular}{r|ccccccc}\n",
       "\t& id\\_in\\_source & item\\_type\\_id & id\\_public & edit\\_status & is\\_online & date\\_changed & changed\\_by\\\\\n",
       "\t\\hline\n",
       "\t& Int64 & Int64 & String & String? & Int64 & String & Int64\\\\\n",
       "\t\\hline\n",
       "\t1 & 10007 & 5 & WIAG-Pers-CANON-10007-001 & fertig & 1 & 2022-05-20 08:30 & 7 \\\\\n",
       "\t2 & 10008 & 5 & WIAG-Pers-CANON-10008-001 & \\emph{missing} & 0 & 2022-05-20 08:30 & 7 \\\\\n",
       "\t3 & 10009 & 5 & WIAG-Pers-CANON-10009-001 & fertig & 0 & 2022-05-20 08:30 & 7 \\\\\n",
       "\t4 & 10010 & 5 & WIAG-Pers-CANON-10010-001 & fertig & 0 & 2022-05-20 08:30 & 7 \\\\\n",
       "\t5 & 10011 & 5 & WIAG-Pers-CANON-10011-001 & fertig & 0 & 2022-05-20 08:30 & 7 \\\\\n",
       "\\end{tabular}\n"
      ],
      "text/plain": [
       "\u001b[1m5×7 DataFrame\u001b[0m\n",
       "\u001b[1m Row \u001b[0m│\u001b[1m id_in_source \u001b[0m\u001b[1m item_type_id \u001b[0m\u001b[1m id_public                 \u001b[0m\u001b[1m edit_status \u001b[0m\u001b[1m is_online \u001b[0m\u001b[1m date_changed     \u001b[0m\u001b[1m changed_by \u001b[0m\n",
       "\u001b[1m     \u001b[0m│\u001b[90m Int64        \u001b[0m\u001b[90m Int64        \u001b[0m\u001b[90m String                    \u001b[0m\u001b[90m String?     \u001b[0m\u001b[90m Int64     \u001b[0m\u001b[90m String           \u001b[0m\u001b[90m Int64      \u001b[0m\n",
       "─────┼─────────────────────────────────────────────────────────────────────────────────────────────────────────────\n",
       "   1 │        10007             5  WIAG-Pers-CANON-10007-001  fertig               1  2022-05-20 08:30           7\n",
       "   2 │        10008             5  WIAG-Pers-CANON-10008-001 \u001b[90m missing     \u001b[0m         0  2022-05-20 08:30           7\n",
       "   3 │        10009             5  WIAG-Pers-CANON-10009-001  fertig               0  2022-05-20 08:30           7\n",
       "   4 │        10010             5  WIAG-Pers-CANON-10010-001  fertig               0  2022-05-20 08:30           7\n",
       "   5 │        10011             5  WIAG-Pers-CANON-10011-001  fertig               0  2022-05-20 08:30           7"
      ]
     },
     "execution_count": 67,
     "metadata": {},
     "output_type": "execute_result"
    }
   ],
   "source": [
    "df_item[8:12, [:id_in_source, :item_type_id, :id_public, :edit_status, :is_online, :date_changed, :changed_by]]"
   ]
  },
  {
   "cell_type": "markdown",
   "metadata": {},
   "source": [
    "Bestehende Einträge löschen (evtl. vorher die von `item` abhängigen Tabellen löschen)"
   ]
  },
  {
   "cell_type": "code",
   "execution_count": 68,
   "metadata": {},
   "outputs": [
    {
     "data": {
      "text/plain": [
       "MySQL.TextCursor{true}(MySQL.Connection(host=\"127.0.0.1\", user=\"georg\", port=\"3306\", db=\"wiag2\"), \"DELETE FROM item WHERE item_type_id = 5\", 0, -1, 22863, MySQL.API.MYSQL_RES(Ptr{Nothing} @0x0000000000000000), Symbol[], Type[], Dict{Symbol, Int64}(), 0, 1, false)"
      ]
     },
     "execution_count": 68,
     "metadata": {},
     "output_type": "execute_result"
    }
   ],
   "source": [
    "table_name = \"item\";\n",
    "sql = \"DELETE FROM $(table_name) WHERE item_type_id = $(item_type_id)\"\n",
    "DBInterface.execute(Wds.dbwiag, sql)"
   ]
  },
  {
   "cell_type": "code",
   "execution_count": 69,
   "metadata": {},
   "outputs": [
    {
     "data": {
      "text/plain": [
       "2-element Vector{Symbol}:\n",
       " :fertig\n",
       " :Status"
      ]
     },
     "execution_count": 69,
     "metadata": {},
     "output_type": "execute_result"
    }
   ],
   "source": [
    "exclude_cols = [\n",
    "    :fertig,\n",
    "    :Status,\n",
    "]"
   ]
  },
  {
   "cell_type": "code",
   "execution_count": 70,
   "metadata": {},
   "outputs": [
    {
     "name": "stderr",
     "output_type": "stream",
     "text": [
      "┌ Info: 10000\n",
      "└ @ WiagDataSetup C:\\Users\\georg\\Documents\\projekte\\WiagDataSetup.jl\\src\\WiagDataSetup.jl:1186\n",
      "┌ Info: 20000\n",
      "└ @ WiagDataSetup C:\\Users\\georg\\Documents\\projekte\\WiagDataSetup.jl\\src\\WiagDataSetup.jl:1186\n",
      "┌ Info: Rows inserted: 22990\n",
      "└ @ WiagDataSetup C:\\Users\\georg\\Documents\\projekte\\WiagDataSetup.jl\\src\\WiagDataSetup.jl:1209\n"
     ]
    },
    {
     "data": {
      "text/plain": [
       "22990"
      ]
     },
     "execution_count": 70,
     "metadata": {},
     "output_type": "execute_result"
    }
   ],
   "source": [
    "table_name = \"item\";\n",
    "Wds.filltable!(table_name, select(df_item, Not(exclude_cols)), clear_table = false)"
   ]
  },
  {
   "cell_type": "markdown",
   "metadata": {},
   "source": [
    "### Daten eintragen\n",
    "\n",
    "IDs auslesen"
   ]
  },
  {
   "cell_type": "code",
   "execution_count": 71,
   "metadata": {},
   "outputs": [],
   "source": [
    "sql = \"SELECT id, id_in_source FROM ITEM where item_type_id = ($item_type_id)\"\n",
    "df_idx = DBInterface.execute(Wds.dbwiag, sql) |> DataFrame;"
   ]
  },
  {
   "cell_type": "markdown",
   "metadata": {},
   "source": [
    "Spalte für die Zusammenführung befüllen (Typ: String!)"
   ]
  },
  {
   "cell_type": "code",
   "execution_count": 72,
   "metadata": {},
   "outputs": [],
   "source": [
    "transform!(df_cn, :ID_Domherr => ByRow(string) => :id_in_source);"
   ]
  },
  {
   "cell_type": "code",
   "execution_count": 73,
   "metadata": {},
   "outputs": [],
   "source": [
    "df_cn_db = innerjoin(df_idx, df_cn, on = :id_in_source);"
   ]
  },
  {
   "cell_type": "markdown",
   "metadata": {},
   "source": [
    "Daten eintragen"
   ]
  },
  {
   "cell_type": "markdown",
   "metadata": {},
   "source": [
    "Wir übernehmen alle Einträge unabhängig vom Status, da die Daten später Grundlage für die Redaktion sind. Einträge ohne Vor- und Familiennamen werden gelöscht."
   ]
  },
  {
   "cell_type": "code",
   "execution_count": 74,
   "metadata": {},
   "outputs": [
    {
     "data": {
      "text/plain": [
       "one_not_missing (generic function with 1 method)"
      ]
     },
     "execution_count": 74,
     "metadata": {},
     "output_type": "execute_result"
    }
   ],
   "source": [
    "one_not_missing(x, y) = !(ismissing(x) && ismissing(y))"
   ]
  },
  {
   "cell_type": "code",
   "execution_count": 75,
   "metadata": {},
   "outputs": [
    {
     "data": {
      "text/plain": [
       "22990"
      ]
     },
     "execution_count": 75,
     "metadata": {},
     "output_type": "execute_result"
    }
   ],
   "source": [
    "size(df_cn_db, 1)"
   ]
  },
  {
   "cell_type": "code",
   "execution_count": 76,
   "metadata": {},
   "outputs": [],
   "source": [
    "df_cn_db = subset(df_cn_db, [:Vorname, :Familienname] => ByRow(one_not_missing));"
   ]
  },
  {
   "cell_type": "code",
   "execution_count": 77,
   "metadata": {},
   "outputs": [
    {
     "data": {
      "text/plain": [
       "22938"
      ]
     },
     "execution_count": 77,
     "metadata": {},
     "output_type": "execute_result"
    }
   ],
   "source": [
    "size(df_cn_db, 1)"
   ]
  },
  {
   "cell_type": "markdown",
   "metadata": {},
   "source": [
    "Jahreszahlen ermitteln"
   ]
  },
  {
   "cell_type": "code",
   "execution_count": 78,
   "metadata": {},
   "outputs": [
    {
     "data": {
      "text/plain": [
       "parse_date_birth (generic function with 1 method)"
      ]
     },
     "execution_count": 78,
     "metadata": {},
     "output_type": "execute_result"
    }
   ],
   "source": [
    "parse_date_birth(s) = Wds.parsemaybe(s, :lower)"
   ]
  },
  {
   "cell_type": "code",
   "execution_count": 79,
   "metadata": {},
   "outputs": [
    {
     "data": {
      "text/plain": [
       "parse_date_death (generic function with 1 method)"
      ]
     },
     "execution_count": 79,
     "metadata": {},
     "output_type": "execute_result"
    }
   ],
   "source": [
    "parse_date_death(s) = Wds.parsemaybe(s, :upper)"
   ]
  },
  {
   "cell_type": "code",
   "execution_count": 80,
   "metadata": {},
   "outputs": [
    {
     "name": "stderr",
     "output_type": "stream",
     "text": [
      "┌ Warning: Could not parse \n",
      "│   s = Dr. theol.\n",
      "└ @ WiagDataSetup C:\\Users\\georg\\Documents\\projekte\\WiagDataSetup.jl\\src\\WiagDataSetup.jl:1118\n"
     ]
    }
   ],
   "source": [
    "transform!(df_cn_db, :Geburtsdatum => ByRow(parse_date_birth) => :num_date_birth);"
   ]
  },
  {
   "cell_type": "code",
   "execution_count": 81,
   "metadata": {},
   "outputs": [
    {
     "name": "stderr",
     "output_type": "stream",
     "text": [
      "┌ Warning: Could only find year in \n",
      "│   s = Ende 1322?\n",
      "└ @ WiagDataSetup C:\\Users\\georg\\Documents\\projekte\\WiagDataSetup.jl\\src\\WiagDataSetup.jl:1113\n",
      "┌ Warning: Could only find year in \n",
      "│   s = vor Febr. 1503\n",
      "└ @ WiagDataSetup C:\\Users\\georg\\Documents\\projekte\\WiagDataSetup.jl\\src\\WiagDataSetup.jl:1113\n",
      "┌ Warning: Could only find year in \n",
      "│   s = 3. Juni 1511\n",
      "└ @ WiagDataSetup C:\\Users\\georg\\Documents\\projekte\\WiagDataSetup.jl\\src\\WiagDataSetup.jl:1113\n",
      "┌ Warning: Could only find year in \n",
      "│   s = 2. Febr. 1273\n",
      "└ @ WiagDataSetup C:\\Users\\georg\\Documents\\projekte\\WiagDataSetup.jl\\src\\WiagDataSetup.jl:1113\n",
      "┌ Warning: Could only find year in \n",
      "│   s = 8.10.1160\n",
      "└ @ WiagDataSetup C:\\Users\\georg\\Documents\\projekte\\WiagDataSetup.jl\\src\\WiagDataSetup.jl:1113\n",
      "┌ Warning: Could not parse \n",
      "│   s = 3. Dez.\n",
      "└ @ WiagDataSetup C:\\Users\\georg\\Documents\\projekte\\WiagDataSetup.jl\\src\\WiagDataSetup.jl:1118\n",
      "┌ Warning: Could not parse \n",
      "│   s = 5. Okt.\n",
      "└ @ WiagDataSetup C:\\Users\\georg\\Documents\\projekte\\WiagDataSetup.jl\\src\\WiagDataSetup.jl:1118\n",
      "┌ Warning: Could not parse \n",
      "│   s = 31. Okt.\n",
      "└ @ WiagDataSetup C:\\Users\\georg\\Documents\\projekte\\WiagDataSetup.jl\\src\\WiagDataSetup.jl:1118\n",
      "┌ Warning: Could not parse \n",
      "│   s = 18. Nov.\n",
      "└ @ WiagDataSetup C:\\Users\\georg\\Documents\\projekte\\WiagDataSetup.jl\\src\\WiagDataSetup.jl:1118\n",
      "┌ Warning: Could not parse \n",
      "│   s = 13. März?\n",
      "└ @ WiagDataSetup C:\\Users\\georg\\Documents\\projekte\\WiagDataSetup.jl\\src\\WiagDataSetup.jl:1118\n",
      "┌ Warning: Could not parse \n",
      "│   s = 24.Jul\n",
      "└ @ WiagDataSetup C:\\Users\\georg\\Documents\\projekte\\WiagDataSetup.jl\\src\\WiagDataSetup.jl:1118\n",
      "┌ Warning: Could not parse \n",
      "│   s = 18. Dez.\n",
      "└ @ WiagDataSetup C:\\Users\\georg\\Documents\\projekte\\WiagDataSetup.jl\\src\\WiagDataSetup.jl:1118\n",
      "┌ Warning: Could not parse \n",
      "│   s = 05.Jul\n",
      "└ @ WiagDataSetup C:\\Users\\georg\\Documents\\projekte\\WiagDataSetup.jl\\src\\WiagDataSetup.jl:1118\n",
      "┌ Warning: Could not parse \n",
      "│   s = 18.Mai\n",
      "└ @ WiagDataSetup C:\\Users\\georg\\Documents\\projekte\\WiagDataSetup.jl\\src\\WiagDataSetup.jl:1118\n",
      "┌ Warning: Could not parse \n",
      "│   s = 29. Nov.\n",
      "└ @ WiagDataSetup C:\\Users\\georg\\Documents\\projekte\\WiagDataSetup.jl\\src\\WiagDataSetup.jl:1118\n",
      "┌ Warning: Could only find year in \n",
      "│   s = 8. Jan. 1516\n",
      "└ @ WiagDataSetup C:\\Users\\georg\\Documents\\projekte\\WiagDataSetup.jl\\src\\WiagDataSetup.jl:1113\n",
      "┌ Warning: Could not parse \n",
      "│   s = 05.Mrz\n",
      "└ @ WiagDataSetup C:\\Users\\georg\\Documents\\projekte\\WiagDataSetup.jl\\src\\WiagDataSetup.jl:1118\n",
      "┌ Warning: Could not parse \n",
      "│   s = 12. Okt.\n",
      "└ @ WiagDataSetup C:\\Users\\georg\\Documents\\projekte\\WiagDataSetup.jl\\src\\WiagDataSetup.jl:1118\n",
      "┌ Warning: Could only find year in \n",
      "│   s = 1. Sept. 1535\n",
      "└ @ WiagDataSetup C:\\Users\\georg\\Documents\\projekte\\WiagDataSetup.jl\\src\\WiagDataSetup.jl:1113\n",
      "┌ Warning: Could not parse \n",
      "│   s = 19.Mrz\n",
      "└ @ WiagDataSetup C:\\Users\\georg\\Documents\\projekte\\WiagDataSetup.jl\\src\\WiagDataSetup.jl:1118\n",
      "┌ Warning: Could not parse \n",
      "│   s = 11. Jan.\n",
      "└ @ WiagDataSetup C:\\Users\\georg\\Documents\\projekte\\WiagDataSetup.jl\\src\\WiagDataSetup.jl:1118\n",
      "┌ Warning: Could not parse \n",
      "│   s = 14.Jul\n",
      "└ @ WiagDataSetup C:\\Users\\georg\\Documents\\projekte\\WiagDataSetup.jl\\src\\WiagDataSetup.jl:1118\n",
      "┌ Warning: Could not parse \n",
      "│   s = 3. Dez.\n",
      "└ @ WiagDataSetup C:\\Users\\georg\\Documents\\projekte\\WiagDataSetup.jl\\src\\WiagDataSetup.jl:1118\n",
      "┌ Warning: Could only find year in \n",
      "│   s = 13. Oktober 1589\n",
      "└ @ WiagDataSetup C:\\Users\\georg\\Documents\\projekte\\WiagDataSetup.jl\\src\\WiagDataSetup.jl:1113\n",
      "┌ Warning: Could not parse \n",
      "│   s = 25.Apr\n",
      "└ @ WiagDataSetup C:\\Users\\georg\\Documents\\projekte\\WiagDataSetup.jl\\src\\WiagDataSetup.jl:1118\n",
      "┌ Warning: Could not parse \n",
      "│   s = 02.Aug\n",
      "└ @ WiagDataSetup C:\\Users\\georg\\Documents\\projekte\\WiagDataSetup.jl\\src\\WiagDataSetup.jl:1118\n",
      "┌ Warning: Could only find year in \n",
      "│   s = 8. Sept. 1539\n",
      "└ @ WiagDataSetup C:\\Users\\georg\\Documents\\projekte\\WiagDataSetup.jl\\src\\WiagDataSetup.jl:1113\n"
     ]
    }
   ],
   "source": [
    "transform!(df_cn_db, :Sterbedatum => ByRow(parse_date_death) => :num_date_death);"
   ]
  },
  {
   "cell_type": "markdown",
   "metadata": {},
   "source": [
    "Orden zuordnen"
   ]
  },
  {
   "cell_type": "code",
   "execution_count": 82,
   "metadata": {},
   "outputs": [],
   "source": [
    "sql = \"SELECT id as religious_order_id, abbreviation FROM religious_order\";\n",
    "df_rel_order = Wds.sql_df(sql);"
   ]
  },
  {
   "cell_type": "code",
   "execution_count": 83,
   "metadata": {},
   "outputs": [],
   "source": [
    "df_cn_db = leftjoin(df_cn_db, df_rel_order, on = :Orden => :abbreviation, matchmissing = :notequal);"
   ]
  },
  {
   "cell_type": "code",
   "execution_count": 84,
   "metadata": {},
   "outputs": [
    {
     "data": {
      "text/plain": [
       "a_not_b (generic function with 1 method)"
      ]
     },
     "execution_count": 84,
     "metadata": {},
     "output_type": "execute_result"
    }
   ],
   "source": [
    "a_not_b(a, b) = !ismissing(a) && ismissing(b)"
   ]
  },
  {
   "cell_type": "code",
   "execution_count": 85,
   "metadata": {},
   "outputs": [],
   "source": [
    "df_cn_no_match = subset(df_cn_db, [:Orden, :religious_order_id] => ByRow(a_not_b));"
   ]
  },
  {
   "cell_type": "code",
   "execution_count": 86,
   "metadata": {},
   "outputs": [
    {
     "data": {
      "text/plain": [
       "(0, 53)"
      ]
     },
     "execution_count": 86,
     "metadata": {},
     "output_type": "execute_result"
    }
   ],
   "source": [
    "size(df_cn_no_match)"
   ]
  },
  {
   "cell_type": "markdown",
   "metadata": {},
   "source": [
    "Felder auswählen"
   ]
  },
  {
   "cell_type": "code",
   "execution_count": 89,
   "metadata": {},
   "outputs": [],
   "source": [
    "insertcols!(df_cn_db,\n",
    "    :item_type_id => item_type_id,\n",
    ");"
   ]
  },
  {
   "cell_type": "code",
   "execution_count": 90,
   "metadata": {
    "scrolled": true
   },
   "outputs": [
    {
     "data": {
      "text/plain": [
       "11-element Vector{Pair{Symbol, Symbol}}:\n",
       "                 :id => :id\n",
       "       :item_type_id => :item_type_id\n",
       "            :Praefix => :prefixname\n",
       "            :Vorname => :givenname\n",
       "       :Familienname => :familyname\n",
       "        :Sterbedatum => :date_death\n",
       "       :Geburtsdatum => :date_birth\n",
       "      :Bemerkung_Red => :comment\n",
       "     :Kommentar_Name => :note_name\n",
       "   :Kommentar_Person => :note_person\n",
       " :religious_order_id => :religious_order_id"
      ]
     },
     "execution_count": 90,
     "metadata": {},
     "output_type": "execute_result"
    }
   ],
   "source": [
    "columns = [\n",
    "    :id => :id,\n",
    "    :item_type_id => :item_type_id,\n",
    "    :Praefix => :prefixname,\n",
    "    :Vorname => :givenname,\n",
    "    :Familienname => :familyname,\n",
    "    :Sterbedatum => :date_death,\n",
    "    :Geburtsdatum => :date_birth,\n",
    "    :Bemerkung_Red => :comment,\n",
    "    :Kommentar_Name => :note_name,\n",
    "    :Kommentar_Person => :note_person,\n",
    "    :religious_order_id => :religious_order_id,\n",
    "]"
   ]
  },
  {
   "cell_type": "code",
   "execution_count": 91,
   "metadata": {},
   "outputs": [
    {
     "name": "stderr",
     "output_type": "stream",
     "text": [
      "┌ Info: 10000\n",
      "└ @ WiagDataSetup C:\\Users\\georg\\Documents\\projekte\\WiagDataSetup.jl\\src\\WiagDataSetup.jl:1186\n",
      "┌ Info: 20000\n",
      "└ @ WiagDataSetup C:\\Users\\georg\\Documents\\projekte\\WiagDataSetup.jl\\src\\WiagDataSetup.jl:1186\n",
      "┌ Info: Rows inserted: 22938\n",
      "└ @ WiagDataSetup C:\\Users\\georg\\Documents\\projekte\\WiagDataSetup.jl\\src\\WiagDataSetup.jl:1209\n"
     ]
    },
    {
     "data": {
      "text/plain": [
       "22938"
      ]
     },
     "execution_count": 91,
     "metadata": {},
     "output_type": "execute_result"
    }
   ],
   "source": [
    "Wds.filltable!(\"person\", select(df_cn_db, columns); clear_table=false)"
   ]
  },
  {
   "cell_type": "markdown",
   "metadata": {},
   "source": [
    "*2022-05-12* Finde überlangen Eintrag in `Bemerkung_Red`"
   ]
  },
  {
   "cell_type": "code",
   "execution_count": 113,
   "metadata": {},
   "outputs": [],
   "source": [
    "df_cn_db_Bemerkung_Red = dropmissing(df_cn_db, :Bemerkung_Red);"
   ]
  },
  {
   "cell_type": "code",
   "execution_count": 114,
   "metadata": {},
   "outputs": [
    {
     "data": {
      "text/plain": [
       "(3843, 54)"
      ]
     },
     "execution_count": 114,
     "metadata": {},
     "output_type": "execute_result"
    }
   ],
   "source": [
    "size(df_cn_db_Bemerkung_Red)"
   ]
  },
  {
   "cell_type": "code",
   "execution_count": 116,
   "metadata": {},
   "outputs": [
    {
     "data": {
      "text/html": [
       "<div class=\"data-frame\"><p>5 rows × 4 columns</p><table class=\"data-frame\"><thead><tr><th></th><th>id</th><th>Vorname</th><th>Familienname</th><th>Bemerkung_Red</th></tr><tr><th></th><th title=\"Int32\">Int32</th><th title=\"Union{Missing, String}\">String?</th><th title=\"Union{Missing, String}\">String?</th><th title=\"String\">String</th></tr></thead><tbody><tr><th>1</th><td>226452</td><td>Wilhelm Philipp Jos</td><td>Waldenfels</td><td>Vorname unvollständig; Joseph?</td></tr><tr><th>2</th><td>226434</td><td>Joseph Andreas Rich</td><td>Speth von Zwiefalten</td><td>Vorname unvollständig</td></tr><tr><th>3</th><td>226427</td><td>Heinrich Hartard</td><td>Metternich</td><td>laut Hersche auch Domherr in Trier, in der entsprechenden Liste aber nicht aufgeführt (Amtsbeginn liegt wohl vor Untersuchungszeitraum)</td></tr><tr><th>4</th><td>226483</td><td>Hugo Eberhard</td><td>Cratz von Scharffenstein</td><td>http://www.westfaelische-geschichte.de/med1277; http://www.westfaelische-geschichte.de/per5516</td></tr><tr><th>5</th><td>226472</td><td>Johann</td><td>Heppenheim genannt Saal</td><td>Heinrich SCHROHE, Johann von Heppenheim, genannt von Saal. Ein Mainzer Domherr des 17. Jahrhunderts, in: Studien aus Kunst und Geschichte. Friedrich Schneider zum siebzigsten Geburtstage gewidmet von seinen Freunden und Verehrern, Freiburg i. Br. [u.a.] 1906, S. 141–158.</td></tr></tbody></table></div>"
      ],
      "text/latex": [
       "\\begin{tabular}{r|cccc}\n",
       "\t& id & Vorname & Familienname & Bemerkung\\_Red\\\\\n",
       "\t\\hline\n",
       "\t& Int32 & String? & String? & String\\\\\n",
       "\t\\hline\n",
       "\t1 & 226452 & Wilhelm Philipp Jos & Waldenfels & Vorname unvollständig; Joseph? \\\\\n",
       "\t2 & 226434 & Joseph Andreas Rich & Speth von Zwiefalten & Vorname unvollständig \\\\\n",
       "\t3 & 226427 & Heinrich Hartard & Metternich & laut Hersche auch Domherr in Trier, in der entsprechenden Liste aber nicht aufgeführt (Amtsbeginn liegt wohl vor Untersuchungszeitraum) \\\\\n",
       "\t4 & 226483 & Hugo Eberhard & Cratz von Scharffenstein & http://www.westfaelische-geschichte.de/med1277; http://www.westfaelische-geschichte.de/per5516 \\\\\n",
       "\t5 & 226472 & Johann & Heppenheim genannt Saal & Heinrich SCHROHE, Johann von Heppenheim, genannt von Saal. Ein Mainzer Domherr des 17. Jahrhunderts, in: Studien aus Kunst und Geschichte. Friedrich Schneider zum siebzigsten Geburtstage gewidmet von seinen Freunden und Verehrern, Freiburg i. Br. [u.a.] 1906, S. 141–158. \\\\\n",
       "\\end{tabular}\n"
      ],
      "text/plain": [
       "\u001b[1m5×4 DataFrame\u001b[0m\n",
       "\u001b[1m Row \u001b[0m│\u001b[1m id     \u001b[0m\u001b[1m Vorname             \u001b[0m\u001b[1m Familienname             \u001b[0m\u001b[1m Bemerkung_Red                     \u001b[0m\n",
       "\u001b[1m     \u001b[0m│\u001b[90m Int32  \u001b[0m\u001b[90m String?             \u001b[0m\u001b[90m String?                  \u001b[0m\u001b[90m String                            \u001b[0m\n",
       "─────┼──────────────────────────────────────────────────────────────────────────────────────────\n",
       "   1 │ 226452  Wilhelm Philipp Jos  Waldenfels                Vorname unvollständig; Joseph?\n",
       "   2 │ 226434  Joseph Andreas Rich  Speth von Zwiefalten      Vorname unvollständig\n",
       "   3 │ 226427  Heinrich Hartard     Metternich                laut Hersche auch Domherr in Tri…\n",
       "   4 │ 226483  Hugo Eberhard        Cratz von Scharffenstein  http://www.westfaelische-geschic…\n",
       "   5 │ 226472  Johann               Heppenheim genannt Saal   Heinrich SCHROHE, Johann von Hep…"
      ]
     },
     "execution_count": 116,
     "metadata": {},
     "output_type": "execute_result"
    }
   ],
   "source": [
    "df_cn_db_Bemerkung_Red[16:20, [:id, :Vorname, :Familienname, :Bemerkung_Red]]"
   ]
  },
  {
   "cell_type": "code",
   "execution_count": 118,
   "metadata": {},
   "outputs": [],
   "source": [
    "df_cn_db.len_bem = (x -> ismissing(x) ? 0 : length(x)).(df_cn_db.Bemerkung_Red);"
   ]
  },
  {
   "cell_type": "code",
   "execution_count": 119,
   "metadata": {},
   "outputs": [
    {
     "data": {
      "text/plain": [
       "(1450, 22362)"
      ]
     },
     "execution_count": 119,
     "metadata": {},
     "output_type": "execute_result"
    }
   ],
   "source": [
    "findmax(identity, df_cn_db.len_bem)"
   ]
  },
  {
   "cell_type": "code",
   "execution_count": 124,
   "metadata": {},
   "outputs": [
    {
     "data": {
      "text/plain": [
       "(22812, 54)"
      ]
     },
     "execution_count": 124,
     "metadata": {},
     "output_type": "execute_result"
    }
   ],
   "source": [
    "size(df_cn_db)"
   ]
  },
  {
   "cell_type": "code",
   "execution_count": 126,
   "metadata": {},
   "outputs": [
    {
     "data": {
      "text/html": [
       "<p>DataFrameRow (5 columns)</p><div class=\"data-frame\"><table class=\"data-frame\"><thead><tr><th></th><th>id</th><th>Vorname</th><th>Familienname</th><th>Bemerkung_Red</th></tr><tr><th></th><th title=\"Int32\">Int32</th><th title=\"Union{Missing, String}\">String?</th><th title=\"Union{Missing, String}\">String?</th><th title=\"Union{Missing, String}\">String?</th></tr></thead><tbody><tr><th>22362</th><td>248684</td><td>Balthasar</td><td>Neuenstadt</td><td>folgende Links evtl. löschen (? dann auch entsprechende Nummer aus dem Feld ID_Quelle rausnehmen): \\r\\n- &quot;Schlußsteine des Neuen Kapitelsaals, Halberstädter Dom, 1514-1516&quot; = laut Kommentar ist eines der Wappen wahrscheinlich Balthasar von Neuenstadt zuzuordnen\\r\\n- die beiden Glocken tragen eine Inschrift mit der Bitte um Fürbitte für Balthasar von Neuenstadt, er gilt auch als ihr Stifter (das scheint aber nicht sicher zu sein)\\r\\n- &quot;Tafelbild mit der Darstellung des Heiligen Christophorus, Halberstädter Dom, Neuer Kapitelsaal, um 1510&quot; = laut Anm. 4 besaß Balthasar von Neuenstadt wohl eine Tüchleinmalerei mit der Darstellung des Heiligen Christophorus (ist mit dem Tafelbild aber wohl nicht in Verbindung zu bringen)\\r\\n-&quot;Lettnerhalle, Halberstädter Dom, Anfang 16. Jahrhundert, 1510&quot; = Objekt hat keinen Bezug zu Balthasar von Neuenstadt; dieser soll laut Kommentar lediglich 1484 die Kommende der Heiligen Cosmas und Damian eingerichtet haben\\r\\n- &quot;Wandteppich, sog. Marienteppich, Halberstädter Dom, Teppichsaal, Anfang 16. Jahrhundert&quot; = im Kommentar steht: &quot;Die Vermutung Gynz-Rekowskis, daß der Teppich eine Stiftung des Halberstädter Dompropstes Balthasar von Neuenstadt für die von ihm erbaute Marienkapelle im Kreuzgang gewesen sei, ist nachzuvollziehen.&quot;\\r\\n- &quot;Gewölbeschlußstein, Halberstädter Dom, 1486&quot; = im Kommentar des DIO-Eintrags wird auch ein anderer Gewölbeschlußstein mit dem Wappen des Dompropstes Balthasar von Neuenstadt erwähnt</td></tr></tbody></table></div>"
      ],
      "text/latex": [
       "\\begin{tabular}{r|ccccc}\n",
       "\t& id & Vorname & Familienname & Bemerkung\\_Red & \\\\\n",
       "\t\\hline\n",
       "\t& Int32 & String? & String? & String? & \\\\\n",
       "\t\\hline\n",
       "\t22362 & 248684 & Balthasar & Neuenstadt & folgende Links evtl. löschen (? dann auch entsprechende Nummer aus dem Feld ID\\_Quelle rausnehmen): \\textbackslash{}r\\textbackslash{}n- \"Schlußsteine des Neuen Kapitelsaals, Halberstädter Dom, 1514-1516\" = laut Kommentar ist eines der Wappen wahrscheinlich Balthasar von Neuenstadt zuzuordnen\\textbackslash{}r\\textbackslash{}n- die beiden Glocken tragen eine Inschrift mit der Bitte um Fürbitte für Balthasar von Neuenstadt, er gilt auch als ihr Stifter (das scheint aber nicht sicher zu sein)\\textbackslash{}r\\textbackslash{}n- \"Tafelbild mit der Darstellung des Heiligen Christophorus, Halberstädter Dom, Neuer Kapitelsaal, um 1510\" = laut Anm. 4 besaß Balthasar von Neuenstadt wohl eine Tüchleinmalerei mit der Darstellung des Heiligen Christophorus (ist mit dem Tafelbild aber wohl nicht in Verbindung zu bringen)\\textbackslash{}r\\textbackslash{}n-\"Lettnerhalle, Halberstädter Dom, Anfang 16. Jahrhundert, 1510\" = Objekt hat keinen Bezug zu Balthasar von Neuenstadt; dieser soll laut Kommentar lediglich 1484 die Kommende der Heiligen Cosmas und Damian eingerichtet haben\\textbackslash{}r\\textbackslash{}n- \"Wandteppich, sog. Marienteppich, Halberstädter Dom, Teppichsaal, Anfang 16. Jahrhundert\" = im Kommentar steht: \"Die Vermutung Gynz-Rekowskis, daß der Teppich eine Stiftung des Halberstädter Dompropstes Balthasar von Neuenstadt für die von ihm erbaute Marienkapelle im Kreuzgang gewesen sei, ist nachzuvollziehen.\"\\textbackslash{}r\\textbackslash{}n- \"Gewölbeschlußstein, Halberstädter Dom, 1486\" = im Kommentar des DIO-Eintrags wird auch ein anderer Gewölbeschlußstein mit dem Wappen des Dompropstes Balthasar von Neuenstadt erwähnt & $\\dots$ \\\\\n",
       "\\end{tabular}\n"
      ],
      "text/plain": [
       "\u001b[1mDataFrameRow\u001b[0m\n",
       "\u001b[1m   Row \u001b[0m│\u001b[1m id     \u001b[0m\u001b[1m Vorname   \u001b[0m\u001b[1m Familienname \u001b[0m\u001b[1m Bemerkung_Red                     \u001b[0m\n",
       "\u001b[1m       \u001b[0m│\u001b[90m Int32  \u001b[0m\u001b[90m String?   \u001b[0m\u001b[90m String?      \u001b[0m\u001b[90m String?                           \u001b[0m\n",
       "───────┼───────────────────────────────────────────────────────────────────────\n",
       " 22362 │ 248684  Balthasar  Neuenstadt    folgende Links evtl. löschen (? …\n",
       "\u001b[36m                                                               1 column omitted\u001b[0m"
      ]
     },
     "execution_count": 126,
     "metadata": {},
     "output_type": "execute_result"
    }
   ],
   "source": [
    "df_cn_db[22362, [:id, :Vorname, :Familienname, :Bemerkung_Red, :len_bem]]"
   ]
  },
  {
   "cell_type": "markdown",
   "metadata": {},
   "source": [
    "### Orden eintragen\n",
    "*2021-10-14* Die Ordenstabelle ist vorläufig und basiert auf den Ordensangaben für Bischöfe  \n",
    "*2022-01-13* Unter den Domherren gibt es nur zwei mit einer Ordensangabe"
   ]
  },
  {
   "cell_type": "markdown",
   "metadata": {},
   "source": [
    "ID der Orden in Personentabelle eintragen"
   ]
  },
  {
   "cell_type": "code",
   "execution_count": 131,
   "metadata": {},
   "outputs": [],
   "source": [
    "df_cn_order = dropmissing(df_cn_db, :Orden);"
   ]
  },
  {
   "cell_type": "code",
   "execution_count": 132,
   "metadata": {},
   "outputs": [
    {
     "data": {
      "text/plain": [
       "(5, 54)"
      ]
     },
     "execution_count": 132,
     "metadata": {},
     "output_type": "execute_result"
    }
   ],
   "source": [
    "size(df_cn_order)"
   ]
  },
  {
   "cell_type": "code",
   "execution_count": 133,
   "metadata": {},
   "outputs": [],
   "source": [
    "df_cn_order[!, :join_field] .= lowercase.(df_cn_order[!, :Orden]);"
   ]
  },
  {
   "cell_type": "code",
   "execution_count": 134,
   "metadata": {},
   "outputs": [],
   "source": [
    "sql = \"SELECT * FROM religious_order WHERE abbreviation IS NOT NULL\";\n",
    "df_order_db = Wds.sql_df(sql);"
   ]
  },
  {
   "cell_type": "code",
   "execution_count": 135,
   "metadata": {},
   "outputs": [],
   "source": [
    "df_order_db[!, :join_field] .= lowercase.(df_order_db[!, :abbreviation]);"
   ]
  },
  {
   "cell_type": "code",
   "execution_count": 136,
   "metadata": {},
   "outputs": [],
   "source": [
    "df_cn_order_id = leftjoin(df_cn_order, \n",
    "    select(df_order_db, :id => :religious_order_id, :join_field), \n",
    "    on = :join_field);"
   ]
  },
  {
   "cell_type": "code",
   "execution_count": 137,
   "metadata": {},
   "outputs": [
    {
     "data": {
      "text/plain": [
       "(5, 56)"
      ]
     },
     "execution_count": 137,
     "metadata": {},
     "output_type": "execute_result"
    }
   ],
   "source": [
    "size(df_cn_order_id)"
   ]
  },
  {
   "cell_type": "markdown",
   "metadata": {},
   "source": [
    "Tabelle `person` aktualisieren"
   ]
  },
  {
   "cell_type": "code",
   "execution_count": 138,
   "metadata": {},
   "outputs": [],
   "source": [
    "filename = joinpath(out_path, \"cn_person_update.sql\");\n",
    "table_name = \"person\";\n",
    "Wds.update_sql(filename, table_name, select(df_cn_order_id, :id, :religious_order_id), on = :id);"
   ]
  },
  {
   "cell_type": "markdown",
   "metadata": {},
   "source": [
    "SQL\n",
    "```sql\n",
    "source C:\\Users\\georg\\Documents\\projekte-doc\\WIAGweb2\\data_sql\\cn_person_update.sql\n",
    "```"
   ]
  },
  {
   "cell_type": "markdown",
   "metadata": {},
   "source": [
    "### Referenzwerke eintragen"
   ]
  },
  {
   "cell_type": "code",
   "execution_count": 92,
   "metadata": {},
   "outputs": [
    {
     "data": {
      "text/plain": [
       "6-element Vector{Pair{Symbol, Symbol}}:\n",
       "           :id => :item_id\n",
       " :Seite_Quelle => :page\n",
       "    :ID_Quelle => :id_in_reference\n",
       "       :Quelle => :reference_id\n",
       "  :Merged_Into => :merged_into_id\n",
       "       :Status => :status"
      ]
     },
     "execution_count": 92,
     "metadata": {},
     "output_type": "execute_result"
    }
   ],
   "source": [
    "columns = [\n",
    "    :id => :item_id,\n",
    "    :Seite_Quelle => :page,\n",
    "    :ID_Quelle => :id_in_reference,\n",
    "    :Quelle => :reference_id,\n",
    "    :Merged_Into => :merged_into_id,\n",
    "    :Status => :status,\n",
    "]"
   ]
  },
  {
   "cell_type": "code",
   "execution_count": 93,
   "metadata": {},
   "outputs": [],
   "source": [
    "df_cn_ref = select(df_cn_db, columns);"
   ]
  },
  {
   "cell_type": "code",
   "execution_count": 94,
   "metadata": {},
   "outputs": [],
   "source": [
    "df_cn_ref[!, :item_type_id] .= item_type_id;"
   ]
  },
  {
   "cell_type": "code",
   "execution_count": 95,
   "metadata": {},
   "outputs": [
    {
     "data": {
      "text/plain": [
       "22938"
      ]
     },
     "execution_count": 95,
     "metadata": {},
     "output_type": "execute_result"
    }
   ],
   "source": [
    "size(df_cn_ref, 1)"
   ]
  },
  {
   "cell_type": "code",
   "execution_count": 96,
   "metadata": {},
   "outputs": [],
   "source": [
    "dropmissing!(df_cn_ref, :reference_id);"
   ]
  },
  {
   "cell_type": "code",
   "execution_count": 97,
   "metadata": {},
   "outputs": [
    {
     "data": {
      "text/plain": [
       "(22938, 7)"
      ]
     },
     "execution_count": 97,
     "metadata": {},
     "output_type": "execute_result"
    }
   ],
   "source": [
    "size(df_cn_ref)"
   ]
  },
  {
   "cell_type": "markdown",
   "metadata": {},
   "source": [
    "Einträge löschen (im Fall von Korrekturen)"
   ]
  },
  {
   "cell_type": "code",
   "execution_count": 98,
   "metadata": {},
   "outputs": [
    {
     "data": {
      "text/plain": [
       "MySQL.TextCursor{true}(MySQL.Connection(host=\"127.0.0.1\", user=\"georg\", port=\"3306\", db=\"wiag2\"), \"DELETE FROM item_reference WHERE item_type_id = 5\", 0, -1, 0, MySQL.API.MYSQL_RES(Ptr{Nothing} @0x0000000000000000), Symbol[], Type[], Dict{Symbol, Int64}(), 0, 1, false)"
      ]
     },
     "execution_count": 98,
     "metadata": {},
     "output_type": "execute_result"
    }
   ],
   "source": [
    "sql = \"DELETE FROM item_reference WHERE item_type_id = $(item_type_id)\"\n",
    "DBInterface.execute(Wds.dbwiag, sql)"
   ]
  },
  {
   "cell_type": "code",
   "execution_count": 99,
   "metadata": {},
   "outputs": [
    {
     "data": {
      "text/plain": [
       "5-element Vector{Pair{Symbol, Symbol}}:\n",
       "         :item_id => :item_id\n",
       "            :page => :page\n",
       " :id_in_reference => :id_in_reference\n",
       "    :item_type_id => :item_type_id\n",
       "    :reference_id => :reference_id"
      ]
     },
     "execution_count": 99,
     "metadata": {},
     "output_type": "execute_result"
    }
   ],
   "source": [
    "columns = [\n",
    "    :item_id => :item_id,\n",
    "    :page => :page,\n",
    "    :id_in_reference => :id_in_reference,\n",
    "    :item_type_id => :item_type_id,\n",
    "    :reference_id => :reference_id,\n",
    "]"
   ]
  },
  {
   "cell_type": "code",
   "execution_count": 100,
   "metadata": {},
   "outputs": [
    {
     "name": "stderr",
     "output_type": "stream",
     "text": [
      "┌ Info: 10000\n",
      "└ @ WiagDataSetup C:\\Users\\georg\\Documents\\projekte\\WiagDataSetup.jl\\src\\WiagDataSetup.jl:1186\n",
      "┌ Info: 20000\n",
      "└ @ WiagDataSetup C:\\Users\\georg\\Documents\\projekte\\WiagDataSetup.jl\\src\\WiagDataSetup.jl:1186\n",
      "┌ Info: Rows inserted: 22938\n",
      "└ @ WiagDataSetup C:\\Users\\georg\\Documents\\projekte\\WiagDataSetup.jl\\src\\WiagDataSetup.jl:1209\n"
     ]
    },
    {
     "data": {
      "text/plain": [
       "22938"
      ]
     },
     "execution_count": 100,
     "metadata": {},
     "output_type": "execute_result"
    }
   ],
   "source": [
    "table_name = \"item_reference\";\n",
    "Wds.filltable!(table_name, select(df_cn_ref, columns), clear_table = false)"
   ]
  },
  {
   "cell_type": "markdown",
   "metadata": {},
   "source": [
    "Trage Referenzen ein von Einträgen, die mit anderen zusammengezogen wurden."
   ]
  },
  {
   "cell_type": "code",
   "execution_count": 101,
   "metadata": {},
   "outputs": [
    {
     "data": {
      "text/plain": [
       "is_ref2 (generic function with 1 method)"
      ]
     },
     "execution_count": 101,
     "metadata": {},
     "output_type": "execute_result"
    }
   ],
   "source": [
    "is_ref2(merged_into_id, status) = !ismissing(merged_into_id) && isequal(status, \"merged\")"
   ]
  },
  {
   "cell_type": "code",
   "execution_count": 102,
   "metadata": {},
   "outputs": [],
   "source": [
    "df_cn_ref2 = subset(df_cn_ref, [:merged_into_id, :status] => ByRow(is_ref2));"
   ]
  },
  {
   "cell_type": "code",
   "execution_count": 103,
   "metadata": {},
   "outputs": [],
   "source": [
    "lookupItemId = Dict(Pair.(df_cn_db.id_in_source ,df_cn_db.id));"
   ]
  },
  {
   "cell_type": "code",
   "execution_count": 104,
   "metadata": {},
   "outputs": [
    {
     "data": {
      "text/plain": [
       "getItemId (generic function with 1 method)"
      ]
     },
     "execution_count": 104,
     "metadata": {},
     "output_type": "execute_result"
    }
   ],
   "source": [
    "getItemId(id_in_source) = get(lookupItemId, string(id_in_source), missing)"
   ]
  },
  {
   "cell_type": "code",
   "execution_count": 105,
   "metadata": {},
   "outputs": [],
   "source": [
    "transform!(df_cn_ref2, :merged_into_id => ByRow(getItemId) => :item_id);"
   ]
  },
  {
   "cell_type": "code",
   "execution_count": 106,
   "metadata": {},
   "outputs": [
    {
     "data": {
      "text/plain": [
       "1129"
      ]
     },
     "execution_count": 106,
     "metadata": {},
     "output_type": "execute_result"
    }
   ],
   "source": [
    "size(df_cn_ref2, 1)"
   ]
  },
  {
   "cell_type": "code",
   "execution_count": 107,
   "metadata": {},
   "outputs": [
    {
     "data": {
      "text/plain": [
       "0"
      ]
     },
     "execution_count": 107,
     "metadata": {},
     "output_type": "execute_result"
    }
   ],
   "source": [
    "count(ismissing, df_cn_ref.item_id)"
   ]
  },
  {
   "cell_type": "code",
   "execution_count": 108,
   "metadata": {},
   "outputs": [
    {
     "data": {
      "text/plain": [
       "5-element Vector{Symbol}:\n",
       " :item_id\n",
       " :page\n",
       " :id_in_reference\n",
       " :item_type_id\n",
       " :reference_id"
      ]
     },
     "execution_count": 108,
     "metadata": {},
     "output_type": "execute_result"
    }
   ],
   "source": [
    "columns = [\n",
    "    :item_id,\n",
    "    :page,\n",
    "    :id_in_reference,\n",
    "    :item_type_id,\n",
    "    :reference_id,\n",
    "]"
   ]
  },
  {
   "cell_type": "code",
   "execution_count": 109,
   "metadata": {},
   "outputs": [
    {
     "name": "stderr",
     "output_type": "stream",
     "text": [
      "┌ Info: Rows inserted: 1129\n",
      "└ @ WiagDataSetup C:\\Users\\georg\\Documents\\projekte\\WiagDataSetup.jl\\src\\WiagDataSetup.jl:1209\n"
     ]
    },
    {
     "data": {
      "text/plain": [
       "1129"
      ]
     },
     "execution_count": 109,
     "metadata": {},
     "output_type": "execute_result"
    }
   ],
   "source": [
    "table_name = \"item_reference\";\n",
    "Wds.filltable!(table_name, select(df_cn_ref2, columns), clear_table = false)"
   ]
  },
  {
   "cell_type": "code",
   "execution_count": 172,
   "metadata": {},
   "outputs": [
    {
     "data": {
      "text/html": [
       "<div class=\"data-frame\"><p>1 rows × 7 columns</p><table class=\"data-frame\"><thead><tr><th></th><th>item_id</th><th>page</th><th>id_in_reference</th><th>reference_id</th><th>merged_into_id</th><th>status</th><th>item_type_id</th></tr><tr><th></th><th title=\"Int32\">Int32</th><th title=\"Union{Missing, String}\">String?</th><th title=\"Union{Missing, String}\">String?</th><th title=\"Int64\">Int64</th><th title=\"Union{Missing, Int64}\">Int64?</th><th title=\"Union{Missing, String}\">String?</th><th title=\"Int64\">Int64</th></tr></thead><tbody><tr><th>1</th><td>184999</td><td>100, 136, 148, 201</td><td>HA999, HI170, MS168, PB120</td><td>6</td><td>10939</td><td>merged</td><td>5</td></tr></tbody></table></div>"
      ],
      "text/latex": [
       "\\begin{tabular}{r|ccccccc}\n",
       "\t& item\\_id & page & id\\_in\\_reference & reference\\_id & merged\\_into\\_id & status & item\\_type\\_id\\\\\n",
       "\t\\hline\n",
       "\t& Int32 & String? & String? & Int64 & Int64? & String? & Int64\\\\\n",
       "\t\\hline\n",
       "\t1 & 184999 & 100, 136, 148, 201 & HA999, HI170, MS168, PB120 & 6 & 10939 & merged & 5 \\\\\n",
       "\\end{tabular}\n"
      ],
      "text/plain": [
       "\u001b[1m1×7 DataFrame\u001b[0m\n",
       "\u001b[1m Row \u001b[0m│\u001b[1m item_id \u001b[0m\u001b[1m page               \u001b[0m\u001b[1m id_in_reference            \u001b[0m\u001b[1m reference_id \u001b[0m\u001b[1m merged_into_id \u001b[0m\u001b[1m status  \u001b[0m\u001b[1m item_type_id \u001b[0m\n",
       "\u001b[1m     \u001b[0m│\u001b[90m Int32   \u001b[0m\u001b[90m String?            \u001b[0m\u001b[90m String?                    \u001b[0m\u001b[90m Int64        \u001b[0m\u001b[90m Int64?         \u001b[0m\u001b[90m String? \u001b[0m\u001b[90m Int64        \u001b[0m\n",
       "─────┼──────────────────────────────────────────────────────────────────────────────────────────────────────────────\n",
       "   1 │  184999  100, 136, 148, 201  HA999, HI170, MS168, PB120             6           10939  merged              5"
      ]
     },
     "execution_count": 172,
     "metadata": {},
     "output_type": "execute_result"
    }
   ],
   "source": [
    "subset(df_cn_ref2, :merged_into_id => ByRow(isequal(10939)))"
   ]
  },
  {
   "cell_type": "markdown",
   "metadata": {},
   "source": [
    "### Externe URLs eintragen"
   ]
  },
  {
   "cell_type": "code",
   "execution_count": 157,
   "metadata": {},
   "outputs": [],
   "source": [
    "using CSV, DataFrames"
   ]
  },
  {
   "cell_type": "code",
   "execution_count": 110,
   "metadata": {},
   "outputs": [],
   "source": [
    "file_name = joinpath(data_path, \"tbl_urls.csv\")\n",
    "df_url = CSV.read(file_name, DataFrame, delim=\";\");"
   ]
  },
  {
   "cell_type": "code",
   "execution_count": 111,
   "metadata": {},
   "outputs": [],
   "source": [
    "Wds.clean_up!(df_url);"
   ]
  },
  {
   "cell_type": "markdown",
   "metadata": {},
   "source": [
    "Die IDs in `authority` sind für externe URLs mit einem Offset von 1000 versehen, denn sie betreffen den gleichen Datentyp"
   ]
  },
  {
   "cell_type": "code",
   "execution_count": 112,
   "metadata": {},
   "outputs": [],
   "source": [
    "id_offset = 1000;\n",
    "transform!(df_url, :url_type => ByRow(x -> x + id_offset) => :authority_id);"
   ]
  },
  {
   "cell_type": "code",
   "execution_count": 113,
   "metadata": {},
   "outputs": [
    {
     "data": {
      "text/plain": [
       "8-element Vector{String}:\n",
       " \"ID_url\"\n",
       " \"domherr_id\"\n",
       " \"url_value\"\n",
       " \"url_link\"\n",
       " \"note\"\n",
       " \"description\"\n",
       " \"url_type\"\n",
       " \"authority_id\""
      ]
     },
     "execution_count": 113,
     "metadata": {},
     "output_type": "execute_result"
    }
   ],
   "source": [
    "names(df_url)"
   ]
  },
  {
   "cell_type": "markdown",
   "metadata": {},
   "source": [
    "Zuordnung zu IDs "
   ]
  },
  {
   "cell_type": "code",
   "execution_count": 114,
   "metadata": {},
   "outputs": [],
   "source": [
    "sql = \"SELECT id, id_in_source FROM item WHERE item_type_id = $(item_type_id)\"\n",
    "df_idx = Wds.sql_df(sql);"
   ]
  },
  {
   "cell_type": "code",
   "execution_count": 115,
   "metadata": {},
   "outputs": [],
   "source": [
    "transform!(df_url, :domherr_id => ByRow(string) => :id_in_source);"
   ]
  },
  {
   "cell_type": "code",
   "execution_count": 116,
   "metadata": {
    "scrolled": true
   },
   "outputs": [],
   "source": [
    "df_url_idx = leftjoin(df_url, df_idx, on = :id_in_source);"
   ]
  },
  {
   "cell_type": "code",
   "execution_count": 117,
   "metadata": {},
   "outputs": [
    {
     "data": {
      "text/plain": [
       "(1965, 225)"
      ]
     },
     "execution_count": 117,
     "metadata": {},
     "output_type": "execute_result"
    }
   ],
   "source": [
    "size(df_url_idx, 1), count(ismissing, df_url_idx.id)"
   ]
  },
  {
   "cell_type": "code",
   "execution_count": 118,
   "metadata": {},
   "outputs": [],
   "source": [
    "df_url_idx_mg = subset(df_url_idx, :id => ByRow(ismissing));"
   ]
  },
  {
   "cell_type": "code",
   "execution_count": 119,
   "metadata": {},
   "outputs": [
    {
     "data": {
      "text/html": [
       "<div class=\"data-frame\"><p>5 rows × 4 columns</p><table class=\"data-frame\"><thead><tr><th></th><th>id</th><th>id_in_source</th><th>url_type</th><th>url_value</th></tr><tr><th></th><th title=\"Union{Missing, Int32}\">Int32?</th><th title=\"String\">String</th><th title=\"Union{Missing, Int64}\">Int64?</th><th title=\"String\">String</th></tr></thead><tbody><tr><th>1</th><td><em>missing</em></td><td>7129</td><td><em>missing</em></td><td>https://www.archive.nrw.de/LAV_NRW/jsp/findbuch.jsp?archivNr=451&amp;guid=00451Find_7A797585-8620-4FD5-A520-340DA6C479D1ACTAPRO</td></tr><tr><th>2</th><td><em>missing</em></td><td>6856</td><td><em>missing</em></td><td>http://www.arcinsys.niedersachsen.de/arcinsys/detailAction?detailid=v2325485</td></tr><tr><th>3</th><td><em>missing</em></td><td>6886</td><td><em>missing</em></td><td>http://www.arcinsys.niedersachsen.de/arcinsys/detailAction?detailid=v1601287</td></tr><tr><th>4</th><td><em>missing</em></td><td>6886</td><td><em>missing</em></td><td>http://www.arcinsys.niedersachsen.de/arcinsys/detailAction?detailid=v1601288</td></tr><tr><th>5</th><td><em>missing</em></td><td>6886</td><td><em>missing</em></td><td>http://www.arcinsys.niedersachsen.de/arcinsys/detailAction?detailid=v1601289</td></tr></tbody></table></div>"
      ],
      "text/latex": [
       "\\begin{tabular}{r|cccc}\n",
       "\t& id & id\\_in\\_source & url\\_type & url\\_value\\\\\n",
       "\t\\hline\n",
       "\t& Int32? & String & Int64? & String\\\\\n",
       "\t\\hline\n",
       "\t1 & \\emph{missing} & 7129 & \\emph{missing} & https://www.archive.nrw.de/LAV\\_NRW/jsp/findbuch.jsp?archivNr=451\\&guid=00451Find\\_7A797585-8620-4FD5-A520-340DA6C479D1ACTAPRO \\\\\n",
       "\t2 & \\emph{missing} & 6856 & \\emph{missing} & http://www.arcinsys.niedersachsen.de/arcinsys/detailAction?detailid=v2325485 \\\\\n",
       "\t3 & \\emph{missing} & 6886 & \\emph{missing} & http://www.arcinsys.niedersachsen.de/arcinsys/detailAction?detailid=v1601287 \\\\\n",
       "\t4 & \\emph{missing} & 6886 & \\emph{missing} & http://www.arcinsys.niedersachsen.de/arcinsys/detailAction?detailid=v1601288 \\\\\n",
       "\t5 & \\emph{missing} & 6886 & \\emph{missing} & http://www.arcinsys.niedersachsen.de/arcinsys/detailAction?detailid=v1601289 \\\\\n",
       "\\end{tabular}\n"
      ],
      "text/plain": [
       "\u001b[1m5×4 DataFrame\u001b[0m\n",
       "\u001b[1m Row \u001b[0m│\u001b[1m id      \u001b[0m\u001b[1m id_in_source \u001b[0m\u001b[1m url_type \u001b[0m\u001b[1m url_value                         \u001b[0m\n",
       "\u001b[1m     \u001b[0m│\u001b[90m Int32?  \u001b[0m\u001b[90m String       \u001b[0m\u001b[90m Int64?   \u001b[0m\u001b[90m String                            \u001b[0m\n",
       "─────┼────────────────────────────────────────────────────────────────────\n",
       "   1 │\u001b[90m missing \u001b[0m 7129         \u001b[90m  missing \u001b[0m https://www.archive.nrw.de/LAV_N…\n",
       "   2 │\u001b[90m missing \u001b[0m 6856         \u001b[90m  missing \u001b[0m http://www.arcinsys.niedersachse…\n",
       "   3 │\u001b[90m missing \u001b[0m 6886         \u001b[90m  missing \u001b[0m http://www.arcinsys.niedersachse…\n",
       "   4 │\u001b[90m missing \u001b[0m 6886         \u001b[90m  missing \u001b[0m http://www.arcinsys.niedersachse…\n",
       "   5 │\u001b[90m missing \u001b[0m 6886         \u001b[90m  missing \u001b[0m http://www.arcinsys.niedersachse…"
      ]
     },
     "execution_count": 119,
     "metadata": {},
     "output_type": "execute_result"
    }
   ],
   "source": [
    "df_url_idx_mg[151:155, [:id, :id_in_source, :url_type, :url_value]]"
   ]
  },
  {
   "cell_type": "markdown",
   "metadata": {},
   "source": [
    "*2022-04-29* Tabelle ist noch in Arbeit"
   ]
  },
  {
   "cell_type": "code",
   "execution_count": 120,
   "metadata": {},
   "outputs": [],
   "source": [
    "dropmissing!(df_url_idx, :id);"
   ]
  },
  {
   "cell_type": "code",
   "execution_count": 121,
   "metadata": {},
   "outputs": [
    {
     "data": {
      "text/plain": [
       "13-element Vector{Union{Missing, Int64}}:\n",
       " 22\n",
       " 72\n",
       " 70\n",
       "   missing\n",
       " 75\n",
       " 73\n",
       " 69\n",
       " 27\n",
       " 68\n",
       " 76\n",
       " 14\n",
       " 71\n",
       " 77"
      ]
     },
     "execution_count": 121,
     "metadata": {},
     "output_type": "execute_result"
    }
   ],
   "source": [
    "unique(df_url_idx.url_type)"
   ]
  },
  {
   "cell_type": "code",
   "execution_count": 122,
   "metadata": {},
   "outputs": [
    {
     "data": {
      "text/plain": [
       "MySQL.TextCursor{true}(MySQL.Connection(host=\"127.0.0.1\", user=\"georg\", port=\"3306\", db=\"wiag2\"), \"DELETE FROM url_external\\nWHERE item_id IN (SELECT id FROM item WHERE item_type_id = 5)\", 0, -1, 0, MySQL.API.MYSQL_RES(Ptr{Nothing} @0x0000000000000000), Symbol[], Type[], Dict{Symbol, Int64}(), 0, 1, false)"
      ]
     },
     "execution_count": 122,
     "metadata": {},
     "output_type": "execute_result"
    }
   ],
   "source": [
    "table_name = \"url_external\";\n",
    "sql = \"DELETE FROM $(table_name)\n",
    "WHERE item_id IN (SELECT id FROM item WHERE item_type_id = $(item_type_id))\";\n",
    "DBInterface.execute(Wds.dbwiag, sql)"
   ]
  },
  {
   "cell_type": "code",
   "execution_count": 123,
   "metadata": {},
   "outputs": [
    {
     "data": {
      "text/plain": [
       "4-element Vector{Pair{Symbol, Symbol}}:\n",
       "           :id => :item_id\n",
       " :authority_id => :authority_id\n",
       "    :url_value => :value\n",
       "         :note => :note"
      ]
     },
     "execution_count": 123,
     "metadata": {},
     "output_type": "execute_result"
    }
   ],
   "source": [
    "columns = [\n",
    "    :id => :item_id,\n",
    "    :authority_id => :authority_id,\n",
    "    :url_value => :value,\n",
    "    :note => :note,\n",
    "]"
   ]
  },
  {
   "cell_type": "code",
   "execution_count": 124,
   "metadata": {},
   "outputs": [
    {
     "name": "stderr",
     "output_type": "stream",
     "text": [
      "┌ Info: Rows inserted: 1740\n",
      "└ @ WiagDataSetup C:\\Users\\georg\\Documents\\projekte\\WiagDataSetup.jl\\src\\WiagDataSetup.jl:1209\n"
     ]
    },
    {
     "data": {
      "text/plain": [
       "1740"
      ]
     },
     "execution_count": 124,
     "metadata": {},
     "output_type": "execute_result"
    }
   ],
   "source": [
    "table_name = \"url_external\"\n",
    "Wds.filltable!(table_name, select(df_url_idx, columns))"
   ]
  },
  {
   "cell_type": "markdown",
   "metadata": {},
   "source": [
    "### Externe IDs eintragen"
   ]
  },
  {
   "cell_type": "code",
   "execution_count": 125,
   "metadata": {},
   "outputs": [
    {
     "data": {
      "text/plain": [
       "5"
      ]
     },
     "execution_count": 125,
     "metadata": {},
     "output_type": "execute_result"
    }
   ],
   "source": [
    "item_type_id = 5"
   ]
  },
  {
   "cell_type": "markdown",
   "metadata": {},
   "source": [
    "Einträge löschen (für den Fall eines Fehlers oder für ein Update)"
   ]
  },
  {
   "cell_type": "code",
   "execution_count": 42,
   "metadata": {},
   "outputs": [
    {
     "data": {
      "text/plain": [
       "MySQL.TextCursor{true}(MySQL.Connection(host=\"127.0.0.1\", user=\"georg\", port=\"3306\", db=\"wiag2\"), \"DELETE FROM id_external WHERE item_id IN (SELECT id FROM item WHERE item_type_id = 5)\", 0, -1, 11430, MySQL.API.MYSQL_RES(Ptr{Nothing} @0x0000000000000000), Symbol[], Type[], Dict{Symbol, Int64}(), 0, 1, false)"
      ]
     },
     "execution_count": 42,
     "metadata": {},
     "output_type": "execute_result"
    }
   ],
   "source": [
    "sql = \"DELETE FROM id_external \" *\n",
    "\"WHERE item_id IN (SELECT id FROM item WHERE item_type_id = $(item_type_id))\"\n",
    "DBInterface.execute(Wds.dbwiag, sql)"
   ]
  },
  {
   "cell_type": "code",
   "execution_count": 127,
   "metadata": {},
   "outputs": [
    {
     "data": {
      "text/html": [
       "<div class=\"data-frame\"><p>6 rows × 2 columns</p><table class=\"data-frame\"><thead><tr><th></th><th>id</th><th>url_name_formatter</th></tr><tr><th></th><th title=\"Int32\">Int32</th><th title=\"Union{Missing, String}\">String?</th></tr></thead><tbody><tr><th>1</th><td>1</td><td>Gemeinsame Normdatei (GND) ID</td></tr><tr><th>2</th><td>2</td><td>Wikidata</td></tr><tr><th>3</th><td>3</td><td>Wikipedia-Artikel</td></tr><tr><th>4</th><td>4</td><td>VIAF-ID</td></tr><tr><th>5</th><td>5</td><td>WIAG-ID</td></tr><tr><th>6</th><td>200</td><td>Personendatenbank der Germania Sacra</td></tr></tbody></table></div>"
      ],
      "text/latex": [
       "\\begin{tabular}{r|cc}\n",
       "\t& id & url\\_name\\_formatter\\\\\n",
       "\t\\hline\n",
       "\t& Int32 & String?\\\\\n",
       "\t\\hline\n",
       "\t1 & 1 & Gemeinsame Normdatei (GND) ID \\\\\n",
       "\t2 & 2 & Wikidata \\\\\n",
       "\t3 & 3 & Wikipedia-Artikel \\\\\n",
       "\t4 & 4 & VIAF-ID \\\\\n",
       "\t5 & 5 & WIAG-ID \\\\\n",
       "\t6 & 200 & Personendatenbank der Germania Sacra \\\\\n",
       "\\end{tabular}\n"
      ],
      "text/plain": [
       "\u001b[1m6×2 DataFrame\u001b[0m\n",
       "\u001b[1m Row \u001b[0m│\u001b[1m id    \u001b[0m\u001b[1m url_name_formatter                \u001b[0m\n",
       "\u001b[1m     \u001b[0m│\u001b[90m Int32 \u001b[0m\u001b[90m String?                           \u001b[0m\n",
       "─────┼──────────────────────────────────────────\n",
       "   1 │     1  Gemeinsame Normdatei (GND) ID\n",
       "   2 │     2  Wikidata\n",
       "   3 │     3  Wikipedia-Artikel\n",
       "   4 │     4  VIAF-ID\n",
       "   5 │     5  WIAG-ID\n",
       "   6 │   200  Personendatenbank der Germania S…"
      ]
     },
     "execution_count": 127,
     "metadata": {},
     "output_type": "execute_result"
    }
   ],
   "source": [
    "sql = \"SELECT id, url_name_formatter FROM authority \" *\n",
    "\"WHERE id IN (1, 2, 3, 4, 5, 200)\";\n",
    "Wds.sql_df(sql)"
   ]
  },
  {
   "cell_type": "markdown",
   "metadata": {},
   "source": [
    "Index aus `item` lesen"
   ]
  },
  {
   "cell_type": "code",
   "execution_count": 39,
   "metadata": {},
   "outputs": [],
   "source": [
    "sql = \"SELECT id, is_online, id_in_source FROM item WHERE item_type_id = $(item_type_id)\"\n",
    "df_idx = Wds.sql_df(sql);"
   ]
  },
  {
   "cell_type": "code",
   "execution_count": 16,
   "metadata": {},
   "outputs": [
    {
     "data": {
      "text/plain": [
       "22990"
      ]
     },
     "execution_count": 16,
     "metadata": {},
     "output_type": "execute_result"
    }
   ],
   "source": [
    "size(df_idx, 1)"
   ]
  },
  {
   "cell_type": "markdown",
   "metadata": {},
   "source": [
    "Externe Ids aus den Quelldaten lesen"
   ]
  },
  {
   "cell_type": "code",
   "execution_count": 17,
   "metadata": {},
   "outputs": [],
   "source": [
    "using CSV"
   ]
  },
  {
   "cell_type": "code",
   "execution_count": 40,
   "metadata": {},
   "outputs": [],
   "source": [
    "# Quelle CSV-Datei\n",
    "filename = joinpath(data_path, \"tbl_domherren.csv\")\n",
    "df_cn = CSV.read(filename, DataFrame);"
   ]
  },
  {
   "cell_type": "markdown",
   "metadata": {},
   "source": [
    "Alternativ: Lies die Daten aus der Datenbank, wenn der Export aus Access in die Datenbank klappt."
   ]
  },
  {
   "cell_type": "code",
   "execution_count": null,
   "metadata": {},
   "outputs": [],
   "source": [
    "# Quelle: Datenbank\n",
    "table_name = \"domherr.tbl_domherren\";\n",
    "sql = \"SELECT ID_Domherr, Vorname, Familienname, \" *\n",
    "\"VIAF_ID, GND_ID, Wikidata_ID, GSN_ID, WIAG_ID_Bischof, URL_Wikipedia \" *\n",
    "\"FROM $(table_name)\"\n",
    "df_cn = Wds.sql_df(sql);"
   ]
  },
  {
   "cell_type": "code",
   "execution_count": 41,
   "metadata": {},
   "outputs": [],
   "source": [
    "Wds.clean_up!(df_cn)"
   ]
  },
  {
   "cell_type": "code",
   "execution_count": 42,
   "metadata": {},
   "outputs": [],
   "source": [
    "transform!(df_cn, :ID_Domherr => ByRow(string) => :id_in_source);"
   ]
  },
  {
   "cell_type": "code",
   "execution_count": 43,
   "metadata": {},
   "outputs": [],
   "source": [
    "df_cn = innerjoin(df_idx, df_cn, on = :id_in_source);"
   ]
  },
  {
   "cell_type": "code",
   "execution_count": 49,
   "metadata": {},
   "outputs": [
    {
     "data": {
      "text/plain": [
       "50-element Vector{String}:\n",
       " \"id\"\n",
       " \"id_in_source\"\n",
       " \"ID_Domherr\"\n",
       " \"Eintrag_Quelle\"\n",
       " \"Seite_Quelle\"\n",
       " \"Quelle\"\n",
       " \"Praefix\"\n",
       " \"Vorname\"\n",
       " \"Familienname\"\n",
       " \"Sterbedatum\"\n",
       " \"Geburtsdatum\"\n",
       " \"Orden\"\n",
       " \"fertig\"\n",
       " ⋮\n",
       " \"Status\"\n",
       " \"Normdaten recherchiert\"\n",
       " \"URL_Wikipedia\"\n",
       " \"Externe URL\"\n",
       " \"ID_Quelle\"\n",
       " \"ID_Domherr_Jasmin\"\n",
       " \"ID_Fremdschluessel_2\"\n",
       " \"Merged_Into\"\n",
       " \"Identisch_mit\"\n",
       " \"WIAG_ID_Bischof\"\n",
       " \"LOD_Academy\"\n",
       " \"ID_Fremdschlüssel_Num\""
      ]
     },
     "execution_count": 49,
     "metadata": {},
     "output_type": "execute_result"
    }
   ],
   "source": [
    "names(df_cn)"
   ]
  },
  {
   "cell_type": "markdown",
   "metadata": {},
   "source": [
    "**VIAF**, dann GND, Wikidata, GSN, Wikipedia"
   ]
  },
  {
   "cell_type": "code",
   "execution_count": 50,
   "metadata": {},
   "outputs": [
    {
     "data": {
      "text/plain": [
       "4"
      ]
     },
     "execution_count": 50,
     "metadata": {},
     "output_type": "execute_result"
    }
   ],
   "source": [
    "authority_id_viaf = 4 # siehe oben"
   ]
  },
  {
   "cell_type": "code",
   "execution_count": 51,
   "metadata": {},
   "outputs": [],
   "source": [
    "df_cn_viaf = dropmissing(df_cn, :VIAF_ID)\n",
    "df_cn_viaf[!, :authority_id] .= authority_id_viaf;"
   ]
  },
  {
   "cell_type": "code",
   "execution_count": 52,
   "metadata": {},
   "outputs": [
    {
     "data": {
      "text/plain": [
       "3-element Vector{Pair{Symbol, Symbol}}:\n",
       "           :id => :item_id\n",
       " :authority_id => :authority_id\n",
       "      :VIAF_ID => :value"
      ]
     },
     "execution_count": 52,
     "metadata": {},
     "output_type": "execute_result"
    }
   ],
   "source": [
    "columns = [\n",
    "    :id => :item_id,\n",
    "    :authority_id => :authority_id,\n",
    "    :VIAF_ID => :value,\n",
    "]"
   ]
  },
  {
   "cell_type": "code",
   "execution_count": 53,
   "metadata": {},
   "outputs": [],
   "source": [
    "df_ins = select(df_cn_viaf, columns);"
   ]
  },
  {
   "cell_type": "code",
   "execution_count": 54,
   "metadata": {},
   "outputs": [],
   "source": [
    "transform!(df_ins, :value => ByRow(string) => :value);"
   ]
  },
  {
   "cell_type": "code",
   "execution_count": 55,
   "metadata": {},
   "outputs": [
    {
     "data": {
      "text/html": [
       "<div class=\"data-frame\"><p>5 rows × 3 columns</p><table class=\"data-frame\"><thead><tr><th></th><th>item_id</th><th>authority_id</th><th>value</th></tr><tr><th></th><th title=\"Int32\">Int32</th><th title=\"Int64\">Int64</th><th title=\"String\">String</th></tr></thead><tbody><tr><th>1</th><td>273600</td><td>4</td><td>25031999</td></tr><tr><th>2</th><td>273636</td><td>4</td><td>62414904</td></tr><tr><th>3</th><td>273635</td><td>4</td><td>52499206</td></tr><tr><th>4</th><td>273630</td><td>4</td><td>40991097</td></tr><tr><th>5</th><td>273629</td><td>4</td><td>88888825</td></tr></tbody></table></div>"
      ],
      "text/latex": [
       "\\begin{tabular}{r|ccc}\n",
       "\t& item\\_id & authority\\_id & value\\\\\n",
       "\t\\hline\n",
       "\t& Int32 & Int64 & String\\\\\n",
       "\t\\hline\n",
       "\t1 & 273600 & 4 & 25031999 \\\\\n",
       "\t2 & 273636 & 4 & 62414904 \\\\\n",
       "\t3 & 273635 & 4 & 52499206 \\\\\n",
       "\t4 & 273630 & 4 & 40991097 \\\\\n",
       "\t5 & 273629 & 4 & 88888825 \\\\\n",
       "\\end{tabular}\n"
      ],
      "text/plain": [
       "\u001b[1m5×3 DataFrame\u001b[0m\n",
       "\u001b[1m Row \u001b[0m│\u001b[1m item_id \u001b[0m\u001b[1m authority_id \u001b[0m\u001b[1m value    \u001b[0m\n",
       "\u001b[1m     \u001b[0m│\u001b[90m Int32   \u001b[0m\u001b[90m Int64        \u001b[0m\u001b[90m String   \u001b[0m\n",
       "─────┼─────────────────────────────────\n",
       "   1 │  273600             4  25031999\n",
       "   2 │  273636             4  62414904\n",
       "   3 │  273635             4  52499206\n",
       "   4 │  273630             4  40991097\n",
       "   5 │  273629             4  88888825"
      ]
     },
     "execution_count": 55,
     "metadata": {},
     "output_type": "execute_result"
    }
   ],
   "source": [
    "df_ins[303:307, :]"
   ]
  },
  {
   "cell_type": "code",
   "execution_count": 56,
   "metadata": {},
   "outputs": [
    {
     "name": "stderr",
     "output_type": "stream",
     "text": [
      "┌ Info: Rows inserted: 1643\n",
      "└ @ WiagDataSetup C:\\Users\\georg\\Documents\\projekte\\WiagDataSetup.jl\\src\\WiagDataSetup.jl:1216\n"
     ]
    },
    {
     "data": {
      "text/plain": [
       "1643"
      ]
     },
     "execution_count": 56,
     "metadata": {},
     "output_type": "execute_result"
    }
   ],
   "source": [
    "Wds.filltable!(\"id_external\", df_ins)"
   ]
  },
  {
   "cell_type": "markdown",
   "metadata": {},
   "source": [
    "**GND**"
   ]
  },
  {
   "cell_type": "code",
   "execution_count": 57,
   "metadata": {},
   "outputs": [
    {
     "data": {
      "text/plain": [
       "1"
      ]
     },
     "execution_count": 57,
     "metadata": {},
     "output_type": "execute_result"
    }
   ],
   "source": [
    "authority_id_gnd = 1 # siehe oben"
   ]
  },
  {
   "cell_type": "code",
   "execution_count": 58,
   "metadata": {},
   "outputs": [],
   "source": [
    "df_cn_gnd = dropmissing(df_cn, :GND_ID)\n",
    "df_cn_gnd[!, :authority_id] .= authority_id_gnd;"
   ]
  },
  {
   "cell_type": "code",
   "execution_count": 59,
   "metadata": {},
   "outputs": [],
   "source": [
    "df_ins = select(df_cn_gnd, :id => :item_id, :authority_id, :GND_ID => :value);"
   ]
  },
  {
   "cell_type": "code",
   "execution_count": 60,
   "metadata": {},
   "outputs": [
    {
     "data": {
      "text/html": [
       "<div class=\"data-frame\"><p>5 rows × 3 columns</p><table class=\"data-frame\"><thead><tr><th></th><th>item_id</th><th>authority_id</th><th>value</th></tr><tr><th></th><th title=\"Int32\">Int32</th><th title=\"Int64\">Int64</th><th title=\"String\">String</th></tr></thead><tbody><tr><th>1</th><td>273222</td><td>1</td><td>136459188</td></tr><tr><th>2</th><td>273216</td><td>1</td><td>1070768014</td></tr><tr><th>3</th><td>273211</td><td>1</td><td>12018544X</td></tr><tr><th>4</th><td>273209</td><td>1</td><td>173330525</td></tr><tr><th>5</th><td>273208</td><td>1</td><td>1070035483</td></tr></tbody></table></div>"
      ],
      "text/latex": [
       "\\begin{tabular}{r|ccc}\n",
       "\t& item\\_id & authority\\_id & value\\\\\n",
       "\t\\hline\n",
       "\t& Int32 & Int64 & String\\\\\n",
       "\t\\hline\n",
       "\t1 & 273222 & 1 & 136459188 \\\\\n",
       "\t2 & 273216 & 1 & 1070768014 \\\\\n",
       "\t3 & 273211 & 1 & 12018544X \\\\\n",
       "\t4 & 273209 & 1 & 173330525 \\\\\n",
       "\t5 & 273208 & 1 & 1070035483 \\\\\n",
       "\\end{tabular}\n"
      ],
      "text/plain": [
       "\u001b[1m5×3 DataFrame\u001b[0m\n",
       "\u001b[1m Row \u001b[0m│\u001b[1m item_id \u001b[0m\u001b[1m authority_id \u001b[0m\u001b[1m value      \u001b[0m\n",
       "\u001b[1m     \u001b[0m│\u001b[90m Int32   \u001b[0m\u001b[90m Int64        \u001b[0m\u001b[90m String     \u001b[0m\n",
       "─────┼───────────────────────────────────\n",
       "   1 │  273222             1  136459188\n",
       "   2 │  273216             1  1070768014\n",
       "   3 │  273211             1  12018544X\n",
       "   4 │  273209             1  173330525\n",
       "   5 │  273208             1  1070035483"
      ]
     },
     "execution_count": 60,
     "metadata": {},
     "output_type": "execute_result"
    }
   ],
   "source": [
    "df_ins[303:307, :]"
   ]
  },
  {
   "cell_type": "code",
   "execution_count": 61,
   "metadata": {},
   "outputs": [
    {
     "name": "stderr",
     "output_type": "stream",
     "text": [
      "┌ Info: Rows inserted: 1963\n",
      "└ @ WiagDataSetup C:\\Users\\georg\\Documents\\projekte\\WiagDataSetup.jl\\src\\WiagDataSetup.jl:1216\n"
     ]
    },
    {
     "data": {
      "text/plain": [
       "1963"
      ]
     },
     "execution_count": 61,
     "metadata": {},
     "output_type": "execute_result"
    }
   ],
   "source": [
    "Wds.filltable!(\"id_external\", df_ins)"
   ]
  },
  {
   "cell_type": "markdown",
   "metadata": {},
   "source": [
    "**Wikidata**"
   ]
  },
  {
   "cell_type": "code",
   "execution_count": 62,
   "metadata": {},
   "outputs": [
    {
     "data": {
      "text/plain": [
       "2"
      ]
     },
     "execution_count": 62,
     "metadata": {},
     "output_type": "execute_result"
    }
   ],
   "source": [
    "authority_id_wd = 2 # siehe oben"
   ]
  },
  {
   "cell_type": "markdown",
   "metadata": {},
   "source": [
    "In vielen Datensätzen ist `Wikidata_ID` befüllt mit `ergaenzen`"
   ]
  },
  {
   "cell_type": "code",
   "execution_count": 63,
   "metadata": {},
   "outputs": [],
   "source": [
    "df_cn_wd = dropmissing(df_cn, :Wikidata_ID)\n",
    "filter!(:Wikidata_ID => !isequal(\"ergaenzen\"), df_cn_wd);"
   ]
  },
  {
   "cell_type": "code",
   "execution_count": 64,
   "metadata": {},
   "outputs": [],
   "source": [
    "df_cn_wd[!, :authority_id] .= authority_id_wd;"
   ]
  },
  {
   "cell_type": "code",
   "execution_count": 65,
   "metadata": {},
   "outputs": [],
   "source": [
    "df_ins = select(df_cn_wd, :id => :item_id, :authority_id, :Wikidata_ID => :value);"
   ]
  },
  {
   "cell_type": "code",
   "execution_count": 66,
   "metadata": {},
   "outputs": [
    {
     "data": {
      "text/html": [
       "<div class=\"data-frame\"><p>8 rows × 3 columns</p><table class=\"data-frame\"><thead><tr><th></th><th>item_id</th><th>authority_id</th><th>value</th></tr><tr><th></th><th title=\"Int32\">Int32</th><th title=\"Int64\">Int64</th><th title=\"String\">String</th></tr></thead><tbody><tr><th>1</th><td>272173</td><td>2</td><td>Q1512995</td></tr><tr><th>2</th><td>272169</td><td>2</td><td>Q56026851</td></tr><tr><th>3</th><td>272168</td><td>2</td><td>Q23061119</td></tr><tr><th>4</th><td>272167</td><td>2</td><td>Q55684474</td></tr><tr><th>5</th><td>272163</td><td>2</td><td>Q19506614</td></tr><tr><th>6</th><td>272162</td><td>2</td><td>Q23061921</td></tr><tr><th>7</th><td>272159</td><td>2</td><td>Q53864886</td></tr><tr><th>8</th><td>272210</td><td>2</td><td>Q1819706</td></tr></tbody></table></div>"
      ],
      "text/latex": [
       "\\begin{tabular}{r|ccc}\n",
       "\t& item\\_id & authority\\_id & value\\\\\n",
       "\t\\hline\n",
       "\t& Int32 & Int64 & String\\\\\n",
       "\t\\hline\n",
       "\t1 & 272173 & 2 & Q1512995 \\\\\n",
       "\t2 & 272169 & 2 & Q56026851 \\\\\n",
       "\t3 & 272168 & 2 & Q23061119 \\\\\n",
       "\t4 & 272167 & 2 & Q55684474 \\\\\n",
       "\t5 & 272163 & 2 & Q19506614 \\\\\n",
       "\t6 & 272162 & 2 & Q23061921 \\\\\n",
       "\t7 & 272159 & 2 & Q53864886 \\\\\n",
       "\t8 & 272210 & 2 & Q1819706 \\\\\n",
       "\\end{tabular}\n"
      ],
      "text/plain": [
       "\u001b[1m8×3 DataFrame\u001b[0m\n",
       "\u001b[1m Row \u001b[0m│\u001b[1m item_id \u001b[0m\u001b[1m authority_id \u001b[0m\u001b[1m value     \u001b[0m\n",
       "\u001b[1m     \u001b[0m│\u001b[90m Int32   \u001b[0m\u001b[90m Int64        \u001b[0m\u001b[90m String    \u001b[0m\n",
       "─────┼──────────────────────────────────\n",
       "   1 │  272173             2  Q1512995\n",
       "   2 │  272169             2  Q56026851\n",
       "   3 │  272168             2  Q23061119\n",
       "   4 │  272167             2  Q55684474\n",
       "   5 │  272163             2  Q19506614\n",
       "   6 │  272162             2  Q23061921\n",
       "   7 │  272159             2  Q53864886\n",
       "   8 │  272210             2  Q1819706"
      ]
     },
     "execution_count": 66,
     "metadata": {},
     "output_type": "execute_result"
    }
   ],
   "source": [
    "df_ins[300:307, :]"
   ]
  },
  {
   "cell_type": "code",
   "execution_count": 67,
   "metadata": {},
   "outputs": [
    {
     "name": "stderr",
     "output_type": "stream",
     "text": [
      "┌ Info: Rows inserted: 1993\n",
      "└ @ WiagDataSetup C:\\Users\\georg\\Documents\\projekte\\WiagDataSetup.jl\\src\\WiagDataSetup.jl:1216\n"
     ]
    },
    {
     "data": {
      "text/plain": [
       "1993"
      ]
     },
     "execution_count": 67,
     "metadata": {},
     "output_type": "execute_result"
    }
   ],
   "source": [
    "Wds.filltable!(\"id_external\", df_ins)"
   ]
  },
  {
   "cell_type": "markdown",
   "metadata": {},
   "source": [
    "**GSN**"
   ]
  },
  {
   "cell_type": "markdown",
   "metadata": {},
   "source": [
    "*2022-05-12* manche Einträge sind fehlerhaft  \n",
    "*2022-05-20* behoben  \n",
    "*2022-06-02* neu: finde die jeweils aktuelle GSN"
   ]
  },
  {
   "cell_type": "markdown",
   "metadata": {},
   "source": [
    "begin fix"
   ]
  },
  {
   "cell_type": "code",
   "execution_count": 68,
   "metadata": {},
   "outputs": [
    {
     "data": {
      "text/plain": [
       "is_incomplete (generic function with 1 method)"
      ]
     },
     "execution_count": 68,
     "metadata": {},
     "output_type": "execute_result"
    }
   ],
   "source": [
    "is_incomplete(s) = !ismissing(s) && occursin(r\".*-00$\", s)"
   ]
  },
  {
   "cell_type": "code",
   "execution_count": 69,
   "metadata": {},
   "outputs": [
    {
     "data": {
      "text/plain": [
       "Int64[]"
      ]
     },
     "execution_count": 69,
     "metadata": {},
     "output_type": "execute_result"
    }
   ],
   "source": [
    "idx_b = findall(is_incomplete, df_cn.GSN_ID)"
   ]
  },
  {
   "cell_type": "code",
   "execution_count": 185,
   "metadata": {},
   "outputs": [
    {
     "data": {
      "text/html": [
       "<div class=\"data-frame\"><p>0 rows × 4 columns</p><table class=\"data-frame\"><thead><tr><th></th><th>ID_Domherr</th><th>Vorname</th><th>Familienname</th><th>GSN_ID</th></tr><tr><th></th><th title=\"Int64\">Int64</th><th title=\"Union{Missing, String}\">String?</th><th title=\"Union{Missing, String}\">String?</th><th title=\"Union{Missing, String}\">String?</th></tr></thead><tbody></tbody></table></div>"
      ],
      "text/latex": [
       "\\begin{tabular}{r|cccc}\n",
       "\t& ID\\_Domherr & Vorname & Familienname & GSN\\_ID\\\\\n",
       "\t\\hline\n",
       "\t& Int64 & String? & String? & String?\\\\\n",
       "\t\\hline\n",
       "\\end{tabular}\n"
      ],
      "text/plain": [
       "\u001b[1m0×4 DataFrame\u001b[0m"
      ]
     },
     "execution_count": 185,
     "metadata": {},
     "output_type": "execute_result"
    }
   ],
   "source": [
    "df_cn[idx_b, [:ID_Domherr, :Vorname, :Familienname, :GSN_ID]]"
   ]
  },
  {
   "cell_type": "code",
   "execution_count": 44,
   "metadata": {},
   "outputs": [
    {
     "data": {
      "text/plain": [
       "fix_gsn_id (generic function with 1 method)"
      ]
     },
     "execution_count": 44,
     "metadata": {},
     "output_type": "execute_result"
    }
   ],
   "source": [
    "fix_gsn_id(s) = ismissing(s) ? s : replace(s, r\"-00$\" =>\"-001\")"
   ]
  },
  {
   "cell_type": "code",
   "execution_count": 45,
   "metadata": {},
   "outputs": [],
   "source": [
    "transform!(df_cn, :GSN_ID => ByRow(fix_gsn_id) => :GSN_ID);"
   ]
  },
  {
   "cell_type": "markdown",
   "metadata": {},
   "source": [
    "bereinige komplette URLs in `WIAG_ID_Bischof` (siehe oben)"
   ]
  },
  {
   "cell_type": "code",
   "execution_count": 46,
   "metadata": {},
   "outputs": [
    {
     "ename": "LoadError",
     "evalue": "UndefVarError: get_WIAG_ID_Bischof not defined",
     "output_type": "error",
     "traceback": [
      "UndefVarError: get_WIAG_ID_Bischof not defined",
      "",
      "Stacktrace:",
      " [1] top-level scope",
      "   @ In[46]:1",
      " [2] eval",
      "   @ .\\boot.jl:373 [inlined]",
      " [3] include_string(mapexpr::typeof(REPL.softscope), mod::Module, code::String, filename::String)",
      "   @ Base .\\loading.jl:1196"
     ]
    }
   ],
   "source": [
    "transform!(df_cn, :WIAG_ID_Bischof => ByRow(get_WIAG_ID_Bischof) => :WIAG_ID_Bischof);"
   ]
  },
  {
   "cell_type": "markdown",
   "metadata": {},
   "source": [
    "end fix"
   ]
  },
  {
   "cell_type": "markdown",
   "metadata": {},
   "source": [
    "Ergänze auch mittelbare GSN über Verweise auf Bischöfe, d.h. Domherren verweisen auf Bischöfe, die ihrerseits auf die Personendatenbank verweisen."
   ]
  },
  {
   "cell_type": "code",
   "execution_count": 47,
   "metadata": {},
   "outputs": [],
   "source": [
    "table_name = \"item\";\n",
    "item_type_bishop = 4;\n",
    "sql = \"SELECT i.id as ep, i.id_public, e1.value AS ep_gsn\n",
    "FROM $(table_name) AS i\n",
    "JOIN id_external AS e1 ON e1.item_id = i.id AND e1.authority_id = 200\n",
    "WHERE i.item_type_id = $(item_type_bishop) AND i.is_online\";\n",
    "df_ep = Wds.sql_df(sql);"
   ]
  },
  {
   "cell_type": "code",
   "execution_count": 71,
   "metadata": {},
   "outputs": [
    {
     "data": {
      "text/html": [
       "<div class=\"data-frame\"><p>5 rows × 3 columns</p><table class=\"data-frame\"><thead><tr><th></th><th>ep</th><th>id_public</th><th>ep_gsn</th></tr><tr><th></th><th title=\"Int32\">Int32</th><th title=\"Union{Missing, String}\">String?</th><th title=\"Union{Missing, String}\">String?</th></tr></thead><tbody><tr><th>1</th><td>265069</td><td>WIAG-Pers-EPISCGatz-04847-001</td><td>075-00857-001</td></tr><tr><th>2</th><td>265092</td><td>WIAG-Pers-EPISCGatz-05308-001</td><td>024-02496-001</td></tr><tr><th>3</th><td>265095</td><td>WIAG-Pers-EPISCGatz-05304-001</td><td>005-02622-001</td></tr><tr><th>4</th><td>265098</td><td>WIAG-Pers-EPISCGatz-05301-001</td><td>044-00720-001</td></tr><tr><th>5</th><td>265099</td><td>WIAG-Pers-EPISCGatz-05300-001</td><td>044-03668-001</td></tr></tbody></table></div>"
      ],
      "text/latex": [
       "\\begin{tabular}{r|ccc}\n",
       "\t& ep & id\\_public & ep\\_gsn\\\\\n",
       "\t\\hline\n",
       "\t& Int32 & String? & String?\\\\\n",
       "\t\\hline\n",
       "\t1 & 265069 & WIAG-Pers-EPISCGatz-04847-001 & 075-00857-001 \\\\\n",
       "\t2 & 265092 & WIAG-Pers-EPISCGatz-05308-001 & 024-02496-001 \\\\\n",
       "\t3 & 265095 & WIAG-Pers-EPISCGatz-05304-001 & 005-02622-001 \\\\\n",
       "\t4 & 265098 & WIAG-Pers-EPISCGatz-05301-001 & 044-00720-001 \\\\\n",
       "\t5 & 265099 & WIAG-Pers-EPISCGatz-05300-001 & 044-03668-001 \\\\\n",
       "\\end{tabular}\n"
      ],
      "text/plain": [
       "\u001b[1m5×3 DataFrame\u001b[0m\n",
       "\u001b[1m Row \u001b[0m│\u001b[1m ep     \u001b[0m\u001b[1m id_public                     \u001b[0m\u001b[1m ep_gsn        \u001b[0m\n",
       "\u001b[1m     \u001b[0m│\u001b[90m Int32  \u001b[0m\u001b[90m String?                       \u001b[0m\u001b[90m String?       \u001b[0m\n",
       "─────┼──────────────────────────────────────────────────────\n",
       "   1 │ 265069  WIAG-Pers-EPISCGatz-04847-001  075-00857-001\n",
       "   2 │ 265092  WIAG-Pers-EPISCGatz-05308-001  024-02496-001\n",
       "   3 │ 265095  WIAG-Pers-EPISCGatz-05304-001  005-02622-001\n",
       "   4 │ 265098  WIAG-Pers-EPISCGatz-05301-001  044-00720-001\n",
       "   5 │ 265099  WIAG-Pers-EPISCGatz-05300-001  044-03668-001"
      ]
     },
     "execution_count": 71,
     "metadata": {},
     "output_type": "execute_result"
    }
   ],
   "source": [
    "df_ep[71:75, :]"
   ]
  },
  {
   "cell_type": "code",
   "execution_count": 72,
   "metadata": {},
   "outputs": [
    {
     "data": {
      "text/html": [
       "<div class=\"data-frame\"><p>5 rows × 4 columns</p><table class=\"data-frame\"><thead><tr><th></th><th>ID_Domherr</th><th>Vorname</th><th>Familienname</th><th>GSN_ID</th></tr><tr><th></th><th title=\"Int64\">Int64</th><th title=\"Union{Missing, String}\">String?</th><th title=\"Union{Missing, String}\">String?</th><th title=\"Union{Missing, String}\">String?</th></tr></thead><tbody><tr><th>1</th><td>10090</td><td>Anselm Kasimir Franz</td><td>Eltz-Kempenich</td><td><em>missing</em></td></tr><tr><th>2</th><td>10091</td><td>Johann Friedrich Arnold</td><td>Hoensbroech</td><td>029-02124-001</td></tr><tr><th>3</th><td>10092</td><td>Lothar Ferdinand</td><td>Metternich-Müllenark</td><td><em>missing</em></td></tr><tr><th>4</th><td>10093</td><td>Franz Arnold Bernh</td><td>Recke</td><td><em>missing</em></td></tr><tr><th>5</th><td>10094</td><td>Franz Bertram</td><td>Harff</td><td><em>missing</em></td></tr></tbody></table></div>"
      ],
      "text/latex": [
       "\\begin{tabular}{r|cccc}\n",
       "\t& ID\\_Domherr & Vorname & Familienname & GSN\\_ID\\\\\n",
       "\t\\hline\n",
       "\t& Int64 & String? & String? & String?\\\\\n",
       "\t\\hline\n",
       "\t1 & 10090 & Anselm Kasimir Franz & Eltz-Kempenich & \\emph{missing} \\\\\n",
       "\t2 & 10091 & Johann Friedrich Arnold & Hoensbroech & 029-02124-001 \\\\\n",
       "\t3 & 10092 & Lothar Ferdinand & Metternich-Müllenark & \\emph{missing} \\\\\n",
       "\t4 & 10093 & Franz Arnold Bernh & Recke & \\emph{missing} \\\\\n",
       "\t5 & 10094 & Franz Bertram & Harff & \\emph{missing} \\\\\n",
       "\\end{tabular}\n"
      ],
      "text/plain": [
       "\u001b[1m5×4 DataFrame\u001b[0m\n",
       "\u001b[1m Row \u001b[0m│\u001b[1m ID_Domherr \u001b[0m\u001b[1m Vorname                 \u001b[0m\u001b[1m Familienname         \u001b[0m\u001b[1m GSN_ID        \u001b[0m\n",
       "\u001b[1m     \u001b[0m│\u001b[90m Int64      \u001b[0m\u001b[90m String?                 \u001b[0m\u001b[90m String?              \u001b[0m\u001b[90m String?       \u001b[0m\n",
       "─────┼──────────────────────────────────────────────────────────────────────────\n",
       "   1 │      10090  Anselm Kasimir Franz     Eltz-Kempenich       \u001b[90m missing       \u001b[0m\n",
       "   2 │      10091  Johann Friedrich Arnold  Hoensbroech           029-02124-001\n",
       "   3 │      10092  Lothar Ferdinand         Metternich-Müllenark \u001b[90m missing       \u001b[0m\n",
       "   4 │      10093  Franz Arnold Bernh       Recke                \u001b[90m missing       \u001b[0m\n",
       "   5 │      10094  Franz Bertram            Harff                \u001b[90m missing       \u001b[0m"
      ]
     },
     "execution_count": 72,
     "metadata": {},
     "output_type": "execute_result"
    }
   ],
   "source": [
    "df_cn[91:95, [:ID_Domherr, :Vorname, :Familienname, :GSN_ID]]"
   ]
  },
  {
   "cell_type": "code",
   "execution_count": 73,
   "metadata": {},
   "outputs": [
    {
     "data": {
      "text/plain": [
       "(22990, 3224)"
      ]
     },
     "execution_count": 73,
     "metadata": {},
     "output_type": "execute_result"
    }
   ],
   "source": [
    "size(df_cn, 1), count(!ismissing, df_cn.GSN_ID)"
   ]
  },
  {
   "cell_type": "code",
   "execution_count": 48,
   "metadata": {},
   "outputs": [],
   "source": [
    "df_cn_ep = leftjoin(df_cn, df_ep, on = :WIAG_ID_Bischof => :id_public, matchmissing = :notequal);"
   ]
  },
  {
   "cell_type": "code",
   "execution_count": 49,
   "metadata": {},
   "outputs": [],
   "source": [
    "for row in eachrow(df_cn_ep)\n",
    "    if ismissing(row[:GSN_ID]) && !ismissing(row[:ep_gsn])\n",
    "        row[:GSN_ID] = row[:ep_gsn]\n",
    "    end\n",
    "end"
   ]
  },
  {
   "cell_type": "code",
   "execution_count": 76,
   "metadata": {},
   "outputs": [
    {
     "data": {
      "text/plain": [
       "(22990, 3437)"
      ]
     },
     "execution_count": 76,
     "metadata": {},
     "output_type": "execute_result"
    }
   ],
   "source": [
    "size(df_cn_ep, 1), count(!ismissing, df_cn_ep.GSN_ID)"
   ]
  },
  {
   "cell_type": "code",
   "execution_count": 50,
   "metadata": {},
   "outputs": [
    {
     "data": {
      "text/plain": [
       "200"
      ]
     },
     "execution_count": 50,
     "metadata": {},
     "output_type": "execute_result"
    }
   ],
   "source": [
    "authority_id_gsn = 200 # siehe oben"
   ]
  },
  {
   "cell_type": "code",
   "execution_count": 51,
   "metadata": {},
   "outputs": [],
   "source": [
    "df_cn_gsn = dropmissing(df_cn_ep, :GSN_ID)\n",
    "df_cn_gsn[!, :authority_id] .= authority_id_gsn;"
   ]
  },
  {
   "cell_type": "markdown",
   "metadata": {},
   "source": [
    "Finde die jeweils aktuell gültige GSN"
   ]
  },
  {
   "cell_type": "code",
   "execution_count": 52,
   "metadata": {},
   "outputs": [
    {
     "data": {
      "text/plain": [
       "\"gso_in_202205\""
      ]
     },
     "execution_count": 52,
     "metadata": {},
     "output_type": "execute_result"
    }
   ],
   "source": [
    "gso_db = \"gso_in_202205\""
   ]
  },
  {
   "cell_type": "code",
   "execution_count": 53,
   "metadata": {},
   "outputs": [],
   "source": [
    "# gsn_gsn wird erzeugt aus gsn, siehe notebook Domherr-GS\n",
    "sql = \"SELECT id_new AS gs_gsn_id, nummer, nummer_new\n",
    "FROM $(gso_db).gsn_gsn\";\n",
    "df_gsn_gsn = Wds.sql_df(sql);"
   ]
  },
  {
   "cell_type": "code",
   "execution_count": 54,
   "metadata": {},
   "outputs": [],
   "source": [
    "df_ins_gsn = innerjoin(df_cn_gsn, df_gsn_gsn, on = :GSN_ID => :nummer);"
   ]
  },
  {
   "cell_type": "code",
   "execution_count": 55,
   "metadata": {},
   "outputs": [],
   "source": [
    "df_new_gsn = subset(df_ins_gsn, [:nummer_new, :GSN_ID] => ByRow(!isequal));"
   ]
  },
  {
   "cell_type": "code",
   "execution_count": 56,
   "metadata": {},
   "outputs": [
    {
     "data": {
      "text/plain": [
       "(59, 56)"
      ]
     },
     "execution_count": 56,
     "metadata": {},
     "output_type": "execute_result"
    }
   ],
   "source": [
    "size(df_new_gsn)"
   ]
  },
  {
   "cell_type": "code",
   "execution_count": 99,
   "metadata": {},
   "outputs": [
    {
     "data": {
      "text/html": [
       "<div class=\"data-frame\"><p>5 rows × 6 columns</p><table class=\"data-frame\"><thead><tr><th></th><th>id</th><th>ID_Domherr</th><th>Vorname</th><th>Familienname</th><th>GSN_ID</th><th>nummer_new</th></tr><tr><th></th><th title=\"Int32\">Int32</th><th title=\"Int64\">Int64</th><th title=\"Union{Missing, String}\">String?</th><th title=\"Union{Missing, String}\">String?</th><th title=\"String\">String</th><th title=\"String\">String</th></tr></thead><tbody><tr><th>1</th><td>275335</td><td>15744</td><td>Franz Georg</td><td>Schönborn</td><td>062-00326-001</td><td>082-00917-001</td></tr><tr><th>2</th><td>277346</td><td>17753</td><td>Franz Georg</td><td>Schönborn</td><td>062-00326-001</td><td>082-00917-001</td></tr><tr><th>3</th><td>276596</td><td>17003</td><td>Damian Wilhelm Kaspar</td><td>Forstmeister von Gelnhausen</td><td>064-00715-001</td><td>080-01208-001</td></tr><tr><th>4</th><td>277006</td><td>17373</td><td>Johann Georg</td><td>Stingelheim</td><td>076-01535-001</td><td>077-00428-001</td></tr><tr><th>5</th><td>270431</td><td>10430</td><td>Johann</td><td>Heppenheim genannt Saal</td><td>068-01770-001</td><td>036-02303-001</td></tr></tbody></table></div>"
      ],
      "text/latex": [
       "\\begin{tabular}{r|cccccc}\n",
       "\t& id & ID\\_Domherr & Vorname & Familienname & GSN\\_ID & nummer\\_new\\\\\n",
       "\t\\hline\n",
       "\t& Int32 & Int64 & String? & String? & String & String\\\\\n",
       "\t\\hline\n",
       "\t1 & 275335 & 15744 & Franz Georg & Schönborn & 062-00326-001 & 082-00917-001 \\\\\n",
       "\t2 & 277346 & 17753 & Franz Georg & Schönborn & 062-00326-001 & 082-00917-001 \\\\\n",
       "\t3 & 276596 & 17003 & Damian Wilhelm Kaspar & Forstmeister von Gelnhausen & 064-00715-001 & 080-01208-001 \\\\\n",
       "\t4 & 277006 & 17373 & Johann Georg & Stingelheim & 076-01535-001 & 077-00428-001 \\\\\n",
       "\t5 & 270431 & 10430 & Johann & Heppenheim genannt Saal & 068-01770-001 & 036-02303-001 \\\\\n",
       "\\end{tabular}\n"
      ],
      "text/plain": [
       "\u001b[1m5×6 DataFrame\u001b[0m\n",
       "\u001b[1m Row \u001b[0m│\u001b[1m id     \u001b[0m\u001b[1m ID_Domherr \u001b[0m\u001b[1m Vorname               \u001b[0m\u001b[1m Familienname                \u001b[0m\u001b[1m GSN_ID        \u001b[0m\u001b[1m nummer_new    \u001b[0m\n",
       "\u001b[1m     \u001b[0m│\u001b[90m Int32  \u001b[0m\u001b[90m Int64      \u001b[0m\u001b[90m String?               \u001b[0m\u001b[90m String?                     \u001b[0m\u001b[90m String        \u001b[0m\u001b[90m String        \u001b[0m\n",
       "─────┼──────────────────────────────────────────────────────────────────────────────────────────────────────\n",
       "   1 │ 275335       15744  Franz Georg            Schönborn                    062-00326-001  082-00917-001\n",
       "   2 │ 277346       17753  Franz Georg            Schönborn                    062-00326-001  082-00917-001\n",
       "   3 │ 276596       17003  Damian Wilhelm Kaspar  Forstmeister von Gelnhausen  064-00715-001  080-01208-001\n",
       "   4 │ 277006       17373  Johann Georg           Stingelheim                  076-01535-001  077-00428-001\n",
       "   5 │ 270431       10430  Johann                 Heppenheim genannt Saal      068-01770-001  036-02303-001"
      ]
     },
     "execution_count": 99,
     "metadata": {},
     "output_type": "execute_result"
    }
   ],
   "source": [
    "df_new_gsn[36:40, [:id, :ID_Domherr, :Vorname, :Familienname, :GSN_ID, :nummer_new]]"
   ]
  },
  {
   "cell_type": "markdown",
   "metadata": {},
   "source": [
    "Ausgabe für die Redaktion"
   ]
  },
  {
   "cell_type": "code",
   "execution_count": 57,
   "metadata": {},
   "outputs": [
    {
     "data": {
      "text/plain": [
       "7-element Vector{Pair{Symbol, Symbol}}:\n",
       "           :id => :id\n",
       "    :is_online => :is_online\n",
       "   :ID_Domherr => :ID_Domherr\n",
       "      :Vorname => :Vorname\n",
       " :Familienname => :Familienname\n",
       "       :GSN_ID => :GSN_ID\n",
       "   :nummer_new => :GSN_ID_neu"
      ]
     },
     "execution_count": 57,
     "metadata": {},
     "output_type": "execute_result"
    }
   ],
   "source": [
    "columns = [\n",
    "    :id => :id,\n",
    "    :is_online => :is_online,\n",
    "    :ID_Domherr => :ID_Domherr,\n",
    "    :Vorname => :Vorname,\n",
    "    :Familienname => :Familienname,\n",
    "    :GSN_ID => :GSN_ID,\n",
    "    :nummer_new => :GSN_ID_neu,\n",
    "]"
   ]
  },
  {
   "cell_type": "code",
   "execution_count": 58,
   "metadata": {},
   "outputs": [
    {
     "data": {
      "text/plain": [
       "\"C:\\\\Users\\\\georg\\\\Documents\\\\projekte-doc\\\\WIAGweb2\\\\data\\\\domherren_gsn_neu_2022-06-03.csv\""
      ]
     },
     "execution_count": 58,
     "metadata": {},
     "output_type": "execute_result"
    }
   ],
   "source": [
    "out_path = \"C:\\\\Users\\\\georg\\\\Documents\\\\projekte-doc\\\\WIAGweb2\\\\data\";\n",
    "filename = joinpath(out_path, \"domherren_gsn_neu_2022-06-03.csv\");\n",
    "CSV.write(filename, select(df_new_gsn, columns), delim = \";\")"
   ]
  },
  {
   "cell_type": "code",
   "execution_count": 84,
   "metadata": {},
   "outputs": [],
   "source": [
    "df_ins = select(df_ins_gsn, :id => :item_id, :authority_id, :nummer_new => :value);"
   ]
  },
  {
   "cell_type": "code",
   "execution_count": 85,
   "metadata": {
    "scrolled": true
   },
   "outputs": [
    {
     "data": {
      "text/html": [
       "<div class=\"data-frame\"><p>5 rows × 3 columns</p><table class=\"data-frame\"><thead><tr><th></th><th>item_id</th><th>authority_id</th><th>value</th></tr><tr><th></th><th title=\"Int32\">Int32</th><th title=\"Int64\">Int64</th><th title=\"String\">String</th></tr></thead><tbody><tr><th>1</th><td>283796</td><td>200</td><td>016-03676-001</td></tr><tr><th>2</th><td>283878</td><td>200</td><td>016-03682-001</td></tr><tr><th>3</th><td>283830</td><td>200</td><td>016-03709-001</td></tr><tr><th>4</th><td>284718</td><td>200</td><td>016-03769-001</td></tr><tr><th>5</th><td>283795</td><td>200</td><td>016-03781-001</td></tr></tbody></table></div>"
      ],
      "text/latex": [
       "\\begin{tabular}{r|ccc}\n",
       "\t& item\\_id & authority\\_id & value\\\\\n",
       "\t\\hline\n",
       "\t& Int32 & Int64 & String\\\\\n",
       "\t\\hline\n",
       "\t1 & 283796 & 200 & 016-03676-001 \\\\\n",
       "\t2 & 283878 & 200 & 016-03682-001 \\\\\n",
       "\t3 & 283830 & 200 & 016-03709-001 \\\\\n",
       "\t4 & 284718 & 200 & 016-03769-001 \\\\\n",
       "\t5 & 283795 & 200 & 016-03781-001 \\\\\n",
       "\\end{tabular}\n"
      ],
      "text/plain": [
       "\u001b[1m5×3 DataFrame\u001b[0m\n",
       "\u001b[1m Row \u001b[0m│\u001b[1m item_id \u001b[0m\u001b[1m authority_id \u001b[0m\u001b[1m value         \u001b[0m\n",
       "\u001b[1m     \u001b[0m│\u001b[90m Int32   \u001b[0m\u001b[90m Int64        \u001b[0m\u001b[90m String        \u001b[0m\n",
       "─────┼──────────────────────────────────────\n",
       "   1 │  283796           200  016-03676-001\n",
       "   2 │  283878           200  016-03682-001\n",
       "   3 │  283830           200  016-03709-001\n",
       "   4 │  284718           200  016-03769-001\n",
       "   5 │  283795           200  016-03781-001"
      ]
     },
     "execution_count": 85,
     "metadata": {},
     "output_type": "execute_result"
    }
   ],
   "source": [
    "df_ins[321:325, :]"
   ]
  },
  {
   "cell_type": "code",
   "execution_count": 86,
   "metadata": {},
   "outputs": [
    {
     "name": "stderr",
     "output_type": "stream",
     "text": [
      "┌ Info: Rows inserted: 3430\n",
      "└ @ WiagDataSetup C:\\Users\\georg\\Documents\\projekte\\WiagDataSetup.jl\\src\\WiagDataSetup.jl:1216\n"
     ]
    },
    {
     "data": {
      "text/plain": [
       "3430"
      ]
     },
     "execution_count": 86,
     "metadata": {},
     "output_type": "execute_result"
    }
   ],
   "source": [
    "Wds.filltable!(\"id_external\", df_ins)"
   ]
  },
  {
   "cell_type": "markdown",
   "metadata": {},
   "source": [
    "**WIAG-ID**"
   ]
  },
  {
   "cell_type": "code",
   "execution_count": 87,
   "metadata": {},
   "outputs": [
    {
     "data": {
      "text/plain": [
       "5"
      ]
     },
     "execution_count": 87,
     "metadata": {},
     "output_type": "execute_result"
    }
   ],
   "source": [
    "authority_id_wiag = 5 # siehe oben"
   ]
  },
  {
   "cell_type": "code",
   "execution_count": 88,
   "metadata": {},
   "outputs": [],
   "source": [
    "df_cn_wiag = dropmissing(df_cn, :WIAG_ID_Bischof)\n",
    "df_cn_wiag[!, :authority_id] .= authority_id_wiag;"
   ]
  },
  {
   "cell_type": "code",
   "execution_count": 89,
   "metadata": {},
   "outputs": [],
   "source": [
    "df_ins = select(df_cn_wiag, :id => :item_id, :authority_id, :WIAG_ID_Bischof => :value);"
   ]
  },
  {
   "cell_type": "code",
   "execution_count": 90,
   "metadata": {},
   "outputs": [
    {
     "data": {
      "text/plain": [
       "(836, 3)"
      ]
     },
     "execution_count": 90,
     "metadata": {},
     "output_type": "execute_result"
    }
   ],
   "source": [
    "size(df_ins)"
   ]
  },
  {
   "cell_type": "code",
   "execution_count": 91,
   "metadata": {},
   "outputs": [
    {
     "name": "stderr",
     "output_type": "stream",
     "text": [
      "┌ Info: Rows inserted: 836\n",
      "└ @ WiagDataSetup C:\\Users\\georg\\Documents\\projekte\\WiagDataSetup.jl\\src\\WiagDataSetup.jl:1216\n"
     ]
    },
    {
     "data": {
      "text/plain": [
       "836"
      ]
     },
     "execution_count": 91,
     "metadata": {},
     "output_type": "execute_result"
    }
   ],
   "source": [
    "Wds.filltable!(\"id_external\", df_ins)"
   ]
  },
  {
   "cell_type": "markdown",
   "metadata": {},
   "source": [
    "**Wikipedia**"
   ]
  },
  {
   "cell_type": "code",
   "execution_count": 92,
   "metadata": {},
   "outputs": [
    {
     "data": {
      "text/plain": [
       "3"
      ]
     },
     "execution_count": 92,
     "metadata": {},
     "output_type": "execute_result"
    }
   ],
   "source": [
    "authority_id_wp = 3 # siehe oben"
   ]
  },
  {
   "cell_type": "code",
   "execution_count": 93,
   "metadata": {},
   "outputs": [],
   "source": [
    "df_cn_wp = dropmissing(df_cn, :URL_Wikipedia)\n",
    "df_cn_wp[!, :authority_id] .= authority_id_wp;"
   ]
  },
  {
   "cell_type": "code",
   "execution_count": 94,
   "metadata": {},
   "outputs": [],
   "source": [
    "df_ins = select(df_cn_wp, :id => :item_id, :authority_id, :URL_Wikipedia => :value);"
   ]
  },
  {
   "cell_type": "markdown",
   "metadata": {},
   "source": [
    "Die Wikipedia-URLs sind teilweise mit '#' versehen und doppelt  \n",
    "#https://de.wikipedia.org/wiki/Ruprecht_von_der_Pfalz_%28Freising%29#https://de.wikipedia.org/wiki/Ruprecht_von_der_Pfalz_%28Freising%29#"
   ]
  },
  {
   "cell_type": "code",
   "execution_count": 209,
   "metadata": {},
   "outputs": [
    {
     "data": {
      "text/plain": [
       "\"Ruprecht_von_der_Pfalz_%28Freising%29\""
      ]
     },
     "execution_count": 209,
     "metadata": {},
     "output_type": "execute_result"
    }
   ],
   "source": [
    "url_m = \"#https://de.wikipedia.org/wiki/Ruprecht_von_der_Pfalz_%28Freising%29#https://de.wikipedia.org/wiki/Ruprecht_von_der_Pfalz_%28Freising%29#\"\n",
    "Wds.fix_Wikipedia_URL(url_m)"
   ]
  },
  {
   "cell_type": "code",
   "execution_count": 95,
   "metadata": {},
   "outputs": [],
   "source": [
    "transform!(df_ins, :value => ByRow(Wds.fix_Wikipedia_URL) => :value);"
   ]
  },
  {
   "cell_type": "code",
   "execution_count": 96,
   "metadata": {
    "scrolled": true
   },
   "outputs": [
    {
     "data": {
      "text/html": [
       "<div class=\"data-frame\"><p>5 rows × 3 columns</p><table class=\"data-frame\"><thead><tr><th></th><th>item_id</th><th>authority_id</th><th>value</th></tr><tr><th></th><th title=\"Int32\">Int32</th><th title=\"Int64\">Int64</th><th title=\"SubString{String}\">SubStri…</th></tr></thead><tbody><tr><th>1</th><td>273579</td><td>3</td><td>Heinrich_Karl_von_Schreckenstein</td></tr><tr><th>2</th><td>273578</td><td>3</td><td>Sigmund_Christoph_von_Waldburg_zu_Zeil_und_Trauchburg</td></tr><tr><th>3</th><td>273575</td><td>3</td><td>Johann_Friedrich_von_Waldstein-Wartenberg</td></tr><tr><th>4</th><td>273569</td><td>3</td><td>Johann_Nepomuk_von_Roll_zu_Bernau</td></tr><tr><th>5</th><td>273566</td><td>3</td><td>Ignaz_Heinrich_von_Wessenberg</td></tr></tbody></table></div>"
      ],
      "text/latex": [
       "\\begin{tabular}{r|ccc}\n",
       "\t& item\\_id & authority\\_id & value\\\\\n",
       "\t\\hline\n",
       "\t& Int32 & Int64 & SubStri…\\\\\n",
       "\t\\hline\n",
       "\t1 & 273579 & 3 & Heinrich\\_Karl\\_von\\_Schreckenstein \\\\\n",
       "\t2 & 273578 & 3 & Sigmund\\_Christoph\\_von\\_Waldburg\\_zu\\_Zeil\\_und\\_Trauchburg \\\\\n",
       "\t3 & 273575 & 3 & Johann\\_Friedrich\\_von\\_Waldstein-Wartenberg \\\\\n",
       "\t4 & 273569 & 3 & Johann\\_Nepomuk\\_von\\_Roll\\_zu\\_Bernau \\\\\n",
       "\t5 & 273566 & 3 & Ignaz\\_Heinrich\\_von\\_Wessenberg \\\\\n",
       "\\end{tabular}\n"
      ],
      "text/plain": [
       "\u001b[1m5×3 DataFrame\u001b[0m\n",
       "\u001b[1m Row \u001b[0m│\u001b[1m item_id \u001b[0m\u001b[1m authority_id \u001b[0m\u001b[1m value                             \u001b[0m\n",
       "\u001b[1m     \u001b[0m│\u001b[90m Int32   \u001b[0m\u001b[90m Int64        \u001b[0m\u001b[90m SubStrin…                         \u001b[0m\n",
       "─────┼──────────────────────────────────────────────────────────\n",
       "   1 │  273579             3  Heinrich_Karl_von_Schreckenstein\n",
       "   2 │  273578             3  Sigmund_Christoph_von_Waldburg_z…\n",
       "   3 │  273575             3  Johann_Friedrich_von_Waldstein-W…\n",
       "   4 │  273569             3  Johann_Nepomuk_von_Roll_zu_Bernau\n",
       "   5 │  273566             3  Ignaz_Heinrich_von_Wessenberg"
      ]
     },
     "execution_count": 96,
     "metadata": {},
     "output_type": "execute_result"
    }
   ],
   "source": [
    "df_ins[300:304, :]"
   ]
  },
  {
   "cell_type": "markdown",
   "metadata": {},
   "source": [
    "*debug begin*"
   ]
  },
  {
   "cell_type": "code",
   "execution_count": 57,
   "metadata": {},
   "outputs": [],
   "source": [
    "using CSV"
   ]
  },
  {
   "cell_type": "code",
   "execution_count": 58,
   "metadata": {},
   "outputs": [
    {
     "data": {
      "text/plain": [
       "\"C:\\\\Users\\\\georg\\\\Documents\\\\tmp\\\\bishops_url_wikidata.csv\""
      ]
     },
     "execution_count": 58,
     "metadata": {},
     "output_type": "execute_result"
    }
   ],
   "source": [
    "file_wp = \"C:\\\\Users\\\\georg\\\\Documents\\\\tmp\\\\bishops_url_wikidata.csv\""
   ]
  },
  {
   "cell_type": "code",
   "execution_count": 59,
   "metadata": {},
   "outputs": [
    {
     "data": {
      "text/plain": [
       "\"C:\\\\Users\\\\georg\\\\Documents\\\\tmp\\\\bishops_url_wikidata.csv\""
      ]
     },
     "execution_count": 59,
     "metadata": {},
     "output_type": "execute_result"
    }
   ],
   "source": [
    "CSV.write(file_wp, df_ins)"
   ]
  },
  {
   "cell_type": "markdown",
   "metadata": {},
   "source": [
    "*debug end*"
   ]
  },
  {
   "cell_type": "code",
   "execution_count": 97,
   "metadata": {},
   "outputs": [
    {
     "name": "stderr",
     "output_type": "stream",
     "text": [
      "┌ Info: Rows inserted: 1558\n",
      "└ @ WiagDataSetup C:\\Users\\georg\\Documents\\projekte\\WiagDataSetup.jl\\src\\WiagDataSetup.jl:1216\n"
     ]
    },
    {
     "data": {
      "text/plain": [
       "1558"
      ]
     },
     "execution_count": 97,
     "metadata": {},
     "output_type": "execute_result"
    }
   ],
   "source": [
    "Wds.filltable!(\"id_external\", df_ins)"
   ]
  },
  {
   "cell_type": "markdown",
   "metadata": {},
   "source": [
    "### Namensvarianten eintragen"
   ]
  },
  {
   "cell_type": "code",
   "execution_count": 7,
   "metadata": {},
   "outputs": [],
   "source": [
    "using MySQL, DataFrames"
   ]
  },
  {
   "cell_type": "code",
   "execution_count": 213,
   "metadata": {},
   "outputs": [],
   "source": [
    "# Quelle CSV-Datei\n",
    "filename = joinpath(data_path, \"tbl_domherren.csv\");\n",
    "df_cn = CSV.read(filename, DataFrame);"
   ]
  },
  {
   "cell_type": "code",
   "execution_count": null,
   "metadata": {},
   "outputs": [],
   "source": [
    "# Quelle Datenbank\n",
    "table_name = \"domherr.tbl_domherren\"\n",
    "sql = \"SELECT ID_Domherr, Vorname, Familienname, Vorname_Variante, Familienname_Variante \" *\n",
    "\"FROM $(table_name)\"\n",
    "df_cn = Wds.sql_df(sql);"
   ]
  },
  {
   "cell_type": "code",
   "execution_count": 214,
   "metadata": {},
   "outputs": [],
   "source": [
    "Wds.clean_up!(df_cn)"
   ]
  },
  {
   "cell_type": "code",
   "execution_count": 215,
   "metadata": {},
   "outputs": [],
   "source": [
    "df_fnv = dropmissing(df_cn, :Familienname_Variante);"
   ]
  },
  {
   "cell_type": "code",
   "execution_count": 216,
   "metadata": {},
   "outputs": [
    {
     "data": {
      "text/plain": [
       "1280"
      ]
     },
     "execution_count": 216,
     "metadata": {},
     "output_type": "execute_result"
    }
   ],
   "source": [
    "size(df_fnv, 1)"
   ]
  },
  {
   "cell_type": "code",
   "execution_count": 217,
   "metadata": {},
   "outputs": [
    {
     "data": {
      "text/html": [
       "<div class=\"data-frame\"><p>7 rows × 48 columns (omitted printing of 38 columns)</p><table class=\"data-frame\"><thead><tr><th></th><th>ID_Domherr</th><th>Eintrag_Quelle</th><th>Seite_Quelle</th><th>Quelle</th><th>Praefix</th><th>Vorname</th><th>Familienname</th><th>Sterbedatum</th><th>Geburtsdatum</th><th>Orden</th></tr><tr><th></th><th title=\"Int64\">Int64</th><th title=\"Union{Missing, String}\">String?</th><th title=\"Union{Missing, String}\">String?</th><th title=\"Int64\">Int64</th><th title=\"Union{Missing, String}\">String?</th><th title=\"Union{Missing, String}\">String?</th><th title=\"Union{Missing, String}\">String?</th><th title=\"Union{Missing, String}\">String?</th><th title=\"Union{Missing, String}\">String?</th><th title=\"Union{Missing, String}\">String?</th></tr></thead><tbody><tr><th>1</th><td>13608</td><td><em>missing</em></td><td>41</td><td>29</td><td>von</td><td>Everwin</td><td>Adenoys</td><td><em>missing</em></td><td><em>missing</em></td><td><em>missing</em></td></tr><tr><th>2</th><td>13609</td><td><em>missing</em></td><td>41</td><td>29</td><td>von</td><td>Friedrich</td><td>Adenoys</td><td><em>missing</em></td><td><em>missing</em></td><td><em>missing</em></td></tr><tr><th>3</th><td>13618</td><td><em>missing</em></td><td>43</td><td>29</td><td>vom</td><td>Heinrich</td><td>Altenmarkte</td><td><em>missing</em></td><td><em>missing</em></td><td><em>missing</em></td></tr><tr><th>4</th><td>13619</td><td><em>missing</em></td><td>43</td><td>29</td><td>vom</td><td>Lippold</td><td>Altenmarkte</td><td><em>missing</em></td><td><em>missing</em></td><td><em>missing</em></td></tr><tr><th>5</th><td>13639</td><td><em>missing</em></td><td>46</td><td>29</td><td>von</td><td>Heinrich</td><td>Berge</td><td>1266</td><td><em>missing</em></td><td><em>missing</em></td></tr><tr><th>6</th><td>13640</td><td><em>missing</em></td><td>46</td><td>29</td><td>von</td><td>Gerhard</td><td>Berge</td><td>1398</td><td><em>missing</em></td><td><em>missing</em></td></tr><tr><th>7</th><td>13641</td><td><em>missing</em></td><td>46</td><td>29</td><td>Edelherr vom</td><td>Otto III.</td><td>Berge</td><td>1398</td><td><em>missing</em></td><td><em>missing</em></td></tr></tbody></table></div>"
      ],
      "text/latex": [
       "\\begin{tabular}{r|ccccccccccc}\n",
       "\t& ID\\_Domherr & Eintrag\\_Quelle & Seite\\_Quelle & Quelle & Praefix & Vorname & Familienname & Sterbedatum & Geburtsdatum & Orden & \\\\\n",
       "\t\\hline\n",
       "\t& Int64 & String? & String? & Int64 & String? & String? & String? & String? & String? & String? & \\\\\n",
       "\t\\hline\n",
       "\t1 & 13608 & \\emph{missing} & 41 & 29 & von & Everwin & Adenoys & \\emph{missing} & \\emph{missing} & \\emph{missing} & $\\dots$ \\\\\n",
       "\t2 & 13609 & \\emph{missing} & 41 & 29 & von & Friedrich & Adenoys & \\emph{missing} & \\emph{missing} & \\emph{missing} & $\\dots$ \\\\\n",
       "\t3 & 13618 & \\emph{missing} & 43 & 29 & vom & Heinrich & Altenmarkte & \\emph{missing} & \\emph{missing} & \\emph{missing} & $\\dots$ \\\\\n",
       "\t4 & 13619 & \\emph{missing} & 43 & 29 & vom & Lippold & Altenmarkte & \\emph{missing} & \\emph{missing} & \\emph{missing} & $\\dots$ \\\\\n",
       "\t5 & 13639 & \\emph{missing} & 46 & 29 & von & Heinrich & Berge & 1266 & \\emph{missing} & \\emph{missing} & $\\dots$ \\\\\n",
       "\t6 & 13640 & \\emph{missing} & 46 & 29 & von & Gerhard & Berge & 1398 & \\emph{missing} & \\emph{missing} & $\\dots$ \\\\\n",
       "\t7 & 13641 & \\emph{missing} & 46 & 29 & Edelherr vom & Otto III. & Berge & 1398 & \\emph{missing} & \\emph{missing} & $\\dots$ \\\\\n",
       "\\end{tabular}\n"
      ],
      "text/plain": [
       "\u001b[1m7×48 DataFrame\u001b[0m\n",
       "\u001b[1m Row \u001b[0m│\u001b[1m ID_Domherr \u001b[0m\u001b[1m Eintrag_Quelle \u001b[0m\u001b[1m Seite_Quelle \u001b[0m\u001b[1m Quelle \u001b[0m\u001b[1m Praefix      \u001b[0m\u001b[1m Vorname   \u001b[0m\u001b[1m Familienname \u001b[0m\u001b[1m Sterbedatum \u001b[0m\u001b[1m Geburtsda\u001b[0m ⋯\n",
       "\u001b[1m     \u001b[0m│\u001b[90m Int64      \u001b[0m\u001b[90m String?        \u001b[0m\u001b[90m String?      \u001b[0m\u001b[90m Int64  \u001b[0m\u001b[90m String?      \u001b[0m\u001b[90m String?   \u001b[0m\u001b[90m String?      \u001b[0m\u001b[90m String?     \u001b[0m\u001b[90m String?  \u001b[0m ⋯\n",
       "─────┼──────────────────────────────────────────────────────────────────────────────────────────────────────────────────\n",
       "   1 │      13608 \u001b[90m missing        \u001b[0m 41                29  von           Everwin    Adenoys      \u001b[90m missing     \u001b[0m\u001b[90m missing  \u001b[0m ⋯\n",
       "   2 │      13609 \u001b[90m missing        \u001b[0m 41                29  von           Friedrich  Adenoys      \u001b[90m missing     \u001b[0m\u001b[90m missing\u001b[0m\n",
       "   3 │      13618 \u001b[90m missing        \u001b[0m 43                29  vom           Heinrich   Altenmarkte  \u001b[90m missing     \u001b[0m\u001b[90m missing\u001b[0m\n",
       "   4 │      13619 \u001b[90m missing        \u001b[0m 43                29  vom           Lippold    Altenmarkte  \u001b[90m missing     \u001b[0m\u001b[90m missing\u001b[0m\n",
       "   5 │      13639 \u001b[90m missing        \u001b[0m 46                29  von           Heinrich   Berge         1266        \u001b[90m missing  \u001b[0m ⋯\n",
       "   6 │      13640 \u001b[90m missing        \u001b[0m 46                29  von           Gerhard    Berge         1398        \u001b[90m missing\u001b[0m\n",
       "   7 │      13641 \u001b[90m missing        \u001b[0m 46                29  Edelherr vom  Otto III.  Berge         1398        \u001b[90m missing\u001b[0m\n",
       "\u001b[36m                                                                                                      40 columns omitted\u001b[0m"
      ]
     },
     "execution_count": 217,
     "metadata": {},
     "output_type": "execute_result"
    }
   ],
   "source": [
    "df_fnv[201:207, :]"
   ]
  },
  {
   "cell_type": "code",
   "execution_count": 218,
   "metadata": {},
   "outputs": [],
   "source": [
    "df_exp = Wds.expand_column(df_fnv, :Familienname_Variante, delim = \",\");"
   ]
  },
  {
   "cell_type": "code",
   "execution_count": 219,
   "metadata": {},
   "outputs": [
    {
     "data": {
      "text/plain": [
       "1552"
      ]
     },
     "execution_count": 219,
     "metadata": {},
     "output_type": "execute_result"
    }
   ],
   "source": [
    "size(df_exp, 1)"
   ]
  },
  {
   "cell_type": "code",
   "execution_count": 220,
   "metadata": {},
   "outputs": [
    {
     "data": {
      "text/html": [
       "<div class=\"data-frame\"><p>7 rows × 48 columns (omitted printing of 38 columns)</p><table class=\"data-frame\"><thead><tr><th></th><th>ID_Domherr</th><th>Eintrag_Quelle</th><th>Seite_Quelle</th><th>Quelle</th><th>Praefix</th><th>Vorname</th><th>Familienname</th><th>Sterbedatum</th><th>Geburtsdatum</th><th>Orden</th></tr><tr><th></th><th title=\"Int64\">Int64</th><th title=\"Union{Missing, String}\">String?</th><th title=\"Union{Missing, String}\">String?</th><th title=\"Int64\">Int64</th><th title=\"Union{Missing, String}\">String?</th><th title=\"Union{Missing, String}\">String?</th><th title=\"Union{Missing, String}\">String?</th><th title=\"Union{Missing, String}\">String?</th><th title=\"Union{Missing, String}\">String?</th><th title=\"Union{Missing, String}\">String?</th></tr></thead><tbody><tr><th>1</th><td>13166</td><td><em>missing</em></td><td>391</td><td>24</td><td><em>missing</em></td><td>Bertholin</td><td>Canali</td><td><em>missing</em></td><td><em>missing</em></td><td><em>missing</em></td></tr><tr><th>2</th><td>13178</td><td><em>missing</em></td><td>391 f.</td><td>24</td><td><em>missing</em></td><td>Nikolaus</td><td>Capociae</td><td><em>missing</em></td><td><em>missing</em></td><td><em>missing</em></td></tr><tr><th>3</th><td>13181</td><td><em>missing</em></td><td>349f.</td><td>24</td><td><em>missing</em></td><td>Johann</td><td>Button</td><td>1351</td><td><em>missing</em></td><td><em>missing</em></td></tr><tr><th>4</th><td>13185</td><td><em>missing</em></td><td>436</td><td>24</td><td>von</td><td>Albrecht</td><td>Sachsen</td><td>1342</td><td><em>missing</em></td><td><em>missing</em></td></tr><tr><th>5</th><td>13191</td><td><em>missing</em></td><td>373</td><td>24</td><td>von</td><td>Johann</td><td>Göttingen</td><td>1349</td><td><em>missing</em></td><td><em>missing</em></td></tr><tr><th>6</th><td>13191</td><td><em>missing</em></td><td>373</td><td>24</td><td>von</td><td>Johann</td><td>Göttingen</td><td>1349</td><td><em>missing</em></td><td><em>missing</em></td></tr><tr><th>7</th><td>13193</td><td><em>missing</em></td><td>390</td><td>24</td><td>von</td><td>Giso</td><td>Yaza</td><td><em>missing</em></td><td><em>missing</em></td><td><em>missing</em></td></tr></tbody></table></div>"
      ],
      "text/latex": [
       "\\begin{tabular}{r|ccccccccccc}\n",
       "\t& ID\\_Domherr & Eintrag\\_Quelle & Seite\\_Quelle & Quelle & Praefix & Vorname & Familienname & Sterbedatum & Geburtsdatum & Orden & \\\\\n",
       "\t\\hline\n",
       "\t& Int64 & String? & String? & Int64 & String? & String? & String? & String? & String? & String? & \\\\\n",
       "\t\\hline\n",
       "\t1 & 13166 & \\emph{missing} & 391 & 24 & \\emph{missing} & Bertholin & Canali & \\emph{missing} & \\emph{missing} & \\emph{missing} & $\\dots$ \\\\\n",
       "\t2 & 13178 & \\emph{missing} & 391 f. & 24 & \\emph{missing} & Nikolaus & Capociae & \\emph{missing} & \\emph{missing} & \\emph{missing} & $\\dots$ \\\\\n",
       "\t3 & 13181 & \\emph{missing} & 349f. & 24 & \\emph{missing} & Johann & Button & 1351 & \\emph{missing} & \\emph{missing} & $\\dots$ \\\\\n",
       "\t4 & 13185 & \\emph{missing} & 436 & 24 & von & Albrecht & Sachsen & 1342 & \\emph{missing} & \\emph{missing} & $\\dots$ \\\\\n",
       "\t5 & 13191 & \\emph{missing} & 373 & 24 & von & Johann & Göttingen & 1349 & \\emph{missing} & \\emph{missing} & $\\dots$ \\\\\n",
       "\t6 & 13191 & \\emph{missing} & 373 & 24 & von & Johann & Göttingen & 1349 & \\emph{missing} & \\emph{missing} & $\\dots$ \\\\\n",
       "\t7 & 13193 & \\emph{missing} & 390 & 24 & von & Giso & Yaza & \\emph{missing} & \\emph{missing} & \\emph{missing} & $\\dots$ \\\\\n",
       "\\end{tabular}\n"
      ],
      "text/plain": [
       "\u001b[1m7×48 DataFrame\u001b[0m\n",
       "\u001b[1m Row \u001b[0m│\u001b[1m ID_Domherr \u001b[0m\u001b[1m Eintrag_Quelle \u001b[0m\u001b[1m Seite_Quelle \u001b[0m\u001b[1m Quelle \u001b[0m\u001b[1m Praefix \u001b[0m\u001b[1m Vorname   \u001b[0m\u001b[1m Familienname \u001b[0m\u001b[1m Sterbedatum \u001b[0m\u001b[1m Geburtsdatum \u001b[0m\u001b[1m \u001b[0m ⋯\n",
       "\u001b[1m     \u001b[0m│\u001b[90m Int64      \u001b[0m\u001b[90m String?        \u001b[0m\u001b[90m String?      \u001b[0m\u001b[90m Int64  \u001b[0m\u001b[90m String? \u001b[0m\u001b[90m String?   \u001b[0m\u001b[90m String?      \u001b[0m\u001b[90m String?     \u001b[0m\u001b[90m String?      \u001b[0m\u001b[90m \u001b[0m ⋯\n",
       "─────┼──────────────────────────────────────────────────────────────────────────────────────────────────────────────────\n",
       "   1 │      13166 \u001b[90m missing        \u001b[0m 391               24 \u001b[90m missing \u001b[0m Bertholin  Canali       \u001b[90m missing     \u001b[0m\u001b[90m missing      \u001b[0m\u001b[90m \u001b[0m ⋯\n",
       "   2 │      13178 \u001b[90m missing        \u001b[0m 391 f.            24 \u001b[90m missing \u001b[0m Nikolaus   Capociae     \u001b[90m missing     \u001b[0m\u001b[90m missing      \u001b[0m\u001b[90m\u001b[0m\n",
       "   3 │      13181 \u001b[90m missing        \u001b[0m 349f.             24 \u001b[90m missing \u001b[0m Johann     Button        1351        \u001b[90m missing      \u001b[0m\u001b[90m\u001b[0m\n",
       "   4 │      13185 \u001b[90m missing        \u001b[0m 436               24  von      Albrecht   Sachsen       1342        \u001b[90m missing      \u001b[0m\u001b[90m\u001b[0m\n",
       "   5 │      13191 \u001b[90m missing        \u001b[0m 373               24  von      Johann     Göttingen     1349        \u001b[90m missing      \u001b[0m\u001b[90m \u001b[0m ⋯\n",
       "   6 │      13191 \u001b[90m missing        \u001b[0m 373               24  von      Johann     Göttingen     1349        \u001b[90m missing      \u001b[0m\u001b[90m\u001b[0m\n",
       "   7 │      13193 \u001b[90m missing        \u001b[0m 390               24  von      Giso       Yaza         \u001b[90m missing     \u001b[0m\u001b[90m missing      \u001b[0m\u001b[90m\u001b[0m\n",
       "\u001b[36m                                                                                                      39 columns omitted\u001b[0m"
      ]
     },
     "execution_count": 220,
     "metadata": {},
     "output_type": "execute_result"
    }
   ],
   "source": [
    "df_exp[151:157, :]"
   ]
  },
  {
   "cell_type": "code",
   "execution_count": 221,
   "metadata": {},
   "outputs": [],
   "source": [
    "transform!(df_exp, :ID_Domherr => ByRow(string) => :id_in_source);"
   ]
  },
  {
   "cell_type": "code",
   "execution_count": 222,
   "metadata": {},
   "outputs": [],
   "source": [
    "df_ins = innerjoin(df_idx, df_exp, on = :id_in_source);"
   ]
  },
  {
   "cell_type": "code",
   "execution_count": 223,
   "metadata": {},
   "outputs": [
    {
     "data": {
      "text/plain": [
       "1552"
      ]
     },
     "execution_count": 223,
     "metadata": {},
     "output_type": "execute_result"
    }
   ],
   "source": [
    "size(df_ins, 1)"
   ]
  },
  {
   "cell_type": "markdown",
   "metadata": {},
   "source": [
    "Spalte `lang` hat den Default-Wert 'de'."
   ]
  },
  {
   "cell_type": "code",
   "execution_count": 224,
   "metadata": {},
   "outputs": [
    {
     "name": "stderr",
     "output_type": "stream",
     "text": [
      "┌ Info: Rows inserted: 1552\n",
      "└ @ WiagDataSetup C:\\Users\\georg\\Documents\\projekte\\WiagDataSetup.jl\\src\\WiagDataSetup.jl:1209\n"
     ]
    },
    {
     "data": {
      "text/plain": [
       "1552"
      ]
     },
     "execution_count": 224,
     "metadata": {},
     "output_type": "execute_result"
    }
   ],
   "source": [
    "table_name = \"familyname_variant\"\n",
    "Wds.filltable!(table_name, select(df_ins, :id => :person_id, :Familienname_Variante => :name))"
   ]
  },
  {
   "cell_type": "code",
   "execution_count": 225,
   "metadata": {},
   "outputs": [],
   "source": [
    "df_gnv = dropmissing(df_cn, :Vorname_Variante);"
   ]
  },
  {
   "cell_type": "code",
   "execution_count": 226,
   "metadata": {},
   "outputs": [
    {
     "data": {
      "text/plain": [
       "895"
      ]
     },
     "execution_count": 226,
     "metadata": {},
     "output_type": "execute_result"
    }
   ],
   "source": [
    "size(df_gnv, 1)"
   ]
  },
  {
   "cell_type": "code",
   "execution_count": 227,
   "metadata": {},
   "outputs": [
    {
     "data": {
      "text/html": [
       "<div class=\"data-frame\"><p>7 rows × 48 columns (omitted printing of 39 columns)</p><table class=\"data-frame\"><thead><tr><th></th><th>ID_Domherr</th><th>Eintrag_Quelle</th><th>Seite_Quelle</th><th>Quelle</th><th>Praefix</th><th>Vorname</th><th>Familienname</th><th>Sterbedatum</th><th>Geburtsdatum</th></tr><tr><th></th><th title=\"Int64\">Int64</th><th title=\"Union{Missing, String}\">String?</th><th title=\"Union{Missing, String}\">String?</th><th title=\"Int64\">Int64</th><th title=\"Union{Missing, String}\">String?</th><th title=\"Union{Missing, String}\">String?</th><th title=\"Union{Missing, String}\">String?</th><th title=\"Union{Missing, String}\">String?</th><th title=\"Union{Missing, String}\">String?</th></tr></thead><tbody><tr><th>1</th><td>15473</td><td><em>missing</em></td><td>101, 137</td><td>6</td><td>von</td><td>Klemens August Joseph</td><td>Ascheberg</td><td><em>missing</em></td><td><em>missing</em></td></tr><tr><th>2</th><td>15477</td><td><em>missing</em></td><td>101</td><td>6</td><td><em>missing</em></td><td>Karl Daniel Philipp</td><td>Boos von Waldeck</td><td><em>missing</em></td><td><em>missing</em></td></tr><tr><th>3</th><td>15479</td><td><em>missing</em></td><td>102, 144</td><td>6</td><td>von</td><td>Franz Coelestin</td><td>Beroldingen</td><td>1798</td><td><em>missing</em></td></tr><tr><th>4</th><td>15485</td><td><em>missing</em></td><td>102, 205</td><td>6</td><td>von</td><td>Anton Adolf Ludwig</td><td>Dalwigk</td><td><em>missing</em></td><td><em>missing</em></td></tr><tr><th>5</th><td>15507</td><td><em>missing</em></td><td>102, 144, 150</td><td>6</td><td>von</td><td>Klemens August</td><td>Schorlemmer</td><td><em>missing</em></td><td><em>missing</em></td></tr><tr><th>6</th><td>15523</td><td><em>missing</em></td><td>102, 138</td><td>6</td><td>von</td><td>Klemens August</td><td>Loe</td><td><em>missing</em></td><td><em>missing</em></td></tr><tr><th>7</th><td>15557</td><td><em>missing</em></td><td>106, 119, 172, 182</td><td>6</td><td>von</td><td>Franz</td><td>Lothringen</td><td>1661</td><td><em>missing</em></td></tr></tbody></table></div>"
      ],
      "text/latex": [
       "\\begin{tabular}{r|cccccccccc}\n",
       "\t& ID\\_Domherr & Eintrag\\_Quelle & Seite\\_Quelle & Quelle & Praefix & Vorname & Familienname & Sterbedatum & Geburtsdatum & \\\\\n",
       "\t\\hline\n",
       "\t& Int64 & String? & String? & Int64 & String? & String? & String? & String? & String? & \\\\\n",
       "\t\\hline\n",
       "\t1 & 15473 & \\emph{missing} & 101, 137 & 6 & von & Klemens August Joseph & Ascheberg & \\emph{missing} & \\emph{missing} & $\\dots$ \\\\\n",
       "\t2 & 15477 & \\emph{missing} & 101 & 6 & \\emph{missing} & Karl Daniel Philipp & Boos von Waldeck & \\emph{missing} & \\emph{missing} & $\\dots$ \\\\\n",
       "\t3 & 15479 & \\emph{missing} & 102, 144 & 6 & von & Franz Coelestin & Beroldingen & 1798 & \\emph{missing} & $\\dots$ \\\\\n",
       "\t4 & 15485 & \\emph{missing} & 102, 205 & 6 & von & Anton Adolf Ludwig & Dalwigk & \\emph{missing} & \\emph{missing} & $\\dots$ \\\\\n",
       "\t5 & 15507 & \\emph{missing} & 102, 144, 150 & 6 & von & Klemens August & Schorlemmer & \\emph{missing} & \\emph{missing} & $\\dots$ \\\\\n",
       "\t6 & 15523 & \\emph{missing} & 102, 138 & 6 & von & Klemens August & Loe & \\emph{missing} & \\emph{missing} & $\\dots$ \\\\\n",
       "\t7 & 15557 & \\emph{missing} & 106, 119, 172, 182 & 6 & von & Franz & Lothringen & 1661 & \\emph{missing} & $\\dots$ \\\\\n",
       "\\end{tabular}\n"
      ],
      "text/plain": [
       "\u001b[1m7×48 DataFrame\u001b[0m\n",
       "\u001b[1m Row \u001b[0m│\u001b[1m ID_Domherr \u001b[0m\u001b[1m Eintrag_Quelle \u001b[0m\u001b[1m Seite_Quelle       \u001b[0m\u001b[1m Quelle \u001b[0m\u001b[1m Praefix \u001b[0m\u001b[1m Vorname               \u001b[0m\u001b[1m Familienname     \u001b[0m\u001b[1m Sterb\u001b[0m ⋯\n",
       "\u001b[1m     \u001b[0m│\u001b[90m Int64      \u001b[0m\u001b[90m String?        \u001b[0m\u001b[90m String?            \u001b[0m\u001b[90m Int64  \u001b[0m\u001b[90m String? \u001b[0m\u001b[90m String?               \u001b[0m\u001b[90m String?          \u001b[0m\u001b[90m Strin\u001b[0m ⋯\n",
       "─────┼──────────────────────────────────────────────────────────────────────────────────────────────────────────────────\n",
       "   1 │      15473 \u001b[90m missing        \u001b[0m 101, 137                 6  von      Klemens August Joseph  Ascheberg        \u001b[90m missi\u001b[0m ⋯\n",
       "   2 │      15477 \u001b[90m missing        \u001b[0m 101                      6 \u001b[90m missing \u001b[0m Karl Daniel Philipp    Boos von Waldeck \u001b[90m missi\u001b[0m\n",
       "   3 │      15479 \u001b[90m missing        \u001b[0m 102, 144                 6  von      Franz Coelestin        Beroldingen       1798\n",
       "   4 │      15485 \u001b[90m missing        \u001b[0m 102, 205                 6  von      Anton Adolf Ludwig     Dalwigk          \u001b[90m missi\u001b[0m\n",
       "   5 │      15507 \u001b[90m missing        \u001b[0m 102, 144, 150            6  von      Klemens August         Schorlemmer      \u001b[90m missi\u001b[0m ⋯\n",
       "   6 │      15523 \u001b[90m missing        \u001b[0m 102, 138                 6  von      Klemens August         Loe              \u001b[90m missi\u001b[0m\n",
       "   7 │      15557 \u001b[90m missing        \u001b[0m 106, 119, 172, 182       6  von      Franz                  Lothringen        1661\n",
       "\u001b[36m                                                                                                      41 columns omitted\u001b[0m"
      ]
     },
     "execution_count": 227,
     "metadata": {},
     "output_type": "execute_result"
    }
   ],
   "source": [
    "df_gnv[201:207, :]"
   ]
  },
  {
   "cell_type": "code",
   "execution_count": 228,
   "metadata": {},
   "outputs": [],
   "source": [
    "df_exp = Wds.expand_column(df_gnv, :Vorname_Variante, delim = r\", *\");"
   ]
  },
  {
   "cell_type": "code",
   "execution_count": 229,
   "metadata": {},
   "outputs": [
    {
     "data": {
      "text/plain": [
       "1047"
      ]
     },
     "execution_count": 229,
     "metadata": {},
     "output_type": "execute_result"
    }
   ],
   "source": [
    "size(df_exp, 1)"
   ]
  },
  {
   "cell_type": "code",
   "execution_count": 230,
   "metadata": {},
   "outputs": [
    {
     "data": {
      "text/html": [
       "<div class=\"data-frame\"><p>7 rows × 48 columns (omitted printing of 39 columns)</p><table class=\"data-frame\"><thead><tr><th></th><th>ID_Domherr</th><th>Eintrag_Quelle</th><th>Seite_Quelle</th><th>Quelle</th><th>Praefix</th><th>Vorname</th><th>Familienname</th><th>Sterbedatum</th><th>Geburtsdatum</th></tr><tr><th></th><th title=\"Int64\">Int64</th><th title=\"Union{Missing, String}\">String?</th><th title=\"Union{Missing, String}\">String?</th><th title=\"Int64\">Int64</th><th title=\"Union{Missing, String}\">String?</th><th title=\"Union{Missing, String}\">String?</th><th title=\"Union{Missing, String}\">String?</th><th title=\"Union{Missing, String}\">String?</th><th title=\"Union{Missing, String}\">String?</th></tr></thead><tbody><tr><th>1</th><td>13239</td><td><em>missing</em></td><td>361</td><td>24</td><td><em>missing</em></td><td>Johann</td><td>Schenk von Erbach</td><td>1383</td><td>1309</td></tr><tr><th>2</th><td>13248</td><td><em>missing</em></td><td>463 f.</td><td>24</td><td>von</td><td>Gerhard</td><td>Vivario</td><td>vor 1364</td><td><em>missing</em></td></tr><tr><th>3</th><td>13252</td><td><em>missing</em></td><td>391</td><td>24</td><td>de</td><td>Raimund</td><td>Canilhac</td><td>1373</td><td><em>missing</em></td></tr><tr><th>4</th><td>13266</td><td><em>missing</em></td><td>457</td><td>24</td><td>von</td><td>Ulrich</td><td>Stein-Steinkallenfels</td><td><em>missing</em></td><td><em>missing</em></td></tr><tr><th>5</th><td>13269</td><td><em>missing</em></td><td>336</td><td>24</td><td><em>missing</em></td><td>Reinbold</td><td>Beyer von Boppard</td><td>1364</td><td><em>missing</em></td></tr><tr><th>6</th><td>13289</td><td><em>missing</em></td><td>458</td><td>24</td><td>von</td><td>Hofwart</td><td>Sternenfels</td><td><em>missing</em></td><td><em>missing</em></td></tr><tr><th>7</th><td>13301</td><td><em>missing</em></td><td>347 f.</td><td>24</td><td>von</td><td>Kuno Herdan</td><td>Büches</td><td>1426</td><td><em>missing</em></td></tr></tbody></table></div>"
      ],
      "text/latex": [
       "\\begin{tabular}{r|cccccccccc}\n",
       "\t& ID\\_Domherr & Eintrag\\_Quelle & Seite\\_Quelle & Quelle & Praefix & Vorname & Familienname & Sterbedatum & Geburtsdatum & \\\\\n",
       "\t\\hline\n",
       "\t& Int64 & String? & String? & Int64 & String? & String? & String? & String? & String? & \\\\\n",
       "\t\\hline\n",
       "\t1 & 13239 & \\emph{missing} & 361 & 24 & \\emph{missing} & Johann & Schenk von Erbach & 1383 & 1309 & $\\dots$ \\\\\n",
       "\t2 & 13248 & \\emph{missing} & 463 f. & 24 & von & Gerhard & Vivario & vor 1364 & \\emph{missing} & $\\dots$ \\\\\n",
       "\t3 & 13252 & \\emph{missing} & 391 & 24 & de & Raimund & Canilhac & 1373 & \\emph{missing} & $\\dots$ \\\\\n",
       "\t4 & 13266 & \\emph{missing} & 457 & 24 & von & Ulrich & Stein-Steinkallenfels & \\emph{missing} & \\emph{missing} & $\\dots$ \\\\\n",
       "\t5 & 13269 & \\emph{missing} & 336 & 24 & \\emph{missing} & Reinbold & Beyer von Boppard & 1364 & \\emph{missing} & $\\dots$ \\\\\n",
       "\t6 & 13289 & \\emph{missing} & 458 & 24 & von & Hofwart & Sternenfels & \\emph{missing} & \\emph{missing} & $\\dots$ \\\\\n",
       "\t7 & 13301 & \\emph{missing} & 347 f. & 24 & von & Kuno Herdan & Büches & 1426 & \\emph{missing} & $\\dots$ \\\\\n",
       "\\end{tabular}\n"
      ],
      "text/plain": [
       "\u001b[1m7×48 DataFrame\u001b[0m\n",
       "\u001b[1m Row \u001b[0m│\u001b[1m ID_Domherr \u001b[0m\u001b[1m Eintrag_Quelle \u001b[0m\u001b[1m Seite_Quelle \u001b[0m\u001b[1m Quelle \u001b[0m\u001b[1m Praefix \u001b[0m\u001b[1m Vorname     \u001b[0m\u001b[1m Familienname          \u001b[0m\u001b[1m Sterbedatum \u001b[0m\u001b[1m Geb\u001b[0m ⋯\n",
       "\u001b[1m     \u001b[0m│\u001b[90m Int64      \u001b[0m\u001b[90m String?        \u001b[0m\u001b[90m String?      \u001b[0m\u001b[90m Int64  \u001b[0m\u001b[90m String? \u001b[0m\u001b[90m String?     \u001b[0m\u001b[90m String?               \u001b[0m\u001b[90m String?     \u001b[0m\u001b[90m Str\u001b[0m ⋯\n",
       "─────┼──────────────────────────────────────────────────────────────────────────────────────────────────────────────────\n",
       "   1 │      13239 \u001b[90m missing        \u001b[0m 361               24 \u001b[90m missing \u001b[0m Johann       Schenk von Erbach      1383         130 ⋯\n",
       "   2 │      13248 \u001b[90m missing        \u001b[0m 463 f.            24  von      Gerhard      Vivario                vor 1364    \u001b[90m mis\u001b[0m\n",
       "   3 │      13252 \u001b[90m missing        \u001b[0m 391               24  de       Raimund      Canilhac               1373        \u001b[90m mis\u001b[0m\n",
       "   4 │      13266 \u001b[90m missing        \u001b[0m 457               24  von      Ulrich       Stein-Steinkallenfels \u001b[90m missing     \u001b[0m\u001b[90m mis\u001b[0m\n",
       "   5 │      13269 \u001b[90m missing        \u001b[0m 336               24 \u001b[90m missing \u001b[0m Reinbold     Beyer von Boppard      1364        \u001b[90m mis\u001b[0m ⋯\n",
       "   6 │      13289 \u001b[90m missing        \u001b[0m 458               24  von      Hofwart      Sternenfels           \u001b[90m missing     \u001b[0m\u001b[90m mis\u001b[0m\n",
       "   7 │      13301 \u001b[90m missing        \u001b[0m 347 f.            24  von      Kuno Herdan  Büches                 1426        \u001b[90m mis\u001b[0m\n",
       "\u001b[36m                                                                                                      40 columns omitted\u001b[0m"
      ]
     },
     "execution_count": 230,
     "metadata": {},
     "output_type": "execute_result"
    }
   ],
   "source": [
    "df_exp[151:157, :]"
   ]
  },
  {
   "cell_type": "code",
   "execution_count": 231,
   "metadata": {},
   "outputs": [],
   "source": [
    "transform!(df_exp, :ID_Domherr => ByRow(string) => :id_in_source);"
   ]
  },
  {
   "cell_type": "code",
   "execution_count": 232,
   "metadata": {},
   "outputs": [],
   "source": [
    "df_ins = innerjoin(df_idx, df_exp, on = :id_in_source);"
   ]
  },
  {
   "cell_type": "code",
   "execution_count": 233,
   "metadata": {},
   "outputs": [
    {
     "data": {
      "text/plain": [
       "1047"
      ]
     },
     "execution_count": 233,
     "metadata": {},
     "output_type": "execute_result"
    }
   ],
   "source": [
    "size(df_ins, 1)"
   ]
  },
  {
   "cell_type": "markdown",
   "metadata": {},
   "source": [
    "Spalte `lang` hat den Default-Wert 'de'."
   ]
  },
  {
   "cell_type": "code",
   "execution_count": 234,
   "metadata": {},
   "outputs": [
    {
     "name": "stderr",
     "output_type": "stream",
     "text": [
      "┌ Info: Rows inserted: 1047\n",
      "└ @ WiagDataSetup C:\\Users\\georg\\Documents\\projekte\\WiagDataSetup.jl\\src\\WiagDataSetup.jl:1209\n"
     ]
    },
    {
     "data": {
      "text/plain": [
       "1047"
      ]
     },
     "execution_count": 234,
     "metadata": {},
     "output_type": "execute_result"
    }
   ],
   "source": [
    "table_dst = \"givenname_variant\"\n",
    "Wds.filltable!(table_dst, select(df_ins, :id => :person_id, :Vorname_Variante => :name))"
   ]
  },
  {
   "cell_type": "markdown",
   "metadata": {},
   "source": [
    "### Suchvarianten eintragen (name_lookup)"
   ]
  },
  {
   "cell_type": "markdown",
   "metadata": {},
   "source": [
    "Test"
   ]
  },
  {
   "cell_type": "code",
   "execution_count": 365,
   "metadata": {
    "scrolled": true
   },
   "outputs": [
    {
     "data": {
      "text/plain": [
       "6-element Vector{Vector{Union{Missing, String}}}:\n",
       " [\"Klaus Walter\", \"von der\", \"Vogelweide\", \"Klaus Walter Vogelweide\", \"Klaus Walter von der Vogelweide\"]\n",
       " [\"Klaus\", \"von der\", \"Vogelweide\", \"Klaus Vogelweide\", \"Klaus von der Vogelweide\"]\n",
       " [\"Klaus Walter\", \"von der\", \"Vollmer\", \"Klaus Walter Vollmer\", \"Klaus Walter von der Vollmer\"]\n",
       " [\"Klaus\", \"von der\", \"Vollmer\", \"Klaus Vollmer\", \"Klaus von der Vollmer\"]\n",
       " [\"Klaus Walter\", \"von der\", \"Liber\", \"Klaus Walter Liber\", \"Klaus Walter von der Liber\"]\n",
       " [\"Klaus\", \"von der\", \"Liber\", \"Klaus Liber\", \"Klaus von der Liber\"]"
      ]
     },
     "execution_count": 365,
     "metadata": {},
     "output_type": "execute_result"
    }
   ],
   "source": [
    "Wds.makevariantsgn(\"Klaus Walter\", \"von der\", \"Vogelweide\", \"Vollmer, Liber\")"
   ]
  },
  {
   "cell_type": "code",
   "execution_count": 366,
   "metadata": {},
   "outputs": [
    {
     "data": {
      "text/html": [
       "<div class=\"data-frame\"><p>7 rows × 6 columns</p><table class=\"data-frame\"><thead><tr><th></th><th>id</th><th>givenname</th><th>prefix_name</th><th>familyname</th><th>givenname_variant</th><th>familyname_variant</th></tr><tr><th></th><th title=\"Int64\">Int64</th><th title=\"String\">String</th><th title=\"Union{Missing, String}\">String?</th><th title=\"Union{Missing, String}\">String?</th><th title=\"Union{Missing, String}\">String?</th><th title=\"Union{Missing, String}\">String?</th></tr></thead><tbody><tr><th>1</th><td>1077</td><td>Dietricus</td><td><em>missing</em></td><td><em>missing</em></td><td><em>missing</em></td><td><em>missing</em></td></tr><tr><th>2</th><td>31</td><td>Albert</td><td>von</td><td>Häusler</td><td><em>missing</em></td><td>Hauser, Schad</td></tr><tr><th>3</th><td>32</td><td>Hans Otto</td><td>zu</td><td>Oberhof</td><td>Johann Otto</td><td><em>missing</em></td></tr><tr><th>4</th><td>33</td><td>Wilhelm</td><td>von</td><td>Berg</td><td>Guido, Guillaume</td><td>Berge</td></tr><tr><th>5</th><td>34</td><td>Kurt Georg</td><td><em>missing</em></td><td><em>missing</em></td><td>Konrad</td><td><em>missing</em></td></tr><tr><th>6</th><td>35</td><td>Otto</td><td>auf der</td><td>Scholle</td><td><em>missing</em></td><td><em>missing</em></td></tr><tr><th>7</th><td>36</td><td>Otto</td><td><em>missing</em></td><td>Weiß</td><td>Odilon</td><td>Blanc</td></tr></tbody></table></div>"
      ],
      "text/latex": [
       "\\begin{tabular}{r|cccccc}\n",
       "\t& id & givenname & prefix\\_name & familyname & givenname\\_variant & familyname\\_variant\\\\\n",
       "\t\\hline\n",
       "\t& Int64 & String & String? & String? & String? & String?\\\\\n",
       "\t\\hline\n",
       "\t1 & 1077 & Dietricus & \\emph{missing} & \\emph{missing} & \\emph{missing} & \\emph{missing} \\\\\n",
       "\t2 & 31 & Albert & von & Häusler & \\emph{missing} & Hauser, Schad \\\\\n",
       "\t3 & 32 & Hans Otto & zu & Oberhof & Johann Otto & \\emph{missing} \\\\\n",
       "\t4 & 33 & Wilhelm & von & Berg & Guido, Guillaume & Berge \\\\\n",
       "\t5 & 34 & Kurt Georg & \\emph{missing} & \\emph{missing} & Konrad & \\emph{missing} \\\\\n",
       "\t6 & 35 & Otto & auf der & Scholle & \\emph{missing} & \\emph{missing} \\\\\n",
       "\t7 & 36 & Otto & \\emph{missing} & Weiß & Odilon & Blanc \\\\\n",
       "\\end{tabular}\n"
      ],
      "text/plain": [
       "\u001b[1m7×6 DataFrame\u001b[0m\n",
       "\u001b[1m Row \u001b[0m│\u001b[1m id    \u001b[0m\u001b[1m givenname  \u001b[0m\u001b[1m prefix_name \u001b[0m\u001b[1m familyname \u001b[0m\u001b[1m givenname_variant \u001b[0m\u001b[1m familyname_variant \u001b[0m\n",
       "\u001b[1m     \u001b[0m│\u001b[90m Int64 \u001b[0m\u001b[90m String     \u001b[0m\u001b[90m String?     \u001b[0m\u001b[90m String?    \u001b[0m\u001b[90m String?           \u001b[0m\u001b[90m String?            \u001b[0m\n",
       "─────┼───────────────────────────────────────────────────────────────────────────────────\n",
       "   1 │  1077  Dietricus  \u001b[90m missing     \u001b[0m\u001b[90m missing    \u001b[0m\u001b[90m missing           \u001b[0m\u001b[90m missing            \u001b[0m\n",
       "   2 │    31  Albert      von          Häusler    \u001b[90m missing           \u001b[0m Hauser, Schad\n",
       "   3 │    32  Hans Otto   zu           Oberhof     Johann Otto       \u001b[90m missing            \u001b[0m\n",
       "   4 │    33  Wilhelm     von          Berg        Guido, Guillaume   Berge\n",
       "   5 │    34  Kurt Georg \u001b[90m missing     \u001b[0m\u001b[90m missing    \u001b[0m Konrad            \u001b[90m missing            \u001b[0m\n",
       "   6 │    35  Otto        auf der      Scholle    \u001b[90m missing           \u001b[0m\u001b[90m missing            \u001b[0m\n",
       "   7 │    36  Otto       \u001b[90m missing     \u001b[0m Weiß        Odilon             Blanc"
      ]
     },
     "execution_count": 366,
     "metadata": {},
     "output_type": "execute_result"
    }
   ],
   "source": [
    "df_src = DataFrame(\n",
    "    id = [1077, 31, 32, 33, 34, 35, 36],\n",
    "    givenname = [\"Dietricus\", \"Albert\", \"Hans Otto\", \"Wilhelm\", \"Kurt Georg\", \"Otto\", \"Otto\"],\n",
    "    prefix_name = [missing, \"von\", \"zu\", \"von\", missing, \"auf der\", missing],\n",
    "    familyname = [missing, \"Häusler\", \"Oberhof\", \"Berg\", missing, \"Scholle\", \"Weiß\"],\n",
    "    givenname_variant = [missing, missing, \"Johann Otto\", \"Guido, Guillaume\", \"Konrad\", missing, \"Odilon\"],\n",
    "    familyname_variant = [missing, \"Hauser, Schad\", missing, \"Berge\", missing, missing, \"Blanc\"]\n",
    "    )"
   ]
  },
  {
   "cell_type": "code",
   "execution_count": 268,
   "metadata": {
    "scrolled": true
   },
   "outputs": [
    {
     "data": {
      "text/html": [
       "<div class=\"data-frame\"><p>22 rows × 3 columns</p><table class=\"data-frame\"><thead><tr><th></th><th>person_id</th><th>gn_fn</th><th>gn_prefix_fn</th></tr><tr><th></th><th title=\"Int64\">Int64</th><th title=\"Union{Missing, String}\">String?</th><th title=\"Union{Missing, String}\">String?</th></tr></thead><tbody><tr><th>1</th><td>1077</td><td>Dietricus</td><td><em>missing</em></td></tr><tr><th>2</th><td>31</td><td>Albert Häusler</td><td>Albert von Häusler</td></tr><tr><th>3</th><td>31</td><td>Albert Hauser</td><td>Albert von Hauser</td></tr><tr><th>4</th><td>31</td><td>Albert Schad</td><td>Albert von Schad</td></tr><tr><th>5</th><td>32</td><td>Hans Otto Oberhof</td><td>Hans Otto zu Oberhof</td></tr><tr><th>6</th><td>32</td><td>Hans Oberhof</td><td>Hans zu Oberhof</td></tr><tr><th>7</th><td>32</td><td>Johann Otto Oberhof</td><td>Johann Otto zu Oberhof</td></tr><tr><th>8</th><td>32</td><td>Johann Oberhof</td><td>Johann zu Oberhof</td></tr><tr><th>9</th><td>33</td><td>Wilhelm Berg</td><td>Wilhelm von Berg</td></tr><tr><th>10</th><td>33</td><td>Wilhelm Berge</td><td>Wilhelm von Berge</td></tr><tr><th>11</th><td>33</td><td>Guido Berg</td><td>Guido von Berg</td></tr><tr><th>12</th><td>33</td><td>Guido Berge</td><td>Guido von Berge</td></tr><tr><th>13</th><td>33</td><td>Guillaume Berg</td><td>Guillaume von Berg</td></tr><tr><th>14</th><td>33</td><td>Guillaume Berge</td><td>Guillaume von Berge</td></tr><tr><th>15</th><td>34</td><td>Kurt Georg</td><td><em>missing</em></td></tr><tr><th>16</th><td>34</td><td>Kurt</td><td><em>missing</em></td></tr><tr><th>17</th><td>34</td><td>Konrad</td><td><em>missing</em></td></tr><tr><th>18</th><td>35</td><td>Otto Scholle</td><td>Otto auf der Scholle</td></tr><tr><th>19</th><td>36</td><td>Otto Weiß</td><td><em>missing</em></td></tr><tr><th>20</th><td>36</td><td>Otto Blanc</td><td><em>missing</em></td></tr><tr><th>21</th><td>36</td><td>Odilon Weiß</td><td><em>missing</em></td></tr><tr><th>22</th><td>36</td><td>Odilon Blanc</td><td><em>missing</em></td></tr></tbody></table></div>"
      ],
      "text/latex": [
       "\\begin{tabular}{r|ccc}\n",
       "\t& person\\_id & gn\\_fn & gn\\_prefix\\_fn\\\\\n",
       "\t\\hline\n",
       "\t& Int64 & String? & String?\\\\\n",
       "\t\\hline\n",
       "\t1 & 1077 & Dietricus & \\emph{missing} \\\\\n",
       "\t2 & 31 & Albert Häusler & Albert von Häusler \\\\\n",
       "\t3 & 31 & Albert Hauser & Albert von Hauser \\\\\n",
       "\t4 & 31 & Albert Schad & Albert von Schad \\\\\n",
       "\t5 & 32 & Hans Otto Oberhof & Hans Otto zu Oberhof \\\\\n",
       "\t6 & 32 & Hans Oberhof & Hans zu Oberhof \\\\\n",
       "\t7 & 32 & Johann Otto Oberhof & Johann Otto zu Oberhof \\\\\n",
       "\t8 & 32 & Johann Oberhof & Johann zu Oberhof \\\\\n",
       "\t9 & 33 & Wilhelm Berg & Wilhelm von Berg \\\\\n",
       "\t10 & 33 & Wilhelm Berge & Wilhelm von Berge \\\\\n",
       "\t11 & 33 & Guido Berg & Guido von Berg \\\\\n",
       "\t12 & 33 & Guido Berge & Guido von Berge \\\\\n",
       "\t13 & 33 & Guillaume Berg & Guillaume von Berg \\\\\n",
       "\t14 & 33 & Guillaume Berge & Guillaume von Berge \\\\\n",
       "\t15 & 34 & Kurt Georg & \\emph{missing} \\\\\n",
       "\t16 & 34 & Kurt & \\emph{missing} \\\\\n",
       "\t17 & 34 & Konrad & \\emph{missing} \\\\\n",
       "\t18 & 35 & Otto Scholle & Otto auf der Scholle \\\\\n",
       "\t19 & 36 & Otto Weiß & \\emph{missing} \\\\\n",
       "\t20 & 36 & Otto Blanc & \\emph{missing} \\\\\n",
       "\t21 & 36 & Odilon Weiß & \\emph{missing} \\\\\n",
       "\t22 & 36 & Odilon Blanc & \\emph{missing} \\\\\n",
       "\\end{tabular}\n"
      ],
      "text/plain": [
       "\u001b[1m22×3 DataFrame\u001b[0m\n",
       "\u001b[1m Row \u001b[0m│\u001b[1m person_id \u001b[0m\u001b[1m gn_fn               \u001b[0m\u001b[1m gn_prefix_fn           \u001b[0m\n",
       "\u001b[1m     \u001b[0m│\u001b[90m Int64     \u001b[0m\u001b[90m String?             \u001b[0m\u001b[90m String?                \u001b[0m\n",
       "─────┼────────────────────────────────────────────────────────\n",
       "   1 │      1077  Dietricus           \u001b[90m missing                \u001b[0m\n",
       "   2 │        31  Albert Häusler       Albert von Häusler\n",
       "   3 │        31  Albert Hauser        Albert von Hauser\n",
       "   4 │        31  Albert Schad         Albert von Schad\n",
       "   5 │        32  Hans Otto Oberhof    Hans Otto zu Oberhof\n",
       "   6 │        32  Hans Oberhof         Hans zu Oberhof\n",
       "   7 │        32  Johann Otto Oberhof  Johann Otto zu Oberhof\n",
       "   8 │        32  Johann Oberhof       Johann zu Oberhof\n",
       "   9 │        33  Wilhelm Berg         Wilhelm von Berg\n",
       "  10 │        33  Wilhelm Berge        Wilhelm von Berge\n",
       "  11 │        33  Guido Berg           Guido von Berg\n",
       "  12 │        33  Guido Berge          Guido von Berge\n",
       "  13 │        33  Guillaume Berg       Guillaume von Berg\n",
       "  14 │        33  Guillaume Berge      Guillaume von Berge\n",
       "  15 │        34  Kurt Georg          \u001b[90m missing                \u001b[0m\n",
       "  16 │        34  Kurt                \u001b[90m missing                \u001b[0m\n",
       "  17 │        34  Konrad              \u001b[90m missing                \u001b[0m\n",
       "  18 │        35  Otto Scholle         Otto auf der Scholle\n",
       "  19 │        36  Otto Weiß           \u001b[90m missing                \u001b[0m\n",
       "  20 │        36  Otto Blanc          \u001b[90m missing                \u001b[0m\n",
       "  21 │        36  Odilon Weiß         \u001b[90m missing                \u001b[0m\n",
       "  22 │        36  Odilon Blanc        \u001b[90m missing                \u001b[0m"
      ]
     },
     "execution_count": 268,
     "metadata": {},
     "output_type": "execute_result"
    }
   ],
   "source": [
    "df_nl = Wds.create_name_lookup(df_src) # schaut gut aus"
   ]
  },
  {
   "cell_type": "markdown",
   "metadata": {},
   "source": [
    "ID auslesen"
   ]
  },
  {
   "cell_type": "code",
   "execution_count": 235,
   "metadata": {},
   "outputs": [],
   "source": [
    "table_name = \"item\"\n",
    "sql = \"SELECT id, id_in_source FROM $(table_name) where item_type_id = ($item_type_id)\"\n",
    "df_idx = Wds.sql_df(sql);"
   ]
  },
  {
   "cell_type": "code",
   "execution_count": 236,
   "metadata": {},
   "outputs": [],
   "source": [
    "filename = joinpath(data_path, \"tbl_domherren.csv\")\n",
    "df_src = CSV.read(filename, DataFrame);"
   ]
  },
  {
   "cell_type": "code",
   "execution_count": 237,
   "metadata": {},
   "outputs": [],
   "source": [
    "Wds.clean_up!(df_src);"
   ]
  },
  {
   "cell_type": "code",
   "execution_count": 238,
   "metadata": {},
   "outputs": [
    {
     "data": {
      "text/plain": [
       "6-element Vector{Pair{Symbol, Symbol}}:\n",
       "            :ID_Domherr => :ID_Domherr\n",
       "               :Vorname => :givenname\n",
       "               :Praefix => :prefix_name\n",
       "          :Familienname => :familyname\n",
       "      :Vorname_Variante => :givenname_variant\n",
       " :Familienname_Variante => :familyname_variant"
      ]
     },
     "execution_count": 238,
     "metadata": {},
     "output_type": "execute_result"
    }
   ],
   "source": [
    "columns = [\n",
    "    :ID_Domherr => :ID_Domherr,\n",
    "    :Vorname => :givenname,\n",
    "    :Praefix => :prefix_name,\n",
    "    :Familienname => :familyname,\n",
    "    :Vorname_Variante => :givenname_variant,\n",
    "    :Familienname_Variante => :familyname_variant\n",
    "]"
   ]
  },
  {
   "cell_type": "code",
   "execution_count": 239,
   "metadata": {},
   "outputs": [],
   "source": [
    "select!(df_src, columns);"
   ]
  },
  {
   "cell_type": "code",
   "execution_count": null,
   "metadata": {},
   "outputs": [],
   "source": [
    "Alternativ: Daten aus der Datenbank auslesen, wenn sie sich von Access aus dahin exportieren lassen."
   ]
  },
  {
   "cell_type": "code",
   "execution_count": null,
   "metadata": {},
   "outputs": [],
   "source": [
    "table_src = \"domherr.tbl_domherren\"\n",
    "sql = \"SELECT ID_Domherr, \" *\n",
    "\"Vorname AS givenname, \" *\n",
    "\"Praefix AS prefix_name, \" *\n",
    "\"Familienname AS familyname,\" * \n",
    "\"Vorname_Variante AS givenname_variant, \" * \n",
    "\"Familienname_Variante AS familyname_variant \" *\n",
    "\"FROM $(table_src)\"\n",
    "df_src = Wds.sql_df(sql);"
   ]
  },
  {
   "cell_type": "code",
   "execution_count": 379,
   "metadata": {},
   "outputs": [],
   "source": [
    "Wds.clean_up!(df_src)"
   ]
  },
  {
   "cell_type": "code",
   "execution_count": 240,
   "metadata": {},
   "outputs": [
    {
     "data": {
      "text/plain": [
       "one_not_missing (generic function with 1 method)"
      ]
     },
     "execution_count": 240,
     "metadata": {},
     "output_type": "execute_result"
    }
   ],
   "source": [
    "one_not_missing(x, y) = !(ismissing(x) && ismissing(y))"
   ]
  },
  {
   "cell_type": "code",
   "execution_count": 241,
   "metadata": {},
   "outputs": [],
   "source": [
    "filter!([:givenname, :familyname] => one_not_missing, df_src);"
   ]
  },
  {
   "cell_type": "code",
   "execution_count": 242,
   "metadata": {},
   "outputs": [],
   "source": [
    "transform!(df_src, :ID_Domherr => ByRow(string) => :id_in_source);"
   ]
  },
  {
   "cell_type": "code",
   "execution_count": 243,
   "metadata": {},
   "outputs": [
    {
     "data": {
      "text/plain": [
       "(22938, 7)"
      ]
     },
     "execution_count": 243,
     "metadata": {},
     "output_type": "execute_result"
    }
   ],
   "source": [
    "size(df_src)"
   ]
  },
  {
   "cell_type": "code",
   "execution_count": 244,
   "metadata": {},
   "outputs": [
    {
     "data": {
      "text/plain": [
       "7-element Vector{String}:\n",
       " \"ID_Domherr\"\n",
       " \"givenname\"\n",
       " \"prefix_name\"\n",
       " \"familyname\"\n",
       " \"givenname_variant\"\n",
       " \"familyname_variant\"\n",
       " \"id_in_source\""
      ]
     },
     "execution_count": 244,
     "metadata": {},
     "output_type": "execute_result"
    }
   ],
   "source": [
    "names(df_src)"
   ]
  },
  {
   "cell_type": "code",
   "execution_count": 245,
   "metadata": {},
   "outputs": [
    {
     "data": {
      "text/html": [
       "<div class=\"data-frame\"><p>5 rows × 2 columns</p><table class=\"data-frame\"><thead><tr><th></th><th>id</th><th>id_in_source</th></tr><tr><th></th><th title=\"Int32\">Int32</th><th title=\"Union{Missing, String}\">String?</th></tr></thead><tbody><tr><th>1</th><td>270091</td><td>10109</td></tr><tr><th>2</th><td>270092</td><td>10108</td></tr><tr><th>3</th><td>270093</td><td>10107</td></tr><tr><th>4</th><td>270094</td><td>10106</td></tr><tr><th>5</th><td>270095</td><td>10105</td></tr></tbody></table></div>"
      ],
      "text/latex": [
       "\\begin{tabular}{r|cc}\n",
       "\t& id & id\\_in\\_source\\\\\n",
       "\t\\hline\n",
       "\t& Int32 & String?\\\\\n",
       "\t\\hline\n",
       "\t1 & 270091 & 10109 \\\\\n",
       "\t2 & 270092 & 10108 \\\\\n",
       "\t3 & 270093 & 10107 \\\\\n",
       "\t4 & 270094 & 10106 \\\\\n",
       "\t5 & 270095 & 10105 \\\\\n",
       "\\end{tabular}\n"
      ],
      "text/plain": [
       "\u001b[1m5×2 DataFrame\u001b[0m\n",
       "\u001b[1m Row \u001b[0m│\u001b[1m id     \u001b[0m\u001b[1m id_in_source \u001b[0m\n",
       "\u001b[1m     \u001b[0m│\u001b[90m Int32  \u001b[0m\u001b[90m String?      \u001b[0m\n",
       "─────┼──────────────────────\n",
       "   1 │ 270091  10109\n",
       "   2 │ 270092  10108\n",
       "   3 │ 270093  10107\n",
       "   4 │ 270094  10106\n",
       "   5 │ 270095  10105"
      ]
     },
     "execution_count": 245,
     "metadata": {},
     "output_type": "execute_result"
    }
   ],
   "source": [
    "df_idx[101:105, :]"
   ]
  },
  {
   "cell_type": "code",
   "execution_count": 246,
   "metadata": {},
   "outputs": [],
   "source": [
    "df_nl_in = innerjoin(df_idx, df_src, on = :id_in_source);"
   ]
  },
  {
   "cell_type": "code",
   "execution_count": 247,
   "metadata": {},
   "outputs": [
    {
     "data": {
      "text/plain": [
       "(22938, 8)"
      ]
     },
     "execution_count": 247,
     "metadata": {},
     "output_type": "execute_result"
    }
   ],
   "source": [
    "size(df_nl_in)"
   ]
  },
  {
   "cell_type": "code",
   "execution_count": 248,
   "metadata": {},
   "outputs": [],
   "source": [
    "df_nl = Wds.create_name_lookup(df_nl_in);"
   ]
  },
  {
   "cell_type": "code",
   "execution_count": 249,
   "metadata": {},
   "outputs": [
    {
     "data": {
      "text/plain": [
       "(32993, 3)"
      ]
     },
     "execution_count": 249,
     "metadata": {},
     "output_type": "execute_result"
    }
   ],
   "source": [
    "size(df_nl)"
   ]
  },
  {
   "cell_type": "code",
   "execution_count": 250,
   "metadata": {},
   "outputs": [],
   "source": [
    "df_nl_empty = filter(:gn_fn => ismissing, df_nl);"
   ]
  },
  {
   "cell_type": "code",
   "execution_count": 251,
   "metadata": {},
   "outputs": [
    {
     "data": {
      "text/plain": [
       "(0, 3)"
      ]
     },
     "execution_count": 251,
     "metadata": {},
     "output_type": "execute_result"
    }
   ],
   "source": [
    "size(df_nl_empty)"
   ]
  },
  {
   "cell_type": "code",
   "execution_count": 252,
   "metadata": {},
   "outputs": [
    {
     "data": {
      "text/html": [
       "<div class=\"data-frame\"><p>12 rows × 3 columns</p><table class=\"data-frame\"><thead><tr><th></th><th>person_id</th><th>gn_fn</th><th>gn_prefix_fn</th></tr><tr><th></th><th title=\"Int64\">Int64</th><th title=\"Union{Missing, String}\">String?</th><th title=\"Union{Missing, String}\">String?</th></tr></thead><tbody><tr><th>1</th><td>271027</td><td>Johann Friedrich Joseph Weichs-Roesberg</td><td>Johann Friedrich Joseph von Weichs-Roesberg</td></tr><tr><th>2</th><td>271027</td><td>Johann Weichs-Roesberg</td><td>Johann von Weichs-Roesberg</td></tr><tr><th>3</th><td>271028</td><td>Johann Bernhard Joseph Weichs-Roesberg</td><td>Johann Bernhard Joseph von Weichs-Roesberg</td></tr><tr><th>4</th><td>271028</td><td>Johann Weichs-Roesberg</td><td>Johann von Weichs-Roesberg</td></tr><tr><th>5</th><td>271028</td><td>Johann Bernhard Joseph von Weichs-Koertlinghausen</td><td><em>missing</em></td></tr><tr><th>6</th><td>271028</td><td>Johann von Weichs-Koertlinghausen</td><td><em>missing</em></td></tr><tr><th>7</th><td>271029</td><td>Wilhelm Joseph Weichs-Koertlinghausen</td><td>Wilhelm Joseph von Weichs-Koertlinghausen</td></tr><tr><th>8</th><td>271029</td><td>Wilhelm Weichs-Koertlinghausen</td><td>Wilhelm von Weichs-Koertlinghausen</td></tr><tr><th>9</th><td>271030</td><td>Matthias Burchard Weichs-Koertlinghausen</td><td>Matthias Burchard von Weichs-Koertlinghausen</td></tr><tr><th>10</th><td>271030</td><td>Matthias Weichs-Koertlinghausen</td><td>Matthias von Weichs-Koertlinghausen</td></tr><tr><th>11</th><td>271031</td><td>Franz Karl Waldbott-Bassenheim</td><td>Franz Karl von Waldbott-Bassenheim</td></tr><tr><th>12</th><td>271031</td><td>Franz Waldbott-Bassenheim</td><td>Franz von Waldbott-Bassenheim</td></tr></tbody></table></div>"
      ],
      "text/latex": [
       "\\begin{tabular}{r|ccc}\n",
       "\t& person\\_id & gn\\_fn & gn\\_prefix\\_fn\\\\\n",
       "\t\\hline\n",
       "\t& Int64 & String? & String?\\\\\n",
       "\t\\hline\n",
       "\t1 & 271027 & Johann Friedrich Joseph Weichs-Roesberg & Johann Friedrich Joseph von Weichs-Roesberg \\\\\n",
       "\t2 & 271027 & Johann Weichs-Roesberg & Johann von Weichs-Roesberg \\\\\n",
       "\t3 & 271028 & Johann Bernhard Joseph Weichs-Roesberg & Johann Bernhard Joseph von Weichs-Roesberg \\\\\n",
       "\t4 & 271028 & Johann Weichs-Roesberg & Johann von Weichs-Roesberg \\\\\n",
       "\t5 & 271028 & Johann Bernhard Joseph von Weichs-Koertlinghausen & \\emph{missing} \\\\\n",
       "\t6 & 271028 & Johann von Weichs-Koertlinghausen & \\emph{missing} \\\\\n",
       "\t7 & 271029 & Wilhelm Joseph Weichs-Koertlinghausen & Wilhelm Joseph von Weichs-Koertlinghausen \\\\\n",
       "\t8 & 271029 & Wilhelm Weichs-Koertlinghausen & Wilhelm von Weichs-Koertlinghausen \\\\\n",
       "\t9 & 271030 & Matthias Burchard Weichs-Koertlinghausen & Matthias Burchard von Weichs-Koertlinghausen \\\\\n",
       "\t10 & 271030 & Matthias Weichs-Koertlinghausen & Matthias von Weichs-Koertlinghausen \\\\\n",
       "\t11 & 271031 & Franz Karl Waldbott-Bassenheim & Franz Karl von Waldbott-Bassenheim \\\\\n",
       "\t12 & 271031 & Franz Waldbott-Bassenheim & Franz von Waldbott-Bassenheim \\\\\n",
       "\\end{tabular}\n"
      ],
      "text/plain": [
       "\u001b[1m12×3 DataFrame\u001b[0m\n",
       "\u001b[1m Row \u001b[0m│\u001b[1m person_id \u001b[0m\u001b[1m gn_fn                             \u001b[0m\u001b[1m gn_prefix_fn                      \u001b[0m\n",
       "\u001b[1m     \u001b[0m│\u001b[90m Int64     \u001b[0m\u001b[90m String?                           \u001b[0m\u001b[90m String?                           \u001b[0m\n",
       "─────┼─────────────────────────────────────────────────────────────────────────────────\n",
       "   1 │    271027  Johann Friedrich Joseph Weichs-R…  Johann Friedrich Joseph von Weic…\n",
       "   2 │    271027  Johann Weichs-Roesberg             Johann von Weichs-Roesberg\n",
       "   3 │    271028  Johann Bernhard Joseph Weichs-Ro…  Johann Bernhard Joseph von Weich…\n",
       "   4 │    271028  Johann Weichs-Roesberg             Johann von Weichs-Roesberg\n",
       "   5 │    271028  Johann Bernhard Joseph von Weich… \u001b[90m missing                           \u001b[0m\n",
       "   6 │    271028  Johann von Weichs-Koertlinghausen \u001b[90m missing                           \u001b[0m\n",
       "   7 │    271029  Wilhelm Joseph Weichs-Koertlingh…  Wilhelm Joseph von Weichs-Koertl…\n",
       "   8 │    271029  Wilhelm Weichs-Koertlinghausen     Wilhelm von Weichs-Koertlinghaus…\n",
       "   9 │    271030  Matthias Burchard Weichs-Koertli…  Matthias Burchard von Weichs-Koe…\n",
       "  10 │    271030  Matthias Weichs-Koertlinghausen    Matthias von Weichs-Koertlinghau…\n",
       "  11 │    271031  Franz Karl Waldbott-Bassenheim     Franz Karl von Waldbott-Bassenhe…\n",
       "  12 │    271031  Franz Waldbott-Bassenheim          Franz von Waldbott-Bassenheim"
      ]
     },
     "execution_count": 252,
     "metadata": {},
     "output_type": "execute_result"
    }
   ],
   "source": [
    "df_nl[2301:2312, :]"
   ]
  },
  {
   "cell_type": "markdown",
   "metadata": {},
   "source": [
    "Entferne Einträge für diese Art von Items"
   ]
  },
  {
   "cell_type": "code",
   "execution_count": 253,
   "metadata": {},
   "outputs": [
    {
     "data": {
      "text/plain": [
       "MySQL.TextCursor{true}(MySQL.Connection(host=\"127.0.0.1\", user=\"georg\", port=\"3306\", db=\"wiag2\"), \"DELETE FROM name_lookup \\nWHERE person_id IN (SELECT id FROM item WHERE item_type_id = 5)\", 0, -1, 0, MySQL.API.MYSQL_RES(Ptr{Nothing} @0x0000000000000000), Symbol[], Type[], Dict{Symbol, Int64}(), 0, 1, false)"
      ]
     },
     "execution_count": 253,
     "metadata": {},
     "output_type": "execute_result"
    }
   ],
   "source": [
    "table_name = \"name_lookup\"\n",
    "sql = \"DELETE FROM $(table_name) \n",
    "WHERE person_id IN (SELECT id FROM item WHERE item_type_id = $(item_type_id))\";\n",
    "DBInterface.execute(Wds.dbwiag, sql)"
   ]
  },
  {
   "cell_type": "code",
   "execution_count": 254,
   "metadata": {},
   "outputs": [
    {
     "name": "stderr",
     "output_type": "stream",
     "text": [
      "┌ Info: 10000\n",
      "└ @ WiagDataSetup C:\\Users\\georg\\Documents\\projekte\\WiagDataSetup.jl\\src\\WiagDataSetup.jl:1186\n",
      "┌ Info: 20000\n",
      "└ @ WiagDataSetup C:\\Users\\georg\\Documents\\projekte\\WiagDataSetup.jl\\src\\WiagDataSetup.jl:1186\n",
      "┌ Info: 30000\n",
      "└ @ WiagDataSetup C:\\Users\\georg\\Documents\\projekte\\WiagDataSetup.jl\\src\\WiagDataSetup.jl:1186\n",
      "┌ Info: Rows inserted: 32993\n",
      "└ @ WiagDataSetup C:\\Users\\georg\\Documents\\projekte\\WiagDataSetup.jl\\src\\WiagDataSetup.jl:1209\n"
     ]
    },
    {
     "data": {
      "text/plain": [
       "32993"
      ]
     },
     "execution_count": 254,
     "metadata": {},
     "output_type": "execute_result"
    }
   ],
   "source": [
    "table_name = \"name_lookup\"\n",
    "Wds.filltable!(table_name, df_nl)"
   ]
  },
  {
   "cell_type": "markdown",
   "metadata": {},
   "source": [
    "### `canon_lookup_line`\n",
    "*2022-02-07* Obsolet: Siehe Domherren GS: dort werden alle Verweise angelegt."
   ]
  },
  {
   "cell_type": "markdown",
   "metadata": {},
   "source": [
    "Verweise auf sich selbst"
   ]
  },
  {
   "cell_type": "code",
   "execution_count": 195,
   "metadata": {},
   "outputs": [],
   "source": [
    "table_name = \"item\";\n",
    "item_type_dh = 5;\n",
    "sql = \"SELECT id as person_id, id as person_id_canon \n",
    "FROM $(table_name) WHERE item_type_id = $(item_type_dh) AND is_online\";\n",
    "df_item_cn_dh = Wds.sql_df(sql);"
   ]
  },
  {
   "cell_type": "code",
   "execution_count": 196,
   "metadata": {},
   "outputs": [
    {
     "data": {
      "text/plain": [
       "(2587, 2)"
      ]
     },
     "execution_count": 196,
     "metadata": {},
     "output_type": "execute_result"
    }
   ],
   "source": [
    "size(df_item_cn_dh)"
   ]
  },
  {
   "cell_type": "code",
   "execution_count": 197,
   "metadata": {},
   "outputs": [
    {
     "name": "stderr",
     "output_type": "stream",
     "text": [
      "┌ Info: Rows inserted: 2587\n",
      "└ @ WiagDataSetup C:\\Users\\georg\\Documents\\projekte\\WiagDataSetup.jl\\src\\WiagDataSetup.jl:1208\n"
     ]
    }
   ],
   "source": [
    "table_name = \"canon_lookup\";\n",
    "Wds.filltable!(table_name, df_item_cn_dh);"
   ]
  },
  {
   "cell_type": "markdown",
   "metadata": {},
   "source": [
    "Verweise auf Bischöfe"
   ]
  },
  {
   "cell_type": "code",
   "execution_count": 208,
   "metadata": {},
   "outputs": [],
   "source": [
    "sql = \"SELECT p.id as person_id, givenname, familyname, e.value AS id_external, i.item_type_id\n",
    "FROM person AS p\n",
    "JOIN item AS i ON p.id = i.id\n",
    "JOIN id_external AS e ON i.id = e.item_id\n",
    "JOIN authority AS a ON e.authority_id = a.id\n",
    "WHERE a.id = 5\n",
    "AND i.is_online\";\n",
    "df_cn_episc = Wds.sql_df(sql);"
   ]
  },
  {
   "cell_type": "code",
   "execution_count": 209,
   "metadata": {},
   "outputs": [
    {
     "data": {
      "text/plain": [
       "(164, 5)"
      ]
     },
     "execution_count": 209,
     "metadata": {},
     "output_type": "execute_result"
    }
   ],
   "source": [
    "size(df_cn_episc)"
   ]
  },
  {
   "cell_type": "code",
   "execution_count": 210,
   "metadata": {},
   "outputs": [
    {
     "data": {
      "text/plain": [
       "5-element Vector{String}:\n",
       " \"person_id\"\n",
       " \"givenname\"\n",
       " \"familyname\"\n",
       " \"id_external\"\n",
       " \"item_type_id\""
      ]
     },
     "execution_count": 210,
     "metadata": {},
     "output_type": "execute_result"
    }
   ],
   "source": [
    "names(df_cn_episc)"
   ]
  },
  {
   "cell_type": "markdown",
   "metadata": {},
   "source": [
    "`item_id` für WIAG_ID finden"
   ]
  },
  {
   "cell_type": "code",
   "execution_count": 211,
   "metadata": {},
   "outputs": [],
   "source": [
    "table_name = \"item\";\n",
    "type_id_episc = 4;\n",
    "sql = \"SELECT id as id_ep, id_public FROM $(table_name) WHERE item_type_id = $(type_id_episc)\";\n",
    "df_item_episc = Wds.sql_df(sql);"
   ]
  },
  {
   "cell_type": "code",
   "execution_count": 212,
   "metadata": {},
   "outputs": [],
   "source": [
    "df_cn_episc = innerjoin(df_cn_episc, df_item_episc, on = :id_external => :id_public);"
   ]
  },
  {
   "cell_type": "code",
   "execution_count": 213,
   "metadata": {},
   "outputs": [
    {
     "data": {
      "text/plain": [
       "(163, 6)"
      ]
     },
     "execution_count": 213,
     "metadata": {},
     "output_type": "execute_result"
    }
   ],
   "source": [
    "size(df_cn_episc)"
   ]
  },
  {
   "cell_type": "code",
   "execution_count": 202,
   "metadata": {},
   "outputs": [
    {
     "data": {
      "text/plain": [
       "6-element Vector{String}:\n",
       " \"person_id\"\n",
       " \"givenname\"\n",
       " \"familyname\"\n",
       " \"id_external\"\n",
       " \"item_type_id\"\n",
       " \"id_ep\""
      ]
     },
     "execution_count": 202,
     "metadata": {},
     "output_type": "execute_result"
    }
   ],
   "source": [
    "names(df_cn_episc)"
   ]
  },
  {
   "cell_type": "code",
   "execution_count": 214,
   "metadata": {},
   "outputs": [
    {
     "data": {
      "text/plain": [
       "2-element Vector{Pair{Symbol, Symbol}}:\n",
       " :person_id => :person_id\n",
       "     :id_ep => :person_id_canon"
      ]
     },
     "execution_count": 214,
     "metadata": {},
     "output_type": "execute_result"
    }
   ],
   "source": [
    "columns = [\n",
    "    :person_id => :person_id,\n",
    "    :id_ep => :person_id_canon\n",
    "]"
   ]
  },
  {
   "cell_type": "code",
   "execution_count": 215,
   "metadata": {},
   "outputs": [
    {
     "name": "stderr",
     "output_type": "stream",
     "text": [
      "┌ Info: Rows inserted: 163\n",
      "└ @ WiagDataSetup C:\\Users\\georg\\Documents\\projekte\\WiagDataSetup.jl\\src\\WiagDataSetup.jl:1208\n"
     ]
    },
    {
     "data": {
      "text/plain": [
       "163"
      ]
     },
     "execution_count": 215,
     "metadata": {},
     "output_type": "execute_result"
    }
   ],
   "source": [
    "table_name = \"canon_lookup\"\n",
    "Wds.filltable!(table_name, select(df_cn_episc, columns))"
   ]
  },
  {
   "cell_type": "markdown",
   "metadata": {},
   "source": [
    "Überflüssige Verweise bereinigen"
   ]
  },
  {
   "cell_type": "code",
   "execution_count": 216,
   "metadata": {},
   "outputs": [],
   "source": [
    "id_src = \"(\" * join(df_cn_episc.person_id, \",\") * \")\";"
   ]
  },
  {
   "cell_type": "code",
   "execution_count": 217,
   "metadata": {},
   "outputs": [
    {
     "data": {
      "text/plain": [
       "MySQL.TextCursor{true}(MySQL.Connection(host=\"127.0.0.1\", user=\"georg\", port=\"3306\", db=\"wiag2\"), \"DELETE FROM canon_lookup \\nWHERE person_id = person_id_canon \\nAND person_id in (125502,126086,125984,134479,126004,134480,126007,126009,132577,126034,125943,132668,131042,125532,131056,126083,125936,131012,125527,125525,131071,132499,131830,126032,125820,125816,125797,125796,126087,131068,132686,125835,131036,131029,131608,131567,130950,130997,130947,130957,130982,131005,130986,130981,132678,130940,132227,131373,131045,131220,131014,125478,132788,132313,132779,132153,131904,131225,125983,132206,132502,132683,125536,125469,125474,125632,125556,125470,132687,125974,134483,131241,131410,131319,131356,131083,132145,131732,131571,131221,131341,132306,131227,123910,123912,125937,125639,125287,131761,134614,131692,125827,125828,132067,125798,123644,123590,127932,129175,129435,125290,131249,125733,125779,123732,123676,127664,126006,132550,132644,127547,123656,123658,123662,123585,123622,131722,131727,126322,132033,131464,131986,132771,131846,131857,131859,125774,132548,131832,125758,131248,132501,131797,131725,133190,133879,131785,132705,125644,132045,134568,131459,131915,134572,134593,131932,125869,125815,134596,134584,132521,123707,123589,123757,123758,123762,123765,123721,123715,131687,125991,134683,134513)\", 0, -1, 163, MySQL.API.MYSQL_RES(Ptr{Nothing} @0x0000000000000000), Symbol[], Type[], Dict{Symbol, Int64}(), 0, 1, false)"
      ]
     },
     "execution_count": 217,
     "metadata": {},
     "output_type": "execute_result"
    }
   ],
   "source": [
    "sql = \"DELETE FROM canon_lookup \n",
    "WHERE person_id = person_id_canon \n",
    "AND person_id in $(id_src)\";\n",
    "DBInterface.execute(Wds.dbwiag, sql)"
   ]
  }
 ],
 "metadata": {
  "kernelspec": {
   "display_name": "julia-data-io 1.7.0",
   "language": "julia",
   "name": "julia-data-io-1.7"
  },
  "language_info": {
   "file_extension": ".jl",
   "mimetype": "application/julia",
   "name": "julia",
   "version": "1.7.0"
  }
 },
 "nbformat": 4,
 "nbformat_minor": 4
}
