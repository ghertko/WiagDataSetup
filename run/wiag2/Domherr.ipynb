{
 "cells": [
  {
   "cell_type": "markdown",
   "metadata": {},
   "source": [
    "# Wissensaggregator Mittelalter und frühe Neuzeit\n",
    "WIAGweb2\n",
    "\n",
    "## Daten für Domherren einlesen\n",
    "\n",
    "Übertrage Daten aus Access. Die Daten werden aus Access via ODBC in eine Transfer-Datenbank geschrieben: `bischof.tbl_bischoefe_gatz` und `bischof.tbl_bischoefe_gatzaemter`\n",
    "\n",
    "[Domherren](#Domherren)\n",
    "- [Einträge in `item`](#Einträge-in-item)\n",
    "- [Daten eintragen](#Daten-eintragen)\n",
    "- [Orden eintragen](#Orden-eintragen)\n",
    "- [Referenzwerke eintragen](#Referenzwerke-eintragen)\n",
    "- [Externe URLs eintragen](#Externe-URLs-eintragen)\n",
    "- [Namensvarianten eintragen](#Namensvarianten-eintragen)\n",
    "- [Suchvarianten eintragen (`name_lookup`)](#Suchvarianten-eintragen-(name_lookup))\n",
    "- [`canon_lookup`](#canon_lookup)"
   ]
  },
  {
   "cell_type": "markdown",
   "metadata": {},
   "source": [
    "Quelle: Datenbank `domherr`"
   ]
  },
  {
   "cell_type": "markdown",
   "metadata": {},
   "source": [
    "Vorspann: Pakete laden; mit der Datenbank verbinden"
   ]
  },
  {
   "cell_type": "code",
   "execution_count": 26,
   "metadata": {},
   "outputs": [
    {
     "data": {
      "text/plain": [
       "\"../..\""
      ]
     },
     "execution_count": 26,
     "metadata": {},
     "output_type": "execute_result"
    }
   ],
   "source": [
    "wds_path=\"../..\""
   ]
  },
  {
   "cell_type": "code",
   "execution_count": 27,
   "metadata": {},
   "outputs": [],
   "source": [
    "cd(wds_path)"
   ]
  },
  {
   "cell_type": "code",
   "execution_count": 28,
   "metadata": {},
   "outputs": [],
   "source": [
    "using Pkg"
   ]
  },
  {
   "cell_type": "code",
   "execution_count": 29,
   "metadata": {},
   "outputs": [
    {
     "name": "stderr",
     "output_type": "stream",
     "text": [
      "\u001b[32m\u001b[1m  Activating\u001b[22m\u001b[39m new project at `C:\\Users\\georg\\Documents`\n"
     ]
    }
   ],
   "source": [
    "Pkg.activate(\".\")"
   ]
  },
  {
   "cell_type": "code",
   "execution_count": 30,
   "metadata": {},
   "outputs": [],
   "source": [
    "using Revise"
   ]
  },
  {
   "cell_type": "code",
   "execution_count": 31,
   "metadata": {},
   "outputs": [],
   "source": [
    "using WiagDataSetup"
   ]
  },
  {
   "cell_type": "code",
   "execution_count": 32,
   "metadata": {},
   "outputs": [],
   "source": [
    "using MySQL, DataFrames"
   ]
  },
  {
   "cell_type": "code",
   "execution_count": 33,
   "metadata": {},
   "outputs": [
    {
     "data": {
      "text/plain": [
       "150"
      ]
     },
     "execution_count": 33,
     "metadata": {},
     "output_type": "execute_result"
    }
   ],
   "source": [
    "ENV[\"COLUMNS\"] = 150"
   ]
  },
  {
   "cell_type": "code",
   "execution_count": 34,
   "metadata": {},
   "outputs": [
    {
     "data": {
      "text/plain": [
       "WiagDataSetup"
      ]
     },
     "execution_count": 34,
     "metadata": {},
     "output_type": "execute_result"
    }
   ],
   "source": [
    "Wds = WiagDataSetup"
   ]
  },
  {
   "cell_type": "code",
   "execution_count": 35,
   "metadata": {},
   "outputs": [
    {
     "name": "stdout",
     "output_type": "stream",
     "text": [
      "Passwort für User georg: ········\n"
     ]
    },
    {
     "data": {
      "text/plain": [
       "MySQL.Connection(host=\"127.0.0.1\", user=\"georg\", port=\"3306\", db=\"wiag2\")"
      ]
     },
     "execution_count": 35,
     "metadata": {},
     "output_type": "execute_result"
    }
   ],
   "source": [
    "Wds.setDBWIAG(user=\"georg\", db=\"wiag2\")"
   ]
  },
  {
   "cell_type": "markdown",
   "metadata": {},
   "source": [
    "Item Type ID"
   ]
  },
  {
   "cell_type": "code",
   "execution_count": 36,
   "metadata": {},
   "outputs": [
    {
     "data": {
      "text/plain": [
       "5"
      ]
     },
     "execution_count": 36,
     "metadata": {},
     "output_type": "execute_result"
    }
   ],
   "source": [
    "item_type_id = 5"
   ]
  },
  {
   "cell_type": "markdown",
   "metadata": {},
   "source": [
    "## Lösche Tabellen für ein umfassendes Update"
   ]
  },
  {
   "cell_type": "code",
   "execution_count": 17,
   "metadata": {},
   "outputs": [
    {
     "data": {
      "text/plain": [
       "MySQL.TextCursor{true}(MySQL.Connection(host=\"127.0.0.1\", user=\"georg\", port=\"3306\", db=\"wiag2\"), \"DELETE FROM name_lookup\\nWHERE person_id IN\\n(SELECT id FROM item WHERE item_type_id = 5)\", 0, -1, 31428, MySQL.API.MYSQL_RES(Ptr{Nothing} @0x0000000000000000), Symbol[], Type[], Dict{Symbol, Int64}(), 0, 1, false)"
      ]
     },
     "execution_count": 17,
     "metadata": {},
     "output_type": "execute_result"
    }
   ],
   "source": [
    "table_name = \"name_lookup\";\n",
    "sql = \"DELETE FROM $(table_name)\n",
    "WHERE person_id IN\n",
    "(SELECT id FROM item WHERE item_type_id = $(item_type_id))\";\n",
    "DBInterface.execute(Wds.dbwiag, sql)"
   ]
  },
  {
   "cell_type": "code",
   "execution_count": 18,
   "metadata": {},
   "outputs": [
    {
     "data": {
      "text/plain": [
       "MySQL.TextCursor{true}(MySQL.Connection(host=\"127.0.0.1\", user=\"georg\", port=\"3306\", db=\"wiag2\"), \"DELETE FROM familyname_variant\\nWHERE person_id IN\\n(SELECT id FROM item WHERE item_type_id = 5)\", 0, -1, 1160, MySQL.API.MYSQL_RES(Ptr{Nothing} @0x0000000000000000), Symbol[], Type[], Dict{Symbol, Int64}(), 0, 1, false)"
      ]
     },
     "execution_count": 18,
     "metadata": {},
     "output_type": "execute_result"
    }
   ],
   "source": [
    "table_name = \"familyname_variant\";\n",
    "sql = \"DELETE FROM $(table_name)\n",
    "WHERE person_id IN\n",
    "(SELECT id FROM item WHERE item_type_id = $(item_type_id))\";\n",
    "DBInterface.execute(Wds.dbwiag, sql)"
   ]
  },
  {
   "cell_type": "code",
   "execution_count": 19,
   "metadata": {},
   "outputs": [
    {
     "data": {
      "text/plain": [
       "MySQL.TextCursor{true}(MySQL.Connection(host=\"127.0.0.1\", user=\"georg\", port=\"3306\", db=\"wiag2\"), \"DELETE FROM givenname_variant\\nWHERE person_id IN\\n(SELECT id FROM item WHERE item_type_id = 5)\", 0, -1, 826, MySQL.API.MYSQL_RES(Ptr{Nothing} @0x0000000000000000), Symbol[], Type[], Dict{Symbol, Int64}(), 0, 1, false)"
      ]
     },
     "execution_count": 19,
     "metadata": {},
     "output_type": "execute_result"
    }
   ],
   "source": [
    "table_name = \"givenname_variant\";\n",
    "sql = \"DELETE FROM $(table_name)\n",
    "WHERE person_id IN\n",
    "(SELECT id FROM item WHERE item_type_id = $(item_type_id))\";\n",
    "DBInterface.execute(Wds.dbwiag, sql)"
   ]
  },
  {
   "cell_type": "code",
   "execution_count": 37,
   "metadata": {},
   "outputs": [
    {
     "data": {
      "text/plain": [
       "MySQL.TextCursor{true}(MySQL.Connection(host=\"127.0.0.1\", user=\"georg\", port=\"3306\", db=\"wiag2\"), \"DELETE FROM id_external\\nWHERE item_id IN\\n(SELECT id FROM item WHERE item_type_id = 5)\", 0, -1, 10085, MySQL.API.MYSQL_RES(Ptr{Nothing} @0x0000000000000000), Symbol[], Type[], Dict{Symbol, Int64}(), 0, 1, false)"
      ]
     },
     "execution_count": 37,
     "metadata": {},
     "output_type": "execute_result"
    }
   ],
   "source": [
    "table_name = \"id_external\";\n",
    "sql = \"DELETE FROM $(table_name)\n",
    "WHERE item_id IN\n",
    "(SELECT id FROM item WHERE item_type_id = $(item_type_id))\";\n",
    "DBInterface.execute(Wds.dbwiag, sql)"
   ]
  },
  {
   "cell_type": "code",
   "execution_count": 21,
   "metadata": {},
   "outputs": [
    {
     "data": {
      "text/plain": [
       "MySQL.TextCursor{true}(MySQL.Connection(host=\"127.0.0.1\", user=\"georg\", port=\"3306\", db=\"wiag2\"), \"DELETE FROM person_role_property\\nWHERE person_role_id IN\\n(SELECT id FROM person_role\\nWHERE person_id in (SELECT id from item WHERE item_type_id = 5))\", 0, -1, 388, MySQL.API.MYSQL_RES(Ptr{Nothing} @0x0000000000000000), Symbol[], Type[], Dict{Symbol, Int64}(), 0, 1, false)"
      ]
     },
     "execution_count": 21,
     "metadata": {},
     "output_type": "execute_result"
    }
   ],
   "source": [
    "table_name = \"person_role_property\";\n",
    "sql = \"DELETE FROM $(table_name)\n",
    "WHERE person_role_id IN\n",
    "(SELECT id FROM person_role\n",
    "WHERE person_id in (SELECT id from item WHERE item_type_id = $(item_type_id)))\";\n",
    "DBInterface.execute(Wds.dbwiag, sql)"
   ]
  },
  {
   "cell_type": "code",
   "execution_count": 22,
   "metadata": {},
   "outputs": [
    {
     "data": {
      "text/plain": [
       "MySQL.TextCursor{true}(MySQL.Connection(host=\"127.0.0.1\", user=\"georg\", port=\"3306\", db=\"wiag2\"), \"DELETE FROM person_role\\nWHERE person_id IN\\n(SELECT id FROM item WHERE item_type_id = 5)\", 0, -1, 32174, MySQL.API.MYSQL_RES(Ptr{Nothing} @0x0000000000000000), Symbol[], Type[], Dict{Symbol, Int64}(), 0, 1, false)"
      ]
     },
     "execution_count": 22,
     "metadata": {},
     "output_type": "execute_result"
    }
   ],
   "source": [
    "table_name = \"person_role\";\n",
    "sql = \"DELETE FROM $(table_name)\n",
    "WHERE person_id IN\n",
    "(SELECT id FROM item WHERE item_type_id = $(item_type_id))\";\n",
    "DBInterface.execute(Wds.dbwiag, sql)"
   ]
  },
  {
   "cell_type": "code",
   "execution_count": 23,
   "metadata": {},
   "outputs": [
    {
     "data": {
      "text/plain": [
       "MySQL.TextCursor{true}(MySQL.Connection(host=\"127.0.0.1\", user=\"georg\", port=\"3306\", db=\"wiag2\"), \"DELETE FROM person\\nWHERE id IN\\n(SELECT id FROM item WHERE item_type_id = 5)\", 0, -1, 0, MySQL.API.MYSQL_RES(Ptr{Nothing} @0x0000000000000000), Symbol[], Type[], Dict{Symbol, Int64}(), 0, 1, false)"
      ]
     },
     "execution_count": 23,
     "metadata": {},
     "output_type": "execute_result"
    }
   ],
   "source": [
    "table_name = \"person\";\n",
    "sql = \"DELETE FROM $(table_name)\n",
    "WHERE id IN\n",
    "(SELECT id FROM item WHERE item_type_id = $(item_type_id))\";\n",
    "DBInterface.execute(Wds.dbwiag, sql)"
   ]
  },
  {
   "cell_type": "code",
   "execution_count": 24,
   "metadata": {},
   "outputs": [
    {
     "data": {
      "text/plain": [
       "MySQL.TextCursor{true}(MySQL.Connection(host=\"127.0.0.1\", user=\"georg\", port=\"3306\", db=\"wiag2\"), \"DELETE FROM item_reference\\nWHERE item_id IN\\n(SELECT id FROM item WHERE item_type_id = 5)\", 0, -1, 23067, MySQL.API.MYSQL_RES(Ptr{Nothing} @0x0000000000000000), Symbol[], Type[], Dict{Symbol, Int64}(), 0, 1, false)"
      ]
     },
     "execution_count": 24,
     "metadata": {},
     "output_type": "execute_result"
    }
   ],
   "source": [
    "table_name = \"item_reference\";\n",
    "sql = \"DELETE FROM $(table_name)\n",
    "WHERE item_id IN\n",
    "(SELECT id FROM item WHERE item_type_id = $(item_type_id))\";\n",
    "DBInterface.execute(Wds.dbwiag, sql)"
   ]
  },
  {
   "cell_type": "code",
   "execution_count": 25,
   "metadata": {},
   "outputs": [
    {
     "data": {
      "text/plain": [
       "MySQL.TextCursor{true}(MySQL.Connection(host=\"127.0.0.1\", user=\"georg\", port=\"3306\", db=\"wiag2\"), \"DELETE FROM item\\nWHERE item_type_id = 5\", 0, -1, 22291, MySQL.API.MYSQL_RES(Ptr{Nothing} @0x0000000000000000), Symbol[], Type[], Dict{Symbol, Int64}(), 0, 1, false)"
      ]
     },
     "execution_count": 25,
     "metadata": {},
     "output_type": "execute_result"
    }
   ],
   "source": [
    "table_name = \"item\";\n",
    "sql = \"DELETE FROM $(table_name)\n",
    "WHERE item_type_id = $(item_type_id)\";\n",
    "DBInterface.execute(Wds.dbwiag, sql)"
   ]
  },
  {
   "cell_type": "markdown",
   "metadata": {},
   "source": [
    "## Literatur"
   ]
  },
  {
   "cell_type": "code",
   "execution_count": 11,
   "metadata": {},
   "outputs": [],
   "source": [
    "sql = \"SELECT * FROM domherr.tbl_reference\"\n",
    "df_vol = Wds.sql_df(sql);"
   ]
  },
  {
   "cell_type": "code",
   "execution_count": 12,
   "metadata": {},
   "outputs": [
    {
     "data": {
      "text/plain": [
       "5-element Vector{Pair{Symbol, Symbol}}:\n",
       "          :ID_Ref => :reference_id\n",
       "       :Literatur => :full_citation\n",
       "       :Verfasser => :author_editor\n",
       " :OnlineRessource => :online_resource\n",
       "       :Kurztitel => :title_short"
      ]
     },
     "execution_count": 12,
     "metadata": {},
     "output_type": "execute_result"
    }
   ],
   "source": [
    "columns = [\n",
    "    :ID_Ref => :reference_id,\n",
    "    :Literatur => :full_citation,\n",
    "    :Verfasser => :author_editor,\n",
    "    :OnlineRessource => :online_resource,\n",
    "    :Kurztitel => :title_short,\n",
    "]"
   ]
  },
  {
   "cell_type": "code",
   "execution_count": 13,
   "metadata": {},
   "outputs": [],
   "source": [
    "df_vol_db = select(df_vol, columns);"
   ]
  },
  {
   "cell_type": "code",
   "execution_count": 14,
   "metadata": {},
   "outputs": [],
   "source": [
    "df_vol_db[!, :item_type_id] .= item_type_id;"
   ]
  },
  {
   "cell_type": "markdown",
   "metadata": {},
   "source": [
    "Bestehende Einträge löschen"
   ]
  },
  {
   "cell_type": "code",
   "execution_count": 15,
   "metadata": {},
   "outputs": [
    {
     "data": {
      "text/plain": [
       "MySQL.TextCursor{true}(MySQL.Connection(host=\"127.0.0.1\", user=\"georg\", port=\"3306\", db=\"wiag2\"), \"DELETE FROM reference_volume WHERE item_type_id = 5\", 0, -1, 46, MySQL.API.MYSQL_RES(Ptr{Nothing} @0x0000000000000000), Symbol[], Type[], Dict{Symbol, Int64}(), 0, 1, false)"
      ]
     },
     "execution_count": 15,
     "metadata": {},
     "output_type": "execute_result"
    }
   ],
   "source": [
    "table_name = \"reference_volume\"\n",
    "sql = \"DELETE FROM $(table_name) WHERE item_type_id = $(item_type_id)\";\n",
    "DBInterface.execute(Wds.dbwiag, sql)"
   ]
  },
  {
   "cell_type": "markdown",
   "metadata": {},
   "source": [
    "Daten eintragen"
   ]
  },
  {
   "cell_type": "code",
   "execution_count": 16,
   "metadata": {},
   "outputs": [
    {
     "name": "stderr",
     "output_type": "stream",
     "text": [
      "┌ Info: Rows inserted: 48\n",
      "└ @ WiagDataSetup C:\\Users\\georg\\Documents\\projekte\\WiagDataSetup.jl\\src\\WiagDataSetup.jl:1208\n"
     ]
    },
    {
     "data": {
      "text/plain": [
       "48"
      ]
     },
     "execution_count": 16,
     "metadata": {},
     "output_type": "execute_result"
    }
   ],
   "source": [
    "Wds.filltable!(table_name, df_vol_db, clear_table = false)"
   ]
  },
  {
   "cell_type": "markdown",
   "metadata": {},
   "source": [
    "## Domherren"
   ]
  },
  {
   "cell_type": "code",
   "execution_count": 11,
   "metadata": {},
   "outputs": [],
   "source": [
    "using CSV"
   ]
  },
  {
   "cell_type": "code",
   "execution_count": 12,
   "metadata": {},
   "outputs": [],
   "source": [
    "path = \"C:\\\\Users\\\\georg\\\\Documents\\\\projekte-doc\\\\WIAGweb\\\\data\\\\tbl_domherren.csv\"\n",
    "df_cn = CSV.read(path, DataFrame);"
   ]
  },
  {
   "cell_type": "markdown",
   "metadata": {},
   "source": [
    "Alternative, falls sich die Domherren aus Access in die Datenbank `domherr` exportieren lassen"
   ]
  },
  {
   "cell_type": "code",
   "execution_count": 26,
   "metadata": {},
   "outputs": [
    {
     "ename": "LoadError",
     "evalue": "(1146): Table 'domherr.tbl_domherren' doesn't exist",
     "output_type": "error",
     "traceback": [
      "(1146): Table 'domherr.tbl_domherren' doesn't exist",
      "",
      "Stacktrace:",
      " [1] query",
      "   @ C:\\Users\\georg\\.julia\\packages\\MySQL\\EgAUf\\src\\api\\capi.jl:4 [inlined]",
      " [2] execute(conn::MySQL.Connection, sql::String, params::Tuple{}; mysql_store_result::Bool, mysql_date_and_time::Bool)",
      "   @ MySQL C:\\Users\\georg\\.julia\\packages\\MySQL\\EgAUf\\src\\execute.jl:158",
      " [3] execute (repeats 2 times)",
      "   @ C:\\Users\\georg\\.julia\\packages\\MySQL\\EgAUf\\src\\execute.jl:155 [inlined]",
      " [4] sql_df(sql::String)",
      "   @ WiagDataSetup C:\\Users\\georg\\Documents\\projekte\\WiagDataSetup.jl\\src\\WiagDataSetup.jl:38",
      " [5] top-level scope",
      "   @ In[26]:2",
      " [6] eval",
      "   @ .\\boot.jl:373 [inlined]",
      " [7] include_string(mapexpr::typeof(REPL.softscope), mod::Module, code::String, filename::String)",
      "   @ Base .\\loading.jl:1196"
     ]
    }
   ],
   "source": [
    "sql = \"SELECT * FROM domherr.tbl_domherren\";\n",
    "df_cn = Wds.sql_df(sql); "
   ]
  },
  {
   "cell_type": "markdown",
   "metadata": {},
   "source": [
    "Leerzeichen bereinigen"
   ]
  },
  {
   "cell_type": "code",
   "execution_count": 13,
   "metadata": {},
   "outputs": [],
   "source": [
    "Wds.clean_up!(df_cn)"
   ]
  },
  {
   "cell_type": "code",
   "execution_count": 33,
   "metadata": {},
   "outputs": [
    {
     "data": {
      "text/html": [
       "<div class=\"data-frame\"><p>5 rows × 49 columns (omitted printing of 37 columns)</p><table class=\"data-frame\"><thead><tr><th></th><th>ID_Domherr</th><th>Eintrag_Quelle</th><th>Seite_Quelle</th><th>Quelle</th><th>Praefix</th><th>Vorname</th><th>Familienname</th><th>Sterbedatum</th><th>Geburtsdatum</th><th>Orden</th><th>URL_Wikipedia_alt</th><th>fertig</th></tr><tr><th></th><th title=\"Int64\">Int64</th><th title=\"Union{Missing, String}\">String?</th><th title=\"Union{Missing, String}\">String?</th><th title=\"Union{Missing, Int64}\">Int64?</th><th title=\"Union{Missing, String}\">String?</th><th title=\"Union{Missing, String}\">String?</th><th title=\"Union{Missing, String}\">String?</th><th title=\"Union{Missing, String}\">String?</th><th title=\"Union{Missing, String}\">String?</th><th title=\"Union{Missing, String}\">String?</th><th title=\"Union{Missing, String}\">String?</th><th title=\"Int64\">Int64</th></tr></thead><tbody><tr><th>1</th><td>10000</td><td><em>missing</em></td><td>167, 183</td><td>6</td><td>von</td><td>Friedrich Wilhelm</td><td>Loe</td><td>1689</td><td><em>missing</em></td><td><em>missing</em></td><td><em>missing</em></td><td>1</td></tr><tr><th>2</th><td>10001</td><td><em>missing</em></td><td>183</td><td>6</td><td>von</td><td>Johann Heinrich</td><td>Metzenhausen</td><td><em>missing</em></td><td><em>missing</em></td><td><em>missing</em></td><td><em>missing</em></td><td>0</td></tr><tr><th>3</th><td>10002</td><td><em>missing</em></td><td>183</td><td>6</td><td>von</td><td>Philipp Friedrich</td><td>Metzenhausen</td><td><em>missing</em></td><td><em>missing</em></td><td><em>missing</em></td><td><em>missing</em></td><td>0</td></tr><tr><th>4</th><td>10003</td><td><em>missing</em></td><td>183</td><td>6</td><td>von der</td><td>Damian Friedrich</td><td>Fels</td><td>1684</td><td><em>missing</em></td><td><em>missing</em></td><td><em>missing</em></td><td>0</td></tr><tr><th>5</th><td>10004</td><td><em>missing</em></td><td>183, 189</td><td>6</td><td>von</td><td>Friedrich Ernst</td><td>Eltz-Rodendorf</td><td><em>missing</em></td><td><em>missing</em></td><td><em>missing</em></td><td><em>missing</em></td><td>0</td></tr></tbody></table></div>"
      ],
      "text/latex": [
       "\\begin{tabular}{r|ccccccccccccc}\n",
       "\t& ID\\_Domherr & Eintrag\\_Quelle & Seite\\_Quelle & Quelle & Praefix & Vorname & Familienname & Sterbedatum & Geburtsdatum & Orden & URL\\_Wikipedia\\_alt & fertig & \\\\\n",
       "\t\\hline\n",
       "\t& Int64 & String? & String? & Int64? & String? & String? & String? & String? & String? & String? & String? & Int64 & \\\\\n",
       "\t\\hline\n",
       "\t1 & 10000 & \\emph{missing} & 167, 183 & 6 & von & Friedrich Wilhelm & Loe & 1689 & \\emph{missing} & \\emph{missing} & \\emph{missing} & 1 & $\\dots$ \\\\\n",
       "\t2 & 10001 & \\emph{missing} & 183 & 6 & von & Johann Heinrich & Metzenhausen & \\emph{missing} & \\emph{missing} & \\emph{missing} & \\emph{missing} & 0 & $\\dots$ \\\\\n",
       "\t3 & 10002 & \\emph{missing} & 183 & 6 & von & Philipp Friedrich & Metzenhausen & \\emph{missing} & \\emph{missing} & \\emph{missing} & \\emph{missing} & 0 & $\\dots$ \\\\\n",
       "\t4 & 10003 & \\emph{missing} & 183 & 6 & von der & Damian Friedrich & Fels & 1684 & \\emph{missing} & \\emph{missing} & \\emph{missing} & 0 & $\\dots$ \\\\\n",
       "\t5 & 10004 & \\emph{missing} & 183, 189 & 6 & von & Friedrich Ernst & Eltz-Rodendorf & \\emph{missing} & \\emph{missing} & \\emph{missing} & \\emph{missing} & 0 & $\\dots$ \\\\\n",
       "\\end{tabular}\n"
      ],
      "text/plain": [
       "\u001b[1m5×49 DataFrame\u001b[0m\n",
       "\u001b[1m Row \u001b[0m│\u001b[1m ID_Domherr \u001b[0m\u001b[1m Eintrag_Quelle \u001b[0m\u001b[1m Seite_Quelle \u001b[0m\u001b[1m Quelle \u001b[0m\u001b[1m Praefix \u001b[0m\u001b[1m Vorname           \u001b[0m\u001b[1m Familienname   \u001b[0m\u001b[1m Sterbedatum \u001b[0m\u001b[1m Geburtsdatum \u001b[0m\u001b[1m Orden   \u001b[0m\u001b[1m URL_Wikiped\u001b[0m ⋯\n",
       "\u001b[1m     \u001b[0m│\u001b[90m Int64      \u001b[0m\u001b[90m String?        \u001b[0m\u001b[90m String?      \u001b[0m\u001b[90m Int64? \u001b[0m\u001b[90m String? \u001b[0m\u001b[90m String?           \u001b[0m\u001b[90m String?        \u001b[0m\u001b[90m String?     \u001b[0m\u001b[90m String?      \u001b[0m\u001b[90m String? \u001b[0m\u001b[90m String?    \u001b[0m ⋯\n",
       "─────┼────────────────────────────────────────────────────────────────────────────────────────────────────────────────────────────────────────────────\n",
       "   1 │      10000 \u001b[90m missing        \u001b[0m 167, 183           6  von      Friedrich Wilhelm  Loe             1689        \u001b[90m missing      \u001b[0m\u001b[90m missing \u001b[0m\u001b[90m missing    \u001b[0m ⋯\n",
       "   2 │      10001 \u001b[90m missing        \u001b[0m 183                6  von      Johann Heinrich    Metzenhausen   \u001b[90m missing     \u001b[0m\u001b[90m missing      \u001b[0m\u001b[90m missing \u001b[0m\u001b[90m missing\u001b[0m\n",
       "   3 │      10002 \u001b[90m missing        \u001b[0m 183                6  von      Philipp Friedrich  Metzenhausen   \u001b[90m missing     \u001b[0m\u001b[90m missing      \u001b[0m\u001b[90m missing \u001b[0m\u001b[90m missing\u001b[0m\n",
       "   4 │      10003 \u001b[90m missing        \u001b[0m 183                6  von der  Damian Friedrich   Fels            1684        \u001b[90m missing      \u001b[0m\u001b[90m missing \u001b[0m\u001b[90m missing\u001b[0m\n",
       "   5 │      10004 \u001b[90m missing        \u001b[0m 183, 189           6  von      Friedrich Ernst    Eltz-Rodendorf \u001b[90m missing     \u001b[0m\u001b[90m missing      \u001b[0m\u001b[90m missing \u001b[0m\u001b[90m missing    \u001b[0m ⋯\n",
       "\u001b[36m                                                                                                                                    39 columns omitted\u001b[0m"
      ]
     },
     "execution_count": 33,
     "metadata": {},
     "output_type": "execute_result"
    }
   ],
   "source": [
    "first(df_cn, 5)"
   ]
  },
  {
   "cell_type": "markdown",
   "metadata": {},
   "source": [
    "*2022-03-10* prüfe auf unorthodoxe Einräge in `WIAG_ID_Bischof`"
   ]
  },
  {
   "cell_type": "code",
   "execution_count": 21,
   "metadata": {},
   "outputs": [],
   "source": [
    "find_spurious(a) = !ismissing(a) && occursin(\"http\", a)\n",
    "df_cn_sp = subset(df_cn, :WIAG_ID_Bischof => ByRow(find_spurious));"
   ]
  },
  {
   "cell_type": "code",
   "execution_count": 24,
   "metadata": {},
   "outputs": [
    {
     "data": {
      "text/html": [
       "<div class=\"data-frame\"><p>5 rows × 5 columns</p><table class=\"data-frame\"><thead><tr><th></th><th>ID_Domherr</th><th>Vorname</th><th>Familienname</th><th>WIAG_ID_Bischof</th><th>Status</th></tr><tr><th></th><th title=\"Int64\">Int64</th><th title=\"Union{Missing, String}\">String?</th><th title=\"Union{Missing, String}\">String?</th><th title=\"Union{Missing, String}\">String?</th><th title=\"Union{Missing, String}\">String?</th></tr></thead><tbody><tr><th>1</th><td>19794</td><td>Dietrich</td><td>Reseler</td><td>https://wiag-vocab.adw-goe.de/id/WIAG-Pers-EPISCGatz-02721-001</td><td>online</td></tr><tr><th>2</th><td>44077</td><td>Alberich</td><td><em>missing</em></td><td>https://wiag-vocab.adw-goe.de/id/WIAG-Pers-EPISCGatz-04545-001</td><td>xxN</td></tr><tr><th>3</th><td>44079</td><td>Reinhard</td><td><em>missing</em></td><td>https://wiag-vocab.adw-goe.de/id/WIAG-Pers-EPISCGatz-04549-001</td><td>xxN</td></tr><tr><th>4</th><td>44080</td><td>Gottschalk</td><td>Diepholz</td><td>https://wiag-vocab.adw-goe.de/id/WIAG-Pers-EPISCGatz-04633-001</td><td>fertig</td></tr><tr><th>5</th><td>44081</td><td>Sivard</td><td><em>missing</em></td><td>https://wiag-vocab.adw-goe.de/id/WIAG-Pers-EPISCGatz-04555-001</td><td>xxN</td></tr></tbody></table></div>"
      ],
      "text/latex": [
       "\\begin{tabular}{r|ccccc}\n",
       "\t& ID\\_Domherr & Vorname & Familienname & WIAG\\_ID\\_Bischof & Status\\\\\n",
       "\t\\hline\n",
       "\t& Int64 & String? & String? & String? & String?\\\\\n",
       "\t\\hline\n",
       "\t1 & 19794 & Dietrich & Reseler & https://wiag-vocab.adw-goe.de/id/WIAG-Pers-EPISCGatz-02721-001 & online \\\\\n",
       "\t2 & 44077 & Alberich & \\emph{missing} & https://wiag-vocab.adw-goe.de/id/WIAG-Pers-EPISCGatz-04545-001 & xxN \\\\\n",
       "\t3 & 44079 & Reinhard & \\emph{missing} & https://wiag-vocab.adw-goe.de/id/WIAG-Pers-EPISCGatz-04549-001 & xxN \\\\\n",
       "\t4 & 44080 & Gottschalk & Diepholz & https://wiag-vocab.adw-goe.de/id/WIAG-Pers-EPISCGatz-04633-001 & fertig \\\\\n",
       "\t5 & 44081 & Sivard & \\emph{missing} & https://wiag-vocab.adw-goe.de/id/WIAG-Pers-EPISCGatz-04555-001 & xxN \\\\\n",
       "\\end{tabular}\n"
      ],
      "text/plain": [
       "\u001b[1m5×5 DataFrame\u001b[0m\n",
       "\u001b[1m Row \u001b[0m│\u001b[1m ID_Domherr \u001b[0m\u001b[1m Vorname    \u001b[0m\u001b[1m Familienname \u001b[0m\u001b[1m WIAG_ID_Bischof                   \u001b[0m\u001b[1m Status  \u001b[0m\n",
       "\u001b[1m     \u001b[0m│\u001b[90m Int64      \u001b[0m\u001b[90m String?    \u001b[0m\u001b[90m String?      \u001b[0m\u001b[90m String?                           \u001b[0m\u001b[90m String? \u001b[0m\n",
       "─────┼──────────────────────────────────────────────────────────────────────────────────\n",
       "   1 │      19794  Dietrich    Reseler       https://wiag-vocab.adw-goe.de/id…  online\n",
       "   2 │      44077  Alberich   \u001b[90m missing      \u001b[0m https://wiag-vocab.adw-goe.de/id…  xxN\n",
       "   3 │      44079  Reinhard   \u001b[90m missing      \u001b[0m https://wiag-vocab.adw-goe.de/id…  xxN\n",
       "   4 │      44080  Gottschalk  Diepholz      https://wiag-vocab.adw-goe.de/id…  fertig\n",
       "   5 │      44081  Sivard     \u001b[90m missing      \u001b[0m https://wiag-vocab.adw-goe.de/id…  xxN"
      ]
     },
     "execution_count": 24,
     "metadata": {},
     "output_type": "execute_result"
    }
   ],
   "source": [
    "df_cn_sp[1:5, [:ID_Domherr, :Vorname, :Familienname, :WIAG_ID_Bischof, :Status]]"
   ]
  },
  {
   "cell_type": "code",
   "execution_count": 25,
   "metadata": {},
   "outputs": [
    {
     "data": {
      "text/plain": [
       "\"C:\\\\Users\\\\georg\\\\Documents\\\\projekte-doc\\\\WIAGweb2\\\\data\\\\WIAG_ID_Bischof_2022-03-10.csv\""
      ]
     },
     "execution_count": 25,
     "metadata": {},
     "output_type": "execute_result"
    }
   ],
   "source": [
    "filename_sp = \"C:\\\\Users\\\\georg\\\\Documents\\\\projekte-doc\\\\WIAGweb2\\\\data\\\\WIAG_ID_Bischof_2022-03-10.csv\"\n",
    "CSV.write(filename_sp, df_cn_sp)"
   ]
  },
  {
   "cell_type": "markdown",
   "metadata": {},
   "source": [
    "### Einträge in `item`\n",
    "\n",
    "entsprechende Einträge in Tabelle `item` einfügen\n",
    "\n",
    "`id` für 'Domherr' in `item_type`: 5"
   ]
  },
  {
   "cell_type": "code",
   "execution_count": 34,
   "metadata": {},
   "outputs": [
    {
     "data": {
      "text/plain": [
       "4-element Vector{Pair{Symbol, Symbol}}:\n",
       "     :ID_Domherr => :id_in_source\n",
       " :Eintrag_Quelle => :item_in_source\n",
       "         :fertig => :fertig\n",
       "         :Status => :Status"
      ]
     },
     "execution_count": 34,
     "metadata": {},
     "output_type": "execute_result"
    }
   ],
   "source": [
    "columns = [\n",
    "    :ID_Domherr => :id_in_source,\n",
    "    :Eintrag_Quelle => :item_in_source,\n",
    "    :fertig => :fertig,\n",
    "    :Status => :Status,    \n",
    "]"
   ]
  },
  {
   "cell_type": "code",
   "execution_count": 35,
   "metadata": {},
   "outputs": [],
   "source": [
    "df_item = select(df_cn, columns);"
   ]
  },
  {
   "cell_type": "code",
   "execution_count": 36,
   "metadata": {},
   "outputs": [],
   "source": [
    "df_item[!, :item_type_id] .= item_type_id;"
   ]
  },
  {
   "cell_type": "markdown",
   "metadata": {},
   "source": [
    "Status-Bit in den Eintrag \"fertig\" umwandeln (nur falls die Daten aus der Datenbank eingelesen wurden)"
   ]
  },
  {
   "cell_type": "code",
   "execution_count": 37,
   "metadata": {},
   "outputs": [
    {
     "data": {
      "text/plain": [
       "map_status (generic function with 1 method)"
      ]
     },
     "execution_count": 37,
     "metadata": {},
     "output_type": "execute_result"
    }
   ],
   "source": [
    "map_status(x) = getproperty(x, :bits) > 0 ? \"fertig\" : missing"
   ]
  },
  {
   "cell_type": "code",
   "execution_count": 38,
   "metadata": {},
   "outputs": [
    {
     "ename": "LoadError",
     "evalue": "type Int64 has no field bits",
     "output_type": "error",
     "traceback": [
      "type Int64 has no field bits",
      "",
      "Stacktrace:",
      "  [1] getproperty",
      "    @ .\\Base.jl:42 [inlined]",
      "  [2] map_status(x::Int64)",
      "    @ Main .\\In[37]:1",
      "  [3] iterate",
      "    @ .\\generator.jl:47 [inlined]",
      "  [4] _collect",
      "    @ .\\array.jl:744 [inlined]",
      "  [5] collect_similar",
      "    @ .\\array.jl:653 [inlined]",
      "  [6] map",
      "    @ .\\abstractarray.jl:2849 [inlined]",
      "  [7] (::ByRow{typeof(map_status)})(cols::Vector{Int64})",
      "    @ DataFrames C:\\Users\\georg\\.julia\\packages\\DataFrames\\vuMM8\\src\\abstractdataframe\\selection.jl:173",
      "  [8] _transformation_helper(df::DataFrame, col_idx::Int64, ::Base.RefValue{Any})",
      "    @ DataFrames C:\\Users\\georg\\.julia\\packages\\DataFrames\\vuMM8\\src\\abstractdataframe\\selection.jl:368",
      "  [9] select_transform!(::Base.RefValue{Any}, df::DataFrame, newdf::DataFrame, transformed_cols::Set{Symbol}, copycols::Bool, allow_resizing_newdf::Base.RefValue{Bool})",
      "    @ DataFrames C:\\Users\\georg\\.julia\\packages\\DataFrames\\vuMM8\\src\\abstractdataframe\\selection.jl:546",
      " [10] _manipulate(df::DataFrame, normalized_cs::Vector{Any}, copycols::Bool, keeprows::Bool)",
      "    @ DataFrames C:\\Users\\georg\\.julia\\packages\\DataFrames\\vuMM8\\src\\abstractdataframe\\selection.jl:1383",
      " [11] manipulate(::DataFrame, ::Any, ::Vararg{Any}; copycols::Bool, keeprows::Bool, renamecols::Bool)",
      "    @ DataFrames C:\\Users\\georg\\.julia\\packages\\DataFrames\\vuMM8\\src\\abstractdataframe\\selection.jl:1311",
      " [12] #select#474",
      "    @ C:\\Users\\georg\\.julia\\packages\\DataFrames\\vuMM8\\src\\abstractdataframe\\selection.jl:940 [inlined]",
      " [13] select!(::DataFrame, ::Any, ::Vararg{Any}; renamecols::Bool)",
      "    @ DataFrames C:\\Users\\georg\\.julia\\packages\\DataFrames\\vuMM8\\src\\abstractdataframe\\selection.jl:645",
      " [14] transform!(df::DataFrame, args::Any; renamecols::Bool)",
      "    @ DataFrames C:\\Users\\georg\\.julia\\packages\\DataFrames\\vuMM8\\src\\abstractdataframe\\selection.jl:684",
      " [15] transform!(df::DataFrame, args::Any)",
      "    @ DataFrames C:\\Users\\georg\\.julia\\packages\\DataFrames\\vuMM8\\src\\abstractdataframe\\selection.jl:676",
      " [16] top-level scope",
      "    @ In[38]:1",
      " [17] eval",
      "    @ .\\boot.jl:373 [inlined]",
      " [18] include_string(mapexpr::typeof(REPL.softscope), mod::Module, code::String, filename::String)",
      "    @ Base .\\loading.jl:1196"
     ]
    }
   ],
   "source": [
    "transform!(df_item, :fertig => ByRow(map_status) => :edit_status);"
   ]
  },
  {
   "cell_type": "markdown",
   "metadata": {},
   "source": [
    "Feld `is_online` eintragen"
   ]
  },
  {
   "cell_type": "code",
   "execution_count": 39,
   "metadata": {},
   "outputs": [
    {
     "data": {
      "text/plain": [
       "map_online (generic function with 1 method)"
      ]
     },
     "execution_count": 39,
     "metadata": {},
     "output_type": "execute_result"
    }
   ],
   "source": [
    "map_online(x) = (!ismissing(x) && x == \"online\") ? 1 : 0"
   ]
  },
  {
   "cell_type": "code",
   "execution_count": 40,
   "metadata": {},
   "outputs": [],
   "source": [
    "transform!(df_item, :Status => ByRow(map_online) => :is_online);"
   ]
  },
  {
   "cell_type": "code",
   "execution_count": 41,
   "metadata": {},
   "outputs": [],
   "source": [
    "user_id_georg = 1\n",
    "df_item[!, :created_by] .= user_id_georg;"
   ]
  },
  {
   "cell_type": "code",
   "execution_count": 42,
   "metadata": {},
   "outputs": [],
   "source": [
    "using Dates"
   ]
  },
  {
   "cell_type": "code",
   "execution_count": 43,
   "metadata": {},
   "outputs": [
    {
     "data": {
      "text/plain": [
       "dateformat\"yyyy-mm-dd HH:MM\""
      ]
     },
     "execution_count": 43,
     "metadata": {},
     "output_type": "execute_result"
    }
   ],
   "source": [
    "wiag_date_format = Dates.dateformat\"yyyy-mm-dd HH:MM\""
   ]
  },
  {
   "cell_type": "code",
   "execution_count": 44,
   "metadata": {},
   "outputs": [],
   "source": [
    "df_item[!, :date_created] .= Dates.format(now(), wiag_date_format);"
   ]
  },
  {
   "cell_type": "code",
   "execution_count": 45,
   "metadata": {},
   "outputs": [],
   "source": [
    "df_item[!, :changed_by] .= user_id_georg;"
   ]
  },
  {
   "cell_type": "code",
   "execution_count": 46,
   "metadata": {},
   "outputs": [],
   "source": [
    "df_item[!, :date_changed] .= Dates.format(now(), wiag_date_format);"
   ]
  },
  {
   "cell_type": "code",
   "execution_count": 47,
   "metadata": {},
   "outputs": [
    {
     "data": {
      "text/plain": [
       "make_id_public (generic function with 1 method)"
      ]
     },
     "execution_count": 47,
     "metadata": {},
     "output_type": "execute_result"
    }
   ],
   "source": [
    "function make_id_public(id::Real)\n",
    "    id_public_key = \"Pers-CANON\"\n",
    "    num_id_length = 5\n",
    "    return \"WIAG-\" * id_public_key * \"-\" * lpad(id, num_id_length, '0') * \"-001\"\n",
    "end"
   ]
  },
  {
   "cell_type": "code",
   "execution_count": 48,
   "metadata": {},
   "outputs": [
    {
     "data": {
      "text/plain": [
       "\"WIAG-Pers-CANON-03650-001\""
      ]
     },
     "execution_count": 48,
     "metadata": {},
     "output_type": "execute_result"
    }
   ],
   "source": [
    "make_id_public(3650)"
   ]
  },
  {
   "cell_type": "markdown",
   "metadata": {},
   "source": [
    "Normdatum/öffentliche ID erzeugen\n",
    "\n",
    "*2022-01-13* Verwende die ursprüngliche ID. Damit entspricht die ID der bisher veröffentlichten ID"
   ]
  },
  {
   "cell_type": "code",
   "execution_count": 49,
   "metadata": {},
   "outputs": [],
   "source": [
    "transform!(df_item, :id_in_source => ByRow(make_id_public) => :id_public);"
   ]
  },
  {
   "cell_type": "markdown",
   "metadata": {},
   "source": [
    "`item.is_deleted` ist vorbelegt mit `false`"
   ]
  },
  {
   "cell_type": "markdown",
   "metadata": {},
   "source": [
    "`item.lang` ist vorbelegt mit \"de\""
   ]
  },
  {
   "cell_type": "code",
   "execution_count": 50,
   "metadata": {},
   "outputs": [
    {
     "data": {
      "text/plain": [
       "11-element Vector{String}:\n",
       " \"id_in_source\"\n",
       " \"item_in_source\"\n",
       " \"fertig\"\n",
       " \"Status\"\n",
       " \"item_type_id\"\n",
       " \"is_online\"\n",
       " \"created_by\"\n",
       " \"date_created\"\n",
       " \"changed_by\"\n",
       " \"date_changed\"\n",
       " \"id_public\""
      ]
     },
     "execution_count": 50,
     "metadata": {},
     "output_type": "execute_result"
    }
   ],
   "source": [
    "names(df_item)"
   ]
  },
  {
   "cell_type": "code",
   "execution_count": 51,
   "metadata": {},
   "outputs": [
    {
     "data": {
      "text/plain": [
       "2587"
      ]
     },
     "execution_count": 51,
     "metadata": {},
     "output_type": "execute_result"
    }
   ],
   "source": [
    "sum(df_item[!, :is_online])"
   ]
  },
  {
   "cell_type": "code",
   "execution_count": 54,
   "metadata": {},
   "outputs": [
    {
     "data": {
      "text/plain": [
       "8"
      ]
     },
     "execution_count": 54,
     "metadata": {},
     "output_type": "execute_result"
    }
   ],
   "source": [
    "findfirst(df_item[!, :is_online] .== 1)"
   ]
  },
  {
   "cell_type": "code",
   "execution_count": 55,
   "metadata": {},
   "outputs": [
    {
     "data": {
      "text/html": [
       "<div class=\"data-frame\"><p>8 rows × 7 columns (omitted printing of 1 columns)</p><table class=\"data-frame\"><thead><tr><th></th><th>id_in_source</th><th>item_type_id</th><th>id_public</th><th>edit_status</th><th>is_online</th><th>date_changed</th></tr><tr><th></th><th title=\"Int32\">Int32</th><th title=\"Int64\">Int64</th><th title=\"String\">String</th><th title=\"Union{Missing, String}\">String?</th><th title=\"Int64\">Int64</th><th title=\"String\">String</th></tr></thead><tbody><tr><th>1</th><td>10007</td><td>5</td><td>WIAG-Pers-CANON-10007-001</td><td>fertig</td><td>1</td><td>2022-01-13 11:05</td></tr><tr><th>2</th><td>10008</td><td>5</td><td>WIAG-Pers-CANON-10008-001</td><td><em>missing</em></td><td>0</td><td>2022-01-13 11:05</td></tr><tr><th>3</th><td>10009</td><td>5</td><td>WIAG-Pers-CANON-10009-001</td><td>fertig</td><td>0</td><td>2022-01-13 11:05</td></tr><tr><th>4</th><td>10010</td><td>5</td><td>WIAG-Pers-CANON-10010-001</td><td>fertig</td><td>0</td><td>2022-01-13 11:05</td></tr><tr><th>5</th><td>10011</td><td>5</td><td>WIAG-Pers-CANON-10011-001</td><td>fertig</td><td>0</td><td>2022-01-13 11:05</td></tr><tr><th>6</th><td>10012</td><td>5</td><td>WIAG-Pers-CANON-10012-001</td><td><em>missing</em></td><td>0</td><td>2022-01-13 11:05</td></tr><tr><th>7</th><td>10013</td><td>5</td><td>WIAG-Pers-CANON-10013-001</td><td><em>missing</em></td><td>0</td><td>2022-01-13 11:05</td></tr><tr><th>8</th><td>10014</td><td>5</td><td>WIAG-Pers-CANON-10014-001</td><td>fertig</td><td>1</td><td>2022-01-13 11:05</td></tr></tbody></table></div>"
      ],
      "text/latex": [
       "\\begin{tabular}{r|ccccccc}\n",
       "\t& id\\_in\\_source & item\\_type\\_id & id\\_public & edit\\_status & is\\_online & date\\_changed & \\\\\n",
       "\t\\hline\n",
       "\t& Int32 & Int64 & String & String? & Int64 & String & \\\\\n",
       "\t\\hline\n",
       "\t1 & 10007 & 5 & WIAG-Pers-CANON-10007-001 & fertig & 1 & 2022-01-13 11:05 & $\\dots$ \\\\\n",
       "\t2 & 10008 & 5 & WIAG-Pers-CANON-10008-001 & \\emph{missing} & 0 & 2022-01-13 11:05 & $\\dots$ \\\\\n",
       "\t3 & 10009 & 5 & WIAG-Pers-CANON-10009-001 & fertig & 0 & 2022-01-13 11:05 & $\\dots$ \\\\\n",
       "\t4 & 10010 & 5 & WIAG-Pers-CANON-10010-001 & fertig & 0 & 2022-01-13 11:05 & $\\dots$ \\\\\n",
       "\t5 & 10011 & 5 & WIAG-Pers-CANON-10011-001 & fertig & 0 & 2022-01-13 11:05 & $\\dots$ \\\\\n",
       "\t6 & 10012 & 5 & WIAG-Pers-CANON-10012-001 & \\emph{missing} & 0 & 2022-01-13 11:05 & $\\dots$ \\\\\n",
       "\t7 & 10013 & 5 & WIAG-Pers-CANON-10013-001 & \\emph{missing} & 0 & 2022-01-13 11:05 & $\\dots$ \\\\\n",
       "\t8 & 10014 & 5 & WIAG-Pers-CANON-10014-001 & fertig & 1 & 2022-01-13 11:05 & $\\dots$ \\\\\n",
       "\\end{tabular}\n"
      ],
      "text/plain": [
       "\u001b[1m8×7 DataFrame\u001b[0m\n",
       "\u001b[1m Row \u001b[0m│\u001b[1m id_in_source \u001b[0m\u001b[1m item_type_id \u001b[0m\u001b[1m id_public                 \u001b[0m\u001b[1m edit_status \u001b[0m\u001b[1m is_\u001b[0m ⋯\n",
       "\u001b[1m     \u001b[0m│\u001b[90m Int32        \u001b[0m\u001b[90m Int64        \u001b[0m\u001b[90m String                    \u001b[0m\u001b[90m String?     \u001b[0m\u001b[90m Int\u001b[0m ⋯\n",
       "─────┼──────────────────────────────────────────────────────────────────────────\n",
       "   1 │        10007             5  WIAG-Pers-CANON-10007-001  fertig           ⋯\n",
       "   2 │        10008             5  WIAG-Pers-CANON-10008-001 \u001b[90m missing     \u001b[0m\n",
       "   3 │        10009             5  WIAG-Pers-CANON-10009-001  fertig\n",
       "   4 │        10010             5  WIAG-Pers-CANON-10010-001  fertig\n",
       "   5 │        10011             5  WIAG-Pers-CANON-10011-001  fertig           ⋯\n",
       "   6 │        10012             5  WIAG-Pers-CANON-10012-001 \u001b[90m missing     \u001b[0m\n",
       "   7 │        10013             5  WIAG-Pers-CANON-10013-001 \u001b[90m missing     \u001b[0m\n",
       "   8 │        10014             5  WIAG-Pers-CANON-10014-001  fertig\n",
       "\u001b[36m                                                               3 columns omitted\u001b[0m"
      ]
     },
     "execution_count": 55,
     "metadata": {},
     "output_type": "execute_result"
    }
   ],
   "source": [
    "df_item[8:15, [:id_in_source, :item_type_id, :id_public, :edit_status, :is_online, :date_changed, :changed_by]]"
   ]
  },
  {
   "cell_type": "markdown",
   "metadata": {},
   "source": [
    "Bestehende Einträge löschen"
   ]
  },
  {
   "cell_type": "code",
   "execution_count": 52,
   "metadata": {},
   "outputs": [
    {
     "data": {
      "text/plain": [
       "MySQL.TextCursor{true}(MySQL.Connection(host=\"127.0.0.1\", user=\"georg\", port=\"3306\", db=\"wiag2\"), \"DELETE FROM item WHERE item_type_id = 5\", 0, -1, 0, MySQL.API.MYSQL_RES(Ptr{Nothing} @0x0000000000000000), Symbol[], Type[], Dict{Symbol, Int64}(), 0, 1, false)"
      ]
     },
     "execution_count": 52,
     "metadata": {},
     "output_type": "execute_result"
    }
   ],
   "source": [
    "table_name = \"item\";\n",
    "sql = \"DELETE FROM $(table_name) WHERE item_type_id = $(item_type_id)\"\n",
    "DBInterface.execute(Wds.dbwiag, sql)"
   ]
  },
  {
   "cell_type": "code",
   "execution_count": 53,
   "metadata": {},
   "outputs": [
    {
     "data": {
      "text/plain": [
       "2-element Vector{Symbol}:\n",
       " :fertig\n",
       " :Status"
      ]
     },
     "execution_count": 53,
     "metadata": {},
     "output_type": "execute_result"
    }
   ],
   "source": [
    "exclude_cols = [\n",
    "    :fertig,\n",
    "    :Status,\n",
    "]"
   ]
  },
  {
   "cell_type": "code",
   "execution_count": 54,
   "metadata": {},
   "outputs": [
    {
     "name": "stderr",
     "output_type": "stream",
     "text": [
      "┌ Info: 10000\n",
      "└ @ WiagDataSetup C:\\Users\\georg\\Documents\\projekte\\WiagDataSetup.jl\\src\\WiagDataSetup.jl:1185\n",
      "┌ Info: 20000\n",
      "└ @ WiagDataSetup C:\\Users\\georg\\Documents\\projekte\\WiagDataSetup.jl\\src\\WiagDataSetup.jl:1185\n",
      "┌ Info: Rows inserted: 22780\n",
      "└ @ WiagDataSetup C:\\Users\\georg\\Documents\\projekte\\WiagDataSetup.jl\\src\\WiagDataSetup.jl:1208\n"
     ]
    },
    {
     "data": {
      "text/plain": [
       "22780"
      ]
     },
     "execution_count": 54,
     "metadata": {},
     "output_type": "execute_result"
    }
   ],
   "source": [
    "table_name = \"item\";\n",
    "Wds.filltable!(table_name, select(df_item, Not(exclude_cols)), clear_table = false)"
   ]
  },
  {
   "cell_type": "markdown",
   "metadata": {},
   "source": [
    "### Daten eintragen\n",
    "\n",
    "IDs auslesen"
   ]
  },
  {
   "cell_type": "code",
   "execution_count": 55,
   "metadata": {},
   "outputs": [],
   "source": [
    "sql = \"SELECT id, id_in_source FROM ITEM where item_type_id = ($item_type_id)\"\n",
    "df_idx = DBInterface.execute(Wds.dbwiag, sql) |> DataFrame;"
   ]
  },
  {
   "cell_type": "markdown",
   "metadata": {},
   "source": [
    "Spalte für die Zusammenführung befüllen (Typ: String!)"
   ]
  },
  {
   "cell_type": "code",
   "execution_count": 56,
   "metadata": {},
   "outputs": [],
   "source": [
    "df_cn[!, :id_in_source] .= string.(df_cn[!, :ID_Domherr]);"
   ]
  },
  {
   "cell_type": "code",
   "execution_count": 57,
   "metadata": {},
   "outputs": [],
   "source": [
    "df_cn_db = innerjoin(df_idx, df_cn, on = :id_in_source);"
   ]
  },
  {
   "cell_type": "markdown",
   "metadata": {},
   "source": [
    "Einträge anhand der ID in der Quelle löschen (für den Fall eines Updates)"
   ]
  },
  {
   "cell_type": "code",
   "execution_count": 107,
   "metadata": {},
   "outputs": [],
   "source": [
    "table_name = \"person\";\n",
    "idx_string = join(df_idx[!, :id], \",\")\n",
    "# Es wäre eleganter, hier den Mechanismus von SQL-Parametern zu verwenden. Das funktioniert aber nicht wie erwartet.\n",
    "sql=\"DELETE FROM $(table_name) WHERE id IN ($(idx_string))\"\n",
    "stmt = DBInterface.prepare(Wds.dbwiag, sql);"
   ]
  },
  {
   "cell_type": "code",
   "execution_count": 108,
   "metadata": {},
   "outputs": [],
   "source": [
    "DBInterface.execute(stmt);"
   ]
  },
  {
   "cell_type": "markdown",
   "metadata": {},
   "source": [
    "Daten eintragen"
   ]
  },
  {
   "cell_type": "markdown",
   "metadata": {},
   "source": [
    "Wir übernehmen alle Einträge unabhängig vom Status, da die Daten später Grundlage für die Redaktion sind. Einträge ohne Vor- und Familiennamen werden gelöscht."
   ]
  },
  {
   "cell_type": "code",
   "execution_count": 59,
   "metadata": {},
   "outputs": [
    {
     "data": {
      "text/plain": [
       "one_not_missing (generic function with 1 method)"
      ]
     },
     "execution_count": 59,
     "metadata": {},
     "output_type": "execute_result"
    }
   ],
   "source": [
    "one_not_missing(x, y) = !(ismissing(x) && ismissing(y))"
   ]
  },
  {
   "cell_type": "code",
   "execution_count": 58,
   "metadata": {},
   "outputs": [
    {
     "data": {
      "text/plain": [
       "22780"
      ]
     },
     "execution_count": 58,
     "metadata": {},
     "output_type": "execute_result"
    }
   ],
   "source": [
    "size(df_cn_db, 1)"
   ]
  },
  {
   "cell_type": "code",
   "execution_count": 63,
   "metadata": {},
   "outputs": [],
   "source": [
    "df_cn_db = subset(df_cn_db, [:Vorname, :Familienname] => ByRow(one_not_missing));"
   ]
  },
  {
   "cell_type": "code",
   "execution_count": 64,
   "metadata": {},
   "outputs": [
    {
     "data": {
      "text/plain": [
       "22729"
      ]
     },
     "execution_count": 64,
     "metadata": {},
     "output_type": "execute_result"
    }
   ],
   "source": [
    "size(df_cn_db, 1)"
   ]
  },
  {
   "cell_type": "markdown",
   "metadata": {},
   "source": [
    "Jahreszahlen ermitteln"
   ]
  },
  {
   "cell_type": "code",
   "execution_count": 65,
   "metadata": {},
   "outputs": [
    {
     "data": {
      "text/plain": [
       "parse_date_birth (generic function with 1 method)"
      ]
     },
     "execution_count": 65,
     "metadata": {},
     "output_type": "execute_result"
    }
   ],
   "source": [
    "parse_date_birth(s) = Wds.parsemaybe(s, :lower)"
   ]
  },
  {
   "cell_type": "code",
   "execution_count": 66,
   "metadata": {},
   "outputs": [
    {
     "data": {
      "text/plain": [
       "parse_date_death (generic function with 1 method)"
      ]
     },
     "execution_count": 66,
     "metadata": {},
     "output_type": "execute_result"
    }
   ],
   "source": [
    "parse_date_death(s) = Wds.parsemaybe(s, :upper)"
   ]
  },
  {
   "cell_type": "code",
   "execution_count": 67,
   "metadata": {},
   "outputs": [],
   "source": [
    "transform!(df_cn_db, :Geburtsdatum => ByRow(parse_date_birth) => :num_date_birth);"
   ]
  },
  {
   "cell_type": "code",
   "execution_count": 68,
   "metadata": {},
   "outputs": [
    {
     "name": "stderr",
     "output_type": "stream",
     "text": [
      "┌ Warning: Could only find year in \n",
      "│   s = [1394 Ahnenprobe, eingeschriben Wien 1403]\n",
      "└ @ WiagDataSetup C:\\Users\\georg\\Documents\\projekte\\WiagDataSetup.jl\\src\\WiagDataSetup.jl:1112\n",
      "┌ Warning: Could only find year in \n",
      "│   s = Ende 1322?\n",
      "└ @ WiagDataSetup C:\\Users\\georg\\Documents\\projekte\\WiagDataSetup.jl\\src\\WiagDataSetup.jl:1112\n",
      "┌ Warning: Could only find year in \n",
      "│   s = vor Febr. 1503\n",
      "└ @ WiagDataSetup C:\\Users\\georg\\Documents\\projekte\\WiagDataSetup.jl\\src\\WiagDataSetup.jl:1112\n",
      "┌ Warning: Could only find year in \n",
      "│   s = 3. Juni 1511\n",
      "└ @ WiagDataSetup C:\\Users\\georg\\Documents\\projekte\\WiagDataSetup.jl\\src\\WiagDataSetup.jl:1112\n",
      "┌ Warning: Could only find year in \n",
      "│   s = 2. Febr. 1273\n",
      "└ @ WiagDataSetup C:\\Users\\georg\\Documents\\projekte\\WiagDataSetup.jl\\src\\WiagDataSetup.jl:1112\n",
      "┌ Warning: Could only find year in \n",
      "│   s = 8.10.1160\n",
      "└ @ WiagDataSetup C:\\Users\\georg\\Documents\\projekte\\WiagDataSetup.jl\\src\\WiagDataSetup.jl:1112\n",
      "┌ Warning: Could not parse \n",
      "│   s = 3. Dez.\n",
      "└ @ WiagDataSetup C:\\Users\\georg\\Documents\\projekte\\WiagDataSetup.jl\\src\\WiagDataSetup.jl:1117\n",
      "┌ Warning: Could not parse \n",
      "│   s = 5. Okt.\n",
      "└ @ WiagDataSetup C:\\Users\\georg\\Documents\\projekte\\WiagDataSetup.jl\\src\\WiagDataSetup.jl:1117\n",
      "┌ Warning: Could not parse \n",
      "│   s = 31. Okt.\n",
      "└ @ WiagDataSetup C:\\Users\\georg\\Documents\\projekte\\WiagDataSetup.jl\\src\\WiagDataSetup.jl:1117\n",
      "┌ Warning: Could not parse \n",
      "│   s = 18. Nov.\n",
      "└ @ WiagDataSetup C:\\Users\\georg\\Documents\\projekte\\WiagDataSetup.jl\\src\\WiagDataSetup.jl:1117\n",
      "┌ Warning: Could not parse \n",
      "│   s = 13. März?\n",
      "└ @ WiagDataSetup C:\\Users\\georg\\Documents\\projekte\\WiagDataSetup.jl\\src\\WiagDataSetup.jl:1117\n",
      "┌ Warning: Could not parse \n",
      "│   s = 24.Jul\n",
      "└ @ WiagDataSetup C:\\Users\\georg\\Documents\\projekte\\WiagDataSetup.jl\\src\\WiagDataSetup.jl:1117\n",
      "┌ Warning: Could not parse \n",
      "│   s = 18. Dez.\n",
      "└ @ WiagDataSetup C:\\Users\\georg\\Documents\\projekte\\WiagDataSetup.jl\\src\\WiagDataSetup.jl:1117\n",
      "┌ Warning: Could not parse \n",
      "│   s = 05.Jul\n",
      "└ @ WiagDataSetup C:\\Users\\georg\\Documents\\projekte\\WiagDataSetup.jl\\src\\WiagDataSetup.jl:1117\n",
      "┌ Warning: Could not parse \n",
      "│   s = 18.Mai\n",
      "└ @ WiagDataSetup C:\\Users\\georg\\Documents\\projekte\\WiagDataSetup.jl\\src\\WiagDataSetup.jl:1117\n",
      "┌ Warning: Could not parse \n",
      "│   s = 29. Nov.\n",
      "└ @ WiagDataSetup C:\\Users\\georg\\Documents\\projekte\\WiagDataSetup.jl\\src\\WiagDataSetup.jl:1117\n",
      "┌ Warning: Could only find year in \n",
      "│   s = 8. Jan. 1516\n",
      "└ @ WiagDataSetup C:\\Users\\georg\\Documents\\projekte\\WiagDataSetup.jl\\src\\WiagDataSetup.jl:1112\n",
      "┌ Warning: Could not parse \n",
      "│   s = 05.Mrz\n",
      "└ @ WiagDataSetup C:\\Users\\georg\\Documents\\projekte\\WiagDataSetup.jl\\src\\WiagDataSetup.jl:1117\n",
      "┌ Warning: Could not parse \n",
      "│   s = 12. Okt.\n",
      "└ @ WiagDataSetup C:\\Users\\georg\\Documents\\projekte\\WiagDataSetup.jl\\src\\WiagDataSetup.jl:1117\n",
      "┌ Warning: Could only find year in \n",
      "│   s = 1. Sept. 1535\n",
      "└ @ WiagDataSetup C:\\Users\\georg\\Documents\\projekte\\WiagDataSetup.jl\\src\\WiagDataSetup.jl:1112\n",
      "┌ Warning: Could not parse \n",
      "│   s = 19.Mrz\n",
      "└ @ WiagDataSetup C:\\Users\\georg\\Documents\\projekte\\WiagDataSetup.jl\\src\\WiagDataSetup.jl:1117\n",
      "┌ Warning: Could not parse \n",
      "│   s = 11. Jan.\n",
      "└ @ WiagDataSetup C:\\Users\\georg\\Documents\\projekte\\WiagDataSetup.jl\\src\\WiagDataSetup.jl:1117\n",
      "┌ Warning: Could not parse \n",
      "│   s = 14.Jul\n",
      "└ @ WiagDataSetup C:\\Users\\georg\\Documents\\projekte\\WiagDataSetup.jl\\src\\WiagDataSetup.jl:1117\n",
      "┌ Warning: Could not parse \n",
      "│   s = 3. Dez.\n",
      "└ @ WiagDataSetup C:\\Users\\georg\\Documents\\projekte\\WiagDataSetup.jl\\src\\WiagDataSetup.jl:1117\n",
      "┌ Warning: Could only find year in \n",
      "│   s = 13. Oktober 1589\n",
      "└ @ WiagDataSetup C:\\Users\\georg\\Documents\\projekte\\WiagDataSetup.jl\\src\\WiagDataSetup.jl:1112\n",
      "┌ Warning: Could not parse \n",
      "│   s = 25.Apr\n",
      "└ @ WiagDataSetup C:\\Users\\georg\\Documents\\projekte\\WiagDataSetup.jl\\src\\WiagDataSetup.jl:1117\n",
      "┌ Warning: Could not parse \n",
      "│   s = 02.Aug\n",
      "└ @ WiagDataSetup C:\\Users\\georg\\Documents\\projekte\\WiagDataSetup.jl\\src\\WiagDataSetup.jl:1117\n",
      "┌ Warning: Could only find year in \n",
      "│   s = 8. Sept. 1539\n",
      "└ @ WiagDataSetup C:\\Users\\georg\\Documents\\projekte\\WiagDataSetup.jl\\src\\WiagDataSetup.jl:1112\n"
     ]
    }
   ],
   "source": [
    "transform!(df_cn_db, :Sterbedatum => ByRow(parse_date_death) => :num_date_death);"
   ]
  },
  {
   "cell_type": "markdown",
   "metadata": {},
   "source": [
    "Felder auswählen; Orden folgen später (siehe unten)"
   ]
  },
  {
   "cell_type": "code",
   "execution_count": 69,
   "metadata": {
    "scrolled": true
   },
   "outputs": [
    {
     "data": {
      "text/plain": [
       "9-element Vector{Pair{Symbol, Symbol}}:\n",
       "               :id => :id\n",
       "          :Praefix => :prefixname\n",
       "          :Vorname => :givenname\n",
       "     :Familienname => :familyname\n",
       "      :Sterbedatum => :date_death\n",
       "     :Geburtsdatum => :date_birth\n",
       "    :Bemerkung_Red => :comment\n",
       "   :Kommentar_Name => :note_name\n",
       " :Kommentar_Person => :note_person"
      ]
     },
     "execution_count": 69,
     "metadata": {},
     "output_type": "execute_result"
    }
   ],
   "source": [
    "columns = [\n",
    "    :id => :id,\n",
    "    :Praefix => :prefixname,\n",
    "    :Vorname => :givenname,\n",
    "    :Familienname => :familyname,\n",
    "    :Sterbedatum => :date_death,\n",
    "    :Geburtsdatum => :date_birth,\n",
    "    :Bemerkung_Red => :comment,\n",
    "    :Kommentar_Name => :note_name,\n",
    "    :Kommentar_Person => :note_person,\n",
    "]"
   ]
  },
  {
   "cell_type": "code",
   "execution_count": 70,
   "metadata": {},
   "outputs": [
    {
     "name": "stderr",
     "output_type": "stream",
     "text": [
      "┌ Info: 10000\n",
      "└ @ WiagDataSetup C:\\Users\\georg\\Documents\\projekte\\WiagDataSetup.jl\\src\\WiagDataSetup.jl:1185\n",
      "┌ Info: 20000\n",
      "└ @ WiagDataSetup C:\\Users\\georg\\Documents\\projekte\\WiagDataSetup.jl\\src\\WiagDataSetup.jl:1185\n",
      "┌ Info: Rows inserted: 22729\n",
      "└ @ WiagDataSetup C:\\Users\\georg\\Documents\\projekte\\WiagDataSetup.jl\\src\\WiagDataSetup.jl:1208\n"
     ]
    },
    {
     "data": {
      "text/plain": [
       "22729"
      ]
     },
     "execution_count": 70,
     "metadata": {},
     "output_type": "execute_result"
    }
   ],
   "source": [
    "Wds.filltable!(\"person\", select(df_cn_db, columns); clear_table=false)"
   ]
  },
  {
   "cell_type": "markdown",
   "metadata": {},
   "source": [
    "### Orden eintragen\n",
    "*2021-10-14* Die Ordenstabelle ist vorläufig und basiert auf den Ordensangaben für Bischöfe"
   ]
  },
  {
   "cell_type": "markdown",
   "metadata": {},
   "source": [
    "*2022-01-13* Unter den Domherren gibt es nur zwei mit einer Ordensangabe"
   ]
  },
  {
   "cell_type": "markdown",
   "metadata": {},
   "source": [
    "ID der Orden in Personentabelle eintragen"
   ]
  },
  {
   "cell_type": "code",
   "execution_count": 71,
   "metadata": {},
   "outputs": [],
   "source": [
    "df_cn_order = dropmissing(df_cn_db, :Orden);"
   ]
  },
  {
   "cell_type": "code",
   "execution_count": 72,
   "metadata": {},
   "outputs": [
    {
     "data": {
      "text/plain": [
       "(4, 53)"
      ]
     },
     "execution_count": 72,
     "metadata": {},
     "output_type": "execute_result"
    }
   ],
   "source": [
    "size(df_cn_order)"
   ]
  },
  {
   "cell_type": "code",
   "execution_count": 73,
   "metadata": {},
   "outputs": [],
   "source": [
    "df_cn_order[!, :join_field] .= lowercase.(df_cn_order[!, :Orden]);"
   ]
  },
  {
   "cell_type": "code",
   "execution_count": 74,
   "metadata": {},
   "outputs": [],
   "source": [
    "sql = \"SELECT * FROM religious_order\";\n",
    "df_order_db = Wds.sql_df(sql);"
   ]
  },
  {
   "cell_type": "code",
   "execution_count": 75,
   "metadata": {},
   "outputs": [],
   "source": [
    "df_order_db[!, :join_field] .= lowercase.(df_order_db[!, :abbreviation]);"
   ]
  },
  {
   "cell_type": "code",
   "execution_count": 76,
   "metadata": {},
   "outputs": [],
   "source": [
    "df_cn_order_id = leftjoin(df_cn_order, \n",
    "    select(df_order_db, :id => :religious_order_id, :join_field), \n",
    "    on = :join_field);"
   ]
  },
  {
   "cell_type": "code",
   "execution_count": 77,
   "metadata": {},
   "outputs": [
    {
     "data": {
      "text/plain": [
       "(4, 55)"
      ]
     },
     "execution_count": 77,
     "metadata": {},
     "output_type": "execute_result"
    }
   ],
   "source": [
    "size(df_cn_order_id)"
   ]
  },
  {
   "cell_type": "markdown",
   "metadata": {},
   "source": [
    "Tabelle `person` aktualisieren"
   ]
  },
  {
   "cell_type": "code",
   "execution_count": 78,
   "metadata": {},
   "outputs": [
    {
     "data": {
      "text/plain": [
       "MySQL.TextCursor{true}(MySQL.Connection(host=\"127.0.0.1\", user=\"georg\", port=\"3306\", db=\"wiag2\"), \"CREATE TEMPORARY TABLE person_update (id INT, religious_order_id INT)\", 0, -1, 0, MySQL.API.MYSQL_RES(Ptr{Nothing} @0x0000000000000000), Symbol[], Type[], Dict{Symbol, Int64}(), 0, 1, false)"
      ]
     },
     "execution_count": 78,
     "metadata": {},
     "output_type": "execute_result"
    }
   ],
   "source": [
    "DBInterface.execute(Wds.dbwiag, \"DROP TABLE IF EXISTS person_update\")\n",
    "sql = \"CREATE TEMPORARY TABLE person_update (\" *\n",
    "\"id INT, \" *\n",
    "\"religious_order_id INT)\"\n",
    "DBInterface.execute(Wds.dbwiag, sql)"
   ]
  },
  {
   "cell_type": "code",
   "execution_count": 79,
   "metadata": {},
   "outputs": [
    {
     "name": "stderr",
     "output_type": "stream",
     "text": [
      "┌ Info: Rows inserted: 4\n",
      "└ @ WiagDataSetup C:\\Users\\georg\\Documents\\projekte\\WiagDataSetup.jl\\src\\WiagDataSetup.jl:1208\n"
     ]
    },
    {
     "data": {
      "text/plain": [
       "4"
      ]
     },
     "execution_count": 79,
     "metadata": {},
     "output_type": "execute_result"
    }
   ],
   "source": [
    "table_name = \"person_update\"\n",
    "Wds.filltable!(table_name, select(df_cn_order_id, :id, :religious_order_id))"
   ]
  },
  {
   "cell_type": "code",
   "execution_count": 80,
   "metadata": {},
   "outputs": [],
   "source": [
    "sql = \"UPDATE person as p, (SELECT id, religious_order_id FROM person_update) as oid \" *\n",
    "\"SET p.religious_order_id = oid.religious_order_id \" *\n",
    "\"WHERE p.id = oid.id\"\n",
    "DBInterface.execute(Wds.dbwiag, sql);"
   ]
  },
  {
   "cell_type": "markdown",
   "metadata": {},
   "source": [
    "### Referenzwerke eintragen"
   ]
  },
  {
   "cell_type": "code",
   "execution_count": 81,
   "metadata": {},
   "outputs": [
    {
     "data": {
      "text/plain": [
       "6-element Vector{Pair{Symbol, Symbol}}:\n",
       "           :id => :item_id\n",
       " :Seite_Quelle => :page\n",
       "    :ID_Quelle => :id_in_reference\n",
       "       :Quelle => :reference_id\n",
       "  :Merged_Into => :merged_into_id\n",
       "       :Status => :status"
      ]
     },
     "execution_count": 81,
     "metadata": {},
     "output_type": "execute_result"
    }
   ],
   "source": [
    "columns = [\n",
    "    :id => :item_id,\n",
    "    :Seite_Quelle => :page,\n",
    "    :ID_Quelle => :id_in_reference,\n",
    "    :Quelle => :reference_id,\n",
    "    :Merged_Into => :merged_into_id,\n",
    "    :Status => :status,\n",
    "]"
   ]
  },
  {
   "cell_type": "code",
   "execution_count": 82,
   "metadata": {},
   "outputs": [],
   "source": [
    "df_cn_ref = select(df_cn_db, columns);"
   ]
  },
  {
   "cell_type": "code",
   "execution_count": 83,
   "metadata": {},
   "outputs": [],
   "source": [
    "df_cn_ref[!, :item_type_id] .= item_type_id;"
   ]
  },
  {
   "cell_type": "code",
   "execution_count": 84,
   "metadata": {},
   "outputs": [
    {
     "data": {
      "text/plain": [
       "22729"
      ]
     },
     "execution_count": 84,
     "metadata": {},
     "output_type": "execute_result"
    }
   ],
   "source": [
    "size(df_cn_ref, 1)"
   ]
  },
  {
   "cell_type": "code",
   "execution_count": 85,
   "metadata": {},
   "outputs": [],
   "source": [
    "dropmissing!(df_cn_ref, :reference_id);"
   ]
  },
  {
   "cell_type": "code",
   "execution_count": 86,
   "metadata": {},
   "outputs": [
    {
     "data": {
      "text/plain": [
       "(22727, 7)"
      ]
     },
     "execution_count": 86,
     "metadata": {},
     "output_type": "execute_result"
    }
   ],
   "source": [
    "size(df_cn_ref)"
   ]
  },
  {
   "cell_type": "markdown",
   "metadata": {},
   "source": [
    "Einträge löschen (im Fall von Korrekturen)"
   ]
  },
  {
   "cell_type": "code",
   "execution_count": 59,
   "metadata": {},
   "outputs": [
    {
     "data": {
      "text/plain": [
       "MySQL.TextCursor{true}(MySQL.Connection(host=\"127.0.0.1\", user=\"georg\", port=\"3306\", db=\"wiag2\"), \"DELETE FROM item_reference WHERE item_type_id = 5\", 0, -1, 23067, MySQL.API.MYSQL_RES(Ptr{Nothing} @0x0000000000000000), Symbol[], Type[], Dict{Symbol, Int64}(), 0, 1, false)"
      ]
     },
     "execution_count": 59,
     "metadata": {},
     "output_type": "execute_result"
    }
   ],
   "source": [
    "sql = \"DELETE FROM item_reference WHERE item_type_id = $(item_type_id)\"\n",
    "DBInterface.execute(Wds.dbwiag, sql)"
   ]
  },
  {
   "cell_type": "code",
   "execution_count": 87,
   "metadata": {},
   "outputs": [
    {
     "data": {
      "text/plain": [
       "5-element Vector{Pair{Symbol, Symbol}}:\n",
       "         :item_id => :item_id\n",
       "            :page => :page\n",
       " :id_in_reference => :id_in_reference\n",
       "    :item_type_id => :item_type_id\n",
       "    :reference_id => :reference_id"
      ]
     },
     "execution_count": 87,
     "metadata": {},
     "output_type": "execute_result"
    }
   ],
   "source": [
    "columns = [\n",
    "    :item_id => :item_id,\n",
    "    :page => :page,\n",
    "    :id_in_reference => :id_in_reference,\n",
    "    :item_type_id => :item_type_id,\n",
    "    :reference_id => :reference_id,\n",
    "]"
   ]
  },
  {
   "cell_type": "code",
   "execution_count": 88,
   "metadata": {},
   "outputs": [
    {
     "name": "stderr",
     "output_type": "stream",
     "text": [
      "┌ Info: 10000\n",
      "└ @ WiagDataSetup C:\\Users\\georg\\Documents\\projekte\\WiagDataSetup.jl\\src\\WiagDataSetup.jl:1185\n",
      "┌ Info: 20000\n",
      "└ @ WiagDataSetup C:\\Users\\georg\\Documents\\projekte\\WiagDataSetup.jl\\src\\WiagDataSetup.jl:1185\n",
      "┌ Info: Rows inserted: 22727\n",
      "└ @ WiagDataSetup C:\\Users\\georg\\Documents\\projekte\\WiagDataSetup.jl\\src\\WiagDataSetup.jl:1208\n"
     ]
    },
    {
     "data": {
      "text/plain": [
       "22727"
      ]
     },
     "execution_count": 88,
     "metadata": {},
     "output_type": "execute_result"
    }
   ],
   "source": [
    "table_name = \"item_reference\";\n",
    "Wds.filltable!(table_name, select(df_cn_ref, columns), clear_table = false)"
   ]
  },
  {
   "cell_type": "markdown",
   "metadata": {},
   "source": [
    "Trage Referenzen ein von Einträgen, die mit anderen zusammengezogen wurden."
   ]
  },
  {
   "cell_type": "code",
   "execution_count": 89,
   "metadata": {},
   "outputs": [
    {
     "data": {
      "text/plain": [
       "is_ref2 (generic function with 1 method)"
      ]
     },
     "execution_count": 89,
     "metadata": {},
     "output_type": "execute_result"
    }
   ],
   "source": [
    "is_ref2(merged_into_id, status) = !ismissing(merged_into_id) && isequal(status, \"merged\")"
   ]
  },
  {
   "cell_type": "code",
   "execution_count": 90,
   "metadata": {},
   "outputs": [],
   "source": [
    "df_cn_ref2 = subset(df_cn_ref, [:merged_into_id, :status] => ByRow(is_ref2));"
   ]
  },
  {
   "cell_type": "code",
   "execution_count": 91,
   "metadata": {},
   "outputs": [],
   "source": [
    "lookupItemId = Dict(Pair.(df_cn_db.id_in_source ,df_cn_db.id));"
   ]
  },
  {
   "cell_type": "code",
   "execution_count": 92,
   "metadata": {},
   "outputs": [
    {
     "data": {
      "text/plain": [
       "getItemId (generic function with 1 method)"
      ]
     },
     "execution_count": 92,
     "metadata": {},
     "output_type": "execute_result"
    }
   ],
   "source": [
    "getItemId(id_in_source) = get(lookupItemId, string(id_in_source), missing)"
   ]
  },
  {
   "cell_type": "code",
   "execution_count": 93,
   "metadata": {},
   "outputs": [],
   "source": [
    "transform!(df_cn_ref2, :merged_into_id => ByRow(getItemId) => :item_id);"
   ]
  },
  {
   "cell_type": "code",
   "execution_count": 94,
   "metadata": {},
   "outputs": [
    {
     "data": {
      "text/plain": [
       "832"
      ]
     },
     "execution_count": 94,
     "metadata": {},
     "output_type": "execute_result"
    }
   ],
   "source": [
    "size(df_cn_ref2, 1)"
   ]
  },
  {
   "cell_type": "code",
   "execution_count": 95,
   "metadata": {},
   "outputs": [
    {
     "data": {
      "text/plain": [
       "0"
      ]
     },
     "execution_count": 95,
     "metadata": {},
     "output_type": "execute_result"
    }
   ],
   "source": [
    "count(ismissing, df_cn_ref.item_id)"
   ]
  },
  {
   "cell_type": "code",
   "execution_count": 96,
   "metadata": {},
   "outputs": [
    {
     "data": {
      "text/plain": [
       "5-element Vector{Symbol}:\n",
       " :item_id\n",
       " :page\n",
       " :id_in_reference\n",
       " :item_type_id\n",
       " :reference_id"
      ]
     },
     "execution_count": 96,
     "metadata": {},
     "output_type": "execute_result"
    }
   ],
   "source": [
    "columns = [\n",
    "    :item_id,\n",
    "    :page,\n",
    "    :id_in_reference,\n",
    "    :item_type_id,\n",
    "    :reference_id,\n",
    "]"
   ]
  },
  {
   "cell_type": "code",
   "execution_count": 97,
   "metadata": {},
   "outputs": [
    {
     "name": "stderr",
     "output_type": "stream",
     "text": [
      "┌ Info: Rows inserted: 832\n",
      "└ @ WiagDataSetup C:\\Users\\georg\\Documents\\projekte\\WiagDataSetup.jl\\src\\WiagDataSetup.jl:1208\n"
     ]
    },
    {
     "data": {
      "text/plain": [
       "832"
      ]
     },
     "execution_count": 97,
     "metadata": {},
     "output_type": "execute_result"
    }
   ],
   "source": [
    "table_name = \"item_reference\";\n",
    "Wds.filltable!(table_name, select(df_cn_ref2, columns), clear_table = false)"
   ]
  },
  {
   "cell_type": "code",
   "execution_count": 45,
   "metadata": {},
   "outputs": [
    {
     "data": {
      "text/html": [
       "<div class=\"data-frame\"><p>1 rows × 7 columns (omitted printing of 2 columns)</p><table class=\"data-frame\"><thead><tr><th></th><th>item_id</th><th>page</th><th>id_in_reference</th><th>reference_id</th><th>merged_into_id</th></tr><tr><th></th><th title=\"Union{Missing, Int32}\">Int32?</th><th title=\"Union{Missing, SubString{String}}\">SubStri…?</th><th title=\"Union{Missing, SubString{String}}\">SubStri…?</th><th title=\"Int32\">Int32</th><th title=\"Union{Missing, Int32}\">Int32?</th></tr></thead><tbody><tr><th>1</th><td>10939</td><td>100, 136, 148, 201</td><td>HA999, HI170, MS168, PB120</td><td>6</td><td>10939</td></tr></tbody></table></div>"
      ],
      "text/latex": [
       "\\begin{tabular}{r|cccccc}\n",
       "\t& item\\_id & page & id\\_in\\_reference & reference\\_id & merged\\_into\\_id & \\\\\n",
       "\t\\hline\n",
       "\t& Int32? & SubStri…? & SubStri…? & Int32 & Int32? & \\\\\n",
       "\t\\hline\n",
       "\t1 & 10939 & 100, 136, 148, 201 & HA999, HI170, MS168, PB120 & 6 & 10939 & $\\dots$ \\\\\n",
       "\\end{tabular}\n"
      ],
      "text/plain": [
       "\u001b[1m1×7 DataFrame\u001b[0m\n",
       "\u001b[1m Row \u001b[0m│\u001b[1m item_id \u001b[0m\u001b[1m page               \u001b[0m\u001b[1m id_in_reference            \u001b[0m\u001b[1m reference_id \u001b[0m\u001b[1m \u001b[0m ⋯\n",
       "\u001b[1m     \u001b[0m│\u001b[90m Int32?  \u001b[0m\u001b[90m SubStrin…?         \u001b[0m\u001b[90m SubStrin…?                 \u001b[0m\u001b[90m Int32        \u001b[0m\u001b[90m \u001b[0m ⋯\n",
       "─────┼──────────────────────────────────────────────────────────────────────────\n",
       "   1 │   10939  100, 136, 148, 201  HA999, HI170, MS168, PB120             6   ⋯\n",
       "\u001b[36m                                                               3 columns omitted\u001b[0m"
      ]
     },
     "execution_count": 45,
     "metadata": {},
     "output_type": "execute_result"
    }
   ],
   "source": [
    "subset(df_cn_ref2, :merged_into_id => ByRow(isequal(10939)))"
   ]
  },
  {
   "cell_type": "code",
   "execution_count": null,
   "metadata": {},
   "outputs": [],
   "source": []
  },
  {
   "cell_type": "code",
   "execution_count": null,
   "metadata": {},
   "outputs": [],
   "source": []
  },
  {
   "cell_type": "markdown",
   "metadata": {},
   "source": [
    "### Externe URLs eintragen"
   ]
  },
  {
   "cell_type": "code",
   "execution_count": 98,
   "metadata": {},
   "outputs": [],
   "source": [
    "using MySQL, DataFrames"
   ]
  },
  {
   "cell_type": "code",
   "execution_count": 156,
   "metadata": {},
   "outputs": [
    {
     "name": "stdout",
     "output_type": "stream",
     "text": [
      "Passwort für User georg\n",
      "stdin> topf&deckel\n"
     ]
    },
    {
     "data": {
      "text/plain": [
       "MySQL.Connection(host=\"127.0.0.1\", user=\"georg\", port=\"3306\", db=\"wiag2\")"
      ]
     },
     "execution_count": 156,
     "metadata": {},
     "output_type": "execute_result"
    }
   ],
   "source": [
    "Wds.setDBWIAG(user = \"georg\", db = \"wiag2\")"
   ]
  },
  {
   "cell_type": "code",
   "execution_count": 99,
   "metadata": {},
   "outputs": [
    {
     "data": {
      "text/plain": [
       "5"
      ]
     },
     "execution_count": 99,
     "metadata": {},
     "output_type": "execute_result"
    }
   ],
   "source": [
    "item_type_id = 5"
   ]
  },
  {
   "cell_type": "markdown",
   "metadata": {},
   "source": [
    "Einträge löschen (für den Fall eines Fehlers oder für ein Update)"
   ]
  },
  {
   "cell_type": "code",
   "execution_count": 64,
   "metadata": {},
   "outputs": [
    {
     "data": {
      "text/plain": [
       "MySQL.TextCursor{true}(MySQL.Connection(host=\"127.0.0.1\", user=\"georg\", port=\"3306\", db=\"wiag2\"), \"DELETE FROM id_external WHERE item_id IN (SELECT id FROM item WHERE item_type_id = 5)\", 0, -1, 0, MySQL.API.MYSQL_RES(Ptr{Nothing} @0x0000000000000000), Symbol[], Type[], Dict{Symbol, Int64}(), 0, 1, false)"
      ]
     },
     "execution_count": 64,
     "metadata": {},
     "output_type": "execute_result"
    }
   ],
   "source": [
    "sql = \"DELETE FROM id_external \" *\n",
    "\"WHERE item_id IN (SELECT id FROM item WHERE item_type_id = $(item_type_id))\"\n",
    "DBInterface.execute(Wds.dbwiag, sql)"
   ]
  },
  {
   "cell_type": "code",
   "execution_count": 15,
   "metadata": {},
   "outputs": [
    {
     "data": {
      "text/html": [
       "<div class=\"data-frame\"><p>6 rows × 2 columns</p><table class=\"data-frame\"><thead><tr><th></th><th>id</th><th>url_name_formatter</th></tr><tr><th></th><th title=\"Int32\">Int32</th><th title=\"Union{Missing, String}\">String?</th></tr></thead><tbody><tr><th>1</th><td>1</td><td>Gemeinsame Normdatei (GND) ID</td></tr><tr><th>2</th><td>2</td><td>Wikidata</td></tr><tr><th>3</th><td>3</td><td>Wikipedia-Artikel</td></tr><tr><th>4</th><td>4</td><td>VIAF-ID</td></tr><tr><th>5</th><td>5</td><td>WIAG-ID</td></tr><tr><th>6</th><td>200</td><td>Personendatenbank der Germania Sacra</td></tr></tbody></table></div>"
      ],
      "text/latex": [
       "\\begin{tabular}{r|cc}\n",
       "\t& id & url\\_name\\_formatter\\\\\n",
       "\t\\hline\n",
       "\t& Int32 & String?\\\\\n",
       "\t\\hline\n",
       "\t1 & 1 & Gemeinsame Normdatei (GND) ID \\\\\n",
       "\t2 & 2 & Wikidata \\\\\n",
       "\t3 & 3 & Wikipedia-Artikel \\\\\n",
       "\t4 & 4 & VIAF-ID \\\\\n",
       "\t5 & 5 & WIAG-ID \\\\\n",
       "\t6 & 200 & Personendatenbank der Germania Sacra \\\\\n",
       "\\end{tabular}\n"
      ],
      "text/plain": [
       "\u001b[1m6×2 DataFrame\u001b[0m\n",
       "\u001b[1m Row \u001b[0m│\u001b[1m id    \u001b[0m\u001b[1m url_name_formatter                \u001b[0m\n",
       "\u001b[1m     \u001b[0m│\u001b[90m Int32 \u001b[0m\u001b[90m String?                           \u001b[0m\n",
       "─────┼──────────────────────────────────────────\n",
       "   1 │     1  Gemeinsame Normdatei (GND) ID\n",
       "   2 │     2  Wikidata\n",
       "   3 │     3  Wikipedia-Artikel\n",
       "   4 │     4  VIAF-ID\n",
       "   5 │     5  WIAG-ID\n",
       "   6 │   200  Personendatenbank der Germania S…"
      ]
     },
     "execution_count": 15,
     "metadata": {},
     "output_type": "execute_result"
    }
   ],
   "source": [
    "sql = \"SELECT id, url_name_formatter FROM authority \" *\n",
    "\"WHERE id IN (1, 2, 3, 4, 5, 200)\"\n",
    "db_exec(sql)"
   ]
  },
  {
   "cell_type": "markdown",
   "metadata": {},
   "source": [
    "Index aus `item` lesen"
   ]
  },
  {
   "cell_type": "code",
   "execution_count": 65,
   "metadata": {},
   "outputs": [],
   "source": [
    "sql = \"SELECT id, id_in_source FROM item WHERE item_type_id = $(item_type_id)\"\n",
    "df_idx = Wds.sql_df(sql);"
   ]
  },
  {
   "cell_type": "code",
   "execution_count": 66,
   "metadata": {},
   "outputs": [
    {
     "data": {
      "text/plain": [
       "22780"
      ]
     },
     "execution_count": 66,
     "metadata": {},
     "output_type": "execute_result"
    }
   ],
   "source": [
    "size(df_idx, 1)"
   ]
  },
  {
   "cell_type": "markdown",
   "metadata": {},
   "source": [
    "Externe Ids aus den Quelldaten lesen  \n",
    "`domherr.tbl_domherren`"
   ]
  },
  {
   "cell_type": "code",
   "execution_count": 67,
   "metadata": {},
   "outputs": [],
   "source": [
    "path = \"C:\\\\Users\\\\georg\\\\Documents\\\\projekte-doc\\\\WIAGweb\\\\data\\\\tbl_domherren.csv\"\n",
    "df_cn = CSV.read(path, DataFrame);"
   ]
  },
  {
   "cell_type": "markdown",
   "metadata": {},
   "source": [
    "Alternativ: Lies die Daten aus der Datenbank, wenn der Export aus Access in die Datenbank klappt."
   ]
  },
  {
   "cell_type": "code",
   "execution_count": 20,
   "metadata": {},
   "outputs": [],
   "source": [
    "sql = \"SELECT ID_Domherr, Vorname, Familienname, \" *\n",
    "\"VIAF_ID, GND_ID, Wikidata_ID, GSN_ID, WIAG_ID_Bischof, URL_Wikipedia \" *\n",
    "\"FROM domherr.tbl_domherren\"\n",
    "df_cn = Wds.sql_df(sql);"
   ]
  },
  {
   "cell_type": "code",
   "execution_count": 68,
   "metadata": {},
   "outputs": [],
   "source": [
    "Wds.clean_up!(df_cn)"
   ]
  },
  {
   "cell_type": "code",
   "execution_count": 69,
   "metadata": {},
   "outputs": [],
   "source": [
    "transform!(df_cn, :ID_Domherr => ByRow(string) => :id_in_source);"
   ]
  },
  {
   "cell_type": "markdown",
   "metadata": {},
   "source": [
    "**VIAF**, dann GND, Wikidata, GSN, Wikipedia"
   ]
  },
  {
   "cell_type": "code",
   "execution_count": 70,
   "metadata": {},
   "outputs": [
    {
     "data": {
      "text/plain": [
       "4"
      ]
     },
     "execution_count": 70,
     "metadata": {},
     "output_type": "execute_result"
    }
   ],
   "source": [
    "authority_id_viaf = 4 # siehe oben"
   ]
  },
  {
   "cell_type": "code",
   "execution_count": 71,
   "metadata": {},
   "outputs": [],
   "source": [
    "df_cn_viaf = dropmissing(df_cn, :VIAF_ID)\n",
    "df_cn_viaf[!, :authority_id] .= authority_id_viaf;\n",
    "df_ins_0 = innerjoin(df_idx, df_cn_viaf, on = :id_in_source);"
   ]
  },
  {
   "cell_type": "code",
   "execution_count": 109,
   "metadata": {},
   "outputs": [
    {
     "data": {
      "text/plain": [
       "(1416, 52)"
      ]
     },
     "execution_count": 109,
     "metadata": {},
     "output_type": "execute_result"
    }
   ],
   "source": [
    "size(df_ins_0)"
   ]
  },
  {
   "cell_type": "code",
   "execution_count": 72,
   "metadata": {},
   "outputs": [
    {
     "data": {
      "text/plain": [
       "3-element Vector{Pair{Symbol, Symbol}}:\n",
       "           :id => :item_id\n",
       " :authority_id => :authority_id\n",
       "      :VIAF_ID => :value"
      ]
     },
     "execution_count": 72,
     "metadata": {},
     "output_type": "execute_result"
    }
   ],
   "source": [
    "columns = [\n",
    "    :id => :item_id,\n",
    "    :authority_id => :authority_id,\n",
    "    :VIAF_ID => :value,\n",
    "]"
   ]
  },
  {
   "cell_type": "code",
   "execution_count": 73,
   "metadata": {},
   "outputs": [],
   "source": [
    "df_ins = select(df_ins_0, columns);"
   ]
  },
  {
   "cell_type": "code",
   "execution_count": 74,
   "metadata": {},
   "outputs": [
    {
     "data": {
      "text/html": [
       "<div class=\"data-frame\"><p>5 rows × 3 columns</p><table class=\"data-frame\"><thead><tr><th></th><th>item_id</th><th>authority_id</th><th>value</th></tr><tr><th></th><th title=\"Int32\">Int32</th><th title=\"Int64\">Int64</th><th title=\"String\">String</th></tr></thead><tbody><tr><th>1</th><td>127168</td><td>4</td><td>24145602513801362459</td></tr><tr><th>2</th><td>127171</td><td>4</td><td>10657416</td></tr><tr><th>3</th><td>127172</td><td>4</td><td>26145602488301361917</td></tr><tr><th>4</th><td>127175</td><td>4</td><td>42698902</td></tr><tr><th>5</th><td>127181</td><td>4</td><td>315114292</td></tr></tbody></table></div>"
      ],
      "text/latex": [
       "\\begin{tabular}{r|ccc}\n",
       "\t& item\\_id & authority\\_id & value\\\\\n",
       "\t\\hline\n",
       "\t& Int32 & Int64 & String\\\\\n",
       "\t\\hline\n",
       "\t1 & 127168 & 4 & 24145602513801362459 \\\\\n",
       "\t2 & 127171 & 4 & 10657416 \\\\\n",
       "\t3 & 127172 & 4 & 26145602488301361917 \\\\\n",
       "\t4 & 127175 & 4 & 42698902 \\\\\n",
       "\t5 & 127181 & 4 & 315114292 \\\\\n",
       "\\end{tabular}\n"
      ],
      "text/plain": [
       "\u001b[1m5×3 DataFrame\u001b[0m\n",
       "\u001b[1m Row \u001b[0m│\u001b[1m item_id \u001b[0m\u001b[1m authority_id \u001b[0m\u001b[1m value                \u001b[0m\n",
       "\u001b[1m     \u001b[0m│\u001b[90m Int32   \u001b[0m\u001b[90m Int64        \u001b[0m\u001b[90m String               \u001b[0m\n",
       "─────┼─────────────────────────────────────────────\n",
       "   1 │  127168             4  24145602513801362459\n",
       "   2 │  127171             4  10657416\n",
       "   3 │  127172             4  26145602488301361917\n",
       "   4 │  127175             4  42698902\n",
       "   5 │  127181             4  315114292"
      ]
     },
     "execution_count": 74,
     "metadata": {},
     "output_type": "execute_result"
    }
   ],
   "source": [
    "df_ins[303:307, :]"
   ]
  },
  {
   "cell_type": "code",
   "execution_count": 75,
   "metadata": {},
   "outputs": [
    {
     "name": "stderr",
     "output_type": "stream",
     "text": [
      "┌ Info: Rows inserted: 1416\n",
      "└ @ WiagDataSetup C:\\Users\\georg\\Documents\\projekte\\WiagDataSetup.jl\\src\\WiagDataSetup.jl:1208\n"
     ]
    },
    {
     "data": {
      "text/plain": [
       "1416"
      ]
     },
     "execution_count": 75,
     "metadata": {},
     "output_type": "execute_result"
    }
   ],
   "source": [
    "Wds.filltable!(\"id_external\", df_ins)"
   ]
  },
  {
   "cell_type": "markdown",
   "metadata": {},
   "source": [
    "**GND**"
   ]
  },
  {
   "cell_type": "code",
   "execution_count": 76,
   "metadata": {},
   "outputs": [
    {
     "data": {
      "text/plain": [
       "1"
      ]
     },
     "execution_count": 76,
     "metadata": {},
     "output_type": "execute_result"
    }
   ],
   "source": [
    "authority_id_gnd = 1 # siehe oben"
   ]
  },
  {
   "cell_type": "code",
   "execution_count": 77,
   "metadata": {},
   "outputs": [],
   "source": [
    "df_cn_gnd = dropmissing(df_cn, :GND_ID)\n",
    "df_cn_gnd[!, :authority_id] .= authority_id_gnd;\n",
    "df_ins_0 = innerjoin(df_idx, df_cn_gnd, on = :id_in_source);"
   ]
  },
  {
   "cell_type": "code",
   "execution_count": 78,
   "metadata": {},
   "outputs": [
    {
     "data": {
      "text/plain": [
       "(1759, 52)"
      ]
     },
     "execution_count": 78,
     "metadata": {},
     "output_type": "execute_result"
    }
   ],
   "source": [
    "size(df_ins_0)"
   ]
  },
  {
   "cell_type": "code",
   "execution_count": 79,
   "metadata": {},
   "outputs": [],
   "source": [
    "df_ins = select(df_ins_0, :id => :item_id, :authority_id, :GND_ID => :value);"
   ]
  },
  {
   "cell_type": "code",
   "execution_count": 80,
   "metadata": {},
   "outputs": [
    {
     "data": {
      "text/html": [
       "<div class=\"data-frame\"><p>8 rows × 3 columns</p><table class=\"data-frame\"><thead><tr><th></th><th>item_id</th><th>authority_id</th><th>value</th></tr><tr><th></th><th title=\"Int32\">Int32</th><th title=\"Int64\">Int64</th><th title=\"String\">String</th></tr></thead><tbody><tr><th>1</th><td>126083</td><td>1</td><td>1034900722</td></tr><tr><th>2</th><td>126086</td><td>1</td><td>136099017</td></tr><tr><th>3</th><td>126087</td><td>1</td><td>129104973</td></tr><tr><th>4</th><td>126093</td><td>1</td><td>104360402</td></tr><tr><th>5</th><td>126106</td><td>1</td><td>136176631</td></tr><tr><th>6</th><td>126109</td><td>1</td><td>118938363</td></tr><tr><th>7</th><td>126111</td><td>1</td><td>129303607</td></tr><tr><th>8</th><td>126113</td><td>1</td><td>1021203459</td></tr></tbody></table></div>"
      ],
      "text/latex": [
       "\\begin{tabular}{r|ccc}\n",
       "\t& item\\_id & authority\\_id & value\\\\\n",
       "\t\\hline\n",
       "\t& Int32 & Int64 & String\\\\\n",
       "\t\\hline\n",
       "\t1 & 126083 & 1 & 1034900722 \\\\\n",
       "\t2 & 126086 & 1 & 136099017 \\\\\n",
       "\t3 & 126087 & 1 & 129104973 \\\\\n",
       "\t4 & 126093 & 1 & 104360402 \\\\\n",
       "\t5 & 126106 & 1 & 136176631 \\\\\n",
       "\t6 & 126109 & 1 & 118938363 \\\\\n",
       "\t7 & 126111 & 1 & 129303607 \\\\\n",
       "\t8 & 126113 & 1 & 1021203459 \\\\\n",
       "\\end{tabular}\n"
      ],
      "text/plain": [
       "\u001b[1m8×3 DataFrame\u001b[0m\n",
       "\u001b[1m Row \u001b[0m│\u001b[1m item_id \u001b[0m\u001b[1m authority_id \u001b[0m\u001b[1m value      \u001b[0m\n",
       "\u001b[1m     \u001b[0m│\u001b[90m Int32   \u001b[0m\u001b[90m Int64        \u001b[0m\u001b[90m String     \u001b[0m\n",
       "─────┼───────────────────────────────────\n",
       "   1 │  126083             1  1034900722\n",
       "   2 │  126086             1  136099017\n",
       "   3 │  126087             1  129104973\n",
       "   4 │  126093             1  104360402\n",
       "   5 │  126106             1  136176631\n",
       "   6 │  126109             1  118938363\n",
       "   7 │  126111             1  129303607\n",
       "   8 │  126113             1  1021203459"
      ]
     },
     "execution_count": 80,
     "metadata": {},
     "output_type": "execute_result"
    }
   ],
   "source": [
    "df_ins[300:307, :]"
   ]
  },
  {
   "cell_type": "code",
   "execution_count": 81,
   "metadata": {},
   "outputs": [
    {
     "name": "stderr",
     "output_type": "stream",
     "text": [
      "┌ Info: Rows inserted: 1759\n",
      "└ @ WiagDataSetup C:\\Users\\georg\\Documents\\projekte\\WiagDataSetup.jl\\src\\WiagDataSetup.jl:1208\n"
     ]
    },
    {
     "data": {
      "text/plain": [
       "1759"
      ]
     },
     "execution_count": 81,
     "metadata": {},
     "output_type": "execute_result"
    }
   ],
   "source": [
    "Wds.filltable!(\"id_external\", df_ins)"
   ]
  },
  {
   "cell_type": "markdown",
   "metadata": {},
   "source": [
    "**Wikidata**"
   ]
  },
  {
   "cell_type": "code",
   "execution_count": 82,
   "metadata": {},
   "outputs": [
    {
     "data": {
      "text/plain": [
       "2"
      ]
     },
     "execution_count": 82,
     "metadata": {},
     "output_type": "execute_result"
    }
   ],
   "source": [
    "authority_id_wd = 2 # siehe oben"
   ]
  },
  {
   "cell_type": "markdown",
   "metadata": {},
   "source": [
    "In vielen Datensätzen ist `Wikidata_ID` befüllt mit `ergaenzen`"
   ]
  },
  {
   "cell_type": "code",
   "execution_count": 83,
   "metadata": {},
   "outputs": [],
   "source": [
    "df_cn_wd = dropmissing(df_cn, :Wikidata_ID)\n",
    "filter!(:Wikidata_ID => !isequal(\"ergaenzen\"), df_cn_wd);"
   ]
  },
  {
   "cell_type": "code",
   "execution_count": 84,
   "metadata": {},
   "outputs": [],
   "source": [
    "df_cn_wd[!, :authority_id] .= authority_id_wd;\n",
    "df_ins_0 = innerjoin(df_idx, df_cn_wd, on = :id_in_source);"
   ]
  },
  {
   "cell_type": "code",
   "execution_count": 85,
   "metadata": {},
   "outputs": [
    {
     "data": {
      "text/plain": [
       "(1839, 52)"
      ]
     },
     "execution_count": 85,
     "metadata": {},
     "output_type": "execute_result"
    }
   ],
   "source": [
    "size(df_ins_0)"
   ]
  },
  {
   "cell_type": "code",
   "execution_count": 86,
   "metadata": {},
   "outputs": [],
   "source": [
    "df_ins = select(df_ins_0, :id => :item_id, :authority_id, :Wikidata_ID => :value);"
   ]
  },
  {
   "cell_type": "code",
   "execution_count": 87,
   "metadata": {},
   "outputs": [
    {
     "data": {
      "text/html": [
       "<div class=\"data-frame\"><p>8 rows × 3 columns</p><table class=\"data-frame\"><thead><tr><th></th><th>item_id</th><th>authority_id</th><th>value</th></tr><tr><th></th><th title=\"Int32\">Int32</th><th title=\"Int64\">Int64</th><th title=\"String\">String</th></tr></thead><tbody><tr><th>1</th><td>124876</td><td>2</td><td>Q1991834</td></tr><tr><th>2</th><td>124881</td><td>2</td><td>Q1782130</td></tr><tr><th>3</th><td>124890</td><td>2</td><td>Q15434605</td></tr><tr><th>4</th><td>124905</td><td>2</td><td>Q1819706</td></tr><tr><th>5</th><td>124906</td><td>2</td><td>Q55193216</td></tr><tr><th>6</th><td>124911</td><td>2</td><td>Q94789987</td></tr><tr><th>7</th><td>124913</td><td>2</td><td>Q55125853</td></tr><tr><th>8</th><td>124914</td><td>2</td><td>Q55126478</td></tr></tbody></table></div>"
      ],
      "text/latex": [
       "\\begin{tabular}{r|ccc}\n",
       "\t& item\\_id & authority\\_id & value\\\\\n",
       "\t\\hline\n",
       "\t& Int32 & Int64 & String\\\\\n",
       "\t\\hline\n",
       "\t1 & 124876 & 2 & Q1991834 \\\\\n",
       "\t2 & 124881 & 2 & Q1782130 \\\\\n",
       "\t3 & 124890 & 2 & Q15434605 \\\\\n",
       "\t4 & 124905 & 2 & Q1819706 \\\\\n",
       "\t5 & 124906 & 2 & Q55193216 \\\\\n",
       "\t6 & 124911 & 2 & Q94789987 \\\\\n",
       "\t7 & 124913 & 2 & Q55125853 \\\\\n",
       "\t8 & 124914 & 2 & Q55126478 \\\\\n",
       "\\end{tabular}\n"
      ],
      "text/plain": [
       "\u001b[1m8×3 DataFrame\u001b[0m\n",
       "\u001b[1m Row \u001b[0m│\u001b[1m item_id \u001b[0m\u001b[1m authority_id \u001b[0m\u001b[1m value     \u001b[0m\n",
       "\u001b[1m     \u001b[0m│\u001b[90m Int32   \u001b[0m\u001b[90m Int64        \u001b[0m\u001b[90m String    \u001b[0m\n",
       "─────┼──────────────────────────────────\n",
       "   1 │  124876             2  Q1991834\n",
       "   2 │  124881             2  Q1782130\n",
       "   3 │  124890             2  Q15434605\n",
       "   4 │  124905             2  Q1819706\n",
       "   5 │  124906             2  Q55193216\n",
       "   6 │  124911             2  Q94789987\n",
       "   7 │  124913             2  Q55125853\n",
       "   8 │  124914             2  Q55126478"
      ]
     },
     "execution_count": 87,
     "metadata": {},
     "output_type": "execute_result"
    }
   ],
   "source": [
    "df_ins[300:307, :]"
   ]
  },
  {
   "cell_type": "code",
   "execution_count": 88,
   "metadata": {},
   "outputs": [
    {
     "name": "stderr",
     "output_type": "stream",
     "text": [
      "┌ Info: Rows inserted: 1839\n",
      "└ @ WiagDataSetup C:\\Users\\georg\\Documents\\projekte\\WiagDataSetup.jl\\src\\WiagDataSetup.jl:1208\n"
     ]
    },
    {
     "data": {
      "text/plain": [
       "1839"
      ]
     },
     "execution_count": 88,
     "metadata": {},
     "output_type": "execute_result"
    }
   ],
   "source": [
    "Wds.filltable!(\"id_external\", df_ins)"
   ]
  },
  {
   "cell_type": "markdown",
   "metadata": {},
   "source": [
    "**GSN**"
   ]
  },
  {
   "cell_type": "markdown",
   "metadata": {},
   "source": [
    "Ergänze auch mittelbare GSN über Verweise auf Bischöfe"
   ]
  },
  {
   "cell_type": "code",
   "execution_count": 89,
   "metadata": {},
   "outputs": [],
   "source": [
    "table_name = \"item\";\n",
    "item_type_bishop = 4;\n",
    "sql = \"SELECT i.id as ep, i.id_public, e1.value AS ep_gsn\n",
    "FROM $(table_name) AS i\n",
    "JOIN id_external AS e1 ON e1.item_id = i.id AND e1.authority_id = 200\n",
    "WHERE i.item_type_id = $(item_type_bishop) AND i.is_online\";\n",
    "df_ep = Wds.sql_df(sql);"
   ]
  },
  {
   "cell_type": "code",
   "execution_count": 90,
   "metadata": {},
   "outputs": [
    {
     "data": {
      "text/html": [
       "<div class=\"data-frame\"><p>6 rows × 4 columns</p><table class=\"data-frame\"><thead><tr><th></th><th>ID_Domherr</th><th>Vorname</th><th>Familienname</th><th>GSN_ID</th></tr><tr><th></th><th title=\"Int64\">Int64</th><th title=\"Union{Missing, String}\">String?</th><th title=\"Union{Missing, String}\">String?</th><th title=\"Union{Missing, String}\">String?</th></tr></thead><tbody><tr><th>1</th><td>10099</td><td>Karl Emmerich</td><td>Hagen</td><td>032-01416-001</td></tr><tr><th>2</th><td>10100</td><td>Johann Philipp</td><td>Greiffenclau</td><td>072-01329-001</td></tr><tr><th>3</th><td>10101</td><td>Karl Friedrich Damian</td><td>Dalberg</td><td><em>missing</em></td></tr><tr><th>4</th><td>10102</td><td>Johann Jakob Franz</td><td>Eltz-Kempenich</td><td><em>missing</em></td></tr><tr><th>5</th><td>10103</td><td>Lothar Georg Joseph</td><td>Stadion</td><td><em>missing</em></td></tr><tr><th>6</th><td>10104</td><td>Hugo Johann Philipp</td><td>Stadion</td><td><em>missing</em></td></tr></tbody></table></div>"
      ],
      "text/latex": [
       "\\begin{tabular}{r|cccc}\n",
       "\t& ID\\_Domherr & Vorname & Familienname & GSN\\_ID\\\\\n",
       "\t\\hline\n",
       "\t& Int64 & String? & String? & String?\\\\\n",
       "\t\\hline\n",
       "\t1 & 10099 & Karl Emmerich & Hagen & 032-01416-001 \\\\\n",
       "\t2 & 10100 & Johann Philipp & Greiffenclau & 072-01329-001 \\\\\n",
       "\t3 & 10101 & Karl Friedrich Damian & Dalberg & \\emph{missing} \\\\\n",
       "\t4 & 10102 & Johann Jakob Franz & Eltz-Kempenich & \\emph{missing} \\\\\n",
       "\t5 & 10103 & Lothar Georg Joseph & Stadion & \\emph{missing} \\\\\n",
       "\t6 & 10104 & Hugo Johann Philipp & Stadion & \\emph{missing} \\\\\n",
       "\\end{tabular}\n"
      ],
      "text/plain": [
       "\u001b[1m6×4 DataFrame\u001b[0m\n",
       "\u001b[1m Row \u001b[0m│\u001b[1m ID_Domherr \u001b[0m\u001b[1m Vorname               \u001b[0m\u001b[1m Familienname   \u001b[0m\u001b[1m GSN_ID        \u001b[0m\n",
       "\u001b[1m     \u001b[0m│\u001b[90m Int64      \u001b[0m\u001b[90m String?               \u001b[0m\u001b[90m String?        \u001b[0m\u001b[90m String?       \u001b[0m\n",
       "─────┼──────────────────────────────────────────────────────────────────\n",
       "   1 │      10099  Karl Emmerich          Hagen           032-01416-001\n",
       "   2 │      10100  Johann Philipp         Greiffenclau    072-01329-001\n",
       "   3 │      10101  Karl Friedrich Damian  Dalberg        \u001b[90m missing       \u001b[0m\n",
       "   4 │      10102  Johann Jakob Franz     Eltz-Kempenich \u001b[90m missing       \u001b[0m\n",
       "   5 │      10103  Lothar Georg Joseph    Stadion        \u001b[90m missing       \u001b[0m\n",
       "   6 │      10104  Hugo Johann Philipp    Stadion        \u001b[90m missing       \u001b[0m"
      ]
     },
     "execution_count": 90,
     "metadata": {},
     "output_type": "execute_result"
    }
   ],
   "source": [
    "df_cn[100:105, [:ID_Domherr, :Vorname, :Familienname, :GSN_ID]]"
   ]
  },
  {
   "cell_type": "code",
   "execution_count": 91,
   "metadata": {},
   "outputs": [
    {
     "data": {
      "text/plain": [
       "(22780, 2869)"
      ]
     },
     "execution_count": 91,
     "metadata": {},
     "output_type": "execute_result"
    }
   ],
   "source": [
    "size(df_cn, 1), count(!ismissing, df_cn.GSN_ID)"
   ]
  },
  {
   "cell_type": "code",
   "execution_count": 92,
   "metadata": {},
   "outputs": [],
   "source": [
    "df_cn_ep = leftjoin(df_cn, df_ep, on = :WIAG_ID_Bischof => :id_public, matchmissing = :notequal);"
   ]
  },
  {
   "cell_type": "code",
   "execution_count": 93,
   "metadata": {},
   "outputs": [],
   "source": [
    "for row in eachrow(df_cn_ep)\n",
    "    if ismissing(row[:GSN_ID]) && !ismissing(row[:ep_gsn])\n",
    "        row[:GSN_ID] = row[:ep_gsn]\n",
    "    end\n",
    "end"
   ]
  },
  {
   "cell_type": "code",
   "execution_count": 94,
   "metadata": {},
   "outputs": [
    {
     "data": {
      "text/plain": [
       "(22780, 3036)"
      ]
     },
     "execution_count": 94,
     "metadata": {},
     "output_type": "execute_result"
    }
   ],
   "source": [
    "size(df_cn_ep, 1), count(!ismissing, df_cn_ep.GSN_ID)"
   ]
  },
  {
   "cell_type": "code",
   "execution_count": 95,
   "metadata": {},
   "outputs": [
    {
     "data": {
      "text/plain": [
       "200"
      ]
     },
     "execution_count": 95,
     "metadata": {},
     "output_type": "execute_result"
    }
   ],
   "source": [
    "authority_id_gsn = 200 # siehe oben"
   ]
  },
  {
   "cell_type": "code",
   "execution_count": 96,
   "metadata": {},
   "outputs": [],
   "source": [
    "df_cn_gsn = dropmissing(df_cn_ep, :GSN_ID)\n",
    "df_cn_gsn[!, :authority_id] .= authority_id_gsn;\n",
    "df_ins_0 = innerjoin(df_idx, df_cn_gsn, on = :id_in_source);"
   ]
  },
  {
   "cell_type": "code",
   "execution_count": 97,
   "metadata": {},
   "outputs": [
    {
     "data": {
      "text/plain": [
       "(3036, 54)"
      ]
     },
     "execution_count": 97,
     "metadata": {},
     "output_type": "execute_result"
    }
   ],
   "source": [
    "size(df_ins_0)"
   ]
  },
  {
   "cell_type": "code",
   "execution_count": 98,
   "metadata": {},
   "outputs": [],
   "source": [
    "df_ins = select(df_ins_0, :id => :item_id, :authority_id, :GSN_ID => :value);"
   ]
  },
  {
   "cell_type": "code",
   "execution_count": 99,
   "metadata": {
    "scrolled": true
   },
   "outputs": [
    {
     "data": {
      "text/html": [
       "<div class=\"data-frame\"><p>8 rows × 3 columns</p><table class=\"data-frame\"><thead><tr><th></th><th>item_id</th><th>authority_id</th><th>value</th></tr><tr><th></th><th title=\"Int32\">Int32</th><th title=\"Int64\">Int64</th><th title=\"String\">String</th></tr></thead><tbody><tr><th>1</th><td>123721</td><td>200</td><td>051-02773-001</td></tr><tr><th>2</th><td>123724</td><td>200</td><td>026-07720-001</td></tr><tr><th>3</th><td>123726</td><td>200</td><td>026-07640-001</td></tr><tr><th>4</th><td>123728</td><td>200</td><td>026-02645-001</td></tr><tr><th>5</th><td>123729</td><td>200</td><td>026-02651-001</td></tr><tr><th>6</th><td>123730</td><td>200</td><td>026-02649-001</td></tr><tr><th>7</th><td>123732</td><td>200</td><td>058-05253-001</td></tr><tr><th>8</th><td>123733</td><td>200</td><td>026-07525-001</td></tr></tbody></table></div>"
      ],
      "text/latex": [
       "\\begin{tabular}{r|ccc}\n",
       "\t& item\\_id & authority\\_id & value\\\\\n",
       "\t\\hline\n",
       "\t& Int32 & Int64 & String\\\\\n",
       "\t\\hline\n",
       "\t1 & 123721 & 200 & 051-02773-001 \\\\\n",
       "\t2 & 123724 & 200 & 026-07720-001 \\\\\n",
       "\t3 & 123726 & 200 & 026-07640-001 \\\\\n",
       "\t4 & 123728 & 200 & 026-02645-001 \\\\\n",
       "\t5 & 123729 & 200 & 026-02651-001 \\\\\n",
       "\t6 & 123730 & 200 & 026-02649-001 \\\\\n",
       "\t7 & 123732 & 200 & 058-05253-001 \\\\\n",
       "\t8 & 123733 & 200 & 026-07525-001 \\\\\n",
       "\\end{tabular}\n"
      ],
      "text/plain": [
       "\u001b[1m8×3 DataFrame\u001b[0m\n",
       "\u001b[1m Row \u001b[0m│\u001b[1m item_id \u001b[0m\u001b[1m authority_id \u001b[0m\u001b[1m value         \u001b[0m\n",
       "\u001b[1m     \u001b[0m│\u001b[90m Int32   \u001b[0m\u001b[90m Int64        \u001b[0m\u001b[90m String        \u001b[0m\n",
       "─────┼──────────────────────────────────────\n",
       "   1 │  123721           200  051-02773-001\n",
       "   2 │  123724           200  026-07720-001\n",
       "   3 │  123726           200  026-07640-001\n",
       "   4 │  123728           200  026-02645-001\n",
       "   5 │  123729           200  026-02651-001\n",
       "   6 │  123730           200  026-02649-001\n",
       "   7 │  123732           200  058-05253-001\n",
       "   8 │  123733           200  026-07525-001"
      ]
     },
     "execution_count": 99,
     "metadata": {},
     "output_type": "execute_result"
    }
   ],
   "source": [
    "df_ins[300:307, :]"
   ]
  },
  {
   "cell_type": "code",
   "execution_count": 100,
   "metadata": {},
   "outputs": [
    {
     "name": "stderr",
     "output_type": "stream",
     "text": [
      "┌ Info: Rows inserted: 3036\n",
      "└ @ WiagDataSetup C:\\Users\\georg\\Documents\\projekte\\WiagDataSetup.jl\\src\\WiagDataSetup.jl:1208\n"
     ]
    },
    {
     "data": {
      "text/plain": [
       "3036"
      ]
     },
     "execution_count": 100,
     "metadata": {},
     "output_type": "execute_result"
    }
   ],
   "source": [
    "Wds.filltable!(\"id_external\", df_ins)"
   ]
  },
  {
   "cell_type": "markdown",
   "metadata": {},
   "source": [
    "**WIAG-ID**"
   ]
  },
  {
   "cell_type": "code",
   "execution_count": 101,
   "metadata": {},
   "outputs": [
    {
     "data": {
      "text/plain": [
       "5"
      ]
     },
     "execution_count": 101,
     "metadata": {},
     "output_type": "execute_result"
    }
   ],
   "source": [
    "authority_id_wiag = 5 # siehe oben"
   ]
  },
  {
   "cell_type": "code",
   "execution_count": 102,
   "metadata": {},
   "outputs": [],
   "source": [
    "df_cn_wiag = dropmissing(df_cn, :WIAG_ID_Bischof)\n",
    "df_cn_wiag[!, :authority_id] .= authority_id_wiag;\n",
    "df_ins_0 = innerjoin(df_idx, df_cn_wiag, on = :id_in_source);"
   ]
  },
  {
   "cell_type": "code",
   "execution_count": 103,
   "metadata": {},
   "outputs": [],
   "source": [
    "df_ins = select(df_ins_0, :id => :item_id, :authority_id, :WIAG_ID_Bischof => :value);"
   ]
  },
  {
   "cell_type": "code",
   "execution_count": 104,
   "metadata": {},
   "outputs": [
    {
     "data": {
      "text/plain": [
       "(737, 3)"
      ]
     },
     "execution_count": 104,
     "metadata": {},
     "output_type": "execute_result"
    }
   ],
   "source": [
    "size(df_ins)"
   ]
  },
  {
   "cell_type": "code",
   "execution_count": 105,
   "metadata": {},
   "outputs": [
    {
     "name": "stderr",
     "output_type": "stream",
     "text": [
      "┌ Info: Rows inserted: 737\n",
      "└ @ WiagDataSetup C:\\Users\\georg\\Documents\\projekte\\WiagDataSetup.jl\\src\\WiagDataSetup.jl:1208\n"
     ]
    },
    {
     "data": {
      "text/plain": [
       "737"
      ]
     },
     "execution_count": 105,
     "metadata": {},
     "output_type": "execute_result"
    }
   ],
   "source": [
    "Wds.filltable!(\"id_external\", df_ins)"
   ]
  },
  {
   "cell_type": "markdown",
   "metadata": {},
   "source": [
    "**Wikipedia**"
   ]
  },
  {
   "cell_type": "code",
   "execution_count": 106,
   "metadata": {},
   "outputs": [
    {
     "data": {
      "text/plain": [
       "3"
      ]
     },
     "execution_count": 106,
     "metadata": {},
     "output_type": "execute_result"
    }
   ],
   "source": [
    "authority_id_wp = 3 # siehe oben"
   ]
  },
  {
   "cell_type": "code",
   "execution_count": 107,
   "metadata": {},
   "outputs": [],
   "source": [
    "df_cn_wp = dropmissing(df_cn, :URL_Wikipedia)\n",
    "df_cn_wp[!, :authority_id] .= authority_id_wp;\n",
    "df_ins_0 = innerjoin(df_idx, df_cn_wp, on = :id_in_source);"
   ]
  },
  {
   "cell_type": "code",
   "execution_count": 108,
   "metadata": {},
   "outputs": [
    {
     "data": {
      "text/plain": [
       "(1465, 52)"
      ]
     },
     "execution_count": 108,
     "metadata": {},
     "output_type": "execute_result"
    }
   ],
   "source": [
    "size(df_ins_0)"
   ]
  },
  {
   "cell_type": "code",
   "execution_count": 109,
   "metadata": {},
   "outputs": [],
   "source": [
    "df_ins = select(df_ins_0, :id => :item_id, :authority_id, :URL_Wikipedia => :value);"
   ]
  },
  {
   "cell_type": "markdown",
   "metadata": {},
   "source": [
    "Die Wikipedia-URLs sind teilweise mit '#' versehen und doppelt  \n",
    "#https://de.wikipedia.org/wiki/Ruprecht_von_der_Pfalz_%28Freising%29#https://de.wikipedia.org/wiki/Ruprecht_von_der_Pfalz_%28Freising%29#"
   ]
  },
  {
   "cell_type": "code",
   "execution_count": 110,
   "metadata": {},
   "outputs": [
    {
     "data": {
      "text/plain": [
       "\"Ruprecht_von_der_Pfalz_%28Freising%29\""
      ]
     },
     "execution_count": 110,
     "metadata": {},
     "output_type": "execute_result"
    }
   ],
   "source": [
    "url_m = \"#https://de.wikipedia.org/wiki/Ruprecht_von_der_Pfalz_%28Freising%29#https://de.wikipedia.org/wiki/Ruprecht_von_der_Pfalz_%28Freising%29#\"\n",
    "Wds.fix_Wikipedia_URL(url_m)"
   ]
  },
  {
   "cell_type": "code",
   "execution_count": 111,
   "metadata": {},
   "outputs": [],
   "source": [
    "transform!(df_ins, :value => ByRow(Wds.fix_Wikipedia_URL) => :value);"
   ]
  },
  {
   "cell_type": "code",
   "execution_count": 112,
   "metadata": {},
   "outputs": [],
   "source": [
    "df_ins[!, :value] .= Wds.fix_Wikipedia_URL.(df_ins[!, :value]);"
   ]
  },
  {
   "cell_type": "code",
   "execution_count": 113,
   "metadata": {
    "scrolled": true
   },
   "outputs": [
    {
     "data": {
      "text/html": [
       "<div class=\"data-frame\"><p>8 rows × 3 columns</p><table class=\"data-frame\"><thead><tr><th></th><th>item_id</th><th>authority_id</th><th>value</th></tr><tr><th></th><th title=\"Int32\">Int32</th><th title=\"Int64\">Int64</th><th title=\"SubString{String}\">SubStri…</th></tr></thead><tbody><tr><th>1</th><td>127148</td><td>3</td><td>Konrad_von_Rechberg_(Bischof)</td></tr><tr><th>2</th><td>127149</td><td>3</td><td>Heinrich_von_Hewen_%28Bischof%2C_1398%29</td></tr><tr><th>3</th><td>127150</td><td>3</td><td>Albrecht_Blarer</td></tr><tr><th>4</th><td>127151</td><td>3</td><td>Nikolaus_von_Riesenburg</td></tr><tr><th>5</th><td>127153</td><td>3</td><td>Heinrich_Truchsess_von_Diessenhofen</td></tr><tr><th>6</th><td>127160</td><td>3</td><td>Johann_Nepomuk_August_Ungelter_von_Deissenhausen</td></tr><tr><th>7</th><td>127165</td><td>3</td><td>Ferdinand_Christoph_von_Waldburg-Zeil</td></tr><tr><th>8</th><td>127171</td><td>3</td><td>Johann_Theodor_von_Bayern</td></tr></tbody></table></div>"
      ],
      "text/latex": [
       "\\begin{tabular}{r|ccc}\n",
       "\t& item\\_id & authority\\_id & value\\\\\n",
       "\t\\hline\n",
       "\t& Int32 & Int64 & SubStri…\\\\\n",
       "\t\\hline\n",
       "\t1 & 127148 & 3 & Konrad\\_von\\_Rechberg\\_(Bischof) \\\\\n",
       "\t2 & 127149 & 3 & Heinrich\\_von\\_Hewen\\_\\%28Bischof\\%2C\\_1398\\%29 \\\\\n",
       "\t3 & 127150 & 3 & Albrecht\\_Blarer \\\\\n",
       "\t4 & 127151 & 3 & Nikolaus\\_von\\_Riesenburg \\\\\n",
       "\t5 & 127153 & 3 & Heinrich\\_Truchsess\\_von\\_Diessenhofen \\\\\n",
       "\t6 & 127160 & 3 & Johann\\_Nepomuk\\_August\\_Ungelter\\_von\\_Deissenhausen \\\\\n",
       "\t7 & 127165 & 3 & Ferdinand\\_Christoph\\_von\\_Waldburg-Zeil \\\\\n",
       "\t8 & 127171 & 3 & Johann\\_Theodor\\_von\\_Bayern \\\\\n",
       "\\end{tabular}\n"
      ],
      "text/plain": [
       "\u001b[1m8×3 DataFrame\u001b[0m\n",
       "\u001b[1m Row \u001b[0m│\u001b[1m item_id \u001b[0m\u001b[1m authority_id \u001b[0m\u001b[1m value                             \u001b[0m\n",
       "\u001b[1m     \u001b[0m│\u001b[90m Int32   \u001b[0m\u001b[90m Int64        \u001b[0m\u001b[90m SubStrin…                         \u001b[0m\n",
       "─────┼──────────────────────────────────────────────────────────\n",
       "   1 │  127148             3  Konrad_von_Rechberg_(Bischof)\n",
       "   2 │  127149             3  Heinrich_von_Hewen_%28Bischof%2C…\n",
       "   3 │  127150             3  Albrecht_Blarer\n",
       "   4 │  127151             3  Nikolaus_von_Riesenburg\n",
       "   5 │  127153             3  Heinrich_Truchsess_von_Diessenho…\n",
       "   6 │  127160             3  Johann_Nepomuk_August_Ungelter_v…\n",
       "   7 │  127165             3  Ferdinand_Christoph_von_Waldburg…\n",
       "   8 │  127171             3  Johann_Theodor_von_Bayern"
      ]
     },
     "execution_count": 113,
     "metadata": {},
     "output_type": "execute_result"
    }
   ],
   "source": [
    "df_ins[300:307, :]"
   ]
  },
  {
   "cell_type": "markdown",
   "metadata": {},
   "source": [
    "*debug begin*"
   ]
  },
  {
   "cell_type": "code",
   "execution_count": 57,
   "metadata": {},
   "outputs": [],
   "source": [
    "using CSV"
   ]
  },
  {
   "cell_type": "code",
   "execution_count": 58,
   "metadata": {},
   "outputs": [
    {
     "data": {
      "text/plain": [
       "\"C:\\\\Users\\\\georg\\\\Documents\\\\tmp\\\\bishops_url_wikidata.csv\""
      ]
     },
     "execution_count": 58,
     "metadata": {},
     "output_type": "execute_result"
    }
   ],
   "source": [
    "file_wp = \"C:\\\\Users\\\\georg\\\\Documents\\\\tmp\\\\bishops_url_wikidata.csv\""
   ]
  },
  {
   "cell_type": "code",
   "execution_count": 59,
   "metadata": {},
   "outputs": [
    {
     "data": {
      "text/plain": [
       "\"C:\\\\Users\\\\georg\\\\Documents\\\\tmp\\\\bishops_url_wikidata.csv\""
      ]
     },
     "execution_count": 59,
     "metadata": {},
     "output_type": "execute_result"
    }
   ],
   "source": [
    "CSV.write(file_wp, df_ins)"
   ]
  },
  {
   "cell_type": "markdown",
   "metadata": {},
   "source": [
    "*debug end*"
   ]
  },
  {
   "cell_type": "code",
   "execution_count": 114,
   "metadata": {},
   "outputs": [
    {
     "name": "stderr",
     "output_type": "stream",
     "text": [
      "┌ Info: Rows inserted: 1465\n",
      "└ @ WiagDataSetup C:\\Users\\georg\\Documents\\projekte\\WiagDataSetup.jl\\src\\WiagDataSetup.jl:1208\n"
     ]
    },
    {
     "data": {
      "text/plain": [
       "1465"
      ]
     },
     "execution_count": 114,
     "metadata": {},
     "output_type": "execute_result"
    }
   ],
   "source": [
    "Wds.filltable!(\"id_external\", df_ins)"
   ]
  },
  {
   "cell_type": "markdown",
   "metadata": {},
   "source": [
    "### Namensvarianten eintragen"
   ]
  },
  {
   "cell_type": "code",
   "execution_count": 7,
   "metadata": {},
   "outputs": [],
   "source": [
    "using MySQL, DataFrames"
   ]
  },
  {
   "cell_type": "code",
   "execution_count": 148,
   "metadata": {},
   "outputs": [],
   "source": [
    "path = \"C:\\\\Users\\\\georg\\\\Documents\\\\projekte-doc\\\\WIAGweb\\\\data\\\\tbl_domherren.csv\"\n",
    "df_cn = CSV.read(path, DataFrame);"
   ]
  },
  {
   "cell_type": "markdown",
   "metadata": {},
   "source": [
    "Alternativ: Lies Daten aus der Datenbank, wenn sie sich von Access aus dahin exportieren lassen"
   ]
  },
  {
   "cell_type": "code",
   "execution_count": 89,
   "metadata": {},
   "outputs": [],
   "source": [
    "table_name = \"domherr.tbl_domherren\"\n",
    "sql = \"SELECT ID_Domherr, Vorname, Familienname, Vorname_Variante, Familienname_Variante \" *\n",
    "\"FROM $(table_name)\"\n",
    "df_cn = Wds.sql_df(sql);"
   ]
  },
  {
   "cell_type": "code",
   "execution_count": 149,
   "metadata": {},
   "outputs": [],
   "source": [
    "Wds.clean_up!(df_cn)"
   ]
  },
  {
   "cell_type": "code",
   "execution_count": 150,
   "metadata": {},
   "outputs": [],
   "source": [
    "df_fnv = dropmissing(df_cn, :Familienname_Variante);"
   ]
  },
  {
   "cell_type": "code",
   "execution_count": 151,
   "metadata": {},
   "outputs": [
    {
     "data": {
      "text/plain": [
       "1094"
      ]
     },
     "execution_count": 151,
     "metadata": {},
     "output_type": "execute_result"
    }
   ],
   "source": [
    "size(df_fnv, 1)"
   ]
  },
  {
   "cell_type": "code",
   "execution_count": 94,
   "metadata": {},
   "outputs": [
    {
     "data": {
      "text/html": [
       "<div class=\"data-frame\"><p>8 rows × 5 columns (omitted printing of 1 columns)</p><table class=\"data-frame\"><thead><tr><th></th><th>ID_Domherr</th><th>Vorname</th><th>Familienname</th><th>Vorname_Variante</th></tr><tr><th></th><th title=\"Int32\">Int32</th><th title=\"Union{Missing, SubString{String}}\">SubStri…?</th><th title=\"Union{Missing, SubString{String}}\">SubStri…?</th><th title=\"Union{Missing, SubString{String}}\">SubStri…?</th></tr></thead><tbody><tr><th>1</th><td>14979</td><td>Wolfgang Dietrich</td><td>Capler von Oeden genannt Bautz</td><td><em>missing</em></td></tr><tr><th>2</th><td>14998</td><td>Georg Christoph</td><td>Aufsess</td><td><em>missing</em></td></tr><tr><th>3</th><td>14999</td><td>Georg Heinrich</td><td>Künssberg</td><td><em>missing</em></td></tr><tr><th>4</th><td>15019</td><td>Johann Veit</td><td>Würzburg</td><td><em>missing</em></td></tr><tr><th>5</th><td>15063</td><td>Jodokus Bernhard</td><td>Aufsess</td><td><em>missing</em></td></tr><tr><th>6</th><td>15104</td><td>Johann Gottfried</td><td>Gross von Trockau</td><td><em>missing</em></td></tr><tr><th>7</th><td>15111</td><td>Lothar Georg Joseph</td><td>Stadion</td><td><em>missing</em></td></tr><tr><th>8</th><td>15228</td><td>Johann Heidenreich</td><td>Voerden</td><td><em>missing</em></td></tr></tbody></table></div>"
      ],
      "text/latex": [
       "\\begin{tabular}{r|ccccc}\n",
       "\t& ID\\_Domherr & Vorname & Familienname & Vorname\\_Variante & \\\\\n",
       "\t\\hline\n",
       "\t& Int32 & SubStri…? & SubStri…? & SubStri…? & \\\\\n",
       "\t\\hline\n",
       "\t1 & 14979 & Wolfgang Dietrich & Capler von Oeden genannt Bautz & \\emph{missing} & $\\dots$ \\\\\n",
       "\t2 & 14998 & Georg Christoph & Aufsess & \\emph{missing} & $\\dots$ \\\\\n",
       "\t3 & 14999 & Georg Heinrich & Künssberg & \\emph{missing} & $\\dots$ \\\\\n",
       "\t4 & 15019 & Johann Veit & Würzburg & \\emph{missing} & $\\dots$ \\\\\n",
       "\t5 & 15063 & Jodokus Bernhard & Aufsess & \\emph{missing} & $\\dots$ \\\\\n",
       "\t6 & 15104 & Johann Gottfried & Gross von Trockau & \\emph{missing} & $\\dots$ \\\\\n",
       "\t7 & 15111 & Lothar Georg Joseph & Stadion & \\emph{missing} & $\\dots$ \\\\\n",
       "\t8 & 15228 & Johann Heidenreich & Voerden & \\emph{missing} & $\\dots$ \\\\\n",
       "\\end{tabular}\n"
      ],
      "text/plain": [
       "\u001b[1m8×5 DataFrame\u001b[0m\n",
       "\u001b[1m Row \u001b[0m│\u001b[1m ID_Domherr \u001b[0m\u001b[1m Vorname             \u001b[0m\u001b[1m Familienname                   \u001b[0m\u001b[1m Vornam\u001b[0m ⋯\n",
       "\u001b[1m     \u001b[0m│\u001b[90m Int32      \u001b[0m\u001b[90m SubStrin…?          \u001b[0m\u001b[90m SubStrin…?                     \u001b[0m\u001b[90m SubStr\u001b[0m ⋯\n",
       "─────┼──────────────────────────────────────────────────────────────────────────\n",
       "   1 │      14979  Wolfgang Dietrich    Capler von Oeden genannt Bautz \u001b[90m missin\u001b[0m ⋯\n",
       "   2 │      14998  Georg Christoph      Aufsess                        \u001b[90m missin\u001b[0m\n",
       "   3 │      14999  Georg Heinrich       Künssberg                      \u001b[90m missin\u001b[0m\n",
       "   4 │      15019  Johann Veit          Würzburg                       \u001b[90m missin\u001b[0m\n",
       "   5 │      15063  Jodokus Bernhard     Aufsess                        \u001b[90m missin\u001b[0m ⋯\n",
       "   6 │      15104  Johann Gottfried     Gross von Trockau              \u001b[90m missin\u001b[0m\n",
       "   7 │      15111  Lothar Georg Joseph  Stadion                        \u001b[90m missin\u001b[0m\n",
       "   8 │      15228  Johann Heidenreich   Voerden                        \u001b[90m missin\u001b[0m\n",
       "\u001b[36m                                                               2 columns omitted\u001b[0m"
      ]
     },
     "execution_count": 94,
     "metadata": {},
     "output_type": "execute_result"
    }
   ],
   "source": [
    "df_fnv[200:207, :]"
   ]
  },
  {
   "cell_type": "code",
   "execution_count": 152,
   "metadata": {},
   "outputs": [],
   "source": [
    "df_exp = Wds.expand_column(df_fnv, :Familienname_Variante, delim = \",\");"
   ]
  },
  {
   "cell_type": "code",
   "execution_count": 153,
   "metadata": {},
   "outputs": [
    {
     "data": {
      "text/plain": [
       "1328"
      ]
     },
     "execution_count": 153,
     "metadata": {},
     "output_type": "execute_result"
    }
   ],
   "source": [
    "size(df_exp, 1)"
   ]
  },
  {
   "cell_type": "code",
   "execution_count": 154,
   "metadata": {},
   "outputs": [
    {
     "data": {
      "text/html": [
       "<div class=\"data-frame\"><p>8 rows × 49 columns (omitted printing of 38 columns)</p><table class=\"data-frame\"><thead><tr><th></th><th>ID_Domherr</th><th>Eintrag_Quelle</th><th>Seite_Quelle</th><th>Quelle</th><th>Praefix</th><th>Vorname</th><th>Familienname</th><th>Sterbedatum</th><th>Geburtsdatum</th><th>Orden</th><th>URL_Wikipedia_alt</th></tr><tr><th></th><th title=\"Int64\">Int64</th><th title=\"Union{Missing, String}\">String?</th><th title=\"Union{Missing, String}\">String?</th><th title=\"Union{Missing, Int64}\">Int64?</th><th title=\"Union{Missing, String}\">String?</th><th title=\"Union{Missing, String}\">String?</th><th title=\"Union{Missing, String}\">String?</th><th title=\"Union{Missing, String}\">String?</th><th title=\"Union{Missing, String}\">String?</th><th title=\"Union{Missing, String}\">String?</th><th title=\"Union{Missing, String}\">String?</th></tr></thead><tbody><tr><th>1</th><td>13216</td><td><em>missing</em></td><td>421</td><td>24</td><td>von</td><td>Eberhard</td><td>Öttingen</td><td><em>missing</em></td><td><em>missing</em></td><td><em>missing</em></td><td><em>missing</em></td></tr><tr><th>2</th><td>13229</td><td><em>missing</em></td><td>337</td><td>24</td><td>von</td><td>Hermann</td><td>Bibra</td><td>1356?</td><td>um 1280</td><td><em>missing</em></td><td><em>missing</em></td></tr><tr><th>3</th><td>13252</td><td><em>missing</em></td><td>391</td><td>24</td><td>de</td><td>Raimund</td><td>Canilhac</td><td>1373</td><td><em>missing</em></td><td><em>missing</em></td><td><em>missing</em></td></tr><tr><th>4</th><td>13439</td><td><em>missing</em></td><td>353</td><td>24</td><td><em>missing</em></td><td>Ludwig</td><td>Eckbrecht von Dürkheim</td><td><em>missing</em></td><td><em>missing</em></td><td><em>missing</em></td><td><em>missing</em></td></tr><tr><th>5</th><td>13439</td><td><em>missing</em></td><td>353</td><td>24</td><td><em>missing</em></td><td>Ludwig</td><td>Eckbrecht von Dürkheim</td><td><em>missing</em></td><td><em>missing</em></td><td><em>missing</em></td><td><em>missing</em></td></tr><tr><th>6</th><td>13441</td><td><em>missing</em></td><td>343 f.</td><td>24</td><td>von</td><td>Bernhard</td><td>Breidenbach</td><td>1497</td><td>1440</td><td><em>missing</em></td><td><em>missing</em></td></tr><tr><th>7</th><td>13474</td><td><em>missing</em></td><td>679</td><td>27</td><td>von</td><td>Friedrich</td><td>Schwerin</td><td>1239</td><td><em>missing</em></td><td><em>missing</em></td><td>#https://de.wikipedia.org/wiki/Friedrich_I._von_Hagen#</td></tr><tr><th>8</th><td>13494</td><td><em>missing</em></td><td>680</td><td>27</td><td>von</td><td>Alexander Hermann</td><td>Merode</td><td><em>missing</em></td><td><em>missing</em></td><td><em>missing</em></td><td>#https://de.wikipedia.org/wiki/Alexander_Hermann_von_Merode_zu_Houffalize#</td></tr></tbody></table></div>"
      ],
      "text/latex": [
       "\\begin{tabular}{r|cccccccccccc}\n",
       "\t& ID\\_Domherr & Eintrag\\_Quelle & Seite\\_Quelle & Quelle & Praefix & Vorname & Familienname & Sterbedatum & Geburtsdatum & Orden & URL\\_Wikipedia\\_alt & \\\\\n",
       "\t\\hline\n",
       "\t& Int64 & String? & String? & Int64? & String? & String? & String? & String? & String? & String? & String? & \\\\\n",
       "\t\\hline\n",
       "\t1 & 13216 & \\emph{missing} & 421 & 24 & von & Eberhard & Öttingen & \\emph{missing} & \\emph{missing} & \\emph{missing} & \\emph{missing} & $\\dots$ \\\\\n",
       "\t2 & 13229 & \\emph{missing} & 337 & 24 & von & Hermann & Bibra & 1356? & um 1280 & \\emph{missing} & \\emph{missing} & $\\dots$ \\\\\n",
       "\t3 & 13252 & \\emph{missing} & 391 & 24 & de & Raimund & Canilhac & 1373 & \\emph{missing} & \\emph{missing} & \\emph{missing} & $\\dots$ \\\\\n",
       "\t4 & 13439 & \\emph{missing} & 353 & 24 & \\emph{missing} & Ludwig & Eckbrecht von Dürkheim & \\emph{missing} & \\emph{missing} & \\emph{missing} & \\emph{missing} & $\\dots$ \\\\\n",
       "\t5 & 13439 & \\emph{missing} & 353 & 24 & \\emph{missing} & Ludwig & Eckbrecht von Dürkheim & \\emph{missing} & \\emph{missing} & \\emph{missing} & \\emph{missing} & $\\dots$ \\\\\n",
       "\t6 & 13441 & \\emph{missing} & 343 f. & 24 & von & Bernhard & Breidenbach & 1497 & 1440 & \\emph{missing} & \\emph{missing} & $\\dots$ \\\\\n",
       "\t7 & 13474 & \\emph{missing} & 679 & 27 & von & Friedrich & Schwerin & 1239 & \\emph{missing} & \\emph{missing} & \\#https://de.wikipedia.org/wiki/Friedrich\\_I.\\_von\\_Hagen\\# & $\\dots$ \\\\\n",
       "\t8 & 13494 & \\emph{missing} & 680 & 27 & von & Alexander Hermann & Merode & \\emph{missing} & \\emph{missing} & \\emph{missing} & \\#https://de.wikipedia.org/wiki/Alexander\\_Hermann\\_von\\_Merode\\_zu\\_Houffalize\\# & $\\dots$ \\\\\n",
       "\\end{tabular}\n"
      ],
      "text/plain": [
       "\u001b[1m8×49 DataFrame\u001b[0m\n",
       "\u001b[1m Row \u001b[0m│\u001b[1m ID_Domherr \u001b[0m\u001b[1m Eintrag_Quelle \u001b[0m\u001b[1m Seite_Quelle \u001b[0m\u001b[1m Quelle \u001b[0m\u001b[1m Praefix \u001b[0m\u001b[1m Vorname           \u001b[0m\u001b[1m Familienname           \u001b[0m\u001b[1m Sterbedatum \u001b[0m\u001b[1m Geburtsdatum \u001b[0m\u001b[1m Orden   \u001b[0m\u001b[1m URL\u001b[0m ⋯\n",
       "\u001b[1m     \u001b[0m│\u001b[90m Int64      \u001b[0m\u001b[90m String?        \u001b[0m\u001b[90m String?      \u001b[0m\u001b[90m Int64? \u001b[0m\u001b[90m String? \u001b[0m\u001b[90m String?           \u001b[0m\u001b[90m String?                \u001b[0m\u001b[90m String?     \u001b[0m\u001b[90m String?      \u001b[0m\u001b[90m String? \u001b[0m\u001b[90m Str\u001b[0m ⋯\n",
       "─────┼────────────────────────────────────────────────────────────────────────────────────────────────────────────────────────────────────────────────\n",
       "   1 │      13216 \u001b[90m missing        \u001b[0m 421               24  von      Eberhard           Öttingen               \u001b[90m missing     \u001b[0m\u001b[90m missing      \u001b[0m\u001b[90m missing \u001b[0m\u001b[90m mis\u001b[0m ⋯\n",
       "   2 │      13229 \u001b[90m missing        \u001b[0m 337               24  von      Hermann            Bibra                   1356?        um 1280      \u001b[90m missing \u001b[0m\u001b[90m mis\u001b[0m\n",
       "   3 │      13252 \u001b[90m missing        \u001b[0m 391               24  de       Raimund            Canilhac                1373        \u001b[90m missing      \u001b[0m\u001b[90m missing \u001b[0m\u001b[90m mis\u001b[0m\n",
       "   4 │      13439 \u001b[90m missing        \u001b[0m 353               24 \u001b[90m missing \u001b[0m Ludwig             Eckbrecht von Dürkheim \u001b[90m missing     \u001b[0m\u001b[90m missing      \u001b[0m\u001b[90m missing \u001b[0m\u001b[90m mis\u001b[0m\n",
       "   5 │      13439 \u001b[90m missing        \u001b[0m 353               24 \u001b[90m missing \u001b[0m Ludwig             Eckbrecht von Dürkheim \u001b[90m missing     \u001b[0m\u001b[90m missing      \u001b[0m\u001b[90m missing \u001b[0m\u001b[90m mis\u001b[0m ⋯\n",
       "   6 │      13441 \u001b[90m missing        \u001b[0m 343 f.            24  von      Bernhard           Breidenbach             1497         1440         \u001b[90m missing \u001b[0m\u001b[90m mis\u001b[0m\n",
       "   7 │      13474 \u001b[90m missing        \u001b[0m 679               27  von      Friedrich          Schwerin                1239        \u001b[90m missing      \u001b[0m\u001b[90m missing \u001b[0m #ht\n",
       "   8 │      13494 \u001b[90m missing        \u001b[0m 680               27  von      Alexander Hermann  Merode                 \u001b[90m missing     \u001b[0m\u001b[90m missing      \u001b[0m\u001b[90m missing \u001b[0m #ht\n",
       "\u001b[36m                                                                                                                                    39 columns omitted\u001b[0m"
      ]
     },
     "execution_count": 154,
     "metadata": {},
     "output_type": "execute_result"
    }
   ],
   "source": [
    "df_exp[150:157, :]"
   ]
  },
  {
   "cell_type": "code",
   "execution_count": 155,
   "metadata": {},
   "outputs": [],
   "source": [
    "transform!(df_exp, :ID_Domherr => ByRow(string) => :id_in_source);"
   ]
  },
  {
   "cell_type": "code",
   "execution_count": 156,
   "metadata": {},
   "outputs": [],
   "source": [
    "df_ins = innerjoin(df_idx, df_exp, on = :id_in_source);"
   ]
  },
  {
   "cell_type": "code",
   "execution_count": 157,
   "metadata": {},
   "outputs": [
    {
     "data": {
      "text/plain": [
       "1328"
      ]
     },
     "execution_count": 157,
     "metadata": {},
     "output_type": "execute_result"
    }
   ],
   "source": [
    "size(df_ins, 1)"
   ]
  },
  {
   "cell_type": "markdown",
   "metadata": {},
   "source": [
    "Spalte `lang` hat den Default-Wert 'de'."
   ]
  },
  {
   "cell_type": "code",
   "execution_count": 158,
   "metadata": {},
   "outputs": [
    {
     "name": "stderr",
     "output_type": "stream",
     "text": [
      "┌ Info: Rows inserted: 1328\n",
      "└ @ WiagDataSetup C:\\Users\\georg\\Documents\\projekte\\WiagDataSetup.jl\\src\\WiagDataSetup.jl:1208\n"
     ]
    },
    {
     "data": {
      "text/plain": [
       "1328"
      ]
     },
     "execution_count": 158,
     "metadata": {},
     "output_type": "execute_result"
    }
   ],
   "source": [
    "table_name = \"familyname_variant\"\n",
    "Wds.filltable!(table_name, select(df_ins, :id => :person_id, :Familienname_Variante => :name))"
   ]
  },
  {
   "cell_type": "code",
   "execution_count": 159,
   "metadata": {},
   "outputs": [],
   "source": [
    "df_gnv = dropmissing(df_cn, :Vorname_Variante);"
   ]
  },
  {
   "cell_type": "code",
   "execution_count": 160,
   "metadata": {},
   "outputs": [
    {
     "data": {
      "text/plain": [
       "822"
      ]
     },
     "execution_count": 160,
     "metadata": {},
     "output_type": "execute_result"
    }
   ],
   "source": [
    "size(df_gnv, 1)"
   ]
  },
  {
   "cell_type": "code",
   "execution_count": 161,
   "metadata": {},
   "outputs": [
    {
     "data": {
      "text/html": [
       "<div class=\"data-frame\"><p>8 rows × 49 columns (omitted printing of 38 columns)</p><table class=\"data-frame\"><thead><tr><th></th><th>ID_Domherr</th><th>Eintrag_Quelle</th><th>Seite_Quelle</th><th>Quelle</th><th>Praefix</th><th>Vorname</th><th>Familienname</th><th>Sterbedatum</th><th>Geburtsdatum</th><th>Orden</th><th>URL_Wikipedia_alt</th></tr><tr><th></th><th title=\"Int64\">Int64</th><th title=\"Union{Missing, String}\">String?</th><th title=\"Union{Missing, String}\">String?</th><th title=\"Union{Missing, Int64}\">Int64?</th><th title=\"Union{Missing, String}\">String?</th><th title=\"Union{Missing, String}\">String?</th><th title=\"Union{Missing, String}\">String?</th><th title=\"Union{Missing, String}\">String?</th><th title=\"Union{Missing, String}\">String?</th><th title=\"Union{Missing, String}\">String?</th><th title=\"Union{Missing, String}\">String?</th></tr></thead><tbody><tr><th>1</th><td>16452</td><td><em>missing</em></td><td>130, 190</td><td>6</td><td>von</td><td>Johann Franz Jakob</td><td>Hoheneck</td><td>1758</td><td><em>missing</em></td><td><em>missing</em></td><td>https://de.wikipedia.org/wiki/Johann_Franz_Jakob_Anton_von_Hoheneck</td></tr><tr><th>2</th><td>16463</td><td><em>missing</em></td><td>130, 196</td><td>6</td><td>von</td><td>Lothar Gottfried Rudolf</td><td>Rosenbach</td><td>1733</td><td><em>missing</em></td><td><em>missing</em></td><td><em>missing</em></td></tr><tr><th>3</th><td>16497</td><td><em>missing</em></td><td>131, 185, 190, 197</td><td>6</td><td>von</td><td>Karl Friedrich Damian</td><td>Dalberg</td><td>1778</td><td><em>missing</em></td><td><em>missing</em></td><td><em>missing</em></td></tr><tr><th>4</th><td>16499</td><td><em>missing</em></td><td>131, 197</td><td>6</td><td>von</td><td>Johann Anton Philipp</td><td>Hatzfeld-Gleichen</td><td>1753</td><td><em>missing</em></td><td><em>missing</em></td><td><em>missing</em></td></tr><tr><th>5</th><td>16531</td><td><em>missing</em></td><td>131</td><td>6</td><td>von</td><td>Klemens August</td><td>Gymnich</td><td><em>missing</em></td><td><em>missing</em></td><td><em>missing</em></td><td><em>missing</em></td></tr><tr><th>6</th><td>16603</td><td><em>missing</em></td><td>142, 205</td><td>6</td><td>von</td><td>Jodokus Arnold</td><td>Cappel</td><td>1679</td><td><em>missing</em></td><td><em>missing</em></td><td><em>missing</em></td></tr><tr><th>7</th><td>16658</td><td><em>missing</em></td><td>206</td><td>6</td><td>von</td><td>Klemens August</td><td>Galen-Ermelinghof</td><td><em>missing</em></td><td><em>missing</em></td><td><em>missing</em></td><td><em>missing</em></td></tr><tr><th>8</th><td>16773</td><td><em>missing</em></td><td>137, 143, 154, 205</td><td>6</td><td>von</td><td>Klemens August</td><td>Korff-Tatenhausen</td><td>1787</td><td><em>missing</em></td><td><em>missing</em></td><td>#https://de.wikipedia.org/wiki/Clemens_August_von_Korff_gen._Schmising_zu_Tatenhausen#</td></tr></tbody></table></div>"
      ],
      "text/latex": [
       "\\begin{tabular}{r|cccccccccccc}\n",
       "\t& ID\\_Domherr & Eintrag\\_Quelle & Seite\\_Quelle & Quelle & Praefix & Vorname & Familienname & Sterbedatum & Geburtsdatum & Orden & URL\\_Wikipedia\\_alt & \\\\\n",
       "\t\\hline\n",
       "\t& Int64 & String? & String? & Int64? & String? & String? & String? & String? & String? & String? & String? & \\\\\n",
       "\t\\hline\n",
       "\t1 & 16452 & \\emph{missing} & 130, 190 & 6 & von & Johann Franz Jakob & Hoheneck & 1758 & \\emph{missing} & \\emph{missing} & https://de.wikipedia.org/wiki/Johann\\_Franz\\_Jakob\\_Anton\\_von\\_Hoheneck & $\\dots$ \\\\\n",
       "\t2 & 16463 & \\emph{missing} & 130, 196 & 6 & von & Lothar Gottfried Rudolf & Rosenbach & 1733 & \\emph{missing} & \\emph{missing} & \\emph{missing} & $\\dots$ \\\\\n",
       "\t3 & 16497 & \\emph{missing} & 131, 185, 190, 197 & 6 & von & Karl Friedrich Damian & Dalberg & 1778 & \\emph{missing} & \\emph{missing} & \\emph{missing} & $\\dots$ \\\\\n",
       "\t4 & 16499 & \\emph{missing} & 131, 197 & 6 & von & Johann Anton Philipp & Hatzfeld-Gleichen & 1753 & \\emph{missing} & \\emph{missing} & \\emph{missing} & $\\dots$ \\\\\n",
       "\t5 & 16531 & \\emph{missing} & 131 & 6 & von & Klemens August & Gymnich & \\emph{missing} & \\emph{missing} & \\emph{missing} & \\emph{missing} & $\\dots$ \\\\\n",
       "\t6 & 16603 & \\emph{missing} & 142, 205 & 6 & von & Jodokus Arnold & Cappel & 1679 & \\emph{missing} & \\emph{missing} & \\emph{missing} & $\\dots$ \\\\\n",
       "\t7 & 16658 & \\emph{missing} & 206 & 6 & von & Klemens August & Galen-Ermelinghof & \\emph{missing} & \\emph{missing} & \\emph{missing} & \\emph{missing} & $\\dots$ \\\\\n",
       "\t8 & 16773 & \\emph{missing} & 137, 143, 154, 205 & 6 & von & Klemens August & Korff-Tatenhausen & 1787 & \\emph{missing} & \\emph{missing} & \\#https://de.wikipedia.org/wiki/Clemens\\_August\\_von\\_Korff\\_gen.\\_Schmising\\_zu\\_Tatenhausen\\# & $\\dots$ \\\\\n",
       "\\end{tabular}\n"
      ],
      "text/plain": [
       "\u001b[1m8×49 DataFrame\u001b[0m\n",
       "\u001b[1m Row \u001b[0m│\u001b[1m ID_Domherr \u001b[0m\u001b[1m Eintrag_Quelle \u001b[0m\u001b[1m Seite_Quelle       \u001b[0m\u001b[1m Quelle \u001b[0m\u001b[1m Praefix \u001b[0m\u001b[1m Vorname                 \u001b[0m\u001b[1m Familienname      \u001b[0m\u001b[1m Sterbedatum \u001b[0m\u001b[1m Geburtsdatum \u001b[0m\u001b[1m Orden\u001b[0m ⋯\n",
       "\u001b[1m     \u001b[0m│\u001b[90m Int64      \u001b[0m\u001b[90m String?        \u001b[0m\u001b[90m String?            \u001b[0m\u001b[90m Int64? \u001b[0m\u001b[90m String? \u001b[0m\u001b[90m String?                 \u001b[0m\u001b[90m String?           \u001b[0m\u001b[90m String?     \u001b[0m\u001b[90m String?      \u001b[0m\u001b[90m Strin\u001b[0m ⋯\n",
       "─────┼────────────────────────────────────────────────────────────────────────────────────────────────────────────────────────────────────────────────\n",
       "   1 │      16452 \u001b[90m missing        \u001b[0m 130, 190                 6  von      Johann Franz Jakob       Hoheneck           1758        \u001b[90m missing      \u001b[0m\u001b[90m missi\u001b[0m ⋯\n",
       "   2 │      16463 \u001b[90m missing        \u001b[0m 130, 196                 6  von      Lothar Gottfried Rudolf  Rosenbach          1733        \u001b[90m missing      \u001b[0m\u001b[90m missi\u001b[0m\n",
       "   3 │      16497 \u001b[90m missing        \u001b[0m 131, 185, 190, 197       6  von      Karl Friedrich Damian    Dalberg            1778        \u001b[90m missing      \u001b[0m\u001b[90m missi\u001b[0m\n",
       "   4 │      16499 \u001b[90m missing        \u001b[0m 131, 197                 6  von      Johann Anton Philipp     Hatzfeld-Gleichen  1753        \u001b[90m missing      \u001b[0m\u001b[90m missi\u001b[0m\n",
       "   5 │      16531 \u001b[90m missing        \u001b[0m 131                      6  von      Klemens August           Gymnich           \u001b[90m missing     \u001b[0m\u001b[90m missing      \u001b[0m\u001b[90m missi\u001b[0m ⋯\n",
       "   6 │      16603 \u001b[90m missing        \u001b[0m 142, 205                 6  von      Jodokus Arnold           Cappel             1679        \u001b[90m missing      \u001b[0m\u001b[90m missi\u001b[0m\n",
       "   7 │      16658 \u001b[90m missing        \u001b[0m 206                      6  von      Klemens August           Galen-Ermelinghof \u001b[90m missing     \u001b[0m\u001b[90m missing      \u001b[0m\u001b[90m missi\u001b[0m\n",
       "   8 │      16773 \u001b[90m missing        \u001b[0m 137, 143, 154, 205       6  von      Klemens August           Korff-Tatenhausen  1787        \u001b[90m missing      \u001b[0m\u001b[90m missi\u001b[0m\n",
       "\u001b[36m                                                                                                                                    40 columns omitted\u001b[0m"
      ]
     },
     "execution_count": 161,
     "metadata": {},
     "output_type": "execute_result"
    }
   ],
   "source": [
    "df_gnv[200:207, :]"
   ]
  },
  {
   "cell_type": "code",
   "execution_count": 162,
   "metadata": {},
   "outputs": [],
   "source": [
    "df_exp = Wds.expand_column(df_gnv, :Vorname_Variante, delim = r\", *\");"
   ]
  },
  {
   "cell_type": "code",
   "execution_count": 163,
   "metadata": {},
   "outputs": [
    {
     "data": {
      "text/plain": [
       "962"
      ]
     },
     "execution_count": 163,
     "metadata": {},
     "output_type": "execute_result"
    }
   ],
   "source": [
    "size(df_exp, 1)"
   ]
  },
  {
   "cell_type": "code",
   "execution_count": 164,
   "metadata": {},
   "outputs": [
    {
     "data": {
      "text/html": [
       "<div class=\"data-frame\"><p>8 rows × 49 columns (omitted printing of 37 columns)</p><table class=\"data-frame\"><thead><tr><th></th><th>ID_Domherr</th><th>Eintrag_Quelle</th><th>Seite_Quelle</th><th>Quelle</th><th>Praefix</th><th>Vorname</th><th>Familienname</th><th>Sterbedatum</th><th>Geburtsdatum</th><th>Orden</th><th>URL_Wikipedia_alt</th><th>fertig</th></tr><tr><th></th><th title=\"Int64\">Int64</th><th title=\"Union{Missing, String}\">String?</th><th title=\"Union{Missing, String}\">String?</th><th title=\"Union{Missing, Int64}\">Int64?</th><th title=\"Union{Missing, String}\">String?</th><th title=\"Union{Missing, String}\">String?</th><th title=\"Union{Missing, String}\">String?</th><th title=\"Union{Missing, String}\">String?</th><th title=\"Union{Missing, String}\">String?</th><th title=\"Union{Missing, String}\">String?</th><th title=\"Union{Missing, String}\">String?</th><th title=\"Int64\">Int64</th></tr></thead><tbody><tr><th>1</th><td>13301</td><td><em>missing</em></td><td>347 f.</td><td>24</td><td>von</td><td>Kuno Herdan</td><td>Büches</td><td>1426</td><td><em>missing</em></td><td><em>missing</em></td><td><em>missing</em></td><td>1</td></tr><tr><th>2</th><td>13408</td><td><em>missing</em></td><td>375</td><td>24</td><td>von</td><td>Dietrich</td><td>Hagen</td><td>1438</td><td><em>missing</em></td><td><em>missing</em></td><td><em>missing</em></td><td>0</td></tr><tr><th>3</th><td>13449</td><td><em>missing</em></td><td>348</td><td>24</td><td>von</td><td>Kuno Herdan</td><td>Büches</td><td><em>missing</em></td><td><em>missing</em></td><td><em>missing</em></td><td><em>missing</em></td><td>1</td></tr><tr><th>4</th><td>13533</td><td><em>missing</em></td><td>680</td><td>27</td><td><em>missing</em></td><td>Halto</td><td><em>missing</em></td><td><em>missing</em></td><td><em>missing</em></td><td><em>missing</em></td><td><em>missing</em></td><td>1</td></tr><tr><th>5</th><td>13578</td><td><em>missing</em></td><td>680</td><td>27</td><td>Graf von</td><td>Reinhold</td><td>Dassel</td><td><em>missing</em></td><td><em>missing</em></td><td><em>missing</em></td><td><em>missing</em></td><td>1</td></tr><tr><th>6</th><td>13578</td><td><em>missing</em></td><td>680</td><td>27</td><td>Graf von</td><td>Reinhold</td><td>Dassel</td><td><em>missing</em></td><td><em>missing</em></td><td><em>missing</em></td><td><em>missing</em></td><td>1</td></tr><tr><th>7</th><td>13676</td><td><em>missing</em></td><td>51</td><td>29</td><td>(von)</td><td>Tilemann</td><td>Brandis</td><td>1524</td><td><em>missing</em></td><td><em>missing</em></td><td><em>missing</em></td><td>1</td></tr><tr><th>8</th><td>13694</td><td><em>missing</em></td><td>53</td><td>29</td><td>von der</td><td>Siegfried</td><td>Burg</td><td><em>missing</em></td><td><em>missing</em></td><td><em>missing</em></td><td><em>missing</em></td><td>1</td></tr></tbody></table></div>"
      ],
      "text/latex": [
       "\\begin{tabular}{r|ccccccccccccc}\n",
       "\t& ID\\_Domherr & Eintrag\\_Quelle & Seite\\_Quelle & Quelle & Praefix & Vorname & Familienname & Sterbedatum & Geburtsdatum & Orden & URL\\_Wikipedia\\_alt & fertig & \\\\\n",
       "\t\\hline\n",
       "\t& Int64 & String? & String? & Int64? & String? & String? & String? & String? & String? & String? & String? & Int64 & \\\\\n",
       "\t\\hline\n",
       "\t1 & 13301 & \\emph{missing} & 347 f. & 24 & von & Kuno Herdan & Büches & 1426 & \\emph{missing} & \\emph{missing} & \\emph{missing} & 1 & $\\dots$ \\\\\n",
       "\t2 & 13408 & \\emph{missing} & 375 & 24 & von & Dietrich & Hagen & 1438 & \\emph{missing} & \\emph{missing} & \\emph{missing} & 0 & $\\dots$ \\\\\n",
       "\t3 & 13449 & \\emph{missing} & 348 & 24 & von & Kuno Herdan & Büches & \\emph{missing} & \\emph{missing} & \\emph{missing} & \\emph{missing} & 1 & $\\dots$ \\\\\n",
       "\t4 & 13533 & \\emph{missing} & 680 & 27 & \\emph{missing} & Halto & \\emph{missing} & \\emph{missing} & \\emph{missing} & \\emph{missing} & \\emph{missing} & 1 & $\\dots$ \\\\\n",
       "\t5 & 13578 & \\emph{missing} & 680 & 27 & Graf von & Reinhold & Dassel & \\emph{missing} & \\emph{missing} & \\emph{missing} & \\emph{missing} & 1 & $\\dots$ \\\\\n",
       "\t6 & 13578 & \\emph{missing} & 680 & 27 & Graf von & Reinhold & Dassel & \\emph{missing} & \\emph{missing} & \\emph{missing} & \\emph{missing} & 1 & $\\dots$ \\\\\n",
       "\t7 & 13676 & \\emph{missing} & 51 & 29 & (von) & Tilemann & Brandis & 1524 & \\emph{missing} & \\emph{missing} & \\emph{missing} & 1 & $\\dots$ \\\\\n",
       "\t8 & 13694 & \\emph{missing} & 53 & 29 & von der & Siegfried & Burg & \\emph{missing} & \\emph{missing} & \\emph{missing} & \\emph{missing} & 1 & $\\dots$ \\\\\n",
       "\\end{tabular}\n"
      ],
      "text/plain": [
       "\u001b[1m8×49 DataFrame\u001b[0m\n",
       "\u001b[1m Row \u001b[0m│\u001b[1m ID_Domherr \u001b[0m\u001b[1m Eintrag_Quelle \u001b[0m\u001b[1m Seite_Quelle \u001b[0m\u001b[1m Quelle \u001b[0m\u001b[1m Praefix  \u001b[0m\u001b[1m Vorname     \u001b[0m\u001b[1m Familienname \u001b[0m\u001b[1m Sterbedatum \u001b[0m\u001b[1m Geburtsdatum \u001b[0m\u001b[1m Orden   \u001b[0m\u001b[1m URL_Wikipedia_alt \u001b[0m\u001b[1m\u001b[0m ⋯\n",
       "\u001b[1m     \u001b[0m│\u001b[90m Int64      \u001b[0m\u001b[90m String?        \u001b[0m\u001b[90m String?      \u001b[0m\u001b[90m Int64? \u001b[0m\u001b[90m String?  \u001b[0m\u001b[90m String?     \u001b[0m\u001b[90m String?      \u001b[0m\u001b[90m String?     \u001b[0m\u001b[90m String?      \u001b[0m\u001b[90m String? \u001b[0m\u001b[90m String?           \u001b[0m\u001b[90m\u001b[0m ⋯\n",
       "─────┼────────────────────────────────────────────────────────────────────────────────────────────────────────────────────────────────────────────────\n",
       "   1 │      13301 \u001b[90m missing        \u001b[0m 347 f.            24  von       Kuno Herdan  Büches        1426        \u001b[90m missing      \u001b[0m\u001b[90m missing \u001b[0m\u001b[90m missing           \u001b[0m ⋯\n",
       "   2 │      13408 \u001b[90m missing        \u001b[0m 375               24  von       Dietrich     Hagen         1438        \u001b[90m missing      \u001b[0m\u001b[90m missing \u001b[0m\u001b[90m missing           \u001b[0m\n",
       "   3 │      13449 \u001b[90m missing        \u001b[0m 348               24  von       Kuno Herdan  Büches       \u001b[90m missing     \u001b[0m\u001b[90m missing      \u001b[0m\u001b[90m missing \u001b[0m\u001b[90m missing           \u001b[0m\n",
       "   4 │      13533 \u001b[90m missing        \u001b[0m 680               27 \u001b[90m missing  \u001b[0m Halto       \u001b[90m missing      \u001b[0m\u001b[90m missing     \u001b[0m\u001b[90m missing      \u001b[0m\u001b[90m missing \u001b[0m\u001b[90m missing           \u001b[0m\n",
       "   5 │      13578 \u001b[90m missing        \u001b[0m 680               27  Graf von  Reinhold     Dassel       \u001b[90m missing     \u001b[0m\u001b[90m missing      \u001b[0m\u001b[90m missing \u001b[0m\u001b[90m missing           \u001b[0m ⋯\n",
       "   6 │      13578 \u001b[90m missing        \u001b[0m 680               27  Graf von  Reinhold     Dassel       \u001b[90m missing     \u001b[0m\u001b[90m missing      \u001b[0m\u001b[90m missing \u001b[0m\u001b[90m missing           \u001b[0m\n",
       "   7 │      13676 \u001b[90m missing        \u001b[0m 51                29  (von)     Tilemann     Brandis       1524        \u001b[90m missing      \u001b[0m\u001b[90m missing \u001b[0m\u001b[90m missing           \u001b[0m\n",
       "   8 │      13694 \u001b[90m missing        \u001b[0m 53                29  von der   Siegfried    Burg         \u001b[90m missing     \u001b[0m\u001b[90m missing      \u001b[0m\u001b[90m missing \u001b[0m\u001b[90m missing           \u001b[0m\n",
       "\u001b[36m                                                                                                                                    38 columns omitted\u001b[0m"
      ]
     },
     "execution_count": 164,
     "metadata": {},
     "output_type": "execute_result"
    }
   ],
   "source": [
    "df_exp[150:157, :]"
   ]
  },
  {
   "cell_type": "code",
   "execution_count": 165,
   "metadata": {},
   "outputs": [],
   "source": [
    "transform!(df_exp, :ID_Domherr => ByRow(string) => :id_in_source);"
   ]
  },
  {
   "cell_type": "code",
   "execution_count": 166,
   "metadata": {},
   "outputs": [],
   "source": [
    "df_ins = innerjoin(df_idx, df_exp, on = :id_in_source);"
   ]
  },
  {
   "cell_type": "code",
   "execution_count": 167,
   "metadata": {},
   "outputs": [
    {
     "data": {
      "text/plain": [
       "962"
      ]
     },
     "execution_count": 167,
     "metadata": {},
     "output_type": "execute_result"
    }
   ],
   "source": [
    "size(df_ins, 1)"
   ]
  },
  {
   "cell_type": "markdown",
   "metadata": {},
   "source": [
    "Spalte `lang` hat den Default-Wert 'de'."
   ]
  },
  {
   "cell_type": "code",
   "execution_count": 168,
   "metadata": {},
   "outputs": [
    {
     "name": "stderr",
     "output_type": "stream",
     "text": [
      "┌ Info: Rows inserted: 962\n",
      "└ @ WiagDataSetup C:\\Users\\georg\\Documents\\projekte\\WiagDataSetup.jl\\src\\WiagDataSetup.jl:1208\n"
     ]
    },
    {
     "data": {
      "text/plain": [
       "962"
      ]
     },
     "execution_count": 168,
     "metadata": {},
     "output_type": "execute_result"
    }
   ],
   "source": [
    "table_dst = \"givenname_variant\"\n",
    "Wds.filltable!(table_dst, select(df_ins, :id => :person_id, :Vorname_Variante => :name))"
   ]
  },
  {
   "cell_type": "markdown",
   "metadata": {},
   "source": [
    "### Suchvarianten eintragen (name_lookup)"
   ]
  },
  {
   "cell_type": "markdown",
   "metadata": {},
   "source": [
    "Test"
   ]
  },
  {
   "cell_type": "code",
   "execution_count": 88,
   "metadata": {
    "scrolled": true
   },
   "outputs": [
    {
     "data": {
      "text/plain": [
       "6-element Vector{Vector{Union{Missing, String}}}:\n",
       " [\"Klaus Walter\", \"von der\", \"Vogelweide\", \"Klaus Walter Vogelweide\", \"Klaus Walter von der Vogelweide\"]\n",
       " [\"Klaus\", \"von der\", \"Vogelweide\", \"Klaus Vogelweide\", \"Klaus von der Vogelweide\"]\n",
       " [\"Klaus Walter\", \"von der\", \"Vollmer\", \"Klaus Walter Vollmer\", \"Klaus Walter von der Vollmer\"]\n",
       " [\"Klaus\", \"von der\", \"Vollmer\", \"Klaus Vollmer\", \"Klaus von der Vollmer\"]\n",
       " [\"Klaus Walter\", \"von der\", \"Liber\", \"Klaus Walter Liber\", \"Klaus Walter von der Liber\"]\n",
       " [\"Klaus\", \"von der\", \"Liber\", \"Klaus Liber\", \"Klaus von der Liber\"]"
      ]
     },
     "execution_count": 88,
     "metadata": {},
     "output_type": "execute_result"
    }
   ],
   "source": [
    "Wds.makevariantsgn(\"Klaus Walter\", \"von der\", \"Vogelweide\", \"Vollmer, Liber\")"
   ]
  },
  {
   "cell_type": "code",
   "execution_count": 29,
   "metadata": {},
   "outputs": [
    {
     "data": {
      "text/html": [
       "<div class=\"data-frame\"><p>7 rows × 6 columns</p><table class=\"data-frame\"><thead><tr><th></th><th>id</th><th>givenname</th><th>prefix_name</th><th>familyname</th><th>givenname_variant</th><th>familyname_variant</th></tr><tr><th></th><th title=\"Int64\">Int64</th><th title=\"String\">String</th><th title=\"Union{Missing, String}\">String?</th><th title=\"Union{Missing, String}\">String?</th><th title=\"Union{Missing, String}\">String?</th><th title=\"Union{Missing, String}\">String?</th></tr></thead><tbody><tr><th>1</th><td>1077</td><td>Dietricus</td><td><em>missing</em></td><td><em>missing</em></td><td><em>missing</em></td><td><em>missing</em></td></tr><tr><th>2</th><td>31</td><td>Albert</td><td>von</td><td>Häusler</td><td><em>missing</em></td><td>Hauser, Schad</td></tr><tr><th>3</th><td>32</td><td>Hans Otto</td><td>zu</td><td>Oberhof</td><td>Johann Otto</td><td><em>missing</em></td></tr><tr><th>4</th><td>33</td><td>Wilhelm</td><td>von</td><td>Berg</td><td>Guido, Guillaume</td><td>Berge</td></tr><tr><th>5</th><td>34</td><td>Kurt Georg</td><td><em>missing</em></td><td><em>missing</em></td><td>Konrad</td><td><em>missing</em></td></tr><tr><th>6</th><td>35</td><td>Otto</td><td>auf der</td><td>Scholle</td><td><em>missing</em></td><td><em>missing</em></td></tr><tr><th>7</th><td>36</td><td>Otto</td><td><em>missing</em></td><td>Weiß</td><td>Odilon</td><td>Blanc</td></tr></tbody></table></div>"
      ],
      "text/latex": [
       "\\begin{tabular}{r|cccccc}\n",
       "\t& id & givenname & prefix\\_name & familyname & givenname\\_variant & familyname\\_variant\\\\\n",
       "\t\\hline\n",
       "\t& Int64 & String & String? & String? & String? & String?\\\\\n",
       "\t\\hline\n",
       "\t1 & 1077 & Dietricus & \\emph{missing} & \\emph{missing} & \\emph{missing} & \\emph{missing} \\\\\n",
       "\t2 & 31 & Albert & von & Häusler & \\emph{missing} & Hauser, Schad \\\\\n",
       "\t3 & 32 & Hans Otto & zu & Oberhof & Johann Otto & \\emph{missing} \\\\\n",
       "\t4 & 33 & Wilhelm & von & Berg & Guido, Guillaume & Berge \\\\\n",
       "\t5 & 34 & Kurt Georg & \\emph{missing} & \\emph{missing} & Konrad & \\emph{missing} \\\\\n",
       "\t6 & 35 & Otto & auf der & Scholle & \\emph{missing} & \\emph{missing} \\\\\n",
       "\t7 & 36 & Otto & \\emph{missing} & Weiß & Odilon & Blanc \\\\\n",
       "\\end{tabular}\n"
      ],
      "text/plain": [
       "\u001b[1m7×6 DataFrame\u001b[0m\n",
       "\u001b[1m Row \u001b[0m│\u001b[1m id    \u001b[0m\u001b[1m givenname  \u001b[0m\u001b[1m prefix_name \u001b[0m\u001b[1m familyname \u001b[0m\u001b[1m givenname_variant \u001b[0m\u001b[1m familyna\u001b[0m ⋯\n",
       "\u001b[1m     \u001b[0m│\u001b[90m Int64 \u001b[0m\u001b[90m String     \u001b[0m\u001b[90m String?     \u001b[0m\u001b[90m String?    \u001b[0m\u001b[90m String?           \u001b[0m\u001b[90m String? \u001b[0m ⋯\n",
       "─────┼──────────────────────────────────────────────────────────────────────────\n",
       "   1 │  1077  Dietricus  \u001b[90m missing     \u001b[0m\u001b[90m missing    \u001b[0m\u001b[90m missing           \u001b[0m\u001b[90m missing \u001b[0m ⋯\n",
       "   2 │    31  Albert      von          Häusler    \u001b[90m missing           \u001b[0m Hauser,\n",
       "   3 │    32  Hans Otto   zu           Oberhof     Johann Otto       \u001b[90m missing\u001b[0m\n",
       "   4 │    33  Wilhelm     von          Berg        Guido, Guillaume   Berge\n",
       "   5 │    34  Kurt Georg \u001b[90m missing     \u001b[0m\u001b[90m missing    \u001b[0m Konrad            \u001b[90m missing \u001b[0m ⋯\n",
       "   6 │    35  Otto        auf der      Scholle    \u001b[90m missing           \u001b[0m\u001b[90m missing\u001b[0m\n",
       "   7 │    36  Otto       \u001b[90m missing     \u001b[0m Weiß        Odilon             Blanc\n",
       "\u001b[36m                                                                1 column omitted\u001b[0m"
      ]
     },
     "execution_count": 29,
     "metadata": {},
     "output_type": "execute_result"
    }
   ],
   "source": [
    "df_src = DataFrame(\n",
    "    id = [1077, 31, 32, 33, 34, 35, 36],\n",
    "    givenname = [\"Dietricus\", \"Albert\", \"Hans Otto\", \"Wilhelm\", \"Kurt Georg\", \"Otto\", \"Otto\"],\n",
    "    prefix_name = [missing, \"von\", \"zu\", \"von\", missing, \"auf der\", missing],\n",
    "    familyname = [missing, \"Häusler\", \"Oberhof\", \"Berg\", missing, \"Scholle\", \"Weiß\"],\n",
    "    givenname_variant = [missing, missing, \"Johann Otto\", \"Guido, Guillaume\", \"Konrad\", missing, \"Odilon\"],\n",
    "    familyname_variant = [missing, \"Hauser, Schad\", missing, \"Berge\", missing, missing, \"Blanc\"]\n",
    "    )"
   ]
  },
  {
   "cell_type": "code",
   "execution_count": 30,
   "metadata": {
    "scrolled": true
   },
   "outputs": [
    {
     "data": {
      "text/html": [
       "<div class=\"data-frame\"><p>22 rows × 3 columns</p><table class=\"data-frame\"><thead><tr><th></th><th>person_id</th><th>gn_fn</th><th>gn_prefix_fn</th></tr><tr><th></th><th title=\"Int64\">Int64</th><th title=\"Union{Missing, String}\">String?</th><th title=\"Union{Missing, String}\">String?</th></tr></thead><tbody><tr><th>1</th><td>1077</td><td>Dietricus</td><td><em>missing</em></td></tr><tr><th>2</th><td>31</td><td>Albert Häusler</td><td>Albert von Häusler</td></tr><tr><th>3</th><td>31</td><td>Albert Hauser</td><td>Albert von Hauser</td></tr><tr><th>4</th><td>31</td><td>Albert Schad</td><td>Albert von Schad</td></tr><tr><th>5</th><td>32</td><td>Hans Otto Oberhof</td><td>Hans Otto zu Oberhof</td></tr><tr><th>6</th><td>32</td><td>Hans Oberhof</td><td>Hans zu Oberhof</td></tr><tr><th>7</th><td>32</td><td>Johann Otto Oberhof</td><td>Johann Otto zu Oberhof</td></tr><tr><th>8</th><td>32</td><td>Johann Oberhof</td><td>Johann zu Oberhof</td></tr><tr><th>9</th><td>33</td><td>Wilhelm Berg</td><td>Wilhelm von Berg</td></tr><tr><th>10</th><td>33</td><td>Wilhelm Berge</td><td>Wilhelm von Berge</td></tr><tr><th>11</th><td>33</td><td>Guido Berg</td><td>Guido von Berg</td></tr><tr><th>12</th><td>33</td><td>Guido Berge</td><td>Guido von Berge</td></tr><tr><th>13</th><td>33</td><td>Guillaume Berg</td><td>Guillaume von Berg</td></tr><tr><th>14</th><td>33</td><td>Guillaume Berge</td><td>Guillaume von Berge</td></tr><tr><th>15</th><td>34</td><td>Kurt Georg</td><td><em>missing</em></td></tr><tr><th>16</th><td>34</td><td>Kurt</td><td><em>missing</em></td></tr><tr><th>17</th><td>34</td><td>Konrad</td><td><em>missing</em></td></tr><tr><th>18</th><td>35</td><td>Otto Scholle</td><td>Otto auf der Scholle</td></tr><tr><th>19</th><td>36</td><td>Otto Weiß</td><td><em>missing</em></td></tr><tr><th>20</th><td>36</td><td>Otto Blanc</td><td><em>missing</em></td></tr><tr><th>21</th><td>36</td><td>Odilon Weiß</td><td><em>missing</em></td></tr><tr><th>22</th><td>36</td><td>Odilon Blanc</td><td><em>missing</em></td></tr></tbody></table></div>"
      ],
      "text/latex": [
       "\\begin{tabular}{r|ccc}\n",
       "\t& person\\_id & gn\\_fn & gn\\_prefix\\_fn\\\\\n",
       "\t\\hline\n",
       "\t& Int64 & String? & String?\\\\\n",
       "\t\\hline\n",
       "\t1 & 1077 & Dietricus & \\emph{missing} \\\\\n",
       "\t2 & 31 & Albert Häusler & Albert von Häusler \\\\\n",
       "\t3 & 31 & Albert Hauser & Albert von Hauser \\\\\n",
       "\t4 & 31 & Albert Schad & Albert von Schad \\\\\n",
       "\t5 & 32 & Hans Otto Oberhof & Hans Otto zu Oberhof \\\\\n",
       "\t6 & 32 & Hans Oberhof & Hans zu Oberhof \\\\\n",
       "\t7 & 32 & Johann Otto Oberhof & Johann Otto zu Oberhof \\\\\n",
       "\t8 & 32 & Johann Oberhof & Johann zu Oberhof \\\\\n",
       "\t9 & 33 & Wilhelm Berg & Wilhelm von Berg \\\\\n",
       "\t10 & 33 & Wilhelm Berge & Wilhelm von Berge \\\\\n",
       "\t11 & 33 & Guido Berg & Guido von Berg \\\\\n",
       "\t12 & 33 & Guido Berge & Guido von Berge \\\\\n",
       "\t13 & 33 & Guillaume Berg & Guillaume von Berg \\\\\n",
       "\t14 & 33 & Guillaume Berge & Guillaume von Berge \\\\\n",
       "\t15 & 34 & Kurt Georg & \\emph{missing} \\\\\n",
       "\t16 & 34 & Kurt & \\emph{missing} \\\\\n",
       "\t17 & 34 & Konrad & \\emph{missing} \\\\\n",
       "\t18 & 35 & Otto Scholle & Otto auf der Scholle \\\\\n",
       "\t19 & 36 & Otto Weiß & \\emph{missing} \\\\\n",
       "\t20 & 36 & Otto Blanc & \\emph{missing} \\\\\n",
       "\t21 & 36 & Odilon Weiß & \\emph{missing} \\\\\n",
       "\t22 & 36 & Odilon Blanc & \\emph{missing} \\\\\n",
       "\\end{tabular}\n"
      ],
      "text/plain": [
       "\u001b[1m22×3 DataFrame\u001b[0m\n",
       "\u001b[1m Row \u001b[0m│\u001b[1m person_id \u001b[0m\u001b[1m gn_fn               \u001b[0m\u001b[1m gn_prefix_fn           \u001b[0m\n",
       "\u001b[1m     \u001b[0m│\u001b[90m Int64     \u001b[0m\u001b[90m String?             \u001b[0m\u001b[90m String?                \u001b[0m\n",
       "─────┼────────────────────────────────────────────────────────\n",
       "   1 │      1077  Dietricus           \u001b[90m missing                \u001b[0m\n",
       "   2 │        31  Albert Häusler       Albert von Häusler\n",
       "   3 │        31  Albert Hauser        Albert von Hauser\n",
       "   4 │        31  Albert Schad         Albert von Schad\n",
       "   5 │        32  Hans Otto Oberhof    Hans Otto zu Oberhof\n",
       "   6 │        32  Hans Oberhof         Hans zu Oberhof\n",
       "   7 │        32  Johann Otto Oberhof  Johann Otto zu Oberhof\n",
       "   8 │        32  Johann Oberhof       Johann zu Oberhof\n",
       "   9 │        33  Wilhelm Berg         Wilhelm von Berg\n",
       "  10 │        33  Wilhelm Berge        Wilhelm von Berge\n",
       "  11 │        33  Guido Berg           Guido von Berg\n",
       "  12 │        33  Guido Berge          Guido von Berge\n",
       "  13 │        33  Guillaume Berg       Guillaume von Berg\n",
       "  14 │        33  Guillaume Berge      Guillaume von Berge\n",
       "  15 │        34  Kurt Georg          \u001b[90m missing                \u001b[0m\n",
       "  16 │        34  Kurt                \u001b[90m missing                \u001b[0m\n",
       "  17 │        34  Konrad              \u001b[90m missing                \u001b[0m\n",
       "  18 │        35  Otto Scholle         Otto auf der Scholle\n",
       "  19 │        36  Otto Weiß           \u001b[90m missing                \u001b[0m\n",
       "  20 │        36  Otto Blanc          \u001b[90m missing                \u001b[0m\n",
       "  21 │        36  Odilon Weiß         \u001b[90m missing                \u001b[0m\n",
       "  22 │        36  Odilon Blanc        \u001b[90m missing                \u001b[0m"
      ]
     },
     "execution_count": 30,
     "metadata": {},
     "output_type": "execute_result"
    }
   ],
   "source": [
    "df_nl = Wds.create_name_lookup(df_src) # schaut gut aus"
   ]
  },
  {
   "cell_type": "markdown",
   "metadata": {},
   "source": [
    "ID auslesen"
   ]
  },
  {
   "cell_type": "code",
   "execution_count": 169,
   "metadata": {},
   "outputs": [],
   "source": [
    "table_name = \"item\"\n",
    "sql = \"SELECT id, id_in_source FROM $(table_name) where item_type_id = ($item_type_id)\"\n",
    "df_idx = Wds.sql_df(sql);"
   ]
  },
  {
   "cell_type": "code",
   "execution_count": 180,
   "metadata": {},
   "outputs": [],
   "source": [
    "path = \"C:\\\\Users\\\\georg\\\\Documents\\\\projekte-doc\\\\WIAGweb\\\\data\\\\tbl_domherren.csv\"\n",
    "df_src = CSV.read(path, DataFrame);"
   ]
  },
  {
   "cell_type": "code",
   "execution_count": 179,
   "metadata": {},
   "outputs": [
    {
     "data": {
      "text/plain": [
       "6-element Vector{Pair{Symbol, Symbol}}:\n",
       "            :ID_Domherr => :ID_Domherr\n",
       "               :Vorname => :givenname\n",
       "               :Praefix => :prefix_name\n",
       "          :Familienname => :familyname\n",
       "      :Vorname_Variante => :givenname_variant\n",
       " :Familienname_Variante => :familyname_variant"
      ]
     },
     "execution_count": 179,
     "metadata": {},
     "output_type": "execute_result"
    }
   ],
   "source": [
    "columns = [\n",
    "    :ID_Domherr => :ID_Domherr,\n",
    "    :Vorname => :givenname,\n",
    "    :Praefix => :prefix_name,\n",
    "    :Familienname => :familyname,\n",
    "    :Vorname_Variante => :givenname_variant,\n",
    "    :Familienname_Variante => :familyname_variant\n",
    "]"
   ]
  },
  {
   "cell_type": "code",
   "execution_count": 181,
   "metadata": {},
   "outputs": [],
   "source": [
    "select!(df_src, columns);"
   ]
  },
  {
   "cell_type": "code",
   "execution_count": null,
   "metadata": {},
   "outputs": [],
   "source": [
    "Alternativ: Daten aus der Datenbank auslesen, wenn sie sich von Access aus dahin exportieren lassen."
   ]
  },
  {
   "cell_type": "code",
   "execution_count": 170,
   "metadata": {},
   "outputs": [
    {
     "ename": "LoadError",
     "evalue": "(1146): Table 'domherr.tbl_domherren' doesn't exist",
     "output_type": "error",
     "traceback": [
      "(1146): Table 'domherr.tbl_domherren' doesn't exist",
      "",
      "Stacktrace:",
      " [1] query",
      "   @ C:\\Users\\georg\\.julia\\packages\\MySQL\\EgAUf\\src\\api\\capi.jl:4 [inlined]",
      " [2] execute(conn::MySQL.Connection, sql::String, params::Tuple{}; mysql_store_result::Bool, mysql_date_and_time::Bool)",
      "   @ MySQL C:\\Users\\georg\\.julia\\packages\\MySQL\\EgAUf\\src\\execute.jl:158",
      " [3] execute (repeats 2 times)",
      "   @ C:\\Users\\georg\\.julia\\packages\\MySQL\\EgAUf\\src\\execute.jl:155 [inlined]",
      " [4] sql_df(sql::String)",
      "   @ WiagDataSetup C:\\Users\\georg\\Documents\\projekte\\WiagDataSetup.jl\\src\\WiagDataSetup.jl:38",
      " [5] top-level scope",
      "   @ In[170]:9",
      " [6] eval",
      "   @ .\\boot.jl:373 [inlined]",
      " [7] include_string(mapexpr::typeof(REPL.softscope), mod::Module, code::String, filename::String)",
      "   @ Base .\\loading.jl:1196"
     ]
    }
   ],
   "source": [
    "table_src = \"domherr.tbl_domherren\"\n",
    "sql = \"SELECT ID_Domherr, \" *\n",
    "\"Vorname AS givenname, \" *\n",
    "\"Praefix AS prefix_name, \" *\n",
    "\"Familienname AS familyname,\" * \n",
    "\"Vorname_Variante AS givenname_variant, \" * \n",
    "\"Familienname_Variante AS familyname_variant \" *\n",
    "\"FROM $(table_src)\"\n",
    "df_src = Wds.sql_df(sql);"
   ]
  },
  {
   "cell_type": "code",
   "execution_count": 182,
   "metadata": {},
   "outputs": [],
   "source": [
    "Wds.clean_up!(df_src)"
   ]
  },
  {
   "cell_type": "code",
   "execution_count": 183,
   "metadata": {},
   "outputs": [
    {
     "data": {
      "text/plain": [
       "one_not_missing (generic function with 1 method)"
      ]
     },
     "execution_count": 183,
     "metadata": {},
     "output_type": "execute_result"
    }
   ],
   "source": [
    "one_not_missing(x, y) = !(ismissing(x) && ismissing(y))"
   ]
  },
  {
   "cell_type": "code",
   "execution_count": 184,
   "metadata": {},
   "outputs": [],
   "source": [
    "filter!([:givenname, :familyname] => one_not_missing, df_src);"
   ]
  },
  {
   "cell_type": "code",
   "execution_count": 185,
   "metadata": {},
   "outputs": [],
   "source": [
    "transform!(df_src, :ID_Domherr => ByRow(string) => :id_in_source);"
   ]
  },
  {
   "cell_type": "code",
   "execution_count": 186,
   "metadata": {},
   "outputs": [
    {
     "data": {
      "text/plain": [
       "(22729, 7)"
      ]
     },
     "execution_count": 186,
     "metadata": {},
     "output_type": "execute_result"
    }
   ],
   "source": [
    "size(df_src)"
   ]
  },
  {
   "cell_type": "code",
   "execution_count": 187,
   "metadata": {},
   "outputs": [
    {
     "data": {
      "text/plain": [
       "7-element Vector{String}:\n",
       " \"ID_Domherr\"\n",
       " \"givenname\"\n",
       " \"prefix_name\"\n",
       " \"familyname\"\n",
       " \"givenname_variant\"\n",
       " \"familyname_variant\"\n",
       " \"id_in_source\""
      ]
     },
     "execution_count": 187,
     "metadata": {},
     "output_type": "execute_result"
    }
   ],
   "source": [
    "names(df_src)"
   ]
  },
  {
   "cell_type": "code",
   "execution_count": 126,
   "metadata": {},
   "outputs": [
    {
     "data": {
      "text/html": [
       "<div class=\"data-frame\"><p>8 rows × 2 columns</p><table class=\"data-frame\"><thead><tr><th></th><th>id</th><th>id_in_source</th></tr><tr><th></th><th title=\"Int32\">Int32</th><th title=\"Union{Missing, String}\">String?</th></tr></thead><tbody><tr><th>1</th><td>51833</td><td>10918</td></tr><tr><th>2</th><td>51834</td><td>10917</td></tr><tr><th>3</th><td>51835</td><td>10916</td></tr><tr><th>4</th><td>51836</td><td>10915</td></tr><tr><th>5</th><td>51837</td><td>10914</td></tr><tr><th>6</th><td>51838</td><td>10913</td></tr><tr><th>7</th><td>51839</td><td>10912</td></tr><tr><th>8</th><td>51840</td><td>10911</td></tr></tbody></table></div>"
      ],
      "text/latex": [
       "\\begin{tabular}{r|cc}\n",
       "\t& id & id\\_in\\_source\\\\\n",
       "\t\\hline\n",
       "\t& Int32 & String?\\\\\n",
       "\t\\hline\n",
       "\t1 & 51833 & 10918 \\\\\n",
       "\t2 & 51834 & 10917 \\\\\n",
       "\t3 & 51835 & 10916 \\\\\n",
       "\t4 & 51836 & 10915 \\\\\n",
       "\t5 & 51837 & 10914 \\\\\n",
       "\t6 & 51838 & 10913 \\\\\n",
       "\t7 & 51839 & 10912 \\\\\n",
       "\t8 & 51840 & 10911 \\\\\n",
       "\\end{tabular}\n"
      ],
      "text/plain": [
       "\u001b[1m8×2 DataFrame\u001b[0m\n",
       "\u001b[1m Row \u001b[0m│\u001b[1m id    \u001b[0m\u001b[1m id_in_source \u001b[0m\n",
       "\u001b[1m     \u001b[0m│\u001b[90m Int32 \u001b[0m\u001b[90m String?      \u001b[0m\n",
       "─────┼─────────────────────\n",
       "   1 │ 51833  10918\n",
       "   2 │ 51834  10917\n",
       "   3 │ 51835  10916\n",
       "   4 │ 51836  10915\n",
       "   5 │ 51837  10914\n",
       "   6 │ 51838  10913\n",
       "   7 │ 51839  10912\n",
       "   8 │ 51840  10911"
      ]
     },
     "execution_count": 126,
     "metadata": {},
     "output_type": "execute_result"
    }
   ],
   "source": [
    "df_idx[100:107, :]"
   ]
  },
  {
   "cell_type": "code",
   "execution_count": 188,
   "metadata": {},
   "outputs": [],
   "source": [
    "df_nl_in = innerjoin(df_idx, df_src, on = :id_in_source);"
   ]
  },
  {
   "cell_type": "code",
   "execution_count": 189,
   "metadata": {},
   "outputs": [
    {
     "data": {
      "text/plain": [
       "(22729, 8)"
      ]
     },
     "execution_count": 189,
     "metadata": {},
     "output_type": "execute_result"
    }
   ],
   "source": [
    "size(df_nl_in)"
   ]
  },
  {
   "cell_type": "code",
   "execution_count": 190,
   "metadata": {},
   "outputs": [],
   "source": [
    "df_nl = Wds.create_name_lookup(df_nl_in);"
   ]
  },
  {
   "cell_type": "code",
   "execution_count": 191,
   "metadata": {},
   "outputs": [
    {
     "data": {
      "text/plain": [
       "(32450, 3)"
      ]
     },
     "execution_count": 191,
     "metadata": {},
     "output_type": "execute_result"
    }
   ],
   "source": [
    "size(df_nl)"
   ]
  },
  {
   "cell_type": "code",
   "execution_count": 192,
   "metadata": {},
   "outputs": [],
   "source": [
    "df_nl_empty = filter(:gn_fn => ismissing, df_nl);"
   ]
  },
  {
   "cell_type": "code",
   "execution_count": 193,
   "metadata": {},
   "outputs": [
    {
     "data": {
      "text/plain": [
       "(0, 3)"
      ]
     },
     "execution_count": 193,
     "metadata": {},
     "output_type": "execute_result"
    }
   ],
   "source": [
    "size(df_nl_empty)"
   ]
  },
  {
   "cell_type": "code",
   "execution_count": 154,
   "metadata": {},
   "outputs": [
    {
     "data": {
      "text/html": [
       "<div class=\"data-frame\"><p>13 rows × 3 columns</p><table class=\"data-frame\"><thead><tr><th></th><th>person_id</th><th>gn_fn</th><th>gn_prefix_fn</th></tr><tr><th></th><th title=\"Int64\">Int64</th><th title=\"Union{Missing, String}\">String?</th><th title=\"Union{Missing, String}\">String?</th></tr></thead><tbody><tr><th>1</th><td>52835</td><td>Hermann Auwach</td><td>Hermann von Auwach</td></tr><tr><th>2</th><td>52836</td><td>Johann Heinrich Gysenberg</td><td>Johann Heinrich von Gysenberg</td></tr><tr><th>3</th><td>52836</td><td>Johann Gysenberg</td><td>Johann von Gysenberg</td></tr><tr><th>4</th><td>52837</td><td>Heinrich Hartard Rollingen</td><td>Heinrich Hartard von Rollingen</td></tr><tr><th>5</th><td>52837</td><td>Heinrich Rollingen</td><td>Heinrich von Rollingen</td></tr><tr><th>6</th><td>52838</td><td>Ignaz Wolfgang Metternich</td><td>Ignaz Wolfgang von Metternich</td></tr><tr><th>7</th><td>52838</td><td>Ignaz Metternich</td><td>Ignaz von Metternich</td></tr><tr><th>8</th><td>52839</td><td>Johann Hugo Orsbeck</td><td>Johann Hugo von Orsbeck</td></tr><tr><th>9</th><td>52839</td><td>Johann Orsbeck</td><td>Johann von Orsbeck</td></tr><tr><th>10</th><td>52840</td><td>Gerhard Lothar Büren</td><td>Gerhard Lothar von Büren</td></tr><tr><th>11</th><td>52840</td><td>Gerhard Büren</td><td>Gerhard von Büren</td></tr><tr><th>12</th><td>52841</td><td>Wilderich Walderdorff</td><td>Wilderich von Walderdorff</td></tr><tr><th>13</th><td>52842</td><td>Erasmus Horst</td><td>Erasmus von Horst</td></tr></tbody></table></div>"
      ],
      "text/latex": [
       "\\begin{tabular}{r|ccc}\n",
       "\t& person\\_id & gn\\_fn & gn\\_prefix\\_fn\\\\\n",
       "\t\\hline\n",
       "\t& Int64 & String? & String?\\\\\n",
       "\t\\hline\n",
       "\t1 & 52835 & Hermann Auwach & Hermann von Auwach \\\\\n",
       "\t2 & 52836 & Johann Heinrich Gysenberg & Johann Heinrich von Gysenberg \\\\\n",
       "\t3 & 52836 & Johann Gysenberg & Johann von Gysenberg \\\\\n",
       "\t4 & 52837 & Heinrich Hartard Rollingen & Heinrich Hartard von Rollingen \\\\\n",
       "\t5 & 52837 & Heinrich Rollingen & Heinrich von Rollingen \\\\\n",
       "\t6 & 52838 & Ignaz Wolfgang Metternich & Ignaz Wolfgang von Metternich \\\\\n",
       "\t7 & 52838 & Ignaz Metternich & Ignaz von Metternich \\\\\n",
       "\t8 & 52839 & Johann Hugo Orsbeck & Johann Hugo von Orsbeck \\\\\n",
       "\t9 & 52839 & Johann Orsbeck & Johann von Orsbeck \\\\\n",
       "\t10 & 52840 & Gerhard Lothar Büren & Gerhard Lothar von Büren \\\\\n",
       "\t11 & 52840 & Gerhard Büren & Gerhard von Büren \\\\\n",
       "\t12 & 52841 & Wilderich Walderdorff & Wilderich von Walderdorff \\\\\n",
       "\t13 & 52842 & Erasmus Horst & Erasmus von Horst \\\\\n",
       "\\end{tabular}\n"
      ],
      "text/plain": [
       "\u001b[1m13×3 DataFrame\u001b[0m\n",
       "\u001b[1m Row \u001b[0m│\u001b[1m person_id \u001b[0m\u001b[1m gn_fn                      \u001b[0m\u001b[1m gn_prefix_fn                   \u001b[0m\n",
       "\u001b[1m     \u001b[0m│\u001b[90m Int64     \u001b[0m\u001b[90m String?                    \u001b[0m\u001b[90m String?                        \u001b[0m\n",
       "─────┼───────────────────────────────────────────────────────────────────────\n",
       "   1 │     52835  Hermann Auwach              Hermann von Auwach\n",
       "   2 │     52836  Johann Heinrich Gysenberg   Johann Heinrich von Gysenberg\n",
       "   3 │     52836  Johann Gysenberg            Johann von Gysenberg\n",
       "   4 │     52837  Heinrich Hartard Rollingen  Heinrich Hartard von Rollingen\n",
       "   5 │     52837  Heinrich Rollingen          Heinrich von Rollingen\n",
       "   6 │     52838  Ignaz Wolfgang Metternich   Ignaz Wolfgang von Metternich\n",
       "   7 │     52838  Ignaz Metternich            Ignaz von Metternich\n",
       "   8 │     52839  Johann Hugo Orsbeck         Johann Hugo von Orsbeck\n",
       "   9 │     52839  Johann Orsbeck              Johann von Orsbeck\n",
       "  10 │     52840  Gerhard Lothar Büren        Gerhard Lothar von Büren\n",
       "  11 │     52840  Gerhard Büren               Gerhard von Büren\n",
       "  12 │     52841  Wilderich Walderdorff       Wilderich von Walderdorff\n",
       "  13 │     52842  Erasmus Horst               Erasmus von Horst"
      ]
     },
     "execution_count": 154,
     "metadata": {},
     "output_type": "execute_result"
    }
   ],
   "source": [
    "df_nl[2300:2312, :]"
   ]
  },
  {
   "cell_type": "markdown",
   "metadata": {},
   "source": [
    "Entferne Einträge für diese Art von Items"
   ]
  },
  {
   "cell_type": "code",
   "execution_count": 156,
   "metadata": {},
   "outputs": [
    {
     "data": {
      "text/plain": [
       "MySQL.TextCursor{true}(MySQL.Connection(host=\"127.0.0.1\", user=\"georg\", port=\"3306\", db=\"wiag2\"), \"DELETE FROM name_lookup \\nWHERE person_id IN (SELECT id FROM item WHERE item_type_id = 5)\", 0, -1, 0, MySQL.API.MYSQL_RES(Ptr{Nothing} @0x0000000000000000), Symbol[], Type[], Dict{Symbol, Int64}(), 0, 1, false)"
      ]
     },
     "execution_count": 156,
     "metadata": {},
     "output_type": "execute_result"
    }
   ],
   "source": [
    "table_name = \"name_lookup\"\n",
    "sql = \"DELETE FROM $(table_name) \n",
    "WHERE person_id IN (SELECT id FROM item WHERE item_type_id = $(item_type_id))\";\n",
    "DBInterface.execute(Wds.dbwiag, sql)"
   ]
  },
  {
   "cell_type": "code",
   "execution_count": 194,
   "metadata": {},
   "outputs": [
    {
     "name": "stderr",
     "output_type": "stream",
     "text": [
      "┌ Info: 10000\n",
      "└ @ WiagDataSetup C:\\Users\\georg\\Documents\\projekte\\WiagDataSetup.jl\\src\\WiagDataSetup.jl:1185\n",
      "┌ Info: 20000\n",
      "└ @ WiagDataSetup C:\\Users\\georg\\Documents\\projekte\\WiagDataSetup.jl\\src\\WiagDataSetup.jl:1185\n",
      "┌ Info: 30000\n",
      "└ @ WiagDataSetup C:\\Users\\georg\\Documents\\projekte\\WiagDataSetup.jl\\src\\WiagDataSetup.jl:1185\n",
      "┌ Info: Rows inserted: 32450\n",
      "└ @ WiagDataSetup C:\\Users\\georg\\Documents\\projekte\\WiagDataSetup.jl\\src\\WiagDataSetup.jl:1208\n"
     ]
    },
    {
     "data": {
      "text/plain": [
       "32450"
      ]
     },
     "execution_count": 194,
     "metadata": {},
     "output_type": "execute_result"
    }
   ],
   "source": [
    "table_name = \"name_lookup\"\n",
    "Wds.filltable!(table_name, df_nl)"
   ]
  },
  {
   "cell_type": "markdown",
   "metadata": {},
   "source": [
    "### `canon_lookup_line`\n",
    "*2022-02-07* Siehe Domherren GS: dort werden alle Verweise angelegt."
   ]
  },
  {
   "cell_type": "markdown",
   "metadata": {},
   "source": [
    "Verweise auf sich selbst"
   ]
  },
  {
   "cell_type": "code",
   "execution_count": 195,
   "metadata": {},
   "outputs": [],
   "source": [
    "table_name = \"item\";\n",
    "item_type_dh = 5;\n",
    "sql = \"SELECT id as person_id, id as person_id_canon \n",
    "FROM $(table_name) WHERE item_type_id = $(item_type_dh) AND is_online\";\n",
    "df_item_cn_dh = Wds.sql_df(sql);"
   ]
  },
  {
   "cell_type": "code",
   "execution_count": 196,
   "metadata": {},
   "outputs": [
    {
     "data": {
      "text/plain": [
       "(2587, 2)"
      ]
     },
     "execution_count": 196,
     "metadata": {},
     "output_type": "execute_result"
    }
   ],
   "source": [
    "size(df_item_cn_dh)"
   ]
  },
  {
   "cell_type": "code",
   "execution_count": 197,
   "metadata": {},
   "outputs": [
    {
     "name": "stderr",
     "output_type": "stream",
     "text": [
      "┌ Info: Rows inserted: 2587\n",
      "└ @ WiagDataSetup C:\\Users\\georg\\Documents\\projekte\\WiagDataSetup.jl\\src\\WiagDataSetup.jl:1208\n"
     ]
    }
   ],
   "source": [
    "table_name = \"canon_lookup\";\n",
    "Wds.filltable!(table_name, df_item_cn_dh);"
   ]
  },
  {
   "cell_type": "markdown",
   "metadata": {},
   "source": [
    "Verweise auf Bischöfe"
   ]
  },
  {
   "cell_type": "code",
   "execution_count": 208,
   "metadata": {},
   "outputs": [],
   "source": [
    "sql = \"SELECT p.id as person_id, givenname, familyname, e.value AS id_external, i.item_type_id\n",
    "FROM person AS p\n",
    "JOIN item AS i ON p.id = i.id\n",
    "JOIN id_external AS e ON i.id = e.item_id\n",
    "JOIN authority AS a ON e.authority_id = a.id\n",
    "WHERE a.id = 5\n",
    "AND i.is_online\";\n",
    "df_cn_episc = Wds.sql_df(sql);"
   ]
  },
  {
   "cell_type": "code",
   "execution_count": 209,
   "metadata": {},
   "outputs": [
    {
     "data": {
      "text/plain": [
       "(164, 5)"
      ]
     },
     "execution_count": 209,
     "metadata": {},
     "output_type": "execute_result"
    }
   ],
   "source": [
    "size(df_cn_episc)"
   ]
  },
  {
   "cell_type": "code",
   "execution_count": 210,
   "metadata": {},
   "outputs": [
    {
     "data": {
      "text/plain": [
       "5-element Vector{String}:\n",
       " \"person_id\"\n",
       " \"givenname\"\n",
       " \"familyname\"\n",
       " \"id_external\"\n",
       " \"item_type_id\""
      ]
     },
     "execution_count": 210,
     "metadata": {},
     "output_type": "execute_result"
    }
   ],
   "source": [
    "names(df_cn_episc)"
   ]
  },
  {
   "cell_type": "markdown",
   "metadata": {},
   "source": [
    "`item_id` für WIAG_ID finden"
   ]
  },
  {
   "cell_type": "code",
   "execution_count": 211,
   "metadata": {},
   "outputs": [],
   "source": [
    "table_name = \"item\";\n",
    "type_id_episc = 4;\n",
    "sql = \"SELECT id as id_ep, id_public FROM $(table_name) WHERE item_type_id = $(type_id_episc)\";\n",
    "df_item_episc = Wds.sql_df(sql);"
   ]
  },
  {
   "cell_type": "code",
   "execution_count": 212,
   "metadata": {},
   "outputs": [],
   "source": [
    "df_cn_episc = innerjoin(df_cn_episc, df_item_episc, on = :id_external => :id_public);"
   ]
  },
  {
   "cell_type": "code",
   "execution_count": 213,
   "metadata": {},
   "outputs": [
    {
     "data": {
      "text/plain": [
       "(163, 6)"
      ]
     },
     "execution_count": 213,
     "metadata": {},
     "output_type": "execute_result"
    }
   ],
   "source": [
    "size(df_cn_episc)"
   ]
  },
  {
   "cell_type": "code",
   "execution_count": 202,
   "metadata": {},
   "outputs": [
    {
     "data": {
      "text/plain": [
       "6-element Vector{String}:\n",
       " \"person_id\"\n",
       " \"givenname\"\n",
       " \"familyname\"\n",
       " \"id_external\"\n",
       " \"item_type_id\"\n",
       " \"id_ep\""
      ]
     },
     "execution_count": 202,
     "metadata": {},
     "output_type": "execute_result"
    }
   ],
   "source": [
    "names(df_cn_episc)"
   ]
  },
  {
   "cell_type": "code",
   "execution_count": 214,
   "metadata": {},
   "outputs": [
    {
     "data": {
      "text/plain": [
       "2-element Vector{Pair{Symbol, Symbol}}:\n",
       " :person_id => :person_id\n",
       "     :id_ep => :person_id_canon"
      ]
     },
     "execution_count": 214,
     "metadata": {},
     "output_type": "execute_result"
    }
   ],
   "source": [
    "columns = [\n",
    "    :person_id => :person_id,\n",
    "    :id_ep => :person_id_canon\n",
    "]"
   ]
  },
  {
   "cell_type": "code",
   "execution_count": 215,
   "metadata": {},
   "outputs": [
    {
     "name": "stderr",
     "output_type": "stream",
     "text": [
      "┌ Info: Rows inserted: 163\n",
      "└ @ WiagDataSetup C:\\Users\\georg\\Documents\\projekte\\WiagDataSetup.jl\\src\\WiagDataSetup.jl:1208\n"
     ]
    },
    {
     "data": {
      "text/plain": [
       "163"
      ]
     },
     "execution_count": 215,
     "metadata": {},
     "output_type": "execute_result"
    }
   ],
   "source": [
    "table_name = \"canon_lookup\"\n",
    "Wds.filltable!(table_name, select(df_cn_episc, columns))"
   ]
  },
  {
   "cell_type": "markdown",
   "metadata": {},
   "source": [
    "Überflüssige Verweise bereinigen"
   ]
  },
  {
   "cell_type": "code",
   "execution_count": 216,
   "metadata": {},
   "outputs": [],
   "source": [
    "id_src = \"(\" * join(df_cn_episc.person_id, \",\") * \")\";"
   ]
  },
  {
   "cell_type": "code",
   "execution_count": 217,
   "metadata": {},
   "outputs": [
    {
     "data": {
      "text/plain": [
       "MySQL.TextCursor{true}(MySQL.Connection(host=\"127.0.0.1\", user=\"georg\", port=\"3306\", db=\"wiag2\"), \"DELETE FROM canon_lookup \\nWHERE person_id = person_id_canon \\nAND person_id in (125502,126086,125984,134479,126004,134480,126007,126009,132577,126034,125943,132668,131042,125532,131056,126083,125936,131012,125527,125525,131071,132499,131830,126032,125820,125816,125797,125796,126087,131068,132686,125835,131036,131029,131608,131567,130950,130997,130947,130957,130982,131005,130986,130981,132678,130940,132227,131373,131045,131220,131014,125478,132788,132313,132779,132153,131904,131225,125983,132206,132502,132683,125536,125469,125474,125632,125556,125470,132687,125974,134483,131241,131410,131319,131356,131083,132145,131732,131571,131221,131341,132306,131227,123910,123912,125937,125639,125287,131761,134614,131692,125827,125828,132067,125798,123644,123590,127932,129175,129435,125290,131249,125733,125779,123732,123676,127664,126006,132550,132644,127547,123656,123658,123662,123585,123622,131722,131727,126322,132033,131464,131986,132771,131846,131857,131859,125774,132548,131832,125758,131248,132501,131797,131725,133190,133879,131785,132705,125644,132045,134568,131459,131915,134572,134593,131932,125869,125815,134596,134584,132521,123707,123589,123757,123758,123762,123765,123721,123715,131687,125991,134683,134513)\", 0, -1, 163, MySQL.API.MYSQL_RES(Ptr{Nothing} @0x0000000000000000), Symbol[], Type[], Dict{Symbol, Int64}(), 0, 1, false)"
      ]
     },
     "execution_count": 217,
     "metadata": {},
     "output_type": "execute_result"
    }
   ],
   "source": [
    "sql = \"DELETE FROM canon_lookup \n",
    "WHERE person_id = person_id_canon \n",
    "AND person_id in $(id_src)\";\n",
    "DBInterface.execute(Wds.dbwiag, sql)"
   ]
  }
 ],
 "metadata": {
  "kernelspec": {
   "display_name": "Julia 1.7.0",
   "language": "julia",
   "name": "julia-1.7"
  },
  "language_info": {
   "file_extension": ".jl",
   "mimetype": "application/julia",
   "name": "julia",
   "version": "1.7.0"
  }
 },
 "nbformat": 4,
 "nbformat_minor": 4
}
