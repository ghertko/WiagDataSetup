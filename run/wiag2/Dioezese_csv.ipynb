{
 "cells": [
  {
   "cell_type": "markdown",
   "metadata": {},
   "source": [
    "# Wissensaggregator Mittelalter und frühe Neuzeit\n",
    "\n",
    "## Daten für Diözesen übertragen\n",
    "\n",
    "Lies Daten aus `Kloester und Stifte_neu_2020.accdb`.\n",
    "\n",
    "- [Diözesen](#Diözesen)\n",
    "  - [Einträge in `item`](#Einträge-in-item)\n",
    "  - [Externe URLs eintragen](#Externe-URLs-eintragen)\n",
    "  - [Alternative Namen eintragen](#Alternative-Namen-eintragen)\n",
    "  - [Bischofssitze zuordnen](#Bischofssitze-zuordnen)\n",
    "  - [Literaturverweise](#Literaturverweise)"
   ]
  },
  {
   "cell_type": "markdown",
   "metadata": {},
   "source": [
    "Vorspann: Pakete laden; mit der Datenbank verbinden"
   ]
  },
  {
   "cell_type": "code",
   "execution_count": 1,
   "metadata": {},
   "outputs": [
    {
     "data": {
      "text/plain": [
       "\"../..\""
      ]
     },
     "execution_count": 1,
     "metadata": {},
     "output_type": "execute_result"
    }
   ],
   "source": [
    "wds_path=\"../..\""
   ]
  },
  {
   "cell_type": "code",
   "execution_count": 2,
   "metadata": {},
   "outputs": [],
   "source": [
    "cd(wds_path)"
   ]
  },
  {
   "cell_type": "code",
   "execution_count": 3,
   "metadata": {},
   "outputs": [],
   "source": [
    "using Pkg"
   ]
  },
  {
   "cell_type": "code",
   "execution_count": 4,
   "metadata": {},
   "outputs": [
    {
     "name": "stderr",
     "output_type": "stream",
     "text": [
      "\u001b[32m\u001b[1m  Activating\u001b[22m\u001b[39m project at `C:\\Users\\georg\\Documents\\projekte\\WiagDataSetup.jl`\n"
     ]
    }
   ],
   "source": [
    "Pkg.activate(\".\")"
   ]
  },
  {
   "cell_type": "code",
   "execution_count": 5,
   "metadata": {},
   "outputs": [],
   "source": [
    "using Revise"
   ]
  },
  {
   "cell_type": "code",
   "execution_count": 6,
   "metadata": {},
   "outputs": [],
   "source": [
    "using WiagDataSetup"
   ]
  },
  {
   "cell_type": "code",
   "execution_count": 7,
   "metadata": {},
   "outputs": [],
   "source": [
    "using MySQL, CSV, DataFrames"
   ]
  },
  {
   "cell_type": "code",
   "execution_count": 9,
   "metadata": {},
   "outputs": [],
   "source": [
    "includet(\"src/Bistum.jl\")"
   ]
  },
  {
   "cell_type": "code",
   "execution_count": 10,
   "metadata": {},
   "outputs": [
    {
     "data": {
      "text/plain": [
       "WiagDataSetup"
      ]
     },
     "execution_count": 10,
     "metadata": {},
     "output_type": "execute_result"
    }
   ],
   "source": [
    "Wds = WiagDataSetup"
   ]
  },
  {
   "cell_type": "code",
   "execution_count": 11,
   "metadata": {},
   "outputs": [
    {
     "name": "stdout",
     "output_type": "stream",
     "text": [
      "Passwort für User georg: ········\n"
     ]
    },
    {
     "data": {
      "text/plain": [
       "MySQL.Connection(host=\"127.0.0.1\", user=\"georg\", port=\"3306\", db=\"wiag_in\")"
      ]
     },
     "execution_count": 11,
     "metadata": {},
     "output_type": "execute_result"
    }
   ],
   "source": [
    "Wds.setDBWIAG(user=\"georg\", db=\"wiag_in\")"
   ]
  },
  {
   "cell_type": "markdown",
   "metadata": {},
   "source": [
    "Trage die jeweils aktuelle Datenquelle ein!"
   ]
  },
  {
   "cell_type": "code",
   "execution_count": 12,
   "metadata": {},
   "outputs": [
    {
     "data": {
      "text/plain": [
       "\"C:\\\\Users\\\\georg\\\\Documents\\\\projekte-doc\\\\WIAGweb2\\\\data\\\\bistümer-2022-11-10\""
      ]
     },
     "execution_count": 12,
     "metadata": {},
     "output_type": "execute_result"
    }
   ],
   "source": [
    "data_path = \"C:\\\\Users\\\\georg\\\\Documents\\\\projekte-doc\\\\WIAGweb2\\\\data\\\\bistümer-2022-11-10\""
   ]
  },
  {
   "cell_type": "code",
   "execution_count": 17,
   "metadata": {},
   "outputs": [
    {
     "data": {
      "text/plain": [
       "1"
      ]
     },
     "execution_count": 17,
     "metadata": {},
     "output_type": "execute_result"
    }
   ],
   "source": [
    "item_type_id = 1"
   ]
  },
  {
   "cell_type": "code",
   "execution_count": 18,
   "metadata": {},
   "outputs": [
    {
     "name": "stderr",
     "output_type": "stream",
     "text": [
      "┌ Info: WiagDataSetup\n",
      "└ @ Main C:\\Users\\georg\\Documents\\projekte\\WiagDataSetup.jl\\src\\Bistum.jl:13\n",
      "┌ Info: \n",
      "│   item_type_id = 1\n",
      "└ @ Main C:\\Users\\georg\\Documents\\projekte\\WiagDataSetup.jl\\src\\Bistum.jl:14\n"
     ]
    }
   ],
   "source": [
    "check_globals()"
   ]
  },
  {
   "cell_type": "markdown",
   "metadata": {},
   "source": [
    "## Diözesen"
   ]
  },
  {
   "cell_type": "code",
   "execution_count": 15,
   "metadata": {},
   "outputs": [
    {
     "name": "stderr",
     "output_type": "stream",
     "text": [
      "┌ Info: Zeilen, Spalten: \n",
      "│   size(df_d) = (119, 16)\n",
      "└ @ Main C:\\Users\\georg\\Documents\\projekte\\WiagDataSetup.jl\\src\\Bistum.jl:36\n"
     ]
    }
   ],
   "source": [
    "csv_file = joinpath(data_path, \"gs_dioceses.csv\")\n",
    "df_d = read_diocese(csv_file, :id_diocese);"
   ]
  },
  {
   "cell_type": "markdown",
   "metadata": {},
   "source": [
    "## Bischofssitze\n",
    "*2022-11-10* Bischofssitze neu zuordnen. Die bisherige Zuordnung nutzte die Namen der Orte, die freilich nicht eindeutig sind. Bei manchen Bischofssitzen ist die falsche GeoNames ID eingetragen (feature code \"A\" statt \"P\"). Das ist in der editierten Version korrigiert."
   ]
  },
  {
   "cell_type": "code",
   "execution_count": 88,
   "metadata": {},
   "outputs": [
    {
     "name": "stderr",
     "output_type": "stream",
     "text": [
      "┌ Info: Zeilen, Spalten: \n",
      "│   size(df_p) = (46921, 16)\n",
      "└ @ Main C:\\Users\\georg\\Documents\\projekte\\WiagDataSetup.jl\\src\\Bistum.jl:53\n"
     ]
    }
   ],
   "source": [
    "csv_file = joinpath(data_path, \"gs_places_edit.csv\")\n",
    "df_p = read_place(csv_file);"
   ]
  },
  {
   "cell_type": "markdown",
   "metadata": {},
   "source": [
    "Ergänze `df_d` um `geonames_id`."
   ]
  },
  {
   "cell_type": "code",
   "execution_count": 89,
   "metadata": {},
   "outputs": [],
   "source": [
    "df_d_p = leftjoin(\n",
    "    df_d, \n",
    "    select(df_p, [:id_places => :id_places, :place_name => :bs_name, :geonames_id => :geonames_id]), \n",
    "    on = :bishopric_seat => :id_places, \n",
    "    matchmissing = :notequal);"
   ]
  },
  {
   "cell_type": "markdown",
   "metadata": {},
   "source": [
    "Lies Orte aus WIAG"
   ]
  },
  {
   "cell_type": "code",
   "execution_count": 90,
   "metadata": {},
   "outputs": [],
   "source": [
    "table = \"place\";\n",
    "sql = \"select id, name, geonames_id from $(table)\";\n",
    "df_p_wiag = Wds.sql_df(sql);"
   ]
  },
  {
   "cell_type": "markdown",
   "metadata": {},
   "source": [
    "Ergänze `df_d_p` um `place.id` aus WIAG"
   ]
  },
  {
   "cell_type": "code",
   "execution_count": 91,
   "metadata": {},
   "outputs": [],
   "source": [
    "df_d_p = leftjoin(\n",
    "    df_d_p,\n",
    "    select(df_p_wiag, [:id => :bishopric_seat_id, :name => :wiag_bs_name, :geonames_id => :geonames_id]),\n",
    "    on = :geonames_id,\n",
    "    matchmissing = :notequal);"
   ]
  },
  {
   "cell_type": "code",
   "execution_count": 92,
   "metadata": {},
   "outputs": [
    {
     "data": {
      "text/html": [
       "<div><div style = \"float: left;\"><span>5×6 DataFrame</span></div><div style = \"clear: both;\"></div></div><div class = \"data-frame\" style = \"overflow-x: scroll;\"><table class = \"data-frame\" style = \"margin-bottom: 6px;\"><thead><tr class = \"header\"><th class = \"rowNumber\" style = \"font-weight: bold; text-align: right;\">Row</th><th style = \"text-align: left;\">id_diocese</th><th style = \"text-align: left;\">diocese</th><th style = \"text-align: left;\">bs_name</th><th style = \"text-align: left;\">wiag_bs_name</th><th style = \"text-align: left;\">geonames_id</th><th style = \"text-align: left;\">bishopric_seat_id</th></tr><tr class = \"subheader headerLastRow\"><th class = \"rowNumber\" style = \"font-weight: bold; text-align: right;\"></th><th title = \"String\" style = \"text-align: left;\">String</th><th title = \"String\" style = \"text-align: left;\">String</th><th title = \"Union{Missing, String}\" style = \"text-align: left;\">String?</th><th title = \"Union{Missing, String}\" style = \"text-align: left;\">String?</th><th title = \"Union{Missing, Int64}\" style = \"text-align: left;\">Int64?</th><th title = \"Union{Missing, Int32}\" style = \"text-align: left;\">Int32?</th></tr></thead><tbody><tr><td class = \"rowNumber\" style = \"font-weight: bold; text-align: right;\">1</td><td style = \"text-align: left;\">14</td><td style = \"text-align: left;\">Lübeck</td><td style = \"text-align: left;\">Lübeck</td><td style = \"text-align: left;\">Lübeck</td><td style = \"text-align: right;\">2875601</td><td style = \"text-align: right;\">386543</td></tr><tr><td class = \"rowNumber\" style = \"font-weight: bold; text-align: right;\">2</td><td style = \"text-align: left;\">15</td><td style = \"text-align: left;\">Magdeburg</td><td style = \"text-align: left;\">Magdeburg</td><td style = \"text-align: left;\">Magdeburg</td><td style = \"text-align: right;\">2874545</td><td style = \"text-align: right;\">387084</td></tr><tr><td class = \"rowNumber\" style = \"font-weight: bold; text-align: right;\">3</td><td style = \"text-align: left;\">16</td><td style = \"text-align: left;\">Mainz</td><td style = \"text-align: left;\">Mainz</td><td style = \"text-align: left;\">Mainz</td><td style = \"text-align: right;\">2874225</td><td style = \"text-align: right;\">387241</td></tr><tr><td class = \"rowNumber\" style = \"font-weight: bold; text-align: right;\">4</td><td style = \"text-align: left;\">13</td><td style = \"text-align: left;\">Lebus</td><td style = \"text-align: left;\">Lebus</td><td style = \"text-align: left;\">Lebus</td><td style = \"text-align: right;\">2879795</td><td style = \"text-align: right;\">388462</td></tr><tr><td class = \"rowNumber\" style = \"font-weight: bold; text-align: right;\">5</td><td style = \"text-align: left;\">11</td><td style = \"text-align: left;\">Köln</td><td style = \"text-align: left;\">Köln</td><td style = \"text-align: left;\">Köln</td><td style = \"text-align: right;\">2886242</td><td style = \"text-align: right;\">391607</td></tr></tbody></table></div>"
      ],
      "text/latex": [
       "\\begin{tabular}{r|cccccc}\n",
       "\t& id\\_diocese & diocese & bs\\_name & wiag\\_bs\\_name & geonames\\_id & bishopric\\_seat\\_id\\\\\n",
       "\t\\hline\n",
       "\t& String & String & String? & String? & Int64? & Int32?\\\\\n",
       "\t\\hline\n",
       "\t1 & 14 & Lübeck & Lübeck & Lübeck & 2875601 & 386543 \\\\\n",
       "\t2 & 15 & Magdeburg & Magdeburg & Magdeburg & 2874545 & 387084 \\\\\n",
       "\t3 & 16 & Mainz & Mainz & Mainz & 2874225 & 387241 \\\\\n",
       "\t4 & 13 & Lebus & Lebus & Lebus & 2879795 & 388462 \\\\\n",
       "\t5 & 11 & Köln & Köln & Köln & 2886242 & 391607 \\\\\n",
       "\\end{tabular}\n"
      ],
      "text/plain": [
       "\u001b[1m5×6 DataFrame\u001b[0m\n",
       "\u001b[1m Row \u001b[0m│\u001b[1m id_diocese \u001b[0m\u001b[1m diocese   \u001b[0m\u001b[1m bs_name   \u001b[0m\u001b[1m wiag_bs_name \u001b[0m\u001b[1m geonames_id \u001b[0m\u001b[1m bishopric_\u001b[0m ⋯\n",
       "     │\u001b[90m String     \u001b[0m\u001b[90m String    \u001b[0m\u001b[90m String?   \u001b[0m\u001b[90m String?      \u001b[0m\u001b[90m Int64?      \u001b[0m\u001b[90m Int32?    \u001b[0m ⋯\n",
       "─────┼──────────────────────────────────────────────────────────────────────────\n",
       "   1 │ 14          Lübeck     Lübeck     Lübeck            2875601             ⋯\n",
       "   2 │ 15          Magdeburg  Magdeburg  Magdeburg         2874545\n",
       "   3 │ 16          Mainz      Mainz      Mainz             2874225\n",
       "   4 │ 13          Lebus      Lebus      Lebus             2879795\n",
       "   5 │ 11          Köln       Köln       Köln              2886242             ⋯\n",
       "\u001b[36m                                                                1 column omitted\u001b[0m"
      ]
     },
     "execution_count": 92,
     "metadata": {},
     "output_type": "execute_result"
    }
   ],
   "source": [
    "df_d_p[21:25, [:id_diocese, :diocese, :bs_name, :wiag_bs_name, :geonames_id, :bishopric_seat_id]]"
   ]
  },
  {
   "cell_type": "markdown",
   "metadata": {},
   "source": [
    "Lies Bistümer aus WIAG"
   ]
  },
  {
   "cell_type": "code",
   "execution_count": 93,
   "metadata": {},
   "outputs": [],
   "source": [
    "table = \"diocese\";\n",
    "sql = \"select id, name from $(table)\";\n",
    "df_d_wiag = Wds.sql_df(sql);"
   ]
  },
  {
   "cell_type": "markdown",
   "metadata": {},
   "source": [
    "Ergänze `df_d_wiag` um einen neuen Wert für `bishopric_seat`"
   ]
  },
  {
   "cell_type": "code",
   "execution_count": 94,
   "metadata": {},
   "outputs": [],
   "source": [
    "df_d_wiag = leftjoin(\n",
    "    df_d_wiag,\n",
    "    select(df_d_p, [:diocese, :bs_name, :wiag_bs_name, :geonames_id, :bishopric_seat_id]),\n",
    "    on = :name => :diocese,\n",
    ");"
   ]
  },
  {
   "cell_type": "markdown",
   "metadata": {},
   "source": [
    "Keine Fehlermeldung: Alle Diözesen konnten zugeordnet werden"
   ]
  },
  {
   "cell_type": "code",
   "execution_count": 95,
   "metadata": {},
   "outputs": [
    {
     "data": {
      "text/plain": [
       "(79, 6)"
      ]
     },
     "execution_count": 95,
     "metadata": {},
     "output_type": "execute_result"
    }
   ],
   "source": [
    "size(df_d_wiag)"
   ]
  },
  {
   "cell_type": "code",
   "execution_count": 103,
   "metadata": {},
   "outputs": [
    {
     "data": {
      "text/html": [
       "<div><div style = \"float: left;\"><span>1×6 DataFrame</span></div><div style = \"clear: both;\"></div></div><div class = \"data-frame\" style = \"overflow-x: scroll;\"><table class = \"data-frame\" style = \"margin-bottom: 6px;\"><thead><tr class = \"header\"><th class = \"rowNumber\" style = \"font-weight: bold; text-align: right;\">Row</th><th style = \"text-align: left;\">id</th><th style = \"text-align: left;\">name</th><th style = \"text-align: left;\">bs_name</th><th style = \"text-align: left;\">wiag_bs_name</th><th style = \"text-align: left;\">geonames_id</th><th style = \"text-align: left;\">bishopric_seat_id</th></tr><tr class = \"subheader headerLastRow\"><th class = \"rowNumber\" style = \"font-weight: bold; text-align: right;\"></th><th title = \"Int32\" style = \"text-align: left;\">Int32</th><th title = \"Union{Missing, String}\" style = \"text-align: left;\">String?</th><th title = \"Union{Missing, String}\" style = \"text-align: left;\">String?</th><th title = \"Union{Missing, String}\" style = \"text-align: left;\">String?</th><th title = \"Union{Missing, Int64}\" style = \"text-align: left;\">Int64?</th><th title = \"Union{Missing, Int32}\" style = \"text-align: left;\">Int32?</th></tr></thead><tbody><tr><td class = \"rowNumber\" style = \"font-weight: bold; text-align: right;\">1</td><td style = \"text-align: right;\">55</td><td style = \"text-align: left;\">Nordische Missionen</td><td style = \"font-style: italic; text-align: left;\">missing</td><td style = \"font-style: italic; text-align: left;\">missing</td><td style = \"font-style: italic; text-align: right;\">missing</td><td style = \"font-style: italic; text-align: right;\">missing</td></tr></tbody></table></div>"
      ],
      "text/latex": [
       "\\begin{tabular}{r|cccccc}\n",
       "\t& id & name & bs\\_name & wiag\\_bs\\_name & geonames\\_id & bishopric\\_seat\\_id\\\\\n",
       "\t\\hline\n",
       "\t& Int32 & String? & String? & String? & Int64? & Int32?\\\\\n",
       "\t\\hline\n",
       "\t1 & 55 & Nordische Missionen & \\emph{missing} & \\emph{missing} & \\emph{missing} & \\emph{missing} \\\\\n",
       "\\end{tabular}\n"
      ],
      "text/plain": [
       "\u001b[1m1×6 DataFrame\u001b[0m\n",
       "\u001b[1m Row \u001b[0m│\u001b[1m id    \u001b[0m\u001b[1m name                \u001b[0m\u001b[1m bs_name \u001b[0m\u001b[1m wiag_bs_name \u001b[0m\u001b[1m geonames_id \u001b[0m\u001b[1m bishopr\u001b[0m ⋯\n",
       "     │\u001b[90m Int32 \u001b[0m\u001b[90m String?             \u001b[0m\u001b[90m String? \u001b[0m\u001b[90m String?      \u001b[0m\u001b[90m Int64?      \u001b[0m\u001b[90m Int32? \u001b[0m ⋯\n",
       "─────┼──────────────────────────────────────────────────────────────────────────\n",
       "   1 │    55  Nordische Missionen \u001b[90m missing \u001b[0m\u001b[90m missing      \u001b[0m\u001b[90m     missing \u001b[0m\u001b[90m        \u001b[0m ⋯\n",
       "\u001b[36m                                                                1 column omitted\u001b[0m"
      ]
     },
     "execution_count": 103,
     "metadata": {},
     "output_type": "execute_result"
    }
   ],
   "source": [
    "filter(:geonames_id => ismissing, df_d_wiag)"
   ]
  },
  {
   "cell_type": "code",
   "execution_count": 105,
   "metadata": {},
   "outputs": [],
   "source": [
    "dropmissing!(df_d_wiag, :bs_name);"
   ]
  },
  {
   "cell_type": "code",
   "execution_count": 106,
   "metadata": {},
   "outputs": [
    {
     "data": {
      "text/plain": [
       "MySQL.TextCursor{true}(MySQL.Connection(host=\"127.0.0.1\", user=\"georg\", port=\"3306\", db=\"wiag_in\"), \"DROP TABLE IF EXISTS diocese_update\", 0, -1, 0, MySQL.API.MYSQL_RES(Ptr{Nothing} @0x0000000000000000), Symbol[], Type[], Dict{Symbol, Int64}(), 0, 1, false)"
      ]
     },
     "execution_count": 106,
     "metadata": {},
     "output_type": "execute_result"
    }
   ],
   "source": [
    "table = \"diocese_update\";\n",
    "sql = \"DROP TABLE IF EXISTS $(table)\";\n",
    "DBInterface.execute(Wds.dbwiag, sql)"
   ]
  },
  {
   "cell_type": "code",
   "execution_count": 107,
   "metadata": {},
   "outputs": [
    {
     "data": {
      "text/plain": [
       "MySQL.TextCursor{true}(MySQL.Connection(host=\"127.0.0.1\", user=\"georg\", port=\"3306\", db=\"wiag_in\"), \"CREATE TEMPORARY TABLE diocese_update (id INT, bishopric_seat_id INT) DEFAULT CHARSET=utf8\", 0, -1, 0, MySQL.API.MYSQL_RES(Ptr{Nothing} @0x0000000000000000), Symbol[], Type[], Dict{Symbol, Int64}(), 0, 1, false)"
      ]
     },
     "execution_count": 107,
     "metadata": {},
     "output_type": "execute_result"
    }
   ],
   "source": [
    "table = \"diocese_update\"\n",
    "sql = \"CREATE TEMPORARY TABLE $(table) \" *\n",
    "\"(id INT, bishopric_seat_id INT) \" *\n",
    "\"DEFAULT CHARSET=utf8\";\n",
    "DBInterface.execute(Wds.dbwiag, sql)"
   ]
  },
  {
   "cell_type": "code",
   "execution_count": 108,
   "metadata": {},
   "outputs": [
    {
     "name": "stderr",
     "output_type": "stream",
     "text": [
      "┌ Info: Rows inserted: 78\n",
      "└ @ WiagDataSetup C:\\Users\\georg\\Documents\\projekte\\WiagDataSetup.jl\\src\\WiagDataSetup.jl:1216\n"
     ]
    },
    {
     "data": {
      "text/plain": [
       "78"
      ]
     },
     "execution_count": 108,
     "metadata": {},
     "output_type": "execute_result"
    }
   ],
   "source": [
    "table = \"diocese_update\"\n",
    "Wds.filltable!(table, select(df_d_wiag, [:id, :bishopric_seat_id]))"
   ]
  },
  {
   "cell_type": "code",
   "execution_count": 109,
   "metadata": {},
   "outputs": [
    {
     "data": {
      "text/plain": [
       "MySQL.TextCursor{true}(MySQL.Connection(host=\"127.0.0.1\", user=\"georg\", port=\"3306\", db=\"wiag_in\"), \"UPDATE diocese, (SELECT id, bishopric_seat_id FROM diocese_update) as d_update SET diocese.bishopric_seat_id = d_update.bishopric_seat_id WHERE diocese.id = d_update.id\", 0, -1, 77, MySQL.API.MYSQL_RES(Ptr{Nothing} @0x0000000000000000), Symbol[], Type[], Dict{Symbol, Int64}(), 0, 1, false)"
      ]
     },
     "execution_count": 109,
     "metadata": {},
     "output_type": "execute_result"
    }
   ],
   "source": [
    "sql = \"UPDATE diocese, (SELECT id, bishopric_seat_id FROM diocese_update) as d_update \" *\n",
    "\"SET diocese.bishopric_seat_id = d_update.bishopric_seat_id \" *\n",
    "\"WHERE diocese.id = d_update.id\";\n",
    "DBInterface.execute(Wds.dbwiag, sql)"
   ]
  },
  {
   "cell_type": "markdown",
   "metadata": {},
   "source": [
    "### Einträge in `item`\n",
    "\n",
    "entsprechende Einträge in Tabelle `item` einfügen"
   ]
  },
  {
   "cell_type": "code",
   "execution_count": null,
   "metadata": {},
   "outputs": [],
   "source": []
  },
  {
   "cell_type": "code",
   "execution_count": 10,
   "metadata": {},
   "outputs": [],
   "source": [
    "df_item = select(df_d, :id_diocese => :id_in_source);"
   ]
  },
  {
   "cell_type": "code",
   "execution_count": 11,
   "metadata": {},
   "outputs": [],
   "source": [
    "user_wiag_id = 40;"
   ]
  },
  {
   "cell_type": "code",
   "execution_count": 12,
   "metadata": {},
   "outputs": [],
   "source": [
    "using Dates"
   ]
  },
  {
   "cell_type": "code",
   "execution_count": 13,
   "metadata": {},
   "outputs": [
    {
     "data": {
      "text/plain": [
       "2022-11-10T09:20:14.997"
      ]
     },
     "execution_count": 13,
     "metadata": {},
     "output_type": "execute_result"
    }
   ],
   "source": [
    "Dates.now()"
   ]
  },
  {
   "cell_type": "code",
   "execution_count": null,
   "metadata": {},
   "outputs": [],
   "source": []
  },
  {
   "cell_type": "code",
   "execution_count": null,
   "metadata": {},
   "outputs": [],
   "source": [
    "insertcols!(\n",
    "    df_item, \n",
    "    :item_type_id => 1,\n",
    "    :edit_status => \"online\",\n",
    "    :is_online => true,\n",
    "    :created_by => user_wiag_id,\n",
    "    :changed_by => user_wiag_id,\n",
    "    \n",
    ")"
   ]
  },
  {
   "cell_type": "code",
   "execution_count": null,
   "metadata": {},
   "outputs": [],
   "source": []
  },
  {
   "cell_type": "code",
   "execution_count": 37,
   "metadata": {},
   "outputs": [],
   "source": [
    "df_item[!, :item_type_id] .= 1;"
   ]
  },
  {
   "cell_type": "code",
   "execution_count": 38,
   "metadata": {},
   "outputs": [],
   "source": [
    "df_item[!, :edit_status] .= \"online\";"
   ]
  },
  {
   "cell_type": "code",
   "execution_count": null,
   "metadata": {},
   "outputs": [],
   "source": [
    "df_item[!, :is_online] .= true;"
   ]
  },
  {
   "cell_type": "code",
   "execution_count": 39,
   "metadata": {},
   "outputs": [],
   "source": [
    "df_item[!, :created_by] .= 1;"
   ]
  },
  {
   "cell_type": "code",
   "execution_count": 40,
   "metadata": {},
   "outputs": [],
   "source": [
    "df_item[!, :date_created] .= \"2021-09-30 10:20\";"
   ]
  },
  {
   "cell_type": "code",
   "execution_count": 41,
   "metadata": {},
   "outputs": [],
   "source": [
    "df_item[!, :changed_by] .= 1;"
   ]
  },
  {
   "cell_type": "code",
   "execution_count": 42,
   "metadata": {},
   "outputs": [],
   "source": [
    "df_item[!, :date_changed] .= \"2021-09-30 10:20\";"
   ]
  },
  {
   "cell_type": "code",
   "execution_count": 43,
   "metadata": {},
   "outputs": [
    {
     "data": {
      "text/plain": [
       "make_id_public (generic function with 1 method)"
      ]
     },
     "execution_count": 43,
     "metadata": {},
     "output_type": "execute_result"
    }
   ],
   "source": [
    "function make_id_public(id::Real, num_id_length::Int, id_public_key::AbstractString)\n",
    "    return \"WIAG-\" * id_public_key * \"-\" * lpad(id, num_id_length, '0') * \"-001\"\n",
    "end"
   ]
  },
  {
   "cell_type": "code",
   "execution_count": 44,
   "metadata": {},
   "outputs": [
    {
     "data": {
      "text/plain": [
       "\"WIAG-Inst-DIOCGatz-014-001\""
      ]
     },
     "execution_count": 44,
     "metadata": {},
     "output_type": "execute_result"
    }
   ],
   "source": [
    "make_id_public(14, 3, \"Inst-DIOCGatz\")"
   ]
  },
  {
   "cell_type": "markdown",
   "metadata": {},
   "source": [
    "Normdatum/öffentliche ID erzeugen\n",
    "\n",
    "Verwende die ursprüngliche ID. Damit entspricht die ID der bisher veröffentlichten ID (2021-09-30)"
   ]
  },
  {
   "cell_type": "code",
   "execution_count": 45,
   "metadata": {},
   "outputs": [],
   "source": [
    "df_item[!, :id_public] .= ((id) -> make_id_public(id, 3, \"Inst-DIOCGatz\")).(df_item[!, :id_in_source]);"
   ]
  },
  {
   "cell_type": "markdown",
   "metadata": {},
   "source": [
    "`item.is_deleted` ist vorbelegt mit `false`"
   ]
  },
  {
   "cell_type": "markdown",
   "metadata": {},
   "source": [
    "`item.lang` ist vorbelegt mit \"de\""
   ]
  },
  {
   "cell_type": "code",
   "execution_count": 46,
   "metadata": {},
   "outputs": [
    {
     "data": {
      "text/plain": [
       "8-element Vector{String}:\n",
       " \"source_id\"\n",
       " \"item_type_id\"\n",
       " \"edit_status\"\n",
       " \"created_by\"\n",
       " \"date_created\"\n",
       " \"changed_by\"\n",
       " \"date_changed\"\n",
       " \"id_public\""
      ]
     },
     "execution_count": 46,
     "metadata": {},
     "output_type": "execute_result"
    }
   ],
   "source": [
    "names(df_item)"
   ]
  },
  {
   "cell_type": "code",
   "execution_count": 47,
   "metadata": {},
   "outputs": [
    {
     "data": {
      "text/html": [
       "<div class=\"data-frame\"><p>5 rows × 3 columns</p><table class=\"data-frame\"><thead><tr><th></th><th>source_id</th><th>item_type_id</th><th>id_public</th></tr><tr><th></th><th title=\"Int32\">Int32</th><th title=\"Int64\">Int64</th><th title=\"String\">String</th></tr></thead><tbody><tr><th>1</th><td>1</td><td>1</td><td>WIAG-Inst-DIOCGatz-001-001</td></tr><tr><th>2</th><td>2</td><td>1</td><td>WIAG-Inst-DIOCGatz-002-001</td></tr><tr><th>3</th><td>3</td><td>1</td><td>WIAG-Inst-DIOCGatz-003-001</td></tr><tr><th>4</th><td>4</td><td>1</td><td>WIAG-Inst-DIOCGatz-004-001</td></tr><tr><th>5</th><td>5</td><td>1</td><td>WIAG-Inst-DIOCGatz-005-001</td></tr></tbody></table></div>"
      ],
      "text/latex": [
       "\\begin{tabular}{r|ccc}\n",
       "\t& source\\_id & item\\_type\\_id & id\\_public\\\\\n",
       "\t\\hline\n",
       "\t& Int32 & Int64 & String\\\\\n",
       "\t\\hline\n",
       "\t1 & 1 & 1 & WIAG-Inst-DIOCGatz-001-001 \\\\\n",
       "\t2 & 2 & 1 & WIAG-Inst-DIOCGatz-002-001 \\\\\n",
       "\t3 & 3 & 1 & WIAG-Inst-DIOCGatz-003-001 \\\\\n",
       "\t4 & 4 & 1 & WIAG-Inst-DIOCGatz-004-001 \\\\\n",
       "\t5 & 5 & 1 & WIAG-Inst-DIOCGatz-005-001 \\\\\n",
       "\\end{tabular}\n"
      ],
      "text/plain": [
       "\u001b[1m5×3 DataFrame\u001b[0m\n",
       "\u001b[1m Row \u001b[0m│\u001b[1m source_id \u001b[0m\u001b[1m item_type_id \u001b[0m\u001b[1m id_public                  \u001b[0m\n",
       "\u001b[1m     \u001b[0m│\u001b[90m Int32     \u001b[0m\u001b[90m Int64        \u001b[0m\u001b[90m String                     \u001b[0m\n",
       "─────┼─────────────────────────────────────────────────────\n",
       "   1 │         1             1  WIAG-Inst-DIOCGatz-001-001\n",
       "   2 │         2             1  WIAG-Inst-DIOCGatz-002-001\n",
       "   3 │         3             1  WIAG-Inst-DIOCGatz-003-001\n",
       "   4 │         4             1  WIAG-Inst-DIOCGatz-004-001\n",
       "   5 │         5             1  WIAG-Inst-DIOCGatz-005-001"
      ]
     },
     "execution_count": 47,
     "metadata": {},
     "output_type": "execute_result"
    }
   ],
   "source": [
    "df_item[1:5, [:id_in_source, :item_type_id, :id_public]]"
   ]
  },
  {
   "cell_type": "code",
   "execution_count": 80,
   "metadata": {},
   "outputs": [
    {
     "name": "stderr",
     "output_type": "stream",
     "text": [
      "┌ Info: Rows inserted: 79\n",
      "└ @ WiagDataSetup C:\\Users\\Georg\\Documents\\projekte\\WiagDataSetup.jl\\src\\WiagDataSetup.jl:1171\n"
     ]
    },
    {
     "data": {
      "text/plain": [
       "79"
      ]
     },
     "execution_count": 80,
     "metadata": {},
     "output_type": "execute_result"
    }
   ],
   "source": [
    "Wds.filltable!(\"item\", df_item)"
   ]
  },
  {
   "cell_type": "markdown",
   "metadata": {},
   "source": [
    "### Daten eintragen\n",
    "\n",
    "IDs auslesen"
   ]
  },
  {
   "cell_type": "code",
   "execution_count": 15,
   "metadata": {},
   "outputs": [],
   "source": [
    "sql = \"SELECT id, id_in_source FROM item where item_type_id = 1\"\n",
    "df_idx = DBInterface.execute(Wds.dbwiag, sql) |> DataFrame;"
   ]
  },
  {
   "cell_type": "markdown",
   "metadata": {},
   "source": [
    "Spalte für die Zusammenführung befüllen (Typ: String!)"
   ]
  },
  {
   "cell_type": "code",
   "execution_count": 16,
   "metadata": {},
   "outputs": [],
   "source": [
    "df_dioc[!, :id_in_source] .= string.(df_dioc[!, :id_diocese]);"
   ]
  },
  {
   "cell_type": "code",
   "execution_count": 17,
   "metadata": {},
   "outputs": [],
   "source": [
    "df_dioc_db = innerjoin(df_idx, df_dioc, on = :id_in_source);"
   ]
  },
  {
   "cell_type": "code",
   "execution_count": 84,
   "metadata": {},
   "outputs": [
    {
     "data": {
      "text/html": [
       "<div class=\"data-frame\"><p>6 rows × 3 columns</p><table class=\"data-frame\"><thead><tr><th></th><th>id</th><th>name</th><th>diocese_status</th></tr><tr><th></th><th title=\"Int32\">Int32</th><th title=\"Union{Missing, String}\">String?</th><th title=\"Union{Missing, String}\">String?</th></tr></thead><tbody><tr><th>1</th><td>5</td><td>Chiemsee</td><td>Bistum</td></tr><tr><th>2</th><td>6</td><td>Eichstätt</td><td>Bistum</td></tr><tr><th>3</th><td>7</td><td>Freising</td><td>Bistum</td></tr><tr><th>4</th><td>8</td><td>Halberstadt</td><td>Bistum</td></tr><tr><th>5</th><td>9</td><td>Havelberg</td><td>Bistum</td></tr><tr><th>6</th><td>10</td><td>Hildesheim</td><td>Bistum</td></tr></tbody></table></div>"
      ],
      "text/latex": [
       "\\begin{tabular}{r|ccc}\n",
       "\t& id & name & diocese\\_status\\\\\n",
       "\t\\hline\n",
       "\t& Int32 & String? & String?\\\\\n",
       "\t\\hline\n",
       "\t1 & 5 & Chiemsee & Bistum \\\\\n",
       "\t2 & 6 & Eichstätt & Bistum \\\\\n",
       "\t3 & 7 & Freising & Bistum \\\\\n",
       "\t4 & 8 & Halberstadt & Bistum \\\\\n",
       "\t5 & 9 & Havelberg & Bistum \\\\\n",
       "\t6 & 10 & Hildesheim & Bistum \\\\\n",
       "\\end{tabular}\n"
      ],
      "text/plain": [
       "\u001b[1m6×3 DataFrame\u001b[0m\n",
       "\u001b[1m Row \u001b[0m│\u001b[1m id    \u001b[0m\u001b[1m name        \u001b[0m\u001b[1m diocese_status \u001b[0m\n",
       "\u001b[1m     \u001b[0m│\u001b[90m Int32 \u001b[0m\u001b[90m String?     \u001b[0m\u001b[90m String?        \u001b[0m\n",
       "─────┼────────────────────────────────────\n",
       "   1 │     5  Chiemsee     Bistum\n",
       "   2 │     6  Eichstätt    Bistum\n",
       "   3 │     7  Freising     Bistum\n",
       "   4 │     8  Halberstadt  Bistum\n",
       "   5 │     9  Havelberg    Bistum\n",
       "   6 │    10  Hildesheim   Bistum"
      ]
     },
     "execution_count": 84,
     "metadata": {},
     "output_type": "execute_result"
    }
   ],
   "source": [
    "df_dioc_db[5:10, [:id, :name, :diocese_status]]"
   ]
  },
  {
   "cell_type": "code",
   "execution_count": 85,
   "metadata": {},
   "outputs": [],
   "source": [
    "select_cols = [\n",
    "    :id,\n",
    "    :diocese => :name,\n",
    "    :note_diocese => :comment,\n",
    "    :ecclesiastical_province,\n",
    "    :diocese_status,\n",
    "    :shapefile,\n",
    "    :bishopric_seat,\n",
    "    :note_bishopric_seat => :comment_bishopric_seat,\n",
    "    :date_of_founding,\n",
    "    :date_of_dissolution,\n",
    "    :comment_authority_file,\n",
    "    :altes_reich => :is_altes_reich,\n",
    "    :diocese_gs => :is_diocese_gs\n",
    "];"
   ]
  },
  {
   "cell_type": "code",
   "execution_count": 94,
   "metadata": {},
   "outputs": [
    {
     "name": "stderr",
     "output_type": "stream",
     "text": [
      "┌ Info: Rows inserted: 79\n",
      "└ @ WiagDataSetup C:\\Users\\Georg\\Documents\\projekte\\WiagDataSetup.jl\\src\\WiagDataSetup.jl:1171\n"
     ]
    },
    {
     "data": {
      "text/plain": [
       "79"
      ]
     },
     "execution_count": 94,
     "metadata": {},
     "output_type": "execute_result"
    }
   ],
   "source": [
    "Wds.filltable!(\"diocese\", select(df_dioc_db, Not([:gatz_pages, :id_in_source, :id_diocese])); clear_table=true)"
   ]
  },
  {
   "cell_type": "markdown",
   "metadata": {},
   "source": [
    "### Externe URLs eintragen"
   ]
  },
  {
   "cell_type": "code",
   "execution_count": 156,
   "metadata": {},
   "outputs": [
    {
     "name": "stdout",
     "output_type": "stream",
     "text": [
      "Passwort für User georg\n",
      "stdin> topf&deckel\n"
     ]
    },
    {
     "data": {
      "text/plain": [
       "MySQL.Connection(host=\"127.0.0.1\", user=\"georg\", port=\"3306\", db=\"wiag2\")"
      ]
     },
     "execution_count": 156,
     "metadata": {},
     "output_type": "execute_result"
    }
   ],
   "source": [
    "Wds.setDBWIAG(user = \"georg\", db = \"wiag2\")"
   ]
  },
  {
   "cell_type": "markdown",
   "metadata": {},
   "source": [
    "Quelle: Tabelle `wiag.id_external_urls_diocese`\n",
    "\n",
    "IDs auslesen"
   ]
  },
  {
   "cell_type": "code",
   "execution_count": 113,
   "metadata": {},
   "outputs": [],
   "source": [
    "sql = \"SELECT id as item_id, source_id FROM ITEM where item_type_id = 1\"\n",
    "df_idx = DBInterface.execute(Wds.dbwiag, sql) |> DataFrame;"
   ]
  },
  {
   "cell_type": "code",
   "execution_count": 128,
   "metadata": {},
   "outputs": [
    {
     "data": {
      "text/plain": [
       "(79, 2)"
      ]
     },
     "execution_count": 128,
     "metadata": {},
     "output_type": "execute_result"
    }
   ],
   "source": [
    "size(df_idx)"
   ]
  },
  {
   "cell_type": "markdown",
   "metadata": {},
   "source": [
    "Daten auslesen"
   ]
  },
  {
   "cell_type": "code",
   "execution_count": 120,
   "metadata": {},
   "outputs": [],
   "source": [
    "sql = \"SELECT diocese_id, \" * \n",
    "    \"comment, \" * \n",
    "    \"url_type_id as authority_id, \" * \n",
    "    \"url_value as value \" *\n",
    "    \"FROM wiag.id_external_urls_diocese\"\n",
    "df_ext_url = DBInterface.execute(Wds.dbwiag, sql) |> DataFrame;"
   ]
  },
  {
   "cell_type": "code",
   "execution_count": 121,
   "metadata": {},
   "outputs": [
    {
     "data": {
      "text/plain": [
       "(519, 4)"
      ]
     },
     "execution_count": 121,
     "metadata": {},
     "output_type": "execute_result"
    }
   ],
   "source": [
    "size(df_ext_url)"
   ]
  },
  {
   "cell_type": "markdown",
   "metadata": {},
   "source": [
    "Spalte für die Zusammenführung befüllen (Typ: String!)"
   ]
  },
  {
   "cell_type": "code",
   "execution_count": 122,
   "metadata": {},
   "outputs": [],
   "source": [
    "df_ext_url[!, :id_in_source] .= string.(df_ext_url[!, :diocese_id]);"
   ]
  },
  {
   "cell_type": "code",
   "execution_count": 150,
   "metadata": {},
   "outputs": [],
   "source": [
    "df_ext_url_db = innerjoin(df_idx, df_ext_url, on = :id_in_source);"
   ]
  },
  {
   "cell_type": "code",
   "execution_count": 151,
   "metadata": {},
   "outputs": [
    {
     "data": {
      "text/plain": [
       "(450, 6)"
      ]
     },
     "execution_count": 151,
     "metadata": {},
     "output_type": "execute_result"
    }
   ],
   "source": [
    "size(df_ext_url_db)"
   ]
  },
  {
   "cell_type": "markdown",
   "metadata": {},
   "source": [
    "In der Quelle gibt es 512 Einträge, aber nur 450 sind einer der 79 Diözesen zuzuordnen."
   ]
  },
  {
   "cell_type": "code",
   "execution_count": 157,
   "metadata": {},
   "outputs": [
    {
     "name": "stderr",
     "output_type": "stream",
     "text": [
      "┌ Info: Rows inserted: 450\n",
      "└ @ WiagDataSetup C:\\Users\\Georg\\Documents\\projekte\\WiagDataSetup.jl\\src\\WiagDataSetup.jl:1171\n"
     ]
    },
    {
     "data": {
      "text/plain": [
       "450"
      ]
     },
     "execution_count": 157,
     "metadata": {},
     "output_type": "execute_result"
    }
   ],
   "source": [
    "Wds.filltable!(\"id_external\", select(df_ext_url_db, Not([:id_in_source, :diocese_id])))"
   ]
  },
  {
   "cell_type": "markdown",
   "metadata": {},
   "source": [
    "### Alternative Namen eintragen\n",
    "\n",
    "Quelle: Tabelle `wiag.alt_label_diocese`\n",
    "\n",
    "IDs auslesen"
   ]
  },
  {
   "cell_type": "code",
   "execution_count": 5,
   "metadata": {},
   "outputs": [],
   "source": [
    "using MySQL, DataFrames"
   ]
  },
  {
   "cell_type": "code",
   "execution_count": 17,
   "metadata": {},
   "outputs": [],
   "source": [
    "sql = \"SELECT id as concept_id, id_in_source FROM ITEM where item_type_id = 1\"\n",
    "df_idx = DBInterface.execute(Wds.dbwiag, sql) |> DataFrame;"
   ]
  },
  {
   "cell_type": "code",
   "execution_count": 176,
   "metadata": {},
   "outputs": [
    {
     "data": {
      "text/plain": [
       "(79, 2)"
      ]
     },
     "execution_count": 176,
     "metadata": {},
     "output_type": "execute_result"
    }
   ],
   "source": [
    "size(df_idx)"
   ]
  },
  {
   "cell_type": "markdown",
   "metadata": {},
   "source": [
    "Name als bevorzugte Bezeichnung/Label eintragen"
   ]
  },
  {
   "cell_type": "code",
   "execution_count": 27,
   "metadata": {},
   "outputs": [],
   "source": [
    "scheme_id = 1\n",
    "sql = \"SELECT id AS concept_id, CONCAT(diocese_status, ' ', name) AS label, $(scheme_id) AS skos_scheme_id, \" *\n",
    "\"'de' AS lang, 1 AS display_order, 1 AS is_preferred \" *\n",
    "\"FROM diocese\"\n",
    "df_dioc_name = DBInterface.execute(Wds.dbwiag, sql) |> DataFrame;"
   ]
  },
  {
   "cell_type": "code",
   "execution_count": 28,
   "metadata": {},
   "outputs": [
    {
     "data": {
      "text/html": [
       "<table class=\"data-frame\"><thead><tr><th></th><th>concept_id</th><th>label</th><th>skos_scheme_id</th><th>lang</th><th>display_order</th><th>is_preferred</th></tr><tr><th></th><th>Int32</th><th>String?</th><th>Int64</th><th>String</th><th>Int64</th><th>Int64</th></tr></thead><tbody><p>5 rows × 6 columns</p><tr><th>1</th><td>1</td><td>Bistum Augsburg</td><td>1</td><td>de</td><td>1</td><td>1</td></tr><tr><th>2</th><td>2</td><td>Bistum Bamberg</td><td>1</td><td>de</td><td>1</td><td>1</td></tr><tr><th>3</th><td>3</td><td>Bistum Brandenburg</td><td>1</td><td>de</td><td>1</td><td>1</td></tr><tr><th>4</th><td>4</td><td>Erzbistum Bremen-Hamburg</td><td>1</td><td>de</td><td>1</td><td>1</td></tr><tr><th>5</th><td>5</td><td>Bistum Chiemsee</td><td>1</td><td>de</td><td>1</td><td>1</td></tr></tbody></table>"
      ],
      "text/latex": [
       "\\begin{tabular}{r|cccccc}\n",
       "\t& concept\\_id & label & skos\\_scheme\\_id & lang & display\\_order & is\\_preferred\\\\\n",
       "\t\\hline\n",
       "\t& Int32 & String? & Int64 & String & Int64 & Int64\\\\\n",
       "\t\\hline\n",
       "\t1 & 1 & Bistum Augsburg & 1 & de & 1 & 1 \\\\\n",
       "\t2 & 2 & Bistum Bamberg & 1 & de & 1 & 1 \\\\\n",
       "\t3 & 3 & Bistum Brandenburg & 1 & de & 1 & 1 \\\\\n",
       "\t4 & 4 & Erzbistum Bremen-Hamburg & 1 & de & 1 & 1 \\\\\n",
       "\t5 & 5 & Bistum Chiemsee & 1 & de & 1 & 1 \\\\\n",
       "\\end{tabular}\n"
      ],
      "text/plain": [
       "\u001b[1m5×6 DataFrame\u001b[0m\n",
       "\u001b[1m Row \u001b[0m│\u001b[1m concept_id \u001b[0m\u001b[1m label                    \u001b[0m\u001b[1m skos_scheme_id \u001b[0m\u001b[1m lang   \u001b[0m\u001b[1m display_o\u001b[0m ⋯\n",
       "\u001b[1m     \u001b[0m│\u001b[90m Int32      \u001b[0m\u001b[90m String?                  \u001b[0m\u001b[90m Int64          \u001b[0m\u001b[90m String \u001b[0m\u001b[90m Int64    \u001b[0m ⋯\n",
       "─────┼──────────────────────────────────────────────────────────────────────────\n",
       "   1 │          1  Bistum Augsburg                        1  de                ⋯\n",
       "   2 │          2  Bistum Bamberg                         1  de\n",
       "   3 │          3  Bistum Brandenburg                     1  de\n",
       "   4 │          4  Erzbistum Bremen-Hamburg               1  de\n",
       "   5 │          5  Bistum Chiemsee                        1  de                ⋯\n",
       "\u001b[36m                                                               2 columns omitted\u001b[0m"
      ]
     },
     "execution_count": 28,
     "metadata": {},
     "output_type": "execute_result"
    }
   ],
   "source": [
    "df_dioc_name[1:5, :]"
   ]
  },
  {
   "cell_type": "code",
   "execution_count": 30,
   "metadata": {},
   "outputs": [
    {
     "data": {
      "text/plain": [
       "6-element Vector{String}:\n",
       " \"concept_id\"\n",
       " \"label\"\n",
       " \"skos_scheme_id\"\n",
       " \"lang\"\n",
       " \"display_order\"\n",
       " \"is_preferred\""
      ]
     },
     "execution_count": 30,
     "metadata": {},
     "output_type": "execute_result"
    }
   ],
   "source": [
    "names(df_dioc_name)"
   ]
  },
  {
   "cell_type": "code",
   "execution_count": 31,
   "metadata": {},
   "outputs": [
    {
     "name": "stderr",
     "output_type": "stream",
     "text": [
      "┌ Info: Rows inserted: 79\n",
      "└ @ WiagDataSetup C:\\Users\\Georg\\Documents\\projekte\\WiagDataSetup.jl\\src\\WiagDataSetup.jl:1171\n"
     ]
    },
    {
     "data": {
      "text/plain": [
       "79"
      ]
     },
     "execution_count": 31,
     "metadata": {},
     "output_type": "execute_result"
    }
   ],
   "source": [
    "Wds.filltable!(\"skos_label\", df_dioc_name)"
   ]
  },
  {
   "cell_type": "markdown",
   "metadata": {},
   "source": [
    "alternative Bezeichnungen/Label einlesen"
   ]
  },
  {
   "cell_type": "code",
   "execution_count": 177,
   "metadata": {},
   "outputs": [],
   "source": [
    "scheme_id = 1\n",
    "sql = \"SELECT diocese_id, \" *\n",
    "string(scheme_id) * \" as skos_scheme_id, \" *\n",
    "\"alt_label_diocese as label, \" *\n",
    "\" lang, \" * \n",
    "\"ressource as note, \" * \n",
    "\"sort as display_order \" *\n",
    "\"FROM wiag.alt_label_diocese\"\n",
    "df_alt_label = DBInterface.execute(Wds.dbwiag, sql) |> DataFrame;"
   ]
  },
  {
   "cell_type": "code",
   "execution_count": 170,
   "metadata": {},
   "outputs": [
    {
     "data": {
      "text/html": [
       "<div class=\"data-frame\"><p>5 rows × 6 columns (omitted printing of 1 columns)</p><table class=\"data-frame\"><thead><tr><th></th><th>diocese_id</th><th>skos_scheme_id</th><th>label</th><th>lang</th><th>note</th></tr><tr><th></th><th title=\"Union{Missing, Int32}\">Int32?</th><th title=\"Int64\">Int64</th><th title=\"Union{Missing, String}\">String?</th><th title=\"Union{Missing, String}\">String?</th><th title=\"Union{Missing, String}\">String?</th></tr></thead><tbody><tr><th>1</th><td>1</td><td>1</td><td>ecclesia Augustana</td><td>la</td><td>Gatz, Die Bistümer des Alten Reiches</td></tr><tr><th>2</th><td>2</td><td>1</td><td>ecclesia Bambergensis</td><td>la</td><td>Gatz, Die Bistümer des Alten Reiches</td></tr><tr><th>3</th><td>3</td><td>1</td><td>ecclesia Brandeburgensis</td><td>la</td><td>Gatz, Die Bistümer des Alten Reiches</td></tr><tr><th>4</th><td>4</td><td>1</td><td>ecclesia Bremensis</td><td>la</td><td>Gatz, Die Bistümer des Alten Reiches</td></tr><tr><th>5</th><td>5</td><td>1</td><td>ecclesia Chiemensis</td><td>la</td><td>Gatz, Die Bistümer des Alten Reiches</td></tr></tbody></table></div>"
      ],
      "text/latex": [
       "\\begin{tabular}{r|cccccc}\n",
       "\t& diocese\\_id & skos\\_scheme\\_id & label & lang & note & \\\\\n",
       "\t\\hline\n",
       "\t& Int32? & Int64 & String? & String? & String? & \\\\\n",
       "\t\\hline\n",
       "\t1 & 1 & 1 & ecclesia Augustana & la & Gatz, Die Bistümer des Alten Reiches & $\\dots$ \\\\\n",
       "\t2 & 2 & 1 & ecclesia Bambergensis & la & Gatz, Die Bistümer des Alten Reiches & $\\dots$ \\\\\n",
       "\t3 & 3 & 1 & ecclesia Brandeburgensis & la & Gatz, Die Bistümer des Alten Reiches & $\\dots$ \\\\\n",
       "\t4 & 4 & 1 & ecclesia Bremensis & la & Gatz, Die Bistümer des Alten Reiches & $\\dots$ \\\\\n",
       "\t5 & 5 & 1 & ecclesia Chiemensis & la & Gatz, Die Bistümer des Alten Reiches & $\\dots$ \\\\\n",
       "\\end{tabular}\n"
      ],
      "text/plain": [
       "\u001b[1m5×6 DataFrame\u001b[0m\n",
       "\u001b[1m Row \u001b[0m│\u001b[1m diocese_id \u001b[0m\u001b[1m skos_scheme_id \u001b[0m\u001b[1m label                    \u001b[0m\u001b[1m lang    \u001b[0m\u001b[1m note    \u001b[0m ⋯\n",
       "\u001b[1m     \u001b[0m│\u001b[90m Int32?     \u001b[0m\u001b[90m Int64          \u001b[0m\u001b[90m String?                  \u001b[0m\u001b[90m String? \u001b[0m\u001b[90m String? \u001b[0m ⋯\n",
       "─────┼──────────────────────────────────────────────────────────────────────────\n",
       "   1 │          1               1  ecclesia Augustana        la       Gatz, Di ⋯\n",
       "   2 │          2               1  ecclesia Bambergensis     la       Gatz, Di\n",
       "   3 │          3               1  ecclesia Brandeburgensis  la       Gatz, Di\n",
       "   4 │          4               1  ecclesia Bremensis        la       Gatz, Di\n",
       "   5 │          5               1  ecclesia Chiemensis       la       Gatz, Di ⋯\n",
       "\u001b[36m                                                               2 columns omitted\u001b[0m"
      ]
     },
     "execution_count": 170,
     "metadata": {},
     "output_type": "execute_result"
    }
   ],
   "source": [
    "first(df_alt_label, 5)"
   ]
  },
  {
   "cell_type": "markdown",
   "metadata": {},
   "source": [
    "Spalte für die Zusammenführung befüllen (Typ: String!)"
   ]
  },
  {
   "cell_type": "code",
   "execution_count": 179,
   "metadata": {},
   "outputs": [],
   "source": [
    "df_alt_label[!, :id_in_source] .= string.(df_alt_label[!, :diocese_id]);"
   ]
  },
  {
   "cell_type": "code",
   "execution_count": 180,
   "metadata": {},
   "outputs": [],
   "source": [
    "df_alt_label_db = innerjoin(df_idx, df_alt_label, on = :id_in_source);"
   ]
  },
  {
   "cell_type": "code",
   "execution_count": 181,
   "metadata": {},
   "outputs": [
    {
     "data": {
      "text/html": [
       "<div class=\"data-frame\"><p>7 rows × 8 columns (omitted printing of 2 columns)</p><table class=\"data-frame\"><thead><tr><th></th><th>concept_id</th><th>source_id</th><th>diocese_id</th><th>skos_scheme_id</th><th>label</th><th>lang</th></tr><tr><th></th><th title=\"Int32\">Int32</th><th title=\"Union{Missing, String}\">String?</th><th title=\"Union{Missing, Int32}\">Int32?</th><th title=\"Int64\">Int64</th><th title=\"Union{Missing, String}\">String?</th><th title=\"Union{Missing, String}\">String?</th></tr></thead><tbody><tr><th>1</th><td>17</td><td>17</td><td>17</td><td>1</td><td>ecclesia Misnensis</td><td>la</td></tr><tr><th>2</th><td>18</td><td>18</td><td>18</td><td>1</td><td>ecclesia Merseburgensis</td><td>la</td></tr><tr><th>3</th><td>19</td><td>19</td><td>19</td><td>1</td><td>ecclesia Mindensis</td><td>la</td></tr><tr><th>4</th><td>20</td><td>20</td><td>20</td><td>1</td><td>ecclesia Monasteriensis</td><td>la</td></tr><tr><th>5</th><td>21</td><td>21</td><td>21</td><td>1</td><td>ecclesia Nuemburgensis</td><td>la</td></tr><tr><th>6</th><td>22</td><td>22</td><td>22</td><td>1</td><td>ecclesia Osnabrugensis</td><td>la</td></tr><tr><th>7</th><td>23</td><td>23</td><td>23</td><td>1</td><td>ecclesia Paderbornensis</td><td>la</td></tr></tbody></table></div>"
      ],
      "text/latex": [
       "\\begin{tabular}{r|ccccccc}\n",
       "\t& concept\\_id & source\\_id & diocese\\_id & skos\\_scheme\\_id & label & lang & \\\\\n",
       "\t\\hline\n",
       "\t& Int32 & String? & Int32? & Int64 & String? & String? & \\\\\n",
       "\t\\hline\n",
       "\t1 & 17 & 17 & 17 & 1 & ecclesia Misnensis & la & $\\dots$ \\\\\n",
       "\t2 & 18 & 18 & 18 & 1 & ecclesia Merseburgensis & la & $\\dots$ \\\\\n",
       "\t3 & 19 & 19 & 19 & 1 & ecclesia Mindensis & la & $\\dots$ \\\\\n",
       "\t4 & 20 & 20 & 20 & 1 & ecclesia Monasteriensis & la & $\\dots$ \\\\\n",
       "\t5 & 21 & 21 & 21 & 1 & ecclesia Nuemburgensis & la & $\\dots$ \\\\\n",
       "\t6 & 22 & 22 & 22 & 1 & ecclesia Osnabrugensis & la & $\\dots$ \\\\\n",
       "\t7 & 23 & 23 & 23 & 1 & ecclesia Paderbornensis & la & $\\dots$ \\\\\n",
       "\\end{tabular}\n"
      ],
      "text/plain": [
       "\u001b[1m7×8 DataFrame\u001b[0m\n",
       "\u001b[1m Row \u001b[0m│\u001b[1m concept_id \u001b[0m\u001b[1m source_id \u001b[0m\u001b[1m diocese_id \u001b[0m\u001b[1m skos_scheme_id \u001b[0m\u001b[1m label               \u001b[0m ⋯\n",
       "\u001b[1m     \u001b[0m│\u001b[90m Int32      \u001b[0m\u001b[90m String?   \u001b[0m\u001b[90m Int32?     \u001b[0m\u001b[90m Int64          \u001b[0m\u001b[90m String?             \u001b[0m ⋯\n",
       "─────┼──────────────────────────────────────────────────────────────────────────\n",
       "   1 │         17  17                 17               1  ecclesia Misnensis   ⋯\n",
       "   2 │         18  18                 18               1  ecclesia Merseburgen\n",
       "   3 │         19  19                 19               1  ecclesia Mindensis\n",
       "   4 │         20  20                 20               1  ecclesia Monasterien\n",
       "   5 │         21  21                 21               1  ecclesia Nuemburgens ⋯\n",
       "   6 │         22  22                 22               1  ecclesia Osnabrugens\n",
       "   7 │         23  23                 23               1  ecclesia Paderbornen\n",
       "\u001b[36m                                                               4 columns omitted\u001b[0m"
      ]
     },
     "execution_count": 181,
     "metadata": {},
     "output_type": "execute_result"
    }
   ],
   "source": [
    "df_alt_label_db[17:23, :]"
   ]
  },
  {
   "cell_type": "code",
   "execution_count": 182,
   "metadata": {},
   "outputs": [
    {
     "data": {
      "text/plain": [
       "8-element Vector{String}:\n",
       " \"concept_id\"\n",
       " \"source_id\"\n",
       " \"diocese_id\"\n",
       " \"skos_scheme_id\"\n",
       " \"label\"\n",
       " \"lang\"\n",
       " \"note\"\n",
       " \"display_order\""
      ]
     },
     "execution_count": 182,
     "metadata": {},
     "output_type": "execute_result"
    }
   ],
   "source": [
    "names(df_alt_label_db)"
   ]
  },
  {
   "cell_type": "code",
   "execution_count": 184,
   "metadata": {},
   "outputs": [
    {
     "name": "stderr",
     "output_type": "stream",
     "text": [
      "┌ Info: Rows inserted: 486\n",
      "└ @ WiagDataSetup C:\\Users\\Georg\\Documents\\projekte\\WiagDataSetup.jl\\src\\WiagDataSetup.jl:1171\n"
     ]
    },
    {
     "data": {
      "text/plain": [
       "486"
      ]
     },
     "execution_count": 184,
     "metadata": {},
     "output_type": "execute_result"
    }
   ],
   "source": [
    "Wds.filltable!(\"skos_label\", select(df_alt_label_db, Not([:id_in_source, :diocese_id])))"
   ]
  },
  {
   "cell_type": "markdown",
   "metadata": {},
   "source": [
    "In der Quelle gibt es 521 Einträge, aber nur 486 sind einer der 79 Diözesen zuzuordnen."
   ]
  },
  {
   "cell_type": "markdown",
   "metadata": {},
   "source": [
    "### Bischofssitze zuordnen\n",
    "\n",
    "Die Ortsdaten werden bezogen von GeoNames (siehe Strukturdaten). Die Bischofssitze werden anhand der Koordinaten in der bestehenden Ortstabelle den Orten in der neuen Tabelle `place` zugeordnet.\n",
    "\n",
    "Package: https://github.com/KristofferC/NearestNeighbors.jl"
   ]
  },
  {
   "cell_type": "code",
   "execution_count": 11,
   "metadata": {},
   "outputs": [],
   "source": [
    "using NearestNeighbors, MySQL, CSV, DataFrames"
   ]
  },
  {
   "cell_type": "code",
   "execution_count": 15,
   "metadata": {},
   "outputs": [
    {
     "name": "stdout",
     "output_type": "stream",
     "text": [
      "Passwort für User georg\n",
      "stdin> topf&deckel\n"
     ]
    },
    {
     "data": {
      "text/plain": [
       "MySQL.Connection(host=\"127.0.0.1\", user=\"georg\", port=\"3306\", db=\"wiag2\")"
      ]
     },
     "execution_count": 15,
     "metadata": {},
     "output_type": "execute_result"
    }
   ],
   "source": [
    "Wds.setDBWIAG(user=\"georg\", db=\"wiag2\")"
   ]
  },
  {
   "cell_type": "code",
   "execution_count": 28,
   "metadata": {},
   "outputs": [],
   "source": [
    "sql = \"SELECT id, name as new_name, population, longitude, latitude \" *\n",
    "\"FROM place\"\n",
    "df_coo = DBInterface.execute(Wds.dbwiag, sql) |> DataFrame;"
   ]
  },
  {
   "cell_type": "code",
   "execution_count": 29,
   "metadata": {},
   "outputs": [
    {
     "data": {
      "text/html": [
       "<div class=\"data-frame\"><p>6 rows × 5 columns</p><table class=\"data-frame\"><thead><tr><th></th><th>id</th><th>new_name</th><th>population</th><th>longitude</th><th>latitude</th></tr><tr><th></th><th title=\"Int32\">Int32</th><th title=\"Union{Missing, String}\">String?</th><th title=\"Union{Missing, Int32}\">Int32?</th><th title=\"Union{Missing, DecFP.Dec64}\">Dec64…?</th><th title=\"Union{Missing, DecFP.Dec64}\">Dec64…?</th></tr></thead><tbody><tr><th>1</th><td>350343</td><td>Zabitz</td><td>0</td><td>11.71533</td><td>51.60745</td></tr><tr><th>2</th><td>350344</td><td>Zabitz</td><td>549</td><td>11.92419</td><td>51.78503</td></tr><tr><th>3</th><td>350345</td><td>Zach</td><td>0</td><td>11.46667</td><td>47.6</td></tr><tr><th>4</th><td>350346</td><td>Zachariae</td><td>0</td><td>13.08049</td><td>53.88519</td></tr><tr><th>5</th><td>350347</td><td>Zachenberg</td><td>2173</td><td>13.0</td><td>48.96667</td></tr><tr><th>6</th><td>350348</td><td>Zachenöd</td><td>0</td><td>12.8365</td><td>48.5852</td></tr></tbody></table></div>"
      ],
      "text/latex": [
       "\\begin{tabular}{r|ccccc}\n",
       "\t& id & new\\_name & population & longitude & latitude\\\\\n",
       "\t\\hline\n",
       "\t& Int32 & String? & Int32? & Dec64…? & Dec64…?\\\\\n",
       "\t\\hline\n",
       "\t1 & 350343 & Zabitz & 0 & 11.71533 & 51.60745 \\\\\n",
       "\t2 & 350344 & Zabitz & 549 & 11.92419 & 51.78503 \\\\\n",
       "\t3 & 350345 & Zach & 0 & 11.46667 & 47.6 \\\\\n",
       "\t4 & 350346 & Zachariae & 0 & 13.08049 & 53.88519 \\\\\n",
       "\t5 & 350347 & Zachenberg & 2173 & 13.0 & 48.96667 \\\\\n",
       "\t6 & 350348 & Zachenöd & 0 & 12.8365 & 48.5852 \\\\\n",
       "\\end{tabular}\n"
      ],
      "text/plain": [
       "\u001b[1m6×5 DataFrame\u001b[0m\n",
       "\u001b[1m Row \u001b[0m│\u001b[1m id     \u001b[0m\u001b[1m new_name   \u001b[0m\u001b[1m population \u001b[0m\u001b[1m longitude \u001b[0m\u001b[1m latitude \u001b[0m\n",
       "\u001b[1m     \u001b[0m│\u001b[90m Int32  \u001b[0m\u001b[90m String?    \u001b[0m\u001b[90m Int32?     \u001b[0m\u001b[90m Dec64…?   \u001b[0m\u001b[90m Dec64…?  \u001b[0m\n",
       "─────┼─────────────────────────────────────────────────────\n",
       "   1 │ 350343  Zabitz               0   11.71533  51.60745\n",
       "   2 │ 350344  Zabitz             549   11.92419  51.78503\n",
       "   3 │ 350345  Zach                 0   11.46667  47.6\n",
       "   4 │ 350346  Zachariae            0   13.08049  53.88519\n",
       "   5 │ 350347  Zachenberg        2173   13.0      48.96667\n",
       "   6 │ 350348  Zachenöd             0   12.8365   48.5852"
      ]
     },
     "execution_count": 29,
     "metadata": {},
     "output_type": "execute_result"
    }
   ],
   "source": [
    "df_coo[10:15, :]"
   ]
  },
  {
   "cell_type": "code",
   "execution_count": 30,
   "metadata": {},
   "outputs": [],
   "source": [
    "data_coo = transpose(hcat(df_coo[!, :longitude], df_coo[!, :latitude]));"
   ]
  },
  {
   "cell_type": "code",
   "execution_count": 31,
   "metadata": {},
   "outputs": [
    {
     "data": {
      "text/plain": [
       "BallTree{StaticArrays.SVector{2, DecFP.Dec64}, 2, DecFP.Dec64, Euclidean}\n",
       "  Number of points: 391240\n",
       "  Dimensions: 2\n",
       "  Metric: Euclidean(0.0)\n",
       "  Reordered: true"
      ]
     },
     "execution_count": 31,
     "metadata": {},
     "output_type": "execute_result"
    }
   ],
   "source": [
    "nn_tree = BallTree(data_coo)"
   ]
  },
  {
   "cell_type": "markdown",
   "metadata": {},
   "source": [
    "Suche nach einem nächsten Nachbarn testen"
   ]
  },
  {
   "cell_type": "code",
   "execution_count": 23,
   "metadata": {},
   "outputs": [
    {
     "data": {
      "text/html": [
       "<p>DataFrameRow (4 columns)</p><div class=\"data-frame\"><table class=\"data-frame\"><thead><tr><th></th><th>id</th><th>new_name</th><th>longitude</th><th>latitude</th></tr><tr><th></th><th title=\"Int32\">Int32</th><th title=\"Union{Missing, String}\">String?</th><th title=\"Union{Missing, DecFP.Dec64}\">Dec64…?</th><th title=\"Union{Missing, DecFP.Dec64}\">Dec64…?</th></tr></thead><tbody><tr><th>137</th><td>350470</td><td>Zauppenberg</td><td>11.37942</td><td>49.82023</td></tr></tbody></table></div>"
      ],
      "text/latex": [
       "\\begin{tabular}{r|cccc}\n",
       "\t& id & new\\_name & longitude & latitude\\\\\n",
       "\t\\hline\n",
       "\t& Int32 & String? & Dec64…? & Dec64…?\\\\\n",
       "\t\\hline\n",
       "\t137 & 350470 & Zauppenberg & 11.37942 & 49.82023 \\\\\n",
       "\\end{tabular}\n"
      ],
      "text/plain": [
       "\u001b[1mDataFrameRow\u001b[0m\n",
       "\u001b[1m Row \u001b[0m│\u001b[1m id     \u001b[0m\u001b[1m new_name    \u001b[0m\u001b[1m longitude \u001b[0m\u001b[1m latitude \u001b[0m\n",
       "\u001b[1m     \u001b[0m│\u001b[90m Int32  \u001b[0m\u001b[90m String?     \u001b[0m\u001b[90m Dec64…?   \u001b[0m\u001b[90m Dec64…?  \u001b[0m\n",
       "─────┼──────────────────────────────────────────\n",
       " 137 │ 350470  Zauppenberg   11.37942  49.82023"
      ]
     },
     "execution_count": 23,
     "metadata": {},
     "output_type": "execute_result"
    }
   ],
   "source": [
    "df_coo[137, :]"
   ]
  },
  {
   "cell_type": "code",
   "execution_count": 25,
   "metadata": {},
   "outputs": [
    {
     "data": {
      "text/plain": [
       "(137, 0.005262062333344218)"
      ]
     },
     "execution_count": 25,
     "metadata": {},
     "output_type": "execute_result"
    }
   ],
   "source": [
    "NearestNeighbors.nn(nn_tree, [11.38, 49.815])"
   ]
  },
  {
   "cell_type": "markdown",
   "metadata": {},
   "source": [
    "Diözesen mit den zugeordneten Bischofssitzen samt Koordinaten auslesen.\n",
    "\n",
    "Quelle: `wiag2.diocese` und `wiag.place`"
   ]
  },
  {
   "cell_type": "code",
   "execution_count": 20,
   "metadata": {},
   "outputs": [],
   "source": [
    "sql = \"SELECT item.id, id_in_source, \" * \n",
    "    \"d1.diocese as name, d1.bishopric_seat as bs_source, \" * \n",
    "    \"p.place_name, p.longitude, p.latitude \" *\n",
    "    \"FROM item \" * \n",
    "    \"JOIN wiag.diocese as d1 ON item.id_in_source = d1.id_diocese \" *\n",
    "    \"JOIN wiag.place as p ON d1.bishopric_seat = p.id_places\";\n",
    "df_map = DBInterface.execute(Wds.dbwiag, sql) |> DataFrame;"
   ]
  },
  {
   "cell_type": "code",
   "execution_count": 21,
   "metadata": {},
   "outputs": [
    {
     "data": {
      "text/plain": [
       "(78, 7)"
      ]
     },
     "execution_count": 21,
     "metadata": {},
     "output_type": "execute_result"
    }
   ],
   "source": [
    "size(df_map)"
   ]
  },
  {
   "cell_type": "markdown",
   "metadata": {},
   "source": [
    "Für das Bistum 'Nordische Missionen' gibt es keine Angabe zum Bischofssitz."
   ]
  },
  {
   "cell_type": "markdown",
   "metadata": {},
   "source": [
    "Koordinaten in Zahlen umwandeln"
   ]
  },
  {
   "cell_type": "code",
   "execution_count": 22,
   "metadata": {},
   "outputs": [],
   "source": [
    "df_map[!, :num_longitude] .= parse.(Float64, df_map[!, :longitude]);"
   ]
  },
  {
   "cell_type": "code",
   "execution_count": 23,
   "metadata": {},
   "outputs": [],
   "source": [
    "df_map[!, :num_latitude] .= parse.(Float64, df_map[!, :latitude]);"
   ]
  },
  {
   "cell_type": "code",
   "execution_count": 24,
   "metadata": {},
   "outputs": [],
   "source": [
    "df_map[!, :new_place_id] .= 0;"
   ]
  },
  {
   "cell_type": "code",
   "execution_count": 25,
   "metadata": {},
   "outputs": [
    {
     "data": {
      "text/plain": [
       "10-element Vector{String}:\n",
       " \"id\"\n",
       " \"id_in_source\"\n",
       " \"name\"\n",
       " \"bs_source\"\n",
       " \"place_name\"\n",
       " \"longitude\"\n",
       " \"latitude\"\n",
       " \"num_longitude\"\n",
       " \"num_latitude\"\n",
       " \"new_place_id\""
      ]
     },
     "execution_count": 25,
     "metadata": {},
     "output_type": "execute_result"
    }
   ],
   "source": [
    "names(df_map)"
   ]
  },
  {
   "cell_type": "markdown",
   "metadata": {},
   "source": [
    "Finde für die Ortsangaben zum Bischofssitz einer Diözese den nächstgelegenen Ort unter den Orten aus GeoNames."
   ]
  },
  {
   "cell_type": "code",
   "execution_count": 26,
   "metadata": {},
   "outputs": [
    {
     "data": {
      "text/html": [
       "<p>DataFrameRow (10 columns)</p><div class=\"data-frame\"><table class=\"data-frame\"><thead><tr><th></th><th>id</th><th>id_in_source</th><th>name</th><th>bs_source</th><th>place_name</th><th>longitude</th><th>latitude</th></tr><tr><th></th><th title=\"Int32\">Int32</th><th title=\"Union{Missing, String}\">String?</th><th title=\"Union{Missing, String}\">String?</th><th title=\"Int32\">Int32</th><th title=\"Union{Missing, String}\">String?</th><th title=\"Union{Missing, String}\">String?</th><th title=\"Union{Missing, String}\">String?</th></tr></thead><tbody><tr><th>17</th><td>17</td><td>17</td><td>Meißen</td><td>40867</td><td>Meißen</td><td>8.9505</td><td>52.2688333333333</td></tr></tbody></table></div>"
      ],
      "text/latex": [
       "\\begin{tabular}{r|cccccccc}\n",
       "\t& id & id\\_in\\_source & name & bs\\_source & place\\_name & longitude & latitude & \\\\\n",
       "\t\\hline\n",
       "\t& Int32 & String? & String? & Int32 & String? & String? & String? & \\\\\n",
       "\t\\hline\n",
       "\t17 & 17 & 17 & Meißen & 40867 & Meißen & 8.9505 & 52.2688333333333 & $\\dots$ \\\\\n",
       "\\end{tabular}\n"
      ],
      "text/plain": [
       "\u001b[1mDataFrameRow\u001b[0m\n",
       "\u001b[1m Row \u001b[0m│\u001b[1m id    \u001b[0m\u001b[1m id_in_source \u001b[0m\u001b[1m name    \u001b[0m\u001b[1m bs_source \u001b[0m\u001b[1m place_name \u001b[0m\u001b[1m longitude \u001b[0m\u001b[1m latitud\u001b[0m ⋯\n",
       "\u001b[1m     \u001b[0m│\u001b[90m Int32 \u001b[0m\u001b[90m String?      \u001b[0m\u001b[90m String? \u001b[0m\u001b[90m Int32     \u001b[0m\u001b[90m String?    \u001b[0m\u001b[90m String?   \u001b[0m\u001b[90m String?\u001b[0m ⋯\n",
       "─────┼──────────────────────────────────────────────────────────────────────────\n",
       "  17 │    17  17            Meißen       40867  Meißen      8.9505     52.2688 ⋯\n",
       "\u001b[36m                                                               4 columns omitted\u001b[0m"
      ]
     },
     "execution_count": 26,
     "metadata": {},
     "output_type": "execute_result"
    }
   ],
   "source": [
    "rq = df_map[17, :]"
   ]
  },
  {
   "cell_type": "code",
   "execution_count": 32,
   "metadata": {},
   "outputs": [
    {
     "data": {
      "text/html": [
       "<div class=\"data-frame\"><p>1 rows × 5 columns</p><table class=\"data-frame\"><thead><tr><th></th><th>id</th><th>new_name</th><th>population</th><th>longitude</th><th>latitude</th></tr><tr><th></th><th title=\"Int32\">Int32</th><th title=\"Union{Missing, String}\">String?</th><th title=\"Union{Missing, Int32}\">Int32?</th><th title=\"Union{Missing, DecFP.Dec64}\">Dec64…?</th><th title=\"Union{Missing, DecFP.Dec64}\">Dec64…?</th></tr></thead><tbody><tr><th>1</th><td>384390</td><td>Meißen</td><td>0</td><td>8.95489</td><td>52.26984</td></tr></tbody></table></div>"
      ],
      "text/latex": [
       "\\begin{tabular}{r|ccccc}\n",
       "\t& id & new\\_name & population & longitude & latitude\\\\\n",
       "\t\\hline\n",
       "\t& Int32 & String? & Int32? & Dec64…? & Dec64…?\\\\\n",
       "\t\\hline\n",
       "\t1 & 384390 & Meißen & 0 & 8.95489 & 52.26984 \\\\\n",
       "\\end{tabular}\n"
      ],
      "text/plain": [
       "\u001b[1m1×5 DataFrame\u001b[0m\n",
       "\u001b[1m Row \u001b[0m│\u001b[1m id     \u001b[0m\u001b[1m new_name \u001b[0m\u001b[1m population \u001b[0m\u001b[1m longitude \u001b[0m\u001b[1m latitude \u001b[0m\n",
       "\u001b[1m     \u001b[0m│\u001b[90m Int32  \u001b[0m\u001b[90m String?  \u001b[0m\u001b[90m Int32?     \u001b[0m\u001b[90m Dec64…?   \u001b[0m\u001b[90m Dec64…?  \u001b[0m\n",
       "─────┼───────────────────────────────────────────────────\n",
       "   1 │ 384390  Meißen             0    8.95489  52.26984"
      ]
     },
     "execution_count": 32,
     "metadata": {},
     "output_type": "execute_result"
    }
   ],
   "source": [
    "name = rq[:name]\n",
    "df_coo_loop = filter(:new_name => isequal(name), df_coo)"
   ]
  },
  {
   "cell_type": "code",
   "execution_count": 55,
   "metadata": {},
   "outputs": [
    {
     "data": {
      "text/plain": [
       "2-element Vector{String}:\n",
       " \"8.9505\"\n",
       " \"52.2688333333333\""
      ]
     },
     "execution_count": 55,
     "metadata": {},
     "output_type": "execute_result"
    }
   ],
   "source": [
    "coo = collect(rq[[:longitude, :latitude]])"
   ]
  },
  {
   "cell_type": "markdown",
   "metadata": {},
   "source": [
    "Suche einen Ort gleichen Namens. Prüfe, ob der Ort in der Nähe liegt. In GeoNames sind manche Orte nur mit ihrem englischen Namen hinterlegt. Wenn es mehrere Treffer gibt, wähle den nächstgelegenen Ort.\n",
    "\n",
    "Weise dem Feld `bishpric_seat` die ID aus der Tabelle `place` zu."
   ]
  },
  {
   "cell_type": "code",
   "execution_count": 35,
   "metadata": {},
   "outputs": [
    {
     "data": {
      "text/plain": [
       "find_dioc_place (generic function with 1 method)"
      ]
     },
     "execution_count": 35,
     "metadata": {},
     "output_type": "execute_result"
    }
   ],
   "source": [
    "using LinearAlgebra\n",
    "function find_dioc_place(row)\n",
    "    name = row[:name]\n",
    "    df_coo_loop = filter(:new_name => isequal(name), df_coo)\n",
    "    n_match = size(df_coo_loop, 1)\n",
    "    id_place = 0\n",
    "    coo = collect(row[[:num_longitude, :num_latitude]])\n",
    "    if n_match == 0\n",
    "        @warn \"Kein Treffer für \" * string(row[:id]) * \" \" * row[:name]\n",
    "    elseif n_match == 1\n",
    "        coo_place = collect(df_coo_loop[1, [:longitude, :latitude]])\n",
    "        coo_delta = coo .- coo_place\n",
    "        dist = norm(coo_delta)\n",
    "        if dist > 0.05\n",
    "            @warn \"großer Abstand \" * string(dist) * \" für \" * string(row[:id]) * \" \" * row[:name]\n",
    "        end            \n",
    "        id_place = df_coo_loop[1, :id]\n",
    "    else\n",
    "        \n",
    "        data_coo_loop = transpose(hcat(df_coo_loop[!, :longitude], df_coo_loop[!, :latitude]));\n",
    "        tree_loop = NearestNeighbors.BallTree(data_coo_loop)\n",
    "        idx, dist = NearestNeighbors.nn(tree_loop, coo)\n",
    "        id_place = df_coo_loop[idx, :id]\n",
    "    end    \n",
    "    # println(id_place)\n",
    "    return id_place\n",
    "end"
   ]
  },
  {
   "cell_type": "code",
   "execution_count": 36,
   "metadata": {},
   "outputs": [
    {
     "name": "stderr",
     "output_type": "stream",
     "text": [
      "┌ Warning: Kein Treffer für 4 Bremen-Hamburg\n",
      "└ @ Main In[35]:9\n",
      "┌ Warning: Kein Treffer für 36 Lüttich\n",
      "└ @ Main In[35]:9\n",
      "┌ Warning: Kein Treffer für 38 Breslau\n",
      "└ @ Main In[35]:9\n",
      "┌ Warning: Kein Treffer für 39 Brixen\n",
      "└ @ Main In[35]:9\n",
      "┌ Warning: Kein Treffer für 47 Leitmeritz\n",
      "└ @ Main In[35]:9\n",
      "┌ Warning: Kein Treffer für 49 Olmütz\n",
      "└ @ Main In[35]:9\n",
      "┌ Warning: großer Abstand 1.468088191811718 für 51 Straßburg\n",
      "└ @ Main In[35]:15\n",
      "┌ Warning: großer Abstand 4.122726152202933 für 52 Trient\n",
      "└ @ Main In[35]:15\n",
      "┌ Warning: Kein Treffer für 54 Wien\n",
      "└ @ Main In[35]:9\n",
      "┌ Warning: Kein Treffer für 57 Pomesanien\n",
      "└ @ Main In[35]:9\n",
      "┌ Warning: Kein Treffer für 59 Samland\n",
      "└ @ Main In[35]:9\n",
      "┌ Warning: Kein Treffer für 60 Ermland\n",
      "└ @ Main In[35]:9\n",
      "┌ Warning: Kein Treffer für 63 Reval\n",
      "└ @ Main In[35]:9\n",
      "┌ Warning: Kein Treffer für 67 Ösel-Wiek\n",
      "└ @ Main In[35]:9\n",
      "┌ Warning: Kein Treffer für 69 Kurland\n",
      "└ @ Main In[35]:9\n",
      "┌ Warning: Kein Treffer für 71 Pedena\n",
      "└ @ Main In[35]:9\n",
      "┌ Warning: Kein Treffer für 72 Leitomischl\n",
      "└ @ Main In[35]:9\n",
      "┌ Warning: Kein Treffer für 73 Semgallen\n",
      "└ @ Main In[35]:9\n",
      "┌ Warning: Kein Treffer für 74 Budweis\n",
      "└ @ Main In[35]:9\n",
      "┌ Warning: Kein Treffer für 75 Corvey\n",
      "└ @ Main In[35]:9\n",
      "┌ Warning: Kein Treffer für 76 Dorpat\n",
      "└ @ Main In[35]:9\n",
      "┌ Warning: Kein Treffer für 77 Görz\n",
      "└ @ Main In[35]:9\n",
      "┌ Warning: Kein Treffer für 78 Königgrätz\n",
      "└ @ Main In[35]:9\n"
     ]
    }
   ],
   "source": [
    "for (i, row) in enumerate(eachrow(df_map))\n",
    "    df_map[i, :new_place_id] = find_dioc_place(row)\n",
    "end"
   ]
  },
  {
   "cell_type": "code",
   "execution_count": 93,
   "metadata": {},
   "outputs": [
    {
     "data": {
      "text/plain": [
       "9-element Vector{String}:\n",
       " \"id\"\n",
       " \"name\"\n",
       " \"bishopric_seat\"\n",
       " \"place_name\"\n",
       " \"longitude\"\n",
       " \"latitude\"\n",
       " \"num_longitude\"\n",
       " \"num_latitude\"\n",
       " \"new_place_id\""
      ]
     },
     "execution_count": 93,
     "metadata": {},
     "output_type": "execute_result"
    }
   ],
   "source": [
    "names(df_map)"
   ]
  },
  {
   "cell_type": "code",
   "execution_count": 165,
   "metadata": {},
   "outputs": [],
   "source": [
    "df_map_name = leftjoin(select(df_map, Not([:longitude, :latitude])), df_coo, on = :new_place_id => :id);"
   ]
  },
  {
   "cell_type": "code",
   "execution_count": 166,
   "metadata": {},
   "outputs": [
    {
     "data": {
      "text/html": [
       "<div class=\"data-frame\"><p>21 rows × 4 columns</p><table class=\"data-frame\"><thead><tr><th></th><th>id</th><th>name</th><th>place_name</th><th>new_name</th></tr><tr><th></th><th title=\"Int32\">Int32</th><th title=\"Union{Missing, String}\">String?</th><th title=\"Union{Missing, String}\">String?</th><th title=\"Union{Missing, String}\">String?</th></tr></thead><tbody><tr><th>1</th><td>4</td><td>Bremen-Hamburg</td><td>Bremen</td><td><em>missing</em></td></tr><tr><th>2</th><td>36</td><td>Lüttich</td><td>Lüttich (Liège)</td><td><em>missing</em></td></tr><tr><th>3</th><td>38</td><td>Breslau</td><td>Breslau</td><td><em>missing</em></td></tr><tr><th>4</th><td>39</td><td>Brixen</td><td>Brixen</td><td><em>missing</em></td></tr><tr><th>5</th><td>47</td><td>Leitmeritz</td><td>Leitmeritz (Litoměřice)</td><td><em>missing</em></td></tr><tr><th>6</th><td>49</td><td>Olmütz</td><td>Olmütz</td><td><em>missing</em></td></tr><tr><th>7</th><td>54</td><td>Wien</td><td>Wien</td><td><em>missing</em></td></tr><tr><th>8</th><td>57</td><td>Pomesanien</td><td>Marienwerder (Kwidzyn)</td><td><em>missing</em></td></tr><tr><th>9</th><td>59</td><td>Samland</td><td>Königsberg (Kaliningrad)</td><td><em>missing</em></td></tr><tr><th>10</th><td>60</td><td>Ermland</td><td>Braunsberg (Braniewo)</td><td><em>missing</em></td></tr><tr><th>11</th><td>63</td><td>Reval</td><td>Tallinn (Reval)</td><td><em>missing</em></td></tr><tr><th>12</th><td>67</td><td>Ösel-Wiek</td><td>Hapsal</td><td><em>missing</em></td></tr><tr><th>13</th><td>69</td><td>Kurland</td><td>Hasenpoth (Aizpute)</td><td><em>missing</em></td></tr><tr><th>14</th><td>71</td><td>Pedena</td><td>Pedena (Pićan)</td><td><em>missing</em></td></tr><tr><th>15</th><td>72</td><td>Leitomischl</td><td>Litomyšl</td><td><em>missing</em></td></tr><tr><th>16</th><td>73</td><td>Semgallen</td><td>Mesothen (Mežotne)</td><td><em>missing</em></td></tr><tr><th>17</th><td>74</td><td>Budweis</td><td>Budweis</td><td><em>missing</em></td></tr><tr><th>18</th><td>75</td><td>Corvey</td><td>Corvey</td><td><em>missing</em></td></tr><tr><th>19</th><td>76</td><td>Dorpat</td><td>Dorpat</td><td><em>missing</em></td></tr><tr><th>20</th><td>77</td><td>Görz</td><td>Gorizia</td><td><em>missing</em></td></tr><tr><th>21</th><td>78</td><td>Königgrätz</td><td>Königgrätz</td><td><em>missing</em></td></tr></tbody></table></div>"
      ],
      "text/latex": [
       "\\begin{tabular}{r|cccc}\n",
       "\t& id & name & place\\_name & new\\_name\\\\\n",
       "\t\\hline\n",
       "\t& Int32 & String? & String? & String?\\\\\n",
       "\t\\hline\n",
       "\t1 & 4 & Bremen-Hamburg & Bremen & \\emph{missing} \\\\\n",
       "\t2 & 36 & Lüttich & Lüttich (Liège) & \\emph{missing} \\\\\n",
       "\t3 & 38 & Breslau & Breslau & \\emph{missing} \\\\\n",
       "\t4 & 39 & Brixen & Brixen & \\emph{missing} \\\\\n",
       "\t5 & 47 & Leitmeritz & Leitmeritz (Litoměřice) & \\emph{missing} \\\\\n",
       "\t6 & 49 & Olmütz & Olmütz & \\emph{missing} \\\\\n",
       "\t7 & 54 & Wien & Wien & \\emph{missing} \\\\\n",
       "\t8 & 57 & Pomesanien & Marienwerder (Kwidzyn) & \\emph{missing} \\\\\n",
       "\t9 & 59 & Samland & Königsberg (Kaliningrad) & \\emph{missing} \\\\\n",
       "\t10 & 60 & Ermland & Braunsberg (Braniewo) & \\emph{missing} \\\\\n",
       "\t11 & 63 & Reval & Tallinn (Reval) & \\emph{missing} \\\\\n",
       "\t12 & 67 & Ösel-Wiek & Hapsal & \\emph{missing} \\\\\n",
       "\t13 & 69 & Kurland & Hasenpoth (Aizpute) & \\emph{missing} \\\\\n",
       "\t14 & 71 & Pedena & Pedena (Pićan) & \\emph{missing} \\\\\n",
       "\t15 & 72 & Leitomischl & Litomyšl & \\emph{missing} \\\\\n",
       "\t16 & 73 & Semgallen & Mesothen (Mežotne) & \\emph{missing} \\\\\n",
       "\t17 & 74 & Budweis & Budweis & \\emph{missing} \\\\\n",
       "\t18 & 75 & Corvey & Corvey & \\emph{missing} \\\\\n",
       "\t19 & 76 & Dorpat & Dorpat & \\emph{missing} \\\\\n",
       "\t20 & 77 & Görz & Gorizia & \\emph{missing} \\\\\n",
       "\t21 & 78 & Königgrätz & Königgrätz & \\emph{missing} \\\\\n",
       "\\end{tabular}\n"
      ],
      "text/plain": [
       "\u001b[1m21×4 DataFrame\u001b[0m\n",
       "\u001b[1m Row \u001b[0m│\u001b[1m id    \u001b[0m\u001b[1m name           \u001b[0m\u001b[1m place_name               \u001b[0m\u001b[1m new_name \u001b[0m\n",
       "\u001b[1m     \u001b[0m│\u001b[90m Int32 \u001b[0m\u001b[90m String?        \u001b[0m\u001b[90m String?                  \u001b[0m\u001b[90m String?  \u001b[0m\n",
       "─────┼───────────────────────────────────────────────────────────\n",
       "   1 │     4  Bremen-Hamburg  Bremen                   \u001b[90m missing  \u001b[0m\n",
       "   2 │    36  Lüttich         Lüttich (Liège)          \u001b[90m missing  \u001b[0m\n",
       "   3 │    38  Breslau         Breslau                  \u001b[90m missing  \u001b[0m\n",
       "   4 │    39  Brixen          Brixen                   \u001b[90m missing  \u001b[0m\n",
       "   5 │    47  Leitmeritz      Leitmeritz (Litoměřice)  \u001b[90m missing  \u001b[0m\n",
       "   6 │    49  Olmütz          Olmütz                   \u001b[90m missing  \u001b[0m\n",
       "   7 │    54  Wien            Wien                     \u001b[90m missing  \u001b[0m\n",
       "   8 │    57  Pomesanien      Marienwerder (Kwidzyn)   \u001b[90m missing  \u001b[0m\n",
       "   9 │    59  Samland         Königsberg (Kaliningrad) \u001b[90m missing  \u001b[0m\n",
       "  10 │    60  Ermland         Braunsberg (Braniewo)    \u001b[90m missing  \u001b[0m\n",
       "  11 │    63  Reval           Tallinn (Reval)          \u001b[90m missing  \u001b[0m\n",
       "  12 │    67  Ösel-Wiek       Hapsal                   \u001b[90m missing  \u001b[0m\n",
       "  13 │    69  Kurland         Hasenpoth (Aizpute)      \u001b[90m missing  \u001b[0m\n",
       "  14 │    71  Pedena          Pedena (Pićan)           \u001b[90m missing  \u001b[0m\n",
       "  15 │    72  Leitomischl     Litomyšl                 \u001b[90m missing  \u001b[0m\n",
       "  16 │    73  Semgallen       Mesothen (Mežotne)       \u001b[90m missing  \u001b[0m\n",
       "  17 │    74  Budweis         Budweis                  \u001b[90m missing  \u001b[0m\n",
       "  18 │    75  Corvey          Corvey                   \u001b[90m missing  \u001b[0m\n",
       "  19 │    76  Dorpat          Dorpat                   \u001b[90m missing  \u001b[0m\n",
       "  20 │    77  Görz            Gorizia                  \u001b[90m missing  \u001b[0m\n",
       "  21 │    78  Königgrätz      Königgrätz               \u001b[90m missing  \u001b[0m"
      ]
     },
     "execution_count": 166,
     "metadata": {},
     "output_type": "execute_result"
    }
   ],
   "source": [
    "filter(:new_name => ismissing, df_map_name[!, [:id, :name, :place_name, :new_name]])"
   ]
  },
  {
   "cell_type": "markdown",
   "metadata": {},
   "source": [
    "Orte für die nicht zugeordneten Diözesen ergänzen."
   ]
  },
  {
   "cell_type": "code",
   "execution_count": 167,
   "metadata": {},
   "outputs": [
    {
     "data": {
      "text/plain": [
       "21-element Vector{Int64}:\n",
       "  4\n",
       " 36\n",
       " 38\n",
       " 39\n",
       " 47\n",
       " 49\n",
       " 54\n",
       " 56\n",
       " 58\n",
       " 59\n",
       " 62\n",
       " 66\n",
       " 68\n",
       " 70\n",
       " 71\n",
       " 72\n",
       " 73\n",
       " 74\n",
       " 75\n",
       " 76\n",
       " 77"
      ]
     },
     "execution_count": 167,
     "metadata": {},
     "output_type": "execute_result"
    }
   ],
   "source": [
    "findall((i) -> i in (4, 36, 38, 39, 47, 49, 54, 57, 59, 60, 63, 67, 69, 71, 72, 73, 74, 75, 76, 77, 78), df_map[!, :id])"
   ]
  },
  {
   "cell_type": "code",
   "execution_count": 146,
   "metadata": {},
   "outputs": [
    {
     "data": {
      "text/html": [
       "<p>DataFrameRow (4 columns)</p><div class=\"data-frame\"><table class=\"data-frame\"><thead><tr><th></th><th>id</th><th>name</th><th>place_name</th><th>new_place_id</th></tr><tr><th></th><th title=\"Int32\">Int32</th><th title=\"Union{Missing, String}\">String?</th><th title=\"Union{Missing, String}\">String?</th><th title=\"Int64\">Int64</th></tr></thead><tbody><tr><th>77</th><td>78</td><td>Königgrätz</td><td>Königgrätz</td><td>0</td></tr></tbody></table></div>"
      ],
      "text/latex": [
       "\\begin{tabular}{r|cccc}\n",
       "\t& id & name & place\\_name & new\\_place\\_id\\\\\n",
       "\t\\hline\n",
       "\t& Int32 & String? & String? & Int64\\\\\n",
       "\t\\hline\n",
       "\t77 & 78 & Königgrätz & Königgrätz & 0 \\\\\n",
       "\\end{tabular}\n"
      ],
      "text/plain": [
       "\u001b[1mDataFrameRow\u001b[0m\n",
       "\u001b[1m Row \u001b[0m│\u001b[1m id    \u001b[0m\u001b[1m name       \u001b[0m\u001b[1m place_name \u001b[0m\u001b[1m new_place_id \u001b[0m\n",
       "\u001b[1m     \u001b[0m│\u001b[90m Int32 \u001b[0m\u001b[90m String?    \u001b[0m\u001b[90m String?    \u001b[0m\u001b[90m Int64        \u001b[0m\n",
       "─────┼─────────────────────────────────────────────\n",
       "  77 │    78  Königgrätz  Königgrätz             0"
      ]
     },
     "execution_count": 146,
     "metadata": {},
     "output_type": "execute_result"
    }
   ],
   "source": [
    "df_map[77, [:id, :name, :place_name, :new_place_id]] # df_map[x, :new_place_id] = ?"
   ]
  },
  {
   "cell_type": "code",
   "execution_count": 53,
   "metadata": {},
   "outputs": [
    {
     "data": {
      "text/plain": [
       "402537"
      ]
     },
     "execution_count": 53,
     "metadata": {},
     "output_type": "execute_result"
    }
   ],
   "source": [
    "df_map[4, :new_place_id] = 402537 # Hamburg"
   ]
  },
  {
   "cell_type": "code",
   "execution_count": 54,
   "metadata": {},
   "outputs": [
    {
     "data": {
      "text/plain": [
       "443353"
      ]
     },
     "execution_count": 54,
     "metadata": {},
     "output_type": "execute_result"
    }
   ],
   "source": [
    "df_map[36, :new_place_id] = 443353 # Lüttich, Liège"
   ]
  },
  {
   "cell_type": "code",
   "execution_count": 55,
   "metadata": {},
   "outputs": [
    {
     "data": {
      "text/plain": [
       "659147"
      ]
     },
     "execution_count": 55,
     "metadata": {},
     "output_type": "execute_result"
    }
   ],
   "source": [
    "df_map[38, :new_place_id] = 659147 # Breslau, Wrocław"
   ]
  },
  {
   "cell_type": "code",
   "execution_count": 56,
   "metadata": {},
   "outputs": [
    {
     "data": {
      "text/plain": [
       "545680"
      ]
     },
     "execution_count": 56,
     "metadata": {},
     "output_type": "execute_result"
    }
   ],
   "source": [
    "df_map[39, :new_place_id] = 545680 # Brixen, Bressanone"
   ]
  },
  {
   "cell_type": "code",
   "execution_count": 57,
   "metadata": {},
   "outputs": [
    {
     "data": {
      "text/plain": [
       "693691"
      ]
     },
     "execution_count": 57,
     "metadata": {},
     "output_type": "execute_result"
    }
   ],
   "source": [
    "df_map[47, :new_place_id] = 693691 # Leitmeritz, Litoměřice"
   ]
  },
  {
   "cell_type": "code",
   "execution_count": 58,
   "metadata": {},
   "outputs": [
    {
     "data": {
      "text/plain": [
       "690063"
      ]
     },
     "execution_count": 58,
     "metadata": {},
     "output_type": "execute_result"
    }
   ],
   "source": [
    "df_map[49, :new_place_id] = 690063 # Olmütz, Olomouc"
   ]
  },
  {
   "cell_type": "code",
   "execution_count": 59,
   "metadata": {},
   "outputs": [
    {
     "data": {
      "text/plain": [
       "608906"
      ]
     },
     "execution_count": 59,
     "metadata": {},
     "output_type": "execute_result"
    }
   ],
   "source": [
    "df_map[54, :new_place_id] = 608906 # Wien, Vienna"
   ]
  },
  {
   "cell_type": "code",
   "execution_count": 60,
   "metadata": {},
   "outputs": [
    {
     "data": {
      "text/plain": [
       "671711"
      ]
     },
     "execution_count": 60,
     "metadata": {},
     "output_type": "execute_result"
    }
   ],
   "source": [
    "df_map[56, :new_place_id] = 671711 # Pomesanien, Kwidzyn"
   ]
  },
  {
   "cell_type": "code",
   "execution_count": 61,
   "metadata": {},
   "outputs": [
    {
     "data": {
      "text/plain": [
       "942885"
      ]
     },
     "execution_count": 61,
     "metadata": {},
     "output_type": "execute_result"
    }
   ],
   "source": [
    "df_map[58, :new_place_id] = 942885 # Königsberg, Kaliningrad"
   ]
  },
  {
   "cell_type": "code",
   "execution_count": 62,
   "metadata": {},
   "outputs": [
    {
     "data": {
      "text/plain": [
       "677866"
      ]
     },
     "execution_count": 62,
     "metadata": {},
     "output_type": "execute_result"
    }
   ],
   "source": [
    "df_map[59, :new_place_id] = 677866 # Ermland, Braniewo"
   ]
  },
  {
   "cell_type": "code",
   "execution_count": 63,
   "metadata": {},
   "outputs": [
    {
     "data": {
      "text/plain": [
       "734738"
      ]
     },
     "execution_count": 63,
     "metadata": {},
     "output_type": "execute_result"
    }
   ],
   "source": [
    "df_map[62, :new_place_id] = 734738 # Riga, Tallinn"
   ]
  },
  {
   "cell_type": "code",
   "execution_count": 64,
   "metadata": {},
   "outputs": [
    {
     "data": {
      "text/plain": [
       "737699"
      ]
     },
     "execution_count": 64,
     "metadata": {},
     "output_type": "execute_result"
    }
   ],
   "source": [
    "df_map[66, :new_place_id] = 737699 # Hapsal, Haapsalu"
   ]
  },
  {
   "cell_type": "code",
   "execution_count": 65,
   "metadata": {},
   "outputs": [
    {
     "data": {
      "text/plain": [
       "704058"
      ]
     },
     "execution_count": 65,
     "metadata": {},
     "output_type": "execute_result"
    }
   ],
   "source": [
    "df_map[68, :new_place_id] = 704058 # Kurland, Aizpute"
   ]
  },
  {
   "cell_type": "code",
   "execution_count": 66,
   "metadata": {},
   "outputs": [
    {
     "data": {
      "text/plain": [
       "726008"
      ]
     },
     "execution_count": 66,
     "metadata": {},
     "output_type": "execute_result"
    }
   ],
   "source": [
    "df_map[70, :new_place_id] = 726008 # Pedena, Pican"
   ]
  },
  {
   "cell_type": "code",
   "execution_count": 67,
   "metadata": {},
   "outputs": [
    {
     "data": {
      "text/plain": [
       "693692"
      ]
     },
     "execution_count": 67,
     "metadata": {},
     "output_type": "execute_result"
    }
   ],
   "source": [
    "df_map[71, :new_place_id] = 693692 # Leitomischl, Litomyšl"
   ]
  },
  {
   "cell_type": "code",
   "execution_count": 68,
   "metadata": {},
   "outputs": [
    {
     "data": {
      "text/plain": [
       "701994"
      ]
     },
     "execution_count": 68,
     "metadata": {},
     "output_type": "execute_result"
    }
   ],
   "source": [
    "df_map[72, :new_place_id] = 701994 # Semgallen, Mežotne"
   ]
  },
  {
   "cell_type": "code",
   "execution_count": 69,
   "metadata": {},
   "outputs": [
    {
     "data": {
      "text/plain": [
       "698174"
      ]
     },
     "execution_count": 69,
     "metadata": {},
     "output_type": "execute_result"
    }
   ],
   "source": [
    "df_map[73, :new_place_id] = 698174 # Budweis, České Budějovice"
   ]
  },
  {
   "cell_type": "code",
   "execution_count": 70,
   "metadata": {},
   "outputs": [
    {
     "data": {
      "text/plain": [
       "398266"
      ]
     },
     "execution_count": 70,
     "metadata": {},
     "output_type": "execute_result"
    }
   ],
   "source": [
    "df_map[74, :new_place_id] = 398266 # Corvey, Höxter"
   ]
  },
  {
   "cell_type": "code",
   "execution_count": 71,
   "metadata": {},
   "outputs": [
    {
     "data": {
      "text/plain": [
       "734797"
      ]
     },
     "execution_count": 71,
     "metadata": {},
     "output_type": "execute_result"
    }
   ],
   "source": [
    "df_map[75, :new_place_id] = 734797 # Dorpat, Tartu"
   ]
  },
  {
   "cell_type": "code",
   "execution_count": 72,
   "metadata": {},
   "outputs": [
    {
     "data": {
      "text/plain": [
       "541698"
      ]
     },
     "execution_count": 72,
     "metadata": {},
     "output_type": "execute_result"
    }
   ],
   "source": [
    "df_map[76, :new_place_id] = 541698 # Görz, Gorizia"
   ]
  },
  {
   "cell_type": "code",
   "execution_count": 73,
   "metadata": {},
   "outputs": [
    {
     "data": {
      "text/plain": [
       "696819"
      ]
     },
     "execution_count": 73,
     "metadata": {},
     "output_type": "execute_result"
    }
   ],
   "source": [
    "df_map[77, :new_place_id] = 696819 # Königgrätz, Hradec Králové"
   ]
  },
  {
   "cell_type": "markdown",
   "metadata": {},
   "source": [
    "Der Bischofssitz von Kulm ist nicht in einem der gleichnamigen Orte, sondern in Chełmża"
   ]
  },
  {
   "cell_type": "code",
   "execution_count": 74,
   "metadata": {},
   "outputs": [
    {
     "data": {
      "text/plain": [
       "1-element Vector{Int64}:\n",
       " 57"
      ]
     },
     "execution_count": 74,
     "metadata": {},
     "output_type": "execute_result"
    }
   ],
   "source": [
    "findall(df_map[!, :id] .== 58)"
   ]
  },
  {
   "cell_type": "code",
   "execution_count": 75,
   "metadata": {},
   "outputs": [
    {
     "data": {
      "text/html": [
       "<div class=\"data-frame\"><p>1 rows × 5 columns</p><table class=\"data-frame\"><thead><tr><th></th><th>id</th><th>name</th><th>place_name</th><th>new_place_id</th><th>new_name</th></tr><tr><th></th><th title=\"Int32\">Int32</th><th title=\"Union{Missing, String}\">String?</th><th title=\"Union{Missing, String}\">String?</th><th title=\"Int64\">Int64</th><th title=\"Union{Missing, String}\">String?</th></tr></thead><tbody><tr><th>1</th><td>58</td><td>Kulm</td><td>Culmsee (Chełmża)</td><td>682910</td><td>Kulm</td></tr></tbody></table></div>"
      ],
      "text/latex": [
       "\\begin{tabular}{r|ccccc}\n",
       "\t& id & name & place\\_name & new\\_place\\_id & new\\_name\\\\\n",
       "\t\\hline\n",
       "\t& Int32 & String? & String? & Int64 & String?\\\\\n",
       "\t\\hline\n",
       "\t1 & 58 & Kulm & Culmsee (Chełmża) & 682910 & Kulm \\\\\n",
       "\\end{tabular}\n"
      ],
      "text/plain": [
       "\u001b[1m1×5 DataFrame\u001b[0m\n",
       "\u001b[1m Row \u001b[0m│\u001b[1m id    \u001b[0m\u001b[1m name    \u001b[0m\u001b[1m place_name        \u001b[0m\u001b[1m new_place_id \u001b[0m\u001b[1m new_name \u001b[0m\n",
       "\u001b[1m     \u001b[0m│\u001b[90m Int32 \u001b[0m\u001b[90m String? \u001b[0m\u001b[90m String?           \u001b[0m\u001b[90m Int64        \u001b[0m\u001b[90m String?  \u001b[0m\n",
       "─────┼───────────────────────────────────────────────────────────\n",
       "   1 │    58  Kulm     Culmsee (Chełmża)        682910  Kulm"
      ]
     },
     "execution_count": 75,
     "metadata": {},
     "output_type": "execute_result"
    }
   ],
   "source": [
    "df_map_name[df_map_name[!, :id] .== 58, [:id, :name, :place_name, :new_place_id, :new_name]]"
   ]
  },
  {
   "cell_type": "markdown",
   "metadata": {},
   "source": [
    "Korrektur für den Bischofssitz von Kulm"
   ]
  },
  {
   "cell_type": "code",
   "execution_count": 76,
   "metadata": {},
   "outputs": [
    {
     "data": {
      "text/plain": [
       "678667"
      ]
     },
     "execution_count": 76,
     "metadata": {},
     "output_type": "execute_result"
    }
   ],
   "source": [
    "df_map[57, :new_place_id] = 678667 # Kulm, Chełmża"
   ]
  },
  {
   "cell_type": "markdown",
   "metadata": {},
   "source": [
    "Korrektur für den Bischofssitz von Straßburg"
   ]
  },
  {
   "cell_type": "code",
   "execution_count": 38,
   "metadata": {},
   "outputs": [
    {
     "data": {
      "text/plain": [
       "1-element Vector{Int64}:\n",
       " 51"
      ]
     },
     "execution_count": 38,
     "metadata": {},
     "output_type": "execute_result"
    }
   ],
   "source": [
    "findall(df_map[!, :id] .== 51)"
   ]
  },
  {
   "cell_type": "code",
   "execution_count": 40,
   "metadata": {},
   "outputs": [
    {
     "data": {
      "text/html": [
       "<p>DataFrameRow (4 columns)</p><div class=\"data-frame\"><table class=\"data-frame\"><thead><tr><th></th><th>id</th><th>name</th><th>place_name</th><th>new_place_id</th></tr><tr><th></th><th title=\"Int32\">Int32</th><th title=\"Union{Missing, String}\">String?</th><th title=\"Union{Missing, String}\">String?</th><th title=\"Int64\">Int64</th></tr></thead><tbody><tr><th>51</th><td>51</td><td>Straßburg</td><td>Straßburg</td><td>361556</td></tr></tbody></table></div>"
      ],
      "text/latex": [
       "\\begin{tabular}{r|cccc}\n",
       "\t& id & name & place\\_name & new\\_place\\_id\\\\\n",
       "\t\\hline\n",
       "\t& Int32 & String? & String? & Int64\\\\\n",
       "\t\\hline\n",
       "\t51 & 51 & Straßburg & Straßburg & 361556 \\\\\n",
       "\\end{tabular}\n"
      ],
      "text/plain": [
       "\u001b[1mDataFrameRow\u001b[0m\n",
       "\u001b[1m Row \u001b[0m│\u001b[1m id    \u001b[0m\u001b[1m name      \u001b[0m\u001b[1m place_name \u001b[0m\u001b[1m new_place_id \u001b[0m\n",
       "\u001b[1m     \u001b[0m│\u001b[90m Int32 \u001b[0m\u001b[90m String?   \u001b[0m\u001b[90m String?    \u001b[0m\u001b[90m Int64        \u001b[0m\n",
       "─────┼────────────────────────────────────────────\n",
       "  51 │    51  Straßburg  Straßburg         361556"
      ]
     },
     "execution_count": 40,
     "metadata": {},
     "output_type": "execute_result"
    }
   ],
   "source": [
    "df_map[51, [:id, :name, :place_name, :new_place_id]]"
   ]
  },
  {
   "cell_type": "code",
   "execution_count": 41,
   "metadata": {},
   "outputs": [
    {
     "data": {
      "text/plain": [
       "456258"
      ]
     },
     "execution_count": 41,
     "metadata": {},
     "output_type": "execute_result"
    }
   ],
   "source": [
    "df_map[51, :new_place_id] = 456258 # Straßburg, Strasbourg"
   ]
  },
  {
   "cell_type": "markdown",
   "metadata": {},
   "source": [
    "Korrektur für den Bischofssitz von Trient"
   ]
  },
  {
   "cell_type": "code",
   "execution_count": 43,
   "metadata": {},
   "outputs": [
    {
     "data": {
      "text/plain": [
       "1-element Vector{Int64}:\n",
       " 52"
      ]
     },
     "execution_count": 43,
     "metadata": {},
     "output_type": "execute_result"
    }
   ],
   "source": [
    "findall(df_map[!, :id] .== 52)"
   ]
  },
  {
   "cell_type": "code",
   "execution_count": 44,
   "metadata": {},
   "outputs": [
    {
     "data": {
      "text/html": [
       "<p>DataFrameRow (4 columns)</p><div class=\"data-frame\"><table class=\"data-frame\"><thead><tr><th></th><th>id</th><th>name</th><th>place_name</th><th>new_place_id</th></tr><tr><th></th><th title=\"Int32\">Int32</th><th title=\"Union{Missing, String}\">String?</th><th title=\"Union{Missing, String}\">String?</th><th title=\"Int64\">Int64</th></tr></thead><tbody><tr><th>52</th><td>52</td><td>Trient</td><td>Trient</td><td>594968</td></tr></tbody></table></div>"
      ],
      "text/latex": [
       "\\begin{tabular}{r|cccc}\n",
       "\t& id & name & place\\_name & new\\_place\\_id\\\\\n",
       "\t\\hline\n",
       "\t& Int32 & String? & String? & Int64\\\\\n",
       "\t\\hline\n",
       "\t52 & 52 & Trient & Trient & 594968 \\\\\n",
       "\\end{tabular}\n"
      ],
      "text/plain": [
       "\u001b[1mDataFrameRow\u001b[0m\n",
       "\u001b[1m Row \u001b[0m│\u001b[1m id    \u001b[0m\u001b[1m name    \u001b[0m\u001b[1m place_name \u001b[0m\u001b[1m new_place_id \u001b[0m\n",
       "\u001b[1m     \u001b[0m│\u001b[90m Int32 \u001b[0m\u001b[90m String? \u001b[0m\u001b[90m String?    \u001b[0m\u001b[90m Int64        \u001b[0m\n",
       "─────┼──────────────────────────────────────────\n",
       "  52 │    52  Trient   Trient            594968"
      ]
     },
     "execution_count": 44,
     "metadata": {},
     "output_type": "execute_result"
    }
   ],
   "source": [
    "df_map[52, [:id, :name, :place_name, :new_place_id]]"
   ]
  },
  {
   "cell_type": "code",
   "execution_count": 45,
   "metadata": {},
   "outputs": [
    {
     "data": {
      "text/plain": [
       "535120"
      ]
     },
     "execution_count": 45,
     "metadata": {},
     "output_type": "execute_result"
    }
   ],
   "source": [
    "df_map[52, :new_place_id] = 535120 # Trient, Trento"
   ]
  },
  {
   "cell_type": "markdown",
   "metadata": {},
   "source": [
    "Korrektur für den Bischofssitz von Brandenburg; schon in der Quelle falsch!?"
   ]
  },
  {
   "cell_type": "code",
   "execution_count": 46,
   "metadata": {},
   "outputs": [
    {
     "data": {
      "text/plain": [
       "1-element Vector{Int64}:\n",
       " 3"
      ]
     },
     "execution_count": 46,
     "metadata": {},
     "output_type": "execute_result"
    }
   ],
   "source": [
    "findall(df_map[!, :name] .== \"Brandenburg\")"
   ]
  },
  {
   "cell_type": "code",
   "execution_count": 47,
   "metadata": {},
   "outputs": [
    {
     "data": {
      "text/html": [
       "<p>DataFrameRow (4 columns)</p><div class=\"data-frame\"><table class=\"data-frame\"><thead><tr><th></th><th>id</th><th>name</th><th>place_name</th><th>new_place_id</th></tr><tr><th></th><th title=\"Int32\">Int32</th><th title=\"Union{Missing, String}\">String?</th><th title=\"Union{Missing, String}\">String?</th><th title=\"Int64\">Int64</th></tr></thead><tbody><tr><th>3</th><td>3</td><td>Brandenburg</td><td>Brandenburg an der Havel</td><td>420202</td></tr></tbody></table></div>"
      ],
      "text/latex": [
       "\\begin{tabular}{r|cccc}\n",
       "\t& id & name & place\\_name & new\\_place\\_id\\\\\n",
       "\t\\hline\n",
       "\t& Int32 & String? & String? & Int64\\\\\n",
       "\t\\hline\n",
       "\t3 & 3 & Brandenburg & Brandenburg an der Havel & 420202 \\\\\n",
       "\\end{tabular}\n"
      ],
      "text/plain": [
       "\u001b[1mDataFrameRow\u001b[0m\n",
       "\u001b[1m Row \u001b[0m│\u001b[1m id    \u001b[0m\u001b[1m name        \u001b[0m\u001b[1m place_name               \u001b[0m\u001b[1m new_place_id \u001b[0m\n",
       "\u001b[1m     \u001b[0m│\u001b[90m Int32 \u001b[0m\u001b[90m String?     \u001b[0m\u001b[90m String?                  \u001b[0m\u001b[90m Int64        \u001b[0m\n",
       "─────┼────────────────────────────────────────────────────────────\n",
       "   3 │     3  Brandenburg  Brandenburg an der Havel        420202"
      ]
     },
     "execution_count": 47,
     "metadata": {},
     "output_type": "execute_result"
    }
   ],
   "source": [
    "df_map[3, [:id, :name, :place_name, :new_place_id]]"
   ]
  },
  {
   "cell_type": "code",
   "execution_count": 48,
   "metadata": {},
   "outputs": [
    {
     "data": {
      "text/plain": [
       "420204"
      ]
     },
     "execution_count": 48,
     "metadata": {},
     "output_type": "execute_result"
    }
   ],
   "source": [
    "df_map[3, :new_place_id] = 420204 # Brandenburg, Brandenburg an der Havel"
   ]
  },
  {
   "cell_type": "markdown",
   "metadata": {},
   "source": [
    "Korrektur für den Bischofssitz von Triest; schon in der Quelle falsch!?"
   ]
  },
  {
   "cell_type": "code",
   "execution_count": 91,
   "metadata": {},
   "outputs": [
    {
     "data": {
      "text/plain": [
       "1-element Vector{Int64}:\n",
       " 78"
      ]
     },
     "execution_count": 91,
     "metadata": {},
     "output_type": "execute_result"
    }
   ],
   "source": [
    "findall(df_map[!, :name] .== \"Triest\")"
   ]
  },
  {
   "cell_type": "code",
   "execution_count": 93,
   "metadata": {},
   "outputs": [
    {
     "data": {
      "text/plain": [
       "535158"
      ]
     },
     "execution_count": 93,
     "metadata": {},
     "output_type": "execute_result"
    }
   ],
   "source": [
    "df_map[78, :new_place_id] = 535158 # Triest, Trieste"
   ]
  },
  {
   "cell_type": "markdown",
   "metadata": {},
   "source": [
    "Ortsnamen prüfen"
   ]
  },
  {
   "cell_type": "code",
   "execution_count": 94,
   "metadata": {},
   "outputs": [],
   "source": [
    "df_map_name = leftjoin(select(df_map, Not([:longitude, :latitude])), df_coo, on = :new_place_id => :id);"
   ]
  },
  {
   "cell_type": "code",
   "execution_count": 95,
   "metadata": {},
   "outputs": [
    {
     "data": {
      "text/html": [
       "<div class=\"data-frame\"><p>18 rows × 5 columns</p><table class=\"data-frame\"><thead><tr><th></th><th>id</th><th>name</th><th>place_name</th><th>new_place_id</th><th>new_name</th></tr><tr><th></th><th title=\"Int32\">Int32</th><th title=\"Union{Missing, String}\">String?</th><th title=\"Union{Missing, String}\">String?</th><th title=\"Int64\">Int64</th><th title=\"Union{Missing, String}\">String?</th></tr></thead><tbody><tr><th>1</th><td>43</td><td>Gurk</td><td>Gurk</td><td>617982</td><td>Gurk</td></tr><tr><th>2</th><td>38</td><td>Breslau</td><td>Breslau</td><td>659147</td><td>Wrocław</td></tr><tr><th>3</th><td>57</td><td>Pomesanien</td><td>Marienwerder (Kwidzyn)</td><td>671711</td><td>Kwidzyn</td></tr><tr><th>4</th><td>60</td><td>Ermland</td><td>Braunsberg (Braniewo)</td><td>677866</td><td>Braniewo</td></tr><tr><th>5</th><td>58</td><td>Kulm</td><td>Culmsee (Chełmża)</td><td>678667</td><td>Chełmża</td></tr><tr><th>6</th><td>49</td><td>Olmütz</td><td>Olmütz</td><td>690063</td><td>Olomouc</td></tr><tr><th>7</th><td>47</td><td>Leitmeritz</td><td>Leitmeritz (Litoměřice)</td><td>693691</td><td>Litoměřice</td></tr><tr><th>8</th><td>72</td><td>Leitomischl</td><td>Litomyšl</td><td>693692</td><td>Litomyšl</td></tr><tr><th>9</th><td>78</td><td>Königgrätz</td><td>Königgrätz</td><td>696819</td><td>Hradec Králové</td></tr><tr><th>10</th><td>74</td><td>Budweis</td><td>Budweis</td><td>698174</td><td>České Budějovice</td></tr><tr><th>11</th><td>73</td><td>Semgallen</td><td>Mesothen (Mežotne)</td><td>701994</td><td>Mežotne</td></tr><tr><th>12</th><td>61</td><td>Riga</td><td>Riga</td><td>702533</td><td>Riga</td></tr><tr><th>13</th><td>69</td><td>Kurland</td><td>Hasenpoth (Aizpute)</td><td>704058</td><td>Aizpute</td></tr><tr><th>14</th><td>71</td><td>Pedena</td><td>Pedena (Pićan)</td><td>726008</td><td>Pićan</td></tr><tr><th>15</th><td>63</td><td>Reval</td><td>Tallinn (Reval)</td><td>734738</td><td>Tallinn</td></tr><tr><th>16</th><td>76</td><td>Dorpat</td><td>Dorpat</td><td>734797</td><td>Tartu</td></tr><tr><th>17</th><td>67</td><td>Ösel-Wiek</td><td>Hapsal</td><td>737699</td><td>Haapsalu</td></tr><tr><th>18</th><td>59</td><td>Samland</td><td>Königsberg (Kaliningrad)</td><td>942885</td><td>Kaliningrad</td></tr></tbody></table></div>"
      ],
      "text/latex": [
       "\\begin{tabular}{r|ccccc}\n",
       "\t& id & name & place\\_name & new\\_place\\_id & new\\_name\\\\\n",
       "\t\\hline\n",
       "\t& Int32 & String? & String? & Int64 & String?\\\\\n",
       "\t\\hline\n",
       "\t1 & 43 & Gurk & Gurk & 617982 & Gurk \\\\\n",
       "\t2 & 38 & Breslau & Breslau & 659147 & Wrocław \\\\\n",
       "\t3 & 57 & Pomesanien & Marienwerder (Kwidzyn) & 671711 & Kwidzyn \\\\\n",
       "\t4 & 60 & Ermland & Braunsberg (Braniewo) & 677866 & Braniewo \\\\\n",
       "\t5 & 58 & Kulm & Culmsee (Chełmża) & 678667 & Chełmża \\\\\n",
       "\t6 & 49 & Olmütz & Olmütz & 690063 & Olomouc \\\\\n",
       "\t7 & 47 & Leitmeritz & Leitmeritz (Litoměřice) & 693691 & Litoměřice \\\\\n",
       "\t8 & 72 & Leitomischl & Litomyšl & 693692 & Litomyšl \\\\\n",
       "\t9 & 78 & Königgrätz & Königgrätz & 696819 & Hradec Králové \\\\\n",
       "\t10 & 74 & Budweis & Budweis & 698174 & České Budějovice \\\\\n",
       "\t11 & 73 & Semgallen & Mesothen (Mežotne) & 701994 & Mežotne \\\\\n",
       "\t12 & 61 & Riga & Riga & 702533 & Riga \\\\\n",
       "\t13 & 69 & Kurland & Hasenpoth (Aizpute) & 704058 & Aizpute \\\\\n",
       "\t14 & 71 & Pedena & Pedena (Pićan) & 726008 & Pićan \\\\\n",
       "\t15 & 63 & Reval & Tallinn (Reval) & 734738 & Tallinn \\\\\n",
       "\t16 & 76 & Dorpat & Dorpat & 734797 & Tartu \\\\\n",
       "\t17 & 67 & Ösel-Wiek & Hapsal & 737699 & Haapsalu \\\\\n",
       "\t18 & 59 & Samland & Königsberg (Kaliningrad) & 942885 & Kaliningrad \\\\\n",
       "\\end{tabular}\n"
      ],
      "text/plain": [
       "\u001b[1m18×5 DataFrame\u001b[0m\n",
       "\u001b[1m Row \u001b[0m│\u001b[1m id    \u001b[0m\u001b[1m name        \u001b[0m\u001b[1m place_name               \u001b[0m\u001b[1m new_place_id \u001b[0m\u001b[1m new_name   \u001b[0m ⋯\n",
       "\u001b[1m     \u001b[0m│\u001b[90m Int32 \u001b[0m\u001b[90m String?     \u001b[0m\u001b[90m String?                  \u001b[0m\u001b[90m Int64        \u001b[0m\u001b[90m String?    \u001b[0m ⋯\n",
       "─────┼──────────────────────────────────────────────────────────────────────────\n",
       "   1 │    43  Gurk         Gurk                            617982  Gurk        ⋯\n",
       "   2 │    38  Breslau      Breslau                         659147  Wrocław\n",
       "   3 │    57  Pomesanien   Marienwerder (Kwidzyn)          671711  Kwidzyn\n",
       "   4 │    60  Ermland      Braunsberg (Braniewo)           677866  Braniewo\n",
       "   5 │    58  Kulm         Culmsee (Chełmża)               678667  Chełmża     ⋯\n",
       "   6 │    49  Olmütz       Olmütz                          690063  Olomouc\n",
       "   7 │    47  Leitmeritz   Leitmeritz (Litoměřice)         693691  Litoměřice\n",
       "   8 │    72  Leitomischl  Litomyšl                        693692  Litomyšl\n",
       "   9 │    78  Königgrätz   Königgrätz                      696819  Hradec Král ⋯\n",
       "  10 │    74  Budweis      Budweis                         698174  České Buděj\n",
       "  11 │    73  Semgallen    Mesothen (Mežotne)              701994  Mežotne\n",
       "  12 │    61  Riga         Riga                            702533  Riga\n",
       "  13 │    69  Kurland      Hasenpoth (Aizpute)             704058  Aizpute     ⋯\n",
       "  14 │    71  Pedena       Pedena (Pićan)                  726008  Pićan\n",
       "  15 │    63  Reval        Tallinn (Reval)                 734738  Tallinn\n",
       "  16 │    76  Dorpat       Dorpat                          734797  Tartu\n",
       "  17 │    67  Ösel-Wiek    Hapsal                          737699  Haapsalu    ⋯\n",
       "  18 │    59  Samland      Königsberg (Kaliningrad)        942885  Kaliningrad\n",
       "\u001b[36m                                                                1 column omitted\u001b[0m"
      ]
     },
     "execution_count": 95,
     "metadata": {},
     "output_type": "execute_result"
    }
   ],
   "source": [
    "df_map_name[61:end, [:id, :name, :place_name, :new_place_id, :new_name]]"
   ]
  },
  {
   "cell_type": "markdown",
   "metadata": {},
   "source": [
    "Neue Orts-IDs in die Datenbank übernehmen."
   ]
  },
  {
   "cell_type": "code",
   "execution_count": 96,
   "metadata": {},
   "outputs": [],
   "source": [
    "DBInterface.execute(Wds.dbwiag, \"DROP TABLE IF EXISTS dioc_place\")\n",
    "sql_tmp = \"CREATE TEMPORARY TABLE dioc_place \" *\n",
    "\"(id INT, \" *\n",
    "\" new_place_id INT)\"\n",
    "DBInterface.execute(Wds.dbwiag, sql_tmp);"
   ]
  },
  {
   "cell_type": "code",
   "execution_count": 97,
   "metadata": {},
   "outputs": [
    {
     "name": "stderr",
     "output_type": "stream",
     "text": [
      "┌ Info: Rows inserted: 78\n",
      "└ @ WiagDataSetup C:\\Users\\Georg\\Documents\\projekte\\WiagDataSetup.jl\\src\\WiagDataSetup.jl:1171\n"
     ]
    },
    {
     "data": {
      "text/plain": [
       "78"
      ]
     },
     "execution_count": 97,
     "metadata": {},
     "output_type": "execute_result"
    }
   ],
   "source": [
    "Wds.filltable!(\"dioc_place\", df_map[!, [:id, :new_place_id]], clear_table=true)"
   ]
  },
  {
   "cell_type": "code",
   "execution_count": 98,
   "metadata": {},
   "outputs": [],
   "source": [
    "sql_update = \"UPDATE diocese as d, (SELECT id, new_place_id FROM dioc_place) as dp \" *\n",
    "\"SET d.bishopric_seat_id = dp.new_place_id \" *\n",
    "\"WHERE d.id = dp.id\"\n",
    "DBInterface.execute(Wds.dbwiag, sql_update);"
   ]
  },
  {
   "cell_type": "markdown",
   "metadata": {},
   "source": [
    "Einträge prüfen"
   ]
  },
  {
   "cell_type": "code",
   "execution_count": 99,
   "metadata": {},
   "outputs": [],
   "source": [
    "sql = \"SELECT d.id, d.name, pl.id as id_place, pl.name as name_place, country_code \" *\n",
    "\" FROM diocese AS d JOIN place AS pl on d.bishopric_seat_id = pl.id\"\n",
    "df_check = DBInterface.execute(Wds.dbwiag, sql) |> DataFrame;"
   ]
  },
  {
   "cell_type": "code",
   "execution_count": 100,
   "metadata": {},
   "outputs": [
    {
     "data": {
      "text/html": [
       "<div class=\"data-frame\"><p>15 rows × 5 columns</p><table class=\"data-frame\"><thead><tr><th></th><th>id</th><th>name</th><th>id_place</th><th>name_place</th><th>country_code</th></tr><tr><th></th><th title=\"Int32\">Int32</th><th title=\"Union{Missing, String}\">String?</th><th title=\"Int32\">Int32</th><th title=\"Union{Missing, String}\">String?</th><th title=\"Union{Missing, String}\">String?</th></tr></thead><tbody><tr><th>1</th><td>65</td><td>Wiener Neustadt</td><td>608914</td><td>Wiener Neustadt</td><td>AT</td></tr><tr><th>2</th><td>66</td><td>Seckau</td><td>610720</td><td>Seckau</td><td>AT</td></tr><tr><th>3</th><td>67</td><td>Ösel-Wiek</td><td>737699</td><td>Haapsalu</td><td>EE</td></tr><tr><th>4</th><td>68</td><td>Toul</td><td>455328</td><td>Toul</td><td>FR</td></tr><tr><th>5</th><td>69</td><td>Kurland</td><td>704058</td><td>Aizpute</td><td>LV</td></tr><tr><th>6</th><td>70</td><td>Aquileia</td><td>546681</td><td>Aquileia</td><td>IT</td></tr><tr><th>7</th><td>71</td><td>Pedena</td><td>726008</td><td>Pićan</td><td>HR</td></tr><tr><th>8</th><td>72</td><td>Leitomischl</td><td>693692</td><td>Litomyšl</td><td>CZ</td></tr><tr><th>9</th><td>73</td><td>Semgallen</td><td>701994</td><td>Mežotne</td><td>LV</td></tr><tr><th>10</th><td>74</td><td>Budweis</td><td>698174</td><td>České Budějovice</td><td>CZ</td></tr><tr><th>11</th><td>75</td><td>Corvey</td><td>398266</td><td>Höxter</td><td>DE</td></tr><tr><th>12</th><td>76</td><td>Dorpat</td><td>734797</td><td>Tartu</td><td>EE</td></tr><tr><th>13</th><td>77</td><td>Görz</td><td>541698</td><td>Gorizia</td><td>IT</td></tr><tr><th>14</th><td>78</td><td>Königgrätz</td><td>696819</td><td>Hradec Králové</td><td>CZ</td></tr><tr><th>15</th><td>79</td><td>Triest</td><td>535158</td><td>Trieste</td><td>IT</td></tr></tbody></table></div>"
      ],
      "text/latex": [
       "\\begin{tabular}{r|ccccc}\n",
       "\t& id & name & id\\_place & name\\_place & country\\_code\\\\\n",
       "\t\\hline\n",
       "\t& Int32 & String? & Int32 & String? & String?\\\\\n",
       "\t\\hline\n",
       "\t1 & 65 & Wiener Neustadt & 608914 & Wiener Neustadt & AT \\\\\n",
       "\t2 & 66 & Seckau & 610720 & Seckau & AT \\\\\n",
       "\t3 & 67 & Ösel-Wiek & 737699 & Haapsalu & EE \\\\\n",
       "\t4 & 68 & Toul & 455328 & Toul & FR \\\\\n",
       "\t5 & 69 & Kurland & 704058 & Aizpute & LV \\\\\n",
       "\t6 & 70 & Aquileia & 546681 & Aquileia & IT \\\\\n",
       "\t7 & 71 & Pedena & 726008 & Pićan & HR \\\\\n",
       "\t8 & 72 & Leitomischl & 693692 & Litomyšl & CZ \\\\\n",
       "\t9 & 73 & Semgallen & 701994 & Mežotne & LV \\\\\n",
       "\t10 & 74 & Budweis & 698174 & České Budějovice & CZ \\\\\n",
       "\t11 & 75 & Corvey & 398266 & Höxter & DE \\\\\n",
       "\t12 & 76 & Dorpat & 734797 & Tartu & EE \\\\\n",
       "\t13 & 77 & Görz & 541698 & Gorizia & IT \\\\\n",
       "\t14 & 78 & Königgrätz & 696819 & Hradec Králové & CZ \\\\\n",
       "\t15 & 79 & Triest & 535158 & Trieste & IT \\\\\n",
       "\\end{tabular}\n"
      ],
      "text/plain": [
       "\u001b[1m15×5 DataFrame\u001b[0m\n",
       "\u001b[1m Row \u001b[0m│\u001b[1m id    \u001b[0m\u001b[1m name            \u001b[0m\u001b[1m id_place \u001b[0m\u001b[1m name_place       \u001b[0m\u001b[1m country_code \u001b[0m\n",
       "\u001b[1m     \u001b[0m│\u001b[90m Int32 \u001b[0m\u001b[90m String?         \u001b[0m\u001b[90m Int32    \u001b[0m\u001b[90m String?          \u001b[0m\u001b[90m String?      \u001b[0m\n",
       "─────┼──────────────────────────────────────────────────────────────────\n",
       "   1 │    65  Wiener Neustadt    608914  Wiener Neustadt   AT\n",
       "   2 │    66  Seckau             610720  Seckau            AT\n",
       "   3 │    67  Ösel-Wiek          737699  Haapsalu          EE\n",
       "   4 │    68  Toul               455328  Toul              FR\n",
       "   5 │    69  Kurland            704058  Aizpute           LV\n",
       "   6 │    70  Aquileia           546681  Aquileia          IT\n",
       "   7 │    71  Pedena             726008  Pićan             HR\n",
       "   8 │    72  Leitomischl        693692  Litomyšl          CZ\n",
       "   9 │    73  Semgallen          701994  Mežotne           LV\n",
       "  10 │    74  Budweis            698174  České Budějovice  CZ\n",
       "  11 │    75  Corvey             398266  Höxter            DE\n",
       "  12 │    76  Dorpat             734797  Tartu             EE\n",
       "  13 │    77  Görz               541698  Gorizia           IT\n",
       "  14 │    78  Königgrätz         696819  Hradec Králové    CZ\n",
       "  15 │    79  Triest             535158  Trieste           IT"
      ]
     },
     "execution_count": 100,
     "metadata": {},
     "output_type": "execute_result"
    }
   ],
   "source": [
    "df_check[64:end, :]"
   ]
  },
  {
   "cell_type": "markdown",
   "metadata": {},
   "source": [
    "## Literaturverweise"
   ]
  },
  {
   "cell_type": "markdown",
   "metadata": {},
   "source": [
    "Quelle: Tabelle `wiag.diocese`"
   ]
  },
  {
   "cell_type": "markdown",
   "metadata": {},
   "source": [
    "Die Referenz für Bistümer ist immer Nummer 1: Gatz, Erwin (Hg.)/Brodkorb, Clemens/Flachenecker, Helmut (Bearb.), Die Bistümer des Heiligen Römischen Reiches. Von ihren Anfängen bis zur Säkularisation, Freiburg i. Br. 2003\n",
    "\n",
    "Die Quelle gibt es bei Bischöfen und Domherren auch. Kopiere die Quelle der Domherren."
   ]
  },
  {
   "cell_type": "code",
   "execution_count": 11,
   "metadata": {},
   "outputs": [
    {
     "data": {
      "text/html": [
       "<div class=\"data-frame\"><p>1 rows × 17 columns (omitted printing of 14 columns)</p><table class=\"data-frame\"><thead><tr><th></th><th>id</th><th>comment</th><th>full_citation</th></tr><tr><th></th><th title=\"Int32\">Int32</th><th title=\"Union{Missing, String}\">String?</th><th title=\"String\">String</th></tr></thead><tbody><tr><th>1</th><td>14</td><td><em>missing</em></td><td>Erwin Gatz (Hg.)/Clemens Brodkorb/Helmut Flachenecker (Bearb.), Die Bistümer des Heiligen Römischen Reiches. Von ihren Anfängen bis zur Säkularisation, Freiburg i. Br. 2003</td></tr></tbody></table></div>"
      ],
      "text/latex": [
       "\\begin{tabular}{r|cccc}\n",
       "\t& id & comment & full\\_citation & \\\\\n",
       "\t\\hline\n",
       "\t& Int32 & String? & String & \\\\\n",
       "\t\\hline\n",
       "\t1 & 14 & \\emph{missing} & Erwin Gatz (Hg.)/Clemens Brodkorb/Helmut Flachenecker (Bearb.), Die Bistümer des Heiligen Römischen Reiches. Von ihren Anfängen bis zur Säkularisation, Freiburg i. Br. 2003 & $\\dots$ \\\\\n",
       "\\end{tabular}\n"
      ],
      "text/plain": [
       "\u001b[1m1×17 DataFrame\u001b[0m\n",
       "\u001b[1m Row \u001b[0m│\u001b[1m id    \u001b[0m\u001b[1m comment \u001b[0m\u001b[1m full_citation                     \u001b[0m\n",
       "\u001b[1m     \u001b[0m│\u001b[90m Int32 \u001b[0m\u001b[90m String? \u001b[0m\u001b[90m String                            \u001b[0m\n",
       "─────┼──────────────────────────────────────────────────────────────────────────\n",
       "   1 │    14 \u001b[90m missing \u001b[0m Erwin Gatz (Hg.)/Clemens Brodkor…\n",
       "\u001b[36m                                                              14 columns omitted\u001b[0m"
      ]
     },
     "execution_count": 11,
     "metadata": {},
     "output_type": "execute_result"
    }
   ],
   "source": [
    "table_name = \"reference_volume\";\n",
    "item_type_dh = 5;\n",
    "sql = \"SELECT * FROM $(table_name) WHERE item_type_id = $(item_type_dh) AND reference_id = 2\";\n",
    "df_vol = Wds.sql_df(sql)"
   ]
  },
  {
   "cell_type": "code",
   "execution_count": 12,
   "metadata": {},
   "outputs": [],
   "source": [
    "item_type_id = 1;\n",
    "df_vol[1, :item_type_id] = item_type_id;"
   ]
  },
  {
   "cell_type": "code",
   "execution_count": 13,
   "metadata": {},
   "outputs": [
    {
     "name": "stderr",
     "output_type": "stream",
     "text": [
      "┌ Info: Rows inserted: 1\n",
      "└ @ WiagDataSetup C:\\Users\\georg\\Documents\\projekte\\WiagDataSetup.jl\\src\\WiagDataSetup.jl:1206\n"
     ]
    },
    {
     "data": {
      "text/plain": [
       "1"
      ]
     },
     "execution_count": 13,
     "metadata": {},
     "output_type": "execute_result"
    }
   ],
   "source": [
    "table_name = \"reference_volume\"\n",
    "Wds.filltable!(table_name, select(df_vol, Not(:id)))"
   ]
  },
  {
   "cell_type": "markdown",
   "metadata": {},
   "source": [
    "Alte Einträge über `item_type_id` löschen"
   ]
  },
  {
   "cell_type": "code",
   "execution_count": 12,
   "metadata": {},
   "outputs": [
    {
     "data": {
      "text/plain": [
       "MySQL.TextCursor{true}(MySQL.Connection(host=\"127.0.0.1\", user=\"georg\", port=\"3306\", db=\"wiag2\"), \"DELETE FROM item_reference WHERE item_type_id = 1\", 0, -1, 0, MySQL.API.MYSQL_RES(Ptr{Nothing} @0x0000000000000000), Symbol[], Type[], Dict{Symbol, Int64}(), 0, 1, false)"
      ]
     },
     "execution_count": 12,
     "metadata": {},
     "output_type": "execute_result"
    }
   ],
   "source": [
    "item_type_id = 1;\n",
    "sql = \"DELETE FROM item_reference WHERE item_type_id = $(item_type_id)\";\n",
    "DBInterface.execute(Wds.dbwiag, sql)"
   ]
  },
  {
   "cell_type": "markdown",
   "metadata": {},
   "source": [
    "IDs auslesen"
   ]
  },
  {
   "cell_type": "code",
   "execution_count": 15,
   "metadata": {},
   "outputs": [],
   "source": [
    "sql = \"SELECT id, id_in_source FROM item where item_type_id = $(item_type_id)\"\n",
    "df_idx = Wds.sql_df(sql);"
   ]
  },
  {
   "cell_type": "markdown",
   "metadata": {},
   "source": [
    "Spalte für die Zusammenführung befüllen (Typ: String!)"
   ]
  },
  {
   "cell_type": "code",
   "execution_count": 16,
   "metadata": {},
   "outputs": [],
   "source": [
    "df_dioc[!, :id_in_source] .= string.(df_dioc[!, :id_diocese]);"
   ]
  },
  {
   "cell_type": "code",
   "execution_count": 18,
   "metadata": {},
   "outputs": [],
   "source": [
    "df_dioc_db = innerjoin(df_idx, df_dioc, on = :id_in_source);"
   ]
  },
  {
   "cell_type": "code",
   "execution_count": 20,
   "metadata": {},
   "outputs": [
    {
     "data": {
      "text/plain": [
       "(79, 16)"
      ]
     },
     "execution_count": 20,
     "metadata": {},
     "output_type": "execute_result"
    }
   ],
   "source": [
    "size(df_dioc_db)"
   ]
  },
  {
   "cell_type": "markdown",
   "metadata": {},
   "source": [
    "Literaturverweise eintragen"
   ]
  },
  {
   "cell_type": "code",
   "execution_count": 19,
   "metadata": {},
   "outputs": [
    {
     "data": {
      "text/plain": [
       "2-element Vector{Pair{Symbol, Symbol}}:\n",
       "         :id => :item_id\n",
       " :gatz_pages => :page"
      ]
     },
     "execution_count": 19,
     "metadata": {},
     "output_type": "execute_result"
    }
   ],
   "source": [
    "columns = [\n",
    "    :id => :item_id,\n",
    "    :gatz_pages => :page,\n",
    "]"
   ]
  },
  {
   "cell_type": "code",
   "execution_count": 21,
   "metadata": {},
   "outputs": [],
   "source": [
    "df_dioc_ref = select(df_dioc_db, columns);"
   ]
  },
  {
   "cell_type": "code",
   "execution_count": 23,
   "metadata": {},
   "outputs": [],
   "source": [
    "df_dioc_ref[!, :reference_id] .= 2;"
   ]
  },
  {
   "cell_type": "code",
   "execution_count": 25,
   "metadata": {},
   "outputs": [],
   "source": [
    "df_dioc_ref[!, :item_type_id] .= item_type_id;"
   ]
  },
  {
   "cell_type": "code",
   "execution_count": 27,
   "metadata": {},
   "outputs": [
    {
     "name": "stderr",
     "output_type": "stream",
     "text": [
      "┌ Info: Rows inserted: 79\n",
      "└ @ WiagDataSetup C:\\Users\\Georg\\Documents\\projekte\\WiagDataSetup.jl\\src\\WiagDataSetup.jl:1204\n"
     ]
    },
    {
     "data": {
      "text/plain": [
       "79"
      ]
     },
     "execution_count": 27,
     "metadata": {},
     "output_type": "execute_result"
    }
   ],
   "source": [
    "table_name = \"item_reference\";\n",
    "Wds.filltable!(table_name, df_dioc_ref, clear_table = false)"
   ]
  }
 ],
 "metadata": {
  "kernelspec": {
   "display_name": "Julia 1.8.2",
   "language": "julia",
   "name": "julia-1.8"
  },
  "language_info": {
   "file_extension": ".jl",
   "mimetype": "application/julia",
   "name": "julia",
   "version": "1.8.2"
  }
 },
 "nbformat": 4,
 "nbformat_minor": 4
}
