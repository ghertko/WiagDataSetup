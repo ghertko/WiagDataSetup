{
 "cells": [
  {
   "cell_type": "markdown",
   "metadata": {},
   "source": [
    "# Bischöfe\n",
    "## Datenimport für Wiagweb 1\n",
    "\n",
    "Angleichung an Domherren für Klosterorte\n",
    "\n",
    "- [Ämter](#Ämter)\n",
    "\n",
    "2021-11-26"
   ]
  },
  {
   "cell_type": "code",
   "execution_count": 1,
   "metadata": {},
   "outputs": [
    {
     "data": {
      "text/plain": [
       "\"..\\\\..\""
      ]
     },
     "execution_count": 1,
     "metadata": {},
     "output_type": "execute_result"
    }
   ],
   "source": [
    "# wds_path=\"C:\\\\Users\\\\Georg\\\\Documents\\\\projekte\\\\WiagDataSetup.jl\"\n",
    "wds_path=\"..\\\\..\""
   ]
  },
  {
   "cell_type": "code",
   "execution_count": 2,
   "metadata": {},
   "outputs": [],
   "source": [
    "cd(wds_path)"
   ]
  },
  {
   "cell_type": "code",
   "execution_count": 3,
   "metadata": {},
   "outputs": [
    {
     "data": {
      "text/plain": [
       "\"C:\\\\Users\\\\georg\\\\Documents\\\\projekte\\\\WiagDataSetup.jl\""
      ]
     },
     "execution_count": 3,
     "metadata": {},
     "output_type": "execute_result"
    }
   ],
   "source": [
    "pwd()"
   ]
  },
  {
   "cell_type": "code",
   "execution_count": 4,
   "metadata": {},
   "outputs": [],
   "source": [
    "using Pkg"
   ]
  },
  {
   "cell_type": "code",
   "execution_count": 5,
   "metadata": {},
   "outputs": [],
   "source": [
    "Pkg.activate(\".\")"
   ]
  },
  {
   "cell_type": "code",
   "execution_count": 6,
   "metadata": {},
   "outputs": [],
   "source": [
    "using Revise"
   ]
  },
  {
   "cell_type": "code",
   "execution_count": 7,
   "metadata": {},
   "outputs": [
    {
     "name": "stderr",
     "output_type": "stream",
     "text": [
      "┌ Info: Precompiling WiagDataSetup [522c5ebb-a018-4020-8ed4-420cb1a9f084]\n",
      "└ @ Base loading.jl:1317\n"
     ]
    }
   ],
   "source": [
    "using WiagDataSetup"
   ]
  },
  {
   "cell_type": "code",
   "execution_count": 8,
   "metadata": {},
   "outputs": [],
   "source": [
    "using MySQL"
   ]
  },
  {
   "cell_type": "code",
   "execution_count": 9,
   "metadata": {},
   "outputs": [],
   "source": [
    "using DataFrames"
   ]
  },
  {
   "cell_type": "code",
   "execution_count": 10,
   "metadata": {},
   "outputs": [
    {
     "data": {
      "text/plain": [
       "WiagDataSetup"
      ]
     },
     "execution_count": 10,
     "metadata": {},
     "output_type": "execute_result"
    }
   ],
   "source": [
    "Wds = WiagDataSetup"
   ]
  },
  {
   "cell_type": "code",
   "execution_count": 11,
   "metadata": {},
   "outputs": [
    {
     "name": "stdout",
     "output_type": "stream",
     "text": [
      "Passwort für User georg\n",
      "stdin> topf&deckel\n"
     ]
    },
    {
     "data": {
      "text/plain": [
       "MySQL.Connection(host=\"127.0.0.1\", user=\"georg\", port=\"3306\", db=\"wiag_in\")"
      ]
     },
     "execution_count": 11,
     "metadata": {},
     "output_type": "execute_result"
    }
   ],
   "source": [
    "Wds.setDBWIAG(user=\"georg\", db=\"wiag_in\")"
   ]
  },
  {
   "cell_type": "markdown",
   "metadata": {},
   "source": [
    "## Ämter"
   ]
  },
  {
   "cell_type": "markdown",
   "metadata": {},
   "source": [
    "Setze `numdate_start` und `numdate_end`"
   ]
  },
  {
   "cell_type": "code",
   "execution_count": 12,
   "metadata": {},
   "outputs": [],
   "source": [
    "sql = \"SELECT * FROM office\"\n",
    "df_oc = Wds.sql_df(sql);"
   ]
  },
  {
   "cell_type": "code",
   "execution_count": 14,
   "metadata": {},
   "outputs": [
    {
     "name": "stderr",
     "output_type": "stream",
     "text": [
      "┌ Warning: Could not parse \n",
      "│   s = fränkische Zeit ?\n",
      "└ @ WiagDataSetup C:\\Users\\georg\\Documents\\projekte\\WiagDataSetup.jl\\src\\WiagDataSetup.jl:1111\n"
     ]
    }
   ],
   "source": [
    "date_start(date) = Wds.parsemaybe(date, :lower)\n",
    "transform!(df_oc, :date_start => ByRow(date_start) => :numdate_start);"
   ]
  },
  {
   "cell_type": "code",
   "execution_count": 15,
   "metadata": {},
   "outputs": [],
   "source": [
    "date_end(date) = Wds.parsemaybe(date, :upper)\n",
    "transform!(df_oc, :date_end => ByRow(date_end) => :numdate_end);"
   ]
  },
  {
   "cell_type": "code",
   "execution_count": 17,
   "metadata": {},
   "outputs": [
    {
     "name": "stderr",
     "output_type": "stream",
     "text": [
      "┌ Info: Rows inserted: 7329\n",
      "└ @ WiagDataSetup C:\\Users\\georg\\Documents\\projekte\\WiagDataSetup.jl\\src\\WiagDataSetup.jl:1202\n"
     ]
    },
    {
     "data": {
      "text/plain": [
       "7329"
      ]
     },
     "execution_count": 17,
     "metadata": {},
     "output_type": "execute_result"
    }
   ],
   "source": [
    "table_name=\"office\"\n",
    "Wds.filltable!(table_name, df_oc, clear_table = true)"
   ]
  },
  {
   "cell_type": "markdown",
   "metadata": {},
   "source": [
    "### `office.location_show`"
   ]
  },
  {
   "cell_type": "code",
   "execution_count": 52,
   "metadata": {},
   "outputs": [],
   "source": [
    "sql = \"SELECT * FROM monastery_location\"\n",
    "df_mon_loc = Wds.sql_df(sql);"
   ]
  },
  {
   "cell_type": "code",
   "execution_count": 53,
   "metadata": {},
   "outputs": [],
   "source": [
    "transform!(df_mon_loc, :location_begin_tpq => ByRow(date_start) => :loc_start);"
   ]
  },
  {
   "cell_type": "code",
   "execution_count": 54,
   "metadata": {},
   "outputs": [],
   "source": [
    "transform!(df_mon_loc, :location_end_tpq => ByRow(date_end) => :loc_end);"
   ]
  },
  {
   "cell_type": "code",
   "execution_count": 55,
   "metadata": {},
   "outputs": [],
   "source": [
    "parseId(id) = parse(Int, id)\n",
    "transform!(df_mon_loc, :wiagid_monastery => ByRow(parseId) => :wiagid_monastery);"
   ]
  },
  {
   "cell_type": "code",
   "execution_count": 37,
   "metadata": {},
   "outputs": [
    {
     "data": {
      "text/html": [
       "<div class=\"data-frame\"><p>6 rows × 3 columns</p><table class=\"data-frame\"><thead><tr><th></th><th>wiagid_monastery</th><th>loc_start</th><th>loc_end</th></tr><tr><th></th><th title=\"Union{Missing, String}\">String?</th><th title=\"Int64\">Int64</th><th title=\"Int64\">Int64</th></tr></thead><tbody><tr><th>1</th><td>81</td><td>1027</td><td>1803</td></tr><tr><th>2</th><td>93</td><td>1005</td><td>1803</td></tr><tr><th>3</th><td>95</td><td>1020</td><td>1810</td></tr><tr><th>4</th><td>99</td><td>1054</td><td>1810</td></tr><tr><th>5</th><td>100</td><td>1133</td><td>1803</td></tr><tr><th>6</th><td>101</td><td>1196</td><td>1810</td></tr></tbody></table></div>"
      ],
      "text/latex": [
       "\\begin{tabular}{r|ccc}\n",
       "\t& wiagid\\_monastery & loc\\_start & loc\\_end\\\\\n",
       "\t\\hline\n",
       "\t& String? & Int64 & Int64\\\\\n",
       "\t\\hline\n",
       "\t1 & 81 & 1027 & 1803 \\\\\n",
       "\t2 & 93 & 1005 & 1803 \\\\\n",
       "\t3 & 95 & 1020 & 1810 \\\\\n",
       "\t4 & 99 & 1054 & 1810 \\\\\n",
       "\t5 & 100 & 1133 & 1803 \\\\\n",
       "\t6 & 101 & 1196 & 1810 \\\\\n",
       "\\end{tabular}\n"
      ],
      "text/plain": [
       "\u001b[1m6×3 DataFrame\u001b[0m\n",
       "\u001b[1m Row \u001b[0m│\u001b[1m wiagid_monastery \u001b[0m\u001b[1m loc_start \u001b[0m\u001b[1m loc_end \u001b[0m\n",
       "\u001b[1m     \u001b[0m│\u001b[90m String?          \u001b[0m\u001b[90m Int64     \u001b[0m\u001b[90m Int64   \u001b[0m\n",
       "─────┼──────────────────────────────────────\n",
       "   1 │ 81                     1027     1803\n",
       "   2 │ 93                     1005     1803\n",
       "   3 │ 95                     1020     1810\n",
       "   4 │ 99                     1054     1810\n",
       "   5 │ 100                    1133     1803\n",
       "   6 │ 101                    1196     1810"
      ]
     },
     "execution_count": 37,
     "metadata": {},
     "output_type": "execute_result"
    }
   ],
   "source": [
    "df_mon_loc[17:22, [:wiagid_monastery, :loc_start, :loc_end]]"
   ]
  },
  {
   "cell_type": "code",
   "execution_count": 56,
   "metadata": {},
   "outputs": [
    {
     "data": {
      "text/plain": [
       "4-element Vector{Int64}:\n",
       " 3\n",
       " 7\n",
       " 8\n",
       " 9"
      ]
     },
     "execution_count": 56,
     "metadata": {},
     "output_type": "execute_result"
    }
   ],
   "source": [
    "in_epic_mon(id) = id in (4623, 20165, 791)\n",
    "findall(in_epic_mon, df_mon_loc.wiagid_monastery)"
   ]
  },
  {
   "cell_type": "markdown",
   "metadata": {},
   "source": [
    "Übernimm zunächst den Wert aus `location`"
   ]
  },
  {
   "cell_type": "code",
   "execution_count": 21,
   "metadata": {},
   "outputs": [
    {
     "data": {
      "text/plain": [
       "(7329, 19)"
      ]
     },
     "execution_count": 21,
     "metadata": {},
     "output_type": "execute_result"
    }
   ],
   "source": [
    "size(df_oc)"
   ]
  },
  {
   "cell_type": "code",
   "execution_count": 57,
   "metadata": {},
   "outputs": [],
   "source": [
    "df_oc[:, :location_show] .= df_oc[:, :location];"
   ]
  },
  {
   "cell_type": "code",
   "execution_count": 58,
   "metadata": {},
   "outputs": [
    {
     "data": {
      "text/plain": [
       "(7329, 19)"
      ]
     },
     "execution_count": 58,
     "metadata": {},
     "output_type": "execute_result"
    }
   ],
   "source": [
    "size(filter(:location_show => ismissing, df_oc))"
   ]
  },
  {
   "cell_type": "markdown",
   "metadata": {},
   "source": [
    "Suche für den Rest eindeutige Einträge in `df_mon_loc`"
   ]
  },
  {
   "cell_type": "code",
   "execution_count": 30,
   "metadata": {},
   "outputs": [
    {
     "data": {
      "text/plain": [
       "findvalid (generic function with 1 method)"
      ]
     },
     "execution_count": 30,
     "metadata": {},
     "output_type": "execute_result"
    }
   ],
   "source": [
    "\"\"\"\n",
    "    findvalid(cols, df)\n",
    "\n",
    "return first value in `df[:, cols]` which is not missing\n",
    "\"\"\"\n",
    "function findvalid(cols, df)\n",
    "    val = missing\n",
    "    for row in eachrow(df), col in cols\n",
    "        val = row[col]\n",
    "        if !ismissing(val)\n",
    "            break\n",
    "        end\n",
    "    end\n",
    "    return val\n",
    "end"
   ]
  },
  {
   "cell_type": "code",
   "execution_count": 38,
   "metadata": {},
   "outputs": [
    {
     "data": {
      "text/plain": [
       "match_dates"
      ]
     },
     "execution_count": 38,
     "metadata": {},
     "output_type": "execute_result"
    }
   ],
   "source": [
    "\"\"\"\n",
    "    match_dates(loc_start, loc_end, date_start, date_end)\n",
    "\n",
    "return `true` if `[:date_start, :date_end]` id not outside of `[:loc_start], [:loc_end]`\n",
    "\"\"\"\n",
    "function match_dates(loc_start, loc_end, date_start, date_end)\n",
    "    if !ismissing(loc_start) && !ismissing(date_end) && loc_start > date_end\n",
    "        return false\n",
    "    end\n",
    "    if !ismissing(loc_end) && !ismissing(date_start) && loc_end < date_start\n",
    "        return false\n",
    "    end\n",
    "    return true    \n",
    "end"
   ]
  },
  {
   "cell_type": "code",
   "execution_count": null,
   "metadata": {},
   "outputs": [],
   "source": []
  },
  {
   "cell_type": "markdown",
   "metadata": {},
   "source": [
    "Setze `location_show` mit Angaben aus `monastery_location`"
   ]
  },
  {
   "cell_type": "code",
   "execution_count": 63,
   "metadata": {},
   "outputs": [
    {
     "data": {
      "text/plain": [
       "0"
      ]
     },
     "execution_count": 63,
     "metadata": {},
     "output_type": "execute_result"
    }
   ],
   "source": [
    "n_match = 0\n",
    "for row in eachrow(df_oc)\n",
    "    id_monastery = row[:id_monastery]\n",
    "    if !ismissing(row[:location_show]) || ismissing(id_monastery)\n",
    "        continue\n",
    "    end\n",
    "    location_show = missing\n",
    "    df_match = filter(:wiagid_monastery => isequal(id_monastery), df_mon_loc)    \n",
    "    if size(df_match, 1) > 1\n",
    "        ff(loc_start, loc_end) = match_dates(loc_start, loc_end, row[:numdate_start], row[:numdate_end])\n",
    "        df_match = filter([:loc_start, :loc_end] => ff, df_match)\n",
    "    end\n",
    "    location_show = findvalid([:location_name, :place_name], df_match)\n",
    "    if !ismissing(location_show)\n",
    "        row[:location_show] = location_show\n",
    "        n_match += 1\n",
    "    end\n",
    "end \n",
    "n_match"
   ]
  },
  {
   "cell_type": "code",
   "execution_count": 64,
   "metadata": {},
   "outputs": [
    {
     "data": {
      "text/plain": [
       "7287"
      ]
     },
     "execution_count": 64,
     "metadata": {},
     "output_type": "execute_result"
    }
   ],
   "source": [
    "ix_mg = findall(ismissing, df_oc.location_show);\n",
    "length(ix_mg)"
   ]
  },
  {
   "cell_type": "code",
   "execution_count": 66,
   "metadata": {},
   "outputs": [],
   "source": [
    "df_oc[ix_mg, :location_show] .= df_oc[ix_mg, :diocese];"
   ]
  },
  {
   "cell_type": "code",
   "execution_count": 67,
   "metadata": {},
   "outputs": [
    {
     "data": {
      "text/plain": [
       "(84, 19)"
      ]
     },
     "execution_count": 67,
     "metadata": {},
     "output_type": "execute_result"
    }
   ],
   "source": [
    "size(filter(:location_show => ismissing, df_oc))"
   ]
  },
  {
   "cell_type": "code",
   "execution_count": 69,
   "metadata": {},
   "outputs": [
    {
     "name": "stderr",
     "output_type": "stream",
     "text": [
      "┌ Info: Rows inserted: 7329\n",
      "└ @ WiagDataSetup C:\\Users\\georg\\Documents\\projekte\\WiagDataSetup.jl\\src\\WiagDataSetup.jl:1202\n"
     ]
    },
    {
     "data": {
      "text/plain": [
       "7329"
      ]
     },
     "execution_count": 69,
     "metadata": {},
     "output_type": "execute_result"
    }
   ],
   "source": [
    "table_name = \"office\"\n",
    "Wds.filltable!(table_name, df_oc, clear_table = true)"
   ]
  }
 ],
 "metadata": {
  "kernelspec": {
   "display_name": "Julia 1.6.1",
   "language": "julia",
   "name": "julia-1.6"
  },
  "language_info": {
   "file_extension": ".jl",
   "mimetype": "application/julia",
   "name": "julia",
   "version": "1.6.1"
  }
 },
 "nbformat": 4,
 "nbformat_minor": 4
}
