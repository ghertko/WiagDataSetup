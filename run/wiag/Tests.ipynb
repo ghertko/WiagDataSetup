{
 "cells": [
  {
   "cell_type": "markdown",
   "metadata": {},
   "source": [
    "# Tests"
   ]
  },
  {
   "cell_type": "markdown",
   "metadata": {},
   "source": [
    "## Vorspann"
   ]
  },
  {
   "cell_type": "code",
   "execution_count": 1,
   "metadata": {},
   "outputs": [
    {
     "data": {
      "text/plain": [
       "\"..\\\\..\""
      ]
     },
     "execution_count": 1,
     "metadata": {},
     "output_type": "execute_result"
    }
   ],
   "source": [
    "# wds_path=\"C:\\\\Users\\\\Georg\\\\Documents\\\\projekte\\\\WiagDataSetup.jl\"\n",
    "wds_path=\"..\\\\..\""
   ]
  },
  {
   "cell_type": "code",
   "execution_count": 2,
   "metadata": {},
   "outputs": [],
   "source": [
    "cd(wds_path)"
   ]
  },
  {
   "cell_type": "code",
   "execution_count": 3,
   "metadata": {},
   "outputs": [
    {
     "data": {
      "text/plain": [
       "\"C:\\\\Users\\\\georg\\\\Documents\\\\projekte\\\\WiagDataSetup.jl\""
      ]
     },
     "execution_count": 3,
     "metadata": {},
     "output_type": "execute_result"
    }
   ],
   "source": [
    "pwd()"
   ]
  },
  {
   "cell_type": "code",
   "execution_count": 4,
   "metadata": {},
   "outputs": [],
   "source": [
    "using Pkg"
   ]
  },
  {
   "cell_type": "code",
   "execution_count": 5,
   "metadata": {},
   "outputs": [
    {
     "name": "stderr",
     "output_type": "stream",
     "text": [
      "\u001b[32m\u001b[1m  Activating\u001b[22m\u001b[39m project at `C:\\Users\\georg\\Documents\\projekte\\WiagDataSetup.jl`\n"
     ]
    }
   ],
   "source": [
    "Pkg.activate(\".\")"
   ]
  },
  {
   "cell_type": "code",
   "execution_count": 6,
   "metadata": {},
   "outputs": [],
   "source": [
    "using Revise, MySQL"
   ]
  },
  {
   "cell_type": "code",
   "execution_count": 7,
   "metadata": {},
   "outputs": [
    {
     "name": "stderr",
     "output_type": "stream",
     "text": [
      "┌ Info: Precompiling WiagDataSetup [522c5ebb-a018-4020-8ed4-420cb1a9f084]\n",
      "└ @ Base loading.jl:1423\n"
     ]
    }
   ],
   "source": [
    "using WiagDataSetup"
   ]
  },
  {
   "cell_type": "code",
   "execution_count": 8,
   "metadata": {},
   "outputs": [],
   "source": [
    "using DataFrames"
   ]
  },
  {
   "cell_type": "code",
   "execution_count": 9,
   "metadata": {},
   "outputs": [
    {
     "data": {
      "text/plain": [
       "WiagDataSetup"
      ]
     },
     "execution_count": 9,
     "metadata": {},
     "output_type": "execute_result"
    }
   ],
   "source": [
    "Wds = WiagDataSetup"
   ]
  },
  {
   "cell_type": "code",
   "execution_count": 10,
   "metadata": {},
   "outputs": [
    {
     "name": "stdout",
     "output_type": "stream",
     "text": [
      "Passwort für User georg: ········\n"
     ]
    },
    {
     "data": {
      "text/plain": [
       "MySQL.Connection(host=\"127.0.0.1\", user=\"georg\", port=\"3306\", db=\"wiag_in\")"
      ]
     },
     "execution_count": 10,
     "metadata": {},
     "output_type": "execute_result"
    }
   ],
   "source": [
    "Wds.setDBWIAG(user=\"georg\", db=\"wiag_in\")"
   ]
  },
  {
   "cell_type": "markdown",
   "metadata": {},
   "source": [
    "## parse Datumsangaben\n",
    "*2022-02-23* unscharfe Datumsangaben werden mit einer Reihe von Mustern interpretiert. Welche Angaben lassen sich nicht mit einem dieser Muster erfassen?\n",
    "\n",
    "Ersetze die Warnmeldungen `@warn` mit `@assert`"
   ]
  },
  {
   "cell_type": "markdown",
   "metadata": {},
   "source": [
    "### Domherrendatenbank"
   ]
  },
  {
   "cell_type": "markdown",
   "metadata": {},
   "source": [
    "Lebensdaten"
   ]
  },
  {
   "cell_type": "code",
   "execution_count": 11,
   "metadata": {},
   "outputs": [],
   "source": [
    "sql = \"SELECT id, givenname, familyname, date_birth, date_death\n",
    "FROM cn_canon \n",
    "WHERE status = 'online'\";\n",
    "df_canon = Wds.sql_df(sql);"
   ]
  },
  {
   "cell_type": "code",
   "execution_count": 20,
   "metadata": {},
   "outputs": [],
   "source": [
    "parse_date_lower(x) = Wds.parsemaybe(x, :lower);\n",
    "parse_date_upper(x) = Wds.parsemaybe(x, :upper);"
   ]
  },
  {
   "cell_type": "code",
   "execution_count": 24,
   "metadata": {},
   "outputs": [],
   "source": [
    "for row in eachrow(df_canon)\n",
    "    try\n",
    "        parse_date_lower(row.date_birth)\n",
    "    catch e\n",
    "        if isa(e, AssertionError)\n",
    "            println(e.msg, \" \", row.id, \" \", row.givenname, \" \", row.familyname)\n",
    "        else\n",
    "            throw(e)\n",
    "        end        \n",
    "    end\n",
    "end"
   ]
  },
  {
   "cell_type": "code",
   "execution_count": null,
   "metadata": {},
   "outputs": [],
   "source": [
    "for row in eachrow(df_canon)\n",
    "    try\n",
    "        parse_date_upper(row.date_death)\n",
    "    catch e\n",
    "        if isa(e, AssertionError)\n",
    "            println(e.msg, \" \", row.id, \" \", row.givenname, \" \", row.familyname)\n",
    "        else\n",
    "            throw(e)\n",
    "        end        \n",
    "    end\n",
    "end"
   ]
  },
  {
   "cell_type": "markdown",
   "metadata": {},
   "source": [
    "Geburts- und Sterbedatum ergeben keine Fehler."
   ]
  },
  {
   "cell_type": "markdown",
   "metadata": {},
   "source": [
    "Amtsdaten"
   ]
  },
  {
   "cell_type": "code",
   "execution_count": 25,
   "metadata": {},
   "outputs": [],
   "source": [
    "sql = \"SELECT id, id_canon, office_name, date_start, date_end\n",
    "FROM cn_office\";\n",
    "df_occ = Wds.sql_df(sql);"
   ]
  },
  {
   "cell_type": "code",
   "execution_count": 28,
   "metadata": {},
   "outputs": [
    {
     "name": "stdout",
     "output_type": "stream",
     "text": [
      "Could not parse unbekannt 10910 20277 Domdekan\n",
      "Could only find year in von 1521 10916 20296 Archidiakon\n",
      "Could not parse unbekannt 11033 20184 Propst\n",
      "Could not parse wohl im 9. Jahrhundert 13084 13464 Dompropst\n",
      "match doubtful: 11. oder 12. Jahrhundert-> 11 16281 25355 Domherr\n",
      "match doubtful: 11. oder 12. Jahrhundert-> 11 16282 25351 Domherr\n",
      "match doubtful: 11. oder 12. Jahrhundert-> 11 16311 24863 Domherr\n",
      "match doubtful: 11. oder 12. Jahrhundert-> 11 16315 25453 Domherr\n",
      "match doubtful: 11. oder 12. Jahrhundert-> 11 16316 25529 Domherr\n"
     ]
    }
   ],
   "source": [
    "for row in eachrow(df_occ)\n",
    "    try\n",
    "        parse_date_lower(row.date_start)\n",
    "    catch e\n",
    "        if isa(e, AssertionError)\n",
    "            println(e.msg, \" \", row.id, \" \", row.id_canon, \" \", row.office_name)\n",
    "        else\n",
    "            throw(e)\n",
    "        end        \n",
    "    end\n",
    "end"
   ]
  },
  {
   "cell_type": "markdown",
   "metadata": {},
   "source": [
    "SQL\n",
    "```sql\n",
    "SELECT id, id_canon, office_name, date_start\n",
    "FROM cn_office\n",
    "WHERE id in (10910, 10916, 11033, 13084, 16281, 16282, 16311, 16315, 16316)\n",
    "```"
   ]
  },
  {
   "cell_type": "code",
   "execution_count": 30,
   "metadata": {},
   "outputs": [],
   "source": [
    "for row in eachrow(df_occ)\n",
    "    try\n",
    "        parse_date_upper(row.date_end)\n",
    "    catch e\n",
    "        if isa(e, AssertionError)\n",
    "            println(e.msg, \" \", row.id, \" \", row.id_canon, \" \", row.office_name)\n",
    "        else\n",
    "            throw(e)\n",
    "        end        \n",
    "    end\n",
    "end"
   ]
  },
  {
   "cell_type": "markdown",
   "metadata": {},
   "source": [
    "### Personendatenbank/Digitales Personenregister"
   ]
  },
  {
   "cell_type": "markdown",
   "metadata": {},
   "source": [
    "Lebensdaten"
   ]
  },
  {
   "cell_type": "code",
   "execution_count": 11,
   "metadata": {},
   "outputs": [],
   "source": [
    "sql = \"SELECT id, givenname, familyname, date_birth, date_death\n",
    "FROM cn_canon_gs\n",
    "WHERE status = 'online'\";\n",
    "df_canon = Wds.sql_df(sql);"
   ]
  },
  {
   "cell_type": "code",
   "execution_count": 12,
   "metadata": {},
   "outputs": [
    {
     "data": {
      "text/plain": [
       "8564"
      ]
     },
     "execution_count": 12,
     "metadata": {},
     "output_type": "execute_result"
    }
   ],
   "source": [
    "size(df_canon, 1)"
   ]
  },
  {
   "cell_type": "code",
   "execution_count": 20,
   "metadata": {},
   "outputs": [],
   "source": [
    "parse_date_lower(x) = Wds.parsemaybe(x, :lower);\n",
    "parse_date_upper(x) = Wds.parsemaybe(x, :upper);"
   ]
  },
  {
   "cell_type": "code",
   "execution_count": 33,
   "metadata": {},
   "outputs": [],
   "source": [
    "for row in eachrow(df_canon)\n",
    "    try\n",
    "        parse_date_lower(row.date_birth)\n",
    "    catch e\n",
    "        if isa(e, AssertionError)\n",
    "            println(e.msg, \" \", row.id, \" \", row.givenname, \" \", row.familyname)\n",
    "        else\n",
    "            throw(e)\n",
    "        end        \n",
    "    end\n",
    "end"
   ]
  },
  {
   "cell_type": "code",
   "execution_count": 36,
   "metadata": {},
   "outputs": [
    {
     "name": "stdout",
     "output_type": "stream",
     "text": [
      "Could not parse 28. August 80647 Cuonradus missing\n",
      "Could not parse Kammerkleriker 83297 Caspar Struick\n"
     ]
    }
   ],
   "source": [
    "for row in eachrow(df_canon)\n",
    "    try\n",
    "        parse_date_upper(row.date_death)\n",
    "    catch e\n",
    "        if isa(e, AssertionError)\n",
    "            println(e.msg, \" \", row.id, \" \", row.givenname, \" \", row.familyname)\n",
    "        else\n",
    "            throw(e)\n",
    "        end        \n",
    "    end\n",
    "end"
   ]
  },
  {
   "cell_type": "markdown",
   "metadata": {},
   "source": [
    "SQL\n",
    "``` sql\n",
    "SELECT id, gsn_id, givenname, familyname, date_death\n",
    "FROM cn_canon_gs\n",
    "WHERE id in (80647, 83297)\n",
    "```"
   ]
  },
  {
   "cell_type": "markdown",
   "metadata": {},
   "source": [
    "Amtsdaten"
   ]
  },
  {
   "cell_type": "code",
   "execution_count": 37,
   "metadata": {},
   "outputs": [],
   "source": [
    "sql = \"SELECT id, id_canon, office_name, date_start, date_end\n",
    "FROM cn_office_gs\";\n",
    "df_occ = Wds.sql_df(sql);"
   ]
  },
  {
   "cell_type": "code",
   "execution_count": 45,
   "metadata": {},
   "outputs": [],
   "source": [
    "Wds.clean_up!(df_occ)"
   ]
  },
  {
   "cell_type": "code",
   "execution_count": 52,
   "metadata": {},
   "outputs": [
    {
     "name": "stderr",
     "output_type": "stream",
     "text": [
      "┌ Warning: Could only find year in \n",
      "│   s = um1220\n",
      "└ @ WiagDataSetup C:\\Users\\georg\\Documents\\projekte\\WiagDataSetup.jl\\src\\WiagDataSetup.jl:1097\n"
     ]
    }
   ],
   "source": [
    "for row in eachrow(df_occ)\n",
    "    try\n",
    "        parse_date_lower(row.date_start)\n",
    "    catch e\n",
    "        if isa(e, AssertionError)\n",
    "            println(e.msg, \" \", row.id, \" \", row.id_canon, \" \", row.office_name)\n",
    "        else\n",
    "            throw(e)\n",
    "        end        \n",
    "    end\n",
    "end"
   ]
  },
  {
   "cell_type": "markdown",
   "metadata": {},
   "source": [
    "SQL\n",
    "```sql\n",
    "SELECT o.id, o.id_canon, cn.gsn_id, office_name, date_start\n",
    "FROM cn_office_gs AS o\n",
    "JOIN cn_canon_gs AS cn ON cn.id = o.id_canon\n",
    "WHERE o.id in (80831);\n",
    "```"
   ]
  },
  {
   "cell_type": "code",
   "execution_count": 51,
   "metadata": {},
   "outputs": [],
   "source": [
    "for row in eachrow(df_occ)\n",
    "    try\n",
    "        parse_date_upper(row.date_end)\n",
    "    catch e\n",
    "        if isa(e, AssertionError)\n",
    "            println(e.msg, \" \", row.id, \" \", row.id_canon, \" \", row.office_name)\n",
    "        else\n",
    "            throw(e)\n",
    "        end        \n",
    "    end\n",
    "end"
   ]
  },
  {
   "cell_type": "markdown",
   "metadata": {},
   "source": [
    "## neue Sortierung\n",
    "*2022-02-23* siehe `C:\\Users\\georg\\Documents\\WIAG\\WIAG-Technik\\zeitlicheEingrenzung_sort.pdf`"
   ]
  },
  {
   "cell_type": "code",
   "execution_count": 11,
   "metadata": {},
   "outputs": [],
   "source": [
    "using DataFrames"
   ]
  },
  {
   "cell_type": "code",
   "execution_count": 52,
   "metadata": {},
   "outputs": [],
   "source": [
    "df_sample = DataFrame(\n",
    "    date_string = [\n",
    "        \"vor 1200\",\n",
    "        \"kurz vor 1200\",\n",
    "        \"1200\",\n",
    "        \"ca. 1200\",\n",
    "        \"um 1200\",\n",
    "        \"erstmals erwähnt 1200\",\n",
    "        \"kurz nach 1200\",\n",
    "        \"Anfang der 1200er Jahre\",\n",
    "        \"nach 1200\",\n",
    "        \"1200er Jahre\",\n",
    "        \"Anfang 12. Jh.\",\n",
    "        \"erstes Viertel des 12. Jhs.\",\n",
    "        \"1. Hälfte des 12. Jhs.\",\n",
    "        \"frühes 12. Jh.\",\n",
    "        \"zweites Viertel des 12. Jhs.\",\n",
    "        \"Mitte 12. Jh.\",\n",
    "        \"drittes Viertel des 12. Jhs.\",\n",
    "        \"2. Hälfte des 12. Jhs.\",\n",
    "        \"spätes 12. Jh.\",\n",
    "        \"Ende 12. Jh.\",\n",
    "        \"viertes Viertel des 12. Jhs.\",\n",
    "        \"12. Jahrhundert\",\n",
    "        \"wohl im 12. Jahrhundert\",\n",
    "        \"12. oder 13. Jahrhundert\"\n",
    "    ]\n",
    ");"
   ]
  },
  {
   "cell_type": "code",
   "execution_count": 53,
   "metadata": {},
   "outputs": [],
   "source": [
    "transform!(df_sample, :date_string => ByRow(Wds.parse_year_sort) => :sort);"
   ]
  },
  {
   "cell_type": "code",
   "execution_count": 54,
   "metadata": {},
   "outputs": [
    {
     "data": {
      "text/html": [
       "<div class=\"data-frame\"><p>24 rows × 2 columns</p><table class=\"data-frame\"><thead><tr><th></th><th>date_string</th><th>sort</th></tr><tr><th></th><th title=\"String\">String</th><th title=\"Int64\">Int64</th></tr></thead><tbody><tr><th>1</th><td>vor 1200</td><td>1200100</td></tr><tr><th>2</th><td>kurz vor 1200</td><td>1200105</td></tr><tr><th>3</th><td>1200</td><td>1200150</td></tr><tr><th>4</th><td>ca. 1200</td><td>1200200</td></tr><tr><th>5</th><td>um 1200</td><td>1200210</td></tr><tr><th>6</th><td>erstmals erwähnt 1200</td><td>1200110</td></tr><tr><th>7</th><td>kurz nach 1200</td><td>1200303</td></tr><tr><th>8</th><td>Anfang der 1200er Jahre</td><td>1200305</td></tr><tr><th>9</th><td>nach 1200</td><td>1200309</td></tr><tr><th>10</th><td>1200er Jahre</td><td>1200310</td></tr><tr><th>11</th><td>Anfang 12. Jh.</td><td>1199500</td></tr><tr><th>12</th><td>erstes Viertel des 12. Jhs.</td><td>1199530</td></tr><tr><th>13</th><td>1. Hälfte des 12. Jhs.</td><td>1199550</td></tr><tr><th>14</th><td>frühes 12. Jh.</td><td>1199555</td></tr><tr><th>15</th><td>zweites Viertel des 12. Jhs.</td><td>1199560</td></tr><tr><th>16</th><td>Mitte 12. Jh.</td><td>1199570</td></tr><tr><th>17</th><td>drittes Viertel des 12. Jhs.</td><td>1199580</td></tr><tr><th>18</th><td>2. Hälfte des 12. Jhs.</td><td>1199590</td></tr><tr><th>19</th><td>spätes 12. Jh.</td><td>1199593</td></tr><tr><th>20</th><td>Ende 12. Jh.</td><td>1199594</td></tr><tr><th>21</th><td>viertes Viertel des 12. Jhs.</td><td>1199595</td></tr><tr><th>22</th><td>12. Jahrhundert</td><td>1199800</td></tr><tr><th>23</th><td>wohl im 12. Jahrhundert</td><td>1199810</td></tr><tr><th>24</th><td>12. oder 13. Jahrhundert</td><td>1199850</td></tr></tbody></table></div>"
      ],
      "text/latex": [
       "\\begin{tabular}{r|cc}\n",
       "\t& date\\_string & sort\\\\\n",
       "\t\\hline\n",
       "\t& String & Int64\\\\\n",
       "\t\\hline\n",
       "\t1 & vor 1200 & 1200100 \\\\\n",
       "\t2 & kurz vor 1200 & 1200105 \\\\\n",
       "\t3 & 1200 & 1200150 \\\\\n",
       "\t4 & ca. 1200 & 1200200 \\\\\n",
       "\t5 & um 1200 & 1200210 \\\\\n",
       "\t6 & erstmals erwähnt 1200 & 1200110 \\\\\n",
       "\t7 & kurz nach 1200 & 1200303 \\\\\n",
       "\t8 & Anfang der 1200er Jahre & 1200305 \\\\\n",
       "\t9 & nach 1200 & 1200309 \\\\\n",
       "\t10 & 1200er Jahre & 1200310 \\\\\n",
       "\t11 & Anfang 12. Jh. & 1199500 \\\\\n",
       "\t12 & erstes Viertel des 12. Jhs. & 1199530 \\\\\n",
       "\t13 & 1. Hälfte des 12. Jhs. & 1199550 \\\\\n",
       "\t14 & frühes 12. Jh. & 1199555 \\\\\n",
       "\t15 & zweites Viertel des 12. Jhs. & 1199560 \\\\\n",
       "\t16 & Mitte 12. Jh. & 1199570 \\\\\n",
       "\t17 & drittes Viertel des 12. Jhs. & 1199580 \\\\\n",
       "\t18 & 2. Hälfte des 12. Jhs. & 1199590 \\\\\n",
       "\t19 & spätes 12. Jh. & 1199593 \\\\\n",
       "\t20 & Ende 12. Jh. & 1199594 \\\\\n",
       "\t21 & viertes Viertel des 12. Jhs. & 1199595 \\\\\n",
       "\t22 & 12. Jahrhundert & 1199800 \\\\\n",
       "\t23 & wohl im 12. Jahrhundert & 1199810 \\\\\n",
       "\t24 & 12. oder 13. Jahrhundert & 1199850 \\\\\n",
       "\\end{tabular}\n"
      ],
      "text/plain": [
       "\u001b[1m24×2 DataFrame\u001b[0m\n",
       "\u001b[1m Row \u001b[0m│\u001b[1m date_string                  \u001b[0m\u001b[1m sort    \u001b[0m\n",
       "\u001b[1m     \u001b[0m│\u001b[90m String                       \u001b[0m\u001b[90m Int64   \u001b[0m\n",
       "─────┼───────────────────────────────────────\n",
       "   1 │ vor 1200                      1200100\n",
       "   2 │ kurz vor 1200                 1200105\n",
       "   3 │ 1200                          1200150\n",
       "   4 │ ca. 1200                      1200200\n",
       "   5 │ um 1200                       1200210\n",
       "   6 │ erstmals erwähnt 1200         1200110\n",
       "   7 │ kurz nach 1200                1200303\n",
       "   8 │ Anfang der 1200er Jahre       1200305\n",
       "   9 │ nach 1200                     1200309\n",
       "  10 │ 1200er Jahre                  1200310\n",
       "  11 │ Anfang 12. Jh.                1199500\n",
       "  ⋮  │              ⋮                   ⋮\n",
       "  15 │ zweites Viertel des 12. Jhs.  1199560\n",
       "  16 │ Mitte 12. Jh.                 1199570\n",
       "  17 │ drittes Viertel des 12. Jhs.  1199580\n",
       "  18 │ 2. Hälfte des 12. Jhs.        1199590\n",
       "  19 │ spätes 12. Jh.                1199593\n",
       "  20 │ Ende 12. Jh.                  1199594\n",
       "  21 │ viertes Viertel des 12. Jhs.  1199595\n",
       "  22 │ 12. Jahrhundert               1199800\n",
       "  23 │ wohl im 12. Jahrhundert       1199810\n",
       "  24 │ 12. oder 13. Jahrhundert      1199850\n",
       "\u001b[36m                               3 rows omitted\u001b[0m"
      ]
     },
     "execution_count": 54,
     "metadata": {},
     "output_type": "execute_result"
    }
   ],
   "source": [
    "df_sample"
   ]
  },
  {
   "cell_type": "code",
   "execution_count": null,
   "metadata": {},
   "outputs": [],
   "source": []
  },
  {
   "cell_type": "markdown",
   "metadata": {},
   "source": [
    "## parse Datumsangaben zur Sortierung\n",
    "*2022-02-23* unscharfe Datumsangaben werden mit einer Reihe von Mustern interpretiert. Welche Angaben lassen sich nicht mit einem dieser Muster erfassen?\n",
    "\n",
    "Ersetze die Warnmeldungen `@warn` mit `@assert`"
   ]
  },
  {
   "cell_type": "markdown",
   "metadata": {},
   "source": [
    "### Domherrendatenbank"
   ]
  },
  {
   "cell_type": "markdown",
   "metadata": {},
   "source": [
    "Lebensdaten"
   ]
  },
  {
   "cell_type": "code",
   "execution_count": 46,
   "metadata": {},
   "outputs": [],
   "source": [
    "sql = \"SELECT id, givenname, familyname, date_birth, date_death\n",
    "FROM cn_canon \n",
    "WHERE status = 'online'\";\n",
    "df_canon = Wds.sql_df(sql);"
   ]
  },
  {
   "cell_type": "code",
   "execution_count": 47,
   "metadata": {},
   "outputs": [
    {
     "name": "stdout",
     "output_type": "stream",
     "text": [
      "could not parse (nach) 1317 20463 Konard Valkenstein\n",
      "could not parse (vor) 1346 26583 Ludolf Wohldenberg\n"
     ]
    }
   ],
   "source": [
    "for row in eachrow(df_canon)\n",
    "    try\n",
    "        Wds.parse_year_sort(row.date_birth)\n",
    "        Wds.parse_year_sort(row.date_death)\n",
    "    catch e\n",
    "        if isa(e, AssertionError)\n",
    "            println(e.msg, \" \", row.id, \" \", row.givenname, \" \", row.familyname)\n",
    "        else\n",
    "            throw(e)\n",
    "        end        \n",
    "    end\n",
    "end"
   ]
  },
  {
   "cell_type": "markdown",
   "metadata": {},
   "source": [
    "Amtsdaten"
   ]
  },
  {
   "cell_type": "code",
   "execution_count": 32,
   "metadata": {},
   "outputs": [],
   "source": [
    "sql = \"SELECT id, id_canon, office_name, date_start, date_end\n",
    "FROM cn_office\";\n",
    "df_occ = Wds.sql_df(sql);"
   ]
  },
  {
   "cell_type": "code",
   "execution_count": 34,
   "metadata": {},
   "outputs": [],
   "source": [
    "Wds.clean_up!(df_occ)"
   ]
  },
  {
   "cell_type": "code",
   "execution_count": 35,
   "metadata": {},
   "outputs": [
    {
     "name": "stdout",
     "output_type": "stream",
     "text": [
      "could not parse von 1521 10916 20296 Archidiakon\n",
      "could not parse (vor) 1464 12498 13672 Domherr\n"
     ]
    }
   ],
   "source": [
    "for row in eachrow(df_occ)\n",
    "    try\n",
    "        Wds.parse_year_sort(row.date_start)\n",
    "        Wds.parse_year_sort(row.date_end)\n",
    "    catch e\n",
    "        if isa(e, AssertionError)\n",
    "            println(e.msg, \" \", row.id, \" \", row.id_canon, \" \", row.office_name)\n",
    "        else\n",
    "            throw(e)\n",
    "        end        \n",
    "    end\n",
    "end"
   ]
  },
  {
   "cell_type": "code",
   "execution_count": 30,
   "metadata": {},
   "outputs": [],
   "source": [
    "for row in eachrow(df_occ)\n",
    "    try\n",
    "        parse_date_upper(row.date_end)\n",
    "    catch e\n",
    "        if isa(e, AssertionError)\n",
    "            println(e.msg, \" \", row.id, \" \", row.id_canon, \" \", row.office_name)\n",
    "        else\n",
    "            throw(e)\n",
    "        end        \n",
    "    end\n",
    "end"
   ]
  },
  {
   "cell_type": "markdown",
   "metadata": {},
   "source": [
    "### Personendatenbank/Digitales Personenregister"
   ]
  },
  {
   "cell_type": "markdown",
   "metadata": {},
   "source": [
    "Lebensdaten"
   ]
  },
  {
   "cell_type": "code",
   "execution_count": 39,
   "metadata": {},
   "outputs": [],
   "source": [
    "sql = \"SELECT id, givenname, familyname, date_birth, date_death\n",
    "FROM cn_canon_gs\n",
    "WHERE status = 'online'\";\n",
    "df_canon = Wds.sql_df(sql);"
   ]
  },
  {
   "cell_type": "code",
   "execution_count": 40,
   "metadata": {},
   "outputs": [],
   "source": [
    "Wds.clean_up!(df_canon)"
   ]
  },
  {
   "cell_type": "code",
   "execution_count": 41,
   "metadata": {},
   "outputs": [
    {
     "data": {
      "text/plain": [
       "8396"
      ]
     },
     "execution_count": 41,
     "metadata": {},
     "output_type": "execute_result"
    }
   ],
   "source": [
    "size(df_canon, 1)"
   ]
  },
  {
   "cell_type": "code",
   "execution_count": 42,
   "metadata": {},
   "outputs": [
    {
     "name": "stdout",
     "output_type": "stream",
     "text": [
      "could not parse 28. August 80647 Cuonradus missing\n",
      "could not parse Kammerkleriker 83297 Caspar Struick\n"
     ]
    }
   ],
   "source": [
    "for row in eachrow(df_canon)\n",
    "    try\n",
    "        Wds.parse_year_sort(row.date_birth)\n",
    "        Wds.parse_year_sort(row.date_death)\n",
    "    catch e\n",
    "        if isa(e, AssertionError)\n",
    "            println(e.msg, \" \", row.id, \" \", row.givenname, \" \", row.familyname)\n",
    "        else\n",
    "            throw(e)\n",
    "        end        \n",
    "    end\n",
    "end"
   ]
  },
  {
   "cell_type": "markdown",
   "metadata": {},
   "source": [
    "Amtsdaten"
   ]
  },
  {
   "cell_type": "code",
   "execution_count": 13,
   "metadata": {},
   "outputs": [],
   "source": [
    "sql = \"SELECT id, id_canon, office_name, date_start, date_end\n",
    "FROM cn_office_gs\";\n",
    "df_occ = Wds.sql_df(sql);"
   ]
  },
  {
   "cell_type": "code",
   "execution_count": 14,
   "metadata": {},
   "outputs": [],
   "source": [
    "Wds.clean_up!(df_occ)"
   ]
  },
  {
   "cell_type": "code",
   "execution_count": 15,
   "metadata": {},
   "outputs": [],
   "source": [
    "for row in eachrow(df_occ)\n",
    "    try\n",
    "        Wds.parse_year_sort(row.date_start)\n",
    "        Wds.parse_year_sort(row.date_end)\n",
    "    catch e\n",
    "        if isa(e, AssertionError)\n",
    "            println(e.msg, \" \", row.id, \" \", row.id_canon, \" \", row.office_name)\n",
    "        else\n",
    "            throw(e)\n",
    "        end        \n",
    "    end\n",
    "end"
   ]
  },
  {
   "cell_type": "markdown",
   "metadata": {},
   "source": [
    "## Debug"
   ]
  },
  {
   "cell_type": "code",
   "execution_count": 61,
   "metadata": {},
   "outputs": [
    {
     "data": {
      "text/plain": [
       "1099850"
      ]
     },
     "execution_count": 61,
     "metadata": {},
     "output_type": "execute_result"
    }
   ],
   "source": [
    "Wds.parse_year_sort(\"11./12. Jahrhundert\")"
   ]
  },
  {
   "cell_type": "code",
   "execution_count": 63,
   "metadata": {},
   "outputs": [
    {
     "data": {
      "text/plain": [
       "1001"
      ]
     },
     "execution_count": 63,
     "metadata": {},
     "output_type": "execute_result"
    }
   ],
   "source": [
    "Wds.parsemaybe(\"11. oder 12. Jahrhundert\", :lower)"
   ]
  },
  {
   "cell_type": "code",
   "execution_count": null,
   "metadata": {},
   "outputs": [],
   "source": []
  },
  {
   "cell_type": "code",
   "execution_count": null,
   "metadata": {},
   "outputs": [],
   "source": []
  }
 ],
 "metadata": {
  "kernelspec": {
   "display_name": "Julia 1.7.0",
   "language": "julia",
   "name": "julia-1.7"
  },
  "language_info": {
   "file_extension": ".jl",
   "mimetype": "application/julia",
   "name": "julia",
   "version": "1.7.0"
  }
 },
 "nbformat": 4,
 "nbformat_minor": 4
}
