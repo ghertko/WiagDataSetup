{
 "cells": [
  {
   "cell_type": "markdown",
   "metadata": {},
   "source": [
    "# Domherren der Personendatenbank\n",
    "## Datenimport / -update WIAGweb 1\n",
    "\n",
    "Quellen: Personendatenbank (über https://mysql.gwdg.de/)  \n",
    "C:\\Users\\georg\\Documents\\projekte-doc\\gso\\data\n",
    "\n",
    "- [Personendaten](#Personendaten)\n",
    "- [IDs zuordnen](#IDs_zuordnen)\n",
    "- [Literaturangaben](#Literaturangaben)\n",
    "- [Ämter](#Ämter)\n",
    "\n",
    "2021-11-09"
   ]
  },
  {
   "cell_type": "code",
   "execution_count": 2,
   "metadata": {},
   "outputs": [
    {
     "data": {
      "text/plain": [
       "\"C:\\\\Users\\\\Georg\\\\Documents\\\\projekte\\\\WiagDataSetup.jl\""
      ]
     },
     "execution_count": 2,
     "metadata": {},
     "output_type": "execute_result"
    }
   ],
   "source": [
    "wds_path=\"C:\\\\Users\\\\Georg\\\\Documents\\\\projekte\\\\WiagDataSetup.jl\""
   ]
  },
  {
   "cell_type": "code",
   "execution_count": 3,
   "metadata": {},
   "outputs": [],
   "source": [
    "cd(wds_path)"
   ]
  },
  {
   "cell_type": "code",
   "execution_count": 4,
   "metadata": {},
   "outputs": [],
   "source": [
    "using Pkg"
   ]
  },
  {
   "cell_type": "code",
   "execution_count": 5,
   "metadata": {},
   "outputs": [],
   "source": [
    "Pkg.activate(\".\")"
   ]
  },
  {
   "cell_type": "code",
   "execution_count": 6,
   "metadata": {},
   "outputs": [],
   "source": [
    "using Revise"
   ]
  },
  {
   "cell_type": "code",
   "execution_count": 7,
   "metadata": {},
   "outputs": [
    {
     "name": "stderr",
     "output_type": "stream",
     "text": [
      "┌ Info: Precompiling WiagDataSetup [522c5ebb-a018-4020-8ed4-420cb1a9f084]\n",
      "└ @ Base loading.jl:1317\n"
     ]
    }
   ],
   "source": [
    "using WiagDataSetup"
   ]
  },
  {
   "cell_type": "code",
   "execution_count": 8,
   "metadata": {},
   "outputs": [],
   "source": [
    "using MySQL"
   ]
  },
  {
   "cell_type": "code",
   "execution_count": 9,
   "metadata": {},
   "outputs": [],
   "source": [
    "using DataFrames"
   ]
  },
  {
   "cell_type": "code",
   "execution_count": 10,
   "metadata": {},
   "outputs": [
    {
     "data": {
      "text/plain": [
       "WiagDataSetup"
      ]
     },
     "execution_count": 10,
     "metadata": {},
     "output_type": "execute_result"
    }
   ],
   "source": [
    "Wds = WiagDataSetup"
   ]
  },
  {
   "cell_type": "code",
   "execution_count": 11,
   "metadata": {},
   "outputs": [
    {
     "name": "stdout",
     "output_type": "stream",
     "text": [
      "Passwort für User georg\n",
      "stdin> topf&deckel\n"
     ]
    },
    {
     "data": {
      "text/plain": [
       "MySQL.Connection(host=\"127.0.0.1\", user=\"georg\", port=\"3306\", db=\"wiag_in\")"
      ]
     },
     "execution_count": 11,
     "metadata": {},
     "output_type": "execute_result"
    }
   ],
   "source": [
    "Wds.setDBWIAG(user=\"georg\", db=\"wiag_in\")"
   ]
  },
  {
   "cell_type": "code",
   "execution_count": 11,
   "metadata": {},
   "outputs": [],
   "source": [
    "db_exec(sql) = DBInterface.execute(Wds.dbwiag, sql) |> DataFrame;"
   ]
  },
  {
   "cell_type": "markdown",
   "metadata": {},
   "source": [
    "Datenbank anlegen: `wiag_in`  \n",
    "Tabellen anlegen: siehe `domherren_create.sql`\n",
    "- `cn_canon_gs`\n",
    "- `cn_office_gs`\n",
    "- `cn_canon_reference_gs`\n",
    "- `cn_reference_gs`"
   ]
  },
  {
   "cell_type": "markdown",
   "metadata": {},
   "source": [
    "## Personendaten"
   ]
  },
  {
   "cell_type": "markdown",
   "metadata": {},
   "source": [
    "Betrachte nur Personen, deren Eintrag nicht gelöscht ist und die online sind. Aus einem nicht erschließbaren Grund ist `item_id` nur eindeutig, wenn aus der Tabelle `gsn` nur der Eintrag mit der kleinsten ID berücksichtigt wird.\n",
    "``` sql\n",
    "select gsn.nummer, item_id, gsn.deleted, items.deleted, items.status from gsn join items on gsn.item_id = items.id where items.status = 'online' and not items.deleted limit 12 offset 4000;\n",
    "select count(*) from gsn join items on gsn.item_id = items.id where items.status = 'online' and not items.deleted;\n",
    "```\n",
    "96996\n",
    "``` sql\n",
    "select count(distinct(gsn.nummer)) from gsn join items on gsn.item_id = items.id where items.status = 'online' and not items.deleted;\n",
    "```\n",
    "96995\n",
    "``` sql\n",
    "create temporary table item_online as\n",
    "select min(gsn.id) as gsn_tbl_id, gsn.nummer, item_id, items.deleted, items.status\n",
    "from gso_in_202111.gsn join gso_in_202111.items on gsn.item_id = items.id where items.status = 'online'\n",
    "group by items.id;\n",
    "```\n",
    "87247"
   ]
  },
  {
   "cell_type": "code",
   "execution_count": 19,
   "metadata": {},
   "outputs": [],
   "source": [
    "sql = \"SELECT min(gsn.id) as gsn_tbl_id, gsn.nummer as gsn_id, max(item_id) as item_id, items.status \" * \n",
    "\"FROM gso_in_202111.gsn JOIN gso_in_202111.items ON gsn.item_id = items.id \" *\n",
    "\"WHERE items.status = 'online' AND NOT items.deleted \" *\n",
    "\"GROUP BY item_id\";\n",
    "df_p_online = db_exec(sql);"
   ]
  },
  {
   "cell_type": "code",
   "execution_count": 20,
   "metadata": {},
   "outputs": [
    {
     "data": {
      "text/plain": [
       "(79951, 4)"
      ]
     },
     "execution_count": 20,
     "metadata": {},
     "output_type": "execute_result"
    }
   ],
   "source": [
    "size(df_p_online)"
   ]
  },
  {
   "cell_type": "markdown",
   "metadata": {},
   "source": [
    "Ermittle die IDs der Domherren anhand der relevanten Stifte."
   ]
  },
  {
   "cell_type": "code",
   "execution_count": 21,
   "metadata": {},
   "outputs": [],
   "source": [
    "sql = \"SELECT gs_id FROM wiag.domstift\"\n",
    "df_ds = db_exec(sql);"
   ]
  },
  {
   "cell_type": "code",
   "execution_count": 22,
   "metadata": {},
   "outputs": [
    {
     "data": {
      "text/plain": [
       "(34, 1)"
      ]
     },
     "execution_count": 22,
     "metadata": {},
     "output_type": "execute_result"
    }
   ],
   "source": [
    "size(df_ds)"
   ]
  },
  {
   "cell_type": "code",
   "execution_count": 23,
   "metadata": {},
   "outputs": [
    {
     "data": {
      "text/plain": [
       "\"3498, 3492, 701, 343, 60130, 3493, 3496, 783, 675, 739, 832, 3503, 3499, 736, 676, 3488, 3501, 792, 794, 616, 628, 3491, 803, 953, 3495, 226, 3494, 679, 2066, 3489, 3500, 3487, 3490, 3502\""
      ]
     },
     "execution_count": 23,
     "metadata": {},
     "output_type": "execute_result"
    }
   ],
   "source": [
    "str_ds = join(df_ds.gs_id, \", \")"
   ]
  },
  {
   "cell_type": "code",
   "execution_count": 24,
   "metadata": {},
   "outputs": [],
   "source": [
    "sql = \"SELECT DISTINCT person_id \" *\n",
    "\"FROM gso_in_202111.offices \" *\n",
    "\"WHERE klosterid in (\" * str_ds * \") \"\n",
    "df_ids_cn = db_exec(sql);"
   ]
  },
  {
   "cell_type": "code",
   "execution_count": 93,
   "metadata": {},
   "outputs": [
    {
     "data": {
      "text/plain": [
       "(11342, 1)"
      ]
     },
     "execution_count": 93,
     "metadata": {},
     "output_type": "execute_result"
    }
   ],
   "source": [
    "size(df_ids_cn)"
   ]
  },
  {
   "cell_type": "code",
   "execution_count": 25,
   "metadata": {},
   "outputs": [],
   "source": [
    "str_ids_cn = join(df_ids_cn.person_id, \", \");"
   ]
  },
  {
   "cell_type": "markdown",
   "metadata": {},
   "source": [
    "Lies Personendaten"
   ]
  },
  {
   "cell_type": "code",
   "execution_count": 26,
   "metadata": {},
   "outputs": [],
   "source": [
    "sql = \"SELECT p.id as id_person_gso, item_id, \" *\n",
    "\"namenspraefix as prefix_name, vorname as givenname, familienname as familyname, \" *\n",
    "\"sterbedatum as date_death, geburtsdatum as date_birth, `orden` as religious_order, \" *\n",
    "\"anmerkungen as annotation_ed, titel as academic_title, \" * \n",
    "\"gndnummer as gnd_id, viaf as viaf_id, \" *\n",
    "\"familiennamenvarianten as familyname_variant, vornamenvarianten as givenname_variant, \" *\n",
    "\"namenszusatz as comment_name, \" *\n",
    "\"zeitraum_von as date_hist_first, zeitraum_bis as date_hist_last \" *\n",
    "\"FROM gso_in_202111.persons as p \" *\n",
    "\"WHERE p.id IN (\" * str_ids_cn * \") \" *\n",
    "\"ORDER BY p.id\"\n",
    "df_p_cn = db_exec(sql);"
   ]
  },
  {
   "cell_type": "code",
   "execution_count": 27,
   "metadata": {},
   "outputs": [],
   "source": [
    "Wds.clean_up!(df_p_cn)"
   ]
  },
  {
   "cell_type": "code",
   "execution_count": 28,
   "metadata": {},
   "outputs": [
    {
     "data": {
      "text/plain": [
       "(11342, 17)"
      ]
     },
     "execution_count": 28,
     "metadata": {},
     "output_type": "execute_result"
    }
   ],
   "source": [
    "size(df_p_cn)"
   ]
  },
  {
   "cell_type": "markdown",
   "metadata": {},
   "source": [
    "Ergänze die GSN und beschränke auf Domherren, die online sind."
   ]
  },
  {
   "cell_type": "code",
   "execution_count": 29,
   "metadata": {},
   "outputs": [],
   "source": [
    "df_p_cn = innerjoin(df_p_cn, df_p_online, on = :item_id);"
   ]
  },
  {
   "cell_type": "code",
   "execution_count": 30,
   "metadata": {},
   "outputs": [
    {
     "data": {
      "text/plain": [
       "(7510, 20)"
      ]
     },
     "execution_count": 30,
     "metadata": {},
     "output_type": "execute_result"
    }
   ],
   "source": [
    "size(df_p_cn)"
   ]
  },
  {
   "cell_type": "code",
   "execution_count": 83,
   "metadata": {},
   "outputs": [
    {
     "data": {
      "text/plain": [
       "20-element Vector{String}:\n",
       " \"id_person_gso\"\n",
       " \"item_id\"\n",
       " \"prefix_name\"\n",
       " \"givenname\"\n",
       " \"familyname\"\n",
       " \"date_death\"\n",
       " \"date_birth\"\n",
       " \"religious_order\"\n",
       " \"annotation_ed\"\n",
       " \"academic_title\"\n",
       " \"gnd_id\"\n",
       " \"viaf_id\"\n",
       " \"familyname_variant\"\n",
       " \"givenname_variant\"\n",
       " \"comment_name\"\n",
       " \"date_hist_first\"\n",
       " \"date_hist_last\"\n",
       " \"gsn_tbl_id\"\n",
       " \"gsn_id\"\n",
       " \"status\""
      ]
     },
     "execution_count": 83,
     "metadata": {},
     "output_type": "execute_result"
    }
   ],
   "source": [
    "names(df_p_cn)"
   ]
  },
  {
   "cell_type": "code",
   "execution_count": 102,
   "metadata": {},
   "outputs": [
    {
     "data": {
      "text/html": [
       "<div class=\"data-frame\"><p>6 rows × 20 columns (omitted printing of 13 columns)</p><table class=\"data-frame\"><thead><tr><th></th><th>id_person_gso</th><th>item_id</th><th>prefix_name</th><th>givenname</th><th>familyname</th><th>date_death</th><th>date_birth</th></tr><tr><th></th><th title=\"Int32\">Int32</th><th title=\"Int32\">Int32</th><th title=\"String\">String</th><th title=\"String\">String</th><th title=\"String\">String</th><th title=\"String\">String</th><th title=\"String\">String</th></tr></thead><tbody><tr><th>1</th><td>4586</td><td>4586</td><td></td><td>Nikolaus</td><td>Amelung</td><td></td><td></td></tr><tr><th>2</th><td>4590</td><td>4590</td><td>von</td><td>Johann</td><td>Angern</td><td>1423</td><td></td></tr><tr><th>3</th><td>4620</td><td>4620</td><td></td><td>Lorenz</td><td>Bading</td><td>1557</td><td></td></tr><tr><th>4</th><td>4623</td><td>4623</td><td>(von)</td><td>Werner</td><td>Balck</td><td></td><td></td></tr><tr><th>5</th><td>4678</td><td>4678</td><td>(von)</td><td>Johannes</td><td>Bellin</td><td></td><td></td></tr><tr><th>6</th><td>4684</td><td>4684</td><td>von</td><td>Werner</td><td>Berg</td><td></td><td></td></tr></tbody></table></div>"
      ],
      "text/latex": [
       "\\begin{tabular}{r|cccccccc}\n",
       "\t& id\\_person\\_gso & item\\_id & prefix\\_name & givenname & familyname & date\\_death & date\\_birth & \\\\\n",
       "\t\\hline\n",
       "\t& Int32 & Int32 & String & String & String & String & String & \\\\\n",
       "\t\\hline\n",
       "\t1 & 4586 & 4586 &  & Nikolaus & Amelung &  &  & $\\dots$ \\\\\n",
       "\t2 & 4590 & 4590 & von & Johann & Angern & 1423 &  & $\\dots$ \\\\\n",
       "\t3 & 4620 & 4620 &  & Lorenz & Bading & 1557 &  & $\\dots$ \\\\\n",
       "\t4 & 4623 & 4623 & (von) & Werner & Balck &  &  & $\\dots$ \\\\\n",
       "\t5 & 4678 & 4678 & (von) & Johannes & Bellin &  &  & $\\dots$ \\\\\n",
       "\t6 & 4684 & 4684 & von & Werner & Berg &  &  & $\\dots$ \\\\\n",
       "\\end{tabular}\n"
      ],
      "text/plain": [
       "\u001b[1m6×20 DataFrame\u001b[0m\n",
       "\u001b[1m Row \u001b[0m│\u001b[1m id_person_gso \u001b[0m\u001b[1m item_id \u001b[0m\u001b[1m prefix_name \u001b[0m\u001b[1m givenname \u001b[0m\u001b[1m familyname \u001b[0m\u001b[1m date_death \u001b[0m\u001b[1m\u001b[0m ⋯\n",
       "\u001b[1m     \u001b[0m│\u001b[90m Int32         \u001b[0m\u001b[90m Int32   \u001b[0m\u001b[90m String      \u001b[0m\u001b[90m String    \u001b[0m\u001b[90m String     \u001b[0m\u001b[90m String     \u001b[0m\u001b[90m\u001b[0m ⋯\n",
       "─────┼──────────────────────────────────────────────────────────────────────────\n",
       "   1 │          4586     4586               Nikolaus   Amelung                 ⋯\n",
       "   2 │          4590     4590  von          Johann     Angern      1423\n",
       "   3 │          4620     4620               Lorenz     Bading      1557\n",
       "   4 │          4623     4623  (von)        Werner     Balck\n",
       "   5 │          4678     4678  (von)        Johannes   Bellin                  ⋯\n",
       "   6 │          4684     4684  von          Werner     Berg\n",
       "\u001b[36m                                                              14 columns omitted\u001b[0m"
      ]
     },
     "execution_count": 102,
     "metadata": {},
     "output_type": "execute_result"
    }
   ],
   "source": [
    "first(df_p_cn, 6)"
   ]
  },
  {
   "cell_type": "markdown",
   "metadata": {},
   "source": [
    "### IDs zuordnen\n",
    "Lies bestehende IDs"
   ]
  },
  {
   "cell_type": "code",
   "execution_count": 31,
   "metadata": {},
   "outputs": [],
   "source": [
    "sql = \"SELECT id, id_person_gso FROM wiag.cn_canon_gs\"\n",
    "df_id_cn_wiag = db_exec(sql);"
   ]
  },
  {
   "cell_type": "code",
   "execution_count": 33,
   "metadata": {},
   "outputs": [],
   "source": [
    "df_p_cn = leftjoin(df_p_cn, df_id_cn_wiag, on = :id_person_gso);"
   ]
  },
  {
   "cell_type": "code",
   "execution_count": 34,
   "metadata": {},
   "outputs": [
    {
     "data": {
      "text/plain": [
       "(7510, 21)"
      ]
     },
     "execution_count": 34,
     "metadata": {},
     "output_type": "execute_result"
    }
   ],
   "source": [
    "size(df_p_cn)"
   ]
  },
  {
   "cell_type": "code",
   "execution_count": 35,
   "metadata": {},
   "outputs": [
    {
     "data": {
      "text/plain": [
       "(0,)"
      ]
     },
     "execution_count": 35,
     "metadata": {},
     "output_type": "execute_result"
    }
   ],
   "source": [
    "size(filter(ismissing, df_p_cn.id)) # zweiter Durchlauf (für alle werden IDs gefunden)"
   ]
  },
  {
   "cell_type": "code",
   "execution_count": 109,
   "metadata": {},
   "outputs": [
    {
     "data": {
      "text/plain": [
       "7530"
      ]
     },
     "execution_count": 109,
     "metadata": {},
     "output_type": "execute_result"
    }
   ],
   "source": [
    "7313 + 217"
   ]
  },
  {
   "cell_type": "markdown",
   "metadata": {},
   "source": [
    "Es gibt etliche neue Domherren, aber 20 sind auch nicht mehr da?!"
   ]
  },
  {
   "cell_type": "code",
   "execution_count": 21,
   "metadata": {},
   "outputs": [],
   "source": [
    "df_cn_gone = antijoin(df_id_cn_wiag, df_p_cn, on = :id_person_gso);"
   ]
  },
  {
   "cell_type": "code",
   "execution_count": 22,
   "metadata": {},
   "outputs": [
    {
     "data": {
      "text/html": [
       "<div class=\"data-frame\"><p>5 rows × 2 columns</p><table class=\"data-frame\"><thead><tr><th></th><th>id</th><th>id_person_gso</th></tr><tr><th></th><th title=\"Int32\">Int32</th><th title=\"Union{Missing, Int32}\">Int32?</th></tr></thead><tbody><tr><th>1</th><td>80403</td><td>10814</td></tr><tr><th>2</th><td>80732</td><td>17882</td></tr><tr><th>3</th><td>80965</td><td>23099</td></tr><tr><th>4</th><td>81144</td><td>44556</td></tr><tr><th>5</th><td>81153</td><td>45016</td></tr></tbody></table></div>"
      ],
      "text/latex": [
       "\\begin{tabular}{r|cc}\n",
       "\t& id & id\\_person\\_gso\\\\\n",
       "\t\\hline\n",
       "\t& Int32 & Int32?\\\\\n",
       "\t\\hline\n",
       "\t1 & 80403 & 10814 \\\\\n",
       "\t2 & 80732 & 17882 \\\\\n",
       "\t3 & 80965 & 23099 \\\\\n",
       "\t4 & 81144 & 44556 \\\\\n",
       "\t5 & 81153 & 45016 \\\\\n",
       "\\end{tabular}\n"
      ],
      "text/plain": [
       "\u001b[1m5×2 DataFrame\u001b[0m\n",
       "\u001b[1m Row \u001b[0m│\u001b[1m id    \u001b[0m\u001b[1m id_person_gso \u001b[0m\n",
       "\u001b[1m     \u001b[0m│\u001b[90m Int32 \u001b[0m\u001b[90m Int32?        \u001b[0m\n",
       "─────┼──────────────────────\n",
       "   1 │ 80403          10814\n",
       "   2 │ 80732          17882\n",
       "   3 │ 80965          23099\n",
       "   4 │ 81144          44556\n",
       "   5 │ 81153          45016"
      ]
     },
     "execution_count": 22,
     "metadata": {},
     "output_type": "execute_result"
    }
   ],
   "source": [
    "first(df_cn_gone, 5)"
   ]
  },
  {
   "cell_type": "markdown",
   "metadata": {},
   "source": [
    "Das sind zum Beispiel bereinigte Dubletten (005-03705-001).  \n",
    "**R** Domherren, die aus dem aktuellen Online-Bestand der Personendatenbank herausgenommen werden, werden über WIAG nicht mehr zu finden sein, weil der Redaktionsprozess der Personendatenbank in WIAG nicht nachgebildet wird."
   ]
  },
  {
   "cell_type": "code",
   "execution_count": 116,
   "metadata": {},
   "outputs": [],
   "source": [
    "df_p_cn[100:130, [:id, :id_person_gso, :gsn_tbl_id]];"
   ]
  },
  {
   "cell_type": "markdown",
   "metadata": {},
   "source": [
    "Die Daten sind nach `gsn_tbl_id` sortiert (auch die anderen beiden IDs folgen dieser Sortierung)"
   ]
  },
  {
   "cell_type": "code",
   "execution_count": 27,
   "metadata": {},
   "outputs": [],
   "source": [
    "df_p_cn_mg_id = filter(:id => ismissing, df_p_cn);"
   ]
  },
  {
   "cell_type": "code",
   "execution_count": 119,
   "metadata": {},
   "outputs": [],
   "source": [
    "df_p_cn_id = filter(:id => !ismissing, df_p_cn);"
   ]
  },
  {
   "cell_type": "code",
   "execution_count": 124,
   "metadata": {},
   "outputs": [
    {
     "data": {
      "text/plain": [
       "(325811, (7293, 21))"
      ]
     },
     "execution_count": 124,
     "metadata": {},
     "output_type": "execute_result"
    }
   ],
   "source": [
    "maximum(df_p_cn_id.id_person_gso), size(df_p_cn_id)"
   ]
  },
  {
   "cell_type": "code",
   "execution_count": 125,
   "metadata": {},
   "outputs": [
    {
     "data": {
      "text/plain": [
       "(4914, (217, 21))"
      ]
     },
     "execution_count": 125,
     "metadata": {},
     "output_type": "execute_result"
    }
   ],
   "source": [
    "minimum(df_p_cn_mg_id.id_person_gso), size(df_p_cn_mg_id)"
   ]
  },
  {
   "cell_type": "markdown",
   "metadata": {},
   "source": [
    "Sobald hier neue IDs vergeben werden, wird die Sortierung von ID (in WIAG) und `persons.id` nicht mehr kongruent sein."
   ]
  },
  {
   "cell_type": "code",
   "execution_count": 24,
   "metadata": {},
   "outputs": [
    {
     "data": {
      "text/plain": [
       "88657"
      ]
     },
     "execution_count": 24,
     "metadata": {},
     "output_type": "execute_result"
    }
   ],
   "source": [
    "id_max = maximum(df_id_cn_wiag.id)"
   ]
  },
  {
   "cell_type": "code",
   "execution_count": 133,
   "metadata": {},
   "outputs": [
    {
     "data": {
      "text/plain": [
       "(88657, (7293, 21))"
      ]
     },
     "execution_count": 133,
     "metadata": {},
     "output_type": "execute_result"
    }
   ],
   "source": [
    "id_max, s_cn_id = maximum(df_p_cn_id.id), size(df_p_cn_id)"
   ]
  },
  {
   "cell_type": "code",
   "execution_count": 28,
   "metadata": {},
   "outputs": [],
   "source": [
    "id_person_gso = sort(df_p_cn_mg_id.id_person_gso);"
   ]
  },
  {
   "cell_type": "code",
   "execution_count": 136,
   "metadata": {},
   "outputs": [
    {
     "data": {
      "text/html": [
       "<div class=\"data-frame\"><p>8 rows × 2 columns</p><table class=\"data-frame\"><thead><tr><th></th><th>id</th><th>id_person_gso</th></tr><tr><th></th><th title=\"Int32\">Int32</th><th title=\"Union{Missing, Int32}\">Int32?</th></tr></thead><tbody><tr><th>1</th><td>88649</td><td>325789</td></tr><tr><th>2</th><td>88650</td><td>325790</td></tr><tr><th>3</th><td>88651</td><td>325792</td></tr><tr><th>4</th><td>88653</td><td>325795</td></tr><tr><th>5</th><td>88654</td><td>325798</td></tr><tr><th>6</th><td>88655</td><td>325803</td></tr><tr><th>7</th><td>88656</td><td>325808</td></tr><tr><th>8</th><td>88657</td><td>325811</td></tr></tbody></table></div>"
      ],
      "text/latex": [
       "\\begin{tabular}{r|cc}\n",
       "\t& id & id\\_person\\_gso\\\\\n",
       "\t\\hline\n",
       "\t& Int32 & Int32?\\\\\n",
       "\t\\hline\n",
       "\t1 & 88649 & 325789 \\\\\n",
       "\t2 & 88650 & 325790 \\\\\n",
       "\t3 & 88651 & 325792 \\\\\n",
       "\t4 & 88653 & 325795 \\\\\n",
       "\t5 & 88654 & 325798 \\\\\n",
       "\t6 & 88655 & 325803 \\\\\n",
       "\t7 & 88656 & 325808 \\\\\n",
       "\t8 & 88657 & 325811 \\\\\n",
       "\\end{tabular}\n"
      ],
      "text/plain": [
       "\u001b[1m8×2 DataFrame\u001b[0m\n",
       "\u001b[1m Row \u001b[0m│\u001b[1m id    \u001b[0m\u001b[1m id_person_gso \u001b[0m\n",
       "\u001b[1m     \u001b[0m│\u001b[90m Int32 \u001b[0m\u001b[90m Int32?        \u001b[0m\n",
       "─────┼──────────────────────\n",
       "   1 │ 88649         325789\n",
       "   2 │ 88650         325790\n",
       "   3 │ 88651         325792\n",
       "   4 │ 88653         325795\n",
       "   5 │ 88654         325798\n",
       "   6 │ 88655         325803\n",
       "   7 │ 88656         325808\n",
       "   8 │ 88657         325811"
      ]
     },
     "execution_count": 136,
     "metadata": {},
     "output_type": "execute_result"
    }
   ],
   "source": [
    "last(df_id_cn_wiag, 8)"
   ]
  },
  {
   "cell_type": "code",
   "execution_count": 29,
   "metadata": {},
   "outputs": [],
   "source": [
    "id_c = id_max + 1;\n",
    "for id_gso in id_person_gso\n",
    "    push!(df_id_cn_wiag, (id_c, id_gso))\n",
    "    id_c += 1;\n",
    "end"
   ]
  },
  {
   "cell_type": "markdown",
   "metadata": {},
   "source": [
    "`df_id_cn_wiag` hat jetzt 20 Zeilen mehr als `df_p_cn`: eben jene, die in der Quelle als Dubletten erkannt wurden oder aus anderen Gründen entfernt wurden."
   ]
  },
  {
   "cell_type": "code",
   "execution_count": 144,
   "metadata": {},
   "outputs": [
    {
     "data": {
      "text/plain": [
       "(7530, 7530)"
      ]
     },
     "execution_count": 144,
     "metadata": {},
     "output_type": "execute_result"
    }
   ],
   "source": [
    "length(unique(df_id_cn_wiag.id)), length(unique(df_id_cn_wiag.id_person_gso))"
   ]
  },
  {
   "cell_type": "markdown",
   "metadata": {},
   "source": [
    "Entferne die IDs wieder, die schon zugeordnet waren und füge sie wieder ein mit dem vervollständigten Satz von IDs."
   ]
  },
  {
   "cell_type": "code",
   "execution_count": 30,
   "metadata": {},
   "outputs": [],
   "source": [
    "df_p_cn = select(df_p_cn, Not(:id));"
   ]
  },
  {
   "cell_type": "code",
   "execution_count": 181,
   "metadata": {},
   "outputs": [
    {
     "data": {
      "text/plain": [
       "(7510, 20)"
      ]
     },
     "execution_count": 181,
     "metadata": {},
     "output_type": "execute_result"
    }
   ],
   "source": [
    "size(df_p_cn)"
   ]
  },
  {
   "cell_type": "code",
   "execution_count": 31,
   "metadata": {},
   "outputs": [],
   "source": [
    "df_p_cn = leftjoin(df_p_cn, df_id_cn_wiag, on = :id_person_gso);"
   ]
  },
  {
   "cell_type": "code",
   "execution_count": 147,
   "metadata": {},
   "outputs": [
    {
     "data": {
      "text/plain": [
       "(0, 21)"
      ]
     },
     "execution_count": 147,
     "metadata": {},
     "output_type": "execute_result"
    }
   ],
   "source": [
    "size(filter(:id => ismissing, df_p_cn))"
   ]
  },
  {
   "cell_type": "code",
   "execution_count": 36,
   "metadata": {},
   "outputs": [],
   "source": [
    "Wds.clean_up!(df_p_cn)"
   ]
  },
  {
   "cell_type": "code",
   "execution_count": null,
   "metadata": {},
   "outputs": [],
   "source": []
  },
  {
   "cell_type": "code",
   "execution_count": 41,
   "metadata": {},
   "outputs": [
    {
     "data": {
      "text/html": [
       "<div class=\"data-frame\"><p>11 rows × 4 columns</p><table class=\"data-frame\"><thead><tr><th></th><th>id</th><th>id_person_gso</th><th>givenname</th><th>date_death</th></tr><tr><th></th><th title=\"Int32\">Int32</th><th title=\"Int32\">Int32</th><th title=\"SubString{String}\">SubStri…</th><th title=\"Union{Missing, SubString{String}}\">SubStri…?</th></tr></thead><tbody><tr><th>1</th><td>80020</td><td>4984</td><td>Engelbert</td><td><em>missing</em></td></tr><tr><th>2</th><td>80021</td><td>5049</td><td>Matthäus</td><td><em>missing</em></td></tr><tr><th>3</th><td>80022</td><td>5090</td><td>Joachim</td><td>1544</td></tr><tr><th>4</th><td>80023</td><td>5092</td><td>Jakob</td><td><em>missing</em></td></tr><tr><th>5</th><td>80024</td><td>5096</td><td>Peter</td><td><em>missing</em></td></tr><tr><th>6</th><td>80025</td><td>5135</td><td>Gebhard</td><td><em>missing</em></td></tr><tr><th>7</th><td>80026</td><td>5156</td><td>Heinrich</td><td><em>missing</em></td></tr><tr><th>8</th><td>80027</td><td>5166</td><td>Gerhard</td><td><em>missing</em></td></tr><tr><th>9</th><td>80028</td><td>5170</td><td>Nikolaus</td><td><em>missing</em></td></tr><tr><th>10</th><td>80029</td><td>5171</td><td>Wichmann</td><td>1524</td></tr><tr><th>11</th><td>80030</td><td>5200</td><td>Heinrich</td><td><em>missing</em></td></tr></tbody></table></div>"
      ],
      "text/latex": [
       "\\begin{tabular}{r|cccc}\n",
       "\t& id & id\\_person\\_gso & givenname & date\\_death\\\\\n",
       "\t\\hline\n",
       "\t& Int32 & Int32 & SubStri… & SubStri…?\\\\\n",
       "\t\\hline\n",
       "\t1 & 80020 & 4984 & Engelbert & \\emph{missing} \\\\\n",
       "\t2 & 80021 & 5049 & Matthäus & \\emph{missing} \\\\\n",
       "\t3 & 80022 & 5090 & Joachim & 1544 \\\\\n",
       "\t4 & 80023 & 5092 & Jakob & \\emph{missing} \\\\\n",
       "\t5 & 80024 & 5096 & Peter & \\emph{missing} \\\\\n",
       "\t6 & 80025 & 5135 & Gebhard & \\emph{missing} \\\\\n",
       "\t7 & 80026 & 5156 & Heinrich & \\emph{missing} \\\\\n",
       "\t8 & 80027 & 5166 & Gerhard & \\emph{missing} \\\\\n",
       "\t9 & 80028 & 5170 & Nikolaus & \\emph{missing} \\\\\n",
       "\t10 & 80029 & 5171 & Wichmann & 1524 \\\\\n",
       "\t11 & 80030 & 5200 & Heinrich & \\emph{missing} \\\\\n",
       "\\end{tabular}\n"
      ],
      "text/plain": [
       "\u001b[1m11×4 DataFrame\u001b[0m\n",
       "\u001b[1m Row \u001b[0m│\u001b[1m id    \u001b[0m\u001b[1m id_person_gso \u001b[0m\u001b[1m givenname \u001b[0m\u001b[1m date_death  \u001b[0m\n",
       "\u001b[1m     \u001b[0m│\u001b[90m Int32 \u001b[0m\u001b[90m Int32         \u001b[0m\u001b[90m SubStrin… \u001b[0m\u001b[90m SubString…? \u001b[0m\n",
       "─────┼──────────────────────────────────────────────\n",
       "   1 │ 80020           4984  Engelbert \u001b[90m missing     \u001b[0m\n",
       "   2 │ 80021           5049  Matthäus  \u001b[90m missing     \u001b[0m\n",
       "   3 │ 80022           5090  Joachim    1544\n",
       "   4 │ 80023           5092  Jakob     \u001b[90m missing     \u001b[0m\n",
       "   5 │ 80024           5096  Peter     \u001b[90m missing     \u001b[0m\n",
       "   6 │ 80025           5135  Gebhard   \u001b[90m missing     \u001b[0m\n",
       "   7 │ 80026           5156  Heinrich  \u001b[90m missing     \u001b[0m\n",
       "   8 │ 80027           5166  Gerhard   \u001b[90m missing     \u001b[0m\n",
       "   9 │ 80028           5170  Nikolaus  \u001b[90m missing     \u001b[0m\n",
       "  10 │ 80029           5171  Wichmann   1524\n",
       "  11 │ 80030           5200  Heinrich  \u001b[90m missing     \u001b[0m"
      ]
     },
     "execution_count": 41,
     "metadata": {},
     "output_type": "execute_result"
    }
   ],
   "source": [
    "df_p_cn[20:30, [:id, :id_person_gso, :givenname, :date_death]]"
   ]
  },
  {
   "cell_type": "code",
   "execution_count": null,
   "metadata": {},
   "outputs": [],
   "source": []
  },
  {
   "cell_type": "code",
   "execution_count": 37,
   "metadata": {},
   "outputs": [],
   "source": [
    "numdate_birth(date) = Wds.parsemaybe(date, :lower)\n",
    "df_p_cn[!, :numdate_birth] .= numdate_birth.(df_p_cn.date_birth);"
   ]
  },
  {
   "cell_type": "code",
   "execution_count": 42,
   "metadata": {},
   "outputs": [
    {
     "name": "stderr",
     "output_type": "stream",
     "text": [
      "┌ Warning: Could not parse \n",
      "│   s = 28. August\n",
      "└ @ WiagDataSetup C:\\Users\\Georg\\Documents\\projekte\\WiagDataSetup.jl\\src\\WiagDataSetup.jl:1068\n",
      "┌ Warning: Could not parse \n",
      "│   s = Kammerkleriker\n",
      "└ @ WiagDataSetup C:\\Users\\Georg\\Documents\\projekte\\WiagDataSetup.jl\\src\\WiagDataSetup.jl:1093\n"
     ]
    }
   ],
   "source": [
    "numdate_death(date) = Wds.parsemaybe(date, :upper)\n",
    "df_p_cn[!, :numdate_death] .= numdate_death.(df_p_cn.date_death);"
   ]
  },
  {
   "cell_type": "code",
   "execution_count": 156,
   "metadata": {},
   "outputs": [
    {
     "name": "stderr",
     "output_type": "stream",
     "text": [
      "┌ Info: Rows inserted: 7510\n",
      "└ @ WiagDataSetup C:\\Users\\Georg\\Documents\\projekte\\WiagDataSetup.jl\\src\\WiagDataSetup.jl:1169\n"
     ]
    },
    {
     "data": {
      "text/plain": [
       "7510"
      ]
     },
     "execution_count": 156,
     "metadata": {},
     "output_type": "execute_result"
    }
   ],
   "source": [
    "table_name = \"cn_canon_gs\"\n",
    "Wds.filltable!(table_name, select(df_p_cn, Not([:gsn_tbl_id, :item_id])))"
   ]
  },
  {
   "cell_type": "code",
   "execution_count": 157,
   "metadata": {},
   "outputs": [
    {
     "data": {
      "text/plain": [
       "(7510, 23)"
      ]
     },
     "execution_count": 157,
     "metadata": {},
     "output_type": "execute_result"
    }
   ],
   "source": [
    "size(df_p_cn)"
   ]
  },
  {
   "cell_type": "markdown",
   "metadata": {},
   "source": [
    "## Literaturangaben\n",
    "Die in der Tabelle `locations` angegebenen Werte für `book_id` sind kongruent zu den IDs in `wiag.cn_reference_gs`.\n",
    "``` sql\n",
    "select count(*) from locations \n",
    "where book_id not in (select id from wiag.cn_reference_gs) \n",
    "and item_status = 'online' and not deleted;\n",
    "```\n",
    "0"
   ]
  },
  {
   "cell_type": "markdown",
   "metadata": {},
   "source": [
    "Referenzwerke (`gso_in_202111.books`)\n",
    "``` sql\n",
    "source 'C:\\Users\\georg\\Documents\\projekte-doc\\gso\\data\\books.sql';\n",
    "```"
   ]
  },
  {
   "cell_type": "code",
   "execution_count": 15,
   "metadata": {},
   "outputs": [],
   "source": [
    "table_src = \"gso_in_202111.books\"\n",
    "sql = \"SELECT id, titel AS title, autoren AS author, nummer AS number_vol, \" *\n",
    "\"uri AS online_resource, kurztitel AS shorttitle \" *\n",
    "\"FROM \" * table_src \n",
    "df_vol = Wds.sql_df(sql);"
   ]
  },
  {
   "cell_type": "code",
   "execution_count": 13,
   "metadata": {},
   "outputs": [
    {
     "data": {
      "text/plain": [
       "(86, 5)"
      ]
     },
     "execution_count": 13,
     "metadata": {},
     "output_type": "execute_result"
    }
   ],
   "source": [
    "size(df_vol)"
   ]
  },
  {
   "cell_type": "code",
   "execution_count": 16,
   "metadata": {},
   "outputs": [
    {
     "name": "stderr",
     "output_type": "stream",
     "text": [
      "┌ Info: Rows inserted: 86\n",
      "└ @ WiagDataSetup C:\\Users\\Georg\\Documents\\projekte\\WiagDataSetup.jl\\src\\WiagDataSetup.jl:1191\n"
     ]
    },
    {
     "data": {
      "text/plain": [
       "86"
      ]
     },
     "execution_count": 16,
     "metadata": {},
     "output_type": "execute_result"
    }
   ],
   "source": [
    "table_name = \"cn_reference_gs\"\n",
    "Wds.filltable!(table_name, df_vol)"
   ]
  },
  {
   "cell_type": "markdown",
   "metadata": {},
   "source": [
    "Lies die Domherren ein"
   ]
  },
  {
   "cell_type": "code",
   "execution_count": 18,
   "metadata": {},
   "outputs": [],
   "source": [
    "sql = \"SELECT c.id AS id_canon, p.item_id FROM cn_canon_gs AS c \" *\n",
    "\"JOIN gso_in_202111.persons as p on p.id = c.id_person_gso\"\n",
    "df_cn = Wds.sql_df(sql);"
   ]
  },
  {
   "cell_type": "code",
   "execution_count": 19,
   "metadata": {},
   "outputs": [
    {
     "data": {
      "text/plain": [
       "(7510, 2)"
      ]
     },
     "execution_count": 19,
     "metadata": {},
     "output_type": "execute_result"
    }
   ],
   "source": [
    "size(df_cn)"
   ]
  },
  {
   "cell_type": "markdown",
   "metadata": {},
   "source": [
    "Lies die Literaturverweise ein"
   ]
  },
  {
   "cell_type": "code",
   "execution_count": 20,
   "metadata": {},
   "outputs": [],
   "source": [
    "sql = \"SELECT * FROM gso_in_202111.locations \" * \n",
    "\"WHERE item_status = 'online' AND NOT deleted \" *\n",
    "\"GROUP BY item_id, book_id, seiten\"\n",
    "df_p_ref = Wds.sql_df(sql);"
   ]
  },
  {
   "cell_type": "code",
   "execution_count": 21,
   "metadata": {},
   "outputs": [
    {
     "data": {
      "text/plain": [
       "(96788, 11)"
      ]
     },
     "execution_count": 21,
     "metadata": {},
     "output_type": "execute_result"
    }
   ],
   "source": [
    "size(df_p_ref)"
   ]
  },
  {
   "cell_type": "markdown",
   "metadata": {},
   "source": [
    "Welche Domherren haben eine Kurz-Biographie?"
   ]
  },
  {
   "cell_type": "code",
   "execution_count": 22,
   "metadata": {},
   "outputs": [],
   "source": [
    "is_bio(seiten) = contains(seiten, \"<b>\");\n",
    "df_p_ref[!, :is_bio] .= is_bio.(df_p_ref.seiten);"
   ]
  },
  {
   "cell_type": "code",
   "execution_count": 23,
   "metadata": {},
   "outputs": [
    {
     "data": {
      "text/plain": [
       "33910"
      ]
     },
     "execution_count": 23,
     "metadata": {},
     "output_type": "execute_result"
    }
   ],
   "source": [
    "sum(df_p_ref.is_bio)"
   ]
  },
  {
   "cell_type": "markdown",
   "metadata": {},
   "source": [
    "Übernimm für Domherren mit Kurzbiographie nur Literaturhinweise mit Kurzbiographien (`transfer_gso.sql`: 2021-04-26) Es ist freilich möglich, dass es mehrere Literaturverweise gibt, die eine Kurzbiographie enthalten."
   ]
  },
  {
   "cell_type": "code",
   "execution_count": 34,
   "metadata": {},
   "outputs": [],
   "source": [
    "df_p_ref_bio = filter(:is_bio => identity, df_p_ref);"
   ]
  },
  {
   "cell_type": "code",
   "execution_count": 29,
   "metadata": {},
   "outputs": [
    {
     "data": {
      "text/plain": [
       "(33910, 12)"
      ]
     },
     "execution_count": 29,
     "metadata": {},
     "output_type": "execute_result"
    }
   ],
   "source": [
    "size(df_p_ref_bio)"
   ]
  },
  {
   "cell_type": "code",
   "execution_count": 35,
   "metadata": {},
   "outputs": [],
   "source": [
    "df_cn_ref_bio = innerjoin(df_cn, df_p_ref_bio, on = :item_id);"
   ]
  },
  {
   "cell_type": "code",
   "execution_count": 36,
   "metadata": {},
   "outputs": [
    {
     "data": {
      "text/plain": [
       "((6235, 13), 5547)"
      ]
     },
     "execution_count": 36,
     "metadata": {},
     "output_type": "execute_result"
    }
   ],
   "source": [
    "size(df_cn_ref_bio), length(unique(df_cn_ref_bio.id_canon))"
   ]
  },
  {
   "cell_type": "code",
   "execution_count": 33,
   "metadata": {},
   "outputs": [],
   "source": [
    "df_cn_mg_bio = antijoin(df_cn, select(df_cn_ref_bio, :id_canon), on = :id_canon);"
   ]
  },
  {
   "cell_type": "code",
   "execution_count": 35,
   "metadata": {},
   "outputs": [
    {
     "data": {
      "text/plain": [
       "(1963, 2)"
      ]
     },
     "execution_count": 35,
     "metadata": {},
     "output_type": "execute_result"
    }
   ],
   "source": [
    "size(df_cn_mg_bio)"
   ]
  },
  {
   "cell_type": "code",
   "execution_count": 38,
   "metadata": {},
   "outputs": [],
   "source": [
    "df_cn_ref_mg_bio = innerjoin(df_cn_mg_bio, df_p_ref, on = :item_id);"
   ]
  },
  {
   "cell_type": "code",
   "execution_count": 39,
   "metadata": {},
   "outputs": [
    {
     "data": {
      "text/plain": [
       "(2418, 13)"
      ]
     },
     "execution_count": 39,
     "metadata": {},
     "output_type": "execute_result"
    }
   ],
   "source": [
    "size(df_cn_ref_mg_bio)"
   ]
  },
  {
   "cell_type": "markdown",
   "metadata": {},
   "source": [
    "Wandle `is_bio` in Int um."
   ]
  },
  {
   "cell_type": "code",
   "execution_count": 38,
   "metadata": {},
   "outputs": [],
   "source": [
    "transform!(df_cn_ref_bio, :is_bio => ByRow(Int) => :is_bio);"
   ]
  },
  {
   "cell_type": "code",
   "execution_count": 42,
   "metadata": {},
   "outputs": [],
   "source": [
    "transform!(df_cn_ref_mg_bio, :is_bio => ByRow(Int) => :is_bio);"
   ]
  },
  {
   "cell_type": "code",
   "execution_count": 39,
   "metadata": {},
   "outputs": [],
   "source": [
    "columns = [\n",
    "    :id_canon => :id_canon,\n",
    "    :book_id => :id_reference,\n",
    "    :seiten => :page_reference,\n",
    "    :is_bio => :isbio,\n",
    "    :item_status => :status,\n",
    "];"
   ]
  },
  {
   "cell_type": "markdown",
   "metadata": {},
   "source": [
    "Schreibe die Einträge mit Kurzbiographie"
   ]
  },
  {
   "cell_type": "code",
   "execution_count": 40,
   "metadata": {},
   "outputs": [
    {
     "name": "stderr",
     "output_type": "stream",
     "text": [
      "┌ Info: Rows inserted: 6235\n",
      "└ @ WiagDataSetup C:\\Users\\Georg\\Documents\\projekte\\WiagDataSetup.jl\\src\\WiagDataSetup.jl:1191\n"
     ]
    },
    {
     "data": {
      "text/plain": [
       "6235"
      ]
     },
     "execution_count": 40,
     "metadata": {},
     "output_type": "execute_result"
    }
   ],
   "source": [
    "table_name = \"cn_canon_reference_gs\"\n",
    "Wds.filltable!(table_name, select(df_cn_ref_bio, columns), clear_table = true)"
   ]
  },
  {
   "cell_type": "markdown",
   "metadata": {},
   "source": [
    "*2021-19-11* werden nicht mehr ausgegeben; siehe Vorgängerversion der Daten.  \n",
    "Schreibe die Einträge ohne Kurzbiographie"
   ]
  },
  {
   "cell_type": "code",
   "execution_count": 47,
   "metadata": {},
   "outputs": [
    {
     "name": "stderr",
     "output_type": "stream",
     "text": [
      "┌ Info: Rows inserted: 2418\n",
      "└ @ WiagDataSetup C:\\Users\\Georg\\Documents\\projekte\\WiagDataSetup.jl\\src\\WiagDataSetup.jl:1184\n"
     ]
    },
    {
     "data": {
      "text/plain": [
       "2418"
      ]
     },
     "execution_count": 47,
     "metadata": {},
     "output_type": "execute_result"
    }
   ],
   "source": [
    "table_name = \"cn_canon_reference_gs\"\n",
    "Wds.filltable!(table_name, select(df_cn_ref_mg_bio, columns), clear_table = false)"
   ]
  },
  {
   "cell_type": "markdown",
   "metadata": {},
   "source": [
    "## Ämter"
   ]
  },
  {
   "cell_type": "code",
   "execution_count": 12,
   "metadata": {},
   "outputs": [],
   "source": [
    "sql = \"SELECT person_id as id_person_gso, dioezese as diocese, bezeichnung as office_name, \" * \n",
    "\"von as date_start, bis as date_end, institution, ort as location, \" *\n",
    "\"anmerkung as comment, klosterid as id_monastery \" *\n",
    "\"FROM gso_in_202111.offices \" *\n",
    "\"WHERE NOT deleted\"\n",
    "df_oc = db_exec(sql);"
   ]
  },
  {
   "cell_type": "code",
   "execution_count": 13,
   "metadata": {},
   "outputs": [],
   "source": [
    "Wds.clean_up!(df_oc)"
   ]
  },
  {
   "cell_type": "code",
   "execution_count": 14,
   "metadata": {},
   "outputs": [
    {
     "data": {
      "text/plain": [
       "(69927, 9)"
      ]
     },
     "execution_count": 14,
     "metadata": {},
     "output_type": "execute_result"
    }
   ],
   "source": [
    "size(df_oc)"
   ]
  },
  {
   "cell_type": "code",
   "execution_count": 43,
   "metadata": {},
   "outputs": [],
   "source": [
    "df_o_cn = innerjoin(df_oc, select(df_p_cn, :id => :id_canon, :id_person_gso), on = :id_person_gso);"
   ]
  },
  {
   "cell_type": "code",
   "execution_count": 44,
   "metadata": {},
   "outputs": [
    {
     "data": {
      "text/plain": [
       "(13002, 10)"
      ]
     },
     "execution_count": 44,
     "metadata": {},
     "output_type": "execute_result"
    }
   ],
   "source": [
    "size(df_o_cn)"
   ]
  },
  {
   "cell_type": "markdown",
   "metadata": {},
   "source": [
    "`location_show` und `location` stimmen für Domherren aus der Personendatenbank überein."
   ]
  },
  {
   "cell_type": "code",
   "execution_count": 81,
   "metadata": {},
   "outputs": [],
   "source": [
    "df_o_cn[!, :location_show] .= df_o_cn.location;"
   ]
  },
  {
   "cell_type": "code",
   "execution_count": 82,
   "metadata": {},
   "outputs": [
    {
     "name": "stderr",
     "output_type": "stream",
     "text": [
      "┌ Warning: Could only find year in \n",
      "│   s = vor 1522\n",
      "└ @ WiagDataSetup C:\\Users\\Georg\\Documents\\projekte\\WiagDataSetup.jl\\src\\WiagDataSetup.jl:1082\n",
      "┌ Warning: Could only find year in \n",
      "│   s = um1220\n",
      "└ @ WiagDataSetup C:\\Users\\Georg\\Documents\\projekte\\WiagDataSetup.jl\\src\\WiagDataSetup.jl:1082\n",
      "┌ Warning: Could only find year in \n",
      "│   s = vor 1400\n",
      "└ @ WiagDataSetup C:\\Users\\Georg\\Documents\\projekte\\WiagDataSetup.jl\\src\\WiagDataSetup.jl:1082\n",
      "┌ Warning: Could only find year in \n",
      "│   s = vor 1400\n",
      "└ @ WiagDataSetup C:\\Users\\Georg\\Documents\\projekte\\WiagDataSetup.jl\\src\\WiagDataSetup.jl:1082\n"
     ]
    }
   ],
   "source": [
    "date_start(date) = Wds.parsemaybe(date, :lower)\n",
    "df_o_cn[!, :numdate_start] .= date_start.(df_o_cn.date_start);"
   ]
  },
  {
   "cell_type": "code",
   "execution_count": 83,
   "metadata": {},
   "outputs": [
    {
     "name": "stderr",
     "output_type": "stream",
     "text": [
      "┌ Warning: Could only find year in \n",
      "│   s = vor 1522\n",
      "└ @ WiagDataSetup C:\\Users\\Georg\\Documents\\projekte\\WiagDataSetup.jl\\src\\WiagDataSetup.jl:1082\n"
     ]
    }
   ],
   "source": [
    "date_start(date) = Wds.parsemaybe(date, :lower)\n",
    "df_dp = df_o_cn[260:265, :]\n",
    "df_dp[!, :numdate_start] .= date_start.(df_dp.date_start);"
   ]
  },
  {
   "cell_type": "code",
   "execution_count": 54,
   "metadata": {},
   "outputs": [
    {
     "data": {
      "text/plain": [
       "\"vor 1522\""
      ]
     },
     "execution_count": 54,
     "metadata": {},
     "output_type": "execute_result"
    }
   ],
   "source": [
    "sd = df_dp[3, :date_start]"
   ]
  },
  {
   "cell_type": "code",
   "execution_count": 55,
   "metadata": {},
   "outputs": [
    {
     "data": {
      "text/plain": [
       "' ': Unicode U+00A0 (category Zs: Separator, space)"
      ]
     },
     "execution_count": 55,
     "metadata": {},
     "output_type": "execute_result"
    }
   ],
   "source": [
    "sd[4]"
   ]
  },
  {
   "cell_type": "markdown",
   "metadata": {},
   "source": [
    "Die Daten enthalten ein geschütztes Leerzeichen?! In solchen Fällen verwenden wir eine drei- oder vierstellige Jahreszahl, wenn wir sie finden."
   ]
  },
  {
   "cell_type": "code",
   "execution_count": 56,
   "metadata": {},
   "outputs": [
    {
     "data": {
      "text/plain": [
       "\"([1-9][0-9][0-9]+)\""
      ]
     },
     "execution_count": 56,
     "metadata": {},
     "output_type": "execute_result"
    }
   ],
   "source": [
    "rgpyear = \"([1-9][0-9][0-9]+)\""
   ]
  },
  {
   "cell_type": "code",
   "execution_count": 58,
   "metadata": {},
   "outputs": [
    {
     "data": {
      "text/plain": [
       "r\"([1-9][0-9][0-9]+)\""
      ]
     },
     "execution_count": 58,
     "metadata": {},
     "output_type": "execute_result"
    }
   ],
   "source": [
    "Regex(rgpyear)"
   ]
  },
  {
   "cell_type": "code",
   "execution_count": 2,
   "metadata": {},
   "outputs": [
    {
     "data": {
      "text/plain": [
       "r\"([1-9][0-9][0-9][0-9]?)\""
      ]
     },
     "execution_count": 2,
     "metadata": {},
     "output_type": "execute_result"
    }
   ],
   "source": [
    "rgxyear = r\"([1-9][0-9][0-9][0-9]?)\""
   ]
  },
  {
   "cell_type": "code",
   "execution_count": 3,
   "metadata": {},
   "outputs": [
    {
     "data": {
      "text/plain": [
       "RegexMatch(\"131\", 1=\"131\")"
      ]
     },
     "execution_count": 3,
     "metadata": {},
     "output_type": "execute_result"
    }
   ],
   "source": [
    "rgm = match(rgxyear, \"131\")"
   ]
  },
  {
   "cell_type": "code",
   "execution_count": 62,
   "metadata": {},
   "outputs": [
    {
     "data": {
      "text/plain": [
       "\"1312\""
      ]
     },
     "execution_count": 62,
     "metadata": {},
     "output_type": "execute_result"
    }
   ],
   "source": [
    "rgm[1]"
   ]
  },
  {
   "cell_type": "code",
   "execution_count": 45,
   "metadata": {},
   "outputs": [
    {
     "name": "stderr",
     "output_type": "stream",
     "text": [
      "┌ Warning: Could only find year in \n",
      "│   s = vor 1522\n",
      "└ @ WiagDataSetup C:\\Users\\Georg\\Documents\\projekte\\WiagDataSetup.jl\\src\\WiagDataSetup.jl:1088\n",
      "┌ Warning: Could only find year in \n",
      "│   s = um1220\n",
      "└ @ WiagDataSetup C:\\Users\\Georg\\Documents\\projekte\\WiagDataSetup.jl\\src\\WiagDataSetup.jl:1088\n",
      "┌ Warning: Could only find year in \n",
      "│   s = vor 1400\n",
      "└ @ WiagDataSetup C:\\Users\\Georg\\Documents\\projekte\\WiagDataSetup.jl\\src\\WiagDataSetup.jl:1088\n",
      "┌ Warning: Could only find year in \n",
      "│   s = vor 1400\n",
      "└ @ WiagDataSetup C:\\Users\\Georg\\Documents\\projekte\\WiagDataSetup.jl\\src\\WiagDataSetup.jl:1088\n"
     ]
    }
   ],
   "source": [
    "date_start(date) = Wds.parsemaybe(date, :lower)\n",
    "df_o_cn[!, :numdate_start] .= date_start.(df_o_cn.date_start);"
   ]
  },
  {
   "cell_type": "code",
   "execution_count": 46,
   "metadata": {},
   "outputs": [],
   "source": [
    "date_end(date) = Wds.parsemaybe(date, :upper)\n",
    "df_o_cn[!, :numdate_end] .= date_end.(df_o_cn.date_end);"
   ]
  },
  {
   "cell_type": "code",
   "execution_count": 50,
   "metadata": {},
   "outputs": [
    {
     "data": {
      "text/html": [
       "<div class=\"data-frame\"><p>11 rows × 6 columns</p><table class=\"data-frame\"><thead><tr><th></th><th>id_canon</th><th>office_name</th><th>date_start</th><th>date_end</th><th>numdate_start</th><th>numdate_end</th></tr><tr><th></th><th title=\"Int32\">Int32</th><th title=\"Union{Missing, SubString{String}}\">SubStri…?</th><th title=\"Union{Missing, SubString{String}}\">SubStri…?</th><th title=\"Union{Missing, SubString{String}}\">SubStri…?</th><th title=\"Union{Missing, Int64}\">Int64?</th><th title=\"Union{Missing, Int64}\">Int64?</th></tr></thead><tbody><tr><th>1</th><td>84434</td><td>Domherr</td><td>1807</td><td><em>missing</em></td><td>1807</td><td><em>missing</em></td></tr><tr><th>2</th><td>84435</td><td>Domherr</td><td>1792</td><td><em>missing</em></td><td>1792</td><td><em>missing</em></td></tr><tr><th>3</th><td>81140</td><td>Propst</td><td>1559</td><td>1569/1571</td><td>1559</td><td>1569</td></tr><tr><th>4</th><td>81055</td><td>Dompropst</td><td>um 1150</td><td><em>missing</em></td><td>1145</td><td><em>missing</em></td></tr><tr><th>5</th><td>83575</td><td>Domherr</td><td>1873</td><td>1887</td><td>1873</td><td>1887</td></tr><tr><th>6</th><td>81378</td><td>Domherr</td><td>1356</td><td><em>missing</em></td><td>1356</td><td><em>missing</em></td></tr><tr><th>7</th><td>81407</td><td>Domherr</td><td>1732</td><td><em>missing</em></td><td>1732</td><td><em>missing</em></td></tr><tr><th>8</th><td>81423</td><td>Domherr</td><td>1396</td><td><em>missing</em></td><td>1396</td><td><em>missing</em></td></tr><tr><th>9</th><td>81439</td><td>Domherr</td><td>Ende 18. Jahrhundert</td><td><em>missing</em></td><td>1767</td><td><em>missing</em></td></tr><tr><th>10</th><td>81472</td><td>Domherr</td><td>1775</td><td>1796</td><td>1775</td><td>1796</td></tr><tr><th>11</th><td>81504</td><td>Domherr</td><td>1396</td><td><em>missing</em></td><td>1396</td><td><em>missing</em></td></tr></tbody></table></div>"
      ],
      "text/latex": [
       "\\begin{tabular}{r|cccccc}\n",
       "\t& id\\_canon & office\\_name & date\\_start & date\\_end & numdate\\_start & numdate\\_end\\\\\n",
       "\t\\hline\n",
       "\t& Int32 & SubStri…? & SubStri…? & SubStri…? & Int64? & Int64?\\\\\n",
       "\t\\hline\n",
       "\t1 & 84434 & Domherr & 1807 & \\emph{missing} & 1807 & \\emph{missing} \\\\\n",
       "\t2 & 84435 & Domherr & 1792 & \\emph{missing} & 1792 & \\emph{missing} \\\\\n",
       "\t3 & 81140 & Propst & 1559 & 1569/1571 & 1559 & 1569 \\\\\n",
       "\t4 & 81055 & Dompropst & um 1150 & \\emph{missing} & 1145 & \\emph{missing} \\\\\n",
       "\t5 & 83575 & Domherr & 1873 & 1887 & 1873 & 1887 \\\\\n",
       "\t6 & 81378 & Domherr & 1356 & \\emph{missing} & 1356 & \\emph{missing} \\\\\n",
       "\t7 & 81407 & Domherr & 1732 & \\emph{missing} & 1732 & \\emph{missing} \\\\\n",
       "\t8 & 81423 & Domherr & 1396 & \\emph{missing} & 1396 & \\emph{missing} \\\\\n",
       "\t9 & 81439 & Domherr & Ende 18. Jahrhundert & \\emph{missing} & 1767 & \\emph{missing} \\\\\n",
       "\t10 & 81472 & Domherr & 1775 & 1796 & 1775 & 1796 \\\\\n",
       "\t11 & 81504 & Domherr & 1396 & \\emph{missing} & 1396 & \\emph{missing} \\\\\n",
       "\\end{tabular}\n"
      ],
      "text/plain": [
       "\u001b[1m11×6 DataFrame\u001b[0m\n",
       "\u001b[1m Row \u001b[0m│\u001b[1m id_canon \u001b[0m\u001b[1m office_name \u001b[0m\u001b[1m date_start           \u001b[0m\u001b[1m date_end    \u001b[0m\u001b[1m numdate_start\u001b[0m ⋯\n",
       "\u001b[1m     \u001b[0m│\u001b[90m Int32    \u001b[0m\u001b[90m SubString…? \u001b[0m\u001b[90m SubString…?          \u001b[0m\u001b[90m SubString…? \u001b[0m\u001b[90m Int64?       \u001b[0m ⋯\n",
       "─────┼──────────────────────────────────────────────────────────────────────────\n",
       "   1 │    84434  Domherr      1807                 \u001b[90m missing     \u001b[0m          1807 ⋯\n",
       "   2 │    84435  Domherr      1792                 \u001b[90m missing     \u001b[0m          1792\n",
       "   3 │    81140  Propst       1559                  1569/1571             1559\n",
       "   4 │    81055  Dompropst    um 1150              \u001b[90m missing     \u001b[0m          1145\n",
       "   5 │    83575  Domherr      1873                  1887                  1873 ⋯\n",
       "   6 │    81378  Domherr      1356                 \u001b[90m missing     \u001b[0m          1356\n",
       "   7 │    81407  Domherr      1732                 \u001b[90m missing     \u001b[0m          1732\n",
       "   8 │    81423  Domherr      1396                 \u001b[90m missing     \u001b[0m          1396\n",
       "   9 │    81439  Domherr      Ende 18. Jahrhundert \u001b[90m missing     \u001b[0m          1767 ⋯\n",
       "  10 │    81472  Domherr      1775                  1796                  1775\n",
       "  11 │    81504  Domherr      1396                 \u001b[90m missing     \u001b[0m          1396\n",
       "\u001b[36m                                                                1 column omitted\u001b[0m"
      ]
     },
     "execution_count": 50,
     "metadata": {},
     "output_type": "execute_result"
    }
   ],
   "source": [
    "df_o_cn[20:30, [:id_canon, :office_name, :date_start, :date_end, :numdate_start, :numdate_end]]"
   ]
  },
  {
   "cell_type": "markdown",
   "metadata": {},
   "source": [
    "Welche Bistümer sind in der Datenbank?"
   ]
  },
  {
   "cell_type": "code",
   "execution_count": 51,
   "metadata": {},
   "outputs": [],
   "source": [
    "sql = \"SELECT diocese FROM wiag.diocese\"\n",
    "df_dioc = db_exec(sql);"
   ]
  },
  {
   "cell_type": "code",
   "execution_count": 52,
   "metadata": {},
   "outputs": [],
   "source": [
    "in_db(diocese) = ismissing(diocese) ? 0 : (in(diocese, df_dioc.diocese) ? 1 : 0)\n",
    "df_o_cn[!, :diocese_in_db] .= 0;\n",
    "for row in eachrow(df_o_cn)\n",
    "    row[:diocese_in_db] = in_db(row[:diocese])\n",
    "end"
   ]
  },
  {
   "cell_type": "markdown",
   "metadata": {},
   "source": [
    "Das Domstift Krakau ist nicht in der Klosterdatenbank. Dafür sind aber die Felder `institution` und `location` befüllt."
   ]
  },
  {
   "cell_type": "code",
   "execution_count": 53,
   "metadata": {},
   "outputs": [
    {
     "name": "stderr",
     "output_type": "stream",
     "text": [
      "┌ Info: 10000\n",
      "└ @ WiagDataSetup C:\\Users\\Georg\\Documents\\projekte\\WiagDataSetup.jl\\src\\WiagDataSetup.jl:1161\n",
      "┌ Info: Rows inserted: 13002\n",
      "└ @ WiagDataSetup C:\\Users\\Georg\\Documents\\projekte\\WiagDataSetup.jl\\src\\WiagDataSetup.jl:1184\n"
     ]
    },
    {
     "data": {
      "text/plain": [
       "13002"
      ]
     },
     "execution_count": 53,
     "metadata": {},
     "output_type": "execute_result"
    }
   ],
   "source": [
    "table_name = \"cn_office_gs\"\n",
    "Wds.filltable!(table_name, select(df_o_cn, Not(:id_person_gso)), clear_table = true)"
   ]
  },
  {
   "cell_type": "markdown",
   "metadata": {},
   "source": [
    "Was ist mit der Diözese 'Hamburg-Bremen'?"
   ]
  },
  {
   "cell_type": "code",
   "execution_count": null,
   "metadata": {},
   "outputs": [],
   "source": []
  },
  {
   "cell_type": "code",
   "execution_count": null,
   "metadata": {},
   "outputs": [],
   "source": []
  }
 ],
 "metadata": {
  "kernelspec": {
   "display_name": "Julia 1.6.1",
   "language": "julia",
   "name": "julia-1.6"
  },
  "language_info": {
   "file_extension": ".jl",
   "mimetype": "application/julia",
   "name": "julia",
   "version": "1.6.1"
  }
 },
 "nbformat": 4,
 "nbformat_minor": 4
}
