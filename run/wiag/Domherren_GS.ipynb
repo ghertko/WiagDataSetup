{
 "cells": [
  {
   "cell_type": "markdown",
   "metadata": {},
   "source": [
    "# Domherren der Personendatenbank\n",
    "## Datenimport / -update WIAGweb 1\n",
    "\n",
    "Quellen: Personendatenbank (über https://mysql.gwdg.de/)  \n",
    "C:\\Users\\georg\\Documents\\projekte-doc\\gso\\data\n",
    "\n",
    "- [Personendaten](#Personendaten)\n",
    "- [IDs zuordnen](#IDs-zuordnen)\n",
    "- [Literaturangaben](#Literaturangaben)\n",
    "- [Ämter](#Ämter)\n",
    "\n",
    "2021-11-09, 2022-01-11, 2022-02-17"
   ]
  },
  {
   "cell_type": "code",
   "execution_count": 1,
   "metadata": {},
   "outputs": [
    {
     "data": {
      "text/plain": [
       "\"C:\\\\Users\\\\Georg\\\\Documents\\\\projekte\\\\WiagDataSetup.jl\""
      ]
     },
     "execution_count": 1,
     "metadata": {},
     "output_type": "execute_result"
    }
   ],
   "source": [
    "wds_path=\"C:\\\\Users\\\\Georg\\\\Documents\\\\projekte\\\\WiagDataSetup.jl\""
   ]
  },
  {
   "cell_type": "code",
   "execution_count": 2,
   "metadata": {},
   "outputs": [],
   "source": [
    "cd(wds_path)"
   ]
  },
  {
   "cell_type": "code",
   "execution_count": 3,
   "metadata": {},
   "outputs": [],
   "source": [
    "using Pkg"
   ]
  },
  {
   "cell_type": "code",
   "execution_count": 4,
   "metadata": {},
   "outputs": [
    {
     "name": "stderr",
     "output_type": "stream",
     "text": [
      "\u001b[32m\u001b[1m  Activating\u001b[22m\u001b[39m project at `C:\\Users\\Georg\\Documents\\projekte\\WiagDataSetup.jl`\n"
     ]
    }
   ],
   "source": [
    "Pkg.activate(\".\")"
   ]
  },
  {
   "cell_type": "code",
   "execution_count": 5,
   "metadata": {},
   "outputs": [],
   "source": [
    "using Revise"
   ]
  },
  {
   "cell_type": "code",
   "execution_count": 6,
   "metadata": {},
   "outputs": [
    {
     "name": "stderr",
     "output_type": "stream",
     "text": [
      "┌ Info: Precompiling WiagDataSetup [522c5ebb-a018-4020-8ed4-420cb1a9f084]\n",
      "└ @ Base loading.jl:1423\n"
     ]
    }
   ],
   "source": [
    "using WiagDataSetup"
   ]
  },
  {
   "cell_type": "code",
   "execution_count": 7,
   "metadata": {},
   "outputs": [],
   "source": [
    "using MySQL"
   ]
  },
  {
   "cell_type": "code",
   "execution_count": 8,
   "metadata": {},
   "outputs": [],
   "source": [
    "using DataFrames"
   ]
  },
  {
   "cell_type": "code",
   "execution_count": 9,
   "metadata": {},
   "outputs": [
    {
     "data": {
      "text/plain": [
       "WiagDataSetup"
      ]
     },
     "execution_count": 9,
     "metadata": {},
     "output_type": "execute_result"
    }
   ],
   "source": [
    "Wds = WiagDataSetup"
   ]
  },
  {
   "cell_type": "code",
   "execution_count": 10,
   "metadata": {},
   "outputs": [
    {
     "name": "stdout",
     "output_type": "stream",
     "text": [
      "Passwort für User georg: ········\n"
     ]
    },
    {
     "data": {
      "text/plain": [
       "MySQL.Connection(host=\"127.0.0.1\", user=\"georg\", port=\"3306\", db=\"wiag_in\")"
      ]
     },
     "execution_count": 10,
     "metadata": {},
     "output_type": "execute_result"
    }
   ],
   "source": [
    "Wds.setDBWIAG(user=\"georg\", db=\"wiag_in\")"
   ]
  },
  {
   "cell_type": "markdown",
   "metadata": {},
   "source": [
    "Datenbank anlegen: `wiag_in`  \n",
    "Tabellen anlegen: siehe `domherren_create.sql`\n",
    "- `cn_canon_gs`\n",
    "- `cn_office_gs`\n",
    "- `cn_canon_reference_gs`\n",
    "- `cn_reference_gs`"
   ]
  },
  {
   "cell_type": "markdown",
   "metadata": {},
   "source": [
    "## Personendaten"
   ]
  },
  {
   "cell_type": "markdown",
   "metadata": {},
   "source": [
    "Betrachte nur Personen, deren Eintrag nicht gelöscht ist und die online sind. Aus einem nicht erschließbaren Grund ist `item_id` nur eindeutig, wenn aus der Tabelle `gsn` nur der Eintrag mit der kleinsten ID berücksichtigt wird.\n",
    "``` sql\n",
    "select gsn.nummer, item_id, gsn.deleted, items.deleted, items.status from gsn join items on gsn.item_id = items.id where items.status = 'online' and not items.deleted limit 12 offset 4000;\n",
    "select count(*) from gsn join items on gsn.item_id = items.id where items.status = 'online' and not items.deleted;\n",
    "```\n",
    "97014\n",
    "``` sql\n",
    "select count(distinct(gsn.nummer)) from gsn join items on gsn.item_id = items.id where items.status = 'online' and not items.deleted;\n",
    "```\n",
    "97013\n",
    "``` sql\n",
    "create temporary table item_online as\n",
    "select min(gsn.id) as gsn_tbl_id, gsn.nummer, item_id, items.deleted, items.status\n",
    "from gso_in_202201.gsn join gso_in_202201.items on gsn.item_id = items.id where items.status = 'online'\n",
    "group by items.id;\n",
    "```\n",
    "87247"
   ]
  },
  {
   "cell_type": "code",
   "execution_count": 11,
   "metadata": {},
   "outputs": [],
   "source": [
    "gs_db = \"gso_in_202202\"\n",
    "sql = \"SELECT min(gsn.id) as gsn_tbl_id, gsn.nummer as gsn_id, max(item_id) as item_id, items.status \" * \n",
    "\"FROM $(gs_db).gsn JOIN $(gs_db).items ON gsn.item_id = items.id \" *\n",
    "\"WHERE items.status = 'online' AND NOT items.deleted \" *\n",
    "\"GROUP BY item_id\";\n",
    "df_p_online = Wds.sql_df(sql);"
   ]
  },
  {
   "cell_type": "code",
   "execution_count": 12,
   "metadata": {},
   "outputs": [
    {
     "data": {
      "text/plain": [
       "(80966, 4)"
      ]
     },
     "execution_count": 12,
     "metadata": {},
     "output_type": "execute_result"
    }
   ],
   "source": [
    "size(df_p_online)"
   ]
  },
  {
   "cell_type": "markdown",
   "metadata": {},
   "source": [
    "Ermittle die IDs der Domherren anhand der relevanten Stifte."
   ]
  },
  {
   "cell_type": "code",
   "execution_count": 13,
   "metadata": {},
   "outputs": [],
   "source": [
    "sql = \"SELECT gs_id FROM wiag.domstift\"\n",
    "df_ds = Wds.sql_df(sql);"
   ]
  },
  {
   "cell_type": "code",
   "execution_count": 14,
   "metadata": {},
   "outputs": [
    {
     "data": {
      "text/plain": [
       "(34, 1)"
      ]
     },
     "execution_count": 14,
     "metadata": {},
     "output_type": "execute_result"
    }
   ],
   "source": [
    "size(df_ds)"
   ]
  },
  {
   "cell_type": "code",
   "execution_count": 15,
   "metadata": {},
   "outputs": [
    {
     "data": {
      "text/plain": [
       "\"3498, 3492, 701, 343, 60130, 3493, 3496, 783, 675, 739, 832, 3503, 3499, 736, 676, 3488, 3501, 792, 794, 616, 628, 3491, 803, 953, 3495, 226, 3494, 679, 2066, 3489, 3500, 3487, 3490, 3502\""
      ]
     },
     "execution_count": 15,
     "metadata": {},
     "output_type": "execute_result"
    }
   ],
   "source": [
    "str_ds = join(df_ds.gs_id, \", \")"
   ]
  },
  {
   "cell_type": "code",
   "execution_count": 16,
   "metadata": {},
   "outputs": [],
   "source": [
    "gs_db = \"gso_in_202202\"\n",
    "sql = \"SELECT DISTINCT person_id \" *\n",
    "\"FROM $(gs_db).offices \" *\n",
    "\"WHERE klosterid in (\" * str_ds * \") \"\n",
    "df_ids_cn = Wds.sql_df(sql);"
   ]
  },
  {
   "cell_type": "code",
   "execution_count": 17,
   "metadata": {},
   "outputs": [
    {
     "data": {
      "text/plain": [
       "(13265, 1)"
      ]
     },
     "execution_count": 17,
     "metadata": {},
     "output_type": "execute_result"
    }
   ],
   "source": [
    "size(df_ids_cn)"
   ]
  },
  {
   "cell_type": "code",
   "execution_count": 18,
   "metadata": {},
   "outputs": [],
   "source": [
    "str_ids_cn = join(df_ids_cn.person_id, \", \");"
   ]
  },
  {
   "cell_type": "markdown",
   "metadata": {},
   "source": [
    "Lies Personendaten"
   ]
  },
  {
   "cell_type": "code",
   "execution_count": 19,
   "metadata": {},
   "outputs": [],
   "source": [
    "sql = \"SELECT p.id as id_person_gso, item_id, \" *\n",
    "\"namenspraefix as prefix_name, vorname as givenname, familienname as familyname, \" *\n",
    "\"sterbedatum as date_death, geburtsdatum as date_birth, `orden` as religious_order, \" *\n",
    "\"anmerkungen as annotation_ed, titel as academic_title, \" * \n",
    "\"gndnummer as gnd_id, viaf as viaf_id, \" *\n",
    "\"familiennamenvarianten as familyname_variant, vornamenvarianten as givenname_variant, \" *\n",
    "\"namenszusatz as comment_name, \" *\n",
    "\"zeitraum_von as date_hist_first, zeitraum_bis as date_hist_last \" *\n",
    "\"FROM $(gs_db).persons as p \" *\n",
    "\"WHERE p.id IN (\" * str_ids_cn * \") \" *\n",
    "\"ORDER BY p.id\"\n",
    "df_p_cn = Wds.sql_df(sql);"
   ]
  },
  {
   "cell_type": "code",
   "execution_count": 20,
   "metadata": {},
   "outputs": [],
   "source": [
    "Wds.clean_up!(df_p_cn)"
   ]
  },
  {
   "cell_type": "code",
   "execution_count": 21,
   "metadata": {},
   "outputs": [
    {
     "data": {
      "text/plain": [
       "(13265, 17)"
      ]
     },
     "execution_count": 21,
     "metadata": {},
     "output_type": "execute_result"
    }
   ],
   "source": [
    "size(df_p_cn)"
   ]
  },
  {
   "cell_type": "markdown",
   "metadata": {},
   "source": [
    "Ergänze die GSN und beschränke auf Domherren, die online sind."
   ]
  },
  {
   "cell_type": "code",
   "execution_count": 22,
   "metadata": {},
   "outputs": [],
   "source": [
    "df_p_cn = innerjoin(df_p_cn, df_p_online, on = :item_id);"
   ]
  },
  {
   "cell_type": "code",
   "execution_count": 23,
   "metadata": {},
   "outputs": [
    {
     "data": {
      "text/plain": [
       "(8564, 20)"
      ]
     },
     "execution_count": 23,
     "metadata": {},
     "output_type": "execute_result"
    }
   ],
   "source": [
    "size(df_p_cn)"
   ]
  },
  {
   "cell_type": "code",
   "execution_count": 24,
   "metadata": {},
   "outputs": [
    {
     "data": {
      "text/plain": [
       "20-element Vector{String}:\n",
       " \"id_person_gso\"\n",
       " \"item_id\"\n",
       " \"prefix_name\"\n",
       " \"givenname\"\n",
       " \"familyname\"\n",
       " \"date_death\"\n",
       " \"date_birth\"\n",
       " \"religious_order\"\n",
       " \"annotation_ed\"\n",
       " \"academic_title\"\n",
       " \"gnd_id\"\n",
       " \"viaf_id\"\n",
       " \"familyname_variant\"\n",
       " \"givenname_variant\"\n",
       " \"comment_name\"\n",
       " \"date_hist_first\"\n",
       " \"date_hist_last\"\n",
       " \"gsn_tbl_id\"\n",
       " \"gsn_id\"\n",
       " \"status\""
      ]
     },
     "execution_count": 24,
     "metadata": {},
     "output_type": "execute_result"
    }
   ],
   "source": [
    "names(df_p_cn)"
   ]
  },
  {
   "cell_type": "code",
   "execution_count": 26,
   "metadata": {},
   "outputs": [
    {
     "data": {
      "text/html": [
       "<div class=\"data-frame\"><p>6 rows × 20 columns (omitted printing of 13 columns)</p><table class=\"data-frame\"><thead><tr><th></th><th>id_person_gso</th><th>item_id</th><th>prefix_name</th><th>givenname</th><th>familyname</th><th>date_death</th><th>date_birth</th></tr><tr><th></th><th title=\"Int32\">Int32</th><th title=\"Int32\">Int32</th><th title=\"Union{Missing, SubString{String}}\">SubStri…?</th><th title=\"Union{Missing, SubString{String}}\">SubStri…?</th><th title=\"Union{Missing, SubString{String}}\">SubStri…?</th><th title=\"Union{Missing, SubString{String}}\">SubStri…?</th><th title=\"Union{Missing, SubString{String}}\">SubStri…?</th></tr></thead><tbody><tr><th>1</th><td>4586</td><td>4586</td><td><em>missing</em></td><td>Nikolaus</td><td>Amelung</td><td><em>missing</em></td><td><em>missing</em></td></tr><tr><th>2</th><td>4590</td><td>4590</td><td>von</td><td>Johann</td><td>Angern</td><td>1423</td><td><em>missing</em></td></tr><tr><th>3</th><td>4620</td><td>4620</td><td><em>missing</em></td><td>Lorenz</td><td>Bading</td><td>1557</td><td><em>missing</em></td></tr><tr><th>4</th><td>4623</td><td>4623</td><td>(von)</td><td>Werner</td><td>Balck</td><td><em>missing</em></td><td><em>missing</em></td></tr><tr><th>5</th><td>4678</td><td>4678</td><td>(von)</td><td>Johannes</td><td>Bellin</td><td><em>missing</em></td><td><em>missing</em></td></tr><tr><th>6</th><td>4684</td><td>4684</td><td>von</td><td>Werner</td><td>Berg</td><td><em>missing</em></td><td><em>missing</em></td></tr></tbody></table></div>"
      ],
      "text/latex": [
       "\\begin{tabular}{r|cccccccc}\n",
       "\t& id\\_person\\_gso & item\\_id & prefix\\_name & givenname & familyname & date\\_death & date\\_birth & \\\\\n",
       "\t\\hline\n",
       "\t& Int32 & Int32 & SubStri…? & SubStri…? & SubStri…? & SubStri…? & SubStri…? & \\\\\n",
       "\t\\hline\n",
       "\t1 & 4586 & 4586 & \\emph{missing} & Nikolaus & Amelung & \\emph{missing} & \\emph{missing} & $\\dots$ \\\\\n",
       "\t2 & 4590 & 4590 & von & Johann & Angern & 1423 & \\emph{missing} & $\\dots$ \\\\\n",
       "\t3 & 4620 & 4620 & \\emph{missing} & Lorenz & Bading & 1557 & \\emph{missing} & $\\dots$ \\\\\n",
       "\t4 & 4623 & 4623 & (von) & Werner & Balck & \\emph{missing} & \\emph{missing} & $\\dots$ \\\\\n",
       "\t5 & 4678 & 4678 & (von) & Johannes & Bellin & \\emph{missing} & \\emph{missing} & $\\dots$ \\\\\n",
       "\t6 & 4684 & 4684 & von & Werner & Berg & \\emph{missing} & \\emph{missing} & $\\dots$ \\\\\n",
       "\\end{tabular}\n"
      ],
      "text/plain": [
       "\u001b[1m6×20 DataFrame\u001b[0m\n",
       "\u001b[1m Row \u001b[0m│\u001b[1m id_person_gso \u001b[0m\u001b[1m item_id \u001b[0m\u001b[1m prefix_name \u001b[0m\u001b[1m givenname   \u001b[0m\u001b[1m familyname  \u001b[0m\u001b[1m date_dea\u001b[0m ⋯\n",
       "\u001b[1m     \u001b[0m│\u001b[90m Int32         \u001b[0m\u001b[90m Int32   \u001b[0m\u001b[90m SubString…? \u001b[0m\u001b[90m SubString…? \u001b[0m\u001b[90m SubString…? \u001b[0m\u001b[90m SubStrin\u001b[0m ⋯\n",
       "─────┼──────────────────────────────────────────────────────────────────────────\n",
       "   1 │          4586     4586 \u001b[90m missing     \u001b[0m Nikolaus     Amelung     \u001b[90m missing \u001b[0m ⋯\n",
       "   2 │          4590     4590  von          Johann       Angern       1423\n",
       "   3 │          4620     4620 \u001b[90m missing     \u001b[0m Lorenz       Bading       1557\n",
       "   4 │          4623     4623  (von)        Werner       Balck       \u001b[90m missing\u001b[0m\n",
       "   5 │          4678     4678  (von)        Johannes     Bellin      \u001b[90m missing \u001b[0m ⋯\n",
       "   6 │          4684     4684  von          Werner       Berg        \u001b[90m missing\u001b[0m\n",
       "\u001b[36m                                                              15 columns omitted\u001b[0m"
      ]
     },
     "execution_count": 26,
     "metadata": {},
     "output_type": "execute_result"
    }
   ],
   "source": [
    "first(df_p_cn, 6)"
   ]
  },
  {
   "cell_type": "markdown",
   "metadata": {},
   "source": [
    "### IDs zuordnen\n",
    "Lies bestehende IDs"
   ]
  },
  {
   "cell_type": "code",
   "execution_count": 24,
   "metadata": {},
   "outputs": [],
   "source": [
    "sql = \"SELECT id, id_person_gso FROM wiag.cn_canon_gs\"\n",
    "df_id_cn_wiag = Wds.sql_df(sql);"
   ]
  },
  {
   "cell_type": "code",
   "execution_count": 25,
   "metadata": {},
   "outputs": [],
   "source": [
    "df_p_cn = leftjoin(df_p_cn, df_id_cn_wiag, on = :id_person_gso);"
   ]
  },
  {
   "cell_type": "code",
   "execution_count": 26,
   "metadata": {},
   "outputs": [
    {
     "data": {
      "text/plain": [
       "(8564, 21)"
      ]
     },
     "execution_count": 26,
     "metadata": {},
     "output_type": "execute_result"
    }
   ],
   "source": [
    "size(df_p_cn)"
   ]
  },
  {
   "cell_type": "code",
   "execution_count": 27,
   "metadata": {},
   "outputs": [
    {
     "data": {
      "text/plain": [
       "(191,)"
      ]
     },
     "execution_count": 27,
     "metadata": {},
     "output_type": "execute_result"
    }
   ],
   "source": [
    "size(filter(ismissing, df_p_cn.id))"
   ]
  },
  {
   "cell_type": "markdown",
   "metadata": {},
   "source": [
    "Wer fehlt?"
   ]
  },
  {
   "cell_type": "code",
   "execution_count": 28,
   "metadata": {},
   "outputs": [],
   "source": [
    "df_cn_gone = antijoin(df_id_cn_wiag, df_p_cn, on = :id_person_gso);"
   ]
  },
  {
   "cell_type": "code",
   "execution_count": 29,
   "metadata": {},
   "outputs": [
    {
     "data": {
      "text/html": [
       "<div class=\"data-frame\"><p>5 rows × 2 columns</p><table class=\"data-frame\"><thead><tr><th></th><th>id</th><th>id_person_gso</th></tr><tr><th></th><th title=\"Int32\">Int32</th><th title=\"Union{Missing, Int32}\">Int32?</th></tr></thead><tbody><tr><th>1</th><td>80838</td><td>20099</td></tr><tr><th>2</th><td>80971</td><td>23212</td></tr><tr><th>3</th><td>81163</td><td>47159</td></tr><tr><th>4</th><td>81175</td><td>55593</td></tr><tr><th>5</th><td>83499</td><td>142939</td></tr></tbody></table></div>"
      ],
      "text/latex": [
       "\\begin{tabular}{r|cc}\n",
       "\t& id & id\\_person\\_gso\\\\\n",
       "\t\\hline\n",
       "\t& Int32 & Int32?\\\\\n",
       "\t\\hline\n",
       "\t1 & 80838 & 20099 \\\\\n",
       "\t2 & 80971 & 23212 \\\\\n",
       "\t3 & 81163 & 47159 \\\\\n",
       "\t4 & 81175 & 55593 \\\\\n",
       "\t5 & 83499 & 142939 \\\\\n",
       "\\end{tabular}\n"
      ],
      "text/plain": [
       "\u001b[1m5×2 DataFrame\u001b[0m\n",
       "\u001b[1m Row \u001b[0m│\u001b[1m id    \u001b[0m\u001b[1m id_person_gso \u001b[0m\n",
       "\u001b[1m     \u001b[0m│\u001b[90m Int32 \u001b[0m\u001b[90m Int32?        \u001b[0m\n",
       "─────┼──────────────────────\n",
       "   1 │ 80838          20099\n",
       "   2 │ 80971          23212\n",
       "   3 │ 81163          47159\n",
       "   4 │ 81175          55593\n",
       "   5 │ 83499         142939"
      ]
     },
     "execution_count": 29,
     "metadata": {},
     "output_type": "execute_result"
    }
   ],
   "source": [
    "first(df_cn_gone, 5)"
   ]
  },
  {
   "cell_type": "markdown",
   "metadata": {},
   "source": [
    "Das sind zum Beispiel bereinigte Dubletten (005-03705-001).  \n",
    "**R** Domherren, die aus dem aktuellen Online-Bestand der Personendatenbank herausgenommen werden, werden über WIAG nicht mehr zu finden sein, weil der Redaktionsprozess der Personendatenbank in WIAG nicht nachgebildet wird."
   ]
  },
  {
   "cell_type": "code",
   "execution_count": 116,
   "metadata": {},
   "outputs": [],
   "source": [
    "df_p_cn[100:130, [:id, :id_person_gso, :gsn_tbl_id]];"
   ]
  },
  {
   "cell_type": "markdown",
   "metadata": {},
   "source": [
    "Die Daten sind nach `gsn_tbl_id` sortiert (auch die anderen beiden IDs folgen dieser Sortierung)"
   ]
  },
  {
   "cell_type": "code",
   "execution_count": 30,
   "metadata": {},
   "outputs": [],
   "source": [
    "df_p_cn_mg_id = filter(:id => ismissing, df_p_cn);"
   ]
  },
  {
   "cell_type": "code",
   "execution_count": 31,
   "metadata": {},
   "outputs": [
    {
     "data": {
      "text/plain": [
       "(191, 21)"
      ]
     },
     "execution_count": 31,
     "metadata": {},
     "output_type": "execute_result"
    }
   ],
   "source": [
    "size(df_p_cn_mg_id)"
   ]
  },
  {
   "cell_type": "code",
   "execution_count": 32,
   "metadata": {},
   "outputs": [],
   "source": [
    "df_p_cn_id = filter(:id => !ismissing, df_p_cn);"
   ]
  },
  {
   "cell_type": "code",
   "execution_count": 33,
   "metadata": {},
   "outputs": [
    {
     "data": {
      "text/plain": [
       "(330858, (8373, 21))"
      ]
     },
     "execution_count": 33,
     "metadata": {},
     "output_type": "execute_result"
    }
   ],
   "source": [
    "maximum(df_p_cn_id.id_person_gso), size(df_p_cn_id)"
   ]
  },
  {
   "cell_type": "code",
   "execution_count": 113,
   "metadata": {},
   "outputs": [
    {
     "data": {
      "text/plain": [
       "(285187, (6, 21))"
      ]
     },
     "execution_count": 113,
     "metadata": {},
     "output_type": "execute_result"
    }
   ],
   "source": [
    "minimum(df_p_cn_mg_id.id_person_gso), size(df_p_cn_mg_id)"
   ]
  },
  {
   "cell_type": "markdown",
   "metadata": {},
   "source": [
    "Sobald hier neue IDs vergeben werden, wird die Sortierung von ID (in WIAG) und `persons.id` nicht mehr kongruent sein."
   ]
  },
  {
   "cell_type": "code",
   "execution_count": 37,
   "metadata": {},
   "outputs": [
    {
     "data": {
      "text/plain": [
       "(90041, (8373, 21))"
      ]
     },
     "execution_count": 37,
     "metadata": {},
     "output_type": "execute_result"
    }
   ],
   "source": [
    "id_max, s_cn_id = maximum(df_p_cn_id.id), size(df_p_cn_id)"
   ]
  },
  {
   "cell_type": "code",
   "execution_count": 34,
   "metadata": {},
   "outputs": [],
   "source": [
    "id_person_gso = sort(df_p_cn_mg_id.id_person_gso);"
   ]
  },
  {
   "cell_type": "code",
   "execution_count": 35,
   "metadata": {},
   "outputs": [
    {
     "data": {
      "text/html": [
       "<div class=\"data-frame\"><p>8 rows × 2 columns</p><table class=\"data-frame\"><thead><tr><th></th><th>id</th><th>id_person_gso</th></tr><tr><th></th><th title=\"Int32\">Int32</th><th title=\"Union{Missing, Int32}\">Int32?</th></tr></thead><tbody><tr><th>1</th><td>90034</td><td>330844</td></tr><tr><th>2</th><td>90035</td><td>330845</td></tr><tr><th>3</th><td>90036</td><td>330849</td></tr><tr><th>4</th><td>90037</td><td>330852</td></tr><tr><th>5</th><td>90038</td><td>330855</td></tr><tr><th>6</th><td>90039</td><td>330856</td></tr><tr><th>7</th><td>90040</td><td>330857</td></tr><tr><th>8</th><td>90041</td><td>330858</td></tr></tbody></table></div>"
      ],
      "text/latex": [
       "\\begin{tabular}{r|cc}\n",
       "\t& id & id\\_person\\_gso\\\\\n",
       "\t\\hline\n",
       "\t& Int32 & Int32?\\\\\n",
       "\t\\hline\n",
       "\t1 & 90034 & 330844 \\\\\n",
       "\t2 & 90035 & 330845 \\\\\n",
       "\t3 & 90036 & 330849 \\\\\n",
       "\t4 & 90037 & 330852 \\\\\n",
       "\t5 & 90038 & 330855 \\\\\n",
       "\t6 & 90039 & 330856 \\\\\n",
       "\t7 & 90040 & 330857 \\\\\n",
       "\t8 & 90041 & 330858 \\\\\n",
       "\\end{tabular}\n"
      ],
      "text/plain": [
       "\u001b[1m8×2 DataFrame\u001b[0m\n",
       "\u001b[1m Row \u001b[0m│\u001b[1m id    \u001b[0m\u001b[1m id_person_gso \u001b[0m\n",
       "\u001b[1m     \u001b[0m│\u001b[90m Int32 \u001b[0m\u001b[90m Int32?        \u001b[0m\n",
       "─────┼──────────────────────\n",
       "   1 │ 90034         330844\n",
       "   2 │ 90035         330845\n",
       "   3 │ 90036         330849\n",
       "   4 │ 90037         330852\n",
       "   5 │ 90038         330855\n",
       "   6 │ 90039         330856\n",
       "   7 │ 90040         330857\n",
       "   8 │ 90041         330858"
      ]
     },
     "execution_count": 35,
     "metadata": {},
     "output_type": "execute_result"
    }
   ],
   "source": [
    "last(df_id_cn_wiag, 8)"
   ]
  },
  {
   "cell_type": "code",
   "execution_count": 38,
   "metadata": {},
   "outputs": [],
   "source": [
    "id_c = id_max + 1;\n",
    "for id_gso in id_person_gso\n",
    "    push!(df_id_cn_wiag, (id_c, id_gso))\n",
    "    id_c += 1;\n",
    "end"
   ]
  },
  {
   "cell_type": "markdown",
   "metadata": {},
   "source": [
    "2021-11: `df_id_cn_wiag` hat jetzt 20 Zeilen mehr als `df_p_cn`: eben jene, die in der Quelle als Dubletten erkannt wurden oder aus anderen Gründen entfernt wurden."
   ]
  },
  {
   "cell_type": "code",
   "execution_count": 39,
   "metadata": {},
   "outputs": [
    {
     "data": {
      "text/plain": [
       "(8587, 8587)"
      ]
     },
     "execution_count": 39,
     "metadata": {},
     "output_type": "execute_result"
    }
   ],
   "source": [
    "length(unique(df_id_cn_wiag.id)), length(unique(df_id_cn_wiag.id_person_gso))"
   ]
  },
  {
   "cell_type": "markdown",
   "metadata": {},
   "source": [
    "Entferne die IDs wieder, die schon zugeordnet waren und füge sie wieder ein mit dem vervollständigten Satz von IDs."
   ]
  },
  {
   "cell_type": "code",
   "execution_count": 40,
   "metadata": {},
   "outputs": [],
   "source": [
    "df_p_cn = select(df_p_cn, Not(:id));"
   ]
  },
  {
   "cell_type": "code",
   "execution_count": 41,
   "metadata": {},
   "outputs": [
    {
     "data": {
      "text/plain": [
       "(8564, 20)"
      ]
     },
     "execution_count": 41,
     "metadata": {},
     "output_type": "execute_result"
    }
   ],
   "source": [
    "size(df_p_cn)"
   ]
  },
  {
   "cell_type": "code",
   "execution_count": 42,
   "metadata": {},
   "outputs": [],
   "source": [
    "df_p_cn = leftjoin(df_p_cn, df_id_cn_wiag, on = :id_person_gso);"
   ]
  },
  {
   "cell_type": "code",
   "execution_count": 43,
   "metadata": {},
   "outputs": [
    {
     "data": {
      "text/plain": [
       "(0, 21)"
      ]
     },
     "execution_count": 43,
     "metadata": {},
     "output_type": "execute_result"
    }
   ],
   "source": [
    "size(filter(:id => ismissing, df_p_cn))"
   ]
  },
  {
   "cell_type": "code",
   "execution_count": 44,
   "metadata": {},
   "outputs": [],
   "source": [
    "Wds.clean_up!(df_p_cn)"
   ]
  },
  {
   "cell_type": "code",
   "execution_count": null,
   "metadata": {},
   "outputs": [],
   "source": []
  },
  {
   "cell_type": "code",
   "execution_count": 45,
   "metadata": {},
   "outputs": [
    {
     "data": {
      "text/html": [
       "<div class=\"data-frame\"><p>11 rows × 4 columns</p><table class=\"data-frame\"><thead><tr><th></th><th>id</th><th>id_person_gso</th><th>givenname</th><th>date_death</th></tr><tr><th></th><th title=\"Int32\">Int32</th><th title=\"Int32\">Int32</th><th title=\"Union{Missing, String}\">String?</th><th title=\"Union{Missing, String}\">String?</th></tr></thead><tbody><tr><th>1</th><td>80020</td><td>4984</td><td>Engelbert</td><td><em>missing</em></td></tr><tr><th>2</th><td>80021</td><td>5049</td><td>Matthäus</td><td><em>missing</em></td></tr><tr><th>3</th><td>80022</td><td>5090</td><td>Joachim</td><td>1544</td></tr><tr><th>4</th><td>80023</td><td>5092</td><td>Jakob</td><td><em>missing</em></td></tr><tr><th>5</th><td>80024</td><td>5096</td><td>Peter</td><td><em>missing</em></td></tr><tr><th>6</th><td>80025</td><td>5135</td><td>Gebhard</td><td><em>missing</em></td></tr><tr><th>7</th><td>80026</td><td>5156</td><td>Heinrich</td><td><em>missing</em></td></tr><tr><th>8</th><td>80027</td><td>5166</td><td>Gerhard</td><td><em>missing</em></td></tr><tr><th>9</th><td>80028</td><td>5170</td><td>Nikolaus</td><td><em>missing</em></td></tr><tr><th>10</th><td>80029</td><td>5171</td><td>Wichmann</td><td>1524</td></tr><tr><th>11</th><td>80030</td><td>5200</td><td>Heinrich</td><td><em>missing</em></td></tr></tbody></table></div>"
      ],
      "text/latex": [
       "\\begin{tabular}{r|cccc}\n",
       "\t& id & id\\_person\\_gso & givenname & date\\_death\\\\\n",
       "\t\\hline\n",
       "\t& Int32 & Int32 & String? & String?\\\\\n",
       "\t\\hline\n",
       "\t1 & 80020 & 4984 & Engelbert & \\emph{missing} \\\\\n",
       "\t2 & 80021 & 5049 & Matthäus & \\emph{missing} \\\\\n",
       "\t3 & 80022 & 5090 & Joachim & 1544 \\\\\n",
       "\t4 & 80023 & 5092 & Jakob & \\emph{missing} \\\\\n",
       "\t5 & 80024 & 5096 & Peter & \\emph{missing} \\\\\n",
       "\t6 & 80025 & 5135 & Gebhard & \\emph{missing} \\\\\n",
       "\t7 & 80026 & 5156 & Heinrich & \\emph{missing} \\\\\n",
       "\t8 & 80027 & 5166 & Gerhard & \\emph{missing} \\\\\n",
       "\t9 & 80028 & 5170 & Nikolaus & \\emph{missing} \\\\\n",
       "\t10 & 80029 & 5171 & Wichmann & 1524 \\\\\n",
       "\t11 & 80030 & 5200 & Heinrich & \\emph{missing} \\\\\n",
       "\\end{tabular}\n"
      ],
      "text/plain": [
       "\u001b[1m11×4 DataFrame\u001b[0m\n",
       "\u001b[1m Row \u001b[0m│\u001b[1m id    \u001b[0m\u001b[1m id_person_gso \u001b[0m\u001b[1m givenname \u001b[0m\u001b[1m date_death \u001b[0m\n",
       "\u001b[1m     \u001b[0m│\u001b[90m Int32 \u001b[0m\u001b[90m Int32         \u001b[0m\u001b[90m String?   \u001b[0m\u001b[90m String?    \u001b[0m\n",
       "─────┼─────────────────────────────────────────────\n",
       "   1 │ 80020           4984  Engelbert \u001b[90m missing    \u001b[0m\n",
       "   2 │ 80021           5049  Matthäus  \u001b[90m missing    \u001b[0m\n",
       "   3 │ 80022           5090  Joachim    1544\n",
       "   4 │ 80023           5092  Jakob     \u001b[90m missing    \u001b[0m\n",
       "   5 │ 80024           5096  Peter     \u001b[90m missing    \u001b[0m\n",
       "   6 │ 80025           5135  Gebhard   \u001b[90m missing    \u001b[0m\n",
       "   7 │ 80026           5156  Heinrich  \u001b[90m missing    \u001b[0m\n",
       "   8 │ 80027           5166  Gerhard   \u001b[90m missing    \u001b[0m\n",
       "   9 │ 80028           5170  Nikolaus  \u001b[90m missing    \u001b[0m\n",
       "  10 │ 80029           5171  Wichmann   1524\n",
       "  11 │ 80030           5200  Heinrich  \u001b[90m missing    \u001b[0m"
      ]
     },
     "execution_count": 45,
     "metadata": {},
     "output_type": "execute_result"
    }
   ],
   "source": [
    "df_p_cn[20:30, [:id, :id_person_gso, :givenname, :date_death]]"
   ]
  },
  {
   "cell_type": "code",
   "execution_count": 46,
   "metadata": {},
   "outputs": [
    {
     "data": {
      "text/plain": [
       "90232"
      ]
     },
     "execution_count": 46,
     "metadata": {},
     "output_type": "execute_result"
    }
   ],
   "source": [
    "maximum(df_p_cn.id)"
   ]
  },
  {
   "cell_type": "code",
   "execution_count": 47,
   "metadata": {},
   "outputs": [],
   "source": [
    "numdate_birth(date) = Wds.parsemaybe(date, :lower)\n",
    "df_p_cn[!, :numdate_birth] .= numdate_birth.(df_p_cn.date_birth);"
   ]
  },
  {
   "cell_type": "code",
   "execution_count": 48,
   "metadata": {},
   "outputs": [],
   "source": [
    "numdate_death(date) = Wds.parsemaybe(date, :upper)\n",
    "df_p_cn[!, :numdate_death] .= numdate_death.(df_p_cn.date_death);"
   ]
  },
  {
   "cell_type": "code",
   "execution_count": 49,
   "metadata": {},
   "outputs": [
    {
     "name": "stderr",
     "output_type": "stream",
     "text": [
      "┌ Info: Rows inserted: 8564\n",
      "└ @ WiagDataSetup C:\\Users\\Georg\\Documents\\projekte\\WiagDataSetup.jl\\src\\WiagDataSetup.jl:1201\n"
     ]
    },
    {
     "data": {
      "text/plain": [
       "8564"
      ]
     },
     "execution_count": 49,
     "metadata": {},
     "output_type": "execute_result"
    }
   ],
   "source": [
    "table_name = \"cn_canon_gs\"\n",
    "Wds.filltable!(table_name, select(df_p_cn, Not([:gsn_tbl_id, :item_id])), clear_table = true)"
   ]
  },
  {
   "cell_type": "markdown",
   "metadata": {},
   "source": [
    "## Literaturangaben\n",
    "Die in der Tabelle `locations` angegebenen Werte für `book_id` sind kongruent zu den IDs in `wiag.cn_reference_gs`.\n",
    "``` sql\n",
    "select count(*) from locations \n",
    "where book_id not in (select id from wiag.cn_reference_gs) \n",
    "and item_status = 'online' and not deleted;\n",
    "```\n",
    "0"
   ]
  },
  {
   "cell_type": "markdown",
   "metadata": {},
   "source": [
    "Referenzwerke (`gso_in_202202.books`)\n",
    "``` sql\n",
    "source 'C:\\Users\\georg\\Documents\\projekte-doc\\gso\\data\\books.sql';\n",
    "```"
   ]
  },
  {
   "cell_type": "code",
   "execution_count": 50,
   "metadata": {},
   "outputs": [
    {
     "data": {
      "text/plain": [
       "\"gso_in_202202\""
      ]
     },
     "execution_count": 50,
     "metadata": {},
     "output_type": "execute_result"
    }
   ],
   "source": [
    "gs_db"
   ]
  },
  {
   "cell_type": "code",
   "execution_count": 51,
   "metadata": {},
   "outputs": [],
   "source": [
    "table_src = \"$(gs_db).books\"\n",
    "sql = \"SELECT id, titel AS title, autoren AS author, nummer AS number_vol, \" *\n",
    "\"uri AS online_resource, kurztitel AS shorttitle \" *\n",
    "\"FROM \" * table_src \n",
    "df_vol = Wds.sql_df(sql);"
   ]
  },
  {
   "cell_type": "code",
   "execution_count": 52,
   "metadata": {},
   "outputs": [
    {
     "data": {
      "text/plain": [
       "(87, 6)"
      ]
     },
     "execution_count": 52,
     "metadata": {},
     "output_type": "execute_result"
    }
   ],
   "source": [
    "size(df_vol)"
   ]
  },
  {
   "cell_type": "code",
   "execution_count": 53,
   "metadata": {},
   "outputs": [
    {
     "name": "stderr",
     "output_type": "stream",
     "text": [
      "┌ Info: Rows inserted: 87\n",
      "└ @ WiagDataSetup C:\\Users\\Georg\\Documents\\projekte\\WiagDataSetup.jl\\src\\WiagDataSetup.jl:1201\n"
     ]
    },
    {
     "data": {
      "text/plain": [
       "87"
      ]
     },
     "execution_count": 53,
     "metadata": {},
     "output_type": "execute_result"
    }
   ],
   "source": [
    "table_name = \"cn_reference_gs\"\n",
    "Wds.filltable!(table_name, df_vol, clear_table = true)"
   ]
  },
  {
   "cell_type": "markdown",
   "metadata": {},
   "source": [
    "Lies die Domherren ein mit `item_id`"
   ]
  },
  {
   "cell_type": "code",
   "execution_count": 54,
   "metadata": {},
   "outputs": [],
   "source": [
    "sql = \"SELECT c.id AS id_canon, p.item_id FROM cn_canon_gs AS c \" *\n",
    "\"JOIN $(gs_db).persons as p on p.id = c.id_person_gso\"\n",
    "df_cn = Wds.sql_df(sql);"
   ]
  },
  {
   "cell_type": "code",
   "execution_count": 55,
   "metadata": {},
   "outputs": [
    {
     "data": {
      "text/plain": [
       "(8564, 2)"
      ]
     },
     "execution_count": 55,
     "metadata": {},
     "output_type": "execute_result"
    }
   ],
   "source": [
    "size(df_cn)"
   ]
  },
  {
   "cell_type": "markdown",
   "metadata": {},
   "source": [
    "Lies die Literaturverweise ein"
   ]
  },
  {
   "cell_type": "code",
   "execution_count": 56,
   "metadata": {},
   "outputs": [],
   "source": [
    "sql = \"SELECT * FROM $(gs_db).locations \" * \n",
    "\"WHERE item_status = 'online' AND NOT deleted \" *\n",
    "\"GROUP BY item_id, book_id, seiten\"\n",
    "df_p_ref = Wds.sql_df(sql);"
   ]
  },
  {
   "cell_type": "code",
   "execution_count": 57,
   "metadata": {},
   "outputs": [
    {
     "data": {
      "text/plain": [
       "(98321, 11)"
      ]
     },
     "execution_count": 57,
     "metadata": {},
     "output_type": "execute_result"
    }
   ],
   "source": [
    "size(df_p_ref)"
   ]
  },
  {
   "cell_type": "markdown",
   "metadata": {},
   "source": [
    "Welche Domherren haben eine Kurz-Biographie?"
   ]
  },
  {
   "cell_type": "code",
   "execution_count": 58,
   "metadata": {},
   "outputs": [],
   "source": [
    "is_bio(seiten) = contains(seiten, \"<b>\");\n",
    "df_p_ref[!, :is_bio] .= is_bio.(df_p_ref.seiten);"
   ]
  },
  {
   "cell_type": "code",
   "execution_count": 59,
   "metadata": {},
   "outputs": [
    {
     "data": {
      "text/plain": [
       "35018"
      ]
     },
     "execution_count": 59,
     "metadata": {},
     "output_type": "execute_result"
    }
   ],
   "source": [
    "sum(df_p_ref.is_bio)"
   ]
  },
  {
   "cell_type": "markdown",
   "metadata": {},
   "source": [
    "Übernimm für Domherren mit Kurzbiographie nur Literaturhinweise mit Kurzbiographien (`transfer_gso.sql`: 2021-04-26) Es ist freilich möglich, dass es mehrere Literaturverweise gibt, die eine Kurzbiographie enthalten."
   ]
  },
  {
   "cell_type": "code",
   "execution_count": 60,
   "metadata": {},
   "outputs": [],
   "source": [
    "df_p_ref_bio = filter(:is_bio => identity, df_p_ref);"
   ]
  },
  {
   "cell_type": "code",
   "execution_count": 61,
   "metadata": {},
   "outputs": [
    {
     "data": {
      "text/plain": [
       "(35018, 12)"
      ]
     },
     "execution_count": 61,
     "metadata": {},
     "output_type": "execute_result"
    }
   ],
   "source": [
    "size(df_p_ref_bio)"
   ]
  },
  {
   "cell_type": "code",
   "execution_count": 62,
   "metadata": {},
   "outputs": [],
   "source": [
    "df_cn_ref_bio = innerjoin(df_cn, df_p_ref_bio, on = :item_id);"
   ]
  },
  {
   "cell_type": "code",
   "execution_count": 63,
   "metadata": {},
   "outputs": [
    {
     "data": {
      "text/plain": [
       "((7420, 13), 6598)"
      ]
     },
     "execution_count": 63,
     "metadata": {},
     "output_type": "execute_result"
    }
   ],
   "source": [
    "size(df_cn_ref_bio), length(unique(df_cn_ref_bio.id_canon))"
   ]
  },
  {
   "cell_type": "code",
   "execution_count": 64,
   "metadata": {},
   "outputs": [],
   "source": [
    "df_cn_mg_bio = antijoin(df_cn, select(df_cn_ref_bio, :id_canon), on = :id_canon);"
   ]
  },
  {
   "cell_type": "code",
   "execution_count": 65,
   "metadata": {},
   "outputs": [
    {
     "data": {
      "text/plain": [
       "(1966, 2)"
      ]
     },
     "execution_count": 65,
     "metadata": {},
     "output_type": "execute_result"
    }
   ],
   "source": [
    "size(df_cn_mg_bio)"
   ]
  },
  {
   "cell_type": "code",
   "execution_count": 66,
   "metadata": {},
   "outputs": [],
   "source": [
    "df_cn_ref_mg_bio = innerjoin(df_cn_mg_bio, df_p_ref, on = :item_id);"
   ]
  },
  {
   "cell_type": "code",
   "execution_count": 67,
   "metadata": {},
   "outputs": [
    {
     "data": {
      "text/plain": [
       "(2434, 13)"
      ]
     },
     "execution_count": 67,
     "metadata": {},
     "output_type": "execute_result"
    }
   ],
   "source": [
    "size(df_cn_ref_mg_bio)"
   ]
  },
  {
   "cell_type": "markdown",
   "metadata": {},
   "source": [
    "Wandle `is_bio` in Int um."
   ]
  },
  {
   "cell_type": "code",
   "execution_count": 68,
   "metadata": {},
   "outputs": [],
   "source": [
    "transform!(df_cn_ref_bio, :is_bio => ByRow(Int) => :is_bio);"
   ]
  },
  {
   "cell_type": "code",
   "execution_count": 69,
   "metadata": {},
   "outputs": [],
   "source": [
    "transform!(df_cn_ref_mg_bio, :is_bio => ByRow(Int) => :is_bio);"
   ]
  },
  {
   "cell_type": "code",
   "execution_count": 70,
   "metadata": {},
   "outputs": [],
   "source": [
    "columns = [\n",
    "    :id_canon => :id_canon,\n",
    "    :book_id => :id_reference,\n",
    "    :seiten => :page_reference,\n",
    "    :is_bio => :isbio,\n",
    "    :item_status => :status,\n",
    "];"
   ]
  },
  {
   "cell_type": "markdown",
   "metadata": {},
   "source": [
    "Schreibe die Einträge mit Kurzbiographie"
   ]
  },
  {
   "cell_type": "code",
   "execution_count": 71,
   "metadata": {},
   "outputs": [
    {
     "name": "stderr",
     "output_type": "stream",
     "text": [
      "┌ Info: Rows inserted: 7420\n",
      "└ @ WiagDataSetup C:\\Users\\Georg\\Documents\\projekte\\WiagDataSetup.jl\\src\\WiagDataSetup.jl:1201\n"
     ]
    },
    {
     "data": {
      "text/plain": [
       "7420"
      ]
     },
     "execution_count": 71,
     "metadata": {},
     "output_type": "execute_result"
    }
   ],
   "source": [
    "table_name = \"cn_canon_reference_gs\"\n",
    "Wds.filltable!(table_name, select(df_cn_ref_bio, columns), clear_table = true)"
   ]
  },
  {
   "cell_type": "markdown",
   "metadata": {},
   "source": [
    "*2021-19-11* Einträge ohne Kurzbiographie werden nicht mehr ausgegeben; siehe Vorgängerversion der Daten. Diesen Schritt überspringen.\n",
    "Schreibe die Einträge ohne Kurzbiographie"
   ]
  },
  {
   "cell_type": "code",
   "execution_count": 47,
   "metadata": {},
   "outputs": [
    {
     "name": "stderr",
     "output_type": "stream",
     "text": [
      "┌ Info: Rows inserted: 2418\n",
      "└ @ WiagDataSetup C:\\Users\\Georg\\Documents\\projekte\\WiagDataSetup.jl\\src\\WiagDataSetup.jl:1184\n"
     ]
    },
    {
     "data": {
      "text/plain": [
       "2418"
      ]
     },
     "execution_count": 47,
     "metadata": {},
     "output_type": "execute_result"
    }
   ],
   "source": [
    "table_name = \"cn_canon_reference_gs\"\n",
    "Wds.filltable!(table_name, select(df_cn_ref_mg_bio, columns), clear_table = false)"
   ]
  },
  {
   "cell_type": "markdown",
   "metadata": {},
   "source": [
    "## Ämter"
   ]
  },
  {
   "cell_type": "code",
   "execution_count": 14,
   "metadata": {},
   "outputs": [
    {
     "data": {
      "text/plain": [
       "\"gso_in_202202\""
      ]
     },
     "execution_count": 14,
     "metadata": {},
     "output_type": "execute_result"
    }
   ],
   "source": [
    "gs_db = \"gso_in_202202\""
   ]
  },
  {
   "cell_type": "code",
   "execution_count": 15,
   "metadata": {},
   "outputs": [],
   "source": [
    "sql = \"SELECT person_id as id_person_gso, dioezese as diocese, bezeichnung as office_name, \" * \n",
    "\"von as date_start, bis as date_end, institution, ort as location, \" *\n",
    "\"anmerkung as comment, klosterid as id_monastery \" *\n",
    "\"FROM $(gs_db).offices \" *\n",
    "\"WHERE NOT deleted\"\n",
    "df_oc = Wds.sql_df(sql);"
   ]
  },
  {
   "cell_type": "code",
   "execution_count": 16,
   "metadata": {},
   "outputs": [],
   "source": [
    "Wds.clean_up!(df_oc)"
   ]
  },
  {
   "cell_type": "code",
   "execution_count": 17,
   "metadata": {},
   "outputs": [],
   "source": [
    "table_name = \"cn_canon_gs\"\n",
    "sql = \"SELECT id AS id_canon, id_person_gso \n",
    "FROM $(table_name)\";\n",
    "df_p_id = Wds.sql_df(sql);"
   ]
  },
  {
   "cell_type": "code",
   "execution_count": 18,
   "metadata": {},
   "outputs": [],
   "source": [
    "Wds.clean_up!(df_p_id)"
   ]
  },
  {
   "cell_type": "code",
   "execution_count": 19,
   "metadata": {},
   "outputs": [
    {
     "data": {
      "text/plain": [
       "(72637, 9)"
      ]
     },
     "execution_count": 19,
     "metadata": {},
     "output_type": "execute_result"
    }
   ],
   "source": [
    "size(df_oc)"
   ]
  },
  {
   "cell_type": "code",
   "execution_count": 21,
   "metadata": {},
   "outputs": [],
   "source": [
    "df_o_cn = innerjoin(df_oc, df_p_id, on = :id_person_gso);"
   ]
  },
  {
   "cell_type": "code",
   "execution_count": 22,
   "metadata": {},
   "outputs": [
    {
     "data": {
      "text/plain": [
       "(14991, 10)"
      ]
     },
     "execution_count": 22,
     "metadata": {},
     "output_type": "execute_result"
    }
   ],
   "source": [
    "size(df_o_cn)"
   ]
  },
  {
   "cell_type": "markdown",
   "metadata": {},
   "source": [
    "`location_show` und `location` stimmen für für die meisten Ämter der Domherren aus der Personendatenbank überein. `location_show` kann nur mit einer aktuellen Version von `cn_online` gesetzt werden."
   ]
  },
  {
   "cell_type": "code",
   "execution_count": 77,
   "metadata": {},
   "outputs": [],
   "source": [
    "df_o_cn[!, :location_show] .= df_o_cn.location;"
   ]
  },
  {
   "cell_type": "code",
   "execution_count": 23,
   "metadata": {},
   "outputs": [],
   "source": [
    "date_start(date) = Wds.parsemaybe(date, :lower)\n",
    "df_o_cn[!, :numdate_start] .= date_start.(df_o_cn.date_start);"
   ]
  },
  {
   "cell_type": "code",
   "execution_count": 24,
   "metadata": {},
   "outputs": [],
   "source": [
    "date_end(date) = Wds.parsemaybe(date, :upper)\n",
    "df_o_cn[!, :numdate_end] .= date_end.(df_o_cn.date_end);"
   ]
  },
  {
   "cell_type": "markdown",
   "metadata": {},
   "source": [
    "Befülle `time_sortkey` erst aus `date_end`, dann aus `date_start`"
   ]
  },
  {
   "cell_type": "code",
   "execution_count": 61,
   "metadata": {},
   "outputs": [],
   "source": [
    "df_o_cn[!, :time_sortkey] .= missing;"
   ]
  },
  {
   "cell_type": "code",
   "execution_count": 62,
   "metadata": {},
   "outputs": [],
   "source": [
    "transform!(df_o_cn, :date_end => ByRow(Wds.parse_year_sort) => :time_sortkey);"
   ]
  },
  {
   "cell_type": "code",
   "execution_count": 70,
   "metadata": {},
   "outputs": [
    {
     "data": {
      "text/plain": [
       "update_col (generic function with 1 method)"
      ]
     },
     "execution_count": 70,
     "metadata": {},
     "output_type": "execute_result"
    }
   ],
   "source": [
    "function update_col(from, to)\n",
    "    cand = Wds.parse_year_sort(from)\n",
    "    if ismissing(to) || cand < to\n",
    "        return cand\n",
    "    else\n",
    "        return to\n",
    "    end\n",
    "end"
   ]
  },
  {
   "cell_type": "code",
   "execution_count": 71,
   "metadata": {},
   "outputs": [],
   "source": [
    "transform!(df_o_cn, [:date_start, :time_sortkey] => ByRow(update_col) => :time_sortkey);"
   ]
  },
  {
   "cell_type": "code",
   "execution_count": 40,
   "metadata": {},
   "outputs": [
    {
     "data": {
      "text/plain": [
       "150"
      ]
     },
     "execution_count": 40,
     "metadata": {},
     "output_type": "execute_result"
    }
   ],
   "source": [
    "ENV[\"COLUMNS\"] = 150"
   ]
  },
  {
   "cell_type": "code",
   "execution_count": 47,
   "metadata": {},
   "outputs": [
    {
     "data": {
      "text/html": [
       "<div class=\"data-frame\"><p>11 rows × 7 columns</p><table class=\"data-frame\"><thead><tr><th></th><th>id_canon</th><th>office_name</th><th>date_start</th><th>date_end</th><th>numdate_start</th><th>numdate_end</th><th>time_sortkey</th></tr><tr><th></th><th title=\"Int32\">Int32</th><th title=\"Union{Missing, String}\">String?</th><th title=\"Union{Missing, String}\">String?</th><th title=\"Union{Missing, String}\">String?</th><th title=\"Union{Missing, Int64}\">Int64?</th><th title=\"Union{Missing, Int64}\">Int64?</th><th title=\"Int64\">Int64</th></tr></thead><tbody><tr><th>1</th><td>84434</td><td>Domherr</td><td>1807</td><td><em>missing</em></td><td>1807</td><td><em>missing</em></td><td>1807150</td></tr><tr><th>2</th><td>84435</td><td>Domherr</td><td>1792</td><td><em>missing</em></td><td>1792</td><td><em>missing</em></td><td>1792150</td></tr><tr><th>3</th><td>81140</td><td>Propst</td><td>1559</td><td>1569/1571</td><td>1559</td><td>1569</td><td>1559150</td></tr><tr><th>4</th><td>81055</td><td>Dompropst</td><td>um 1150</td><td><em>missing</em></td><td>1145</td><td><em>missing</em></td><td>1150210</td></tr><tr><th>5</th><td>83575</td><td>Domherr</td><td>1873</td><td>1887</td><td>1873</td><td>1887</td><td>1873150</td></tr><tr><th>6</th><td>81378</td><td>Domherr</td><td>1356</td><td><em>missing</em></td><td>1356</td><td><em>missing</em></td><td>1356150</td></tr><tr><th>7</th><td>81407</td><td>Domherr</td><td>1732</td><td><em>missing</em></td><td>1732</td><td><em>missing</em></td><td>1732150</td></tr><tr><th>8</th><td>81423</td><td>Domherr</td><td>1396</td><td><em>missing</em></td><td>1396</td><td><em>missing</em></td><td>1396150</td></tr><tr><th>9</th><td>81439</td><td>Domherr</td><td>Ende 18. Jahrhundert</td><td><em>missing</em></td><td>1767</td><td><em>missing</em></td><td>1799594</td></tr><tr><th>10</th><td>81472</td><td>Domherr</td><td>1775</td><td>1796</td><td>1775</td><td>1796</td><td>1775150</td></tr><tr><th>11</th><td>81504</td><td>Domherr</td><td>1396</td><td><em>missing</em></td><td>1396</td><td><em>missing</em></td><td>1396150</td></tr></tbody></table></div>"
      ],
      "text/latex": [
       "\\begin{tabular}{r|ccccccc}\n",
       "\t& id\\_canon & office\\_name & date\\_start & date\\_end & numdate\\_start & numdate\\_end & time\\_sortkey\\\\\n",
       "\t\\hline\n",
       "\t& Int32 & String? & String? & String? & Int64? & Int64? & Int64\\\\\n",
       "\t\\hline\n",
       "\t1 & 84434 & Domherr & 1807 & \\emph{missing} & 1807 & \\emph{missing} & 1807150 \\\\\n",
       "\t2 & 84435 & Domherr & 1792 & \\emph{missing} & 1792 & \\emph{missing} & 1792150 \\\\\n",
       "\t3 & 81140 & Propst & 1559 & 1569/1571 & 1559 & 1569 & 1559150 \\\\\n",
       "\t4 & 81055 & Dompropst & um 1150 & \\emph{missing} & 1145 & \\emph{missing} & 1150210 \\\\\n",
       "\t5 & 83575 & Domherr & 1873 & 1887 & 1873 & 1887 & 1873150 \\\\\n",
       "\t6 & 81378 & Domherr & 1356 & \\emph{missing} & 1356 & \\emph{missing} & 1356150 \\\\\n",
       "\t7 & 81407 & Domherr & 1732 & \\emph{missing} & 1732 & \\emph{missing} & 1732150 \\\\\n",
       "\t8 & 81423 & Domherr & 1396 & \\emph{missing} & 1396 & \\emph{missing} & 1396150 \\\\\n",
       "\t9 & 81439 & Domherr & Ende 18. Jahrhundert & \\emph{missing} & 1767 & \\emph{missing} & 1799594 \\\\\n",
       "\t10 & 81472 & Domherr & 1775 & 1796 & 1775 & 1796 & 1775150 \\\\\n",
       "\t11 & 81504 & Domherr & 1396 & \\emph{missing} & 1396 & \\emph{missing} & 1396150 \\\\\n",
       "\\end{tabular}\n"
      ],
      "text/plain": [
       "\u001b[1m11×7 DataFrame\u001b[0m\n",
       "\u001b[1m Row \u001b[0m│\u001b[1m id_canon \u001b[0m\u001b[1m office_name \u001b[0m\u001b[1m date_start           \u001b[0m\u001b[1m date_end  \u001b[0m\u001b[1m numdate_start \u001b[0m\u001b[1m numdate_end \u001b[0m\u001b[1m time_sortkey \u001b[0m\n",
       "\u001b[1m     \u001b[0m│\u001b[90m Int32    \u001b[0m\u001b[90m String?     \u001b[0m\u001b[90m String?              \u001b[0m\u001b[90m String?   \u001b[0m\u001b[90m Int64?        \u001b[0m\u001b[90m Int64?      \u001b[0m\u001b[90m Int64        \u001b[0m\n",
       "─────┼──────────────────────────────────────────────────────────────────────────────────────────────────\n",
       "   1 │    84434  Domherr      1807                 \u001b[90m missing   \u001b[0m          1807 \u001b[90m     missing \u001b[0m      1807150\n",
       "   2 │    84435  Domherr      1792                 \u001b[90m missing   \u001b[0m          1792 \u001b[90m     missing \u001b[0m      1792150\n",
       "   3 │    81140  Propst       1559                  1569/1571           1559         1569       1559150\n",
       "   4 │    81055  Dompropst    um 1150              \u001b[90m missing   \u001b[0m          1145 \u001b[90m     missing \u001b[0m      1150210\n",
       "   5 │    83575  Domherr      1873                  1887                1873         1887       1873150\n",
       "   6 │    81378  Domherr      1356                 \u001b[90m missing   \u001b[0m          1356 \u001b[90m     missing \u001b[0m      1356150\n",
       "   7 │    81407  Domherr      1732                 \u001b[90m missing   \u001b[0m          1732 \u001b[90m     missing \u001b[0m      1732150\n",
       "   8 │    81423  Domherr      1396                 \u001b[90m missing   \u001b[0m          1396 \u001b[90m     missing \u001b[0m      1396150\n",
       "   9 │    81439  Domherr      Ende 18. Jahrhundert \u001b[90m missing   \u001b[0m          1767 \u001b[90m     missing \u001b[0m      1799594\n",
       "  10 │    81472  Domherr      1775                  1796                1775         1796       1775150\n",
       "  11 │    81504  Domherr      1396                 \u001b[90m missing   \u001b[0m          1396 \u001b[90m     missing \u001b[0m      1396150"
      ]
     },
     "execution_count": 47,
     "metadata": {},
     "output_type": "execute_result"
    }
   ],
   "source": [
    "df_o_cn[20:30, [:id_canon, :office_name, :date_start, :date_end, :numdate_start, :numdate_end, :time_sortkey]]"
   ]
  },
  {
   "cell_type": "markdown",
   "metadata": {},
   "source": [
    "Welche Bistümer sind in der Datenbank?"
   ]
  },
  {
   "cell_type": "code",
   "execution_count": 42,
   "metadata": {},
   "outputs": [],
   "source": [
    "sql = \"SELECT diocese FROM wiag.diocese\"\n",
    "df_dioc = Wds.sql_df(sql);"
   ]
  },
  {
   "cell_type": "code",
   "execution_count": 59,
   "metadata": {},
   "outputs": [],
   "source": [
    "in_db(diocese) = ismissing(diocese) ? 0 : (in(diocese, df_dioc.diocese) ? 1 : 0)\n",
    "df_o_cn[!, :diocese_in_db] .= 0;\n",
    "for row in eachrow(df_o_cn)\n",
    "    row[:diocese_in_db] = in_db(row[:diocese])\n",
    "end"
   ]
  },
  {
   "cell_type": "markdown",
   "metadata": {},
   "source": [
    "Das Domstift Krakau ist nicht in der Klosterdatenbank. Dafür sind aber die Felder `institution` und `location` befüllt."
   ]
  },
  {
   "cell_type": "code",
   "execution_count": 72,
   "metadata": {},
   "outputs": [
    {
     "name": "stderr",
     "output_type": "stream",
     "text": [
      "┌ Info: 10000\n",
      "└ @ WiagDataSetup C:\\Users\\Georg\\Documents\\projekte\\WiagDataSetup.jl\\src\\WiagDataSetup.jl:1179\n",
      "┌ Info: Rows inserted: 14991\n",
      "└ @ WiagDataSetup C:\\Users\\Georg\\Documents\\projekte\\WiagDataSetup.jl\\src\\WiagDataSetup.jl:1202\n"
     ]
    },
    {
     "data": {
      "text/plain": [
       "14991"
      ]
     },
     "execution_count": 72,
     "metadata": {},
     "output_type": "execute_result"
    }
   ],
   "source": [
    "table_name = \"cn_office_gs\"\n",
    "Wds.filltable!(table_name, select(df_o_cn, Not(:id_person_gso)), clear_table = true)"
   ]
  },
  {
   "cell_type": "markdown",
   "metadata": {},
   "source": [
    "### `cn_office_gs.location_show`\n",
    "`monastery_location` wird regelmäßig befüllt mit Daten aus der Klosterdatenbank.\n",
    "\n",
    "In der Regel werden die Domherren aus der Domherrendatenbank später eingelesen, dann erst kann `cn_online` erstellt werden, und schließlich das Feld `cn_office_gs.location_show` befüllt werden."
   ]
  },
  {
   "cell_type": "code",
   "execution_count": 84,
   "metadata": {},
   "outputs": [
    {
     "name": "stderr",
     "output_type": "stream",
     "text": [
      "┌ Info: 1000\n",
      "└ @ WiagDataSetup C:\\Users\\georg\\Documents\\projekte\\WiagDataSetup.jl\\src\\WiagDataSetup.jl:565\n",
      "┌ Info: 2000\n",
      "└ @ WiagDataSetup C:\\Users\\georg\\Documents\\projekte\\WiagDataSetup.jl\\src\\WiagDataSetup.jl:565\n",
      "┌ Info: 3000\n",
      "└ @ WiagDataSetup C:\\Users\\georg\\Documents\\projekte\\WiagDataSetup.jl\\src\\WiagDataSetup.jl:565\n",
      "┌ Info: 4000\n",
      "└ @ WiagDataSetup C:\\Users\\georg\\Documents\\projekte\\WiagDataSetup.jl\\src\\WiagDataSetup.jl:565\n",
      "┌ Info: 5000\n",
      "└ @ WiagDataSetup C:\\Users\\georg\\Documents\\projekte\\WiagDataSetup.jl\\src\\WiagDataSetup.jl:565\n",
      "┌ Info: 6000\n",
      "└ @ WiagDataSetup C:\\Users\\georg\\Documents\\projekte\\WiagDataSetup.jl\\src\\WiagDataSetup.jl:565\n",
      "┌ Info: 7000\n",
      "└ @ WiagDataSetup C:\\Users\\georg\\Documents\\projekte\\WiagDataSetup.jl\\src\\WiagDataSetup.jl:565\n",
      "┌ Info: 8000\n",
      "└ @ WiagDataSetup C:\\Users\\georg\\Documents\\projekte\\WiagDataSetup.jl\\src\\WiagDataSetup.jl:565\n",
      "┌ Info: 9000\n",
      "└ @ WiagDataSetup C:\\Users\\georg\\Documents\\projekte\\WiagDataSetup.jl\\src\\WiagDataSetup.jl:565\n",
      "┌ Info: 10000\n",
      "└ @ WiagDataSetup C:\\Users\\georg\\Documents\\projekte\\WiagDataSetup.jl\\src\\WiagDataSetup.jl:565\n",
      "┌ Info: 11000\n",
      "└ @ WiagDataSetup C:\\Users\\georg\\Documents\\projekte\\WiagDataSetup.jl\\src\\WiagDataSetup.jl:565\n",
      "┌ Info: 12000\n",
      "└ @ WiagDataSetup C:\\Users\\georg\\Documents\\projekte\\WiagDataSetup.jl\\src\\WiagDataSetup.jl:565\n"
     ]
    },
    {
     "data": {
      "text/plain": [
       "12284"
      ]
     },
     "execution_count": 84,
     "metadata": {},
     "output_type": "execute_result"
    }
   ],
   "source": [
    "Wds.fillofficelocation(\"cn_office_gs\", \"monastery_location\", \"wiag.place\", \"cn_online\", \"id_gs\")"
   ]
  },
  {
   "cell_type": "markdown",
   "metadata": {},
   "source": [
    "Was ist mit der Diözese 'Hamburg-Bremen'?"
   ]
  },
  {
   "cell_type": "markdown",
   "metadata": {},
   "source": [
    "Daten übernehmen\n",
    "``` sql\n",
    "use wiag;\n",
    "delete from cn_canon_gs;\n",
    "insert into cn_canon_gs (select * from wiag_in.cn_canon_gs);\n",
    "```\n",
    "anlog: `cn_canon_reference_gs`, `cn_office_gs`  \n",
    "siehe auch Hilfstabellen in http://localhost:8888/notebooks/Documents/projekte/WiagDataSetup.jl/run/wiag/Domherren.ipynb"
   ]
  },
  {
   "cell_type": "code",
   "execution_count": null,
   "metadata": {},
   "outputs": [],
   "source": []
  }
 ],
 "metadata": {
  "kernelspec": {
   "display_name": "Julia 1.7.0",
   "language": "julia",
   "name": "julia-1.7"
  },
  "language_info": {
   "file_extension": ".jl",
   "mimetype": "application/julia",
   "name": "julia",
   "version": "1.7.0"
  }
 },
 "nbformat": 4,
 "nbformat_minor": 4
}
