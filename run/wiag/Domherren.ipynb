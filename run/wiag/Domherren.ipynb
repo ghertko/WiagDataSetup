{
 "cells": [
  {
   "cell_type": "markdown",
   "metadata": {},
   "source": [
    "# Domherren\n",
    "## Datenimport für Wiagweb 1\n",
    "\n",
    "Quelle: `W:\\Domstifte GS\\GS_Domherren_DB.accdb`\n",
    "\n",
    "- [Literatur](#Literatur)\n",
    "- [Personendaten](#Personendaten)\n",
    "- [Literaturangaben](#Literaturangaben)\n",
    "- [Ämter](#Ämter)\n",
    "- [Klöster](#Klöster)\n",
    "- [Klöster (Dump)](#Klöster-(Dump))\n",
    "- [Normierte Ämter](#Normierte-Ämter)\n",
    "- Hilfstabellen\n",
    "  - [`cn_online`](#cn_online)\n",
    "  - [`cn_officelookup`](#cn_officelookup)\n",
    "  - [`cn_office.location_show`](#cn_office.location_show)\n",
    "  - [`cn_era`](#cn_era)\n",
    "  - [`cn_namelookup`](#cn_namelookup)\n",
    "  - [`cn_idlookup`](#cn_idlookup)\n",
    "  \n",
    "  \n",
    "2021-11-11, 2021-12-16, 2022-01-11 (GS: neue Hilftabellen),  \n",
    "2022-02-18 (Print)"
   ]
  },
  {
   "cell_type": "code",
   "execution_count": 1,
   "metadata": {},
   "outputs": [
    {
     "data": {
      "text/plain": [
       "\"..\\\\..\""
      ]
     },
     "execution_count": 1,
     "metadata": {},
     "output_type": "execute_result"
    }
   ],
   "source": [
    "# wds_path=\"C:\\\\Users\\\\Georg\\\\Documents\\\\projekte\\\\WiagDataSetup.jl\"\n",
    "wds_path=\"..\\\\..\""
   ]
  },
  {
   "cell_type": "code",
   "execution_count": 2,
   "metadata": {},
   "outputs": [],
   "source": [
    "cd(wds_path)"
   ]
  },
  {
   "cell_type": "code",
   "execution_count": 3,
   "metadata": {},
   "outputs": [
    {
     "data": {
      "text/plain": [
       "\"C:\\\\Users\\\\georg\\\\Documents\\\\projekte\\\\WiagDataSetup.jl\""
      ]
     },
     "execution_count": 3,
     "metadata": {},
     "output_type": "execute_result"
    }
   ],
   "source": [
    "pwd()"
   ]
  },
  {
   "cell_type": "code",
   "execution_count": 4,
   "metadata": {},
   "outputs": [],
   "source": [
    "using Pkg"
   ]
  },
  {
   "cell_type": "code",
   "execution_count": 5,
   "metadata": {},
   "outputs": [],
   "source": [
    "Pkg.activate(\".\")"
   ]
  },
  {
   "cell_type": "code",
   "execution_count": 6,
   "metadata": {},
   "outputs": [],
   "source": [
    "using Revise, MySQL"
   ]
  },
  {
   "cell_type": "code",
   "execution_count": 7,
   "metadata": {},
   "outputs": [],
   "source": [
    "using WiagDataSetup"
   ]
  },
  {
   "cell_type": "code",
   "execution_count": 8,
   "metadata": {},
   "outputs": [],
   "source": [
    "using DataFrames"
   ]
  },
  {
   "cell_type": "code",
   "execution_count": 9,
   "metadata": {},
   "outputs": [
    {
     "data": {
      "text/plain": [
       "WiagDataSetup"
      ]
     },
     "execution_count": 9,
     "metadata": {},
     "output_type": "execute_result"
    }
   ],
   "source": [
    "Wds = WiagDataSetup"
   ]
  },
  {
   "cell_type": "code",
   "execution_count": 10,
   "metadata": {},
   "outputs": [
    {
     "name": "stdout",
     "output_type": "stream",
     "text": [
      "Passwort für User georg: ········\n"
     ]
    },
    {
     "data": {
      "text/plain": [
       "MySQL.Connection(host=\"127.0.0.1\", user=\"georg\", port=\"3306\", db=\"wiag_in\")"
      ]
     },
     "execution_count": 10,
     "metadata": {},
     "output_type": "execute_result"
    }
   ],
   "source": [
    "Wds.setDBWIAG(user=\"georg\", db=\"wiag_in\")"
   ]
  },
  {
   "cell_type": "code",
   "execution_count": 11,
   "metadata": {},
   "outputs": [],
   "source": [
    "db_exec(sql) = DBInterface.execute(Wds.dbwiag, sql) |> DataFrame; # abgelöst durch Wds.sql_df"
   ]
  },
  {
   "cell_type": "markdown",
   "metadata": {},
   "source": [
    "Datenbank anlegen: `wiag_in`  \n",
    "Tabellen anlegen: siehe `domherren_create.sql`\n",
    "- `cn_canon`\n",
    "- `cn_office`\n",
    "- `cn_canon_reference`\n",
    "- `cn_reference`"
   ]
  },
  {
   "cell_type": "markdown",
   "metadata": {},
   "source": [
    "## Literatur"
   ]
  },
  {
   "cell_type": "code",
   "execution_count": 12,
   "metadata": {},
   "outputs": [],
   "source": [
    "sql = \"SELECT * FROM domherr.tbl_reference\"\n",
    "df_vol = Wds.sql_df(sql);"
   ]
  },
  {
   "cell_type": "code",
   "execution_count": 13,
   "metadata": {},
   "outputs": [
    {
     "data": {
      "text/plain": [
       "5-element Vector{String}:\n",
       " \"ID_Ref\"\n",
       " \"Literatur\"\n",
       " \"Verfasser\"\n",
       " \"OnlineRessource\"\n",
       " \"Kurztitel\""
      ]
     },
     "execution_count": 13,
     "metadata": {},
     "output_type": "execute_result"
    }
   ],
   "source": [
    "names(df_vol)"
   ]
  },
  {
   "cell_type": "code",
   "execution_count": 13,
   "metadata": {},
   "outputs": [
    {
     "data": {
      "text/plain": [
       "5-element Vector{Pair{Symbol, Symbol}}:\n",
       "          :ID_Ref => :id\n",
       "       :Literatur => :title\n",
       "       :Verfasser => :author\n",
       " :OnlineRessource => :online_resource\n",
       "       :Kurztitel => :shorttitle"
      ]
     },
     "execution_count": 13,
     "metadata": {},
     "output_type": "execute_result"
    }
   ],
   "source": [
    "columns = [\n",
    "    :ID_Ref => :id,\n",
    "    :Literatur => :title,\n",
    "    :Verfasser => :author,\n",
    "    :OnlineRessource => :online_resource,\n",
    "    :Kurztitel => :shorttitle,\n",
    "]"
   ]
  },
  {
   "cell_type": "code",
   "execution_count": 14,
   "metadata": {},
   "outputs": [
    {
     "name": "stderr",
     "output_type": "stream",
     "text": [
      "┌ Info: Rows inserted: 48\n",
      "└ @ WiagDataSetup C:\\Users\\georg\\Documents\\projekte\\WiagDataSetup.jl\\src\\WiagDataSetup.jl:1202\n"
     ]
    },
    {
     "data": {
      "text/plain": [
       "48"
      ]
     },
     "execution_count": 14,
     "metadata": {},
     "output_type": "execute_result"
    }
   ],
   "source": [
    "table_name = \"cn_reference\"\n",
    "Wds.filltable!(table_name, select(df_vol, columns), clear_table = true)"
   ]
  },
  {
   "cell_type": "markdown",
   "metadata": {},
   "source": [
    "## Personendaten"
   ]
  },
  {
   "cell_type": "markdown",
   "metadata": {},
   "source": [
    "Der Status kann 'online' oder 'merged' sein, damit Literaturangaben gesammelt werden können."
   ]
  },
  {
   "cell_type": "code",
   "execution_count": 18,
   "metadata": {},
   "outputs": [],
   "source": [
    "sql = \"SELECT ID_Domherr as id, \" *\n",
    "\"Eintrag_Quelle as item_reference, Seite_Quelle as page_reference, Quelle as id_reference, ID_Quelle as id_in_reference, \" *\n",
    "\"Vorname as givenname, Praefix as prefix_name, Familienname as familyname, \" *\n",
    "\"Sterbedatum as date_death, Geburtsdatum as date_birth, \" *\n",
    "\"Orden as religious_order, \" *\n",
    "\"URL_Wikipedia as wikipedia_url, \" *\n",
    "\"fertig as isready, \" *\n",
    "\"Bemerkung_Red as annotation_ed, \" *\n",
    "\"Bistum as diocese, \" *\n",
    "\"AkademischerTitel as academic_title, \" *\n",
    "\"GND_ID as gnd_id, \" *\n",
    "\"GSN_ID as gsn_id, \" *\n",
    "\"VIAF_id as viaf_id,\" *\n",
    "\"Wikidata_ID as wikidata_id, \" *\n",
    "\"Autor_Original as author_orig, \" *\n",
    "\"Familienname_Variante as familyname_variant, Vorname_Variante as givenname_variant, \" *\n",
    "\"Kommentar_Name as comment_name, Kommentar_Person as comment_person, \" *\n",
    "\"BelegdatumBeginn as date_min_in, BelegdatumEnde as date_max_in, \" *\n",
    "\"WIAG_ID_Bischof as wiag_episc_id, \" *\n",
    "\"Identisch_mit as same_as, Merged_Into as merged_into, \" *\n",
    "\"Status as status \" *\n",
    "\"FROM domherr.tbl_domherren \" *\n",
    "\"WHERE Status = 'online' OR Status = 'merged'\"\n",
    "df_dh = Wds.sql_df(sql);"
   ]
  },
  {
   "cell_type": "markdown",
   "metadata": {},
   "source": [
    "*2022-02-17* Wir haben ein Problem mit den Daten in Access. Der Export in MySQL scheitert für `tbl_domherren`. Lies die Daten über CSV ein."
   ]
  },
  {
   "cell_type": "code",
   "execution_count": 15,
   "metadata": {},
   "outputs": [],
   "source": [
    "using CSV"
   ]
  },
  {
   "cell_type": "code",
   "execution_count": 16,
   "metadata": {},
   "outputs": [],
   "source": [
    "filename = \"C:\\\\Users\\\\georg\\\\Documents\\\\projekte-doc\\\\WIAGweb\\\\data\\\\tbl_Domherren.csv\"\n",
    "df_dh = CSV.read(filename, DataFrame);"
   ]
  },
  {
   "cell_type": "code",
   "execution_count": 17,
   "metadata": {},
   "outputs": [],
   "source": [
    "columns = [\n",
    "    :ID_Domherr => :id,\n",
    "    :Eintrag_Quelle => :item_reference,\n",
    "    :Seite_Quelle => :page_reference,\n",
    "    :Quelle => :id_reference,\n",
    "    :ID_Quelle => :id_in_reference,\n",
    "    :Vorname => :givenname,\n",
    "    :Praefix => :prefix_name,\n",
    "    :Familienname => :familyname,\n",
    "    :Sterbedatum => :date_death,\n",
    "    :Geburtsdatum => :date_birth,\n",
    "    :Orden => :religious_order, \n",
    "    :URL_Wikipedia => :wikipedia_url, \n",
    "    :fertig => :isready, \n",
    "    :Bemerkung_Red => :annotation_ed, \n",
    "    :Bistum => :diocese, \n",
    "    :AkademischerTitel => :academic_title, \n",
    "    :GND_ID => :gnd_id, \n",
    "    :GSN_ID => :gsn_id, \n",
    "    :VIAF_ID => :viaf_id,\n",
    "    :Wikidata_ID => :wikidata_id, \n",
    "    :Autor_Original => :author_orig, \n",
    "    :Familienname_Variante => :familyname_variant, \n",
    "    :Vorname_Variante => :givenname_variant, \n",
    "    :Kommentar_Name => :comment_name, \n",
    "    :Kommentar_Person => :comment_person, \n",
    "    :BelegdatumBeginn => :date_min_in, \n",
    "    :BelegdatumEnde => :date_max_in, \n",
    "    :WIAG_ID_Bischof => :wiag_episc_id, \n",
    "    :Identisch_mit => :same_as, \n",
    "    :Merged_Into => :merged_into, \n",
    "    :Status => :status,\n",
    "];"
   ]
  },
  {
   "cell_type": "code",
   "execution_count": 18,
   "metadata": {},
   "outputs": [],
   "source": [
    "select!(df_dh, columns);"
   ]
  },
  {
   "cell_type": "code",
   "execution_count": 19,
   "metadata": {},
   "outputs": [],
   "source": [
    "Wds.clean_up!(df_dh)"
   ]
  },
  {
   "cell_type": "code",
   "execution_count": 20,
   "metadata": {},
   "outputs": [
    {
     "data": {
      "text/plain": [
       "has_proper_status (generic function with 1 method)"
      ]
     },
     "execution_count": 20,
     "metadata": {},
     "output_type": "execute_result"
    }
   ],
   "source": [
    "has_proper_status(status) = isequal(status, \"online\") || isequal(status, \"merged\")"
   ]
  },
  {
   "cell_type": "code",
   "execution_count": 21,
   "metadata": {},
   "outputs": [],
   "source": [
    "subset!(df_dh, :status => ByRow(has_proper_status));"
   ]
  },
  {
   "cell_type": "code",
   "execution_count": 22,
   "metadata": {},
   "outputs": [
    {
     "data": {
      "text/plain": [
       "(3420, 31)"
      ]
     },
     "execution_count": 22,
     "metadata": {},
     "output_type": "execute_result"
    }
   ],
   "source": [
    "size(df_dh)"
   ]
  },
  {
   "cell_type": "markdown",
   "metadata": {},
   "source": [
    "Info 2021-12-16: 3 Neuzugänge"
   ]
  },
  {
   "cell_type": "code",
   "execution_count": 14,
   "metadata": {},
   "outputs": [
    {
     "data": {
      "text/html": [
       "<p>DataFrameRow (4 columns)</p><div class=\"data-frame\"><table class=\"data-frame\"><thead><tr><th></th><th>id</th><th>status</th><th>givenname</th><th>familyname_variant</th></tr><tr><th></th><th title=\"Int32\">Int32</th><th title=\"SubString{String}\">SubStri…</th><th title=\"SubString{String}\">SubStri…</th><th title=\"Union{Missing, SubString{String}}\">SubStri…?</th></tr></thead><tbody><tr><th>88</th><td>10949</td><td>online</td><td>Wilhelm Egon</td><td>Fürstenberg-Heiligenberg; Reichsgraf von Fürstenberg-Heiligenberg; Fürst von Fürstenberg-Heiligenberg</td></tr></tbody></table></div>"
      ],
      "text/latex": [
       "\\begin{tabular}{r|cccc}\n",
       "\t& id & status & givenname & familyname\\_variant\\\\\n",
       "\t\\hline\n",
       "\t& Int32 & SubStri… & SubStri… & SubStri…?\\\\\n",
       "\t\\hline\n",
       "\t88 & 10949 & online & Wilhelm Egon & Fürstenberg-Heiligenberg; Reichsgraf von Fürstenberg-Heiligenberg; Fürst von Fürstenberg-Heiligenberg \\\\\n",
       "\\end{tabular}\n"
      ],
      "text/plain": [
       "\u001b[1mDataFrameRow\u001b[0m\n",
       "\u001b[1m Row \u001b[0m│\u001b[1m id    \u001b[0m\u001b[1m status    \u001b[0m\u001b[1m givenname    \u001b[0m\u001b[1m familyname_variant                \u001b[0m\n",
       "\u001b[1m     \u001b[0m│\u001b[90m Int32 \u001b[0m\u001b[90m SubStrin… \u001b[0m\u001b[90m SubStrin…    \u001b[0m\u001b[90m SubString{String}?                \u001b[0m\n",
       "─────┼───────────────────────────────────────────────────────────────────\n",
       "  88 │ 10949  online     Wilhelm Egon  Fürstenberg-Heiligenberg; Reichs…"
      ]
     },
     "execution_count": 14,
     "metadata": {},
     "output_type": "execute_result"
    }
   ],
   "source": [
    "df_r = filter(:id => isequal(10949), df_dh, view = true)\n",
    "df_r[1, [:id, :status, :givenname, :familyname_variant]]"
   ]
  },
  {
   "cell_type": "markdown",
   "metadata": {},
   "source": [
    "Das wird von der Funktion `fillcnnamelookup` abgefangen."
   ]
  },
  {
   "cell_type": "markdown",
   "metadata": {},
   "source": [
    "Feld `isready` in Int umwandeln (entfällt, wenn die Daten aus einer CSV-Datei stammen)"
   ]
  },
  {
   "cell_type": "code",
   "execution_count": 51,
   "metadata": {},
   "outputs": [],
   "source": [
    "isready(bit) = ismissing(bit) ? 0 : (bit == MySQL.API.Bit(1) ? 1 : 0)\n",
    "transform!(df_dh, :isready => ByRow(isready) => :isready);"
   ]
  },
  {
   "cell_type": "code",
   "execution_count": 23,
   "metadata": {},
   "outputs": [
    {
     "data": {
      "text/html": [
       "<div class=\"data-frame\"><p>4 rows × 3 columns</p><table class=\"data-frame\"><thead><tr><th></th><th>id</th><th>givenname</th><th>isready</th></tr><tr><th></th><th title=\"Int64\">Int64</th><th title=\"Union{Missing, SubString{String}}\">SubStri…?</th><th title=\"Int64\">Int64</th></tr></thead><tbody><tr><th>1</th><td>10007</td><td>Adolf Damian Wolfgang</td><td>1</td></tr><tr><th>2</th><td>10014</td><td>Philipp Wilderich</td><td>1</td></tr><tr><th>3</th><td>10084</td><td>Franz Wilhelm</td><td>1</td></tr><tr><th>4</th><td>10091</td><td>Johann Friedrich Arnold</td><td>1</td></tr></tbody></table></div>"
      ],
      "text/latex": [
       "\\begin{tabular}{r|ccc}\n",
       "\t& id & givenname & isready\\\\\n",
       "\t\\hline\n",
       "\t& Int64 & SubStri…? & Int64\\\\\n",
       "\t\\hline\n",
       "\t1 & 10007 & Adolf Damian Wolfgang & 1 \\\\\n",
       "\t2 & 10014 & Philipp Wilderich & 1 \\\\\n",
       "\t3 & 10084 & Franz Wilhelm & 1 \\\\\n",
       "\t4 & 10091 & Johann Friedrich Arnold & 1 \\\\\n",
       "\\end{tabular}\n"
      ],
      "text/plain": [
       "\u001b[1m4×3 DataFrame\u001b[0m\n",
       "\u001b[1m Row \u001b[0m│\u001b[1m id    \u001b[0m\u001b[1m givenname               \u001b[0m\u001b[1m isready \u001b[0m\n",
       "\u001b[1m     \u001b[0m│\u001b[90m Int64 \u001b[0m\u001b[90m SubStrin…?              \u001b[0m\u001b[90m Int64   \u001b[0m\n",
       "─────┼─────────────────────────────────────────\n",
       "   1 │ 10007  Adolf Damian Wolfgang          1\n",
       "   2 │ 10014  Philipp Wilderich              1\n",
       "   3 │ 10084  Franz Wilhelm                  1\n",
       "   4 │ 10091  Johann Friedrich Arnold        1"
      ]
     },
     "execution_count": 23,
     "metadata": {},
     "output_type": "execute_result"
    }
   ],
   "source": [
    "filter(:isready => isequal(1), df_dh[1:5, [:id, :givenname, :isready]])"
   ]
  },
  {
   "cell_type": "markdown",
   "metadata": {},
   "source": [
    "## Literaturangaben"
   ]
  },
  {
   "cell_type": "markdown",
   "metadata": {},
   "source": [
    "direkte Einträge (alle Einträge haben einen Literaturverweis)"
   ]
  },
  {
   "cell_type": "code",
   "execution_count": 23,
   "metadata": {},
   "outputs": [],
   "source": [
    "ref1(status, merged_into) = isequal(status, \"online\") && ismissing(merged_into)\n",
    "df_dh_ref1 = filter([:status, :merged_into] => ref1, df_dh);"
   ]
  },
  {
   "cell_type": "code",
   "execution_count": 25,
   "metadata": {},
   "outputs": [
    {
     "data": {
      "text/plain": [
       "(2551, 31)"
      ]
     },
     "execution_count": 25,
     "metadata": {},
     "output_type": "execute_result"
    }
   ],
   "source": [
    "size(df_dh_ref1)"
   ]
  },
  {
   "cell_type": "code",
   "execution_count": 24,
   "metadata": {},
   "outputs": [],
   "source": [
    "columns = [\n",
    "    :id => :id_canon,\n",
    "    :id => :id_canon_orig,\n",
    "    :id_reference => :id_reference,\n",
    "    :item_reference => :item_reference,\n",
    "    :page_reference => :page_reference,\n",
    "    :id_in_reference => :id_in_reference,\n",
    "];"
   ]
  },
  {
   "cell_type": "code",
   "execution_count": 25,
   "metadata": {},
   "outputs": [
    {
     "name": "stderr",
     "output_type": "stream",
     "text": [
      "┌ Info: Rows inserted: 2586\n",
      "└ @ WiagDataSetup C:\\Users\\georg\\Documents\\projekte\\WiagDataSetup.jl\\src\\WiagDataSetup.jl:1202\n"
     ]
    },
    {
     "data": {
      "text/plain": [
       "2586"
      ]
     },
     "execution_count": 25,
     "metadata": {},
     "output_type": "execute_result"
    }
   ],
   "source": [
    "table_name = \"cn_canon_reference\"\n",
    "Wds.filltable!(table_name, select(df_dh_ref1, columns), clear_table = true)"
   ]
  },
  {
   "cell_type": "code",
   "execution_count": 26,
   "metadata": {},
   "outputs": [],
   "source": [
    "ref2(status, merged_into) = isequal(status, \"merged\") && !ismissing(merged_into)\n",
    "df_dh_ref2 = filter([:status, :merged_into] => ref2, df_dh);"
   ]
  },
  {
   "cell_type": "code",
   "execution_count": 27,
   "metadata": {},
   "outputs": [
    {
     "data": {
      "text/plain": [
       "(832, 31)"
      ]
     },
     "execution_count": 27,
     "metadata": {},
     "output_type": "execute_result"
    }
   ],
   "source": [
    "size(df_dh_ref2)"
   ]
  },
  {
   "cell_type": "code",
   "execution_count": 28,
   "metadata": {},
   "outputs": [],
   "source": [
    "columns_2nd = [\n",
    "    :merged_into => :id_canon,\n",
    "    :id => :id_canon_orig,\n",
    "    :id_reference => :id_reference,\n",
    "    :item_reference => :item_reference,\n",
    "    :page_reference => :page_reference,\n",
    "    :id_in_reference => :id_in_reference,\n",
    "];"
   ]
  },
  {
   "cell_type": "code",
   "execution_count": 29,
   "metadata": {},
   "outputs": [
    {
     "name": "stderr",
     "output_type": "stream",
     "text": [
      "┌ Info: Rows inserted: 832\n",
      "└ @ WiagDataSetup C:\\Users\\georg\\Documents\\projekte\\WiagDataSetup.jl\\src\\WiagDataSetup.jl:1202\n"
     ]
    },
    {
     "data": {
      "text/plain": [
       "832"
      ]
     },
     "execution_count": 29,
     "metadata": {},
     "output_type": "execute_result"
    }
   ],
   "source": [
    "table_name = \"cn_canon_reference\"\n",
    "Wds.filltable!(table_name, select(df_dh_ref2, columns_2nd), clear_table = false)"
   ]
  },
  {
   "cell_type": "markdown",
   "metadata": {},
   "source": [
    "Auszählung zu häufigsten Literaturverweisen\n",
    "```\n",
    "+----------+---+\n",
    "| id_canon | n |\n",
    "+----------+---+\n",
    "|    14077 | 5 |\n",
    "|    18785 | 5 |\n",
    "|    18727 | 4 |\n",
    "|    19313 | 4 |\n",
    "|    18702 | 4 |\n",
    "|    18677 | 4 |\n",
    "|    11041 | 4 |\n",
    "|    19318 | 4 |\n",
    "|    18770 | 4 |\n",
    "|    18783 | 4 |\n",
    "|    11075 | 4 |\n",
    "|    11007 | 3 |\n",
    "+----------+---+\n",
    "```"
   ]
  },
  {
   "cell_type": "markdown",
   "metadata": {},
   "source": [
    "## Lebensdaten\n",
    "Hier werden nur noch Einträge benötigt mit Status = 'online'"
   ]
  },
  {
   "cell_type": "code",
   "execution_count": 30,
   "metadata": {},
   "outputs": [],
   "source": [
    "df_dh_online = filter(:status => isequal(\"online\"), df_dh);"
   ]
  },
  {
   "cell_type": "code",
   "execution_count": 31,
   "metadata": {},
   "outputs": [
    {
     "data": {
      "text/plain": [
       "(3420, 2587)"
      ]
     },
     "execution_count": 31,
     "metadata": {},
     "output_type": "execute_result"
    }
   ],
   "source": [
    "nrow(df_dh), nrow(df_dh_online)"
   ]
  },
  {
   "cell_type": "markdown",
   "metadata": {},
   "source": [
    "`date_hist_first` ist befüllt, allerdings mit Text.  \n",
    "Jahreszahlen auslesen."
   ]
  },
  {
   "cell_type": "code",
   "execution_count": 32,
   "metadata": {},
   "outputs": [],
   "source": [
    "date_hist_first(date) = Wds.parsemaybe(ismissing(date) ? date : String(date), :lower)\n",
    "transform!(df_dh_online, :date_min_in => (x -> date_hist_first.(x)) => :date_hist_first);"
   ]
  },
  {
   "cell_type": "code",
   "execution_count": 33,
   "metadata": {},
   "outputs": [],
   "source": [
    "date_hist_last(date) = Wds.parsemaybe(ismissing(date) ? date : String(date), :upper)\n",
    "transform!(df_dh_online, :date_max_in => (x -> date_hist_last.(x)) => :date_hist_last);"
   ]
  },
  {
   "cell_type": "code",
   "execution_count": 34,
   "metadata": {},
   "outputs": [],
   "source": [
    "numdate_death(date) = Wds.parsemaybe(ismissing(date) ? date : String(date), :upper)\n",
    "transform!(df_dh, :date_death => (x -> numdate_death.(x)) => :numdate_death);"
   ]
  },
  {
   "cell_type": "code",
   "execution_count": 35,
   "metadata": {},
   "outputs": [],
   "source": [
    "numdate_birth(date) = Wds.parsemaybe(ismissing(date) ? date : String(date), :lower)\n",
    "transform!(df_dh_online, :date_birth => (x -> numdate_birth.(x)) => :numdate_birth);"
   ]
  },
  {
   "cell_type": "markdown",
   "metadata": {},
   "source": [
    "Die Einträge für Wikipedia-Seiten enthalten zum Teil '#' und sind doppelt."
   ]
  },
  {
   "cell_type": "code",
   "execution_count": 36,
   "metadata": {},
   "outputs": [],
   "source": [
    "transform!(df_dh_online, :wikipedia_url => (x -> Wds.fix_Wikipedia_URL.(x)) => :wikipedia_url);"
   ]
  },
  {
   "cell_type": "markdown",
   "metadata": {},
   "source": [
    "Info"
   ]
  },
  {
   "cell_type": "code",
   "execution_count": 73,
   "metadata": {},
   "outputs": [],
   "source": [
    "df_info = filter(:wikipedia_url => !ismissing, select(df_dh_online, [:id, :wikipedia_url]));"
   ]
  },
  {
   "cell_type": "code",
   "execution_count": 74,
   "metadata": {},
   "outputs": [
    {
     "data": {
      "text/html": [
       "<div class=\"data-frame\"><p>7 rows × 2 columns</p><table class=\"data-frame\"><thead><tr><th></th><th>id</th><th>wikipedia_url</th></tr><tr><th></th><th title=\"Int64\">Int64</th><th title=\"Union{Missing, SubString{String}}\">SubStri…?</th></tr></thead><tbody><tr><th>1</th><td>10867</td><td>Franz_Karl_von_Landsberg_zu_Erwitte</td></tr><tr><th>2</th><td>10881</td><td>Johann_Ernst_von_L%C3%B6wenstein-Wertheim-Rochefort</td></tr><tr><th>3</th><td>10885</td><td>Clemens_August_von_Ascheberg_zu_Venne</td></tr><tr><th>4</th><td>10886</td><td>Karl_Ludwig_von_Ascheberg_zu_Venne</td></tr><tr><th>5</th><td>10887</td><td>Franz_Arnold_von_der_Asseburg</td></tr><tr><th>6</th><td>10888</td><td>Joseph_Clemens_von_Bayern</td></tr><tr><th>7</th><td>10891</td><td>Franz_C%C3%B6lestin_von_Beroldingen</td></tr></tbody></table></div>"
      ],
      "text/latex": [
       "\\begin{tabular}{r|cc}\n",
       "\t& id & wikipedia\\_url\\\\\n",
       "\t\\hline\n",
       "\t& Int64 & SubStri…?\\\\\n",
       "\t\\hline\n",
       "\t1 & 10867 & Franz\\_Karl\\_von\\_Landsberg\\_zu\\_Erwitte \\\\\n",
       "\t2 & 10881 & Johann\\_Ernst\\_von\\_L\\%C3\\%B6wenstein-Wertheim-Rochefort \\\\\n",
       "\t3 & 10885 & Clemens\\_August\\_von\\_Ascheberg\\_zu\\_Venne \\\\\n",
       "\t4 & 10886 & Karl\\_Ludwig\\_von\\_Ascheberg\\_zu\\_Venne \\\\\n",
       "\t5 & 10887 & Franz\\_Arnold\\_von\\_der\\_Asseburg \\\\\n",
       "\t6 & 10888 & Joseph\\_Clemens\\_von\\_Bayern \\\\\n",
       "\t7 & 10891 & Franz\\_C\\%C3\\%B6lestin\\_von\\_Beroldingen \\\\\n",
       "\\end{tabular}\n"
      ],
      "text/plain": [
       "\u001b[1m7×2 DataFrame\u001b[0m\n",
       "\u001b[1m Row \u001b[0m│\u001b[1m id    \u001b[0m\u001b[1m wikipedia_url                     \u001b[0m\n",
       "\u001b[1m     \u001b[0m│\u001b[90m Int64 \u001b[0m\u001b[90m SubString…?                       \u001b[0m\n",
       "─────┼──────────────────────────────────────────\n",
       "   1 │ 10867  Franz_Karl_von_Landsberg_zu_Erwi…\n",
       "   2 │ 10881  Johann_Ernst_von_L%C3%B6wenstein…\n",
       "   3 │ 10885  Clemens_August_von_Ascheberg_zu_…\n",
       "   4 │ 10886  Karl_Ludwig_von_Ascheberg_zu_Ven…\n",
       "   5 │ 10887  Franz_Arnold_von_der_Asseburg\n",
       "   6 │ 10888  Joseph_Clemens_von_Bayern\n",
       "   7 │ 10891  Franz_C%C3%B6lestin_von_Beroldin…"
      ]
     },
     "execution_count": 74,
     "metadata": {},
     "output_type": "execute_result"
    }
   ],
   "source": [
    "df_info[1:7, :]"
   ]
  },
  {
   "cell_type": "code",
   "execution_count": 37,
   "metadata": {
    "scrolled": true
   },
   "outputs": [
    {
     "name": "stderr",
     "output_type": "stream",
     "text": [
      "┌ Info: Rows inserted: 2587\n",
      "└ @ WiagDataSetup C:\\Users\\georg\\Documents\\projekte\\WiagDataSetup.jl\\src\\WiagDataSetup.jl:1202\n"
     ]
    },
    {
     "data": {
      "text/plain": [
       "2587"
      ]
     },
     "execution_count": 37,
     "metadata": {},
     "output_type": "execute_result"
    }
   ],
   "source": [
    "table_name = \"cn_canon\"\n",
    "Wds.filltable!(table_name, select(df_dh_online, Not([:date_min_in, :date_max_in])), clear_table = true)"
   ]
  },
  {
   "cell_type": "markdown",
   "metadata": {},
   "source": [
    "## Ämter"
   ]
  },
  {
   "cell_type": "markdown",
   "metadata": {},
   "source": [
    "Betrachte nur Ämter von relevanten Domherren (`status = 'online'`). Verwende die neu beschriebene Tabelle `cn_canon`."
   ]
  },
  {
   "cell_type": "code",
   "execution_count": 38,
   "metadata": {},
   "outputs": [],
   "source": [
    "sql = \"SELECT ID_Amt as id_in_dh, ID_Domherr as id_canon, ID_Fremdschlüssel as id_in_reference, \" *\n",
    "\"ID_Amt_norm as id_office_norm, Amtsart as office_name, \" *\n",
    "\"Amtsbeginn as date_start, Amtsende as date_end, \" *\n",
    "\"Bistum as diocese, Institution as institution, ID_Kloster as id_monastery, \" *\n",
    "\"Profession as profession, Amt_weltlich as office_mundane, Herrschaftsgebiet as dominion, \" *\n",
    "\"Ort as location, Archidiakonat as archdeacon_territory, \" *\n",
    "\"Dignität as dignity, \" *\n",
    "\"Amt_Kommentar as comment, \" *\n",
    "\"Sort as sortkey \" *\n",
    "\"FROM domherr.tbl_domherren_aemter \" *\n",
    "\"WHERE ID_Domherr in (SELECT id FROM wiag_in.cn_canon WHERE status = 'online')\"\n",
    "df_oc = Wds.sql_df(sql);"
   ]
  },
  {
   "cell_type": "code",
   "execution_count": 39,
   "metadata": {},
   "outputs": [],
   "source": [
    "Wds.clean_up!(df_oc);"
   ]
  },
  {
   "cell_type": "code",
   "execution_count": 40,
   "metadata": {},
   "outputs": [
    {
     "data": {
      "text/plain": [
       "(5679, 18)"
      ]
     },
     "execution_count": 40,
     "metadata": {},
     "output_type": "execute_result"
    }
   ],
   "source": [
    "size(df_oc)"
   ]
  },
  {
   "cell_type": "code",
   "execution_count": 41,
   "metadata": {},
   "outputs": [
    {
     "name": "stderr",
     "output_type": "stream",
     "text": [
      "┌ Warning: Could not parse \n",
      "│   s = unbekannt\n",
      "└ @ WiagDataSetup C:\\Users\\georg\\Documents\\projekte\\WiagDataSetup.jl\\src\\WiagDataSetup.jl:1111\n",
      "┌ Warning: Could not parse \n",
      "│   s = unbekannt\n",
      "└ @ WiagDataSetup C:\\Users\\georg\\Documents\\projekte\\WiagDataSetup.jl\\src\\WiagDataSetup.jl:1111\n",
      "┌ Warning: Could not parse \n",
      "│   s = wohl im 9. Jahrhundert\n",
      "└ @ WiagDataSetup C:\\Users\\georg\\Documents\\projekte\\WiagDataSetup.jl\\src\\WiagDataSetup.jl:1111\n"
     ]
    }
   ],
   "source": [
    "date_start(date) = Wds.parsemaybe(date, :lower)\n",
    "transform!(df_oc, :date_start => (x -> date_start.(x)) => :numdate_start);"
   ]
  },
  {
   "cell_type": "code",
   "execution_count": 42,
   "metadata": {},
   "outputs": [],
   "source": [
    "date_end(date) = Wds.parsemaybe(date, :upper)\n",
    "transform!(df_oc, :date_end => (x -> date_end.(x)) => :numdate_end);"
   ]
  },
  {
   "cell_type": "markdown",
   "metadata": {},
   "source": [
    "*2022-02-24* Befülle `time_sortkey` erst aus `date_end` dann aus `date_start`"
   ]
  },
  {
   "cell_type": "code",
   "execution_count": 46,
   "metadata": {},
   "outputs": [
    {
     "data": {
      "text/html": [
       "<div class=\"data-frame\"><p>1 rows × 22 columns (omitted printing of 15 columns)</p><table class=\"data-frame\"><thead><tr><th></th><th>id_in_dh</th><th>id_canon</th><th>id_in_reference</th><th>id_office_norm</th><th>office_name</th><th>date_start</th><th>date_end</th></tr><tr><th></th><th title=\"Int32\">Int32</th><th title=\"Int32\">Int32</th><th title=\"Union{Missing, String}\">String?</th><th title=\"Int32\">Int32</th><th title=\"Union{Missing, String}\">String?</th><th title=\"Union{Missing, String}\">String?</th><th title=\"Union{Missing, String}\">String?</th></tr></thead><tbody><tr><th>1</th><td>36568</td><td>13672</td><td>66</td><td>19</td><td>Domherr</td><td>vor 1464</td><td>(vor) 1464</td></tr></tbody></table></div>"
      ],
      "text/latex": [
       "\\begin{tabular}{r|cccccccc}\n",
       "\t& id\\_in\\_dh & id\\_canon & id\\_in\\_reference & id\\_office\\_norm & office\\_name & date\\_start & date\\_end & \\\\\n",
       "\t\\hline\n",
       "\t& Int32 & Int32 & String? & Int32 & String? & String? & String? & \\\\\n",
       "\t\\hline\n",
       "\t1 & 36568 & 13672 & 66 & 19 & Domherr & vor 1464 & (vor) 1464 & $\\dots$ \\\\\n",
       "\\end{tabular}\n"
      ],
      "text/plain": [
       "\u001b[1m1×22 SubDataFrame\u001b[0m\n",
       "\u001b[1m Row \u001b[0m│\u001b[1m id_in_dh \u001b[0m\u001b[1m id_canon \u001b[0m\u001b[1m id_in_reference \u001b[0m\u001b[1m id_office_norm \u001b[0m\u001b[1m office_name \u001b[0m\u001b[1m date_\u001b[0m ⋯\n",
       "\u001b[1m     \u001b[0m│\u001b[90m Int32    \u001b[0m\u001b[90m Int32    \u001b[0m\u001b[90m String?         \u001b[0m\u001b[90m Int32          \u001b[0m\u001b[90m String?     \u001b[0m\u001b[90m Strin\u001b[0m ⋯\n",
       "─────┼──────────────────────────────────────────────────────────────────────────\n",
       "   1 │    36568     13672  66                           19  Domherr      vor 1 ⋯\n",
       "\u001b[36m                                                              17 columns omitted\u001b[0m"
      ]
     },
     "execution_count": 46,
     "metadata": {},
     "output_type": "execute_result"
    }
   ],
   "source": [
    "df_oc_corr = subset(df_oc, :date_end => ByRow(isequal(\"(vor) 1464\")), view = true)"
   ]
  },
  {
   "cell_type": "code",
   "execution_count": 106,
   "metadata": {},
   "outputs": [],
   "source": [
    "df_oc[!, :time_sortkey] .= missing;"
   ]
  },
  {
   "cell_type": "code",
   "execution_count": 107,
   "metadata": {},
   "outputs": [
    {
     "name": "stderr",
     "output_type": "stream",
     "text": [
      "┌ Warning: could not parse \n",
      "│   s = (vor) 1464\n",
      "└ @ WiagDataSetup C:\\Users\\georg\\Documents\\projekte\\WiagDataSetup.jl\\src\\WiagDataSetup.jl:1495\n"
     ]
    }
   ],
   "source": [
    "transform!(df_oc, :date_end => ByRow(Wds.parse_year_sort) => :time_sortkey);"
   ]
  },
  {
   "cell_type": "code",
   "execution_count": 177,
   "metadata": {},
   "outputs": [
    {
     "data": {
      "text/plain": [
       "update_col (generic function with 1 method)"
      ]
     },
     "execution_count": 177,
     "metadata": {},
     "output_type": "execute_result"
    }
   ],
   "source": [
    "function update_col(from, to)\n",
    "    cand = Wds.parse_year_sort(from)\n",
    "    if ismissing(to) || cand < to\n",
    "        return cand\n",
    "    else\n",
    "        return to\n",
    "    end\n",
    "end"
   ]
  },
  {
   "cell_type": "code",
   "execution_count": 178,
   "metadata": {},
   "outputs": [],
   "source": [
    "transform!(df_oc, [:date_start, :time_sortkey] => ByRow(update_col) => :time_sortkey);"
   ]
  },
  {
   "cell_type": "markdown",
   "metadata": {},
   "source": [
    "Welche Diözesen sind in der Datenbank?  \n",
    "befülle `diocese_in_db`"
   ]
  },
  {
   "cell_type": "code",
   "execution_count": 49,
   "metadata": {},
   "outputs": [],
   "source": [
    "sql = \"SELECT diocese FROM wiag.diocese\"\n",
    "df_dioc = Wds.sql_df(sql);"
   ]
  },
  {
   "cell_type": "code",
   "execution_count": 50,
   "metadata": {},
   "outputs": [],
   "source": [
    "in_db(diocese) = ismissing(diocese) ? 0 : (in(diocese, df_dioc.diocese) ? 1 : 0)\n",
    "df_oc[!, :diocese_in_db] .= 0;\n",
    "for row in eachrow(df_oc)\n",
    "    row[:diocese_in_db] = in_db(row[:diocese])\n",
    "end"
   ]
  },
  {
   "cell_type": "markdown",
   "metadata": {},
   "source": [
    "*2022-02-18*: Die Klosterdatenbank ist aktuell und komplett in WIAG übernommen.  \n",
    "Die Folgenden Schritte sind aktuell nicht notwendig."
   ]
  },
  {
   "cell_type": "code",
   "execution_count": 47,
   "metadata": {},
   "outputs": [],
   "source": [
    "sql = \"SELECT wiagid FROM wiag.monastery\"\n",
    "df_mon_id = Wds.sql_df(sql);"
   ]
  },
  {
   "cell_type": "code",
   "execution_count": 48,
   "metadata": {},
   "outputs": [
    {
     "data": {
      "text/plain": [
       "Int32[]"
      ]
     },
     "execution_count": 48,
     "metadata": {},
     "output_type": "execute_result"
    }
   ],
   "source": [
    "mon_ids_new = setdiff(skipmissing(df_oc.id_monastery), df_mon_id.wiagid)"
   ]
  },
  {
   "cell_type": "markdown",
   "metadata": {},
   "source": [
    "*2022-02-17* 13 neue Klöster (Historie)"
   ]
  },
  {
   "cell_type": "code",
   "execution_count": 88,
   "metadata": {},
   "outputs": [
    {
     "data": {
      "text/plain": [
       "\"3145,3318,3242,3243,3205,2093,40237,30198,60244,3326,4805,30322,30346\""
      ]
     },
     "execution_count": 88,
     "metadata": {},
     "output_type": "execute_result"
    }
   ],
   "source": [
    "mon_ids_par = join(string.(mon_ids_new), \",\")"
   ]
  },
  {
   "cell_type": "code",
   "execution_count": 91,
   "metadata": {},
   "outputs": [
    {
     "data": {
      "text/html": [
       "<div class=\"data-frame\"><p>13 rows × 9 columns (omitted printing of 6 columns)</p><table class=\"data-frame\"><thead><tr><th></th><th>id</th><th>comment</th><th>name</th></tr><tr><th></th><th title=\"Int32\">Int32</th><th title=\"Union{Missing, String}\">String?</th><th title=\"Union{Missing, String}\">String?</th></tr></thead><tbody><tr><th>1</th><td>80282</td><td><em>missing</em></td><td>Kollegiatstift St. Margarethe, Ardagger, Österreich</td></tr><tr><th>2</th><td>80363</td><td><em>missing</em></td><td>Kollegiatstift St. Maria, Hofgeismar (zeitweilig in Gottsbüren und Grebenstein)</td></tr><tr><th>3</th><td>80435</td><td><em>missing</em></td><td>Kollegiatstift St. Maria, Lich</td></tr><tr><th>4</th><td>80460</td><td><em>missing</em></td><td>Kollegiatstift St. Johannes Baptista, Mainz</td></tr><tr><th>5</th><td>80461</td><td><em>missing</em></td><td>Kollegiatstift St. Gangolf, Mainz</td></tr><tr><th>6</th><td>80513</td><td><em>missing</em></td><td>Kollegiatstift St. Katharina, Oppenheim</td></tr><tr><th>7</th><td>80518</td><td><em>missing</em></td><td>Kollegiatstift St. Martin, Ober-Mockstadt</td></tr><tr><th>8</th><td>81510</td><td><em>missing</em></td><td>Kollegiatstift Hünfeld</td></tr><tr><th>9</th><td>81570</td><td><em>missing</em></td><td>Benediktinerkloster Seligenstadt</td></tr><tr><th>10</th><td>81620</td><td><em>missing</em></td><td>Kanonissenstift Wetter</td></tr><tr><th>11</th><td>81751</td><td><em>missing</em></td><td>Benediktinerabtei St. Salvator, Prüm</td></tr><tr><th>12</th><td>82495</td><td><em>missing</em></td><td>Kollegiatstift St. Kastulus, Moosburg</td></tr><tr><th>13</th><td>83245</td><td><em>missing</em></td><td>Benediktinerpropstei Johannesberg, Fulda</td></tr></tbody></table></div>"
      ],
      "text/latex": [
       "\\begin{tabular}{r|cccc}\n",
       "\t& id & comment & name & \\\\\n",
       "\t\\hline\n",
       "\t& Int32 & String? & String? & \\\\\n",
       "\t\\hline\n",
       "\t1 & 80282 & \\emph{missing} & Kollegiatstift St. Margarethe, Ardagger, Österreich & $\\dots$ \\\\\n",
       "\t2 & 80363 & \\emph{missing} & Kollegiatstift St. Maria, Hofgeismar (zeitweilig in Gottsbüren und Grebenstein) & $\\dots$ \\\\\n",
       "\t3 & 80435 & \\emph{missing} & Kollegiatstift St. Maria, Lich & $\\dots$ \\\\\n",
       "\t4 & 80460 & \\emph{missing} & Kollegiatstift St. Johannes Baptista, Mainz & $\\dots$ \\\\\n",
       "\t5 & 80461 & \\emph{missing} & Kollegiatstift St. Gangolf, Mainz & $\\dots$ \\\\\n",
       "\t6 & 80513 & \\emph{missing} & Kollegiatstift St. Katharina, Oppenheim & $\\dots$ \\\\\n",
       "\t7 & 80518 & \\emph{missing} & Kollegiatstift St. Martin, Ober-Mockstadt & $\\dots$ \\\\\n",
       "\t8 & 81510 & \\emph{missing} & Kollegiatstift Hünfeld & $\\dots$ \\\\\n",
       "\t9 & 81570 & \\emph{missing} & Benediktinerkloster Seligenstadt & $\\dots$ \\\\\n",
       "\t10 & 81620 & \\emph{missing} & Kanonissenstift Wetter & $\\dots$ \\\\\n",
       "\t11 & 81751 & \\emph{missing} & Benediktinerabtei St. Salvator, Prüm & $\\dots$ \\\\\n",
       "\t12 & 82495 & \\emph{missing} & Kollegiatstift St. Kastulus, Moosburg & $\\dots$ \\\\\n",
       "\t13 & 83245 & \\emph{missing} & Benediktinerpropstei Johannesberg, Fulda & $\\dots$ \\\\\n",
       "\\end{tabular}\n"
      ],
      "text/plain": [
       "\u001b[1m13×9 DataFrame\u001b[0m\n",
       "\u001b[1m Row \u001b[0m│\u001b[1m id    \u001b[0m\u001b[1m comment \u001b[0m\u001b[1m name                              \u001b[0m\n",
       "\u001b[1m     \u001b[0m│\u001b[90m Int32 \u001b[0m\u001b[90m String? \u001b[0m\u001b[90m String?                           \u001b[0m\n",
       "─────┼─────────────────────────────────────────────────────────────────────\n",
       "   1 │ 80282 \u001b[90m missing \u001b[0m Kollegiatstift St. Margarethe, A…\n",
       "   2 │ 80363 \u001b[90m missing \u001b[0m Kollegiatstift St. Maria, Hofgei…\n",
       "   3 │ 80435 \u001b[90m missing \u001b[0m Kollegiatstift St. Maria, Lich\n",
       "   4 │ 80460 \u001b[90m missing \u001b[0m Kollegiatstift St. Johannes Bapt…\n",
       "   5 │ 80461 \u001b[90m missing \u001b[0m Kollegiatstift St. Gangolf, Mainz\n",
       "   6 │ 80513 \u001b[90m missing \u001b[0m Kollegiatstift St. Katharina, Op…\n",
       "   7 │ 80518 \u001b[90m missing \u001b[0m Kollegiatstift St. Martin, Ober-…\n",
       "   8 │ 81510 \u001b[90m missing \u001b[0m Kollegiatstift Hünfeld\n",
       "   9 │ 81570 \u001b[90m missing \u001b[0m Benediktinerkloster Seligenstadt\n",
       "  10 │ 81620 \u001b[90m missing \u001b[0m Kanonissenstift Wetter\n",
       "  11 │ 81751 \u001b[90m missing \u001b[0m Benediktinerabtei St. Salvator, …\n",
       "  12 │ 82495 \u001b[90m missing \u001b[0m Kollegiatstift St. Kastulus, Moo…\n",
       "  13 │ 83245 \u001b[90m missing \u001b[0m Benediktinerpropstei Johannesber…\n",
       "\u001b[36m                                                          6 columns omitted\u001b[0m"
      ]
     },
     "execution_count": 91,
     "metadata": {},
     "output_type": "execute_result"
    }
   ],
   "source": [
    "sql = \"SELECT * FROM wiag2.institution\n",
    "WHERE id_gsn IN ($(mon_ids_par))\"\n",
    "df_mon = Wds.sql_df(sql)"
   ]
  },
  {
   "cell_type": "code",
   "execution_count": 94,
   "metadata": {},
   "outputs": [
    {
     "data": {
      "text/plain": [
       "3-element Vector{Pair{Symbol, Symbol}}:\n",
       "     :id => :id_monastery\n",
       " :id_gsn => :wiagid\n",
       "   :name => :monastery_name"
      ]
     },
     "execution_count": 94,
     "metadata": {},
     "output_type": "execute_result"
    }
   ],
   "source": [
    "columns = [\n",
    "    :id => :id_monastery,\n",
    "    :id_gsn => :wiagid,\n",
    "    :name => :monastery_name,\n",
    "]"
   ]
  },
  {
   "cell_type": "code",
   "execution_count": 95,
   "metadata": {},
   "outputs": [
    {
     "name": "stderr",
     "output_type": "stream",
     "text": [
      "┌ Info: Rows inserted: 13\n",
      "└ @ WiagDataSetup C:\\Users\\georg\\Documents\\projekte\\WiagDataSetup.jl\\src\\WiagDataSetup.jl:1206\n"
     ]
    }
   ],
   "source": [
    "Wds.filltable!(\"wiag.monastery\", select(df_mon, columns), clear_table = false);"
   ]
  },
  {
   "cell_type": "markdown",
   "metadata": {},
   "source": [
    "*2021-12-12* (Historie)"
   ]
  },
  {
   "cell_type": "markdown",
   "metadata": {},
   "source": [
    "Domstift Verdun (4066) ist in der Klosterdatenbank (siehe unten)"
   ]
  },
  {
   "cell_type": "code",
   "execution_count": 58,
   "metadata": {},
   "outputs": [],
   "source": [
    "d_mg_mon = Dict(\n",
    "    4068 => (\"Domstift Kurland, Livland\", missing),\n",
    "    4074 => (\"Domstift Reval, Estland\", \"Reval\"),\n",
    "    4075 => (\"Domstift Riga, Lettland\", \"Riga\")\n",
    ");"
   ]
  },
  {
   "cell_type": "code",
   "execution_count": 59,
   "metadata": {},
   "outputs": [],
   "source": [
    "df_inst = filter(:institution => !ismissing, df_oc);"
   ]
  },
  {
   "cell_type": "code",
   "execution_count": 60,
   "metadata": {},
   "outputs": [
    {
     "data": {
      "text/plain": [
       "(0, 20)"
      ]
     },
     "execution_count": 60,
     "metadata": {},
     "output_type": "execute_result"
    }
   ],
   "source": [
    "size(df_inst)"
   ]
  },
  {
   "cell_type": "markdown",
   "metadata": {},
   "source": [
    "*2021-12-16* Info (Historie)"
   ]
  },
  {
   "cell_type": "code",
   "execution_count": null,
   "metadata": {},
   "outputs": [],
   "source": [
    "for i_mon in keys(d_mg_mon)\n",
    "    row_idx = isequal.(df_oc.id_monastery, i_mon)\n",
    "    df_oc[row_idx, :institution] .= d_mg_mon[i_mon][1]\n",
    "    df_oc[row_idx, :location] .= d_mg_mon[i_mon][2]\n",
    "end"
   ]
  },
  {
   "cell_type": "code",
   "execution_count": 62,
   "metadata": {},
   "outputs": [
    {
     "data": {
      "text/html": [
       "<div class=\"data-frame\"><p>0 rows × 4 columns</p><table class=\"data-frame\"><thead><tr><th></th><th>id_canon</th><th>office_name</th><th>institution</th><th>location</th></tr><tr><th></th><th title=\"Int32\">Int32</th><th title=\"SubString{String}\">SubStri…</th><th title=\"Missing\">Missing</th><th title=\"Missing\">Missing</th></tr></thead><tbody></tbody></table></div>"
      ],
      "text/latex": [
       "\\begin{tabular}{r|cccc}\n",
       "\t& id\\_canon & office\\_name & institution & location\\\\\n",
       "\t\\hline\n",
       "\t& Int32 & SubStri… & Missing & Missing\\\\\n",
       "\t\\hline\n",
       "\\end{tabular}\n"
      ],
      "text/plain": [
       "\u001b[1m0×4 DataFrame\u001b[0m"
      ]
     },
     "execution_count": 62,
     "metadata": {},
     "output_type": "execute_result"
    }
   ],
   "source": [
    "df_inst = filter(:institution => !ismissing, df_oc);\n",
    "df_inst[:, [:id_canon, :office_name, :institution, :location]]"
   ]
  },
  {
   "cell_type": "code",
   "execution_count": 179,
   "metadata": {},
   "outputs": [
    {
     "name": "stderr",
     "output_type": "stream",
     "text": [
      "┌ Info: Rows inserted: 5679\n",
      "└ @ WiagDataSetup C:\\Users\\georg\\Documents\\projekte\\WiagDataSetup.jl\\src\\WiagDataSetup.jl:1202\n"
     ]
    },
    {
     "data": {
      "text/plain": [
       "5679"
      ]
     },
     "execution_count": 179,
     "metadata": {},
     "output_type": "execute_result"
    }
   ],
   "source": [
    "table_name = \"cn_office\"\n",
    "Wds.filltable!(table_name, df_oc, clear_table = true)"
   ]
  },
  {
   "cell_type": "markdown",
   "metadata": {},
   "source": [
    "## Klöster\n",
    "Aus der Klosterdatenbank beziehen, aufgrund der Ämter aller Domherren  \n",
    "https://api.gs.sub.uni-goettingen.de/v1/monastery/2077\n",
    "\n",
    "Zu befüllen: `monastery` und `monastery_location`\n",
    "\n",
    "*2022-02-18* Siehe unten: Klöster direkt aus dem Dump"
   ]
  },
  {
   "cell_type": "code",
   "execution_count": 64,
   "metadata": {},
   "outputs": [],
   "source": [
    "using HTTP, JSON, DataFrames, MySQL"
   ]
  },
  {
   "cell_type": "code",
   "execution_count": 14,
   "metadata": {},
   "outputs": [
    {
     "data": {
      "text/plain": [
       "\"https://api.gs.sub.uni-goettingen.de/v1/monastery/\""
      ]
     },
     "execution_count": 14,
     "metadata": {},
     "output_type": "execute_result"
    }
   ],
   "source": [
    "url_gs_mon = \"https://api.gs.sub.uni-goettingen.de/v1/monastery/\""
   ]
  },
  {
   "cell_type": "code",
   "execution_count": 20,
   "metadata": {},
   "outputs": [],
   "source": [
    "StringMayBe = Vector{Union{String, Missing}}\n",
    "df_mon = DataFrame(\n",
    "    wiagid = Int[],\n",
    "    name = StringMayBe(),\n",
    "    patrocinium = StringMayBe()\n",
    ")\n",
    "df_mon_loc = DataFrame(\n",
    "    wiagid_monastery = Int[],\n",
    "    longitude = StringMayBe(),\n",
    "    latitude = StringMayBe(),\n",
    "    placeName = StringMayBe(),\n",
    "    locationName = StringMayBe(),\n",
    "    beginTPQ = StringMayBe(),\n",
    "    endTPQ = StringMayBe()\n",
    ");"
   ]
  },
  {
   "cell_type": "markdown",
   "metadata": {},
   "source": [
    "IDs relevanter Klöster lesen"
   ]
  },
  {
   "cell_type": "code",
   "execution_count": 13,
   "metadata": {},
   "outputs": [],
   "source": [
    "sql = \"SELECT DISTINCT id_monastery FROM \n",
    "(SELECT id_monastery FROM wiag.office WHERE id_monastery IS NOT NULL\n",
    "UNION SELECT id_monastery FROM wiag_in.cn_office WHERE id_monastery IS NOT NULL\n",
    "UNION SELECT id_monastery FROM wiag_in.cn_office_gs WHERE id_monastery IS NOT NULL) AS c\"\n",
    "df_id_mon = Wds.sql_df(sql);"
   ]
  },
  {
   "cell_type": "markdown",
   "metadata": {},
   "source": [
    "Info"
   ]
  },
  {
   "cell_type": "code",
   "execution_count": 83,
   "metadata": {},
   "outputs": [
    {
     "data": {
      "text/plain": [
       "(395, 1)"
      ]
     },
     "execution_count": 83,
     "metadata": {},
     "output_type": "execute_result"
    }
   ],
   "source": [
    "size(df_id_mon)"
   ]
  },
  {
   "cell_type": "code",
   "execution_count": 15,
   "metadata": {},
   "outputs": [
    {
     "data": {
      "text/plain": [
       "3-element Vector{Int64}:\n",
       " 2\n",
       " 6\n",
       " 7"
      ]
     },
     "execution_count": 15,
     "metadata": {},
     "output_type": "execute_result"
    }
   ],
   "source": [
    "in_epic_mon(id) = id in (4623, 20165, 791)\n",
    "findall(in_epic_mon, df_id_mon.id_monastery)"
   ]
  },
  {
   "cell_type": "markdown",
   "metadata": {},
   "source": [
    "Lies Klöster aus der Klosterdatenbank. Wenn ein Kloster nicht gefunden wird, wird ein Dummy-Eintrag angelegt, um einen Absturz der Web-Anwendung zu vermeiden."
   ]
  },
  {
   "cell_type": "code",
   "execution_count": 21,
   "metadata": {},
   "outputs": [],
   "source": [
    "id_all = df_id_mon.id_monastery;"
   ]
  },
  {
   "cell_type": "code",
   "execution_count": 23,
   "metadata": {},
   "outputs": [
    {
     "data": {
      "text/plain": [
       "3-element Vector{Union{Missing, Int32}}:\n",
       "   791\n",
       "  4623\n",
       " 20165"
      ]
     },
     "execution_count": 23,
     "metadata": {},
     "output_type": "execute_result"
    }
   ],
   "source": [
    "id_all[[2, 6, 7]]"
   ]
  },
  {
   "cell_type": "code",
   "execution_count": 24,
   "metadata": {},
   "outputs": [
    {
     "name": "stderr",
     "output_type": "stream",
     "text": [
      "┌ Info: 80\n",
      "└ @ WiagDataSetup C:\\Users\\georg\\Documents\\projekte\\WiagDataSetup.jl\\src\\WiagDataSetup.jl:1343\n",
      "┌ Info: 160\n",
      "└ @ WiagDataSetup C:\\Users\\georg\\Documents\\projekte\\WiagDataSetup.jl\\src\\WiagDataSetup.jl:1343\n",
      "┌ Warning: Could not parse  (id: 4068)\n",
      "└ @ WiagDataSetup C:\\Users\\georg\\Documents\\projekte\\WiagDataSetup.jl\\src\\WiagDataSetup.jl:1373\n",
      "┌ Warning: Could not parse  (id: 4074)\n",
      "└ @ WiagDataSetup C:\\Users\\georg\\Documents\\projekte\\WiagDataSetup.jl\\src\\WiagDataSetup.jl:1373\n",
      "┌ Warning: Could not parse  (id: 4075)\n",
      "└ @ WiagDataSetup C:\\Users\\georg\\Documents\\projekte\\WiagDataSetup.jl\\src\\WiagDataSetup.jl:1373\n",
      "┌ Info: 240\n",
      "└ @ WiagDataSetup C:\\Users\\georg\\Documents\\projekte\\WiagDataSetup.jl\\src\\WiagDataSetup.jl:1343\n",
      "┌ Info: 320\n",
      "└ @ WiagDataSetup C:\\Users\\georg\\Documents\\projekte\\WiagDataSetup.jl\\src\\WiagDataSetup.jl:1343\n",
      "┌ Warning: Could not parse  (id: 7203)\n",
      "└ @ WiagDataSetup C:\\Users\\georg\\Documents\\projekte\\WiagDataSetup.jl\\src\\WiagDataSetup.jl:1373\n"
     ]
    }
   ],
   "source": [
    "Wds.get_gs_monasteries!(df_mon, df_mon_loc, id_all)"
   ]
  },
  {
   "cell_type": "markdown",
   "metadata": {},
   "source": [
    "Info"
   ]
  },
  {
   "cell_type": "code",
   "execution_count": 72,
   "metadata": {},
   "outputs": [
    {
     "data": {
      "text/plain": [
       "(395, 3)"
      ]
     },
     "execution_count": 72,
     "metadata": {},
     "output_type": "execute_result"
    }
   ],
   "source": [
    "size(df_mon)"
   ]
  },
  {
   "cell_type": "code",
   "execution_count": 99,
   "metadata": {
    "scrolled": true
   },
   "outputs": [
    {
     "data": {
      "text/html": [
       "<div class=\"data-frame\"><p>7 rows × 3 columns (omitted printing of 1 columns)</p><table class=\"data-frame\"><thead><tr><th></th><th>wiagid</th><th>name</th></tr><tr><th></th><th title=\"Int64\">Int64</th><th title=\"Union{Missing, String}\">String?</th></tr></thead><tbody><tr><th>1</th><td>415</td><td>Benediktinerabtei Corvey, kurzzeitig Domstift</td></tr><tr><th>2</th><td>415</td><td>Benediktinerabtei Corvey, kurzzeitig Domstift</td></tr><tr><th>3</th><td>791</td><td>Benediktinerkloster St. Michael, Lüneburg</td></tr><tr><th>4</th><td>3294</td><td>Benediktinerkloster, dann Kollegiatstift St. Leodegar, Murbach, Frankreich</td></tr><tr><th>5</th><td>3428</td><td>Stift Haug, Würzburg</td></tr><tr><th>6</th><td>3560</td><td>Kollegiatstift St. Pauli, Bremen, später Benediktinerkloster</td></tr><tr><th>7</th><td>4623</td><td>Benediktinerreichsabtei Stablo-Malmedy, Belgien</td></tr></tbody></table></div>"
      ],
      "text/latex": [
       "\\begin{tabular}{r|ccc}\n",
       "\t& wiagid & name & \\\\\n",
       "\t\\hline\n",
       "\t& Int64 & String? & \\\\\n",
       "\t\\hline\n",
       "\t1 & 415 & Benediktinerabtei Corvey, kurzzeitig Domstift & $\\dots$ \\\\\n",
       "\t2 & 415 & Benediktinerabtei Corvey, kurzzeitig Domstift & $\\dots$ \\\\\n",
       "\t3 & 791 & Benediktinerkloster St. Michael, Lüneburg & $\\dots$ \\\\\n",
       "\t4 & 3294 & Benediktinerkloster, dann Kollegiatstift St. Leodegar, Murbach, Frankreich & $\\dots$ \\\\\n",
       "\t5 & 3428 & Stift Haug, Würzburg & $\\dots$ \\\\\n",
       "\t6 & 3560 & Kollegiatstift St. Pauli, Bremen, später Benediktinerkloster & $\\dots$ \\\\\n",
       "\t7 & 4623 & Benediktinerreichsabtei Stablo-Malmedy, Belgien & $\\dots$ \\\\\n",
       "\\end{tabular}\n"
      ],
      "text/plain": [
       "\u001b[1m7×3 DataFrame\u001b[0m\n",
       "\u001b[1m Row \u001b[0m│\u001b[1m wiagid \u001b[0m\u001b[1m name                              \u001b[0m\u001b[1m patrocinium                 \u001b[0m ⋯\n",
       "\u001b[1m     \u001b[0m│\u001b[90m Int64  \u001b[0m\u001b[90m String?                           \u001b[0m\u001b[90m String?                     \u001b[0m ⋯\n",
       "─────┼──────────────────────────────────────────────────────────────────────────\n",
       "   1 │    415  Benediktinerabtei Corvey, kurzze…  Martin, Petrus, Stephanus, V ⋯\n",
       "   2 │    415  Benediktinerabtei Corvey, kurzze…  Martin, Petrus, Stephanus, V\n",
       "   3 │    791  Benediktinerkloster St. Michael,…  Michael, Trinitas, Hl. Kreuz\n",
       "   4 │   3294  Benediktinerkloster, dann Kolleg…  Leodegar\n",
       "   5 │   3428  Stift Haug, Würzburg               Johannes Baptista, Johannes  ⋯\n",
       "   6 │   3560  Kollegiatstift St. Pauli, Bremen…  Paulus\n",
       "   7 │   4623  Benediktinerreichsabtei Stablo-M…  Quirinius\n",
       "\u001b[36m                                                                1 column omitted\u001b[0m"
      ]
     },
     "execution_count": 99,
     "metadata": {},
     "output_type": "execute_result"
    }
   ],
   "source": [
    "df_mon[1:7, :]"
   ]
  },
  {
   "cell_type": "code",
   "execution_count": 105,
   "metadata": {},
   "outputs": [],
   "source": [
    "df_mon[!, :id_monastery] .= 1:nrow(df_mon);"
   ]
  },
  {
   "cell_type": "code",
   "execution_count": 99,
   "metadata": {},
   "outputs": [
    {
     "data": {
      "text/plain": [
       "4-element Vector{String}:\n",
       " \"wiagid\"\n",
       " \"name\"\n",
       " \"patrocinium\"\n",
       " \"id_monastery\""
      ]
     },
     "execution_count": 99,
     "metadata": {},
     "output_type": "execute_result"
    }
   ],
   "source": [
    "names(df_mon)"
   ]
  },
  {
   "cell_type": "code",
   "execution_count": 106,
   "metadata": {},
   "outputs": [],
   "source": [
    "rename!(df_mon, :name => :monastery_name);"
   ]
  },
  {
   "cell_type": "code",
   "execution_count": 109,
   "metadata": {},
   "outputs": [
    {
     "name": "stderr",
     "output_type": "stream",
     "text": [
      "┌ Info: Rows inserted: 395\n",
      "└ @ WiagDataSetup C:\\Users\\georg\\Documents\\projekte\\WiagDataSetup.jl\\src\\WiagDataSetup.jl:1202\n"
     ]
    },
    {
     "data": {
      "text/plain": [
       "395"
      ]
     },
     "execution_count": 109,
     "metadata": {},
     "output_type": "execute_result"
    }
   ],
   "source": [
    "table_name = \"monastery\"\n",
    "Wds.filltable!(table_name, df_mon, clear_table = true)"
   ]
  },
  {
   "cell_type": "code",
   "execution_count": 110,
   "metadata": {},
   "outputs": [
    {
     "data": {
      "text/html": [
       "<div class=\"data-frame\"><p>6 rows × 7 columns (omitted printing of 2 columns)</p><table class=\"data-frame\"><thead><tr><th></th><th>wiagid_monastery</th><th>longitude</th><th>latitude</th><th>placeName</th><th>locationName</th></tr><tr><th></th><th title=\"Int64\">Int64</th><th title=\"Union{Missing, String}\">String?</th><th title=\"Union{Missing, String}\">String?</th><th title=\"Union{Missing, String}\">String?</th><th title=\"Union{Missing, String}\">String?</th></tr></thead><tbody><tr><th>1</th><td>982</td><td>8.108056</td><td>51.571528</td><td>Soest</td><td><em>missing</em></td></tr><tr><th>2</th><td>983</td><td>8.10516666666667</td><td>51.5708333333333</td><td>Soest</td><td><em>missing</em></td></tr><tr><th>3</th><td>1015</td><td>10.573333333333</td><td>49.302777777778</td><td>Ansbach</td><td><em>missing</em></td></tr><tr><th>4</th><td>1016</td><td> 9.146389</td><td>49.973611</td><td>Aschaffenburg</td><td><em>missing</em></td></tr><tr><th>5</th><td>1043</td><td>9.1744</td><td>47.6625</td><td>Konstanz</td><td><em>missing</em></td></tr><tr><th>6</th><td>1051</td><td>7.3012</td><td>50.18369</td><td>Treis-Karden</td><td>Karden an der Mosel</td></tr></tbody></table></div>"
      ],
      "text/latex": [
       "\\begin{tabular}{r|cccccc}\n",
       "\t& wiagid\\_monastery & longitude & latitude & placeName & locationName & \\\\\n",
       "\t\\hline\n",
       "\t& Int64 & String? & String? & String? & String? & \\\\\n",
       "\t\\hline\n",
       "\t1 & 982 & 8.108056 & 51.571528 & Soest & \\emph{missing} & $\\dots$ \\\\\n",
       "\t2 & 983 & 8.10516666666667 & 51.5708333333333 & Soest & \\emph{missing} & $\\dots$ \\\\\n",
       "\t3 & 1015 & 10.573333333333 & 49.302777777778 & Ansbach & \\emph{missing} & $\\dots$ \\\\\n",
       "\t4 & 1016 &  9.146389 & 49.973611 & Aschaffenburg & \\emph{missing} & $\\dots$ \\\\\n",
       "\t5 & 1043 & 9.1744 & 47.6625 & Konstanz & \\emph{missing} & $\\dots$ \\\\\n",
       "\t6 & 1051 & 7.3012 & 50.18369 & Treis-Karden & Karden an der Mosel & $\\dots$ \\\\\n",
       "\\end{tabular}\n"
      ],
      "text/plain": [
       "\u001b[1m6×7 DataFrame\u001b[0m\n",
       "\u001b[1m Row \u001b[0m│\u001b[1m wiagid_monastery \u001b[0m\u001b[1m longitude        \u001b[0m\u001b[1m latitude         \u001b[0m\u001b[1m placeName     \u001b[0m\u001b[1m lo\u001b[0m ⋯\n",
       "\u001b[1m     \u001b[0m│\u001b[90m Int64            \u001b[0m\u001b[90m String?          \u001b[0m\u001b[90m String?          \u001b[0m\u001b[90m String?       \u001b[0m\u001b[90m St\u001b[0m ⋯\n",
       "─────┼──────────────────────────────────────────────────────────────────────────\n",
       "   1 │              982  8.108056          51.571528         Soest         \u001b[90m mi\u001b[0m ⋯\n",
       "   2 │              983  8.10516666666667  51.5708333333333  Soest         \u001b[90m mi\u001b[0m\n",
       "   3 │             1015  10.573333333333   49.302777777778   Ansbach       \u001b[90m mi\u001b[0m\n",
       "   4 │             1016   9.146389         49.973611         Aschaffenburg \u001b[90m mi\u001b[0m\n",
       "   5 │             1043  9.1744            47.6625           Konstanz      \u001b[90m mi\u001b[0m ⋯\n",
       "   6 │             1051  7.3012            50.18369          Treis-Karden   Ka\n",
       "\u001b[36m                                                               3 columns omitted\u001b[0m"
      ]
     },
     "execution_count": 110,
     "metadata": {},
     "output_type": "execute_result"
    }
   ],
   "source": [
    "df_mon_loc[100:105, :]"
   ]
  },
  {
   "cell_type": "code",
   "execution_count": 117,
   "metadata": {},
   "outputs": [
    {
     "data": {
      "text/plain": [
       "(0, 7)"
      ]
     },
     "execution_count": 117,
     "metadata": {},
     "output_type": "execute_result"
    }
   ],
   "source": [
    "df_mg_geo = filter(:longitude => ismissing, df_mon_loc);\n",
    "size(df_mg_geo)"
   ]
  },
  {
   "cell_type": "code",
   "execution_count": 111,
   "metadata": {},
   "outputs": [],
   "source": [
    "parseFloat(x) = parse(Float64, x)\n",
    "transform!(df_mon_loc, :longitude => ByRow(parseFloat) => :longitude);"
   ]
  },
  {
   "cell_type": "code",
   "execution_count": 112,
   "metadata": {},
   "outputs": [],
   "source": [
    "transform!(df_mon_loc, :latitude => ByRow(parseFloat) => :latitude);"
   ]
  },
  {
   "cell_type": "code",
   "execution_count": 122,
   "metadata": {},
   "outputs": [
    {
     "data": {
      "text/plain": [
       "7-element Vector{String}:\n",
       " \"wiagid_monastery\"\n",
       " \"longitude\"\n",
       " \"latitude\"\n",
       " \"placeName\"\n",
       " \"locationName\"\n",
       " \"beginTPQ\"\n",
       " \"endTPQ\""
      ]
     },
     "execution_count": 122,
     "metadata": {},
     "output_type": "execute_result"
    }
   ],
   "source": [
    "names(df_mon_loc)"
   ]
  },
  {
   "cell_type": "code",
   "execution_count": 124,
   "metadata": {},
   "outputs": [
    {
     "data": {
      "text/plain": [
       "(0, 7)"
      ]
     },
     "execution_count": 124,
     "metadata": {},
     "output_type": "execute_result"
    }
   ],
   "source": [
    "df_mg_place_name = filter(:placeName => ismissing, df_mon_loc);\n",
    "size(df_mg_place_name)"
   ]
  },
  {
   "cell_type": "code",
   "execution_count": 113,
   "metadata": {},
   "outputs": [],
   "source": [
    "df_mon_loc[!, :id] .= 1:nrow(df_mon_loc);"
   ]
  },
  {
   "cell_type": "code",
   "execution_count": 114,
   "metadata": {},
   "outputs": [],
   "source": [
    "columns = [\n",
    "    :id => :id,\n",
    "    :wiagid_monastery => :wiagid_monastery,\n",
    "    :longitude => :longitude,\n",
    "    :latitude => :latitude,\n",
    "    :placeName => :place_name,\n",
    "    :locationName => :location_name,\n",
    "    :beginTPQ => :location_begin_tpq,\n",
    "    :endTPQ => :location_end_tpq\n",
    "];"
   ]
  },
  {
   "cell_type": "code",
   "execution_count": 115,
   "metadata": {},
   "outputs": [
    {
     "name": "stderr",
     "output_type": "stream",
     "text": [
      "┌ Info: Rows inserted: 422\n",
      "└ @ WiagDataSetup C:\\Users\\georg\\Documents\\projekte\\WiagDataSetup.jl\\src\\WiagDataSetup.jl:1202\n"
     ]
    },
    {
     "data": {
      "text/plain": [
       "422"
      ]
     },
     "execution_count": 115,
     "metadata": {},
     "output_type": "execute_result"
    }
   ],
   "source": [
    "table_name = \"monastery_location\"\n",
    "Wds.filltable!(table_name, select(df_mon_loc, columns), clear_table = true)"
   ]
  },
  {
   "cell_type": "markdown",
   "metadata": {},
   "source": [
    "## Klöster (Dump)\n",
    "Daten aus dem Dump der Klosterdatenbank\n",
    "https://owncloud.gwdg.de/index.php/s/s4x0TotkZq4Nm2B\n",
    "\n",
    "Zu befüllen: `monastery` und `monastery_location` und `place`"
   ]
  },
  {
   "cell_type": "code",
   "execution_count": 21,
   "metadata": {},
   "outputs": [],
   "source": [
    "table_name = \"gs_klosterdatenbank.gs_places\";\n",
    "sql = \"SELECT * FROM $(table_name)\";\n",
    "df_place = Wds.sql_df(sql);"
   ]
  },
  {
   "cell_type": "code",
   "execution_count": 22,
   "metadata": {},
   "outputs": [
    {
     "data": {
      "text/plain": [
       "7-element Vector{Symbol}:\n",
       " :id_places\n",
       " :place_name\n",
       " :gemeinde\n",
       " :diocese_id\n",
       " :geonames_id\n",
       " :latitude\n",
       " :longitude"
      ]
     },
     "execution_count": 22,
     "metadata": {},
     "output_type": "execute_result"
    }
   ],
   "source": [
    "columns = [\n",
    "    :id_places,\n",
    "    :place_name,\n",
    "    :gemeinde,\n",
    "    :diocese_id,\n",
    "    :geonames_id,\n",
    "    :latitude,\n",
    "    :longitude,    \n",
    "]"
   ]
  },
  {
   "cell_type": "code",
   "execution_count": 23,
   "metadata": {},
   "outputs": [
    {
     "name": "stderr",
     "output_type": "stream",
     "text": [
      "┌ Info: 10000\n",
      "└ @ WiagDataSetup C:\\Users\\georg\\Documents\\projekte\\WiagDataSetup.jl\\src\\WiagDataSetup.jl:1183\n",
      "┌ Info: 20000\n",
      "└ @ WiagDataSetup C:\\Users\\georg\\Documents\\projekte\\WiagDataSetup.jl\\src\\WiagDataSetup.jl:1183\n",
      "┌ Info: 30000\n",
      "└ @ WiagDataSetup C:\\Users\\georg\\Documents\\projekte\\WiagDataSetup.jl\\src\\WiagDataSetup.jl:1183\n",
      "┌ Info: 40000\n",
      "└ @ WiagDataSetup C:\\Users\\georg\\Documents\\projekte\\WiagDataSetup.jl\\src\\WiagDataSetup.jl:1183\n",
      "┌ Info: Rows inserted: 46493\n",
      "└ @ WiagDataSetup C:\\Users\\georg\\Documents\\projekte\\WiagDataSetup.jl\\src\\WiagDataSetup.jl:1206\n"
     ]
    },
    {
     "data": {
      "text/plain": [
       "46493"
      ]
     },
     "execution_count": 23,
     "metadata": {},
     "output_type": "execute_result"
    }
   ],
   "source": [
    "table_name = \"place\"\n",
    "Wds.filltable!(table_name, select(df_place, columns))"
   ]
  },
  {
   "cell_type": "code",
   "execution_count": 11,
   "metadata": {},
   "outputs": [],
   "source": [
    "table_name = \"gs_klosterdatenbank.gs_monastery\"\n",
    "sql = \"SELECT * FROM $(table_name)\"\n",
    "df_mon = Wds.sql_df(sql);"
   ]
  },
  {
   "cell_type": "code",
   "execution_count": 12,
   "metadata": {},
   "outputs": [],
   "source": [
    "Wds.clean_up!(df_mon);"
   ]
  },
  {
   "cell_type": "code",
   "execution_count": 13,
   "metadata": {},
   "outputs": [
    {
     "data": {
      "text/plain": [
       "(5993, 15)"
      ]
     },
     "execution_count": 13,
     "metadata": {},
     "output_type": "execute_result"
    }
   ],
   "source": [
    "size(df_mon)"
   ]
  },
  {
   "cell_type": "code",
   "execution_count": 14,
   "metadata": {
    "scrolled": true
   },
   "outputs": [],
   "source": [
    "rename!(df_mon, [:id_gsn => :wiagid]);"
   ]
  },
  {
   "cell_type": "code",
   "execution_count": 15,
   "metadata": {},
   "outputs": [],
   "source": [
    "columns = [\n",
    "    :id_monastery,\n",
    "    :wiagid,\n",
    "    :date_created,\n",
    "    :created_by_user,\n",
    "    :status,\n",
    "    :monastery_name,\n",
    "    :patrocinium,\n",
    "    :gs_persons,\n",
    "    :selection_criteria,\n",
    "    :last_change,\n",
    "    :changed_by_user,\n",
    "    :founder\n",
    "];"
   ]
  },
  {
   "cell_type": "code",
   "execution_count": 16,
   "metadata": {},
   "outputs": [
    {
     "name": "stderr",
     "output_type": "stream",
     "text": [
      "┌ Info: Rows inserted: 5993\n",
      "└ @ WiagDataSetup C:\\Users\\georg\\Documents\\projekte\\WiagDataSetup.jl\\src\\WiagDataSetup.jl:1206\n"
     ]
    },
    {
     "data": {
      "text/plain": [
       "5993"
      ]
     },
     "execution_count": 16,
     "metadata": {},
     "output_type": "execute_result"
    }
   ],
   "source": [
    "table_name = \"monastery\"\n",
    "Wds.filltable!(table_name, select(df_mon, columns), clear_table = true)"
   ]
  },
  {
   "cell_type": "code",
   "execution_count": 17,
   "metadata": {},
   "outputs": [],
   "source": [
    "sql = \"SELECT * FROM gs_klosterdatenbank.gs_monastery_location\"\n",
    "df_mon_loc = Wds.sql_df(sql);"
   ]
  },
  {
   "cell_type": "code",
   "execution_count": 18,
   "metadata": {},
   "outputs": [
    {
     "data": {
      "text/plain": [
       "16-element Vector{String}:\n",
       " \"id_monastery_location\"\n",
       " \"place_id\"\n",
       " \"relocated\"\n",
       " \"gsn_id\"\n",
       " \"location_begin_tpq\"\n",
       " \"location_begin_taq\"\n",
       " \"location_begin_note\"\n",
       " \"location_end_tpq\"\n",
       " \"location_end_taq\"\n",
       " \"location_end_note\"\n",
       " \"comment\"\n",
       " \"longitude\"\n",
       " \"latitude\"\n",
       " \"location_name\"\n",
       " \"main_location\"\n",
       " \"diocese_id\""
      ]
     },
     "execution_count": 18,
     "metadata": {},
     "output_type": "execute_result"
    }
   ],
   "source": [
    "names(df_mon_loc)"
   ]
  },
  {
   "cell_type": "code",
   "execution_count": 20,
   "metadata": {},
   "outputs": [
    {
     "data": {
      "text/html": [
       "<div class=\"data-frame\"><p>8 rows × 4 columns</p><table class=\"data-frame\"><thead><tr><th></th><th>id_monastery_location</th><th>relocated</th><th>location_name</th><th>place_id</th></tr><tr><th></th><th title=\"Int32\">Int32</th><th title=\"Union{Missing, Int8}\">Int8?</th><th title=\"Union{Missing, String}\">String?</th><th title=\"Union{Missing, Int32}\">Int32?</th></tr></thead><tbody><tr><th>1</th><td>213</td><td>1</td><td><em>missing</em></td><td>17595</td></tr><tr><th>2</th><td>214</td><td>0</td><td><em>missing</em></td><td>16550</td></tr><tr><th>3</th><td>216</td><td>0</td><td><em>missing</em></td><td>17521</td></tr><tr><th>4</th><td>218</td><td>0</td><td><em>missing</em></td><td>36926</td></tr><tr><th>5</th><td>221</td><td>0</td><td><em>missing</em></td><td>16159</td></tr><tr><th>6</th><td>225</td><td>0</td><td>Wismar</td><td>13796</td></tr><tr><th>7</th><td>226</td><td>0</td><td><em>missing</em></td><td>9583</td></tr><tr><th>8</th><td>227</td><td>0</td><td><em>missing</em></td><td>14671</td></tr></tbody></table></div>"
      ],
      "text/latex": [
       "\\begin{tabular}{r|cccc}\n",
       "\t& id\\_monastery\\_location & relocated & location\\_name & place\\_id\\\\\n",
       "\t\\hline\n",
       "\t& Int32 & Int8? & String? & Int32?\\\\\n",
       "\t\\hline\n",
       "\t1 & 213 & 1 & \\emph{missing} & 17595 \\\\\n",
       "\t2 & 214 & 0 & \\emph{missing} & 16550 \\\\\n",
       "\t3 & 216 & 0 & \\emph{missing} & 17521 \\\\\n",
       "\t4 & 218 & 0 & \\emph{missing} & 36926 \\\\\n",
       "\t5 & 221 & 0 & \\emph{missing} & 16159 \\\\\n",
       "\t6 & 225 & 0 & Wismar & 13796 \\\\\n",
       "\t7 & 226 & 0 & \\emph{missing} & 9583 \\\\\n",
       "\t8 & 227 & 0 & \\emph{missing} & 14671 \\\\\n",
       "\\end{tabular}\n"
      ],
      "text/plain": [
       "\u001b[1m8×4 DataFrame\u001b[0m\n",
       "\u001b[1m Row \u001b[0m│\u001b[1m id_monastery_location \u001b[0m\u001b[1m relocated \u001b[0m\u001b[1m location_name \u001b[0m\u001b[1m place_id \u001b[0m\n",
       "\u001b[1m     \u001b[0m│\u001b[90m Int32                 \u001b[0m\u001b[90m Int8?     \u001b[0m\u001b[90m String?       \u001b[0m\u001b[90m Int32?   \u001b[0m\n",
       "─────┼───────────────────────────────────────────────────────────\n",
       "   1 │                   213          1 \u001b[90m missing       \u001b[0m    17595\n",
       "   2 │                   214          0 \u001b[90m missing       \u001b[0m    16550\n",
       "   3 │                   216          0 \u001b[90m missing       \u001b[0m    17521\n",
       "   4 │                   218          0 \u001b[90m missing       \u001b[0m    36926\n",
       "   5 │                   221          0 \u001b[90m missing       \u001b[0m    16159\n",
       "   6 │                   225          0  Wismar            13796\n",
       "   7 │                   226          0 \u001b[90m missing       \u001b[0m     9583\n",
       "   8 │                   227          0 \u001b[90m missing       \u001b[0m    14671"
      ]
     },
     "execution_count": 20,
     "metadata": {},
     "output_type": "execute_result"
    }
   ],
   "source": [
    "df_mon_loc[100:107, [:id_monastery_location, :relocated, :location_name, :place_id]]"
   ]
  },
  {
   "cell_type": "code",
   "execution_count": 24,
   "metadata": {},
   "outputs": [
    {
     "data": {
      "text/plain": [
       "(6452, 16)"
      ]
     },
     "execution_count": 24,
     "metadata": {},
     "output_type": "execute_result"
    }
   ],
   "source": [
    "size(df_mon_loc)"
   ]
  },
  {
   "cell_type": "code",
   "execution_count": 27,
   "metadata": {},
   "outputs": [],
   "source": [
    "dropmissing!(df_mon_loc, :place_id);"
   ]
  },
  {
   "cell_type": "code",
   "execution_count": 28,
   "metadata": {},
   "outputs": [
    {
     "data": {
      "text/plain": [
       "(6451, 16)"
      ]
     },
     "execution_count": 28,
     "metadata": {},
     "output_type": "execute_result"
    }
   ],
   "source": [
    "size(df_mon_loc)"
   ]
  },
  {
   "cell_type": "code",
   "execution_count": 30,
   "metadata": {},
   "outputs": [],
   "source": [
    "df_mon_loc_db = innerjoin(df_mon_loc, select(df_place, [:id_places, :place_name]), on = :place_id => :id_places);"
   ]
  },
  {
   "cell_type": "code",
   "execution_count": 31,
   "metadata": {},
   "outputs": [
    {
     "data": {
      "text/plain": [
       "17-element Vector{String}:\n",
       " \"id_monastery_location\"\n",
       " \"place_id\"\n",
       " \"relocated\"\n",
       " \"gsn_id\"\n",
       " \"location_begin_tpq\"\n",
       " \"location_begin_taq\"\n",
       " \"location_begin_note\"\n",
       " \"location_end_tpq\"\n",
       " \"location_end_taq\"\n",
       " \"location_end_note\"\n",
       " \"comment\"\n",
       " \"longitude\"\n",
       " \"latitude\"\n",
       " \"location_name\"\n",
       " \"main_location\"\n",
       " \"diocese_id\"\n",
       " \"place_name\""
      ]
     },
     "execution_count": 31,
     "metadata": {},
     "output_type": "execute_result"
    }
   ],
   "source": [
    "names(df_mon_loc_db)"
   ]
  },
  {
   "cell_type": "code",
   "execution_count": null,
   "metadata": {},
   "outputs": [],
   "source": [
    "rename!(df_mon_loc_db, [:id_monastery_location => :id, :gsn_id => :wiagid_monastery]);"
   ]
  },
  {
   "cell_type": "code",
   "execution_count": 41,
   "metadata": {},
   "outputs": [
    {
     "data": {
      "text/plain": [
       "6451"
      ]
     },
     "execution_count": 41,
     "metadata": {},
     "output_type": "execute_result"
    },
    {
     "name": "stderr",
     "output_type": "stream",
     "text": [
      "┌ Info: Rows inserted: 6451\n",
      "└ @ WiagDataSetup C:\\Users\\georg\\Documents\\projekte\\WiagDataSetup.jl\\src\\WiagDataSetup.jl:1206\n"
     ]
    }
   ],
   "source": [
    "table_name = \"monastery_location\"\n",
    "Wds.filltable!(table_name, select(df_mon_loc_db, Not(:comment)), clear_table = true)"
   ]
  },
  {
   "cell_type": "markdown",
   "metadata": {},
   "source": [
    "### Normierte Ämter\n",
    "`cn_office_norm`  \n",
    "Die Daten sind lediglich zu übernehmen"
   ]
  },
  {
   "cell_type": "code",
   "execution_count": 100,
   "metadata": {},
   "outputs": [],
   "source": [
    "sql = \"SELECT id_amt_norm as id, AmtNorm as office_name, Bemerkung as comment\n",
    "FROM domherr.tbl_aemterliste_normiert\"\n",
    "df_occ_nrm = Wds.sql_df(sql);"
   ]
  },
  {
   "cell_type": "code",
   "execution_count": 101,
   "metadata": {},
   "outputs": [],
   "source": [
    "Wds.clean_up!(df_occ_nrm);"
   ]
  },
  {
   "cell_type": "code",
   "execution_count": 103,
   "metadata": {},
   "outputs": [
    {
     "data": {
      "text/plain": [
       "(152, 3)"
      ]
     },
     "execution_count": 103,
     "metadata": {},
     "output_type": "execute_result"
    }
   ],
   "source": [
    "size(df_occ_nrm)"
   ]
  },
  {
   "cell_type": "code",
   "execution_count": 104,
   "metadata": {},
   "outputs": [
    {
     "name": "stderr",
     "output_type": "stream",
     "text": [
      "┌ Info: Rows inserted: 152\n",
      "└ @ WiagDataSetup C:\\Users\\georg\\Documents\\projekte\\WiagDataSetup.jl\\src\\WiagDataSetup.jl:1206\n"
     ]
    },
    {
     "data": {
      "text/plain": [
       "152"
      ]
     },
     "execution_count": 104,
     "metadata": {},
     "output_type": "execute_result"
    }
   ],
   "source": [
    "table_name = \"cn_office_norm\"\n",
    "Wds.filltable!(table_name, df_occ_nrm, clear_table = true)"
   ]
  },
  {
   "cell_type": "markdown",
   "metadata": {},
   "source": [
    "## Hilfstabellen\n",
    "### `cn_online`\n",
    "``` sql\n",
    "CREATE TABLE cn_online LIKE wiag.cn_online;\n",
    "```"
   ]
  },
  {
   "cell_type": "markdown",
   "metadata": {},
   "source": [
    "Verknüpfe die Quellen\n",
    "1. ergänze gsn_id in dh aus ep über id_ep\n",
    "2. verknüpfe Domherren GS \n",
    "3. ergänze id_ep_ep aus ep über gsn_id"
   ]
  },
  {
   "cell_type": "markdown",
   "metadata": {},
   "source": [
    "Domherren aus der Domherrendatenbank"
   ]
  },
  {
   "cell_type": "code",
   "execution_count": 52,
   "metadata": {},
   "outputs": [],
   "source": [
    "sql = \"SELECT id as id_dh, wiag_episc_id as wiag_episc_id, gsn_id, \n",
    "givenname, familyname\n",
    "FROM wiag_in.cn_canon WHERE status = 'online'\"\n",
    "df_dh_pub = Wds.sql_df(sql);"
   ]
  },
  {
   "cell_type": "markdown",
   "metadata": {},
   "source": [
    "Extrahiere `id_ep` aus der `wiag_episc_id`"
   ]
  },
  {
   "cell_type": "code",
   "execution_count": 53,
   "metadata": {},
   "outputs": [
    {
     "data": {
      "text/plain": [
       "id_ep (generic function with 1 method)"
      ]
     },
     "execution_count": 53,
     "metadata": {},
     "output_type": "execute_result"
    }
   ],
   "source": [
    "rgx_episc = r\"EPISCGatz-([0-9]+)-\"\n",
    "function id_ep(wiagid)\n",
    "    if ismissing(wiagid)\n",
    "        return missing\n",
    "    end\n",
    "    rgm = match(rgx_episc, wiagid)\n",
    "    if !isnothing(rgm)\n",
    "        id_ep = parse(Int, rgm[1])\n",
    "        return id_ep\n",
    "    else\n",
    "        @warn \"invalid wiagid \" wiagid\n",
    "        return missing\n",
    "    end\n",
    "end"
   ]
  },
  {
   "cell_type": "code",
   "execution_count": 54,
   "metadata": {},
   "outputs": [],
   "source": [
    "transform!(df_dh_pub, :wiag_episc_id => ByRow(id_ep) => :id_ep);"
   ]
  },
  {
   "cell_type": "markdown",
   "metadata": {},
   "source": [
    "Bischöfe mit Verweis auf das Digitale Personenregister"
   ]
  },
  {
   "cell_type": "code",
   "execution_count": 55,
   "metadata": {},
   "outputs": [],
   "source": [
    "sql = \"SELECT wiagid as id_ep, gsid as gsn_id_ep\n",
    "FROM wiag.person\n",
    "WHERE gsid IS NOT NULL AND gsid <> ''\"\n",
    "df_ep = Wds.sql_df(sql);"
   ]
  },
  {
   "cell_type": "code",
   "execution_count": 56,
   "metadata": {},
   "outputs": [],
   "source": [
    "parse_int(x) = parse(Int, x)\n",
    "transform!(df_ep, :id_ep => ByRow(parse_int) => :id_ep);"
   ]
  },
  {
   "cell_type": "code",
   "execution_count": 57,
   "metadata": {},
   "outputs": [],
   "source": [
    "df_dh_ep = leftjoin(df_dh_pub, df_ep, on = :id_ep, matchmissing = :notequal);"
   ]
  },
  {
   "cell_type": "code",
   "execution_count": 58,
   "metadata": {},
   "outputs": [
    {
     "data": {
      "text/plain": [
       "(2587, 2587, 102, 2165)"
      ]
     },
     "execution_count": 58,
     "metadata": {},
     "output_type": "execute_result"
    }
   ],
   "source": [
    "size(df_dh_pub, 1), size(df_dh_ep, 1), count(!ismissing, df_dh_ep.gsn_id_ep), count(ismissing, df_dh_ep.gsn_id)"
   ]
  },
  {
   "cell_type": "code",
   "execution_count": 59,
   "metadata": {},
   "outputs": [
    {
     "data": {
      "text/html": [
       "<div class=\"data-frame\"><p>1 rows × 6 columns</p><table class=\"data-frame\"><thead><tr><th></th><th>id_dh</th><th>wiag_episc_id</th><th>gsn_id</th><th>givenname</th><th>familyname</th><th>id_ep</th></tr><tr><th></th><th title=\"Int32\">Int32</th><th title=\"Union{Missing, String}\">String?</th><th title=\"Union{Missing, String}\">String?</th><th title=\"Union{Missing, String}\">String?</th><th title=\"Union{Missing, String}\">String?</th><th title=\"Union{Missing, Int64}\">Int64?</th></tr></thead><tbody><tr><th>1</th><td>13324</td><td>WIAG-Pers-EPISCGatz-03761-001</td><td><em>missing</em></td><td>Johann</td><td>Brunn</td><td>3761</td></tr></tbody></table></div>"
      ],
      "text/latex": [
       "\\begin{tabular}{r|cccccc}\n",
       "\t& id\\_dh & wiag\\_episc\\_id & gsn\\_id & givenname & familyname & id\\_ep\\\\\n",
       "\t\\hline\n",
       "\t& Int32 & String? & String? & String? & String? & Int64?\\\\\n",
       "\t\\hline\n",
       "\t1 & 13324 & WIAG-Pers-EPISCGatz-03761-001 & \\emph{missing} & Johann & Brunn & 3761 \\\\\n",
       "\\end{tabular}\n"
      ],
      "text/plain": [
       "\u001b[1m1×6 DataFrame\u001b[0m\n",
       "\u001b[1m Row \u001b[0m│\u001b[1m id_dh \u001b[0m\u001b[1m wiag_episc_id                 \u001b[0m\u001b[1m gsn_id  \u001b[0m\u001b[1m givenname \u001b[0m\u001b[1m familyname \u001b[0m\u001b[1m i\u001b[0m ⋯\n",
       "\u001b[1m     \u001b[0m│\u001b[90m Int32 \u001b[0m\u001b[90m String?                       \u001b[0m\u001b[90m String? \u001b[0m\u001b[90m String?   \u001b[0m\u001b[90m String?    \u001b[0m\u001b[90m I\u001b[0m ⋯\n",
       "─────┼──────────────────────────────────────────────────────────────────────────\n",
       "   1 │ 13324  WIAG-Pers-EPISCGatz-03761-001 \u001b[90m missing \u001b[0m Johann     Brunn         ⋯\n",
       "\u001b[36m                                                                1 column omitted\u001b[0m"
      ]
     },
     "execution_count": 59,
     "metadata": {},
     "output_type": "execute_result"
    }
   ],
   "source": [
    "df_brunn = subset(df_dh_pub, :id_dh => ByRow(isequal(13324)))"
   ]
  },
  {
   "cell_type": "code",
   "execution_count": 296,
   "metadata": {},
   "outputs": [
    {
     "data": {
      "text/html": [
       "<p>DataFrameRow (6 columns)</p><div class=\"data-frame\"><table class=\"data-frame\"><thead><tr><th></th><th>id_dh</th><th>id_gs</th><th>id_ep</th><th>gsn_id</th><th>gsn_id_ep</th><th>familyname</th></tr><tr><th></th><th title=\"Int32\">Int32</th><th title=\"Union{Missing, String}\">String?</th><th title=\"Union{Missing, Int64}\">Int64?</th><th title=\"Union{Missing, String}\">String?</th><th title=\"Union{Missing, String}\">String?</th><th title=\"Union{Missing, String}\">String?</th></tr></thead><tbody><tr><th>1</th><td>13324</td><td><em>missing</em></td><td>3761</td><td><em>missing</em></td><td>059-00936-001</td><td>Brunn</td></tr></tbody></table></div>"
      ],
      "text/latex": [
       "\\begin{tabular}{r|cccccc}\n",
       "\t& id\\_dh & id\\_gs & id\\_ep & gsn\\_id & gsn\\_id\\_ep & familyname\\\\\n",
       "\t\\hline\n",
       "\t& Int32 & String? & Int64? & String? & String? & String?\\\\\n",
       "\t\\hline\n",
       "\t1 & 13324 & \\emph{missing} & 3761 & \\emph{missing} & 059-00936-001 & Brunn \\\\\n",
       "\\end{tabular}\n"
      ],
      "text/plain": [
       "\u001b[1mDataFrameRow\u001b[0m\n",
       "\u001b[1m Row \u001b[0m│\u001b[1m id_dh \u001b[0m\u001b[1m id_gs   \u001b[0m\u001b[1m id_ep  \u001b[0m\u001b[1m gsn_id  \u001b[0m\u001b[1m gsn_id_ep     \u001b[0m\u001b[1m familyname \u001b[0m\n",
       "\u001b[1m     \u001b[0m│\u001b[90m Int32 \u001b[0m\u001b[90m String? \u001b[0m\u001b[90m Int64? \u001b[0m\u001b[90m String? \u001b[0m\u001b[90m String?       \u001b[0m\u001b[90m String?    \u001b[0m\n",
       "─────┼────────────────────────────────────────────────────────────\n",
       "   1 │ 13324 \u001b[90m missing \u001b[0m   3761 \u001b[90m missing \u001b[0m 059-00936-001  Brunn"
      ]
     },
     "execution_count": 296,
     "metadata": {},
     "output_type": "execute_result"
    }
   ],
   "source": [
    "df_brunn_ep = subset(df_dh_ep, :id_ep => ByRow(isequal(3761)))\n",
    "df_brunn_ep[1, [:id_dh, :id_gs, :id_ep, :gsn_id, :gsn_id_ep, :familyname]]"
   ]
  },
  {
   "cell_type": "code",
   "execution_count": 60,
   "metadata": {},
   "outputs": [],
   "source": [
    "update_col(from, to) = ismissing(to) ? from : to;"
   ]
  },
  {
   "cell_type": "code",
   "execution_count": 61,
   "metadata": {},
   "outputs": [],
   "source": [
    "transform!(df_dh_ep, [:gsn_id_ep, :gsn_id] => ByRow(update_col) => :gsn_id);"
   ]
  },
  {
   "cell_type": "code",
   "execution_count": 348,
   "metadata": {},
   "outputs": [
    {
     "data": {
      "text/plain": [
       "2110"
      ]
     },
     "execution_count": 348,
     "metadata": {},
     "output_type": "execute_result"
    }
   ],
   "source": [
    "count(ismissing, df_dh_ep.gsn_id)"
   ]
  },
  {
   "cell_type": "code",
   "execution_count": 309,
   "metadata": {},
   "outputs": [
    {
     "data": {
      "text/html": [
       "<p>DataFrameRow (6 columns)</p><div class=\"data-frame\"><table class=\"data-frame\"><thead><tr><th></th><th>id_dh</th><th>id_gs</th><th>id_ep</th><th>gsn_id</th><th>gsn_id_ep</th><th>familyname</th></tr><tr><th></th><th title=\"Int32\">Int32</th><th title=\"Union{Missing, String}\">String?</th><th title=\"Union{Missing, Int64}\">Int64?</th><th title=\"Union{Missing, String}\">String?</th><th title=\"Union{Missing, String}\">String?</th><th title=\"Union{Missing, String}\">String?</th></tr></thead><tbody><tr><th>1</th><td>13324</td><td><em>missing</em></td><td>3761</td><td>059-00936-001</td><td>059-00936-001</td><td>Brunn</td></tr></tbody></table></div>"
      ],
      "text/latex": [
       "\\begin{tabular}{r|cccccc}\n",
       "\t& id\\_dh & id\\_gs & id\\_ep & gsn\\_id & gsn\\_id\\_ep & familyname\\\\\n",
       "\t\\hline\n",
       "\t& Int32 & String? & Int64? & String? & String? & String?\\\\\n",
       "\t\\hline\n",
       "\t1 & 13324 & \\emph{missing} & 3761 & 059-00936-001 & 059-00936-001 & Brunn \\\\\n",
       "\\end{tabular}\n"
      ],
      "text/plain": [
       "\u001b[1mDataFrameRow\u001b[0m\n",
       "\u001b[1m Row \u001b[0m│\u001b[1m id_dh \u001b[0m\u001b[1m id_gs   \u001b[0m\u001b[1m id_ep  \u001b[0m\u001b[1m gsn_id        \u001b[0m\u001b[1m gsn_id_ep     \u001b[0m\u001b[1m familyname \u001b[0m\n",
       "\u001b[1m     \u001b[0m│\u001b[90m Int32 \u001b[0m\u001b[90m String? \u001b[0m\u001b[90m Int64? \u001b[0m\u001b[90m String?       \u001b[0m\u001b[90m String?       \u001b[0m\u001b[90m String?    \u001b[0m\n",
       "─────┼──────────────────────────────────────────────────────────────────\n",
       "   1 │ 13324 \u001b[90m missing \u001b[0m   3761  059-00936-001  059-00936-001  Brunn"
      ]
     },
     "execution_count": 309,
     "metadata": {},
     "output_type": "execute_result"
    }
   ],
   "source": [
    "df_brunn_ep = subset(df_dh_ep, :id_ep => ByRow(isequal(3761)))\n",
    "df_brunn_ep[1, [:id_dh, :id_gs, :id_ep, :gsn_id, :gsn_id_ep, :familyname]]"
   ]
  },
  {
   "cell_type": "markdown",
   "metadata": {},
   "source": [
    "Domherren aus dem Digitalen Personenregister"
   ]
  },
  {
   "cell_type": "code",
   "execution_count": 62,
   "metadata": {},
   "outputs": [],
   "source": [
    "sql = \"SELECT NULL as id_dh, id as id_gs, gsn_id, \n",
    "givenname, familyname,\n",
    "NULL as wiag_episc_id, NULL as id_ep\n",
    "FROM wiag_in.cn_canon_gs WHERE status = 'online'\"\n",
    "df_gs = Wds.sql_df(sql);"
   ]
  },
  {
   "cell_type": "code",
   "execution_count": 63,
   "metadata": {},
   "outputs": [],
   "source": [
    "df_gs_gs = antijoin(df_gs, df_dh_ep, on = :gsn_id, matchmissing = :notequal);"
   ]
  },
  {
   "cell_type": "code",
   "execution_count": 64,
   "metadata": {},
   "outputs": [],
   "source": [
    "df_dh_gs = vcat(select(df_dh_ep, Not(:gsn_id_ep)), select(df_gs_gs, Not(:id_gs)));"
   ]
  },
  {
   "cell_type": "code",
   "execution_count": 65,
   "metadata": {},
   "outputs": [
    {
     "data": {
      "text/plain": [
       "(2587, 8564, 10790)"
      ]
     },
     "execution_count": 65,
     "metadata": {},
     "output_type": "execute_result"
    }
   ],
   "source": [
    "size(df_dh_ep, 1), size(df_gs, 1), size(df_dh_gs, 1)"
   ]
  },
  {
   "cell_type": "markdown",
   "metadata": {},
   "source": [
    "Ergänze `id_gs` "
   ]
  },
  {
   "cell_type": "code",
   "execution_count": 66,
   "metadata": {},
   "outputs": [],
   "source": [
    "df_dh_gs = leftjoin(df_dh_gs, select(df_gs, [:gsn_id, :id_gs]), on = :gsn_id, matchmissing = :notequal);"
   ]
  },
  {
   "cell_type": "markdown",
   "metadata": {},
   "source": [
    "Ergänze `id_ep` für Domherren aus dem Digitalen Personenregister"
   ]
  },
  {
   "cell_type": "code",
   "execution_count": 67,
   "metadata": {},
   "outputs": [],
   "source": [
    "sql = \"SELECT wiagid as id_ep_ep, gsid as gsn_id\n",
    "FROM wiag.person\n",
    "WHERE gsid IS NOT NULL AND gsid <> ''\"\n",
    "df_ep = Wds.sql_df(sql);"
   ]
  },
  {
   "cell_type": "code",
   "execution_count": 68,
   "metadata": {},
   "outputs": [],
   "source": [
    "parse_int(x) = parse(Int, x)\n",
    "transform!(df_ep, :id_ep_ep => ByRow(parse_int) => :id_ep_ep);"
   ]
  },
  {
   "cell_type": "code",
   "execution_count": 69,
   "metadata": {},
   "outputs": [],
   "source": [
    "df_dh_gs = leftjoin(df_dh_gs, df_ep, on = :gsn_id, matchmissing = :notequal);"
   ]
  },
  {
   "cell_type": "code",
   "execution_count": 70,
   "metadata": {},
   "outputs": [
    {
     "data": {
      "text/plain": [
       "620"
      ]
     },
     "execution_count": 70,
     "metadata": {},
     "output_type": "execute_result"
    }
   ],
   "source": [
    "count(!ismissing, df_dh_gs.id_ep_ep)"
   ]
  },
  {
   "cell_type": "code",
   "execution_count": 71,
   "metadata": {},
   "outputs": [],
   "source": [
    "transform!(df_dh_gs, [:id_ep_ep, :id_ep] => ByRow(update_col) => :id_ep);"
   ]
  },
  {
   "cell_type": "markdown",
   "metadata": {},
   "source": [
    "Tests"
   ]
  },
  {
   "cell_type": "code",
   "execution_count": 199,
   "metadata": {},
   "outputs": [
    {
     "data": {
      "text/plain": [
       "9-element Vector{String}:\n",
       " \"id_dh\"\n",
       " \"id_gs\"\n",
       " \"wiag_episc_id\"\n",
       " \"gsn_id\"\n",
       " \"givenname\"\n",
       " \"familyname\"\n",
       " \"id_ep\"\n",
       " \"gsn_id_ep\"\n",
       " \"id_ep_ep\""
      ]
     },
     "execution_count": 199,
     "metadata": {},
     "output_type": "execute_result"
    }
   ],
   "source": [
    "names(df_dh_gs)"
   ]
  },
  {
   "cell_type": "code",
   "execution_count": 326,
   "metadata": {},
   "outputs": [
    {
     "data": {
      "text/plain": [
       "mismatch (generic function with 1 method)"
      ]
     },
     "execution_count": 326,
     "metadata": {},
     "output_type": "execute_result"
    }
   ],
   "source": [
    "mismatch(x, y) = !ismissing(x) && !ismissing(y) && x != y"
   ]
  },
  {
   "cell_type": "code",
   "execution_count": 328,
   "metadata": {},
   "outputs": [
    {
     "data": {
      "text/html": [
       "<div class=\"data-frame\"><p>0 rows × 8 columns</p><table class=\"data-frame\"><thead><tr><th></th><th>id_dh</th><th>id_gs</th><th>wiag_episc_id</th><th>gsn_id</th><th>givenname</th><th>familyname</th><th>id_ep</th><th>id_ep_ep</th></tr><tr><th></th><th title=\"Any\">Any</th><th title=\"Any\">Any</th><th title=\"Union{Missing, String}\">String?</th><th title=\"Union{Missing, String}\">String?</th><th title=\"Union{Missing, String}\">String?</th><th title=\"Union{Missing, String}\">String?</th><th title=\"Union{Missing, Int64}\">Int64?</th><th title=\"Union{Missing, Int64}\">Int64?</th></tr></thead><tbody></tbody></table></div>"
      ],
      "text/latex": [
       "\\begin{tabular}{r|cccccccc}\n",
       "\t& id\\_dh & id\\_gs & wiag\\_episc\\_id & gsn\\_id & givenname & familyname & id\\_ep & id\\_ep\\_ep\\\\\n",
       "\t\\hline\n",
       "\t& Any & Any & String? & String? & String? & String? & Int64? & Int64?\\\\\n",
       "\t\\hline\n",
       "\\end{tabular}\n"
      ],
      "text/plain": [
       "\u001b[1m0×8 DataFrame\u001b[0m"
      ]
     },
     "execution_count": 328,
     "metadata": {},
     "output_type": "execute_result"
    }
   ],
   "source": [
    "df_test_ep = subset(df_dh_gs, [:id_ep, :id_ep_ep] => ByRow(mismatch))"
   ]
  },
  {
   "cell_type": "markdown",
   "metadata": {},
   "source": [
    "Setze `wiagid`"
   ]
  },
  {
   "cell_type": "code",
   "execution_count": 72,
   "metadata": {},
   "outputs": [
    {
     "data": {
      "text/plain": [
       "make_wiagid (generic function with 1 method)"
      ]
     },
     "execution_count": 72,
     "metadata": {},
     "output_type": "execute_result"
    }
   ],
   "source": [
    "function make_wiagid(dst, id)\n",
    "    if ismissing(id)\n",
    "        return dst\n",
    "    else\n",
    "        return \"WIAG-Pers-CANON-\" * lpad(id, 5, \"0\") * \"-001\"\n",
    "    end\n",
    "end\n",
    "    "
   ]
  },
  {
   "cell_type": "code",
   "execution_count": 73,
   "metadata": {},
   "outputs": [
    {
     "data": {
      "text/plain": [
       "\"WIAG-Pers-CANON-00005-001\""
      ]
     },
     "execution_count": 73,
     "metadata": {},
     "output_type": "execute_result"
    }
   ],
   "source": [
    "make_wiagid(missing, 5)"
   ]
  },
  {
   "cell_type": "code",
   "execution_count": 74,
   "metadata": {},
   "outputs": [],
   "source": [
    "df_dh_gs[!, :wiagid] .= missing;"
   ]
  },
  {
   "cell_type": "code",
   "execution_count": 75,
   "metadata": {},
   "outputs": [],
   "source": [
    "transform!(df_dh_gs, [:wiagid, :id_gs] => ByRow(make_wiagid) => :wiagid);"
   ]
  },
  {
   "cell_type": "code",
   "execution_count": 76,
   "metadata": {},
   "outputs": [],
   "source": [
    "transform!(df_dh_gs, [:wiagid, :id_dh] => ByRow(make_wiagid) => :wiagid);"
   ]
  },
  {
   "cell_type": "code",
   "execution_count": 77,
   "metadata": {},
   "outputs": [
    {
     "data": {
      "text/plain": [
       "make_wiagid (generic function with 1 method)"
      ]
     },
     "execution_count": 77,
     "metadata": {},
     "output_type": "execute_result"
    }
   ],
   "source": [
    "function make_wiagid(dst, id)\n",
    "    if ismissing(id)\n",
    "        return dst\n",
    "    else\n",
    "        return \"WIAG-Pers-EPISCGatz-\" * lpad(id, 5, \"0\") * \"-001\"\n",
    "    end\n",
    "end"
   ]
  },
  {
   "cell_type": "code",
   "execution_count": 78,
   "metadata": {},
   "outputs": [],
   "source": [
    "transform!(df_dh_gs, [:wiagid, :id_ep] => ByRow(make_wiagid) => :wiagid);"
   ]
  },
  {
   "cell_type": "code",
   "execution_count": 83,
   "metadata": {},
   "outputs": [
    {
     "data": {
      "text/plain": [
       "6-element Vector{Symbol}:\n",
       " :id_dh\n",
       " :id_gs\n",
       " :id_ep\n",
       " :wiagid\n",
       " :givenname\n",
       " :familyname"
      ]
     },
     "execution_count": 83,
     "metadata": {},
     "output_type": "execute_result"
    }
   ],
   "source": [
    "columns = [:id_dh, :id_gs, :id_ep, :wiagid, :givenname, :familyname]"
   ]
  },
  {
   "cell_type": "code",
   "execution_count": 84,
   "metadata": {},
   "outputs": [
    {
     "name": "stderr",
     "output_type": "stream",
     "text": [
      "┌ Info: 10000\n",
      "└ @ WiagDataSetup C:\\Users\\georg\\Documents\\projekte\\WiagDataSetup.jl\\src\\WiagDataSetup.jl:1179\n",
      "┌ Info: Rows inserted: 10790\n",
      "└ @ WiagDataSetup C:\\Users\\georg\\Documents\\projekte\\WiagDataSetup.jl\\src\\WiagDataSetup.jl:1202\n"
     ]
    },
    {
     "data": {
      "text/plain": [
       "10790"
      ]
     },
     "execution_count": 84,
     "metadata": {},
     "output_type": "execute_result"
    }
   ],
   "source": [
    "table_name = \"cn_online\"\n",
    "Wds.filltable!(table_name, select(df_dh_gs, columns), clear_table = true)"
   ]
  },
  {
   "cell_type": "markdown",
   "metadata": {},
   "source": [
    "*2022-02-21*\n",
    "\n",
    "SQL\n",
    "``` sql\n",
    "select count(*) from cn_online;\n",
    "```\n",
    "10595"
   ]
  },
  {
   "cell_type": "markdown",
   "metadata": {},
   "source": [
    "### `cn_namelookup`\n",
    "``` sql\n",
    "CREATE TABLE cn_namelookup LIKE wiag.cn_namelookup;\n",
    "```"
   ]
  },
  {
   "cell_type": "code",
   "execution_count": 85,
   "metadata": {},
   "outputs": [
    {
     "name": "stderr",
     "output_type": "stream",
     "text": [
      "┌ Info: clear \n",
      "│   tbllookup = cn_namelookup\n",
      "└ @ WiagDataSetup C:\\Users\\georg\\Documents\\projekte\\WiagDataSetup.jl\\src\\WiagDataSetup.jl:691\n",
      "┌ Info: 400\n",
      "└ @ WiagDataSetup C:\\Users\\georg\\Documents\\projekte\\WiagDataSetup.jl\\src\\WiagDataSetup.jl:753\n",
      "┌ Info: 800\n",
      "└ @ WiagDataSetup C:\\Users\\georg\\Documents\\projekte\\WiagDataSetup.jl\\src\\WiagDataSetup.jl:753\n",
      "┌ Info: 1200\n",
      "└ @ WiagDataSetup C:\\Users\\georg\\Documents\\projekte\\WiagDataSetup.jl\\src\\WiagDataSetup.jl:753\n",
      "┌ Info: 1600\n",
      "└ @ WiagDataSetup C:\\Users\\georg\\Documents\\projekte\\WiagDataSetup.jl\\src\\WiagDataSetup.jl:753\n",
      "┌ Info: 2000\n",
      "└ @ WiagDataSetup C:\\Users\\georg\\Documents\\projekte\\WiagDataSetup.jl\\src\\WiagDataSetup.jl:753\n",
      "┌ Info: 2400\n",
      "└ @ WiagDataSetup C:\\Users\\georg\\Documents\\projekte\\WiagDataSetup.jl\\src\\WiagDataSetup.jl:753\n",
      "┌ Info: 2800\n",
      "└ @ WiagDataSetup C:\\Users\\georg\\Documents\\projekte\\WiagDataSetup.jl\\src\\WiagDataSetup.jl:753\n",
      "┌ Info: 3200\n",
      "└ @ WiagDataSetup C:\\Users\\georg\\Documents\\projekte\\WiagDataSetup.jl\\src\\WiagDataSetup.jl:753\n",
      "┌ Info: 3600\n",
      "└ @ WiagDataSetup C:\\Users\\georg\\Documents\\projekte\\WiagDataSetup.jl\\src\\WiagDataSetup.jl:753\n",
      "┌ Info: 4000\n",
      "└ @ WiagDataSetup C:\\Users\\georg\\Documents\\projekte\\WiagDataSetup.jl\\src\\WiagDataSetup.jl:753\n",
      "┌ Info: 4400\n",
      "└ @ WiagDataSetup C:\\Users\\georg\\Documents\\projekte\\WiagDataSetup.jl\\src\\WiagDataSetup.jl:753\n",
      "┌ Info: 4800\n",
      "└ @ WiagDataSetup C:\\Users\\georg\\Documents\\projekte\\WiagDataSetup.jl\\src\\WiagDataSetup.jl:753\n",
      "┌ Info: 5200\n",
      "└ @ WiagDataSetup C:\\Users\\georg\\Documents\\projekte\\WiagDataSetup.jl\\src\\WiagDataSetup.jl:753\n",
      "┌ Info: 5600\n",
      "└ @ WiagDataSetup C:\\Users\\georg\\Documents\\projekte\\WiagDataSetup.jl\\src\\WiagDataSetup.jl:753\n",
      "┌ Info: 6000\n",
      "└ @ WiagDataSetup C:\\Users\\georg\\Documents\\projekte\\WiagDataSetup.jl\\src\\WiagDataSetup.jl:753\n",
      "┌ Info: 6400\n",
      "└ @ WiagDataSetup C:\\Users\\georg\\Documents\\projekte\\WiagDataSetup.jl\\src\\WiagDataSetup.jl:753\n",
      "┌ Info: 6800\n",
      "└ @ WiagDataSetup C:\\Users\\georg\\Documents\\projekte\\WiagDataSetup.jl\\src\\WiagDataSetup.jl:753\n",
      "┌ Info: 7200\n",
      "└ @ WiagDataSetup C:\\Users\\georg\\Documents\\projekte\\WiagDataSetup.jl\\src\\WiagDataSetup.jl:753\n",
      "┌ Info: 7600\n",
      "└ @ WiagDataSetup C:\\Users\\georg\\Documents\\projekte\\WiagDataSetup.jl\\src\\WiagDataSetup.jl:753\n",
      "┌ Info: 8000\n",
      "└ @ WiagDataSetup C:\\Users\\georg\\Documents\\projekte\\WiagDataSetup.jl\\src\\WiagDataSetup.jl:753\n",
      "┌ Info: 8400\n",
      "└ @ WiagDataSetup C:\\Users\\georg\\Documents\\projekte\\WiagDataSetup.jl\\src\\WiagDataSetup.jl:753\n",
      "┌ Info: 8800\n",
      "└ @ WiagDataSetup C:\\Users\\georg\\Documents\\projekte\\WiagDataSetup.jl\\src\\WiagDataSetup.jl:753\n",
      "┌ Info: 9200\n",
      "└ @ WiagDataSetup C:\\Users\\georg\\Documents\\projekte\\WiagDataSetup.jl\\src\\WiagDataSetup.jl:753\n",
      "┌ Info: 9600\n",
      "└ @ WiagDataSetup C:\\Users\\georg\\Documents\\projekte\\WiagDataSetup.jl\\src\\WiagDataSetup.jl:753\n",
      "┌ Info: 10000\n",
      "└ @ WiagDataSetup C:\\Users\\georg\\Documents\\projekte\\WiagDataSetup.jl\\src\\WiagDataSetup.jl:753\n",
      "┌ Info: 10400\n",
      "└ @ WiagDataSetup C:\\Users\\georg\\Documents\\projekte\\WiagDataSetup.jl\\src\\WiagDataSetup.jl:753\n"
     ]
    },
    {
     "data": {
      "text/plain": [
       "10790"
      ]
     },
     "execution_count": 85,
     "metadata": {},
     "output_type": "execute_result"
    }
   ],
   "source": [
    "Wds.fillcnnamelookup(\"cn_namelookup\", \"cn_online\", \"cn_canon\", \"cn_canon_gs\")"
   ]
  },
  {
   "cell_type": "markdown",
   "metadata": {},
   "source": [
    "### `cn_office.location_show`"
   ]
  },
  {
   "cell_type": "code",
   "execution_count": 195,
   "metadata": {},
   "outputs": [
    {
     "name": "stderr",
     "output_type": "stream",
     "text": [
      "┌ Info: 1000\n",
      "└ @ WiagDataSetup C:\\Users\\georg\\Documents\\projekte\\WiagDataSetup.jl\\src\\WiagDataSetup.jl:565\n",
      "┌ Info: 2000\n",
      "└ @ WiagDataSetup C:\\Users\\georg\\Documents\\projekte\\WiagDataSetup.jl\\src\\WiagDataSetup.jl:565\n",
      "┌ Info: 3000\n",
      "└ @ WiagDataSetup C:\\Users\\georg\\Documents\\projekte\\WiagDataSetup.jl\\src\\WiagDataSetup.jl:565\n",
      "┌ Info: 4000\n",
      "└ @ WiagDataSetup C:\\Users\\georg\\Documents\\projekte\\WiagDataSetup.jl\\src\\WiagDataSetup.jl:565\n",
      "┌ Info: 5000\n",
      "└ @ WiagDataSetup C:\\Users\\georg\\Documents\\projekte\\WiagDataSetup.jl\\src\\WiagDataSetup.jl:565\n"
     ]
    },
    {
     "data": {
      "text/plain": [
       "5662"
      ]
     },
     "execution_count": 195,
     "metadata": {},
     "output_type": "execute_result"
    }
   ],
   "source": [
    "Wds.fillofficelocation(\"cn_office\", \"monastery_location\", \"wiag.place\", \"cn_online\", \"id_dh\")"
   ]
  },
  {
   "cell_type": "code",
   "execution_count": 196,
   "metadata": {},
   "outputs": [
    {
     "name": "stderr",
     "output_type": "stream",
     "text": [
      "┌ Info: 1000\n",
      "└ @ WiagDataSetup C:\\Users\\georg\\Documents\\projekte\\WiagDataSetup.jl\\src\\WiagDataSetup.jl:565\n",
      "┌ Info: 2000\n",
      "└ @ WiagDataSetup C:\\Users\\georg\\Documents\\projekte\\WiagDataSetup.jl\\src\\WiagDataSetup.jl:565\n",
      "┌ Info: 3000\n",
      "└ @ WiagDataSetup C:\\Users\\georg\\Documents\\projekte\\WiagDataSetup.jl\\src\\WiagDataSetup.jl:565\n",
      "┌ Info: 4000\n",
      "└ @ WiagDataSetup C:\\Users\\georg\\Documents\\projekte\\WiagDataSetup.jl\\src\\WiagDataSetup.jl:565\n",
      "┌ Info: 5000\n",
      "└ @ WiagDataSetup C:\\Users\\georg\\Documents\\projekte\\WiagDataSetup.jl\\src\\WiagDataSetup.jl:565\n",
      "┌ Info: 6000\n",
      "└ @ WiagDataSetup C:\\Users\\georg\\Documents\\projekte\\WiagDataSetup.jl\\src\\WiagDataSetup.jl:565\n",
      "┌ Info: 7000\n",
      "└ @ WiagDataSetup C:\\Users\\georg\\Documents\\projekte\\WiagDataSetup.jl\\src\\WiagDataSetup.jl:565\n",
      "┌ Info: 8000\n",
      "└ @ WiagDataSetup C:\\Users\\georg\\Documents\\projekte\\WiagDataSetup.jl\\src\\WiagDataSetup.jl:565\n",
      "┌ Info: 9000\n",
      "└ @ WiagDataSetup C:\\Users\\georg\\Documents\\projekte\\WiagDataSetup.jl\\src\\WiagDataSetup.jl:565\n",
      "┌ Info: 10000\n",
      "└ @ WiagDataSetup C:\\Users\\georg\\Documents\\projekte\\WiagDataSetup.jl\\src\\WiagDataSetup.jl:565\n",
      "┌ Info: 11000\n",
      "└ @ WiagDataSetup C:\\Users\\georg\\Documents\\projekte\\WiagDataSetup.jl\\src\\WiagDataSetup.jl:565\n",
      "┌ Info: 12000\n",
      "└ @ WiagDataSetup C:\\Users\\georg\\Documents\\projekte\\WiagDataSetup.jl\\src\\WiagDataSetup.jl:565\n",
      "┌ Info: 13000\n",
      "└ @ WiagDataSetup C:\\Users\\georg\\Documents\\projekte\\WiagDataSetup.jl\\src\\WiagDataSetup.jl:565\n",
      "┌ Info: 14000\n",
      "└ @ WiagDataSetup C:\\Users\\georg\\Documents\\projekte\\WiagDataSetup.jl\\src\\WiagDataSetup.jl:565\n"
     ]
    },
    {
     "data": {
      "text/plain": [
       "14969"
      ]
     },
     "execution_count": 196,
     "metadata": {},
     "output_type": "execute_result"
    }
   ],
   "source": [
    "Wds.fillofficelocation(\"cn_office_gs\", \"monastery_location\", \"wiag.place\", \"cn_online\", \"id_gs\")"
   ]
  },
  {
   "cell_type": "markdown",
   "metadata": {},
   "source": [
    "4 Orte können nicht bestimmt werden, weil die Amtszeit nicht zu einem angegebenen Zeitraum für das Kloster passt. (2021-11-23)"
   ]
  },
  {
   "cell_type": "markdown",
   "metadata": {},
   "source": [
    "### `cn_officelookup`"
   ]
  },
  {
   "cell_type": "markdown",
   "metadata": {},
   "source": [
    "Daten aus der Domherrendatenbank"
   ]
  },
  {
   "cell_type": "markdown",
   "metadata": {},
   "source": [
    "`cn_office.id_monastery` bezieht sich auf `monastery.wiagid` nicht mehr auf `monastery.id_monastery`. `monastery.wiagid` ist gleichzeitig die Nummer in der Klosterdatenbank."
   ]
  },
  {
   "cell_type": "code",
   "execution_count": 11,
   "metadata": {},
   "outputs": [],
   "source": [
    "sql = \"SELECT co.id AS id_online, id_office_norm, office_name, \" *\n",
    "\"location_show AS location_name, id_monastery, archdeacon_territory, \" *\n",
    "\"o.numdate_start AS numdate_start, o.numdate_end AS numdate_end, \" *\n",
    "\"o.time_sortkey AS time_sortkey, \" *\n",
    "\"ds.name as domstift \" *\n",
    "\"FROM cn_office AS o \" * \n",
    "\"JOIN cn_online AS co ON o.id_canon = co.id_dh \" *\n",
    "\"LEFT JOIN wiag.domstift AS ds ON o.id_monastery = ds.gs_id\"\n",
    "df_ol_dh = Wds.sql_df(sql);"
   ]
  },
  {
   "cell_type": "code",
   "execution_count": 12,
   "metadata": {},
   "outputs": [],
   "source": [
    "Wds.clean_up!(df_ol_dh)"
   ]
  },
  {
   "cell_type": "code",
   "execution_count": 13,
   "metadata": {},
   "outputs": [
    {
     "data": {
      "text/plain": [
       "(5679, 10)"
      ]
     },
     "execution_count": 13,
     "metadata": {},
     "output_type": "execute_result"
    }
   ],
   "source": [
    "size(df_ol_dh)"
   ]
  },
  {
   "cell_type": "code",
   "execution_count": 14,
   "metadata": {},
   "outputs": [
    {
     "name": "stderr",
     "output_type": "stream",
     "text": [
      "┌ Info: Rows inserted: 5679\n",
      "└ @ WiagDataSetup C:\\Users\\georg\\Documents\\projekte\\WiagDataSetup.jl\\src\\WiagDataSetup.jl:1202\n"
     ]
    },
    {
     "data": {
      "text/plain": [
       "5679"
      ]
     },
     "execution_count": 14,
     "metadata": {},
     "output_type": "execute_result"
    }
   ],
   "source": [
    "table_name = \"cn_officelookup\"\n",
    "Wds.filltable!(table_name, select(df_ol_dh, Not(:id_office_norm)), clear_table = true)"
   ]
  },
  {
   "cell_type": "markdown",
   "metadata": {},
   "source": [
    "Namen der normierten Ämter"
   ]
  },
  {
   "cell_type": "code",
   "execution_count": 15,
   "metadata": {},
   "outputs": [],
   "source": [
    "sql = \"SELECT id, office_name as office_name_norm FROM cn_office_norm\"\n",
    "df_occ_norm = Wds.sql_df(sql);"
   ]
  },
  {
   "cell_type": "code",
   "execution_count": 16,
   "metadata": {},
   "outputs": [],
   "source": [
    "df_ol_dh_1 = filter(:id_office_norm => !ismissing, df_ol_dh)\n",
    "df_ol_dh_2 = leftjoin(df_ol_dh_1, df_occ_norm, on = :id_office_norm => :id);"
   ]
  },
  {
   "cell_type": "code",
   "execution_count": 17,
   "metadata": {},
   "outputs": [],
   "source": [
    "df_ol_dh_on = filter([:office_name, :office_name_norm] => !isequal, df_ol_dh_2);"
   ]
  },
  {
   "cell_type": "code",
   "execution_count": 18,
   "metadata": {},
   "outputs": [],
   "source": [
    "rename!(df_ol_dh_on, [:office_name => :office_name_orig, :office_name_norm => :office_name]);"
   ]
  },
  {
   "cell_type": "code",
   "execution_count": 19,
   "metadata": {},
   "outputs": [
    {
     "data": {
      "text/html": [
       "<div class=\"data-frame\"><p>8 rows × 2 columns</p><table class=\"data-frame\"><thead><tr><th></th><th>office_name</th><th>office_name_orig</th></tr><tr><th></th><th title=\"Union{Missing, String}\">String?</th><th title=\"Union{Missing, String}\">String?</th></tr></thead><tbody><tr><th>1</th><td>Propst, Anwärter</td><td><em>missing</em></td></tr><tr><th>2</th><td>Domkantor, Anwärter</td><td><em>missing</em></td></tr><tr><th>3</th><td>Dompropst, Anwärter</td><td><em>missing</em></td></tr><tr><th>4</th><td>Domscholaster</td><td><em>missing</em></td></tr><tr><th>5</th><td>Kanoniker, Anwärter</td><td><em>missing</em></td></tr><tr><th>6</th><td>Domdekan</td><td>Domdechant</td></tr><tr><th>7</th><td>Domkellner</td><td>Domkellerar</td></tr><tr><th>8</th><td>Archidiakon</td><td>Archdiakon Elze</td></tr></tbody></table></div>"
      ],
      "text/latex": [
       "\\begin{tabular}{r|cc}\n",
       "\t& office\\_name & office\\_name\\_orig\\\\\n",
       "\t\\hline\n",
       "\t& String? & String?\\\\\n",
       "\t\\hline\n",
       "\t1 & Propst, Anwärter & \\emph{missing} \\\\\n",
       "\t2 & Domkantor, Anwärter & \\emph{missing} \\\\\n",
       "\t3 & Dompropst, Anwärter & \\emph{missing} \\\\\n",
       "\t4 & Domscholaster & \\emph{missing} \\\\\n",
       "\t5 & Kanoniker, Anwärter & \\emph{missing} \\\\\n",
       "\t6 & Domdekan & Domdechant \\\\\n",
       "\t7 & Domkellner & Domkellerar \\\\\n",
       "\t8 & Archidiakon & Archdiakon Elze \\\\\n",
       "\\end{tabular}\n"
      ],
      "text/plain": [
       "\u001b[1m8×2 DataFrame\u001b[0m\n",
       "\u001b[1m Row \u001b[0m│\u001b[1m office_name         \u001b[0m\u001b[1m office_name_orig \u001b[0m\n",
       "\u001b[1m     \u001b[0m│\u001b[90m String?             \u001b[0m\u001b[90m String?          \u001b[0m\n",
       "─────┼───────────────────────────────────────\n",
       "   1 │ Propst, Anwärter    \u001b[90m missing          \u001b[0m\n",
       "   2 │ Domkantor, Anwärter \u001b[90m missing          \u001b[0m\n",
       "   3 │ Dompropst, Anwärter \u001b[90m missing          \u001b[0m\n",
       "   4 │ Domscholaster       \u001b[90m missing          \u001b[0m\n",
       "   5 │ Kanoniker, Anwärter \u001b[90m missing          \u001b[0m\n",
       "   6 │ Domdekan             Domdechant\n",
       "   7 │ Domkellner           Domkellerar\n",
       "   8 │ Archidiakon          Archdiakon Elze"
      ]
     },
     "execution_count": 19,
     "metadata": {},
     "output_type": "execute_result"
    }
   ],
   "source": [
    "unique(df_ol_dh_on[:, [:office_name, :office_name_orig]])[8:15, :]"
   ]
  },
  {
   "cell_type": "code",
   "execution_count": 20,
   "metadata": {},
   "outputs": [
    {
     "name": "stderr",
     "output_type": "stream",
     "text": [
      "┌ Info: Rows inserted: 477\n",
      "└ @ WiagDataSetup C:\\Users\\georg\\Documents\\projekte\\WiagDataSetup.jl\\src\\WiagDataSetup.jl:1202\n"
     ]
    },
    {
     "data": {
      "text/plain": [
       "477"
      ]
     },
     "execution_count": 20,
     "metadata": {},
     "output_type": "execute_result"
    }
   ],
   "source": [
    "table_name = \"cn_officelookup\"\n",
    "Wds.filltable!(table_name, select(df_ol_dh_on, Not([:id_office_norm, :office_name_orig])), clear_table = false)"
   ]
  },
  {
   "cell_type": "markdown",
   "metadata": {},
   "source": [
    "Domherren aus dem Digitalen Personenregister"
   ]
  },
  {
   "cell_type": "code",
   "execution_count": 21,
   "metadata": {},
   "outputs": [],
   "source": [
    "sql = \"SELECT co.id AS id_online, office_name, \" *\n",
    "\"location_show AS location_name, id_monastery, archdeacon_territory, \" *\n",
    "\"o.numdate_start AS numdate_start, o.numdate_end AS numdate_end, \" *\n",
    "\"o.time_sortkey AS time_sortkey, \" *\n",
    "\"ds.name as domstift \" *\n",
    "\"FROM cn_office_gs AS o \" * \n",
    "\"JOIN cn_online AS co ON o.id_canon = co.id_gs \" *\n",
    "\"LEFT JOIN wiag.domstift AS ds ON o.id_monastery = ds.gs_id\"\n",
    "df_ol_gs = Wds.sql_df(sql);"
   ]
  },
  {
   "cell_type": "code",
   "execution_count": 22,
   "metadata": {},
   "outputs": [],
   "source": [
    "Wds.clean_up!(df_ol_gs)"
   ]
  },
  {
   "cell_type": "markdown",
   "metadata": {},
   "source": [
    "Info"
   ]
  },
  {
   "cell_type": "code",
   "execution_count": 192,
   "metadata": {},
   "outputs": [],
   "source": [
    "df_ol_gs_ds = filter(:domstift => !ismissing, df_ol_gs);"
   ]
  },
  {
   "cell_type": "code",
   "execution_count": 193,
   "metadata": {},
   "outputs": [
    {
     "data": {
      "text/html": [
       "<div class=\"data-frame\"><p>7 rows × 3 columns</p><table class=\"data-frame\"><thead><tr><th></th><th>id_online</th><th>office_name</th><th>domstift</th></tr><tr><th></th><th title=\"Int32\">Int32</th><th title=\"String\">String</th><th title=\"Union{Missing, String}\">String?</th></tr></thead><tbody><tr><th>1</th><td>168004</td><td>Domherr</td><td>Paderborn</td></tr><tr><th>2</th><td>164434</td><td>Domherr</td><td>Havelberg</td></tr><tr><th>3</th><td>164412</td><td>Domherr</td><td>Havelberg</td></tr><tr><th>4</th><td>168002</td><td>Domherr</td><td>Paderborn</td></tr><tr><th>5</th><td>165977</td><td>Domherr</td><td>Osnabrück</td></tr><tr><th>6</th><td>164265</td><td>Domherr</td><td>Osnabrück</td></tr><tr><th>7</th><td>165933</td><td>Domherr</td><td>Osnabrück</td></tr></tbody></table></div>"
      ],
      "text/latex": [
       "\\begin{tabular}{r|ccc}\n",
       "\t& id\\_online & office\\_name & domstift\\\\\n",
       "\t\\hline\n",
       "\t& Int32 & String & String?\\\\\n",
       "\t\\hline\n",
       "\t1 & 168004 & Domherr & Paderborn \\\\\n",
       "\t2 & 164434 & Domherr & Havelberg \\\\\n",
       "\t3 & 164412 & Domherr & Havelberg \\\\\n",
       "\t4 & 168002 & Domherr & Paderborn \\\\\n",
       "\t5 & 165977 & Domherr & Osnabrück \\\\\n",
       "\t6 & 164265 & Domherr & Osnabrück \\\\\n",
       "\t7 & 165933 & Domherr & Osnabrück \\\\\n",
       "\\end{tabular}\n"
      ],
      "text/plain": [
       "\u001b[1m7×3 DataFrame\u001b[0m\n",
       "\u001b[1m Row \u001b[0m│\u001b[1m id_online \u001b[0m\u001b[1m office_name \u001b[0m\u001b[1m domstift  \u001b[0m\n",
       "\u001b[1m     \u001b[0m│\u001b[90m Int32     \u001b[0m\u001b[90m String      \u001b[0m\u001b[90m String?   \u001b[0m\n",
       "─────┼───────────────────────────────────\n",
       "   1 │    168004  Domherr      Paderborn\n",
       "   2 │    164434  Domherr      Havelberg\n",
       "   3 │    164412  Domherr      Havelberg\n",
       "   4 │    168002  Domherr      Paderborn\n",
       "   5 │    165977  Domherr      Osnabrück\n",
       "   6 │    164265  Domherr      Osnabrück\n",
       "   7 │    165933  Domherr      Osnabrück"
      ]
     },
     "execution_count": 193,
     "metadata": {},
     "output_type": "execute_result"
    }
   ],
   "source": [
    "df_ol_gs_ds[20:26, [:id_online, :office_name, :domstift]]"
   ]
  },
  {
   "cell_type": "code",
   "execution_count": 23,
   "metadata": {},
   "outputs": [
    {
     "name": "stderr",
     "output_type": "stream",
     "text": [
      "┌ Info: 10000\n",
      "└ @ WiagDataSetup C:\\Users\\georg\\Documents\\projekte\\WiagDataSetup.jl\\src\\WiagDataSetup.jl:1179\n",
      "┌ Info: Rows inserted: 14991\n",
      "└ @ WiagDataSetup C:\\Users\\georg\\Documents\\projekte\\WiagDataSetup.jl\\src\\WiagDataSetup.jl:1202\n"
     ]
    },
    {
     "data": {
      "text/plain": [
       "14991"
      ]
     },
     "execution_count": 23,
     "metadata": {},
     "output_type": "execute_result"
    }
   ],
   "source": [
    "table_name = \"cn_officelookup\"\n",
    "Wds.filltable!(table_name, df_ol_gs, clear_table = false)"
   ]
  },
  {
   "cell_type": "markdown",
   "metadata": {},
   "source": [
    "### `cn_era`\n",
    "Struktur: `id_online, domstift, era_start, era_end`  \n",
    "Es gibt globale Einträge mit `domstift = 'all'` und Einträge pro Domstift. Diese fassen jeweils den Zeitraum pro Domstift zusammen und schließen Einträge ohne Datumsangabe aus. In Doctrine lässt sich das nicht formulieren, da keine Tabelle verknüpft werden kann (join), die aus einer eigenen Abfrage mit Gruppierung entsteht."
   ]
  },
  {
   "cell_type": "markdown",
   "metadata": {},
   "source": [
    "global"
   ]
  },
  {
   "cell_type": "markdown",
   "metadata": {},
   "source": [
    "Personendatenbank"
   ]
  },
  {
   "cell_type": "code",
   "execution_count": 128,
   "metadata": {},
   "outputs": [],
   "source": [
    "sql = \"SELECT co.id AS id_online, co.id_gs, date_hist_first AS era_start, date_hist_last AS era_end, \" *\n",
    "\"numdate_birth AS numdate_birth_gs, numdate_death AS numdate_death_gs \" *\n",
    "\"FROM cn_online AS co JOIN cn_canon_gs AS c ON co.id_gs = c.id \" *\n",
    "\"WHERE status = 'online'\"\n",
    "df_era_gs = Wds.sql_df(sql);"
   ]
  },
  {
   "cell_type": "markdown",
   "metadata": {},
   "source": [
    "Amtsdaten"
   ]
  },
  {
   "cell_type": "code",
   "execution_count": 129,
   "metadata": {},
   "outputs": [],
   "source": [
    "sql = \"SELECT id_canon as id_gs, min(numdate_start) AS numdate_start_gs, max(numdate_end) AS numdate_end_gs \" *\n",
    "\"FROM cn_office_gs GROUP BY id_canon\"\n",
    "df_o_gs = Wds.sql_df(sql);"
   ]
  },
  {
   "cell_type": "code",
   "execution_count": 130,
   "metadata": {},
   "outputs": [
    {
     "data": {
      "text/plain": [
       "((8564, 6), (8491, 3))"
      ]
     },
     "execution_count": 130,
     "metadata": {},
     "output_type": "execute_result"
    }
   ],
   "source": [
    "size(df_era_gs), size(df_o_gs)"
   ]
  },
  {
   "cell_type": "code",
   "execution_count": 131,
   "metadata": {},
   "outputs": [],
   "source": [
    "df_era_gs = leftjoin(df_era_gs, df_o_gs, on = :id_gs);"
   ]
  },
  {
   "cell_type": "code",
   "execution_count": 132,
   "metadata": {},
   "outputs": [
    {
     "data": {
      "text/plain": [
       "(8564, 8)"
      ]
     },
     "execution_count": 132,
     "metadata": {},
     "output_type": "execute_result"
    }
   ],
   "source": [
    "size(df_era_gs)"
   ]
  },
  {
   "cell_type": "markdown",
   "metadata": {},
   "source": [
    "Domherrendatenbank"
   ]
  },
  {
   "cell_type": "code",
   "execution_count": 133,
   "metadata": {},
   "outputs": [],
   "source": [
    "sql = \"SELECT co.id AS id_online, co.id_dh, date_hist_first, date_hist_last, \" *\n",
    "\"numdate_birth AS numdate_birth_dh, numdate_death AS numdate_death_dh \" *\n",
    "\"FROM cn_online AS co JOIN cn_canon AS c ON co.id_dh = c.id \" *\n",
    "\"WHERE status = 'online'\"\n",
    "df_era_dh = Wds.sql_df(sql);"
   ]
  },
  {
   "cell_type": "markdown",
   "metadata": {},
   "source": [
    "Amtsdaten"
   ]
  },
  {
   "cell_type": "code",
   "execution_count": 134,
   "metadata": {},
   "outputs": [],
   "source": [
    "sql = \"SELECT id_canon as id_dh, min(numdate_start) AS numdate_start_dh, max(numdate_end) AS numdate_end_dh \" *\n",
    "\"FROM cn_office GROUP BY id_canon\"\n",
    "df_o_dh = Wds.sql_df(sql);"
   ]
  },
  {
   "cell_type": "code",
   "execution_count": 135,
   "metadata": {},
   "outputs": [
    {
     "data": {
      "text/plain": [
       "((2587, 6), (2587, 3))"
      ]
     },
     "execution_count": 135,
     "metadata": {},
     "output_type": "execute_result"
    }
   ],
   "source": [
    "size(df_era_dh), size(df_o_dh)"
   ]
  },
  {
   "cell_type": "code",
   "execution_count": 136,
   "metadata": {},
   "outputs": [],
   "source": [
    "df_era_dh = leftjoin(df_era_dh, df_o_dh, on = :id_dh);"
   ]
  },
  {
   "cell_type": "markdown",
   "metadata": {},
   "source": [
    "Zusammenführen"
   ]
  },
  {
   "cell_type": "code",
   "execution_count": 137,
   "metadata": {},
   "outputs": [],
   "source": [
    "df_era = outerjoin(df_era_gs, df_era_dh, on = :id_online);"
   ]
  },
  {
   "cell_type": "code",
   "execution_count": 37,
   "metadata": {},
   "outputs": [
    {
     "data": {
      "text/plain": [
       "(10595, 15)"
      ]
     },
     "execution_count": 37,
     "metadata": {},
     "output_type": "execute_result"
    }
   ],
   "source": [
    "size(df_era)"
   ]
  },
  {
   "cell_type": "markdown",
   "metadata": {},
   "source": [
    "Finde Minima und Maxima"
   ]
  },
  {
   "cell_type": "code",
   "execution_count": 138,
   "metadata": {},
   "outputs": [
    {
     "data": {
      "text/plain": [
       "valid_min (generic function with 1 method)"
      ]
     },
     "execution_count": 138,
     "metadata": {},
     "output_type": "execute_result"
    }
   ],
   "source": [
    "function valid_max(x, x_cmp...)\n",
    "    for x_i in x_cmp\n",
    "        x = ismissing(x_i) ? x : (ismissing(x) ? x_i : max(x, x_i))\n",
    "    end\n",
    "    return x\n",
    "end\n",
    "function valid_min(x, x_cmp...)\n",
    "    for x_i in x_cmp\n",
    "        x = ismissing(x_i) ? x : (ismissing(x) ? x_i : min(x, x_i))\n",
    "    end\n",
    "    return x\n",
    "end"
   ]
  },
  {
   "cell_type": "code",
   "execution_count": 139,
   "metadata": {},
   "outputs": [],
   "source": [
    "col_min = [:era_start, :numdate_start_gs, :numdate_start_dh, :date_hist_first]\n",
    "transform!(df_era, col_min => ByRow(valid_min) => :era_start);"
   ]
  },
  {
   "cell_type": "code",
   "execution_count": 140,
   "metadata": {},
   "outputs": [],
   "source": [
    "col_max = [:era_end, :numdate_end_gs, :numdate_end_dh, :date_hist_last]\n",
    "transform!(df_era, col_max => ByRow(valid_max) => :era_end);"
   ]
  },
  {
   "cell_type": "markdown",
   "metadata": {},
   "source": [
    "Info"
   ]
  },
  {
   "cell_type": "code",
   "execution_count": 170,
   "metadata": {},
   "outputs": [],
   "source": [
    "df_info = filter(:id_online => in(22614:22619), df_era);"
   ]
  },
  {
   "cell_type": "code",
   "execution_count": 171,
   "metadata": {},
   "outputs": [
    {
     "data": {
      "text/html": [
       "<div class=\"data-frame\"><p>0 rows × 9 columns (omitted printing of 2 columns)</p><table class=\"data-frame\"><thead><tr><th></th><th>id_online</th><th>id_dh</th><th>id_gs</th><th>numdate_birth_gs</th><th>numdate_birth_dh</th><th>era_start</th><th>numdate_start_gs</th></tr><tr><th></th><th title=\"Int32\">Int32</th><th title=\"Union{Missing, Int32}\">Int32?</th><th title=\"Union{Missing, Int32}\">Int32?</th><th title=\"Union{Missing, Int32}\">Int32?</th><th title=\"Union{Missing, Int32}\">Int32?</th><th title=\"Union{Missing, Int32}\">Int32?</th><th title=\"Union{Missing, Int32}\">Int32?</th></tr></thead><tbody></tbody></table></div>"
      ],
      "text/latex": [
       "\\begin{tabular}{r|cccccccc}\n",
       "\t& id\\_online & id\\_dh & id\\_gs & numdate\\_birth\\_gs & numdate\\_birth\\_dh & era\\_start & numdate\\_start\\_gs & \\\\\n",
       "\t\\hline\n",
       "\t& Int32 & Int32? & Int32? & Int32? & Int32? & Int32? & Int32? & \\\\\n",
       "\t\\hline\n",
       "\\end{tabular}\n"
      ],
      "text/plain": [
       "\u001b[1m0×9 DataFrame\u001b[0m"
      ]
     },
     "execution_count": 171,
     "metadata": {},
     "output_type": "execute_result"
    }
   ],
   "source": [
    "df_info[:, [:id_online, :id_dh, :id_gs, :numdate_birth_gs, :numdate_birth_dh, col_min...]]"
   ]
  },
  {
   "cell_type": "code",
   "execution_count": 141,
   "metadata": {},
   "outputs": [],
   "source": [
    "ne_maybe(x, y) = (ismissing(x) || ismissing(y)) ? false : x != y\n",
    "df_info = filter([:era_start, :numdate_start_dh] => ne_maybe, df_era);"
   ]
  },
  {
   "cell_type": "code",
   "execution_count": 173,
   "metadata": {},
   "outputs": [
    {
     "data": {
      "text/html": [
       "<div class=\"data-frame\"><p>7 rows × 7 columns</p><table class=\"data-frame\"><thead><tr><th></th><th>id_online</th><th>id_dh</th><th>id_gs</th><th>era_start</th><th>numdate_start_gs</th><th>numdate_start_dh</th><th>date_hist_first</th></tr><tr><th></th><th title=\"Int32\">Int32</th><th title=\"Union{Missing, Int32}\">Int32?</th><th title=\"Union{Missing, Int32}\">Int32?</th><th title=\"Union{Missing, Int32}\">Int32?</th><th title=\"Union{Missing, Int32}\">Int32?</th><th title=\"Union{Missing, Int32}\">Int32?</th><th title=\"Union{Missing, Int32}\">Int32?</th></tr></thead><tbody><tr><th>1</th><td>57412</td><td>20369</td><td>81379</td><td>1371</td><td>1371</td><td>1408</td><td><em>missing</em></td></tr><tr><th>2</th><td>57411</td><td>10885</td><td>81391</td><td>1734</td><td>1758</td><td>1752</td><td>1752</td></tr><tr><th>3</th><td>57469</td><td>10887</td><td>81397</td><td>1714</td><td>1759</td><td>1732</td><td><em>missing</em></td></tr><tr><th>4</th><td>57468</td><td>10896</td><td>81428</td><td>1683</td><td>1683</td><td>1716</td><td><em>missing</em></td></tr><tr><th>5</th><td>57464</td><td>10915</td><td>81447</td><td>1702</td><td>1702</td><td>1746</td><td><em>missing</em></td></tr><tr><th>6</th><td>57461</td><td>10934</td><td>81572</td><td>1732</td><td>1755</td><td>1755</td><td>1755</td></tr><tr><th>7</th><td>57460</td><td>10936</td><td>81574</td><td>1740</td><td>1761</td><td>1761</td><td><em>missing</em></td></tr></tbody></table></div>"
      ],
      "text/latex": [
       "\\begin{tabular}{r|ccccccc}\n",
       "\t& id\\_online & id\\_dh & id\\_gs & era\\_start & numdate\\_start\\_gs & numdate\\_start\\_dh & date\\_hist\\_first\\\\\n",
       "\t\\hline\n",
       "\t& Int32 & Int32? & Int32? & Int32? & Int32? & Int32? & Int32?\\\\\n",
       "\t\\hline\n",
       "\t1 & 57412 & 20369 & 81379 & 1371 & 1371 & 1408 & \\emph{missing} \\\\\n",
       "\t2 & 57411 & 10885 & 81391 & 1734 & 1758 & 1752 & 1752 \\\\\n",
       "\t3 & 57469 & 10887 & 81397 & 1714 & 1759 & 1732 & \\emph{missing} \\\\\n",
       "\t4 & 57468 & 10896 & 81428 & 1683 & 1683 & 1716 & \\emph{missing} \\\\\n",
       "\t5 & 57464 & 10915 & 81447 & 1702 & 1702 & 1746 & \\emph{missing} \\\\\n",
       "\t6 & 57461 & 10934 & 81572 & 1732 & 1755 & 1755 & 1755 \\\\\n",
       "\t7 & 57460 & 10936 & 81574 & 1740 & 1761 & 1761 & \\emph{missing} \\\\\n",
       "\\end{tabular}\n"
      ],
      "text/plain": [
       "\u001b[1m7×7 DataFrame\u001b[0m\n",
       "\u001b[1m Row \u001b[0m│\u001b[1m id_online \u001b[0m\u001b[1m id_dh  \u001b[0m\u001b[1m id_gs  \u001b[0m\u001b[1m era_start \u001b[0m\u001b[1m numdate_start_gs \u001b[0m\u001b[1m numdate_start_d\u001b[0m ⋯\n",
       "\u001b[1m     \u001b[0m│\u001b[90m Int32     \u001b[0m\u001b[90m Int32? \u001b[0m\u001b[90m Int32? \u001b[0m\u001b[90m Int32?    \u001b[0m\u001b[90m Int32?           \u001b[0m\u001b[90m Int32?         \u001b[0m ⋯\n",
       "─────┼──────────────────────────────────────────────────────────────────────────\n",
       "   1 │     57412   20369   81379       1371              1371              140 ⋯\n",
       "   2 │     57411   10885   81391       1734              1758              175\n",
       "   3 │     57469   10887   81397       1714              1759              173\n",
       "   4 │     57468   10896   81428       1683              1683              171\n",
       "   5 │     57464   10915   81447       1702              1702              174 ⋯\n",
       "   6 │     57461   10934   81572       1732              1755              175\n",
       "   7 │     57460   10936   81574       1740              1761              176\n",
       "\u001b[36m                                                               2 columns omitted\u001b[0m"
      ]
     },
     "execution_count": 173,
     "metadata": {},
     "output_type": "execute_result"
    }
   ],
   "source": [
    "df_info[12:18, [:id_online, :id_dh, :id_gs, col_min...]]"
   ]
  },
  {
   "cell_type": "code",
   "execution_count": 142,
   "metadata": {},
   "outputs": [],
   "source": [
    "ne_maybe(x, y) = (ismissing(x) || ismissing(y)) ? false : x != y\n",
    "df_info = filter([:era_end, :numdate_end_gs] => ne_maybe, df_era);"
   ]
  },
  {
   "cell_type": "code",
   "execution_count": 175,
   "metadata": {},
   "outputs": [
    {
     "data": {
      "text/html": [
       "<div class=\"data-frame\"><p>7 rows × 7 columns</p><table class=\"data-frame\"><thead><tr><th></th><th>id_online</th><th>id_dh</th><th>id_gs</th><th>era_end</th><th>numdate_end_gs</th><th>numdate_end_dh</th><th>date_hist_last</th></tr><tr><th></th><th title=\"Int32\">Int32</th><th title=\"Union{Missing, Int32}\">Int32?</th><th title=\"Union{Missing, Int32}\">Int32?</th><th title=\"Union{Missing, Int32}\">Int32?</th><th title=\"Union{Missing, Int32}\">Int32?</th><th title=\"Union{Missing, Int32}\">Int32?</th><th title=\"Union{Missing, Int32}\">Int32?</th></tr></thead><tbody><tr><th>1</th><td>57462</td><td>20382</td><td>81506</td><td>1432</td><td>1429</td><td>1432</td><td><em>missing</em></td></tr><tr><th>2</th><td>57461</td><td>10934</td><td>81572</td><td>1783</td><td>1761</td><td>1761</td><td>1761</td></tr><tr><th>3</th><td>57455</td><td>10944</td><td>81633</td><td>1825</td><td>1802</td><td>1789</td><td><em>missing</em></td></tr><tr><th>4</th><td>57451</td><td>10965</td><td>81795</td><td>1804</td><td>1797</td><td>1804</td><td>1804</td></tr><tr><th>5</th><td>57444</td><td>11019</td><td>81956</td><td>1777</td><td>1772</td><td>1777</td><td><em>missing</em></td></tr><tr><th>6</th><td>57442</td><td>11025</td><td>82013</td><td>1775</td><td>1734</td><td>1775</td><td><em>missing</em></td></tr><tr><th>7</th><td>57474</td><td>10891</td><td>83911</td><td>1798</td><td>1759</td><td>1798</td><td><em>missing</em></td></tr></tbody></table></div>"
      ],
      "text/latex": [
       "\\begin{tabular}{r|ccccccc}\n",
       "\t& id\\_online & id\\_dh & id\\_gs & era\\_end & numdate\\_end\\_gs & numdate\\_end\\_dh & date\\_hist\\_last\\\\\n",
       "\t\\hline\n",
       "\t& Int32 & Int32? & Int32? & Int32? & Int32? & Int32? & Int32?\\\\\n",
       "\t\\hline\n",
       "\t1 & 57462 & 20382 & 81506 & 1432 & 1429 & 1432 & \\emph{missing} \\\\\n",
       "\t2 & 57461 & 10934 & 81572 & 1783 & 1761 & 1761 & 1761 \\\\\n",
       "\t3 & 57455 & 10944 & 81633 & 1825 & 1802 & 1789 & \\emph{missing} \\\\\n",
       "\t4 & 57451 & 10965 & 81795 & 1804 & 1797 & 1804 & 1804 \\\\\n",
       "\t5 & 57444 & 11019 & 81956 & 1777 & 1772 & 1777 & \\emph{missing} \\\\\n",
       "\t6 & 57442 & 11025 & 82013 & 1775 & 1734 & 1775 & \\emph{missing} \\\\\n",
       "\t7 & 57474 & 10891 & 83911 & 1798 & 1759 & 1798 & \\emph{missing} \\\\\n",
       "\\end{tabular}\n"
      ],
      "text/plain": [
       "\u001b[1m7×7 DataFrame\u001b[0m\n",
       "\u001b[1m Row \u001b[0m│\u001b[1m id_online \u001b[0m\u001b[1m id_dh  \u001b[0m\u001b[1m id_gs  \u001b[0m\u001b[1m era_end \u001b[0m\u001b[1m numdate_end_gs \u001b[0m\u001b[1m numdate_end_dh \u001b[0m\u001b[1m dat\u001b[0m ⋯\n",
       "\u001b[1m     \u001b[0m│\u001b[90m Int32     \u001b[0m\u001b[90m Int32? \u001b[0m\u001b[90m Int32? \u001b[0m\u001b[90m Int32?  \u001b[0m\u001b[90m Int32?         \u001b[0m\u001b[90m Int32?         \u001b[0m\u001b[90m Int\u001b[0m ⋯\n",
       "─────┼──────────────────────────────────────────────────────────────────────────\n",
       "   1 │     57462   20382   81506     1432            1429            1432 \u001b[90m    \u001b[0m ⋯\n",
       "   2 │     57461   10934   81572     1783            1761            1761\n",
       "   3 │     57455   10944   81633     1825            1802            1789 \u001b[90m\u001b[0m\n",
       "   4 │     57451   10965   81795     1804            1797            1804\n",
       "   5 │     57444   11019   81956     1777            1772            1777 \u001b[90m    \u001b[0m ⋯\n",
       "   6 │     57442   11025   82013     1775            1734            1775 \u001b[90m\u001b[0m\n",
       "   7 │     57474   10891   83911     1798            1759            1798 \u001b[90m\u001b[0m\n",
       "\u001b[36m                                                                1 column omitted\u001b[0m"
      ]
     },
     "execution_count": 175,
     "metadata": {},
     "output_type": "execute_result"
    }
   ],
   "source": [
    "df_info[12:18, [:id_online, :id_dh, :id_gs, col_max...]]"
   ]
  },
  {
   "cell_type": "markdown",
   "metadata": {},
   "source": [
    "Geburts- und Sterbedatum  \n",
    "Geburts- und Sterbedaten - so vorhanden - können die Zeitspanne nur verkürzen!"
   ]
  },
  {
   "cell_type": "code",
   "execution_count": 143,
   "metadata": {},
   "outputs": [
    {
     "data": {
      "text/plain": [
       "era_death (generic function with 1 method)"
      ]
     },
     "execution_count": 143,
     "metadata": {},
     "output_type": "execute_result"
    }
   ],
   "source": [
    "function era_birth(era, b1, b2)\n",
    "    b = valid_min(b1, b2)\n",
    "    return ismissing(b) ? era : b\n",
    "end\n",
    "function era_death(era, b1, b2)\n",
    "    b = valid_max(b1, b2)\n",
    "    return ismissing(b) ? era : b\n",
    "end\n",
    "    "
   ]
  },
  {
   "cell_type": "code",
   "execution_count": 144,
   "metadata": {},
   "outputs": [],
   "source": [
    "transform!(df_era, [:era_start, :numdate_birth_dh, :numdate_birth_gs] => ByRow(era_birth) => :era_start);"
   ]
  },
  {
   "cell_type": "code",
   "execution_count": 145,
   "metadata": {},
   "outputs": [],
   "source": [
    "transform!(df_era, [:era_end, :numdate_death_dh, :numdate_death_gs] => ByRow(era_death) => :era_end);"
   ]
  },
  {
   "cell_type": "markdown",
   "metadata": {},
   "source": [
    "Info"
   ]
  },
  {
   "cell_type": "code",
   "execution_count": 179,
   "metadata": {},
   "outputs": [],
   "source": [
    "df_info = filter([:era_start, :numdate_birth_dh] => ne_maybe, df_era);"
   ]
  },
  {
   "cell_type": "code",
   "execution_count": 182,
   "metadata": {},
   "outputs": [
    {
     "data": {
      "text/html": [
       "<div class=\"data-frame\"><p>4 rows × 9 columns (omitted printing of 2 columns)</p><table class=\"data-frame\"><thead><tr><th></th><th>id_online</th><th>id_dh</th><th>id_gs</th><th>numdate_birth_gs</th><th>numdate_birth_dh</th><th>era_start</th><th>numdate_start_gs</th></tr><tr><th></th><th title=\"Int32\">Int32</th><th title=\"Union{Missing, Int32}\">Int32?</th><th title=\"Union{Missing, Int32}\">Int32?</th><th title=\"Union{Missing, Int32}\">Int32?</th><th title=\"Union{Missing, Int32}\">Int32?</th><th title=\"Union{Missing, Int32}\">Int32?</th><th title=\"Union{Missing, Int32}\">Int32?</th></tr></thead><tbody><tr><th>1</th><td>19007</td><td>10919</td><td>81359</td><td>1738</td><td>1742</td><td>1738</td><td>1756</td></tr><tr><th>2</th><td>19181</td><td>11021</td><td>85597</td><td>1735</td><td>1740</td><td>1735</td><td>1756</td></tr><tr><th>3</th><td>19188</td><td>10984</td><td>85858</td><td>1746</td><td>1752</td><td>1746</td><td>1770</td></tr><tr><th>4</th><td>19225</td><td>11054</td><td>86880</td><td>1750</td><td>1756</td><td>1750</td><td>1760</td></tr></tbody></table></div>"
      ],
      "text/latex": [
       "\\begin{tabular}{r|cccccccc}\n",
       "\t& id\\_online & id\\_dh & id\\_gs & numdate\\_birth\\_gs & numdate\\_birth\\_dh & era\\_start & numdate\\_start\\_gs & \\\\\n",
       "\t\\hline\n",
       "\t& Int32 & Int32? & Int32? & Int32? & Int32? & Int32? & Int32? & \\\\\n",
       "\t\\hline\n",
       "\t1 & 19007 & 10919 & 81359 & 1738 & 1742 & 1738 & 1756 & $\\dots$ \\\\\n",
       "\t2 & 19181 & 11021 & 85597 & 1735 & 1740 & 1735 & 1756 & $\\dots$ \\\\\n",
       "\t3 & 19188 & 10984 & 85858 & 1746 & 1752 & 1746 & 1770 & $\\dots$ \\\\\n",
       "\t4 & 19225 & 11054 & 86880 & 1750 & 1756 & 1750 & 1760 & $\\dots$ \\\\\n",
       "\\end{tabular}\n"
      ],
      "text/plain": [
       "\u001b[1m4×9 DataFrame\u001b[0m\n",
       "\u001b[1m Row \u001b[0m│\u001b[1m id_online \u001b[0m\u001b[1m id_dh  \u001b[0m\u001b[1m id_gs  \u001b[0m\u001b[1m numdate_birth_gs \u001b[0m\u001b[1m numdate_birth_dh \u001b[0m\u001b[1m era_star\u001b[0m ⋯\n",
       "\u001b[1m     \u001b[0m│\u001b[90m Int32     \u001b[0m\u001b[90m Int32? \u001b[0m\u001b[90m Int32? \u001b[0m\u001b[90m Int32?           \u001b[0m\u001b[90m Int32?           \u001b[0m\u001b[90m Int32?  \u001b[0m ⋯\n",
       "─────┼──────────────────────────────────────────────────────────────────────────\n",
       "   1 │     19007   10919   81359              1738              1742       173 ⋯\n",
       "   2 │     19181   11021   85597              1735              1740       173\n",
       "   3 │     19188   10984   85858              1746              1752       174\n",
       "   4 │     19225   11054   86880              1750              1756       175\n",
       "\u001b[36m                                                               4 columns omitted\u001b[0m"
      ]
     },
     "execution_count": 182,
     "metadata": {},
     "output_type": "execute_result"
    }
   ],
   "source": [
    "df_info[!, [:id_online, :id_dh, :id_gs, :numdate_birth_gs, :numdate_birth_dh, col_min...]]"
   ]
  },
  {
   "cell_type": "code",
   "execution_count": 180,
   "metadata": {},
   "outputs": [],
   "source": [
    "df_info = filter(:numdate_birth_gs => ismissing, df_era);"
   ]
  },
  {
   "cell_type": "code",
   "execution_count": 181,
   "metadata": {},
   "outputs": [
    {
     "data": {
      "text/html": [
       "<div class=\"data-frame\"><p>6 rows × 9 columns (omitted printing of 2 columns)</p><table class=\"data-frame\"><thead><tr><th></th><th>id_online</th><th>id_dh</th><th>id_gs</th><th>numdate_birth_gs</th><th>numdate_birth_dh</th><th>era_start</th><th>numdate_start_gs</th></tr><tr><th></th><th title=\"Int32\">Int32</th><th title=\"Union{Missing, Int32}\">Int32?</th><th title=\"Union{Missing, Int32}\">Int32?</th><th title=\"Union{Missing, Int32}\">Int32?</th><th title=\"Union{Missing, Int32}\">Int32?</th><th title=\"Union{Missing, Int32}\">Int32?</th><th title=\"Union{Missing, Int32}\">Int32?</th></tr></thead><tbody><tr><th>1</th><td>57554</td><td>13639</td><td>84325</td><td><em>missing</em></td><td><em>missing</em></td><td>1201</td><td>1201</td></tr><tr><th>2</th><td>57553</td><td>20425</td><td>84327</td><td><em>missing</em></td><td><em>missing</em></td><td>1301</td><td>1301</td></tr><tr><th>3</th><td>57552</td><td>26590</td><td>84330</td><td><em>missing</em></td><td><em>missing</em></td><td>1337</td><td>1337</td></tr><tr><th>4</th><td>57551</td><td>13714</td><td>84332</td><td><em>missing</em></td><td><em>missing</em></td><td>1237</td><td>1240</td></tr><tr><th>5</th><td>57550</td><td>20412</td><td>84333</td><td><em>missing</em></td><td><em>missing</em></td><td>1301</td><td>1301</td></tr><tr><th>6</th><td>57549</td><td>20482</td><td>84334</td><td><em>missing</em></td><td><em>missing</em></td><td>1294</td><td>1311</td></tr></tbody></table></div>"
      ],
      "text/latex": [
       "\\begin{tabular}{r|cccccccc}\n",
       "\t& id\\_online & id\\_dh & id\\_gs & numdate\\_birth\\_gs & numdate\\_birth\\_dh & era\\_start & numdate\\_start\\_gs & \\\\\n",
       "\t\\hline\n",
       "\t& Int32 & Int32? & Int32? & Int32? & Int32? & Int32? & Int32? & \\\\\n",
       "\t\\hline\n",
       "\t1 & 57554 & 13639 & 84325 & \\emph{missing} & \\emph{missing} & 1201 & 1201 & $\\dots$ \\\\\n",
       "\t2 & 57553 & 20425 & 84327 & \\emph{missing} & \\emph{missing} & 1301 & 1301 & $\\dots$ \\\\\n",
       "\t3 & 57552 & 26590 & 84330 & \\emph{missing} & \\emph{missing} & 1337 & 1337 & $\\dots$ \\\\\n",
       "\t4 & 57551 & 13714 & 84332 & \\emph{missing} & \\emph{missing} & 1237 & 1240 & $\\dots$ \\\\\n",
       "\t5 & 57550 & 20412 & 84333 & \\emph{missing} & \\emph{missing} & 1301 & 1301 & $\\dots$ \\\\\n",
       "\t6 & 57549 & 20482 & 84334 & \\emph{missing} & \\emph{missing} & 1294 & 1311 & $\\dots$ \\\\\n",
       "\\end{tabular}\n"
      ],
      "text/plain": [
       "\u001b[1m6×9 DataFrame\u001b[0m\n",
       "\u001b[1m Row \u001b[0m│\u001b[1m id_online \u001b[0m\u001b[1m id_dh  \u001b[0m\u001b[1m id_gs  \u001b[0m\u001b[1m numdate_birth_gs \u001b[0m\u001b[1m numdate_birth_dh \u001b[0m\u001b[1m era_star\u001b[0m ⋯\n",
       "\u001b[1m     \u001b[0m│\u001b[90m Int32     \u001b[0m\u001b[90m Int32? \u001b[0m\u001b[90m Int32? \u001b[0m\u001b[90m Int32?           \u001b[0m\u001b[90m Int32?           \u001b[0m\u001b[90m Int32?  \u001b[0m ⋯\n",
       "─────┼──────────────────────────────────────────────────────────────────────────\n",
       "   1 │     57554   13639   84325 \u001b[90m          missing \u001b[0m\u001b[90m          missing \u001b[0m      120 ⋯\n",
       "   2 │     57553   20425   84327 \u001b[90m          missing \u001b[0m\u001b[90m          missing \u001b[0m      130\n",
       "   3 │     57552   26590   84330 \u001b[90m          missing \u001b[0m\u001b[90m          missing \u001b[0m      133\n",
       "   4 │     57551   13714   84332 \u001b[90m          missing \u001b[0m\u001b[90m          missing \u001b[0m      123\n",
       "   5 │     57550   20412   84333 \u001b[90m          missing \u001b[0m\u001b[90m          missing \u001b[0m      130 ⋯\n",
       "   6 │     57549   20482   84334 \u001b[90m          missing \u001b[0m\u001b[90m          missing \u001b[0m      129\n",
       "\u001b[36m                                                               4 columns omitted\u001b[0m"
      ]
     },
     "execution_count": 181,
     "metadata": {},
     "output_type": "execute_result"
    }
   ],
   "source": [
    "df_info[100:105, [:id_online, :id_dh, :id_gs, :numdate_birth_gs, :numdate_birth_dh, col_min...]]"
   ]
  },
  {
   "cell_type": "code",
   "execution_count": 182,
   "metadata": {},
   "outputs": [],
   "source": [
    "df_info = filter([:era_end, :numdate_death_dh] => ne_maybe, df_era);"
   ]
  },
  {
   "cell_type": "code",
   "execution_count": 186,
   "metadata": {},
   "outputs": [
    {
     "data": {
      "text/html": [
       "<div class=\"data-frame\"><p>0 rows × 9 columns (omitted printing of 2 columns)</p><table class=\"data-frame\"><thead><tr><th></th><th>id_online</th><th>id_dh</th><th>id_gs</th><th>numdate_death_gs</th><th>numdate_death_dh</th><th>era_end</th><th>numdate_end_gs</th></tr><tr><th></th><th title=\"Int32\">Int32</th><th title=\"Union{Missing, Int32}\">Int32?</th><th title=\"Union{Missing, Int32}\">Int32?</th><th title=\"Union{Missing, Int32}\">Int32?</th><th title=\"Union{Missing, Int32}\">Int32?</th><th title=\"Union{Missing, Int32}\">Int32?</th><th title=\"Union{Missing, Int32}\">Int32?</th></tr></thead><tbody></tbody></table></div>"
      ],
      "text/latex": [
       "\\begin{tabular}{r|cccccccc}\n",
       "\t& id\\_online & id\\_dh & id\\_gs & numdate\\_death\\_gs & numdate\\_death\\_dh & era\\_end & numdate\\_end\\_gs & \\\\\n",
       "\t\\hline\n",
       "\t& Int32 & Int32? & Int32? & Int32? & Int32? & Int32? & Int32? & \\\\\n",
       "\t\\hline\n",
       "\\end{tabular}\n"
      ],
      "text/plain": [
       "\u001b[1m0×9 DataFrame\u001b[0m"
      ]
     },
     "execution_count": 186,
     "metadata": {},
     "output_type": "execute_result"
    }
   ],
   "source": [
    "df_info[:, [:id_online, :id_dh, :id_gs, :numdate_death_gs, :numdate_death_dh, col_max...]]"
   ]
  },
  {
   "cell_type": "code",
   "execution_count": 187,
   "metadata": {},
   "outputs": [],
   "source": [
    "df_info = filter(:numdate_death_gs => ismissing, df_era);"
   ]
  },
  {
   "cell_type": "code",
   "execution_count": 183,
   "metadata": {},
   "outputs": [
    {
     "ename": "LoadError",
     "evalue": "BoundsError: attempt to access 0×15 DataFrame at index [100:105, [:id_online, :id_dh, :id_gs, :numdate_death_gs, :numdate_death_dh, :era_end, :numdate_end_gs, :numdate_end_dh, :date_hist_last]]",
     "output_type": "error",
     "traceback": [
      "BoundsError: attempt to access 0×15 DataFrame at index [100:105, [:id_online, :id_dh, :id_gs, :numdate_death_gs, :numdate_death_dh, :era_end, :numdate_end_gs, :numdate_end_dh, :date_hist_last]]",
      "",
      "Stacktrace:",
      " [1] getindex(df::DataFrame, row_inds::UnitRange{Int64}, col_inds::Vector{Symbol})",
      "   @ DataFrames C:\\Users\\georg\\.julia\\packages\\DataFrames\\vuMM8\\src\\dataframe\\dataframe.jl:543",
      " [2] top-level scope",
      "   @ In[183]:1",
      " [3] eval",
      "   @ .\\boot.jl:360 [inlined]",
      " [4] include_string(mapexpr::typeof(REPL.softscope), mod::Module, code::String, filename::String)",
      "   @ Base .\\loading.jl:1094"
     ]
    }
   ],
   "source": [
    "df_info[100:105, [:id_online, :id_dh, :id_gs, :numdate_death_gs, :numdate_death_dh, col_max...]]"
   ]
  },
  {
   "cell_type": "markdown",
   "metadata": {},
   "source": [
    "Ersetze fehlende Werte durch den jeweils anderen Wert, falls vorhanden. (NULL erscheint in Sortierungen immer als erstes)"
   ]
  },
  {
   "cell_type": "code",
   "execution_count": 146,
   "metadata": {},
   "outputs": [
    {
     "data": {
      "text/plain": [
       "replace_missing (generic function with 1 method)"
      ]
     },
     "execution_count": 146,
     "metadata": {},
     "output_type": "execute_result"
    }
   ],
   "source": [
    "function replace_missing(a, b)\n",
    "    if ismissing(a)\n",
    "        a = b\n",
    "    elseif ismissing(b)\n",
    "        b = a\n",
    "    end\n",
    "    return a, b\n",
    "end"
   ]
  },
  {
   "cell_type": "code",
   "execution_count": 147,
   "metadata": {},
   "outputs": [],
   "source": [
    "transform!(df_era, [:era_start, :era_end] => ByRow(replace_missing) => [:era_start, :era_end]);"
   ]
  },
  {
   "cell_type": "markdown",
   "metadata": {},
   "source": [
    "Schreibe Daten für `domstift = 'all'`"
   ]
  },
  {
   "cell_type": "code",
   "execution_count": 148,
   "metadata": {},
   "outputs": [],
   "source": [
    "df_era[!, :domstift] .= \"all\";"
   ]
  },
  {
   "cell_type": "code",
   "execution_count": 149,
   "metadata": {},
   "outputs": [
    {
     "name": "stderr",
     "output_type": "stream",
     "text": [
      "┌ Info: 10000\n",
      "└ @ WiagDataSetup C:\\Users\\georg\\Documents\\projekte\\WiagDataSetup.jl\\src\\WiagDataSetup.jl:1179\n",
      "┌ Info: Rows inserted: 10790\n",
      "└ @ WiagDataSetup C:\\Users\\georg\\Documents\\projekte\\WiagDataSetup.jl\\src\\WiagDataSetup.jl:1202\n"
     ]
    },
    {
     "data": {
      "text/plain": [
       "10790"
      ]
     },
     "execution_count": 149,
     "metadata": {},
     "output_type": "execute_result"
    }
   ],
   "source": [
    "table_name = \"cn_era\"\n",
    "Wds.filltable!(table_name, select(df_era, :id_online, :domstift, :era_start, :era_end), clear_table = true)"
   ]
  },
  {
   "cell_type": "markdown",
   "metadata": {},
   "source": [
    "Zeitraum pro Domstift"
   ]
  },
  {
   "cell_type": "markdown",
   "metadata": {},
   "source": [
    "Personendatenbank"
   ]
  },
  {
   "cell_type": "code",
   "execution_count": 150,
   "metadata": {},
   "outputs": [],
   "source": [
    "sql_union = \"SELECT ol_1.id AS id_online, id_canon, d_1.name as domstift, numdate_start, numdate_end \" *\n",
    "\"FROM cn_office_gs AS o_gs \" *\n",
    "\"JOIN wiag.domstift AS d_1 on o_gs.id_monastery = d_1.gs_id JOIN cn_online AS ol_1 ON ol_1.id_gs = o_gs.id_canon \" *\n",
    "\"UNION (SELECT ol.id AS id_online, id_canon, d.name as domstift, numdate_start, numdate_end \" *\n",
    "\"FROM cn_office AS o \" *\n",
    "\"JOIN wiag.domstift as d on o.id_monastery = d.gs_id JOIN cn_online AS ol ON ol.id_dh = o.id_canon)\"\n",
    "df_od = Wds.sql_df(sql_union);"
   ]
  },
  {
   "cell_type": "code",
   "execution_count": 49,
   "metadata": {},
   "outputs": [
    {
     "data": {
      "text/plain": [
       "(14358, 5)"
      ]
     },
     "execution_count": 49,
     "metadata": {},
     "output_type": "execute_result"
    }
   ],
   "source": [
    "size(df_od)"
   ]
  },
  {
   "cell_type": "markdown",
   "metadata": {},
   "source": [
    "Info"
   ]
  },
  {
   "cell_type": "code",
   "execution_count": 151,
   "metadata": {},
   "outputs": [],
   "source": [
    "sql_dh = \"SELECT ol.id AS id_online, id_canon, d.name as domstift, numdate_start, numdate_end \" *\n",
    "\"FROM cn_office AS o \" *\n",
    "\"JOIN wiag.domstift as d on o.id_monastery = d.gs_id JOIN cn_online AS ol ON ol.id_dh = o.id_canon \"\n",
    "df_od_dh = Wds.sql_df(sql_dh);"
   ]
  },
  {
   "cell_type": "code",
   "execution_count": 154,
   "metadata": {},
   "outputs": [
    {
     "data": {
      "text/plain": [
       "(4415, 5)"
      ]
     },
     "execution_count": 154,
     "metadata": {},
     "output_type": "execute_result"
    }
   ],
   "source": [
    "size(df_od_dh)"
   ]
  },
  {
   "cell_type": "code",
   "execution_count": 152,
   "metadata": {},
   "outputs": [],
   "source": [
    "sql = \"SELECT id_online, domstift, min(numdate_start) AS era_start, max(numdate_end) AS era_end \" *\n",
    "\"FROM (\" * sql_union * \") AS U \" *\n",
    "\"GROUP BY id_online, domstift\"\n",
    "df_era_d = Wds.sql_df(sql);"
   ]
  },
  {
   "cell_type": "code",
   "execution_count": 153,
   "metadata": {},
   "outputs": [
    {
     "data": {
      "text/plain": [
       "((12966, 4), 10667, 34)"
      ]
     },
     "execution_count": 153,
     "metadata": {},
     "output_type": "execute_result"
    }
   ],
   "source": [
    "size(df_era_d), length(unique(df_era_d.id_online)), length(unique(df_era_d.domstift))"
   ]
  },
  {
   "cell_type": "markdown",
   "metadata": {},
   "source": [
    "Info"
   ]
  },
  {
   "cell_type": "code",
   "execution_count": 194,
   "metadata": {},
   "outputs": [
    {
     "data": {
      "text/html": [
       "<div class=\"data-frame\"><p>0 rows × 4 columns</p><table class=\"data-frame\"><thead><tr><th></th><th>id_online</th><th>domstift</th><th>era_start</th><th>era_end</th></tr><tr><th></th><th title=\"Int32\">Int32</th><th title=\"Union{Missing, String}\">String?</th><th title=\"Union{Missing, Int32}\">Int32?</th><th title=\"Union{Missing, Int32}\">Int32?</th></tr></thead><tbody></tbody></table></div>"
      ],
      "text/latex": [
       "\\begin{tabular}{r|cccc}\n",
       "\t& id\\_online & domstift & era\\_start & era\\_end\\\\\n",
       "\t\\hline\n",
       "\t& Int32 & String? & Int32? & Int32?\\\\\n",
       "\t\\hline\n",
       "\\end{tabular}\n"
      ],
      "text/plain": [
       "\u001b[1m0×4 DataFrame\u001b[0m"
      ]
     },
     "execution_count": 194,
     "metadata": {},
     "output_type": "execute_result"
    }
   ],
   "source": [
    "filter(:id_online => isequal(22501), df_era_d)"
   ]
  },
  {
   "cell_type": "markdown",
   "metadata": {},
   "source": [
    "Ersetze fehlende Werte durch den jeweils anderen Wert, falls vorhanden. (NULL erscheint in Sortierungen immer als erstes)"
   ]
  },
  {
   "cell_type": "code",
   "execution_count": 155,
   "metadata": {},
   "outputs": [],
   "source": [
    "transform!(df_era_d, [:era_start, :era_end] => ByRow(replace_missing) => [:era_start, :era_end]);"
   ]
  },
  {
   "cell_type": "markdown",
   "metadata": {},
   "source": [
    "Schreibe Daten für die einzelnen Domstifte"
   ]
  },
  {
   "cell_type": "code",
   "execution_count": 156,
   "metadata": {},
   "outputs": [
    {
     "name": "stderr",
     "output_type": "stream",
     "text": [
      "┌ Info: 10000\n",
      "└ @ WiagDataSetup C:\\Users\\georg\\Documents\\projekte\\WiagDataSetup.jl\\src\\WiagDataSetup.jl:1179\n",
      "┌ Info: Rows inserted: 12966\n",
      "└ @ WiagDataSetup C:\\Users\\georg\\Documents\\projekte\\WiagDataSetup.jl\\src\\WiagDataSetup.jl:1202\n"
     ]
    },
    {
     "data": {
      "text/plain": [
       "12966"
      ]
     },
     "execution_count": 156,
     "metadata": {},
     "output_type": "execute_result"
    }
   ],
   "source": [
    "table_name = \"cn_era\"\n",
    "Wds.filltable!(table_name, select(df_era_d, :id_online, :domstift, :era_start, :era_end), clear_table = false)"
   ]
  },
  {
   "cell_type": "markdown",
   "metadata": {},
   "source": [
    "### `cn_idlookup`"
   ]
  },
  {
   "cell_type": "markdown",
   "metadata": {},
   "source": [
    "Liese relevante Domherren aus `cn_online`"
   ]
  },
  {
   "cell_type": "code",
   "execution_count": 157,
   "metadata": {},
   "outputs": [],
   "source": [
    "sql = \"SELECT id as id_online, id_dh FROM cn_online WHERE id_dh IS NOT NULL\"\n",
    "df_online_dh = Wds.sql_df(sql);"
   ]
  },
  {
   "cell_type": "code",
   "execution_count": 158,
   "metadata": {},
   "outputs": [],
   "source": [
    "sql = \"SELECT * FROM cn_canon\"\n",
    "df_dh = Wds.sql_df(sql);"
   ]
  },
  {
   "cell_type": "markdown",
   "metadata": {},
   "source": [
    "Externe Identifier für Domherren aus der Domherrendatenbank"
   ]
  },
  {
   "cell_type": "code",
   "execution_count": 159,
   "metadata": {},
   "outputs": [
    {
     "data": {
      "text/html": [
       "<div class=\"data-frame\"><p>0 rows × 2 columns</p><table class=\"data-frame\"><thead><tr><th></th><th>id_dh</th><th>authority_id</th></tr><tr><th></th><th title=\"Int64\">Int64</th><th title=\"String\">String</th></tr></thead><tbody></tbody></table></div>"
      ],
      "text/latex": [
       "\\begin{tabular}{r|cc}\n",
       "\t& id\\_dh & authority\\_id\\\\\n",
       "\t\\hline\n",
       "\t& Int64 & String\\\\\n",
       "\t\\hline\n",
       "\\end{tabular}\n"
      ],
      "text/plain": [
       "\u001b[1m0×2 DataFrame\u001b[0m"
      ]
     },
     "execution_count": 159,
     "metadata": {},
     "output_type": "execute_result"
    }
   ],
   "source": [
    "df_idol = DataFrame(:id_dh => Int[], :authority_id => String[])"
   ]
  },
  {
   "cell_type": "code",
   "execution_count": 160,
   "metadata": {},
   "outputs": [],
   "source": [
    "for row in eachrow(df_dh)\n",
    "    for col in (:gnd_id, :gsn_id, :viaf_id, :wikidata_id, :wiag_episc_id)\n",
    "        if !ismissing(row[col])\n",
    "            push!(df_idol, (row[:id], row[col]))\n",
    "        end\n",
    "    end\n",
    "end"
   ]
  },
  {
   "cell_type": "code",
   "execution_count": 161,
   "metadata": {},
   "outputs": [
    {
     "data": {
      "text/plain": [
       "(1740, 2)"
      ]
     },
     "execution_count": 161,
     "metadata": {},
     "output_type": "execute_result"
    }
   ],
   "source": [
    "size(df_idol)"
   ]
  },
  {
   "cell_type": "code",
   "execution_count": 162,
   "metadata": {},
   "outputs": [],
   "source": [
    "df_idol = leftjoin(df_idol, df_online_dh, on = :id_dh);"
   ]
  },
  {
   "cell_type": "code",
   "execution_count": 163,
   "metadata": {},
   "outputs": [
    {
     "name": "stderr",
     "output_type": "stream",
     "text": [
      "┌ Info: Rows inserted: 1740\n",
      "└ @ WiagDataSetup C:\\Users\\georg\\Documents\\projekte\\WiagDataSetup.jl\\src\\WiagDataSetup.jl:1202\n"
     ]
    },
    {
     "data": {
      "text/plain": [
       "1740"
      ]
     },
     "execution_count": 163,
     "metadata": {},
     "output_type": "execute_result"
    }
   ],
   "source": [
    "table_name = \"cn_idlookup\"\n",
    "Wds.filltable!(table_name, select(df_idol, :id_online, :authority_id), clear_table = true)"
   ]
  },
  {
   "cell_type": "code",
   "execution_count": 164,
   "metadata": {},
   "outputs": [],
   "source": [
    "sql = \"SELECT id as id_online, id_gs FROM cn_online WHERE id_gs IS NOT NULL\"\n",
    "df_online_gs = Wds.sql_df(sql);"
   ]
  },
  {
   "cell_type": "code",
   "execution_count": 165,
   "metadata": {},
   "outputs": [],
   "source": [
    "sql = \"SELECT * FROM cn_canon_gs WHERE status = 'online'\"\n",
    "df_gs = Wds.sql_df(sql);"
   ]
  },
  {
   "cell_type": "code",
   "execution_count": 166,
   "metadata": {},
   "outputs": [
    {
     "data": {
      "text/plain": [
       "(8564, 34)"
      ]
     },
     "execution_count": 166,
     "metadata": {},
     "output_type": "execute_result"
    }
   ],
   "source": [
    "size(df_gs)"
   ]
  },
  {
   "cell_type": "code",
   "execution_count": 170,
   "metadata": {},
   "outputs": [
    {
     "data": {
      "text/html": [
       "<div class=\"data-frame\"><p>0 rows × 2 columns</p><table class=\"data-frame\"><thead><tr><th></th><th>id_gs</th><th>authority_id</th></tr><tr><th></th><th title=\"Int64\">Int64</th><th title=\"String\">String</th></tr></thead><tbody></tbody></table></div>"
      ],
      "text/latex": [
       "\\begin{tabular}{r|cc}\n",
       "\t& id\\_gs & authority\\_id\\\\\n",
       "\t\\hline\n",
       "\t& Int64 & String\\\\\n",
       "\t\\hline\n",
       "\\end{tabular}\n"
      ],
      "text/plain": [
       "\u001b[1m0×2 DataFrame\u001b[0m"
      ]
     },
     "execution_count": 170,
     "metadata": {},
     "output_type": "execute_result"
    }
   ],
   "source": [
    "df_idol = DataFrame(:id_gs => Int[], :authority_id => String[])"
   ]
  },
  {
   "cell_type": "code",
   "execution_count": 171,
   "metadata": {},
   "outputs": [
    {
     "data": {
      "text/plain": [
       "2-element Vector{String}:\n",
       " \"id_gs\"\n",
       " \"authority_id\""
      ]
     },
     "execution_count": 171,
     "metadata": {},
     "output_type": "execute_result"
    }
   ],
   "source": [
    "names(df_idol)"
   ]
  },
  {
   "cell_type": "code",
   "execution_count": 172,
   "metadata": {},
   "outputs": [],
   "source": [
    "for row in eachrow(df_gs)\n",
    "    for col in (:gnd_id, :gsn_id, :viaf_id, :wikidata_id, :wiag_episc_id)\n",
    "        if !ismissing(row[col])\n",
    "            push!(df_idol, (row[:id], row[col]))\n",
    "        end\n",
    "    end\n",
    "end"
   ]
  },
  {
   "cell_type": "code",
   "execution_count": 173,
   "metadata": {},
   "outputs": [
    {
     "data": {
      "text/plain": [
       "(9608, 2)"
      ]
     },
     "execution_count": 173,
     "metadata": {},
     "output_type": "execute_result"
    }
   ],
   "source": [
    "size(df_idol)"
   ]
  },
  {
   "cell_type": "code",
   "execution_count": 174,
   "metadata": {},
   "outputs": [],
   "source": [
    "df_idol = leftjoin(df_idol, df_online_gs, on = :id_gs);"
   ]
  },
  {
   "cell_type": "code",
   "execution_count": 175,
   "metadata": {},
   "outputs": [
    {
     "data": {
      "text/plain": [
       "(9608, 3)"
      ]
     },
     "execution_count": 175,
     "metadata": {},
     "output_type": "execute_result"
    }
   ],
   "source": [
    "size(df_idol)"
   ]
  },
  {
   "cell_type": "code",
   "execution_count": 176,
   "metadata": {},
   "outputs": [
    {
     "name": "stderr",
     "output_type": "stream",
     "text": [
      "┌ Info: Rows inserted: 9608\n",
      "└ @ WiagDataSetup C:\\Users\\georg\\Documents\\projekte\\WiagDataSetup.jl\\src\\WiagDataSetup.jl:1202\n"
     ]
    },
    {
     "data": {
      "text/plain": [
       "9608"
      ]
     },
     "execution_count": 176,
     "metadata": {},
     "output_type": "execute_result"
    }
   ],
   "source": [
    "table_name = \"cn_idlookup\"\n",
    "Wds.filltable!(table_name, select(df_idol, :id_online, :authority_id), clear_table = false)"
   ]
  },
  {
   "cell_type": "markdown",
   "metadata": {},
   "source": [
    "Daten in die Zieldatenbank übernehmen (im eingespielten Prozess können die Tabellen auch direkt vom Notebook aus beschrieben werden)\n",
    "```sql\n",
    "use wiag;\n",
    "delete from cn_reference;\n",
    "insert into cn_reference (select * from wiag_in.cn_reference);\n",
    "\n",
    "delete from cn_canon;\n",
    "insert into cn_canon (select * from wiag_in.cn_canon);\n",
    "delete from cn_canon_reference;\n",
    "insert into cn_canon_reference (select * from wiag_in.cn_canon_reference);\n",
    "delete from cn_office;\n",
    "insert into cn_office (select * from wiag_in.cn_office);\n",
    "\n",
    "delete from cn_online;\n",
    "insert into cn_online (select * from wiag_in.cn_online);\n",
    "delete from cn_namelookup;\n",
    "insert into cn_namelookup (select * from wiag_in.cn_namelookup);\n",
    "\n",
    "drop table cn_officelookup;\n",
    "create table cn_officelookup like wiag_in.cn_officelookup;\n",
    "insert into cn_officelookup (select * from wiag_in.cn_officelookup);\n",
    "\n",
    "drop table cn_office_norm\n",
    "create table cn_office_norm like wiag_in.cn_office_norm;\n",
    "insert into cn_office_norm (select * from wiag_in.cn_office_norm);\n",
    "\n",
    "drop table cn_era;\n",
    "create table cn_era like wiag_in.cn_era;\n",
    "insert into cn_era (select * from wiag_in.cn_era);\n",
    "\n",
    "drop table cn_idlookup;\n",
    "create table cn_idlookup like wiag_in.cn_idlookup;\n",
    "insert into cn_idlookup (select * from wiag_in.cn_idlookup);\n",
    "\n",
    "drop table monastery;\n",
    "create table monastery like wiag_in.monastery;\n",
    "insert into monastery (select * from wiag_in.monastery);\n",
    "\n",
    "drop table monastery_location;\n",
    "create table monastery_location like wiag_in.monastery_location;\n",
    "insert into monastery_location (select * from wiag_in.monastery_location);\n",
    "```"
   ]
  },
  {
   "cell_type": "code",
   "execution_count": null,
   "metadata": {},
   "outputs": [],
   "source": []
  }
 ],
 "metadata": {
  "kernelspec": {
   "display_name": "Julia 1.6.1",
   "language": "julia",
   "name": "julia-1.6"
  },
  "language_info": {
   "file_extension": ".jl",
   "mimetype": "application/julia",
   "name": "julia",
   "version": "1.6.1"
  }
 },
 "nbformat": 4,
 "nbformat_minor": 4
}
