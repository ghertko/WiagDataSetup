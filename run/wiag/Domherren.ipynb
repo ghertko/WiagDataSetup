{
 "cells": [
  {
   "cell_type": "markdown",
   "metadata": {},
   "source": [
    "# Domherren\n",
    "## Datenimport für Wiagweb 1\n",
    "\n",
    "Quelle: `W:\\Domstifte GS\\GS_Domherren_DB.accdb`\n",
    "\n",
    "- [Literatur](#Literatur)\n",
    "- [Literaturangaben](#Literaturangaben)\n",
    "- [Ämter](#Ämter)\n",
    "- [Klöster](#Klöster)\n",
    "- Hilfstabellen\n",
    "  - [`cn_online`](#cn_online)\n",
    "  - [`cn_officelookup`](#cn_officelookup)\n",
    "  - [`cn_office.location_show`](#cn_office.location_show)\n",
    "  - [`cn_era`](#cn_era)\n",
    "  - [`cn_namelookup`](#cn_namelookup)\n",
    "  - [`cn_idlookup`](#cn_idlookup)\n",
    "\n",
    "2021-11-11"
   ]
  },
  {
   "cell_type": "code",
   "execution_count": 1,
   "metadata": {},
   "outputs": [
    {
     "data": {
      "text/plain": [
       "\"..\\\\..\""
      ]
     },
     "execution_count": 1,
     "metadata": {},
     "output_type": "execute_result"
    }
   ],
   "source": [
    "# wds_path=\"C:\\\\Users\\\\Georg\\\\Documents\\\\projekte\\\\WiagDataSetup.jl\"\n",
    "wds_path=\"..\\\\..\""
   ]
  },
  {
   "cell_type": "code",
   "execution_count": 2,
   "metadata": {},
   "outputs": [],
   "source": [
    "cd(wds_path)"
   ]
  },
  {
   "cell_type": "code",
   "execution_count": 3,
   "metadata": {},
   "outputs": [
    {
     "data": {
      "text/plain": [
       "\"C:\\\\Users\\\\georg\\\\Documents\\\\projekte\\\\WiagDataSetup.jl\""
      ]
     },
     "execution_count": 3,
     "metadata": {},
     "output_type": "execute_result"
    }
   ],
   "source": [
    "pwd()"
   ]
  },
  {
   "cell_type": "code",
   "execution_count": 4,
   "metadata": {},
   "outputs": [],
   "source": [
    "using Pkg"
   ]
  },
  {
   "cell_type": "code",
   "execution_count": 5,
   "metadata": {},
   "outputs": [],
   "source": [
    "Pkg.activate(\".\")"
   ]
  },
  {
   "cell_type": "code",
   "execution_count": 6,
   "metadata": {},
   "outputs": [],
   "source": [
    "using Revise"
   ]
  },
  {
   "cell_type": "code",
   "execution_count": 7,
   "metadata": {},
   "outputs": [
    {
     "name": "stderr",
     "output_type": "stream",
     "text": [
      "┌ Info: Precompiling WiagDataSetup [522c5ebb-a018-4020-8ed4-420cb1a9f084]\n",
      "└ @ Base loading.jl:1317\n"
     ]
    }
   ],
   "source": [
    "using WiagDataSetup"
   ]
  },
  {
   "cell_type": "code",
   "execution_count": 8,
   "metadata": {},
   "outputs": [],
   "source": [
    "using MySQL"
   ]
  },
  {
   "cell_type": "code",
   "execution_count": 9,
   "metadata": {},
   "outputs": [],
   "source": [
    "using DataFrames"
   ]
  },
  {
   "cell_type": "code",
   "execution_count": 10,
   "metadata": {},
   "outputs": [
    {
     "data": {
      "text/plain": [
       "WiagDataSetup"
      ]
     },
     "execution_count": 10,
     "metadata": {},
     "output_type": "execute_result"
    }
   ],
   "source": [
    "Wds = WiagDataSetup"
   ]
  },
  {
   "cell_type": "code",
   "execution_count": 108,
   "metadata": {},
   "outputs": [
    {
     "name": "stdout",
     "output_type": "stream",
     "text": [
      "Passwort für User georg\n",
      "stdin> topf&deckel\n"
     ]
    },
    {
     "data": {
      "text/plain": [
       "MySQL.Connection(host=\"127.0.0.1\", user=\"georg\", port=\"3306\", db=\"wiag_in\")"
      ]
     },
     "execution_count": 108,
     "metadata": {},
     "output_type": "execute_result"
    }
   ],
   "source": [
    "Wds.setDBWIAG(user=\"georg\", db=\"wiag_in\")"
   ]
  },
  {
   "cell_type": "code",
   "execution_count": 11,
   "metadata": {},
   "outputs": [],
   "source": [
    "db_exec(sql) = DBInterface.execute(Wds.dbwiag, sql) |> DataFrame; # abgelöst durch Wds.sql_df"
   ]
  },
  {
   "cell_type": "markdown",
   "metadata": {},
   "source": [
    "Datenbank anlegen: `wiag_in`  \n",
    "Tabellen anlegen: siehe `domherren_create.sql`\n",
    "- `cn_canon`\n",
    "- `cn_office`\n",
    "- `cn_canon_reference`\n",
    "- `cn_reference`"
   ]
  },
  {
   "cell_type": "markdown",
   "metadata": {},
   "source": [
    "## Literatur"
   ]
  },
  {
   "cell_type": "code",
   "execution_count": 12,
   "metadata": {},
   "outputs": [],
   "source": [
    "sql = \"SELECT * FROM domherr.tbl_reference\"\n",
    "df_vol = Wds.sql_df(sql);"
   ]
  },
  {
   "cell_type": "code",
   "execution_count": 13,
   "metadata": {},
   "outputs": [
    {
     "data": {
      "text/plain": [
       "5-element Vector{String}:\n",
       " \"ID_Ref\"\n",
       " \"Literatur\"\n",
       " \"Verfasser\"\n",
       " \"OnlineRessource\"\n",
       " \"Kurztitel\""
      ]
     },
     "execution_count": 13,
     "metadata": {},
     "output_type": "execute_result"
    }
   ],
   "source": [
    "names(df_vol)"
   ]
  },
  {
   "cell_type": "code",
   "execution_count": 14,
   "metadata": {},
   "outputs": [
    {
     "data": {
      "text/plain": [
       "5-element Vector{Pair{Symbol, Symbol}}:\n",
       "          :ID_Ref => :id\n",
       "       :Literatur => :title\n",
       "       :Verfasser => :author\n",
       " :OnlineRessource => :online_resource\n",
       "       :Kurztitel => :shorttitle"
      ]
     },
     "execution_count": 14,
     "metadata": {},
     "output_type": "execute_result"
    }
   ],
   "source": [
    "columns = [\n",
    "    :ID_Ref => :id,\n",
    "    :Literatur => :title,\n",
    "    :Verfasser => :author,\n",
    "    :OnlineRessource => :online_resource,\n",
    "    :Kurztitel => :shorttitle,\n",
    "]"
   ]
  },
  {
   "cell_type": "code",
   "execution_count": 15,
   "metadata": {},
   "outputs": [
    {
     "name": "stderr",
     "output_type": "stream",
     "text": [
      "┌ Info: Rows inserted: 46\n",
      "└ @ WiagDataSetup C:\\Users\\georg\\Documents\\projekte\\WiagDataSetup.jl\\src\\WiagDataSetup.jl:1202\n"
     ]
    },
    {
     "data": {
      "text/plain": [
       "46"
      ]
     },
     "execution_count": 15,
     "metadata": {},
     "output_type": "execute_result"
    }
   ],
   "source": [
    "table_name = \"cn_reference\"\n",
    "Wds.filltable!(table_name, select(df_vol, columns), clear_table = true)"
   ]
  },
  {
   "cell_type": "markdown",
   "metadata": {},
   "source": [
    "## Domherren"
   ]
  },
  {
   "cell_type": "markdown",
   "metadata": {},
   "source": [
    "Der Status kann 'online' oder 'merged' sein, damit Literaturangaben gesammelt werden können."
   ]
  },
  {
   "cell_type": "code",
   "execution_count": 17,
   "metadata": {},
   "outputs": [],
   "source": [
    "sql = \"SELECT ID_Domherr as id, \" *\n",
    "\"Eintrag_Quelle as item_reference, Seite_Quelle as page_reference, Quelle as id_reference, ID_Fremdschlüssel as id_in_reference, \" *\n",
    "\"Vorname as givenname, Praefix as prefix_name, Familienname as familyname, \" *\n",
    "\"Sterbedatum as date_death, Geburtsdatum as date_birth, \" *\n",
    "\"Orden as religious_order, \" *\n",
    "\"URL_Wikipedia as wikipedia_url, \" *\n",
    "\"fertig as isready, \" *\n",
    "\"Bemerkung_Red as annotation_ed, \" *\n",
    "\"Bistum as diocese, \" *\n",
    "\"AkademischerTitel as academic_title, \" *\n",
    "\"GND_ID as gnd_id, \" *\n",
    "\"GSN_ID as gsn_id, \" *\n",
    "\"VIAF_id as viaf_id,\" *\n",
    "\"Wikidata_ID as wikidata_id, \" *\n",
    "\"Autor_Original as author_orig, \" *\n",
    "\"Familienname_Variante as familyname_variant, Vorname_Variante as givenname_variant, \" *\n",
    "\"Kommentar_Name as comment_name, Kommentar_Person as comment_person, \" *\n",
    "\"BelegdatumBeginn as date_min_in, BelegdatumEnde as date_max_in, \" *\n",
    "\"WIAG_ID_Bischof as wiag_episc_id, \" *\n",
    "\"Identisch_mit as same_as, Merged_Into as merged_into, \" *\n",
    "\"Status as status \" *\n",
    "\"FROM domherr.tbl_domherren \" *\n",
    "\"WHERE Status = 'online' OR Status = 'merged'\"\n",
    "df_dh = Wds.sql_df(sql);"
   ]
  },
  {
   "cell_type": "code",
   "execution_count": 18,
   "metadata": {},
   "outputs": [],
   "source": [
    "Wds.clean_up!(df_dh)"
   ]
  },
  {
   "cell_type": "code",
   "execution_count": 19,
   "metadata": {},
   "outputs": [
    {
     "data": {
      "text/plain": [
       "(3260, 31)"
      ]
     },
     "execution_count": 19,
     "metadata": {},
     "output_type": "execute_result"
    }
   ],
   "source": [
    "size(df_dh)"
   ]
  },
  {
   "cell_type": "code",
   "execution_count": 24,
   "metadata": {},
   "outputs": [
    {
     "data": {
      "text/html": [
       "<p>DataFrameRow (4 columns)</p><div class=\"data-frame\"><table class=\"data-frame\"><thead><tr><th></th><th>id</th><th>status</th><th>givenname</th><th>familyname_variant</th></tr><tr><th></th><th title=\"Int32\">Int32</th><th title=\"SubString{String}\">SubStri…</th><th title=\"SubString{String}\">SubStri…</th><th title=\"Union{Missing, SubString{String}}\">SubStri…?</th></tr></thead><tbody><tr><th>88</th><td>10949</td><td>online</td><td>Wilhelm Egon</td><td>Fürstenberg-Heiligenberg; Reichsgraf von Fürstenberg-Heiligenberg; Fürst von Fürstenberg-Heiligenberg</td></tr></tbody></table></div>"
      ],
      "text/latex": [
       "\\begin{tabular}{r|cccc}\n",
       "\t& id & status & givenname & familyname\\_variant\\\\\n",
       "\t\\hline\n",
       "\t& Int32 & SubStri… & SubStri… & SubStri…?\\\\\n",
       "\t\\hline\n",
       "\t88 & 10949 & online & Wilhelm Egon & Fürstenberg-Heiligenberg; Reichsgraf von Fürstenberg-Heiligenberg; Fürst von Fürstenberg-Heiligenberg \\\\\n",
       "\\end{tabular}\n"
      ],
      "text/plain": [
       "\u001b[1mDataFrameRow\u001b[0m\n",
       "\u001b[1m Row \u001b[0m│\u001b[1m id    \u001b[0m\u001b[1m status    \u001b[0m\u001b[1m givenname    \u001b[0m\u001b[1m familyname_variant                \u001b[0m\n",
       "\u001b[1m     \u001b[0m│\u001b[90m Int32 \u001b[0m\u001b[90m SubStrin… \u001b[0m\u001b[90m SubStrin…    \u001b[0m\u001b[90m SubString{String}?                \u001b[0m\n",
       "─────┼───────────────────────────────────────────────────────────────────\n",
       "  88 │ 10949  online     Wilhelm Egon  Fürstenberg-Heiligenberg; Reichs…"
      ]
     },
     "execution_count": 24,
     "metadata": {},
     "output_type": "execute_result"
    }
   ],
   "source": [
    "df_r = filter(:id => isequal(10949), df_dh, view = true)\n",
    "df_r[1, [:id, :status, :givenname, :familyname_variant]]"
   ]
  },
  {
   "cell_type": "markdown",
   "metadata": {},
   "source": [
    "Das wird von der Funktion `fillcnnamelookup` abgefangen."
   ]
  },
  {
   "cell_type": "markdown",
   "metadata": {},
   "source": [
    "Feld `isready` in Int umwandeln"
   ]
  },
  {
   "cell_type": "code",
   "execution_count": 30,
   "metadata": {},
   "outputs": [],
   "source": [
    "isready(bit) = ismissing(bit) ? 0 : (bit == MySQL.API.Bit(1) ? 1 : 0)\n",
    "transform!(df_dh, :isready => ByRow(isready) => :isready);"
   ]
  },
  {
   "cell_type": "code",
   "execution_count": 21,
   "metadata": {},
   "outputs": [
    {
     "data": {
      "text/html": [
       "<div class=\"data-frame\"><p>5 rows × 3 columns</p><table class=\"data-frame\"><thead><tr><th></th><th>id</th><th>givenname</th><th>isready</th></tr><tr><th></th><th title=\"Int32\">Int32</th><th title=\"SubString{String}\">SubStri…</th><th title=\"Int64\">Int64</th></tr></thead><tbody><tr><th>1</th><td>10007</td><td>Adolf Damian Wolfgang</td><td>1</td></tr><tr><th>2</th><td>10014</td><td>Philipp Wilderich</td><td>1</td></tr><tr><th>3</th><td>10084</td><td>Franz Wilhelm</td><td>1</td></tr><tr><th>4</th><td>10091</td><td>Johann Friedrich Arnold</td><td>1</td></tr><tr><th>5</th><td>10141</td><td>Karl Wilhelm Joseph</td><td>1</td></tr></tbody></table></div>"
      ],
      "text/latex": [
       "\\begin{tabular}{r|ccc}\n",
       "\t& id & givenname & isready\\\\\n",
       "\t\\hline\n",
       "\t& Int32 & SubStri… & Int64\\\\\n",
       "\t\\hline\n",
       "\t1 & 10007 & Adolf Damian Wolfgang & 1 \\\\\n",
       "\t2 & 10014 & Philipp Wilderich & 1 \\\\\n",
       "\t3 & 10084 & Franz Wilhelm & 1 \\\\\n",
       "\t4 & 10091 & Johann Friedrich Arnold & 1 \\\\\n",
       "\t5 & 10141 & Karl Wilhelm Joseph & 1 \\\\\n",
       "\\end{tabular}\n"
      ],
      "text/plain": [
       "\u001b[1m5×3 DataFrame\u001b[0m\n",
       "\u001b[1m Row \u001b[0m│\u001b[1m id    \u001b[0m\u001b[1m givenname               \u001b[0m\u001b[1m isready \u001b[0m\n",
       "\u001b[1m     \u001b[0m│\u001b[90m Int32 \u001b[0m\u001b[90m SubStrin…               \u001b[0m\u001b[90m Int64   \u001b[0m\n",
       "─────┼─────────────────────────────────────────\n",
       "   1 │ 10007  Adolf Damian Wolfgang          1\n",
       "   2 │ 10014  Philipp Wilderich              1\n",
       "   3 │ 10084  Franz Wilhelm                  1\n",
       "   4 │ 10091  Johann Friedrich Arnold        1\n",
       "   5 │ 10141  Karl Wilhelm Joseph            1"
      ]
     },
     "execution_count": 21,
     "metadata": {},
     "output_type": "execute_result"
    }
   ],
   "source": [
    "filter(:isready => isequal(1), df_dh[1:5, [:id, :givenname, :isready]])"
   ]
  },
  {
   "cell_type": "markdown",
   "metadata": {},
   "source": [
    "## Literaturangaben"
   ]
  },
  {
   "cell_type": "markdown",
   "metadata": {},
   "source": [
    "direkte Einträge (alle Einträge haben einen Literaturverweis)"
   ]
  },
  {
   "cell_type": "code",
   "execution_count": 31,
   "metadata": {},
   "outputs": [],
   "source": [
    "ref1(status, merged_into) = isequal(status, \"online\") && ismissing(merged_into)\n",
    "df_dh_ref1 = filter([:status, :merged_into] => ref1, df_dh);"
   ]
  },
  {
   "cell_type": "code",
   "execution_count": 32,
   "metadata": {},
   "outputs": [
    {
     "data": {
      "text/plain": [
       "(2430, 31)"
      ]
     },
     "execution_count": 32,
     "metadata": {},
     "output_type": "execute_result"
    }
   ],
   "source": [
    "size(df_dh_ref1)"
   ]
  },
  {
   "cell_type": "code",
   "execution_count": 33,
   "metadata": {},
   "outputs": [],
   "source": [
    "columns = [\n",
    "    :id => :id_canon,\n",
    "    :id => :id_canon_orig,\n",
    "    :id_reference => :id_reference,\n",
    "    :item_reference => :item_reference,\n",
    "    :page_reference => :page_reference,\n",
    "    :id_in_reference => :id_in_reference,\n",
    "];"
   ]
  },
  {
   "cell_type": "code",
   "execution_count": 34,
   "metadata": {},
   "outputs": [
    {
     "name": "stderr",
     "output_type": "stream",
     "text": [
      "┌ Info: Rows inserted: 2430\n",
      "└ @ WiagDataSetup C:\\Users\\georg\\Documents\\projekte\\WiagDataSetup.jl\\src\\WiagDataSetup.jl:1202\n"
     ]
    },
    {
     "data": {
      "text/plain": [
       "2430"
      ]
     },
     "execution_count": 34,
     "metadata": {},
     "output_type": "execute_result"
    }
   ],
   "source": [
    "table_name = \"cn_canon_reference\"\n",
    "Wds.filltable!(table_name, select(df_dh_ref1, columns), clear_table = true)"
   ]
  },
  {
   "cell_type": "code",
   "execution_count": 35,
   "metadata": {},
   "outputs": [],
   "source": [
    "ref2(status, merged_into) = isequal(status, \"merged\") && !ismissing(merged_into)\n",
    "df_dh_ref2 = filter([:status, :merged_into] => ref2, df_dh);"
   ]
  },
  {
   "cell_type": "code",
   "execution_count": 36,
   "metadata": {},
   "outputs": [
    {
     "data": {
      "text/plain": [
       "(829, 31)"
      ]
     },
     "execution_count": 36,
     "metadata": {},
     "output_type": "execute_result"
    }
   ],
   "source": [
    "size(df_dh_ref2)"
   ]
  },
  {
   "cell_type": "code",
   "execution_count": 37,
   "metadata": {},
   "outputs": [],
   "source": [
    "columns_2nd = [\n",
    "    :merged_into => :id_canon,\n",
    "    :id => :id_canon_orig,\n",
    "    :id_reference => :id_reference,\n",
    "    :item_reference => :item_reference,\n",
    "    :page_reference => :page_reference,\n",
    "    :id_in_reference => :id_in_reference,\n",
    "];"
   ]
  },
  {
   "cell_type": "code",
   "execution_count": 38,
   "metadata": {},
   "outputs": [
    {
     "name": "stderr",
     "output_type": "stream",
     "text": [
      "┌ Info: Rows inserted: 829\n",
      "└ @ WiagDataSetup C:\\Users\\georg\\Documents\\projekte\\WiagDataSetup.jl\\src\\WiagDataSetup.jl:1202\n"
     ]
    },
    {
     "data": {
      "text/plain": [
       "829"
      ]
     },
     "execution_count": 38,
     "metadata": {},
     "output_type": "execute_result"
    }
   ],
   "source": [
    "table_name = \"cn_canon_reference\"\n",
    "Wds.filltable!(table_name, select(df_dh_ref2, columns_2nd), clear_table = false)"
   ]
  },
  {
   "cell_type": "markdown",
   "metadata": {},
   "source": [
    "Auszählung zu häufigsten Literaturverweisen\n",
    "```\n",
    "+----------+---+\n",
    "| id_canon | n |\n",
    "+----------+---+\n",
    "|    14077 | 5 |\n",
    "|    18785 | 5 |\n",
    "|    18727 | 4 |\n",
    "|    19313 | 4 |\n",
    "|    18702 | 4 |\n",
    "|    18677 | 4 |\n",
    "|    11041 | 4 |\n",
    "|    19318 | 4 |\n",
    "|    18770 | 4 |\n",
    "|    18783 | 4 |\n",
    "|    11075 | 4 |\n",
    "|    11007 | 3 |\n",
    "+----------+---+\n",
    "```"
   ]
  },
  {
   "cell_type": "markdown",
   "metadata": {},
   "source": [
    "## Lebensdaten\n",
    "Hier werden nur noch Einträge benötigt mit Status = 'online'"
   ]
  },
  {
   "cell_type": "code",
   "execution_count": 39,
   "metadata": {},
   "outputs": [],
   "source": [
    "df_dh_online = filter(:status => isequal(\"online\"), df_dh);"
   ]
  },
  {
   "cell_type": "code",
   "execution_count": 40,
   "metadata": {},
   "outputs": [
    {
     "data": {
      "text/plain": [
       "(3260, 2431)"
      ]
     },
     "execution_count": 40,
     "metadata": {},
     "output_type": "execute_result"
    }
   ],
   "source": [
    "nrow(df_dh), nrow(df_dh_online)"
   ]
  },
  {
   "cell_type": "markdown",
   "metadata": {},
   "source": [
    "`date_hist_first` ist befüllt, allerdings mit Text.  \n",
    "Jahreszahlen auslesen."
   ]
  },
  {
   "cell_type": "code",
   "execution_count": 41,
   "metadata": {},
   "outputs": [
    {
     "name": "stderr",
     "output_type": "stream",
     "text": [
      "┌ Warning: Could only find year in \n",
      "│   s = vor) 1571\n",
      "└ @ WiagDataSetup C:\\Users\\georg\\Documents\\projekte\\WiagDataSetup.jl\\src\\WiagDataSetup.jl:1106\n"
     ]
    }
   ],
   "source": [
    "date_hist_first(date) = Wds.parsemaybe(date, :lower)\n",
    "transform!(df_dh_online, :date_min_in => (x -> date_hist_first.(x)) => :date_hist_first);"
   ]
  },
  {
   "cell_type": "code",
   "execution_count": 42,
   "metadata": {},
   "outputs": [],
   "source": [
    "date_hist_last(date) = Wds.parsemaybe(date, :upper)\n",
    "transform!(df_dh_online, :date_max_in => (x -> date_hist_last.(x)) => :date_hist_last);"
   ]
  },
  {
   "cell_type": "code",
   "execution_count": 43,
   "metadata": {},
   "outputs": [
    {
     "name": "stderr",
     "output_type": "stream",
     "text": [
      "┌ Warning: Could only find year in \n",
      "│   s = nach) 1317\n",
      "└ @ WiagDataSetup C:\\Users\\georg\\Documents\\projekte\\WiagDataSetup.jl\\src\\WiagDataSetup.jl:1106\n",
      "┌ Warning: Could only find year in \n",
      "│   s = vor) 1346\n",
      "└ @ WiagDataSetup C:\\Users\\georg\\Documents\\projekte\\WiagDataSetup.jl\\src\\WiagDataSetup.jl:1106\n"
     ]
    }
   ],
   "source": [
    "numdate_death(date) = Wds.parsemaybe(date, :upper)\n",
    "transform!(df_dh, :date_death => (x -> numdate_death.(x)) => :numdate_death);"
   ]
  },
  {
   "cell_type": "code",
   "execution_count": 44,
   "metadata": {},
   "outputs": [],
   "source": [
    "numdate_birth(date) = Wds.parsemaybe(date, :lower)\n",
    "transform!(df_dh_online, :date_birth => (x -> numdate_birth.(x)) => :numdate_birth);"
   ]
  },
  {
   "cell_type": "markdown",
   "metadata": {},
   "source": [
    "Die Einträge für Wikipedia-Seiten enthalten zum Teil '#' und sind doppelt."
   ]
  },
  {
   "cell_type": "code",
   "execution_count": 45,
   "metadata": {},
   "outputs": [],
   "source": [
    "transform!(df_dh_online, :wikipedia_url => (x -> Wds.fix_Wikipedia_URL.(x)) => :wikipedia_url);"
   ]
  },
  {
   "cell_type": "code",
   "execution_count": 46,
   "metadata": {
    "scrolled": true
   },
   "outputs": [
    {
     "name": "stderr",
     "output_type": "stream",
     "text": [
      "┌ Info: Rows inserted: 2431\n",
      "└ @ WiagDataSetup C:\\Users\\georg\\Documents\\projekte\\WiagDataSetup.jl\\src\\WiagDataSetup.jl:1202\n"
     ]
    },
    {
     "data": {
      "text/plain": [
       "2431"
      ]
     },
     "execution_count": 46,
     "metadata": {},
     "output_type": "execute_result"
    }
   ],
   "source": [
    "table_name = \"cn_canon\"\n",
    "Wds.filltable!(table_name, select(df_dh_online, Not([:date_min_in, :date_max_in])), clear_table = true)"
   ]
  },
  {
   "cell_type": "markdown",
   "metadata": {},
   "source": [
    "## Ämter"
   ]
  },
  {
   "cell_type": "markdown",
   "metadata": {},
   "source": [
    "Betrachte nur Ämter von relevanten Domherren. (`status = 'online'`)"
   ]
  },
  {
   "cell_type": "code",
   "execution_count": 47,
   "metadata": {},
   "outputs": [],
   "source": [
    "sql = \"SELECT ID_Amt as id_in_dh, ID_Domherr as id_canon, ID_Fremdschlüssel as id_in_reference, \" *\n",
    "\"Amtsart as office_name, Amtsbeginn as date_start, Amtsende as date_end, \" *\n",
    "\"Bistum as diocese, Institution as institution, ID_Kloster as id_monastery, \" *\n",
    "\"Profession as profession, Amt_weltlich as office_mundane, Herrschaftsgebiet as dominion, \" *\n",
    "\"Ort as location, Archidiakonat as archdeacon_territory, \" *\n",
    "\"Dignität as dignity, \" *\n",
    "\"Amt_Kommentar as comment, \" *\n",
    "\"Sort as sortkey \" *\n",
    "\"FROM domherr.tbl_domherren_aemter \" *\n",
    "\"WHERE ID_Domherr in (SELECT ID_Domherr FROM domherr.tbl_domherren WHERE Status = 'online')\"\n",
    "df_oc = Wds.sql_df(sql);"
   ]
  },
  {
   "cell_type": "code",
   "execution_count": 48,
   "metadata": {},
   "outputs": [
    {
     "data": {
      "text/plain": [
       "(5200, 17)"
      ]
     },
     "execution_count": 48,
     "metadata": {},
     "output_type": "execute_result"
    }
   ],
   "source": [
    "size(df_oc)"
   ]
  },
  {
   "cell_type": "code",
   "execution_count": 49,
   "metadata": {},
   "outputs": [
    {
     "name": "stderr",
     "output_type": "stream",
     "text": [
      "┌ Warning: Could not parse \n",
      "│   s = unbekannt\n",
      "└ @ WiagDataSetup C:\\Users\\georg\\Documents\\projekte\\WiagDataSetup.jl\\src\\WiagDataSetup.jl:1111\n",
      "┌ Warning: Could only find year in \n",
      "│   s = von 1521\n",
      "└ @ WiagDataSetup C:\\Users\\georg\\Documents\\projekte\\WiagDataSetup.jl\\src\\WiagDataSetup.jl:1106\n",
      "┌ Warning: Could not parse \n",
      "│   s = unbekannt\n",
      "└ @ WiagDataSetup C:\\Users\\georg\\Documents\\projekte\\WiagDataSetup.jl\\src\\WiagDataSetup.jl:1111\n",
      "┌ Warning: Could not parse \n",
      "│   s = wohl im 9. Jahrhundert\n",
      "└ @ WiagDataSetup C:\\Users\\georg\\Documents\\projekte\\WiagDataSetup.jl\\src\\WiagDataSetup.jl:1111\n",
      "┌ Info: First century date \n",
      "│   s = 11. oder 12. Jahrhundert\n",
      "└ @ WiagDataSetup C:\\Users\\georg\\Documents\\projekte\\WiagDataSetup.jl\\src\\WiagDataSetup.jl:1089\n",
      "┌ Info: First century date \n",
      "│   s = 11. oder 12. Jahrhundert\n",
      "└ @ WiagDataSetup C:\\Users\\georg\\Documents\\projekte\\WiagDataSetup.jl\\src\\WiagDataSetup.jl:1089\n",
      "┌ Info: First century date \n",
      "│   s = 11. oder 12. Jahrhundert\n",
      "└ @ WiagDataSetup C:\\Users\\georg\\Documents\\projekte\\WiagDataSetup.jl\\src\\WiagDataSetup.jl:1089\n",
      "┌ Info: First century date \n",
      "│   s = 11. oder 12. Jahrhundert\n",
      "└ @ WiagDataSetup C:\\Users\\georg\\Documents\\projekte\\WiagDataSetup.jl\\src\\WiagDataSetup.jl:1089\n",
      "┌ Info: First century date \n",
      "│   s = 11. oder 12. Jahrhundert\n",
      "└ @ WiagDataSetup C:\\Users\\georg\\Documents\\projekte\\WiagDataSetup.jl\\src\\WiagDataSetup.jl:1089\n"
     ]
    }
   ],
   "source": [
    "date_start(date) = Wds.parsemaybe(date, :lower)\n",
    "transform!(df_oc, :date_start => (x -> date_start.(x)) => :numdate_start);"
   ]
  },
  {
   "cell_type": "code",
   "execution_count": 50,
   "metadata": {},
   "outputs": [
    {
     "name": "stderr",
     "output_type": "stream",
     "text": [
      "┌ Warning: Could only find year in \n",
      "│   s = vor) 1464\n",
      "└ @ WiagDataSetup C:\\Users\\georg\\Documents\\projekte\\WiagDataSetup.jl\\src\\WiagDataSetup.jl:1106\n"
     ]
    }
   ],
   "source": [
    "date_end(date) = Wds.parsemaybe(date, :upper)\n",
    "transform!(df_oc, :date_end => (x -> date_end.(x)) => :numdate_end);"
   ]
  },
  {
   "cell_type": "markdown",
   "metadata": {},
   "source": [
    "Welche Diözesen sind in der Datenbank?  \n",
    "befülle `diocese_in_db`"
   ]
  },
  {
   "cell_type": "code",
   "execution_count": 51,
   "metadata": {},
   "outputs": [],
   "source": [
    "sql = \"SELECT diocese FROM wiag.diocese\"\n",
    "df_dioc = Wds.sql_df(sql);"
   ]
  },
  {
   "cell_type": "code",
   "execution_count": 52,
   "metadata": {},
   "outputs": [],
   "source": [
    "in_db(diocese) = ismissing(diocese) ? 0 : (in(diocese, df_dioc.diocese) ? 1 : 0)\n",
    "df_oc[!, :diocese_in_db] .= 0;\n",
    "for row in eachrow(df_oc)\n",
    "    row[:diocese_in_db] = in_db(row[:diocese])\n",
    "end"
   ]
  },
  {
   "cell_type": "markdown",
   "metadata": {},
   "source": [
    "Einige Klöster sind nicht mehr in der Klosterdatenbank.  \n",
    "Befülle als Abhilfe die Felder `institution` und `location` und `monastery` mit Dummy-Zeilen (siehe unten)"
   ]
  },
  {
   "cell_type": "code",
   "execution_count": 53,
   "metadata": {},
   "outputs": [],
   "source": [
    "sql = \"SELECT wiagid FROM wiag.monastery\"\n",
    "df_mon_id = Wds.sql_df(sql);"
   ]
  },
  {
   "cell_type": "code",
   "execution_count": 57,
   "metadata": {},
   "outputs": [
    {
     "data": {
      "text/plain": [
       "1-element Vector{Int32}:\n",
       " 4066"
      ]
     },
     "execution_count": 57,
     "metadata": {},
     "output_type": "execute_result"
    }
   ],
   "source": [
    "setdiff(skipmissing(df_oc.id_monastery), df_mon_id.wiagid)"
   ]
  },
  {
   "cell_type": "markdown",
   "metadata": {},
   "source": [
    "Domstift Verdun (4066) ist in der Klosterdatenbank (siehe unten)"
   ]
  },
  {
   "cell_type": "code",
   "execution_count": 58,
   "metadata": {},
   "outputs": [],
   "source": [
    "d_mg_mon = Dict(\n",
    "    4068 => (\"Domstift Kurland, Livland\", missing),\n",
    "    4074 => (\"Domstift Reval, Estland\", \"Reval\"),\n",
    "    4075 => (\"Domstift Riga, Lettland\", \"Riga\")\n",
    ");"
   ]
  },
  {
   "cell_type": "code",
   "execution_count": 59,
   "metadata": {},
   "outputs": [],
   "source": [
    "df_inst = filter(:institution => !ismissing, df_oc);"
   ]
  },
  {
   "cell_type": "code",
   "execution_count": 60,
   "metadata": {},
   "outputs": [
    {
     "data": {
      "text/plain": [
       "(0, 20)"
      ]
     },
     "execution_count": 60,
     "metadata": {},
     "output_type": "execute_result"
    }
   ],
   "source": [
    "size(df_inst)"
   ]
  },
  {
   "cell_type": "code",
   "execution_count": 61,
   "metadata": {},
   "outputs": [],
   "source": [
    "for i_mon in keys(d_mg_mon)\n",
    "    row_idx = isequal.(df_oc.id_monastery, i_mon)\n",
    "    df_oc[row_idx, :institution] .= d_mg_mon[i_mon][1]\n",
    "    df_oc[row_idx, :location] .= d_mg_mon[i_mon][2]\n",
    "end"
   ]
  },
  {
   "cell_type": "code",
   "execution_count": 62,
   "metadata": {},
   "outputs": [
    {
     "data": {
      "text/html": [
       "<div class=\"data-frame\"><p>8 rows × 4 columns</p><table class=\"data-frame\"><thead><tr><th></th><th>id_canon</th><th>office_name</th><th>institution</th><th>location</th></tr><tr><th></th><th title=\"Union{Missing, Int32}\">Int32?</th><th title=\"Union{Missing, String}\">String?</th><th title=\"Union{Missing, String}\">String?</th><th title=\"Union{Missing, String}\">String?</th></tr></thead><tbody><tr><th>1</th><td>19489</td><td>Domherr</td><td>Domstift Reval, Estland</td><td>Reval</td></tr><tr><th>2</th><td>19405</td><td>Domherr</td><td>Domstift Reval, Estland</td><td>Reval</td></tr><tr><th>3</th><td>19054</td><td>Domherr</td><td>Domstift Reval, Estland</td><td>Reval</td></tr><tr><th>4</th><td>26602</td><td>Domherr</td><td>Domstift Riga, Lettland</td><td>Riga</td></tr><tr><th>5</th><td>26602</td><td>Dompropst</td><td>Domstift Kurland, Livland</td><td><em>missing</em></td></tr><tr><th>6</th><td>26715</td><td>Domherr</td><td>Domstift Riga, Lettland</td><td>Riga</td></tr><tr><th>7</th><td>19649</td><td>Domherr</td><td>Domstift Reval, Estland</td><td>Reval</td></tr><tr><th>8</th><td>26709</td><td>Domherrenbewerber</td><td>Domstift Reval, Estland</td><td>Reval</td></tr></tbody></table></div>"
      ],
      "text/latex": [
       "\\begin{tabular}{r|cccc}\n",
       "\t& id\\_canon & office\\_name & institution & location\\\\\n",
       "\t\\hline\n",
       "\t& Int32? & String? & String? & String?\\\\\n",
       "\t\\hline\n",
       "\t1 & 19489 & Domherr & Domstift Reval, Estland & Reval \\\\\n",
       "\t2 & 19405 & Domherr & Domstift Reval, Estland & Reval \\\\\n",
       "\t3 & 19054 & Domherr & Domstift Reval, Estland & Reval \\\\\n",
       "\t4 & 26602 & Domherr & Domstift Riga, Lettland & Riga \\\\\n",
       "\t5 & 26602 & Dompropst & Domstift Kurland, Livland & \\emph{missing} \\\\\n",
       "\t6 & 26715 & Domherr & Domstift Riga, Lettland & Riga \\\\\n",
       "\t7 & 19649 & Domherr & Domstift Reval, Estland & Reval \\\\\n",
       "\t8 & 26709 & Domherrenbewerber & Domstift Reval, Estland & Reval \\\\\n",
       "\\end{tabular}\n"
      ],
      "text/plain": [
       "\u001b[1m8×4 DataFrame\u001b[0m\n",
       "\u001b[1m Row \u001b[0m│\u001b[1m id_canon \u001b[0m\u001b[1m office_name       \u001b[0m\u001b[1m institution               \u001b[0m\u001b[1m location \u001b[0m\n",
       "\u001b[1m     \u001b[0m│\u001b[90m Int32?   \u001b[0m\u001b[90m String?           \u001b[0m\u001b[90m String?                   \u001b[0m\u001b[90m String?  \u001b[0m\n",
       "─────┼──────────────────────────────────────────────────────────────────\n",
       "   1 │    19489  Domherr            Domstift Reval, Estland    Reval\n",
       "   2 │    19405  Domherr            Domstift Reval, Estland    Reval\n",
       "   3 │    19054  Domherr            Domstift Reval, Estland    Reval\n",
       "   4 │    26602  Domherr            Domstift Riga, Lettland    Riga\n",
       "   5 │    26602  Dompropst          Domstift Kurland, Livland \u001b[90m missing  \u001b[0m\n",
       "   6 │    26715  Domherr            Domstift Riga, Lettland    Riga\n",
       "   7 │    19649  Domherr            Domstift Reval, Estland    Reval\n",
       "   8 │    26709  Domherrenbewerber  Domstift Reval, Estland    Reval"
      ]
     },
     "execution_count": 62,
     "metadata": {},
     "output_type": "execute_result"
    }
   ],
   "source": [
    "df_inst = filter(:institution => !ismissing, df_oc);\n",
    "df_inst[:, [:id_canon, :office_name, :institution, :location]]"
   ]
  },
  {
   "cell_type": "code",
   "execution_count": 63,
   "metadata": {},
   "outputs": [
    {
     "name": "stderr",
     "output_type": "stream",
     "text": [
      "┌ Info: Rows inserted: 5200\n",
      "└ @ WiagDataSetup C:\\Users\\georg\\Documents\\projekte\\WiagDataSetup.jl\\src\\WiagDataSetup.jl:1202\n"
     ]
    },
    {
     "data": {
      "text/plain": [
       "5200"
      ]
     },
     "execution_count": 63,
     "metadata": {},
     "output_type": "execute_result"
    }
   ],
   "source": [
    "table_name = \"cn_office\"\n",
    "Wds.filltable!(table_name, df_oc, clear_table = true)"
   ]
  },
  {
   "cell_type": "markdown",
   "metadata": {},
   "source": [
    "## Klöster\n",
    "Aus der Klosterdatenbank beziehen, aufgrund der Ämter aller Domherren  \n",
    "https://api.gs.sub.uni-goettingen.de/v1/monastery/2077\n",
    "\n",
    "Zu befüllen: `monastery` und `monastery_location`"
   ]
  },
  {
   "cell_type": "code",
   "execution_count": 64,
   "metadata": {},
   "outputs": [],
   "source": [
    "using HTTP, JSON, DataFrames, MySQL"
   ]
  },
  {
   "cell_type": "code",
   "execution_count": 14,
   "metadata": {},
   "outputs": [
    {
     "data": {
      "text/plain": [
       "\"https://api.gs.sub.uni-goettingen.de/v1/monastery/\""
      ]
     },
     "execution_count": 14,
     "metadata": {},
     "output_type": "execute_result"
    }
   ],
   "source": [
    "url_gs_mon = \"https://api.gs.sub.uni-goettingen.de/v1/monastery/\""
   ]
  },
  {
   "cell_type": "code",
   "execution_count": 103,
   "metadata": {},
   "outputs": [],
   "source": [
    "StringMayBe = Vector{Union{String, Missing}}\n",
    "df_mon = DataFrame(\n",
    "    wiagid = Int[],\n",
    "    name = StringMayBe(),\n",
    "    patrocinium = StringMayBe()\n",
    ")\n",
    "df_mon_loc = DataFrame(\n",
    "    wiagid_monastery = Int[],\n",
    "    longitude = StringMayBe(),\n",
    "    latitude = StringMayBe(),\n",
    "    placeName = StringMayBe(),\n",
    "    locationName = StringMayBe(),\n",
    "    beginTPQ = StringMayBe(),\n",
    "    endTPQ = StringMayBe()\n",
    ");"
   ]
  },
  {
   "cell_type": "markdown",
   "metadata": {},
   "source": [
    "IDs relevanter Klöster lesen"
   ]
  },
  {
   "cell_type": "code",
   "execution_count": 88,
   "metadata": {},
   "outputs": [],
   "source": [
    "sql = \"SELECT DISTINCT id_monastery FROM \n",
    "(SELECT id_monastery FROM wiag.office WHERE id_monastery IS NOT NULL\n",
    "UNION SELECT id_monastery FROM wiag_in.cn_office WHERE id_monastery IS NOT NULL\n",
    "UNION SELECT id_monastery FROM wiag_in.cn_office_gs WHERE id_monastery IS NOT NULL) AS c\"\n",
    "df_id_mon = Wds.sql_df(sql);"
   ]
  },
  {
   "cell_type": "code",
   "execution_count": 83,
   "metadata": {},
   "outputs": [
    {
     "data": {
      "text/plain": [
       "(395, 1)"
      ]
     },
     "execution_count": 83,
     "metadata": {},
     "output_type": "execute_result"
    }
   ],
   "source": [
    "size(df_id_mon)"
   ]
  },
  {
   "cell_type": "code",
   "execution_count": 89,
   "metadata": {},
   "outputs": [],
   "source": [
    "id_debug = df_id_mon.id_monastery[160:end];\n",
    "id_all = df_id_mon.id_monastery;"
   ]
  },
  {
   "cell_type": "markdown",
   "metadata": {},
   "source": [
    "Lies Klöster aus der Klosterdatenbank. Wenn ein Kloster nicht gefunden wird, wird ein Dummy-Eintrag angelegt, um einen Absturz der Web-Anwendung zu vermeiden."
   ]
  },
  {
   "cell_type": "code",
   "execution_count": 104,
   "metadata": {},
   "outputs": [
    {
     "name": "stderr",
     "output_type": "stream",
     "text": [
      "┌ Info: 80\n",
      "└ @ WiagDataSetup C:\\Users\\georg\\Documents\\projekte\\WiagDataSetup.jl\\src\\WiagDataSetup.jl:1343\n",
      "┌ Info: 160\n",
      "└ @ WiagDataSetup C:\\Users\\georg\\Documents\\projekte\\WiagDataSetup.jl\\src\\WiagDataSetup.jl:1343\n",
      "┌ Warning: Could not parse  (id: 4068)\n",
      "└ @ WiagDataSetup C:\\Users\\georg\\Documents\\projekte\\WiagDataSetup.jl\\src\\WiagDataSetup.jl:1374\n",
      "┌ Warning: Could not parse  (id: 4074)\n",
      "└ @ WiagDataSetup C:\\Users\\georg\\Documents\\projekte\\WiagDataSetup.jl\\src\\WiagDataSetup.jl:1374\n",
      "┌ Warning: Could not parse  (id: 4075)\n",
      "└ @ WiagDataSetup C:\\Users\\georg\\Documents\\projekte\\WiagDataSetup.jl\\src\\WiagDataSetup.jl:1374\n",
      "┌ Info: 240\n",
      "└ @ WiagDataSetup C:\\Users\\georg\\Documents\\projekte\\WiagDataSetup.jl\\src\\WiagDataSetup.jl:1343\n",
      "┌ Info: 320\n",
      "└ @ WiagDataSetup C:\\Users\\georg\\Documents\\projekte\\WiagDataSetup.jl\\src\\WiagDataSetup.jl:1343\n",
      "┌ Warning: Could not parse  (id: 7203)\n",
      "└ @ WiagDataSetup C:\\Users\\georg\\Documents\\projekte\\WiagDataSetup.jl\\src\\WiagDataSetup.jl:1374\n"
     ]
    }
   ],
   "source": [
    "Wds.get_gs_monasteries!(df_mon, df_mon_loc, id_all)"
   ]
  },
  {
   "cell_type": "markdown",
   "metadata": {},
   "source": [
    "Info"
   ]
  },
  {
   "cell_type": "code",
   "execution_count": 72,
   "metadata": {},
   "outputs": [
    {
     "data": {
      "text/plain": [
       "(395, 3)"
      ]
     },
     "execution_count": 72,
     "metadata": {},
     "output_type": "execute_result"
    }
   ],
   "source": [
    "size(df_mon)"
   ]
  },
  {
   "cell_type": "code",
   "execution_count": 99,
   "metadata": {
    "scrolled": true
   },
   "outputs": [
    {
     "data": {
      "text/html": [
       "<div class=\"data-frame\"><p>7 rows × 3 columns (omitted printing of 1 columns)</p><table class=\"data-frame\"><thead><tr><th></th><th>wiagid</th><th>name</th></tr><tr><th></th><th title=\"Int64\">Int64</th><th title=\"Union{Missing, String}\">String?</th></tr></thead><tbody><tr><th>1</th><td>415</td><td>Benediktinerabtei Corvey, kurzzeitig Domstift</td></tr><tr><th>2</th><td>415</td><td>Benediktinerabtei Corvey, kurzzeitig Domstift</td></tr><tr><th>3</th><td>791</td><td>Benediktinerkloster St. Michael, Lüneburg</td></tr><tr><th>4</th><td>3294</td><td>Benediktinerkloster, dann Kollegiatstift St. Leodegar, Murbach, Frankreich</td></tr><tr><th>5</th><td>3428</td><td>Stift Haug, Würzburg</td></tr><tr><th>6</th><td>3560</td><td>Kollegiatstift St. Pauli, Bremen, später Benediktinerkloster</td></tr><tr><th>7</th><td>4623</td><td>Benediktinerreichsabtei Stablo-Malmedy, Belgien</td></tr></tbody></table></div>"
      ],
      "text/latex": [
       "\\begin{tabular}{r|ccc}\n",
       "\t& wiagid & name & \\\\\n",
       "\t\\hline\n",
       "\t& Int64 & String? & \\\\\n",
       "\t\\hline\n",
       "\t1 & 415 & Benediktinerabtei Corvey, kurzzeitig Domstift & $\\dots$ \\\\\n",
       "\t2 & 415 & Benediktinerabtei Corvey, kurzzeitig Domstift & $\\dots$ \\\\\n",
       "\t3 & 791 & Benediktinerkloster St. Michael, Lüneburg & $\\dots$ \\\\\n",
       "\t4 & 3294 & Benediktinerkloster, dann Kollegiatstift St. Leodegar, Murbach, Frankreich & $\\dots$ \\\\\n",
       "\t5 & 3428 & Stift Haug, Würzburg & $\\dots$ \\\\\n",
       "\t6 & 3560 & Kollegiatstift St. Pauli, Bremen, später Benediktinerkloster & $\\dots$ \\\\\n",
       "\t7 & 4623 & Benediktinerreichsabtei Stablo-Malmedy, Belgien & $\\dots$ \\\\\n",
       "\\end{tabular}\n"
      ],
      "text/plain": [
       "\u001b[1m7×3 DataFrame\u001b[0m\n",
       "\u001b[1m Row \u001b[0m│\u001b[1m wiagid \u001b[0m\u001b[1m name                              \u001b[0m\u001b[1m patrocinium                 \u001b[0m ⋯\n",
       "\u001b[1m     \u001b[0m│\u001b[90m Int64  \u001b[0m\u001b[90m String?                           \u001b[0m\u001b[90m String?                     \u001b[0m ⋯\n",
       "─────┼──────────────────────────────────────────────────────────────────────────\n",
       "   1 │    415  Benediktinerabtei Corvey, kurzze…  Martin, Petrus, Stephanus, V ⋯\n",
       "   2 │    415  Benediktinerabtei Corvey, kurzze…  Martin, Petrus, Stephanus, V\n",
       "   3 │    791  Benediktinerkloster St. Michael,…  Michael, Trinitas, Hl. Kreuz\n",
       "   4 │   3294  Benediktinerkloster, dann Kolleg…  Leodegar\n",
       "   5 │   3428  Stift Haug, Würzburg               Johannes Baptista, Johannes  ⋯\n",
       "   6 │   3560  Kollegiatstift St. Pauli, Bremen…  Paulus\n",
       "   7 │   4623  Benediktinerreichsabtei Stablo-M…  Quirinius\n",
       "\u001b[36m                                                                1 column omitted\u001b[0m"
      ]
     },
     "execution_count": 99,
     "metadata": {},
     "output_type": "execute_result"
    }
   ],
   "source": [
    "df_mon[1:7, :]"
   ]
  },
  {
   "cell_type": "code",
   "execution_count": 105,
   "metadata": {},
   "outputs": [],
   "source": [
    "df_mon[!, :id_monastery] .= 1:nrow(df_mon);"
   ]
  },
  {
   "cell_type": "code",
   "execution_count": 99,
   "metadata": {},
   "outputs": [
    {
     "data": {
      "text/plain": [
       "4-element Vector{String}:\n",
       " \"wiagid\"\n",
       " \"name\"\n",
       " \"patrocinium\"\n",
       " \"id_monastery\""
      ]
     },
     "execution_count": 99,
     "metadata": {},
     "output_type": "execute_result"
    }
   ],
   "source": [
    "names(df_mon)"
   ]
  },
  {
   "cell_type": "code",
   "execution_count": 106,
   "metadata": {},
   "outputs": [],
   "source": [
    "rename!(df_mon, :name => :monastery_name);"
   ]
  },
  {
   "cell_type": "code",
   "execution_count": 109,
   "metadata": {},
   "outputs": [
    {
     "name": "stderr",
     "output_type": "stream",
     "text": [
      "┌ Info: Rows inserted: 395\n",
      "└ @ WiagDataSetup C:\\Users\\georg\\Documents\\projekte\\WiagDataSetup.jl\\src\\WiagDataSetup.jl:1202\n"
     ]
    },
    {
     "data": {
      "text/plain": [
       "395"
      ]
     },
     "execution_count": 109,
     "metadata": {},
     "output_type": "execute_result"
    }
   ],
   "source": [
    "table_name = \"monastery\"\n",
    "Wds.filltable!(table_name, df_mon, clear_table = true)"
   ]
  },
  {
   "cell_type": "code",
   "execution_count": 110,
   "metadata": {},
   "outputs": [
    {
     "data": {
      "text/html": [
       "<div class=\"data-frame\"><p>6 rows × 7 columns (omitted printing of 2 columns)</p><table class=\"data-frame\"><thead><tr><th></th><th>wiagid_monastery</th><th>longitude</th><th>latitude</th><th>placeName</th><th>locationName</th></tr><tr><th></th><th title=\"Int64\">Int64</th><th title=\"Union{Missing, String}\">String?</th><th title=\"Union{Missing, String}\">String?</th><th title=\"Union{Missing, String}\">String?</th><th title=\"Union{Missing, String}\">String?</th></tr></thead><tbody><tr><th>1</th><td>982</td><td>8.108056</td><td>51.571528</td><td>Soest</td><td><em>missing</em></td></tr><tr><th>2</th><td>983</td><td>8.10516666666667</td><td>51.5708333333333</td><td>Soest</td><td><em>missing</em></td></tr><tr><th>3</th><td>1015</td><td>10.573333333333</td><td>49.302777777778</td><td>Ansbach</td><td><em>missing</em></td></tr><tr><th>4</th><td>1016</td><td> 9.146389</td><td>49.973611</td><td>Aschaffenburg</td><td><em>missing</em></td></tr><tr><th>5</th><td>1043</td><td>9.1744</td><td>47.6625</td><td>Konstanz</td><td><em>missing</em></td></tr><tr><th>6</th><td>1051</td><td>7.3012</td><td>50.18369</td><td>Treis-Karden</td><td>Karden an der Mosel</td></tr></tbody></table></div>"
      ],
      "text/latex": [
       "\\begin{tabular}{r|cccccc}\n",
       "\t& wiagid\\_monastery & longitude & latitude & placeName & locationName & \\\\\n",
       "\t\\hline\n",
       "\t& Int64 & String? & String? & String? & String? & \\\\\n",
       "\t\\hline\n",
       "\t1 & 982 & 8.108056 & 51.571528 & Soest & \\emph{missing} & $\\dots$ \\\\\n",
       "\t2 & 983 & 8.10516666666667 & 51.5708333333333 & Soest & \\emph{missing} & $\\dots$ \\\\\n",
       "\t3 & 1015 & 10.573333333333 & 49.302777777778 & Ansbach & \\emph{missing} & $\\dots$ \\\\\n",
       "\t4 & 1016 &  9.146389 & 49.973611 & Aschaffenburg & \\emph{missing} & $\\dots$ \\\\\n",
       "\t5 & 1043 & 9.1744 & 47.6625 & Konstanz & \\emph{missing} & $\\dots$ \\\\\n",
       "\t6 & 1051 & 7.3012 & 50.18369 & Treis-Karden & Karden an der Mosel & $\\dots$ \\\\\n",
       "\\end{tabular}\n"
      ],
      "text/plain": [
       "\u001b[1m6×7 DataFrame\u001b[0m\n",
       "\u001b[1m Row \u001b[0m│\u001b[1m wiagid_monastery \u001b[0m\u001b[1m longitude        \u001b[0m\u001b[1m latitude         \u001b[0m\u001b[1m placeName     \u001b[0m\u001b[1m lo\u001b[0m ⋯\n",
       "\u001b[1m     \u001b[0m│\u001b[90m Int64            \u001b[0m\u001b[90m String?          \u001b[0m\u001b[90m String?          \u001b[0m\u001b[90m String?       \u001b[0m\u001b[90m St\u001b[0m ⋯\n",
       "─────┼──────────────────────────────────────────────────────────────────────────\n",
       "   1 │              982  8.108056          51.571528         Soest         \u001b[90m mi\u001b[0m ⋯\n",
       "   2 │              983  8.10516666666667  51.5708333333333  Soest         \u001b[90m mi\u001b[0m\n",
       "   3 │             1015  10.573333333333   49.302777777778   Ansbach       \u001b[90m mi\u001b[0m\n",
       "   4 │             1016   9.146389         49.973611         Aschaffenburg \u001b[90m mi\u001b[0m\n",
       "   5 │             1043  9.1744            47.6625           Konstanz      \u001b[90m mi\u001b[0m ⋯\n",
       "   6 │             1051  7.3012            50.18369          Treis-Karden   Ka\n",
       "\u001b[36m                                                               3 columns omitted\u001b[0m"
      ]
     },
     "execution_count": 110,
     "metadata": {},
     "output_type": "execute_result"
    }
   ],
   "source": [
    "df_mon_loc[100:105, :]"
   ]
  },
  {
   "cell_type": "code",
   "execution_count": 117,
   "metadata": {},
   "outputs": [
    {
     "data": {
      "text/plain": [
       "(0, 7)"
      ]
     },
     "execution_count": 117,
     "metadata": {},
     "output_type": "execute_result"
    }
   ],
   "source": [
    "df_mg_geo = filter(:longitude => ismissing, df_mon_loc);\n",
    "size(df_mg_geo)"
   ]
  },
  {
   "cell_type": "code",
   "execution_count": 111,
   "metadata": {},
   "outputs": [],
   "source": [
    "parseFloat(x) = parse(Float64, x)\n",
    "transform!(df_mon_loc, :longitude => ByRow(parseFloat) => :longitude);"
   ]
  },
  {
   "cell_type": "code",
   "execution_count": 112,
   "metadata": {},
   "outputs": [],
   "source": [
    "transform!(df_mon_loc, :latitude => ByRow(parseFloat) => :latitude);"
   ]
  },
  {
   "cell_type": "code",
   "execution_count": 122,
   "metadata": {},
   "outputs": [
    {
     "data": {
      "text/plain": [
       "7-element Vector{String}:\n",
       " \"wiagid_monastery\"\n",
       " \"longitude\"\n",
       " \"latitude\"\n",
       " \"placeName\"\n",
       " \"locationName\"\n",
       " \"beginTPQ\"\n",
       " \"endTPQ\""
      ]
     },
     "execution_count": 122,
     "metadata": {},
     "output_type": "execute_result"
    }
   ],
   "source": [
    "names(df_mon_loc)"
   ]
  },
  {
   "cell_type": "code",
   "execution_count": 124,
   "metadata": {},
   "outputs": [
    {
     "data": {
      "text/plain": [
       "(0, 7)"
      ]
     },
     "execution_count": 124,
     "metadata": {},
     "output_type": "execute_result"
    }
   ],
   "source": [
    "df_mg_place_name = filter(:placeName => ismissing, df_mon_loc);\n",
    "size(df_mg_place_name)"
   ]
  },
  {
   "cell_type": "code",
   "execution_count": 113,
   "metadata": {},
   "outputs": [],
   "source": [
    "df_mon_loc[!, :id] .= 1:nrow(df_mon_loc);"
   ]
  },
  {
   "cell_type": "code",
   "execution_count": 114,
   "metadata": {},
   "outputs": [],
   "source": [
    "columns = [\n",
    "    :id => :id,\n",
    "    :wiagid_monastery => :wiagid_monastery,\n",
    "    :longitude => :longitude,\n",
    "    :latitude => :latitude,\n",
    "    :placeName => :place_name,\n",
    "    :locationName => :location_name,\n",
    "    :beginTPQ => :location_begin_tpq,\n",
    "    :endTPQ => :location_end_tpq\n",
    "];"
   ]
  },
  {
   "cell_type": "code",
   "execution_count": 115,
   "metadata": {},
   "outputs": [
    {
     "name": "stderr",
     "output_type": "stream",
     "text": [
      "┌ Info: Rows inserted: 422\n",
      "└ @ WiagDataSetup C:\\Users\\georg\\Documents\\projekte\\WiagDataSetup.jl\\src\\WiagDataSetup.jl:1202\n"
     ]
    },
    {
     "data": {
      "text/plain": [
       "422"
      ]
     },
     "execution_count": 115,
     "metadata": {},
     "output_type": "execute_result"
    }
   ],
   "source": [
    "table_name = \"monastery_location\"\n",
    "Wds.filltable!(table_name, select(df_mon_loc, columns), clear_table = true)"
   ]
  },
  {
   "cell_type": "markdown",
   "metadata": {},
   "source": [
    "## Hilfstabellen\n",
    "### `cn_online`\n",
    "``` sql\n",
    "CREATE TABLE cn_online LIKE wiag.cn_online;\n",
    "```"
   ]
  },
  {
   "cell_type": "markdown",
   "metadata": {},
   "source": [
    "Domherren aus der Personendatenbank"
   ]
  },
  {
   "cell_type": "code",
   "execution_count": 118,
   "metadata": {},
   "outputs": [],
   "source": [
    "sql = \"SELECT id as id_gs, gsn_id, givenname, familyname FROM wiag_in.cn_canon_gs WHERE status = 'online'\"\n",
    "df_pub_gs = Wds.sql_df(sql);"
   ]
  },
  {
   "cell_type": "code",
   "execution_count": 119,
   "metadata": {},
   "outputs": [
    {
     "data": {
      "text/plain": [
       "(7510, 4)"
      ]
     },
     "execution_count": 119,
     "metadata": {},
     "output_type": "execute_result"
    }
   ],
   "source": [
    "size(df_pub_gs)"
   ]
  },
  {
   "cell_type": "code",
   "execution_count": 14,
   "metadata": {},
   "outputs": [
    {
     "data": {
      "text/plain": [
       "(7510,)"
      ]
     },
     "execution_count": 14,
     "metadata": {},
     "output_type": "execute_result"
    }
   ],
   "source": [
    "size(unique(df_pub_gs.gsn_id))"
   ]
  },
  {
   "cell_type": "markdown",
   "metadata": {},
   "source": [
    "Domherren aus der Domherrendatenbank"
   ]
  },
  {
   "cell_type": "code",
   "execution_count": 121,
   "metadata": {},
   "outputs": [],
   "source": [
    "sql = \"SELECT id as id_dh, wiag_episc_id as wiagid, gsn_id, givenname, familyname \" *\n",
    "\"FROM wiag_in.cn_canon WHERE status = 'online'\"\n",
    "df_pub_dh = Wds.sql_df(sql);"
   ]
  },
  {
   "cell_type": "code",
   "execution_count": 122,
   "metadata": {},
   "outputs": [
    {
     "data": {
      "text/plain": [
       "(2431, 5)"
      ]
     },
     "execution_count": 122,
     "metadata": {},
     "output_type": "execute_result"
    }
   ],
   "source": [
    "size(df_pub_dh)"
   ]
  },
  {
   "cell_type": "markdown",
   "metadata": {},
   "source": [
    "Prüfe auf GSN-Dubletten"
   ]
  },
  {
   "cell_type": "code",
   "execution_count": 123,
   "metadata": {},
   "outputs": [],
   "source": [
    "df_dh_gsn = dropmissing(df_pub_dh, :gsn_id);"
   ]
  },
  {
   "cell_type": "code",
   "execution_count": 124,
   "metadata": {},
   "outputs": [
    {
     "data": {
      "text/plain": [
       "(399, 5)"
      ]
     },
     "execution_count": 124,
     "metadata": {},
     "output_type": "execute_result"
    }
   ],
   "source": [
    "size(df_dh_gsn)"
   ]
  },
  {
   "cell_type": "code",
   "execution_count": 125,
   "metadata": {},
   "outputs": [],
   "source": [
    "dfg = groupby(df_dh_gsn, :gsn_id);\n",
    "dfg_n = combine(dfg, nrow);"
   ]
  },
  {
   "cell_type": "code",
   "execution_count": 126,
   "metadata": {},
   "outputs": [
    {
     "data": {
      "text/html": [
       "<div class=\"data-frame\"><p>0 rows × 2 columns</p><table class=\"data-frame\"><thead><tr><th></th><th>gsn_id</th><th>nrow</th></tr><tr><th></th><th title=\"String\">String</th><th title=\"Int64\">Int64</th></tr></thead><tbody></tbody></table></div>"
      ],
      "text/latex": [
       "\\begin{tabular}{r|cc}\n",
       "\t& gsn\\_id & nrow\\\\\n",
       "\t\\hline\n",
       "\t& String & Int64\\\\\n",
       "\t\\hline\n",
       "\\end{tabular}\n"
      ],
      "text/plain": [
       "\u001b[1m0×2 DataFrame\u001b[0m"
      ]
     },
     "execution_count": 126,
     "metadata": {},
     "output_type": "execute_result"
    }
   ],
   "source": [
    "dfg_nth2 = filter(:nrow => (x -> x > 1), dfg_n)"
   ]
  },
  {
   "cell_type": "code",
   "execution_count": 127,
   "metadata": {},
   "outputs": [
    {
     "data": {
      "text/html": [
       "<div class=\"data-frame\"><p>0 rows × 5 columns</p><table class=\"data-frame\"><thead><tr><th></th><th>id_dh</th><th>gsn_id</th><th>givenname</th><th>familyname</th><th>nrow</th></tr><tr><th></th><th title=\"Int32\">Int32</th><th title=\"String\">String</th><th title=\"Union{Missing, String}\">String?</th><th title=\"Union{Missing, String}\">String?</th><th title=\"Int64\">Int64</th></tr></thead><tbody></tbody></table></div>"
      ],
      "text/latex": [
       "\\begin{tabular}{r|ccccc}\n",
       "\t& id\\_dh & gsn\\_id & givenname & familyname & nrow\\\\\n",
       "\t\\hline\n",
       "\t& Int32 & String & String? & String? & Int64\\\\\n",
       "\t\\hline\n",
       "\\end{tabular}\n"
      ],
      "text/plain": [
       "\u001b[1m0×5 DataFrame\u001b[0m"
      ]
     },
     "execution_count": 127,
     "metadata": {},
     "output_type": "execute_result"
    }
   ],
   "source": [
    "df_dh_gsn_db = innerjoin(df_dh_gsn, dfg_nth2, on = :gsn_id);\n",
    "sort(select(df_dh_gsn_db, Not(:wiagid)), :gsn_id)"
   ]
  },
  {
   "cell_type": "markdown",
   "metadata": {},
   "source": [
    "Keine Dopplungen merh (2021-11-24), sonst: Die Dopplung bleibt beim weiteren Import erhalten."
   ]
  },
  {
   "cell_type": "markdown",
   "metadata": {},
   "source": [
    "Wir gehen davon aus, dass für alle Domherren der Eintrag in der Bischofsdatenbank recherchiert wurde. Wenn es einen solchen Eintrag gibt, wird die WIAG-ID übernommen und `id_ep` wird entsprechend gesetzt. Für die restlichen wird eine WIAG_ID auf der Basis der ID in der Domherrendatenbank vergeben."
   ]
  },
  {
   "cell_type": "code",
   "execution_count": 128,
   "metadata": {},
   "outputs": [
    {
     "data": {
      "text/plain": [
       "id_ep (generic function with 1 method)"
      ]
     },
     "execution_count": 128,
     "metadata": {},
     "output_type": "execute_result"
    }
   ],
   "source": [
    "rgx_episc = r\"EPISCGatz-([0-9]+)-\"\n",
    "function id_ep(wiagid)\n",
    "    if ismissing(wiagid)\n",
    "        return missing\n",
    "    end\n",
    "    rgm = match(rgx_episc, wiagid)\n",
    "    if !isnothing(rgm) \n",
    "        id_ep = parse(Int, rgm[1])\n",
    "        return id_ep\n",
    "    else\n",
    "        @warn \"invalid wiagid \" wiagid\n",
    "        return missing\n",
    "    end\n",
    "end"
   ]
  },
  {
   "cell_type": "code",
   "execution_count": 129,
   "metadata": {},
   "outputs": [],
   "source": [
    "transform!(df_pub_dh, :wiagid => (x -> id_ep.(x)) => :id_ep);"
   ]
  },
  {
   "cell_type": "code",
   "execution_count": 130,
   "metadata": {},
   "outputs": [],
   "source": [
    "wiag(id) = \"WIAG-Pers-CANON-\" * lpad(id, 5, \"0\") * \"-001\"\n",
    "for row in eachrow(df_pub_dh)\n",
    "    if ismissing(row[:wiagid])\n",
    "        row[:wiagid] = wiag(row[:id_dh])\n",
    "    end\n",
    "end"
   ]
  },
  {
   "cell_type": "code",
   "execution_count": 131,
   "metadata": {},
   "outputs": [
    {
     "data": {
      "text/html": [
       "<div class=\"data-frame\"><p>2 rows × 5 columns</p><table class=\"data-frame\"><thead><tr><th></th><th>id_dh</th><th>id_ep</th><th>wiagid</th><th>givenname</th><th>familyname</th></tr><tr><th></th><th title=\"Int32\">Int32</th><th title=\"Union{Missing, Int64}\">Int64?</th><th title=\"Union{Missing, String}\">String?</th><th title=\"Union{Missing, String}\">String?</th><th title=\"Union{Missing, String}\">String?</th></tr></thead><tbody><tr><th>1</th><td>10997</td><td>10465</td><td>WIAG-Pers-EPISCGatz-10465-001</td><td>Otto Matthias</td><td>Mallinckrodt</td></tr><tr><th>2</th><td>10998</td><td><em>missing</em></td><td>WIAG-Pers-CANON-10998-001</td><td>Raban Wilhelm</td><td>Malsburg</td></tr></tbody></table></div>"
      ],
      "text/latex": [
       "\\begin{tabular}{r|ccccc}\n",
       "\t& id\\_dh & id\\_ep & wiagid & givenname & familyname\\\\\n",
       "\t\\hline\n",
       "\t& Int32 & Int64? & String? & String? & String?\\\\\n",
       "\t\\hline\n",
       "\t1 & 10997 & 10465 & WIAG-Pers-EPISCGatz-10465-001 & Otto Matthias & Mallinckrodt \\\\\n",
       "\t2 & 10998 & \\emph{missing} & WIAG-Pers-CANON-10998-001 & Raban Wilhelm & Malsburg \\\\\n",
       "\\end{tabular}\n"
      ],
      "text/plain": [
       "\u001b[1m2×5 DataFrame\u001b[0m\n",
       "\u001b[1m Row \u001b[0m│\u001b[1m id_dh \u001b[0m\u001b[1m id_ep   \u001b[0m\u001b[1m wiagid                        \u001b[0m\u001b[1m givenname     \u001b[0m\u001b[1m familynam\u001b[0m ⋯\n",
       "\u001b[1m     \u001b[0m│\u001b[90m Int32 \u001b[0m\u001b[90m Int64?  \u001b[0m\u001b[90m String?                       \u001b[0m\u001b[90m String?       \u001b[0m\u001b[90m String?  \u001b[0m ⋯\n",
       "─────┼──────────────────────────────────────────────────────────────────────────\n",
       "   1 │ 10997    10465  WIAG-Pers-EPISCGatz-10465-001  Otto Matthias  Mallinckr ⋯\n",
       "   2 │ 10998 \u001b[90m missing \u001b[0m WIAG-Pers-CANON-10998-001      Raban Wilhelm  Malsburg\n",
       "\u001b[36m                                                                1 column omitted\u001b[0m"
      ]
     },
     "execution_count": 131,
     "metadata": {},
     "output_type": "execute_result"
    }
   ],
   "source": [
    "df_pub_dh[120:121, [:id_dh, :id_ep, :wiagid, :givenname, :familyname]]"
   ]
  },
  {
   "cell_type": "markdown",
   "metadata": {},
   "source": [
    "Schnittmenge von Personendatenbank und Domherrendatenbank"
   ]
  },
  {
   "cell_type": "code",
   "execution_count": 132,
   "metadata": {},
   "outputs": [],
   "source": [
    "df_pub_dh_gsn = filter(:gsn_id => !ismissing, df_pub_dh)\n",
    "df_pub_both = innerjoin(df_pub_dh_gsn, select(df_pub_gs, :id_gs, :gsn_id), on = :gsn_id);"
   ]
  },
  {
   "cell_type": "code",
   "execution_count": 133,
   "metadata": {},
   "outputs": [
    {
     "data": {
      "text/plain": [
       "(333, 7)"
      ]
     },
     "execution_count": 133,
     "metadata": {},
     "output_type": "execute_result"
    }
   ],
   "source": [
    "size(df_pub_both) # waren zuletzt 171"
   ]
  },
  {
   "cell_type": "code",
   "execution_count": 28,
   "metadata": {},
   "outputs": [
    {
     "data": {
      "text/plain": [
       "7-element Vector{String}:\n",
       " \"id_dh\"\n",
       " \"wiagid\"\n",
       " \"gsn_id\"\n",
       " \"givenname\"\n",
       " \"familyname\"\n",
       " \"id_ep\"\n",
       " \"id_gs\""
      ]
     },
     "execution_count": 28,
     "metadata": {},
     "output_type": "execute_result"
    }
   ],
   "source": [
    "names(df_pub_both)"
   ]
  },
  {
   "cell_type": "code",
   "execution_count": 134,
   "metadata": {},
   "outputs": [],
   "source": [
    "df_pub_dh_dh = antijoin(df_pub_dh, df_pub_both, on = :id_dh);"
   ]
  },
  {
   "cell_type": "code",
   "execution_count": 135,
   "metadata": {},
   "outputs": [
    {
     "data": {
      "text/plain": [
       "(2098, 6)"
      ]
     },
     "execution_count": 135,
     "metadata": {},
     "output_type": "execute_result"
    }
   ],
   "source": [
    "size(df_pub_dh_dh) # 2431 - 333 = 2098"
   ]
  },
  {
   "cell_type": "code",
   "execution_count": 136,
   "metadata": {},
   "outputs": [],
   "source": [
    "df_pub_gs_gs = antijoin(df_pub_gs, df_pub_both, on = :id_gs);"
   ]
  },
  {
   "cell_type": "code",
   "execution_count": 137,
   "metadata": {},
   "outputs": [
    {
     "data": {
      "text/plain": [
       "(7177, 4)"
      ]
     },
     "execution_count": 137,
     "metadata": {},
     "output_type": "execute_result"
    }
   ],
   "source": [
    "size(df_pub_gs_gs) # 7510 - 333 = 7177; "
   ]
  },
  {
   "cell_type": "markdown",
   "metadata": {},
   "source": [
    "Einträge bei den Bischöfen für Domherren, die nur in der Personendatenbank vorkommen"
   ]
  },
  {
   "cell_type": "code",
   "execution_count": 139,
   "metadata": {},
   "outputs": [],
   "source": [
    "sql = \"SELECT wiagid as id_ep, gsid as gsn_id, givenname as givenname_ep, familyname as familyname_ep \" *\n",
    "\"FROM wiag.person \" *\n",
    "\"WHERE gsid IS NOT NULL AND gsid <> ''\"\n",
    "df_ep = Wds.sql_df(sql);"
   ]
  },
  {
   "cell_type": "code",
   "execution_count": 140,
   "metadata": {},
   "outputs": [],
   "source": [
    "df_pub_gs_gs_ep = leftjoin(df_pub_gs_gs, select(df_ep, :id_ep, :gsn_id), on = :gsn_id);"
   ]
  },
  {
   "cell_type": "code",
   "execution_count": 141,
   "metadata": {},
   "outputs": [
    {
     "data": {
      "text/plain": [
       "(7177, 5)"
      ]
     },
     "execution_count": 141,
     "metadata": {},
     "output_type": "execute_result"
    }
   ],
   "source": [
    "size(df_pub_gs_gs_ep)"
   ]
  },
  {
   "cell_type": "markdown",
   "metadata": {},
   "source": [
    "WIAG-ID erstellen"
   ]
  },
  {
   "cell_type": "code",
   "execution_count": 142,
   "metadata": {},
   "outputs": [
    {
     "data": {
      "text/plain": [
       "wiag_id4gs (generic function with 1 method)"
      ]
     },
     "execution_count": 142,
     "metadata": {},
     "output_type": "execute_result"
    }
   ],
   "source": [
    "function wiag_id4gs(id_ep, id_gs)\n",
    "    if !ismissing(id_ep)\n",
    "        return \"WIAG-Pers-EPISCGatz-\" * lpad(id_ep, 5, \"0\") * \"-001\"\n",
    "    else\n",
    "        return \"WIAG-Pers-CANON-\" * lpad(id_gs, 5, \"0\") * \"-001\"\n",
    "    end\n",
    "end"
   ]
  },
  {
   "cell_type": "code",
   "execution_count": 143,
   "metadata": {},
   "outputs": [],
   "source": [
    "transform!(df_pub_gs_gs_ep, [:id_ep, :id_gs] => ((x, y) -> wiag_id4gs.(x, y)) => :wiagid);"
   ]
  },
  {
   "cell_type": "code",
   "execution_count": 44,
   "metadata": {},
   "outputs": [
    {
     "data": {
      "text/plain": [
       "7-element Vector{String}:\n",
       " \"id_dh\"\n",
       " \"wiagid\"\n",
       " \"gsn_id\"\n",
       " \"givenname\"\n",
       " \"familyname\"\n",
       " \"id_ep\"\n",
       " \"id_gs\""
      ]
     },
     "execution_count": 44,
     "metadata": {},
     "output_type": "execute_result"
    }
   ],
   "source": [
    "names(df_pub_both)"
   ]
  },
  {
   "cell_type": "markdown",
   "metadata": {},
   "source": [
    "`cn_online` befüllen"
   ]
  },
  {
   "cell_type": "code",
   "execution_count": 144,
   "metadata": {},
   "outputs": [
    {
     "name": "stderr",
     "output_type": "stream",
     "text": [
      "┌ Info: Rows inserted: 333\n",
      "└ @ WiagDataSetup C:\\Users\\georg\\Documents\\projekte\\WiagDataSetup.jl\\src\\WiagDataSetup.jl:1202\n"
     ]
    },
    {
     "data": {
      "text/plain": [
       "333"
      ]
     },
     "execution_count": 144,
     "metadata": {},
     "output_type": "execute_result"
    }
   ],
   "source": [
    "table_name = \"cn_online\"\n",
    "Wds.filltable!(table_name, select(df_pub_both, Not(:gsn_id)), clear_table = true)"
   ]
  },
  {
   "cell_type": "code",
   "execution_count": 145,
   "metadata": {},
   "outputs": [
    {
     "name": "stderr",
     "output_type": "stream",
     "text": [
      "┌ Info: Rows inserted: 2098\n",
      "└ @ WiagDataSetup C:\\Users\\georg\\Documents\\projekte\\WiagDataSetup.jl\\src\\WiagDataSetup.jl:1202\n"
     ]
    },
    {
     "data": {
      "text/plain": [
       "2098"
      ]
     },
     "execution_count": 145,
     "metadata": {},
     "output_type": "execute_result"
    }
   ],
   "source": [
    "Wds.filltable!(table_name, select(df_pub_dh_dh, Not(:gsn_id)), clear_table = false)"
   ]
  },
  {
   "cell_type": "code",
   "execution_count": 146,
   "metadata": {},
   "outputs": [
    {
     "name": "stderr",
     "output_type": "stream",
     "text": [
      "┌ Info: Rows inserted: 7177\n",
      "└ @ WiagDataSetup C:\\Users\\georg\\Documents\\projekte\\WiagDataSetup.jl\\src\\WiagDataSetup.jl:1202\n"
     ]
    },
    {
     "data": {
      "text/plain": [
       "7177"
      ]
     },
     "execution_count": 146,
     "metadata": {},
     "output_type": "execute_result"
    }
   ],
   "source": [
    "Wds.filltable!(table_name, select(df_pub_gs_gs_ep, Not(:gsn_id)), clear_table = false)"
   ]
  },
  {
   "cell_type": "markdown",
   "metadata": {},
   "source": [
    "SQL\n",
    "``` sql\n",
    "select count(*) from cn_online;\n",
    "```\n",
    "9608"
   ]
  },
  {
   "cell_type": "markdown",
   "metadata": {},
   "source": [
    "### `cn_namelookup`\n",
    "``` sql\n",
    "CREATE TABLE cn_namelookup LIKE wiag.cn_namelookup;\n",
    "```"
   ]
  },
  {
   "cell_type": "code",
   "execution_count": 147,
   "metadata": {},
   "outputs": [
    {
     "name": "stderr",
     "output_type": "stream",
     "text": [
      "┌ Info: clear \n",
      "│   tbllookup = cn_namelookup\n",
      "└ @ WiagDataSetup C:\\Users\\georg\\Documents\\projekte\\WiagDataSetup.jl\\src\\WiagDataSetup.jl:689\n",
      "┌ Info: 400\n",
      "└ @ WiagDataSetup C:\\Users\\georg\\Documents\\projekte\\WiagDataSetup.jl\\src\\WiagDataSetup.jl:751\n",
      "┌ Info: 800\n",
      "└ @ WiagDataSetup C:\\Users\\georg\\Documents\\projekte\\WiagDataSetup.jl\\src\\WiagDataSetup.jl:751\n",
      "┌ Info: 1200\n",
      "└ @ WiagDataSetup C:\\Users\\georg\\Documents\\projekte\\WiagDataSetup.jl\\src\\WiagDataSetup.jl:751\n",
      "┌ Info: 1600\n",
      "└ @ WiagDataSetup C:\\Users\\georg\\Documents\\projekte\\WiagDataSetup.jl\\src\\WiagDataSetup.jl:751\n",
      "┌ Info: 2000\n",
      "└ @ WiagDataSetup C:\\Users\\georg\\Documents\\projekte\\WiagDataSetup.jl\\src\\WiagDataSetup.jl:751\n",
      "┌ Info: 2400\n",
      "└ @ WiagDataSetup C:\\Users\\georg\\Documents\\projekte\\WiagDataSetup.jl\\src\\WiagDataSetup.jl:751\n",
      "┌ Info: 2800\n",
      "└ @ WiagDataSetup C:\\Users\\georg\\Documents\\projekte\\WiagDataSetup.jl\\src\\WiagDataSetup.jl:751\n",
      "┌ Info: 3200\n",
      "└ @ WiagDataSetup C:\\Users\\georg\\Documents\\projekte\\WiagDataSetup.jl\\src\\WiagDataSetup.jl:751\n",
      "┌ Info: 3600\n",
      "└ @ WiagDataSetup C:\\Users\\georg\\Documents\\projekte\\WiagDataSetup.jl\\src\\WiagDataSetup.jl:751\n",
      "┌ Info: 4000\n",
      "└ @ WiagDataSetup C:\\Users\\georg\\Documents\\projekte\\WiagDataSetup.jl\\src\\WiagDataSetup.jl:751\n",
      "┌ Info: 4400\n",
      "└ @ WiagDataSetup C:\\Users\\georg\\Documents\\projekte\\WiagDataSetup.jl\\src\\WiagDataSetup.jl:751\n",
      "┌ Info: 4800\n",
      "└ @ WiagDataSetup C:\\Users\\georg\\Documents\\projekte\\WiagDataSetup.jl\\src\\WiagDataSetup.jl:751\n",
      "┌ Info: 5200\n",
      "└ @ WiagDataSetup C:\\Users\\georg\\Documents\\projekte\\WiagDataSetup.jl\\src\\WiagDataSetup.jl:751\n",
      "┌ Info: 5600\n",
      "└ @ WiagDataSetup C:\\Users\\georg\\Documents\\projekte\\WiagDataSetup.jl\\src\\WiagDataSetup.jl:751\n",
      "┌ Info: 6000\n",
      "└ @ WiagDataSetup C:\\Users\\georg\\Documents\\projekte\\WiagDataSetup.jl\\src\\WiagDataSetup.jl:751\n",
      "┌ Info: 6400\n",
      "└ @ WiagDataSetup C:\\Users\\georg\\Documents\\projekte\\WiagDataSetup.jl\\src\\WiagDataSetup.jl:751\n",
      "┌ Info: 6800\n",
      "└ @ WiagDataSetup C:\\Users\\georg\\Documents\\projekte\\WiagDataSetup.jl\\src\\WiagDataSetup.jl:751\n",
      "┌ Info: 7200\n",
      "└ @ WiagDataSetup C:\\Users\\georg\\Documents\\projekte\\WiagDataSetup.jl\\src\\WiagDataSetup.jl:751\n",
      "┌ Info: 7600\n",
      "└ @ WiagDataSetup C:\\Users\\georg\\Documents\\projekte\\WiagDataSetup.jl\\src\\WiagDataSetup.jl:751\n",
      "┌ Info: 8000\n",
      "└ @ WiagDataSetup C:\\Users\\georg\\Documents\\projekte\\WiagDataSetup.jl\\src\\WiagDataSetup.jl:751\n",
      "┌ Info: 8400\n",
      "└ @ WiagDataSetup C:\\Users\\georg\\Documents\\projekte\\WiagDataSetup.jl\\src\\WiagDataSetup.jl:751\n",
      "┌ Info: 8800\n",
      "└ @ WiagDataSetup C:\\Users\\georg\\Documents\\projekte\\WiagDataSetup.jl\\src\\WiagDataSetup.jl:751\n",
      "┌ Info: 9200\n",
      "└ @ WiagDataSetup C:\\Users\\georg\\Documents\\projekte\\WiagDataSetup.jl\\src\\WiagDataSetup.jl:751\n",
      "┌ Info: 9600\n",
      "└ @ WiagDataSetup C:\\Users\\georg\\Documents\\projekte\\WiagDataSetup.jl\\src\\WiagDataSetup.jl:751\n"
     ]
    },
    {
     "data": {
      "text/plain": [
       "9608"
      ]
     },
     "execution_count": 147,
     "metadata": {},
     "output_type": "execute_result"
    }
   ],
   "source": [
    "Wds.fillcnnamelookup(\"cn_namelookup\", \"cn_online\", \"cn_canon\", \"cn_canon_gs\")"
   ]
  },
  {
   "cell_type": "markdown",
   "metadata": {},
   "source": [
    "### `cn_office.location_show`"
   ]
  },
  {
   "cell_type": "code",
   "execution_count": 148,
   "metadata": {},
   "outputs": [
    {
     "name": "stderr",
     "output_type": "stream",
     "text": [
      "┌ Info: 1000\n",
      "└ @ WiagDataSetup C:\\Users\\georg\\Documents\\projekte\\WiagDataSetup.jl\\src\\WiagDataSetup.jl:563\n",
      "┌ Info: 2000\n",
      "└ @ WiagDataSetup C:\\Users\\georg\\Documents\\projekte\\WiagDataSetup.jl\\src\\WiagDataSetup.jl:563\n",
      "┌ Info: 3000\n",
      "└ @ WiagDataSetup C:\\Users\\georg\\Documents\\projekte\\WiagDataSetup.jl\\src\\WiagDataSetup.jl:563\n",
      "┌ Info: 4000\n",
      "└ @ WiagDataSetup C:\\Users\\georg\\Documents\\projekte\\WiagDataSetup.jl\\src\\WiagDataSetup.jl:563\n",
      "┌ Warning: (\"No place found for office\", 42220)\n",
      "└ @ WiagDataSetup C:\\Users\\georg\\Documents\\projekte\\WiagDataSetup.jl\\src\\WiagDataSetup.jl:554\n",
      "┌ Info: 5000\n",
      "└ @ WiagDataSetup C:\\Users\\georg\\Documents\\projekte\\WiagDataSetup.jl\\src\\WiagDataSetup.jl:563\n"
     ]
    },
    {
     "data": {
      "text/plain": [
       "5189"
      ]
     },
     "execution_count": 148,
     "metadata": {},
     "output_type": "execute_result"
    }
   ],
   "source": [
    "Wds.fillofficelocation(\"cn_office\", \"monastery_location\", \"wiag.place\", \"cn_online\", \"id_dh\")"
   ]
  },
  {
   "cell_type": "markdown",
   "metadata": {},
   "source": [
    "4 Orte können nicht bestimmt werden, weil die Amtszeit nicht zu einem angegebenen Zeitraum für das Kloster passt. (2021-11-23)"
   ]
  },
  {
   "cell_type": "markdown",
   "metadata": {},
   "source": [
    "### `cn_officelookup`"
   ]
  },
  {
   "cell_type": "markdown",
   "metadata": {},
   "source": [
    "Daten aus der Domherrendatenbank"
   ]
  },
  {
   "cell_type": "markdown",
   "metadata": {},
   "source": [
    "`cn_office.id_monastery` bezieht sich auf `monastery.wiagid` nicht mehr auf `monastery.id_monastery`. `monastery.wiagid` ist gleichzeitig die Nummer in der Klosterdatenbank."
   ]
  },
  {
   "cell_type": "code",
   "execution_count": 149,
   "metadata": {},
   "outputs": [],
   "source": [
    "sql = \"SELECT co.id AS id_online, office_name, \" *\n",
    "\"location_show AS location_name, id_monastery, archdeacon_territory, \" *\n",
    "\"o.numdate_start AS numdate_start, o.numdate_end AS numdate_end, \" *\n",
    "\"ds.name as domstift \" *\n",
    "\"FROM cn_office AS o \" * \n",
    "\"JOIN cn_online AS co ON o.id_canon = co.id_dh \" *\n",
    "\"LEFT JOIN wiag.domstift AS ds ON o.id_monastery = ds.gs_id\"\n",
    "df_ol_dh = Wds.sql_df(sql);"
   ]
  },
  {
   "cell_type": "code",
   "execution_count": 150,
   "metadata": {},
   "outputs": [
    {
     "data": {
      "text/plain": [
       "(5200, 8)"
      ]
     },
     "execution_count": 150,
     "metadata": {},
     "output_type": "execute_result"
    }
   ],
   "source": [
    "size(df_ol_dh)"
   ]
  },
  {
   "cell_type": "code",
   "execution_count": 151,
   "metadata": {},
   "outputs": [
    {
     "name": "stderr",
     "output_type": "stream",
     "text": [
      "┌ Info: Rows inserted: 5200\n",
      "└ @ WiagDataSetup C:\\Users\\georg\\Documents\\projekte\\WiagDataSetup.jl\\src\\WiagDataSetup.jl:1202\n"
     ]
    },
    {
     "data": {
      "text/plain": [
       "5200"
      ]
     },
     "execution_count": 151,
     "metadata": {},
     "output_type": "execute_result"
    }
   ],
   "source": [
    "table_name = \"cn_officelookup\"\n",
    "Wds.filltable!(table_name, df_ol_dh, clear_table = true)"
   ]
  },
  {
   "cell_type": "code",
   "execution_count": 152,
   "metadata": {},
   "outputs": [],
   "source": [
    "sql = \"SELECT co.id AS id_online, office_name, \" *\n",
    "\"location_show AS location_name, id_monastery, archdeacon_territory, \" *\n",
    "\"o.numdate_start AS numdate_start, o.numdate_end AS numdate_end, \" *\n",
    "\"ds.name as domstift \" *\n",
    "\"FROM cn_office_gs AS o \" * \n",
    "\"JOIN cn_online AS co ON o.id_canon = co.id_gs \" *\n",
    "\"LEFT JOIN wiag.domstift AS ds ON o.id_monastery = ds.gs_id\"\n",
    "df_ol_gs = Wds.sql_df(sql);"
   ]
  },
  {
   "cell_type": "code",
   "execution_count": 153,
   "metadata": {},
   "outputs": [],
   "source": [
    "df_ol_gs_ds = filter(:domstift => !ismissing, df_ol_gs);"
   ]
  },
  {
   "cell_type": "code",
   "execution_count": 154,
   "metadata": {},
   "outputs": [
    {
     "data": {
      "text/html": [
       "<div class=\"data-frame\"><p>7 rows × 3 columns</p><table class=\"data-frame\"><thead><tr><th></th><th>id_online</th><th>office_name</th><th>domstift</th></tr><tr><th></th><th title=\"Int32\">Int32</th><th title=\"Union{Missing, String}\">String?</th><th title=\"Union{Missing, String}\">String?</th></tr></thead><tbody><tr><th>1</th><td>24464</td><td>Domherr</td><td>Würzburg</td></tr><tr><th>2</th><td>24466</td><td>Domdekan</td><td>Bamberg</td></tr><tr><th>3</th><td>24467</td><td>Domherr</td><td>Bamberg</td></tr><tr><th>4</th><td>24468</td><td>Domherr</td><td>Bamberg</td></tr><tr><th>5</th><td>24469</td><td>Domherr</td><td>Bamberg</td></tr><tr><th>6</th><td>24470</td><td>Dompropst</td><td>Bamberg</td></tr><tr><th>7</th><td>24471</td><td>Domherr</td><td>Bamberg</td></tr></tbody></table></div>"
      ],
      "text/latex": [
       "\\begin{tabular}{r|ccc}\n",
       "\t& id\\_online & office\\_name & domstift\\\\\n",
       "\t\\hline\n",
       "\t& Int32 & String? & String?\\\\\n",
       "\t\\hline\n",
       "\t1 & 24464 & Domherr & Würzburg \\\\\n",
       "\t2 & 24466 & Domdekan & Bamberg \\\\\n",
       "\t3 & 24467 & Domherr & Bamberg \\\\\n",
       "\t4 & 24468 & Domherr & Bamberg \\\\\n",
       "\t5 & 24469 & Domherr & Bamberg \\\\\n",
       "\t6 & 24470 & Dompropst & Bamberg \\\\\n",
       "\t7 & 24471 & Domherr & Bamberg \\\\\n",
       "\\end{tabular}\n"
      ],
      "text/plain": [
       "\u001b[1m7×3 DataFrame\u001b[0m\n",
       "\u001b[1m Row \u001b[0m│\u001b[1m id_online \u001b[0m\u001b[1m office_name \u001b[0m\u001b[1m domstift \u001b[0m\n",
       "\u001b[1m     \u001b[0m│\u001b[90m Int32     \u001b[0m\u001b[90m String?     \u001b[0m\u001b[90m String?  \u001b[0m\n",
       "─────┼──────────────────────────────────\n",
       "   1 │     24464  Domherr      Würzburg\n",
       "   2 │     24466  Domdekan     Bamberg\n",
       "   3 │     24467  Domherr      Bamberg\n",
       "   4 │     24468  Domherr      Bamberg\n",
       "   5 │     24469  Domherr      Bamberg\n",
       "   6 │     24470  Dompropst    Bamberg\n",
       "   7 │     24471  Domherr      Bamberg"
      ]
     },
     "execution_count": 154,
     "metadata": {},
     "output_type": "execute_result"
    }
   ],
   "source": [
    "df_ol_gs_ds[20:26, [:id_online, :office_name, :domstift]]"
   ]
  },
  {
   "cell_type": "code",
   "execution_count": 155,
   "metadata": {},
   "outputs": [
    {
     "name": "stderr",
     "output_type": "stream",
     "text": [
      "┌ Info: 10000\n",
      "└ @ WiagDataSetup C:\\Users\\georg\\Documents\\projekte\\WiagDataSetup.jl\\src\\WiagDataSetup.jl:1179\n",
      "┌ Info: Rows inserted: 13002\n",
      "└ @ WiagDataSetup C:\\Users\\georg\\Documents\\projekte\\WiagDataSetup.jl\\src\\WiagDataSetup.jl:1202\n"
     ]
    },
    {
     "data": {
      "text/plain": [
       "13002"
      ]
     },
     "execution_count": 155,
     "metadata": {},
     "output_type": "execute_result"
    }
   ],
   "source": [
    "table_name = \"cn_officelookup\"\n",
    "Wds.filltable!(table_name, df_ol_gs, clear_table = false)"
   ]
  },
  {
   "cell_type": "markdown",
   "metadata": {},
   "source": [
    "### `cn_era`\n",
    "Struktur: `id_online, domstift, era_start, era_end`  \n",
    "Es gibt globale Einträge mit `domstift = 'all'` und Einträge pro Domstift. Diese fassen jeweils den Zeitraum pro Domstift zusammen und schließen Einträge ohne Datumsangabe aus. In Doctrine lässt sich das nicht formulieren, da keine Tabelle verknüpft werden kann (join), die aus einer eigenen Abfrage mit Gruppierung entsteht."
   ]
  },
  {
   "cell_type": "markdown",
   "metadata": {},
   "source": [
    "global"
   ]
  },
  {
   "cell_type": "markdown",
   "metadata": {},
   "source": [
    "Personendatenbank"
   ]
  },
  {
   "cell_type": "code",
   "execution_count": 156,
   "metadata": {},
   "outputs": [],
   "source": [
    "sql = \"SELECT co.id AS id_online, co.id_gs, date_hist_first AS era_start, date_hist_last AS era_end, \" *\n",
    "\"numdate_birth AS numdate_birth_gs, numdate_death AS numdate_death_gs \" *\n",
    "\"FROM cn_online AS co JOIN cn_canon_gs AS c ON co.id_gs = c.id \" *\n",
    "\"WHERE status = 'online'\"\n",
    "df_era_gs = Wds.sql_df(sql);"
   ]
  },
  {
   "cell_type": "markdown",
   "metadata": {},
   "source": [
    "Amtsdaten"
   ]
  },
  {
   "cell_type": "code",
   "execution_count": 157,
   "metadata": {},
   "outputs": [],
   "source": [
    "sql = \"SELECT id_canon as id_gs, min(numdate_start) AS numdate_start_gs, max(numdate_end) AS numdate_end_gs \" *\n",
    "\"FROM cn_office_gs GROUP BY id_canon\"\n",
    "df_o_gs = Wds.sql_df(sql);"
   ]
  },
  {
   "cell_type": "code",
   "execution_count": 158,
   "metadata": {},
   "outputs": [
    {
     "data": {
      "text/plain": [
       "((7510, 6), (7441, 3))"
      ]
     },
     "execution_count": 158,
     "metadata": {},
     "output_type": "execute_result"
    }
   ],
   "source": [
    "size(df_era_gs), size(df_o_gs)"
   ]
  },
  {
   "cell_type": "code",
   "execution_count": 159,
   "metadata": {},
   "outputs": [],
   "source": [
    "df_era_gs = leftjoin(df_era_gs, df_o_gs, on = :id_gs);"
   ]
  },
  {
   "cell_type": "code",
   "execution_count": 160,
   "metadata": {},
   "outputs": [
    {
     "data": {
      "text/plain": [
       "(7510, 8)"
      ]
     },
     "execution_count": 160,
     "metadata": {},
     "output_type": "execute_result"
    }
   ],
   "source": [
    "size(df_era_gs)"
   ]
  },
  {
   "cell_type": "markdown",
   "metadata": {},
   "source": [
    "Domherrendatenbank"
   ]
  },
  {
   "cell_type": "code",
   "execution_count": 161,
   "metadata": {},
   "outputs": [],
   "source": [
    "sql = \"SELECT co.id AS id_online, co.id_dh, date_hist_first, date_hist_last, \" *\n",
    "\"numdate_birth AS numdate_birth_dh, numdate_death AS numdate_death_dh \" *\n",
    "\"FROM cn_online AS co JOIN cn_canon AS c ON co.id_dh = c.id \" *\n",
    "\"WHERE status = 'online'\"\n",
    "df_era_dh = Wds.sql_df(sql);"
   ]
  },
  {
   "cell_type": "markdown",
   "metadata": {},
   "source": [
    "Amtsdaten"
   ]
  },
  {
   "cell_type": "code",
   "execution_count": 162,
   "metadata": {},
   "outputs": [],
   "source": [
    "sql = \"SELECT id_canon as id_dh, min(numdate_start) AS numdate_start_dh, max(numdate_end) AS numdate_end_dh \" *\n",
    "\"FROM cn_office GROUP BY id_canon\"\n",
    "df_o_dh = Wds.sql_df(sql);"
   ]
  },
  {
   "cell_type": "code",
   "execution_count": 163,
   "metadata": {},
   "outputs": [
    {
     "data": {
      "text/plain": [
       "((2431, 6), (2431, 3))"
      ]
     },
     "execution_count": 163,
     "metadata": {},
     "output_type": "execute_result"
    }
   ],
   "source": [
    "size(df_era_dh), size(df_o_dh)"
   ]
  },
  {
   "cell_type": "code",
   "execution_count": 164,
   "metadata": {},
   "outputs": [],
   "source": [
    "df_era_dh = leftjoin(df_era_dh, df_o_dh, on = :id_dh);"
   ]
  },
  {
   "cell_type": "markdown",
   "metadata": {},
   "source": [
    "Zusammenführen"
   ]
  },
  {
   "cell_type": "code",
   "execution_count": 165,
   "metadata": {},
   "outputs": [],
   "source": [
    "df_era = outerjoin(df_era_gs, df_era_dh, on = :id_online);"
   ]
  },
  {
   "cell_type": "code",
   "execution_count": 166,
   "metadata": {},
   "outputs": [
    {
     "data": {
      "text/plain": [
       "(9608, 15)"
      ]
     },
     "execution_count": 166,
     "metadata": {},
     "output_type": "execute_result"
    }
   ],
   "source": [
    "size(df_era)"
   ]
  },
  {
   "cell_type": "markdown",
   "metadata": {},
   "source": [
    "Finde Minima und Maxima"
   ]
  },
  {
   "cell_type": "code",
   "execution_count": 167,
   "metadata": {},
   "outputs": [
    {
     "data": {
      "text/plain": [
       "valid_min (generic function with 1 method)"
      ]
     },
     "execution_count": 167,
     "metadata": {},
     "output_type": "execute_result"
    }
   ],
   "source": [
    "function valid_max(x, x_cmp...)\n",
    "    for x_i in x_cmp\n",
    "        x = ismissing(x_i) ? x : (ismissing(x) ? x_i : max(x, x_i))\n",
    "    end\n",
    "    return x\n",
    "end\n",
    "function valid_min(x, x_cmp...)\n",
    "    for x_i in x_cmp\n",
    "        x = ismissing(x_i) ? x : (ismissing(x) ? x_i : min(x, x_i))\n",
    "    end\n",
    "    return x\n",
    "end"
   ]
  },
  {
   "cell_type": "code",
   "execution_count": 168,
   "metadata": {},
   "outputs": [],
   "source": [
    "col_min = [:era_start, :numdate_start_gs, :numdate_start_dh, :date_hist_first]\n",
    "transform!(df_era, col_min => ByRow(valid_min) => :era_start);"
   ]
  },
  {
   "cell_type": "code",
   "execution_count": 169,
   "metadata": {},
   "outputs": [],
   "source": [
    "col_max = [:era_end, :numdate_end_gs, :numdate_end_dh, :date_hist_last]\n",
    "transform!(df_era, col_max => ByRow(valid_max) => :era_end);"
   ]
  },
  {
   "cell_type": "markdown",
   "metadata": {},
   "source": [
    "Info"
   ]
  },
  {
   "cell_type": "code",
   "execution_count": 172,
   "metadata": {},
   "outputs": [],
   "source": [
    "df_info = filter(:id_online => in(22614:22619), df_era);"
   ]
  },
  {
   "cell_type": "code",
   "execution_count": 173,
   "metadata": {},
   "outputs": [
    {
     "data": {
      "text/html": [
       "<div class=\"data-frame\"><p>6 rows × 9 columns (omitted printing of 2 columns)</p><table class=\"data-frame\"><thead><tr><th></th><th>id_online</th><th>id_dh</th><th>id_gs</th><th>numdate_birth_gs</th><th>numdate_birth_dh</th><th>era_start</th><th>numdate_start_gs</th></tr><tr><th></th><th title=\"Int32\">Int32</th><th title=\"Union{Missing, Int32}\">Int32?</th><th title=\"Union{Missing, Int32}\">Int32?</th><th title=\"Union{Missing, Int32}\">Int32?</th><th title=\"Union{Missing, Int32}\">Int32?</th><th title=\"Union{Missing, Int32}\">Int32?</th><th title=\"Union{Missing, Int32}\">Int32?</th></tr></thead><tbody><tr><th>1</th><td>22619</td><td><em>missing</em></td><td>81501</td><td><em>missing</em></td><td><em>missing</em></td><td>1450</td><td>1450</td></tr><tr><th>2</th><td>22618</td><td><em>missing</em></td><td>81502</td><td><em>missing</em></td><td><em>missing</em></td><td>1155</td><td>1155</td></tr><tr><th>3</th><td>22617</td><td><em>missing</em></td><td>81503</td><td><em>missing</em></td><td><em>missing</em></td><td>1376</td><td>1376</td></tr><tr><th>4</th><td>22616</td><td><em>missing</em></td><td>81504</td><td><em>missing</em></td><td><em>missing</em></td><td>1396</td><td>1396</td></tr><tr><th>5</th><td>22615</td><td><em>missing</em></td><td>81505</td><td><em>missing</em></td><td><em>missing</em></td><td>1183</td><td>1196</td></tr><tr><th>6</th><td>22614</td><td><em>missing</em></td><td>81508</td><td><em>missing</em></td><td><em>missing</em></td><td>1390</td><td>1390</td></tr></tbody></table></div>"
      ],
      "text/latex": [
       "\\begin{tabular}{r|cccccccc}\n",
       "\t& id\\_online & id\\_dh & id\\_gs & numdate\\_birth\\_gs & numdate\\_birth\\_dh & era\\_start & numdate\\_start\\_gs & \\\\\n",
       "\t\\hline\n",
       "\t& Int32 & Int32? & Int32? & Int32? & Int32? & Int32? & Int32? & \\\\\n",
       "\t\\hline\n",
       "\t1 & 22619 & \\emph{missing} & 81501 & \\emph{missing} & \\emph{missing} & 1450 & 1450 & $\\dots$ \\\\\n",
       "\t2 & 22618 & \\emph{missing} & 81502 & \\emph{missing} & \\emph{missing} & 1155 & 1155 & $\\dots$ \\\\\n",
       "\t3 & 22617 & \\emph{missing} & 81503 & \\emph{missing} & \\emph{missing} & 1376 & 1376 & $\\dots$ \\\\\n",
       "\t4 & 22616 & \\emph{missing} & 81504 & \\emph{missing} & \\emph{missing} & 1396 & 1396 & $\\dots$ \\\\\n",
       "\t5 & 22615 & \\emph{missing} & 81505 & \\emph{missing} & \\emph{missing} & 1183 & 1196 & $\\dots$ \\\\\n",
       "\t6 & 22614 & \\emph{missing} & 81508 & \\emph{missing} & \\emph{missing} & 1390 & 1390 & $\\dots$ \\\\\n",
       "\\end{tabular}\n"
      ],
      "text/plain": [
       "\u001b[1m6×9 DataFrame\u001b[0m\n",
       "\u001b[1m Row \u001b[0m│\u001b[1m id_online \u001b[0m\u001b[1m id_dh   \u001b[0m\u001b[1m id_gs  \u001b[0m\u001b[1m numdate_birth_gs \u001b[0m\u001b[1m numdate_birth_dh \u001b[0m\u001b[1m era_sta\u001b[0m ⋯\n",
       "\u001b[1m     \u001b[0m│\u001b[90m Int32     \u001b[0m\u001b[90m Int32?  \u001b[0m\u001b[90m Int32? \u001b[0m\u001b[90m Int32?           \u001b[0m\u001b[90m Int32?           \u001b[0m\u001b[90m Int32? \u001b[0m ⋯\n",
       "─────┼──────────────────────────────────────────────────────────────────────────\n",
       "   1 │     22619 \u001b[90m missing \u001b[0m  81501 \u001b[90m          missing \u001b[0m\u001b[90m          missing \u001b[0m      14 ⋯\n",
       "   2 │     22618 \u001b[90m missing \u001b[0m  81502 \u001b[90m          missing \u001b[0m\u001b[90m          missing \u001b[0m      11\n",
       "   3 │     22617 \u001b[90m missing \u001b[0m  81503 \u001b[90m          missing \u001b[0m\u001b[90m          missing \u001b[0m      13\n",
       "   4 │     22616 \u001b[90m missing \u001b[0m  81504 \u001b[90m          missing \u001b[0m\u001b[90m          missing \u001b[0m      13\n",
       "   5 │     22615 \u001b[90m missing \u001b[0m  81505 \u001b[90m          missing \u001b[0m\u001b[90m          missing \u001b[0m      11 ⋯\n",
       "   6 │     22614 \u001b[90m missing \u001b[0m  81508 \u001b[90m          missing \u001b[0m\u001b[90m          missing \u001b[0m      13\n",
       "\u001b[36m                                                               4 columns omitted\u001b[0m"
      ]
     },
     "execution_count": 173,
     "metadata": {},
     "output_type": "execute_result"
    }
   ],
   "source": [
    "df_info[:, [:id_online, :id_dh, :id_gs, :numdate_birth_gs, :numdate_birth_dh, col_min...]]"
   ]
  },
  {
   "cell_type": "code",
   "execution_count": 174,
   "metadata": {},
   "outputs": [],
   "source": [
    "ne_maybe(x, y) = (ismissing(x) || ismissing(y)) ? false : x != y\n",
    "df_info = filter([:era_start, :numdate_start_dh] => ne_maybe, df_era);"
   ]
  },
  {
   "cell_type": "code",
   "execution_count": 175,
   "metadata": {},
   "outputs": [
    {
     "data": {
      "text/html": [
       "<div class=\"data-frame\"><p>7 rows × 7 columns</p><table class=\"data-frame\"><thead><tr><th></th><th>id_online</th><th>id_dh</th><th>id_gs</th><th>era_start</th><th>numdate_start_gs</th><th>numdate_start_dh</th><th>date_hist_first</th></tr><tr><th></th><th title=\"Int32\">Int32</th><th title=\"Union{Missing, Int32}\">Int32?</th><th title=\"Union{Missing, Int32}\">Int32?</th><th title=\"Union{Missing, Int32}\">Int32?</th><th title=\"Union{Missing, Int32}\">Int32?</th><th title=\"Union{Missing, Int32}\">Int32?</th><th title=\"Union{Missing, Int32}\">Int32?</th></tr></thead><tbody><tr><th>1</th><td>19007</td><td>10919</td><td>81359</td><td>1738</td><td>1756</td><td>1756</td><td><em>missing</em></td></tr><tr><th>2</th><td>19008</td><td>20369</td><td>81379</td><td>1371</td><td>1371</td><td>1408</td><td><em>missing</em></td></tr><tr><th>3</th><td>19009</td><td>10885</td><td>81391</td><td>1734</td><td>1758</td><td>1752</td><td>1752</td></tr><tr><th>4</th><td>19011</td><td>10887</td><td>81397</td><td>1714</td><td>1759</td><td>1732</td><td><em>missing</em></td></tr><tr><th>5</th><td>19012</td><td>10896</td><td>81428</td><td>1683</td><td>1683</td><td>1716</td><td><em>missing</em></td></tr><tr><th>6</th><td>19016</td><td>10915</td><td>81447</td><td>1702</td><td>1702</td><td>1746</td><td><em>missing</em></td></tr><tr><th>7</th><td>19019</td><td>10934</td><td>81572</td><td>1732</td><td>1755</td><td>1755</td><td>1755</td></tr></tbody></table></div>"
      ],
      "text/latex": [
       "\\begin{tabular}{r|ccccccc}\n",
       "\t& id\\_online & id\\_dh & id\\_gs & era\\_start & numdate\\_start\\_gs & numdate\\_start\\_dh & date\\_hist\\_first\\\\\n",
       "\t\\hline\n",
       "\t& Int32 & Int32? & Int32? & Int32? & Int32? & Int32? & Int32?\\\\\n",
       "\t\\hline\n",
       "\t1 & 19007 & 10919 & 81359 & 1738 & 1756 & 1756 & \\emph{missing} \\\\\n",
       "\t2 & 19008 & 20369 & 81379 & 1371 & 1371 & 1408 & \\emph{missing} \\\\\n",
       "\t3 & 19009 & 10885 & 81391 & 1734 & 1758 & 1752 & 1752 \\\\\n",
       "\t4 & 19011 & 10887 & 81397 & 1714 & 1759 & 1732 & \\emph{missing} \\\\\n",
       "\t5 & 19012 & 10896 & 81428 & 1683 & 1683 & 1716 & \\emph{missing} \\\\\n",
       "\t6 & 19016 & 10915 & 81447 & 1702 & 1702 & 1746 & \\emph{missing} \\\\\n",
       "\t7 & 19019 & 10934 & 81572 & 1732 & 1755 & 1755 & 1755 \\\\\n",
       "\\end{tabular}\n"
      ],
      "text/plain": [
       "\u001b[1m7×7 DataFrame\u001b[0m\n",
       "\u001b[1m Row \u001b[0m│\u001b[1m id_online \u001b[0m\u001b[1m id_dh  \u001b[0m\u001b[1m id_gs  \u001b[0m\u001b[1m era_start \u001b[0m\u001b[1m numdate_start_gs \u001b[0m\u001b[1m numdate_start_d\u001b[0m ⋯\n",
       "\u001b[1m     \u001b[0m│\u001b[90m Int32     \u001b[0m\u001b[90m Int32? \u001b[0m\u001b[90m Int32? \u001b[0m\u001b[90m Int32?    \u001b[0m\u001b[90m Int32?           \u001b[0m\u001b[90m Int32?         \u001b[0m ⋯\n",
       "─────┼──────────────────────────────────────────────────────────────────────────\n",
       "   1 │     19007   10919   81359       1738              1756              175 ⋯\n",
       "   2 │     19008   20369   81379       1371              1371              140\n",
       "   3 │     19009   10885   81391       1734              1758              175\n",
       "   4 │     19011   10887   81397       1714              1759              173\n",
       "   5 │     19012   10896   81428       1683              1683              171 ⋯\n",
       "   6 │     19016   10915   81447       1702              1702              174\n",
       "   7 │     19019   10934   81572       1732              1755              175\n",
       "\u001b[36m                                                               2 columns omitted\u001b[0m"
      ]
     },
     "execution_count": 175,
     "metadata": {},
     "output_type": "execute_result"
    }
   ],
   "source": [
    "df_info[12:18, [:id_online, :id_dh, :id_gs, col_min...]]"
   ]
  },
  {
   "cell_type": "code",
   "execution_count": 176,
   "metadata": {},
   "outputs": [],
   "source": [
    "ne_maybe(x, y) = (ismissing(x) || ismissing(y)) ? false : x != y\n",
    "df_info = filter([:era_end, :numdate_end_gs] => ne_maybe, df_era);"
   ]
  },
  {
   "cell_type": "code",
   "execution_count": 177,
   "metadata": {},
   "outputs": [
    {
     "data": {
      "text/html": [
       "<div class=\"data-frame\"><p>7 rows × 7 columns</p><table class=\"data-frame\"><thead><tr><th></th><th>id_online</th><th>id_dh</th><th>id_gs</th><th>era_end</th><th>numdate_end_gs</th><th>numdate_end_dh</th><th>date_hist_last</th></tr><tr><th></th><th title=\"Int32\">Int32</th><th title=\"Union{Missing, Int32}\">Int32?</th><th title=\"Union{Missing, Int32}\">Int32?</th><th title=\"Union{Missing, Int32}\">Int32?</th><th title=\"Union{Missing, Int32}\">Int32?</th><th title=\"Union{Missing, Int32}\">Int32?</th><th title=\"Union{Missing, Int32}\">Int32?</th></tr></thead><tbody><tr><th>1</th><td>19017</td><td>15306</td><td>81453</td><td>1699</td><td>1665</td><td>1699</td><td>1699</td></tr><tr><th>2</th><td>19018</td><td>20382</td><td>81506</td><td>1432</td><td>1429</td><td>1432</td><td><em>missing</em></td></tr><tr><th>3</th><td>19019</td><td>10934</td><td>81572</td><td>1783</td><td>1761</td><td>1761</td><td>1761</td></tr><tr><th>4</th><td>19025</td><td>10944</td><td>81633</td><td>1825</td><td>1802</td><td>1789</td><td><em>missing</em></td></tr><tr><th>5</th><td>19029</td><td>10965</td><td>81795</td><td>1804</td><td>1797</td><td>1804</td><td>1804</td></tr><tr><th>6</th><td>19036</td><td>11019</td><td>81956</td><td>1777</td><td>1772</td><td>1777</td><td><em>missing</em></td></tr><tr><th>7</th><td>19038</td><td>11025</td><td>82013</td><td>1775</td><td>1734</td><td>1775</td><td><em>missing</em></td></tr></tbody></table></div>"
      ],
      "text/latex": [
       "\\begin{tabular}{r|ccccccc}\n",
       "\t& id\\_online & id\\_dh & id\\_gs & era\\_end & numdate\\_end\\_gs & numdate\\_end\\_dh & date\\_hist\\_last\\\\\n",
       "\t\\hline\n",
       "\t& Int32 & Int32? & Int32? & Int32? & Int32? & Int32? & Int32?\\\\\n",
       "\t\\hline\n",
       "\t1 & 19017 & 15306 & 81453 & 1699 & 1665 & 1699 & 1699 \\\\\n",
       "\t2 & 19018 & 20382 & 81506 & 1432 & 1429 & 1432 & \\emph{missing} \\\\\n",
       "\t3 & 19019 & 10934 & 81572 & 1783 & 1761 & 1761 & 1761 \\\\\n",
       "\t4 & 19025 & 10944 & 81633 & 1825 & 1802 & 1789 & \\emph{missing} \\\\\n",
       "\t5 & 19029 & 10965 & 81795 & 1804 & 1797 & 1804 & 1804 \\\\\n",
       "\t6 & 19036 & 11019 & 81956 & 1777 & 1772 & 1777 & \\emph{missing} \\\\\n",
       "\t7 & 19038 & 11025 & 82013 & 1775 & 1734 & 1775 & \\emph{missing} \\\\\n",
       "\\end{tabular}\n"
      ],
      "text/plain": [
       "\u001b[1m7×7 DataFrame\u001b[0m\n",
       "\u001b[1m Row \u001b[0m│\u001b[1m id_online \u001b[0m\u001b[1m id_dh  \u001b[0m\u001b[1m id_gs  \u001b[0m\u001b[1m era_end \u001b[0m\u001b[1m numdate_end_gs \u001b[0m\u001b[1m numdate_end_dh \u001b[0m\u001b[1m dat\u001b[0m ⋯\n",
       "\u001b[1m     \u001b[0m│\u001b[90m Int32     \u001b[0m\u001b[90m Int32? \u001b[0m\u001b[90m Int32? \u001b[0m\u001b[90m Int32?  \u001b[0m\u001b[90m Int32?         \u001b[0m\u001b[90m Int32?         \u001b[0m\u001b[90m Int\u001b[0m ⋯\n",
       "─────┼──────────────────────────────────────────────────────────────────────────\n",
       "   1 │     19017   15306   81453     1699            1665            1699      ⋯\n",
       "   2 │     19018   20382   81506     1432            1429            1432 \u001b[90m\u001b[0m\n",
       "   3 │     19019   10934   81572     1783            1761            1761\n",
       "   4 │     19025   10944   81633     1825            1802            1789 \u001b[90m\u001b[0m\n",
       "   5 │     19029   10965   81795     1804            1797            1804      ⋯\n",
       "   6 │     19036   11019   81956     1777            1772            1777 \u001b[90m\u001b[0m\n",
       "   7 │     19038   11025   82013     1775            1734            1775 \u001b[90m\u001b[0m\n",
       "\u001b[36m                                                                1 column omitted\u001b[0m"
      ]
     },
     "execution_count": 177,
     "metadata": {},
     "output_type": "execute_result"
    }
   ],
   "source": [
    "df_info[12:18, [:id_online, :id_dh, :id_gs, col_max...]]"
   ]
  },
  {
   "cell_type": "markdown",
   "metadata": {},
   "source": [
    "Geburts- und Sterbedatum  \n",
    "Geburds- und Sterbedaten - so vorhanden - können die Zeitspanne nur verkürzen!"
   ]
  },
  {
   "cell_type": "code",
   "execution_count": 178,
   "metadata": {},
   "outputs": [
    {
     "data": {
      "text/plain": [
       "era_death (generic function with 1 method)"
      ]
     },
     "execution_count": 178,
     "metadata": {},
     "output_type": "execute_result"
    }
   ],
   "source": [
    "function era_birth(era, b1, b2)\n",
    "    b = valid_min(b1, b2)\n",
    "    return ismissing(b) ? era : b\n",
    "end\n",
    "function era_death(era, b1, b2)\n",
    "    b = valid_max(b1, b2)\n",
    "    return ismissing(b) ? era : b\n",
    "end\n",
    "    "
   ]
  },
  {
   "cell_type": "code",
   "execution_count": 179,
   "metadata": {},
   "outputs": [],
   "source": [
    "transform!(df_era, [:era_start, :numdate_birth_dh, :numdate_birth_gs] => ByRow(era_birth) => :era_start);"
   ]
  },
  {
   "cell_type": "code",
   "execution_count": 180,
   "metadata": {},
   "outputs": [],
   "source": [
    "transform!(df_era, [:era_end, :numdate_death_dh, :numdate_death_gs] => ByRow(era_death) => :era_end);"
   ]
  },
  {
   "cell_type": "markdown",
   "metadata": {},
   "source": [
    "Info"
   ]
  },
  {
   "cell_type": "code",
   "execution_count": 181,
   "metadata": {},
   "outputs": [],
   "source": [
    "df_info = filter([:era_start, :numdate_birth_dh] => ne_maybe, df_era);"
   ]
  },
  {
   "cell_type": "code",
   "execution_count": 182,
   "metadata": {},
   "outputs": [
    {
     "data": {
      "text/html": [
       "<div class=\"data-frame\"><p>4 rows × 9 columns (omitted printing of 2 columns)</p><table class=\"data-frame\"><thead><tr><th></th><th>id_online</th><th>id_dh</th><th>id_gs</th><th>numdate_birth_gs</th><th>numdate_birth_dh</th><th>era_start</th><th>numdate_start_gs</th></tr><tr><th></th><th title=\"Int32\">Int32</th><th title=\"Union{Missing, Int32}\">Int32?</th><th title=\"Union{Missing, Int32}\">Int32?</th><th title=\"Union{Missing, Int32}\">Int32?</th><th title=\"Union{Missing, Int32}\">Int32?</th><th title=\"Union{Missing, Int32}\">Int32?</th><th title=\"Union{Missing, Int32}\">Int32?</th></tr></thead><tbody><tr><th>1</th><td>19007</td><td>10919</td><td>81359</td><td>1738</td><td>1742</td><td>1738</td><td>1756</td></tr><tr><th>2</th><td>19181</td><td>11021</td><td>85597</td><td>1735</td><td>1740</td><td>1735</td><td>1756</td></tr><tr><th>3</th><td>19188</td><td>10984</td><td>85858</td><td>1746</td><td>1752</td><td>1746</td><td>1770</td></tr><tr><th>4</th><td>19225</td><td>11054</td><td>86880</td><td>1750</td><td>1756</td><td>1750</td><td>1760</td></tr></tbody></table></div>"
      ],
      "text/latex": [
       "\\begin{tabular}{r|cccccccc}\n",
       "\t& id\\_online & id\\_dh & id\\_gs & numdate\\_birth\\_gs & numdate\\_birth\\_dh & era\\_start & numdate\\_start\\_gs & \\\\\n",
       "\t\\hline\n",
       "\t& Int32 & Int32? & Int32? & Int32? & Int32? & Int32? & Int32? & \\\\\n",
       "\t\\hline\n",
       "\t1 & 19007 & 10919 & 81359 & 1738 & 1742 & 1738 & 1756 & $\\dots$ \\\\\n",
       "\t2 & 19181 & 11021 & 85597 & 1735 & 1740 & 1735 & 1756 & $\\dots$ \\\\\n",
       "\t3 & 19188 & 10984 & 85858 & 1746 & 1752 & 1746 & 1770 & $\\dots$ \\\\\n",
       "\t4 & 19225 & 11054 & 86880 & 1750 & 1756 & 1750 & 1760 & $\\dots$ \\\\\n",
       "\\end{tabular}\n"
      ],
      "text/plain": [
       "\u001b[1m4×9 DataFrame\u001b[0m\n",
       "\u001b[1m Row \u001b[0m│\u001b[1m id_online \u001b[0m\u001b[1m id_dh  \u001b[0m\u001b[1m id_gs  \u001b[0m\u001b[1m numdate_birth_gs \u001b[0m\u001b[1m numdate_birth_dh \u001b[0m\u001b[1m era_star\u001b[0m ⋯\n",
       "\u001b[1m     \u001b[0m│\u001b[90m Int32     \u001b[0m\u001b[90m Int32? \u001b[0m\u001b[90m Int32? \u001b[0m\u001b[90m Int32?           \u001b[0m\u001b[90m Int32?           \u001b[0m\u001b[90m Int32?  \u001b[0m ⋯\n",
       "─────┼──────────────────────────────────────────────────────────────────────────\n",
       "   1 │     19007   10919   81359              1738              1742       173 ⋯\n",
       "   2 │     19181   11021   85597              1735              1740       173\n",
       "   3 │     19188   10984   85858              1746              1752       174\n",
       "   4 │     19225   11054   86880              1750              1756       175\n",
       "\u001b[36m                                                               4 columns omitted\u001b[0m"
      ]
     },
     "execution_count": 182,
     "metadata": {},
     "output_type": "execute_result"
    }
   ],
   "source": [
    "df_info[!, [:id_online, :id_dh, :id_gs, :numdate_birth_gs, :numdate_birth_dh, col_min...]]"
   ]
  },
  {
   "cell_type": "code",
   "execution_count": 183,
   "metadata": {},
   "outputs": [],
   "source": [
    "df_info = filter(:numdate_birth_gs => ismissing, df_era);"
   ]
  },
  {
   "cell_type": "code",
   "execution_count": 184,
   "metadata": {},
   "outputs": [
    {
     "data": {
      "text/html": [
       "<div class=\"data-frame\"><p>6 rows × 9 columns (omitted printing of 2 columns)</p><table class=\"data-frame\"><thead><tr><th></th><th>id_online</th><th>id_dh</th><th>id_gs</th><th>numdate_birth_gs</th><th>numdate_birth_dh</th><th>era_start</th><th>numdate_start_gs</th></tr><tr><th></th><th title=\"Int32\">Int32</th><th title=\"Union{Missing, Int32}\">Int32?</th><th title=\"Union{Missing, Int32}\">Int32?</th><th title=\"Union{Missing, Int32}\">Int32?</th><th title=\"Union{Missing, Int32}\">Int32?</th><th title=\"Union{Missing, Int32}\">Int32?</th><th title=\"Union{Missing, Int32}\">Int32?</th></tr></thead><tbody><tr><th>1</th><td>19104</td><td>26590</td><td>84330</td><td><em>missing</em></td><td><em>missing</em></td><td>1337</td><td>1337</td></tr><tr><th>2</th><td>19105</td><td>13714</td><td>84332</td><td><em>missing</em></td><td><em>missing</em></td><td>1237</td><td>1240</td></tr><tr><th>3</th><td>19106</td><td>20412</td><td>84333</td><td><em>missing</em></td><td><em>missing</em></td><td>1301</td><td>1301</td></tr><tr><th>4</th><td>19107</td><td>20482</td><td>84334</td><td><em>missing</em></td><td><em>missing</em></td><td>1294</td><td>1311</td></tr><tr><th>5</th><td>19108</td><td>26580</td><td>84335</td><td><em>missing</em></td><td><em>missing</em></td><td>1247</td><td>1247</td></tr><tr><th>6</th><td>19109</td><td>20460</td><td>84337</td><td><em>missing</em></td><td><em>missing</em></td><td>1252</td><td>1260</td></tr></tbody></table></div>"
      ],
      "text/latex": [
       "\\begin{tabular}{r|cccccccc}\n",
       "\t& id\\_online & id\\_dh & id\\_gs & numdate\\_birth\\_gs & numdate\\_birth\\_dh & era\\_start & numdate\\_start\\_gs & \\\\\n",
       "\t\\hline\n",
       "\t& Int32 & Int32? & Int32? & Int32? & Int32? & Int32? & Int32? & \\\\\n",
       "\t\\hline\n",
       "\t1 & 19104 & 26590 & 84330 & \\emph{missing} & \\emph{missing} & 1337 & 1337 & $\\dots$ \\\\\n",
       "\t2 & 19105 & 13714 & 84332 & \\emph{missing} & \\emph{missing} & 1237 & 1240 & $\\dots$ \\\\\n",
       "\t3 & 19106 & 20412 & 84333 & \\emph{missing} & \\emph{missing} & 1301 & 1301 & $\\dots$ \\\\\n",
       "\t4 & 19107 & 20482 & 84334 & \\emph{missing} & \\emph{missing} & 1294 & 1311 & $\\dots$ \\\\\n",
       "\t5 & 19108 & 26580 & 84335 & \\emph{missing} & \\emph{missing} & 1247 & 1247 & $\\dots$ \\\\\n",
       "\t6 & 19109 & 20460 & 84337 & \\emph{missing} & \\emph{missing} & 1252 & 1260 & $\\dots$ \\\\\n",
       "\\end{tabular}\n"
      ],
      "text/plain": [
       "\u001b[1m6×9 DataFrame\u001b[0m\n",
       "\u001b[1m Row \u001b[0m│\u001b[1m id_online \u001b[0m\u001b[1m id_dh  \u001b[0m\u001b[1m id_gs  \u001b[0m\u001b[1m numdate_birth_gs \u001b[0m\u001b[1m numdate_birth_dh \u001b[0m\u001b[1m era_star\u001b[0m ⋯\n",
       "\u001b[1m     \u001b[0m│\u001b[90m Int32     \u001b[0m\u001b[90m Int32? \u001b[0m\u001b[90m Int32? \u001b[0m\u001b[90m Int32?           \u001b[0m\u001b[90m Int32?           \u001b[0m\u001b[90m Int32?  \u001b[0m ⋯\n",
       "─────┼──────────────────────────────────────────────────────────────────────────\n",
       "   1 │     19104   26590   84330 \u001b[90m          missing \u001b[0m\u001b[90m          missing \u001b[0m      133 ⋯\n",
       "   2 │     19105   13714   84332 \u001b[90m          missing \u001b[0m\u001b[90m          missing \u001b[0m      123\n",
       "   3 │     19106   20412   84333 \u001b[90m          missing \u001b[0m\u001b[90m          missing \u001b[0m      130\n",
       "   4 │     19107   20482   84334 \u001b[90m          missing \u001b[0m\u001b[90m          missing \u001b[0m      129\n",
       "   5 │     19108   26580   84335 \u001b[90m          missing \u001b[0m\u001b[90m          missing \u001b[0m      124 ⋯\n",
       "   6 │     19109   20460   84337 \u001b[90m          missing \u001b[0m\u001b[90m          missing \u001b[0m      125\n",
       "\u001b[36m                                                               4 columns omitted\u001b[0m"
      ]
     },
     "execution_count": 184,
     "metadata": {},
     "output_type": "execute_result"
    }
   ],
   "source": [
    "df_info[100:105, [:id_online, :id_dh, :id_gs, :numdate_birth_gs, :numdate_birth_dh, col_min...]]"
   ]
  },
  {
   "cell_type": "code",
   "execution_count": 185,
   "metadata": {},
   "outputs": [],
   "source": [
    "df_info = filter([:era_end, :numdate_death_dh] => ne_maybe, df_era);"
   ]
  },
  {
   "cell_type": "code",
   "execution_count": 186,
   "metadata": {},
   "outputs": [
    {
     "data": {
      "text/html": [
       "<div class=\"data-frame\"><p>0 rows × 9 columns (omitted printing of 2 columns)</p><table class=\"data-frame\"><thead><tr><th></th><th>id_online</th><th>id_dh</th><th>id_gs</th><th>numdate_death_gs</th><th>numdate_death_dh</th><th>era_end</th><th>numdate_end_gs</th></tr><tr><th></th><th title=\"Int32\">Int32</th><th title=\"Union{Missing, Int32}\">Int32?</th><th title=\"Union{Missing, Int32}\">Int32?</th><th title=\"Union{Missing, Int32}\">Int32?</th><th title=\"Union{Missing, Int32}\">Int32?</th><th title=\"Union{Missing, Int32}\">Int32?</th><th title=\"Union{Missing, Int32}\">Int32?</th></tr></thead><tbody></tbody></table></div>"
      ],
      "text/latex": [
       "\\begin{tabular}{r|cccccccc}\n",
       "\t& id\\_online & id\\_dh & id\\_gs & numdate\\_death\\_gs & numdate\\_death\\_dh & era\\_end & numdate\\_end\\_gs & \\\\\n",
       "\t\\hline\n",
       "\t& Int32 & Int32? & Int32? & Int32? & Int32? & Int32? & Int32? & \\\\\n",
       "\t\\hline\n",
       "\\end{tabular}\n"
      ],
      "text/plain": [
       "\u001b[1m0×9 DataFrame\u001b[0m"
      ]
     },
     "execution_count": 186,
     "metadata": {},
     "output_type": "execute_result"
    }
   ],
   "source": [
    "df_info[:, [:id_online, :id_dh, :id_gs, :numdate_death_gs, :numdate_death_dh, col_max...]]"
   ]
  },
  {
   "cell_type": "code",
   "execution_count": 187,
   "metadata": {},
   "outputs": [],
   "source": [
    "df_info = filter(:numdate_death_gs => ismissing, df_era);"
   ]
  },
  {
   "cell_type": "code",
   "execution_count": 188,
   "metadata": {},
   "outputs": [
    {
     "data": {
      "text/html": [
       "<div class=\"data-frame\"><p>6 rows × 9 columns (omitted printing of 2 columns)</p><table class=\"data-frame\"><thead><tr><th></th><th>id_online</th><th>id_dh</th><th>id_gs</th><th>numdate_death_gs</th><th>numdate_death_dh</th><th>era_end</th><th>numdate_end_gs</th></tr><tr><th></th><th title=\"Int32\">Int32</th><th title=\"Union{Missing, Int32}\">Int32?</th><th title=\"Union{Missing, Int32}\">Int32?</th><th title=\"Union{Missing, Int32}\">Int32?</th><th title=\"Union{Missing, Int32}\">Int32?</th><th title=\"Union{Missing, Int32}\">Int32?</th><th title=\"Union{Missing, Int32}\">Int32?</th></tr></thead><tbody><tr><th>1</th><td>19128</td><td>20434</td><td>84372</td><td><em>missing</em></td><td><em>missing</em></td><td>1341</td><td><em>missing</em></td></tr><tr><th>2</th><td>19130</td><td>26583</td><td>84375</td><td><em>missing</em></td><td><em>missing</em></td><td>1342</td><td>1342</td></tr><tr><th>3</th><td>19131</td><td>13138</td><td>84376</td><td><em>missing</em></td><td><em>missing</em></td><td>1316</td><td><em>missing</em></td></tr><tr><th>4</th><td>19132</td><td>19318</td><td>84380</td><td><em>missing</em></td><td><em>missing</em></td><td>1383</td><td>1383</td></tr><tr><th>5</th><td>19133</td><td>13752</td><td>84382</td><td><em>missing</em></td><td><em>missing</em></td><td>1288</td><td><em>missing</em></td></tr><tr><th>6</th><td>19135</td><td>20168</td><td>84384</td><td><em>missing</em></td><td><em>missing</em></td><td>1381</td><td>1381</td></tr></tbody></table></div>"
      ],
      "text/latex": [
       "\\begin{tabular}{r|cccccccc}\n",
       "\t& id\\_online & id\\_dh & id\\_gs & numdate\\_death\\_gs & numdate\\_death\\_dh & era\\_end & numdate\\_end\\_gs & \\\\\n",
       "\t\\hline\n",
       "\t& Int32 & Int32? & Int32? & Int32? & Int32? & Int32? & Int32? & \\\\\n",
       "\t\\hline\n",
       "\t1 & 19128 & 20434 & 84372 & \\emph{missing} & \\emph{missing} & 1341 & \\emph{missing} & $\\dots$ \\\\\n",
       "\t2 & 19130 & 26583 & 84375 & \\emph{missing} & \\emph{missing} & 1342 & 1342 & $\\dots$ \\\\\n",
       "\t3 & 19131 & 13138 & 84376 & \\emph{missing} & \\emph{missing} & 1316 & \\emph{missing} & $\\dots$ \\\\\n",
       "\t4 & 19132 & 19318 & 84380 & \\emph{missing} & \\emph{missing} & 1383 & 1383 & $\\dots$ \\\\\n",
       "\t5 & 19133 & 13752 & 84382 & \\emph{missing} & \\emph{missing} & 1288 & \\emph{missing} & $\\dots$ \\\\\n",
       "\t6 & 19135 & 20168 & 84384 & \\emph{missing} & \\emph{missing} & 1381 & 1381 & $\\dots$ \\\\\n",
       "\\end{tabular}\n"
      ],
      "text/plain": [
       "\u001b[1m6×9 DataFrame\u001b[0m\n",
       "\u001b[1m Row \u001b[0m│\u001b[1m id_online \u001b[0m\u001b[1m id_dh  \u001b[0m\u001b[1m id_gs  \u001b[0m\u001b[1m numdate_death_gs \u001b[0m\u001b[1m numdate_death_dh \u001b[0m\u001b[1m era_end \u001b[0m\u001b[1m\u001b[0m ⋯\n",
       "\u001b[1m     \u001b[0m│\u001b[90m Int32     \u001b[0m\u001b[90m Int32? \u001b[0m\u001b[90m Int32? \u001b[0m\u001b[90m Int32?           \u001b[0m\u001b[90m Int32?           \u001b[0m\u001b[90m Int32?  \u001b[0m\u001b[90m\u001b[0m ⋯\n",
       "─────┼──────────────────────────────────────────────────────────────────────────\n",
       "   1 │     19128   20434   84372 \u001b[90m          missing \u001b[0m\u001b[90m          missing \u001b[0m    1341 \u001b[90m\u001b[0m ⋯\n",
       "   2 │     19130   26583   84375 \u001b[90m          missing \u001b[0m\u001b[90m          missing \u001b[0m    1342\n",
       "   3 │     19131   13138   84376 \u001b[90m          missing \u001b[0m\u001b[90m          missing \u001b[0m    1316 \u001b[90m\u001b[0m\n",
       "   4 │     19132   19318   84380 \u001b[90m          missing \u001b[0m\u001b[90m          missing \u001b[0m    1383\n",
       "   5 │     19133   13752   84382 \u001b[90m          missing \u001b[0m\u001b[90m          missing \u001b[0m    1288 \u001b[90m\u001b[0m ⋯\n",
       "   6 │     19135   20168   84384 \u001b[90m          missing \u001b[0m\u001b[90m          missing \u001b[0m    1381\n",
       "\u001b[36m                                                               3 columns omitted\u001b[0m"
      ]
     },
     "execution_count": 188,
     "metadata": {},
     "output_type": "execute_result"
    }
   ],
   "source": [
    "df_info[100:105, [:id_online, :id_dh, :id_gs, :numdate_death_gs, :numdate_death_dh, col_max...]]"
   ]
  },
  {
   "cell_type": "markdown",
   "metadata": {},
   "source": [
    "Ersetze fehlende Werte durch den jeweils anderen Wert, falls vorhanden. (NULL erscheint in Sortierungen immer als erstes)"
   ]
  },
  {
   "cell_type": "code",
   "execution_count": 189,
   "metadata": {},
   "outputs": [
    {
     "data": {
      "text/plain": [
       "replace_missing (generic function with 1 method)"
      ]
     },
     "execution_count": 189,
     "metadata": {},
     "output_type": "execute_result"
    }
   ],
   "source": [
    "function replace_missing(a, b)\n",
    "    if ismissing(a)\n",
    "        a = b\n",
    "    elseif ismissing(b)\n",
    "        b = a\n",
    "    end\n",
    "    return a, b\n",
    "end"
   ]
  },
  {
   "cell_type": "code",
   "execution_count": 190,
   "metadata": {},
   "outputs": [],
   "source": [
    "transform!(df_era, [:era_start, :era_end] => ByRow(replace_missing) => [:era_start, :era_end]);"
   ]
  },
  {
   "cell_type": "markdown",
   "metadata": {},
   "source": [
    "Schreibe Daten für `domstift = 'all'`"
   ]
  },
  {
   "cell_type": "code",
   "execution_count": 191,
   "metadata": {},
   "outputs": [],
   "source": [
    "df_era[!, :domstift] .= \"all\";"
   ]
  },
  {
   "cell_type": "code",
   "execution_count": 192,
   "metadata": {},
   "outputs": [
    {
     "name": "stderr",
     "output_type": "stream",
     "text": [
      "┌ Info: Rows inserted: 9608\n",
      "└ @ WiagDataSetup C:\\Users\\georg\\Documents\\projekte\\WiagDataSetup.jl\\src\\WiagDataSetup.jl:1202\n"
     ]
    },
    {
     "data": {
      "text/plain": [
       "9608"
      ]
     },
     "execution_count": 192,
     "metadata": {},
     "output_type": "execute_result"
    }
   ],
   "source": [
    "table_name = \"cn_era\"\n",
    "Wds.filltable!(table_name, select(df_era, :id_online, :domstift, :era_start, :era_end), clear_table = true)"
   ]
  },
  {
   "cell_type": "markdown",
   "metadata": {},
   "source": [
    "Zeitraum pro Domstift"
   ]
  },
  {
   "cell_type": "markdown",
   "metadata": {},
   "source": [
    "Personendatenbank"
   ]
  },
  {
   "cell_type": "code",
   "execution_count": 193,
   "metadata": {},
   "outputs": [],
   "source": [
    "sql_union = \"SELECT ol_1.id AS id_online, id_canon, d_1.name as domstift, numdate_start, numdate_end \" *\n",
    "\"FROM cn_office_gs AS o_gs \" *\n",
    "\"JOIN wiag.domstift AS d_1 on o_gs.id_monastery = d_1.gs_id JOIN cn_online AS ol_1 ON ol_1.id_gs = o_gs.id_canon \" *\n",
    "\"UNION (SELECT ol.id AS id_online, id_canon, d.name as domstift, numdate_start, numdate_end \" *\n",
    "\"FROM cn_office AS o \" *\n",
    "\"JOIN wiag.domstift as d on o.id_monastery = d.gs_id JOIN cn_online AS ol ON ol.id_dh = o.id_canon)\"\n",
    "df_od = Wds.sql_df(sql_union);"
   ]
  },
  {
   "cell_type": "code",
   "execution_count": 194,
   "metadata": {},
   "outputs": [
    {
     "data": {
      "text/plain": [
       "(12853, 5)"
      ]
     },
     "execution_count": 194,
     "metadata": {},
     "output_type": "execute_result"
    }
   ],
   "source": [
    "size(df_od)"
   ]
  },
  {
   "cell_type": "markdown",
   "metadata": {},
   "source": [
    "Info"
   ]
  },
  {
   "cell_type": "code",
   "execution_count": 196,
   "metadata": {},
   "outputs": [],
   "source": [
    "sql_dh = \"SELECT ol.id AS id_online, id_canon, d.name as domstift, numdate_start, numdate_end \" *\n",
    "\"FROM cn_office AS o \" *\n",
    "\"JOIN wiag.domstift as d on o.id_monastery = d.gs_id JOIN cn_online AS ol ON ol.id_dh = o.id_canon \"\n",
    "df_od_dh = Wds.sql_df(sql_dh);"
   ]
  },
  {
   "cell_type": "code",
   "execution_count": 197,
   "metadata": {},
   "outputs": [
    {
     "data": {
      "text/plain": [
       "(4139, 5)"
      ]
     },
     "execution_count": 197,
     "metadata": {},
     "output_type": "execute_result"
    }
   ],
   "source": [
    "size(df_od_dh)"
   ]
  },
  {
   "cell_type": "code",
   "execution_count": 199,
   "metadata": {},
   "outputs": [
    {
     "data": {
      "text/html": [
       "<div class=\"data-frame\"><p>1 rows × 5 columns</p><table class=\"data-frame\"><thead><tr><th></th><th>id_online</th><th>id_canon</th><th>domstift</th><th>numdate_start</th><th>numdate_end</th></tr><tr><th></th><th title=\"Int32\">Int32</th><th title=\"Union{Missing, Int32}\">Int32?</th><th title=\"Union{Missing, String}\">String?</th><th title=\"Union{Missing, Int32}\">Int32?</th><th title=\"Union{Missing, Int32}\">Int32?</th></tr></thead><tbody><tr><th>1</th><td>22501</td><td>81671</td><td>Osnabrück</td><td>1426</td><td>1457</td></tr></tbody></table></div>"
      ],
      "text/latex": [
       "\\begin{tabular}{r|ccccc}\n",
       "\t& id\\_online & id\\_canon & domstift & numdate\\_start & numdate\\_end\\\\\n",
       "\t\\hline\n",
       "\t& Int32 & Int32? & String? & Int32? & Int32?\\\\\n",
       "\t\\hline\n",
       "\t1 & 22501 & 81671 & Osnabrück & 1426 & 1457 \\\\\n",
       "\\end{tabular}\n"
      ],
      "text/plain": [
       "\u001b[1m1×5 DataFrame\u001b[0m\n",
       "\u001b[1m Row \u001b[0m│\u001b[1m id_online \u001b[0m\u001b[1m id_canon \u001b[0m\u001b[1m domstift  \u001b[0m\u001b[1m numdate_start \u001b[0m\u001b[1m numdate_end \u001b[0m\n",
       "\u001b[1m     \u001b[0m│\u001b[90m Int32     \u001b[0m\u001b[90m Int32?   \u001b[0m\u001b[90m String?   \u001b[0m\u001b[90m Int32?        \u001b[0m\u001b[90m Int32?      \u001b[0m\n",
       "─────┼────────────────────────────────────────────────────────────\n",
       "   1 │     22501     81671  Osnabrück           1426         1457"
      ]
     },
     "execution_count": 199,
     "metadata": {},
     "output_type": "execute_result"
    }
   ],
   "source": [
    "filter(:id_online => isequal(22501), df_od)"
   ]
  },
  {
   "cell_type": "code",
   "execution_count": 200,
   "metadata": {},
   "outputs": [],
   "source": [
    "sql = \"SELECT id_online, domstift, min(numdate_start) AS era_start, max(numdate_end) AS era_end \" *\n",
    "\"FROM (\" * sql_union * \") AS U \" *\n",
    "\"GROUP BY id_online, domstift\"\n",
    "df_era_d = Wds.sql_df(sql);"
   ]
  },
  {
   "cell_type": "code",
   "execution_count": 201,
   "metadata": {},
   "outputs": [
    {
     "data": {
      "text/plain": [
       "((11519, 4), 9488, 34)"
      ]
     },
     "execution_count": 201,
     "metadata": {},
     "output_type": "execute_result"
    }
   ],
   "source": [
    "size(df_era_d), length(unique(df_era_d.id_online)), length(unique(df_era_d.domstift))"
   ]
  },
  {
   "cell_type": "markdown",
   "metadata": {},
   "source": [
    "Info"
   ]
  },
  {
   "cell_type": "code",
   "execution_count": 202,
   "metadata": {},
   "outputs": [
    {
     "data": {
      "text/html": [
       "<div class=\"data-frame\"><p>1 rows × 4 columns</p><table class=\"data-frame\"><thead><tr><th></th><th>id_online</th><th>domstift</th><th>era_start</th><th>era_end</th></tr><tr><th></th><th title=\"Int32\">Int32</th><th title=\"Union{Missing, String}\">String?</th><th title=\"Union{Missing, Int32}\">Int32?</th><th title=\"Union{Missing, Int32}\">Int32?</th></tr></thead><tbody><tr><th>1</th><td>22501</td><td>Osnabrück</td><td>1426</td><td>1457</td></tr></tbody></table></div>"
      ],
      "text/latex": [
       "\\begin{tabular}{r|cccc}\n",
       "\t& id\\_online & domstift & era\\_start & era\\_end\\\\\n",
       "\t\\hline\n",
       "\t& Int32 & String? & Int32? & Int32?\\\\\n",
       "\t\\hline\n",
       "\t1 & 22501 & Osnabrück & 1426 & 1457 \\\\\n",
       "\\end{tabular}\n"
      ],
      "text/plain": [
       "\u001b[1m1×4 DataFrame\u001b[0m\n",
       "\u001b[1m Row \u001b[0m│\u001b[1m id_online \u001b[0m\u001b[1m domstift  \u001b[0m\u001b[1m era_start \u001b[0m\u001b[1m era_end \u001b[0m\n",
       "\u001b[1m     \u001b[0m│\u001b[90m Int32     \u001b[0m\u001b[90m String?   \u001b[0m\u001b[90m Int32?    \u001b[0m\u001b[90m Int32?  \u001b[0m\n",
       "─────┼──────────────────────────────────────────\n",
       "   1 │     22501  Osnabrück       1426     1457"
      ]
     },
     "execution_count": 202,
     "metadata": {},
     "output_type": "execute_result"
    }
   ],
   "source": [
    "filter(:id_online => isequal(22501), df_era_d)"
   ]
  },
  {
   "cell_type": "markdown",
   "metadata": {},
   "source": [
    "Ersetze fehlende Werte durch den jeweils anderen Wert, falls vorhanden. (NULL erscheint in Sortierungen immer als erstes)"
   ]
  },
  {
   "cell_type": "code",
   "execution_count": 203,
   "metadata": {},
   "outputs": [],
   "source": [
    "transform!(df_era_d, [:era_start, :era_end] => ByRow(replace_missing) => [:era_start, :era_end]);"
   ]
  },
  {
   "cell_type": "markdown",
   "metadata": {},
   "source": [
    "Schreibe Daten für die einzelnen Domstifte"
   ]
  },
  {
   "cell_type": "code",
   "execution_count": 204,
   "metadata": {},
   "outputs": [
    {
     "name": "stderr",
     "output_type": "stream",
     "text": [
      "┌ Info: 10000\n",
      "└ @ WiagDataSetup C:\\Users\\georg\\Documents\\projekte\\WiagDataSetup.jl\\src\\WiagDataSetup.jl:1179\n",
      "┌ Info: Rows inserted: 11519\n",
      "└ @ WiagDataSetup C:\\Users\\georg\\Documents\\projekte\\WiagDataSetup.jl\\src\\WiagDataSetup.jl:1202\n"
     ]
    },
    {
     "data": {
      "text/plain": [
       "11519"
      ]
     },
     "execution_count": 204,
     "metadata": {},
     "output_type": "execute_result"
    }
   ],
   "source": [
    "table_name = \"cn_era\"\n",
    "Wds.filltable!(table_name, select(df_era_d, :id_online, :domstift, :era_start, :era_end), clear_table = false)"
   ]
  },
  {
   "cell_type": "markdown",
   "metadata": {},
   "source": [
    "### `cn_idlookup`"
   ]
  },
  {
   "cell_type": "markdown",
   "metadata": {},
   "source": [
    "Liese relevante Domherren aus `cn_online`"
   ]
  },
  {
   "cell_type": "code",
   "execution_count": 206,
   "metadata": {},
   "outputs": [],
   "source": [
    "sql = \"SELECT id as id_online, id_dh FROM cn_online WHERE id_dh IS NOT NULL\"\n",
    "df_online_dh = Wds.sql_df(sql);"
   ]
  },
  {
   "cell_type": "code",
   "execution_count": 208,
   "metadata": {},
   "outputs": [],
   "source": [
    "sql = \"SELECT * FROM cn_canon\"\n",
    "df_dh = Wds.sql_df(sql);"
   ]
  },
  {
   "cell_type": "markdown",
   "metadata": {},
   "source": [
    "Externe Identifier für Domherren aus der Domherrendatenbank"
   ]
  },
  {
   "cell_type": "code",
   "execution_count": 209,
   "metadata": {},
   "outputs": [
    {
     "data": {
      "text/html": [
       "<div class=\"data-frame\"><p>0 rows × 2 columns</p><table class=\"data-frame\"><thead><tr><th></th><th>id_dh</th><th>authority_id</th></tr><tr><th></th><th title=\"Int64\">Int64</th><th title=\"String\">String</th></tr></thead><tbody></tbody></table></div>"
      ],
      "text/latex": [
       "\\begin{tabular}{r|cc}\n",
       "\t& id\\_dh & authority\\_id\\\\\n",
       "\t\\hline\n",
       "\t& Int64 & String\\\\\n",
       "\t\\hline\n",
       "\\end{tabular}\n"
      ],
      "text/plain": [
       "\u001b[1m0×2 DataFrame\u001b[0m"
      ]
     },
     "execution_count": 209,
     "metadata": {},
     "output_type": "execute_result"
    }
   ],
   "source": [
    "df_idol = DataFrame(:id_dh => Int[], :authority_id => String[])"
   ]
  },
  {
   "cell_type": "code",
   "execution_count": 210,
   "metadata": {},
   "outputs": [],
   "source": [
    "for row in eachrow(df_dh)\n",
    "    for col in (:gnd_id, :gsn_id, :viaf_id, :wikidata_id, :wiag_episc_id)\n",
    "        if !ismissing(row[col])\n",
    "            push!(df_idol, (row[:id], row[col]))\n",
    "        end\n",
    "    end\n",
    "end"
   ]
  },
  {
   "cell_type": "code",
   "execution_count": 211,
   "metadata": {},
   "outputs": [
    {
     "data": {
      "text/plain": [
       "(1670, 2)"
      ]
     },
     "execution_count": 211,
     "metadata": {},
     "output_type": "execute_result"
    }
   ],
   "source": [
    "size(df_idol)"
   ]
  },
  {
   "cell_type": "code",
   "execution_count": 212,
   "metadata": {},
   "outputs": [],
   "source": [
    "df_idol = leftjoin(df_idol, df_online_dh, on = :id_dh);"
   ]
  },
  {
   "cell_type": "code",
   "execution_count": 213,
   "metadata": {},
   "outputs": [
    {
     "name": "stderr",
     "output_type": "stream",
     "text": [
      "┌ Info: Rows inserted: 1670\n",
      "└ @ WiagDataSetup C:\\Users\\georg\\Documents\\projekte\\WiagDataSetup.jl\\src\\WiagDataSetup.jl:1202\n"
     ]
    },
    {
     "data": {
      "text/plain": [
       "1670"
      ]
     },
     "execution_count": 213,
     "metadata": {},
     "output_type": "execute_result"
    }
   ],
   "source": [
    "table_name = \"cn_idlookup\"\n",
    "Wds.filltable!(table_name, select(df_idol, :id_online, :authority_id), clear_table = true)"
   ]
  },
  {
   "cell_type": "code",
   "execution_count": 216,
   "metadata": {},
   "outputs": [],
   "source": [
    "sql = \"SELECT id as id_online, id_gs FROM cn_online WHERE id_gs IS NOT NULL\"\n",
    "df_online_gs = Wds.sql_df(sql);"
   ]
  },
  {
   "cell_type": "code",
   "execution_count": 218,
   "metadata": {},
   "outputs": [],
   "source": [
    "sql = \"SELECT * FROM cn_canon_gs WHERE status = 'online'\"\n",
    "df_gs = Wds.sql_df(sql);"
   ]
  },
  {
   "cell_type": "code",
   "execution_count": 219,
   "metadata": {},
   "outputs": [
    {
     "data": {
      "text/plain": [
       "(7510, 34)"
      ]
     },
     "execution_count": 219,
     "metadata": {},
     "output_type": "execute_result"
    }
   ],
   "source": [
    "size(df_gs)"
   ]
  },
  {
   "cell_type": "code",
   "execution_count": 220,
   "metadata": {},
   "outputs": [
    {
     "data": {
      "text/html": [
       "<div class=\"data-frame\"><p>0 rows × 2 columns</p><table class=\"data-frame\"><thead><tr><th></th><th>id_gs</th><th>authority_id</th></tr><tr><th></th><th title=\"Int64\">Int64</th><th title=\"String\">String</th></tr></thead><tbody></tbody></table></div>"
      ],
      "text/latex": [
       "\\begin{tabular}{r|cc}\n",
       "\t& id\\_gs & authority\\_id\\\\\n",
       "\t\\hline\n",
       "\t& Int64 & String\\\\\n",
       "\t\\hline\n",
       "\\end{tabular}\n"
      ],
      "text/plain": [
       "\u001b[1m0×2 DataFrame\u001b[0m"
      ]
     },
     "execution_count": 220,
     "metadata": {},
     "output_type": "execute_result"
    }
   ],
   "source": [
    "df_idol = DataFrame(:id_gs => Int[], :authority_id => String[])"
   ]
  },
  {
   "cell_type": "code",
   "execution_count": 221,
   "metadata": {},
   "outputs": [],
   "source": [
    "for row in eachrow(df_gs)\n",
    "    for col in (:gnd_id, :gsn_id, :viaf_id, :wikidata_id, :wiag_episc_id)\n",
    "        if !ismissing(row[col])\n",
    "            push!(df_idol, (row[:id], row[col]))\n",
    "        end\n",
    "    end\n",
    "end"
   ]
  },
  {
   "cell_type": "code",
   "execution_count": 222,
   "metadata": {},
   "outputs": [
    {
     "data": {
      "text/plain": [
       "(8376, 2)"
      ]
     },
     "execution_count": 222,
     "metadata": {},
     "output_type": "execute_result"
    }
   ],
   "source": [
    "size(df_idol)"
   ]
  },
  {
   "cell_type": "code",
   "execution_count": 223,
   "metadata": {},
   "outputs": [],
   "source": [
    "df_idol = leftjoin(df_idol, df_online_gs, on = :id_gs);"
   ]
  },
  {
   "cell_type": "code",
   "execution_count": 224,
   "metadata": {},
   "outputs": [
    {
     "data": {
      "text/plain": [
       "(8376, 3)"
      ]
     },
     "execution_count": 224,
     "metadata": {},
     "output_type": "execute_result"
    }
   ],
   "source": [
    "size(df_idol)"
   ]
  },
  {
   "cell_type": "code",
   "execution_count": 225,
   "metadata": {},
   "outputs": [
    {
     "name": "stderr",
     "output_type": "stream",
     "text": [
      "┌ Info: Rows inserted: 8376\n",
      "└ @ WiagDataSetup C:\\Users\\georg\\Documents\\projekte\\WiagDataSetup.jl\\src\\WiagDataSetup.jl:1202\n"
     ]
    },
    {
     "data": {
      "text/plain": [
       "8376"
      ]
     },
     "execution_count": 225,
     "metadata": {},
     "output_type": "execute_result"
    }
   ],
   "source": [
    "table_name = \"cn_idlookup\"\n",
    "Wds.filltable!(table_name, select(df_idol, :id_online, :authority_id), clear_table = false)"
   ]
  },
  {
   "cell_type": "markdown",
   "metadata": {},
   "source": [
    "Daten in die Zieldatenbank übernehmen (im eingespielten Prozess können die Tabellen auch direkt vom Notebook aus beschrieben werden)\n",
    "```sql\n",
    "use wiag;\n",
    "delete from cn_reference;\n",
    "insert into cn_reference (select * from wiag_in.cn_reference);\n",
    "\n",
    "delete from cn_canon;\n",
    "insert into cn_canon (select * from wiag_in.cn_canon);\n",
    "delete from cn_canon_reference;\n",
    "insert into cn_canon_reference (select * from wiag_in.cn_canon_reference);\n",
    "delete from cn_office;\n",
    "insert into cn_office (select * from wiag_in.cn_office);\n",
    "\n",
    "delete from cn_online;\n",
    "insert into cn_online (select * from wiag_in.cn_online);\n",
    "delete from cn_namelookup;\n",
    "insert into cn_namelookup (select * from wiag_in.cn_namelookup);\n",
    "\n",
    "drop table cn_officelookup;\n",
    "create table cn_officelookup like wiag_in.cn_officelookup;\n",
    "insert into cn_officelookup (select * from wiag_in.cn_officelookup);\n",
    "\n",
    "drop table cn_era;\n",
    "create table cn_era like wiag_in.cn_era;\n",
    "insert into cn_era (select * from wiag_in.cn_era);\n",
    "\n",
    "drop table cn_idlookup;\n",
    "create table cn_idlookup like wiag_in.cn_idlookup;\n",
    "insert into cn_idlookup (select * from wiag_in.cn_idlookup);\n",
    "\n",
    "drop table monastery;\n",
    "create table monastery like wiag_in.monastery;\n",
    "insert into monastery (select * from wiag_in.monastery);\n",
    "\n",
    "drop table monastery_location;\n",
    "create table monastery_location like wiag_in.monastery_location;\n",
    "insert into monastery_location (select * from wiag_in.monastery_location);\n",
    "```"
   ]
  }
 ],
 "metadata": {
  "kernelspec": {
   "display_name": "Julia 1.6.1",
   "language": "julia",
   "name": "julia-1.6"
  },
  "language_info": {
   "file_extension": ".jl",
   "mimetype": "application/julia",
   "name": "julia",
   "version": "1.6.1"
  }
 },
 "nbformat": 4,
 "nbformat_minor": 4
}
