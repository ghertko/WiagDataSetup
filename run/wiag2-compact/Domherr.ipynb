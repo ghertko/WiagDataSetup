{
 "cells": [
  {
   "cell_type": "markdown",
   "metadata": {},
   "source": [
    "# Wissensaggregator Mittelalter und frühe Neuzeit\n",
    "\n",
    "## Daten für Domherren einlesen\n",
    "\n",
    "kompakte Version 2022-10-27\n",
    "\n",
    "Übertrage Daten aus Access. Daten als CSV speichern.\n",
    "\n",
    "[Vorspann](#Vorspann)  \n",
    "[Literatur](#Literatur)  \n",
    "[Item](#Item)  \n",
    "[Person](#Person)  \n",
    "[Externe ID](#Externe-ID)  \n",
    "[Namensvarianten](#Namensvarianten)  \n",
    "[Suchvarianten](#Suchvarianten)  "
   ]
  },
  {
   "cell_type": "markdown",
   "metadata": {},
   "source": [
    "### Vorspann"
   ]
  },
  {
   "cell_type": "code",
   "execution_count": 1,
   "metadata": {},
   "outputs": [
    {
     "data": {
      "text/plain": [
       "\"C:\\\\Users\\\\Georg\\\\Documents\\\\projekte\\\\WiagDataSetup.jl\""
      ]
     },
     "execution_count": 1,
     "metadata": {},
     "output_type": "execute_result"
    }
   ],
   "source": [
    "wds_path=\"C:\\\\Users\\\\Georg\\\\Documents\\\\projekte\\\\WiagDataSetup.jl\""
   ]
  },
  {
   "cell_type": "code",
   "execution_count": 2,
   "metadata": {},
   "outputs": [],
   "source": [
    "cd(wds_path)"
   ]
  },
  {
   "cell_type": "code",
   "execution_count": 3,
   "metadata": {},
   "outputs": [],
   "source": [
    "using Pkg"
   ]
  },
  {
   "cell_type": "code",
   "execution_count": 4,
   "metadata": {},
   "outputs": [
    {
     "name": "stderr",
     "output_type": "stream",
     "text": [
      "\u001b[32m\u001b[1m  Activating\u001b[22m\u001b[39m project at `C:\\Users\\Georg\\Documents\\projekte\\WiagDataSetup.jl`\n"
     ]
    }
   ],
   "source": [
    "Pkg.activate(\".\")"
   ]
  },
  {
   "cell_type": "code",
   "execution_count": 5,
   "metadata": {},
   "outputs": [],
   "source": [
    "using Revise"
   ]
  },
  {
   "cell_type": "code",
   "execution_count": 6,
   "metadata": {},
   "outputs": [],
   "source": [
    "using WiagDataSetup"
   ]
  },
  {
   "cell_type": "code",
   "execution_count": 7,
   "metadata": {},
   "outputs": [
    {
     "data": {
      "text/plain": [
       "WiagDataSetup"
      ]
     },
     "execution_count": 7,
     "metadata": {},
     "output_type": "execute_result"
    }
   ],
   "source": [
    "Wds = WiagDataSetup"
   ]
  },
  {
   "cell_type": "code",
   "execution_count": 8,
   "metadata": {},
   "outputs": [
    {
     "data": {
      "text/plain": [
       "\"wiag_in\""
      ]
     },
     "execution_count": 8,
     "metadata": {},
     "output_type": "execute_result"
    }
   ],
   "source": [
    "db = \"wiag_in\""
   ]
  },
  {
   "cell_type": "code",
   "execution_count": 9,
   "metadata": {},
   "outputs": [
    {
     "name": "stdout",
     "output_type": "stream",
     "text": [
      "Passwort für User georg: ········\n"
     ]
    },
    {
     "data": {
      "text/plain": [
       "MySQL.Connection(host=\"127.0.0.1\", user=\"georg\", port=\"3306\", db=\"wiag_in\")"
      ]
     },
     "execution_count": 9,
     "metadata": {},
     "output_type": "execute_result"
    }
   ],
   "source": [
    "Wds.setDBWIAG(user=\"georg\", db = db)"
   ]
  },
  {
   "cell_type": "markdown",
   "metadata": {},
   "source": [
    "Evtl. neue Quellen eintragen!"
   ]
  },
  {
   "cell_type": "code",
   "execution_count": 67,
   "metadata": {},
   "outputs": [],
   "source": [
    "gso_db = \"gso_in_202210\";"
   ]
  },
  {
   "cell_type": "code",
   "execution_count": 10,
   "metadata": {},
   "outputs": [
    {
     "data": {
      "text/plain": [
       "\"C:\\\\Users\\\\georg\\\\Documents\\\\projekte-doc\\\\WIAGweb2\\\\data\\\\domherren-2022-11-03\""
      ]
     },
     "execution_count": 10,
     "metadata": {},
     "output_type": "execute_result"
    }
   ],
   "source": [
    "data_path = \"C:\\\\Users\\\\georg\\\\Documents\\\\projekte-doc\\\\WIAGweb2\\\\data\\\\domherren-2022-11-03\""
   ]
  },
  {
   "cell_type": "code",
   "execution_count": 64,
   "metadata": {},
   "outputs": [
    {
     "data": {
      "text/plain": [
       "(5, 4)"
      ]
     },
     "execution_count": 64,
     "metadata": {},
     "output_type": "execute_result"
    }
   ],
   "source": [
    "item_type_id, bishop_item_type = 5, 4"
   ]
  },
  {
   "cell_type": "code",
   "execution_count": 12,
   "metadata": {},
   "outputs": [
    {
     "data": {
      "text/plain": [
       "120"
      ]
     },
     "execution_count": 12,
     "metadata": {},
     "output_type": "execute_result"
    }
   ],
   "source": [
    "ENV[\"COLUMNS\"] = 120"
   ]
  },
  {
   "cell_type": "code",
   "execution_count": 13,
   "metadata": {},
   "outputs": [],
   "source": [
    "using CSV, DataFrames, MySQL"
   ]
  },
  {
   "cell_type": "code",
   "execution_count": 14,
   "metadata": {},
   "outputs": [],
   "source": [
    "includet(\"src/Util.jl\")"
   ]
  },
  {
   "cell_type": "code",
   "execution_count": 17,
   "metadata": {},
   "outputs": [],
   "source": [
    "includet(\"src/Domherr.jl\")"
   ]
  },
  {
   "cell_type": "code",
   "execution_count": 56,
   "metadata": {},
   "outputs": [
    {
     "name": "stderr",
     "output_type": "stream",
     "text": [
      "┌ Info: WiagDataSetup\n",
      "└ @ Main C:\\Users\\Georg\\Documents\\projekte\\WiagDataSetup.jl\\src\\Domherr.jl:14\n",
      "┌ Info: item_type_id\n",
      "│   item_type_id = 5\n",
      "└ @ Main C:\\Users\\Georg\\Documents\\projekte\\WiagDataSetup.jl\\src\\Domherr.jl:15\n",
      "┌ Info: item_type_bishop\n",
      "│   item_type_bishop = 4\n",
      "└ @ Main C:\\Users\\Georg\\Documents\\projekte\\WiagDataSetup.jl\\src\\Domherr.jl:16\n"
     ]
    }
   ],
   "source": [
    "check_globals()"
   ]
  },
  {
   "cell_type": "markdown",
   "metadata": {},
   "source": [
    "### Tabellen löschen\n",
    "Tabelle `item` muss zuletzt gelöscht werden! (ausgenommen: `reference_volume`, `person` mit `item_type_id`)"
   ]
  },
  {
   "cell_type": "code",
   "execution_count": 18,
   "metadata": {},
   "outputs": [
    {
     "data": {
      "text/plain": [
       "5"
      ]
     },
     "execution_count": 18,
     "metadata": {},
     "output_type": "execute_result"
    }
   ],
   "source": [
    "item_type_id"
   ]
  },
  {
   "cell_type": "code",
   "execution_count": 19,
   "metadata": {},
   "outputs": [
    {
     "name": "stderr",
     "output_type": "stream",
     "text": [
      "┌ Info: Zeilen \n",
      "│   n_row = 13435\n",
      "└ @ Main C:\\Users\\Georg\\Documents\\projekte\\WiagDataSetup.jl\\src\\Util.jl:46\n"
     ]
    },
    {
     "data": {
      "text/plain": [
       "13435"
      ]
     },
     "execution_count": 19,
     "metadata": {},
     "output_type": "execute_result"
    }
   ],
   "source": [
    "clear_table!(Wds.dbwiag, \"id_external\", \"item_id\")"
   ]
  },
  {
   "cell_type": "code",
   "execution_count": 20,
   "metadata": {},
   "outputs": [
    {
     "name": "stderr",
     "output_type": "stream",
     "text": [
      "┌ Info: Zeilen \n",
      "│   n_row = 2167\n",
      "└ @ Main C:\\Users\\Georg\\Documents\\projekte\\WiagDataSetup.jl\\src\\Util.jl:46\n"
     ]
    },
    {
     "data": {
      "text/plain": [
       "2167"
      ]
     },
     "execution_count": 20,
     "metadata": {},
     "output_type": "execute_result"
    }
   ],
   "source": [
    "clear_table!(Wds.dbwiag, \"familyname_variant\", \"person_id\")"
   ]
  },
  {
   "cell_type": "code",
   "execution_count": 21,
   "metadata": {},
   "outputs": [
    {
     "name": "stderr",
     "output_type": "stream",
     "text": [
      "┌ Info: Zeilen \n",
      "│   n_row = 1319\n",
      "└ @ Main C:\\Users\\Georg\\Documents\\projekte\\WiagDataSetup.jl\\src\\Util.jl:46\n"
     ]
    },
    {
     "data": {
      "text/plain": [
       "1319"
      ]
     },
     "execution_count": 21,
     "metadata": {},
     "output_type": "execute_result"
    }
   ],
   "source": [
    "clear_table!(Wds.dbwiag, \"givenname_variant\", \"person_id\")"
   ]
  },
  {
   "cell_type": "code",
   "execution_count": 22,
   "metadata": {},
   "outputs": [
    {
     "name": "stderr",
     "output_type": "stream",
     "text": [
      "┌ Info: Zeilen \n",
      "│   n_row = 0\n",
      "└ @ Main C:\\Users\\Georg\\Documents\\projekte\\WiagDataSetup.jl\\src\\Util.jl:46\n"
     ]
    },
    {
     "data": {
      "text/plain": [
       "0"
      ]
     },
     "execution_count": 22,
     "metadata": {},
     "output_type": "execute_result"
    }
   ],
   "source": [
    "clear_table!(Wds.dbwiag, \"name_lookup\", \"person_id\")"
   ]
  },
  {
   "cell_type": "markdown",
   "metadata": {},
   "source": [
    "### Literatur"
   ]
  },
  {
   "cell_type": "code",
   "execution_count": 23,
   "metadata": {},
   "outputs": [
    {
     "name": "stderr",
     "output_type": "stream",
     "text": [
      "┌ Info: SELECT COUNT(*) as n FROM reference_volume WHERE item_type_id = 5\n",
      "└ @ Main C:\\Users\\Georg\\Documents\\projekte\\WiagDataSetup.jl\\src\\Util.jl:24\n"
     ]
    },
    {
     "data": {
      "text/plain": [
       "163"
      ]
     },
     "execution_count": 23,
     "metadata": {},
     "output_type": "execute_result"
    }
   ],
   "source": [
    "table = \"reference_volume\"\n",
    "count_table(Wds.dbwiag, table, \"item_type_id\")"
   ]
  },
  {
   "cell_type": "code",
   "execution_count": 24,
   "metadata": {},
   "outputs": [
    {
     "name": "stderr",
     "output_type": "stream",
     "text": [
      "┌ Info: Zeilen \n",
      "│   n_row = 163\n",
      "└ @ Main C:\\Users\\Georg\\Documents\\projekte\\WiagDataSetup.jl\\src\\Util.jl:46\n"
     ]
    },
    {
     "data": {
      "text/plain": [
       "163"
      ]
     },
     "execution_count": 24,
     "metadata": {},
     "output_type": "execute_result"
    }
   ],
   "source": [
    "c = clear_table!(Wds.dbwiag, table, \"item_type_id\")"
   ]
  },
  {
   "cell_type": "code",
   "execution_count": 25,
   "metadata": {},
   "outputs": [
    {
     "name": "stderr",
     "output_type": "stream",
     "text": [
      "┌ Info: reading \n",
      "│   table = reference_volume\n",
      "└ @ Main C:\\Users\\Georg\\Documents\\projekte\\WiagDataSetup.jl\\src\\Domherr.jl:21\n",
      "┌ Info: Zeilen, Spalten: \n",
      "│   size(df) = (167, 7)\n",
      "└ @ Main C:\\Users\\Georg\\Documents\\projekte\\WiagDataSetup.jl\\src\\Domherr.jl:25\n",
      "┌ Info: Rows inserted: 167\n",
      "└ @ WiagDataSetup C:\\Users\\Georg\\Documents\\projekte\\WiagDataSetup.jl\\src\\WiagDataSetup.jl:1216\n"
     ]
    },
    {
     "data": {
      "text/plain": [
       "167"
      ]
     },
     "execution_count": 25,
     "metadata": {},
     "output_type": "execute_result"
    }
   ],
   "source": [
    "source_file = joinpath(data_path, \"tbl_Reference.csv\");\n",
    "insert_reference_volume!(table, source_file)"
   ]
  },
  {
   "cell_type": "markdown",
   "metadata": {},
   "source": [
    "### Personendaten"
   ]
  },
  {
   "cell_type": "code",
   "execution_count": 122,
   "metadata": {},
   "outputs": [
    {
     "name": "stderr",
     "output_type": "stream",
     "text": [
      "┌ Info: Zeilen, Spalten: \n",
      "│   size(df_p) = (26134, 48)\n",
      "└ @ Main C:\\Users\\Georg\\Documents\\projekte\\WiagDataSetup.jl\\src\\Domherr.jl:71\n"
     ]
    }
   ],
   "source": [
    "source_file = joinpath(data_path, \"tbl_domherren.csv\");\n",
    "df_p = read_person(source_file, :ID_Domherr);"
   ]
  },
  {
   "cell_type": "markdown",
   "metadata": {},
   "source": [
    "### Item"
   ]
  },
  {
   "cell_type": "code",
   "execution_count": 28,
   "metadata": {},
   "outputs": [
    {
     "data": {
      "text/plain": [
       "\"item\""
      ]
     },
     "execution_count": 28,
     "metadata": {},
     "output_type": "execute_result"
    }
   ],
   "source": [
    "table = \"item\""
   ]
  },
  {
   "cell_type": "code",
   "execution_count": 29,
   "metadata": {},
   "outputs": [
    {
     "name": "stderr",
     "output_type": "stream",
     "text": [
      "┌ Info: SELECT COUNT(*) as n FROM item WHERE item_type_id = 5\n",
      "└ @ Main C:\\Users\\Georg\\Documents\\projekte\\WiagDataSetup.jl\\src\\Util.jl:24\n"
     ]
    },
    {
     "data": {
      "text/plain": [
       "26073"
      ]
     },
     "execution_count": 29,
     "metadata": {},
     "output_type": "execute_result"
    }
   ],
   "source": [
    "count_table(Wds.dbwiag, table, \"item_type_id\")"
   ]
  },
  {
   "cell_type": "code",
   "execution_count": 30,
   "metadata": {},
   "outputs": [
    {
     "name": "stderr",
     "output_type": "stream",
     "text": [
      "┌ Info: Zeilen \n",
      "│   n_row = 26073\n",
      "└ @ Main C:\\Users\\Georg\\Documents\\projekte\\WiagDataSetup.jl\\src\\Util.jl:46\n"
     ]
    },
    {
     "data": {
      "text/plain": [
       "26073"
      ]
     },
     "execution_count": 30,
     "metadata": {},
     "output_type": "execute_result"
    }
   ],
   "source": [
    "clear_table!(Wds.dbwiag, table, \"item_type_id\")"
   ]
  },
  {
   "cell_type": "code",
   "execution_count": 33,
   "metadata": {},
   "outputs": [
    {
     "name": "stderr",
     "output_type": "stream",
     "text": [
      "┌ Info: 10000\n",
      "└ @ WiagDataSetup C:\\Users\\Georg\\Documents\\projekte\\WiagDataSetup.jl\\src\\WiagDataSetup.jl:1193\n",
      "┌ Info: 20000\n",
      "└ @ WiagDataSetup C:\\Users\\Georg\\Documents\\projekte\\WiagDataSetup.jl\\src\\WiagDataSetup.jl:1193\n",
      "┌ Info: Rows inserted: 26134\n",
      "└ @ WiagDataSetup C:\\Users\\Georg\\Documents\\projekte\\WiagDataSetup.jl\\src\\WiagDataSetup.jl:1216\n"
     ]
    }
   ],
   "source": [
    "table = \"item\"\n",
    "insert_item!(\n",
    "    table,\n",
    "    df_p,\n",
    "    online_status = \"online\", \n",
    "    id_public_key = \"Pers-CANON\",\n",
    "    user_id = 40\n",
    ");"
   ]
  },
  {
   "cell_type": "code",
   "execution_count": 34,
   "metadata": {},
   "outputs": [
    {
     "data": {
      "text/html": [
       "<div><div style = \"float: left;\"><span>8×4 DataFrame</span></div><div style = \"clear: both;\"></div></div><div class = \"data-frame\" style = \"overflow-x: scroll;\"><table class = \"data-frame\" style = \"margin-bottom: 6px;\"><thead><tr class = \"header\"><th class = \"rowNumber\" style = \"font-weight: bold; text-align: right;\">Row</th><th style = \"text-align: left;\">ID_Domherr</th><th style = \"text-align: left;\">Vorname</th><th style = \"text-align: left;\">Familienname</th><th style = \"text-align: left;\">Status</th></tr><tr class = \"subheader headerLastRow\"><th class = \"rowNumber\" style = \"font-weight: bold; text-align: right;\"></th><th title = \"String\" style = \"text-align: left;\">String</th><th title = \"Union{Missing, String}\" style = \"text-align: left;\">String?</th><th title = \"Union{Missing, String}\" style = \"text-align: left;\">String?</th><th title = \"Union{Missing, String}\" style = \"text-align: left;\">String?</th></tr></thead><tbody><tr><td class = \"rowNumber\" style = \"font-weight: bold; text-align: right;\">1</td><td style = \"text-align: left;\">10199</td><td style = \"text-align: left;\">Joseph Heinrich</td><td style = \"text-align: left;\">Schrottenberg</td><td style = \"text-align: left;\">fertig</td></tr><tr><td class = \"rowNumber\" style = \"font-weight: bold; text-align: right;\">2</td><td style = \"text-align: left;\">10200</td><td style = \"text-align: left;\">Franz Karl</td><td style = \"text-align: left;\">Renesse</td><td style = \"text-align: left;\">fertig</td></tr><tr><td class = \"rowNumber\" style = \"font-weight: bold; text-align: right;\">3</td><td style = \"text-align: left;\">10201</td><td style = \"text-align: left;\">Klemens Franz</td><td style = \"text-align: left;\">Fürstenberg</td><td style = \"text-align: left;\">fertig</td></tr><tr><td class = \"rowNumber\" style = \"font-weight: bold; text-align: right;\">4</td><td style = \"text-align: left;\">10202</td><td style = \"text-align: left;\">Joseph Andreas Rich</td><td style = \"text-align: left;\">Speth von Zwiefalten</td><td style = \"text-align: left;\">xx</td></tr><tr><td class = \"rowNumber\" style = \"font-weight: bold; text-align: right;\">5</td><td style = \"text-align: left;\">10203</td><td style = \"text-align: left;\">Philipp Jakob</td><td style = \"text-align: left;\">Breidbach-Bürresheim</td><td style = \"text-align: left;\">Dublette</td></tr><tr><td class = \"rowNumber\" style = \"font-weight: bold; text-align: right;\">6</td><td style = \"text-align: left;\">10204</td><td style = \"text-align: left;\">Franz Ernst</td><td style = \"text-align: left;\">Syberg</td><td style = \"text-align: left;\">fertig</td></tr><tr><td class = \"rowNumber\" style = \"font-weight: bold; text-align: right;\">7</td><td style = \"text-align: left;\">10205</td><td style = \"text-align: left;\">Klemens Franz</td><td style = \"text-align: left;\">Beroldingen</td><td style = \"text-align: left;\">Dublette</td></tr><tr><td class = \"rowNumber\" style = \"font-weight: bold; text-align: right;\">8</td><td style = \"text-align: left;\">10206</td><td style = \"text-align: left;\">Leopold Joseph</td><td style = \"text-align: left;\">Bourscheidt-Burgbroel</td><td style = \"text-align: left;\">fertig</td></tr></tbody></table></div>"
      ],
      "text/latex": [
       "\\begin{tabular}{r|cccc}\n",
       "\t& ID\\_Domherr & Vorname & Familienname & Status\\\\\n",
       "\t\\hline\n",
       "\t& String & String? & String? & String?\\\\\n",
       "\t\\hline\n",
       "\t1 & 10199 & Joseph Heinrich & Schrottenberg & fertig \\\\\n",
       "\t2 & 10200 & Franz Karl & Renesse & fertig \\\\\n",
       "\t3 & 10201 & Klemens Franz & Fürstenberg & fertig \\\\\n",
       "\t4 & 10202 & Joseph Andreas Rich & Speth von Zwiefalten & xx \\\\\n",
       "\t5 & 10203 & Philipp Jakob & Breidbach-Bürresheim & Dublette \\\\\n",
       "\t6 & 10204 & Franz Ernst & Syberg & fertig \\\\\n",
       "\t7 & 10205 & Klemens Franz & Beroldingen & Dublette \\\\\n",
       "\t8 & 10206 & Leopold Joseph & Bourscheidt-Burgbroel & fertig \\\\\n",
       "\\end{tabular}\n"
      ],
      "text/plain": [
       "\u001b[1m8×4 DataFrame\u001b[0m\n",
       "\u001b[1m Row \u001b[0m│\u001b[1m ID_Domherr \u001b[0m\u001b[1m Vorname             \u001b[0m\u001b[1m Familienname          \u001b[0m\u001b[1m Status   \u001b[0m\n",
       "     │\u001b[90m String     \u001b[0m\u001b[90m String?             \u001b[0m\u001b[90m String?               \u001b[0m\u001b[90m String?  \u001b[0m\n",
       "─────┼──────────────────────────────────────────────────────────────────\n",
       "   1 │ 10199       Joseph Heinrich      Schrottenberg          fertig\n",
       "   2 │ 10200       Franz Karl           Renesse                fertig\n",
       "   3 │ 10201       Klemens Franz        Fürstenberg            fertig\n",
       "   4 │ 10202       Joseph Andreas Rich  Speth von Zwiefalten   xx\n",
       "   5 │ 10203       Philipp Jakob        Breidbach-Bürresheim   Dublette\n",
       "   6 │ 10204       Franz Ernst          Syberg                 fertig\n",
       "   7 │ 10205       Klemens Franz        Beroldingen            Dublette\n",
       "   8 │ 10206       Leopold Joseph       Bourscheidt-Burgbroel  fertig"
      ]
     },
     "execution_count": 34,
     "metadata": {},
     "output_type": "execute_result"
    }
   ],
   "source": [
    "df_p[200:207, [:ID_Domherr, :Vorname, :Familienname, :Status]]"
   ]
  },
  {
   "cell_type": "markdown",
   "metadata": {},
   "source": [
    "### Person"
   ]
  },
  {
   "cell_type": "code",
   "execution_count": 35,
   "metadata": {},
   "outputs": [
    {
     "data": {
      "text/plain": [
       "\"person\""
      ]
     },
     "execution_count": 35,
     "metadata": {},
     "output_type": "execute_result"
    }
   ],
   "source": [
    "table = \"person\""
   ]
  },
  {
   "cell_type": "code",
   "execution_count": 36,
   "metadata": {},
   "outputs": [
    {
     "name": "stderr",
     "output_type": "stream",
     "text": [
      "┌ Info: SELECT COUNT(*) as n FROM person WHERE item_type_id = 5\n",
      "└ @ Main C:\\Users\\Georg\\Documents\\projekte\\WiagDataSetup.jl\\src\\Util.jl:24\n"
     ]
    },
    {
     "data": {
      "text/plain": [
       "26073"
      ]
     },
     "execution_count": 36,
     "metadata": {},
     "output_type": "execute_result"
    }
   ],
   "source": [
    "table = \"person\"\n",
    "count_table(Wds.dbwiag, table, \"item_type_id\")"
   ]
  },
  {
   "cell_type": "code",
   "execution_count": 37,
   "metadata": {},
   "outputs": [
    {
     "name": "stderr",
     "output_type": "stream",
     "text": [
      "┌ Info: Zeilen \n",
      "│   n_row = 26073\n",
      "└ @ Main C:\\Users\\Georg\\Documents\\projekte\\WiagDataSetup.jl\\src\\Util.jl:46\n"
     ]
    },
    {
     "data": {
      "text/plain": [
       "26073"
      ]
     },
     "execution_count": 37,
     "metadata": {},
     "output_type": "execute_result"
    }
   ],
   "source": [
    "clear_table!(Wds.dbwiag, table, \"item_type_id\")"
   ]
  },
  {
   "cell_type": "code",
   "execution_count": 38,
   "metadata": {},
   "outputs": [
    {
     "name": "stderr",
     "output_type": "stream",
     "text": [
      "┌ Info: unbekannte Ordensbezeichnungen\n",
      "│   unique(unknown_order) = String[]\n",
      "└ @ Main C:\\Users\\Georg\\Documents\\projekte\\WiagDataSetup.jl\\src\\Domherr.jl:149\n",
      "┌ Warning: Could not parse \n",
      "│   s = Dr. theol.\n",
      "└ @ WiagDataSetup C:\\Users\\Georg\\Documents\\projekte\\WiagDataSetup.jl\\src\\WiagDataSetup.jl:1125\n",
      "┌ Warning: Could only find year in \n",
      "│   s = Ende 1322?\n",
      "└ @ WiagDataSetup C:\\Users\\Georg\\Documents\\projekte\\WiagDataSetup.jl\\src\\WiagDataSetup.jl:1120\n",
      "┌ Warning: Could only find year in \n",
      "│   s = vor Febr. 1503\n",
      "└ @ WiagDataSetup C:\\Users\\Georg\\Documents\\projekte\\WiagDataSetup.jl\\src\\WiagDataSetup.jl:1120\n",
      "┌ Warning: Could only find year in \n",
      "│   s = 3. Juni 1511\n",
      "└ @ WiagDataSetup C:\\Users\\Georg\\Documents\\projekte\\WiagDataSetup.jl\\src\\WiagDataSetup.jl:1120\n",
      "┌ Warning: Could only find year in \n",
      "│   s = 2. Febr. 1273\n",
      "└ @ WiagDataSetup C:\\Users\\Georg\\Documents\\projekte\\WiagDataSetup.jl\\src\\WiagDataSetup.jl:1120\n",
      "┌ Warning: Could only find year in \n",
      "│   s = 8.10.1160\n",
      "└ @ WiagDataSetup C:\\Users\\Georg\\Documents\\projekte\\WiagDataSetup.jl\\src\\WiagDataSetup.jl:1120\n",
      "┌ Warning: Could not parse \n",
      "│   s = 3. Dez.\n",
      "└ @ WiagDataSetup C:\\Users\\Georg\\Documents\\projekte\\WiagDataSetup.jl\\src\\WiagDataSetup.jl:1125\n",
      "┌ Warning: Could not parse \n",
      "│   s = 5. Okt.\n",
      "└ @ WiagDataSetup C:\\Users\\Georg\\Documents\\projekte\\WiagDataSetup.jl\\src\\WiagDataSetup.jl:1125\n",
      "┌ Warning: Could not parse \n",
      "│   s = 31. Okt.\n",
      "└ @ WiagDataSetup C:\\Users\\Georg\\Documents\\projekte\\WiagDataSetup.jl\\src\\WiagDataSetup.jl:1125\n",
      "┌ Warning: Could not parse \n",
      "│   s = 18. Nov.\n",
      "└ @ WiagDataSetup C:\\Users\\Georg\\Documents\\projekte\\WiagDataSetup.jl\\src\\WiagDataSetup.jl:1125\n",
      "┌ Warning: Could not parse \n",
      "│   s = 13. März?\n",
      "└ @ WiagDataSetup C:\\Users\\Georg\\Documents\\projekte\\WiagDataSetup.jl\\src\\WiagDataSetup.jl:1125\n",
      "┌ Warning: Could not parse \n",
      "│   s = 24.Jul\n",
      "└ @ WiagDataSetup C:\\Users\\Georg\\Documents\\projekte\\WiagDataSetup.jl\\src\\WiagDataSetup.jl:1125\n",
      "┌ Warning: Could not parse \n",
      "│   s = 18. Dez.\n",
      "└ @ WiagDataSetup C:\\Users\\Georg\\Documents\\projekte\\WiagDataSetup.jl\\src\\WiagDataSetup.jl:1125\n",
      "┌ Warning: Could not parse \n",
      "│   s = 05.Jul\n",
      "└ @ WiagDataSetup C:\\Users\\Georg\\Documents\\projekte\\WiagDataSetup.jl\\src\\WiagDataSetup.jl:1125\n",
      "┌ Warning: Could not parse \n",
      "│   s = 18.Mai\n",
      "└ @ WiagDataSetup C:\\Users\\Georg\\Documents\\projekte\\WiagDataSetup.jl\\src\\WiagDataSetup.jl:1125\n",
      "┌ Warning: Could not parse \n",
      "│   s = 29. Nov.\n",
      "└ @ WiagDataSetup C:\\Users\\Georg\\Documents\\projekte\\WiagDataSetup.jl\\src\\WiagDataSetup.jl:1125\n",
      "┌ Warning: Could only find year in \n",
      "│   s = 8. Jan. 1516\n",
      "└ @ WiagDataSetup C:\\Users\\Georg\\Documents\\projekte\\WiagDataSetup.jl\\src\\WiagDataSetup.jl:1120\n",
      "┌ Warning: Could not parse \n",
      "│   s = 05.Mrz\n",
      "└ @ WiagDataSetup C:\\Users\\Georg\\Documents\\projekte\\WiagDataSetup.jl\\src\\WiagDataSetup.jl:1125\n",
      "┌ Warning: Could not parse \n",
      "│   s = 12. Okt.\n",
      "└ @ WiagDataSetup C:\\Users\\Georg\\Documents\\projekte\\WiagDataSetup.jl\\src\\WiagDataSetup.jl:1125\n",
      "┌ Warning: Could only find year in \n",
      "│   s = 1. Sept. 1535\n",
      "└ @ WiagDataSetup C:\\Users\\Georg\\Documents\\projekte\\WiagDataSetup.jl\\src\\WiagDataSetup.jl:1120\n",
      "┌ Warning: Could not parse \n",
      "│   s = 19.Mrz\n",
      "└ @ WiagDataSetup C:\\Users\\Georg\\Documents\\projekte\\WiagDataSetup.jl\\src\\WiagDataSetup.jl:1125\n",
      "┌ Warning: Could not parse \n",
      "│   s = 11. Jan.\n",
      "└ @ WiagDataSetup C:\\Users\\Georg\\Documents\\projekte\\WiagDataSetup.jl\\src\\WiagDataSetup.jl:1125\n",
      "┌ Warning: Could not parse \n",
      "│   s = 14.Jul\n",
      "└ @ WiagDataSetup C:\\Users\\Georg\\Documents\\projekte\\WiagDataSetup.jl\\src\\WiagDataSetup.jl:1125\n",
      "┌ Warning: Could not parse \n",
      "│   s = 3. Dez.\n",
      "└ @ WiagDataSetup C:\\Users\\Georg\\Documents\\projekte\\WiagDataSetup.jl\\src\\WiagDataSetup.jl:1125\n",
      "┌ Warning: Could only find year in \n",
      "│   s = 13. Oktober 1589\n",
      "└ @ WiagDataSetup C:\\Users\\Georg\\Documents\\projekte\\WiagDataSetup.jl\\src\\WiagDataSetup.jl:1120\n",
      "┌ Warning: Could not parse \n",
      "│   s = 25.Apr\n",
      "└ @ WiagDataSetup C:\\Users\\Georg\\Documents\\projekte\\WiagDataSetup.jl\\src\\WiagDataSetup.jl:1125\n",
      "┌ Warning: Could not parse \n",
      "│   s = 02.Aug\n",
      "└ @ WiagDataSetup C:\\Users\\Georg\\Documents\\projekte\\WiagDataSetup.jl\\src\\WiagDataSetup.jl:1125\n",
      "┌ Warning: Could only find year in \n",
      "│   s = 8. Sept. 1539\n",
      "└ @ WiagDataSetup C:\\Users\\Georg\\Documents\\projekte\\WiagDataSetup.jl\\src\\WiagDataSetup.jl:1120\n",
      "┌ Warning: Could only find year in \n",
      "│   s = vor 1. 5. 1472\n",
      "└ @ WiagDataSetup C:\\Users\\Georg\\Documents\\projekte\\WiagDataSetup.jl\\src\\WiagDataSetup.jl:1120\n",
      "┌ Warning: Could not parse \n",
      "│   s = lic. leg.\n",
      "└ @ WiagDataSetup C:\\Users\\Georg\\Documents\\projekte\\WiagDataSetup.jl\\src\\WiagDataSetup.jl:1125\n",
      "┌ Info: 10000\n",
      "└ @ WiagDataSetup C:\\Users\\Georg\\Documents\\projekte\\WiagDataSetup.jl\\src\\WiagDataSetup.jl:1193\n",
      "┌ Info: 20000\n",
      "└ @ WiagDataSetup C:\\Users\\Georg\\Documents\\projekte\\WiagDataSetup.jl\\src\\WiagDataSetup.jl:1193\n",
      "┌ Info: Rows inserted: 26134\n",
      "└ @ WiagDataSetup C:\\Users\\Georg\\Documents\\projekte\\WiagDataSetup.jl\\src\\WiagDataSetup.jl:1216\n"
     ]
    },
    {
     "data": {
      "text/plain": [
       "26134"
      ]
     },
     "execution_count": 38,
     "metadata": {},
     "output_type": "execute_result"
    }
   ],
   "source": [
    "insert_person!(table, df_p)"
   ]
  },
  {
   "cell_type": "markdown",
   "metadata": {},
   "source": [
    "### Akademischer Titel"
   ]
  },
  {
   "cell_type": "code",
   "execution_count": 39,
   "metadata": {},
   "outputs": [
    {
     "name": "stderr",
     "output_type": "stream",
     "text": [
      "┌ Info: Zeilen \n",
      "│   n_row = 0\n",
      "└ @ Main C:\\Users\\Georg\\Documents\\projekte\\WiagDataSetup.jl\\src\\Util.jl:70\n"
     ]
    },
    {
     "data": {
      "text/plain": [
       "0"
      ]
     },
     "execution_count": 39,
     "metadata": {},
     "output_type": "execute_result"
    }
   ],
   "source": [
    "table = \"item_property\"\n",
    "clear_item_property!(Wds.dbwiag, table, \"item_id\", \"academic_title\")"
   ]
  },
  {
   "cell_type": "code",
   "execution_count": 40,
   "metadata": {},
   "outputs": [
    {
     "name": "stderr",
     "output_type": "stream",
     "text": [
      "┌ Info: Rows inserted: 1715\n",
      "└ @ WiagDataSetup C:\\Users\\Georg\\Documents\\projekte\\WiagDataSetup.jl\\src\\WiagDataSetup.jl:1216\n"
     ]
    },
    {
     "data": {
      "text/plain": [
       "1715"
      ]
     },
     "execution_count": 40,
     "metadata": {},
     "output_type": "execute_result"
    }
   ],
   "source": [
    "table = \"item_property\"\n",
    "insert_item_property!(table, df_p, property_column = Symbol(\"AkademischerTitel\"), property_name = \"academic_title\")"
   ]
  },
  {
   "cell_type": "markdown",
   "metadata": {},
   "source": [
    "### Referenzverweise"
   ]
  },
  {
   "cell_type": "code",
   "execution_count": 126,
   "metadata": {},
   "outputs": [
    {
     "name": "stderr",
     "output_type": "stream",
     "text": [
      "┌ Info: SELECT COUNT(*) as n FROM item_reference WHERE item_type_id = 5\n",
      "└ @ Main C:\\Users\\Georg\\Documents\\projekte\\WiagDataSetup.jl\\src\\Util.jl:24\n"
     ]
    },
    {
     "data": {
      "text/plain": [
       "29824"
      ]
     },
     "execution_count": 126,
     "metadata": {},
     "output_type": "execute_result"
    }
   ],
   "source": [
    "table = \"item_reference\"\n",
    "count_table(Wds.dbwiag, table, \"item_type_id\")"
   ]
  },
  {
   "cell_type": "code",
   "execution_count": 127,
   "metadata": {},
   "outputs": [
    {
     "name": "stderr",
     "output_type": "stream",
     "text": [
      "┌ Info: Zeilen \n",
      "│   n_row = 29824\n",
      "└ @ Main C:\\Users\\Georg\\Documents\\projekte\\WiagDataSetup.jl\\src\\Util.jl:46\n"
     ]
    },
    {
     "data": {
      "text/plain": [
       "29824"
      ]
     },
     "execution_count": 127,
     "metadata": {},
     "output_type": "execute_result"
    }
   ],
   "source": [
    "table = \"item_reference\"\n",
    "clear_table!(Wds.dbwiag, table, \"item_type_id\")"
   ]
  },
  {
   "cell_type": "code",
   "execution_count": 128,
   "metadata": {},
   "outputs": [
    {
     "name": "stderr",
     "output_type": "stream",
     "text": [
      "┌ Info: Einträge ohne Quelle\n",
      "│   n_missing = 0\n",
      "└ @ Main C:\\Users\\Georg\\Documents\\projekte\\WiagDataSetup.jl\\src\\Domherr.jl:233\n",
      "┌ Info: 10000\n",
      "└ @ WiagDataSetup C:\\Users\\Georg\\Documents\\projekte\\WiagDataSetup.jl\\src\\WiagDataSetup.jl:1193\n",
      "┌ Info: 20000\n",
      "└ @ WiagDataSetup C:\\Users\\Georg\\Documents\\projekte\\WiagDataSetup.jl\\src\\WiagDataSetup.jl:1193\n",
      "┌ Info: Rows inserted: 26134\n",
      "└ @ WiagDataSetup C:\\Users\\Georg\\Documents\\projekte\\WiagDataSetup.jl\\src\\WiagDataSetup.jl:1216\n"
     ]
    },
    {
     "data": {
      "text/plain": [
       "26134"
      ]
     },
     "execution_count": 128,
     "metadata": {},
     "output_type": "execute_result"
    }
   ],
   "source": [
    "table = \"item_reference\"\n",
    "insert_item_reference!(table, df_p)"
   ]
  },
  {
   "cell_type": "markdown",
   "metadata": {},
   "source": [
    "Mittelbare Verweise eintragen von Domherren, die mit anderen zusammengeführt wurden."
   ]
  },
  {
   "cell_type": "code",
   "execution_count": 129,
   "metadata": {},
   "outputs": [
    {
     "name": "stderr",
     "output_type": "stream",
     "text": [
      "┌ Info: Rows inserted: 1845\n",
      "└ @ WiagDataSetup C:\\Users\\Georg\\Documents\\projekte\\WiagDataSetup.jl\\src\\WiagDataSetup.jl:1216\n"
     ]
    }
   ],
   "source": [
    "table = \"item_reference\"\n",
    "insert_merged_item_reference!(table, df_p);"
   ]
  },
  {
   "cell_type": "code",
   "execution_count": 124,
   "metadata": {},
   "outputs": [
    {
     "data": {
      "text/html": [
       "<div><div style = \"float: left;\"><span>6×9 DataFrame</span></div><div style = \"clear: both;\"></div></div><div class = \"data-frame\" style = \"overflow-x: scroll;\"><table class = \"data-frame\" style = \"margin-bottom: 6px;\"><thead><tr class = \"header\"><th class = \"rowNumber\" style = \"font-weight: bold; text-align: right;\">Row</th><th style = \"text-align: left;\">item_id</th><th style = \"text-align: left;\">id_in_source</th><th style = \"text-align: left;\">page</th><th style = \"text-align: left;\">reference_id</th><th style = \"text-align: left;\">id_in_reference</th><th style = \"text-align: left;\">merged_into_id</th><th style = \"text-align: left;\">edit_status</th><th style = \"text-align: left;\">item_type_id</th><th style = \"text-align: left;\">item_id_2</th></tr><tr class = \"subheader headerLastRow\"><th class = \"rowNumber\" style = \"font-weight: bold; text-align: right;\"></th><th title = \"Int32\" style = \"text-align: left;\">Int32</th><th title = \"Union{Missing, String}\" style = \"text-align: left;\">String?</th><th title = \"Union{Missing, String}\" style = \"text-align: left;\">String?</th><th title = \"Int64\" style = \"text-align: left;\">Int64</th><th title = \"Union{Missing, String}\" style = \"text-align: left;\">String?</th><th title = \"Union{Missing, String}\" style = \"text-align: left;\">String?</th><th title = \"Union{Missing, String}\" style = \"text-align: left;\">String?</th><th title = \"Int64\" style = \"text-align: left;\">Int64</th><th title = \"Int32\" style = \"text-align: left;\">Int32</th></tr></thead><tbody><tr><td class = \"rowNumber\" style = \"font-weight: bold; text-align: right;\">1</td><td style = \"text-align: right;\">564272</td><td style = \"text-align: left;\">10586</td><td style = \"text-align: left;\">196</td><td style = \"text-align: right;\">6</td><td style = \"text-align: left;\">WU207</td><td style = \"text-align: left;\">25624</td><td style = \"text-align: left;\">merged</td><td style = \"text-align: right;\">5</td><td style = \"text-align: right;\">574644</td></tr><tr><td class = \"rowNumber\" style = \"font-weight: bold; text-align: right;\">2</td><td style = \"text-align: right;\">564271</td><td style = \"text-align: left;\">10587</td><td style = \"text-align: left;\">196</td><td style = \"text-align: right;\">6</td><td style = \"text-align: left;\">WU208</td><td style = \"text-align: left;\">25267</td><td style = \"text-align: left;\">merged</td><td style = \"text-align: right;\">5</td><td style = \"text-align: right;\">574355</td></tr><tr><td class = \"rowNumber\" style = \"font-weight: bold; text-align: right;\">3</td><td style = \"text-align: right;\">564269</td><td style = \"text-align: left;\">10589</td><td style = \"text-align: left;\">196</td><td style = \"text-align: right;\">6</td><td style = \"text-align: left;\">WU210</td><td style = \"text-align: left;\">25623</td><td style = \"text-align: left;\">merged</td><td style = \"text-align: right;\">5</td><td style = \"text-align: right;\">574645</td></tr><tr><td class = \"rowNumber\" style = \"font-weight: bold; text-align: right;\">4</td><td style = \"text-align: right;\">564260</td><td style = \"text-align: left;\">10598</td><td style = \"text-align: left;\">196</td><td style = \"text-align: right;\">6</td><td style = \"text-align: left;\">WU219</td><td style = \"text-align: left;\">25266</td><td style = \"text-align: left;\">merged</td><td style = \"text-align: right;\">5</td><td style = \"text-align: right;\">574356</td></tr><tr><td class = \"rowNumber\" style = \"font-weight: bold; text-align: right;\">5</td><td style = \"text-align: right;\">564345</td><td style = \"text-align: left;\">10633</td><td style = \"text-align: left;\">196</td><td style = \"text-align: right;\">6</td><td style = \"text-align: left;\">WU254</td><td style = \"text-align: left;\">25265</td><td style = \"text-align: left;\">merged</td><td style = \"text-align: right;\">5</td><td style = \"text-align: right;\">574357</td></tr><tr><td class = \"rowNumber\" style = \"font-weight: bold; text-align: right;\">6</td><td style = \"text-align: right;\">564339</td><td style = \"text-align: left;\">10639</td><td style = \"text-align: left;\">131, 197</td><td style = \"text-align: right;\">6</td><td style = \"text-align: left;\">MZ202, WU260</td><td style = \"text-align: left;\">25700</td><td style = \"text-align: left;\">merged</td><td style = \"text-align: right;\">5</td><td style = \"text-align: right;\">574754</td></tr></tbody></table></div>"
      ],
      "text/latex": [
       "\\begin{tabular}{r|ccccccccc}\n",
       "\t& item\\_id & id\\_in\\_source & page & reference\\_id & id\\_in\\_reference & merged\\_into\\_id & edit\\_status & item\\_type\\_id & item\\_id\\_2\\\\\n",
       "\t\\hline\n",
       "\t& Int32 & String? & String? & Int64 & String? & String? & String? & Int64 & Int32\\\\\n",
       "\t\\hline\n",
       "\t1 & 564272 & 10586 & 196 & 6 & WU207 & 25624 & merged & 5 & 574644 \\\\\n",
       "\t2 & 564271 & 10587 & 196 & 6 & WU208 & 25267 & merged & 5 & 574355 \\\\\n",
       "\t3 & 564269 & 10589 & 196 & 6 & WU210 & 25623 & merged & 5 & 574645 \\\\\n",
       "\t4 & 564260 & 10598 & 196 & 6 & WU219 & 25266 & merged & 5 & 574356 \\\\\n",
       "\t5 & 564345 & 10633 & 196 & 6 & WU254 & 25265 & merged & 5 & 574357 \\\\\n",
       "\t6 & 564339 & 10639 & 131, 197 & 6 & MZ202, WU260 & 25700 & merged & 5 & 574754 \\\\\n",
       "\\end{tabular}\n"
      ],
      "text/plain": [
       "\u001b[1m6×9 DataFrame\u001b[0m\n",
       "\u001b[1m Row \u001b[0m│\u001b[1m item_id \u001b[0m\u001b[1m id_in_source \u001b[0m\u001b[1m page     \u001b[0m\u001b[1m reference_id \u001b[0m\u001b[1m id_in_reference \u001b[0m\u001b[1m merged_into_id \u001b[0m\u001b[1m edit_status \u001b[0m\u001b[1m item_type_id \u001b[0m\u001b[1m item\u001b[0m ⋯\n",
       "     │\u001b[90m Int32   \u001b[0m\u001b[90m String?      \u001b[0m\u001b[90m String?  \u001b[0m\u001b[90m Int64        \u001b[0m\u001b[90m String?         \u001b[0m\u001b[90m String?        \u001b[0m\u001b[90m String?     \u001b[0m\u001b[90m Int64        \u001b[0m\u001b[90m Int3\u001b[0m ⋯\n",
       "─────┼──────────────────────────────────────────────────────────────────────────────────────────────────────────────────\n",
       "   1 │  564272  10586         196                  6  WU207            25624           merged                  5     5 ⋯\n",
       "   2 │  564271  10587         196                  6  WU208            25267           merged                  5     5\n",
       "   3 │  564269  10589         196                  6  WU210            25623           merged                  5     5\n",
       "   4 │  564260  10598         196                  6  WU219            25266           merged                  5     5\n",
       "   5 │  564345  10633         196                  6  WU254            25265           merged                  5     5 ⋯\n",
       "   6 │  564339  10639         131, 197             6  MZ202, WU260     25700           merged                  5     5\n",
       "\u001b[36m                                                                                                        1 column omitted\u001b[0m"
      ]
     },
     "execution_count": 124,
     "metadata": {},
     "output_type": "execute_result"
    }
   ],
   "source": [
    "df_iref_2[20:25, :]"
   ]
  },
  {
   "cell_type": "code",
   "execution_count": null,
   "metadata": {},
   "outputs": [],
   "source": []
  },
  {
   "cell_type": "code",
   "execution_count": null,
   "metadata": {},
   "outputs": [],
   "source": []
  },
  {
   "cell_type": "code",
   "execution_count": 117,
   "metadata": {},
   "outputs": [],
   "source": [
    "df_iref_2_v = dropmissing(df_iref_2, :item_id_2);"
   ]
  },
  {
   "cell_type": "code",
   "execution_count": 118,
   "metadata": {},
   "outputs": [
    {
     "ename": "LoadError",
     "evalue": "BoundsError: attempt to access 0×9 DataFrame at index [20:25, :]",
     "output_type": "error",
     "traceback": [
      "BoundsError: attempt to access 0×9 DataFrame at index [20:25, :]",
      "",
      "Stacktrace:",
      " [1] getindex(df::DataFrame, row_inds::UnitRange{Int64}, #unused#::Colon)",
      "   @ DataFrames C:\\Users\\georg\\.julia\\packages\\DataFrames\\Lrd7K\\src\\dataframe\\dataframe.jl:601",
      " [2] top-level scope",
      "   @ In[118]:1",
      " [3] eval",
      "   @ .\\boot.jl:368 [inlined]",
      " [4] include_string(mapexpr::typeof(REPL.softscope), mod::Module, code::String, filename::String)",
      "   @ Base .\\loading.jl:1428"
     ]
    }
   ],
   "source": [
    "df_iref_2_v[20:25, :]"
   ]
  },
  {
   "cell_type": "code",
   "execution_count": null,
   "metadata": {},
   "outputs": [],
   "source": []
  },
  {
   "cell_type": "code",
   "execution_count": null,
   "metadata": {},
   "outputs": [],
   "source": []
  },
  {
   "cell_type": "code",
   "execution_count": 59,
   "metadata": {},
   "outputs": [
    {
     "name": "stderr",
     "output_type": "stream",
     "text": [
      "┌ Info: SELECT COUNT(*) as n FROM item_reference WHERE item_type_id = 5\n",
      "└ @ Main C:\\Users\\Georg\\Documents\\projekte\\WiagDataSetup.jl\\src\\Util.jl:24\n"
     ]
    },
    {
     "data": {
      "text/plain": [
       "27979"
      ]
     },
     "execution_count": 59,
     "metadata": {},
     "output_type": "execute_result"
    }
   ],
   "source": [
    "table = \"item_reference\"\n",
    "count_table(Wds.dbwiag, table, \"item_type_id\")"
   ]
  },
  {
   "cell_type": "markdown",
   "metadata": {},
   "source": [
    "### Externe ID"
   ]
  },
  {
   "cell_type": "code",
   "execution_count": 60,
   "metadata": {},
   "outputs": [
    {
     "data": {
      "text/plain": [
       "MySQL.Connection(host=\"127.0.0.1\", user=\"georg\", port=\"3306\", db=\"wiag_in\")"
      ]
     },
     "execution_count": 60,
     "metadata": {},
     "output_type": "execute_result"
    }
   ],
   "source": [
    "Wds.dbwiag"
   ]
  },
  {
   "cell_type": "code",
   "execution_count": 50,
   "metadata": {},
   "outputs": [
    {
     "name": "stderr",
     "output_type": "stream",
     "text": [
      "┌ Info: SELECT COUNT(*) as n FROM id_external WHERE item_id IN (SELECT id FROM item WHERE item_type_id = 5)\n",
      "└ @ Main C:\\Users\\Georg\\Documents\\projekte\\WiagDataSetup.jl\\src\\Util.jl:24\n"
     ]
    },
    {
     "data": {
      "text/plain": [
       "15518"
      ]
     },
     "execution_count": 50,
     "metadata": {},
     "output_type": "execute_result"
    }
   ],
   "source": [
    "table = \"id_external\"\n",
    "count_table(Wds.dbwiag, table, \"item_id\")"
   ]
  },
  {
   "cell_type": "code",
   "execution_count": 51,
   "metadata": {},
   "outputs": [
    {
     "name": "stderr",
     "output_type": "stream",
     "text": [
      "┌ Info: Zeilen \n",
      "│   n_row = 15518\n",
      "└ @ Main C:\\Users\\Georg\\Documents\\projekte\\WiagDataSetup.jl\\src\\Util.jl:46\n"
     ]
    },
    {
     "data": {
      "text/plain": [
       "15518"
      ]
     },
     "execution_count": 51,
     "metadata": {},
     "output_type": "execute_result"
    }
   ],
   "source": [
    "clear_table!(Wds.dbwiag, table, \"item_id\")"
   ]
  },
  {
   "cell_type": "markdown",
   "metadata": {},
   "source": [
    "GSN: verwende auch mittelbare GSN (über WIAG_ID_Bischof) und lies in gso die jeweils aktuelle GSN aus."
   ]
  },
  {
   "cell_type": "code",
   "execution_count": 83,
   "metadata": {},
   "outputs": [
    {
     "name": "stderr",
     "output_type": "stream",
     "text": [
      "┌ Info: \n",
      "│   authority_id = 200\n",
      "└ @ Main C:\\Users\\Georg\\Documents\\projekte\\WiagDataSetup.jl\\src\\Domherr.jl:347\n"
     ]
    }
   ],
   "source": [
    "df_p_gsn = join_ep_gsn(df_p);"
   ]
  },
  {
   "cell_type": "code",
   "execution_count": 84,
   "metadata": {},
   "outputs": [],
   "source": [
    "df_p_gsn, df_info = join_new_gsn(df_p_gsn, gso_db);"
   ]
  },
  {
   "cell_type": "code",
   "execution_count": 85,
   "metadata": {},
   "outputs": [
    {
     "data": {
      "text/html": [
       "<div><div style = \"float: left;\"><span>1×5 DataFrame</span></div><div style = \"clear: both;\"></div></div><div class = \"data-frame\" style = \"overflow-x: scroll;\"><table class = \"data-frame\" style = \"margin-bottom: 6px;\"><thead><tr class = \"header\"><th class = \"rowNumber\" style = \"font-weight: bold; text-align: right;\">Row</th><th style = \"text-align: left;\">id_in_source</th><th style = \"text-align: left;\">Vorname</th><th style = \"text-align: left;\">Familienname</th><th style = \"text-align: left;\">GSN_ID</th><th style = \"text-align: left;\">nummer_neu</th></tr><tr class = \"subheader headerLastRow\"><th class = \"rowNumber\" style = \"font-weight: bold; text-align: right;\"></th><th title = \"Union{Missing, String}\" style = \"text-align: left;\">String?</th><th title = \"Union{Missing, String}\" style = \"text-align: left;\">String?</th><th title = \"Union{Missing, String}\" style = \"text-align: left;\">String?</th><th title = \"String\" style = \"text-align: left;\">String</th><th title = \"String\" style = \"text-align: left;\">String</th></tr></thead><tbody><tr><td class = \"rowNumber\" style = \"font-weight: bold; text-align: right;\">1</td><td style = \"text-align: left;\">14210</td><td style = \"text-align: left;\">Thilmann I.</td><td style = \"text-align: left;\">Hagen</td><td style = \"text-align: left;\">074-04812-001</td><td style = \"text-align: left;\">055-00542-001</td></tr></tbody></table></div>"
      ],
      "text/latex": [
       "\\begin{tabular}{r|ccccc}\n",
       "\t& id\\_in\\_source & Vorname & Familienname & GSN\\_ID & nummer\\_neu\\\\\n",
       "\t\\hline\n",
       "\t& String? & String? & String? & String & String\\\\\n",
       "\t\\hline\n",
       "\t1 & 14210 & Thilmann I. & Hagen & 074-04812-001 & 055-00542-001 \\\\\n",
       "\\end{tabular}\n"
      ],
      "text/plain": [
       "\u001b[1m1×5 DataFrame\u001b[0m\n",
       "\u001b[1m Row \u001b[0m│\u001b[1m id_in_source \u001b[0m\u001b[1m Vorname     \u001b[0m\u001b[1m Familienname \u001b[0m\u001b[1m GSN_ID        \u001b[0m\u001b[1m nummer_neu    \u001b[0m\n",
       "     │\u001b[90m String?      \u001b[0m\u001b[90m String?     \u001b[0m\u001b[90m String?      \u001b[0m\u001b[90m String        \u001b[0m\u001b[90m String        \u001b[0m\n",
       "─────┼───────────────────────────────────────────────────────────────────────\n",
       "   1 │ 14210         Thilmann I.  Hagen         074-04812-001  055-00542-001"
      ]
     },
     "execution_count": 85,
     "metadata": {},
     "output_type": "execute_result"
    }
   ],
   "source": [
    "df_info"
   ]
  },
  {
   "cell_type": "code",
   "execution_count": 88,
   "metadata": {},
   "outputs": [
    {
     "name": "stderr",
     "output_type": "stream",
     "text": [
      "┌ Info: \n",
      "│   authority_id = 200\n",
      "└ @ Main C:\\Users\\Georg\\Documents\\projekte\\WiagDataSetup.jl\\src\\Domherr.jl:411\n",
      "┌ Info: Rows inserted: 3950\n",
      "└ @ WiagDataSetup C:\\Users\\Georg\\Documents\\projekte\\WiagDataSetup.jl\\src\\WiagDataSetup.jl:1216\n"
     ]
    },
    {
     "data": {
      "text/plain": [
       "3950"
      ]
     },
     "execution_count": 88,
     "metadata": {},
     "output_type": "execute_result"
    }
   ],
   "source": [
    "table = \"id_external\"\n",
    "insert_gsn!(table, df_p_gsn)"
   ]
  },
  {
   "cell_type": "markdown",
   "metadata": {},
   "source": [
    "GND, Wikidata, VIAF, WIAG_ID_Bischof"
   ]
  },
  {
   "cell_type": "code",
   "execution_count": 89,
   "metadata": {},
   "outputs": [
    {
     "name": "stderr",
     "output_type": "stream",
     "text": [
      "┌ Info: Normdatum \n",
      "│   auth.second = GND_ID\n",
      "└ @ Main C:\\Users\\Georg\\Documents\\projekte\\WiagDataSetup.jl\\src\\Domherr.jl:326\n",
      "┌ Info: Rows inserted: 2346\n",
      "└ @ WiagDataSetup C:\\Users\\Georg\\Documents\\projekte\\WiagDataSetup.jl\\src\\WiagDataSetup.jl:1216\n",
      "┌ Info: Normdatum \n",
      "│   auth.second = Wikidata_ID\n",
      "└ @ Main C:\\Users\\Georg\\Documents\\projekte\\WiagDataSetup.jl\\src\\Domherr.jl:326\n",
      "┌ Info: Rows inserted: 2479\n",
      "└ @ WiagDataSetup C:\\Users\\Georg\\Documents\\projekte\\WiagDataSetup.jl\\src\\WiagDataSetup.jl:1216\n",
      "┌ Info: Normdatum \n",
      "│   auth.second = VIAF_ID\n",
      "└ @ Main C:\\Users\\Georg\\Documents\\projekte\\WiagDataSetup.jl\\src\\Domherr.jl:326\n",
      "┌ Info: Rows inserted: 1926\n",
      "└ @ WiagDataSetup C:\\Users\\Georg\\Documents\\projekte\\WiagDataSetup.jl\\src\\WiagDataSetup.jl:1216\n",
      "┌ Info: Normdatum \n",
      "│   auth.second = WIAG_ID_Bischof\n",
      "└ @ Main C:\\Users\\Georg\\Documents\\projekte\\WiagDataSetup.jl\\src\\Domherr.jl:326\n",
      "┌ Info: Rows inserted: 1252\n",
      "└ @ WiagDataSetup C:\\Users\\Georg\\Documents\\projekte\\WiagDataSetup.jl\\src\\WiagDataSetup.jl:1216\n"
     ]
    }
   ],
   "source": [
    "table = \"id_external\"\n",
    "insert_id_external!(table, df_p)"
   ]
  },
  {
   "cell_type": "markdown",
   "metadata": {},
   "source": [
    "Wikipedia"
   ]
  },
  {
   "cell_type": "code",
   "execution_count": 90,
   "metadata": {},
   "outputs": [
    {
     "name": "stderr",
     "output_type": "stream",
     "text": [
      "┌ Info: Rows inserted: 1921\n",
      "└ @ WiagDataSetup C:\\Users\\Georg\\Documents\\projekte\\WiagDataSetup.jl\\src\\WiagDataSetup.jl:1216\n"
     ]
    }
   ],
   "source": [
    "insert_wikipedia_url!(table, df_p);"
   ]
  },
  {
   "cell_type": "markdown",
   "metadata": {},
   "source": [
    "### Externe URL"
   ]
  },
  {
   "cell_type": "code",
   "execution_count": 91,
   "metadata": {},
   "outputs": [
    {
     "name": "stderr",
     "output_type": "stream",
     "text": [
      "┌ Info: SELECT COUNT(*) as n FROM url_external WHERE item_id IN (SELECT id FROM item WHERE item_type_id = 5)\n",
      "└ @ Main C:\\Users\\Georg\\Documents\\projekte\\WiagDataSetup.jl\\src\\Util.jl:24\n"
     ]
    },
    {
     "data": {
      "text/plain": [
       "0"
      ]
     },
     "execution_count": 91,
     "metadata": {},
     "output_type": "execute_result"
    }
   ],
   "source": [
    "table = \"url_external\"\n",
    "count_table(Wds.dbwiag, table, \"item_id\")"
   ]
  },
  {
   "cell_type": "code",
   "execution_count": 92,
   "metadata": {},
   "outputs": [
    {
     "name": "stderr",
     "output_type": "stream",
     "text": [
      "┌ Info: Zeilen \n",
      "│   n_row = 0\n",
      "└ @ Main C:\\Users\\Georg\\Documents\\projekte\\WiagDataSetup.jl\\src\\Util.jl:46\n"
     ]
    },
    {
     "data": {
      "text/plain": [
       "0"
      ]
     },
     "execution_count": 92,
     "metadata": {},
     "output_type": "execute_result"
    }
   ],
   "source": [
    "table = \"url_external\"\n",
    "clear_table!(Wds.dbwiag, table, \"item_id\")"
   ]
  },
  {
   "cell_type": "code",
   "execution_count": 94,
   "metadata": {
    "scrolled": true
   },
   "outputs": [
    {
     "name": "stderr",
     "output_type": "stream",
     "text": [
      "┌ Info: Rows inserted: 2285\n",
      "└ @ WiagDataSetup C:\\Users\\Georg\\Documents\\projekte\\WiagDataSetup.jl\\src\\WiagDataSetup.jl:1216\n"
     ]
    }
   ],
   "source": [
    "table = \"url_external\"\n",
    "data_file = joinpath(data_path, \"tbl_urls.csv\")\n",
    "insert_url_external!(table, data_file);"
   ]
  },
  {
   "cell_type": "markdown",
   "metadata": {},
   "source": [
    "### Namensvarianten"
   ]
  },
  {
   "cell_type": "code",
   "execution_count": 107,
   "metadata": {},
   "outputs": [
    {
     "data": {
      "text/plain": [
       ":Familienname_Variante"
      ]
     },
     "execution_count": 107,
     "metadata": {},
     "output_type": "execute_result"
    }
   ],
   "source": [
    "table = \"familyname_variant\"\n",
    "col_fn_variant = :Familienname_Variante"
   ]
  },
  {
   "cell_type": "code",
   "execution_count": 96,
   "metadata": {},
   "outputs": [
    {
     "name": "stderr",
     "output_type": "stream",
     "text": [
      "┌ Info: SELECT COUNT(*) as n FROM familyname_variant WHERE person_id IN (SELECT id FROM item WHERE item_type_id = 5)\n",
      "└ @ Main C:\\Users\\Georg\\Documents\\projekte\\WiagDataSetup.jl\\src\\Util.jl:24\n"
     ]
    },
    {
     "data": {
      "text/plain": [
       "0"
      ]
     },
     "execution_count": 96,
     "metadata": {},
     "output_type": "execute_result"
    }
   ],
   "source": [
    "count_table(Wds.dbwiag, table, \"person_id\")"
   ]
  },
  {
   "cell_type": "code",
   "execution_count": 97,
   "metadata": {},
   "outputs": [
    {
     "name": "stderr",
     "output_type": "stream",
     "text": [
      "┌ Info: Zeilen \n",
      "│   n_row = 0\n",
      "└ @ Main C:\\Users\\Georg\\Documents\\projekte\\WiagDataSetup.jl\\src\\Util.jl:46\n"
     ]
    },
    {
     "data": {
      "text/plain": [
       "0"
      ]
     },
     "execution_count": 97,
     "metadata": {},
     "output_type": "execute_result"
    }
   ],
   "source": [
    "clear_table!(Wds.dbwiag, table, \"person_id\")"
   ]
  },
  {
   "cell_type": "code",
   "execution_count": 108,
   "metadata": {},
   "outputs": [
    {
     "name": "stderr",
     "output_type": "stream",
     "text": [
      "┌ Info: Rows inserted: 2216\n",
      "└ @ WiagDataSetup C:\\Users\\Georg\\Documents\\projekte\\WiagDataSetup.jl\\src\\WiagDataSetup.jl:1216\n"
     ]
    },
    {
     "data": {
      "text/plain": [
       "2216"
      ]
     },
     "execution_count": 108,
     "metadata": {},
     "output_type": "execute_result"
    }
   ],
   "source": [
    "insert_name_variant!(table, df_p, col_fn_variant)"
   ]
  },
  {
   "cell_type": "code",
   "execution_count": 106,
   "metadata": {},
   "outputs": [
    {
     "data": {
      "text/plain": [
       ":Vorname_Variante"
      ]
     },
     "execution_count": 106,
     "metadata": {},
     "output_type": "execute_result"
    }
   ],
   "source": [
    "table = \"givenname_variant\"\n",
    "col_gn_variant = :Vorname_Variante"
   ]
  },
  {
   "cell_type": "code",
   "execution_count": 100,
   "metadata": {},
   "outputs": [
    {
     "name": "stderr",
     "output_type": "stream",
     "text": [
      "┌ Info: SELECT COUNT(*) as n FROM givenname_variant WHERE person_id IN (SELECT id FROM item WHERE item_type_id = 5)\n",
      "└ @ Main C:\\Users\\Georg\\Documents\\projekte\\WiagDataSetup.jl\\src\\Util.jl:24\n"
     ]
    },
    {
     "data": {
      "text/plain": [
       "0"
      ]
     },
     "execution_count": 100,
     "metadata": {},
     "output_type": "execute_result"
    }
   ],
   "source": [
    "count_table(Wds.dbwiag, table, \"person_id\")"
   ]
  },
  {
   "cell_type": "code",
   "execution_count": 101,
   "metadata": {},
   "outputs": [
    {
     "name": "stderr",
     "output_type": "stream",
     "text": [
      "┌ Info: Zeilen \n",
      "│   n_row = 0\n",
      "└ @ Main C:\\Users\\Georg\\Documents\\projekte\\WiagDataSetup.jl\\src\\Util.jl:46\n"
     ]
    },
    {
     "data": {
      "text/plain": [
       "0"
      ]
     },
     "execution_count": 101,
     "metadata": {},
     "output_type": "execute_result"
    }
   ],
   "source": [
    "clear_table!(Wds.dbwiag, table, \"person_id\")"
   ]
  },
  {
   "cell_type": "code",
   "execution_count": 102,
   "metadata": {},
   "outputs": [
    {
     "name": "stderr",
     "output_type": "stream",
     "text": [
      "┌ Info: Rows inserted: 1326\n",
      "└ @ WiagDataSetup C:\\Users\\Georg\\Documents\\projekte\\WiagDataSetup.jl\\src\\WiagDataSetup.jl:1216\n"
     ]
    },
    {
     "data": {
      "text/plain": [
       "1326"
      ]
     },
     "execution_count": 102,
     "metadata": {},
     "output_type": "execute_result"
    }
   ],
   "source": [
    "insert_name_variant!(table, df_p, col_gn_variant)"
   ]
  },
  {
   "cell_type": "markdown",
   "metadata": {},
   "source": [
    "### Suchvarianten"
   ]
  },
  {
   "cell_type": "code",
   "execution_count": 103,
   "metadata": {},
   "outputs": [
    {
     "data": {
      "text/plain": [
       "\"name_lookup\""
      ]
     },
     "execution_count": 103,
     "metadata": {},
     "output_type": "execute_result"
    }
   ],
   "source": [
    "table = \"name_lookup\""
   ]
  },
  {
   "cell_type": "code",
   "execution_count": 104,
   "metadata": {},
   "outputs": [
    {
     "name": "stderr",
     "output_type": "stream",
     "text": [
      "┌ Info: SELECT COUNT(*) as n FROM name_lookup WHERE person_id IN (SELECT id FROM item WHERE item_type_id = 5)\n",
      "└ @ Main C:\\Users\\Georg\\Documents\\projekte\\WiagDataSetup.jl\\src\\Util.jl:24\n"
     ]
    },
    {
     "data": {
      "text/plain": [
       "0"
      ]
     },
     "execution_count": 104,
     "metadata": {},
     "output_type": "execute_result"
    }
   ],
   "source": [
    "count_table(Wds.dbwiag, table, \"person_id\")"
   ]
  },
  {
   "cell_type": "code",
   "execution_count": 112,
   "metadata": {},
   "outputs": [
    {
     "name": "stderr",
     "output_type": "stream",
     "text": [
      "┌ Info: 10000\n",
      "└ @ WiagDataSetup C:\\Users\\Georg\\Documents\\projekte\\WiagDataSetup.jl\\src\\WiagDataSetup.jl:1193\n",
      "┌ Info: 20000\n",
      "└ @ WiagDataSetup C:\\Users\\Georg\\Documents\\projekte\\WiagDataSetup.jl\\src\\WiagDataSetup.jl:1193\n",
      "┌ Info: 30000\n",
      "└ @ WiagDataSetup C:\\Users\\Georg\\Documents\\projekte\\WiagDataSetup.jl\\src\\WiagDataSetup.jl:1193\n",
      "┌ Info: Rows inserted: 37853\n",
      "└ @ WiagDataSetup C:\\Users\\Georg\\Documents\\projekte\\WiagDataSetup.jl\\src\\WiagDataSetup.jl:1216\n"
     ]
    }
   ],
   "source": [
    "table = \"name_lookup\"\n",
    "insert_name_lookup!(table, df_p, col_fn_variant, col_gn_variant);"
   ]
  },
  {
   "cell_type": "code",
   "execution_count": null,
   "metadata": {},
   "outputs": [],
   "source": []
  },
  {
   "cell_type": "code",
   "execution_count": null,
   "metadata": {},
   "outputs": [],
   "source": []
  }
 ],
 "metadata": {
  "kernelspec": {
   "display_name": "Julia 1.8.2",
   "language": "julia",
   "name": "julia-1.8"
  },
  "language_info": {
   "file_extension": ".jl",
   "mimetype": "application/julia",
   "name": "julia",
   "version": "1.8.2"
  }
 },
 "nbformat": 4,
 "nbformat_minor": 4
}
