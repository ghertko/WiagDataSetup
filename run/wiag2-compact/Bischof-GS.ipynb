{
 "cells": [
  {
   "cell_type": "markdown",
   "metadata": {},
   "source": [
    "# Wissensaggregator Mittelalter und frühe Neuzeit\n",
    "\n",
    "## Daten für Bischöfe einlesen\n",
    "\n",
    "Übertrage Daten aus Access. Daten als CSV speichern.\n",
    "\n",
    "[Vorspann](#Vorspann)  \n",
    "[Litratur](#Literatur)  \n",
    "[Item](#Item)  \n",
    "[Person](#Person)  \n",
    "[Externe ID](#Externe-ID)  \n",
    "[Namensvarianten](#Namensvarianten)  \n",
    "[Suchvarianten](#Suchvarianten)  "
   ]
  },
  {
   "cell_type": "markdown",
   "metadata": {},
   "source": [
    "Quelle:   \n",
    "*2022-05-26* Datenbank `gso_in_202207`  \n",
    "*2022-10-19* Datenbank `gso_in_202210`"
   ]
  },
  {
   "cell_type": "markdown",
   "metadata": {},
   "source": [
    "### Vorspann"
   ]
  },
  {
   "cell_type": "code",
   "execution_count": 1,
   "metadata": {},
   "outputs": [
    {
     "data": {
      "text/plain": [
       "\"C:\\\\Users\\\\Georg\\\\Documents\\\\projekte\\\\WiagDataSetup.jl\""
      ]
     },
     "execution_count": 1,
     "metadata": {},
     "output_type": "execute_result"
    }
   ],
   "source": [
    "wds_path=\"C:\\\\Users\\\\Georg\\\\Documents\\\\projekte\\\\WiagDataSetup.jl\""
   ]
  },
  {
   "cell_type": "code",
   "execution_count": 2,
   "metadata": {},
   "outputs": [],
   "source": [
    "cd(wds_path)"
   ]
  },
  {
   "cell_type": "code",
   "execution_count": 3,
   "metadata": {},
   "outputs": [],
   "source": [
    "using Pkg"
   ]
  },
  {
   "cell_type": "code",
   "execution_count": 4,
   "metadata": {},
   "outputs": [
    {
     "name": "stderr",
     "output_type": "stream",
     "text": [
      "\u001b[32m\u001b[1m  Activating\u001b[22m\u001b[39m project at `C:\\Users\\Georg\\Documents\\projekte\\WiagDataSetup.jl`\n"
     ]
    }
   ],
   "source": [
    "Pkg.activate(\".\")"
   ]
  },
  {
   "cell_type": "code",
   "execution_count": 5,
   "metadata": {},
   "outputs": [],
   "source": [
    "using Revise"
   ]
  },
  {
   "cell_type": "code",
   "execution_count": 6,
   "metadata": {},
   "outputs": [],
   "source": [
    "using WiagDataSetup"
   ]
  },
  {
   "cell_type": "code",
   "execution_count": 7,
   "metadata": {},
   "outputs": [
    {
     "data": {
      "text/plain": [
       "WiagDataSetup"
      ]
     },
     "execution_count": 7,
     "metadata": {},
     "output_type": "execute_result"
    }
   ],
   "source": [
    "Wds = WiagDataSetup"
   ]
  },
  {
   "cell_type": "code",
   "execution_count": 8,
   "metadata": {},
   "outputs": [
    {
     "data": {
      "text/plain": [
       "\"wiag_in\""
      ]
     },
     "execution_count": 8,
     "metadata": {},
     "output_type": "execute_result"
    }
   ],
   "source": [
    "db = \"wiag_in\""
   ]
  },
  {
   "cell_type": "code",
   "execution_count": 9,
   "metadata": {},
   "outputs": [
    {
     "name": "stdout",
     "output_type": "stream",
     "text": [
      "Passwort für User georg: ········\n"
     ]
    },
    {
     "data": {
      "text/plain": [
       "MySQL.Connection(host=\"127.0.0.1\", user=\"georg\", port=\"3306\", db=\"wiag_in\")"
      ]
     },
     "execution_count": 9,
     "metadata": {},
     "output_type": "execute_result"
    }
   ],
   "source": [
    "Wds.setDBWIAG(user = \"georg\", db = db)"
   ]
  },
  {
   "cell_type": "code",
   "execution_count": 10,
   "metadata": {},
   "outputs": [
    {
     "data": {
      "text/plain": [
       "\"C:\\\\Users\\\\georg\\\\Documents\\\\projekte-doc\\\\WIAGweb2\\\\data\\\\bischoefe-2022-10-19\""
      ]
     },
     "execution_count": 10,
     "metadata": {},
     "output_type": "execute_result"
    }
   ],
   "source": [
    "data_path = \"C:\\\\Users\\\\georg\\\\Documents\\\\projekte-doc\\\\WIAGweb2\\\\data\\\\bischoefe-2022-10-19\""
   ]
  },
  {
   "cell_type": "code",
   "execution_count": 11,
   "metadata": {},
   "outputs": [
    {
     "data": {
      "text/plain": [
       "\"gso_in_202210\""
      ]
     },
     "execution_count": 11,
     "metadata": {},
     "output_type": "execute_result"
    }
   ],
   "source": [
    "gs_db = \"gso_in_202210\""
   ]
  },
  {
   "cell_type": "code",
   "execution_count": 12,
   "metadata": {},
   "outputs": [
    {
     "data": {
      "text/plain": [
       "9"
      ]
     },
     "execution_count": 12,
     "metadata": {},
     "output_type": "execute_result"
    }
   ],
   "source": [
    "item_type_id = 9 # Bischof GS       | Bischof des Alten Reiches aus der Personendatenbank der Germania Sacra |"
   ]
  },
  {
   "cell_type": "code",
   "execution_count": 13,
   "metadata": {},
   "outputs": [
    {
     "data": {
      "text/plain": [
       "120"
      ]
     },
     "execution_count": 13,
     "metadata": {},
     "output_type": "execute_result"
    }
   ],
   "source": [
    "ENV[\"COLUMNS\"] = 120"
   ]
  },
  {
   "cell_type": "code",
   "execution_count": 14,
   "metadata": {},
   "outputs": [],
   "source": [
    "using CSV, DataFrames, MySQL"
   ]
  },
  {
   "cell_type": "code",
   "execution_count": 15,
   "metadata": {},
   "outputs": [],
   "source": [
    "includet(\"src/Util.jl\")"
   ]
  },
  {
   "cell_type": "code",
   "execution_count": 16,
   "metadata": {},
   "outputs": [
    {
     "ename": "LoadError",
     "evalue": "LoadError: \"unexpected \\\"end\\\"\"\nin expression starting at C:\\Users\\Georg\\Documents\\projekte\\WiagDataSetup.jl\\src\\Bischof-GS.jl:111",
     "output_type": "error",
     "traceback": [
      "LoadError: \"unexpected \\\"end\\\"\"\nin expression starting at C:\\Users\\Georg\\Documents\\projekte\\WiagDataSetup.jl\\src\\Bischof-GS.jl:111",
      "",
      "Stacktrace:",
      " [1] includet(mod::Module, file::String)",
      "   @ Revise C:\\Users\\georg\\.julia\\packages\\Revise\\do2nH\\src\\packagedef.jl:1019",
      " [2] includet(file::String)",
      "   @ Revise C:\\Users\\georg\\.julia\\packages\\Revise\\do2nH\\src\\packagedef.jl:1024",
      " [3] top-level scope",
      "   @ In[16]:1",
      " [4] eval",
      "   @ .\\boot.jl:368 [inlined]",
      " [5] include_string(mapexpr::typeof(REPL.softscope), mod::Module, code::String, filename::String)",
      "   @ Base .\\loading.jl:1428"
     ]
    }
   ],
   "source": [
    "includet(\"src/Bischof-GS.jl\")"
   ]
  },
  {
   "cell_type": "markdown",
   "metadata": {},
   "source": [
    "### Tabellen löschen\n",
    "Tabelle `item` muss zuletzt gelöscht werden! (ausgenommen: `reference_volume`, `person` mit `item_type_id`)"
   ]
  },
  {
   "cell_type": "code",
   "execution_count": 17,
   "metadata": {},
   "outputs": [
    {
     "name": "stderr",
     "output_type": "stream",
     "text": [
      "┌ Info: Zeilen \n",
      "│   n_row = 2377\n",
      "└ @ Main C:\\Users\\Georg\\Documents\\projekte\\WiagDataSetup.jl\\src\\Util.jl:45\n"
     ]
    },
    {
     "data": {
      "text/plain": [
       "2377"
      ]
     },
     "execution_count": 17,
     "metadata": {},
     "output_type": "execute_result"
    }
   ],
   "source": [
    "clear_table!(Wds.dbwiag, \"id_external\", \"item_id\")"
   ]
  },
  {
   "cell_type": "code",
   "execution_count": 18,
   "metadata": {},
   "outputs": [
    {
     "name": "stderr",
     "output_type": "stream",
     "text": [
      "┌ Info: Zeilen \n",
      "│   n_row = 285\n",
      "└ @ Main C:\\Users\\Georg\\Documents\\projekte\\WiagDataSetup.jl\\src\\Util.jl:45\n"
     ]
    },
    {
     "data": {
      "text/plain": [
       "285"
      ]
     },
     "execution_count": 18,
     "metadata": {},
     "output_type": "execute_result"
    }
   ],
   "source": [
    "clear_table!(Wds.dbwiag, \"familyname_variant\", \"person_id\")"
   ]
  },
  {
   "cell_type": "code",
   "execution_count": 19,
   "metadata": {},
   "outputs": [
    {
     "name": "stderr",
     "output_type": "stream",
     "text": [
      "┌ Info: Zeilen \n",
      "│   n_row = 575\n",
      "└ @ Main C:\\Users\\Georg\\Documents\\projekte\\WiagDataSetup.jl\\src\\Util.jl:45\n"
     ]
    },
    {
     "data": {
      "text/plain": [
       "575"
      ]
     },
     "execution_count": 19,
     "metadata": {},
     "output_type": "execute_result"
    }
   ],
   "source": [
    "clear_table!(Wds.dbwiag, \"givenname_variant\", \"person_id\")"
   ]
  },
  {
   "cell_type": "markdown",
   "metadata": {},
   "source": [
    "### Literatur"
   ]
  },
  {
   "cell_type": "code",
   "execution_count": 35,
   "metadata": {},
   "outputs": [
    {
     "data": {
      "text/plain": [
       "\"reference_volume\""
      ]
     },
     "execution_count": 35,
     "metadata": {},
     "output_type": "execute_result"
    }
   ],
   "source": [
    "table = \"reference_volume\""
   ]
  },
  {
   "cell_type": "code",
   "execution_count": 36,
   "metadata": {},
   "outputs": [
    {
     "name": "stderr",
     "output_type": "stream",
     "text": [
      "┌ Info: SELECT COUNT(*) as n FROM reference_volume WHERE item_type_id = 9\n",
      "└ @ Main C:\\Users\\Georg\\Documents\\projekte\\WiagDataSetup.jl\\src\\Util.jl:24\n"
     ]
    },
    {
     "data": {
      "text/plain": [
       "89"
      ]
     },
     "execution_count": 36,
     "metadata": {},
     "output_type": "execute_result"
    }
   ],
   "source": [
    "count_table(Wds.dbwiag, table, \"item_type_id\")"
   ]
  },
  {
   "cell_type": "code",
   "execution_count": 23,
   "metadata": {},
   "outputs": [
    {
     "name": "stderr",
     "output_type": "stream",
     "text": [
      "┌ Info: Zeilen \n",
      "│   n_row = 89\n",
      "└ @ Main C:\\Users\\Georg\\Documents\\projekte\\WiagDataSetup.jl\\src\\Util.jl:45\n"
     ]
    },
    {
     "data": {
      "text/plain": [
       "89"
      ]
     },
     "execution_count": 23,
     "metadata": {},
     "output_type": "execute_result"
    }
   ],
   "source": [
    "c = clear_table!(Wds.dbwiag, table, \"item_type_id\")"
   ]
  },
  {
   "cell_type": "code",
   "execution_count": 24,
   "metadata": {},
   "outputs": [
    {
     "name": "stderr",
     "output_type": "stream",
     "text": [
      "┌ Info: reading \n",
      "│   source_table = books\n",
      "└ @ Main C:\\Users\\Georg\\Documents\\projekte\\WiagDataSetup.jl\\src\\Bischof-GS.jl:25\n",
      "┌ Info: Zeilen, Spalten: \n",
      "│   size(df) = (89, 6)\n",
      "└ @ Main C:\\Users\\Georg\\Documents\\projekte\\WiagDataSetup.jl\\src\\Bischof-GS.jl:34\n",
      "┌ Info: Rows inserted: 89\n",
      "└ @ WiagDataSetup C:\\Users\\Georg\\Documents\\projekte\\WiagDataSetup.jl\\src\\WiagDataSetup.jl:1216\n"
     ]
    },
    {
     "data": {
      "text/plain": [
       "89"
      ]
     },
     "execution_count": 24,
     "metadata": {},
     "output_type": "execute_result"
    }
   ],
   "source": [
    "source_table = \"books\"\n",
    "insert_reference_volume!(table, source_table)"
   ]
  },
  {
   "cell_type": "markdown",
   "metadata": {},
   "source": [
    "### Item"
   ]
  },
  {
   "cell_type": "code",
   "execution_count": 46,
   "metadata": {},
   "outputs": [
    {
     "name": "stderr",
     "output_type": "stream",
     "text": [
      "┌ Info: SELECT COUNT(*) as n FROM item WHERE item_type_id = 9\n",
      "└ @ Main C:\\Users\\Georg\\Documents\\projekte\\WiagDataSetup.jl\\src\\Util.jl:24\n"
     ]
    },
    {
     "data": {
      "text/plain": [
       "0"
      ]
     },
     "execution_count": 46,
     "metadata": {},
     "output_type": "execute_result"
    }
   ],
   "source": [
    "table = \"item\"\n",
    "count_table(Wds.dbwiag, table, \"item_type_id\")"
   ]
  },
  {
   "cell_type": "code",
   "execution_count": 39,
   "metadata": {},
   "outputs": [
    {
     "name": "stderr",
     "output_type": "stream",
     "text": [
      "┌ Info: Zeilen \n",
      "│   n_row = 1368\n",
      "└ @ Main C:\\Users\\Georg\\Documents\\projekte\\WiagDataSetup.jl\\src\\Util.jl:45\n"
     ]
    },
    {
     "data": {
      "text/plain": [
       "1368"
      ]
     },
     "execution_count": 39,
     "metadata": {},
     "output_type": "execute_result"
    }
   ],
   "source": [
    "clear_table!(Wds.dbwiag, table, \"item_type_id\")"
   ]
  },
  {
   "cell_type": "code",
   "execution_count": 40,
   "metadata": {},
   "outputs": [
    {
     "data": {
      "text/plain": [
       "\"wiag_in\""
      ]
     },
     "execution_count": 40,
     "metadata": {},
     "output_type": "execute_result"
    }
   ],
   "source": [
    "dbwiag_name = db"
   ]
  },
  {
   "cell_type": "code",
   "execution_count": 41,
   "metadata": {},
   "outputs": [
    {
     "name": "stderr",
     "output_type": "stream",
     "text": [
      "┌ Info: SELECT item.id as ep_item_id, e.value AS gsn\n",
      "│     FROM wiag_in.item\n",
      "│     JOIN wiag_in.id_external AS e ON item.id = e.item_id\n",
      "│     WHERE item_type_id = 4\n",
      "│     AND authority_id = 200\n",
      "│     AND item.is_online\n",
      "└ @ Main C:\\Users\\Georg\\Documents\\projekte\\WiagDataSetup.jl\\src\\Bischof-GS.jl:66\n"
     ]
    }
   ],
   "source": [
    "df_gsn = gsn(dbwiag_name);"
   ]
  },
  {
   "cell_type": "code",
   "execution_count": 42,
   "metadata": {},
   "outputs": [
    {
     "data": {
      "text/plain": [
       "(2143, 2)"
      ]
     },
     "execution_count": 42,
     "metadata": {},
     "output_type": "execute_result"
    }
   ],
   "source": [
    "size(df_gsn)"
   ]
  },
  {
   "cell_type": "code",
   "execution_count": 27,
   "metadata": {},
   "outputs": [
    {
     "data": {
      "text/plain": [
       "2-element Vector{String}:\n",
       " \"ep_item_id\"\n",
       " \"gsn\""
      ]
     },
     "execution_count": 27,
     "metadata": {},
     "output_type": "execute_result"
    }
   ],
   "source": [
    "names(df_gsn)"
   ]
  },
  {
   "cell_type": "code",
   "execution_count": 43,
   "metadata": {},
   "outputs": [],
   "source": [
    "df_item = insert_item!(table, \"gsn\", \"items\", \"persons\", df_gsn, user_id = 40);"
   ]
  },
  {
   "cell_type": "code",
   "execution_count": 44,
   "metadata": {},
   "outputs": [
    {
     "data": {
      "text/plain": [
       "5-element Vector{String}:\n",
       " \"gsn_id\"\n",
       " \"item_id\"\n",
       " \"nummer\"\n",
       " \"status\"\n",
       " \"ep_item_id\""
      ]
     },
     "execution_count": 44,
     "metadata": {},
     "output_type": "execute_result"
    }
   ],
   "source": [
    "names(df_item)"
   ]
  },
  {
   "cell_type": "code",
   "execution_count": 45,
   "metadata": {},
   "outputs": [
    {
     "data": {
      "text/plain": [
       "(2143, 5)"
      ]
     },
     "execution_count": 45,
     "metadata": {},
     "output_type": "execute_result"
    }
   ],
   "source": [
    "size(df_item)"
   ]
  },
  {
   "cell_type": "code",
   "execution_count": null,
   "metadata": {},
   "outputs": [],
   "source": []
  },
  {
   "cell_type": "markdown",
   "metadata": {},
   "source": [
    "fülle `df_p`"
   ]
  },
  {
   "cell_type": "code",
   "execution_count": 40,
   "metadata": {},
   "outputs": [
    {
     "name": "stderr",
     "output_type": "stream",
     "text": [
      "┌ Info: Zeilen, Spalten: \n",
      "│   size(df_p) = (5171, 30)\n",
      "└ @ Main C:\\Users\\Georg\\Documents\\projekte\\WiagDataSetup.jl\\src\\Bishop.jl:107\n",
      "┌ Info: Rows inserted: 5171\n",
      "└ @ WiagDataSetup C:\\Users\\Georg\\Documents\\projekte\\WiagDataSetup.jl\\src\\WiagDataSetup.jl:1216\n"
     ]
    }
   ],
   "source": [
    "source_file = joinpath(data_path, \"tbl_bischoefe_gatz.csv\");\n",
    "df_p = insert_item!(\n",
    "    table,\n",
    "    source_file, \n",
    "    online_status = \"fertig\", \n",
    "    id_public_key = \"Pers-EPISCGatz\",\n",
    "    user_id = 40\n",
    ");"
   ]
  },
  {
   "cell_type": "markdown",
   "metadata": {},
   "source": [
    "### Person"
   ]
  },
  {
   "cell_type": "code",
   "execution_count": 41,
   "metadata": {},
   "outputs": [
    {
     "data": {
      "text/plain": [
       "\"person\""
      ]
     },
     "execution_count": 41,
     "metadata": {},
     "output_type": "execute_result"
    }
   ],
   "source": [
    "table = \"person\""
   ]
  },
  {
   "cell_type": "code",
   "execution_count": 42,
   "metadata": {},
   "outputs": [
    {
     "data": {
      "text/plain": [
       "5171"
      ]
     },
     "execution_count": 42,
     "metadata": {},
     "output_type": "execute_result"
    }
   ],
   "source": [
    "count_table(Wds.dbwiag, table, \"item_type_id\")"
   ]
  },
  {
   "cell_type": "code",
   "execution_count": 43,
   "metadata": {},
   "outputs": [
    {
     "name": "stderr",
     "output_type": "stream",
     "text": [
      "┌ Info: Zeilen: \n",
      "│   n_row = 5171\n",
      "└ @ Main C:\\Users\\Georg\\Documents\\projekte\\WiagDataSetup.jl\\src\\Util.jl:43\n"
     ]
    },
    {
     "data": {
      "text/plain": [
       "5171"
      ]
     },
     "execution_count": 43,
     "metadata": {},
     "output_type": "execute_result"
    }
   ],
   "source": [
    "clear_table!(Wds.dbwiag, table, \"item_type_id\")"
   ]
  },
  {
   "cell_type": "code",
   "execution_count": 44,
   "metadata": {},
   "outputs": [
    {
     "name": "stderr",
     "output_type": "stream",
     "text": [
      "┌ Info: unbekannte Ordensbezeichnungen\n",
      "│   unique(unknown_order) = [\"OSB (?)\", \"OFM ?\", \"OP/OPraem/Ocart\", \"Omel\", \"OESA/OSB\", \"Ocist\", \"OPraem/OP\", \"OFM?\", \"OFM?, OCist\", \"OCist?\", \"OSB?\", \"OP?\", \"1780\", \"OFM oder OESA\", \"Ocarm\", \"OMel/OCist\", \"OFM (?)\", \"OP ?\", \"OFM (OESA?)\", \"OP/OFM\"]\n",
      "└ @ Main C:\\Users\\Georg\\Documents\\projekte\\WiagDataSetup.jl\\src\\Bishop.jl:138\n",
      "┌ Info: Rows inserted: 5171\n",
      "└ @ WiagDataSetup C:\\Users\\Georg\\Documents\\projekte\\WiagDataSetup.jl\\src\\WiagDataSetup.jl:1216\n"
     ]
    },
    {
     "data": {
      "text/plain": [
       "5171"
      ]
     },
     "execution_count": 44,
     "metadata": {},
     "output_type": "execute_result"
    }
   ],
   "source": [
    "insert_person!(table, df_p)"
   ]
  },
  {
   "cell_type": "markdown",
   "metadata": {},
   "source": [
    "### Externe ID"
   ]
  },
  {
   "cell_type": "code",
   "execution_count": 47,
   "metadata": {},
   "outputs": [
    {
     "data": {
      "text/plain": [
       "\"id_external\""
      ]
     },
     "execution_count": 47,
     "metadata": {},
     "output_type": "execute_result"
    }
   ],
   "source": [
    "table = \"id_external\""
   ]
  },
  {
   "cell_type": "code",
   "execution_count": 48,
   "metadata": {},
   "outputs": [
    {
     "data": {
      "text/plain": [
       "0"
      ]
     },
     "execution_count": 48,
     "metadata": {},
     "output_type": "execute_result"
    }
   ],
   "source": [
    "count_table(Wds.dbwiag, table, \"item_id\")"
   ]
  },
  {
   "cell_type": "code",
   "execution_count": 50,
   "metadata": {},
   "outputs": [
    {
     "name": "stderr",
     "output_type": "stream",
     "text": [
      "┌ Info: Zeilen \n",
      "│   n_row = 0\n",
      "└ @ Main C:\\Users\\Georg\\Documents\\projekte\\WiagDataSetup.jl\\src\\Util.jl:43\n"
     ]
    },
    {
     "data": {
      "text/plain": [
       "0"
      ]
     },
     "execution_count": 50,
     "metadata": {},
     "output_type": "execute_result"
    }
   ],
   "source": [
    "clear_table!(Wds.dbwiag, table, \"item_id\")"
   ]
  },
  {
   "cell_type": "markdown",
   "metadata": {},
   "source": [
    "GSN"
   ]
  },
  {
   "cell_type": "code",
   "execution_count": 55,
   "metadata": {},
   "outputs": [],
   "source": [
    "gso_db = \"gso_in_202210\";\n",
    "df_ep_gsn, df_info = join_gsn(df_p, gso_db);"
   ]
  },
  {
   "cell_type": "code",
   "execution_count": 56,
   "metadata": {},
   "outputs": [
    {
     "data": {
      "text/html": [
       "<div><div style = \"float: left;\"><span>1×5 DataFrame</span></div><div style = \"clear: both;\"></div></div><div class = \"data-frame\" style = \"overflow-x: scroll;\"><table class = \"data-frame\" style = \"margin-bottom: 6px;\"><thead><tr class = \"header\"><th class = \"rowNumber\" style = \"font-weight: bold; text-align: right;\">Row</th><th style = \"text-align: left;\">id_in_source</th><th style = \"text-align: left;\">Vorname</th><th style = \"text-align: left;\">Familienname</th><th style = \"text-align: left;\">GSN_ID</th><th style = \"text-align: left;\">nummer_neu</th></tr><tr class = \"subheader headerLastRow\"><th class = \"rowNumber\" style = \"font-weight: bold; text-align: right;\"></th><th title = \"Union{Missing, String}\" style = \"text-align: left;\">String?</th><th title = \"String\" style = \"text-align: left;\">String</th><th title = \"Union{Missing, String}\" style = \"text-align: left;\">String?</th><th title = \"Union{Missing, String}\" style = \"text-align: left;\">String?</th><th title = \"String\" style = \"text-align: left;\">String</th></tr></thead><tbody><tr><td class = \"rowNumber\" style = \"font-weight: bold; text-align: right;\">1</td><td style = \"text-align: left;\">20711</td><td style = \"text-align: left;\">Johannes</td><td style = \"text-align: left;\">Schneider</td><td style = \"text-align: left;\">026-04306-001</td><td style = \"text-align: left;\">066-04915-001</td></tr></tbody></table></div>"
      ],
      "text/latex": [
       "\\begin{tabular}{r|ccccc}\n",
       "\t& id\\_in\\_source & Vorname & Familienname & GSN\\_ID & nummer\\_neu\\\\\n",
       "\t\\hline\n",
       "\t& String? & String & String? & String? & String\\\\\n",
       "\t\\hline\n",
       "\t1 & 20711 & Johannes & Schneider & 026-04306-001 & 066-04915-001 \\\\\n",
       "\\end{tabular}\n"
      ],
      "text/plain": [
       "\u001b[1m1×5 DataFrame\u001b[0m\n",
       "\u001b[1m Row \u001b[0m│\u001b[1m id_in_source \u001b[0m\u001b[1m Vorname  \u001b[0m\u001b[1m Familienname \u001b[0m\u001b[1m GSN_ID        \u001b[0m\u001b[1m nummer_neu    \u001b[0m\n",
       "     │\u001b[90m String?      \u001b[0m\u001b[90m String   \u001b[0m\u001b[90m String?      \u001b[0m\u001b[90m String?       \u001b[0m\u001b[90m String        \u001b[0m\n",
       "─────┼────────────────────────────────────────────────────────────────────\n",
       "   1 │ 20711         Johannes  Schneider     026-04306-001  066-04915-001"
      ]
     },
     "execution_count": 56,
     "metadata": {},
     "output_type": "execute_result"
    }
   ],
   "source": [
    "df_info"
   ]
  },
  {
   "cell_type": "code",
   "execution_count": 58,
   "metadata": {},
   "outputs": [
    {
     "data": {
      "text/plain": [
       "\"id_external\""
      ]
     },
     "execution_count": 58,
     "metadata": {},
     "output_type": "execute_result"
    }
   ],
   "source": [
    "table = \"id_external\""
   ]
  },
  {
   "cell_type": "code",
   "execution_count": 57,
   "metadata": {},
   "outputs": [
    {
     "name": "stderr",
     "output_type": "stream",
     "text": [
      "┌ Info: Rows inserted: 2143\n",
      "└ @ WiagDataSetup C:\\Users\\Georg\\Documents\\projekte\\WiagDataSetup.jl\\src\\WiagDataSetup.jl:1216\n"
     ]
    },
    {
     "data": {
      "text/plain": [
       "2143"
      ]
     },
     "execution_count": 57,
     "metadata": {},
     "output_type": "execute_result"
    }
   ],
   "source": [
    "insert_gsn!(table, df_ep_gsn::AbstractDataFrame)"
   ]
  },
  {
   "cell_type": "markdown",
   "metadata": {},
   "source": [
    "VIAF, Wikidata, GND"
   ]
  },
  {
   "cell_type": "code",
   "execution_count": 60,
   "metadata": {},
   "outputs": [
    {
     "name": "stderr",
     "output_type": "stream",
     "text": [
      "┌ Info: Normdatum \n",
      "│   auth.second = GND_ID\n",
      "└ @ Main C:\\Users\\Georg\\Documents\\projekte\\WiagDataSetup.jl\\src\\Bishop.jl:224\n",
      "┌ Info: Rows inserted: 2866\n",
      "└ @ WiagDataSetup C:\\Users\\Georg\\Documents\\projekte\\WiagDataSetup.jl\\src\\WiagDataSetup.jl:1216\n",
      "┌ Info: Normdatum \n",
      "│   auth.second = Wikidata_ID\n",
      "└ @ Main C:\\Users\\Georg\\Documents\\projekte\\WiagDataSetup.jl\\src\\Bishop.jl:224\n",
      "┌ Info: Rows inserted: 5171\n",
      "└ @ WiagDataSetup C:\\Users\\Georg\\Documents\\projekte\\WiagDataSetup.jl\\src\\WiagDataSetup.jl:1216\n",
      "┌ Info: Normdatum \n",
      "│   auth.second = VIAF_ID\n",
      "└ @ Main C:\\Users\\Georg\\Documents\\projekte\\WiagDataSetup.jl\\src\\Bishop.jl:224\n",
      "┌ Info: Rows inserted: 2972\n",
      "└ @ WiagDataSetup C:\\Users\\Georg\\Documents\\projekte\\WiagDataSetup.jl\\src\\WiagDataSetup.jl:1216\n"
     ]
    }
   ],
   "source": [
    "insert_id_external!(table, df_p)"
   ]
  },
  {
   "cell_type": "markdown",
   "metadata": {},
   "source": [
    "Wikipedia"
   ]
  },
  {
   "cell_type": "code",
   "execution_count": 79,
   "metadata": {},
   "outputs": [
    {
     "name": "stderr",
     "output_type": "stream",
     "text": [
      "┌ Info: Rows inserted: 2940\n",
      "└ @ WiagDataSetup C:\\Users\\Georg\\Documents\\projekte\\WiagDataSetup.jl\\src\\WiagDataSetup.jl:1216\n"
     ]
    }
   ],
   "source": [
    "df_ep = insert_wikipedia_url!(table, df_p);"
   ]
  },
  {
   "cell_type": "markdown",
   "metadata": {},
   "source": [
    "### Namensvarianten"
   ]
  },
  {
   "cell_type": "code",
   "execution_count": 86,
   "metadata": {},
   "outputs": [
    {
     "data": {
      "text/plain": [
       ":Familienname_Variante"
      ]
     },
     "execution_count": 86,
     "metadata": {},
     "output_type": "execute_result"
    }
   ],
   "source": [
    "table = \"familyname_variant\"\n",
    "col = :Familienname_Variante"
   ]
  },
  {
   "cell_type": "code",
   "execution_count": 90,
   "metadata": {},
   "outputs": [
    {
     "data": {
      "text/plain": [
       "698"
      ]
     },
     "execution_count": 90,
     "metadata": {},
     "output_type": "execute_result"
    }
   ],
   "source": [
    "count_table(Wds.dbwiag, table, \"person_id\")"
   ]
  },
  {
   "cell_type": "code",
   "execution_count": 91,
   "metadata": {},
   "outputs": [
    {
     "name": "stderr",
     "output_type": "stream",
     "text": [
      "┌ Info: Zeilen \n",
      "│   n_row = 698\n",
      "└ @ Main C:\\Users\\Georg\\Documents\\projekte\\WiagDataSetup.jl\\src\\Util.jl:43\n"
     ]
    },
    {
     "data": {
      "text/plain": [
       "698"
      ]
     },
     "execution_count": 91,
     "metadata": {},
     "output_type": "execute_result"
    }
   ],
   "source": [
    "clear_table!(Wds.dbwiag, table, \"person_id\")"
   ]
  },
  {
   "cell_type": "code",
   "execution_count": 92,
   "metadata": {},
   "outputs": [
    {
     "name": "stderr",
     "output_type": "stream",
     "text": [
      "┌ Info: Rows inserted: 698\n",
      "└ @ WiagDataSetup C:\\Users\\Georg\\Documents\\projekte\\WiagDataSetup.jl\\src\\WiagDataSetup.jl:1216\n"
     ]
    },
    {
     "data": {
      "text/plain": [
       "698"
      ]
     },
     "execution_count": 92,
     "metadata": {},
     "output_type": "execute_result"
    }
   ],
   "source": [
    "insert_name_variant!(table, df_p, col)"
   ]
  },
  {
   "cell_type": "code",
   "execution_count": 102,
   "metadata": {},
   "outputs": [
    {
     "data": {
      "text/plain": [
       ":Vorname_Varianten"
      ]
     },
     "execution_count": 102,
     "metadata": {},
     "output_type": "execute_result"
    }
   ],
   "source": [
    "table = \"givenname_variant\"\n",
    "col = :Vorname_Varianten"
   ]
  },
  {
   "cell_type": "code",
   "execution_count": 99,
   "metadata": {},
   "outputs": [
    {
     "data": {
      "text/plain": [
       "0"
      ]
     },
     "execution_count": 99,
     "metadata": {},
     "output_type": "execute_result"
    }
   ],
   "source": [
    "count_table(Wds.dbwiag, table, \"person_id\")"
   ]
  },
  {
   "cell_type": "code",
   "execution_count": 100,
   "metadata": {},
   "outputs": [
    {
     "name": "stderr",
     "output_type": "stream",
     "text": [
      "┌ Info: Zeilen \n",
      "│   n_row = 0\n",
      "└ @ Main C:\\Users\\Georg\\Documents\\projekte\\WiagDataSetup.jl\\src\\Util.jl:43\n"
     ]
    },
    {
     "data": {
      "text/plain": [
       "0"
      ]
     },
     "execution_count": 100,
     "metadata": {},
     "output_type": "execute_result"
    }
   ],
   "source": [
    "clear_table!(Wds.dbwiag, table, \"person_id\")"
   ]
  },
  {
   "cell_type": "code",
   "execution_count": 103,
   "metadata": {},
   "outputs": [
    {
     "name": "stderr",
     "output_type": "stream",
     "text": [
      "┌ Info: Rows inserted: 330\n",
      "└ @ WiagDataSetup C:\\Users\\Georg\\Documents\\projekte\\WiagDataSetup.jl\\src\\WiagDataSetup.jl:1216\n"
     ]
    },
    {
     "data": {
      "text/plain": [
       "330"
      ]
     },
     "execution_count": 103,
     "metadata": {},
     "output_type": "execute_result"
    }
   ],
   "source": [
    "insert_name_variant!(table, df_p, col)"
   ]
  },
  {
   "cell_type": "markdown",
   "metadata": {},
   "source": [
    "### Suchvarianten"
   ]
  },
  {
   "cell_type": "code",
   "execution_count": 104,
   "metadata": {},
   "outputs": [
    {
     "data": {
      "text/plain": [
       "\"name_lookup\""
      ]
     },
     "execution_count": 104,
     "metadata": {},
     "output_type": "execute_result"
    }
   ],
   "source": [
    "table = \"name_lookup\""
   ]
  },
  {
   "cell_type": "code",
   "execution_count": 105,
   "metadata": {},
   "outputs": [
    {
     "data": {
      "text/plain": [
       "0"
      ]
     },
     "execution_count": 105,
     "metadata": {},
     "output_type": "execute_result"
    }
   ],
   "source": [
    "count_table(Wds.dbwiag, table, \"person_id\")"
   ]
  },
  {
   "cell_type": "code",
   "execution_count": 106,
   "metadata": {},
   "outputs": [
    {
     "name": "stderr",
     "output_type": "stream",
     "text": [
      "┌ Info: Rows inserted: 7314\n",
      "└ @ WiagDataSetup C:\\Users\\Georg\\Documents\\projekte\\WiagDataSetup.jl\\src\\WiagDataSetup.jl:1216\n"
     ]
    },
    {
     "data": {
      "text/plain": [
       "7314"
      ]
     },
     "execution_count": 106,
     "metadata": {},
     "output_type": "execute_result"
    }
   ],
   "source": [
    "insert_name_lookup!(table, df_p)"
   ]
  },
  {
   "cell_type": "code",
   "execution_count": null,
   "metadata": {},
   "outputs": [],
   "source": []
  },
  {
   "cell_type": "code",
   "execution_count": null,
   "metadata": {},
   "outputs": [],
   "source": []
  },
  {
   "cell_type": "code",
   "execution_count": null,
   "metadata": {},
   "outputs": [],
   "source": []
  }
 ],
 "metadata": {
  "kernelspec": {
   "display_name": "Julia 1.8.2",
   "language": "julia",
   "name": "julia-1.8"
  },
  "language_info": {
   "file_extension": ".jl",
   "mimetype": "application/julia",
   "name": "julia",
   "version": "1.8.2"
  }
 },
 "nbformat": 4,
 "nbformat_minor": 4
}
