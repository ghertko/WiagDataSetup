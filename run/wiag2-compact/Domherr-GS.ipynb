{
 "cells": [
  {
   "cell_type": "markdown",
   "metadata": {},
   "source": [
    "# Wissensaggregator Mittelalter und frühe Neuzeit\n",
    "\n",
    "## Daten für Domherren der Personendatenbank einlesen\n",
    "\n",
    "kompakte Version 2022-11-22\n",
    "\n",
    "[Vorspann](#Vorspann)  \n",
    "[Literatur](#Literatur)  \n",
    "[Item](#Item)  \n",
    "[Person](#Person)  \n",
    "[Externe ID](#Externe-ID)  \n",
    "[Namensvarianten](#Namensvarianten)  \n",
    "[Suchvarianten](#Suchvarianten)  "
   ]
  },
  {
   "cell_type": "markdown",
   "metadata": {},
   "source": [
    "### Vorspann"
   ]
  },
  {
   "cell_type": "code",
   "execution_count": 1,
   "metadata": {},
   "outputs": [
    {
     "data": {
      "text/plain": [
       "\"C:\\\\Users\\\\Georg\\\\Documents\\\\projekte\\\\WiagDataSetup.jl\""
      ]
     },
     "execution_count": 1,
     "metadata": {},
     "output_type": "execute_result"
    }
   ],
   "source": [
    "wds_path=\"C:\\\\Users\\\\Georg\\\\Documents\\\\projekte\\\\WiagDataSetup.jl\""
   ]
  },
  {
   "cell_type": "code",
   "execution_count": 2,
   "metadata": {},
   "outputs": [],
   "source": [
    "cd(wds_path)"
   ]
  },
  {
   "cell_type": "code",
   "execution_count": 3,
   "metadata": {},
   "outputs": [],
   "source": [
    "using Pkg"
   ]
  },
  {
   "cell_type": "code",
   "execution_count": 4,
   "metadata": {},
   "outputs": [
    {
     "name": "stderr",
     "output_type": "stream",
     "text": [
      "\u001b[32m\u001b[1m  Activating\u001b[22m\u001b[39m project at `C:\\Users\\Georg\\Documents\\projekte\\WiagDataSetup.jl`\n"
     ]
    }
   ],
   "source": [
    "Pkg.activate(\".\")"
   ]
  },
  {
   "cell_type": "code",
   "execution_count": 5,
   "metadata": {},
   "outputs": [],
   "source": [
    "using Revise"
   ]
  },
  {
   "cell_type": "code",
   "execution_count": 6,
   "metadata": {},
   "outputs": [],
   "source": [
    "using WiagDataSetup"
   ]
  },
  {
   "cell_type": "code",
   "execution_count": 7,
   "metadata": {},
   "outputs": [
    {
     "data": {
      "text/plain": [
       "WiagDataSetup"
      ]
     },
     "execution_count": 7,
     "metadata": {},
     "output_type": "execute_result"
    }
   ],
   "source": [
    "Wds = WiagDataSetup"
   ]
  },
  {
   "cell_type": "code",
   "execution_count": 8,
   "metadata": {},
   "outputs": [
    {
     "data": {
      "text/plain": [
       "\"wiag_in\""
      ]
     },
     "execution_count": 8,
     "metadata": {},
     "output_type": "execute_result"
    }
   ],
   "source": [
    "db = \"wiag_in\""
   ]
  },
  {
   "cell_type": "code",
   "execution_count": 9,
   "metadata": {},
   "outputs": [
    {
     "name": "stdout",
     "output_type": "stream",
     "text": [
      "Passwort für User georg: ········\n"
     ]
    },
    {
     "data": {
      "text/plain": [
       "MySQL.Connection(host=\"127.0.0.1\", user=\"georg\", port=\"3306\", db=\"wiag_in\")"
      ]
     },
     "execution_count": 9,
     "metadata": {},
     "output_type": "execute_result"
    }
   ],
   "source": [
    "Wds.setDBWIAG(user=\"georg\", db = db)"
   ]
  },
  {
   "cell_type": "markdown",
   "metadata": {},
   "source": [
    "Evtl. neue Quellen eintragen!"
   ]
  },
  {
   "cell_type": "code",
   "execution_count": 10,
   "metadata": {},
   "outputs": [],
   "source": [
    "gso_db = \"gso_in_202211\";"
   ]
  },
  {
   "cell_type": "code",
   "execution_count": 11,
   "metadata": {},
   "outputs": [
    {
     "data": {
      "text/plain": [
       "6"
      ]
     },
     "execution_count": 11,
     "metadata": {},
     "output_type": "execute_result"
    }
   ],
   "source": [
    "item_type_id = 6"
   ]
  },
  {
   "cell_type": "code",
   "execution_count": 12,
   "metadata": {},
   "outputs": [
    {
     "data": {
      "text/plain": [
       "120"
      ]
     },
     "execution_count": 12,
     "metadata": {},
     "output_type": "execute_result"
    }
   ],
   "source": [
    "ENV[\"COLUMNS\"] = 120"
   ]
  },
  {
   "cell_type": "code",
   "execution_count": 13,
   "metadata": {},
   "outputs": [],
   "source": [
    "using CSV, DataFrames, MySQL"
   ]
  },
  {
   "cell_type": "code",
   "execution_count": 14,
   "metadata": {},
   "outputs": [],
   "source": [
    "includet(\"src/Util.jl\")"
   ]
  },
  {
   "cell_type": "code",
   "execution_count": 15,
   "metadata": {},
   "outputs": [],
   "source": [
    "includet(\"src/Domherr-GS.jl\")"
   ]
  },
  {
   "cell_type": "code",
   "execution_count": 16,
   "metadata": {},
   "outputs": [
    {
     "name": "stderr",
     "output_type": "stream",
     "text": [
      "┌ Info: WiagDataSetup\n",
      "└ @ Main C:\\Users\\Georg\\Documents\\projekte\\WiagDataSetup.jl\\src\\Domherr-GS.jl:13\n",
      "┌ Info: \n",
      "│   item_type_id = 6\n",
      "└ @ Main C:\\Users\\Georg\\Documents\\projekte\\WiagDataSetup.jl\\src\\Domherr-GS.jl:14\n",
      "┌ Info: \n",
      "│   gso_db = gso_in_202211\n",
      "└ @ Main C:\\Users\\Georg\\Documents\\projekte\\WiagDataSetup.jl\\src\\Domherr-GS.jl:15\n"
     ]
    }
   ],
   "source": [
    "check_globals()"
   ]
  },
  {
   "cell_type": "markdown",
   "metadata": {},
   "source": [
    "### Tabellen löschen\n",
    "Tabelle `item` muss zuletzt gelöscht werden! (ausgenommen: `reference_volume`, `person` mit `item_type_id`)"
   ]
  },
  {
   "cell_type": "code",
   "execution_count": 128,
   "metadata": {},
   "outputs": [
    {
     "name": "stderr",
     "output_type": "stream",
     "text": [
      "┌ Info: Zeilen \n",
      "│   n_row = 0\n",
      "└ @ Main C:\\Users\\Georg\\Documents\\projekte\\WiagDataSetup.jl\\src\\Util.jl:70\n"
     ]
    },
    {
     "data": {
      "text/plain": [
       "0"
      ]
     },
     "execution_count": 128,
     "metadata": {},
     "output_type": "execute_result"
    }
   ],
   "source": [
    "table = \"item_property\"\n",
    "clear_item_property!(Wds.dbwiag, table, \"item_id\", \"academic_title\")"
   ]
  },
  {
   "cell_type": "code",
   "execution_count": 129,
   "metadata": {},
   "outputs": [
    {
     "name": "stderr",
     "output_type": "stream",
     "text": [
      "┌ Info: Zeilen \n",
      "│   n_row = 10684\n",
      "└ @ Main C:\\Users\\Georg\\Documents\\projekte\\WiagDataSetup.jl\\src\\Util.jl:46\n"
     ]
    },
    {
     "data": {
      "text/plain": [
       "10684"
      ]
     },
     "execution_count": 129,
     "metadata": {},
     "output_type": "execute_result"
    }
   ],
   "source": [
    "clear_table!(Wds.dbwiag, \"id_external\", \"item_id\")"
   ]
  },
  {
   "cell_type": "code",
   "execution_count": 130,
   "metadata": {},
   "outputs": [
    {
     "name": "stderr",
     "output_type": "stream",
     "text": [
      "┌ Info: Zeilen \n",
      "│   n_row = 0\n",
      "└ @ Main C:\\Users\\Georg\\Documents\\projekte\\WiagDataSetup.jl\\src\\Util.jl:46\n"
     ]
    },
    {
     "data": {
      "text/plain": [
       "0"
      ]
     },
     "execution_count": 130,
     "metadata": {},
     "output_type": "execute_result"
    }
   ],
   "source": [
    "clear_table!(Wds.dbwiag, \"familyname_variant\", \"person_id\")"
   ]
  },
  {
   "cell_type": "code",
   "execution_count": 131,
   "metadata": {},
   "outputs": [
    {
     "name": "stderr",
     "output_type": "stream",
     "text": [
      "┌ Info: Zeilen \n",
      "│   n_row = 0\n",
      "└ @ Main C:\\Users\\Georg\\Documents\\projekte\\WiagDataSetup.jl\\src\\Util.jl:46\n"
     ]
    },
    {
     "data": {
      "text/plain": [
       "0"
      ]
     },
     "execution_count": 131,
     "metadata": {},
     "output_type": "execute_result"
    }
   ],
   "source": [
    "clear_table!(Wds.dbwiag, \"givenname_variant\", \"person_id\")"
   ]
  },
  {
   "cell_type": "code",
   "execution_count": 132,
   "metadata": {},
   "outputs": [
    {
     "name": "stderr",
     "output_type": "stream",
     "text": [
      "┌ Info: Zeilen \n",
      "│   n_row = 0\n",
      "└ @ Main C:\\Users\\Georg\\Documents\\projekte\\WiagDataSetup.jl\\src\\Util.jl:46\n"
     ]
    },
    {
     "data": {
      "text/plain": [
       "0"
      ]
     },
     "execution_count": 132,
     "metadata": {},
     "output_type": "execute_result"
    }
   ],
   "source": [
    "clear_table!(Wds.dbwiag, \"name_lookup\", \"person_id\")"
   ]
  },
  {
   "cell_type": "code",
   "execution_count": 133,
   "metadata": {},
   "outputs": [
    {
     "name": "stderr",
     "output_type": "stream",
     "text": [
      "┌ Info: Zeilen \n",
      "│   n_row = 0\n",
      "└ @ Main C:\\Users\\Georg\\Documents\\projekte\\WiagDataSetup.jl\\src\\Util.jl:46\n"
     ]
    },
    {
     "data": {
      "text/plain": [
       "0"
      ]
     },
     "execution_count": 133,
     "metadata": {},
     "output_type": "execute_result"
    }
   ],
   "source": [
    "clear_table!(Wds.dbwiag, \"person_role\", \"person_id\")"
   ]
  },
  {
   "cell_type": "code",
   "execution_count": 134,
   "metadata": {},
   "outputs": [
    {
     "name": "stderr",
     "output_type": "stream",
     "text": [
      "┌ Info: Zeilen \n",
      "│   n_row = 0\n",
      "└ @ Main C:\\Users\\Georg\\Documents\\projekte\\WiagDataSetup.jl\\src\\Util.jl:46\n"
     ]
    },
    {
     "data": {
      "text/plain": [
       "0"
      ]
     },
     "execution_count": 134,
     "metadata": {},
     "output_type": "execute_result"
    }
   ],
   "source": [
    "clear_table!(Wds.dbwiag, \"person\", \"id\")"
   ]
  },
  {
   "cell_type": "code",
   "execution_count": null,
   "metadata": {},
   "outputs": [],
   "source": []
  },
  {
   "cell_type": "markdown",
   "metadata": {},
   "source": [
    "## Vorspann `gsn_gsn`\n",
    "\n",
    "``` sql\n",
    "use gso_in_202211;\n",
    "\n",
    "CREATE TEMPORARY TABLE gsn_new AS\n",
    "SELECT id, item_id, nummer\n",
    "FROM gsn\n",
    "WHERE id IN\n",
    "(SELECT min(id) as id from gsn where not deleted group by item_id);\n",
    "\n",
    "CREATE TABLE gsn_gsn AS\n",
    "SELECT o.id, o.item_id, o.nummer, n.id as id_new, n.nummer as nummer_neu\n",
    "FROM gsn AS o\n",
    "INNER JOIN gsn_new AS n ON o.item_id = n.item_id\n",
    "WHERE NOT o.deleted;\n",
    "```"
   ]
  },
  {
   "cell_type": "markdown",
   "metadata": {},
   "source": [
    "### Literatur"
   ]
  },
  {
   "cell_type": "code",
   "execution_count": 17,
   "metadata": {},
   "outputs": [
    {
     "name": "stderr",
     "output_type": "stream",
     "text": [
      "┌ Info: SELECT COUNT(*) as n FROM reference_volume WHERE item_type_id = 6\n",
      "└ @ Main C:\\Users\\Georg\\Documents\\projekte\\WiagDataSetup.jl\\src\\Util.jl:24\n"
     ]
    },
    {
     "data": {
      "text/plain": [
       "89"
      ]
     },
     "execution_count": 17,
     "metadata": {},
     "output_type": "execute_result"
    }
   ],
   "source": [
    "table = \"reference_volume\"\n",
    "count_table(Wds.dbwiag, table, \"item_type_id\")"
   ]
  },
  {
   "cell_type": "code",
   "execution_count": 18,
   "metadata": {},
   "outputs": [
    {
     "name": "stderr",
     "output_type": "stream",
     "text": [
      "┌ Info: Zeilen \n",
      "│   n_row = 89\n",
      "└ @ Main C:\\Users\\Georg\\Documents\\projekte\\WiagDataSetup.jl\\src\\Util.jl:46\n"
     ]
    },
    {
     "data": {
      "text/plain": [
       "89"
      ]
     },
     "execution_count": 18,
     "metadata": {},
     "output_type": "execute_result"
    }
   ],
   "source": [
    "table = \"reference_volume\"\n",
    "c = clear_table!(Wds.dbwiag, table, \"item_type_id\")"
   ]
  },
  {
   "cell_type": "code",
   "execution_count": 19,
   "metadata": {
    "scrolled": true
   },
   "outputs": [
    {
     "name": "stderr",
     "output_type": "stream",
     "text": [
      "┌ Info: reading \n",
      "│   table = reference_volume\n",
      "└ @ Main C:\\Users\\Georg\\Documents\\projekte\\WiagDataSetup.jl\\src\\Domherr-GS.jl:25\n",
      "┌ Info: Zeilen, Spalten: \n",
      "│   size(df) = (89, 6)\n",
      "└ @ Main C:\\Users\\Georg\\Documents\\projekte\\WiagDataSetup.jl\\src\\Domherr-GS.jl:35\n",
      "┌ Info: Rows inserted: 89\n",
      "└ @ WiagDataSetup C:\\Users\\Georg\\Documents\\projekte\\WiagDataSetup.jl\\src\\WiagDataSetup.jl:1216\n"
     ]
    },
    {
     "data": {
      "text/plain": [
       "89"
      ]
     },
     "execution_count": 19,
     "metadata": {},
     "output_type": "execute_result"
    }
   ],
   "source": [
    "gso_table = \"books\"\n",
    "insert_reference_volume!(table, gso_table)"
   ]
  },
  {
   "cell_type": "markdown",
   "metadata": {},
   "source": [
    "Feld `gs_citation`"
   ]
  },
  {
   "cell_type": "code",
   "execution_count": 20,
   "metadata": {},
   "outputs": [
    {
     "data": {
      "text/plain": [
       "93"
      ]
     },
     "execution_count": 20,
     "metadata": {},
     "output_type": "execute_result"
    }
   ],
   "source": [
    "data_path = \"C:\\\\Users\\\\georg\\\\Documents\\\\projekte-doc\\\\WIAGweb2\\\\data\";\n",
    "gs_citation_file = \"GS_Baende_ZitationGS.csv\";\n",
    "source_file = joinpath(data_path, gs_citation_file);\n",
    "update_gs_citation!(table, source_file)"
   ]
  },
  {
   "cell_type": "markdown",
   "metadata": {},
   "source": [
    "*2022-11-22* Es gibt nur 89 Einträge für Referenzwerke in der Personendatenbank aber 93 Zitierweisen für GS?!"
   ]
  },
  {
   "cell_type": "markdown",
   "metadata": {},
   "source": [
    "### Personendaten\n",
    "Finde Einträge, die von der Domherrendatenbank referenziert werden (sofern die verweisenden Domherren online sind!)"
   ]
  },
  {
   "cell_type": "code",
   "execution_count": 135,
   "metadata": {},
   "outputs": [
    {
     "name": "stderr",
     "output_type": "stream",
     "text": [
      "┌ Info: check for ambiguous GSN\n",
      "└ @ Main C:\\Users\\Georg\\Documents\\projekte\\WiagDataSetup.jl\\src\\Domherr-GS.jl:93\n",
      "┌ Info: Zahl der eindeutigen GSN\n",
      "│   size(df_gsn, 1) = 1163\n",
      "└ @ Main C:\\Users\\Georg\\Documents\\projekte\\WiagDataSetup.jl\\src\\Domherr-GS.jl:104\n",
      "┌ Info: Zahl der zugeordneten Einträge in `persons`\n",
      "│   size(df_person, 1) = 1163\n",
      "└ @ Main C:\\Users\\Georg\\Documents\\projekte\\WiagDataSetup.jl\\src\\Domherr-GS.jl:120\n"
     ]
    }
   ],
   "source": [
    "db_ref = \"wiag_in\"\n",
    "df_person_dh = person_referenced(db_ref);"
   ]
  },
  {
   "cell_type": "code",
   "execution_count": 136,
   "metadata": {},
   "outputs": [
    {
     "data": {
      "text/plain": [
       "(1163, 3)"
      ]
     },
     "execution_count": 136,
     "metadata": {},
     "output_type": "execute_result"
    }
   ],
   "source": [
    "size(df_person_dh)"
   ]
  },
  {
   "cell_type": "code",
   "execution_count": 137,
   "metadata": {},
   "outputs": [
    {
     "data": {
      "text/plain": [
       "3-element Vector{String}:\n",
       " \"dh_item_id\"\n",
       " \"gsn\"\n",
       " \"person_id\""
      ]
     },
     "execution_count": 137,
     "metadata": {},
     "output_type": "execute_result"
    }
   ],
   "source": [
    "names(df_person_dh)"
   ]
  },
  {
   "cell_type": "markdown",
   "metadata": {},
   "source": [
    "Domherren GS: online, mit einem Amt in einem der Domstifte"
   ]
  },
  {
   "cell_type": "code",
   "execution_count": 138,
   "metadata": {},
   "outputs": [
    {
     "name": "stderr",
     "output_type": "stream",
     "text": [
      "┌ Info: Personen mit einem Amt in einem Domstift\n",
      "│   size(df_p_dft, 1) = 9104\n",
      "└ @ Main C:\\Users\\Georg\\Documents\\projekte\\WiagDataSetup.jl\\src\\Domherr-GS.jl:163\n"
     ]
    }
   ],
   "source": [
    "db_ref = \"wiag_in\"\n",
    "df_person_dft = person_by_domstift(db_ref);"
   ]
  },
  {
   "cell_type": "code",
   "execution_count": 139,
   "metadata": {},
   "outputs": [
    {
     "data": {
      "text/plain": [
       "3-element Vector{String}:\n",
       " \"person_id\"\n",
       " \"item_id\"\n",
       " \"gsn\""
      ]
     },
     "execution_count": 139,
     "metadata": {},
     "output_type": "execute_result"
    }
   ],
   "source": [
    "names(df_person_dft)"
   ]
  },
  {
   "cell_type": "code",
   "execution_count": 140,
   "metadata": {},
   "outputs": [
    {
     "data": {
      "text/plain": [
       "2-element Vector{Symbol}:\n",
       " :gsn\n",
       " :person_id"
      ]
     },
     "execution_count": 140,
     "metadata": {},
     "output_type": "execute_result"
    }
   ],
   "source": [
    "columns = [:gsn, :person_id]"
   ]
  },
  {
   "cell_type": "markdown",
   "metadata": {},
   "source": [
    "vereinigen und jeden Eintrag nur einmal verwenden"
   ]
  },
  {
   "cell_type": "code",
   "execution_count": 141,
   "metadata": {},
   "outputs": [],
   "source": [
    "df_person_u = vcat(select(df_person_dft, columns), select(df_person_dh, columns));"
   ]
  },
  {
   "cell_type": "code",
   "execution_count": 142,
   "metadata": {},
   "outputs": [],
   "source": [
    "df_person = unique(df_person_u, :person_id);"
   ]
  },
  {
   "cell_type": "code",
   "execution_count": 143,
   "metadata": {},
   "outputs": [
    {
     "data": {
      "text/plain": [
       "(9346, 2)"
      ]
     },
     "execution_count": 143,
     "metadata": {},
     "output_type": "execute_result"
    }
   ],
   "source": [
    "size(df_person)"
   ]
  },
  {
   "cell_type": "markdown",
   "metadata": {},
   "source": [
    "Personendaten einlesen"
   ]
  },
  {
   "cell_type": "code",
   "execution_count": 144,
   "metadata": {},
   "outputs": [],
   "source": [
    "df_p_all = read_person();"
   ]
  },
  {
   "cell_type": "code",
   "execution_count": 145,
   "metadata": {},
   "outputs": [
    {
     "data": {
      "text/plain": [
       "(81526, 16)"
      ]
     },
     "execution_count": 145,
     "metadata": {},
     "output_type": "execute_result"
    }
   ],
   "source": [
    "size(df_p_all)"
   ]
  },
  {
   "cell_type": "markdown",
   "metadata": {},
   "source": [
    "betrachte nur Domherren"
   ]
  },
  {
   "cell_type": "code",
   "execution_count": 146,
   "metadata": {},
   "outputs": [],
   "source": [
    "df_p = innerjoin(df_p_all, df_person, on = :person_id);"
   ]
  },
  {
   "cell_type": "code",
   "execution_count": 147,
   "metadata": {},
   "outputs": [
    {
     "data": {
      "text/plain": [
       "(9346, 17)"
      ]
     },
     "execution_count": 147,
     "metadata": {},
     "output_type": "execute_result"
    }
   ],
   "source": [
    "size(df_p)"
   ]
  },
  {
   "cell_type": "markdown",
   "metadata": {},
   "source": [
    "### Einträge in `item`"
   ]
  },
  {
   "cell_type": "markdown",
   "metadata": {},
   "source": [
    "ordne `id_wiag` zu, bzw. vergib eine neue ID"
   ]
  },
  {
   "cell_type": "code",
   "execution_count": 148,
   "metadata": {},
   "outputs": [
    {
     "name": "stderr",
     "output_type": "stream",
     "text": [
      "┌ Info: Zahl der erzeugten IDs\n",
      "│   new_n = 0\n",
      "└ @ Main C:\\Users\\Georg\\Documents\\projekte\\WiagDataSetup.jl\\src\\Domherr-GS.jl:268\n"
     ]
    }
   ],
   "source": [
    "db_ref = \"wiag_in\"\n",
    "df_p_id = set_id_wiag(df_p, db_ref);"
   ]
  },
  {
   "cell_type": "markdown",
   "metadata": {},
   "source": [
    "`id_in_source` ist `person_id` = `persons.id` als `string`"
   ]
  },
  {
   "cell_type": "code",
   "execution_count": 149,
   "metadata": {},
   "outputs": [
    {
     "data": {
      "text/html": [
       "<div><div style = \"float: left;\"><span>5×4 DataFrame</span></div><div style = \"clear: both;\"></div></div><div class = \"data-frame\" style = \"overflow-x: scroll;\"><table class = \"data-frame\" style = \"margin-bottom: 6px;\"><thead><tr class = \"header\"><th class = \"rowNumber\" style = \"font-weight: bold; text-align: right;\">Row</th><th style = \"text-align: left;\">person_id</th><th style = \"text-align: left;\">item_id</th><th style = \"text-align: left;\">id_in_source</th><th style = \"text-align: left;\">id_wiag</th></tr><tr class = \"subheader headerLastRow\"><th class = \"rowNumber\" style = \"font-weight: bold; text-align: right;\"></th><th title = \"Int32\" style = \"text-align: left;\">Int32</th><th title = \"Int32\" style = \"text-align: left;\">Int32</th><th title = \"String\" style = \"text-align: left;\">String</th><th title = \"Union{Missing, Int64}\" style = \"text-align: left;\">Int64?</th></tr></thead><tbody><tr><td class = \"rowNumber\" style = \"font-weight: bold; text-align: right;\">1</td><td style = \"text-align: right;\">7133</td><td style = \"text-align: right;\">7133</td><td style = \"text-align: left;\">7133</td><td style = \"text-align: right;\">80102</td></tr><tr><td class = \"rowNumber\" style = \"font-weight: bold; text-align: right;\">2</td><td style = \"text-align: right;\">7135</td><td style = \"text-align: right;\">7135</td><td style = \"text-align: left;\">7135</td><td style = \"text-align: right;\">80103</td></tr><tr><td class = \"rowNumber\" style = \"font-weight: bold; text-align: right;\">3</td><td style = \"text-align: right;\">7137</td><td style = \"text-align: right;\">7137</td><td style = \"text-align: left;\">7137</td><td style = \"text-align: right;\">80104</td></tr><tr><td class = \"rowNumber\" style = \"font-weight: bold; text-align: right;\">4</td><td style = \"text-align: right;\">7143</td><td style = \"text-align: right;\">7143</td><td style = \"text-align: left;\">7143</td><td style = \"text-align: right;\">80105</td></tr><tr><td class = \"rowNumber\" style = \"font-weight: bold; text-align: right;\">5</td><td style = \"text-align: right;\">7145</td><td style = \"text-align: right;\">7145</td><td style = \"text-align: left;\">7145</td><td style = \"text-align: right;\">80106</td></tr></tbody></table></div>"
      ],
      "text/latex": [
       "\\begin{tabular}{r|cccc}\n",
       "\t& person\\_id & item\\_id & id\\_in\\_source & id\\_wiag\\\\\n",
       "\t\\hline\n",
       "\t& Int32 & Int32 & String & Int64?\\\\\n",
       "\t\\hline\n",
       "\t1 & 7133 & 7133 & 7133 & 80102 \\\\\n",
       "\t2 & 7135 & 7135 & 7135 & 80103 \\\\\n",
       "\t3 & 7137 & 7137 & 7137 & 80104 \\\\\n",
       "\t4 & 7143 & 7143 & 7143 & 80105 \\\\\n",
       "\t5 & 7145 & 7145 & 7145 & 80106 \\\\\n",
       "\\end{tabular}\n"
      ],
      "text/plain": [
       "\u001b[1m5×4 DataFrame\u001b[0m\n",
       "\u001b[1m Row \u001b[0m│\u001b[1m person_id \u001b[0m\u001b[1m item_id \u001b[0m\u001b[1m id_in_source \u001b[0m\u001b[1m id_wiag \u001b[0m\n",
       "     │\u001b[90m Int32     \u001b[0m\u001b[90m Int32   \u001b[0m\u001b[90m String       \u001b[0m\u001b[90m Int64?  \u001b[0m\n",
       "─────┼───────────────────────────────────────────\n",
       "   1 │      7133     7133  7133            80102\n",
       "   2 │      7135     7135  7135            80103\n",
       "   3 │      7137     7137  7137            80104\n",
       "   4 │      7143     7143  7143            80105\n",
       "   5 │      7145     7145  7145            80106"
      ]
     },
     "execution_count": 149,
     "metadata": {},
     "output_type": "execute_result"
    }
   ],
   "source": [
    "df_p_id[101:105, [:person_id, :item_id, :id_in_source, :id_wiag]]"
   ]
  },
  {
   "cell_type": "code",
   "execution_count": 150,
   "metadata": {},
   "outputs": [
    {
     "data": {
      "text/plain": [
       "91364"
      ]
     },
     "execution_count": 150,
     "metadata": {},
     "output_type": "execute_result"
    }
   ],
   "source": [
    "maximum(df_p_id.id_wiag)"
   ]
  },
  {
   "cell_type": "code",
   "execution_count": 151,
   "metadata": {},
   "outputs": [
    {
     "name": "stderr",
     "output_type": "stream",
     "text": [
      "┌ Info: SELECT COUNT(*) as n FROM item WHERE item_type_id = 6\n",
      "└ @ Main C:\\Users\\Georg\\Documents\\projekte\\WiagDataSetup.jl\\src\\Util.jl:24\n"
     ]
    },
    {
     "data": {
      "text/plain": [
       "9347"
      ]
     },
     "execution_count": 151,
     "metadata": {},
     "output_type": "execute_result"
    }
   ],
   "source": [
    "table_name = \"item\";\n",
    "count_table(Wds.dbwiag, table_name, \"item_type_id\")"
   ]
  },
  {
   "cell_type": "code",
   "execution_count": 152,
   "metadata": {},
   "outputs": [
    {
     "name": "stderr",
     "output_type": "stream",
     "text": [
      "┌ Info: Zeilen \n",
      "│   n_row = 9347\n",
      "└ @ Main C:\\Users\\Georg\\Documents\\projekte\\WiagDataSetup.jl\\src\\Util.jl:46\n"
     ]
    },
    {
     "data": {
      "text/plain": [
       "9347"
      ]
     },
     "execution_count": 152,
     "metadata": {},
     "output_type": "execute_result"
    }
   ],
   "source": [
    "table_name = \"item\";\n",
    "clear_table!(Wds.dbwiag, table_name, \"item_type_id\")"
   ]
  },
  {
   "cell_type": "code",
   "execution_count": 153,
   "metadata": {},
   "outputs": [
    {
     "name": "stderr",
     "output_type": "stream",
     "text": [
      "┌ Info: Rows inserted: 9346\n",
      "└ @ WiagDataSetup C:\\Users\\Georg\\Documents\\projekte\\WiagDataSetup.jl\\src\\WiagDataSetup.jl:1216\n"
     ]
    }
   ],
   "source": [
    "table_name = \"item\"\n",
    "insert_item!(table_name, df_p_id);"
   ]
  },
  {
   "cell_type": "markdown",
   "metadata": {},
   "source": [
    "### Personendaten"
   ]
  },
  {
   "cell_type": "code",
   "execution_count": 160,
   "metadata": {},
   "outputs": [
    {
     "name": "stderr",
     "output_type": "stream",
     "text": [
      "┌ Info: SELECT COUNT(*) as n FROM person WHERE item_type_id = 6\n",
      "└ @ Main C:\\Users\\Georg\\Documents\\projekte\\WiagDataSetup.jl\\src\\Util.jl:24\n"
     ]
    },
    {
     "data": {
      "text/plain": [
       "60"
      ]
     },
     "execution_count": 160,
     "metadata": {},
     "output_type": "execute_result"
    }
   ],
   "source": [
    "table = \"person\"\n",
    "count_table(Wds.dbwiag, table, \"item_type_id\")"
   ]
  },
  {
   "cell_type": "code",
   "execution_count": 161,
   "metadata": {},
   "outputs": [
    {
     "name": "stderr",
     "output_type": "stream",
     "text": [
      "┌ Info: Zeilen \n",
      "│   n_row = 60\n",
      "└ @ Main C:\\Users\\Georg\\Documents\\projekte\\WiagDataSetup.jl\\src\\Util.jl:46\n"
     ]
    },
    {
     "data": {
      "text/plain": [
       "60"
      ]
     },
     "execution_count": 161,
     "metadata": {},
     "output_type": "execute_result"
    }
   ],
   "source": [
    "table = \"person\"\n",
    "clear_table!(Wds.dbwiag, table, \"item_type_id\")"
   ]
  },
  {
   "cell_type": "code",
   "execution_count": 162,
   "metadata": {},
   "outputs": [
    {
     "name": "stderr",
     "output_type": "stream",
     "text": [
      "┌ Info: unbekannte Ordensbezeichnungen\n",
      "│   unique(unknown_order) = [\"Kapuziner\", \"S. J.\"]\n",
      "└ @ Main C:\\Users\\Georg\\Documents\\projekte\\WiagDataSetup.jl\\src\\Domherr-GS.jl:345\n",
      "┌ Info: Rows inserted: 9344\n",
      "└ @ WiagDataSetup C:\\Users\\Georg\\Documents\\projekte\\WiagDataSetup.jl\\src\\WiagDataSetup.jl:1216\n"
     ]
    },
    {
     "data": {
      "text/plain": [
       "9344"
      ]
     },
     "execution_count": 162,
     "metadata": {},
     "output_type": "execute_result"
    }
   ],
   "source": [
    "table = \"person\"\n",
    "insert_person!(table, df_p_id)"
   ]
  },
  {
   "cell_type": "markdown",
   "metadata": {},
   "source": [
    "### Akademischer Titel"
   ]
  },
  {
   "cell_type": "code",
   "execution_count": 163,
   "metadata": {},
   "outputs": [
    {
     "name": "stderr",
     "output_type": "stream",
     "text": [
      "┌ Info: Zeilen \n",
      "│   n_row = 0\n",
      "└ @ Main C:\\Users\\Georg\\Documents\\projekte\\WiagDataSetup.jl\\src\\Util.jl:70\n"
     ]
    },
    {
     "data": {
      "text/plain": [
       "0"
      ]
     },
     "execution_count": 163,
     "metadata": {},
     "output_type": "execute_result"
    }
   ],
   "source": [
    "table = \"item_property\"\n",
    "clear_item_property!(Wds.dbwiag, table, \"item_id\", \"academic_title\")"
   ]
  },
  {
   "cell_type": "code",
   "execution_count": 165,
   "metadata": {},
   "outputs": [
    {
     "name": "stderr",
     "output_type": "stream",
     "text": [
      "┌ Info: Rows inserted: 443\n",
      "└ @ WiagDataSetup C:\\Users\\Georg\\Documents\\projekte\\WiagDataSetup.jl\\src\\WiagDataSetup.jl:1216\n"
     ]
    },
    {
     "data": {
      "text/plain": [
       "443"
      ]
     },
     "execution_count": 165,
     "metadata": {},
     "output_type": "execute_result"
    }
   ],
   "source": [
    "table = \"item_property\"\n",
    "insert_item_property!(table, df_p_id, property_column = Symbol(\"titel\"), property_name = \"academic_title\")"
   ]
  },
  {
   "cell_type": "markdown",
   "metadata": {},
   "source": [
    "### Referenzverweise"
   ]
  },
  {
   "cell_type": "code",
   "execution_count": 166,
   "metadata": {},
   "outputs": [
    {
     "name": "stderr",
     "output_type": "stream",
     "text": [
      "┌ Info: SELECT COUNT(*) as n FROM item_reference WHERE item_type_id = 6\n",
      "└ @ Main C:\\Users\\Georg\\Documents\\projekte\\WiagDataSetup.jl\\src\\Util.jl:24\n"
     ]
    },
    {
     "data": {
      "text/plain": [
       "8204"
      ]
     },
     "execution_count": 166,
     "metadata": {},
     "output_type": "execute_result"
    }
   ],
   "source": [
    "table = \"item_reference\"\n",
    "count_table(Wds.dbwiag, table, \"item_type_id\")"
   ]
  },
  {
   "cell_type": "code",
   "execution_count": 167,
   "metadata": {},
   "outputs": [
    {
     "name": "stderr",
     "output_type": "stream",
     "text": [
      "┌ Info: Zeilen \n",
      "│   n_row = 8204\n",
      "└ @ Main C:\\Users\\Georg\\Documents\\projekte\\WiagDataSetup.jl\\src\\Util.jl:46\n"
     ]
    },
    {
     "data": {
      "text/plain": [
       "8204"
      ]
     },
     "execution_count": 167,
     "metadata": {},
     "output_type": "execute_result"
    }
   ],
   "source": [
    "table = \"item_reference\"\n",
    "clear_table!(Wds.dbwiag, table, \"item_type_id\")"
   ]
  },
  {
   "cell_type": "code",
   "execution_count": 168,
   "metadata": {},
   "outputs": [
    {
     "name": "stderr",
     "output_type": "stream",
     "text": [
      "┌ Info: Zeilen, Spalten\n",
      "│   size(df_idx) = (9344, 2)\n",
      "└ @ Main C:\\Users\\Georg\\Documents\\projekte\\WiagDataSetup.jl\\src\\Domherr-GS.jl:430\n",
      "┌ Info: Zeilen, Spalten\n",
      "│   size(df_ref) = (15628, 5)\n",
      "└ @ Main C:\\Users\\Georg\\Documents\\projekte\\WiagDataSetup.jl\\src\\Domherr-GS.jl:446\n",
      "┌ Info: Zeilen, Spalten (mit Biogramm)\n",
      "│   size(df_ref_bio) = (8202, 5)\n",
      "└ @ Main C:\\Users\\Georg\\Documents\\projekte\\WiagDataSetup.jl\\src\\Domherr-GS.jl:452\n",
      "┌ Info: Rows inserted: 8202\n",
      "└ @ WiagDataSetup C:\\Users\\Georg\\Documents\\projekte\\WiagDataSetup.jl\\src\\WiagDataSetup.jl:1216\n"
     ]
    }
   ],
   "source": [
    "table = \"item_reference\"\n",
    "df_ref = insert_item_reference!(table, df_p_id);"
   ]
  },
  {
   "cell_type": "markdown",
   "metadata": {},
   "source": [
    "### Externe ID"
   ]
  },
  {
   "cell_type": "code",
   "execution_count": 35,
   "metadata": {},
   "outputs": [
    {
     "data": {
      "text/html": [
       "<div><div style = \"float: left;\"><span>5×6 DataFrame</span></div><div style = \"clear: both;\"></div></div><div class = \"data-frame\" style = \"overflow-x: scroll;\"><table class = \"data-frame\" style = \"margin-bottom: 6px;\"><thead><tr class = \"header\"><th class = \"rowNumber\" style = \"font-weight: bold; text-align: right;\">Row</th><th style = \"text-align: left;\">id</th><th style = \"text-align: left;\">item_id</th><th style = \"text-align: left;\">id_in_source</th><th style = \"text-align: left;\">id_wiag</th><th style = \"text-align: left;\">vorname</th><th style = \"text-align: left;\">familienname</th></tr><tr class = \"subheader headerLastRow\"><th class = \"rowNumber\" style = \"font-weight: bold; text-align: right;\"></th><th title = \"Int32\" style = \"text-align: left;\">Int32</th><th title = \"Int32\" style = \"text-align: left;\">Int32</th><th title = \"String\" style = \"text-align: left;\">String</th><th title = \"Union{Missing, Int64}\" style = \"text-align: left;\">Int64?</th><th title = \"Union{Missing, String}\" style = \"text-align: left;\">String?</th><th title = \"Union{Missing, String}\" style = \"text-align: left;\">String?</th></tr></thead><tbody><tr><td class = \"rowNumber\" style = \"font-weight: bold; text-align: right;\">1</td><td style = \"text-align: right;\">12309</td><td style = \"text-align: right;\">12309</td><td style = \"text-align: left;\">12309</td><td style = \"text-align: right;\">80640</td><td style = \"text-align: left;\">Kaspar</td><td style = \"text-align: left;\">Amstedt</td></tr><tr><td class = \"rowNumber\" style = \"font-weight: bold; text-align: right;\">2</td><td style = \"text-align: right;\">12312</td><td style = \"text-align: right;\">12312</td><td style = \"text-align: left;\">12312</td><td style = \"text-align: right;\">80641</td><td style = \"text-align: left;\">Kaspar</td><td style = \"text-align: left;\">Han</td></tr><tr><td class = \"rowNumber\" style = \"font-weight: bold; text-align: right;\">3</td><td style = \"text-align: right;\">12313</td><td style = \"text-align: right;\">12313</td><td style = \"text-align: left;\">12313</td><td style = \"text-align: right;\">80642</td><td style = \"text-align: left;\">Kaspar</td><td style = \"text-align: left;\">Moer</td></tr><tr><td class = \"rowNumber\" style = \"font-weight: bold; text-align: right;\">4</td><td style = \"text-align: right;\">12320</td><td style = \"text-align: right;\">12320</td><td style = \"text-align: left;\">12320</td><td style = \"text-align: right;\">80643</td><td style = \"text-align: left;\">Kaspar</td><td style = \"text-align: left;\">Withop</td></tr><tr><td class = \"rowNumber\" style = \"font-weight: bold; text-align: right;\">5</td><td style = \"text-align: right;\">12360</td><td style = \"text-align: right;\">12360</td><td style = \"text-align: left;\">12360</td><td style = \"text-align: right;\">80645</td><td style = \"text-align: left;\">Christian</td><td style = \"text-align: left;\">Schulte</td></tr></tbody></table></div>"
      ],
      "text/latex": [
       "\\begin{tabular}{r|cccccc}\n",
       "\t& id & item\\_id & id\\_in\\_source & id\\_wiag & vorname & familienname\\\\\n",
       "\t\\hline\n",
       "\t& Int32 & Int32 & String & Int64? & String? & String?\\\\\n",
       "\t\\hline\n",
       "\t1 & 12309 & 12309 & 12309 & 80640 & Kaspar & Amstedt \\\\\n",
       "\t2 & 12312 & 12312 & 12312 & 80641 & Kaspar & Han \\\\\n",
       "\t3 & 12313 & 12313 & 12313 & 80642 & Kaspar & Moer \\\\\n",
       "\t4 & 12320 & 12320 & 12320 & 80643 & Kaspar & Withop \\\\\n",
       "\t5 & 12360 & 12360 & 12360 & 80645 & Christian & Schulte \\\\\n",
       "\\end{tabular}\n"
      ],
      "text/plain": [
       "\u001b[1m5×6 DataFrame\u001b[0m\n",
       "\u001b[1m Row \u001b[0m│\u001b[1m id    \u001b[0m\u001b[1m item_id \u001b[0m\u001b[1m id_in_source \u001b[0m\u001b[1m id_wiag \u001b[0m\u001b[1m vorname   \u001b[0m\u001b[1m familienname \u001b[0m\n",
       "     │\u001b[90m Int32 \u001b[0m\u001b[90m Int32   \u001b[0m\u001b[90m String       \u001b[0m\u001b[90m Int64?  \u001b[0m\u001b[90m String?   \u001b[0m\u001b[90m String?      \u001b[0m\n",
       "─────┼────────────────────────────────────────────────────────────────\n",
       "   1 │ 12309    12309  12309           80640  Kaspar     Amstedt\n",
       "   2 │ 12312    12312  12312           80641  Kaspar     Han\n",
       "   3 │ 12313    12313  12313           80642  Kaspar     Moer\n",
       "   4 │ 12320    12320  12320           80643  Kaspar     Withop\n",
       "   5 │ 12360    12360  12360           80645  Christian  Schulte"
      ]
     },
     "execution_count": 35,
     "metadata": {},
     "output_type": "execute_result"
    }
   ],
   "source": [
    "df_p_id[551:555, [:id, :item_id, :id_in_source, :id_wiag, :vorname, :familienname]]"
   ]
  },
  {
   "cell_type": "code",
   "execution_count": 170,
   "metadata": {},
   "outputs": [
    {
     "data": {
      "text/plain": [
       "3-element Vector{String}:\n",
       " \"gndnummer\"\n",
       " \"viaf\"\n",
       " \"gsn\""
      ]
     },
     "execution_count": 170,
     "metadata": {},
     "output_type": "execute_result"
    }
   ],
   "source": [
    "filter(names(df_p_id)) do col\n",
    "    col in (\"viaf\", \"gndnummer\", \"gsn\")\n",
    "end"
   ]
  },
  {
   "cell_type": "code",
   "execution_count": 171,
   "metadata": {},
   "outputs": [
    {
     "name": "stderr",
     "output_type": "stream",
     "text": [
      "┌ Info: SELECT COUNT(*) as n FROM id_external WHERE item_id IN (SELECT id FROM item WHERE item_type_id = 6)\n",
      "└ @ Main C:\\Users\\Georg\\Documents\\projekte\\WiagDataSetup.jl\\src\\Util.jl:24\n"
     ]
    },
    {
     "data": {
      "text/plain": [
       "0"
      ]
     },
     "execution_count": 171,
     "metadata": {},
     "output_type": "execute_result"
    }
   ],
   "source": [
    "table = \"id_external\"\n",
    "count_table(Wds.dbwiag, table, \"item_id\")"
   ]
  },
  {
   "cell_type": "code",
   "execution_count": 172,
   "metadata": {},
   "outputs": [
    {
     "name": "stderr",
     "output_type": "stream",
     "text": [
      "┌ Info: Zeilen \n",
      "│   n_row = 0\n",
      "└ @ Main C:\\Users\\Georg\\Documents\\projekte\\WiagDataSetup.jl\\src\\Util.jl:46\n"
     ]
    },
    {
     "data": {
      "text/plain": [
       "0"
      ]
     },
     "execution_count": 172,
     "metadata": {},
     "output_type": "execute_result"
    }
   ],
   "source": [
    "clear_table!(Wds.dbwiag, table, \"item_id\")"
   ]
  },
  {
   "cell_type": "code",
   "execution_count": 173,
   "metadata": {},
   "outputs": [
    {
     "name": "stderr",
     "output_type": "stream",
     "text": [
      "┌ Info: Normdatum \n",
      "│   auth.second = gndnummer\n",
      "└ @ Main C:\\Users\\Georg\\Documents\\projekte\\WiagDataSetup.jl\\src\\Domherr-GS.jl:506\n",
      "┌ Info: Rows inserted: 1334\n",
      "└ @ WiagDataSetup C:\\Users\\Georg\\Documents\\projekte\\WiagDataSetup.jl\\src\\WiagDataSetup.jl:1216\n",
      "┌ Info: Normdatum \n",
      "│   auth.second = viaf\n",
      "└ @ Main C:\\Users\\Georg\\Documents\\projekte\\WiagDataSetup.jl\\src\\Domherr-GS.jl:506\n",
      "┌ Info: Rows inserted: 2\n",
      "└ @ WiagDataSetup C:\\Users\\Georg\\Documents\\projekte\\WiagDataSetup.jl\\src\\WiagDataSetup.jl:1216\n",
      "┌ Info: Normdatum \n",
      "│   auth.second = gsn\n",
      "└ @ Main C:\\Users\\Georg\\Documents\\projekte\\WiagDataSetup.jl\\src\\Domherr-GS.jl:506\n",
      "┌ Info: Rows inserted: 9344\n",
      "└ @ WiagDataSetup C:\\Users\\Georg\\Documents\\projekte\\WiagDataSetup.jl\\src\\WiagDataSetup.jl:1216\n"
     ]
    }
   ],
   "source": [
    "table = \"id_external\"\n",
    "insert_id_external!(table, df_p_id)"
   ]
  },
  {
   "cell_type": "markdown",
   "metadata": {},
   "source": [
    "Es gibt keine Angaben zu Wikipedia-Einträgen."
   ]
  },
  {
   "cell_type": "markdown",
   "metadata": {},
   "source": [
    "### Namensvarianten"
   ]
  },
  {
   "cell_type": "code",
   "execution_count": 174,
   "metadata": {},
   "outputs": [
    {
     "data": {
      "text/plain": [
       ":familiennamenvarianten"
      ]
     },
     "execution_count": 174,
     "metadata": {},
     "output_type": "execute_result"
    }
   ],
   "source": [
    "table = \"familyname_variant\"\n",
    "col_fn_variant = :familiennamenvarianten"
   ]
  },
  {
   "cell_type": "code",
   "execution_count": 175,
   "metadata": {},
   "outputs": [
    {
     "name": "stderr",
     "output_type": "stream",
     "text": [
      "┌ Info: SELECT COUNT(*) as n FROM familyname_variant WHERE person_id IN (SELECT id FROM item WHERE item_type_id = 6)\n",
      "└ @ Main C:\\Users\\Georg\\Documents\\projekte\\WiagDataSetup.jl\\src\\Util.jl:24\n"
     ]
    },
    {
     "data": {
      "text/plain": [
       "2944"
      ]
     },
     "execution_count": 175,
     "metadata": {},
     "output_type": "execute_result"
    }
   ],
   "source": [
    "count_table(Wds.dbwiag, table, \"person_id\")"
   ]
  },
  {
   "cell_type": "code",
   "execution_count": 176,
   "metadata": {},
   "outputs": [
    {
     "name": "stderr",
     "output_type": "stream",
     "text": [
      "┌ Info: Zeilen \n",
      "│   n_row = 2944\n",
      "└ @ Main C:\\Users\\Georg\\Documents\\projekte\\WiagDataSetup.jl\\src\\Util.jl:46\n"
     ]
    },
    {
     "data": {
      "text/plain": [
       "2944"
      ]
     },
     "execution_count": 176,
     "metadata": {},
     "output_type": "execute_result"
    }
   ],
   "source": [
    "clear_table!(Wds.dbwiag, table, \"person_id\")"
   ]
  },
  {
   "cell_type": "code",
   "execution_count": 177,
   "metadata": {},
   "outputs": [
    {
     "name": "stderr",
     "output_type": "stream",
     "text": [
      "┌ Info: Rows inserted: 2940\n",
      "└ @ WiagDataSetup C:\\Users\\Georg\\Documents\\projekte\\WiagDataSetup.jl\\src\\WiagDataSetup.jl:1216\n"
     ]
    },
    {
     "data": {
      "text/plain": [
       "2940"
      ]
     },
     "execution_count": 177,
     "metadata": {},
     "output_type": "execute_result"
    }
   ],
   "source": [
    "table = \"familyname_variant\";\n",
    "insert_name_variant!(table, df_p, col_fn_variant)"
   ]
  },
  {
   "cell_type": "code",
   "execution_count": 178,
   "metadata": {},
   "outputs": [
    {
     "data": {
      "text/plain": [
       ":vornamenvarianten"
      ]
     },
     "execution_count": 178,
     "metadata": {},
     "output_type": "execute_result"
    }
   ],
   "source": [
    "table = \"givenname_variant\"\n",
    "col_gn_variant = :vornamenvarianten"
   ]
  },
  {
   "cell_type": "code",
   "execution_count": 179,
   "metadata": {},
   "outputs": [
    {
     "name": "stderr",
     "output_type": "stream",
     "text": [
      "┌ Info: SELECT COUNT(*) as n FROM givenname_variant WHERE person_id IN (SELECT id FROM item WHERE item_type_id = 6)\n",
      "└ @ Main C:\\Users\\Georg\\Documents\\projekte\\WiagDataSetup.jl\\src\\Util.jl:24\n"
     ]
    },
    {
     "data": {
      "text/plain": [
       "1640"
      ]
     },
     "execution_count": 179,
     "metadata": {},
     "output_type": "execute_result"
    }
   ],
   "source": [
    "count_table(Wds.dbwiag, table, \"person_id\")"
   ]
  },
  {
   "cell_type": "code",
   "execution_count": 180,
   "metadata": {},
   "outputs": [
    {
     "name": "stderr",
     "output_type": "stream",
     "text": [
      "┌ Info: Zeilen \n",
      "│   n_row = 1640\n",
      "└ @ Main C:\\Users\\Georg\\Documents\\projekte\\WiagDataSetup.jl\\src\\Util.jl:46\n"
     ]
    },
    {
     "data": {
      "text/plain": [
       "1640"
      ]
     },
     "execution_count": 180,
     "metadata": {},
     "output_type": "execute_result"
    }
   ],
   "source": [
    "clear_table!(Wds.dbwiag, table, \"person_id\")"
   ]
  },
  {
   "cell_type": "code",
   "execution_count": 181,
   "metadata": {},
   "outputs": [
    {
     "name": "stderr",
     "output_type": "stream",
     "text": [
      "┌ Info: Rows inserted: 1639\n",
      "└ @ WiagDataSetup C:\\Users\\Georg\\Documents\\projekte\\WiagDataSetup.jl\\src\\WiagDataSetup.jl:1216\n"
     ]
    },
    {
     "data": {
      "text/plain": [
       "1639"
      ]
     },
     "execution_count": 181,
     "metadata": {},
     "output_type": "execute_result"
    }
   ],
   "source": [
    "table = \"givenname_variant\"\n",
    "insert_name_variant!(table, df_p, col_gn_variant)"
   ]
  },
  {
   "cell_type": "markdown",
   "metadata": {},
   "source": [
    "### Suchvarianten"
   ]
  },
  {
   "cell_type": "code",
   "execution_count": 188,
   "metadata": {},
   "outputs": [
    {
     "data": {
      "text/plain": [
       "\"name_lookup\""
      ]
     },
     "execution_count": 188,
     "metadata": {},
     "output_type": "execute_result"
    }
   ],
   "source": [
    "table = \"name_lookup\""
   ]
  },
  {
   "cell_type": "code",
   "execution_count": 189,
   "metadata": {},
   "outputs": [
    {
     "name": "stderr",
     "output_type": "stream",
     "text": [
      "┌ Info: SELECT COUNT(*) as n FROM name_lookup WHERE person_id IN (SELECT id FROM item WHERE item_type_id = 6)\n",
      "└ @ Main C:\\Users\\Georg\\Documents\\projekte\\WiagDataSetup.jl\\src\\Util.jl:24\n"
     ]
    },
    {
     "data": {
      "text/plain": [
       "34609"
      ]
     },
     "execution_count": 189,
     "metadata": {},
     "output_type": "execute_result"
    }
   ],
   "source": [
    "count_table(Wds.dbwiag, table, \"person_id\")"
   ]
  },
  {
   "cell_type": "code",
   "execution_count": 191,
   "metadata": {},
   "outputs": [
    {
     "name": "stderr",
     "output_type": "stream",
     "text": [
      "┌ Info: Zeilen \n",
      "│   n_row = 51910\n",
      "└ @ Main C:\\Users\\Georg\\Documents\\projekte\\WiagDataSetup.jl\\src\\Util.jl:46\n"
     ]
    },
    {
     "data": {
      "text/plain": [
       "51910"
      ]
     },
     "execution_count": 191,
     "metadata": {},
     "output_type": "execute_result"
    }
   ],
   "source": [
    "table = \"name_lookup\"\n",
    "clear_table!(Wds.dbwiag, table, \"person_id\")"
   ]
  },
  {
   "cell_type": "code",
   "execution_count": 192,
   "metadata": {},
   "outputs": [
    {
     "name": "stderr",
     "output_type": "stream",
     "text": [
      "┌ Info: 10000\n",
      "└ @ WiagDataSetup C:\\Users\\Georg\\Documents\\projekte\\WiagDataSetup.jl\\src\\WiagDataSetup.jl:1193\n",
      "┌ Info: Rows inserted: 17301\n",
      "└ @ WiagDataSetup C:\\Users\\Georg\\Documents\\projekte\\WiagDataSetup.jl\\src\\WiagDataSetup.jl:1216\n"
     ]
    }
   ],
   "source": [
    "table = \"name_lookup\"\n",
    "insert_name_lookup!(table, df_p_id);"
   ]
  },
  {
   "cell_type": "markdown",
   "metadata": {},
   "source": [
    "### Bezug zu anderen Quellen"
   ]
  },
  {
   "cell_type": "code",
   "execution_count": 185,
   "metadata": {},
   "outputs": [
    {
     "name": "stderr",
     "output_type": "stream",
     "text": [
      "┌ Info: Domherren mit Veweisen auf Bischöfe\n",
      "│   size(df) = (419, 4)\n",
      "└ @ Main C:\\Users\\Georg\\Documents\\projekte\\WiagDataSetup.jl\\src\\Domherr-GS.jl:739\n",
      "┌ Info: Verweise von Domherren auf Domherren-GS\n",
      "│   size(df_dh_gs) = (840, 2)\n",
      "└ @ Main C:\\Users\\Georg\\Documents\\projekte\\WiagDataSetup.jl\\src\\Domherr-GS.jl:786\n",
      "┌ Info: Restliche Domherren\n",
      "│   size(df_dh) = (4405, 1)\n",
      "└ @ Main C:\\Users\\Georg\\Documents\\projekte\\WiagDataSetup.jl\\src\\Domherr-GS.jl:805\n",
      "┌ Info: Restlice Bischöfe mit Verweis auf Domherren GS\n",
      "│   size(df_ep_gs) = (463, 2)\n",
      "└ @ Main C:\\Users\\Georg\\Documents\\projekte\\WiagDataSetup.jl\\src\\Domherr-GS.jl:820\n",
      "┌ Info: Restlich Domherren GS, auf die nicht verwiesen wird\n",
      "│   size(df_gs) = (7726, 1)\n",
      "└ @ Main C:\\Users\\Georg\\Documents\\projekte\\WiagDataSetup.jl\\src\\Domherr-GS.jl:837\n",
      "┌ Info: 10000\n",
      "└ @ WiagDataSetup C:\\Users\\Georg\\Documents\\projekte\\WiagDataSetup.jl\\src\\WiagDataSetup.jl:1193\n",
      "┌ Info: Rows inserted: 15898\n",
      "└ @ WiagDataSetup C:\\Users\\Georg\\Documents\\projekte\\WiagDataSetup.jl\\src\\WiagDataSetup.jl:1216\n"
     ]
    }
   ],
   "source": [
    "table = \"canon_lookup\"\n",
    "n = map_cn_sources(table)"
   ]
  },
  {
   "cell_type": "markdown",
   "metadata": {},
   "source": [
    "2022-12-07 Weiterentwicklung Bezug zu anderen Quellen; gemeinsame Verweise auf gs einmal von ep, einmal von dh"
   ]
  },
  {
   "cell_type": "code",
   "execution_count": 20,
   "metadata": {},
   "outputs": [
    {
     "name": "stderr",
     "output_type": "stream",
     "text": [
      "┌ Info: Domherren mit Veweisen auf Bischöfe\n",
      "│   size(df) = (419, 4)\n",
      "└ @ Main C:\\Users\\Georg\\Documents\\projekte\\WiagDataSetup.jl\\src\\Domherr-GS.jl:885\n",
      "┌ Info: Verweise von Domherren auf Domherren-GS\n",
      "│   size(df_dh_gs) = (840, 2)\n",
      "└ @ Main C:\\Users\\Georg\\Documents\\projekte\\WiagDataSetup.jl\\src\\Domherr-GS.jl:930\n",
      "┌ Info: Restliche Domherren\n",
      "│   size(df_dh) = (4405, 1)\n",
      "└ @ Main C:\\Users\\Georg\\Documents\\projekte\\WiagDataSetup.jl\\src\\Domherr-GS.jl:948\n",
      "┌ Info: Restlice Bischöfe mit Verweis auf Domherren GS\n",
      "│   size(df_ep_gs) = (463, 2)\n",
      "└ @ Main C:\\Users\\Georg\\Documents\\projekte\\WiagDataSetup.jl\\src\\Domherr-GS.jl:971\n",
      "┌ Info: Restlich Domherren GS, auf die nicht verwiesen wird\n",
      "│   size(df_gs) = (7726, 1)\n",
      "└ @ Main C:\\Users\\Georg\\Documents\\projekte\\WiagDataSetup.jl\\src\\Domherr-GS.jl:990\n",
      "┌ Info: 10000\n",
      "└ @ WiagDataSetup C:\\Users\\Georg\\Documents\\projekte\\WiagDataSetup.jl\\src\\WiagDataSetup.jl:1193\n",
      "┌ Info: Rows inserted: 15898\n",
      "└ @ WiagDataSetup C:\\Users\\Georg\\Documents\\projekte\\WiagDataSetup.jl\\src\\WiagDataSetup.jl:1216\n"
     ]
    }
   ],
   "source": [
    "table = \"canon_lookup\"\n",
    "map_sources(table);"
   ]
  },
  {
   "cell_type": "code",
   "execution_count": 18,
   "metadata": {},
   "outputs": [
    {
     "data": {
      "text/plain": [
       "([\"person_id_name\", \"role_1\", \"role_2\", \"role_3\"], [\"ep_id\", \"gs_id\"])"
      ]
     },
     "execution_count": 18,
     "metadata": {},
     "output_type": "execute_result"
    }
   ],
   "source": [
    "names(df), names(df_ep_gs)"
   ]
  },
  {
   "cell_type": "code",
   "execution_count": null,
   "metadata": {},
   "outputs": [],
   "source": []
  },
  {
   "cell_type": "code",
   "execution_count": null,
   "metadata": {},
   "outputs": [],
   "source": []
  },
  {
   "cell_type": "code",
   "execution_count": null,
   "metadata": {},
   "outputs": [],
   "source": []
  }
 ],
 "metadata": {
  "kernelspec": {
   "display_name": "Julia 1.8.2",
   "language": "julia",
   "name": "julia-1.8"
  },
  "language_info": {
   "file_extension": ".jl",
   "mimetype": "application/julia",
   "name": "julia",
   "version": "1.8.2"
  }
 },
 "nbformat": 4,
 "nbformat_minor": 4
}
